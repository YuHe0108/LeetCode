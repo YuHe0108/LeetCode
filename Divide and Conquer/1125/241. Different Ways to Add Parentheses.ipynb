{
 "cells": [
  {
   "cell_type": "raw",
   "metadata": {},
   "source": [
    "    给定一个含有数字和运算符的字符串，为表达式添加括号，改变其运算优先级以求出不同的结果。\n",
    "    你需要给出所有可能的组合的结果。有效的运算符号包含 +, - 以及 * 。\n",
    "\n",
    "示例 1:\n",
    "    输入: \"2-1-1\"\n",
    "    输出: [0, 2]\n",
    "    解释: \n",
    "        ((2-1)-1) = 0 \n",
    "        (2-(1-1)) = 2\n",
    "\n",
    "示例 2:\n",
    "    输入: \"2*3-4*5\"\n",
    "    输出: [-34, -14, -10, -10, 10]\n",
    "    解释: \n",
    "        (2*(3-(4*5))) = -34 \n",
    "        ((2*3)-(4*5)) = -14 \n",
    "        ((2*(3-4))*5) = -10 \n",
    "        (2*((3-4)*5)) = -10 \n",
    "        (((2*3)-4)*5) = 10"
   ]
  },
  {
   "cell_type": "code",
   "execution_count": 29,
   "metadata": {},
   "outputs": [],
   "source": [
    "class Solution:\n",
    "    def diffWaysToCompute(self, inputs: str):\n",
    "        res, val1, val2 = [], [], []\n",
    "        for i in range(len(inputs)):\n",
    "            if inputs[i] not in {'+', '-', '*'}:\n",
    "                continue\n",
    "            val1 = self.diffWaysToCompute(inputs[:i])\n",
    "            val2 = self.diffWaysToCompute(inputs[i+1:])\n",
    "            for a in val1:\n",
    "                for b in val2:\n",
    "                    a, b = int(a), int(b)\n",
    "                    if inputs[i] == '+':\n",
    "                        res.append(a + b)\n",
    "                    elif inputs[i] == '-':\n",
    "                        res.append(a - b)\n",
    "                    elif inputs[i] == '*':\n",
    "                        res.append(a * b)\n",
    "        if not res:\n",
    "            res.append(str(inputs))\n",
    "        return res"
   ]
  },
  {
   "cell_type": "code",
   "execution_count": 30,
   "metadata": {},
   "outputs": [
    {
     "name": "stdout",
     "output_type": "stream",
     "text": [
      "['2']\n",
      "['3']\n",
      "['4']\n",
      "['5']\n",
      "[20]\n",
      "['3']\n",
      "['4']\n",
      "[-1]\n",
      "['5']\n",
      "[-17, -5]\n",
      "['2']\n",
      "['3']\n",
      "[6]\n",
      "['4']\n",
      "['5']\n",
      "[20]\n",
      "['2']\n",
      "['3']\n",
      "['4']\n",
      "[-1]\n",
      "['2']\n",
      "['3']\n",
      "[6]\n",
      "['4']\n",
      "[-2, 2]\n",
      "['5']\n",
      "[-34, -10, -14, -10, 10]\n"
     ]
    },
    {
     "data": {
      "text/plain": [
       "[-34, -10, -14, -10, 10]"
      ]
     },
     "execution_count": 30,
     "metadata": {},
     "output_type": "execute_result"
    }
   ],
   "source": [
    "solution = Solution()\n",
    "solution.diffWaysToCompute( \"2*3-4*5\")"
   ]
  },
  {
   "cell_type": "code",
   "execution_count": null,
   "metadata": {},
   "outputs": [],
   "source": []
  }
 ],
 "metadata": {
  "kernelspec": {
   "display_name": "Python 3",
   "language": "python",
   "name": "python3"
  },
  "language_info": {
   "codemirror_mode": {
    "name": "ipython",
    "version": 3
   },
   "file_extension": ".py",
   "mimetype": "text/x-python",
   "name": "python",
   "nbconvert_exporter": "python",
   "pygments_lexer": "ipython3",
   "version": "3.6.2"
  }
 },
 "nbformat": 4,
 "nbformat_minor": 4
}
