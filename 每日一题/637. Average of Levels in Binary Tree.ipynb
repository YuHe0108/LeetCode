{
 "cells": [
  {
   "cell_type": "code",
   "execution_count": null,
   "metadata": {},
   "outputs": [],
   "source": [
    "class Solution:\n",
    "    def averageOfLevels(self, root: TreeNode) -> List[float]:\n",
    "        res = []\n",
    "        nodes = deque()\n",
    "        nodes.append(root)\n",
    "        while nodes:\n",
    "            cur = 0\n",
    "            n = len(nodes)\n",
    "            for _ in range(n):\n",
    "                node = nodes.popleft()\n",
    "                if node:\n",
    "                    cur += node.val\n",
    "                    if node.left:\n",
    "                        nodes.append(node.left)\n",
    "                    if node.right:\n",
    "                        nodes.append(node.right)\n",
    "            res.append(cur/n)\n",
    "        return res"
   ]
  }
 ],
 "metadata": {
  "kernelspec": {
   "display_name": "Python 3",
   "language": "python",
   "name": "python3"
  },
  "language_info": {
   "codemirror_mode": {
    "name": "ipython",
    "version": 3
   },
   "file_extension": ".py",
   "mimetype": "text/x-python",
   "name": "python",
   "nbconvert_exporter": "python",
   "pygments_lexer": "ipython3",
   "version": "3.6.2"
  }
 },
 "nbformat": 4,
 "nbformat_minor": 4
}
