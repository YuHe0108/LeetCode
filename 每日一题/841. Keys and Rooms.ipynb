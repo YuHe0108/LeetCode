{
 "cells": [
  {
   "cell_type": "code",
   "execution_count": null,
   "metadata": {},
   "outputs": [],
   "source": [
    "class Solution:\n",
    "    def canVisitAllRooms(self, rooms: List[List[int]]) -> bool:\n",
    "        count = defaultdict(list)\n",
    "        for i, room in enumerate(rooms):\n",
    "            for key in room:\n",
    "                count[i].append(key)\n",
    "        \n",
    "        \n",
    "        start = deque(count[0])\n",
    "        seen = {0}\n",
    "        n = len(rooms)\n",
    "        while start:\n",
    "            for _ in range(len(start)):\n",
    "                key = start.popleft()\n",
    "                seen.add(key)\n",
    "                for nxt_key in count[key]:\n",
    "                    if nxt_key not in seen:\n",
    "                        start.append(nxt_key)\n",
    "        return len(seen) == n\n",
    "        "
   ]
  }
 ],
 "metadata": {
  "kernelspec": {
   "display_name": "Python 3",
   "language": "python",
   "name": "python3"
  },
  "language_info": {
   "codemirror_mode": {
    "name": "ipython",
    "version": 3
   },
   "file_extension": ".py",
   "mimetype": "text/x-python",
   "name": "python",
   "nbconvert_exporter": "python",
   "pygments_lexer": "ipython3",
   "version": "3.6.2"
  }
 },
 "nbformat": 4,
 "nbformat_minor": 4
}
