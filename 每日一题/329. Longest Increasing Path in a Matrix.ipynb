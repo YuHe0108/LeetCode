{
 "cells": [
  {
   "cell_type": "code",
   "execution_count": null,
   "metadata": {},
   "outputs": [],
   "source": []
  },
  {
   "cell_type": "code",
   "execution_count": null,
   "metadata": {},
   "outputs": [],
   "source": []
  },
  {
   "cell_type": "code",
   "execution_count": null,
   "metadata": {},
   "outputs": [],
   "source": []
  },
  {
   "cell_type": "code",
   "execution_count": 56,
   "metadata": {},
   "outputs": [],
   "source": [
    "from typing import List\n",
    "from collections import deque, defaultdict\n",
    "\n",
    "class Solution:\n",
    "    def longestIncreasingPath(self, matrix: List[List[int]]) -> int:\n",
    "        \n",
    "        def dfs(r, c):\n",
    "            cnt = 0\n",
    "            dq = deque()\n",
    "            dq.append([r, c, 1]) # 分别表示当前的所在位置，以及可以达到的最长长度\n",
    "            seen = defaultdict(int)\n",
    "            while dq:\n",
    "                x, y, n = dq.popleft()\n",
    "                if n < seen[(x, y)]:\n",
    "                    continue\n",
    "                cnt = max(cnt, n)\n",
    "                for nx, ny in (x+1, y), (x-1, y), (x, y+1), (x, y-1):\n",
    "                    if nx < 0 or ny < 0 or nx >= rows or ny >= cols:\n",
    "                        continue\n",
    "                    if matrix[nx][ny] <= matrix[x][y]: # 比当前的值小不能要\n",
    "                        continue\n",
    "                    seen[(nx, ny)] = n+1\n",
    "                    dq.append((nx, ny, n + 1))\n",
    "            record[(r, c)] = cnt\n",
    "            return cnt\n",
    "        \n",
    "        ans = 0\n",
    "        rows, cols = len(matrix), len(matrix[0])\n",
    "        record = {} # 探寻每一个点，记录从当前点开始能够达到的最长长度\n",
    "        for i in range(rows):\n",
    "            for j in range(cols):\n",
    "                ans = max(ans, dfs(i, j))\n",
    "        return ans"
   ]
  },
  {
   "cell_type": "code",
   "execution_count": null,
   "metadata": {},
   "outputs": [],
   "source": []
  },
  {
   "cell_type": "code",
   "execution_count": null,
   "metadata": {},
   "outputs": [],
   "source": [
    "from typing import List\n",
    "from collections import deque, defaultdict\n",
    "from functools import lru_cache\n",
    "\n",
    "class Solution:\n",
    "    def longestIncreasingPath(self, matrix: List[List[int]]) -> int:\n",
    "        \n",
    "        def dfs(r, c):\n",
    "            if (r, c) in record:\n",
    "                return record[(r, c)]\n",
    "            ans = 0\n",
    "            for nr, nc in (r+1, c), (r-1, c), (r, c+1), (r, c-1):\n",
    "                if nr < 0 or nc < 0 or nr >= rows or nc >= cols:\n",
    "                    continue\n",
    "                if matrix[nr][nc] <= matrix[r][c]: # 比当前的值小不能要\n",
    "                    continue\n",
    "                ans = max(ans, dfs(nr, nc))\n",
    "            record[(r, c)] = 1 + ans\n",
    "            return 1 + ans\n",
    "        \n",
    "        record = {}\n",
    "        rows, cols = len(matrix), len(matrix[0])\n",
    "        res = 0\n",
    "        for i in range(rows):\n",
    "            for j in range(cols):\n",
    "                res = max(res, dfs(i, j))\n",
    "        return res"
   ]
  },
  {
   "cell_type": "code",
   "execution_count": 62,
   "metadata": {},
   "outputs": [],
   "source": [
    "from typing import List\n",
    "from collections import deque, defaultdict\n",
    "from functools import lru_cache\n",
    "\n",
    "class Solution:\n",
    "    def longestIncreasingPath(self, matrix: List[List[int]]) -> int:\n",
    "        \n",
    "        @lru_cache(None)\n",
    "        def dfs(r, c):\n",
    "            ans = 0\n",
    "            for nr, nc in (r+1, c), (r-1, c), (r, c+1), (r, c-1):\n",
    "                if nr < 0 or nc < 0 or nr >= rows or nc >= cols:\n",
    "                    continue\n",
    "                if matrix[nr][nc] <= matrix[r][c]: # 比当前的值小不能要\n",
    "                    continue\n",
    "                ans = max(ans, dfs(nr, nc))\n",
    "            return 1 + ans\n",
    "        \n",
    "        rows, cols = len(matrix), len(matrix[0])\n",
    "        res = 0\n",
    "        for i in range(rows):\n",
    "            for j in range(cols):\n",
    "                res = max(res, dfs(i, j))\n",
    "        return res"
   ]
  },
  {
   "cell_type": "code",
   "execution_count": 63,
   "metadata": {},
   "outputs": [
    {
     "data": {
      "text/plain": [
       "6"
      ]
     },
     "execution_count": 63,
     "metadata": {},
     "output_type": "execute_result"
    }
   ],
   "source": [
    "solution = Solution()\n",
    "solution.longestIncreasingPath([[7,8,9],\n",
    "                                [9,7,6],\n",
    "                                [7,2,3]])"
   ]
  },
  {
   "cell_type": "code",
   "execution_count": 14,
   "metadata": {},
   "outputs": [],
   "source": [
    "dq = deque()\n",
    "dq.append([1, 2])"
   ]
  },
  {
   "cell_type": "code",
   "execution_count": 15,
   "metadata": {},
   "outputs": [
    {
     "data": {
      "text/plain": [
       "[1, 2]"
      ]
     },
     "execution_count": 15,
     "metadata": {},
     "output_type": "execute_result"
    }
   ],
   "source": [
    "dq.popleft()"
   ]
  },
  {
   "cell_type": "code",
   "execution_count": null,
   "metadata": {},
   "outputs": [],
   "source": [
    "[[7,8,9],\n",
    " [9,7,6],\n",
    " [7,2,3]]"
   ]
  }
 ],
 "metadata": {
  "kernelspec": {
   "display_name": "Python 3",
   "language": "python",
   "name": "python3"
  },
  "language_info": {
   "codemirror_mode": {
    "name": "ipython",
    "version": 3
   },
   "file_extension": ".py",
   "mimetype": "text/x-python",
   "name": "python",
   "nbconvert_exporter": "python",
   "pygments_lexer": "ipython3",
   "version": "3.6.2"
  }
 },
 "nbformat": 4,
 "nbformat_minor": 4
}
