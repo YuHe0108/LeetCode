{
 "cells": [
  {
   "cell_type": "code",
   "execution_count": null,
   "metadata": {},
   "outputs": [],
   "source": []
  },
  {
   "cell_type": "code",
   "execution_count": null,
   "metadata": {},
   "outputs": [],
   "source": []
  },
  {
   "cell_type": "code",
   "execution_count": null,
   "metadata": {},
   "outputs": [],
   "source": []
  },
  {
   "cell_type": "code",
   "execution_count": 48,
   "metadata": {},
   "outputs": [],
   "source": [
    "from typing import List\n",
    "from functools import lru_cache\n",
    "import copy\n",
    "\n",
    "class Solution:\n",
    "    def findMaxForm(self, strs: List[str], m: int, n: int) -> int:\n",
    "        \n",
    "        @lru_cache(None)\n",
    "        def count(item):\n",
    "            return item.count('1'), item.count('0')\n",
    "        \n",
    "        dp = [[-float('inf')] * (m+1) for _ in range(n+1)]\n",
    "        dp[0][0] = 0\n",
    "        counts = []\n",
    "        for item in strs:\n",
    "            counts.append(count(item))\n",
    "            \n",
    "        res = 0\n",
    "        for i in range(len(strs)):\n",
    "            o_c, z_c = counts[i]\n",
    "            temp = dp[:][:]\n",
    "            for i in range(n, -1, -1):\n",
    "                for j in range(m, -1, -1):\n",
    "                    if i == 0 and j == 0:\n",
    "                        continue\n",
    "                    if o_c > i or z_c > j:\n",
    "                        continue\n",
    "                    temp[i][j] = max(dp[i - o_c][j - z_c] + 1, temp[i][j])\n",
    "                    res = max(res, temp[i][j])\n",
    "            dp = temp\n",
    "        return res"
   ]
  },
  {
   "cell_type": "code",
   "execution_count": 49,
   "metadata": {},
   "outputs": [
    {
     "data": {
      "text/plain": [
       "2"
      ]
     },
     "execution_count": 49,
     "metadata": {},
     "output_type": "execute_result"
    }
   ],
   "source": [
    "solution = Solution()\n",
    "solution.findMaxForm([\"10\",\"0\",\"1\"], 1, 1)"
   ]
  },
  {
   "cell_type": "code",
   "execution_count": 11,
   "metadata": {},
   "outputs": [],
   "source": [
    "dp = [[-float('inf')] * (2+1) for _ in range(2)]"
   ]
  },
  {
   "cell_type": "code",
   "execution_count": 12,
   "metadata": {},
   "outputs": [
    {
     "data": {
      "text/plain": [
       "[[-inf, -inf, -inf], [-inf, -inf, -inf]]"
      ]
     },
     "execution_count": 12,
     "metadata": {},
     "output_type": "execute_result"
    }
   ],
   "source": [
    "dp"
   ]
  },
  {
   "cell_type": "code",
   "execution_count": null,
   "metadata": {},
   "outputs": [],
   "source": []
  }
 ],
 "metadata": {
  "kernelspec": {
   "display_name": "Python 3",
   "language": "python",
   "name": "python3"
  },
  "language_info": {
   "codemirror_mode": {
    "name": "ipython",
    "version": 3
   },
   "file_extension": ".py",
   "mimetype": "text/x-python",
   "name": "python",
   "nbconvert_exporter": "python",
   "pygments_lexer": "ipython3",
   "version": "3.6.2"
  }
 },
 "nbformat": 4,
 "nbformat_minor": 4
}
