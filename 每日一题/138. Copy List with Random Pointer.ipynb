{
 "cells": [
  {
   "cell_type": "code",
   "execution_count": null,
   "metadata": {},
   "outputs": [],
   "source": [
    "\"\"\"\n",
    "# Definition for a Node.\n",
    "class Node:\n",
    "    def __init__(self, x: int, next: 'Node' = None, random: 'Node' = None):\n",
    "        self.val = int(x)\n",
    "        self.next = next\n",
    "        self.random = random\n",
    "\"\"\"\n",
    "\n",
    "class Solution:\n",
    "    visitedDict = {}\n",
    "    def copyRandomList(self, head: 'Node') -> 'Node':\n",
    "        if not head:\n",
    "            return head\n",
    "        if head in self.visitedDict:\n",
    "            new_node = self.visitedDict[head]\n",
    "            return new_node\n",
    "        else:\n",
    "            new_node = Node(head.val, None, None)\n",
    "            self.visitedDict[head] = new_node\n",
    "            new_node.next = self.copyRandomList(head.next)\n",
    "            new_node.random = self.copyRandomList(head.random)\n",
    "            return new_node        "
   ]
  },
  {
   "cell_type": "code",
   "execution_count": null,
   "metadata": {},
   "outputs": [],
   "source": []
  },
  {
   "cell_type": "code",
   "execution_count": 2,
   "metadata": {},
   "outputs": [],
   "source": [
    "a = [1, 2, 3]"
   ]
  },
  {
   "cell_type": "code",
   "execution_count": 6,
   "metadata": {},
   "outputs": [],
   "source": [
    "a[0:2] = [9]"
   ]
  },
  {
   "cell_type": "code",
   "execution_count": 7,
   "metadata": {},
   "outputs": [
    {
     "data": {
      "text/plain": [
       "[9, 3]"
      ]
     },
     "execution_count": 7,
     "metadata": {},
     "output_type": "execute_result"
    }
   ],
   "source": [
    "a"
   ]
  },
  {
   "cell_type": "code",
   "execution_count": null,
   "metadata": {},
   "outputs": [],
   "source": [
    "class Solution:\n",
    "    def copyRandomList(self, head: 'Node') -> 'Node':\n",
    "        nodes = {}\n",
    "        dummy = head\n",
    "        while dummy:\n",
    "            # 旧节点为 key， 新节点为 Node(dummy.val)\n",
    "            nodes[dummy] = Node(dummy.val)\n",
    "            dummy = dummy.next\n",
    "        \n",
    "        dummy = head\n",
    "        res = root = Node(0)\n",
    "        while dummy:\n",
    "            root.next = nodes[dummy]\n",
    "            if dummy.random is not None:\n",
    "                root.next.random = nodes[dummy.random]\n",
    "            root = root.next\n",
    "            dummy = dummy.next\n",
    "        return res.next"
   ]
  }
 ],
 "metadata": {
  "kernelspec": {
   "display_name": "Python 3",
   "language": "python",
   "name": "python3"
  },
  "language_info": {
   "codemirror_mode": {
    "name": "ipython",
    "version": 3
   },
   "file_extension": ".py",
   "mimetype": "text/x-python",
   "name": "python",
   "nbconvert_exporter": "python",
   "pygments_lexer": "ipython3",
   "version": "3.6.2"
  }
 },
 "nbformat": 4,
 "nbformat_minor": 4
}
