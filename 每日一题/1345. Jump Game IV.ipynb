{
 "cells": [
  {
   "cell_type": "markdown",
   "metadata": {},
   "source": [
    "### BFS"
   ]
  },
  {
   "cell_type": "code",
   "execution_count": 24,
   "metadata": {},
   "outputs": [],
   "source": [
    "from collections import defaultdict, deque\n",
    "\n",
    "class Solution:\n",
    "    def minJumps(self, arr):\n",
    "        if len(arr) == len(set(arr)): # 所有数字都不一样，只能一个一个往前跳\n",
    "            return len(arr) - 1\n",
    "        # 相同的数字，记录下对应位置的坐标\n",
    "        count = defaultdict(list)\n",
    "        for i, n in enumerate(arr):\n",
    "            count[n].append(i)\n",
    "        \n",
    "        dq = deque([[0, 0]]) # 下标为 0 的位置\n",
    "        seen = set()\n",
    "        while dq:\n",
    "            for _ in range(len(dq)):\n",
    "                idx, cnt = dq.popleft()\n",
    "                seen.add(idx)\n",
    "                \n",
    "                if idx == len(arr)-1:\n",
    "                    return cnt\n",
    "                \n",
    "                if idx - 1 >= 0:\n",
    "                    dq.append((idx-1, cnt + 1))\n",
    "                if idx + 1 < len(arr):\n",
    "                    dq.append((idx+1, cnt + 1))\n",
    "                    \n",
    "                if arr[idx] in count:\n",
    "                    for nxt_idx in count[arr[idx]]:\n",
    "                        if nxt_idx in seen:\n",
    "                            continue\n",
    "                        dq.append((nxt_idx, cnt + 1))\n",
    "                    del count[arr[idx]]\n",
    "                \n",
    "        return -1"
   ]
  },
  {
   "cell_type": "code",
   "execution_count": 25,
   "metadata": {},
   "outputs": [
    {
     "data": {
      "text/plain": [
       "3"
      ]
     },
     "execution_count": 25,
     "metadata": {},
     "output_type": "execute_result"
    }
   ],
   "source": [
    "solution = Solution()\n",
    "solution.minJumps(arr = [100,-23,-23,404,100,23,23,23,3,404])"
   ]
  },
  {
   "cell_type": "code",
   "execution_count": null,
   "metadata": {},
   "outputs": [],
   "source": []
  }
 ],
 "metadata": {
  "kernelspec": {
   "display_name": "Python 3",
   "language": "python",
   "name": "python3"
  },
  "language_info": {
   "codemirror_mode": {
    "name": "ipython",
    "version": 3
   },
   "file_extension": ".py",
   "mimetype": "text/x-python",
   "name": "python",
   "nbconvert_exporter": "python",
   "pygments_lexer": "ipython3",
   "version": "3.6.2"
  }
 },
 "nbformat": 4,
 "nbformat_minor": 4
}
