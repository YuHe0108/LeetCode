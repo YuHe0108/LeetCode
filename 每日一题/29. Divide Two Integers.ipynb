{
 "cells": [
  {
   "cell_type": "code",
   "execution_count": 2,
   "metadata": {},
   "outputs": [
    {
     "data": {
      "text/plain": [
       "-2"
      ]
     },
     "execution_count": 2,
     "metadata": {},
     "output_type": "execute_result"
    }
   ],
   "source": [
    "int(7/-3)"
   ]
  },
  {
   "cell_type": "code",
   "execution_count": null,
   "metadata": {},
   "outputs": [],
   "source": [
    "class Solution:\n",
    "    def divide(self, dividend: int, divisor: int) -> int:\n",
    "        sign = (dividend > 0) ^ (divisor > 0)\n",
    "        dividend = abs(dividend)\n",
    "        divisor = abs(divisor)\n",
    "        count = 0\n",
    "        #把除数不断左移，直到它大于被除数\n",
    "        while dividend >= divisor:\n",
    "            count += 1\n",
    "            divisor <<= 1\n",
    "        result = 0\n",
    "        while count > 0:\n",
    "            count -= 1\n",
    "            divisor >>= 1\n",
    "            if divisor <= dividend:\n",
    "                result += 1 << count #这里的移位运算是把二进制（第count+1位上的1）转换为十进制\n",
    "                dividend -= divisor\n",
    "        if sign: result = -result\n",
    "        return result if -(1<<31) <= result <= (1<<31)-1 else (1<<31)-1 \n"
   ]
  }
 ],
 "metadata": {
  "kernelspec": {
   "display_name": "Python 3",
   "language": "python",
   "name": "python3"
  },
  "language_info": {
   "codemirror_mode": {
    "name": "ipython",
    "version": 3
   },
   "file_extension": ".py",
   "mimetype": "text/x-python",
   "name": "python",
   "nbconvert_exporter": "python",
   "pygments_lexer": "ipython3",
   "version": "3.6.2"
  }
 },
 "nbformat": 4,
 "nbformat_minor": 4
}
