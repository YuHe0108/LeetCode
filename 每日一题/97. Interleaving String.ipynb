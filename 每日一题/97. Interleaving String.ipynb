{
 "cells": [
  {
   "cell_type": "code",
   "execution_count": null,
   "metadata": {},
   "outputs": [],
   "source": []
  },
  {
   "cell_type": "code",
   "execution_count": null,
   "metadata": {},
   "outputs": [],
   "source": []
  },
  {
   "cell_type": "code",
   "execution_count": null,
   "metadata": {},
   "outputs": [],
   "source": []
  },
  {
   "cell_type": "code",
   "execution_count": 12,
   "metadata": {},
   "outputs": [],
   "source": [
    "class Solution:\n",
    "    def isInterleave(self, s1: str, s2: str, s3: str) -> bool:\n",
    "        if sorted(s1 + s2) != sorted(s3):\n",
    "            return False\n",
    "        \n",
    "        n1, n2 = len(s1), len(s2)\n",
    "        s1, s2, s3 = '#' + s1, '#' + s2, '#' + s3\n",
    "        dp = [[False] * (n2 + 1) for _ in range(n1 + 1)]\n",
    "        dp[0][0] = True\n",
    "        for i in range(1, n1+1):\n",
    "            if s1[i] == s3[i]:\n",
    "                dp[i][0] = dp[i-1][0]\n",
    "        for j in range(1, n2+1):\n",
    "            if s2[j] == s3[j]:\n",
    "                dp[0][j] = dp[0][j-1]\n",
    "        \n",
    "        for i in range(1, n1+1):\n",
    "            for j in range(1, n2+1):\n",
    "                if s3[i+j] == s1[i]:\n",
    "                    dp[i][j] = dp[i-1][j]\n",
    "                if s3[i+j] == s2[j]:\n",
    "                    dp[i][j] = dp[i][j-1] or dp[i][j]\n",
    "                    \n",
    "        return dp[-1][-1]"
   ]
  },
  {
   "cell_type": "code",
   "execution_count": 13,
   "metadata": {},
   "outputs": [
    {
     "data": {
      "text/plain": [
       "True"
      ]
     },
     "execution_count": 13,
     "metadata": {},
     "output_type": "execute_result"
    }
   ],
   "source": [
    "solution = Solution()\n",
    "solution.isInterleave(s1 = \"aabcc\", s2 = \"dbbca\", s3 = \"aadbbcbcac\")"
   ]
  },
  {
   "cell_type": "code",
   "execution_count": null,
   "metadata": {},
   "outputs": [],
   "source": []
  }
 ],
 "metadata": {
  "kernelspec": {
   "display_name": "Python 3",
   "language": "python",
   "name": "python3"
  },
  "language_info": {
   "codemirror_mode": {
    "name": "ipython",
    "version": 3
   },
   "file_extension": ".py",
   "mimetype": "text/x-python",
   "name": "python",
   "nbconvert_exporter": "python",
   "pygments_lexer": "ipython3",
   "version": "3.6.2"
  }
 },
 "nbformat": 4,
 "nbformat_minor": 4
}
