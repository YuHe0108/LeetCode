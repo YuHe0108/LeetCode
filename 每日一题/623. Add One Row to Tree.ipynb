{
 "cells": [
  {
   "cell_type": "code",
   "execution_count": null,
   "metadata": {},
   "outputs": [],
   "source": []
  },
  {
   "cell_type": "code",
   "execution_count": null,
   "metadata": {},
   "outputs": [],
   "source": []
  },
  {
   "cell_type": "code",
   "execution_count": null,
   "metadata": {},
   "outputs": [],
   "source": []
  },
  {
   "cell_type": "code",
   "execution_count": null,
   "metadata": {},
   "outputs": [],
   "source": []
  },
  {
   "cell_type": "code",
   "execution_count": null,
   "metadata": {},
   "outputs": [],
   "source": []
  },
  {
   "cell_type": "code",
   "execution_count": null,
   "metadata": {},
   "outputs": [],
   "source": []
  },
  {
   "cell_type": "code",
   "execution_count": 2,
   "metadata": {},
   "outputs": [],
   "source": [
    "# Definition for a binary tree node.\n",
    "class TreeNode:\n",
    "    def __init__(self, x):\n",
    "        self.val = x\n",
    "        self.left = None\n",
    "        self.right = None\n",
    "\n",
    "class Solution:\n",
    "    def addOneRow(self, root: TreeNode, v: int, d: int) -> TreeNode:\n",
    "        if d == 1:\n",
    "            node = TreeNode(v)\n",
    "            node.left = root\n",
    "            return node\n",
    "        \n",
    "        nodes = deque([root])\n",
    "        for _ in range(d-2):\n",
    "            for _ in range(len(nodes)):\n",
    "                node = nodes.popleft()\n",
    "                if node.left:\n",
    "                    nodes.append(node.left)\n",
    "                if node.right:\n",
    "                    nodes.append(node.right)\n",
    "        \n",
    "        for node in nodes:\n",
    "            pre_left = node.left\n",
    "            pre_right = node.right\n",
    "            node.left = TreeNode(v, pre_left)\n",
    "            node.right = TreeNode(v, None, pre_right)\n",
    "        return root"
   ]
  },
  {
   "cell_type": "code",
   "execution_count": null,
   "metadata": {},
   "outputs": [],
   "source": [
    "class Solution:\n",
    "    def addOneRow(self, root: TreeNode, v: int, d: int) -> TreeNode:\n",
    "        if d == 1:\n",
    "            r = TreeNode(v)\n",
    "            r.left = root\n",
    "            return r\n",
    "        \n",
    "        def f(r, i):\n",
    "            if r:\n",
    "                if i == d-1:\n",
    "                    t = TreeNode(v)\n",
    "                    t.left = r.left\n",
    "                    r.left = t\n",
    "                    t = TreeNode(v) \n",
    "                    t.right = r.right\n",
    "                    r.right = t\n",
    "                else:\n",
    "                    f(r.left, i + 1)\n",
    "                    f(r.right, i + 1)\n",
    "        f(root, 1)\n",
    "        return root"
   ]
  }
 ],
 "metadata": {
  "kernelspec": {
   "display_name": "Python 3",
   "language": "python",
   "name": "python3"
  },
  "language_info": {
   "codemirror_mode": {
    "name": "ipython",
    "version": 3
   },
   "file_extension": ".py",
   "mimetype": "text/x-python",
   "name": "python",
   "nbconvert_exporter": "python",
   "pygments_lexer": "ipython3",
   "version": "3.6.2"
  }
 },
 "nbformat": 4,
 "nbformat_minor": 4
}
