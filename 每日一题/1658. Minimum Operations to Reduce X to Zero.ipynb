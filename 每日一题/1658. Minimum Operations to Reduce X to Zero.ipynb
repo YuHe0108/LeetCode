{
 "cells": [
  {
   "cell_type": "code",
   "execution_count": null,
   "metadata": {},
   "outputs": [],
   "source": []
  },
  {
   "cell_type": "code",
   "execution_count": null,
   "metadata": {},
   "outputs": [],
   "source": []
  },
  {
   "cell_type": "code",
   "execution_count": null,
   "metadata": {},
   "outputs": [],
   "source": []
  },
  {
   "cell_type": "code",
   "execution_count": 69,
   "metadata": {},
   "outputs": [],
   "source": [
    "from typing import List\n",
    "\n",
    "class Solution:\n",
    "    def minOperations(self, nums: List[int], x: int) -> int:\n",
    "        S = sum(nums)\n",
    "        if x > S:\n",
    "            return -1\n",
    "        res = -float('inf')\n",
    "        left = 0\n",
    "        cur = 0\n",
    "        for i, n in enumerate(nums):\n",
    "            cur += n\n",
    "            while cur > S - x:\n",
    "                cur -= nums[left] \n",
    "                left += 1\n",
    "            if cur == S - x:\n",
    "                res = max(res, i - left + 1)\n",
    "        if res == -float('inf'):\n",
    "            return -1\n",
    "        return len(nums)-res"
   ]
  },
  {
   "cell_type": "code",
   "execution_count": 70,
   "metadata": {},
   "outputs": [
    {
     "data": {
      "text/plain": [
       "-1"
      ]
     },
     "execution_count": 70,
     "metadata": {},
     "output_type": "execute_result"
    }
   ],
   "source": [
    "solution = Solution()\n",
    "solution.minOperations(nums = [5,6,7,8,9], x = 4)"
   ]
  },
  {
   "cell_type": "code",
   "execution_count": null,
   "metadata": {},
   "outputs": [],
   "source": []
  },
  {
   "cell_type": "code",
   "execution_count": 3,
   "metadata": {},
   "outputs": [],
   "source": [
    "# 问题的转换，这个问题可以转换为求中间的sub_arry, 这个sub_arry要尽肯能的长，并且值 == sum - x\n",
    "# [1,1,4,2,3]"
   ]
  },
  {
   "cell_type": "code",
   "execution_count": null,
   "metadata": {},
   "outputs": [],
   "source": []
  }
 ],
 "metadata": {
  "kernelspec": {
   "display_name": "Python 3",
   "language": "python",
   "name": "python3"
  },
  "language_info": {
   "codemirror_mode": {
    "name": "ipython",
    "version": 3
   },
   "file_extension": ".py",
   "mimetype": "text/x-python",
   "name": "python",
   "nbconvert_exporter": "python",
   "pygments_lexer": "ipython3",
   "version": "3.6.2"
  }
 },
 "nbformat": 4,
 "nbformat_minor": 4
}
