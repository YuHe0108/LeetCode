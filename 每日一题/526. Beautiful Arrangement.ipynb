{
 "cells": [
  {
   "cell_type": "code",
   "execution_count": null,
   "metadata": {},
   "outputs": [],
   "source": []
  },
  {
   "cell_type": "code",
   "execution_count": null,
   "metadata": {},
   "outputs": [],
   "source": []
  },
  {
   "cell_type": "code",
   "execution_count": 3,
   "metadata": {},
   "outputs": [],
   "source": [
    "class Solution:\n",
    "    def countArrangement(self, n: int) -> int:\n",
    "        def dfs(nums, path, idx):\n",
    "            # 其中idx表示已经遍历到第几个下标了\n",
    "            nonlocal cnt\n",
    "            if idx == n + 1:\n",
    "                cnt += 1\n",
    "                return\n",
    "            \n",
    "            for i, val in enumerate(nums):\n",
    "                if val % idx == 0 or idx % val == 0:\n",
    "                    path.append(val)\n",
    "                    dfs(nums[:i] + nums[i+1:], path, idx+1)\n",
    "                    path.pop()\n",
    "            return\n",
    "        \n",
    "        if n == 1:\n",
    "            return 1\n",
    "        cnt = 0\n",
    "        dfs([x for x in range(1, n+1)], [], 1)\n",
    "        return cnt"
   ]
  },
  {
   "cell_type": "code",
   "execution_count": 5,
   "metadata": {},
   "outputs": [
    {
     "data": {
      "text/plain": [
       "24679"
      ]
     },
     "execution_count": 5,
     "metadata": {},
     "output_type": "execute_result"
    }
   ],
   "source": [
    "solution = Solution()\n",
    "solution.countArrangement(15)"
   ]
  },
  {
   "cell_type": "code",
   "execution_count": null,
   "metadata": {},
   "outputs": [],
   "source": []
  }
 ],
 "metadata": {
  "kernelspec": {
   "display_name": "Python 3",
   "language": "python",
   "name": "python3"
  },
  "language_info": {
   "codemirror_mode": {
    "name": "ipython",
    "version": 3
   },
   "file_extension": ".py",
   "mimetype": "text/x-python",
   "name": "python",
   "nbconvert_exporter": "python",
   "pygments_lexer": "ipython3",
   "version": "3.6.2"
  }
 },
 "nbformat": 4,
 "nbformat_minor": 4
}
