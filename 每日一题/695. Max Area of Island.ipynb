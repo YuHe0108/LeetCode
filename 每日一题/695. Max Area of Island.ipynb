{
 "cells": [
  {
   "cell_type": "code",
   "execution_count": null,
   "metadata": {},
   "outputs": [],
   "source": [
    "class Solution:\n",
    "    def maxAreaOfIsland(self, grid: List[List[int]]) -> int:\n",
    "        \n",
    "        def bfs(x, y):\n",
    "            stack = [(x, y)]\n",
    "            cnt = 0\n",
    "            seen = set()\n",
    "            while stack:\n",
    "                cnt += 1\n",
    "                i, j = stack.pop()\n",
    "                seen.add((i, j))\n",
    "                for ni, nj in (i+1, j), (i-1, j), (i, j+1), (i, j-1):\n",
    "                    if ni < 0 or nj < 0 or ni >= rows or nj >= cols:\n",
    "                        continue\n",
    "                    if grid[ni][nj] == 0:\n",
    "                        continue\n",
    "                    if (ni, nj) in seen:\n",
    "                        continue\n",
    "                    seen.add((ni, nj))\n",
    "                    grid[ni][nj] = 0\n",
    "                    stack.append((ni, nj))\n",
    "            return cnt\n",
    "        \n",
    "        ans = 0\n",
    "        rows, cols = len(grid), len(grid[0])\n",
    "        for i in range(rows):\n",
    "            for j in range(cols):\n",
    "                if grid[i][j] == 0:\n",
    "                    continue\n",
    "                ans = max(ans, bfs(i, j))\n",
    "        return ans"
   ]
  }
 ],
 "metadata": {
  "kernelspec": {
   "display_name": "Python 3",
   "language": "python",
   "name": "python3"
  },
  "language_info": {
   "codemirror_mode": {
    "name": "ipython",
    "version": 3
   },
   "file_extension": ".py",
   "mimetype": "text/x-python",
   "name": "python",
   "nbconvert_exporter": "python",
   "pygments_lexer": "ipython3",
   "version": "3.6.2"
  }
 },
 "nbformat": 4,
 "nbformat_minor": 4
}
