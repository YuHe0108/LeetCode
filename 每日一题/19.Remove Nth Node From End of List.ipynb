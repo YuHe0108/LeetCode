{
 "cells": [
  {
   "cell_type": "code",
   "execution_count": null,
   "metadata": {},
   "outputs": [],
   "source": []
  },
  {
   "cell_type": "raw",
   "metadata": {},
   "source": [
    "快慢指针的想法：\n",
    "    1、快指针先走 n 步，此时慢指针在 头节点，那么快慢节点一定始终相差 n 个距离\n",
    "    2、最后快节点走到末尾的时候，慢指针正好在倒数 n之前的一个节点 的位置"
   ]
  },
  {
   "cell_type": "code",
   "execution_count": 1,
   "metadata": {},
   "outputs": [],
   "source": [
    "class ListNode:\n",
    "    def __init__(self, x):\n",
    "        self.val = x\n",
    "        self.next = None\n",
    "\n",
    "class Solution:\n",
    "    def removeNthFromEnd(self, head: ListNode, n: int) -> ListNode:\n",
    "        slow = res = ListNode()\n",
    "        slow.next = head # 原始链表前多了一个 空 节点\n",
    "        \n",
    "        fast = slow # 快指针先走了 n 步\n",
    "        for _ in range(n):\n",
    "            fast = fast.next\n",
    "        \n",
    "        while fast.next: # 这个时候fast走到了末尾\n",
    "            fast = fast.next\n",
    "            slow = slow.next\n",
    "        \n",
    "        if slow.next == head: # 删除的就是头节点\n",
    "            head = head.next\n",
    "        else:\n",
    "            slow.next = slow.next.next\n",
    "        return head"
   ]
  },
  {
   "cell_type": "code",
   "execution_count": null,
   "metadata": {},
   "outputs": [],
   "source": []
  },
  {
   "cell_type": "code",
   "execution_count": null,
   "metadata": {},
   "outputs": [],
   "source": []
  }
 ],
 "metadata": {
  "kernelspec": {
   "display_name": "Python 3",
   "language": "python",
   "name": "python3"
  },
  "language_info": {
   "codemirror_mode": {
    "name": "ipython",
    "version": 3
   },
   "file_extension": ".py",
   "mimetype": "text/x-python",
   "name": "python",
   "nbconvert_exporter": "python",
   "pygments_lexer": "ipython3",
   "version": "3.6.2"
  }
 },
 "nbformat": 4,
 "nbformat_minor": 4
}
