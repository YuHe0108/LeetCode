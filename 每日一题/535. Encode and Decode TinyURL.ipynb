{
 "cells": [
  {
   "cell_type": "code",
   "execution_count": null,
   "metadata": {},
   "outputs": [],
   "source": [
    "# 采用随机数生成的方法：26个小写 + 26 个大写 + 10个数字\n",
    "import random\n",
    "\n",
    "class Codec:\n",
    "    def __init__(self):\n",
    "        self.short_to_long = {} # 短的 URL --> 原始大小的 URL\n",
    "        self.vals = 'abcdefghijklmnopqistuvwxyzABCDEFGHIJKLMNOPQISTUVWXYZ0123456789' # 长度为 62\n",
    "    \n",
    "    def encode(self, longUrl: str) -> str:\n",
    "        \"\"\"Encodes a URL to a shortened URL.\n",
    "        \"\"\"\n",
    "        while True:\n",
    "            codes = '' # 使用 7 个随机数编码\n",
    "            for i in range(7):\n",
    "                codes += self.vals[random.randint(0, 61)]\n",
    "            if codes not in self.short_to_long:\n",
    "                break\n",
    "        \n",
    "        self.short_to_long[codes] = longUrl\n",
    "        return codes\n",
    "\n",
    "    def decode(self, shortUrl: str) -> str:\n",
    "        \"\"\"Decodes a shortened URL to its original URL.\n",
    "        \"\"\"\n",
    "        return self.short_to_long[shortUrl]"
   ]
  }
 ],
 "metadata": {
  "kernelspec": {
   "display_name": "Python 3",
   "language": "python",
   "name": "python3"
  },
  "language_info": {
   "codemirror_mode": {
    "name": "ipython",
    "version": 3
   },
   "file_extension": ".py",
   "mimetype": "text/x-python",
   "name": "python",
   "nbconvert_exporter": "python",
   "pygments_lexer": "ipython3",
   "version": "3.6.2"
  }
 },
 "nbformat": 4,
 "nbformat_minor": 4
}
