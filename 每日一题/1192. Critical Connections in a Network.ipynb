{
 "cells": [
  {
   "cell_type": "code",
   "execution_count": null,
   "metadata": {},
   "outputs": [],
   "source": []
  },
  {
   "cell_type": "code",
   "execution_count": null,
   "metadata": {},
   "outputs": [],
   "source": []
  },
  {
   "cell_type": "code",
   "execution_count": null,
   "metadata": {},
   "outputs": [],
   "source": []
  },
  {
   "cell_type": "code",
   "execution_count": 18,
   "metadata": {},
   "outputs": [],
   "source": [
    "from typing import List\n",
    "from collections import defaultdict, deque\n",
    "\n",
    "class Solution:\n",
    "    def criticalConnections(self, n: int, connections: List[List[int]]) -> List[List[int]]:\n",
    "        # connections：找到闭环，闭环外的 连接段 为答案\n",
    "        # 环：从当前节点走，如果最终可以回到当前节点，那么当天的路一定是在环中，不符合要求\n",
    "        \n",
    "        def dfs(cur, par, pre_label):\n",
    "            if labels[cur] >= 0:\n",
    "                return labels[cur] # 当前的这个节点已经看过了\n",
    "            \n",
    "            labels[cur] = pre_label + 1 # 没有看过的节点，赋值\n",
    "            min_label = float('inf') # 最小的节点是哪个\n",
    "            \n",
    "            for v in graph[cur]:\n",
    "                if v == par:\n",
    "                    continue\n",
    "                \n",
    "                recursivel_label = dfs(v, cur, labels[cur])\n",
    "                # 如果  labels[cur] >= recursivel_label, 说明之前这个点已经看过了\n",
    "                # 因为遍历节点是 从小到大进行遍历的，如果遇到的节点值比\n",
    "                if labels[cur] >= recursivel_label: # 移除 circle 中的边\n",
    "                    print(cur+1, v+1, recursivel_label)\n",
    "                    ans.remove((min(cur, v), max(cur, v)))\n",
    "                min_label = min(min_label, recursivel_label)\n",
    "                \n",
    "            return min_label\n",
    "        \n",
    "        graph = defaultdict(list) # 构建图\n",
    "        ans = set() # 答案\n",
    "        for s, e in connections:\n",
    "            graph[s].append(e)\n",
    "            graph[e].append(s)\n",
    "            ans.add((min(s, e), max(s, e)))\n",
    "        \n",
    "        labels = [-1] * n\n",
    "        dfs(0, -1, 0)\n",
    "        return ans"
   ]
  },
  {
   "cell_type": "code",
   "execution_count": null,
   "metadata": {},
   "outputs": [],
   "source": []
  },
  {
   "cell_type": "code",
   "execution_count": null,
   "metadata": {},
   "outputs": [],
   "source": []
  },
  {
   "cell_type": "code",
   "execution_count": null,
   "metadata": {},
   "outputs": [],
   "source": []
  },
  {
   "cell_type": "code",
   "execution_count": 28,
   "metadata": {},
   "outputs": [],
   "source": [
    "from typing import List\n",
    "from collections import defaultdict, deque\n",
    "\n",
    "class Solution:\n",
    "    def criticalConnections(self, n: int, connections: List[List[int]]) -> List[List[int]]:\n",
    "        \n",
    "        def dfs(cur, par, id_num):\n",
    "            if ids[cur] != -1: # 这个节点已经看过了\n",
    "                return ids[cur]\n",
    "            \n",
    "            ids[cur] = id_num + 1\n",
    "            min_label = float('inf')\n",
    "            for nxt in graph[cur]:\n",
    "                if nxt == par:\n",
    "                    continue\n",
    "                outs = dfs(nxt, cur, ids[cur])\n",
    "                if outs <= ids[cur]:\n",
    "                    res.remove((min(nxt, cur), max(nxt, cur)))\n",
    "                min_label = min(min_label, outs)\n",
    "            return min_label\n",
    "            \n",
    "        ids = [-1] * n # 每个节点的 id 值\n",
    "        graph = defaultdict(list)\n",
    "        res = set()\n",
    "        for a, b in connections:\n",
    "            graph[a].append(b)\n",
    "            graph[b].append(a)\n",
    "            res.add((min(a, b), max(a, b)))\n",
    "        dfs(0, -1, 0)\n",
    "        return list(res)"
   ]
  },
  {
   "cell_type": "code",
   "execution_count": 29,
   "metadata": {},
   "outputs": [
    {
     "data": {
      "text/plain": [
       "[(1, 3)]"
      ]
     },
     "execution_count": 29,
     "metadata": {},
     "output_type": "execute_result"
    }
   ],
   "source": [
    "solution = Solution()\n",
    "solution.criticalConnections(n = 4, connections = [[0,1],[1,2],[2,0],[1,3]])"
   ]
  },
  {
   "cell_type": "code",
   "execution_count": null,
   "metadata": {},
   "outputs": [],
   "source": [
    "0 -> 1\n",
    "|    |\n",
    "3 <- 2"
   ]
  }
 ],
 "metadata": {
  "kernelspec": {
   "display_name": "Python 3",
   "language": "python",
   "name": "python3"
  },
  "language_info": {
   "codemirror_mode": {
    "name": "ipython",
    "version": 3
   },
   "file_extension": ".py",
   "mimetype": "text/x-python",
   "name": "python",
   "nbconvert_exporter": "python",
   "pygments_lexer": "ipython3",
   "version": "3.6.2"
  }
 },
 "nbformat": 4,
 "nbformat_minor": 4
}
