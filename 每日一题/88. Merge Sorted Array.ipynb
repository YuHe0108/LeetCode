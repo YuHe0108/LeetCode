{
 "cells": [
  {
   "cell_type": "code",
   "execution_count": null,
   "metadata": {},
   "outputs": [],
   "source": [
    "class Solution:\n",
    "    def merge(self, nums1: List[int], m: int, nums2: List[int], n: int) -> None:\n",
    "        \"\"\"\n",
    "        Do not return anything, modify nums1 in-place instead.\n",
    "        \"\"\"\n",
    "        idx1 = m-1 # nums1、nums2的有效元素最后一个元素\n",
    "        idx2 = n-1\n",
    "        idx3 = m+n-1 # nums1的最后一个元素，有可能是无效值\n",
    "        while idx1 >= 0 and idx2 >= 0:\n",
    "            if nums1[idx1] > nums2[idx2]:\n",
    "                # 此时num1的最后一位有效元素在两个数组中是最大的，因此放在最后一位\n",
    "                nums1[idx3] = nums1[idx1] \n",
    "                idx1 -= 1\n",
    "            else:\n",
    "                nums1[idx3] = nums2[idx2]\n",
    "                idx2 -= 1\n",
    "            idx3 -= 1   \n",
    "        \n",
    "        while idx2 >= 0:\n",
    "            nums1[idx3] = nums2[idx2]\n",
    "            idx3 -= 1\n",
    "            idx2 -= 1"
   ]
  }
 ],
 "metadata": {
  "kernelspec": {
   "display_name": "Python 3",
   "language": "python",
   "name": "python3"
  },
  "language_info": {
   "codemirror_mode": {
    "name": "ipython",
    "version": 3
   },
   "file_extension": ".py",
   "mimetype": "text/x-python",
   "name": "python",
   "nbconvert_exporter": "python",
   "pygments_lexer": "ipython3",
   "version": "3.6.2"
  }
 },
 "nbformat": 4,
 "nbformat_minor": 4
}
