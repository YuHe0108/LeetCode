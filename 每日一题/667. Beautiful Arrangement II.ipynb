{
 "cells": [
  {
   "cell_type": "code",
   "execution_count": null,
   "metadata": {},
   "outputs": [],
   "source": []
  },
  {
   "cell_type": "code",
   "execution_count": null,
   "metadata": {},
   "outputs": [],
   "source": []
  },
  {
   "cell_type": "code",
   "execution_count": null,
   "metadata": {},
   "outputs": [],
   "source": []
  },
  {
   "cell_type": "code",
   "execution_count": null,
   "metadata": {},
   "outputs": [],
   "source": []
  },
  {
   "cell_type": "code",
   "execution_count": null,
   "metadata": {},
   "outputs": [],
   "source": [
    "class Solution:\n",
    "    def constructArray(self, n: int, k: int) -> List[int]:\n",
    "        res = [1]\n",
    "        vals = deque([x for x in range(2, n+1)])\n",
    "        for i in range(k-1):\n",
    "            if i % 2 == 0:\n",
    "                # 偶数的情况下，弹出 大 值\n",
    "                res.append(vals.pop())\n",
    "            else:\n",
    "                # 奇数的情况下，弹出 小 值\n",
    "                res.append(vals.popleft())\n",
    "                \n",
    "        if k % 2 == 1:\n",
    "            res += vals\n",
    "        else:\n",
    "            res += list(vals)[::-1]\n",
    "        return res"
   ]
  }
 ],
 "metadata": {
  "kernelspec": {
   "display_name": "Python 3",
   "language": "python",
   "name": "python3"
  },
  "language_info": {
   "codemirror_mode": {
    "name": "ipython",
    "version": 3
   },
   "file_extension": ".py",
   "mimetype": "text/x-python",
   "name": "python",
   "nbconvert_exporter": "python",
   "pygments_lexer": "ipython3",
   "version": "3.6.2"
  }
 },
 "nbformat": 4,
 "nbformat_minor": 4
}
