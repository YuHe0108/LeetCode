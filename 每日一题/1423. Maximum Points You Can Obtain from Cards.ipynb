{
 "cells": [
  {
   "cell_type": "code",
   "execution_count": null,
   "metadata": {},
   "outputs": [],
   "source": []
  },
  {
   "cell_type": "code",
   "execution_count": null,
   "metadata": {},
   "outputs": [],
   "source": []
  },
  {
   "cell_type": "code",
   "execution_count": null,
   "metadata": {},
   "outputs": [],
   "source": []
  },
  {
   "cell_type": "code",
   "execution_count": 48,
   "metadata": {},
   "outputs": [],
   "source": [
    "from typing import List\n",
    "\n",
    "class Solution:\n",
    "    def maxScore(self, cardPoints: List[int], k: int) -> int:\n",
    "        presum = [0]\n",
    "        for v in cardPoints:\n",
    "            presum.append(presum[-1] + v)\n",
    "        \n",
    "        n = len(cardPoints)\n",
    "        window = n - k # 滑动窗口的宽度\n",
    "        min_mid = float('inf') # 中间值最小，两边可以取到最大\n",
    "        for i in range(n - window + 1):\n",
    "            right = i + window\n",
    "            print(presum, i, right)\n",
    "            min_mid = min(min_mid, presum[right] - presum[i])\n",
    "            \n",
    "        if min_mid != float('inf'):\n",
    "            return presum[-1] - min_mid\n",
    "        return presum[-1]"
   ]
  },
  {
   "cell_type": "code",
   "execution_count": 49,
   "metadata": {},
   "outputs": [
    {
     "name": "stdout",
     "output_type": "stream",
     "text": [
      "[0, 96, 186, 227, 309, 348, 422, 486, 536, 566] 0 1\n",
      "[0, 96, 186, 227, 309, 348, 422, 486, 536, 566] 1 2\n",
      "[0, 96, 186, 227, 309, 348, 422, 486, 536, 566] 2 3\n",
      "[0, 96, 186, 227, 309, 348, 422, 486, 536, 566] 3 4\n",
      "[0, 96, 186, 227, 309, 348, 422, 486, 536, 566] 4 5\n",
      "[0, 96, 186, 227, 309, 348, 422, 486, 536, 566] 5 6\n",
      "[0, 96, 186, 227, 309, 348, 422, 486, 536, 566] 6 7\n",
      "[0, 96, 186, 227, 309, 348, 422, 486, 536, 566] 7 8\n",
      "[0, 96, 186, 227, 309, 348, 422, 486, 536, 566] 8 9\n"
     ]
    },
    {
     "data": {
      "text/plain": [
       "536"
      ]
     },
     "execution_count": 49,
     "metadata": {},
     "output_type": "execute_result"
    }
   ],
   "source": [
    "solution = Solution()\n",
    "solution.maxScore([96,90,41,82,39,74,64,50,30], 8)"
   ]
  },
  {
   "cell_type": "code",
   "execution_count": null,
   "metadata": {},
   "outputs": [],
   "source": [
    "[1,2,| 3,4,5,| 6,1]\n",
    "     i       j  两边最大，即中间最小，sllding window = n - k"
   ]
  }
 ],
 "metadata": {
  "kernelspec": {
   "display_name": "Python 3",
   "language": "python",
   "name": "python3"
  },
  "language_info": {
   "codemirror_mode": {
    "name": "ipython",
    "version": 3
   },
   "file_extension": ".py",
   "mimetype": "text/x-python",
   "name": "python",
   "nbconvert_exporter": "python",
   "pygments_lexer": "ipython3",
   "version": "3.6.2"
  }
 },
 "nbformat": 4,
 "nbformat_minor": 4
}
