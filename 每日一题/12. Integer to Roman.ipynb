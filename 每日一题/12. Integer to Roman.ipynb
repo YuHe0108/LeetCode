{
 "cells": [
  {
   "cell_type": "code",
   "execution_count": null,
   "metadata": {},
   "outputs": [],
   "source": []
  },
  {
   "cell_type": "code",
   "execution_count": null,
   "metadata": {},
   "outputs": [],
   "source": []
  },
  {
   "cell_type": "code",
   "execution_count": null,
   "metadata": {},
   "outputs": [],
   "source": []
  },
  {
   "cell_type": "code",
   "execution_count": null,
   "metadata": {},
   "outputs": [],
   "source": []
  },
  {
   "cell_type": "code",
   "execution_count": 22,
   "metadata": {},
   "outputs": [],
   "source": [
    "class Solution:\n",
    "    def intToRoman(self, num: int) -> str:\n",
    "        roman2int = {'I':1, 'V': 5, 'X': 10, 'L': 50, \n",
    "                     'C': 100, 'D': 500, 'M': 1000}\n",
    "        int2roman = {v:k for k, v in roman2int.items()}\n",
    "        \n",
    "        res = ''\n",
    "        nums = [int(x) for x in list(str(num))]\n",
    "        for i, v in enumerate(nums):\n",
    "            unit = pow(10, (len(nums) - i - 1))\n",
    "            roman = int2roman[unit]\n",
    "            if 1 <= v <= 3:\n",
    "                res += v * roman\n",
    "            elif v == 4:\n",
    "                res += int2roman[unit] + int2roman[unit * 5]\n",
    "            elif v == 5:\n",
    "                res += int2roman[unit * 5]\n",
    "            elif 6 <= v <= 8:\n",
    "                res += int2roman[unit * 5] + (v - 5) * int2roman[unit]\n",
    "            elif v == 9:\n",
    "                res += int2roman[unit] + int2roman[unit * 10]\n",
    "        return res"
   ]
  },
  {
   "cell_type": "code",
   "execution_count": null,
   "metadata": {},
   "outputs": [],
   "source": []
  },
  {
   "cell_type": "code",
   "execution_count": 26,
   "metadata": {},
   "outputs": [],
   "source": [
    "class Solution:\n",
    "    def intToRoman(self, num: int) -> str:\n",
    "        # 使用哈希表，按照从大到小顺序排列\n",
    "        hashmap = {1000:'M', 900:'CM', 500:'D', 400:'CD', 100:'C', 90:'XC', 50:'L', 40:'XL', 10:'X', 9:'IX', 5:'V', 4:'IV', 1:'I'}\n",
    "        res = ''\n",
    "        for key in hashmap:\n",
    "            if num // key != 0:\n",
    "                count = num // key  # 比如输入4000，count 为 4\n",
    "                res += hashmap[key] * count \n",
    "                num %= key\n",
    "        return res"
   ]
  },
  {
   "cell_type": "code",
   "execution_count": 27,
   "metadata": {},
   "outputs": [
    {
     "name": "stdout",
     "output_type": "stream",
     "text": [
      "1000\n",
      "900\n",
      "500\n",
      "400\n",
      "100\n",
      "90\n",
      "50\n",
      "40\n",
      "10\n",
      "9\n",
      "5\n",
      "4\n",
      "1\n"
     ]
    },
    {
     "data": {
      "text/plain": [
       "'IV'"
      ]
     },
     "execution_count": 27,
     "metadata": {},
     "output_type": "execute_result"
    }
   ],
   "source": [
    "solution = Solution()\n",
    "solution.intToRoman(4)"
   ]
  },
  {
   "cell_type": "code",
   "execution_count": 41,
   "metadata": {},
   "outputs": [],
   "source": [
    "a = 'a'\n",
    "b = 2*a"
   ]
  },
  {
   "cell_type": "code",
   "execution_count": 42,
   "metadata": {},
   "outputs": [
    {
     "data": {
      "text/plain": [
       "'aa'"
      ]
     },
     "execution_count": 42,
     "metadata": {},
     "output_type": "execute_result"
    }
   ],
   "source": [
    "b"
   ]
  },
  {
   "cell_type": "code",
   "execution_count": null,
   "metadata": {},
   "outputs": [],
   "source": []
  }
 ],
 "metadata": {
  "kernelspec": {
   "display_name": "Python 3",
   "language": "python",
   "name": "python3"
  },
  "language_info": {
   "codemirror_mode": {
    "name": "ipython",
    "version": 3
   },
   "file_extension": ".py",
   "mimetype": "text/x-python",
   "name": "python",
   "nbconvert_exporter": "python",
   "pygments_lexer": "ipython3",
   "version": "3.6.2"
  }
 },
 "nbformat": 4,
 "nbformat_minor": 4
}
