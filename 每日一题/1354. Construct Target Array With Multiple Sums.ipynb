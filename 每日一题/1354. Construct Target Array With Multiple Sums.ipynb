{
 "cells": [
  {
   "cell_type": "code",
   "execution_count": null,
   "metadata": {},
   "outputs": [],
   "source": [
    "from typing import List\n",
    "import heapq\n",
    "\n",
    "class Solution:\n",
    "    def isPossible(self, target: List[int]) -> bool:\n",
    "        if len(target) == 1:\n",
    "            return target == [1]\n",
    "        \n",
    "        pq = [-x for x in target]\n",
    "        heapq.heapify(pq)\n",
    "        total = sum(target)\n",
    "        \n",
    "        while -pq[0] > 1:\n",
    "            max_val = -heapq.heappop(pq)\n",
    "            others = total - max_val\n",
    "            # 如果最大值 小于 others， 返回值为 False\n",
    "            if max_val <= others or others == 0:\n",
    "                return False\n",
    "            pre_val = max_val % others \n",
    "            \n",
    "            \n",
    "            heapq.heappush(pq, -pre_val) # 压入上一轮的值\n",
    "            total = others + pre_val # 更新 total\n",
    "        return True"
   ]
  }
 ],
 "metadata": {
  "kernelspec": {
   "display_name": "Python 3",
   "language": "python",
   "name": "python3"
  },
  "language_info": {
   "codemirror_mode": {
    "name": "ipython",
    "version": 3
   },
   "file_extension": ".py",
   "mimetype": "text/x-python",
   "name": "python",
   "nbconvert_exporter": "python",
   "pygments_lexer": "ipython3",
   "version": "3.6.2"
  }
 },
 "nbformat": 4,
 "nbformat_minor": 4
}
