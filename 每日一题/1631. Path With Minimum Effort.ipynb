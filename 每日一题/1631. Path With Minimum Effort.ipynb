{
 "cells": [
  {
   "cell_type": "code",
   "execution_count": null,
   "metadata": {},
   "outputs": [],
   "source": []
  },
  {
   "cell_type": "code",
   "execution_count": null,
   "metadata": {},
   "outputs": [],
   "source": []
  },
  {
   "cell_type": "code",
   "execution_count": null,
   "metadata": {},
   "outputs": [],
   "source": []
  },
  {
   "cell_type": "code",
   "execution_count": 22,
   "metadata": {},
   "outputs": [],
   "source": [
    "from typing import List\n",
    "\n",
    "class Solution:\n",
    "    def minimumEffortPath(self, heights: List[List[int]]) -> int:\n",
    "        def check(th):\n",
    "            path = [[0, 0]]\n",
    "            seen = {(0, 0)}\n",
    "            while path:\n",
    "                i, j = path.pop()\n",
    "                if (i, j) == (rows-1, cols-1):\n",
    "                    return True\n",
    "                for ni, nj in (i+1, j), (i-1, j), (i, j+1), (i, j-1):\n",
    "                    if ni < 0 or nj < 0 or ni >= rows or nj >= cols:\n",
    "                        continue\n",
    "                    if (ni, nj) in seen:\n",
    "                        continue\n",
    "                    if abs(heights[ni][nj] - heights[i][j]) > th:\n",
    "                        continue\n",
    "                    seen.add((ni, nj))\n",
    "                    path.append((ni, nj))\n",
    "            return False\n",
    "        \n",
    "        rows, cols = len(heights), len(heights[0])\n",
    "        left, right = 0, max(max(x) for x in heights)\n",
    "        while left < right:\n",
    "            mid = left + (right - left) // 2\n",
    "            if check(mid):\n",
    "                right = mid\n",
    "            else:\n",
    "                left = mid + 1\n",
    "        return left"
   ]
  },
  {
   "cell_type": "code",
   "execution_count": 24,
   "metadata": {},
   "outputs": [
    {
     "name": "stdout",
     "output_type": "stream",
     "text": [
      "10\n"
     ]
    },
    {
     "data": {
      "text/plain": [
       "2"
      ]
     },
     "execution_count": 24,
     "metadata": {},
     "output_type": "execute_result"
    }
   ],
   "source": [
    "solution = Solution()\n",
    "solution.minimumEffortPath(heights =  [[1,2,10],[3,8,4],[5,3,5]])"
   ]
  },
  {
   "cell_type": "code",
   "execution_count": null,
   "metadata": {},
   "outputs": [],
   "source": []
  },
  {
   "cell_type": "code",
   "execution_count": 70,
   "metadata": {},
   "outputs": [],
   "source": [
    "class Solution:\n",
    "    def minimumEffortPath(self, heights) -> int:\n",
    "        def find(x):\n",
    "            if father[x] != x:\n",
    "                father[x] = find(father[x])\n",
    "            return father[x]\n",
    "        \n",
    "        def union(x, y):\n",
    "            x, y = find(x), find(y)\n",
    "            if x < y:\n",
    "                father[x] = y\n",
    "            else:\n",
    "                father[y] = x\n",
    "        \n",
    "        rows, cols = len(heights), len(heights[0])\n",
    "        father = [x for x in range(rows * cols)]\n",
    "        edges = []\n",
    "        for i in range(rows):\n",
    "            for j in range(cols):\n",
    "                if i != rows-1:\n",
    "                    edges.append([abs(heights[i+1][j] - heights[i][j]), i*cols+j, (i+1)*cols+j])\n",
    "                if j != cols-1:\n",
    "                    edges.append([abs(heights[i][j+1] - heights[i][j]), i*cols+j, i*cols+j+1])\n",
    "        edges.sort()\n",
    "        for h, a, b in edges:\n",
    "            union(a, b)\n",
    "            if find(0) == find(rows*cols-1):\n",
    "                return h\n",
    "        return 0"
   ]
  },
  {
   "cell_type": "code",
   "execution_count": 71,
   "metadata": {},
   "outputs": [
    {
     "data": {
      "text/plain": [
       "2"
      ]
     },
     "execution_count": 71,
     "metadata": {},
     "output_type": "execute_result"
    }
   ],
   "source": [
    "solution = Solution()\n",
    "solution.minimumEffortPath(heights =  [[1,2,10],\n",
    "                                       [3,8,4],\n",
    "                                       [5,3,5]])"
   ]
  },
  {
   "cell_type": "code",
   "execution_count": null,
   "metadata": {},
   "outputs": [],
   "source": []
  }
 ],
 "metadata": {
  "kernelspec": {
   "display_name": "Python 3",
   "language": "python",
   "name": "python3"
  },
  "language_info": {
   "codemirror_mode": {
    "name": "ipython",
    "version": 3
   },
   "file_extension": ".py",
   "mimetype": "text/x-python",
   "name": "python",
   "nbconvert_exporter": "python",
   "pygments_lexer": "ipython3",
   "version": "3.6.2"
  }
 },
 "nbformat": 4,
 "nbformat_minor": 4
}
