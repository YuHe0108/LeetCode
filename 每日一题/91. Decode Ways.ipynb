{
 "cells": [
  {
   "cell_type": "code",
   "execution_count": null,
   "metadata": {},
   "outputs": [],
   "source": []
  },
  {
   "cell_type": "code",
   "execution_count": null,
   "metadata": {},
   "outputs": [],
   "source": []
  },
  {
   "cell_type": "code",
   "execution_count": 33,
   "metadata": {},
   "outputs": [],
   "source": [
    "class Solution:\n",
    "    def numDecodings(self, s: str) -> int:\n",
    "        if s[0] == '0':\n",
    "            return 0\n",
    "        n = len(s)\n",
    "        s = '#' + s\n",
    "        dp = [0] * (1 + n)\n",
    "        dp[0] = dp[1] = 1 # 没有数字、一个数字都只有一种可能\n",
    "        for i in range(2, n + 1):\n",
    "            if s[i] == '0' and s[i-1] >= '3': # 如果前一个数字 是 1、2，大于2就而没有办法构成字母了\n",
    "                return 0\n",
    "            if s[i] != '0': # 不为 0 的时候，才能自己构成字母\n",
    "                dp[i] += dp[i-1] # 自己可以构成一个字母\n",
    "            if s[i-1] == '1': # 第二个数字，无论是什么都可以构成一个字母\n",
    "                dp[i] += dp[i-2]\n",
    "            elif s[i-1] == '2':\n",
    "                if s[i] <= '6': # 0、1、2、3、4、5、6\n",
    "                    dp[i] += dp[i-2]\n",
    "        return dp[-1]"
   ]
  },
  {
   "cell_type": "code",
   "execution_count": 34,
   "metadata": {},
   "outputs": [
    {
     "name": "stdout",
     "output_type": "stream",
     "text": [
      "[1, 1, 1]\n"
     ]
    },
    {
     "data": {
      "text/plain": [
       "1"
      ]
     },
     "execution_count": 34,
     "metadata": {},
     "output_type": "execute_result"
    }
   ],
   "source": [
    "solution = Solution()\n",
    "solution.numDecodings(\"10\")"
   ]
  },
  {
   "cell_type": "code",
   "execution_count": null,
   "metadata": {},
   "outputs": [],
   "source": [
    "else:\n",
    "    # 前一个数字大于2的话，s[i]只能自己构成字母\n",
    "    if s[i] == '0': # 如果当前数字是 '0',并且前面的值大于2，说明0不能和任何数字构成有效的字母，返回值是0\n",
    "        return 0\n",
    "    dp[i] = dp[i-1]"
   ]
  }
 ],
 "metadata": {
  "kernelspec": {
   "display_name": "Python 3",
   "language": "python",
   "name": "python3"
  },
  "language_info": {
   "codemirror_mode": {
    "name": "ipython",
    "version": 3
   },
   "file_extension": ".py",
   "mimetype": "text/x-python",
   "name": "python",
   "nbconvert_exporter": "python",
   "pygments_lexer": "ipython3",
   "version": "3.6.2"
  }
 },
 "nbformat": 4,
 "nbformat_minor": 4
}
