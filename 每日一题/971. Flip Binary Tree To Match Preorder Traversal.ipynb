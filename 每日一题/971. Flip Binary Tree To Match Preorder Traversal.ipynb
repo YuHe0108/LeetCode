{
 "cells": [
  {
   "cell_type": "code",
   "execution_count": null,
   "metadata": {},
   "outputs": [],
   "source": [
    "class Solution:\n",
    "    def flipMatchVoyage(self, root, voyage):       \n",
    "        def dfs(node):\n",
    "            nonlocal res, idx\n",
    "            if not node:\n",
    "                return\n",
    "            # 执行了反转，仍然数字不同，则返回为 [-1]\n",
    "            if node.val != voyage[idx]:\n",
    "                res = [-1]\n",
    "                return\n",
    "            idx += 1\n",
    "            if idx < n and node.left and node.left.val != voyage[idx]:\n",
    "                res.append(node.val) # 需要翻转的节点\n",
    "                dfs(node.right)\n",
    "                dfs(node.left)\n",
    "            else:\n",
    "                dfs(node.left)\n",
    "                dfs(node.right)\n",
    "        \n",
    "        idx = 0\n",
    "        res = []\n",
    "        n = len(voyage)\n",
    "        dfs(root)\n",
    "        return [-1] if res and res[0] == -1 else res"
   ]
  }
 ],
 "metadata": {
  "kernelspec": {
   "display_name": "Python 3",
   "language": "python",
   "name": "python3"
  },
  "language_info": {
   "codemirror_mode": {
    "name": "ipython",
    "version": 3
   },
   "file_extension": ".py",
   "mimetype": "text/x-python",
   "name": "python",
   "nbconvert_exporter": "python",
   "pygments_lexer": "ipython3",
   "version": "3.6.2"
  }
 },
 "nbformat": 4,
 "nbformat_minor": 4
}
