{
 "cells": [
  {
   "cell_type": "code",
   "execution_count": null,
   "metadata": {},
   "outputs": [],
   "source": []
  },
  {
   "cell_type": "code",
   "execution_count": null,
   "metadata": {},
   "outputs": [],
   "source": []
  },
  {
   "cell_type": "code",
   "execution_count": null,
   "metadata": {},
   "outputs": [],
   "source": []
  },
  {
   "cell_type": "code",
   "execution_count": 2,
   "metadata": {},
   "outputs": [],
   "source": [
    "# Definition for singly-linked list.\n",
    "class ListNode:\n",
    "    def __init__(self, x):\n",
    "        self.val = x\n",
    "        self.next = None\n",
    "\n",
    "class Solution:\n",
    "    def deleteDuplicates(self, head: ListNode) -> ListNode:\n",
    "        if not head:\n",
    "            return head\n",
    "        # 1、先遍历元素\n",
    "        vals = []\n",
    "        while head:\n",
    "            vals.append(head.val)\n",
    "            head = head.next\n",
    "        \n",
    "        n = len(vals)\n",
    "        unique = []\n",
    "        for i in range(n):\n",
    "            if i != n-1 and vals[i] == vals[i+1]:\n",
    "                continue\n",
    "            if i != 0 and vals[i] == vals[i-1]:\n",
    "                continue\n",
    "            unique.append(vals[i])\n",
    "            \n",
    "        dummy = root = ListNode(0)\n",
    "        for v in unique:\n",
    "            dummy.next = ListNode(v)\n",
    "            dummy = dummy.next\n",
    "        return root.next\n",
    "    \n",
    "    \n",
    "    \n",
    "    \n",
    "    "
   ]
  },
  {
   "cell_type": "code",
   "execution_count": null,
   "metadata": {},
   "outputs": [],
   "source": [
    "# Definition for singly-linked list.\n",
    "# class ListNode:\n",
    "#     def __init__(self, x):\n",
    "#         self.val = x\n",
    "#         self.next = None\n",
    "\n",
    "class Solution:\n",
    "    def deleteDuplicates(self, head: ListNode) -> ListNode:\n",
    "        if not head:\n",
    "            return head\n",
    "        \n",
    "        dummy = root = ListNode(0)\n",
    "        prev = None\n",
    "        while head:\n",
    "            cond1 = (head.next is None) or (head.next is not None and head.next.val != head.val)\n",
    "            cond2 = head.val != prev\n",
    "            if cond1 and cond2:\n",
    "                dummy.next = ListNode(head.val)\n",
    "                dummy = dummy.next\n",
    "            prev = head.val\n",
    "            head = head.next\n",
    "        return root.next"
   ]
  },
  {
   "cell_type": "code",
   "execution_count": null,
   "metadata": {},
   "outputs": [],
   "source": []
  },
  {
   "cell_type": "code",
   "execution_count": null,
   "metadata": {},
   "outputs": [],
   "source": [
    "# Definition for singly-linked list.\n",
    "# class ListNode:\n",
    "#     def __init__(self, val=0, next=None):\n",
    "#         self.val = val\n",
    "#         self.next = next\n",
    "class Solution:\n",
    "    def deleteDuplicates(self, head: ListNode) -> ListNode:\n",
    "        if not head:\n",
    "            return head\n",
    "        dummy_head = ListNode(-101)\n",
    "        dummy_head.next = head\n",
    "        cur = dummy_head\n",
    "        fast = cur.next\n",
    "        while fast and fast.next:\n",
    "            if fast.val != fast.next.val:\n",
    "                cur = cur.next\n",
    "            while fast.next and fast.val == fast.next.val:\n",
    "                fast = fast.next\n",
    "            cur.next = fast.next\n",
    "            fast = cur.next\n",
    "        return dummy_head.next"
   ]
  }
 ],
 "metadata": {
  "kernelspec": {
   "display_name": "Python 3",
   "language": "python",
   "name": "python3"
  },
  "language_info": {
   "codemirror_mode": {
    "name": "ipython",
    "version": 3
   },
   "file_extension": ".py",
   "mimetype": "text/x-python",
   "name": "python",
   "nbconvert_exporter": "python",
   "pygments_lexer": "ipython3",
   "version": "3.6.2"
  }
 },
 "nbformat": 4,
 "nbformat_minor": 4
}
