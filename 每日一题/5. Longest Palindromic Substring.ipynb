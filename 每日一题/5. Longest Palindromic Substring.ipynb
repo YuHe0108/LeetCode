{
 "cells": [
  {
   "cell_type": "code",
   "execution_count": null,
   "metadata": {},
   "outputs": [],
   "source": []
  },
  {
   "cell_type": "code",
   "execution_count": null,
   "metadata": {},
   "outputs": [],
   "source": []
  },
  {
   "cell_type": "code",
   "execution_count": 20,
   "metadata": {},
   "outputs": [],
   "source": [
    "from collections import Counter, defaultdict\n",
    "\n",
    "class Solution:\n",
    "    def longestPalindrome(self, s: str) -> str:\n",
    "        count = defaultdict(list)\n",
    "        for i, a in enumerate(s):\n",
    "            if a.isalpha():\n",
    "                count[a].append(i)\n",
    "        res = 1\n",
    "        out = s[0]\n",
    "        for k, v in count.items():\n",
    "            if len(v) == 1:\n",
    "                continue\n",
    "            for i in range(len(v)):\n",
    "                for j in range(i+1, len(v)):\n",
    "                    l, r = v[i], v[j]\n",
    "                    sub = s[l:r+1]\n",
    "                    if sub == sub[::-1] and r-l+1 > res:\n",
    "                        res = r-l+1\n",
    "                        out = sub\n",
    "        return out"
   ]
  },
  {
   "cell_type": "code",
   "execution_count": 35,
   "metadata": {},
   "outputs": [],
   "source": [
    "from collections import Counter, defaultdict\n",
    "\n",
    "class Solution:\n",
    "    def longestPalindrome(self, s: str) -> str:\n",
    "        count = defaultdict(list)\n",
    "        for i, a in enumerate(s):\n",
    "            if a.isalpha():\n",
    "                count[a].append(i)\n",
    "        res = 1\n",
    "        out = s[0]\n",
    "        for k, v in count.items():\n",
    "            if len(v) == 1:\n",
    "                continue\n",
    "            for gap in range(len(v), 1, -1):\n",
    "                for l in range(len(v)-gap+1):\n",
    "                    r = l + (gap-1)\n",
    "                    sub_s = s[v[l]:v[r]+1]\n",
    "                    print(sub_s)\n",
    "                    if sub_s == sub_s[::-1] and r-l+1 > res:\n",
    "                        out = sub_s\n",
    "                        res = r-l+1\n",
    "                        break\n",
    "        return out"
   ]
  },
  {
   "cell_type": "code",
   "execution_count": null,
   "metadata": {},
   "outputs": [],
   "source": []
  },
  {
   "cell_type": "code",
   "execution_count": 37,
   "metadata": {},
   "outputs": [],
   "source": [
    "class Solution:\n",
    "    def longestPalindrome(self, s: str) -> str:\n",
    "        n = len(s)\n",
    "        if n == 1 or s == s[::-1]: \n",
    "            return s\n",
    "        max_len, start = 1, 0\n",
    "        for i in range(1, n):\n",
    "            even = s[i-max_len:i+1]\n",
    "            odd = s[i-max_len-1:i+1]\n",
    "            if i - max_len - 1 >= 0 and odd == odd[::-1]:\n",
    "                start = i - max_len - 1\n",
    "                max_len += 2\n",
    "                continue\n",
    "            if i - max_len >= 0 and even == even[::-1]:\n",
    "                start = i - max_len\n",
    "                max_len += 1\n",
    "        return s[start:start + max_len]"
   ]
  },
  {
   "cell_type": "code",
   "execution_count": null,
   "metadata": {},
   "outputs": [],
   "source": []
  },
  {
   "cell_type": "code",
   "execution_count": null,
   "metadata": {},
   "outputs": [],
   "source": []
  },
  {
   "cell_type": "markdown",
   "metadata": {},
   "source": [
    "## DP的解法"
   ]
  },
  {
   "cell_type": "code",
   "execution_count": 66,
   "metadata": {},
   "outputs": [],
   "source": [
    "class Solution:\n",
    "    def longestPalindrome(self, s: str) -> str:\n",
    "        n = len(s)\n",
    "        if n == 1 or s == s[::-1]: \n",
    "            return s\n",
    "        res = 1\n",
    "        out = s[0]\n",
    "        dp = [[0] * n for _ in range(n)]\n",
    "        for i in range(n):\n",
    "            dp[i][i] = 1\n",
    "        for i in range(n):\n",
    "            for j in range(i+1, n):\n",
    "                if s[i] == s[j]:\n",
    "                    dp[i][j] = dp[i+1][j-1] + 2\n",
    "                    if dp[i][j] > res:\n",
    "                        out = s[i:j+1]\n",
    "                        res = dp[i][j]\n",
    "        return out"
   ]
  },
  {
   "cell_type": "code",
   "execution_count": 81,
   "metadata": {},
   "outputs": [],
   "source": [
    "class Solution:\n",
    "    def longestPalindrome(self, s: str) -> str:\n",
    "        n = len(s)\n",
    "        if n == 1 or s == s[::-1]: \n",
    "            return s\n",
    "        res = 1\n",
    "        out = s[0]\n",
    "        dp = [[0] * n for _ in range(n)]\n",
    "        for i in range(n):\n",
    "            dp[i][i] = 1\n",
    "        for gap in range(2, n+1):\n",
    "            for l in range(n-gap+1):\n",
    "                r = l + (gap - 1)\n",
    "                if s[l] == s[r]:\n",
    "                    if gap == 2:\n",
    "                        dp[l][r] = 2\n",
    "                    elif dp[l+1][r-1] == r-l-1:\n",
    "                        dp[l][r] = dp[l+1][r-1] + 2\n",
    "                    if dp[l][r] > res:\n",
    "                        res = dp[l][r]\n",
    "                        out = s[l:r+1]\n",
    "        return out"
   ]
  },
  {
   "cell_type": "code",
   "execution_count": 82,
   "metadata": {},
   "outputs": [
    {
     "data": {
      "text/plain": [
       "'aca'"
      ]
     },
     "execution_count": 82,
     "metadata": {},
     "output_type": "execute_result"
    }
   ],
   "source": [
    "solution = Solution()\n",
    "solution.longestPalindrome(\"aacabdkacaa\")"
   ]
  },
  {
   "cell_type": "code",
   "execution_count": null,
   "metadata": {},
   "outputs": [],
   "source": []
  },
  {
   "cell_type": "code",
   "execution_count": null,
   "metadata": {},
   "outputs": [],
   "source": []
  }
 ],
 "metadata": {
  "kernelspec": {
   "display_name": "Python 3",
   "language": "python",
   "name": "python3"
  },
  "language_info": {
   "codemirror_mode": {
    "name": "ipython",
    "version": 3
   },
   "file_extension": ".py",
   "mimetype": "text/x-python",
   "name": "python",
   "nbconvert_exporter": "python",
   "pygments_lexer": "ipython3",
   "version": "3.6.2"
  }
 },
 "nbformat": 4,
 "nbformat_minor": 4
}
