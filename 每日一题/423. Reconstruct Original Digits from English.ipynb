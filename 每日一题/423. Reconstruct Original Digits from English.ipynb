{
 "cells": [
  {
   "cell_type": "code",
   "execution_count": null,
   "metadata": {},
   "outputs": [],
   "source": []
  },
  {
   "cell_type": "code",
   "execution_count": null,
   "metadata": {},
   "outputs": [],
   "source": []
  },
  {
   "cell_type": "code",
   "execution_count": null,
   "metadata": {},
   "outputs": [],
   "source": []
  },
  {
   "cell_type": "code",
   "execution_count": null,
   "metadata": {},
   "outputs": [],
   "source": [
    "class Solution:\n",
    "    def originalDigits(self, s: str) -> str:\n",
    "        # 'zero', 'one', 'two', 'three', 'four', 'five', 'six', 'seven', 'eight', 'nine'\n",
    "        d = {}\n",
    "        d[0] = s.count('z')\n",
    "        d[2] = s.count('w')\n",
    "        d[4]= s.count('u')\n",
    "        d[6] = s.count('x')\n",
    "        d[8] = s.count('g')\n",
    "        d[1] = s.count('o') - d[2] - d[4] - d[0]\n",
    "        d[3] = s.count('t') - d[2] - d[8]\n",
    "        d[5] = s.count('f') - d[4]\n",
    "        d[7] = s.count('s') - d[6]\n",
    "        d[9] = s.count('i') - d[8] - d[6] - d[5] \n",
    "        res = ''\n",
    "        for i in range(10):\n",
    "            res += str(i) * d[i]\n",
    "        return res\n"
   ]
  }
 ],
 "metadata": {
  "kernelspec": {
   "display_name": "Python 3",
   "language": "python",
   "name": "python3"
  },
  "language_info": {
   "codemirror_mode": {
    "name": "ipython",
    "version": 3
   },
   "file_extension": ".py",
   "mimetype": "text/x-python",
   "name": "python",
   "nbconvert_exporter": "python",
   "pygments_lexer": "ipython3",
   "version": "3.6.2"
  }
 },
 "nbformat": 4,
 "nbformat_minor": 4
}
