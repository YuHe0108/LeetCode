{
 "cells": [
  {
   "cell_type": "code",
   "execution_count": null,
   "metadata": {},
   "outputs": [],
   "source": []
  },
  {
   "cell_type": "code",
   "execution_count": null,
   "metadata": {},
   "outputs": [],
   "source": []
  },
  {
   "cell_type": "code",
   "execution_count": null,
   "metadata": {},
   "outputs": [],
   "source": []
  },
  {
   "cell_type": "code",
   "execution_count": 29,
   "metadata": {},
   "outputs": [],
   "source": [
    "from typing import List\n",
    "import math\n",
    "\n",
    "class Solution:\n",
    "    def numFactoredBinaryTrees(self, arr: List[int]) -> int:\n",
    "        arr.sort()\n",
    "        set_arr = set(arr)\n",
    "        v2idx = {v: i for i, v in enumerate(arr)}\n",
    "        \n",
    "        # 初始化的时候，每个点都可以将自己作为根节点，所以初始化为 1\n",
    "        dp = [1] * len(arr) # 以每个值作为根节点的时候，有多少中构建树的可能性\n",
    "        for i, v in enumerate(arr):\n",
    "            sqrt_val = math.sqrt(v)\n",
    "            \n",
    "            for j, v2 in enumerate(arr):\n",
    "                # 只搜索一半，缩短时间\n",
    "                if v2 > sqrt_val:\n",
    "                    break\n",
    "                if v % v2 == 0 and v // v2 in set_arr:\n",
    "                    temp = dp[j] * dp[v2idx[v // v2]]\n",
    "                    if v2 != v // v2:\n",
    "                        dp[i] += temp * 2\n",
    "                    else:\n",
    "                        dp[i] += temp\n",
    "        \n",
    "        mod = pow(10, 9) + 7\n",
    "        return sum(dp) % mod"
   ]
  },
  {
   "cell_type": "code",
   "execution_count": 30,
   "metadata": {},
   "outputs": [
    {
     "data": {
      "text/plain": [
       "3"
      ]
     },
     "execution_count": 30,
     "metadata": {},
     "output_type": "execute_result"
    }
   ],
   "source": [
    "solution = Solution()\n",
    "solution.numFactoredBinaryTrees([2, 4])"
   ]
  },
  {
   "cell_type": "code",
   "execution_count": null,
   "metadata": {},
   "outputs": [],
   "source": []
  }
 ],
 "metadata": {
  "kernelspec": {
   "display_name": "Python 3",
   "language": "python",
   "name": "python3"
  },
  "language_info": {
   "codemirror_mode": {
    "name": "ipython",
    "version": 3
   },
   "file_extension": ".py",
   "mimetype": "text/x-python",
   "name": "python",
   "nbconvert_exporter": "python",
   "pygments_lexer": "ipython3",
   "version": "3.6.2"
  }
 },
 "nbformat": 4,
 "nbformat_minor": 4
}
