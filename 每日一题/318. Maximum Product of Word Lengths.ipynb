{
 "cells": [
  {
   "cell_type": "code",
   "execution_count": null,
   "metadata": {},
   "outputs": [],
   "source": [
    "class Solution:\n",
    "    def maxProduct(self, words: List[str]) -> int:\n",
    "        word_len = [len(set(word)) for word in words]\n",
    "        ans = 0\n",
    "        n = len(words)\n",
    "        for i in range(n):\n",
    "            for j in range(i+1, n):\n",
    "                if word_len[i] + word_len[j] == len(set(words[i] + words[j])):\n",
    "                    ans = max(ans, len(words[i])*len(words[j]))\n",
    "        return ans"
   ]
  }
 ],
 "metadata": {
  "kernelspec": {
   "display_name": "Python 3",
   "language": "python",
   "name": "python3"
  },
  "language_info": {
   "codemirror_mode": {
    "name": "ipython",
    "version": 3
   },
   "file_extension": ".py",
   "mimetype": "text/x-python",
   "name": "python",
   "nbconvert_exporter": "python",
   "pygments_lexer": "ipython3",
   "version": "3.6.2"
  }
 },
 "nbformat": 4,
 "nbformat_minor": 4
}
