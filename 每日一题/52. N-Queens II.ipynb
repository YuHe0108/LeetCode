{
 "cells": [
  {
   "cell_type": "code",
   "execution_count": null,
   "metadata": {},
   "outputs": [],
   "source": []
  },
  {
   "cell_type": "code",
   "execution_count": null,
   "metadata": {},
   "outputs": [],
   "source": []
  },
  {
   "cell_type": "code",
   "execution_count": null,
   "metadata": {},
   "outputs": [],
   "source": []
  },
  {
   "cell_type": "code",
   "execution_count": 45,
   "metadata": {},
   "outputs": [],
   "source": [
    "from typing import List\n",
    "\n",
    "class Solution:\n",
    "    def totalNQueens(self, n: int) -> int:\n",
    "        \n",
    "        def check(mat, x, y):\n",
    "            # 在当前的 mat 中，在 i 和 j 的位置放置 Q，是否是符合法的\n",
    "            # 1. 检查行\n",
    "            for i in range(n):\n",
    "                if mat[x][i] == 1:\n",
    "                    return False\n",
    "                \n",
    "            # 2.检查列\n",
    "            for i in range(n):\n",
    "                if mat[i][y] == 1:\n",
    "                    return False\n",
    "            \n",
    "            # 3.检查正对角线\n",
    "            cur_x, cur_y = x, y\n",
    "            while cur_x < n and cur_y < n:\n",
    "                if mat[cur_x][cur_y] == 1:\n",
    "                    return False\n",
    "                cur_x += 1\n",
    "                cur_y += 1\n",
    "            \n",
    "            cur_x, cur_y = x, y\n",
    "            while cur_x >= 0 and cur_y >= 0:\n",
    "                if mat[cur_x][cur_y] == 1:\n",
    "                    return False\n",
    "                cur_x -= 1\n",
    "                cur_y -= 1\n",
    "            \n",
    "            # 4.检查斜对角线\n",
    "            cur_x, cur_y = x, y\n",
    "            while cur_x < n and cur_y >= 0:\n",
    "                if mat[cur_x][cur_y] == 1:\n",
    "                    return False\n",
    "                cur_x += 1\n",
    "                cur_y -= 1\n",
    "                \n",
    "            cur_x, cur_y = x, y\n",
    "            while cur_x >= 0 and cur_y < n:\n",
    "                if mat[cur_x][cur_y] == 1:\n",
    "                    return False\n",
    "                cur_x -= 1\n",
    "                cur_y += 1\n",
    "            return True\n",
    "        \n",
    "        def backtracking(mat, k):\n",
    "            nonlocal ans\n",
    "            if k == 0:\n",
    "                ans += 1\n",
    "                return\n",
    "            \n",
    "            for i in range(n):\n",
    "                for j in range(n):\n",
    "                    if mat[i][j] == 1:\n",
    "                        continue\n",
    "                    if check(mat, i, j):\n",
    "                        mat[i][j] = 1\n",
    "                        backtracking(mat, k-1)\n",
    "                        mat[i][j] = 0\n",
    "            return\n",
    "        \n",
    "        ans = 0\n",
    "        matrix = [[0] * n for _ in range(n)]\n",
    "        backtracking(matrix, n)\n",
    "        return ans"
   ]
  },
  {
   "cell_type": "code",
   "execution_count": null,
   "metadata": {},
   "outputs": [],
   "source": []
  },
  {
   "cell_type": "code",
   "execution_count": null,
   "metadata": {},
   "outputs": [],
   "source": []
  },
  {
   "cell_type": "code",
   "execution_count": 74,
   "metadata": {},
   "outputs": [],
   "source": [
    "from typing import List\n",
    "from collections import defaultdict\n",
    "\n",
    "class Solution:\n",
    "    def totalNQueens(self, n: int) -> int:\n",
    "        \n",
    "        def backtracking(i):\n",
    "            nonlocal ans\n",
    "            if i == n:\n",
    "                ans += 1\n",
    "                return \n",
    "            \n",
    "            for j in range(n):\n",
    "                if not cols[j] and not diagonal[i+j] and not anti_diagonal[i-j]:\n",
    "                    cols[j] = True\n",
    "                    diagonal[i+j] = True\n",
    "                    anti_diagonal[i-j] = True\n",
    "                    \n",
    "                    backtracking(i+1)\n",
    "                    \n",
    "                    cols[j] = False\n",
    "                    diagonal[i+j] = False\n",
    "                    anti_diagonal[i-j] = False\n",
    "            return \n",
    "        \n",
    "        ans = 0\n",
    "        cols = [False] * n\n",
    "        diagonal = defaultdict(bool)\n",
    "        anti_diagonal = defaultdict(bool)\n",
    "        backtracking(0)\n",
    "        return ans"
   ]
  },
  {
   "cell_type": "code",
   "execution_count": 75,
   "metadata": {},
   "outputs": [
    {
     "data": {
      "text/plain": [
       "2"
      ]
     },
     "execution_count": 75,
     "metadata": {},
     "output_type": "execute_result"
    }
   ],
   "source": [
    "solution = Solution()\n",
    "solution.totalNQueens(n = 4)"
   ]
  },
  {
   "cell_type": "code",
   "execution_count": null,
   "metadata": {},
   "outputs": [],
   "source": []
  },
  {
   "cell_type": "code",
   "execution_count": null,
   "metadata": {},
   "outputs": [],
   "source": []
  },
  {
   "cell_type": "code",
   "execution_count": null,
   "metadata": {},
   "outputs": [],
   "source": []
  },
  {
   "cell_type": "code",
   "execution_count": null,
   "metadata": {},
   "outputs": [],
   "source": []
  }
 ],
 "metadata": {
  "kernelspec": {
   "display_name": "Python 3",
   "language": "python",
   "name": "python3"
  },
  "language_info": {
   "codemirror_mode": {
    "name": "ipython",
    "version": 3
   },
   "file_extension": ".py",
   "mimetype": "text/x-python",
   "name": "python",
   "nbconvert_exporter": "python",
   "pygments_lexer": "ipython3",
   "version": "3.6.2"
  }
 },
 "nbformat": 4,
 "nbformat_minor": 4
}
