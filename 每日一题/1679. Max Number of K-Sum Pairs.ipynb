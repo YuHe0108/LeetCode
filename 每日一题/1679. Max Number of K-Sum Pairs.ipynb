{
 "cells": [
  {
   "cell_type": "code",
   "execution_count": null,
   "metadata": {},
   "outputs": [],
   "source": []
  },
  {
   "cell_type": "code",
   "execution_count": null,
   "metadata": {},
   "outputs": [],
   "source": []
  },
  {
   "cell_type": "code",
   "execution_count": null,
   "metadata": {},
   "outputs": [],
   "source": []
  },
  {
   "cell_type": "code",
   "execution_count": 24,
   "metadata": {},
   "outputs": [],
   "source": [
    "from typing import List\n",
    "from collections import Counter\n",
    "\n",
    "class Solution:\n",
    "    def maxOperations(self, nums: List[int], k: int) -> int:\n",
    "        res = 0\n",
    "        count = Counter(nums)\n",
    "        set_nums = set(nums)\n",
    "        s_nums = sorted(set_nums)\n",
    "        seen = set()\n",
    "        for num in s_nums:\n",
    "            if num >= k:\n",
    "                break\n",
    "            tar = k - num\n",
    "            if (num, tar) not in seen:\n",
    "                seen.add((tar, num))\n",
    "                seen.add((num, tar))\n",
    "                if tar == num:\n",
    "                    res += count[tar] // 2\n",
    "                else:\n",
    "                    res += min(count[tar], count[num])\n",
    "        return res"
   ]
  },
  {
   "cell_type": "code",
   "execution_count": null,
   "metadata": {},
   "outputs": [],
   "source": [
    "from typing import List\n",
    "from collections import Counter\n",
    "\n",
    "class Solution:\n",
    "    def maxOperations(self, nums: List[int], k: int) -> int:\n",
    "        res = 0\n",
    "        count = Counter(nums)\n",
    "        set_nums = set(nums)\n",
    "        s_nums = sorted(set_nums)\n",
    "        for num in s_nums:\n",
    "            if num >= k:\n",
    "                break\n",
    "            tar = k - num\n",
    "            if tar == num:\n",
    "                res += count[tar]\n",
    "            else:\n",
    "                res += min(count[tar], count[num])\n",
    "        return res  // 2"
   ]
  },
  {
   "cell_type": "code",
   "execution_count": 25,
   "metadata": {},
   "outputs": [
    {
     "data": {
      "text/plain": [
       "2"
      ]
     },
     "execution_count": 25,
     "metadata": {},
     "output_type": "execute_result"
    }
   ],
   "source": [
    "solution = Solution()\n",
    "solution.maxOperations(nums = [1,2,3,4], k = 5)"
   ]
  },
  {
   "cell_type": "code",
   "execution_count": null,
   "metadata": {},
   "outputs": [],
   "source": []
  }
 ],
 "metadata": {
  "kernelspec": {
   "display_name": "Python 3",
   "language": "python",
   "name": "python3"
  },
  "language_info": {
   "codemirror_mode": {
    "name": "ipython",
    "version": 3
   },
   "file_extension": ".py",
   "mimetype": "text/x-python",
   "name": "python",
   "nbconvert_exporter": "python",
   "pygments_lexer": "ipython3",
   "version": "3.6.2"
  }
 },
 "nbformat": 4,
 "nbformat_minor": 4
}
