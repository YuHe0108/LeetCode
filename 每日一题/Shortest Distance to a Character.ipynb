{
 "cells": [
  {
   "cell_type": "code",
   "execution_count": null,
   "metadata": {},
   "outputs": [],
   "source": [
    "class Solution:\n",
    "    def shortestToChar(self, s: str, c: str) -> List[int]:\n",
    "        c_idx = set()\n",
    "        for i, v in enumerate(s):\n",
    "            if v == c:\n",
    "                c_idx.add(i)\n",
    "        \n",
    "        res = [0] * len(s)\n",
    "        for i, v in enumerate(s):\n",
    "            if i in c_idx:\n",
    "                continue\n",
    "            res[i] = float('inf')\n",
    "            for j in c_idx:\n",
    "                res[i] = min(res[i], abs(j - i))\n",
    "        return res"
   ]
  },
  {
   "cell_type": "code",
   "execution_count": null,
   "metadata": {},
   "outputs": [],
   "source": []
  },
  {
   "cell_type": "code",
   "execution_count": 1,
   "metadata": {},
   "outputs": [],
   "source": [
    "import bisect"
   ]
  },
  {
   "cell_type": "code",
   "execution_count": 2,
   "metadata": {},
   "outputs": [
    {
     "data": {
      "text/plain": [
       "1"
      ]
     },
     "execution_count": 2,
     "metadata": {},
     "output_type": "execute_result"
    }
   ],
   "source": [
    "bisect.bisect_left([1, 3, 5], 2)"
   ]
  },
  {
   "cell_type": "code",
   "execution_count": null,
   "metadata": {},
   "outputs": [],
   "source": [
    "class Solution:\n",
    "    def shortestToChar(self, s: str, c: str) -> List[int]:\n",
    "        c_idx = []\n",
    "        for i, v in enumerate(s):\n",
    "            if v == c:\n",
    "                c_idx.append(i)\n",
    "        \n",
    "        res = [0] * len(s)\n",
    "        for i, v in enumerate(s):\n",
    "            if v == c:\n",
    "                continue\n",
    "            res[i] = float('inf')\n",
    "            idx = bisect.bisect_left(c_idx, i)\n",
    "            if idx == len(c_idx):\n",
    "                res[i] = i - c_idx[idx-1]\n",
    "            elif idx == 0:\n",
    "                res[i] = c_idx[idx] - i\n",
    "            else:\n",
    "                res[i] = min(c_idx[idx] - i, i - c_idx[idx-1])\n",
    "        return res"
   ]
  }
 ],
 "metadata": {
  "kernelspec": {
   "display_name": "Python 3",
   "language": "python",
   "name": "python3"
  },
  "language_info": {
   "codemirror_mode": {
    "name": "ipython",
    "version": 3
   },
   "file_extension": ".py",
   "mimetype": "text/x-python",
   "name": "python",
   "nbconvert_exporter": "python",
   "pygments_lexer": "ipython3",
   "version": "3.6.2"
  }
 },
 "nbformat": 4,
 "nbformat_minor": 4
}
