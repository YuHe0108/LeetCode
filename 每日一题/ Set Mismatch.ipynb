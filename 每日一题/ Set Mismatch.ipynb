{
 "cells": [
  {
   "cell_type": "code",
   "execution_count": null,
   "metadata": {},
   "outputs": [],
   "source": [
    "class Solution:\n",
    "    def findErrorNums(self, nums: List[int]) -> List[int]:\n",
    "        now_sum = sum(set(nums))\n",
    "        ori_sum = sum(set([x for x in range(len(nums) + 1)]))\n",
    "        err_sum = sum(nums) # 多算了重复的数字\n",
    "        return [err_sum - now_sum, ori_sum - now_sum]"
   ]
  }
 ],
 "metadata": {
  "kernelspec": {
   "display_name": "Python 3",
   "language": "python",
   "name": "python3"
  },
  "language_info": {
   "codemirror_mode": {
    "name": "ipython",
    "version": 3
   },
   "file_extension": ".py",
   "mimetype": "text/x-python",
   "name": "python",
   "nbconvert_exporter": "python",
   "pygments_lexer": "ipython3",
   "version": "3.6.2"
  }
 },
 "nbformat": 4,
 "nbformat_minor": 4
}
