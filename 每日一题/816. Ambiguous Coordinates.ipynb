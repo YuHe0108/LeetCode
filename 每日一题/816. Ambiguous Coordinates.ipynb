{
 "cells": [
  {
   "cell_type": "code",
   "execution_count": null,
   "metadata": {},
   "outputs": [],
   "source": []
  },
  {
   "cell_type": "code",
   "execution_count": null,
   "metadata": {},
   "outputs": [],
   "source": []
  },
  {
   "cell_type": "code",
   "execution_count": null,
   "metadata": {},
   "outputs": [],
   "source": []
  },
  {
   "cell_type": "code",
   "execution_count": 28,
   "metadata": {},
   "outputs": [],
   "source": [
    "from typing import List\n",
    "\n",
    "class Solution:\n",
    "    def ambiguousCoordinates(self, s: str) -> List[str]:\n",
    "        ret = []\n",
    "        s = s[1:-1]\n",
    "        for i in range(1, len(s)):\n",
    "            # i 表示可能放置小数点的位置\n",
    "            x = self.get_number(s[:i]) # 放置小数点前半部分\n",
    "            y = self.get_number(s[i:]) # 放置小数点后半部分\n",
    "            # 组合结果\n",
    "            for i in x:\n",
    "                for j in y:\n",
    "                    ret.append(\"({}, {})\".format(i, j))\n",
    "        return ret\n",
    "    \n",
    "    def get_number(self, s: str):\n",
    "        # s = '00001',只有一种可能就是 s=0.0001\n",
    "        # 如果 s = 00000, 那么返回值只能为 空\n",
    "        if s != '0' and s[0] == '0':\n",
    "            return [\"0.\" + s[1:]] if s[-1] != '0' else []\n",
    "        if s[-1] == '0': # 未位为0，如数字 \"210\" 不能在中间添加任何小数点，否则会变成 2.10，不符合要求\n",
    "            return [s]\n",
    "        \n",
    "        ret = [s] # 123, 可以在中间的任意位置添加小数点z\n",
    "        for i in range(1, len(s)):\n",
    "            ret.append(s[:i] + \".\" + s[i:])\n",
    "        return ret"
   ]
  },
  {
   "cell_type": "code",
   "execution_count": 29,
   "metadata": {},
   "outputs": [
    {
     "data": {
      "text/plain": [
       "['(0, 0.011)', '(0.001, 1)']"
      ]
     },
     "execution_count": 29,
     "metadata": {},
     "output_type": "execute_result"
    }
   ],
   "source": [
    "solution = Solution()\n",
    "solution.ambiguousCoordinates(\"(00011)\")"
   ]
  },
  {
   "cell_type": "code",
   "execution_count": null,
   "metadata": {},
   "outputs": [],
   "source": [
    "1230"
   ]
  }
 ],
 "metadata": {
  "kernelspec": {
   "display_name": "Python 3",
   "language": "python",
   "name": "python3"
  },
  "language_info": {
   "codemirror_mode": {
    "name": "ipython",
    "version": 3
   },
   "file_extension": ".py",
   "mimetype": "text/x-python",
   "name": "python",
   "nbconvert_exporter": "python",
   "pygments_lexer": "ipython3",
   "version": "3.6.2"
  }
 },
 "nbformat": 4,
 "nbformat_minor": 4
}
