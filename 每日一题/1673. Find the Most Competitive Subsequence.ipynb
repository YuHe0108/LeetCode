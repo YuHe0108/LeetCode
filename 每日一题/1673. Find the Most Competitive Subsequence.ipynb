{
 "cells": [
  {
   "cell_type": "code",
   "execution_count": null,
   "metadata": {},
   "outputs": [],
   "source": []
  },
  {
   "cell_type": "code",
   "execution_count": null,
   "metadata": {},
   "outputs": [],
   "source": []
  },
  {
   "cell_type": "code",
   "execution_count": 27,
   "metadata": {},
   "outputs": [],
   "source": [
    "from typing import List\n",
    "from collections import deque\n",
    "\n",
    "class Solution:\n",
    "    def mostCompetitive(self, nums: List[int], k: int) -> List[int]:\n",
    "        # 要找出从nums中找出 k 个 最小的数字\n",
    "        stack = deque()\n",
    "        res = deque()\n",
    "        for v in nums:\n",
    "            if stack and v < stack[-1]:\n",
    "                res.append(v)\n",
    "            else:\n",
    "                stack.append(v)\n",
    "        if len(res) == 0:\n",
    "            return list(stack)[:k]\n",
    "        \n",
    "        idx = 0\n",
    "        while idx < len(stack) and stack[idx] < res[0]:    \n",
    "            idx += 1\n",
    "        left = list(stack)[:idx]\n",
    "        print(left, stack, res)\n",
    "        return"
   ]
  },
  {
   "cell_type": "code",
   "execution_count": null,
   "metadata": {},
   "outputs": [],
   "source": []
  },
  {
   "cell_type": "markdown",
   "metadata": {},
   "source": [
    "### 重点：将保留 k 个数字转换为只能删除 len(nums) - k 个数字"
   ]
  },
  {
   "cell_type": "code",
   "execution_count": 63,
   "metadata": {},
   "outputs": [],
   "source": [
    "from typing import List\n",
    "from collections import deque\n",
    "\n",
    "class Solution:\n",
    "    def mostCompetitive(self, nums: List[int], k: int) -> List[int]:\n",
    "        # 要保留 K 个数字\n",
    "        max_cnt = len(nums) - k # 最多删除数字的次数\n",
    "        cnt = 0\n",
    "        stack = []\n",
    "        for v in nums:\n",
    "            while stack and stack[-1] > v and cnt < max_cnt:\n",
    "                cnt += 1\n",
    "                stack.pop()\n",
    "            stack.append(v)\n",
    "        return stack[:k]"
   ]
  },
  {
   "cell_type": "code",
   "execution_count": 65,
   "metadata": {},
   "outputs": [
    {
     "data": {
      "text/plain": [
       "[2, 6]"
      ]
     },
     "execution_count": 65,
     "metadata": {},
     "output_type": "execute_result"
    }
   ],
   "source": [
    "solution = Solution()\n",
    "solution.mostCompetitive(nums = [3,5,2,6], k = 2)"
   ]
  },
  {
   "cell_type": "code",
   "execution_count": 56,
   "metadata": {},
   "outputs": [
    {
     "data": {
      "text/plain": [
       "True"
      ]
     },
     "execution_count": 56,
     "metadata": {},
     "output_type": "execute_result"
    }
   ],
   "source": [
    "[1, 100] > [1, 99]"
   ]
  },
  {
   "cell_type": "code",
   "execution_count": null,
   "metadata": {},
   "outputs": [],
   "source": []
  }
 ],
 "metadata": {
  "kernelspec": {
   "display_name": "Python 3",
   "language": "python",
   "name": "python3"
  },
  "language_info": {
   "codemirror_mode": {
    "name": "ipython",
    "version": 3
   },
   "file_extension": ".py",
   "mimetype": "text/x-python",
   "name": "python",
   "nbconvert_exporter": "python",
   "pygments_lexer": "ipython3",
   "version": "3.6.2"
  }
 },
 "nbformat": 4,
 "nbformat_minor": 4
}
