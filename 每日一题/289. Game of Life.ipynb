{
 "cells": [
  {
   "cell_type": "code",
   "execution_count": null,
   "metadata": {},
   "outputs": [],
   "source": []
  },
  {
   "cell_type": "code",
   "execution_count": null,
   "metadata": {},
   "outputs": [],
   "source": []
  },
  {
   "cell_type": "code",
   "execution_count": 3,
   "metadata": {},
   "outputs": [],
   "source": [
    "# 1、新建一个数组保存数字\n",
    "\n",
    "from typing import List\n",
    "\n",
    "class Solution:\n",
    "    def gameOfLife(self, board: List[List[int]]) -> None:\n",
    "        \"\"\"\n",
    "        Do not return anything, modify board in-place instead.\n",
    "        \"\"\"\n",
    "        rows, cols = len(board), len(board[0])\n",
    "        res = [[0] * cols for _ in range(rows)]\n",
    "        for i in range(rows):\n",
    "            for j in range(cols):\n",
    "                alive = 0 # 周围八个点有几个活着的\n",
    "                for ni, nj in (i+1, j), (i-1, j), (i, j-1), (i, j+1), (i+1, j+1), (i-1, j-1), (i+1, j-1), (i-1, j+1):\n",
    "                    if ni < 0 or ni >= rows or nj < 0 or nj >= cols:\n",
    "                        continue\n",
    "                    alive += board[ni][nj]\n",
    "                if board[i][j] == 0:\n",
    "                    if alive == 3:\n",
    "                        res[i][j] = 1\n",
    "                elif board[i][j] == 1:\n",
    "                    if alive < 2 or alive > 3:\n",
    "                        res[i][j] = 0\n",
    "                    elif alive == 2 or alive == 3:\n",
    "                        res[i][j] = 1\n",
    "        \n",
    "        for i in range(rows):\n",
    "            for j in range(cols):\n",
    "                board[i][j] = res[i][j]"
   ]
  },
  {
   "cell_type": "code",
   "execution_count": null,
   "metadata": {},
   "outputs": [],
   "source": []
  },
  {
   "cell_type": "code",
   "execution_count": null,
   "metadata": {},
   "outputs": [],
   "source": []
  },
  {
   "cell_type": "code",
   "execution_count": 24,
   "metadata": {},
   "outputs": [],
   "source": [
    "# 2、不使用新的数组，而是在 board 数组原地修改数据\n",
    "# 为数据新增加一位 -->> 01, 其中 1 表示修改之前的状态，而 0 表示修改之后的状态\n",
    "# 用一个数字记录两个值\n",
    "\n",
    "from typing import List\n",
    "\n",
    "class Solution:\n",
    "    def gameOfLife(self, board: List[List[int]]) -> None:\n",
    "        \"\"\"\n",
    "        Do not return anything, modify board in-place instead.\n",
    "        \"\"\"\n",
    "        rows, cols = len(board), len(board[0])\n",
    "        for i in range(rows):\n",
    "            for j in range(cols):\n",
    "                alive = 0 # 周围八个点有几个活着的\n",
    "                for ni, nj in (i+1, j), (i-1, j), (i, j-1), (i, j+1), (i+1, j+1), (i-1, j-1), (i+1, j-1), (i-1, j+1):\n",
    "                    if ni < 0 or ni >= rows or nj < 0 or nj >= cols:\n",
    "                        continue\n",
    "                    alive += (board[ni][nj] & 1) # 取的是最后一位的结果，即前一个结果\n",
    "                if board[i][j] == 0:\n",
    "                    if alive == 3: #　0 -> 1\n",
    "                        board[i][j] = 2 # 00 -> 10 转换为十进制就是 2\n",
    "                else:\n",
    "                    if alive < 2 or alive > 3: # 1 -> 0 \n",
    "                        board[i][j] = 1 # 01 转换为10进制为 1\n",
    "                    else: # 1 -> 1\n",
    "                        board[i][j] = 3 # 11 转换为十进制为 1\n",
    "                    \n",
    "        for i in range(rows):\n",
    "            for j in range(cols):\n",
    "                board[i][j] >>= 1"
   ]
  },
  {
   "cell_type": "code",
   "execution_count": 25,
   "metadata": {},
   "outputs": [],
   "source": [
    "solution = Solution()\n",
    "solution.gameOfLife([\n",
    "                      [0,1,0],\n",
    "                      [0,0,1],\n",
    "                      [1,1,1],\n",
    "                      [0,0,0]\n",
    "                    ])"
   ]
  },
  {
   "cell_type": "code",
   "execution_count": 12,
   "metadata": {},
   "outputs": [
    {
     "data": {
      "text/plain": [
       "2"
      ]
     },
     "execution_count": 12,
     "metadata": {},
     "output_type": "execute_result"
    }
   ],
   "source": [
    "1 << 1"
   ]
  },
  {
   "cell_type": "code",
   "execution_count": 13,
   "metadata": {},
   "outputs": [
    {
     "data": {
      "text/plain": [
       "'0b10'"
      ]
     },
     "execution_count": 13,
     "metadata": {},
     "output_type": "execute_result"
    }
   ],
   "source": [
    "bin(2)"
   ]
  },
  {
   "cell_type": "code",
   "execution_count": null,
   "metadata": {},
   "outputs": [],
   "source": []
  }
 ],
 "metadata": {
  "kernelspec": {
   "display_name": "Python 3",
   "language": "python",
   "name": "python3"
  },
  "language_info": {
   "codemirror_mode": {
    "name": "ipython",
    "version": 3
   },
   "file_extension": ".py",
   "mimetype": "text/x-python",
   "name": "python",
   "nbconvert_exporter": "python",
   "pygments_lexer": "ipython3",
   "version": "3.6.2"
  }
 },
 "nbformat": 4,
 "nbformat_minor": 4
}
