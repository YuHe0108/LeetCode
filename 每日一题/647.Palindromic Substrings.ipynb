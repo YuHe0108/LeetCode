{
 "cells": [
  {
   "cell_type": "code",
   "execution_count": null,
   "metadata": {},
   "outputs": [],
   "source": []
  },
  {
   "cell_type": "code",
   "execution_count": null,
   "metadata": {},
   "outputs": [],
   "source": [
    "[[1, 0, 0], \n",
    " [0, 1, 0], \n",
    " [0, 0, 1]]"
   ]
  },
  {
   "cell_type": "code",
   "execution_count": null,
   "metadata": {},
   "outputs": [],
   "source": [
    "[[1, 3, 7], \n",
    " [0, 1, 3], \n",
    " [0, 0, 1]]"
   ]
  },
  {
   "cell_type": "code",
   "execution_count": null,
   "metadata": {},
   "outputs": [],
   "source": [
    "class Solution:\n",
    "    def countSubstrings(self, s: str) -> int:\n",
    "        n = len(s)\n",
    "        dp = [[0] * (n) for _ in range(n)]\n",
    "        # dp[i][j]: s[i:j+1] 中有多少个回文串\n",
    "        for i in range(n):\n",
    "            dp[i][i] = 1\n",
    "        for i in range(1, n):\n",
    "            if s[i] == s[i-1]:\n",
    "                dp[i-1][i] = 1\n",
    "        \n",
    "        for gap in range(3, n+1):\n",
    "            for l in range(n-gap+1):\n",
    "                r = l + gap - 1\n",
    "                if s[l] == s[r]:\n",
    "                    dp[l][r] = dp[l+1][r-1]\n",
    "        return sum([sum(dp[i][:]) for i in range(n)])"
   ]
  }
 ],
 "metadata": {
  "kernelspec": {
   "display_name": "Python 3",
   "language": "python",
   "name": "python3"
  },
  "language_info": {
   "codemirror_mode": {
    "name": "ipython",
    "version": 3
   },
   "file_extension": ".py",
   "mimetype": "text/x-python",
   "name": "python",
   "nbconvert_exporter": "python",
   "pygments_lexer": "ipython3",
   "version": "3.6.2"
  }
 },
 "nbformat": 4,
 "nbformat_minor": 4
}
