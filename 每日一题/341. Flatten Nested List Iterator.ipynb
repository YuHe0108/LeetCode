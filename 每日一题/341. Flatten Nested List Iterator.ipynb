{
 "cells": [
  {
   "cell_type": "code",
   "execution_count": null,
   "metadata": {},
   "outputs": [],
   "source": []
  },
  {
   "cell_type": "code",
   "execution_count": null,
   "metadata": {},
   "outputs": [],
   "source": []
  },
  {
   "cell_type": "code",
   "execution_count": null,
   "metadata": {},
   "outputs": [],
   "source": []
  },
  {
   "cell_type": "code",
   "execution_count": null,
   "metadata": {},
   "outputs": [],
   "source": [
    "# \"\"\"\n",
    "# This is the interface that allows for creating nested lists.\n",
    "# You should not implement it, or speculate about its implementation\n",
    "# \"\"\"\n",
    "#class NestedInteger:\n",
    "#    def isInteger(self) -> bool:\n",
    "#        \"\"\"\n",
    "#        @return True if this NestedInteger holds a single integer, rather than a nested list.\n",
    "#        \"\"\"\n",
    "#\n",
    "#    def getInteger(self) -> int:\n",
    "#        \"\"\"\n",
    "#        @return the single integer that this NestedInteger holds, if it holds a single integer\n",
    "#        Return None if this NestedInteger holds a nested list\n",
    "#        \"\"\"\n",
    "#\n",
    "#    def getList(self) -> [NestedInteger]:\n",
    "#        \"\"\"\n",
    "#        @return the nested list that this NestedInteger holds, if it holds a nested list\n",
    "#        Return None if this NestedInteger holds a single integer\n",
    "#        \"\"\"\n",
    "\n",
    "class NestedIterator:\n",
    "    def __init__(self, nestedList: [NestedInteger]):\n",
    "        \n",
    "        def dfs(node):\n",
    "            if node.isInteger():\n",
    "                self.vals.append(node.getInteger())\n",
    "            else:\n",
    "                node_list = node.getList()\n",
    "                for nxt_node in node_list:\n",
    "                    dfs(nxt_node)\n",
    "                    \n",
    "        self.vals = []\n",
    "        self.idx = 0\n",
    "        for node in nestedList:\n",
    "            dfs(node)        \n",
    "    \n",
    "    def next(self) -> int:\n",
    "        val = self.vals[self.idx]\n",
    "        self.idx += 1\n",
    "        return val\n",
    "        \n",
    "    \n",
    "    def hasNext(self) -> bool:\n",
    "        return self.idx < len(self.vals)\n",
    "         \n",
    "\n",
    "# Your NestedIterator object will be instantiated and called as such:\n",
    "# i, v = NestedIterator(nestedList), []\n",
    "# while i.hasNext(): v.append(i.next())"
   ]
  }
 ],
 "metadata": {
  "kernelspec": {
   "display_name": "Python 3",
   "language": "python",
   "name": "python3"
  },
  "language_info": {
   "codemirror_mode": {
    "name": "ipython",
    "version": 3
   },
   "file_extension": ".py",
   "mimetype": "text/x-python",
   "name": "python",
   "nbconvert_exporter": "python",
   "pygments_lexer": "ipython3",
   "version": "3.6.2"
  }
 },
 "nbformat": 4,
 "nbformat_minor": 4
}
