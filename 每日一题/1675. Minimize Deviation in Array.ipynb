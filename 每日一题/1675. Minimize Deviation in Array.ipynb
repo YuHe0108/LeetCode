{
 "cells": [
  {
   "cell_type": "code",
   "execution_count": null,
   "metadata": {},
   "outputs": [],
   "source": []
  },
  {
   "cell_type": "raw",
   "metadata": {},
   "source": [
    "对于数组 [1,2,3,4]而言，\n",
    "如果是奇数，那么最大能取到的值为 odd_num * 2\n",
    "如果是偶数，当前值就是最大值\n",
    "[1, 2]\n",
    "[1, 2]\n",
    "[3, 6]\n",
    "[1, 2, 4]\n",
    "分别穷举每个列的最大值，\n",
    "取得是偶数，num // 2\n",
    "直到去到的这个数是奇数,停止"
   ]
  },
  {
   "cell_type": "code",
   "execution_count": null,
   "metadata": {},
   "outputs": [],
   "source": []
  },
  {
   "cell_type": "code",
   "execution_count": 9,
   "metadata": {},
   "outputs": [],
   "source": [
    "from typing import List\n",
    "from sortedcontainers import SortedList\n",
    "\n",
    "class Solution:\n",
    "    def minimumDeviation(self, nums: List[int]) -> int:\n",
    "        s_nums = SortedList()\n",
    "        for v in nums:\n",
    "            if v % 2 == 1: # 如果是奇数，那么最大可以取到 v * 2\n",
    "                s_nums.add(v * 2)\n",
    "            else: # 否则就是 v\n",
    "                s_nums.add(v)\n",
    "        res = float('inf')\n",
    "        while True:\n",
    "            res = min(res, s_nums[-1] - s_nums[0])\n",
    "            v = s_nums.pop()\n",
    "            if v % 2 == 1: # 当前弹出的是奇数，无法进行下面的操作，停止\n",
    "                return res\n",
    "            s_nums.add(v >> 2) \n",
    "        return res"
   ]
  },
  {
   "cell_type": "code",
   "execution_count": 10,
   "metadata": {},
   "outputs": [
    {
     "data": {
      "text/plain": [
       "1"
      ]
     },
     "execution_count": 10,
     "metadata": {},
     "output_type": "execute_result"
    }
   ],
   "source": [
    "solution = Solution()\n",
    "solution.minimumDeviation(nums = [1,2,3,4])"
   ]
  },
  {
   "cell_type": "code",
   "execution_count": null,
   "metadata": {},
   "outputs": [],
   "source": []
  },
  {
   "cell_type": "code",
   "execution_count": 16,
   "metadata": {},
   "outputs": [],
   "source": [
    "import heapq\n",
    "\n",
    "class Solution:\n",
    "    def minimumDeviation(self, nums: List[int]) -> int:\n",
    "        pq = []\n",
    "        for a in nums:\n",
    "            heapq.heappush(pq, -a * 2 if a % 2 else -a)\n",
    "        res = float('inf')\n",
    "        mi = -max(pq)\n",
    "        while len(pq) == len(nums):\n",
    "            a = -heapq.heappop(pq)\n",
    "            res = min(res, a - mi)\n",
    "            if a % 2 == 1:\n",
    "                return res\n",
    "            mi = min(mi, a >> 1)\n",
    "            heapq.heappush(pq, -a >> 1)\n",
    "        return res"
   ]
  },
  {
   "cell_type": "code",
   "execution_count": 17,
   "metadata": {},
   "outputs": [
    {
     "name": "stdout",
     "output_type": "stream",
     "text": [
      "10 6\n",
      "6 5\n",
      "5 3\n"
     ]
    },
    {
     "data": {
      "text/plain": [
       "1"
      ]
     },
     "execution_count": 17,
     "metadata": {},
     "output_type": "execute_result"
    }
   ],
   "source": [
    "solution = Solution()\n",
    "solution.minimumDeviation(nums = [3, 5])"
   ]
  },
  {
   "cell_type": "code",
   "execution_count": null,
   "metadata": {},
   "outputs": [],
   "source": []
  },
  {
   "cell_type": "code",
   "execution_count": null,
   "metadata": {},
   "outputs": [],
   "source": []
  },
  {
   "cell_type": "code",
   "execution_count": null,
   "metadata": {},
   "outputs": [],
   "source": [
    "class Solution:\n",
    "    def minimumDeviation(self, nums: List[int]) -> int:\n",
    "        heapify(nums)\n",
    "        while nums[0] & 1:\n",
    "            heapreplace(nums, nums[0]<<1)\n",
    "\n",
    "        down = nums[0]\n",
    "        nums = [-x for x in nums]\n",
    "        heapify(nums)\n",
    "        res = -nums[0] - down\n",
    "        while not nums[0] & 1:\n",
    "            down = min(down, -nums[0]>>1)\n",
    "            heapreplace(nums, nums[0]>>1)\n",
    "            res = min(res, -nums[0]-down)\n",
    "        \n",
    "        return res\n",
    "\n"
   ]
  },
  {
   "cell_type": "code",
   "execution_count": null,
   "metadata": {},
   "outputs": [],
   "source": []
  },
  {
   "cell_type": "code",
   "execution_count": null,
   "metadata": {},
   "outputs": [],
   "source": []
  }
 ],
 "metadata": {
  "kernelspec": {
   "display_name": "Python 3",
   "language": "python",
   "name": "python3"
  },
  "language_info": {
   "codemirror_mode": {
    "name": "ipython",
    "version": 3
   },
   "file_extension": ".py",
   "mimetype": "text/x-python",
   "name": "python",
   "nbconvert_exporter": "python",
   "pygments_lexer": "ipython3",
   "version": "3.6.2"
  }
 },
 "nbformat": 4,
 "nbformat_minor": 4
}
