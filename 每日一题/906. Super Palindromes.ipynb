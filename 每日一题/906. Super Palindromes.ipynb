{
 "cells": [
  {
   "cell_type": "code",
   "execution_count": null,
   "metadata": {},
   "outputs": [],
   "source": []
  },
  {
   "cell_type": "code",
   "execution_count": null,
   "metadata": {},
   "outputs": [],
   "source": []
  },
  {
   "cell_type": "code",
   "execution_count": null,
   "metadata": {},
   "outputs": [],
   "source": []
  },
  {
   "cell_type": "code",
   "execution_count": 41,
   "metadata": {},
   "outputs": [],
   "source": [
    "# 1. 只检验 num 以及 num^2 是不是回文数，这样就从 10^18 -> 10^9.\n",
    "# 2. 因为必须要是回文数，那么前半段和后半段的 数字一定要是相同，所以就从 10^9 -> 10^5.\n",
    "import math\n",
    "\n",
    "class Solution:\n",
    "    def superpalindromesInRange(self, left: str, right: str) -> int:\n",
    "        cnt = 0\n",
    "        \n",
    "        r = int(right)\n",
    "        l = int(left)\n",
    "        for i in range(100000 + 1):\n",
    "            str_num = str(i)\n",
    "            sub_str = str_num + str_num[::-1] # 偶数长度\n",
    "            num = pow(int(sub_str), 2)\n",
    "            if num > r:\n",
    "                break\n",
    "            s_num = str(num)\n",
    "            if num >= l and s_num == s_num[::-1]:\n",
    "                cnt += 1\n",
    "            \n",
    "        for i in range(100000 + 1):\n",
    "            str_num = str(i)\n",
    "            sub_str = str_num[:-1] + str_num[::-1] # 偶数长度\n",
    "            num = pow(int(sub_str), 2)\n",
    "            if num > r:\n",
    "                break\n",
    "            s_num = str(num)\n",
    "            if num >= l and s_num == s_num[::-1]:\n",
    "                cnt += 1\n",
    "        return cnt"
   ]
  },
  {
   "cell_type": "code",
   "execution_count": 42,
   "metadata": {},
   "outputs": [
    {
     "data": {
      "text/plain": [
       "4"
      ]
     },
     "execution_count": 42,
     "metadata": {},
     "output_type": "execute_result"
    }
   ],
   "source": [
    "solution = Solution()\n",
    "solution.superpalindromesInRange(left = \"4\", right = \"1000\")"
   ]
  },
  {
   "cell_type": "code",
   "execution_count": null,
   "metadata": {},
   "outputs": [],
   "source": []
  }
 ],
 "metadata": {
  "kernelspec": {
   "display_name": "Python 3",
   "language": "python",
   "name": "python3"
  },
  "language_info": {
   "codemirror_mode": {
    "name": "ipython",
    "version": 3
   },
   "file_extension": ".py",
   "mimetype": "text/x-python",
   "name": "python",
   "nbconvert_exporter": "python",
   "pygments_lexer": "ipython3",
   "version": "3.6.2"
  }
 },
 "nbformat": 4,
 "nbformat_minor": 4
}
