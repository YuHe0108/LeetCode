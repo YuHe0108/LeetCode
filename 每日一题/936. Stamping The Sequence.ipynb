{
 "cells": [
  {
   "cell_type": "code",
   "execution_count": null,
   "metadata": {},
   "outputs": [],
   "source": []
  },
  {
   "cell_type": "code",
   "execution_count": null,
   "metadata": {},
   "outputs": [],
   "source": []
  },
  {
   "cell_type": "code",
   "execution_count": null,
   "metadata": {},
   "outputs": [],
   "source": []
  },
  {
   "cell_type": "code",
   "execution_count": 78,
   "metadata": {},
   "outputs": [],
   "source": [
    "from typing import List\n",
    "\n",
    "class Solution:\n",
    "    def movesToStamp(self, stamp: str, target: str) -> List[int]:\n",
    "        \n",
    "        target = list(target)\n",
    "        n, m = len(stamp), len(target)\n",
    "        cnt = []\n",
    "        # 首先找 target 中第一个和 stamp 匹配的位置，并把它替换为 '*', '*'号表示可以代表任意字符\n",
    "        while target != ['*'] * m and len(cnt) < 10 * m:\n",
    "            matched = False # 是否可以找到匹配项\n",
    "            \n",
    "            for i in range(m-n+1):\n",
    "                subset = target[i:i+n]\n",
    "                if subset == ['*'] * n: # 如果全是 '*' 号直接跳过\n",
    "                    continue\n",
    "                    \n",
    "                flag = True # 用于标记是否找到匹配的字符\n",
    "                for j, v in enumerate(subset):\n",
    "                    if v != '*' and v != stamp[j]:\n",
    "                        flag = False\n",
    "                        break\n",
    "                        \n",
    "                if flag: # 匹配的话记录，并将字母全部修改为 '*'\n",
    "                    matched = True\n",
    "                    target[i:i+n] = '*' * n\n",
    "                    cnt.append(i)\n",
    "                    break\n",
    "                    \n",
    "            if not matched: # 找不到匹配的，直接退出\n",
    "                break\n",
    "                \n",
    "        if not cnt or len(cnt) > 10 * m or target != ['*'] * m:\n",
    "            return []\n",
    "        return cnt[::-1]"
   ]
  },
  {
   "cell_type": "code",
   "execution_count": 79,
   "metadata": {},
   "outputs": [
    {
     "data": {
      "text/plain": [
       "[0, 2]"
      ]
     },
     "execution_count": 79,
     "metadata": {},
     "output_type": "execute_result"
    }
   ],
   "source": [
    "solution = Solution()\n",
    "solution.movesToStamp(stamp = \"abc\", target = \"ababc\")"
   ]
  },
  {
   "cell_type": "code",
   "execution_count": null,
   "metadata": {},
   "outputs": [],
   "source": []
  },
  {
   "cell_type": "code",
   "execution_count": null,
   "metadata": {},
   "outputs": [],
   "source": [
    "class Solution(object):\n",
    "    def movesToStamp(self, stamp, target):\n",
    "        \n",
    "        def check(word):\n",
    "            cnt = 0\n",
    "            for i in range(m):\n",
    "                if word[i] == '?' or word[i] == stamp[i]:\n",
    "                    cnt += word[i] != '?'\n",
    "                    continue\n",
    "                return 0\n",
    "            return cnt\n",
    "        \n",
    "        target = list(target)\n",
    "        m, n = len(stamp), len(target)\n",
    "        cnt, res = 0, []\n",
    "        while cnt < n:\n",
    "            tmp = cnt\n",
    "            for i in range(n-m+1):\n",
    "                cur = check(target[i:i+m])\n",
    "                if cur:\n",
    "                    cnt += cur\n",
    "                    target[i:i+m] = ['?']*m\n",
    "                    res.append(i)\n",
    "            if tmp == cnt:\n",
    "                return []\n",
    "        return res[::-1]"
   ]
  }
 ],
 "metadata": {
  "kernelspec": {
   "display_name": "Python 3",
   "language": "python",
   "name": "python3"
  },
  "language_info": {
   "codemirror_mode": {
    "name": "ipython",
    "version": 3
   },
   "file_extension": ".py",
   "mimetype": "text/x-python",
   "name": "python",
   "nbconvert_exporter": "python",
   "pygments_lexer": "ipython3",
   "version": "3.6.2"
  }
 },
 "nbformat": 4,
 "nbformat_minor": 4
}
