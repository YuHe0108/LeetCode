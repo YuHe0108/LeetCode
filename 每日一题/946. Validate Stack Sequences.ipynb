{
 "cells": [
  {
   "cell_type": "code",
   "execution_count": null,
   "metadata": {},
   "outputs": [],
   "source": []
  },
  {
   "cell_type": "code",
   "execution_count": null,
   "metadata": {},
   "outputs": [],
   "source": []
  },
  {
   "cell_type": "code",
   "execution_count": null,
   "metadata": {},
   "outputs": [],
   "source": []
  },
  {
   "cell_type": "code",
   "execution_count": null,
   "metadata": {},
   "outputs": [],
   "source": []
  },
  {
   "cell_type": "code",
   "execution_count": null,
   "metadata": {},
   "outputs": [],
   "source": []
  },
  {
   "cell_type": "code",
   "execution_count": 7,
   "metadata": {},
   "outputs": [],
   "source": [
    "from collections import Counter, defaultdict\n",
    "\n",
    "class Solution:\n",
    "    def longestSubstring(self, s: str, k: int) -> int:\n",
    "        for uniq_char in set(s):\n",
    "            if s.count(uniq_char) < k: # 因为出现的频次小于k，所以答案肯定不会包括 当前字符\n",
    "                substring_list = []\n",
    "                for t in s.split(uniq_char):\n",
    "                    substring_list.append(self.longestSubstring(t, k))\n",
    "                return max(substring_list)\n",
    "        return len(s)"
   ]
  },
  {
   "cell_type": "code",
   "execution_count": null,
   "metadata": {},
   "outputs": [],
   "source": []
  },
  {
   "cell_type": "code",
   "execution_count": null,
   "metadata": {},
   "outputs": [],
   "source": []
  },
  {
   "cell_type": "code",
   "execution_count": null,
   "metadata": {},
   "outputs": [],
   "source": []
  },
  {
   "cell_type": "code",
   "execution_count": null,
   "metadata": {},
   "outputs": [],
   "source": []
  },
  {
   "cell_type": "code",
   "execution_count": 74,
   "metadata": {},
   "outputs": [],
   "source": [
    "from collections import Counter, defaultdict\n",
    "\n",
    "# 解法1：滑动窗口的方法，假定滑窗最多含有 m 个不同的元素\n",
    "class Solution:\n",
    "    def longestSubstring(self, s: str, k: int) -> int:\n",
    "        res = 0\n",
    "        m = len(set(s))\n",
    "        s = s + '#'\n",
    "        for i in range(1, m+1): # 假定滑动窗口内的元素种类只有 i 个\n",
    "            left = 0\n",
    "            count = defaultdict(int)\n",
    "            for right, a in enumerate(s):\n",
    "                if a not in count and len(count) + 1 > i:\n",
    "                    # 只有在当前的滑动窗口内，所有元素出现的次数 大于等于 k，才可以计算\n",
    "                    if min(count.values()) >= k:\n",
    "                        res = max(res, right-left)\n",
    "                    \n",
    "                    count[a] += 1\n",
    "                    while len(count) > i:\n",
    "                        count[s[left]] -= 1\n",
    "                        if count[s[left]] == 0:\n",
    "                            del count[s[left]]\n",
    "                        left += 1\n",
    "                else:\n",
    "                    count[a] += 1\n",
    "        return res"
   ]
  },
  {
   "cell_type": "code",
   "execution_count": 75,
   "metadata": {},
   "outputs": [
    {
     "data": {
      "text/plain": [
       "3"
      ]
     },
     "execution_count": 75,
     "metadata": {},
     "output_type": "execute_result"
    }
   ],
   "source": [
    "solution = Solution()\n",
    "solution.longestSubstring(\"bbaaacbd\", 3)"
   ]
  },
  {
   "cell_type": "code",
   "execution_count": null,
   "metadata": {},
   "outputs": [],
   "source": []
  }
 ],
 "metadata": {
  "kernelspec": {
   "display_name": "Python 3",
   "language": "python",
   "name": "python3"
  },
  "language_info": {
   "codemirror_mode": {
    "name": "ipython",
    "version": 3
   },
   "file_extension": ".py",
   "mimetype": "text/x-python",
   "name": "python",
   "nbconvert_exporter": "python",
   "pygments_lexer": "ipython3",
   "version": "3.6.2"
  }
 },
 "nbformat": 4,
 "nbformat_minor": 4
}
