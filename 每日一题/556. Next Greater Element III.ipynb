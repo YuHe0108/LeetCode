{
 "cells": [
  {
   "cell_type": "code",
   "execution_count": 17,
   "metadata": {},
   "outputs": [
    {
     "data": {
      "text/plain": [
       "10"
      ]
     },
     "execution_count": 17,
     "metadata": {},
     "output_type": "execute_result"
    }
   ],
   "source": [
    "s = str(pow(2, 31))\n",
    "len(s)"
   ]
  },
  {
   "cell_type": "markdown",
   "metadata": {},
   "source": [
    "每个位置都试试刚刚大于这个数能否构成一个新的数字"
   ]
  },
  {
   "cell_type": "code",
   "execution_count": 38,
   "metadata": {},
   "outputs": [],
   "source": [
    "from collections import defaultdict, Counter\n",
    "\n",
    "class Solution:\n",
    "    def nextGreaterElement(self, n: int) -> int:\n",
    "        s_n = str(n)\n",
    "        count = Counter(s_n)\n",
    "        for i in range(len(s_n)): # 最多个位置\n",
    "            res, state = self.helper(i, s_n[::-1], dict(count))\n",
    "            if state:\n",
    "                return res[::-1]\n",
    "        return -1\n",
    "    \n",
    "    def helper(self, idx, s, count):\n",
    "        # 每次都只比 idx 位置上的数字 大一点，如果能够实现，返回True，如果都不行，返回 -1\n",
    "        res = ''\n",
    "        for i in range(idx, len(s)):\n",
    "            pass\n",
    "        \n",
    "        # idx 之前的数字都尽量保证最小的顺序\n",
    "        vals = ''\n",
    "        for k, v in count:\n",
    "            if v != 0:\n",
    "                val += k * v\n",
    "        vals = sorted(vals)\n",
    "        return ''.join(vals) + res, True"
   ]
  },
  {
   "cell_type": "code",
   "execution_count": null,
   "metadata": {},
   "outputs": [],
   "source": []
  },
  {
   "cell_type": "code",
   "execution_count": null,
   "metadata": {},
   "outputs": [],
   "source": []
  },
  {
   "cell_type": "raw",
   "metadata": {},
   "source": [
    "解题思路：\n",
    "    从数字尾部开始向前遍历，构建单调递增栈：\n",
    "    直到遇到当前值a[i]小于栈顶stk[-1]\n",
    "    然后在栈中二分查找到大于a[i]的最小数stk[idx]，交换两个数字\n",
    "    stk排序后拼接在n[:i+1]后就是下一个更大元素\n",
    "\n",
    "注意：\n",
    "    如果整个数字是倒叙的就没有下一个更大数字\n",
    "    超过2**31的情况返回-1"
   ]
  },
  {
   "cell_type": "code",
   "execution_count": 125,
   "metadata": {},
   "outputs": [],
   "source": [
    "import bisect\n",
    "\n",
    "class Solution:\n",
    "    def nextGreaterElement(self, n: int) -> int:\n",
    "        n = list(str(n))\n",
    "        stk = []\n",
    "        for i in range(len(n) - 1, -1, -1):\n",
    "            if len(stk) == 0:\n",
    "                stk.append(n[i])\n",
    "            else:\n",
    "                if n[i] >= stk[-1]:\n",
    "                    stk.append(n[i])\n",
    "                else:\n",
    "                    # 因为右边的 位数更低，改动的浮动更小, 从 stk中找一个比 n[i] 稍微大一点的数字\n",
    "                    idx = bisect.bisect_right(stk, n[i])\n",
    "                    stk[idx], n[i] = n[i], stk[idx]\n",
    "                    break\n",
    "        # 如果是完全逆序的情况，那么没有可能出现比这个数大的，因为这个数就是最大的了\n",
    "        if len(stk) == len(n):\n",
    "            return -1\n",
    "        stk.sort()\n",
    "        n = n[:i + 1] + stk\n",
    "        ret = int(''.join(n))\n",
    "        if ret >= 2 ** 31:\n",
    "            return -1\n",
    "        return ret"
   ]
  },
  {
   "cell_type": "code",
   "execution_count": 126,
   "metadata": {},
   "outputs": [
    {
     "name": "stdout",
     "output_type": "stream",
     "text": [
      "['1', '3', '4', '4', '3', '3', '2', '2']\n"
     ]
    },
    {
     "data": {
      "text/plain": [
       "13222344"
      ]
     },
     "execution_count": 126,
     "metadata": {},
     "output_type": "execute_result"
    }
   ],
   "source": [
    "solution = Solution()\n",
    "solution.nextGreaterElement(12443322)"
   ]
  },
  {
   "cell_type": "code",
   "execution_count": null,
   "metadata": {},
   "outputs": [],
   "source": [
    "['2', '2', '2', '3', '4', '4'\n",
    "['2', '2', '3', '3', '4', '4']"
   ]
  }
 ],
 "metadata": {
  "kernelspec": {
   "display_name": "Python 3",
   "language": "python",
   "name": "python3"
  },
  "language_info": {
   "codemirror_mode": {
    "name": "ipython",
    "version": 3
   },
   "file_extension": ".py",
   "mimetype": "text/x-python",
   "name": "python",
   "nbconvert_exporter": "python",
   "pygments_lexer": "ipython3",
   "version": "3.6.2"
  }
 },
 "nbformat": 4,
 "nbformat_minor": 4
}
