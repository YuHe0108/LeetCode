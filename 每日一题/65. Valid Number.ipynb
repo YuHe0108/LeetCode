{
 "cells": [
  {
   "cell_type": "code",
   "execution_count": null,
   "metadata": {},
   "outputs": [],
   "source": []
  },
  {
   "cell_type": "code",
   "execution_count": null,
   "metadata": {},
   "outputs": [],
   "source": []
  },
  {
   "cell_type": "code",
   "execution_count": null,
   "metadata": {},
   "outputs": [],
   "source": []
  },
  {
   "cell_type": "code",
   "execution_count": null,
   "metadata": {},
   "outputs": [],
   "source": []
  },
  {
   "cell_type": "code",
   "execution_count": 106,
   "metadata": {},
   "outputs": [],
   "source": [
    "class Solution:\n",
    "    def isNumber(self, s: str) -> bool:\n",
    "        \n",
    "        def valid_num(val, point): # has_e: 是否是科学计数\n",
    "            for i, v in enumerate(val):\n",
    "                if ((v == '+' or v == '-')) and i != 0: # 正负号只能出现在首位\n",
    "                    return False\n",
    "            \n",
    "            point_num = val.count('.')\n",
    "            if point_num > point: # 只能出现point_num 小于等于 point\n",
    "                return False\n",
    "            \n",
    "            if point_num > 0: # 有小数点\n",
    "                point_idx = val.index('.')\n",
    "                pred_sub = val[:point_idx] # 小数点前半部分, 可以有正负号\n",
    "                last_sub = val[point_idx+1:] # 小数点后半部分, 不能有正负号, 前面已经验证过\n",
    "                if len(pred_sub) == 0 and len(last_sub) == 0: # 小数点的前面必须要有数字\n",
    "                    return False\n",
    "                return valid_num(pred_sub, 0) and valid_num(last_sub, 0)\n",
    "            \n",
    "            return len(val) == 0 or val.isdigit() # 是不是数字或者为空\n",
    "        \n",
    "        s = s.strip() # 1. 去除字符串前后的空格\n",
    "        n = len(s)\n",
    "        count_e = 0\n",
    "        e_idx = None\n",
    "        for i, v in enumerate(s):\n",
    "            if v == 'E' or v == 'e':\n",
    "                count_e += 1\n",
    "                e_idx = i\n",
    "            elif v.isalpha(): # 除了 'E' 和 'e' 之外出现了其他的字母,为False\n",
    "                return False\n",
    "            \n",
    "        if count_e > 1: # 是不是科学计数法\n",
    "            return False\n",
    "        if count_e == 0:\n",
    "            return valid_num(s, 1) # 只要是合法的数字就可以, 最多只能有一个小数点, 正负号只能在首位\n",
    "        else:\n",
    "            if len(s[:e_idx]) == 0 or int(s[:e_idx]) == 0 or e_idx == len(s) or len(s[e_idx+1:]) == 0: # 存在 e, 则e的前面一定要有数字\n",
    "                return False\n",
    "            # 科学计数的前面可以有 小数点 后面不能有小数点\n",
    "            return valid_num(s[:e_idx], 1) and valid_num(s[e_idx+1:], 0)\n",
    "        return True"
   ]
  },
  {
   "cell_type": "code",
   "execution_count": null,
   "metadata": {},
   "outputs": [],
   "source": []
  },
  {
   "cell_type": "code",
   "execution_count": null,
   "metadata": {},
   "outputs": [],
   "source": []
  },
  {
   "cell_type": "code",
   "execution_count": 108,
   "metadata": {},
   "outputs": [],
   "source": [
    "class Solution:\n",
    "    def isNumber(self, s: str) -> bool:\n",
    "        transfer = {\n",
    "            \"BEGIN\": {\"+-\":\"f+-\",  \"d\":\"fd\",  \".\":\"f.\"},\n",
    "\n",
    "            \"f+-\": {\"d\":\"fd\",  \".\":\"f.\"},\n",
    "            \"fd\": {\"d\":\"fd\",  \".\":\"e.\",  \"Ee\":\"Ee\",  \"END\":\"END\"},\n",
    "            \"f.\": {\"d\":\"ed\"},\n",
    "            \"e.\": {\"d\":\"ed\",  \"Ee\":\"Ee\",  \"END\":\"END\"},\n",
    "            \"ed\": {\"d\":\"ed\",  \"Ee\":\"Ee\",  \"END\":\"END\"},\n",
    "\n",
    "            \"Ee\": {\"+-\":\"e+-\",  \"d\":\"D\"},\n",
    "\n",
    "            \"e+-\": {\"d\":\"D\"},\n",
    "            \"D\": {\"d\":\"D\",  \"END\":\"END\"}\n",
    "        }\n",
    "\n",
    "        def make_char(ch):\n",
    "            if ch == \".\": return \".\"\n",
    "            elif ch in \"+-\": return \"+-\"\n",
    "            elif ch in \"Ee\": return \"Ee\"\n",
    "            elif ch.isdigit(): return \"d\"\n",
    "            else: return \"None\"\n",
    "\n",
    "        state = \"BEGIN\"\n",
    "        for ch in s:\n",
    "            state = transfer[state].get(make_char(ch))\n",
    "            if state is None: return False\n",
    "            \n",
    "        return \"END\" in transfer[state]\n"
   ]
  },
  {
   "cell_type": "code",
   "execution_count": 109,
   "metadata": {},
   "outputs": [
    {
     "data": {
      "text/plain": [
       "False"
      ]
     },
     "execution_count": 109,
     "metadata": {},
     "output_type": "execute_result"
    }
   ],
   "source": [
    "solution = Solution()\n",
    "solution.isNumber(s = \"1.e\")"
   ]
  },
  {
   "cell_type": "code",
   "execution_count": 43,
   "metadata": {},
   "outputs": [
    {
     "data": {
      "text/plain": [
       "False"
      ]
     },
     "execution_count": 43,
     "metadata": {},
     "output_type": "execute_result"
    }
   ],
   "source": [
    "a = ''\n",
    "a.isdigit()"
   ]
  },
  {
   "cell_type": "code",
   "execution_count": 23,
   "metadata": {},
   "outputs": [],
   "source": [
    "a = \" 0 \""
   ]
  },
  {
   "cell_type": "code",
   "execution_count": 25,
   "metadata": {},
   "outputs": [
    {
     "name": "stdout",
     "output_type": "stream",
     "text": [
      "3\n"
     ]
    }
   ],
   "source": [
    "a.strip()\n"
   ]
  },
  {
   "cell_type": "code",
   "execution_count": null,
   "metadata": {},
   "outputs": [],
   "source": []
  }
 ],
 "metadata": {
  "kernelspec": {
   "display_name": "Python 3",
   "language": "python",
   "name": "python3"
  },
  "language_info": {
   "codemirror_mode": {
    "name": "ipython",
    "version": 3
   },
   "file_extension": ".py",
   "mimetype": "text/x-python",
   "name": "python",
   "nbconvert_exporter": "python",
   "pygments_lexer": "ipython3",
   "version": "3.6.2"
  }
 },
 "nbformat": 4,
 "nbformat_minor": 4
}
