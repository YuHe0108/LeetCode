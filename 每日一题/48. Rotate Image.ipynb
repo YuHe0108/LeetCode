{
 "cells": [
  {
   "cell_type": "code",
   "execution_count": null,
   "metadata": {},
   "outputs": [],
   "source": [
    "class Solution:\n",
    "    def rotate(self, matrix: List[List[int]]) -> None:\n",
    "        \"\"\"\n",
    "        Do not return anything, modify matrix in-place instead.\n",
    "        \"\"\"\n",
    "        n = len(matrix)\n",
    "        r_img = [[0] * n for _ in range(n)]\n",
    "        for i in range(n):\n",
    "            for j in range(n):\n",
    "                r_img[i][j] = matrix[n-1-j][i]\n",
    "        \n",
    "        \n",
    "        for i in range(n):\n",
    "            for j in range(n):\n",
    "                matrix[i][j] = r_img[i][j]"
   ]
  },
  {
   "cell_type": "code",
   "execution_count": null,
   "metadata": {},
   "outputs": [],
   "source": []
  },
  {
   "cell_type": "code",
   "execution_count": 30,
   "metadata": {},
   "outputs": [],
   "source": [
    "from typing import List\n",
    "\n",
    "class Solution:\n",
    "    def rotate(self, matrix: List[List[int]]) -> None:\n",
    "        # 旋转图像的四个角\n",
    "        n = len(matrix)\n",
    "        pos1, pos2 = 0, n-1\n",
    "        while pos1 < pos2:\n",
    "            for i in range(pos2-pos1):\n",
    "                temp = matrix[pos1][pos1+i]\n",
    "                # [pos1, pos1+i], [pos1+i, pos2], [po2, pos2-i], [pos2-i, pos1]\n",
    "                matrix[pos1][pos1+i] = matrix[pos2-i][pos1]\n",
    "                matrix[pos2-i][pos1] = matrix[pos2][pos2-i]\n",
    "                matrix[pos2][pos2-i] = matrix[pos1+i][pos2]\n",
    "                matrix[pos1+i][pos2] = temp\n",
    "            pos1 += 1\n",
    "            pos2 -=1\n",
    "        return matrix"
   ]
  },
  {
   "cell_type": "code",
   "execution_count": 31,
   "metadata": {},
   "outputs": [
    {
     "data": {
      "text/plain": [
       "[[7, 4, 1], [8, 5, 2], [9, 6, 3]]"
      ]
     },
     "execution_count": 31,
     "metadata": {},
     "output_type": "execute_result"
    }
   ],
   "source": [
    "solution = Solution()\n",
    "solution.rotate([[1,2,3],[4,5,6],[7,8,9]])"
   ]
  },
  {
   "cell_type": "code",
   "execution_count": null,
   "metadata": {},
   "outputs": [],
   "source": [
    "[[7, 8, 1], \n",
    " [4, 5, 2], \n",
    " [9, 6, 3]]"
   ]
  },
  {
   "cell_type": "code",
   "execution_count": null,
   "metadata": {},
   "outputs": [],
   "source": [
    "[[1,2,3],\n",
    " [4,5,6],\n",
    " [7,8,9]]"
   ]
  },
  {
   "cell_type": "code",
   "execution_count": null,
   "metadata": {},
   "outputs": [],
   "source": []
  },
  {
   "cell_type": "code",
   "execution_count": null,
   "metadata": {},
   "outputs": [],
   "source": []
  },
  {
   "cell_type": "code",
   "execution_count": null,
   "metadata": {},
   "outputs": [],
   "source": []
  },
  {
   "cell_type": "code",
   "execution_count": null,
   "metadata": {},
   "outputs": [],
   "source": []
  },
  {
   "cell_type": "code",
   "execution_count": null,
   "metadata": {},
   "outputs": [],
   "source": []
  },
  {
   "cell_type": "code",
   "execution_count": 24,
   "metadata": {},
   "outputs": [],
   "source": [
    "class Solution:\n",
    "    def rotate(self, matrix: List[List[int]]) -> None:\n",
    "        n = len(matrix)\n",
    "        pos1, pos2 = 0, n-1\n",
    "        while pos1 < pos2:\n",
    "            for add in range(pos2 - pos1):\n",
    "                temp = matrix[pos2-add][pos1]\n",
    "                matrix[pos2-add][pos1] = matrix[pos2][pos2-add]\n",
    "                matrix[pos2][pos2-add] = matrix[pos1+add][pos2]\n",
    "                matrix[pos1+add][pos2] = matrix[pos1][pos1+add]\n",
    "                matrix[pos1][pos1+add] = temp\n",
    "                add = add+1\n",
    "            pos1 = pos1+1\n",
    "            pos2 = pos2-1\n",
    "        print(matrix)"
   ]
  },
  {
   "cell_type": "code",
   "execution_count": 25,
   "metadata": {},
   "outputs": [
    {
     "name": "stdout",
     "output_type": "stream",
     "text": [
      "0 2 0 2\n",
      "0 2 1 1\n",
      "[[7, 4, 1], [8, 5, 2], [9, 6, 3]]\n"
     ]
    }
   ],
   "source": [
    "solution = Solution()\n",
    "solution.rotate([[1,2,3],[4,5,6],[7,8,9]])"
   ]
  },
  {
   "cell_type": "code",
   "execution_count": null,
   "metadata": {},
   "outputs": [],
   "source": [
    "[[1,2,3],\n",
    " [4,5,6],\n",
    " [7,8,9]]"
   ]
  },
  {
   "cell_type": "code",
   "execution_count": null,
   "metadata": {},
   "outputs": [],
   "source": []
  },
  {
   "cell_type": "code",
   "execution_count": null,
   "metadata": {},
   "outputs": [],
   "source": [
    "[0, 0], [0, n-1], [n-1, n-1], [n-1, 0]\n",
    "[0, 1], [1, n-1], [n-1, n-2], [n-2, 0]"
   ]
  }
 ],
 "metadata": {
  "kernelspec": {
   "display_name": "Python 3",
   "language": "python",
   "name": "python3"
  },
  "language_info": {
   "codemirror_mode": {
    "name": "ipython",
    "version": 3
   },
   "file_extension": ".py",
   "mimetype": "text/x-python",
   "name": "python",
   "nbconvert_exporter": "python",
   "pygments_lexer": "ipython3",
   "version": "3.6.2"
  }
 },
 "nbformat": 4,
 "nbformat_minor": 4
}
