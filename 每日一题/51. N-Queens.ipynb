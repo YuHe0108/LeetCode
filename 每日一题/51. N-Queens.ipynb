{
 "cells": [
  {
   "cell_type": "code",
   "execution_count": null,
   "metadata": {},
   "outputs": [],
   "source": []
  },
  {
   "cell_type": "code",
   "execution_count": null,
   "metadata": {},
   "outputs": [],
   "source": []
  },
  {
   "cell_type": "code",
   "execution_count": null,
   "metadata": {},
   "outputs": [],
   "source": [
    "class Solution:\n",
    "    def solveNQueens(self, n: int) -> List[List[str]]:\n",
    "        ans = []\n",
    "        \n",
    "        def dfs(nums, row):\n",
    "            if row == n:\n",
    "                ans.append(nums[:])\n",
    "                return\n",
    "            for col in range(n):\n",
    "                nums[row] = col\n",
    "                if isvalid(nums, row):\n",
    "                    row += 1\n",
    "                    dfs(nums, row)\n",
    "                    row -= 1\n",
    "            \n",
    "        \n",
    "        def isvalid(nums, row):\n",
    "            for i in range(row):\n",
    "                if abs(nums[row] - nums[i]) == abs(row - i) or nums[row] == nums[i]:\n",
    "                    return False\n",
    "            return True\n",
    "        \n",
    "        dfs([None for _ in range(n)], 0)\n",
    "        \n",
    "        result = [[] for _ in range(len(ans))]\n",
    "        for i in range(len(ans)):\n",
    "            for col in ans[i]:\n",
    "                temp = '.' * n\n",
    "                result[i].append(temp[:col] + 'Q' + temp[col+1:])\n",
    "        return result"
   ]
  },
  {
   "cell_type": "code",
   "execution_count": null,
   "metadata": {},
   "outputs": [],
   "source": []
  },
  {
   "cell_type": "code",
   "execution_count": 43,
   "metadata": {},
   "outputs": [],
   "source": [
    "from typing import List\n",
    "\n",
    "class Solution:\n",
    "    def solveNQueens(self, n: int) -> List[List[str]]:\n",
    "        \n",
    "        def isvalid(row, col):\n",
    "            # 同一行中不能有两个皇后，即当前列中，不能有 \"Q\"\n",
    "            for i in range(n):\n",
    "                if board[row][i] == 'Q':\n",
    "                    return False\n",
    "            # 当前 col 中，不能有 'Q'\n",
    "            for i in range(n):\n",
    "                if board[i][col] == 'Q':\n",
    "                    return False\n",
    "            # 正对角线、副对角线元素的验证\n",
    "            for i in range(row):\n",
    "                for j in range(n):\n",
    "                    if (i+j) == (row+col) and board[i][j] == 'Q':\n",
    "                        return False\n",
    "                    if (row-i) == (col-j) and board[i][j] == 'Q':\n",
    "                        return False\n",
    "            return True\n",
    "        \n",
    "        def dfs(row):\n",
    "            # 在第 row 行放置 'Q'\n",
    "            nonlocal res\n",
    "            if row == n:\n",
    "                out = [''.join(x) for x in board]\n",
    "                res.append(out)\n",
    "                return\n",
    "            \n",
    "            for col in range(n):\n",
    "                # 在第 row 行 的第 col 列位置放置 'Q'\n",
    "                # 验证在当前 row 行的 第 col 列放置 'Q' 是否会和之前的元素冲突\n",
    "                if isvalid(row, col):\n",
    "                    board[row][col] = 'Q'\n",
    "                    dfs(row + 1)\n",
    "                    board[row][col] = '.'\n",
    "            return\n",
    "        \n",
    "        board = [['.'] * n for _ in range(n)]\n",
    "        res = []\n",
    "        dfs(0)\n",
    "        return res"
   ]
  },
  {
   "cell_type": "code",
   "execution_count": 44,
   "metadata": {},
   "outputs": [
    {
     "data": {
      "text/plain": [
       "[['.Q..', '...Q', 'Q...', '..Q.'], ['..Q.', 'Q...', '...Q', '.Q..']]"
      ]
     },
     "execution_count": 44,
     "metadata": {},
     "output_type": "execute_result"
    }
   ],
   "source": [
    "solution = Solution()\n",
    "solution.solveNQueens(4)"
   ]
  },
  {
   "cell_type": "code",
   "execution_count": null,
   "metadata": {},
   "outputs": [],
   "source": [
    "['.Q..', \n",
    " '...Q', \n",
    " 'Q...', \n",
    " '..Q.'],"
   ]
  },
  {
   "cell_type": "code",
   "execution_count": null,
   "metadata": {},
   "outputs": [],
   "source": [
    "['.Q..', \n",
    " '...Q', \n",
    " '..Q.', \n",
    " 'Q...'],"
   ]
  },
  {
   "cell_type": "code",
   "execution_count": null,
   "metadata": {},
   "outputs": [],
   "source": [
    "* Q * *\n",
    "* * * Q\n",
    "* * Q *\n",
    "Q * * *"
   ]
  },
  {
   "cell_type": "code",
   "execution_count": null,
   "metadata": {},
   "outputs": [],
   "source": []
  },
  {
   "cell_type": "code",
   "execution_count": null,
   "metadata": {},
   "outputs": [],
   "source": [
    "[['.', 'Q', '.', '.'], \n",
    " ['.', '.', '.', 'Q'], \n",
    " ['.', '.', '.', '.'], \n",
    " ['.', '.', '.', '.']]\n"
   ]
  }
 ],
 "metadata": {
  "kernelspec": {
   "display_name": "Python 3",
   "language": "python",
   "name": "python3"
  },
  "language_info": {
   "codemirror_mode": {
    "name": "ipython",
    "version": 3
   },
   "file_extension": ".py",
   "mimetype": "text/x-python",
   "name": "python",
   "nbconvert_exporter": "python",
   "pygments_lexer": "ipython3",
   "version": "3.6.2"
  }
 },
 "nbformat": 4,
 "nbformat_minor": 4
}
