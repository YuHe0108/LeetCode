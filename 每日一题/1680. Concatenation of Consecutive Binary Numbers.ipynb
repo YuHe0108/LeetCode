{
 "cells": [
  {
   "cell_type": "code",
   "execution_count": 2,
   "metadata": {},
   "outputs": [
    {
     "data": {
      "text/plain": [
       "3"
      ]
     },
     "execution_count": 2,
     "metadata": {},
     "output_type": "execute_result"
    }
   ],
   "source": [
    "int('11', 2)"
   ]
  },
  {
   "cell_type": "code",
   "execution_count": null,
   "metadata": {},
   "outputs": [],
   "source": [
    "class Solution:\n",
    "    def concatenatedBinary(self, n: int) -> int:\n",
    "        bin_str = ''\n",
    "        for i in range(1, n+1):\n",
    "            bin_str += bin(i)[2:]\n",
    "        mod = pow(10, 9) + 7\n",
    "        return int(bin_str, 2) % mod"
   ]
  },
  {
   "cell_type": "code",
   "execution_count": null,
   "metadata": {},
   "outputs": [],
   "source": []
  },
  {
   "cell_type": "code",
   "execution_count": null,
   "metadata": {},
   "outputs": [],
   "source": [
    "class Solution:\n",
    "    def concatenatedBinary(self, n: int) -> int:\n",
    "        bits, res, mod = 1, 0, pow(10, 9) + 7\n",
    "        for i in range(1, n+1):\n",
    "            res = ((res << bits) + i) % mod\n",
    "            if x == (1 << bits) - 1:\n",
    "                bits += 1\n",
    "        return res"
   ]
  },
  {
   "cell_type": "code",
   "execution_count": null,
   "metadata": {},
   "outputs": [],
   "source": []
  },
  {
   "cell_type": "code",
   "execution_count": null,
   "metadata": {},
   "outputs": [],
   "source": [
    "class Solution:\n",
    "    ansList =[0,1]\n",
    "    mod = 10**9+7\n",
    "    ans = 1\n",
    "    fast = 4\n",
    "    carry = 2\n",
    "    for num in range(2,100001):\n",
    "        if num==fast:\n",
    "            fast*=2\n",
    "            carry+=1\n",
    "        ans = ((ans<<carry)+num)%mod\n",
    "        ansList.append(ans)\n",
    "    def concatenatedBinary(self, n: int) -> int:\n",
    "        return Solution.ansList[n]"
   ]
  }
 ],
 "metadata": {
  "kernelspec": {
   "display_name": "Python 3",
   "language": "python",
   "name": "python3"
  },
  "language_info": {
   "codemirror_mode": {
    "name": "ipython",
    "version": 3
   },
   "file_extension": ".py",
   "mimetype": "text/x-python",
   "name": "python",
   "nbconvert_exporter": "python",
   "pygments_lexer": "ipython3",
   "version": "3.6.2"
  }
 },
 "nbformat": 4,
 "nbformat_minor": 4
}
