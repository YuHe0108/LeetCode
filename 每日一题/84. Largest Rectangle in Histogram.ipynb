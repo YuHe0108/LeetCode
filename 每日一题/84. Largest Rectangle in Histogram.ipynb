{
 "cells": [
  {
   "cell_type": "code",
   "execution_count": null,
   "metadata": {},
   "outputs": [],
   "source": []
  },
  {
   "cell_type": "code",
   "execution_count": null,
   "metadata": {},
   "outputs": [],
   "source": []
  },
  {
   "cell_type": "code",
   "execution_count": 11,
   "metadata": {},
   "outputs": [],
   "source": [
    "# 维护一个单调栈\n",
    "class Solution:\n",
    "    def largestRectangleArea(self, heights):\n",
    "        stack = []\n",
    "        max_area = -float('inf')\n",
    "        heights.append(0)\n",
    "        heights.insert(0, 0)\n",
    "        for i, h in enumerate(heights):\n",
    "            # 新加入的矩形框的高度严格小于 最后一次加入的矩形框高度\n",
    "            # 那么 stack[-1] 所形成的最大矩形面积已经固定了\n",
    "            # area = heights[stack[-1]] * (i - stack[-1])\n",
    "            while stack and h < heights[stack[-1]]:\n",
    "                h_idx = stack.pop()\n",
    "                width = i - stack[-1] - 1\n",
    "                max_area = max(max_area, width * heights[h_idx])\n",
    "            stack.append(i)\n",
    "        return max_area"
   ]
  },
  {
   "cell_type": "code",
   "execution_count": null,
   "metadata": {},
   "outputs": [],
   "source": []
  },
  {
   "cell_type": "code",
   "execution_count": 13,
   "metadata": {},
   "outputs": [],
   "source": [
    "# 维护一个单调栈\n",
    "class Solution:\n",
    "    def largestRectangleArea(self, heights):\n",
    "        stack = []\n",
    "        max_area = -float('inf')\n",
    "        heights.append(0)\n",
    "        for i, h in enumerate(heights):\n",
    "            # 新加入的矩形框的高度严格小于 最后一次加入的矩形框高度\n",
    "            # 那么 stack[-1] 所形成的最大矩形面积已经固定了\n",
    "            # area = heights[stack[-1]] * (i - stack[-1])\n",
    "            while stack and h < heights[stack[-1]]:\n",
    "                h_idx = stack.pop()\n",
    "                width = i - h_idx\n",
    "                max_area = max(max_area, width * heights[h_idx])\n",
    "            stack.append(i)\n",
    "        return max_area"
   ]
  },
  {
   "cell_type": "code",
   "execution_count": 14,
   "metadata": {},
   "outputs": [
    {
     "data": {
      "text/plain": [
       "10"
      ]
     },
     "execution_count": 14,
     "metadata": {},
     "output_type": "execute_result"
    }
   ],
   "source": [
    "solution = Solution()\n",
    "solution.largestRectangleArea([2,1,5,6,2,3])"
   ]
  },
  {
   "cell_type": "code",
   "execution_count": null,
   "metadata": {},
   "outputs": [],
   "source": []
  }
 ],
 "metadata": {
  "kernelspec": {
   "display_name": "Python 3",
   "language": "python",
   "name": "python3"
  },
  "language_info": {
   "codemirror_mode": {
    "name": "ipython",
    "version": 3
   },
   "file_extension": ".py",
   "mimetype": "text/x-python",
   "name": "python",
   "nbconvert_exporter": "python",
   "pygments_lexer": "ipython3",
   "version": "3.6.2"
  }
 },
 "nbformat": 4,
 "nbformat_minor": 4
}
