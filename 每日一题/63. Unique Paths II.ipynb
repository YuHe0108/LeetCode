{
 "cells": [
  {
   "cell_type": "code",
   "execution_count": null,
   "metadata": {},
   "outputs": [],
   "source": []
  },
  {
   "cell_type": "code",
   "execution_count": null,
   "metadata": {},
   "outputs": [],
   "source": []
  },
  {
   "cell_type": "code",
   "execution_count": null,
   "metadata": {},
   "outputs": [],
   "source": []
  },
  {
   "cell_type": "code",
   "execution_count": null,
   "metadata": {},
   "outputs": [],
   "source": []
  },
  {
   "cell_type": "code",
   "execution_count": 13,
   "metadata": {},
   "outputs": [],
   "source": [
    "from typing import List\n",
    "\n",
    "class Solution:\n",
    "    def uniquePathsWithObstacles(self, obstacleGrid: List[List[int]]) -> int:\n",
    "        \n",
    "        rows, cols = len(obstacleGrid), len(obstacleGrid[0])\n",
    "        dp = [[0] * cols for _ in range(rows)]\n",
    "        dp[0][0] = 1\n",
    "        for i in range(rows):\n",
    "            for j in range(cols):\n",
    "                if obstacleGrid[i][j] == 1:\n",
    "                    dp[i][j] = -float('inf')\n",
    "                    continue\n",
    "                if i == j == 0:\n",
    "                    continue\n",
    "                if i > 0 and j > 0:\n",
    "                    left = 0 if dp[i-1][j] == -float('inf') else dp[i-1][j]\n",
    "                    up = 0 if dp[i][j-1] == -float('inf') else dp[i][j-1]\n",
    "                    dp[i][j] += left + up\n",
    "                elif j == 0: # 来自左方\n",
    "                    left = 0 if dp[i-1][j] == -float('inf') else dp[i-1][j]\n",
    "                    dp[i][j] += left\n",
    "                elif i == 0:\n",
    "                    up = 0 if dp[i][j-1] == -float('inf') else dp[i][j-1]\n",
    "                    dp[i][j] += up\n",
    "        print(dp)\n",
    "        return dp[-1][-1]"
   ]
  },
  {
   "cell_type": "code",
   "execution_count": 15,
   "metadata": {},
   "outputs": [
    {
     "name": "stdout",
     "output_type": "stream",
     "text": [
      "[[1, -inf], [1, 1]]\n"
     ]
    },
    {
     "data": {
      "text/plain": [
       "1"
      ]
     },
     "execution_count": 15,
     "metadata": {},
     "output_type": "execute_result"
    }
   ],
   "source": [
    "solution = Solution()\n",
    "solution.uniquePathsWithObstacles(obstacleGrid = [[0,1],[0,0]])"
   ]
  },
  {
   "cell_type": "code",
   "execution_count": null,
   "metadata": {},
   "outputs": [],
   "source": []
  }
 ],
 "metadata": {
  "kernelspec": {
   "display_name": "Python 3",
   "language": "python",
   "name": "python3"
  },
  "language_info": {
   "codemirror_mode": {
    "name": "ipython",
    "version": 3
   },
   "file_extension": ".py",
   "mimetype": "text/x-python",
   "name": "python",
   "nbconvert_exporter": "python",
   "pygments_lexer": "ipython3",
   "version": "3.6.2"
  }
 },
 "nbformat": 4,
 "nbformat_minor": 4
}
