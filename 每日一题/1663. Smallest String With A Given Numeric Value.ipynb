{
 "cells": [
  {
   "cell_type": "code",
   "execution_count": null,
   "metadata": {},
   "outputs": [],
   "source": []
  },
  {
   "cell_type": "code",
   "execution_count": null,
   "metadata": {},
   "outputs": [],
   "source": []
  },
  {
   "cell_type": "code",
   "execution_count": 52,
   "metadata": {},
   "outputs": [],
   "source": [
    "class Solution:\n",
    "    def getSmallestString(self, n: int, k: int) -> str:\n",
    "        res = ''\n",
    "        for i in range(n):\n",
    "            remain = n - i\n",
    "            print(remain * 26 - k)\n",
    "            if remain * 26 - k >= 26: # 后面的数字都取 26，如果有余裕，前面可以取到 1\n",
    "                res += 'a'\n",
    "                k -= 1\n",
    "            else:\n",
    "                z_nums = k // 26\n",
    "                mid = chr(k - z_nums * 26 + 96) if k - z_nums * 26 > 0 else ''\n",
    "                res += mid + \"z\" * z_nums\n",
    "                break\n",
    "        return res"
   ]
  },
  {
   "cell_type": "code",
   "execution_count": null,
   "metadata": {},
   "outputs": [],
   "source": []
  },
  {
   "cell_type": "code",
   "execution_count": null,
   "metadata": {},
   "outputs": [],
   "source": []
  },
  {
   "cell_type": "raw",
   "metadata": {},
   "source": [
    "优秀解法：\n",
    "    由于字典序最小，简单分析肯定要 a 优先，z 结尾\n",
    "    那么答案结构一定是 'a'*la + ['a'-'y'] + 'z'*lz\n",
    "    la,lz 都可能为 0\n",
    "\n",
    "    因为字符串要定长，默认全部取a，数值k减去 n\n",
    "    剩下的优先从后往前取 z 每一个 z ，消耗 25（因为这个位置前面已经减过 1 了）\n",
    "    最后一个不为 z 的单独算出来\n",
    "\n",
    "    lz = k // 25\n",
    "    la = n - 1 - lz\n",
    "\n",
    "链接：https://leetcode-cn.com/problems/smallest-string-with-a-given-numeric-value/solution/tan-xin-o1-zhi-jie-suan-chu-aa-yz-san-ge-lei-xing-/"
   ]
  },
  {
   "cell_type": "code",
   "execution_count": null,
   "metadata": {},
   "outputs": [],
   "source": [
    "class Solution:\n",
    "    def getSmallestString(self, n: int, k: int) -> str:\n",
    "        k -= n # 所有元素都先取 ‘a’\n",
    "        znum =  k // 25\n",
    "        rest = k - 25 * znum\n",
    "        if rest == 0 :\n",
    "            return \"a\" * (n - znum) + \"z\" * znum\n",
    "        else:\n",
    "            return \"a\" * (n - znum - 1) + chr(97 + rest) + \"z\" * znum"
   ]
  },
  {
   "cell_type": "code",
   "execution_count": 53,
   "metadata": {},
   "outputs": [
    {
     "name": "stdout",
     "output_type": "stream",
     "text": [
      "57\n",
      "32\n",
      "7\n"
     ]
    },
    {
     "data": {
      "text/plain": [
       "'aaszz'"
      ]
     },
     "execution_count": 53,
     "metadata": {},
     "output_type": "execute_result"
    }
   ],
   "source": [
    "solution = Solution()\n",
    "solution.getSmallestString(n = 5, k = 73)"
   ]
  },
  {
   "cell_type": "code",
   "execution_count": null,
   "metadata": {},
   "outputs": [],
   "source": [
    "\"aay\"\n",
    "1 26\n",
    "1 25"
   ]
  }
 ],
 "metadata": {
  "kernelspec": {
   "display_name": "Python 3",
   "language": "python",
   "name": "python3"
  },
  "language_info": {
   "codemirror_mode": {
    "name": "ipython",
    "version": 3
   },
   "file_extension": ".py",
   "mimetype": "text/x-python",
   "name": "python",
   "nbconvert_exporter": "python",
   "pygments_lexer": "ipython3",
   "version": "3.6.2"
  }
 },
 "nbformat": 4,
 "nbformat_minor": 4
}
