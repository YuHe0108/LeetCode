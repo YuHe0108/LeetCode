{
 "cells": [
  {
   "cell_type": "code",
   "execution_count": null,
   "metadata": {},
   "outputs": [],
   "source": [
    "class FreqStack:\n",
    "\n",
    "    def __init__(self):\n",
    "        self.stack = []\n",
    "        self.freq = defaultdict(int)\n",
    "        \n",
    "    def push(self, x: int) -> None:\n",
    "        self.stack.append(x)\n",
    "        self.freq[x] += 1\n",
    "\n",
    "    def pop(self) -> int:\n",
    "        max_freq = max(self.freq.values()) # 频率最高的值是多少\n",
    "        \n",
    "        pop_idx = None\n",
    "        for i in range(len(self.stack)-1, -1, -1):\n",
    "            if self.freq[self.stack[i]] == max_freq:\n",
    "                pop_idx = i\n",
    "                break\n",
    "        out = self.stack.pop(pop_idx)\n",
    "        self.freq[out] -= 1\n",
    "        return out\n",
    "        \n",
    "        \n",
    "\n",
    "\n",
    "# Your FreqStack object will be instantiated and called as such:\n",
    "# obj = FreqStack()\n",
    "# obj.push(x)\n",
    "# param_2 = obj.pop()"
   ]
  },
  {
   "cell_type": "code",
   "execution_count": null,
   "metadata": {},
   "outputs": [],
   "source": []
  },
  {
   "cell_type": "code",
   "execution_count": null,
   "metadata": {},
   "outputs": [],
   "source": []
  },
  {
   "cell_type": "code",
   "execution_count": null,
   "metadata": {},
   "outputs": [],
   "source": [
    "class FreqStack:\n",
    "\n",
    "    def __init__(self):\n",
    "        self.max_freq = 0 # 数字出现的最高频数\n",
    "        self.freq_list = defaultdict(list) # 各个频率出现的数字有哪些\n",
    "        self.num_freq = defaultdict(int) # 各个数字出现的频率\n",
    "\n",
    "    def push(self, x: int) -> None:\n",
    "        self.num_freq[x] += 1\n",
    "        # 更新出现的最大频数\n",
    "        if self.num_freq[x] > self.max_freq:\n",
    "            self.max_freq = self.num_freq[x]\n",
    "        # 当前数字出现的最高频率 append 频率->数字 列表\n",
    "        self.freq_list[self.num_freq[x]].append(x)\n",
    "\n",
    "    def pop(self) -> int:\n",
    "        # 此时弹出的数字：出现的次数最多，并且是最后出现的\n",
    "        num = self.freq_list[self.max_freq].pop()\n",
    "        self.num_freq[num] -= 1\n",
    "        # 如果出现最高次数的数字都已经弹出，那么将最高出现的频数 -1\n",
    "        if not self.freq_list[self.max_freq]:\n",
    "            self.max_freq -= 1\n",
    "        return num\n",
    "        \n",
    "\n",
    "\n",
    "# Your FreqStack object will be instantiated and called as such:\n",
    "# obj = FreqStack()\n",
    "# obj.push(x)\n",
    "# param_2 = obj.pop()"
   ]
  }
 ],
 "metadata": {
  "kernelspec": {
   "display_name": "Python 3",
   "language": "python",
   "name": "python3"
  },
  "language_info": {
   "codemirror_mode": {
    "name": "ipython",
    "version": 3
   },
   "file_extension": ".py",
   "mimetype": "text/x-python",
   "name": "python",
   "nbconvert_exporter": "python",
   "pygments_lexer": "ipython3",
   "version": "3.6.2"
  }
 },
 "nbformat": 4,
 "nbformat_minor": 4
}
