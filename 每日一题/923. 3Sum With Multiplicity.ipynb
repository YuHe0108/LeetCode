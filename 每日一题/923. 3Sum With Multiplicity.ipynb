{
 "cells": [
  {
   "cell_type": "code",
   "execution_count": 1,
   "metadata": {},
   "outputs": [
    {
     "data": {
      "text/plain": [
       "9000000"
      ]
     },
     "execution_count": 1,
     "metadata": {},
     "output_type": "execute_result"
    }
   ],
   "source": [
    "3000 ** 2"
   ]
  },
  {
   "cell_type": "code",
   "execution_count": null,
   "metadata": {},
   "outputs": [],
   "source": []
  },
  {
   "cell_type": "code",
   "execution_count": null,
   "metadata": {},
   "outputs": [],
   "source": []
  },
  {
   "cell_type": "code",
   "execution_count": 5,
   "metadata": {},
   "outputs": [],
   "source": [
    "from typing import List\n",
    "from collections import *\n",
    "\n",
    "class Solution:\n",
    "    def threeSumMulti(self, arr: List[int], target: int) -> int:\n",
    "        count = Counter(arr)\n",
    "        cnt = 0\n",
    "        for v1 in count:\n",
    "            for v2 in count:\n",
    "                if v1 > v2:\n",
    "                    continue\n",
    "                v3 = target - v1 - v2\n",
    "                if v2 <= v3 and v3 in count:\n",
    "                    if v1 == v2 == v3:\n",
    "                        cnt += count[v1] * (count[v1] - 1) * (count[v1] - 2) // 6\n",
    "                    elif v1 == v2:\n",
    "                        cnt += count[v3] * count[v1] * (count[v1] - 1) // 2\n",
    "                    # 这一条可以省略，以为v1 == v3的话，一定是v1 == v2 == v3\n",
    "                    # elif v1 == v3:\n",
    "                    #   cnt += count[v2] * count[v1] * (count[v1] - 1) // 2\n",
    "                    elif v2 == v3:\n",
    "                        cnt += count[v1] * count[v2] * (count[v2] - 1) // 2\n",
    "                    else:\n",
    "                        cnt += count[v1] * count[v2] * count[v3] \n",
    "        mod_val = pow(10, 9) + 7\n",
    "        return cnt % mod_val"
   ]
  },
  {
   "cell_type": "code",
   "execution_count": 6,
   "metadata": {},
   "outputs": [
    {
     "data": {
      "text/plain": [
       "20"
      ]
     },
     "execution_count": 6,
     "metadata": {},
     "output_type": "execute_result"
    }
   ],
   "source": [
    "solution = Solution()\n",
    "solution.threeSumMulti(arr = [1,1,2,2,3,3,4,4,5,5], target = 8)"
   ]
  },
  {
   "cell_type": "code",
   "execution_count": null,
   "metadata": {},
   "outputs": [],
   "source": []
  }
 ],
 "metadata": {
  "kernelspec": {
   "display_name": "Python 3",
   "language": "python",
   "name": "python3"
  },
  "language_info": {
   "codemirror_mode": {
    "name": "ipython",
    "version": 3
   },
   "file_extension": ".py",
   "mimetype": "text/x-python",
   "name": "python",
   "nbconvert_exporter": "python",
   "pygments_lexer": "ipython3",
   "version": "3.6.2"
  }
 },
 "nbformat": 4,
 "nbformat_minor": 4
}
