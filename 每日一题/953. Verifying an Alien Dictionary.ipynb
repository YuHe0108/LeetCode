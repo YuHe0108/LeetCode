{
 "cells": [
  {
   "cell_type": "code",
   "execution_count": 2,
   "metadata": {},
   "outputs": [
    {
     "data": {
      "text/plain": [
       "2"
      ]
     },
     "execution_count": 2,
     "metadata": {},
     "output_type": "execute_result"
    }
   ],
   "source": [
    "import bisect\n",
    "\n",
    "a = [0, 1, 2]\n",
    "bisect.bisect_left(a, 2)"
   ]
  },
  {
   "cell_type": "code",
   "execution_count": null,
   "metadata": {},
   "outputs": [],
   "source": []
  },
  {
   "cell_type": "code",
   "execution_count": null,
   "metadata": {},
   "outputs": [],
   "source": []
  },
  {
   "cell_type": "code",
   "execution_count": null,
   "metadata": {},
   "outputs": [],
   "source": [
    "class Solution:\n",
    "    def isAlienSorted(self, words: List[str], order: str) -> bool:\n",
    "        \n",
    "        # 比较前一个单词和后一个单词\n",
    "        def compare(pre, last):\n",
    "            for i in range(len(pre)):\n",
    "                if i == len(last):\n",
    "                    return False\n",
    "                # 前面的单词顺序小于后面的\n",
    "                if count[pre[i]] < count[last[i]]:\n",
    "                    return True\n",
    "                if count[pre[i]] > count[last[i]]:\n",
    "                    return False\n",
    "            return True\n",
    "        \n",
    "        count = {x:idx for idx, x in enumerate(order)}\n",
    "        for i in range(len(words) - 1):\n",
    "            if not compare(words[i], words[i+1]):\n",
    "                return False\n",
    "        return True\n",
    "        \n",
    "        \n",
    "        "
   ]
  },
  {
   "cell_type": "code",
   "execution_count": null,
   "metadata": {},
   "outputs": [],
   "source": []
  },
  {
   "cell_type": "code",
   "execution_count": null,
   "metadata": {},
   "outputs": [],
   "source": [
    "class Solution:\n",
    "    def isAlienSorted(self, words: List[str], order: str) -> bool:\n",
    "        for i in range(len(words)-1):\n",
    "            if self.compare(words[i],words[i+1], order):\n",
    "                return False\n",
    "        return True\n",
    "        \n",
    "    def compare(self, x, y, order):\n",
    "        for i in range(len(x)):\n",
    "            # 说明前面的 单词更长，而后面的单词比较短，这种情况下，前面单词任意加一个单词都会超过后面的单词\n",
    "            # 因为 返回 \n",
    "            if i >= len(y):\n",
    "                return True\n",
    "            if order.index(x[i]) < order.index(y[i]):\n",
    "                return False\n",
    "            if order.index(x[i]) > order.index(y[i]):\n",
    "                return True\n",
    "        return False\n"
   ]
  },
  {
   "cell_type": "code",
   "execution_count": null,
   "metadata": {},
   "outputs": [],
   "source": []
  },
  {
   "cell_type": "code",
   "execution_count": null,
   "metadata": {},
   "outputs": [],
   "source": []
  },
  {
   "cell_type": "code",
   "execution_count": 3,
   "metadata": {},
   "outputs": [],
   "source": [
    "from typing import List\n",
    "from collections import defaultdict\n",
    "from functools import cmp_to_key\n",
    "\n",
    "class Solution:\n",
    "    def isAlienSorted(self, words: List[str], order: str) -> bool:\n",
    "        \n",
    "        # 自定义排序方式\n",
    "        def sort_fun(x, y):\n",
    "            n = min(len(x), len(y))\n",
    "            idx = 0\n",
    "            while idx < n:\n",
    "                x_char, y_char = x[idx], y[idx]\n",
    "                if count[x_char] < count[y_char]:\n",
    "                    return -1\n",
    "                elif count[x_char] > count[y_char]:\n",
    "                    return 1\n",
    "                idx += 1\n",
    "            if len(x) < len(y):\n",
    "                return -1\n",
    "            return 1 # 长度更小的排在前面\n",
    "        \n",
    "        count = {}\n",
    "        for i, letter in enumerate(order):\n",
    "            count[letter] = i\n",
    "        s_words = sorted(words, key=cmp_to_key(sort_fun)) # 自定义排序\n",
    "        print(s_words)\n",
    "        return s_words == words"
   ]
  },
  {
   "cell_type": "code",
   "execution_count": null,
   "metadata": {},
   "outputs": [],
   "source": []
  }
 ],
 "metadata": {
  "kernelspec": {
   "display_name": "Python 3",
   "language": "python",
   "name": "python3"
  },
  "language_info": {
   "codemirror_mode": {
    "name": "ipython",
    "version": 3
   },
   "file_extension": ".py",
   "mimetype": "text/x-python",
   "name": "python",
   "nbconvert_exporter": "python",
   "pygments_lexer": "ipython3",
   "version": "3.6.2"
  }
 },
 "nbformat": 4,
 "nbformat_minor": 4
}
