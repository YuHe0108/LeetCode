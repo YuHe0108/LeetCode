{
 "cells": [
  {
   "cell_type": "code",
   "execution_count": null,
   "metadata": {},
   "outputs": [],
   "source": []
  },
  {
   "cell_type": "code",
   "execution_count": null,
   "metadata": {},
   "outputs": [],
   "source": [
    "            word_count = Counter(word)\n",
    "            flag = True\n",
    "            # 首先判断，字母的种类，字母的数量书否符合要求\n",
    "            for w in word_count:\n",
    "                if w not in count or word_count[w] > count[w]:\n",
    "                    flag = False\n",
    "                    break\n",
    "            \n",
    "            # 其次, word出现字母的顺序要与 s 相同\n",
    "            if flag:"
   ]
  },
  {
   "cell_type": "code",
   "execution_count": null,
   "metadata": {},
   "outputs": [],
   "source": [
    "xj 2\n",
    "v 1\n",
    "nfplhyzsyetmzkconpf 19\n",
    "rdxfccnaxlu 11\n",
    "jpthiudqzzeugzwwsngebdeai 25\n",
    "bwjnkqxzt 9\n",
    "xrecdmubinrzfmkyvrdxxkg 23\n",
    "gkp 3\n",
    "zrwfhiximevwhehb 16\n",
    "hcnzjtkvtjgahdlz 16\n",
    "djmqfunuap 10\n",
    "taiyxekgspb 11\n",
    "avsrjafa 8\n",
    "rkgagyrzhevpiywf 16\n",
    "gaazbcx 7\n",
    "wlzpkmc 7\n",
    "nbmxgkduynigvzuyblwjepn 23\n",
    "pqmpsyqohi 10\n",
    "fvrlloopyjdpeaumovi 19\n"
   ]
  },
  {
   "cell_type": "code",
   "execution_count": null,
   "metadata": {},
   "outputs": [],
   "source": []
  },
  {
   "cell_type": "code",
   "execution_count": null,
   "metadata": {},
   "outputs": [],
   "source": []
  },
  {
   "cell_type": "code",
   "execution_count": 5,
   "metadata": {},
   "outputs": [],
   "source": [
    "# 重点：如何判断两个单词，是否可以删除其中的一些字母使其变为 另一个单词\n",
    "def fn(word): \n",
    "    \"\"\"Return True if word matches a subsequence of s.\"\"\"\n",
    "    ss = iter(s)\n",
    "    return all(c in ss for c in word)"
   ]
  },
  {
   "cell_type": "code",
   "execution_count": 7,
   "metadata": {},
   "outputs": [
    {
     "name": "stdout",
     "output_type": "stream",
     "text": [
      "['b', 'd']\n"
     ]
    },
    {
     "data": {
      "text/plain": [
       "False"
      ]
     },
     "execution_count": 7,
     "metadata": {},
     "output_type": "execute_result"
    }
   ],
   "source": [
    "s = 'adbc'\n",
    "fn('bd')"
   ]
  },
  {
   "cell_type": "code",
   "execution_count": null,
   "metadata": {},
   "outputs": [],
   "source": []
  },
  {
   "cell_type": "code",
   "execution_count": null,
   "metadata": {},
   "outputs": [],
   "source": [
    "class Solution:\n",
    "    def findLongestWord(self, s: str, d: List[str]) -> str:\n",
    "        ## 用好python内置函数sort()、find(),比双指针效率更高\n",
    "        ## 可以用元组表示多关键字排序，第一关键字是长度降序，第二关键字是字符串本身字典序\n",
    "        d.sort(key = lambda x: (-len(x), x))\n",
    "\n",
    "        for word in d:\n",
    "            index = 0\n",
    "            for ch in word:\n",
    "                # 在 s 的索引 index 之后，寻找字母 ch，如果没有返回值为 -1\n",
    "                index = s.find(ch, index) + 1  # find输出-1:False\n",
    "                if not index:\n",
    "                    break\n",
    "            else:       # 这里用else语句保证break之后不会执行，正常循环结束会执行\n",
    "                return word\n",
    "        return "
   ]
  },
  {
   "cell_type": "code",
   "execution_count": null,
   "metadata": {},
   "outputs": [],
   "source": []
  },
  {
   "cell_type": "code",
   "execution_count": 8,
   "metadata": {},
   "outputs": [],
   "source": [
    "word = 'abcd'"
   ]
  },
  {
   "cell_type": "code",
   "execution_count": 10,
   "metadata": {},
   "outputs": [
    {
     "data": {
      "text/plain": [
       "-1"
      ]
     },
     "execution_count": 10,
     "metadata": {},
     "output_type": "execute_result"
    }
   ],
   "source": [
    "word.find('a', 1)"
   ]
  },
  {
   "cell_type": "code",
   "execution_count": null,
   "metadata": {},
   "outputs": [],
   "source": [
    "class Solution:\n",
    "    def findLongestWord(self, s: str, d: List[str]) -> str:\n",
    "        d.sort(key = lambda x: (-len(x), x))\n",
    "        res = ''\n",
    "        for word in d:\n",
    "            ans = ''\n",
    "            i = j = 0\n",
    "            while i < len(s) and j < len(word):\n",
    "                if s[i] == word[j]:\n",
    "                    i, j = i+1, j+1\n",
    "                else:\n",
    "                    i += 1\n",
    "            if j == len(word):\n",
    "                return word\n",
    "        return ''"
   ]
  }
 ],
 "metadata": {
  "kernelspec": {
   "display_name": "Python 3",
   "language": "python",
   "name": "python3"
  },
  "language_info": {
   "codemirror_mode": {
    "name": "ipython",
    "version": 3
   },
   "file_extension": ".py",
   "mimetype": "text/x-python",
   "name": "python",
   "nbconvert_exporter": "python",
   "pygments_lexer": "ipython3",
   "version": "3.6.2"
  }
 },
 "nbformat": 4,
 "nbformat_minor": 4
}
