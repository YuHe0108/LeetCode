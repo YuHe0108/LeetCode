{
 "cells": [
  {
   "cell_type": "code",
   "execution_count": null,
   "metadata": {},
   "outputs": [],
   "source": []
  },
  {
   "cell_type": "code",
   "execution_count": null,
   "metadata": {},
   "outputs": [],
   "source": []
  },
  {
   "cell_type": "code",
   "execution_count": 9,
   "metadata": {},
   "outputs": [],
   "source": [
    "class Solution:\n",
    "    def getMaximumGenerated(self, n: int) -> int:\n",
    "        nums = [0] * 200\n",
    "        nums[1] = 1\n",
    "        idx = 0\n",
    "        seen = {0, 1}\n",
    "        while True:\n",
    "            if len(seen) >= n:\n",
    "                break\n",
    "            if 2 <= 2 * idx <= n:\n",
    "                nums[2 * idx] = nums[idx]\n",
    "                if 0 <= 2 * idx <= n:\n",
    "                    seen.add(2 * idx)\n",
    "            if 2 <= 2 * idx + 1 <= n:\n",
    "                nums[2 * idx + 1] = nums[idx] + nums[idx+1]\n",
    "                if 0 <= 2 * idx + 1 <= n:\n",
    "                    seen.add(2 * idx + 1)\n",
    "            idx += 1\n",
    "        return max(nums[:n+1])"
   ]
  },
  {
   "cell_type": "code",
   "execution_count": 12,
   "metadata": {},
   "outputs": [
    {
     "data": {
      "text/plain": [
       "2"
      ]
     },
     "execution_count": 12,
     "metadata": {},
     "output_type": "execute_result"
    }
   ],
   "source": [
    "solution = Solution()\n",
    "solution.getMaximumGenerated(3)"
   ]
  },
  {
   "cell_type": "code",
   "execution_count": 13,
   "metadata": {},
   "outputs": [
    {
     "name": "stdout",
     "output_type": "stream",
     "text": [
      "0 1\n",
      "2 3\n",
      "4 5\n",
      "6 7\n",
      "8 9\n",
      "10 11\n",
      "12 13\n"
     ]
    }
   ],
   "source": [
    "for i in range(7):\n",
    "    print(i * 2, i * 2 + 1)"
   ]
  },
  {
   "cell_type": "code",
   "execution_count": 16,
   "metadata": {},
   "outputs": [],
   "source": [
    "class Solution:\n",
    "    def getMaximumGenerated(self, n: int) -> int:\n",
    "        nums = [0] * (n+1)\n",
    "        if n == 0:\n",
    "            return 0\n",
    "        nums[1] = 1\n",
    "        i = 1\n",
    "        while 2 * i + 1 <= n:\n",
    "            print(i, 2*i, 2*i+1)\n",
    "            if 2 <= 2 * i <= n:\n",
    "                nums[2*i] = nums[i]\n",
    "            if 2 <= 2 * i + 1 <= n:\n",
    "                nums[2*i+1] = nums[i] + nums[i+1]\n",
    "            i += 1\n",
    "        return max(nums)"
   ]
  },
  {
   "cell_type": "code",
   "execution_count": 18,
   "metadata": {},
   "outputs": [
    {
     "name": "stdout",
     "output_type": "stream",
     "text": [
      "1 2 3\n",
      "2 4 5\n",
      "3 6 7\n"
     ]
    },
    {
     "data": {
      "text/plain": [
       "3"
      ]
     },
     "execution_count": 18,
     "metadata": {},
     "output_type": "execute_result"
    }
   ],
   "source": [
    "solution = Solution()\n",
    "solution.getMaximumGenerated(7)"
   ]
  },
  {
   "cell_type": "code",
   "execution_count": null,
   "metadata": {},
   "outputs": [],
   "source": []
  }
 ],
 "metadata": {
  "kernelspec": {
   "display_name": "Python 3",
   "language": "python",
   "name": "python3"
  },
  "language_info": {
   "codemirror_mode": {
    "name": "ipython",
    "version": 3
   },
   "file_extension": ".py",
   "mimetype": "text/x-python",
   "name": "python",
   "nbconvert_exporter": "python",
   "pygments_lexer": "ipython3",
   "version": "3.6.2"
  }
 },
 "nbformat": 4,
 "nbformat_minor": 4
}
