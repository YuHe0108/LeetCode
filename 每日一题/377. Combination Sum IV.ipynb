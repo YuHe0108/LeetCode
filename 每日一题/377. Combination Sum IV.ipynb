{
 "cells": [
  {
   "cell_type": "code",
   "execution_count": 1,
   "metadata": {},
   "outputs": [],
   "source": [
    "import math"
   ]
  },
  {
   "cell_type": "code",
   "execution_count": 11,
   "metadata": {},
   "outputs": [
    {
     "data": {
      "text/plain": [
       "1"
      ]
     },
     "execution_count": 11,
     "metadata": {},
     "output_type": "execute_result"
    }
   ],
   "source": [
    "math.factorial(2) // math.factorial(2)"
   ]
  },
  {
   "cell_type": "code",
   "execution_count": 6,
   "metadata": {},
   "outputs": [],
   "source": [
    "from scipy.special import comb, perm"
   ]
  },
  {
   "cell_type": "code",
   "execution_count": null,
   "metadata": {},
   "outputs": [],
   "source": []
  },
  {
   "cell_type": "code",
   "execution_count": 42,
   "metadata": {},
   "outputs": [],
   "source": [
    "from collections import Counter\n",
    "from typing import List\n",
    "import math\n",
    "\n",
    "class Solution:\n",
    "    def combinationSum4(self, nums: List[int], target: int) -> int:\n",
    "        nums.sort()\n",
    "        if nums[0] > target:\n",
    "            return 0\n",
    "        self.res = 0\n",
    "        self.backtracking(nums, target, 0, [])\n",
    "        return self.res\n",
    "    \n",
    "    def backtracking(self, nums, target, cur, path):\n",
    "        if cur == target:\n",
    "            print(path)\n",
    "            self.res += 1\n",
    "            return\n",
    "      \n",
    "        for val in nums:\n",
    "            if cur + val >  target:\n",
    "                return\n",
    "            path.append(val)\n",
    "            self.backtracking(nums, target, cur+val, path)\n",
    "            path.pop()\n",
    "        return"
   ]
  },
  {
   "cell_type": "code",
   "execution_count": 43,
   "metadata": {},
   "outputs": [
    {
     "name": "stdout",
     "output_type": "stream",
     "text": [
      "[1, 1, 1, 1]\n",
      "[1, 1, 2]\n",
      "[1, 2, 1]\n",
      "[1, 3]\n",
      "[2, 1, 1]\n",
      "[2, 2]\n",
      "[3, 1]\n"
     ]
    },
    {
     "data": {
      "text/plain": [
       "7"
      ]
     },
     "execution_count": 43,
     "metadata": {},
     "output_type": "execute_result"
    }
   ],
   "source": [
    "solution = Solution()\n",
    "solution.combinationSum4(nums = [1,2,3], target = 4)"
   ]
  },
  {
   "cell_type": "raw",
   "metadata": {},
   "source": [
    "较大值 是从较小值推导而来"
   ]
  },
  {
   "cell_type": "code",
   "execution_count": 46,
   "metadata": {},
   "outputs": [],
   "source": [
    "from collections import Counter\n",
    "from typing import List\n",
    "import math\n",
    "\n",
    "class Solution:\n",
    "    def combinationSum4(self, nums: List[int], target: int) -> int:\n",
    "        nums.sort()\n",
    "        dp = [0] * (target + 1) # 使用 nums 中的数字排列组合成 target 有多少种方法\n",
    "        dp[0] = 1 # sum_val == 0的组合方法只有一种\n",
    "        \n",
    "        # 算法思想：假设当前想要的 target 是 t，那么有可能组成 t 的方式\n",
    "        # 有可能是最后一个 +v，也就是有多少种 dp[t - v] 的 组合方式就会在 dp[target]的基础上 + dp[t-v]\n",
    "        for t in range(1, target+1):\n",
    "            for v in nums:\n",
    "                if t - v < 0:\n",
    "                    break\n",
    "                dp[t] += dp[t-v]\n",
    "        return dp[-1]"
   ]
  },
  {
   "cell_type": "code",
   "execution_count": 47,
   "metadata": {},
   "outputs": [
    {
     "data": {
      "text/plain": [
       "7"
      ]
     },
     "execution_count": 47,
     "metadata": {},
     "output_type": "execute_result"
    }
   ],
   "source": [
    "solution = Solution()\n",
    "solution.combinationSum4(nums = [1,2,3], target = 4)"
   ]
  },
  {
   "cell_type": "code",
   "execution_count": null,
   "metadata": {},
   "outputs": [],
   "source": []
  }
 ],
 "metadata": {
  "kernelspec": {
   "display_name": "Python 3",
   "language": "python",
   "name": "python3"
  },
  "language_info": {
   "codemirror_mode": {
    "name": "ipython",
    "version": 3
   },
   "file_extension": ".py",
   "mimetype": "text/x-python",
   "name": "python",
   "nbconvert_exporter": "python",
   "pygments_lexer": "ipython3",
   "version": "3.6.2"
  }
 },
 "nbformat": 4,
 "nbformat_minor": 4
}
