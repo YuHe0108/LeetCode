{
 "cells": [
  {
   "cell_type": "code",
   "execution_count": null,
   "metadata": {},
   "outputs": [],
   "source": []
  },
  {
   "cell_type": "code",
   "execution_count": null,
   "metadata": {},
   "outputs": [],
   "source": []
  },
  {
   "cell_type": "code",
   "execution_count": null,
   "metadata": {},
   "outputs": [],
   "source": []
  },
  {
   "cell_type": "code",
   "execution_count": 9,
   "metadata": {},
   "outputs": [],
   "source": [
    "from typing import List\n",
    "from collections import deque\n",
    "\n",
    "class Solution:\n",
    "    def furthestBuilding(self, heights: List[int], bricks: int, ladders: int) -> int:\n",
    "        cur = 0 # 当前的所在位置\n",
    "        n = len(heights)\n",
    "        dq = deque()\n",
    "        dq.append((bricks, ladders))\n",
    "        \n",
    "        for i in range(1, n):\n",
    "            if heights[i-1] < heights[i]:\n",
    "                m = len(dq)\n",
    "                dif = heights[i] - heights[i-1] # 两栋楼相差的高度\n",
    "                for _ in range(m):\n",
    "                    b, d =  dq.popleft()\n",
    "                    if b <= 0 and d <= 0:\n",
    "                        continue\n",
    "                    if b >= dif:\n",
    "                        dq.append((b - dif, d))\n",
    "                    if d > 0:\n",
    "                        dq.append((b, d-1))\n",
    "            # 没有梯子和砖块了，退出\n",
    "            if not dq:\n",
    "                break\n",
    "            cur += 1\n",
    "        return cur"
   ]
  },
  {
   "cell_type": "code",
   "execution_count": null,
   "metadata": {},
   "outputs": [],
   "source": []
  },
  {
   "cell_type": "code",
   "execution_count": null,
   "metadata": {},
   "outputs": [],
   "source": []
  },
  {
   "cell_type": "code",
   "execution_count": 75,
   "metadata": {},
   "outputs": [],
   "source": [
    "from typing import List\n",
    "from collections import deque\n",
    "import heapq\n",
    "\n",
    "# 策略：大的距离使用梯子，小的距离使用砖块\n",
    "\n",
    "class Solution:\n",
    "    def furthestBuilding(self, heights: List[int], bricks: int, ladders: int) -> int:\n",
    "        pq = []\n",
    "        n = len(heights)\n",
    "        for i in range(1, n):\n",
    "            dis = heights[i] - heights[i-1]\n",
    "            if dis > 0:\n",
    "                if ladders > 0:\n",
    "                    heapq.heappush(pq, dis)\n",
    "                    ladders -= 1\n",
    "                elif bricks > 0:\n",
    "                    smallest = 0\n",
    "                    if pq:\n",
    "                        smallest = heapq.nsmallest(1, pq)[0] # 最小值是多少\n",
    "                    if dis < smallest:\n",
    "                        if bricks >= dis: # 比最小值还要小，当前的dis使用砖块\n",
    "                            bricks -= dis\n",
    "                        else:\n",
    "                            return i-1\n",
    "                    else:\n",
    "                        if pq:\n",
    "                            v = heapq.heappop(pq) # 把最小的弹出来\n",
    "                        else:\n",
    "                            v = dis\n",
    "                        if bricks >= v:\n",
    "                            bricks -= v\n",
    "                        else:\n",
    "                            return i-1\n",
    "                        heapq.heappush(pq, dis)\n",
    "                else:\n",
    "                    return i-1\n",
    "        return n-1"
   ]
  },
  {
   "cell_type": "code",
   "execution_count": null,
   "metadata": {},
   "outputs": [],
   "source": []
  },
  {
   "cell_type": "code",
   "execution_count": 79,
   "metadata": {},
   "outputs": [],
   "source": [
    "from typing import List\n",
    "from collections import deque\n",
    "import heapq\n",
    "\n",
    "# 策略：大的距离使用梯子，小的距离使用砖块\n",
    "\n",
    "class Solution:\n",
    "    def furthestBuilding(self, heights: List[int], bricks: int, ladders: int) -> int:\n",
    "        pq = []\n",
    "        n = len(heights)\n",
    "        for i in range(1, n):\n",
    "            dis = heights[i] - heights[i-1]\n",
    "            if dis > 0:\n",
    "                heapq.heappush(pq, dis)\n",
    "                if len(pq) > ladders:\n",
    "                    bricks -= heapq.heappop(pq)\n",
    "                    if bricks < 0:\n",
    "                        return i-1\n",
    "        return n-1"
   ]
  },
  {
   "cell_type": "code",
   "execution_count": 80,
   "metadata": {},
   "outputs": [
    {
     "data": {
      "text/plain": [
       "0"
      ]
     },
     "execution_count": 80,
     "metadata": {},
     "output_type": "execute_result"
    }
   ],
   "source": [
    "solution = Solution()\n",
    "solution.furthestBuilding([1, 2], 0, 0)"
   ]
  },
  {
   "cell_type": "code",
   "execution_count": null,
   "metadata": {},
   "outputs": [],
   "source": []
  }
 ],
 "metadata": {
  "kernelspec": {
   "display_name": "Python 3",
   "language": "python",
   "name": "python3"
  },
  "language_info": {
   "codemirror_mode": {
    "name": "ipython",
    "version": 3
   },
   "file_extension": ".py",
   "mimetype": "text/x-python",
   "name": "python",
   "nbconvert_exporter": "python",
   "pygments_lexer": "ipython3",
   "version": "3.6.2"
  }
 },
 "nbformat": 4,
 "nbformat_minor": 4
}
