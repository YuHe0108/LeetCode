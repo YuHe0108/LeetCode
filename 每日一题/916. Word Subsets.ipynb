{
 "cells": [
  {
   "cell_type": "code",
   "execution_count": null,
   "metadata": {},
   "outputs": [],
   "source": []
  },
  {
   "cell_type": "code",
   "execution_count": null,
   "metadata": {},
   "outputs": [],
   "source": []
  },
  {
   "cell_type": "code",
   "execution_count": null,
   "metadata": {},
   "outputs": [],
   "source": []
  },
  {
   "cell_type": "code",
   "execution_count": 2,
   "metadata": {},
   "outputs": [],
   "source": [
    "# 超时\n",
    "from typing import List\n",
    "from collections import Counter\n",
    "\n",
    "class Solution:\n",
    "    def wordSubsets(self, A: List[str], B: List[str]) -> List[str]:\n",
    "        B = list(set(B))\n",
    "        count_a = [Counter(a) for a in A]\n",
    "        count_b = [Counter(b) for b in B]\n",
    "        \n",
    "        ans = []\n",
    "        for i, a in enumerate(A):\n",
    "            a_cnt = count_a[i]\n",
    "            flag = True\n",
    "            for i, b in enumerate(B):\n",
    "                for l in b:\n",
    "                    if count_b[i][l] > a_cnt[l]:\n",
    "                        flag = False\n",
    "                        break\n",
    "                if not flag:\n",
    "                    break\n",
    "            if flag:\n",
    "                ans.append(a)\n",
    "        return ans\n",
    "                                "
   ]
  },
  {
   "cell_type": "code",
   "execution_count": null,
   "metadata": {},
   "outputs": [],
   "source": []
  },
  {
   "cell_type": "code",
   "execution_count": null,
   "metadata": {},
   "outputs": [],
   "source": []
  },
  {
   "cell_type": "code",
   "execution_count": null,
   "metadata": {},
   "outputs": [],
   "source": []
  },
  {
   "cell_type": "code",
   "execution_count": null,
   "metadata": {},
   "outputs": [],
   "source": [
    "class Solution:\n",
    "    def wordSubsets(self, A: List[str], B: List[str]) -> List[str]:\n",
    "        count_b = defaultdict(int)\n",
    "        for b in B:\n",
    "            cnt_b = Counter(b)\n",
    "            for k, v in cnt_b.items():\n",
    "                count_b[k] = max(count_b[k], v)\n",
    "        \n",
    "        res = []\n",
    "        for a in A:\n",
    "            cnt_a = Counter(a)\n",
    "            # b 中的每个值必须要在a中，并且出现的次数要小于 cnt_a[k]\n",
    "            for k, v in count_b.items():\n",
    "                if k not in cnt_a or v > cnt_a[k]:\n",
    "                    break\n",
    "            else:\n",
    "                res.append(a)\n",
    "        return res\n",
    "        \n",
    "        "
   ]
  }
 ],
 "metadata": {
  "kernelspec": {
   "display_name": "Python 3",
   "language": "python",
   "name": "python3"
  },
  "language_info": {
   "codemirror_mode": {
    "name": "ipython",
    "version": 3
   },
   "file_extension": ".py",
   "mimetype": "text/x-python",
   "name": "python",
   "nbconvert_exporter": "python",
   "pygments_lexer": "ipython3",
   "version": "3.6.2"
  }
 },
 "nbformat": 4,
 "nbformat_minor": 4
}
