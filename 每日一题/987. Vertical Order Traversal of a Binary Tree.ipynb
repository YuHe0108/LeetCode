{
 "cells": [
  {
   "cell_type": "code",
   "execution_count": null,
   "metadata": {},
   "outputs": [],
   "source": [
    "# Definition for a binary tree node.\n",
    "# class TreeNode:\n",
    "#     def __init__(self, val=0, left=None, right=None):\n",
    "#         self.val = val\n",
    "#         self.left = left\n",
    "#         self.right = right\n",
    "class Solution:\n",
    "    def verticalTraversal(self, root: TreeNode) -> List[List[int]]:\n",
    "        def dfs(root, x, y):\n",
    "            nonlocal count\n",
    "            if not root:\n",
    "                return\n",
    "            count[x].append((y, root.val))\n",
    "            dfs(root.left, x-1, y-1)\n",
    "            dfs(root.right, x+1, y-1)\n",
    "        \n",
    "        count = defaultdict(list)\n",
    "        dfs(root, 0, 0)\n",
    "        count = sorted(count.items(), key=lambda x:x[0])\n",
    "        res = []\n",
    "        for x, item in count:\n",
    "            item = sorted(item, key=lambda x:(-x[0], x[1]))\n",
    "            vals = []\n",
    "            for a, b in item:\n",
    "                vals.append(b)\n",
    "            res.append(vals)\n",
    "        return res"
   ]
  }
 ],
 "metadata": {
  "kernelspec": {
   "display_name": "Python 3",
   "language": "python",
   "name": "python3"
  },
  "language_info": {
   "codemirror_mode": {
    "name": "ipython",
    "version": 3
   },
   "file_extension": ".py",
   "mimetype": "text/x-python",
   "name": "python",
   "nbconvert_exporter": "python",
   "pygments_lexer": "ipython3",
   "version": "3.6.2"
  }
 },
 "nbformat": 4,
 "nbformat_minor": 4
}
