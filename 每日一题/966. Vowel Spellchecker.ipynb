{
 "cells": [
  {
   "cell_type": "code",
   "execution_count": null,
   "metadata": {},
   "outputs": [],
   "source": [
    "from typing import List\n",
    "\n",
    "class Solution:\n",
    "    def spellchecker(self, wordlist: List[str], queries: List[str]) -> List[str]:\n",
    "        set_words = set(wordlist)\n",
    "        low_words = {}\n",
    "        vowel_patt = {}\n",
    "        for word in wordlist:\n",
    "            lower_w = word.lower()\n",
    "            if lower_w not in low_words: # 匹配小写的 word\n",
    "                low_words[lower_w] = word\n",
    "            # 将元音替换为通配符\n",
    "            pattern = ''.join(['*' if x in 'aeiou' else x for x in lower_w])\n",
    "            if pattern not in vowel_patt:\n",
    "                vowel_patt[pattern] = word\n",
    "                \n",
    "        ans = [''] * len(queries)\n",
    "        for i, word in enumerate(queries):\n",
    "            low_word = word.lower()\n",
    "            if word in set_words:\n",
    "                ans[i] = word\n",
    "            elif low_word in low_words:\n",
    "                ans[i] = low_words[low_word]\n",
    "            else:\n",
    "                pattern = ''.join(['*' if x in 'aeiou' else x for x in low_word])\n",
    "                if pattern in vowel_patt:\n",
    "                    ans[i] = vowel_patt[pattern]\n",
    "        return ans"
   ]
  }
 ],
 "metadata": {
  "kernelspec": {
   "display_name": "Python 3",
   "language": "python",
   "name": "python3"
  },
  "language_info": {
   "codemirror_mode": {
    "name": "ipython",
    "version": 3
   },
   "file_extension": ".py",
   "mimetype": "text/x-python",
   "name": "python",
   "nbconvert_exporter": "python",
   "pygments_lexer": "ipython3",
   "version": "3.6.2"
  }
 },
 "nbformat": 4,
 "nbformat_minor": 4
}
