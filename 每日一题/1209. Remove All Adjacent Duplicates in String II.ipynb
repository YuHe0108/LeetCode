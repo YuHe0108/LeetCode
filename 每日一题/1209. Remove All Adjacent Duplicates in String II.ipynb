{
 "cells": [
  {
   "cell_type": "code",
   "execution_count": 1,
   "metadata": {},
   "outputs": [],
   "source": [
    "a = [1, 2, 3, 4, 5]"
   ]
  },
  {
   "cell_type": "code",
   "execution_count": 3,
   "metadata": {},
   "outputs": [
    {
     "data": {
      "text/plain": [
       "[1, 2]"
      ]
     },
     "execution_count": 3,
     "metadata": {},
     "output_type": "execute_result"
    }
   ],
   "source": [
    "a[:-3]"
   ]
  },
  {
   "cell_type": "code",
   "execution_count": null,
   "metadata": {},
   "outputs": [],
   "source": [
    "class Solution:\n",
    "    def removeDuplicates(self, s: str, k: int) -> str:\n",
    "        stack = []\n",
    "        s += '#'\n",
    "        for i, v in enumerate(s):\n",
    "            # 这个时候，stack中可能已经存储了相同的字母\n",
    "            if stack and v != stack[-1]:\n",
    "                flag = True # 最后k个元素是相同的\n",
    "                while len(stack) >= k and flag:\n",
    "                    last_k = stack[-k:] # 最后 k 个元素\n",
    "                    if len(set(last_k)) == 1:\n",
    "                        stack = stack[:-k]\n",
    "                    else:\n",
    "                        flag = False\n",
    "            # 只有在 i < len(s) - 1的时候，才能将 v加入\n",
    "            if i < len(s)-1:\n",
    "                stack.append(v)\n",
    "        return ''.join(stack)"
   ]
  },
  {
   "cell_type": "code",
   "execution_count": 10,
   "metadata": {},
   "outputs": [],
   "source": [
    "class Solution:\n",
    "    def removeDuplicates(self, s: str, k: int) -> str:\n",
    "        stack = []\n",
    "        for i, v in enumerate(s):\n",
    "            # 这个时候，stack中可能已经存储了相同的字母\n",
    "            if stack and v != stack[-1]:\n",
    "                flag = True\n",
    "                while len(stack) >= k and flag:\n",
    "                    last_k = stack[-k:] # 最后 k 个元素\n",
    "                    if len(set(last_k)) == 1:\n",
    "                        stack = stack[:-k]\n",
    "                    else:\n",
    "                        flag = False\n",
    "            stack.append(v)\n",
    "            \n",
    "        if len(stack) >= k:\n",
    "            last_k = stack[-k:] # 最后 k 个元素\n",
    "            if len(set(last_k)) == 1:\n",
    "                stack = stack[:-k]\n",
    "        return ''.join(stack)"
   ]
  },
  {
   "cell_type": "code",
   "execution_count": 13,
   "metadata": {},
   "outputs": [
    {
     "data": {
      "text/plain": [
       "'abcd'"
      ]
     },
     "execution_count": 13,
     "metadata": {},
     "output_type": "execute_result"
    }
   ],
   "source": [
    "solution = Solution()\n",
    "solution.removeDuplicates(s = \"abcd\", k = 2)"
   ]
  },
  {
   "cell_type": "code",
   "execution_count": 17,
   "metadata": {},
   "outputs": [],
   "source": [
    "class Solution:\n",
    "    def removeDuplicates(self, s: str, k: int) -> str:\n",
    "        stack = []\n",
    "        \n",
    "        for c in s:\n",
    "            # 查看最新加入的 c 是否能够构成连续的 k 个相同的字母\n",
    "            if stack and stack[-1][0] == c:\n",
    "                if stack[-1][1] == k - 1:\n",
    "                    stack.pop()\n",
    "                else:\n",
    "                    stack[-1][1] += 1\n",
    "            else:\n",
    "                stack.append([c, 1])\n",
    "                \n",
    "        result = []\n",
    "        for c, n in stack:\n",
    "            result += [c] * n\n",
    "        return \"\".join(result)"
   ]
  },
  {
   "cell_type": "code",
   "execution_count": 18,
   "metadata": {},
   "outputs": [
    {
     "name": "stdout",
     "output_type": "stream",
     "text": [
      "[]\n"
     ]
    },
    {
     "data": {
      "text/plain": [
       "''"
      ]
     },
     "execution_count": 18,
     "metadata": {},
     "output_type": "execute_result"
    }
   ],
   "source": [
    "solution = Solution()\n",
    "solution.removeDuplicates(s = \"abbcca\", k = 2)"
   ]
  },
  {
   "cell_type": "code",
   "execution_count": null,
   "metadata": {},
   "outputs": [],
   "source": [
    "class Solution:\n",
    "    def removeDuplicates(self, s: str, k: int) -> str:\n",
    "        stack = []\n",
    "        \n",
    "        for c in s:\n",
    "            if stack and stack[-1][0] == c:\n",
    "                if stack[-1][1] == k - 1:\n",
    "                    stack.pop()\n",
    "                else:\n",
    "                    stack[-1][1] += 1\n",
    "            else:\n",
    "                stack.append([c, 1])\n",
    "        \n",
    "        result = []\n",
    "        for c, n in stack:\n",
    "            result += [c] * n\n",
    "            \n",
    "        return \"\".join(result)"
   ]
  }
 ],
 "metadata": {
  "kernelspec": {
   "display_name": "Python 3",
   "language": "python",
   "name": "python3"
  },
  "language_info": {
   "codemirror_mode": {
    "name": "ipython",
    "version": 3
   },
   "file_extension": ".py",
   "mimetype": "text/x-python",
   "name": "python",
   "nbconvert_exporter": "python",
   "pygments_lexer": "ipython3",
   "version": "3.6.2"
  }
 },
 "nbformat": 4,
 "nbformat_minor": 4
}
