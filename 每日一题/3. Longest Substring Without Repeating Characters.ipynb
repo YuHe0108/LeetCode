{
 "cells": [
  {
   "cell_type": "code",
   "execution_count": null,
   "metadata": {},
   "outputs": [],
   "source": []
  },
  {
   "cell_type": "code",
   "execution_count": null,
   "metadata": {},
   "outputs": [],
   "source": []
  },
  {
   "cell_type": "code",
   "execution_count": 13,
   "metadata": {},
   "outputs": [],
   "source": [
    "class Solution:\n",
    "    def lengthOfLongestSubstring(self, s: str) -> int:\n",
    "        res = 0\n",
    "        idx = 0\n",
    "        while idx < len(s):\n",
    "            cnt = 1\n",
    "            seen = {s[idx]}\n",
    "            while idx + 1 < len(s) and s[idx+1] not in seen:\n",
    "                seen.add(s[idx+1])\n",
    "                idx += 1\n",
    "                cnt += 1\n",
    "            print(idx)\n",
    "            idx += 1\n",
    "            res = max(res, cnt)\n",
    "        return res"
   ]
  },
  {
   "cell_type": "code",
   "execution_count": 26,
   "metadata": {},
   "outputs": [],
   "source": [
    "from collections import deque\n",
    "\n",
    "class Solution:\n",
    "    def lengthOfLongestSubstring(self, s: str) -> int:\n",
    "        res = 0\n",
    "        seen = set() # 用于记录哪些字母已经看到过了\n",
    "        path = [] # 记录最长的含有不同字母的字符串的长度\n",
    "        for i in range(len(s)):\n",
    "            if s[i] in seen:\n",
    "                res = max(res, len(path))\n",
    "                while path:\n",
    "                    a = path.pop(0) # 将遇到重复字符之前的字母全部弹出\n",
    "                    seen.remove(a)\n",
    "                    if a == s[i]:\n",
    "                        break\n",
    "            seen.add(s[i])\n",
    "            path.append(s[i])\n",
    "        return max(res, len(path))"
   ]
  },
  {
   "cell_type": "code",
   "execution_count": 27,
   "metadata": {},
   "outputs": [
    {
     "data": {
      "text/plain": [
       "2"
      ]
     },
     "execution_count": 27,
     "metadata": {},
     "output_type": "execute_result"
    }
   ],
   "source": [
    "solution = Solution()\n",
    "solution.lengthOfLongestSubstring(\"tmmzuxt\")"
   ]
  },
  {
   "cell_type": "code",
   "execution_count": null,
   "metadata": {},
   "outputs": [],
   "source": []
  }
 ],
 "metadata": {
  "kernelspec": {
   "display_name": "Python 3",
   "language": "python",
   "name": "python3"
  },
  "language_info": {
   "codemirror_mode": {
    "name": "ipython",
    "version": 3
   },
   "file_extension": ".py",
   "mimetype": "text/x-python",
   "name": "python",
   "nbconvert_exporter": "python",
   "pygments_lexer": "ipython3",
   "version": "3.6.2"
  }
 },
 "nbformat": 4,
 "nbformat_minor": 4
}
