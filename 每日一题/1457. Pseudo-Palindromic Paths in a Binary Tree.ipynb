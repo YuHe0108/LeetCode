{
 "cells": [
  {
   "cell_type": "code",
   "execution_count": null,
   "metadata": {},
   "outputs": [],
   "source": []
  },
  {
   "cell_type": "code",
   "execution_count": null,
   "metadata": {},
   "outputs": [],
   "source": [
    "class Solution:\n",
    "    def pseudoPalindromicPaths (self, root: TreeNode) -> int:\n",
    "        # 形成的路径中，数字出现的次数为奇数只能小于等于1\n",
    "        @lru_cache(None)\n",
    "        def check(path):\n",
    "            count = Counter(path)\n",
    "            first = False\n",
    "            for k, v in count.items():\n",
    "                if v % 2 == 1:\n",
    "                    if not first:\n",
    "                        first = True\n",
    "                    else:\n",
    "                        return False\n",
    "            return True\n",
    "        \n",
    "        def traverse(node, path):\n",
    "            nonlocal cnt\n",
    "            \n",
    "            if not node:\n",
    "                return\n",
    "            if not node.left and not node.right:\n",
    "                path.append(node.val)\n",
    "                if check(tuple(path)):\n",
    "                    cnt += 1\n",
    "                path.pop()\n",
    "                return\n",
    "            \n",
    "            path.append(node.val)\n",
    "            traverse(node.left, path)\n",
    "            traverse(node.right, path)\n",
    "            path.pop()\n",
    "        \n",
    "        \n",
    "        cnt = 0\n",
    "        traverse(root, [])\n",
    "        return cnt"
   ]
  },
  {
   "cell_type": "code",
   "execution_count": null,
   "metadata": {},
   "outputs": [],
   "source": []
  },
  {
   "cell_type": "code",
   "execution_count": null,
   "metadata": {},
   "outputs": [],
   "source": [
    "class Solution:\n",
    "    def pseudoPalindromicPaths (self, root: TreeNode) -> int:\n",
    "        def dfs(node, path):\n",
    "            if node:\n",
    "                path = path ^ (1 << node.val) \n",
    "                if not node.left and not node.right:\n",
    "                    if path & (path - 1) == 0:\n",
    "                        self.ans += 1\n",
    "                else:\n",
    "                    dfs(node.left, path)\n",
    "                    dfs(node.right, path)\n",
    "        self.ans = 0\n",
    "        dfs(root, 0)\n",
    "        return self.ans"
   ]
  },
  {
   "cell_type": "code",
   "execution_count": null,
   "metadata": {},
   "outputs": [],
   "source": [
    "class Solution:\n",
    "    def pseudoPalindromicPaths (self, root: TreeNode) -> int:\n",
    "        def dfs(node, path):\n",
    "            nonlocal cnt\n",
    "            if not node:\n",
    "                return\n",
    "            path ^= (1 << node.val)\n",
    "            if not node.left and not node.right:\n",
    "                if (path & (path-1)) == 0:# 0~1翻转\n",
    "                    cnt += 1\n",
    "                return \n",
    "            dfs(node.left, path)\n",
    "            dfs(node.right, path)\n",
    "        \n",
    "        cnt = 0\n",
    "        dfs(root, 0)\n",
    "        return cnt"
   ]
  }
 ],
 "metadata": {
  "kernelspec": {
   "display_name": "Python 3",
   "language": "python",
   "name": "python3"
  },
  "language_info": {
   "codemirror_mode": {
    "name": "ipython",
    "version": 3
   },
   "file_extension": ".py",
   "mimetype": "text/x-python",
   "name": "python",
   "nbconvert_exporter": "python",
   "pygments_lexer": "ipython3",
   "version": "3.6.2"
  }
 },
 "nbformat": 4,
 "nbformat_minor": 4
}
