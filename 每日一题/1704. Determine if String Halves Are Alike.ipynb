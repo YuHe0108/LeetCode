{
 "cells": [
  {
   "cell_type": "code",
   "execution_count": null,
   "metadata": {},
   "outputs": [],
   "source": [
    "class Solution:\n",
    "    def halvesAreAlike(self, s: str) -> bool:\n",
    "        alpha = {'a','e','i','o','u','A','E','I','O','U'}\n",
    "        n = len(s) // 2\n",
    "        a = s[:n]\n",
    "        b = s[n:]\n",
    "        a_c = b_c = 0\n",
    "        for c in a:\n",
    "            if c in alpha:\n",
    "                a_c += 1\n",
    "        for c in b:\n",
    "            if c in alpha:\n",
    "                b_c += 1\n",
    "        return a_c == b_c\n",
    "        "
   ]
  }
 ],
 "metadata": {
  "kernelspec": {
   "display_name": "Python 3",
   "language": "python",
   "name": "python3"
  },
  "language_info": {
   "codemirror_mode": {
    "name": "ipython",
    "version": 3
   },
   "file_extension": ".py",
   "mimetype": "text/x-python",
   "name": "python",
   "nbconvert_exporter": "python",
   "pygments_lexer": "ipython3",
   "version": "3.6.2"
  }
 },
 "nbformat": 4,
 "nbformat_minor": 4
}
