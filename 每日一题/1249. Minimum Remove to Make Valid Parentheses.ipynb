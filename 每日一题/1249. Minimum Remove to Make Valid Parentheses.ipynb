{
 "cells": [
  {
   "cell_type": "code",
   "execution_count": null,
   "metadata": {},
   "outputs": [],
   "source": [
    "class Solution:\n",
    "    def minRemoveToMakeValid(self, s: str) -> str:\n",
    "        stack = []\n",
    "        need_remove = set()\n",
    "        for i, a in enumerate(s):\n",
    "            if a == '(':\n",
    "                stack.append(i)\n",
    "            elif a == ')':\n",
    "                if stack and s[stack[-1]] == '(':\n",
    "                    stack.pop()\n",
    "                else:\n",
    "                    need_remove.add(i)\n",
    "        \n",
    "        set_stack = set(stack)\n",
    "        # left需要删除 '('的数量\n",
    "        res = ''\n",
    "        for i, a in enumerate(s):\n",
    "            if a == '(':\n",
    "                if i not in set_stack:\n",
    "                    res += a\n",
    "            elif a == ')':\n",
    "                if i not in need_remove:\n",
    "                    res += a\n",
    "            else:\n",
    "                res += a\n",
    "        return res\n",
    "        "
   ]
  }
 ],
 "metadata": {
  "kernelspec": {
   "display_name": "Python 3",
   "language": "python",
   "name": "python3"
  },
  "language_info": {
   "codemirror_mode": {
    "name": "ipython",
    "version": 3
   },
   "file_extension": ".py",
   "mimetype": "text/x-python",
   "name": "python",
   "nbconvert_exporter": "python",
   "pygments_lexer": "ipython3",
   "version": "3.6.2"
  }
 },
 "nbformat": 4,
 "nbformat_minor": 4
}
