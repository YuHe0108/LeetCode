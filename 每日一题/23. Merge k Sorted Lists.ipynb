{
 "cells": [
  {
   "cell_type": "code",
   "execution_count": null,
   "metadata": {},
   "outputs": [],
   "source": []
  },
  {
   "cell_type": "code",
   "execution_count": null,
   "metadata": {},
   "outputs": [],
   "source": []
  },
  {
   "cell_type": "code",
   "execution_count": null,
   "metadata": {},
   "outputs": [],
   "source": []
  },
  {
   "cell_type": "code",
   "execution_count": 1,
   "metadata": {},
   "outputs": [],
   "source": [
    "a = [1]\n",
    "b = [2]"
   ]
  },
  {
   "cell_type": "code",
   "execution_count": 2,
   "metadata": {},
   "outputs": [],
   "source": [
    "a.extend(b)"
   ]
  },
  {
   "cell_type": "code",
   "execution_count": 3,
   "metadata": {},
   "outputs": [
    {
     "data": {
      "text/plain": [
       "[1, 2]"
      ]
     },
     "execution_count": 3,
     "metadata": {},
     "output_type": "execute_result"
    }
   ],
   "source": [
    "a"
   ]
  },
  {
   "cell_type": "code",
   "execution_count": 5,
   "metadata": {},
   "outputs": [],
   "source": [
    "# Definition for singly-linked list.\n",
    "from typing import List\n",
    "\n",
    "class ListNode:\n",
    "    def __init__(self, val=0, next=None):\n",
    "        self.val = val\n",
    "        self.next = next\n",
    "\n",
    "# 暴力解法\n",
    "class Solution:\n",
    "    def mergeKLists(self, lists: List[ListNode]) -> ListNode:\n",
    "        if not lists:\n",
    "            return None\n",
    "        \n",
    "        def traverse(node):\n",
    "            nums = []\n",
    "            while node:\n",
    "                nums.append(node.val)\n",
    "                node = node.next\n",
    "            return nums\n",
    "        \n",
    "        vals = []\n",
    "        for root in lists:\n",
    "            if not root:\n",
    "                continue\n",
    "            vals.extend(traverse(root))\n",
    "        if not vals:\n",
    "            return None\n",
    "        \n",
    "        vals.sort()\n",
    "        dummy = res = ListNode(0)\n",
    "        for v in vals:\n",
    "            dummy.next = ListNode(v)\n",
    "            dummy = dummy.next\n",
    "        return res.next"
   ]
  },
  {
   "cell_type": "code",
   "execution_count": null,
   "metadata": {},
   "outputs": [],
   "source": []
  },
  {
   "cell_type": "code",
   "execution_count": null,
   "metadata": {},
   "outputs": [],
   "source": [
    "from typing import List\n",
    "import heapq\n",
    "\n",
    "# class ListNode:\n",
    "#     def __init__(self, val=0, next=None):\n",
    "#         self.val = val\n",
    "#         self.next = next\n",
    "\n",
    "# 采用heapq的方法：[(val, list_num)], 弹出之后，如果list_num后面还有数字，就heappush\n",
    "class Solution:\n",
    "    def mergeKLists(self, lists: List[ListNode]) -> ListNode:\n",
    "        if not lists:\n",
    "            return None\n",
    "        nodes = {}\n",
    "        vals = []\n",
    "        for i, root in enumerate(lists):\n",
    "            if root:\n",
    "                heapq.heappush(vals, (root.val, i))\n",
    "                nodes[i] = root.next\n",
    "        \n",
    "        dummy = res = ListNode(0)\n",
    "        while vals:\n",
    "            v, idx = heapq.heappop(vals)\n",
    "            dummy.next = ListNode(v)\n",
    "            dummy = dummy.next\n",
    "            node = nodes[idx]\n",
    "            if node is not None:\n",
    "                nodes[idx] = node.next\n",
    "                heapq.heappush(vals, (node.val, idx))\n",
    "        return res.next"
   ]
  },
  {
   "cell_type": "code",
   "execution_count": null,
   "metadata": {},
   "outputs": [],
   "source": []
  }
 ],
 "metadata": {
  "kernelspec": {
   "display_name": "Python 3",
   "language": "python",
   "name": "python3"
  },
  "language_info": {
   "codemirror_mode": {
    "name": "ipython",
    "version": 3
   },
   "file_extension": ".py",
   "mimetype": "text/x-python",
   "name": "python",
   "nbconvert_exporter": "python",
   "pygments_lexer": "ipython3",
   "version": "3.6.2"
  }
 },
 "nbformat": 4,
 "nbformat_minor": 4
}
