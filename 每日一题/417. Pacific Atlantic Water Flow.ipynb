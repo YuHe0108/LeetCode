{
 "cells": [
  {
   "cell_type": "code",
   "execution_count": null,
   "metadata": {},
   "outputs": [],
   "source": []
  },
  {
   "cell_type": "code",
   "execution_count": 3,
   "metadata": {},
   "outputs": [
    {
     "data": {
      "text/plain": [
       "22500"
      ]
     },
     "execution_count": 3,
     "metadata": {},
     "output_type": "execute_result"
    }
   ],
   "source": [
    "150 * 150"
   ]
  },
  {
   "cell_type": "code",
   "execution_count": null,
   "metadata": {},
   "outputs": [],
   "source": [
    "r = rows - 1 # 右边界\n",
    "c = cols - 1 # 下边界\n",
    "r = 0 # 上边界\n",
    "c = 0 # 下边界"
   ]
  },
  {
   "cell_type": "code",
   "execution_count": 20,
   "metadata": {},
   "outputs": [],
   "source": [
    "from typing import List\n",
    "\n",
    "# 从一个点开始，进行dfs\n",
    "class Solution:\n",
    "    def pacificAtlantic(self, matrix: List[List[int]]) -> List[List[int]]:\n",
    "        \n",
    "        def dfs(r, c):\n",
    "            nodes = [(r, c)]\n",
    "            seen = {(r, c)}\n",
    "            pac = False # 流到太平洋\n",
    "            atl = False # 流到大西洋\n",
    "            while nodes:\n",
    "                r, c = nodes.pop()\n",
    "                if r == 0 or c == 0:\n",
    "                    pac = True\n",
    "                if r == rows-1 or c == cols-1:\n",
    "                    atl = True\n",
    "                if pac and atl:\n",
    "                    return True\n",
    "                for nr, nc in (r+1, c), (r-1, c), (r, c+1), (r, c-1):\n",
    "                    if nr < 0 or nc < 0 or nr >= rows or nc >= cols:\n",
    "                        continue\n",
    "                    if (nr, nc) in seen:\n",
    "                        continue\n",
    "                    \n",
    "                    if matrix[nr][nc] <= matrix[r][c]:\n",
    "                        if (nr, nc) in res: # 如果这个地方在 res中，说明一定是成功的\n",
    "                            return True\n",
    "                        seen.add((nr, nc))\n",
    "                        nodes.append((nr, nc))\n",
    "            return False\n",
    "        \n",
    "        if not matrix or not matrix[0]:\n",
    "            return []\n",
    "        res = set()\n",
    "        rows, cols = len(matrix), len(matrix[0])\n",
    "        for i in range(rows):\n",
    "            for j in range(cols):\n",
    "                if dfs(i, j):\n",
    "                    res.add((i, j))\n",
    "        return res"
   ]
  },
  {
   "cell_type": "code",
   "execution_count": 21,
   "metadata": {},
   "outputs": [
    {
     "data": {
      "text/plain": [
       "{(0, 4), (1, 3), (1, 4), (2, 2), (3, 0), (3, 1), (4, 0)}"
      ]
     },
     "execution_count": 21,
     "metadata": {},
     "output_type": "execute_result"
    }
   ],
   "source": [
    "solution = Solution()\n",
    "solution.pacificAtlantic([[1,2,2,3,5],[3,2,3,4,4],[2,4,5,3,1],[6,7,1,4,5],[5,1,1,2,4]])"
   ]
  },
  {
   "cell_type": "code",
   "execution_count": null,
   "metadata": {},
   "outputs": [],
   "source": []
  },
  {
   "cell_type": "code",
   "execution_count": null,
   "metadata": {},
   "outputs": [],
   "source": []
  },
  {
   "cell_type": "code",
   "execution_count": null,
   "metadata": {},
   "outputs": [],
   "source": []
  },
  {
   "cell_type": "code",
   "execution_count": 25,
   "metadata": {},
   "outputs": [],
   "source": [
    "class Solution:\n",
    "    def pacificAtlantic(self, matrix: List[List[int]]) -> List[List[int]]:\n",
    "        \n",
    "        pacific = set() # 可以流到太平洋中的点\n",
    "        atlantic = set() # 可以流到大西洋中的点\n",
    "        rows, cols = len(matrix), len(matrix[0])\n",
    "        if not matrix or not matrix[0]:\n",
    "            return []\n",
    "        \n",
    "        def dfs(r, c, ocean):\n",
    "            nodes = [(r, c)]\n",
    "            ocean.add((r, c))\n",
    "            while nodes:\n",
    "                r, c = nodes.pop()\n",
    "                for nr, nc in (r+1, c), (r-1, c), (r, c+1), (r, c-1):\n",
    "                    if nr < 0 or nc < 0 or nr >= rows or nc >= cols:\n",
    "                        continue\n",
    "                    if (nr, nc) in ocean:\n",
    "                        continue\n",
    "                    if matrix[nr][nc] >= matrix[r][c]:\n",
    "                        ocean.add((nr, nc))\n",
    "                        nodes.append((nr, nc))\n",
    "            return\n",
    "        \n",
    "        for r in range(rows):\n",
    "            dfs(r, 0, pacific)\n",
    "            dfs(r, cols-1, atlantic)\n",
    "            \n",
    "        for c in range(cols):\n",
    "            dfs(0, c, pacific)\n",
    "            dfs(rows-1, c, atlantic)\n",
    "            \n",
    "        return [[a,b] for a,b in atlantic.intersection(pacific)]"
   ]
  },
  {
   "cell_type": "code",
   "execution_count": 26,
   "metadata": {},
   "outputs": [
    {
     "data": {
      "text/plain": [
       "[[1, 3], [3, 0], [3, 1], [1, 4], [0, 4], [2, 2], [4, 0]]"
      ]
     },
     "execution_count": 26,
     "metadata": {},
     "output_type": "execute_result"
    }
   ],
   "source": [
    "solution = Solution()\n",
    "solution.pacificAtlantic([[1,2,2,3,5],[3,2,3,4,4],[2,4,5,3,1],[6,7,1,4,5],[5,1,1,2,4]])"
   ]
  },
  {
   "cell_type": "code",
   "execution_count": null,
   "metadata": {},
   "outputs": [],
   "source": []
  }
 ],
 "metadata": {
  "kernelspec": {
   "display_name": "Python 3",
   "language": "python",
   "name": "python3"
  },
  "language_info": {
   "codemirror_mode": {
    "name": "ipython",
    "version": 3
   },
   "file_extension": ".py",
   "mimetype": "text/x-python",
   "name": "python",
   "nbconvert_exporter": "python",
   "pygments_lexer": "ipython3",
   "version": "3.6.2"
  }
 },
 "nbformat": 4,
 "nbformat_minor": 4
}
