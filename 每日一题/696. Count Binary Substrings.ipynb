{
 "cells": [
  {
   "cell_type": "code",
   "execution_count": null,
   "metadata": {},
   "outputs": [],
   "source": []
  },
  {
   "cell_type": "code",
   "execution_count": null,
   "metadata": {},
   "outputs": [],
   "source": []
  },
  {
   "cell_type": "code",
   "execution_count": null,
   "metadata": {},
   "outputs": [],
   "source": []
  },
  {
   "cell_type": "code",
   "execution_count": null,
   "metadata": {},
   "outputs": [],
   "source": []
  },
  {
   "cell_type": "code",
   "execution_count": null,
   "metadata": {},
   "outputs": [],
   "source": []
  },
  {
   "cell_type": "code",
   "execution_count": 21,
   "metadata": {},
   "outputs": [],
   "source": [
    "class Solution:\n",
    "    def countBinarySubstrings(self, s: str) -> int:\n",
    "        res = 0\n",
    "        pre_cnt = 0\n",
    "        pre_chr = None\n",
    "        idx = 0\n",
    "        n = len(s)\n",
    "        while idx < n:\n",
    "            v = s[idx]\n",
    "            if pre_chr is None:\n",
    "                pre_chr = v\n",
    "                pre_cnt += 1\n",
    "            else:\n",
    "                if v == pre_chr:\n",
    "                    pre_cnt += 1\n",
    "                else:\n",
    "                    nxt_chr = v\n",
    "                    nxt_cnt = 0\n",
    "                    while idx < n and s[idx] == nxt_chr:\n",
    "                        nxt_cnt += 1\n",
    "                        idx += 1\n",
    "                    res += min(nxt_cnt, pre_cnt)\n",
    "                    pre_cnt = nxt_cnt\n",
    "                    pre_chr = nxt_chr\n",
    "                    continue\n",
    "            idx += 1\n",
    "        return res"
   ]
  },
  {
   "cell_type": "code",
   "execution_count": null,
   "metadata": {},
   "outputs": [],
   "source": []
  },
  {
   "cell_type": "code",
   "execution_count": 25,
   "metadata": {},
   "outputs": [],
   "source": [
    "class Solution:\n",
    "    def countBinarySubstrings(self, s: str) -> int:\n",
    "        n = len(s)\n",
    "        res = 0\n",
    "        idx = 0\n",
    "        pre_cnt = 0\n",
    "        while idx < n:\n",
    "            cur_cnt = 1\n",
    "            while idx < n-1 and s[idx] == s[idx+1]:\n",
    "                idx += 1\n",
    "                cur_cnt += 1\n",
    "                \n",
    "            res += min(pre_cnt, cur_cnt)\n",
    "            pre_cnt = cur_cnt\n",
    "            idx += 1\n",
    "        return res"
   ]
  },
  {
   "cell_type": "code",
   "execution_count": 26,
   "metadata": {},
   "outputs": [
    {
     "data": {
      "text/plain": [
       "6"
      ]
     },
     "execution_count": 26,
     "metadata": {},
     "output_type": "execute_result"
    }
   ],
   "source": [
    "solution = Solution()\n",
    "solution.countBinarySubstrings(\"00110011\")"
   ]
  },
  {
   "cell_type": "code",
   "execution_count": null,
   "metadata": {},
   "outputs": [],
   "source": []
  }
 ],
 "metadata": {
  "kernelspec": {
   "display_name": "Python 3",
   "language": "python",
   "name": "python3"
  },
  "language_info": {
   "codemirror_mode": {
    "name": "ipython",
    "version": 3
   },
   "file_extension": ".py",
   "mimetype": "text/x-python",
   "name": "python",
   "nbconvert_exporter": "python",
   "pygments_lexer": "ipython3",
   "version": "3.6.2"
  }
 },
 "nbformat": 4,
 "nbformat_minor": 4
}
