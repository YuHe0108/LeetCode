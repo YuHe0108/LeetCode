{
 "cells": [
  {
   "cell_type": "code",
   "execution_count": null,
   "metadata": {},
   "outputs": [],
   "source": []
  },
  {
   "cell_type": "code",
   "execution_count": null,
   "metadata": {},
   "outputs": [],
   "source": []
  },
  {
   "cell_type": "code",
   "execution_count": null,
   "metadata": {},
   "outputs": [],
   "source": []
  },
  {
   "cell_type": "code",
   "execution_count": null,
   "metadata": {},
   "outputs": [],
   "source": [
    "# Definition for a binary tree node.\n",
    "# class TreeNode:\n",
    "#     def __init__(self, val=0, left=None, right=None):\n",
    "#         self.val = val\n",
    "#         self.left = left\n",
    "#         self.right = right\n",
    "\n",
    "class Solution:\n",
    "    def deepestLeavesSum(self, root: TreeNode) -> int:\n",
    "        \n",
    "        def dfs(node, depth):\n",
    "            nonlocal vals, max_dep\n",
    "            if not node:\n",
    "                return\n",
    "            if depth == max_dep:\n",
    "                vals.append(node.val)\n",
    "            elif depth > max_dep:\n",
    "                max_dep = depth\n",
    "                vals = [node.val]\n",
    "            \n",
    "            dfs(node.left, depth + 1)\n",
    "            dfs(node.right, depth + 1)\n",
    "        \n",
    "        vals = []\n",
    "        max_dep = 0\n",
    "        dfs(root, 0)\n",
    "        return sum(vals)\n",
    "        "
   ]
  },
  {
   "cell_type": "code",
   "execution_count": null,
   "metadata": {},
   "outputs": [],
   "source": [
    "# Definition for a binary tree node.\n",
    "# class TreeNode:\n",
    "#     def __init__(self, val=0, left=None, right=None):\n",
    "#         self.val = val\n",
    "#         self.left = left\n",
    "#         self.right = right\n",
    "class Solution:\n",
    "    def deepestLeavesSum(self, root: TreeNode) -> int:\n",
    "        nodes = deque()\n",
    "        nodes.append(root)\n",
    "        while nodes:\n",
    "            vals = []\n",
    "            for _ in range(len(nodes)):\n",
    "                node = nodes.popleft()\n",
    "                vals.append(node.val)\n",
    "                if node.left:\n",
    "                    nodes.append(node.left)\n",
    "                if node.right:\n",
    "                    nodes.append(node.right)\n",
    "            if not nodes:\n",
    "                return sum(vals)"
   ]
  }
 ],
 "metadata": {
  "kernelspec": {
   "display_name": "Python 3",
   "language": "python",
   "name": "python3"
  },
  "language_info": {
   "codemirror_mode": {
    "name": "ipython",
    "version": 3
   },
   "file_extension": ".py",
   "mimetype": "text/x-python",
   "name": "python",
   "nbconvert_exporter": "python",
   "pygments_lexer": "ipython3",
   "version": "3.6.2"
  }
 },
 "nbformat": 4,
 "nbformat_minor": 4
}
