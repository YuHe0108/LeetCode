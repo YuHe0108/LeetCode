{
 "cells": [
  {
   "cell_type": "code",
   "execution_count": null,
   "metadata": {},
   "outputs": [],
   "source": []
  },
  {
   "cell_type": "raw",
   "metadata": {},
   "source": [
    "1、a \n",
    "      e \n",
    "         i \n",
    "             o \n",
    "                 u\n",
    "2、aa ae ai ao au  5    5 + 4 + 3 + 2 + 1   15\n",
    "      ee ei eo eu  4        4 + 3 + 2 + 1   10\n",
    "         ii io iu  3            3 + 2 + 1    6\n",
    "            oo ou  2                2 + 1    3\n",
    "               uu  1                    1    1\n",
    "3 aaa aae aai aao aau"
   ]
  },
  {
   "cell_type": "code",
   "execution_count": null,
   "metadata": {},
   "outputs": [],
   "source": [
    "16 15 14 13  12"
   ]
  },
  {
   "cell_type": "code",
   "execution_count": 39,
   "metadata": {},
   "outputs": [],
   "source": [
    "class Solution:\n",
    "    def countVowelStrings(self, n: int) -> int:\n",
    "        if n == 1:\n",
    "            return 5\n",
    "        nums = [1] * 5\n",
    "        for k in range(n-1):\n",
    "            temp_nums = nums[::]\n",
    "            for i in range(3, -1, -1):\n",
    "                temp_nums[i] += temp_nums[i+1]\n",
    "            nums = temp_nums\n",
    "        return sum(nums)"
   ]
  },
  {
   "cell_type": "code",
   "execution_count": 40,
   "metadata": {},
   "outputs": [
    {
     "data": {
      "text/plain": [
       "66045"
      ]
     },
     "execution_count": 40,
     "metadata": {},
     "output_type": "execute_result"
    }
   ],
   "source": [
    "solution = Solution()\n",
    "solution.countVowelStrings(33)"
   ]
  },
  {
   "cell_type": "code",
   "execution_count": null,
   "metadata": {},
   "outputs": [],
   "source": [
    "1  \n",
    "5  2\n",
    "9  3\n",
    "16   4 \n",
    "25 24 23 22 21"
   ]
  }
 ],
 "metadata": {
  "kernelspec": {
   "display_name": "Python 3",
   "language": "python",
   "name": "python3"
  },
  "language_info": {
   "codemirror_mode": {
    "name": "ipython",
    "version": 3
   },
   "file_extension": ".py",
   "mimetype": "text/x-python",
   "name": "python",
   "nbconvert_exporter": "python",
   "pygments_lexer": "ipython3",
   "version": "3.6.2"
  }
 },
 "nbformat": 4,
 "nbformat_minor": 4
}
