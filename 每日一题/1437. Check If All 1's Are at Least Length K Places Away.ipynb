{
 "cells": [
  {
   "cell_type": "code",
   "execution_count": null,
   "metadata": {},
   "outputs": [],
   "source": []
  },
  {
   "cell_type": "code",
   "execution_count": null,
   "metadata": {},
   "outputs": [],
   "source": []
  },
  {
   "cell_type": "code",
   "execution_count": 1,
   "metadata": {},
   "outputs": [],
   "source": [
    "from typing import List\n",
    "from collections import defaultdict\n",
    "\n",
    "class Solution:\n",
    "    def kLengthApart(self, nums: List[int], k: int) -> bool:\n",
    "        count = []\n",
    "        for i, n in enumerate(nums):\n",
    "            count.append(i)\n",
    "        \n",
    "        for i in range(1, len(count)):\n",
    "            p\n",
    "            if count[i] - count[i-1] < k:\n",
    "                return False\n",
    "        return True"
   ]
  },
  {
   "cell_type": "code",
   "execution_count": null,
   "metadata": {},
   "outputs": [],
   "source": [
    "\n",
    "class Solution:\n",
    "    def kLengthApart(self, nums, k: int):\n",
    "        pre_idx = None\n",
    "        for i, n in enumerate(nums):\n",
    "            if n == 1:\n",
    "                if pre_idx is None:\n",
    "                    pre_idx = i\n",
    "                else:\n",
    "                    if i - pre_idx - 1 < k:\n",
    "                        return False\n",
    "                    pre_idx = i\n",
    "        return True"
   ]
  }
 ],
 "metadata": {
  "kernelspec": {
   "display_name": "Python 3",
   "language": "python",
   "name": "python3"
  },
  "language_info": {
   "codemirror_mode": {
    "name": "ipython",
    "version": 3
   },
   "file_extension": ".py",
   "mimetype": "text/x-python",
   "name": "python",
   "nbconvert_exporter": "python",
   "pygments_lexer": "ipython3",
   "version": "3.6.2"
  }
 },
 "nbformat": 4,
 "nbformat_minor": 4
}
