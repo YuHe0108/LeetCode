{
 "cells": [
  {
   "cell_type": "raw",
   "metadata": {},
   "source": [
    "以358764为例\n",
    "1、从右到左，找到第一个左侧小于右侧的下标值i\n",
    "2、再次从右到左，找到第一个大于nums[i]的数以及下标j，然后i 和 j对应的数进行互换\n",
    "3、i下标后面的数按从小到大排序\n",
    "时间复杂度O(n)\n",
    "\n",
    "空间复杂度为O(1)\n"
   ]
  },
  {
   "cell_type": "code",
   "execution_count": null,
   "metadata": {},
   "outputs": [],
   "source": []
  },
  {
   "cell_type": "code",
   "execution_count": null,
   "metadata": {},
   "outputs": [],
   "source": [
    "class Solution:\n",
    "    def nextPermutation(self, nums: List[int]) -> None:\n",
    "        \"\"\"\n",
    "        Do not return anything, modify nums in-place instead.\n",
    "        \"\"\"\n",
    "        flag = None\n",
    "        n = len(nums)\n",
    "        for i in range(n-1, -1, -1):\n",
    "            for j in range(n-1, i, -1):\n",
    "                if nums[i] < nums[j]:\n",
    "                    nums[i], nums[j] = nums[j], nums[i]\n",
    "                    flag = i\n",
    "                    break\n",
    "            if flag is not None:\n",
    "                break\n",
    "        \n",
    "        if flag is None:\n",
    "            nums.sort()\n",
    "        else:\n",
    "            nums[i+1:] = sorted(nums[i+1:])\n",
    "        "
   ]
  }
 ],
 "metadata": {
  "kernelspec": {
   "display_name": "Python 3",
   "language": "python",
   "name": "python3"
  },
  "language_info": {
   "codemirror_mode": {
    "name": "ipython",
    "version": 3
   },
   "file_extension": ".py",
   "mimetype": "text/x-python",
   "name": "python",
   "nbconvert_exporter": "python",
   "pygments_lexer": "ipython3",
   "version": "3.6.2"
  }
 },
 "nbformat": 4,
 "nbformat_minor": 4
}
