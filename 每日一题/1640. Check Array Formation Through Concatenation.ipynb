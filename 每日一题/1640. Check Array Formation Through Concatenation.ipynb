{
 "cells": [
  {
   "cell_type": "code",
   "execution_count": 1,
   "metadata": {},
   "outputs": [],
   "source": [
    "class Solution:\n",
    "    def canFormArray(self, arr, pieces):\n",
    "        res = []\n",
    "        for a in arr:\n",
    "            for i, p in enumerate(pieces):\n",
    "                if a in p:\n",
    "                    res.append(p)\n",
    "            if res and res[-1] in pieces:\n",
    "                pieces.remove(res[-1])\n",
    "        outs = []\n",
    "        for a in res:\n",
    "            outs.extend(a)\n",
    "        return arr == outs"
   ]
  },
  {
   "cell_type": "code",
   "execution_count": null,
   "metadata": {},
   "outputs": [],
   "source": [
    "class Solution:\n",
    "    def canFormArray(self, arr: List[int], pieces: List[List[int]]) -> bool:\n",
    "        idx = 0\n",
    "        while True:\n",
    "            prev_idx = idx\n",
    "            for piece in pieces:\n",
    "                if arr[idx] == piece[0]:\n",
    "                    j = 0\n",
    "                    while j < len(piece) and piece[j] == arr[idx]:\n",
    "                        idx += 1\n",
    "                        j += 1\n",
    "                        if idx == len(arr):\n",
    "                            return True\n",
    "            if prev_idx == idx:\n",
    "                return False        "
   ]
  }
 ],
 "metadata": {
  "kernelspec": {
   "display_name": "Python 3",
   "language": "python",
   "name": "python3"
  },
  "language_info": {
   "codemirror_mode": {
    "name": "ipython",
    "version": 3
   },
   "file_extension": ".py",
   "mimetype": "text/x-python",
   "name": "python",
   "nbconvert_exporter": "python",
   "pygments_lexer": "ipython3",
   "version": "3.6.2"
  }
 },
 "nbformat": 4,
 "nbformat_minor": 4
}
