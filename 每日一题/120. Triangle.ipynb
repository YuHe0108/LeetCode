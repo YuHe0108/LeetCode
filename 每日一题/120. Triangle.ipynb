{
 "cells": [
  {
   "cell_type": "code",
   "execution_count": null,
   "metadata": {},
   "outputs": [],
   "source": [
    "class Solution:\n",
    "    def minimumTotal(self, triangle: List[List[int]]) -> int:\n",
    "        n = len(triangle)\n",
    "        dp = [[float('inf')] * n for _ in range(n)]\n",
    "        dp[0][0] = triangle[0][0]\n",
    "        \n",
    "        for i in range(1, n):\n",
    "            for j in range(i+1):\n",
    "                if j - 1 >= 0:\n",
    "                    dp[i][j] = min(dp[i-1][j-1], dp[i-1][j]) + triangle[i][j]\n",
    "                else:\n",
    "                    dp[i][j] = dp[i-1][j] +  triangle[i][j]\n",
    "        return min(dp[-1])\n"
   ]
  }
 ],
 "metadata": {
  "kernelspec": {
   "display_name": "Python 3",
   "language": "python",
   "name": "python3"
  },
  "language_info": {
   "codemirror_mode": {
    "name": "ipython",
    "version": 3
   },
   "file_extension": ".py",
   "mimetype": "text/x-python",
   "name": "python",
   "nbconvert_exporter": "python",
   "pygments_lexer": "ipython3",
   "version": "3.6.2"
  }
 },
 "nbformat": 4,
 "nbformat_minor": 4
}
