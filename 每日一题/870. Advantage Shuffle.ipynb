{
 "cells": [
  {
   "cell_type": "code",
   "execution_count": 1,
   "metadata": {},
   "outputs": [],
   "source": [
    "from typing import List\n",
    "\n",
    "class Solution:\n",
    "    def advantageCount(self, A: List[int], B: List[int]) -> List[int]:\n",
    "        A.sort()\n",
    "        res = []\n",
    "        for v in B:\n",
    "            # 可以找到比 v 稍微大一点的数\n",
    "            idx = bisect.bisect_right(A, v)\n",
    "            if idx == len(A):\n",
    "                res.append(A.pop(0))\n",
    "            else:\n",
    "                res.append(A.pop(idx))\n",
    "        return res"
   ]
  },
  {
   "cell_type": "code",
   "execution_count": null,
   "metadata": {},
   "outputs": [],
   "source": []
  },
  {
   "cell_type": "code",
   "execution_count": null,
   "metadata": {},
   "outputs": [],
   "source": []
  },
  {
   "cell_type": "code",
   "execution_count": null,
   "metadata": {},
   "outputs": [],
   "source": []
  },
  {
   "cell_type": "code",
   "execution_count": null,
   "metadata": {},
   "outputs": [],
   "source": []
  },
  {
   "cell_type": "code",
   "execution_count": 1,
   "metadata": {},
   "outputs": [],
   "source": [
    "from typing import List\n",
    "\n",
    "class Solution:\n",
    "    def advantageCount(self, A: List[int], B: List[int]) -> List[int]:\n",
    "        n = len(A)\n",
    "        res = [-1] * n\n",
    "        un_matched = []\n",
    "        \n",
    "        A.sort()\n",
    "        B = sorted([(num, i) for i, num in enumerate(B)])\n",
    "        i = j = 0\n",
    "        while i < n and j < n:\n",
    "            if A[i] > B[j][0]:\n",
    "                idx = B[j][1]\n",
    "                res[idx] = A[i]\n",
    "                i += 1\n",
    "                j += 1\n",
    "            else:\n",
    "                un_matched.append(A[i])\n",
    "                i += 1\n",
    "        for i in range(n):\n",
    "            if res[i] == -1:\n",
    "                res[i] = un_matched.pop()\n",
    "        return res"
   ]
  },
  {
   "cell_type": "code",
   "execution_count": null,
   "metadata": {},
   "outputs": [],
   "source": []
  }
 ],
 "metadata": {
  "kernelspec": {
   "display_name": "Python 3",
   "language": "python",
   "name": "python3"
  },
  "language_info": {
   "codemirror_mode": {
    "name": "ipython",
    "version": 3
   },
   "file_extension": ".py",
   "mimetype": "text/x-python",
   "name": "python",
   "nbconvert_exporter": "python",
   "pygments_lexer": "ipython3",
   "version": "3.6.2"
  }
 },
 "nbformat": 4,
 "nbformat_minor": 4
}
