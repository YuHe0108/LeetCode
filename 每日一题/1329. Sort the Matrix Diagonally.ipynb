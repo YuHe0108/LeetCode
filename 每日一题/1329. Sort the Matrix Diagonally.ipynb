{
 "cells": [
  {
   "cell_type": "code",
   "execution_count": null,
   "metadata": {},
   "outputs": [],
   "source": []
  },
  {
   "cell_type": "code",
   "execution_count": null,
   "metadata": {},
   "outputs": [],
   "source": []
  },
  {
   "cell_type": "code",
   "execution_count": 97,
   "metadata": {},
   "outputs": [],
   "source": [
    "from typing import List\n",
    "\n",
    "class Solution:\n",
    "    def diagonalSort(self, mat: List[List[int]]) -> List[List[int]]:\n",
    "        rows, cols = len(mat), len(mat[0])\n",
    "        res = [[0] * cols for _ in range(rows)]\n",
    "        col_nums = [] # 第 0 列的元素\n",
    "        for i in range(rows):\n",
    "            nums = []\n",
    "            j = 0\n",
    "            while True:\n",
    "                nums.append(mat[i][j])\n",
    "                if i + 1 >= rows or j + 1 >= cols:\n",
    "                    break\n",
    "                i += 1\n",
    "                j += 1\n",
    "            col_nums.append(sorted(nums))\n",
    "        \n",
    "        row_nums = []\n",
    "        for i in range(1, cols):\n",
    "            nums = []\n",
    "            j = 0\n",
    "            while True:\n",
    "                nums.append(mat[j][i])\n",
    "                if j + 1 >= rows or i + 1 >= cols:\n",
    "                    break\n",
    "                j += 1\n",
    "                i += 1\n",
    "            row_nums.append(sorted(nums))\n",
    "        \n",
    "        for i in range(rows):\n",
    "            k = i\n",
    "            for j in range(len(col_nums[i])):\n",
    "                res[k][j] = col_nums[i][j]\n",
    "                k += 1\n",
    "        \n",
    "        m = 0\n",
    "        for i in range(len(row_nums)):\n",
    "            k = 0\n",
    "            m += 1\n",
    "            for j in range(len(row_nums[i])):\n",
    "                res[k][m+j] = row_nums[i][j]\n",
    "                k += 1\n",
    "        return res"
   ]
  },
  {
   "cell_type": "code",
   "execution_count": null,
   "metadata": {},
   "outputs": [],
   "source": []
  },
  {
   "cell_type": "code",
   "execution_count": 103,
   "metadata": {},
   "outputs": [],
   "source": [
    "class Solution:\n",
    "    def diagonalSort(self, mat):\n",
    "        rows, cols = len(mat), len(mat[0])\n",
    "        start_point = [(0, 0), ] + [(i, 0) for i in range(1, rows)] + [(0, j) for j in range(1, cols)]\n",
    "        for i, j in start_point:\n",
    "            res = [mat[i+n][j+n] for n in range(min(rows, cols)) if i + n < rows and j + n < cols]\n",
    "            res.sort()\n",
    "            for k in range(len(res)):\n",
    "                mat[i+k][j+k] = res[k]\n",
    "        return mat"
   ]
  },
  {
   "cell_type": "code",
   "execution_count": 104,
   "metadata": {},
   "outputs": [
    {
     "name": "stdout",
     "output_type": "stream",
     "text": [
      "[1, 2, 3]\n",
      "[1, 2]\n",
      "[1]\n",
      "[1, 2, 3]\n",
      "[1, 2]\n",
      "[1]\n"
     ]
    },
    {
     "data": {
      "text/plain": [
       "[[1, 1, 1, 1], [1, 2, 2, 2], [1, 2, 3, 3]]"
      ]
     },
     "execution_count": 104,
     "metadata": {},
     "output_type": "execute_result"
    }
   ],
   "source": [
    "solution = Solution()\n",
    "solution.diagonalSort(mat = [[3,3,1,1],\n",
    "                             [2,2,1,2],\n",
    "                             [1,1,1,2]])"
   ]
  },
  {
   "cell_type": "code",
   "execution_count": null,
   "metadata": {},
   "outputs": [],
   "source": [
    "[[1, 1, 1, 1], \n",
    " [1, 2, 2, 2], \n",
    " [1, 2, 3, 3]]"
   ]
  }
 ],
 "metadata": {
  "kernelspec": {
   "display_name": "Python 3",
   "language": "python",
   "name": "python3"
  },
  "language_info": {
   "codemirror_mode": {
    "name": "ipython",
    "version": 3
   },
   "file_extension": ".py",
   "mimetype": "text/x-python",
   "name": "python",
   "nbconvert_exporter": "python",
   "pygments_lexer": "ipython3",
   "version": "3.6.2"
  }
 },
 "nbformat": 4,
 "nbformat_minor": 4
}
