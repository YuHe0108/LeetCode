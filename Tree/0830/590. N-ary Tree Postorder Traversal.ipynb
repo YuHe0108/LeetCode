{
 "cells": [
  {
   "cell_type": "raw",
   "metadata": {},
   "source": [
    "说明：\n",
    "    给定一个n元树，返回其节点值的PostOrder: left->right->node。 \n",
    "    Nary-Tree输入序列化以其级别顺序遍历表示，每组子级由空值分隔（请参见示例）。"
   ]
  },
  {
   "cell_type": "markdown",
   "metadata": {},
   "source": [
    "<img src='590.jpg' width=550>"
   ]
  },
  {
   "cell_type": "code",
   "execution_count": 2,
   "metadata": {},
   "outputs": [],
   "source": [
    "class Node:\n",
    "    def __init__(self, val=None, children=None):\n",
    "        self.val = val\n",
    "        self.children = children"
   ]
  },
  {
   "cell_type": "markdown",
   "metadata": {},
   "source": [
    "### 1、递归的方式"
   ]
  },
  {
   "cell_type": "code",
   "execution_count": 5,
   "metadata": {},
   "outputs": [],
   "source": [
    "class Solution:\n",
    "    def postorder(self, root: 'Node'):\n",
    "        if not root:\n",
    "            return []\n",
    "        self.res = []\n",
    "        self.helper(root)\n",
    "        return self.res\n",
    "    \n",
    "    def helper(self, root):\n",
    "        if not root:\n",
    "            return\n",
    "        for child in root.children:\n",
    "            self.helper(child)\n",
    "        self.res.append(root.val)"
   ]
  },
  {
   "cell_type": "markdown",
   "metadata": {},
   "source": [
    "### 2、循环的方式"
   ]
  },
  {
   "cell_type": "code",
   "execution_count": 6,
   "metadata": {},
   "outputs": [],
   "source": [
    "# 循环的方式：Left->Right->Node\n",
    "class Solution:\n",
    "    def postorder(self, root: 'Node'):\n",
    "        if not root:\n",
    "            return []\n",
    "        res = []\n",
    "        nodes = [root]\n",
    "        while nodes:\n",
    "            n = nodes.pop()\n",
    "            if n:\n",
    "                for child in n.children:\n",
    "                    nodes.append(child)\n",
    "                res.insert(0, n.val)\n",
    "        return res"
   ]
  },
  {
   "cell_type": "code",
   "execution_count": null,
   "metadata": {},
   "outputs": [],
   "source": []
  }
 ],
 "metadata": {
  "kernelspec": {
   "display_name": "Python 3",
   "language": "python",
   "name": "python3"
  },
  "language_info": {
   "codemirror_mode": {
    "name": "ipython",
    "version": 3
   },
   "file_extension": ".py",
   "mimetype": "text/x-python",
   "name": "python",
   "nbconvert_exporter": "python",
   "pygments_lexer": "ipython3",
   "version": "3.6.2"
  }
 },
 "nbformat": 4,
 "nbformat_minor": 4
}
