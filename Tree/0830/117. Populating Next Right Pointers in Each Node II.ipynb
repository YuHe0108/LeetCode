{
 "cells": [
  {
   "cell_type": "raw",
   "metadata": {},
   "source": [
    "说明：\n",
    "    填充每个Next指针以指向其下一个右节点。\n",
    "    如果没有Next右节点，则Next指针应设置为NULL。\n",
    "    最初，所有下一个指针都设置为NULL。\n",
    "    \n",
    "后续行动：\n",
    "    1、您只能使用恒定的额外空间。\n",
    "    2、递归方法很好，您可以假定隐式堆栈空间不算作此问题的额外空间。"
   ]
  },
  {
   "cell_type": "code",
   "execution_count": 1,
   "metadata": {},
   "outputs": [],
   "source": [
    "# Definition for a Node.\n",
    "class Node:\n",
    "    def __init__(self, val: int = 0, left: 'Node' = None, right: 'Node' = None, next: 'Node' = None):\n",
    "        self.val = val\n",
    "        self.left = left\n",
    "        self.right = right\n",
    "        self.next = next"
   ]
  },
  {
   "cell_type": "code",
   "execution_count": 3,
   "metadata": {},
   "outputs": [],
   "source": [
    "class Solution:\n",
    "    def connect(self, root: 'Node') -> 'Node':\n",
    "        if not root:\n",
    "            return root\n",
    "        nodes = [root]\n",
    "        last_node = root\n",
    "        while nodes:\n",
    "            node = nodes.pop(0)\n",
    "            if node.left:\n",
    "                nodes.append(node.left)\n",
    "            if node.right:\n",
    "                nodes.append(node.right)\n",
    "            if node == last_node:\n",
    "                node.next = None\n",
    "                last_node = nodes[-1] if nodes else None\n",
    "            else:\n",
    "                node.next = nodes[0]\n",
    "        return root"
   ]
  },
  {
   "cell_type": "code",
   "execution_count": null,
   "metadata": {},
   "outputs": [],
   "source": []
  }
 ],
 "metadata": {
  "kernelspec": {
   "display_name": "Python 3",
   "language": "python",
   "name": "python3"
  },
  "language_info": {
   "codemirror_mode": {
    "name": "ipython",
    "version": 3
   },
   "file_extension": ".py",
   "mimetype": "text/x-python",
   "name": "python",
   "nbconvert_exporter": "python",
   "pygments_lexer": "ipython3",
   "version": "3.6.2"
  }
 },
 "nbformat": 4,
 "nbformat_minor": 4
}
