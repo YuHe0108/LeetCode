{
 "cells": [
  {
   "cell_type": "raw",
   "metadata": {},
   "source": [
    "说明：\n",
    "    返回与给定的InOrder和PostOrder遍历匹配的任何二叉树。\n",
    "    遍历前后的值是不同的正整数。"
   ]
  },
  {
   "cell_type": "code",
   "execution_count": null,
   "metadata": {},
   "outputs": [],
   "source": [
    "class TreeNode:\n",
    "    def __init__(self, val=0, left=None, right=None):\n",
    "        self.val = val\n",
    "        self.left = left\n",
    "        self.right = right\n"
   ]
  },
  {
   "cell_type": "code",
   "execution_count": null,
   "metadata": {},
   "outputs": [],
   "source": [
    "class Solution:\n",
    "    def constructFromPrePost(self, pre, post) -> TreeNode:\n",
    "        def helper(pre, post):\n",
    "            if not pre:\n",
    "                return None\n",
    "            if len(pre) == 1:\n",
    "                return TreeNode(post.pop())\n",
    "\n",
    "            node = TreeNode(post.pop())\n",
    "            index = pre.index(post[-1])\n",
    "\n",
    "            node.right = helper(pre[index:], post)\n",
    "            node.left = helper(pre[1:inedx], post)\n",
    "            return node\n",
    "        return helper(pre, post)"
   ]
  }
 ],
 "metadata": {
  "kernelspec": {
   "display_name": "Python 3",
   "language": "python",
   "name": "python3"
  },
  "language_info": {
   "codemirror_mode": {
    "name": "ipython",
    "version": 3
   },
   "file_extension": ".py",
   "mimetype": "text/x-python",
   "name": "python",
   "nbconvert_exporter": "python",
   "pygments_lexer": "ipython3",
   "version": "3.6.2"
  }
 },
 "nbformat": 4,
 "nbformat_minor": 4
}
