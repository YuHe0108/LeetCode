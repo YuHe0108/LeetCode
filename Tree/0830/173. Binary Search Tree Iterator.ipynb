{
 "cells": [
  {
   "cell_type": "raw",
   "metadata": {},
   "source": [
    "说明：\n",
    "    在二叉搜索树（BST）上实现迭代器。\n",
    "    您的迭代器将使用BST的根节点进行初始化。\n",
    "    调用next（）将返回BST中的下一个最小数字。\n",
    "\n",
    "注意：\n",
    "    1、next（）和hasNext（）应该在平均O（1）时间中运行，并使用O（h）内存，其中h是树的高度。\n",
    "    2、您可以假设next（）调用将始终有效，也就是说，调用next（）时，BST中至少会有一个下一个最小数字。"
   ]
  },
  {
   "cell_type": "markdown",
   "metadata": {},
   "source": [
    "<img src='173.jpg' width=550>"
   ]
  },
  {
   "cell_type": "code",
   "execution_count": 1,
   "metadata": {},
   "outputs": [],
   "source": [
    "# Definition for a binary tree node.\n",
    "class TreeNode:\n",
    "    def __init__(self, val=0, left=None, right=None):\n",
    "        self.val = val\n",
    "        self.left = left\n",
    "        self.right = right"
   ]
  },
  {
   "cell_type": "code",
   "execution_count": 2,
   "metadata": {},
   "outputs": [],
   "source": [
    "class BSTIterator:\n",
    "\n",
    "    def __init__(self, root: TreeNode):\n",
    "        self.vals = []\n",
    "        self.push_left(root)\n",
    "    \n",
    "    def push_left(self, node):\n",
    "        if node:\n",
    "            self.vals.append(node)\n",
    "            self.push_left(node.left)\n",
    "    \n",
    "    def next(self) -> int:\n",
    "        \"\"\"\n",
    "        @return the next smallest number\n",
    "        \"\"\"\n",
    "        node = self.vals.pop()\n",
    "        self.push_left(node.right)\n",
    "        return node.val\n",
    "\n",
    "    def hasNext(self) -> bool:\n",
    "        \"\"\"\n",
    "        @return whether we have a next smallest number\n",
    "        \"\"\"\n",
    "        if self.vals:\n",
    "            return True\n",
    "        else:\n",
    "            return False"
   ]
  },
  {
   "cell_type": "code",
   "execution_count": null,
   "metadata": {},
   "outputs": [],
   "source": []
  }
 ],
 "metadata": {
  "kernelspec": {
   "display_name": "Python 3",
   "language": "python",
   "name": "python3"
  },
  "language_info": {
   "codemirror_mode": {
    "name": "ipython",
    "version": 3
   },
   "file_extension": ".py",
   "mimetype": "text/x-python",
   "name": "python",
   "nbconvert_exporter": "python",
   "pygments_lexer": "ipython3",
   "version": "3.6.2"
  }
 },
 "nbformat": 4,
 "nbformat_minor": 4
}
