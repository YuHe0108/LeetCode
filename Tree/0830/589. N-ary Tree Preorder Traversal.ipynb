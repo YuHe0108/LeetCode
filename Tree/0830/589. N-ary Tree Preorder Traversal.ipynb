{
 "cells": [
  {
   "cell_type": "raw",
   "metadata": {},
   "source": [
    "说明：\n",
    "    给定一个n元树，返回其节点值的预遍历。\n",
    "    Nary-Tree输入序列化以其级别顺序遍历表示，每组子级由空值分隔（请参见示例）。\n",
    "\n",
    "约束：\n",
    "    1、n元树的高度小于或等于1000。\n",
    "    2、节点总数在[0，10 ^ 4]之间"
   ]
  },
  {
   "cell_type": "markdown",
   "metadata": {},
   "source": [
    "<img src='589.jpg' width=500>"
   ]
  },
  {
   "cell_type": "code",
   "execution_count": 1,
   "metadata": {},
   "outputs": [],
   "source": [
    "# Definition for a Node.\n",
    "class Node:\n",
    "    def __init__(self, val=None, children=None):\n",
    "        self.val = val\n",
    "        self.children = children"
   ]
  },
  {
   "cell_type": "code",
   "execution_count": 3,
   "metadata": {},
   "outputs": [],
   "source": [
    "# 递归的方式\n",
    "class Solution:\n",
    "    def preorder(self, root: 'Node'):\n",
    "        if not root:\n",
    "            return []\n",
    "        self.res = []\n",
    "        self.helper(root)\n",
    "        return self.res\n",
    "    \n",
    "    def helper(self, root):\n",
    "        if not root:\n",
    "            return []\n",
    "        self.res.append(root.val)\n",
    "        for child in root.children:\n",
    "            self.helper(child)"
   ]
  },
  {
   "cell_type": "code",
   "execution_count": 6,
   "metadata": {},
   "outputs": [
    {
     "data": {
      "text/plain": [
       "[1, 5, 3, 2, 1]"
      ]
     },
     "execution_count": 6,
     "metadata": {},
     "output_type": "execute_result"
    }
   ],
   "source": [
    "a = [1, 2,3,5,1]\n",
    "a[::-1]"
   ]
  },
  {
   "cell_type": "code",
   "execution_count": 7,
   "metadata": {},
   "outputs": [],
   "source": [
    "# 迭代的方式\n",
    "class Solution:\n",
    "    def preorder(self, root: 'Node'):\n",
    "        if not root:\n",
    "            return []\n",
    "        res = []\n",
    "        nodes = [root]\n",
    "        while nodes:\n",
    "            n = nodes.pop()\n",
    "            if n:\n",
    "                res.append(n.val)\n",
    "                if n.children:\n",
    "                    for child in n.children[::-1]:\n",
    "                        nodes.append(child)\n",
    "        return res"
   ]
  },
  {
   "cell_type": "code",
   "execution_count": null,
   "metadata": {},
   "outputs": [],
   "source": []
  }
 ],
 "metadata": {
  "kernelspec": {
   "display_name": "Python 3",
   "language": "python",
   "name": "python3"
  },
  "language_info": {
   "codemirror_mode": {
    "name": "ipython",
    "version": 3
   },
   "file_extension": ".py",
   "mimetype": "text/x-python",
   "name": "python",
   "nbconvert_exporter": "python",
   "pygments_lexer": "ipython3",
   "version": "3.6.2"
  }
 },
 "nbformat": 4,
 "nbformat_minor": 4
}
