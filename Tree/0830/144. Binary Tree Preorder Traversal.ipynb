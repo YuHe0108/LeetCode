{
 "cells": [
  {
   "cell_type": "raw",
   "metadata": {},
   "source": [
    "说明：PreOrder: Node->Left->Right\n",
    "后续：递归解决方案很简单，您可以迭代吗？"
   ]
  },
  {
   "cell_type": "markdown",
   "metadata": {},
   "source": [
    "<img src='144.jpg' width=500>"
   ]
  },
  {
   "cell_type": "code",
   "execution_count": 3,
   "metadata": {},
   "outputs": [],
   "source": [
    "# Definition for a binary tree node.\n",
    "class TreeNode:\n",
    "    def __init__(self, val=0, left=None, right=None):\n",
    "        self.val = val\n",
    "        self.left = left\n",
    "        self.right = right"
   ]
  },
  {
   "cell_type": "code",
   "execution_count": 6,
   "metadata": {},
   "outputs": [],
   "source": [
    "# 第一种：递归的方式实现 PreOrder\n",
    "class Solution:\n",
    "    def preorderTraversal(self, root: TreeNode):\n",
    "        if not root:\n",
    "            return []\n",
    "        self.res = []\n",
    "        self.helper(root)\n",
    "        return self.res\n",
    "    \n",
    "    def helper(self, root):\n",
    "        if not root:\n",
    "            return\n",
    "        self.res.append(root.val)\n",
    "        self.helper(root.left)\n",
    "        self.helper(root.right)"
   ]
  },
  {
   "cell_type": "code",
   "execution_count": 7,
   "metadata": {},
   "outputs": [],
   "source": [
    "# 第二种：迭代的方式\n",
    "class Solution:\n",
    "    def preorderTraversal(self, root: TreeNode):\n",
    "        if not root:\n",
    "            return []\n",
    "        res = []\n",
    "        nodes = [root]\n",
    "        while nodes:\n",
    "            n = nodes.pop(0)\n",
    "            res.append(n.val)\n",
    "            if n.right:\n",
    "                nodes.insert(0, n.right)\n",
    "            if n.left:\n",
    "                nodes.insert(0, n.left)\n",
    "        return res"
   ]
  },
  {
   "cell_type": "code",
   "execution_count": 9,
   "metadata": {},
   "outputs": [],
   "source": [
    "# 第二种：迭代的方式\n",
    "class Solution:\n",
    "    def preorderTraversal(self, root: TreeNode):\n",
    "        if not root:\n",
    "            return []\n",
    "        res = []\n",
    "        nodes = [root]\n",
    "        while nodes:\n",
    "            n = nodes.pop()\n",
    "            res.append(n.val)\n",
    "            if n.right:\n",
    "                nodes.append(n.right)\n",
    "            if n.left:\n",
    "                nodes.append(n.left)\n",
    "        return res"
   ]
  },
  {
   "cell_type": "code",
   "execution_count": null,
   "metadata": {},
   "outputs": [],
   "source": []
  }
 ],
 "metadata": {
  "kernelspec": {
   "display_name": "Python 3",
   "language": "python",
   "name": "python3"
  },
  "language_info": {
   "codemirror_mode": {
    "name": "ipython",
    "version": 3
   },
   "file_extension": ".py",
   "mimetype": "text/x-python",
   "name": "python",
   "nbconvert_exporter": "python",
   "pygments_lexer": "ipython3",
   "version": "3.6.2"
  }
 },
 "nbformat": 4,
 "nbformat_minor": 4
}
