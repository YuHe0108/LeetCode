{
 "cells": [
  {
   "cell_type": "raw",
   "metadata": {},
   "source": [
    "说明：\n",
    "    给定一个完整的二叉树，计算节点数。\n",
    "    注：Wikipedia对完全二叉树的定义：\n",
    "    在一个完整的二叉树中，除最后一个外，每个层次都被完全填满，最后一个层次中的所有节点都尽可能地左移。\n",
    "    它可以有1到2h节点（包括最后一级h）。"
   ]
  },
  {
   "cell_type": "markdown",
   "metadata": {},
   "source": [
    "<img src='222.jpg' width=550>"
   ]
  },
  {
   "cell_type": "code",
   "execution_count": 1,
   "metadata": {},
   "outputs": [],
   "source": [
    "class TreeNode:\n",
    "    def __init__(self, val=0, left=None, right=None):\n",
    "        self.val = val\n",
    "        self.left = left\n",
    "        self.right = right"
   ]
  },
  {
   "cell_type": "code",
   "execution_count": 2,
   "metadata": {},
   "outputs": [],
   "source": [
    "class Solution:\n",
    "    def countNodes(self, root: TreeNode) -> int:\n",
    "        if not root:\n",
    "            return 0\n",
    "        \n",
    "        def dfs(node):\n",
    "            if not node: return 0\n",
    "            \n",
    "            left = node.left\n",
    "            left_count = 1\n",
    "            while left:\n",
    "                left = left.left\n",
    "                left_count += 1\n",
    "                \n",
    "            right = node.right\n",
    "            right_count = 1\n",
    "            while right:\n",
    "                right = right.right\n",
    "                right_count += 1\n",
    "            \n",
    "            if left_count == right_count:\n",
    "                return 2 ** left_count - 1\n",
    "            else:\n",
    "                left = dfs(node.left)\n",
    "                right = dfs(node.right)\n",
    "                return left + right + 1\n",
    "        return dfs(root)"
   ]
  },
  {
   "cell_type": "code",
   "execution_count": null,
   "metadata": {},
   "outputs": [],
   "source": []
  }
 ],
 "metadata": {
  "kernelspec": {
   "display_name": "Python 3",
   "language": "python",
   "name": "python3"
  },
  "language_info": {
   "codemirror_mode": {
    "name": "ipython",
    "version": 3
   },
   "file_extension": ".py",
   "mimetype": "text/x-python",
   "name": "python",
   "nbconvert_exporter": "python",
   "pygments_lexer": "ipython3",
   "version": "3.6.2"
  }
 },
 "nbformat": 4,
 "nbformat_minor": 4
}
