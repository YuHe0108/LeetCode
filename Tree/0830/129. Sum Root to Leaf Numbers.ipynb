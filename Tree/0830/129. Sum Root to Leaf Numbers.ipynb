{
 "cells": [
  {
   "cell_type": "raw",
   "metadata": {},
   "source": [
    "说明：\n",
    "    给定一个仅包含0-9的数字的二叉树，每个从根到叶的路径都可以表示一个数字。\n",
    "    一个示例是从根到叶的路径1-> 2-> 3，它代表数字123。找到所有从根到叶的数字的总和。\n",
    "注意：\n",
    "    叶是没有子节点的节点。"
   ]
  },
  {
   "cell_type": "markdown",
   "metadata": {},
   "source": [
    "<img src='129.png' width=550>\n",
    "<img src='129_1.jpg' width=550>"
   ]
  },
  {
   "cell_type": "code",
   "execution_count": 1,
   "metadata": {},
   "outputs": [],
   "source": [
    "class TreeNode:\n",
    "    def __init__(self, val=0, left=None, right=None):\n",
    "        self.val = val\n",
    "        self.left = left\n",
    "        self.right = right"
   ]
  },
  {
   "cell_type": "code",
   "execution_count": 2,
   "metadata": {},
   "outputs": [],
   "source": [
    "class Solution:\n",
    "    def sumNumbers(self, root: TreeNode) -> int:\n",
    "        if not root:\n",
    "            return 0\n",
    "        self.sum_val = 0\n",
    "        self.helper(root, '')\n",
    "        return self.sum_val\n",
    "    \n",
    "    def helper(self, root, temp_val):\n",
    "        temp_val += str(root.val)\n",
    "        if not root.left and not root.right: # 叶子节点，既没有左子树也没有右子树\n",
    "            self.sum_val += int(temp_val)\n",
    "        if root.left:\n",
    "            self.helper(root.left, temp_val)\n",
    "        if root.right:\n",
    "            self.helper(root.right, temp_val)"
   ]
  },
  {
   "cell_type": "code",
   "execution_count": 3,
   "metadata": {},
   "outputs": [],
   "source": [
    "a = '1'\n",
    "b = '2'"
   ]
  },
  {
   "cell_type": "code",
   "execution_count": 4,
   "metadata": {},
   "outputs": [],
   "source": [
    "a += b"
   ]
  },
  {
   "cell_type": "code",
   "execution_count": 5,
   "metadata": {},
   "outputs": [
    {
     "data": {
      "text/plain": [
       "'12'"
      ]
     },
     "execution_count": 5,
     "metadata": {},
     "output_type": "execute_result"
    }
   ],
   "source": [
    "a"
   ]
  },
  {
   "cell_type": "code",
   "execution_count": null,
   "metadata": {},
   "outputs": [],
   "source": []
  }
 ],
 "metadata": {
  "kernelspec": {
   "display_name": "Python 3",
   "language": "python",
   "name": "python3"
  },
  "language_info": {
   "codemirror_mode": {
    "name": "ipython",
    "version": 3
   },
   "file_extension": ".py",
   "mimetype": "text/x-python",
   "name": "python",
   "nbconvert_exporter": "python",
   "pygments_lexer": "ipython3",
   "version": "3.6.2"
  }
 },
 "nbformat": 4,
 "nbformat_minor": 4
}
