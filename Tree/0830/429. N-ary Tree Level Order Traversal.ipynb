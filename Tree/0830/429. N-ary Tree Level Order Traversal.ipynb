{
 "cells": [
  {
   "cell_type": "raw",
   "metadata": {},
   "source": [
    "说明：\n",
    "    给定一个n元树，返回其节点值的级别顺序遍历。\n",
    "    每棵树的输入序列化都是在它们的级顺序遍历中表示的，每组子级用null值分隔（参见示例）。"
   ]
  },
  {
   "cell_type": "markdown",
   "metadata": {},
   "source": [
    "<img src='429.jpg' width=550>"
   ]
  },
  {
   "cell_type": "code",
   "execution_count": 1,
   "metadata": {},
   "outputs": [],
   "source": [
    "# Definition for a Node.\n",
    "class Node:\n",
    "    def __init__(self, val=None, children=None):\n",
    "        self.val = val\n",
    "        self.children = children"
   ]
  },
  {
   "cell_type": "code",
   "execution_count": 4,
   "metadata": {},
   "outputs": [],
   "source": [
    "class Solution:\n",
    "    def levelOrder(self, root: 'Node'):\n",
    "        if not root:\n",
    "            return []\n",
    "        res = []\n",
    "        nodes = [root]\n",
    "        while nodes:\n",
    "            temp_nodes = []\n",
    "            temp_vals = []\n",
    "            for n in nodes:\n",
    "                if n:\n",
    "                    temp_vals.append(n.val)\n",
    "                    for child in n.children:\n",
    "                        temp_nodes.append(child)\n",
    "            if temp_vals:\n",
    "                res.append(temp_vals)\n",
    "            nodes = temp_nodes\n",
    "        return res"
   ]
  },
  {
   "cell_type": "code",
   "execution_count": null,
   "metadata": {},
   "outputs": [],
   "source": []
  }
 ],
 "metadata": {
  "kernelspec": {
   "display_name": "Python 3",
   "language": "python",
   "name": "python3"
  },
  "language_info": {
   "codemirror_mode": {
    "name": "ipython",
    "version": 3
   },
   "file_extension": ".py",
   "mimetype": "text/x-python",
   "name": "python",
   "nbconvert_exporter": "python",
   "pygments_lexer": "ipython3",
   "version": "3.6.2"
  }
 },
 "nbformat": 4,
 "nbformat_minor": 4
}
