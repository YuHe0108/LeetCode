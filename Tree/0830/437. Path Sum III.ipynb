{
 "cells": [
  {
   "cell_type": "raw",
   "metadata": {},
   "source": [
    "说明：\n",
    "    1、您将获得一个二叉树，其中每个节点都包含一个整数值。\n",
    "    2、查找总计为给定值的路径数。\n",
    "    3、该路径无需从根或叶开始或结束，但必须向下（仅从父节点到子节点移动）。\n",
    "    4、该树的节点数不超过1,000，并且值的范围是-1,000,000至1,000,000。"
   ]
  },
  {
   "cell_type": "markdown",
   "metadata": {},
   "source": [
    "<img src='437.jpg' width=550>"
   ]
  },
  {
   "cell_type": "code",
   "execution_count": null,
   "metadata": {},
   "outputs": [],
   "source": [
    "class Solution:\n",
    "    cnt = 0\n",
    "    def pathSum(self, root: TreeNode, sum_val: int) -> int:\n",
    "        def dfs(root, start, s):\n",
    "            if not root:\n",
    "                return\n",
    "            s -= root.val\n",
    "            if s == 0:\n",
    "                self.cnt += 1\n",
    "            dfs(root.left, False, s)\n",
    "            dfs(root.right, False, s)\n",
    "            if start:\n",
    "                dfs(root.left, True, sum_val)\n",
    "                dfs(root.right, True, sum_val)\n",
    "        dfs(root, True, sum_val)\n",
    "        return self.cnt"
   ]
  },
  {
   "cell_type": "code",
   "execution_count": null,
   "metadata": {},
   "outputs": [],
   "source": []
  }
 ],
 "metadata": {
  "kernelspec": {
   "display_name": "Python 3",
   "language": "python",
   "name": "python3"
  },
  "language_info": {
   "codemirror_mode": {
    "name": "ipython",
    "version": 3
   },
   "file_extension": ".py",
   "mimetype": "text/x-python",
   "name": "python",
   "nbconvert_exporter": "python",
   "pygments_lexer": "ipython3",
   "version": "3.6.2"
  }
 },
 "nbformat": 4,
 "nbformat_minor": 4
}
