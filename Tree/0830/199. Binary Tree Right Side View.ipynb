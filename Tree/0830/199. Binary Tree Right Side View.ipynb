{
 "cells": [
  {
   "cell_type": "raw",
   "metadata": {},
   "source": [
    "说明：\n",
    "    给定一个二叉树，想象一下自己站在树的右侧，返回从上到下可以看到的节点的值。"
   ]
  },
  {
   "cell_type": "markdown",
   "metadata": {},
   "source": [
    "<img src='199.jpg' width=550>"
   ]
  },
  {
   "cell_type": "code",
   "execution_count": 3,
   "metadata": {},
   "outputs": [],
   "source": [
    "class TreeNode:\n",
    "    def __init__(self, val=0, left=None, right=None):\n",
    "        self.val = val\n",
    "        self.left = left\n",
    "        self.right = right\n",
    "\n",
    "class Solution:\n",
    "    def rightSideView(self, root: TreeNode):\n",
    "        # 采取广度优先的策略，遍历所有的节点\n",
    "        # [[1], [2,3], [5,4]]: 最后就是取每一个元素的最后一位\n",
    "        if not root:\n",
    "            return []\n",
    "        vals = []\n",
    "        nodes = [root]\n",
    "        while nodes:\n",
    "            temp_vals = []\n",
    "            temp_nodes = []\n",
    "            for n in nodes:\n",
    "                temp_vals.append(n.val)\n",
    "                if n.left:\n",
    "                    temp_nodes.append(n.left)\n",
    "                if n.right:\n",
    "                    temp_nodes.append(n.right)\n",
    "            if temp_vals:\n",
    "                vals.append(temp_vals)\n",
    "            nodes = temp_nodes\n",
    "        vals = [x[-1] for x in vals]\n",
    "        return vals"
   ]
  },
  {
   "cell_type": "code",
   "execution_count": null,
   "metadata": {},
   "outputs": [],
   "source": []
  }
 ],
 "metadata": {
  "kernelspec": {
   "display_name": "Python 3",
   "language": "python",
   "name": "python3"
  },
  "language_info": {
   "codemirror_mode": {
    "name": "ipython",
    "version": 3
   },
   "file_extension": ".py",
   "mimetype": "text/x-python",
   "name": "python",
   "nbconvert_exporter": "python",
   "pygments_lexer": "ipython3",
   "version": "3.6.2"
  }
 },
 "nbformat": 4,
 "nbformat_minor": 4
}
