{
 "cells": [
  {
   "cell_type": "raw",
   "metadata": {},
   "source": [
    "说明：\n",
    "    给定一个二叉搜索树，编写一个函数kthSmallest在其中找到第k个最小的元素。\n",
    "\n",
    "后续措施：\n",
    "    1、如果经常修改BST（插入/删除操作）并且您需要经常查找第k个最小的字节怎么办？\n",
    "    2、您将如何优化kthSmallest例程？\n",
    "\n",
    "约束：\n",
    "    1、BST的元素数在1到10^4之间。\n",
    "    2、你可以假设k总是有效的，1≤k≤BST的全部元素。"
   ]
  },
  {
   "cell_type": "markdown",
   "metadata": {},
   "source": [
    "<img src='230.jpg' width=550>"
   ]
  },
  {
   "cell_type": "code",
   "execution_count": 2,
   "metadata": {},
   "outputs": [],
   "source": [
    "class TreeNode:\n",
    "    def __init__(self, val=0, left=None, right=None):\n",
    "        self.val = val\n",
    "        self.left = left\n",
    "        self.right = right"
   ]
  },
  {
   "cell_type": "code",
   "execution_count": 3,
   "metadata": {},
   "outputs": [],
   "source": [
    "class Solution:\n",
    "    def kthSmallest(self, root: TreeNode, k: int) -> int:\n",
    "        self.vals = []\n",
    "        self.helper(root, k)\n",
    "        return self.vals[k-1]\n",
    "                \n",
    "    def helper(self, root, k):\n",
    "        if len(self.vals) == k:\n",
    "            return\n",
    "        if root.left:\n",
    "            self.helper(root.left, k)\n",
    "        self.vals.append(root.val)\n",
    "        if root.right:\n",
    "            self.helper(root.right, k)"
   ]
  },
  {
   "cell_type": "code",
   "execution_count": null,
   "metadata": {},
   "outputs": [],
   "source": []
  }
 ],
 "metadata": {
  "kernelspec": {
   "display_name": "Python 3",
   "language": "python",
   "name": "python3"
  },
  "language_info": {
   "codemirror_mode": {
    "name": "ipython",
    "version": 3
   },
   "file_extension": ".py",
   "mimetype": "text/x-python",
   "name": "python",
   "nbconvert_exporter": "python",
   "pygments_lexer": "ipython3",
   "version": "3.6.2"
  }
 },
 "nbformat": 4,
 "nbformat_minor": 4
}
