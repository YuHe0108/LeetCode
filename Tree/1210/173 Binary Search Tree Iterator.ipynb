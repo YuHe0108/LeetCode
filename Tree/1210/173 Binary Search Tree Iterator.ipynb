{
 "cells": [
  {
   "cell_type": "code",
   "execution_count": null,
   "metadata": {},
   "outputs": [],
   "source": []
  },
  {
   "cell_type": "code",
   "execution_count": null,
   "metadata": {},
   "outputs": [],
   "source": []
  },
  {
   "cell_type": "code",
   "execution_count": null,
   "metadata": {},
   "outputs": [],
   "source": [
    "class BSTIterator:\n",
    "    def __init__(self, root: TreeNode):\n",
    "        self.stack = []\n",
    "        self.do_left(root)\n",
    "    \n",
    "    def do_left(self, node):\n",
    "        while node:\n",
    "            self.stack.append(node)\n",
    "            node = node.left\n",
    "    \n",
    "    def next(self) -> int:\n",
    "        ret = self.stack.pop()\n",
    "        if ret.right:\n",
    "            self.do_left(root.right)\n",
    "        return ret.val\n",
    "\n",
    "    def hasNext(self) -> bool:\n",
    "        return self.stack"
   ]
  }
 ],
 "metadata": {
  "kernelspec": {
   "display_name": "Python 3",
   "language": "python",
   "name": "python3"
  },
  "language_info": {
   "codemirror_mode": {
    "name": "ipython",
    "version": 3
   },
   "file_extension": ".py",
   "mimetype": "text/x-python",
   "name": "python",
   "nbconvert_exporter": "python",
   "pygments_lexer": "ipython3",
   "version": "3.6.2"
  }
 },
 "nbformat": 4,
 "nbformat_minor": 4
}
