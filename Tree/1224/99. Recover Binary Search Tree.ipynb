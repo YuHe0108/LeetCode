{
 "cells": [
  {
   "cell_type": "code",
   "execution_count": null,
   "metadata": {},
   "outputs": [],
   "source": []
  },
  {
   "cell_type": "raw",
   "metadata": {},
   "source": [
    "TreeNode{val: 1, left: None, right: None} None\n",
    "\n",
    "TreeNode{val: 3, left: TreeNode{val: 1, left: None, right: None}, \n",
    "                 right: TreeNode{val: 4, left: TreeNode{val: 2, left: None, right: None}, right: None}} \n",
    "TreeNode{val: 4, left: TreeNode{val: 2, left: None, right: None}, right: None}\n",
    "\n",
    "\n",
    "\n",
    "TreeNode{val: 2, left: None, right: None} None\n",
    "TreeNode{val: 4, left: TreeNode{val: 2, left: None, right: None}, right: None} None\n",
    "TreeNode{val: 3, left: TreeNode{val: 1, left: None, right: None}, right: TreeNode{val: 4, left: TreeNode{val: 2, left: None, right: None}, right: None}} \n",
    "\n",
    "TreeNode{val: 4, left: TreeNode{val: 2, left: None, right: None}, right: None}\n",
    "TreeNode{val: 2, left: None, right: None} None\n",
    "TreeNode{val: 4, left: TreeNode{val: 2, left: None, right: None}, right: None} None\n"
   ]
  },
  {
   "cell_type": "code",
   "execution_count": 4,
   "metadata": {},
   "outputs": [],
   "source": [
    "class TreeNode:\n",
    "    def __init__(self, x):\n",
    "        self.val = x\n",
    "        self.left = None\n",
    "        self.right = None\n",
    "\n",
    "class Solution:\n",
    "    def recoverTree(self, root: TreeNode) -> None:\n",
    "        def dfs(node):\n",
    "            nonlocal fir, sec, prev\n",
    "            if not node:\n",
    "                return \n",
    "            dfs(node.left)\n",
    "            if node.val >= prev.val:\n",
    "                prev = node\n",
    "            else:\n",
    "                if not fir:\n",
    "                    fir = pre\n",
    "                    sec = node\n",
    "                    pre = node\n",
    "                else:\n",
    "                    sec = node\n",
    "            dfs(node.right)\n",
    "        \n",
    "        fir, sec = None, None\n",
    "        prev = TreeNode(-float('inf'))\n",
    "        dfs(root)\n",
    "        fir.val, sec.val = sec.val, fir.val"
   ]
  },
  {
   "cell_type": "code",
   "execution_count": null,
   "metadata": {},
   "outputs": [],
   "source": []
  },
  {
   "cell_type": "code",
   "execution_count": null,
   "metadata": {},
   "outputs": [],
   "source": []
  },
  {
   "cell_type": "code",
   "execution_count": null,
   "metadata": {},
   "outputs": [],
   "source": []
  },
  {
   "cell_type": "code",
   "execution_count": null,
   "metadata": {},
   "outputs": [],
   "source": []
  },
  {
   "cell_type": "code",
   "execution_count": null,
   "metadata": {},
   "outputs": [],
   "source": [
    "# Definition for a binary tree node.\n",
    "\n",
    "class TreeNode:\n",
    "    def __init__(self, x):\n",
    "        self.val = x\n",
    "        self.left = None\n",
    "        self.right = None\n",
    "\n",
    "class Solution:\n",
    "    def recoverTree(self, root: TreeNode) -> None:\n",
    "        \"\"\"\n",
    "        Do not return anything, modify root in-place instead.\n",
    "        \"\"\"\n",
    "        firstNode = None\n",
    "        secondNode = None\n",
    "        pre = TreeNode(float(\"-inf\"))\n",
    "\n",
    "        stack = []\n",
    "        p = root\n",
    "        while p or stack:\n",
    "            while p:\n",
    "                stack.append(p)\n",
    "                p = p.left\n",
    "            p = stack.pop()\n",
    "            \n",
    "            if not firstNode and pre.val > p.val:\n",
    "                firstNode = pre\n",
    "            if firstNode and pre.val > p.val:\n",
    "                #print(firstNode.val,pre.val, p.val)\n",
    "                secondNode = p\n",
    "            pre = p\n",
    "            p = p.right\n",
    "        firstNode.val, secondNode.val = secondNode.val, firstNode.val"
   ]
  },
  {
   "cell_type": "code",
   "execution_count": 2,
   "metadata": {},
   "outputs": [],
   "source": [
    "# Definition for a binary tree node.\n",
    "class TreeNode:\n",
    "    def __init__(self, x):\n",
    "        self.val = x\n",
    "        self.left = None\n",
    "        self.right = None\n",
    "\n",
    "class Solution:\n",
    "    def recoverTree(self, root: TreeNode) -> None:\n",
    "        self.firstNode = None\n",
    "        self.secondNode = None\n",
    "        self.preNode = TreeNode(float(\"-inf\"))\n",
    "\n",
    "        def in_order(root):\n",
    "            if not root:\n",
    "                return\n",
    "            in_order(root.left)\n",
    "            if self.firstNode == None and self.preNode.val >= root.val:\n",
    "                self.firstNode = self.preNode\n",
    "            if self.firstNode and self.preNode.val >= root.val:\n",
    "                self.secondNode = root\n",
    "            self.preNode = root\n",
    "            in_order(root.right)\n",
    "\n",
    "        in_order(root)\n",
    "        self.firstNode.val, self.secondNode.val = self.secondNode.val, self.firstNode.val"
   ]
  },
  {
   "cell_type": "code",
   "execution_count": null,
   "metadata": {},
   "outputs": [],
   "source": []
  },
  {
   "cell_type": "code",
   "execution_count": null,
   "metadata": {},
   "outputs": [],
   "source": [
    "-33 321 55 71 146 231 -13 399"
   ]
  },
  {
   "cell_type": "code",
   "execution_count": null,
   "metadata": {},
   "outputs": [],
   "source": [
    "-inf 146 -1 -1\n",
    "-inf 71 -1 -1\n",
    "-inf 55 -1 -1\n",
    "-inf 321 -1 -1\n",
    "-inf -33 -1 -1\n",
    "321 -13 -1 146\n",
    "321 231 -1 146\n",
    "321 399 -1 -13"
   ]
  },
  {
   "cell_type": "code",
   "execution_count": null,
   "metadata": {},
   "outputs": [],
   "source": [
    "pre   node  fir  sec   [node >= pre 如果 node.val < pre： 异常点]\n",
    "-inf  -33   #    #    \n",
    "-33   321   #    #\n",
    "321   55    #    #\n",
    "321   71    321  55\n",
    "321   146   321  71\n",
    "321   231   321  146\n",
    "321   -13   321  231\n",
    "321   399   321  -13"
   ]
  },
  {
   "cell_type": "code",
   "execution_count": null,
   "metadata": {},
   "outputs": [],
   "source": [
    "\n",
    "321 71 55\n",
    "321 146 71\n",
    "321 231 146\n",
    "321 -13 231"
   ]
  }
 ],
 "metadata": {
  "kernelspec": {
   "display_name": "Python 3",
   "language": "python",
   "name": "python3"
  },
  "language_info": {
   "codemirror_mode": {
    "name": "ipython",
    "version": 3
   },
   "file_extension": ".py",
   "mimetype": "text/x-python",
   "name": "python",
   "nbconvert_exporter": "python",
   "pygments_lexer": "ipython3",
   "version": "3.6.2"
  }
 },
 "nbformat": 4,
 "nbformat_minor": 4
}
