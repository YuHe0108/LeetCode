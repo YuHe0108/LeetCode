{
 "cells": [
  {
   "cell_type": "code",
   "execution_count": null,
   "metadata": {},
   "outputs": [],
   "source": []
  },
  {
   "cell_type": "code",
   "execution_count": null,
   "metadata": {},
   "outputs": [],
   "source": []
  },
  {
   "cell_type": "code",
   "execution_count": null,
   "metadata": {},
   "outputs": [],
   "source": [
    "# Definition for a binary tree node.\n",
    "# class TreeNode:\n",
    "#     def __init__(self, val=0, left=None, right=None):\n",
    "#         self.val = val\n",
    "#         self.left = left\n",
    "#         self.right = right\n",
    "\n",
    "class Solution:\n",
    "    def flipEquiv(self, root1: TreeNode, root2: TreeNode) -> bool:\n",
    "        def dfs(node1, node2):\n",
    "            if node1 is None and node2 is None: # 都没有节点，返回True，否则为False\n",
    "                return True\n",
    "            if (node1 is None and node2 is not None) or (node2 is None and node1 is not None):\n",
    "                return False\n",
    "            if node1.val != node2.val:\n",
    "                return False\n",
    "            \n",
    "            n1_l, n1_r = node1.left, node1.right\n",
    "            n2_l, n2_r = node2.left, node2.right\n",
    "            # 都是叶子节点，返回True,有一个不是，则是False\n",
    "            if n1_l is None and n1_r is None and n2_l is None and n2_r is None:\n",
    "                return True\n",
    "            if (n1_l is None and n1_r is None) and (n2_l is not None or n2_r is not None):\n",
    "                return False\n",
    "            if (n2_l is None and n2_r is None) and (n1_l is not None or n1_r is not None):\n",
    "                return False\n",
    "            if (n1_l is not None or n1_r is not None) and (n2_l is None and n2_r is None):\n",
    "                return False\n",
    "            if (n2_l is not None or n2_r is not None) and (n1_l is None and n1_r is None):\n",
    "                return False\n",
    "            if (n1_l is not None and n1_r is not None) and (n2_l is None or n2_r is None):\n",
    "                return False\n",
    "            if (n2_l is not None and n2_r is not None) and (n1_l is None or n1_r is None):\n",
    "                return False\n",
    "            \n",
    "            if n1_l is not None and n1_r is not None and n2_l is not None and n2_r is not None:\n",
    "                n1_l_val = node1.left.val\n",
    "                n1_r_val = node1.right.val\n",
    "                n2_l_val = node2.left.val\n",
    "                n2_r_val = node2.right.val\n",
    "                if n1_l_val == n2_l_val and n1_r_val == n2_r_val:\n",
    "                    l_state = dfs(node1.left, node2.left)\n",
    "                    r_state = dfs(node1.right, node2.right)\n",
    "                    return l_state and r_state\n",
    "                elif n1_l_val == n2_r_val and n1_r_val == n2_l_val:\n",
    "                    l_state = dfs(node1.left, node2.right)\n",
    "                    r_state = dfs(node1.right, node2.left)\n",
    "                    return l_state and r_state  \n",
    "                else:\n",
    "                    return False\n",
    "            if n1_l is not None and n2_l is not None:\n",
    "                return dfs(n1_l, n2_l)\n",
    "            if n1_l is not None and n2_r is not None:\n",
    "                return dfs(n1_l, n2_r)\n",
    "            if n1_r is not None and n2_l is not None:\n",
    "                return dfs(n1_r, n2_l)\n",
    "            if n1_r is not None and n2_r is not None:\n",
    "                return dfs(n1_r, n2_r)\n",
    "            \n",
    "        return dfs(root1, root2)"
   ]
  },
  {
   "cell_type": "code",
   "execution_count": null,
   "metadata": {},
   "outputs": [],
   "source": []
  },
  {
   "cell_type": "code",
   "execution_count": null,
   "metadata": {},
   "outputs": [],
   "source": [
    "class Solution:\n",
    "    def flipEquiv(self, root1: TreeNode, root2: TreeNode) -> bool:\n",
    "        if not root1 and not root2: return True\n",
    "        if not root1 or not root2: return False\n",
    "        if root1.val != root2.val: return False\n",
    "\n",
    "        flag_1 = self.flipEquiv(root1.left, root2.left) and self.flipEquiv(root1.right, root2.right)\n",
    "        flag_2 = self.flipEquiv(root1.left, root2.right) and self.flipEquiv(root1.right, root2.left)\n",
    "        return flag_1 or flag_2"
   ]
  },
  {
   "cell_type": "code",
   "execution_count": 1,
   "metadata": {},
   "outputs": [],
   "source": [
    "a = sum([])"
   ]
  },
  {
   "cell_type": "code",
   "execution_count": 2,
   "metadata": {},
   "outputs": [
    {
     "data": {
      "text/plain": [
       "0"
      ]
     },
     "execution_count": 2,
     "metadata": {},
     "output_type": "execute_result"
    }
   ],
   "source": [
    "a"
   ]
  },
  {
   "cell_type": "code",
   "execution_count": null,
   "metadata": {},
   "outputs": [],
   "source": [
    "class Solution:\n",
    "    def longestZigZag(self, root: TreeNode) -> int:\n",
    "        self.ans = 0\n",
    "        def helper(node):\n",
    "            if not node:\n",
    "                return -1, -1\n",
    "            ll, lr = helper(node.left)\n",
    "            rl, rr = helper(node.right)\n",
    "            left = 1 + lr\n",
    "            right = 1 + rl\n",
    "            self.ans = max(self.ans, left, right)\n",
    "            return left, right\n",
    "        helper(root)\n",
    "        return self.ans"
   ]
  },
  {
   "cell_type": "code",
   "execution_count": null,
   "metadata": {},
   "outputs": [],
   "source": [
    "class Solution:\n",
    "    def longestZigZag(self, root: TreeNode) -> int:\n",
    "        def dfs(root):\n",
    "            nonlocal res\n",
    "            if not root: \n",
    "                return -1, -1\n",
    "            left, right = dfs(root.left), dfs(root.right)\n",
    "            res = max(res, left[1] + 1, right[0] + 1)\n",
    "            return left[1] + 1, right[0] + 1\n",
    "        \n",
    "        res = 0\n",
    "        dfs(root)\n",
    "        return res"
   ]
  },
  {
   "cell_type": "code",
   "execution_count": null,
   "metadata": {},
   "outputs": [],
   "source": [
    "class Solution:\n",
    "    def longestZigZag(self, root: TreeNode) -> int:\n",
    "        def dfs(node):\n",
    "            if not node:\n",
    "                return -1, -1\n",
    "            l_l, l_r = dfs(node.left)\n",
    "            r_l, r_r = dfs(node.right)\n",
    "            res = max(res, l_r + 1, r_l + 1)\n",
    "            return l_r + 1, r_l + 1"
   ]
  },
  {
   "cell_type": "code",
   "execution_count": null,
   "metadata": {},
   "outputs": [],
   "source": [
    "class Solution:\n",
    "    def longestZigZag(self, root: TreeNode) -> int:\n",
    "        def dfs(node, direc):\n",
    "            if not node:\n",
    "                return 0\n",
    "            if direc == 'L':\n",
    "                right = 1 + dfs(node.right, 'R')\n",
    "                left = dfs(node.left, 'L')\n",
    "                return max(left, right)\n",
    "            else:\n",
    "                left = 1 + dfs(node.left, 'L')\n",
    "                right = dfs(node.right, 'R')\n",
    "                return max(left, right)\n",
    "        return max(dfs(root.left, 'L'), dfs(root.right, 'R'))"
   ]
  }
 ],
 "metadata": {
  "kernelspec": {
   "display_name": "Python 3",
   "language": "python",
   "name": "python3"
  },
  "language_info": {
   "codemirror_mode": {
    "name": "ipython",
    "version": 3
   },
   "file_extension": ".py",
   "mimetype": "text/x-python",
   "name": "python",
   "nbconvert_exporter": "python",
   "pygments_lexer": "ipython3",
   "version": "3.6.2"
  }
 },
 "nbformat": 4,
 "nbformat_minor": 4
}
