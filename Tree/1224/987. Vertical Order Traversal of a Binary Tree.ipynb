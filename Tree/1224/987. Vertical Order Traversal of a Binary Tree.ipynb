{
 "cells": [
  {
   "cell_type": "code",
   "execution_count": null,
   "metadata": {},
   "outputs": [],
   "source": []
  },
  {
   "cell_type": "code",
   "execution_count": null,
   "metadata": {},
   "outputs": [],
   "source": []
  },
  {
   "cell_type": "code",
   "execution_count": 1,
   "metadata": {},
   "outputs": [],
   "source": [
    "a = dict()"
   ]
  },
  {
   "cell_type": "code",
   "execution_count": 6,
   "metadata": {},
   "outputs": [],
   "source": [
    "a.setdefault(list)"
   ]
  },
  {
   "cell_type": "code",
   "execution_count": null,
   "metadata": {},
   "outputs": [],
   "source": [
    "# Definition for a binary tree node.\n",
    "# class TreeNode:\n",
    "#     def __init__(self, x):\n",
    "#         self.val = x\n",
    "#         self.left = None\n",
    "#         self.right = None\n",
    "\n",
    "from collections import defaultdict\n",
    "\n",
    "class Solution:\n",
    "    def verticalTraversal(self, root: TreeNode) -> List[List[int]]:\n",
    "        def dfs(node, x, y):\n",
    "            if not node:\n",
    "                return\n",
    "            nonlocal vals\n",
    "            if y not in vals[x]:\n",
    "                vals[x][y] = [node.val]\n",
    "            else:\n",
    "                vals[x][y].append(node.val)\n",
    "            dfs(node.left, x-1, y-1)\n",
    "            dfs(node.right, x+1, y-1)\n",
    "        \n",
    "        vals = defaultdict(dict)\n",
    "        dfs(root, 0, 0)\n",
    "        vals = sorted(vals.items(), key=lambda x: x[0])\n",
    "        res = []\n",
    "        for k, v in vals:\n",
    "            s_v = sorted(v.items(), key=lambda x: (-x[0], x[1]))\n",
    "            temp = []\n",
    "            for k1, v1 in s_v:\n",
    "                temp.extend(sorted(v1))\n",
    "            res.append(temp)\n",
    "        return res"
   ]
  },
  {
   "cell_type": "code",
   "execution_count": null,
   "metadata": {},
   "outputs": [],
   "source": []
  }
 ],
 "metadata": {
  "kernelspec": {
   "display_name": "Python 3",
   "language": "python",
   "name": "python3"
  },
  "language_info": {
   "codemirror_mode": {
    "name": "ipython",
    "version": 3
   },
   "file_extension": ".py",
   "mimetype": "text/x-python",
   "name": "python",
   "nbconvert_exporter": "python",
   "pygments_lexer": "ipython3",
   "version": "3.6.2"
  }
 },
 "nbformat": 4,
 "nbformat_minor": 4
}
