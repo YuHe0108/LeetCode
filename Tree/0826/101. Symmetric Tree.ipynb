{
 "cells": [
  {
   "cell_type": "raw",
   "metadata": {},
   "source": [
    "说明：\n",
    "    给定一棵二叉树，检查它是否是其自身的镜像（即，围绕其中心对称）。例如，此二叉树[1,2,2,3,4,4,3]是对称的：\n",
    "\n",
    "跟进：\n",
    "    递归和迭代地解决它。"
   ]
  },
  {
   "cell_type": "markdown",
   "metadata": {},
   "source": [
    "<img src='101.jpg' width=400>"
   ]
  },
  {
   "cell_type": "code",
   "execution_count": 15,
   "metadata": {},
   "outputs": [],
   "source": [
    "class TreeNode:\n",
    "    def __init__(self, val=0, left=None, right=None):\n",
    "        self.val = val\n",
    "        self.left = left\n",
    "        self.right = right\n",
    "        \n",
    "        \n",
    "class Solution:\n",
    "    def isSymmetric(self, root: TreeNode) -> bool:\n",
    "        vals = []\n",
    "        nodes = [root]\n",
    "        while nodes:\n",
    "            n = nodes.pop(0)\n",
    "            vals.append(n.val)\n",
    "            if n.left:\n",
    "                nodes.append(n.left)\n",
    "            if n.right:\n",
    "                nodes.append(n.right)\n",
    "        return vals"
   ]
  },
  {
   "cell_type": "code",
   "execution_count": 25,
   "metadata": {},
   "outputs": [],
   "source": [
    "class TreeNode:\n",
    "    def __init__(self, val=0, left=None, right=None):\n",
    "        self.val = val\n",
    "        self.left = left\n",
    "        self.right = right\n",
    "        \n",
    "        \n",
    "class Solution:\n",
    "    def isSymmetric(self, root: TreeNode) -> bool:\n",
    "        left = root.left\n",
    "        right = root.right\n",
    "        return self.helper(left, right)\n",
    "    \n",
    "    def helper(self, left, right):\n",
    "        if not left and not right: return True\n",
    "        if not left or not right: return False\n",
    "        return left.val == right.val and self.helper(left.left, right.right) and self.helper(left.right, right.left)"
   ]
  },
  {
   "cell_type": "code",
   "execution_count": 26,
   "metadata": {},
   "outputs": [
    {
     "data": {
      "text/plain": [
       "True"
      ]
     },
     "execution_count": 26,
     "metadata": {},
     "output_type": "execute_result"
    }
   ],
   "source": [
    "t1 = TreeNode(1)\n",
    "t2 = TreeNode(2)\n",
    "t3 = TreeNode(2)\n",
    "t4 = TreeNode(3)\n",
    "t5 = TreeNode(4)\n",
    "t6 = TreeNode(4)\n",
    "t7 = TreeNode(3)\n",
    "\n",
    "t1.left = t2\n",
    "t1.right = t3\n",
    "\n",
    "t2.left = t4\n",
    "t2.right = t5\n",
    "\n",
    "t3.left= t6\n",
    "t3.right = t7\n",
    "\n",
    "root_ = t1\n",
    "solution = Solution()\n",
    "solution.isSymmetric(root_)"
   ]
  },
  {
   "cell_type": "code",
   "execution_count": null,
   "metadata": {},
   "outputs": [],
   "source": []
  },
  {
   "cell_type": "code",
   "execution_count": null,
   "metadata": {},
   "outputs": [],
   "source": []
  }
 ],
 "metadata": {
  "kernelspec": {
   "display_name": "Python 3",
   "language": "python",
   "name": "python3"
  },
  "language_info": {
   "codemirror_mode": {
    "name": "ipython",
    "version": 3
   },
   "file_extension": ".py",
   "mimetype": "text/x-python",
   "name": "python",
   "nbconvert_exporter": "python",
   "pygments_lexer": "ipython3",
   "version": "3.6.2"
  }
 },
 "nbformat": 4,
 "nbformat_minor": 4
}
