{
 "cells": [
  {
   "cell_type": "raw",
   "metadata": {},
   "source": [
    "说明：\n",
    "    给定两个Binary Tree，编写一个函数来检查它们是否相同。\n",
    "    如果两个二叉树在结构上相同并且节点具有相同的值，则认为它们是相同的。"
   ]
  },
  {
   "cell_type": "markdown",
   "metadata": {},
   "source": [
    "<img src='100.jpg' width=400>"
   ]
  },
  {
   "cell_type": "code",
   "execution_count": 39,
   "metadata": {},
   "outputs": [],
   "source": [
    "# Definition for a binary tree node.\n",
    "class TreeNode:\n",
    "    def __init__(self, val=0, left=None, right=None):\n",
    "        self.val = val\n",
    "        self.left = left\n",
    "        self.right = right\n",
    "        \n",
    "class Solution:\n",
    "    def isSameTree(self, p: TreeNode, q: TreeNode) -> bool:\n",
    "        p_vals = self.traverse(p)\n",
    "        q_vals = self.traverse(q)\n",
    "        print(q_vals, p_vals)\n",
    "        return p_vals == q_vals\n",
    "    \n",
    "    def traverse(self, node):\n",
    "        vals = []\n",
    "        nodes = [node]\n",
    "        while nodes:\n",
    "            n = nodes.pop(0)\n",
    "            if type(n) is int:\n",
    "                vals.append(n)\n",
    "            elif n is not None:\n",
    "                vals.append(n.val)\n",
    "            else:\n",
    "                vals.append(None)\n",
    "            if type(n) is TreeNode:\n",
    "                if n.left:\n",
    "                    nodes.append(n.left)\n",
    "                else:\n",
    "                    nodes.append(None)\n",
    "                \n",
    "                if n.right:\n",
    "                    nodes.append(n.right)\n",
    "                else:\n",
    "                    nodes.append(None)\n",
    "        return vals"
   ]
  },
  {
   "cell_type": "code",
   "execution_count": 48,
   "metadata": {},
   "outputs": [],
   "source": [
    "# 采用递归的形式\n",
    "class TreeNode:\n",
    "    def __init__(self, val=0, left=None, right=None):\n",
    "        self.val = val\n",
    "        self.left = left\n",
    "        self.right = right\n",
    "        \n",
    "class Solution:\n",
    "    def isSameTree(self, p: TreeNode, q: TreeNode) -> bool:\n",
    "        print(p, q)\n",
    "        if not p and not q: return True # 两个树都是空的\n",
    "        if not p or not q: return False # 两个树有一个为空，一个不为空\n",
    "        return p.val == q.val and self.isSameTree(p.left, q.left) and self.isSameTree(p.right, q.right)"
   ]
  },
  {
   "cell_type": "code",
   "execution_count": 50,
   "metadata": {},
   "outputs": [
    {
     "name": "stdout",
     "output_type": "stream",
     "text": [
      "<__main__.TreeNode object at 0x00000273D41BE668> <__main__.TreeNode object at 0x00000273D41BE780>\n",
      "<__main__.TreeNode object at 0x00000273D41BE5F8> <__main__.TreeNode object at 0x00000273D41BE630>\n"
     ]
    },
    {
     "data": {
      "text/plain": [
       "False"
      ]
     },
     "execution_count": 50,
     "metadata": {},
     "output_type": "execute_result"
    }
   ],
   "source": [
    "p_ = TreeNode(1, TreeNode(2), TreeNode(1))\n",
    "q_ = TreeNode(1, TreeNode(1), TreeNode(2))\n",
    "solution = Solution()\n",
    "solution.isSameTree(p_, q_)"
   ]
  },
  {
   "cell_type": "code",
   "execution_count": null,
   "metadata": {},
   "outputs": [],
   "source": []
  }
 ],
 "metadata": {
  "kernelspec": {
   "display_name": "Python 3",
   "language": "python",
   "name": "python3"
  },
  "language_info": {
   "codemirror_mode": {
    "name": "ipython",
    "version": 3
   },
   "file_extension": ".py",
   "mimetype": "text/x-python",
   "name": "python",
   "nbconvert_exporter": "python",
   "pygments_lexer": "ipython3",
   "version": "3.6.2"
  }
 },
 "nbformat": 4,
 "nbformat_minor": 4
}
