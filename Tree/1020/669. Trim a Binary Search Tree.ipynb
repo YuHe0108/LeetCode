{
 "cells": [
  {
   "cell_type": "raw",
   "metadata": {},
   "source": [
    "说明：\n",
    "    给定一个二叉搜索树，同时给定最小边界L 和最大边界 R。\n",
    "    通过修剪二叉搜索树，使得所有节点的值在[L, R]中 (R>=L) 。\n",
    "    你可能需要改变树的根节点，所以结果应当返回修剪好的二叉搜索树的新的根节点。\n",
    "\n",
    "示例 1:\n",
    "    输入: \n",
    "            1\n",
    "           / \\\n",
    "          0   2\n",
    "\n",
    "          L = 1\n",
    "          R = 2\n",
    "\n",
    "    输出: \n",
    "            1\n",
    "              \\\n",
    "               2\n",
    "示例 2:\n",
    "    输入: \n",
    "            3\n",
    "           / \\\n",
    "          0   4\n",
    "           \\\n",
    "            2\n",
    "           /\n",
    "          1\n",
    "\n",
    "          L = 1\n",
    "          R = 3\n",
    "    输出: \n",
    "              3\n",
    "             / \n",
    "           2   \n",
    "          /\n",
    "         1\n",
    "\n",
    "Constraints:\n",
    "    1、The number of nodes in the tree in the range [1, 10^4].\n",
    "    2、0 <= Node.val <= 10^4\n",
    "    3、The value of each node in the tree is unique.\n",
    "    4、root is guaranteed to be a valid binary search tree.\n",
    "    5、0 <= low <= high <= 10^4"
   ]
  },
  {
   "cell_type": "code",
   "execution_count": null,
   "metadata": {},
   "outputs": [],
   "source": [
    "trim"
   ]
  }
 ],
 "metadata": {
  "kernelspec": {
   "display_name": "Python 3",
   "language": "python",
   "name": "python3"
  },
  "language_info": {
   "codemirror_mode": {
    "name": "ipython",
    "version": 3
   },
   "file_extension": ".py",
   "mimetype": "text/x-python",
   "name": "python",
   "nbconvert_exporter": "python",
   "pygments_lexer": "ipython3",
   "version": "3.6.2"
  }
 },
 "nbformat": 4,
 "nbformat_minor": 4
}
