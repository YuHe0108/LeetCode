{
 "cells": [
  {
   "cell_type": "raw",
   "metadata": {},
   "source": [
    "说明：\n",
    "    给定二叉搜索树的根结点 root，返回 L 和 R（含）之间的所有结点的值的和。\n",
    "    二叉搜索树保证具有唯一的值。\n",
    "\n",
    "示例 1：\n",
    "    输入：root = [10,5,15,3,7,null,18], L = 7, R = 15\n",
    "    输出：32\n",
    "\n",
    "示例 2：\n",
    "    输入：root = [10,5,15,3,7,13,18,1,null,6], L = 6, R = 10\n",
    "    输出：23\n",
    "\n",
    "提示：\n",
    "    1、树中的结点数量最多为 10000 个。\n",
    "    2、最终的答案保证小于 2^31。"
   ]
  },
  {
   "cell_type": "code",
   "execution_count": null,
   "metadata": {},
   "outputs": [],
   "source": []
  }
 ],
 "metadata": {
  "kernelspec": {
   "display_name": "Python 3",
   "language": "python",
   "name": "python3"
  },
  "language_info": {
   "codemirror_mode": {
    "name": "ipython",
    "version": 3
   },
   "file_extension": ".py",
   "mimetype": "text/x-python",
   "name": "python",
   "nbconvert_exporter": "python",
   "pygments_lexer": "ipython3",
   "version": "3.6.2"
  }
 },
 "nbformat": 4,
 "nbformat_minor": 4
}
