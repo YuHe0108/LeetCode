{
 "cells": [
  {
   "cell_type": "raw",
   "metadata": {},
   "source": [
    "说明：\n",
    "    给你两棵二叉树，原始树 original 和克隆树 cloned，以及一个位于原始树 original 中的目标节点 target。\n",
    "    其中，克隆树 cloned 是原始树 original 的一个 副本 。\n",
    "    请找出在树 cloned 中，与 target 相同 的节点，\n",
    "    并返回对该节点的引用（在 C/C++ 等有指针的语言中返回 节点指针，其他语言返回节点本身）。\n",
    "\n",
    "提示：\n",
    "    1、树中节点的数量范围为 [1, 10^4] 。\n",
    "    2、同一棵树中，没有值相同的节点。\n",
    "    3、target 节点是树 original 中的一个节点，并且不会是 null 。\n",
    "\n",
    "注意：\n",
    "    1、你 不能 对两棵二叉树，以及 target 节点进行更改。\n",
    "    2、只能 返回对克隆树 cloned 中已有的节点的引用。\n",
    "\n",
    "进阶：如果树中允许出现值相同的节点，你将如何解答？"
   ]
  },
  {
   "cell_type": "markdown",
   "metadata": {},
   "source": [
    "<img src='https://assets.leetcode.com/uploads/2020/02/21/e1.png'>"
   ]
  },
  {
   "cell_type": "code",
   "execution_count": null,
   "metadata": {},
   "outputs": [],
   "source": [
    "class Solution:\n",
    "    def getTargetCopy(self, original: TreeNode, cloned: TreeNode, target: TreeNode) -> TreeNode:\n",
    "        if original is None:\n",
    "            return None\n",
    "        if original == target:\n",
    "            return cloned\n",
    "        left = self.getTargetCopy(original.left, cloned.left, target)\n",
    "        right = self.getTargetCopy(original.right, cloned.right, target)\n",
    "        return left if(right == None) else right\n",
    "        "
   ]
  }
 ],
 "metadata": {
  "kernelspec": {
   "display_name": "Python 3",
   "language": "python",
   "name": "python3"
  },
  "language_info": {
   "codemirror_mode": {
    "name": "ipython",
    "version": 3
   },
   "file_extension": ".py",
   "mimetype": "text/x-python",
   "name": "python",
   "nbconvert_exporter": "python",
   "pygments_lexer": "ipython3",
   "version": "3.6.2"
  }
 },
 "nbformat": 4,
 "nbformat_minor": 4
}
