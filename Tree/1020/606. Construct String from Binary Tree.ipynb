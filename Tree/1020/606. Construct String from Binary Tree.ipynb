{
 "cells": [
  {
   "cell_type": "raw",
   "metadata": {},
   "source": [
    "说明：\n",
    "    你需要采用前序遍历的方式，将一个二叉树转换成一个由括号和整数组成的字符串。\n",
    "    空节点则用一对空括号 \"()\" 表示。 \n",
    "    而且你需要省略所有不影响字符串与原始二叉树之间的一对一映射关系的空括号对。\n",
    "\n",
    "示例 1:\n",
    "    输入: 二叉树: [1,2,3,4]\n",
    "           1\n",
    "         /   \\\n",
    "        2     3\n",
    "       /    \n",
    "      4     \n",
    "\n",
    "    输出: \"1(2(4))(3)\"\n",
    "    解释: \n",
    "        原本将是“1(2(4)())(3())”，\n",
    "        在你省略所有不必要的空括号对之后，\n",
    "        它将是“1(2(4))(3)”。\n",
    "\n",
    "示例 2:\n",
    "\n",
    "输入: \n",
    "    二叉树: [1,2,3,null,4]\n",
    "           1\n",
    "         /   \\\n",
    "        2     3\n",
    "         \\  \n",
    "          4 \n",
    "    输出: \"1(2()(4))(3)\"\n",
    "    解释: 和第一个示例相似，\n",
    "    除了我们不能省略第一个对括号来中断输入和输出之间的一对一映射关系。"
   ]
  },
  {
   "cell_type": "code",
   "execution_count": null,
   "metadata": {},
   "outputs": [],
   "source": [
    "class Solution:\n",
    "    def tree2str(self, root):\n",
    "        if not root:\n",
    "            return ''\n",
    "        res = str(root.val)\n",
    "        if root.left and root.right:\n",
    "            res += '(' + self.tree2str(root.left) + ')(' + self.tree2str(root.right) + ')'\n",
    "        elif root.left:\n",
    "            res += '(' + self.tree2str(root.left) +　')'\n",
    "        elif root.right:\n",
    "            res += '()(' + self.tree2str(root.right) + ')'\n",
    "        return res"
   ]
  }
 ],
 "metadata": {
  "kernelspec": {
   "display_name": "Python 3",
   "language": "python",
   "name": "python3"
  },
  "language_info": {
   "codemirror_mode": {
    "name": "ipython",
    "version": 3
   },
   "file_extension": ".py",
   "mimetype": "text/x-python",
   "name": "python",
   "nbconvert_exporter": "python",
   "pygments_lexer": "ipython3",
   "version": "3.6.2"
  }
 },
 "nbformat": 4,
 "nbformat_minor": 4
}
