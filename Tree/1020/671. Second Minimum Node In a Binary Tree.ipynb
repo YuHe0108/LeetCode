{
 "cells": [
  {
   "cell_type": "raw",
   "metadata": {},
   "source": [
    "说明：\n",
    "    给定一个非空特殊的二叉树，每个节点都是正数，并且每个节点的子节点数量只能为 2 或 0。\n",
    "    如果一个节点有两个子节点的话，那么该节点的值等于两个子节点中较小的一个。\n",
    "    更正式地说，root.val = min(root.left.val, root.right.val) 总成立。\n",
    "    给出这样的一个二叉树，你需要输出所有节点中的第二小的值。\n",
    "    如果第二小的值不存在的话，输出 -1 。\n",
    "\n",
    "说明：\n",
    "    1、树中节点数目在范围 [1, 25] 内\n",
    "    2、1 <= Node.val <= 231 - 1\n",
    "    3、对于树中每个节点 root.val == min(root.left.val, root.right.val)"
   ]
  },
  {
   "cell_type": "markdown",
   "metadata": {},
   "source": [
    "<img src='https://assets.leetcode.com/uploads/2020/10/15/smbt1.jpg'>"
   ]
  },
  {
   "cell_type": "raw",
   "metadata": {},
   "source": [
    "输入：root = [2,2,5,null,null,5,7]\n",
    "输出：5\n",
    "解释：最小的值是 2 ，第二小的值是 5 。"
   ]
  },
  {
   "cell_type": "code",
   "execution_count": null,
   "metadata": {},
   "outputs": [],
   "source": [
    "class Solution:\n",
    "    def findSecondMinimumValue(self, root: TreeNode) -> int:\n",
    "        if not root:\n",
    "            return\n",
    "        \n",
    "        queue:Deque[TreeNode]=deque()\n",
    "            \n",
    "        nextmin=float(inf)\n",
    "        rootval=root.val\n",
    "        \n",
    "        queue.append(root)\n",
    "        \n",
    "        while queue:\n",
    "            t = queue.popleft()\n",
    "            \n",
    "            if not t:\n",
    "                continue\n",
    "            \n",
    "            if rootval<t.val<nextmin:\n",
    "                nextmin = t.val\n",
    "            \n",
    "            queue.append(t.left)\n",
    "            queue.append(t.right)\n",
    "        \n",
    "        return nextmin if nextmin != float(inf) else -1"
   ]
  },
  {
   "cell_type": "code",
   "execution_count": null,
   "metadata": {},
   "outputs": [],
   "source": [
    "print(2)"
   ]
  }
 ],
 "metadata": {
  "kernelspec": {
   "display_name": "Python 3",
   "language": "python",
   "name": "python3"
  },
  "language_info": {
   "codemirror_mode": {
    "name": "ipython",
    "version": 3
   },
   "file_extension": ".py",
   "mimetype": "text/x-python",
   "name": "python",
   "nbconvert_exporter": "python",
   "pygments_lexer": "ipython3",
   "version": "3.6.2"
  }
 },
 "nbformat": 4,
 "nbformat_minor": 4
}
