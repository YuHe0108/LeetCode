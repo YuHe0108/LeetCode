{
 "cells": [
  {
   "cell_type": "raw",
   "metadata": {},
   "source": [
    "说明：\n",
    "    给你一棵以 root 为根的二叉树和一个 head 为第一个节点的链表。\n",
    "    如果在二叉树中，存在一条一直向下的路径，且每个点的数值恰好一一对应以 head 为首的链表中每个节点的值，那么请你返回 True ，否则返回 False 。\n",
    "    一直向下的路径的意思是：从树中某个节点开始，一直连续向下的路径。\n",
    "\n",
    "Constraints:\n",
    "    1、1 <= node.val <= 100 for each node in the linked list and binary tree.\n",
    "    2、The given linked list will contain between 1 and 100 nodes.\n",
    "    3、The given binary tree will contain between 1 and 2500 nodes."
   ]
  },
  {
   "cell_type": "markdown",
   "metadata": {},
   "source": [
    "<img src='https://assets.leetcode.com/uploads/2020/02/12/sample_1_1720.png'>"
   ]
  },
  {
   "cell_type": "raw",
   "metadata": {},
   "source": [
    "例1：\n",
    "    Input: head = [4,2,8], root = [1,4,4,null,2,2,null,1,null,6,8,null,null,null,null,1,3]\n",
    "    Output: true\n",
    "    Explanation: Nodes in blue form a subpath in the binary Tree.  "
   ]
  },
  {
   "cell_type": "markdown",
   "metadata": {},
   "source": [
    "<img src='https://assets.leetcode.com/uploads/2020/02/12/sample_2_1720.png'>"
   ]
  },
  {
   "cell_type": "raw",
   "metadata": {},
   "source": [
    "Input: head = [1,4,2,6], root = [1,4,4,null,2,2,null,1,null,6,8,null,null,null,null,1,3]\n",
    "Output: true"
   ]
  },
  {
   "cell_type": "code",
   "execution_count": null,
   "metadata": {},
   "outputs": [],
   "source": [
    "class Solution:\n",
    "    def isSubPath(self, head: ListNode, root: TreeNode) -> bool:     \n",
    "        if not root:\n",
    "            return False\n",
    "        \n",
    "        def checkpath(head,root):\n",
    "            if not head:\n",
    "                return True\n",
    "            if not root:\n",
    "                return False\n",
    "            \n",
    "            if head.val==root.val:\n",
    "                return (checkpath(head.next,root.left) or checkpath(head.next,root.right))\n",
    "               \n",
    "        return checkpath(head,root) or self.isSubPath(head,root.left) or self.isSubPath(head,root.right)"
   ]
  }
 ],
 "metadata": {
  "kernelspec": {
   "display_name": "Python 3",
   "language": "python",
   "name": "python3"
  },
  "language_info": {
   "codemirror_mode": {
    "name": "ipython",
    "version": 3
   },
   "file_extension": ".py",
   "mimetype": "text/x-python",
   "name": "python",
   "nbconvert_exporter": "python",
   "pygments_lexer": "ipython3",
   "version": "3.6.2"
  }
 },
 "nbformat": 4,
 "nbformat_minor": 4
}
