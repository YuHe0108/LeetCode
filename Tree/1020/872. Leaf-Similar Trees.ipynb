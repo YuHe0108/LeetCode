{
 "cells": [
  {
   "cell_type": "raw",
   "metadata": {},
   "source": [
    "说明：\n",
    "    请考虑一棵二叉树上所有的叶子，\n",
    "    这些叶子的值按从左到右的顺序排列形成一个 叶值序列 。\n",
    "    \n",
    "举个例子，如上图所示，给定一棵叶值序列为 (6, 7, 4, 9, 8) 的树。\n",
    "         如果有两棵二叉树的叶值序列是相同，那么我们就认为它们是 叶相似 的。\n",
    "         如果给定的两个头结点分别为 root1 和 root2 的树是叶相似的，则返回 true；\n",
    "         否则返回 false 。"
   ]
  },
  {
   "cell_type": "markdown",
   "metadata": {},
   "source": [
    "<img src='https://s3-lc-upload.s3.amazonaws.com/uploads/2018/07/16/tree.png' width=500>"
   ]
  },
  {
   "cell_type": "raw",
   "metadata": {},
   "source": [
    "例1：\n",
    "    输入：root1 = [3,5,1,6,2,9,8,null,null,7,4], root2 = [3,5,1,6,7,4,2,null,null,null,null,null,null,9,8]\n",
    "    输出：true"
   ]
  },
  {
   "cell_type": "markdown",
   "metadata": {},
   "source": [
    "<img src='https://assets.leetcode.com/uploads/2020/09/03/leaf-similar-1.jpg' width=550>"
   ]
  },
  {
   "cell_type": "raw",
   "metadata": {},
   "source": [
    "输入：root1 = [1,2,3], root2 = [1,3,2]\n",
    "输出：false"
   ]
  },
  {
   "cell_type": "markdown",
   "metadata": {},
   "source": [
    "<img src='https://assets.leetcode.com/uploads/2020/09/03/leaf-similar-2.jpg' width=550>"
   ]
  },
  {
   "cell_type": "code",
   "execution_count": null,
   "metadata": {},
   "outputs": [],
   "source": []
  }
 ],
 "metadata": {
  "kernelspec": {
   "display_name": "Python 3",
   "language": "python",
   "name": "python3"
  },
  "language_info": {
   "name": ""
  }
 },
 "nbformat": 4,
 "nbformat_minor": 4
}
