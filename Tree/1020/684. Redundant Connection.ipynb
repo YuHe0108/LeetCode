{
 "cells": [
  {
   "cell_type": "raw",
   "metadata": {},
   "source": [
    "说明：\n",
    "    在本问题中, 树指的是一个连通且无环的无向图。\n",
    "    输入一个图，该图由一个有着N个节点 (节点值不重复1, 2, ..., N) 的树及一条附加的边构成。\n",
    "    附加的边的两个顶点包含在1到N中间，这条附加的边不属于树中已存在的边。\n",
    "    结果图是一个以边组成的二维数组。\n",
    "    每一个边的元素是一对[u, v] ，满足 u < v，表示连接顶点u 和v的无向图的边。\n",
    "    返回一条可以删去的边，使得结果图是一个有着N个节点的树。\n",
    "    如果有多个答案，则返回二维数组中最后出现的边。\n",
    "    答案边 [u, v] 应满足相同的格式 u < v。\n",
    "\n",
    "示例 1：\n",
    "    输入: [[1,2], [1,3], [2,3]]\n",
    "    输出: [2,3]\n",
    "    解释: 给定的无向图为:\n",
    "      1\n",
    "     / \\\n",
    "    2 - 3\n",
    "\n",
    "示例 2：\n",
    "    输入: [[1,2], [2,3], [3,4], [1,4], [1,5]]\n",
    "    输出: [1,4]\n",
    "    解释: 给定的无向图为:\n",
    "                        5 - 1 - 2\n",
    "                            |   |\n",
    "                            4 - 3\n",
    "注意:\n",
    "    1、输入的二维数组大小在 3 到 1000。\n",
    "    2、二维数组中的整数在1到N之间，其中N是输入数组的大小。"
   ]
  },
  {
   "cell_type": "code",
   "execution_count": 11,
   "metadata": {},
   "outputs": [],
   "source": [
    "from collections import defaultdict\n",
    "\n",
    "class Solution:\n",
    "    def findRedundantConnection(self, edges):\n",
    "        \n",
    "        def find_father(x):\n",
    "            if father[x] != x:\n",
    "                father[x] = find_father(father[x])\n",
    "            return father[x]\n",
    "        \n",
    "        def union(x, y):\n",
    "            x = father[x]\n",
    "            y = father[y]\n",
    "            if x < y:\n",
    "                father[x] = y\n",
    "            else:\n",
    "                father[y] = x\n",
    "        \n",
    "        father = dict()\n",
    "        \n",
    "        for a, b in edges:\n",
    "            if a not in father:\n",
    "                father[a] = a\n",
    "            if b not in father:\n",
    "                father[b] = b\n",
    "                \n",
    "            # 检查a和b是否联通\n",
    "            if find_father(a) != find_father(b):\n",
    "                union(a, b)\n",
    "            else:\n",
    "                # 如果已经联通了，那么就返回 当前的边\n",
    "                return (a, b)     "
   ]
  },
  {
   "cell_type": "code",
   "execution_count": 12,
   "metadata": {},
   "outputs": [
    {
     "name": "stdout",
     "output_type": "stream",
     "text": [
      "{1: 4, 2: 4, 3: 4, 4: 4}\n"
     ]
    },
    {
     "data": {
      "text/plain": [
       "(1, 4)"
      ]
     },
     "execution_count": 12,
     "metadata": {},
     "output_type": "execute_result"
    }
   ],
   "source": [
    "solution = Solution()\n",
    "solution.findRedundantConnection([[1,2], [2,3], [3,4], [1,4], [1,5]])"
   ]
  },
  {
   "cell_type": "code",
   "execution_count": null,
   "metadata": {},
   "outputs": [],
   "source": []
  }
 ],
 "metadata": {
  "kernelspec": {
   "display_name": "Python 3",
   "language": "python",
   "name": "python3"
  },
  "language_info": {
   "codemirror_mode": {
    "name": "ipython",
    "version": 3
   },
   "file_extension": ".py",
   "mimetype": "text/x-python",
   "name": "python",
   "nbconvert_exporter": "python",
   "pygments_lexer": "ipython3",
   "version": "3.6.2"
  }
 },
 "nbformat": 4,
 "nbformat_minor": 4
}
