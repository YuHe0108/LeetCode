{
 "cells": [
  {
   "cell_type": "raw",
   "metadata": {},
   "source": [
    "说明：\n",
    "    给你一棵二叉树，每个节点的值为 1 到 9 。\n",
    "    我们称二叉树中的一条路径是 「伪回文」的，当它满足：\n",
    "        1、路径经过的所有节点值的排列中，存在一个回文序列。\n",
    "    请你返回从根到叶子节点的所有路径中 伪回文 路径的数目。\n",
    "\n",
    "题目要求：\n",
    "    根节点到叶子节点的路径值可以形成回文数字\n",
    "     \n",
    "示例 3：\n",
    "    输入：root = [9]\n",
    "    输出：1\n",
    "\n",
    "提示：\n",
    "    1、给定二叉树的节点数目在 1 到 10^5 之间。\n",
    "    2、节点值在 1 到 9 之间。"
   ]
  },
  {
   "cell_type": "markdown",
   "metadata": {},
   "source": [
    "<img src='https://assets.leetcode-cn.com/aliyun-lc-upload/uploads/2020/05/23/palindromic_paths_1.png'>"
   ]
  },
  {
   "cell_type": "raw",
   "metadata": {},
   "source": [
    "输入：root = [2,3,1,3,1,null,1]\n",
    "输出：2 \n",
    "解释：上图为给定的二叉树。\n",
    "     总共有 3 条从根到叶子的路径：红色路径 [2,3,3] ，绿色路径 [2,1,1] 和路径 [2,3,1] 。\n",
    "     在这些路径中，只有红色和绿色的路径是伪回文路径，因为红色路径 [2,3,3] 存在回文排列 [3,2,3] ，绿色路径 [2,1,1] 存在回文排列 [1,2,1] 。"
   ]
  },
  {
   "cell_type": "markdown",
   "metadata": {},
   "source": [
    "<img src='https://assets.leetcode-cn.com/aliyun-lc-upload/uploads/2020/05/23/palindromic_paths_2.png'>"
   ]
  },
  {
   "cell_type": "raw",
   "metadata": {},
   "source": [
    "示例 2：\n",
    "    输入：root = [2,1,1,1,3,null,null,null,null,null,1]\n",
    "    输出：1 \n",
    "    解释：上图为给定二叉树。总共有 3 条从根到叶子的路径：绿色路径 [2,1,1] ，路径 [2,1,3,1] 和路径 [2,1] 。\n",
    "         这些路径中只有绿色路径是伪回文路径，因为 [2,1,1] 存在回文排列 [1,2,1] 。"
   ]
  },
  {
   "cell_type": "code",
   "execution_count": 2,
   "metadata": {},
   "outputs": [],
   "source": [
    "from collections import Counter\n",
    "\n",
    "def check(val_list):\n",
    "    # 偶数长度，每个数字存在必须存在偶数次\n",
    "    val_count = Counter(val_list)\n",
    "    val_freq = val_count.values()\n",
    "    if len(val_list) % 2 == 0:\n",
    "        for val in val_freq:\n",
    "            if val % 2 == 1:\n",
    "                return False\n",
    "    else:\n",
    "        count = 0\n",
    "        for val in val_freq:\n",
    "            if val % 2 == 1:\n",
    "                if count > 1:\n",
    "                    return False\n",
    "                else:\n",
    "                    count += 1\n",
    "    return True"
   ]
  },
  {
   "cell_type": "code",
   "execution_count": 7,
   "metadata": {},
   "outputs": [
    {
     "data": {
      "text/plain": [
       "True"
      ]
     },
     "execution_count": 7,
     "metadata": {},
     "output_type": "execute_result"
    }
   ],
   "source": [
    "check([1,2,3,3,1,2,1])"
   ]
  },
  {
   "cell_type": "code",
   "execution_count": null,
   "metadata": {},
   "outputs": [],
   "source": [
    "# Definition for a binary tree node.\n",
    "# class TreeNode:\n",
    "#     def __init__(self, val=0, left=None, right=None):\n",
    "#         self.val = val\n",
    "#         self.left = left\n",
    "#         self.right = right\n",
    "\n",
    "class Solution:\n",
    "    def pseudoPalindromicPaths (self, root: TreeNode) -> int:\n",
    "        # all_paths = []\n",
    "        res = 0\n",
    "        def dfs(node, path):\n",
    "            nonlocal res\n",
    "            if not node:\n",
    "                return\n",
    "            if not node.left and not node.right:\n",
    "                path.append(node.val)\n",
    "                if self.check(path[:]):\n",
    "                    res += 1\n",
    "                # all_paths.append(path[:])\n",
    "                path.pop()\n",
    "                return\n",
    "            path.append(node.val)\n",
    "            dfs(node.left, path)\n",
    "            dfs(node.right, path)\n",
    "            path.pop()\n",
    "\n",
    "        dfs(root, [])\n",
    "        return res\n",
    "    \n",
    "    def checkExist(self, temp: List[int]) -> bool: \n",
    "        count_odd = 0 \n",
    "        for num in temp:\n",
    "            if num % 2 == 1:\n",
    "                if count_odd == 1:\n",
    "                    return False\n",
    "                count_odd += 1\n",
    "        return True\n",
    "    \n",
    "#     def check(self, val_list):\n",
    "#         # 偶数长度，每个数字存在必须存在偶数次\n",
    "#         val_count = Counter(val_list)\n",
    "#         val_freq = val_count.values()\n",
    "#         if len(val_list) % 2 == 0:\n",
    "#             for val in val_freq:\n",
    "#                 if val % 2 == 1:\n",
    "#                     return False\n",
    "#         else:\n",
    "#             count = 0\n",
    "#             for val in val_freq:\n",
    "#                 if val % 2 == 1:\n",
    "#                     if count > 1:\n",
    "#                         return False\n",
    "#                     else:\n",
    "#                         count += 1\n",
    "#         return True"
   ]
  },
  {
   "cell_type": "code",
   "execution_count": null,
   "metadata": {},
   "outputs": [],
   "source": [
    "class Solution:\n",
    "    def checkExist(self, temp: List[int]) -> bool: \n",
    "        count_odd = 0 \n",
    "        for num in temp:\n",
    "            if num % 2 == 1:\n",
    "                if count_odd == 1:\n",
    "                    return False\n",
    "                count_odd += 1\n",
    "        return True\n",
    "    \n",
    "    def dfs(self, node: TreeNode, temp: List[int])->None:\n",
    "        if not node:\n",
    "            return\n",
    "        \n",
    "        temp[node.val] += 1\n",
    "        if not node.left and not node.right:\n",
    "            if self.checkExist(temp):\n",
    "                self.res += 1\n",
    "            \n",
    "        self.dfs(node.left, temp)\n",
    "        self.dfs(node.right, temp)\n",
    "        temp[node.val] -= 1\n",
    "        \n",
    "    def pseudoPalindromicPaths (self, root: TreeNode) -> int:\n",
    "        temp = [0] * 10\n",
    "        self.res = 0\n",
    "        self.dfs(root, temp)\n",
    "        return self.res"
   ]
  },
  {
   "cell_type": "code",
   "execution_count": null,
   "metadata": {},
   "outputs": [],
   "source": []
  }
 ],
 "metadata": {
  "kernelspec": {
   "display_name": "Python 3",
   "language": "python",
   "name": "python3"
  },
  "language_info": {
   "codemirror_mode": {
    "name": "ipython",
    "version": 3
   },
   "file_extension": ".py",
   "mimetype": "text/x-python",
   "name": "python",
   "nbconvert_exporter": "python",
   "pygments_lexer": "ipython3",
   "version": "3.6.2"
  }
 },
 "nbformat": 4,
 "nbformat_minor": 4
}
