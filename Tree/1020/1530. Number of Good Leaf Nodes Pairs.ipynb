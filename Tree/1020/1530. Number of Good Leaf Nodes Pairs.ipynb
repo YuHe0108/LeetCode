{
 "cells": [
  {
   "cell_type": "raw",
   "metadata": {},
   "source": [
    "说明：\n",
    "    给你二叉树的根节点 root 和一个整数 distance 。\n",
    "    如果二叉树中两个 叶 节点之间的 最短路径长度 小于或者等于 distance ，那它们就可以构成一组 好叶子节点对 。\n",
    "    返回树中 好叶子节点对的数量 。\n",
    "    \n",
    "例1：\n",
    "    输入：root = [1,2,3,null,4], distance = 3\n",
    "    输出：1\n",
    "    解释：树的叶节点是 3 和 4 ，它们之间的最短路径的长度是 3 。这是唯一的好叶子节点对。"
   ]
  },
  {
   "cell_type": "markdown",
   "metadata": {},
   "source": [
    "<img src='https://assets.leetcode-cn.com/aliyun-lc-upload/uploads/2020/07/26/e1.jpg' width=350>\n",
    "<img src='https://assets.leetcode-cn.com/aliyun-lc-upload/uploads/2020/07/26/e2.jpg' width=350>"
   ]
  },
  {
   "cell_type": "raw",
   "metadata": {},
   "source": [
    "输入：root = [1,2,3,4,5,6,7], distance = 3\n",
    "输出：2\n",
    "解释：好叶子节点对为 [4,5] 和 [6,7] ，最短路径长度都是 2 。但是叶子节点对 [4,6] 不满足要求，因为它们之间的最短路径长度为 4 。\n",
    "\n",
    "示例 3：\n",
    "    输入：root = [7,1,4,6,null,5,3,null,null,null,null,null,2], distance = 3\n",
    "    输出：1\n",
    "    解释：唯一的好叶子节点对是 [2,5] 。\n",
    "\n",
    "示例 4：\n",
    "    输入：root = [100], distance = 1\n",
    "    输出：0\n",
    "\n",
    "示例 5：\n",
    "    输入：root = [1,1,1], distance = 2\n",
    "    输出：1\n",
    "\n",
    "提示：\n",
    "    1、tree 的节点数在 [1, 2^10] 范围内。\n",
    "    2、每个节点的值都在 [1, 100] 之间。\n",
    "    3、1 <= distance <= 10"
   ]
  },
  {
   "cell_type": "markdown",
   "metadata": {},
   "source": [
    "<img src='1530.jpg'>"
   ]
  },
  {
   "cell_type": "code",
   "execution_count": 7,
   "metadata": {},
   "outputs": [],
   "source": [
    "class TreeNode:\n",
    "    def __init__(self, val=0, left=None, right=None):\n",
    "        self.val = val\n",
    "        self.left = left\n",
    "        self.right = right\n",
    "\n",
    "class Solution:\n",
    "    def countPairs(self, root: TreeNode, distance: int) -> int:\n",
    "        res = 0\n",
    "        \n",
    "        def dfs(node):\n",
    "            if not node:\n",
    "                return []\n",
    "            if not node.left and not node.right:\n",
    "                return [1]\n",
    "            l_list = dfs(node.left) # 用于记录树的每一个左节点到叶子节点的距离\n",
    "            r_list = dfs(node.right) # \n",
    "            res += sum(l + r <= distance for l in l_list for r in r_list)\n",
    "            return [x+1 for x in l_list + r_list]\n",
    "        \n",
    "        dfs(root)\n",
    "        return res"
   ]
  },
  {
   "cell_type": "code",
   "execution_count": null,
   "metadata": {},
   "outputs": [],
   "source": [
    "class Solution:\n",
    "    def countPairs(self, root: TreeNode, distance: int) -> int:\n",
    "        self.ans = 0\n",
    "        def dfs(node):\n",
    "            if not node: return {}\n",
    "            if not node.left and not node.right:\n",
    "                return {0:1}\n",
    "            L = dfs(node.left)\n",
    "            R = dfs(node.right)\n",
    "            for d1, c1 in L.items():\n",
    "                for d2, c2 in R.items():\n",
    "                    if d1 + d2 + 2 <= distance:\n",
    "                        self.ans += c1 * c2\n",
    "            t = collections.defaultdict(int)\n",
    "            for d1, c1 in L.items():\n",
    "                t[d1+1] += c1\n",
    "            for d2, c2 in R.items():\n",
    "                t[d2+1] += c2\n",
    "            return t\n",
    "        dfs(root)\n",
    "        return self.ans"
   ]
  },
  {
   "cell_type": "code",
   "execution_count": null,
   "metadata": {},
   "outputs": [],
   "source": []
  },
  {
   "cell_type": "code",
   "execution_count": null,
   "metadata": {},
   "outputs": [],
   "source": []
  },
  {
   "cell_type": "code",
   "execution_count": null,
   "metadata": {},
   "outputs": [],
   "source": []
  },
  {
   "cell_type": "code",
   "execution_count": null,
   "metadata": {},
   "outputs": [],
   "source": []
  },
  {
   "cell_type": "code",
   "execution_count": 4,
   "metadata": {},
   "outputs": [],
   "source": [
    "a = [1, 2, 3, 4]\n",
    "b = [6, 7, 8, 9]\n",
    "c = [(x, y) for x in a for y in b]"
   ]
  },
  {
   "cell_type": "code",
   "execution_count": 5,
   "metadata": {},
   "outputs": [
    {
     "data": {
      "text/plain": [
       "[(1, 6),\n",
       " (1, 7),\n",
       " (1, 8),\n",
       " (1, 9),\n",
       " (2, 6),\n",
       " (2, 7),\n",
       " (2, 8),\n",
       " (2, 9),\n",
       " (3, 6),\n",
       " (3, 7),\n",
       " (3, 8),\n",
       " (3, 9),\n",
       " (4, 6),\n",
       " (4, 7),\n",
       " (4, 8),\n",
       " (4, 9)]"
      ]
     },
     "execution_count": 5,
     "metadata": {},
     "output_type": "execute_result"
    }
   ],
   "source": [
    "c"
   ]
  },
  {
   "cell_type": "code",
   "execution_count": 8,
   "metadata": {},
   "outputs": [],
   "source": [
    "a = [1]\n",
    "b = [2]\n",
    "c = a + []"
   ]
  },
  {
   "cell_type": "code",
   "execution_count": 9,
   "metadata": {},
   "outputs": [
    {
     "data": {
      "text/plain": [
       "[1]"
      ]
     },
     "execution_count": 9,
     "metadata": {},
     "output_type": "execute_result"
    }
   ],
   "source": [
    "c"
   ]
  },
  {
   "cell_type": "code",
   "execution_count": null,
   "metadata": {},
   "outputs": [],
   "source": []
  }
 ],
 "metadata": {
  "kernelspec": {
   "display_name": "Python 3",
   "language": "python",
   "name": "python3"
  },
  "language_info": {
   "codemirror_mode": {
    "name": "ipython",
    "version": 3
   },
   "file_extension": ".py",
   "mimetype": "text/x-python",
   "name": "python",
   "nbconvert_exporter": "python",
   "pygments_lexer": "ipython3",
   "version": "3.6.2"
  }
 },
 "nbformat": 4,
 "nbformat_minor": 4
}
