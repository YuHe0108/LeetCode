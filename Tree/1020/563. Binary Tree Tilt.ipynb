{
 "cells": [
  {
   "cell_type": "raw",
   "metadata": {},
   "source": [
    "说明：\n",
    "    给定一个二叉树，计算整个树的坡度。\n",
    "    一个树的节点的坡度定义即为：\n",
    "        该节点左子树的结点之和和右子树结点之和的差的绝对值。空结点的的坡度是0。\n",
    "    整个树的坡度就是其所有节点的坡度之和。\n",
    "\n",
    "示例：\n",
    "    输入：\n",
    "             1\n",
    "           /   \\\n",
    "          2     3\n",
    "    输出：1\n",
    "    解释：\n",
    "    结点 2 的坡度: 0\n",
    "    结点 3 的坡度: 0\n",
    "    结点 1 的坡度: |2-3| = 1\n",
    "    树的坡度 : 0 + 0 + 1 = 1\n",
    " \n",
    "提示：\n",
    "    1、任何子树的结点的和不会超过 32 位整数的范围。\n",
    "    2、坡度的值不会超过 32 位整数的范围。"
   ]
  },
  {
   "cell_type": "code",
   "execution_count": null,
   "metadata": {},
   "outputs": [],
   "source": [
    "def __init__(self):\n",
    "    self.tilt = 0\n",
    "\n",
    "def findTilt(self, root: TreeNode) -> int:\n",
    "    # null node equals to node whose value is 0\n",
    "    self.calc(root)\n",
    "    return self.tilt\n",
    "\n",
    "def calc(self, root):\n",
    "    if not root:\n",
    "        return 0\n",
    "\n",
    "    l = r = 0\n",
    "    if root.left:\n",
    "        l = self.calc(root.left)\n",
    "    if root.right:\n",
    "        r = self.calc(root.right)\n",
    "\n",
    "    self.tilt += abs(l-r)\n",
    "    return l + r + root.va"
   ]
  },
  {
   "cell_type": "code",
   "execution_count": 1,
   "metadata": {},
   "outputs": [],
   "source": [
    "class TreeNode:\n",
    "    def __init__(self, val=0, left=None, right=None):\n",
    "        self.val = val\n",
    "        self.left = left\n",
    "        self.right = right\n",
    "        \n",
    "class Solution:\n",
    "    def findTilt(self, root: TreeNode) -> int:\n",
    "        tree_tilt = 3\n",
    "        \n",
    "        def dfs(node):\n",
    "            nonlocal tree_tilt\n",
    "            \n",
    "            if not root:\n",
    "                return 0\n",
    "            l = r = 0\n",
    "            if root.left:\n",
    "                l = self.dfs(root.left)\n",
    "            if root.right:\n",
    "                r = self.dfs(root.right)\n",
    "            tree_tilt += abs(l - r)\n",
    "            \n",
    "        dfs(root)\n",
    "        return tree_tilt   "
   ]
  },
  {
   "cell_type": "code",
   "execution_count": null,
   "metadata": {},
   "outputs": [],
   "source": [
    "class TreeNode:\n",
    "    def __init__(self, val=0, left=None, right=None):\n",
    "        self.val = val\n",
    "        self.left = left\n",
    "        self.right = right\n",
    "\n",
    "class Solution:\n",
    "    def findTilt(self, root: TreeNode) -> int:\n",
    "        self.tree_tilt = 0\n",
    "        self.dfs(root)\n",
    "        return self.tree_tilt\n",
    "    \n",
    "    def dfs(self, root):\n",
    "        if not root:\n",
    "            return 0\n",
    "        l = r = 0\n",
    "        if root.left:\n",
    "            l = self.dfs(root.left)\n",
    "        if root.right:\n",
    "            r = self.dfs(root.right)\n",
    "        self.tree_tilt += abs(l - r)\n",
    "        return l + r + root.val"
   ]
  }
 ],
 "metadata": {
  "kernelspec": {
   "display_name": "Python 3",
   "language": "python",
   "name": "python3"
  },
  "language_info": {
   "codemirror_mode": {
    "name": "ipython",
    "version": 3
   },
   "file_extension": ".py",
   "mimetype": "text/x-python",
   "name": "python",
   "nbconvert_exporter": "python",
   "pygments_lexer": "ipython3",
   "version": "3.6.2"
  }
 },
 "nbformat": 4,
 "nbformat_minor": 4
}
