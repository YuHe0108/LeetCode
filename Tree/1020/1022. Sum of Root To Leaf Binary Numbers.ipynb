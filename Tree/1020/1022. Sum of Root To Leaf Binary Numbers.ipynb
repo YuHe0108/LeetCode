{
 "cells": [
  {
   "cell_type": "raw",
   "metadata": {},
   "source": [
    "说明：\n",
    "    给出一棵二叉树，其上每个结点的值都是 0 或 1 。\n",
    "    每一条从根到叶的路径都代表一个从最高有效位开始的二进制数。\n",
    "    例如，如果路径为 0 -> 1 -> 1 -> 0 -> 1，那么它表示二进制数 01101，也就是 13 。\n",
    "    对树上的每一片叶子，我们都要找出从根到该叶子的路径所表示的数字。\n",
    "    以 10^9 + 7 为模，返回这些数字之和。\n",
    "\n",
    "提示：\n",
    "    1、树中的结点数介于 1 和 1000 之间。\n",
    "    2、node.val 为 0 或 1 \n",
    "\n",
    "Example 2:\n",
    "    Input: root = [0]\n",
    "    Output: 0\n",
    "\n",
    "Example 3:\n",
    "    Input: root = [1]\n",
    "    Output: 1\n",
    "\n",
    "Example 4:\n",
    "    Input: root = [1,1]\n",
    "    Output: 3\n",
    "\n",
    "示例：\n",
    "    输入：[1,0,1,0,1,0,1]\n",
    "    输出：22\n",
    "    解释：(100) + (101) + (110) + (111) = 4 + 5 + 6 + 7 = 22"
   ]
  },
  {
   "cell_type": "markdown",
   "metadata": {},
   "source": [
    "<img src='https://assets.leetcode-cn.com/aliyun-lc-upload/uploads/2019/04/05/sum-of-root-to-leaf-binary-numbers.png' width=500>"
   ]
  },
  {
   "cell_type": "code",
   "execution_count": 3,
   "metadata": {},
   "outputs": [],
   "source": [
    "class TreeNode:\n",
    "    def __init__(self, val=0, left=None, right=None):\n",
    "        self.val = val\n",
    "        self.left = left\n",
    "        self.right = right\n",
    "\n",
    "class Solution:\n",
    "    def sumRootToLeaf(self, root: TreeNode) -> int:\n",
    "        pass\n",
    "    \n",
    "    def dfs(self, ):\n",
    "        pass"
   ]
  },
  {
   "cell_type": "code",
   "execution_count": null,
   "metadata": {},
   "outputs": [],
   "source": [
    "class TreeNode:\n",
    "    def __init__(self, val=0, left=None, right=None):\n",
    "        self.val = val\n",
    "        self.left = left\n",
    "        self.right = right\n",
    "\n",
    "class Solution:\n",
    "    def sumRootToLeaf(self, root: TreeNode) -> int:\n",
    "        self.total = 0\n",
    "        \n",
    "        def dfs(node, nums):\n",
    "            if not node.left and not node.right:\n",
    "                nums += str(root.val)\n",
    "                self.total += int(nums, 2)\n",
    "                return\n",
    "            nums += str(root.val)\n",
    "            if root.left:\n",
    "                dfs(root.left, nums)\n",
    "            if root.right:\n",
    "                dfs(root.right, nums)\n",
    "        \n",
    "        dfs(root, '')\n",
    "        return self.total"
   ]
  }
 ],
 "metadata": {
  "kernelspec": {
   "display_name": "Python 3",
   "language": "python",
   "name": "python3"
  },
  "language_info": {
   "codemirror_mode": {
    "name": "ipython",
    "version": 3
   },
   "file_extension": ".py",
   "mimetype": "text/x-python",
   "name": "python",
   "nbconvert_exporter": "python",
   "pygments_lexer": "ipython3",
   "version": "3.6.2"
  }
 },
 "nbformat": 4,
 "nbformat_minor": 4
}
