{
 "cells": [
  {
   "cell_type": "raw",
   "metadata": {},
   "source": [
    "说明：\n",
    "    给你一个二叉树的根结点，请你找出出现次数最多的子树元素和。\n",
    "    一个结点的「子树元素和」定义为以该结点为根的二叉树上所有结点的元素之和（包括结点本身）。\n",
    "    你需要返回出现次数最多的子树元素和。如\n",
    "    果有多个元素出现的次数相同，返回所有出现次数最多的子树元素和（不限顺序）。\n",
    "\n",
    "示例 1：\n",
    "    输入:\n",
    "          5\n",
    "         /  \\\n",
    "        2   -3\n",
    "    返回 [2, -3, 4]，所有的值均只出现一次，以任意顺序返回所有值。\n",
    "\n",
    "示例 2：\n",
    "    输入：\n",
    "\n",
    "          5\n",
    "         /  \\\n",
    "        2   -5\n",
    "    返回 [2]，只有 2 出现两次，-5 只出现 1 次。\n",
    "\n",
    "提示： 假设任意子树元素和均可以用 32 位有符号整数表示。"
   ]
  },
  {
   "cell_type": "code",
   "execution_count": 10,
   "metadata": {},
   "outputs": [],
   "source": [
    "vals_dict = {1:2, 2:3, 3:4}\n",
    "vals_freq = sorted(vals_dict.items(), key=lambda x: -x[1])\n",
    "res, most_val = [], 1\n",
    "for val, freq in vals_freq:\n",
    "    if freq >= most_val:\n",
    "        most_val = freq\n",
    "        res.append(val)\n",
    "    else:\n",
    "        break"
   ]
  },
  {
   "cell_type": "code",
   "execution_count": 11,
   "metadata": {},
   "outputs": [
    {
     "name": "stdout",
     "output_type": "stream",
     "text": [
      "[3]\n"
     ]
    }
   ],
   "source": [
    "print(res)"
   ]
  },
  {
   "cell_type": "code",
   "execution_count": null,
   "metadata": {},
   "outputs": [],
   "source": [
    "class Solution:\n",
    "    def findFrequentTreeSum(self, root: TreeNode) -> List[int]:\n",
    "        def postorder(root):\n",
    "            if not root: \n",
    "                return 0\n",
    "            total = root.val + postorder(root.left) + postorder(root.right) \n",
    "            self.freqs[total] = 1 + self.freqs.get(total, 0)\n",
    "            return total\n",
    "        \n",
    "        if not root: \n",
    "            return []\n",
    "        self.freqs = {}\n",
    "        postorder(root)\n",
    "        mostFreq = max(self.freqs.values())\n",
    "        sums = [ total for total, count in self.freqs.items() if count == mostFreq ]\n",
    "        return sums"
   ]
  },
  {
   "cell_type": "code",
   "execution_count": null,
   "metadata": {},
   "outputs": [],
   "source": [
    "from collections import defaultdict\n",
    "\n",
    "# Definition for a binary tree node.\n",
    "# class TreeNode:\n",
    "#     def __init__(self, val=0, left=None, right=None):\n",
    "#         self.val = val\n",
    "#         self.left = left\n",
    "#         self.right = right\n",
    "\n",
    "class Solution:\n",
    "    def findFrequentTreeSum(self, root: TreeNode) -> List[int]:\n",
    "        vals_dict = defaultdict(int)\n",
    "        \n",
    "        def dfs(node):\n",
    "            nonlocal vals_dict\n",
    "            if not node:\n",
    "                return 0\n",
    "            l = dfs(node.left)\n",
    "            r = dfs(node.right)\n",
    "            vals_dict[l + r + node.val] += 1\n",
    "            return l + r + node.val\n",
    "        \n",
    "        dfs(root)\n",
    "        if not vals_dict:\n",
    "            return []\n",
    "        max_freq = max(vals_dict.values())\n",
    "        res = [key for key, val in vals_dict if key == max_freq]\n",
    "        return res"
   ]
  }
 ],
 "metadata": {
  "kernelspec": {
   "display_name": "Python 3",
   "language": "python",
   "name": "python3"
  },
  "language_info": {
   "codemirror_mode": {
    "name": "ipython",
    "version": 3
   },
   "file_extension": ".py",
   "mimetype": "text/x-python",
   "name": "python",
   "nbconvert_exporter": "python",
   "pygments_lexer": "ipython3",
   "version": "3.6.2"
  }
 },
 "nbformat": 4,
 "nbformat_minor": 4
}
