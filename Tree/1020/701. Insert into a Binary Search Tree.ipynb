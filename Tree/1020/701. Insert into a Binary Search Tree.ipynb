{
 "cells": [
  {
   "cell_type": "raw",
   "metadata": {},
   "source": [
    "说明：\n",
    "    给定二叉搜索树（BST）的根节点和要插入树中的值，将值插入二叉搜索树。 \n",
    "    返回插入后二叉搜索树的根节点。 \n",
    "    输入数据保证，新值和原始二叉搜索树中的任意节点值都不同。\n",
    "    注意，可能存在多种有效的插入方式，只要树在插入后仍保持为二叉搜索树即可。 你可以返回任意有效的结果。\n",
    "\n",
    "例如, \n",
    "    给定二叉搜索树:\n",
    "\n",
    "            4\n",
    "           / \\\n",
    "          2   7\n",
    "         / \\\n",
    "        1   3\n",
    "\n",
    "    和 插入的值: 5\n",
    "    你可以返回这个二叉搜索树:\n",
    "\n",
    "             4\n",
    "           /   \\\n",
    "          2     7\n",
    "         / \\   /\n",
    "        1   3 5\n",
    "    或者这个树也是有效的:\n",
    "\n",
    "             5\n",
    "           /   \\\n",
    "          2     7\n",
    "         / \\   \n",
    "        1   3\n",
    "             \\\n",
    "              4\n",
    " \n",
    "\n",
    "提示：\n",
    "    1、给定的树上的节点数介于 0 和 10^4 之间\n",
    "    2、每个节点都有一个唯一整数值，取值范围从 0 到 10^8\n",
    "    3、-10^8 <= val <= 10^8\n",
    "    4、新值和原始二叉搜索树中的任意节点值都不同"
   ]
  },
  {
   "cell_type": "code",
   "execution_count": null,
   "metadata": {},
   "outputs": [],
   "source": [
    "class Solution:\n",
    "    def insertIntoBST(self, root: TreeNode, val: int) -> TreeNode:\n",
    "        if not root:\n",
    "            return TreeNode(val)\n",
    "        if root.val < val:\n",
    "            root.right = self.insertIntoBST(root.right, val)\n",
    "        if root.val > val:\n",
    "            root.left = self.insertIntoBST(root.left, val)\n",
    "        return root"
   ]
  }
 ],
 "metadata": {
  "kernelspec": {
   "display_name": "Python 3",
   "language": "python",
   "name": "python3"
  },
  "language_info": {
   "codemirror_mode": {
    "name": "ipython",
    "version": 3
   },
   "file_extension": ".py",
   "mimetype": "text/x-python",
   "name": "python",
   "nbconvert_exporter": "python",
   "pygments_lexer": "ipython3",
   "version": "3.6.2"
  }
 },
 "nbformat": 4,
 "nbformat_minor": 4
}
