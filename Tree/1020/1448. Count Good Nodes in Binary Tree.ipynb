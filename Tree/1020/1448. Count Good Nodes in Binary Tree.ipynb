{
 "cells": [
  {
   "cell_type": "raw",
   "metadata": {},
   "source": [
    "说明：\n",
    "    给你一棵根为 root 的二叉树，请你返回二叉树中好节点的数目。\n",
    "    「好节点」X 定义为：\n",
    "        从根到该节点 X 所经过的节点中，没有任何节点的值大于 X 的值。\n",
    "\n",
    "提示：\n",
    "    1、二叉树中节点数目范围是 [1, 10^5] 。\n",
    "    2、每个节点权值的范围是 [-10^4, 10^4] 。"
   ]
  },
  {
   "cell_type": "markdown",
   "metadata": {},
   "source": [
    "<img src='https://assets.leetcode-cn.com/aliyun-lc-upload/uploads/2020/05/16/test_sample_1.png'>"
   ]
  },
  {
   "cell_type": "raw",
   "metadata": {},
   "source": [
    "输入：root = [3,1,4,3,null,1,5]\n",
    "输出：4\n",
    "解释：\n",
    "        图中蓝色节点为好节点。\n",
    "        根节点 (3) 永远是个好节点。\n",
    "        节点 4 -> (3,4) 是路径中的最大值。\n",
    "        节点 5 -> (3,4,5) 是路径中的最大值。\n",
    "        节点 3 -> (3,1,3) 是路径中的最大值。"
   ]
  },
  {
   "cell_type": "markdown",
   "metadata": {},
   "source": [
    "<img src='https://assets.leetcode-cn.com/aliyun-lc-upload/uploads/2020/05/16/test_sample_2.png'>"
   ]
  },
  {
   "cell_type": "raw",
   "metadata": {},
   "source": [
    "输入：root = [3,3,null,4,2]\n",
    "输出：3\n",
    "解释：节点 2 -> (3, 3, 2) 不是好节点，因为 \"3\" 比它大。"
   ]
  },
  {
   "cell_type": "raw",
   "metadata": {},
   "source": [
    "示例 3：\n",
    "    输入：root = [1]\n",
    "    输出：1\n",
    "    解释：根节点是好节点。"
   ]
  },
  {
   "cell_type": "code",
   "execution_count": null,
   "metadata": {},
   "outputs": [],
   "source": [
    "class Solution:\n",
    "    def goodNodes(self, root: TreeNode) -> int:\n",
    "        count = [0]\n",
    "        self.dfs(root, float(\"-inf\"), count)\n",
    "        return count[0]\n",
    "        \n",
    "    def dfs(self, root, max_val, count):\n",
    "        if not root:\n",
    "            return\n",
    "        if root.val >= max_val:\n",
    "            count[0] += 1\n",
    "            max_val = root.val\n",
    "        self.dfs(root.left, max_val, count)\n",
    "        self.dfs(root.right, max_val, count)"
   ]
  }
 ],
 "metadata": {
  "kernelspec": {
   "display_name": "Python 3",
   "language": "python",
   "name": "python3"
  },
  "language_info": {
   "codemirror_mode": {
    "name": "ipython",
    "version": 3
   },
   "file_extension": ".py",
   "mimetype": "text/x-python",
   "name": "python",
   "nbconvert_exporter": "python",
   "pygments_lexer": "ipython3",
   "version": "3.6.2"
  }
 },
 "nbformat": 4,
 "nbformat_minor": 4
}
