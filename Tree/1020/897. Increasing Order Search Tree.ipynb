{
 "cells": [
  {
   "cell_type": "raw",
   "metadata": {},
   "source": [
    "说明：\n",
    "    给你一个树，请你 按中序遍历 重新排列树，\n",
    "    使树中最左边的结点现在是树的根，并且每个结点没有左子结点，只有一个右子结点。\n",
    "\n",
    "示例 ：\n",
    "    输入：[5,3,6,2,4,null,8,1,null,null,null,7,9]\n",
    "\n",
    "                   5\n",
    "                  / \\\n",
    "                3    6\n",
    "               / \\    \\\n",
    "              2   4    8\n",
    "             /        / \\ \n",
    "            1        7   9\n",
    "\n",
    "    输出：[1,null,2,null,3,null,4,null,5,null,6,null,7,null,8,null,9]\n",
    "\n",
    "             1\n",
    "              \\\n",
    "               2\n",
    "                \\\n",
    "                 3\n",
    "                  \\\n",
    "                   4\n",
    "                    \\\n",
    "                     5\n",
    "                      \\\n",
    "                       6\n",
    "                        \\\n",
    "                         7\n",
    "                          \\\n",
    "                           8\n",
    "                            \\\n",
    "                             9  \n",
    "\n",
    "提示：\n",
    "    1、给定树中的结点数介于 1 和 100 之间。\n",
    "    2、每个结点都有一个从 0 到 1000 范围内的唯一整数值。"
   ]
  },
  {
   "cell_type": "code",
   "execution_count": null,
   "metadata": {},
   "outputs": [],
   "source": []
  },
  {
   "cell_type": "code",
   "execution_count": null,
   "metadata": {},
   "outputs": [],
   "source": [
    "class Solution:\n",
    "    def increasingBST(self, root: TreeNode) -> TreeNode:\n",
    "        return self.inOrder(root)\n",
    "    \n",
    "    def inOrder(self, root, tail = None):\n",
    "        if not root: \n",
    "            return tail\n",
    "        res = self.inOrder(root.left, root)\n",
    "        root.left = None\n",
    "        root.right = self.inOrder(root.right, tail)\n",
    "        return res"
   ]
  },
  {
   "cell_type": "code",
   "execution_count": null,
   "metadata": {},
   "outputs": [],
   "source": [
    "class Solution:\n",
    "    def increasingBST(self, root: TreeNode) -> TreeNode:\n",
    "        def inorder(node):\n",
    "            if node:\n",
    "                inorder(node.left)\n",
    "                node.left = None\n",
    "                self.cur.right = node\n",
    "                self.cur = node\n",
    "                inorder(node.right)\n",
    "\n",
    "        ans = self.cur = TreeNode(None)\n",
    "        inorder(root)\n",
    "        return ans.right   "
   ]
  },
  {
   "cell_type": "code",
   "execution_count": null,
   "metadata": {},
   "outputs": [],
   "source": [
    "def inorder(node):\n",
    "    if node:\n",
    "        inorder(node.left)\n",
    "        node.left = None\n",
    "        self.cur.right = node\n",
    "        self.cur = node\n",
    "        inorder(node.right)"
   ]
  }
 ],
 "metadata": {
  "kernelspec": {
   "display_name": "Python 3",
   "language": "python",
   "name": "python3"
  },
  "language_info": {
   "codemirror_mode": {
    "name": "ipython",
    "version": 3
   },
   "file_extension": ".py",
   "mimetype": "text/x-python",
   "name": "python",
   "nbconvert_exporter": "python",
   "pygments_lexer": "ipython3",
   "version": "3.6.2"
  }
 },
 "nbformat": 4,
 "nbformat_minor": 4
}
