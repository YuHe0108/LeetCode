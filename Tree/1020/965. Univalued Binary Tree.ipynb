{
 "cells": [
  {
   "cell_type": "raw",
   "metadata": {},
   "source": [
    "说明：\n",
    "    如果二叉树每个节点都具有相同的值，那么该二叉树就是单值二叉树。\n",
    "    只有给定的树是单值二叉树时，才返回 true；否则返回 false。\n",
    "\n",
    "提示：\n",
    "    1、给定树的节点数范围是 [1, 100]。\n",
    "    2、每个节点的值都是整数，范围为 [0, 99] 。"
   ]
  },
  {
   "cell_type": "markdown",
   "metadata": {},
   "source": [
    "<img src='https://assets.leetcode.com/uploads/2018/12/28/unival_bst_1.png'>"
   ]
  },
  {
   "cell_type": "raw",
   "metadata": {},
   "source": [
    "例子1：\n",
    "    Input: [1,1,1,1,1,null,1]\n",
    "    Output: true    "
   ]
  },
  {
   "cell_type": "raw",
   "metadata": {},
   "source": [
    "例2：\n",
    "    Input: [2,2,2,5,2]\n",
    "    Output: false"
   ]
  },
  {
   "cell_type": "markdown",
   "metadata": {},
   "source": [
    "<img src='https://assets.leetcode.com/uploads/2018/12/28/unival_bst_2.png'>"
   ]
  },
  {
   "cell_type": "code",
   "execution_count": null,
   "metadata": {},
   "outputs": [],
   "source": [
    "class Solution:\n",
    "    def isUnivalTree(self, root: TreeNode) -> bool:\n",
    "        return self.dfs(root, root.val)\n",
    "    \n",
    "    def dfs(self, root, val):\n",
    "        if not root:\n",
    "            return True\n",
    "        \n",
    "        if root.val != val:\n",
    "            return False\n",
    "        \n",
    "        return self.dfs(root.left, val) and self.dfs(root.right, val)"
   ]
  }
 ],
 "metadata": {
  "kernelspec": {
   "display_name": "Python 3",
   "language": "python",
   "name": "python3"
  },
  "language_info": {
   "codemirror_mode": {
    "name": "ipython",
    "version": 3
   },
   "file_extension": ".py",
   "mimetype": "text/x-python",
   "name": "python",
   "nbconvert_exporter": "python",
   "pygments_lexer": "ipython3",
   "version": "3.6.2"
  }
 },
 "nbformat": 4,
 "nbformat_minor": 4
}
