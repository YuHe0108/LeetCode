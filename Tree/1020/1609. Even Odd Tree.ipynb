{
 "cells": [
  {
   "cell_type": "raw",
   "metadata": {},
   "source": [
    "如果一棵二叉树满足下述几个条件，则可以称为 奇偶树 ：\n",
    "    二叉树根节点所在层下标为 0 ，根的子节点所在层下标为 1 ，根的孙节点所在层下标为 2 ，依此类推。\n",
    "        1、偶数下标 层上的所有节点的值都是 奇 整数，从左到右按顺序 严格递增\n",
    "        2、奇数下标 层上的所有节点的值都是 偶 整数，从左到右按顺序 严格递减\n",
    "    给你二叉树的根节点，如果二叉树为 奇偶树，\n",
    "    则返回 true ，否则返回 false 。\n",
    "\n",
    "示例 1：\n",
    "    输入：root = [1,10,4,3,null,7,9,12,8,6,null,null,2]\n",
    "    输出：true\n",
    "    解释：每一层的节点值分别是：\n",
    "            0 层：[1]\n",
    "            1 层：[10,4]\n",
    "            2 层：[3,7,9]\n",
    "            3 层：[12,8,6,2]\n",
    "        由于 0 层和 2 层上的节点值都是奇数且严格递增，而 1 层和 3 层上的节点值都是偶数且严格递减，因此这是一棵奇偶树。\n",
    "\n",
    "示例 2：\n",
    "    输入：root = [5,4,2,3,3,7]\n",
    "    输出：false\n",
    "    解释：每一层的节点值分别是：\n",
    "        0 层：[5]\n",
    "        1 层：[4,2]\n",
    "        2 层：[3,3,7]\n",
    "        2 层上的节点值不满足严格递增的条件，所以这不是一棵奇偶树。\n",
    "\n",
    "示例 3：\n",
    "    输入：root = [5,9,1,3,5,7]\n",
    "    输出：false\n",
    "    解释：1 层上的节点值应为偶数。\n",
    "\n",
    "示例 4：\n",
    "    输入：root = [1]\n",
    "    输出：true\n",
    "\n",
    "示例 5：\n",
    "    输入：root = [11,8,6,1,3,9,11,30,20,18,16,12,10,4,2,17]\n",
    "    输出：true\n",
    " \n",
    "提示：\n",
    "    1、树中节点数在范围 [1, 10^5] 内\n",
    "    2、1 <= Node.val <= 106"
   ]
  },
  {
   "cell_type": "code",
   "execution_count": 3,
   "metadata": {},
   "outputs": [],
   "source": [
    "def check(vals, is_odd=True):\n",
    "    if is_odd:\n",
    "        if len(vals) % 2 == 0:\n",
    "            s_vals = sorted(vals)\n",
    "            return vals == s_vals[::-1]\n",
    "        else:\n",
    "            return False\n",
    "    else:\n",
    "        if len(vals) % 2 == 1:\n",
    "            s_vals = sorted(vals)\n",
    "            return vals == s_vals\n",
    "        else:\n",
    "            return False"
   ]
  },
  {
   "cell_type": "code",
   "execution_count": 5,
   "metadata": {},
   "outputs": [
    {
     "data": {
      "text/plain": [
       "True"
      ]
     },
     "execution_count": 5,
     "metadata": {},
     "output_type": "execute_result"
    }
   ],
   "source": [
    "check([3,7,9], False)"
   ]
  },
  {
   "cell_type": "code",
   "execution_count": 6,
   "metadata": {},
   "outputs": [],
   "source": [
    "is_odd = 2 % 2 == 0"
   ]
  },
  {
   "cell_type": "code",
   "execution_count": 7,
   "metadata": {},
   "outputs": [
    {
     "data": {
      "text/plain": [
       "True"
      ]
     },
     "execution_count": 7,
     "metadata": {},
     "output_type": "execute_result"
    }
   ],
   "source": [
    "is_odd"
   ]
  },
  {
   "cell_type": "code",
   "execution_count": null,
   "metadata": {},
   "outputs": [],
   "source": [
    "import collections\n",
    "class Solution:\n",
    "    def isEvenOddTree(self, root: TreeNode) -> bool:\n",
    "        queue = collections.deque([root])\n",
    "        is_even = True\n",
    "        while queue:\n",
    "            prev = None\n",
    "            for _ in range(len(queue)):\n",
    "                node = queue.popleft()\n",
    "                if is_even:\n",
    "                    if node.val % 2 == 0: return False\n",
    "                    if prev and prev.val >= node.val: return False\n",
    "                else:\n",
    "                    if node.val % 2 == 1: return False\n",
    "                    if prev and prev.val <= node.val: return False\n",
    "                if node.left: queue.append(node.left)\n",
    "                if node.right: queue.append(node.right)\n",
    "                prev = node\n",
    "            is_even = not is_even\n",
    "        return True  "
   ]
  },
  {
   "cell_type": "code",
   "execution_count": null,
   "metadata": {},
   "outputs": [],
   "source": [
    "# Definition for a binary tree node.\n",
    "# class TreeNode:\n",
    "#     def __init__(self, val=0, left=None, right=None):\n",
    "#         self.val = val\n",
    "#         self.left = left\n",
    "#         self.right = right\n",
    "\n",
    "class Solution:\n",
    "    def isEvenOddTree(self, root: TreeNode) -> bool:\n",
    "        nodes = [root]\n",
    "        vals = []\n",
    "        \n",
    "        count = 0\n",
    "        limit_val = None\n",
    "        while nodes:\n",
    "            new_nodes, new_val = [], []\n",
    "            is_even = count % 2 == 0\n",
    "            for node in nodes:\n",
    "                if new_val:\n",
    "                    if is_even:\n",
    "                        if node.val % 2 == 1 and node.val > limit_val:\n",
    "                            limit_val = node.val\n",
    "                        else:\n",
    "                            return False\n",
    "                    else:\n",
    "                        if node.val % 2 == 0 and node.val < limit_val:\n",
    "                            limit_val = node.val\n",
    "                        else:\n",
    "                            return False\n",
    "                else:\n",
    "                    limit_val = node.val\n",
    "                    if is_even:\n",
    "                        if node.val % 2 == 0:\n",
    "                            return False\n",
    "                    else:\n",
    "                        if node.val % 2 == 1:\n",
    "                            return False\n",
    "                new_val.append(node.val)\n",
    "                if node.left:\n",
    "                    new_nodes.append(node.left)\n",
    "                if node.right:\n",
    "                    new_nodes.append(node.right)\n",
    "            nodes = new_nodes\n",
    "            count += 1\n",
    "        return True\n",
    "    \n",
    "#     def check(self, vals, count):\n",
    "#         print(vals, count)\n",
    "#         if count % 2 == 0:\n",
    "#             is_odd = False\n",
    "#         else:\n",
    "#             is_odd = True\n",
    "#         if is_odd:\n",
    "#             if len(vals) % 2 == 0 and len(vals) == len(set(vals)):\n",
    "#                 s_vals = sorted(vals)\n",
    "#                 return vals == s_vals[::-1]\n",
    "#             else:\n",
    "#                 return False\n",
    "#         else:\n",
    "#             if len(vals) % 2 == 1 and len(vals) == len(set(vals)):\n",
    "#                 s_vals = sorted(vals)\n",
    "#                 return vals == s_vals\n",
    "#             else:\n",
    "#                 return False\n",
    "            \n",
    "            \n",
    "                    \n",
    "        \n",
    "        "
   ]
  }
 ],
 "metadata": {
  "kernelspec": {
   "display_name": "Python 3",
   "language": "python",
   "name": "python3"
  },
  "language_info": {
   "codemirror_mode": {
    "name": "ipython",
    "version": 3
   },
   "file_extension": ".py",
   "mimetype": "text/x-python",
   "name": "python",
   "nbconvert_exporter": "python",
   "pygments_lexer": "ipython3",
   "version": "3.6.2"
  }
 },
 "nbformat": 4,
 "nbformat_minor": 4
}
