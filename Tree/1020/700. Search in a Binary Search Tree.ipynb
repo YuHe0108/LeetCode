{
 "cells": [
  {
   "cell_type": "raw",
   "metadata": {},
   "source": [
    "说明：\n",
    "    给定二叉搜索树（BST）的根节点和一个值。 你需要在BST中找到节点值等于给定值的节点。 返回以该节点为根的子树。 \n",
    "    如果节点不存在，则返回 NULL。\n",
    "\n",
    "例如：\n",
    "    给定二叉搜索树:\n",
    "\n",
    "            4\n",
    "           / \\\n",
    "          2   7\n",
    "         / \\\n",
    "        1   3\n",
    "\n",
    "    And the value to search: 2\n",
    "    你应该返回如下子树:\n",
    "\n",
    "          2     \n",
    "         / \\   \n",
    "        1   3\n",
    "    在上述示例中，如果要找的值是 5，但因为没有节点值为 5，我们应该返回 NULL。"
   ]
  },
  {
   "cell_type": "code",
   "execution_count": null,
   "metadata": {},
   "outputs": [],
   "source": [
    "# Definition for a binary tree node.\n",
    "# class TreeNode:\n",
    "#     def __init__(self, val=0, left=None, right=None):\n",
    "#         self.val = val\n",
    "#         self.left = left\n",
    "#         self.right = right\n",
    "\n",
    "class Solution:\n",
    "    def searchBST(self, root: TreeNode, val: int) -> TreeNode:\n",
    "        if not root:\n",
    "            return None\n",
    "        if root.val > val:\n",
    "            return self.searchBST(root.left, val)\n",
    "        if root.val < val:\n",
    "            return self.searchBST(root.right, val)\n",
    "        return root\n",
    "        \n",
    "        "
   ]
  }
 ],
 "metadata": {
  "kernelspec": {
   "display_name": "Python 3",
   "language": "python",
   "name": "python3"
  },
  "language_info": {
   "codemirror_mode": {
    "name": "ipython",
    "version": 3
   },
   "file_extension": ".py",
   "mimetype": "text/x-python",
   "name": "python",
   "nbconvert_exporter": "python",
   "pygments_lexer": "ipython3",
   "version": "3.6.2"
  }
 },
 "nbformat": 4,
 "nbformat_minor": 4
}
