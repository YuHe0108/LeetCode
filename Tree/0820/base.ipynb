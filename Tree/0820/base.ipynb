{
 "cells": [
  {
   "cell_type": "markdown",
   "metadata": {},
   "source": [
    "![avatar](base.jpg)"
   ]
  },
  {
   "cell_type": "code",
   "execution_count": 2,
   "metadata": {},
   "outputs": [],
   "source": []
  },
  {
   "cell_type": "code",
   "execution_count": 19,
   "metadata": {},
   "outputs": [],
   "source": [
    "# Definition for a binary tree node.\n",
    "class TreeNode:\n",
    "    def __init__(self, val, left=None, right=None):\n",
    "        self.val = val\n",
    "        self.left = left\n",
    "        self.right = right\n",
    "        \n",
    "# 构建树、完成为树添加元素\n",
    "class BinTree:\n",
    "    def __init__(self, root=None):\n",
    "        self.root = root\n",
    "    \n",
    "    def add(self, val):\n",
    "        node = TreeNode(val)\n",
    "        if self.root is None:\n",
    "            self.root = node\n",
    "            return \n",
    "        queue = [self.root]\n",
    "        while True:\n",
    "            cur_node = queue.pop(0)\n",
    "            if cur_node.left is None:\n",
    "                cur_node.left = node\n",
    "                return \n",
    "            else:\n",
    "                queue.append(cur_node.left)\n",
    "            \n",
    "            if cur_node.right is None:\n",
    "                cur_node.right = node\n",
    "                return\n",
    "            else:\n",
    "                queue.append(cur_node.right)\n",
    "        return\n",
    "    \n",
    "    def breadth_traverse(self):\n",
    "        if self.root is None: \n",
    "            return\n",
    "        queue = [self.root]\n",
    "        while queue:\n",
    "            cur_node = queue.pop(0)\n",
    "            print(cur_node.val)\n",
    "            if cur_node.left is not None:\n",
    "                queue.append(cur_node.left)\n",
    "            if cur_node.right is not None:\n",
    "                queue.append(cur_node.right)\n",
    "        return "
   ]
  },
  {
   "cell_type": "code",
   "execution_count": 20,
   "metadata": {},
   "outputs": [
    {
     "name": "stdout",
     "output_type": "stream",
     "text": [
      "1\n",
      "2\n",
      "3\n",
      "4\n",
      "5\n"
     ]
    }
   ],
   "source": [
    "bin_tree = BinTree()\n",
    "bin_tree.add(1)\n",
    "bin_tree.add(2)\n",
    "bin_tree.add(3)\n",
    "bin_tree.add(4)\n",
    "bin_tree.add(5)\n",
    "bin_tree.breadth_traverse()"
   ]
  },
  {
   "cell_type": "code",
   "execution_count": 5,
   "metadata": {},
   "outputs": [
    {
     "ename": "KeyError",
     "evalue": "2",
     "output_type": "error",
     "traceback": [
      "\u001b[1;31m---------------------------------------------------------------------------\u001b[0m",
      "\u001b[1;31mKeyError\u001b[0m                                  Traceback (most recent call last)",
      "\u001b[1;32m<ipython-input-5-182b79fa0759>\u001b[0m in \u001b[0;36m<module>\u001b[1;34m()\u001b[0m\n\u001b[0;32m      1\u001b[0m \u001b[0ma\u001b[0m \u001b[1;33m=\u001b[0m \u001b[1;33m{\u001b[0m\u001b[1;36m1\u001b[0m\u001b[1;33m,\u001b[0m \u001b[1;36m8\u001b[0m\u001b[1;33m,\u001b[0m \u001b[1;36m3\u001b[0m\u001b[1;33m,\u001b[0m \u001b[1;36m4\u001b[0m\u001b[1;33m}\u001b[0m\u001b[1;33m\u001b[0m\u001b[0m\n\u001b[1;32m----> 2\u001b[1;33m \u001b[0ma\u001b[0m\u001b[1;33m.\u001b[0m\u001b[0mremove\u001b[0m\u001b[1;33m(\u001b[0m\u001b[1;36m2\u001b[0m\u001b[1;33m)\u001b[0m\u001b[1;33m\u001b[0m\u001b[0m\n\u001b[0m",
      "\u001b[1;31mKeyError\u001b[0m: 2"
     ]
    }
   ],
   "source": [
    "a = {1, 8, 3, 4}\n",
    "a.remove(2)"
   ]
  },
  {
   "cell_type": "code",
   "execution_count": 4,
   "metadata": {},
   "outputs": [
    {
     "data": {
      "text/plain": [
       "{2, 3, 4}"
      ]
     },
     "execution_count": 4,
     "metadata": {},
     "output_type": "execute_result"
    }
   ],
   "source": [
    "a"
   ]
  },
  {
   "cell_type": "code",
   "execution_count": null,
   "metadata": {},
   "outputs": [],
   "source": []
  }
 ],
 "metadata": {
  "kernelspec": {
   "display_name": "Python 3",
   "language": "python",
   "name": "python3"
  },
  "language_info": {
   "codemirror_mode": {
    "name": "ipython",
    "version": 3
   },
   "file_extension": ".py",
   "mimetype": "text/x-python",
   "name": "python",
   "nbconvert_exporter": "python",
   "pygments_lexer": "ipython3",
   "version": "3.6.2"
  }
 },
 "nbformat": 4,
 "nbformat_minor": 4
}
