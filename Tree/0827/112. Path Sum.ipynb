{
 "cells": [
  {
   "cell_type": "raw",
   "metadata": {},
   "source": [
    "说明：\n",
    "    给定一个二叉树和一个和，确定该树是否具有从根到叶的路径，以使该路径上的所有值加起来等于给定的和。"
   ]
  },
  {
   "cell_type": "markdown",
   "metadata": {},
   "source": [
    "<img src='112.jpg' width=400>"
   ]
  },
  {
   "cell_type": "code",
   "execution_count": 20,
   "metadata": {},
   "outputs": [],
   "source": [
    "class TreeNode:\n",
    "    def __init__(self, val=0, left=None, right=None):\n",
    "        self.val = val\n",
    "        self.left = left\n",
    "        self.right = right\n",
    "\n",
    "class Solution:\n",
    "    def hasPathSum(self, root: TreeNode, sum_val: int) -> bool:\n",
    "        if not root:\n",
    "            return False\n",
    "        return self.helper(root, sum_val)\n",
    "    \n",
    "    def helper(self, root, sum_val):\n",
    "        if not root: # 都为零\n",
    "            if sum_val == 0:\n",
    "                return True\n",
    "            else:\n",
    "                return False\n",
    "        elif not root.left:\n",
    "            return self.helper(root.right, sum_val - root.val)\n",
    "        elif not root.right:\n",
    "            return self.helper(root.left, sum_val - root.val)\n",
    "        else:\n",
    "            return self.helper(root.left, sum_val - root.val) or self.helper(root.right, sum_val - root.val)"
   ]
  },
  {
   "cell_type": "code",
   "execution_count": 21,
   "metadata": {},
   "outputs": [
    {
     "data": {
      "text/plain": [
       "True"
      ]
     },
     "execution_count": 21,
     "metadata": {},
     "output_type": "execute_result"
    }
   ],
   "source": [
    "t1 = TreeNode(5)\n",
    "t2 = TreeNode(4)\n",
    "t3 = TreeNode(8)\n",
    "t4 = TreeNode(11)\n",
    "t5 = TreeNode(13)\n",
    "t6 = TreeNode(4)\n",
    "t7 = TreeNode(7)\n",
    "t8 = TreeNode(2)\n",
    "t9 = TreeNode(1)\n",
    "\n",
    "t1.left = t2\n",
    "t1.right = t3\n",
    "\n",
    "t2.left = t4\n",
    "\n",
    "t4.left = t7\n",
    "t4.right = t8\n",
    "\n",
    "t3.left = t5\n",
    "t3.right = t6\n",
    "\n",
    "t6.right = t9\n",
    "\n",
    "root_ = t1\n",
    "sum_ = 22\n",
    "solution = Solution()\n",
    "solution.hasPathSum(root_, sum_)"
   ]
  },
  {
   "cell_type": "code",
   "execution_count": null,
   "metadata": {},
   "outputs": [],
   "source": []
  }
 ],
 "metadata": {
  "kernelspec": {
   "display_name": "Python 3",
   "language": "python",
   "name": "python3"
  },
  "language_info": {
   "codemirror_mode": {
    "name": "ipython",
    "version": 3
   },
   "file_extension": ".py",
   "mimetype": "text/x-python",
   "name": "python",
   "nbconvert_exporter": "python",
   "pygments_lexer": "ipython3",
   "version": "3.6.2"
  }
 },
 "nbformat": 4,
 "nbformat_minor": 4
}
