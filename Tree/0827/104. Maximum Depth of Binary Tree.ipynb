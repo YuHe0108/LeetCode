{
 "cells": [
  {
   "cell_type": "raw",
   "metadata": {},
   "source": [
    "说明：\n",
    "    给定二叉树，找到其最大深度。\n",
    "    最大深度是沿着从根节点到最远叶节点的最长路径的节点数。\n",
    "注意：\n",
    "    叶子节点是没有子节点的节点。"
   ]
  },
  {
   "cell_type": "markdown",
   "metadata": {},
   "source": [
    "<img src='104.jpg'>"
   ]
  },
  {
   "cell_type": "code",
   "execution_count": 5,
   "metadata": {},
   "outputs": [],
   "source": [
    "# Definition for a binary tree node.\n",
    "class TreeNode:\n",
    "    def __init__(self, val=0, left=None, right=None):\n",
    "        self.val = val\n",
    "        self.left = left\n",
    "        self.right = right\n",
    "        \n",
    "# 寻找一个二叉树的最大深度     \n",
    "# 思路： 顺着一个节点走到叶子节点\n",
    "class Solution:\n",
    "    def maxDepth(self, root: TreeNode) -> int:\n",
    "        if not root: return 0\n",
    "        return max(self.maxDepth(root.left), self.maxDepth(root.right)) + 1  "
   ]
  },
  {
   "cell_type": "code",
   "execution_count": 6,
   "metadata": {},
   "outputs": [
    {
     "data": {
      "text/plain": [
       "3"
      ]
     },
     "execution_count": 6,
     "metadata": {},
     "output_type": "execute_result"
    }
   ],
   "source": [
    "t1 = TreeNode(3)\n",
    "t2 = TreeNode(9)\n",
    "t3 = TreeNode(20)\n",
    "t4 = TreeNode(15)\n",
    "t5 = TreeNode(7)\n",
    "t6 = TreeNode(4)\n",
    "t7 = TreeNode(3)\n",
    "\n",
    "t1.left = t2\n",
    "t1.right = t3\n",
    "\n",
    "t3.left= t6\n",
    "t3.right = t7\n",
    "\n",
    "root_ = t1\n",
    "solution = Solution()\n",
    "solution.maxDepth(root_)"
   ]
  },
  {
   "cell_type": "code",
   "execution_count": null,
   "metadata": {},
   "outputs": [],
   "source": []
  }
 ],
 "metadata": {
  "kernelspec": {
   "display_name": "Python 3",
   "language": "python",
   "name": "python3"
  },
  "language_info": {
   "codemirror_mode": {
    "name": "ipython",
    "version": 3
   },
   "file_extension": ".py",
   "mimetype": "text/x-python",
   "name": "python",
   "nbconvert_exporter": "python",
   "pygments_lexer": "ipython3",
   "version": "3.6.2"
  }
 },
 "nbformat": 4,
 "nbformat_minor": 4
}
