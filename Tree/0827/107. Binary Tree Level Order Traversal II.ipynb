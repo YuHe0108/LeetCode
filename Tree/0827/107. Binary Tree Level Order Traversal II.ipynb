{
 "cells": [
  {
   "cell_type": "raw",
   "metadata": {},
   "source": [
    "说明：\n",
    "    给定一个二叉树，返回其节点值的自下而上的级别顺序遍历。 （即，从左到右，从叶到根逐级）。"
   ]
  },
  {
   "cell_type": "markdown",
   "metadata": {},
   "source": [
    "<img src='107.jpg' width=500>"
   ]
  },
  {
   "cell_type": "code",
   "execution_count": 11,
   "metadata": {},
   "outputs": [],
   "source": [
    "# Definition for a binary tree node.\n",
    "class TreeNode:\n",
    "    def __init__(self, val=0, left=None, right=None):\n",
    "        self.val = val\n",
    "        self.left = left\n",
    "        self.right = right\n",
    "\n",
    "# 构建堆，先进先出\n",
    "class Solution:\n",
    "    def levelOrderBottom(self, root: TreeNode):\n",
    "        if not root: return []\n",
    "        res = []\n",
    "        nodes = [root]\n",
    "        while nodes:\n",
    "            n = nodes.pop(0)\n",
    "            res.append(n.val)\n",
    "            if n.left:\n",
    "                nodes.append(n.left)\n",
    "            if n.right:\n",
    "                nodes.append(n.right)\n",
    "        return res\n",
    "    \n",
    "#     def helper(self, node):\n",
    "#         # 如果左子树和右字树都为空\n",
    "#         if not node.left and not node.right:\n",
    "#             self.res.append([])\n",
    "#             self.res[-1].append(node.val)"
   ]
  },
  {
   "cell_type": "code",
   "execution_count": 18,
   "metadata": {},
   "outputs": [],
   "source": [
    "class TreeNode:\n",
    "    def __init__(self, val=0, left=None, right=None):\n",
    "        self.val = val\n",
    "        self.left = left\n",
    "        self.right = right\n",
    "\n",
    "# 构建堆，先进先出\n",
    "class Solution:\n",
    "    def levelOrderBottom(self, root: TreeNode):\n",
    "        if not root: return []\n",
    "        levels = []\n",
    "        stack = [root]\n",
    "        while stack:\n",
    "            next_level_node = []\n",
    "            cur_lvl = []\n",
    "            for n in stack:\n",
    "                cur_lvl.append(n.val)\n",
    "                if n.left:\n",
    "                    next_level_node.append(n.left)\n",
    "                if n.right:\n",
    "                    next_level_node.append(n.right)\n",
    "            stack = next_level_node\n",
    "            levels.append(cur_lvl)\n",
    "        return levels[::-1]"
   ]
  },
  {
   "cell_type": "code",
   "execution_count": null,
   "metadata": {},
   "outputs": [],
   "source": []
  },
  {
   "cell_type": "code",
   "execution_count": null,
   "metadata": {},
   "outputs": [],
   "source": []
  },
  {
   "cell_type": "code",
   "execution_count": 28,
   "metadata": {},
   "outputs": [],
   "source": [
    "class TreeNode:\n",
    "    def __init__(self, val=0, left=None, right=None):\n",
    "        self.val = val\n",
    "        self.left = left\n",
    "        self.right = right\n",
    "\n",
    "# 构建堆，先进先出\n",
    "class Solution:\n",
    "    def levelOrderBottom(self, root: TreeNode):\n",
    "        if not root: return []\n",
    "        res = []\n",
    "        stack = [root]\n",
    "        while stack:\n",
    "            temp_stack = []\n",
    "            temp_val = []\n",
    "            for n in stack:\n",
    "                temp_val.append(n.val)\n",
    "                if n.left:\n",
    "                    temp_stack.append(n.left)\n",
    "                if n.right:\n",
    "                    temp_stack.append(n.right)\n",
    "            res.insert(0, temp_val)\n",
    "            stack = temp_stack\n",
    "        return res"
   ]
  },
  {
   "cell_type": "code",
   "execution_count": 29,
   "metadata": {},
   "outputs": [
    {
     "data": {
      "text/plain": [
       "[[15, 7], [9, 20], [3]]"
      ]
     },
     "execution_count": 29,
     "metadata": {},
     "output_type": "execute_result"
    }
   ],
   "source": [
    "t1 = TreeNode(3)\n",
    "t2 = TreeNode(9)\n",
    "t3 = TreeNode(20)\n",
    "t4 = TreeNode(15)\n",
    "t5 = TreeNode(7)\n",
    "t6 = TreeNode(4)\n",
    "t7 = TreeNode(3)\n",
    "\n",
    "t1.left = t2\n",
    "t1.right = t3\n",
    "\n",
    "t3.left= t4\n",
    "t3.right = t5\n",
    "\n",
    "root_ = t1\n",
    "solution = Solution()\n",
    "solution.levelOrderBottom(root_)"
   ]
  },
  {
   "cell_type": "code",
   "execution_count": 4,
   "metadata": {},
   "outputs": [
    {
     "name": "stdout",
     "output_type": "stream",
     "text": [
      "[[5], [3, 4], [1]]\n"
     ]
    }
   ],
   "source": [
    "a = [[1], [3,4], [5]]\n",
    "print(a[::-1])"
   ]
  },
  {
   "cell_type": "code",
   "execution_count": null,
   "metadata": {},
   "outputs": [],
   "source": []
  },
  {
   "cell_type": "code",
   "execution_count": 9,
   "metadata": {},
   "outputs": [],
   "source": [
    "a = [1, 2, 3]\n",
    "a.insert(2, 3)"
   ]
  },
  {
   "cell_type": "code",
   "execution_count": 10,
   "metadata": {},
   "outputs": [
    {
     "data": {
      "text/plain": [
       "[1, 2, 3, 3]"
      ]
     },
     "execution_count": 10,
     "metadata": {},
     "output_type": "execute_result"
    }
   ],
   "source": [
    "a"
   ]
  },
  {
   "cell_type": "code",
   "execution_count": null,
   "metadata": {},
   "outputs": [],
   "source": []
  }
 ],
 "metadata": {
  "kernelspec": {
   "display_name": "Python 3",
   "language": "python",
   "name": "python3"
  },
  "language_info": {
   "codemirror_mode": {
    "name": "ipython",
    "version": 3
   },
   "file_extension": ".py",
   "mimetype": "text/x-python",
   "name": "python",
   "nbconvert_exporter": "python",
   "pygments_lexer": "ipython3",
   "version": "3.6.2"
  }
 },
 "nbformat": 4,
 "nbformat_minor": 4
}
