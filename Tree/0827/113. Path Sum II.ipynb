{
 "cells": [
  {
   "cell_type": "raw",
   "metadata": {},
   "source": [
    "说明：\n",
    "    给定一棵二叉树和一个和，找到所有从根到叶的路径，其中每个路径的和等于给定的和。"
   ]
  },
  {
   "cell_type": "markdown",
   "metadata": {},
   "source": [
    "<img src='113.jpg' width=500>"
   ]
  },
  {
   "cell_type": "code",
   "execution_count": 50,
   "metadata": {},
   "outputs": [],
   "source": [
    "# Definition for a binary tree node.\n",
    "class TreeNode:\n",
    "    def __init__(self, val=0, left=None, right=None):\n",
    "        self.val = val\n",
    "        self.left = left\n",
    "        self.right = right\n",
    "\n",
    "class Solution:\n",
    "    def pathSum(self, root: TreeNode, sum_val: int):\n",
    "        self.res = []\n",
    "        self.helper(root, sum_val, 0, [])\n",
    "        return self.res\n",
    "    \n",
    "    def helper(self, node, sum_val, pre_sum, temp_res):\n",
    "        if not node:\n",
    "            return\n",
    "        pre_sum += node.val\n",
    "        temp_res.append(node.val)\n",
    "        \n",
    "        if pre_sum == sum_val and not node.left and not node.right:\n",
    "            self.res.append(temp_res[:])\n",
    "        self.helper(node.left, sum_val, pre_sum, temp_res)\n",
    "        self.helper(node.right, sum_val, pre_sum, temp_res)\n",
    "        temp_res.pop()"
   ]
  },
  {
   "cell_type": "code",
   "execution_count": 58,
   "metadata": {},
   "outputs": [],
   "source": [
    "class TreeNode:\n",
    "    def __init__(self, val=0, left=None, right=None):\n",
    "        self.val = val\n",
    "        self.left = left\n",
    "        self.right = right\n",
    "\n",
    "class Solution:\n",
    "    def pathSum(self, R: TreeNode, S: int):\n",
    "        self.res = []\n",
    "        self.dfs(R, S, 0, [])\n",
    "        return self.res\n",
    "    \n",
    "    def dfs(self, node, target, sum_val, res):\n",
    "        if not node:\n",
    "            return \n",
    "        \n",
    "        sum_val += node.val\n",
    "        res.append(node.val)\n",
    "        if sum_val == target and not node.left and not node.right:\n",
    "            self.res.append(res[:])\n",
    "        self.dfs(node.left, target, sum_val, res)\n",
    "        self.dfs(node.right, target, sum_val, res)\n",
    "        res.pop()"
   ]
  },
  {
   "cell_type": "code",
   "execution_count": 59,
   "metadata": {},
   "outputs": [
    {
     "data": {
      "text/plain": [
       "[[5, 4, 11, 2]]"
      ]
     },
     "execution_count": 59,
     "metadata": {},
     "output_type": "execute_result"
    }
   ],
   "source": [
    "t1 = TreeNode(5)\n",
    "t2 = TreeNode(4)\n",
    "t3 = TreeNode(8)\n",
    "t4 = TreeNode(11)\n",
    "t5 = TreeNode(13)\n",
    "t6 = TreeNode(4)\n",
    "t7 = TreeNode(7)\n",
    "t8 = TreeNode(2)\n",
    "t9 = TreeNode(1)\n",
    "\n",
    "t1.left = t2\n",
    "t1.right = t3\n",
    "\n",
    "t2.left = t4\n",
    "\n",
    "t4.left = t7\n",
    "t4.right = t8\n",
    "\n",
    "t3.left = t5\n",
    "t3.right = t6\n",
    "\n",
    "t6.right = t9\n",
    "\n",
    "root_ = t1\n",
    "solution = Solution()\n",
    "solution.pathSum(root_, 22)"
   ]
  },
  {
   "cell_type": "code",
   "execution_count": 42,
   "metadata": {},
   "outputs": [],
   "source": [
    "a = [1, 2]"
   ]
  },
  {
   "cell_type": "code",
   "execution_count": 43,
   "metadata": {},
   "outputs": [
    {
     "data": {
      "text/plain": [
       "[1, 2]"
      ]
     },
     "execution_count": 43,
     "metadata": {},
     "output_type": "execute_result"
    }
   ],
   "source": [
    "a[:]"
   ]
  },
  {
   "cell_type": "code",
   "execution_count": null,
   "metadata": {},
   "outputs": [],
   "source": []
  }
 ],
 "metadata": {
  "kernelspec": {
   "display_name": "Python 3",
   "language": "python",
   "name": "python3"
  },
  "language_info": {
   "codemirror_mode": {
    "name": "ipython",
    "version": 3
   },
   "file_extension": ".py",
   "mimetype": "text/x-python",
   "name": "python",
   "nbconvert_exporter": "python",
   "pygments_lexer": "ipython3",
   "version": "3.6.2"
  }
 },
 "nbformat": 4,
 "nbformat_minor": 4
}
