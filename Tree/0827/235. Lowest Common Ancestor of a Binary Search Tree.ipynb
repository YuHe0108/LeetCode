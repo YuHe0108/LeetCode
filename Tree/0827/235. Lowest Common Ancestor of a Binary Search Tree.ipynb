{
 "cells": [
  {
   "cell_type": "raw",
   "metadata": {},
   "source": [
    "说明：\n",
    "    给定二叉搜索树（BST），请在BST中找到两个给定节点的最低公共祖先（LCA）。\n",
    "    根据Wikipedia上LCA的定义：“最低的共同祖先被定义为两个节点p和q之间，\n",
    "    是T中同时具有p和q作为后代的最低节点（在这里我们允许节点成为其自身的后代）。 \n",
    "    ”给定二分搜索树：root = [6,2,8,0,4,7,9，null，null，3,5]\n",
    "\n",
    "约束：\n",
    "    1、所有节点的值都是唯一的。 \n",
    "    2、p和q不同，并且两个值都将存在于BST中。\n",
    "\n",
    "{6: 6, 2: 6, 8: 6, 0: 2, 4: 2, 7: 8, 9: 8, 3: 4, 5: 4}\n",
    "该树有一个特点，就是节点的左边都小于父节点，但是节点的右边都大于父节点"
   ]
  },
  {
   "cell_type": "markdown",
   "metadata": {},
   "source": [
    "<img src='235.jpg' width=400>"
   ]
  },
  {
   "cell_type": "code",
   "execution_count": 14,
   "metadata": {},
   "outputs": [],
   "source": [
    "# 失败，当节点是子孙关系的时候，无法判别\n",
    "class TreeNode:\n",
    "    def __init__(self, x):\n",
    "        self.val = x\n",
    "        self.left = None\n",
    "        self.right = None\n",
    "\n",
    "class Solution:\n",
    "    def lowestCommonAncestor(self, root: 'TreeNode', p: 'TreeNode', q: 'TreeNode') -> 'TreeNode':\n",
    "        # 使用 字典 记录下每个点对应的上一个节点\n",
    "        # 因为树中每个节点的数字都是唯一的，因此可以作为字典的键使用\n",
    "        # 如果 dict[p] == q: return q\n",
    "        # 同样 dict[q] = p: return p\n",
    "        \n",
    "        par_dict = {root.val: root.val}\n",
    "        nodes = [root]\n",
    "        while nodes:\n",
    "            temp_nodes = []\n",
    "            for n in nodes:\n",
    "                if n.left:\n",
    "                    par_dict[n.left.val] = n.val\n",
    "                    temp_nodes.append(n.left)\n",
    "                if n.right:\n",
    "                    par_dict[n.right.val] = n.val\n",
    "                    temp_nodes.append(n.right)\n",
    "            nodes = temp_nodes\n",
    "        # {6: 6, 2: 6, 8: 6, 0: 2, 4: 2, 7: 8, 9: 8, 3: 4, 5: 4}\n",
    "        p_val = par_dict[p.val]\n",
    "        q_val = par_dict[q.val]\n",
    "        if p_val == q_val:\n",
    "            return p_val\n",
    "        elif p_val == q.val:\n",
    "            return q.val\n",
    "        else:\n",
    "            return p.val"
   ]
  },
  {
   "cell_type": "code",
   "execution_count": 7,
   "metadata": {},
   "outputs": [],
   "source": [
    "class TreeNode:\n",
    "    def __init__(self, x):\n",
    "        self.val = x\n",
    "        self.left = None\n",
    "        self.right = None\n",
    "\n",
    "# 二叉搜索树：（ Binary Search Tree， BST）由于该树存在一个特点: \n",
    "# 1、左侧的节点的值小于上一个父节点\n",
    "# 2、但是右侧节点的值大于其父节点\n",
    "# 解题思路：从父节点开始，如果该值 p.val <= val < q.val, 则说明该val就是p和q的父节点\n",
    "# 如果 val < p.val and val < q.val 则这个值在右边\n",
    "# 相反：如果 val 都大于两个值，那么val在左边\n",
    "class Solution:\n",
    "    def lowestCommonAncestor(self, root: 'TreeNode', p: 'TreeNode', q: 'TreeNode') -> 'TreeNode':\n",
    "        p_val = p.val\n",
    "        q_val = q.val\n",
    "        node = root\n",
    "        while True:\n",
    "            if node.val < min(p_val, q_val):\n",
    "                node = node.right\n",
    "            elif node.val > max(p_val, q_val):\n",
    "                node = node.left\n",
    "            else:\n",
    "                return node"
   ]
  },
  {
   "cell_type": "code",
   "execution_count": 11,
   "metadata": {},
   "outputs": [],
   "source": [
    "class TreeNode:\n",
    "    def __init__(self, x):\n",
    "        self.val = x\n",
    "        self.left = None\n",
    "        self.right = None\n",
    "\n",
    "# 二叉搜索树：（ Binary Search Tree， BST）由于该树存在一个特点: \n",
    "# 1、左侧的节点的值小于上一个父节点\n",
    "# 2、但是右侧节点的值大于其父节点\n",
    "# 解题思路：从父节点开始，如果该值 p.val <= val < q.val, 则说明该val就是p和q的父节点\n",
    "# 如果 val < p.val and val < q.val 则这个值在右边\n",
    "# 相反：如果 val 都大于两个值，那么val在左边\n",
    "class Solution:\n",
    "    def lowestCommonAncestor(self, root: 'TreeNode', p: 'TreeNode', q: 'TreeNode') -> 'TreeNode':\n",
    "        if root.val > max(p.val, q.val):\n",
    "            return self.lowestCommonAncestor(root.left, p, q)\n",
    "        elif root.val < min(p.val, q.val):\n",
    "            return self.lowestCommonAncestor(root.right, p, q)\n",
    "        else:\n",
    "            return root"
   ]
  },
  {
   "cell_type": "code",
   "execution_count": 12,
   "metadata": {},
   "outputs": [
    {
     "data": {
      "text/plain": [
       "2"
      ]
     },
     "execution_count": 12,
     "metadata": {},
     "output_type": "execute_result"
    }
   ],
   "source": [
    "t1 = TreeNode(6)\n",
    "t2 = TreeNode(2)\n",
    "t3 = TreeNode(8)\n",
    "t4 = TreeNode(0)\n",
    "t5 = TreeNode(4)\n",
    "t6 = TreeNode(7)\n",
    "t7 = TreeNode(9)\n",
    "t8 = TreeNode(3)\n",
    "t9 = TreeNode(5)\n",
    "\n",
    "t1.left = t2\n",
    "t1.right = t3\n",
    "\n",
    "t2.left = t4\n",
    "t2.right = t5\n",
    "\n",
    "t3.left = t6\n",
    "t3.right = t7\n",
    "\n",
    "t5.left = t8\n",
    "t5.right = t9\n",
    "\n",
    "root_ = t1\n",
    "\n",
    "solution = Solution()\n",
    "solution.lowestCommonAncestor(root_, TreeNode(2), TreeNode(4))"
   ]
  },
  {
   "cell_type": "code",
   "execution_count": null,
   "metadata": {},
   "outputs": [],
   "source": [
    "{6: 6, 2: 6, 8: 6, 0: 2, 4: 2, 7: 8, 9: 8, 3: 4, 5: 4}"
   ]
  }
 ],
 "metadata": {
  "kernelspec": {
   "display_name": "Python 3",
   "language": "python",
   "name": "python3"
  },
  "language_info": {
   "codemirror_mode": {
    "name": "ipython",
    "version": 3
   },
   "file_extension": ".py",
   "mimetype": "text/x-python",
   "name": "python",
   "nbconvert_exporter": "python",
   "pygments_lexer": "ipython3",
   "version": "3.6.2"
  }
 },
 "nbformat": 4,
 "nbformat_minor": 4
}
