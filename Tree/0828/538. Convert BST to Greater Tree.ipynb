{
 "cells": [
  {
   "cell_type": "raw",
   "metadata": {},
   "source": [
    "说明：\n",
    "    给定二叉搜索树（BST），将其转换为Greater Tree，\n",
    "    在原始的BST中，\n",
    "    如果一个子树的root.val 大于某个节点的值，那么这个节点会加上这棵树上所有的值"
   ]
  },
  {
   "cell_type": "markdown",
   "metadata": {},
   "source": [
    "<img src='538.jpg' width=500>\n",
    "<img src='538_1.jpg' width=500>\n",
    "<img src='538_2.jpg' width=500>"
   ]
  },
  {
   "cell_type": "code",
   "execution_count": null,
   "metadata": {},
   "outputs": [],
   "source": []
  },
  {
   "cell_type": "raw",
   "metadata": {},
   "source": [
    "比如上面的值，\n",
    "    1、5 小于13，所以 5 + 13\n",
    "    2、13最大，不改变，\n",
    "    3、2小于5和13，所有 2 + 5 + 13\n",
    "\n",
    "对于节点10来说，12这个这个子树的root节点大于 10，那么10会加上 12 这个子树下所有的值"
   ]
  },
  {
   "cell_type": "code",
   "execution_count": 2,
   "metadata": {},
   "outputs": [],
   "source": [
    "class TreeNode:\n",
    "    def __init__(self, val=0, left=None, right=None):\n",
    "        self.val = val\n",
    "        self.left = left\n",
    "        self.right = right\n",
    "\n",
    "class Solution:\n",
    "    def convertBST(self, root: TreeNode) -> TreeNode:\n",
    "        self.sum = 0\n",
    "        self.dfs(root)\n",
    "        return root\n",
    "        \n",
    "    def dfs(self, root):\n",
    "        if not root:\n",
    "            return\n",
    "        self.dfs(root.right)\n",
    "        root.val += self.sum\n",
    "        self.sum = root.val\n",
    "        self.dfs(root.left)"
   ]
  },
  {
   "cell_type": "code",
   "execution_count": 4,
   "metadata": {},
   "outputs": [],
   "source": [
    "t1 = TreeNode(1)\n",
    "root_ = t1\n",
    "solution = Solution()\n",
    "solution.convertBST(root_)"
   ]
  },
  {
   "cell_type": "code",
   "execution_count": null,
   "metadata": {},
   "outputs": [],
   "source": []
  }
 ],
 "metadata": {
  "kernelspec": {
   "display_name": "Python 3",
   "language": "python",
   "name": "python3"
  },
  "language_info": {
   "codemirror_mode": {
    "name": "ipython",
    "version": 3
   },
   "file_extension": ".py",
   "mimetype": "text/x-python",
   "name": "python",
   "nbconvert_exporter": "python",
   "pygments_lexer": "ipython3",
   "version": "3.6.2"
  }
 },
 "nbformat": 4,
 "nbformat_minor": 4
}
