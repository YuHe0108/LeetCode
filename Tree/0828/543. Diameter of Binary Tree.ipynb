{
 "cells": [
  {
   "cell_type": "raw",
   "metadata": {},
   "source": [
    "说明：\n",
    "    给定二叉树，您需要计算树直径的长度。\n",
    "    二叉树的直径是一棵树中任何两个节点之间的最长路径的长度。\n",
    "    此路径可能会也可能不会通过根。\n",
    "\n",
    "注意：\n",
    "    两个节点之间的路径长度由它们之间的边数表示。"
   ]
  },
  {
   "cell_type": "markdown",
   "metadata": {},
   "source": [
    "<img src='543.jpg' width=500>"
   ]
  },
  {
   "cell_type": "code",
   "execution_count": 38,
   "metadata": {},
   "outputs": [],
   "source": [
    "class TreeNode:\n",
    "    def __init__(self, val=0, left=None, right=None):\n",
    "        self.val = val\n",
    "        self.left = left\n",
    "        self.right = right\n",
    "\n",
    "class Solution:\n",
    "    def diameterOfBinaryTree(self, root: TreeNode) -> int:\n",
    "        # 可以分解为： root 左子树到根节点的最大深度 + root 到右节点的最大深度\n",
    "        self.max_depth = 0\n",
    "        self.helper(root)\n",
    "        return self.max_depth\n",
    "    \n",
    "    def helper(self, root):\n",
    "        if not root:\n",
    "            return 0\n",
    "        else:\n",
    "            l_depth = self.helper(root.left)\n",
    "            r_depth = self.helper(root.right)\n",
    "            path = l_depth + r_depth\n",
    "            self.max_depth = max(path, self.max_depth)\n",
    "            print(root.val, l_depth, r_depth, max(l_depth, r_depth) + 1)\n",
    "            return max(l_depth, r_depth) + 1"
   ]
  },
  {
   "cell_type": "code",
   "execution_count": null,
   "metadata": {},
   "outputs": [],
   "source": []
  },
  {
   "cell_type": "code",
   "execution_count": 39,
   "metadata": {},
   "outputs": [
    {
     "name": "stdout",
     "output_type": "stream",
     "text": [
      "4 0 0 1\n",
      "5 0 0 1\n",
      "2 1 1 2\n",
      "3 0 0 1\n",
      "1 2 1 3\n"
     ]
    },
    {
     "data": {
      "text/plain": [
       "3"
      ]
     },
     "execution_count": 39,
     "metadata": {},
     "output_type": "execute_result"
    }
   ],
   "source": [
    "t1 = TreeNode(1)\n",
    "t2 = TreeNode(2)\n",
    "t3 = TreeNode(3)\n",
    "t4 = TreeNode(4)\n",
    "t5 = TreeNode(5)\n",
    "\n",
    "t1.left = t2\n",
    "t1.right = t3\n",
    "\n",
    "t2.left = t4\n",
    "t2.right = t5\n",
    "\n",
    "root_ = t1\n",
    "solution = Solution()\n",
    "solution.diameterOfBinaryTree(root_)"
   ]
  },
  {
   "cell_type": "code",
   "execution_count": 21,
   "metadata": {},
   "outputs": [],
   "source": [
    "a = [1, 1]"
   ]
  },
  {
   "cell_type": "code",
   "execution_count": null,
   "metadata": {},
   "outputs": [],
   "source": []
  },
  {
   "cell_type": "code",
   "execution_count": null,
   "metadata": {},
   "outputs": [],
   "source": []
  },
  {
   "cell_type": "code",
   "execution_count": null,
   "metadata": {},
   "outputs": [],
   "source": []
  }
 ],
 "metadata": {
  "kernelspec": {
   "display_name": "Python 3",
   "language": "python",
   "name": "python3"
  },
  "language_info": {
   "codemirror_mode": {
    "name": "ipython",
    "version": 3
   },
   "file_extension": ".py",
   "mimetype": "text/x-python",
   "name": "python",
   "nbconvert_exporter": "python",
   "pygments_lexer": "ipython3",
   "version": "3.6.2"
  }
 },
 "nbformat": 4,
 "nbformat_minor": 4
}
