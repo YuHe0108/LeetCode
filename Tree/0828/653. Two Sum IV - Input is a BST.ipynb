{
 "cells": [
  {
   "cell_type": "raw",
   "metadata": {},
   "source": [
    "说明：\n",
    "    给定二叉搜索树BST和目标编号，如果BST中存在两个元素，使得它们的总和等于给定的目标，则返回true。"
   ]
  },
  {
   "cell_type": "markdown",
   "metadata": {},
   "source": [
    "<img src='653.jpg' width=500>"
   ]
  },
  {
   "cell_type": "code",
   "execution_count": 1,
   "metadata": {},
   "outputs": [],
   "source": [
    "class TreeNode:\n",
    "    def __init__(self, val=0, left=None, right=None):\n",
    "        self.val = val\n",
    "        self.left = left\n",
    "        self.right = right\n",
    "\n",
    "class Solution:\n",
    "    def findTarget(self, root: TreeNode, k: int) -> bool:\n",
    "        if not root: return False\n",
    "        self.vals = {root.val} # 记录了root中所有节点的值\n",
    "        nodes = [root.left, root.right]\n",
    "        while nodes:\n",
    "            n = nodes.pop()\n",
    "            if n:\n",
    "                if k - n.val in self.vals:\n",
    "                    return True\n",
    "                self.vals.add(n.val)\n",
    "                nodes.extend([n.left, n.right])\n",
    "        return False"
   ]
  },
  {
   "cell_type": "code",
   "execution_count": 3,
   "metadata": {},
   "outputs": [],
   "source": [
    "root_ = TreeNode(1)\n",
    "solution = Solution()\n",
    "solution.findTarget(root_, 1)"
   ]
  },
  {
   "cell_type": "code",
   "execution_count": null,
   "metadata": {},
   "outputs": [],
   "source": []
  }
 ],
 "metadata": {
  "kernelspec": {
   "display_name": "Python 3",
   "language": "python",
   "name": "python3"
  },
  "language_info": {
   "codemirror_mode": {
    "name": "ipython",
    "version": 3
   },
   "file_extension": ".py",
   "mimetype": "text/x-python",
   "name": "python",
   "nbconvert_exporter": "python",
   "pygments_lexer": "ipython3",
   "version": "3.6.2"
  }
 },
 "nbformat": 4,
 "nbformat_minor": 4
}
