{
 "cells": [
  {
   "cell_type": "raw",
   "metadata": {},
   "source": [
    "说明：\n",
    "    在二叉树中，根节点的深度为0，每个深度k节点的子节点的深度为k1。\n",
    "    如果二叉树的两个节点具有相同的深度，但具有不同的父级，则它们是表亲。\n",
    "    给出具有唯一值的二叉树的根，以及树中两个不同节点的值x和y。\n",
    "    当且仅当与值x和y对应的节点是表亲时，才返回true。\n",
    "\n",
    "要求：\n",
    "    1、统一深度\n",
    "    2、父节点不同\n",
    "\n",
    "约束：\n",
    "    1、树中的节点数将在2到100之间。\n",
    "    2、每个节点的唯一整数值从1到100\n",
    "\n",
    "还有一种解题思路：\n",
    "    存储 x , y的 depth以及父节点"
   ]
  },
  {
   "cell_type": "markdown",
   "metadata": {},
   "source": [
    "<img src='993.jpg' width=500>"
   ]
  },
  {
   "cell_type": "code",
   "execution_count": 12,
   "metadata": {},
   "outputs": [],
   "source": [
    "class TreeNode:\n",
    "    def __init__(self, val=0, left=None, right=None):\n",
    "        self.val = val\n",
    "        self.left = left\n",
    "        self.right = right\n",
    "        \n",
    "class Solution:\n",
    "    def isCousins(self, root: TreeNode, x: int, y: int) -> bool:\n",
    "        # 深度相同、父节点不同\n",
    "        return self.helper(root.left, root.right, x, y)\n",
    "    \n",
    "    def helper(self, left, right, x, y):\n",
    "        # x, y 的值不能等于 root.val 也不能等于 root.left.val 以及 root.right.val\n",
    "        if not left and not right:\n",
    "            return False\n",
    "        elif left and right:\n",
    "            left_vals = []\n",
    "            if left.left:\n",
    "                left_vals.append(left.left.val)\n",
    "            if left.right:\n",
    "                left_vals.append(left.right.val)\n",
    "            right_vals = []\n",
    "            if right.left:\n",
    "                right_vals.append(right.left.val)\n",
    "            if right.right:\n",
    "                right_vals.append(right.right.val)\n",
    "            #　如果　ｘ，ｙ　分别在对应同样高度节点中\n",
    "            if (x in left_vals and y in right_vals) or (x in right_vals and y in left_vals):\n",
    "                return True\n",
    "            else:\n",
    "                a = self.helper(left.left, left.right, x, y)\n",
    "                b = self.helper(right.left, right.right, x, y)\n",
    "                c = self.helper(left.left, right.left, x, y)\n",
    "                d = self.helper(left.left, right.right, x, y)\n",
    "                e = self.helper(left.right, right.right, x, y)\n",
    "                f = self.helper(left.right, right.left, x, y)\n",
    "                return a or b or c or d or e or f\n",
    "        elif left is None:\n",
    "            return self.helper(right.left, right.right, x, y)\n",
    "        elif right is None:\n",
    "            return self.helper(left.left, left.right, x, y)  "
   ]
  },
  {
   "cell_type": "markdown",
   "metadata": {},
   "source": [
    "##  将x,y的父节点以及深度保存起来，最后进行比较"
   ]
  },
  {
   "cell_type": "code",
   "execution_count": 61,
   "metadata": {},
   "outputs": [],
   "source": [
    "class TreeNode:\n",
    "    def __init__(self, val=0, left=None, right=None):\n",
    "        self.val = val\n",
    "        self.left = left\n",
    "        self.right = right\n",
    "        \n",
    "class Solution:\n",
    "    def isCousins(self, root: TreeNode, x: int, y: int) -> bool:\n",
    "        self.x_par = -1\n",
    "        self.y_par = -1\n",
    "        self.x_depth = -1\n",
    "        self.y_depth = -1\n",
    "        self.get_par_and_depth(root, x, y, 0)\n",
    "        print(self.x_par, self.y_par, self.x_depth, self.y_depth)\n",
    "        if self.x_par != -1 and self.y_par != -1:\n",
    "            return self.x_par != self.y_par and self.x_depth == self.y_depth\n",
    "        else:\n",
    "            return False\n",
    "    \n",
    "    def get_par_and_depth(self, root, x, y, depth):\n",
    "        if not root:\n",
    "            return\n",
    "        if (root.left and root.left.val == x) or (root.right and root.right.val == x):\n",
    "            self.x_par = root.val\n",
    "            self.x_depth = depth + 1\n",
    "        if (root.left and root.left.val == y) or (root.right and root.right.val == y):\n",
    "            self.y_par == root.val\n",
    "            self.y_depth = depth + 1\n",
    "        if self.x_par == -1 or self.y_par == -1:\n",
    "            self.get_par_and_depth(root.left, x, y, depth+1)\n",
    "            self.get_par_and_depth(root.right, x, y, depth+1)"
   ]
  },
  {
   "cell_type": "code",
   "execution_count": 62,
   "metadata": {},
   "outputs": [
    {
     "name": "stdout",
     "output_type": "stream",
     "text": [
      "2 0 2 2\n"
     ]
    },
    {
     "data": {
      "text/plain": [
       "True"
      ]
     },
     "execution_count": 62,
     "metadata": {},
     "output_type": "execute_result"
    }
   ],
   "source": [
    "t1 = TreeNode(1)\n",
    "t2 = TreeNode(2)\n",
    "t3 = TreeNode(3)\n",
    "t4 = TreeNode(4)\n",
    "t5 = TreeNode(5)\n",
    "\n",
    "t1.left = t2\n",
    "t1.right = t3\n",
    "\n",
    "t2.right = t4\n",
    "t3.right = t5\n",
    "\n",
    "root_ = t1\n",
    "solution = Solution()\n",
    "solution.isCousins(root_, 4, 5)"
   ]
  },
  {
   "cell_type": "code",
   "execution_count": null,
   "metadata": {},
   "outputs": [],
   "source": []
  }
 ],
 "metadata": {
  "kernelspec": {
   "display_name": "Python 3",
   "language": "python",
   "name": "python3"
  },
  "language_info": {
   "codemirror_mode": {
    "name": "ipython",
    "version": 3
   },
   "file_extension": ".py",
   "mimetype": "text/x-python",
   "name": "python",
   "nbconvert_exporter": "python",
   "pygments_lexer": "ipython3",
   "version": "3.6.2"
  }
 },
 "nbformat": 4,
 "nbformat_minor": 4
}
