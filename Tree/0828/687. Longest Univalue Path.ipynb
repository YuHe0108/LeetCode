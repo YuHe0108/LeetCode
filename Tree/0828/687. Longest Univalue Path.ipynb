{
 "cells": [
  {
   "cell_type": "raw",
   "metadata": {},
   "source": [
    "说明：\n",
    "    给定一棵二叉树，找到路径中每个节点具有相同值的最长路径的长度。\n",
    "    1、此路径可能会也可能不会通过根。\n",
    "    2、两个节点之间的路径长度由它们之间的边数表示。\n",
    "\n",
    "注意：\n",
    "    1、给定的二叉树的节点数不超过10000。\n",
    "    2、树的高度不超过1000。"
   ]
  },
  {
   "cell_type": "markdown",
   "metadata": {},
   "source": [
    "<img src='687.jpg' width=500>"
   ]
  },
  {
   "cell_type": "code",
   "execution_count": 5,
   "metadata": {},
   "outputs": [],
   "source": [
    "class TreeNode:\n",
    "    def __init__(self, val=0, left=None, right=None):\n",
    "        self.val = val\n",
    "        self.left = left\n",
    "        self.right = right\n",
    "\n",
    "class Solution:\n",
    "    \n",
    "    def longestUnivaluePath(self, root: TreeNode) -> int:\n",
    "        max_uni_path = 0\n",
    "        def helper(node):\n",
    "            if not node: return 0\n",
    "            else:\n",
    "                path_of_left = helper(node.left)\n",
    "                path_of_right = helper(node.right)\n",
    "                \n",
    "                left_uni = path_of_left + 1 if node.left and node.left.val == node.val else 0\n",
    "                right_uni = path_of_right + 1 if node.right and node.right.val == node.val else 0\n",
    "                \n",
    "                nonlocal max_uni_path\n",
    "                max_uni_path = max(max_uni_path, left_uni + right_uni)\n",
    "                return max(left_uni, right_uni)\n",
    "        helper(root)\n",
    "        return max_uni_path"
   ]
  },
  {
   "cell_type": "code",
   "execution_count": 2,
   "metadata": {},
   "outputs": [],
   "source": [
    "root_ = TreeNode(1)\n",
    "solution = Solution()\n",
    "solution.longestUnivaluePath(root_)"
   ]
  },
  {
   "cell_type": "code",
   "execution_count": null,
   "metadata": {},
   "outputs": [],
   "source": []
  }
 ],
 "metadata": {
  "kernelspec": {
   "display_name": "Python 3",
   "language": "python",
   "name": "python3"
  },
  "language_info": {
   "codemirror_mode": {
    "name": "ipython",
    "version": 3
   },
   "file_extension": ".py",
   "mimetype": "text/x-python",
   "name": "python",
   "nbconvert_exporter": "python",
   "pygments_lexer": "ipython3",
   "version": "3.6.2"
  }
 },
 "nbformat": 4,
 "nbformat_minor": 4
}
