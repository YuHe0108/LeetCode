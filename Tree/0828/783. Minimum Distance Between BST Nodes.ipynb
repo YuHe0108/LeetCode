{
 "cells": [
  {
   "cell_type": "raw",
   "metadata": {},
   "source": [
    "说明：\n",
    "    给定具有根节点root的二叉搜索树（BST），返回树中任何两个不同节点的值之间的最小差。\n",
    "\n",
    "注意：\n",
    "    1、BST的大小将在2到100之间。\n",
    "    2、BST始终有效，每个节点的值都是整数，并且每个节点的值都不同。\n",
    "    3、此问题与530相同：https://leetcode.com/problems/minimum-absolute-difference-in-bst/\n",
    "\n",
    "要求：\n",
    "    返回任意两个节点值相差的最小值"
   ]
  },
  {
   "cell_type": "markdown",
   "metadata": {},
   "source": [
    "<img src='783.jpg' width=500>"
   ]
  },
  {
   "cell_type": "code",
   "execution_count": 23,
   "metadata": {},
   "outputs": [],
   "source": [
    "class TreeNode:\n",
    "    def __init__(self, val=0, left=None, right=None):\n",
    "        self.val = val\n",
    "        self.left = left\n",
    "        self.right = right\n",
    "\n",
    "class Solution:\n",
    "    def minDiffInBST(self, root: TreeNode) -> int:\n",
    "        # 遍历 树中所有的节点，之后在求每个相邻元素之间的差值\n",
    "        # 但是这种做法并没有利用到 BST 的特性\n",
    "        self.vals = []\n",
    "        self.helper(root)\n",
    "        self.vals.sort()\n",
    "        return min([self.vals[i+1] - self.vals[i] for i in range(len(self.vals) - 1)])\n",
    "        \n",
    "    def helper(self, root):\n",
    "        if not root:\n",
    "            return\n",
    "        self.vals.append(root.val)\n",
    "        if root.left:\n",
    "            self.vals.append(root.left.val)\n",
    "            self.helper(root.left)\n",
    "        if root.right:\n",
    "            self.vals.append(root.right.val)\n",
    "            self.helper(root.right)"
   ]
  },
  {
   "cell_type": "code",
   "execution_count": 31,
   "metadata": {},
   "outputs": [],
   "source": [
    "class TreeNode:\n",
    "    def __init__(self, val=0, left=None, right=None):\n",
    "        self.val = val\n",
    "        self.left = left\n",
    "        self.right = right\n",
    "\n",
    "class Solution:\n",
    "    min_dif = float('inf')\n",
    "    pre_node = None\n",
    "    def minDiffInBST(self, root: TreeNode) -> int:\n",
    "        if not root: \n",
    "            return self.min_dif\n",
    "        self.minDiffInBST(root.left)\n",
    "        if self.pre_node:\n",
    "            self.min_dif = min(self.min_dif, root.val - self.pre_node.val)\n",
    "        self.pre_node = root\n",
    "        self.minDiffInBST(root.right)\n",
    "        return self.min_dif"
   ]
  },
  {
   "cell_type": "code",
   "execution_count": null,
   "metadata": {},
   "outputs": [],
   "source": []
  },
  {
   "cell_type": "code",
   "execution_count": 32,
   "metadata": {},
   "outputs": [
    {
     "name": "stdout",
     "output_type": "stream",
     "text": [
      "inf\n"
     ]
    }
   ],
   "source": [
    "t1 = TreeNode(1)\n",
    "root_ = t1\n",
    "solution = Solution()\n",
    "solution.minDiffInBST(root_)"
   ]
  },
  {
   "cell_type": "code",
   "execution_count": 22,
   "metadata": {},
   "outputs": [
    {
     "data": {
      "text/plain": [
       "1"
      ]
     },
     "execution_count": 22,
     "metadata": {},
     "output_type": "execute_result"
    }
   ],
   "source": [
    "vals = [1, 2, 3, 4, 5]\n",
    "min([vals[i+1] - vals[i] for i in range(len(vals) - 1)])"
   ]
  },
  {
   "cell_type": "code",
   "execution_count": null,
   "metadata": {},
   "outputs": [],
   "source": []
  }
 ],
 "metadata": {
  "kernelspec": {
   "display_name": "Python 3",
   "language": "python",
   "name": "python3"
  },
  "language_info": {
   "codemirror_mode": {
    "name": "ipython",
    "version": 3
   },
   "file_extension": ".py",
   "mimetype": "text/x-python",
   "name": "python",
   "nbconvert_exporter": "python",
   "pygments_lexer": "ipython3",
   "version": "3.6.2"
  }
 },
 "nbformat": 4,
 "nbformat_minor": 4
}
