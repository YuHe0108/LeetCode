{
 "cells": [
  {
   "cell_type": "raw",
   "metadata": {},
   "source": [
    "说明：\n",
    "    给定具有非负值的二进制搜索树，请找到任意两个节点的值之间的最小绝对差。"
   ]
  },
  {
   "cell_type": "markdown",
   "metadata": {},
   "source": [
    "<img src='530.jpg' width=500>"
   ]
  },
  {
   "cell_type": "code",
   "execution_count": 3,
   "metadata": {},
   "outputs": [],
   "source": [
    "class TreeNode:\n",
    "    def __init__(self, val=0, left=None, right=None):\n",
    "        self.val = val\n",
    "        self.left = left\n",
    "        self.right = right\n",
    "\n",
    "class Solution:\n",
    "    def getMinimumDifference(self, root: TreeNode) -> int:\n",
    "        self.res = []\n",
    "        self.helper(root)\n",
    "        return min([self.res[i+1] - self.res[i] for i in range(len(res) - 1)])\n",
    "    \n",
    "    def helper(self, root):\n",
    "        if not root:\n",
    "            return \n",
    "        if root.left:\n",
    "            self.res.append(root.left.val)\n",
    "            self.helper(root.left)\n",
    "        if root.right:\n",
    "            self.res.append(root.right.val)\n",
    "            self.helper(root.right)"
   ]
  },
  {
   "cell_type": "code",
   "execution_count": 2,
   "metadata": {},
   "outputs": [],
   "source": [
    "root_ = TreeNode(1)\n",
    "solution = Solution()\n",
    "solution.getMinimumDifference(root_)"
   ]
  },
  {
   "cell_type": "code",
   "execution_count": null,
   "metadata": {},
   "outputs": [],
   "source": []
  }
 ],
 "metadata": {
  "kernelspec": {
   "display_name": "Python 3",
   "language": "python",
   "name": "python3"
  },
  "language_info": {
   "codemirror_mode": {
    "name": "ipython",
    "version": 3
   },
   "file_extension": ".py",
   "mimetype": "text/x-python",
   "name": "python",
   "nbconvert_exporter": "python",
   "pygments_lexer": "ipython3",
   "version": "3.6.2"
  }
 },
 "nbformat": 4,
 "nbformat_minor": 4
}
