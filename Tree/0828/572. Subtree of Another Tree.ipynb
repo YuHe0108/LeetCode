{
 "cells": [
  {
   "cell_type": "raw",
   "metadata": {},
   "source": [
    "说明：\n",
    "    给定两个非空的二叉树s和t，请检查树t的子树是否具有完全相同的结构和节点值。 \n",
    "    s的子树是由s中的一个节点和该节点的所有后代组成的树。\n",
    "    树也可以被视为其自身的子树。"
   ]
  },
  {
   "cell_type": "markdown",
   "metadata": {},
   "source": [
    "<img src='572.jpg' width=600>\n",
    "<img src='572_1.jpg' width=600>"
   ]
  },
  {
   "cell_type": "code",
   "execution_count": 11,
   "metadata": {},
   "outputs": [],
   "source": [
    "class TreeNode:\n",
    "    def __init__(self, val=0, left=None, right=None):\n",
    "        self.val = val\n",
    "        self.left = left\n",
    "        self.right = right\n",
    "\n",
    "class Solution:\n",
    "    def isSubtree(self, s: TreeNode, t: TreeNode) -> bool:\n",
    "        if not t and not s: \n",
    "            return True\n",
    "        elif s and t.val == s.val:\n",
    "            return self.isSubtree(s.left, t.left) and self.isSubtree(s.right, t.right)\n",
    "        elif s:\n",
    "            return self.isSubtree(s.left, t) or self.isSubtree(s.right, t)\n",
    "        return False"
   ]
  },
  {
   "cell_type": "code",
   "execution_count": null,
   "metadata": {},
   "outputs": [],
   "source": [
    "class TreeNode:\n",
    "    def __init__(self, val=0, left=None, right=None):\n",
    "        self.val = val\n",
    "        self.left = left\n",
    "        self.right = right\n",
    "\n",
    "class Solution:\n",
    "    def isSubtree(self, s: TreeNode, t: TreeNode) -> bool:\n",
    "        if t is None:\n",
    "            return True\n",
    "        if s is None:\n",
    "            return False\n",
    "        if s.val == t.val:\n",
    "            if self.helper(s.left, t.left) and self.helper(s.right, t.right):\n",
    "                return True\n",
    "        return self.isSubtree(s.left, t) or self.isSubtree(s.right, t)\n",
    "        \n",
    "    def helper(self, s, t):\n",
    "        if s is None and t is None:\n",
    "            return True\n",
    "        elif t is None or s is None:\n",
    "            return False\n",
    "        if s.val == t.val:\n",
    "            return self.helper(s.left, t.left) and self.helper(s.right, t.right)"
   ]
  },
  {
   "cell_type": "code",
   "execution_count": null,
   "metadata": {},
   "outputs": [],
   "source": [
    "class Solution:\n",
    "    def isSubtree(self, s: TreeNode, t: TreeNode) -> bool:\n",
    "        if t is None:\n",
    "            return True\n",
    "        if s is None:\n",
    "            return False\n",
    "        if t.val == s.val and self.helper(s.left, t.left) and self.helper(s.right, t.right):\n",
    "            return True\n",
    "        return self.isSubtree(s.left, t) or self.isSubtree(s.right, t)\n",
    "    \n",
    "    def helper(self, s, t):\n",
    "        if t is None and s is None:\n",
    "            return True\n",
    "        elif s and t and s.val == t.val:\n",
    "            return self.helper(s.left, t.left) and self.helper(s.right, t.right)\n",
    "        else:\n",
    "            return False"
   ]
  },
  {
   "cell_type": "code",
   "execution_count": 12,
   "metadata": {},
   "outputs": [
    {
     "data": {
      "text/plain": [
       "False"
      ]
     },
     "execution_count": 12,
     "metadata": {},
     "output_type": "execute_result"
    }
   ],
   "source": [
    "s1 = TreeNode(3)\n",
    "s2 = TreeNode(4)\n",
    "s3 = TreeNode(5)\n",
    "s4 = TreeNode(1)\n",
    "s5 = TreeNode(2)\n",
    "s6 = TreeNode(0)\n",
    "\n",
    "s1.left = s2\n",
    "s1.right = s3\n",
    "\n",
    "s2.left = s4\n",
    "s2.right = s5\n",
    "\n",
    "s5.left = s6\n",
    "\n",
    "t1 = TreeNode(4)\n",
    "t2 = TreeNode(1)\n",
    "t3 = TreeNode(2)\n",
    "\n",
    "t1.left = s2\n",
    "t1.right = s3\n",
    "\n",
    "solution = Solution()\n",
    "solution.isSubtree(s1, t1)"
   ]
  },
  {
   "cell_type": "code",
   "execution_count": null,
   "metadata": {},
   "outputs": [],
   "source": []
  }
 ],
 "metadata": {
  "kernelspec": {
   "display_name": "Python 3",
   "language": "python",
   "name": "python3"
  },
  "language_info": {
   "codemirror_mode": {
    "name": "ipython",
    "version": 3
   },
   "file_extension": ".py",
   "mimetype": "text/x-python",
   "name": "python",
   "nbconvert_exporter": "python",
   "pygments_lexer": "ipython3",
   "version": "3.6.2"
  }
 },
 "nbformat": 4,
 "nbformat_minor": 4
}
