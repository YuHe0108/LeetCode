{
 "cells": [
  {
   "cell_type": "raw",
   "metadata": {},
   "source": [
    "说明：\n",
    "    给你一个二叉树的根节点 root。\n",
    "    设根节点位于二叉树的第 1 层，而根节点的子节点位于第 2 层，依此类推。\n",
    "    请你找出层内元素之和 最大 的那几层（可能只有一层）的层号，\n",
    "    并返回其中 最小 的那个。\n",
    "\n",
    "示例 2：\n",
    "    输入：root = [989,null,10250,98693,-89388,null,null,null,-32127]\n",
    "    输出：2\n",
    "    \n",
    "提示：\n",
    "    1、树中的节点数介于 1 和 10^4 之间\n",
    "    2、-10^5 <= node.val <= 10^5"
   ]
  },
  {
   "cell_type": "markdown",
   "metadata": {},
   "source": [
    "<img src='https://assets.leetcode.com/uploads/2019/05/03/capture.JPG'>"
   ]
  },
  {
   "cell_type": "raw",
   "metadata": {},
   "source": [
    "示例 1：\n",
    "    输入：root = [1,7,0,7,-8,null,null]\n",
    "    输出：2\n",
    "    解释：\n",
    "    第 1 层各元素之和为 1，\n",
    "    第 2 层各元素之和为 7 + 0 = 7，\n",
    "    第 3 层各元素之和为 7 + -8 = -1，\n",
    "    所以我们返回第 2 层的层号，它的层内元素之和最大。"
   ]
  },
  {
   "cell_type": "code",
   "execution_count": null,
   "metadata": {},
   "outputs": [],
   "source": [
    "from collections import defaultdict\n",
    "\n",
    "class Solution:\n",
    "    def maxLevelSum(self, root: TreeNode) -> int:\n",
    "        s = defaultdict(lambda: 0)\n",
    "        def mls(v, l):\n",
    "            if v is None:\n",
    "                return\n",
    "            s[l] += v.val\n",
    "            mls(v.left, l + 1)\n",
    "            mls(v.right, l + 1)\n",
    "        mls(root, 0)\n",
    "        c, l = max([(v, -l) for l, v in s.items()])\n",
    "        print(list(s.items()))\n",
    "        return -l + 1"
   ]
  },
  {
   "cell_type": "code",
   "execution_count": 1,
   "metadata": {},
   "outputs": [],
   "source": [
    "from collections import defaultdict\n",
    "\n",
    "s = defaultdict(lambda:0)"
   ]
  },
  {
   "cell_type": "code",
   "execution_count": 2,
   "metadata": {},
   "outputs": [
    {
     "data": {
      "text/plain": [
       "defaultdict(<function __main__.<lambda>()>, {})"
      ]
     },
     "execution_count": 2,
     "metadata": {},
     "output_type": "execute_result"
    }
   ],
   "source": [
    "s"
   ]
  },
  {
   "cell_type": "code",
   "execution_count": null,
   "metadata": {},
   "outputs": [],
   "source": [
    "class Solution:\n",
    "    def maxLevelSum(self, root: TreeNode) -> int:\n",
    "        nodes, vals = [root], []\n",
    "        while nodes:\n",
    "            new_nodes, new_vals = [], []\n",
    "            while nodes:\n",
    "                n = nodes.pop()\n",
    "                if n:\n",
    "                    new_vals.append(n.val)\n",
    "                    if n.left:\n",
    "                        new_nodes.append(n.left)\n",
    "                    if n.right:\n",
    "                        new_nodes.append(n.right)\n",
    "            nodes = new_nodes\n",
    "            vals.append(sum(new_vals[:]))\n",
    "        return vals.index(max(vals)) + 1   "
   ]
  }
 ],
 "metadata": {
  "kernelspec": {
   "display_name": "Python 3",
   "language": "python",
   "name": "python3"
  },
  "language_info": {
   "codemirror_mode": {
    "name": "ipython",
    "version": 3
   },
   "file_extension": ".py",
   "mimetype": "text/x-python",
   "name": "python",
   "nbconvert_exporter": "python",
   "pygments_lexer": "ipython3",
   "version": "3.6.2"
  }
 },
 "nbformat": 4,
 "nbformat_minor": 4
}
