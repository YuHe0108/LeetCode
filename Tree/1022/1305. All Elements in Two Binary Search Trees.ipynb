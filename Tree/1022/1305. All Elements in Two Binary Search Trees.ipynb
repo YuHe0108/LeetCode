{
 "cells": [
  {
   "cell_type": "raw",
   "metadata": {},
   "source": [
    "说明：\n",
    "    给你 root1 和 root2 这两棵二叉搜索树。\n",
    "    请你返回一个列表，其中包含 两棵树 中的所有整数并按 升序 排序。.\n",
    "\n",
    "示例 1：\n",
    "    输入：root1 = [2,1,4], root2 = [1,0,3]\n",
    "    输出：[0,1,1,2,3,4]\n",
    "\n",
    "示例 2：\n",
    "    输入：root1 = [0,-10,10], root2 = [5,1,7,0,2]\n",
    "    输出：[-10,0,0,1,2,5,7,10]\n",
    "\n",
    "示例 3：\n",
    "    输入：root1 = [], root2 = [5,1,7,0,2]\n",
    "    输出：[0,1,2,5,7]\n",
    "\n",
    "示例 4：\n",
    "    输入：root1 = [0,-10,10], root2 = []\n",
    "    输出：[-10,0,10]\n",
    "\n",
    "示例 5：\n",
    "    输入：root1 = [1,null,8], root2 = [8,1]\n",
    "    输出：[1,1,8,8]\n",
    "\n",
    "提示：\n",
    "    1、每棵树最多有 5000 个节点。\n",
    "    2、每个节点的值在 [-10^5, 10^5] 之间。"
   ]
  },
  {
   "cell_type": "code",
   "execution_count": 2,
   "metadata": {},
   "outputs": [],
   "source": [
    "# Definition for a binary tree node.\n",
    "class TreeNode:\n",
    "    def __init__(self, val=0, left=None, right=None):\n",
    "        self.val = val\n",
    "        self.left = left\n",
    "        self.right = right\n",
    "        \n",
    "class Solution:\n",
    "    def getAllElements(self, root1: TreeNode, root2: TreeNode):\n",
    "        val_1 = self.get_element(root1)\n",
    "        val_2 = self.get_element(root2)\n",
    "        # print(val_1, val_2)\n",
    "        t_vals = val_1 + val_2\n",
    "        t_vals.sort()\n",
    "        return t_vals\n",
    "    \n",
    "    def get_element(self, root):\n",
    "        if not root:\n",
    "            return []\n",
    "        nodes, vals = [root], []\n",
    "        while nodes:\n",
    "            new_vals = []\n",
    "            for _ in range(len(nodes)):\n",
    "                node = nodes.pop()\n",
    "                new_vals.append(node.val)\n",
    "                if node.left:\n",
    "                    nodes.append(node.left)\n",
    "                if node.right:\n",
    "                    nodes.append(node.right)\n",
    "            vals.extend(new_vals)\n",
    "        return vals"
   ]
  },
  {
   "cell_type": "code",
   "execution_count": null,
   "metadata": {},
   "outputs": [],
   "source": []
  }
 ],
 "metadata": {
  "kernelspec": {
   "display_name": "Python 3",
   "language": "python",
   "name": "python3"
  },
  "language_info": {
   "codemirror_mode": {
    "name": "ipython",
    "version": 3
   },
   "file_extension": ".py",
   "mimetype": "text/x-python",
   "name": "python",
   "nbconvert_exporter": "python",
   "pygments_lexer": "ipython3",
   "version": "3.6.2"
  }
 },
 "nbformat": 4,
 "nbformat_minor": 4
}
