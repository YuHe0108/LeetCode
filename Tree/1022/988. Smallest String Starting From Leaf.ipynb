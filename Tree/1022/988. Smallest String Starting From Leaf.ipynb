{
 "cells": [
  {
   "cell_type": "raw",
   "metadata": {},
   "source": [
    "说明：\n",
    "    给定一颗根结点为 root 的二叉树，树中的每一个结点都有一个从 0 到 25 的值，\n",
    "    分别代表字母 'a' 到 'z'：值 0 代表 'a'，值 1 代表 'b'，依此类推。\n",
    "    找出按字典序最小的字符串，该字符串从这棵树的一个叶结点开始，到根结点结束。\n",
    "    （小贴士：字符串中任何较短的前缀在字典序上都是较小的：例如，在字典序上 \"ab\" 比 \"aba\" 要小。叶结点是指没有子结点的结点。）\n",
    "\n",
    "提示：\n",
    "    1、给定树的结点数介于 1 和 8500 之间。\n",
    "    2、树中的每个结点都有一个介于 0 和 25 之间的值。"
   ]
  },
  {
   "cell_type": "markdown",
   "metadata": {},
   "source": [
    "<img src='https://assets.leetcode-cn.com/aliyun-lc-upload/uploads/2019/02/02/tree1.png'>"
   ]
  },
  {
   "cell_type": "raw",
   "metadata": {},
   "source": [
    "输入：[0,1,2,3,4,3,4]\n",
    "输出：\"dba\""
   ]
  },
  {
   "cell_type": "code",
   "execution_count": 8,
   "metadata": {},
   "outputs": [],
   "source": [
    "# Definition for a binary tree node.\n",
    "class TreeNode:\n",
    "    def __init__(self, val=0, left=None, right=None):\n",
    "        self.val = val\n",
    "        self.left = left\n",
    "        self.right = right\n",
    "        \n",
    "class Solution:\n",
    "    def smallestFromLeaf(self, root: TreeNode) -> str:\n",
    "        paths = []\n",
    "        \n",
    "        def dfs(node, path):\n",
    "            nonlocal paths\n",
    "            if not node: return None\n",
    "            if node and not node.left and not node.right:\n",
    "                path.append(chr(node.val + 97))\n",
    "                paths.append(''.join(path[::-1]))\n",
    "                path.pop()\n",
    "            path.append(chr(node.val + 97))\n",
    "            dfs(node.left, path)\n",
    "            dfs(node.right, path)\n",
    "            path.pop()\n",
    "        dfs(root, [])\n",
    "        return min(paths)"
   ]
  },
  {
   "cell_type": "code",
   "execution_count": null,
   "metadata": {},
   "outputs": [],
   "source": []
  }
 ],
 "metadata": {
  "kernelspec": {
   "display_name": "Python 3",
   "language": "python",
   "name": "python3"
  },
  "language_info": {
   "codemirror_mode": {
    "name": "ipython",
    "version": 3
   },
   "file_extension": ".py",
   "mimetype": "text/x-python",
   "name": "python",
   "nbconvert_exporter": "python",
   "pygments_lexer": "ipython3",
   "version": "3.6.2"
  }
 },
 "nbformat": 4,
 "nbformat_minor": 4
}
