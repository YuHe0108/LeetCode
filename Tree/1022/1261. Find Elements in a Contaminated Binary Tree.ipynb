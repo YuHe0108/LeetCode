{
 "cells": [
  {
   "cell_type": "raw",
   "metadata": {},
   "source": [
    "给出一个满足下述规则的二叉树：\n",
    "    1、root.val == 0\n",
    "    2、如果 treeNode.val == x 且 treeNode.left != null，那么 treeNode.left.val == 2 * x + 1\n",
    "    3、如果 treeNode.val == x 且 treeNode.right != null，那么 treeNode.right.val == 2 * x + 2\n",
    "\n",
    "现在这个二叉树受到「污染」，所有的 treeNode.val 都变成了 -1。\n",
    "\n",
    "请你先还原二叉树，然后实现 FindElements 类：\n",
    "\n",
    "    1、FindElements(TreeNode* root) 用受污染的二叉树初始化对象，你需要先把它还原。\n",
    "    2、bool find(int target) 判断目标值 target 是否存在于还原后的二叉树中并返回结果。\n",
    "\n",
    "提示：\n",
    "    1、TreeNode.val == -1\n",
    "    2、二叉树的高度不超过 20\n",
    "    3、节点的总数在 [1, 10^4] 之间\n",
    "    4、调用 find() 的总次数在 [1, 10^4] 之间\n",
    "    5、0 <= target <= 10^6"
   ]
  },
  {
   "cell_type": "markdown",
   "metadata": {},
   "source": [
    "<img src='https://assets.leetcode-cn.com/aliyun-lc-upload/uploads/2019/11/16/untitled-diagram-4-1.jpg'>"
   ]
  },
  {
   "cell_type": "raw",
   "metadata": {},
   "source": [
    "输入：\n",
    "    [\"FindElements\",\"find\",\"find\"]\n",
    "    [[[-1,null,-1]],[1],[2]]\n",
    "输出：\n",
    "    [null,false,true]\n",
    "解释：\n",
    "    FindElements findElements = new FindElements([-1,null,-1]); \n",
    "    findElements.find(1); // return False \n",
    "    findElements.find(2); // return True "
   ]
  },
  {
   "cell_type": "markdown",
   "metadata": {},
   "source": [
    "<img src='https://assets.leetcode-cn.com/aliyun-lc-upload/uploads/2019/11/16/untitled-diagram-4.jpg'>"
   ]
  },
  {
   "cell_type": "raw",
   "metadata": {},
   "source": [
    "输入：\n",
    "    [\"FindElements\",\"find\",\"find\",\"find\"]\n",
    "    [[[-1,-1,-1,-1,-1]],[1],[3],[5]]\n",
    "输出：\n",
    "    [null,true,true,false]\n",
    "解释：\n",
    "    FindElements findElements = new FindElements([-1,-1,-1,-1,-1]);\n",
    "    findElements.find(1); // return True\n",
    "    findElements.find(3); // return True\n",
    "    findElements.find(5); // return False"
   ]
  },
  {
   "cell_type": "markdown",
   "metadata": {},
   "source": [
    "<img src='https://assets.leetcode-cn.com/aliyun-lc-upload/uploads/2019/11/16/untitled-diagram-4-1-1.jpg'>"
   ]
  },
  {
   "cell_type": "raw",
   "metadata": {},
   "source": [
    "输入：\n",
    "    [\"FindElements\",\"find\",\"find\",\"find\",\"find\"]\n",
    "    [[[-1,null,-1,-1,null,-1]],[2],[3],[4],[5]]\n",
    "输出：\n",
    "    [null,true,false,false,true]\n",
    "解释：\n",
    "    FindElements findElements = new FindElements([-1,null,-1,-1,null,-1]);\n",
    "    findElements.find(2); // return True\n",
    "    findElements.find(3); // return False\n",
    "    findElements.find(4); // return False\n",
    "    findElements.find(5); // return True"
   ]
  },
  {
   "cell_type": "code",
   "execution_count": null,
   "metadata": {},
   "outputs": [],
   "source": [
    "class FindElements:\n",
    "\n",
    "    def __init__(self, root: TreeNode):\n",
    "        self.vals = set()\n",
    "        def rec(node,val):\n",
    "            if not node: return\n",
    "            node.val = val\n",
    "            self.vals.add(val)\n",
    "            rec(node.left,2*val+1)\n",
    "            rec(node.right,2*val+2)\n",
    "        self.root = root\n",
    "        rec(root,0)\n",
    "\n",
    "    def find(self, target: int) -> bool:\n",
    "        return target in self.vals\n",
    "        def getVal(node):\n",
    "            if not node: return False\n",
    "            if node.val == target: return True\n",
    "            return getVal(node.left) or getVal(node.right)\n",
    "        return getVal(self.root)"
   ]
  }
 ],
 "metadata": {
  "kernelspec": {
   "display_name": "Python 3",
   "language": "python",
   "name": "python3"
  },
  "language_info": {
   "codemirror_mode": {
    "name": "ipython",
    "version": 3
   },
   "file_extension": ".py",
   "mimetype": "text/x-python",
   "name": "python",
   "nbconvert_exporter": "python",
   "pygments_lexer": "ipython3",
   "version": "3.6.2"
  }
 },
 "nbformat": 4,
 "nbformat_minor": 4
}
