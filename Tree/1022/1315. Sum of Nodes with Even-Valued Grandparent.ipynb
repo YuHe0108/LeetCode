{
 "cells": [
  {
   "cell_type": "raw",
   "metadata": {},
   "source": [
    "说明：\n",
    "    给你一棵二叉树，请你返回满足以下条件的所有节点的值之和：\n",
    "        1、该节点的祖父节点的值为偶数。（一个节点的祖父节点是指该节点的父节点的父节点。）\n",
    "    如果不存在祖父节点值为偶数的节点，那么返回 0 。\n",
    "\n",
    "提示：\n",
    "    1、树中节点的数目在 1 到 10^4 之间。\n",
    "    2、每个节点的值在 1 到 100 之间。"
   ]
  },
  {
   "cell_type": "raw",
   "metadata": {},
   "source": [
    "输入：root = [6,7,8,2,7,1,3,9,null,1,4,null,null,null,5]\n",
    "输出：18\n",
    "解释：图中红色节点的祖父节点的值为偶数，蓝色节点为这些红色节点的祖父节点。"
   ]
  },
  {
   "cell_type": "markdown",
   "metadata": {},
   "source": [
    "<img src='https://assets.leetcode-cn.com/aliyun-lc-upload/uploads/2020/01/10/1473_ex1.png'>"
   ]
  },
  {
   "cell_type": "code",
   "execution_count": null,
   "metadata": {},
   "outputs": [],
   "source": [
    "# Definition for a binary tree node.\n",
    "# class TreeNode:\n",
    "#     def __init__(self, val=0, left=None, right=None):\n",
    "#         self.val = val\n",
    "#         self.left = left\n",
    "#         self.right = right\n",
    "class Solution:\n",
    "    def sumEvenGrandparent(self, root: TreeNode) -> int:\n",
    "        # depth = self.get_depth(root)\n",
    "        # pos_depth = [x for x in range(depth) if x + 2 < depth]\n",
    "        # print(pos_depth)\n",
    "        self.res = 0\n",
    "        nodes = [root]\n",
    "        while nodes:\n",
    "            for _ in range(len(nodes)):\n",
    "                n = nodes.pop()\n",
    "                if n and n.val % 2 == 0:\n",
    "                    self.res += self.dfs(n, 0)\n",
    "                if n.left:\n",
    "                    nodes.append(n.left)\n",
    "                if n.right:\n",
    "                    nodes.append(n.right)\n",
    "        return self.res\n",
    "    \n",
    "    def dfs(self, root, count):\n",
    "        if not root: \n",
    "            return 0\n",
    "        if count == 2:\n",
    "            return root.val\n",
    "        l_val = self.dfs(root.left, count + 1)\n",
    "        r_val = self.dfs(root.right, count + 1)\n",
    "        return l_val + r_val\n",
    "\n"
   ]
  },
  {
   "cell_type": "code",
   "execution_count": null,
   "metadata": {},
   "outputs": [],
   "source": [
    "class Solution:\n",
    "    def sumEvenGrandparent(self, root: TreeNode) -> int:\n",
    "        self.sum = 0;\n",
    "        def dfs(node, rootvalues):\n",
    "            if not node:\n",
    "                return;\n",
    "            \n",
    "            if len(rootvalues) >= 2:\n",
    "                if rootvalues[-2] % 2 == 0:\n",
    "                    self.sum += node.val;\n",
    "            rootvalues = rootvalues + [node.val];\n",
    "            dfs(node.left, rootvalues);\n",
    "            dfs(node.right, rootvalues);\n",
    "                \n",
    "        dfs(root, []);\n",
    "        return self.sum"
   ]
  }
 ],
 "metadata": {
  "kernelspec": {
   "display_name": "Python 3",
   "language": "python",
   "name": "python3"
  },
  "language_info": {
   "codemirror_mode": {
    "name": "ipython",
    "version": 3
   },
   "file_extension": ".py",
   "mimetype": "text/x-python",
   "name": "python",
   "nbconvert_exporter": "python",
   "pygments_lexer": "ipython3",
   "version": "3.6.2"
  }
 },
 "nbformat": 4,
 "nbformat_minor": 4
}
