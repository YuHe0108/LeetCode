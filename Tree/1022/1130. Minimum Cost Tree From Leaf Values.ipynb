{
 "cells": [
  {
   "cell_type": "raw",
   "metadata": {},
   "source": [
    "说明：\n",
    "    给你一个正整数数组 arr，考虑所有满足以下条件的二叉树：\n",
    "        1、每个节点都有 0 个或是 2 个子节点。\n",
    "        2、数组 arr 中的值与树的中序遍历中每个叶节点的值一一对应。（知识回顾：如果一个节点有 0 个子节点，那么该节点为叶节点。）\n",
    "        3、每个非叶节点的值等于其左子树和右子树中叶节点的最大值的乘积。\n",
    "    在所有这样的二叉树中，返回每个非叶节点的值的最小可能总和。这个和的值是一个 32 位整数。\n",
    "\n",
    "示例：\n",
    "    输入：arr = [6,2,4]\n",
    "    输出：32\n",
    "    解释：\n",
    "    有两种可能的树，第一种的非叶节点的总和为 36，第二种非叶节点的总和为 32。\n",
    "            24            24\n",
    "           /  \\          /  \\\n",
    "          12   4        6    8\n",
    "         /  \\               / \\\n",
    "        6    2             2   4\n",
    "\n",
    "提示：\n",
    "    1、2 <= arr.length <= 40\n",
    "    2、1 <= arr[i] <= 15\n",
    "答案保证是一个 32 位带符号整数，即小于 2^31。"
   ]
  },
  {
   "cell_type": "markdown",
   "metadata": {},
   "source": [
    "<img src='1130.jpg'>"
   ]
  },
  {
   "cell_type": "code",
   "execution_count": 22,
   "metadata": {},
   "outputs": [],
   "source": [
    "class Solution:\n",
    "    def mctFromLeafValues(self, arr) -> int:\n",
    "        ans, stack = 0, [float('inf')]\n",
    "        for cur in arr:\n",
    "            while stack[-1] <= cur:\n",
    "                drop = stack.pop()\n",
    "                ans += drop * min(stack[-1], cur)\n",
    "            stack.append(cur)\n",
    "        while len(stack) > 2:\n",
    "            ans += stack.pop() * stack[-1]\n",
    "        return ans"
   ]
  },
  {
   "cell_type": "code",
   "execution_count": 23,
   "metadata": {},
   "outputs": [
    {
     "data": {
      "text/plain": [
       "32"
      ]
     },
     "execution_count": 23,
     "metadata": {},
     "output_type": "execute_result"
    }
   ],
   "source": [
    "solution = Solution()\n",
    "solution.mctFromLeafValues([6,2,4])"
   ]
  },
  {
   "cell_type": "code",
   "execution_count": null,
   "metadata": {},
   "outputs": [],
   "source": []
  }
 ],
 "metadata": {
  "kernelspec": {
   "display_name": "Python 3",
   "language": "python",
   "name": "python3"
  },
  "language_info": {
   "codemirror_mode": {
    "name": "ipython",
    "version": 3
   },
   "file_extension": ".py",
   "mimetype": "text/x-python",
   "name": "python",
   "nbconvert_exporter": "python",
   "pygments_lexer": "ipython3",
   "version": "3.6.2"
  }
 },
 "nbformat": 4,
 "nbformat_minor": 4
}
