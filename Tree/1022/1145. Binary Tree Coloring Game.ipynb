{
 "cells": [
  {
   "cell_type": "raw",
   "metadata": {},
   "source": [
    "说明：\n",
    "    有两位极客玩家参与了一场「二叉树着色」的游戏。\n",
    "    游戏中，给出二叉树的根节点 root，树上总共有 n 个节点，且 n 为奇数，其中每个节点上的值从 1 到 n 各不相同。\n",
    "\n",
    "    游戏从「一号」玩家开始（「一号」玩家为红色，「二号」玩家为蓝色），最开始时，\n",
    "    1、「一号」玩家从 [1, n] 中取一个值 x（1 <= x <= n）；\n",
    "    2、「二号」玩家也从 [1, n] 中取一个值 y（1 <= y <= n）且 y != x。\n",
    "    3、「一号」玩家给值为 x 的节点染上红色，而「二号」玩家给值为 y 的节点染上蓝色。\n",
    "\n",
    "    之后两位玩家轮流进行操作，每一回合，玩家选择一个他之前涂好颜色的节点，将所选节点一个 未着色 的邻节点（即左右子节点、或父节点）进行染色。\n",
    "    如果当前玩家无法找到这样的节点来染色时，他的回合就会被跳过。\n",
    "    若两个玩家都没有可以染色的节点时，游戏结束。\n",
    "    着色节点最多的那位玩家获得胜利 ✌️。\n",
    "\n",
    "    现在，假设你是「二号」玩家，根据所给出的输入，假如存在一个 y 值可以确保你赢得这场游戏，则返回 true；\n",
    "    若无法获胜，就请返回 false。\n",
    "\n",
    "提示：\n",
    "    1、二叉树的根节点为 root，树上由 n 个节点，节点上的值从 1 到 n 各不相同。\n",
    "    2、n 为奇数。\n",
    "    3、1 <= x <= n <= 100"
   ]
  },
  {
   "cell_type": "markdown",
   "metadata": {},
   "source": [
    "<img src='https://assets.leetcode-cn.com/aliyun-lc-upload/uploads/2019/08/04/1480-binary-tree-coloring-game.png'>\n",
    "<img src='1145.jpg'>"
   ]
  },
  {
   "cell_type": "raw",
   "metadata": {},
   "source": [
    "输入：root = [1,2,3,4,5,6,7,8,9,10,11], n = 11, x = 3\n",
    "输出：True\n",
    "解释：第二个玩家可以选择值为 2 的节点。"
   ]
  },
  {
   "cell_type": "code",
   "execution_count": null,
   "metadata": {},
   "outputs": [],
   "source": [
    "# Definition for a binary tree node.\n",
    "# class TreeNode:\n",
    "#     def __init__(self, val=0, left=None, right=None):\n",
    "#         self.val = val\n",
    "#         self.left = left\n",
    "#         self.right = right\n",
    "class Solution:\n",
    "    def btreeGameWinningMove(self, root: TreeNode, n: int, x: int) -> bool:\n",
    "        t_root = self.find_target_root(root, x)\n",
    "        r_count = self.count_elements(root) - self.count_elements(t_root) \n",
    "        t_l_count = self.count_elements(t_root.left)\n",
    "        t_r_count = self.count_elements(t_root.right)\n",
    "        if r_count > t_l_count + t_r_count or t_l_count > r_count + t_r_count or t_r_count > r_count + t_l_count:\n",
    "            return True\n",
    "        return False\n",
    "    \n",
    "    def find_target_root(self, root, x):\n",
    "        if not root:\n",
    "            return None\n",
    "        if root.val == x:\n",
    "            return root\n",
    "        left = self.find_target_root(root.left, x)\n",
    "        right = self.find_target_root(root.right, x)\n",
    "        return left if left else right\n",
    "        \n",
    "    def count_elements(self, root):\n",
    "        nodes = [root]\n",
    "        count = 0\n",
    "        while nodes:\n",
    "            for _ in range(len(nodes)):\n",
    "                node = nodes.pop()\n",
    "                if node:\n",
    "                    count += 1\n",
    "                    if node.left:\n",
    "                        nodes.append(node.left)\n",
    "                    if node.right:\n",
    "                        nodes.append(node.right)\n",
    "        return count"
   ]
  },
  {
   "cell_type": "code",
   "execution_count": null,
   "metadata": {},
   "outputs": [],
   "source": [
    "def count_elements(node):\n",
    "    if not node: return 0\n",
    "    left = count_elements(node.left)\n",
    "    right = count_elements(node.right)\n",
    "    return 1+left+right"
   ]
  }
 ],
 "metadata": {
  "kernelspec": {
   "display_name": "Python 3",
   "language": "python",
   "name": "python3"
  },
  "language_info": {
   "codemirror_mode": {
    "name": "ipython",
    "version": 3
   },
   "file_extension": ".py",
   "mimetype": "text/x-python",
   "name": "python",
   "nbconvert_exporter": "python",
   "pygments_lexer": "ipython3",
   "version": "3.6.2"
  }
 },
 "nbformat": 4,
 "nbformat_minor": 4
}
