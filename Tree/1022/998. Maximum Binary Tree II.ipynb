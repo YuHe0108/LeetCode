{
 "cells": [
  {
   "cell_type": "raw",
   "metadata": {},
   "source": [
    "说明：\n",
    "    最大树定义：一个树，其中每个节点的值都大于其子树中的任何其他值。\n",
    "    给出最大树的根节点 root。\n",
    "    就像之前的问题那样，给定的树是从表 A（root = Construct(A)）递归地使用下述 Construct(A) 例程构造的：\n",
    "        1、如果 A 为空，返回 null\n",
    "        2、否则，令 A[i] 作为 A 的最大元素。创建一个值为 A[i] 的根节点 root\n",
    "        3、root 的左子树将被构建为 Construct([A[0], A[1], ..., A[i-1]])\n",
    "        4、root 的右子树将被构建为 Construct([A[i+1], A[i+2], ..., A[A.length - 1]])\n",
    "        5、返回 root\n",
    "    请注意，我们没有直接给定 A，只有一个根节点 root = Construct(A).\n",
    "    假设 B 是 A 的副本，并附加值 val。保证 B 中的值是不同的。\n",
    "    返回 Construct(B)。"
   ]
  },
  {
   "cell_type": "markdown",
   "metadata": {},
   "source": [
    "<img src='https://assets.leetcode.com/uploads/2019/02/21/maximum-binary-tree-1-2.png'>"
   ]
  },
  {
   "cell_type": "raw",
   "metadata": {},
   "source": [
    "Input: root = [4,1,3,null,null,2], val = 5\n",
    "Output: [5,4,null,1,3,null,null,2]\n",
    "Explanation: A = [1,4,2,3], B = [1,4,2,3,5]"
   ]
  },
  {
   "cell_type": "markdown",
   "metadata": {},
   "source": [
    "<img src='https://assets.leetcode.com/uploads/2019/02/21/maximum-binary-tree-2-2.png'>"
   ]
  },
  {
   "cell_type": "raw",
   "metadata": {},
   "source": [
    "Input: root = [5,2,4,null,1], val = 3\n",
    "Output: [5,2,4,null,1,null,3]\n",
    "Explanation: A = [2,1,5,4], B = [2,1,5,4,3]"
   ]
  },
  {
   "cell_type": "code",
   "execution_count": null,
   "metadata": {},
   "outputs": [],
   "source": [
    "# Definition for a binary tree node.\n",
    "# class TreeNode:\n",
    "#     def __init__(self, val=0, left=None, right=None):\n",
    "#         self.val = val\n",
    "#         self.left = left\n",
    "#         self.right = right\n",
    "\n",
    "# 从根节点往下找，\n",
    "class Solution:\n",
    "    def maxAncestorDiff(self, root: TreeNode) -> int:\n",
    "    \n",
    "        ans = 0\n",
    "        def dfs(node, min_val, max_val):\n",
    "            nonlocal ans\n",
    "            if not node:\n",
    "                ans = max(ans, max_val - min_val)\n",
    "                return \n",
    "            \n",
    "            min_val = min(min_val, node.val)\n",
    "            max_val = max(max_val, node.val)\n",
    "            dfs(node.left, min_val, max_val)\n",
    "            dfs(node.right, min_val, max_val)\n",
    "            \n",
    "        dfs(root, root.val, root.val)\n",
    "        return ans\n"
   ]
  }
 ],
 "metadata": {
  "kernelspec": {
   "display_name": "Python 3",
   "language": "python",
   "name": "python3"
  },
  "language_info": {
   "codemirror_mode": {
    "name": "ipython",
    "version": 3
   },
   "file_extension": ".py",
   "mimetype": "text/x-python",
   "name": "python",
   "nbconvert_exporter": "python",
   "pygments_lexer": "ipython3",
   "version": "3.6.2"
  }
 },
 "nbformat": 4,
 "nbformat_minor": 4
}
