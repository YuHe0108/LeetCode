{
 "cells": [
  {
   "cell_type": "raw",
   "metadata": {},
   "source": [
    "说明：\n",
    "    给定二叉树的根节点 root，找出存在于不同节点 A 和 B 之间的最大值 V，其中 V = |A.val - B.val|，且 A 是 B 的祖先。\n",
    "    （如果 A 的任何子节点之一为 B，或者 A 的任何子节点是 B 的祖先，那么我们认为 A 是 B 的祖先）\n",
    " \n",
    "提示：\n",
    "    1、树中的节点数在 2 到 5000 之间。\n",
    "    2、每个节点的值介于 0 到 100000 之间。"
   ]
  },
  {
   "cell_type": "raw",
   "metadata": {},
   "source": [
    "示例：\n",
    "    输入：[8,3,10,1,6,null,14,null,null,4,7,13]\n",
    "    输出：7\n",
    "    解释： \n",
    "        我们有大量的节点与其祖先的差值，其中一些如下：\n",
    "            |8 - 3| = 5\n",
    "            |3 - 7| = 4\n",
    "            |8 - 1| = 7\n",
    "            |10 - 13| = 3\n",
    "        在所有可能的差值中，最大值 7 由 |8 - 1| = 7 得出。"
   ]
  },
  {
   "cell_type": "markdown",
   "metadata": {},
   "source": [
    "<img src='https://assets.leetcode.com/uploads/2019/09/09/2whqcep.jpg'>"
   ]
  },
  {
   "cell_type": "code",
   "execution_count": null,
   "metadata": {},
   "outputs": [],
   "source": []
  }
 ],
 "metadata": {
  "kernelspec": {
   "display_name": "Python 3",
   "language": "python",
   "name": "python3"
  },
  "language_info": {
   "codemirror_mode": {
    "name": "ipython",
    "version": 3
   },
   "file_extension": ".py",
   "mimetype": "text/x-python",
   "name": "python",
   "nbconvert_exporter": "python",
   "pygments_lexer": "ipython3",
   "version": "3.6.2"
  }
 },
 "nbformat": 4,
 "nbformat_minor": 4
}
