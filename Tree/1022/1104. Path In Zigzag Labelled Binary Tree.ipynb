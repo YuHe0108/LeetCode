{
 "cells": [
  {
   "cell_type": "raw",
   "metadata": {},
   "source": [
    "说明：\n",
    "    在一棵无限的二叉树上，每个节点都有两个子节点，树中的节点 逐行 依次按 “之” 字形进行标记。\n",
    "    如下图所示，在奇数行（即，第一行、第三行、第五行……）中，按从左到右的顺序进行标记；\n",
    "    而偶数行（即，第二行、第四行、第六行……）中，按从右到左的顺序进行标记。\n",
    "    给你树上某一个节点的标号 label，请你返回从根节点到该标号为 label 节点的路径，该路径是由途经的节点标号所组成的。\n",
    "\n",
    "示例 1：\n",
    "    输入：label = 14\n",
    "    输出：[1,3,4,14]\n",
    "\n",
    "示例 2：\n",
    "    输入：label = 26\n",
    "    输出：[1,2,6,10,26]\n",
    "\n",
    "提示：\n",
    "    1、1 <= label <= 10^6"
   ]
  },
  {
   "cell_type": "markdown",
   "metadata": {},
   "source": [
    "<img src='https://assets.leetcode-cn.com/aliyun-lc-upload/uploads/2019/06/28/tree.png'>"
   ]
  },
  {
   "cell_type": "code",
   "execution_count": null,
   "metadata": {},
   "outputs": [],
   "source": []
  }
 ],
 "metadata": {
  "kernelspec": {
   "display_name": "Python 3",
   "language": "python",
   "name": "python3"
  },
  "language_info": {
   "codemirror_mode": {
    "name": "ipython",
    "version": 3
   },
   "file_extension": ".py",
   "mimetype": "text/x-python",
   "name": "python",
   "nbconvert_exporter": "python",
   "pygments_lexer": "ipython3",
   "version": "3.6.2"
  }
 },
 "nbformat": 4,
 "nbformat_minor": 4
}
