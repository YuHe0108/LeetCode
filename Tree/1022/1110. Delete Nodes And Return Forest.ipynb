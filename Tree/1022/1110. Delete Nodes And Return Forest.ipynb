{
 "cells": [
  {
   "cell_type": "raw",
   "metadata": {},
   "source": [
    "说明：\n",
    "    出二叉树的根节点 root，树上每个节点都有一个不同的值。\n",
    "    如果节点值在 to_delete 中出现，我们就把该节点从树上删去，\n",
    "    最后得到一个森林（一些不相交的树构成的集合）。\n",
    "    返回森林中的每棵树。\n",
    "    你可以按任意顺序组织答案。\n",
    "    \n",
    "提示：\n",
    "    1、树中的节点数最大为 1000。\n",
    "    2、每个节点都有一个介于 1 到 1000 之间的值，且各不相同。\n",
    "    3、to_delete.length <= 1000\n",
    "    4、to_delete 包含一些从 1 到 1000、各不相同的值。"
   ]
  },
  {
   "cell_type": "markdown",
   "metadata": {},
   "source": [
    "<img src='https://assets.leetcode-cn.com/aliyun-lc-upload/uploads/2019/07/05/screen-shot-2019-07-01-at-53836-pm.png'>"
   ]
  },
  {
   "cell_type": "raw",
   "metadata": {},
   "source": [
    "示例：\n",
    "    输入：root = [1,2,3,4,5,6,7], to_delete = [3,5]\n",
    "    输出：[[1,2,null,4],[6],[7]]"
   ]
  },
  {
   "cell_type": "code",
   "execution_count": null,
   "metadata": {},
   "outputs": [],
   "source": [
    "class Solution:\n",
    "    def delNodes(self, node: TreeNode, to_delete: List[int]) -> List[TreeNode]:\n",
    "        def dfs(node):\n",
    "            if not node: return None\n",
    "            node.left = dfs(node.left)\n",
    "            node.right = dfs(node.right)\n",
    "            if node.val in to_delete:\n",
    "                if node.left:\n",
    "                    remaining.add(node.left)\n",
    "                if node.right:\n",
    "                    remaining.add(node.right)\n",
    "                return None\n",
    "            return node\n",
    "        reamining = set()\n",
    "        to_delete = set(to_delete)\n",
    "        if node.val not in to_delete:\n",
    "            remaining.add(node)\n",
    "        return remaining            "
   ]
  },
  {
   "cell_type": "code",
   "execution_count": null,
   "metadata": {},
   "outputs": [],
   "source": [
    "class Solution:\n",
    "    def delNodes(self, root: TreeNode, to_delete: List[int]) -> List[TreeNode]:\n",
    "        to_delete = set(to_delete)\n",
    "        self.res = []\n",
    "        self.helper(root, None, to_delete)\n",
    "        return self.res\n",
    "    \n",
    "    def helper(self, root, parent, to_delete):\n",
    "        if not root: return None\n",
    "        if root.val in to_delete:\n",
    "            self.helper(root.left, None, to_delete)\n",
    "            self.helper(root.right, None, to_delete)\n",
    "            return None\n",
    "        root.left = self.helper(root.left, root, to_delete)\n",
    "        root.right = self.helper(root.right, root, to_delete)\n",
    "        if not parent:\n",
    "            self.res.append(root)\n",
    "        return root"
   ]
  }
 ],
 "metadata": {
  "kernelspec": {
   "display_name": "Python 3",
   "language": "python",
   "name": "python3"
  },
  "language_info": {
   "codemirror_mode": {
    "name": "ipython",
    "version": 3
   },
   "file_extension": ".py",
   "mimetype": "text/x-python",
   "name": "python",
   "nbconvert_exporter": "python",
   "pygments_lexer": "ipython3",
   "version": "3.6.2"
  }
 },
 "nbformat": 4,
 "nbformat_minor": 4
}
