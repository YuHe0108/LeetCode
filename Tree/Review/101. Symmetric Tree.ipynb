{
 "cells": [
  {
   "cell_type": "code",
   "execution_count": null,
   "metadata": {},
   "outputs": [],
   "source": []
  },
  {
   "cell_type": "code",
   "execution_count": null,
   "metadata": {},
   "outputs": [],
   "source": []
  },
  {
   "cell_type": "code",
   "execution_count": null,
   "metadata": {},
   "outputs": [],
   "source": [
    "# Definition for a binary tree node.\n",
    "# class TreeNode:\n",
    "#     def __init__(self, val=0, left=None, right=None):\n",
    "#         self.val = val\n",
    "#         self.left = left\n",
    "#         self.right = right\n",
    "class Solution:\n",
    "    def isSymmetric(self, root: TreeNode) -> bool:\n",
    "        \n",
    "        def dfs(left, right):\n",
    "            # 左右子树要么都为空，要么都不为空，一个为空，一个不为空，肯定为False\n",
    "            if (not left and right) or (not right and left):\n",
    "                return False\n",
    "            if not left and not right: # 都为空为True\n",
    "                return True\n",
    "            # 都不为空，需要继续下面的判断 left.left ==? right.right and left.right ==? right.left\n",
    "            return left.val == right.val and dfs(left.left, right.right) and dfs(left.right, right.left)\n",
    "        \n",
    "        if not root:\n",
    "            return True\n",
    "        return dfs(root.left, root.right)"
   ]
  },
  {
   "cell_type": "code",
   "execution_count": null,
   "metadata": {},
   "outputs": [],
   "source": []
  },
  {
   "cell_type": "code",
   "execution_count": null,
   "metadata": {},
   "outputs": [],
   "source": []
  },
  {
   "cell_type": "code",
   "execution_count": null,
   "metadata": {},
   "outputs": [],
   "source": [
    "# Definition for a binary tree node.\n",
    "# class TreeNode:\n",
    "#     def __init__(self, val=0, left=None, right=None):\n",
    "#         self.val = val\n",
    "#         self.left = left\n",
    "#         self.right = right\n",
    "\n",
    "class Solution:\n",
    "    def isSymmetric(self, root: TreeNode) -> bool:\n",
    "        if not root:\n",
    "            return True\n",
    "        \n",
    "        nodes = deque([root])\n",
    "        while nodes:\n",
    "            vals = []\n",
    "            for _ in range(len(nodes)):\n",
    "                node = nodes.popleft()\n",
    "                if node:\n",
    "                    vals.append(node.val)\n",
    "                    nodes.append(node.left)\n",
    "                    nodes.append(node.right)\n",
    "                else:\n",
    "                    vals.append(\"#\")\n",
    "            if vals != vals[::-1]:\n",
    "                return False\n",
    "        return True"
   ]
  }
 ],
 "metadata": {
  "kernelspec": {
   "display_name": "Python 3",
   "language": "python",
   "name": "python3"
  },
  "language_info": {
   "codemirror_mode": {
    "name": "ipython",
    "version": 3
   },
   "file_extension": ".py",
   "mimetype": "text/x-python",
   "name": "python",
   "nbconvert_exporter": "python",
   "pygments_lexer": "ipython3",
   "version": "3.6.2"
  }
 },
 "nbformat": 4,
 "nbformat_minor": 4
}
