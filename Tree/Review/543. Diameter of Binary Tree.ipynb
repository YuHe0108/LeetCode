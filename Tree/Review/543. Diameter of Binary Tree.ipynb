{
 "cells": [
  {
   "cell_type": "code",
   "execution_count": null,
   "metadata": {},
   "outputs": [],
   "source": []
  },
  {
   "cell_type": "markdown",
   "metadata": {},
   "source": [
    "### 定义两个变量：\n",
    "                    \n",
    "                 local_depth: 表示以当前节点作为 路径中的一环，这棵树向外呈现出的最大深度为：max(left, right) + 1\n",
    "                 而树的内部：\n",
    "                             depth = max(detph, left + right)\n",
    "                         子树的最大深度，local_depth = max(left_detph, r_depth) + 1\n",
    "                 depth: 整棵树的最大深度:  max(detph, local_depth, left_depth + r_depth)"
   ]
  },
  {
   "cell_type": "code",
   "execution_count": 1,
   "metadata": {},
   "outputs": [],
   "source": [
    "# Definition for a binary tree node.\n",
    "class TreeNode:\n",
    "    def __init__(self, val=0, left=None, right=None):\n",
    "        self.val = val\n",
    "        self.left = left\n",
    "        self.right = right\n",
    "\n",
    "class Solution:\n",
    "    def diameterOfBinaryTree(self, root: TreeNode) -> int:\n",
    "        def dfs(node):\n",
    "            nonlocal depth\n",
    "            if not node:\n",
    "                return 0\n",
    "            l_depth = dfs(node.left)\n",
    "            r_depth = dfs(node.right)\n",
    "            depth = max(depth, l_depth + r_depth)\n",
    "            return max(l_depth, r_depth) + 1\n",
    "        \n",
    "        depth = 0\n",
    "        dfs(root)\n",
    "        return depth"
   ]
  },
  {
   "cell_type": "code",
   "execution_count": null,
   "metadata": {},
   "outputs": [],
   "source": []
  }
 ],
 "metadata": {
  "kernelspec": {
   "display_name": "Python 3",
   "language": "python",
   "name": "python3"
  },
  "language_info": {
   "codemirror_mode": {
    "name": "ipython",
    "version": 3
   },
   "file_extension": ".py",
   "mimetype": "text/x-python",
   "name": "python",
   "nbconvert_exporter": "python",
   "pygments_lexer": "ipython3",
   "version": "3.6.2"
  }
 },
 "nbformat": 4,
 "nbformat_minor": 4
}
