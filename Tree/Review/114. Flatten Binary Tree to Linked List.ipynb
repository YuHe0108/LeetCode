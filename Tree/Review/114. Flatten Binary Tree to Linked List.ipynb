{
 "cells": [
  {
   "cell_type": "code",
   "execution_count": null,
   "metadata": {},
   "outputs": [],
   "source": [
    "# Definition for a binary tree node.\n",
    "# class TreeNode:\n",
    "#     def __init__(self, val=0, left=None, right=None):\n",
    "#         self.val = val\n",
    "#         self.left = left\n",
    "#         self.right = right\n",
    "\n",
    "\n",
    "class Solution:\n",
    "    def flatten(self, root):\n",
    "        \n",
    "        if not root:\n",
    "            return \n",
    "        if not root.left:\n",
    "            self.flatten(root.right)\n",
    "            return\n",
    "        \n",
    "        h1 = root.left\n",
    "        h2 = root.right\n",
    "        self.flatten(root.left)\n",
    "        self.flatten(root.right)\n",
    "        root.right = h1\n",
    "        root.left = None\n",
    "        \n",
    "        while h1.right:\n",
    "            h1 = h1.right\n",
    "        h1.right = h2\n",
    "        \n",
    "        \n"
   ]
  },
  {
   "cell_type": "code",
   "execution_count": null,
   "metadata": {},
   "outputs": [],
   "source": []
  },
  {
   "cell_type": "code",
   "execution_count": null,
   "metadata": {},
   "outputs": [],
   "source": []
  },
  {
   "cell_type": "code",
   "execution_count": null,
   "metadata": {},
   "outputs": [],
   "source": [
    "# Definition for a binary tree node.\n",
    "# class TreeNode:\n",
    "#     def __init__(self, val=0, left=None, right=None):\n",
    "#         self.val = val\n",
    "#         self.left = left\n",
    "#         self.right = right\n",
    "\n",
    "class Solution:\n",
    "    def flatten(self, root: TreeNode) -> None:\n",
    "        \"\"\"\n",
    "        Do not return anything, modify root in-place instead.\n",
    "        \"\"\"\n",
    "        if not root:\n",
    "            return \n",
    "        \n",
    "        r_l = root.left # root左子树和右子树\n",
    "        r_r = root.right\n",
    "        self.flatten(root.left) # 修正左子树为一条线\n",
    "        self.flatten(root.right) # 修正右子树为一条线\n",
    "        \n",
    "        root.left = None # left = None\n",
    "        if r_l and r_r:\n",
    "            root.right = r_l # 右子树等于修整好的左子树\n",
    "            while r_l.right: # 左子树的最后一个节点为修正好的右子树\n",
    "                r_l = r_l.right\n",
    "            r_l.right = r_r # 最后一个节点的右子树为 修正的右子树\n",
    "        elif r_l: # 不存在右子树\n",
    "            root.right = r_l \n",
    "        elif r_r: # 不存在左子树\n",
    "            root.right = r_r"
   ]
  }
 ],
 "metadata": {
  "kernelspec": {
   "display_name": "Python 3",
   "language": "python",
   "name": "python3"
  },
  "language_info": {
   "codemirror_mode": {
    "name": "ipython",
    "version": 3
   },
   "file_extension": ".py",
   "mimetype": "text/x-python",
   "name": "python",
   "nbconvert_exporter": "python",
   "pygments_lexer": "ipython3",
   "version": "3.6.2"
  }
 },
 "nbformat": 4,
 "nbformat_minor": 4
}
