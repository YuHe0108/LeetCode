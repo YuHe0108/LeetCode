{
 "cells": [
  {
   "cell_type": "code",
   "execution_count": null,
   "metadata": {},
   "outputs": [],
   "source": [
    "# Definition for a binary tree node.\n",
    "# class TreeNode:\n",
    "#     def __init__(self, val=0, left=None, right=None):\n",
    "#         self.val = val\n",
    "#         self.left = left\n",
    "#         self.right = right\n",
    "\n",
    "\n",
    "class Solution:\n",
    "    def flatten(self, root):\n",
    "        \n",
    "        if not root:\n",
    "            return \n",
    "        if not root.left:\n",
    "            self.flatten(root.right)\n",
    "            return\n",
    "        \n",
    "        h1 = root.left\n",
    "        h2 = root.right\n",
    "        self.flatten(root.left)\n",
    "        self.flatten(root.right)\n",
    "        root.right = h1\n",
    "        root.left = None\n",
    "        \n",
    "        while h1.right:\n",
    "            h1 = h1.right\n",
    "        h1.right = h2\n",
    "        \n",
    "        \n"
   ]
  }
 ],
 "metadata": {
  "kernelspec": {
   "display_name": "Python 3",
   "language": "python",
   "name": "python3"
  },
  "language_info": {
   "codemirror_mode": {
    "name": "ipython",
    "version": 3
   },
   "file_extension": ".py",
   "mimetype": "text/x-python",
   "name": "python",
   "nbconvert_exporter": "python",
   "pygments_lexer": "ipython3",
   "version": "3.6.2"
  }
 },
 "nbformat": 4,
 "nbformat_minor": 4
}
