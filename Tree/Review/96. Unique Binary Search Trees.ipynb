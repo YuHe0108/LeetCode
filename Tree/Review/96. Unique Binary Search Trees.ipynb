{
 "cells": [
  {
   "cell_type": "code",
   "execution_count": null,
   "metadata": {},
   "outputs": [],
   "source": []
  },
  {
   "cell_type": "code",
   "execution_count": null,
   "metadata": {},
   "outputs": [],
   "source": []
  },
  {
   "cell_type": "code",
   "execution_count": null,
   "metadata": {},
   "outputs": [],
   "source": [
    "f(4) = f(0)*f(3) + f(1)*f(2) + f(2)*f(1) + f4(3)*f(0)\n",
    "f(5) = f(0)*f(4) + f(1)*f(3) + f(2)*f(2) + f(3)*f(1) + f(4)*f(0)"
   ]
  },
  {
   "cell_type": "code",
   "execution_count": null,
   "metadata": {},
   "outputs": [],
   "source": []
  },
  {
   "cell_type": "code",
   "execution_count": null,
   "metadata": {},
   "outputs": [],
   "source": [
    "\n",
    "class Solution:\n",
    "    def numTrees(self, n: int) -> int:\n",
    "        # nums[0] 没有节点的时候一种构造方法，1个节点的时候也是一种构造方法\n",
    "        nums = [0] * (n+1)\n",
    "        nums[0] = nums[1] = 1\n",
    "        \n",
    "        for i in range(2, n+1):\n",
    "            for j in range(i):\n",
    "                nums[i] += nums[j] * nums[i-j-1]\n",
    "        return nums[-1]\n",
    "        "
   ]
  }
 ],
 "metadata": {
  "kernelspec": {
   "display_name": "Python 3",
   "language": "python",
   "name": "python3"
  },
  "language_info": {
   "codemirror_mode": {
    "name": "ipython",
    "version": 3
   },
   "file_extension": ".py",
   "mimetype": "text/x-python",
   "name": "python",
   "nbconvert_exporter": "python",
   "pygments_lexer": "ipython3",
   "version": "3.6.2"
  }
 },
 "nbformat": 4,
 "nbformat_minor": 4
}
