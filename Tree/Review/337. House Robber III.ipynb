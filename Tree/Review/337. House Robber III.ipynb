{
 "cells": [
  {
   "cell_type": "code",
   "execution_count": null,
   "metadata": {},
   "outputs": [],
   "source": []
  },
  {
   "cell_type": "code",
   "execution_count": null,
   "metadata": {},
   "outputs": [],
   "source": []
  },
  {
   "cell_type": "code",
   "execution_count": null,
   "metadata": {},
   "outputs": [],
   "source": [
    "# Definition for a binary tree node.\n",
    "# class TreeNode:\n",
    "#     def __init__(self, val=0, left=None, right=None):\n",
    "#         self.val = val\n",
    "#         self.left = left\n",
    "#         self.right = right\n",
    "\n",
    "\n",
    "class Solution:\n",
    "    def rob(self, root: TreeNode) -> int:\n",
    "        \n",
    "        @lru_cache(None)\n",
    "        def dfs(node, rob):\n",
    "            if not node:\n",
    "                return 0\n",
    "            \n",
    "            # 如果 node 不抢劫的话，那么剩下的两个节点可以抢、也可以不抢\n",
    "            opt1 = dfs(node.left, 1) + dfs(node.right, 1)\n",
    "            if rob == 1:\n",
    "                # 如果抢劫node，子节点一定不能抢\n",
    "                opt2 = node.val + dfs(node.left, 0) + dfs(node.right, 0)\n",
    "                return max(opt1, opt2)\n",
    "            else:\n",
    "                return opt1\n",
    "        \n",
    "        return dfs(root, 1)"
   ]
  }
 ],
 "metadata": {
  "kernelspec": {
   "display_name": "Python 3",
   "language": "python",
   "name": "python3"
  },
  "language_info": {
   "codemirror_mode": {
    "name": "ipython",
    "version": 3
   },
   "file_extension": ".py",
   "mimetype": "text/x-python",
   "name": "python",
   "nbconvert_exporter": "python",
   "pygments_lexer": "ipython3",
   "version": "3.6.2"
  }
 },
 "nbformat": 4,
 "nbformat_minor": 4
}
