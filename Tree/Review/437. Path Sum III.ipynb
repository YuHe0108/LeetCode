{
 "cells": [
  {
   "cell_type": "code",
   "execution_count": null,
   "metadata": {},
   "outputs": [],
   "source": []
  },
  {
   "cell_type": "code",
   "execution_count": null,
   "metadata": {},
   "outputs": [],
   "source": []
  },
  {
   "cell_type": "code",
   "execution_count": null,
   "metadata": {},
   "outputs": [],
   "source": []
  },
  {
   "cell_type": "code",
   "execution_count": null,
   "metadata": {},
   "outputs": [],
   "source": []
  },
  {
   "cell_type": "code",
   "execution_count": null,
   "metadata": {},
   "outputs": [],
   "source": [
    "# Definition for a binary tree node.\n",
    "# class TreeNode:\n",
    "#     def __init__(self, val=0, left=None, right=None):\n",
    "#         self.val = val\n",
    "#         self.left = left\n",
    "#         self.right = right\n",
    "\n",
    "class Solution:\n",
    "    def pathSum(self, root: TreeNode, sum_val: int) -> int:\n",
    "        \n",
    "        def dfs(node, path_sum):\n",
    "            nonlocal res\n",
    "            \n",
    "            if not node:\n",
    "                return \n",
    "            \n",
    "            path_sum += node.val # 加上当前节点的值\n",
    "            res += count[path_sum - sum_val] # 减去sum_val, 查看这个值是否出现过\n",
    "            \n",
    "            # 回溯，\n",
    "            count[path_sum] += 1\n",
    "            dfs(node.left, path_sum)\n",
    "            dfs(node.right, path_sum)\n",
    "            count[path_sum] -= 1\n",
    "            path_sum -= node.val\n",
    "        \n",
    "        res = 0\n",
    "        count = defaultdict(int)\n",
    "        count[0] = 1\n",
    "        dfs(root, 0)\n",
    "        return res"
   ]
  }
 ],
 "metadata": {
  "kernelspec": {
   "display_name": "Python 3",
   "language": "python",
   "name": "python3"
  },
  "language_info": {
   "codemirror_mode": {
    "name": "ipython",
    "version": 3
   },
   "file_extension": ".py",
   "mimetype": "text/x-python",
   "name": "python",
   "nbconvert_exporter": "python",
   "pygments_lexer": "ipython3",
   "version": "3.6.2"
  }
 },
 "nbformat": 4,
 "nbformat_minor": 4
}
