{
 "cells": [
  {
   "cell_type": "code",
   "execution_count": null,
   "metadata": {},
   "outputs": [],
   "source": []
  },
  {
   "cell_type": "code",
   "execution_count": null,
   "metadata": {},
   "outputs": [],
   "source": [
    "前序遍历 preorder = [3,9,20,15,7]\n",
    "中序遍历 inorder = [9,3,15,20,7]"
   ]
  },
  {
   "cell_type": "code",
   "execution_count": null,
   "metadata": {},
   "outputs": [],
   "source": []
  },
  {
   "cell_type": "code",
   "execution_count": null,
   "metadata": {},
   "outputs": [],
   "source": [
    "class Solution:\n",
    "    def buildTree(self, preorder: List[int], inorder: List[int]) -> TreeNode:\n",
    "        def helper(pOrder, iOrder):\n",
    "            if not pOrder: \n",
    "                return None\n",
    "            root = TreeNode(pOrder[0])  # 前序第一个节点做为根\n",
    "            rootInx = iOrder.index(root.val)  # 在中序中找到前序第一个节点的位置\n",
    "            # 在inOrder中：rootIdx 之前的都是左子树中的值，\n",
    "            # 在pOrder中：1：rootIdx+1 表示左子树的值\n",
    "            root.left = helper(pOrder[1:rootInx + 1], iOrder[0:rootInx])\n",
    "            root.right = helper(pOrder[rootInx + 1:], iOrder[rootInx + 1:])\n",
    "            return root\n",
    "        \n",
    "        return helper(preorder,inorder)"
   ]
  }
 ],
 "metadata": {
  "kernelspec": {
   "display_name": "Python 3",
   "language": "python",
   "name": "python3"
  },
  "language_info": {
   "codemirror_mode": {
    "name": "ipython",
    "version": 3
   },
   "file_extension": ".py",
   "mimetype": "text/x-python",
   "name": "python",
   "nbconvert_exporter": "python",
   "pygments_lexer": "ipython3",
   "version": "3.6.2"
  }
 },
 "nbformat": 4,
 "nbformat_minor": 4
}
