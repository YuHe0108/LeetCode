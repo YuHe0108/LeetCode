{
 "cells": [
  {
   "cell_type": "raw",
   "metadata": {},
   "source": [
    "说明：\n",
    "    您会得到一棵完美的二叉树，其中所有叶子都在同一水平上，每个父级都有两个孩子。\n",
    "    二进制树具有以下定义\n",
    "\n",
    "后续行动：\n",
    "    1、您只能使用恒定的额外空间。\n",
    "    2、递归方法很好，您可以假定隐式堆栈空间不算作此问题的额外空间。\n",
    "    \n",
    "约束：\n",
    "    1、给定树中的节点数小于4096。\n",
    "    2、-1000 <= node.val <= 1000"
   ]
  },
  {
   "cell_type": "raw",
   "metadata": {},
   "source": [
    "说明：\n",
    "    1、填充每个下一个指针以指向其下一个右节点。\n",
    "    2、如果没有下一个右节点，则下一个指针应设置为NULL。\n",
    "    3、最初，所有下一个指针都设置为NULL。"
   ]
  },
  {
   "cell_type": "markdown",
   "metadata": {},
   "source": [
    "<img src='116_1.jpg' width=600>\n",
    "<img src='116_2.jpg' width=600>"
   ]
  },
  {
   "cell_type": "code",
   "execution_count": 5,
   "metadata": {},
   "outputs": [],
   "source": [
    "class Node:\n",
    "    def __init__(self, val: int = 0, left: 'Node' = None, right: 'Node' = None, next: 'Node' = None):\n",
    "        self.val = val\n",
    "        self.left = left\n",
    "        self.right = right\n",
    "        self.next = next\n",
    "\n",
    "class Solution:\n",
    "    def connect(self, root):\n",
    "        self.dfs(root)\n",
    "        return root\n",
    "    \n",
    "    def dfs(self, root):\n",
    "        if not root or not root.left:\n",
    "            return\n",
    "        root.left.next = root.right\n",
    "        if root.next is not None:\n",
    "            root.right.next = root.next.left\n",
    "        self.dfs(root.left)\n",
    "        self.dfs(root.right)"
   ]
  },
  {
   "cell_type": "code",
   "execution_count": 6,
   "metadata": {},
   "outputs": [],
   "source": [
    "root_ = Node(1)\n",
    "solution = Solution()\n",
    "solution.connect(root_)"
   ]
  },
  {
   "cell_type": "code",
   "execution_count": null,
   "metadata": {},
   "outputs": [],
   "source": []
  },
  {
   "cell_type": "code",
   "execution_count": null,
   "metadata": {},
   "outputs": [],
   "source": []
  }
 ],
 "metadata": {
  "kernelspec": {
   "display_name": "Python 3",
   "language": "python",
   "name": "python3"
  },
  "language_info": {
   "codemirror_mode": {
    "name": "ipython",
    "version": 3
   },
   "file_extension": ".py",
   "mimetype": "text/x-python",
   "name": "python",
   "nbconvert_exporter": "python",
   "pygments_lexer": "ipython3",
   "version": "3.6.2"
  }
 },
 "nbformat": 4,
 "nbformat_minor": 4
}
