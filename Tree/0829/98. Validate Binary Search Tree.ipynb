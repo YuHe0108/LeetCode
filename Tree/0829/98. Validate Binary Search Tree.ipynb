{
 "cells": [
  {
   "cell_type": "raw",
   "metadata": {},
   "source": [
    "    给定一个二叉树，请确定它是否为有效的二叉树（BST）。\n",
    "    假定BST的定义如下：\n",
    "        1、节点的左子树仅包含键小于节点的键的节点。\n",
    "        2、节点的右子树仅包含键大于该节点的键的节点。\n",
    "        3、左子树和右子树都必须也是二进制搜索树。"
   ]
  },
  {
   "cell_type": "markdown",
   "metadata": {},
   "source": [
    "<img src='98.jpg' width=500>"
   ]
  },
  {
   "cell_type": "code",
   "execution_count": 18,
   "metadata": {},
   "outputs": [],
   "source": [
    "class TreeNode:\n",
    "    def __init__(self, val=0, left=None, right=None):\n",
    "        self.val = val\n",
    "        self.left = left\n",
    "        self.right = right\n",
    "\n",
    "class Solution:\n",
    "    def isValidBST(self, root: TreeNode) -> bool:\n",
    "        if not root:\n",
    "            return True\n",
    "        self.left_min = root.val # root的左侧树都要小于这个值\n",
    "        self.right_max = root.val # root的右侧树都要大于这个值\n",
    "        return self.helper(root)\n",
    "    \n",
    "    def helper(self, root):\n",
    "        if not root:\n",
    "            return True\n",
    "        else:\n",
    "            # 左和右子树都存在\n",
    "            left = root.left\n",
    "            right = root.right\n",
    "            if left and right:\n",
    "                if left.val < root.val < right.val and left.val < self.left_min and right.val > self.right_max:\n",
    "                    return self.helper(root.left) and self.helper(root.right)\n",
    "                else:\n",
    "                    return False\n",
    "            # 都不存在\n",
    "            elif not root.left and not root.right:\n",
    "                return True\n",
    "            # 存在一个\n",
    "            else:\n",
    "                if root.left and root.left < root.val and root.left.val < self.left_min:\n",
    "                    return True\n",
    "                elif root.right and root.right > root.val and root.right.val > self.right_max:\n",
    "                    return True\n",
    "                else:\n",
    "                    return False"
   ]
  },
  {
   "cell_type": "code",
   "execution_count": 28,
   "metadata": {},
   "outputs": [],
   "source": [
    "class TreeNode:\n",
    "    def __init__(self, val=0, left=None, right=None):\n",
    "        self.val = val\n",
    "        self.left = left\n",
    "        self.right = right\n",
    "\n",
    "class Solution:\n",
    "    def isValidBST(self, root: TreeNode) -> bool:\n",
    "        if not root:\n",
    "            return True\n",
    "        return self.helper(root, -float('inf'), float('inf'))\n",
    "    def helper(self, root, low, high):\n",
    "        if not root:\n",
    "            return True\n",
    "        if low < root.val < high and self.helper(root.left, low, root.val) and self.helper(root.right, root.val, high):\n",
    "            return True\n",
    "        else:\n",
    "            return False"
   ]
  },
  {
   "cell_type": "code",
   "execution_count": 29,
   "metadata": {},
   "outputs": [
    {
     "data": {
      "text/plain": [
       "False"
      ]
     },
     "execution_count": 29,
     "metadata": {},
     "output_type": "execute_result"
    }
   ],
   "source": [
    "t1 = TreeNode(4)\n",
    "t2 = TreeNode(2)\n",
    "t3 = TreeNode(3)\n",
    "\n",
    "t2.left = t1\n",
    "t2.right = t3\n",
    "\n",
    "root_ = t2\n",
    "\n",
    "solution = Solution()\n",
    "solution.isValidBST(root_)"
   ]
  },
  {
   "cell_type": "code",
   "execution_count": null,
   "metadata": {},
   "outputs": [],
   "source": []
  },
  {
   "cell_type": "code",
   "execution_count": 30,
   "metadata": {},
   "outputs": [],
   "source": [
    "a = 3 < 2 < 4"
   ]
  },
  {
   "cell_type": "code",
   "execution_count": null,
   "metadata": {},
   "outputs": [],
   "source": []
  }
 ],
 "metadata": {
  "kernelspec": {
   "display_name": "Python 3",
   "language": "python",
   "name": "python3"
  },
  "language_info": {
   "codemirror_mode": {
    "name": "ipython",
    "version": 3
   },
   "file_extension": ".py",
   "mimetype": "text/x-python",
   "name": "python",
   "nbconvert_exporter": "python",
   "pygments_lexer": "ipython3",
   "version": "3.6.2"
  }
 },
 "nbformat": 4,
 "nbformat_minor": 4
}
