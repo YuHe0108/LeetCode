{
 "cells": [
  {
   "cell_type": "raw",
   "metadata": {},
   "source": [
    "说明：\n",
    "    给定n，多少个结构唯一的BST（二进制搜索树）存储值1 ... n？"
   ]
  },
  {
   "cell_type": "markdown",
   "metadata": {},
   "source": [
    "<img src='96.jpg' width=600>"
   ]
  },
  {
   "cell_type": "code",
   "execution_count": 14,
   "metadata": {},
   "outputs": [],
   "source": [
    "class Solution:\n",
    "    def numTrees(self, n: int) -> int:\n",
    "        dp = [0] * (n + 1)\n",
    "        dp[0] = 1 # 空的树也应该算一个\n",
    "        for i in range(1, n+1): # i 的每一个值都可以作为 root 节点\n",
    "            # i: 1 .. n， 用来表示给定 i 个节点能构成多少个树\n",
    "            for k in range(1, i+1):\n",
    "                # k: 1 .. i, 表示从给定 i 个节点中，挨个选择一个数字作为 root 节点\n",
    "                # i 作为构成树节点的最大值\n",
    "                # k-1: 左节点构成树的数量\n",
    "                # i-k: 右节点构成树的数量\n",
    "                dp[i] += dp[k-1] * dp[i-k]\n",
    "        return dp[-1]"
   ]
  },
  {
   "cell_type": "code",
   "execution_count": 15,
   "metadata": {},
   "outputs": [
    {
     "name": "stdout",
     "output_type": "stream",
     "text": [
      "0 1 0\n",
      "0 2 1\n",
      "1 2 0\n",
      "0 3 2\n",
      "1 3 1\n",
      "2 3 0\n"
     ]
    },
    {
     "data": {
      "text/plain": [
       "5"
      ]
     },
     "execution_count": 15,
     "metadata": {},
     "output_type": "execute_result"
    }
   ],
   "source": [
    "solution = Solution()\n",
    "solution.numTrees(3)"
   ]
  },
  {
   "cell_type": "code",
   "execution_count": null,
   "metadata": {},
   "outputs": [],
   "source": []
  }
 ],
 "metadata": {
  "kernelspec": {
   "display_name": "Python 3",
   "language": "python",
   "name": "python3"
  },
  "language_info": {
   "codemirror_mode": {
    "name": "ipython",
    "version": 3
   },
   "file_extension": ".py",
   "mimetype": "text/x-python",
   "name": "python",
   "nbconvert_exporter": "python",
   "pygments_lexer": "ipython3",
   "version": "3.6.2"
  }
 },
 "nbformat": 4,
 "nbformat_minor": 4
}
