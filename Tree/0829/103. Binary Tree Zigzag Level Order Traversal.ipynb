{
 "cells": [
  {
   "cell_type": "raw",
   "metadata": {},
   "source": [
    "说明：\n",
    "    给定一个二叉树，返回其节点值的之字形级别顺序遍历。 \n",
    "    （即，从左到右，然后从右到左进入下一个级别，并在它们之间交替）。"
   ]
  },
  {
   "cell_type": "markdown",
   "metadata": {},
   "source": [
    "<img src='103.jpg' width=500>"
   ]
  },
  {
   "cell_type": "code",
   "execution_count": 7,
   "metadata": {},
   "outputs": [],
   "source": [
    "class TreeNode:\n",
    "    def __init__(self, val=0, left=None, right=None):\n",
    "        self.val = val\n",
    "        self.left = left\n",
    "        self.right = right\n",
    "\n",
    "class Solution:\n",
    "    def zigzagLevelOrder(self, root: TreeNode):\n",
    "        # 从右向左，从左向右\n",
    "        res = []\n",
    "        if not root:\n",
    "            return res\n",
    "        nodes = [root]\n",
    "        left = True\n",
    "        while nodes:\n",
    "            temp_nodes = []\n",
    "            temp_vals = []\n",
    "            for n in nodes:\n",
    "                if n:\n",
    "                    if left:\n",
    "                        temp_vals.insert(0, n.val)\n",
    "                    else:\n",
    "                        temp_vals.append(n.val)\n",
    "                    temp_nodes.extend([n.right, n.left])\n",
    "            left = False if left else True\n",
    "            nodes = temp_nodes\n",
    "            if temp_vals:\n",
    "                res.append(temp_vals)\n",
    "        return res"
   ]
  },
  {
   "cell_type": "code",
   "execution_count": 8,
   "metadata": {},
   "outputs": [
    {
     "data": {
      "text/plain": [
       "[[3], [20, 9], [15, 7]]"
      ]
     },
     "execution_count": 8,
     "metadata": {},
     "output_type": "execute_result"
    }
   ],
   "source": [
    "t1 = TreeNode(3)\n",
    "t2 = TreeNode(9)\n",
    "t3 = TreeNode(20)\n",
    "t4 = TreeNode(15)\n",
    "t5 = TreeNode(7)\n",
    "\n",
    "\n",
    "t1.left = t2\n",
    "t1.right = t3\n",
    "\n",
    "t3.left = t4\n",
    "t3.right = t5\n",
    "\n",
    "root_ = t1\n",
    "solution = Solution()\n",
    "solution.zigzagLevelOrder(root_)"
   ]
  },
  {
   "cell_type": "code",
   "execution_count": null,
   "metadata": {},
   "outputs": [],
   "source": []
  }
 ],
 "metadata": {
  "kernelspec": {
   "display_name": "Python 3",
   "language": "python",
   "name": "python3"
  },
  "language_info": {
   "codemirror_mode": {
    "name": "ipython",
    "version": 3
   },
   "file_extension": ".py",
   "mimetype": "text/x-python",
   "name": "python",
   "nbconvert_exporter": "python",
   "pygments_lexer": "ipython3",
   "version": "3.6.2"
  }
 },
 "nbformat": 4,
 "nbformat_minor": 4
}
