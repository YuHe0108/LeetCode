{
 "cells": [
  {
   "cell_type": "raw",
   "metadata": {},
   "source": [
    "说明：\n",
    "    给定树的前序和中序遍历，构造二叉树。\n",
    "\n",
    "注意：\n",
    "    您可以假设树中不存在重复项。"
   ]
  },
  {
   "cell_type": "markdown",
   "metadata": {},
   "source": [
    "<img src='105.jpg' width=500>\n",
    "<img src='105_1.jpg' width=500>"
   ]
  },
  {
   "cell_type": "code",
   "execution_count": 60,
   "metadata": {
    "jupyter": {
     "source_hidden": true
    }
   },
   "outputs": [],
   "source": [
    "class TreeNode:\n",
    "    def __init__(self, val=0, left=None, right=None):\n",
    "        self.val = val\n",
    "        self.left = left\n",
    "        self.right = right\n",
    "\n",
    "class Solution:\n",
    "    def buildTree(self, preorder, inorder) -> TreeNode:\n",
    "        root_val = preorder[0]\n",
    "        root = TreeNode(root_val)\n",
    "        index = inorder.index(root_val)\n",
    "        self.count = 0\n",
    "        self.helper(root, preorder, inorder[:index], inorder[index+1:])\n",
    "        return root\n",
    "    \n",
    "    def helper(self, root, preorder, left, right):\n",
    "        if self.count == len(preorder) - 1:\n",
    "            return \n",
    "        val = preorder[self.count + 1]\n",
    "        if val in left: # val的值在左边\n",
    "            print(val, self.count)\n",
    "            root.left = TreeNode(val)\n",
    "            self.count += 1\n",
    "            index = left.index(val)\n",
    "            self.helper(root.left, preorder, left[:index], left[index+1:])\n",
    "            val = preorder[self.count + 1]\n",
    "            if val in right: # val的值在右边\n",
    "                root.right = TreeNode(val)\n",
    "                self.count += 1\n",
    "                index = right.index(val)\n",
    "                self.helper(root, preorder, right[:index], right[index+1:])"
   ]
  },
  {
   "cell_type": "code",
   "execution_count": 70,
   "metadata": {},
   "outputs": [],
   "source": [
    "class TreeNode:\n",
    "    def __init__(self, val=0, left=None, right=None):\n",
    "        self.val = val\n",
    "        self.left = left\n",
    "        self.right = right\n",
    "\n",
    "class Solution:\n",
    "    def buildTree(self, preorder, inorder) -> TreeNode:\n",
    "        if inorder:\n",
    "            val = preorder.pop(0)\n",
    "            root = TreeNode(val) \n",
    "            index = inorder.index(val) # 当前节点在 inorder中的下标\n",
    "            root.left = self.buildTree(preorder, inorder[:index]) #  先构建左子树\n",
    "            root.right = self.buildTree(preorder, inorder[index+1:])\n",
    "            return root\n",
    "        else:\n",
    "            return None"
   ]
  },
  {
   "cell_type": "code",
   "execution_count": null,
   "metadata": {},
   "outputs": [],
   "source": []
  },
  {
   "cell_type": "code",
   "execution_count": 71,
   "metadata": {},
   "outputs": [
    {
     "data": {
      "text/plain": [
       "<__main__.TreeNode at 0x142b2e54860>"
      ]
     },
     "execution_count": 71,
     "metadata": {},
     "output_type": "execute_result"
    }
   ],
   "source": [
    "t1 = TreeNode(3)\n",
    "t2 = TreeNode(9)\n",
    "t3 = TreeNode(20)\n",
    "t4 = TreeNode(15)\n",
    "t5 = TreeNode(7)\n",
    "\n",
    "\n",
    "t1.left = t2\n",
    "t1.right = t3\n",
    "\n",
    "t3.left = t4\n",
    "t3.right = t5\n",
    "\n",
    "root_ = t1\n",
    "solution = Solution()\n",
    "solution.buildTree([3, 9, 20, 15, 7], [9, 3, 15, 20, 7])"
   ]
  },
  {
   "cell_type": "code",
   "execution_count": 14,
   "metadata": {},
   "outputs": [
    {
     "name": "stdout",
     "output_type": "stream",
     "text": [
      "[]\n"
     ]
    }
   ],
   "source": [
    "a = []\n",
    "if not a:\n",
    "    print(a)"
   ]
  },
  {
   "cell_type": "code",
   "execution_count": null,
   "metadata": {},
   "outputs": [],
   "source": []
  }
 ],
 "metadata": {
  "kernelspec": {
   "display_name": "Python 3",
   "language": "python",
   "name": "python3"
  },
  "language_info": {
   "codemirror_mode": {
    "name": "ipython",
    "version": 3
   },
   "file_extension": ".py",
   "mimetype": "text/x-python",
   "name": "python",
   "nbconvert_exporter": "python",
   "pygments_lexer": "ipython3",
   "version": "3.6.2"
  }
 },
 "nbformat": 4,
 "nbformat_minor": 4
}
