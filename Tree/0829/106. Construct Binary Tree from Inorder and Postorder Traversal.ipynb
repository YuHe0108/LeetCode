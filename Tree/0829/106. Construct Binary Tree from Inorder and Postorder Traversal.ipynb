{
 "cells": [
  {
   "cell_type": "raw",
   "metadata": {},
   "source": [
    "说明：\n",
    "    给定一棵树的有序和后序遍历，构造二叉树。\n",
    "注意：您可以假定树中不存在重复项。"
   ]
  },
  {
   "cell_type": "markdown",
   "metadata": {},
   "source": [
    "<img src='106.jpg' width=600>"
   ]
  },
  {
   "cell_type": "raw",
   "metadata": {},
   "source": [
    "解题点：\n",
    "    1、后序遍历的最后一个元素就是树的root\n",
    "    2、求root 在inorder中的index，index的左边就是3的左子树，index的右边就是右子树\n",
    "\n",
    "postorder: left->right->node\n",
    "inorder: left->node-right"
   ]
  },
  {
   "cell_type": "code",
   "execution_count": 9,
   "metadata": {},
   "outputs": [],
   "source": [
    "class TreeNode:\n",
    "    def __init__(self, val=0, left=None, right=None):\n",
    "        self.val = val\n",
    "        self.left = left\n",
    "        self.right = right\n",
    "\n",
    "class Solution:\n",
    "    def buildTree(self, inorder, postorder) -> TreeNode:\n",
    "        if inorder:\n",
    "            val = postorder.pop()\n",
    "            index = inorder.index(val)\n",
    "            root = TreeNode(val)\n",
    "            root.right = self.buildTree(inorder[index+1:], postorder)\n",
    "            root.left = self.buildTree(inorder[:index], postorder)\n",
    "            return root\n",
    "        else:\n",
    "            return None"
   ]
  },
  {
   "cell_type": "code",
   "execution_count": 10,
   "metadata": {},
   "outputs": [
    {
     "data": {
      "text/plain": [
       "<__main__.TreeNode at 0x19b2d250470>"
      ]
     },
     "execution_count": 10,
     "metadata": {},
     "output_type": "execute_result"
    }
   ],
   "source": [
    "inorder_ = [9,3,15,20,7]\n",
    "postorder_ = [9,15,7,20,3]\n",
    "solution = Solution()\n",
    "solution.buildTree(inorder_, postorder_)"
   ]
  },
  {
   "cell_type": "code",
   "execution_count": 3,
   "metadata": {},
   "outputs": [
    {
     "data": {
      "text/plain": [
       "2"
      ]
     },
     "execution_count": 3,
     "metadata": {},
     "output_type": "execute_result"
    }
   ],
   "source": [
    "a = [1,2]\n",
    "a.pop()"
   ]
  },
  {
   "cell_type": "code",
   "execution_count": 4,
   "metadata": {},
   "outputs": [
    {
     "data": {
      "text/plain": [
       "[1]"
      ]
     },
     "execution_count": 4,
     "metadata": {},
     "output_type": "execute_result"
    }
   ],
   "source": [
    "a"
   ]
  },
  {
   "cell_type": "code",
   "execution_count": null,
   "metadata": {},
   "outputs": [],
   "source": []
  }
 ],
 "metadata": {
  "kernelspec": {
   "display_name": "Python 3",
   "language": "python",
   "name": "python3"
  },
  "language_info": {
   "codemirror_mode": {
    "name": "ipython",
    "version": 3
   },
   "file_extension": ".py",
   "mimetype": "text/x-python",
   "name": "python",
   "nbconvert_exporter": "python",
   "pygments_lexer": "ipython3",
   "version": "3.6.2"
  }
 },
 "nbformat": 4,
 "nbformat_minor": 4
}
