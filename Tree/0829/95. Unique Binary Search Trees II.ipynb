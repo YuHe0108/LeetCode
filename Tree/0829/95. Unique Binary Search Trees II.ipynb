{
 "cells": [
  {
   "cell_type": "raw",
   "metadata": {},
   "source": [
    "说明：\n",
    "    给定整数n，生成所有存储值1 ... n的结构唯一的BST（二进制搜索树）。\n",
    "    n的值不会超过 8"
   ]
  },
  {
   "cell_type": "markdown",
   "metadata": {},
   "source": [
    "<img src='95.jpg' width=500>"
   ]
  },
  {
   "cell_type": "code",
   "execution_count": 47,
   "metadata": {},
   "outputs": [],
   "source": [
    "class TreeNode:\n",
    "    def __init__(self, val=0, left=None, right=None):\n",
    "        self.val = val\n",
    "        self.left = left\n",
    "        self.right = right\n",
    "\n",
    "class Solution:\n",
    "    def generateTrees(self, n: int):\n",
    "        if n == 0:\n",
    "            return []\n",
    "        return self.dfs(1, n+1)\n",
    "    \n",
    "    def dfs(self, start, end):\n",
    "        if start == end:\n",
    "            return None\n",
    "        result = []\n",
    "        for i in range(start, end):\n",
    "            for l in self.dfs(start, i) or [None]:\n",
    "                for r in self.dfs(i+1, end) or [None]:\n",
    "                    node = TreeNode(i)\n",
    "                    node.left, node.right = l, r\n",
    "                    result.append(node)\n",
    "        return result"
   ]
  },
  {
   "cell_type": "code",
   "execution_count": null,
   "metadata": {},
   "outputs": [],
   "source": []
  },
  {
   "cell_type": "code",
   "execution_count": 48,
   "metadata": {},
   "outputs": [
    {
     "name": "stdout",
     "output_type": "stream",
     "text": [
      "2\n",
      "1\n",
      "1\n",
      "1\n",
      "2\n"
     ]
    },
    {
     "data": {
      "text/plain": [
       "[<__main__.TreeNode at 0x295ebeb17b8>,\n",
       " <__main__.TreeNode at 0x295ebeb1b38>,\n",
       " <__main__.TreeNode at 0x295ebe8eb38>,\n",
       " <__main__.TreeNode at 0x295ebd57cf8>,\n",
       " <__main__.TreeNode at 0x295ebd57b38>]"
      ]
     },
     "execution_count": 48,
     "metadata": {},
     "output_type": "execute_result"
    }
   ],
   "source": [
    "solution = Solution()\n",
    "solution.generateTrees(3)"
   ]
  },
  {
   "cell_type": "code",
   "execution_count": 36,
   "metadata": {},
   "outputs": [
    {
     "name": "stdout",
     "output_type": "stream",
     "text": [
      "None\n"
     ]
    }
   ],
   "source": [
    "for l in range(0) or [None]:\n",
    "    print(l)"
   ]
  },
  {
   "cell_type": "code",
   "execution_count": null,
   "metadata": {},
   "outputs": [],
   "source": []
  }
 ],
 "metadata": {
  "kernelspec": {
   "display_name": "Python 3",
   "language": "python",
   "name": "python3"
  },
  "language_info": {
   "codemirror_mode": {
    "name": "ipython",
    "version": 3
   },
   "file_extension": ".py",
   "mimetype": "text/x-python",
   "name": "python",
   "nbconvert_exporter": "python",
   "pygments_lexer": "ipython3",
   "version": "3.6.2"
  }
 },
 "nbformat": 4,
 "nbformat_minor": 4
}
