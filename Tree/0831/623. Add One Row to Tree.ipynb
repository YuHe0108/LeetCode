{
 "cells": [
  {
   "cell_type": "raw",
   "metadata": {},
   "source": [
    "说明：\n",
    "    给定一棵二叉树的根，然后是值v和深度d，您需要在给定深度d上添加一行值为v的节点。根节点位于深度1。\n",
    "    添加规则为：\n",
    "        1、给定正整数深度d，对于深度d-1中的每个非空树节点N，创建两个值为v的树节点作为N的左子树根和右子树根。 \n",
    "        2、N的原始左子树应该是新的左子树根的左子树，其原始右子树应该是新的右子树根的右子树。\n",
    "        3、如果深度d为1，则表示根本没有深度d-1，则创建一个值为v的树节点作为整个原始树的新根，而原始树是新根的左子树。\n",
    "\n",
    "注意：\n",
    "    1、给定的d在[1，给定树的最大深度1]范围内。\n",
    "    2、给定的二叉树至少有一个树节点。"
   ]
  },
  {
   "cell_type": "markdown",
   "metadata": {},
   "source": [
    "<img src='623.jpg' width=550>\n",
    "<img src='623_1.jpg' width=550>"
   ]
  },
  {
   "cell_type": "code",
   "execution_count": null,
   "metadata": {},
   "outputs": [],
   "source": [
    "class Solution:\n",
    "    def addOneRow(self, root, v, d):\n",
    "        if d == 1:\n",
    "            return TreeNode(v, root)\n",
    "        target = d - 1\n",
    "        def dfs(n, x):\n",
    "            if n:\n",
    "                if x == target:\n",
    "                    n.left, n.right = TreeNode(v, n.left, None), TreeNode(v, None, n.right)\n",
    "                elif x < target:\n",
    "                    dfs(n.left, x+1)\n",
    "                    dfs(n.right, x+1)\n",
    "        dfs(root, 1)\n",
    "        return root"
   ]
  }
 ],
 "metadata": {
  "kernelspec": {
   "display_name": "Python 3",
   "language": "python",
   "name": "python3"
  },
  "language_info": {
   "codemirror_mode": {
    "name": "ipython",
    "version": 3
   },
   "file_extension": ".py",
   "mimetype": "text/x-python",
   "name": "python",
   "nbconvert_exporter": "python",
   "pygments_lexer": "ipython3",
   "version": "3.6.2"
  }
 },
 "nbformat": 4,
 "nbformat_minor": 4
}
