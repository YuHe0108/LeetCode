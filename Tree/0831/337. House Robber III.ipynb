{
 "cells": [
  {
   "cell_type": "raw",
   "metadata": {},
   "source": [
    "说明：\n",
    "    小偷又一次发现了自己的新地方。\n",
    "    该区域只有一个入口，称为“根”。\n",
    "    除树根外，每所房子都只有一间父屋。\n",
    "    游览后，聪明的小偷意识到“这个地方的所有房屋都形成了二叉树”。\n",
    "    如果在同一晚闯入两栋直接相连的房屋，它将自动与警察联系。\n",
    "    确定小偷今晚可以在不通知警察的情况下抢走的最大金额。"
   ]
  },
  {
   "cell_type": "markdown",
   "metadata": {},
   "source": [
    "<img src='337.jpg' width=550>"
   ]
  },
  {
   "cell_type": "code",
   "execution_count": 1,
   "metadata": {},
   "outputs": [],
   "source": [
    "class TreeNode:\n",
    "    def __init__(self, val=0, left=None, right=None):\n",
    "        self.val = val\n",
    "        self.left = left\n",
    "        self.right = right"
   ]
  },
  {
   "cell_type": "code",
   "execution_count": 2,
   "metadata": {},
   "outputs": [
    {
     "data": {
      "text/plain": [
       "1"
      ]
     },
     "execution_count": 2,
     "metadata": {},
     "output_type": "execute_result"
    }
   ],
   "source": [
    "sum([1])"
   ]
  },
  {
   "cell_type": "code",
   "execution_count": 3,
   "metadata": {},
   "outputs": [],
   "source": [
    "class Solution:\n",
    "    def rob(self, root: TreeNode) -> int:\n",
    "        # 将每一层节点的值存在数组中\n",
    "        # 不能偷相连房间的问题，就转换为只能偷奇数或者偶数的房间\n",
    "        if not root:\n",
    "            return 0\n",
    "        res = []\n",
    "        nodes = [root]\n",
    "        while nodes:\n",
    "            temp_val = []\n",
    "            temp_nodes = []\n",
    "            for n in nodes:\n",
    "                if n:\n",
    "                    temp_val.append(n.val)\n",
    "                    temp_nodes.append(n.left)\n",
    "                    temp_nodes.append(n.right)\n",
    "            if temp_val:\n",
    "                res.append(sum(temp_val))\n",
    "            nodes = temp_nodes\n",
    "        # 求出二叉树每一层的含有的节点值\n",
    "        # 问题转换为只能拿不相邻的数字，使其和最大\n",
    "        if len(res) <= 2:\n",
    "            return max(res)\n",
    "        dp = [0] * (len(res) + 1)\n",
    "        dp[1] = res[0]\n",
    "        i = 2\n",
    "        while i < len(res) + 1:\n",
    "            dp[i] = max(dp[i-2] + res[i-1], dp[i-1])\n",
    "            i += 1\n",
    "        return dp[-1]"
   ]
  },
  {
   "cell_type": "code",
   "execution_count": null,
   "metadata": {},
   "outputs": [],
   "source": [
    "class Solution:\n",
    "    def rob(self, root: TreeNode) -> int:\n",
    "    \"\"\"\n",
    "    Input: [3,4,5,1,3,null,1]\n",
    "     input tree            dp tree:\n",
    "         3                 [3+3+1,4+5]\n",
    "        / \\                /        \\\n",
    "       4   5            [4,3]       [5,1]\n",
    "      / \\   \\          /     \\          \\\n",
    "     1   3   1      [1,0]    [3,0]       [1,0]\n",
    "                    / \\       /  \\        /  \\\n",
    "               [0,0] [0,0] [0,0] [0,0]  [0,0] [0,0]\n",
    "    \n",
    "    \"\"\"\n",
    "        l_r_max_val = self.helper(root)\n",
    "        return max(l_r_max_val)\n",
    "    \n",
    "    def helper(self, root):\n",
    "        if not root:\n",
    "            return (0, 0)\n",
    "        left = self.helper(root.left)\n",
    "        right = self.helper(root.right)\n",
    "        # 返回左子树和右子树分别的最大值\n",
    "        l_max = root.val + left[1] + right[1]\n",
    "        r_max = max(left[0], left[1]) + max(right[0], right[1])\n",
    "        return (l_max, r_max)"
   ]
  }
 ],
 "metadata": {
  "kernelspec": {
   "display_name": "Python 3",
   "language": "python",
   "name": "python3"
  },
  "language_info": {
   "codemirror_mode": {
    "name": "ipython",
    "version": 3
   },
   "file_extension": ".py",
   "mimetype": "text/x-python",
   "name": "python",
   "nbconvert_exporter": "python",
   "pygments_lexer": "ipython3",
   "version": "3.6.2"
  }
 },
 "nbformat": 4,
 "nbformat_minor": 4
}
