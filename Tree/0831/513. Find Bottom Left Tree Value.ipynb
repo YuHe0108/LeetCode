{
 "cells": [
  {
   "cell_type": "raw",
   "metadata": {},
   "source": [
    "说明：\n",
    "    给定一棵二叉树，在树的最后一行中找到最左边的值。\n",
    "注意：\n",
    "    您可以假设树（即给定的根节点）不是NULL。"
   ]
  },
  {
   "cell_type": "raw",
   "metadata": {},
   "source": [
    "思路：\n",
    "    都是一样的套路，求每一行树节点的val\n",
    "    最后返回最后一层level的第一个值即可。"
   ]
  },
  {
   "cell_type": "code",
   "execution_count": 1,
   "metadata": {},
   "outputs": [],
   "source": [
    "# Definition for a binary tree node.\n",
    "class TreeNode:\n",
    "    def __init__(self, val=0, left=None, right=None):\n",
    "        self.val = val\n",
    "        self.left = left\n",
    "        self.right = right"
   ]
  },
  {
   "cell_type": "code",
   "execution_count": 2,
   "metadata": {},
   "outputs": [],
   "source": [
    "class Solution:\n",
    "    def findBottomLeftValue(self, root: TreeNode) -> int:\n",
    "        vals = []\n",
    "        nodes = [root]\n",
    "        while nodes:\n",
    "            temp_nodes = []\n",
    "            temp_vals = []\n",
    "            for n in nodes:\n",
    "                if n:\n",
    "                    temp_vals.append(n.val)\n",
    "                    temp_nodes.append(n.left)\n",
    "                    temp_nodes.append(n.right)\n",
    "            nodes = temp_nodes\n",
    "            if temp_vals:\n",
    "                vals.append(temp_vals)\n",
    "        return vals[-1][0]"
   ]
  },
  {
   "cell_type": "code",
   "execution_count": null,
   "metadata": {},
   "outputs": [],
   "source": []
  }
 ],
 "metadata": {
  "kernelspec": {
   "display_name": "Python 3",
   "language": "python",
   "name": "python3"
  },
  "language_info": {
   "codemirror_mode": {
    "name": "ipython",
    "version": 3
   },
   "file_extension": ".py",
   "mimetype": "text/x-python",
   "name": "python",
   "nbconvert_exporter": "python",
   "pygments_lexer": "ipython3",
   "version": "3.6.2"
  }
 },
 "nbformat": 4,
 "nbformat_minor": 4
}
