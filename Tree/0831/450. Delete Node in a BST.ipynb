{
 "cells": [
  {
   "cell_type": "raw",
   "metadata": {},
   "source": [
    "说明：\n",
    "    给定BST的根节点引用和key，请在BST中删除具有给定key的节点。\n",
    "    返回BST的根节点引用（可能已更新）。\n",
    "    删除基本上可以分为两个阶段：\n",
    "        1、搜索要删除的节点。\n",
    "        2、如果找到该节点，请删除该节点。\n",
    "注意：\n",
    "    时间复杂度应为O（树的高度）。"
   ]
  },
  {
   "cell_type": "code",
   "execution_count": 1,
   "metadata": {},
   "outputs": [],
   "source": [
    "class TreeNode:\n",
    "    def __init__(self, val=0, left=None, right=None):\n",
    "        self.val = val\n",
    "        self.left = left\n",
    "        self.right = right"
   ]
  },
  {
   "cell_type": "code",
   "execution_count": 3,
   "metadata": {},
   "outputs": [],
   "source": [
    "class Solution:\n",
    "    def deleteNode(self, root: TreeNode, key: int) -> TreeNode:\n",
    "        if not root:\n",
    "            return root\n",
    "        if root.val > key:\n",
    "            root.left = self.deleteNode(root.left, key)\n",
    "        elif root.val < key:\n",
    "            root.right = self.deleteNode(root.right, key)\n",
    "        else:\n",
    "            if not left and not right:\n",
    "                root = None\n",
    "            elif not left and right:\n",
    "                root = root.right\n",
    "            elif not right and left:\n",
    "                root = root.left\n",
    "            else:\n",
    "                min_root = self.helper(root.right)\n",
    "                root.val = min_root.val\n",
    "                root.right = self.deleteNode(root.right, root.val)\n",
    "        return root\n",
    "    \n",
    "    def helper(self, root):\n",
    "        cur = root\n",
    "        while root.left:\n",
    "            cur = root.left\n",
    "        return cur\n",
    "                "
   ]
  },
  {
   "cell_type": "code",
   "execution_count": null,
   "metadata": {},
   "outputs": [],
   "source": [
    "        else: # Node to delete\n",
    "            # Case 1: No childs.\n",
    "            if root.left == None and root.right == None:\n",
    "                root = None\n",
    "                \n",
    "            # Case 2: One child\n",
    "            elif root.left == None and root.right != None :\n",
    "                root = root.right\n",
    "            elif root.right == None and root.left != None :\n",
    "                root = root.left\n",
    "                \n",
    "            # Case 3: 2 children\n",
    "            else:\n",
    "                minRoot = self.findMinNode(root.right)\n",
    "                root.val = minRoot.val\n",
    "                root.right = self.deleteNode(root.right,root.val)\n",
    "                \n",
    "        return root"
   ]
  }
 ],
 "metadata": {
  "kernelspec": {
   "display_name": "Python 3",
   "language": "python",
   "name": "python3"
  },
  "language_info": {
   "codemirror_mode": {
    "name": "ipython",
    "version": 3
   },
   "file_extension": ".py",
   "mimetype": "text/x-python",
   "name": "python",
   "nbconvert_exporter": "python",
   "pygments_lexer": "ipython3",
   "version": "3.6.2"
  }
 },
 "nbformat": 4,
 "nbformat_minor": 4
}
