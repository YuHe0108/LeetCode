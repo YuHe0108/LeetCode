{
 "cells": [
  {
   "cell_type": "raw",
   "metadata": {},
   "source": [
    "说明：\n",
    "    序列化是将数据结构或对象转换为位序列的过程，以便可以将其存储在文件或内存缓冲区中，\n",
    "    或者通过网络连接链接进行传输，以便稍后在相同或另一个计算机环境中进行重构。\n",
    "    设计一种算法来对二进制搜索树进行序列化和反序列化。\n",
    "    序列化/反序列化算法的工作方式没有任何限制。\n",
    "    您只需要确保可以将二进制搜索树序列化为字符串，并且可以将该字符串反序列化为原始树结构。\n",
    "    编码的字符串应尽可能紧凑。\n",
    "注意：\n",
    "    1、请勿使用类成员/全局/静态变量存储状态。\n",
    "    2、您的序列化和反序列化算法应该是无状态的。"
   ]
  },
  {
   "cell_type": "code",
   "execution_count": 37,
   "metadata": {},
   "outputs": [],
   "source": [
    "# 1、将binary search tree转换为字符串\n",
    "# 2、将其恢复为树\n",
    "class TreeNode:\n",
    "    def __init__(self, x):\n",
    "        self.val = x\n",
    "        self.left = None\n",
    "        self.right = None\n",
    "\n",
    "class Codec:\n",
    "\n",
    "    def serialize(self, root: TreeNode) -> str:\n",
    "        \"\"\"Encodes a tree to a single string.\n",
    "        \"\"\"\n",
    "        res = ''\n",
    "        if not root:\n",
    "            return res\n",
    "        nodes = [root]\n",
    "        while nodes:\n",
    "            n = nodes.pop(0)\n",
    "            if n:\n",
    "                val = '.' + str(n.val)\n",
    "                nodes.append(n.left)\n",
    "                nodes.append(n.right)\n",
    "            else:\n",
    "                val = '.#'\n",
    "            res += val\n",
    "        return res[1:]\n",
    "        \n",
    "\n",
    "    def deserialize(self, data: str) -> TreeNode:\n",
    "        \"\"\"Decodes your encoded data to tree.\n",
    "        \"\"\"\n",
    "        if not data: return None\n",
    "        vals = data.split('.')\n",
    "        root = TreeNode(int(vals[0]))\n",
    "        nodes = [root]\n",
    "        index = 1\n",
    "        while index < len(vals):\n",
    "            val = vals[index]\n",
    "            n = nodes.pop(0)\n",
    "\n",
    "            if val != '#':\n",
    "                n.left = TreeNode(int(val))\n",
    "                nodes.append(n.left)\n",
    "            index += 1\n",
    "            \n",
    "            val = vals[index]\n",
    "            if val != '#':\n",
    "                n.right = TreeNode(int(val))\n",
    "                nodes.append(n.right)\n",
    "            index += 1\n",
    "        return root            \n"
   ]
  },
  {
   "cell_type": "code",
   "execution_count": null,
   "metadata": {},
   "outputs": [],
   "source": []
  }
 ],
 "metadata": {
  "kernelspec": {
   "display_name": "Python 3",
   "language": "python",
   "name": "python3"
  },
  "language_info": {
   "codemirror_mode": {
    "name": "ipython",
    "version": 3
   },
   "file_extension": ".py",
   "mimetype": "text/x-python",
   "name": "python",
   "nbconvert_exporter": "python",
   "pygments_lexer": "ipython3",
   "version": "3.6.2"
  }
 },
 "nbformat": 4,
 "nbformat_minor": 4
}
