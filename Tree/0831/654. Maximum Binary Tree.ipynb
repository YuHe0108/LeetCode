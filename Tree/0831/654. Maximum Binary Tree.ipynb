{
 "cells": [
  {
   "cell_type": "raw",
   "metadata": {},
   "source": [
    "说明：\n",
    "    给定一个没有重复的整数数组。\n",
    "    在此阵列上建立的最大树定义如下：\n",
    "        1、根是阵列中的最大数目。\n",
    "        2、左子树是从左部分子数组构造的最大树除以最大数量。\n",
    "        3、右子树是从右部分子数组构造的最大树除以最大数量。\n",
    "        4、通过给定的数组构造最大树，并输出该树的根节点。"
   ]
  },
  {
   "cell_type": "code",
   "execution_count": 1,
   "metadata": {},
   "outputs": [],
   "source": [
    "class TreeNode:\n",
    "    def __init__(self, val=0, left=None, right=None):\n",
    "        self.val = val\n",
    "        self.left = left\n",
    "        self.right = right"
   ]
  },
  {
   "cell_type": "code",
   "execution_count": 3,
   "metadata": {},
   "outputs": [],
   "source": [
    "class Solution:\n",
    "    def constructMaximumBinaryTree(self, nums) -> TreeNode:\n",
    "        if not nums:\n",
    "            return None\n",
    "        root = TreeNode(max(nums))\n",
    "        idx = nums.index(max(nums))\n",
    "        l_nums = nums[:idx]\n",
    "        r_nums = nums[idx+1:]\n",
    "        self.helper(root, l_nums, r_nums)\n",
    "        return root\n",
    "        \n",
    "    \n",
    "    def helper(self, root, l_nums, r_nums):\n",
    "        if not l_nums and not r_nums:\n",
    "            return\n",
    "        if l_nums:\n",
    "            root.left = TreeNode(max(l_nums))\n",
    "            l_idx = l_nums.index(max(l_nums))\n",
    "            self.helper(root.left, l_nums[:l_idx], l_nums[l_idx+1:])\n",
    "        if r_nums:\n",
    "            root.right = TreeNode(max(r_nums))\n",
    "            r_idx = r_nums.index(max(r_nums))\n",
    "            self.helper(root.right, r_nums[:r_idx], r_nums[r_idx+1:])"
   ]
  },
  {
   "cell_type": "code",
   "execution_count": null,
   "metadata": {},
   "outputs": [],
   "source": []
  }
 ],
 "metadata": {
  "kernelspec": {
   "display_name": "Python 3",
   "language": "python",
   "name": "python3"
  },
  "language_info": {
   "codemirror_mode": {
    "name": "ipython",
    "version": 3
   },
   "file_extension": ".py",
   "mimetype": "text/x-python",
   "name": "python",
   "nbconvert_exporter": "python",
   "pygments_lexer": "ipython3",
   "version": "3.6.2"
  }
 },
 "nbformat": 4,
 "nbformat_minor": 4
}
