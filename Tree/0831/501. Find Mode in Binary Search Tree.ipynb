{
 "cells": [
  {
   "cell_type": "raw",
   "metadata": {},
   "source": [
    "说明：\n",
    "    给定具有重复项的二叉搜索树（BST），找到给定BST中的所有模式（最常出现的元素）。\n",
    "    假定BST定义如下：节点的左子树仅包含键小于或等于该节点的键的节点。节点的右子树仅包含键大于或等于节点的键的节点。\n",
    "    左子树和右子树都必须也是二进制搜索树。\n",
    "\n",
    "注意：\n",
    "    如果一棵树有多个模式，则可以按任何顺序返回它们。\n",
    "\n",
    "跟进：\n",
    "    1、您可以在不使用任何额外空间的情况下做到这一点吗？ \n",
    "    （假设由于递归导致的隐式堆栈空间不计算在内）。"
   ]
  },
  {
   "cell_type": "markdown",
   "metadata": {},
   "source": [
    "<img src='501.jpg' width=550>"
   ]
  },
  {
   "cell_type": "code",
   "execution_count": 3,
   "metadata": {},
   "outputs": [],
   "source": [
    "class TreeNode:\n",
    "    def __init__(self, val=0, left=None, right=None):\n",
    "        self.val = val\n",
    "        self.left = left\n",
    "        self.right = right"
   ]
  },
  {
   "cell_type": "code",
   "execution_count": 5,
   "metadata": {},
   "outputs": [],
   "source": [
    "class Solution:\n",
    "    def findMode(self, root: TreeNode):\n",
    "        if not root: return []\n",
    "        val_dict = {}\n",
    "        nodes = [root]\n",
    "        while nodes:\n",
    "            n = nodes.pop()\n",
    "            if n:\n",
    "                if n.val in val_dict:\n",
    "                    val_dict[n.val] += 1\n",
    "                else:\n",
    "                    val_dict[n.val] = 1\n",
    "                nodes.append(n.left)\n",
    "                nodes.append(n.right)\n",
    "        sort_val = sorted(val_dict.items(), key=lambda x: -x[1])\n",
    "        \n",
    "        max_val = sort_val[0][1]\n",
    "        res = [sort_val[0][0]]\n",
    "        for x in sort_val[1:]:\n",
    "            if x[1] == max_val:\n",
    "                res.append(x[0])\n",
    "        return res"
   ]
  },
  {
   "cell_type": "code",
   "execution_count": null,
   "metadata": {},
   "outputs": [],
   "source": []
  },
  {
   "cell_type": "code",
   "execution_count": null,
   "metadata": {},
   "outputs": [],
   "source": []
  }
 ],
 "metadata": {
  "kernelspec": {
   "display_name": "Python 3",
   "language": "python",
   "name": "python3"
  },
  "language_info": {
   "codemirror_mode": {
    "name": "ipython",
    "version": 3
   },
   "file_extension": ".py",
   "mimetype": "text/x-python",
   "name": "python",
   "nbconvert_exporter": "python",
   "pygments_lexer": "ipython3",
   "version": "3.6.2"
  }
 },
 "nbformat": 4,
 "nbformat_minor": 4
}
