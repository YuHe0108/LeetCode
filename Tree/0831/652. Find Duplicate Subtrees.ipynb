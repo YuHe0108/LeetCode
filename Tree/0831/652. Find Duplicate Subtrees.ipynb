{
 "cells": [
  {
   "cell_type": "raw",
   "metadata": {},
   "source": [
    "说明：\n",
    "    给定二叉树的根，返回所有重复的子树。\n",
    "    对于每种重复的子树，您只需要返回其中任何一个的根节点。\n",
    "    如果两棵树具有相同的结构和相同的节点值，则它们是重复的。"
   ]
  },
  {
   "cell_type": "markdown",
   "metadata": {},
   "source": [
    "<img src='652.jpg' width=550>\n",
    "<img src='652_1.jpg' width=550>"
   ]
  },
  {
   "cell_type": "raw",
   "metadata": {},
   "source": [
    "1、2->3 是相同的子树。\n",
    "2、节点3也是相同的子树。"
   ]
  },
  {
   "cell_type": "code",
   "execution_count": 1,
   "metadata": {},
   "outputs": [],
   "source": [
    "class TreeNode:\n",
    "    def __init__(self, val=0, left=None, right=None):\n",
    "        self.val = val\n",
    "        self.left = left\n",
    "        self.right = right"
   ]
  },
  {
   "cell_type": "code",
   "execution_count": 3,
   "metadata": {},
   "outputs": [],
   "source": [
    "# Definition for a binary tree node.\n",
    "# class TreeNode:\n",
    "#     def __init__(self, val=0, left=None, right=None):\n",
    "#         self.val = val\n",
    "#         self.left = left\n",
    "#         self.right = right\n",
    "class Solution:\n",
    "    def findDuplicateSubtrees(self, root: TreeNode):\n",
    "        self.res = {}\n",
    "        self.outputs = []\n",
    "        self.helper(root)\n",
    "        return self.outputs\n",
    "    \n",
    "    def helper(self, root):\n",
    "        str_root = self.serialize(root)\n",
    "        \n",
    "        if str_root not in self.res:\n",
    "            self.res[str_root] = 1\n",
    "        elif self.res[str_root] == 1:\n",
    "            self.res[str_root] += 1\n",
    "            self.outputs.append(root)\n",
    "            \n",
    "        if root.left:\n",
    "            self.helper(root.left)\n",
    "        if root.right:\n",
    "            self.helper(root.right)\n",
    "    \n",
    "    def serialize(self, root):\n",
    "        # 将树转换为 str，判断两个节点是否相同\n",
    "        res = ''\n",
    "        if not root:\n",
    "            return res\n",
    "        nodes = [root]\n",
    "        while nodes:\n",
    "            n = nodes.pop()\n",
    "            if n:\n",
    "                res += str(n.val)\n",
    "                nodes.append(n.left)\n",
    "                nodes.append(n.right)\n",
    "            else:\n",
    "                res += '#'\n",
    "        return res"
   ]
  },
  {
   "cell_type": "code",
   "execution_count": null,
   "metadata": {},
   "outputs": [],
   "source": []
  }
 ],
 "metadata": {
  "kernelspec": {
   "display_name": "Python 3",
   "language": "python",
   "name": "python3"
  },
  "language_info": {
   "codemirror_mode": {
    "name": "ipython",
    "version": 3
   },
   "file_extension": ".py",
   "mimetype": "text/x-python",
   "name": "python",
   "nbconvert_exporter": "python",
   "pygments_lexer": "ipython3",
   "version": "3.6.2"
  }
 },
 "nbformat": 4,
 "nbformat_minor": 4
}
