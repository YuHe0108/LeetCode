{
 "cells": [
  {
   "cell_type": "raw",
   "metadata": {},
   "source": [
    "说明：\n",
    "    给你一棵以 root 为根的二叉树，二叉树中的交错路径定义如下：\n",
    "        1、选择二叉树中 任意 节点和一个方向（左或者右）。\n",
    "        2、如果前进方向为右，那么移动到当前节点的的右子节点，否则移动到它的左子节点。\n",
    "        3、改变前进方向：左变右或者右变左。\n",
    "        4、重复第二步和第三步，直到你在树中无法继续移动。\n",
    "    交错路径的长度定义为：访问过的节点数目 - 1（单个节点的路径长度为 0 ）。\n",
    "    请你返回给定树中最长 交错路径 的长度。\n",
    "\n",
    "提示：\n",
    "    1、每棵树最多有 50000 个节点。\n",
    "    2、每个节点的值在 [1, 100] 之间。"
   ]
  },
  {
   "cell_type": "markdown",
   "metadata": {},
   "source": [
    "<img src='https://assets.leetcode-cn.com/aliyun-lc-upload/uploads/2020/03/07/sample_1_1702.png'>"
   ]
  },
  {
   "cell_type": "raw",
   "metadata": {},
   "source": [
    "输入：root = [1,null,1,1,1,null,null,1,1,null,1,null,null,null,1,null,1]\n",
    "输出：3\n",
    "解释：蓝色节点为树中最长交错路径（右 -> 左 -> 右）。"
   ]
  },
  {
   "cell_type": "code",
   "execution_count": null,
   "metadata": {},
   "outputs": [],
   "source": [
    "class Solution:\n",
    "    def longestZigZag(self, root: TreeNode) -> int:\n",
    "        if not root: return 0\n",
    "        if not (root.left or root.right): return 0\n",
    "        ans = 0\n",
    "        def r_calculate(node, which_child):\n",
    "            nonlocal ans\n",
    "            if not node: return 0\n",
    "            if not (node.left or node.right): return 1\n",
    "            left_val = r_calculate(node.left, 'left')\n",
    "            right_val = r_calculate(node.right, 'right')\n",
    "            if which_child == 'left':\n",
    "                current = right_val+1\n",
    "                ans = max(ans, current)\n",
    "                return current\n",
    "            elif which_child == 'right':\n",
    "                current = left_val+1\n",
    "                ans = max(ans, current)\n",
    "                return current\n",
    "            return\n",
    "        r_calculate(root, 'root')\n",
    "        return ans"
   ]
  },
  {
   "cell_type": "code",
   "execution_count": null,
   "metadata": {},
   "outputs": [],
   "source": [
    "class Solution:\n",
    "    def longestZigZag(self, root: TreeNode) -> int:\n",
    "        ans=0\n",
    "        def helper(root):\n",
    "            nonlocal ans\n",
    "            if root is None:\n",
    "                return (-1,-1)\n",
    "            l1,r1 = helper(root.left)\n",
    "            l2,r2 = helper(root.right)\n",
    "            ans = max(ans,max(r1+1,l2+1))\n",
    "            return (r1+1,l2+1)\n",
    "        helper(root)\n",
    "        return ans"
   ]
  }
 ],
 "metadata": {
  "kernelspec": {
   "display_name": "Python 3",
   "language": "python",
   "name": "python3"
  },
  "language_info": {
   "codemirror_mode": {
    "name": "ipython",
    "version": 3
   },
   "file_extension": ".py",
   "mimetype": "text/x-python",
   "name": "python",
   "nbconvert_exporter": "python",
   "pygments_lexer": "ipython3",
   "version": "3.6.2"
  }
 },
 "nbformat": 4,
 "nbformat_minor": 4
}
