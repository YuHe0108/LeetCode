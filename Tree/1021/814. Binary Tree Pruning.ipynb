{
 "cells": [
  {
   "cell_type": "raw",
   "metadata": {},
   "source": [
    "说明：\n",
    "    给定二叉树根结点 root ，此外树的每个结点的值要么是 0，要么是 1。\n",
    "    返回移除了所有不包含 1 的子树的原二叉树。\n",
    "    ( 节点 X 的子树为 X 本身，以及所有 X 的后代。)    "
   ]
  },
  {
   "cell_type": "raw",
   "metadata": {},
   "source": [
    "示例1:\n",
    "输入: [1,null,0,0,1]\n",
    "输出: [1,null,0,null,1]\n",
    " \n",
    "解释: \n",
    "    只有红色节点满足条件“所有不包含 1 的子树”。\n",
    "    右图为返回的答案。"
   ]
  },
  {
   "cell_type": "markdown",
   "metadata": {},
   "source": [
    "<img src='https://s3-lc-upload.s3.amazonaws.com/uploads/2018/04/06/1028_2.png' width=500>"
   ]
  },
  {
   "cell_type": "raw",
   "metadata": {},
   "source": [
    "示例2:\n",
    "    输入: [1,0,1,0,0,0,1]\n",
    "    输出: [1,null,1,null,1]"
   ]
  },
  {
   "cell_type": "markdown",
   "metadata": {},
   "source": [
    "<img src='https://s3-lc-upload.s3.amazonaws.com/uploads/2018/04/06/1028_1.png' width=550>"
   ]
  },
  {
   "cell_type": "raw",
   "metadata": {},
   "source": [
    "示例3:\n",
    "    输入: [1,1,0,1,1,0,1,0]\n",
    "    输出: [1,1,0,1,1,null,1]"
   ]
  },
  {
   "cell_type": "markdown",
   "metadata": {},
   "source": [
    "<img src='https://s3-lc-upload.s3.amazonaws.com/uploads/2018/04/05/1028.png'>"
   ]
  },
  {
   "cell_type": "raw",
   "metadata": {},
   "source": [
    "说明:\n",
    "    1、给定的二叉树最多有 100 个节点。\n",
    "    2、每个节点的值只会为 0 或 1 。"
   ]
  },
  {
   "cell_type": "code",
   "execution_count": null,
   "metadata": {},
   "outputs": [],
   "source": [
    "class Solution:\n",
    "    def pruneTree(self, root: TreeNode) -> TreeNode:\n",
    "        def help(node):\n",
    "            if node is None:\n",
    "                return None\n",
    "            node.left = help(node.left)\n",
    "            node.right = help(node.right)\n",
    "            if node.left is None and node.right is None and node.val == 0:\n",
    "                return None\n",
    "            return node\n",
    "        \n",
    "        return help(root)"
   ]
  }
 ],
 "metadata": {
  "kernelspec": {
   "display_name": "Python 3",
   "language": "python",
   "name": "python3"
  },
  "language_info": {
   "codemirror_mode": {
    "name": "ipython",
    "version": 3
   },
   "file_extension": ".py",
   "mimetype": "text/x-python",
   "name": "python",
   "nbconvert_exporter": "python",
   "pygments_lexer": "ipython3",
   "version": "3.6.2"
  }
 },
 "nbformat": 4,
 "nbformat_minor": 4
}
