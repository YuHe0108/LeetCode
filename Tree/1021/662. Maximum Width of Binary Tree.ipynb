{
 "cells": [
  {
   "cell_type": "raw",
   "metadata": {},
   "source": [
    "说明：\n",
    "    给定一个二叉树，编写一个函数来获取这个树的最大宽度。树的宽度是所有层中的最大宽度。\n",
    "    这个二叉树与满二叉树（full binary tree）结构相同，但一些节点为空。\n",
    "    每一层的宽度被定义为两个端点（该层最左和最右的非空节点，两端点间的null节点也计入长度）之间的长度。\n",
    "\n",
    "示例 1:\n",
    "    输入: \n",
    "\n",
    "               1\n",
    "             /   \\\n",
    "            3     2\n",
    "           / \\     \\  \n",
    "          5   3     9 \n",
    "\n",
    "    输出: 4\n",
    "    解释: 最大值出现在树的第 3 层，宽度为 4 (5,3,null,9)。\n",
    "\n",
    "示例 2:\n",
    "    输入: \n",
    "\n",
    "              1\n",
    "             /  \n",
    "            3    \n",
    "           / \\       \n",
    "          5   3     \n",
    "\n",
    "    输出: 2\n",
    "    解释: 最大值出现在树的第 3 层，宽度为 2 (5,3)。\n",
    "\n",
    "示例 3:\n",
    "    输入: \n",
    "\n",
    "              1\n",
    "             / \\\n",
    "            3   2 \n",
    "           /        \n",
    "          5      \n",
    "\n",
    "    输出: 2\n",
    "    解释: 最大值出现在树的第 2 层，宽度为 2 (3,2)。\n",
    "\n",
    "示例 4:\n",
    "    输入: \n",
    "\n",
    "              1\n",
    "             / \\\n",
    "            3   2\n",
    "           /     \\  \n",
    "          5       9 \n",
    "         /         \\\n",
    "        6           7\n",
    "    输出: 8\n",
    "    解释: 最大值出现在树的第 4 层，宽度为 8 (6,null,null,null,null,null,null,7)。\n",
    "\n",
    "注意: 答案在32位有符号整数的表示范围内。"
   ]
  },
  {
   "cell_type": "code",
   "execution_count": null,
   "metadata": {},
   "outputs": [],
   "source": []
  },
  {
   "cell_type": "code",
   "execution_count": null,
   "metadata": {},
   "outputs": [],
   "source": []
  },
  {
   "cell_type": "code",
   "execution_count": null,
   "metadata": {},
   "outputs": [],
   "source": []
  },
  {
   "cell_type": "code",
   "execution_count": null,
   "metadata": {},
   "outputs": [],
   "source": []
  },
  {
   "cell_type": "code",
   "execution_count": null,
   "metadata": {},
   "outputs": [],
   "source": []
  },
  {
   "cell_type": "code",
   "execution_count": null,
   "metadata": {},
   "outputs": [],
   "source": []
  },
  {
   "cell_type": "code",
   "execution_count": null,
   "metadata": {},
   "outputs": [],
   "source": []
  },
  {
   "cell_type": "code",
   "execution_count": null,
   "metadata": {},
   "outputs": [],
   "source": []
  },
  {
   "cell_type": "code",
   "execution_count": null,
   "metadata": {},
   "outputs": [],
   "source": []
  },
  {
   "cell_type": "code",
   "execution_count": null,
   "metadata": {},
   "outputs": [],
   "source": []
  },
  {
   "cell_type": "code",
   "execution_count": null,
   "metadata": {},
   "outputs": [],
   "source": []
  },
  {
   "cell_type": "code",
   "execution_count": null,
   "metadata": {},
   "outputs": [],
   "source": []
  },
  {
   "cell_type": "code",
   "execution_count": 1,
   "metadata": {},
   "outputs": [],
   "source": [
    "def check_width(vals):\n",
    "    l_idx, r_idx = 0, len(vals) - 1\n",
    "    ans = 1\n",
    "    while l_idx <= r_idx:\n",
    "        if vals[r_idx] == '#':\n",
    "            r_idx -= 1\n",
    "        if vals[l_idx] == '#':\n",
    "            l_idx += 1\n",
    "        if vals[r_idx] != '#' and vals[l_idx] != '#':\n",
    "            ans = max(ans, r_idx - l_idx + 1)\n",
    "            break\n",
    "    return ans"
   ]
  },
  {
   "cell_type": "code",
   "execution_count": 4,
   "metadata": {},
   "outputs": [
    {
     "data": {
      "text/plain": [
       "1"
      ]
     },
     "execution_count": 4,
     "metadata": {},
     "output_type": "execute_result"
    }
   ],
   "source": [
    "check_width(['#', '#', '2', '#'])"
   ]
  },
  {
   "cell_type": "code",
   "execution_count": null,
   "metadata": {},
   "outputs": [],
   "source": [
    "# Definition for a binary tree node.\n",
    "# class TreeNode:\n",
    "#     def __init__(self, val=0, left=None, right=None):\n",
    "#         self.val = val\n",
    "#         self.left = left\n",
    "#         self.right = right\n",
    "class Solution:\n",
    "    def widthOfBinaryTree(self, root: TreeNode) -> int:\n",
    "        if not root.left and not root.right:\n",
    "            return 1\n",
    "        nodes = [root]\n",
    "        all_paths = []\n",
    "        while nodes:\n",
    "            new_nodes, path = [], []\n",
    "            for node in nodes:\n",
    "                if node:\n",
    "                    path.append(node.val)\n",
    "                    new_nodes.append(node.left)\n",
    "                    new_nodes.append(node.right)\n",
    "                else:\n",
    "                    new_nodes.append(None)\n",
    "                    new_nodes.append(None)\n",
    "                    path.append('#')\n",
    "            if set(path) == {'#'}:\n",
    "                break\n",
    "            nodes = new_nodes\n",
    "            all_paths.append(path[:])\n",
    "        print(all_paths)\n",
    "        max_width = 1\n",
    "        return max_width\n",
    "    \n",
    "    # def get_depth(self, root):\n",
    "    #     depth = -1\n",
    "    #     nodes = [root]\n",
    "    #     while nodes:\n",
    "    #         new_nodes = []\n",
    "    #         for node in nodes:\n",
    "    #             if node:\n",
    "    #                 new_nodes.append(node.left)\n",
    "    #                 new_nodes.append(node.right)\n",
    "    #         depth += 1\n",
    "    #         nodes = new_nodes\n",
    "    #     return depth\n",
    "        \n",
    "    \n",
    "    def check_width(self, vals):\n",
    "        l_idx, r_idx = 0, len(vals) - 1\n",
    "        ans = 1\n",
    "        while l_idx <= r_idx:\n",
    "            if vals[r_idx] == '#':\n",
    "                r_idx -= 1\n",
    "            if vals[l_idx] == '#':\n",
    "                l_idx += 1\n",
    "            if vals[r_idx] != '#' and vals[l_idx] != '#':\n",
    "                ans = max(ans, r_idx - l_idx + 1)\n",
    "                break\n",
    "        return ans\n",
    "        "
   ]
  },
  {
   "cell_type": "code",
   "execution_count": null,
   "metadata": {},
   "outputs": [],
   "source": []
  },
  {
   "cell_type": "code",
   "execution_count": null,
   "metadata": {},
   "outputs": [],
   "source": []
  },
  {
   "cell_type": "code",
   "execution_count": null,
   "metadata": {},
   "outputs": [],
   "source": [
    "class Solution:\n",
    "    def widthOfBinaryTree(self, root: TreeNode) -> int:\n",
    "        self.depth = self.maxDepth(root)\n",
    "        nodes = [root]\n",
    "        max_width = 0\n",
    "        for i in range(self.depth):\n",
    "            new_nodes, vals = [], []\n",
    "            for node in nodes:\n",
    "                if node:\n",
    "                    vals.append(node.val)\n",
    "                    new_nodes.append(node.left)\n",
    "                    new_nodes.append(node.right)\n",
    "                else:\n",
    "                    vals.append('#')\n",
    "                    new_nodes.append(None)\n",
    "                    new_nodes.append(None)\n",
    "            nodes = new_nodes\n",
    "            max_width = max(max_width, self.check_width(vals[:]))\n",
    "        return max_width\n",
    "        \n",
    "    def maxDepth(self, root):\n",
    "        if not root: return 0\n",
    "        return max(self.maxDepth(root.left), self.maxDepth(root.right)) + 1\n",
    "    \n",
    "    def check_width(self, vals):\n",
    "        l_idx, r_idx = 0, len(vals) - 1\n",
    "        ans = 1\n",
    "        while l_idx <= r_idx:\n",
    "            if vals[r_idx] == '#':\n",
    "                r_idx -= 1\n",
    "            if vals[l_idx] == '#':\n",
    "                l_idx += 1\n",
    "            if vals[r_idx] != '#' and vals[l_idx] != '#':\n",
    "                ans = max(ans, r_idx - l_idx + 1)\n",
    "                break\n",
    "        return ans"
   ]
  },
  {
   "cell_type": "code",
   "execution_count": null,
   "metadata": {},
   "outputs": [],
   "source": []
  },
  {
   "cell_type": "code",
   "execution_count": null,
   "metadata": {},
   "outputs": [],
   "source": []
  },
  {
   "cell_type": "code",
   "execution_count": null,
   "metadata": {},
   "outputs": [],
   "source": [
    "from collections import deque\n",
    "\n",
    "class Solution:\n",
    "    def widthOfBinaryTree(self, root: TreeNode) -> int:\n",
    "        queue = deque([root.val, 0])\n",
    "        print(queue)\n",
    "        ans = 0\n",
    "        while queue:\n",
    "            val, idx = deque.popleft(queue)"
   ]
  },
  {
   "cell_type": "code",
   "execution_count": 21,
   "metadata": {},
   "outputs": [],
   "source": [
    "from collections import deque\n",
    "root = 2\n",
    "queue = deque([(root, 0)])"
   ]
  },
  {
   "cell_type": "code",
   "execution_count": 22,
   "metadata": {},
   "outputs": [
    {
     "data": {
      "text/plain": [
       "deque([(2, 0)])"
      ]
     },
     "execution_count": 22,
     "metadata": {},
     "output_type": "execute_result"
    }
   ],
   "source": [
    "queue"
   ]
  },
  {
   "cell_type": "code",
   "execution_count": 23,
   "metadata": {},
   "outputs": [
    {
     "data": {
      "text/plain": [
       "(2, 0)"
      ]
     },
     "execution_count": 23,
     "metadata": {},
     "output_type": "execute_result"
    }
   ],
   "source": [
    "queue[0]"
   ]
  },
  {
   "cell_type": "code",
   "execution_count": null,
   "metadata": {},
   "outputs": [],
   "source": [
    "from collections import deque\n",
    "\n",
    "class Solution:\n",
    "    def widthOfBinaryTree(self, root: TreeNode) -> int:\n",
    "        queue = deque([(root, 0)])\n",
    "        ans = 0\n",
    "        while queue:\n",
    "            ans = max(ans, queue[-1][-1] - queue[0][-1] + 1) \n",
    "            for _ in range(len(queue)):\n",
    "                node, idx = queue.popleft()\n",
    "                if node.left:\n",
    "                    queue.append((node.left, idx*2))\n",
    "                if node.right:\n",
    "                    queue.append((node.right, idx*2+1))\n",
    "        return ans\n",
    "        "
   ]
  }
 ],
 "metadata": {
  "kernelspec": {
   "display_name": "Python 3",
   "language": "python",
   "name": "python3"
  },
  "language_info": {
   "codemirror_mode": {
    "name": "ipython",
    "version": 3
   },
   "file_extension": ".py",
   "mimetype": "text/x-python",
   "name": "python",
   "nbconvert_exporter": "python",
   "pygments_lexer": "ipython3",
   "version": "3.6.2"
  }
 },
 "nbformat": 4,
 "nbformat_minor": 4
}
