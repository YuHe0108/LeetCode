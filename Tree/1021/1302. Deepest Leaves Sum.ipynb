{
 "cells": [
  {
   "cell_type": "raw",
   "metadata": {},
   "source": [
    "说明:    \n",
    "    给你一棵二叉树，请你返回层数最深的叶子节点的和。\n",
    "    "
   ]
  },
  {
   "cell_type": "markdown",
   "metadata": {},
   "source": [
    "<img src='https://assets.leetcode-cn.com/aliyun-lc-upload/uploads/2019/12/28/1483_ex1.png'>"
   ]
  },
  {
   "cell_type": "raw",
   "metadata": {},
   "source": [
    "输入：root = [1,2,3,4,5,null,6,7,null,null,null,null,8]\n",
    "输出：15\n",
    "\n",
    "提示：\n",
    "    1、树中节点数目在 1 到 10^4 之间。\n",
    "    2、每个节点的值在 1 到 100 之间。"
   ]
  },
  {
   "cell_type": "code",
   "execution_count": null,
   "metadata": {},
   "outputs": [],
   "source": [
    "class Solution:\n",
    "    def deepestLeavesSum(self, root: TreeNode) -> int:\n",
    "        nodes, all_paths = [root], []\n",
    "        while nodes:\n",
    "            new_nodes, path = [], []\n",
    "            for n in nodes:\n",
    "                if n:\n",
    "                    path.append(n.val)\n",
    "                    if n.left:\n",
    "                        new_nodes.append(n.left)\n",
    "                    if n.right:\n",
    "                        new_nodes.append(n.right)\n",
    "            nodes = new_nodes\n",
    "            all_paths.append(path[:])\n",
    "        return sum(all_paths[-1])\n",
    "                    \n",
    "        "
   ]
  }
 ],
 "metadata": {
  "kernelspec": {
   "display_name": "Python 3",
   "language": "python",
   "name": "python3"
  },
  "language_info": {
   "codemirror_mode": {
    "name": "ipython",
    "version": 3
   },
   "file_extension": ".py",
   "mimetype": "text/x-python",
   "name": "python",
   "nbconvert_exporter": "python",
   "pygments_lexer": "ipython3",
   "version": "3.6.2"
  }
 },
 "nbformat": 4,
 "nbformat_minor": 4
}
