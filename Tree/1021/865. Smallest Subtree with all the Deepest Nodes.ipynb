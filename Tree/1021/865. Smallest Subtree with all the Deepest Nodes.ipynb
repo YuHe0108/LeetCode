{
 "cells": [
  {
   "cell_type": "raw",
   "metadata": {},
   "source": [
    "睡哦名：\n",
    "    给定一个根为 root 的二叉树，每个节点的深度是 该节点到根的最短距离 。\n",
    "    如果一个节点在 整个树 的任意节点之间具有最大的深度，则该节点是 最深的 。\n",
    "    一个节点的 子树 是该节点加上它的所有后代的集合。\n",
    "    返回能满足 以该节点为根的子树中包含所有最深的节点 这一条件的具有最大深度的节点。\n",
    "\n",
    "提示：\n",
    "    1、树中节点的数量介于 1 和 500 之间。\n",
    "    2、1<= Node.val <= 500\n",
    "    3、每个节点的值都是独一无二的。"
   ]
  },
  {
   "cell_type": "markdown",
   "metadata": {},
   "source": [
    "<img src='https://s3-lc-upload.s3.amazonaws.com/uploads/2018/07/01/sketch1.png' width=500>"
   ]
  },
  {
   "cell_type": "raw",
   "metadata": {},
   "source": [
    "输入：root = [3,5,1,6,2,0,8,null,null,7,4]\n",
    "输出：[2,7,4]\n",
    "解释：\n",
    "    我们返回值为 2 的节点，在图中用黄色标记。\n",
    "    在图中用蓝色标记的是树的最深的节点。\n",
    "    注意，节点 5、3 和 2 包含树中最深的节点，但节点 2 的子树最小，因此我们返回它。"
   ]
  },
  {
   "cell_type": "code",
   "execution_count": null,
   "metadata": {},
   "outputs": [],
   "source": []
  }
 ],
 "metadata": {
  "kernelspec": {
   "display_name": "Python 3",
   "language": "python",
   "name": "python3"
  },
  "language_info": {
   "codemirror_mode": {
    "name": "ipython",
    "version": 3
   },
   "file_extension": ".py",
   "mimetype": "text/x-python",
   "name": "python",
   "nbconvert_exporter": "python",
   "pygments_lexer": "ipython3",
   "version": "3.6.2"
  }
 },
 "nbformat": 4,
 "nbformat_minor": 4
}
