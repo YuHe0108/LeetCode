{
 "cells": [
  {
   "cell_type": "raw",
   "metadata": {},
   "source": [
    "说明：\n",
    "    返回与给定前序遍历 preorder 相匹配的二叉搜索树（binary search tree）的根结点。\n",
    "    (回想一下，二叉搜索树是二叉树的一种，其每个节点都满足以下规则，对于 node.left 的任何后代，值总 < node.val，\n",
    "    而 node.right 的任何后代，值总 > node.val。\n",
    "    此外，前序遍历首先显示节点 node 的值，然后遍历 node.left，接着遍历 node.right。）\n",
    "    题目保证，对于给定的测试用例，总能找到满足要求的二叉搜索树。\n",
    "\n",
    "示例：\n",
    "    输入：[8,5,1,7,10,12]\n",
    "    输出：[8,5,10,1,7,null,12]\n",
    "提示：\n",
    "    1、1 <= preorder.length <= 100\n",
    "    2、1 <= preorder[i] <= 10^8\n",
    "    3、preorder 中的值互不相同"
   ]
  },
  {
   "cell_type": "markdown",
   "metadata": {},
   "source": [
    "<img src='https://assets.leetcode-cn.com/aliyun-lc-upload/uploads/2019/03/08/1266.png'>"
   ]
  },
  {
   "cell_type": "code",
   "execution_count": null,
   "metadata": {},
   "outputs": [],
   "source": [
    "# Definition for a binary tree node.\n",
    "# class TreeNode:\n",
    "#     def __init__(self, val=0, left=None, right=None):\n",
    "#         self.val = val\n",
    "#         self.left = left\n",
    "#         self.right = right\n",
    "class Solution:\n",
    "    def bstFromPreorder(self, preorder: List[int]) -> TreeNode:\n",
    "        \n",
    "        def helper(low, high):\n",
    "            nonlocal idx\n",
    "            if idx == N: return None\n",
    "            val = preorder[idx]\n",
    "            if val < low or val > high:\n",
    "                return None\n",
    "            idx += 1\n",
    "            cur_node = TreeNode(val)\n",
    "            cur_node.left = helper(low, val)\n",
    "            cur_node.right = helper(val, high)\n",
    "            return cur_node\n",
    "        \n",
    "        idx = 0\n",
    "        N = len(preorder)\n",
    "        return helper(-float('inf'), float('inf'))"
   ]
  },
  {
   "cell_type": "code",
   "execution_count": null,
   "metadata": {},
   "outputs": [],
   "source": [
    "class Solution:\n",
    "    def bstFromPreorder(self, preorder: List[int]) -> TreeNode:\n",
    "        \n",
    "        def helper(low, high):\n",
    "            nonlocal idx\n",
    "            if idx == N:return None\n",
    "            val = preorder[idx]\n",
    "            if val < low or val > high:\n",
    "                return None\n",
    "            idx += 1\n",
    "            node = TreeNode(val)\n",
    "            node.left = helper(low, val)\n",
    "            node.right = helper(val, high)\n",
    "            return node\n",
    "        \n",
    "        idx, N = 0, len(preorder)\n",
    "        return helper(-float('inf'), float('inf'))"
   ]
  }
 ],
 "metadata": {
  "kernelspec": {
   "display_name": "Python 3",
   "language": "python",
   "name": "python3"
  },
  "language_info": {
   "codemirror_mode": {
    "name": "ipython",
    "version": 3
   },
   "file_extension": ".py",
   "mimetype": "text/x-python",
   "name": "python",
   "nbconvert_exporter": "python",
   "pygments_lexer": "ipython3",
   "version": "3.6.2"
  }
 },
 "nbformat": 4,
 "nbformat_minor": 4
}
