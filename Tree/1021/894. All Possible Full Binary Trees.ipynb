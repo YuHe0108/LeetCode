{
 "cells": [
  {
   "cell_type": "raw",
   "metadata": {},
   "source": [
    "说明：\n",
    "    满二叉树是一类二叉树，其中每个结点恰好有 0 或 2 个子结点。\n",
    "    返回包含 N 个结点的所有可能满二叉树的列表。 \n",
    "    答案的每个元素都是一个可能树的根结点。\n",
    "    答案中每个树的每个结点都必须有 node.val=0。\n",
    "    你可以按任何顺序返回树的最终列表。\n",
    "\n",
    "使用 N 个节点能够构成多少个满二叉树，将结果返回\n",
    "\n",
    "提示：\n",
    "    1、1 <= N <= 20\n",
    "\n",
    "输入：7\n",
    "输出：[[0,0,0,null,null,0,0,null,null,0,0],\n",
    "      [0,0,0,null,null,0,0,0,0],\n",
    "      [0,0,0,0,0,0,0],\n",
    "      [0,0,0,0,0,null,null,null,null,0,0],\n",
    "      [0,0,0,0,0,null,null,0,0]]"
   ]
  },
  {
   "cell_type": "markdown",
   "metadata": {},
   "source": [
    "<img src='https://aliyun-lc-upload.oss-cn-hangzhou.aliyuncs.com/aliyun-lc-upload/uploads/2018/08/24/fivetrees.png'>"
   ]
  },
  {
   "cell_type": "code",
   "execution_count": null,
   "metadata": {},
   "outputs": [],
   "source": [
    "# Definition for a binary tree node.\n",
    "# class TreeNode:\n",
    "#     def __init__(self, val=0, left=None, right=None):\n",
    "#         self.val = val\n",
    "#         self.left = left\n",
    "#         self.right = right\n",
    "\n",
    "mem = {1:TreeNode(0), 2:[]}\n",
    "class Solution:\n",
    "    def allPossibleFBT(self, N: int) -> List[TreeNode]:\n",
    "        if N in mem:\n",
    "            return mem[N]\n",
    "        trees = []\n",
    "        l_size = 1\n",
    "        r_size = N - 1 - l_size\n",
    "        while r_size >= 1:\n",
    "            for l in self.allPossibleFBT(l_size):\n",
    "                for r in self.allPossibleFBT(r_size):\n",
    "                    root = TreeNode(0)\n",
    "                    root.left = l\n",
    "                    root.right = r\n",
    "                    trees.append(root)\n",
    "            l_size += 2\n",
    "            r_size = N - 1 - l_size\n",
    "        mem[N] = trees\n",
    "        return trees"
   ]
  }
 ],
 "metadata": {
  "kernelspec": {
   "display_name": "Python 3",
   "language": "python",
   "name": "python3"
  },
  "language_info": {
   "codemirror_mode": {
    "name": "ipython",
    "version": 3
   },
   "file_extension": ".py",
   "mimetype": "text/x-python",
   "name": "python",
   "nbconvert_exporter": "python",
   "pygments_lexer": "ipython3",
   "version": "3.6.2"
  }
 },
 "nbformat": 4,
 "nbformat_minor": 4
}
