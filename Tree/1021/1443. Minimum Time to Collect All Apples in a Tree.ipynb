{
 "cells": [
  {
   "cell_type": "raw",
   "metadata": {},
   "source": [
    "说明：\n",
    "    给你一棵有 n 个节点的无向树，节点编号为 0 到 n-1 ，它们中有一些节点有苹果。\n",
    "    通过树上的一条边，需要花费 1 秒钟。\n",
    "    你从 节点 0 出发，请你返回最少需要多少秒，可以收集到所有苹果，并回到节点 0 。\n",
    "    无向树的边由 edges 给出，其中 edges[i] = [fromi, toi] ，表示有一条边连接 from 和 toi 。\n",
    "    除此以外，还有一个布尔数组 hasApple ，其中 hasApple[i] = true 代表节点 i 有一个苹果，否则，节点 i 没有苹果。\n",
    "\n",
    "提示：\n",
    "1、1 <= n <= 10^5\n",
    "    2、edges.length == n-1\n",
    "    3、edges[i].length == 2\n",
    "    4、0 <= fromi, toi <= n-1\n",
    "    5、fromi < toi\n",
    "    6、hasApple.length == n"
   ]
  },
  {
   "cell_type": "code",
   "execution_count": null,
   "metadata": {},
   "outputs": [],
   "source": []
  },
  {
   "cell_type": "markdown",
   "metadata": {},
   "source": [
    "<img src='https://assets.leetcode-cn.com/aliyun-lc-upload/uploads/2020/05/10/min_time_collect_apple_1.png'>"
   ]
  },
  {
   "cell_type": "raw",
   "metadata": {},
   "source": [
    "例1：\n",
    "    输入：n = 7, edges = [[0,1],[0,2],[1,4],[1,5],[2,3],[2,6]], hasApple = [false,false,true,false,true,true,false]\n",
    "    输出：8 \n",
    "    解释：上图展示了给定的树，其中红色节点表示有苹果。一个能收集到所有苹果的最优方案由绿色箭头表示。"
   ]
  },
  {
   "cell_type": "code",
   "execution_count": null,
   "metadata": {},
   "outputs": [],
   "source": [
    "class Solution:\n",
    "    def minTime(self, n: int, edges: List[List[int]], hasApple: List[bool]) -> int:\n",
    "        routes = collections.defaultdict(list) # use dictionary to store all possible routes from every node\n",
    "        for u,v in edges:\n",
    "            routes[u].append(v)\n",
    "            \n",
    "        def dfs(node: int) -> int:\n",
    "            cost = 0\n",
    "            for child in routes[node]:\n",
    "                cost += dfs(child)\n",
    "            if cost or hasApple[node]:\n",
    "                return cost+1\n",
    "            return 0\n",
    "            \n",
    "        res = dfs(0)\n",
    "        return 2*(res-1) if res else 0 # -1 to offset +1 from vertex '0' travel to which is free"
   ]
  },
  {
   "cell_type": "code",
   "execution_count": null,
   "metadata": {},
   "outputs": [],
   "source": []
  },
  {
   "cell_type": "code",
   "execution_count": 2,
   "metadata": {},
   "outputs": [],
   "source": [
    "class Solution:\n",
    "    def minTime(self, n: int, edges, hasApple) -> int:\n",
    "        graph = collections.defaultdict(list) \n",
    "        for u,v in edges:\n",
    "            graph[u].append(v)\n",
    "        \n",
    "        def dfs(node):\n",
    "            cost = 0\n",
    "            for child in graph[node]:\n",
    "                cost += dfs(child)\n",
    "            if cost or hasApple[node]:\n",
    "                return cost + 1\n",
    "            return 0\n",
    "        \n",
    "        res = dfs(0)\n",
    "        return 2 * (res - 1) if res else 0"
   ]
  },
  {
   "cell_type": "markdown",
   "metadata": {},
   "source": [
    "<img src='https://assets.leetcode-cn.com/aliyun-lc-upload/uploads/2020/05/10/min_time_collect_apple_1.png'>"
   ]
  },
  {
   "cell_type": "code",
   "execution_count": null,
   "metadata": {},
   "outputs": [],
   "source": [
    "class Solution:\n",
    "    def minTime(self, n: int, edges: List[List[int]], hasApple: List[bool]) -> int:\n",
    "        def dfs(node):\n",
    "            tmp = 0\n",
    "            for v in edge[node]:\n",
    "                t, apple = dfs(v)\n",
    "                tmp += t + int(apple)\n",
    "            return tmp, (tmp > 0) or hasApple[node]\n",
    "        edge = defaultdict(list)\n",
    "        for x, y in edges:\n",
    "            edge[x].append(y)\n",
    "        return dfs(0)[0] * 2"
   ]
  },
  {
   "cell_type": "code",
   "execution_count": null,
   "metadata": {},
   "outputs": [],
   "source": [
    "def dfs(node):\n",
    "    temp = 0\n",
    "    for child in graph[node]:\n",
    "        t, a = dfs(child)\n",
    "        temp += t + int(apple)\n",
    "    return temp, temp > 0 and hasApple[node]"
   ]
  },
  {
   "cell_type": "markdown",
   "metadata": {},
   "source": [
    "<img src='1433.jpg'>"
   ]
  },
  {
   "cell_type": "code",
   "execution_count": 3,
   "metadata": {},
   "outputs": [],
   "source": [
    "a = []\n",
    "for i in a:\n",
    "    print(i)"
   ]
  },
  {
   "cell_type": "code",
   "execution_count": null,
   "metadata": {},
   "outputs": [],
   "source": []
  }
 ],
 "metadata": {
  "kernelspec": {
   "display_name": "Python 3",
   "language": "python",
   "name": "python3"
  },
  "language_info": {
   "codemirror_mode": {
    "name": "ipython",
    "version": 3
   },
   "file_extension": ".py",
   "mimetype": "text/x-python",
   "name": "python",
   "nbconvert_exporter": "python",
   "pygments_lexer": "ipython3",
   "version": "3.6.2"
  }
 },
 "nbformat": 4,
 "nbformat_minor": 4
}
