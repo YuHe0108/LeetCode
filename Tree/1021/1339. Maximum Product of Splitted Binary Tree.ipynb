{
 "cells": [
  {
   "cell_type": "raw",
   "metadata": {},
   "source": [
    "说明：\n",
    "    给你一棵二叉树，它的根为 root 。\n",
    "    请你删除 1 条边，使二叉树分裂成两棵子树，且它们子树和的乘积尽可能大。\n",
    "    由于答案可能会很大，请你将结果对 10^9 + 7 取模后再返回。\n",
    "\n",
    "提示：\n",
    "    1、每棵树最多有 50000 个节点，且至少有 2 个节点。\n",
    "    2、每个节点的值在 [1, 10000] 之间。\n",
    "\n",
    "例1：\n",
    "    输入：root = [1,2,3,4,5,6]\n",
    "    输出：110\n",
    "    解释：删除红色的边，得到 2 棵子树，和分别为 11 和 10 。它们的乘积是 110 （11*10）\n",
    "    sum_tree_node_vals = [4, 5, 11, 6, 9, 21]"
   ]
  },
  {
   "cell_type": "markdown",
   "metadata": {},
   "source": [
    "<img src='https://assets.leetcode-cn.com/aliyun-lc-upload/uploads/2020/02/02/sample_1_1699.png'>"
   ]
  },
  {
   "cell_type": "code",
   "execution_count": null,
   "metadata": {},
   "outputs": [],
   "source": [
    "class Solution:\n",
    "    def maxProduct(self, R: TreeNode) -> int:\n",
    "        vals, M = [], pow(10, 9) + 7\n",
    "        \n",
    "        def sum_tree(node):\n",
    "            if not node: \n",
    "                return 0\n",
    "            vals.append(node.val + sum_tree(node.left) + sum_tree(node.right))\n",
    "            return vals[-1]\n",
    "        \n",
    "        sum_tree(R)\n",
    "        vals.sort()\n",
    "        max_val = vals[-1]\n",
    "        for i, val in enumerate(vals):\n",
    "            if val >= max_val // 2: \n",
    "                return max(vals[i-1] * (max_val - vals[i-1]), vals[i] * (max_val - vals[i])) % M\n",
    "        \n",
    "        "
   ]
  },
  {
   "cell_type": "code",
   "execution_count": null,
   "metadata": {},
   "outputs": [],
   "source": [
    "class Solution:\n",
    "    def maxProduct(self, R: TreeNode) -> int:\n",
    "        SN, M = [], 10**9 + 7\n",
    "        def SumTree(R):\n",
    "            if R == None: return 0\n",
    "            SN.append(R.val + SumTree(R.left) + SumTree(R.right))\n",
    "            return SN[-1]\n",
    "        SumTree(R)\n",
    "        S, _ = SN[-1], SN.sort()\n",
    "        for i,s in enumerate(SN):\n",
    "            if s >= S//2: return max(SN[i-1]*(S-SN[i-1]), SN[i]*(S-SN[i])) % M"
   ]
  },
  {
   "cell_type": "code",
   "execution_count": null,
   "metadata": {},
   "outputs": [],
   "source": []
  }
 ],
 "metadata": {
  "kernelspec": {
   "display_name": "Python 3",
   "language": "python",
   "name": "python3"
  },
  "language_info": {
   "codemirror_mode": {
    "name": "ipython",
    "version": 3
   },
   "file_extension": ".py",
   "mimetype": "text/x-python",
   "name": "python",
   "nbconvert_exporter": "python",
   "pygments_lexer": "ipython3",
   "version": "3.6.2"
  }
 },
 "nbformat": 4,
 "nbformat_minor": 4
}
