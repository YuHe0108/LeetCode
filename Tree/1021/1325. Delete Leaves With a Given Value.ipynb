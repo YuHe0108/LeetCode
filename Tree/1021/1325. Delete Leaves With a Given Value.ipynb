{
 "cells": [
  {
   "cell_type": "raw",
   "metadata": {},
   "source": [
    "说明：\n",
    "    给你一棵以 root 为根的二叉树和一个整数 target ，请你删除所有值为 target 的 叶子节点 。\n",
    "    注意，一旦删除值为 target 的叶子节点，它的父节点就可能变成叶子节点；\n",
    "    如果新叶子节点的值恰好也是 target ，那么这个节点也应该被删除。\n",
    "    也就是说，你需要重复此过程直到不能继续删除。    \n",
    "\n",
    "提示：\n",
    "    1、1 <= target <= 1000\n",
    "    2、每一棵树最多有 3000 个节点。\n",
    "    3、每一个节点值的范围是 [1, 1000] 。"
   ]
  },
  {
   "cell_type": "markdown",
   "metadata": {},
   "source": [
    "<img src='https://assets.leetcode-cn.com/aliyun-lc-upload/uploads/2020/01/16/sample_1_1684.png' width=600>"
   ]
  },
  {
   "cell_type": "raw",
   "metadata": {},
   "source": [
    "输入：root = [1,2,3,2,null,2,4], target = 2\n",
    "输出：[1,null,3,null,4]\n",
    "解释：\n",
    "    上面左边的图中，绿色节点为叶子节点，且它们的值与 target 相同（同为 2 ），它们会被删除，得到中间的图。\n",
    "    有一个新的节点变成了叶子节点且它的值与 target 相同，所以将再次进行删除，从而得到最右边的图。"
   ]
  },
  {
   "cell_type": "code",
   "execution_count": 2,
   "metadata": {},
   "outputs": [],
   "source": [
    "# 与814几乎一样\n",
    "class Solution:\n",
    "    def removeLeafNodes(self, root, target: int):\n",
    "        def helper(node):\n",
    "            if not node:\n",
    "                return None\n",
    "            node.left = helper(node.left)\n",
    "            node.right = helper(node.right)\n",
    "            if not node.left and not node.right and node.val == target:\n",
    "                return None\n",
    "            return node\n",
    "        return helper(root)"
   ]
  },
  {
   "cell_type": "code",
   "execution_count": null,
   "metadata": {},
   "outputs": [],
   "source": []
  }
 ],
 "metadata": {
  "kernelspec": {
   "display_name": "Python 3",
   "language": "python",
   "name": "python3"
  },
  "language_info": {
   "codemirror_mode": {
    "name": "ipython",
    "version": 3
   },
   "file_extension": ".py",
   "mimetype": "text/x-python",
   "name": "python",
   "nbconvert_exporter": "python",
   "pygments_lexer": "ipython3",
   "version": "3.6.2"
  }
 },
 "nbformat": 4,
 "nbformat_minor": 4
}
