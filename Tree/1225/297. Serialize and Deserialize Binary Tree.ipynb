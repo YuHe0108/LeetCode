{
 "cells": [
  {
   "cell_type": "code",
   "execution_count": null,
   "metadata": {},
   "outputs": [],
   "source": []
  },
  {
   "cell_type": "code",
   "execution_count": null,
   "metadata": {},
   "outputs": [],
   "source": []
  },
  {
   "cell_type": "code",
   "execution_count": null,
   "metadata": {},
   "outputs": [],
   "source": []
  },
  {
   "cell_type": "code",
   "execution_count": null,
   "metadata": {},
   "outputs": [],
   "source": []
  },
  {
   "cell_type": "markdown",
   "metadata": {},
   "source": [
    "### 1、采用了BFS的方法"
   ]
  },
  {
   "cell_type": "code",
   "execution_count": null,
   "metadata": {},
   "outputs": [],
   "source": [
    "# Definition for a binary tree node.\n",
    "# class TreeNode(object):\n",
    "#     def __init__(self, x):\n",
    "#         self.val = x\n",
    "#         self.left = None\n",
    "#         self.right = None\n",
    "\n",
    "class Codec:\n",
    "\n",
    "    def serialize(self, root):\n",
    "        \"\"\"Encodes a tree to a single string.\n",
    "        \n",
    "        :type root: TreeNode\n",
    "        :rtype: str\n",
    "        \"\"\"\n",
    "        # 使用BFS层级化遍历\n",
    "        if not root:\n",
    "            return ''\n",
    "        dq = deque([root])\n",
    "        vals = []\n",
    "        while dq:\n",
    "            for _ in range(len(dq)):\n",
    "                node = dq.popleft()\n",
    "                if node:\n",
    "                    vals.append(str(node.val) + '#')\n",
    "                    dq.append(node.left)\n",
    "                    dq.append(node.right)\n",
    "                else:\n",
    "                    vals.append('1001' + '#')\n",
    "        return ''.join(vals)\n",
    "        \n",
    "\n",
    "    def deserialize(self, data):\n",
    "        \"\"\"Decodes your encoded data to tree.\n",
    "        \n",
    "        :type data: str\n",
    "        :rtype: TreeNode\n",
    "        \"\"\"\n",
    "        if not data:\n",
    "            return None\n",
    "        vals = [int(x) for x in data.split('#') if len(x) > 0]\n",
    "        vals = vals[::-1]\n",
    "        root = TreeNode(vals.pop())\n",
    "        dq = deque([root])\n",
    "        while dq:\n",
    "            for i in range(len(dq)):\n",
    "                node = dq.popleft()\n",
    "                l_val = vals.pop()\n",
    "                if l_val != 1001:\n",
    "                    left = TreeNode(l_val)\n",
    "                    dq.append(left)\n",
    "                else:\n",
    "                    left = None\n",
    "                r_val = vals.pop()\n",
    "                if r_val != 1001:\n",
    "                    right = TreeNode(r_val)\n",
    "                    dq.append(right)\n",
    "                else:\n",
    "                    right = None\n",
    "                node.left = left\n",
    "                node.right = right\n",
    "        return root\n",
    "\n",
    "# Your Codec object will be instantiated and called as such:\n",
    "# codec = Codec()\n",
    "# codec.deserialize(codec.serialize(root))"
   ]
  },
  {
   "cell_type": "code",
   "execution_count": null,
   "metadata": {},
   "outputs": [],
   "source": []
  },
  {
   "cell_type": "markdown",
   "metadata": {},
   "source": [
    "### 2、采用pre_order的方法，递归调用实现"
   ]
  },
  {
   "cell_type": "code",
   "execution_count": 18,
   "metadata": {},
   "outputs": [],
   "source": [
    "# Definition for a binary tree node.\n",
    "class TreeNode(object):\n",
    "    def __init__(self, x):\n",
    "        self.val = x\n",
    "        self.left = None\n",
    "        self.right = None\n",
    "\n",
    "class Codec:\n",
    "    def serialize(self, root):\n",
    "        # 使用BFS层级化遍历\n",
    "        if not root:\n",
    "            return ''\n",
    "        def dfs(node):\n",
    "            nonlocal res\n",
    "            if not node:\n",
    "                res.append('#,')\n",
    "                return \n",
    "            res.append(str(node.val) + ',')\n",
    "            dfs(node.left)\n",
    "            dfs(node.right)\n",
    "        res = []\n",
    "        dfs(root)\n",
    "        return ''.join(res)\n",
    "        \n",
    "\n",
    "    def deserialize(self, data):\n",
    "        if not data:\n",
    "            return None\n",
    "        \n",
    "        def construct(values):\n",
    "            if values:\n",
    "                v = values.pop()\n",
    "                if v == '#':\n",
    "                    return None\n",
    "                v = int(v)\n",
    "                root = TreeNode(v)\n",
    "                root.left = construct(values)\n",
    "                root.right = construct(values)\n",
    "                return root\n",
    "            else:\n",
    "                return None\n",
    "        \n",
    "        # 通过递归调用先序遍历的结果，实现树的重建\n",
    "        vals = [x for x in data.split(',') if len(x) > 0][::-1]\n",
    "        return construct(vals)"
   ]
  },
  {
   "cell_type": "code",
   "execution_count": null,
   "metadata": {},
   "outputs": [],
   "source": []
  },
  {
   "cell_type": "code",
   "execution_count": null,
   "metadata": {},
   "outputs": [],
   "source": []
  },
  {
   "cell_type": "code",
   "execution_count": 1,
   "metadata": {},
   "outputs": [],
   "source": [
    "a = [1, 2, 3]"
   ]
  },
  {
   "cell_type": "code",
   "execution_count": 11,
   "metadata": {},
   "outputs": [
    {
     "name": "stdout",
     "output_type": "stream",
     "text": [
      "['[', '1', ',', ' ', '2', ',', ' ', '3', ']']\n"
     ]
    }
   ],
   "source": [
    "print(list(str(a)))"
   ]
  },
  {
   "cell_type": "code",
   "execution_count": null,
   "metadata": {},
   "outputs": [],
   "source": []
  },
  {
   "cell_type": "code",
   "execution_count": 12,
   "metadata": {},
   "outputs": [
    {
     "name": "stdout",
     "output_type": "stream",
     "text": [
      "['1', '222']\n"
     ]
    }
   ],
   "source": [
    "a = '1@222'\n",
    "print(a.split('@'))"
   ]
  },
  {
   "cell_type": "code",
   "execution_count": 13,
   "metadata": {},
   "outputs": [
    {
     "data": {
      "text/plain": [
       "-1"
      ]
     },
     "execution_count": 13,
     "metadata": {},
     "output_type": "execute_result"
    }
   ],
   "source": [
    "int(str(-1))"
   ]
  },
  {
   "cell_type": "code",
   "execution_count": 16,
   "metadata": {},
   "outputs": [
    {
     "data": {
      "text/plain": [
       "''"
      ]
     },
     "execution_count": 16,
     "metadata": {},
     "output_type": "execute_result"
    }
   ],
   "source": [
    "''.join([])"
   ]
  },
  {
   "cell_type": "code",
   "execution_count": null,
   "metadata": {},
   "outputs": [],
   "source": [
    "# Definition for a binary tree node.\n",
    "# class TreeNode(object):\n",
    "#     def __init__(self, x):\n",
    "#         self.val = x\n",
    "#         self.left = None\n",
    "#         self.right = None\n",
    "\n",
    "class Codec:\n",
    "\n",
    "    def serialize(self, root):\n",
    "        \"\"\"Encodes a tree to a single string.\n",
    "        \n",
    "        :type root: TreeNode\n",
    "        :rtype: str\n",
    "        \"\"\"\n",
    "        # pre_order + in_order的方式序列化和反序列化\n",
    "        def inorder_traverse(node):\n",
    "            nonlocal in_order\n",
    "            if not node:\n",
    "                return\n",
    "            inorder_traverse(node.left)\n",
    "            in_order.append(str(node.val) + '#')\n",
    "            inorder_traverse(node.right)\n",
    "        \n",
    "        def preorder_traverse(node):\n",
    "            nonlocal pre_order\n",
    "            if not node:\n",
    "                return\n",
    "            pre_order.append(str(node.val) + '#')\n",
    "            preorder_traverse(node.left)\n",
    "            preorder_traverse(node.right)\n",
    "        \n",
    "        in_order = []\n",
    "        pre_order = []\n",
    "        inorder_traverse(root)\n",
    "        preorder_traverse(root)\n",
    "        return [''.join(in_order), ''.join(pre_order)]\n",
    "        \n",
    "        \n",
    "\n",
    "    def deserialize(self, data):\n",
    "        \"\"\"Decodes your encoded data to tree.\n",
    "        \n",
    "        :type data: str\n",
    "        :rtype: TreeNode\n",
    "        \"\"\"\n",
    "        def construct(inorder, preorder):\n",
    "            if inorder:\n",
    "                val = preorder.pop(0)\n",
    "                print(preorder, inorder)\n",
    "                index = inorder.index(val)\n",
    "                root = TreeNode(val)\n",
    "                root.left = construct(preorder, inorder[:index])\n",
    "                root.right = construct(preorder, inorder[index+1:])\n",
    "                return root\n",
    "            else:\n",
    "                return None\n",
    "        \n",
    "        in_order = [int(x) for x in data[0].split('#') if len(x) > 0]\n",
    "        pre_order = [int(x) for x in data[1].split('#') if len(x) > 0]\n",
    "        root = construct(in_order, pre_order)\n",
    "        return root\n",
    "        \n",
    "\n",
    "# Your Codec object will be instantiated and called as such:\n",
    "# ser = Codec()\n",
    "# deser = Codec()\n",
    "# ans = deser.deserialize(ser.serialize(root))"
   ]
  }
 ],
 "metadata": {
  "kernelspec": {
   "display_name": "Python 3",
   "language": "python",
   "name": "python3"
  },
  "language_info": {
   "codemirror_mode": {
    "name": "ipython",
    "version": 3
   },
   "file_extension": ".py",
   "mimetype": "text/x-python",
   "name": "python",
   "nbconvert_exporter": "python",
   "pygments_lexer": "ipython3",
   "version": "3.6.2"
  }
 },
 "nbformat": 4,
 "nbformat_minor": 4
}
