{
 "cells": [
  {
   "cell_type": "code",
   "execution_count": null,
   "metadata": {},
   "outputs": [],
   "source": []
  },
  {
   "cell_type": "code",
   "execution_count": null,
   "metadata": {},
   "outputs": [],
   "source": []
  },
  {
   "cell_type": "code",
   "execution_count": 17,
   "metadata": {},
   "outputs": [],
   "source": [
    "from typing import List\n",
    "\n",
    "class Solution:\n",
    "    def pathInZigZagTree(self, label: int) -> List[int]:\n",
    "        layer = 0 # 首先计算 label 在树的哪一层\n",
    "        for i in range(1, 33):\n",
    "            if (1 << i) - 1 >= label:\n",
    "                layer = i\n",
    "                break\n",
    "                \n",
    "        cur = label\n",
    "        ans = []\n",
    "        while cur > 0:\n",
    "            ans.append(cur)\n",
    "            if layer % 2 == 1:\n",
    "                offset = (cur - (1 << (layer - 1))) // 2\n",
    "                layer -= 1\n",
    "                cur = (1 << layer) - 1 - offset\n",
    "            else:\n",
    "                offset = ((1 << layer) - 1 - cur) // 2\n",
    "                layer -= 1\n",
    "                cur = (1 << (layer - 1)) + offset\n",
    "        return ans[::-1]"
   ]
  },
  {
   "cell_type": "code",
   "execution_count": null,
   "metadata": {},
   "outputs": [],
   "source": []
  },
  {
   "cell_type": "markdown",
   "metadata": {},
   "source": []
  },
  {
   "cell_type": "code",
   "execution_count": 30,
   "metadata": {},
   "outputs": [],
   "source": [
    "import math\n",
    "\n",
    "class Solution:\n",
    "    def pathInZigZagTree(self, label: int) -> List[int]:    \n",
    "        if label == 1: \n",
    "            return [1]\n",
    "        \n",
    "        res = [label]\n",
    "        while label > 1:\n",
    "            # label所属level\n",
    "            level = int(math.log2(label))\n",
    "            # label行最小值\n",
    "            level_start = 2 ** level\n",
    "            # label与该行最小值的差值整除2， 用于得到上一行连接label的数字\n",
    "            remain = (label - level_start) // 2\n",
    "            print(remain)\n",
    "            # 迭代label: 其中level_state - 1是上一层的最大值\n",
    "            label = level_start - 1 - remain\n",
    "            res.append(label)\n",
    "        \n",
    "        return res[::-1]"
   ]
  },
  {
   "cell_type": "code",
   "execution_count": 31,
   "metadata": {},
   "outputs": [
    {
     "name": "stdout",
     "output_type": "stream",
     "text": [
      "3\n",
      "0\n",
      "0\n"
     ]
    },
    {
     "data": {
      "text/plain": [
       "[1, 3, 4, 14]"
      ]
     },
     "execution_count": 31,
     "metadata": {},
     "output_type": "execute_result"
    }
   ],
   "source": [
    "solution = Solution()\n",
    "solution.pathInZigZagTree(14)"
   ]
  },
  {
   "cell_type": "code",
   "execution_count": null,
   "metadata": {},
   "outputs": [],
   "source": []
  }
 ],
 "metadata": {
  "kernelspec": {
   "display_name": "Python 3",
   "language": "python",
   "name": "python3"
  },
  "language_info": {
   "codemirror_mode": {
    "name": "ipython",
    "version": 3
   },
   "file_extension": ".py",
   "mimetype": "text/x-python",
   "name": "python",
   "nbconvert_exporter": "python",
   "pygments_lexer": "ipython3",
   "version": "3.6.2"
  }
 },
 "nbformat": 4,
 "nbformat_minor": 4
}
