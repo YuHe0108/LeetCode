{
 "cells": [
  {
   "cell_type": "code",
   "execution_count": null,
   "metadata": {},
   "outputs": [],
   "source": []
  },
  {
   "cell_type": "code",
   "execution_count": null,
   "metadata": {},
   "outputs": [],
   "source": []
  },
  {
   "cell_type": "code",
   "execution_count": null,
   "metadata": {},
   "outputs": [],
   "source": []
  },
  {
   "cell_type": "code",
   "execution_count": 46,
   "metadata": {},
   "outputs": [],
   "source": [
    "from collections import defaultdict, deque\n",
    "\n",
    "class Solution:\n",
    "    def sumOfDistancesInTree(self, N: int, edges):\n",
    "        graph = defaultdict(list)\n",
    "        for a, b in edges:\n",
    "            graph[a].append(b)\n",
    "            graph[b].append(a)\n",
    "        print(graph)\n",
    "        \n",
    "        dist = defaultdict(dict)\n",
    "        for i in range(N):\n",
    "            dq = deque([i])\n",
    "            seen = set()\n",
    "            cnt = 0\n",
    "            while dq:\n",
    "                for _ in range(len(dq)):\n",
    "                    node = dq.popleft()\n",
    "                    seen.add(node)\n",
    "                    dist[i][node] = cnt\n",
    "                    for neb in graph[node]:\n",
    "                        if neb in seen:\n",
    "                            continue\n",
    "                        dq.append(neb)\n",
    "                cnt += 1\n",
    "        res = []\n",
    "        for k, v in dist.items():\n",
    "            res.append(sum(v.values()))\n",
    "        return res"
   ]
  },
  {
   "cell_type": "code",
   "execution_count": null,
   "metadata": {},
   "outputs": [],
   "source": []
  },
  {
   "cell_type": "code",
   "execution_count": null,
   "metadata": {},
   "outputs": [],
   "source": []
  },
  {
   "cell_type": "code",
   "execution_count": 87,
   "metadata": {},
   "outputs": [],
   "source": [
    "from collections import defaultdict, deque\n",
    "\n",
    "class Solution:\n",
    "    def sumOfDistancesInTree(self, N: int, edges):\n",
    "        def dfs1(cur, par):\n",
    "            #　计算每个节点有多少个子节点\n",
    "            for child in graph[cur]:\n",
    "                if child != par:\n",
    "                    dfs1(child, cur)\n",
    "                    count[cur] += count[child]\n",
    "                    ans[cur] += ans[child] + count[child]\n",
    "                    \n",
    "        def dfs2(cur, par):\n",
    "            for child in graph[cur]:\n",
    "                if child != par:\n",
    "                    print(child, cur)\n",
    "                    ans[child] = ans[cur] + (N - count[child]) - count[child]\n",
    "                    dfs2(child, cur)\n",
    "        \n",
    "        graph = defaultdict(list)\n",
    "        for a, b in edges:\n",
    "            graph[a].append(b)\n",
    "            graph[b].append(a)\n",
    "        count = [1] * N # 每个节点下面有多少子节点（包括自己）\n",
    "        ans = [0] * N\n",
    "        dfs1(0, -1)\n",
    "        print(ans, count)\n",
    "        dfs2(0, -1)\n",
    "        print(graph)\n",
    "        return ans"
   ]
  },
  {
   "cell_type": "code",
   "execution_count": 88,
   "metadata": {},
   "outputs": [
    {
     "name": "stdout",
     "output_type": "stream",
     "text": [
      "[8, 0, 3, 0, 0, 0] [6, 1, 4, 1, 1, 1]\n",
      "1 0\n",
      "2 0\n",
      "3 2\n",
      "4 2\n",
      "5 2\n",
      "defaultdict(<class 'list'>, {0: [1, 2], 1: [0], 2: [0, 3, 4, 5], 3: [2], 4: [2], 5: [2]})\n"
     ]
    },
    {
     "data": {
      "text/plain": [
       "[8, 12, 6, 10, 10, 10]"
      ]
     },
     "execution_count": 88,
     "metadata": {},
     "output_type": "execute_result"
    }
   ],
   "source": [
    "solution = Solution()\n",
    "solution.sumOfDistancesInTree(N = 6, edges = [[0,1],[0,2],[2,3],[2,4],[2,5]])"
   ]
  },
  {
   "cell_type": "raw",
   "metadata": {},
   "source": [
    "  0\n",
    " / \\\n",
    "1   2\n",
    "   /|\\\n",
    "  3 4 5"
   ]
  }
 ],
 "metadata": {
  "kernelspec": {
   "display_name": "Python 3",
   "language": "python",
   "name": "python3"
  },
  "language_info": {
   "codemirror_mode": {
    "name": "ipython",
    "version": 3
   },
   "file_extension": ".py",
   "mimetype": "text/x-python",
   "name": "python",
   "nbconvert_exporter": "python",
   "pygments_lexer": "ipython3",
   "version": "3.6.2"
  }
 },
 "nbformat": 4,
 "nbformat_minor": 4
}
