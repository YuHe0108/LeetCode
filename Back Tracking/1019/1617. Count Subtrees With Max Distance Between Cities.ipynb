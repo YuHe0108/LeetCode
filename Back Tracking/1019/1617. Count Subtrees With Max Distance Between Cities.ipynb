{
 "cells": [
  {
   "cell_type": "raw",
   "metadata": {},
   "source": [
    "说明：\n",
    "    给你 n 个城市，编号为从 1 到 n 。\n",
    "    同时给你一个大小为 n-1 的数组 edges ，其中 edges[i] = [ui, vi] 表示城市 ui 和 vi 之间有一条双向边。\n",
    "    题目保证任意城市之间只有唯一的一条路径。换句话说，所有城市形成了一棵 树 。\n",
    "\n",
    "    一棵 子树 是城市的一个子集，且子集中任意城市之间可以通过子集中的其他城市和边到达。\n",
    "    两个子树被认为不一样的条件是至少有一个城市在其中一棵子树中存在，但在另一棵子树中不存在。\n",
    "\n",
    "    对于 d 从 1 到 n-1 ，请你找到城市间 最大距离 恰好为 d 的所有子树数目。\n",
    "    请你返回一个大小为 n-1 的数组，其中第 d 个元素（下标从 1 开始）是城市间 最大距离 恰好等于 d 的子树数目。\n",
    "    请注意，两个城市间距离定义为它们之间需要经过的边的数目。\n",
    "\n",
    " \n",
    "示例 1：\n",
    "    输入：n = 4, edges = [[1,2],[2,3],[2,4]]\n",
    "    输出：[3,4,0]\n",
    "    解释：\n",
    "        子树 {1,2}, {2,3} 和 {2,4} 最大距离都是 1 。\n",
    "        子树 {1,2,3}, {1,2,4}, {2,3,4} 和 {1,2,3,4} 最大距离都为 2 。\n",
    "        不存在城市间最大距离为 3 的子树。\n",
    "\n",
    "示例 2：\n",
    "    输入：n = 2, edges = [[1,2]]\n",
    "    输出：[1]\n",
    "\n",
    "示例 3：\n",
    "    输入：n = 3, edges = [[1,2],[2,3]]\n",
    "    输出：[2,1]\n",
    "\n",
    "提示：\n",
    "    1、2 <= n <= 15\n",
    "    2、edges.length == n-1\n",
    "    3、edges[i].length == 2\n",
    "    4、1 <= ui, vi <= n\n",
    "    5、题目保证 (ui, vi) 所表示的边互不相同。"
   ]
  },
  {
   "cell_type": "markdown",
   "metadata": {},
   "source": [
    "<img src='https://assets.leetcode-cn.com/aliyun-lc-upload/uploads/2020/10/11/p1.png'>"
   ]
  },
  {
   "cell_type": "code",
   "execution_count": 114,
   "metadata": {},
   "outputs": [],
   "source": [
    "# 初始状态mask里面的1代表这次选的所有node，然后BFS尝试把所有node连在一起，每连一个node，就把1设置成0\n",
    "from collections import defaultdict, deque\n",
    "\n",
    "class Solution:\n",
    "    def countSubgraphsForEachDiameter(self, n: int, edges):\n",
    "        graph = defaultdict(list)\n",
    "        for s, e in edges:\n",
    "            graph[s-1].append(e-1)\n",
    "            graph[e-1].append(s-1)\n",
    "        print(graph)\n",
    "        \n",
    "        def get_max_dist(mask):\n",
    "            # 1、检查mask是否可以构成一颗树\n",
    "            # 2、如果可以构成一颗树，返回这个树的最大 distance\n",
    "            # if str(bin(mask)[2:]).count('1') <= 1:\n",
    "            #    return 0\n",
    "            \n",
    "            # 对于只选择一颗树的情况，最大距离就是 1\n",
    "            if mask & (mask - 1) == 0:\n",
    "                return 0\n",
    "            \n",
    "            ans = 0\n",
    "            for i in range(n):\n",
    "                if mask & (1 << i):\n",
    "                    queue = deque([i])\n",
    "                    \n",
    "                    temp_mask = mask\n",
    "                    temp_mask ^= 1 << i # 求异或\n",
    "                     \n",
    "                    d = 0\n",
    "                    while queue:\n",
    "                        que_len = len(queue)\n",
    "                        for _ in range(que_len):\n",
    "                            node = queue.popleft()\n",
    "                            for nei in graph[node]:\n",
    "                                if temp_mask & (1 << nei):\n",
    "                                    queue.append(nei)\n",
    "                                    temp_mask ^= 1 << nei\n",
    "                        d += 1\n",
    "                    if temp_mask:\n",
    "                        return 0\n",
    "                    ans = max(ans, d)\n",
    "            return ans - 1\n",
    "        \n",
    "        res = [0] * (n-1)\n",
    "        for mask in range(1<<n): # 遍历每一个树选或者不选\n",
    "            dist = get_max_dist(mask)\n",
    "            if dist:\n",
    "                res[dist-1] += 1\n",
    "        return res"
   ]
  },
  {
   "cell_type": "code",
   "execution_count": 169,
   "metadata": {},
   "outputs": [],
   "source": [
    "import collections, itertools\n",
    "\n",
    "class Solution:\n",
    "    def countSubgraphsForEachDiameter(self, n: int, edges):\n",
    "        \n",
    "        vertices = [i for i in range(1, n+1)]\n",
    "        ans = [0]*(n-1)\n",
    "        \n",
    "        graph = collections.defaultdict(set)\n",
    "        for a, b in edges:\n",
    "            graph[a].add(b)\n",
    "            graph[b].add(a)\n",
    "        \n",
    "        def checkValid(tree):\n",
    "            tree = set(tree)\n",
    "            start = tree.pop() # 随机弹出一个 节点\n",
    "            tree.add(start)\n",
    "            \n",
    "            trav = set()\n",
    "            # 随机从一个subtree的一个节点出发，查看是否能够遍历sub_tree的所有节点\n",
    "            def helper(curr):\n",
    "                nonlocal trav\n",
    "                \n",
    "                trav.add(curr)\n",
    "                for nei in graph[curr]:\n",
    "                    if (nei not in trav) and (nei in tree):\n",
    "                        helper(nei)\n",
    "                        \n",
    "            helper(start)\n",
    "            return trav == tree\n",
    "        \n",
    "        def MaxDis(tree):\n",
    "            # should be the diameter of tree\n",
    "            tree = set(tree)\n",
    "            start = tree.pop()\n",
    "            tree.add(start)\n",
    "            \n",
    "            diameter = 0\n",
    "            \n",
    "            def DFS(curr, trav):\n",
    "                nonlocal diameter\n",
    "                \n",
    "                neighbors_dep = []\n",
    "                for nei in graph[curr]:\n",
    "                    if nei not in trav and nei in tree:\n",
    "                        neighbors_dep.append(DFS(nei, trav | {nei}))\n",
    "                        \n",
    "                if not neighbors_dep:\n",
    "                    dia = 0\n",
    "                    diameter = max(diameter, dia)\n",
    "                    return 0\n",
    "                elif len(neighbors_dep)==1:\n",
    "                    dia = 1+neighbors_dep[0]\n",
    "                    diameter = max(diameter, dia)\n",
    "                    return dia\n",
    "                else:\n",
    "                    dia = sum(sorted(neighbors_dep)[-2:])+2\n",
    "                    diameter = max(diameter, dia)\n",
    "                    return max(neighbors_dep)+1\n",
    "                \n",
    "            DFS(start, {start})\n",
    "            return diameter\n",
    "        \n",
    "        \n",
    "        for l in range(1, n+1):\n",
    "            # 从vertices中，返回长度为 l 的组合可能\n",
    "            subtrees = list(itertools.combinations(vertices, l))\n",
    "            for subtree in subtrees:\n",
    "                # 验证每一个subtree\n",
    "                if checkValid(subtree): # 首先验证 subtree 是不是有效的tree\n",
    "                    max_dis = MaxDis(subtree) # 如果是有效的节点，计算节点之间的最大距离\n",
    "                    if max_dis > 0:\n",
    "                        ans[max_dis - 1] += 1\n",
    "        return ans"
   ]
  },
  {
   "cell_type": "code",
   "execution_count": 170,
   "metadata": {},
   "outputs": [
    {
     "data": {
      "text/plain": [
       "[3, 4, 0]"
      ]
     },
     "execution_count": 170,
     "metadata": {},
     "output_type": "execute_result"
    }
   ],
   "source": [
    "solution = Solution()\n",
    "solution.countSubgraphsForEachDiameter(n = 4, edges = [[1,2],[2,3],[2,4]])"
   ]
  },
  {
   "cell_type": "code",
   "execution_count": 40,
   "metadata": {},
   "outputs": [],
   "source": [
    "a = 1\n",
    "b = 2\n",
    "c = a ^ b"
   ]
  },
  {
   "cell_type": "code",
   "execution_count": 41,
   "metadata": {},
   "outputs": [
    {
     "data": {
      "text/plain": [
       "3"
      ]
     },
     "execution_count": 41,
     "metadata": {},
     "output_type": "execute_result"
    }
   ],
   "source": [
    "c"
   ]
  },
  {
   "cell_type": "code",
   "execution_count": 69,
   "metadata": {},
   "outputs": [
    {
     "name": "stdout",
     "output_type": "stream",
     "text": [
      "0b11 0b10\n"
     ]
    }
   ],
   "source": [
    "mask = 3\n",
    "n_mask = mask - 1\n",
    "print(bin(mask), bin(n_mask))"
   ]
  },
  {
   "cell_type": "code",
   "execution_count": 81,
   "metadata": {},
   "outputs": [
    {
     "name": "stdout",
     "output_type": "stream",
     "text": [
      "0\n"
     ]
    }
   ],
   "source": [
    "mask = 0\n",
    "if mask & (mask - 1) == 0:\n",
    "    print(mask)"
   ]
  },
  {
   "cell_type": "code",
   "execution_count": 117,
   "metadata": {},
   "outputs": [
    {
     "name": "stdout",
     "output_type": "stream",
     "text": [
      "0 [1, 2, 0]\n",
      "1 [1, 2, 0, 1]\n"
     ]
    }
   ],
   "source": [
    "a = [1, 2]\n",
    "for i in range(len(a)):\n",
    "    a.append(i)\n",
    "    print(i, a)"
   ]
  },
  {
   "cell_type": "code",
   "execution_count": 175,
   "metadata": {},
   "outputs": [],
   "source": [
    "a = {1}\n",
    "b = {2}\n",
    "c = a and b"
   ]
  },
  {
   "cell_type": "code",
   "execution_count": 176,
   "metadata": {},
   "outputs": [
    {
     "data": {
      "text/plain": [
       "{2}"
      ]
     },
     "execution_count": 176,
     "metadata": {},
     "output_type": "execute_result"
    }
   ],
   "source": [
    "c"
   ]
  },
  {
   "cell_type": "code",
   "execution_count": null,
   "metadata": {},
   "outputs": [],
   "source": []
  }
 ],
 "metadata": {
  "kernelspec": {
   "display_name": "Python 3",
   "language": "python",
   "name": "python3"
  },
  "language_info": {
   "codemirror_mode": {
    "name": "ipython",
    "version": 3
   },
   "file_extension": ".py",
   "mimetype": "text/x-python",
   "name": "python",
   "nbconvert_exporter": "python",
   "pygments_lexer": "ipython3",
   "version": "3.6.2"
  }
 },
 "nbformat": 4,
 "nbformat_minor": 4
}
