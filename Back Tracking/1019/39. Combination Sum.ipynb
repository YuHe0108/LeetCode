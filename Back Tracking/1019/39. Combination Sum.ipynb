{
 "cells": [
  {
   "cell_type": "raw",
   "metadata": {},
   "source": [
    "说明：\n",
    "    给定一个无重复元素的数组 candidates 和一个目标数 target ，找出 candidates 中所有可以使数字和为 target 的组合。\n",
    "    candidates 中的数字可以无限制重复被选取。\n",
    "\n",
    "说明：\n",
    "    所有数字（包括 target）都是正整数。\n",
    "    解集不能包含重复的组合。 \n",
    "\n",
    "示例 1：\n",
    "    输入：candidates = [2,3,6,7], target = 7,\n",
    "    所求解集为：\n",
    "                [\n",
    "                  [7],\n",
    "                  [2,2,3]\n",
    "                ]\n",
    "\n",
    "示例 2：\n",
    "    输入：candidates = [2,3,5], target = 8,\n",
    "    所求解集为：\n",
    "                [\n",
    "                  [2,2,2,2],\n",
    "                  [2,3,3],\n",
    "                  [3,5]\n",
    "                ]\n",
    "\n",
    "提示：\n",
    "    1、1 <= candidates.length <= 30\n",
    "    2、1 <= candidates[i] <= 200\n",
    "    3、candidate 中的每个元素都是独一无二的。\n",
    "    4、1 <= target <= 500"
   ]
  },
  {
   "cell_type": "code",
   "execution_count": 6,
   "metadata": {},
   "outputs": [],
   "source": [
    "class Solution:\n",
    "    def combinationSum(self, nums, target: int):\n",
    "        res = []\n",
    "        \n",
    "        def dfs(nums, temp, remainder, idx):\n",
    "            nonlocal res\n",
    "            if remainder == 0:\n",
    "                res.append(temp[:])\n",
    "                return\n",
    "            if remainder < 0:\n",
    "                return \n",
    "            \n",
    "            for i in range(idx, len(nums)):\n",
    "                temp.append(nums[i])\n",
    "                dfs(nums, temp, remainder - nums[i], i)\n",
    "                temp.pop()\n",
    "                \n",
    "        dfs(nums, [], target, 0)\n",
    "        return res"
   ]
  },
  {
   "cell_type": "code",
   "execution_count": 7,
   "metadata": {},
   "outputs": [
    {
     "data": {
      "text/plain": [
       "[[2, 2, 3], [7]]"
      ]
     },
     "execution_count": 7,
     "metadata": {},
     "output_type": "execute_result"
    }
   ],
   "source": [
    "solution = Solution()\n",
    "solution.combinationSum(nums = [2,3,6,7], target = 7)"
   ]
  },
  {
   "cell_type": "code",
   "execution_count": null,
   "metadata": {},
   "outputs": [],
   "source": []
  },
  {
   "cell_type": "code",
   "execution_count": null,
   "metadata": {},
   "outputs": [],
   "source": []
  }
 ],
 "metadata": {
  "kernelspec": {
   "display_name": "Python 3",
   "language": "python",
   "name": "python3"
  },
  "language_info": {
   "codemirror_mode": {
    "name": "ipython",
    "version": 3
   },
   "file_extension": ".py",
   "mimetype": "text/x-python",
   "name": "python",
   "nbconvert_exporter": "python",
   "pygments_lexer": "ipython3",
   "version": "3.6.2"
  }
 },
 "nbformat": 4,
 "nbformat_minor": 4
}
