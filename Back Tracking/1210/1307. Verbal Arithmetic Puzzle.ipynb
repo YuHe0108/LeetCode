{
 "cells": [
  {
   "cell_type": "code",
   "execution_count": null,
   "metadata": {},
   "outputs": [],
   "source": []
  },
  {
   "cell_type": "code",
   "execution_count": null,
   "metadata": {},
   "outputs": [],
   "source": []
  },
  {
   "cell_type": "raw",
   "metadata": {},
   "source": [
    "说明：    \n",
    "    1、2 <= words.length <= 5\n",
    "    2、1 <= words[i].length, results.length <= 7\n",
    "    3、words[i], result 只含有大写英文字母\n",
    "    4、表达式中使用的不同字符数最大为 10"
   ]
  },
  {
   "cell_type": "code",
   "execution_count": 12,
   "metadata": {},
   "outputs": [],
   "source": [
    "from collections import defaultdict\n",
    "\n",
    "class Solution:\n",
    "    def isSolvable(self, words, result):\n",
    "        letter_dict = defaultdict(int)\n",
    "        non_zero_letter = set()\n",
    "        for word in words:\n",
    "            non_zero_letter.add(word[0])\n",
    "            for i, letter in enumerate(word[::-1]):\n",
    "                letter_dict[letter] += 10 ** i\n",
    "        non_zero_letter.add(result[0])\n",
    "        \n",
    "        print(non_zero_letter)\n",
    "        print(letter_dict)\n",
    "        for i, letter in enumerate(result[::-1]):\n",
    "            letter_dict[letter] -= 10 * i\n",
    "            "
   ]
  },
  {
   "cell_type": "code",
   "execution_count": 13,
   "metadata": {},
   "outputs": [
    {
     "name": "stdout",
     "output_type": "stream",
     "text": [
      "{'S', 'M'}\n",
      "defaultdict(<class 'int'>, {'D': 1, 'N': 10, 'E': 101, 'S': 1000, 'R': 10, 'O': 100, 'M': 1000})\n"
     ]
    }
   ],
   "source": [
    "solution = Solution()\n",
    "solution.isSolvable(words = [\"SEND\",\"MORE\"], result = \"MONEY\")"
   ]
  },
  {
   "cell_type": "code",
   "execution_count": null,
   "metadata": {},
   "outputs": [],
   "source": []
  },
  {
   "cell_type": "code",
   "execution_count": null,
   "metadata": {},
   "outputs": [],
   "source": []
  },
  {
   "cell_type": "code",
   "execution_count": 20,
   "metadata": {},
   "outputs": [],
   "source": [
    "class Solution:\n",
    "    def isSolvable(self, words, result: str) -> bool:\n",
    "        _weight = dict()\n",
    "        _lead_zero = set()\n",
    "        for word in words:\n",
    "            for i, ch in enumerate(word[::-1]):\n",
    "                _weight[ch] = _weight.get(ch, 0) + 10**i\n",
    "            if len(word) > 1:\n",
    "                _lead_zero.add(word[0])\n",
    "               \n",
    "        for i, ch in enumerate(result[::-1]):\n",
    "            _weight[ch] = _weight.get(ch, 0) - 10**i\n",
    "        \n",
    "        if len(result) > 1:\n",
    "            _lead_zero.add(result[0])\n",
    "        \n",
    "        weight = sorted(list(_weight.items()), key=lambda x: -abs(x[1]))\n",
    "        suffix_sum_min = [0] * len(weight)\n",
    "        suffix_sum_max = [0] * len(weight)\n",
    "        for i in range(len(weight)):\n",
    "            suffix_pos = sorted(x[1] for x in weight[i:] if x[1] > 0)\n",
    "            suffix_neg = sorted(x[1] for x in weight[i:] if x[1] < 0)\n",
    "            suffix_sum_min[i] = sum((len(suffix_pos) - 1 - j) * elem for j, elem in enumerate(suffix_pos)) + sum((9 - j) * elem for j, elem in enumerate(suffix_neg))\n",
    "            suffix_sum_max[i] = sum((10 - len(suffix_pos) + j) * elem for j, elem in enumerate(suffix_pos)) + sum(j * elem for j, elem in enumerate(suffix_neg))\n",
    "        \n",
    "        lead_zero = [int(ch in _lead_zero) for (ch, _) in weight]\n",
    "        used = [0] * 10\n",
    "        \n",
    "        def dfs(pos, total):\n",
    "            if pos == len(weight):\n",
    "                return total == 0\n",
    "            if not total + suffix_sum_min[pos] <= 0 <= total + suffix_sum_max[pos]:\n",
    "                return False\n",
    "            for i in range(lead_zero[pos], 10):\n",
    "                if not used[i]:\n",
    "                    used[i] = True\n",
    "                    check = dfs(pos + 1, total + weight[pos][1] * i)\n",
    "                    used[i] = False\n",
    "                    if check:\n",
    "                        return True\n",
    "            return False\n",
    "        return dfs(0, 0)"
   ]
  },
  {
   "cell_type": "code",
   "execution_count": 21,
   "metadata": {},
   "outputs": [
    {
     "name": "stdout",
     "output_type": "stream",
     "text": [
      "{'D': 1, 'N': -90, 'E': 91, 'S': 1000, 'R': 10, 'O': -900, 'M': -9000, 'Y': -1}\n"
     ]
    },
    {
     "data": {
      "text/plain": [
       "True"
      ]
     },
     "execution_count": 21,
     "metadata": {},
     "output_type": "execute_result"
    }
   ],
   "source": [
    "solution = Solution()\n",
    "solution.isSolvable(words = [\"SEND\",\"MORE\"], result = \"MONEY\")"
   ]
  },
  {
   "cell_type": "code",
   "execution_count": null,
   "metadata": {},
   "outputs": [],
   "source": []
  }
 ],
 "metadata": {
  "kernelspec": {
   "display_name": "Python 3",
   "language": "python",
   "name": "python3"
  },
  "language_info": {
   "codemirror_mode": {
    "name": "ipython",
    "version": 3
   },
   "file_extension": ".py",
   "mimetype": "text/x-python",
   "name": "python",
   "nbconvert_exporter": "python",
   "pygments_lexer": "ipython3",
   "version": "3.6.2"
  }
 },
 "nbformat": 4,
 "nbformat_minor": 4
}
