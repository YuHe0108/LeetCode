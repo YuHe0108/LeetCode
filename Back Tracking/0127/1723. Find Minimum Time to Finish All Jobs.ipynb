{
 "cells": [
  {
   "cell_type": "code",
   "execution_count": null,
   "metadata": {},
   "outputs": [],
   "source": []
  },
  {
   "cell_type": "code",
   "execution_count": null,
   "metadata": {},
   "outputs": [],
   "source": []
  },
  {
   "cell_type": "code",
   "execution_count": 34,
   "metadata": {},
   "outputs": [],
   "source": [
    "from typing import List\n",
    "\n",
    "# DP + 状态压缩： TLE\n",
    "class Solution:\n",
    "    def minimumTimeRequired(self, jobs: List[int], k: int) -> int:\n",
    "        # 每一个工作都对一个工人来讲，都可以做，或者不做\n",
    "        n = len(jobs)\n",
    "        dp = [[float('inf')] * (1 << n) for _ in range(k + 1)]\n",
    "        times = [0] * (1 << n)\n",
    "        for state in range(1 << n):\n",
    "            sum_time = 0\n",
    "            for i in range(n):\n",
    "                if ((state >> i) & 1) == 1:\n",
    "                    sum_time += jobs[i]\n",
    "            times[state] = sum_time\n",
    "            \n",
    "        dp[0][0] = 0\n",
    "        for i in range(1, k+1):\n",
    "            for state in range(1 << n):\n",
    "                sub_state = state\n",
    "                while sub_state > 0:\n",
    "                    dp[i][state] = min(dp[i][state], max(dp[i-1][state-sub_state], times[sub_state]))\n",
    "                    sub_state = (sub_state - 1) & state\n",
    "        return dp[-1][-1]"
   ]
  },
  {
   "cell_type": "code",
   "execution_count": null,
   "metadata": {},
   "outputs": [],
   "source": []
  },
  {
   "cell_type": "code",
   "execution_count": 56,
   "metadata": {},
   "outputs": [],
   "source": [
    "from typing import List\n",
    "from functools import lru_cache\n",
    "\n",
    "# 二分搜索 + 状态压缩 TLE\n",
    "class Solution:\n",
    "    def minimumTimeRequired(self, jobs: List[int], k: int) -> int:\n",
    "        # 每一个工作都对一个工人来讲，都可以做，或者不做\n",
    "        # @lru_cache(None)\n",
    "        def dfs(state, th, m): # 给第m个人，分配工作，并且这个工作时间不能超过th\n",
    "            if state == 0:\n",
    "                return True\n",
    "            if m == k:\n",
    "                return False\n",
    "            subset = state\n",
    "            while subset > 0:\n",
    "                if times[subset] <= th and dfs(state - subset, th, m+1):\n",
    "                    return True\n",
    "                subset = (subset - 1) & state\n",
    "            return False\n",
    "            \n",
    "        n = len(jobs)\n",
    "        dp = [[float('inf')] * (1 << n) for _ in range(k + 1)]\n",
    "        times = [0] * (1 << n)\n",
    "        for state in range(1 << n):\n",
    "            sum_time = 0\n",
    "            for i in range(n):\n",
    "                if ((state >> i) & 1) == 1:\n",
    "                    sum_time += jobs[i]\n",
    "            times[state] = sum_time\n",
    "        \n",
    "        left, right = 1, sum(jobs)\n",
    "        while left < right:\n",
    "            mid = left + (right - left) // 2\n",
    "            if dfs((1<<n)-1, mid, 0):\n",
    "                right = mid\n",
    "            else:\n",
    "                left = mid + 1\n",
    "        return left"
   ]
  },
  {
   "cell_type": "code",
   "execution_count": 57,
   "metadata": {},
   "outputs": [
    {
     "data": {
      "text/plain": [
       "11"
      ]
     },
     "execution_count": 57,
     "metadata": {},
     "output_type": "execute_result"
    }
   ],
   "source": [
    "solution = Solution()\n",
    "solution.minimumTimeRequired(jobs = [1,2,4,7,8], k = 2)"
   ]
  },
  {
   "cell_type": "code",
   "execution_count": 26,
   "metadata": {},
   "outputs": [
    {
     "data": {
      "text/plain": [
       "'0b100'"
      ]
     },
     "execution_count": 26,
     "metadata": {},
     "output_type": "execute_result"
    }
   ],
   "source": []
  },
  {
   "cell_type": "code",
   "execution_count": 68,
   "metadata": {},
   "outputs": [],
   "source": [
    "from typing import List\n",
    "from functools import lru_cache\n",
    "\n",
    "# DFS + 二分搜索 + 状态压缩 TLE\n",
    "class Solution:\n",
    "    def minimumTimeRequired(self, jobs: List[int], k: int) -> int:\n",
    "        def dfs(workers, th, idx):\n",
    "            if idx == len(jobs): # 所有的任务都分配完成\n",
    "                return True\n",
    "            \n",
    "            faliure = {} # 失败的案例有哪些\n",
    "            for j in range(k):\n",
    "                if workers[j] + jobs[idx] >  th:\n",
    "                    continue\n",
    "                    \n",
    "                # 如果当前工作超过了上线，那么肯定不能添加\n",
    "                if workers[j] in faliure and jobs[idx] >= faliure[workers[j]]:\n",
    "                    continue\n",
    "                \n",
    "                workers[j] += jobs[idx]\n",
    "                if dfs(workers, th, idx + 1):\n",
    "                    return True\n",
    "                workers[j] -= jobs[idx]\n",
    "                \n",
    "                # 记录了workers[j] 在 阈值为th下的工作上限是多少\n",
    "                if workers[j] in faliure:\n",
    "                    faliure[workers[j]] = min(jobs[idx], faliure[workers[j]])\n",
    "                else:\n",
    "                    faliure[workers[j]] = jobs[idx]\n",
    "            return False\n",
    "        \n",
    "        jobs.sort(reverse=True)\n",
    "        left, right = 1, sum(jobs)\n",
    "        while left < right:\n",
    "            workers = [0] * k # 表示每个人分配的工作时长有多少\n",
    "            mid = left + (right - left) // 2\n",
    "            if dfs(workers, mid, 0): # 其中 0 表示分配第 idx=0 的工作给工人\n",
    "                right = mid\n",
    "            else:\n",
    "                left = mid + 1\n",
    "        return left"
   ]
  },
  {
   "cell_type": "code",
   "execution_count": 69,
   "metadata": {},
   "outputs": [
    {
     "data": {
      "text/plain": [
       "11"
      ]
     },
     "execution_count": 69,
     "metadata": {},
     "output_type": "execute_result"
    }
   ],
   "source": [
    "solution = Solution()\n",
    "solution.minimumTimeRequired(jobs = [1,2,4,7,8], k = 2)"
   ]
  },
  {
   "cell_type": "code",
   "execution_count": null,
   "metadata": {},
   "outputs": [],
   "source": []
  },
  {
   "cell_type": "code",
   "execution_count": null,
   "metadata": {},
   "outputs": [],
   "source": []
  },
  {
   "cell_type": "code",
   "execution_count": 82,
   "metadata": {},
   "outputs": [],
   "source": [
    "from typing import List\n",
    "from functools import lru_cache\n",
    "\n",
    "# DFS + 二分搜索\n",
    "class Solution:\n",
    "    def minimumTimeRequired(self, jobs: List[int], k: int) -> int:\n",
    "        def dfs(workers, th, idx):\n",
    "            if idx == len(jobs):\n",
    "                return True\n",
    "            \n",
    "            faliure = {}\n",
    "            for i in range(k):\n",
    "                # 不能有一个工人的最大工作时间大于 threshold\n",
    "                if jobs[idx] + workers[i] > th:\n",
    "                    continue\n",
    "                # 如果当前工作超过了上限，那么肯定不能添加\n",
    "                if workers[i] in faliure and jobs[idx] >= faliure[workers[i]]:\n",
    "                    continue\n",
    "                    \n",
    "                workers[i] += jobs[idx]\n",
    "                if dfs(workers, th, idx+1):\n",
    "                    return True\n",
    "                workers[i] -= jobs[idx]\n",
    "                \n",
    "                if workers[i] in faliure:\n",
    "                    faliure[workers[i]] = min(faliure[workers[i]], jobs[idx])\n",
    "                else:\n",
    "                    faliure[workers[i]] = jobs[idx]\n",
    "            return False\n",
    "        \n",
    "        jobs.sort(reverse=True)\n",
    "        left, right = 1, sum(jobs)\n",
    "        while left < right:\n",
    "            workers = [0] * k\n",
    "            mid = left + (right - left) // 2\n",
    "            if dfs(workers, mid, 0):\n",
    "                right = mid\n",
    "            else:\n",
    "                left = mid + 1\n",
    "        return left"
   ]
  },
  {
   "cell_type": "code",
   "execution_count": 83,
   "metadata": {},
   "outputs": [
    {
     "data": {
      "text/plain": [
       "11"
      ]
     },
     "execution_count": 83,
     "metadata": {},
     "output_type": "execute_result"
    }
   ],
   "source": [
    "solution = Solution()\n",
    "solution.minimumTimeRequired(jobs = [1,2,4,7,8], k = 2)"
   ]
  },
  {
   "cell_type": "code",
   "execution_count": null,
   "metadata": {},
   "outputs": [],
   "source": []
  }
 ],
 "metadata": {
  "kernelspec": {
   "display_name": "Python 3",
   "language": "python",
   "name": "python3"
  },
  "language_info": {
   "codemirror_mode": {
    "name": "ipython",
    "version": 3
   },
   "file_extension": ".py",
   "mimetype": "text/x-python",
   "name": "python",
   "nbconvert_exporter": "python",
   "pygments_lexer": "ipython3",
   "version": "3.6.2"
  }
 },
 "nbformat": 4,
 "nbformat_minor": 4
}
