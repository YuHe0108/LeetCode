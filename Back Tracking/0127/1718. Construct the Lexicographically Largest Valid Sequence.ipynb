{
 "cells": [
  {
   "cell_type": "code",
   "execution_count": null,
   "metadata": {},
   "outputs": [],
   "source": []
  },
  {
   "cell_type": "code",
   "execution_count": null,
   "metadata": {},
   "outputs": [],
   "source": []
  },
  {
   "cell_type": "code",
   "execution_count": 15,
   "metadata": {},
   "outputs": [],
   "source": [
    "from typing import List\n",
    "\n",
    "class Solution:\n",
    "    def constructDistancedSequence(self, n: int) -> List[int]:\n",
    "        def dfs(pos):\n",
    "            nonlocal res\n",
    "            if pos == 2*n - 1:\n",
    "                return True\n",
    "            if res[pos] != 0:\n",
    "                return dfs(pos + 1)\n",
    "            for i in range(n, 0, -1):\n",
    "                if pos + i >= 2 * n - 1: # 越界\n",
    "                    continue\n",
    "                if i != 1 and res[pos+i] != 0: # 已经被占用\n",
    "                    continue\n",
    "                if used[i] == 1:\n",
    "                    continue\n",
    "                    \n",
    "                res[pos] = i\n",
    "                used[i] = 1\n",
    "                if i != 1:\n",
    "                    res[pos + i] = i\n",
    "                if dfs(pos + 1):\n",
    "                    return True\n",
    "                res[pos] = 0\n",
    "                used[i] = 0\n",
    "                if i != 1:\n",
    "                    res[pos + i] = 0\n",
    "            return False\n",
    "        \n",
    "        used = [0] * (n + 1) # 每个数字是否已经被用了 \n",
    "        res = [0] * (2*n - 1)\n",
    "        dfs(0) # 从第0个位置开始放\n",
    "        return res"
   ]
  },
  {
   "cell_type": "code",
   "execution_count": 16,
   "metadata": {},
   "outputs": [
    {
     "data": {
      "text/plain": [
       "[3, 1, 2, 3, 2]"
      ]
     },
     "execution_count": 16,
     "metadata": {},
     "output_type": "execute_result"
    }
   ],
   "source": [
    "solution = Solution()\n",
    "solution.constructDistancedSequence(3)"
   ]
  },
  {
   "cell_type": "code",
   "execution_count": null,
   "metadata": {},
   "outputs": [],
   "source": []
  }
 ],
 "metadata": {
  "kernelspec": {
   "display_name": "Python 3",
   "language": "python",
   "name": "python3"
  },
  "language_info": {
   "codemirror_mode": {
    "name": "ipython",
    "version": 3
   },
   "file_extension": ".py",
   "mimetype": "text/x-python",
   "name": "python",
   "nbconvert_exporter": "python",
   "pygments_lexer": "ipython3",
   "version": "3.6.2"
  }
 },
 "nbformat": 4,
 "nbformat_minor": 4
}
