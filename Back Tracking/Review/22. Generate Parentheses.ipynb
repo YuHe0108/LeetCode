{
 "cells": [
  {
   "cell_type": "code",
   "execution_count": null,
   "metadata": {},
   "outputs": [],
   "source": []
  },
  {
   "cell_type": "code",
   "execution_count": null,
   "metadata": {},
   "outputs": [],
   "source": []
  },
  {
   "cell_type": "code",
   "execution_count": null,
   "metadata": {},
   "outputs": [],
   "source": []
  },
  {
   "cell_type": "raw",
   "metadata": {},
   "source": [
    "1、当前左右括号都有大于 0 个可以使用的时候，才产生分支；\n",
    "2、产生左分支的时候，只看当前是否还有左括号可以使用；\n",
    "3、产生右分支的时候，还受到左分支的限制，右边剩余可以使用的括号数量一定得在严格大于左边剩余的数量的时候，才可以产生分支；\n",
    "4、在左边和右边剩余的括号数都等于 0 的时候结算。"
   ]
  },
  {
   "cell_type": "code",
   "execution_count": null,
   "metadata": {},
   "outputs": [],
   "source": []
  },
  {
   "cell_type": "code",
   "execution_count": null,
   "metadata": {},
   "outputs": [],
   "source": []
  },
  {
   "cell_type": "code",
   "execution_count": null,
   "metadata": {},
   "outputs": [],
   "source": []
  },
  {
   "cell_type": "code",
   "execution_count": null,
   "metadata": {},
   "outputs": [],
   "source": [
    "from typing import List\n",
    "\n",
    "class Solution:\n",
    "    def generateParenthesis(self, n: int) -> List[str]:\n",
    "\n",
    "        def dfs(cur_str, left, right):\n",
    "            \"\"\"\n",
    "            :param cur_str: 从根结点到叶子结点的路径字符串\n",
    "            :param left: 左括号还可以使用的个数\n",
    "            :param right: 右括号还可以使用的个数\n",
    "            :return:\n",
    "            \"\"\"\n",
    "            if left == 0 and right == 0:\n",
    "                res.append(cur_str)\n",
    "                return\n",
    "            if right < left:\n",
    "                return\n",
    "            if left:\n",
    "                dfs(cur_str + '(', left - 1, right)\n",
    "            if right:\n",
    "                dfs(cur_str + ')', left, right - 1)\n",
    "                \n",
    "        res = []\n",
    "        cur_str = ''\n",
    "        dfs(cur_str, n, n)\n",
    "        return res"
   ]
  },
  {
   "cell_type": "code",
   "execution_count": null,
   "metadata": {},
   "outputs": [],
   "source": []
  },
  {
   "cell_type": "code",
   "execution_count": null,
   "metadata": {},
   "outputs": [],
   "source": []
  },
  {
   "cell_type": "code",
   "execution_count": 5,
   "metadata": {},
   "outputs": [],
   "source": [
    "from typing import List\n",
    "\n",
    "class Solution:\n",
    "    def generateParenthesis(self, n: int) -> List[str]:\n",
    "        \n",
    "        def backtracking(left, right, path):\n",
    "            nonlocal res\n",
    "            \n",
    "            if left == right == 0:\n",
    "                res.append(''.join(path[:]))\n",
    "                return\n",
    "            \n",
    "            if left:\n",
    "                path.append('(')\n",
    "                backtracking(left-1, right, path)\n",
    "                path.pop()\n",
    "                \n",
    "            if left < right:\n",
    "                path.append(')')\n",
    "                backtracking(left, right-1, path)\n",
    "                path.pop()\n",
    "            \n",
    "        res = []\n",
    "        backtracking(n, n, [])\n",
    "        return res"
   ]
  },
  {
   "cell_type": "code",
   "execution_count": 6,
   "metadata": {},
   "outputs": [
    {
     "data": {
      "text/plain": [
       "['((()))', '(()())', '(())()', '()(())', '()()()']"
      ]
     },
     "execution_count": 6,
     "metadata": {},
     "output_type": "execute_result"
    }
   ],
   "source": [
    "solution = Solution()\n",
    "solution.generateParenthesis(n = 3)"
   ]
  },
  {
   "cell_type": "code",
   "execution_count": null,
   "metadata": {},
   "outputs": [],
   "source": []
  }
 ],
 "metadata": {
  "kernelspec": {
   "display_name": "Python 3",
   "language": "python",
   "name": "python3"
  },
  "language_info": {
   "codemirror_mode": {
    "name": "ipython",
    "version": 3
   },
   "file_extension": ".py",
   "mimetype": "text/x-python",
   "name": "python",
   "nbconvert_exporter": "python",
   "pygments_lexer": "ipython3",
   "version": "3.6.2"
  }
 },
 "nbformat": 4,
 "nbformat_minor": 4
}
