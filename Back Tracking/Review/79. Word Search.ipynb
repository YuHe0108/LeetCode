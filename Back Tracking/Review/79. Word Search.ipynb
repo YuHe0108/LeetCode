{
 "cells": [
  {
   "cell_type": "code",
   "execution_count": null,
   "metadata": {},
   "outputs": [],
   "source": []
  },
  {
   "cell_type": "code",
   "execution_count": null,
   "metadata": {},
   "outputs": [],
   "source": []
  },
  {
   "cell_type": "code",
   "execution_count": null,
   "metadata": {},
   "outputs": [],
   "source": []
  },
  {
   "cell_type": "code",
   "execution_count": null,
   "metadata": {},
   "outputs": [],
   "source": [
    "class Solution:\n",
    "    def exist(self, board: List[List[str]], word: str) -> bool:\n",
    "        \n",
    "        def backtracking(idx, r, c):\n",
    "            # idx 遍历到 word 的第几个字符\n",
    "            if idx == n:\n",
    "                return True\n",
    "            if r >= rows or c >= cols or r < 0 or c < 0:\n",
    "                return False\n",
    "            \n",
    "            if board[r][c] == word[idx]:\n",
    "                board[r][c] = '~'\n",
    "                if backtracking(idx+1, r+1, c) or backtracking(idx+1, r-1, c) or backtracking(idx+1, r, c+1) or backtracking(idx+1, r, c-1):\n",
    "                    return True\n",
    "                board[r][c] = word[idx]\n",
    "            return False\n",
    "        \n",
    "        rows, cols = len(board), len(board[0])\n",
    "        n = len(word)\n",
    "        for i in range(rows):\n",
    "            for j in range(cols):\n",
    "                if board[i][j] != word[0]:\n",
    "                    continue\n",
    "                if backtracking(0, i, j):\n",
    "                    return True\n",
    "        return False"
   ]
  },
  {
   "cell_type": "code",
   "execution_count": null,
   "metadata": {},
   "outputs": [],
   "source": []
  }
 ],
 "metadata": {
  "kernelspec": {
   "display_name": "Python 3",
   "language": "python",
   "name": "python3"
  },
  "language_info": {
   "codemirror_mode": {
    "name": "ipython",
    "version": 3
   },
   "file_extension": ".py",
   "mimetype": "text/x-python",
   "name": "python",
   "nbconvert_exporter": "python",
   "pygments_lexer": "ipython3",
   "version": "3.6.2"
  }
 },
 "nbformat": 4,
 "nbformat_minor": 4
}
