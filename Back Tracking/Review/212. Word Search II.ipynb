{
 "cells": [
  {
   "cell_type": "code",
   "execution_count": null,
   "metadata": {},
   "outputs": [],
   "source": []
  },
  {
   "cell_type": "code",
   "execution_count": null,
   "metadata": {},
   "outputs": [],
   "source": []
  },
  {
   "cell_type": "code",
   "execution_count": null,
   "metadata": {},
   "outputs": [],
   "source": []
  },
  {
   "cell_type": "code",
   "execution_count": 57,
   "metadata": {},
   "outputs": [],
   "source": [
    "from typing import List\n",
    "\n",
    "class Node:\n",
    "    def __init__(self):\n",
    "        self.children = {}\n",
    "        self.is_end = False\n",
    "\n",
    "class Trie:\n",
    "    def __init__(self):\n",
    "        self.root = Node()\n",
    "        \n",
    "    def insert(self, word):\n",
    "        node = self.root\n",
    "        for char in word:\n",
    "            if char not in node.children:\n",
    "                node.children[char] = Node()\n",
    "            node = node.children[char]\n",
    "        node.is_end = True\n",
    "\n",
    "class Solution:\n",
    "    def findWords(self, board: List[List[str]], words: List[str]) -> List[str]:\n",
    "        \n",
    "        def dfs(r, c, path, seen, node):\n",
    "            if node.is_end:\n",
    "                res.append(''.join(path))\n",
    "                \n",
    "            for nr, nc in (r+1, c), (r-1, c), (r, c+1), (r, c-1):\n",
    "                if nr < 0 or nc < 0 or nr >= rows or nc >= cols:\n",
    "                    continue\n",
    "                if (nr, nc) in seen:\n",
    "                    continue\n",
    "                seen.add((nr, nc))\n",
    "                if board[nr][nc] in node.children:\n",
    "                    path.append(board[nr][nc])\n",
    "                    dfs(nr, nc, path, seen, node.children[board[nr][nc]])\n",
    "                    path.pop()\n",
    "                seen.remove((nr, nc))\n",
    "            return\n",
    "        \n",
    "        rows, cols = len(board), len(board[0])\n",
    "        trie = Trie()\n",
    "        for word in words:\n",
    "            trie.insert(word)\n",
    "        root = trie.root\n",
    "        res = []\n",
    "        \n",
    "        for i in range(rows):\n",
    "            for j in range(cols):\n",
    "                char = board[i][j]\n",
    "                if char in root.children:\n",
    "                    dfs(i, j, [char], {(i, j)}, root.children[char])\n",
    "        return res"
   ]
  },
  {
   "cell_type": "code",
   "execution_count": 58,
   "metadata": {},
   "outputs": [
    {
     "data": {
      "text/plain": [
       "[]"
      ]
     },
     "execution_count": 58,
     "metadata": {},
     "output_type": "execute_result"
    }
   ],
   "source": [
    "solution = Solution()\n",
    "solution.findWords([[\"a\",\"a\"]], [\"aaa\"])"
   ]
  },
  {
   "cell_type": "code",
   "execution_count": null,
   "metadata": {},
   "outputs": [],
   "source": []
  }
 ],
 "metadata": {
  "kernelspec": {
   "display_name": "Python 3",
   "language": "python",
   "name": "python3"
  },
  "language_info": {
   "codemirror_mode": {
    "name": "ipython",
    "version": 3
   },
   "file_extension": ".py",
   "mimetype": "text/x-python",
   "name": "python",
   "nbconvert_exporter": "python",
   "pygments_lexer": "ipython3",
   "version": "3.6.2"
  }
 },
 "nbformat": 4,
 "nbformat_minor": 4
}
