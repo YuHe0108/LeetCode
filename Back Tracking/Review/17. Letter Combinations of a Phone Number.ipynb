{
 "cells": [
  {
   "cell_type": "code",
   "execution_count": null,
   "metadata": {},
   "outputs": [],
   "source": []
  },
  {
   "cell_type": "code",
   "execution_count": null,
   "metadata": {},
   "outputs": [],
   "source": [
    "class Solution:\n",
    "    def letterCombinations(self, digits: str) -> List[str]:\n",
    "        if not digits: return []\n",
    "\n",
    "        phone = {'2':['a','b','c'],\n",
    "                 '3':['d','e','f'],\n",
    "                 '4':['g','h','i'],\n",
    "                 '5':['j','k','l'],\n",
    "                 '6':['m','n','o'],\n",
    "                 '7':['p','q','r','s'],\n",
    "                 '8':['t','u','v'],\n",
    "                 '9':['w','x','y','z']}\n",
    "                \n",
    "        def backtrack(conbination,nextdigit):\n",
    "            if len(nextdigit) == 0:\n",
    "                res.append(conbination)\n",
    "            else:\n",
    "                for letter in phone[nextdigit[0]]:\n",
    "                    backtrack(conbination + letter,nextdigit[1:])\n",
    "\n",
    "        res = []\n",
    "        backtrack('',digits)\n",
    "        return res\n"
   ]
  },
  {
   "cell_type": "code",
   "execution_count": null,
   "metadata": {},
   "outputs": [],
   "source": []
  },
  {
   "cell_type": "code",
   "execution_count": null,
   "metadata": {},
   "outputs": [],
   "source": []
  },
  {
   "cell_type": "code",
   "execution_count": 7,
   "metadata": {},
   "outputs": [],
   "source": [
    "from typing import List\n",
    "\n",
    "class Solution:\n",
    "    def letterCombinations(self, digits: str) -> List[str]:\n",
    "        \n",
    "        def backtracking(vals, path):\n",
    "            if len(path) == n:\n",
    "                res.append(path)\n",
    "                return \n",
    "            \n",
    "            for i, v in enumerate(vals):\n",
    "                for a in v:\n",
    "                    backtracking(vals[i+1:], path + a)\n",
    "            \n",
    "        \n",
    "        int2alpha = {'2' : ['a', 'b', 'c'],\n",
    "                     '3' : ['d', 'e', 'f'],\n",
    "                     '4' : ['g', 'h', 'i'],\n",
    "                     '5' : ['j', 'k', 'l'],\n",
    "                     '6' : ['m', 'n', 'o'],\n",
    "                     '7' : ['p', 'q', 'r', 's'],\n",
    "                     '8' : ['t', 'u', 'v'],\n",
    "                     '9' : ['w', 'x', 'y', 'z'],\n",
    "                    }\n",
    "        \n",
    "        \n",
    "        if not digits:\n",
    "            return []\n",
    "        if len(digits) == 1:\n",
    "            return int2alpha[digits]\n",
    "        res = []\n",
    "        n = len(digits)\n",
    "        nums = [int2alpha[v] for v in digits]\n",
    "        backtracking(nums, '')\n",
    "        return res"
   ]
  },
  {
   "cell_type": "code",
   "execution_count": 8,
   "metadata": {},
   "outputs": [
    {
     "data": {
      "text/plain": [
       "['ad', 'ae', 'af', 'bd', 'be', 'bf', 'cd', 'ce', 'cf']"
      ]
     },
     "execution_count": 8,
     "metadata": {},
     "output_type": "execute_result"
    }
   ],
   "source": [
    "solution = Solution()\n",
    "solution.letterCombinations(digits = \"23\")"
   ]
  },
  {
   "cell_type": "code",
   "execution_count": null,
   "metadata": {},
   "outputs": [],
   "source": []
  }
 ],
 "metadata": {
  "kernelspec": {
   "display_name": "Python 3",
   "language": "python",
   "name": "python3"
  },
  "language_info": {
   "codemirror_mode": {
    "name": "ipython",
    "version": 3
   },
   "file_extension": ".py",
   "mimetype": "text/x-python",
   "name": "python",
   "nbconvert_exporter": "python",
   "pygments_lexer": "ipython3",
   "version": "3.6.2"
  }
 },
 "nbformat": 4,
 "nbformat_minor": 4
}
