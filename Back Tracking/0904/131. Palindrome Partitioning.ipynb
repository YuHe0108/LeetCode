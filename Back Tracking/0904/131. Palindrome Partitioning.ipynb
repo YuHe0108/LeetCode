{
 "cells": [
  {
   "cell_type": "raw",
   "metadata": {},
   "source": [
    "说明：\n",
    "    给定字符串s，分区s，使得分区的每个子字符串都是回文。返回s的所有可能的回文分区。\n",
    "\n",
    "Example:\n",
    "    Input: \"aab\"\n",
    "    Output:\n",
    "        [\n",
    "          [\"aa\",\"b\"],\n",
    "          [\"a\",\"a\",\"b\"]\n",
    "        ]"
   ]
  },
  {
   "cell_type": "code",
   "execution_count": 14,
   "metadata": {},
   "outputs": [],
   "source": [
    "class Solution:\n",
    "    def partition(self, s: str):\n",
    "        \n",
    "        # 判断一个字符串是不是回文数\n",
    "        def isPalindrome(string):\n",
    "            start = 0\n",
    "            end = len(string) - 1\n",
    "            while start < end:\n",
    "                if string[start] != string[end]:\n",
    "                    return False\n",
    "                start += 1\n",
    "                end -= 1\n",
    "            return True\n",
    "        \n",
    "        def makePartition(curr, s):\n",
    "            if len(s) == 0:\n",
    "                result.append(list(curr))\n",
    "                return\n",
    "            \n",
    "            for i in range(1, len(s) + 1):\n",
    "                if isPalindrome(s[:i]):\n",
    "                    curr.append(s[:i])\n",
    "                    makePartition(curr, s[i:])\n",
    "                    curr.pop()\n",
    "        result = []\n",
    "        makePartition([], s)\n",
    "        return result"
   ]
  },
  {
   "cell_type": "code",
   "execution_count": 15,
   "metadata": {},
   "outputs": [
    {
     "data": {
      "text/plain": [
       "[['a', 'a', 'b'], ['aa', 'b']]"
      ]
     },
     "execution_count": 15,
     "metadata": {},
     "output_type": "execute_result"
    }
   ],
   "source": [
    "s_ = 'aab'\n",
    "solution = Solution()\n",
    "solution.partition(s_)"
   ]
  },
  {
   "cell_type": "code",
   "execution_count": 16,
   "metadata": {},
   "outputs": [],
   "source": [
    "class Solution:\n",
    "    def partition(self, s: str):\n",
    "\n",
    "        def makePartitions(curr, s):\n",
    "            if len(s) == 0: \n",
    "                result.append(list(curr))\n",
    "                return\n",
    "            \n",
    "            for i in range(1, len(s)+1):\n",
    "                temp = s[:i]\n",
    "                if temp == temp[::-1]:\n",
    "                    curr.append(temp)\n",
    "                    makePartitions(curr, s[i:])\n",
    "                    curr.pop()\n",
    "        \n",
    "        result = []\n",
    "        makePartitions([], s)\n",
    "        return result"
   ]
  },
  {
   "cell_type": "code",
   "execution_count": 17,
   "metadata": {},
   "outputs": [
    {
     "data": {
      "text/plain": [
       "[['a', 'a', 'b'], ['aa', 'b']]"
      ]
     },
     "execution_count": 17,
     "metadata": {},
     "output_type": "execute_result"
    }
   ],
   "source": [
    "s_ = 'aab'\n",
    "solution = Solution()\n",
    "solution.partition(s_)"
   ]
  },
  {
   "cell_type": "code",
   "execution_count": 21,
   "metadata": {},
   "outputs": [
    {
     "data": {
      "text/plain": [
       "'a'"
      ]
     },
     "execution_count": 21,
     "metadata": {},
     "output_type": "execute_result"
    }
   ],
   "source": [
    "s_[:1]"
   ]
  },
  {
   "cell_type": "code",
   "execution_count": null,
   "metadata": {},
   "outputs": [],
   "source": []
  }
 ],
 "metadata": {
  "kernelspec": {
   "display_name": "Python 3",
   "language": "python",
   "name": "python3"
  },
  "language_info": {
   "codemirror_mode": {
    "name": "ipython",
    "version": 3
   },
   "file_extension": ".py",
   "mimetype": "text/x-python",
   "name": "python",
   "nbconvert_exporter": "python",
   "pygments_lexer": "ipython3",
   "version": "3.6.2"
  }
 },
 "nbformat": 4,
 "nbformat_minor": 4
}
