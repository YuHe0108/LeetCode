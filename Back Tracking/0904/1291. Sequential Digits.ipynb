{
 "cells": [
  {
   "cell_type": "raw",
   "metadata": {},
   "source": [
    "说明：\n",
    "    当且仅当数字中的每个数字都比前一个数字大一位时，整数才具有连续数字。\n",
    "    返回[low，high]范围内（包括连续数字）的所有整数的排序列表。\n",
    "\n",
    "Example 1:\n",
    "    Input: low = 100, high = 300\n",
    "    Output: [123,234]\n",
    "\n",
    "Example 2:\n",
    "    Input: low = 1000, high = 13000\n",
    "    Output: [1234,2345,3456,4567,5678,6789,12345]\n",
    "\n",
    "Constraints:\n",
    "    1、10 <= low <= high <= 10^9"
   ]
  },
  {
   "cell_type": "code",
   "execution_count": 20,
   "metadata": {},
   "outputs": [],
   "source": [
    "class Solution:\n",
    "    def sequentialDigits(self, low: int, high: int):\n",
    "        num = []\n",
    "        for i in range(1, 9):\n",
    "            while i <= high:\n",
    "                r = i % 10\n",
    "                if r == 0:\n",
    "                    break\n",
    "                if i >= low:\n",
    "                    num.append(i)\n",
    "                i = i*10 + r + 1\n",
    "        return sorted(num)"
   ]
  },
  {
   "cell_type": "code",
   "execution_count": 44,
   "metadata": {},
   "outputs": [],
   "source": [
    "class Solution:\n",
    "    def sequentialDigits(self, low: int, high: int):\n",
    "        s = '123456789'\n",
    "        res = []\n",
    "        for k in range(1, len(s) + 1): # 表示截取不同长度子字符串的长度\n",
    "            for i in range(len(s) - k + 1):\n",
    "                x = int(s[i:i+k])\n",
    "                print(k, i, i+k, x)\n",
    "                if low <= x <= high:\n",
    "                    res.append(x)\n",
    "        return res"
   ]
  },
  {
   "cell_type": "code",
   "execution_count": 45,
   "metadata": {},
   "outputs": [
    {
     "name": "stdout",
     "output_type": "stream",
     "text": [
      "1 0 1 1\n",
      "1 1 2 2\n",
      "1 2 3 3\n",
      "1 3 4 4\n",
      "1 4 5 5\n",
      "1 5 6 6\n",
      "1 6 7 7\n",
      "1 7 8 8\n",
      "1 8 9 9\n",
      "2 0 2 12\n",
      "2 1 3 23\n",
      "2 2 4 34\n",
      "2 3 5 45\n",
      "2 4 6 56\n",
      "2 5 7 67\n",
      "2 6 8 78\n",
      "2 7 9 89\n",
      "3 0 3 123\n",
      "3 1 4 234\n",
      "3 2 5 345\n",
      "3 3 6 456\n",
      "3 4 7 567\n",
      "3 5 8 678\n",
      "3 6 9 789\n",
      "4 0 4 1234\n",
      "4 1 5 2345\n",
      "4 2 6 3456\n",
      "4 3 7 4567\n",
      "4 4 8 5678\n",
      "4 5 9 6789\n",
      "5 0 5 12345\n",
      "5 1 6 23456\n",
      "5 2 7 34567\n",
      "5 3 8 45678\n",
      "5 4 9 56789\n",
      "6 0 6 123456\n",
      "6 1 7 234567\n",
      "6 2 8 345678\n",
      "6 3 9 456789\n",
      "7 0 7 1234567\n",
      "7 1 8 2345678\n",
      "7 2 9 3456789\n",
      "8 0 8 12345678\n",
      "8 1 9 23456789\n",
      "9 0 9 123456789\n"
     ]
    },
    {
     "data": {
      "text/plain": [
       "[123, 234]"
      ]
     },
     "execution_count": 45,
     "metadata": {},
     "output_type": "execute_result"
    }
   ],
   "source": [
    "solution = Solution()\n",
    "solution.sequentialDigits(100, 300)"
   ]
  },
  {
   "cell_type": "code",
   "execution_count": null,
   "metadata": {},
   "outputs": [],
   "source": []
  }
 ],
 "metadata": {
  "kernelspec": {
   "display_name": "Python 3",
   "language": "python",
   "name": "python3"
  },
  "language_info": {
   "codemirror_mode": {
    "name": "ipython",
    "version": 3
   },
   "file_extension": ".py",
   "mimetype": "text/x-python",
   "name": "python",
   "nbconvert_exporter": "python",
   "pygments_lexer": "ipython3",
   "version": "3.6.2"
  }
 },
 "nbformat": 4,
 "nbformat_minor": 4
}
