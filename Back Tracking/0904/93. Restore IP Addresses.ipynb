{
 "cells": [
  {
   "cell_type": "raw",
   "metadata": {},
   "source": [
    "说明：\n",
    "    给定一个只包含数字的字符串s，返回可以从s获得的所有可能有效的IP地址。可以按任何顺序返回它们。\n",
    "    一个有效的IP地址正好由四个整数组成，每个整数在0到255之间，用单点分隔，不能有前导零。\n",
    "    例如，\n",
    "        “0.1.2.201”和“192.168.1.1”是有效的IP地址，\n",
    "        “0.011.255.245”、“192.168.1.312” 和 “192”。\"168@1.1\" 是无效的IP地址。\n",
    "\n",
    "Example 1:\n",
    "    Input: s = \"25525511135\"\n",
    "    Output: [\"255.255.11.135\",\"255.255.111.35\"]\n",
    "\n",
    "Example 2:\n",
    "    Input: s = \"0000\"\n",
    "    Output: [\"0.0.0.0\"]\n",
    "\n",
    "Example 3:\n",
    "    Input: s = \"1111\"\n",
    "    Output: [\"1.1.1.1\"]\n",
    "\n",
    "Example 4:\n",
    "    Input: s = \"010010\"\n",
    "    Output: [\"0.10.0.10\",\"0.100.1.0\"]\n",
    "\n",
    "Example 5:\n",
    "    Input: s = \"101023\"\n",
    "    Output: [\"1.0.10.23\",\"1.0.102.3\",\"10.1.0.23\",\"10.10.2.3\",\"101.0.2.3\"]\n",
    " \n",
    "Constraints:\n",
    "    1、0 <= s.length <= 3000\n",
    "    2、s consists of digits only."
   ]
  },
  {
   "cell_type": "markdown",
   "metadata": {},
   "source": [
    "<img src='93.jpg' width=600>"
   ]
  },
  {
   "cell_type": "code",
   "execution_count": 73,
   "metadata": {},
   "outputs": [],
   "source": [
    "class Solution:\n",
    "    def restoreIpAddresses(self, s: str):\n",
    "        self.res = []\n",
    "        self.dfs(s, [])\n",
    "        res = ['.'.join(x) for x in self.res]\n",
    "        return res\n",
    "    \n",
    "    def dfs(self, s, temp):\n",
    "        if not s and len(temp) == 4 and temp not in self.res:\n",
    "            self.res.append(list(temp))\n",
    "            return\n",
    "        \n",
    "        for step in range(1, 4): #字符串截取的长度只能是 1-3 位置\n",
    "            if len(s[step:]) > 9:\n",
    "                continue\n",
    "            sub_str = s[:step]\n",
    "            if sub_str and 0 <= int(sub_str) <= 255 and len(temp) < 4:\n",
    "                if len(sub_str) > 1 and sub_str[0]:\n",
    "                    print(sub_str)\n",
    "                    continue\n",
    "                temp.append(sub_str)\n",
    "                self.dfs(s[step:], temp)\n",
    "                temp.pop()"
   ]
  },
  {
   "cell_type": "code",
   "execution_count": 75,
   "metadata": {},
   "outputs": [],
   "source": [
    "class Solution:\n",
    "    def restoreIpAddresses(self, s: str):\n",
    "        if len(s) < 4 or len(s) > 12:\n",
    "            return []\n",
    "        self.res = []\n",
    "        self.dfs(s, 0, '', 0)\n",
    "        return self.res\n",
    "\n",
    "    def dfs(self, s, start, path, count):\n",
    "        if count == 4 and start == len(s):\n",
    "            self.res.append(path[1:])\n",
    "            return\n",
    "        for end in [start+1, start+2, start+3]:\n",
    "            if end <= len(s) and 0 <= int(s[start:end]) <= 255 and str(int(s[start:end])) == s[start:end]:\n",
    "                self.dfs(s, end, path+'.'+s[start:end], count+1)"
   ]
  },
  {
   "cell_type": "code",
   "execution_count": 76,
   "metadata": {},
   "outputs": [
    {
     "data": {
      "text/plain": [
       "['0.10.0.10', '0.100.1.0']"
      ]
     },
     "execution_count": 76,
     "metadata": {},
     "output_type": "execute_result"
    }
   ],
   "source": [
    "s_ = \"010010\"\n",
    "solution = Solution()\n",
    "solution.restoreIpAddresses(s_)"
   ]
  },
  {
   "cell_type": "code",
   "execution_count": 33,
   "metadata": {},
   "outputs": [
    {
     "name": "stdout",
     "output_type": "stream",
     "text": [
      "34\n"
     ]
    }
   ],
   "source": [
    "a = '1234'\n",
    "print(a[2:])"
   ]
  },
  {
   "cell_type": "code",
   "execution_count": 116,
   "metadata": {},
   "outputs": [],
   "source": [
    "class Solution:\n",
    "    def restoreIpAddresses(self, s: str):\n",
    "        if len(s) < 4 or len(s) > 12:\n",
    "            return []\n",
    "        self.res = []\n",
    "        self.dfs(s, 0, '', 0)\n",
    "        return self.res\n",
    "\n",
    "    def dfs(self, s, start, path, count):\n",
    "        if count == 4 and start == len(s):\n",
    "            self.res.append(path[1:])\n",
    "            return\n",
    "        \n",
    "        for end in [start+1, start+2, start+3]:\n",
    "            a = end <= len(s)\n",
    "            b = a and 0 <= int(s[start:end]) <= 255 # 防止数字越界\n",
    "            c = a and b and str(int(s[start:end])) == s[start:end] # 防止前导0的出现\n",
    "            if c:\n",
    "                self.dfs(s, end, path + '.' + s[start:end], count+1)"
   ]
  },
  {
   "cell_type": "code",
   "execution_count": 117,
   "metadata": {},
   "outputs": [
    {
     "name": "stdout",
     "output_type": "stream",
     "text": [
      ".1.0.10.23\n",
      ".1.0.102.3\n",
      ".10.1.0.23\n",
      ".10.10.2.3\n",
      ".101.0.2.3\n"
     ]
    },
    {
     "data": {
      "text/plain": [
       "['1.0.10.23', '1.0.102.3', '10.1.0.23', '10.10.2.3', '101.0.2.3']"
      ]
     },
     "execution_count": 117,
     "metadata": {},
     "output_type": "execute_result"
    }
   ],
   "source": [
    "s_ = \"101023\"\n",
    "solution = Solution()\n",
    "solution.restoreIpAddresses(s_)"
   ]
  },
  {
   "cell_type": "code",
   "execution_count": 120,
   "metadata": {},
   "outputs": [],
   "source": [
    "class Solution:\n",
    "    def restoreIpAddresses(self, s: str):\n",
    "        if len(s) < 4 or len(s) > 12:\n",
    "            return []\n",
    "        self.res = set()\n",
    "        self.dfs(s, '', 0)\n",
    "        return list(self.res)\n",
    "    \n",
    "    def dfs(self, s, temp, count):\n",
    "        if not s and count == 4:\n",
    "            print(temp)\n",
    "            self.res.add(temp[1:])\n",
    "            return\n",
    "        \n",
    "        for i in range(1, 4):\n",
    "            a = i <= len(s)\n",
    "            sub_str = s[:i]\n",
    "            b = a and 0 <= int(sub_str) <= 255\n",
    "            c = a and b and str(int(sub_str)) == sub_str\n",
    "            if c:\n",
    "                self.dfs(s[i:], temp+'.'+sub_str, count+1)"
   ]
  },
  {
   "cell_type": "code",
   "execution_count": null,
   "metadata": {},
   "outputs": [],
   "source": []
  },
  {
   "cell_type": "code",
   "execution_count": null,
   "metadata": {},
   "outputs": [],
   "source": []
  },
  {
   "cell_type": "code",
   "execution_count": 132,
   "metadata": {},
   "outputs": [],
   "source": [
    "class Solution:\n",
    "    def restoreIpAddresses(self, s: str):\n",
    "        if len(s) < 4 or len(s) > 12:\n",
    "            return []\n",
    "        self.res = []\n",
    "        self.dfs(s, [], 0)\n",
    "        return ['.'.join(x) for x in self.res]\n",
    "    \n",
    "    def dfs(self, s, temp, count):\n",
    "        if not s and count == 4:\n",
    "            self.res.append(list(temp))\n",
    "            return\n",
    "        \n",
    "        for i in range(1, 4):\n",
    "            if i <= len(s):\n",
    "                sub_str = s[:i]\n",
    "                if 0 <= int(sub_str) <= 255 and str(int(sub_str)) == sub_str:\n",
    "                    temp.append(sub_str)\n",
    "                    self.dfs(s[i:], temp, count+1)\n",
    "                    temp.pop()"
   ]
  },
  {
   "cell_type": "code",
   "execution_count": 133,
   "metadata": {},
   "outputs": [
    {
     "data": {
      "text/plain": [
       "['1.0.10.23', '1.0.102.3', '10.1.0.23', '10.10.2.3', '101.0.2.3']"
      ]
     },
     "execution_count": 133,
     "metadata": {},
     "output_type": "execute_result"
    }
   ],
   "source": [
    "s_ = \"101023\"\n",
    "solution = Solution()\n",
    "solution.restoreIpAddresses(s_)"
   ]
  },
  {
   "cell_type": "code",
   "execution_count": 79,
   "metadata": {},
   "outputs": [
    {
     "ename": "SyntaxError",
     "evalue": "invalid syntax (<ipython-input-79-a363af9fa6fa>, line 1)",
     "output_type": "error",
     "traceback": [
      "\u001b[1;36m  File \u001b[1;32m\"<ipython-input-79-a363af9fa6fa>\"\u001b[1;36m, line \u001b[1;32m1\u001b[0m\n\u001b[1;33m    a = if 2 > 3\u001b[0m\n\u001b[1;37m         ^\u001b[0m\n\u001b[1;31mSyntaxError\u001b[0m\u001b[1;31m:\u001b[0m invalid syntax\n"
     ]
    }
   ],
   "source": [
    "a = if 2 > 3"
   ]
  },
  {
   "cell_type": "code",
   "execution_count": 77,
   "metadata": {},
   "outputs": [
    {
     "data": {
      "text/plain": [
       "[1]"
      ]
     },
     "execution_count": 77,
     "metadata": {},
     "output_type": "execute_result"
    }
   ],
   "source": [
    "a = [1, 2]\n",
    "a[0:1]"
   ]
  },
  {
   "cell_type": "code",
   "execution_count": null,
   "metadata": {},
   "outputs": [],
   "source": []
  }
 ],
 "metadata": {
  "kernelspec": {
   "display_name": "Python 3",
   "language": "python",
   "name": "python3"
  },
  "language_info": {
   "codemirror_mode": {
    "name": "ipython",
    "version": 3
   },
   "file_extension": ".py",
   "mimetype": "text/x-python",
   "name": "python",
   "nbconvert_exporter": "python",
   "pygments_lexer": "ipython3",
   "version": "3.6.2"
  }
 },
 "nbformat": 4,
 "nbformat_minor": 4
}
