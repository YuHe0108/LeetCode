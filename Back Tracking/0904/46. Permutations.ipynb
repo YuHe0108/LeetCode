{
 "cells": [
  {
   "cell_type": "raw",
   "metadata": {},
   "source": [
    "说明：\n",
    "    给定一组不同的整数，返回所有可能的置换。\n",
    "\n",
    "Example:\n",
    "    Input: [1,2,3]\n",
    "    Output:\n",
    "        [\n",
    "          [1,2,3],\n",
    "          [1,3,2],\n",
    "          [2,1,3],\n",
    "          [2,3,1],\n",
    "          [3,1,2],\n",
    "          [3,2,1]\n",
    "        ]"
   ]
  },
  {
   "cell_type": "code",
   "execution_count": 12,
   "metadata": {},
   "outputs": [],
   "source": [
    "#　全排列的问题\n",
    "class Solution:\n",
    "    res = []\n",
    "    def permute(self, nums):\n",
    "        \n",
    "        def helper(nums, start, end):\n",
    "            if start == end:\n",
    "                self.res.append(list(nums))\n",
    "            else:\n",
    "                for i in range(start, end):\n",
    "                    nums[start], nums[i] = nums[i], nums[start]\n",
    "                    helper(nums, start+1, end)\n",
    "                    nums[start], nums[i] = nums[i], nums[start]\n",
    "        helper(nums, 0, len(nums))\n",
    "        return self.res"
   ]
  },
  {
   "cell_type": "code",
   "execution_count": 115,
   "metadata": {},
   "outputs": [],
   "source": [
    "class Solution:\n",
    "    def permute(self, nums):\n",
    "        self.res = []\n",
    "        self.dfs(nums, [])\n",
    "        return self.res\n",
    "    \n",
    "    def dfs(self, nums, path):\n",
    "        if not nums:\n",
    "            self.res.append(list(path))\n",
    "        for i in range(len(nums)):\n",
    "            path.append(nums[i])\n",
    "            self.dfs(nums[:i] + nums[i+1:], path)\n",
    "            path.pop()"
   ]
  },
  {
   "cell_type": "code",
   "execution_count": 116,
   "metadata": {},
   "outputs": [
    {
     "data": {
      "text/plain": [
       "[[1, 2, 3], [1, 3, 2], [2, 1, 3], [2, 3, 1], [3, 1, 2], [3, 2, 1]]"
      ]
     },
     "execution_count": 116,
     "metadata": {},
     "output_type": "execute_result"
    }
   ],
   "source": [
    "solution = Solution()\n",
    "solution.permute([1, 2, 3])"
   ]
  },
  {
   "cell_type": "code",
   "execution_count": 75,
   "metadata": {},
   "outputs": [],
   "source": [
    "class Solution:\n",
    "    def permute(self, nums):\n",
    "        res = []\n",
    "        def dfs(depth: int):\n",
    "            if depth == len(nums) - 1:\n",
    "                res.append(list(nums))\n",
    "            for i in range(depth, len(nums)):\n",
    "                nums[depth], nums[i] = nums[i], nums[depth]\n",
    "                dfs(depth + 1)\n",
    "                nums[depth], nums[i] = nums[i], nums[depth]\n",
    "        dfs(0)\n",
    "        return res"
   ]
  },
  {
   "cell_type": "code",
   "execution_count": 107,
   "metadata": {},
   "outputs": [],
   "source": [
    "class Solution:\n",
    "    \"\"\"\n",
    "    Level0:                       []\n",
    "    level1:       [1]                 [2]              [3]\n",
    "    level2:   [1,2][1,3]           [2,1][2,3]      [3,1][3,2]\n",
    "    level3:  [1,2,3][1,3,2]      [2,1,3][2,3,1]   [3,1,2][3,2,1]          \n",
    "    \n",
    "    \"\"\"\n",
    "    def permute(self, nums):\n",
    "        self.visited = set()\n",
    "        self.res = []\n",
    "        self.dfs(nums, [])\n",
    "        return self.res\n",
    "    \n",
    "    def dfs(self, nums, path):\n",
    "        if len(path) == len(nums):\n",
    "            self.res.append(list(path))\n",
    "            return\n",
    "        \n",
    "        for i in range(len(nums)):\n",
    "            if i not in self.visited:\n",
    "                self.visited.add(i)\n",
    "                path.append(nums[i])\n",
    "                self.dfs(nums, path)\n",
    "                path.pop()\n",
    "                self.visited.remove(i)"
   ]
  },
  {
   "cell_type": "code",
   "execution_count": 108,
   "metadata": {},
   "outputs": [
    {
     "data": {
      "text/plain": [
       "[[0, 7, 8], [0, 8, 7], [7, 0, 8], [7, 8, 0], [8, 0, 7], [8, 7, 0]]"
      ]
     },
     "execution_count": 108,
     "metadata": {},
     "output_type": "execute_result"
    }
   ],
   "source": [
    "solution = Solution()\n",
    "solution.permute([0, 7, 8])"
   ]
  },
  {
   "cell_type": "code",
   "execution_count": null,
   "metadata": {},
   "outputs": [],
   "source": []
  },
  {
   "cell_type": "code",
   "execution_count": null,
   "metadata": {},
   "outputs": [],
   "source": []
  },
  {
   "cell_type": "code",
   "execution_count": null,
   "metadata": {},
   "outputs": [],
   "source": []
  },
  {
   "cell_type": "code",
   "execution_count": 44,
   "metadata": {},
   "outputs": [],
   "source": [
    "a = []\n",
    "a = a + [[1]]"
   ]
  },
  {
   "cell_type": "code",
   "execution_count": 46,
   "metadata": {},
   "outputs": [],
   "source": [
    "a = a + [[2]]"
   ]
  },
  {
   "cell_type": "code",
   "execution_count": 50,
   "metadata": {},
   "outputs": [],
   "source": [
    "a = [1] + [2]"
   ]
  },
  {
   "cell_type": "code",
   "execution_count": 51,
   "metadata": {},
   "outputs": [
    {
     "data": {
      "text/plain": [
       "[1, 2]"
      ]
     },
     "execution_count": 51,
     "metadata": {},
     "output_type": "execute_result"
    }
   ],
   "source": [
    "a"
   ]
  },
  {
   "cell_type": "code",
   "execution_count": null,
   "metadata": {},
   "outputs": [],
   "source": []
  }
 ],
 "metadata": {
  "kernelspec": {
   "display_name": "Python 3",
   "language": "python",
   "name": "python3"
  },
  "language_info": {
   "codemirror_mode": {
    "name": "ipython",
    "version": 3
   },
   "file_extension": ".py",
   "mimetype": "text/x-python",
   "name": "python",
   "nbconvert_exporter": "python",
   "pygments_lexer": "ipython3",
   "version": "3.6.2"
  }
 },
 "nbformat": 4,
 "nbformat_minor": 4
}
