{
 "cells": [
  {
   "cell_type": "raw",
   "metadata": {},
   "source": [
    "说明：\n",
    "    给定一组可能包含重复项的数字，请返回所有可能的唯一排列。\n",
    "\n",
    "Example:\n",
    "    Input: [1,1,2]\n",
    "    Output:\n",
    "    [\n",
    "      [1,1,2],\n",
    "      [1,2,1],\n",
    "      [2,1,1]\n",
    "    ]"
   ]
  },
  {
   "cell_type": "code",
   "execution_count": 4,
   "metadata": {},
   "outputs": [],
   "source": [
    "class Solution:\n",
    "    def permuteUnique(self, nums):\n",
    "        self.res = set()\n",
    "        self.dfs(nums, [])\n",
    "        return self.res\n",
    "    \n",
    "    def dfs(self, nums, path):\n",
    "        if not nums and path not in self.res:\n",
    "            self.res.append(list(path))\n",
    "            return\n",
    "        \n",
    "        for i in range(len(nums)):\n",
    "            path.append(nums[i])\n",
    "            self.dfs(nums[:i] + nums[i+1:], path)\n",
    "            path.pop()"
   ]
  },
  {
   "cell_type": "code",
   "execution_count": 15,
   "metadata": {},
   "outputs": [],
   "source": [
    "from collections import Counter\n",
    "\n",
    "class Solution:\n",
    "    def permuteUnique(self, nums):\n",
    "        res = []\n",
    "\n",
    "        def dfs(counter, path):\n",
    "            if len(path) == len(nums):\n",
    "                res.append(list(path))\n",
    "                return\n",
    "            \n",
    "            for x in counter:\n",
    "                if counter[x]:\n",
    "                    counter[x] -= 1\n",
    "                    path.append(x)\n",
    "                    dfs(counter, path)\n",
    "                    path.pop()\n",
    "                    counter[x] += 1\n",
    "        dfs(Counter(nums), [])\n",
    "        return res"
   ]
  },
  {
   "cell_type": "code",
   "execution_count": null,
   "metadata": {},
   "outputs": [],
   "source": []
  },
  {
   "cell_type": "code",
   "execution_count": null,
   "metadata": {},
   "outputs": [],
   "source": []
  },
  {
   "cell_type": "code",
   "execution_count": null,
   "metadata": {},
   "outputs": [],
   "source": []
  },
  {
   "cell_type": "code",
   "execution_count": 7,
   "metadata": {},
   "outputs": [],
   "source": [
    "class Solution:\n",
    "    def permuteUnique(self, nums):\n",
    "        self.res = []\n",
    "        self.seen = [False] * len(nums)\n",
    "        nums.sort()\n",
    "        self.dfs([], nums)\n",
    "        return self.res\n",
    "    \n",
    "    def dfs(self, temp, nums):\n",
    "        if len(nums) == len(temp):\n",
    "            self.res.append(list(temp))\n",
    "            return\n",
    "        \n",
    "        for i in range(len(nums)):\n",
    "            if self.seen[i] is False: # 没有使用过\n",
    "                if i > 0 and self.seen[i-1] is False and nums[i] == nums[i-1]:\n",
    "                    continue\n",
    "                self.seen[i] = True\n",
    "                temp.append(nums[i])\n",
    "                self.dfs(temp, nums)\n",
    "                temp.pop()\n",
    "                self.seen[i] = False"
   ]
  },
  {
   "cell_type": "code",
   "execution_count": 11,
   "metadata": {},
   "outputs": [],
   "source": [
    "class Solution:\n",
    "    def permuteUnique(self, nums):\n",
    "        res = []\n",
    "        nums.sort()\n",
    "        self.dfs(nums, [], res)\n",
    "        return res\n",
    "\n",
    "    def dfs(self, nums, path, res):\n",
    "        if not nums:\n",
    "            res.append(path)\n",
    "        for i in range(len(nums)):\n",
    "            if i > 0 and nums[i] == nums[i-1]:\n",
    "                continue\n",
    "            self.dfs(nums[:i]+nums[i+1:], path+[nums[i]], res)"
   ]
  },
  {
   "cell_type": "code",
   "execution_count": 13,
   "metadata": {},
   "outputs": [],
   "source": [
    "class Solution:\n",
    "    def permuteUnique(self, nums):\n",
    "        self.res = []\n",
    "        nums.sort()\n",
    "        self.dfs([], nums)\n",
    "        return self.res\n",
    "    def dfs(self, temp, nums):\n",
    "        if not nums:\n",
    "            self.res.append(list(temp))\n",
    "            return\n",
    "        for i in range(len(nums)):\n",
    "            if i > 0 and nums[i] == nums[i - 1]: #　防止重复\n",
    "                continue\n",
    "            temp.append(nums[i])\n",
    "            self.dfs(temp, nums[:i]+nums[i+1:])\n",
    "            temp.pop()"
   ]
  },
  {
   "cell_type": "code",
   "execution_count": 14,
   "metadata": {},
   "outputs": [
    {
     "data": {
      "text/plain": [
       "[[1, 1, 2], [1, 2, 1], [2, 1, 1]]"
      ]
     },
     "execution_count": 14,
     "metadata": {},
     "output_type": "execute_result"
    }
   ],
   "source": [
    "solution = Solution()\n",
    "solution.permuteUnique([1,1,2])"
   ]
  },
  {
   "cell_type": "code",
   "execution_count": null,
   "metadata": {},
   "outputs": [],
   "source": []
  }
 ],
 "metadata": {
  "kernelspec": {
   "display_name": "Python 3",
   "language": "python",
   "name": "python3"
  },
  "language_info": {
   "codemirror_mode": {
    "name": "ipython",
    "version": 3
   },
   "file_extension": ".py",
   "mimetype": "text/x-python",
   "name": "python",
   "nbconvert_exporter": "python",
   "pygments_lexer": "ipython3",
   "version": "3.6.2"
  }
 },
 "nbformat": 4,
 "nbformat_minor": 4
}
