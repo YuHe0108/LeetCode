{
 "cells": [
  {
   "cell_type": "raw",
   "metadata": {},
   "source": [
    "说明：\n",
    "    给定两个整数n和k，返回1 ... n中k个数字的所有可能组合。\n",
    "    您可以按任何顺序返回答案。\n",
    "\n",
    "Example 1:\n",
    "    Input: \n",
    "        n = 4, k = 2\n",
    "    Output:\n",
    "        [\n",
    "          [2,4],\n",
    "          [3,4],\n",
    "          [2,3],\n",
    "          [1,2],\n",
    "          [1,3],\n",
    "          [1,4],\n",
    "        ]\n",
    "Example 2:\n",
    "    Input: n = 1, k = 1\n",
    "    Output: [[1]]\n",
    " \n",
    "限制:\n",
    "    1、1 <= n <= 20\n",
    "    2、1 <= k <= n"
   ]
  },
  {
   "cell_type": "code",
   "execution_count": 1,
   "metadata": {},
   "outputs": [],
   "source": [
    "class Solution:\n",
    "    def combine(self, n: int, k: int):\n",
    "        self.res = []\n",
    "        self.k = k\n",
    "        self.dfs(1, n + 1, [])\n",
    "        return self.res\n",
    "    \n",
    "    def dfs(self, start, end, path):\n",
    "        if len(path) == self.k:\n",
    "            self.res.append(list(path))\n",
    "            return\n",
    "        for i in range(start, end):\n",
    "            path.append(i)\n",
    "            self.dfs(i+1, end, path)\n",
    "            path.pop()"
   ]
  },
  {
   "cell_type": "code",
   "execution_count": 4,
   "metadata": {},
   "outputs": [
    {
     "data": {
      "text/plain": [
       "[[1, 2], [1, 3], [1, 4], [2, 3], [2, 4], [3, 4]]"
      ]
     },
     "execution_count": 4,
     "metadata": {},
     "output_type": "execute_result"
    }
   ],
   "source": [
    "solution = Solution()\n",
    "solution.combine(4, 2)"
   ]
  },
  {
   "cell_type": "code",
   "execution_count": null,
   "metadata": {},
   "outputs": [],
   "source": []
  }
 ],
 "metadata": {
  "kernelspec": {
   "display_name": "Python 3",
   "language": "python",
   "name": "python3"
  },
  "language_info": {
   "codemirror_mode": {
    "name": "ipython",
    "version": 3
   },
   "file_extension": ".py",
   "mimetype": "text/x-python",
   "name": "python",
   "nbconvert_exporter": "python",
   "pygments_lexer": "ipython3",
   "version": "3.6.2"
  }
 },
 "nbformat": 4,
 "nbformat_minor": 4
}
