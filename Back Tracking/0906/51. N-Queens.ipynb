{
 "cells": [
  {
   "cell_type": "raw",
   "metadata": {},
   "source": [
    "说明：\n",
    "    n皇后难题是在n×n棋盘上放置n个皇后，使两个皇后不互相攻击的问题。\n",
    "    皇后的攻击距离：每行、每列、两条对角线。\n",
    "    给定整数n，将所有不同的解决方案返回给n-皇后难题。\n",
    "    每个解决方案都包含一个独特的n-queens放置板配置，其中“ Q”和“。”。都分别表示皇后和空白。\n",
    "\n",
    "Example:\n",
    "    Input: 4\n",
    "    Output: [\n",
    "         [\".Q..\",  // Solution 1\n",
    "          \"...Q\",\n",
    "          \"Q...\",\n",
    "          \"..Q.\"],\n",
    "\n",
    "         [\"..Q.\",  // Solution 2\n",
    "          \"Q...\",\n",
    "          \"...Q\",\n",
    "          \".Q..\"]\n",
    "        ]\n",
    "    Explanation: There exist two distinct solutions to the 4-queens puzzle as shown above."
   ]
  },
  {
   "cell_type": "markdown",
   "metadata": {},
   "source": [
    "<img src='51.jpg'>"
   ]
  },
  {
   "cell_type": "code",
   "execution_count": 30,
   "metadata": {},
   "outputs": [],
   "source": [
    "class Solution:\n",
    "    def solveNQueens(self, n: int):\n",
    "        ans = []\n",
    "        def dfs(nums, row):\n",
    "            # nums表示了每一行的棋盘格子\n",
    "            if row == n: # 到了第n行，表示所有棋盘的可能性都已经试探结束，保存合理的答案\n",
    "                ans.append(nums[:])\n",
    "                return\n",
    "            for col in range(n): # 探索将Q都放置在每一行所有列，都试探一遍\n",
    "                nums[row] = col # 如果当前加的值不满足，\n",
    "                if valid(nums, row): # 检查当前行的当前列位置 Q是不是合理的\n",
    "                    row += 1\n",
    "                    dfs(nums, row)\n",
    "                    row -= 1\n",
    "                    \n",
    "        def valid(nums, row):\n",
    "            for i in range(row):\n",
    "                # 行数绝对值的差 == 列数的绝对值之差：两个数字在对角线上\n",
    "                if abs(nums[row] - nums[i]) == abs(row-i) or nums[i] == nums[row]:\n",
    "                    return False\n",
    "            return True\n",
    "        # 将二维数组转换为了一维的列表，每一个数组下标代表每一行，列表的数字表示防止Q的当前列\n",
    "        dfs([None for _ in range(n)], 0)\n",
    "\n",
    "        results = [[] for _ in range(len(ans))]\n",
    "        for i in range(len(ans)):\n",
    "            for col in ans[i]:\n",
    "                temp = '.' * n\n",
    "                results[i].append(temp[:col] + 'Q' + temp[col+1:])\n",
    "        return results"
   ]
  },
  {
   "cell_type": "code",
   "execution_count": 31,
   "metadata": {},
   "outputs": [
    {
     "data": {
      "text/plain": [
       "[['.Q..', '...Q', 'Q...', '..Q.'], ['..Q.', 'Q...', '...Q', '.Q..']]"
      ]
     },
     "execution_count": 31,
     "metadata": {},
     "output_type": "execute_result"
    }
   ],
   "source": [
    "n_ = 4\n",
    "solution = Solution()\n",
    "solution.solveNQueens(n_)"
   ]
  },
  {
   "cell_type": "code",
   "execution_count": 3,
   "metadata": {},
   "outputs": [],
   "source": [
    "n = 4\n",
    "a = [None for _ in range(n)]"
   ]
  },
  {
   "cell_type": "code",
   "execution_count": 4,
   "metadata": {},
   "outputs": [
    {
     "data": {
      "text/plain": [
       "[None, None, None, None]"
      ]
     },
     "execution_count": 4,
     "metadata": {},
     "output_type": "execute_result"
    }
   ],
   "source": [
    "a"
   ]
  },
  {
   "cell_type": "code",
   "execution_count": null,
   "metadata": {},
   "outputs": [],
   "source": []
  }
 ],
 "metadata": {
  "kernelspec": {
   "display_name": "Python 3",
   "language": "python",
   "name": "python3"
  },
  "language_info": {
   "codemirror_mode": {
    "name": "ipython",
    "version": 3
   },
   "file_extension": ".py",
   "mimetype": "text/x-python",
   "name": "python",
   "nbconvert_exporter": "python",
   "pygments_lexer": "ipython3",
   "version": "3.6.2"
  }
 },
 "nbformat": 4,
 "nbformat_minor": 4
}
