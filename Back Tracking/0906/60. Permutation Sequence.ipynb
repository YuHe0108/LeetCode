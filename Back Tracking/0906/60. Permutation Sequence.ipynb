{
 "cells": [
  {
   "cell_type": "raw",
   "metadata": {},
   "source": [
    "说明：\n",
    "    集合[1,2,3，…，n]总共包含 n！独特的排列。通过按顺序列出并标记所有排列，我们得到n=3的以下序列：\n",
    "       1、\"123\"\n",
    "       2、\"132\"\n",
    "       3、\"213\"\n",
    "       4、\"231\"\n",
    "       5、\"312\"\n",
    "       6、\"321\"\n",
    "   Given n and k, return the kth permutation sequence.\n",
    "\n",
    "注意：\n",
    "    1、给定的n将在1到9之间（含1和9）。\n",
    "    2、给定 k 包括 1~ n！之间包括的所有可能值。\n",
    "\n",
    "Example 1:\n",
    "    Input: n = 3, k = 3\n",
    "    Output: \"213\"\n",
    "\n",
    "Example 2:\n",
    "    Input: n = 4, k = 9\n",
    "    Output: \"2314\""
   ]
  },
  {
   "cell_type": "code",
   "execution_count": 53,
   "metadata": {},
   "outputs": [],
   "source": [
    "# 虽然解法正确，但是时间复杂度较高，不能通过一个一个遍历的方案实现\n",
    "class Solution:\n",
    "    def getPermutation(self, n: int, k: int) -> str:\n",
    "        self.start = 0\n",
    "        factorial = [1 for _ in range(n+1)]\n",
    "        for i in range(1, n+1):\n",
    "            factorial[i] *= factorial[i-1] * i\n",
    "            if  k < factorial[i]:\n",
    "                self.start = i - 1\n",
    "        print(factorial, k, self.start)\n",
    "        \n",
    "        self.res = None\n",
    "        self.count = 0\n",
    "        self.k = k\n",
    "        nums = [i for i in range(1, n+1)]\n",
    "        self.dfs([], nums)\n",
    "        return self.res\n",
    "        \n",
    "    def dfs(self, temp, nums):\n",
    "        if not nums:\n",
    "            self.count += 1\n",
    "            if self.count == self.k:\n",
    "                self.res = ''.join(temp)\n",
    "            return\n",
    "        for i in range(len(nums)):\n",
    "            temp.append(str(nums[i]))\n",
    "            self.dfs(temp, nums[:i] + nums[i+1:])\n",
    "            temp.pop()"
   ]
  },
  {
   "cell_type": "code",
   "execution_count": 18,
   "metadata": {},
   "outputs": [],
   "source": [
    "import math\n",
    "\n",
    "class Solution:\n",
    "    def getPermutation(self, n: int, k: int) -> str:\n",
    "        res = ''\n",
    "        nums = [i for i in range(1, n+1)]\n",
    "        for i in range(n-1, 0, -1): # 从 n-1 到 1 遍历\n",
    "            base = math.factorial(i) # 计算i的阶乘\n",
    "            current = 0\n",
    "            while k > base:\n",
    "                k -= base\n",
    "                current += 1\n",
    "            res += str(nums[current])\n",
    "            nums.pop(current)\n",
    "        res += str(nums[0])\n",
    "        return res"
   ]
  },
  {
   "cell_type": "code",
   "execution_count": 19,
   "metadata": {},
   "outputs": [
    {
     "name": "stdout",
     "output_type": "stream",
     "text": [
      "6 9\n",
      "2 3\n",
      "1 1\n"
     ]
    },
    {
     "data": {
      "text/plain": [
       "'2314'"
      ]
     },
     "execution_count": 19,
     "metadata": {},
     "output_type": "execute_result"
    }
   ],
   "source": [
    "n_ = 4\n",
    "k_ = 9\n",
    "solution = Solution()\n",
    "solution.getPermutation(n_, k_)"
   ]
  },
  {
   "cell_type": "code",
   "execution_count": 22,
   "metadata": {},
   "outputs": [
    {
     "data": {
      "text/plain": [
       "302400"
      ]
     },
     "execution_count": 22,
     "metadata": {},
     "output_type": "execute_result"
    }
   ],
   "source": [
    "9*8*7*5*5*4*3*2*1"
   ]
  },
  {
   "cell_type": "code",
   "execution_count": 3,
   "metadata": {},
   "outputs": [],
   "source": [
    "import math"
   ]
  },
  {
   "cell_type": "code",
   "execution_count": 7,
   "metadata": {},
   "outputs": [
    {
     "name": "stdout",
     "output_type": "stream",
     "text": [
      "6 3\n",
      "2 2\n",
      "1 1\n"
     ]
    }
   ],
   "source": [
    "n = 4\n",
    "for i in range(n-1, 0, -1):\n",
    "    base = math.factorial(i)\n",
    "    print(base, i)"
   ]
  },
  {
   "cell_type": "markdown",
   "metadata": {},
   "source": [
    "<img src='60.jpg' width=550>"
   ]
  },
  {
   "cell_type": "code",
   "execution_count": 40,
   "metadata": {},
   "outputs": [],
   "source": [
    "class Solution(object):\n",
    "    def getPermutation(self, n, k):\n",
    "        nums = list(map(str, range(1, n+1)))\n",
    "        k -= 1\n",
    "        # 求阶乘\n",
    "        factorial = [1] * n\n",
    "        for i in range(1, n):\n",
    "            factorial[i] = factorial[i-1] * i\n",
    "        \n",
    "        res = []\n",
    "        for i in range(n): # 0 ~ n-1\n",
    "            idx = k // factorial[n - 1 - i]\n",
    "            res.append(nums[idx])\n",
    "            nums.remove(nums[idx])\n",
    "            k = k % factorial[n - 1 - i]\n",
    "        return ''.join(res)"
   ]
  },
  {
   "cell_type": "code",
   "execution_count": 41,
   "metadata": {},
   "outputs": [
    {
     "name": "stdout",
     "output_type": "stream",
     "text": [
      "6\n"
     ]
    },
    {
     "data": {
      "text/plain": [
       "'2314'"
      ]
     },
     "execution_count": 41,
     "metadata": {},
     "output_type": "execute_result"
    }
   ],
   "source": [
    "n_ = 4\n",
    "k_ = 9\n",
    "solution = Solution()\n",
    "solution.getPermutation(n_, k_)"
   ]
  },
  {
   "cell_type": "code",
   "execution_count": null,
   "metadata": {},
   "outputs": [],
   "source": []
  },
  {
   "cell_type": "code",
   "execution_count": null,
   "metadata": {},
   "outputs": [],
   "source": []
  }
 ],
 "metadata": {
  "kernelspec": {
   "display_name": "Python 3",
   "language": "python",
   "name": "python3"
  },
  "language_info": {
   "codemirror_mode": {
    "name": "ipython",
    "version": 3
   },
   "file_extension": ".py",
   "mimetype": "text/x-python",
   "name": "python",
   "nbconvert_exporter": "python",
   "pygments_lexer": "ipython3",
   "version": "3.6.2"
  }
 },
 "nbformat": 4,
 "nbformat_minor": 4
}
