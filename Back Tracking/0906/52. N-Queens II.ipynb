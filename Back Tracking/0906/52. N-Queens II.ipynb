{
 "cells": [
  {
   "cell_type": "raw",
   "metadata": {},
   "source": [
    "说明：\n",
    "    n皇后难题是将n个皇后放在n×n棋盘上的问题，这样就不会有两个皇后互相攻击。\n",
    "    给定一个整数n，返回n皇后难题的不同解的数目。\n",
    "\n",
    "Example:\n",
    "    Input: 4\n",
    "    Output: 2\n",
    "    Explanation: There are two distinct solutions to the 4-queens puzzle as shown below.\n",
    "        [\n",
    "         [\".Q..\",  // Solution 1\n",
    "          \"...Q\",\n",
    "          \"Q...\",\n",
    "          \"..Q.\"],\n",
    "\n",
    "         [\"..Q.\",  // Solution 2\n",
    "          \"Q...\",\n",
    "          \"...Q\",\n",
    "          \".Q..\"]\n",
    "        ]\n",
    "这个比51道题更简单了，只是求最多有多少种可能性，并没有要求列出所有的可能性"
   ]
  },
  {
   "cell_type": "code",
   "execution_count": 13,
   "metadata": {},
   "outputs": [],
   "source": [
    "class Solution:\n",
    "    count = 0\n",
    "    def totalNQueens(self, n: int) -> int:\n",
    "        def dfs(nums, row):\n",
    "            if row == n:\n",
    "                self.count += 1\n",
    "                return\n",
    "            for col in range(n):\n",
    "                nums[row] = col\n",
    "                if is_valid(nums, row):\n",
    "                    row += 1\n",
    "                    dfs(nums, row)\n",
    "                    row -= 1\n",
    "        \n",
    "        def is_valid(nums, row):\n",
    "            for i in range(row):\n",
    "                if abs(nums[row] - nums[i]) == abs(row - i) or nums[row] == nums[i]:\n",
    "                    return False\n",
    "            return True\n",
    "        \n",
    "        dfs([None for _ in range(n)], 0)\n",
    "        return self.count"
   ]
  },
  {
   "cell_type": "code",
   "execution_count": 14,
   "metadata": {},
   "outputs": [
    {
     "data": {
      "text/plain": [
       "2"
      ]
     },
     "execution_count": 14,
     "metadata": {},
     "output_type": "execute_result"
    }
   ],
   "source": [
    "solution = Solution()\n",
    "solution.totalNQueens(4)"
   ]
  },
  {
   "cell_type": "code",
   "execution_count": null,
   "metadata": {},
   "outputs": [],
   "source": []
  }
 ],
 "metadata": {
  "kernelspec": {
   "display_name": "Python 3",
   "language": "python",
   "name": "python3"
  },
  "language_info": {
   "codemirror_mode": {
    "name": "ipython",
    "version": 3
   },
   "file_extension": ".py",
   "mimetype": "text/x-python",
   "name": "python",
   "nbconvert_exporter": "python",
   "pygments_lexer": "ipython3",
   "version": "3.6.2"
  }
 },
 "nbformat": 4,
 "nbformat_minor": 4
}
