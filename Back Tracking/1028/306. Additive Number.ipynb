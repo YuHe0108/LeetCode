{
 "cells": [
  {
   "cell_type": "raw",
   "metadata": {},
   "source": [
    "说明：\n",
    "    累加数是一个字符串，组成它的数字可以形成累加序列。\n",
    "    一个有效的累加序列必须至少包含 3 个数。除了最开始的两个数以外，字符串中的其他数都等于它之前两个数相加的和。\n",
    "    给定一个只包含数字 '0'-'9' 的字符串，编写一个算法来判断给定输入是否是累加数。\n",
    "\n",
    "说明: \n",
    "    累加序列里的数不会以 0 开头，所以不会出现 1, 2, 03 或者 1, 02, 3 的情况。\n",
    "\n",
    "示例 1:\n",
    "    输入: \"112358\"\n",
    "    输出: true \n",
    "    解释: 累加序列为: 1, 1, 2, 3, 5, 8 。1 + 1 = 2, 1 + 2 = 3, 2 + 3 = 5, 3 + 5 = 8\n",
    "\n",
    "示例 2:\n",
    "    输入: \"199100199\"\n",
    "    输出: true \n",
    "    解释: 累加序列为: 1, 99, 100, 199。1 + 99 = 100, 99 + 100 = 199\n",
    "\n",
    "Constraints:\n",
    "    1、num consists only of digits '0'-'9'.\n",
    "    2、1 <= num.length <= 35\n",
    "\n",
    "进阶:\n",
    "    你如何处理一个溢出的过大的整数输入?"
   ]
  },
  {
   "cell_type": "code",
   "execution_count": 1,
   "metadata": {},
   "outputs": [],
   "source": [
    "class Solution:\n",
    "    def isAdditiveNumber(self, num: str) -> bool:\n",
    "        if len(nums) <= 2: \n",
    "            return False\n",
    "        return self.helper(nums, 2, 3)\n",
    "    \n",
    "    def helper(self, nums, s_idx, e_idx):\n",
    "        if e_idx > len(nums):\n",
    "            return True\n",
    "        for i in range(idx, len(nums)):\n",
    "            "
   ]
  },
  {
   "cell_type": "code",
   "execution_count": 23,
   "metadata": {},
   "outputs": [],
   "source": [
    "class Solution:\n",
    "    def isAdditiveNumber(self, nums: str) -> bool:\n",
    "        if len(nums) <= 2: \n",
    "            return False\n",
    "        for i in range(1, len(nums)):\n",
    "            for j in range(i+1, len(nums)):\n",
    "                n1 = nums[:i]\n",
    "                n2 = nums[i:j]\n",
    "                if (len(n1) > 1 and n1[0] == '0') or (len(n2) > 1 and n2[0] == '0'):\n",
    "                    continue\n",
    "                while j < len(nums):\n",
    "                    n3 = str(int(n1) + int(n2))\n",
    "                    if not nums.startswith(n3, j):\n",
    "                        break\n",
    "                    j += len(n3)\n",
    "                    n1, n2 = n2, n3\n",
    "                if j == len(nums):\n",
    "                    return True\n",
    "        return False"
   ]
  },
  {
   "cell_type": "code",
   "execution_count": 29,
   "metadata": {},
   "outputs": [],
   "source": [
    "class Solution:\n",
    "    def isAdditiveNumber(self, nums: str) -> bool:\n",
    "        if len(nums) <= 2: \n",
    "            return False\n",
    "        pass"
   ]
  },
  {
   "cell_type": "code",
   "execution_count": 30,
   "metadata": {},
   "outputs": [],
   "source": [
    "solution = Solution()\n",
    "solution.isAdditiveNumber(\"1023\")"
   ]
  },
  {
   "cell_type": "code",
   "execution_count": null,
   "metadata": {},
   "outputs": [],
   "source": [
    "class Solution:\n",
    "    def isAdditiveNumber(self, num: str) -> bool:\n",
    "\n",
    "        def dfs(s, prev):\n",
    "            if len(s) == 0:\n",
    "                self.res = True\n",
    "                return\n",
    "            for k in range(1, len(s) + 1):\n",
    "                str2 = s[:k]\n",
    "                if len(str2) > 1 and str2[0] == '0':\n",
    "                    return \n",
    "                if int(str2) == prev[-1] + prev[-2]:\n",
    "                    dfs(s[k:], prev + [int(str2)])                \n",
    "        self.res = False\n",
    "\n",
    "        for i in range(1, len(num) - 1):\n",
    "            str0 = num[:i]\n",
    "            if len(str0) > 1 and str0[0] == '0':\n",
    "                continue\n",
    "            num0 = int(str0)\n",
    "            for j in range(i + 1, len(num)):\n",
    "                str1 = num[i:j]\n",
    "                if len(str1) > 1 and str1[0] == '0':\n",
    "                    continue\n",
    "                num1 = int(str1)\n",
    "                dfs(num[j:], [num0, num1])\n",
    "\n",
    "        return self.res "
   ]
  },
  {
   "cell_type": "code",
   "execution_count": 41,
   "metadata": {},
   "outputs": [],
   "source": [
    "class Solution:\n",
    "    def isAdditiveNumber(self, num: str) -> bool:\n",
    "        def dfs(s, prev):\n",
    "            if len(s) == 0:\n",
    "                self.res = True\n",
    "                return\n",
    "            for k in range(1, len(s) + 1):\n",
    "                str2 = s[:k]\n",
    "                if len(str2) > 1 and str2[0] == '0':\n",
    "                    return\n",
    "                if int(str2) == prev[-1] + prev[-2]:\n",
    "                    dfs(s[k:], prev + [int(str2)])\n",
    "        self.res = False\n",
    "        \n",
    "        for i in range(1, len(nums) - 1):\n",
    "            str0 = nums[:i]\n",
    "            if len(str0) > 1 and str0[0] == '0':\n",
    "                continue\n",
    "            num0 = int(str0)\n",
    "            for j in range(i+1, len(nums)):\n",
    "                str1 = nums[i:j]\n",
    "                if len(str1) > 1 and str1[0] == '0':\n",
    "                    continue\n",
    "                num1 = int(str1)\n",
    "                dfs(nums[j:], [num0, num1])\n",
    "        return self.res"
   ]
  },
  {
   "cell_type": "code",
   "execution_count": 86,
   "metadata": {},
   "outputs": [],
   "source": [
    "class Solution:\n",
    "    def isAdditiveNumber(self, nums: str) -> bool:\n",
    "        self.res = False\n",
    "        def dfs(num, prev):\n",
    "            if not num:\n",
    "                self.res = True\n",
    "            for k in range(1, len(num) + 1):\n",
    "                n3 = num[:k]\n",
    "                if len(n3) > 1 and n3[0] == '0':\n",
    "                    return\n",
    "                if prev[-1] + prev[-2] == int(n3):\n",
    "                    dfs(num[k:], prev + [int(n3)])\n",
    "        \n",
    "        for i in range(1, len(nums)):\n",
    "            if self.res:\n",
    "                return True\n",
    "            n1 = nums[:i]\n",
    "            if len(n1) > 1 and n1[0] == '0':\n",
    "                continue\n",
    "            for j in range(i+1, len(nums)):\n",
    "                n2 = nums[i:j]\n",
    "                if len(n2) > 1 and n2[0] == '0':\n",
    "                    continue\n",
    "                dfs(nums[j:], [int(n1), int(n2)])\n",
    "        return self.res"
   ]
  },
  {
   "cell_type": "code",
   "execution_count": 87,
   "metadata": {},
   "outputs": [
    {
     "data": {
      "text/plain": [
       "True"
      ]
     },
     "execution_count": 87,
     "metadata": {},
     "output_type": "execute_result"
    }
   ],
   "source": [
    "solution = Solution()\n",
    "solution.isAdditiveNumber(\"112358\")"
   ]
  },
  {
   "cell_type": "code",
   "execution_count": null,
   "metadata": {},
   "outputs": [],
   "source": [
    "class Solution:\n",
    "    def isAdditiveNumber(self, nums: str) -> bool:\n",
    "        pass"
   ]
  },
  {
   "cell_type": "code",
   "execution_count": 42,
   "metadata": {},
   "outputs": [
    {
     "name": "stdout",
     "output_type": "stream",
     "text": [
      "[1, 1]\n",
      "[1, 1, 2]\n",
      "[1, 1, 2, 3]\n",
      "[1, 1, 2, 3, 5]\n",
      "[1, 1, 2, 3, 5, 8]\n",
      "[1, 12]\n",
      "[1, 123]\n",
      "[1, 1235]\n"
     ]
    },
    {
     "data": {
      "text/plain": [
       "True"
      ]
     },
     "execution_count": 42,
     "metadata": {},
     "output_type": "execute_result"
    }
   ],
   "source": [
    "solution = Solution()\n",
    "solution.isAdditiveNumber(\"112358\")"
   ]
  },
  {
   "cell_type": "code",
   "execution_count": null,
   "metadata": {},
   "outputs": [],
   "source": []
  },
  {
   "cell_type": "code",
   "execution_count": null,
   "metadata": {},
   "outputs": [],
   "source": []
  },
  {
   "cell_type": "code",
   "execution_count": null,
   "metadata": {},
   "outputs": [],
   "source": []
  },
  {
   "cell_type": "code",
   "execution_count": 4,
   "metadata": {},
   "outputs": [
    {
     "name": "stdout",
     "output_type": "stream",
     "text": [
      "[1, 2, 3]\n"
     ]
    }
   ],
   "source": [
    "a = [0, 1, 2, 3]\n",
    "print(a[1:4])"
   ]
  },
  {
   "cell_type": "code",
   "execution_count": 28,
   "metadata": {},
   "outputs": [
    {
     "data": {
      "text/plain": [
       "True"
      ]
     },
     "execution_count": 28,
     "metadata": {},
     "output_type": "execute_result"
    }
   ],
   "source": [
    "a = '1234'\n",
    "a.startswith('23', 1)"
   ]
  },
  {
   "cell_type": "code",
   "execution_count": null,
   "metadata": {},
   "outputs": [],
   "source": []
  },
  {
   "cell_type": "code",
   "execution_count": null,
   "metadata": {},
   "outputs": [],
   "source": []
  }
 ],
 "metadata": {
  "kernelspec": {
   "display_name": "Python 3",
   "language": "python",
   "name": "python3"
  },
  "language_info": {
   "codemirror_mode": {
    "name": "ipython",
    "version": 3
   },
   "file_extension": ".py",
   "mimetype": "text/x-python",
   "name": "python",
   "nbconvert_exporter": "python",
   "pygments_lexer": "ipython3",
   "version": "3.6.2"
  }
 },
 "nbformat": 4,
 "nbformat_minor": 4
}
