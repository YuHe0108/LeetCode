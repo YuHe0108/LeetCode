{
 "cells": [
  {
   "cell_type": "raw",
   "metadata": {},
   "source": [
    "说明：\n",
    "    给定一个数字字符串S，例如S = “123456579”，我们可以将其拆分为类似于Fibonacci的序列[123，456，579]。\n",
    "    形式上，类似于斐波那契的序列是非负整数的列表F，使得：\n",
    "        1、0 <= F [i] <= 2^31-1（即，每个整数都适合32位有符号整数类型）；\n",
    "        2、F.length> = 3;\n",
    "        3、F[i] + F[i+1] = F[i+2]的所有0 <= i <F.length-2。\n",
    "     另外，请注意，将字符串分割成段时，每个段都不能有多余的前导零，除了如果该部分本身是数字0。\n",
    "     返回从S拆分的任何类似于Fibonacci的序列，如果无法完成，则返回[]。\n",
    "\n",
    "Example 1:\n",
    "    Input: \"123456579\"\n",
    "    Output: [123,456,579]  123+456 = 579\n",
    "\n",
    "Example 2:\n",
    "    Input: \"11235813\"\n",
    "    Output: [1,1,2,3,5,8,13]\n",
    "\n",
    "Example 3:\n",
    "    Input: \"112358130\"\n",
    "    Output: []\n",
    "    Explanation: The task is impossible.\n",
    "\n",
    "Example 4:\n",
    "    Input: \"0123\"\n",
    "    Output: []\n",
    "    Explanation: Leading zeroes are not allowed, so \"01\", \"2\", \"3\" is not valid.\n",
    "\n",
    "Example 5:\n",
    "    Input: \"1101111\"\n",
    "    Output: [110, 1, 111]\n",
    "    Explanation: The output [11, 0, 11, 11] would also be accepted."
   ]
  },
  {
   "cell_type": "code",
   "execution_count": 17,
   "metadata": {},
   "outputs": [],
   "source": [
    "class Solution:\n",
    "    def splitIntoFibonacci(self, S: str):\n",
    "        self.res = []\n",
    "        self.dfs(S, [], 0)\n",
    "        return self.res\n",
    "    \n",
    "    def dfs(self, S, temp, count):\n",
    "        if not S and count >= 3:\n",
    "            self.res = temp[:]\n",
    "            return\n",
    "        for step in range(1, min(len(S)+1, 11)):\n",
    "            val = S[:step]\n",
    "            if str(int(val)) == val and 0 <= int(val) <= pow(2, 31) - 1: # 防止前导 0 的出现\n",
    "                if count < 2:\n",
    "                    temp.append(int(val))\n",
    "                    self.dfs(S[step:], temp, count+1)\n",
    "                    temp.pop()\n",
    "                elif temp[count-2] + temp[count-1] == int(val):\n",
    "                    temp.append(int(val))\n",
    "                    self.dfs(S[step:], temp, count+1)\n",
    "                    temp.pop()"
   ]
  },
  {
   "cell_type": "code",
   "execution_count": null,
   "metadata": {},
   "outputs": [],
   "source": [
    "class Solution:\n",
    "    def splitIntoFibonacci(self, S: str):\n",
    "        for i in range(min(10, len(S))):\n",
    "            pass"
   ]
  },
  {
   "cell_type": "code",
   "execution_count": 18,
   "metadata": {},
   "outputs": [
    {
     "data": {
      "text/plain": [
       "[]"
      ]
     },
     "execution_count": 18,
     "metadata": {},
     "output_type": "execute_result"
    }
   ],
   "source": [
    "S_ = \"539834657215398346785398346991079669377161950407626991734534318677529701785098211336528511\"\n",
    "solution = Solution()\n",
    "solution.splitIntoFibonacci(S_)"
   ]
  },
  {
   "cell_type": "code",
   "execution_count": null,
   "metadata": {},
   "outputs": [],
   "source": [
    "class Solution(object):\n",
    "    def splitIntoFibonacci(self, S):\n",
    "        for i in range(min(10, len(S))):\n",
    "            x = S[:i+1]\n",
    "            if x != '0' and x.startswith('0'): \n",
    "                break\n",
    "            a = int(x)\n",
    "            for j in range(i+1, min(i+10, len(S))):\n",
    "                y = S[i+1: j+1]\n",
    "                if y != '0' and y.startswith('0'): break\n",
    "                b = int(y)\n",
    "                fib = [a, b]\n",
    "                k = j + 1\n",
    "                while k < len(S):\n",
    "                    nxt = fib[-1] + fib[-2]\n",
    "                    nxtS = str(nxt)\n",
    "                    if nxt <= 2**31 - 1 and S[k:].startswith(nxtS):\n",
    "                        k += len(nxtS)\n",
    "                        fib.append(nxt)\n",
    "                    else:\n",
    "                        break\n",
    "                else:\n",
    "                    if len(fib) >= 3:\n",
    "                        return fib\n",
    "        return []"
   ]
  }
 ],
 "metadata": {
  "kernelspec": {
   "display_name": "Python 3",
   "language": "python",
   "name": "python3"
  },
  "language_info": {
   "codemirror_mode": {
    "name": "ipython",
    "version": 3
   },
   "file_extension": ".py",
   "mimetype": "text/x-python",
   "name": "python",
   "nbconvert_exporter": "python",
   "pygments_lexer": "ipython3",
   "version": "3.6.2"
  }
 },
 "nbformat": 4,
 "nbformat_minor": 4
}
