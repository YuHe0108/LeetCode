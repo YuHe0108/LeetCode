{
 "cells": [
  {
   "cell_type": "raw",
   "metadata": {},
   "source": [
    "说明：\n",
    "    给定一个输入字符串 s 和一个模式 p, 实现支持'.'的正则表达式匹配和 \"*\"。\n",
    "    1、'.' 任意一个字符.\n",
    "    2、'*' 零个或者多个前字符,只能匹配一种字符，不能匹配多种.\n",
    "\n",
    "匹配项应覆盖整个输入字符串（而不是部分）。\n",
    "注意：\n",
    "    1、s可以为空，并且仅包含小写字母a-z。 \n",
    "    2、p可以为空，并且仅包含小写字母a-z 、'.' 和 '*'\n",
    "\n",
    "Example 1:\n",
    "    Input:\n",
    "        s = \"aa\"\n",
    "        p = \"a\"\n",
    "    Output: false\n",
    "    Explanation: \"a\" does not match the entire string \"aa\".\n",
    "\n",
    "Example 2:\n",
    "    Input:\n",
    "        s = \"aa\"\n",
    "        p = \"a*\"\n",
    "    Output: true\n",
    "    Explanation: '*' means zero or more of the preceding element, 'a'. Therefore, by repeating 'a' once, it becomes \"aa\".\n",
    "\n",
    "Example 3:\n",
    "    Input:\n",
    "        s = \"ab\"\n",
    "        p = \".*\"\n",
    "    Output: true\n",
    "    Explanation: \".*\" means \"zero or more (*) of any character (.)\".\n",
    "\n",
    "Example 4:\n",
    "    Input:\n",
    "        s = \"aab\"\n",
    "        p = \"c*a*b\"\n",
    "    Output: true\n",
    "    Explanation: c can be repeated 0 times, a can be repeated 1 time. Therefore, it matches \"aab\".\n",
    "\n",
    "Example 5:\n",
    "    Input:\n",
    "        s = \"mississippi\"\n",
    "        p = \"mis*is*p*.\"\n",
    "    Output: false"
   ]
  },
  {
   "cell_type": "code",
   "execution_count": 3,
   "metadata": {},
   "outputs": [],
   "source": [
    "class Solution:\n",
    "    def isMatch(self, s: str, p: str) -> bool:\n",
    "        if not s: return True\n",
    "        if s and not p: return False\n",
    "        return self.dfs(s, p, 0)\n",
    "    \n",
    "    def dfs(self, s, p, count):\n",
    "        if count == len(s):\n",
    "            return True\n",
    "        if p[count].isalpha():\n",
    "            if s[count] == p[count]:\n",
    "                self.dfs(s, p, count + 1)\n",
    "            return False\n",
    "        if p[count] == '.':\n",
    "            pass\n",
    "        if p[count] == '*':\n",
    "            pass"
   ]
  },
  {
   "cell_type": "code",
   "execution_count": 8,
   "metadata": {},
   "outputs": [],
   "source": [
    "class Solution:\n",
    "    def isMatch(self, s: str, p: str) -> bool:\n",
    "        s, p = ' ' + s, ' ' + p\n",
    "        lenS, lenP = len(s), len(p)\n",
    "        dp = [[False] * lenP for _ in range(lenS)]\n",
    "        dp[0][0] = True\n",
    "        \n",
    "        # 当s为空的字符，p不为空的字符时\n",
    "        # s = \"\"\n",
    "        # p = \"a*\" dp[0][j=2] = dp[0][j-2] = dp[0][0]\n",
    "        # p = \"a*b*\"  dp[0][j=4] = dp[0]\n",
    "        for j in range(1, lenP):\n",
    "            if p[j] == '*': # 此时只能将‘*’视作一个空的字符，\n",
    "                dp[0][j] = dp[0][j-2] # j-1是 ‘*’ 之前的字符，j-2必须要是空的字符才有可能匹配\n",
    "        \n",
    "        for i in range(1, lenS):\n",
    "            for j in range(1, lenP):\n",
    "                if p[j] == s[i] or p[j] == '.':\n",
    "                    dp[i][j] = dp[i-1][j-1] # 当前字母匹配，如果两个字符串的前一个字符也匹配，则两个字符串匹配\n",
    "                elif p[j] == '*':\n",
    "                    #  零个匹配、一个匹配、多个匹配\n",
    "                    if p[j-1] != s[i] and p[j-1] != '.': # 匹配0个的情况\n",
    "                        dp[i][j] = dp[i][j-2]\n",
    "                    else:\n",
    "                        # 0、1个、或者多个匹配\n",
    "                        dp[i][j] = dp[i][j-2] or dp[i][j-1] or dp[i-1][j]\n",
    "        print(dp)\n",
    "        return dp[-1][-1]"
   ]
  },
  {
   "cell_type": "code",
   "execution_count": 9,
   "metadata": {},
   "outputs": [
    {
     "name": "stdout",
     "output_type": "stream",
     "text": [
      "[[True, False, True, False], [False, True, True, False], [False, False, True, False], [False, False, True, False], [False, False, False, True]]\n"
     ]
    },
    {
     "data": {
      "text/plain": [
       "True"
      ]
     },
     "execution_count": 9,
     "metadata": {},
     "output_type": "execute_result"
    }
   ],
   "source": [
    "s_ = 'aaac'\n",
    "p_ = 'a*c'\n",
    "solution = Solution()\n",
    "solution.isMatch(s_, p_)"
   ]
  },
  {
   "cell_type": "code",
   "execution_count": 1,
   "metadata": {},
   "outputs": [
    {
     "data": {
      "text/plain": [
       "[[True, False, True, False],\n",
       " [False, True, True, False],\n",
       " [False, False, True, False],\n",
       " [False, False, True, False],\n",
       " [False, False, False, True]]"
      ]
     },
     "execution_count": 1,
     "metadata": {},
     "output_type": "execute_result"
    }
   ],
   "source": [
    "[[True, False, True, False],  # s=' ', [0: p = ' ', True], [1: p=' a', False], [2: p='*', True], [3: p='c', False]\n",
    " [False, True, True, False],  # s='a', [0: p = ' ', False], [1: p=' a', True], [2: p='*', True], [3: p='c', False]\n",
    " [False, False, True, False], # s='a', [0: p = ' ', False], [1: p=' a', False], [2: p='*', True], [3: p='c', False]\n",
    " [False, False, True, False], # s='a', [0: p = ' ', False], [1: p=' a', False], [2: p='*', True], [3: p='c', False]\n",
    " [False, False, False, True]] # s='c', [0: p = ' ', False], [1: p=' a', False], [2: p='*', True], [3: p='c', True]"
   ]
  },
  {
   "cell_type": "code",
   "execution_count": null,
   "metadata": {},
   "outputs": [],
   "source": []
  },
  {
   "cell_type": "code",
   "execution_count": null,
   "metadata": {},
   "outputs": [],
   "source": []
  }
 ],
 "metadata": {
  "kernelspec": {
   "display_name": "Python 3",
   "language": "python",
   "name": "python3"
  },
  "language_info": {
   "codemirror_mode": {
    "name": "ipython",
    "version": 3
   },
   "file_extension": ".py",
   "mimetype": "text/x-python",
   "name": "python",
   "nbconvert_exporter": "python",
   "pygments_lexer": "ipython3",
   "version": "3.6.2"
  }
 },
 "nbformat": 4,
 "nbformat_minor": 4
}
