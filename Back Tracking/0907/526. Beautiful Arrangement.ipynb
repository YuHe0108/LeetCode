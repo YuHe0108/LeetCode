{
 "cells": [
  {
   "cell_type": "raw",
   "metadata": {},
   "source": [
    "说明：\n",
    "    假设您有N个从1到N的整数。如果此数组中的第i个位置（1 <= i <= N）满足以下条件之一，则将美好的排列定义为由这N个数字成功构建的数组：\n",
    "        1、第i个位置的数字可被i整除。\n",
    "        2、i可以被第i个位置的数字整除。\n",
    "    现在给定N，您可以构造多少个漂亮的布置？\n",
    "    \n",
    "要求：\n",
    "    1、第i个位置的数字可以整除i\n",
    "    2、i可以整除第i个位置的数字。\n",
    "    即是：num[i] % (i+1) == 0 or (i+1) % num[i] == 0取余的零\n",
    "\n",
    "Example 1:\n",
    "    Input: 2\n",
    "    Output: 2\n",
    "    Explanation: \n",
    "        The first beautiful arrangement is [1, 2]:\n",
    "        Number at the 1st position (i=1) is 1, and 1 is divisible by i (i=1).\n",
    "        Number at the 2nd position (i=2) is 2, and 2 is divisible by i (i=2).\n",
    "        \n",
    "        The second beautiful arrangement is [2, 1]:\n",
    "        Number at the 1st position (i=1) is 2, and 2 is divisible by i (i=1).\n",
    "        Number at the 2nd position (i=2) is 1, and i (i=2) is divisible by 1.\n",
    "\n",
    "Note:\n",
    "    1、N is a positive integer and will not exceed 15."
   ]
  },
  {
   "cell_type": "code",
   "execution_count": 19,
   "metadata": {},
   "outputs": [],
   "source": [
    "class Solution:\n",
    "    def countArrangement(self, N: int) -> int:\n",
    "        nums = [i for i in range(1, N+1)]\n",
    "        # 每个数字都有可能成为第一位\n",
    "        self.res = 0\n",
    "        self.dfs(nums, [], 0)\n",
    "        return self.res\n",
    "    \n",
    "    def dfs(self, nums, temp, count):\n",
    "        if not nums:\n",
    "            self.res += 1\n",
    "        for i, num in enumerate(nums):\n",
    "            if num % (count + 1) == 0 or (count + 1) % num == 0:\n",
    "                temp.append(num)\n",
    "                self.dfs(nums[:i]+nums[i+1:], temp, count+1)\n",
    "                temp.pop()"
   ]
  },
  {
   "cell_type": "code",
   "execution_count": 20,
   "metadata": {},
   "outputs": [
    {
     "data": {
      "text/plain": [
       "3"
      ]
     },
     "execution_count": 20,
     "metadata": {},
     "output_type": "execute_result"
    }
   ],
   "source": [
    "N_ = 3\n",
    "solution = Solution()\n",
    "solution.countArrangement(N_)"
   ]
  },
  {
   "cell_type": "code",
   "execution_count": null,
   "metadata": {},
   "outputs": [],
   "source": []
  },
  {
   "cell_type": "code",
   "execution_count": null,
   "metadata": {},
   "outputs": [],
   "source": []
  }
 ],
 "metadata": {
  "kernelspec": {
   "display_name": "Python 3",
   "language": "python",
   "name": "python3"
  },
  "language_info": {
   "codemirror_mode": {
    "name": "ipython",
    "version": 3
   },
   "file_extension": ".py",
   "mimetype": "text/x-python",
   "name": "python",
   "nbconvert_exporter": "python",
   "pygments_lexer": "ipython3",
   "version": "3.6.2"
  }
 },
 "nbformat": 4,
 "nbformat_minor": 4
}
