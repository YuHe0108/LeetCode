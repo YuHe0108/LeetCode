{
 "cells": [
  {
   "cell_type": "raw",
   "metadata": {},
   "source": [
    "说明：\n",
    "    在大小为m * n的金矿网格中，该矿中的每个单元格都有一个整数，表示该单元格中的黄金量；如果为空，则为0。\n",
    "    返回在以下条件下可以收集的最大黄金量：\n",
    "        1、每次位于一个单元中时，您都将收集该单元中的所有金。\n",
    "        2、从您的位置，您可以向左，向右，向上或向下走一步。\n",
    "        3、您不能多次访问同一个单元。\n",
    "        4、切勿访问0金的单元格。\n",
    "        5、您可以从网格中任何有金的位置开始和停止收集金。\n",
    "\n",
    "Example 1:\n",
    "    Input: grid = [[0,6,0],[5,8,7],[0,9,0]]\n",
    "    Output: 24\n",
    "    Explanation:\n",
    "            [[0,6,0],\n",
    "             [5,8,7],\n",
    "             [0,9,0]]\n",
    "    Path to get the maximum gold, 9 -> 8 -> 7.\n",
    "\n",
    "Example 2:\n",
    "    Input: grid = [[1,0,7],[2,0,6],[3,4,5],[0,3,0],[9,0,20]]\n",
    "    Output: 28\n",
    "    Explanation:\n",
    "                [[1,0,7],\n",
    "                 [2,0,6],\n",
    "                 [3,4,5],\n",
    "                 [0,3,0],\n",
    "                 [9,0,20]]\n",
    "    Path to get the maximum gold, 1 -> 2 -> 3 -> 4 -> 5 -> 6 -> 7.\n",
    "\n",
    "Constraints:\n",
    "    1、1 <= grid.length, grid[i].length <= 15\n",
    "    2、0 <= grid[i][j] <= 100\n",
    "    3、There are at most 25 cells containing gold."
   ]
  },
  {
   "cell_type": "code",
   "execution_count": 14,
   "metadata": {},
   "outputs": [],
   "source": [
    "class Solution:\n",
    "    def getMaximumGold(self, grid) -> int:\n",
    "        self.max_gold = float('-inf')\n",
    "        rows = len(grid)\n",
    "        cols = len(grid[0])\n",
    "\n",
    "        def dfs(current, row, col):\n",
    "            if row < 0 or row >= rows or col < 0 or col >= cols or grid[row][col] == 0:\n",
    "                return\n",
    "            current += grid[row][col]\n",
    "            temp = grid[row][col] #  用于恢复变成0的数据\n",
    "            grid[row][col] = 0 # 设置为0，表示已经走过的单元格\n",
    "            self.max_gold = max(current, self.max_gold)\n",
    "            \n",
    "            dfs(current, row-1, col)\n",
    "            dfs(current, row+1, col)\n",
    "            dfs(current, row, col-1)\n",
    "            dfs(current, row, col+1)\n",
    "            grid[row][col] = temp\n",
    "        \n",
    "        for i in range(rows):\n",
    "            for j in range(cols):\n",
    "                if grid[i][j] != 0:\n",
    "                    dfs(0, i, j)\n",
    "        return self.max_gold if self.max_gold != float('-inf') else 0"
   ]
  },
  {
   "cell_type": "code",
   "execution_count": 15,
   "metadata": {},
   "outputs": [
    {
     "data": {
      "text/plain": [
       "24"
      ]
     },
     "execution_count": 15,
     "metadata": {},
     "output_type": "execute_result"
    }
   ],
   "source": [
    "grid_ = [[0,6,0],\n",
    "         [5,8,7],\n",
    "         [0,9,0]]\n",
    "solution = Solution()\n",
    "solution.getMaximumGold(grid_)"
   ]
  },
  {
   "cell_type": "code",
   "execution_count": null,
   "metadata": {},
   "outputs": [],
   "source": []
  },
  {
   "cell_type": "code",
   "execution_count": null,
   "metadata": {},
   "outputs": [],
   "source": []
  },
  {
   "cell_type": "code",
   "execution_count": null,
   "metadata": {},
   "outputs": [],
   "source": []
  }
 ],
 "metadata": {
  "kernelspec": {
   "display_name": "Python 3",
   "language": "python",
   "name": "python3"
  },
  "language_info": {
   "codemirror_mode": {
    "name": "ipython",
    "version": 3
   },
   "file_extension": ".py",
   "mimetype": "text/x-python",
   "name": "python",
   "nbconvert_exporter": "python",
   "pygments_lexer": "ipython3",
   "version": "3.6.2"
  }
 },
 "nbformat": 4,
 "nbformat_minor": 4
}
