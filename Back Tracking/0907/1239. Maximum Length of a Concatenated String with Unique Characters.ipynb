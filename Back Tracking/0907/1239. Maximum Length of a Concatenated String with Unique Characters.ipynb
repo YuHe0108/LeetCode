{
 "cells": [
  {
   "cell_type": "raw",
   "metadata": {},
   "source": [
    "说明：\n",
    "    给定一个字符串数组arr。\n",
    "    字符串 s 是arr的一个子序列的串联，这些子序列具有唯一的字符，返回s的最大可能长度。\n",
    "    \n",
    "要求：\n",
    "    1、返回最长的没有重复字母组成的字符串。\n",
    "    2、arr中的每一个字符串都是并不一定是有独立的字母组成。\n",
    "    \n",
    "Example 1:\n",
    "    Input: arr = [\"un\",\"iq\",\"ue\"]\n",
    "    Output: 4\n",
    "    Explanation: All possible concatenations are \"\",\"un\",\"iq\",\"ue\",\"uniq\" and \"ique\".\n",
    "    Maximum length is 4.\n",
    "\n",
    "Example 2:\n",
    "    Input: arr = [\"cha\",\"r\",\"act\",\"ers\"]\n",
    "    Output: 6\n",
    "    Explanation: Possible solutions are \"chaers\" and \"acters\".\n",
    "\n",
    "Example 3:\n",
    "    Input: arr = [\"abcdefghijklmnopqrstuvwxyz\"]\n",
    "    Output: 26\n",
    "\n",
    "Constraints:\n",
    "    1、1 <= arr.length <= 16\n",
    "    2、1 <= arr[i].length <= 26\n",
    "    3、arr[i] contains only lower case English letters."
   ]
  },
  {
   "cell_type": "code",
   "execution_count": 43,
   "metadata": {},
   "outputs": [],
   "source": [
    "class Solution:\n",
    "    def maxLength(self, arr) -> int:\n",
    "        if len(arr) == 1: return len(arr[0])\n",
    "        self.max_len = 0\n",
    "\n",
    "        def dfs(s_arr, temp):\n",
    "            if not s_arr:\n",
    "                return\n",
    "            for i, s in enumerate(s_arr):\n",
    "                if is_valid(temp, s) and is_valid(s):\n",
    "                    self.max_len = max(len(temp) + len(s), self.max_len)\n",
    "                    dfs(s_arr[i+1:], temp + s)\n",
    "        \n",
    "        def is_valid(s1, s2 = None):\n",
    "            # 检查单个字符串是否存在重复的字母\n",
    "            if s2 is None:\n",
    "                for i in range(len(s1)):\n",
    "                    temp = s1[:i] + s1[i+1:]\n",
    "                    if s1[i] in temp:\n",
    "                        return False\n",
    "                return True\n",
    "            \n",
    "            # 检查两个字符串是否有重复的字符\n",
    "            for s in s2:\n",
    "                if s in s1:\n",
    "                    return False\n",
    "            return True\n",
    "        \n",
    "        \n",
    "        for i, s in enumerate(arr):\n",
    "            temp = ''\n",
    "            if is_valid(s):\n",
    "                self.max_len = max(len(s), self.max_len)\n",
    "                temp = s\n",
    "            dfs(arr[i+1:], temp)\n",
    "        return self.max_len"
   ]
  },
  {
   "cell_type": "code",
   "execution_count": 44,
   "metadata": {},
   "outputs": [
    {
     "data": {
      "text/plain": [
       "0"
      ]
     },
     "execution_count": 44,
     "metadata": {},
     "output_type": "execute_result"
    }
   ],
   "source": [
    "arr_ = [\"yy\",\"bkhwmpbiisbldzknpm\"]\n",
    "solution = Solution()\n",
    "solution.maxLength(arr_)"
   ]
  },
  {
   "cell_type": "code",
   "execution_count": 3,
   "metadata": {},
   "outputs": [],
   "source": [
    "def is_valid(s1, s2):\n",
    "    for s in s2:\n",
    "        if s in s1:\n",
    "            return False\n",
    "    return True"
   ]
  },
  {
   "cell_type": "code",
   "execution_count": 5,
   "metadata": {},
   "outputs": [
    {
     "data": {
      "text/plain": [
       "False"
      ]
     },
     "execution_count": 5,
     "metadata": {},
     "output_type": "execute_result"
    }
   ],
   "source": [
    "is_valid('un', 'ue')"
   ]
  },
  {
   "cell_type": "code",
   "execution_count": 6,
   "metadata": {},
   "outputs": [
    {
     "data": {
      "text/plain": [
       "[1, 2]"
      ]
     },
     "execution_count": 6,
     "metadata": {},
     "output_type": "execute_result"
    }
   ],
   "source": [
    "a = [1, 2]\n",
    "a[0:]"
   ]
  },
  {
   "cell_type": "code",
   "execution_count": 18,
   "metadata": {},
   "outputs": [
    {
     "name": "stdout",
     "output_type": "stream",
     "text": [
      "16 14\n"
     ]
    }
   ],
   "source": [
    "a = [\"jnfbyktlrqumowxd\",\"mvhgcpxnjzrdei\"]\n",
    "print(len(a[0]), len(a[1]))"
   ]
  },
  {
   "cell_type": "code",
   "execution_count": null,
   "metadata": {},
   "outputs": [],
   "source": []
  }
 ],
 "metadata": {
  "kernelspec": {
   "display_name": "Python 3",
   "language": "python",
   "name": "python3"
  },
  "language_info": {
   "codemirror_mode": {
    "name": "ipython",
    "version": 3
   },
   "file_extension": ".py",
   "mimetype": "text/x-python",
   "name": "python",
   "nbconvert_exporter": "python",
   "pygments_lexer": "ipython3",
   "version": "3.6.2"
  }
 },
 "nbformat": 4,
 "nbformat_minor": 4
}
