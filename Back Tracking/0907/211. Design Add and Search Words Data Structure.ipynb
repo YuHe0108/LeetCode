{
 "cells": [
  {
   "cell_type": "raw",
   "metadata": {},
   "source": [
    "说明：\n",
    "    设计一个数据结构，该结构支持添加新单词并查找字符串是否与任何先前添加的字符串匹配。\n",
    "    实现WordDictionary类：\n",
    "    1、WordDictionary（）初始化对象。 \n",
    "    2、void addWord（word）将word添加到数据结构中，以后可以对其进行匹配。\n",
    "    3、bool search（word）如果数据结构中有任何与word匹配的字符串，则返回true，否则返回false。\n",
    "    单词可能包含点“.”点可以与任何字母匹配的地方。\n",
    "    \n",
    "Example:\n",
    "    Input\n",
    "        [\"WordDictionary\",\"addWord\",\"addWord\",\"addWord\",\"search\",\"search\",\"search\",\"search\"]\n",
    "        [[],[\"bad\"],[\"dad\"],[\"mad\"],[\"pad\"],[\"bad\"],[\".ad\"],[\"b..\"]]\n",
    "    Output\n",
    "        [null,null,null,null,false,true,true,true]\n",
    "\n",
    "    Explanation:\n",
    "        WordDictionary wordDictionary = new WordDictionary();\n",
    "        wordDictionary.addWord(\"bad\");\n",
    "        wordDictionary.addWord(\"dad\");\n",
    "        wordDictionary.addWord(\"mad\");\n",
    "        wordDictionary.search(\"pad\"); // return False\n",
    "        wordDictionary.search(\"bad\"); // return True\n",
    "        wordDictionary.search(\".ad\"); // return True\n",
    "        wordDictionary.search(\"b..\"); // return True\n",
    "\n",
    "约束：\n",
    "    1、addWord中的1 <= word.length <= 500 \n",
    "    2、搜索中的单词由“.”组成或小写英文字母。\n",
    "    3、最多将调用50000个电话来添加单词和搜索。\n",
    "    4、word由小写英文字母组成。"
   ]
  },
  {
   "cell_type": "code",
   "execution_count": 33,
   "metadata": {},
   "outputs": [],
   "source": [
    "class WordDictionary:\n",
    "\n",
    "    def __init__(self):\n",
    "        \"\"\"\n",
    "        Initialize your data structure here.\n",
    "        \"\"\"\n",
    "        self.words = dict()\n",
    "\n",
    "    def addWord(self, word: str) -> None:\n",
    "        \"\"\"\n",
    "        Adds a word into the data structure.\n",
    "        \"\"\"\n",
    "        cur = self.words\n",
    "        for w in word:\n",
    "            if w not in cur:\n",
    "                cur[w] = {}\n",
    "            cur = cur[w]\n",
    "        cur['#'] = True\n",
    "\n",
    "    def search(self, word: str) -> bool:\n",
    "        \"\"\"\n",
    "        Returns if the word is in the data structure. A word could contain the dot character '.' to represent any one letter.\n",
    "        \"\"\"\n",
    "        return self.dfs(self.words, word, 0)\n",
    "    \n",
    "    def dfs(self, cur, word, count):\n",
    "        if count == len(word):\n",
    "            return '#' in cur\n",
    "        \n",
    "        if word[count] == '.':\n",
    "            for child in cur:\n",
    "                if child != '#' and self.dfs(cur[child], word, count+1):\n",
    "                    return True\n",
    "            return False\n",
    "\n",
    "        if word[count] not in cur:\n",
    "            return False\n",
    "        return self.dfs(cur[word[count]], word, count+1)"
   ]
  },
  {
   "cell_type": "code",
   "execution_count": 34,
   "metadata": {},
   "outputs": [
    {
     "name": "stdout",
     "output_type": "stream",
     "text": [
      "True\n"
     ]
    }
   ],
   "source": [
    "# Your WordDictionary object will be instantiated and called as such:\n",
    "word_ = 'pad'\n",
    "obj = WordDictionary()\n",
    "obj.addWord(word_)\n",
    "param_2 = obj.search('.ad')\n",
    "print(param_2)"
   ]
  },
  {
   "cell_type": "code",
   "execution_count": 27,
   "metadata": {},
   "outputs": [
    {
     "data": {
      "text/plain": [
       "[['a'], ['b'], ['c']]"
      ]
     },
     "execution_count": 27,
     "metadata": {},
     "output_type": "execute_result"
    }
   ],
   "source": [
    "a "
   ]
  },
  {
   "cell_type": "code",
   "execution_count": null,
   "metadata": {},
   "outputs": [],
   "source": []
  }
 ],
 "metadata": {
  "kernelspec": {
   "display_name": "Python 3",
   "language": "python",
   "name": "python3"
  },
  "language_info": {
   "codemirror_mode": {
    "name": "ipython",
    "version": 3
   },
   "file_extension": ".py",
   "mimetype": "text/x-python",
   "name": "python",
   "nbconvert_exporter": "python",
   "pygments_lexer": "ipython3",
   "version": "3.6.2"
  }
 },
 "nbformat": 4,
 "nbformat_minor": 4
}
