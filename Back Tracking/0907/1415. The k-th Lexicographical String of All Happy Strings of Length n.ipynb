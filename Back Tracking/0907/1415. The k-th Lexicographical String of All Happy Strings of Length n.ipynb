{
 "cells": [
  {
   "cell_type": "raw",
   "metadata": {},
   "source": [
    "说明：\n",
    "    一个开心的字符串是这样的字符串：\n",
    "    1、仅由集合['a'，'b'，'c']的字母组成。\n",
    "    2、对于从1到s.length-1（字符串为1索引）的所有i值，s[i] != s[i+1]。\n",
    "\n",
    "要求：\n",
    "    1、不能出现连续两次相同的字母\n",
    "    2、给定n、k，返回指定长度为n的第k个值，按照字典的顺序排列。 \n",
    "    3、如果k超过最多n个组成的字符串，则返回空值。\n",
    "\n",
    "例如，\n",
    "    1、字符串“ abc”，“ ac”，“ b”和“ abcbabcbcb”都是快乐字符串，而字符串“ aa”，“ baa”和“ ababbc”不是快乐字符串。\n",
    "    2、给定两个整数n和k，请考虑按字典顺序排序的所有长度为n的快乐字符串的列表。\n",
    "    3、返回此列表的第k个字符串，如果长度为n的快乐字符串少于k个，则返回一个空字符串。\n",
    "\n",
    "Example 1:\n",
    "    Input: n = 1, k = 3\n",
    "    Output: \"c\"\n",
    "    Explanation: The list [\"a\", \"b\", \"c\"] contains all happy strings of length 1. The third string is \"c\".\n",
    "\n",
    "Example 2:\n",
    "    Input: n = 1, k = 4\n",
    "    Output: \"\"\n",
    "    Explanation: There are only 3 happy strings of length 1.\n",
    "\n",
    "Example 3:\n",
    "    Input: n = 3, k = 9\n",
    "    Output: \"cab\"\n",
    "    Explanation: There are 12 different happy string of length 3 [\"aba\", \"abc\", \"aca\", \"acb\", \"bab\", \"bac\", \"bca\", \"bcb\", \"cab\", \"cac\", \"cba\", \"cbc\"]. You will find the 9th string = \"cab\"\n",
    "\n",
    "Example 4:\n",
    "    Input: n = 2, k = 7\n",
    "    Output: \"\"\n",
    "\n",
    "Example 5:\n",
    "    Input: n = 10, k = 100\n",
    "    Output: \"abacbabacb\""
   ]
  },
  {
   "cell_type": "code",
   "execution_count": 49,
   "metadata": {},
   "outputs": [],
   "source": [
    "class Solution:\n",
    "    def getHappyString(self, n: int, k: int) -> str:\n",
    "        # n 是 happy 字符串的最大长度\n",
    "        str_arr = ['a', 'b', 'c']\n",
    "        self.res = None\n",
    "        self.idx = 0\n",
    "\n",
    "        def dfs(s_arr, temp, count):\n",
    "            if count == n:\n",
    "                if self.idx == k:\n",
    "                    self.res = temp[:]\n",
    "                else:\n",
    "                    self.idx += 1\n",
    "                return\n",
    "            for i in range(len(s_arr)):\n",
    "                if temp == '' or s_arr[i] != temp[-1]:\n",
    "                    dfs(s_arr, temp + s_arr[i], count+1)\n",
    "        \n",
    "        dfs(str_arr, '', 0)\n",
    "        print(self.res)\n",
    "        return '' if not self.res else self.res"
   ]
  },
  {
   "cell_type": "code",
   "execution_count": 51,
   "metadata": {},
   "outputs": [],
   "source": [
    "class Solution:\n",
    "    def getHappyString(self, n: int, k: int) -> str:\n",
    "        # calculate total number of happy strings of length n\n",
    "        total = 3 * 2**(n-1)\n",
    "        if k > total:\n",
    "            return \"\"\n",
    "\n",
    "        # alphabet:\n",
    "        chars = set('abc')\n",
    "        # last used letter (begin with empty):\n",
    "        last = ''\n",
    "\n",
    "        result = ['']*n\n",
    "        for i in range(n):\n",
    "            # list of possible letters after the last used one:\n",
    "            choice = sorted(chars - set(last))\n",
    "            # how many substrings of length (n-i-1) are possible:\n",
    "            total //= len(choice)\n",
    "            # pick the letter at index i:\n",
    "            last = choice[(k-1)//total]\n",
    "            result[i] = last\n",
    "            # reduce k to pick from substrings:\n",
    "            k %= total\n",
    "\n",
    "        return ''.join(result)"
   ]
  },
  {
   "cell_type": "code",
   "execution_count": 70,
   "metadata": {},
   "outputs": [],
   "source": [
    "class Solution:\n",
    "    def getHappyString(self, n: int, k: int) -> str:\n",
    "        total = 3 * 2 ** (n-1)\n",
    "        if k > total:\n",
    "            return ''\n",
    "        chars = set('abc')\n",
    "        last = '' # 记录最后一个出现的字符\n",
    "        \n",
    "        result = [''] * n\n",
    "        for i in range(n):\n",
    "            choice = sorted(chars - set(last)) # 减去最后一个添加的字符\n",
    "            total //= len(choice)\n",
    "            last = choice[(k-1) // total]\n",
    "            result.append(last)\n",
    "            k %= total\n",
    "        return ''.join(result)"
   ]
  },
  {
   "cell_type": "code",
   "execution_count": 71,
   "metadata": {},
   "outputs": [
    {
     "name": "stdout",
     "output_type": "stream",
     "text": [
      "12\n"
     ]
    },
    {
     "data": {
      "text/plain": [
       "'cab'"
      ]
     },
     "execution_count": 71,
     "metadata": {},
     "output_type": "execute_result"
    }
   ],
   "source": [
    "n_ = 3\n",
    "k_ = 9\n",
    "solution = Solution()\n",
    "solution.getHappyString(n_, k_)"
   ]
  },
  {
   "cell_type": "code",
   "execution_count": 66,
   "metadata": {},
   "outputs": [
    {
     "data": {
      "text/plain": [
       "{'b', 'c'}"
      ]
     },
     "execution_count": 66,
     "metadata": {},
     "output_type": "execute_result"
    }
   ],
   "source": [
    "set('abc') - set('a')"
   ]
  },
  {
   "cell_type": "code",
   "execution_count": null,
   "metadata": {},
   "outputs": [],
   "source": []
  }
 ],
 "metadata": {
  "kernelspec": {
   "display_name": "Python 3",
   "language": "python",
   "name": "python3"
  },
  "language_info": {
   "codemirror_mode": {
    "name": "ipython",
    "version": 3
   },
   "file_extension": ".py",
   "mimetype": "text/x-python",
   "name": "python",
   "nbconvert_exporter": "python",
   "pygments_lexer": "ipython3",
   "version": "3.6.2"
  }
 },
 "nbformat": 4,
 "nbformat_minor": 4
}
