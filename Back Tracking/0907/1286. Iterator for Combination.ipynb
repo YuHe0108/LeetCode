{
 "cells": [
  {
   "cell_type": "raw",
   "metadata": {},
   "source": [
    "说明：\n",
    "    设计一个迭代器类，它有：\n",
    "    1、一个构造函数，它以排序的不同小写英文字母的字符串字符和一个数字combinationLength作为参数。\n",
    "    2、一个函数next（），按字典顺序返回下一个长度组合combinationLength。\n",
    "    3、函数hasNext（），当且仅当存在下一个组合时返回True。\n",
    "\n",
    "Example:\n",
    "    CombinationIterator iterator = new CombinationIterator(\"abc\", 2); // creates the iterator.\n",
    "    iterator.next(); // returns \"ab\"\n",
    "    iterator.hasNext(); // returns true\n",
    "    iterator.next(); // returns \"ac\"\n",
    "    iterator.hasNext(); // returns true\n",
    "    iterator.next(); // returns \"bc\"\n",
    "    iterator.hasNext(); // returns false\n",
    "\n",
    "约束：\n",
    "    1、1 <=组合长度<=字符长度<= 15\n",
    "    2、每次测试最多可以调用10 ^ 4个函数。\n",
    "    3、保证接下来所有对函数的调用都是有效的。"
   ]
  },
  {
   "cell_type": "code",
   "execution_count": 14,
   "metadata": {},
   "outputs": [],
   "source": [
    "class CombinationIterator:\n",
    "\n",
    "    def __init__(self, chars: str, length: int):\n",
    "        self.chars = chars\n",
    "        self.length = length\n",
    "        self.res = []\n",
    "        self.dfs(chars, '', 0)\n",
    "        self.res.reverse()\n",
    "\n",
    "    def next(self) -> str:\n",
    "        return self.res.pop()\n",
    "\n",
    "    \n",
    "    def dfs(self, chars, temp, count):\n",
    "        if count == self.length:\n",
    "            self.res.append(temp[:])\n",
    "            return \n",
    "        for i in range(len(chars)):\n",
    "            self.dfs(chars[i+1:], temp+chars[i], count+1)\n",
    "\n",
    "    def hasNext(self) -> bool:\n",
    "        if self.res:\n",
    "            return True\n",
    "        return False\n",
    "\n",
    "\n",
    "# Your CombinationIterator object will be instantiated and called as such:\n",
    "# obj = CombinationIterator(characters, combinationLength)\n",
    "# param_1 = obj.next()\n",
    "# param_2 = obj.hasNext()"
   ]
  },
  {
   "cell_type": "code",
   "execution_count": null,
   "metadata": {},
   "outputs": [],
   "source": []
  },
  {
   "cell_type": "code",
   "execution_count": null,
   "metadata": {},
   "outputs": [],
   "source": []
  },
  {
   "cell_type": "code",
   "execution_count": null,
   "metadata": {},
   "outputs": [],
   "source": []
  },
  {
   "cell_type": "code",
   "execution_count": null,
   "metadata": {},
   "outputs": [],
   "source": []
  },
  {
   "cell_type": "code",
   "execution_count": 13,
   "metadata": {},
   "outputs": [
    {
     "name": "stdout",
     "output_type": "stream",
     "text": [
      "[] [2, 3, 4]\n"
     ]
    }
   ],
   "source": [
    "a = [1, 2, 3, 4]\n",
    "print(a[:0], a[1:])"
   ]
  },
  {
   "cell_type": "code",
   "execution_count": 8,
   "metadata": {},
   "outputs": [],
   "source": [
    "a.reverse()"
   ]
  },
  {
   "cell_type": "code",
   "execution_count": 9,
   "metadata": {},
   "outputs": [
    {
     "data": {
      "text/plain": [
       "[1, 2, 3, 4]"
      ]
     },
     "execution_count": 9,
     "metadata": {},
     "output_type": "execute_result"
    }
   ],
   "source": [
    "a"
   ]
  },
  {
   "cell_type": "code",
   "execution_count": null,
   "metadata": {},
   "outputs": [],
   "source": []
  }
 ],
 "metadata": {
  "kernelspec": {
   "display_name": "Python 3",
   "language": "python",
   "name": "python3"
  },
  "language_info": {
   "codemirror_mode": {
    "name": "ipython",
    "version": 3
   },
   "file_extension": ".py",
   "mimetype": "text/x-python",
   "name": "python",
   "nbconvert_exporter": "python",
   "pygments_lexer": "ipython3",
   "version": "3.6.2"
  }
 },
 "nbformat": 4,
 "nbformat_minor": 4
}
