{
 "cells": [
  {
   "cell_type": "raw",
   "metadata": {},
   "source": [
    "说明：\n",
    "    你有n个 tiles，每个tiles上都印着一个字母。返回使用这些平铺上打印的字母可以生成的非空字母序列数。\n",
    "   \n",
    "要求：\n",
    "    使用给定的 S，返回由S可以组成字符串的最大数量。不能重复。\n",
    "\n",
    "Example 1:\n",
    "    Input: tiles = \"AAB\"\n",
    "    Output: 8\n",
    "    Explanation: The possible sequences are \"A\", \"B\", \"AA\", \"AB\", \"BA\", \"AAB\", \"ABA\", \"BAA\".\n",
    "\n",
    "Example 2:\n",
    "    Input: tiles = \"AAABBC\"\n",
    "    Output: 188\n",
    "\n",
    "Example 3:\n",
    "    Input: tiles = \"V\"\n",
    "    Output: 1"
   ]
  },
  {
   "cell_type": "code",
   "execution_count": 60,
   "metadata": {},
   "outputs": [],
   "source": [
    "# 虽然可以通过，但是时间复杂度较高\n",
    "class Solution:\n",
    "    def numTilePossibilities(self, tiles: str) -> int:\n",
    "        self.res = []\n",
    "        for i in range(len(tiles)):\n",
    "            self.dfs(tiles[:i] + tiles[i+1:], tiles[i])\n",
    "        return len(self.res)\n",
    "        \n",
    "    def dfs(self, tiles, temp):\n",
    "        if temp not in self.res:\n",
    "            self.res.append(temp[:])\n",
    "        for i in range(len(tiles)):\n",
    "            self.dfs(tiles[:i] + tiles[i+1:], temp+tiles[i])"
   ]
  },
  {
   "cell_type": "code",
   "execution_count": null,
   "metadata": {},
   "outputs": [],
   "source": []
  },
  {
   "cell_type": "code",
   "execution_count": 61,
   "metadata": {},
   "outputs": [
    {
     "data": {
      "text/plain": [
       "188"
      ]
     },
     "execution_count": 61,
     "metadata": {},
     "output_type": "execute_result"
    }
   ],
   "source": [
    "tiles_ = \"AAABBC\"\n",
    "solution = Solution()\n",
    "solution.numTilePossibilities(tiles_)"
   ]
  },
  {
   "cell_type": "code",
   "execution_count": null,
   "metadata": {},
   "outputs": [],
   "source": []
  }
 ],
 "metadata": {
  "kernelspec": {
   "display_name": "Python 3",
   "language": "python",
   "name": "python3"
  },
  "language_info": {
   "codemirror_mode": {
    "name": "ipython",
    "version": 3
   },
   "file_extension": ".py",
   "mimetype": "text/x-python",
   "name": "python",
   "nbconvert_exporter": "python",
   "pygments_lexer": "ipython3",
   "version": "3.6.2"
  }
 },
 "nbformat": 4,
 "nbformat_minor": 4
}
