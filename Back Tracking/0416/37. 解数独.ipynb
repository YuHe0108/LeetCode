{
 "cells": [
  {
   "cell_type": "code",
   "execution_count": 3,
   "metadata": {},
   "outputs": [
    {
     "data": {
      "text/plain": [
       "1"
      ]
     },
     "execution_count": 3,
     "metadata": {},
     "output_type": "execute_result"
    }
   ],
   "source": [
    "4 % 3"
   ]
  },
  {
   "cell_type": "code",
   "execution_count": 104,
   "metadata": {},
   "outputs": [],
   "source": [
    "from typing import List\n",
    "\n",
    "class Solution:\n",
    "    def solveSudoku(self, board: List[List[str]]) -> None:\n",
    "        \"\"\"\n",
    "        Do not return anything, modify board in-place instead.\n",
    "        \"\"\"\n",
    "        \n",
    "        def is_valid(r, c, k): \n",
    "            k = str(k)\n",
    "            for i in range(9): # 不同行，相同列内，出现相同的元素\n",
    "                if board[i][c] == k:\n",
    "                    return False\n",
    "            for j in range(9): # 不同列，相同行，出现相同的元素\n",
    "                if board[r][j] == k:\n",
    "                    return False\n",
    "            s_r, e_r = r//3*3, r//3*3 + 3\n",
    "            s_c, e_c = c//3*3, c//3*3 + 3\n",
    "            for i in range(s_r, e_r): # 不在对应的方框中，出现对应的元素\n",
    "                for j in range(s_c, e_c):\n",
    "                    if board[i][j] == k:\n",
    "                        return False\n",
    "            return True\n",
    "        \n",
    "        def dfs(row, col):\n",
    "            if row == 9: # 填到最后一个了\n",
    "                return True\n",
    "            if col == 9: # col 到头，row + 1， col = 0\n",
    "                return dfs(row+1, 0)\n",
    "            if board[row][col] != '.':\n",
    "                return dfs(row, col+1)\n",
    "                \n",
    "            for v in range(1, 10):\n",
    "                if not is_valid(row, col, str(v)):\n",
    "                    continue\n",
    "                board[row][col] = str(v)\n",
    "                # 需要有返回值，判断当前填写的值是否是 对的\n",
    "                if dfs(row, col+1):\n",
    "                    return True\n",
    "            board[row][col] = '.'\n",
    "            return False\n",
    "        \n",
    "        dfs(0, 0) # 从第 0 行第 0列开始\n",
    "        return board"
   ]
  },
  {
   "cell_type": "code",
   "execution_count": 105,
   "metadata": {},
   "outputs": [
    {
     "data": {
      "text/plain": [
       "[['5', '3', '4', '6', '7', '8', '9', '1', '2'],\n",
       " ['6', '7', '2', '1', '9', '5', '3', '4', '8'],\n",
       " ['1', '9', '8', '3', '4', '2', '5', '6', '7'],\n",
       " ['8', '5', '9', '7', '6', '1', '4', '2', '3'],\n",
       " ['4', '2', '6', '8', '5', '3', '7', '9', '1'],\n",
       " ['7', '1', '3', '9', '2', '4', '8', '5', '6'],\n",
       " ['9', '6', '1', '5', '3', '7', '2', '8', '4'],\n",
       " ['2', '8', '7', '4', '1', '9', '6', '3', '5'],\n",
       " ['3', '4', '5', '2', '8', '6', '1', '7', '9']]"
      ]
     },
     "execution_count": 105,
     "metadata": {},
     "output_type": "execute_result"
    }
   ],
   "source": [
    "solution = Solution()\n",
    "solution.solveSudoku([[\"5\",\"3\",\".\",\".\",\"7\",\".\",\".\",\".\",\".\"],\n",
    "                      [\"6\",\".\",\".\",\"1\",\"9\",\"5\",\".\",\".\",\".\"],\n",
    "                      [\".\",\"9\",\"8\",\".\",\".\",\".\",\".\",\"6\",\".\"],\n",
    "                      [\"8\",\".\",\".\",\".\",\"6\",\".\",\".\",\".\",\"3\"],\n",
    "                      [\"4\",\".\",\".\",\"8\",\".\",\"3\",\".\",\".\",\"1\"],\n",
    "                      [\"7\",\".\",\".\",\".\",\"2\",\".\",\".\",\".\",\"6\"],\n",
    "                      [\".\",\"6\",\".\",\".\",\".\",\".\",\"2\",\"8\",\".\"],\n",
    "                      [\".\",\".\",\".\",\"4\",\"1\",\"9\",\".\",\".\",\"5\"],\n",
    "                      [\".\",\".\",\".\",\".\",\"8\",\".\",\".\",\"7\",\"9\"]])"
   ]
  },
  {
   "cell_type": "code",
   "execution_count": null,
   "metadata": {},
   "outputs": [],
   "source": [
    "[['5', '3', '.', '.', '7', '.', '.', '.', '.'],\n",
    " ['6', '.', '.', '1', '9', '5', '.', '.', '.'],\n",
    " ['.', '9', '8', '.', '.', '.', '.', '6', '.'],\n",
    " ['8', '.', '.', '.', '6', '.', '.', '.', '3'],\n",
    " ['4', '.', '.', '8', '.', '3', '.', '.', '1'],\n",
    " ['7', '.', '.', '.', '2', '.', '.', '.', '6'],\n",
    " ['.', '6', '.', '.', '.', '.', '2', '8', '.'],\n",
    " ['.', '.', '.', '4', '1', '9', '.', '.', '5'],\n",
    " ['.', '.', '.', '.', '8', '.', '.', '7', '9']]"
   ]
  },
  {
   "cell_type": "code",
   "execution_count": null,
   "metadata": {},
   "outputs": [],
   "source": []
  },
  {
   "cell_type": "code",
   "execution_count": null,
   "metadata": {},
   "outputs": [],
   "source": [
    "class Solution:\n",
    "    def solveSudoku(self, board: List[List[str]]) -> None:\n",
    "        \"\"\"\n",
    "        Do not return anything, modify board in-place instead.\n",
    "        \"\"\"\n",
    "        def is_valid(row, col, val):\n",
    "            for i in range(9):\n",
    "                if board[row][i] == val:\n",
    "                    return False\n",
    "                if board[i][col] == val:\n",
    "                    return False\n",
    "                \n",
    "            s_r, e_r = row//3*3, (row//3 + 1)*3\n",
    "            s_c, e_c = col//3*3, (col//3 + 1)*3\n",
    "            for r in range(s_r, e_r):\n",
    "                for c in range(s_c, e_c):\n",
    "                    if board[r][c] == val:\n",
    "                        return False\n",
    "            return True\n",
    "                    \n",
    "        def dfs(row, col):\n",
    "            if row == 9:\n",
    "                return True\n",
    "            if col == 9:\n",
    "                return dfs(row+1, 0)\n",
    "            if board[row][col] != '.':\n",
    "                return dfs(row, col+1)\n",
    "            \n",
    "            for v in range(1, 10):\n",
    "                v = str(v)\n",
    "                if is_valid(row, col, v):\n",
    "                    board[row][col] = v\n",
    "                    if dfs(row, col+1):\n",
    "                        return True\n",
    "            board[row][col] = '.'\n",
    "            return False\n",
    "        \n",
    "        \n",
    "        dfs(0, 0)\n",
    "        "
   ]
  }
 ],
 "metadata": {
  "kernelspec": {
   "display_name": "Python 3",
   "language": "python",
   "name": "python3"
  },
  "language_info": {
   "codemirror_mode": {
    "name": "ipython",
    "version": 3
   },
   "file_extension": ".py",
   "mimetype": "text/x-python",
   "name": "python",
   "nbconvert_exporter": "python",
   "pygments_lexer": "ipython3",
   "version": "3.6.2"
  }
 },
 "nbformat": 4,
 "nbformat_minor": 4
}
