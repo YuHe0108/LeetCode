{
 "cells": [
  {
   "cell_type": "code",
   "execution_count": null,
   "metadata": {},
   "outputs": [],
   "source": []
  },
  {
   "cell_type": "code",
   "execution_count": null,
   "metadata": {},
   "outputs": [],
   "source": []
  },
  {
   "cell_type": "code",
   "execution_count": null,
   "metadata": {},
   "outputs": [],
   "source": []
  },
  {
   "cell_type": "code",
   "execution_count": 13,
   "metadata": {},
   "outputs": [],
   "source": [
    "class Solution:\n",
    "    def partition(self, s: str):\n",
    "        def dfs(idx, temp):\n",
    "            if temp and temp == temp[::-1]:\n",
    "                res.append(''.join(temp))\n",
    "                \n",
    "            for i in range(idx, len(s)):\n",
    "                temp.append(s[i])\n",
    "                dfs(i + 1, temp)\n",
    "                temp.pop()\n",
    "            return\n",
    "                \n",
    "        res = []\n",
    "        dfs(0, [])\n",
    "        return res"
   ]
  },
  {
   "cell_type": "code",
   "execution_count": 1,
   "metadata": {},
   "outputs": [],
   "source": [
    "class Solution:\n",
    "    def partition(self, s: str):\n",
    "        def dfs(s, temp):\n",
    "            if not s:\n",
    "                res.append(temp[:])\n",
    "                return\n",
    "            for i in range(1, len(s) + 1):\n",
    "                sub = s[:i]\n",
    "                if sub == sub[::-1]:\n",
    "                    temp.append(sub)\n",
    "                    dfs(s[i:], temp)\n",
    "                    temp.pop()\n",
    "                    \n",
    "        res = []\n",
    "        dfs(s, [])\n",
    "        return res"
   ]
  },
  {
   "cell_type": "code",
   "execution_count": 2,
   "metadata": {},
   "outputs": [
    {
     "data": {
      "text/plain": [
       "[['a', 'a', 'b'], ['aa', 'b']]"
      ]
     },
     "execution_count": 2,
     "metadata": {},
     "output_type": "execute_result"
    }
   ],
   "source": [
    "solution = Solution()\n",
    "solution.partition('aab')"
   ]
  },
  {
   "cell_type": "code",
   "execution_count": null,
   "metadata": {},
   "outputs": [],
   "source": []
  }
 ],
 "metadata": {
  "kernelspec": {
   "display_name": "Python 3",
   "language": "python",
   "name": "python3"
  },
  "language_info": {
   "codemirror_mode": {
    "name": "ipython",
    "version": 3
   },
   "file_extension": ".py",
   "mimetype": "text/x-python",
   "name": "python",
   "nbconvert_exporter": "python",
   "pygments_lexer": "ipython3",
   "version": "3.6.2"
  }
 },
 "nbformat": 4,
 "nbformat_minor": 4
}
