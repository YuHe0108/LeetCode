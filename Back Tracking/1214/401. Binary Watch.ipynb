{
 "cells": [
  {
   "cell_type": "code",
   "execution_count": null,
   "metadata": {},
   "outputs": [],
   "source": []
  },
  {
   "cell_type": "code",
   "execution_count": null,
   "metadata": {},
   "outputs": [],
   "source": []
  },
  {
   "cell_type": "code",
   "execution_count": 7,
   "metadata": {},
   "outputs": [],
   "source": [
    "class Solution:\n",
    "    def readBinaryWatch(self, num: int):\n",
    "        def helper(num, hour, mint, i):\n",
    "            nonlocal res\n",
    "            if hour >= 12 or mint > 59:\n",
    "                return\n",
    "            if not num:\n",
    "                res.append('{:d}:{:02d}'.format(hour, mint))\n",
    "                return \n",
    "            for i in range(i, 10): # 一共最多有 10 个灯\n",
    "                if i < 4:\n",
    "                    helper(num - 1, hour | (1 << i), mint, i + 1)\n",
    "                else:\n",
    "                    k = i - 4\n",
    "                    helper(num - 1, hour, mint  | (1 << k), i + 1)\n",
    "        \n",
    "        res = []\n",
    "        helper(num, 0, 0, 0)\n",
    "        return res"
   ]
  },
  {
   "cell_type": "code",
   "execution_count": 9,
   "metadata": {},
   "outputs": [
    {
     "data": {
      "text/plain": [
       "['1:00',\n",
       " '2:00',\n",
       " '4:00',\n",
       " '8:00',\n",
       " '0:01',\n",
       " '0:02',\n",
       " '0:04',\n",
       " '0:08',\n",
       " '0:16',\n",
       " '0:32']"
      ]
     },
     "execution_count": 9,
     "metadata": {},
     "output_type": "execute_result"
    }
   ],
   "source": [
    "solution = Solution()\n",
    "solution.readBinaryWatch(1)"
   ]
  },
  {
   "cell_type": "code",
   "execution_count": 4,
   "metadata": {},
   "outputs": [
    {
     "name": "stdout",
     "output_type": "stream",
     "text": [
      "1:02\n"
     ]
    }
   ],
   "source": [
    "hour = 1\n",
    "mint = 2\n",
    "print('{:d}:{:02d}'.format(hour, mint))"
   ]
  },
  {
   "cell_type": "code",
   "execution_count": null,
   "metadata": {},
   "outputs": [],
   "source": []
  },
  {
   "cell_type": "code",
   "execution_count": null,
   "metadata": {},
   "outputs": [],
   "source": []
  },
  {
   "cell_type": "code",
   "execution_count": 19,
   "metadata": {},
   "outputs": [],
   "source": [
    "class Solution:\n",
    "    def readBinaryWatch(self, num: int):\n",
    "        # 遍历所有的可能性，只有当前的时间 可以用num 个灯构成时，可以成立\n",
    "        result = []\n",
    "        for hour in range(12):\n",
    "            for minut in range (60):\n",
    "                # 也就是看 hour 转换为 二进制有多少个 1\n",
    "                if (self.num_one(hour) + self.num_one(minut) == num):\n",
    "                    result.append('{:d}:{:02d}'.format(hour, minut))\n",
    "        return result            \n",
    "\n",
    "    def num_one(self, num: int) -> int:\n",
    "        times = 0\n",
    "        while num:\n",
    "            if num & 1 == 1 :\n",
    "                times += 1\n",
    "            num >>= 1\n",
    "        return times"
   ]
  },
  {
   "cell_type": "code",
   "execution_count": 20,
   "metadata": {},
   "outputs": [
    {
     "data": {
      "text/plain": [
       "['0:01',\n",
       " '0:02',\n",
       " '0:04',\n",
       " '0:08',\n",
       " '0:16',\n",
       " '0:32',\n",
       " '1:00',\n",
       " '2:00',\n",
       " '4:00',\n",
       " '8:00']"
      ]
     },
     "execution_count": 20,
     "metadata": {},
     "output_type": "execute_result"
    }
   ],
   "source": [
    "solution = Solution()\n",
    "solution.readBinaryWatch(1)"
   ]
  },
  {
   "cell_type": "code",
   "execution_count": null,
   "metadata": {},
   "outputs": [],
   "source": []
  }
 ],
 "metadata": {
  "kernelspec": {
   "display_name": "Python 3",
   "language": "python",
   "name": "python3"
  },
  "language_info": {
   "codemirror_mode": {
    "name": "ipython",
    "version": 3
   },
   "file_extension": ".py",
   "mimetype": "text/x-python",
   "name": "python",
   "nbconvert_exporter": "python",
   "pygments_lexer": "ipython3",
   "version": "3.6.2"
  }
 },
 "nbformat": 4,
 "nbformat_minor": 4
}
