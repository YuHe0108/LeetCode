{
 "cells": [
  {
   "cell_type": "code",
   "execution_count": 5,
   "metadata": {},
   "outputs": [],
   "source": []
  },
  {
   "cell_type": "code",
   "execution_count": null,
   "metadata": {},
   "outputs": [],
   "source": []
  },
  {
   "cell_type": "code",
   "execution_count": null,
   "metadata": {},
   "outputs": [],
   "source": []
  },
  {
   "cell_type": "code",
   "execution_count": null,
   "metadata": {},
   "outputs": [],
   "source": []
  },
  {
   "cell_type": "code",
   "execution_count": null,
   "metadata": {},
   "outputs": [],
   "source": []
  },
  {
   "cell_type": "code",
   "execution_count": null,
   "metadata": {},
   "outputs": [],
   "source": []
  },
  {
   "cell_type": "code",
   "execution_count": 137,
   "metadata": {},
   "outputs": [],
   "source": [
    "from collections import defaultdict\n",
    "\n",
    "class Solution:\n",
    "    def solveSudoku(self, board):\n",
    "        def get_nums():\n",
    "            row_nums, col_nums = defaultdict(set), defaultdict(set)\n",
    "            square_nums = [[set() for _ in range(3)] for _ in range(3)]\n",
    "            for i in range(9):\n",
    "                for j in range(9):\n",
    "                    row_nums[i].add(board[i][j])\n",
    "                    col_nums[j].add(board[i][j])\n",
    "                    square_nums[i // 3][j // 3].add(board[i][j])\n",
    "            return row_nums, col_nums, square_nums\n",
    "        \n",
    "        def is_valid(r, c, k): \n",
    "            nonlocal row_nums, col_nums, square_nums\n",
    "            # 在第 r 行，第 c 列，填写数字 k 是否是有效的，即符合规则的解\n",
    "            # 所在的 第 r 行和 所在的第c 列，以及在 9x9 的正方形中，不能存在相同的数字\n",
    "            if k in row_nums[r] or k in col_nums[c] or k in square_nums[r//3][c//3]:\n",
    "                return False\n",
    "            row_nums, col_nums, square_nums = get_nums()\n",
    "            return True\n",
    "        \n",
    "        def dfs(r, c):\n",
    "            if r == 9:\n",
    "                return True\n",
    "            if c == 9: # 进行到最后一列的时候，跳转到下一行的 第 0 列\n",
    "                return dfs(r + 1, 0)\n",
    "            if board[r][c] != '.':\n",
    "                return dfs(r, c + 1)\n",
    "            \n",
    "            for i in range(1, 10):\n",
    "                i = str(i)\n",
    "                board[r][c] = i\n",
    "                if not is_valid(r, c, i):\n",
    "                    continue\n",
    "                if dfs(r, c + 1):\n",
    "                    return True\n",
    "                board[r][c] = '.'\n",
    "            return False\n",
    "        \n",
    "        row_nums, col_nums, square_nums = get_nums()\n",
    "        dfs(0, 0)\n",
    "        return board"
   ]
  },
  {
   "cell_type": "code",
   "execution_count": null,
   "metadata": {},
   "outputs": [],
   "source": []
  },
  {
   "cell_type": "code",
   "execution_count": null,
   "metadata": {},
   "outputs": [],
   "source": []
  },
  {
   "cell_type": "code",
   "execution_count": 155,
   "metadata": {},
   "outputs": [],
   "source": [
    "from collections import defaultdict\n",
    "\n",
    "class Solution:\n",
    "    def solveSudoku(self, board):\n",
    "        def is_valid(r, c, k): \n",
    "            for i in range(9): # 不同行，相同列内，出现相同的元素\n",
    "                if i != r and board[i][c] == k:\n",
    "                    return False\n",
    "            for j in range(9): # 不同列，相同行，出现相同的元素\n",
    "                if j != c and board[r][j] == k:\n",
    "                    return False\n",
    "            m, n = r // 3 * 3, c // 3 * 3\n",
    "            for i in range(m, m + 3): # 不在对应的方框中，出现对应的元素\n",
    "                for j in range(n, n + 3):\n",
    "                    if i != r and j != c and board[i][j] == k:\n",
    "                        return False\n",
    "            return True\n",
    "        \n",
    "        def dfs(r, c):\n",
    "            if r == 9:\n",
    "                return True\n",
    "            if c == 9: # 进行到最后一列的时候，跳转到下一行的 第 0 列\n",
    "                return dfs(r + 1, 0)\n",
    "            if board[r][c] != '.':\n",
    "                return dfs(r, c + 1)\n",
    "            \n",
    "            for i in range(1, 10):\n",
    "                i = str(i)\n",
    "                board[r][c] = i\n",
    "                if not is_valid(r, c, i):\n",
    "                    continue\n",
    "                if dfs(r, c + 1):\n",
    "                    return True\n",
    "            board[r][c] = '.' # 如果都不成功，那么就是上个填写的数字有问题\n",
    "            return False\n",
    "        \n",
    "        dfs(0, 0)\n",
    "        return board"
   ]
  },
  {
   "cell_type": "code",
   "execution_count": 156,
   "metadata": {},
   "outputs": [
    {
     "data": {
      "text/plain": [
       "[['5', '3', '4', '6', '7', '8', '9', '1', '2'],\n",
       " ['6', '7', '2', '1', '9', '5', '3', '4', '8'],\n",
       " ['1', '9', '8', '3', '4', '2', '5', '6', '7'],\n",
       " ['8', '5', '9', '7', '6', '1', '4', '2', '3'],\n",
       " ['4', '2', '6', '8', '5', '3', '7', '9', '1'],\n",
       " ['7', '1', '3', '9', '2', '4', '8', '5', '6'],\n",
       " ['9', '6', '1', '5', '3', '7', '2', '8', '4'],\n",
       " ['2', '8', '7', '4', '1', '9', '6', '3', '5'],\n",
       " ['3', '4', '5', '2', '8', '6', '1', '7', '9']]"
      ]
     },
     "execution_count": 156,
     "metadata": {},
     "output_type": "execute_result"
    }
   ],
   "source": [
    "solution = Solution()\n",
    "solution.solveSudoku([[\"5\",\"3\",\".\",\".\",\"7\",\".\",\".\",\".\",\".\"],\n",
    "                      [\"6\",\".\",\".\",\"1\",\"9\",\"5\",\".\",\".\",\".\"],\n",
    "                      [\".\",\"9\",\"8\",\".\",\".\",\".\",\".\",\"6\",\".\"],\n",
    "                      [\"8\",\".\",\".\",\".\",\"6\",\".\",\".\",\".\",\"3\"],\n",
    "                      [\"4\",\".\",\".\",\"8\",\".\",\"3\",\".\",\".\",\"1\"],\n",
    "                      [\"7\",\".\",\".\",\".\",\"2\",\".\",\".\",\".\",\"6\"],\n",
    "                      [\".\",\"6\",\".\",\".\",\".\",\".\",\"2\",\"8\",\".\"],\n",
    "                      [\".\",\".\",\".\",\"4\",\"1\",\"9\",\".\",\".\",\"5\"],\n",
    "                      [\".\",\".\",\".\",\".\",\"8\",\".\",\".\",\"7\",\"9\"]])"
   ]
  },
  {
   "cell_type": "code",
   "execution_count": 140,
   "metadata": {},
   "outputs": [
    {
     "name": "stdout",
     "output_type": "stream",
     "text": [
      "0 3\n",
      "0 4\n",
      "0 5\n",
      "1 3\n",
      "1 4\n",
      "1 5\n",
      "2 3\n",
      "2 4\n",
      "2 5\n"
     ]
    }
   ],
   "source": [
    "r = 1\n",
    "c = 3\n",
    "for i in range(r // 3 * 3, ((r // 3) + 1) * 3): # 不在对应的方框中，出现对应的元素\n",
    "    for j in range(c // 3 * 3, ((c // 3) + 1) * 3):\n",
    "        print(i, j)"
   ]
  },
  {
   "cell_type": "code",
   "execution_count": null,
   "metadata": {},
   "outputs": [],
   "source": []
  },
  {
   "cell_type": "code",
   "execution_count": null,
   "metadata": {},
   "outputs": [],
   "source": []
  }
 ],
 "metadata": {
  "kernelspec": {
   "display_name": "Python 3",
   "language": "python",
   "name": "python3"
  },
  "language_info": {
   "codemirror_mode": {
    "name": "ipython",
    "version": 3
   },
   "file_extension": ".py",
   "mimetype": "text/x-python",
   "name": "python",
   "nbconvert_exporter": "python",
   "pygments_lexer": "ipython3",
   "version": "3.6.2"
  }
 },
 "nbformat": 4,
 "nbformat_minor": 4
}
