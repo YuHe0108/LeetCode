{
 "cells": [
  {
   "cell_type": "raw",
   "metadata": {},
   "source": [
    "说明：\n",
    "    格雷编码是一个二进制数字系统，在该系统中，两个连续的数值仅有一个位数的差异。\n",
    "    给定一个代表编码总位数的非负整数 n，打印其格雷编码序列。即使有多个不同答案，你也只需要返回其中一种。\n",
    "    格雷编码序列必须以 0 开头。\n",
    "\n",
    "示例 1:\n",
    "    输入: 2\n",
    "    输出: [0,1,3,2]\n",
    "    解释:\n",
    "        00 - 0\n",
    "        01 - 1\n",
    "        11 - 3\n",
    "        10 - 2\n",
    "    对于给定的 n，其格雷编码序列并不唯一。\n",
    "    例如，[0,2,3,1] 也是一个有效的格雷编码序列。\n",
    "        00 - 0\n",
    "        10 - 2\n",
    "        11 - 3\n",
    "        01 - 1\n",
    "\n",
    "示例 2:\n",
    "    输入: 0\n",
    "    输出: [0]\n",
    "    解释: \n",
    "        我们定义格雷编码序列必须以 0 开头。\n",
    "         给定编码总位数为 n 的格雷编码序列，其长度为 2n。当 n = 0 时，长度为 20 = 1。\n",
    "         因此，当 n = 0 时，其格雷编码序列为 [0]。"
   ]
  },
  {
   "cell_type": "code",
   "execution_count": 28,
   "metadata": {},
   "outputs": [],
   "source": [
    "class Solution:\n",
    "    def grayCode(self, n: int):\n",
    "        if n == 0: \n",
    "            return [0]\n",
    "        if n == 1:\n",
    "            return [0, 1]\n",
    "        \n",
    "        res = ['0', '1']\n",
    "        for i in range(2, n + 1):\n",
    "            res = self.helper(res, i)\n",
    "        return [int(x, 2) for x in res]\n",
    "    \n",
    "    def helper(self, prev, n):\n",
    "        n_prev = []\n",
    "        for n in prev:\n",
    "            n_prev.append('0' + str(n))\n",
    "        \n",
    "        reverse = prev[::-1]\n",
    "        n_reverse = []\n",
    "        for n in reverse:\n",
    "            n_reverse.append('1' + str(n))\n",
    "        return n_prev + n_reverse"
   ]
  },
  {
   "cell_type": "code",
   "execution_count": 11,
   "metadata": {},
   "outputs": [],
   "source": [
    "class Solution:\n",
    "    def grayCode(self, n: int):\n",
    "        res = [0]\n",
    "        if n == 0: \n",
    "            return res\n",
    "        for i in range(n):\n",
    "            for j in range(len(res)-1, -1, -1):\n",
    "                res.append(res[j] | 1 << i)\n",
    "        return res"
   ]
  },
  {
   "cell_type": "code",
   "execution_count": 12,
   "metadata": {},
   "outputs": [
    {
     "data": {
      "text/plain": [
       "[0, 1, 3, 2]"
      ]
     },
     "execution_count": 12,
     "metadata": {},
     "output_type": "execute_result"
    }
   ],
   "source": [
    "solution = Solution()\n",
    "solution.grayCode(2)"
   ]
  },
  {
   "cell_type": "code",
   "execution_count": 17,
   "metadata": {},
   "outputs": [
    {
     "name": "stdout",
     "output_type": "stream",
     "text": [
      "[2, 1]\n"
     ]
    }
   ],
   "source": [
    "a = [1, 2]\n",
    "print(a[::-1])"
   ]
  },
  {
   "cell_type": "code",
   "execution_count": 14,
   "metadata": {},
   "outputs": [
    {
     "name": "stdout",
     "output_type": "stream",
     "text": [
      "4\n"
     ]
    }
   ],
   "source": [
    "print(1<<2)"
   ]
  },
  {
   "cell_type": "code",
   "execution_count": 10,
   "metadata": {},
   "outputs": [
    {
     "name": "stdout",
     "output_type": "stream",
     "text": [
      "0b1100\n",
      "0b1100000\n"
     ]
    }
   ],
   "source": [
    "print(bin(12))\n",
    "print(bin(96))"
   ]
  },
  {
   "cell_type": "code",
   "execution_count": null,
   "metadata": {},
   "outputs": [],
   "source": []
  }
 ],
 "metadata": {
  "kernelspec": {
   "display_name": "Python 3",
   "language": "python",
   "name": "python3"
  },
  "language_info": {
   "codemirror_mode": {
    "name": "ipython",
    "version": 3
   },
   "file_extension": ".py",
   "mimetype": "text/x-python",
   "name": "python",
   "nbconvert_exporter": "python",
   "pygments_lexer": "ipython3",
   "version": "3.6.2"
  }
 },
 "nbformat": 4,
 "nbformat_minor": 4
}
