{
 "cells": [
  {
   "cell_type": "code",
   "execution_count": null,
   "metadata": {},
   "outputs": [],
   "source": []
  },
  {
   "cell_type": "code",
   "execution_count": null,
   "metadata": {},
   "outputs": [],
   "source": []
  },
  {
   "cell_type": "code",
   "execution_count": 3,
   "metadata": {},
   "outputs": [
    {
     "ename": "SyntaxError",
     "evalue": "invalid syntax (<ipython-input-3-618e8ba2e2e6>, line 11)",
     "output_type": "error",
     "traceback": [
      "\u001b[1;36m  File \u001b[1;32m\"<ipython-input-3-618e8ba2e2e6>\"\u001b[1;36m, line \u001b[1;32m11\u001b[0m\n\u001b[1;33m    if sub_arr[:2] == '00'\u001b[0m\n\u001b[1;37m                          ^\u001b[0m\n\u001b[1;31mSyntaxError\u001b[0m\u001b[1;31m:\u001b[0m invalid syntax\n"
     ]
    }
   ],
   "source": [
    "class Solution:\n",
    "    def splitIntoFibonacci(self, S: str):\n",
    "        def backtracking(cur, temp):\n",
    "            nonlocal res\n",
    "            if cur == n:\n",
    "                if len(temp) >= 3:\n",
    "                    res = temp\n",
    "                return\n",
    "            for i in range(cur, n):\n",
    "                sub_arr = S[cur: i+1]\n",
    "                if sub_arr[:2] == '00':\n",
    "                    return\n",
    "                if int(sub_arr) > 2 ** 31 - 1:\n",
    "                    return\n",
    "                if len(temp) < 2:\n",
    "                    backtracking(i+1, temp + [int(sub_arr)])\n",
    "                else:\n",
    "                    if int(sub_arr) == temp[-1] + temp[-2]:\n",
    "                        backtracking(i+1, temp + [int(sub_arr)])\n",
    "        \n",
    "        n = len(S)\n",
    "        res = []\n",
    "        backtracking(0, [])\n",
    "        return"
   ]
  },
  {
   "cell_type": "code",
   "execution_count": null,
   "metadata": {},
   "outputs": [],
   "source": []
  },
  {
   "cell_type": "code",
   "execution_count": null,
   "metadata": {},
   "outputs": [],
   "source": []
  }
 ],
 "metadata": {
  "kernelspec": {
   "display_name": "Python 3",
   "language": "python",
   "name": "python3"
  },
  "language_info": {
   "codemirror_mode": {
    "name": "ipython",
    "version": 3
   },
   "file_extension": ".py",
   "mimetype": "text/x-python",
   "name": "python",
   "nbconvert_exporter": "python",
   "pygments_lexer": "ipython3",
   "version": "3.6.2"
  }
 },
 "nbformat": 4,
 "nbformat_minor": 4
}
