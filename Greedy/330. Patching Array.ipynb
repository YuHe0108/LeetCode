{
 "cells": [
  {
   "cell_type": "raw",
   "metadata": {},
   "source": [
    "问题描述：\n",
    "    给定一个已排序的正整数数组nums和一个整数n，向该数组添加/修补元素，\n",
    "    以便[1, n]可以通过数组中某些元素的总和形成范围内的任意数字。\n",
    "    返回所需的最小补丁数。\n",
    "例题1：\n",
    "    Input: nums = [1,3], n = 6\n",
    "    Output: 1 \n",
    "    Explanation:\n",
    "        Combinations of nums are [1], [3], [1,3], \n",
    "        which form possible sums of: 1, 3, 4.\n",
    "        Now if we add/patch 2 to nums, the combinations are: [1], [2], [3], [1,3], [2,3], [1,2,3].\n",
    "        Possible sums are 1, 2, 3, 4, 5, 6, which now covers the range [1, 6].\n",
    "        So we only need 1 patch.\n",
    "例题2：\n",
    "    Input: nums = [1,2,2], n = 5\n",
    "    Output: 0\n",
    "\n",
    "例题3：\n",
    "    Input: nums = [1,5,10], n = 20\n",
    "    Output: 2\n",
    "    Explanation: The two patches can be [2, 4]."
   ]
  },
  {
   "cell_type": "code",
   "execution_count": 46,
   "metadata": {},
   "outputs": [],
   "source": [
    "class Solution:\n",
    "    def minPatches(self, nums, n: int) -> int:\n",
    "        def current_num(nums_list, int_n):\n",
    "            sum_list = []\n",
    "            i = 0\n",
    "            while i < int_n:\n",
    "                for index in range(len(nums_list) - i):\n",
    "                    temp_num = []\n",
    "                    for j in range(i + 1):\n",
    "                        temp_num.append(nums_list[index + j])\n",
    "                    sum_list.append(sum(temp_num))\n",
    "                i += 1\n",
    "            return list(set(sum_list))\n",
    "            \n",
    "        \n",
    "        if sum(nums) == n: return 0\n",
    "        if len(nums) == 0: return [x for x in range(1, n + 1)]\n",
    "        \n",
    "        curr_sum = current_num(nums, n)\n",
    "        print(curr_sum)\n",
    "        need_nums = [x for x in range(1, n + 1)]\n",
    "        count = 1\n",
    "        while sum(nums) != n: # sum(nums)的值只有等于n的时候，\n",
    "            break\n",
    "        return count "
   ]
  },
  {
   "cell_type": "code",
   "execution_count": 65,
   "metadata": {},
   "outputs": [],
   "source": [
    "class Solution:\n",
    "    def minPatches(self, nums, n: int) -> int:      \n",
    "        if n <= 0: return 0\n",
    "        \n",
    "        count = 0\n",
    "        pre_sum = 0\n",
    "        for i, num in enumerate(nums):\n",
    "            while (num > pre_sum + 1 and pre_sum < n):\n",
    "                count += 1\n",
    "                pre_sum += (pre_sum + 1)\n",
    "            pre_sum += num\n",
    "        \n",
    "        while(pre_sum < n):\n",
    "            count += 1\n",
    "            pre_sum += (pre_sum + 1)\n",
    "        return count "
   ]
  },
  {
   "cell_type": "code",
   "execution_count": 66,
   "metadata": {},
   "outputs": [
    {
     "data": {
      "text/plain": [
       "3"
      ]
     },
     "execution_count": 66,
     "metadata": {},
     "output_type": "execute_result"
    }
   ],
   "source": [
    "nums_ = []\n",
    "n_ =  8\n",
    "solution = Solution()\n",
    "solution.minPatches(nums_, n_)"
   ]
  },
  {
   "cell_type": "markdown",
   "metadata": {},
   "source": [
    "### 1、对于存在于nums中的数字，num需要大于pre_sum+1\n",
    "### 2、如果小于给定的n，因为n不在nums中，所以添加的数字时pre_sum+1"
   ]
  },
  {
   "cell_type": "code",
   "execution_count": null,
   "metadata": {},
   "outputs": [],
   "source": []
  }
 ],
 "metadata": {
  "kernelspec": {
   "display_name": "TF2",
   "language": "python",
   "name": "tf2"
  },
  "language_info": {
   "codemirror_mode": {
    "name": "ipython",
    "version": 3
   },
   "file_extension": ".py",
   "mimetype": "text/x-python",
   "name": "python",
   "nbconvert_exporter": "python",
   "pygments_lexer": "ipython3",
   "version": "3.6.2"
  }
 },
 "nbformat": 4,
 "nbformat_minor": 4
}
