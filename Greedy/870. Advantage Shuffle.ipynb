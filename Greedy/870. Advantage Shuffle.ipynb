{
 "cells": [
  {
   "cell_type": "markdown",
   "metadata": {},
   "source": [
    "    问题描述：\n",
    "        A和B两个 list 的 size 是相同的。\n",
    "        所述的优点A相对于B是索引的数量i 为哪个A[i] > B[i]。\n",
    "        调整A中元素的排列，使得其优势更大。\n",
    "     \n",
    "     例题1：\n",
    "         Input: A = [2,7,11,15], B = [1,10,4,11]，\n",
    "             原始优势： (2 - 1)  = 1，(7 - 10) = -3，(11 - 4) = 7，(15 - 11) = 4 \n",
    "                     三个正值，一个负值\n",
    "         Output: [2,11,7,15]\n",
    "             现在优势：(2 - 1) = 1，(11 - 10) = 1， (7 - 4) = 3，(15 - 11) =  4\n",
    "              都是正值。\n",
    "     例题2：\n",
    "         Input: A = [12,24,8,32], B = [13,25,32,11]\n",
    "         Output: [24,32,8,12]"
   ]
  },
  {
   "cell_type": "markdown",
   "metadata": {},
   "source": [
    "    策略：\n",
    "        如果 A[i] > B[i]， 则选择其中 A[i] 的较大的最小值\n",
    "        否则选择 最小值，如果小于，那就选择最小值"
   ]
  },
  {
   "cell_type": "code",
   "execution_count": 84,
   "metadata": {},
   "outputs": [],
   "source": [
    "class Solution:\n",
    "    def advantageCount(self, A, B):\n",
    "        \"\"\"\"\"\"\n",
    "        A.sort()\n",
    "        res = []\n",
    "        for i in range(len(B)):\n",
    "            max_than_b = False\n",
    "            a_index = 0\n",
    "            while a_index < len(A):\n",
    "                # 如果大于则退出，并将这个比较大的值弹出\n",
    "                if A[a_index] > B[i]:\n",
    "                    res.append(A[a_index])\n",
    "                    A.pop(a_index)\n",
    "                    max_than_b = True\n",
    "                    break\n",
    "                # 如果小于，则匹配下一位\n",
    "                else:\n",
    "                    a_index += 1\n",
    "            \n",
    "            # 如果都不匹配，则选择A中的最小值，随后弹出最小值\n",
    "            if max_than_b is False and len(res) < len(B):\n",
    "                res.append(min(A))\n",
    "                A.remove(min(A))\n",
    "        return res"
   ]
  },
  {
   "cell_type": "code",
   "execution_count": 85,
   "metadata": {},
   "outputs": [
    {
     "data": {
      "text/plain": [
       "[24, 32, 8, 12]"
      ]
     },
     "execution_count": 85,
     "metadata": {},
     "output_type": "execute_result"
    }
   ],
   "source": [
    "# A_ = [2,7,11,15]\n",
    "# B_ = [1,10,4,11]\n",
    "A_ = [12,24,8,32]\n",
    "B_ = [13,25,32,11]\n",
    "solution = Solution()\n",
    "solution.advantageCount(A_, B_)"
   ]
  },
  {
   "cell_type": "code",
   "execution_count": 10,
   "metadata": {},
   "outputs": [],
   "source": [
    "A_.sort()"
   ]
  },
  {
   "cell_type": "code",
   "execution_count": 11,
   "metadata": {},
   "outputs": [
    {
     "data": {
      "text/plain": [
       "[2, 7, 11, 15]"
      ]
     },
     "execution_count": 11,
     "metadata": {},
     "output_type": "execute_result"
    }
   ],
   "source": [
    "A_"
   ]
  },
  {
   "cell_type": "code",
   "execution_count": 86,
   "metadata": {},
   "outputs": [],
   "source": [
    "from collections import defaultdict\n",
    "\n",
    "class Solution:\n",
    "    def advantageCount(self, A, B):\n",
    "        A.sort()\n",
    "        result = []\n",
    "        counter = defaultdict(list)\n",
    "        \n",
    "        print(A)\n",
    "        for idx in sorted(B, reverse=True):\n",
    "            if A[-1] > idx: # 将A的最大值于B的最大值比较，如果A的最大值大于B的最大值，则选择该值\n",
    "                counter[idx].append(A.pop())\n",
    "        \n",
    "        print(A)\n",
    "        print(B)\n",
    "        \n",
    "        for idx in B:\n",
    "            if counter[idx]:\n",
    "                result.append(counter[idx].pop())\n",
    "            else:\n",
    "                # A余下的值反正都小于B剩下的值，所以可以任意 pop（）\n",
    "                result.append(A.pop()) # 此时弹出的是A的较大值\n",
    "        return result\n"
   ]
  },
  {
   "cell_type": "code",
   "execution_count": 81,
   "metadata": {},
   "outputs": [
    {
     "name": "stdout",
     "output_type": "stream",
     "text": [
      "[8, 10, 12, 24]\n",
      "[8, 10]\n",
      "[13, 25, 32, 11]\n"
     ]
    },
    {
     "data": {
      "text/plain": [
       "[24, 10, 8, 12]"
      ]
     },
     "execution_count": 81,
     "metadata": {},
     "output_type": "execute_result"
    }
   ],
   "source": [
    "A_ = [12,24,8,10]\n",
    "B_ = [13,25,32,11]\n",
    "solution = Solution()\n",
    "solution.advantageCount(A_, B_) "
   ]
  },
  {
   "cell_type": "code",
   "execution_count": 77,
   "metadata": {},
   "outputs": [
    {
     "data": {
      "text/plain": [
       "32"
      ]
     },
     "execution_count": 77,
     "metadata": {},
     "output_type": "execute_result"
    }
   ],
   "source": [
    "A_ = [12,24,8,32]\n",
    "A_.sort()\n",
    "A_.pop()"
   ]
  },
  {
   "cell_type": "code",
   "execution_count": null,
   "metadata": {},
   "outputs": [],
   "source": []
  }
 ],
 "metadata": {
  "kernelspec": {
   "display_name": "TF2",
   "language": "python",
   "name": "tf2"
  },
  "language_info": {
   "codemirror_mode": {
    "name": "ipython",
    "version": 3
   },
   "file_extension": ".py",
   "mimetype": "text/x-python",
   "name": "python",
   "nbconvert_exporter": "python",
   "pygments_lexer": "ipython3",
   "version": "3.6.2"
  }
 },
 "nbformat": 4,
 "nbformat_minor": 4
}
