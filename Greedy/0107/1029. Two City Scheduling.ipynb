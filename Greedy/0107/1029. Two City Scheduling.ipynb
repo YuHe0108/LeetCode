{
 "cells": [
  {
   "cell_type": "code",
   "execution_count": null,
   "metadata": {},
   "outputs": [],
   "source": []
  },
  {
   "cell_type": "code",
   "execution_count": null,
   "metadata": {},
   "outputs": [],
   "source": []
  },
  {
   "cell_type": "code",
   "execution_count": 11,
   "metadata": {},
   "outputs": [],
   "source": [
    "from typing import List\n",
    "import heapq\n",
    "\n",
    "class Solution:\n",
    "    def twoCitySchedCost(self, costs: List[List[int]]) -> int:\n",
    "        # 按照 A 城市的各个人的价格排序\n",
    "        n = len(costs)\n",
    "        t = n // 2\n",
    "        pri_A = []\n",
    "        for i in range(n):\n",
    "            heapq.heappush(pri_A, (costs[i][0], i))\n",
    "        # 按照 B 城市的各个人的价格排序\n",
    "        pri_B = []\n",
    "        for i in range(n):\n",
    "            heapq.heappush(pri_B, (costs[i][1], i))\n",
    "        \n",
    "        cnt_a = []\n",
    "        cnt_b = [] # 去两地的花费\n",
    "        for i in range(t):\n",
    "            a_p, a_idx = heapq.heappop(pri_A)\n",
    "            b_p, b_idx = heapq.heappop(pri_B)\n",
    "            if a_idx != b_idx:\n",
    "                if len(cnt_a) < t:\n",
    "                    cnt_a.append(a_p)\n",
    "                if len(cnt_b) < t:\n",
    "                    cnt_b.append(b_p)\n",
    "            else: # 弹出的都是同一个人\n",
    "                if len(cnt_a) < t and len(cnt_b) < t:\n",
    "                    if a_p < b_p:\n",
    "                        cnt_a.append(a_p)\n",
    "                    elif a_p > b_p and len():\n",
    "                        cnt_b.append(b_p)\n",
    "                    else:\n",
    "                        cnt_a.append(a_p)\n",
    "        return sum(cnt_a) + sum(cnt_b)"
   ]
  },
  {
   "cell_type": "code",
   "execution_count": null,
   "metadata": {},
   "outputs": [],
   "source": []
  },
  {
   "cell_type": "code",
   "execution_count": 42,
   "metadata": {},
   "outputs": [],
   "source": [
    "from typing import List\n",
    "import heapq\n",
    "\n",
    "class Solution:\n",
    "    def twoCitySchedCost(self, costs: List[List[int]]) -> int:\n",
    "        # 先让所有的人都去 A城市， 之后遍历每个人从A城市去B城市的花费\n",
    "        # 让花费最小的 n//2 个人去 B 城市\n",
    "        n = len(costs)\n",
    "        t = n // 2\n",
    "        dis = []\n",
    "        for i, (x, y) in enumerate(costs):\n",
    "            heapq.heappush(dis, (y-x, i))\n",
    "        \n",
    "        b_nums = set()\n",
    "        for i in range(t):\n",
    "            item = heapq.heappop(dis)\n",
    "            b_nums.add(item[1])\n",
    "            \n",
    "        res = 0\n",
    "        for i in range(n):\n",
    "            if i in b_nums:\n",
    "                res += costs[i][1]\n",
    "            else:\n",
    "                res += costs[i][0]\n",
    "        return res"
   ]
  },
  {
   "cell_type": "code",
   "execution_count": 43,
   "metadata": {},
   "outputs": [
    {
     "name": "stdout",
     "output_type": "stream",
     "text": [
      "[(-350, 2), (-10, 3), (10, 0), (170, 1)]\n",
      "{2, 3}\n"
     ]
    },
    {
     "data": {
      "text/plain": [
       "110"
      ]
     },
     "execution_count": 43,
     "metadata": {},
     "output_type": "execute_result"
    }
   ],
   "source": [
    "solution = Solution()\n",
    "solution.twoCitySchedCost([[10,20],[30,200],[400,50],[30,20]])"
   ]
  },
  {
   "cell_type": "code",
   "execution_count": null,
   "metadata": {},
   "outputs": [],
   "source": []
  },
  {
   "cell_type": "code",
   "execution_count": null,
   "metadata": {},
   "outputs": [],
   "source": []
  },
  {
   "cell_type": "code",
   "execution_count": 34,
   "metadata": {},
   "outputs": [],
   "source": [
    "from typing import List\n",
    "import heapq\n",
    "\n",
    "class Solution:\n",
    "    def twoCitySchedCost(self, costs: List[List[int]]) -> int:\n",
    "        # 先让所有的人都去 A城市， 之后遍历每个人从A城市去B城市的花费\n",
    "        # 让花费最小的 n//2 个人去 B 城市\n",
    "        n = len(costs) // 2\n",
    "        res = 0\n",
    "        q = []\n",
    "        for i in range(n):\n",
    "            res += costs[i][0]\n",
    "            heapq.heappush(q, (costs[i][1] - costs[i][0]))\n",
    "        for i in range(n, 2*n):\n",
    "            res += costs[i][0]\n",
    "            res += heapq.heappushpop(q, (costs[i][1] - costs[i][0]))\n",
    "        return res"
   ]
  },
  {
   "cell_type": "code",
   "execution_count": 35,
   "metadata": {},
   "outputs": [
    {
     "data": {
      "text/plain": [
       "110"
      ]
     },
     "execution_count": 35,
     "metadata": {},
     "output_type": "execute_result"
    }
   ],
   "source": [
    "solution = Solution()\n",
    "solution.twoCitySchedCost([[10,20],[30,200],[400,50],[30,20]])"
   ]
  },
  {
   "cell_type": "code",
   "execution_count": null,
   "metadata": {},
   "outputs": [],
   "source": []
  },
  {
   "cell_type": "code",
   "execution_count": null,
   "metadata": {},
   "outputs": [],
   "source": []
  },
  {
   "cell_type": "code",
   "execution_count": null,
   "metadata": {},
   "outputs": [],
   "source": []
  },
  {
   "cell_type": "code",
   "execution_count": null,
   "metadata": {},
   "outputs": [],
   "source": [
    "[[259,770],   A\n",
    " [448,54],    B\n",
    " [926,667],   B\n",
    " [184,139],   B\n",
    " [840,118],   B\n",
    " [577,469]]   B"
   ]
  },
  {
   "cell_type": "code",
   "execution_count": 17,
   "metadata": {},
   "outputs": [],
   "source": [
    "a = [[259,770],[448,54],[926,667],[184,139],[840,118],[577,469]]\n",
    "a.sort(key=lambda x:x[1])"
   ]
  },
  {
   "cell_type": "code",
   "execution_count": 18,
   "metadata": {},
   "outputs": [
    {
     "data": {
      "text/plain": [
       "[[448, 54], [840, 118], [184, 139], [577, 469], [926, 667], [259, 770]]"
      ]
     },
     "execution_count": 18,
     "metadata": {},
     "output_type": "execute_result"
    }
   ],
   "source": [
    "a"
   ]
  },
  {
   "cell_type": "code",
   "execution_count": 19,
   "metadata": {},
   "outputs": [
    {
     "data": {
      "text/plain": [
       "[[184, 139], [259, 770], [448, 54], [577, 469], [840, 118], [926, 667]]"
      ]
     },
     "execution_count": 19,
     "metadata": {},
     "output_type": "execute_result"
    }
   ],
   "source": [
    "[[184, 139], A\n",
    " [259, 770], A\n",
    " [448, 54],  B\n",
    " [577, 469], A\n",
    " [840, 118], B\n",
    " [926, 667]] B"
   ]
  },
  {
   "cell_type": "code",
   "execution_count": null,
   "metadata": {},
   "outputs": [],
   "source": []
  },
  {
   "cell_type": "code",
   "execution_count": null,
   "metadata": {},
   "outputs": [],
   "source": []
  },
  {
   "cell_type": "code",
   "execution_count": null,
   "metadata": {},
   "outputs": [],
   "source": [
    "[[448, 54],  \n",
    " [840, 118], \n",
    " [184, 139], \n",
    " [577, 469], \n",
    " [926, 667], \n",
    " [259, 770]]"
   ]
  },
  {
   "cell_type": "raw",
   "metadata": {},
   "source": [
    "   [184, 139]: A           [448, 54]: B\n",
    "   [259, 770]: A           [840, 118]: B\n",
    "   [840, 118]              [577, 469],"
   ]
  }
 ],
 "metadata": {
  "kernelspec": {
   "display_name": "Python 3",
   "language": "python",
   "name": "python3"
  },
  "language_info": {
   "codemirror_mode": {
    "name": "ipython",
    "version": 3
   },
   "file_extension": ".py",
   "mimetype": "text/x-python",
   "name": "python",
   "nbconvert_exporter": "python",
   "pygments_lexer": "ipython3",
   "version": "3.6.2"
  }
 },
 "nbformat": 4,
 "nbformat_minor": 4
}
