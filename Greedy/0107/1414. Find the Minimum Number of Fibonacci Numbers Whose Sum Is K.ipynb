{
 "cells": [
  {
   "cell_type": "code",
   "execution_count": null,
   "metadata": {},
   "outputs": [],
   "source": []
  },
  {
   "cell_type": "code",
   "execution_count": null,
   "metadata": {},
   "outputs": [],
   "source": []
  },
  {
   "cell_type": "code",
   "execution_count": null,
   "metadata": {},
   "outputs": [],
   "source": [
    "class Solution:\n",
    "    def findMinFibonacciNumbers(self, k: int) -> int:\n",
    "        a = [1, 1]\n",
    "        while a[-1] < k:\n",
    "            a.append(a[-2] + a[-1])\n",
    "        i = 0\n",
    "        while k > 0:\n",
    "            if a[-1] > k:\n",
    "                a.pop()\n",
    "                continue\n",
    "            k -= a[-1]\n",
    "            i += 1\n",
    "        return i\n",
    "            "
   ]
  },
  {
   "cell_type": "code",
   "execution_count": 16,
   "metadata": {},
   "outputs": [],
   "source": [
    "class Solution:\n",
    "    def findMinFibonacciNumbers(self, k: int) -> int:\n",
    "        vals = [1, 1]\n",
    "        for i in range(100):\n",
    "            v = vals[-1] + vals[-2]\n",
    "            if v > k:\n",
    "                break\n",
    "            vals.append(v)\n",
    "      \n",
    "        cnt = 0\n",
    "        while k > 0:\n",
    "            if vals[-1] > k:\n",
    "                vals.pop()\n",
    "                continue\n",
    "            k -= vals[-1]\n",
    "            cnt += 1\n",
    "        return cnt"
   ]
  },
  {
   "cell_type": "code",
   "execution_count": 17,
   "metadata": {},
   "outputs": [
    {
     "data": {
      "text/plain": [
       "3"
      ]
     },
     "execution_count": 17,
     "metadata": {},
     "output_type": "execute_result"
    }
   ],
   "source": [
    "solution = Solution()\n",
    "solution.findMinFibonacciNumbers(19)"
   ]
  },
  {
   "cell_type": "code",
   "execution_count": null,
   "metadata": {},
   "outputs": [],
   "source": []
  }
 ],
 "metadata": {
  "kernelspec": {
   "display_name": "Python 3",
   "language": "python",
   "name": "python3"
  },
  "language_info": {
   "codemirror_mode": {
    "name": "ipython",
    "version": 3
   },
   "file_extension": ".py",
   "mimetype": "text/x-python",
   "name": "python",
   "nbconvert_exporter": "python",
   "pygments_lexer": "ipython3",
   "version": "3.6.2"
  }
 },
 "nbformat": 4,
 "nbformat_minor": 4
}
