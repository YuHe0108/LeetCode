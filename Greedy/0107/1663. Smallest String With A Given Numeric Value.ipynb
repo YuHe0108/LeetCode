{
 "cells": [
  {
   "cell_type": "code",
   "execution_count": null,
   "metadata": {},
   "outputs": [],
   "source": []
  },
  {
   "cell_type": "code",
   "execution_count": null,
   "metadata": {},
   "outputs": [],
   "source": []
  },
  {
   "cell_type": "code",
   "execution_count": 20,
   "metadata": {},
   "outputs": [],
   "source": [
    "class Solution:\n",
    "    def getSmallestString(self, n: int, k: int) -> str:\n",
    "        letters = '#abcdefghigklmnopqistuvwxyz'\n",
    "        res = '#'\n",
    "        # 先挑选小的拿\n",
    "        while k > 0:\n",
    "            idx = max(k - (n - len(res)) * 26, 1) # 用来表示如果后面的值都取26，当前位置能取到的最小值是多少\n",
    "            res += letters[idx]\n",
    "            k -= idx\n",
    "        return res[1:]"
   ]
  },
  {
   "cell_type": "code",
   "execution_count": null,
   "metadata": {},
   "outputs": [],
   "source": []
  },
  {
   "cell_type": "code",
   "execution_count": null,
   "metadata": {},
   "outputs": [],
   "source": [
    "class Solution:\n",
    "    def getSmallestString(self, n: int, k: int) -> str:\n",
    "        znum = (k - n) // 25 # 必须要有多少位取值为：‘z’\n",
    "        rest = k - n - 25 * znum\n",
    "        if rest == 0 :\n",
    "            return \"a\" * (n - znum) + \"z\" * znum\n",
    "        else:\n",
    "            return \"a\" * (n - znum - 1) + chr(97 + rest) + \"z\" * znum"
   ]
  },
  {
   "cell_type": "code",
   "execution_count": null,
   "metadata": {},
   "outputs": [],
   "source": []
  },
  {
   "cell_type": "code",
   "execution_count": 22,
   "metadata": {},
   "outputs": [],
   "source": [
    "class Solution:\n",
    "    def getSmallestString(self, n: int, k: int) -> str:\n",
    "        res = \"\"\n",
    "        for i in range(1, 26):\n",
    "            cnt = (26*n - k)//(26 - i)\n",
    "            n = n - cnt\n",
    "            k = k - i*cnt\n",
    "            res += cnt*chr(96+i)\n",
    "        \n",
    "        res += (k//26)*'z'\n",
    "        return res"
   ]
  },
  {
   "cell_type": "code",
   "execution_count": 23,
   "metadata": {},
   "outputs": [
    {
     "data": {
      "text/plain": [
       "'aay'"
      ]
     },
     "execution_count": 23,
     "metadata": {},
     "output_type": "execute_result"
    }
   ],
   "source": [
    "solution = Solution()\n",
    "solution.getSmallestString(n = 3, k = 27)"
   ]
  },
  {
   "cell_type": "code",
   "execution_count": 5,
   "metadata": {},
   "outputs": [],
   "source": [
    "int_a = ord('a') - 96"
   ]
  },
  {
   "cell_type": "code",
   "execution_count": null,
   "metadata": {},
   "outputs": [],
   "source": []
  }
 ],
 "metadata": {
  "kernelspec": {
   "display_name": "Python 3",
   "language": "python",
   "name": "python3"
  },
  "language_info": {
   "codemirror_mode": {
    "name": "ipython",
    "version": 3
   },
   "file_extension": ".py",
   "mimetype": "text/x-python",
   "name": "python",
   "nbconvert_exporter": "python",
   "pygments_lexer": "ipython3",
   "version": "3.6.2"
  }
 },
 "nbformat": 4,
 "nbformat_minor": 4
}
