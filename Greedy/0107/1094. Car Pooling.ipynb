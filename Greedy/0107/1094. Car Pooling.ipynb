{
 "cells": [
  {
   "cell_type": "code",
   "execution_count": null,
   "metadata": {},
   "outputs": [],
   "source": []
  },
  {
   "cell_type": "code",
   "execution_count": null,
   "metadata": {},
   "outputs": [],
   "source": []
  },
  {
   "cell_type": "code",
   "execution_count": 17,
   "metadata": {},
   "outputs": [],
   "source": [
    "from typing import List\n",
    "from collections import defaultdict\n",
    "\n",
    "class Solution:\n",
    "    def carPooling(self, trips: List[List[int]], capacity: int) -> bool:\n",
    "        trips.sort(key=lambda x:x[1])\n",
    "        up_count = defaultdict(int) # 必须接的乘客\n",
    "        down_count = defaultdict(int) # 下车的乘客\n",
    "        for num, s, e in trips:\n",
    "            up_count[s] += num\n",
    "            down_count[e] += num\n",
    "        \n",
    "        start, end = trips[0][1], trips[-1][2] # 起点和重点\n",
    "        cnt = 0\n",
    "        for i in range(start, end+1):\n",
    "            if i in down_count: # 先下后上\n",
    "                cnt -= down_count[i]\n",
    "            if i in up_count:\n",
    "                cnt += up_count[i]\n",
    "                if cnt > capacity:\n",
    "                        return False\n",
    "        return True"
   ]
  },
  {
   "cell_type": "code",
   "execution_count": 21,
   "metadata": {},
   "outputs": [
    {
     "data": {
      "text/plain": [
       "True"
      ]
     },
     "execution_count": 21,
     "metadata": {},
     "output_type": "execute_result"
    }
   ],
   "source": [
    "solution = Solution()\n",
    "solution.carPooling(trips = [[2,1,5],[3,3,7]], capacity = 5)"
   ]
  },
  {
   "cell_type": "code",
   "execution_count": null,
   "metadata": {},
   "outputs": [],
   "source": []
  }
 ],
 "metadata": {
  "kernelspec": {
   "display_name": "Python 3",
   "language": "python",
   "name": "python3"
  },
  "language_info": {
   "codemirror_mode": {
    "name": "ipython",
    "version": 3
   },
   "file_extension": ".py",
   "mimetype": "text/x-python",
   "name": "python",
   "nbconvert_exporter": "python",
   "pygments_lexer": "ipython3",
   "version": "3.6.2"
  }
 },
 "nbformat": 4,
 "nbformat_minor": 4
}
