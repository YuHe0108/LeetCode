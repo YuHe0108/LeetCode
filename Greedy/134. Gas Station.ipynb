{
 "cells": [
  {
   "cell_type": "raw",
   "metadata": {},
   "source": [
    "问题描述：\n",
    "    沿循环路线有N个加油站，其中i站的加气量为gas[i]。\n",
    "    您有一辆带无限油箱的汽车，从从第i站到下一个站点（i +1）的油费是cost[i]。\n",
    "    从其中一个加油站空罐开始旅程，如果您可以沿顺时针方向绕过回路一次，返回起点的Index, 否则返回-1。\n",
    "    1、如果存在解决方案，则保证是唯一的。\n",
    "    2、两个输入数组都是非空的，并且具有相同的长度。\n",
    "    3、输入数组中的每个元素都是非负整数。\n",
    "例题1：\n",
    "    Input: \n",
    "        gas  = [1,2,3,4,5]\n",
    "        cost = [3,4,5,1,2]\n",
    "    Output: 3\n",
    "\n",
    "    Explanation:\n",
    "    Start at station 3 (index 3) and fill up with 4 unit of gas. Your tank = 0 + 4 = 4\n",
    "    Travel to station 4. Your tank = 4 - 1 + 5 = 8\n",
    "    Travel to station 0. Your tank = 8 - 2 + 1 = 7\n",
    "    Travel to station 1. Your tank = 7 - 3 + 2 = 6\n",
    "    Travel to station 2. Your tank = 6 - 4 + 3 = 5\n",
    "    Travel to station 3. Your tank = 5 - 5 = 0  终点\n",
    "    The cost is 5. Your gas is just enough to travel back to station 3.\n",
    "    Therefore, return 3 as the starting index.\n",
    "\n",
    "例题2：\n",
    "    Input: \n",
    "        gas  = [2,3,4]\n",
    "        cost = [3,4,3]\n",
    "\n",
    "    Output: -1\n",
    "\n",
    "    Explanation:\n",
    "        You can't start at station 0 or 1, as there is not enough gas to travel to the next station.\n",
    "        Let's start at station 2 and fill up with 4 unit of gas. Your tank = 0 + 4 = 4\n",
    "        Travel to station 0. Your tank = 4 - 3 + 2 = 3\n",
    "        Travel to station 1. Your tank = 3 - 3 + 3 = 3\n",
    "        You cannot travel back to station 2, as it requires 4 unit of gas but you only have 3.\n",
    "        Therefore, you can't travel around the circuit once no matter where you start."
   ]
  },
  {
   "cell_type": "code",
   "execution_count": 53,
   "metadata": {},
   "outputs": [],
   "source": [
    "class Solution:\n",
    "    def canCompleteCircuit(self, gas, cost) -> int:\n",
    "        for index in range(len(gas)):\n",
    "            res_gas = gas[index] - cost[index]\n",
    "            if res_gas >= 0:\n",
    "                for i in range(1, len(gas)):\n",
    "                    gas_index = (index + i) % len(gas)\n",
    "                    res_gas = res_gas + gas[gas_index] - cost[gas_index]\n",
    "                    if res_gas < 0:\n",
    "                        break\n",
    "                if res_gas >= 0:\n",
    "                    return index\n",
    "        return -1"
   ]
  },
  {
   "cell_type": "code",
   "execution_count": 54,
   "metadata": {},
   "outputs": [
    {
     "data": {
      "text/plain": [
       "-1"
      ]
     },
     "execution_count": 54,
     "metadata": {},
     "output_type": "execute_result"
    }
   ],
   "source": [
    "gas_ = [2, 3, 4]\n",
    "cost_ = [3, 4, 3]\n",
    "solution = Solution()\n",
    "solution.canCompleteCircuit(gas_, cost_)"
   ]
  },
  {
   "cell_type": "raw",
   "metadata": {},
   "source": [
    "    [1, 2, 3, 4, 5]\n",
    "    [3, 4, 5, 1, 2]\n",
    "    \n",
    "4-1=3\n",
    "3+5-2=6\n",
    "6+1-3=4\n",
    "4+2-4=2\n",
    "2+3-5=0\n",
    "\n",
    "\n",
    " \n",
    "res_gas = 0, index = 3, res_gas = 4-1=3\n",
    "res_gas = 3, index = 4, res_gas = 3+5-2=6\n",
    "res_gas = 6, index = 0, res_gas = 6+1-3=4"
   ]
  },
  {
   "cell_type": "code",
   "execution_count": 9,
   "metadata": {},
   "outputs": [],
   "source": [
    "class Solution:\n",
    "    def canCompleteCircuit(self, gas, cost) -> int:\n",
    "        tank=0\n",
    "        index = -1\n",
    "        if (sum(cost) - sum(gas))>0:\n",
    "            return -1\n",
    "        for i in range(len(gas)):\n",
    "            print(tank, gas[i], cost[i])\n",
    "            if tank+gas[i]>=cost[i]:\n",
    "                if tank==0:\n",
    "                    index = i\n",
    "                tank +=(gas[i]-cost[i])\n",
    "                print(tank)\n",
    "            else:\n",
    "                tank = 0\n",
    "                index = -1\n",
    "        return index"
   ]
  },
  {
   "cell_type": "code",
   "execution_count": 10,
   "metadata": {},
   "outputs": [
    {
     "data": {
      "text/plain": [
       "-1"
      ]
     },
     "execution_count": 10,
     "metadata": {},
     "output_type": "execute_result"
    }
   ],
   "source": [
    "gas_ = [1, 2, 3, 4, 5]\n",
    "cost_ = [10, 4, 5, 1, 2]\n",
    "solution = Solution()\n",
    "solution.canCompleteCircuit(gas_, cost_)"
   ]
  },
  {
   "cell_type": "code",
   "execution_count": null,
   "metadata": {},
   "outputs": [],
   "source": []
  },
  {
   "cell_type": "code",
   "execution_count": null,
   "metadata": {},
   "outputs": [],
   "source": []
  }
 ],
 "metadata": {
  "kernelspec": {
   "display_name": "TF2",
   "language": "python",
   "name": "tf2"
  },
  "language_info": {
   "codemirror_mode": {
    "name": "ipython",
    "version": 3
   },
   "file_extension": ".py",
   "mimetype": "text/x-python",
   "name": "python",
   "nbconvert_exporter": "python",
   "pygments_lexer": "ipython3",
   "version": "3.6.2"
  }
 },
 "nbformat": 4,
 "nbformat_minor": 4
}
