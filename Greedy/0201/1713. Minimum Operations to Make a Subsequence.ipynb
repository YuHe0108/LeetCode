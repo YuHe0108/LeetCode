{
 "cells": [
  {
   "cell_type": "code",
   "execution_count": null,
   "metadata": {},
   "outputs": [],
   "source": []
  },
  {
   "cell_type": "code",
   "execution_count": null,
   "metadata": {},
   "outputs": [],
   "source": []
  },
  {
   "cell_type": "code",
   "execution_count": null,
   "metadata": {},
   "outputs": [],
   "source": []
  },
  {
   "cell_type": "code",
   "execution_count": 21,
   "metadata": {},
   "outputs": [],
   "source": [
    "from typing import List\n",
    "import bisect\n",
    "\n",
    "class Solution:\n",
    "    def minOperations(self, target: List[int], arr: List[int]) -> int:\n",
    "        # 因为 target中的元素都是不同的，所有讲target重新映射为 [0, 1, 2] \n",
    "        # 这个时候，target中的数字都是递增的\n",
    "        # 所以，用映射的值，重新构造arr，找arr中的最长上升子序列\n",
    "        nums = {}\n",
    "        for i, v in enumerate(target):\n",
    "            nums[v] = i\n",
    "        \n",
    "        # 根据规则重新构造 arr\n",
    "        new_arr = []\n",
    "        for v in arr:\n",
    "            if v not in nums:\n",
    "                continue\n",
    "            new_arr.append(nums[v])\n",
    "        \n",
    "        # 寻找new_arr中的最长上升自序列为多少: LIS(lonest increasing sub-sequnece)\n",
    "        dp = []\n",
    "        for v in new_arr:\n",
    "            idx = bisect.bisect_left(dp, v) # 寻找当前值是否能够构成 上升子序列\n",
    "            if idx == len(dp):\n",
    "                dp.append(v)\n",
    "            else:\n",
    "                dp[idx] = v\n",
    "        return len(target) - len(dp)"
   ]
  },
  {
   "cell_type": "code",
   "execution_count": 23,
   "metadata": {},
   "outputs": [
    {
     "data": {
      "text/plain": [
       "3"
      ]
     },
     "execution_count": 23,
     "metadata": {},
     "output_type": "execute_result"
    }
   ],
   "source": [
    "solution = Solution()\n",
    "solution.minOperations(target = [6,4,8,1,3,2], arr = [4,7,6,2,3,8,6,1])"
   ]
  },
  {
   "cell_type": "code",
   "execution_count": null,
   "metadata": {},
   "outputs": [],
   "source": [
    "[1, 2, 3, 4, -5]"
   ]
  }
 ],
 "metadata": {
  "kernelspec": {
   "display_name": "Python 3",
   "language": "python",
   "name": "python3"
  },
  "language_info": {
   "codemirror_mode": {
    "name": "ipython",
    "version": 3
   },
   "file_extension": ".py",
   "mimetype": "text/x-python",
   "name": "python",
   "nbconvert_exporter": "python",
   "pygments_lexer": "ipython3",
   "version": "3.6.2"
  }
 },
 "nbformat": 4,
 "nbformat_minor": 4
}
