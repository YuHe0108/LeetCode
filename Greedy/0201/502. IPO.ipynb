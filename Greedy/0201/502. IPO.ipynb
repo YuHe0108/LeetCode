{
 "cells": [
  {
   "cell_type": "code",
   "execution_count": 44,
   "metadata": {},
   "outputs": [],
   "source": [
    "a = [1, 2, 3]"
   ]
  },
  {
   "cell_type": "code",
   "execution_count": 45,
   "metadata": {},
   "outputs": [
    {
     "data": {
      "text/plain": [
       "2"
      ]
     },
     "execution_count": 45,
     "metadata": {},
     "output_type": "execute_result"
    }
   ],
   "source": [
    "a.pop(1)"
   ]
  },
  {
   "cell_type": "code",
   "execution_count": 46,
   "metadata": {},
   "outputs": [
    {
     "data": {
      "text/plain": [
       "[1, 3]"
      ]
     },
     "execution_count": 46,
     "metadata": {},
     "output_type": "execute_result"
    }
   ],
   "source": [
    "a"
   ]
  },
  {
   "cell_type": "code",
   "execution_count": 55,
   "metadata": {},
   "outputs": [],
   "source": [
    "from typing import List\n",
    "import heapq\n",
    "\n",
    "class Solution:\n",
    "    def findMaximizedCapital(self, k: int, W: int, Profits: List[int], Capital: List[int]) -> int:\n",
    "        # 完成能够在资本范围内，获取最大利润的值\n",
    "        # k 个不同的项目，以为着完成当前项目后，要将当前的项目弹出\n",
    "        p_c = list(zip(Capital, Profits))\n",
    "        p_c = sorted(p_c, key=lambda x: (x[0], -x[1]))\n",
    "        \n",
    "        for i in range(k):\n",
    "            #如何在 Capitial <= W的条件下，快速找到一个最大的Profit\n",
    "            # 并且找到之后，以后不能再用此 资本\n",
    "            val = -float('inf')\n",
    "            flag = None\n",
    "            for i, (c, p) in enumerate(p_c):\n",
    "                if c > W:\n",
    "                    break\n",
    "                if p > val:\n",
    "                    val = p\n",
    "                    flag = i\n",
    "            if flag is None:\n",
    "                return W\n",
    "            W += val\n",
    "            p_c.pop(flag)\n",
    "        return W"
   ]
  },
  {
   "cell_type": "code",
   "execution_count": null,
   "metadata": {},
   "outputs": [],
   "source": []
  },
  {
   "cell_type": "code",
   "execution_count": null,
   "metadata": {},
   "outputs": [],
   "source": []
  },
  {
   "cell_type": "code",
   "execution_count": 108,
   "metadata": {},
   "outputs": [],
   "source": [
    "from collections import defaultdict\n",
    "from typing import List\n",
    "import heapq\n",
    "\n",
    "class Solution:\n",
    "    def findMaximizedCapital(self, k: int, W: int, Profits: List[int], Capital: List[int]) -> int:\n",
    "        # 完成能够在资本范围内，获取最大利润的值\n",
    "        # k 个不同的项目，以为着完成当前项目后，要将当前的项目弹出\n",
    "        \n",
    "        # 1、按照Capitial排序，找到利润的最大值\n",
    "        hq = []\n",
    "        for c, p in zip(Capital, Profits):\n",
    "            heapq.heappush(hq, (c, -p))\n",
    "        \n",
    "        poped = []\n",
    "        for i in range(k):\n",
    "            #如何在 Capitial <= W的条件下，快速找到一个最大的Profit\n",
    "            # 并且找到之后，以后不能再用此 资本\n",
    "            while hq:\n",
    "                item = heapq.heappop(hq)\n",
    "                if item[0] > W:\n",
    "                    heapq.heappush(hq, item)\n",
    "                    break\n",
    "                # 弹出的都是 资本需求小于 W的，这时候按照 profit 排序\n",
    "                heapq.heappush(poped, (item[1], item[0]))\n",
    "            if not poped:\n",
    "                break\n",
    "            new_item = heapq.heappop(poped)\n",
    "            W -= new_item[0]\n",
    "        return W"
   ]
  },
  {
   "cell_type": "code",
   "execution_count": 109,
   "metadata": {},
   "outputs": [
    {
     "data": {
      "text/plain": [
       "4"
      ]
     },
     "execution_count": 109,
     "metadata": {},
     "output_type": "execute_result"
    }
   ],
   "source": [
    "solution = Solution()\n",
    "solution.findMaximizedCapital(k=2, W=0, Profits=[1,2,3], Capital=[0,1,1])"
   ]
  },
  {
   "cell_type": "code",
   "execution_count": null,
   "metadata": {},
   "outputs": [],
   "source": [
    "hq = []\n",
    "        for i in range(len(Profits)):\n",
    "            heapq.heappush(hq, (Capital[i], -Profits[i]))"
   ]
  },
  {
   "cell_type": "code",
   "execution_count": null,
   "metadata": {},
   "outputs": [],
   "source": [
    "heapq."
   ]
  }
 ],
 "metadata": {
  "kernelspec": {
   "display_name": "Python 3",
   "language": "python",
   "name": "python3"
  },
  "language_info": {
   "codemirror_mode": {
    "name": "ipython",
    "version": 3
   },
   "file_extension": ".py",
   "mimetype": "text/x-python",
   "name": "python",
   "nbconvert_exporter": "python",
   "pygments_lexer": "ipython3",
   "version": "3.6.2"
  }
 },
 "nbformat": 4,
 "nbformat_minor": 4
}
