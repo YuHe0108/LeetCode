{
 "cells": [
  {
   "cell_type": "code",
   "execution_count": null,
   "metadata": {},
   "outputs": [],
   "source": []
  },
  {
   "cell_type": "code",
   "execution_count": null,
   "metadata": {},
   "outputs": [],
   "source": []
  },
  {
   "cell_type": "code",
   "execution_count": 40,
   "metadata": {},
   "outputs": [],
   "source": [
    "from typing import List\n",
    "\n",
    "class Solution:\n",
    "    def minDays(self, grid: List[List[int]]) -> int:\n",
    "        # 答案只可能是 0， 1， 2\n",
    "        # 题目中如果没有岛屿，或者天然就有两个岛屿，那么答案为 0\n",
    "        # 任意反转 grid 中的节点，如果翻转该节点，可以形成两个岛屿，那么答案为1\n",
    "        # 否则答案为2\n",
    "        def dfs(mat):\n",
    "            def find(x):\n",
    "                if father[x] != x:\n",
    "                    father[x] = find(father[x])\n",
    "                return father[x]\n",
    "            \n",
    "            def union(x, y):\n",
    "                x, y = find(x), find(y)\n",
    "                if x < y:\n",
    "                    father[x] = y\n",
    "                else:\n",
    "                    father[y] = x\n",
    "            \n",
    "            father = [x for x in range(rows * cols)]\n",
    "            seen = set()\n",
    "            for i in range(rows):\n",
    "                for j in range(cols):\n",
    "                    if mat[i][j] == 1 and (i, j) not in seen:\n",
    "                        start = i * cols + j\n",
    "                        seen.add((i, j))\n",
    "                        point = [(i, j)]\n",
    "                        while point:\n",
    "                            x, y = point.pop()\n",
    "                            for nx, ny in (x+1, y), (x-1, y), (x, y+1), (x, y-1):\n",
    "                                if nx < 0 or ny < 0 or nx >= rows or ny >= cols:\n",
    "                                    continue\n",
    "                                if (nx, ny) in seen or mat[nx][ny] == 0:\n",
    "                                    continue\n",
    "                                point.append((nx, ny))\n",
    "                                cur = nx * cols + ny\n",
    "                                seen.add((nx, ny))\n",
    "                                union(start, cur)\n",
    "            island = set()\n",
    "            for i in range(rows):\n",
    "                for j in range(cols):\n",
    "                    if mat[i][j] == 1:\n",
    "                        cur = i * cols + j\n",
    "                        island.add(find(cur))\n",
    "            return len(island)\n",
    "            \n",
    "                \n",
    "        rows, cols = len(grid), len(grid[0])\n",
    "        n = dfs(grid)\n",
    "        if n >= 2 or n == 0:\n",
    "            return 0 \n",
    "        for i in range(rows):\n",
    "            for j in range(cols):\n",
    "                if grid[i][j] == 1:\n",
    "                    grid[i][j] = 0\n",
    "                    n = dfs(grid)\n",
    "                    print(i, j, grid, n)\n",
    "                    if n >= 2 or n == 0:\n",
    "                        return 1\n",
    "                    grid[i][j] = 1\n",
    "        return 2"
   ]
  },
  {
   "cell_type": "code",
   "execution_count": null,
   "metadata": {},
   "outputs": [],
   "source": []
  },
  {
   "cell_type": "code",
   "execution_count": null,
   "metadata": {},
   "outputs": [],
   "source": []
  },
  {
   "cell_type": "code",
   "execution_count": 42,
   "metadata": {},
   "outputs": [],
   "source": [
    "from typing import List\n",
    "\n",
    "class Solution:\n",
    "    def minDays(self, grid: List[List[int]]) -> int:\n",
    "        # 答案只可能是 0， 1， 2\n",
    "        # 题目中如果没有岛屿，或者天然就有两个岛屿，那么答案为 0\n",
    "        # 任意反转 grid 中的节点，如果翻转该节点，可以形成两个岛屿，那么答案为1\n",
    "        # 否则答案为2\n",
    "        def dfs(mat):\n",
    "            seen = set()\n",
    "            cnt = 0\n",
    "            for i in range(rows):\n",
    "                for j in range(cols):\n",
    "                    if mat[i][j] == 1 and (i, j) not in seen:\n",
    "                        cnt += 1\n",
    "                        if cnt > 1:\n",
    "                            return cnt\n",
    "                        seen.add((i, j))\n",
    "                        point = [(i, j)]\n",
    "                        while point:\n",
    "                            x, y = point.pop()\n",
    "                            for nx, ny in (x+1, y), (x-1, y), (x, y+1), (x, y-1):\n",
    "                                if nx < 0 or ny < 0 or nx >= rows or ny >= cols:\n",
    "                                    continue\n",
    "                                if (nx, ny) in seen or mat[nx][ny] == 0:\n",
    "                                    continue\n",
    "                                point.append((nx, ny))\n",
    "                                seen.add((nx, ny))\n",
    "            return cnt\n",
    "                \n",
    "        rows, cols = len(grid), len(grid[0])\n",
    "        n = dfs(grid)\n",
    "        if n >= 2 or n == 0:\n",
    "            return 0 \n",
    "        for i in range(rows):\n",
    "            for j in range(cols):\n",
    "                if grid[i][j] == 1:\n",
    "                    grid[i][j] = 0\n",
    "                    n = dfs(grid)\n",
    "                    print(i, j, grid, n)\n",
    "                    if n >= 2 or n == 0:\n",
    "                        return 1\n",
    "                    grid[i][j] = 1\n",
    "        return 2"
   ]
  },
  {
   "cell_type": "code",
   "execution_count": 43,
   "metadata": {},
   "outputs": [
    {
     "name": "stdout",
     "output_type": "stream",
     "text": [
      "1 1 [[0, 0, 0], [0, 0, 0], [0, 0, 0]] 0\n"
     ]
    },
    {
     "data": {
      "text/plain": [
       "1"
      ]
     },
     "execution_count": 43,
     "metadata": {},
     "output_type": "execute_result"
    }
   ],
   "source": [
    "solution = Solution()\n",
    "solution.minDays([[0,0,0],[0,1,0],[0,0,0]])"
   ]
  },
  {
   "cell_type": "code",
   "execution_count": null,
   "metadata": {},
   "outputs": [],
   "source": [
    "[[1, 0, 0], \n",
    " [0, 1, 0],\n",
    " [1, 0, 0]]"
   ]
  },
  {
   "cell_type": "code",
   "execution_count": null,
   "metadata": {},
   "outputs": [],
   "source": []
  },
  {
   "cell_type": "code",
   "execution_count": null,
   "metadata": {},
   "outputs": [],
   "source": []
  },
  {
   "cell_type": "code",
   "execution_count": null,
   "metadata": {},
   "outputs": [],
   "source": [
    "class Solution:\n",
    "    def minDays(self, grid: List[List[int]]) -> int:\n",
    "        N = len(grid)\n",
    "        M = len(grid[0])\n",
    "        dfn = [[None] * M for _ in range(N)]\n",
    "        counter = 0\n",
    "        dxy = ((1, 0), (0, 1), (0, -1), (-1, 0))\n",
    "        def tarjan(x, y, parent):\n",
    "            #print(\"tarjan\", x, y, parent)\n",
    "            nonlocal counter\n",
    "            dfn[x][y] = counter\n",
    "            ans = d = counter\n",
    "            counter += 1\n",
    "            sub_count = 0\n",
    "            has_cut = False\n",
    "            for i, (dx, dy) in enumerate(dxy):\n",
    "                if i != parent and 0 <= x + dx < N and 0 <= y + dy < M and grid[x + dx][y + dy]:\n",
    "                    if dfn[x + dx][y + dy] is None:\n",
    "                        if parent is None and sub_count:\n",
    "                            has_cut = True\n",
    "                        low2, has_cut2 = tarjan(x + dx, y + dy, 3 - i)\n",
    "                        sub_count += 1\n",
    "                        has_cut = has_cut or has_cut2\n",
    "                        if parent is not None and low2 >= d:\n",
    "                            has_cut = True\n",
    "                        ans = min(ans, low2)\n",
    "                    else:\n",
    "                        ans = min(ans, dfn[x + dx][y + dy])\n",
    "            #low[x][y] = ans\n",
    "            return ans, has_cut\n",
    "        land_count = 0\n",
    "        sep_count = 0\n",
    "        has_cut = False\n",
    "        for i, r in enumerate(grid):\n",
    "            for j, c in enumerate(r):\n",
    "                if c == 1:\n",
    "                    land_count += 1\n",
    "                    if dfn[i][j] is None:\n",
    "                        if sep_count:\n",
    "                            return 0\n",
    "                        sep_count += 1\n",
    "                        _, has_cut = tarjan(i, j, None)\n",
    "                        #print(dfn)\n",
    "        if land_count == 0:\n",
    "            return 0\n",
    "        elif land_count == 1:\n",
    "            return 1\n",
    "        elif has_cut:\n",
    "            return 1\n",
    "        else:\n",
    "            return 2\n"
   ]
  }
 ],
 "metadata": {
  "kernelspec": {
   "display_name": "Python 3",
   "language": "python",
   "name": "python3"
  },
  "language_info": {
   "codemirror_mode": {
    "name": "ipython",
    "version": 3
   },
   "file_extension": ".py",
   "mimetype": "text/x-python",
   "name": "python",
   "nbconvert_exporter": "python",
   "pygments_lexer": "ipython3",
   "version": "3.6.2"
  }
 },
 "nbformat": 4,
 "nbformat_minor": 4
}
