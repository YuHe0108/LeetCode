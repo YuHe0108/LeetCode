{
 "cells": [
  {
   "cell_type": "markdown",
   "metadata": {},
   "source": [
    "    问题描述：\n",
    "        假设您有一个数组prices，第i 个元素是第i天给定股票的价格。\n",
    "        设计算法以找到最大的利润。您可以根据需要完成任意数量的交易（即，多次购买一股股票）。\n",
    "        注意：您可能不能同时进行多项交易（即，必须先出售股票才能再次购买）。\n",
    "    \n",
    "    例题1：\n",
    "        Input: [7,1,5,3,6,4]\n",
    "        Output: 7\n",
    "        Explanation: Buy on day 2 (price = 1) and sell on day 3 (price = 5), profit = 5-1 = 4.\n",
    "             Then buy on day 4 (price = 3) and sell on day 5 (price = 6), profit = 6-3 = 3."
   ]
  },
  {
   "cell_type": "code",
   "execution_count": 4,
   "metadata": {},
   "outputs": [],
   "source": [
    "class Solution:\n",
    "    def maxProfit(self, prices) -> int:\n",
    "        hold = -float('inf')\n",
    "        sold = 0\n",
    "        for price in prices:\n",
    "            hold = max(hold, sold - price)\n",
    "            sold = max(sold, hold + price)\n",
    "        return sold"
   ]
  },
  {
   "cell_type": "code",
   "execution_count": 5,
   "metadata": {},
   "outputs": [
    {
     "data": {
      "text/plain": [
       "7"
      ]
     },
     "execution_count": 5,
     "metadata": {},
     "output_type": "execute_result"
    }
   ],
   "source": [
    "prices_ = [7,1,5,3,6,4]\n",
    "solution = Solution()\n",
    "solution.maxProfit(prices_)"
   ]
  },
  {
   "cell_type": "code",
   "execution_count": null,
   "metadata": {},
   "outputs": [],
   "source": []
  }
 ],
 "metadata": {
  "kernelspec": {
   "display_name": "TF2",
   "language": "python",
   "name": "tf2"
  },
  "language_info": {
   "codemirror_mode": {
    "name": "ipython",
    "version": 3
   },
   "file_extension": ".py",
   "mimetype": "text/x-python",
   "name": "python",
   "nbconvert_exporter": "python",
   "pygments_lexer": "ipython3",
   "version": "3.6.2"
  }
 },
 "nbformat": 4,
 "nbformat_minor": 4
}
