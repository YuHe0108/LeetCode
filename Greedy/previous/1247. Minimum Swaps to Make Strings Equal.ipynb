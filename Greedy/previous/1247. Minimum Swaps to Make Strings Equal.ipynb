{
 "cells": [
  {
   "cell_type": "raw",
   "metadata": {},
   "source": [
    "问题描述：\n",
    "    您将得到两个长度相等的字符串s1和s2，仅由字母“x”和“y”组成。你的任务是使这两个字符串相等。\n",
    "    您可以交换属于不同字符串的任意两个字符，这意味着：交换s1[i]和s2[j]。\n",
    "    返回使s1和s2相等所需的最小交换数，如果不可能，则返回-1。\n",
    "\n",
    "例题1：\n",
    "    Input: s1 = \"xx\", s2 = \"yy\"\n",
    "    Output: 1\n",
    "    Explanation: \n",
    "    Swap s1[0] and s2[1], s1 = \"yx\", s2 = \"yx\".\n",
    "    \n",
    "例题2：\n",
    "    Input: s1 = \"xx\", s2 = \"xy\"\n",
    "    Output: -1\n",
    "\n",
    "例题3：\n",
    "    Input: s1 = \"xxyyxyxyxx\", s2 = \"xyyxyxxxyx\"\n",
    "    Output: 4"
   ]
  },
  {
   "cell_type": "markdown",
   "metadata": {},
   "source": [
    "#### 策略：\n",
    "    1、s1 中需要将 x换为 y 的数目 == 将 y 换为 x 的 数目，否则一定不能换\n",
    "    2、如果 x->y 的 数目为奇数，那么 要调换的次数 = (num - 1) + 1 * 2\n",
    "    最后的公式 count = (num + num % 2) + (num % 2 ) * 2"
   ]
  },
  {
   "cell_type": "code",
   "execution_count": 85,
   "metadata": {},
   "outputs": [],
   "source": [
    "from collections import Counter\n",
    "class Solution:\n",
    "    def minimumSwap(self, s1: str, s2: str) -> int:\n",
    "        \n",
    "        x_2_y = 0\n",
    "        y_2_x = 0\n",
    "        for i in range(len(s1)):\n",
    "            if s1[i] == 'x' and s2[i] == 'y':\n",
    "                x_2_y += 1\n",
    "            elif s1[i] == 'y' and s2[i] == 'x':\n",
    "                y_2_x += 1\n",
    "            else:\n",
    "                continue\n",
    "        \n",
    "        if (x_2_y + 1) % 2 == 0 and (y_2_x + 1) % 2 == 0:  \n",
    "            # 如果其中一个为奇数，另外一个一定是奇数，即：两者为奇数\n",
    "            return (x_2_y - 1) // 2 + (y_2_x - 1) // 2 + 2\n",
    "        elif (x_2_y + 1) % 2 != 0 and (y_2_x + 1) % 2 != 0:\n",
    "            # 如果其中一个为偶数，另外一个一定是偶数，即：两者为偶数\n",
    "            return (x_2_y + y_2_x) // 2\n",
    "        else:\n",
    "            # 一奇一偶一定不行\n",
    "            return -1"
   ]
  },
  {
   "cell_type": "code",
   "execution_count": 86,
   "metadata": {},
   "outputs": [
    {
     "name": "stdout",
     "output_type": "stream",
     "text": [
      "1 0\n"
     ]
    },
    {
     "data": {
      "text/plain": [
       "-1"
      ]
     },
     "execution_count": 86,
     "metadata": {},
     "output_type": "execute_result"
    }
   ],
   "source": [
    "s1_ = \"xx\"\n",
    "s2_ = \"xy\"\n",
    "solution = Solution()\n",
    "solution.minimumSwap(s1_, s2_)"
   ]
  },
  {
   "cell_type": "code",
   "execution_count": 65,
   "metadata": {},
   "outputs": [],
   "source": [
    "# s1_counter = Counter(s1)\n",
    "# s2_counter = Counter(s2)\n",
    "# x_s1_count = s1_counter['x']\n",
    "# y_s1_count = s1_counter['y']\n",
    "# x_s2_count = s2_counter['x']\n",
    "# y_s2_count = s2_counter['y']\n",
    "# if (x_s1_count + x_s2_count) % 2 != 0: return -1 # 首先统计其中 'x' 和 'y'的数目，一定要是偶数\n",
    "# print(x_s1_count, y_s1_count, x_s2_count, y_s2_count)\n",
    "\n",
    "# elif x_2_y % 2 \n",
    "# else:\n",
    "# return total // 2 + (total // 2) % 2 * 2 # 整数部分除以2就行，余数要 乘2倍"
   ]
  },
  {
   "cell_type": "code",
   "execution_count": 73,
   "metadata": {},
   "outputs": [],
   "source": [
    "        # 如果 x_2_y 或者 y_2_x 是奇数，那么他们俩一定要相同\n",
    "#         if (x_2_y % 2 != 0 or y_2_x % 2 != 0) and x_2_y != y_2_x:\n",
    "#             return -1"
   ]
  },
  {
   "cell_type": "code",
   "execution_count": null,
   "metadata": {},
   "outputs": [],
   "source": []
  }
 ],
 "metadata": {
  "kernelspec": {
   "display_name": "TF2",
   "language": "python",
   "name": "tf2"
  },
  "language_info": {
   "codemirror_mode": {
    "name": "ipython",
    "version": 3
   },
   "file_extension": ".py",
   "mimetype": "text/x-python",
   "name": "python",
   "nbconvert_exporter": "python",
   "pygments_lexer": "ipython3",
   "version": "3.6.2"
  }
 },
 "nbformat": 4,
 "nbformat_minor": 4
}
