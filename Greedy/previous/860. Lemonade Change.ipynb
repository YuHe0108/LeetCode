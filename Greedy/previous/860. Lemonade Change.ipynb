{
 "cells": [
  {
   "cell_type": "raw",
   "metadata": {},
   "source": [
    "问题描述：\n",
    "    每杯柠檬水5块钱，有客户排队，给不同大小的钱，如果正好能满足所有客户给的钱，则返回True\n",
    "    客户给的钱只可能为 5、10和20。\n",
    "例题1：\n",
    "    Input: [5,5,5,10,20]\n",
    "    Output: true\n",
    "    Explanation: \n",
    "    From the first 3 customers, we collect three $5 bills in order.\n",
    "    From the fourth customer, we collect a $10 bill and give back a $5.\n",
    "    From the fifth customer, we give a $10 bill and a $5 bill.\n",
    "    Since all customers got correct change, we output true.\n",
    "例题2：\n",
    "    Input: [10,10]\n",
    "    Output: false\n",
    "    没有零钱找还客户，False"
   ]
  },
  {
   "cell_type": "code",
   "execution_count": 38,
   "metadata": {},
   "outputs": [],
   "source": [
    "class Solution:\n",
    "    def lemonadeChange(self, bills) -> bool:\n",
    "        five_bill_count = 0\n",
    "        ten_bill_count = 0\n",
    "        for bill in bills:\n",
    "            if bill == 5:\n",
    "                five_bill_count += 1\n",
    "            \n",
    "            elif bill == 10:\n",
    "                if five_bill_count == 0:\n",
    "                    return False\n",
    "                else:\n",
    "                    ten_bill_count += 1\n",
    "                    five_bill_count -= 1\n",
    "                    \n",
    "            else: # bill = 20: 10+5, 5+5+5\n",
    "                if five_bill_count >= 3:\n",
    "                    five_bill_count -= 3\n",
    "                elif ten_bill_count >= 1 and five_bill_count >= 1:\n",
    "                    five_bill_count -= 1\n",
    "                    ten_bill_count -= 1\n",
    "                else:\n",
    "                    return False\n",
    "        return True"
   ]
  },
  {
   "cell_type": "code",
   "execution_count": 39,
   "metadata": {},
   "outputs": [
    {
     "name": "stdout",
     "output_type": "stream",
     "text": [
      "1 0\n"
     ]
    },
    {
     "data": {
      "text/plain": [
       "True"
      ]
     },
     "execution_count": 39,
     "metadata": {},
     "output_type": "execute_result"
    }
   ],
   "source": [
    "s = Solution()\n",
    "s.lemonadeChange([5,5,5,10,20])"
   ]
  },
  {
   "cell_type": "code",
   "execution_count": 29,
   "metadata": {},
   "outputs": [],
   "source": [
    "a = [1, 2, 5, 1]"
   ]
  },
  {
   "cell_type": "code",
   "execution_count": null,
   "metadata": {},
   "outputs": [],
   "source": []
  }
 ],
 "metadata": {
  "kernelspec": {
   "display_name": "TF2",
   "language": "python",
   "name": "tf2"
  },
  "language_info": {
   "codemirror_mode": {
    "name": "ipython",
    "version": 3
   },
   "file_extension": ".py",
   "mimetype": "text/x-python",
   "name": "python",
   "nbconvert_exporter": "python",
   "pygments_lexer": "ipython3",
   "version": "3.6.2"
  }
 },
 "nbformat": 4,
 "nbformat_minor": 4
}
