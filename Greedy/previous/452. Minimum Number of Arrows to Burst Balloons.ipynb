{
 "cells": [
  {
   "cell_type": "raw",
   "metadata": {},
   "source": [
    "问题描述：\n",
    "    在二维空间中散布着许多球形气球。对于每个气球，提供的输入是水平方向的开始和结束坐标。\n",
    "    由于它是水平的，因此y坐标无关紧要，因此只需要x轴方向的起点和终点坐标就足够了。\n",
    "    开始总是小于结束。最多会有10^4个气球。\n",
    "    \n",
    "    可以从沿x轴的不同点垂直垂直地向上射出一个箭头。\n",
    "    如果气球 在 start < 位置 < end 之间时。可以击破气球。\n",
    "    箭头数量没有限制。一次射出的箭头会无限上行。\n",
    "    \n",
    "    求：爆破所有气球所必须射出的最少箭头数。\n",
    "\n",
    "例题1：\n",
    "    Input: [[10,16], [2,8], [1,6], [7,12]]\n",
    "    Output: 2\n",
    "\n",
    "    Explanation:\n",
    "        One way is to shoot one arrow for example at x = 6 \n",
    "        (bursting the balloons [2,8] and [1,6]) and another arrow at x = 11 (bursting the other two balloons)."
   ]
  },
  {
   "cell_type": "code",
   "execution_count": 34,
   "metadata": {},
   "outputs": [],
   "source": [
    "class Solution:\n",
    "    def findMinArrowShots(self, points) -> int:\n",
    "        if len(points) <= 1:\n",
    "            return len(points)\n",
    "        \n",
    "        sorted_points = sorted(points, key=lambda x: x[1])\n",
    "        print(sorted_points)\n",
    "\n",
    "        shot_times = 1\n",
    "        shot_inter = [sorted_points[0][0], sorted_points[0][1]]\n",
    "        for i in range(1, len(sorted_points)):\n",
    "            if sorted_points[i][0] < shot_inter[1]:\n",
    "                shot_inter[0] = sorted_points[i][0]\n",
    "            elif sorted_points[i][0] == shot_inter[1]:\n",
    "                shot_inter[0] = sorted_points[i][0]\n",
    "                shot_inter[1] =sorted_points[i][0]\n",
    "            else:\n",
    "                shot_inter = sorted_points[i]\n",
    "                shot_times += 1\n",
    "            print(shot_inter)\n",
    "        return shot_times            "
   ]
  },
  {
   "cell_type": "code",
   "execution_count": 35,
   "metadata": {},
   "outputs": [
    {
     "name": "stdout",
     "output_type": "stream",
     "text": [
      "[[1, 6], [2, 8], [7, 12], [10, 16]]\n",
      "[2, 6]\n",
      "[7, 12]\n",
      "[10, 12]\n"
     ]
    },
    {
     "data": {
      "text/plain": [
       "2"
      ]
     },
     "execution_count": 35,
     "metadata": {},
     "output_type": "execute_result"
    }
   ],
   "source": [
    "points_ =  [[10,16], [2,8], [1,6], [7,12]]\n",
    "solution = Solution()\n",
    "solution.findMinArrowShots(points_)"
   ]
  },
  {
   "cell_type": "code",
   "execution_count": 40,
   "metadata": {},
   "outputs": [],
   "source": [
    "points_ =  [[10,16], [2,8], [1,6], [7,12]]\n",
    "sorted_points = sorted(points_, key = lambda x: (x[1], x[1] - x[0])) # Sort by left cordinate, then by width"
   ]
  },
  {
   "cell_type": "code",
   "execution_count": 41,
   "metadata": {},
   "outputs": [
    {
     "data": {
      "text/plain": [
       "[[1, 6], [2, 8], [7, 12], [10, 16]]"
      ]
     },
     "execution_count": 41,
     "metadata": {},
     "output_type": "execute_result"
    }
   ],
   "source": [
    "sorted_points"
   ]
  },
  {
   "cell_type": "code",
   "execution_count": null,
   "metadata": {},
   "outputs": [],
   "source": []
  }
 ],
 "metadata": {
  "kernelspec": {
   "display_name": "TF2",
   "language": "python",
   "name": "tf2"
  },
  "language_info": {
   "codemirror_mode": {
    "name": "ipython",
    "version": 3
   },
   "file_extension": ".py",
   "mimetype": "text/x-python",
   "name": "python",
   "nbconvert_exporter": "python",
   "pygments_lexer": "ipython3",
   "version": "3.6.2"
  }
 },
 "nbformat": 4,
 "nbformat_minor": 4
}
