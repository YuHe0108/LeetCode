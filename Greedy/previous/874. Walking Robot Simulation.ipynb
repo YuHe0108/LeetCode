{
 "cells": [
  {
   "cell_type": "raw",
   "metadata": {},
   "source": [
    "问题描述：\n",
    "    机器人路径，一个机器人在（0, 0）这个点，并且面朝北。有以下指令：\n",
    "    1、-2: 左转90度\n",
    "    2、-1: 右转90度\n",
    "    3、1 <= x <= 9: 前进x步\n",
    "    最后求机器人距离起点的直线距离的平方，即：x^2 + y^2\n",
    "    obstacles 是障碍点，则不能到达，但是仍然会执行后续的步骤。\n",
    "\n",
    "例题1：\n",
    "    Input: commands = [4,-1,3], obstacles = []\n",
    "    Output: 25\n",
    "    Explanation: robot will go to (3, 4), 3^2 + 4^2 = 25\n",
    "例题2：\n",
    "    Input: commands = [4,-1,4,-2,4], obstacles = [[2,4]]\n",
    "    Output: 65\n",
    "    Explanation: 由于存在障碍点，因此，机器人会停留在 (1, 4)这个点，之后执行 [-2, 4], 最终到达[1, 8]\n",
    "    1^2 + 8^2 = 65"
   ]
  },
  {
   "cell_type": "code",
   "execution_count": 58,
   "metadata": {},
   "outputs": [],
   "source": [
    "class Solution:\n",
    "    def robotSim(self, commands, obstacles) -> int:\n",
    "        coord = [0, 0] # 机器人的起始位置\n",
    "        direction = 0 # 1: y 轴增加的方向, 0: x轴增加方向, 2: x轴减小方向, 3: y轴减小方向\n",
    "        for com in commands:\n",
    "            if com == -1: # 右转+1\n",
    "                direction = (direction + 1) % 4\n",
    "            elif com == -2:\n",
    "                direction = (direction - 1) % 4\n",
    "            \n",
    "            else:\n",
    "                if direction == 1: # x轴增加方向\n",
    "                    key = 1\n",
    "                    for value in range(1, com + 1):\n",
    "                        x_temp = coord[0] + value\n",
    "                        if [x_temp, coord[1]] in obstacles:\n",
    "                            coord[0] = x_temp - 1\n",
    "                            key = -1\n",
    "                            break\n",
    "                    if key == 1:\n",
    "                        coord[0] += com\n",
    "                \n",
    "                elif direction == 0: # y轴增加方向,\n",
    "                    k = 1\n",
    "                    for value in range(1, com + 1):\n",
    "                        y_temp = coord[1] + value\n",
    "                        if [coord[0], y_temp] in obstacles:\n",
    "                            coord[1] = y_temp - 1\n",
    "                            k = -1\n",
    "                            break\n",
    "                    if k == 1:\n",
    "                        coord[1] += com\n",
    "                \n",
    "                elif direction == 3: # x轴减小方向,\n",
    "                    k = 1\n",
    "                    for value in range(1, com + 1):\n",
    "                        x_temp = coord[0] - value\n",
    "                        if [x_temp, coord[1]] in obstacles:\n",
    "                            coord[0] = x_temp + 1\n",
    "                            k = -1\n",
    "                            break\n",
    "                    if k == 1:\n",
    "                        coord[0] -= com\n",
    "                \n",
    "                elif direction == 2: # y轴减小方向\n",
    "                    k = 1\n",
    "                    for value in range(1, com + 1):\n",
    "                        y_temp = coord[1] - value\n",
    "                        if [coord[0], y_temp] in obstacles:\n",
    "                            coord[1] = y_temp + 1\n",
    "                            k = -1\n",
    "                            break\n",
    "                    if k == 1:\n",
    "                        coord[1] -= com\n",
    "        return pow(coord[0], 2) + pow(coord[1], 2)"
   ]
  },
  {
   "cell_type": "code",
   "execution_count": 59,
   "metadata": {},
   "outputs": [
    {
     "data": {
      "text/plain": [
       "65"
      ]
     },
     "execution_count": 59,
     "metadata": {},
     "output_type": "execute_result"
    }
   ],
   "source": [
    "commands_ = [4,- 1, 4, -2, 4]\n",
    "obstacles_ = [[2, 4]]\n",
    "solution = Solution()\n",
    "solution.robotSim(commands_, obstacles_)"
   ]
  },
  {
   "cell_type": "code",
   "execution_count": 8,
   "metadata": {},
   "outputs": [
    {
     "name": "stdout",
     "output_type": "stream",
     "text": [
      "False\n"
     ]
    }
   ],
   "source": []
  },
  {
   "cell_type": "code",
   "execution_count": 53,
   "metadata": {},
   "outputs": [
    {
     "data": {
      "text/plain": [
       "2"
      ]
     },
     "execution_count": 53,
     "metadata": {},
     "output_type": "execute_result"
    }
   ],
   "source": [
    "-2 % 4"
   ]
  },
  {
   "cell_type": "raw",
   "metadata": {},
   "source": [
    "优化版本"
   ]
  },
  {
   "cell_type": "code",
   "execution_count": 67,
   "metadata": {},
   "outputs": [],
   "source": [
    "class Solution:\n",
    "    def robotSim(self, commands, obstacles) -> int:        \n",
    "        position_offset = [(0, 1), (1, 0), (0, -1), (-1, 0)] # y增加，x增加，y减小，x减小\n",
    "        obstacles = set(map(tuple, obstacles))\n",
    "        \n",
    "        x, y, direction = 0, 0, 0\n",
    "        for com in commands:\n",
    "            if com == -2:\n",
    "                pass\n",
    "            elif com == -1:\n",
    "                pass\n",
    "            else:\n",
    "                pass\n",
    "        return pow(x, 2) + pow(y, 2)"
   ]
  },
  {
   "cell_type": "code",
   "execution_count": 68,
   "metadata": {},
   "outputs": [
    {
     "data": {
      "text/plain": [
       "0"
      ]
     },
     "execution_count": 68,
     "metadata": {},
     "output_type": "execute_result"
    }
   ],
   "source": [
    "commands_ = [4,- 1, 4, -2, 4]\n",
    "obstacles_ = [[2, 4]]\n",
    "solution = Solution()\n",
    "solution.robotSim(commands_, obstacles_)"
   ]
  },
  {
   "cell_type": "code",
   "execution_count": null,
   "metadata": {},
   "outputs": [],
   "source": []
  }
 ],
 "metadata": {
  "kernelspec": {
   "display_name": "TF2",
   "language": "python",
   "name": "tf2"
  },
  "language_info": {
   "codemirror_mode": {
    "name": "ipython",
    "version": 3
   },
   "file_extension": ".py",
   "mimetype": "text/x-python",
   "name": "python",
   "nbconvert_exporter": "python",
   "pygments_lexer": "ipython3",
   "version": "3.6.2"
  }
 },
 "nbformat": 4,
 "nbformat_minor": 4
}
