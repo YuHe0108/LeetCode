{
 "cells": [
  {
   "cell_type": "raw",
   "metadata": {},
   "source": [
    "问题描述：\n",
    "    给定该数组nums，请获取该数组的一个子序列，该子序列的元素总数严格大于该子序列中未包含元素的总数。 \n",
    "    1、如果存在多个解决方案，则返回最少元素个数的方案，\n",
    "    2、如果仍然存在多个解决方案，则返回所有答案中各元素之和最大的一组返回。\n",
    "    3、可以通过从数组中删除一些（可能为零）元素来获得数组的子序列。 \n",
    "    4、注意：具有给定约束的解决方案保证是  唯一的。\n",
    "    5、返回以非递增顺序排序的答案。\n",
    "\n",
    "例题1：\n",
    "    输入： nums = [4,3,10,9,8]\n",
    "    输出： [10,9], 10+9的和大于4+3+8元素之和。 [10, 8]之和仍然满足条件，但是[10, 9]的和大于[10, 8]的和\n"
   ]
  },
  {
   "cell_type": "code",
   "execution_count": 28,
   "metadata": {},
   "outputs": [],
   "source": [
    "class Solution:\n",
    "    def minSubsequence(self, nums):\n",
    "        if len(nums) <= 2:\n",
    "            return max(nums)\n",
    "        \n",
    "        results = []\n",
    "        need_count = 2\n",
    "        nums_sum = sum(nums)\n",
    "        while len(results) > 0:\n",
    "            for index, num in enumerate(nums):\n",
    "                pass\n",
    "            \n",
    "#             for index, num in enumerate(nums):\n",
    "#                 for i in range(index + 1, len(nums)):\n",
    "#                     temp_sum = nums[index] + nums[i]\n",
    "#                     rest_sum = nums_sum - temp_sum\n",
    "#                     if temp_sum > rest_sum:\n",
    "#                         results.extend([[nums[index], nums[i]]])\n",
    "        return results"
   ]
  },
  {
   "cell_type": "code",
   "execution_count": 29,
   "metadata": {},
   "outputs": [
    {
     "data": {
      "text/plain": [
       "[[10, 9], [10, 8]]"
      ]
     },
     "execution_count": 29,
     "metadata": {},
     "output_type": "execute_result"
    }
   ],
   "source": [
    "nums_ = [4,3,10,9,8]\n",
    "s = Solution()\n",
    "s.minSubsequence(nums_)"
   ]
  },
  {
   "cell_type": "code",
   "execution_count": null,
   "metadata": {},
   "outputs": [],
   "source": []
  },
  {
   "cell_type": "code",
   "execution_count": null,
   "metadata": {},
   "outputs": [],
   "source": []
  },
  {
   "cell_type": "code",
   "execution_count": null,
   "metadata": {},
   "outputs": [],
   "source": []
  },
  {
   "cell_type": "code",
   "execution_count": null,
   "metadata": {},
   "outputs": [],
   "source": []
  },
  {
   "cell_type": "code",
   "execution_count": 11,
   "metadata": {},
   "outputs": [
    {
     "name": "stdout",
     "output_type": "stream",
     "text": [
      "[3, 7]\n"
     ]
    }
   ],
   "source": [
    "a = [[1, 2], [3, 4]]\n",
    "print(list(map(sum, a)))"
   ]
  },
  {
   "cell_type": "code",
   "execution_count": 17,
   "metadata": {},
   "outputs": [
    {
     "data": {
      "text/plain": [
       "5"
      ]
     },
     "execution_count": 17,
     "metadata": {},
     "output_type": "execute_result"
    }
   ],
   "source": [
    "a = [1, 2, 3]\n",
    "sum([x for index, x in enumerate(a) if index != 0])"
   ]
  },
  {
   "cell_type": "code",
   "execution_count": 30,
   "metadata": {},
   "outputs": [
    {
     "name": "stdout",
     "output_type": "stream",
     "text": [
      "[1, 2, 3, 4]\n"
     ]
    }
   ],
   "source": [
    "a = [1, 2, 3, 4]\n",
    "print(sorted(a))"
   ]
  },
  {
   "cell_type": "code",
   "execution_count": 31,
   "metadata": {},
   "outputs": [],
   "source": [
    "class Solution:\n",
    "    def minSubsequence(self, nums):\n",
    "        results = []\n",
    "        nums.sort() # [1, 2, 3, 4] 正序排列\n",
    "        while sum(results) <= sum(nums):\n",
    "            results.append(nums.pop()) # 此时pop的是最大值\n",
    "        return results"
   ]
  },
  {
   "cell_type": "code",
   "execution_count": null,
   "metadata": {},
   "outputs": [],
   "source": []
  }
 ],
 "metadata": {
  "kernelspec": {
   "display_name": "TF2",
   "language": "python",
   "name": "tf2"
  },
  "language_info": {
   "codemirror_mode": {
    "name": "ipython",
    "version": 3
   },
   "file_extension": ".py",
   "mimetype": "text/x-python",
   "name": "python",
   "nbconvert_exporter": "python",
   "pygments_lexer": "ipython3",
   "version": "3.6.2"
  }
 },
 "nbformat": 4,
 "nbformat_minor": 4
}
