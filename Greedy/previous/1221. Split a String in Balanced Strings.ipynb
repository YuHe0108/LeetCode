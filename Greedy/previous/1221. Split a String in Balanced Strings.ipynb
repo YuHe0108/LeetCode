{
 "cells": [
  {
   "cell_type": "raw",
   "metadata": {},
   "source": [
    "问题描述：\n",
    "    一个字符串只有‘R’和‘L’，拆分字符串，使得子字符串‘R’和‘L’数目相同，求最多的子字符串的个数。\n",
    "例题1：\n",
    "    Input: s = \"RLRRLLRLRL\"\n",
    "    Output: 4\n",
    "    Explanation: s can be split into \"RL\", \"RRLL\", \"RL\", \"RL\", each substring contains same number of 'L' and 'R'.\n",
    "例题2：\n",
    "    Input: s = \"LLLLRRRR\"\n",
    "    Output: 1\n",
    "    Explanation: s can be split into \"LLLLRRRR\"."
   ]
  },
  {
   "cell_type": "code",
   "execution_count": 5,
   "metadata": {},
   "outputs": [],
   "source": [
    "class Solution:\n",
    "    def balancedStringSplit(self, s: str) -> int:\n",
    "        R_count = 0\n",
    "        L_count = 0\n",
    "        W_count = 0\n",
    "        for index, sub_s in enumerate(s):\n",
    "            if sub_s == 'R':\n",
    "                R_count += 1\n",
    "            else:\n",
    "                L_count += 1\n",
    "            \n",
    "            if L_count == R_count:\n",
    "                W_count += 1\n",
    "        return W_count"
   ]
  },
  {
   "cell_type": "code",
   "execution_count": 6,
   "metadata": {},
   "outputs": [
    {
     "data": {
      "text/plain": [
       "4"
      ]
     },
     "execution_count": 6,
     "metadata": {},
     "output_type": "execute_result"
    }
   ],
   "source": [
    "string_ = \"RLRRLLRLRL\"\n",
    "s = Solution()\n",
    "s.balancedStringSplit(string_)"
   ]
  },
  {
   "cell_type": "code",
   "execution_count": null,
   "metadata": {},
   "outputs": [],
   "source": []
  }
 ],
 "metadata": {
  "kernelspec": {
   "display_name": "TF2",
   "language": "python",
   "name": "tf2"
  },
  "language_info": {
   "codemirror_mode": {
    "name": "ipython",
    "version": 3
   },
   "file_extension": ".py",
   "mimetype": "text/x-python",
   "name": "python",
   "nbconvert_exporter": "python",
   "pygments_lexer": "ipython3",
   "version": "3.6.2"
  }
 },
 "nbformat": 4,
 "nbformat_minor": 4
}
