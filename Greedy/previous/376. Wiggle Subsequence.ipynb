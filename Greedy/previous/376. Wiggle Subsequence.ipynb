{
 "cells": [
  {
   "cell_type": "raw",
   "metadata": {},
   "source": [
    "摆动序列：\n",
    "    1、如果一个数字序列相邻两个数字的差值是正负交替的，则为摆动序列。\n",
    "    2、少于等于两个数字的序列为摆动序列。\n",
    "求：一个序列中满足摆动序列的最大长度\n",
    "例题1:\n",
    "    Input: [1,7,4,9,2,5], 相邻两个数字之间的差为：[6, -3, 5, -7, 3]\n",
    "    Output: 6\n",
    "例题2：\n",
    "    Input: [1,17,5,10,13,15,10,5,16,8] --> [16, -12, 5, 3, 2, -5, -5, 11, -8]\n",
    "    Output: 7\n",
    "    [1,17,10,13,10,16,8] 满足摆动序列的需求\n",
    "例题3：\n",
    "    Input: [1,2,3,4,5,6,7,8,9] --> [1, 1, 1, 1, 1]\n",
    "    Output: [2]"
   ]
  },
  {
   "cell_type": "code",
   "execution_count": 2,
   "metadata": {},
   "outputs": [],
   "source": [
    "class Solution:\n",
    "    def wiggleMaxLength(self, nums) -> int:\n",
    "        if len(nums) < 2:\n",
    "            return len(nums)\n",
    "        \n",
    "        # 先求起始序列的正负号\n",
    "        satisfied_list = []\n",
    "        index = 0\n",
    "        next_index = index + 1\n",
    "        while next_index < len(nums):\n",
    "            if nums[next_index] - nums[index] > 0:\n",
    "                past_symbol = 'p'\n",
    "                break\n",
    "            elif nums[next_index] - nums[index] < 0:\n",
    "                past_symbol = 'n'\n",
    "                break\n",
    "            else:\n",
    "                if next_index + 1 < len(nums):\n",
    "                    next_index += 1\n",
    "                else:\n",
    "                    return 0 \n",
    "        \n",
    "        satisfied_list.extend([nums[index], nums[next_index]])\n",
    "        index = next_index\n",
    "        while next_index < len(nums):\n",
    "            print(next_index, index)\n",
    "            if nums[next_index] - nums[index] > 0:\n",
    "                current_symbol = 'p'\n",
    "            elif nums[next_index] - nums[index] < 0:\n",
    "                current_symbol = 'n'\n",
    "            else:\n",
    "                next_index += 1\n",
    "                continue   \n",
    "                \n",
    "            if current_symbol != past_symbol:\n",
    "                satisfied_list.append(nums[next_index])\n",
    "                past_symbol = current_symbol\n",
    "                index = next_index\n",
    "                next_index = index + 1\n",
    "            else:\n",
    "                next_index += 1\n",
    "        print(satisfied_list)\n",
    "        return len(satisfied_list)"
   ]
  },
  {
   "cell_type": "code",
   "execution_count": 3,
   "metadata": {},
   "outputs": [
    {
     "name": "stdout",
     "output_type": "stream",
     "text": [
      "1 1\n",
      "2 1\n",
      "3 2\n",
      "4 3\n",
      "5 3\n",
      "6 3\n",
      "7 3\n",
      "8 7\n",
      "9 8\n",
      "[1, 17, 5, 10, 5, 16, 8]\n"
     ]
    },
    {
     "data": {
      "text/plain": [
       "7"
      ]
     },
     "execution_count": 3,
     "metadata": {},
     "output_type": "execute_result"
    }
   ],
   "source": [
    "solution = Solution()\n",
    "solution.wiggleMaxLength([1,17,5,10,13,15,10,5,16,8])"
   ]
  },
  {
   "cell_type": "code",
   "execution_count": null,
   "metadata": {},
   "outputs": [],
   "source": []
  },
  {
   "cell_type": "raw",
   "metadata": {},
   "source": [
    "[1,17,5,10,13,15,10,5,16,8] = \n",
    "step 1:\n",
    "    up = 1, down = 1\n",
    "step 2:\n",
    "    index = 1, nums[index] = 17, nums[index-1]=1, 17-1>0, up = down + 1 = 2\n",
    "step 3:\n",
    "    index = 2, nums[index] = 5, nums[index-1] = 17, 5-17<0, down=up+1 = 3"
   ]
  },
  {
   "cell_type": "code",
   "execution_count": 4,
   "metadata": {},
   "outputs": [],
   "source": [
    "class Solution:\n",
    "    def wiggleMaxLength(self, nums) -> int:\n",
    "        if len(nums) < 2:\n",
    "            return len(nums)\n",
    "        \n",
    "        up, down = 1, 1\n",
    "        \n",
    "        for index in range(1, len(nums)):\n",
    "            if nums[index] - nums[index - 1] > 0:\n",
    "                up = down + 1\n",
    "            if nums[index] - nums[index - 1] < 0:\n",
    "                down = up + 1\n",
    "        return max(up, down)\n",
    "            "
   ]
  },
  {
   "cell_type": "code",
   "execution_count": null,
   "metadata": {},
   "outputs": [],
   "source": []
  }
 ],
 "metadata": {
  "kernelspec": {
   "display_name": "TF2",
   "language": "python",
   "name": "tf2"
  },
  "language_info": {
   "codemirror_mode": {
    "name": "ipython",
    "version": 3
   },
   "file_extension": ".py",
   "mimetype": "text/x-python",
   "name": "python",
   "nbconvert_exporter": "python",
   "pygments_lexer": "ipython3",
   "version": "3.6.2"
  }
 },
 "nbformat": 4,
 "nbformat_minor": 4
}
