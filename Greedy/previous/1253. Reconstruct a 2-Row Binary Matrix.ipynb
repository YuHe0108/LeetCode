{
 "cells": [
  {
   "cell_type": "raw",
   "metadata": {},
   "source": [
    "问题描述：\n",
    "    给出一个包含n列2行的矩阵的以下细节：\n",
    "    1、该矩阵是一个二进制矩阵， 这意味着矩阵中的每个元素可以是0或1。\n",
    "    2、给定了两个值： upper 和 lower, 第一行的和 == upper， 第二行数字的和 == lower\n",
    "    3、第i列（索引为0）中的元素之和为colsum[i]，其中colsum作为长度为n的整数数组给出。\n",
    "    \n",
    "    求：\n",
    "        您的任务是用upper、lower和colsum重建矩阵。将其作为二维整数数组返回。\n",
    "        如果有一个以上的有效解决方案，其中任何一个都将被接受。如果不存在有效的解决方案，则返回空的二维数组。\n",
    "    \n",
    "例题1：\n",
    "    Input: upper = 2, lower = 1, colsum = [1,1,1]\n",
    "    Output: [[1,1,0],[0,0,1]]\n",
    "    Explanation: [[1,0,1],[0,1,0]], and [[0,1,1],[1,0,0]] are also correct answers.\n",
    "\n",
    "例题2：\n",
    "    Input: upper = 2, lower = 3, colsum = [2,2,1,1]\n",
    "    Output: []\n",
    "\n",
    "例题3：\n",
    "    Input: upper = 5, lower = 5, colsum = [2,1,2,0,1,0,1,2,0,1]\n",
    "    Output: [[1,1,1,0,1,0,0,1,0,0],[1,0,1,0,0,0,1,1,0,1]]"
   ]
  },
  {
   "cell_type": "code",
   "execution_count": 35,
   "metadata": {},
   "outputs": [],
   "source": [
    "class Solution:\n",
    "    def reconstructMatrix(self, upper, lower, colsum):\n",
    "        upp_row = [-1] * len(colsum)\n",
    "        low_row = [-1]  * len(colsum)\n",
    "        \n",
    "        \n",
    "        for i in range(len(colsum)):\n",
    "            col_val = colsum[i]\n",
    "            if col_val == 2 and upper > 0 and lower > 0:\n",
    "                upp_row[i] = 1\n",
    "                low_row[i] = 1\n",
    "                upper -= 1\n",
    "                lower -= 1\n",
    "            elif col_val == 0:\n",
    "                upp_row[i] = 0\n",
    "                low_row[i] = 0\n",
    "        \n",
    "        for i in range(len(colsum)):\n",
    "            if upper > 0 and colsum[i] == 1:\n",
    "                upp_row[i] = 1\n",
    "                low_row[i] = 0\n",
    "                upper -= 1\n",
    "            elif lower > 0 and colsum[i] == 1:\n",
    "                upp_row[i] = 0\n",
    "                low_row[i] = 1\n",
    "                lower -= 1\n",
    "            \n",
    "        if -1 in upp_row or -1 in low_row or upper != 0 or lower != 0: \n",
    "            return -1\n",
    "        else:\n",
    "            return [upp_row, low_row]"
   ]
  },
  {
   "cell_type": "code",
   "execution_count": 36,
   "metadata": {},
   "outputs": [
    {
     "data": {
      "text/plain": [
       "-1"
      ]
     },
     "execution_count": 36,
     "metadata": {},
     "output_type": "execute_result"
    }
   ],
   "source": [
    "upper_ = 4\n",
    "lower_ = 7\n",
    "colsum_ = [2,1,2,2,1,1,1]\n",
    "solution = Solution()\n",
    "solution.reconstructMatrix(upper_, lower_, colsum_)"
   ]
  },
  {
   "cell_type": "code",
   "execution_count": null,
   "metadata": {},
   "outputs": [],
   "source": [
    "# [[1,1,1,0,1,0,0,1,0,0],[1,0,1,0,0,0,1,1,0,1]]"
   ]
  }
 ],
 "metadata": {
  "kernelspec": {
   "display_name": "TF2",
   "language": "python",
   "name": "tf2"
  },
  "language_info": {
   "codemirror_mode": {
    "name": "ipython",
    "version": 3
   },
   "file_extension": ".py",
   "mimetype": "text/x-python",
   "name": "python",
   "nbconvert_exporter": "python",
   "pygments_lexer": "ipython3",
   "version": "3.6.2"
  }
 },
 "nbformat": 4,
 "nbformat_minor": 4
}
