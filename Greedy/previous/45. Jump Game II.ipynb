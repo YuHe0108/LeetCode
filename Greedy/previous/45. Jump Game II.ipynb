{
 "cells": [
  {
   "cell_type": "raw",
   "metadata": {},
   "source": [
    "问题描述：\n",
    "    给定一个非负整数数组，您最初位于该数组的第一个索引处。\n",
    "    数组中的每个元素代表该位置的最大跳转长度。\n",
    "    您的目标是在最少的跳数中达到最后的索引。\n",
    " \n",
    "例题1：\n",
    "    输入： [2,3,1,1,4]\n",
    "    输出： 2\n",
    "    说明：到达最后一个索引的最小跳转数为2。\n",
    "    从索引0到1跳1步，然后跳3步到最后一个索引。"
   ]
  },
  {
   "cell_type": "code",
   "execution_count": 13,
   "metadata": {},
   "outputs": [],
   "source": [
    "class Solution:\n",
    "    def jump(self, nums) -> int:\n",
    "        nums_len = len(nums)\n",
    "        last_index = nums_len - 1\n",
    "        cur_coverage, last_jump_index = 0, 0\n",
    "        times_of_jump = 0\n",
    "        \n",
    "        if nums_len == 1:\n",
    "            return 0\n",
    "        for i in range(nums_len):\n",
    "            cur_coverage = max(cur_coverage, i + nums[i])\n",
    "            if i == last_jump_index:\n",
    "                last_jump_index = cur_coverage\n",
    "                times_of_jump += 1\n",
    "                \n",
    "                if cur_coverage >= last_index:\n",
    "                    return times_of_jump\n",
    "        return times_of_jump"
   ]
  },
  {
   "cell_type": "code",
   "execution_count": 14,
   "metadata": {},
   "outputs": [
    {
     "data": {
      "text/plain": [
       "2"
      ]
     },
     "execution_count": 14,
     "metadata": {},
     "output_type": "execute_result"
    }
   ],
   "source": [
    "nums_ = [2, 3, 1, 1, 4]\n",
    "solution = Solution()\n",
    "solution.jump(nums_)"
   ]
  },
  {
   "cell_type": "code",
   "execution_count": 21,
   "metadata": {},
   "outputs": [],
   "source": [
    "class Solution:\n",
    "    def jump(self, nums) -> int:\n",
    "        if nums is None or len(nums) == 0:\n",
    "            return 0\n",
    "        cost = 0\n",
    "        left = 0\n",
    "        right = 0\n",
    "        for i in range(len(nums) - 1):\n",
    "            right = max(right, nums[i] + i)\n",
    "            if i == left:\n",
    "                left = right\n",
    "                cost += 1\n",
    "        return cost"
   ]
  },
  {
   "cell_type": "code",
   "execution_count": 22,
   "metadata": {},
   "outputs": [
    {
     "name": "stdout",
     "output_type": "stream",
     "text": [
      "0\n",
      "2\n"
     ]
    },
    {
     "data": {
      "text/plain": [
       "2"
      ]
     },
     "execution_count": 22,
     "metadata": {},
     "output_type": "execute_result"
    }
   ],
   "source": [
    "nums_ = [2, 3, 1, 1, 4]\n",
    "solution = Solution()\n",
    "solution.jump(nums_)"
   ]
  },
  {
   "cell_type": "code",
   "execution_count": null,
   "metadata": {},
   "outputs": [],
   "source": []
  }
 ],
 "metadata": {
  "kernelspec": {
   "display_name": "TF2",
   "language": "python",
   "name": "tf2"
  },
  "language_info": {
   "codemirror_mode": {
    "name": "ipython",
    "version": 3
   },
   "file_extension": ".py",
   "mimetype": "text/x-python",
   "name": "python",
   "nbconvert_exporter": "python",
   "pygments_lexer": "ipython3",
   "version": "3.6.2"
  }
 },
 "nbformat": 4,
 "nbformat_minor": 4
}
