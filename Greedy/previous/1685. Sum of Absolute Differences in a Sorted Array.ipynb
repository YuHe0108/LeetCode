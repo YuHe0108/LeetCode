{
 "cells": [
  {
   "cell_type": "code",
   "execution_count": null,
   "metadata": {},
   "outputs": [],
   "source": []
  },
  {
   "cell_type": "markdown",
   "metadata": {},
   "source": [
    "<img src='1685.png'>"
   ]
  },
  {
   "cell_type": "code",
   "execution_count": 25,
   "metadata": {},
   "outputs": [],
   "source": [
    "class Solution:\n",
    "    def getSumAbsoluteDifferences(self, nums):\n",
    "        n = len(nums)\n",
    "        presum = [0]\n",
    "        for i in range(n):\n",
    "            presum.append(presum[-1] + nums[i])\n",
    "        \n",
    "        res = [-1] * n\n",
    "        for i in range(n):\n",
    "            val = (i + 1) * nums[i] - presum[i+1] + presum[-1] - presum[i+1] - (n - i - 1) * nums[i]\n",
    "            res[i] = val\n",
    "        return res"
   ]
  },
  {
   "cell_type": "code",
   "execution_count": 26,
   "metadata": {},
   "outputs": [
    {
     "name": "stdout",
     "output_type": "stream",
     "text": [
      "1 1 1 28 4\n",
      "2 4 5 24 3\n",
      "3 6 11 18 2\n",
      "4 8 19 10 1\n",
      "5 10 29 0 0\n"
     ]
    },
    {
     "data": {
      "text/plain": [
       "[24, 15, 13, 15, 21]"
      ]
     },
     "execution_count": 26,
     "metadata": {},
     "output_type": "execute_result"
    }
   ],
   "source": [
    "solution = Solution()\n",
    "solution.getSumAbsoluteDifferences([1,4,6,8,10])"
   ]
  },
  {
   "cell_type": "code",
   "execution_count": null,
   "metadata": {},
   "outputs": [],
   "source": []
  }
 ],
 "metadata": {
  "kernelspec": {
   "display_name": "Python 3",
   "language": "python",
   "name": "python3"
  },
  "language_info": {
   "codemirror_mode": {
    "name": "ipython",
    "version": 3
   },
   "file_extension": ".py",
   "mimetype": "text/x-python",
   "name": "python",
   "nbconvert_exporter": "python",
   "pygments_lexer": "ipython3",
   "version": "3.6.2"
  }
 },
 "nbformat": 4,
 "nbformat_minor": 4
}
