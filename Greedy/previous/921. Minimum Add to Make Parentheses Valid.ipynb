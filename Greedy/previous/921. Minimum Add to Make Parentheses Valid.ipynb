{
 "cells": [
  {
   "cell_type": "markdown",
   "metadata": {},
   "source": [
    "    问题描述：\n",
    "        给定一个字符串S带'('和的字符串  ')'，我们加上最小数量的括号（'('或')'，在任何位置），以便得到的括号字符串有效。\n",
    "        形式上，括号字符串在以下情况下才有效：\n",
    "        它是空字符串，或者\n",
    "        它可以写为AB （A与串联B），其中A和B是有效字符串，或者\n",
    "        它可以写为(A)，其中A是有效字符串。\n",
    "        给定一个括号字符串，返回最小括号数，我们必须添加该括号以使结果字符串有效。\n",
    "    \n",
    "$\\color{green}{例题1}$\n",
    "Input: \"()))((\"，\n",
    "Output: 4\n",
    "    \n",
    "    例题2：\n",
    "        Input: \"()\"\n",
    "        Output: 0\n",
    "     \n",
    "     例题3:\n",
    "        Input: \"(((\"\n",
    "        Output: 3\n",
    "     "
   ]
  },
  {
   "cell_type": "code",
   "execution_count": 20,
   "metadata": {},
   "outputs": [],
   "source": [
    "class Solution:\n",
    "    def minAddToMakeValid(self, S: str) -> int:\n",
    "        left_count = 0\n",
    "        valid_count = 0\n",
    "        for s in S:\n",
    "            if s == '(':\n",
    "                left_count += 1\n",
    "            elif s == ')' and left_count != 0:\n",
    "                left_count -= 1\n",
    "                valid_count += 1\n",
    "        return len(S) - valid_count * 2"
   ]
  },
  {
   "cell_type": "code",
   "execution_count": 23,
   "metadata": {},
   "outputs": [
    {
     "data": {
      "text/plain": [
       "1"
      ]
     },
     "execution_count": 23,
     "metadata": {},
     "output_type": "execute_result"
    }
   ],
   "source": [
    "S_ = \")\"\n",
    "solution = Solution()\n",
    "solution.minAddToMakeValid(S_)"
   ]
  },
  {
   "cell_type": "code",
   "execution_count": null,
   "metadata": {},
   "outputs": [],
   "source": []
  }
 ],
 "metadata": {
  "kernelspec": {
   "display_name": "TF2",
   "language": "python",
   "name": "tf2"
  },
  "language_info": {
   "codemirror_mode": {
    "name": "ipython",
    "version": 3
   },
   "file_extension": ".py",
   "mimetype": "text/x-python",
   "name": "python",
   "nbconvert_exporter": "python",
   "pygments_lexer": "ipython3",
   "version": "3.6.2"
  }
 },
 "nbformat": 4,
 "nbformat_minor": 4
}
