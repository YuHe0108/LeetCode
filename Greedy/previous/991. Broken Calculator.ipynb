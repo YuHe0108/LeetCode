{
 "cells": [
  {
   "cell_type": "raw",
   "metadata": {},
   "source": [
    "    问题描述：\n",
    "        在显示有数字的破损计算器上，我们可以执行两个操作：\n",
    "\n",
    "        1、双倍：将显示屏上的数字乘以2\n",
    "        2、减：从显示屏上的数字减去1。\n",
    "\n",
    "    求：返回显示数字所需的最小操作数Y。\n",
    "    \n",
    "    例题1：\n",
    "        Input: X = 2, Y = 3\n",
    "        Output: 2\n",
    "        Explanation: Use double operation and then decrement operation {2 -> 4 -> 3}.\n",
    "     \n",
    "    例题2：\n",
    "        Input: X = 5, Y = 8\n",
    "        Output: 2\n",
    "        Explanation: Use decrement and then double {5 -> 4 -> 8}."
   ]
  },
  {
   "cell_type": "markdown",
   "metadata": {},
   "source": [
    "#### 1、初步计划: 保留每一步乘法和减法操作产生的值\n",
    "    (1) 如果加号和乘号 出现的数字是相同的，则合并一个\n",
    "    (2) 乘法之后一定要比没乘之前接近 目标数字，否则抛弃"
   ]
  },
  {
   "cell_type": "code",
   "execution_count": 3,
   "metadata": {},
   "outputs": [],
   "source": [
    "class Solution:\n",
    "    def brokenCalc(self, X: int, Y: int) -> int:\n",
    "        if Y <= X: return X-Y\n",
    "\n",
    "        count = 0\n",
    "        # 首先采取乘法，接近 Y 的值\n",
    "        N = 1\n",
    "        while X*2**N < Y:\n",
    "            N += 1\n",
    "        count += N # 做了多少次乘法\n",
    "        remain = (X*2**N) - Y # 距离Ｙ值，乘２之后过大，采用减法\n",
    "        print(count, remain)\n",
    "\n",
    "        # 乘法之后的数字，大于 Y, 比如输入 ： 3，8， 首先会乘法到 12，余：4\n",
    "        # 2 ** N 是最后一次做的乘法操作\n",
    "        while N >= 0:\n",
    "            count += remain // (2**N)\n",
    "            remain %= (2**N)\n",
    "            N -= 1\n",
    "        return count"
   ]
  },
  {
   "cell_type": "code",
   "execution_count": 13,
   "metadata": {},
   "outputs": [],
   "source": [
    "class Solution:\n",
    "    def brokenCalc(self, X: int, Y: int) -> int:\n",
    "        res = 0\n",
    "        while X < Y:\n",
    "            res += Y % 2 + 1\n",
    "            Y = (Y + 1) // 2\n",
    "        print(res, X, Y)\n",
    "        return res + X - Y"
   ]
  },
  {
   "cell_type": "code",
   "execution_count": 35,
   "metadata": {},
   "outputs": [],
   "source": [
    "class Solution:\n",
    "    def brokenCalc(self, X, Y):\n",
    "        multiple = 1\n",
    "        res = 0\n",
    "        while X * multiple < Y:\n",
    "            multiple *= 2\n",
    "            res += 1\n",
    "        diff = X * multiple - Y\n",
    "        # X * 2 = 14\n",
    "        while diff:\n",
    "            res += diff // multiple\n",
    "            diff -= diff // multiple * multiple\n",
    "            multiple /= 2\n",
    "        return res"
   ]
  },
  {
   "cell_type": "code",
   "execution_count": 36,
   "metadata": {},
   "outputs": [
    {
     "name": "stdout",
     "output_type": "stream",
     "text": [
      "2\n"
     ]
    },
    {
     "data": {
      "text/plain": [
       "4"
      ]
     },
     "execution_count": 36,
     "metadata": {},
     "output_type": "execute_result"
    }
   ],
   "source": [
    "X_ = 7\n",
    "Y_ = 8\n",
    "solution = Solution()\n",
    "solution.brokenCalc(X_, Y_)"
   ]
  },
  {
   "cell_type": "code",
   "execution_count": 12,
   "metadata": {},
   "outputs": [
    {
     "name": "stdout",
     "output_type": "stream",
     "text": [
      "0\n"
     ]
    }
   ],
   "source": [
    "print(8 % 2)"
   ]
  },
  {
   "cell_type": "code",
   "execution_count": null,
   "metadata": {},
   "outputs": [],
   "source": []
  }
 ],
 "metadata": {
  "kernelspec": {
   "display_name": "TF2",
   "language": "python",
   "name": "tf2"
  },
  "language_info": {
   "codemirror_mode": {
    "name": "ipython",
    "version": 3
   },
   "file_extension": ".py",
   "mimetype": "text/x-python",
   "name": "python",
   "nbconvert_exporter": "python",
   "pygments_lexer": "ipython3",
   "version": "3.6.2"
  }
 },
 "nbformat": 4,
 "nbformat_minor": 4
}
