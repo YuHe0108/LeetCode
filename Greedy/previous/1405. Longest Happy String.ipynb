{
 "cells": [
  {
   "cell_type": "raw",
   "metadata": {},
   "source": [
    "    条件：\n",
    "        1、只能包含‘a’、‘b’和‘c’三个字符，并且每个字符不能连续出现三次\n",
    "        2、给定 a、b、c三个整数值，表示在字符 ’s‘中最多使用 ’a‘、’b'、‘c’字符的次数\n",
    "        3、如果不满足条件，返回 ‘’\n",
    "例题1：\n",
    "    Input: a = 1, b = 1, c = 7\n",
    "    Output: \"ccaccbcc\"\n",
    "    Explanation: \"ccbccacc\" would also be a correct answer.\n",
    "\n",
    "例题2：\n",
    "    Input: a = 2, b = 2, c = 1\n",
    "    Output: \"aabbc\"\n",
    "\n",
    "例题3：\n",
    "    Input: a = 7, b = 1, c = 0\n",
    "    Output: \"aabaa\"\n",
    "    Explanation: It's the only correct answer in this case.\n",
    "\n",
    "策略：\n",
    "    1、优先使用 次数更多的 字符                                                                                                             2、最多的使用次数达到了两次 使用最少次数的字符重复 1-2步。"
   ]
  },
  {
   "cell_type": "code",
   "execution_count": 129,
   "metadata": {},
   "outputs": [],
   "source": [
    "class Solution:\n",
    "    def longestDiverseString(self, a: int, b: int, c: int) -> str:\n",
    "        res = [''] * (a + b + c) # 字符串最大的长度 = a + b + c\n",
    "        max_let_count = 0 \n",
    "        dict_let = {'a': a, 'b': b, 'c': c}\n",
    "        i = 0\n",
    "        while i < (a + b + c):\n",
    "            sorted_dict_let = sorted(dict_let.items(), key = lambda x: -x[1])\n",
    "            max_let_val = sorted_dict_let[0][1]\n",
    "            min_let_val = sorted_dict_let[-1][1]\n",
    "            max_let = sorted_dict_let[0][0]\n",
    "            min_let = sorted_dict_let[-1][0]\n",
    "            if min_let_val == 0 and len(dict_let) > 0:\n",
    "                del dict_let[sorted_dict_let[-1][0]]\n",
    "                continue\n",
    "            elif min_let_val == res[-1] and res[-1] == res[-2]:\n",
    "                break\n",
    "            if len(dict_let) == 0: break\n",
    "            \n",
    "            if max_let_count < 2 and max_let_val > 0:\n",
    "                dict_let[max_let] -= 1\n",
    "                max_let_count += 1\n",
    "                res[i] = (max_let)\n",
    "                i += 1\n",
    "            elif min_let_val > 0 and len(dict_let) > 1:\n",
    "                dict_let[min_let] -= 1\n",
    "                max_let_count = 0\n",
    "                res[i] = (min_let)\n",
    "                i += 1\n",
    "            else:\n",
    "                break\n",
    "        return ''.join(res)"
   ]
  },
  {
   "cell_type": "code",
   "execution_count": 218,
   "metadata": {},
   "outputs": [],
   "source": [
    "class Solution:\n",
    "    def longestDiverseString(self, a: int, b: int, c: int) -> str:\n",
    "        res = [''] * (a + b + c + 1) # 字符串最大的长度 = a + b + c\n",
    "        res[0] = -1\n",
    "        count = 0\n",
    "        dict_let = {'a': a, 'b': b, 'c': c}\n",
    "        for i in range(1, a + b + c + 1):\n",
    "            # 去除 value 为 0的 item\n",
    "            if  'a' in dict_let and dict_let['a'] == 0: dict_let.pop('a')\n",
    "            elif 'b' in dict_let and dict_let['b'] == 0: dict_let.pop('b')\n",
    "            elif 'c' in dict_let and dict_let['c']== 0: dict_let.pop('c')\n",
    "            elif len(dict_let) == 0: break\n",
    "            sorted_dict_let = sorted(dict_let.items(), key = lambda x: -x[1])\n",
    "\n",
    "            max_let = sorted_dict_let[0][0] # 数目最多的字符\n",
    "            min_let = sorted_dict_let[-1][0] # 数目最少的字符\n",
    "            if count < 2 and min_let != max_let:\n",
    "                res[i] = max_let\n",
    "                dict_let[max_let] -= 1\n",
    "                count += 1 \n",
    "            elif min_let != res[i - 1] and min_let != max_let: \n",
    "                # 只有当数目多的字符使用次数达到2时，才使用较少的字符\n",
    "                res[i]= min_let\n",
    "                dict_let[min_let] -= 1\n",
    "                count = 0\n",
    "            elif count == 2 and min_let == res[i - 1] and min_let != max_let:\n",
    "                res[i] = max_let\n",
    "                dict_let[max_let] -= 1\n",
    "                count = 0\n",
    "            elif min_let == max_let:\n",
    "                if max_let != res[i - 1]:\n",
    "                    print(max_let, res[i-1])\n",
    "                    dict_let[max_let] -= 1\n",
    "                    res[i] = max_let\n",
    "                else:\n",
    "                    dict_let[min_let] -= 1\n",
    "                    res[i] = min_let\n",
    "        return ''.join(res[1:])"
   ]
  },
  {
   "cell_type": "code",
   "execution_count": 219,
   "metadata": {},
   "outputs": [
    {
     "name": "stdout",
     "output_type": "stream",
     "text": [
      "a b\n"
     ]
    },
    {
     "data": {
      "text/plain": [
       "'aabaaaaa'"
      ]
     },
     "execution_count": 219,
     "metadata": {},
     "output_type": "execute_result"
    }
   ],
   "source": [
    "a_ = 7\n",
    "b_ = 1\n",
    "c_ = 0\n",
    "solution = Solution()\n",
    "solution.longestDiverseString(a_, b_, c_)"
   ]
  },
  {
   "cell_type": "code",
   "execution_count": null,
   "metadata": {},
   "outputs": [],
   "source": [
    "class Solution:\n",
    "    def longestDiverseString(self, a: int, b: int, c: int) -> str:\n",
    "        res = [''] * (a + b + c) # 字符串最大的长度 = a + b + c\n",
    "        return ''.join(res)"
   ]
  },
  {
   "cell_type": "code",
   "execution_count": 174,
   "metadata": {},
   "outputs": [
    {
     "data": {
      "text/plain": [
       "'aabaaaa'"
      ]
     },
     "execution_count": 174,
     "metadata": {},
     "output_type": "execute_result"
    }
   ],
   "source": [
    "a_ = 7\n",
    "b_ = 1\n",
    "c_ = 0\n",
    "solution = Solution()\n",
    "solution.longestDiverseString(a_, b_, c_)"
   ]
  },
  {
   "cell_type": "code",
   "execution_count": 134,
   "metadata": {},
   "outputs": [
    {
     "data": {
      "text/plain": [
       "3"
      ]
     },
     "execution_count": 134,
     "metadata": {},
     "output_type": "execute_result"
    }
   ],
   "source": [
    "max([1, 2, 3])"
   ]
  },
  {
   "cell_type": "code",
   "execution_count": 36,
   "metadata": {},
   "outputs": [],
   "source": [
    "from collections import Counter\n",
    "a = [1, 2, 3]\n",
    "a_counter = Counter(a)"
   ]
  },
  {
   "cell_type": "code",
   "execution_count": 37,
   "metadata": {},
   "outputs": [
    {
     "data": {
      "text/plain": [
       "Counter({1: 1, 2: 1, 3: 1})"
      ]
     },
     "execution_count": 37,
     "metadata": {},
     "output_type": "execute_result"
    }
   ],
   "source": [
    "a_counter"
   ]
  },
  {
   "cell_type": "code",
   "execution_count": 65,
   "metadata": {},
   "outputs": [],
   "source": [
    "dict_a = {'a': 1, 'b': 3}\n",
    "new_dict = sorted(dict_a.items(), key = lambda x: -x[1])"
   ]
  },
  {
   "cell_type": "code",
   "execution_count": 66,
   "metadata": {},
   "outputs": [
    {
     "data": {
      "text/plain": [
       "[('b', 3), ('a', 1)]"
      ]
     },
     "execution_count": 66,
     "metadata": {},
     "output_type": "execute_result"
    }
   ],
   "source": [
    "list(new_dict)"
   ]
  },
  {
   "cell_type": "code",
   "execution_count": null,
   "metadata": {},
   "outputs": [],
   "source": []
  },
  {
   "cell_type": "code",
   "execution_count": 110,
   "metadata": {},
   "outputs": [],
   "source": [
    "#  a_count = 0\n",
    "#         b_count = 0\n",
    "#         c_count = 0\n",
    "#         for i in range(a + b + c):\n",
    "#             if max([a, b, c]) == a and a_count < 2 and a > 0:\n",
    "#                 res.append('a')\n",
    "#                 a_count += 1\n",
    "#                 b_count = 0\n",
    "#                 c_count = 0\n",
    "#                 a -= 1\n",
    "#             elif max([a, b, c]) == b and b_count < 2 and b > 0:\n",
    "#                 res.append('b')\n",
    "#                 b_count += 1\n",
    "#                 a_count = 0\n",
    "#                 c_count = 0\n",
    "#                 b -= 1\n",
    "#             elif max([a, b, c]) == c and c_count < 2 and c > 0:\n",
    "#                 res.append('c')\n",
    "#                 c_count += 1\n",
    "#                 a_count = 0\n",
    "#                 b_count = 0\n",
    "#                 c -= 1"
   ]
  },
  {
   "cell_type": "code",
   "execution_count": 121,
   "metadata": {},
   "outputs": [
    {
     "name": "stdout",
     "output_type": "stream",
     "text": [
      "['', '']\n"
     ]
    }
   ],
   "source": [
    "a = [''] *2\n",
    "print(a)\n",
    "a[0] = 'b'\n",
    "s = ''.join(a)"
   ]
  },
  {
   "cell_type": "code",
   "execution_count": 122,
   "metadata": {},
   "outputs": [
    {
     "data": {
      "text/plain": [
       "'b'"
      ]
     },
     "execution_count": 122,
     "metadata": {},
     "output_type": "execute_result"
    }
   ],
   "source": [
    "s"
   ]
  },
  {
   "cell_type": "code",
   "execution_count": 113,
   "metadata": {},
   "outputs": [
    {
     "data": {
      "text/plain": [
       "['a']"
      ]
     },
     "execution_count": 113,
     "metadata": {},
     "output_type": "execute_result"
    }
   ],
   "source": []
  },
  {
   "cell_type": "code",
   "execution_count": 27,
   "metadata": {},
   "outputs": [
    {
     "data": {
      "text/plain": [
       "1"
      ]
     },
     "execution_count": 27,
     "metadata": {},
     "output_type": "execute_result"
    }
   ],
   "source": [
    "dict_a = {'a': 1, 'b': 3}\n",
    "dict_a.pop('a')"
   ]
  },
  {
   "cell_type": "code",
   "execution_count": 7,
   "metadata": {},
   "outputs": [
    {
     "data": {
      "text/plain": [
       "('b', 3)"
      ]
     },
     "execution_count": 7,
     "metadata": {},
     "output_type": "execute_result"
    }
   ],
   "source": []
  },
  {
   "cell_type": "code",
   "execution_count": 275,
   "metadata": {},
   "outputs": [],
   "source": [
    "class Solution:\n",
    "    def longestDiverseString(self, a: int, b: int, c: int) -> str:\n",
    "\n",
    "        res = [''] * (a + b + c) # 字符串最大的长度 = a + b + c\n",
    "        count = 0\n",
    "        dict_let = {'a': a, 'b': b, 'c': c}\n",
    "        last_count = 0\n",
    "        for i in range(a + b + c):\n",
    "            # 去除 value 为 0的 item\n",
    "            if  'a' in dict_let and dict_let['a'] == 0: dict_let.pop('a')\n",
    "            if 'b' in dict_let and dict_let['b'] == 0: dict_let.pop('b')\n",
    "            if 'c' in dict_let and dict_let['c']== 0: dict_let.pop('c')\n",
    "            if len(dict_let) == 0: break\n",
    "            sorted_dict_let = sorted(dict_let.items(), key = lambda x: -x[1])\n",
    "\n",
    "            max_let = sorted_dict_let[0][0] # 数目最多的字符\n",
    "            min_let = sorted_dict_let[-1][0] # 数目最少的字符\n",
    "            if count < 2 and max_let != min_let:\n",
    "                print(1, max_let, min_let)\n",
    "                res[i] = max_let\n",
    "                dict_let[max_let] -= 1\n",
    "                count += 1 \n",
    "            elif min_let != res[i - 1] and len(dict_let) > 1: \n",
    "                print(2)\n",
    "                # 只有当数目多的字符使用次数达到2时，才使用较少的字符\n",
    "                res[i]= min_let\n",
    "                dict_let[min_let] -= 1\n",
    "                count = 0\n",
    "            elif  min_let == res[i - 1] and len(dict_let) > 1:\n",
    "                print(3)\n",
    "                # 相同数量的字符出现\n",
    "                res[i] = max_let\n",
    "                dict_let[max_let] -= 1\n",
    "                count = 0\n",
    "            elif len(dict_let) == 1 and last_count < 2:\n",
    "                print(4)\n",
    "                res[i] = max_let\n",
    "                dict_let[max_let] -= 1\n",
    "                last_count += 1\n",
    "        return ''.join(res)"
   ]
  },
  {
   "cell_type": "code",
   "execution_count": 276,
   "metadata": {},
   "outputs": [
    {
     "name": "stdout",
     "output_type": "stream",
     "text": [
      "4\n",
      "4\n"
     ]
    },
    {
     "data": {
      "text/plain": [
       "'aa'"
      ]
     },
     "execution_count": 276,
     "metadata": {},
     "output_type": "execute_result"
    }
   ],
   "source": [
    "a_ = 5\n",
    "b_ = 0\n",
    "c_ = 0\n",
    "solution = Solution()\n",
    "solution.longestDiverseString(a_, b_, c_)"
   ]
  },
  {
   "cell_type": "code",
   "execution_count": null,
   "metadata": {},
   "outputs": [],
   "source": []
  }
 ],
 "metadata": {
  "kernelspec": {
   "display_name": "TF2",
   "language": "python",
   "name": "tf2"
  },
  "language_info": {
   "codemirror_mode": {
    "name": "ipython",
    "version": 3
   },
   "file_extension": ".py",
   "mimetype": "text/x-python",
   "name": "python",
   "nbconvert_exporter": "python",
   "pygments_lexer": "ipython3",
   "version": "3.6.2"
  }
 },
 "nbformat": 4,
 "nbformat_minor": 4
}
