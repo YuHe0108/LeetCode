{
 "cells": [
  {
   "cell_type": "raw",
   "metadata": {},
   "source": [
    "问题描述：\n",
    "    给定一个列表，列表中的元素都是字符串，求删除所有元素的第几个字母，剩余的每一行字符串都是逆序排列的。\n",
    "    求删除多个列后，剩余字符串按列是逆序排列的。\n",
    "\n",
    "例题1：\n",
    "    Input: A = [\"cba\",\"daf\",\"ghi\"]\n",
    "    Output: 1  删除所有字符串的index=1的字母。\n",
    "    Explanation: \n",
    "    After choosing D = {1}, each column [\"c\",\"d\",\"g\"] and [\"a\",\"f\",\"i\"] are in non-decreasing sorted order.\n",
    "    If we chose D = {}, then a column [\"b\",\"a\",\"h\"] would not be in non-decreasing sorted order.\n",
    "\n",
    "例题2：\n",
    "    Input: A = [\"a\",\"b\"]\n",
    "    Output: 0\n",
    "    Explanation: D = {}\n",
    "\n",
    "例题3：\n",
    "    Input: A = [\"zyx\",\"wvu\",\"tsr\"]\n",
    "    Output: 3\n",
    "    Explanation: D = {0, 1, 2}"
   ]
  },
  {
   "cell_type": "code",
   "execution_count": 24,
   "metadata": {},
   "outputs": [],
   "source": [
    "class Solution:\n",
    "    def minDeletionSize(self, A) -> int:\n",
    "        zipped = list(map(list, zip(*A))) # 将A中的字符转换为单个参数的形式\n",
    "        count = 0\n",
    "        for item in zipped:\n",
    "            if item != sorted(item):\n",
    "                count += 1\n",
    "        return count"
   ]
  },
  {
   "cell_type": "code",
   "execution_count": 25,
   "metadata": {},
   "outputs": [
    {
     "data": {
      "text/plain": [
       "1"
      ]
     },
     "execution_count": 25,
     "metadata": {},
     "output_type": "execute_result"
    }
   ],
   "source": [
    "A_ = [\"cba\",\"daf\",\"ghi\"]\n",
    "solution = Solution()\n",
    "solution.minDeletionSize(A_)"
   ]
  },
  {
   "cell_type": "raw",
   "metadata": {},
   "source": [
    "step 1:\n",
    "    A_ = [\"cba\",\"daf\",\"ghi\"], A_* = cba, daf, ghi\n",
    "    zip(A_*) 相当于取每个元素的相同列组成一个tuple: [(c,d,g), (b,a,h), (a,f,i)]\n",
    "    list(map(list, zip(*A))): 转换为例表: [[c,d,g], [b,a,h], [a,f,i]]"
   ]
  },
  {
   "cell_type": "code",
   "execution_count": null,
   "metadata": {},
   "outputs": [],
   "source": [
    "class Solution:\n",
    "    def minDeletionSize(self, A: List[str]) -> int:\n",
    "        zipped=list(map(list,zip(*A)))\n",
    "        count=0\n",
    "        for item in zipped:\n",
    "            if item!=sorted(item):\n",
    "                count+=1\n",
    "        return count"
   ]
  },
  {
   "cell_type": "code",
   "execution_count": 27,
   "metadata": {},
   "outputs": [
    {
     "data": {
      "text/plain": [
       "[9, 12]"
      ]
     },
     "execution_count": 27,
     "metadata": {},
     "output_type": "execute_result"
    }
   ],
   "source": [
    "list(map(lambda x,y,z: x+y+z, [1, 2], [3, 4], [5, 6]))"
   ]
  },
  {
   "cell_type": "code",
   "execution_count": null,
   "metadata": {},
   "outputs": [],
   "source": []
  },
  {
   "cell_type": "code",
   "execution_count": null,
   "metadata": {},
   "outputs": [],
   "source": []
  }
 ],
 "metadata": {
  "kernelspec": {
   "display_name": "TF2",
   "language": "python",
   "name": "tf2"
  },
  "language_info": {
   "codemirror_mode": {
    "name": "ipython",
    "version": 3
   },
   "file_extension": ".py",
   "mimetype": "text/x-python",
   "name": "python",
   "nbconvert_exporter": "python",
   "pygments_lexer": "ipython3",
   "version": "3.6.2"
  }
 },
 "nbformat": 4,
 "nbformat_minor": 4
}
