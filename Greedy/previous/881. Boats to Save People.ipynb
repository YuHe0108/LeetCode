{
 "cells": [
  {
   "cell_type": "markdown",
   "metadata": {},
   "source": [
    "    问题描述\n",
    "        第i个人有重量人 people[i]，每艘船可承载的最大重量为 limit\n",
    "        每艘船同时最多可载2人，但前提是这些人的重量总和不得超过极限\n",
    "        返回运载每个给定人员的最少船数。（保证每个人都可以用船运载。）\n",
    "    \n",
    "    例题1：\n",
    "        Input: people = [1,2], limit = 3\n",
    "        Output: 1\n",
    "        Explanation: 1 boat (1, 2)\n",
    "    \n",
    "    例题2：\n",
    "        Input: people = [3,2,2,1], limit = 3\n",
    "        Output: 3\n",
    "        Explanation: 3 boats (1, 2), (2) and (3)\n",
    "    \n",
    "    例题3：\n",
    "        Input: people = [3,5,3,4], limit = 5\n",
    "        Output: 4\n",
    "        Explanation: 4 boats (3), (3), (4), (5)\n"
   ]
  },
  {
   "cell_type": "code",
   "execution_count": null,
   "metadata": {},
   "outputs": [],
   "source": [
    "class Solution:\n",
    "    def numRescueBoats(self, people, limit: int) -> int:\n",
    "        if len(people) <= 1: return len(people)\n",
    "        if sum(people) <= limit: return 1\n",
    "        \n",
    "        people.sort()\n",
    "        now_weight = people[0]\n",
    "        count = 1\n",
    "        for i in range(1, len(people)):\n",
    "            if now_weight + people[i] > limit:\n",
    "                count += 1\n",
    "                now_weight = people[i]\n",
    "            else:\n",
    "                now_weight += people[i]\n",
    "        return count"
   ]
  },
  {
   "cell_type": "code",
   "execution_count": null,
   "metadata": {},
   "outputs": [],
   "source": []
  },
  {
   "cell_type": "code",
   "execution_count": 33,
   "metadata": {},
   "outputs": [],
   "source": [
    "class Solution:\n",
    "    def numRescueBoats(self, people, limit: int) -> int:\n",
    "        if len(people) <= 1: return len(people)\n",
    "        if sum(people) <= limit: return 1\n",
    "        \n",
    "        people.sort()\n",
    "        now_weight = 0\n",
    "        now_people = 0\n",
    "        count = 0\n",
    "        index = 0\n",
    "        while index < len(people):\n",
    "            if now_weight + people[0] > limit or now_people == 2: \n",
    "                # 如果现有的重量加上最小值都超过limit，或者人数再加一个大于2，则直接发车\n",
    "                count += 1\n",
    "                now_weight = 0\n",
    "                now_people = 0\n",
    "            elif now_weight + people[-1] <= limit and now_people + 1 <= 2:\n",
    "                now_weight += people[-1]\n",
    "                now_people += 1\n",
    "                people.pop(-1)\n",
    "            else:\n",
    "                now_people += 1\n",
    "                now_weight += people[0]\n",
    "                people.pop(0)\n",
    "        \n",
    "        if now_weight != 0:\n",
    "            count += 1\n",
    "        return count"
   ]
  },
  {
   "cell_type": "code",
   "execution_count": 34,
   "metadata": {},
   "outputs": [
    {
     "data": {
      "text/plain": [
       "3"
      ]
     },
     "execution_count": 34,
     "metadata": {},
     "output_type": "execute_result"
    }
   ],
   "source": [
    "people_ = [2, 2, 2, 3, 3]\n",
    "limit_ = 6\n",
    "solution = Solution()\n",
    "solution.numRescueBoats(people_, limit_)"
   ]
  },
  {
   "cell_type": "code",
   "execution_count": 10,
   "metadata": {},
   "outputs": [
    {
     "data": {
      "text/plain": [
       "[1, 2]"
      ]
     },
     "execution_count": 10,
     "metadata": {},
     "output_type": "execute_result"
    }
   ],
   "source": [
    "a = [1, 2, 3]\n",
    "a.pop(-1)\n",
    "a"
   ]
  },
  {
   "cell_type": "code",
   "execution_count": null,
   "metadata": {},
   "outputs": [],
   "source": []
  }
 ],
 "metadata": {
  "kernelspec": {
   "display_name": "TF2",
   "language": "python",
   "name": "tf2"
  },
  "language_info": {
   "codemirror_mode": {
    "name": "ipython",
    "version": 3
   },
   "file_extension": ".py",
   "mimetype": "text/x-python",
   "name": "python",
   "nbconvert_exporter": "python",
   "pygments_lexer": "ipython3",
   "version": "3.6.2"
  }
 },
 "nbformat": 4,
 "nbformat_minor": 4
}
