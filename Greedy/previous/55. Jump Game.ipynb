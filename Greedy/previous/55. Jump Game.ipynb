{
 "cells": [
  {
   "cell_type": "raw",
   "metadata": {},
   "source": [
    "问题描述：\n",
    "    给定一个非负整数数组，您最初位于该数组的第一个索引处。\n",
    "    数组中的每个元素代表该位置的最大跳转长度(可以小于最大长度)\n",
    "    确定您是否能够达到最后一个索引。\n",
    "例题1：\n",
    "    输入： nums = [2,3,1,1,4]\n",
    "    输出： true\n",
    "    说明：从索引0到1跳1步，然后到最后一个索引3步。\n",
    "例题2：\n",
    "    Input: nums = [3,2,1,0,4]\n",
    "    Output: false\n",
    "    Explanation: You will always arrive at index 3 no matter what. Its maximum jump length is 0, which makes it \n",
    "                 impossible to reach the last index."
   ]
  },
  {
   "cell_type": "code",
   "execution_count": 121,
   "metadata": {},
   "outputs": [],
   "source": [
    "class Solution:\n",
    "    def canJump(self, nums) -> bool:\n",
    "        index = [0]\n",
    "        i = 0\n",
    "        while i < len(nums):\n",
    "            # 当前位置可能到达的索引位置，一一测试，检验能否达到最后一位。\n",
    "            for start_index in index:\n",
    "                start = nums[start_index] # 初始位置可能前进的步数, start_index为当前start位置索引\n",
    "                end = [start_index + x for x in range(1, start + 1)] # 可能前进的步数到达nums上的位置\n",
    "                \n",
    "                for end_index in end:\n",
    "                    if end_index >= len(nums) - 1: # 如果可能达到的最终位置为末尾，返回True\n",
    "                        return True\n",
    "            \n",
    "            index = end # 当前位置可能到的下一个索引位置\n",
    "            i += 1 # 前进一步\n",
    "        return False"
   ]
  },
  {
   "cell_type": "code",
   "execution_count": 122,
   "metadata": {},
   "outputs": [
    {
     "name": "stdout",
     "output_type": "stream",
     "text": [
      "2\n"
     ]
    },
    {
     "data": {
      "text/plain": [
       "False"
      ]
     },
     "execution_count": 122,
     "metadata": {},
     "output_type": "execute_result"
    }
   ],
   "source": [
    "nums_ = [1,1,2,2,0,1,1]\n",
    "solution = Solution()\n",
    "solution.canJump(nums_)"
   ]
  },
  {
   "cell_type": "code",
   "execution_count": 125,
   "metadata": {},
   "outputs": [],
   "source": [
    "class Solution:\n",
    "    def canJump(self, nums) -> bool:\n",
    "        len_nums = len(nums)\n",
    "        can_reach = 0\n",
    "        for index, num in enumerate(nums):\n",
    "            if index > can_reach:\n",
    "                return False\n",
    "            \n",
    "            can_reach = max(can_reach, index + num)\n",
    "            if can_reach >= len_nums - 1:\n",
    "                return True\n",
    "        return False"
   ]
  },
  {
   "cell_type": "code",
   "execution_count": 128,
   "metadata": {},
   "outputs": [
    {
     "data": {
      "text/plain": [
       "False"
      ]
     },
     "execution_count": 128,
     "metadata": {},
     "output_type": "execute_result"
    }
   ],
   "source": [
    "nums_ = [3, 2, 1,0, 4]\n",
    "solution = Solution()\n",
    "solution.canJump(nums_)"
   ]
  },
  {
   "cell_type": "code",
   "execution_count": null,
   "metadata": {},
   "outputs": [],
   "source": []
  }
 ],
 "metadata": {
  "kernelspec": {
   "display_name": "Python 3",
   "language": "python",
   "name": "python3"
  },
  "language_info": {
   "codemirror_mode": {
    "name": "ipython",
    "version": 3
   },
   "file_extension": ".py",
   "mimetype": "text/x-python",
   "name": "python",
   "nbconvert_exporter": "python",
   "pygments_lexer": "ipython3",
   "version": "3.6.2"
  }
 },
 "nbformat": 4,
 "nbformat_minor": 4
}
