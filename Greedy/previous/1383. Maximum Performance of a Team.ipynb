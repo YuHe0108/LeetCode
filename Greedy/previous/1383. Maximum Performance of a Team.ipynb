{
 "cells": [
  {
   "cell_type": "raw",
   "metadata": {},
   "source": [
    "    有n从1到n 2的工程师编号：speed 和efficiency，其中speed[i]和分别efficiency[i]代表第i个工程师的速度和效率。\n",
    "    返回最多由 K 个工程师组成的团队达到的最高性能 K，因为答案可能很多，所以返回此模10 ^ 9 + 7。\n",
    "    团队的绩效是工程师速度的总和乘以工程师中的最低效率。\n",
    "\n",
    "例题1：\n",
    "    Input: n = 6, speed = [2,10,3,1,5,8], efficiency = [5,4,3,9,7,2], k = 2\n",
    "    Output: 60\n",
    "    Explanation: \n",
    "        We have the maximum performance of the team by selecting engineer 2 (with speed=10 and efficiency=4) \n",
    "        and engineer 5 (with speed=5 and efficiency=7). That is, performance = (10 + 5) * min(4, 7) = 60.\n",
    "\n",
    "例题2：\n",
    "    Input: n = 6, speed = [2,10,3,1,5,8], efficiency = [5,4,3,9,7,2], k = 3\n",
    "    Output: 68\n",
    "    Explanation:\n",
    "        This is the same example as the first but k = 3. \n",
    "        We can select engineer 1, engineer 2 and engineer 5 to get the maximum performance of the team. \n",
    "        That is, performance = (2 + 10 + 5) * min(5, 4, 7) = 68."
   ]
  },
  {
   "cell_type": "code",
   "execution_count": 1,
   "metadata": {},
   "outputs": [],
   "source": [
    "class Solution:\n",
    "    def maxPerformance(self, n, speed, efficiency, k) -> int:\n",
    "        pass"
   ]
  },
  {
   "cell_type": "code",
   "execution_count": 2,
   "metadata": {},
   "outputs": [],
   "source": [
    "n_ = 6\n",
    "speed_ = [2,10,3,1,5,8]\n",
    "efficiency_ = [5,4,3,9,7,2]\n",
    "k_ = 2\n",
    "solution = Solution()\n",
    "solution.maxPerformance(n_, speed_, efficiency_, k_)"
   ]
  },
  {
   "cell_type": "code",
   "execution_count": null,
   "metadata": {},
   "outputs": [],
   "source": []
  }
 ],
 "metadata": {
  "kernelspec": {
   "display_name": "TF2",
   "language": "python",
   "name": "tf2"
  },
  "language_info": {
   "codemirror_mode": {
    "name": "ipython",
    "version": 3
   },
   "file_extension": ".py",
   "mimetype": "text/x-python",
   "name": "python",
   "nbconvert_exporter": "python",
   "pygments_lexer": "ipython3",
   "version": "3.6.2"
  }
 },
 "nbformat": 4,
 "nbformat_minor": 4
}
