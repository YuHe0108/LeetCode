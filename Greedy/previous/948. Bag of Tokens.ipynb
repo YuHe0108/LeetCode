{
 "cells": [
  {
   "cell_type": "raw",
   "metadata": {},
   "source": [
    "问题描述：\n",
    "    您具有初始能力P，初始分数0和一袋代币。\n",
    "    每个代币最多可以使用一次，每个令牌都有一个值token[i]，并且可能有两种使用方式：\n",
    "    1、如果我们至少有token[i]力量，我们将 token 朝上，失去token[i]力量 并 获得 1 score。\n",
    "    2、如果我们至少有 1 点score，我们将 token 向下，获得token[i]力量 并 失去 1 socre。\n",
    "\n",
    "求：玩完任意数量的代币后，返回可以拥有的最大 Score。\n",
    "\n",
    "例题1：\n",
    "    Input: tokens = [100], P = 50\n",
    "    Output: 0, \n",
    "    我们的 P = 50, Score = 0, 只能向上， 但是我们的 P < tokens, 没有办法玩，返回为 score=0\n",
    "例题2：\n",
    "    Input: tokens = [100,200], P = 150\n",
    "    Output: 1\n",
    "    第一个，100 < 150, score += 1, P = 150 - 100 = 50\n",
    "    第二个：200 > 50, 不能玩，因为会失去 score\n",
    "例题3：\n",
    "    Input: tokens = [100,200,300,400], P = 200\n",
    "    Output: 2, \n",
    "    是没有顺序的，所以向上消耗P的时候选择 tokens的最小值\n",
    "    但是在获取 P 的时候，要选择 tokens 的最大值\n",
    "    即： 花 100， P=200-100, S=1\n",
    "    获取400： P = 100 + 400, S=0\n",
    "    花 200， 300, S = 1 + 1 = 2"
   ]
  },
  {
   "cell_type": "code",
   "execution_count": 69,
   "metadata": {},
   "outputs": [],
   "source": [
    "class Solution:\n",
    "    def bagOfTokensScore(self, tokens, P: int) -> int:\n",
    "#         if P == 0 and min(tokens) > 0: return 0\n",
    "#         if P > sum(tokens): return len(tokens)\n",
    "        score = 0\n",
    "        i = 0\n",
    "        while i < len(tokens):\n",
    "            # 花最小的代价赚 score\n",
    "            if P >= min(tokens):\n",
    "                P -= min(tokens)\n",
    "                score += 1\n",
    "                tokens.remove(min(tokens))\n",
    "            # 失去的score至少还能赚回来，用最大的收入 损失 score\n",
    "            elif P < min(tokens) and score > 0 and len(tokens) - 1 > 1: \n",
    "                P += max(tokens)\n",
    "                score -= 1\n",
    "                tokens.remove(max(tokens))\n",
    "            else:\n",
    "                break\n",
    "        return score"
   ]
  },
  {
   "cell_type": "code",
   "execution_count": 72,
   "metadata": {},
   "outputs": [
    {
     "data": {
      "text/plain": [
       "0"
      ]
     },
     "execution_count": 72,
     "metadata": {},
     "output_type": "execute_result"
    }
   ],
   "source": [
    "tokens_ = [100]\n",
    "P_ = 60\n",
    "solution = Solution()\n",
    "solution.bagOfTokensScore(tokens_, P_)"
   ]
  },
  {
   "cell_type": "code",
   "execution_count": null,
   "metadata": {},
   "outputs": [],
   "source": []
  },
  {
   "cell_type": "code",
   "execution_count": null,
   "metadata": {},
   "outputs": [],
   "source": []
  }
 ],
 "metadata": {
  "kernelspec": {
   "display_name": "TF2",
   "language": "python",
   "name": "tf2"
  },
  "language_info": {
   "codemirror_mode": {
    "name": "ipython",
    "version": 3
   },
   "file_extension": ".py",
   "mimetype": "text/x-python",
   "name": "python",
   "nbconvert_exporter": "python",
   "pygments_lexer": "ipython3",
   "version": "3.6.2"
  }
 },
 "nbformat": 4,
 "nbformat_minor": 4
}
