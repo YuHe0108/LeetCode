{
 "cells": [
  {
   "cell_type": "raw",
   "metadata": {},
   "source": [
    "问题描述：\n",
    "    有N个孩子排成一列。每个孩子都有一个评分值。\n",
    "    您正在为符合以下要求的这些孩子提供糖果：\n",
    "    1、每个孩子必须至少吃一个糖果。\n",
    "    2、评分较高的孩子比邻居得到的糖果更多。\n",
    "    3、您必须给的最低糖果是多少？\n",
    "\n",
    "例题1：\n",
    "    Input: [1,0,2]\n",
    "    Output: 5\n",
    "    Explanation: You can allocate to the first, second and third child with 2, 1, 2 candies respectively.\n",
    "\n",
    "例题2：\n",
    "    Input: [1,2,2]\n",
    "    Output: 4\n",
    "    Explanation: You can allocate to the first, second and third child with 1, 2, 1 candies respectively.\n",
    "                 The third child gets 1 candy because it satisfies the above two conditions."
   ]
  },
  {
   "cell_type": "code",
   "execution_count": 24,
   "metadata": {},
   "outputs": [],
   "source": [
    "class Solution:\n",
    "    def candy(self, ratings) -> int:\n",
    "        \n",
    "        res = len(ratings) * [1] # 假设每个孩子都分一个糖果\n",
    "        # 从第二个开始，向后比较\n",
    "        for i in range(1, len(ratings)): # [1, 2, 3, len(ratings)]\n",
    "            print(ratings[i], ratings[i - 1])\n",
    "            if ratings[i] > ratings[i - 1]: # 如果当前值大于后面的值\n",
    "                res[i] = res[i - 1] + 1 # 后面的值 + 1\n",
    "        print(res)\n",
    "        # 从倒数第二个开始，向前比较\n",
    "        for i in reversed(range(1, len(ratings))): # [len(ratings) - 1, ..., 2, 1, 0]\n",
    "            print(ratings[i - 1], ratings[i])\n",
    "            if ratings[i - 1] > ratings[i]:\n",
    "                res[i - 1] = max(res[i - 1], res[i] + 1)\n",
    "        print(res)\n",
    "        return sum(res)"
   ]
  },
  {
   "cell_type": "code",
   "execution_count": 25,
   "metadata": {},
   "outputs": [
    {
     "name": "stdout",
     "output_type": "stream",
     "text": [
      "1 2\n",
      "3 1\n",
      "1 3\n",
      "[1, 1, 2, 1]\n",
      "3 1 2 3\n",
      "1 3 1 2\n",
      "2 1 0 1\n",
      "[2, 1, 2, 1]\n"
     ]
    },
    {
     "data": {
      "text/plain": [
       "6"
      ]
     },
     "execution_count": 25,
     "metadata": {},
     "output_type": "execute_result"
    }
   ],
   "source": [
    "ratings_ = [2, 1, 3, 1]\n",
    "solution = Solution()\n",
    "solution.candy(ratings_)"
   ]
  },
  {
   "cell_type": "code",
   "execution_count": 9,
   "metadata": {},
   "outputs": [
    {
     "name": "stdout",
     "output_type": "stream",
     "text": [
      "4\n",
      "3\n",
      "2\n"
     ]
    }
   ],
   "source": [
    "x = [1, 2, 3, 4]\n",
    "for i in reversed(range(1, len(x))):\n",
    "    print(x[i])"
   ]
  },
  {
   "cell_type": "code",
   "execution_count": 3,
   "metadata": {},
   "outputs": [
    {
     "name": "stdout",
     "output_type": "stream",
     "text": [
      "2\n"
     ]
    }
   ],
   "source": []
  },
  {
   "cell_type": "code",
   "execution_count": null,
   "metadata": {},
   "outputs": [],
   "source": []
  }
 ],
 "metadata": {
  "kernelspec": {
   "display_name": "TF2",
   "language": "python",
   "name": "tf2"
  },
  "language_info": {
   "codemirror_mode": {
    "name": "ipython",
    "version": 3
   },
   "file_extension": ".py",
   "mimetype": "text/x-python",
   "name": "python",
   "nbconvert_exporter": "python",
   "pygments_lexer": "ipython3",
   "version": "3.6.2"
  }
 },
 "nbformat": 4,
 "nbformat_minor": 4
}
