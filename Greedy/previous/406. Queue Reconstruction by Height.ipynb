{
 "cells": [
  {
   "cell_type": "raw",
   "metadata": {},
   "source": [
    "问题描述：\n",
    "    假设你有一个随机的排队者名单。每个人用一对整数（h，k）来描述，\n",
    "    其中h是这个人的身高，k是这个人前面身高大于或等于h的人数。编写一个算法来构造队列。\n",
    "\n",
    "例题1：\n",
    "    Input: [[7,0], [4,4], [7,1], [5,0], [6,1], [5,2]]\n",
    "    Output: [[5,0], [7,0], [5,2], [6,1], [4,4], [7,1]]"
   ]
  },
  {
   "cell_type": "raw",
   "metadata": {},
   "source": [
    "思路：\n",
    "    先按照，身高从高到低排序，相同的身高，按照k从小到大排序。\n",
    "    其中 k 是每个人应该在新序列中的位置，这个时候如果把身高矮的人放在身高高的人之前，并不会打乱这个顺序。"
   ]
  },
  {
   "cell_type": "code",
   "execution_count": null,
   "metadata": {},
   "outputs": [],
   "source": []
  },
  {
   "cell_type": "code",
   "execution_count": 40,
   "metadata": {},
   "outputs": [],
   "source": [
    "class Solution:\n",
    "    def reconstructQueue(self, people):\n",
    "        len_peo = len(people)\n",
    "        if len_peo == 0:\n",
    "            return []\n",
    "        \n",
    "        sorted_peo = sorted(people, key=lambda x: (-x[0], x[1])) # 高度按照从大到小，k按照从小到大\n",
    "        print(sorted_peo)\n",
    "        res = []\n",
    "        for peo in sorted_peo:\n",
    "            print(res)\n",
    "            res.insert(peo[1], peo)\n",
    "        return res"
   ]
  },
  {
   "cell_type": "code",
   "execution_count": 41,
   "metadata": {},
   "outputs": [
    {
     "name": "stdout",
     "output_type": "stream",
     "text": [
      "[[7, 0], [7, 1], [6, 1], [5, 0], [5, 2], [4, 4]]\n",
      "[]\n",
      "[[7, 0]]\n",
      "[[7, 0], [7, 1]]\n",
      "[[7, 0], [6, 1], [7, 1]]\n",
      "[[5, 0], [7, 0], [6, 1], [7, 1]]\n",
      "[[5, 0], [7, 0], [5, 2], [6, 1], [7, 1]]\n"
     ]
    },
    {
     "data": {
      "text/plain": [
       "[[5, 0], [7, 0], [5, 2], [6, 1], [4, 4], [7, 1]]"
      ]
     },
     "execution_count": 41,
     "metadata": {},
     "output_type": "execute_result"
    }
   ],
   "source": [
    "people_ = [[7,0], [4,4], [7,1], [5,0], [6,1], [5,2]]\n",
    "solution = Solution()\n",
    "solution.reconstructQueue(people_)"
   ]
  },
  {
   "cell_type": "code",
   "execution_count": 33,
   "metadata": {},
   "outputs": [
    {
     "data": {
      "text/plain": [
       "[1, 2, 3]"
      ]
     },
     "execution_count": 33,
     "metadata": {},
     "output_type": "execute_result"
    }
   ],
   "source": [
    "sorted([1, 2, 3])"
   ]
  },
  {
   "cell_type": "code",
   "execution_count": 32,
   "metadata": {},
   "outputs": [
    {
     "data": {
      "text/plain": [
       "[[7, 1], [7, 0], [6, 1], [5, 2], [5, 0], [4, 4]]"
      ]
     },
     "execution_count": 32,
     "metadata": {},
     "output_type": "execute_result"
    }
   ],
   "source": [
    "new_p"
   ]
  },
  {
   "cell_type": "code",
   "execution_count": null,
   "metadata": {},
   "outputs": [],
   "source": []
  }
 ],
 "metadata": {
  "kernelspec": {
   "display_name": "TF2",
   "language": "python",
   "name": "tf2"
  },
  "language_info": {
   "codemirror_mode": {
    "name": "ipython",
    "version": 3
   },
   "file_extension": ".py",
   "mimetype": "text/x-python",
   "name": "python",
   "nbconvert_exporter": "python",
   "pygments_lexer": "ipython3",
   "version": "3.6.2"
  }
 },
 "nbformat": 4,
 "nbformat_minor": 4
}
