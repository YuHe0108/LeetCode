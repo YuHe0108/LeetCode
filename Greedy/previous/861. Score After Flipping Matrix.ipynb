{
 "cells": [
  {
   "cell_type": "markdown",
   "metadata": {},
   "source": [
    "    问题描述：\n",
    "        我们有一个二维矩阵  A，其中每个值都是 0 或 1。可以任意切换0和1的值，\n",
    "        任意选择任何行或列，将其中所有 0 更改为 1，将所有 1 更改为 0。\n",
    "        进行任意数量的移动后，此矩阵的每一行都被解释为二进制数，并且矩阵的得分是这些数字的总和。\n",
    "        返回最高得分。\n",
    "        \n",
    "     例题：\n",
    "        Input: [[0,0,1,1],\n",
    "                [1,0,1,0],\n",
    "                [1,1,0,0]]\n",
    "        Output: 39\n",
    "        Explanation:\n",
    "        Toggled to [[1,1,1,1],\n",
    "                    [1,0,0,1],\n",
    "                    [1,1,1,1]].\n",
    "        0b1111 + 0b1001 + 0b1111 = 15 + 9 + 15 = 39\n",
    "        steps: \n",
    "            [[0,0,1,1],      [[1,1,0,0],     [[1,1,0,1]       [[1,1,1,1]\n",
    "             [1,0,1,0],  --> [1,0,1,0],  -->  [1,0,1,1]   --> [1,0,0,1]\n",
    "             [1,1,0,0]]      [1,1,0,0]]       [1,1,0,1]]      [1,1,1,1]]\n",
    "\n",
    "### 希望数组中的1 越多越好，位置越靠前越好"
   ]
  },
  {
   "cell_type": "code",
   "execution_count": 7,
   "metadata": {},
   "outputs": [],
   "source": [
    "class Solution:\n",
    "    def matrixScore(self, A) -> int:\n",
    "       \n",
    "        def flip(array_list):\n",
    "            res = [0] * len(array_list)\n",
    "            for i in range(len(array_list)):\n",
    "                if array_list[i] == 0:\n",
    "                    res[i] = 1\n",
    "                else:\n",
    "                    res[i] = 0\n",
    "            return res\n",
    "    \n",
    "        def matrix_sum(matrix_array):\n",
    "            a_sum = 0\n",
    "            for i in matrix_array:\n",
    "                i = [str(x) for x in i]\n",
    "                a_sum += int(''.join(i), 2)\n",
    "            return a_sum\n",
    "        \n",
    "         # 先行翻转\n",
    "        rows = len(A)\n",
    "        for i in range(rows):\n",
    "            pre_sum = int(''.join([str(x) for x in A[i]]), 2)\n",
    "            flip_list = flip(A[i])\n",
    "            flip_sum = int(''.join([str(x) for x in flip_list]), 2)\n",
    "            if flip_sum > pre_sum:\n",
    "                A[i] = flip_list\n",
    "        print(A)\n",
    "        \n",
    "        # 再列翻转, 列的翻转按照 1 的数目选择，只有1的数目越多，才可以选择\n",
    "        cols = len(A[0])\n",
    "        for j in range(cols):\n",
    "            col_list = []\n",
    "            for i in range(rows):\n",
    "                col_list.append(A[i][j])\n",
    "            pre_sum = sum(col_list)\n",
    "            flip_list = flip(col_list)\n",
    "            flip_sum = sum(flip_list)\n",
    "            if flip_sum > pre_sum:\n",
    "                for i in range(rows):\n",
    "                    A[i][j] = flip_list[i]\n",
    "        print(A)\n",
    "        return matrix_sum(A)"
   ]
  },
  {
   "cell_type": "code",
   "execution_count": 8,
   "metadata": {},
   "outputs": [
    {
     "name": "stdout",
     "output_type": "stream",
     "text": [
      "[[1, 0, 0], [1, 1, 1], [1, 0, 1]]\n",
      "[[1, 1, 0], [1, 0, 1], [1, 1, 1]]\n"
     ]
    },
    {
     "data": {
      "text/plain": [
       "18"
      ]
     },
     "execution_count": 8,
     "metadata": {},
     "output_type": "execute_result"
    }
   ],
   "source": [
    "# a = [[0,0,1,1],[1,0,1,0],[1,1,0,0]]\n",
    "a = [[0,1,1],[1,1,1],[0,1,0]]\n",
    "solution = Solution()\n",
    "solution.matrixScore(a)"
   ]
  },
  {
   "cell_type": "code",
   "execution_count": 14,
   "metadata": {},
   "outputs": [
    {
     "data": {
      "text/plain": [
       "3"
      ]
     },
     "execution_count": 14,
     "metadata": {},
     "output_type": "execute_result"
    }
   ],
   "source": [
    "int('0011', 2)"
   ]
  },
  {
   "cell_type": "code",
   "execution_count": null,
   "metadata": {},
   "outputs": [],
   "source": []
  },
  {
   "cell_type": "code",
   "execution_count": 80,
   "metadata": {},
   "outputs": [
    {
     "name": "stdout",
     "output_type": "stream",
     "text": [
      "1\n"
     ]
    }
   ],
   "source": [
    "a = [[0,0,1,1],[1,0,1,0],[1,1,0,0]]\n",
    "print(a[1][0])"
   ]
  },
  {
   "cell_type": "code",
   "execution_count": null,
   "metadata": {},
   "outputs": [],
   "source": [
    "class Solution:\n",
    "\tdef matrixScore(self, A) -> int:\n",
    "\t\tres=0\n",
    "\t\tfor i in range(len(A)):\n",
    "\t\t\tif A[i][0]!=1:\n",
    "\t\t\t\tfor j in range(len(A[i])):\n",
    "\t\t\t\t\tif A[i][j]==0:\n",
    "\t\t\t\t\t\tA[i][j]=1\n",
    "\t\t\t\t\telse:\n",
    "\t\t\t\t\t\tA[i][j]=0\n",
    "\t\tA=list(zip(*A))\n",
    "\t\tA=list(map(list,A))\n",
    "\t\tfor i in range(len(A)):\n",
    "\t\t\tif A[i].count(1)<A[i].count(0):\n",
    "\t\t\t\tfor j in range(len(A[i])):\n",
    "\t\t\t\t\tif A[i][j]==0:\n",
    "\t\t\t\t\t\tA[i][j]=1\n",
    "\t\t\t\t\telse:\n",
    "\t\t\t\t\t\tA[i][j]=0\n",
    "\t\tA=list(zip(*A))\n",
    "\t\tfor i in A:\n",
    "\t\t\ttem=map(str,i)\n",
    "\t\t\tbinNum=''.join(tem)\n",
    "\t\t\tres+=int(binNum,2)\n",
    "\t\treturn res"
   ]
  }
 ],
 "metadata": {
  "kernelspec": {
   "display_name": "TF2",
   "language": "python",
   "name": "tf2"
  },
  "language_info": {
   "codemirror_mode": {
    "name": "ipython",
    "version": 3
   },
   "file_extension": ".py",
   "mimetype": "text/x-python",
   "name": "python",
   "nbconvert_exporter": "python",
   "pygments_lexer": "ipython3",
   "version": "3.6.2"
  }
 },
 "nbformat": 4,
 "nbformat_minor": 4
}
