{
 "cells": [
  {
   "cell_type": "raw",
   "metadata": {},
   "source": [
    "    我们分析一下，对于每个数，比如说100， 我们可以分解为奇数和偶数两种操作，100是偶数，5是奇数，\n",
    "    plus_count等于奇数的个数，multi_count等于偶数的个数。\n",
    "    那么问题来了，如何快速直到100可以被分解成多少个奇数和偶数呢？\n",
    "\n",
    "    比如说2的二进制代码10, 左移一位变成1。\n",
    "    注意到了吗，奇数的时候，就是1, 偶数就是0.\n",
    "    也就是我们可以通过统计一个数的二进制编码的1的个数和长度来迅速得出plus_count和multi_count\n",
    "\n",
    "    bin(100) = '0b1100100', 其中plus_count = 3， multi_count = 6（7-1）"
   ]
  },
  {
   "cell_type": "code",
   "execution_count": null,
   "metadata": {},
   "outputs": [],
   "source": []
  },
  {
   "cell_type": "code",
   "execution_count": null,
   "metadata": {},
   "outputs": [],
   "source": []
  },
  {
   "cell_type": "code",
   "execution_count": null,
   "metadata": {},
   "outputs": [],
   "source": []
  },
  {
   "cell_type": "code",
   "execution_count": null,
   "metadata": {},
   "outputs": [],
   "source": []
  },
  {
   "cell_type": "code",
   "execution_count": null,
   "metadata": {},
   "outputs": [],
   "source": [
    "class Solution:\n",
    "    def minOperations(self, nums: List[int]) -> int:\n",
    "        addCount = 0\n",
    "        multCount = 0\n",
    "        \n",
    "        for n in nums:\n",
    "            binary = bin(n)[2:]\n",
    "            addCount += binary.count('1') # 当前数字在除以2的过程中，会出现多少次奇数\n",
    "            # len(binary)的大小就表示了 1 所在的最高位\n",
    "            multCount = max(multCount, len(binary) - 1) # 表示最多除以2多少次能够达到 1\n",
    "        return addCount + multCount"
   ]
  },
  {
   "cell_type": "code",
   "execution_count": 71,
   "metadata": {},
   "outputs": [
    {
     "name": "stdout",
     "output_type": "stream",
     "text": [
      "10\n",
      "100\n",
      "1000\n",
      "10000\n"
     ]
    },
    {
     "data": {
      "text/plain": [
       "8"
      ]
     },
     "execution_count": 71,
     "metadata": {},
     "output_type": "execute_result"
    }
   ],
   "source": [
    "solution = Solution()\n",
    "solution.minOperations([2,4,8,16])"
   ]
  },
  {
   "cell_type": "code",
   "execution_count": null,
   "metadata": {},
   "outputs": [],
   "source": [
    "10\n",
    "01"
   ]
  },
  {
   "cell_type": "raw",
   "metadata": {},
   "source": [
    "1: 0->1 1次\n",
    "2: 0->1->2 2次 \n",
    "3：0->1->2->3 3次\n",
    "4: 0->1->2->4 3次 2 + 1\n",
    "5: 0->1->2->4->5 4次 2 + 1+(5-4)\n",
    "6：0->1->2->4->5->6 5次 2 + 1+(6-4)\n",
    "7: 0->1->2->4->5->6->7   2+1+(7-4)\n",
    "8: 0->1->2->4->8 4次 3 + 1 (0+1->2^3)"
   ]
  },
  {
   "cell_type": "code",
   "execution_count": 62,
   "metadata": {},
   "outputs": [],
   "source": [
    "from typing import List\n",
    "import math\n",
    "\n",
    "class Solution:\n",
    "    def minOperations(self, nums: List[int]) -> int:\n",
    "        # 1、给一个数字 +1\n",
    "        # 2、给所有数字 *2\n",
    "        def calc(value):\n",
    "            cnt = 0\n",
    "            while value > 0:\n",
    "                if value % 2 == 0:\n",
    "                    value //= 2\n",
    "                    cnt += 1\n",
    "                else:\n",
    "                    value -= 1\n",
    "            return cnt\n",
    "        res = calc(max(nums))\n",
    "        for v in nums:\n",
    "            if v == 0:\n",
    "                continue\n",
    "            while v > 0:\n",
    "                if v % 2 == 0:\n",
    "                    v //= 2\n",
    "                else:\n",
    "                    v -= 1\n",
    "                    res += 1\n",
    "        return res"
   ]
  },
  {
   "cell_type": "code",
   "execution_count": 65,
   "metadata": {},
   "outputs": [
    {
     "data": {
      "text/plain": [
       "8"
      ]
     },
     "execution_count": 65,
     "metadata": {},
     "output_type": "execute_result"
    }
   ],
   "source": [
    "solution = Solution()\n",
    "solution.minOperations([2,4,8,16])"
   ]
  },
  {
   "cell_type": "code",
   "execution_count": 14,
   "metadata": {},
   "outputs": [
    {
     "data": {
      "text/plain": [
       "3.0"
      ]
     },
     "execution_count": 14,
     "metadata": {},
     "output_type": "execute_result"
    }
   ],
   "source": [
    "math.log(8, 2)"
   ]
  },
  {
   "cell_type": "code",
   "execution_count": null,
   "metadata": {},
   "outputs": [],
   "source": []
  }
 ],
 "metadata": {
  "kernelspec": {
   "display_name": "Python 3",
   "language": "python",
   "name": "python3"
  },
  "language_info": {
   "codemirror_mode": {
    "name": "ipython",
    "version": 3
   },
   "file_extension": ".py",
   "mimetype": "text/x-python",
   "name": "python",
   "nbconvert_exporter": "python",
   "pygments_lexer": "ipython3",
   "version": "3.6.2"
  }
 },
 "nbformat": 4,
 "nbformat_minor": 4
}
