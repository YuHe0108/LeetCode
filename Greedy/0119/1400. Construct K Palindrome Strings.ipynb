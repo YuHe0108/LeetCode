{
 "cells": [
  {
   "cell_type": "code",
   "execution_count": null,
   "metadata": {},
   "outputs": [],
   "source": []
  },
  {
   "cell_type": "code",
   "execution_count": null,
   "metadata": {},
   "outputs": [],
   "source": [
    "yy yy yy yy \n",
    "zz zz zz\n",
    "z"
   ]
  },
  {
   "cell_type": "code",
   "execution_count": 59,
   "metadata": {},
   "outputs": [],
   "source": [
    "from collections import Counter\n",
    "\n",
    "class Solution:\n",
    "    def canConstruct(self, s: str, k: int) -> bool:\n",
    "        n = len(s)\n",
    "        if k > n:\n",
    "            return False\n",
    "        if k == n:\n",
    "            return True\n",
    "        \n",
    "        # 最多只有 k 个 字母出现的次数是奇数次\n",
    "        count = Counter(s)\n",
    "        o_cnt = 0\n",
    "        for v in count.values():\n",
    "            if v % 2 == 1:\n",
    "                o_cnt += 1\n",
    "        # 最少构成 o_cnt 个回文才能是合法的\n",
    "        if k < o_cnt:\n",
    "            return False\n",
    "        return True"
   ]
  },
  {
   "cell_type": "code",
   "execution_count": 60,
   "metadata": {},
   "outputs": [
    {
     "data": {
      "text/plain": [
       "True"
      ]
     },
     "execution_count": 60,
     "metadata": {},
     "output_type": "execute_result"
    }
   ],
   "source": [
    "solution = Solution()\n",
    "solution.canConstruct(s = \"yzyzyzyzyzyzyzy\", k = 2)"
   ]
  },
  {
   "cell_type": "code",
   "execution_count": null,
   "metadata": {},
   "outputs": [],
   "source": [
    "print(o_cnt, e_cnt)\n",
    "if o_cnt - e_cnt <= k - e_cnt: # 剩余出现次数为奇数的数字只能自己组成回文\n",
    "    return True"
   ]
  }
 ],
 "metadata": {
  "kernelspec": {
   "display_name": "Python 3",
   "language": "python",
   "name": "python3"
  },
  "language_info": {
   "codemirror_mode": {
    "name": "ipython",
    "version": 3
   },
   "file_extension": ".py",
   "mimetype": "text/x-python",
   "name": "python",
   "nbconvert_exporter": "python",
   "pygments_lexer": "ipython3",
   "version": "3.6.2"
  }
 },
 "nbformat": 4,
 "nbformat_minor": 4
}
