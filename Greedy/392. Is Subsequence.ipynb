{
 "cells": [
  {
   "cell_type": "raw",
   "metadata": {},
   "source": [
    "问题描述：给定一个字符串s和另一个字符串t，判断s是不是t的子集。\n",
    "例题1：\n",
    "    Input: s = \"abc\", t = \"ahbgdc\"\n",
    "    Output: true\n",
    "例题2：\n",
    "    Input: s = \"axc\", t = \"ahbgdc\"\n",
    "    Output: false"
   ]
  },
  {
   "cell_type": "code",
   "execution_count": 19,
   "metadata": {},
   "outputs": [],
   "source": [
    "class Solution:\n",
    "    def isSubsequence(self, s: str, t: str) -> bool:\n",
    "        if len(s) == 0:\n",
    "            return True\n",
    "        \n",
    "        match_index = []\n",
    "        for sub_s in s:\n",
    "            try:\n",
    "                index = list(t).index(sub_s)\n",
    "                match_index.append(index)\n",
    "            except:\n",
    "                return False\n",
    "        for index in range(1, len(match_index)):\n",
    "            if match_index[index] - match_index[index - 1] < 0:\n",
    "                return False\n",
    "        print(match_index)\n",
    "        return True        "
   ]
  },
  {
   "cell_type": "code",
   "execution_count": 20,
   "metadata": {},
   "outputs": [
    {
     "name": "stdout",
     "output_type": "stream",
     "text": [
      "[2, 2, 2, 2, 2, 2]\n"
     ]
    },
    {
     "data": {
      "text/plain": [
       "True"
      ]
     },
     "execution_count": 20,
     "metadata": {},
     "output_type": "execute_result"
    }
   ],
   "source": [
    "solution = Solution()\n",
    "solution.isSubsequence(\"aaaaaa\", \"bbaaaa\")"
   ]
  },
  {
   "cell_type": "code",
   "execution_count": null,
   "metadata": {},
   "outputs": [],
   "source": [
    "class Solution:\n",
    "    def isSubsequence(self, s: str, t: str) -> bool:\n",
    "        s_index, t_index = 0, 0\n",
    "        while s_index < len(s) and t_index < t:\n",
    "            if s[s_index] == t[t_index]:\n",
    "                s_index += 1\n",
    "            t_index += 1\n",
    "        return s_index == len(s)"
   ]
  }
 ],
 "metadata": {
  "kernelspec": {
   "display_name": "TF2",
   "language": "python",
   "name": "tf2"
  },
  "language_info": {
   "codemirror_mode": {
    "name": "ipython",
    "version": 3
   },
   "file_extension": ".py",
   "mimetype": "text/x-python",
   "name": "python",
   "nbconvert_exporter": "python",
   "pygments_lexer": "ipython3",
   "version": "3.6.2"
  }
 },
 "nbformat": 4,
 "nbformat_minor": 4
}
