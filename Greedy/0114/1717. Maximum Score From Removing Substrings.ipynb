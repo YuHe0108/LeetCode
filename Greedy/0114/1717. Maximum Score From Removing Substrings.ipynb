{
 "cells": [
  {
   "cell_type": "code",
   "execution_count": null,
   "metadata": {},
   "outputs": [],
   "source": []
  },
  {
   "cell_type": "code",
   "execution_count": null,
   "metadata": {},
   "outputs": [],
   "source": []
  },
  {
   "cell_type": "code",
   "execution_count": 44,
   "metadata": {},
   "outputs": [],
   "source": [
    "class Solution:\n",
    "    def maximumGain(self, s: str, x: int, y: int) -> int:\n",
    "        # Y > X: 优先删除 ‘ba’， 否则优先删除 ‘ab'\n",
    "        # 使用栈\n",
    "        stack = []\n",
    "        res = 0\n",
    "        s += '#'\n",
    "        for v in s:\n",
    "            if v != 'a' and v != 'b':\n",
    "                k = min(stack.count('a'), stack.count('b'))\n",
    "                if x > y:\n",
    "                    res += y * k\n",
    "                else:\n",
    "                    res += x * k\n",
    "                stack = []\n",
    "            else:\n",
    "                stack.append(v)\n",
    "                if x > y:\n",
    "                    while len(stack) >= 2 and stack[-2] == 'a' and stack[-1] == 'b':\n",
    "                        stack.pop()\n",
    "                        stack.pop()\n",
    "                        res += x\n",
    "                else:\n",
    "                    while len(stack) >= 2 and stack[-2] == 'b' and stack[-1] == 'a':\n",
    "                        stack.pop()\n",
    "                        stack.pop()\n",
    "                        res += y\n",
    "        return res"
   ]
  },
  {
   "cell_type": "code",
   "execution_count": 45,
   "metadata": {},
   "outputs": [
    {
     "data": {
      "text/plain": [
       "112374"
      ]
     },
     "execution_count": 45,
     "metadata": {},
     "output_type": "execute_result"
    }
   ],
   "source": [
    "solution = Solution()\n",
    "solution.maximumGain(\"aabbabkbbbfvybssbtaobaaaabataaadabbbmakgabbaoapbbbbobaabvqhbbzbbkapabaavbbeghacabamdpaaqbqabbjbababmbakbaabajabasaabbwabrbbaabbafubayaazbbbaababbaaha\",\n",
    "                     1926,\n",
    "                     4320)"
   ]
  },
  {
   "cell_type": "code",
   "execution_count": 33,
   "metadata": {},
   "outputs": [
    {
     "data": {
      "text/plain": [
       "112374"
      ]
     },
     "execution_count": 33,
     "metadata": {},
     "output_type": "execute_result"
    }
   ],
   "source": [
    "100818 + 6 * 1926"
   ]
  },
  {
   "cell_type": "code",
   "execution_count": 37,
   "metadata": {},
   "outputs": [
    {
     "data": {
      "text/plain": [
       "2"
      ]
     },
     "execution_count": 37,
     "metadata": {},
     "output_type": "execute_result"
    }
   ],
   "source": [
    "a = [1,2,1]\n",
    "a.count(1)"
   ]
  },
  {
   "cell_type": "code",
   "execution_count": null,
   "metadata": {},
   "outputs": [],
   "source": []
  }
 ],
 "metadata": {
  "kernelspec": {
   "display_name": "Python 3",
   "language": "python",
   "name": "python3"
  },
  "language_info": {
   "codemirror_mode": {
    "name": "ipython",
    "version": 3
   },
   "file_extension": ".py",
   "mimetype": "text/x-python",
   "name": "python",
   "nbconvert_exporter": "python",
   "pygments_lexer": "ipython3",
   "version": "3.6.2"
  }
 },
 "nbformat": 4,
 "nbformat_minor": 4
}
