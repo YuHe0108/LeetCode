{
 "cells": [
  {
   "cell_type": "code",
   "execution_count": null,
   "metadata": {},
   "outputs": [],
   "source": [
    "        bin_list = [''] * n\n",
    "        one_idx = deque() # 记录 1 idx的位置\n",
    "        for i in range(n):\n",
    "            if binary[i] == '0':\n",
    "                if one_idx:\n",
    "                    idx = one_idx.popleft()\n",
    "                    bin_list[idx], bin_list[i] = '0', '1'\n",
    "                else:\n",
    "                    bin_list[i] = '0'\n",
    "            else:\n",
    "                bin_list[i] = '1'\n",
    "                one_idx.append(i)\n",
    "        return bin_list\n",
    "        "
   ]
  },
  {
   "cell_type": "code",
   "execution_count": null,
   "metadata": {},
   "outputs": [],
   "source": [
    "res = ''\n",
    "idx = 0\n",
    "while idx < n:\n",
    "    if binary[idx] == '0' and idx + 1 < n:\n",
    "        res += '10'\n",
    "        idx += 1\n",
    "    else:\n",
    "        res += \n",
    "    idx += 1"
   ]
  },
  {
   "cell_type": "code",
   "execution_count": null,
   "metadata": {},
   "outputs": [],
   "source": [
    "idx = 0\n",
    "zero_count = 0\n",
    "res = ''\n",
    "while idx < n:\n",
    "    if binary[idx] == '0':\n",
    "        zero_count += 1\n",
    "    else:\n",
    "        if zero_count <= 1:\n",
    "            pass\n",
    "        else:\n",
    "            pass\n",
    "        zero_count = 0\n",
    "    idx += 1"
   ]
  },
  {
   "cell_type": "code",
   "execution_count": 35,
   "metadata": {},
   "outputs": [],
   "source": [
    "from collections import deque, Counter\n",
    "\n",
    "class Solution:\n",
    "    def maximumBinaryString(self, binary: str) -> str:\n",
    "        n = len(binary)\n",
    "        # 先把前面出现的00都换为10，如果这个时候后面还有0，就可以把后面的 0 提到前面来\n",
    "        # 如果 binary 字符串中 两个 1 之间的没有 0存在，说明可以停止了\n",
    "        # 第一步，将所有 1 后面的 0 都移到前面\n",
    "        count = Counter(binary)\n",
    "        zero_cnt = count['0']\n",
    "        if zero_cnt <= 1: # 小于等于1个0的情况都是不可行的\n",
    "            return binary\n",
    "        idx = binary.find('0') # idx之前是先导1\n",
    "        res = binary[:idx] + '1' * (count['0'] - 1) + '0' + '1' * (count['1'] - idx)\n",
    "        return res"
   ]
  },
  {
   "cell_type": "code",
   "execution_count": 36,
   "metadata": {},
   "outputs": [
    {
     "data": {
      "text/plain": [
       "'111111111111111111101111111111111111111'"
      ]
     },
     "execution_count": 36,
     "metadata": {},
     "output_type": "execute_result"
    }
   ],
   "source": [
    "solution = Solution()\n",
    "solution.maximumBinaryString(\"101010111011001101000110010001100001111\")"
   ]
  },
  {
   "cell_type": "code",
   "execution_count": 3,
   "metadata": {},
   "outputs": [
    {
     "data": {
      "text/plain": [
       "'1010'"
      ]
     },
     "execution_count": 3,
     "metadata": {},
     "output_type": "execute_result"
    }
   ],
   "source": [
    "'0000'.replace('00', '10')"
   ]
  },
  {
   "cell_type": "code",
   "execution_count": null,
   "metadata": {},
   "outputs": [],
   "source": [
    "'111111111111111111101111111111111111111'\n",
    "\"111111111111111111101111111111111111111\""
   ]
  },
  {
   "cell_type": "code",
   "execution_count": null,
   "metadata": {},
   "outputs": [],
   "source": []
  },
  {
   "cell_type": "code",
   "execution_count": 27,
   "metadata": {},
   "outputs": [
    {
     "data": {
      "text/plain": [
       "0"
      ]
     },
     "execution_count": 27,
     "metadata": {},
     "output_type": "execute_result"
    }
   ],
   "source": [
    "a = '001'\n",
    "a.find('0')"
   ]
  },
  {
   "cell_type": "code",
   "execution_count": null,
   "metadata": {},
   "outputs": [],
   "source": []
  }
 ],
 "metadata": {
  "kernelspec": {
   "display_name": "Python 3",
   "language": "python",
   "name": "python3"
  },
  "language_info": {
   "codemirror_mode": {
    "name": "ipython",
    "version": 3
   },
   "file_extension": ".py",
   "mimetype": "text/x-python",
   "name": "python",
   "nbconvert_exporter": "python",
   "pygments_lexer": "ipython3",
   "version": "3.6.2"
  }
 },
 "nbformat": 4,
 "nbformat_minor": 4
}
