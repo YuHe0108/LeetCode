{
 "cells": [
  {
   "cell_type": "raw",
   "metadata": {},
   "source": [
    "    问题描述：\n",
    "        给定一个数组 A, 其中的 n 个元素都是小写字母，并且长度相同。\n",
    "        现在，我们可以选择任何一组删除索引，并且对于每个字符串，删除这些索引中的所有字符。\n",
    "        例如，如果我们有一个数组A = [\"abcdef\",\"uvwxyz\"]和删除索引{0, 2, 3}，则删除后的最终数组为[\"bef\",\"vyz\"]。\n",
    "        假设我们选择了一组删除索引D，以使删除后的最终数组按字典顺序（A[0] <= A[1] <= A[2] ... <= A[A.length - 1]）具有其元素。\n",
    "\n",
    "    求：返回的最小可能值D.length。删除最少的元素\n",
    "   \n",
    "    例题1：\n",
    "        Input: [\"ca\",\"bb\",\"ac\"] \n",
    "        Output: 1\n",
    "        Explanation: \n",
    "        After deleting the first column, A = [\"a\", \"b\", \"c\"].\n",
    "        Now A is in lexicographic order (ie. A[0] <= A[1] <= A[2]).\n",
    "        We require at least 1 deletion since initially A was not in lexicographic order, so the answer is 1.\n",
    "        只要删除 所有元素的 index = 0 的元素就行\n",
    "    \n",
    "    例题2：\n",
    "        Input: [\"xc\",\"yb\",\"za\"]\n",
    "        Output: 0\n",
    "        Explanation: \n",
    "        A is already in lexicographic order, so we don't need to delete anything.\n",
    "        Note that the rows of A are not necessarily in lexicographic order:\n",
    "        ie. it is NOT necessarily true that (A[0][0] <= A[0][1] <= ...)\n",
    "    \n",
    "    例题3：\n",
    "        Input: [\"zyx\",\"wvu\",\"tsr\"]\n",
    "        Output: 3\n",
    "        Explanation: \n",
    "        We have to delete every column."
   ]
  },
  {
   "cell_type": "code",
   "execution_count": null,
   "metadata": {},
   "outputs": [],
   "source": []
  },
  {
   "cell_type": "markdown",
   "metadata": {},
   "source": [
    "#### 1、删除之后的元素，对应 index 的 都是按照字典中的顺序排列"
   ]
  },
  {
   "cell_type": "code",
   "execution_count": 15,
   "metadata": {},
   "outputs": [],
   "source": [
    "class Solution:\n",
    "    def minDeletionSize(self, A) -> int:\n",
    "        if sorted(A) == A or len(A) <= 1: return 0\n",
    "        del_count = 0\n",
    "        ele_len = len(A[0])\n",
    "        i = 0\n",
    "        while i < len(A):\n",
    "            pass\n",
    "        return del_count"
   ]
  },
  {
   "cell_type": "code",
   "execution_count": 16,
   "metadata": {},
   "outputs": [
    {
     "data": {
      "text/plain": [
       "0"
      ]
     },
     "execution_count": 16,
     "metadata": {},
     "output_type": "execute_result"
    }
   ],
   "source": [
    "A_ = [\"xc\",\"yb\",\"za\"]\n",
    "solution = Solution()\n",
    "solution.minDeletionSize(A_)"
   ]
  },
  {
   "cell_type": "code",
   "execution_count": 29,
   "metadata": {},
   "outputs": [
    {
     "name": "stdout",
     "output_type": "stream",
     "text": [
      "False\n"
     ]
    }
   ],
   "source": [
    "a = [\"zyx\",\"wvu\",\"tsr\"]\n",
    "print(a[0] <= a[1])"
   ]
  },
  {
   "cell_type": "code",
   "execution_count": null,
   "metadata": {},
   "outputs": [],
   "source": []
  }
 ],
 "metadata": {
  "kernelspec": {
   "display_name": "TF2",
   "language": "python",
   "name": "tf2"
  },
  "language_info": {
   "codemirror_mode": {
    "name": "ipython",
    "version": 3
   },
   "file_extension": ".py",
   "mimetype": "text/x-python",
   "name": "python",
   "nbconvert_exporter": "python",
   "pygments_lexer": "ipython3",
   "version": "3.6.2"
  }
 },
 "nbformat": 4,
 "nbformat_minor": 4
}
