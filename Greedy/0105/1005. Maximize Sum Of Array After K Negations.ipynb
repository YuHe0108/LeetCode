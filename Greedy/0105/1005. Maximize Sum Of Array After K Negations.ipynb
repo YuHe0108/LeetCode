{
 "cells": [
  {
   "cell_type": "code",
   "execution_count": 1,
   "metadata": {},
   "outputs": [],
   "source": [
    "a = [-1, -2, -3]"
   ]
  },
  {
   "cell_type": "code",
   "execution_count": 4,
   "metadata": {},
   "outputs": [],
   "source": [
    "a.sort(reverse=True)"
   ]
  },
  {
   "cell_type": "code",
   "execution_count": 5,
   "metadata": {},
   "outputs": [
    {
     "data": {
      "text/plain": [
       "[-1, -2, -3]"
      ]
     },
     "execution_count": 5,
     "metadata": {},
     "output_type": "execute_result"
    }
   ],
   "source": [
    "a"
   ]
  },
  {
   "cell_type": "code",
   "execution_count": null,
   "metadata": {},
   "outputs": [],
   "source": []
  },
  {
   "cell_type": "code",
   "execution_count": 169,
   "metadata": {},
   "outputs": [],
   "source": [
    "class Solution:\n",
    "    def largestSumAfterKNegations(self, A: List[int], K: int) -> int:\n",
    "        A.sort()\n",
    "        i = 0\n",
    "        while A[i] < 0 and K > 0:\n",
    "            A[i] = -A[i]\n",
    "            i += 1\n",
    "            K -= 1\n",
    "        if K > 0 and K % 2 == 1:\n",
    "            print(A)\n",
    "            print(A[i], A[i-1])\n",
    "            less = i if A[i] < A[i-1] else i-1\n",
    "            A[less] = -A[less]\n",
    "        return sum(A)"
   ]
  },
  {
   "cell_type": "code",
   "execution_count": 170,
   "metadata": {},
   "outputs": [
    {
     "name": "stdout",
     "output_type": "stream",
     "text": [
      "[5, 2, 3, 5, 6, 9]\n",
      "3 2\n"
     ]
    },
    {
     "data": {
      "text/plain": [
       "26"
      ]
     },
     "execution_count": 170,
     "metadata": {},
     "output_type": "execute_result"
    }
   ],
   "source": [
    "solution = Solution()\n",
    "solution.largestSumAfterKNegations([-5, 5,6,9,-2,3], 5)"
   ]
  },
  {
   "cell_type": "code",
   "execution_count": null,
   "metadata": {},
   "outputs": [],
   "source": []
  },
  {
   "cell_type": "code",
   "execution_count": null,
   "metadata": {},
   "outputs": [],
   "source": []
  },
  {
   "cell_type": "code",
   "execution_count": 152,
   "metadata": {},
   "outputs": [],
   "source": [
    "from typing import List\n",
    "\n",
    "class Solution:\n",
    "    def largestSumAfterKNegations(self, A: List[int], K: int) -> int:\n",
    "        pos_A = [abs(x) for x in A]\n",
    "        pos_A.sort()\n",
    "        neg_nums = [x for x in A if x <= 0]\n",
    "        neg_sum = sum(neg_nums)\n",
    "        pos_sum = sum(A) - neg_sum\n",
    "        if not neg_nums:\n",
    "            if K % 2 == 0:\n",
    "                return pos_sum\n",
    "            else:\n",
    "                return pos_sum - pos_A[0] * 2\n",
    "        else:\n",
    "            pos_sum -= neg_sum\n",
    "            neg_nums.sort(reverse=True)\n",
    "            if K >= len(neg_nums):\n",
    "                K -= len(neg_nums)\n",
    "                if K % 2 == 1:\n",
    "                    pos_sum -= pos_A[0] * 2\n",
    "            else:\n",
    "                for i in range(len(neg_nums) - K):\n",
    "                    pos_sum += neg_nums[i] * 2\n",
    "        return pos_sum"
   ]
  },
  {
   "cell_type": "code",
   "execution_count": 155,
   "metadata": {},
   "outputs": [
    {
     "data": {
      "text/plain": [
       "20"
      ]
     },
     "execution_count": 155,
     "metadata": {},
     "output_type": "execute_result"
    }
   ],
   "source": [
    "solution = Solution()\n",
    "solution.largestSumAfterKNegations([5,6,9,-3,3], 2)"
   ]
  },
  {
   "cell_type": "code",
   "execution_count": 10,
   "metadata": {},
   "outputs": [
    {
     "data": {
      "text/plain": [
       "0"
      ]
     },
     "execution_count": 10,
     "metadata": {},
     "output_type": "execute_result"
    }
   ],
   "source": [
    "sum([])"
   ]
  },
  {
   "cell_type": "code",
   "execution_count": 124,
   "metadata": {},
   "outputs": [
    {
     "data": {
      "text/plain": [
       "2"
      ]
     },
     "execution_count": 124,
     "metadata": {},
     "output_type": "execute_result"
    }
   ],
   "source": [
    "2 // 1"
   ]
  },
  {
   "cell_type": "code",
   "execution_count": 149,
   "metadata": {},
   "outputs": [],
   "source": [
    "[5,6,9,-3,3]      20\n",
    "2\n",
    "\n",
    "[-2,9,9,8,4]      32\n",
    "5"
   ]
  },
  {
   "cell_type": "code",
   "execution_count": null,
   "metadata": {},
   "outputs": [],
   "source": []
  }
 ],
 "metadata": {
  "kernelspec": {
   "display_name": "Python 3",
   "language": "python",
   "name": "python3"
  },
  "language_info": {
   "codemirror_mode": {
    "name": "ipython",
    "version": 3
   },
   "file_extension": ".py",
   "mimetype": "text/x-python",
   "name": "python",
   "nbconvert_exporter": "python",
   "pygments_lexer": "ipython3",
   "version": "3.6.2"
  }
 },
 "nbformat": 4,
 "nbformat_minor": 4
}
