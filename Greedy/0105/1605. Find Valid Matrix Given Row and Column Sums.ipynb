{
 "cells": [
  {
   "cell_type": "code",
   "execution_count": null,
   "metadata": {},
   "outputs": [],
   "source": []
  },
  {
   "cell_type": "code",
   "execution_count": null,
   "metadata": {},
   "outputs": [],
   "source": []
  },
  {
   "cell_type": "code",
   "execution_count": 1,
   "metadata": {},
   "outputs": [],
   "source": [
    "from typing import List\n",
    "\n",
    "class Solution:\n",
    "    def restoreMatrix(self, rowSum: List[int], colSum: List[int]) -> List[List[int]]:\n",
    "        rows, cols = len(rowSum), len(colSum)\n",
    "        res = [[0] * cols for _ in range(rows)]\n",
    "        for r in range(rows-1):\n",
    "            for j in range(cols):\n",
    "                if j == cols-1:\n",
    "                    pass\n",
    "                \n",
    "        \n",
    "        return res"
   ]
  },
  {
   "cell_type": "code",
   "execution_count": null,
   "metadata": {},
   "outputs": [],
   "source": []
  },
  {
   "cell_type": "code",
   "execution_count": 3,
   "metadata": {},
   "outputs": [],
   "source": [
    "from typing import List\n",
    "\n",
    "class Solution:\n",
    "    def restoreMatrix(self, rowSum: List[int], colSum: List[int]) -> List[List[int]]:\n",
    "        rows, cols = len(rowSum), len(colSum)\n",
    "        res = [[0] * cols for _ in range(rows)]\n",
    "        \n",
    "        for i in range(rows):\n",
    "            for j in range(cols):\n",
    "                res[i][j] = min(rowSum[i], colSum[j])\n",
    "                rowSum[i] -= res[i][j]\n",
    "                colSum[j] -= res[i][j]\n",
    "        return res"
   ]
  },
  {
   "cell_type": "code",
   "execution_count": 4,
   "metadata": {},
   "outputs": [
    {
     "data": {
      "text/plain": [
       "[[3, 0], [1, 7]]"
      ]
     },
     "execution_count": 4,
     "metadata": {},
     "output_type": "execute_result"
    }
   ],
   "source": [
    "solution = Solution()\n",
    "solution.restoreMatrix(rowSum = [3,8], \n",
    "                       colSum = [4,7])"
   ]
  },
  {
   "cell_type": "code",
   "execution_count": null,
   "metadata": {},
   "outputs": [],
   "source": [
    "class Solution:\n",
    "    def restoreMatrix(self, rowSum: List[int], colSum: List[int]) -> List[List[int]]:\n",
    "        n,m = len(rowSum), len(colSum)\n",
    "        ans = [[0]*m for _ in range(n)]\n",
    "        idx = 0\n",
    "        for i in range(n):\n",
    "            for j in range(idx,m):\n",
    "                ans[i][j] = min(rowSum[i], colSum[j])\n",
    "                rowSum[i] -= ans[i][j]\n",
    "                colSum[j] -= ans[i][j]\n",
    "                if rowSum[i] == 0: # 当前行已经变化为0 后续ans[i][j]必然为0 所以break并进入下一行\n",
    "                    break\n",
    "                if colSum[j]  ==0: # 当前列已经变化为0 后续凡是遇到第j列 ans[i][j]必然为0\n",
    "                    # assert idx==j 加上这一行可以检验下面论述的正确性 \n",
    "                    # 如果colSum[j] != idx 那么说明第i行开始遍历的过程中 存在j之前的某一列不为0\n",
    "                    # 那么此时rowSum[i]一定已经被置为0 在上一个逻辑判断中已经break掉 不可能再进到这一部分的逻辑判断\n",
    "                    idx += 1 # 根据论述 当前的j==idx 所以idx+=1 从下一行开始从idx+1开始遍历\n",
    "        return ans"
   ]
  }
 ],
 "metadata": {
  "kernelspec": {
   "display_name": "Python 3",
   "language": "python",
   "name": "python3"
  },
  "language_info": {
   "codemirror_mode": {
    "name": "ipython",
    "version": 3
   },
   "file_extension": ".py",
   "mimetype": "text/x-python",
   "name": "python",
   "nbconvert_exporter": "python",
   "pygments_lexer": "ipython3",
   "version": "3.6.2"
  }
 },
 "nbformat": 4,
 "nbformat_minor": 4
}
