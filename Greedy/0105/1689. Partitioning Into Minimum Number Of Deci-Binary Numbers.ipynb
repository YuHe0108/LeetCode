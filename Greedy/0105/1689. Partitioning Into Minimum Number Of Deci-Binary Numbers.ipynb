{
 "cells": [
  {
   "cell_type": "code",
   "execution_count": 25,
   "metadata": {},
   "outputs": [
    {
     "data": {
      "text/plain": [
       "16235098719598071235"
      ]
     },
     "execution_count": 25,
     "metadata": {},
     "output_type": "execute_result"
    }
   ],
   "source": [
    "27346209830709182346 - 11111111111111111111\n"
   ]
  },
  {
   "cell_type": "code",
   "execution_count": null,
   "metadata": {},
   "outputs": [],
   "source": [
    "class Solution:\n",
    "    def minPartitions(self, n: str) -> int:\n",
    "        return int(max(n))"
   ]
  },
  {
   "cell_type": "code",
   "execution_count": 22,
   "metadata": {},
   "outputs": [],
   "source": [
    "class Solution:\n",
    "    def minPartitions(self, n: str) -> int:\n",
    "        cnt = 0\n",
    "        list_n = list(n)\n",
    "        while list_n != ['0'] * len(n):\n",
    "            val = ''\n",
    "            for i in range(len(n)):\n",
    "                if list_n[i] != '0':\n",
    "                    list_n[i] = str(int(list_n[i]) - 1)\n",
    "                    val += '1'\n",
    "                else:\n",
    "                    val += '0'\n",
    "            cnt += 1\n",
    "        return cnt"
   ]
  },
  {
   "cell_type": "code",
   "execution_count": 24,
   "metadata": {},
   "outputs": [
    {
     "name": "stdout",
     "output_type": "stream",
     "text": [
      "11111101110101111111 ['1', '6', '2', '3', '5', '1', '0', '8', '7', '2', '0', '6', '0', '8', '0', '7', '1', '2', '3', '5']\n",
      "11111101110101011111 ['0', '5', '1', '2', '4', '0', '0', '7', '6', '1', '0', '5', '0', '7', '0', '6', '0', '1', '2', '4']\n",
      "01111001110101010111 ['0', '4', '0', '1', '3', '0', '0', '6', '5', '0', '0', '4', '0', '6', '0', '5', '0', '0', '1', '3']\n",
      "01011001100101010011 ['0', '3', '0', '0', '2', '0', '0', '5', '4', '0', '0', '3', '0', '5', '0', '4', '0', '0', '0', '2']\n",
      "01001001100101010001 ['0', '2', '0', '0', '1', '0', '0', '4', '3', '0', '0', '2', '0', '4', '0', '3', '0', '0', '0', '1']\n",
      "01001001100101010001 ['0', '1', '0', '0', '0', '0', '0', '3', '2', '0', '0', '1', '0', '3', '0', '2', '0', '0', '0', '0']\n",
      "01000001100101010000 ['0', '0', '0', '0', '0', '0', '0', '2', '1', '0', '0', '0', '0', '2', '0', '1', '0', '0', '0', '0']\n",
      "00000001100001010000 ['0', '0', '0', '0', '0', '0', '0', '1', '0', '0', '0', '0', '0', '1', '0', '0', '0', '0', '0', '0']\n",
      "00000001000001000000 ['0', '0', '0', '0', '0', '0', '0', '0', '0', '0', '0', '0', '0', '0', '0', '0', '0', '0', '0', '0']\n"
     ]
    },
    {
     "data": {
      "text/plain": [
       "9"
      ]
     },
     "execution_count": 24,
     "metadata": {},
     "output_type": "execute_result"
    }
   ],
   "source": [
    "solution = Solution()\n",
    "solution.minPartitions(n = \"27346209830709182346\")"
   ]
  },
  {
   "cell_type": "code",
   "execution_count": null,
   "metadata": {},
   "outputs": [],
   "source": []
  },
  {
   "cell_type": "code",
   "execution_count": null,
   "metadata": {},
   "outputs": [],
   "source": []
  }
 ],
 "metadata": {
  "kernelspec": {
   "display_name": "Python 3",
   "language": "python",
   "name": "python3"
  },
  "language_info": {
   "codemirror_mode": {
    "name": "ipython",
    "version": 3
   },
   "file_extension": ".py",
   "mimetype": "text/x-python",
   "name": "python",
   "nbconvert_exporter": "python",
   "pygments_lexer": "ipython3",
   "version": "3.6.2"
  }
 },
 "nbformat": 4,
 "nbformat_minor": 4
}
