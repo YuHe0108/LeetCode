{
 "cells": [
  {
   "cell_type": "raw",
   "metadata": {},
   "source": [
    "问题描述：\n",
    "    您将得到一个整数数组prices，其中i-th元素是给定股票在当天的价格i；\n",
    "    非负整数fee代表交易费用。\n",
    "    您可以根据需要完成任意数量的交易，但是您需要为每笔交易支付交易费。\n",
    "    您一次只能购买不超过1股的股票（即必须先出售股票才能再次购买。）\n",
    "    求：返回您可以赚取的最大利润。\n",
    "\n",
    "例题1：\n",
    "    Input: prices = [1, 3, 2, 8, 4, 9], fee = 2\n",
    "    Output: 8\n",
    "    Explanation: The maximum profit can be achieved by:\n",
    "    Buying at prices[0] = 1\n",
    "    Selling at prices[3] = 8\n",
    "    Buying at prices[4] = 4\n",
    "    Selling at prices[5] = 9\n",
    "    The total profit is ((8 - 1) - 2) + ((9 - 4) - 2) = 8."
   ]
  },
  {
   "cell_type": "code",
   "execution_count": 2,
   "metadata": {},
   "outputs": [],
   "source": [
    "class Solution:\n",
    "    def maxProfit(self, prices, fee: int) -> int:\n",
    "        # 动态规划的方法\n",
    "        hold = -float('inf')/2\n",
    "        sold = 0\n",
    "        for price in prices:\n",
    "            print(hold, sold, price, 'before')\n",
    "            # 选择买进或者不买进\n",
    "            hold = max(hold, sold - price) # sold, 是现在手中的前， sold-price=剩余的钱\n",
    "            # 选择卖出或不卖出\n",
    "            sold = max(sold, hold + price - fee)\n",
    "            print(hold, sold, price, 'after')\n",
    "        return sold"
   ]
  },
  {
   "cell_type": "code",
   "execution_count": 3,
   "metadata": {},
   "outputs": [
    {
     "name": "stdout",
     "output_type": "stream",
     "text": [
      "-inf 0 100 before\n",
      "-100 0 100 after\n",
      "-100 0 3 before\n",
      "-3 0 3 after\n",
      "-3 0 2 before\n",
      "-2 0 2 after\n",
      "-2 0 8 before\n",
      "-2 4 8 after\n",
      "-2 4 4 before\n",
      "0 4 4 after\n",
      "0 4 9 before\n",
      "0 7 9 after\n"
     ]
    },
    {
     "data": {
      "text/plain": [
       "7"
      ]
     },
     "execution_count": 3,
     "metadata": {},
     "output_type": "execute_result"
    }
   ],
   "source": [
    "prices_ = [100, 3, 2, 8, 4, 9]\n",
    "fee_ = 2\n",
    "solution = Solution()\n",
    "solution.maxProfit(prices_, fee_)"
   ]
  },
  {
   "cell_type": "markdown",
   "metadata": {},
   "source": [
    "### 动态规划的特点，每个值都有选或不选两个选择"
   ]
  },
  {
   "cell_type": "code",
   "execution_count": 18,
   "metadata": {},
   "outputs": [],
   "source": [
    "class Solution:\n",
    "    def maxProfit(self, prices, fee: int) -> int:\n",
    "        # 动态规划的方法，对于每一天，都可以选则买进、或者卖出\n",
    "        pass"
   ]
  },
  {
   "cell_type": "code",
   "execution_count": 19,
   "metadata": {},
   "outputs": [],
   "source": [
    "prices_ = [100, 3, 2, 8, 4, 9]\n",
    "fee_ = 2\n",
    "solution = Solution()\n",
    "solution.maxProfit(prices_, fee_)"
   ]
  },
  {
   "cell_type": "code",
   "execution_count": null,
   "metadata": {},
   "outputs": [],
   "source": []
  },
  {
   "cell_type": "code",
   "execution_count": null,
   "metadata": {},
   "outputs": [],
   "source": []
  }
 ],
 "metadata": {
  "kernelspec": {
   "display_name": "TF2",
   "language": "python",
   "name": "tf2"
  },
  "language_info": {
   "codemirror_mode": {
    "name": "ipython",
    "version": 3
   },
   "file_extension": ".py",
   "mimetype": "text/x-python",
   "name": "python",
   "nbconvert_exporter": "python",
   "pygments_lexer": "ipython3",
   "version": "3.6.2"
  }
 },
 "nbformat": 4,
 "nbformat_minor": 4
}
