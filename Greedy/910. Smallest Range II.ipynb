{
 "cells": [
  {
   "cell_type": "markdown",
   "metadata": {},
   "source": [
    "#### 问题描述\n",
    "        给定一个数组A的整数，对于每个整数A[i]，\n",
    "        我们需要选择两种  x = -K 或x = K，并添加x到 A[i] (only once)\n",
    "        经过这个过程，我们有了一些array B。\n",
    "        求让 max(B) - min(B) 的最小值\n",
    "     \n",
    "     例题1：\n",
    "         Input: A = [1], K = 0\n",
    "         Output: 0\n",
    "         Explanation: B = [1], 不管如何加减，A的最大值和最小值都是1，差值为0\n",
    "     \n",
    "     例题2：\n",
    "         Input: A = [0,10], K = 2\n",
    "         Output: 6\n",
    "         Explanation: B = [2,8]\n",
    "      \n",
    "      例题3：\n",
    "          Input: A = [1,3,6], K = 3\n",
    "          Output: 3\n",
    "          Explanation: B = [4,6,3]\n",
    "         "
   ]
  },
  {
   "cell_type": "code",
   "execution_count": 30,
   "metadata": {},
   "outputs": [],
   "source": [
    "class Solution:\n",
    "    def smallestRangeII(self, A, K: int) -> int:\n",
    "        # 可以简化为每个数值必须加上0或者加上2*K。\n",
    "        # 先对数组进行排序，然后从小到大每个元素依次加上2*K，更新最大值，最小值和差值，\n",
    "        if len(A) <= 1: return 0\n",
    "        if K == 0: return max(A) - min(A)\n",
    "        A.sort()\n",
    "        res = A[-1] - A[0] # 当前的最大差异\n",
    "        for i in range(len(A) - 1):\n",
    "            big = max(A[-1], A[i] + 2 * K)\n",
    "            small = min(A[i + 1], A[0] + 2 * K)\n",
    "            res = min(res, big - small)\n",
    "        return res"
   ]
  },
  {
   "cell_type": "code",
   "execution_count": 31,
   "metadata": {},
   "outputs": [
    {
     "name": "stdout",
     "output_type": "stream",
     "text": [
      "4 10\n",
      "6 14\n"
     ]
    },
    {
     "data": {
      "text/plain": [
       "6"
      ]
     },
     "execution_count": 31,
     "metadata": {},
     "output_type": "execute_result"
    }
   ],
   "source": [
    "A_ = [6,4,10]\n",
    "K_ = 5\n",
    "solution = Solution()\n",
    "solution.smallestRangeII(A_, K_)"
   ]
  },
  {
   "cell_type": "code",
   "execution_count": null,
   "metadata": {},
   "outputs": [],
   "source": []
  }
 ],
 "metadata": {
  "kernelspec": {
   "display_name": "TF2",
   "language": "python",
   "name": "tf2"
  },
  "language_info": {
   "codemirror_mode": {
    "name": "ipython",
    "version": 3
   },
   "file_extension": ".py",
   "mimetype": "text/x-python",
   "name": "python",
   "nbconvert_exporter": "python",
   "pygments_lexer": "ipython3",
   "version": "3.6.2"
  }
 },
 "nbformat": 4,
 "nbformat_minor": 4
}
