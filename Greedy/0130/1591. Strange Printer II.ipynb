{
 "cells": [
  {
   "cell_type": "code",
   "execution_count": null,
   "metadata": {},
   "outputs": [],
   "source": []
  },
  {
   "cell_type": "code",
   "execution_count": null,
   "metadata": {},
   "outputs": [],
   "source": []
  },
  {
   "cell_type": "code",
   "execution_count": 102,
   "metadata": {},
   "outputs": [],
   "source": [
    "from typing import List\n",
    "from collections import defaultdict, deque\n",
    "\n",
    "class Solution:\n",
    "    def isPrintable(self, targetGrid: List[List[int]]) -> bool:\n",
    "        # 1、首先需要直到每个 坐标都出现过哪些数字\n",
    "        # 2、判断先后顺序\n",
    "        # 3、是否存在环\n",
    "        def dfs(cur):\n",
    "            nonlocal visited\n",
    "            if visited[cur] == 1:\n",
    "                return False\n",
    "            visited[cur] = 2\n",
    "            for nxt in graph[cur]:\n",
    "                if visited[nxt] == 1:\n",
    "                    continue\n",
    "                if visited[nxt] == 2:\n",
    "                    return True\n",
    "                if dfs(nxt) is True:\n",
    "                    return True\n",
    "            visited[cur] = 1\n",
    "            return False\n",
    "        \n",
    "        colors = set()\n",
    "        rows, cols = len(targetGrid), len(targetGrid[0])\n",
    "        count = defaultdict(list)\n",
    "        for i in range(rows):\n",
    "            for j in range(cols):\n",
    "                count[targetGrid[i][j]].append((i, j))\n",
    "                colors.add(targetGrid[i][j])\n",
    "        \n",
    "        area = defaultdict(list) # 每个数字出现的区域\n",
    "        for k, v in count.items():\n",
    "            l, r, u, d = float('inf'), -float('inf'), float('inf'), -float('inf')\n",
    "            for x, y in v:\n",
    "                l = min(l, x)\n",
    "                r = max(r, x)\n",
    "                u = min(u, y)\n",
    "                d = max(d, y)\n",
    "            area[k] = [l, r, u, d]\n",
    "        \n",
    "        # 判断每个 坐标中曾经出现过哪些数字\n",
    "        grid = defaultdict(list)\n",
    "        for v, [l, r, u, d] in area.items():\n",
    "            for i in range(l, r+1):\n",
    "                for j in range(u, d+1):\n",
    "                    if targetGrid[i][j] == v:\n",
    "                        continue\n",
    "                    grid[(i, j)].append(v)\n",
    "        \n",
    "        # 构建图, 判断数字出现的先后顺序是否有矛盾\n",
    "        graph = defaultdict(set)\n",
    "        for c, v in grid.items():\n",
    "            if not v:\n",
    "                continue\n",
    "            for a in v:\n",
    "                graph[targetGrid[c[0]][c[1]]].add(a)\n",
    "\n",
    "        visited = [0] * 61\n",
    "        for c in colors:\n",
    "            if dfs(c): # 从任意的起点开始遍历，查看是否有环存在\n",
    "                return False\n",
    "        return True"
   ]
  },
  {
   "cell_type": "code",
   "execution_count": null,
   "metadata": {},
   "outputs": [],
   "source": []
  },
  {
   "cell_type": "code",
   "execution_count": 104,
   "metadata": {},
   "outputs": [],
   "source": [
    "from typing import List\n",
    "from collections import defaultdict, deque\n",
    "\n",
    "class Solution:\n",
    "    def isPrintable(self, targetGrid: List[List[int]]) -> bool:\n",
    "        # 1、首先需要直到每个 坐标都出现过哪些数字\n",
    "        # 2、判断先后顺序\n",
    "        # 3、是否存在环\n",
    "        def dfs(cur):\n",
    "            nonlocal visited\n",
    "            if visited[cur] == 1:\n",
    "                return False\n",
    "            visited[cur] = 2\n",
    "            for nxt in graph[cur]:\n",
    "                if visited[nxt] == 1:\n",
    "                    continue\n",
    "                if visited[nxt] == 2:\n",
    "                    return True\n",
    "                if dfs(nxt) is True:\n",
    "                    return True\n",
    "            visited[cur] = 1\n",
    "            return False\n",
    "        \n",
    "        colors = set()\n",
    "        rows, cols = len(targetGrid), len(targetGrid[0])\n",
    "        count = defaultdict(list)\n",
    "        for i in range(rows):\n",
    "            for j in range(cols):\n",
    "                count[targetGrid[i][j]].append((i, j))\n",
    "                colors.add(targetGrid[i][j])\n",
    "        \n",
    "        area = defaultdict(list) # 每个数字出现的区域\n",
    "        for k, v in count.items():\n",
    "            l, r, u, d = float('inf'), -float('inf'), float('inf'), -float('inf')\n",
    "            for x, y in v:\n",
    "                l = min(l, x)\n",
    "                r = max(r, x)\n",
    "                u = min(u, y)\n",
    "                d = max(d, y)\n",
    "            area[k] = [l, r, u, d]\n",
    "        \n",
    "        # 判断每个 坐标中曾经出现过哪些数字\n",
    "        graph = defaultdict(set)\n",
    "        for v, [l, r, u, d] in area.items():\n",
    "            for i in range(l, r+1):\n",
    "                for j in range(u, d+1):\n",
    "                    if targetGrid[i][j] == v:\n",
    "                        continue\n",
    "                    graph[v].add(targetGrid[i][j])\n",
    "\n",
    "        visited = [0] * 61\n",
    "        for c in colors:\n",
    "            if dfs(c): # 从任意的起点开始遍历，查看是否有环存在\n",
    "                return False\n",
    "        return True"
   ]
  },
  {
   "cell_type": "code",
   "execution_count": 105,
   "metadata": {},
   "outputs": [
    {
     "data": {
      "text/plain": [
       "True"
      ]
     },
     "execution_count": 105,
     "metadata": {},
     "output_type": "execute_result"
    }
   ],
   "source": [
    "solution = Solution()\n",
    "solution.isPrintable([[6,2,2,5],\n",
    "                      [2,2,2,5],\n",
    "                      [2,2,2,5],\n",
    "                      [4,3,3,4]])"
   ]
  },
  {
   "cell_type": "code",
   "execution_count": 25,
   "metadata": {},
   "outputs": [
    {
     "data": {
      "text/plain": [
       "{(0, 0): [1],\n",
       " (0, 1): [1],\n",
       " (0, 2): [1],\n",
       " (0, 3): [1],\n",
       " (1, 0): [1],\n",
       " (1, 1): [1],\n",
       " (1, 2): [1, 3],\n",
       " (1, 3): [1, 3],\n",
       " (2, 0): [1],\n",
       " (2, 1): [1],\n",
       " (2, 2): [1, 3],\n",
       " (2, 3): [1, 3, 4],\n",
       " (3, 0): [1, 5],\n",
       " (3, 1): [1, 5],\n",
       " (3, 2): [1],\n",
       " (3, 3): [1, 4]}"
      ]
     },
     "execution_count": 25,
     "metadata": {},
     "output_type": "execute_result"
    }
   ],
   "source": [
    "{(0, 0): [1], (0, 1): [1], (0, 2): [1], (0, 3): [1], (1, 0): [1], (1, 1): [1], (1, 2): [1, 3], (1, 3): [1, 3], (2, 0): [1], (2, 1): [1], (2, 2): [1, 3], (2, 3): [1, 3, 4], (3, 0): [1, 5], (3, 1): [1, 5], (3, 2): [1], (3, 3): [1, 4]}"
   ]
  },
  {
   "cell_type": "code",
   "execution_count": null,
   "metadata": {},
   "outputs": [],
   "source": []
  }
 ],
 "metadata": {
  "kernelspec": {
   "display_name": "Python 3",
   "language": "python",
   "name": "python3"
  },
  "language_info": {
   "codemirror_mode": {
    "name": "ipython",
    "version": 3
   },
   "file_extension": ".py",
   "mimetype": "text/x-python",
   "name": "python",
   "nbconvert_exporter": "python",
   "pygments_lexer": "ipython3",
   "version": "3.6.2"
  }
 },
 "nbformat": 4,
 "nbformat_minor": 4
}
