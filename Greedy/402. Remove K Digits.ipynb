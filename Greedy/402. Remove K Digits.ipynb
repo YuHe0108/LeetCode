{
 "cells": [
  {
   "cell_type": "raw",
   "metadata": {},
   "source": [
    "问题描述：\n",
    "    给定一个以字符串表示的非负整数num，请从该数字中删除k个数字，以使新数字尽可能最小。\n",
    "\n",
    "例题1：\n",
    "    Input: num = \"1432219\", k = 3\n",
    "    Output: \"1219\"\n",
    "    Explanation: Remove the three digits 4, 3, and 2 to form the new number 1219 which is the smallest.\n",
    "例题2：\n",
    "    Input: num = \"10\", k = 2\n",
    "    Output: \"0\"\n",
    "    Explanation: Remove all the digits from the number and it is left with nothing which is 0.\n",
    "例题3：\n",
    "    Input: num = \"10200\", k = 1\n",
    "    Output: \"200\"\n",
    "    Explanation: Remove the leading 1 and the number is 200. Note that the output must not contain leading zeroes."
   ]
  },
  {
   "cell_type": "code",
   "execution_count": 65,
   "metadata": {},
   "outputs": [],
   "source": [
    "class Solution:\n",
    "    def removeKdigits(self, num: str, k: int) -> str:\n",
    "        if len(num) <= k: # 移除所有的数字\n",
    "            return '0'\n",
    "        k_index = 0\n",
    "        list_num = list(num)\n",
    "        results = []\n",
    "        while k_index < k:\n",
    "            if list_num[1] > list_num[0]: # 每次都进行两两比较，并删除其中的较大值。\n",
    "                list_num.pop(1)\n",
    "            else:\n",
    "                list_num.pop(0)\n",
    "            k_index += 1\n",
    "        results.append(int(''.join(list_num)))\n",
    "        \n",
    "        k_index = 0\n",
    "        list_num = list(num)\n",
    "        while k_index < k:\n",
    "            if list_num[-1] > list_num[-2]:\n",
    "                list_num.pop(-1)\n",
    "            else:\n",
    "                list_num.pop(-2)\n",
    "            k_index += 1\n",
    "        results.append(int(''.join(list_num)))\n",
    "        return str(min(results))"
   ]
  },
  {
   "cell_type": "code",
   "execution_count": 66,
   "metadata": {},
   "outputs": [
    {
     "data": {
      "text/plain": [
       "'11'"
      ]
     },
     "execution_count": 66,
     "metadata": {},
     "output_type": "execute_result"
    }
   ],
   "source": [
    "num_ = \"112\"\n",
    "k_ = 1\n",
    "solution = Solution()\n",
    "solution.removeKdigits(num_, k_)"
   ]
  },
  {
   "cell_type": "code",
   "execution_count": 42,
   "metadata": {},
   "outputs": [
    {
     "data": {
      "text/plain": [
       "[2, 3]"
      ]
     },
     "execution_count": 42,
     "metadata": {},
     "output_type": "execute_result"
    }
   ],
   "source": [
    "a = [1, 2, 3]\n",
    "a.pop(0)\n",
    "a"
   ]
  },
  {
   "cell_type": "code",
   "execution_count": 68,
   "metadata": {},
   "outputs": [],
   "source": [
    "class Solution:\n",
    "    def removeKdigits(self, num: str, k: int) -> str:\n",
    "        if len(num) <= k: return '0' # 移除所有的数字\n",
    "        if k == 0: return num\n",
    "\n",
    "        results = [num[0]]\n",
    "        count = 0\n",
    "        for i in range(1, len(num)):\n",
    "            \n",
    "\n",
    "        \n",
    "        "
   ]
  },
  {
   "cell_type": "code",
   "execution_count": 69,
   "metadata": {},
   "outputs": [],
   "source": [
    "num_ = \"112\"\n",
    "k_ = 1\n",
    "solution = Solution()\n",
    "solution.removeKdigits(num_, k_)"
   ]
  },
  {
   "cell_type": "code",
   "execution_count": 14,
   "metadata": {},
   "outputs": [],
   "source": [
    "class Solution:\n",
    "    def removeKdigits(self, num: str, k: int) -> str:\n",
    "        if len(num) <= k: return '0' # 移除所有的数字\n",
    "        if k == 0: return num\n",
    "        \n",
    "        res = []\n",
    "        len_num = len(num) \n",
    "        for i in range(len_num):\n",
    "            while k and res and res[-1] > num[i]:\n",
    "                res.pop()\n",
    "                k -= 1\n",
    "            res.append(num[i])\n",
    "        while k:\n",
    "            res.pop()\n",
    "            k -= 1\n",
    "        \n",
    "        return ''.join(res).lstrip('0') or '0' # 如果res=[], 返回值为0"
   ]
  },
  {
   "cell_type": "code",
   "execution_count": 15,
   "metadata": {},
   "outputs": [
    {
     "data": {
      "text/plain": [
       "'11'"
      ]
     },
     "execution_count": 15,
     "metadata": {},
     "output_type": "execute_result"
    }
   ],
   "source": [
    "num_ = \"121\"\n",
    "k_ = 1\n",
    "solution = Solution()\n",
    "solution.removeKdigits(num_, k_)"
   ]
  },
  {
   "cell_type": "code",
   "execution_count": 12,
   "metadata": {},
   "outputs": [
    {
     "data": {
      "text/plain": [
       "'0'"
      ]
     },
     "execution_count": 12,
     "metadata": {},
     "output_type": "execute_result"
    }
   ],
   "source": []
  },
  {
   "cell_type": "code",
   "execution_count": null,
   "metadata": {},
   "outputs": [],
   "source": []
  }
 ],
 "metadata": {
  "kernelspec": {
   "display_name": "TF2",
   "language": "python",
   "name": "tf2"
  },
  "language_info": {
   "codemirror_mode": {
    "name": "ipython",
    "version": 3
   },
   "file_extension": ".py",
   "mimetype": "text/x-python",
   "name": "python",
   "nbconvert_exporter": "python",
   "pygments_lexer": "ipython3",
   "version": "3.6.2"
  }
 },
 "nbformat": 4,
 "nbformat_minor": 4
}
