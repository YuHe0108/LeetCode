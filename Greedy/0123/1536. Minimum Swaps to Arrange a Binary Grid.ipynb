{
 "cells": [
  {
   "cell_type": "code",
   "execution_count": null,
   "metadata": {},
   "outputs": [],
   "source": []
  },
  {
   "cell_type": "code",
   "execution_count": null,
   "metadata": {},
   "outputs": [],
   "source": []
  },
  {
   "cell_type": "code",
   "execution_count": null,
   "metadata": {},
   "outputs": [],
   "source": []
  },
  {
   "cell_type": "code",
   "execution_count": 14,
   "metadata": {},
   "outputs": [],
   "source": [
    "from typing import List\n",
    "from collections import defaultdict\n",
    "\n",
    "class Solution:\n",
    "    def minSwaps(self, grid: List[List[int]]) -> int:\n",
    "        n = len(grid)\n",
    "        count = defaultdict(int)\n",
    "        for r in range(n):\n",
    "            for c in range(n):\n",
    "                count[c] += 1-grid[r][c]\n",
    "        for c in range(1, n): # 1 ~ (n-1) 列中，必须要有 1 存在, 不然无论怎么交换都不行\n",
    "            if count[c] == 0:\n",
    "                return -1\n",
    "        print(count)"
   ]
  },
  {
   "cell_type": "code",
   "execution_count": null,
   "metadata": {},
   "outputs": [],
   "source": []
  },
  {
   "cell_type": "code",
   "execution_count": 68,
   "metadata": {},
   "outputs": [],
   "source": [
    "from typing import List\n",
    "from collections import defaultdict, deque\n",
    "\n",
    "class Solution:\n",
    "    def minSwaps(self, grid: List[List[int]]) -> int:\n",
    "        n = len(grid)\n",
    "        zeros = [0] * n # 每一行从最后向前数有多少个 0\n",
    "        for i in range(n):\n",
    "            j, cnt = n-1, 0\n",
    "            while j >= 0 and grid[i][j] == 0:\n",
    "                j -= 1\n",
    "                cnt += 1\n",
    "            zeros[i] = cnt\n",
    "        # zeros --> target: [n-1, n-2, .... 1, .] # 排列\n",
    "        res = 0\n",
    "        for i in range(n-1):\n",
    "            target = n-i-1\n",
    "            for j in range(i, n):\n",
    "                if zeros[j] >= target:\n",
    "                    res += j - i\n",
    "                    break\n",
    "            if j == n-1 and zeros[j] < target:\n",
    "                return -1\n",
    "            for j in range(j, i, -1):\n",
    "                zeros[j] = zeros[j-1]\n",
    "        return res"
   ]
  },
  {
   "cell_type": "code",
   "execution_count": 69,
   "metadata": {},
   "outputs": [
    {
     "data": {
      "text/plain": [
       "3"
      ]
     },
     "execution_count": 69,
     "metadata": {},
     "output_type": "execute_result"
    }
   ],
   "source": [
    "solution = Solution()\n",
    "solution.minSwaps([[0,0,1],[1,1,0],[1,0,0]])"
   ]
  },
  {
   "cell_type": "code",
   "execution_count": null,
   "metadata": {},
   "outputs": [],
   "source": [
    "0 1 2\n",
    "2 0 1"
   ]
  },
  {
   "cell_type": "code",
   "execution_count": null,
   "metadata": {},
   "outputs": [],
   "source": []
  }
 ],
 "metadata": {
  "kernelspec": {
   "display_name": "Python 3",
   "language": "python",
   "name": "python3"
  },
  "language_info": {
   "codemirror_mode": {
    "name": "ipython",
    "version": 3
   },
   "file_extension": ".py",
   "mimetype": "text/x-python",
   "name": "python",
   "nbconvert_exporter": "python",
   "pygments_lexer": "ipython3",
   "version": "3.6.2"
  }
 },
 "nbformat": 4,
 "nbformat_minor": 4
}
