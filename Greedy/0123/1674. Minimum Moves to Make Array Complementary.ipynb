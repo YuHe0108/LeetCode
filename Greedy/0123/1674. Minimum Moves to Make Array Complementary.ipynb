{
 "cells": [
  {
   "cell_type": "code",
   "execution_count": null,
   "metadata": {},
   "outputs": [],
   "source": []
  },
  {
   "cell_type": "code",
   "execution_count": null,
   "metadata": {},
   "outputs": [],
   "source": []
  },
  {
   "cell_type": "code",
   "execution_count": 76,
   "metadata": {},
   "outputs": [],
   "source": [
    "from collections import defaultdict\n",
    "from typing import List\n",
    "\n",
    "class Solution:\n",
    "    def minMoves(self, nums: List[int], limit: int) -> int:\n",
    "        n = len(nums)\n",
    "        count = defaultdict(int)\n",
    "        for i in range(n // 2):\n",
    "            count[nums[i] + nums[n-i-1]] += 1\n",
    "        \n",
    "        out = float('inf')\n",
    "        for k, v in count.items():\n",
    "            if k > limit * 2:\n",
    "                continue\n",
    "            cnt = 0\n",
    "            for i in range(n // 2):\n",
    "                sum_val = nums[i] + nums[n-i-1]\n",
    "                if sum_val == k:\n",
    "                    continue\n",
    "                if 1 <= k - nums[i] <= limit or 1 <= k - nums[n-i-1] <= limit:\n",
    "                    cnt += 1\n",
    "                else:\n",
    "                    cnt += 2\n",
    "                print(i, nums[i], nums[n-i-1], sum_val, k, cnt)\n",
    "            out = min(out, cnt)\n",
    "        return out"
   ]
  },
  {
   "cell_type": "code",
   "execution_count": null,
   "metadata": {},
   "outputs": [],
   "source": []
  },
  {
   "cell_type": "code",
   "execution_count": null,
   "metadata": {},
   "outputs": [],
   "source": []
  },
  {
   "cell_type": "code",
   "execution_count": null,
   "metadata": {},
   "outputs": [],
   "source": []
  },
  {
   "cell_type": "markdown",
   "metadata": {},
   "source": [
    "### 差分数组"
   ]
  },
  {
   "cell_type": "raw",
   "metadata": {},
   "source": [
    "1、当 nums[i] + nums[n-i-1] <= target (a + b <= target, 其中假设 a < b )的时候\n",
    "    三种情况\n",
    "    1.1  0 移动： a + b == target\n",
    "    1.2  1 移动： [a+b+1, b+limit]\n",
    "    1.3  2 移动： [b+limit+1, limit*2]\n",
    "    \n",
    "2、当nums[i] + nums[n-i-1] > target (a + b <= target, 其中假设 a < b )的时候\n",
    "    1.1  0 移动： a + b == target\n",
    "    1.2  1 移动： [a + 1, a + b - 1]\n",
    "    1.3  2 移动： [2, a] # 对于最大值，b缩小为 1，a+1, 如果比当前数字还小，就要把a-1，即a+1-1 = a"
   ]
  },
  {
   "cell_type": "code",
   "execution_count": 90,
   "metadata": {},
   "outputs": [],
   "source": [
    "from collections import defaultdict\n",
    "from typing import List\n",
    "\n",
    "class Solution:\n",
    "    def minMoves(self, nums: List[int], limit: int) -> int:\n",
    "        count = [0] * (2 * limit + 1) # 最大值为 2*limit\n",
    "        n = len(nums)\n",
    "        for i in range(n // 2):\n",
    "            a, b = nums[i], nums[n-1-i]\n",
    "            min_v = min(a, b)\n",
    "            max_v = max(a, b)\n",
    "            count[2] += 2\n",
    "            count[a+1] -= 1\n",
    "            count[a+b] -= 1\n",
    "            count[a+b+1] += 1\n",
    "            count[limit+b+1] += 1\n",
    "        res = float('inf')\n",
    "        cur = 0\n",
    "        for i in range(2, limit*2 + 1):\n",
    "            cur += count[i]\n",
    "            res = min(res, cur)\n",
    "        return res"
   ]
  },
  {
   "cell_type": "code",
   "execution_count": null,
   "metadata": {},
   "outputs": [],
   "source": []
  },
  {
   "cell_type": "code",
   "execution_count": 92,
   "metadata": {},
   "outputs": [],
   "source": [
    "from collections import defaultdict\n",
    "from typing import List\n",
    "\n",
    "class Solution:\n",
    "    def minMoves(self, nums: List[int], limit: int) -> int:\n",
    "        count = [0] * (2*pow(10, 5) + 2) # 最大值为 2*limit\n",
    "        n = len(nums)\n",
    "        for i in range(n // 2):\n",
    "            a, b = nums[i], nums[n-1-i]\n",
    "            min_v = min(a, b)\n",
    "            max_v = max(a, b)\n",
    "            count[2] += 2\n",
    "            count[min_v + 1] -= 1\n",
    "            count[min_v + max_v] -= 1\n",
    "            count[min_v + max_v +1] += 1\n",
    "            count[limit + max_v +1] += 1\n",
    "            \n",
    "        res = float('inf')\n",
    "        cur = 0\n",
    "        for i in range(2, 2*limit+1):\n",
    "            cur += count[i]\n",
    "            res = min(res, cur)\n",
    "        return res"
   ]
  },
  {
   "cell_type": "code",
   "execution_count": 93,
   "metadata": {},
   "outputs": [
    {
     "data": {
      "text/plain": [
       "4"
      ]
     },
     "execution_count": 93,
     "metadata": {},
     "output_type": "execute_result"
    }
   ],
   "source": [
    "solution = Solution()\n",
    "solution.minMoves([20744,7642,19090,9992,2457,16848,3458,15721], 22891)"
   ]
  },
  {
   "cell_type": "code",
   "execution_count": null,
   "metadata": {},
   "outputs": [],
   "source": []
  },
  {
   "cell_type": "code",
   "execution_count": null,
   "metadata": {},
   "outputs": [],
   "source": []
  }
 ],
 "metadata": {
  "kernelspec": {
   "display_name": "Python 3",
   "language": "python",
   "name": "python3"
  },
  "language_info": {
   "codemirror_mode": {
    "name": "ipython",
    "version": 3
   },
   "file_extension": ".py",
   "mimetype": "text/x-python",
   "name": "python",
   "nbconvert_exporter": "python",
   "pygments_lexer": "ipython3",
   "version": "3.6.2"
  }
 },
 "nbformat": 4,
 "nbformat_minor": 4
}
