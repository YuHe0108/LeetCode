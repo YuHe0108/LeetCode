{
 "cells": [
  {
   "cell_type": "raw",
   "metadata": {},
   "source": [
    "问题描述：\n",
    "    有一个列表，列表中有一些数字，\n",
    "    1、移动两个单位花费为0，\n",
    "    2、移动一个单位花费为1\n",
    "    求：将这些数字移动至同一下标数组位置下，所花费的最小值。\n",
    "例题1：\n",
    "    Input: chips = [1,2,3]\n",
    "    Output: 1，将1移动至下标为2时，花费为0，将2移动至下标2时，花费为1，最小值为1。\n",
    "例题2：\n",
    "    Input: chips = [2,2,2,3,3]\n",
    "    Output: 2\n",
    "    三个2的位置下标都是2，两个三都需要移动一个位置到2上，因此总花费为 1+1=2"
   ]
  },
  {
   "cell_type": "code",
   "execution_count": 32,
   "metadata": {},
   "outputs": [],
   "source": [
    "class Solution:\n",
    "    def minCostToMoveChips(self, chips) -> int:\n",
    "        \"\"\"chips中的数字都是给定的位置下标值\n",
    "        1、奇数移动至奇数花费为0，偶数移动至偶数花费为0\n",
    "        2、奇数移动至偶数花费为1，偶数移动至奇数花费为1\n",
    "        3、step_cost = abs(start - end) % 2 * 1 # 一个数字从起始位置移动至终点位置所花费的值\n",
    "        \"\"\"\n",
    "        cost = []\n",
    "        position = set(chips) # 所有可能移动的位置\n",
    "        for p in position:\n",
    "            step_cost = 0\n",
    "            for chip in chips:\n",
    "                step_cost += (p - chip) % 2 # 从原始位置移动至目标位置所花费的值\n",
    "            cost.append(step_cost) # 每一个元素移动至一个位置所花费值得总和\n",
    "        return min(cost)"
   ]
  },
  {
   "cell_type": "code",
   "execution_count": 33,
   "metadata": {},
   "outputs": [
    {
     "data": {
      "text/plain": [
       "2"
      ]
     },
     "execution_count": 33,
     "metadata": {},
     "output_type": "execute_result"
    }
   ],
   "source": [
    "chips_ = [2,2,2,3,3]\n",
    "solution = Solution()\n",
    "solution.minCostToMoveChips(chips_)"
   ]
  },
  {
   "cell_type": "code",
   "execution_count": null,
   "metadata": {},
   "outputs": [],
   "source": []
  }
 ],
 "metadata": {
  "kernelspec": {
   "display_name": "TF2",
   "language": "python",
   "name": "tf2"
  },
  "language_info": {
   "codemirror_mode": {
    "name": "ipython",
    "version": 3
   },
   "file_extension": ".py",
   "mimetype": "text/x-python",
   "name": "python",
   "nbconvert_exporter": "python",
   "pygments_lexer": "ipython3",
   "version": "3.6.2"
  }
 },
 "nbformat": 4,
 "nbformat_minor": 4
}
