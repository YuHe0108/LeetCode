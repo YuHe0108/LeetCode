{
 "cells": [
  {
   "cell_type": "raw",
   "metadata": {},
   "source": [
    "问题描述：\n",
    "    给定一个数组，数组中的元素，是两个整数，表示整数的区间范围：[stat, end]\n",
    "    求是否需要删除其中多少个元素，以保证整数区间的范围不产生重叠.\n",
    "    最少删除多少个元素，使得证整数区间的范围不产生重叠.\n",
    "\n",
    "例题1：\n",
    "    Input: [[1,2],[2,3],[3,4],[1,3]]\n",
    "    Output: 1\n",
    "    Explanation: [1, 2], [2, 3] -> [1, 3]\n",
    "    [1,3] can be removed and the rest of intervals are non-overlapping.\n",
    "\n",
    "例题2：\n",
    "    Input: [[1,2],[1,2],[1,2]]\n",
    "    Output: 2\n",
    "    Explanation: You need to remove two [1,2] to make the rest of intervals non-overlapping.\n",
    "\n",
    "例题3：\n",
    "    Input: [[1,2],[2,3]]\n",
    "    Output: 0\n",
    "    Explanation: You don't need to remove any of the intervals since they're already non-overlapping."
   ]
  },
  {
   "cell_type": "code",
   "execution_count": 19,
   "metadata": {},
   "outputs": [],
   "source": [
    "class Solution:\n",
    "    def eraseOverlapIntervals(self, intervals) -> int:\n",
    "        len_inter = len(intervals)\n",
    "        if len_inter <= 1: return 0\n",
    "        \n",
    "        del_count = 0 # 需要删除元素的数量\n",
    "        max_interval = intervals[0] # 假设第一个元素为范围最大\n",
    "        for i in range(1, len_inter):\n",
    "            change = [False, False]\n",
    "            if intervals[i][0] < max_interval[0]:\n",
    "                max_interval[0] = intervals[i][0]\n",
    "                change[0] = True\n",
    "            if intervals[i][1] > max_interval[1]:\n",
    "                max_interval[1] = intervals[i][1]\n",
    "                change[1] = True\n",
    "            if not True in change:\n",
    "                del_count += 1\n",
    "        return del_count        "
   ]
  },
  {
   "cell_type": "code",
   "execution_count": 21,
   "metadata": {},
   "outputs": [
    {
     "data": {
      "text/plain": [
       "1"
      ]
     },
     "execution_count": 21,
     "metadata": {},
     "output_type": "execute_result"
    }
   ],
   "source": [
    "intervals_ =[[1,2],[2,3],[3,4],[1,3]]\n",
    "solution = Solution()\n",
    "solution.eraseOverlapIntervals(intervals_)"
   ]
  },
  {
   "cell_type": "code",
   "execution_count": 9,
   "metadata": {},
   "outputs": [],
   "source": [
    "class Solution:\n",
    "    def eraseOverlapIntervals(self, intervals) -> int:\n",
    "        len_inter = len(intervals)\n",
    "        if len_inter <= 1: return 0\n",
    "        \n",
    "        del_count = 0\n",
    "        left = []\n",
    "        right = []\n",
    "        for inter in intervals:\n",
    "            have_change = [False, False]\n",
    "            if inter[0] not in left:\n",
    "                left.append(inter[0])\n",
    "                have_change[0] = True\n",
    "            if inter[1] not in right:\n",
    "                right.append(inter[1])\n",
    "                have_change[1] = True\n",
    "            if not True in have_change:\n",
    "                del_count += 1\n",
    "        return del_count          "
   ]
  },
  {
   "cell_type": "code",
   "execution_count": 10,
   "metadata": {},
   "outputs": [
    {
     "name": "stdout",
     "output_type": "stream",
     "text": [
      "2\n"
     ]
    },
    {
     "data": {
      "text/plain": [
       "1"
      ]
     },
     "execution_count": 10,
     "metadata": {},
     "output_type": "execute_result"
    }
   ],
   "source": [
    "intervals_ =[[1,2],[2,3],[3,4],[1,3]]\n",
    "solution = Solution()\n",
    "solution.eraseOverlapIntervals(intervals_)"
   ]
  },
  {
   "cell_type": "code",
   "execution_count": 36,
   "metadata": {},
   "outputs": [],
   "source": [
    "intervals_ =[[1,100],[11,22],[1,11],[2,12]]\n",
    "# intervals_ =[[1,2],[2,3],[3,4],[1,3]]\n",
    "sorted_inter = sorted(intervals_, key = lambda x: (x[1] - x[0]))"
   ]
  },
  {
   "cell_type": "code",
   "execution_count": 37,
   "metadata": {},
   "outputs": [
    {
     "data": {
      "text/plain": [
       "[[1, 11], [2, 12], [11, 22], [1, 100]]"
      ]
     },
     "execution_count": 37,
     "metadata": {},
     "output_type": "execute_result"
    }
   ],
   "source": [
    "sorted_inter"
   ]
  },
  {
   "cell_type": "code",
   "execution_count": 21,
   "metadata": {},
   "outputs": [],
   "source": [
    "class Solution:\n",
    "    def eraseOverlapIntervals(self, intervals) -> int:\n",
    "        len_inter = len(intervals)\n",
    "        if len_inter <= 1: return 0\n",
    "        \n",
    "        # 按照区间大小划分，最前的区间范围最小, 我们要选择区间范围最小的一组值\n",
    "        sorted_inter = sorted(intervals_, key = lambda x: x[0])\n",
    "        left = sorted_inter[0][0]\n",
    "        right = sorted_inter[0][1]\n",
    "        \n",
    "        del_count = 0\n",
    "        print(sorted_inter)\n",
    "        for i in range(1, len_inter):\n",
    "            print(left, right)\n",
    "            if sorted_inter[i][0] >= right:\n",
    "                right = sorted_inter[i][1]\n",
    "            elif sorted_inter[i][1] <= left:\n",
    "                left = sorted_inter[i][0]\n",
    "            elif:\n",
    "                cur_dis = right - left\n",
    "        return del_count            "
   ]
  },
  {
   "cell_type": "markdown",
   "metadata": {},
   "source": [
    "### 尽量选择区间范围更小的元素，这样能够删除更少的元素"
   ]
  },
  {
   "cell_type": "code",
   "execution_count": 22,
   "metadata": {},
   "outputs": [
    {
     "name": "stdout",
     "output_type": "stream",
     "text": [
      "[[0, 1], [1, 2], [3, 4]]\n",
      "0 1\n",
      "0 2\n"
     ]
    },
    {
     "data": {
      "text/plain": [
       "0"
      ]
     },
     "execution_count": 22,
     "metadata": {},
     "output_type": "execute_result"
    }
   ],
   "source": [
    "# intervals_ =[[1,2],[2,3],[3,4],[1,3]]\n",
    "# intervals_ =[[1,100],[11,22],[1,11],[2,12]]\n",
    "intervals_ = [[0,1],[3,4],[1,2]]\n",
    "solution = Solution()\n",
    "solution.eraseOverlapIntervals(intervals_)"
   ]
  },
  {
   "cell_type": "code",
   "execution_count": null,
   "metadata": {},
   "outputs": [],
   "source": []
  },
  {
   "cell_type": "code",
   "execution_count": 30,
   "metadata": {},
   "outputs": [],
   "source": [
    "class Solution:\n",
    "    def eraseOverlapIntervals(self, intervals) -> int:\n",
    "        len_inter = len(intervals)\n",
    "        if len_inter <= 1: return 0\n",
    "        \n",
    "        # 按照区间大小划分，最前的区间范围最小, 我们要选择区间范围最小的一组值\n",
    "        sorted_inter = sorted(intervals_, key = lambda x: x[1])    \n",
    "        count = 0\n",
    "        i = 1\n",
    "        while i < len(sorted_inter):\n",
    "            if sorted_inter[i][0] < sorted_inter[i-1][1]:\n",
    "                sorted_inter.pop(i)\n",
    "                count += 1\n",
    "            else:\n",
    "                i += 1\n",
    "        return count"
   ]
  },
  {
   "cell_type": "code",
   "execution_count": 33,
   "metadata": {},
   "outputs": [
    {
     "data": {
      "text/plain": [
       "0"
      ]
     },
     "execution_count": 33,
     "metadata": {},
     "output_type": "execute_result"
    }
   ],
   "source": [
    "# intervals_ =[[1,2],[2,3],[3,4],[1,3]]\n",
    "# intervals_ =[[1,100],[11,22],[1,11],[2,12]]\n",
    "intervals_ = [[0,1],[3,4],[1,2]]\n",
    "solution = Solution()\n",
    "solution.eraseOverlapIntervals(intervals_)"
   ]
  },
  {
   "cell_type": "code",
   "execution_count": null,
   "metadata": {},
   "outputs": [],
   "source": []
  }
 ],
 "metadata": {
  "kernelspec": {
   "display_name": "TF2",
   "language": "python",
   "name": "tf2"
  },
  "language_info": {
   "codemirror_mode": {
    "name": "ipython",
    "version": 3
   },
   "file_extension": ".py",
   "mimetype": "text/x-python",
   "name": "python",
   "nbconvert_exporter": "python",
   "pygments_lexer": "ipython3",
   "version": "3.6.2"
  }
 },
 "nbformat": 4,
 "nbformat_minor": 4
}
