{
 "cells": [
  {
   "cell_type": "code",
   "execution_count": null,
   "metadata": {},
   "outputs": [],
   "source": []
  },
  {
   "cell_type": "code",
   "execution_count": null,
   "metadata": {},
   "outputs": [],
   "source": []
  },
  {
   "cell_type": "code",
   "execution_count": 28,
   "metadata": {},
   "outputs": [],
   "source": [
    "from typing import List\n",
    "\n",
    "class Solution:\n",
    "    def minDeletionSize(self, A: List[str]) -> int:\n",
    "        cnt = 0\n",
    "        cols = [i for i in range(len(A[0]))]\n",
    "        for j in range(len(A[0])):\n",
    "            vals = []\n",
    "            new_cols = set() # 当前列出现相同的字母了，需要继续看下一列\n",
    "            need_pass = False\n",
    "            for i in cols:\n",
    "                k = ord(A[i][j]) - 97\n",
    "                if not vals or k >= vals[-1]:\n",
    "                    if vals and k == vals[-1]: # 同一列出现了相同的字母\n",
    "                        new_cols.add(i)\n",
    "                        new_cols.add(i-1)\n",
    "                        same = True\n",
    "                    vals.append(k)\n",
    "                else:\n",
    "                    need_pass = True\n",
    "                    cnt += 1\n",
    "                    break\n",
    "            if not new_cols and not need_pass:\n",
    "                break\n",
    "        return cnt"
   ]
  },
  {
   "cell_type": "code",
   "execution_count": null,
   "metadata": {},
   "outputs": [],
   "source": []
  },
  {
   "cell_type": "code",
   "execution_count": null,
   "metadata": {},
   "outputs": [],
   "source": []
  },
  {
   "cell_type": "code",
   "execution_count": 34,
   "metadata": {},
   "outputs": [],
   "source": [
    "from typing import List\n",
    "\n",
    "class Solution:\n",
    "    def minDeletionSize(self, A: List[str]) -> int:\n",
    "        m, n = len(A), len(A[0])\n",
    "        res = 0\n",
    "        # 其中 cnt[i] == 0表示，前面两行是相同的，需要继续向后判断\n",
    "        # cnt[i] == 1 表示是按照顺序排列的，后面顺序对当前没有影响\n",
    "        cnt = [0] * m \n",
    "        for j in range(n):\n",
    "            flag = 1\n",
    "            cnt_tmp = cnt[::]\n",
    "            for i in range(1, m):\n",
    "                if cnt[i] == 1:\n",
    "                    continue\n",
    "                if A[i-1][j] < A[i][j]: # 顺序\n",
    "                    cnt_tmp[i] = 1\n",
    "                elif A[i-1][j] == A[i][j]: # 相同，需要继续往后判断\n",
    "                    cnt_tmp[i] = 0\n",
    "                else:\n",
    "                    flag = 0\n",
    "                    res += 1\n",
    "                    break\n",
    "            if flag == 1:\n",
    "                cnt = cnt_tmp\n",
    "        return res"
   ]
  },
  {
   "cell_type": "code",
   "execution_count": 36,
   "metadata": {},
   "outputs": [
    {
     "data": {
      "text/plain": [
       "0"
      ]
     },
     "execution_count": 36,
     "metadata": {},
     "output_type": "execute_result"
    }
   ],
   "source": [
    "solution = Solution()\n",
    "solution.minDeletionSize([\"xc\",\"yb\",\"za\"])"
   ]
  },
  {
   "cell_type": "code",
   "execution_count": null,
   "metadata": {},
   "outputs": [],
   "source": []
  }
 ],
 "metadata": {
  "kernelspec": {
   "display_name": "Python 3",
   "language": "python",
   "name": "python3"
  },
  "language_info": {
   "codemirror_mode": {
    "name": "ipython",
    "version": 3
   },
   "file_extension": ".py",
   "mimetype": "text/x-python",
   "name": "python",
   "nbconvert_exporter": "python",
   "pygments_lexer": "ipython3",
   "version": "3.6.2"
  }
 },
 "nbformat": 4,
 "nbformat_minor": 4
}
