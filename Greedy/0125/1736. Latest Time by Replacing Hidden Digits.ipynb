{
 "cells": [
  {
   "cell_type": "code",
   "execution_count": null,
   "metadata": {},
   "outputs": [],
   "source": []
  },
  {
   "cell_type": "code",
   "execution_count": null,
   "metadata": {},
   "outputs": [],
   "source": [
    "if \"?\" in h:\n",
    "            if h[0] == '?' and h[1] == '?':\n",
    "                res_h = '23'\n",
    "        else:\n",
    "            res_h = h\n",
    "        if '?' in m:\n",
    "            if m[0] == '?':\n",
    "                if m[0] == '0':\n",
    "                    pass\n",
    "                else:\n",
    "                    pass\n",
    "        else:\n",
    "            res_m = m"
   ]
  },
  {
   "cell_type": "code",
   "execution_count": null,
   "metadata": {},
   "outputs": [],
   "source": []
  },
  {
   "cell_type": "code",
   "execution_count": 18,
   "metadata": {},
   "outputs": [],
   "source": [
    "class Solution:\n",
    "    def maximumTime(self, time: str) -> str:\n",
    "        h, m = time.split(':')\n",
    "        res_h = ''\n",
    "        res_m = ''\n",
    "        if \"?\" in h:\n",
    "            if h[0] == '?' and h[1] == '?':\n",
    "                res_h = '23'\n",
    "            elif h[0] == '?':\n",
    "                res_h = '2' + h[1] if h[1] <= '3' else '1' + h[1]\n",
    "            elif h[1] == '?':\n",
    "                res_h = h[0] + '9' if h[0] != '2' else  h[0] + '3'\n",
    "        else:\n",
    "            res_h = h\n",
    "        if '?' in m:\n",
    "            if m[0] == '?' and m[1] == '?':\n",
    "                res_m = '59'\n",
    "            elif m[0] == '?':\n",
    "                res_m = '5' + m[1]\n",
    "            elif m[1] == '?':\n",
    "                res_m = m[0] + '9' \n",
    "        else:\n",
    "            res_m = m\n",
    "        return res_h + \":\" + res_m"
   ]
  },
  {
   "cell_type": "code",
   "execution_count": 19,
   "metadata": {},
   "outputs": [
    {
     "data": {
      "text/plain": [
       "'00:29'"
      ]
     },
     "execution_count": 19,
     "metadata": {},
     "output_type": "execute_result"
    }
   ],
   "source": [
    "solution = Solution()\n",
    "solution.maximumTime(\"00:2?\")"
   ]
  },
  {
   "cell_type": "code",
   "execution_count": 7,
   "metadata": {},
   "outputs": [
    {
     "data": {
      "text/plain": [
       "True"
      ]
     },
     "execution_count": 7,
     "metadata": {},
     "output_type": "execute_result"
    }
   ],
   "source": [
    "'2' <= '3'"
   ]
  },
  {
   "cell_type": "code",
   "execution_count": null,
   "metadata": {},
   "outputs": [],
   "source": []
  }
 ],
 "metadata": {
  "kernelspec": {
   "display_name": "Python 3",
   "language": "python",
   "name": "python3"
  },
  "language_info": {
   "codemirror_mode": {
    "name": "ipython",
    "version": 3
   },
   "file_extension": ".py",
   "mimetype": "text/x-python",
   "name": "python",
   "nbconvert_exporter": "python",
   "pygments_lexer": "ipython3",
   "version": "3.6.2"
  }
 },
 "nbformat": 4,
 "nbformat_minor": 4
}
