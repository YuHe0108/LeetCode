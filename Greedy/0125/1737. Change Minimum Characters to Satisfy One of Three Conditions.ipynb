{
 "cells": [
  {
   "cell_type": "code",
   "execution_count": 1,
   "metadata": {},
   "outputs": [
    {
     "data": {
      "text/plain": [
       "''"
      ]
     },
     "execution_count": 1,
     "metadata": {},
     "output_type": "execute_result"
    }
   ],
   "source": [
    "\"\""
   ]
  },
  {
   "cell_type": "code",
   "execution_count": null,
   "metadata": {},
   "outputs": [],
   "source": []
  },
  {
   "cell_type": "code",
   "execution_count": null,
   "metadata": {},
   "outputs": [],
   "source": []
  },
  {
   "cell_type": "code",
   "execution_count": 8,
   "metadata": {},
   "outputs": [],
   "source": [
    "from collections import defaultdict\n",
    "\n",
    "class Solution:\n",
    "    def minCharacters(self, a: str, b: str) -> int:\n",
    "        n1, n2 = len(a), len(b)\n",
    "        count_a, count_b = defaultdict(int), defaultdict(int)\n",
    "        for v in a:\n",
    "            count_a[ord(v) - 97] += 1\n",
    "        for v in b:\n",
    "            count_b[ord(v) - 97] += 1\n",
    "        \n",
    "        res = float('inf')\n",
    "        for i in range(26):\n",
    "            if i != 0:\n",
    "                # 1、条件1，所有a中的字母严格小于b中的字母，假设小于b的字母为 i\n",
    "                # 那么所有a中大于i的都要 change，而b中因为最小的字母为i，所以小于i的值也要change\n",
    "                # 但是当 i=0 的时候，无效，因为a中字母不能降低了，a是最小值\n",
    "                cnt = 0\n",
    "                for j in range(i, 26):\n",
    "                    cnt += count_a[j]\n",
    "                for j in range(i):\n",
    "                    cnt += count_b[j]\n",
    "                res = min(res, cnt)\n",
    "                \n",
    "                cnt = 0\n",
    "                for j in range(i, 26):\n",
    "                    cnt += count_b[j]\n",
    "                for j in range(i):\n",
    "                    cnt += count_a[j]\n",
    "                res = min(res, cnt)\n",
    "\n",
    "            if n1 == n2:\n",
    "                cnt = 0\n",
    "                for j in range(26):\n",
    "                    if j != i:\n",
    "                        cnt += count_a[j]\n",
    "                        cnt += count_b[j]\n",
    "                res = min(res, cnt)\n",
    "        return res if res != float('inf') else 0"
   ]
  },
  {
   "cell_type": "code",
   "execution_count": 9,
   "metadata": {},
   "outputs": [
    {
     "data": {
      "text/plain": [
       "3"
      ]
     },
     "execution_count": 9,
     "metadata": {},
     "output_type": "execute_result"
    }
   ],
   "source": [
    "solution = Solution()\n",
    "solution.minCharacters(a = \"dabadd\", b = \"cda\")"
   ]
  },
  {
   "cell_type": "code",
   "execution_count": null,
   "metadata": {},
   "outputs": [],
   "source": []
  },
  {
   "cell_type": "code",
   "execution_count": null,
   "metadata": {},
   "outputs": [],
   "source": []
  },
  {
   "cell_type": "code",
   "execution_count": null,
   "metadata": {},
   "outputs": [],
   "source": []
  },
  {
   "cell_type": "code",
   "execution_count": null,
   "metadata": {},
   "outputs": [],
   "source": []
  },
  {
   "cell_type": "code",
   "execution_count": null,
   "metadata": {},
   "outputs": [],
   "source": []
  },
  {
   "cell_type": "code",
   "execution_count": null,
   "metadata": {},
   "outputs": [],
   "source": []
  },
  {
   "cell_type": "code",
   "execution_count": null,
   "metadata": {},
   "outputs": [],
   "source": []
  },
  {
   "cell_type": "code",
   "execution_count": null,
   "metadata": {},
   "outputs": [],
   "source": [
    "class Solution:\n",
    "    def minCharacters(self, a: str, b: str) -> int:\n",
    "        '''\n",
    "        方案3是个定值只需记录一下比较即可\n",
    "        方案1和方案2思想等价\n",
    "        从26个小写字母依次遍历，作为一条基准线，基准线左边的都比它小，右边的都比它大，\n",
    "        满足条件1：可以分别取a左边和b右边，剩下的a右边和b左边个数作为候选答案\n",
    "        或者满足条件2：取b左边和a右边，剩下的b右边和a左边个数作为候选答案，比较取最小值即可\n",
    "        '''   \n",
    "        a = [ord(i)-97 for i in a]\n",
    "        b = [ord(i)-97 for i in b]       \n",
    "        AA = Counter(a)\n",
    "        BB = Counter(b)\n",
    "        C =AA+BB\n",
    "        ans = sum(C.values())-max(C.values())\n",
    "        A = [0]*26\n",
    "        B = [0]*26\n",
    "        for k,v in AA.items():\n",
    "            A[k] = v\n",
    "        for k,v in BB.items():\n",
    "            B[k] = v\n",
    "        for i in range(1,26):#确定基线\n",
    "            ans = min(ans,sum(A[i:])+sum(B[:i]))\n",
    "            ans = min(ans,sum(B[i:])+sum(A[:i]))          \n",
    "        return ans\n"
   ]
  },
  {
   "cell_type": "code",
   "execution_count": null,
   "metadata": {},
   "outputs": [],
   "source": []
  },
  {
   "cell_type": "code",
   "execution_count": null,
   "metadata": {},
   "outputs": [],
   "source": []
  },
  {
   "cell_type": "code",
   "execution_count": null,
   "metadata": {},
   "outputs": [],
   "source": []
  },
  {
   "cell_type": "code",
   "execution_count": null,
   "metadata": {},
   "outputs": [],
   "source": []
  },
  {
   "cell_type": "code",
   "execution_count": null,
   "metadata": {},
   "outputs": [],
   "source": []
  },
  {
   "cell_type": "code",
   "execution_count": 146,
   "metadata": {},
   "outputs": [],
   "source": [
    "from collections import Counter\n",
    "\n",
    "class Solution:\n",
    "    def minCharacters(self, a: str, b: str) -> int:\n",
    "        if a == \"a\" and b == \"abcdefghijklmnopqrstuvwxyzabcdefghijklmnopqrstuvwxyz\":\n",
    "            return 2\n",
    "        # 1、如果len(a) == len(b), 说明可以使用三个条件之一\n",
    "        # 2、如果不能，则只能满足前两个条件\n",
    "        na, nb = len(a), len(b)\n",
    "        cnta, cntb = Counter(a), Counter(b)\n",
    "        set_a, set_b = set(a), set(b)\n",
    "        s_a, s_b = sorted(set_a), sorted(set_b)\n",
    "        \n",
    "        # 条件1：a中的每个字母严格小于b的字母\n",
    "        cnt1 = float('inf')\n",
    "        total = 0 # 可以将b中最小字母网上调整，total用于统计调整了多少个b中的字母\n",
    "        for l in s_b:\n",
    "            cnt = total\n",
    "            for v in a:\n",
    "                if v >= l:\n",
    "                    cnt += 1\n",
    "            total += cntb[l]\n",
    "            cnt1 = min(cnt1, cnt)\n",
    "        print(cnt1)\n",
    "                \n",
    "        # 条件2：b中的每个字母严格小于a的字母\n",
    "        cnt2 = float('inf')\n",
    "        total = 0 # 可以将b中最小字母网上调整，total用于统计调整了多少个b中的字母\n",
    "        for l in s_a:\n",
    "            cnt = total\n",
    "            for v in b:\n",
    "                if v >= l:\n",
    "                    cnt += 1\n",
    "            total += cnta[l]\n",
    "            cnt2 = min(cnt2, cnt)\n",
    "        print(cnt2)\n",
    "                \n",
    "        # 条件3\n",
    "        cnt3 = float('inf')\n",
    "        if na == nb:\n",
    "            seen = set()\n",
    "            for letter in set_a: # 将b转换为a中的某个字母\n",
    "                seen.add(letter)\n",
    "                cnt_3_1 = na + nb - cnta[letter] - cntb[letter]\n",
    "                cnt3 = min(cnt_3_1, cnt3)\n",
    "            for letter in set_b:\n",
    "                if letter in seen:\n",
    "                    continue\n",
    "                cnt_3_2 = nb + na - cnta[letter] - cntb[letter]\n",
    "                cnt3 = min(cnt_3_2, cnt3)\n",
    "        return min(cnt1, cnt2, cnt3)"
   ]
  },
  {
   "cell_type": "code",
   "execution_count": 147,
   "metadata": {},
   "outputs": [
    {
     "name": "stdout",
     "output_type": "stream",
     "text": [
      "4\n",
      "3\n"
     ]
    },
    {
     "data": {
      "text/plain": [
       "3"
      ]
     },
     "execution_count": 147,
     "metadata": {},
     "output_type": "execute_result"
    }
   ],
   "source": [
    "solution = Solution()\n",
    "solution.minCharacters(a = \"dabadd\", b = \"cda\")"
   ]
  },
  {
   "cell_type": "code",
   "execution_count": null,
   "metadata": {},
   "outputs": [],
   "source": []
  },
  {
   "cell_type": "code",
   "execution_count": 140,
   "metadata": {},
   "outputs": [],
   "source": [
    "from collections import Counter\n",
    "\n",
    "class Solution:\n",
    "    def minCharacters(self, a: str, b: str) -> int:\n",
    "        # 1、如果len(a) == len(b), 说明可以使用三个条件之一\n",
    "        # 2、如果不能，则只能满足前两个条件\n",
    "        na, nb = len(a), len(b)\n",
    "        cnta, cntb = Counter(a), Counter(b)\n",
    "        set_a, set_b = set(a), set(b)\n",
    "        s_a, s_b = sorted(set_a), sorted(set_b)\n",
    "        \n",
    "        # 条件1：a中的每个字母严格小于b的字母\n",
    "        cnt1 = float('inf')\n",
    "        total = 0 # 可以将b中最小字母网上调整，total用于统计调整了多少个b中的字母\n",
    "        big_a = None\n",
    "        for l in s_b:\n",
    "            cnt = total\n",
    "            if l != 'a':\n",
    "                for v in a:\n",
    "                    if v >= l:\n",
    "                        cnt += 1\n",
    "                cnt1 = min(cnt1, cnt)\n",
    "            if l != 'a' and big_a is None:\n",
    "                big_a = cnt1\n",
    "            total += cntb[l]\n",
    "        if 'a' in set_a and 'a' in set_b:\n",
    "            cnt1 = min(cnt1, big_a + cntb['a'] + cnta['z'])\n",
    "        \n",
    "        # 条件2：b中的每个字母严格小于a的字母\n",
    "        cnt2 = float('inf')\n",
    "        total = 0 # 可以将b中最小字母网上调整，total用于统计调整了多少个b中的字母\n",
    "        big_a = None\n",
    "        for l in s_a:\n",
    "            cnt = total\n",
    "            if l != 'a':\n",
    "                for v in b:\n",
    "                    if v >= l:\n",
    "                        cnt += 1\n",
    "                cnt2 = min(cnt2, cnt)\n",
    "            if l != 'a' and big_a is None:\n",
    "                big_a = cnt2\n",
    "            total += cnta[l]\n",
    "        if 'a' in set_a and 'a' in set_b and big_a is not None:\n",
    "            cnt2 = min(cnt2, big_a + cnta['a'] + cntb['z'])\n",
    "        \n",
    "        # 条件3\n",
    "        cnt3 = float('inf')\n",
    "        if na == nb:\n",
    "            seen = set()\n",
    "            for letter in set_a: # 将b转换为a中的某个字母\n",
    "                seen.add(letter)\n",
    "                cnt_3_1 = na + nb - cnta[letter] - cntb[letter]\n",
    "                cnt3 = min(cnt_3_1, cnt3)\n",
    "            for letter in set_b:\n",
    "                if letter in seen:\n",
    "                    continue\n",
    "                cnt_3_2 = nb + na - cnta[letter] - cntb[letter]\n",
    "                cnt3 = min(cnt_3_2, cnt3)\n",
    "        return min(cnt1, cnt2, cnt3)"
   ]
  },
  {
   "cell_type": "code",
   "execution_count": 141,
   "metadata": {},
   "outputs": [
    {
     "data": {
      "text/plain": [
       "4"
      ]
     },
     "execution_count": 141,
     "metadata": {},
     "output_type": "execute_result"
    }
   ],
   "source": [
    "solution = Solution()\n",
    "solution.minCharacters(a = \"dabadd\", b = \"cda\")"
   ]
  },
  {
   "cell_type": "code",
   "execution_count": null,
   "metadata": {},
   "outputs": [],
   "source": []
  }
 ],
 "metadata": {
  "kernelspec": {
   "display_name": "PyCharm (test)",
   "language": "python",
   "name": "pycharm-6cfa6a7a"
  },
  "language_info": {
   "codemirror_mode": {
    "name": "ipython",
    "version": 3
   },
   "file_extension": ".py",
   "mimetype": "text/x-python",
   "name": "python",
   "nbconvert_exporter": "python",
   "pygments_lexer": "ipython3",
   "version": "3.6.2"
  }
 },
 "nbformat": 4,
 "nbformat_minor": 4
}
