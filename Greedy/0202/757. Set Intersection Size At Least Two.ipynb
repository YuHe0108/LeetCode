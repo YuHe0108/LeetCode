{
 "cells": [
  {
   "cell_type": "code",
   "execution_count": null,
   "metadata": {},
   "outputs": [],
   "source": []
  },
  {
   "cell_type": "code",
   "execution_count": null,
   "metadata": {},
   "outputs": [],
   "source": []
  },
  {
   "cell_type": "code",
   "execution_count": null,
   "metadata": {},
   "outputs": [],
   "source": []
  },
  {
   "cell_type": "code",
   "execution_count": 52,
   "metadata": {},
   "outputs": [],
   "source": [
    "from typing import List\n",
    "import functools\n",
    "\n",
    "class Solution:\n",
    "    def intersectionSizeTwo(self, intervals: List[List[int]]) -> int:\n",
    "        # 按照 intervals的尾端点进行排序\n",
    "        def sort_fun(a, b):\n",
    "            if a[1] != b[1]:\n",
    "                return a[1] < b[1]\n",
    "            return a[0] > b[0] \n",
    "        \n",
    "        intervals = sorted(intervals, key=functools.cmp_to_key(sort_fun))\n",
    "        left, right = intervals[0][-1]-1, intervals[0][-1] # 取第一个区间的尾端点，以及尾端点的前一个端点\n",
    "        cnt = 2\n",
    "        n = len(intervals)\n",
    "        for i in range(1, n):\n",
    "            # 查看下一个区间与 left、right有多少个点是重叠的\n",
    "            cur_left, cur_right = intervals[i]\n",
    "            if cur_left <= left <= cur_right: # 左端点在 intervals[i]的区间内的话，右端点一定也在\n",
    "                continue\n",
    "            elif cur_left <= right <= cur_right: # 只有右端点在，左端点不在\n",
    "                if right == cur_right:\n",
    "                    left = cur_right - 1\n",
    "                else:\n",
    "                    left, right = right, cur_right\n",
    "                cnt += 1\n",
    "            else: # 完全没有重叠的部分\n",
    "                left, right = cur_right-1, cur_right\n",
    "                cnt += 2\n",
    "            print(left, right)\n",
    "        return cnt"
   ]
  },
  {
   "cell_type": "code",
   "execution_count": 53,
   "metadata": {},
   "outputs": [
    {
     "name": "stdout",
     "output_type": "stream",
     "text": [
      "3 7\n",
      "6 7\n",
      "7 8\n"
     ]
    },
    {
     "data": {
      "text/plain": [
       "5"
      ]
     },
     "execution_count": 53,
     "metadata": {},
     "output_type": "execute_result"
    }
   ],
   "source": [
    "solution = Solution()\n",
    "solution.intersectionSizeTwo(intervals = [[1,3],[3,7],[5,7],[7,8]])"
   ]
  },
  {
   "cell_type": "raw",
   "metadata": {},
   "source": [
    "[[1,3],[3,7],[5,7],[7,8]]\n",
    "1 2 3\n",
    "  1 3 4 5 6 7\n",
    "        5 6 7\n",
    "            7 8\n",
    "2,3,6,7,8"
   ]
  }
 ],
 "metadata": {
  "kernelspec": {
   "display_name": "Python 3",
   "language": "python",
   "name": "python3"
  },
  "language_info": {
   "codemirror_mode": {
    "name": "ipython",
    "version": 3
   },
   "file_extension": ".py",
   "mimetype": "text/x-python",
   "name": "python",
   "nbconvert_exporter": "python",
   "pygments_lexer": "ipython3",
   "version": "3.6.2"
  }
 },
 "nbformat": 4,
 "nbformat_minor": 4
}
