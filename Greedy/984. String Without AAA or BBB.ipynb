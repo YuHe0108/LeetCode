{
 "cells": [
  {
   "cell_type": "raw",
   "metadata": {},
   "source": [
    "    问题描述：\n",
    "        给定两个整数A和B，返回任何S这样的字符串：\n",
    "        1、len(S) = A + B，包含正好A 'a'字母，也正好包含B 'b'字母；\n",
    "        2、子字符串  'aaa' 不会出现在中S；\n",
    "        3、子字符串'bbb'不会出现在中S。\n",
    "        即不允许出现连续三个相同的字母\n",
    "    例题1：\n",
    "        Input: A = 1, B = 2\n",
    "        Output: \"abb\"\n",
    "        Explanation: \"abb\", \"bab\" and \"bba\" are all correct answers.\n",
    "    例题2：\n",
    "        Input: A = 4, B = 1\n",
    "        Output: \"aabaa\""
   ]
  },
  {
   "cell_type": "markdown",
   "metadata": {},
   "source": [
    "#### 策略\n",
    "    1、首先选择数目更多的符号\n",
    "    2、但是当最多的符号使用两次之后，选择少的\n",
    "    重复1、2直至结束"
   ]
  },
  {
   "cell_type": "code",
   "execution_count": 8,
   "metadata": {},
   "outputs": [],
   "source": [
    "class Solution:\n",
    "    def strWithout3a3b(self, A: int, B: int) -> str:\n",
    "        \n",
    "        # 策略1： 优先拼接更 A和B 更大值对应的字符\n",
    "        str_list = [''] * (A + B)\n",
    "        a_count = 0\n",
    "        b_count = 0\n",
    "        num_A = A\n",
    "        num_B = B\n",
    "        \n",
    "        i = 0\n",
    "        while i < (A + B):\n",
    "            if A > B:\n",
    "                if a_count < 2 and num_A > 0:\n",
    "                    str_list[i] = 'a'\n",
    "                    num_A -= 1\n",
    "                    a_count += 1\n",
    "                    i += 1\n",
    "                elif b_count < 2 and num_B > 0:\n",
    "                    str_list[i] = 'b'\n",
    "                    num_B -= 1\n",
    "                    b_count += 1\n",
    "                    i += 1\n",
    "            else:\n",
    "                if b_count < 2 and num_B > 0:\n",
    "                    str_list[i] = 'b'\n",
    "                    num_B -= 1\n",
    "                    b_count += 1\n",
    "                    i += 1\n",
    "                elif a_count < 2 and num_A > 0:\n",
    "                    str_list[i] = 'a'\n",
    "                    num_A -= 1\n",
    "                    a_count += 1\n",
    "                    i += 1\n",
    "            print(str_list) \n",
    "            if num_B == 0 or b_count == 2:\n",
    "                a_count = 0\n",
    "            elif num_A == 0 or a_count == 2:\n",
    "                b_count = 0\n",
    "            \n",
    "        return ''.join(str_list)"
   ]
  },
  {
   "cell_type": "code",
   "execution_count": 90,
   "metadata": {},
   "outputs": [],
   "source": [
    "class Solution:\n",
    "    def strWithout3a3b(self, A: int, B: int) -> str:\n",
    "        str_list = [''] * (A + B)\n",
    "        num_a = A\n",
    "        num_b = B\n",
    "        count = 0\n",
    "        i = 0\n",
    "        start_symbol = 'a' if num_a > num_b else 'b'\n",
    "        while i < (A + B):\n",
    "            if start_symbol == 'a' and 0 < num_a <= A and 0 <= count < 2:\n",
    "                str_list[i] = 'a'\n",
    "                num_a -= 1\n",
    "                count += 1\n",
    "                i += 1\n",
    "                start_symbol = 'a' if num_a > num_b else 'b'\n",
    "                print(1, str_list)\n",
    "            elif start_symbol == 'b' and 0 < num_b <= B and 0 <= count < 2:\n",
    "                str_list[i] = 'b'\n",
    "                num_b -= 1\n",
    "                count += 1\n",
    "                i += 1\n",
    "                start_symbol = 'a' if num_a > num_b else 'b'\n",
    "                print(2, str_list)\n",
    "            elif start_symbol == 'a' and (count == 2 or num_a == 0):\n",
    "                start_symbol = 'b'\n",
    "                count = 0\n",
    "                print(3, str_list)\n",
    "            elif start_symbol == 'b' and (count == 2 or num_b == 0):\n",
    "                start_symbol = 'a'\n",
    "                count = 0 \n",
    "                print(4, str_list)\n",
    "        return ''.join(str_list)"
   ]
  },
  {
   "cell_type": "code",
   "execution_count": 156,
   "metadata": {},
   "outputs": [],
   "source": [
    "class Solution:\n",
    "    def strWithout3a3b(self, A: int, B: int) -> str:\n",
    "        i = 0       \n",
    "        num_a = A\n",
    "        num_b = B\n",
    "        count_b = 0\n",
    "        count_a = 0\n",
    "        str_list = [''] * (A + B)\n",
    "        while i < (A + B):\n",
    "            # 选择 次数更多的\n",
    "            symbol = 'a' if num_a >= num_b else 'b'\n",
    "                \n",
    "            if (count_a == 2 or num_a == 0) and num_b > 0: # 当 ‘a’用了两次，或者 ‘a’的次数已经用光\n",
    "                symbol = 'b'\n",
    "                count_b = 0\n",
    "                count_a = 0\n",
    "            elif (count_b == 2 or num_b == 0) and num_a > 0:\n",
    "                symbol = 'a'\n",
    "                count_a = 0\n",
    "                count_b = 0\n",
    "            \n",
    "            if symbol == 'a' and count_a < 2 and 0 < num_a <= A:\n",
    "                count_a += 1\n",
    "                num_a -= 1\n",
    "            else:\n",
    "                count_b += 1\n",
    "                num_b -= 1\n",
    "            str_list[i] = symbol\n",
    "            i += 1\n",
    "        return ''.join(str_list)"
   ]
  },
  {
   "cell_type": "code",
   "execution_count": 157,
   "metadata": {},
   "outputs": [
    {
     "data": {
      "text/plain": [
       "'bbabbab'"
      ]
     },
     "execution_count": 157,
     "metadata": {},
     "output_type": "execute_result"
    }
   ],
   "source": [
    "A_ = 2\n",
    "B_ = 5\n",
    "solution = Solution()\n",
    "solution.strWithout3a3b(A_, B_)"
   ]
  },
  {
   "cell_type": "code",
   "execution_count": null,
   "metadata": {},
   "outputs": [],
   "source": []
  },
  {
   "cell_type": "code",
   "execution_count": 47,
   "metadata": {},
   "outputs": [],
   "source": []
  },
  {
   "cell_type": "code",
   "execution_count": null,
   "metadata": {},
   "outputs": [],
   "source": []
  }
 ],
 "metadata": {
  "kernelspec": {
   "display_name": "TF2",
   "language": "python",
   "name": "tf2"
  },
  "language_info": {
   "codemirror_mode": {
    "name": "ipython",
    "version": 3
   },
   "file_extension": ".py",
   "mimetype": "text/x-python",
   "name": "python",
   "nbconvert_exporter": "python",
   "pygments_lexer": "ipython3",
   "version": "3.6.2"
  }
 },
 "nbformat": 4,
 "nbformat_minor": 4
}
