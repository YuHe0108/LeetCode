{
 "cells": [
  {
   "cell_type": "raw",
   "metadata": {},
   "source": [
    "问题描述：Hard\n",
    "    匹配问题，给定一个字符串s和匹配字符p。\n",
    "    '?' 匹配任意一个字符，'*' 任意长度得字符（0个及以上）。\n",
    "    s 可能是空白值、a-z之间的值。\n",
    "    p 可以是空白值、a-z之间的值,  ? or *.\n",
    "    求：给定的p是否可以匹配字符串s，返回bool类型\n",
    "\n",
    "例题1：\n",
    "    Input:\n",
    "    s = \"aa\"\n",
    "    p = \"a\"\n",
    "    Output: false\n",
    "    Explanation: \"a\" does not match the entire string \"aa\".\n",
    "例题2：\n",
    "    s = \"aa\"\n",
    "    p = \"*\"\n",
    "    Output: true\n",
    "    Explanation: '*' matches any sequence.\n",
    "例题3：\n",
    "    Input:\n",
    "    s = \"cb\"\n",
    "    p = \"?a\"\n",
    "    Output: false\n",
    "    Explanation: '?' matches 'c', but the second letter is 'a', which does not match 'b'.\n",
    "例题4：\n",
    "    Input:\n",
    "    s = \"adceb\"\n",
    "    p = \"*a*b\"\n",
    "    Output: true\n",
    "    Explanation: The first '*' matches the empty sequence, while the second '*' matches the substring \"dce\"."
   ]
  },
  {
   "cell_type": "code",
   "execution_count": 39,
   "metadata": {},
   "outputs": [],
   "source": [
    "class Solution:\n",
    "    def isMatch(self, s: str, p: str) -> bool:\n",
    "        len_s = len(s)\n",
    "        if len(p) - p.count('*') > len_s: # 如果匹配字符的长度减去 '*'的长度还大于待匹配的字符，说明肯定不对\n",
    "            return False\n",
    "        \n",
    "        dp = [True] + [False] * len_s\n",
    "        for i in p:\n",
    "            if i != '*':\n",
    "                for n in reversed(range(len_s)):\n",
    "                    dp[n + 1] = dp[n] and ( i == s[n] or i == '?')\n",
    "            else:\n",
    "                for n in range(1, len_s + 1):\n",
    "                    dp[n] = dp[n - 1] or dp[n]\n",
    "            dp[0] = dp[0] and i == '*'\n",
    "            print(dp)\n",
    "        return dp[-1] "
   ]
  },
  {
   "cell_type": "code",
   "execution_count": 40,
   "metadata": {},
   "outputs": [
    {
     "name": "stdout",
     "output_type": "stream",
     "text": [
      "[True, True, True, True, True, True]\n",
      "[False, False, True, False, False, False]\n",
      "[False, False, True, True, True, True]\n",
      "[False, False, False, False, True, False]\n"
     ]
    },
    {
     "data": {
      "text/plain": [
       "False"
      ]
     },
     "execution_count": 40,
     "metadata": {},
     "output_type": "execute_result"
    }
   ],
   "source": [
    "s_ = 'adceb'\n",
    "p_ = '*d*e'\n",
    "solution = Solution()\n",
    "solution.isMatch(s_, p_)"
   ]
  },
  {
   "cell_type": "code",
   "execution_count": 23,
   "metadata": {},
   "outputs": [
    {
     "name": "stdout",
     "output_type": "stream",
     "text": [
      "5\n",
      "4\n",
      "3\n",
      "2\n",
      "1\n",
      "0\n"
     ]
    }
   ],
   "source": [
    "for n in reversed(range(6)):\n",
    "    print(n)"
   ]
  },
  {
   "cell_type": "code",
   "execution_count": 28,
   "metadata": {},
   "outputs": [],
   "source": [
    "p = '**a**b***c**' # 去除重复的*: *a*b*c*\n",
    "\n",
    "def removeDulicatedStar(p):\n",
    "    results = [p[0]]\n",
    "    for i in range(1, len(p)):\n",
    "        if p[i] == p[i-1] and p[i-1] == '*':\n",
    "            continue\n",
    "        results.append(p[i])\n",
    "    return ''.join(results)"
   ]
  },
  {
   "cell_type": "code",
   "execution_count": 29,
   "metadata": {},
   "outputs": [
    {
     "data": {
      "text/plain": [
       "'*a*b*c*'"
      ]
     },
     "execution_count": 29,
     "metadata": {},
     "output_type": "execute_result"
    }
   ],
   "source": [
    "removeDulicatedStar(p)"
   ]
  },
  {
   "cell_type": "raw",
   "metadata": {},
   "source": [
    "解法2:"
   ]
  },
  {
   "cell_type": "code",
   "execution_count": 15,
   "metadata": {},
   "outputs": [],
   "source": [
    "class Solution:\n",
    "    def isMatch(self, s: str, p: str) -> bool:\n",
    "        s_index, p_index = 0, 0\n",
    "        match = 0\n",
    "        star = -1\n",
    "        \n",
    "        while(s_index < len(s)):\n",
    "            if (p_index < len(p) and (s[s_index] == p[p_index] or p[p_index] == '?')):\n",
    "                p_index += 1\n",
    "                s_index += 1\n",
    "                \n",
    "            elif p_index < len(p) and (p[p_index] == '*'):\n",
    "                star = p_index # 记录start出现在 p 中的位置\n",
    "                match = s_index # match记录了star匹配字母的个数\n",
    "                p_index += 1 # p 的索引 +1\n",
    "            elif star != -1: # * 匹配多个字符\n",
    "                p_index  = star + 1 # p_index的位置保持在 * 后一位的位置\n",
    "                match += 1 # s_index += 1, match匹配字符的数量\n",
    "                s_index = match\n",
    "            \n",
    "            else:\n",
    "                return False\n",
    "        \n",
    "        while (p_index < len(p) and p[p_index] == '*'):\n",
    "            p_index += 1\n",
    "        return p_index == len(p)"
   ]
  },
  {
   "cell_type": "code",
   "execution_count": 16,
   "metadata": {},
   "outputs": [
    {
     "data": {
      "text/plain": [
       "False"
      ]
     },
     "execution_count": 16,
     "metadata": {},
     "output_type": "execute_result"
    }
   ],
   "source": [
    "s_ = 'adceb'\n",
    "p_ = '*d*e'\n",
    "solution = Solution()\n",
    "solution.isMatch(s_, p_)"
   ]
  },
  {
   "cell_type": "code",
   "execution_count": null,
   "metadata": {},
   "outputs": [],
   "source": [
    "class Solution:\n",
    "    def isMatch(self, s: str, p: str) -> bool:\n",
    "        s_index, p_index = 0, 0\n",
    "        match = 0\n",
    "        star = -1\n",
    "        while s_index < len(s):\n",
    "            # 1、对应元素相同，或者p为‘？’\n",
    "            if (p_index < len(p) and (s[s_index] == p[p_index] or p[p_index] == '?')):\n",
    "                p_index += 1\n",
    "                s_index += 1\n",
    "            \n",
    "            # 2、对应元素位置不同，但是p的位置为 '*'\n",
    "            elif (p_index < len(p) and p[p_index] == '*'):\n",
    "                star = p_index # 记录下星号的位置\n",
    "                match = s_index # match匹配s[s_index]字符\n",
    "                p_index += 1 # p_index为星号后的一个字符\n",
    "            \n",
    "            # 3、对应元素位置不同，p的位置也不是 '*', 考虑 ‘*’匹配多个字符\n",
    "            elif star != -1:\n",
    "                p_index = star + 1 # p_index始终为 '*' 后一个字符\n",
    "                match += 1 # '*'匹配 s 中最后一字符的 index\n",
    "                s_index = match # s_index为 匹配最后一个字符的下一个index\n",
    "            \n",
    "            else:\n",
    "                return False\n",
    "        \n",
    "        while (p_index < len(p) and p[p_index] == '*'):\n",
    "            p_index += 1\n",
    "        return p_index == len(p)"
   ]
  }
 ],
 "metadata": {
  "kernelspec": {
   "display_name": "TF2",
   "language": "python",
   "name": "tf2"
  },
  "language_info": {
   "codemirror_mode": {
    "name": "ipython",
    "version": 3
   },
   "file_extension": ".py",
   "mimetype": "text/x-python",
   "name": "python",
   "nbconvert_exporter": "python",
   "pygments_lexer": "ipython3",
   "version": "3.6.2"
  }
 },
 "nbformat": 4,
 "nbformat_minor": 4
}
