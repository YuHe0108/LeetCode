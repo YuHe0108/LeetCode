{
 "cells": [
  {
   "cell_type": "raw",
   "metadata": {},
   "source": [
    "分糖果问题：\n",
    "有一堆饼干和一群孩子，给定每个饼干的大小和每个孩子想要饼干的大小，求这堆饼干可以满足多少个孩子。\n",
    "例题1：\n",
    "    Input: [1,2,3], [1,1]\n",
    "    Output: 1\n",
    "    有三个孩子，每个孩子想要的饼干大小分别为：1、2和3，有两个饼干，饼干的大小都是1，因此只能满足第一个孩子的需求。\n",
    "例题2:\n",
    "    Input: [1,2], [1,2,3]\n",
    "    Output: 2\n",
    "    可以满足两个孩子的需求"
   ]
  },
  {
   "cell_type": "code",
   "execution_count": 21,
   "metadata": {},
   "outputs": [],
   "source": [
    "class Solution:\n",
    "    def findContentChildren(self, g, s) -> int:\n",
    "        max_count = 0\n",
    "        sorted_g = sorted(g)\n",
    "        sorted_s = sorted(s)   \n",
    "        for s_ in sorted_s:\n",
    "            for g_ in sorted_g:\n",
    "                if s_ < g_:\n",
    "                    break\n",
    "                else:\n",
    "                    max_count += 1\n",
    "                    sorted_g.remove(g_)\n",
    "                    break\n",
    "        return max_count"
   ]
  },
  {
   "cell_type": "code",
   "execution_count": 22,
   "metadata": {},
   "outputs": [
    {
     "name": "stdout",
     "output_type": "stream",
     "text": [
      "3 2\n",
      "6 5\n",
      "20 9\n"
     ]
    },
    {
     "data": {
      "text/plain": [
       "3"
      ]
     },
     "execution_count": 22,
     "metadata": {},
     "output_type": "execute_result"
    }
   ],
   "source": [
    "g_ = [2, 5, 9, 9, 10, 15]\n",
    "s_ = [1, 3, 6, 8, 20]\n",
    "s = Solution()\n",
    "s.findContentChildren(g_, s_)"
   ]
  },
  {
   "cell_type": "code",
   "execution_count": null,
   "metadata": {},
   "outputs": [],
   "source": [
    "# g = [2, 5, 9, 9, 10]\n",
    "# s = [1, 3, 6, 8, 20]"
   ]
  },
  {
   "cell_type": "code",
   "execution_count": 40,
   "metadata": {},
   "outputs": [],
   "source": []
  },
  {
   "cell_type": "raw",
   "metadata": {},
   "source": [
    "第二种方法"
   ]
  },
  {
   "cell_type": "code",
   "execution_count": null,
   "metadata": {},
   "outputs": [],
   "source": [
    "class Solution:\n",
    "    def findContentChildren(self, g, s) -> int:\n",
    "        sorted_g = sorted(g)\n",
    "        sorted_s = sorted(s)   \n",
    "        int_g = 0\n",
    "        int_s = 0\n",
    "        while(int_g < len(sorted_g) and int_s < len(sorted_s)):\n",
    "            if sorted_s[int_s] >= sorted_g[int_g]:\n",
    "                int_g += 1\n",
    "            int_s += 1\n",
    "        return int_g"
   ]
  },
  {
   "cell_type": "code",
   "execution_count": null,
   "metadata": {},
   "outputs": [],
   "source": []
  }
 ],
 "metadata": {
  "kernelspec": {
   "display_name": "TF2",
   "language": "python",
   "name": "tf2"
  },
  "language_info": {
   "codemirror_mode": {
    "name": "ipython",
    "version": 3
   },
   "file_extension": ".py",
   "mimetype": "text/x-python",
   "name": "python",
   "nbconvert_exporter": "python",
   "pygments_lexer": "ipython3",
   "version": "3.6.2"
  }
 },
 "nbformat": 4,
 "nbformat_minor": 4
}
