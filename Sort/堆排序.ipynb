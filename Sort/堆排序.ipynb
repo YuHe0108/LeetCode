{
 "cells": [
  {
   "cell_type": "markdown",
   "metadata": {},
   "source": [
    "<img src='heap sort.jpg'>"
   ]
  },
  {
   "cell_type": "code",
   "execution_count": 90,
   "metadata": {},
   "outputs": [],
   "source": [
    "def heapify(tree, total_nodes, index):\n",
    "    \"\"\"\n",
    "    Tree: 表示堆\n",
    "    total_nodes:表示堆中有多少节点\n",
    "    index: 表示从树中的第几个节点开始排\n",
    "    \"\"\"\n",
    "    # parent: (index - 1) / 2\n",
    "    if index >= total_nodes:\n",
    "        return tree\n",
    "    c1 = index * 2 + 1 # 表示index的第一个子节点\n",
    "    c2 = index * 2 + 2 # 表示index的第二个子节点\n",
    "    max_index = index\n",
    "    if c1 < total_nodes and tree[c1] > tree[max_index]:\n",
    "        max_index= c1\n",
    "    if c2 < total_nodes and tree[c2] > tree[max_index]:\n",
    "        max_index = c2\n",
    "    if max_index != index: # 表示原始的堆结构发生了改变\n",
    "        tree[index], tree[max_index] = tree[max_index], tree[index]\n",
    "        tree = heapify(tree, total_nodes, max_index)\n",
    "    return tree"
   ]
  },
  {
   "cell_type": "code",
   "execution_count": 91,
   "metadata": {},
   "outputs": [],
   "source": [
    "def build_heap(tree, n):\n",
    "    last_nodes = n - 1\n",
    "    last_idx = (last_nodes - 1) // 2\n",
    "    for i in range(last_idx + 1, -1, -1):\n",
    "        tree = heapify(tree, n, i)\n",
    "    return tree"
   ]
  },
  {
   "cell_type": "code",
   "execution_count": 97,
   "metadata": {},
   "outputs": [],
   "source": [
    "def heap_sort(tree, n):\n",
    "    tree = build_heap(tree, n)\n",
    "    for i in range(n-1, -1, -1):\n",
    "        tree[i], tree[0] = tree[0], tree[i] # 首节点和最后节点进行交换\n",
    "        tree = heapify(tree, i, 0)\n",
    "    return tree"
   ]
  },
  {
   "cell_type": "code",
   "execution_count": 98,
   "metadata": {},
   "outputs": [],
   "source": [
    "res = heap_sort([2, 5, 3, 1, 10, 4, -1], 7)"
   ]
  },
  {
   "cell_type": "code",
   "execution_count": 99,
   "metadata": {},
   "outputs": [
    {
     "data": {
      "text/plain": [
       "[-1, 1, 2, 3, 4, 5, 10]"
      ]
     },
     "execution_count": 99,
     "metadata": {},
     "output_type": "execute_result"
    }
   ],
   "source": [
    "res"
   ]
  },
  {
   "cell_type": "code",
   "execution_count": null,
   "metadata": {},
   "outputs": [],
   "source": []
  },
  {
   "cell_type": "code",
   "execution_count": null,
   "metadata": {},
   "outputs": [],
   "source": []
  },
  {
   "cell_type": "code",
   "execution_count": null,
   "metadata": {},
   "outputs": [],
   "source": [
    "#调整父节点 与孩子大小， 制作大顶堆\n",
    "def adjust_heap(data, par_node, high):\n",
    "    new_par_node = par_node\n",
    "    j = 2*par_node +1   #取根节点的左孩子， 如果只有一个孩子 high就是左孩子，如果有两个孩子 high 就是右孩子\n",
    "\n",
    "    while j <= high: #如果 j = high 说明没有右孩子，high就是左孩子\n",
    "        if j < high and data[j] < data[j+1]: #如果这儿不判断 j < high 可能超出索引\n",
    "            # 一个根节点下，如果有两个孩子，将 j  指向值大的那个孩子\n",
    "            j += 1\n",
    "        if data[j] > data[new_par_node]: #如果子节点值大于父节点，就互相交换\n",
    "            data[new_par_node], data[j] = data[j], data[new_par_node]\n",
    "            new_par_node = j #将当前节点，作为父节点，查找他的子树\n",
    "            j = j * 2 + 1\n",
    "\n",
    "        else:\n",
    "            # 因为调整是从上到下，所以下面的所有子树肯定是排序好了的，\n",
    "            #如果调整的父节点依然比下面最大的子节点大，就直接打断循环，堆已经调整好了的\n",
    "            break\n",
    "\n",
    "\n",
    "# 索引计算: 0 -->1 --->....\n",
    "#    父节点 i   左子节点：2i +1  右子节点：2i +2  注意：当用长度表示最后一个叶子节点时 记得 -1\n",
    "#    即 2i + 1 = length - 1 或者 2i + 2 = length - 1\n",
    "#    2i+1 + 1 = length 或 2i+2 + 1 = length\n",
    "#    2(i+1)=length 或 2(i+1）+1 = length\n",
    "#    设j = i+1  则左子节点(偶数)：2j = length 和 右子节点(基数)：2j+1 = length\n",
    "#    2j//2 = j == (2j+1)//2 这两个的整除是一样的，所以使用length//2 = j 然后 i + 1 = j\n",
    "#    i = j-1  = length//2 -1  #注意左子节点:2i+1 //2 =i  而右子节点：(2i+2)//2 = i+1 \n",
    "\n",
    "# 从第一个非叶子节点(即最后一个父节点)开始，即 list_.length//2 -1（len(list_)//2 - 1）\n",
    "\n",
    "# 开始循环到 root 索引为：0 的第一个根节点， 将所有的根-叶子 调整好，成为一个 大顶堆\n",
    "def heap_sort(lst):\n",
    "    \"\"\"\n",
    "    根据列表长度，找到最后一个非叶子节点，开始循化到 root 根节点，制作 大顶堆\n",
    "    :param lst: 将列表传入\n",
    "    :return:\n",
    "    \"\"\"\n",
    "    length = len(lst)\n",
    "    last = length -1  #最后一个元素的 索引\n",
    "    last_par_node = length//2 -1\n",
    "\n",
    "    while last_par_node >= 0:\n",
    "        adjust_heap(lst, last_par_node, length-1)\n",
    "        last_par_node -= 1  #每调整好一个节点，从后往前移动一个节点\n",
    "\n",
    "    # return lst\n",
    "    while last > 0:\n",
    "        #swap(lst, 0, last)\n",
    "        lst[0], lst[last] = lst[last],lst[0]\n",
    "        # 调整堆让 adjust 处理，最后已经排好序的数，就不处理了\n",
    "        adjust_heap(lst, 0, last-1)\n",
    "        last -= 1\n",
    "\n",
    "    return lst #将列表返回"
   ]
  }
 ],
 "metadata": {
  "kernelspec": {
   "display_name": "Python 3",
   "language": "python",
   "name": "python3"
  },
  "language_info": {
   "codemirror_mode": {
    "name": "ipython",
    "version": 3
   },
   "file_extension": ".py",
   "mimetype": "text/x-python",
   "name": "python",
   "nbconvert_exporter": "python",
   "pygments_lexer": "ipython3",
   "version": "3.6.2"
  }
 },
 "nbformat": 4,
 "nbformat_minor": 4
}
