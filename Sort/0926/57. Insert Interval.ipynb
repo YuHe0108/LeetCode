{
 "cells": [
  {
   "cell_type": "raw",
   "metadata": {},
   "source": [
    "说明：\n",
    "    给定一组不重叠的间隔，在间隔中插入一个新的间隔（必要时合并）。\n",
    "    您可以假设这些间隔最初是根据它们的开始时间排序的。\n",
    "\n",
    "Example 1:\n",
    "    Input: intervals = [[1,3],[6,9]], newInterval = [2,5]\n",
    "    Output: [[1,5],[6,9]]\n",
    "\n",
    "Example 2:\n",
    "    Input: intervals = [[1,2],[3,5],[6,7],[8,10],[12,16]], newInterval = [4,8]\n",
    "    Output: [[1,2],[3,10],[12,16]]\n",
    "    Explanation: Because the new interval [4,8] overlaps with [3,5],[6,7],[8,10].\n",
    "\n",
    "Example 3:\n",
    "    Input: intervals = [], newInterval = [5,7]\n",
    "    Output: [[5,7]]\n",
    "\n",
    "Example 4:\n",
    "    Input: intervals = [[1,5]], newInterval = [2,3]\n",
    "    Output: [[1,5]]\n",
    "\n",
    "Example 5:\n",
    "    Input: intervals = [[1,5]], newInterval = [2,7]\n",
    "    Output: [[1,7]]\n",
    " \n",
    "Constraints:\n",
    "    1、0 <= intervals.length <= 10^4\n",
    "    2、intervals[i].length == 2\n",
    "    3、0 <= intervals[i][0] <= intervals[i][1] <= 10^5\n",
    "    4、intervals is sorted by intervals[i][0] in ascending order.\n",
    "    5、newInterval.length == 2\n",
    "    6、0 <= newInterval[0] <= newInterval[1] <= 10^5"
   ]
  },
  {
   "cell_type": "code",
   "execution_count": 43,
   "metadata": {},
   "outputs": [],
   "source": [
    "class Solution:\n",
    "    def insert(self, inter, new):\n",
    "        idx = 0\n",
    "        # 一旦发现，新插入元素的首元素，大于inter元素的首元素时，将其插入其后。\n",
    "        while idx < len(inter) and inter[idx][0] < new[0]:\n",
    "            idx += 1\n",
    "        inter.insert(idx, new)\n",
    "        \n",
    "        ans = []\n",
    "        for item in inter:\n",
    "            # 新加入的首元素大于ans最后一个item的右端点，可以直接加入\n",
    "            if len(ans) == 0 or item[0] > ans[-1][1]:\n",
    "                ans.append(item)\n",
    "            else:\n",
    "                # 如果 item[0] < ans[-1][1], 说明有overlap，那么右端点取两者右端点的最大值\n",
    "                ans[-1][1] = max(ans[-1][1], item[1])\n",
    "        return ans"
   ]
  },
  {
   "cell_type": "code",
   "execution_count": 44,
   "metadata": {},
   "outputs": [
    {
     "name": "stdout",
     "output_type": "stream",
     "text": [
      "[[1, 3], [2, 5], [6, 9]]\n"
     ]
    },
    {
     "data": {
      "text/plain": [
       "[[1, 5], [6, 9]]"
      ]
     },
     "execution_count": 44,
     "metadata": {},
     "output_type": "execute_result"
    }
   ],
   "source": [
    "solution = Solution()\n",
    "solution.insert([[1,3],[6,9]], [2, 5])"
   ]
  },
  {
   "cell_type": "code",
   "execution_count": null,
   "metadata": {},
   "outputs": [],
   "source": []
  }
 ],
 "metadata": {
  "kernelspec": {
   "display_name": "Python 3",
   "language": "python",
   "name": "python3"
  },
  "language_info": {
   "codemirror_mode": {
    "name": "ipython",
    "version": 3
   },
   "file_extension": ".py",
   "mimetype": "text/x-python",
   "name": "python",
   "nbconvert_exporter": "python",
   "pygments_lexer": "ipython3",
   "version": "3.6.2"
  }
 },
 "nbformat": 4,
 "nbformat_minor": 4
}
