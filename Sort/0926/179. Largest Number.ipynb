{
 "cells": [
  {
   "cell_type": "raw",
   "metadata": {},
   "source": [
    "说明：\n",
    "    给定一个非负整数列表，将它们排列成最大的数字。\n",
    "    \n",
    "Example 1:\n",
    "    Input: [10,2]\n",
    "    Output: \"210\"\n",
    "\n",
    "Example 2:\n",
    "    Input: [3,30,34,5,9]\n",
    "    Output: \"9534330\"\n",
    "    \n",
    "Note: \n",
    "    1、The result may be very large, so you need to return a string instead of an integer."
   ]
  },
  {
   "cell_type": "code",
   "execution_count": 29,
   "metadata": {},
   "outputs": [],
   "source": [
    "class Solution:\n",
    "    def largestNumber(self, nums) -> str:\n",
    "        res = ''\n",
    "        # 比较元素的首位，选择更大的\n",
    "        def get_first(n):\n",
    "            if n // 10 == 0:\n",
    "                return n % 10\n",
    "            return get_first(n // 10)\n",
    "        nums = sorted(nums, key=get_first, reverse=True)\n",
    "        print(nums)\n",
    "        return ''.join([str(x) for x in nums])"
   ]
  },
  {
   "cell_type": "code",
   "execution_count": 173,
   "metadata": {},
   "outputs": [],
   "source": [
    "class Solution:\n",
    "    def largestNumber(self, nums) -> str:\n",
    "        res = ''\n",
    "        \n",
    "        if sum(nums) == 0:\n",
    "            zero = False\n",
    "            idx = 0\n",
    "            while idx < len(nums):\n",
    "                if not zero and nums[idx] == 0:\n",
    "                    zero = True\n",
    "                    idx += 1\n",
    "                elif zero and nums[idx] == 0:\n",
    "                    nums.pop(idx)\n",
    "                else:\n",
    "                    idx += 1\n",
    "        nums = [str(x) for x in nums]\n",
    "        \n",
    "        # 比较元素的首位，选择更大的\n",
    "        for i in range(len(nums)):\n",
    "            for j in range(i+1, len(nums)):\n",
    "                if nums[i][0] < nums[j][0]:\n",
    "                    nums[j], nums[i] = nums[i], nums[j]\n",
    "                elif nums[i][0] == nums[j][0]:\n",
    "                    i_idx, j_idx = 0, 0\n",
    "                    while nums[i][i_idx] == nums[j][j_idx]:\n",
    "                        if i_idx < len(nums[i]) - 1:\n",
    "                            i_idx += 1\n",
    "                        if j_idx < len(nums[j]) - 1:\n",
    "                            j_idx += 1\n",
    "                        if i_idx == len(nums[i]) - 1 and j_idx == len(nums[j]) - 1:\n",
    "                            break\n",
    "                    \n",
    "                    if len(nums[i]) == len(nums[j]) or (i_idx != len(nums[i]) - 1 and j_idx != len(nums[j]) - 1):\n",
    "                        if nums[i][i_idx] < nums[j][j_idx]:\n",
    "                            nums[i], nums[j] = nums[j], nums[i]\n",
    "                    elif len(nums[i]) < len(nums[j]):\n",
    "                        if nums[i][0] < nums[j][j_idx]:\n",
    "                            nums[i], nums[j] = nums[j], nums[i]\n",
    "                    elif len(nums[i]) > len(nums[j]):\n",
    "                        print(nums[i], nums[j], i_idx, j_idx)\n",
    "                        if nums[i][i_idx] < nums[j][0]:\n",
    "                            nums[i], nums[j] = nums[j], nums[i]\n",
    "        print(nums)\n",
    "        return ''.join(nums)"
   ]
  },
  {
   "cell_type": "code",
   "execution_count": null,
   "metadata": {},
   "outputs": [],
   "source": []
  },
  {
   "cell_type": "code",
   "execution_count": 174,
   "metadata": {},
   "outputs": [
    {
     "name": "stdout",
     "output_type": "stream",
     "text": [
      "121 12 2 1\n",
      "['121', '12']\n"
     ]
    },
    {
     "data": {
      "text/plain": [
       "'12112'"
      ]
     },
     "execution_count": 174,
     "metadata": {},
     "output_type": "execute_result"
    }
   ],
   "source": [
    "solution = Solution()\n",
    "solution.largestNumber([121, 12])"
   ]
  },
  {
   "cell_type": "code",
   "execution_count": null,
   "metadata": {},
   "outputs": [],
   "source": [
    "\"9609 938 824 8247 6973 5703 5607 4398 1399\""
   ]
  },
  {
   "cell_type": "code",
   "execution_count": null,
   "metadata": {},
   "outputs": [],
   "source": []
  },
  {
   "cell_type": "code",
   "execution_count": 187,
   "metadata": {},
   "outputs": [],
   "source": [
    "class Solution:\n",
    "    def largestNumber(self, nums) -> str:\n",
    "        print(nums)\n",
    "        for i in range(len(nums)):\n",
    "            for j in range(i+1, len(nums)):\n",
    "                if not self.compare(nums[i], nums[j]):\n",
    "                    nums[i], nums[j] = nums[j], nums[i]\n",
    "        nums = [str(x) for x in nums]\n",
    "        print(nums)\n",
    "        return str(int(''.join(nums)))\n",
    "    \n",
    "    def compare(self, n1, n2):\n",
    "        return str(n1) + str(n2) > str(n2) + str(n1)"
   ]
  },
  {
   "cell_type": "code",
   "execution_count": 188,
   "metadata": {},
   "outputs": [
    {
     "name": "stdout",
     "output_type": "stream",
     "text": [
      "[3, 30, 34, 5, 9]\n",
      "['9', '5', '34', '3', '30']\n"
     ]
    },
    {
     "data": {
      "text/plain": [
       "'9534330'"
      ]
     },
     "execution_count": 188,
     "metadata": {},
     "output_type": "execute_result"
    }
   ],
   "source": [
    "solution = Solution()\n",
    "solution.largestNumber([3,30,34,5,9])"
   ]
  },
  {
   "cell_type": "code",
   "execution_count": null,
   "metadata": {},
   "outputs": [],
   "source": [
    "# build-in function\n",
    "def largestNumber1(self, nums):\n",
    "    if not any(nums):\n",
    "        return \"0\"\n",
    "    return \"\".join(sorted(map(str, nums), cmp=lambda n1, n2: -1 if n1+n2>n2+n1 else (1 if n1+n2<n2+n1 else 0)))\n",
    "    \n",
    "# bubble sort\n",
    "def largestNumber2(self, nums):\n",
    "    for i in xrange(len(nums), 0, -1):\n",
    "        for j in xrange(i-1):\n",
    "            if not self.compare(nums[j], nums[j+1]):\n",
    "                nums[j], nums[j+1] = nums[j+1], nums[j]\n",
    "    return str(int(\"\".join(map(str, nums))))\n",
    "    \n",
    "def compare(self, n1, n2):\n",
    "    return str(n1) + str(n2) > str(n2) + str(n1)\n",
    "    \n",
    "# selection sort\n",
    "def largestNumber3(self, nums):\n",
    "    for i in xrange(len(nums), 0, -1):\n",
    "        tmp = 0\n",
    "        for j in xrange(i):\n",
    "            if not self.compare(nums[j], nums[tmp]):\n",
    "                tmp = j\n",
    "        nums[tmp], nums[i-1] = nums[i-1], nums[tmp]\n",
    "    return str(int(\"\".join(map(str, nums))))\n",
    "    \n",
    "# insertion sort\n",
    "def largestNumber4(self, nums):\n",
    "    for i in xrange(len(nums)):\n",
    "        pos, cur = i, nums[i]\n",
    "        while pos > 0 and not self.compare(nums[pos-1], cur):\n",
    "            nums[pos] = nums[pos-1]  # move one-step forward\n",
    "            pos -= 1\n",
    "        nums[pos] = cur\n",
    "    return str(int(\"\".join(map(str, nums))))\n",
    "\n",
    "# merge sort        \n",
    "def largestNumber5(self, nums):\n",
    "    nums = self.mergeSort(nums, 0, len(nums)-1)\n",
    "    return str(int(\"\".join(map(str, nums))))\n",
    "    \n",
    "def mergeSort(self, nums, l, r):\n",
    "    if l > r:\n",
    "        return \n",
    "    if l == r:\n",
    "        return [nums[l]]\n",
    "    mid = l + (r-l)//2\n",
    "    left = self.mergeSort(nums, l, mid)\n",
    "    right = self.mergeSort(nums, mid+1, r)\n",
    "    return self.merge(left, right)\n",
    "    \n",
    "def merge(self, l1, l2):\n",
    "    res, i, j = [], 0, 0\n",
    "    while i < len(l1) and j < len(l2):\n",
    "        if not self.compare(l1[i], l2[j]):\n",
    "            res.append(l2[j])\n",
    "            j += 1\n",
    "        else:\n",
    "            res.append(l1[i])\n",
    "            i += 1\n",
    "    res.extend(l1[i:] or l2[j:])\n",
    "    return res\n",
    "    \n",
    "# quick sort, in-place\n",
    "def largestNumber(self, nums):\n",
    "    self.quickSort(nums, 0, len(nums)-1)\n",
    "    return str(int(\"\".join(map(str, nums)))) \n",
    "\n",
    "def quickSort(self, nums, l, r):\n",
    "    if l >= r:\n",
    "        return \n",
    "    pos = self.partition(nums, l, r)\n",
    "    self.quickSort(nums, l, pos-1)\n",
    "    self.quickSort(nums, pos+1, r)\n",
    "    \n",
    "def partition(self, nums, l, r):\n",
    "    low = l\n",
    "    while l < r:\n",
    "        if self.compare(nums[l], nums[r]):\n",
    "            nums[l], nums[low] = nums[low], nums[l]\n",
    "            low += 1\n",
    "        l += 1\n",
    "    nums[low], nums[r] = nums[r], nums[low]\n",
    "    return low"
   ]
  }
 ],
 "metadata": {
  "kernelspec": {
   "display_name": "Python 3",
   "language": "python",
   "name": "python3"
  },
  "language_info": {
   "codemirror_mode": {
    "name": "ipython",
    "version": 3
   },
   "file_extension": ".py",
   "mimetype": "text/x-python",
   "name": "python",
   "nbconvert_exporter": "python",
   "pygments_lexer": "ipython3",
   "version": "3.6.2"
  }
 },
 "nbformat": 4,
 "nbformat_minor": 4
}
