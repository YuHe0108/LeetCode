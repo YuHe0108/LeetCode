{
 "cells": [
  {
   "cell_type": "raw",
   "metadata": {},
   "source": [
    "说明：\n",
    "    给定两个数组，写一个函数来计算它们的交集。\n",
    "\n",
    "Example 1:\n",
    "    Input: nums1 = [1,2,2,1], nums2 = [2,2]\n",
    "    Output: [2]\n",
    "\n",
    "Example 2:\n",
    "    Input: nums1 = [4,9,5], nums2 = [9,4,9,8,4]\n",
    "    Output: [9,4]\n",
    "\n",
    "Note:\n",
    "    1、Each element in the result must be unique.\n",
    "    2、The result can be in any order."
   ]
  },
  {
   "cell_type": "code",
   "execution_count": 2,
   "metadata": {},
   "outputs": [],
   "source": [
    "# 最简单的做法\n",
    "class Solution:\n",
    "    def intersection(self, nums1, nums2):\n",
    "        res = []\n",
    "        nums2 = set(nums2)\n",
    "        for n_2 in nums2:\n",
    "            if n_2 in nums1:\n",
    "                res.append(n_2)\n",
    "        return res"
   ]
  },
  {
   "cell_type": "code",
   "execution_count": 13,
   "metadata": {},
   "outputs": [],
   "source": [
    "class Solution:\n",
    "    def intersection(self, nums1, nums2):\n",
    "        res = set()\n",
    "        nums1.sort()\n",
    "        nums2.sort()\n",
    "        l_1, l_2, r_1, r_2 = 0, 0, len(nums1), len(nums2)\n",
    "        while l_1 < r_1 and l_2 < r_2:\n",
    "            if nums1[l_1] == nums2[l_2]:\n",
    "                res.add(nums1[l_1])\n",
    "                l_2 += 1\n",
    "                l_1 += 1\n",
    "            elif nums1[l_1] > nums2[l_2]:\n",
    "                l_2 += 1\n",
    "            else:\n",
    "                l_1 += 1\n",
    "        return res"
   ]
  },
  {
   "cell_type": "code",
   "execution_count": 14,
   "metadata": {},
   "outputs": [
    {
     "data": {
      "text/plain": [
       "{2}"
      ]
     },
     "execution_count": 14,
     "metadata": {},
     "output_type": "execute_result"
    }
   ],
   "source": [
    "nums1_ = [1,2,2,1]\n",
    "nums2_ = [2,2]\n",
    "solution = Solution()\n",
    "solution.intersection(nums1_, nums2_)"
   ]
  },
  {
   "cell_type": "code",
   "execution_count": null,
   "metadata": {},
   "outputs": [],
   "source": []
  }
 ],
 "metadata": {
  "kernelspec": {
   "display_name": "Python 3",
   "language": "python",
   "name": "python3"
  },
  "language_info": {
   "codemirror_mode": {
    "name": "ipython",
    "version": 3
   },
   "file_extension": ".py",
   "mimetype": "text/x-python",
   "name": "python",
   "nbconvert_exporter": "python",
   "pygments_lexer": "ipython3",
   "version": "3.6.2"
  }
 },
 "nbformat": 4,
 "nbformat_minor": 4
}
