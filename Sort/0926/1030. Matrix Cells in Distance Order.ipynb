{
 "cells": [
  {
   "cell_type": "raw",
   "metadata": {},
   "source": [
    "说明：\n",
    "    给定一个具有R行和C列的矩阵, 它们的单元格具有整数坐标(r, c), 其中 0 <= r < R 和 0 <= c < C.\n",
    "    此外，我们在该矩阵中给了一个坐标为（r0，c0）的单元格。\n",
    "    返回矩阵中所有的坐标，按其从（r0，c0）的最小距离到最大距离的距离排序。\n",
    "    在此，两个（r1，c1）和（r2，c2）之间的距离是曼哈顿距离，|r1-r2 |+|c1-c2 |。 （您可以按照满足此条件的任何顺序返回答案。）\n",
    "\n",
    "Example 1:\n",
    "    Input: R = 1, C = 2, r0 = 0, c0 = 0\n",
    "    Output: [[0,0],[0,1]]\n",
    "    Explanation: The distances from (r0, c0) to other cells are: [0,1]\n",
    "\n",
    "Example 2:\n",
    "    Input: R = 2, C = 2, r0 = 0, c0 = 1\n",
    "    Output: [[0,1],[0,0],[1,1],[1,0]]\n",
    "    Explanation: The distances from (r0, c0) to other cells are: [0,1,1,2]\n",
    "                 The answer [[0,1],[1,1],[0,0],[1,0]] would also be accepted as correct.\n",
    "\n",
    "Example 3:\n",
    "    Input: R = 2, C = 3, r0 = 1, c0 = 2\n",
    "    Output: [[1,2],[0,2],[1,1],[0,1],[1,0],[0,0]]\n",
    "    Explanation: The distances from (r0, c0) to other cells are: [0,1,1,2,2,3]\n",
    "                 There are other answers that would also be accepted as correct, such as [[1,2],[1,1],[0,2],[1,0],[0,1],[0,0]].\n",
    "\n",
    "Note:\n",
    "    1、1 <= R <= 100\n",
    "    2、1 <= C <= 100\n",
    "    3、0 <= r0 < R\n",
    "    4、0 <= c0 < C"
   ]
  },
  {
   "cell_type": "code",
   "execution_count": 19,
   "metadata": {},
   "outputs": [],
   "source": [
    "class Solution:\n",
    "    def allCellsDistOrder(self, R: int, C: int, r0: int, c0: int):\n",
    "        res = {}\n",
    "        for r in range(R):\n",
    "            for c in range(C):\n",
    "                dis = abs(r-r0) + abs(c-c0)\n",
    "                res.setdefault(dis, []).append([r, c])\n",
    "        res = sorted(res.items(), key = lambda x:x[0])\n",
    "        outs = []\n",
    "        for i, j in res:\n",
    "            outs.extend(j)\n",
    "        return outs"
   ]
  },
  {
   "cell_type": "code",
   "execution_count": 23,
   "metadata": {},
   "outputs": [],
   "source": [
    "class Solution:\n",
    "    def allCellsDistOrder(self, R: int, C: int, r0: int, c0: int):\n",
    "        target = list()\n",
    "        for i in range(R):\n",
    "            for j in range(C):\n",
    "                target.append([i,j])\n",
    "        print(target)\n",
    "        target.sort(key=lambda x: abs(x[0]-r0) + abs(x[1]-c0))\n",
    "        print(target)\n",
    "        return target"
   ]
  },
  {
   "cell_type": "code",
   "execution_count": 24,
   "metadata": {},
   "outputs": [
    {
     "name": "stdout",
     "output_type": "stream",
     "text": [
      "[[0, 0], [0, 1], [1, 0], [1, 1]]\n",
      "[[0, 1], [0, 0], [1, 1], [1, 0]]\n"
     ]
    },
    {
     "data": {
      "text/plain": [
       "[[0, 1], [0, 0], [1, 1], [1, 0]]"
      ]
     },
     "execution_count": 24,
     "metadata": {},
     "output_type": "execute_result"
    }
   ],
   "source": [
    "solution = Solution()\n",
    "solution.allCellsDistOrder(2, 2, 0, 1)"
   ]
  },
  {
   "cell_type": "code",
   "execution_count": null,
   "metadata": {},
   "outputs": [],
   "source": []
  }
 ],
 "metadata": {
  "kernelspec": {
   "display_name": "Python 3",
   "language": "python",
   "name": "python3"
  },
  "language_info": {
   "codemirror_mode": {
    "name": "ipython",
    "version": 3
   },
   "file_extension": ".py",
   "mimetype": "text/x-python",
   "name": "python",
   "nbconvert_exporter": "python",
   "pygments_lexer": "ipython3",
   "version": "3.6.2"
  }
 },
 "nbformat": 4,
 "nbformat_minor": 4
}
