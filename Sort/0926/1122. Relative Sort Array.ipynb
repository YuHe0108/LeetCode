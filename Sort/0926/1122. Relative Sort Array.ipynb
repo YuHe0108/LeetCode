{
 "cells": [
  {
   "cell_type": "raw",
   "metadata": {},
   "source": [
    "说明：\n",
    "    给定两个数组arr1和arr2，arr2的元素是不同的，arr2中的所有元素也在arr1中。\n",
    "    对arr1的元素进行排序，以使arr1中项目的相对顺序与arr2中的相同。\n",
    "    不在arr2中出现的元素应按升序放置在arr1的末尾。\n",
    "\n",
    "Example 1:\n",
    "    Input: arr1 = [2,3,1,3,2,4,6,7,9,2,19], arr2 = [2,1,4,3,9,6]\n",
    "    Output: [2,2,2,1,4,3,3,9,6,7,19]\n",
    "\n",
    "Constraints:\n",
    "    1、arr1.length, arr2.length <= 1000\n",
    "    2、0 <= arr1[i], arr2[i] <= 1000\n",
    "    3、Each arr2[i] is distinct.\n",
    "    4、Each arr2[i] is in arr1."
   ]
  },
  {
   "cell_type": "code",
   "execution_count": 37,
   "metadata": {},
   "outputs": [],
   "source": [
    "class Solution:\n",
    "    def relativeSortArray(self, arr1, arr2):\n",
    "        res = sorted(arr1)\n",
    "        idx_r = 0\n",
    "        idx_2 = 0\n",
    "        print(res)\n",
    "        while idx_r < len(res) and idx_2 < len(arr2):\n",
    "            if res[idx_r] == arr2[idx_2]:\n",
    "                if idx_r < len(res) - 1 and res[idx_r + 1] != res[idx_r]:\n",
    "                    idx_2 += 1\n",
    "                idx_r += 1\n",
    "            else:\n",
    "                while idx_r < len(res) - 1 and res[idx_r] == res[idx_r + 1]:\n",
    "                    idx_r += 1\n",
    "                    print(res)\n",
    "                res[idx_r], res[idx_r+1] = res[idx_r+1], res[idx_r]\n",
    "        return res"
   ]
  },
  {
   "cell_type": "code",
   "execution_count": 49,
   "metadata": {},
   "outputs": [],
   "source": [
    "class Solution:\n",
    "    def relativeSortArray(self, arr1, arr2):\n",
    "        res = []\n",
    "        arr1.sort()\n",
    "        for n_2 in arr2:\n",
    "            while n_2 in arr1:\n",
    "                res.append(n_2)\n",
    "                arr1.remove(n_2)\n",
    "        res.extend(arr1)\n",
    "        return res"
   ]
  },
  {
   "cell_type": "code",
   "execution_count": 51,
   "metadata": {},
   "outputs": [],
   "source": [
    "class Solution:\n",
    "    def relativeSortArray(self, arr1, arr2):\n",
    "        frequency_dict = {}\n",
    "        for i in range(len(arr1)):\n",
    "            if arr1[i] in frequency_dict:\n",
    "                frequency_dict[arr1[i]] += 1\n",
    "            else:\n",
    "                frequency_dict[arr1[i]] = 1   \n",
    "        \n",
    "        result = []        \n",
    "        for i in range(len(arr2)):\n",
    "            if arr2[i] in frequency_dict:\n",
    "                for j in range(0,frequency_dict[arr2[i]]):\n",
    "                    result.append(arr2[i])\n",
    "                frequency_dict.pop(arr2[i])\n",
    "                              \n",
    "        if len(frequency_dict.keys()) == 0:\n",
    "            return result\n",
    "        else:\n",
    "            excess = list(frequency_dict.keys())\n",
    "            excess.sort()\n",
    "            for i in range(len(excess)):\n",
    "                for j in range(0,frequency_dict[excess[i]]):\n",
    "                    result.append(excess[i])\n",
    "            return result"
   ]
  },
  {
   "cell_type": "code",
   "execution_count": 52,
   "metadata": {},
   "outputs": [
    {
     "name": "stdout",
     "output_type": "stream",
     "text": [
      "{2: 3, 3: 2, 1: 1, 4: 1, 6: 1, 7: 1, 9: 1, 19: 1}\n"
     ]
    },
    {
     "data": {
      "text/plain": [
       "[2, 2, 2, 1, 4, 3, 3, 9, 6, 7, 19]"
      ]
     },
     "execution_count": 52,
     "metadata": {},
     "output_type": "execute_result"
    }
   ],
   "source": [
    "solution = Solution()\n",
    "solution.relativeSortArray([2,3,1,3,2,4,6,7,9,2,19], [2,1,4,3,9,6])"
   ]
  },
  {
   "cell_type": "code",
   "execution_count": null,
   "metadata": {},
   "outputs": [],
   "source": []
  }
 ],
 "metadata": {
  "kernelspec": {
   "display_name": "Python 3",
   "language": "python",
   "name": "python3"
  },
  "language_info": {
   "codemirror_mode": {
    "name": "ipython",
    "version": 3
   },
   "file_extension": ".py",
   "mimetype": "text/x-python",
   "name": "python",
   "nbconvert_exporter": "python",
   "pygments_lexer": "ipython3",
   "version": "3.6.2"
  }
 },
 "nbformat": 4,
 "nbformat_minor": 4
}
