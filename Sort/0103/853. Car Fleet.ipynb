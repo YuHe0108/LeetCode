{
 "cells": [
  {
   "cell_type": "code",
   "execution_count": null,
   "metadata": {},
   "outputs": [],
   "source": []
  },
  {
   "cell_type": "code",
   "execution_count": null,
   "metadata": {},
   "outputs": [],
   "source": [
    "# pos, spd = [x[0] for x in p_s], [x[1] for x in p_s]\n",
    "        # print(pos, spd)\n",
    "        print(p_s)"
   ]
  },
  {
   "cell_type": "code",
   "execution_count": 37,
   "metadata": {},
   "outputs": [],
   "source": [
    "from typing import List\n",
    "from collections import defaultdict\n",
    "\n",
    "class Solution:\n",
    "    def carFleet(self, target: int, position: List[int], speed: List[int]) -> int:\n",
    "        def find(x):\n",
    "            if x != father[x]:\n",
    "                return find(father[x])\n",
    "            return x\n",
    "        \n",
    "        def union(x, y):\n",
    "            x, y = find(x), find(y)\n",
    "            if x < y:\n",
    "                father[y] = x\n",
    "            else:\n",
    "                father[x] = y\n",
    "        \n",
    "        p_s = sorted((zip(position, speed)))\n",
    "        print(p_s)\n",
    "        n = len(position)\n",
    "        father = [x for x in range(n)]\n",
    "        for i in range(n):\n",
    "            pos_i, spd_i = p_s[i]\n",
    "            for j in range(i+1, n):\n",
    "                pos_j, spd_j = p_s[j]\n",
    "                # 在你前面的车，如果速度不比你慢，永远也都追不上\n",
    "                if spd_j >= spd_i: \n",
    "                    continue\n",
    "                # 如果能追上了一辆车 就 break，追上的位置不可以大于 target\n",
    "                time = (pos_j - pos_i) / (spd_i - spd_j) # 追上的时间\n",
    "                if pos_i + spd_i * time <= target: # 追上的位置不能大于target\n",
    "                    union(i, j)\n",
    "                    break\n",
    "        cnt = set()\n",
    "        for i in range(n):\n",
    "            cnt.add(find(i))\n",
    "        return len(cnt)"
   ]
  },
  {
   "cell_type": "code",
   "execution_count": null,
   "metadata": {},
   "outputs": [],
   "source": []
  },
  {
   "cell_type": "code",
   "execution_count": 50,
   "metadata": {},
   "outputs": [],
   "source": [
    "class Solution:\n",
    "    def carFleet(self, target: int, position: List[int], speed: List[int]) -> int:\n",
    "        print(sorted(zip(position, speed), reverse=True))\n",
    "        # 按照 position 的大小进行排序，每辆车达到终点的时间，\n",
    "        time = [(target - p) / s for p, s in sorted(zip(position, speed), reverse=True)]\n",
    "        print(time)\n",
    "        cur, ret = 0, 0\n",
    "        # 因为是按照 pos 排序，如果你在 pos 比我小的位置，但是却需要更长的时间才能到达，那么肯定是无法追上 pos 更靠前的车\n",
    "        # 相反，如果到达 pos小的 到达的时间 小于 pos 大的到达时间，说明后面的车开得快，因此一定会在终点前相遇\n",
    "        for t in time:\n",
    "            if t > cur: # 这个地方的目的就是找一个开的慢，但是位置靠前的车，因为开的慢，后面的开的快的车一定会和他相遇\n",
    "                ret += 1\n",
    "                cur = t\n",
    "        return ret"
   ]
  },
  {
   "cell_type": "code",
   "execution_count": 51,
   "metadata": {},
   "outputs": [
    {
     "name": "stdout",
     "output_type": "stream",
     "text": [
      "[(17, 2), (6, 3), (2, 9)]\n",
      "[1.5, 4.666666666666667, 2.0]\n"
     ]
    },
    {
     "data": {
      "text/plain": [
       "2"
      ]
     },
     "execution_count": 51,
     "metadata": {},
     "output_type": "execute_result"
    }
   ],
   "source": [
    "solution = Solution()\n",
    "solution.carFleet(20, [6,2,17], [3,9,2])"
   ]
  },
  {
   "cell_type": "code",
   "execution_count": null,
   "metadata": {},
   "outputs": [],
   "source": [
    "if (pos_j - pos_i) % (spd_i - spd_j) == 0: # 可以追上"
   ]
  }
 ],
 "metadata": {
  "kernelspec": {
   "display_name": "Python 3",
   "language": "python",
   "name": "python3"
  },
  "language_info": {
   "codemirror_mode": {
    "name": "ipython",
    "version": 3
   },
   "file_extension": ".py",
   "mimetype": "text/x-python",
   "name": "python",
   "nbconvert_exporter": "python",
   "pygments_lexer": "ipython3",
   "version": "3.6.2"
  }
 },
 "nbformat": 4,
 "nbformat_minor": 4
}
