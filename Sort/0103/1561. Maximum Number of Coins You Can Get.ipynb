{
 "cells": [
  {
   "cell_type": "code",
   "execution_count": null,
   "metadata": {},
   "outputs": [],
   "source": []
  },
  {
   "cell_type": "code",
   "execution_count": null,
   "metadata": {},
   "outputs": [],
   "source": []
  },
  {
   "cell_type": "code",
   "execution_count": 9,
   "metadata": {},
   "outputs": [],
   "source": [
    "from typing import List\n",
    "\n",
    "# 类似于贪心的思想，经过排序之后，我和Alice取最大和次大的硬币，而bob取最小的硬币\n",
    "class Solution:\n",
    "    def maxCoins(self, piles: List[int]) -> int:\n",
    "        def helper(coins):\n",
    "            if not coins:\n",
    "                return 0\n",
    "            return coins[-2] + helper(coins[1:-2])\n",
    "        piles.sort()\n",
    "        return helper(piles)"
   ]
  },
  {
   "cell_type": "code",
   "execution_count": null,
   "metadata": {},
   "outputs": [],
   "source": []
  },
  {
   "cell_type": "code",
   "execution_count": 30,
   "metadata": {},
   "outputs": [],
   "source": [
    "class Solution:\n",
    "    def maxCoins(self, piles: List[int]) -> int:\n",
    "        piles.sort(reverse=True)\n",
    "        res = 0\n",
    "        cnt = 0\n",
    "        print(piles)\n",
    "        for i in range(len(piles)):\n",
    "            if i % 2 == 1:\n",
    "                res += piles[i]\n",
    "                cnt += 1\n",
    "                if cnt == len(piles) // 3:\n",
    "                    return res\n",
    "        return res"
   ]
  },
  {
   "cell_type": "code",
   "execution_count": 31,
   "metadata": {},
   "outputs": [
    {
     "name": "stdout",
     "output_type": "stream",
     "text": [
      "[9, 8, 7, 6, 5, 4, 3, 2, 1]\n",
      "8\n",
      "6\n",
      "4\n"
     ]
    },
    {
     "data": {
      "text/plain": [
       "18"
      ]
     },
     "execution_count": 31,
     "metadata": {},
     "output_type": "execute_result"
    }
   ],
   "source": [
    "solution = Solution()\n",
    "solution.maxCoins(piles =  [9,8,7,6,5,1,2,3,4])"
   ]
  },
  {
   "cell_type": "code",
   "execution_count": 8,
   "metadata": {},
   "outputs": [
    {
     "name": "stdout",
     "output_type": "stream",
     "text": [
      "[4, 1, 2]\n"
     ]
    }
   ],
   "source": [
    "piles = [2,4,1,2,7,8]\n",
    "print(piles[1:-2])"
   ]
  },
  {
   "cell_type": "code",
   "execution_count": null,
   "metadata": {},
   "outputs": [],
   "source": []
  }
 ],
 "metadata": {
  "kernelspec": {
   "display_name": "Python 3",
   "language": "python",
   "name": "python3"
  },
  "language_info": {
   "codemirror_mode": {
    "name": "ipython",
    "version": 3
   },
   "file_extension": ".py",
   "mimetype": "text/x-python",
   "name": "python",
   "nbconvert_exporter": "python",
   "pygments_lexer": "ipython3",
   "version": "3.6.2"
  }
 },
 "nbformat": 4,
 "nbformat_minor": 4
}
