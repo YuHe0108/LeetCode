{
 "cells": [
  {
   "cell_type": "code",
   "execution_count": null,
   "metadata": {},
   "outputs": [],
   "source": []
  },
  {
   "cell_type": "code",
   "execution_count": null,
   "metadata": {},
   "outputs": [],
   "source": []
  },
  {
   "cell_type": "code",
   "execution_count": null,
   "metadata": {},
   "outputs": [],
   "source": []
  },
  {
   "cell_type": "raw",
   "metadata": {},
   "source": [
    "题解：\n",
    "    对于数组 [3, 4, 5, 6, 7], 其sub_arr: [3, 4, 5, 6]是符合条件的，\n",
    "    其中[4, 5, 6]这三个数字都是可选可不选的，因此，总得选择就是 pow(2, 3)\n",
    "    1、确定左边界，确定右边界，确定从左边界到右边界有多少树（包括右边界）\n",
    "    2、cnt + pow(2, right-left)"
   ]
  },
  {
   "cell_type": "code",
   "execution_count": null,
   "metadata": {},
   "outputs": [],
   "source": [
    "class Solution:\n",
    "    def numSubseq(self, nums: List[int], target: int) -> int:\n",
    "        n = len(nums)\n",
    "        nums.sort()\n",
    "        cnt = 0\n",
    "        \n",
    "        for i in range(n):\n",
    "            val = nums[i]\n",
    "            if val * 2 > target:\n",
    "                return cnt % (pow(10, 9) + 7)\n",
    "            r_idx = bisect.bisect_right(nums, target - val)\n",
    "            if r_idx == n:\n",
    "                r_idx -= 1\n",
    "            while r_idx > i and nums[r_idx] + val > target:\n",
    "                r_idx -= 1\n",
    "            mid_num = r_idx - i\n",
    "            cnt += pow(2, mid_num)\n",
    "        return cnt % (pow(10, 9) + 7)\n",
    "        "
   ]
  },
  {
   "cell_type": "code",
   "execution_count": null,
   "metadata": {},
   "outputs": [],
   "source": [
    "class Solution:\n",
    "    def numSubseq(self, nums: List[int], target: int) -> int:\n",
    "        nums.sort()\n",
    "        l, r = 0, len(nums) -1\n",
    "        res = 0\n",
    "        mod = 10**9 + 7\n",
    "        while l <= r:\n",
    "            if nums[l] + nums[r] > target:\n",
    "                r -= 1\n",
    "            else:\n",
    "                res += pow(2, r-l, mod)\n",
    "                l += 1\n",
    "        return res % mod"
   ]
  },
  {
   "cell_type": "code",
   "execution_count": null,
   "metadata": {},
   "outputs": [],
   "source": []
  },
  {
   "cell_type": "code",
   "execution_count": 120,
   "metadata": {},
   "outputs": [],
   "source": [
    "from typing import List\n",
    "import bisect\n",
    "\n",
    "class Solution:\n",
    "    def numSubseq(self, nums: List[int], target: int) -> int:\n",
    "        mod = pow(10, 9) + 7\n",
    "        nums.sort()\n",
    "        # 如果都选最小值仍然大于target，那么肯定没有满足题意的sub_arr\n",
    "        if nums[0] * 2 > target: \n",
    "            return 0\n",
    "        n = len(nums)\n",
    "        cnt = 0\n",
    "        for i in range(n):\n",
    "            val = nums[i] # 有了左边界, 确定右边界\n",
    "            # 当前val是sub_arr中的最小值，最小值的两倍都大于target，那么肯定不存在满足题意的数组\n",
    "            if val * 2 > target: \n",
    "                break\n",
    "            r_idx = bisect.bisect_right(nums, target - val)\n",
    "            if r_idx == len(nums):\n",
    "                r_idx -= 1\n",
    "            while r_idx > i and nums[r_idx] + val > target:\n",
    "                r_idx -= 1\n",
    "            mid_nums = r_idx - i # 左边界 到右边界有多少数字\n",
    "            # print(val, r_idx, nums[r_idx], target, nums)\n",
    "            cnt += pow(2, mid_nums)\n",
    "        return cnt % mod"
   ]
  },
  {
   "cell_type": "code",
   "execution_count": 123,
   "metadata": {},
   "outputs": [
    {
     "name": "stdout",
     "output_type": "stream",
     "text": [
      "1 6 8 16 [1, 2, 4, 5, 6, 7, 8]\n",
      "2 6 8 16 [1, 2, 4, 5, 6, 7, 8]\n",
      "4 6 8 16 [1, 2, 4, 5, 6, 7, 8]\n",
      "5 6 8 16 [1, 2, 4, 5, 6, 7, 8]\n",
      "6 6 8 16 [1, 2, 4, 5, 6, 7, 8]\n",
      "7 6 8 16 [1, 2, 4, 5, 6, 7, 8]\n",
      "8 6 8 16 [1, 2, 4, 5, 6, 7, 8]\n"
     ]
    },
    {
     "data": {
      "text/plain": [
       "127"
      ]
     },
     "execution_count": 123,
     "metadata": {},
     "output_type": "execute_result"
    }
   ],
   "source": [
    "solution = Solution()\n",
    "solution.numSubseq(nums = [5,2,4,1,7,6,8], target = 16)"
   ]
  },
  {
   "cell_type": "code",
   "execution_count": null,
   "metadata": {},
   "outputs": [],
   "source": [
    "for j in range(i, n):\n",
    "                max_val = max(max_val, nums[j])\n",
    "                min_val = min(min_val, nums[j])\n",
    "                if min_val + max_val > target:\n",
    "                    continue\n",
    "                else:\n",
    "                    if j-i >= 0: # 中的数字大于 1 个\n",
    "                        cnt += pow(2, j-i) # 中间的数字都可去可不去\n",
    "                    print(max_val, min_val, i, j, j-i, nums, cnt)\n",
    "                    break\n",
    "            if cnt != 0:\n",
    "                break"
   ]
  },
  {
   "cell_type": "code",
   "execution_count": null,
   "metadata": {},
   "outputs": [],
   "source": []
  },
  {
   "cell_type": "code",
   "execution_count": 119,
   "metadata": {},
   "outputs": [
    {
     "data": {
      "text/plain": [
       "4"
      ]
     },
     "execution_count": 119,
     "metadata": {},
     "output_type": "execute_result"
    }
   ],
   "source": [
    "a = [1, 1, 1, 1]\n",
    "bisect.bisect_right(a, 1)"
   ]
  },
  {
   "cell_type": "code",
   "execution_count": null,
   "metadata": {},
   "outputs": [],
   "source": []
  },
  {
   "cell_type": "code",
   "execution_count": null,
   "metadata": {},
   "outputs": [],
   "source": []
  }
 ],
 "metadata": {
  "kernelspec": {
   "display_name": "Python 3",
   "language": "python",
   "name": "python3"
  },
  "language_info": {
   "codemirror_mode": {
    "name": "ipython",
    "version": 3
   },
   "file_extension": ".py",
   "mimetype": "text/x-python",
   "name": "python",
   "nbconvert_exporter": "python",
   "pygments_lexer": "ipython3",
   "version": "3.6.2"
  }
 },
 "nbformat": 4,
 "nbformat_minor": 4
}
