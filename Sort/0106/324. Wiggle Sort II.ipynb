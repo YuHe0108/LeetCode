{
 "cells": [
  {
   "cell_type": "code",
   "execution_count": null,
   "metadata": {},
   "outputs": [],
   "source": []
  },
  {
   "cell_type": "code",
   "execution_count": null,
   "metadata": {},
   "outputs": [],
   "source": []
  },
  {
   "cell_type": "code",
   "execution_count": 1,
   "metadata": {},
   "outputs": [],
   "source": []
  },
  {
   "cell_type": "code",
   "execution_count": 14,
   "metadata": {},
   "outputs": [],
   "source": [
    "from typing import List\n",
    "from sortedcontainers import SortedList\n",
    "from collections import Counter\n",
    "\n",
    "class Solution:\n",
    "    def wiggleSort(self, nums: List[int]) -> None:\n",
    "        \"\"\"\n",
    "        Do not return anything, modify nums in-place instead.\n",
    "        \"\"\"\n",
    "        freq = SortedList()\n",
    "        count = Counter(nums)\n",
    "        for v, k in count.items():\n",
    "            freq.add((v, k))\n",
    "        print(freq)\n",
    "        res = []\n",
    "        while freq:\n",
    "            v1, k1 = freq.pop(0)\n",
    "            res.append(v1)\n",
    "            k1 -= 1\n",
    "            if freq:\n",
    "                v2, k2 = freq.pop()\n",
    "                res.append(v2)\n",
    "                k2 -= 1\n",
    "                if k2 > 0:\n",
    "                    freq.add((v2, k2))\n",
    "            if k1 > 0:\n",
    "                freq.add((v1, k1))\n",
    "        return res"
   ]
  },
  {
   "cell_type": "code",
   "execution_count": null,
   "metadata": {},
   "outputs": [],
   "source": []
  },
  {
   "cell_type": "code",
   "execution_count": null,
   "metadata": {},
   "outputs": [],
   "source": []
  },
  {
   "cell_type": "code",
   "execution_count": 20,
   "metadata": {},
   "outputs": [],
   "source": [
    "class Solution:\n",
    "    def wiggleSort(self, nums: List[int]) -> None:\n",
    "        nums.sort()\n",
    "        n = len(nums)\n",
    "        i = (n - 1) // 2\n",
    "        j = n - 1\n",
    "        flag = 0 # 0表示找一个比当前数字大的数，1表示找一个比当前数字小的数\n",
    "        res = []\n",
    "        for _ in range(n):\n",
    "            if flag == 0:\n",
    "                res.append(nums[i])\n",
    "                i -= 1\n",
    "            else:\n",
    "                res.append(nums[j])\n",
    "                j -= 1\n",
    "            flag = 1 - flag\n",
    "        for i, v in enumerate(res):\n",
    "            nums[i] = v"
   ]
  },
  {
   "cell_type": "code",
   "execution_count": 21,
   "metadata": {},
   "outputs": [
    {
     "name": "stdout",
     "output_type": "stream",
     "text": [
      "[2, 3, 1, 3, 1, 2]\n"
     ]
    }
   ],
   "source": [
    "solution = Solution()\n",
    "solution.wiggleSort(nums = [1, 3, 2, 2, 3, 1])"
   ]
  },
  {
   "cell_type": "code",
   "execution_count": null,
   "metadata": {},
   "outputs": [],
   "source": []
  }
 ],
 "metadata": {
  "kernelspec": {
   "display_name": "Python 3",
   "language": "python",
   "name": "python3"
  },
  "language_info": {
   "codemirror_mode": {
    "name": "ipython",
    "version": 3
   },
   "file_extension": ".py",
   "mimetype": "text/x-python",
   "name": "python",
   "nbconvert_exporter": "python",
   "pygments_lexer": "ipython3",
   "version": "3.6.2"
  }
 },
 "nbformat": 4,
 "nbformat_minor": 4
}
