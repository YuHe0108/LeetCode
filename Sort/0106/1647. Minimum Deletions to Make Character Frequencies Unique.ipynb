{
 "cells": [
  {
   "cell_type": "code",
   "execution_count": null,
   "metadata": {},
   "outputs": [],
   "source": []
  },
  {
   "cell_type": "code",
   "execution_count": null,
   "metadata": {},
   "outputs": [],
   "source": []
  },
  {
   "cell_type": "code",
   "execution_count": 36,
   "metadata": {},
   "outputs": [],
   "source": [
    "from collections import Counter, defaultdict\n",
    "\n",
    "class Solution:\n",
    "    def minDeletions(self, s: str) -> int:\n",
    "        count = Counter(s)\n",
    "        set_freq = set(count.values()) # 记录 s 中字母出现的频次有哪些\n",
    "        if len(set_freq) == len(count.keys()): # 没有频次相同的字母\n",
    "            return 0\n",
    "        \n",
    "        same_freq = defaultdict(list) # 记录有相同频率的字母有哪些\n",
    "        for k, v in count.items():\n",
    "            same_freq[v].append(k)\n",
    "        \n",
    "        res = 0\n",
    "        for k, v in same_freq.items():\n",
    "            if len(v) == 1: # 如果当前频率下只有一个字母，无需处理\n",
    "                continue\n",
    "            for i in range(len(v) - 1): # 只要处理 n-1 个字母即可\n",
    "                cur_k = k # 当前字母出现的频率\n",
    "                while cur_k in set_freq and cur_k > 0: # 只有当前频数不在 set_freq中才可以\n",
    "                    cur_k -= 1\n",
    "                    res += 1\n",
    "                if cur_k != 0:\n",
    "                    set_freq.add(cur_k)\n",
    "        return res"
   ]
  },
  {
   "cell_type": "code",
   "execution_count": 38,
   "metadata": {},
   "outputs": [
    {
     "data": {
      "text/plain": [
       "2"
      ]
     },
     "execution_count": 38,
     "metadata": {},
     "output_type": "execute_result"
    }
   ],
   "source": [
    "solution = Solution()\n",
    "solution.minDeletions(s = \"ceabaacb\")"
   ]
  },
  {
   "cell_type": "code",
   "execution_count": null,
   "metadata": {},
   "outputs": [],
   "source": []
  }
 ],
 "metadata": {
  "kernelspec": {
   "display_name": "Python 3",
   "language": "python",
   "name": "python3"
  },
  "language_info": {
   "codemirror_mode": {
    "name": "ipython",
    "version": 3
   },
   "file_extension": ".py",
   "mimetype": "text/x-python",
   "name": "python",
   "nbconvert_exporter": "python",
   "pygments_lexer": "ipython3",
   "version": "3.6.2"
  }
 },
 "nbformat": 4,
 "nbformat_minor": 4
}
