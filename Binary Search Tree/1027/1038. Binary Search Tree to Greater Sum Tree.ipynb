{
 "cells": [
  {
   "cell_type": "raw",
   "metadata": {},
   "source": [
    "说明：\n",
    "    给出二叉 搜索 树的根节点，该树的节点值各不相同，请你将其转换为累加树（Greater Sum Tree），\n",
    "    使每个节点 node 的新值等于原树中大于或等于 node.val 的值之和。\n",
    "    提醒一下，二叉搜索树满足下列约束条件：\n",
    "        1、节点的左子树仅包含键 小于 节点键的节点。\n",
    "        2、节点的右子树仅包含键 大于 节点键的节点。\n",
    "        3、左右子树也必须是二叉搜索树。\n",
    "    注意：该题目与 538: https://leetcode-cn.com/problems/convert-bst-to-greater-tree/  相同\n",
    "\n",
    "示例 1：\n",
    "    输入：[4,1,6,0,2,5,7,null,null,null,3,null,null,null,8]\n",
    "    输出：[30,36,21,36,35,26,15,null,null,null,33,null,null,null,8]\n",
    "\n",
    "示例 2：\n",
    "    输入：root = [0,null,1]\n",
    "    输出：[1,null,1]\n",
    "\n",
    "示例 3：\n",
    "    输入：root = [1,0,2]\n",
    "    输出：[3,3,2]\n",
    "\n",
    "示例 4：\n",
    "    输入：root = [3,2,4,1]\n",
    "    输出：[7,9,4,10]\n",
    "\n",
    "提示：\n",
    "    1、树中的节点数介于 1 和 100 之间。\n",
    "    2、每个节点的值介于 0 和 100 之间。\n",
    "    3、树中的所有值 互不相同 。\n",
    "    4、给定的树为二叉搜索树。"
   ]
  },
  {
   "cell_type": "code",
   "execution_count": 2,
   "metadata": {},
   "outputs": [],
   "source": [
    "# Definition for a binary tree node.\n",
    "class TreeNode:\n",
    "    def __init__(self, val=0, left=None, right=None):\n",
    "        self.val = val\n",
    "        self.left = left\n",
    "        self.right = right\n",
    "\n",
    "# solution - 1\n",
    "class Solution:\n",
    "    def bstToGst(self, root: TreeNode) -> TreeNode:\n",
    "        self.vals = []\n",
    "        self.helper(root) # 获取树中的所有值\n",
    "        self.vals.sort()\n",
    "        temp_root = root\n",
    "        \n",
    "        def dfs(node):\n",
    "            if not node: return \n",
    "            if node:\n",
    "                idx = self.vals.index(node.val)\n",
    "                node.val = sum(self.vals[idx:])\n",
    "                dfs(node.left)\n",
    "                dfs(node.right)\n",
    "        dfs(temp_root)\n",
    "        return root\n",
    "    \n",
    "    \n",
    "    def helper(self, root):\n",
    "        if not root:\n",
    "            return \n",
    "        if root:\n",
    "            self.vals.append(root.val)\n",
    "            self.helper(root.left)\n",
    "            self.helper(root.right)      "
   ]
  },
  {
   "cell_type": "code",
   "execution_count": null,
   "metadata": {},
   "outputs": [],
   "source": [
    "class Solution:\n",
    "    def bstToGst(self, root: TreeNode) -> TreeNode:\n",
    "        # DFS Iterative TC: O(n) and SC: O(n)\n",
    "        tot = 0\n",
    "        stack = []\n",
    "        node = root\n",
    "        while node or stack:\n",
    "            while node:\n",
    "                stack.append(node)\n",
    "                node = node.right\n",
    "            node = stack.pop()\n",
    "            tot += node.val\n",
    "            node.val = tot\n",
    "            node = node.left\n",
    "        return root"
   ]
  }
 ],
 "metadata": {
  "kernelspec": {
   "display_name": "Python 3",
   "language": "python",
   "name": "python3"
  },
  "language_info": {
   "codemirror_mode": {
    "name": "ipython",
    "version": 3
   },
   "file_extension": ".py",
   "mimetype": "text/x-python",
   "name": "python",
   "nbconvert_exporter": "python",
   "pygments_lexer": "ipython3",
   "version": "3.6.2"
  }
 },
 "nbformat": 4,
 "nbformat_minor": 4
}
