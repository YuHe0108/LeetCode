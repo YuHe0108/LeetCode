{
 "cells": [
  {
   "cell_type": "raw",
   "metadata": {},
   "source": [
    "说明：\n",
    "    给出基数为 -2 的两个数 arr1 和 arr2，返回两数相加的结果。\n",
    "    数字以 数组形式 给出：\n",
    "    数组由若干 0 和 1 组成，按最高有效位到最低有效位的顺序排列。\n",
    "    例如，arr = [1,1,0,1] 表示数字 (-2)^3 + (-2)^2 + (-2)^0 = -3。数组形式 的数字也同样不含前导零：\n",
    "    以 arr 为例，这意味着要么 arr == [0]，要么 arr[0] == 1。\n",
    "    返回相同表示形式的 arr1 和 arr2 相加的结果。\n",
    "    两数的表示形式为：不含前导零、由若干 0 和 1 组成的数组。\n",
    "\n",
    "示例：\n",
    "    输入：arr1 = [1,1,1,1,1], arr2 = [1,0,1]\n",
    "    输出：[1,0,0,0,0]\n",
    "    解释：arr1 表示 11，arr2 表示 5，输出表示 16 。\n",
    "\n",
    "提示：\n",
    "    1、1 <= arr1.length <= 1000\n",
    "    2、1 <= arr2.length <= 1000\n",
    "    3、arr1 和 arr2 都不含前导零\n",
    "    4、arr1[i] 为 0 或 1\n",
    "    5、arr2[i] 为 0 或 1"
   ]
  },
  {
   "cell_type": "code",
   "execution_count": 11,
   "metadata": {},
   "outputs": [],
   "source": [
    "class Solution:\n",
    "    def addNegabinary(self, arr1, arr2):\n",
    "        val_1 = self.helper(arr1)\n",
    "        val_2 = self.helper(arr2)\n",
    "        sum_val = val_1 + val_2\n",
    "        res = []\n",
    "        print(sum_val)\n",
    "    \n",
    "    def helper(self, arr):\n",
    "        sum_val = 0\n",
    "        for i, v in enumerate(arr):\n",
    "            if v == 1:\n",
    "                sum_val += pow(-2, len(arr)-1-i)\n",
    "        return sum_val"
   ]
  },
  {
   "cell_type": "code",
   "execution_count": 55,
   "metadata": {},
   "outputs": [],
   "source": [
    "class Solution:\n",
    "    def addNegabinary(self, arr1, arr2):\n",
    "        base = 2\n",
    "        # 按最高有效位到最低有效位的顺序排列\n",
    "        arr1.reverse() # reverse之后，最低位在idx=0的位置\n",
    "        arr2.reverse()\n",
    "        res = []\n",
    "        carry = 0\n",
    "        for i in range(max(len(arr1), len(arr2)) + 2):\n",
    "            a = arr1[i] if i < len(arr1) else 0\n",
    "            b = arr2[i] if i < len(arr2) else 0\n",
    "            sum_val = a + b + carry\n",
    "            r = sum_val % (base) # 余数\n",
    "            carry = sum_val // (base) # 商\n",
    "            if r < 0:\n",
    "                carry += 1\n",
    "                r += abs(base)\n",
    "            res.append(r)\n",
    "        while len(res) > 1 and res[-1] == 0:\n",
    "            res.pop()\n",
    "        res.reverse()\n",
    "        return res"
   ]
  },
  {
   "cell_type": "code",
   "execution_count": 56,
   "metadata": {},
   "outputs": [
    {
     "data": {
      "text/plain": [
       "[1, 0, 1, 0]"
      ]
     },
     "execution_count": 56,
     "metadata": {},
     "output_type": "execute_result"
    }
   ],
   "source": [
    "solution = Solution()\n",
    "solution.addNegabinary(arr1 = [1, 0, 0], arr2 = [1, 1, 0])"
   ]
  },
  {
   "cell_type": "code",
   "execution_count": 57,
   "metadata": {},
   "outputs": [
    {
     "name": "stdout",
     "output_type": "stream",
     "text": [
      "-2\n",
      "1\n"
     ]
    }
   ],
   "source": [
    "\n",
    "print((-5) % (-3))\n",
    "print(-5 // -3)"
   ]
  },
  {
   "cell_type": "code",
   "execution_count": null,
   "metadata": {},
   "outputs": [],
   "source": []
  }
 ],
 "metadata": {
  "kernelspec": {
   "display_name": "Python 3",
   "language": "python",
   "name": "python3"
  },
  "language_info": {
   "codemirror_mode": {
    "name": "ipython",
    "version": 3
   },
   "file_extension": ".py",
   "mimetype": "text/x-python",
   "name": "python",
   "nbconvert_exporter": "python",
   "pygments_lexer": "ipython3",
   "version": "3.6.2"
  }
 },
 "nbformat": 4,
 "nbformat_minor": 4
}
