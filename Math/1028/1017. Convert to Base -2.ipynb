{
 "cells": [
  {
   "cell_type": "raw",
   "metadata": {},
   "source": [
    "说明：\n",
    "    给出数字 N，返回由若干 \"0\" 和 \"1\"组成的字符串，该字符串为 N 的负二进制（base -2）表示。\n",
    "    除非字符串就是 \"0\"，否则返回的字符串中不能含有前导零。\n",
    "\n",
    "示例 1：\n",
    "    输入：2\n",
    "    输出：\"110\"\n",
    "    解释：(-2) ^ 2 + (-2) ^ 1 = 2\n",
    "\n",
    "示例 2：\n",
    "    输入：3\n",
    "    输出：\"111\"\n",
    "    解释：(-2) ^ 2 + (-2) ^ 1 + (-2) ^ 0 = 3\n",
    "\n",
    "示例 3：\n",
    "    输入：4\n",
    "    输出：\"100\"\n",
    "    解释：(-2) ^ 2 = 4\n",
    "\n",
    "提示：\n",
    "    1、0 <= N <= 10^9"
   ]
  },
  {
   "cell_type": "code",
   "execution_count": 37,
   "metadata": {},
   "outputs": [],
   "source": [
    "class Solution:\n",
    "    def baseNeg2(self, N: int) -> str:\n",
    "        if N == 0: return '0'\n",
    "        base, res, carry = -2, [], 0\n",
    "        while N != 0:\n",
    "            r = N % base\n",
    "            d = N // (base)\n",
    "            if r < 0:\n",
    "                d += 1\n",
    "                r += 2\n",
    "            res.append(str(r))\n",
    "            N = d\n",
    "        res.reverse()\n",
    "        return ''.join(res)"
   ]
  },
  {
   "cell_type": "code",
   "execution_count": 46,
   "metadata": {},
   "outputs": [],
   "source": [
    "class Solution:\n",
    "    def baseNeg2(self, N: int) -> str:\n",
    "        if N == 0: return '0'\n",
    "        base, res, carry = 2, [], 0\n",
    "        while N != 0:\n",
    "            r = N % base\n",
    "            d = N // base\n",
    "            if r < 0:\n",
    "                d += 1\n",
    "                r += abs(base)\n",
    "            res.append(str(r))\n",
    "            N = d\n",
    "        res.reverse()\n",
    "        return ''.join(res)"
   ]
  },
  {
   "cell_type": "code",
   "execution_count": 47,
   "metadata": {},
   "outputs": [
    {
     "data": {
      "text/plain": [
       "'100'"
      ]
     },
     "execution_count": 47,
     "metadata": {},
     "output_type": "execute_result"
    }
   ],
   "source": [
    "solution = Solution()\n",
    "solution.baseNeg2(4)"
   ]
  },
  {
   "cell_type": "code",
   "execution_count": 45,
   "metadata": {},
   "outputs": [
    {
     "data": {
      "text/plain": [
       "-2"
      ]
     },
     "execution_count": 45,
     "metadata": {},
     "output_type": "execute_result"
    }
   ],
   "source": [
    "-5 // -3\n",
    "-5 % -3"
   ]
  },
  {
   "cell_type": "code",
   "execution_count": null,
   "metadata": {},
   "outputs": [],
   "source": []
  },
  {
   "cell_type": "code",
   "execution_count": null,
   "metadata": {},
   "outputs": [],
   "source": []
  }
 ],
 "metadata": {
  "kernelspec": {
   "display_name": "Python 3",
   "language": "python",
   "name": "python3"
  },
  "language_info": {
   "codemirror_mode": {
    "name": "ipython",
    "version": 3
   },
   "file_extension": ".py",
   "mimetype": "text/x-python",
   "name": "python",
   "nbconvert_exporter": "python",
   "pygments_lexer": "ipython3",
   "version": "3.6.2"
  }
 },
 "nbformat": 4,
 "nbformat_minor": 4
}
