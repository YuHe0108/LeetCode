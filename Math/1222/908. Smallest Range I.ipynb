{
 "cells": [
  {
   "cell_type": "code",
   "execution_count": null,
   "metadata": {},
   "outputs": [],
   "source": []
  },
  {
   "cell_type": "code",
   "execution_count": null,
   "metadata": {},
   "outputs": [],
   "source": []
  },
  {
   "cell_type": "markdown",
   "metadata": {},
   "source": [
    "### 12月22日 Range Ⅰ"
   ]
  },
  {
   "cell_type": "code",
   "execution_count": 37,
   "metadata": {},
   "outputs": [],
   "source": [
    "class Solution:\n",
    "    def smallestRangeI(self, A, K: int) -> int:\n",
    "        n = len(A)\n",
    "        if n == 1:\n",
    "            return 0\n",
    "        nums = set([x for x in range(1, K+1)])\n",
    "        mean = round(sum(A) / n) # 每个数都是均值的话，difference为 0\n",
    "        for i, n in enumerate(A):                           \n",
    "            if A[i] == mean:\n",
    "                continue\n",
    "            if abs(n - mean) in nums:\n",
    "                A[i] = mean\n",
    "            else:\n",
    "                v = min(abs(n-mean), max(nums))\n",
    "                if n - mean < 0:\n",
    "                    A[i] += v\n",
    "                else:\n",
    "                    A[i] -= v\n",
    "        return max(A) - min(A)"
   ]
  },
  {
   "cell_type": "code",
   "execution_count": null,
   "metadata": {},
   "outputs": [],
   "source": [
    "class Solution:\n",
    "    def smallestRangeI(self, A: List[int], K: int) -> int:\n",
    "        Min = min(A)\n",
    "        Max = max(A)\n",
    "        d = Max - Min\n",
    "        if K*2 >= d:\n",
    "            return 0\n",
    "        else:\n",
    "            return d - K*2"
   ]
  },
  {
   "cell_type": "code",
   "execution_count": null,
   "metadata": {},
   "outputs": [],
   "source": []
  },
  {
   "cell_type": "markdown",
   "metadata": {},
   "source": [
    "### 12月22日 smallestRangeII"
   ]
  },
  {
   "cell_type": "code",
   "execution_count": 41,
   "metadata": {},
   "outputs": [],
   "source": [
    "class Solution:\n",
    "    def smallestRangeII(self, A: List[int], K: int) -> int:\n",
    "        n = len(A)\n",
    "        if set(A) == 1:\n",
    "            return 0 # 所有元素如果都相同的话，dif 为 0\n",
    "        # 先对A进行排序，之后找一个分界线，这个分界线左边都加1，右边都减一\n",
    "        # 那么这样操作之后，最大的差距是多少呢？\n",
    "        # 对于左边要 + 的来说，最大值是 left[-1] + K, 最小值是left[0] + K\n",
    "        # 对于右边要 - 的来说，最大值是 right[-1] - K, 最小值是 right[0] - K\n",
    "        # 那么 res = max(right[0] - k, left[-1] + K) - min(left[0] + K, right[-1] - K)\n",
    "        A.sort()\n",
    "        res = A[-1] - A[0]\n",
    "        for i in range(1, n):\n",
    "            # A[i] 的左边（不包括 A[i]）都是 + K\n",
    "            # A[i] 的右边（包括 A[i]）都是 -K\n",
    "            max_v = max(A[i-1] + K, A[-1] - K)\n",
    "            min_v = min(A[0] + K, A[i] - K)\n",
    "            res = min(res, max_v-min_v)\n",
    "        return res"
   ]
  },
  {
   "cell_type": "code",
   "execution_count": 42,
   "metadata": {},
   "outputs": [
    {
     "data": {
      "text/plain": [
       "3"
      ]
     },
     "execution_count": 42,
     "metadata": {},
     "output_type": "execute_result"
    }
   ],
   "source": [
    "solution = Solution()\n",
    "solution.smallestRangeI([9,9,2,8,7], 4)"
   ]
  },
  {
   "cell_type": "code",
   "execution_count": null,
   "metadata": {},
   "outputs": [],
   "source": []
  }
 ],
 "metadata": {
  "kernelspec": {
   "display_name": "Python 3",
   "language": "python",
   "name": "python3"
  },
  "language_info": {
   "codemirror_mode": {
    "name": "ipython",
    "version": 3
   },
   "file_extension": ".py",
   "mimetype": "text/x-python",
   "name": "python",
   "nbconvert_exporter": "python",
   "pygments_lexer": "ipython3",
   "version": "3.6.2"
  }
 },
 "nbformat": 4,
 "nbformat_minor": 4
}
