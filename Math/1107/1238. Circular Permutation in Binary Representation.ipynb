{
 "cells": [
  {
   "cell_type": "raw",
   "metadata": {},
   "source": [
    "说明：\n",
    "    给你两个整数 n 和 start。你的任务是返回任意 (0,1,2,,...,2^n-1) 的排列 p，并且满足：\n",
    "        1、p[0] = start\n",
    "        2、p[i] 和 p[i+1] 的二进制表示形式只有一位不同\n",
    "        3、p[0] 和 p[2^n -1] 的二进制表示形式也只有一位不同\n",
    "示例 1：\n",
    "    输入：n = 2, start = 3\n",
    "    输出：[3,2,0,1]\n",
    "    解释：\n",
    "        这个排列的二进制表示是 (11,10,00,01)\n",
    "         所有的相邻元素都有一位是不同的，另一个有效的排列是 [3,1,0,2]\n",
    "\n",
    "示例 2：\n",
    "    输出：n = 3, start = 2\n",
    "    输出：[2,6,7,5,4,0,1,3]\n",
    "    解释：这个排列的二进制表示是 (010,110,111,101,100,000,001,011)\n",
    "\n",
    "提示：\n",
    "    1、1 <= n <= 16\n",
    "    2、0 <= start < 2^n"
   ]
  },
  {
   "cell_type": "code",
   "execution_count": 24,
   "metadata": {},
   "outputs": [],
   "source": [
    "class Solution:\n",
    "    def circularPermutation(self, n: int, start: int):\n",
    "        res = [0]\n",
    "        for i in range(n):\n",
    "            for j in range(len(res)-1, -1, -1):\n",
    "                res.append(res[j] | 1 << i)\n",
    "        idx =  res.index(start)\n",
    "        new = res[idx:] + res[:idx]\n",
    "        return new"
   ]
  },
  {
   "cell_type": "code",
   "execution_count": 25,
   "metadata": {},
   "outputs": [
    {
     "data": {
      "text/plain": [
       "[2, 6, 7, 5, 4, 0, 1, 3]"
      ]
     },
     "execution_count": 25,
     "metadata": {},
     "output_type": "execute_result"
    }
   ],
   "source": [
    "solution = Solution()\n",
    "solution.circularPermutation(3, 2)"
   ]
  },
  {
   "cell_type": "code",
   "execution_count": null,
   "metadata": {},
   "outputs": [],
   "source": []
  }
 ],
 "metadata": {
  "kernelspec": {
   "display_name": "Python 3",
   "language": "python",
   "name": "python3"
  },
  "language_info": {
   "codemirror_mode": {
    "name": "ipython",
    "version": 3
   },
   "file_extension": ".py",
   "mimetype": "text/x-python",
   "name": "python",
   "nbconvert_exporter": "python",
   "pygments_lexer": "ipython3",
   "version": "3.6.2"
  }
 },
 "nbformat": 4,
 "nbformat_minor": 4
}
