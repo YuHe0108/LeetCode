{
 "cells": [
  {
   "cell_type": "code",
   "execution_count": null,
   "metadata": {},
   "outputs": [],
   "source": []
  },
  {
   "cell_type": "code",
   "execution_count": null,
   "metadata": {},
   "outputs": [],
   "source": []
  },
  {
   "cell_type": "code",
   "execution_count": null,
   "metadata": {},
   "outputs": [],
   "source": [
    "class Solution:\n",
    "    def projectionArea(self, grid: List[List[int]]) -> int:\n",
    "        N = len(grid)\n",
    "        z_areas = 0 # x负轴方向看\n",
    "        for i in range(N):\n",
    "            for j in range(N):\n",
    "                z_areas += 1 if grid[i][j] > 0 else 0\n",
    "        \n",
    "        y_areas = [0] * N\n",
    "        for i in range(N):\n",
    "            for j in range(N):\n",
    "                y_areas[j] = max(y_areas[j], grid[i][j])\n",
    "        \n",
    "        x_areas = [0] * N\n",
    "        for i in range(N):\n",
    "            x_areas[i] = max(grid[i])\n",
    "        return sum(x_areas) + sum(y_areas) + z_areas\n",
    "                "
   ]
  }
 ],
 "metadata": {
  "kernelspec": {
   "display_name": "Python 3",
   "language": "python",
   "name": "python3"
  },
  "language_info": {
   "codemirror_mode": {
    "name": "ipython",
    "version": 3
   },
   "file_extension": ".py",
   "mimetype": "text/x-python",
   "name": "python",
   "nbconvert_exporter": "python",
   "pygments_lexer": "ipython3",
   "version": "3.6.2"
  }
 },
 "nbformat": 4,
 "nbformat_minor": 4
}
