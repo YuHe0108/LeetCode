{
 "cells": [
  {
   "cell_type": "code",
   "execution_count": null,
   "metadata": {},
   "outputs": [],
   "source": []
  },
  {
   "cell_type": "code",
   "execution_count": null,
   "metadata": {},
   "outputs": [],
   "source": []
  },
  {
   "cell_type": "code",
   "execution_count": 142,
   "metadata": {},
   "outputs": [],
   "source": [
    "class Solution:\n",
    "    def convertToTitle(self, n: int) -> str:\n",
    "        res = ''\n",
    "        k = n // 26 # 整数\n",
    "        m = n % 26 # 余数\n",
    "        if 0 < k <= 26:\n",
    "            if k % 26 > 0:\n",
    "                res += chr(k + 64)\n",
    "            else:\n",
    "                res += 'Z'\n",
    "        elif k > 26:\n",
    "            res += self.convertToTitle(k)\n",
    "        if n % 26 > 0:\n",
    "            res += chr(n % 26 + 64)\n",
    "        else:\n",
    "            print(res, n, 52 //26)\n",
    "        return res"
   ]
  },
  {
   "cell_type": "code",
   "execution_count": 167,
   "metadata": {},
   "outputs": [],
   "source": [
    "class Solution:\n",
    "    def convertToTitle(self, n: int) -> str:\n",
    "        res = ''\n",
    "        k = n // 26 # 整数\n",
    "        m = n % 26 # 余数\n",
    "        \n",
    "        if m == 0:\n",
    "            res += chr(k - 1 + 64) + 'Z'\n",
    "        else:\n",
    "            res += chr(m + 64)\n",
    "        return res"
   ]
  },
  {
   "cell_type": "code",
   "execution_count": null,
   "metadata": {},
   "outputs": [],
   "source": []
  },
  {
   "cell_type": "raw",
   "metadata": {},
   "source": [
    "10 进制包括数字：0~9\n",
    "2 进制包括：0、1\n",
    "26 进制应包括：0~25"
   ]
  },
  {
   "cell_type": "code",
   "execution_count": 9,
   "metadata": {},
   "outputs": [],
   "source": [
    "import math\n",
    "\n",
    "class Solution:\n",
    "    def convertToTitle(self, n: int) -> str:\n",
    "        res = ''\n",
    "        while n:\n",
    "            n -= 1\n",
    "            n, y = divmod(n, 26)\n",
    "            res += chr(y + 65) \n",
    "        return res[::-1]"
   ]
  },
  {
   "cell_type": "code",
   "execution_count": 10,
   "metadata": {},
   "outputs": [
    {
     "name": "stdout",
     "output_type": "stream",
     "text": [
      "9999\n",
      "384 15\n",
      "383\n",
      "14 19\n",
      "13\n",
      "0 13\n"
     ]
    },
    {
     "data": {
      "text/plain": [
       "'NTP'"
      ]
     },
     "execution_count": 10,
     "metadata": {},
     "output_type": "execute_result"
    }
   ],
   "source": [
    "solution = Solution()\n",
    "solution.convertToTitle(10000)"
   ]
  },
  {
   "cell_type": "code",
   "execution_count": 79,
   "metadata": {},
   "outputs": [
    {
     "data": {
      "text/plain": [
       "25"
      ]
     },
     "execution_count": 79,
     "metadata": {},
     "output_type": "execute_result"
    }
   ],
   "source": [
    "# 52 --> AZ"
   ]
  },
  {
   "cell_type": "code",
   "execution_count": 77,
   "metadata": {},
   "outputs": [
    {
     "data": {
      "text/plain": [
       "'Z'"
      ]
     },
     "execution_count": 77,
     "metadata": {},
     "output_type": "execute_result"
    }
   ],
   "source": [
    "chr(26 + 64)"
   ]
  },
  {
   "cell_type": "code",
   "execution_count": null,
   "metadata": {},
   "outputs": [],
   "source": []
  }
 ],
 "metadata": {
  "kernelspec": {
   "display_name": "Python 3",
   "language": "python",
   "name": "python3"
  },
  "language_info": {
   "codemirror_mode": {
    "name": "ipython",
    "version": 3
   },
   "file_extension": ".py",
   "mimetype": "text/x-python",
   "name": "python",
   "nbconvert_exporter": "python",
   "pygments_lexer": "ipython3",
   "version": "3.6.2"
  }
 },
 "nbformat": 4,
 "nbformat_minor": 4
}
