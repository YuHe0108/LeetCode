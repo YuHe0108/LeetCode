{
 "cells": [
  {
   "cell_type": "code",
   "execution_count": null,
   "metadata": {},
   "outputs": [],
   "source": []
  },
  {
   "cell_type": "code",
   "execution_count": null,
   "metadata": {},
   "outputs": [],
   "source": []
  },
  {
   "cell_type": "code",
   "execution_count": 25,
   "metadata": {},
   "outputs": [],
   "source": [
    "class Solution:\n",
    "    def complexNumberMultiply(self, a: str, b: str) -> str:\n",
    "        a_nums = a.split('+')\n",
    "        b_nums = b.split('+')\n",
    "        \n",
    "        values = [None] * 2\n",
    "        for i in range(2):\n",
    "            v1 = a_nums[i]\n",
    "            for j in range(2):\n",
    "                v2 = b_nums[j]\n",
    "                if v1[-1] == 'i' and v2[-1] == 'i': # 复数相乘，结果为整数，这是整数计算的第二个结果\n",
    "                    values[0] -= int(v1[:-1]) * int(v2[:-1])\n",
    "                elif v1[-1] != 'i' and v2[-1] != 'i': # 整数相乘, 第一个计算结果\n",
    "                    val = int(v1) * int(v2)\n",
    "                    values[0] = val\n",
    "                elif v1[-1] == 'i':\n",
    "                    values[1] += int(v1[:-1]) * int(v2)\n",
    "                elif v2[-1] == 'i': # 含有虚数i时，最后一个计算\n",
    "                    val = int(v1[:]) * int(v2[:-1])\n",
    "                    values[1] = val\n",
    "        return str(values[0]) + '+' + str(values[1]) + 'i'"
   ]
  },
  {
   "cell_type": "code",
   "execution_count": 26,
   "metadata": {},
   "outputs": [
    {
     "data": {
      "text/plain": [
       "'0+-2i'"
      ]
     },
     "execution_count": 26,
     "metadata": {},
     "output_type": "execute_result"
    }
   ],
   "source": [
    "solution = Solution()\n",
    "solution.complexNumberMultiply(\"1+-1i\", \"1+-1i\")"
   ]
  },
  {
   "cell_type": "code",
   "execution_count": 4,
   "metadata": {},
   "outputs": [
    {
     "data": {
      "text/plain": [
       "-2"
      ]
     },
     "execution_count": 4,
     "metadata": {},
     "output_type": "execute_result"
    }
   ],
   "source": [
    "int(str(-2))"
   ]
  },
  {
   "cell_type": "code",
   "execution_count": 9,
   "metadata": {},
   "outputs": [],
   "source": [
    "v1 = '22i'\n",
    "v2 = '33i'\n",
    "num1 = -int(v1[:-1]) * int(v2[:-1])"
   ]
  },
  {
   "cell_type": "code",
   "execution_count": 10,
   "metadata": {},
   "outputs": [
    {
     "data": {
      "text/plain": [
       "-726"
      ]
     },
     "execution_count": 10,
     "metadata": {},
     "output_type": "execute_result"
    }
   ],
   "source": [
    "num1"
   ]
  },
  {
   "cell_type": "code",
   "execution_count": null,
   "metadata": {},
   "outputs": [],
   "source": []
  }
 ],
 "metadata": {
  "kernelspec": {
   "display_name": "Python 3",
   "language": "python",
   "name": "python3"
  },
  "language_info": {
   "codemirror_mode": {
    "name": "ipython",
    "version": 3
   },
   "file_extension": ".py",
   "mimetype": "text/x-python",
   "name": "python",
   "nbconvert_exporter": "python",
   "pygments_lexer": "ipython3",
   "version": "3.6.2"
  }
 },
 "nbformat": 4,
 "nbformat_minor": 4
}
