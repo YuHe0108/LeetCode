{
 "cells": [
  {
   "cell_type": "raw",
   "metadata": {},
   "source": [
    "说明：\n",
    "    计算小于非负数n的质数数。\n",
    "\n",
    "Example:\n",
    "    Input: 10\n",
    "    Output: 4\n",
    "    Explanation: There are 4 prime numbers less than 10, they are 2, 3, 5, 7."
   ]
  },
  {
   "cell_type": "code",
   "execution_count": 32,
   "metadata": {},
   "outputs": [],
   "source": [
    "from math import sqrt, ceil\n",
    "\n",
    "class Solution:\n",
    "    def countPrimes(self, n: int) -> int:\n",
    "        if n <= 2: return 1\n",
    "        count = 1\n",
    "        not_prime = []\n",
    "        for i in range(3, n):\n",
    "            if self.is_prime(i, not_prime):\n",
    "                count += 1\n",
    "            else:\n",
    "                not_prime.append(i)\n",
    "        return count\n",
    "    \n",
    "    def is_prime(self, n, not_prime):\n",
    "        for not_pri_n in not_prime:\n",
    "            if n % not_pri_n == 0:\n",
    "                return False\n",
    "            \n",
    "        max_val = ceil(sqrt(n))\n",
    "        for i in range(2, max_val + 1):\n",
    "            if n % i == 0:\n",
    "                return False\n",
    "        return True"
   ]
  },
  {
   "cell_type": "code",
   "execution_count": 86,
   "metadata": {},
   "outputs": [],
   "source": [
    "from math import sqrt, ceil\n",
    "\n",
    "class Solution:\n",
    "    def countPrimes(self, n: int) -> int:\n",
    "        if n <= 2: return 0\n",
    "        s_n = ceil(sqrt(n))        \n",
    "        prime_nums = []\n",
    "        for i in range(2, s_n):\n",
    "            if self.is_prime:\n",
    "                prime_nums.append(i)\n",
    "        \n",
    "        count = 0\n",
    "        for i in range(2, n):\n",
    "            for prime_n in prime_nums:\n",
    "                if i not in prime_nums and i % prime_n == 0:\n",
    "                    count += 1\n",
    "                    break\n",
    "        return n-2-count\n",
    "    \n",
    "    \n",
    "    def is_prime(self, n):\n",
    "        max_val = ceil(sqrt(n))\n",
    "        for i in range(2, max_val + 1):\n",
    "            if n % i == 0:\n",
    "                return False\n",
    "        return True"
   ]
  },
  {
   "cell_type": "code",
   "execution_count": 6,
   "metadata": {},
   "outputs": [],
   "source": [
    "class Solution:\n",
    "    def countPrimes(self, n: int) -> int:\n",
    "        if n <= 2: return 0\n",
    "        res= [1] * n\n",
    "        res[0:2] = [0,0]\n",
    "        for i in range(2, int(n**0.5) + 1):\n",
    "            j = i * i\n",
    "            while j < n:\n",
    "                res[j] = 0\n",
    "                j += i\n",
    "        return res.count(1)"
   ]
  },
  {
   "cell_type": "code",
   "execution_count": 7,
   "metadata": {},
   "outputs": [
    {
     "data": {
      "text/plain": [
       "4"
      ]
     },
     "execution_count": 7,
     "metadata": {},
     "output_type": "execute_result"
    }
   ],
   "source": [
    "n_ = 10\n",
    "solution = Solution()\n",
    "solution.countPrimes(n_)"
   ]
  },
  {
   "cell_type": "code",
   "execution_count": null,
   "metadata": {},
   "outputs": [],
   "source": []
  },
  {
   "cell_type": "code",
   "execution_count": null,
   "metadata": {},
   "outputs": [],
   "source": []
  }
 ],
 "metadata": {
  "kernelspec": {
   "display_name": "TF2",
   "language": "python",
   "name": "tf2"
  },
  "language_info": {
   "codemirror_mode": {
    "name": "ipython",
    "version": 3
   },
   "file_extension": ".py",
   "mimetype": "text/x-python",
   "name": "python",
   "nbconvert_exporter": "python",
   "pygments_lexer": "ipython3",
   "version": "3.6.2"
  }
 },
 "nbformat": 4,
 "nbformat_minor": 4
}
