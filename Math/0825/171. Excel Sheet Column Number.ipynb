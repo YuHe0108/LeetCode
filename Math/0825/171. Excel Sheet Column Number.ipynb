{
 "cells": [
  {
   "cell_type": "raw",
   "metadata": {},
   "source": [
    "说明：\n",
    "    给定Excel工作表中显示的列标题，返回相应的列编号。\n",
    "    For example:\n",
    "            A -> 1\n",
    "            B -> 2\n",
    "            C -> 3\n",
    "            ...\n",
    "            Z -> 26\n",
    "            AA -> 27\n",
    "            AB -> 28 \n",
    "            ...\n",
    "\n",
    "Example 1:\n",
    "    Input: \"A\"\n",
    "    Output: 1\n",
    "\n",
    "Example 2:\n",
    "    Input: \"AB\"\n",
    "    Output: 28\n",
    "\n",
    "Example 3:\n",
    "    Input: \"ZY\"\n",
    "    Output: 701\n",
    "\n",
    "Constraints:\n",
    "1、1 <= s.length <= 7\n",
    "2、s consists only of uppercase English letters.\n",
    "3、s is between \"A\" and \"FXSHRXW\"."
   ]
  },
  {
   "cell_type": "code",
   "execution_count": 15,
   "metadata": {},
   "outputs": [],
   "source": [
    "class Solution:\n",
    "    def titleToNumber(self, s: str) -> int:\n",
    "        # ord('letter') - 64 当前字母的值\n",
    "        s = s[::-1]\n",
    "        result = 0\n",
    "        for i in range(len(s)):\n",
    "            result += (26 ** i) * (ord(s[i]) - 64)\n",
    "        return result"
   ]
  },
  {
   "cell_type": "code",
   "execution_count": 19,
   "metadata": {},
   "outputs": [
    {
     "data": {
      "text/plain": [
       "731"
      ]
     },
     "execution_count": 19,
     "metadata": {},
     "output_type": "execute_result"
    }
   ],
   "source": [
    "s_ = 'ABC'\n",
    "solution = Solution()\n",
    "solution.titleToNumber(s_)"
   ]
  },
  {
   "cell_type": "code",
   "execution_count": 8,
   "metadata": {},
   "outputs": [
    {
     "name": "stdout",
     "output_type": "stream",
     "text": [
      "1\n"
     ]
    }
   ],
   "source": [
    "print()"
   ]
  },
  {
   "cell_type": "code",
   "execution_count": 11,
   "metadata": {},
   "outputs": [],
   "source": [
    "result = s_[::-1]"
   ]
  },
  {
   "cell_type": "code",
   "execution_count": 12,
   "metadata": {},
   "outputs": [
    {
     "data": {
      "text/plain": [
       "'YZ'"
      ]
     },
     "execution_count": 12,
     "metadata": {},
     "output_type": "execute_result"
    }
   ],
   "source": [
    "result"
   ]
  },
  {
   "cell_type": "code",
   "execution_count": null,
   "metadata": {},
   "outputs": [],
   "source": []
  }
 ],
 "metadata": {
  "kernelspec": {
   "display_name": "TF2",
   "language": "python",
   "name": "tf2"
  },
  "language_info": {
   "codemirror_mode": {
    "name": "ipython",
    "version": 3
   },
   "file_extension": ".py",
   "mimetype": "text/x-python",
   "name": "python",
   "nbconvert_exporter": "python",
   "pygments_lexer": "ipython3",
   "version": "3.6.2"
  }
 },
 "nbformat": 4,
 "nbformat_minor": 4
}
