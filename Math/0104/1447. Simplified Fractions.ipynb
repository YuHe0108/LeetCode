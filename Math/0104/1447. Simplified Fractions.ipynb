{
 "cells": [
  {
   "cell_type": "code",
   "execution_count": null,
   "metadata": {},
   "outputs": [],
   "source": []
  },
  {
   "cell_type": "code",
   "execution_count": null,
   "metadata": {},
   "outputs": [],
   "source": [
    "class Solution:\n",
    "    def simplifiedFractions(self, n: int) -> List[str]:\n",
    "        res = []\n",
    "        v = set()\n",
    "        for fenmu in range(2, n + 1):\n",
    "            for fenzi in range(1, fenmu):\n",
    "                value = fenzi / fenmu\n",
    "                if value not in v:\n",
    "                    v.add(value) # 分子/分母  出现相同的数，那么一定是重复的\n",
    "                    res.append(str(fenzi) + '/' + str(fenmu))\n",
    "        return res"
   ]
  },
  {
   "cell_type": "code",
   "execution_count": 47,
   "metadata": {},
   "outputs": [],
   "source": [
    "from typing import List\n",
    "\n",
    "class Solution:\n",
    "    def simplifiedFractions(self, n: int) -> List[str]:\n",
    "        if n == 1:\n",
    "            return []\n",
    "        \n",
    "        def modify(a, b):\n",
    "            # a 是分子、b 是分母, 查看是否可以化简\n",
    "            # 求两个数的 <最大公约数>\n",
    "            i = a\n",
    "            while i > 1:\n",
    "                if a % i == 0 and b % i == 0:\n",
    "                    break\n",
    "                i -= 1\n",
    "            a, b = a // i, b // i\n",
    "            val = r'{}/{}'.format(a, b)\n",
    "            return val\n",
    "        \n",
    "        res = set()\n",
    "        for i in range(2, n+1): # 分母\n",
    "            for j in range(1, i): # 分子\n",
    "                res.add(modify(j, i))\n",
    "        return list(res)"
   ]
  },
  {
   "cell_type": "code",
   "execution_count": 48,
   "metadata": {},
   "outputs": [
    {
     "data": {
      "text/plain": [
       "['1/5', '2/5', '1/6', '5/6', '4/5', '1/3', '1/2', '1/4', '3/4', '2/3', '3/5']"
      ]
     },
     "execution_count": 48,
     "metadata": {},
     "output_type": "execute_result"
    }
   ],
   "source": [
    "solution = Solution()\n",
    "solution.simplifiedFractions(6)"
   ]
  },
  {
   "cell_type": "code",
   "execution_count": 49,
   "metadata": {},
   "outputs": [],
   "source": [
    "import math"
   ]
  },
  {
   "cell_type": "code",
   "execution_count": 52,
   "metadata": {},
   "outputs": [
    {
     "data": {
      "text/plain": [
       "2"
      ]
     },
     "execution_count": 52,
     "metadata": {},
     "output_type": "execute_result"
    }
   ],
   "source": [
    "math.gcd(2, 6) # gcd 是返回 2 和 6之间的最大公约数"
   ]
  },
  {
   "cell_type": "code",
   "execution_count": null,
   "metadata": {},
   "outputs": [],
   "source": []
  }
 ],
 "metadata": {
  "kernelspec": {
   "display_name": "Python 3",
   "language": "python",
   "name": "python3"
  },
  "language_info": {
   "codemirror_mode": {
    "name": "ipython",
    "version": 3
   },
   "file_extension": ".py",
   "mimetype": "text/x-python",
   "name": "python",
   "nbconvert_exporter": "python",
   "pygments_lexer": "ipython3",
   "version": "3.6.2"
  }
 },
 "nbformat": 4,
 "nbformat_minor": 4
}
