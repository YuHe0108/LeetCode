{
 "cells": [
  {
   "cell_type": "raw",
   "metadata": {},
   "source": [
    "思路:\n",
    "    假设目前数组总和为sum，我们需要移动次数为m，那么整体数组总和将会增加m * (n - 1)，这里的n为数组长度.\n",
    "    最后数组所有元素都相等为x，于是有：\n",
    "                                    sum + m * (n - 1) = x * n         (1)\n",
    "    我们再设数组最小的元素为: min_val。\n",
    "                            m = x - min_val，即 x = m + min_val 带入(1)得：\n",
    "                            m = sum - min_val * n"
   ]
  },
  {
   "cell_type": "code",
   "execution_count": null,
   "metadata": {},
   "outputs": [],
   "source": [
    "class Solution:\n",
    "    def minMoves(self, nums: List[int]) -> int:\n",
    "        return sum(nums) - len(nums) * min(nums)"
   ]
  }
 ],
 "metadata": {
  "kernelspec": {
   "display_name": "Python 3",
   "language": "python",
   "name": "python3"
  },
  "language_info": {
   "codemirror_mode": {
    "name": "ipython",
    "version": 3
   },
   "file_extension": ".py",
   "mimetype": "text/x-python",
   "name": "python",
   "nbconvert_exporter": "python",
   "pygments_lexer": "ipython3",
   "version": "3.6.2"
  }
 },
 "nbformat": 4,
 "nbformat_minor": 4
}
