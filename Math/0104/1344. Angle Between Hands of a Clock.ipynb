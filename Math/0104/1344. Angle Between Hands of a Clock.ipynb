{
 "cells": [
  {
   "cell_type": "code",
   "execution_count": null,
   "metadata": {},
   "outputs": [],
   "source": []
  },
  {
   "cell_type": "code",
   "execution_count": null,
   "metadata": {},
   "outputs": [],
   "source": []
  },
  {
   "cell_type": "code",
   "execution_count": 30,
   "metadata": {},
   "outputs": [],
   "source": [
    "class Solution:\n",
    "    def angleClock(self, hour: int, minutes: int) -> float:\n",
    "        # 算出 每转动一个空格，转过的角度是多少\n",
    "        degree = 360 / 60\n",
    "        h_deg = hour % 12 * 5 * degree # 时针与 12 点形成的角度\n",
    "        h_m = minutes / 60 # 分钟转过了百分之多少，这表明 时针 在 30 度中转过的百分比\n",
    "        h_m_deg = h_m * 5 * degree # 时针转动的角度\n",
    "        h_deg += h_m_deg\n",
    "        \n",
    "        # 求分钟的距离 12 点形成的角度\n",
    "        m_deg = minutes * degree\n",
    "        res = abs(m_deg - h_deg)\n",
    "        return min(res, 360 - res)"
   ]
  },
  {
   "cell_type": "code",
   "execution_count": 31,
   "metadata": {},
   "outputs": [
    {
     "data": {
      "text/plain": [
       "7.5"
      ]
     },
     "execution_count": 31,
     "metadata": {},
     "output_type": "execute_result"
    }
   ],
   "source": [
    "solution = Solution()\n",
    "solution.angleClock(3, 15)"
   ]
  },
  {
   "cell_type": "code",
   "execution_count": null,
   "metadata": {},
   "outputs": [],
   "source": []
  }
 ],
 "metadata": {
  "kernelspec": {
   "display_name": "Python 3",
   "language": "python",
   "name": "python3"
  },
  "language_info": {
   "codemirror_mode": {
    "name": "ipython",
    "version": 3
   },
   "file_extension": ".py",
   "mimetype": "text/x-python",
   "name": "python",
   "nbconvert_exporter": "python",
   "pygments_lexer": "ipython3",
   "version": "3.6.2"
  }
 },
 "nbformat": 4,
 "nbformat_minor": 4
}
