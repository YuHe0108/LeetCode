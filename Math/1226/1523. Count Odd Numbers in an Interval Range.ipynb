{
 "cells": [
  {
   "cell_type": "code",
   "execution_count": null,
   "metadata": {},
   "outputs": [],
   "source": []
  },
  {
   "cell_type": "code",
   "execution_count": null,
   "metadata": {},
   "outputs": [],
   "source": []
  },
  {
   "cell_type": "code",
   "execution_count": null,
   "metadata": {},
   "outputs": [],
   "source": [
    "class Solution:\n",
    "    def countOdds(self, low: int, high: int) -> int:\n",
    "        if low % 2 == 1 and high % 2 == 1:\n",
    "            return (high - low - 1) // 2 + 2\n",
    "        if low % 2 == 0 and high % 2 == 0:\n",
    "            return (high - low) // 2\n",
    "        if low % 2 == 0 and high % 2 == 1:\n",
    "            return (high - low - 1) // 2 + 1\n",
    "        if low % 2 == 1 and high % 2 == 0:\n",
    "            return (high - low - 1) // 2 + 1"
   ]
  }
 ],
 "metadata": {
  "kernelspec": {
   "display_name": "Python 3",
   "language": "python",
   "name": "python3"
  },
  "language_info": {
   "codemirror_mode": {
    "name": "ipython",
    "version": 3
   },
   "file_extension": ".py",
   "mimetype": "text/x-python",
   "name": "python",
   "nbconvert_exporter": "python",
   "pygments_lexer": "ipython3",
   "version": "3.6.2"
  }
 },
 "nbformat": 4,
 "nbformat_minor": 4
}
