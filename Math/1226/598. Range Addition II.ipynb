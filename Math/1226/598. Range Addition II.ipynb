{
 "cells": [
  {
   "cell_type": "code",
   "execution_count": null,
   "metadata": {},
   "outputs": [],
   "source": []
  },
  {
   "cell_type": "code",
   "execution_count": null,
   "metadata": {},
   "outputs": [],
   "source": []
  },
  {
   "cell_type": "code",
   "execution_count": null,
   "metadata": {},
   "outputs": [],
   "source": []
  },
  {
   "cell_type": "code",
   "execution_count": 34,
   "metadata": {},
   "outputs": [],
   "source": [
    "from collections import Counter, defaultdict\n",
    "\n",
    "class Solution:\n",
    "    def maxCount(self, m: int, n: int, ops):\n",
    "        if not ops:\n",
    "            return m * n\n",
    "        \n",
    "        count = defaultdict(int)\n",
    "        for x, y in ops:\n",
    "            count[(x, y)] += 1\n",
    "        s_count = sorted(count.items(), key=lambda x: (x[0][0] * x[0][1], -x[1]))\n",
    "        print(s_count)\n",
    "        item = s_count.pop(0)\n",
    "        return item[0][0] * item[0][1]"
   ]
  },
  {
   "cell_type": "code",
   "execution_count": 46,
   "metadata": {},
   "outputs": [],
   "source": [
    "class Solution:\n",
    "    def maxCount(self, m: int, n: int, ops):\n",
    "        if ops == []:\n",
    "            return m*n\n",
    "        row = []\n",
    "        column = []\n",
    "        for i in ops:\n",
    "            row.append(i[0])\n",
    "            column.append(i[1])\n",
    "        print(row, column)\n",
    "        return min(row) * min(column)"
   ]
  },
  {
   "cell_type": "code",
   "execution_count": 47,
   "metadata": {},
   "outputs": [
    {
     "name": "stdout",
     "output_type": "stream",
     "text": [
      "[16, 14, 14, 4, 10, 11, 8, 16, 13, 8, 2, 9, 3, 2, 6] [1, 3, 2, 1, 1, 1, 3, 2, 1, 3, 2, 1, 1, 2, 3]\n"
     ]
    },
    {
     "data": {
      "text/plain": [
       "2"
      ]
     },
     "execution_count": 47,
     "metadata": {},
     "output_type": "execute_result"
    }
   ],
   "source": [
    "solution = Solution()\n",
    "solution.maxCount(18,3,[[16,1],[14,3],[14,2],[4,1],[10,1],[11,1],[8,3],[16,2],[13,1],[8,3],[2,2],[9,1],[3,1],[2,2],[6,3]])"
   ]
  },
  {
   "cell_type": "code",
   "execution_count": null,
   "metadata": {},
   "outputs": [],
   "source": []
  }
 ],
 "metadata": {
  "kernelspec": {
   "display_name": "Python 3",
   "language": "python",
   "name": "python3"
  },
  "language_info": {
   "codemirror_mode": {
    "name": "ipython",
    "version": 3
   },
   "file_extension": ".py",
   "mimetype": "text/x-python",
   "name": "python",
   "nbconvert_exporter": "python",
   "pygments_lexer": "ipython3",
   "version": "3.6.2"
  }
 },
 "nbformat": 4,
 "nbformat_minor": 4
}
