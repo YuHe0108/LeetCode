{
 "cells": [
  {
   "cell_type": "code",
   "execution_count": null,
   "metadata": {},
   "outputs": [],
   "source": []
  },
  {
   "cell_type": "code",
   "execution_count": null,
   "metadata": {},
   "outputs": [],
   "source": []
  },
  {
   "cell_type": "raw",
   "metadata": {},
   "source": [
    "列表长度为 queries[i][0], 且元素的乘积为 queries[i][1]"
   ]
  },
  {
   "cell_type": "code",
   "execution_count": 54,
   "metadata": {},
   "outputs": [],
   "source": [
    "from typing import List\n",
    "\n",
    "class Solution:\n",
    "    def waysToFillArray(self, queries: List[List[int]]) -> List[int]:\n",
    "        mod = pow(10, 9) + 7\n",
    "        comb = [[0] * 15 for _ in range(10015)]\n",
    "        for i in range(10015):\n",
    "            comb[i][0] = 1\n",
    "            for j in range(1, min(i, 14)  + 1):\n",
    "                comb[i][j] = (comb[i-1][j-1] + comb[i-1][j]) % mod\n",
    "        \n",
    "        nums = [b for a, b in queries]\n",
    "        count = {}\n",
    "        for v in nums:\n",
    "            if v in count:\n",
    "                continue\n",
    "            pre_v = v\n",
    "            cur = 1\n",
    "            record = []\n",
    "            # 统计每个数字的质因数，所谓质因数就是能被value整除，并且是质数 \n",
    "            for j in range(2, v+1):\n",
    "                cnt = 0\n",
    "                while v % j == 0:\n",
    "                    cnt += 1\n",
    "                    v //= j\n",
    "                if cnt != 0:\n",
    "                    record.append((j, cnt))\n",
    "            count[pre_v] = record\n",
    "        \n",
    "        res = [0] * len(queries)\n",
    "        for i, (a, b) in enumerate(queries):\n",
    "            cur = 1\n",
    "            for k, v in count[b]:\n",
    "                cur *= comb[a+v-1][v] % mod\n",
    "            res[i] = cur % mod\n",
    "        return res"
   ]
  },
  {
   "cell_type": "code",
   "execution_count": null,
   "metadata": {},
   "outputs": [],
   "source": [
    "def getPrimeFactor(n):\n",
    "    ans = []\n",
    "    i = 2\n",
    "    while i * i <= n:\n",
    "        cnt = 0\n",
    "        while n % i == 0:\n",
    "            cnt += 1\n",
    "            n //= i\n",
    "        if cnt > 0:\n",
    "            ans.append(cnt)\n",
    "        i += 1\n",
    "    if n > 1:\n",
    "        ans.append(1)\n",
    "    return ans"
   ]
  },
  {
   "cell_type": "code",
   "execution_count": 93,
   "metadata": {},
   "outputs": [],
   "source": [
    "from typing import List\n",
    "\n",
    "class Solution:\n",
    "    def waysToFillArray(self, queries: List[List[int]]) -> List[int]:\n",
    "        def getPrimeFactor(n):\n",
    "            ans = []\n",
    "            i = 2\n",
    "            # 定理：一个数的质因数的平方小于等于这个数\n",
    "            while i * i <= n:\n",
    "                cnt = 0\n",
    "                while n % i == 0:\n",
    "                    cnt += 1\n",
    "                    n //= i\n",
    "                if cnt > 0:\n",
    "                    ans.append(cnt)\n",
    "                # print(i, cnt, n)\n",
    "                i += 1\n",
    "            # 最后 n 由于除了很多质因数，最后的结果n可能是1，也可能还是一个质因数\n",
    "            # 如果 n 大于1的话，还要在 +1\n",
    "            if n > 1:\n",
    "                ans.append(1)\n",
    "            return ans\n",
    "        \n",
    "        return getPrimeFactor(4)\n",
    "    \n",
    "        mod = pow(10, 9) + 7\n",
    "        comb = [[0] * 15 for _ in range(10015)]\n",
    "        for i in range(10015):\n",
    "            comb[i][0] = 1\n",
    "            for j in range(1, min(i, 14)  + 1):\n",
    "                comb[i][j] = (comb[i-1][j-1] + comb[i-1][j]) % mod\n",
    "        \n",
    "        res = []\n",
    "        for n, k in queries:\n",
    "            cur = 1\n",
    "            for cnt in getPrimeFactor(k):\n",
    "                cur *= comb[cnt+n-1][cnt]\n",
    "                cur %= mod\n",
    "            res.append(cur)\n",
    "        return res"
   ]
  },
  {
   "cell_type": "code",
   "execution_count": 94,
   "metadata": {},
   "outputs": [
    {
     "name": "stdout",
     "output_type": "stream",
     "text": [
      "2 2 1\n"
     ]
    },
    {
     "data": {
      "text/plain": [
       "[2]"
      ]
     },
     "execution_count": 94,
     "metadata": {},
     "output_type": "execute_result"
    }
   ],
   "source": [
    "solution = Solution()\n",
    "solution.waysToFillArray(queries = [[2,6],[5,1],[73,660]])"
   ]
  },
  {
   "cell_type": "code",
   "execution_count": null,
   "metadata": {},
   "outputs": [],
   "source": []
  },
  {
   "cell_type": "code",
   "execution_count": 41,
   "metadata": {},
   "outputs": [
    {
     "data": {
      "text/plain": [
       "0"
      ]
     },
     "execution_count": 41,
     "metadata": {},
     "output_type": "execute_result"
    }
   ],
   "source": []
  },
  {
   "cell_type": "code",
   "execution_count": 32,
   "metadata": {},
   "outputs": [
    {
     "data": {
      "text/plain": [
       "[4, 1, 50734910]"
      ]
     },
     "execution_count": 32,
     "metadata": {},
     "output_type": "execute_result"
    }
   ],
   "source": []
  },
  {
   "cell_type": "code",
   "execution_count": null,
   "metadata": {},
   "outputs": [],
   "source": []
  },
  {
   "cell_type": "code",
   "execution_count": null,
   "metadata": {},
   "outputs": [],
   "source": []
  },
  {
   "cell_type": "code",
   "execution_count": null,
   "metadata": {},
   "outputs": [],
   "source": [
    "\n",
    "from typing import List\n",
    "\n",
    "class Solution:\n",
    "    def waysToFillArray(self, queries: List[List[int]]) -> List[int]:\n",
    "        mod = pow(10, 9) + 7\n",
    "        comb = [[0] * 15 for _ in range(10015)]\n",
    "        for i in range(10015):\n",
    "            comb[i][0] = 1\n",
    "            for j in range(1, min(i, 14)  + 1):\n",
    "                comb[i][j] = (comb[i-1][j-1] + comb[i-1][j]) % mod\n",
    "        \n",
    "        res = [0] * len(queries)\n",
    "        for i, (a, b) in enumerate(queries):\n",
    "            cur = 1\n",
    "            for j in range(2, b+1):\n",
    "                cnt = 0\n",
    "                while b % j == 0:\n",
    "                    cnt += 1\n",
    "                    b //= j\n",
    "                cur *= comb[a+cnt-1][cnt]\n",
    "            res[i] = cur % mod\n",
    "        return res"
   ]
  }
 ],
 "metadata": {
  "kernelspec": {
   "display_name": "Python 3",
   "language": "python",
   "name": "python3"
  },
  "language_info": {
   "codemirror_mode": {
    "name": "ipython",
    "version": 3
   },
   "file_extension": ".py",
   "mimetype": "text/x-python",
   "name": "python",
   "nbconvert_exporter": "python",
   "pygments_lexer": "ipython3",
   "version": "3.6.2"
  }
 },
 "nbformat": 4,
 "nbformat_minor": 4
}
