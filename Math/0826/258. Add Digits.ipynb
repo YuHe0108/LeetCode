{
 "cells": [
  {
   "cell_type": "raw",
   "metadata": {},
   "source": [
    "说明：\n",
    "    给定一个非负整数num，请重复加所有数字，直到结果只有一位。\n",
    "\n",
    "Example:\n",
    "    Input: 38\n",
    "    Output: 2 \n",
    "    Explanation: The process is like: 3 + 8 = 11, 1 + 1 = 2. \n",
    "                 Since 2 has only one digit, return it.\n",
    "\n",
    "跟进：\n",
    "    不使用递归和循环，使用在时间复杂度为 O(1)时解决。"
   ]
  },
  {
   "cell_type": "code",
   "execution_count": 18,
   "metadata": {},
   "outputs": [],
   "source": [
    "class Solution:\n",
    "    def addDigits(self, num: int) -> int:\n",
    "        s_num = str(num)\n",
    "        while len(s_num) > 1:\n",
    "            temp = 0\n",
    "            for i in range(len(s_num)):\n",
    "                temp += int(s_num[i])\n",
    "            s_num = str(temp)\n",
    "        return int(s_num)"
   ]
  },
  {
   "cell_type": "code",
   "execution_count": 20,
   "metadata": {},
   "outputs": [],
   "source": [
    "class Solution:\n",
    "    def addDigits(self, num: int) -> int:\n",
    "        while num >= 10:\n",
    "            num = num%10 + num//10\n",
    "        return num"
   ]
  },
  {
   "cell_type": "code",
   "execution_count": 22,
   "metadata": {},
   "outputs": [],
   "source": [
    "class Solution:\n",
    "    def addDigits(self, num: int) -> int:\n",
    "        if num <= 0:\n",
    "            return 0\n",
    "        else:\n",
    "            return (num - 1) % 9 + 1"
   ]
  },
  {
   "cell_type": "code",
   "execution_count": 23,
   "metadata": {},
   "outputs": [
    {
     "data": {
      "text/plain": [
       "2"
      ]
     },
     "execution_count": 23,
     "metadata": {},
     "output_type": "execute_result"
    }
   ],
   "source": [
    "num_ = 101\n",
    "solution = Solution()\n",
    "solution.addDigits(num_)"
   ]
  },
  {
   "cell_type": "code",
   "execution_count": null,
   "metadata": {},
   "outputs": [],
   "source": []
  }
 ],
 "metadata": {
  "kernelspec": {
   "display_name": "Python 3",
   "language": "python",
   "name": "python3"
  },
  "language_info": {
   "codemirror_mode": {
    "name": "ipython",
    "version": 3
   },
   "file_extension": ".py",
   "mimetype": "text/x-python",
   "name": "python",
   "nbconvert_exporter": "python",
   "pygments_lexer": "ipython3",
   "version": "3.6.2"
  }
 },
 "nbformat": 4,
 "nbformat_minor": 4
}
