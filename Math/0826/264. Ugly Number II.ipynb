{
 "cells": [
  {
   "cell_type": "raw",
   "metadata": {},
   "source": [
    "说明：\n",
    "    1、编写程序以查找第n个丑数。丑数是正数，其主要因子仅包括2、3、5。\n",
    "\n",
    "Example:\n",
    "    Input: n = 10\n",
    "    Output: 12\n",
    "    Explanation: 1, 2, 3, 4, 5, 6, 8, 9, 10, 12 is the sequence of the first 10 ugly numbers.\n",
    "\n",
    "Note:  \n",
    "    1、1 is typically treated as an ugly number.\n",
    "    2、n does not exceed 1690."
   ]
  },
  {
   "cell_type": "code",
   "execution_count": 36,
   "metadata": {},
   "outputs": [],
   "source": [
    "# 时间复杂度 NlogN\n",
    "class Solution:\n",
    "    def nthUglyNumber(self, n: int) -> int:\n",
    "        res = [1]\n",
    "        for i in range(n):\n",
    "            num = res.pop(0)\n",
    "            val_2 = num * 2\n",
    "            val_3 = num * 3\n",
    "            val_5 = num * 5\n",
    "            if val_2 not in res:\n",
    "                res.append(val_2)\n",
    "            if val_3 not in res:\n",
    "                res.append(val_3)\n",
    "            if val_5 not in res:\n",
    "                res.append(val_5)\n",
    "            res.sort()\n",
    "        return num"
   ]
  },
  {
   "cell_type": "code",
   "execution_count": 67,
   "metadata": {},
   "outputs": [],
   "source": [
    "class Solution:\n",
    "    def nthUglyNumber(self, n: int) -> int:\n",
    "        nums = [1]\n",
    "        p2 = p3 = p5 = 0\n",
    "        for i in range(n-1):\n",
    "            temp = min(nums[p2] * 2, nums[p3] * 3, nums[p5] * 5)\n",
    "            nums.append(temp)\n",
    "            if temp == nums[p2] * 2:\n",
    "                p2 += 1\n",
    "            if temp == nums[p3] * 3:\n",
    "                p3 += 1\n",
    "            if temp == nums[p5] * 5:\n",
    "                p5 += 1\n",
    "            print(nums, p2, p3, p5)\n",
    "        return nums[-1]"
   ]
  },
  {
   "cell_type": "code",
   "execution_count": 68,
   "metadata": {},
   "outputs": [
    {
     "name": "stdout",
     "output_type": "stream",
     "text": [
      "[1, 2] 1 0 0\n",
      "[1, 2, 3] 1 1 0\n",
      "[1, 2, 3, 4] 2 1 0\n",
      "[1, 2, 3, 4, 5] 2 1 1\n",
      "[1, 2, 3, 4, 5, 6] 3 2 1\n",
      "[1, 2, 3, 4, 5, 6, 8] 4 2 1\n",
      "[1, 2, 3, 4, 5, 6, 8, 9] 4 3 1\n",
      "[1, 2, 3, 4, 5, 6, 8, 9, 10] 5 3 2\n",
      "[1, 2, 3, 4, 5, 6, 8, 9, 10, 12] 6 4 2\n"
     ]
    },
    {
     "data": {
      "text/plain": [
       "12"
      ]
     },
     "execution_count": 68,
     "metadata": {},
     "output_type": "execute_result"
    }
   ],
   "source": [
    "n_ = 10\n",
    "solution = Solution()\n",
    "solution.nthUglyNumber(n_)"
   ]
  },
  {
   "cell_type": "code",
   "execution_count": 34,
   "metadata": {},
   "outputs": [
    {
     "name": "stdout",
     "output_type": "stream",
     "text": [
      "None\n"
     ]
    }
   ],
   "source": [
    "a = [0, 2, 4, 1]\n",
    "print(a.remove(0))"
   ]
  },
  {
   "cell_type": "code",
   "execution_count": 35,
   "metadata": {},
   "outputs": [
    {
     "data": {
      "text/plain": [
       "[2, 4, 1]"
      ]
     },
     "execution_count": 35,
     "metadata": {},
     "output_type": "execute_result"
    }
   ],
   "source": [
    "a"
   ]
  },
  {
   "cell_type": "code",
   "execution_count": 26,
   "metadata": {},
   "outputs": [],
   "source": [
    "a = set([3,4,5,6,9, 1, 2,0, 11, 22, -1, 255, 6])"
   ]
  },
  {
   "cell_type": "code",
   "execution_count": 27,
   "metadata": {},
   "outputs": [
    {
     "data": {
      "text/plain": [
       "{-11, -1, 0, 1, 2, 3, 4, 5, 6, 9, 11, 22, 255, 621}"
      ]
     },
     "execution_count": 27,
     "metadata": {},
     "output_type": "execute_result"
    }
   ],
   "source": [
    "a"
   ]
  },
  {
   "cell_type": "code",
   "execution_count": null,
   "metadata": {},
   "outputs": [],
   "source": []
  }
 ],
 "metadata": {
  "kernelspec": {
   "display_name": "Python 3",
   "language": "python",
   "name": "python3"
  },
  "language_info": {
   "codemirror_mode": {
    "name": "ipython",
    "version": 3
   },
   "file_extension": ".py",
   "mimetype": "text/x-python",
   "name": "python",
   "nbconvert_exporter": "python",
   "pygments_lexer": "ipython3",
   "version": "3.6.2"
  }
 },
 "nbformat": 4,
 "nbformat_minor": 4
}
