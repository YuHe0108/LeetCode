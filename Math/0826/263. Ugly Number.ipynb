{
 "cells": [
  {
   "cell_type": "raw",
   "metadata": {},
   "source": [
    "说明：\n",
    "    编写程序以检查给定的数字是否是丑陋的数字。\n",
    "    丑数是正数，其质数因子仅包括2、3、5。\n",
    "\n",
    "Example 1:\n",
    "    Input: 6\n",
    "    Output: true\n",
    "    Explanation: 6 = 2 × 3\n",
    "\n",
    "Example 2:\n",
    "    Input: 8\n",
    "    Output: true\n",
    "    Explanation: 8 = 2 × 2 × 2\n",
    "\n",
    "Example 3:\n",
    "    Input: 14\n",
    "    Output: false \n",
    "    Explanation: 14 is not ugly since it includes another prime factor 7.\n",
    "\n",
    "注意：\n",
    "    1、1通常被视为丑数。\n",
    "    2、输入在32位有符号整数范围内：[−2^31，2^31 − 1]。"
   ]
  },
  {
   "cell_type": "code",
   "execution_count": 71,
   "metadata": {},
   "outputs": [],
   "source": [
    "from math import sqrt\n",
    "\n",
    "class Solution:\n",
    "    def isUgly(self, num: int) -> bool:\n",
    "        if num == 1: return True\n",
    "        max_val = int(sqrt(num)) + 1\n",
    "        ugly_primes = [2, 3, 5]\n",
    "        for i in range(2, max_val + 1):\n",
    "            if num % i == 0:\n",
    "                if self.is_prime(i) and (i not in ugly_primes or num // i not in ugly_primes):\n",
    "                    print(i)\n",
    "                    return False\n",
    "        return True\n",
    "    \n",
    "    def is_prime(self, n):\n",
    "        # 判断n是不是素数\n",
    "        max_val = int(sqrt(n)) + 1\n",
    "        for i in range(2, max_val):\n",
    "            if n % i == 0:\n",
    "                return False\n",
    "        return True"
   ]
  },
  {
   "cell_type": "code",
   "execution_count": null,
   "metadata": {},
   "outputs": [],
   "source": [
    "class Solution:\n",
    "    def isUgly(self, num: int) -> bool:\n",
    "        if num == 0: \n",
    "            return False\n",
    "        while num % 5 == 0: \n",
    "            num /= 5\n",
    "        while num % 3 == 0: \n",
    "            num /= 3\n",
    "        while num % 2 == 0: \n",
    "            num /= 2\n",
    "        return num == 1"
   ]
  },
  {
   "cell_type": "code",
   "execution_count": 72,
   "metadata": {},
   "outputs": [
    {
     "name": "stdout",
     "output_type": "stream",
     "text": [
      "2\n"
     ]
    },
    {
     "data": {
      "text/plain": [
       "False"
      ]
     },
     "execution_count": 72,
     "metadata": {},
     "output_type": "execute_result"
    }
   ],
   "source": [
    "num_ = 8\n",
    "solution = Solution()\n",
    "solution.isUgly(num_)"
   ]
  },
  {
   "cell_type": "code",
   "execution_count": 54,
   "metadata": {},
   "outputs": [
    {
     "data": {
      "text/plain": [
       "True"
      ]
     },
     "execution_count": 54,
     "metadata": {},
     "output_type": "execute_result"
    }
   ],
   "source": [
    "solution.is_prime(11)"
   ]
  },
  {
   "cell_type": "code",
   "execution_count": null,
   "metadata": {},
   "outputs": [],
   "source": []
  }
 ],
 "metadata": {
  "kernelspec": {
   "display_name": "Python 3",
   "language": "python",
   "name": "python3"
  },
  "language_info": {
   "codemirror_mode": {
    "name": "ipython",
    "version": 3
   },
   "file_extension": ".py",
   "mimetype": "text/x-python",
   "name": "python",
   "nbconvert_exporter": "python",
   "pygments_lexer": "ipython3",
   "version": "3.6.2"
  }
 },
 "nbformat": 4,
 "nbformat_minor": 4
}
