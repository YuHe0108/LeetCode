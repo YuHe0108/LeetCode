{
 "cells": [
  {
   "cell_type": "raw",
   "metadata": {},
   "source": [
    "说明：\n",
    "    给定整数n，返回n！中尾随零的数目。\n",
    "\n",
    "例1:\n",
    "    Input: 3\n",
    "    Output: 0\n",
    "    Explanation: 3! = 6, no trailing zero.\n",
    "\n",
    "Example 2:\n",
    "    Input: 5\n",
    "    Output: 1\n",
    "    Explanation: 5! = 120, one trailing zero.\n",
    "\n",
    "注意：您的解决方案应采用对数log时间复杂度。"
   ]
  },
  {
   "cell_type": "code",
   "execution_count": 21,
   "metadata": {},
   "outputs": [],
   "source": [
    "# 时间复杂度为 O(n)\n",
    "class Solution:\n",
    "    def trailingZeroes(self, n: int) -> int:\n",
    "        if n == 1: return 0\n",
    "        res = 1\n",
    "        for i in range(1, n+1):\n",
    "            res *= i\n",
    "        count = 0\n",
    "        res = str(res)\n",
    "        index = len(res) - 1\n",
    "        while index > -1:\n",
    "            val = res[index]\n",
    "            if val == '0':\n",
    "                count += 1\n",
    "                index -= 1\n",
    "            else:\n",
    "                return count"
   ]
  },
  {
   "cell_type": "code",
   "execution_count": 32,
   "metadata": {},
   "outputs": [],
   "source": [
    "# 时间复杂度为 O(log(N)), binary search?\n",
    "# 思想：一个数字末尾有多少个0，由原始数字乘多少个10决定，10=5*2, 所以问题准换为求有多少对 (2, 5)\n",
    "# 在对一个数字做阶乘的时候，5出现的次数一定小于等于2，所以最后只要统计 5出现的次数就可以了\n",
    "class Solution:\n",
    "    def trailingZeroes(self, n: int) -> int:\n",
    "        count = 0\n",
    "        while n >= 5:\n",
    "            n //= 5\n",
    "            count += n\n",
    "        return count"
   ]
  },
  {
   "cell_type": "code",
   "execution_count": 33,
   "metadata": {},
   "outputs": [
    {
     "data": {
      "text/plain": [
       "1"
      ]
     },
     "execution_count": 33,
     "metadata": {},
     "output_type": "execute_result"
    }
   ],
   "source": [
    "n_ = 5\n",
    "solution = Solution()\n",
    "solution.trailingZeroes(n_)"
   ]
  },
  {
   "cell_type": "code",
   "execution_count": 25,
   "metadata": {},
   "outputs": [
    {
     "name": "stdout",
     "output_type": "stream",
     "text": [
      "2432902008176640000\n"
     ]
    }
   ],
   "source": [
    "n = 20\n",
    "res = 1\n",
    "for i in range(1, n+1):\n",
    "    res *= i\n",
    "print(res)"
   ]
  },
  {
   "cell_type": "code",
   "execution_count": null,
   "metadata": {},
   "outputs": [],
   "source": []
  }
 ],
 "metadata": {
  "kernelspec": {
   "display_name": "Python 3",
   "language": "python",
   "name": "python3"
  },
  "language_info": {
   "codemirror_mode": {
    "name": "ipython",
    "version": 3
   },
   "file_extension": ".py",
   "mimetype": "text/x-python",
   "name": "python",
   "nbconvert_exporter": "python",
   "pygments_lexer": "ipython3",
   "version": "3.6.2"
  }
 },
 "nbformat": 4,
 "nbformat_minor": 4
}
