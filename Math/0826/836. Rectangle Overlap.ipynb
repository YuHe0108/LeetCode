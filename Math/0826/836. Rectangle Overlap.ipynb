{
 "cells": [
  {
   "cell_type": "raw",
   "metadata": {},
   "source": [
    "说明：\n",
    "    矩形表示为列表[x1，y1，x2，y2]，其中（x1，y1）是其左下角的坐标，而（x2，y2）是其右上角的坐标。\n",
    "    如果两个矩形的相交区域为正，则它们重叠。为了清楚起见，仅在角或边缘接触的两个矩形不重叠。\n",
    "    给定两个（与轴对齐的）矩形，返回它们是否重叠。\n",
    "\n",
    "Example 1:\n",
    "    Input: rec1 = [0,0,2,2], rec2 = [1,1,3,3]\n",
    "    Output: true\n",
    "\n",
    "Example 2:\n",
    "    Input: rec1 = [0,0,1,1], rec2 = [1,0,2,1]\n",
    "    Output: false\n",
    "\n",
    "注意：\n",
    "    1、矩形rec1和rec2都是4个整数的列表。\n",
    "    2、矩形中的所有坐标将在-10 ^ 9和10 ^ 9之间。"
   ]
  },
  {
   "cell_type": "code",
   "execution_count": 4,
   "metadata": {},
   "outputs": [],
   "source": [
    "class Solution:\n",
    "    def isRectangleOverlap(self, rec1, rec2) -> bool:\n",
    "        if rec2[0] < rec1[2] and rec2[2] > rec1[0] and rec2[1] < rec1[3] and rec2[3] > rec1[1]:\n",
    "            return True\n",
    "        return False"
   ]
  },
  {
   "cell_type": "code",
   "execution_count": 6,
   "metadata": {},
   "outputs": [
    {
     "data": {
      "text/plain": [
       "False"
      ]
     },
     "execution_count": 6,
     "metadata": {},
     "output_type": "execute_result"
    }
   ],
   "source": [
    "rec1_ = [0, 0, 1, 1]\n",
    "rec2_ = [1, 0, 2, 1]\n",
    "solution = Solution()\n",
    "solution.isRectangleOverlap(rec1_, rec2_)"
   ]
  },
  {
   "cell_type": "code",
   "execution_count": null,
   "metadata": {},
   "outputs": [],
   "source": []
  }
 ],
 "metadata": {
  "kernelspec": {
   "display_name": "Python 3",
   "language": "python",
   "name": "python3"
  },
  "language_info": {
   "codemirror_mode": {
    "name": "ipython",
    "version": 3
   },
   "file_extension": ".py",
   "mimetype": "text/x-python",
   "name": "python",
   "nbconvert_exporter": "python",
   "pygments_lexer": "ipython3",
   "version": "3.6.2"
  }
 },
 "nbformat": 4,
 "nbformat_minor": 4
}
