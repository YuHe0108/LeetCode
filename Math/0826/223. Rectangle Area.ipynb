{
 "cells": [
  {
   "cell_type": "raw",
   "metadata": {},
   "source": [
    "说明：\n",
    "    查找二维平面中两个直线矩形所覆盖的总面积。\n",
    "    每个矩形由其左下角和右上角定义，如图所示。\n",
    "    假定总面积永远不会超出int的最大可能值。"
   ]
  },
  {
   "cell_type": "markdown",
   "metadata": {},
   "source": [
    "<img src='223.jpg' width=500>"
   ]
  },
  {
   "cell_type": "code",
   "execution_count": 22,
   "metadata": {},
   "outputs": [],
   "source": [
    "class Solution:\n",
    "    def computeArea(self, A: int, B: int, C: int, D: int, E: int, F: int, G: int, H: int) -> int:\n",
    "#         l_1 = (A, B)\n",
    "#         r_1 = (C, D)\n",
    "#         l_2 = (E, F)\n",
    "#         r_2 = (G, H)\n",
    "        A_1 = (C - A) * (D - B)\n",
    "        A_2 = (G - E) * (H - F)\n",
    "        # 首先需要判断两个矩形是否有交叉\n",
    "        l = (max(A, E), max(B, F))\n",
    "        r = (min(C, G), min(D, H))\n",
    "        h = r[0] - l[0]\n",
    "        w = r[1] - l[1]\n",
    "        if E < C and G > A and F < D and H > B:\n",
    "            return A_1 + A_2 - h * w\n",
    "        else:\n",
    "            return A_1 + A_2"
   ]
  },
  {
   "cell_type": "code",
   "execution_count": 23,
   "metadata": {},
   "outputs": [
    {
     "data": {
      "text/plain": [
       "45"
      ]
     },
     "execution_count": 23,
     "metadata": {},
     "output_type": "execute_result"
    }
   ],
   "source": [
    "A_ = -3\n",
    "B_ = 0\n",
    "C_ = 3\n",
    "D_ = 4\n",
    "E_ = 0\n",
    "F_ = -1 \n",
    "G_ = 9\n",
    "H_ = 2\n",
    "solution = Solution()\n",
    "solution.computeArea(A_, B_, C_, D_, E_, F_, G_, H_)"
   ]
  },
  {
   "cell_type": "code",
   "execution_count": null,
   "metadata": {},
   "outputs": [],
   "source": []
  }
 ],
 "metadata": {
  "kernelspec": {
   "display_name": "Python 3",
   "language": "python",
   "name": "python3"
  },
  "language_info": {
   "codemirror_mode": {
    "name": "ipython",
    "version": 3
   },
   "file_extension": ".py",
   "mimetype": "text/x-python",
   "name": "python",
   "nbconvert_exporter": "python",
   "pygments_lexer": "ipython3",
   "version": "3.6.2"
  }
 },
 "nbformat": 4,
 "nbformat_minor": 4
}
