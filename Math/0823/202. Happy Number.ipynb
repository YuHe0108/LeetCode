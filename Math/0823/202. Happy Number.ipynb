{
 "cells": [
  {
   "cell_type": "raw",
   "metadata": {},
   "source": [
    "说明：\n",
    "    编写算法以确定数字n是否为“ happy”。一个快乐的数字是由以下过程定义的数字：\n",
    "    1、从任何正整数开始，用该数字的平方和替换该数字，\n",
    "       然后重复该过程，直到该数字等于1（它将停留在该位置）。\n",
    "    2、否则它就会循环在不包含1的循环中无休止地循环。\n",
    "       以1结尾的那些数字是快乐数字。如果n是一个快乐数字，则返回True；否则返回False。\n",
    "\n",
    "Example: "
   ]
  },
  {
   "cell_type": "markdown",
   "metadata": {},
   "source": [
    "<img src='202.jpg'>"
   ]
  },
  {
   "cell_type": "code",
   "execution_count": 6,
   "metadata": {},
   "outputs": [],
   "source": [
    "class Solution:\n",
    "    def isHappy(self, n: int) -> bool:\n",
    "        cur = []\n",
    "        str_n = str(n)\n",
    "        while True:\n",
    "            val = sum([int(i) ** 2 for i in str_n])\n",
    "            if val == 1:\n",
    "                return True\n",
    "            if val not in cur:\n",
    "                cur.append(val)\n",
    "            else:\n",
    "                return False\n",
    "            str_n = str(val)"
   ]
  },
  {
   "cell_type": "code",
   "execution_count": 7,
   "metadata": {},
   "outputs": [
    {
     "data": {
      "text/plain": [
       "True"
      ]
     },
     "execution_count": 7,
     "metadata": {},
     "output_type": "execute_result"
    }
   ],
   "source": [
    "n_ = 19\n",
    "solution = Solution()\n",
    "solution.isHappy(n_)"
   ]
  },
  {
   "cell_type": "code",
   "execution_count": 1,
   "metadata": {},
   "outputs": [
    {
     "name": "stdout",
     "output_type": "stream",
     "text": [
      "2\n"
     ]
    }
   ],
   "source": [
    "print(2)"
   ]
  },
  {
   "cell_type": "code",
   "execution_count": null,
   "metadata": {},
   "outputs": [],
   "source": []
  }
 ],
 "metadata": {
  "kernelspec": {
   "display_name": "Python 3",
   "language": "python",
   "name": "python3"
  },
  "language_info": {
   "codemirror_mode": {
    "name": "ipython",
    "version": 3
   },
   "file_extension": ".py",
   "mimetype": "text/x-python",
   "name": "python",
   "nbconvert_exporter": "python",
   "pygments_lexer": "ipython3",
   "version": "3.6.2"
  }
 },
 "nbformat": 4,
 "nbformat_minor": 4
}
