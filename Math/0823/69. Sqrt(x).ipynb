{
 "cells": [
  {
   "cell_type": "raw",
   "metadata": {},
   "source": [
    "说明：\n",
    "    实现intsqrt（intx）。\n",
    "    计算并返回x的平方根，其中x保证是非负整数。\n",
    "    由于返回类型是整数，因此小数位数被截断，只返回结果的整数部分。\n",
    "\n",
    "Example 1:\n",
    "    Input: 4\n",
    "    Output: 2\n",
    "\n",
    "Example 2:\n",
    "    Input: 8\n",
    "    Output: 2\n",
    "    Explanation: The square root of 8 is 2.82842..., and since \n",
    "             the decimal part is truncated, 2 is returned."
   ]
  },
  {
   "cell_type": "markdown",
   "metadata": {},
   "source": [
    "<img src=\"69.jpg\">"
   ]
  },
  {
   "cell_type": "code",
   "execution_count": 2,
   "metadata": {},
   "outputs": [],
   "source": [
    "class Solution:\n",
    "    def mySqrt(self, x: int) -> int:\n",
    "        if x == 0 or x == 1: return x\n",
    "        l = 1\n",
    "        r = x\n",
    "        while l < r:\n",
    "            mid = (r + l) // 2\n",
    "            if mid * mid > x:\n",
    "                r = mid\n",
    "            else:\n",
    "                l = mid + 1\n",
    "        return r - 1"
   ]
  },
  {
   "cell_type": "code",
   "execution_count": 3,
   "metadata": {},
   "outputs": [
    {
     "data": {
      "text/plain": [
       "2"
      ]
     },
     "execution_count": 3,
     "metadata": {},
     "output_type": "execute_result"
    }
   ],
   "source": [
    "x_ = 4\n",
    "solution = Solution()\n",
    "solution.mySqrt(x_)"
   ]
  },
  {
   "cell_type": "code",
   "execution_count": null,
   "metadata": {},
   "outputs": [],
   "source": [
    "\n"
   ]
  }
 ],
 "metadata": {
  "kernelspec": {
   "display_name": "TF2",
   "language": "python",
   "name": "tf2"
  },
  "language_info": {
   "codemirror_mode": {
    "name": "ipython",
    "version": 3
   },
   "file_extension": ".py",
   "mimetype": "text/x-python",
   "name": "python",
   "nbconvert_exporter": "python",
   "pygments_lexer": "ipython3",
   "version": "3.6.2"
  }
 },
 "nbformat": 4,
 "nbformat_minor": 4
}
