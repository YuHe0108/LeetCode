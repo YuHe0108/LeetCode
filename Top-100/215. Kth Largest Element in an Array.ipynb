{
 "cells": [
  {
   "cell_type": "raw",
   "metadata": {},
   "source": [
    "说明：\n",
    "    查找未排序数组中第k个最大的元素。\n",
    "    请注意，它是排序顺序中第k个最大的元素，而不是第k个distinct元素。\n",
    "\n",
    "\n",
    "Example 1:\n",
    "    Input: [3,2,1,5,6,4] and k = 2\n",
    "    Output: 5\n",
    "\n",
    "Example 2:\n",
    "    Input: [3,2,3,1,2,4,5,5,6] and k = 4\n",
    "    Output: 4\n",
    "\n",
    "Note:\n",
    "    1. You may assume k is always valid, 1 ≤ k ≤ array's length."
   ]
  },
  {
   "cell_type": "code",
   "execution_count": 15,
   "metadata": {},
   "outputs": [],
   "source": [
    "# 利用 heap 解决\n",
    "import heapq\n",
    "class Solution:\n",
    "    def findKthLargest(self, nums, k: int) -> int:\n",
    "        heap = []\n",
    "        for num in nums:\n",
    "            heapq.heappush(heap, num)\n",
    "        for _ in range(len(nums)-k):\n",
    "            heapq.heappop(heap)\n",
    "        return heapq.heappop(heap)"
   ]
  },
  {
   "cell_type": "code",
   "execution_count": 23,
   "metadata": {},
   "outputs": [],
   "source": [
    "class Solution:\n",
    "    def findKthLargest(self, nums, k: int) -> int:\n",
    "        return heapq.nlargest(k, nums)[k-1]"
   ]
  },
  {
   "cell_type": "code",
   "execution_count": 24,
   "metadata": {},
   "outputs": [
    {
     "data": {
      "text/plain": [
       "4"
      ]
     },
     "execution_count": 24,
     "metadata": {},
     "output_type": "execute_result"
    }
   ],
   "source": [
    "nums_ = [3,2,3,1,2,4,5,5,6]\n",
    "k_ = 4\n",
    "solution = Solution()\n",
    "solution.findKthLargest(nums_, k_)"
   ]
  },
  {
   "cell_type": "code",
   "execution_count": null,
   "metadata": {},
   "outputs": [],
   "source": []
  }
 ],
 "metadata": {
  "kernelspec": {
   "display_name": "Python 3",
   "language": "python",
   "name": "python3"
  },
  "language_info": {
   "codemirror_mode": {
    "name": "ipython",
    "version": 3
   },
   "file_extension": ".py",
   "mimetype": "text/x-python",
   "name": "python",
   "nbconvert_exporter": "python",
   "pygments_lexer": "ipython3",
   "version": "3.6.2"
  }
 },
 "nbformat": 4,
 "nbformat_minor": 4
}
