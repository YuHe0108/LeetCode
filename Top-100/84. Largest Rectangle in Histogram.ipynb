{
 "cells": [
  {
   "cell_type": "raw",
   "metadata": {},
   "source": [
    "说明：\n",
    "    给定n个表示直方图的条高的非负整数，其中每个条的宽度为1，在直方图中找到最大矩形的面积。"
   ]
  },
  {
   "cell_type": "markdown",
   "metadata": {},
   "source": [
    "<img src='84.jpg' width=550>"
   ]
  },
  {
   "cell_type": "code",
   "execution_count": 43,
   "metadata": {},
   "outputs": [],
   "source": [
    "class Solution:\n",
    "    def largestRectangleArea(self, heights) -> int:\n",
    "        if not heights: return 0\n",
    "        \n",
    "        max_area = 0\n",
    "        stacks = [0]\n",
    "        pre_height = heights[0]\n",
    "        for i, h in enumerate(heights):\n",
    "            if h > pre_height:\n",
    "                stacks.append(i)\n",
    "            else:\n",
    "                while stacks and heights[stacks[-1]] > h:\n",
    "                    j = stacks.pop()\n",
    "                    if stacks:\n",
    "                        max_area = max(max_area, heights[j] * (i - stacks[-1] - 1))\n",
    "                    else:\n",
    "                        max_area = max(max_area, heights[j] * i)\n",
    "                stacks.append(i)\n",
    "            pre_height = h\n",
    "        \n",
    "        while stacks:\n",
    "            j = stacks.pop()\n",
    "            if stacks:\n",
    "                max_area = max(max_area, heights[j] * (len(heights) - stacks[-1] - 1))\n",
    "            else:\n",
    "                max_area = max(max_area, heights[j] * len(heights))\n",
    "        return max_area"
   ]
  },
  {
   "cell_type": "code",
   "execution_count": 44,
   "metadata": {},
   "outputs": [
    {
     "data": {
      "text/plain": [
       "10"
      ]
     },
     "execution_count": 44,
     "metadata": {},
     "output_type": "execute_result"
    }
   ],
   "source": [
    "h = [2,1,5,6,2,3]\n",
    "solution = Solution()\n",
    "solution.largestRectangleArea(h)"
   ]
  },
  {
   "cell_type": "code",
   "execution_count": null,
   "metadata": {},
   "outputs": [],
   "source": []
  }
 ],
 "metadata": {
  "kernelspec": {
   "display_name": "Python 3",
   "language": "python",
   "name": "python3"
  },
  "language_info": {
   "codemirror_mode": {
    "name": "ipython",
    "version": 3
   },
   "file_extension": ".py",
   "mimetype": "text/x-python",
   "name": "python",
   "nbconvert_exporter": "python",
   "pygments_lexer": "ipython3",
   "version": "3.6.2"
  }
 },
 "nbformat": 4,
 "nbformat_minor": 4
}
