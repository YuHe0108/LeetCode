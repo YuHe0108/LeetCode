{
 "cells": [
  {
   "cell_type": "raw",
   "metadata": {},
   "source": [
    "说明：\n",
    "    给定n个表示直方图的条高的非负整数，其中每个条的宽度为1，在直方图中找到最大矩形的面积。"
   ]
  },
  {
   "cell_type": "markdown",
   "metadata": {},
   "source": [
    "<img src='84.jpg' width=550>"
   ]
  },
  {
   "cell_type": "code",
   "execution_count": 22,
   "metadata": {},
   "outputs": [],
   "source": [
    "class Solution:\n",
    "    def largestRectangleArea(self, heights) -> int:\n",
    "        stack = []\n",
    "        maxArea = 0\n",
    "        heights.append(0) # 0: 1st index\n",
    "        \n",
    "        i = 0\n",
    "        while i < len(heights):\n",
    "            if len(stack) == 0 or heights[stack[-1]] < heights[i]:\n",
    "                stack.append(i)\n",
    "                i += 1\n",
    "            else:\n",
    "                tmp = heights[stack.pop()]\n",
    "                if len(stack) == 0:\n",
    "                    maxArea = max(maxArea, i * tmp)\n",
    "                else:\n",
    "                    maxArea = max(maxArea, (i - stack[-1] - 1) * tmp)\n",
    "            print(stack, maxArea, i)\n",
    "        print(heights)\n",
    "        return maxArea"
   ]
  },
  {
   "cell_type": "code",
   "execution_count": 23,
   "metadata": {},
   "outputs": [
    {
     "name": "stdout",
     "output_type": "stream",
     "text": [
      "[0] 0 1\n",
      "[] 2 1\n",
      "[1] 2 2\n",
      "[1, 2] 2 3\n",
      "[1, 2, 3] 2 4\n",
      "[1, 2] 6 4\n",
      "[1] 10 4\n",
      "[1, 4] 10 5\n",
      "[1, 4, 5] 10 6\n",
      "[1, 4] 10 6\n",
      "[1] 10 6\n",
      "[] 10 6\n",
      "[6] 10 7\n",
      "[2, 1, 5, 6, 2, 3, 0]\n"
     ]
    },
    {
     "data": {
      "text/plain": [
       "10"
      ]
     },
     "execution_count": 23,
     "metadata": {},
     "output_type": "execute_result"
    }
   ],
   "source": [
    "h = [2,1,5,6,2,3]\n",
    "solution = Solution()\n",
    "solution.largestRectangleArea(h)"
   ]
  },
  {
   "cell_type": "code",
   "execution_count": 43,
   "metadata": {},
   "outputs": [],
   "source": [
    "class Solution:\n",
    "    def largestRectangleArea(self, heights) -> int:\n",
    "        if not heights: return 0\n",
    "        \n",
    "        max_area = 0\n",
    "        stacks = [0]\n",
    "        pre_height = heights[0]\n",
    "        for i, h in enumerate(heights):\n",
    "            if h > pre_height:\n",
    "                stacks.append(i)\n",
    "            else:\n",
    "                while stacks and heights[stacks[-1]] > h:\n",
    "                    j = stacks.pop()\n",
    "                    if stacks:\n",
    "                        max_area = max(max_area, heights[j] * (i - stacks[-1] - 1))\n",
    "                    else:\n",
    "                        max_area = max(max_area, heights[j] * i)\n",
    "                stacks.append(i)\n",
    "            pre_height = h\n",
    "        \n",
    "        while stacks:\n",
    "            j = stacks.pop()\n",
    "            if stacks:\n",
    "                max_area = max(max_area, heights[j] * (len(heights) - stacks[-1] - 1))\n",
    "            else:\n",
    "                max_area = max(max_area, heights[j] * len(heights))\n",
    "        return max_area"
   ]
  },
  {
   "cell_type": "code",
   "execution_count": 28,
   "metadata": {},
   "outputs": [],
   "source": [
    "class Solution:\n",
    "    def largestRectangleArea(self, heights) -> int:\n",
    "        if not heights: return 0\n",
    "        \n",
    "        heights.append(0)\n",
    "        max_area = 0\n",
    "        stacks = [0]\n",
    "        pre_height = heights[0]\n",
    "        for i in range(1, len(heights)):\n",
    "            h = heights[i]\n",
    "            if h > pre_height:\n",
    "                stacks.append(i)\n",
    "            else:\n",
    "                while stacks and heights[stacks[-1]] > h:\n",
    "                    j = stacks.pop()\n",
    "                    if stacks:\n",
    "                        max_area = max(max_area, heights[j] * (i - stacks[-1] - 1))\n",
    "                    else:\n",
    "                        max_area = max(max_area, heights[j] * i)\n",
    "                stacks.append(i)\n",
    "            pre_height = h\n",
    "            \n",
    "        return max_area"
   ]
  },
  {
   "cell_type": "code",
   "execution_count": 29,
   "metadata": {},
   "outputs": [
    {
     "data": {
      "text/plain": [
       "10"
      ]
     },
     "execution_count": 29,
     "metadata": {},
     "output_type": "execute_result"
    }
   ],
   "source": [
    "h = [2,1,5,6,2,3]\n",
    "solution = Solution()\n",
    "solution.largestRectangleArea(h)"
   ]
  },
  {
   "cell_type": "code",
   "execution_count": 30,
   "metadata": {},
   "outputs": [],
   "source": [
    "class Solution:\n",
    "    def largestRectangleArea(self, heights) -> int:\n",
    "        if not heights: return 0\n",
    "        \n",
    "        max_area = 0\n",
    "        stacks = [0]\n",
    "        heights.append(0)\n",
    "        for i in range(1, len(heights)):\n",
    "            h = heights[i]\n",
    "            if h > heights[stacks[-1]]:\n",
    "                stacks.append(i)\n",
    "            else:\n",
    "                while stacks and heights[stacks[-1]] > h:\n",
    "                    j = stacks.pop()\n",
    "                    if stacks:\n",
    "                        max_area = max(max_area, heights[j] * (i - stacks[-1] - 1))\n",
    "                    else:\n",
    "                        max_area = max(max_area, heights[j] * i)\n",
    "                stacks.append(i)\n",
    "        return max_area"
   ]
  },
  {
   "cell_type": "code",
   "execution_count": 55,
   "metadata": {},
   "outputs": [],
   "source": [
    "class Solution:\n",
    "    def largestRectangleArea(self, heights) -> int:\n",
    "        if not heights: return 0\n",
    "        \n",
    "        heights.append(0)\n",
    "        max_area = 0\n",
    "        stacks = [0]\n",
    "        pre_height = heights[0]\n",
    "        for i in range(1, len(heights)):\n",
    "            h = heights[i]\n",
    "            if h > pre_height:\n",
    "                stacks.append(i)\n",
    "            else:\n",
    "                while stacks and heights[stacks[-1]] > h:\n",
    "                    print(stacks)\n",
    "                    j = stacks.pop()\n",
    "                    if stacks:\n",
    "                        max_area = max(max_area, heights[j] * (i - stacks[-1] - 1))\n",
    "                        print(max_area)\n",
    "                    else:\n",
    "                        max_area = max(max_area, heights[j] * i)\n",
    "                stacks.append(i)\n",
    "            pre_height = h\n",
    "        return max_area"
   ]
  },
  {
   "cell_type": "code",
   "execution_count": 56,
   "metadata": {},
   "outputs": [
    {
     "name": "stdout",
     "output_type": "stream",
     "text": [
      "[0]\n",
      "[1]\n",
      "[2, 3]\n",
      "4\n",
      "[2, 4, 5]\n",
      "5\n",
      "[2, 4]\n",
      "6\n"
     ]
    },
    {
     "data": {
      "text/plain": [
       "6"
      ]
     },
     "execution_count": 56,
     "metadata": {},
     "output_type": "execute_result"
    }
   ],
   "source": [
    "h = [4, 2, 0, 3, 2, 5]\n",
    "solution = Solution()\n",
    "solution.largestRectangleArea(h)"
   ]
  },
  {
   "cell_type": "code",
   "execution_count": 51,
   "metadata": {},
   "outputs": [],
   "source": [
    "class Solution:\n",
    "    def largestRectangleArea(self, heights) -> int:\n",
    "        if not heights: return 0\n",
    "        \n",
    "        max_area = 0\n",
    "        stacks = [0]\n",
    "        heights.append(0)\n",
    "        for i in range(1, len(heights)):\n",
    "            h = heights[i]\n",
    "            if h < heights[stacks[-1]]:\n",
    "                while stacks and heights[stacks[-1]] > h:\n",
    "                    j = stacks.pop()\n",
    "                    if stacks:\n",
    "                        max_area = max(max_area, heights[j] * (i - j))\n",
    "                        print(max_area)\n",
    "                    else:\n",
    "                        max_area = max(max_area, heights[j] * i)\n",
    "            stacks.append(i)\n",
    "        return max_area"
   ]
  },
  {
   "cell_type": "code",
   "execution_count": 52,
   "metadata": {},
   "outputs": [
    {
     "name": "stdout",
     "output_type": "stream",
     "text": [
      "4\n",
      "5\n",
      "5\n"
     ]
    },
    {
     "data": {
      "text/plain": [
       "5"
      ]
     },
     "execution_count": 52,
     "metadata": {},
     "output_type": "execute_result"
    }
   ],
   "source": [
    "h = [4, 2, 0, 3, 2, 5]\n",
    "solution = Solution()\n",
    "solution.largestRectangleArea(h)"
   ]
  },
  {
   "cell_type": "code",
   "execution_count": 57,
   "metadata": {},
   "outputs": [],
   "source": [
    "class Solution:\n",
    "    def largestRectangleArea(self, heights) -> int:\n",
    "        if not heights: return 0\n",
    "        \n",
    "        stack = []\n",
    "        max_area = 0\n",
    "        heights.append(0)\n",
    "        \n",
    "        for i, h in enumerate(heights):\n",
    "            while stack and heights[stack[-1]] > h:\n",
    "                j = stack.pop()\n",
    "                if stack:\n",
    "                    max_area = max(max_area, heights[j] * (i - stack[-1] - 1))\n",
    "                else:\n",
    "                    max_area = max(max_area, heights[j] * i)\n",
    "            stack.append(i)\n",
    "        return max_area"
   ]
  },
  {
   "cell_type": "code",
   "execution_count": null,
   "metadata": {},
   "outputs": [],
   "source": []
  }
 ],
 "metadata": {
  "kernelspec": {
   "display_name": "Python 3",
   "language": "python",
   "name": "python3"
  },
  "language_info": {
   "codemirror_mode": {
    "name": "ipython",
    "version": 3
   },
   "file_extension": ".py",
   "mimetype": "text/x-python",
   "name": "python",
   "nbconvert_exporter": "python",
   "pygments_lexer": "ipython3",
   "version": "3.6.2"
  }
 },
 "nbformat": 4,
 "nbformat_minor": 4
}
