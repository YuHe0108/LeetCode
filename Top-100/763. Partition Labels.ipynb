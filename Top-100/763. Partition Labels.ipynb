{
 "cells": [
  {
   "cell_type": "raw",
   "metadata": {},
   "source": [
    "说明：\n",
    "    给出了小写英文字母的字符串S。\n",
    "    我们希望将此字符串划分为尽可能多的部分，以便每个字母最多出现在一个部分中，并返回表示这些部分大小的整数列表。\n",
    "\n",
    "Example 1:\n",
    "    Input: S = \"ababcbacadefegdehijhklij\"\n",
    "    Output: [9,7,8]\n",
    "    Explanation:\n",
    "        The partition is \"ababcbaca\", \"defegde\", \"hijhklij\".\n",
    "        This is a partition so that each letter appears in at most one part.\n",
    "        A partition like \"ababcbacadefegde\", \"hijhklij\" is incorrect, because it splits S into less parts.\n",
    "\n",
    "Note:\n",
    "    1、S will have length in range [1, 500].\n",
    "    2、S will consist of lowercase English letters ('a' to 'z') only.        "
   ]
  },
  {
   "cell_type": "code",
   "execution_count": 46,
   "metadata": {},
   "outputs": [],
   "source": [
    "class Solution:\n",
    "    def partitionLabels(self, S: str):\n",
    "        if len(S) == 1: return [1]\n",
    "        res = []\n",
    "        l_idx, r_idx = 0, 1\n",
    "        temp_1 = str(S[0])\n",
    "        temp_2 = ''\n",
    "        while l_idx <= r_idx and r_idx < len(S):\n",
    "            val = S[r_idx]\n",
    "            if val in temp_1:\n",
    "                temp_2 += val\n",
    "                temp_1 += temp_2\n",
    "                temp_2 = ''\n",
    "            elif val in temp_2:\n",
    "                temp_2 += val\n",
    "                res.append(temp_1)\n",
    "                temp_1 = temp_2\n",
    "                temp_2 = ''\n",
    "            else:\n",
    "                temp_2 += val\n",
    "            r_idx += 1\n",
    "        if temp_1:\n",
    "            res.append(temp_1)\n",
    "        print(res)\n",
    "        return [len(x) for x in res]"
   ]
  },
  {
   "cell_type": "code",
   "execution_count": 81,
   "metadata": {},
   "outputs": [],
   "source": [
    "class Solution:\n",
    "    def partitionLabels(self, S: str):\n",
    "        # 统计S中的所有字符，最后一次出现在S中的位置\n",
    "        if len(S) == 1: return [1]\n",
    "        pos_dict = {c:i for i, c in enumerate(S)}\n",
    "        print(pos_dict)\n",
    "        \n",
    "        res = []\n",
    "        temp = ''\n",
    "        max_idx = 0\n",
    "        idx = 0\n",
    "        while idx < len(S):\n",
    "            val = S[idx]\n",
    "            temp += val\n",
    "            if pos_dict[val] > pos_dict[S[max_idx]]:\n",
    "                max_idx = idx\n",
    "            elif idx == pos_dict[S[max_idx]]:\n",
    "                res.append(temp)\n",
    "                max_idx = idx + 1\n",
    "                temp = ''\n",
    "            idx += 1\n",
    "        return [len(x) for x in res]"
   ]
  },
  {
   "cell_type": "code",
   "execution_count": 83,
   "metadata": {},
   "outputs": [],
   "source": [
    "class Solution:\n",
    "    def partitionLabels(self, S: str):\n",
    "        # 统计S中的所有字符，最后一次出现在S中的位置\n",
    "        if len(S) == 1: return [1]\n",
    "        pos_dict = {c:i for i, c in enumerate(S)}\n",
    "        print(pos_dict)\n",
    "        \n",
    "        pre = cur = 0\n",
    "        res = []\n",
    "        for i, c in enumerate(S):\n",
    "            cur = max(cur, pos_dict[c])\n",
    "            if i == cur:\n",
    "                res.append(i - pre + 1)\n",
    "                pre = cur + 1\n",
    "        return res"
   ]
  },
  {
   "cell_type": "code",
   "execution_count": 84,
   "metadata": {},
   "outputs": [
    {
     "name": "stdout",
     "output_type": "stream",
     "text": [
      "{'a': 7, 'b': 4, 'c': 6, 'd': 13, 'e': 14, 'f': 10, 'g': 12, 'h': 18, 'i': 21, 'j': 22, 'k': 19, 'l': 20}\n"
     ]
    },
    {
     "data": {
      "text/plain": [
       "[8, 7, 8]"
      ]
     },
     "execution_count": 84,
     "metadata": {},
     "output_type": "execute_result"
    }
   ],
   "source": [
    "s = \"abbcbacadefegdehijhklij\"\n",
    "solution = Solution()\n",
    "solution.partitionLabels(s)"
   ]
  },
  {
   "cell_type": "code",
   "execution_count": 85,
   "metadata": {},
   "outputs": [
    {
     "data": {
      "text/plain": [
       "'ababcbaca defegde hijhklij'"
      ]
     },
     "execution_count": 85,
     "metadata": {},
     "output_type": "execute_result"
    }
   ],
   "source": [
    "\"ababcbaca defegde hijhklij\""
   ]
  },
  {
   "cell_type": "code",
   "execution_count": null,
   "metadata": {},
   "outputs": [],
   "source": []
  }
 ],
 "metadata": {
  "kernelspec": {
   "display_name": "Python 3",
   "language": "python",
   "name": "python3"
  },
  "language_info": {
   "codemirror_mode": {
    "name": "ipython",
    "version": 3
   },
   "file_extension": ".py",
   "mimetype": "text/x-python",
   "name": "python",
   "nbconvert_exporter": "python",
   "pygments_lexer": "ipython3",
   "version": "3.6.2"
  }
 },
 "nbformat": 4,
 "nbformat_minor": 4
}
