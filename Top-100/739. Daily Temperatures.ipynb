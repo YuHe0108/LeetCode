{
 "cells": [
  {
   "cell_type": "raw",
   "metadata": {},
   "source": [
    "说明：\n",
    "    给定每日温度T的列表，返回一个列表，对于输入中的每一天，\n",
    "    都会告诉您必须等待多少天才能达到更高的温度。如果将来没有可能这样做的日期，则将其改为0。\n",
    "    例如，给定温度T=[73，74，75，71，69，72，76，73]的输出应该是[1，1，4，2，1，1，0，0]。\n",
    "\n",
    "解释：\n",
    "    73 后一天比73的温度高，所以只要等待一天就可以到达比当前温度要高的时刻\n",
    "    同理，76后面没有比它温度更高的时刻了，所以返回为0.\n",
    "    \n",
    "注意：\n",
    "    温度的长度将在[1，30000]范围内。每个温度将是[30，100]范围内的整数。    "
   ]
  },
  {
   "cell_type": "code",
   "execution_count": 19,
   "metadata": {},
   "outputs": [],
   "source": [
    "# 时间复杂度过高，无法通过\n",
    "class Solution:\n",
    "    def dailyTemperatures(self, T):\n",
    "        res = []\n",
    "        for i in range(1, len(T)):\n",
    "            if T[i] > T[i-1]:\n",
    "                count = 1\n",
    "            else:\n",
    "                for j in range(i, len(T)):\n",
    "                    if T[j] > T[i-1]:\n",
    "                        count = j - i + 1\n",
    "                        break\n",
    "                    else:\n",
    "                        count = 0\n",
    "            res.append(count)\n",
    "        res.append(0)\n",
    "        return res"
   ]
  },
  {
   "cell_type": "code",
   "execution_count": 23,
   "metadata": {},
   "outputs": [],
   "source": [
    "class Solution:\n",
    "    def dailyTemperatures(self, T):\n",
    "        ans = [0] * len(T)\n",
    "        stack = []\n",
    "        for i, v in enumerate(T):\n",
    "            #检查当前val是否大于上次追加的堆栈值。我们将弹出所有小于当前TEMP的元素\n",
    "            while stack and stack[-1][-1] < v:\n",
    "                index, val = stack.pop()\n",
    "                ans[index] = i - index\n",
    "            stack.append([i, v])\n",
    "        return ans"
   ]
  },
  {
   "cell_type": "code",
   "execution_count": 24,
   "metadata": {},
   "outputs": [
    {
     "data": {
      "text/plain": [
       "[1, 1, 4, 2, 1, 1, 0, 0]"
      ]
     },
     "execution_count": 24,
     "metadata": {},
     "output_type": "execute_result"
    }
   ],
   "source": [
    "T_ = [73, 74, 75, 71, 69, 72, 76, 73]\n",
    "solution = Solution()\n",
    "solution.dailyTemperatures(T_)"
   ]
  },
  {
   "cell_type": "code",
   "execution_count": null,
   "metadata": {},
   "outputs": [],
   "source": []
  }
 ],
 "metadata": {
  "kernelspec": {
   "display_name": "Python 3",
   "language": "python",
   "name": "python3"
  },
  "language_info": {
   "codemirror_mode": {
    "name": "ipython",
    "version": 3
   },
   "file_extension": ".py",
   "mimetype": "text/x-python",
   "name": "python",
   "nbconvert_exporter": "python",
   "pygments_lexer": "ipython3",
   "version": "3.6.2"
  }
 },
 "nbformat": 4,
 "nbformat_minor": 4
}
