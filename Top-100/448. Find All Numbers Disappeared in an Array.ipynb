{
 "cells": [
  {
   "cell_type": "raw",
   "metadata": {},
   "source": [
    "说明：\n",
    "    给定一个整数数组，其中1≤a [i]≤n（n =数组大小），某些元素出现两次，而另一些元素出现一次。\n",
    "    查找[1，n]包含的所有未出现在此数组中的元素。您可以在没有额外空间的情况下在O（n）运行时执行此操作吗？\n",
    "    您可能会假定返回的列表不算作多余的空间。\n",
    "\n",
    "Example:\n",
    "    Input:\n",
    "        [4,3,2,7,8,2,3,1]\n",
    "    Output:\n",
    "        [5,6]"
   ]
  },
  {
   "cell_type": "code",
   "execution_count": 21,
   "metadata": {},
   "outputs": [],
   "source": [
    "class Solution:\n",
    "    def findDisappearedNumbers(self, nums):\n",
    "        res = []\n",
    "        i = 0\n",
    "        while  i < len(nums):\n",
    "            val = nums[i]\n",
    "            if i + 1 != val and val != nums[val-1]:\n",
    "                nums[i], nums[val-1] = nums[val-1], nums[i]\n",
    "            else:\n",
    "                i += 1\n",
    "        for i, num in enumerate(nums):\n",
    "            if num != i + 1:\n",
    "                res.append(i+1)\n",
    "        return res"
   ]
  },
  {
   "cell_type": "code",
   "execution_count": 22,
   "metadata": {},
   "outputs": [
    {
     "name": "stdout",
     "output_type": "stream",
     "text": [
      "[7, 3, 2, 4, 8, 2, 3, 1]\n",
      "[3, 3, 2, 4, 8, 2, 7, 1]\n",
      "[2, 3, 3, 4, 8, 2, 7, 1]\n",
      "[3, 2, 3, 4, 8, 2, 7, 1]\n",
      "[3, 2, 3, 4, 8, 2, 7, 1]\n",
      "[3, 2, 3, 4, 8, 2, 7, 1]\n",
      "[3, 2, 3, 4, 8, 2, 7, 1]\n",
      "[3, 2, 3, 4, 8, 2, 7, 1]\n",
      "[3, 2, 3, 4, 1, 2, 7, 8]\n",
      "[1, 2, 3, 4, 3, 2, 7, 8]\n",
      "[1, 2, 3, 4, 3, 2, 7, 8]\n",
      "[1, 2, 3, 4, 3, 2, 7, 8]\n",
      "[1, 2, 3, 4, 3, 2, 7, 8]\n",
      "[1, 2, 3, 4, 3, 2, 7, 8]\n"
     ]
    },
    {
     "data": {
      "text/plain": [
       "[5, 6]"
      ]
     },
     "execution_count": 22,
     "metadata": {},
     "output_type": "execute_result"
    }
   ],
   "source": [
    "nums_ = [4,3,2,7,8,2,3,1]\n",
    "solution = Solution()\n",
    "solution.findDisappearedNumbers(nums_)"
   ]
  },
  {
   "cell_type": "code",
   "execution_count": null,
   "metadata": {},
   "outputs": [],
   "source": []
  }
 ],
 "metadata": {
  "kernelspec": {
   "display_name": "Python 3",
   "language": "python",
   "name": "python3"
  },
  "language_info": {
   "codemirror_mode": {
    "name": "ipython",
    "version": 3
   },
   "file_extension": ".py",
   "mimetype": "text/x-python",
   "name": "python",
   "nbconvert_exporter": "python",
   "pygments_lexer": "ipython3",
   "version": "3.6.2"
  }
 },
 "nbformat": 4,
 "nbformat_minor": 4
}
