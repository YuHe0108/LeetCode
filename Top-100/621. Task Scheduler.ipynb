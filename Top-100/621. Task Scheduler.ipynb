{
 "cells": [
  {
   "cell_type": "raw",
   "metadata": {},
   "source": [
    "说明：\n",
    "    给定一个字符数组任务，代表CPU需要执行的任务，其中每个字母代表一个不同的任务。\n",
    "    任务可以以任何顺序完成。每个任务在一个时间单位内完成。\n",
    "    对于每个时间单位，CPU可以完成一项任务或仅处于空闲状态。\n",
    "    但是，存在一个非负整数n，它表示两个相同任务（数组中的相同字母）之间的冷却时间，也就是说，任何两个相同任务之间必须至少存在n个时间单位。\n",
    "    返回CPU完成所有给定任务所需的最少时间单位。\n",
    "\n",
    "Example 1:\n",
    "    Input: tasks = [\"A\",\"A\",\"A\",\"B\",\"B\",\"B\"], n = 2\n",
    "    Output: 8\n",
    "    Explanation: \n",
    "        A -> B -> idle -> A -> B -> idle -> A -> B\n",
    "    There is at least 2 units of time between any two same tasks.\n",
    "\n",
    "Example 2:\n",
    "    Input: tasks = [\"A\",\"A\",\"A\",\"B\",\"B\",\"B\"], n = 0\n",
    "    Output: 6\n",
    "    Explanation: On this case any permutation of size 6 would work since n = 0.\n",
    "    [\"A\",\"A\",\"A\",\"B\",\"B\",\"B\"]\n",
    "    [\"A\",\"B\",\"A\",\"B\",\"A\",\"B\"]\n",
    "    [\"B\",\"B\",\"B\",\"A\",\"A\",\"A\"]\n",
    "    ...\n",
    "    And so on.\n",
    "\n",
    "Example 3:\n",
    "    Input: tasks = [\"A\",\"A\",\"A\",\"A\",\"A\",\"A\",\"B\",\"C\",\"D\",\"E\",\"F\",\"G\"], n = 2\n",
    "    Output: 16\n",
    "    Explanation: \n",
    "        One possible solution is\n",
    "        A -> B -> C -> A -> D -> E -> A -> F -> G -> A -> idle -> idle -> A -> idle -> idle -> A\n",
    "\n",
    "约束：\n",
    "    1、1 <= task.length <= 10^4。\n",
    "    2、task[i] 是大写英文字母。\n",
    "    3、整数 n 在 [0，100] 范围内。"
   ]
  },
  {
   "cell_type": "code",
   "execution_count": 40,
   "metadata": {},
   "outputs": [],
   "source": [
    "from collections import Counter\n",
    "class Solution:\n",
    "    def leastInterval(self, tasks, n: int) -> int:\n",
    "        # 按字母出现次数的多少排序\n",
    "        counter = sorted(dict(Counter(tasks)).items(), key= lambda x:-x[1])\n",
    "        self.set_alpha = [x for x, y in counter]\n",
    "        self.tasks = tasks\n",
    "        self.n = n\n",
    "        temp = self.helper()\n",
    "        print(temp)\n",
    "    \n",
    "    def helper(self):\n",
    "        temp = []\n",
    "        index = 0\n",
    "        if len()\n",
    "        \n",
    "        while self.set_alpha:\n",
    "            a = self.set_alpha[index]\n",
    "            if a in self.tasks:\n",
    "                temp.append(a)\n",
    "                self.tasks.remove(a)\n",
    "            if a not in self.tasks:\n",
    "                self.set_alpha.remove(a)\n",
    "            if len(temp) == self.n + 1:\n",
    "                return temp\n",
    "            index += 1"
   ]
  },
  {
   "cell_type": "code",
   "execution_count": 24,
   "metadata": {},
   "outputs": [],
   "source": [
    "from collections import Counter\n",
    "\n",
    "# 不是队列的思想，数学的思想\n",
    "class Solution:\n",
    "    def leastInterval(self, tasks, n: int) -> int:\n",
    "        freq = Counter(tasks)\n",
    "        freq = list(freq.values())\n",
    "        max_freq = max(freq)\n",
    "        \n",
    "        max_freq_ele_count = 0\n",
    "        i = 0\n",
    "        while i < len(freq):\n",
    "            if freq[i] == max_freq:\n",
    "                max_freq_ele_count += 1\n",
    "            i += 1\n",
    "        \n",
    "        # (max_freq - 1) * (n + 1) + max_freq_ele_count (最多字符出现的次数)\n",
    "        ans = (max_freq - 1) * (n + 1) + max_freq_ele_count\n",
    "        return max(ans, len(tasks))"
   ]
  },
  {
   "cell_type": "code",
   "execution_count": 39,
   "metadata": {},
   "outputs": [],
   "source": [
    "# 队列的方式\n",
    "# 这里的想法是贪婪地选择每次计划可重复使用的最重复的任务。\n",
    "# 为了找到重复次数最多的任务，我们使用优先级队列来有效地获取最大重复任务。\n",
    "# 我们必须确保只有可用于计划的任务在优先级队列中。\n",
    "# 为此，我们将任何计划任务添加到单独的冷却队列中。\n",
    "# 当此队列的顶部可用于计划时（即自上次使用以来已经过n步），我们将其添加回优先级队列。\n",
    "# 时间复杂度为O（nlog（m）），其中n是分配给计划的任务数量，m是唯一任务的数量。\n",
    "# PriorityQueue中的轮询步骤为O（log（m））。由于优先级队列和冷却队列最多可以包含m个项目，因此空间复杂度为O（m）。\n",
    "\n",
    "class Solution:\n",
    "    def leastInterval(self, tasks, n: int) -> int:\n",
    "        if not tasks: return 0\n",
    "        if not n: return len(tasks)\n",
    "        \n",
    "        # 统计每个任务出现的频率\n",
    "        t_dict = {}\n",
    "        for i in tasks:\n",
    "            if i not in t_dict:\n",
    "                t_dict[i] = 1\n",
    "            else:\n",
    "                t_dict[i] += 1\n",
    "        freqs = [x for x in t_dict.values()]\n",
    "        freqs.sort() # 按照出现的频率小到大排序\n",
    "        \n",
    "        count = 0\n",
    "        n += 1\n",
    "        while freqs:\n",
    "            temp = []\n",
    "            k = min(len(freqs), n)\n",
    "            for i in range(k):\n",
    "                a =  freqs.pop()\n",
    "                if a - 1 > 0:\n",
    "                    temp.append(a - 1)\n",
    "            if temp == n or len(temp) > 0:\n",
    "                count += n\n",
    "            else:\n",
    "                count += k\n",
    "            freqs += temp\n",
    "            freqs.sort()\n",
    "        return count"
   ]
  },
  {
   "cell_type": "code",
   "execution_count": 40,
   "metadata": {},
   "outputs": [
    {
     "data": {
      "text/plain": [
       "16"
      ]
     },
     "execution_count": 40,
     "metadata": {},
     "output_type": "execute_result"
    }
   ],
   "source": [
    "tasks_ = [\"A\",\"A\",\"A\",\"A\",\"A\",\"A\",\"B\",\"C\",\"D\",\"E\",\"F\",\"G\"]\n",
    "n_ = 2\n",
    "solution = Solution()\n",
    "solution.leastInterval(tasks_, n_)"
   ]
  },
  {
   "cell_type": "code",
   "execution_count": 35,
   "metadata": {},
   "outputs": [],
   "source": []
  },
  {
   "cell_type": "code",
   "execution_count": 36,
   "metadata": {},
   "outputs": [
    {
     "data": {
      "text/plain": [
       "[1, 2, 3, 4]"
      ]
     },
     "execution_count": 36,
     "metadata": {},
     "output_type": "execute_result"
    }
   ],
   "source": [
    "a"
   ]
  },
  {
   "cell_type": "code",
   "execution_count": null,
   "metadata": {},
   "outputs": [],
   "source": []
  }
 ],
 "metadata": {
  "kernelspec": {
   "display_name": "Python 3",
   "language": "python",
   "name": "python3"
  },
  "language_info": {
   "codemirror_mode": {
    "name": "ipython",
    "version": 3
   },
   "file_extension": ".py",
   "mimetype": "text/x-python",
   "name": "python",
   "nbconvert_exporter": "python",
   "pygments_lexer": "ipython3",
   "version": "3.6.2"
  }
 },
 "nbformat": 4,
 "nbformat_minor": 4
}
