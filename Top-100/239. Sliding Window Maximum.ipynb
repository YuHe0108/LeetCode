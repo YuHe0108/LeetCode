{
 "cells": [
  {
   "cell_type": "raw",
   "metadata": {},
   "source": [
    "说明：\n",
    "    给定一个数组num，存在一个大小为k的滑动窗口，该窗口从数组的最左边移到最右边。\n",
    "    您只能在窗口中看到k个数字。\n",
    "    每次滑动窗口向右移动一个位置。\n",
    "    返回滑动窗口中的最大值。\n",
    "\n",
    "跟进：您能在线性时间内解决吗？\n",
    "\n",
    "Example:\n",
    "    Input: nums = [1,3,-1,-3,5,3,6,7], and k = 3\n",
    "    Output: [3,3,5,5,6,7] \n",
    "\n",
    "Explanation: \n",
    "    Window position                Max\n",
    "    ---------------               -----\n",
    "    [1  3  -1] -3  5  3  6  7       3\n",
    "     1 [3  -1  -3] 5  3  6  7       3\n",
    "     1  3 [-1  -3  5] 3  6  7       5\n",
    "     1  3  -1 [-3  5  3] 6  7       5\n",
    "     1  3  -1  -3 [5  3  6] 7       6\n",
    "     1  3  -1  -3  5 [3  6  7]      7\n",
    "\n",
    "Constraints:\n",
    "    1、1 <= nums.length <= 10^5\n",
    "    2、-10^4 <= nums[i] <= 10^4\n",
    "    3、1 <= k <= nums.length"
   ]
  },
  {
   "cell_type": "code",
   "execution_count": 49,
   "metadata": {},
   "outputs": [],
   "source": [
    "class Solution:\n",
    "    def maxSlidingWindow(self, nums, k: int):\n",
    "        if not nums: return []\n",
    "\n",
    "        n = len(nums)\n",
    "        queue = [] # 时刻保持queue中的首元素 一定是 silding window中的最大值\n",
    "        for i in range(k):\n",
    "            while queue and queue[-1][0] <= nums[i]:\n",
    "                queue.pop()\n",
    "            queue.append((nums[i], i))\n",
    "            \n",
    "        i = k\n",
    "        result = [queue[0][0]] # nums中第一段 k 的最大值\n",
    "        while i < n:\n",
    "            if i - queue[0][1] >= k:\n",
    "                queue.pop(0)\n",
    "            while queue and queue[-1][0] <= nums[i]:\n",
    "                queue.pop()\n",
    "            queue.append((nums[i], i))\n",
    "            \n",
    "            result.append(queue[0][0])\n",
    "            i += 1\n",
    "        return result"
   ]
  },
  {
   "cell_type": "code",
   "execution_count": 50,
   "metadata": {},
   "outputs": [
    {
     "data": {
      "text/plain": [
       "[3, 3, 5, 5, 6, 7]"
      ]
     },
     "execution_count": 50,
     "metadata": {},
     "output_type": "execute_result"
    }
   ],
   "source": [
    "nums_ = [1,3,-1,-3,5,3,6,7]\n",
    "k_ = 3\n",
    "solution = Solution()\n",
    "solution.maxSlidingWindow(nums_, k_)"
   ]
  },
  {
   "cell_type": "code",
   "execution_count": 51,
   "metadata": {},
   "outputs": [],
   "source": [
    "from collections import deque\n",
    "\n",
    "class Solution:\n",
    "    def maxSlidingWindow(self, nums, k: int):\n",
    "        ln = len(nums)\n",
    "        if ln == 0:\n",
    "            return []\n",
    "\n",
    "        queue = []\n",
    "        for i in range(k):\n",
    "            while queue and queue[-1][0] <= nums[i]:\n",
    "                queue.pop()\n",
    "            queue.append((nums[i], i))\n",
    "        \n",
    "        print(queue)\n",
    "        i = k\n",
    "        result = [queue[0][0]]\n",
    "        while i < ln:\n",
    "            #remove the first element from the queue if it is outside the window\n",
    "            if i - queue[0][1] >= k:\n",
    "                queue.pop(0)\n",
    "\n",
    "            # also remove any elements that are less than the current num\n",
    "            # as long as the current num is in the boundary I don't care about any other number\n",
    "            # if this is the max, then be it.\n",
    "            while queue and queue[-1][0] <= nums[i]:\n",
    "                queue.pop()\n",
    "            queue.append((nums[i], i))\n",
    "\n",
    "            result.append(queue[0][0])\n",
    "            i += 1\n",
    "\n",
    "        return result"
   ]
  },
  {
   "cell_type": "code",
   "execution_count": 52,
   "metadata": {},
   "outputs": [
    {
     "name": "stdout",
     "output_type": "stream",
     "text": [
      "[(3, 1), (-1, 2)]\n"
     ]
    },
    {
     "data": {
      "text/plain": [
       "[3, 3, 5, 5, 6, 7]"
      ]
     },
     "execution_count": 52,
     "metadata": {},
     "output_type": "execute_result"
    }
   ],
   "source": [
    "nums_ = [1,3,-1,-3,5,3,6,7]\n",
    "k_ = 3\n",
    "solution = Solution()\n",
    "solution.maxSlidingWindow(nums_, k_)"
   ]
  },
  {
   "cell_type": "code",
   "execution_count": null,
   "metadata": {},
   "outputs": [],
   "source": []
  },
  {
   "cell_type": "code",
   "execution_count": null,
   "metadata": {},
   "outputs": [],
   "source": []
  },
  {
   "cell_type": "code",
   "execution_count": 17,
   "metadata": {},
   "outputs": [],
   "source": [
    "class Solution:\n",
    "    def maxSlidingWindow(self, nums, k: int):\n",
    "        if k > len(nums): return [max(nums)]\n",
    "        res = []\n",
    "        l, r = 0, 0\n",
    "        while r < len(nums) and l < len(nums) - k:\n",
    "            if r - l == k:\n",
    "                res.append(max(nums[l:r]))\n",
    "                l += 1\n",
    "                r = l\n",
    "            else:\n",
    "                r += 1\n",
    "        res.append(max(nums[l:]))\n",
    "        return res"
   ]
  },
  {
   "cell_type": "code",
   "execution_count": 18,
   "metadata": {},
   "outputs": [
    {
     "data": {
      "text/plain": [
       "[3, 3, 5, 5, 6, 7]"
      ]
     },
     "execution_count": 18,
     "metadata": {},
     "output_type": "execute_result"
    }
   ],
   "source": [
    "nums_ = [1,3,-1,-3,5,3,6,7]\n",
    "k_ = 3\n",
    "solution = Solution()\n",
    "solution.maxSlidingWindow(nums_, k_)"
   ]
  },
  {
   "cell_type": "code",
   "execution_count": null,
   "metadata": {},
   "outputs": [],
   "source": []
  }
 ],
 "metadata": {
  "kernelspec": {
   "display_name": "Python 3",
   "language": "python",
   "name": "python3"
  },
  "language_info": {
   "codemirror_mode": {
    "name": "ipython",
    "version": 3
   },
   "file_extension": ".py",
   "mimetype": "text/x-python",
   "name": "python",
   "nbconvert_exporter": "python",
   "pygments_lexer": "ipython3",
   "version": "3.6.2"
  }
 },
 "nbformat": 4,
 "nbformat_minor": 4
}
