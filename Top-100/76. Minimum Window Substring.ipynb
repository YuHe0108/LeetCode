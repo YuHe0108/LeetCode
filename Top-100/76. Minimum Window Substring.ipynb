{
 "cells": [
  {
   "cell_type": "raw",
   "metadata": {},
   "source": [
    "说明：\n",
    "    给定一个字符串S和一个字符串T，找到S中的最小窗口，它将包含T中所有字符的复杂度为O（n）。\n",
    "    1、 T 有可能是含有重复的元素 \n",
    "\n",
    "Example:\n",
    "    Input: S = \"ADOBECODEBANC\", T = \"ABC\"\n",
    "    Output: \"BANC\"\n",
    "\n",
    "注意：\n",
    "    如果S中没有覆盖T中所有字符的窗口，请返回空字符串“”。\n",
    "    如果有这样的窗口，可以保证S中始终只有一个唯一的最小窗口。    "
   ]
  },
  {
   "cell_type": "markdown",
   "metadata": {},
   "source": [
    "<img src='76.jpg'>"
   ]
  },
  {
   "cell_type": "code",
   "execution_count": 184,
   "metadata": {},
   "outputs": [],
   "source": [
    "from collections import Counter\n",
    "class Solution:\n",
    "    def minWindow(self, s: str, t: str) -> str:\n",
    "        s_len, t_len = len(s), len(t)\n",
    "        if s_len == 0 or t_len == 0 or s_len < t_len: return ''\n",
    "        \n",
    "        need = Counter(t)\n",
    "        l, r, i, j, missing = 0, 0, 0, 0, len(t)\n",
    "        # i, j 用于保存含有 t 字符串的 在 s中最小 substring 的长度\n",
    "        # l, r 为滑动窗口的左右边界\n",
    "        while r < s_len:\n",
    "            val = s[r]\n",
    "            # 大于0意味着 val 在 t 中\n",
    "            if need[val] > 0: # 在counter中，如果键不存在，返回值为 0\n",
    "                missing -= 1\n",
    "            need[val] -= 1\n",
    "            r += 1\n",
    "            \n",
    "            # 当 missing == 0的时候，意味着在s中匹配到了包含t的字符串\n",
    "            while missing == 0:\n",
    "                print(r)\n",
    "                if j == 0 or r - l < j - i: # r - l 表示当前截取字符串的长度，j=0的时候，表示第一次匹配到 t\n",
    "                    i, j = l, r\n",
    "                need[s[l]] += 1\n",
    "                if need[s[l]] > 0: # 当 大于 0 的时候，表示减去的字母是t中的字母，此时应该跳出while循环\n",
    "                    missing += 1\n",
    "                l += 1\n",
    "        return s[i:j]"
   ]
  },
  {
   "cell_type": "code",
   "execution_count": null,
   "metadata": {},
   "outputs": [],
   "source": []
  },
  {
   "cell_type": "code",
   "execution_count": null,
   "metadata": {},
   "outputs": [],
   "source": []
  },
  {
   "cell_type": "code",
   "execution_count": 159,
   "metadata": {},
   "outputs": [],
   "source": [
    "class Solution:\n",
    "    def minWindow(self, s: str, t: str) -> str:\n",
    "        s_len, t_len = len(s), len(t)\n",
    "        if s_len == 0 or t_len == 0 or s_len < t_len: return ''\n",
    "        \n",
    "        win_freq, t_freq = [x for x in t], [] # 用于计算频数\n",
    "        print(win_freq, t_freq)\n",
    "        \n",
    "        distance = 0\n",
    "        min_len = s_len + 1\n",
    "        begin = 0\n",
    "        left, right = 0, 0\n",
    "        \n",
    "        # [left, right) right - left\n",
    "        while right < s_len:\n",
    "            w = s[right]\n",
    "            if w in t_freq and t_freq[w] == 0:\n",
    "                right += 1\n",
    "                continue\n",
    "            "
   ]
  },
  {
   "cell_type": "code",
   "execution_count": null,
   "metadata": {},
   "outputs": [],
   "source": []
  },
  {
   "cell_type": "code",
   "execution_count": 182,
   "metadata": {},
   "outputs": [],
   "source": []
  },
  {
   "cell_type": "code",
   "execution_count": 183,
   "metadata": {},
   "outputs": [
    {
     "name": "stdout",
     "output_type": "stream",
     "text": [
      "6\n",
      "11\n",
      "11\n",
      "11\n",
      "11\n",
      "11\n",
      "13\n",
      "13\n",
      "13\n",
      "13\n"
     ]
    },
    {
     "data": {
      "text/plain": [
       "'BANC'"
      ]
     },
     "execution_count": 183,
     "metadata": {},
     "output_type": "execute_result"
    }
   ],
   "source": [
    "s_ = \"ADOBECODEBANC\" # ADOBEC BECODEBA CODEBA BANC\n",
    "t_ = \"ABC\"\n",
    "solution = Solution()\n",
    "solution.minWindow(s_, t_)"
   ]
  },
  {
   "cell_type": "code",
   "execution_count": null,
   "metadata": {},
   "outputs": [],
   "source": []
  },
  {
   "cell_type": "code",
   "execution_count": null,
   "metadata": {},
   "outputs": [],
   "source": []
  },
  {
   "cell_type": "code",
   "execution_count": null,
   "metadata": {},
   "outputs": [],
   "source": []
  },
  {
   "cell_type": "code",
   "execution_count": null,
   "metadata": {},
   "outputs": [],
   "source": []
  },
  {
   "cell_type": "code",
   "execution_count": 90,
   "metadata": {},
   "outputs": [],
   "source": [
    "class Solution:\n",
    "    def minWindow(self, s: str, t: str) -> str:\n",
    "        if not s: return ''\n",
    "        stacks = []\n",
    "        seen = set()\n",
    "        res = {}\n",
    "        left = 0\n",
    "        for i, w in enumerate(s):\n",
    "            if w in t:\n",
    "                if not stacks:\n",
    "                    left = i\n",
    "                stacks.append(i)\n",
    "                if w not in seen:\n",
    "                    seen.add(w)\n",
    "            if len(seen) == len(t):\n",
    "                res[s[left:i+1]] = i - left + 1\n",
    "                seen.remove(s[stacks.pop(0)])\n",
    "                left = stacks[0]\n",
    "        print(stacks, seen)\n",
    "        print(res)"
   ]
  },
  {
   "cell_type": "code",
   "execution_count": 95,
   "metadata": {},
   "outputs": [
    {
     "name": "stdout",
     "output_type": "stream",
     "text": [
      "[5, 9, 10, 12] {'C', 'A'}\n",
      "{'ADOBEC': 6, 'BECODEBA': 8}\n"
     ]
    }
   ],
   "source": [
    "s_ = \"ADOBECODEBANC\" # ADOBEC BECODEBA CODEBA BANC\n",
    "t_ = \"ABC\"\n",
    "solution = Solution()\n",
    "solution.minWindow(s_, t_)"
   ]
  },
  {
   "cell_type": "code",
   "execution_count": 157,
   "metadata": {},
   "outputs": [],
   "source": [
    "class Solution:\n",
    "    def minWindow(self, s: str, t: str) -> str:\n",
    "        if not s: return ''\n",
    "        stacks = []\n",
    "        seen, res = set(), {}\n",
    "        left, right = 0, 0 \n",
    "        while left < len(s):\n",
    "            if len(seen) == len(t):\n",
    "                res[s[left:right]] = right - left\n",
    "                stacks.pop(0)\n",
    "                if not stacks:\n",
    "                    break\n",
    "                left = stacks[0]\n",
    "                right = left\n",
    "                seen = set(s[left])\n",
    "                \n",
    "            if right == len(s):\n",
    "                if stacks:\n",
    "                    stacks.pop(0)\n",
    "                if not stacks:\n",
    "                    break\n",
    "                left = stacks[0]\n",
    "                seen = set(s[left])\n",
    "                right = left - 1\n",
    "                \n",
    "            w = s[right]\n",
    "            if w in t:\n",
    "                if not stacks:\n",
    "                    left = right\n",
    "                if right not in stacks:\n",
    "                    if not stacks or (stacks and right > stacks[-1]):\n",
    "                        stacks.append(right)\n",
    "                if w not in seen:\n",
    "                    seen.add(w)\n",
    "            right += 1\n",
    "            \n",
    "        if not res:\n",
    "            return ''\n",
    "        res = sorted(res.items(), key=lambda x: -x[1])\n",
    "        return res[-1][0]"
   ]
  },
  {
   "cell_type": "code",
   "execution_count": null,
   "metadata": {},
   "outputs": [],
   "source": [
    "class Solution:\n",
    "    def minWindow(self, s: str, t: str) -> str:\n",
    "        if not s: return ''"
   ]
  },
  {
   "cell_type": "code",
   "execution_count": 158,
   "metadata": {},
   "outputs": [
    {
     "name": "stdout",
     "output_type": "stream",
     "text": [
      "{'a'}\n"
     ]
    },
    {
     "data": {
      "text/plain": [
       "''"
      ]
     },
     "execution_count": 158,
     "metadata": {},
     "output_type": "execute_result"
    }
   ],
   "source": [
    "s_ = \"aa\"\n",
    "t_ = \"aa\"\n",
    "solution = Solution()\n",
    "solution.minWindow(s_, t_)"
   ]
  },
  {
   "cell_type": "code",
   "execution_count": null,
   "metadata": {},
   "outputs": [],
   "source": [
    "a = 'a'\n",
    "b = 'abc'\n",
    "seen = set(a[0])\n",
    "print(seen)"
   ]
  },
  {
   "cell_type": "code",
   "execution_count": null,
   "metadata": {},
   "outputs": [],
   "source": []
  }
 ],
 "metadata": {
  "kernelspec": {
   "display_name": "Python 3",
   "language": "python",
   "name": "python3"
  },
  "language_info": {
   "codemirror_mode": {
    "name": "ipython",
    "version": 3
   },
   "file_extension": ".py",
   "mimetype": "text/x-python",
   "name": "python",
   "nbconvert_exporter": "python",
   "pygments_lexer": "ipython3",
   "version": "3.6.2"
  }
 },
 "nbformat": 4,
 "nbformat_minor": 4
}
