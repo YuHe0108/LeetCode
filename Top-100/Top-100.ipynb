{
 "cells": [
  {
   "cell_type": "markdown",
   "metadata": {},
   "source": [
    "### 5. Longest Palindromic Substring\n",
    "      寻找字符串中最长的回文字符"
   ]
  },
  {
   "cell_type": "code",
   "execution_count": 124,
   "metadata": {},
   "outputs": [],
   "source": [
    "class Solution:\n",
    "    def longestPalindrome(self, s: str) -> str:\n",
    "        n = len(s)\n",
    "        dp = [[0] * (1+n) for _ in range(1+n)]\n",
    "        for i in range(1, n+1):\n",
    "            dp[i][i] = 1\n",
    "        \n",
    "        s = '#' + s\n",
    "        for gap in range(2, len(s)):\n",
    "            for start in range(1, len(s) - gap + 1):\n",
    "                end = start + gap - 1\n",
    "                if gap == 2 and s[start] == s[end]:\n",
    "                    dp[start][end] = 2\n",
    "                elif s[start] == s[end]:\n",
    "                    dp[start][end] = dp[start+1][end-1] + 2\n",
    "                else:\n",
    "                    dp[start][end] = max(dp[start][end-1], dp[start+1][end])\n",
    "        return dp[1][-1]"
   ]
  },
  {
   "cell_type": "code",
   "execution_count": 216,
   "metadata": {},
   "outputs": [],
   "source": [
    "class Solution:\n",
    "    def longestPalindrome(self, s: str) -> str:\n",
    "        if len(s) < 2: return s\n",
    "        n = len(s)\n",
    "        dp = [[False] * (1+n) for _ in range(1+n)]\n",
    "        for i in range(1, n+1):\n",
    "            dp[i][i] = True\n",
    "        \n",
    "        s = '#' + s\n",
    "        res = s[1]\n",
    "        cnt = 1\n",
    "        for gap in range(2, len(s)):\n",
    "            for start in range(1, len(s) - gap + 1):\n",
    "                end = start + gap - 1\n",
    "                if s[start] == s[end]:\n",
    "                    if gap == 2 or dp[start+1][end-1]:\n",
    "                        dp[start][end] = True\n",
    "                if dp[start][end] and len(s[start:end+1]) > cnt:\n",
    "                    res = s[start:end+1]\n",
    "                    cnt = len(res)\n",
    "        return res"
   ]
  },
  {
   "cell_type": "code",
   "execution_count": 217,
   "metadata": {},
   "outputs": [
    {
     "data": {
      "text/plain": [
       "'babab'"
      ]
     },
     "execution_count": 217,
     "metadata": {},
     "output_type": "execute_result"
    }
   ],
   "source": [
    "solution = Solution()\n",
    "solution.longestPalindrome('babab')"
   ]
  },
  {
   "cell_type": "code",
   "execution_count": null,
   "metadata": {},
   "outputs": [],
   "source": [
    "[[False, False, False, False], \n",
    " [False, True, False, False], \n",
    " [False, False, True, False], \n",
    " [False, False, False, True]]"
   ]
  },
  {
   "cell_type": "code",
   "execution_count": 186,
   "metadata": {},
   "outputs": [],
   "source": [
    "class Solution:\n",
    "    def longestPalindrome(self, s: str) -> str:\n",
    "        if len(s) == 0: return \"\"\n",
    "        if len(s) == 1: return s\n",
    "        \n",
    "        dp = [[False]*len(s) for i in range(len(s))]\n",
    "        \n",
    "        ans = s[0], 1\n",
    "        for i in range(len(s)):\n",
    "            dp[i][i] = True\n",
    "            \n",
    "        for c in range(1, len(s)):\n",
    "            for r in range(0, c-1):\n",
    "                print(r, c)\n",
    "                if c == 1:\n",
    "                    if s[r] == s[c]:\n",
    "                        dp[r][c] = True\n",
    "                        if c > ans[1]:\n",
    "                            ans = s[r:c+1], c-r+1\n",
    "                else:\n",
    "                    if dp[r+1][c-1] == True and s[r] == s[c]:\n",
    "                        dp[r][c] = True\n",
    "                        if c-r+1 > ans[1]:\n",
    "                            ans = s[r:c+1], c-r+1\n",
    "        return ans[0]"
   ]
  },
  {
   "cell_type": "code",
   "execution_count": 187,
   "metadata": {},
   "outputs": [
    {
     "name": "stdout",
     "output_type": "stream",
     "text": [
      "0 2\n",
      "0 3\n",
      "1 3\n"
     ]
    },
    {
     "data": {
      "text/plain": [
       "'c'"
      ]
     },
     "execution_count": 187,
     "metadata": {},
     "output_type": "execute_result"
    }
   ],
   "source": [
    "solution = Solution()\n",
    "solution.longestPalindrome('cbbd')"
   ]
  },
  {
   "cell_type": "code",
   "execution_count": null,
   "metadata": {},
   "outputs": [],
   "source": []
  }
 ],
 "metadata": {
  "kernelspec": {
   "display_name": "Python 3",
   "language": "python",
   "name": "python3"
  },
  "language_info": {
   "codemirror_mode": {
    "name": "ipython",
    "version": 3
   },
   "file_extension": ".py",
   "mimetype": "text/x-python",
   "name": "python",
   "nbconvert_exporter": "python",
   "pygments_lexer": "ipython3",
   "version": "3.6.2"
  }
 },
 "nbformat": 4,
 "nbformat_minor": 4
}
