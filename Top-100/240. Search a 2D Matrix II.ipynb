{
 "cells": [
  {
   "cell_type": "raw",
   "metadata": {},
   "source": [
    "说明：\n",
    "    写一个有效的算法来搜索m×n矩阵中的值。此矩阵具有以下属性：\n",
    "    1、每行中的整数按从左到右的升序排序。\n",
    "    2、每列中的整数按从上到下的升序排序。\n",
    "\n",
    "Example:\n",
    "    Consider the following matrix:\n",
    "\n",
    "    [\n",
    "      [1,   4,  7, 11, 15],\n",
    "      [2,   5,  8, 12, 19],\n",
    "      [3,   6,  9, 16, 22],\n",
    "      [10, 13, 14, 17, 24],\n",
    "      [18, 21, 23, 26, 30]\n",
    "    ]\n",
    "    Given target = 5, return true.\n",
    "    Given target = 20, return false."
   ]
  },
  {
   "cell_type": "code",
   "execution_count": 14,
   "metadata": {},
   "outputs": [],
   "source": [
    "class Solution:\n",
    "    def searchMatrix(self, matrix, target):\n",
    "        \"\"\"\n",
    "        :type matrix: List[List[int]]\n",
    "        :type target: int\n",
    "        :rtype: bool\n",
    "        \"\"\"\n",
    "        rows, cols = len(matrix), len(matrix[0])\n",
    "        p_r = []\n",
    "        for i in range(rows):\n",
    "            val = matrix[i][0]\n",
    "            if val < target:\n",
    "                p_r.append(i)\n",
    "        if not p_r: return False\n",
    "        \n",
    "        p_c = []\n",
    "        for j in range(cols):\n",
    "            val = matrix[0][j]\n",
    "            if val < target:\n",
    "                p_c.append(j)\n",
    "        if not p_c: return False\n",
    "        \n",
    "        for r in p_r:\n",
    "            for c in p_c:\n",
    "                if matrix[r][c] == target:\n",
    "                    return True\n",
    "        return False"
   ]
  },
  {
   "cell_type": "code",
   "execution_count": 37,
   "metadata": {},
   "outputs": [],
   "source": [
    "class Solution:\n",
    "    def searchMatrix(self, matrix, target):\n",
    "        if not matrix or not matrix[0]: return False\n",
    "        rows, cols = len(matrix), len(matrix[0])\n",
    "        \n",
    "        for row in range(rows):\n",
    "            if matrix[row][0] <= target <= matrix[row][-1]:\n",
    "                left, right = 0, cols-1\n",
    "                while left <= right:\n",
    "                    mid = left + (right - left) // 2\n",
    "                    if matrix[row][mid] > target:\n",
    "                        right = mid - 1\n",
    "                    elif matrix[row][mid] == target:\n",
    "                        return True\n",
    "                    elif matrix[row][mid] < target:\n",
    "                        left = mid + 1\n",
    "        return False "
   ]
  },
  {
   "cell_type": "code",
   "execution_count": 38,
   "metadata": {},
   "outputs": [
    {
     "data": {
      "text/plain": [
       "True"
      ]
     },
     "execution_count": 38,
     "metadata": {},
     "output_type": "execute_result"
    }
   ],
   "source": [
    "mat = [[1,4,7,11,15],[2,5,8,12,19],[3,6,9,16,22],[10,13,14,17,24],[18,21,23,26,30]]\n",
    "solution = Solution()\n",
    "solution.searchMatrix(mat, 5)"
   ]
  },
  {
   "cell_type": "code",
   "execution_count": null,
   "metadata": {},
   "outputs": [],
   "source": []
  }
 ],
 "metadata": {
  "kernelspec": {
   "display_name": "Python 3",
   "language": "python",
   "name": "python3"
  },
  "language_info": {
   "codemirror_mode": {
    "name": "ipython",
    "version": 3
   },
   "file_extension": ".py",
   "mimetype": "text/x-python",
   "name": "python",
   "nbconvert_exporter": "python",
   "pygments_lexer": "ipython3",
   "version": "3.6.2"
  }
 },
 "nbformat": 4,
 "nbformat_minor": 4
}
