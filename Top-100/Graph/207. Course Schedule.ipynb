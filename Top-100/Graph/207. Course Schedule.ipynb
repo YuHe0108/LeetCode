{
 "cells": [
  {
   "cell_type": "markdown",
   "metadata": {},
   "source": [
    "## 判断图中是不是有环"
   ]
  },
  {
   "cell_type": "code",
   "execution_count": null,
   "metadata": {},
   "outputs": [],
   "source": []
  },
  {
   "cell_type": "markdown",
   "metadata": {},
   "source": [
    "### 1、DFS的算法"
   ]
  },
  {
   "cell_type": "code",
   "execution_count": 8,
   "metadata": {},
   "outputs": [],
   "source": [
    "from typing import List\n",
    "from collections import defaultdict\n",
    "\n",
    "class Solution:\n",
    "    def canFinish(self, numCourses: int, prerequisites: List[List[int]]) -> bool:\n",
    "        def dfs(cur):\n",
    "            # visited[cur] == 0: 表示从没有访问过的节点\n",
    "            # visited[cur] == 1: 表示当前节点肯定不会形成环\n",
    "            # visited[cur] == 2: 当前节点正在访问，如果在当前的访问过程中，又访问到了当前节点，那么就是出现环\n",
    "            if visited[cur] == 1:\n",
    "                return True\n",
    "            if visited[cur] == 2:\n",
    "                return False\n",
    "            visited[cur] = 2\n",
    "            for nxt in graph[cur]:\n",
    "                if dfs(nxt) is False:\n",
    "                    return False\n",
    "            visited[cur] = 1\n",
    "            return True\n",
    "        \n",
    "        # 先、后修课的关系顺序\n",
    "        graph = defaultdict(list)\n",
    "        for a, b in prerequisites:\n",
    "            graph[b].append(a)\n",
    "       \n",
    "        visited = [0] * numCourses\n",
    "        for i in range(numCourses):\n",
    "            if dfs(i) is False:\n",
    "                return False\n",
    "        return True"
   ]
  },
  {
   "cell_type": "code",
   "execution_count": 9,
   "metadata": {},
   "outputs": [
    {
     "data": {
      "text/plain": [
       "False"
      ]
     },
     "execution_count": 9,
     "metadata": {},
     "output_type": "execute_result"
    }
   ],
   "source": [
    "solution = Solution()\n",
    "solution.canFinish(2, [[1,0],[0,1]])"
   ]
  },
  {
   "cell_type": "code",
   "execution_count": null,
   "metadata": {},
   "outputs": [],
   "source": []
  },
  {
   "cell_type": "code",
   "execution_count": null,
   "metadata": {},
   "outputs": [],
   "source": []
  },
  {
   "cell_type": "markdown",
   "metadata": {},
   "source": [
    "### (2) BFS的算法"
   ]
  },
  {
   "cell_type": "code",
   "execution_count": 28,
   "metadata": {},
   "outputs": [],
   "source": [
    "from typing import List\n",
    "from collections import defaultdict, deque\n",
    "\n",
    "class Solution:\n",
    "    def canFinish(self, numCourses: int, prerequisites: List[List[int]]) -> bool:\n",
    "        indegree = defaultdict(int) # 每个课程有多少依赖的课程\n",
    "        nexts = defaultdict(list) # 每个课程需要依赖的课程\n",
    "        for a, b in prerequisites:\n",
    "            indegree[b] += 1\n",
    "            nexts[a].append(b) # a依赖b，所以b的入度+1\n",
    "        \n",
    "        count = 0 # 每次将入度为0的节点加入到visited中\n",
    "        points = deque() # 首先找一下入度为0的点\n",
    "        for i in range(numCourses):\n",
    "            if indegree[i] == 0:\n",
    "                points.append(i)\n",
    "                count += 1\n",
    "                \n",
    "        while points:\n",
    "            for _ in range(len(points)):\n",
    "                p = points.popleft()\n",
    "                for nxt in nexts[p]:\n",
    "                    indegree[nxt] -= 1\n",
    "                    if indegree[nxt] == 0:\n",
    "                        points.append(nxt)\n",
    "                        count += 1\n",
    "        return count == numCourses"
   ]
  },
  {
   "cell_type": "code",
   "execution_count": 29,
   "metadata": {},
   "outputs": [
    {
     "data": {
      "text/plain": [
       "True"
      ]
     },
     "execution_count": 29,
     "metadata": {},
     "output_type": "execute_result"
    }
   ],
   "source": [
    "solution = Solution()\n",
    "solution.canFinish(2, [[1,0]])"
   ]
  },
  {
   "cell_type": "code",
   "execution_count": null,
   "metadata": {},
   "outputs": [],
   "source": []
  }
 ],
 "metadata": {
  "kernelspec": {
   "display_name": "Python 3",
   "language": "python",
   "name": "python3"
  },
  "language_info": {
   "codemirror_mode": {
    "name": "ipython",
    "version": 3
   },
   "file_extension": ".py",
   "mimetype": "text/x-python",
   "name": "python",
   "nbconvert_exporter": "python",
   "pygments_lexer": "ipython3",
   "version": "3.6.2"
  }
 },
 "nbformat": 4,
 "nbformat_minor": 4
}
