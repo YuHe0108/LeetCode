{
 "cells": [
  {
   "cell_type": "raw",
   "metadata": {},
   "source": [
    "说明：\n",
    "    给定一个未排序的整数数组，请找出最长的连续元素序列的长度。\n",
    "    您的算法应以O（n）复杂度运行。\n",
    "\n",
    "Example:\n",
    "    Input: [100, 4, 200, 1, 3, 2]\n",
    "    Output: 4\n",
    "    Explanation: The longest consecutive elements sequence is [1, 2, 3, 4]. Therefore its length is 4."
   ]
  },
  {
   "cell_type": "code",
   "execution_count": 41,
   "metadata": {},
   "outputs": [],
   "source": [
    "class Solution:\n",
    "    def longestConsecutive(self, nums) -> int:\n",
    "        num_dict = {}\n",
    "        max_len = 0\n",
    "        \n",
    "        nums = set(nums)\n",
    "        for num in nums:\n",
    "            left = num_dict.get(num - 1, 0)\n",
    "            right = num_dict.get(num + 1, 0)\n",
    "            length = right + left + 1\n",
    "            \n",
    "            max_len = max(max_len, length)\n",
    "            \n",
    "            num_dict[num] = length\n",
    "            num_dict[num - left] = length # 数字的端点\n",
    "            num_dict[num + right] = length # 右端点\n",
    "            print(num_dict, num)\n",
    "        return max_len"
   ]
  },
  {
   "cell_type": "code",
   "execution_count": 42,
   "metadata": {},
   "outputs": [
    {
     "name": "stdout",
     "output_type": "stream",
     "text": [
      "{1: 1} 1\n",
      "{1: 2, 2: 2} 2\n",
      "{1: 3, 2: 2, 3: 3} 3\n",
      "{1: 4, 2: 2, 3: 3, 4: 4} 4\n",
      "{1: 5, 2: 2, 3: 3, 4: 4, 5: 5} 5\n",
      "{1: 6, 2: 2, 3: 3, 4: 4, 5: 5, 6: 6} 6\n"
     ]
    },
    {
     "data": {
      "text/plain": [
       "6"
      ]
     },
     "execution_count": 42,
     "metadata": {},
     "output_type": "execute_result"
    }
   ],
   "source": [
    "nums_ = [6,5,1,2,3,4]\n",
    "solution = Solution()\n",
    "solution.longestConsecutive(nums_)"
   ]
  },
  {
   "cell_type": "code",
   "execution_count": 30,
   "metadata": {},
   "outputs": [],
   "source": [
    "class Solution:\n",
    "    def longestConsecutive(self, nums) -> int:\n",
    "        union = {}\n",
    "        max_len = 0\n",
    "        for n in nums:\n",
    "            if n in union:\n",
    "                continue\n",
    "            start = end = n\n",
    "            \n",
    "            if n + 1 in union:\n",
    "                end = union[n+1][1]\n",
    "            if n - 1 in union:\n",
    "                start = union[n-1][0]\n",
    "            \n",
    "            union[start] = union[end] = union[n] = (start, end)\n",
    "            max_len = max(end - start + 1, max_len)\n",
    "            print(n)\n",
    "        return max_len"
   ]
  },
  {
   "cell_type": "code",
   "execution_count": 34,
   "metadata": {},
   "outputs": [],
   "source": [
    "class Solution:\n",
    "    def longestConsecutive(self, nums) -> int:\n",
    "        nums = set(nums)\n",
    "        max_len = 0\n",
    "        for low in nums:\n",
    "            if low - 1 not in nums:\n",
    "                high = low + 1\n",
    "                while high in nums:\n",
    "                    high += 1\n",
    "                max_len = max(max_len, high - low)\n",
    "        return max_len"
   ]
  },
  {
   "cell_type": "code",
   "execution_count": 35,
   "metadata": {},
   "outputs": [
    {
     "data": {
      "text/plain": [
       "3"
      ]
     },
     "execution_count": 35,
     "metadata": {},
     "output_type": "execute_result"
    }
   ],
   "source": [
    "nums_ = [1,2,0,1]\n",
    "solution = Solution()\n",
    "solution.longestConsecutive(nums_)"
   ]
  },
  {
   "cell_type": "code",
   "execution_count": null,
   "metadata": {},
   "outputs": [],
   "source": []
  }
 ],
 "metadata": {
  "kernelspec": {
   "display_name": "Python 3",
   "language": "python",
   "name": "python3"
  },
  "language_info": {
   "codemirror_mode": {
    "name": "ipython",
    "version": 3
   },
   "file_extension": ".py",
   "mimetype": "text/x-python",
   "name": "python",
   "nbconvert_exporter": "python",
   "pygments_lexer": "ipython3",
   "version": "3.6.2"
  }
 },
 "nbformat": 4,
 "nbformat_minor": 4
}
