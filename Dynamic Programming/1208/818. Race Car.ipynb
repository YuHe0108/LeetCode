{
 "cells": [
  {
   "cell_type": "code",
   "execution_count": null,
   "metadata": {},
   "outputs": [],
   "source": []
  },
  {
   "cell_type": "code",
   "execution_count": null,
   "metadata": {},
   "outputs": [],
   "source": []
  },
  {
   "cell_type": "code",
   "execution_count": null,
   "metadata": {},
   "outputs": [],
   "source": []
  },
  {
   "cell_type": "code",
   "execution_count": 30,
   "metadata": {},
   "outputs": [],
   "source": [
    "from collections import deque\n",
    "\n",
    "class Solution:\n",
    "    def racecar(self, target: int) -> int:\n",
    "        seen = set((0, 1))  # pos, speed\n",
    "        queue = deque([(0, 1)])\n",
    "        steps = 0\n",
    "        while queue:\n",
    "            for _ in range(len(queue)):\n",
    "                pos, speed = queue.popleft()\n",
    "                new_pos = pos + speed\n",
    "                if new_pos == target:\n",
    "                    return steps + 1\n",
    "                \n",
    "                # 'A'\n",
    "                new_speed = speed * 2\n",
    "                if abs(new_speed) < 2 * target and abs(new_pos) < 2 * target and (new_pos, new_speed) not in seen:\n",
    "                    queue.append((new_pos, new_speed))\n",
    "                    seen.add((new_pos, new_speed))\n",
    "                \n",
    "                # 'R'\n",
    "                new_speed = -1 if speed > 0 else 1\n",
    "                if (pos, new_speed) not in seen:\n",
    "                    queue.append((pos, new_speed))\n",
    "                    seen.add((pos, new_speed))\n",
    "            steps += 1\n",
    "        return -1"
   ]
  },
  {
   "cell_type": "code",
   "execution_count": 31,
   "metadata": {},
   "outputs": [
    {
     "data": {
      "text/plain": [
       "5"
      ]
     },
     "execution_count": 31,
     "metadata": {},
     "output_type": "execute_result"
    }
   ],
   "source": [
    "solution = Solution()\n",
    "solution.racecar(6)"
   ]
  },
  {
   "cell_type": "code",
   "execution_count": 3,
   "metadata": {},
   "outputs": [],
   "source": [
    "a = [1, 1, 2, 3]"
   ]
  },
  {
   "cell_type": "code",
   "execution_count": 4,
   "metadata": {},
   "outputs": [
    {
     "data": {
      "text/plain": [
       "2"
      ]
     },
     "execution_count": 4,
     "metadata": {},
     "output_type": "execute_result"
    }
   ],
   "source": [
    "a.count(1)"
   ]
  },
  {
   "cell_type": "code",
   "execution_count": null,
   "metadata": {},
   "outputs": [],
   "source": []
  }
 ],
 "metadata": {
  "kernelspec": {
   "display_name": "Python 3",
   "language": "python",
   "name": "python3"
  },
  "language_info": {
   "codemirror_mode": {
    "name": "ipython",
    "version": 3
   },
   "file_extension": ".py",
   "mimetype": "text/x-python",
   "name": "python",
   "nbconvert_exporter": "python",
   "pygments_lexer": "ipython3",
   "version": "3.6.2"
  }
 },
 "nbformat": 4,
 "nbformat_minor": 4
}
