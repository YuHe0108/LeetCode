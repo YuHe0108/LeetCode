{
 "cells": [
  {
   "cell_type": "raw",
   "metadata": {},
   "source": [
    "第二类区间型DP：\n",
    "    给定字符串s，找到最长回文子序列的长度s。您可以假设s的最大长度为1000。\n",
    "\n",
    "Example 1:\n",
    "    Input:\n",
    "        \"bbbab\"\n",
    "    Output:\n",
    "        4\n",
    "    One possible longest palindromic subsequence is \"bbbb\".\n",
    " \n",
    "Example 2:\n",
    "    Input:\n",
    "        \"cbbd\"\n",
    "    Output:\n",
    "        2\n",
    "    One possible longest palindromic subsequence is \"bb\".\n",
    "\n",
    "Constraints:\n",
    "    1、1 <= s.length <= 1000\n",
    "    2、s consists only of lowercase English letters."
   ]
  },
  {
   "cell_type": "code",
   "execution_count": 99,
   "metadata": {},
   "outputs": [],
   "source": [
    "class Solution:\n",
    "    def longestPalindromeSubseq(self, s: str) -> int:\n",
    "        s = '0' + s\n",
    "        len_s = len(s)\n",
    "        dp = [[0] * len_s for _ in range(len_s)]\n",
    "        \n",
    "        for i in range(1, len_s):\n",
    "            dp[1][i] = 1\n",
    "        \n",
    "        for sub_len in range(2, len_s + 1):\n",
    "            start = 1\n",
    "            while start + sub_len - 1 < len_s:\n",
    "                end = start + sub_len\n",
    "                print(s[start:end])\n",
    "                if s[start] == s[end]:\n",
    "                    dp[sub_len][end] = max(dp[sub_len][end], dp[sub_len])\n",
    "                else:\n",
    "                    dp[sub_len][end] = max(dp[sub_len - 1][end-1], dp[sub_len - 1][start])\n",
    "                start += 1\n",
    "        print(dp)\n",
    "        return dp[-1][-1]"
   ]
  },
  {
   "cell_type": "code",
   "execution_count": 152,
   "metadata": {},
   "outputs": [],
   "source": [
    "class Solution:\n",
    "    def longestPalindromeSubseq(self, s: str) -> int:\n",
    "        s = '0' + s\n",
    "        len_s = len(s)\n",
    "        \n",
    "        # dp[i][j] 代表了从s的第 i 个 idx 到 j 个idx，回文数最大长度\n",
    "        dp = [[0] * len_s for _ in range(len_s)]\n",
    "        for i in range(1, len_s):\n",
    "            dp[i][i] = 1\n",
    "        \n",
    "        for sub_len in range(2, len_s + 1): # 代表了从s中截取不同长度的sub_s\n",
    "            start = 1\n",
    "            while start + sub_len - 1 < len_s:\n",
    "                end = start + sub_len - 1 # 末尾字符串的索引\n",
    "                print(s[start:end+1], sub_len, start, end)\n",
    "                if s[start] == s[end]:\n",
    "                    dp[start][end] = max(dp[start][end], dp[start+1][end-1] + 2)\n",
    "                else:\n",
    "                    dp[start][end] = max(dp[start+1][end], dp[start][end-1])\n",
    "                start += 1\n",
    "        return dp[1][-1]"
   ]
  },
  {
   "cell_type": "code",
   "execution_count": 153,
   "metadata": {},
   "outputs": [
    {
     "name": "stdout",
     "output_type": "stream",
     "text": [
      "cb 2 1 2\n",
      "bb 2 2 3\n",
      "bd 2 3 4\n",
      "cbb 3 1 3\n",
      "bbd 3 2 4\n",
      "cbbd 4 1 4\n"
     ]
    },
    {
     "data": {
      "text/plain": [
       "2"
      ]
     },
     "execution_count": 153,
     "metadata": {},
     "output_type": "execute_result"
    }
   ],
   "source": [
    "solution = Solution()\n",
    "solution.longestPalindromeSubseq('cbbd')"
   ]
  },
  {
   "cell_type": "code",
   "execution_count": null,
   "metadata": {},
   "outputs": [],
   "source": []
  }
 ],
 "metadata": {
  "kernelspec": {
   "display_name": "Python 3",
   "language": "python",
   "name": "python3"
  },
  "language_info": {
   "codemirror_mode": {
    "name": "ipython",
    "version": 3
   },
   "file_extension": ".py",
   "mimetype": "text/x-python",
   "name": "python",
   "nbconvert_exporter": "python",
   "pygments_lexer": "ipython3",
   "version": "3.6.2"
  }
 },
 "nbformat": 4,
 "nbformat_minor": 4
}
