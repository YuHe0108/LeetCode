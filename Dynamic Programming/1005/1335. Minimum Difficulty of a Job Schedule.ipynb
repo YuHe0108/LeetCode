{
 "cells": [
  {
   "cell_type": "raw",
   "metadata": {},
   "source": [
    "区间型DP：\n",
    "说明：\n",
    "    您要计划d天的作业列表。作业是依赖的（即，要执行第i个作业，您必须完成所有0 <= j <i的作业j）。\n",
    "    您每天必须至少完成一项任务：\n",
    "        1、工作计划的难度是d天每一天的难度之和。\n",
    "        2、一天的难度是当天完成工作的最大难度。\n",
    "    给定一个整数数组jobDifficulty和一个整数d。\n",
    "    第i个工作的难度是jobDifficulty[i], 返回工作计划的最低难度, 如果找不到工作计划，则返回-1。\n",
    "\n",
    "Example 1:\n",
    "    Input: jobDifficulty = [6,5,4,3,2,1], d = 2\n",
    "    Output: 7\n",
    "    Explanation: First day you can finish the first 5 jobs, total difficulty = 6.\n",
    "                 Second day you can finish the last job, total difficulty = 1.\n",
    "                 The difficulty of the schedule = 6 + 1 = 7 \n",
    "\n",
    "Example 2:\n",
    "    Input: jobDifficulty = [9,9,9], d = 4\n",
    "    Output: -1\n",
    "    Explanation: If you finish a job per day you will still have a free day. you cannot find a schedule for the given jobs.\n",
    "\n",
    "Example 3:\n",
    "    Input: jobDifficulty = [1,1,1], d = 3\n",
    "    Output: 3\n",
    "    Explanation: The schedule is one job per day. total difficulty will be 3.\n",
    "\n",
    "Example 4:\n",
    "    Input: jobDifficulty = [7,1,7,1,7,1], d = 3\n",
    "    Output: 15\n",
    "\n",
    "Example 5:\n",
    "    Input: jobDifficulty = [11,111,22,222,33,333,44,444], d = 6\n",
    "    Output: 843\n",
    "\n",
    "Constraints:\n",
    "    1、1 <= jobDifficulty.length <= 300\n",
    "    2、0 <= jobDifficulty[i] <= 1000\n",
    "    3、1 <= d <= 10"
   ]
  },
  {
   "cell_type": "code",
   "execution_count": 77,
   "metadata": {},
   "outputs": [],
   "source": [
    "class Solution:\n",
    "    def minDifficulty(self, job_dif, d: int) -> int:\n",
    "        if d > len(job_dif): return -1\n",
    "        job_dif = [0] + job_dif\n",
    "        len_job = len(job_dif)\n",
    "        dp = [[float('inf')] * (d + 1) for _ in range(len_job)]\n",
    "        dp[0][0] = 0\n",
    "        \n",
    "        max_val = [[0] * (len_job) for _ in range(len_job)]\n",
    "        for i in range(1, len_job):\n",
    "            for j in range(i, len_job):\n",
    "                max_val[i][j] = max(job_dif[i:j+1])\n",
    "                \n",
    "        for i in range(1, len_job):\n",
    "            for k in range(1, min(i+1, d+1)):\n",
    "                for j in range(k, i+1):\n",
    "                    dp[i][k] = min(dp[i][k], dp[j-1][k-1] + max_val[j][i])\n",
    "        return dp[-1][-1]"
   ]
  },
  {
   "cell_type": "code",
   "execution_count": 78,
   "metadata": {},
   "outputs": [
    {
     "data": {
      "text/plain": [
       "843"
      ]
     },
     "execution_count": 78,
     "metadata": {},
     "output_type": "execute_result"
    }
   ],
   "source": [
    "#  k-1份   分成1份     \n",
    "# xxxxxx j xxx i:  i个元素分成 k份\n",
    "solution = Solution()\n",
    "solution.minDifficulty([11,111,22,222,33,333,44,444], 6)"
   ]
  },
  {
   "cell_type": "code",
   "execution_count": null,
   "metadata": {},
   "outputs": [],
   "source": [
    "max(2,)"
   ]
  }
 ],
 "metadata": {
  "kernelspec": {
   "display_name": "Python 3",
   "language": "python",
   "name": "python3"
  },
  "language_info": {
   "codemirror_mode": {
    "name": "ipython",
    "version": 3
   },
   "file_extension": ".py",
   "mimetype": "text/x-python",
   "name": "python",
   "nbconvert_exporter": "python",
   "pygments_lexer": "ipython3",
   "version": "3.6.2"
  }
 },
 "nbformat": 4,
 "nbformat_minor": 4
}
