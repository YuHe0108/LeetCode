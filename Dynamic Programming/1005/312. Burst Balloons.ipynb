{
 "cells": [
  {
   "cell_type": "raw",
   "metadata": {},
   "source": [
    "说明：\n",
    "    给定n个气球，索引从0到n-1。\n",
    "    每个气球上都绘有一个数字，由数组nums表示。\n",
    "    你被要求炸开所有的气球。\n",
    "    如果你的气球爆了，你会得到 num[left]*nums[i]*nums[right]硬币。\n",
    "    这里的左和右是i的相邻索引。\n",
    "    在突发之后，左和右就成为相邻的。明智地炸开气球，找到你能收集到的最多的硬币。\n",
    "\n",
    "Note:\n",
    "1、You may imagine nums[-1] = nums[n] = 1. They are not real therefore you can not burst them.\n",
    "2、0 ≤ n ≤ 500, 0 ≤ nums[i] ≤ 100\n",
    "\n",
    "Example:\n",
    "    Input: [3,1,5,8]\n",
    "    Output: 167 \n",
    "    Explanation: nums = [3,1,5,8] --> [3,5,8] -->   [3,8]   -->  [8]  --> []\n",
    "                 coins =  3*1*5      +  3*5*8    +  1*3*8      + 1*8*1   = 167"
   ]
  },
  {
   "cell_type": "code",
   "execution_count": 15,
   "metadata": {},
   "outputs": [],
   "source": [
    "class Solution:\n",
    "    def maxCoins(self, nums) -> int:\n",
    "        if not nums: return 0\n",
    "        if len(nums) == 1: return nums[0]\n",
    "        nums = [0] + nums\n",
    "        len_n = len(nums)\n",
    "        dp = [[0] * len_n for _ in range(len_n)] \n",
    "        \n",
    "        for i in range(2, len_n+1):\n",
    "            start = 1\n",
    "            while start + i - 1 < len_n:\n",
    "                end = start + i - 1\n",
    "                dp[start][end] = max(dp[start][end], dp[start][end-1] + nums[start-1] * nums[i] * nums[end+1] + dp[start+1][end])\n",
    "                start += 1\n",
    "        print(dp)\n",
    "        return dp[1][-1]"
   ]
  },
  {
   "cell_type": "code",
   "execution_count": 13,
   "metadata": {},
   "outputs": [],
   "source": [
    "class Solution:\n",
    "    def maxCoins(self, nums) -> int:\n",
    "        if not nums: return 0\n",
    "        nums_len = len(nums)\n",
    "        nums = [1] + nums + [1]\n",
    "        dp = [[0] * (nums_len + 2) for _ in range(nums_len + 2)] # 表示从 i -> j 射破气球所能获得的最高分数\n",
    "        # nums区间的长度\n",
    "        for gap in  range(1, nums_len+1):\n",
    "            start = 1\n",
    "            while start <= nums_len - gap + 1:\n",
    "                end = start + gap - 1\n",
    "                for k in range(start, end+1):\n",
    "                    dp[start][end] = max(dp[start][end], dp[start][k-1] + dp[k+1][end] + nums[start-1] * nums[k] * nums[end+1])\n",
    "                start += 1\n",
    "        return dp[1][nums_len]"
   ]
  },
  {
   "cell_type": "code",
   "execution_count": 14,
   "metadata": {},
   "outputs": [
    {
     "name": "stdout",
     "output_type": "stream",
     "text": [
      "[[0, 0, 0, 0, 0, 0], [0, 3, 30, 159, 167, 0], [0, 0, 15, 135, 159, 0], [0, 0, 0, 40, 48, 0], [0, 0, 0, 0, 40, 0], [0, 0, 0, 0, 0, 0]]\n"
     ]
    },
    {
     "data": {
      "text/plain": [
       "167"
      ]
     },
     "execution_count": 14,
     "metadata": {},
     "output_type": "execute_result"
    }
   ],
   "source": [
    "solution = Solution()\n",
    "solution.maxCoins([3,1,5,8])"
   ]
  },
  {
   "cell_type": "code",
   "execution_count": null,
   "metadata": {},
   "outputs": [],
   "source": []
  }
 ],
 "metadata": {
  "kernelspec": {
   "display_name": "Python 3",
   "language": "python",
   "name": "python3"
  },
  "language_info": {
   "codemirror_mode": {
    "name": "ipython",
    "version": 3
   },
   "file_extension": ".py",
   "mimetype": "text/x-python",
   "name": "python",
   "nbconvert_exporter": "python",
   "pygments_lexer": "ipython3",
   "version": "3.6.2"
  }
 },
 "nbformat": 4,
 "nbformat_minor": 4
}
