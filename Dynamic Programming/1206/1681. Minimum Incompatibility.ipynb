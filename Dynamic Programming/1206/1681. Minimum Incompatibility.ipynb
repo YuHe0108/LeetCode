{
 "cells": [
  {
   "cell_type": "code",
   "execution_count": null,
   "metadata": {},
   "outputs": [],
   "source": []
  },
  {
   "cell_type": "code",
   "execution_count": null,
   "metadata": {},
   "outputs": [],
   "source": []
  },
  {
   "cell_type": "code",
   "execution_count": null,
   "metadata": {},
   "outputs": [],
   "source": []
  },
  {
   "cell_type": "code",
   "execution_count": 26,
   "metadata": {},
   "outputs": [],
   "source": [
    "from collections import Counter\n",
    "\n",
    "class Solution:\n",
    "    def minimumIncompatibility(self, nums, k: int) -> int:\n",
    "        freq = Counter(nums)\n",
    "        if max(freq.values()) > k: \n",
    "            return -1\n",
    "        set_num = sorted(set(nums))\n",
    "        nums.sort()\n",
    "        ans = 0\n",
    "        while k:\n",
    "            for i in range(set_num):\n",
    "                if freq[i] == 0:\n",
    "                    continue\n",
    "                freq[set_num[i]] -= 1\n",
    "                frqe[set_num[i+1]] -= 1 \n",
    "                ans += set_num[i+1]"
   ]
  },
  {
   "cell_type": "code",
   "execution_count": 38,
   "metadata": {},
   "outputs": [],
   "source": [
    "from collections import Counter\n",
    "\n",
    "class Solution:\n",
    "    def minimumIncompatibility(self, nums, k: int) -> int:\n",
    "        def dfs(temp):\n",
    "            nonlocal k, ans\n",
    "            if len(temp) == m:\n",
    "                ans += max(temp) - min(temp)\n",
    "                r\n",
    "                \n",
    "        freq = Counter(nums)\n",
    "        if max(freq.values()) > k: \n",
    "            return -1\n",
    "        n = len(nums)\n",
    "        m = n // k # 每一个数组中应该有多少元素\n",
    "        ans = 0\n",
    "        return dfs([])"
   ]
  },
  {
   "cell_type": "code",
   "execution_count": 49,
   "metadata": {},
   "outputs": [],
   "source": [
    "from itertools import combinations\n",
    "from functools import lru_cache\n",
    "\n",
    "class Solution:\n",
    "    def minimumIncompatibility(self, nums, k: int) -> int:\n",
    "        @lru_cache(None)\n",
    "        def dp(mask):\n",
    "            if mask == (1 << n) - 1:\n",
    "                return 0\n",
    "            ans = float('inf')\n",
    "            remain = [i for i in range(n) if ((mask >> i) & 1) == 0] # 还没有选择\n",
    "            comb = list(combinations(remain, m))\n",
    "            for c in comb:\n",
    "                cur_nums = set([nums[i] for i in c])\n",
    "                if len(cur_nums) < m:\n",
    "                    continue\n",
    "                new_mask = mask\n",
    "                for i in c:\n",
    "                    new_mask |= (1 << i)\n",
    "                ans = min(ans, dp(new_mask) + max(cur_nums) - min(cur_nums))\n",
    "            return ans\n",
    "        \n",
    "        n = len(nums)\n",
    "        m = n // k\n",
    "        ans = dp(0)\n",
    "        return ans if ans != float('inf') else -1"
   ]
  },
  {
   "cell_type": "code",
   "execution_count": 50,
   "metadata": {},
   "outputs": [
    {
     "data": {
      "text/plain": [
       "6"
      ]
     },
     "execution_count": 50,
     "metadata": {},
     "output_type": "execute_result"
    }
   ],
   "source": [
    "solution = Solution()\n",
    "solution.minimumIncompatibility(nums = [6,3,8,1,3,1,2,2], k = 4)"
   ]
  },
  {
   "cell_type": "code",
   "execution_count": null,
   "metadata": {},
   "outputs": [],
   "source": []
  }
 ],
 "metadata": {
  "kernelspec": {
   "display_name": "Python 3",
   "language": "python",
   "name": "python3"
  },
  "language_info": {
   "codemirror_mode": {
    "name": "ipython",
    "version": 3
   },
   "file_extension": ".py",
   "mimetype": "text/x-python",
   "name": "python",
   "nbconvert_exporter": "python",
   "pygments_lexer": "ipython3",
   "version": "3.6.2"
  }
 },
 "nbformat": 4,
 "nbformat_minor": 4
}
