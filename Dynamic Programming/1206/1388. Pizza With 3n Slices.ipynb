{
 "cells": [
  {
   "cell_type": "code",
   "execution_count": null,
   "metadata": {},
   "outputs": [],
   "source": []
  },
  {
   "cell_type": "code",
   "execution_count": null,
   "metadata": {},
   "outputs": [],
   "source": []
  },
  {
   "cell_type": "code",
   "execution_count": null,
   "metadata": {},
   "outputs": [],
   "source": []
  },
  {
   "cell_type": "code",
   "execution_count": 27,
   "metadata": {},
   "outputs": [],
   "source": [
    "# 没有用 nums[i] 所以最大值是 dp[i-1][j]\n",
    "# 如果要用 nums[i], 那么只能从 dp[i-2][?] 中选择，由于 ?=j-1\n",
    "\n",
    "class Solution:\n",
    "    def maxSizeSlices(self, slices):\n",
    "        def helper(nums):\n",
    "            m = len(nums)\n",
    "            dp = [[0] * (1 + k) for _ in range(1 + m)] # dp[n][k] 表示每个人最多只能拿 k 个的时候，最大值是多少\n",
    "            nums = [0] + nums\n",
    "            for i in range(1, m + 1):\n",
    "                for j in range(1, k + 1):\n",
    "                    v = 0 if i - 2 < 0 else dp[i-2][j-1]\n",
    "                    dp[i][j] = max(dp[i][j], dp[i-1][j],  v + nums[i])\n",
    "            return dp[-1][-1]\n",
    "        \n",
    "        n = len(slices)\n",
    "        k = n // 3\n",
    "        return max(helper(slices[1:]), helper(slices[:-1]))"
   ]
  },
  {
   "cell_type": "code",
   "execution_count": 28,
   "metadata": {},
   "outputs": [
    {
     "data": {
      "text/plain": [
       "16"
      ]
     },
     "execution_count": 28,
     "metadata": {},
     "output_type": "execute_result"
    }
   ],
   "source": [
    "solution = Solution()\n",
    "solution.maxSizeSlices([8,9,8,6,1,1])"
   ]
  },
  {
   "cell_type": "code",
   "execution_count": null,
   "metadata": {},
   "outputs": [],
   "source": [
    "[[0, 0, 0], \n",
    " [0, 9, 9], \n",
    " [0, 8, 8], \n",
    " [0, 6, 6], \n",
    " [0, 1, 1], \n",
    " [0, 1, 1], \n",
    " [0, 0, 0]]"
   ]
  }
 ],
 "metadata": {
  "kernelspec": {
   "display_name": "Python 3",
   "language": "python",
   "name": "python3"
  },
  "language_info": {
   "codemirror_mode": {
    "name": "ipython",
    "version": 3
   },
   "file_extension": ".py",
   "mimetype": "text/x-python",
   "name": "python",
   "nbconvert_exporter": "python",
   "pygments_lexer": "ipython3",
   "version": "3.6.2"
  }
 },
 "nbformat": 4,
 "nbformat_minor": 4
}
