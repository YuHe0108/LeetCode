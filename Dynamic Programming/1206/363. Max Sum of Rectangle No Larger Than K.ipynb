{
 "cells": [
  {
   "cell_type": "code",
   "execution_count": null,
   "metadata": {},
   "outputs": [],
   "source": []
  },
  {
   "cell_type": "code",
   "execution_count": null,
   "metadata": {},
   "outputs": [],
   "source": []
  },
  {
   "cell_type": "code",
   "execution_count": 39,
   "metadata": {},
   "outputs": [],
   "source": [
    "import bisect\n",
    "\n",
    "class Solution:\n",
    "    def maxSumSubmatrix(self, matrix, k):\n",
    "        def get_max_sum(arr):\n",
    "            ans = -float('inf')\n",
    "            sorted_presum = [0]\n",
    "            running_sum = 0\n",
    "            \n",
    "            for num in arr:\n",
    "                running_sum += num\n",
    "                target = running_sum - k\n",
    "                idx = bisect.bisect_left(sorted_presum, target)\n",
    "                if idx < len(sorted_presum):\n",
    "                    ans = max(ans, running_sum - sorted_presum[idx])\n",
    "                if ans == k:\n",
    "                    break\n",
    "                bisect.insort(sorted_presum, running_sum)\n",
    "            return ans\n",
    "        \n",
    "        rows, cols = len(matrix), len(matrix[0])\n",
    "        presum = [] # 计算了每一行的前缀和\n",
    "        for i in range(rows):\n",
    "            row_presum = []\n",
    "            for j in range(cols):\n",
    "                if j == 0:\n",
    "                    row_presum.append(matrix[i][j])\n",
    "                else:\n",
    "                    row_presum.append(matrix[i][j] + row_presum[-1])\n",
    "            presum.append(row_presum)\n",
    "        \n",
    "        ans = -float('inf')\n",
    "        for c2 in range(cols):\n",
    "            for c1 in range(c2 + 1):\n",
    "                cur_arr = []\n",
    "                for i in range(rows):\n",
    "                    row_sum = presum[i][c2] - (presum[i][c1-1] if c1 > 0 else 0)\n",
    "                    cur_arr.append(row_sum)\n",
    "                ans = max(ans, get_max_sum(cur_arr))\n",
    "                if ans == k:\n",
    "                    return ans\n",
    "        return ans"
   ]
  },
  {
   "cell_type": "code",
   "execution_count": 40,
   "metadata": {},
   "outputs": [
    {
     "name": "stdout",
     "output_type": "stream",
     "text": [
      "[5, -3, 5]\n",
      "[1, -7, 6]\n",
      "[-4, -4, 1]\n",
      "[-2, -3, 11]\n",
      "[-7, 0, 6]\n",
      "[-3, 4, 5]\n",
      "[2, 2, 7]\n",
      "[-3, 5, 2]\n",
      "[1, 9, 1]\n",
      "[4, 5, -4]\n"
     ]
    },
    {
     "data": {
      "text/plain": [
       "2"
      ]
     },
     "execution_count": 40,
     "metadata": {},
     "output_type": "execute_result"
    }
   ],
   "source": [
    "solution = Solution()\n",
    "solution.maxSumSubmatrix([[5,-4,-3,4],[-3,-4,4,5],[5,1,5,-4]], 3)"
   ]
  },
  {
   "cell_type": "code",
   "execution_count": 97,
   "metadata": {},
   "outputs": [],
   "source": [
    "import bisect\n",
    "\n",
    "class Solution:\n",
    "    def maxSumSubmatrix(self, matrix, K):\n",
    "        def get_maxsum(arr):\n",
    "            ans = -float('inf')\n",
    "            presum = [0]\n",
    "            running_sum = 0\n",
    "            for v in arr:\n",
    "                running_sum += v\n",
    "                # runing_sum - presum[j] <= K, running_sum - K <= presum[j], \n",
    "                # 我们希望在 presum 数组中，找到一个大于等于 running_sum - K 的数字\n",
    "                target = running_sum - K\n",
    "                idx = bisect.bisect_left(presum, target)\n",
    "                if idx < len(presum):\n",
    "                    ans = max(ans, running_sum - presum[idx]) # runing_sum   <= K\n",
    "                bisect.insort(presum, running_sum)\n",
    "            return ans\n",
    "        \n",
    "        rows, cols = len(matrix), len(matrix[0])\n",
    "        res = -float('inf')\n",
    "        if rows > cols: # 行数多,将原始的matrix转置\n",
    "            new_matrix = []\n",
    "            for j in range(cols):\n",
    "                temp = []\n",
    "                for i in range(rows):\n",
    "                    temp.append(matrix[i][j])\n",
    "                new_matrix.append(temp)\n",
    "            return self.maxSumSubmatrix(new_matrix)\n",
    "                \n",
    "        for i in range(rows):\n",
    "            temp = [0] * cols\n",
    "            for j in range(i, rows):\n",
    "                for k in range(cols):\n",
    "                    temp[k] += matrix[j][k]\n",
    "                res = max(res, get_maxsum(temp))\n",
    "        return res"
   ]
  },
  {
   "cell_type": "code",
   "execution_count": 98,
   "metadata": {},
   "outputs": [
    {
     "data": {
      "text/plain": [
       "2"
      ]
     },
     "execution_count": 98,
     "metadata": {},
     "output_type": "execute_result"
    }
   ],
   "source": [
    "solution = Solution()\n",
    "solution.maxSumSubmatrix([[5,-4,-3,4],[-3,-4,4,5],[5,1,5,-4]], 3)"
   ]
  },
  {
   "cell_type": "code",
   "execution_count": null,
   "metadata": {},
   "outputs": [],
   "source": [
    "[[1, 1, 2], \n",
    " [0, -2, 1]]"
   ]
  },
  {
   "cell_type": "code",
   "execution_count": 1,
   "metadata": {},
   "outputs": [],
   "source": [
    "class Solution:\n",
    "    def maxSumSubmatrix(self, matrix, k: int) -> int:\n",
    "        row, col = len(matrix), len(matrix[0])\n",
    "        res = float(\"-inf\")\n",
    "        for left in range(col):\n",
    "            nums = [0] * row\n",
    "            for right in range(left, col):\n",
    "                for i in range(row):\n",
    "                    nums[i] += matrix[i][right]\n",
    "                array = [0]\n",
    "                cum = 0\n",
    "                for num in nums:\n",
    "                    cum += num\n",
    "                    loc = bisect.bisect_left(array, cum-k)\n",
    "                    if loc < len(array):\n",
    "                        res = max(res, cum - array[loc])  # \n",
    "                    bisect.insort(array, cum)\n",
    "        return res"
   ]
  },
  {
   "cell_type": "code",
   "execution_count": 11,
   "metadata": {},
   "outputs": [],
   "source": [
    "import bisect"
   ]
  },
  {
   "cell_type": "code",
   "execution_count": 81,
   "metadata": {},
   "outputs": [],
   "source": [
    "data = [-4, -3, 0, 5]"
   ]
  },
  {
   "cell_type": "code",
   "execution_count": 101,
   "metadata": {},
   "outputs": [
    {
     "data": {
      "text/plain": [
       "2"
      ]
     },
     "execution_count": 101,
     "metadata": {},
     "output_type": "execute_result"
    }
   ],
   "source": [
    "bisect.bisect_left(data, 0)"
   ]
  },
  {
   "cell_type": "code",
   "execution_count": null,
   "metadata": {},
   "outputs": [],
   "source": []
  },
  {
   "cell_type": "code",
   "execution_count": null,
   "metadata": {},
   "outputs": [],
   "source": [
    "bisect_bisect_left(data, v) # 从data中找到第一个大于等于v的值"
   ]
  }
 ],
 "metadata": {
  "kernelspec": {
   "display_name": "Python 3",
   "language": "python",
   "name": "python3"
  },
  "language_info": {
   "codemirror_mode": {
    "name": "ipython",
    "version": 3
   },
   "file_extension": ".py",
   "mimetype": "text/x-python",
   "name": "python",
   "nbconvert_exporter": "python",
   "pygments_lexer": "ipython3",
   "version": "3.6.2"
  }
 },
 "nbformat": 4,
 "nbformat_minor": 4
}
