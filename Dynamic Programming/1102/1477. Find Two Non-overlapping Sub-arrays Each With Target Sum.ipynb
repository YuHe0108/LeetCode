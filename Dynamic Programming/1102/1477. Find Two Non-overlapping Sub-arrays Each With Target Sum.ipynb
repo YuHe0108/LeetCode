{
 "cells": [
  {
   "cell_type": "raw",
   "metadata": {},
   "source": [
    "说明：\n",
    "    sub_array 需要是连续的子数组。\n",
    "    给你一个整数数组 arr 和一个整数值 target 。\n",
    "\n",
    "    请你在 arr 中找 两个互不重叠的子数组 且它们的和都等于 target 。\n",
    "    可能会有多种方案，请你返回满足要求的两个子数组长度和的 最小值 。\n",
    "\n",
    "    请返回满足要求的最小长度和，如果无法找到这样的两个子数组，请返回 -1 。\n",
    "\n",
    "示例 1：\n",
    "    输入：arr = [3,2,2,4,3], target = 3\n",
    "    输出：2\n",
    "    解释：只有两个子数组和为 3 （[3] 和 [3]）。它们的长度和为 2 。\n",
    "\n",
    "示例 2：\n",
    "    输入：arr = [7,3,4,7], target = 7\n",
    "    输出：2\n",
    "    解释：尽管我们有 3 个互不重叠的子数组和为 7 （[7], [3,4] 和 [7]），但我们会选择第一个和第三个子数组，因为它们的长度和 2 是最小值。\n",
    "\n",
    "示例 3：\n",
    "    输入：arr = [4,3,2,6,2,3,4], target = 6\n",
    "    输出：-1\n",
    "    解释：我们只有一个和为 6 的子数组。\n",
    "\n",
    "示例 4：\n",
    "    输入：arr = [5,5,4,4,5], target = 3\n",
    "    输出：-1\n",
    "    解释：我们无法找到和为 3 的子数组。\n",
    "\n",
    "示例 5：\n",
    "    输入：arr = [3,1,1,1,5,1,2,1], target = 3\n",
    "    输出：3\n",
    "    解释：注意子数组 [1,2] 和 [2,1] 不能成为一个方案因为它们重叠了。\n",
    "\n",
    "提示：\n",
    "    1、1 <= arr.length <= 10^5\n",
    "    2、1 <= arr[i] <= 1000\n",
    "    3、1 <= target <= 10^8"
   ]
  },
  {
   "cell_type": "code",
   "execution_count": 61,
   "metadata": {},
   "outputs": [],
   "source": [
    "class Solution:\n",
    "    def minSumOfLengths(self, arr, target: int) -> int:\n",
    "        pre_sum = [arr[0]]\n",
    "        for i in range(1, len(arr)):\n",
    "            pre_sum.append(pre_sum[-1] + arr[i])\n",
    "        \n",
    "        res = []\n",
    "        for i in range(len(arr)):\n",
    "            if pre_sum[i] == target:\n",
    "                res.append((0, i))\n",
    "            for j in range(i, len(arr)):\n",
    "                if pre_sum[j] - pre_sum[i] == target:\n",
    "                    if not res or i > res[-1][-1]:\n",
    "                        res.append((i+1, j))\n",
    "                    elif j - i + 1 < res[-1][-1] - res[-1][0]:\n",
    "                        res.pop()\n",
    "                        res.append((i+1, j))\n",
    "        print(res)\n",
    "        if len(res) < 2:return -1\n",
    "        res = sorted(res, key=lambda x: x[1]-x[0]+1)\n",
    "        ans = 0\n",
    "        for i in range(2):\n",
    "            ans += res[i][1] - res[i][0]\n",
    "        return ans"
   ]
  },
  {
   "cell_type": "code",
   "execution_count": 1,
   "metadata": {},
   "outputs": [],
   "source": [
    "class Solution:\n",
    "    def minSumOfLengths(self, arr, target: int) -> int:\n",
    "        n = len(arr)\n",
    "        left = 0\n",
    "        cur_sum = 0\n",
    "        ans = float('inf')\n",
    "        shortest = float('inf') # 始终记录array中，sub_array == target的最短距离是多少\n",
    "        dp = [float('inf')] * n # 保存了arr中，sub_array == target 的最短长度\n",
    "        for right, num in enumerate(arr):\n",
    "            cur_sum += num\n",
    "            while cur_sum > target:\n",
    "                cur_sum -= arr[left]\n",
    "                left += 1\n",
    "            \n",
    "            if cur_sum == target:\n",
    "                if left > 0 and dp[left-1] != float('inf'):\n",
    "                    ans = min(ans, dp[left - 1] + right - left + 1) # 记录最终的答案\n",
    "                shortest = min(shortest, right - left + 1) # \n",
    "                \n",
    "            dp[right] = shortest\n",
    "        print(dp)\n",
    "        return ans if ans != float('inf') else -1"
   ]
  },
  {
   "cell_type": "code",
   "execution_count": 2,
   "metadata": {},
   "outputs": [
    {
     "name": "stdout",
     "output_type": "stream",
     "text": [
      "[1, 1, 1, 1, 1, 1, 1, 1]\n"
     ]
    },
    {
     "data": {
      "text/plain": [
       "3"
      ]
     },
     "execution_count": 2,
     "metadata": {},
     "output_type": "execute_result"
    }
   ],
   "source": [
    "solution = Solution()\n",
    "solution.minSumOfLengths(arr = [3,1,1,1,5,1,2,1], target = 3)"
   ]
  },
  {
   "cell_type": "code",
   "execution_count": null,
   "metadata": {},
   "outputs": [],
   "source": []
  },
  {
   "cell_type": "code",
   "execution_count": null,
   "metadata": {},
   "outputs": [],
   "source": []
  }
 ],
 "metadata": {
  "kernelspec": {
   "display_name": "Python 3",
   "language": "python",
   "name": "python3"
  },
  "language_info": {
   "codemirror_mode": {
    "name": "ipython",
    "version": 3
   },
   "file_extension": ".py",
   "mimetype": "text/x-python",
   "name": "python",
   "nbconvert_exporter": "python",
   "pygments_lexer": "ipython3",
   "version": "3.6.2"
  }
 },
 "nbformat": 4,
 "nbformat_minor": 4
}
