{
 "cells": [
  {
   "cell_type": "raw",
   "metadata": {},
   "source": [
    "说明：\n",
    "    给你一个整数 n，请返回长度为 n 、仅由元音 (a, e, i, o, u) 组成且按 字典序排列 的字符串数量。\n",
    "\n",
    "    字符串 s 按 字典序排列 需要满足：对于所有有效的 i，s[i] 在字母表中的位置总是与 s[i+1] 相同或在 s[i+1] 之前。\n",
    "\n",
    "示例 1：\n",
    "    输入：n = 1\n",
    "    输出：5\n",
    "    解释：仅由元音组成的 5 个字典序字符串为 [\"a\",\"e\",\"i\",\"o\",\"u\"]\n",
    "\n",
    "示例 2：\n",
    "    输入：n = 2\n",
    "    输出：15\n",
    "    解释：\n",
    "        仅由元音组成的 15 个字典序字符串为\n",
    "                [\"aa\",\"ae\",\"ai\",\"ao\",\"au\",\n",
    "                \"ee\",\"ei\",\"eo\",\"eu\",\n",
    "                \"ii\",\"io\",\"iu\",\n",
    "                \"oo\",\"ou\",\n",
    "                \"uu\"]\n",
    "        注意，\"ea\" 不是符合题意的字符串，因为 'e' 在字母表中的位置比 'a' 靠后\n",
    "\n",
    "示例 3：\n",
    "    输入：n = 33\n",
    "    输出：66045\n",
    "\n",
    "提示：\n",
    "    1、1 <= n <= 50 "
   ]
  },
  {
   "cell_type": "code",
   "execution_count": 13,
   "metadata": {},
   "outputs": [],
   "source": [
    "class Solution:\n",
    "    def countVowelStrings(self, n: int) -> int:\n",
    "        vowels = [0, 1, 2, 3, 4]\n",
    "        dp = [1] * 5\n",
    "        if n == 1: \n",
    "            return sum(dp)\n",
    "        idx = 1\n",
    "        while idx < n:\n",
    "            pass\n",
    "            idx += 1\n",
    "        return sum(dp)"
   ]
  },
  {
   "cell_type": "code",
   "execution_count": 51,
   "metadata": {},
   "outputs": [],
   "source": [
    "# 超时\n",
    "class Solution:\n",
    "    def countVowelStrings(self, n: int) -> int:\n",
    "        arr = [0, 1, 2, 3, 4]\n",
    "        self.res = 0\n",
    "        self.dfs(arr, n, [])\n",
    "        return self.res\n",
    "    \n",
    "    def dfs(self, arr, n, path):\n",
    "        if n == 0:\n",
    "            self.res += 1\n",
    "            return\n",
    "        for i in range(len(arr)):\n",
    "            if not path or arr[i] >= path[-1]:\n",
    "                path.append(arr[i])\n",
    "                self.dfs(arr[max(i-1, 0):], n - 1, path)\n",
    "                path.pop()\n"
   ]
  },
  {
   "cell_type": "code",
   "execution_count": 104,
   "metadata": {},
   "outputs": [],
   "source": [
    "# 超时\n",
    "class Solution:\n",
    "    def countVowelStrings(self, n: int) -> int:\n",
    "        dp = [0] * (n * 5)\n",
    "        for i in range(1, n):\n",
    "            for j in range(5):\n",
    "                idx = i * 5 + j\n",
    "                end = i * 5 \n",
    "                for k in range(idx-5, end):\n",
    "                    dp[idx] += dp[k]\n",
    "                dp[idx] -= 1\n",
    "        return sum(dp[-5:])"
   ]
  },
  {
   "cell_type": "code",
   "execution_count": 107,
   "metadata": {},
   "outputs": [
    {
     "data": {
      "text/plain": [
       "316251"
      ]
     },
     "execution_count": 107,
     "metadata": {},
     "output_type": "execute_result"
    }
   ],
   "source": [
    "solution = Solution()\n",
    "solution.countVowelStrings(50)"
   ]
  },
  {
   "cell_type": "code",
   "execution_count": 66,
   "metadata": {},
   "outputs": [],
   "source": [
    "# 3 35\n",
    "# 4 70\n",
    "# 5 126"
   ]
  },
  {
   "cell_type": "code",
   "execution_count": null,
   "metadata": {},
   "outputs": [],
   "source": []
  }
 ],
 "metadata": {
  "kernelspec": {
   "display_name": "Python 3",
   "language": "python",
   "name": "python3"
  },
  "language_info": {
   "codemirror_mode": {
    "name": "ipython",
    "version": 3
   },
   "file_extension": ".py",
   "mimetype": "text/x-python",
   "name": "python",
   "nbconvert_exporter": "python",
   "pygments_lexer": "ipython3",
   "version": "3.6.2"
  }
 },
 "nbformat": 4,
 "nbformat_minor": 4
}
