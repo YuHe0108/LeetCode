{
 "cells": [
  {
   "cell_type": "raw",
   "metadata": {},
   "source": [
    "说明：\n",
    "    给你一维空间的 n 个点，其中第 i 个点（编号从 0 到 n-1）位于 x = i 处，请你找到 恰好 k 个不重叠 线段且每个线段至少覆盖两个点的方案数。\n",
    "    线段的两个端点必须都是 整数坐标 。\n",
    "    这 k 个线段不需要全部覆盖全部 n 个点，且它们的端点 可以 重合。\n",
    "\n",
    "    请你返回 k 个不重叠线段的方案数。\n",
    "    由于答案可能很大，请将结果对 10^9 + 7 取余 后返回。\n",
    "\n",
    "示例 2：\n",
    "    输入：n = 3, k = 1\n",
    "    输出：3\n",
    "    解释：总共有 3 种不同的方案 {(0,1)}, {(0,2)}, {(1,2)} 。\n",
    "\n",
    "示例 3：\n",
    "    输入：n = 30, k = 7\n",
    "    输出：796297179\n",
    "    解释：画 7 条线段的总方案数为 3796297200 种。将这个数对 10^9 + 7 取余得到 796297179 。\n",
    "\n",
    "示例 4：\n",
    "    输入：n = 5, k = 3\n",
    "    输出：7\n",
    "\n",
    "示例 5：\n",
    "    输入：n = 3, k = 2\n",
    "    输出：1\n",
    "\n",
    "提示：\n",
    "    1、2 <= n <= 1000\n",
    "    2、1 <= k <= n-1"
   ]
  },
  {
   "cell_type": "markdown",
   "metadata": {},
   "source": [
    "<img src='https://assets.leetcode.com/uploads/2020/09/07/ex1.png'>"
   ]
  },
  {
   "cell_type": "raw",
   "metadata": {},
   "source": [
    "示例 1：\n",
    "    输入：n = 4, k = 2\n",
    "    输出：5\n",
    "    解释：\n",
    "        如图所示，两个线段分别用红色和蓝色标出。\n",
    "        上图展示了 5 种不同的方案 {(0,2),(2,3)}，{(0,1),(1,3)}，{(0,1),(2,3)}，{(1,2),(2,3)}，{(0,1),(1,2)} 。"
   ]
  },
  {
   "cell_type": "code",
   "execution_count": 5,
   "metadata": {},
   "outputs": [],
   "source": [
    "class Solution:\n",
    "    def numberOfSets(self, n: int, k: int) -> int:\n",
    "        M = pow(10, 9) + 7\n",
    "        def dp(start, remain):\n",
    "            nonlocal memo\n",
    "            if (start, remain) in memo:\n",
    "                return memo[(start, remain)]\n",
    "            if remain == 0:\n",
    "                return 1\n",
    "            if start == n:\n",
    "                return 0\n",
    "            \n",
    "            ans = 0\n",
    "            ans += dp(start + 1, remain)\n",
    "            ans += get_sum(start+1, remain-1)\n",
    "            # for end in range(start+1, n):\n",
    "            #    ans += dp(end, remain - 1)\n",
    "            memo[(start, remain)] = ans\n",
    "            return ans\n",
    "        \n",
    "        def get_sum(end, remain):\n",
    "            if end == n:\n",
    "                return 0\n",
    "            if (end, remain) in pre_sum:\n",
    "                return pre_sum[(end, remain)]\n",
    "            ans = 0\n",
    "            ans = dp(end, remain) + get_sum(end + 1, remain)\n",
    "            pre_sum[(end, remain)] = ans \n",
    "            return ans\n",
    "        \n",
    "        memo = {}\n",
    "        pre_sum = {}\n",
    "        return dp(0, k) % M"
   ]
  },
  {
   "cell_type": "code",
   "execution_count": 6,
   "metadata": {},
   "outputs": [
    {
     "data": {
      "text/plain": [
       "796297179"
      ]
     },
     "execution_count": 6,
     "metadata": {},
     "output_type": "execute_result"
    }
   ],
   "source": [
    "solution = Solution()\n",
    "solution.numberOfSets(30, 7)"
   ]
  },
  {
   "cell_type": "code",
   "execution_count": null,
   "metadata": {},
   "outputs": [],
   "source": []
  }
 ],
 "metadata": {
  "kernelspec": {
   "display_name": "Python 3",
   "language": "python",
   "name": "python3"
  },
  "language_info": {
   "codemirror_mode": {
    "name": "ipython",
    "version": 3
   },
   "file_extension": ".py",
   "mimetype": "text/x-python",
   "name": "python",
   "nbconvert_exporter": "python",
   "pygments_lexer": "ipython3",
   "version": "3.6.2"
  }
 },
 "nbformat": 4,
 "nbformat_minor": 4
}
