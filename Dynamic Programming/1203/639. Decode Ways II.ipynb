{
 "cells": [
  {
   "cell_type": "code",
   "execution_count": null,
   "metadata": {},
   "outputs": [],
   "source": []
  },
  {
   "cell_type": "code",
   "execution_count": null,
   "metadata": {},
   "outputs": [],
   "source": []
  },
  {
   "cell_type": "code",
   "execution_count": null,
   "metadata": {},
   "outputs": [],
   "source": []
  },
  {
   "cell_type": "code",
   "execution_count": null,
   "metadata": {},
   "outputs": [],
   "source": []
  },
  {
   "cell_type": "code",
   "execution_count": 2,
   "metadata": {},
   "outputs": [],
   "source": [
    "class Solution:\n",
    "    def numDecodings(self, s: str) -> int:\n",
    "        n = len(s)\n",
    "        dp = [0] * (1 + n)\n",
    "        dp[0] = 1\n",
    "        s = '#' + s\n",
    "        if s[1] == '0': \n",
    "            dp[1] = 0\n",
    "        elif s[1] == '*': \n",
    "            dp[1] = 9\n",
    "        else: \n",
    "            dp[1] = 1\n",
    "        \n",
    "        for i in range(2, 1 + n):\n",
    "            # 无论 s[i] 是数字还是 '*' 都可以分为单位译码，或者是双位译码\n",
    "            if s[i].isdigit():\n",
    "                # 如果是数字，分别进行单位译码和双位译码\n",
    "                if s[i] != '0':\n",
    "                    dp[i] += dp[i-1] # 如果当前这位大于 6， 那么只能进行单位译码\n",
    "                if s[i-1].isdigit():\n",
    "                    num = s[i-1] + s[i]\n",
    "                    if '10' <= num <= '26':\n",
    "                        dp[i] += d[i-2]\n",
    "                else:\n",
    "                    if s[i] <= '6':\n",
    "                        dp[i] += dp[i-2] * 2\n",
    "                    else:\n",
    "                        dp[i] += dp[i-1] \n",
    "            else:\n",
    "                dp[i] += dp[i-1] * 9 # 如果是 '*'，单位译码\n",
    "                if s[i-1] == '*':\n",
    "                    dp[i] += dp[i-2] * 15\n",
    "                elif s[i-1] == '1':\n",
    "                    dp[i] += dp[i-2] * 9\n",
    "                elif s[i-1] == '2':\n",
    "                    dp[i] += dp[i-2] * 6\n",
    "        mod = pow(10, 9) + 7\n",
    "        return dp[-1] % mod        "
   ]
  },
  {
   "cell_type": "code",
   "execution_count": 6,
   "metadata": {},
   "outputs": [],
   "source": [
    "class Solution:\n",
    "    def numDecodings(self, s: str) -> int:\n",
    "        n = len(s)\n",
    "        dp = [0] * (1 + n)\n",
    "        dp[0] = 1\n",
    "        s = '#' + s\n",
    "        if s[1] == '0': \n",
    "            dp[1] = 0\n",
    "        elif s[1] == '*': \n",
    "            dp[1] = 9\n",
    "        else: \n",
    "            dp[1] = 1\n",
    "        \n",
    "        for i in range(2, 1 + n):\n",
    "            # 无论 s[i] 是数字还是 '*' 都可以分为单位译码，或者是双位译码\n",
    "            if s[i].isdigit():\n",
    "                # 如果是数字，分别进行单位译码和双位译码\n",
    "                if s[i] == '0':\n",
    "                    if s[i-1] == '1' or s[i-1] == '2':\n",
    "                        dp[i] += dp[i-2]\n",
    "                    elif s[i-1] == '*':\n",
    "                        dp[i] += dp[i-2] * 2\n",
    "                else:\n",
    "                    dp[i] += dp[i-1]\n",
    "                    if s[i] <= '6':\n",
    "                        if s[i-1] == '*': # '*' == 1 or 2\n",
    "                            dp[i] += dp[i-2] * 2\n",
    "                        else:\n",
    "                            if s[i-1] == '1' or s[i-1] == '2': # 可以双位译码\n",
    "                                dp[i] += dp[i-2]\n",
    "                    else:\n",
    "                        if s[i-1] == '*' or s[i-1] == '1': # '*' == 1 \n",
    "                            dp[i] += dp[i-2]\n",
    "            else:\n",
    "                dp[i] += dp[i-1] * 9 # 如果是 '*'，单位译码\n",
    "                if s[i-1] == '*':\n",
    "                    dp[i] += dp[i-2] * 15\n",
    "                if s[i-1] == '1':\n",
    "                    dp[i] += dp[i-2] * 9\n",
    "                elif s[i-1] == '2':\n",
    "                    dp[i] += dp[i-2] * 6\n",
    "        mod = pow(10, 9) + 7\n",
    "        return dp[-1] % mod"
   ]
  },
  {
   "cell_type": "code",
   "execution_count": 7,
   "metadata": {},
   "outputs": [
    {
     "data": {
      "text/plain": [
       "285"
      ]
     },
     "execution_count": 7,
     "metadata": {},
     "output_type": "execute_result"
    }
   ],
   "source": [
    "solution = Solution()\n",
    "solution.numDecodings(\"1*72*\")"
   ]
  },
  {
   "cell_type": "code",
   "execution_count": null,
   "metadata": {},
   "outputs": [],
   "source": []
  }
 ],
 "metadata": {
  "kernelspec": {
   "display_name": "Python 3",
   "language": "python",
   "name": "python3"
  },
  "language_info": {
   "codemirror_mode": {
    "name": "ipython",
    "version": 3
   },
   "file_extension": ".py",
   "mimetype": "text/x-python",
   "name": "python",
   "nbconvert_exporter": "python",
   "pygments_lexer": "ipython3",
   "version": "3.6.2"
  }
 },
 "nbformat": 4,
 "nbformat_minor": 4
}
