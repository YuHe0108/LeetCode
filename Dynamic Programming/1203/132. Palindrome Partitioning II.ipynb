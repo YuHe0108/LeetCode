{
 "cells": [
  {
   "cell_type": "code",
   "execution_count": null,
   "metadata": {},
   "outputs": [],
   "source": []
  },
  {
   "cell_type": "code",
   "execution_count": null,
   "metadata": {},
   "outputs": [],
   "source": []
  },
  {
   "cell_type": "code",
   "execution_count": null,
   "metadata": {},
   "outputs": [],
   "source": []
  },
  {
   "cell_type": "code",
   "execution_count": 36,
   "metadata": {},
   "outputs": [],
   "source": [
    "class Solution:\n",
    "    def minCut(self, s: str) -> int:\n",
    "        n = len(s)\n",
    "        dp = [x for x in range(n + 1)]\n",
    "        dp[1] = 0\n",
    "        s = '@' + s\n",
    "        for i in range(2, n+1):\n",
    "            for j in range(1, i+1):\n",
    "                if s[j:i+1] == s[j:i+1][::-1]:\n",
    "                    if j == 1:\n",
    "                        dp[i] = 1\n",
    "                    else:\n",
    "                        dp[i] = min(dp[i], dp[j-1] + 1)\n",
    "        return dp[-1] - 1"
   ]
  },
  {
   "cell_type": "code",
   "execution_count": 43,
   "metadata": {},
   "outputs": [],
   "source": [
    "class Solution:\n",
    "    def minCut(self, s: str) -> int:\n",
    "        n = len(s)\n",
    "        ispar = [[False] * n for _ in range(n)]\n",
    "        for l in range(1, n+1):\n",
    "            for i in range(n - l + 1):\n",
    "                j = i + l - 1\n",
    "                if s[i] == s[j]:\n",
    "                    if i + 1 >= j - 1:\n",
    "                        ispar[i][j] = True\n",
    "                    else:\n",
    "                        ispar[i][j] = ispar[i+1][j-1]\n",
    "        \n",
    "        dp = [float('inf')] * n\n",
    "        dp[0] = 1\n",
    "        for i in range(1, n):\n",
    "            for j in range(i+1):\n",
    "                if ispar[j][i]:\n",
    "                    if j == 0:\n",
    "                        dp[i] = 1\n",
    "                    else:\n",
    "                        dp[i] = min(dp[i], dp[j-1] + 1)\n",
    "        return dp[-1] - 1"
   ]
  },
  {
   "cell_type": "code",
   "execution_count": 44,
   "metadata": {},
   "outputs": [
    {
     "data": {
      "text/plain": [
       "1"
      ]
     },
     "execution_count": 44,
     "metadata": {},
     "output_type": "execute_result"
    }
   ],
   "source": [
    "solution = Solution()\n",
    "solution.minCut('aab')"
   ]
  },
  {
   "cell_type": "code",
   "execution_count": 49,
   "metadata": {},
   "outputs": [
    {
     "name": "stdout",
     "output_type": "stream",
     "text": [
      "0 0 a\n",
      "1 1 b\n",
      "2 2 c\n",
      "3 3 d\n",
      "4 4 e\n",
      "5 5 f\n",
      "6 6 t\n",
      "0 1 ab\n",
      "1 2 bc\n",
      "2 3 cd\n",
      "3 4 de\n",
      "4 5 ef\n",
      "5 6 ft\n",
      "0 2 abc\n",
      "1 3 bcd\n",
      "2 4 cde\n",
      "3 5 def\n",
      "4 6 eft\n",
      "0 3 abcd\n",
      "1 4 bcde\n",
      "2 5 cdef\n",
      "3 6 deft\n",
      "0 4 abcde\n",
      "1 5 bcdef\n",
      "2 6 cdeft\n",
      "0 5 abcdef\n",
      "1 6 bcdeft\n",
      "0 6 abcdeft\n"
     ]
    }
   ],
   "source": [
    "s = 'abcdeft'\n",
    "n = len(s)\n",
    "for l in range(1, n + 1):\n",
    "    for i in range(n - l + 1):\n",
    "        j = i + l - 1\n",
    "        print(i, j, s[i:j+1])"
   ]
  },
  {
   "cell_type": "code",
   "execution_count": null,
   "metadata": {},
   "outputs": [],
   "source": []
  },
  {
   "cell_type": "code",
   "execution_count": null,
   "metadata": {},
   "outputs": [],
   "source": []
  }
 ],
 "metadata": {
  "kernelspec": {
   "display_name": "Python 3",
   "language": "python",
   "name": "python3"
  },
  "language_info": {
   "codemirror_mode": {
    "name": "ipython",
    "version": 3
   },
   "file_extension": ".py",
   "mimetype": "text/x-python",
   "name": "python",
   "nbconvert_exporter": "python",
   "pygments_lexer": "ipython3",
   "version": "3.6.2"
  }
 },
 "nbformat": 4,
 "nbformat_minor": 4
}
