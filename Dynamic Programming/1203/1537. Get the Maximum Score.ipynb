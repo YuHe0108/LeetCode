{
 "cells": [
  {
   "cell_type": "code",
   "execution_count": null,
   "metadata": {},
   "outputs": [],
   "source": []
  },
  {
   "cell_type": "code",
   "execution_count": null,
   "metadata": {},
   "outputs": [],
   "source": []
  },
  {
   "cell_type": "code",
   "execution_count": null,
   "metadata": {},
   "outputs": [],
   "source": []
  },
  {
   "cell_type": "raw",
   "metadata": {},
   "source": [
    "提示：\n",
    "    1 <= nums1.length <= 10^5\n",
    "    1 <= nums2.length <= 10^5\n",
    "    1 <= nums1[i], nums2[i] <= 10^7\n",
    "    nums1 和 nums2 都是严格递增的数组。"
   ]
  },
  {
   "cell_type": "code",
   "execution_count": 90,
   "metadata": {},
   "outputs": [],
   "source": [
    "from collections import defaultdict\n",
    "\n",
    "class Solution:\n",
    "    def maxSum(self, nums1, nums2):\n",
    "        mod = pow(10, 9) + 7\n",
    "        n1, n2 = len(nums1), len(nums2)\n",
    "        \n",
    "        n2idx_1, n2idx_2 = {}, {}\n",
    "        for i, n in enumerate(nums1):\n",
    "            n2idx_1[n] = i\n",
    "        for i, n in enumerate(nums2):\n",
    "            n2idx_2[n] = i\n",
    "        \n",
    "        com = dict()\n",
    "        for n in set(nums1) & set(nums2):\n",
    "            com[n] = (n2idx_1[n] + 1, n2idx_2[n] + 1)\n",
    "        com = sorted(com.items(), key = lambda x: x[0])\n",
    "        com.append(('E', (n1, n2)))\n",
    "        \n",
    "        presum1, presum2 = [0], [0]\n",
    "        for i in range(n1):\n",
    "            presum1.append(presum1[-1] + nums1[i])\n",
    "        for i in range(n2):\n",
    "            presum2.append(presum2[-1] + nums2[i])\n",
    "        nums1, nums2 = [0] + nums1 + ['E'], [0] + nums2 + ['E']\n",
    "        \n",
    "        res = 0\n",
    "        pre = 0 # 前一个 相同点在哪里\n",
    "        for n, (idx_1, idx_2) in com:\n",
    "            if pre == 0:\n",
    "                val_1 = presum1[idx_1] - presum1[0]\n",
    "                val_2 = presum2[idx_2] - presum2[0]\n",
    "            else:\n",
    "                val_1 = presum1[idx_1] - presum1[n2idx_1[pre]] - pre\n",
    "                val_2 = presum2[idx_2] - presum2[n2idx_2[pre]] - pre\n",
    "            pre = n\n",
    "            res += max(val_1, val_2)\n",
    "        return res % mod"
   ]
  },
  {
   "cell_type": "code",
   "execution_count": 91,
   "metadata": {},
   "outputs": [
    {
     "data": {
      "text/plain": [
       "46"
      ]
     },
     "execution_count": 91,
     "metadata": {},
     "output_type": "execute_result"
    }
   ],
   "source": [
    "solution = Solution()\n",
    "solution.maxSum(nums1 = [1,4,5,8,9,11,19], nums2 = [2,3,4,11,12])"
   ]
  },
  {
   "cell_type": "code",
   "execution_count": null,
   "metadata": {},
   "outputs": [],
   "source": []
  }
 ],
 "metadata": {
  "kernelspec": {
   "display_name": "Python 3",
   "language": "python",
   "name": "python3"
  },
  "language_info": {
   "codemirror_mode": {
    "name": "ipython",
    "version": 3
   },
   "file_extension": ".py",
   "mimetype": "text/x-python",
   "name": "python",
   "nbconvert_exporter": "python",
   "pygments_lexer": "ipython3",
   "version": "3.6.2"
  }
 },
 "nbformat": 4,
 "nbformat_minor": 4
}
