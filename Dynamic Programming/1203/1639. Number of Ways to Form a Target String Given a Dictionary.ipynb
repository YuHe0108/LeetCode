{
 "cells": [
  {
   "cell_type": "code",
   "execution_count": null,
   "metadata": {},
   "outputs": [],
   "source": []
  },
  {
   "cell_type": "code",
   "execution_count": null,
   "metadata": {},
   "outputs": [],
   "source": []
  },
  {
   "cell_type": "code",
   "execution_count": null,
   "metadata": {},
   "outputs": [],
   "source": []
  },
  {
   "cell_type": "code",
   "execution_count": 11,
   "metadata": {},
   "outputs": [],
   "source": [
    "from collections import Counter\n",
    "\n",
    "class Solution:\n",
    "    def numWays(self, words, target: str) -> int:\n",
    "        mod = pow(10, 9) + 7 \n",
    "        freq = []\n",
    "        m, n = len(words), len(words[0])\n",
    "        for i in range(n):\n",
    "            sub_s = ''\n",
    "            for j in range(m):\n",
    "                sub_s += words[j][i]\n",
    "            freq.append(Counter(sub_s))\n",
    "        t = len(target)\n",
    "        target = \"#\" + target\n",
    "        freq = [0] + freq\n",
    "        dp = [[0] * (n + 1) for _ in range(t + 1)]\n",
    "        for i in range(n): # 使用 n 个字符构成 target 的 0 个字母，有一种\n",
    "            dp[0][i] = 1\n",
    "        for i in range(1, t + 1):\n",
    "            s = target[i]\n",
    "            for j in range(1, n + 1):\n",
    "                # 是否使用 freq[j] 中的元素构成 target[i] 这个字符\n",
    "                # 不使用 freq[j] 中的第j个元素构成 s[i], 也就是使用 j-1 个元素构成 target[:i], 那么就有dp[i][j] = dp[i][j-1] \n",
    "                dp[i][j] = dp[i][j-1] \n",
    "                if s in freq[j]:\n",
    "                    dp[i][j] += dp[i-1][j-1] * freq[j][s]\n",
    "        return dp[-1][-1] % mod"
   ]
  },
  {
   "cell_type": "code",
   "execution_count": 13,
   "metadata": {},
   "outputs": [
    {
     "data": {
      "text/plain": [
       "1"
      ]
     },
     "execution_count": 13,
     "metadata": {},
     "output_type": "execute_result"
    }
   ],
   "source": [
    "solution = Solution()\n",
    "solution.numWays(words = [\"aab\",\"bdd\"], target = \"bab\")"
   ]
  },
  {
   "cell_type": "code",
   "execution_count": 10,
   "metadata": {},
   "outputs": [
    {
     "data": {
      "text/plain": [
       "[[1, 0, 0, 0, 0], [0, 1, 1, 1, 1], [0, 0, 1, 2, 3], [0, 0, 0, 0, 4]]"
      ]
     },
     "execution_count": 10,
     "metadata": {},
     "output_type": "execute_result"
    }
   ],
   "source": [
    "[[1, 0, 0, 0, 0], \n",
    " [0, 1, 1, 1, 1], \n",
    " [0, 0, 1, 2, 3], \n",
    " [0, 0, 0, 0, 4]]"
   ]
  },
  {
   "cell_type": "code",
   "execution_count": null,
   "metadata": {},
   "outputs": [],
   "source": []
  },
  {
   "cell_type": "raw",
   "metadata": {},
   "source": [
    "首先，第一种情况是，target[0:i] 的选择根本不考虑词库里的第 k 个字母，完全靠第 0~k-1 个字母来构造，那么就有dp[i][k] = dp[i][k-1]。\n",
    "\n",
    "第二种情况是，如果词库里有一些单词的第 k 个字母与 target[i] 相同，那么我们可以考虑 target[i] 用它们来构造，因此有额外的方案dp[i][k] += dp[i-1][k-1]*count[k]，其中 count[k] 表示词库里有多少单词的第 k 个字母与 target[i] 相同。\n",
    "\n",
    "最终的答案就是 dp[n][m]. 其中 n 是 target 的长度，m 是词库里最长的单词长度。\n",
    "\n",
    "ref: https://github.com/wisdompeak/LeetCode/tree/master/Dynamic_Programming/1639.Number-of-Ways-to-Form-a-Target-String-Given-a-Dictionary#1639number-of-ways-to-form-a-target-string-given-a-dictionary"
   ]
  },
  {
   "cell_type": "code",
   "execution_count": null,
   "metadata": {},
   "outputs": [],
   "source": []
  }
 ],
 "metadata": {
  "kernelspec": {
   "display_name": "Python 3",
   "language": "python",
   "name": "python3"
  },
  "language_info": {
   "codemirror_mode": {
    "name": "ipython",
    "version": 3
   },
   "file_extension": ".py",
   "mimetype": "text/x-python",
   "name": "python",
   "nbconvert_exporter": "python",
   "pygments_lexer": "ipython3",
   "version": "3.6.2"
  }
 },
 "nbformat": 4,
 "nbformat_minor": 4
}
