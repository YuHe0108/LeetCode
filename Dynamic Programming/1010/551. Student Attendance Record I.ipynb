{
 "cells": [
  {
   "cell_type": "raw",
   "metadata": {},
   "source": [
    "说明：\n",
    "    系统会为您提供一个代表学生出勤记录的字符串。\n",
    "    该记录仅包含以下三个字符：\n",
    "        1、'A'：缺席。 \n",
    "        2、'L'：晚了。 \n",
    "        3、'P'：存在。\n",
    "    如果学生的出勤记录中不超过一个 “A”（缺席）或不超过两个连续的“ L”（后期），则可能会得到奖励。\n",
    "    您需要返回是否可以根据他的出勤记录来奖励该学生。\n",
    "\n",
    "Example 1:\n",
    "    Input: \"PPALLP\"\n",
    "    Output: True\n",
    "\n",
    "Example 2:\n",
    "    Input: \"PPALLL\"\n",
    "    Output: False"
   ]
  },
  {
   "cell_type": "code",
   "execution_count": 34,
   "metadata": {},
   "outputs": [],
   "source": [
    "class Solution:\n",
    "    def checkRecord(self, s: str) -> bool:\n",
    "        a_count = s.count('A')\n",
    "        if a_count > 1: \n",
    "            return False\n",
    "        \n",
    "        l_freq = {}\n",
    "        for i, a in enumerate(s):\n",
    "            if a == 'L':\n",
    "                l_freq.setdefault(a, []).append(i)\n",
    "        if l_freq:\n",
    "            l_vals = set(l_freq['L'])\n",
    "            for val in l_vals:\n",
    "                if val + 1 in l_vals and val + 2 in l_vals:\n",
    "                    return False\n",
    "        return True"
   ]
  },
  {
   "cell_type": "code",
   "execution_count": 35,
   "metadata": {},
   "outputs": [
    {
     "data": {
      "text/plain": [
       "True"
      ]
     },
     "execution_count": 35,
     "metadata": {},
     "output_type": "execute_result"
    }
   ],
   "source": [
    "solution = Solution()\n",
    "solution.checkRecord(\"LALL\")"
   ]
  },
  {
   "cell_type": "code",
   "execution_count": 16,
   "metadata": {},
   "outputs": [],
   "source": [
    "a = {'a':2}"
   ]
  },
  {
   "cell_type": "code",
   "execution_count": 18,
   "metadata": {},
   "outputs": [
    {
     "data": {
      "text/plain": [
       "0"
      ]
     },
     "execution_count": 18,
     "metadata": {},
     "output_type": "execute_result"
    }
   ],
   "source": [
    "a.get('b', 0)"
   ]
  },
  {
   "cell_type": "code",
   "execution_count": null,
   "metadata": {},
   "outputs": [],
   "source": []
  }
 ],
 "metadata": {
  "kernelspec": {
   "display_name": "Python 3",
   "language": "python",
   "name": "python3"
  },
  "language_info": {
   "codemirror_mode": {
    "name": "ipython",
    "version": 3
   },
   "file_extension": ".py",
   "mimetype": "text/x-python",
   "name": "python",
   "nbconvert_exporter": "python",
   "pygments_lexer": "ipython3",
   "version": "3.6.2"
  }
 },
 "nbformat": 4,
 "nbformat_minor": 4
}
