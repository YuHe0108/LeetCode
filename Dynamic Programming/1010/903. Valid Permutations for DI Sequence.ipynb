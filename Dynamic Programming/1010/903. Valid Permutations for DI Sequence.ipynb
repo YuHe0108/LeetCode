{
 "cells": [
  {
   "cell_type": "raw",
   "metadata": {},
   "source": [
    "说明：\n",
    "    我们从集合{'D'，'I'}得到S，即长度为n的字符串，（这些字母代表“减少”和“增加”。）\n",
    "    有效置换是整数{0、1，...，n} 的置换P[0], P[1], ..., P[n]}，\n",
    "    对于所有i：\n",
    "        如果 S[i] =='D'，则 P[i] > P[i+1]，\n",
    "        并且；如果S[i] =='I'，则 P[i] < P [i+1]。\n",
    "    有多少个有效排列？由于答案可能很大，因此请以10 ^ 9为模返回您的答案7。\n",
    "\n",
    "\n",
    "Example 1:\n",
    "    Input: \"DID\"\n",
    "    Output: 5\n",
    "    Explanation: \n",
    "        The 5 valid permutations of (0, 1, 2, 3) are:\n",
    "        (1, 0, 3, 2)\n",
    "        (2, 0, 3, 1)\n",
    "        (2, 1, 3, 0)\n",
    "        (3, 0, 2, 1)\n",
    "        (3, 1, 2, 0)\n",
    " \n",
    "Note:\n",
    "    1、1 <= S.length <= 200\n",
    "    2、S consists only of characters from the set {'D', 'I'}."
   ]
  },
  {
   "cell_type": "code",
   "execution_count": 5,
   "metadata": {},
   "outputs": [],
   "source": [
    "class Solution:\n",
    "    def numPermsDISequence(self, S: str) -> int:\n",
    "        M = pow(10, 9) + 7\n",
    "        N = len(S)\n",
    "        S = '#' + S\n",
    "        \n",
    "        dp = [[0] * (N + 1) for _ in range(N + 1)]\n",
    "        dp[0][0] = 1\n",
    "        for i in range(1, N + 1): # permutations 索引为 i 时取值是多少\n",
    "            for j in range(i + 1): # 第 i 个位置可能的取值\n",
    "                if S[i] == 'I':\n",
    "                    # 如果是降序，并且在第 i 个位置上的值为 j\n",
    "                    # 如果要满足递增，那么，第i-1 位置上的值，可以从  0 ~ (j-1) 中取值\n",
    "                    for k in range(0, j):\n",
    "                        dp[i][j] += dp[i-1][k]\n",
    "                else:\n",
    "                    # 如果要满足单递 减小，那么第 i-1 位置上的值，可以从 j ~ (i-1) 中取值\n",
    "                    for k in range(j, i):\n",
    "                        dp[i][j] += dp[i-1][k]\n",
    "        res = 0\n",
    "        for i in range(N + 1):\n",
    "            res += dp[N][i]\n",
    "        return res % M"
   ]
  },
  {
   "cell_type": "code",
   "execution_count": 6,
   "metadata": {},
   "outputs": [
    {
     "data": {
      "text/plain": [
       "5"
      ]
     },
     "execution_count": 6,
     "metadata": {},
     "output_type": "execute_result"
    }
   ],
   "source": [
    "solution = Solution()\n",
    "solution.numPermsDISequence('DID')"
   ]
  },
  {
   "cell_type": "code",
   "execution_count": null,
   "metadata": {},
   "outputs": [],
   "source": []
  }
 ],
 "metadata": {
  "kernelspec": {
   "display_name": "Python 3",
   "language": "python",
   "name": "python3"
  },
  "language_info": {
   "codemirror_mode": {
    "name": "ipython",
    "version": 3
   },
   "file_extension": ".py",
   "mimetype": "text/x-python",
   "name": "python",
   "nbconvert_exporter": "python",
   "pygments_lexer": "ipython3",
   "version": "3.6.2"
  }
 },
 "nbformat": 4,
 "nbformat_minor": 4
}
