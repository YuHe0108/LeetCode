{
 "cells": [
  {
   "cell_type": "raw",
   "metadata": {},
   "source": [
    "说明：\n",
    "    给定一个正整数n，返回长度为n的所有可能的出勤记录数，这将被视为可奖励的。\n",
    "    答案可能非常大，请在 mod 10^9 + 7之后返回。\n",
    "    学生出勤记录是仅包含以下三个字符的字符串：\n",
    "        1、'A'：缺席。 \n",
    "        2、'L'：晚了。 \n",
    "        3、'P'：存在。\n",
    "    如果一条记录中包含不超过一个“ A”（不存在）或两个以上连续的“ L”（后期），则该记录被认为是有奖励的。\n",
    "\n",
    "Example 1:\n",
    "    Input: n = 2\n",
    "    Output: 8 \n",
    "    Explanation:\n",
    "        There are 8 records with length 2 will be regarded as rewardable:\n",
    "        \"PP\" , \"AP\", \"PA\", \"LP\", \"PL\", \"AL\", \"LA\", \"LL\"\n",
    "        Only \"AA\" won't be regarded as rewardable owing to more than one absent times. \n",
    "\n",
    "Note: The value of n won't exceed 100,000."
   ]
  },
  {
   "cell_type": "code",
   "execution_count": 15,
   "metadata": {},
   "outputs": [],
   "source": [
    "class Solution:\n",
    "    def checkRecord(self, n: int) -> int:\n",
    "        if n == 0: return 1\n",
    "        # 一共会有6中状态\n",
    "        M = pow(10, 9) + 7\n",
    "        dp00, dp01, dp02, dp10, dp11, dp12 = 1, 0, 0, 0, 0, 0\n",
    "        for i in range(1, n+1):\n",
    "            n_dp00 = (dp00 + dp01 + dp02) % M\n",
    "            n_dp01 = dp00 \n",
    "            n_dp02 = dp01\n",
    "            n_dp10 = (dp00 + dp01 + dp02 + dp10 + dp11 + dp12) % M\n",
    "            n_dp11 = dp10\n",
    "            n_dp12 = dp11\n",
    "            dp00, dp01, dp02, dp10, dp11, dp12 = n_dp00, n_dp01, n_dp02, n_dp10, n_dp11, n_dp12\n",
    "        return (dp00 + dp01 + dp02 + dp10 + dp11 + dp12) % M"
   ]
  },
  {
   "cell_type": "code",
   "execution_count": 16,
   "metadata": {},
   "outputs": [
    {
     "data": {
      "text/plain": [
       "8"
      ]
     },
     "execution_count": 16,
     "metadata": {},
     "output_type": "execute_result"
    }
   ],
   "source": [
    "solution = Solution()\n",
    "solution.checkRecord(2)"
   ]
  },
  {
   "cell_type": "raw",
   "metadata": {},
   "source": [
    " 一共会有6种状态\n",
    "1. dp00 没有出现a，最后不以L结尾：    dp00[i] = dp00[i-1] + dp01[i-1] + dp02[i-1], 最后加的字母都是 P\n",
    "2. dp01 没有出现a，最后以 1 个L结尾： dp01[i] = dp00[i-1] (结尾字母为L) \n",
    "3. dp02 没有出现a，最后以 2 个L结尾： dp02[i] = dp01[i-1] (结尾字母为L) \n",
    "4. dp10 出现一个a，最后不以L结尾：    dp10[i] = dp00[i-1] (A) + dp01[i-1] (A) + dp02[i-1](A) +  \n",
    "                                              dp10[i-1] (P) + dp11[i-1](P) + dp12[i-1](P)\n",
    "5. dp11 出现一个a，最后以 1 个L结尾： dp11[i] = dp10[i-1]\n",
    "6. dp12 出现一个a，最后以 2 个L结尾： dp12[i] = dp11[i-1]"
   ]
  }
 ],
 "metadata": {
  "kernelspec": {
   "display_name": "Python 3",
   "language": "python",
   "name": "python3"
  },
  "language_info": {
   "codemirror_mode": {
    "name": "ipython",
    "version": 3
   },
   "file_extension": ".py",
   "mimetype": "text/x-python",
   "name": "python",
   "nbconvert_exporter": "python",
   "pygments_lexer": "ipython3",
   "version": "3.6.2"
  }
 },
 "nbformat": 4,
 "nbformat_minor": 4
}
