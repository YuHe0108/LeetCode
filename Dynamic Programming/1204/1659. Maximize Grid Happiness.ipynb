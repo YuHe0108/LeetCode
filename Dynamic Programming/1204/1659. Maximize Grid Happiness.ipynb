{
 "cells": [
  {
   "cell_type": "code",
   "execution_count": null,
   "metadata": {},
   "outputs": [],
   "source": []
  },
  {
   "cell_type": "code",
   "execution_count": null,
   "metadata": {},
   "outputs": [],
   "source": []
  },
  {
   "cell_type": "code",
   "execution_count": null,
   "metadata": {},
   "outputs": [],
   "source": []
  },
  {
   "cell_type": "code",
   "execution_count": null,
   "metadata": {},
   "outputs": [],
   "source": []
  },
  {
   "cell_type": "markdown",
   "metadata": {},
   "source": [
    "<img src='1659.jpg'>"
   ]
  },
  {
   "cell_type": "code",
   "execution_count": 29,
   "metadata": {},
   "outputs": [],
   "source": [
    "from functools import lru_cache\n",
    "\n",
    "class Solution:\n",
    "    def getMaxGridHappiness(self, m: int, n: int, introvertsCount: int, extrovertsCount: int) -> int:\n",
    "        def get_happiness(j, types, last_values):\n",
    "            up = last_values[j]\n",
    "            left = last_values[j-1] if j > 0 else ''\n",
    "            \n",
    "            up_diff = 0\n",
    "            if up == 'i':\n",
    "                up_diff = -30\n",
    "            elif up == 'e':\n",
    "                up_diff = 20\n",
    "            \n",
    "            left_diff = 0\n",
    "            if left == 'i':\n",
    "                left_diff = -30\n",
    "            elif left == 'e':\n",
    "                left_diff = 20\n",
    "            \n",
    "            neb = (1 if up else 0) + (1 if left  else 0)\n",
    "            ans = 0\n",
    "            if types == 'i':\n",
    "                ans = 120 - 30 * neb + left_diff + up_diff\n",
    "            elif types == 'e':\n",
    "                ans = 40 + 20 * neb + left_diff + up_diff\n",
    "            return ans\n",
    "        \n",
    "        @lru_cache(None)\n",
    "        def dp(pos, intro, extro, last_values):\n",
    "            # last_values 用于存储已经计算过的 n(表示列) 个值，\n",
    "            # 如果当前列为j，那么左边的值就是 j - 1，\n",
    "            if pos == m * n:\n",
    "                return 0\n",
    "            j = pos % n # 所在列\n",
    "            list_last_values = list(last_values)\n",
    "            prev_value = list_last_values[j]\n",
    "            \n",
    "            # 当前位置不住人\n",
    "            list_last_values[j] = ''\n",
    "            ans = dp(pos + 1, intro, extro, tuple(list_last_values))\n",
    "            list_last_values[j] = prev_value\n",
    "            \n",
    "            # 住的是内向的人\n",
    "            if intro:\n",
    "                happiness = get_happiness(j, 'i', last_values)\n",
    "                list_last_values[j] = 'i'\n",
    "                ans = max(ans, happiness + dp(pos+1, intro-1, extro, tuple(list_last_values)))\n",
    "                list_last_values[j] = prev_value\n",
    "            \n",
    "            # 住的是外向的人\n",
    "            if extro:\n",
    "                happiness = get_happiness(j, 'e', last_values)\n",
    "                list_last_values[j] = 'e'\n",
    "                ans = max(ans, happiness + dp(pos+1, intro, extro-1, tuple(list_last_values)))\n",
    "                list_last_values[j] = prev_value\n",
    "            return ans\n",
    "        \n",
    "        return dp(0, introvertsCount, extrovertsCount, tuple([''] * n))"
   ]
  },
  {
   "cell_type": "code",
   "execution_count": 28,
   "metadata": {},
   "outputs": [
    {
     "data": {
      "text/plain": [
       "240"
      ]
     },
     "execution_count": 28,
     "metadata": {},
     "output_type": "execute_result"
    }
   ],
   "source": [
    "solution = Solution()\n",
    "solution.getMaxGridHappiness(m = 2, n = 3, introvertsCount = 1, extrovertsCount = 2)"
   ]
  },
  {
   "cell_type": "code",
   "execution_count": 2,
   "metadata": {},
   "outputs": [],
   "source": []
  },
  {
   "cell_type": "code",
   "execution_count": 26,
   "metadata": {},
   "outputs": [
    {
     "name": "stdout",
     "output_type": "stream",
     "text": [
      "18\n"
     ]
    }
   ],
   "source": [
    "a = [3,3,6,5,-2,2,5,1,-9,4]\n",
    "print(sum(a))"
   ]
  },
  {
   "cell_type": "code",
   "execution_count": null,
   "metadata": {},
   "outputs": [],
   "source": []
  }
 ],
 "metadata": {
  "kernelspec": {
   "display_name": "Python 3",
   "language": "python",
   "name": "python3"
  },
  "language_info": {
   "codemirror_mode": {
    "name": "ipython",
    "version": 3
   },
   "file_extension": ".py",
   "mimetype": "text/x-python",
   "name": "python",
   "nbconvert_exporter": "python",
   "pygments_lexer": "ipython3",
   "version": "3.6.2"
  }
 },
 "nbformat": 4,
 "nbformat_minor": 4
}
