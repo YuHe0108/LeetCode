{
 "cells": [
  {
   "cell_type": "code",
   "execution_count": null,
   "metadata": {},
   "outputs": [],
   "source": []
  },
  {
   "cell_type": "code",
   "execution_count": null,
   "metadata": {},
   "outputs": [],
   "source": []
  },
  {
   "cell_type": "code",
   "execution_count": null,
   "metadata": {},
   "outputs": [],
   "source": []
  },
  {
   "cell_type": "code",
   "execution_count": null,
   "metadata": {},
   "outputs": [],
   "source": [
    "class Solution:\n",
    "    def findIntegers(self, num: int) -> int:\n",
    "        if num == 0:\n",
    "            return 0\n",
    "        if num == 1:\n",
    "            return 2\n",
    "        \n",
    "        dp = [0] * 33\n",
    "        dp[0] = 1\n",
    "        dp[1] = 2 \n",
    "        for i in range(2, 32+1):\n",
    "            dp[i] = dp[i-2] + dp[i-1]\n",
    "        \n",
    "        digits = [0] * 33 # 存储了nums -> 二进制的数字, nums[1] 低位-->高位\n",
    "        for i in range(1, 32 + 1):\n",
    "            digits[i] = num % 2\n",
    "            num = num // 2\n",
    "        \n",
    "        res = 0\n",
    "        for i in range(32, -1, -1):\n",
    "            if digits[i] == 0:\n",
    "                continue\n",
    "            res += dp[i - 1]\n",
    "            if i - 1 >= 0 and digits[i - 1] == 1:\n",
    "                res += dp[i - 2 + 1]\n",
    "                return res\n",
    "        return res + 1"
   ]
  },
  {
   "cell_type": "markdown",
   "metadata": {},
   "source": [
    "<img src='600.jpg'>"
   ]
  },
  {
   "cell_type": "code",
   "execution_count": 39,
   "metadata": {},
   "outputs": [],
   "source": [
    "class Solution:\n",
    "    def findIntegers(self, num: int) -> int:\n",
    "        if num == 0: return 0\n",
    "        if num == 1: return 2\n",
    "        \n",
    "        dp = [0] * 33\n",
    "        dp[0], dp[1] = 1, 2\n",
    "        for i in range(2, 32 + 1):\n",
    "            dp[i] = dp[i-2] + dp[i-1]\n",
    "        \n",
    "        digits = [0] * 33 # 存储了nums -> 二进制的数字, nums[1] 低位-->高位\n",
    "        for i in range(1, 32 + 1):\n",
    "            digits[i] = num % 2\n",
    "            num = num // 2\n",
    "        print(digits)\n",
    "        \n",
    "        idx = 32\n",
    "        res = 0\n",
    "        while idx >= 1:\n",
    "            if digits[idx] == 0:\n",
    "                idx -= 1\n",
    "            else:\n",
    "                res += dp[idx - 1]\n",
    "                if idx >= 2 and digits[idx - 1] == 1:\n",
    "                    res += dp[idx - 2]\n",
    "                    return res\n",
    "                else:\n",
    "                    idx -= 2\n",
    "        return res + 1"
   ]
  },
  {
   "cell_type": "code",
   "execution_count": 40,
   "metadata": {},
   "outputs": [
    {
     "name": "stdout",
     "output_type": "stream",
     "text": [
      "[0, 1, 0, 1, 0, 0, 0, 0, 0, 0, 0, 0, 0, 0, 0, 0, 0, 0, 0, 0, 0, 0, 0, 0, 0, 0, 0, 0, 0, 0, 0, 0, 0]\n"
     ]
    },
    {
     "data": {
      "text/plain": [
       "5"
      ]
     },
     "execution_count": 40,
     "metadata": {},
     "output_type": "execute_result"
    }
   ],
   "source": [
    "solution = Solution()\n",
    "solution.findIntegers(5)"
   ]
  },
  {
   "cell_type": "code",
   "execution_count": null,
   "metadata": {},
   "outputs": [],
   "source": []
  },
  {
   "cell_type": "code",
   "execution_count": 4,
   "metadata": {},
   "outputs": [
    {
     "data": {
      "text/plain": [
       "4294967296"
      ]
     },
     "execution_count": 4,
     "metadata": {},
     "output_type": "execute_result"
    }
   ],
   "source": [
    "pow(2, 32)"
   ]
  },
  {
   "cell_type": "code",
   "execution_count": 18,
   "metadata": {},
   "outputs": [
    {
     "name": "stdout",
     "output_type": "stream",
     "text": [
      "0b110\n"
     ]
    }
   ],
   "source": [
    "print(bin(6))"
   ]
  },
  {
   "cell_type": "code",
   "execution_count": 38,
   "metadata": {},
   "outputs": [
    {
     "data": {
      "text/plain": [
       "3"
      ]
     },
     "execution_count": 38,
     "metadata": {},
     "output_type": "execute_result"
    }
   ],
   "source": [
    "6 >> 1"
   ]
  },
  {
   "cell_type": "code",
   "execution_count": null,
   "metadata": {},
   "outputs": [],
   "source": []
  }
 ],
 "metadata": {
  "kernelspec": {
   "display_name": "Python 3",
   "language": "python",
   "name": "python3"
  },
  "language_info": {
   "codemirror_mode": {
    "name": "ipython",
    "version": 3
   },
   "file_extension": ".py",
   "mimetype": "text/x-python",
   "name": "python",
   "nbconvert_exporter": "python",
   "pygments_lexer": "ipython3",
   "version": "3.6.2"
  }
 },
 "nbformat": 4,
 "nbformat_minor": 4
}
