{
 "cells": [
  {
   "cell_type": "code",
   "execution_count": null,
   "metadata": {},
   "outputs": [],
   "source": []
  },
  {
   "cell_type": "code",
   "execution_count": null,
   "metadata": {},
   "outputs": [],
   "source": []
  },
  {
   "cell_type": "code",
   "execution_count": null,
   "metadata": {},
   "outputs": [],
   "source": []
  },
  {
   "cell_type": "code",
   "execution_count": 17,
   "metadata": {},
   "outputs": [],
   "source": [
    "from collections import defaultdict\n",
    "\n",
    "class Solution:\n",
    "    def numberWays(self, hats):\n",
    "        n = len(hats) # 人数\n",
    "        mod = pow(10, 9) + 7\n",
    "        \n",
    "        idx2per = defaultdict(list) # 每一顶帽子都有哪些人戴\n",
    "        for i in range(n):\n",
    "            for h in hats[i]:\n",
    "                idx2per[h].append(i)\n",
    "        \n",
    "        dp = [0] * (1 << n) # 每个人戴帽子的情况\n",
    "        dp[0] = 1\n",
    "        for i in range(1, 40 + 1):\n",
    "            temp_dp = dp[::]\n",
    "            for state in range(1 << n): # 遍历每个人是否戴帽子\n",
    "                for per in idx2per[i]: \n",
    "                    if ((state >> per) & 1) == 1: # 第i顶帽子已经有人戴了\n",
    "                        continue\n",
    "                    new_state = (state) | (1 << per)\n",
    "                    temp_dp[new_state] += dp[state]\n",
    "            dp = temp_dp\n",
    "        return dp[-1] % mod"
   ]
  },
  {
   "cell_type": "code",
   "execution_count": 18,
   "metadata": {},
   "outputs": [
    {
     "name": "stdout",
     "output_type": "stream",
     "text": [
      "defaultdict(<class 'list'>, {3: [0, 1], 5: [0, 1], 1: [0]})\n",
      "[1, 3, 2, 4]\n"
     ]
    },
    {
     "data": {
      "text/plain": [
       "4"
      ]
     },
     "execution_count": 18,
     "metadata": {},
     "output_type": "execute_result"
    }
   ],
   "source": [
    "solution = Solution()\n",
    "solution.numberWays(hats = [[3,5,1],[3,5]])"
   ]
  },
  {
   "cell_type": "code",
   "execution_count": 16,
   "metadata": {},
   "outputs": [
    {
     "data": {
      "text/plain": [
       "3"
      ]
     },
     "execution_count": 16,
     "metadata": {},
     "output_type": "execute_result"
    }
   ],
   "source": [
    "1 | 2"
   ]
  },
  {
   "cell_type": "code",
   "execution_count": 13,
   "metadata": {},
   "outputs": [
    {
     "name": "stdout",
     "output_type": "stream",
     "text": [
      "0b1 0b10\n"
     ]
    }
   ],
   "source": [
    "print(bin(1), bin(2))"
   ]
  },
  {
   "cell_type": "code",
   "execution_count": null,
   "metadata": {},
   "outputs": [],
   "source": []
  }
 ],
 "metadata": {
  "kernelspec": {
   "display_name": "Python 3",
   "language": "python",
   "name": "python3"
  },
  "language_info": {
   "codemirror_mode": {
    "name": "ipython",
    "version": 3
   },
   "file_extension": ".py",
   "mimetype": "text/x-python",
   "name": "python",
   "nbconvert_exporter": "python",
   "pygments_lexer": "ipython3",
   "version": "3.6.2"
  }
 },
 "nbformat": 4,
 "nbformat_minor": 4
}
