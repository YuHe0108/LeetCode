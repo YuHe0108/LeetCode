{
 "cells": [
  {
   "cell_type": "code",
   "execution_count": null,
   "metadata": {},
   "outputs": [],
   "source": []
  },
  {
   "cell_type": "code",
   "execution_count": null,
   "metadata": {},
   "outputs": [],
   "source": []
  },
  {
   "cell_type": "code",
   "execution_count": null,
   "metadata": {},
   "outputs": [],
   "source": []
  },
  {
   "cell_type": "code",
   "execution_count": null,
   "metadata": {},
   "outputs": [],
   "source": [
    "from sortedcontainers import SortedList\n",
    "\n",
    "class Solution:\n",
    "    def minimumDeviation(self, nums):\n",
    "        sorted_nums = SortedList()\n",
    "        for i, x in enumerate(nums):\n",
    "            if x % 2 == 1:\n",
    "                # 奇数的最大值是其本身的两倍\n",
    "                v = x * 2\n",
    "            else:\n",
    "                v = x\n",
    "            sorted_nums.add(v)\n",
    "            \n",
    "        ans = float('inf')\n",
    "        min_val = sorted_nums[0]\n",
    "        while True:\n",
    "            max_val = sorted_nums.pop()\n",
    "            ans = min(ans, max_val - min_val)\n",
    "            if max_val % 2 == 1:\n",
    "                return ans\n",
    "            v = max_val // 2\n",
    "            min_val = min(min_val, v)\n",
    "            sorted_nums.add(v)\n",
    "        return ans "
   ]
  },
  {
   "cell_type": "code",
   "execution_count": 29,
   "metadata": {},
   "outputs": [],
   "source": [
    "from sortedcontainers import SortedList\n",
    "\n",
    "class Solution:\n",
    "    def minimumDeviation(self, nums):\n",
    "        sorted_nums = SortedList()\n",
    "        for i, x in enumerate(nums):\n",
    "            if x % 2 == 1:\n",
    "                # 奇数的最大值是其本身的两倍\n",
    "                v = x * 2\n",
    "            else:\n",
    "                v = x\n",
    "            sorted_nums.add(v)\n",
    "            \n",
    "        ans = float('inf')\n",
    "        while True:\n",
    "            min_val = sorted_nums[0]\n",
    "            max_val = sorted_nums.pop()\n",
    "            ans = min(ans, max_val - min_val)\n",
    "            if max_val % 2 == 1:\n",
    "                return ans\n",
    "            v = max_val // 2\n",
    "            sorted_nums.add(v)\n",
    "        return ans "
   ]
  },
  {
   "cell_type": "code",
   "execution_count": 34,
   "metadata": {},
   "outputs": [],
   "source": [
    "import heapq\n",
    "\n",
    "class Solution:\n",
    "    def minimumDeviation(self, nums) -> int:\n",
    "        n = len(nums)\n",
    "        for i in range(n):\n",
    "            #odd * -2\n",
    "            if nums[i] & 1:\n",
    "                nums[i] *= -2\n",
    "            else:\n",
    "                nums[i] *= -1\n",
    "        #找到原来nums中的最小值\n",
    "        minNum = max(nums)\n",
    "        #这个heap过之后，其实是原来数组中的最大值\n",
    "        heapq.heapify(nums)\n",
    "        res = float('inf')\n",
    "        while nums[0] & 1 == 0: #最大是偶数\n",
    "            maxNum = heapq.heappop(nums)\n",
    "            res = min(res, minNum - maxNum)\n",
    "            maxNum //= 2\n",
    "            minNum = max(minNum, maxNum)\n",
    "            heapq.heappush(nums, maxNum)\n",
    "        res = min(res, minNum - nums[0])\n",
    "        return res "
   ]
  },
  {
   "cell_type": "code",
   "execution_count": 36,
   "metadata": {},
   "outputs": [
    {
     "name": "stdout",
     "output_type": "stream",
     "text": [
      "[-6, -4, -2, -2]\n"
     ]
    },
    {
     "data": {
      "text/plain": [
       "1"
      ]
     },
     "execution_count": 36,
     "metadata": {},
     "output_type": "execute_result"
    }
   ],
   "source": [
    "solution = Solution()\n",
    "solution.minimumDeviation([1,2,3,4])"
   ]
  },
  {
   "cell_type": "code",
   "execution_count": 33,
   "metadata": {},
   "outputs": [
    {
     "name": "stdout",
     "output_type": "stream",
     "text": [
      "1\n",
      "3\n",
      "5\n",
      "7\n",
      "9\n"
     ]
    }
   ],
   "source": [
    "for i in range(10):\n",
    "    if i & 1:\n",
    "        print(i)"
   ]
  },
  {
   "cell_type": "code",
   "execution_count": null,
   "metadata": {},
   "outputs": [],
   "source": []
  }
 ],
 "metadata": {
  "kernelspec": {
   "display_name": "Python 3",
   "language": "python",
   "name": "python3"
  },
  "language_info": {
   "codemirror_mode": {
    "name": "ipython",
    "version": 3
   },
   "file_extension": ".py",
   "mimetype": "text/x-python",
   "name": "python",
   "nbconvert_exporter": "python",
   "pygments_lexer": "ipython3",
   "version": "3.6.2"
  }
 },
 "nbformat": 4,
 "nbformat_minor": 4
}
