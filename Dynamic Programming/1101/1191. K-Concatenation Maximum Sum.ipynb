{
 "cells": [
  {
   "cell_type": "raw",
   "metadata": {},
   "source": [
    "说明：\n",
    "    给你一个整数数组 arr 和一个整数 k。\n",
    "    首先，我们要对该数组进行修改，即把原数组 arr 重复 k 次。\n",
    "    举个例子，如果 arr = [1, 2] 且 k = 3，那么修改后的数组就是 [1, 2, 1, 2, 1, 2]。\n",
    "\n",
    "    然后，请你返回修改后的数组中的最大的子数组之和。\n",
    "    注意，子数组长度可以是 0，在这种情况下它的总和也是 0。\n",
    "    由于 结果可能会很大，所以需要 模（mod） 10^9 + 7 后再返回。 \n",
    "\n",
    "示例 1：\n",
    "    输入：arr = [1,2], k = 3\n",
    "    输出：9\n",
    "\n",
    "示例 2：\n",
    "    输入：arr = [1,-2,1], k = 5\n",
    "    输出：2\n",
    "\n",
    "示例 3：\n",
    "    输入：arr = [-1,-2], k = 7\n",
    "    输出：0\n",
    "\n",
    "提示：\n",
    "    1、1 <= arr.length <= 10^5\n",
    "    2、1 <= k <= 10^5\n",
    "    3、-10^4 <= arr[i] <= 10^4"
   ]
  },
  {
   "cell_type": "markdown",
   "metadata": {},
   "source": [
    "<img src='https://raw.githubusercontent.com/wiki/luliyucoordinate/ImageBed/1191/2019_9_17_1.png'>"
   ]
  },
  {
   "cell_type": "code",
   "execution_count": 55,
   "metadata": {},
   "outputs": [],
   "source": [
    "class Solution:\n",
    "    def kConcatenationMaxSum(self, arr, k: int) -> int:\n",
    "        M = pow(10, 9) + 7\n",
    "        res = arr * k\n",
    "        dp = [0] * len(res)\n",
    "        for i in range(1, len(res)):\n",
    "            dp[i] = max(dp[i], dp[i-1] + res[i])\n",
    "        return max(dp) % M"
   ]
  },
  {
   "cell_type": "code",
   "execution_count": 44,
   "metadata": {},
   "outputs": [],
   "source": [
    "class Solution:\n",
    "    def kConcatenationMaxSum(self, arr, k: int) -> int:\n",
    "        M = pow(10, 9) + 7\n",
    "        if k == 1:\n",
    "            return self.kadane(arr) % M\n",
    "        \n",
    "        sum_val = sum(arr)\n",
    "        ret = 0\n",
    "        if sum_val > 0:\n",
    "            ret = (k - 2) * sum_val\n",
    "        arr = arr * 2\n",
    "        return (self.kadane(arr) + ret) % M\n",
    "    \n",
    "    def kadane(self, arr):\n",
    "        dp = [x for x in arr]\n",
    "        for i in range(1, len(arr)):\n",
    "            dp[i] = max(dp[i], dp[i-1] + arr[i])\n",
    "        res = max(dp)\n",
    "        return 0 if res < 0 else res"
   ]
  },
  {
   "cell_type": "code",
   "execution_count": 46,
   "metadata": {},
   "outputs": [
    {
     "name": "stdout",
     "output_type": "stream",
     "text": [
      "3\n"
     ]
    },
    {
     "data": {
      "text/plain": [
       "9"
      ]
     },
     "execution_count": 46,
     "metadata": {},
     "output_type": "execute_result"
    }
   ],
   "source": [
    "solution = Solution()\n",
    "solution.kConcatenationMaxSum([1, 2], 3)"
   ]
  },
  {
   "cell_type": "code",
   "execution_count": null,
   "metadata": {},
   "outputs": [],
   "source": [
    " def Kadane(arr):\n",
    "    res = cur = 0\n",
    "    for num in arr:\n",
    "        cur = max(cur, 0) + num\n",
    "        res = max(res, cur)\n",
    "    return res"
   ]
  },
  {
   "cell_type": "code",
   "execution_count": 47,
   "metadata": {},
   "outputs": [
    {
     "ename": "NameError",
     "evalue": "name 'List' is not defined",
     "output_type": "error",
     "traceback": [
      "\u001b[1;31m---------------------------------------------------------------------------\u001b[0m",
      "\u001b[1;31mNameError\u001b[0m                                 Traceback (most recent call last)",
      "\u001b[1;32m<ipython-input-47-8149acac6106>\u001b[0m in \u001b[0;36m<module>\u001b[1;34m\u001b[0m\n\u001b[1;32m----> 1\u001b[1;33m \u001b[1;32mclass\u001b[0m \u001b[0mSolution\u001b[0m\u001b[1;33m:\u001b[0m\u001b[1;33m\u001b[0m\u001b[0m\n\u001b[0m\u001b[0;32m      2\u001b[0m     \u001b[1;32mdef\u001b[0m \u001b[0mkConcatenationMaxSum\u001b[0m\u001b[1;33m(\u001b[0m\u001b[0mself\u001b[0m\u001b[1;33m,\u001b[0m \u001b[0marr\u001b[0m\u001b[1;33m:\u001b[0m \u001b[0mList\u001b[0m\u001b[1;33m[\u001b[0m\u001b[0mint\u001b[0m\u001b[1;33m]\u001b[0m\u001b[1;33m,\u001b[0m \u001b[0mk\u001b[0m\u001b[1;33m:\u001b[0m \u001b[0mint\u001b[0m\u001b[1;33m)\u001b[0m \u001b[1;33m->\u001b[0m \u001b[0mint\u001b[0m\u001b[1;33m:\u001b[0m\u001b[1;33m\u001b[0m\u001b[0m\n\u001b[0;32m      3\u001b[0m         \u001b[0mM\u001b[0m \u001b[1;33m=\u001b[0m \u001b[0mpow\u001b[0m\u001b[1;33m(\u001b[0m\u001b[1;36m10\u001b[0m\u001b[1;33m,\u001b[0m \u001b[1;36m9\u001b[0m\u001b[1;33m)\u001b[0m \u001b[1;33m+\u001b[0m \u001b[1;36m7\u001b[0m\u001b[1;33m\u001b[0m\u001b[0m\n\u001b[0;32m      4\u001b[0m         \u001b[1;32mif\u001b[0m \u001b[0mk\u001b[0m \u001b[1;33m==\u001b[0m \u001b[1;36m1\u001b[0m\u001b[1;33m:\u001b[0m\u001b[1;33m\u001b[0m\u001b[0m\n\u001b[0;32m      5\u001b[0m             \u001b[1;32mreturn\u001b[0m \u001b[0mself\u001b[0m\u001b[1;33m.\u001b[0m\u001b[0mkadane\u001b[0m\u001b[1;33m(\u001b[0m\u001b[0marr\u001b[0m\u001b[1;33m)\u001b[0m \u001b[1;33m%\u001b[0m \u001b[0mM\u001b[0m\u001b[1;33m\u001b[0m\u001b[0m\n",
      "\u001b[1;32m<ipython-input-47-8149acac6106>\u001b[0m in \u001b[0;36mSolution\u001b[1;34m()\u001b[0m\n\u001b[0;32m      1\u001b[0m \u001b[1;32mclass\u001b[0m \u001b[0mSolution\u001b[0m\u001b[1;33m:\u001b[0m\u001b[1;33m\u001b[0m\u001b[0m\n\u001b[1;32m----> 2\u001b[1;33m     \u001b[1;32mdef\u001b[0m \u001b[0mkConcatenationMaxSum\u001b[0m\u001b[1;33m(\u001b[0m\u001b[0mself\u001b[0m\u001b[1;33m,\u001b[0m \u001b[0marr\u001b[0m\u001b[1;33m:\u001b[0m \u001b[0mList\u001b[0m\u001b[1;33m[\u001b[0m\u001b[0mint\u001b[0m\u001b[1;33m]\u001b[0m\u001b[1;33m,\u001b[0m \u001b[0mk\u001b[0m\u001b[1;33m:\u001b[0m \u001b[0mint\u001b[0m\u001b[1;33m)\u001b[0m \u001b[1;33m->\u001b[0m \u001b[0mint\u001b[0m\u001b[1;33m:\u001b[0m\u001b[1;33m\u001b[0m\u001b[0m\n\u001b[0m\u001b[0;32m      3\u001b[0m         \u001b[0mM\u001b[0m \u001b[1;33m=\u001b[0m \u001b[0mpow\u001b[0m\u001b[1;33m(\u001b[0m\u001b[1;36m10\u001b[0m\u001b[1;33m,\u001b[0m \u001b[1;36m9\u001b[0m\u001b[1;33m)\u001b[0m \u001b[1;33m+\u001b[0m \u001b[1;36m7\u001b[0m\u001b[1;33m\u001b[0m\u001b[0m\n\u001b[0;32m      4\u001b[0m         \u001b[1;32mif\u001b[0m \u001b[0mk\u001b[0m \u001b[1;33m==\u001b[0m \u001b[1;36m1\u001b[0m\u001b[1;33m:\u001b[0m\u001b[1;33m\u001b[0m\u001b[0m\n\u001b[0;32m      5\u001b[0m             \u001b[1;32mreturn\u001b[0m \u001b[0mself\u001b[0m\u001b[1;33m.\u001b[0m\u001b[0mkadane\u001b[0m\u001b[1;33m(\u001b[0m\u001b[0marr\u001b[0m\u001b[1;33m)\u001b[0m \u001b[1;33m%\u001b[0m \u001b[0mM\u001b[0m\u001b[1;33m\u001b[0m\u001b[0m\n",
      "\u001b[1;31mNameError\u001b[0m: name 'List' is not defined"
     ]
    }
   ],
   "source": [
    "class Solution:\n",
    "    def kConcatenationMaxSum(self, arr: List[int], k: int) -> int:\n",
    "        M = pow(10, 9) + 7\n",
    "        if k == 1:\n",
    "            return self.kadane(arr) % M\n",
    "        \n",
    "        sum_val = sum(arr)\n",
    "        max_sub_arr = self.kadane(arr * 2) \n",
    "        if sum_val < 0:\n",
    "            return max_sub_arr % M\n",
    "        return (max_sub_arr + sum_val * (k-2)) % M\n",
    "    \n",
    "    def kadane(self, arr):\n",
    "        dp = [x for x in arr]\n",
    "        for i in range(1, len(arr)):\n",
    "            dp[i] = max(dp[i], dp[i-1] + arr[i])\n",
    "        res = max(dp)\n",
    "        return res if res > 0 else 0"
   ]
  },
  {
   "cell_type": "code",
   "execution_count": null,
   "metadata": {},
   "outputs": [],
   "source": []
  }
 ],
 "metadata": {
  "kernelspec": {
   "display_name": "Python 3",
   "language": "python",
   "name": "python3"
  },
  "language_info": {
   "codemirror_mode": {
    "name": "ipython",
    "version": 3
   },
   "file_extension": ".py",
   "mimetype": "text/x-python",
   "name": "python",
   "nbconvert_exporter": "python",
   "pygments_lexer": "ipython3",
   "version": "3.6.2"
  }
 },
 "nbformat": 4,
 "nbformat_minor": 4
}
