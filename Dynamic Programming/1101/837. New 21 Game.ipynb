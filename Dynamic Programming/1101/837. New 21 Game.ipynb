{
 "cells": [
  {
   "cell_type": "raw",
   "metadata": {},
   "source": [
    "说明：\n",
    "    爱丽丝参与一个大致基于纸牌游戏 “21点” 规则的游戏，描述如下：\n",
    "    \n",
    "    爱丽丝以 0 分开始，并在她的得分少于 K 分时抽取数字。 \n",
    "    抽取时，她从 [1, W] 的范围中随机获得一个整数作为分数进行累计，其中 W 是整数。 \n",
    "    每次抽取都是独立的，其结果具有相同的概率。\n",
    "\n",
    "    当爱丽丝获得大于等于 K 分时，她就停止抽取数字。 \n",
    "    爱丽丝的分数不 小于等于 N 的概率是多少？\n",
    "\n",
    "示例 1：\n",
    "    输入：N = 10, K = 1, W = 10\n",
    "    输出：1.00000\n",
    "    说明：爱丽丝得到一张卡，然后停止。\n",
    "\n",
    "示例 2：\n",
    "    输入：N = 6, K = 1, W = 10\n",
    "    输出：0.60000\n",
    "    说明：爱丽丝得到一张卡，然后停止。\n",
    "         在 W = 10 的 6 种可能下，她的得分不超过 N = 6 分。\n",
    "\n",
    "示例 3：\n",
    "    输入：N = 21, K = 17, W = 10\n",
    "    输出：0.73278\n",
    " \n",
    "提示：\n",
    "    1、0 <= K <= N <= 10000\n",
    "    2、1 <= W <= 10000\n",
    "    3、如果答案与正确答案的误差不超过 10^-5，则该答案将被视为正确答案通过。\n",
    "    4、此问题的判断限制时间已经减少。"
   ]
  },
  {
   "cell_type": "code",
   "execution_count": 46,
   "metadata": {},
   "outputs": [],
   "source": [
    "class Solution:\n",
    "    def new21Game(self, N: int, K: int, W: int) -> float:\n",
    "        dp, sol = [0] * (W + 1), 0\n",
    "        for i in range(1, W + 1):\n",
    "            if i <= N:\n",
    "                dp[i] = i\n",
    "                sol += 1\n",
    "            else:\n",
    "                break\n",
    "        \n",
    "        \n",
    "        total = W # 记录所有的可能情况\n",
    "        while True:\n",
    "            new_dp, new_sol = [0] * (W + 1), 0\n",
    "            for i in range(1, W + 1):\n",
    "                if i > K:\n",
    "                    break\n",
    "                for j in range(1, W + 1):\n",
    "                    if dp[j] >= K or i + dp[j] >= K:\n",
    "                        break\n",
    "                    new_dp[j] += dp[j]\n",
    "                    new_sol += 1\n",
    "            print(dp, new_dp, sol)\n",
    "            if new_sol == 0:\n",
    "                break\n",
    "            dp = new_dp\n",
    "            total += W\n",
    "            sol += new_sol\n",
    "        \n",
    "        return sol / total"
   ]
  },
  {
   "cell_type": "markdown",
   "metadata": {},
   "source": [
    "<img src='837.jpg'>"
   ]
  },
  {
   "cell_type": "code",
   "execution_count": 63,
   "metadata": {},
   "outputs": [],
   "source": [
    "class Solution:\n",
    "    def new21Game(self, N: int, K: int, W: int) -> float:\n",
    "        dp = [0.0] * (K + W)\n",
    "        for k in range(K, min(K + W, N + 1)):\n",
    "            dp[k] = 1.0\n",
    "        \n",
    "        S = min(N - K + 1, W)\n",
    "        for k in range(K-1, -1, -1):\n",
    "            dp[k] = S / float(W)\n",
    "            S += dp[k] - dp[k + W]\n",
    "#             temp = 0\n",
    "#             for j in range(W):\n",
    "#                 temp += dp[k + j + 1]\n",
    "#             dp[k] = temp / float(W)\n",
    "        return dp[0]"
   ]
  },
  {
   "cell_type": "code",
   "execution_count": 64,
   "metadata": {},
   "outputs": [
    {
     "data": {
      "text/plain": [
       "0.7327777870686075"
      ]
     },
     "execution_count": 64,
     "metadata": {},
     "output_type": "execute_result"
    }
   ],
   "source": [
    "solution = Solution()\n",
    "solution.new21Game(N = 21, K = 17, W = 10)"
   ]
  },
  {
   "cell_type": "code",
   "execution_count": 69,
   "metadata": {},
   "outputs": [],
   "source": [
    "class Solution:\n",
    "    def new21Game(self, N: int, K: int, W: int) -> float:\n",
    "        return self.dfs(0.0, N, K, W)\n",
    "    \n",
    "    def dfs(self, cur, N, K, W):\n",
    "        if cur >= K:\n",
    "            if (cur <= N):\n",
    "                return 1\n",
    "            return 0\n",
    "        sum_val = 0.0\n",
    "        for i in range(1, W + 1):\n",
    "            sum_val += 1.0 / W  * self.dfs(cur + i, N, K, W)\n",
    "        return sum_val"
   ]
  },
  {
   "cell_type": "code",
   "execution_count": 136,
   "metadata": {},
   "outputs": [],
   "source": [
    "class Solution:\n",
    "    def new21Game(self, N: int, K: int, W: int) -> float:\n",
    "        dp = [0.0] * (N + 1)\n",
    "        dp[0] = 1.0 \n",
    "        sum_val = 0.0\n",
    "        for i in range(1, N + 1):\n",
    "            if i - 1 < K:\n",
    "                sum_val += dp[i-1]\n",
    "            if i - W - 1 >= 0:\n",
    "                sum_val -= dp[i-W-1]\n",
    "            dp[i] = sum_val / W\n",
    "#             for j in range(i - W, i):\n",
    "#                 if j < 0 or j >= K:\n",
    "#                     continue\n",
    "#                 dp[i] += dp[j] / W\n",
    "        return sum(dp[K:])"
   ]
  },
  {
   "cell_type": "code",
   "execution_count": 137,
   "metadata": {},
   "outputs": [
    {
     "data": {
      "text/plain": [
       "0.7327777870686082"
      ]
     },
     "execution_count": 137,
     "metadata": {},
     "output_type": "execute_result"
    }
   ],
   "source": [
    "solution = Solution()\n",
    "solution.new21Game(N = 21, K = 17, W = 10)"
   ]
  },
  {
   "cell_type": "code",
   "execution_count": 101,
   "metadata": {},
   "outputs": [
    {
     "name": "stdout",
     "output_type": "stream",
     "text": [
      "3\n"
     ]
    }
   ],
   "source": [
    "for i in range(3, 4):\n",
    "    print(i)"
   ]
  },
  {
   "cell_type": "code",
   "execution_count": null,
   "metadata": {},
   "outputs": [],
   "source": []
  },
  {
   "cell_type": "code",
   "execution_count": null,
   "metadata": {},
   "outputs": [],
   "source": []
  }
 ],
 "metadata": {
  "kernelspec": {
   "display_name": "Python 3",
   "language": "python",
   "name": "python3"
  },
  "language_info": {
   "codemirror_mode": {
    "name": "ipython",
    "version": 3
   },
   "file_extension": ".py",
   "mimetype": "text/x-python",
   "name": "python",
   "nbconvert_exporter": "python",
   "pygments_lexer": "ipython3",
   "version": "3.6.2"
  }
 },
 "nbformat": 4,
 "nbformat_minor": 4
}
