{
 "cells": [
  {
   "cell_type": "raw",
   "metadata": {},
   "source": [
    "说明：\n",
    "    有两种形状的瓷砖：一种是 2x1 的多米诺形，另一种是形如 \"L\" 的托米诺形。\n",
    "    两种形状都可以旋转。\n",
    "        XX  <- 多米诺\n",
    "\n",
    "        XX  <- \"L\" 托米诺\n",
    "        X\n",
    "    给定 N 的值，有多少种方法可以平铺 2 x N 的面板？返回值 mod 10^9 + 7。\n",
    "    （平铺指的是每个正方形都必须有瓷砖覆盖。两个平铺不同，\n",
    "    当且仅当面板上有四个方向上的相邻单元中的两个，使得恰好有一个平铺有一个瓷砖占据两个正方形。）\n",
    "\n",
    "示例:\n",
    "    输入: 3\n",
    "    输出: 5\n",
    "    解释: \n",
    "        下面列出了五种不同的方法，不同字母代表不同瓷砖：\n",
    "        XYZ XXZ XYY XXY XYY\n",
    "        XYZ YYZ XZZ XYY XXY\n",
    "提示：\n",
    "    1、N  的范围是 [1, 1000]"
   ]
  },
  {
   "cell_type": "code",
   "execution_count": null,
   "metadata": {},
   "outputs": [],
   "source": []
  }
 ],
 "metadata": {
  "kernelspec": {
   "display_name": "Python 3",
   "language": "python",
   "name": "python3"
  },
  "language_info": {
   "codemirror_mode": {
    "name": "ipython",
    "version": 3
   },
   "file_extension": ".py",
   "mimetype": "text/x-python",
   "name": "python",
   "nbconvert_exporter": "python",
   "pygments_lexer": "ipython3",
   "version": "3.6.2"
  }
 },
 "nbformat": 4,
 "nbformat_minor": 4
}
