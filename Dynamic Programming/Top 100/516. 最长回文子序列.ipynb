{
 "cells": [
  {
   "cell_type": "code",
   "execution_count": null,
   "metadata": {},
   "outputs": [],
   "source": [
    "\n"
   ]
  },
  {
   "cell_type": "code",
   "execution_count": null,
   "metadata": {},
   "outputs": [],
   "source": []
  },
  {
   "cell_type": "code",
   "execution_count": null,
   "metadata": {},
   "outputs": [],
   "source": []
  },
  {
   "cell_type": "code",
   "execution_count": 46,
   "metadata": {},
   "outputs": [],
   "source": [
    "class Solution:\n",
    "    def longestPalindromeSubseq(self, s: str) -> int:\n",
    "        n = len(s)\n",
    "        dp = [[0] * n for _ in range(n)]\n",
    "        for i in range(n):\n",
    "            dp[i][i] = 1\n",
    "        \n",
    "        for gap in range(2, n+1):\n",
    "            for start in range(n-gap+1):\n",
    "                end = start + gap - 1\n",
    "                if s[start] == s[end]:\n",
    "                    dp[start][end] = max(dp[start][end], dp[start+1][end-1] + 2)\n",
    "                else:\n",
    "                    dp[start][end] = max(dp[start][end], dp[start+1][end], dp[start][end-1])\n",
    "                \n",
    "        return dp[0][-1]"
   ]
  },
  {
   "cell_type": "code",
   "execution_count": 47,
   "metadata": {},
   "outputs": [
    {
     "data": {
      "text/plain": [
       "7"
      ]
     },
     "execution_count": 47,
     "metadata": {},
     "output_type": "execute_result"
    }
   ],
   "source": [
    "solution = Solution()\n",
    "solution.longestPalindromeSubseq(\"abcabcabcabc\")"
   ]
  },
  {
   "cell_type": "code",
   "execution_count": null,
   "metadata": {},
   "outputs": [],
   "source": [
    "[[1, 0, 0, 2, 2, 2, 4, 4, 4, 6, 6, 6], \n",
    " [0, 1, 0, 0, 2, 2, 2, 4, 4, 4, 6, 6], \n",
    " [0, 0, 1, 0, 0, 2, 2, 2, 4, 4, 4, 6], \n",
    " [0, 0, 0, 1, 0, 0, 2, 2, 2, 4, 4, 4], \n",
    " [0, 0, 0, 0, 1, 0, 0, 2, 2, 2, 4, 4],\n",
    " [0, 0, 0, 0, 0, 1, 0, 0, 2, 2, 2, 4], \n",
    " [0, 0, 0, 0, 0, 0, 1, 0, 0, 2, 2, 2], \n",
    " [0, 0, 0, 0, 0, 0, 0, 1, 0, 0, 2, 2], \n",
    " [0, 0, 0, 0, 0, 0, 0, 0, 1, 0, 0, 2], \n",
    " [0, 0, 0, 0, 0, 0, 0, 0, 0, 1, 0, 0], \n",
    " [0, 0, 0, 0, 0, 0, 0, 0, 0, 0, 1, 0], \n",
    " [0, 0, 0, 0, 0, 0, 0, 0, 0, 0, 0, 1]]"
   ]
  },
  {
   "cell_type": "code",
   "execution_count": null,
   "metadata": {},
   "outputs": [],
   "source": []
  },
  {
   "cell_type": "code",
   "execution_count": 54,
   "metadata": {},
   "outputs": [],
   "source": [
    "class Solution:\n",
    "    def longestPalindromeSubseq(self, s: str) -> int:\n",
    "        n = len(s)\n",
    "        s = '#' + s\n",
    "        dp = [[0] * (n+1) for _ in range(n+1)]\n",
    "        for i in range(1, n+1): # 区间长度为 1时，回文数为该数本身\n",
    "            dp[i][i] = 1\n",
    "        \n",
    "        for gap in range(2, n+1):\n",
    "            for l in range(1, n-gap+2):\n",
    "                r = l + (gap - 1)\n",
    "                if s[l] == s[r]:\n",
    "                    dp[l][r] = dp[l+1][r-1] + 2\n",
    "                else:\n",
    "                    dp[l][r] = max(dp[l][r-1], dp[l+1][r])\n",
    "        return max(dp[1])"
   ]
  },
  {
   "cell_type": "code",
   "execution_count": 55,
   "metadata": {},
   "outputs": [
    {
     "data": {
      "text/plain": [
       "7"
      ]
     },
     "execution_count": 55,
     "metadata": {},
     "output_type": "execute_result"
    }
   ],
   "source": [
    "solution = Solution()\n",
    "solution.longestPalindromeSubseq(\"abcabcabcabc\")"
   ]
  },
  {
   "cell_type": "code",
   "execution_count": null,
   "metadata": {},
   "outputs": [],
   "source": []
  }
 ],
 "metadata": {
  "kernelspec": {
   "display_name": "Python 3",
   "language": "python",
   "name": "python3"
  },
  "language_info": {
   "codemirror_mode": {
    "name": "ipython",
    "version": 3
   },
   "file_extension": ".py",
   "mimetype": "text/x-python",
   "name": "python",
   "nbconvert_exporter": "python",
   "pygments_lexer": "ipython3",
   "version": "3.6.2"
  }
 },
 "nbformat": 4,
 "nbformat_minor": 4
}
