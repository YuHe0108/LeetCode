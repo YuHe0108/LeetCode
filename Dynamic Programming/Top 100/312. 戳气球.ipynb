{
 "cells": [
  {
   "cell_type": "code",
   "execution_count": null,
   "metadata": {},
   "outputs": [],
   "source": []
  },
  {
   "cell_type": "code",
   "execution_count": null,
   "metadata": {},
   "outputs": [],
   "source": []
  },
  {
   "cell_type": "code",
   "execution_count": null,
   "metadata": {},
   "outputs": [],
   "source": []
  },
  {
   "cell_type": "raw",
   "metadata": {},
   "source": [
    "{xxxxxxxxxxxx} k {xxxxxxxxxx}\n",
    " i         k-1   k+1       |j"
   ]
  },
  {
   "cell_type": "code",
   "execution_count": 10,
   "metadata": {},
   "outputs": [],
   "source": [
    "# 大区间的最优值取决于小区间的最优值\n",
    "from typing import List\n",
    "\n",
    "class Solution:\n",
    "    def maxCoins(self, nums: List[int]) -> int:\n",
    "        if len(set(nums)) == 1 and len(nums) > 1:\n",
    "            cnt = pow(nums[0], 3) * (len(nums) - 2 )\n",
    "            cnt += nums[0] ** 2\n",
    "            cnt += nums[0]\n",
    "            return cnt\n",
    "        \n",
    "        n = len(nums)\n",
    "        nums = [1] + nums + [1]\n",
    "        dp = [[0] * (n+2) for _ in range(n+2)]\n",
    "        for gap in range(1, n+1):\n",
    "            for s in range(1, n-gap+2):\n",
    "                e = s + (gap - 1)\n",
    "                for k in range(s, e+1):\n",
    "                    dp[s][e] = max(dp[s][e], \n",
    "                                   dp[s][k-1] + dp[k+1][e] + nums[s-1] * nums[k] * nums[e+1])\n",
    "        return dp[1][n]"
   ]
  },
  {
   "cell_type": "code",
   "execution_count": 11,
   "metadata": {},
   "outputs": [
    {
     "data": {
      "text/plain": [
       "167"
      ]
     },
     "execution_count": 11,
     "metadata": {},
     "output_type": "execute_result"
    }
   ],
   "source": [
    "solution = Solution()\n",
    "solution.maxCoins([3,1,5,8])"
   ]
  },
  {
   "cell_type": "code",
   "execution_count": null,
   "metadata": {},
   "outputs": [],
   "source": []
  }
 ],
 "metadata": {
  "kernelspec": {
   "display_name": "Python 3",
   "language": "python",
   "name": "python3"
  },
  "language_info": {
   "codemirror_mode": {
    "name": "ipython",
    "version": 3
   },
   "file_extension": ".py",
   "mimetype": "text/x-python",
   "name": "python",
   "nbconvert_exporter": "python",
   "pygments_lexer": "ipython3",
   "version": "3.6.2"
  }
 },
 "nbformat": 4,
 "nbformat_minor": 4
}
