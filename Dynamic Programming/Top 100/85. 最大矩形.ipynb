{
 "cells": [
  {
   "cell_type": "code",
   "execution_count": null,
   "metadata": {},
   "outputs": [],
   "source": []
  },
  {
   "cell_type": "code",
   "execution_count": null,
   "metadata": {},
   "outputs": [],
   "source": []
  },
  {
   "cell_type": "code",
   "execution_count": 4,
   "metadata": {},
   "outputs": [
    {
     "data": {
      "text/plain": [
       "8000000"
      ]
     },
     "execution_count": 4,
     "metadata": {},
     "output_type": "execute_result"
    }
   ],
   "source": [
    "200 * 200 * 200"
   ]
  },
  {
   "cell_type": "code",
   "execution_count": null,
   "metadata": {},
   "outputs": [],
   "source": []
  },
  {
   "cell_type": "code",
   "execution_count": 13,
   "metadata": {},
   "outputs": [],
   "source": [
    "from typing import List\n",
    "\n",
    "class Solution:\n",
    "    def maximalRectangle(self, matrix: List[List[str]]) -> int:\n",
    "        \n",
    "        def get_rectangle(nums):\n",
    "            stack = [] # 维护一个单调递增的栈\n",
    "            area = 0\n",
    "            nums = [-1] + nums + [-1]\n",
    "            for i, v in enumerate(nums):\n",
    "                while stack and v < nums[stack[-1]]:\n",
    "                    h = nums[stack.pop()]\n",
    "                    if stack:\n",
    "                        w = i - stack[-1] - 1\n",
    "                        area = max(area, h * w)\n",
    "                stack.append(i)\n",
    "            return area\n",
    "        \n",
    "        if not matrix or not matrix[0]:\n",
    "            return 0\n",
    "        rows, cols = len(matrix), len(matrix[0])\n",
    "        \n",
    "        res = 0\n",
    "        for u_r in range(rows):\n",
    "            vals = [0] * cols\n",
    "            for d_r in range(u_r, rows):\n",
    "                for j in range(cols):\n",
    "                    if matrix[d_r][j] == '0':\n",
    "                        vals[j] = 0\n",
    "                    else:\n",
    "                        vals[j] += int(matrix[d_r][j])\n",
    "                res = max(res, get_rectangle(vals))\n",
    "        return res"
   ]
  },
  {
   "cell_type": "code",
   "execution_count": null,
   "metadata": {},
   "outputs": [],
   "source": []
  },
  {
   "cell_type": "code",
   "execution_count": null,
   "metadata": {},
   "outputs": [],
   "source": [
    "class Solution:\n",
    "    def maximalRectangle(self, matrix: List[List[str]]) -> int:\n",
    "        if not matrix or not matrix[0]:\n",
    "            return 0\n",
    "        \n",
    "        @lru_cache(None)\n",
    "        def getMaxArea(nums):\n",
    "            area = 0\n",
    "            stack = [0]\n",
    "            for i in range(1, len(nums)):\n",
    "                v = nums[i]\n",
    "                while stack and nums[stack[-1]] > v:\n",
    "                    h = nums[stack.pop()]\n",
    "                    w = i - stack[-1] - 1\n",
    "                    area = max(area, h*w)\n",
    "                stack.append(i)\n",
    "            return area\n",
    "        \n",
    "        res = 0\n",
    "        rows, cols = len(matrix), len(matrix[0])\n",
    "        all_vals = []\n",
    "        for i in range(rows): # 上边界\n",
    "            vals = [0] * cols\n",
    "            for j in range(i, rows):\n",
    "                for k in range(cols):\n",
    "                    if matrix[j][k] == '1':\n",
    "                        vals[k] += 1\n",
    "                    else:\n",
    "                        vals[k] = 0\n",
    "                all_vals.append(vals[:])\n",
    "                \n",
    "        for val in all_vals:\n",
    "            val = [0] + val + [0]\n",
    "            res = max(res, getMaxArea(tuple(val)))\n",
    "        return res"
   ]
  },
  {
   "cell_type": "code",
   "execution_count": null,
   "metadata": {},
   "outputs": [],
   "source": []
  },
  {
   "cell_type": "code",
   "execution_count": 19,
   "metadata": {},
   "outputs": [],
   "source": [
    "class Solution:\n",
    "    def maximalRectangle(self, matrix: List[List[str]]) -> int:\n",
    "        if not matrix or not matrix[0]:\n",
    "            return 0\n",
    "        \n",
    "        def getMaxArea(nums):\n",
    "            area = 0\n",
    "            stack = [0]\n",
    "            for i in range(1, len(nums)):\n",
    "                v = nums[i]\n",
    "                while stack and nums[stack[-1]] > v:\n",
    "                    h = nums[stack.pop()]\n",
    "                    w = i - stack[-1] - 1\n",
    "                    area = max(area, h*w)\n",
    "                stack.append(i)\n",
    "            return area\n",
    "        \n",
    "        res = 0\n",
    "        rows, cols = len(matrix), len(matrix[0])\n",
    "        all_vals = []\n",
    "        vals = [0] * cols\n",
    "        for j in range(rows):\n",
    "            for k in range(cols):\n",
    "                if matrix[j][k] == '1':\n",
    "                    vals[k] += 1\n",
    "                else:\n",
    "                    vals[k] = 0\n",
    "            val = [0] + vals+ [0]\n",
    "            res = max(res, getMaxArea(tuple(val)))\n",
    "        return res"
   ]
  },
  {
   "cell_type": "code",
   "execution_count": 20,
   "metadata": {},
   "outputs": [
    {
     "name": "stdout",
     "output_type": "stream",
     "text": [
      "[1, 0, 1, 0, 0]\n",
      "[2, 0, 2, 1, 1]\n",
      "[3, 1, 3, 2, 2]\n",
      "[4, 0, 0, 3, 0]\n"
     ]
    },
    {
     "data": {
      "text/plain": [
       "6"
      ]
     },
     "execution_count": 20,
     "metadata": {},
     "output_type": "execute_result"
    }
   ],
   "source": [
    "solution = Solution()\n",
    "solution.maximalRectangle(matrix = [[\"1\",\"0\",\"1\",\"0\",\"0\"], \n",
    "                                    [\"1\",\"0\",\"1\",\"1\",\"1\"],\n",
    "                                    [\"1\",\"1\",\"1\",\"1\",\"1\"],\n",
    "                                    [\"1\",\"0\",\"0\",\"1\",\"0\"]])"
   ]
  },
  {
   "cell_type": "code",
   "execution_count": null,
   "metadata": {},
   "outputs": [],
   "source": []
  }
 ],
 "metadata": {
  "kernelspec": {
   "display_name": "Python 3",
   "language": "python",
   "name": "python3"
  },
  "language_info": {
   "codemirror_mode": {
    "name": "ipython",
    "version": 3
   },
   "file_extension": ".py",
   "mimetype": "text/x-python",
   "name": "python",
   "nbconvert_exporter": "python",
   "pygments_lexer": "ipython3",
   "version": "3.6.2"
  }
 },
 "nbformat": 4,
 "nbformat_minor": 4
}
