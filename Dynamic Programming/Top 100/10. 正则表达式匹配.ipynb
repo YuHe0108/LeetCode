{
 "cells": [
  {
   "cell_type": "code",
   "execution_count": null,
   "metadata": {},
   "outputs": [],
   "source": []
  },
  {
   "cell_type": "code",
   "execution_count": null,
   "metadata": {},
   "outputs": [],
   "source": []
  },
  {
   "cell_type": "code",
   "execution_count": null,
   "metadata": {},
   "outputs": [],
   "source": []
  },
  {
   "cell_type": "code",
   "execution_count": null,
   "metadata": {},
   "outputs": [],
   "source": []
  },
  {
   "cell_type": "code",
   "execution_count": null,
   "metadata": {},
   "outputs": [],
   "source": [
    "s = xxxxx Y (idx = j)\n",
    "p = xxxxx Z (idx = i) # 如果 Z == '*', 如果 Y == p[i-1]\n",
    "\n",
    "xxxxx a\n",
    "xxxx b*"
   ]
  },
  {
   "cell_type": "code",
   "execution_count": 42,
   "metadata": {},
   "outputs": [],
   "source": [
    "class Solution:\n",
    "    def isMatch(self, s: str, p: str) -> bool:\n",
    "        ns, np = len(s), len(p)\n",
    "        s = '#' + s\n",
    "        p = '#' + p\n",
    "        dp = [[False] * (np+1) for _ in range(ns+1)]\n",
    "        dp[0][0] = True\n",
    "        \n",
    "        # 当 s 为空的时候，也有可能会是 True, 当 p 不匹配任何字符的时候\n",
    "        for j in range(2, np+1): # 星号只有可能从第 2 的索引位置出现\n",
    "            if p[j] == '*': # s='#'  p='#c*'\n",
    "                dp[0][j] = dp[0][j-2]\n",
    "        \n",
    "        for i in range(1, ns+1):\n",
    "            for j in range(1, np+1):\n",
    "                if s[i] == p[j] or p[j] == '.':\n",
    "                    dp[i][j] = dp[i-1][j-1] # 当前字符的位置是匹配的\n",
    "                elif p[j] == '*':\n",
    "                    # \"*\"号之前的字符 p[j-1] 一定得和 s[i] 匹配\n",
    "                    if p[j-1] == s[i] or p[j-1] == '.':\n",
    "                        dp[i][j] = dp[i-1][j] # 表示 '*' 号继续匹配之前的字符\n",
    "                    # \"*\" 不匹配任何字母\n",
    "                    dp[i][j] = dp[i][j] or dp[i][j-2]\n",
    "        return dp[-1][-1]"
   ]
  },
  {
   "cell_type": "code",
   "execution_count": 43,
   "metadata": {},
   "outputs": [
    {
     "data": {
      "text/plain": [
       "True"
      ]
     },
     "execution_count": 43,
     "metadata": {},
     "output_type": "execute_result"
    }
   ],
   "source": [
    "solution = Solution()\n",
    "solution.isMatch(\"ab\", \".*\")"
   ]
  },
  {
   "cell_type": "code",
   "execution_count": null,
   "metadata": {},
   "outputs": [],
   "source": []
  }
 ],
 "metadata": {
  "kernelspec": {
   "display_name": "Python 3",
   "language": "python",
   "name": "python3"
  },
  "language_info": {
   "codemirror_mode": {
    "name": "ipython",
    "version": 3
   },
   "file_extension": ".py",
   "mimetype": "text/x-python",
   "name": "python",
   "nbconvert_exporter": "python",
   "pygments_lexer": "ipython3",
   "version": "3.6.2"
  }
 },
 "nbformat": 4,
 "nbformat_minor": 4
}
