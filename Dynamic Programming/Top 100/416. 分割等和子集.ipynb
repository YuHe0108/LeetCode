{
 "cells": [
  {
   "cell_type": "code",
   "execution_count": null,
   "metadata": {},
   "outputs": [],
   "source": []
  },
  {
   "cell_type": "code",
   "execution_count": null,
   "metadata": {},
   "outputs": [],
   "source": []
  },
  {
   "cell_type": "code",
   "execution_count": null,
   "metadata": {},
   "outputs": [],
   "source": []
  },
  {
   "cell_type": "code",
   "execution_count": null,
   "metadata": {},
   "outputs": [],
   "source": []
  },
  {
   "cell_type": "code",
   "execution_count": 28,
   "metadata": {},
   "outputs": [],
   "source": [
    "from typing import List\n",
    "\n",
    "class Solution:\n",
    "    def canPartition(self, nums: List[int]) -> bool:\n",
    "        sum_val = sum(nums)\n",
    "        if sum_val % 2 == 1:\n",
    "            return False\n",
    "        \n",
    "        target = sum(nums) // 2\n",
    "        dp = [False] * (1 + target)\n",
    "        dp[0] = True\n",
    "        \n",
    "        nums.sort()\n",
    "        for i in range(1, target+1):\n",
    "            for v in nums:\n",
    "                if v > i:\n",
    "                    break\n",
    "                if dp[i] is True:\n",
    "                    break\n",
    "                print(i, v, i-v)\n",
    "                dp[i] = dp[i-v]\n",
    "                \n",
    "        print(dp)\n",
    "        return dp[-1]"
   ]
  },
  {
   "cell_type": "code",
   "execution_count": null,
   "metadata": {},
   "outputs": [],
   "source": []
  },
  {
   "cell_type": "code",
   "execution_count": null,
   "metadata": {},
   "outputs": [],
   "source": []
  },
  {
   "cell_type": "code",
   "execution_count": null,
   "metadata": {},
   "outputs": [],
   "source": []
  },
  {
   "cell_type": "code",
   "execution_count": null,
   "metadata": {},
   "outputs": [],
   "source": []
  },
  {
   "cell_type": "code",
   "execution_count": null,
   "metadata": {},
   "outputs": [],
   "source": [
    "# 背包问题模板：\n",
    "# 大循环遍历物品\n",
    "# 小循环遍历容量\n",
    "class Solution:\n",
    "    def canPartition(self, nums: List[int]) -> bool:\n",
    "        sum_val = sum(nums)\n",
    "        if sum_val % 2 == 1:\n",
    "            return False\n",
    "        # 每一个数字都可以选择或者不选择\n",
    "        target = sum_val // 2\n",
    "        dp = [False] * (target + 1) # dp[i] 表示是否能够构成一个subset，其和为i\n",
    "        dp[0] = True\n",
    "        for i in nums:\n",
    "            temp = dp[::]\n",
    "            for j in range(target+1):\n",
    "                if j-i >= 0 and dp[j-i]:\n",
    "                    temp[j] = True\n",
    "            dp = temp\n",
    "        return dp[-1]"
   ]
  },
  {
   "cell_type": "code",
   "execution_count": 89,
   "metadata": {},
   "outputs": [],
   "source": [
    "from typing import List\n",
    "\n",
    "class Solution:\n",
    "    def canPartition(self, nums: List[int]) -> bool:\n",
    "        sum_val = sum(nums)\n",
    "        if sum_val % 2 == 1:\n",
    "            return False\n",
    "        \n",
    "        target = sum_val // 2\n",
    "        if target in nums:\n",
    "            return True\n",
    "        \n",
    "        n = len(nums)\n",
    "        vals = {nums[0]}\n",
    "        \n",
    "        for i in range(1, n):\n",
    "            v = nums[i]\n",
    "            temp = set()\n",
    "            for k in vals:\n",
    "                new_v = k + v\n",
    "                if new_v == target:\n",
    "                    return True\n",
    "                temp.add(k + v)\n",
    "            \n",
    "            for k in temp:\n",
    "                vals.add(k)\n",
    "        return False"
   ]
  },
  {
   "cell_type": "code",
   "execution_count": null,
   "metadata": {},
   "outputs": [],
   "source": []
  },
  {
   "cell_type": "code",
   "execution_count": 97,
   "metadata": {},
   "outputs": [],
   "source": [
    "class Solution:\n",
    "    def canPartition(self, nums: List[int]) -> bool:\n",
    "        sum_val = sum(nums)\n",
    "        if sum_val % 2 == 1:\n",
    "            return False\n",
    "        # 每一个数字都可以选择或者不选择\n",
    "        target = sum_val // 2\n",
    "        dp = [False] * (target + 1)\n",
    "        dp[0] = True\n",
    "        for v in nums:\n",
    "            temp = dp[::]\n",
    "            for i in range(1, target+1):\n",
    "                if i - v >= 0 and dp[i-v] is True:\n",
    "                    temp[i] = True\n",
    "            dp = temp\n",
    "        return dp[-1]"
   ]
  },
  {
   "cell_type": "code",
   "execution_count": 98,
   "metadata": {},
   "outputs": [
    {
     "data": {
      "text/plain": [
       "False"
      ]
     },
     "execution_count": 98,
     "metadata": {},
     "output_type": "execute_result"
    }
   ],
   "source": [
    "solution = Solution()\n",
    "solution.canPartition([1,2,5])"
   ]
  },
  {
   "cell_type": "code",
   "execution_count": 87,
   "metadata": {},
   "outputs": [],
   "source": [
    "a = {1}\n",
    "b = {2}\n",
    "c = a.union(b)"
   ]
  },
  {
   "cell_type": "code",
   "execution_count": 88,
   "metadata": {},
   "outputs": [
    {
     "data": {
      "text/plain": [
       "{1, 2}"
      ]
     },
     "execution_count": 88,
     "metadata": {},
     "output_type": "execute_result"
    }
   ],
   "source": [
    "c"
   ]
  },
  {
   "cell_type": "code",
   "execution_count": null,
   "metadata": {},
   "outputs": [],
   "source": []
  }
 ],
 "metadata": {
  "kernelspec": {
   "display_name": "Python 3",
   "language": "python",
   "name": "python3"
  },
  "language_info": {
   "codemirror_mode": {
    "name": "ipython",
    "version": 3
   },
   "file_extension": ".py",
   "mimetype": "text/x-python",
   "name": "python",
   "nbconvert_exporter": "python",
   "pygments_lexer": "ipython3",
   "version": "3.6.2"
  }
 },
 "nbformat": 4,
 "nbformat_minor": 4
}
