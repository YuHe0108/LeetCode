{
 "cells": [
  {
   "cell_type": "code",
   "execution_count": null,
   "metadata": {},
   "outputs": [],
   "source": []
  },
  {
   "cell_type": "code",
   "execution_count": null,
   "metadata": {},
   "outputs": [],
   "source": []
  },
  {
   "cell_type": "code",
   "execution_count": null,
   "metadata": {},
   "outputs": [],
   "source": []
  },
  {
   "cell_type": "code",
   "execution_count": 51,
   "metadata": {},
   "outputs": [],
   "source": [
    "class Solution:\n",
    "    def longestPalindrome(self, s: str) -> str:\n",
    "        n = len(s)\n",
    "        dp = [[0] * n for _ in range(n)]\n",
    "        res = s[0]\n",
    "        max_len = 1 # 最长回文子数组的长度\n",
    "        for i in range(n):\n",
    "            dp[i][i] = 1\n",
    "            if i < n-1 and s[i] == s[i+1]:\n",
    "                dp[i][i+1] = 2\n",
    "                max_len = 2\n",
    "                res = s[i:i+2]\n",
    "    \n",
    "        for gap in range(3, n+1):\n",
    "            for start in range(1, n-gap+2):\n",
    "                end = start + gap - 1\n",
    "                if s[start] == s[end]:\n",
    "                    dp[start][end] = dp[start+1][end-1] + 2\n",
    "                else:\n",
    "                    dp[start][end] = max(dp[start][end], dp[start+1][end], dp[start][end-1])\n",
    "                print(dp[start][end], start, end)\n",
    "                if dp[start][end] > max_len:\n",
    "                    max_len = dp[start][end]\n",
    "                    res = s[start:end+1]\n",
    "        return res"
   ]
  },
  {
   "cell_type": "code",
   "execution_count": null,
   "metadata": {},
   "outputs": [],
   "source": []
  },
  {
   "cell_type": "code",
   "execution_count": null,
   "metadata": {},
   "outputs": [],
   "source": [
    "class Solution:\n",
    "    def longestPalindrome(self, s: str) -> str:\n",
    "        # 使用双指针的做法\n",
    "        @lru_cache(None)\n",
    "        def check(sub_str):\n",
    "            return sub_str == sub_str[::-1]\n",
    "        \n",
    "        n = len(s)\n",
    "        res = s[0]\n",
    "        for gap in range(n, 1, -1):\n",
    "            for start in range(n-gap+1):\n",
    "                end = start + gap - 1\n",
    "                sub_str = s[start:end+1]\n",
    "                if check(sub_str):\n",
    "                    return sub_str\n",
    "        return res"
   ]
  },
  {
   "cell_type": "code",
   "execution_count": 73,
   "metadata": {},
   "outputs": [],
   "source": [
    "class Solution:\n",
    "    def longestPalindrome(self, s: str) -> str:\n",
    "        # 使用双指针的做法\n",
    "        n = len(s)\n",
    "        res = s[0]\n",
    "        for gap in range(n, 1, -1):\n",
    "            for start in range(n-gap+1):\n",
    "                end = start + gap - 1\n",
    "                sub_str = s[start:end+1]\n",
    "                if sub_str == sub_str[::-1]:\n",
    "                    return sub_str\n",
    "        return res"
   ]
  },
  {
   "cell_type": "code",
   "execution_count": null,
   "metadata": {},
   "outputs": [],
   "source": []
  },
  {
   "cell_type": "code",
   "execution_count": null,
   "metadata": {},
   "outputs": [],
   "source": []
  },
  {
   "cell_type": "code",
   "execution_count": null,
   "metadata": {},
   "outputs": [],
   "source": []
  },
  {
   "cell_type": "code",
   "execution_count": null,
   "metadata": {},
   "outputs": [],
   "source": [
    "class Solution:\n",
    "    def longestPalindrome(self, s: str) -> str:\n",
    "        n = len(s)\n",
    "        if n == 1 or s == s[::-1]: \n",
    "            return s\n",
    "        \n",
    "        max_len, start = 1, 0\n",
    "        for i in range(1, n):\n",
    "            even = s[i-max_len:i+1]\n",
    "            odd = s[i-max_len-1:i+1]\n",
    "            if i - max_len - 1 >= 0 and odd == odd[::-1]:\n",
    "                start = i - max_len - 1\n",
    "                max_len += 2\n",
    "                continue\n",
    "            if i - max_len >= 0 and even == even[::-1]:\n",
    "                start = i - max_len\n",
    "                max_len += 1\n",
    "        return s[start:start + max_len]"
   ]
  },
  {
   "cell_type": "code",
   "execution_count": 79,
   "metadata": {},
   "outputs": [],
   "source": [
    "class Solution:\n",
    "    def longestPalindrome(self, s: str) -> str:\n",
    "        # 使用 DP 做法\n",
    "        n = len(s)\n",
    "        dp = [[0] * n for _ in range(n)]\n",
    "        res = s[0]\n",
    "        for i in range(n):\n",
    "            dp[i][i] = 1\n",
    "        \n",
    "        for gap in range(2, n+1):\n",
    "            for start in range(n-gap+1):\n",
    "                end = start + gap-1\n",
    "                if s[start] == s[end] and dp[start+1][end-1] == end-start-1:\n",
    "                    dp[start][end] = dp[start+1][end-1] + 2\n",
    "                    res = s[start:end+1]\n",
    "        return res"
   ]
  },
  {
   "cell_type": "code",
   "execution_count": 80,
   "metadata": {},
   "outputs": [
    {
     "data": {
      "text/plain": [
       "'aca'"
      ]
     },
     "execution_count": 80,
     "metadata": {},
     "output_type": "execute_result"
    }
   ],
   "source": [
    "solution = Solution()\n",
    "solution.longestPalindrome(s = \"aacabdkacaa\")"
   ]
  },
  {
   "cell_type": "code",
   "execution_count": null,
   "metadata": {},
   "outputs": [],
   "source": []
  },
  {
   "cell_type": "code",
   "execution_count": null,
   "metadata": {},
   "outputs": [],
   "source": []
  }
 ],
 "metadata": {
  "kernelspec": {
   "display_name": "Python 3",
   "language": "python",
   "name": "python3"
  },
  "language_info": {
   "codemirror_mode": {
    "name": "ipython",
    "version": 3
   },
   "file_extension": ".py",
   "mimetype": "text/x-python",
   "name": "python",
   "nbconvert_exporter": "python",
   "pygments_lexer": "ipython3",
   "version": "3.6.2"
  }
 },
 "nbformat": 4,
 "nbformat_minor": 4
}
