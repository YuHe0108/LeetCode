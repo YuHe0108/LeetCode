{
 "cells": [
  {
   "cell_type": "code",
   "execution_count": null,
   "metadata": {},
   "outputs": [],
   "source": []
  },
  {
   "cell_type": "code",
   "execution_count": null,
   "metadata": {},
   "outputs": [],
   "source": []
  },
  {
   "cell_type": "code",
   "execution_count": null,
   "metadata": {},
   "outputs": [],
   "source": []
  },
  {
   "cell_type": "code",
   "execution_count": 6,
   "metadata": {},
   "outputs": [],
   "source": [
    "from typing import List\n",
    "\n",
    "class Solution:\n",
    "    def findTargetSumWays(self, nums: List[int], target: int) -> int:\n",
    "        # 使用状态压缩的方法 0：'-', 1: '+'\n",
    "        # 超时\n",
    "        n = len(nums)\n",
    "        total = 1 << n\n",
    "        \n",
    "        cnt = 0\n",
    "        for state in range(total): # pow(2, n)\n",
    "            cur = 0\n",
    "            for i in range(n):\n",
    "                bit_val = (state >> i) & 1\n",
    "                if bit_val == 1:\n",
    "                    cur += nums[i]\n",
    "                else:\n",
    "                    cur -= nums[i]\n",
    "            cnt += cur == target\n",
    "        return cnt"
   ]
  },
  {
   "cell_type": "code",
   "execution_count": null,
   "metadata": {},
   "outputs": [],
   "source": []
  },
  {
   "cell_type": "code",
   "execution_count": null,
   "metadata": {},
   "outputs": [],
   "source": []
  },
  {
   "cell_type": "code",
   "execution_count": null,
   "metadata": {},
   "outputs": [],
   "source": []
  },
  {
   "cell_type": "code",
   "execution_count": null,
   "metadata": {},
   "outputs": [],
   "source": []
  },
  {
   "cell_type": "code",
   "execution_count": null,
   "metadata": {},
   "outputs": [],
   "source": []
  },
  {
   "cell_type": "code",
   "execution_count": null,
   "metadata": {},
   "outputs": [],
   "source": [
    "class Solution:\n",
    "    def findTargetSumWays(self, nums: List[int], S: int) -> int:\n",
    "        total = sum(nums)\n",
    "        if S > total or (S+total)&1: return 0\n",
    "\n",
    "        target = (S + total) // 2\n",
    "        dp = [1] + [0]*target\n",
    "\n",
    "        for num in nums:\n",
    "            for i in range(target, num-1, -1):\n",
    "                dp[i] += dp[i-num]\n",
    "\n",
    "        return dp[target]"
   ]
  },
  {
   "cell_type": "code",
   "execution_count": 16,
   "metadata": {},
   "outputs": [],
   "source": [
    "from typing import List\n",
    "from collections import defaultdict\n",
    "\n",
    "class Solution:\n",
    "    def findTargetSumWays(self, nums: List[int], target: int) -> int:\n",
    "        count = defaultdict(int)\n",
    "        count[nums[0]] = 1\n",
    "        count[-nums[0]] = 1 if nums[0] != 0 else 2\n",
    "        n = len(nums)\n",
    "        for i in range(1, n):\n",
    "            v = nums[i]\n",
    "            temp = defaultdict(int)\n",
    "            for k, f in count.items():\n",
    "                temp[k - v] += f\n",
    "                temp[k + v] += f\n",
    "            count = temp\n",
    "        return count[target]"
   ]
  },
  {
   "cell_type": "code",
   "execution_count": 17,
   "metadata": {},
   "outputs": [
    {
     "data": {
      "text/plain": [
       "5"
      ]
     },
     "execution_count": 17,
     "metadata": {},
     "output_type": "execute_result"
    }
   ],
   "source": [
    "solution = Solution()\n",
    "solution.findTargetSumWays(nums=[1, 1, 1, 1, 1], target= 3)"
   ]
  },
  {
   "cell_type": "code",
   "execution_count": null,
   "metadata": {},
   "outputs": [],
   "source": []
  }
 ],
 "metadata": {
  "kernelspec": {
   "display_name": "Python 3",
   "language": "python",
   "name": "python3"
  },
  "language_info": {
   "codemirror_mode": {
    "name": "ipython",
    "version": 3
   },
   "file_extension": ".py",
   "mimetype": "text/x-python",
   "name": "python",
   "nbconvert_exporter": "python",
   "pygments_lexer": "ipython3",
   "version": "3.6.2"
  }
 },
 "nbformat": 4,
 "nbformat_minor": 4
}
