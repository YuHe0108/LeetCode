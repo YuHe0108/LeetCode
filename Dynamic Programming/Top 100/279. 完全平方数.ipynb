{
 "cells": [
  {
   "cell_type": "code",
   "execution_count": null,
   "metadata": {},
   "outputs": [],
   "source": []
  },
  {
   "cell_type": "code",
   "execution_count": null,
   "metadata": {},
   "outputs": [],
   "source": []
  },
  {
   "cell_type": "code",
   "execution_count": null,
   "metadata": {},
   "outputs": [],
   "source": [
    "3\n",
    "1\n",
    "2\n",
    "3"
   ]
  },
  {
   "cell_type": "code",
   "execution_count": null,
   "metadata": {},
   "outputs": [],
   "source": []
  },
  {
   "cell_type": "code",
   "execution_count": 41,
   "metadata": {},
   "outputs": [],
   "source": [
    "class Solution:\n",
    "    def numSquares(self, n: int) -> int:\n",
    "        pow_nums = set()\n",
    "        val = 1\n",
    "        while pow(val, 2) <= n:\n",
    "            pow_nums.add(pow(val, 2))\n",
    "            val += 1\n",
    "                \n",
    "        dp = [x for x in range(1+n)] \n",
    "        for i in range(3, n+1):\n",
    "            if i in pow_nums:\n",
    "                dp[i] = 1\n",
    "            else:\n",
    "                for v in pow_nums:\n",
    "                    if v > i:\n",
    "                        break\n",
    "                    dp[i] = min(dp[i], dp[v] + dp[i-v])\n",
    "        print(dp)\n",
    "        return dp[-1]"
   ]
  },
  {
   "cell_type": "code",
   "execution_count": 42,
   "metadata": {},
   "outputs": [
    {
     "name": "stdout",
     "output_type": "stream",
     "text": [
      "[0, 1, 2, 3, 1, 2, 3, 4, 2, 1, 2, 3, 3, 2, 3, 4, 1, 2, 3, 4, 2, 3, 4, 5, 3, 1, 2, 3, 4, 2, 3, 4, 5, 3, 4, 5, 1, 2, 3, 4, 2, 2, 3, 4]\n"
     ]
    },
    {
     "data": {
      "text/plain": [
       "4"
      ]
     },
     "execution_count": 42,
     "metadata": {},
     "output_type": "execute_result"
    }
   ],
   "source": [
    "solution = Solution()\n",
    "solution.numSquares(43)"
   ]
  },
  {
   "cell_type": "code",
   "execution_count": null,
   "metadata": {},
   "outputs": [],
   "source": [
    "    1 2 3 1 2 3 4 2 1 2 3 3 2 3 4 \n",
    "    1 2 3 1 2 3 4 2 1 2 3 3 2 3 4, \n",
    "    \n",
    "    1 2 2 3 2 3 3 4 3 1 2 3 4 2 3\n",
    "    1 2 3 4 2 3 4 5 3 1 2 3 4 2 3 \n",
    "    4 5 3 4 5 1 2 3 4 2 2 3 4"
   ]
  }
 ],
 "metadata": {
  "kernelspec": {
   "display_name": "Python 3",
   "language": "python",
   "name": "python3"
  },
  "language_info": {
   "codemirror_mode": {
    "name": "ipython",
    "version": 3
   },
   "file_extension": ".py",
   "mimetype": "text/x-python",
   "name": "python",
   "nbconvert_exporter": "python",
   "pygments_lexer": "ipython3",
   "version": "3.6.2"
  }
 },
 "nbformat": 4,
 "nbformat_minor": 4
}
