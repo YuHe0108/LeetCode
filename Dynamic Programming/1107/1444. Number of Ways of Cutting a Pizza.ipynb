{
 "cells": [
  {
   "cell_type": "raw",
   "metadata": {},
   "source": [
    "说明：\n",
    "    给你一个 rows x cols 大小的矩形披萨和一个整数 k ，矩形包含两种字符： 'A' （表示苹果）和 '.' （表示空白格子）。\n",
    "    你需要切披萨 k-1 次，得到 k 块披萨并送给别人。\n",
    "\n",
    "    切披萨的每一刀，先要选择是向垂直还是水平方向切，再在矩形的边界上选一个切的位置，将披萨一分为二。\n",
    "    如果垂直地切披萨，那么需要把左边的部分送给一个人，如果水平地切，那么需要把上面的部分送给一个人。\n",
    "    在切完最后一刀后，需要把剩下来的一块送给最后一个人。\n",
    "\n",
    "    请你返回确保每一块披萨包含 至少 一个苹果的切披萨方案数。\n",
    "    由于答案可能是个很大的数字，请你返回它对 10^9 + 7 取余的结果。"
   ]
  },
  {
   "cell_type": "markdown",
   "metadata": {},
   "source": [
    "<img src='https://assets.leetcode.com/uploads/2020/04/23/ways_to_cut_apple_1.png' width=600>"
   ]
  },
  {
   "cell_type": "raw",
   "metadata": {},
   "source": [
    "    Input: pizza = [\"A..\",\"AAA\",\"...\"], k = 3\n",
    "    Output: 3 \n",
    "    Explanation: The figure above shows the three ways to cut the pizza. Note that pieces must contain at least one apple.\n",
    "\n",
    "Example 2:\n",
    "    Input: pizza = [\"A..\",\"AA.\",\"...\"], k = 3\n",
    "    Output: 1\n",
    "\n",
    "Example 3:\n",
    "    Input: pizza = [\"A..\",\"A..\",\"...\"], k = 1\n",
    "    Output: 1\n",
    "\n",
    "Constraints:\n",
    "    1、1 <= rows, cols <= 50\n",
    "    2、rows == pizza.length\n",
    "    3、cols == pizza[i].length\n",
    "    4、1 <= k <= 10\n",
    "    5、pizza consists of characters 'A' and '.' only."
   ]
  },
  {
   "cell_type": "markdown",
   "metadata": {},
   "source": [
    "<img src='1444.jpg'>"
   ]
  },
  {
   "cell_type": "code",
   "execution_count": 24,
   "metadata": {},
   "outputs": [],
   "source": [
    "class Solution:\n",
    "    def ways(self, pizza, k: int) -> int:\n",
    "        \n",
    "        def dfs(cur_r, cur_c, k):\n",
    "            nonlocal memo\n",
    "            key = (cur_r, cur_c, k)\n",
    "            if key in memo:\n",
    "                return memo[key]\n",
    "            \n",
    "            if presum[cur_r][cur_c] == 0: # 首先检查剩下的pizza有没有苹果\n",
    "                return 0\n",
    "            if k == 0:\n",
    "                return 1\n",
    "            \n",
    "            cnt = 0\n",
    "            for next_r in range(cur_r + 1, rows):\n",
    "                if presum[cur_r][cur_c] - presum[next_r][cur_c] > 0:\n",
    "                    cnt += dfs(next_r, cur_c, k-1)\n",
    "            \n",
    "            for next_c in range(cur_c + 1, cols):\n",
    "                if presum[cur_r][cur_c] - presum[cur_r][next_c] > 0:\n",
    "                    cnt += dfs(cur_r, next_c, k-1)\n",
    "            \n",
    "            memo[key] = cnt\n",
    "            return cnt\n",
    "        \n",
    "        rows, cols = len(pizza), len(pizza[0])\n",
    "        presum = [[0] * (cols + 1) for _ in range(rows + 1)] # 矩阵左上角到右下角的所有元素之和\n",
    "        for r in range(rows-1, -1, -1):\n",
    "            for c in range(cols-1, -1, -1):\n",
    "                val = 1 if pizza[r][c] == 'A' else 0\n",
    "                presum[r][c] = presum[r+1][c] + presum[r][c+1] - presum[r+1][c+1] + val\n",
    "        \n",
    "        memo = {}\n",
    "        M = pow(10, 9) + 7\n",
    "        return dfs(0, 0, k-1) % M"
   ]
  },
  {
   "cell_type": "code",
   "execution_count": 26,
   "metadata": {},
   "outputs": [
    {
     "data": {
      "text/plain": [
       "1"
      ]
     },
     "execution_count": 26,
     "metadata": {},
     "output_type": "execute_result"
    }
   ],
   "source": [
    "solution = Solution()\n",
    "solution.ways(pizza = [\"A..\",\"AA.\",\"...\"], k = 3)"
   ]
  },
  {
   "cell_type": "code",
   "execution_count": null,
   "metadata": {},
   "outputs": [],
   "source": [
    "\n",
    "[[4, 2, 1, 0], \n",
    " [3, 2, 1, 0], \n",
    " [0, 0, 0, 0], \n",
    " [0, 0, 0, 0]]\n",
    "\n",
    "[\"A..\",\n",
    " \"AAA\",\n",
    " \"...\"]"
   ]
  }
 ],
 "metadata": {
  "kernelspec": {
   "display_name": "Python 3",
   "language": "python",
   "name": "python3"
  },
  "language_info": {
   "codemirror_mode": {
    "name": "ipython",
    "version": 3
   },
   "file_extension": ".py",
   "mimetype": "text/x-python",
   "name": "python",
   "nbconvert_exporter": "python",
   "pygments_lexer": "ipython3",
   "version": "3.6.2"
  }
 },
 "nbformat": 4,
 "nbformat_minor": 4
}
