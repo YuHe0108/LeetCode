{
 "cells": [
  {
   "cell_type": "raw",
   "metadata": {},
   "source": [
    "说明：    \n",
    "    给你一个数组 nums 表示 1 到 n 的一个排列。\n",
    "    我们按照元素在 nums 中的顺序依次插入一个初始为空的二叉查找树（BST）。\n",
    "    请你统计将 nums 重新排序后，统计满足如下条件的方案数：\n",
    "        重排后得到的二叉查找树与 nums 原本数字顺序得到的二叉查找树相同。\n",
    "\n",
    "    比方说，给你 nums = [2,1,3]，我们得到一棵 2 为根，1 为左孩子，3 为右孩子的树。\n",
    "    数组 [2,3,1] 也能得到相同的 BST，但 [3,2,1] 会得到一棵不同的 BST 。\n",
    "\n",
    "    请你返回重排 nums 后，与原数组 nums 得到相同二叉查找树的方案数。\n",
    "    由于答案可能会很大，请将结果对 10^9 + 7 取余数。\n",
    "\n",
    "示例 3：\n",
    "    输入：nums = [1,2,3]\n",
    "    输出：0\n",
    "    解释：没有别的排列顺序能得到相同的 BST 。\n",
    "\n",
    "示例  5：\n",
    "    输入：nums = [9,4,2,1,3,6,5,7,8,14,11,10,12,13,16,15,17,18]\n",
    "    输出：216212978\n",
    "    解释：得到相同 BST 的方案数是 3216212999。将它对 10^9 + 7 取余后得到 216212978。\n",
    "\n",
    "提示：\n",
    "    1、1 <= nums.length <= 1000\n",
    "    2、1 <= nums[i] <= nums.length\n",
    "    3、nums 中所有数 互不相同 。"
   ]
  },
  {
   "cell_type": "markdown",
   "metadata": {},
   "source": [
    "<img src='https://assets.leetcode-cn.com/aliyun-lc-upload/uploads/2020/08/30/bb.png'>"
   ]
  },
  {
   "cell_type": "raw",
   "metadata": {},
   "source": [
    "示例 1：\n",
    "    输入：nums = [2,1,3]\n",
    "    输出：1\n",
    "    解释：我们将 nums 重排， [2,3,1] 能得到相同的 BST 。\n",
    "          没有其他得到相同 BST 的方案了。"
   ]
  },
  {
   "cell_type": "markdown",
   "metadata": {},
   "source": [
    "<img src='https://assets.leetcode-cn.com/aliyun-lc-upload/uploads/2020/08/30/ex1.png'>"
   ]
  },
  {
   "cell_type": "raw",
   "metadata": {},
   "source": [
    "示例 2：\n",
    "    输入：nums = [3,4,5,1,2]\n",
    "    输出：5\n",
    "    解释：\n",
    "        下面 5 个数组会得到相同的 BST：\n",
    "        [3,1,2,4,5]\n",
    "        [3,1,4,2,5]\n",
    "        [3,1,4,5,2]\n",
    "        [3,4,1,2,5]\n",
    "        [3,4,1,5,2]"
   ]
  },
  {
   "cell_type": "markdown",
   "metadata": {},
   "source": [
    "<img src='https://assets.leetcode-cn.com/aliyun-lc-upload/uploads/2020/08/30/abc.png'>"
   ]
  },
  {
   "cell_type": "raw",
   "metadata": {},
   "source": [
    "示例 4：\n",
    "    输入：nums = [3,1,2,5,4,6]\n",
    "    输出：19"
   ]
  },
  {
   "cell_type": "code",
   "execution_count": 26,
   "metadata": {},
   "outputs": [],
   "source": [
    "class Solution:\n",
    "    def numOfWays(self, nums) -> int:\n",
    "        \n",
    "        def combination(L, R):\n",
    "            return (factorial[L + R]) // (factorial[R] * factorial[L])\n",
    "        \n",
    "        def dfs(arr):\n",
    "            if len(arr) <= 2:\n",
    "                return 1\n",
    "            root = arr[0]\n",
    "            left = [x for x in arr if x < root]\n",
    "            right = [x for x in arr if x > root]\n",
    "            # 左边的树有多少种可能性 * 右边的树有多少种可能性 * C(l, r)\n",
    "            return dfs(left) * dfs(right) * combination(len(left), len(right)) \n",
    "        \n",
    "        M = pow(10, 9) + 7\n",
    "        factorial = [1, 1]\n",
    "        for i in range(2, len(nums) + 1):\n",
    "            factorial.append(factorial[-1] * i)\n",
    "        return (dfs(nums) - 1) % M"
   ]
  },
  {
   "cell_type": "code",
   "execution_count": 27,
   "metadata": {},
   "outputs": [
    {
     "data": {
      "text/plain": [
       "5"
      ]
     },
     "execution_count": 27,
     "metadata": {},
     "output_type": "execute_result"
    }
   ],
   "source": [
    "solution = Solution()\n",
    "solution.numOfWays([3,4,5,1,2])"
   ]
  },
  {
   "cell_type": "code",
   "execution_count": 7,
   "metadata": {},
   "outputs": [
    {
     "name": "stdout",
     "output_type": "stream",
     "text": [
      "720\n"
     ]
    }
   ],
   "source": []
  },
  {
   "cell_type": "code",
   "execution_count": null,
   "metadata": {},
   "outputs": [],
   "source": []
  }
 ],
 "metadata": {
  "kernelspec": {
   "display_name": "Python 3",
   "language": "python",
   "name": "python3"
  },
  "language_info": {
   "codemirror_mode": {
    "name": "ipython",
    "version": 3
   },
   "file_extension": ".py",
   "mimetype": "text/x-python",
   "name": "python",
   "nbconvert_exporter": "python",
   "pygments_lexer": "ipython3",
   "version": "3.6.2"
  }
 },
 "nbformat": 4,
 "nbformat_minor": 4
}
