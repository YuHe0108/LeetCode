{
 "cells": [
  {
   "cell_type": "raw",
   "metadata": {},
   "source": [
    "说明：\n",
    "    给出 graph 为有 N 个节点（编号为 0, 1, 2, ..., N-1）的无向连通图。 \n",
    "    graph.length = N，且只有节点 i 和 j 连通时，j != i 在列表 graph[i] 中恰好出现一次。\n",
    "    返回能够访问所有节点的最短路径的长度。\n",
    "    你可以在任一节点开始和停止，也可以多次重访节点，并且可以重用边。\n",
    "\n",
    "示例 1：\n",
    "    输入：[[1,2,3],[0],[0],[0]]\n",
    "    输出：4\n",
    "    解释：一个可能的路径为 [1,0,2,0,3]\n",
    "\n",
    "示例 2：\n",
    "    输入：[[1],[0,2,4],[1,3,4],[2],[1,2]]\n",
    "    输出：4\n",
    "    解释：一个可能的路径为 [0,1,4,2,3]\n",
    "\n",
    "提示：\n",
    "    1、1 <= graph.length <= 12\n",
    "    2、0 <= graph[i].length < graph.length"
   ]
  },
  {
   "cell_type": "code",
   "execution_count": 52,
   "metadata": {},
   "outputs": [],
   "source": [
    "import queue\n",
    "\n",
    "class Solution:\n",
    "    def shortestPathLength(self, graph) -> int:\n",
    "        N = len(graph)\n",
    "        final_state = 0\n",
    "        for i in range(N):\n",
    "            final_state |= 1 << i\n",
    "       \n",
    "        pqueue = queue.deque() # [node, state] 节点以及当前节点的状态\n",
    "        seen = set()\n",
    "        # 四个节点，每个节点都可以去或者不去，一共 8 个状态\n",
    "        # 0000:哪个节点都没有去\n",
    "        # 0001：去过了一号节点\n",
    "        # 0010 0100 1000\n",
    "        for i in range(N):\n",
    "            pqueue.append((i, 1 << i))\n",
    "            seen.add((i, 1 << i))\n",
    "            \n",
    "        step = -1\n",
    "        while pqueue:\n",
    "            step += 1\n",
    "            \n",
    "            q_len = len(pqueue)\n",
    "            while q_len > 0:\n",
    "                node, state = pqueue.popleft()\n",
    "               \n",
    "                for n_node in graph[node]:\n",
    "                    # 1 << node代表走过n_node的二进制表示，将其与 state 进行或运算\n",
    "                    n_state = state | (1 << n_node) \n",
    "                    \n",
    "                    if n_state == final_state:\n",
    "                        return step + 1\n",
    "                    if (n_node, n_state) not in seen:\n",
    "                        pqueue.append((n_node, n_state))\n",
    "                        seen.add((n_node, n_state))\n",
    "                q_len -= 1\n",
    "        return 0"
   ]
  },
  {
   "cell_type": "code",
   "execution_count": 53,
   "metadata": {},
   "outputs": [
    {
     "name": "stdout",
     "output_type": "stream",
     "text": [
      "1\n",
      "2\n",
      "4\n",
      "8\n"
     ]
    },
    {
     "data": {
      "text/plain": [
       "4"
      ]
     },
     "execution_count": 53,
     "metadata": {},
     "output_type": "execute_result"
    }
   ],
   "source": [
    "solution = Solution()\n",
    "solution.shortestPathLength([[1,2,3],[0],[0],[0]])"
   ]
  },
  {
   "cell_type": "code",
   "execution_count": 51,
   "metadata": {},
   "outputs": [
    {
     "data": {
      "text/plain": [
       "'0b10'"
      ]
     },
     "execution_count": 51,
     "metadata": {},
     "output_type": "execute_result"
    }
   ],
   "source": [
    "bin(1 << 1)"
   ]
  },
  {
   "cell_type": "code",
   "execution_count": null,
   "metadata": {},
   "outputs": [],
   "source": [
    "# 0001\n",
    "# 0010\n",
    "# 0100\n",
    "# 1000"
   ]
  }
 ],
 "metadata": {
  "kernelspec": {
   "display_name": "Python 3",
   "language": "python",
   "name": "python3"
  },
  "language_info": {
   "codemirror_mode": {
    "name": "ipython",
    "version": 3
   },
   "file_extension": ".py",
   "mimetype": "text/x-python",
   "name": "python",
   "nbconvert_exporter": "python",
   "pygments_lexer": "ipython3",
   "version": "3.6.2"
  }
 },
 "nbformat": 4,
 "nbformat_minor": 4
}
