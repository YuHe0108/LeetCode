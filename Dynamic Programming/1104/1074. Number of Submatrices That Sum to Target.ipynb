{
 "cells": [
  {
   "cell_type": "raw",
   "metadata": {},
   "source": [
    "说明：\n",
    "    给出矩阵 matrix 和目标值 target，返回元素总和等于目标值的非空子矩阵的数量。\n",
    "\n",
    "    子矩阵 x1, y1, x2, y2 是满足 x1 <= x <= x2 且 y1 <= y <= y2 的所有单元 matrix[x][y] 的集合。\n",
    "\n",
    "    如果 (x1, y1, x2, y2) 和 (x1', y1', x2', y2') 两个子矩阵中部分坐标不同（如：x1 != x1'），那么这两个子矩阵也不同。\n",
    " \n",
    "示例 1：\n",
    "    输入：matrix = [[0,1,0],\n",
    "                   [1,1,1],\n",
    "                   [0,1,0]], target = 0\n",
    "    输出：4\n",
    "    解释：四个只含 0 的 1x1 子矩阵。\n",
    "\n",
    "示例 2：\n",
    "    输入：matrix = [[1,-1],\n",
    "                   [-1,1]], target = 0\n",
    "    输出：5\n",
    "    解释：两个 1x2 子矩阵，加上两个 2x1 子矩阵，再加上一个 2x2 子矩阵。\n",
    "\n",
    "提示：\n",
    "    1、1 <= matrix.length <= 300\n",
    "    2、1 <= matrix[0].length <= 300\n",
    "    3、-1000 <= matrix[i] <= 1000\n",
    "    4、-10^8 <= target <= 10^8"
   ]
  },
  {
   "cell_type": "markdown",
   "metadata": {},
   "source": [
    "<img src='https://assets.leetcode.com/uploads/2020/09/02/mate1.jpg'>"
   ]
  },
  {
   "cell_type": "code",
   "execution_count": 10,
   "metadata": {},
   "outputs": [],
   "source": [
    "from collections import defaultdict\n",
    "\n",
    "class Solution:\n",
    "    def numSubmatrixSumTarget(self, matrix, target: int) -> int:\n",
    "        rows, cols = len(matrix), len(matrix[0])\n",
    "        \n",
    "        def calc(arr):\n",
    "            cnt = 0\n",
    "            presum = 0\n",
    "            record = defaultdict(int)\n",
    "            record[0] = 1\n",
    "            for i in range(cols):\n",
    "                presum += arr[i]\n",
    "                if presum - target in record:\n",
    "                    cnt += record[presum - target]\n",
    "                record[presum] += 1\n",
    "            return cnt\n",
    "        \n",
    "        count = 0\n",
    "        for i in range(rows):\n",
    "            temp = [0] * cols\n",
    "            for j in range(i, rows):\n",
    "                for k in range(cols):\n",
    "                    temp[k] += matrix[j][k]\n",
    "                # 寻找sub_matrix == target的值\n",
    "                print(temp, i, j)\n",
    "                count += calc(temp)\n",
    "        return count"
   ]
  },
  {
   "cell_type": "code",
   "execution_count": 12,
   "metadata": {},
   "outputs": [
    {
     "name": "stdout",
     "output_type": "stream",
     "text": [
      "[0, 1, 0] 0 0\n",
      "[1, 2, 1] 0 1\n",
      "[1, 3, 1] 0 2\n",
      "[1, 1, 1] 1 1\n",
      "[1, 2, 1] 1 2\n",
      "[0, 1, 0] 2 2\n"
     ]
    },
    {
     "data": {
      "text/plain": [
       "4"
      ]
     },
     "execution_count": 12,
     "metadata": {},
     "output_type": "execute_result"
    }
   ],
   "source": [
    "solution = Solution()\n",
    "solution.numSubmatrixSumTarget([[0,1,0],\n",
    "                               [1,1,1],\n",
    "                               [0,1,0]], 0)"
   ]
  },
  {
   "cell_type": "code",
   "execution_count": 8,
   "metadata": {},
   "outputs": [],
   "source": [
    "from collections import defaultdict\n",
    "\n",
    "target = 0\n",
    "cols = 4\n",
    "def calc(arr):\n",
    "    cnt = 0\n",
    "    presum = 0\n",
    "    record = defaultdict(int)\n",
    "    record[0] = 1\n",
    "    for i in range(cols):\n",
    "        presum += arr[i]\n",
    "        if presum - target in record:\n",
    "            print(presum, target, record)\n",
    "            cnt += record[presum - target]\n",
    "        record[presum] += 1\n",
    "    print(record)\n",
    "    return cnt"
   ]
  },
  {
   "cell_type": "code",
   "execution_count": 9,
   "metadata": {},
   "outputs": [
    {
     "name": "stdout",
     "output_type": "stream",
     "text": [
      "0 0 defaultdict(<class 'int'>, {0: 1})\n",
      "3 0 defaultdict(<class 'int'>, {0: 2, 1: 1, 3: 1})\n",
      "defaultdict(<class 'int'>, {0: 2, 1: 1, 3: 2})\n"
     ]
    },
    {
     "data": {
      "text/plain": [
       "2"
      ]
     },
     "execution_count": 9,
     "metadata": {},
     "output_type": "execute_result"
    }
   ],
   "source": [
    "calc([0, 1, 2, 0])"
   ]
  },
  {
   "cell_type": "code",
   "execution_count": null,
   "metadata": {},
   "outputs": [],
   "source": []
  }
 ],
 "metadata": {
  "kernelspec": {
   "display_name": "Python 3",
   "language": "python",
   "name": "python3"
  },
  "language_info": {
   "codemirror_mode": {
    "name": "ipython",
    "version": 3
   },
   "file_extension": ".py",
   "mimetype": "text/x-python",
   "name": "python",
   "nbconvert_exporter": "python",
   "pygments_lexer": "ipython3",
   "version": "3.6.2"
  }
 },
 "nbformat": 4,
 "nbformat_minor": 4
}
