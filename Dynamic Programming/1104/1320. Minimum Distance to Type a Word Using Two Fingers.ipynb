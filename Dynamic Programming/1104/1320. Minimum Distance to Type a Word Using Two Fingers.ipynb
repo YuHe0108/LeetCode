{
 "cells": [
  {
   "cell_type": "raw",
   "metadata": {},
   "source": [
    "说明：\n",
    "    二指输入法定制键盘在 XY 平面上的布局如下图所示，其中每个大写英文字母都位于某个坐标处，例如：\n",
    "        字母 A 位于坐标 (0,0)，字母 B 位于坐标 (0,1)，字母 P 位于坐标 (2,3) 且字母 Z 位于坐标 (4,1)。\n",
    "    给你一个待输入字符串 word，请你计算并返回在仅使用两根手指的情况下，键入该字符串需要的最小移动总距离。\n",
    "    坐标 (x1,y1) 和 (x2,y2) 之间的距离是 |x1 - x2| + |y1 - y2|。 \n",
    "    注意，两根手指的起始位置是零代价的，不计入移动总距离。\n",
    "    你的两根手指的起始位置也不必从首字母或者前两个字母开始。   "
   ]
  },
  {
   "cell_type": "markdown",
   "metadata": {},
   "source": [
    "<img src='https://assets.leetcode-cn.com/aliyun-lc-upload/uploads/2020/01/11/leetcode_keyboard.png'>"
   ]
  },
  {
   "cell_type": "raw",
   "metadata": {},
   "source": [
    "示例 1：\n",
    "    输入：word = \"CAKE\"\n",
    "    输出：3\n",
    "    解释： \n",
    "        使用两根手指输入 \"CAKE\" 的最佳方案之一是： \n",
    "        手指 1 在字母 'C' 上 -> 移动距离 = 0 \n",
    "        手指 1 在字母 'A' 上 -> 移动距离 = 从字母 'C' 到字母 'A' 的距离 = 2 \n",
    "        手指 2 在字母 'K' 上 -> 移动距离 = 0 \n",
    "        手指 2 在字母 'E' 上 -> 移动距离 = 从字母 'K' 到字母 'E' 的距离  = 1 \n",
    "        总距离 = 3\n",
    "\n",
    "示例 2：\n",
    "    输入：word = \"HAPPY\"\n",
    "    输出：6\n",
    "    解释： \n",
    "        使用两根手指输入 \"HAPPY\" 的最佳方案之一是：\n",
    "        手指 1 在字母 'H' 上 -> 移动距离 = 0\n",
    "        手指 1 在字母 'A' 上 -> 移动距离 = 从字母 'H' 到字母 'A' 的距离 = 2\n",
    "        手指 2 在字母 'P' 上 -> 移动距离 = 0\n",
    "        手指 2 在字母 'P' 上 -> 移动距离 = 从字母 'P' 到字母 'P' 的距离 = 0\n",
    "        手指 1 在字母 'Y' 上 -> 移动距离 = 从字母 'A' 到字母 'Y' 的距离 = 4\n",
    "        总距离 = 6\n",
    "\n",
    "示例 3：\n",
    "    输入：word = \"NEW\"\n",
    "    输出：3\n",
    "    \n",
    "示例 4：\n",
    "    输入：word = \"YEAR\"\n",
    "    输出：7\n",
    "\n",
    "提示：\n",
    "    1、2 <= word.length <= 300\n",
    "    2、每个 word[i] 都是一个大写英文字母。"
   ]
  },
  {
   "cell_type": "markdown",
   "metadata": {},
   "source": [
    "<img src='1320.jpg'>"
   ]
  },
  {
   "cell_type": "code",
   "execution_count": 68,
   "metadata": {},
   "outputs": [],
   "source": [
    "class Solution:\n",
    "    def minimumDistance(self, word: str) -> int:\n",
    "        # dp[k][i][j] word[0:k] 左手在i \n",
    "        dp = [[[float('inf')]  * 26 for _ in range(26)] for _ in range(len(word))]\n",
    "        \n",
    "        first_w = ord(word[0]) - ord('A')\n",
    "        for i in range(26):\n",
    "            dp[0][first_w][i] = 0\n",
    "            dp[0][i][first_w] = 0\n",
    "        \n",
    "        for k in range(1, len(word)):\n",
    "            ch = ord(word[k]) - ord('A')\n",
    "            for i in range(26): # 左手所在位置可能的值\n",
    "                for j in range(26): # 右手所在位置可能的值\n",
    "                    # 左手任意位置，右手在 ch 上，右手之前的位置可以位于26个子母中的任意一个位置上\n",
    "                    dp[k][i][ch] = min(dp[k][i][ch], dp[k-1][i][j] + self.get_dist(ch, j))\n",
    "                    # 遍历，两个手指分别在 i 和 j 上时，右手移动到 ch 上所需要的距离\n",
    "                    # 目的在于：左手在 ch 上，右手在 j 上的最小值\n",
    "                    dp[k][ch][j] = min(dp[k][ch][j], dp[k-1][j][i] + self.get_dist(ch, i)) \n",
    "\n",
    "        res = float('inf')\n",
    "        last = ord(word[-1]) - ord('A')\n",
    "        for i in range(26):\n",
    "            res = min(res, dp[-1][last][i], dp[-1][i][last])\n",
    "        return res\n",
    "    \n",
    "    def get_dist(self, A, B):\n",
    "        A = chr(A + 65)\n",
    "        B = chr(B + 65)\n",
    "        alpha_dict = {'A': [0,0], 'B': [0,1], 'C': [0,2], 'D': [0,3], 'E': [0,4], 'F': [0,5],\n",
    "                           'G': [1,0], 'H': [1,1], 'I': [0,2], 'J': [1,3], 'K': [1,4], 'L': [1,5],\n",
    "                           'M': [2,0], 'N': [2,1], 'O': [2,2], 'P': [2,3], 'Q': [2,4], 'R': [2,5],\n",
    "                           'S': [3,0], 'T': [3,1], 'U': [3,2], 'V': [3,3], 'W': [3,4], 'X': [3,5],\n",
    "                           'Y': [4,0], 'Z': [4,1]}\n",
    "        # 返回 A->B 的距离\n",
    "        X = abs(alpha_dict[A][0] - alpha_dict[B][0])\n",
    "        Y = abs(alpha_dict[A][1] - alpha_dict[B][1])\n",
    "        return X + Y\n",
    "\n",
    "#     def get_dist(self, A, B):\n",
    "#         a_x = A // 6\n",
    "#         a_y = A % 6\n",
    "#         b_x = B // 6\n",
    "#         b_y = B % 6\n",
    "#         return abs(a_x - b_x) + abs(a_y - b_y)\n"
   ]
  },
  {
   "cell_type": "code",
   "execution_count": 90,
   "metadata": {},
   "outputs": [],
   "source": [
    "class Solution:\n",
    "    def minimumDistance(self, word: str) -> int:\n",
    "        # dp[k][i]: 一个手指在 word[k], 另一个手指在 i 上，第k轮的时候，肯定有一个手指在word[k]上\n",
    "        # 第 k-1 轮：word[k-1], 0-26\n",
    "        # 第 k 轮：word[k], i\n",
    "        # 可以从两个手指中的任意一个位置移动过来，\n",
    "        # 1、如果是从 word[k-1] 移动到 wod[k], 那么另一个手指一定是i，下一个状态也是i\n",
    "        # dp[k][i] = dp[k-1][i] + dist(word[k-1], word[k])\n",
    "        # 2、如果不是从word[k-1]转移过来，那么肯定是从另一个不是 word[k-1]的手指转移过来\n",
    "        # dp[k][i] = dp[k-1][cur] + dist(word[k-1], i)\n",
    "        def get_dist(A, B):\n",
    "            a_x, a_y = A // 6, A % 6\n",
    "            b_x, b_y = B // 6, B % 6\n",
    "            return abs(a_x - b_x) + abs(a_y - b_y)\n",
    "\n",
    "        n = len(word)\n",
    "        dp = [[float('inf')]  * 26 for _ in range(n)]\n",
    "        dp[0][:] = [0] * 26\n",
    "        \n",
    "        for k in range(1, n):\n",
    "            cur = ord(word[k]) - ord('A')\n",
    "            pre = ord(word[k-1]) - ord('A')\n",
    "            for i in range(26):\n",
    "                dp[k][i] = min(dp[k][i], \n",
    "                               dp[k-1][i] + get_dist(pre, cur), \n",
    "                               dp[k-1][cur] + get_dist(pre, i))\n",
    "        return min(dp[-1][:])"
   ]
  },
  {
   "cell_type": "code",
   "execution_count": 91,
   "metadata": {},
   "outputs": [
    {
     "data": {
      "text/plain": [
       "6"
      ]
     },
     "execution_count": 91,
     "metadata": {},
     "output_type": "execute_result"
    }
   ],
   "source": [
    "solution = Solution()\n",
    "solution.minimumDistance(word = \"LSGQE\")"
   ]
  },
  {
   "cell_type": "code",
   "execution_count": null,
   "metadata": {},
   "outputs": [],
   "source": []
  },
  {
   "cell_type": "code",
   "execution_count": null,
   "metadata": {},
   "outputs": [],
   "source": []
  },
  {
   "cell_type": "code",
   "execution_count": null,
   "metadata": {},
   "outputs": [],
   "source": []
  },
  {
   "cell_type": "code",
   "execution_count": null,
   "metadata": {},
   "outputs": [],
   "source": []
  },
  {
   "cell_type": "code",
   "execution_count": null,
   "metadata": {},
   "outputs": [],
   "source": []
  },
  {
   "cell_type": "code",
   "execution_count": null,
   "metadata": {},
   "outputs": [],
   "source": []
  },
  {
   "cell_type": "code",
   "execution_count": null,
   "metadata": {},
   "outputs": [],
   "source": []
  },
  {
   "cell_type": "code",
   "execution_count": 13,
   "metadata": {},
   "outputs": [],
   "source": [
    "A = 1\n",
    "A = chr(A + 65)"
   ]
  },
  {
   "cell_type": "code",
   "execution_count": 14,
   "metadata": {},
   "outputs": [
    {
     "data": {
      "text/plain": [
       "'B'"
      ]
     },
     "execution_count": 14,
     "metadata": {},
     "output_type": "execute_result"
    }
   ],
   "source": [
    "A"
   ]
  },
  {
   "cell_type": "code",
   "execution_count": null,
   "metadata": {},
   "outputs": [],
   "source": [
    "                          \n",
    "#     def get_dist(self, A, B):\n",
    "#         A = chr(A + 65)\n",
    "#         B = chr(B + 65)\n",
    "#         # 返回 A->B 的距离\n",
    "#         X = abs(self.alpha_dict[A][0] - self.alpha_dict[B][0])\n",
    "#         Y = abs(self.alpha_dict[A][1] - self.alpha_dict[B][1])\n",
    "#         return X + Y\n",
    "\n",
    "#         self.alpha_dict = {'A': [0,0], 'B': [0,1], 'C': [0,2], 'D': [0,3], 'E': [0,4], 'F': [0,5],\n",
    "#                            'G': [1,0], 'H': [1,1], 'I': [0,2], 'J': [1,3], 'K': [1,4], 'L': [1,5],\n",
    "#                            'M': [2,0], 'N': [2,1], 'O': [2,2], 'P': [2,3], 'Q': [2,4], 'R': [2,5],\n",
    "#                            'S': [3,0], 'T': [3,1], 'U': [3,2], 'V': [3,3], 'W': [3,4], 'X': [3,5],\n",
    "#                            'Y': [4,0], 'Z': [4,1]}"
   ]
  },
  {
   "cell_type": "code",
   "execution_count": 66,
   "metadata": {},
   "outputs": [],
   "source": [
    "def get_dist(A, B):\n",
    "    a_x = A // 6\n",
    "    a_y = A % 6\n",
    "    b_x = B // 6\n",
    "    b_y = B % 6\n",
    "    return abs(a_x - b_x) + abs(a_y - b_y)"
   ]
  },
  {
   "cell_type": "code",
   "execution_count": 67,
   "metadata": {},
   "outputs": [
    {
     "name": "stdout",
     "output_type": "stream",
     "text": [
      "0 0\n"
     ]
    },
    {
     "data": {
      "text/plain": [
       "2"
      ]
     },
     "execution_count": 67,
     "metadata": {},
     "output_type": "execute_result"
    }
   ],
   "source": [
    "get_dist(0, 6)"
   ]
  },
  {
   "cell_type": "code",
   "execution_count": null,
   "metadata": {},
   "outputs": [],
   "source": []
  }
 ],
 "metadata": {
  "kernelspec": {
   "display_name": "Python 3",
   "language": "python",
   "name": "python3"
  },
  "language_info": {
   "codemirror_mode": {
    "name": "ipython",
    "version": 3
   },
   "file_extension": ".py",
   "mimetype": "text/x-python",
   "name": "python",
   "nbconvert_exporter": "python",
   "pygments_lexer": "ipython3",
   "version": "3.6.2"
  }
 },
 "nbformat": 4,
 "nbformat_minor": 4
}
