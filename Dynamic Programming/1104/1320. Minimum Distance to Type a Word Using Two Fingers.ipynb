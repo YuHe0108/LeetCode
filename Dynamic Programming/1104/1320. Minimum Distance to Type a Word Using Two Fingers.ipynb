{
 "cells": [
  {
   "cell_type": "raw",
   "metadata": {},
   "source": [
    "说明：\n",
    "    二指输入法定制键盘在 XY 平面上的布局如下图所示，其中每个大写英文字母都位于某个坐标处，例如：\n",
    "        字母 A 位于坐标 (0,0)，字母 B 位于坐标 (0,1)，字母 P 位于坐标 (2,3) 且字母 Z 位于坐标 (4,1)。\n",
    "    给你一个待输入字符串 word，请你计算并返回在仅使用两根手指的情况下，键入该字符串需要的最小移动总距离。\n",
    "    坐标 (x1,y1) 和 (x2,y2) 之间的距离是 |x1 - x2| + |y1 - y2|。 \n",
    "    注意，两根手指的起始位置是零代价的，不计入移动总距离。\n",
    "    你的两根手指的起始位置也不必从首字母或者前两个字母开始。   "
   ]
  },
  {
   "cell_type": "markdown",
   "metadata": {},
   "source": [
    "<img src='https://assets.leetcode-cn.com/aliyun-lc-upload/uploads/2020/01/11/leetcode_keyboard.png'>"
   ]
  },
  {
   "cell_type": "raw",
   "metadata": {},
   "source": [
    "示例 1：\n",
    "    输入：word = \"CAKE\"\n",
    "    输出：3\n",
    "    解释： \n",
    "        使用两根手指输入 \"CAKE\" 的最佳方案之一是： \n",
    "        手指 1 在字母 'C' 上 -> 移动距离 = 0 \n",
    "        手指 1 在字母 'A' 上 -> 移动距离 = 从字母 'C' 到字母 'A' 的距离 = 2 \n",
    "        手指 2 在字母 'K' 上 -> 移动距离 = 0 \n",
    "        手指 2 在字母 'E' 上 -> 移动距离 = 从字母 'K' 到字母 'E' 的距离  = 1 \n",
    "        总距离 = 3\n",
    "\n",
    "示例 2：\n",
    "    输入：word = \"HAPPY\"\n",
    "    输出：6\n",
    "    解释： \n",
    "        使用两根手指输入 \"HAPPY\" 的最佳方案之一是：\n",
    "        手指 1 在字母 'H' 上 -> 移动距离 = 0\n",
    "        手指 1 在字母 'A' 上 -> 移动距离 = 从字母 'H' 到字母 'A' 的距离 = 2\n",
    "        手指 2 在字母 'P' 上 -> 移动距离 = 0\n",
    "        手指 2 在字母 'P' 上 -> 移动距离 = 从字母 'P' 到字母 'P' 的距离 = 0\n",
    "        手指 1 在字母 'Y' 上 -> 移动距离 = 从字母 'A' 到字母 'Y' 的距离 = 4\n",
    "        总距离 = 6\n",
    "\n",
    "示例 3：\n",
    "    输入：word = \"NEW\"\n",
    "    输出：3\n",
    "    \n",
    "示例 4：\n",
    "    输入：word = \"YEAR\"\n",
    "    输出：7\n",
    "\n",
    "提示：\n",
    "    1、2 <= word.length <= 300\n",
    "    2、每个 word[i] 都是一个大写英文字母。"
   ]
  },
  {
   "cell_type": "code",
   "execution_count": null,
   "metadata": {},
   "outputs": [],
   "source": []
  }
 ],
 "metadata": {
  "kernelspec": {
   "display_name": "Python 3",
   "language": "python",
   "name": "python3"
  },
  "language_info": {
   "codemirror_mode": {
    "name": "ipython",
    "version": 3
   },
   "file_extension": ".py",
   "mimetype": "text/x-python",
   "name": "python",
   "nbconvert_exporter": "python",
   "pygments_lexer": "ipython3",
   "version": "3.6.2"
  }
 },
 "nbformat": 4,
 "nbformat_minor": 4
}
