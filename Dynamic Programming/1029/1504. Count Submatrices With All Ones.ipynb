{
 "cells": [
  {
   "cell_type": "raw",
   "metadata": {},
   "source": [
    "说明：\n",
    "    给你一个只包含 0 和 1 的 rows * columns 矩阵 mat ，请你返回有多少个 子矩形 的元素全部都是 1 。\n",
    "\n",
    "示例 1：\n",
    "    输入：mat = [[1,0,1],\n",
    "                [1,1,0],\n",
    "                [1,1,0]]\n",
    "    输出：13\n",
    "    解释：\n",
    "        有 6 个 1x1 的矩形。\n",
    "        有 2 个 1x2 的矩形。\n",
    "        有 3 个 2x1 的矩形。\n",
    "        有 1 个 2x2 的矩形。\n",
    "        有 1 个 3x1 的矩形。\n",
    "    矩形数目总共 = 6 + 2 + 3 + 1 + 1 = 13 。\n",
    "\n",
    "示例 2：\n",
    "    输入：mat = [[0,1,1,0],\n",
    "                [0,1,1,1],\n",
    "                [1,1,1,0]]\n",
    "    输出：24\n",
    "    解释：\n",
    "    有 8 个 1x1 的子矩形。\n",
    "    有 5 个 1x2 的子矩形。\n",
    "    有 2 个 1x3 的子矩形。\n",
    "    有 4 个 2x1 的子矩形。\n",
    "    有 2 个 2x2 的子矩形。\n",
    "    有 2 个 3x1 的子矩形。\n",
    "    有 1 个 3x2 的子矩形。\n",
    "    矩形数目总共 = 8 + 5 + 2 + 4 + 2 + 2 + 1 = 24 。\n",
    "\n",
    "示例 3：\n",
    "    输入：mat = [[1,1,1,1,1,1]]\n",
    "    输出：21\n",
    "    示例 4：\n",
    "    \n",
    "输入：mat = [[1,0,1],[0,1,0],[1,0,1]]\n",
    "输出：5\n",
    "\n",
    "提示：\n",
    "    1、1 <= rows <= 150\n",
    "    2、1 <= columns <= 150\n",
    "    3、0 <= mat[i][j] <= 1"
   ]
  },
  {
   "cell_type": "code",
   "execution_count": 3,
   "metadata": {},
   "outputs": [],
   "source": [
    "import copy\n",
    "\n",
    "class Solution:\n",
    "    def numSubmat(self, mat) -> int:\n",
    "        rows, cols = len(mat), len(mat[0])\n",
    "        dp = copy.deepcopy(mat)\n",
    "        res = 0\n",
    "        for r in range(rows):\n",
    "            for c in range(cols):\n",
    "                if mat[r][c] == 1:\n",
    "                    if r-1 >= 0 and c-1 >= 0:\n",
    "                        if dp[r][c-1] > 0 and dp[r-1][c] > 0:\n",
    "                            dp[r][c] = max(dp[r][c-1], dp[r-1][c]) + 1\n",
    "                            res += dp[r][c-1] + dp[r-1][c] + 1\n",
    "                        elif dp[r][c-1] > 0:\n",
    "                            dp[r][c] = dp[r][c-1] + 1\n",
    "                            res += dp[r][c]\n",
    "                        elif dp[r-1][c] > 0:\n",
    "                            dp[r][c] = dp[r-1][c] + 1\n",
    "                            res += dp[r][c]\n",
    "                    elif r-1 >= 0:\n",
    "                        dp[r][c] = dp[r-1][c] + 1\n",
    "                        res += dp[r][c]\n",
    "                    elif c-1 >= 0:\n",
    "                        dp[r][c] = dp[r][c-1] + 1\n",
    "                        res += dp[r][c]\n",
    "        print(dp)\n",
    "        return res"
   ]
  },
  {
   "cell_type": "code",
   "execution_count": 18,
   "metadata": {},
   "outputs": [],
   "source": [
    "import copy\n",
    "\n",
    "class Solution:\n",
    "    def numSubmat(self, mat) -> int:\n",
    "        rows, cols = len(mat), len(mat[0])\n",
    "        \n",
    "        # 用于统计每一行1的宽度\n",
    "        one_count = copy.deepcopy(mat)\n",
    "        for i in range(rows):\n",
    "            for j in range(cols-1, -1, -1):\n",
    "                if mat[i][j] == 1 and j + 1 < cols:\n",
    "                    one_count[i][j] += one_count[i][j+1]\n",
    "        \n",
    "        res = 0\n",
    "        # 每次只考虑左上角的 1 能形成矩形的数量。\n",
    "        for r in range(rows):\n",
    "            for c in range(cols):\n",
    "                if mat[r][c] == 1:\n",
    "                    min_width = float('inf')\n",
    "                    for k in range(r, rows):\n",
    "                        min_width = min(min_width, one_count[k][c])\n",
    "                        print(min_width)\n",
    "                        res += min_width\n",
    "        return res"
   ]
  },
  {
   "cell_type": "code",
   "execution_count": 19,
   "metadata": {},
   "outputs": [
    {
     "name": "stdout",
     "output_type": "stream",
     "text": [
      "1\n",
      "1\n",
      "1\n",
      "1\n",
      "0\n",
      "0\n",
      "2\n",
      "2\n",
      "1\n",
      "1\n",
      "2\n",
      "1\n"
     ]
    },
    {
     "data": {
      "text/plain": [
       "13"
      ]
     },
     "execution_count": 19,
     "metadata": {},
     "output_type": "execute_result"
    }
   ],
   "source": [
    "solution = Solution()\n",
    "solution.numSubmat([[1,0,1],\n",
    "                    [1,1,0],\n",
    "                    [1,1,0]])"
   ]
  },
  {
   "cell_type": "code",
   "execution_count": null,
   "metadata": {},
   "outputs": [],
   "source": []
  }
 ],
 "metadata": {
  "kernelspec": {
   "display_name": "Python 3",
   "language": "python",
   "name": "python3"
  },
  "language_info": {
   "codemirror_mode": {
    "name": "ipython",
    "version": 3
   },
   "file_extension": ".py",
   "mimetype": "text/x-python",
   "name": "python",
   "nbconvert_exporter": "python",
   "pygments_lexer": "ipython3",
   "version": "3.6.2"
  }
 },
 "nbformat": 4,
 "nbformat_minor": 4
}
