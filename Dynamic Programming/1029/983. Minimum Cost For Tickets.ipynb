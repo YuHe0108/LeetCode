{
 "cells": [
  {
   "cell_type": "raw",
   "metadata": {},
   "source": [
    "说明：\n",
    "    在一个火车旅行很受欢迎的国度，你提前一年计划了一些火车旅行。\n",
    "    在接下来的一年里，你要旅行的日子将以一个名为 days 的数组给出。\n",
    "    每一项是一个从 1 到 365 的整数。\n",
    "    \n",
    "    火车票有三种不同的销售方式：\n",
    "        1、一张为期一天的通行证售价为 costs[0] 美元；\n",
    "        2、一张为期七天的通行证售价为 costs[1] 美元；\n",
    "        3、一张为期三十天的通行证售价为 costs[2] 美元。\n",
    "        4、通行证允许数天无限制的旅行。 \n",
    "        \n",
    "    例如，如果我们在第 2 天获得一张为期 7 天的通行证，\n",
    "    那么我们可以连着旅行 7 天：第 2 天、第 3 天、第 4 天、第 5 天、第 6 天、第 7 天和第 8 天。\n",
    "    返回你想要完成在给定的列表 days 中列出的每一天的旅行所需要的最低消费。\n",
    "\n",
    "示例 1：\n",
    "\n",
    "    输入：days = [1,4,6,7,8,20], costs = [2,7,15]\n",
    "    输出：11\n",
    "    解释： \n",
    "        例如，这里有一种购买通行证的方法，可以让你完成你的旅行计划：\n",
    "        在第 1 天，你花了 costs[0] = $2 买了一张为期 1 天的通行证，它将在第 1 天生效。\n",
    "        在第 3 天，你花了 costs[1] = $7 买了一张为期 7 天的通行证，它将在第 3, 4, ..., 9 天生效。\n",
    "        在第 20 天，你花了 costs[0] = $2 买了一张为期 1 天的通行证，它将在第 20 天生效。\n",
    "        你总共花了 $11，并完成了你计划的每一天旅行。\n",
    "\n",
    "示例 2：\n",
    "    输入：days = [1,2,3,4,5,6,7,8,9,10,30,31], costs = [2,7,15]\n",
    "    输出：17\n",
    "    解释：\n",
    "        例如，这里有一种购买通行证的方法，可以让你完成你的旅行计划： \n",
    "        在第 1 天，你花了 costs[2] = $15 买了一张为期 30 天的通行证，它将在第 1, 2, ..., 30 天生效。\n",
    "        在第 31 天，你花了 costs[0] = $2 买了一张为期 1 天的通行证，它将在第 31 天生效。 \n",
    "        你总共花了 $17，并完成了你计划的每一天旅行。\n",
    "\n",
    "提示：\n",
    "    1、1 <= days.length <= 365\n",
    "    2、1 <= days[i] <= 365\n",
    "    3、days 按顺序严格递增\n",
    "    4、costs.length == 3\n",
    "    5、1 <= costs[i] <= 1000"
   ]
  },
  {
   "cell_type": "code",
   "execution_count": 53,
   "metadata": {},
   "outputs": [],
   "source": [
    "class Solution:\n",
    "    def mincostTickets(self, days, costs) -> int:\n",
    "        set_day = set(days)\n",
    "        max_day = max(days)\n",
    "        dp = [float('inf')] * (max_day + 1)\n",
    "        dp[0] = 0\n",
    "        for i in range(1, max_day + 1):\n",
    "            if i not in set_day:\n",
    "                dp[i] = dp[i-1]\n",
    "            else:\n",
    "                sol_1 = sol_7 = sol_30 = float('inf')\n",
    "                sol_1 = dp[max(i-1, 0)] + costs[0]\n",
    "                sol_7 = dp[max(i-7, 0)] + costs[1]\n",
    "                sol_30 = dp[max(i-30, 0)] + costs[2]\n",
    "                dp[i] = min(sol_1, sol_7, sol_30)\n",
    "        print(dp)\n",
    "        return dp[-1]"
   ]
  },
  {
   "cell_type": "code",
   "execution_count": 54,
   "metadata": {},
   "outputs": [
    {
     "name": "stdout",
     "output_type": "stream",
     "text": [
      "[0, 2, 2, 2, 2, 2, 2, 2, 4, 4, 4, 4, 4, 4, 4, 4, 4, 4, 4, 4, 6]\n"
     ]
    },
    {
     "data": {
      "text/plain": [
       "6"
      ]
     },
     "execution_count": 54,
     "metadata": {},
     "output_type": "execute_result"
    }
   ],
   "source": [
    "solution = Solution()\n",
    "solution.mincostTickets([1,4,6,7,8,20], [7,2,15])"
   ]
  },
  {
   "cell_type": "code",
   "execution_count": 38,
   "metadata": {},
   "outputs": [],
   "source": [
    "sol_1 = sol_7 = sol_30 = float('inf')"
   ]
  },
  {
   "cell_type": "code",
   "execution_count": 15,
   "metadata": {},
   "outputs": [],
   "source": [
    "sol_1 = 10"
   ]
  },
  {
   "cell_type": "code",
   "execution_count": 16,
   "metadata": {},
   "outputs": [
    {
     "name": "stdout",
     "output_type": "stream",
     "text": [
      "10 inf\n"
     ]
    }
   ],
   "source": [
    "print(sol_1, sol_7)"
   ]
  },
  {
   "cell_type": "code",
   "execution_count": null,
   "metadata": {},
   "outputs": [],
   "source": []
  }
 ],
 "metadata": {
  "kernelspec": {
   "display_name": "Python 3",
   "language": "python",
   "name": "python3"
  },
  "language_info": {
   "codemirror_mode": {
    "name": "ipython",
    "version": 3
   },
   "file_extension": ".py",
   "mimetype": "text/x-python",
   "name": "python",
   "nbconvert_exporter": "python",
   "pygments_lexer": "ipython3",
   "version": "3.6.2"
  }
 },
 "nbformat": 4,
 "nbformat_minor": 4
}
