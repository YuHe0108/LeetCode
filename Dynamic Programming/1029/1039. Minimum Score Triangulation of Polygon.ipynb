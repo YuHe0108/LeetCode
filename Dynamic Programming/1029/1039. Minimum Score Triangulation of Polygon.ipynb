{
 "cells": [
  {
   "cell_type": "raw",
   "metadata": {},
   "source": [
    "说明：\n",
    "    给定 N，想象一个凸 N 边多边形，其顶点按顺时针顺序依次标记为 A[0], A[i], ..., A[N-1]。\n",
    "    假设您将多边形剖分为 N-2 个三角形。\n",
    "    对于每个三角形，该三角形的值是顶点标记的乘积，三角剖分的分数是进行三角剖分后所有 N-2 个三角形的值之和。\n",
    "    返回多边形进行三角剖分后可以得到的最低分。\n",
    "\n",
    "\n",
    "示例 2：\n",
    "    输入：[3,7,4,5]\n",
    "    输出：144\n",
    "    解释：有两种三角剖分，可能得分分别为：3*7*5 + 4*5*7 = 245，或 3*4*5 + 3*4*7 = 144。最低分数为 144。\n",
    "\n",
    "示例 3：\n",
    "    输入：[1,3,1,4,1,5]\n",
    "    输出：13\n",
    "    解释：最低分数三角剖分的得分情况为 1*1*3 + 1*1*4 + 1*1*5 + 1*1*1 = 13。\n",
    "\n",
    "提示：\n",
    "    1、3 <= A.length <= 50\n",
    "    2、1 <= A[i] <= 100"
   ]
  },
  {
   "cell_type": "markdown",
   "metadata": {},
   "source": [
    "<img src='https://assets.leetcode.com/uploads/2019/05/01/minimum-score-triangulation-of-polygon-1.png'>"
   ]
  },
  {
   "cell_type": "raw",
   "metadata": {},
   "source": [
    "示例 1：\n",
    "    输入：[1,2,3]\n",
    "    输出：6\n",
    "    解释：多边形已经三角化，唯一三角形的分数为 6。"
   ]
  },
  {
   "cell_type": "code",
   "execution_count": 1,
   "metadata": {},
   "outputs": [],
   "source": [
    "class Solution:\n",
    "    def minScoreTriangulation(self, A):\n",
    "        N = len(A)\n",
    "        dp = [[float('inf')] * N for _ in range(N)]\n",
    "        \n",
    "        for i in range(N-1):\n",
    "            dp[i][i+1] = 0\n",
    "        \n",
    "        for dis in range(3, N + 1):\n",
    "            for i in range(N - dis + 1):\n",
    "                j = i + dis - 1\n",
    "                for k in range(i + 1, j):\n",
    "                    dp[i][j] = min(dp[i][j], dp[i][k] + A[i] * A[j] * A[k] + dp[k][j])\n",
    "        return dp[0][-1]"
   ]
  },
  {
   "cell_type": "code",
   "execution_count": 3,
   "metadata": {},
   "outputs": [
    {
     "data": {
      "text/plain": [
       "144"
      ]
     },
     "execution_count": 3,
     "metadata": {},
     "output_type": "execute_result"
    }
   ],
   "source": [
    "solution = Solution()\n",
    "solution.minScoreTriangulation([3,7,4,5])"
   ]
  },
  {
   "cell_type": "code",
   "execution_count": null,
   "metadata": {},
   "outputs": [],
   "source": []
  }
 ],
 "metadata": {
  "kernelspec": {
   "display_name": "Python 3",
   "language": "python",
   "name": "python3"
  },
  "language_info": {
   "codemirror_mode": {
    "name": "ipython",
    "version": 3
   },
   "file_extension": ".py",
   "mimetype": "text/x-python",
   "name": "python",
   "nbconvert_exporter": "python",
   "pygments_lexer": "ipython3",
   "version": "3.6.2"
  }
 },
 "nbformat": 4,
 "nbformat_minor": 4
}
