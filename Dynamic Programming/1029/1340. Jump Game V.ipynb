{
 "cells": [
  {
   "cell_type": "raw",
   "metadata": {},
   "source": [
    "说明：\n",
    "    给你一个整数数组 arr 和一个整数 d 。每一步你可以从下标 i 跳到：\n",
    "    \n",
    "        1、i + x ，其中 i + x < arr.length 且 0 < x <= d 。\n",
    "        2、i - x ，其中 i - x >= 0 且 0 < x <= d 。\n",
    "        \n",
    "    除此以外，你从下标 i 跳到下标 j 需要满足：arr[i] > arr[j] 且 arr[i] > arr[k] ，\n",
    "    其中下标 k 是所有 i 到 j 之间的数字, 即 min(i, j) < k < max(i, j)。\n",
    "    你可以选择数组的任意下标开始跳跃。\n",
    "    请你返回你 最多 可以访问多少个下标。\n",
    "    请注意，任何时刻你都不能跳到数组的外面。"
   ]
  },
  {
   "cell_type": "markdown",
   "metadata": {},
   "source": [
    "<img src='https://assets.leetcode-cn.com/aliyun-lc-upload/uploads/2020/02/02/meta-chart.jpeg'>"
   ]
  },
  {
   "cell_type": "raw",
   "metadata": {},
   "source": [
    "例1：\n",
    "    输入：arr = [6,4,14,6,8,13,9,7,10,6,12], d = 2\n",
    "    输出：4\n",
    "    解释：\n",
    "        你可以从下标 10 出发，然后如上图依次经过 10 --> 8 --> 6 --> 7 。\n",
    "        注意，如果你从下标 6 开始，你只能跳到下标 7 处。你不能跳到下标 5 处因为 13 > 9 。\n",
    "        你也不能跳到下标 4 处，因为下标 5 在下标 4 和 6 之间且 13 > 9 。\n",
    "        类似的，你不能从下标 3 处跳到下标 2 或者下标 1 处。\n",
    "\n",
    "示例 2：\n",
    "    输入：arr = [3,3,3,3,3], d = 3\n",
    "    输出：1\n",
    "    解释：你可以从任意下标处开始且你永远无法跳到任何其他坐标。\n",
    "\n",
    "示例 3：\n",
    "    输入：arr = [7,6,5,4,3,2,1], d = 1\n",
    "    输出：7\n",
    "    解释：从下标 0 处开始，你可以按照数值从大到小，访问所有的下标。\n",
    "\n",
    "示例 4：\n",
    "    输入：arr = [7,1,7,1,7,1], d = 2\n",
    "    输出：2\n",
    "\n",
    "示例 5：\n",
    "    输入：arr = [66], d = 1\n",
    "    输出：1\n",
    "\n",
    "提示：\n",
    "    1、1 <= arr.length <= 1000\n",
    "    2、1 <= arr[i] <= 10^5\n",
    "    3、1 <= d <= arr.length"
   ]
  },
  {
   "cell_type": "code",
   "execution_count": 12,
   "metadata": {},
   "outputs": [],
   "source": [
    "class Solution:\n",
    "    def maxJumps(self, arr, d: int) -> int:\n",
    "        self.mem = [0] * 1001 # 记忆在每个柱子上所能调到的最多柱子数\n",
    "        res = -float('inf')\n",
    "        for i in range(len(arr)):\n",
    "            res = max(res, self.dfs(i, arr, d))\n",
    "        return res\n",
    "    \n",
    "    def dfs(self, idx, arr, d):\n",
    "        if self.mem[idx] != 0: \n",
    "            return self.mem[idx]\n",
    "        \n",
    "        res = 1\n",
    "        # 向左边跳\n",
    "        for k in range(1, d+1):\n",
    "            if idx + k >= len(arr): # 一旦越界或者中间的值大于当前柱子的高度，就跳出循环\n",
    "                break\n",
    "            if arr[idx + k] >= arr[idx]:\n",
    "                break\n",
    "            print(k)\n",
    "            res = max(res, self.dfs(idx+k, arr, d) + 1)\n",
    "        \n",
    "        # 向右边跳\n",
    "        for k in range(1, d+1):\n",
    "            if idx - k < 0:\n",
    "                break\n",
    "            if arr[idx - k] >= arr[idx]:\n",
    "                break\n",
    "            res = max(res, self.dfs(idx-k, arr, d) + 1)\n",
    "            \n",
    "        self.mem[idx] = res\n",
    "        return self.mem[idx]"
   ]
  },
  {
   "cell_type": "code",
   "execution_count": 13,
   "metadata": {},
   "outputs": [
    {
     "name": "stdout",
     "output_type": "stream",
     "text": [
      "1\n",
      "1\n",
      "2\n",
      "1\n",
      "1\n",
      "2\n",
      "1\n"
     ]
    },
    {
     "data": {
      "text/plain": [
       "4"
      ]
     },
     "execution_count": 13,
     "metadata": {},
     "output_type": "execute_result"
    }
   ],
   "source": [
    "solution = Solution()\n",
    "solution.maxJumps(arr = [6,4,14,6,8,13,9,7,10,6,12], d = 2)"
   ]
  },
  {
   "cell_type": "code",
   "execution_count": null,
   "metadata": {},
   "outputs": [],
   "source": []
  }
 ],
 "metadata": {
  "kernelspec": {
   "display_name": "Python 3",
   "language": "python",
   "name": "python3"
  },
  "language_info": {
   "codemirror_mode": {
    "name": "ipython",
    "version": 3
   },
   "file_extension": ".py",
   "mimetype": "text/x-python",
   "name": "python",
   "nbconvert_exporter": "python",
   "pygments_lexer": "ipython3",
   "version": "3.6.2"
  }
 },
 "nbformat": 4,
 "nbformat_minor": 4
}
