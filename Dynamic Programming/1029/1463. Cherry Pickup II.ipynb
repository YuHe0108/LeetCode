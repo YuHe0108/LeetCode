{
 "cells": [
  {
   "cell_type": "raw",
   "metadata": {},
   "source": [
    "说明：\n",
    "    给你一个 rows x cols 的矩阵 grid 来表示一块樱桃地。 grid 中每个格子的数字表示你能获得的樱桃数目。\n",
    "    你有两个机器人帮你收集樱桃，机器人 1 从左上角格子 (0,0) 出发，机器人 2 从右上角格子 (0, cols-1) 出发。\n",
    "    请你按照如下规则，返回两个机器人能收集的最多樱桃数目：\n",
    "        1、从格子 (i,j) 出发，机器人可以移动到格子 (i+1, j-1)，(i+1, j) 或者 (i+1, j+1) 。\n",
    "        2、当一个机器人经过某个格子时，它会把该格子内所有的樱桃都摘走，然后这个位置会变成空格子，即没有樱桃的格子。\n",
    "        3、当两个机器人同时到达同一个格子时，它们中只有一个可以摘到樱桃。\n",
    "        4、两个机器人在任意时刻都不能移动到 grid 外面。\n",
    "        5、两个机器人最后都要到达 grid 最底下一行。\n",
    "\n",
    "提示：\n",
    "    1、rows == grid.length\n",
    "    2、cols == grid[i].length\n",
    "    3、2 <= rows, cols <= 70\n",
    "    4、0 <= grid[i][j] <= 100 "
   ]
  },
  {
   "cell_type": "markdown",
   "metadata": {},
   "source": [
    "<img src='https://assets.leetcode-cn.com/aliyun-lc-upload/uploads/2020/05/30/sample_1_1802.png'>"
   ]
  },
  {
   "cell_type": "raw",
   "metadata": {},
   "source": [
    "输入：grid = [[3,1,1],[2,5,1],[1,5,5],[2,1,1]]\n",
    "输出：24\n",
    "解释：\n",
    "    机器人 1 和机器人 2 的路径在上图中分别用绿色和蓝色表示。\n",
    "    机器人 1 摘的樱桃数目为 (3 + 2 + 5 + 2) = 12 。\n",
    "    机器人 2 摘的樱桃数目为 (1 + 5 + 5 + 1) = 12 。\n",
    "    樱桃总数为： 12 + 12 = 24 。"
   ]
  },
  {
   "cell_type": "markdown",
   "metadata": {},
   "source": [
    "<img src='https://assets.leetcode-cn.com/aliyun-lc-upload/uploads/2020/05/30/sample_2_1802.png'>"
   ]
  },
  {
   "cell_type": "raw",
   "metadata": {},
   "source": [
    "输入：grid = [[1,0,0,0,0,0,1],[2,0,0,0,0,3,0],[2,0,9,0,0,0,0],[0,3,0,5,4,0,0],[1,0,2,3,0,0,6]]\n",
    "输出：28\n",
    "解释：\n",
    "    机器人 1 和机器人 2 的路径在上图中分别用绿色和蓝色表示。\n",
    "    机器人 1 摘的樱桃数目为 (1 + 9 + 5 + 2) = 17 。\n",
    "    机器人 2 摘的樱桃数目为 (1 + 3 + 4 + 3) = 11 。\n",
    "    樱桃总数为： 17 + 11 = 28 。"
   ]
  },
  {
   "cell_type": "code",
   "execution_count": 23,
   "metadata": {},
   "outputs": [],
   "source": [
    "import copy\n",
    "\n",
    "class Solution:\n",
    "    def cherryPickup(self, grid) -> int:\n",
    "        rows, cols = len(grid), len(grid[0])\n",
    "        # dp[i][j] 代表两个机器人在 某一行的时候所在的位置\n",
    "        dp = [[-float('inf')] * cols for _ in range(cols)]\n",
    "        dp[0][-1] = grid[0][0] + grid[0][-1] # 初始值\n",
    "        \n",
    "        res = -float('inf')\n",
    "        for r in range(1, rows):\n",
    "            dp_old = copy.deepcopy(dp)\n",
    "            \n",
    "            for c1 in range(cols): # 第一个机器人可能在的位置\n",
    "                for c2 in range(cols): # 第二个机器人可能在的位置\n",
    "                    \n",
    "                    # 遍历左下、正下、右下三个方向上的最大值\n",
    "                    for i in range(c1-1, c1+2):\n",
    "                        for j in range(c1-1, c2+2):\n",
    "                            if i < 0 or j < 0 or i >= cols or j >= cols:\n",
    "                                continue\n",
    "                            if c1 != c2:\n",
    "                                dp[c1][c2] = max(dp[c1][c2], dp_old[i][j] + grid[r][c1] + grid[r][c2])\n",
    "                            else:\n",
    "                                dp[c1][c2] = max(dp[c1][c2], dp_old[i][j] + grid[r][c1])\n",
    "                            res = max(res, dp[c1][c2])\n",
    "        # 最后的dp是两个机器人运动到最后一行的时候，处于不同列所能得到的最大值\n",
    "        return res    "
   ]
  },
  {
   "cell_type": "code",
   "execution_count": 24,
   "metadata": {},
   "outputs": [
    {
     "data": {
      "text/plain": [
       "24"
      ]
     },
     "execution_count": 24,
     "metadata": {},
     "output_type": "execute_result"
    }
   ],
   "source": [
    "solution = Solution()\n",
    "solution.cherryPickup([[3,1,1],[2,5,1],[1,5,5],[2,1,1]])"
   ]
  },
  {
   "cell_type": "code",
   "execution_count": null,
   "metadata": {},
   "outputs": [],
   "source": []
  }
 ],
 "metadata": {
  "kernelspec": {
   "display_name": "Python 3",
   "language": "python",
   "name": "python3"
  },
  "language_info": {
   "codemirror_mode": {
    "name": "ipython",
    "version": 3
   },
   "file_extension": ".py",
   "mimetype": "text/x-python",
   "name": "python",
   "nbconvert_exporter": "python",
   "pygments_lexer": "ipython3",
   "version": "3.6.2"
  }
 },
 "nbformat": 4,
 "nbformat_minor": 4
}
