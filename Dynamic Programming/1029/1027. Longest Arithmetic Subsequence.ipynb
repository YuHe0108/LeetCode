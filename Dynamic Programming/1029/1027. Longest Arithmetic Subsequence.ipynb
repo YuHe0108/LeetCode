{
 "cells": [
  {
   "cell_type": "raw",
   "metadata": {},
   "source": [
    "说明：\n",
    "    给定一个整数数组 A，返回 A 中最长等差子序列的长度。\n",
    "\n",
    "    回想一下，A 的子序列是列表 A[i_1], A[i_2], ..., A[i_k] 其中 0 <= i_1 < i_2 < ... < i_k <= A.length - 1。\n",
    "    并且如果 B[i+1] - B[i]( 0 <= i < B.length - 1) 的值都相同，那么序列 B 是等差的。\n",
    " \n",
    "示例 1：\n",
    "    输入：[3,6,9,12]\n",
    "    输出：4\n",
    "    解释： \n",
    "        整个数组是公差为 3 的等差数列。\n",
    "\n",
    "示例 2：\n",
    "    输入：[9,4,7,2,10]\n",
    "    输出：3\n",
    "    解释：\n",
    "        最长的等差子序列是 [4,7,10]。\n",
    "\n",
    "示例 3：\n",
    "    输入：[20,1,15,3,10,5,8]\n",
    "    输出：4\n",
    "    解释：\n",
    "        最长的等差子序列是 [20,15,10,5]。\n",
    " \n",
    "提示：\n",
    "    1、2 <= A.length <= 2000\n",
    "    2、0 <= A[i] <= 10000"
   ]
  },
  {
   "cell_type": "code",
   "execution_count": 80,
   "metadata": {},
   "outputs": [],
   "source": [
    "class Solution:\n",
    "    def longestArithSeqLength(self, A) -> int:\n",
    "        difs = set()\n",
    "        max_count = -float('inf')\n",
    "        for i in range(len(A)):\n",
    "            for j in range(i+1, len(A)):\n",
    "                count = 2\n",
    "                dif = A[j] - A[i]\n",
    "                if dif in difs:\n",
    "                    continue\n",
    "                difs.add(dif)\n",
    "                count += self.helper(j, dif, A)\n",
    "                max_count = max(count, max_count)\n",
    "        return max_count\n",
    "    \n",
    "    def helper(self, idx, dif, A):\n",
    "        if idx == len(A):\n",
    "            return 0\n",
    "        count, max_count = 0, 0\n",
    "        for k in range(idx+1, len(A)):\n",
    "            if A[k] - A[idx] == dif:\n",
    "                count += self.helper(k, dif, A) + 1\n",
    "            else:\n",
    "                max_count = max(max_count, count)\n",
    "                count = 0\n",
    "        return count"
   ]
  },
  {
   "cell_type": "code",
   "execution_count": 101,
   "metadata": {},
   "outputs": [],
   "source": [
    "from collections import defaultdict\n",
    "\n",
    "class Solution:\n",
    "    def longestArithSeqLength(self, A) -> int:\n",
    "        dp = defaultdict(int) # dp表示 以 j 结尾，并且等差为 diff 的最大长度是多少\n",
    "        for i in range(len(A)):\n",
    "            for j in range(i):\n",
    "                diff = A[i] - A[j]\n",
    "                if dp[(j, diff)] == 0:\n",
    "                    dp[(i, diff)] = 2\n",
    "                else:\n",
    "                    dp[(i, diff)] = dp[(j, diff)] + 1\n",
    "        return max(dp.values())"
   ]
  },
  {
   "cell_type": "code",
   "execution_count": 102,
   "metadata": {},
   "outputs": [
    {
     "name": "stdout",
     "output_type": "stream",
     "text": [
      "defaultdict(<class 'int'>, {(0, 3): 0, (1, 3): 2, (0, 6): 0, (2, 6): 2, (2, 3): 3, (0, 9): 0, (3, 9): 2, (1, 6): 0, (3, 6): 2, (3, 3): 4})\n"
     ]
    },
    {
     "data": {
      "text/plain": [
       "4"
      ]
     },
     "execution_count": 102,
     "metadata": {},
     "output_type": "execute_result"
    }
   ],
   "source": [
    "solution = Solution()\n",
    "solution.longestArithSeqLength([3,6,9,12])"
   ]
  },
  {
   "cell_type": "code",
   "execution_count": 73,
   "metadata": {},
   "outputs": [
    {
     "name": "stdout",
     "output_type": "stream",
     "text": [
      "[3]\n"
     ]
    }
   ],
   "source": [
    "a = [1, 2, 3]\n",
    "print(a[1+1:])"
   ]
  },
  {
   "cell_type": "code",
   "execution_count": null,
   "metadata": {},
   "outputs": [],
   "source": []
  }
 ],
 "metadata": {
  "kernelspec": {
   "display_name": "Python 3",
   "language": "python",
   "name": "python3"
  },
  "language_info": {
   "codemirror_mode": {
    "name": "ipython",
    "version": 3
   },
   "file_extension": ".py",
   "mimetype": "text/x-python",
   "name": "python",
   "nbconvert_exporter": "python",
   "pygments_lexer": "ipython3",
   "version": "3.6.2"
  }
 },
 "nbformat": 4,
 "nbformat_minor": 4
}
