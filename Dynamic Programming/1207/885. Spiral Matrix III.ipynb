{
 "cells": [
  {
   "cell_type": "code",
   "execution_count": null,
   "metadata": {},
   "outputs": [],
   "source": []
  },
  {
   "cell_type": "code",
   "execution_count": null,
   "metadata": {},
   "outputs": [],
   "source": []
  },
  {
   "cell_type": "code",
   "execution_count": null,
   "metadata": {},
   "outputs": [],
   "source": []
  },
  {
   "cell_type": "code",
   "execution_count": 34,
   "metadata": {},
   "outputs": [],
   "source": [
    "class Solution:\n",
    "    def spiralMatrixIII(self, R: int, C: int, r0: int, c0: int):\n",
    "        cnt = R * C\n",
    "        res = []\n",
    "        dirs = [(0, 1), (1, 0), (0, -1), (-1, 0)]\n",
    "        cur_x, cur_y = r0, c0\n",
    "        cur_d = 0\n",
    "        step = 1\n",
    "        while cnt:\n",
    "            for i in range(2):\n",
    "                for i in range(step):\n",
    "                    if 0 <= cur_x < R and 0 <= cur_y < C:\n",
    "                        cnt -= 1\n",
    "                        res.append([cur_x, cur_y])\n",
    "                    cur_x, cur_y = dirs[cur_d][0] + cur_x, dirs[cur_d][1] + cur_y\n",
    "                cur_d = (cur_d + 1) % 4\n",
    "            step += 1\n",
    "        return res"
   ]
  },
  {
   "cell_type": "code",
   "execution_count": 35,
   "metadata": {},
   "outputs": [
    {
     "data": {
      "text/plain": [
       "[[1, 4],\n",
       " [1, 5],\n",
       " [2, 5],\n",
       " [2, 4],\n",
       " [2, 3],\n",
       " [1, 3],\n",
       " [0, 3],\n",
       " [0, 4],\n",
       " [0, 5],\n",
       " [3, 5],\n",
       " [3, 4],\n",
       " [3, 3],\n",
       " [3, 2],\n",
       " [2, 2],\n",
       " [1, 2],\n",
       " [0, 2],\n",
       " [4, 5],\n",
       " [4, 4],\n",
       " [4, 3],\n",
       " [4, 2],\n",
       " [4, 1],\n",
       " [3, 1],\n",
       " [2, 1],\n",
       " [1, 1],\n",
       " [0, 1],\n",
       " [4, 0],\n",
       " [3, 0],\n",
       " [2, 0],\n",
       " [1, 0],\n",
       " [0, 0]]"
      ]
     },
     "execution_count": 35,
     "metadata": {},
     "output_type": "execute_result"
    }
   ],
   "source": [
    "solution = Solution()\n",
    "solution.spiralMatrixIII(R = 5, C = 6, r0 = 1, c0 = 4)"
   ]
  },
  {
   "cell_type": "code",
   "execution_count": null,
   "metadata": {},
   "outputs": [],
   "source": []
  }
 ],
 "metadata": {
  "kernelspec": {
   "display_name": "Python 3",
   "language": "python",
   "name": "python3"
  },
  "language_info": {
   "codemirror_mode": {
    "name": "ipython",
    "version": 3
   },
   "file_extension": ".py",
   "mimetype": "text/x-python",
   "name": "python",
   "nbconvert_exporter": "python",
   "pygments_lexer": "ipython3",
   "version": "3.6.2"
  }
 },
 "nbformat": 4,
 "nbformat_minor": 4
}
