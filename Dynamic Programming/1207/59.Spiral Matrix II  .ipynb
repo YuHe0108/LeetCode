{
 "cells": [
  {
   "cell_type": "code",
   "execution_count": null,
   "metadata": {},
   "outputs": [],
   "source": []
  },
  {
   "cell_type": "code",
   "execution_count": null,
   "metadata": {},
   "outputs": [],
   "source": []
  },
  {
   "cell_type": "code",
   "execution_count": null,
   "metadata": {},
   "outputs": [],
   "source": []
  },
  {
   "cell_type": "code",
   "execution_count": 22,
   "metadata": {},
   "outputs": [],
   "source": [
    "class Solution:\n",
    "    def generateMatrix(self, n: int):\n",
    "        res = [[0] * n for _ in range(n)]\n",
    "        dirs = [(0, 1), (1, 0), (0, -1), (-1, 0)] # 右、下，左、上\n",
    "        cur_x = cur_y = cur_d = 0\n",
    "        for i in range(1, n ** 2 + 1):\n",
    "            res[cur_x][cur_y] = i\n",
    "            next_x, next_y = dirs[cur_d][0] + cur_x, dirs[cur_d][1] + cur_y\n",
    "            if next_x < 0 or next_y < 0 or next_x >= n or next_y >= n or res[next_x][next_y] != 0:\n",
    "                # 转换方向\n",
    "                cur_d = (cur_d + 1) % 4\n",
    "                next_x, next_y = dirs[cur_d][0] + cur_x, dirs[cur_d][1] + cur_y\n",
    "            cur_x, cur_y = next_x, next_y\n",
    "        return res"
   ]
  },
  {
   "cell_type": "code",
   "execution_count": 24,
   "metadata": {},
   "outputs": [
    {
     "data": {
      "text/plain": [
       "[[1, 2, 3, 4, 5],\n",
       " [16, 17, 18, 19, 6],\n",
       " [15, 24, 25, 20, 7],\n",
       " [14, 23, 22, 21, 8],\n",
       " [13, 12, 11, 10, 9]]"
      ]
     },
     "execution_count": 24,
     "metadata": {},
     "output_type": "execute_result"
    }
   ],
   "source": [
    "solution = Solution()\n",
    "solution.generateMatrix(5)"
   ]
  },
  {
   "cell_type": "code",
   "execution_count": null,
   "metadata": {},
   "outputs": [],
   "source": [
    "[[1, 2, 3], \n",
    " [8, 9, 4], \n",
    " [7, 6, 5]]"
   ]
  }
 ],
 "metadata": {
  "kernelspec": {
   "display_name": "Python 3",
   "language": "python",
   "name": "python3"
  },
  "language_info": {
   "codemirror_mode": {
    "name": "ipython",
    "version": 3
   },
   "file_extension": ".py",
   "mimetype": "text/x-python",
   "name": "python",
   "nbconvert_exporter": "python",
   "pygments_lexer": "ipython3",
   "version": "3.6.2"
  }
 },
 "nbformat": 4,
 "nbformat_minor": 4
}
