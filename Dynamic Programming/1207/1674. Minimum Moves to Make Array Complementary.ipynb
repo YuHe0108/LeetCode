{
 "cells": [
  {
   "cell_type": "code",
   "execution_count": null,
   "metadata": {},
   "outputs": [],
   "source": []
  },
  {
   "cell_type": "code",
   "execution_count": null,
   "metadata": {},
   "outputs": [],
   "source": []
  },
  {
   "cell_type": "raw",
   "metadata": {},
   "source": [
    "提示：\n",
    "    n == nums.length\n",
    "    2 <= n <= 105\n",
    "    1 <= nums[i] <= limit <= 105\n",
    "    n 是偶数"
   ]
  },
  {
   "cell_type": "code",
   "execution_count": 47,
   "metadata": {},
   "outputs": [],
   "source": [
    "from collections import Counter, defaultdict\n",
    "\n",
    "class Solution:\n",
    "    def minMoves(self, nums, limit):\n",
    "        def helper(sum_val):\n",
    "            cnt = 0\n",
    "            for i in range(n//2):\n",
    "                v = nums[i] + nums[n-1-i]\n",
    "                if v == sum_val:\n",
    "                    continue\n",
    "                if v > sum_val or 2 * limit < sum_val:\n",
    "                    return False, 0\n",
    "                if limit + nums[i] >= sum_val or limit + nums[n-1-i] >= sum_val:\n",
    "                    cnt += 1\n",
    "                else:\n",
    "                    print(nums[i], nums[n-1-i], sum_val)\n",
    "                    cnt += 2\n",
    "            return True, cnt\n",
    "        \n",
    "        res = float('inf')\n",
    "        n = len(nums)\n",
    "        sum_freq = set()\n",
    "        for i in range(n // 2):\n",
    "            v = nums[i] + nums[n-1-i]\n",
    "            sum_freq.add(v)\n",
    "        sum_freq = list(sum_freq)\n",
    "        while sum_freq:\n",
    "            sum_val = sum_freq.pop()\n",
    "            state, cnt = helper(sum_val)\n",
    "            print(state, cnt, sum_val)\n",
    "            if state:\n",
    "                res = min(res, cnt)\n",
    "        return res"
   ]
  },
  {
   "cell_type": "code",
   "execution_count": 71,
   "metadata": {},
   "outputs": [],
   "source": [
    "class Solution:\n",
    "    def minMoves(self, nums, limit):\n",
    "        def helper(sum_val):\n",
    "            cnt = 0\n",
    "            for i in range(n // 2):\n",
    "                v = nums[i] + nums[n-1-i]\n",
    "                if v == sum_val:\n",
    "                    continue\n",
    "                if 2 * limit < sum_val :\n",
    "                    return False, 0\n",
    "                # 仅仅调整一个数能够调整的范围\n",
    "                max_val = max(nums[i], nums[n-1-i]) + limit\n",
    "                min_val = min(nums[i], nums[n-1-i]) + 1\n",
    "                cnt += 1 if min_val <= sum_val <= max_val else 2\n",
    "            return True, cnt\n",
    "        \n",
    "        res = float('inf')\n",
    "        n = len(nums)\n",
    "        for i in range(2, limit * 2 + 1):\n",
    "            state, cnt = helper(i)\n",
    "            if state:\n",
    "                res = min(res, cnt)\n",
    "        return res"
   ]
  },
  {
   "cell_type": "code",
   "execution_count": 72,
   "metadata": {},
   "outputs": [
    {
     "data": {
      "text/plain": [
       "3"
      ]
     },
     "execution_count": 72,
     "metadata": {},
     "output_type": "execute_result"
    }
   ],
   "source": [
    "solution = Solution()\n",
    "solution.minMoves([37,2,9,49,58,57,48,17], 58)"
   ]
  },
  {
   "cell_type": "code",
   "execution_count": null,
   "metadata": {},
   "outputs": [],
   "source": []
  }
 ],
 "metadata": {
  "kernelspec": {
   "display_name": "Python 3",
   "language": "python",
   "name": "python3"
  },
  "language_info": {
   "codemirror_mode": {
    "name": "ipython",
    "version": 3
   },
   "file_extension": ".py",
   "mimetype": "text/x-python",
   "name": "python",
   "nbconvert_exporter": "python",
   "pygments_lexer": "ipython3",
   "version": "3.6.2"
  }
 },
 "nbformat": 4,
 "nbformat_minor": 4
}
