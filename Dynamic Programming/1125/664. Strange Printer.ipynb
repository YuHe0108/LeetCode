{
 "cells": [
  {
   "cell_type": "raw",
   "metadata": {},
   "source": [
    "    有台奇怪的打印机有以下两个特殊要求：\n",
    "        1、打印机每次只能打印同一个字符序列。\n",
    "        2、每次可以在任意起始和结束位置打印新字符，并且会覆盖掉原来已有的字符。\n",
    "    给定一个只包含小写英文字母的字符串，你的任务是计算这个打印机打印它需要的最少次数。\n",
    "\n",
    "示例 1:\n",
    "    输入: \"aaabbb\"\n",
    "    输出: 2\n",
    "    解释: 首先打印 \"aaa\" 然后打印 \"bbb\"。\n",
    "\n",
    "示例 2:\n",
    "    输入: \"aba\"\n",
    "    输出: 2\n",
    "    解释: 首先打印 \"aaa\" 然后在第二个位置打印 \"b\" 覆盖掉原来的字符 'a'。\n",
    "    提示: 输入字符串的长度不会超过 100。"
   ]
  },
  {
   "cell_type": "code",
   "execution_count": 3,
   "metadata": {},
   "outputs": [],
   "source": [
    "class Solution:\n",
    "    def strangePrinter(self, s: str) -> int:\n",
    "        pass"
   ]
  },
  {
   "cell_type": "code",
   "execution_count": 4,
   "metadata": {},
   "outputs": [],
   "source": [
    "solution = Solution()\n",
    "solution.strangePrinter(\"aaabbb\")"
   ]
  },
  {
   "cell_type": "code",
   "execution_count": null,
   "metadata": {},
   "outputs": [],
   "source": []
  }
 ],
 "metadata": {
  "kernelspec": {
   "display_name": "Python 3",
   "language": "python",
   "name": "python3"
  },
  "language_info": {
   "codemirror_mode": {
    "name": "ipython",
    "version": 3
   },
   "file_extension": ".py",
   "mimetype": "text/x-python",
   "name": "python",
   "nbconvert_exporter": "python",
   "pygments_lexer": "ipython3",
   "version": "3.6.2"
  }
 },
 "nbformat": 4,
 "nbformat_minor": 4
}
