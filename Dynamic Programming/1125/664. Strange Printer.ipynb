{
 "cells": [
  {
   "cell_type": "raw",
   "metadata": {},
   "source": [
    "    有台奇怪的打印机有以下两个特殊要求：\n",
    "        1、打印机每次只能打印同一个字符序列。\n",
    "        2、每次可以在任意起始和结束位置打印新字符，并且会覆盖掉原来已有的字符。\n",
    "    给定一个只包含小写英文字母的字符串，你的任务是计算这个打印机打印它需要的最少次数。\n",
    "\n",
    "示例 1:\n",
    "    输入: \"aaabbb\"\n",
    "    输出: 2\n",
    "    解释: 首先打印 \"aaa\" 然后打印 \"bbb\"。\n",
    "\n",
    "示例 2:\n",
    "    输入: \"aba\"\n",
    "    输出: 2\n",
    "    解释: 首先打印 \"aaa\" 然后在第二个位置打印 \"b\" 覆盖掉原来的字符 'a'。\n",
    "    提示: 输入字符串的长度不会超过 100。"
   ]
  },
  {
   "cell_type": "code",
   "execution_count": 13,
   "metadata": {},
   "outputs": [],
   "source": []
  },
  {
   "cell_type": "code",
   "execution_count": 11,
   "metadata": {},
   "outputs": [],
   "source": [
    "class Solution:\n",
    "    def strangePrinter(self, s: str) -> int:\n",
    "        n = len(s)\n",
    "        dp = [[0]*(n+1) for _ in range(n+1)]\n",
    "        for l in range(1, n+1):\n",
    "            for i in range(n-l+1):\n",
    "                dp[i][i+l] = dp[i+1][i+l]+1\n",
    "                for k in range(i+1, i+l):\n",
    "                    if s[k]==s[i]:\n",
    "                        dp[i][i+l]=min(dp[i][i+l], dp[i][k]+dp[k+1][i+l])\n",
    "        return dp[0][n]"
   ]
  },
  {
   "cell_type": "code",
   "execution_count": 17,
   "metadata": {},
   "outputs": [],
   "source": [
    "class Solution:\n",
    "    def strangePrinter(self, s: str) -> int:\n",
    "        if not s: return 0\n",
    "        n = len(s)\n",
    "        dp = [[0] * n for _ in range(n)]\n",
    "        for i in range(n):\n",
    "            dp[i][i] = 1\n",
    "        for gap in range(2, n+1):\n",
    "            for start in range(n - gap + 1):\n",
    "                end = start + gap - 1\n",
    "                dp[start][end] = dp[start+1][end] + 1\n",
    "                print(dp)\n",
    "                for k in range(start + 1, end + 1):\n",
    "                    if s[start] == s[k]:\n",
    "                        if k + 1 > end:\n",
    "                            val = 0\n",
    "                        else:\n",
    "                            val = dp[k+1][end]\n",
    "                        dp[start][end] = min(dp[start][end], dp[start][k-1] + val)\n",
    "        return dp[0][-1]"
   ]
  },
  {
   "cell_type": "code",
   "execution_count": 41,
   "metadata": {},
   "outputs": [],
   "source": [
    "class Solution:\n",
    "    def strangePrinter(self, s: str) -> int:\n",
    "        if not s: return 0\n",
    "        n = len(s)\n",
    "        dp = [[0] * n for _ in range(n)]\n",
    "        for i in range(n):\n",
    "            dp[i][i] = 1\n",
    "        \n",
    "        for gap in range(2, n + 1):\n",
    "            for l in range(n - gap + 1):\n",
    "                r = l + gap - 1\n",
    "                # 为什么可以使用 dp[l][r] = dp[l+1][r] + 1\n",
    "                # 因为我们是按照区间进行计算的， l~r的区间范围一定是大于 dp[l+1][r]的\n",
    "                # 因此在计算 l~r 的时候，更小区间的 l+1 ~ r 就已经计算过了\n",
    "                dp[l][r] = dp[l+1][r] + 1\n",
    "                print(l, r, l+1, r, dp)\n",
    "                for k in range(l+1, r+1):\n",
    "                    if s[l] == s[k]:\n",
    "                        v = dp[k+1][r] if k+1 <= r else 0\n",
    "                        dp[l][r] = min(dp[l][r], dp[l][k-1] + v)\n",
    "        return dp[0][-1]"
   ]
  },
  {
   "cell_type": "code",
   "execution_count": 42,
   "metadata": {},
   "outputs": [
    {
     "name": "stdout",
     "output_type": "stream",
     "text": [
      "0 1 1 1 [[1, 2, 0], [0, 1, 0], [0, 0, 1]]\n",
      "1 2 2 2 [[1, 2, 0], [0, 1, 2], [0, 0, 1]]\n",
      "0 2 1 2 [[1, 2, 3], [0, 1, 2], [0, 0, 1]]\n"
     ]
    },
    {
     "data": {
      "text/plain": [
       "2"
      ]
     },
     "execution_count": 42,
     "metadata": {},
     "output_type": "execute_result"
    }
   ],
   "source": [
    "solution = Solution()\n",
    "solution.strangePrinter(\"aba\")"
   ]
  },
  {
   "cell_type": "code",
   "execution_count": null,
   "metadata": {},
   "outputs": [],
   "source": []
  }
 ],
 "metadata": {
  "kernelspec": {
   "display_name": "Python 3",
   "language": "python",
   "name": "python3"
  },
  "language_info": {
   "codemirror_mode": {
    "name": "ipython",
    "version": 3
   },
   "file_extension": ".py",
   "mimetype": "text/x-python",
   "name": "python",
   "nbconvert_exporter": "python",
   "pygments_lexer": "ipython3",
   "version": "3.6.2"
  }
 },
 "nbformat": 4,
 "nbformat_minor": 4
}
