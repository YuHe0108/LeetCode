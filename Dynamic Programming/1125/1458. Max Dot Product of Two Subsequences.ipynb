{
 "cells": [
  {
   "cell_type": "raw",
   "metadata": {},
   "source": [
    "    给你两个数组 nums1 和 nums2 。\n",
    "\n",
    "    请你返回 nums1 和 nums2 中两个长度相同的 非空 子序列的最大点积。\n",
    "\n",
    "    数组的非空子序列是通过删除原数组中某些元素（可能一个也不删除）后剩余数字组成的序列，但不能改变数字间相对顺序。\n",
    "    \n",
    "    比方说，[2,3,5] 是 [1,2,3,4,5] 的一个子序列而 [1,5,3] 不是。\n",
    "\n",
    "示例 1：\n",
    "    输入：nums1 = [2, 1, -2, 5], nums2 = [3,0,-6]\n",
    "    输出：18\n",
    "    解释：\n",
    "        从 nums1 中得到子序列 [2,-2] ，从 nums2 中得到子序列 [3,-6] 。\n",
    "        它们的点积为 (2*3 + (-2)*(-6)) = 18 。\n",
    "\n",
    "示例 2：\n",
    "    输入：nums1 = [3,-2], nums2 = [2,-6,7]\n",
    "    输出：21\n",
    "    解释：\n",
    "        从 nums1 中得到子序列 [3] ，从 nums2 中得到子序列 [7] 。\n",
    "        它们的点积为 (3*7) = 21 。\n",
    "\n",
    "示例 3：\n",
    "    输入：nums1 = [-1,-1], nums2 = [1,1]\n",
    "    输出：-1\n",
    "    解释：\n",
    "        从 nums1 中得到子序列 [-1] ，从 nums2 中得到子序列 [1] 。它们的点积为 -1 。\n",
    "\n",
    "提示：\n",
    "    1 <= nums1.length, nums2.length <= 500\n",
    "    -1000 <= nums1[i], nums2[i] <= 100\n",
    " \n",
    "点积：\n",
    "    定义 a = [a1, a2,…, an] 和 b = [b1, b2,…, bn] 的点积为：\n",
    "    这里的 Σ 指示总和符号。"
   ]
  },
  {
   "cell_type": "markdown",
   "metadata": {},
   "source": [
    "<img src='http://upload.wikimedia.org/math/c/3/2/c329bf86e747d74f55ed2e17c36fd83f.png'>"
   ]
  },
  {
   "cell_type": "code",
   "execution_count": 23,
   "metadata": {},
   "outputs": [],
   "source": [
    "class Solution:\n",
    "    def maxDotProduct(self, nums1, nums2):\n",
    "        n1, n2 = len(nums1), len(nums2)\n",
    "        k = min(n1, n2)\n",
    "        # dp[i][j][k]: nums1[:i] 和 nums2[:j] 的子字符串相乘，位数为 k 的最大值  \n",
    "        dp = [[[-float('inf')] * (1 + n2) for _ in range(1 + n1)] for _ in range(k+1)] # 最多只能有 k个数字\n",
    "        \n",
    "        nums1 = [0] + nums1\n",
    "        nums2 = [0] + nums2\n",
    "        for i in range(1, n2+1):\n",
    "            dp[1][0][i] = max(dp[1][0][i-1], dp[1][0][i], nums1[1] * nums2[i])\n",
    "        for i in range(1, n1+1):\n",
    "            dp[1][i][0] = max(dp[1][i-1][0], dp[1][i][0], nums2[1] * nums1[i])\n",
    "        print(dp)\n",
    "        \n",
    "#         print(dp)\n",
    "#         for i in range(1, n1):\n",
    "#             for j in range(n2):\n",
    "#                 dp[i][j] = max(dp[i][j], dp[i-1][j], dp[i][j-1])\n",
    "#         return dp[-1][-1]"
   ]
  },
  {
   "cell_type": "code",
   "execution_count": 47,
   "metadata": {},
   "outputs": [],
   "source": [
    "class Solution:\n",
    "    def maxDotProduct(self, nums1, nums2):\n",
    "        n1, n2 = len(nums1), len(nums2)\n",
    "        # dp[i][j][k]: nums1[:i] 和 nums2[:j] 的子字符串相乘，位数为 k 的最大值  \n",
    "        dp = [[-float('inf')] * n2 for _ in range(n1)]\n",
    "        dp[0][0] = nums1[0] * nums2[0]\n",
    "        for i in range(1, n2):\n",
    "            dp[0][i] = max(dp[0][i], dp[0][i-1], nums1[0] * nums2[i])\n",
    "        for i in range(1, n1):\n",
    "            dp[i][0] = max(dp[i][0], dp[i-1][0], nums1[i] * nums2[0])\n",
    "        \n",
    "        for i in range(1, n1):\n",
    "            for j in range(1, n2):\n",
    "                dp[i][j] = max(dp[i][j], max(0, dp[i-1][j-1]) + nums1[i] * nums2[j], dp[i-1][j], dp[i][j-1])\n",
    "        print(dp)\n",
    "        return dp[-1][-1]"
   ]
  },
  {
   "cell_type": "code",
   "execution_count": 57,
   "metadata": {},
   "outputs": [],
   "source": [
    "class Solution:\n",
    "    def maxDotProduct(self, nums1, nums2):\n",
    "        n1, n2 = len(nums1), len(nums2)\n",
    "        # dp[i][j][k]: nums1[:i] 和 nums2[:j] 的子字符串相乘，位数为 k 的最大值  \n",
    "        dp = [[-float('inf')] * (n2+1) for _ in range(n1+1)]\n",
    "        nums1 = [0] + nums1\n",
    "        nums2 = [0] + nums2\n",
    "        for i in range(1, n1 + 1):\n",
    "            for j in range(1, n2 + 1):\n",
    "                dp[i][j] = max(dp[i][j], max(0, dp[i-1][j-1]) + nums1[i] * nums2[j], dp[i-1][j], dp[i][j-1])\n",
    "        return dp[-1][-1]"
   ]
  },
  {
   "cell_type": "code",
   "execution_count": 58,
   "metadata": {},
   "outputs": [
    {
     "name": "stdout",
     "output_type": "stream",
     "text": [
      "-inf -inf\n",
      "-inf -27\n",
      "-inf -6\n",
      "-inf -6\n",
      "-inf -6\n",
      "-inf 27\n",
      "-inf 27\n",
      "-inf 27\n",
      "-inf 27\n",
      "-inf 27\n",
      "-27 -inf\n",
      "-6 -27\n",
      "-6 -6\n",
      "-6 -6\n",
      "27 -6\n",
      "27 72\n",
      "27 72\n",
      "27 91\n",
      "27 91\n",
      "27 91\n",
      "-27 -inf\n",
      "-6 27\n",
      "-6 27\n",
      "-6 27\n",
      "72 27\n",
      "72 72\n",
      "91 75\n",
      "91 91\n",
      "91 106\n",
      "91 106\n",
      "27 -inf\n",
      "27 27\n",
      "27 27\n",
      "27 27\n",
      "72 27\n",
      "75 117\n",
      "91 117\n",
      "106 155\n",
      "106 155\n",
      "106 155\n",
      "27 -inf\n",
      "27 27\n",
      "27 29\n",
      "27 30\n",
      "117 34\n",
      "117 117\n",
      "155 118\n",
      "155 155\n",
      "155 160\n",
      "155 160\n",
      "27 -inf\n",
      "29 27\n",
      "30 33\n",
      "34 38\n",
      "117 51\n",
      "118 117\n",
      "155 120\n",
      "160 155\n",
      "160 170\n",
      "160 170\n",
      "27 -inf\n",
      "33 81\n",
      "38 81\n",
      "51 81\n",
      "117 101\n",
      "120 117\n",
      "155 126\n",
      "170 155\n",
      "170 200\n",
      "170 200\n"
     ]
    },
    {
     "data": {
      "text/plain": [
       "200"
      ]
     },
     "execution_count": 58,
     "metadata": {},
     "output_type": "execute_result"
    }
   ],
   "source": [
    "solution = Solution()\n",
    "solution.maxDotProduct([-3,-8,3,-10,1,3,9], [9,2,3,7,-9,1,-8,5,-1,-1])"
   ]
  },
  {
   "cell_type": "raw",
   "metadata": {},
   "source": []
  },
  {
   "cell_type": "code",
   "execution_count": null,
   "metadata": {},
   "outputs": [],
   "source": []
  }
 ],
 "metadata": {
  "kernelspec": {
   "display_name": "Python 3",
   "language": "python",
   "name": "python3"
  },
  "language_info": {
   "codemirror_mode": {
    "name": "ipython",
    "version": 3
   },
   "file_extension": ".py",
   "mimetype": "text/x-python",
   "name": "python",
   "nbconvert_exporter": "python",
   "pygments_lexer": "ipython3",
   "version": "3.6.2"
  }
 },
 "nbformat": 4,
 "nbformat_minor": 4
}
