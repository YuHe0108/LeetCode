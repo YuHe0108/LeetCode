{
 "cells": [
  {
   "cell_type": "raw",
   "metadata": {},
   "source": [
    "    给定一个字符串数组 A，找到以 A 中每个字符串作为子字符串的最短字符串。\n",
    "\n",
    "    我们可以假设 A 中没有字符串是 A 中另一个字符串的子字符串。\n",
    "\n",
    "示例 1：\n",
    "    输入：[\"alex\",\"loves\",\"leetcode\"]\n",
    "    输出：\"alexlovesleetcode\"\n",
    "    解释：\"alex\"，\"loves\"，\"leetcode\" 的所有排列都会被接受。\n",
    "\n",
    "示例 2：\n",
    "    输入：[\"catg\",\"ctaagt\",\"gcta\",\"ttca\",\"atgcatc\"]\n",
    "    输出：\"gctaagttcatgcatc\"\n",
    "\n",
    "提示：\n",
    "    1 <= A.length <= 12\n",
    "    1 <= A[i].length <= 20"
   ]
  },
  {
   "cell_type": "code",
   "execution_count": 66,
   "metadata": {},
   "outputs": [],
   "source": [
    "# 计算每个点之间的距离\n",
    "from collections import defaultdict\n",
    "\n",
    "class Solution:\n",
    "    def shortestSuperstring(self, A):\n",
    "        def calc(word1, word2): # 计算两个单词之间的 distance\n",
    "            n1, n2 = len(word1), len(word2)\n",
    "            right = 0\n",
    "            for i in range(n1):\n",
    "                if word1[i] == word2[right]:\n",
    "                    ans = n2\n",
    "                    idx = i\n",
    "                    while word1[idx] == word2[right] and idx < n1 and right < n2:\n",
    "                        idx += 1\n",
    "                        right += 1\n",
    "                        ans -= 1\n",
    "                        if idx == n1:\n",
    "                            return ans\n",
    "            return n2\n",
    "        \n",
    "        def get_min_path():\n",
    "            def dfs(arr, path):\n",
    "                if not arr:\n",
    "                    res.append(path[:])\n",
    "                    return \n",
    "                for i in range(len(arr)):\n",
    "                    path.append(arr[i])\n",
    "                    dfs(arr[:i] + arr[i+1:], path)\n",
    "                    path.pop()\n",
    "                    \n",
    "            res = []\n",
    "            nums = [i for i in range(n)]\n",
    "            dfs(nums, [])\n",
    "            outs = []\n",
    "            min_dis = float('inf')\n",
    "            for per in res:\n",
    "                cur_dis = 0\n",
    "                for k in range(n-1):\n",
    "                    cur_dis += dis[per[k]][per[k+1]]\n",
    "                if cur_dis < min_dis:\n",
    "                    min_dis = cur_dis\n",
    "                    outs = per\n",
    "            print(per)\n",
    "            return outs\n",
    "        \n",
    "        n = len(A)\n",
    "        dis = defaultdict(dict)\n",
    "        for i in range(n): # 计算每个单词之间的距离\n",
    "            for j in range(i+1, n):\n",
    "                dis[i][j] = calc(A[i], A[j])\n",
    "                dis[j][i] = calc(A[j], A[i]) #计算两个单词之间的距离\n",
    "        print(dis)\n",
    "        res = ''\n",
    "        path = get_min_path()\n",
    "        for i in path:\n",
    "            res += A[i]\n",
    "        return res"
   ]
  },
  {
   "cell_type": "code",
   "execution_count": null,
   "metadata": {},
   "outputs": [],
   "source": []
  },
  {
   "cell_type": "code",
   "execution_count": null,
   "metadata": {},
   "outputs": [],
   "source": []
  },
  {
   "cell_type": "code",
   "execution_count": 204,
   "metadata": {},
   "outputs": [],
   "source": [
    "class Solution:\n",
    "    def shortestSuperstring(self, A):\n",
    "        def calc_dis(w1, w2): # 计算w1 和 w2 之间的距离\n",
    "            n1, n2 = len(w1), len(w2)\n",
    "            for k in range(min(n1, n2), -1, -1):\n",
    "                if w1[-k:] == w2[:k]:\n",
    "                    return n2 - k\n",
    "            return n2\n",
    "        \n",
    "        def combine(cur_res, word): # 重构为 答案\n",
    "            n1, n2 = len(cur_res), len(word)\n",
    "            for k in range(min(n1, n2), -1, -1):\n",
    "                if cur_res[-k:] == word[:k]:\n",
    "                    return cur_res + word[k:]\n",
    "            return cur_res + word\n",
    "        \n",
    "        N = len(A) \n",
    "        M = 1 << N\n",
    "        dp = [[float('inf')] * N for _ in range(M)] # dp[0111][last] \n",
    "        parent = [[-1] * N for _ in range(M)] \n",
    "        \n",
    "        # 计算每个城市之间的距离\n",
    "        dis = [[0] * N for _ in range(N)] \n",
    "        for i in range(N):\n",
    "            for j in range(N):\n",
    "                if i != j:\n",
    "                    dis[i][j] = calc_dis(A[i], A[j])\n",
    "        \n",
    "        # 如果只行走一个城市，那么dis == len(A[i])\n",
    "        for i in range(N):\n",
    "            dp[1 << i][i] = len(A[i])\n",
    "        \n",
    "        for cur_state in range(M): # 遍历各种状态 0000 -> 1111: 每个城市都没走->全部都走过\n",
    "            for cur in range(N): # state: 0111, last: 可能是 B、C、D中的一个\n",
    "                if (cur_state & (1 << cur)) == 0: # 当前城市还没有走\n",
    "                    continue\n",
    "                pre_state = cur_state - (1 << cur) # 当前状态 0111，last = B, 则 有可能是 0011[D], 0011[C] 转移到的B\n",
    "                \n",
    "                if pre_state == 0: # 有可能只走了一个城市\n",
    "                    continue\n",
    "                for prev in range(N):\n",
    "                    if (pre_state & (1 << prev)) == 0: # 当前城市还没有走\n",
    "                        continue\n",
    "                    if dp[pre_state][prev] + dis[prev][cur] < dp[cur_state][cur]:\n",
    "                        dp[cur_state][cur] = dp[pre_state][prev] + dis[prev][cur]\n",
    "                        parent[cur_state][cur] = prev\n",
    "        \n",
    "        start = None # 起点\n",
    "        min_dis = float('inf')\n",
    "        for i in range(N):\n",
    "            if dp[-1][i] < min_dis:\n",
    "                min_dis = dp[-1][i]\n",
    "                start = i\n",
    "                \n",
    "        mask = M - 1 # 根据起点和 mask 回溯路径\n",
    "        path = [start]\n",
    "        while parent[mask][start] != -1:\n",
    "            nxt = parent[mask][start]\n",
    "            path.append(nxt)\n",
    "            print(bin(mask)[2:], start, 'before')\n",
    "            mask = mask ^ (1 << start)\n",
    "            print(bin(mask)[2:], start, 'after')\n",
    "            start = nxt\n",
    "        \n",
    "        path = path[::-1] # 整合字符串\n",
    "        res = A[path[0]]\n",
    "        for i in range(1, len(path)):\n",
    "            res = combine(res, A[path[i]])\n",
    "        return res"
   ]
  },
  {
   "cell_type": "code",
   "execution_count": null,
   "metadata": {},
   "outputs": [],
   "source": []
  },
  {
   "cell_type": "code",
   "execution_count": null,
   "metadata": {},
   "outputs": [],
   "source": []
  },
  {
   "cell_type": "code",
   "execution_count": null,
   "metadata": {},
   "outputs": [],
   "source": []
  },
  {
   "cell_type": "markdown",
   "metadata": {},
   "source": [
    "### 12-10 第二遍"
   ]
  },
  {
   "cell_type": "code",
   "execution_count": 115,
   "metadata": {},
   "outputs": [],
   "source": [
    "class Solution:\n",
    "    def shortestSuperstring(self, A):\n",
    "        def calc_dis(w1, w2): # 计算 w1 和 w2 之间的距离\n",
    "            n1, n2 = len(w1), len(w2)\n",
    "            for k in range(min(n1, n2), -1, -1):\n",
    "                if w1[-k:] == w2[:k]:\n",
    "                    return n2 - k\n",
    "            return n2\n",
    "\n",
    "        def combine(cur_res, word): # 拼接字符串\n",
    "            n1, n2 = len(cur_res), len(word)\n",
    "            for k in range(min(n1, n2), -1, -1):\n",
    "                if cur_res[-k:] == word[:k]:\n",
    "                    return cur_res + word[k:]\n",
    "            return cur_res + word\n",
    "\n",
    "        n = len(A)\n",
    "        m = 1 << n # 一共有多少种可能性\n",
    "        # dp[0011][cur_city] 经过 0011 -> (AB) CD 去过CD两地，并且最后一个去的地方是 cur_city\n",
    "        dp = [[float('inf')] * n for _ in  range(m)]\n",
    "        par = [[-1] * n for _ in  range(m)] # 记录达到此处时，上一处在哪里\n",
    "        for i in range(n): # 只去过一个城市的时候，cost == len(A[i])\n",
    "            dp[1 << i][i] = len(A[i])\n",
    "        \n",
    "        dis = [[0] * n for _ in range(n)]\n",
    "        for i in range(n):\n",
    "            for j in range(n):\n",
    "                if i != j:\n",
    "                    dis[i][j] = calc_dis(A[i], A[j])\n",
    "        \n",
    "        for state in range(m): # 当前的状态\n",
    "            for cur in range(n):\n",
    "                if (state & (1 << cur)) == 0:\n",
    "                    continue\n",
    "                prev_state = state - (1 << cur)\n",
    "                if prev_state == 0: # 如果只去过一个城市，那么prev_state == 0, 是否只是去过一个城市\n",
    "                    continue\n",
    "                for prev in range(n):\n",
    "                    if (prev_state & (1 << prev)) == 0:\n",
    "                        continue\n",
    "                    if dp[prev_state][prev] + dis[prev][cur] < dp[state][cur]:\n",
    "                        dp[state][cur] = dp[prev_state][prev] + dis[prev][cur]\n",
    "                        par[state][cur] = prev\n",
    "        \n",
    "        min_dis = float('inf')\n",
    "        for i in range(n):\n",
    "            if dp[-1][i] < min_dis:\n",
    "                last_city = i # 最后去过的city 在哪里\n",
    "                min_dis = dp[-1][i] # 最短路径为多少\n",
    "        \n",
    "        # 回溯最短路径\n",
    "        path = [last_city]\n",
    "        mask = m - 1\n",
    "        while par[mask][last_city] != -1:\n",
    "            prev_city = par[mask][last_city]\n",
    "            path.append(prev_city)\n",
    "            mask = mask ^ (1 << last_city)\n",
    "            last_city = prev_city\n",
    "        \n",
    "        path = path[::-1]\n",
    "        res = A[path[0]]\n",
    "        for i in range(1, len(path)):\n",
    "            res = combine(res, A[path[i]])\n",
    "        return res"
   ]
  },
  {
   "cell_type": "code",
   "execution_count": 116,
   "metadata": {},
   "outputs": [
    {
     "data": {
      "text/plain": [
       "'dsksssvq'"
      ]
     },
     "execution_count": 116,
     "metadata": {},
     "output_type": "execute_result"
    }
   ],
   "source": [
    "solution = Solution()\n",
    "solution.shortestSuperstring([\"sssv\",\"svq\",\"dskss\",\"sksss\"])"
   ]
  },
  {
   "cell_type": "code",
   "execution_count": null,
   "metadata": {},
   "outputs": [],
   "source": []
  },
  {
   "cell_type": "code",
   "execution_count": null,
   "metadata": {},
   "outputs": [],
   "source": []
  },
  {
   "cell_type": "code",
   "execution_count": null,
   "metadata": {},
   "outputs": [],
   "source": []
  },
  {
   "cell_type": "code",
   "execution_count": null,
   "metadata": {},
   "outputs": [],
   "source": []
  },
  {
   "cell_type": "code",
   "execution_count": null,
   "metadata": {},
   "outputs": [],
   "source": []
  },
  {
   "cell_type": "code",
   "execution_count": null,
   "metadata": {},
   "outputs": [],
   "source": []
  },
  {
   "cell_type": "code",
   "execution_count": null,
   "metadata": {},
   "outputs": [],
   "source": []
  },
  {
   "cell_type": "code",
   "execution_count": null,
   "metadata": {},
   "outputs": [],
   "source": []
  },
  {
   "cell_type": "code",
   "execution_count": null,
   "metadata": {},
   "outputs": [],
   "source": []
  },
  {
   "cell_type": "code",
   "execution_count": null,
   "metadata": {},
   "outputs": [],
   "source": []
  },
  {
   "cell_type": "code",
   "execution_count": null,
   "metadata": {},
   "outputs": [],
   "source": []
  },
  {
   "cell_type": "code",
   "execution_count": null,
   "metadata": {},
   "outputs": [],
   "source": []
  },
  {
   "cell_type": "code",
   "execution_count": 98,
   "metadata": {},
   "outputs": [
    {
     "data": {
      "text/plain": [
       "'d'"
      ]
     },
     "execution_count": 98,
     "metadata": {},
     "output_type": "execute_result"
    }
   ],
   "source": [
    "a = 'abcd'\n",
    "a[-1:]"
   ]
  },
  {
   "cell_type": "code",
   "execution_count": 168,
   "metadata": {},
   "outputs": [
    {
     "data": {
      "text/plain": [
       "8"
      ]
     },
     "execution_count": 168,
     "metadata": {},
     "output_type": "execute_result"
    }
   ],
   "source": [
    "len(\"dsksssvq\")"
   ]
  },
  {
   "cell_type": "code",
   "execution_count": 131,
   "metadata": {},
   "outputs": [
    {
     "data": {
      "text/plain": [
       "'0b1000'"
      ]
     },
     "execution_count": 131,
     "metadata": {},
     "output_type": "execute_result"
    }
   ],
   "source": [
    "bin(8)"
   ]
  },
  {
   "cell_type": "code",
   "execution_count": null,
   "metadata": {},
   "outputs": [],
   "source": []
  }
 ],
 "metadata": {
  "kernelspec": {
   "display_name": "Python 3",
   "language": "python",
   "name": "python3"
  },
  "language_info": {
   "codemirror_mode": {
    "name": "ipython",
    "version": 3
   },
   "file_extension": ".py",
   "mimetype": "text/x-python",
   "name": "python",
   "nbconvert_exporter": "python",
   "pygments_lexer": "ipython3",
   "version": "3.6.2"
  }
 },
 "nbformat": 4,
 "nbformat_minor": 4
}
