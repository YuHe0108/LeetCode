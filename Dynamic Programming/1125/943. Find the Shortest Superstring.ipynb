{
 "cells": [
  {
   "cell_type": "raw",
   "metadata": {},
   "source": [
    "    给定一个字符串数组 A，找到以 A 中每个字符串作为子字符串的最短字符串。\n",
    "\n",
    "    我们可以假设 A 中没有字符串是 A 中另一个字符串的子字符串。\n",
    "\n",
    "示例 1：\n",
    "    输入：[\"alex\",\"loves\",\"leetcode\"]\n",
    "    输出：\"alexlovesleetcode\"\n",
    "    解释：\"alex\"，\"loves\"，\"leetcode\" 的所有排列都会被接受。\n",
    "\n",
    "示例 2：\n",
    "    输入：[\"catg\",\"ctaagt\",\"gcta\",\"ttca\",\"atgcatc\"]\n",
    "    输出：\"gctaagttcatgcatc\"\n",
    "\n",
    "提示：\n",
    "    1 <= A.length <= 12\n",
    "    1 <= A[i].length <= 20"
   ]
  },
  {
   "cell_type": "code",
   "execution_count": 1,
   "metadata": {},
   "outputs": [],
   "source": [
    "class Solution:\n",
    "    def shortestSuperstring(self, A):\n",
    "        pass"
   ]
  },
  {
   "cell_type": "code",
   "execution_count": 2,
   "metadata": {},
   "outputs": [],
   "source": [
    "solution = Solution()\n",
    "solution.shortestSuperstring([\"alex\",\"loves\",\"leetcode\"])"
   ]
  },
  {
   "cell_type": "code",
   "execution_count": null,
   "metadata": {},
   "outputs": [],
   "source": []
  }
 ],
 "metadata": {
  "kernelspec": {
   "display_name": "Python 3",
   "language": "python",
   "name": "python3"
  },
  "language_info": {
   "codemirror_mode": {
    "name": "ipython",
    "version": 3
   },
   "file_extension": ".py",
   "mimetype": "text/x-python",
   "name": "python",
   "nbconvert_exporter": "python",
   "pygments_lexer": "ipython3",
   "version": "3.6.2"
  }
 },
 "nbformat": 4,
 "nbformat_minor": 4
}
