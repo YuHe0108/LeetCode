{
 "cells": [
  {
   "cell_type": "raw",
   "metadata": {},
   "source": [
    "    有一个长度为 arrLen 的数组，开始有一个指针在索引 0 处。\n",
    "\n",
    "    每一步操作中，你可以将指针向左或向右移动 1 步，或者停在原地（指针不能被移动到数组范围外）。\n",
    "\n",
    "    给你两个整数 steps 和 arrLen ，请你计算并返回：\n",
    "        在恰好执行 steps 次操作以后，指针仍然指向索引 0 处的方案数。\n",
    "\n",
    "    由于答案可能会很大，请返回方案数 模 10^9 + 7 后的结果。\n",
    "\n",
    "示例 1：\n",
    "    输入：steps = 3, arrLen = 2\n",
    "    输出：4\n",
    "    解释：3 步后，总共有 4 种不同的方法可以停在索引 0 处。\n",
    "            向右，向左，不动\n",
    "            不动，向右，向左\n",
    "            向右，不动，向左\n",
    "            不动，不动，不动\n",
    "\n",
    "示例  2：\n",
    "    输入：steps = 2, arrLen = 4\n",
    "    输出：2\n",
    "    解释：2 步后，总共有 2 种不同的方法可以停在索引 0 处。\n",
    "            向右，向左\n",
    "            不动，不动\n",
    "\n",
    "示例 3：\n",
    "    输入：steps = 4, arrLen = 2\n",
    "    输出：8\n",
    "\n",
    "提示：\n",
    "    1 <= steps <= 500\n",
    "    1 <= arrLen <= 10^6"
   ]
  },
  {
   "cell_type": "code",
   "execution_count": 32,
   "metadata": {},
   "outputs": [],
   "source": [
    "class Solution:\n",
    "    def numWays(self, steps: int, arrLen: int) -> int:\n",
    "        mod = pow(10, 9) + 7\n",
    "        dp = [[0] * (steps // 2 + 2) for _ in range(steps+1)] \n",
    "        dp[0][0] = 1 \n",
    "        for i in range(1, steps + 1):\n",
    "            for j in range(steps // 2 + 1): # 进行到 第 j 步\n",
    "                if j == 0:\n",
    "                    dp[i][j] = dp[i-1][j+1] + dp[i-1][j]\n",
    "                elif j == arrLen - 1:\n",
    "                    dp[i][j] = dp[i-1][j-1] + dp[i-1][j]\n",
    "                else:\n",
    "                    dp[i][j] = dp[i-1][j-1] + dp[i-1][j+1] + dp[i-1][j]\n",
    "        return dp[-1][0] % mod"
   ]
  },
  {
   "cell_type": "code",
   "execution_count": 33,
   "metadata": {},
   "outputs": [
    {
     "data": {
      "text/plain": [
       "8"
      ]
     },
     "execution_count": 33,
     "metadata": {},
     "output_type": "execute_result"
    }
   ],
   "source": [
    "solution = Solution()\n",
    "solution.numWays(4, 2)"
   ]
  },
  {
   "cell_type": "code",
   "execution_count": null,
   "metadata": {},
   "outputs": [],
   "source": []
  }
 ],
 "metadata": {
  "kernelspec": {
   "display_name": "Python 3",
   "language": "python",
   "name": "python3"
  },
  "language_info": {
   "codemirror_mode": {
    "name": "ipython",
    "version": 3
   },
   "file_extension": ".py",
   "mimetype": "text/x-python",
   "name": "python",
   "nbconvert_exporter": "python",
   "pygments_lexer": "ipython3",
   "version": "3.6.2"
  }
 },
 "nbformat": 4,
 "nbformat_minor": 4
}
