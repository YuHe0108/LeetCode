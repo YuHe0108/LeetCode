{
 "cells": [
  {
   "cell_type": "raw",
   "metadata": {},
   "source": [
    "说明：\n",
    "    给定2D矩阵矩阵，找到由矩形的左上角（row1，col1）和右下角（row2，col2）定义的矩形内的元素之和。\n",
    "\n",
    "上面的矩形（带红色边框）由（row1，col1）=（2，1）和（row2，col2）=（4，3）定义，其中sum=8。\n",
    "\n",
    "Example:\n",
    "Given matrix = [\n",
    "          [3, 0, 1, 4, 2],\n",
    "          [5, 6, 3, 2, 1],\n",
    "          [1, 2, 0, 1, 5],\n",
    "          [4, 1, 0, 1, 7],\n",
    "          [1, 0, 3, 0, 5]\n",
    "        ]\n",
    "\n",
    "    sumRegion(2, 1, 4, 3) -> 8\n",
    "    sumRegion(1, 1, 2, 2) -> 11\n",
    "    sumRegion(1, 2, 2, 4) -> 12\n",
    "Note:\n",
    "    1、You may assume that the matrix does not change.\n",
    "    2、There are many calls to sumRegion function.\n",
    "    3、You may assume that row1 ≤ row2 and col1 ≤ col2."
   ]
  },
  {
   "cell_type": "markdown",
   "metadata": {},
   "source": [
    "<img src='https://leetcode.com/static/images/courses/range_sum_query_2d.png'>"
   ]
  },
  {
   "cell_type": "code",
   "execution_count": null,
   "metadata": {},
   "outputs": [],
   "source": [
    "class NumMatrix:\n",
    "\n",
    "    def __init__(self, mat: List[List[int]]):\n",
    "        if not mat or not mat[0]: \n",
    "            self.nums = [[0]]\n",
    "            return\n",
    "        rows, cols = len(mat), len(mat[0])\n",
    "        self.nums = [[0] * (cols + 1) for _ in range(rows + 1)]\n",
    "        \n",
    "        for row in range(1, rows+1):\n",
    "            for col in range(1, cols+1):\n",
    "                self.nums[row][col] = self.nums[row][col-1] + mat[row-1][col-1]\n",
    "        \n",
    "        for row in range(1, rows+1):\n",
    "            for col in range(1, cols+1):\n",
    "                self.nums[row][col] += self.nums[row-1][col]\n",
    "\n",
    "    def sumRegion(self, row1: int, col1: int, row2: int, col2: int) -> int:\n",
    "        res = self.nums[row2+1][col2+1] - self.nums[row1][col2+1] - self.nums[row2+1][col1] + self.nums[row1][col1]\n",
    "        return res\n",
    "        \n",
    "\n",
    "\n",
    "# Your NumMatrix object will be instantiated and called as such:\n",
    "# obj = NumMatrix(matrix)\n",
    "# param_1 = obj.sumRegion(row1,col1,row2,col2)"
   ]
  },
  {
   "cell_type": "code",
   "execution_count": null,
   "metadata": {},
   "outputs": [],
   "source": [
    "\n",
    "\n",
    "[[0, 0, 0, 0, 0, 0], \n",
    " [0, 3, 3, 4, 8, 10], \n",
    " [0, 8, 14, 18, 24, 27], \n",
    " [0, 9, 17, 21, 28, 36], \n",
    " [0, 13, 22, 26, 34, 49], \n",
    " [0, 14, 23, 30, 38, 58]]"
   ]
  },
  {
   "cell_type": "code",
   "execution_count": null,
   "metadata": {},
   "outputs": [],
   "source": [
    "[[0, 0, 0, 0, 0, 0], \n",
    " [0, 3, 3, 4, 8, 10], \n",
    " [0, 5, 11, 14, 16, 17], \n",
    " [0, 1, 3, 3, 4, 9], \n",
    " [0, 4, 5, 5, 6, 13], \n",
    " [0, 1, 1, 4, 4, 9]]\n",
    "\n"
   ]
  }
 ],
 "metadata": {
  "kernelspec": {
   "display_name": "Python 3",
   "language": "python",
   "name": "python3"
  },
  "language_info": {
   "codemirror_mode": {
    "name": "ipython",
    "version": 3
   },
   "file_extension": ".py",
   "mimetype": "text/x-python",
   "name": "python",
   "nbconvert_exporter": "python",
   "pygments_lexer": "ipython3",
   "version": "3.6.2"
  }
 },
 "nbformat": 4,
 "nbformat_minor": 4
}
