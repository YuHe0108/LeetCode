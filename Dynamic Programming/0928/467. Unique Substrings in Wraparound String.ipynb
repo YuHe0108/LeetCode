{
 "cells": [
  {
   "cell_type": "raw",
   "metadata": {},
   "source": [
    "说明：\n",
    "    将字符串s视为 “abcdefghijklmnopqrstuvwxyz”的无限环绕字符串，\n",
    "    因此s看起来应像这样：“ ... z abcdefghijklmnopqrstuvwxyzabcdefghijklmnopqrstuvwxyz abcd ....”。\n",
    "    现在我们有了另一个字符串p。\n",
    "    您的工作是找出s中有多少个p的唯一非空子字符串。\n",
    "    特别是，您输入的是字符串p，您需要输出字符串s中p的不同非空子字符串的数量。\n",
    "    注意：p仅包含小写英文字母，p的大小可能超过10000。\n",
    "\n",
    "Example 1:\n",
    "    Input: \"a\"\n",
    "    Output: 1\n",
    "    Explanation: Only the substring \"a\" of string \"a\" is in the string s.\n",
    "\n",
    "Example 2:\n",
    "    Input: \"cac\"\n",
    "    Output: 2\n",
    "    Explanation: There are two substrings \"a\", \"c\" of string \"cac\" in the string s.\n",
    "\n",
    "Example 3:\n",
    "    Input: \"zab\"\n",
    "    Output: 6\n",
    "    Explanation: There are six substrings \"z\", \"a\", \"b\", \"za\", \"ab\", \"zab\" of string \"zab\" in the string s."
   ]
  },
  {
   "cell_type": "code",
   "execution_count": 13,
   "metadata": {},
   "outputs": [],
   "source": [
    "class Solution:\n",
    "    def findSubstringInWraproundString(self, p: str) -> int:\n",
    "        if not p: return 0\n",
    "        dp = [0 for i in range(26)]\n",
    "        count = 1\n",
    "        pre = ord(p[0]) - ord('a')\n",
    "        dp[pre] = 1\n",
    "        print(dp)\n",
    "        for i in p[1:]:\n",
    "            cur = ord(i) - ord('a') # 当前字母的 ascll 码\n",
    "            if (pre + 1) % 26 == cur:\n",
    "                count += 1\n",
    "                dp[cur] = max(dp[cur], count)\n",
    "            else:\n",
    "                count = 1 # 断了，从1开始\n",
    "                dp[cur] = max(dp[cur], count)\n",
    "            pre = cur\n",
    "        print(dp)\n",
    "        return sum(dp)"
   ]
  },
  {
   "cell_type": "code",
   "execution_count": 14,
   "metadata": {},
   "outputs": [
    {
     "name": "stdout",
     "output_type": "stream",
     "text": [
      "[0, 0, 0, 0, 0, 0, 0, 0, 0, 0, 0, 0, 0, 0, 0, 0, 0, 0, 0, 0, 0, 0, 0, 0, 0, 1]\n",
      "[2, 3, 0, 0, 0, 0, 0, 0, 0, 0, 0, 0, 0, 0, 0, 0, 0, 0, 0, 0, 0, 0, 0, 0, 0, 1]\n"
     ]
    },
    {
     "data": {
      "text/plain": [
       "6"
      ]
     },
     "execution_count": 14,
     "metadata": {},
     "output_type": "execute_result"
    }
   ],
   "source": [
    "solution = Solution()\n",
    "solution.findSubstringInWraproundString('zab')"
   ]
  },
  {
   "cell_type": "code",
   "execution_count": null,
   "metadata": {},
   "outputs": [],
   "source": []
  }
 ],
 "metadata": {
  "kernelspec": {
   "display_name": "Python 3",
   "language": "python",
   "name": "python3"
  },
  "language_info": {
   "codemirror_mode": {
    "name": "ipython",
    "version": 3
   },
   "file_extension": ".py",
   "mimetype": "text/x-python",
   "name": "python",
   "nbconvert_exporter": "python",
   "pygments_lexer": "ipython3",
   "version": "3.6.2"
  }
 },
 "nbformat": 4,
 "nbformat_minor": 4
}
