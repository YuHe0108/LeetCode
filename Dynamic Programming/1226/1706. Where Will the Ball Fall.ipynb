{
 "cells": [
  {
   "cell_type": "code",
   "execution_count": null,
   "metadata": {},
   "outputs": [],
   "source": []
  },
  {
   "cell_type": "code",
   "execution_count": null,
   "metadata": {},
   "outputs": [],
   "source": []
  },
  {
   "cell_type": "code",
   "execution_count": 11,
   "metadata": {},
   "outputs": [],
   "source": [
    "from collections import deque\n",
    "\n",
    "class Solution:\n",
    "    def findBall(self, grid):\n",
    "        rows, cols = len(grid), len(grid[0])\n",
    "        # 如果是 1 的话，其临近的右边也必须是 1，越界或者数值为 1 都不合理\n",
    "        # 如果是 -1 的话，其临近的左边也必须是 -1, 越界或者数值为 -1 都不合理\n",
    "        start = deque()\n",
    "        for i in range(cols):\n",
    "            start.append((0, i, i)) # 最后一位表示的是 idx\n",
    "        res = [-1] * cols\n",
    "        while start:\n",
    "            for _ in range(len(start)):\n",
    "                x, y, idx = start.popleft()\n",
    "                if x == rows:\n",
    "                    res[idx] = y\n",
    "                    continue\n",
    "                if grid[x][y] == 1:\n",
    "                    if y + 1 < cols and grid[x][y+1] == 1:\n",
    "                        start.append((x + 1, y + 1, idx))\n",
    "                else:\n",
    "                    if y - 1 >= 0 and grid[x][y-1] == -1:\n",
    "                        start.append((x + 1, y - 1, idx))\n",
    "        return res"
   ]
  },
  {
   "cell_type": "code",
   "execution_count": 13,
   "metadata": {},
   "outputs": [
    {
     "data": {
      "text/plain": [
       "[-1]"
      ]
     },
     "execution_count": 13,
     "metadata": {},
     "output_type": "execute_result"
    }
   ],
   "source": [
    "solution = Solution()\n",
    "solution.findBall(grid = [[-1]])"
   ]
  },
  {
   "cell_type": "code",
   "execution_count": null,
   "metadata": {},
   "outputs": [],
   "source": []
  }
 ],
 "metadata": {
  "kernelspec": {
   "display_name": "Python 3",
   "language": "python",
   "name": "python3"
  },
  "language_info": {
   "codemirror_mode": {
    "name": "ipython",
    "version": 3
   },
   "file_extension": ".py",
   "mimetype": "text/x-python",
   "name": "python",
   "nbconvert_exporter": "python",
   "pygments_lexer": "ipython3",
   "version": "3.6.2"
  }
 },
 "nbformat": 4,
 "nbformat_minor": 4
}
