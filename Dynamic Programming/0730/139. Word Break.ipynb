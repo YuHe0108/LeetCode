{
 "cells": [
  {
   "cell_type": "markdown",
   "metadata": {},
   "source": [
    "    给定一个非空字符串s和一个包含非空单词列表的字典wordDict，\n",
    "    确定s是否可以被分割成一个由一个或多个字典单词组成的空格分隔序列。\n",
    "    注：词典中的同一个词在分词时可能会多次重复使用。你可以假设字典里没有重复的单词。\n",
    "    \n",
    "    例1：\n",
    "        Input: s = \"leetcode\", wordDict = [\"leet\", \"code\"]\n",
    "        Output: true\n",
    "        Explanation: Return true because \"leetcode\" can be segmented as \"leet code\".\n",
    "    \n",
    "    例2：\n",
    "        Input: s = \"applepenapple\", wordDict = [\"apple\", \"pen\"]\n",
    "        Output: true\n",
    "        Explanation: Return true because \"applepenapple\" can be segmented as \"apple pen apple\".\n",
    "                     Note that you are allowed to reuse a dictionary word.\n",
    "    例3：\n",
    "         Input: s = \"catsandog\", wordDict = [\"cats\", \"dog\", \"sand\", \"and\", \"cat\"]\n",
    "         Output: false"
   ]
  },
  {
   "cell_type": "code",
   "execution_count": 78,
   "metadata": {},
   "outputs": [],
   "source": [
    "class Solution:\n",
    "    def wordBreak(self, s: str, wordDict) -> bool:\n",
    "        dp = [[False] * (len(s) + 1) for _ in range(len(wordDict) + 1)]\n",
    "        for i in range(len(wordDict) + 1):\n",
    "            for j in range(len(s) + 1):\n",
    "                if (i == 0 and j == 0) or j == 0:\n",
    "                    val = True\n",
    "                else:\n",
    "                    sub_s = s[:j]\n",
    "                    sub_s_len = len(sub_s)\n",
    "                    if sub_s in wordDict[:i]:\n",
    "                        val = True and dp[i][j - sub_s_len]\n",
    "                    else:\n",
    "                        val = False\n",
    "                dp[i][j] = val\n",
    "        print(dp)\n",
    "        return dp[-1][-1]"
   ]
  },
  {
   "cell_type": "code",
   "execution_count": 118,
   "metadata": {},
   "outputs": [],
   "source": [
    "class Solution:\n",
    "    def wordBreak(self, s: str, wordDict) -> bool:\n",
    "        dp = [True]\n",
    "        for i in range(1, len(s)+1):\n",
    "            temp = False\n",
    "            for j in range(i):\n",
    "                sub_s = s[j:i]\n",
    "                print(sub_s, i, j)\n",
    "                if dp[j] and sub_s in wordDict:\n",
    "                    temp = True\n",
    "                    break\n",
    "            dp += [temp]\n",
    "        return dp[-1]"
   ]
  },
  {
   "cell_type": "code",
   "execution_count": 119,
   "metadata": {},
   "outputs": [
    {
     "name": "stdout",
     "output_type": "stream",
     "text": [
      "l 1 0\n",
      "le 2 0\n",
      "e 2 1\n",
      "lee 3 0\n",
      "ee 3 1\n",
      "e 3 2\n",
      "leet 4 0\n",
      "leetc 5 0\n",
      "eetc 5 1\n",
      "etc 5 2\n",
      "tc 5 3\n",
      "c 5 4\n",
      "leetco 6 0\n",
      "eetco 6 1\n",
      "etco 6 2\n",
      "tco 6 3\n",
      "co 6 4\n",
      "o 6 5\n",
      "leetcod 7 0\n",
      "eetcod 7 1\n",
      "etcod 7 2\n",
      "tcod 7 3\n",
      "cod 7 4\n",
      "od 7 5\n",
      "d 7 6\n",
      "leetcode 8 0\n",
      "eetcode 8 1\n",
      "etcode 8 2\n",
      "tcode 8 3\n",
      "code 8 4\n",
      "leetcodel 9 0\n",
      "eetcodel 9 1\n",
      "etcodel 9 2\n",
      "tcodel 9 3\n",
      "codel 9 4\n",
      "odel 9 5\n",
      "del 9 6\n",
      "el 9 7\n",
      "l 9 8\n",
      "leetcodele 10 0\n",
      "eetcodele 10 1\n",
      "etcodele 10 2\n",
      "tcodele 10 3\n",
      "codele 10 4\n",
      "odele 10 5\n",
      "dele 10 6\n",
      "ele 10 7\n",
      "le 10 8\n",
      "e 10 9\n",
      "leetcodelee 11 0\n",
      "eetcodelee 11 1\n",
      "etcodelee 11 2\n",
      "tcodelee 11 3\n",
      "codelee 11 4\n",
      "odelee 11 5\n",
      "delee 11 6\n",
      "elee 11 7\n",
      "lee 11 8\n",
      "ee 11 9\n",
      "e 11 10\n",
      "leetcodeleet 12 0\n",
      "eetcodeleet 12 1\n",
      "etcodeleet 12 2\n",
      "tcodeleet 12 3\n",
      "codeleet 12 4\n",
      "odeleet 12 5\n",
      "deleet 12 6\n",
      "eleet 12 7\n",
      "leet 12 8\n"
     ]
    },
    {
     "data": {
      "text/plain": [
       "True"
      ]
     },
     "execution_count": 119,
     "metadata": {},
     "output_type": "execute_result"
    }
   ],
   "source": [
    "s_ = \"leetcodeleet\" \n",
    "wordDict_ = [\"leet\", \"code\"]\n",
    "solution = Solution()\n",
    "solution.wordBreak(s_, wordDict_)"
   ]
  },
  {
   "cell_type": "code",
   "execution_count": null,
   "metadata": {},
   "outputs": [],
   "source": []
  },
  {
   "cell_type": "code",
   "execution_count": null,
   "metadata": {},
   "outputs": [],
   "source": []
  }
 ],
 "metadata": {
  "kernelspec": {
   "display_name": "TF2",
   "language": "python",
   "name": "tf2"
  },
  "language_info": {
   "codemirror_mode": {
    "name": "ipython",
    "version": 3
   },
   "file_extension": ".py",
   "mimetype": "text/x-python",
   "name": "python",
   "nbconvert_exporter": "python",
   "pygments_lexer": "ipython3",
   "version": "3.6.2"
  }
 },
 "nbformat": 4,
 "nbformat_minor": 4
}
