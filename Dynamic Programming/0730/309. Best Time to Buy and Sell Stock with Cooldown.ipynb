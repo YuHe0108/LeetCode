{
 "cells": [
  {
   "cell_type": "raw",
   "metadata": {},
   "source": [
    "    假设你有一个数组，其中第i个元素是给定股票在该天的价格。\n",
    "    设计一个算法来寻找最大利润。您可以根据自己的意愿完成任意多笔交易（即多次买入一股股票并卖出一股股票），\n",
    "    但有以下限制：您不得同时从事多笔交易（即，您必须在再次购买前出售该股票）。卖出股票后，第二天就不能买股票了。（即冷却1天）\n",
    "    \n",
    "    例1：\n",
    "        Input: [1,2,3,0,2]\n",
    "        Output: 3 \n",
    "        Explanation: transactions = [buy, sell, cooldown, buy, sell]"
   ]
  },
  {
   "cell_type": "code",
   "execution_count": 51,
   "metadata": {},
   "outputs": [],
   "source": [
    "class Solution:\n",
    "    def maxProfit(self, prices) -> int:\n",
    "        if len(prices) <= 1: return 0\n",
    "        dp = [0] * (len(prices) + 1)\n",
    "        for i in range(1, len(prices)):\n",
    "            for j in range(i):\n",
    "                dp[i+1] = max(dp[i+1], -prices[j] + prices[i] + dp[j-1], dp[i])\n",
    "        return max(dp)"
   ]
  },
  {
   "cell_type": "code",
   "execution_count": 55,
   "metadata": {},
   "outputs": [
    {
     "name": "stdout",
     "output_type": "stream",
     "text": [
      "[0, 0, 3, 3]\n"
     ]
    },
    {
     "data": {
      "text/plain": [
       "3"
      ]
     },
     "execution_count": 55,
     "metadata": {},
     "output_type": "execute_result"
    }
   ],
   "source": [
    "prices_ = [1,4,2]\n",
    "solution = Solution()\n",
    "solution.maxProfit(prices_)"
   ]
  },
  {
   "cell_type": "code",
   "execution_count": null,
   "metadata": {},
   "outputs": [],
   "source": []
  }
 ],
 "metadata": {
  "kernelspec": {
   "display_name": "TF2",
   "language": "python",
   "name": "tf2"
  },
  "language_info": {
   "codemirror_mode": {
    "name": "ipython",
    "version": 3
   },
   "file_extension": ".py",
   "mimetype": "text/x-python",
   "name": "python",
   "nbconvert_exporter": "python",
   "pygments_lexer": "ipython3",
   "version": "3.6.2"
  }
 },
 "nbformat": 4,
 "nbformat_minor": 4
}
