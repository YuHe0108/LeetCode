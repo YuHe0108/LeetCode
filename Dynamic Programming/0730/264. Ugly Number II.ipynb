{
 "cells": [
  {
   "cell_type": "raw",
   "metadata": {},
   "source": [
    "编写一个程序来找出第n个难看的数字。丑陋数是一个正数，其素数因子只有2，3，5。\n",
    "\n",
    "例1：\n",
    "    Input: n = 10\n",
    "    Output: 12\n",
    "    Explanation: 1, 2, 3, 4, 5, 6, 8, 9, 10, 12 is the sequence of the first 10 ugly numbers.\n",
    "例2：\n",
    "    1、1 is typically treated as an ugly number.\n",
    "    2、n does not exceed 1690."
   ]
  },
  {
   "cell_type": "code",
   "execution_count": null,
   "metadata": {},
   "outputs": [],
   "source": []
  }
 ],
 "metadata": {
  "kernelspec": {
   "display_name": "TF2",
   "language": "python",
   "name": "tf2"
  },
  "language_info": {
   "codemirror_mode": {
    "name": "ipython",
    "version": 3
   },
   "file_extension": ".py",
   "mimetype": "text/x-python",
   "name": "python",
   "nbconvert_exporter": "python",
   "pygments_lexer": "ipython3",
   "version": "3.6.2"
  }
 },
 "nbformat": 4,
 "nbformat_minor": 4
}
