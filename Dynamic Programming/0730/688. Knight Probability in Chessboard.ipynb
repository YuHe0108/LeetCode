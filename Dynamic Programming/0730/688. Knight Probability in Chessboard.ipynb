{
 "cells": [
  {
   "cell_type": "raw",
   "metadata": {},
   "source": [
    "在NxN棋盘上，骑士从第r行和第c列开始，尝试进行精确的K步。行和列的索引为0，\n",
    "因此左上角的正方形为(0，0)，右下角的正方形为(N-1，N-1)。\n",
    "一个国际象棋骑士有8种可能的走法，如下图所示。\n",
    "每一步都是在一个基本方向上移动两个正方形，然后在正交方向上移动一个正方形。"
   ]
  }
 ],
 "metadata": {
  "kernelspec": {
   "display_name": "TF2",
   "language": "python",
   "name": "tf2"
  },
  "language_info": {
   "codemirror_mode": {
    "name": "ipython",
    "version": 3
   },
   "file_extension": ".py",
   "mimetype": "text/x-python",
   "name": "python",
   "nbconvert_exporter": "python",
   "pygments_lexer": "ipython3",
   "version": "3.6.2"
  }
 },
 "nbformat": 4,
 "nbformat_minor": 4
}
