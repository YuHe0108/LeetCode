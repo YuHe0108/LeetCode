{
 "cells": [
  {
   "cell_type": "code",
   "execution_count": null,
   "metadata": {},
   "outputs": [],
   "source": []
  },
  {
   "cell_type": "code",
   "execution_count": null,
   "metadata": {},
   "outputs": [],
   "source": []
  },
  {
   "cell_type": "code",
   "execution_count": null,
   "metadata": {},
   "outputs": [],
   "source": [
    " if j+1 <= n and cur_weight + boxes[j+1][1] <= maxWeight:\n",
    "    j += 1\n",
    "    cur_weight += boxes[j][1]\n",
    "    # 相邻的港口在不同位置的时候，num_trip 需要 +1\n",
    "    if boxes[j][0] != boxes[j-1][0]:\n",
    "        num_trip += 1\n",
    "    if last_port != boxes[j][0]:\n",
    "        last_j = j\n",
    "        last_port = boxes[j][0]\n",
    "    else:\n",
    "    break"
   ]
  },
  {
   "cell_type": "code",
   "execution_count": 31,
   "metadata": {},
   "outputs": [],
   "source": [
    "from typing import List\n",
    "\n",
    "class Solution:\n",
    "    def boxDelivering(self, boxes: List[List[int]], portsCount: int, maxBoxes: int, maxWeight: int) -> int:\n",
    "        n = len(boxes)\n",
    "        boxes = [[-1, 0]] + boxes\n",
    "        dp = [float('inf')] * (n + 1) # dp[i] 表示运输了 boxes[:i] 的货物时，需要的最小trip\n",
    "        dp[0] = 0 # 没装任何货物的时候，trip = 0\n",
    "        j = 0\n",
    "        last_port = last_j = 0 # 最后一个货物与之前货物的港口相同的位置在哪里\n",
    "        cur_weight = 0 # 当前车上能够负载所有箱子的重量\n",
    "        num_trip = 0 # 运输当前 货物需要多少次来回\n",
    "        for i in range(1, n+1):\n",
    "            while j+1 <= n and j+1-i+1 <= maxBoxes and cur_weight + boxes[j+1][1] <= maxWeight:\n",
    "                j += 1\n",
    "                cur_weight += boxes[j][1]\n",
    "                # 相邻的港口在不同位置的时候，num_trip 需要 +1\n",
    "                if boxes[j][0] != boxes[j-1][0]:\n",
    "                    num_trip += 1\n",
    "                if last_port != boxes[j][0]:\n",
    "                    last_j = j\n",
    "                    last_port = boxes[j][0]\n",
    "            dp[j] = min(dp[j], dp[i-1] + num_trip + 1)\n",
    "        \n",
    "            # 第二种方案\n",
    "            if j+1 <= n and boxes[j][0] == boxes[j+1][0]:\n",
    "                dp[last_j-1] = min(dp[last_j-1], dp[i-1] + num_trip)\n",
    "            \n",
    "            # 左指针移动\n",
    "            cur_weight -= boxes[i][1]\n",
    "            if i+1 <= n and boxes[i][0] != boxes[i+1][0]:\n",
    "                num_trip -= 1\n",
    "        return dp[-1]"
   ]
  },
  {
   "cell_type": "code",
   "execution_count": 32,
   "metadata": {},
   "outputs": [
    {
     "data": {
      "text/plain": [
       "6"
      ]
     },
     "execution_count": 32,
     "metadata": {},
     "output_type": "execute_result"
    }
   ],
   "source": [
    "solution = Solution()\n",
    "solution.boxDelivering([[1,2],[3,3],[3,1],[3,1],[2,4]], 3, 3, 6)"
   ]
  },
  {
   "cell_type": "code",
   "execution_count": null,
   "metadata": {},
   "outputs": [],
   "source": []
  }
 ],
 "metadata": {
  "kernelspec": {
   "display_name": "Python 3",
   "language": "python",
   "name": "python3"
  },
  "language_info": {
   "codemirror_mode": {
    "name": "ipython",
    "version": 3
   },
   "file_extension": ".py",
   "mimetype": "text/x-python",
   "name": "python",
   "nbconvert_exporter": "python",
   "pygments_lexer": "ipython3",
   "version": "3.6.2"
  }
 },
 "nbformat": 4,
 "nbformat_minor": 4
}
