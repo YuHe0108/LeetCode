{
 "cells": [
  {
   "cell_type": "raw",
   "metadata": {},
   "source": [
    "说明：\n",
    "    连续排列N堆石头。第i堆有stone[i]石头。\n",
    "    一次移动包括将正好K个连续的桩合并为一个桩，并且此移动的成本等于这K个桩中的石头总数。\n",
    "    找到将所有石头堆合并为一堆的最低成本。\n",
    "    如果不可能，则返回-1。\n",
    "\n",
    "Example 1:\n",
    "    Input: stones = [3,2,4,1], K = 2\n",
    "    Output: 20\n",
    "    Explanation: \n",
    "        We start with [3, 2, 4, 1].\n",
    "        We merge [3, 2] for a cost of 5, and we are left with [5, 4, 1].\n",
    "        We merge [4, 1] for a cost of 5, and we are left with [5, 5].\n",
    "        We merge [5, 5] for a cost of 10, and we are left with [10].\n",
    "    The total cost was 20, and this is the minimum possible.\n",
    "\n",
    "Example 2:\n",
    "    Input: stones = [3,2,4,1], K = 3\n",
    "    Output: -1\n",
    "    Explanation: After any merge operation, there are 2 piles left, and we can't merge anymore. \n",
    "                 So the task is impossible.\n",
    "\n",
    "Example 3:\n",
    "    Input: stones = [3,5,1,2,6], K = 3\n",
    "    Output: 25\n",
    "    Explanation: \n",
    "        We start with [3, 5, 1, 2, 6].\n",
    "        We merge [5, 1, 2] for a cost of 8, and we are left with [3, 8, 6].\n",
    "        We merge [3, 8, 6] for a cost of 17, and we are left with [17].\n",
    "        The total cost was 25, and this is the minimum possible.\n",
    " \n",
    "Note:\n",
    "    1、1 <= stones.length <= 30\n",
    "    2、2 <= K <= 30\n",
    "    3、1 <= stones[i] <= 100"
   ]
  },
  {
   "cell_type": "code",
   "execution_count": 2,
   "metadata": {},
   "outputs": [],
   "source": [
    "class Solution:\n",
    "    def mergeStones(self, stones, K: int) -> int:\n",
    "        pass"
   ]
  },
  {
   "cell_type": "code",
   "execution_count": 3,
   "metadata": {},
   "outputs": [],
   "source": [
    "solution = Solution()\n",
    "solution.mergeStones([3,2,4,1], 2)"
   ]
  },
  {
   "cell_type": "code",
   "execution_count": null,
   "metadata": {},
   "outputs": [],
   "source": []
  }
 ],
 "metadata": {
  "kernelspec": {
   "display_name": "Python 3",
   "language": "python",
   "name": "python3"
  },
  "language_info": {
   "codemirror_mode": {
    "name": "ipython",
    "version": 3
   },
   "file_extension": ".py",
   "mimetype": "text/x-python",
   "name": "python",
   "nbconvert_exporter": "python",
   "pygments_lexer": "ipython3",
   "version": "3.6.2"
  }
 },
 "nbformat": 4,
 "nbformat_minor": 4
}
