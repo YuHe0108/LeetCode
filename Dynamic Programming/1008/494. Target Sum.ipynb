{
 "cells": [
  {
   "cell_type": "raw",
   "metadata": {},
   "source": [
    "说明：\n",
    "    将为您提供非负整数a1，a2，...，an和目标S的列表。\n",
    "    现在您有2个符号\"+\"和\"-\"。\n",
    "    对于每个整数，应该从和中选择一个作为其新符号。\n",
    "    找出几种分配符号的方法，以使整数和等于目标S。\n",
    "\n",
    "Example 1:\n",
    "    Input: nums is [1, 1, 1, 1, 1], S is 3. \n",
    "    Output: 5\n",
    "    Explanation: \n",
    "        -1+1+1+1+1 = 3\n",
    "        +1-1+1+1+1 = 3\n",
    "        +1+1-1+1+1 = 3\n",
    "        +1+1+1-1+1 = 3\n",
    "        +1+1+1+1-1 = 3\n",
    "    There are 5 ways to assign symbols to make the sum of nums be target 3.\n",
    " \n",
    "Constraints:\n",
    "    1，给定数组的长度为正且不超过20。\n",
    "    2，给定数组中元素的总和不超过1000。\n",
    "    3，您的输出答案保证为32位整数。"
   ]
  },
  {
   "cell_type": "code",
   "execution_count": 117,
   "metadata": {},
   "outputs": [],
   "source": [
    "class Solution:\n",
    "    def findTargetSumWays(self, nums, S: int) -> int:\n",
    "        N = len(nums)\n",
    "        max_sum = sum(nums)\n",
    "        dp = [[0] * (2 * max_sum + 1) for _ in range(N + 1)]\n",
    "        nums = [0] + nums\n",
    "        \n",
    "        # 如果都是负号，那么结果就是 -max_sum, 如果都是正号，那么结果就是max_sum\n",
    "        if abs(max_sum) < S:\n",
    "            return 0\n",
    "        \n",
    "        dp[1][nums[1] + max_sum] += 1\n",
    "        dp[1][-nums[1] + max_sum] += 1\n",
    "        \n",
    "        # 第 i 个元素\n",
    "        for i in range(2, N+1):\n",
    "            for s in range(-max_sum, max_sum + 1):\n",
    "                # s表示有可能的值，s + max_sum 表示在数组中的下标索引\n",
    "                s1 = s + nums[i] + max_sum\n",
    "                s2 = s - nums[i] + max_sum\n",
    "                s_idx = s + max_sum\n",
    "                if s1 <= 2 * max_sum:\n",
    "                    dp[i][s_idx] += dp[i-1][s1]\n",
    "                if s2 >= 0 :\n",
    "                    dp[i][s_idx] += dp[i-1][s2]\n",
    "        return dp[N][S + max_sum]"
   ]
  },
  {
   "cell_type": "code",
   "execution_count": 118,
   "metadata": {},
   "outputs": [
    {
     "data": {
      "text/plain": [
       "5"
      ]
     },
     "execution_count": 118,
     "metadata": {},
     "output_type": "execute_result"
    }
   ],
   "source": [
    "solution = Solution()\n",
    "solution.findTargetSumWays([1,1,1,1,1], 3)"
   ]
  },
  {
   "cell_type": "code",
   "execution_count": null,
   "metadata": {},
   "outputs": [],
   "source": []
  }
 ],
 "metadata": {
  "kernelspec": {
   "display_name": "Python 3",
   "language": "python",
   "name": "python3"
  },
  "language_info": {
   "codemirror_mode": {
    "name": "ipython",
    "version": 3
   },
   "file_extension": ".py",
   "mimetype": "text/x-python",
   "name": "python",
   "nbconvert_exporter": "python",
   "pygments_lexer": "ipython3",
   "version": "3.6.2"
  }
 },
 "nbformat": 4,
 "nbformat_minor": 4
}
