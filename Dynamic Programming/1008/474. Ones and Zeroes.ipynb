{
 "cells": [
  {
   "cell_type": "raw",
   "metadata": {},
   "source": [
    "说明：\n",
    "    给定一个数组strs，其字符串仅包含0和1。\n",
    "    还有两个整数m和n。现在您的任务是找到在给定的m 0和n 1的情况下可以形成的最大字符串数。\n",
    "    0和1最多只能使用一次。\n",
    "\n",
    "要求：\n",
    "    从数组中选择元素，选择尽可能多的元素，但是最多只能有m 个 0， n 个 1.\n",
    "\n",
    "Example 1:\n",
    "    Input: strs = [\"10\",\"0001\",\"111001\",\"1\",\"0\"], m = 5, n = 3\n",
    "    Output: 4\n",
    "    Explanation: This are totally 4 strings can be formed by the using of 5 0s and 3 1s, which are \"10\",\"0001\",\"1\",\"0\".\n",
    "\n",
    "Example 2:\n",
    "    Input: strs = [\"10\",\"0\",\"1\"], m = 1, n = 1\n",
    "    Output: 2\n",
    "    Explanation: You could form \"10\", but then you'd have nothing left. Better form \"0\" and \"1\".\n",
    " \n",
    "Constraints:\n",
    "    1、1 <= strs.length <= 600\n",
    "    2、1 <= strs[i].length <= 100\n",
    "    3、strs[i] consists only of digits '0' and '1'.\n",
    "    4、1 <= m, n <= 100"
   ]
  },
  {
   "cell_type": "code",
   "execution_count": 1,
   "metadata": {},
   "outputs": [],
   "source": [
    "from collections import Counter\n",
    "\n",
    "class Solution:\n",
    "    def findMaxForm(self, strs, m: int, n: int) -> int:\n",
    "        dp = [[0] * m for _ in range(n)]\n",
    "        \n",
    "        for s in strs:\n",
    "            ones = Counter(s)\n",
    "            zeros = Counter(s)\n",
    "            \n",
    "            for z in range(n, ones-1, -1):\n",
    "                for o in range(m, zeros-1, -1):\n",
    "                    "
   ]
  },
  {
   "cell_type": "code",
   "execution_count": 70,
   "metadata": {},
   "outputs": [],
   "source": [
    "class Solution:\n",
    "    def findMaxForm(self, strs, m: int, n: int) -> int:\n",
    "        dp = [[0] * (m + 1) for _ in range(n + 1)]\n",
    "        \n",
    "        for s in strs:\n",
    "            z_s = s.count('0')\n",
    "            o_s = s.count('1')\n",
    "            \n",
    "            for i in range(n, o_s - 1, -1):\n",
    "                for j in range(m, z_s - 1, -1):\n",
    "                    dp[i][j] = max(dp[i][j], dp[i - o_s][j - z_s] + 1)\n",
    "                print(dp, z_s, o_s)\n",
    "        return dp[-1][-1]"
   ]
  },
  {
   "cell_type": "code",
   "execution_count": 71,
   "metadata": {},
   "outputs": [
    {
     "name": "stdout",
     "output_type": "stream",
     "text": [
      "[[0, 0, 0, 0, 0, 0], [0, 0, 0, 0, 0, 0], [0, 0, 0, 0, 0, 0], [0, 1, 1, 1, 1, 1]] 1 1\n",
      "[[0, 0, 0, 0, 0, 0], [0, 0, 0, 0, 0, 0], [0, 1, 1, 1, 1, 1], [0, 1, 1, 1, 1, 1]] 1 1\n",
      "[[0, 0, 0, 0, 0, 0], [0, 1, 1, 1, 1, 1], [0, 1, 1, 1, 1, 1], [0, 1, 1, 1, 1, 1]] 1 1\n",
      "[[0, 0, 0, 0, 0, 0], [0, 1, 1, 1, 1, 1], [0, 1, 1, 1, 1, 1], [0, 1, 1, 1, 2, 2]] 3 1\n",
      "[[0, 0, 0, 0, 0, 0], [0, 1, 1, 1, 1, 1], [0, 1, 1, 1, 2, 2], [0, 1, 1, 1, 2, 2]] 3 1\n",
      "[[0, 0, 0, 0, 0, 0], [0, 1, 1, 1, 1, 1], [0, 1, 1, 1, 2, 2], [0, 1, 1, 1, 2, 2]] 3 1\n",
      "[[0, 0, 0, 0, 0, 0], [0, 1, 1, 1, 1, 1], [0, 1, 1, 1, 2, 2], [1, 2, 2, 2, 3, 3]] 0 1\n",
      "[[0, 0, 0, 0, 0, 0], [0, 1, 1, 1, 1, 1], [1, 2, 2, 2, 2, 2], [1, 2, 2, 2, 3, 3]] 0 1\n",
      "[[0, 0, 0, 0, 0, 0], [1, 1, 1, 1, 1, 1], [1, 2, 2, 2, 2, 2], [1, 2, 2, 2, 3, 3]] 0 1\n",
      "[[0, 0, 0, 0, 0, 0], [1, 1, 1, 1, 1, 1], [1, 2, 2, 2, 2, 2], [1, 2, 3, 3, 3, 4]] 1 0\n",
      "[[0, 0, 0, 0, 0, 0], [1, 1, 1, 1, 1, 1], [1, 2, 3, 3, 3, 3], [1, 2, 3, 3, 3, 4]] 1 0\n",
      "[[0, 0, 0, 0, 0, 0], [1, 2, 2, 2, 2, 2], [1, 2, 3, 3, 3, 3], [1, 2, 3, 3, 3, 4]] 1 0\n",
      "[[0, 1, 1, 1, 1, 1], [1, 2, 2, 2, 2, 2], [1, 2, 3, 3, 3, 3], [1, 2, 3, 3, 3, 4]] 1 0\n"
     ]
    },
    {
     "data": {
      "text/plain": [
       "4"
      ]
     },
     "execution_count": 71,
     "metadata": {},
     "output_type": "execute_result"
    }
   ],
   "source": [
    "solution = Solution()\n",
    "solution.findMaxForm([\"10\",\"0001\",\"111001\",\"1\",\"0\"], 5, 3)"
   ]
  },
  {
   "cell_type": "code",
   "execution_count": 23,
   "metadata": {},
   "outputs": [
    {
     "data": {
      "text/plain": [
       "[[0, 1, 1, 1, 1, 1],\n",
       " [1, 2, 2, 2, 2, 2],\n",
       " [1, 2, 3, 3, 3, 3],\n",
       " [1, 2, 3, 3, 3, 4]]"
      ]
     },
     "execution_count": 23,
     "metadata": {},
     "output_type": "execute_result"
    }
   ],
   "source": [
    "[[0, 1, 1, 1, 1, 1], \n",
    " [1, 2, 2, 2, 2, 2], \n",
    " [1, 2, 3, 3, 3, 3], \n",
    " [1, 2, 3, 3, 3, 4]]"
   ]
  },
  {
   "cell_type": "code",
   "execution_count": 53,
   "metadata": {},
   "outputs": [],
   "source": [
    "          0  1  2  3  4  5\n",
    "     0   [0, 0, 0, 0, 0, 0], \n",
    "     1   [0, 0, 0, 0, 0, 0], \n",
    "     2   [0, 0, 0, 0, 0, 0], \n",
    "     3   [0, 0, 0, 0, 0, 0]"
   ]
  },
  {
   "cell_type": "code",
   "execution_count": null,
   "metadata": {},
   "outputs": [],
   "source": [
    "        [[0, 0, 0, 0, 0, 0], \n",
    "         [0, 1, 1, 1, 1, 1], \n",
    "         [0, 1, 1, 1, 1, 1], \n",
    "         [0, 1, 1, 1, 1, 1]]\n",
    "    \n",
    "        [[0, 0, 0, 0, 0, 0], \n",
    "         [0, 1, 1, 1, 1, 1], \n",
    "         [0, 1, 1, 1, 2, 2], \n",
    "         [0, 1, 1, 1, 2, 2]]\n",
    "        "
   ]
  },
  {
   "cell_type": "code",
   "execution_count": null,
   "metadata": {},
   "outputs": [],
   "source": []
  }
 ],
 "metadata": {
  "kernelspec": {
   "display_name": "Python 3",
   "language": "python",
   "name": "python3"
  },
  "language_info": {
   "codemirror_mode": {
    "name": "ipython",
    "version": 3
   },
   "file_extension": ".py",
   "mimetype": "text/x-python",
   "name": "python",
   "nbconvert_exporter": "python",
   "pygments_lexer": "ipython3",
   "version": "3.6.2"
  }
 },
 "nbformat": 4,
 "nbformat_minor": 4
}
