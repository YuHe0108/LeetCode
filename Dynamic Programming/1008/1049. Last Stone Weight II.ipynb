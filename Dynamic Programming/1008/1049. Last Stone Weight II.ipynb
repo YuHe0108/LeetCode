{
 "cells": [
  {
   "cell_type": "raw",
   "metadata": {},
   "source": [
    "说明：\n",
    "    我们有一个岩石集合，每个岩石都有一个正整数权重。\n",
    "    每回合，我们选择任意两个岩石并将它们粉碎在一起。\n",
    "    假设宝石的权重为x和y，且x <= y。粉碎的结果是：\n",
    "        1、如果x == y，则两块宝石都被完全破坏；\n",
    "        2、如果x！= y，则重量为x的石头将被完全破坏，重量为y的石头将具有新的重量y-x。\n",
    "    \n",
    "    最后，最多剩下1块石头，返回此石头可能的最小重量（如果没有石头，则重量为0。）\n",
    "\n",
    "Example 1:\n",
    "    Input: [2,7,4,1,8,1]\n",
    "    Output: 1\n",
    "    Explanation: \n",
    "        We can combine 2 and 4 to get 2 so the array converts to [2,7,1,8,1] then,\n",
    "        we can combine 7 and 8 to get 1 so the array converts to [2,1,1,1] then,\n",
    "        we can combine 2 and 1 to get 1 so the array converts to [1,1,1] then,\n",
    "        we can combine 1 and 1 to get 0 so the array converts to [1] then that's the optimal value.\n",
    "Note:\n",
    "    1、1 <= stones.length <= 30\n",
    "    2、1 <= stones[i] <= 100"
   ]
  },
  {
   "cell_type": "code",
   "execution_count": 15,
   "metadata": {},
   "outputs": [],
   "source": [
    "class Solution:\n",
    "    def lastStoneWeightII(self, stones) -> int:\n",
    "        N = len(stones)\n",
    "        stones = [0] + stones\n",
    "        \n",
    "        dp = [[float('inf')] * (N + 1) for _ in range(N + 1)]\n",
    "        \n",
    "        for i in  range(N+1):\n",
    "            dp[i][i] = stones[i]\n",
    "        \n",
    "        for i in range(1, N+1):\n",
    "            for j in range(1, N+1):\n",
    "                if i != j and nums[i] <= nums[j] and nums[i] > 0 and nums[j] > 0:\n",
    "                    if nums[i] == nums[j]:\n",
    "                        dp[i][j] = min(dp[i][j], dp[i][j-1])\n",
    "                        nums[i], nums[j] = 0, 0\n",
    "                    else:\n",
    "                        dp[i][j] = min(dp[i][j], )\n",
    "                        stones.ap\n",
    "                        nums[i] = 0\n",
    "                        nums[j] -= nums[i]\n",
    "        print(dp)\n",
    "        return dp[1][N]"
   ]
  },
  {
   "cell_type": "code",
   "execution_count": 31,
   "metadata": {},
   "outputs": [],
   "source": [
    "class Solution:\n",
    "    def lastStoneWeightII(self, stones) -> int:\n",
    "        N = len(stones)\n",
    "        s_sum = sum(stones)\n",
    "        stones = [0] + stones\n",
    "        \n",
    "        dp = [[0] * (2 * s_sum + 1) for _ in range(N + 1)]\n",
    "        \n",
    "        for i in range(N+1):\n",
    "            dp[i][i] = stones[i]\n",
    "        \n",
    "        for n in range(1, N + 1):\n",
    "            for s in range(-s_sum, s_sum + 1):\n",
    "                s1 = s + s_sum + stones[n]\n",
    "                s2 = s + s_sum - stones[n]\n",
    "                s_idx = s + s_sum\n",
    "                if s2 >= 0:\n",
    "                    dp[n][s_idx] += dp[n-1][s2]\n",
    "                if s1 <= 2 * s_sum:\n",
    "                    dp[n][s_idx] += dp[n-1][s1]\n",
    "        \n",
    "        res = float('inf')\n",
    "        for s in range(s_sum, 2 * s_sum + 1):\n",
    "            res = min(res, dp[N][s])\n",
    "        print(dp)\n",
    "        return res"
   ]
  },
  {
   "cell_type": "code",
   "execution_count": 106,
   "metadata": {},
   "outputs": [],
   "source": [
    "class Solution:\n",
    "    def lastStoneWeightII(self, stones) -> int:\n",
    "        solutions = [float('inf')]\n",
    "        \n",
    "        for i in range(len(stones)):\n",
    "            s = stones[i]\n",
    "            for val in set(solutions):\n",
    "                if val == float('inf'):\n",
    "                    continue\n",
    "                solutions.append(val + s)\n",
    "                solutions.append(val - s)\n",
    "                \n",
    "        print(set(solutions))\n",
    "        res = float('inf')\n",
    "        for s in solutions:\n",
    "            if res > s and s >= 0:\n",
    "                res =  s\n",
    "        return res"
   ]
  },
  {
   "cell_type": "code",
   "execution_count": 170,
   "metadata": {},
   "outputs": [],
   "source": [
    "class Solution:\n",
    "    def lastStoneWeightII(self, stones) -> int:\n",
    "        solutions = {0}\n",
    "        zero = False\n",
    "        for stone in stones:\n",
    "            temp_set = set()\n",
    "            for val in solutions:\n",
    "                temp_set.add(val + stone)\n",
    "            solutions |= temp_set\n",
    "            # solutions |= {stone + i for i in solutions}\n",
    "        \n",
    "        S = sum(stones)\n",
    "        res = float('inf')\n",
    "        for i in solutions:\n",
    "            res = min(res, i)\n",
    "#             res = min(res, abs(i - (S - i))) # i - S + i\n",
    "        return res"
   ]
  },
  {
   "cell_type": "code",
   "execution_count": 183,
   "metadata": {},
   "outputs": [],
   "source": [
    "class Solution:\n",
    "    def lastStoneWeightII(self, stones) -> int:\n",
    "        dp = {0}\n",
    "        sum_stones = sum(stones)\n",
    "        \n",
    "        for s in stones:\n",
    "            dp_new = set()\n",
    "            for x in dp:\n",
    "                dp_new.add(x + s)\n",
    "                dp_new.add(x - s)\n",
    "            dp = dp_new\n",
    "        \n",
    "        res = float('inf')\n",
    "        for i in dp:\n",
    "            if i >= 0 and i < res:\n",
    "                res = i\n",
    "        return res  "
   ]
  },
  {
   "cell_type": "code",
   "execution_count": 184,
   "metadata": {},
   "outputs": [
    {
     "data": {
      "text/plain": [
       "1"
      ]
     },
     "execution_count": 184,
     "metadata": {},
     "output_type": "execute_result"
    }
   ],
   "source": [
    "solution = Solution()\n",
    "solution.lastStoneWeightII([2,7,4,1,8,1])"
   ]
  },
  {
   "cell_type": "code",
   "execution_count": 20,
   "metadata": {},
   "outputs": [],
   "source": [
    "# [[0, inf, inf, inf, inf, inf, inf], \n",
    "#  [inf, 2, inf, inf, inf, inf, inf], \n",
    "#  [inf, inf, 7, inf, inf, inf, inf], \n",
    "#  [inf, inf, inf, 4, inf, inf, inf], \n",
    "#  [inf, inf, inf, inf, 1, inf, inf], \n",
    "#  [inf, inf, inf, inf, inf, 8, inf], \n",
    "#  [inf, inf, inf, inf, inf, inf, 1]]"
   ]
  },
  {
   "cell_type": "code",
   "execution_count": null,
   "metadata": {},
   "outputs": [],
   "source": [
    "class Solution:\n",
    "    def lastStoneWeightII(self, stones: List[int]) -> int:\n",
    "        n , target = len(stones) , sum(stones)\n",
    "        dp = [0 for i in range(target // 2 + 1)]\n",
    "        for i in stones:\n",
    "            for j in range(target // 2 , 0 , -1):\n",
    "                if j >= i:\n",
    "                    dp[j] = max(dp[j] , dp[j - i] + i)\n",
    "        return target - 2 * dp[target // 2]"
   ]
  },
  {
   "cell_type": "code",
   "execution_count": 150,
   "metadata": {},
   "outputs": [],
   "source": [
    "a = {1,2}\n",
    "b = {2,3}\n",
    "c = a & b"
   ]
  },
  {
   "cell_type": "code",
   "execution_count": 151,
   "metadata": {},
   "outputs": [
    {
     "data": {
      "text/plain": [
       "{2}"
      ]
     },
     "execution_count": 151,
     "metadata": {},
     "output_type": "execute_result"
    }
   ],
   "source": [
    "c"
   ]
  },
  {
   "cell_type": "code",
   "execution_count": null,
   "metadata": {},
   "outputs": [],
   "source": []
  }
 ],
 "metadata": {
  "kernelspec": {
   "display_name": "Python 3",
   "language": "python",
   "name": "python3"
  },
  "language_info": {
   "codemirror_mode": {
    "name": "ipython",
    "version": 3
   },
   "file_extension": ".py",
   "mimetype": "text/x-python",
   "name": "python",
   "nbconvert_exporter": "python",
   "pygments_lexer": "ipython3",
   "version": "3.6.2"
  }
 },
 "nbformat": 4,
 "nbformat_minor": 4
}
