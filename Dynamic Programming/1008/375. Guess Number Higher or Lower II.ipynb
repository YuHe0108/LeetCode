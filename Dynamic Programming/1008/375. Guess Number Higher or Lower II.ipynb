{
 "cells": [
  {
   "cell_type": "raw",
   "metadata": {},
   "source": [
    "说明：\n",
    "    我们正在玩猜猜游戏。游戏将按如下方式工作：\n",
    "    1、我选择1到n之间的数字。你猜一个数字。\n",
    "    2、如果您猜对了号码，您将赢得比赛。\n",
    "    3、如果您猜错了数字，那么我将告诉您我选择的数字是高还是低，您将继续猜测。\n",
    "    4、每次您猜错数字x时，您将支付x美元。\n",
    "    5、如果钱用光了，您将输掉比赛。\n",
    "    \n",
    "    给定一个特定的n，获胜需要最少的金额。"
   ]
  },
  {
   "cell_type": "markdown",
   "metadata": {},
   "source": [
    "<img src='https://assets.leetcode.com/uploads/2020/09/10/graph.png'>"
   ]
  },
  {
   "cell_type": "raw",
   "metadata": {},
   "source": [
    "Example 1:\n",
    "    Input: n = 10\n",
    "    Output: 16\n",
    "    Explanation: The winning strategy is as follows:\n",
    "        - The range is [1,10]. Guess 7.\n",
    "        - If this is my number, your total is $0. Otherwise, you pay $7.\n",
    "        - If my number is higher, the range is [8,10]. Guess 9.\n",
    "        - If this is my number, your total is $7. Otherwise, you pay $9.\n",
    "        - If my number is higher, it must be 10. Guess 10. Your total is $7 + $9 = $16.\n",
    "        - If my number is lower, it must be 8. Guess 8. Your total is $7 + $9 = $16.\n",
    "        - If my number is lower, the range is [1,6]. Guess 3.\n",
    "        - If this is my number, your total is $7. Otherwise, you pay $3.\n",
    "        - If my number is higher, the range is [4,6]. Guess 5.\n",
    "        - If this is my number, your total is $7 + $3 = $10. Otherwise, you pay $5.\n",
    "        - If my number is higher, it must be 6. Guess 6. Your total is $7 + $3 + $5 = $15.\n",
    "        - If my number is lower, it must be 4. Guess 4. Your total is $7 + $3 + $5 = $15.\n",
    "        - If my number is lower, the range is [1,2]. Guess 1.\n",
    "        - If this is my number, your total is $7 + $3 = $10. Otherwise, you pay $1.\n",
    "        - If my number is higher, it must be 2. Guess 2. Your total is $7 + $3 + $1 = $11.\n",
    "        The worst case in all these scenarios is that you pay $16. Hence, you only need $16 to guarantee a win.\n",
    "\n",
    "Example 2:\n",
    "    Input: n = 1\n",
    "    Output: 0\n",
    "    Explanation: There is only one possible number, so you can guess 1 and not have to pay anything.\n",
    "\n",
    "Example 3:\n",
    "    Input: n = 2\n",
    "    Output: 1\n",
    "    Explanation: There are two possible numbers, 1 and 2.\n",
    "        - Guess 1.\n",
    "        - If this is my number, your total is $0. Otherwise, you pay $1.\n",
    "        - If my number is higher, it must be 2. Guess 2. Your total is $1.\n",
    "    The worst case is that you pay $1.\n",
    " \n",
    "Constraints:\n",
    "    1、1 <= n <= 200"
   ]
  },
  {
   "cell_type": "code",
   "execution_count": 181,
   "metadata": {},
   "outputs": [],
   "source": [
    "class Solution:\n",
    "    def getMoneyAmount(self, n: int) -> int:\n",
    "        dp = [[float('inf')] * (n+2) for _ in range(n+2)]\n",
    "        \n",
    "        for i in range(1, n+1):\n",
    "            dp[i][i] = 0\n",
    "            dp[i][0] = 0\n",
    "            dp[0][i] = 0\n",
    "            \n",
    "        for gap in range(1, n+1):\n",
    "            start = 1\n",
    "            while start + gap - 1 <= n:\n",
    "                end = start + gap - 1\n",
    "                for m in range(start, end + 1):\n",
    "                    dp[start][end] = min(dp[start][end], max(dp[start][m-1], dp[m+1][end]) + m)\n",
    "                start += 1\n",
    "        return dp[1][n]"
   ]
  },
  {
   "cell_type": "code",
   "execution_count": 182,
   "metadata": {},
   "outputs": [
    {
     "name": "stdout",
     "output_type": "stream",
     "text": [
      "[[inf, 0, 0, 0, 0, 0, inf], [0, 0, 1, 2, 4, 6, inf], [0, inf, 0, inf, 3, inf, inf], [0, inf, inf, 0, inf, 4, inf], [0, inf, inf, inf, 0, inf, inf], [0, inf, inf, inf, inf, 0, inf], [inf, inf, inf, inf, inf, inf, inf]]\n"
     ]
    },
    {
     "data": {
      "text/plain": [
       "6"
      ]
     },
     "execution_count": 182,
     "metadata": {},
     "output_type": "execute_result"
    }
   ],
   "source": [
    "solution = Solution()\n",
    "solution.getMoneyAmount(5)"
   ]
  },
  {
   "cell_type": "code",
   "execution_count": null,
   "metadata": {},
   "outputs": [],
   "source": []
  },
  {
   "cell_type": "code",
   "execution_count": null,
   "metadata": {},
   "outputs": [],
   "source": []
  }
 ],
 "metadata": {
  "kernelspec": {
   "display_name": "Python 3",
   "language": "python",
   "name": "python3"
  },
  "language_info": {
   "codemirror_mode": {
    "name": "ipython",
    "version": 3
   },
   "file_extension": ".py",
   "mimetype": "text/x-python",
   "name": "python",
   "nbconvert_exporter": "python",
   "pygments_lexer": "ipython3",
   "version": "3.6.2"
  }
 },
 "nbformat": 4,
 "nbformat_minor": 4
}
