{
 "cells": [
  {
   "cell_type": "raw",
   "metadata": {},
   "source": [
    "说明：\n",
    "    有一组G成员，以及他们可能犯下的各种罪行。\n",
    "    第i种犯罪产生 利润 profit[i]，并要求团体 group[i] 成员参与。\n",
    "    如果成员参与一项犯罪，则该成员不能参与另一项犯罪。\n",
    "    让我们将这些犯罪的任何子集至少产生P利润，并将参与该犯罪子集的成员总数最多为G称为有利可图的方案。\n",
    "    可以选择多少种方案？\n",
    "    由于答案可能非常大，因此请以10 ^ 9 + 7返回。\n",
    "\n",
    "Example 1:\n",
    "    Input: G = 5, P = 3, group = [2,2], profit = [2,3]\n",
    "    Output: 2\n",
    "    Explanation: \n",
    "        To make a profit of at least 3, the group could either commit crimes 0 and 1, or just crime 1.\n",
    "        In total, there are 2 schemes.\n",
    "\n",
    "Example 2:\n",
    "    Input: G = 10, P = 5, group = [2,3,5], profit = [6,7,8]\n",
    "    Output: 7\n",
    "    Explanation: \n",
    "        To make a profit of at least 5, the group could commit any crimes, as long as they commit one.\n",
    "        There are 7 possible schemes: (0), (1), (2), (0,1), (0,2), (1,2), and (0,1,2).\n",
    " \n",
    "Note:\n",
    "    1、1 <= G <= 100\n",
    "    2、0 <= P <= 100\n",
    "    3、1 <= group[i] <= 100\n",
    "    4、0 <= profit[i] <= 100\n",
    "    5、1 <= group.length = profit.length <= 100"
   ]
  },
  {
   "cell_type": "code",
   "execution_count": 32,
   "metadata": {},
   "outputs": [],
   "source": [
    "class Solution:\n",
    "    def profitableSchemes(self, G: int, P: int, group, profit) -> int:\n",
    "        # 一共有 G 个人，P 是至少获得利润\n",
    "        # group是参与某个犯罪，需要参与人的数量\n",
    "        # profit是某项犯罪所获得的利润\n",
    "        \n",
    "        max_val = pow(10, 9) + 7\n",
    "        \n",
    "        dp = [[0] * (P + 1) for _ in range(G + 1)]\n",
    "        \n",
    "        for i in range(len(profit)):\n",
    "            pro = profit[i]\n",
    "            gro = group[i]\n",
    "            \n",
    "            for i in range(G, -1, -1):\n",
    "                for j in range(P, -1, -1):\n",
    "                    dp[i][j] = max(dp[i][j], dp[i - pro][j - gro] + 1)\n",
    "        \n",
    "        print(dp)\n",
    "        return dp[-1][-1]"
   ]
  },
  {
   "cell_type": "code",
   "execution_count": 81,
   "metadata": {},
   "outputs": [],
   "source": [
    "class Solution:\n",
    "    def profitableSchemes(self, G: int, P: int, group, profit) -> int:\n",
    "        # 一共有 G 个人，P 是至少获得利润\n",
    "        # group是参与某个犯罪，需要参与人的数量\n",
    "        # profit是某项犯罪所获得的利润\n",
    "        \n",
    "        max_val = pow(10, 9) + 7\n",
    "        \n",
    "        dp = [[0] * (P + 1) for _ in range(G + 1)]\n",
    "        new_dp = [[0] * (P + 1) for _ in range(G + 1)]\n",
    "        dp[0][0] = 1\n",
    "        new_dp[0][0] = 1\n",
    "        \n",
    "        \n",
    "        for i in range(len(profit)):\n",
    "            gro = group[i]\n",
    "            pro = profit[i]\n",
    "\n",
    "            for i in range(G + 1):\n",
    "                for j in range(P + 1):\n",
    "                    g = i + gro\n",
    "                    if g <= G:\n",
    "                        p = min(P, j + pro)\n",
    "                        new_dp[g][p] += dp[i][j]\n",
    "            dp = new_dp\n",
    "        \n",
    "        res = 0\n",
    "        for i in range(G + 1):\n",
    "            res += dp[i][P] \n",
    "        return res % max_val"
   ]
  },
  {
   "cell_type": "code",
   "execution_count": 87,
   "metadata": {},
   "outputs": [],
   "source": [
    "class Solution:\n",
    "    def profitableSchemes(self, G: int, P: int, group, profit) -> int:\n",
    "        # 一共有 G 个人，P 是至少获得利润\n",
    "        # group是参与某个犯罪，需要参与人的数量\n",
    "        # profit是某项犯罪所获得的利润\n",
    "        \n",
    "        max_val = pow(10, 9) + 7\n",
    "        \n",
    "        dp = [[0] * (P + 1) for _ in range(G + 1)]\n",
    "        dp[0][0] = 1\n",
    "        for i in range(len(group)):\n",
    "            gro = group[i]\n",
    "            pro = profit[i]\n",
    "            \n",
    "            for i in range(G - gro, -1, -1):\n",
    "                for j in range(P, -1, -1):\n",
    "                    p = min(P, pro + j)\n",
    "                    g = i + gro\n",
    "                    dp[g][p] += dp[i][j]\n",
    "        \n",
    "        res = 0\n",
    "        for i in range(G + 1):\n",
    "            res += dp[i][P]\n",
    "        return res % max_val"
   ]
  },
  {
   "cell_type": "code",
   "execution_count": 120,
   "metadata": {},
   "outputs": [],
   "source": [
    "class Solution:\n",
    "    def profitableSchemes(self, G: int, P: int, group, profit) -> int:\n",
    "        # 一共有 G 个人，P 是至少获得利润\n",
    "        # group是参与某个犯罪，需要参与人的数量\n",
    "        # profit是某项犯罪所获得的利润\n",
    "        \n",
    "        max_val = pow(10, 9) + 7\n",
    "        \n",
    "        dp = [[0] * (P + 1) for _ in range(G + 1)]\n",
    "        dp[0][0] = 1\n",
    "        new_dp = [[0] * (P + 1) for _ in range(G + 1)]\n",
    "        new_dp[0][0] = 1\n",
    "        \n",
    "        for k in range(len(group)):\n",
    "            gro = group[k]\n",
    "            pro = profit[k]\n",
    "            \n",
    "            for i in range(G + 1):\n",
    "                for j in range(P + 1):\n",
    "                    p = min(P, pro + j)\n",
    "                    g = i + gro\n",
    "                    if g <= G:\n",
    "                        new_dp[g][p] += dp[i][j]\n",
    "            dp = new_dp\n",
    "            \n",
    "        res = 0\n",
    "        for i in range(G + 1):\n",
    "            res += dp[i][P]\n",
    "        return res % max_val"
   ]
  },
  {
   "cell_type": "code",
   "execution_count": 121,
   "metadata": {},
   "outputs": [
    {
     "data": {
      "text/plain": [
       "19"
      ]
     },
     "execution_count": 121,
     "metadata": {},
     "output_type": "execute_result"
    }
   ],
   "source": [
    "solution = Solution()\n",
    "solution.profitableSchemes(10, 5, [2, 3, 5], [6, 7, 8])"
   ]
  },
  {
   "cell_type": "code",
   "execution_count": null,
   "metadata": {},
   "outputs": [],
   "source": [
    "    [[0, 0, 0, 0], \n",
    "     [0, 0, 0, 0], \n",
    "     [0, 0, 0, 0], \n",
    "     [0, 0, 0, 0], \n",
    "     [0, 0, 0, 0], \n",
    "     [0, 0, 0, 0]]"
   ]
  }
 ],
 "metadata": {
  "kernelspec": {
   "display_name": "Python 3",
   "language": "python",
   "name": "python3"
  },
  "language_info": {
   "codemirror_mode": {
    "name": "ipython",
    "version": 3
   },
   "file_extension": ".py",
   "mimetype": "text/x-python",
   "name": "python",
   "nbconvert_exporter": "python",
   "pygments_lexer": "ipython3",
   "version": "3.6.2"
  }
 },
 "nbformat": 4,
 "nbformat_minor": 4
}
