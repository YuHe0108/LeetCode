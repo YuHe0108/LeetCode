{
 "cells": [
  {
   "cell_type": "raw",
   "metadata": {},
   "source": [
    "说明：\n",
    "    我们给了N种不同类型的stickers。\n",
    "    每个贴纸上都有一个小写的英语单词。\n",
    "    您想通过从贴纸集合中切出单个字母并重新排列来拼出给定的目标字符串。\n",
    "    如果需要，您可以多次使用每个贴纸，并且每个贴纸都有无限量。\n",
    "    拼写目标所需的最少贴纸数量是多少？\n",
    "    如果无法完成任务，则返回-1。\n",
    "\n",
    "Example 1:\n",
    "    Input:\n",
    "        [\"with\", \"example\", \"science\"], \"thehat\"\n",
    "    Output:\n",
    "        3\n",
    "    Explanation:\n",
    "        We can use 2 \"with\" stickers, and 1 \"example\" sticker.\n",
    "        After cutting and rearrange the letters of those stickers, we can form the target \"thehat\".\n",
    "        Also, this is the minimum number of stickers necessary to form the target string.\n",
    "\n",
    "Example 2:\n",
    "    Input:\n",
    "        [\"notice\", \"possible\"], \"basicbasic\"\n",
    "    Output:\n",
    "        -1\n",
    "    Explanation:\n",
    "        We can't form the target \"basicbasic\" from cutting letters from the given stickers.\n",
    "\n",
    "注意：\n",
    "    1、贴纸的长度在[1，50]范围内。\n",
    "    2、贴纸包含小写英文单词（不带撇号）。 \n",
    "    3、target的长度在[1，15]范围内，由小写英文字母组成。\n",
    "    4、在所有测试案例中，都是从1000个最常见的美国英语单词中随机选择所有单词，然后选择目标作为两个随机单词的串联。\n",
    "    5、时间限制可能比平时更具挑战性。\n",
    "    6、预期平均在35毫秒内可以解决50个贴纸测试用例。"
   ]
  },
  {
   "cell_type": "code",
   "execution_count": 1,
   "metadata": {},
   "outputs": [],
   "source": [
    "class Solution:\n",
    "    def minStickers(self, stickers, target: str) -> int:\n",
    "        pass"
   ]
  },
  {
   "cell_type": "code",
   "execution_count": 2,
   "metadata": {},
   "outputs": [],
   "source": [
    "solution = Solution()\n",
    "solution.minStickers([\"with\", \"example\", \"science\"], 'thehat')"
   ]
  },
  {
   "cell_type": "code",
   "execution_count": 6,
   "metadata": {},
   "outputs": [],
   "source": [
    "a = int('1001', 2)"
   ]
  },
  {
   "cell_type": "code",
   "execution_count": 7,
   "metadata": {},
   "outputs": [
    {
     "data": {
      "text/plain": [
       "9"
      ]
     },
     "execution_count": 7,
     "metadata": {},
     "output_type": "execute_result"
    }
   ],
   "source": [
    "a"
   ]
  },
  {
   "cell_type": "code",
   "execution_count": 11,
   "metadata": {},
   "outputs": [],
   "source": [
    "a = '1001' or '1000'"
   ]
  },
  {
   "cell_type": "code",
   "execution_count": 12,
   "metadata": {},
   "outputs": [
    {
     "data": {
      "text/plain": [
       "'1001'"
      ]
     },
     "execution_count": 12,
     "metadata": {},
     "output_type": "execute_result"
    }
   ],
   "source": [
    "a"
   ]
  },
  {
   "cell_type": "code",
   "execution_count": null,
   "metadata": {},
   "outputs": [],
   "source": []
  }
 ],
 "metadata": {
  "kernelspec": {
   "display_name": "Python 3",
   "language": "python",
   "name": "python3"
  },
  "language_info": {
   "codemirror_mode": {
    "name": "ipython",
    "version": 3
   },
   "file_extension": ".py",
   "mimetype": "text/x-python",
   "name": "python",
   "nbconvert_exporter": "python",
   "pygments_lexer": "ipython3",
   "version": "3.6.2"
  }
 },
 "nbformat": 4,
 "nbformat_minor": 4
}
