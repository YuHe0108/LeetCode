{
 "cells": [
  {
   "cell_type": "raw",
   "metadata": {},
   "source": [
    "说明：\n",
    "    给定两个整数数组arr1和arr2，返回使arr1严格增加所需的最小操作数（可能为零）。\n",
    "    在一个操作中，可以选择两个索引0 <= i <arr1.length和0 <= j <arr2.length并进行赋值arr1 [i] = arr2 [j]。\n",
    "    如果没有办法使arr1严格增加，则返回-1。\n",
    "\n",
    "Example 1:\n",
    "    Input: arr1 = [1,5,3,6,7], arr2 = [1,3,2,4]\n",
    "    Output: 1\n",
    "    Explanation: Replace 5 with 2, then arr1 = [1, 2, 3, 6, 7].\n",
    "\n",
    "Example 2:\n",
    "    Input: arr1 = [1,5,3,6,7], arr2 = [4,3,1]\n",
    "    Output: 2\n",
    "    Explanation: Replace 5 with 3 and then replace 3 with 4. arr1 = [1, 3, 4, 6, 7].\n",
    "\n",
    "Example 3:\n",
    "    Input: arr1 = [1,5,3,6,7], arr2 = [1,6,3,3]\n",
    "    Output: -1\n",
    "    Explanation: You can't make arr1 strictly increasing.\n",
    "\n",
    "Constraints:\n",
    "    1、1 <= arr1.length, arr2.length <= 2000\n",
    "    2、0 <= arr1[i], arr2[i] <= 10^9"
   ]
  },
  {
   "cell_type": "code",
   "execution_count": 10,
   "metadata": {},
   "outputs": [],
   "source": [
    "import bisect\n",
    "\n",
    "class Solution:\n",
    "    def makeArrayIncreasing(self, arr1, arr2) -> int:\n",
    "        N = len(arr1)\n",
    "        arr1 = [0] + arr1\n",
    "        \n",
    "        # dp[i][k] 表示执行了 从 1: i 执行了 K 次操作使得元素有序\n",
    "        dp = [[float('inf')] * (N + 1) for _ in range(N + 1)]\n",
    "        dp[0][0] = -float('inf')\n",
    "        \n",
    "        arr2.sort()\n",
    "        for i in range(1, N + 1):\n",
    "            for j in range(0, i + 1): # 执行交换的操作数 0 ~ i\n",
    "                # 前 i-1个元素执行了 k 次交换，那么上一个元素就是 dp[i-1][k]\n",
    "                if dp[i-1][j] < arr1[i]:\n",
    "                    dp[i][j] = min(dp[i][j], arr1[i])\n",
    "                    \n",
    "                # 前 i-1 个元素执行了 k-1 次交换，那么这一次一定还要在执行交换，就是 dp[i-1][k-1]\n",
    "                if j >= 1:\n",
    "                    # 要在 arr2 中找到一个比 arr1[i] 稍微大一点的数\n",
    "                    idx_2 = bisect.bisect_right(arr2, dp[i-1][j-1])\n",
    "                    if idx_2 != len(arr2):\n",
    "                        dp[i][j] = min(dp[i][j], arr2[idx_2])\n",
    "        \n",
    "        print(dp)\n",
    "        # 满足条件，并且能够执行最少的次数的 K 的值\n",
    "        res = float('inf')\n",
    "        for i in range(1, N + 1):\n",
    "            if dp[N][i] != float('inf'):\n",
    "                res = min(res, i)\n",
    "        return -1 if res == float('inf') else res"
   ]
  },
  {
   "cell_type": "code",
   "execution_count": 11,
   "metadata": {},
   "outputs": [
    {
     "name": "stdout",
     "output_type": "stream",
     "text": [
      "[[-inf, inf, inf, inf, inf, inf], [1, 1, inf, inf, inf, inf], [5, 3, 3, inf, inf, inf], [inf, inf, 4, 4, inf, inf], [inf, inf, 6, 6, inf, inf], [inf, inf, 7, 7, inf, inf]]\n"
     ]
    },
    {
     "data": {
      "text/plain": [
       "2"
      ]
     },
     "execution_count": 11,
     "metadata": {},
     "output_type": "execute_result"
    }
   ],
   "source": [
    "solution = Solution()\n",
    "solution.makeArrayIncreasing([1,5,3,6,7], [4,3,1])"
   ]
  },
  {
   "cell_type": "code",
   "execution_count": 2,
   "metadata": {},
   "outputs": [],
   "source": [
    "import bisect"
   ]
  },
  {
   "cell_type": "code",
   "execution_count": 3,
   "metadata": {},
   "outputs": [],
   "source": [
    "a = [1,2,3,4]"
   ]
  },
  {
   "cell_type": "code",
   "execution_count": 6,
   "metadata": {},
   "outputs": [],
   "source": [
    "b = bisect.bisect_right(a, 3)"
   ]
  },
  {
   "cell_type": "code",
   "execution_count": 7,
   "metadata": {},
   "outputs": [
    {
     "data": {
      "text/plain": [
       "3"
      ]
     },
     "execution_count": 7,
     "metadata": {},
     "output_type": "execute_result"
    }
   ],
   "source": [
    "b"
   ]
  },
  {
   "cell_type": "code",
   "execution_count": null,
   "metadata": {},
   "outputs": [],
   "source": [
    "[[-inf, inf, inf, inf, inf, inf], \n",
    " [1,    1,   inf,  inf,  inf, inf], \n",
    " [5,    3,    3,   inf,  inf, inf], \n",
    " [inf, inf,   4,    4,   inf, inf], \n",
    " [inf, inf,   6,    6,   inf, inf], \n",
    " [inf, inf,   7,    7,   inf, inf]]"
   ]
  }
 ],
 "metadata": {
  "kernelspec": {
   "display_name": "Python 3",
   "language": "python",
   "name": "python3"
  },
  "language_info": {
   "codemirror_mode": {
    "name": "ipython",
    "version": 3
   },
   "file_extension": ".py",
   "mimetype": "text/x-python",
   "name": "python",
   "nbconvert_exporter": "python",
   "pygments_lexer": "ipython3",
   "version": "3.6.2"
  }
 },
 "nbformat": 4,
 "nbformat_minor": 4
}
