{
 "cells": [
  {
   "cell_type": "raw",
   "metadata": {},
   "source": [
    "说明：\n",
    "    有一个披萨，披萨的 3*N 片大小不一，您和您的朋友将按如下方式切片披萨：\n",
    "        1、您可以选择任何披萨片。\n",
    "        2、您的朋友爱丽丝将沿您选择的逆时针方向选择下一个切片。\n",
    "        3、您的朋友鲍勃（Bob）将按您的顺时针方向拾取下一个切片。\n",
    "        4、重复直到没有更多的比萨饼。\n",
    "    披萨片的大小由顺时针方向上的圆形阵列片表示。\n",
    "    返回您可以拥有的切片大小的最大可能总和。\n",
    "\n",
    "Constraints:\n",
    "    1、1 <= slices.length <= 500\n",
    "    2、slices.length % 3 == 0\n",
    "    3、1 <= slices[i] <= 1000"
   ]
  },
  {
   "cell_type": "markdown",
   "metadata": {},
   "source": [
    "<img src='https://assets.leetcode.com/uploads/2020/02/18/sample_3_1723.png' width=800>"
   ]
  },
  {
   "cell_type": "raw",
   "metadata": {},
   "source": [
    "Input: slices = [1,2,3,4,5,6]\n",
    "Output: 10\n",
    "Explanation: \n",
    "    Pick pizza slice of size 4, Alice and Bob will pick slices with size 3 and 5 respectively. \n",
    "    Then Pick slices with size 6, finally Alice and Bob will pick slice of size 2 and 1 respectively. \n",
    "    Total = 4 + 6."
   ]
  },
  {
   "cell_type": "markdown",
   "metadata": {},
   "source": [
    "<img src='https://assets.leetcode.com/uploads/2020/02/18/sample_4_1723.png' width=800>"
   ]
  },
  {
   "cell_type": "raw",
   "metadata": {},
   "source": [
    "Input: slices = [8,9,8,6,1,1]\n",
    "Output: 16\n",
    "Output: Pick pizza slice of size 8 in each turn. If you pick slice with size 9 your partners will pick slices of size 8."
   ]
  },
  {
   "cell_type": "raw",
   "metadata": {},
   "source": [
    "Example 3:\n",
    "    Input: slices = [4,1,2,5,8,3,1,9,7]\n",
    "    Output: 21\n",
    "\n",
    "Example 4:\n",
    "    Input: slices = [3,1,2]\n",
    "    Output: 3"
   ]
  },
  {
   "cell_type": "code",
   "execution_count": 3,
   "metadata": {},
   "outputs": [],
   "source": [
    "class Solution:\n",
    "    def maxSizeSlices(self, slices) -> int:\n",
    "        N = len(slices)\n",
    "        dp = [0] * (N + 1)\n",
    "        \n",
    "        "
   ]
  },
  {
   "cell_type": "code",
   "execution_count": 4,
   "metadata": {},
   "outputs": [
    {
     "name": "stdout",
     "output_type": "stream",
     "text": [
      "[2, 0, 0, 0, 0, 0, 0]\n"
     ]
    }
   ],
   "source": [
    "solution = Solution()\n",
    "solution.maxSizeSlices([1,2,3,4,5,6])"
   ]
  },
  {
   "cell_type": "code",
   "execution_count": null,
   "metadata": {},
   "outputs": [],
   "source": []
  }
 ],
 "metadata": {
  "kernelspec": {
   "display_name": "Python 3",
   "language": "python",
   "name": "python3"
  },
  "language_info": {
   "codemirror_mode": {
    "name": "ipython",
    "version": 3
   },
   "file_extension": ".py",
   "mimetype": "text/x-python",
   "name": "python",
   "nbconvert_exporter": "python",
   "pygments_lexer": "ipython3",
   "version": "3.6.2"
  }
 },
 "nbformat": 4,
 "nbformat_minor": 4
}
