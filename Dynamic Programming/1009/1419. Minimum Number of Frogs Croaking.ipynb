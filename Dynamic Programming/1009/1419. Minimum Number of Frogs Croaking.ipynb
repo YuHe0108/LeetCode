{
 "cells": [
  {
   "cell_type": "raw",
   "metadata": {},
   "source": [
    "说明：\n",
    "    给定字符串croak Of Frogs，它表示来自不同青蛙的字符串“croak”的组合，也就是说，多个青蛙可以同时发出嘎吱声，因此混合了多个“ croak”。\n",
    "    返回最少数量的不同青蛙，以完成给定字符串中的所有吱吱声。\n",
    "    有效的“croack”表示青蛙正在依次打印5个字母“ c”，“ r”，“ o”，“ a”，“ k”。\n",
    "    青蛙必须打印所有五个字母才能完成吱吱作响。\n",
    "    如果给定的字符串不是有效的“croak”的组合，则返回-1。\n",
    "\n",
    "Example 1:\n",
    "    Input: croakOfFrogs = \"croak croak\"\n",
    "    Output: 1 \n",
    "    Explanation: One frog yelling \"croak\" twice.\n",
    "\n",
    "Example 2:\n",
    "    Input: croakOfFrogs = \"crcoakroak\"\n",
    "    Output: 2 \n",
    "    Explanation: The minimum number of frogs is two. \n",
    "                 The first frog could yell \"crcoak roak\".\n",
    "                 The second frog could yell later \"crcoakroak\".\n",
    "\n",
    "Example 3:\n",
    "    Input: croakOfFrogs = \"croak crook\"\n",
    "    Output: -1\n",
    "    Explanation: The given string is an invalid combination of \"croak\" from different frogs.\n",
    "\n",
    "Example 4:\n",
    "    Input: croakOfFrogs = \"croakcroa\"\n",
    "    Output: -1\n",
    "\n",
    "Constraints:\n",
    "    1、1 <= croakOfFrogs.length <= 10^5\n",
    "    2、All characters in the string are: 'c', 'r', 'o', 'a' or 'k'."
   ]
  },
  {
   "cell_type": "code",
   "execution_count": 14,
   "metadata": {},
   "outputs": [],
   "source": [
    "class Solution:\n",
    "    def minNumberOfFrogs(self, croakOfFrogs: str) -> int:\n",
    "        chr_c, chr_r, chr_o, chr_a = 0, 0, 0, 0\n",
    "        count = 0\n",
    "        for s in croakOfFrogs:\n",
    "            if s == 'c':\n",
    "                chr_c += 1\n",
    "            elif s == 'r':\n",
    "                if chr_c <= 0:\n",
    "                    return -1\n",
    "                chr_c -= 1\n",
    "                chr_r += 1\n",
    "            elif s == 'o':\n",
    "                if chr_r <= 0:\n",
    "                    return -1\n",
    "                chr_r -= 1\n",
    "                chr_o += 1\n",
    "            elif s == 'a':\n",
    "                if chr_o <= 0:\n",
    "                    return -1\n",
    "                chr_o -= 1\n",
    "                chr_a += 1\n",
    "            else:\n",
    "                if chr_a <= 0:\n",
    "                    return -1\n",
    "                chr_a -= 1\n",
    "            print(chr_c, chr_r, chr_o, chr_a)\n",
    "            count = max(count, chr_c + chr_r + chr_o + chr_a)\n",
    "        # 没有唱完整五个字符，那么必然会大于0\n",
    "        if chr_c + chr_r + chr_o + chr_a > 0:\n",
    "            return -1\n",
    "        return count"
   ]
  },
  {
   "cell_type": "code",
   "execution_count": 15,
   "metadata": {},
   "outputs": [
    {
     "name": "stdout",
     "output_type": "stream",
     "text": [
      "1 0 0 0\n",
      "0 1 0 0\n",
      "1 1 0 0\n",
      "1 0 1 0\n",
      "1 0 0 1\n",
      "1 0 0 0\n",
      "0 1 0 0\n",
      "0 0 1 0\n",
      "0 0 0 1\n",
      "0 0 0 0\n"
     ]
    },
    {
     "data": {
      "text/plain": [
       "2"
      ]
     },
     "execution_count": 15,
     "metadata": {},
     "output_type": "execute_result"
    }
   ],
   "source": [
    "solution = Solution()\n",
    "solution.minNumberOfFrogs(\"crcoakroak\")"
   ]
  },
  {
   "cell_type": "code",
   "execution_count": null,
   "metadata": {},
   "outputs": [],
   "source": []
  },
  {
   "cell_type": "code",
   "execution_count": null,
   "metadata": {},
   "outputs": [],
   "source": []
  }
 ],
 "metadata": {
  "kernelspec": {
   "display_name": "Python 3",
   "language": "python",
   "name": "python3"
  },
  "language_info": {
   "codemirror_mode": {
    "name": "ipython",
    "version": 3
   },
   "file_extension": ".py",
   "mimetype": "text/x-python",
   "name": "python",
   "nbconvert_exporter": "python",
   "pygments_lexer": "ipython3",
   "version": "3.6.2"
  }
 },
 "nbformat": 4,
 "nbformat_minor": 4
}
