{
 "cells": [
  {
   "cell_type": "raw",
   "metadata": {},
   "source": [
    "说明：\n",
    "    给定一个由整数组成的数组，您可以对该数组执行操作。\n",
    "    在每个操作中，选择任何 nums[i] 并将其删除以赚取nums[i]分。\n",
    "    之后，必须删除等于 nums[i]-1或 nums[i]+1每个元素。\n",
    "    从0点开始。\n",
    "    返回通过执行此类操作可获得的最大积分数。\n",
    "\n",
    "Example 1:\n",
    "    Input: nums = [3, 4, 2]\n",
    "    Output: 6\n",
    "    Explanation: \n",
    "        Delete 4 to earn 4 points, consequently 3 is also deleted.\n",
    "        Then, delete 2 to earn 2 points. \n",
    "        6 total points are earned.\n",
    "\n",
    "Example 2:\n",
    "    Input: nums = [2, 2, 3, 3, 3, 4]\n",
    "    Output: 9\n",
    "    Explanation: \n",
    "        Delete 3 to earn 3 points, deleting both 2's and the 4.\n",
    "        Then, delete 3 again to earn 3 points, and 3 again to earn 3 points.\n",
    "        9 total points are earned.\n",
    " \n",
    "Note:\n",
    "    1、The length of nums is at most 20000.\n",
    "    2、Each element nums[i] is an integer in the range [1, 10000]."
   ]
  },
  {
   "cell_type": "code",
   "execution_count": 108,
   "metadata": {},
   "outputs": [],
   "source": [
    "from collections import Counter\n",
    "\n",
    "class Solution:\n",
    "    def deleteAndEarn(self, nums) -> int:\n",
    "        if not nums: return 0\n",
    "        \n",
    "        n_freq = Counter(nums)\n",
    "        nums.sort()\n",
    "        set_nums = list(set(nums))\n",
    "        N = len(set_nums)\n",
    "        dp = [0] * N # dp[i] 表示在选择 nums 第 i 个元素的时候，最大的收益值\n",
    "        \n",
    "        dp[0] = set_nums[0] * n_freq[set_nums[0]]\n",
    "        dp[1] = max(set_nums[1] * n_freq[set_nums[1]], dp[0])\n",
    "        for i in range(2, N):\n",
    "            val = set_nums[i]\n",
    "            dp[i] = max(dp[i-1], dp[i-2] + val * n_freq[val])\n",
    "        print(dp)\n",
    "        return max(dp)"
   ]
  },
  {
   "cell_type": "code",
   "execution_count": 120,
   "metadata": {},
   "outputs": [],
   "source": [
    "class Solution:\n",
    "    def deleteAndEarn(self, nums) -> int:\n",
    "        if not nums: return 0\n",
    "        \n",
    "        nums.sort()\n",
    "        max_val = max(nums)\n",
    "        \n",
    "        gain = [0] * (max_val + 1) # 表示在选择 val=n 时，所能收获的最大值\n",
    "        for n in nums:\n",
    "            gain[n] += n\n",
    "        \n",
    "        dp = [0] * (max_val + 1)\n",
    "        dp[1] = gain[1]\n",
    "        for i in range(2, max_val + 1):\n",
    "            dp[i] = max(dp[i-1], dp[i-2] + gain[i])\n",
    "        print(dp)\n",
    "        return dp[-1]"
   ]
  },
  {
   "cell_type": "code",
   "execution_count": 121,
   "metadata": {},
   "outputs": [
    {
     "name": "stdout",
     "output_type": "stream",
     "text": [
      "[0, 1, 6, 6, 10, 11, 11, 18, 18, 27, 27, 27, 27, 27, 27, 27, 27, 27, 27, 46]\n"
     ]
    },
    {
     "data": {
      "text/plain": [
       "46"
      ]
     },
     "execution_count": 121,
     "metadata": {},
     "output_type": "execute_result"
    }
   ],
   "source": [
    "solution = Solution()\n",
    "solution.deleteAndEarn([1,2,5,7,9,19,3,2,2,4])"
   ]
  },
  {
   "cell_type": "code",
   "execution_count": null,
   "metadata": {},
   "outputs": [],
   "source": []
  }
 ],
 "metadata": {
  "kernelspec": {
   "display_name": "Python 3",
   "language": "python",
   "name": "python3"
  },
  "language_info": {
   "codemirror_mode": {
    "name": "ipython",
    "version": 3
   },
   "file_extension": ".py",
   "mimetype": "text/x-python",
   "name": "python",
   "nbconvert_exporter": "python",
   "pygments_lexer": "ipython3",
   "version": "3.6.2"
  }
 },
 "nbformat": 4,
 "nbformat_minor": 4
}
