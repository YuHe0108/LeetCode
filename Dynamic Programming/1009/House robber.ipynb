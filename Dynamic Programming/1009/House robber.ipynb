{
 "cells": [
  {
   "cell_type": "markdown",
   "metadata": {},
   "source": [
    "### 198. House Robber"
   ]
  },
  {
   "cell_type": "raw",
   "metadata": {},
   "source": [
    "说明：\n",
    "    您是计划在街道上抢房屋的专业强盗。\n",
    "    每栋房屋都藏有一定数量的钱，阻止您抢劫每座房屋的唯一限制是相邻房屋都已连接了安全系统，\n",
    "    如果在同一晚闯入两栋相邻房屋，它将自动与警方联系。\n",
    "    给定代表每个房屋的金额的非负整数列表，\n",
    "    请确定您今晚可在不通知警察的情况下抢走的最大金额。\n",
    "\n",
    "Example 1:\n",
    "    Input: nums = [1,2,3,1]\n",
    "    Output: 4\n",
    "    Explanation: Rob house 1 (money = 1) and then rob house 3 (money = 3).\n",
    "                 Total amount you can rob = 1 + 3 = 4.\n",
    "\n",
    "Example 2:\n",
    "    Input: nums = [2,7,9,3,1]\n",
    "    Output: 12\n",
    "    Explanation: Rob house 1 (money = 2), \n",
    "                 rob house 3 (money = 9) and rob house 5 (money = 1).\n",
    "                 Total amount you can rob = 2 + 9 + 1 = 12.\n",
    " \n",
    "Constraints:\n",
    "    1、0 <= nums.length <= 100\n",
    "    2、0 <= nums[i] <= 400"
   ]
  },
  {
   "cell_type": "code",
   "execution_count": 25,
   "metadata": {},
   "outputs": [],
   "source": [
    "class Solution:\n",
    "    def rob(self, nums) -> int:\n",
    "        if not nums: return 0\n",
    "        N = len(nums)\n",
    "        \n",
    "        nums = [0] + nums\n",
    "        dp = [0] * (N + 1) # 抢劫第i个房子的最高利润\n",
    "        dp[1] = nums[1]\n",
    "        for i in range(2, N + 1):\n",
    "            dp[i] = max(dp[i-2] + nums[i], dp[i-1])\n",
    "        return dp[-1]"
   ]
  },
  {
   "cell_type": "code",
   "execution_count": 27,
   "metadata": {},
   "outputs": [
    {
     "data": {
      "text/plain": [
       "12"
      ]
     },
     "execution_count": 27,
     "metadata": {},
     "output_type": "execute_result"
    }
   ],
   "source": [
    "solution = Solution()\n",
    "solution.rob([2,7,9,3,1])"
   ]
  },
  {
   "cell_type": "markdown",
   "metadata": {},
   "source": [
    "### 213. House Robber II"
   ]
  },
  {
   "cell_type": "raw",
   "metadata": {},
   "source": [
    "说明：\n",
    "    您是计划在街道上抢房屋的专业强盗。每个房子都藏有一定数量的钱。这个地方的所有房屋都排成一圈。这意味着第一所房子是最后一个的邻居。\n",
    "    同时，相邻房屋已连接了安全系统，如果在同一晚闯入两所相邻房屋，它将自动与警察联系。给定一个代表每个房屋的非负整数num的列表，\n",
    "    请返回您今晚可以抢走的最大金额，而无需提醒警察。\n",
    "\n",
    "Example 1:\n",
    "    Input: nums = [2,3,2]\n",
    "    Output: 3\n",
    "    Explanation: You cannot rob house 1 (money = 2) and then rob house 3 (money = 2), because they are adjacent houses.\n",
    "\n",
    "Example 2:\n",
    "    Input: nums = [1,2,3,1]\n",
    "    Output: 4\n",
    "    Explanation: Rob house 1 (money = 1) and then rob house 3 (money = 3).\n",
    "                 Total amount you can rob = 1 + 3 = 4.\n",
    "\n",
    "Example 3:\n",
    "    Input: nums = [0]\n",
    "    Output: 0\n",
    " \n",
    "Constraints:\n",
    "    1、1 <= nums.length <= 100\n",
    "    2、0 <= nums[i] <= 1000"
   ]
  },
  {
   "cell_type": "code",
   "execution_count": 31,
   "metadata": {},
   "outputs": [],
   "source": [
    "class Solution:\n",
    "    def rob(self, nums) -> int:\n",
    "        if len(nums) == 1:\n",
    "            return nums[0]\n",
    "        return max(self.helper(nums[1:]), self.helper(nums[:-1]))\n",
    "    \n",
    "    def helper(self, nums):\n",
    "        if not nums: return 0\n",
    "        N = len(nums)\n",
    "        nums = [0] + nums\n",
    "        \n",
    "        dp = [0] * (N + 1)\n",
    "        dp[1] = nums[1]\n",
    "        for i in range(2, N + 1):\n",
    "            dp[i] = max(dp[i-2] + nums[i], dp[i-1])\n",
    "        return dp[-1]"
   ]
  },
  {
   "cell_type": "code",
   "execution_count": null,
   "metadata": {},
   "outputs": [],
   "source": []
  },
  {
   "cell_type": "code",
   "execution_count": null,
   "metadata": {},
   "outputs": [],
   "source": []
  }
 ],
 "metadata": {
  "kernelspec": {
   "display_name": "Python 3",
   "language": "python",
   "name": "python3"
  },
  "language_info": {
   "codemirror_mode": {
    "name": "ipython",
    "version": 3
   },
   "file_extension": ".py",
   "mimetype": "text/x-python",
   "name": "python",
   "nbconvert_exporter": "python",
   "pygments_lexer": "ipython3",
   "version": "3.6.2"
  }
 },
 "nbformat": 4,
 "nbformat_minor": 4
}
