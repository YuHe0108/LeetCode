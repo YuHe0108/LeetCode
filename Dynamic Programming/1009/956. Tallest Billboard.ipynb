{
 "cells": [
  {
   "cell_type": "raw",
   "metadata": {},
   "source": [
    "说明：\n",
    "    您正在安装广告牌，并希望它具有最大的高度。\n",
    "    广告牌将有两个钢制支撑，每侧一个。\n",
    "    每个钢支架的高度必须相等。\n",
    "    您有一组可以焊接在一起的焊条。\n",
    "    例如，如果您有长度为1、2和3的杆，则可以将它们焊接在一起以制成长度为6的支撑。\n",
    "    返回广告牌安装的最大可能高度。\n",
    "    如果您不能支持广告牌，请返回0。\n",
    "\n",
    "Example 1:\n",
    "    Input: [1,2,3,6]\n",
    "    Output: 6\n",
    "    Explanation: We have two disjoint subsets {1,2,3} and {6}, which have the same sum = 6.\n",
    "\n",
    "Example 2:\n",
    "    Input: [1,2,3,4,5,6]\n",
    "    Output: 10\n",
    "    Explanation: We have two disjoint subsets {2,3,5} and {4,6}, which have the same sum = 10.\n",
    "\n",
    "Example 3:\n",
    "    Input: [1,2]\n",
    "    Output: 0\n",
    "    Explanation: The billboard cannot be supported, so we return 0.\n",
    "\n",
    "Note:\n",
    "    1、0 <= rods.length <= 20\n",
    "    2、1 <= rods[i] <= 1000\n",
    "    3、The sum of rods is at most 5000."
   ]
  },
  {
   "cell_type": "code",
   "execution_count": 19,
   "metadata": {},
   "outputs": [],
   "source": [
    "import collections\n",
    "\n",
    "class Solution:\n",
    "    def tallestBillboard(self, rods) -> int:\n",
    "        dp = collections.defaultdict(int)\n",
    "        dp[0] = 0\n",
    "        \n",
    "        for r in rods:\n",
    "            nxt = dp.copy()\n",
    "            for d, y in dp.items():\n",
    "                nxt[d + r] = max(nxt.get(d + r, 0), y)\n",
    "                nxt[abs(d - r)] = max(nxt.get(abs(d - r), 0), y + min(d, r))\n",
    "                print(dp)\n",
    "            dp = nxt\n",
    "        print(dp)\n",
    "        return dp[0]"
   ]
  },
  {
   "cell_type": "code",
   "execution_count": 20,
   "metadata": {},
   "outputs": [
    {
     "name": "stdout",
     "output_type": "stream",
     "text": [
      "defaultdict(<class 'int'>, {0: 0})\n",
      "defaultdict(<class 'int'>, {0: 0, 1: 0})\n",
      "defaultdict(<class 'int'>, {0: 0, 1: 0})\n",
      "defaultdict(<class 'int'>, {0: 0, 1: 1, 2: 0, 3: 0})\n",
      "defaultdict(<class 'int'>, {0: 0, 1: 1, 2: 0, 3: 0})\n",
      "defaultdict(<class 'int'>, {0: 0, 1: 1, 2: 0, 3: 0})\n",
      "defaultdict(<class 'int'>, {0: 0, 1: 1, 2: 0, 3: 0})\n",
      "defaultdict(<class 'int'>, {0: 3, 1: 2, 2: 2, 3: 0, 4: 1, 5: 0, 6: 0})\n",
      "defaultdict(<class 'int'>, {0: 3, 1: 2, 2: 2, 3: 0, 4: 1, 5: 0, 6: 0})\n",
      "defaultdict(<class 'int'>, {0: 3, 1: 2, 2: 2, 3: 0, 4: 1, 5: 0, 6: 0})\n",
      "defaultdict(<class 'int'>, {0: 3, 1: 2, 2: 2, 3: 0, 4: 1, 5: 0, 6: 0})\n",
      "defaultdict(<class 'int'>, {0: 3, 1: 2, 2: 2, 3: 0, 4: 1, 5: 0, 6: 0})\n",
      "defaultdict(<class 'int'>, {0: 3, 1: 2, 2: 2, 3: 0, 4: 1, 5: 0, 6: 0})\n",
      "defaultdict(<class 'int'>, {0: 3, 1: 2, 2: 2, 3: 0, 4: 1, 5: 0, 6: 0})\n",
      "defaultdict(<class 'int'>, {0: 6, 1: 5, 2: 5, 3: 3, 4: 4, 5: 3, 6: 3, 7: 2, 8: 2, 9: 0, 10: 1, 11: 0, 12: 0})\n"
     ]
    },
    {
     "data": {
      "text/plain": [
       "6"
      ]
     },
     "execution_count": 20,
     "metadata": {},
     "output_type": "execute_result"
    }
   ],
   "source": [
    "solution = Solution()\n",
    "solution.tallestBillboard([1, 2, 3, 6])"
   ]
  },
  {
   "cell_type": "code",
   "execution_count": null,
   "metadata": {},
   "outputs": [],
   "source": []
  }
 ],
 "metadata": {
  "kernelspec": {
   "display_name": "Python 3",
   "language": "python",
   "name": "python3"
  },
  "language_info": {
   "codemirror_mode": {
    "name": "ipython",
    "version": 3
   },
   "file_extension": ".py",
   "mimetype": "text/x-python",
   "name": "python",
   "nbconvert_exporter": "python",
   "pygments_lexer": "ipython3",
   "version": "3.6.2"
  }
 },
 "nbformat": 4,
 "nbformat_minor": 4
}
