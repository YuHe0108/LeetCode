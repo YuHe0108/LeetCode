{
 "cells": [
  {
   "cell_type": "raw",
   "metadata": {},
   "source": [
    "说明：\n",
    "    骰子模拟器，每次 roll会输出一个1-6之间的数字。\n",
    "    您为生成器引入了一个约束，以使其连续滚动 i 的次数不能超过 rollMax [i]（1索引）。\n",
    "    给定整数 rollMax 和整数 n 的数组，返回可以用精确的 n 个roll获得的不同序列的数量。\n",
    "    如果至少一个元素彼此不同，则认为两个序列不同。\n",
    "    由于答案可能太大，因此请以10 ^ 9为模7返回。\n",
    "\n",
    "\n",
    "Example 1:\n",
    "    Input: n = 2, rollMax = [1,1,2,2,2,3]\n",
    "    Output: 34\n",
    "    Explanation: \n",
    "        There will be 2 rolls of die, if there are no constraints on the die, \n",
    "        there are 6 * 6 = 36 possible combinations. In this case, looking at rollMax array, \n",
    "        the numbers 1 and 2 appear at most once consecutively, therefore sequences (1,1) and (2,2) cannot occur,\n",
    "        so the final answer is 36-2 = 34.\n",
    "\n",
    "Example 2:\n",
    "    Input: n = 2, rollMax = [1,1,1,1,1,1]\n",
    "    Output: 30\n",
    "\n",
    "Example 3:\n",
    "    Input: n = 3, rollMax = [1,1,1,2,2,3]\n",
    "    Output: 181\n",
    "\n",
    "Constraints:\n",
    "    1、1 <= n <= 5000\n",
    "    2、rollMax.length == 6\n",
    "    3、1 <= rollMax[i] <= 15"
   ]
  },
  {
   "cell_type": "code",
   "execution_count": 45,
   "metadata": {},
   "outputs": [],
   "source": [
    "class Solution:\n",
    "    def dieSimulator(self, n: int, rollMax) -> int:\n",
    "        M = pow(10, 9) + 7\n",
    "        dp = [[[0] * (15 + 1) for _ in range(6 + 1)] for _ in range(n + 1)]\n",
    "        rollMax = [0] + rollMax\n",
    "        \n",
    "        for i in range(1, 7):\n",
    "            dp[1][i][1] = 1\n",
    "        \n",
    "        for i in range(2, n + 1): # 第几次摇骰子\n",
    "            for j in range(1, 7): # 第 i 次摇骰子获得的数字是多少\n",
    "                for k in range(1, rollMax[j] + 1): # 摇到的这个数字最多是多少\n",
    "                    # 如果 k 的次数大于1，那么这种情况只有可能从 [i-1][j][k-1] 中来，所以 dp[i][j][k] = dp[i-1][j][k-1]\n",
    "                    if k > 1:\n",
    "                        dp[i][j][k] = dp[i-1][j][k-1]\n",
    "                    else:\n",
    "                        for jj in range(1, 7):\n",
    "                            for kk in range(1, rollMax[jj] + 1):\n",
    "                                if jj != j:\n",
    "                                    dp[i][j][k] += dp[i-1][jj][kk]\n",
    "        res = 0\n",
    "        for i in range(1, 7):\n",
    "            for k in range(1, rollMax[i] + 1):\n",
    "                res += dp[n][i][k]\n",
    "        return res % M"
   ]
  },
  {
   "cell_type": "code",
   "execution_count": 46,
   "metadata": {},
   "outputs": [
    {
     "data": {
      "text/plain": [
       "181"
      ]
     },
     "execution_count": 46,
     "metadata": {},
     "output_type": "execute_result"
    }
   ],
   "source": [
    "solution = Solution()\n",
    "solution.dieSimulator(3, [1, 1, 1, 2, 2, 3])"
   ]
  },
  {
   "cell_type": "code",
   "execution_count": null,
   "metadata": {},
   "outputs": [],
   "source": []
  }
 ],
 "metadata": {
  "kernelspec": {
   "display_name": "Python 3",
   "language": "python",
   "name": "python3"
  },
  "language_info": {
   "codemirror_mode": {
    "name": "ipython",
    "version": 3
   },
   "file_extension": ".py",
   "mimetype": "text/x-python",
   "name": "python",
   "nbconvert_exporter": "python",
   "pygments_lexer": "ipython3",
   "version": "3.6.2"
  }
 },
 "nbformat": 4,
 "nbformat_minor": 4
}
