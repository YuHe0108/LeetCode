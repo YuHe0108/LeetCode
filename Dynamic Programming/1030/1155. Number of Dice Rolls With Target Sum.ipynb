{
 "cells": [
  {
   "cell_type": "raw",
   "metadata": {},
   "source": [
    "说明：\n",
    "    这里有 d 个一样的骰子，每个骰子上都有 f 个面，分别标号为 1, 2, ..., f。\n",
    "\n",
    "    我们约定：\n",
    "        掷骰子的得到总点数为各骰子面朝上的数字的总和。\n",
    "\n",
    "    如果需要掷出的总点数为 target，\n",
    "    请你计算出有多少种不同的组合情况（所有的组合情况总共有 f^d 种），模 10^9 + 7 后返回。\n",
    "\n",
    "示例 1：\n",
    "    输入：d = 1, f = 6, target = 3\n",
    "    输出：1\n",
    "    \n",
    "示例 2：\n",
    "    输入：d = 2, f = 6, target = 7\n",
    "    输出：6\n",
    "\n",
    "示例 3：\n",
    "    输入：d = 2, f = 5, target = 10\n",
    "    输出：1\n",
    "\n",
    "示例 4：\n",
    "    输入：d = 1, f = 2, target = 3\n",
    "    输出：0\n",
    "\n",
    "示例 5：\n",
    "    输入：d = 30, f = 30, target = 500\n",
    "    输出：222616187\n",
    "\n",
    "提示：\n",
    "    1、1 <= d, f <= 30\n",
    "    2、1 <= target <= 1000"
   ]
  },
  {
   "cell_type": "code",
   "execution_count": 54,
   "metadata": {},
   "outputs": [],
   "source": [
    "class Solution:\n",
    "    def numRollsToTarget(self, d: int, f: int, target: int) -> int:\n",
    "        M = pow(10, 9) + 7\n",
    "        \n",
    "        dp = [[0] * (target + 1) for _ in range(d + 1)]\n",
    "        for i in range(1, min(target + 1, f + 1)):\n",
    "            dp[1][i] = 1 # 初始化，当只有一个骰子的时候，dp[1][i] = 1\n",
    "        \n",
    "        for k in range(2, d + 1):\n",
    "            for i in range(1, target + 1): # 当前需要的值\n",
    "                for val in range(1, f + 1): # [前一个]骰子有可能投出来的值\n",
    "                    if i - val >= 1: # 前一个骰子 - 当前骰子投出的值，并且这个值一定得大于等于1\n",
    "                        dp[k][i] += dp[k - 1][i - val]\n",
    "                # dp[k][i] = sum(dp[k - 1][max(1, i - f) : i])\n",
    "        return dp[-1][-1] % M"
   ]
  },
  {
   "cell_type": "code",
   "execution_count": 55,
   "metadata": {},
   "outputs": [
    {
     "data": {
      "text/plain": [
       "222616187"
      ]
     },
     "execution_count": 55,
     "metadata": {},
     "output_type": "execute_result"
    }
   ],
   "source": [
    "solution = Solution()\n",
    "solution.numRollsToTarget(d = 30, f = 30, target = 500)"
   ]
  },
  {
   "cell_type": "code",
   "execution_count": 22,
   "metadata": {},
   "outputs": [
    {
     "data": {
      "text/plain": [
       "[[0, 0, 0, 0, 0, 0, 0, 0], [0, 1, 1, 1, 1, 1, 1, 0], [0, 0, 0, 0, 0, 0, 0, 0]]"
      ]
     },
     "execution_count": 22,
     "metadata": {},
     "output_type": "execute_result"
    }
   ],
   "source": [
    "[[0, 0, 0, 0, 0, 0, 0, 0], \n",
    " [0, 1, 1, 1, 1, 1, 1, 0], \n",
    " [0, 0, 0, 0, 0, 0, 0, 0]]"
   ]
  },
  {
   "cell_type": "code",
   "execution_count": null,
   "metadata": {},
   "outputs": [],
   "source": []
  }
 ],
 "metadata": {
  "kernelspec": {
   "display_name": "Python 3",
   "language": "python",
   "name": "python3"
  },
  "language_info": {
   "codemirror_mode": {
    "name": "ipython",
    "version": 3
   },
   "file_extension": ".py",
   "mimetype": "text/x-python",
   "name": "python",
   "nbconvert_exporter": "python",
   "pygments_lexer": "ipython3",
   "version": "3.6.2"
  }
 },
 "nbformat": 4,
 "nbformat_minor": 4
}
