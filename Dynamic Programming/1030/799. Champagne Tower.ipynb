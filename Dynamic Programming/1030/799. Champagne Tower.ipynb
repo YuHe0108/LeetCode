{
 "cells": [
  {
   "cell_type": "raw",
   "metadata": {},
   "source": [
    "说明：\n",
    "    我们把玻璃杯摆成金字塔的形状，其中第一层有1个玻璃杯，第二层有2个，依次类推到第100层，每个玻璃杯(250ml)将盛有香槟。\n",
    "\n",
    "    从顶层的第一个玻璃杯开始倾倒一些香槟，当顶层的杯子满了，任何溢出的香槟都会立刻等流量的流向左右两侧的玻璃杯。\n",
    "    当左右两边的杯子也满了，就会等流量的流向它们左右两边的杯子，依次类推。（当最底层的玻璃杯满了，香槟会流到地板上）\n",
    "\n",
    "    例如，在倾倒一杯香槟后，最顶层的玻璃杯满了。\n",
    "    倾倒了两杯香槟后，第二层的两个玻璃杯各自盛放一半的香槟。\n",
    "    在倒三杯香槟后，第二层的香槟满了 - 此时总共有三个满的玻璃杯。\n",
    "    在倒第四杯后，第三层中间的玻璃杯盛放了一半的香槟，他两边的玻璃杯各自盛放了四分之一的香槟，如下图所示。\n",
    "\n",
    "    现在当倾倒了非负整数杯香槟后，返回第 i 行 j 个玻璃杯所盛放的香槟占玻璃杯容积的比例（i 和 j都从0开始）。\n",
    "\n",
    "示例 1:\n",
    "    输入: poured(倾倒香槟总杯数) = 1, query_glass(杯子的位置数) = 1, query_row(行数) = 1\n",
    "    输出: 0.0\n",
    "    解释: 我们在顶层（下标是（0，0））倒了一杯香槟后，没有溢出，因此所有在顶层以下的玻璃杯都是空的。\n",
    "\n",
    "示例 2:\n",
    "    输入: poured(倾倒香槟总杯数) = 2, query_glass(杯子的位置数) = 1, query_row(行数) = 1\n",
    "    输出: 0.5\n",
    "    解释: 我们在顶层（下标是（0，0）倒了两杯香槟后，有一杯量的香槟将从顶层溢出，位于（1，0）的玻璃杯和（1，1）的玻璃杯平分了这一杯香槟，所以每个玻璃杯有一半的香槟。\n",
    "    \n",
    "注意:\n",
    "    1、poured 的范围[0, 10 ^ 9]。\n",
    "    2、query_glass 和query_row 的范围 [0, 99]。"
   ]
  },
  {
   "cell_type": "markdown",
   "metadata": {},
   "source": [
    "<img src='https://s3-lc-upload.s3.amazonaws.com/uploads/2018/03/09/tower.png' width=550>"
   ]
  },
  {
   "cell_type": "code",
   "execution_count": 65,
   "metadata": {},
   "outputs": [],
   "source": [
    "class Solution:\n",
    "    def champagneTower(self, poured: int, query_row: int, query_glass: int) -> float:\n",
    "        # dp = [[0] * 100 for _ in range(100)]\n",
    "        sum_val = 0\n",
    "        not_full_idx = 0\n",
    "        have_poured = 0\n",
    "        for i in range(1, 101):\n",
    "            sum_val += i\n",
    "            if sum_val >= poured:\n",
    "                not_full_idx = i - 1\n",
    "                have_poured = sum_val - i\n",
    "                break\n",
    "        if query_row > not_full_idx:\n",
    "            return 0\n",
    "        if query_row < not_full_idx:\n",
    "            return 1\n",
    "        \n",
    "        # 当倒到第 not_full_idx 这一行的时候，前面的都是满的，后面的都是空的，只有这一行是有满有空\n",
    "        left = poured - have_poured\n",
    "        res = [0] * (not_full_idx + 1)\n",
    "        if not_full_idx + 1 <= 2:\n",
    "            for i in range(not_full_idx + 1):\n",
    "                res[i] = left / (not_full_idx + 1)\n",
    "        else:\n",
    "            mid = not_full_idx + 1 - 2\n",
    "            x = left / (2 * mid + 2)\n",
    "            for i in range(1, not_full_idx):\n",
    "                res[i] = 2 * x\n",
    "            res[0] = x\n",
    "            res[-1] = x\n",
    "        return res[query_glass]"
   ]
  },
  {
   "cell_type": "code",
   "execution_count": 70,
   "metadata": {},
   "outputs": [],
   "source": [
    "class Solution:\n",
    "    def champagneTower(self, poured: int, query_row: int, query_glass: int) -> float:\n",
    "        q = [poured]\n",
    "        for i in range(query_row):\n",
    "            q2 = [0] * (len(q) + 1)\n",
    "            for i, amount in enumerate(q):\n",
    "                if amount <= 1:\n",
    "                    continue\n",
    "                tmp = (amount - 1) / 2\n",
    "                q2[i] += tmp\n",
    "                q2[i + 1] += tmp\n",
    "            q = q2\n",
    "        return min(q[query_glass], 1)"
   ]
  },
  {
   "cell_type": "code",
   "execution_count": 71,
   "metadata": {},
   "outputs": [
    {
     "data": {
      "text/plain": [
       "0.5"
      ]
     },
     "execution_count": 71,
     "metadata": {},
     "output_type": "execute_result"
    }
   ],
   "source": [
    "solution = Solution()\n",
    "solution.champagneTower(2, 1, 1)"
   ]
  },
  {
   "cell_type": "code",
   "execution_count": null,
   "metadata": {},
   "outputs": [],
   "source": []
  }
 ],
 "metadata": {
  "kernelspec": {
   "display_name": "Python 3",
   "language": "python",
   "name": "python3"
  },
  "language_info": {
   "codemirror_mode": {
    "name": "ipython",
    "version": 3
   },
   "file_extension": ".py",
   "mimetype": "text/x-python",
   "name": "python",
   "nbconvert_exporter": "python",
   "pygments_lexer": "ipython3",
   "version": "3.6.2"
  }
 },
 "nbformat": 4,
 "nbformat_minor": 4
}
