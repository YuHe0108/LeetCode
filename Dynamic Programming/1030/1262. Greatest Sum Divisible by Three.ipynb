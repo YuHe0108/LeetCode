{
 "cells": [
  {
   "cell_type": "raw",
   "metadata": {},
   "source": [
    "说明：\n",
    "    给你一个整数数组 nums，请你找出并返回能被三整除的元素最大和。\n",
    "\n",
    "示例 1：\n",
    "    输入：nums = [3,6,5,1,8]\n",
    "    输出：18\n",
    "    解释：选出数字 3, 6, 1 和 8，它们的和是 18（可被 3 整除的最大和）。\n",
    "\n",
    "示例 2：\n",
    "    输入：nums = [4]\n",
    "    输出：0\n",
    "    解释：4 不能被 3 整除，所以无法选出数字，返回 0。\n",
    "\n",
    "示例 3：\n",
    "    输入：nums = [1,2,3,4,4]\n",
    "    输出：12\n",
    "    解释：选出数字 1, 3, 4 以及 4，它们的和是 12（可被 3 整除的最大和）。\n",
    "\n",
    "提示：\n",
    "    1、1 <= nums.length <= 4 * 10^4\n",
    "    2、1 <= nums[i] <= 10^4"
   ]
  },
  {
   "cell_type": "code",
   "execution_count": 17,
   "metadata": {},
   "outputs": [],
   "source": [
    "class Solution:\n",
    "    def maxSumDivThree(self, nums) -> int:\n",
    "        N = len(nums)\n",
    "        dp = [[0] * 3 for _ in range(N)] # 列数：0, 1, 2 表示余数是多少\n",
    "        dp[0][nums[0] % 3] = nums[0]\n",
    "        \n",
    "        for i in range(1, N):\n",
    "            for j in range(3):\n",
    "                dp[i][j] = dp[i-1][j] # 在原来的基础上，准备加下一个数\n",
    "            \n",
    "            for j in range(3):\n",
    "                cur_val = dp[i-1][j] + nums[i]\n",
    "                idx = cur_val % 3 # 加下一个数后余数的值\n",
    "                dp[i][idx] = max(dp[i][idx], cur_val)\n",
    "        return dp[-1][0]"
   ]
  },
  {
   "cell_type": "code",
   "execution_count": 18,
   "metadata": {},
   "outputs": [
    {
     "data": {
      "text/plain": [
       "18"
      ]
     },
     "execution_count": 18,
     "metadata": {},
     "output_type": "execute_result"
    }
   ],
   "source": [
    "solution = Solution()\n",
    "solution.maxSumDivThree([3,6,5,1,8])"
   ]
  },
  {
   "cell_type": "code",
   "execution_count": null,
   "metadata": {},
   "outputs": [],
   "source": []
  }
 ],
 "metadata": {
  "kernelspec": {
   "display_name": "Python 3",
   "language": "python",
   "name": "python3"
  },
  "language_info": {
   "codemirror_mode": {
    "name": "ipython",
    "version": 3
   },
   "file_extension": ".py",
   "mimetype": "text/x-python",
   "name": "python",
   "nbconvert_exporter": "python",
   "pygments_lexer": "ipython3",
   "version": "3.6.2"
  }
 },
 "nbformat": 4,
 "nbformat_minor": 4
}
