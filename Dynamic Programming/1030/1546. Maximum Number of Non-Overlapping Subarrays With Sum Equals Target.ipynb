{
 "cells": [
  {
   "cell_type": "raw",
   "metadata": {},
   "source": [
    "说明：\n",
    "    给你一个数组 nums 和一个整数 target 。\n",
    "    请你返回 非空不重叠 子数组的最大数目，且每个子数组中数字和都为 target 。\n",
    "\n",
    "示例 1：\n",
    "    输入：nums = [1,1,1,1,1], target = 2\n",
    "    输出：2\n",
    "    解释：总共有 2 个不重叠子数组（加粗数字表示） [1,1, 1,1, 1] ，它们的和为目标值 2 。\n",
    "\n",
    "示例 2：\n",
    "    输入：nums = [-1,3,5,1,4,2,-9], target = 6\n",
    "    输出：2\n",
    "    解释：总共有 3 个子数组和为 6 。\n",
    "         ([5,1], [4,2], [3,5,1,4,2,-9]) 但只有前 2 个是不重叠的。\n",
    "\n",
    "示例 3：\n",
    "    输入：nums = [-2,6,6,3,5,4,1,2,8], target = 10\n",
    "    输出：3\n",
    "\n",
    "示例 4：\n",
    "    输入：nums = [0,0,0], target = 0\n",
    "    输出：3\n",
    "\n",
    "提示：\n",
    "    1、1 <= nums.length <= 10^5\n",
    "    2、-10^4 <= nums[i] <= 10^4\n",
    "    3、0 <= target <= 10^6"
   ]
  },
  {
   "cell_type": "markdown",
   "metadata": {},
   "source": [
    "<img src='1546.jpg'>"
   ]
  },
  {
   "cell_type": "code",
   "execution_count": 1,
   "metadata": {},
   "outputs": [],
   "source": [
    "from collections import defaultdict, Counter\n",
    "\n",
    "class Solution:\n",
    "    def maxNonOverlapping(self, nums, target: int) -> int:\n",
    "        # 前缀和\n",
    "        pre_sum = [0, nums[0]]\n",
    "        for i in range(1, len(nums)):\n",
    "            pre_sum.append(pre_sum[-1] + nums[i])\n",
    "        \n",
    "        pre_sum_dict = {0: 0}\n",
    "        dp = [0] * (len(nums) + 1)\n",
    "        if nums[0] == target: \n",
    "            dp[1] = 1\n",
    "        for i in range(1, len(nums) + 1):\n",
    "            dp[i] = dp[i-1] # 不使用当前的 val\n",
    "            needs = pre_sum[i] - target\n",
    "            if needs in pre_sum_dict:\n",
    "                j = pre_sum_dict[needs]\n",
    "                dp[i] = max(dp[i], dp[j] + 1)\n",
    "            pre_sum_dict[pre_sum[i]] = i\n",
    "        return dp[-1]"
   ]
  },
  {
   "cell_type": "code",
   "execution_count": 2,
   "metadata": {},
   "outputs": [
    {
     "name": "stdout",
     "output_type": "stream",
     "text": [
      "[0, 0, 0, 1, 1, 1, 1, 2, 2, 3]\n"
     ]
    },
    {
     "data": {
      "text/plain": [
       "3"
      ]
     },
     "execution_count": 2,
     "metadata": {},
     "output_type": "execute_result"
    }
   ],
   "source": [
    "solution = Solution()\n",
    "solution.maxNonOverlapping(nums = [-2,6,6,3,5,4,1,2,8], target = 10)"
   ]
  },
  {
   "cell_type": "code",
   "execution_count": null,
   "metadata": {},
   "outputs": [],
   "source": []
  },
  {
   "cell_type": "code",
   "execution_count": null,
   "metadata": {},
   "outputs": [],
   "source": []
  }
 ],
 "metadata": {
  "kernelspec": {
   "display_name": "Python 3",
   "language": "python",
   "name": "python3"
  },
  "language_info": {
   "codemirror_mode": {
    "name": "ipython",
    "version": 3
   },
   "file_extension": ".py",
   "mimetype": "text/x-python",
   "name": "python",
   "nbconvert_exporter": "python",
   "pygments_lexer": "ipython3",
   "version": "3.6.2"
  }
 },
 "nbformat": 4,
 "nbformat_minor": 4
}
