{
 "cells": [
  {
   "cell_type": "raw",
   "metadata": {},
   "source": [
    "国际象棋中的骑士可以按下图所示进行移动："
   ]
  },
  {
   "cell_type": "markdown",
   "metadata": {},
   "source": [
    "<img src='https://assets.leetcode-cn.com/aliyun-lc-upload/uploads/2018/11/03/keypad.png'>\n",
    "<img src='https://assets.leetcode-cn.com/aliyun-lc-upload/uploads/2018/11/03/knight.png'>"
   ]
  },
  {
   "cell_type": "raw",
   "metadata": {},
   "source": [
    "说明：\n",
    "    这一次，我们将 “骑士” 放在电话拨号盘的任意数字键（如上图所示）上，接下来，骑士将会跳 N-1 步。\n",
    "    每一步必须是从一个数字键跳到另一个数字键。\n",
    "\n",
    "    每当它落在一个键上（包括骑士的初始位置），都会拨出键所对应的数字，总共按下 N 位数字。\n",
    "\n",
    "    你能用这种方式拨出多少个不同的号码？\n",
    "    因为答案可能很大，所以输出答案模 10^9 + 7。\n",
    "\n",
    "示例 1：\n",
    "    输入：1\n",
    "    输出：10\n",
    "\n",
    "示例 2：\n",
    "    输入：2\n",
    "    输出：20\n",
    "\n",
    "示例 3：\n",
    "    输入：3\n",
    "    输出：46\n",
    "\n",
    "提示：\n",
    "    1、1 <= N <= 5000"
   ]
  },
  {
   "cell_type": "code",
   "execution_count": 3,
   "metadata": {},
   "outputs": [],
   "source": [
    "class Solution:\n",
    "    def knightDialer(self, n: int) -> int:\n",
    "        M = pow(10, 9) + 7\n",
    "        # 骑士\n",
    "        dirs = [(-1, -2), (-2, -1), (-2, 1), (-1, 2),\n",
    "                (1, -2), (2, -1), (2, 1), (1, 2)]\n",
    "        nums = [[1, 2, 3], [4, 5, 6], [7, 8, 9], ['#', 0, '#']]\n",
    "        choice = {1:}\n",
    "        for i in range(4):\n",
    "            for j in range(3):\n",
    "                if nums[i][j] != '#':\n",
    "                    pass\n",
    "        return"
   ]
  },
  {
   "cell_type": "code",
   "execution_count": 25,
   "metadata": {},
   "outputs": [],
   "source": [
    "class Solution:\n",
    "    def knightDialer(self, n: int) -> int:\n",
    "        M = pow(10, 9) + 7\n",
    "        choice = {1:[6, 8], 2:[7, 9], 3:[4, 8], 4:[9, 3, 0], 5: [],\n",
    "                  6:[1, 7, 0], 7:[2, 6], 8:[1, 3], 9:[2, 4], 0:[4, 6]}\n",
    "        dp = [[0] * 10 for _ in range(n + 1)]\n",
    "        for i in range(10):\n",
    "            dp[1][i] = 1\n",
    "        \n",
    "        for i in range(1, n+1):\n",
    "            for j in range(10):\n",
    "                for c in choice[j]:\n",
    "                    dp[i][j] += dp[i-1][c]\n",
    "        res = 0\n",
    "        for i in range(10):\n",
    "            res += dp[-1][i]\n",
    "        return res"
   ]
  },
  {
   "cell_type": "code",
   "execution_count": 28,
   "metadata": {},
   "outputs": [
    {
     "data": {
      "text/plain": [
       "46"
      ]
     },
     "execution_count": 28,
     "metadata": {},
     "output_type": "execute_result"
    }
   ],
   "source": [
    "solution = Solution()\n",
    "solution.knightDialer(3)"
   ]
  },
  {
   "cell_type": "code",
   "execution_count": null,
   "metadata": {},
   "outputs": [],
   "source": []
  }
 ],
 "metadata": {
  "kernelspec": {
   "display_name": "Python 3",
   "language": "python",
   "name": "python3"
  },
  "language_info": {
   "codemirror_mode": {
    "name": "ipython",
    "version": 3
   },
   "file_extension": ".py",
   "mimetype": "text/x-python",
   "name": "python",
   "nbconvert_exporter": "python",
   "pygments_lexer": "ipython3",
   "version": "3.6.2"
  }
 },
 "nbformat": 4,
 "nbformat_minor": 4
}
