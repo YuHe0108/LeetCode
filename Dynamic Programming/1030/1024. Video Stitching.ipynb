{
 "cells": [
  {
   "cell_type": "raw",
   "metadata": {},
   "source": [
    "说明：\n",
    "    你将会获得一系列视频片段，这些片段来自于一项持续时长为 T 秒的体育赛事。\n",
    "    这些片段可能有所重叠，也可能长度不一。\n",
    "\n",
    "    视频片段 clips[i] 都用区间进行表示：开始于 clips[i][0] 并于 clips[i][1] 结束。\n",
    "    我们甚至可以对这些片段自由地再剪辑，例如片段 [0, 7] 可以剪切成 [0, 1] + [1, 3] + [3, 7] 三部分。\n",
    "\n",
    "    我们需要将这些片段进行再剪辑，并将剪辑后的内容拼接成覆盖整个运动过程的片段（[0, T]）。\n",
    "    返回所需片段的最小数目，如果无法完成该任务，则返回 -1 。\n",
    "\n",
    "\n",
    "示例 1：\n",
    "    输入：clips = [[0,2],[4,6],[8,10],[1,9],[1,5],[5,9]], T = 10\n",
    "    输出：3\n",
    "    解释：\n",
    "        我们选中 [0,2], [8,10], [1,9] 这三个片段。\n",
    "        然后，按下面的方案重制比赛片段：\n",
    "        将 [1,9] 再剪辑为 [1,2] + [2,8] + [8,9] 。\n",
    "        现在我们手上有 [0,2] + [2,8] + [8,10]，而这些涵盖了整场比赛 [0, 10]。\n",
    "\n",
    "示例 2：\n",
    "    输入：clips = [[0,1],[1,2]], T = 5\n",
    "    输出：-1\n",
    "    解释：\n",
    "        我们无法只用 [0,1] 和 [1,2] 覆盖 [0,5] 的整个过程。\n",
    "\n",
    "示例 3：\n",
    "    输入：clips = [[0,1],[6,8],[0,2],[5,6],[0,4],[0,3],[6,7],[1,3],[4,7],[1,4],[2,5],[2,6],[3,4],[4,5],[5,7],[6,9]], T = 9\n",
    "    输出：3\n",
    "    解释： \n",
    "        我们选取片段 [0,4], [4,7] 和 [6,9] 。\n",
    "\n",
    "示例 4：\n",
    "    输入：clips = [[0,4],[2,8]], T = 5\n",
    "    输出：2\n",
    "    解释：\n",
    "        注意，你可能录制超过比赛结束时间的视频。\n",
    " \n",
    "提示：\n",
    "    1、1 <= clips.length <= 100\n",
    "    2、0 <= clips[i][0] <= clips[i][1] <= 100\n",
    "    3、0 <= T <= 100"
   ]
  },
  {
   "cell_type": "code",
   "execution_count": 82,
   "metadata": {},
   "outputs": [],
   "source": [
    "from collections import defaultdict\n",
    "\n",
    "class Solution:\n",
    "    def videoStitching(self, clips, T: int) -> int:\n",
    "        clips_dict = defaultdict(int)\n",
    "        for x, y in clips:\n",
    "            if clips_dict[x]:\n",
    "                if clips_dict[x] < y:\n",
    "                    clips_dict[x] = y\n",
    "            else:\n",
    "                clips_dict[x] = y         \n",
    "        \n",
    "        clips_dict = sorted(clips_dict.items(), key=lambda x:x[0])\n",
    "        if clips_dict[0][0] != 0: \n",
    "            return -1\n",
    "        \n",
    "        res = [clips_dict.pop(0)]\n",
    "        while res[-1][-1] < T:\n",
    "            next_clips = None\n",
    "            for x, y in clips_dict:\n",
    "                if x > res[-1][-1] or y <= res[-1][-1]:\n",
    "                    continue\n",
    "                else:\n",
    "                    if not next_clips:\n",
    "                        next_clips = (x, y)\n",
    "                    elif y > next_clips[-1]:\n",
    "                        next_clips = (x, y)\n",
    "            if not next_clips:return -1\n",
    "            clips_dict.remove(next_clips)\n",
    "            res.append(next_clips)\n",
    "        return len(res)"
   ]
  },
  {
   "cell_type": "code",
   "execution_count": 84,
   "metadata": {},
   "outputs": [
    {
     "data": {
      "text/plain": [
       "[(0, 2), (1, 9), (8, 10)]"
      ]
     },
     "execution_count": 84,
     "metadata": {},
     "output_type": "execute_result"
    }
   ],
   "source": [
    "solution = Solution()\n",
    "solution.videoStitching(clips = [[0,2],[4,6],[8,10],[1,9],[1,5],[5,9]], T = 10)"
   ]
  },
  {
   "cell_type": "code",
   "execution_count": null,
   "metadata": {},
   "outputs": [],
   "source": []
  },
  {
   "cell_type": "code",
   "execution_count": null,
   "metadata": {},
   "outputs": [],
   "source": []
  }
 ],
 "metadata": {
  "kernelspec": {
   "display_name": "Python 3",
   "language": "python",
   "name": "python3"
  },
  "language_info": {
   "codemirror_mode": {
    "name": "ipython",
    "version": 3
   },
   "file_extension": ".py",
   "mimetype": "text/x-python",
   "name": "python",
   "nbconvert_exporter": "python",
   "pygments_lexer": "ipython3",
   "version": "3.6.2"
  }
 },
 "nbformat": 4,
 "nbformat_minor": 4
}
