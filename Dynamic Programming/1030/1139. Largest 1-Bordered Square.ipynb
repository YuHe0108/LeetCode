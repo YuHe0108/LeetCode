{
 "cells": [
  {
   "cell_type": "raw",
   "metadata": {},
   "source": [
    "说明：\n",
    "    给你一个由若干 0 和 1 组成的二维网格 grid，请你找出边界全部由 1 组成的最大 正方形 子网格，并\n",
    "    返回该子网格中的元素数量。如果不存在，则返回 0。\n",
    " \n",
    "\n",
    "示例 1：\n",
    "    输入：grid = [[1,1,1],\n",
    "                 [1,0,1],\n",
    "                 [1,1,1]]\n",
    "    输出：9\n",
    "\n",
    "示例 2：\n",
    "    输入：grid = [[1,1,0,0]]\n",
    "    输出：1\n",
    "\n",
    "提示：\n",
    "    1、1 <= grid.length <= 100\n",
    "    2、1 <= grid[0].length <= 100\n",
    "    3、grid[i][j] 为 0 或 1"
   ]
  },
  {
   "cell_type": "code",
   "execution_count": 24,
   "metadata": {},
   "outputs": [],
   "source": [
    "class Solution:\n",
    "    def largest1BorderedSquare(self, grid) -> int:\n",
    "        rows, cols = len(grid), len(grid[0])\n",
    "        dp = [[0] * cols for _ in range(rows)]\n",
    "        \n",
    "        for i in range(rows):\n",
    "            dp[i][0] = grid[i][0]\n",
    "        for i in range(cols):\n",
    "            dp[0][i] = grid[0][i]\n",
    "        \n",
    "        for r in range(1, rows):\n",
    "            for c in range(1, cols):\n",
    "                if grid[r][c] == 1 and r-1 >= 0 and c-1 >= 0:\n",
    "                    dp[r][c] = min(dp[r-1][c], dp[r][c-1], dp[r-1][c-1]) + 1\n",
    "        return dp"
   ]
  },
  {
   "cell_type": "code",
   "execution_count": 105,
   "metadata": {},
   "outputs": [],
   "source": [
    "class Solution:\n",
    "    def largest1BorderedSquare(self, grid) -> int:\n",
    "        rows, cols = len(grid), len(grid[0])\n",
    "        t_d_arr = [[0] * cols for _ in range(rows)]\n",
    "        l_r_arr = [[0] * cols for _ in range(rows)]\n",
    "        for r in range(rows):\n",
    "            for c in range(cols):\n",
    "                if grid[r][c] == 1:\n",
    "                    t_d_arr[r][c] += t_d_arr[r][c-1] + 1 if c-1 >= 0 else 1\n",
    "                    l_r_arr[r][c] += l_r_arr[r-1][c] + 1 if r-1 >= 0 else 1\n",
    "        \n",
    "        print(t_d_arr, l_r_arr)\n",
    "        \n",
    "        # 正方形最大边长为 min(rows, cols)\n",
    "        for a in range(min(rows, cols), 0, -1):\n",
    "            i = rows - 1\n",
    "            while i-a+1 >= 0:\n",
    "                j = cols - 1\n",
    "                while j-a+1 >= 0:\n",
    "                    if t_d_arr[i][j] >= a and l_r_arr[i][j] >= a and t_d_arr[i-a+1][j] >= a and l_r_arr[i][j-a+1] >= a:\n",
    "                        return a * a\n",
    "                    j -= 1\n",
    "                i -= 1\n",
    "        return 0"
   ]
  },
  {
   "cell_type": "code",
   "execution_count": 106,
   "metadata": {},
   "outputs": [
    {
     "name": "stdout",
     "output_type": "stream",
     "text": [
      "[[1, 2, 3], [1, 0, 1], [1, 2, 3]] [[1, 1, 1], [2, 0, 2], [3, 1, 3]]\n",
      "3 3 1 1 3 2 2 0 0\n"
     ]
    },
    {
     "data": {
      "text/plain": [
       "9"
      ]
     },
     "execution_count": 106,
     "metadata": {},
     "output_type": "execute_result"
    }
   ],
   "source": [
    "solution = Solution()\n",
    "solution.largest1BorderedSquare([[1,1,1],[1,0,1],[1,1,1]])"
   ]
  },
  {
   "cell_type": "code",
   "execution_count": null,
   "metadata": {},
   "outputs": [],
   "source": []
  },
  {
   "cell_type": "code",
   "execution_count": null,
   "metadata": {},
   "outputs": [],
   "source": []
  }
 ],
 "metadata": {
  "kernelspec": {
   "display_name": "Python 3",
   "language": "python",
   "name": "python3"
  },
  "language_info": {
   "codemirror_mode": {
    "name": "ipython",
    "version": 3
   },
   "file_extension": ".py",
   "mimetype": "text/x-python",
   "name": "python",
   "nbconvert_exporter": "python",
   "pygments_lexer": "ipython3",
   "version": "3.6.2"
  }
 },
 "nbformat": 4,
 "nbformat_minor": 4
}
