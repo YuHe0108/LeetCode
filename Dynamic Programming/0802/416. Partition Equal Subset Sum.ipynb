{
 "cells": [
  {
   "cell_type": "raw",
   "metadata": {},
   "source": [
    "    给定一个只包含正整数的非空数组，找出是否可以将数组划分为两个子集，以便两个子集中的元素之和相等。\n",
    "    注意：每个数组元素不超过100。数组大小不会超过200。\n",
    "    1、平均分两个数组，是两个数组的和相同\n",
    "    \n",
    "    例1：\n",
    "        Input: [1, 5, 11, 5]\n",
    "        Output: true\n",
    "        Explanation: The array can be partitioned as [1, 5, 5] and [11].\n",
    "    例2：\n",
    "        Input: [1, 2, 3, 5]\n",
    "        Output: false\n",
    "        Explanation: The array cannot be partitioned into equal sum subsets."
   ]
  },
  {
   "cell_type": "code",
   "execution_count": null,
   "metadata": {},
   "outputs": [],
   "source": [
    "# 采用递归的方式，逐个试错，但是时间复杂度较高，无法通过\n",
    "class Solution:\n",
    "    def canPartition(self, nums) -> bool:\n",
    "        if sum(nums) % 2 != 0: return False\n",
    "        mean_val = sum(nums) // 2\n",
    "        results = [0] * 2\n",
    "        start_index = 0\n",
    "        nums.sort()\n",
    "        return self.split(results, nums, start_index, mean_val)\n",
    "    \n",
    "    def split(self, results, nums, index, target):\n",
    "        if index == len(nums):\n",
    "            return True\n",
    "\n",
    "        val = nums[index]\n",
    "        for i in range(2):\n",
    "            if results[i] + val <= target:\n",
    "                results[i] += val\n",
    "                if self.split(results, nums, index+1, target):\n",
    "                    return True\n",
    "                else:\n",
    "                    # 需要对nums进行sort的原因，因为如果当前值 + result[i] > target，就不必尝试下一个值了\n",
    "                    # 因为下一个val一定更大\n",
    "                    results[i] -= val\n",
    "        return False\n",
    "                "
   ]
  },
  {
   "cell_type": "markdown",
   "metadata": {},
   "source": [
    "![avatar](416.jpg)"
   ]
  },
  {
   "cell_type": "code",
   "execution_count": 29,
   "metadata": {},
   "outputs": [],
   "source": [
    "class Solution:\n",
    "    def canPartition(self, nums) -> bool:\n",
    "        total = sum(nums)\n",
    "        if total % 2 != 0: return False\n",
    "        target = total // 2\n",
    "        \n",
    "        dp = [False] * (target + 1)\n",
    "        dp[0] = True\n",
    "        for num in nums:\n",
    "            for i in range(target, num-1, -1):\n",
    "                if dp[target]: \n",
    "                    return True\n",
    "                dp[i] = dp[i] or dp[i-num]\n",
    "        \n",
    "        return dp[-1]"
   ]
  },
  {
   "cell_type": "code",
   "execution_count": 30,
   "metadata": {},
   "outputs": [
    {
     "data": {
      "text/plain": [
       "True"
      ]
     },
     "execution_count": 30,
     "metadata": {},
     "output_type": "execute_result"
    }
   ],
   "source": [
    "nums_ = [1, 5, 11, 5]\n",
    "solution = Solution()\n",
    "solution.canPartition(nums_)"
   ]
  },
  {
   "cell_type": "code",
   "execution_count": 7,
   "metadata": {},
   "outputs": [],
   "source": [
    "a = [1, 2]\n",
    "a[0] += 2"
   ]
  },
  {
   "cell_type": "code",
   "execution_count": 8,
   "metadata": {},
   "outputs": [
    {
     "data": {
      "text/plain": [
       "[3, 2]"
      ]
     },
     "execution_count": 8,
     "metadata": {},
     "output_type": "execute_result"
    }
   ],
   "source": [
    "a"
   ]
  },
  {
   "cell_type": "code",
   "execution_count": null,
   "metadata": {},
   "outputs": [],
   "source": []
  }
 ],
 "metadata": {
  "kernelspec": {
   "display_name": "TF2",
   "language": "python",
   "name": "tf2"
  },
  "language_info": {
   "codemirror_mode": {
    "name": "ipython",
    "version": 3
   },
   "file_extension": ".py",
   "mimetype": "text/x-python",
   "name": "python",
   "nbconvert_exporter": "python",
   "pygments_lexer": "ipython3",
   "version": "3.6.2"
  }
 },
 "nbformat": 4,
 "nbformat_minor": 4
}
