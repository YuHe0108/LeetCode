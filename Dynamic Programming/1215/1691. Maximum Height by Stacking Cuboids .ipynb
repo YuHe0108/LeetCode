{
 "cells": [
  {
   "cell_type": "code",
   "execution_count": null,
   "metadata": {},
   "outputs": [],
   "source": []
  },
  {
   "cell_type": "raw",
   "metadata": {},
   "source": [
    "    在长度、宽度满足要求的前提下，由于我们要最大化的是「高度」，因此很容易想到将每个长方体的最长边做为高度是最优的。\n",
    "    但是如何证明这是对的呢？\n",
    "    当所有长方体内部的三条边按照从小到大的顺序重新排列之后，由于此时高度对应了最大值，\n",
    "    那么整个堆叠的高度之和一定不会比重新排列以前要矮，因此最优的堆叠方法一定是基于重新排列的。"
   ]
  },
  {
   "cell_type": "code",
   "execution_count": 28,
   "metadata": {},
   "outputs": [],
   "source": [
    "class Solution:\n",
    "    def maxHeight(self, cuboids):\n",
    "        n = len(cuboids)\n",
    "        cuboids = sorted(map(sorted, cuboids)) # 先对 cuboids 内部的数据进行排序，之后再根据第一个维度进行排序\n",
    "        dp = [cuboid[-1] for cuboid in cuboids] # dp 包含了每一个 cuboids 的最大元素，可以看作是 高度\n",
    "        print(dp)\n",
    "\n",
    "        for i in range(n):\n",
    "            for j in range(i + 1, n):\n",
    "                if cuboids[i][1] <= cuboids[j][1] and cuboids[i][2] <= cuboids[j][2]:\n",
    "                    dp[j] = max(dp[j], dp[i] + cuboids[j][-1])\n",
    "                    print(j, dp)\n",
    "        print(dp)\n",
    "        return max(dp)"
   ]
  },
  {
   "cell_type": "code",
   "execution_count": 42,
   "metadata": {},
   "outputs": [],
   "source": [
    "class Solution:\n",
    "    def maxHeight(self, cuboids):\n",
    "        n = len(cuboids)\n",
    "        cuboids = sorted(map(sorted, cuboids)) # 先对 cuboids 内部的数据进行排序，之后再根据第一个维度进行排序\n",
    "        dp = [cuboid[-1] for cuboid in cuboids] # dp 包含了每一个 cuboids 的最大元素，可以看作是 高度\n",
    "        print(cuboids)\n",
    "        \n",
    "        for i in range(n):\n",
    "            for j in range(i):\n",
    "                if cuboids[i][1] >= cuboids[j][1] and cuboids[i][2] >= cuboids[j][2]:\n",
    "                    dp[i] = max(dp[i], dp[j] + cuboids[i][-1])\n",
    "        print(dp)\n",
    "        return max(dp)"
   ]
  },
  {
   "cell_type": "code",
   "execution_count": 43,
   "metadata": {},
   "outputs": [
    {
     "name": "stdout",
     "output_type": "stream",
     "text": [
      "[[12, 23, 45], [20, 45, 50], [37, 53, 95]]\n",
      "[45, 95, 190]\n"
     ]
    },
    {
     "data": {
      "text/plain": [
       "190"
      ]
     },
     "execution_count": 43,
     "metadata": {},
     "output_type": "execute_result"
    }
   ],
   "source": [
    "solution = Solution()\n",
    "solution.maxHeight(cuboids = [[50,45,20],[95,37,53],[45,23,12]])"
   ]
  },
  {
   "cell_type": "code",
   "execution_count": null,
   "metadata": {},
   "outputs": [],
   "source": []
  }
 ],
 "metadata": {
  "kernelspec": {
   "display_name": "Python 3",
   "language": "python",
   "name": "python3"
  },
  "language_info": {
   "codemirror_mode": {
    "name": "ipython",
    "version": 3
   },
   "file_extension": ".py",
   "mimetype": "text/x-python",
   "name": "python",
   "nbconvert_exporter": "python",
   "pygments_lexer": "ipython3",
   "version": "3.6.2"
  }
 },
 "nbformat": 4,
 "nbformat_minor": 4
}
