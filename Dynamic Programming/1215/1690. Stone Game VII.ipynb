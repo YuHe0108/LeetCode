{
 "cells": [
  {
   "cell_type": "code",
   "execution_count": null,
   "metadata": {},
   "outputs": [],
   "source": []
  },
  {
   "cell_type": "code",
   "execution_count": null,
   "metadata": {},
   "outputs": [],
   "source": []
  },
  {
   "cell_type": "code",
   "execution_count": 51,
   "metadata": {},
   "outputs": [],
   "source": [
    "class Solution:\n",
    "    def stoneGameVII(self, stones) -> int:\n",
    "        n = len(stones)\n",
    "        \n",
    "        # presum[i] - presum[j]: 表示的值是 sum(stones[i+1:j]), 包含 stones[j], 不包含stones[i]\n",
    "        presum = [0]\n",
    "        for i in range(n):\n",
    "            presum.append(presum[-1] + stones[i])\n",
    "        \n",
    "        stones = [0] + stones\n",
    "        # dp[i][j] 表示在 stones[i:j] 的这个区间内，Alice与Bob的最大分差\n",
    "        dp = [[0] * (1 + n) for _ in range(1 + n)]\n",
    "        for i in range(1, n):\n",
    "            dp[i][i+1] = max(stones[i], stones[i+1])\n",
    "        \n",
    "        for gap in range(3, n + 1): # 间隔最大 n\n",
    "            for s in range(1, n - gap + 2):\n",
    "                e = s + gap - 1\n",
    "                # 当取stones的首元素的时候，最大收益：presum[e] - presum[s]\n",
    "                # 对手的最大收益为 dp[s+1][e]\n",
    "                dp[s][e] = max(presum[e] - presum[s] - dp[s+1][e], \n",
    "                               presum[e-1] - presum[s-1] - dp[s][e-1])\n",
    "        return dp[1][n]"
   ]
  },
  {
   "cell_type": "code",
   "execution_count": 50,
   "metadata": {},
   "outputs": [
    {
     "data": {
      "text/plain": [
       "6"
      ]
     },
     "execution_count": 50,
     "metadata": {},
     "output_type": "execute_result"
    }
   ],
   "source": [
    "solution = Solution()\n",
    "solution.stoneGameVII(stones = [5,3,1,4,2])"
   ]
  },
  {
   "cell_type": "code",
   "execution_count": null,
   "metadata": {},
   "outputs": [],
   "source": []
  }
 ],
 "metadata": {
  "kernelspec": {
   "display_name": "Python 3",
   "language": "python",
   "name": "python3"
  },
  "language_info": {
   "codemirror_mode": {
    "name": "ipython",
    "version": 3
   },
   "file_extension": ".py",
   "mimetype": "text/x-python",
   "name": "python",
   "nbconvert_exporter": "python",
   "pygments_lexer": "ipython3",
   "version": "3.6.2"
  }
 },
 "nbformat": 4,
 "nbformat_minor": 4
}
