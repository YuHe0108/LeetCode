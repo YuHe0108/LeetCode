{
 "cells": [
  {
   "cell_type": "code",
   "execution_count": null,
   "metadata": {},
   "outputs": [],
   "source": []
  },
  {
   "cell_type": "code",
   "execution_count": null,
   "metadata": {},
   "outputs": [],
   "source": []
  },
  {
   "cell_type": "markdown",
   "metadata": {},
   "source": [
    "### 区间型DP，从小区间逐渐扩展到大区间"
   ]
  },
  {
   "cell_type": "code",
   "execution_count": 14,
   "metadata": {},
   "outputs": [],
   "source": [
    "class Solution:\n",
    "    def maxCoins(self, nums):\n",
    "        n = len(nums)\n",
    "        nums = [1] + nums + [1]\n",
    "        dp = [[0] * (n + 2) for _ in range(n+2)]\n",
    "        \n",
    "        for gap in range(1, n + 1): # 探索区间的长度\n",
    "            for s in range(1, n - gap + 2): # 区间的起始点\n",
    "                e = s + gap - 1 # 区间的终点\n",
    "                for k in range(s, e + 1): # 区间 起点 - 终点的 中间值\n",
    "                    dp[s][e] = max(dp[s][e], dp[s][k-1] + dp[k+1][e] + nums[k] * nums[s-1] * nums[e + 1])\n",
    "        return dp[1][n]"
   ]
  },
  {
   "cell_type": "code",
   "execution_count": 15,
   "metadata": {},
   "outputs": [
    {
     "data": {
      "text/plain": [
       "167"
      ]
     },
     "execution_count": 15,
     "metadata": {},
     "output_type": "execute_result"
    }
   ],
   "source": [
    "solution = Solution()\n",
    "solution.maxCoins([3,1,5,8])"
   ]
  },
  {
   "cell_type": "code",
   "execution_count": 1,
   "metadata": {},
   "outputs": [
    {
     "name": "stdout",
     "output_type": "stream",
     "text": [
      "1 1\n",
      "2 2\n",
      "3 3\n",
      "4 4\n",
      "5 5\n",
      "1 2\n",
      "2 3\n",
      "3 4\n",
      "4 5\n",
      "1 3\n",
      "2 4\n",
      "3 5\n",
      "1 4\n",
      "2 5\n",
      "1 5\n"
     ]
    }
   ],
   "source": [
    "a = [1, 2, 3, 4, 5]\n",
    "n = len(a)\n",
    "for gap in range(1, n + 1):\n",
    "    for s in range(n - gap + 1):\n",
    "        e = s + gap - 1\n",
    "        print(a[s], a[e])"
   ]
  },
  {
   "cell_type": "code",
   "execution_count": null,
   "metadata": {},
   "outputs": [],
   "source": []
  },
  {
   "cell_type": "code",
   "execution_count": null,
   "metadata": {},
   "outputs": [],
   "source": []
  }
 ],
 "metadata": {
  "kernelspec": {
   "display_name": "Python 3",
   "language": "python",
   "name": "python3"
  },
  "language_info": {
   "codemirror_mode": {
    "name": "ipython",
    "version": 3
   },
   "file_extension": ".py",
   "mimetype": "text/x-python",
   "name": "python",
   "nbconvert_exporter": "python",
   "pygments_lexer": "ipython3",
   "version": "3.6.2"
  }
 },
 "nbformat": 4,
 "nbformat_minor": 4
}
