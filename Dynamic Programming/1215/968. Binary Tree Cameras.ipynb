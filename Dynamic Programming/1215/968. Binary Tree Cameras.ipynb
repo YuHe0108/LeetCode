{
 "cells": [
  {
   "cell_type": "code",
   "execution_count": null,
   "metadata": {},
   "outputs": [],
   "source": []
  },
  {
   "cell_type": "code",
   "execution_count": null,
   "metadata": {},
   "outputs": [],
   "source": []
  },
  {
   "cell_type": "code",
   "execution_count": 1,
   "metadata": {},
   "outputs": [],
   "source": [
    "# Definition for a binary tree node.\n",
    "class TreeNode:\n",
    "    def __init__(self, x):\n",
    "        self.val = x\n",
    "        self.left = None\n",
    "        self.right = None\n",
    "\n",
    "class Solution:\n",
    "    def minCameraCover(self, root: TreeNode) -> int:\n",
    "        # 每个节点一共会有三种情况：\n",
    "        # case 0: 自己这个节点还没有被监控\n",
    "        # case 1：自己这个节点被监控，但是没有摄像机\n",
    "        # csae 2: 自己被监控，有摄像机\n",
    "        def dfs(node):\n",
    "            if not node:\n",
    "                return 0, 0, 0 \n",
    "            left = dfs(node.left)\n",
    "            right = dfs(node.right)\n",
    "            \n",
    "            # 作为第一种情况，由于自己没有被监控，那么左右节点必须不能 有摄像头，同时为了答案合法，必须都被监控\n",
    "            case_0 = left[1] + right[1]\n",
    "            if not node.left and not node.right:\n",
    "                case_1 = 1 # 如果没有左、右节点，那么本节点除了自己安装摄像头\n",
    "            elif not node.left:\n",
    "                case_1 = right[2] # 没有左节点，选择右节点有摄像头\n",
    "            elif not node.right:\n",
    "                case_1 = left[2] # 没有右节点，选择左节点有摄像头\n",
    "            else:\n",
    "                # 如果左右节点都有，那么可以在任意一个节点上装摄像头，另一个节点只要被监控即可\n",
    "                case_1 = min(left[2] + min(right[1:]), right[2] + min(left[1:]))\n",
    "            \n",
    "            # 自己有摄像头，子节点任意一种情况都可以被接受\n",
    "            case_2 = 1 + min(left) + min(right)\n",
    "            return case_0, case_1, case_2\n",
    "        \n",
    "        return min(dfs(root)[1:])"
   ]
  },
  {
   "cell_type": "code",
   "execution_count": null,
   "metadata": {},
   "outputs": [],
   "source": []
  }
 ],
 "metadata": {
  "kernelspec": {
   "display_name": "Python 3",
   "language": "python",
   "name": "python3"
  },
  "language_info": {
   "codemirror_mode": {
    "name": "ipython",
    "version": 3
   },
   "file_extension": ".py",
   "mimetype": "text/x-python",
   "name": "python",
   "nbconvert_exporter": "python",
   "pygments_lexer": "ipython3",
   "version": "3.6.2"
  }
 },
 "nbformat": 4,
 "nbformat_minor": 4
}
