{
 "cells": [
  {
   "cell_type": "code",
   "execution_count": 2,
   "metadata": {},
   "outputs": [],
   "source": [
    "graph = {\n",
    "    'A': ['B', 'C'],\n",
    "    'B': ['A', 'C', 'D'],\n",
    "    'C': ['A', 'B', 'D', 'E'],\n",
    "    'D': ['B', 'C', 'E', 'F'],\n",
    "    'E': ['C', 'D'],\n",
    "    'F': ['D']\n",
    "}"
   ]
  },
  {
   "cell_type": "code",
   "execution_count": null,
   "metadata": {},
   "outputs": [],
   "source": []
  },
  {
   "cell_type": "markdown",
   "metadata": {},
   "source": [
    "### 1、DFS： 使用Stack栈来实现，append(新的节点)，pop(尾巴节点)"
   ]
  },
  {
   "cell_type": "code",
   "execution_count": 24,
   "metadata": {},
   "outputs": [],
   "source": [
    "def dfs(graph, start):\n",
    "    stack = [start]\n",
    "    seen = {start}\n",
    "    while stack:\n",
    "        vertex = stack.pop() # 首元素\n",
    "        for node in graph[vertex]:\n",
    "            if node not in seen:\n",
    "                stack.append(node)\n",
    "                seen.add(node)\n",
    "        print(vertex)\n",
    "    return seen"
   ]
  },
  {
   "cell_type": "code",
   "execution_count": 25,
   "metadata": {},
   "outputs": [
    {
     "name": "stdout",
     "output_type": "stream",
     "text": [
      "A\n",
      "C\n",
      "E\n",
      "D\n",
      "F\n",
      "B\n"
     ]
    },
    {
     "data": {
      "text/plain": [
       "{'A', 'B', 'C', 'D', 'E', 'F'}"
      ]
     },
     "execution_count": 25,
     "metadata": {},
     "output_type": "execute_result"
    }
   ],
   "source": [
    "dfs(graph, 'A')"
   ]
  },
  {
   "cell_type": "code",
   "execution_count": null,
   "metadata": {},
   "outputs": [],
   "source": []
  },
  {
   "cell_type": "code",
   "execution_count": null,
   "metadata": {},
   "outputs": [],
   "source": []
  },
  {
   "cell_type": "markdown",
   "metadata": {},
   "source": [
    "### 2、BFS: 使用队列实现，append(新的节点)，pop(首元素)"
   ]
  },
  {
   "cell_type": "code",
   "execution_count": 17,
   "metadata": {},
   "outputs": [],
   "source": [
    "def bfs(graph, start):\n",
    "    queue = [start]\n",
    "    seen = {start}\n",
    "    while queue:\n",
    "        vertex = queue.pop(0) # 首元素\n",
    "        for node in graph[vertex]:\n",
    "            if node not in seen:\n",
    "                queue.append(node)\n",
    "                seen.add(node)\n",
    "        print(vertex)\n",
    "    return seen"
   ]
  },
  {
   "cell_type": "code",
   "execution_count": 30,
   "metadata": {},
   "outputs": [],
   "source": [
    "def bfs(graph, start):\n",
    "    queue = [start]\n",
    "    seen = {start}\n",
    "    parent = {start:None}\n",
    "    while queue:\n",
    "        vertex = queue.pop(0) # 首元素\n",
    "        for node in graph[vertex]:\n",
    "            if node not in seen:\n",
    "                queue.append(node)\n",
    "                seen.add(node)\n",
    "                parent[node] = vertex\n",
    "        print(vertex)\n",
    "    return seen, parent"
   ]
  },
  {
   "cell_type": "code",
   "execution_count": 32,
   "metadata": {},
   "outputs": [
    {
     "name": "stdout",
     "output_type": "stream",
     "text": [
      "A\n",
      "B\n",
      "C\n",
      "D\n",
      "E\n",
      "F\n"
     ]
    },
    {
     "data": {
      "text/plain": [
       "({'A', 'B', 'C', 'D', 'E', 'F'},\n",
       " {'A': None, 'B': 'A', 'C': 'A', 'D': 'B', 'E': 'C', 'F': 'D'})"
      ]
     },
     "execution_count": 32,
     "metadata": {},
     "output_type": "execute_result"
    }
   ],
   "source": [
    "bfs(graph, 'A')"
   ]
  },
  {
   "cell_type": "code",
   "execution_count": null,
   "metadata": {},
   "outputs": [],
   "source": []
  },
  {
   "cell_type": "markdown",
   "metadata": {},
   "source": [
    "### 3、Dijkstra: 每个节点之间都有相应的权重，可以用于求从一个节点出发到另外节点的最短路径"
   ]
  },
  {
   "cell_type": "markdown",
   "metadata": {},
   "source": [
    "<img src='graph.jpg' width=500>"
   ]
  },
  {
   "cell_type": "code",
   "execution_count": 33,
   "metadata": {},
   "outputs": [],
   "source": [
    "graph = {\n",
    "    'A': {'B': 5, 'C': 1},\n",
    "    'B': {'A': 5, 'C': 2, 'D': 1},\n",
    "    'C': {'A': 1, 'B': 2, 'D': 4, 'E': 8},\n",
    "    'D': {'B': 1, 'C': 4, 'E': 3, 'F': 6},\n",
    "    'E': {'C': 8, 'D': 3},\n",
    "    'F': {'D': 6}\n",
    "}"
   ]
  },
  {
   "cell_type": "code",
   "execution_count": 34,
   "metadata": {},
   "outputs": [
    {
     "data": {
      "text/plain": [
       "5"
      ]
     },
     "execution_count": 34,
     "metadata": {},
     "output_type": "execute_result"
    }
   ],
   "source": [
    "graph['A']['B']"
   ]
  },
  {
   "cell_type": "code",
   "execution_count": 50,
   "metadata": {},
   "outputs": [],
   "source": [
    "import heapq\n",
    "\n",
    "def dijkstra(graph, start):\n",
    "    seen = set()\n",
    "    pqueue = []\n",
    "    heapq.heappush(pqueue, (0, start))\n",
    "    parent = {start:None} # 从起始点出发到各个点的最短距离\n",
    "    dist = {start:0}\n",
    "    \n",
    "    while pqueue:\n",
    "        dis, node = heapq.heappop(pqueue)\n",
    "        seen.add(node)\n",
    "        \n",
    "        for w in graph[node].keys():\n",
    "            if w not in seen:\n",
    "                new_dis = dis + graph[node][w]\n",
    "                if new_dis < dist.get(w, float('inf')):\n",
    "                    dist[w] = new_dis\n",
    "                    heapq.heappush(pqueue, (new_dis, w))\n",
    "                    parent[w] = node\n",
    "    return parent, dist"
   ]
  },
  {
   "cell_type": "code",
   "execution_count": 52,
   "metadata": {},
   "outputs": [],
   "source": [
    "parent, dist = dijkstra(graph, 'A')"
   ]
  },
  {
   "cell_type": "code",
   "execution_count": 53,
   "metadata": {},
   "outputs": [
    {
     "name": "stdout",
     "output_type": "stream",
     "text": [
      "['E', 'D', 'B', 'C', 'A']\n"
     ]
    }
   ],
   "source": [
    "end = 'E'\n",
    "path = []\n",
    "while end:\n",
    "    path.append(end)\n",
    "    end = parent[end]\n",
    "print(path)"
   ]
  },
  {
   "cell_type": "code",
   "execution_count": null,
   "metadata": {},
   "outputs": [],
   "source": []
  }
 ],
 "metadata": {
  "kernelspec": {
   "display_name": "Python 3",
   "language": "python",
   "name": "python3"
  },
  "language_info": {
   "codemirror_mode": {
    "name": "ipython",
    "version": 3
   },
   "file_extension": ".py",
   "mimetype": "text/x-python",
   "name": "python",
   "nbconvert_exporter": "python",
   "pygments_lexer": "ipython3",
   "version": "3.6.2"
  }
 },
 "nbformat": 4,
 "nbformat_minor": 4
}
