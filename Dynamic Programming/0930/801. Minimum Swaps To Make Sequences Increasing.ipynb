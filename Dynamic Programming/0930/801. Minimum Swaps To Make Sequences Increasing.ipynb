{
 "cells": [
  {
   "cell_type": "raw",
   "metadata": {},
   "source": [
    "说明：\n",
    "    我们有两个具有相同非零长度的整数序列A和B。我们被允许交换元素 A[i] 和 B[i]。\n",
    "    请注意，两个元素在其各自的序列中都位于相同的索引位置。\n",
    "    在一些交换结束时，A和B都严格增加。(当且仅当A [0] <A [1] <A [2] <... <A [A.length-1]时，序列才严格增加。)\n",
    "    给定 A 和 B，返回最小交换数使两个序列严格增加。\n",
    "    确保给定的输入始终使之成为可能。\n",
    "\n",
    "Example:\n",
    "    Input: A = [1,3,5,4], B = [1,2,3,7]\n",
    "    Output: 1\n",
    "    Explanation: \n",
    "        Swap A[3] and B[3].  Then the sequences are:\n",
    "        A = [1, 3, 5, 7] and B = [1, 2, 3, 4]\n",
    "        which are both strictly increasing.\n",
    "\n",
    "Note:\n",
    "    1、A, B are arrays with the same length, and that length will be in the range [1, 1000].\n",
    "    2、A[i], B[i] are integer values in the range [0, 2000]."
   ]
  },
  {
   "cell_type": "code",
   "execution_count": 2,
   "metadata": {},
   "outputs": [],
   "source": [
    "class Solution:\n",
    "    def minSwap(self, A, B) -> int:\n",
    "        count = 0\n",
    "        for i in range(1, len(A)):\n",
    "            if A[i] <= A[i-1] or B[i] <= B[i-1]:\n",
    "                A[i], B[i] = B[i], A[i]\n",
    "                count += 1\n",
    "        return count"
   ]
  },
  {
   "cell_type": "code",
   "execution_count": 21,
   "metadata": {},
   "outputs": [],
   "source": [
    "class Solution:\n",
    "    def minSwap(self, A, B) -> int:\n",
    "        unswap, swap = 0, 1\n",
    "        for i in range(1, len(A)):\n",
    "            pre_unswap = unswap\n",
    "            pre_swap = swap\n",
    "            \n",
    "            unswap = float('inf')\n",
    "            swap = float('inf')\n",
    "            \n",
    "            # 上一轮没有swap，这一轮也没有swap\n",
    "            if A[i] > A[i-1] and B[i] > B[i-1]:\n",
    "                unswap = min(unswap, pre_unswap)\n",
    "            \n",
    "            # 上一轮swap，这一轮没有swap\n",
    "            if A[i] > B[i-1] and B[i] > A[i-1]:\n",
    "                unswap = min(unswap, pre_swap)\n",
    "            \n",
    "            # 上一轮swap，这一轮swap\n",
    "            if B[i] > B[i-1] and A[i] > A[i-1]:\n",
    "                swap = min(swap, pre_swap + 1)\n",
    "            \n",
    "            # 上一轮没有swap，这一轮swap\n",
    "            if B[i] > A[i-1] and A[i] > B[i-1]:\n",
    "                swap = min(swap, pre_unswap + 1)\n",
    "            \n",
    "        return min(unswap, swap)"
   ]
  },
  {
   "cell_type": "code",
   "execution_count": null,
   "metadata": {},
   "outputs": [],
   "source": [
    "class Solution:\n",
    "    def minSwap(self, A: List[int], B: List[int]) -> int:\n",
    "        n1, s1 = 0, 1\n",
    "        for i in range(1, len(A)):\n",
    "            n2 = s2 = float('inf')\n",
    "            if A[i-1] < A[i] and B[i-1] < B[i]:\n",
    "                n2 = min(n2, n1)\n",
    "                s2 = min(s2, s1+1)\n",
    "            if A[i-1] < B[i] and B[i-1] < A[i]:\n",
    "                n2 = min(n2, s1)\n",
    "                s2 = min(s2, n1+1)\n",
    "            n1, s1 = n2, s2\n",
    "        return min(n1, s1)"
   ]
  },
  {
   "cell_type": "code",
   "execution_count": 22,
   "metadata": {},
   "outputs": [
    {
     "data": {
      "text/plain": [
       "4"
      ]
     },
     "execution_count": 22,
     "metadata": {},
     "output_type": "execute_result"
    }
   ],
   "source": [
    "solution = Solution()\n",
    "solution.minSwap([0,7,8,10,10,11,12,13,19,18], [4,4,5,7,11,14,15,16,17,20])"
   ]
  },
  {
   "cell_type": "code",
   "execution_count": null,
   "metadata": {},
   "outputs": [],
   "source": []
  }
 ],
 "metadata": {
  "kernelspec": {
   "display_name": "Python 3",
   "language": "python",
   "name": "python3"
  },
  "language_info": {
   "codemirror_mode": {
    "name": "ipython",
    "version": 3
   },
   "file_extension": ".py",
   "mimetype": "text/x-python",
   "name": "python",
   "nbconvert_exporter": "python",
   "pygments_lexer": "ipython3",
   "version": "3.6.2"
  }
 },
 "nbformat": 4,
 "nbformat_minor": 4
}
