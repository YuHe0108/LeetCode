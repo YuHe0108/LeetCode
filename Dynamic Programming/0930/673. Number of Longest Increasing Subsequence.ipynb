{
 "cells": [
  {
   "cell_type": "raw",
   "metadata": {},
   "source": [
    "说明：\n",
    "    给定一个未排序的整数数组，请找出最长的递增子序列数。\n",
    "    \n",
    "Example 1:\n",
    "    Input: [1,3,5,4,7]\n",
    "    Output: 2\n",
    "    Explanation: The two longest increasing subsequence are [1, 3, 4, 7] and [1, 3, 5, 7].\n",
    "\n",
    "Example 2:\n",
    "    Input: [2,2,2,2,2]\n",
    "    Output: 5\n",
    "    Explanation: 最长连续递增子序列的长度为1，并且有5个子序列的长度为1，因此输出5。\n",
    "\n",
    "注意：给定数组的长度将不超过2000，并且保证答案适合32位有符号整数。"
   ]
  },
  {
   "cell_type": "code",
   "execution_count": 43,
   "metadata": {},
   "outputs": [],
   "source": [
    "class Solution:\n",
    "    def findNumberOfLIS(self, nums) -> int:\n",
    "        if not nums: return 0\n",
    "        dp = [1] * len(nums) # 代表了在nums中，以idx为结尾的上升子序列的长度\n",
    "        times = [1] * len(nums) # 代表了最长子序列的个数\n",
    "        \n",
    "        for i in range(len(nums)):\n",
    "            for j in range(i):\n",
    "                if nums[i] <= nums[j]:\n",
    "                    continue\n",
    "                \n",
    "                if dp[j] + 1 > dp[i]:\n",
    "                    times[i] = times[j]\n",
    "                else:\n",
    "                    times[i] += times[j]\n",
    "                dp[i] = max(dp[i], dp[j]+1)\n",
    "        \n",
    "        print(dp, times)\n",
    "        max_len = 1\n",
    "        result = 0\n",
    "        for i in range(len(dp)):\n",
    "            if dp[i] > max_len:\n",
    "                max_len = dp[i]\n",
    "                result = times[i]\n",
    "            elif dp[i] == max_len:\n",
    "                result += times[i]\n",
    "        return result"
   ]
  },
  {
   "cell_type": "code",
   "execution_count": 44,
   "metadata": {},
   "outputs": [
    {
     "name": "stdout",
     "output_type": "stream",
     "text": [
      "[1, 2, 3, 3, 4] [1, 1, 1, 1, 2]\n"
     ]
    },
    {
     "data": {
      "text/plain": [
       "2"
      ]
     },
     "execution_count": 44,
     "metadata": {},
     "output_type": "execute_result"
    }
   ],
   "source": [
    "solution = Solution()\n",
    "solution.findNumberOfLIS([1,3,5,4,7])"
   ]
  },
  {
   "cell_type": "code",
   "execution_count": null,
   "metadata": {},
   "outputs": [],
   "source": []
  }
 ],
 "metadata": {
  "kernelspec": {
   "display_name": "Python 3",
   "language": "python",
   "name": "python3"
  },
  "language_info": {
   "codemirror_mode": {
    "name": "ipython",
    "version": 3
   },
   "file_extension": ".py",
   "mimetype": "text/x-python",
   "name": "python",
   "nbconvert_exporter": "python",
   "pygments_lexer": "ipython3",
   "version": "3.6.2"
  }
 },
 "nbformat": 4,
 "nbformat_minor": 4
}
