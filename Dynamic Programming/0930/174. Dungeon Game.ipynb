{
 "cells": [
  {
   "cell_type": "raw",
   "metadata": {},
   "source": [
    "说明：\n",
    "    恶魔抓住了公主（P），将她囚禁在地牢的右下角。\n",
    "    地牢由以二维网格布置的M x N个房间组成。\n",
    "    我们英勇的骑士（K）最初被放置在左上角的房间里，必须穿越地牢以营救公主。\n",
    "    骑士的初始健康点由正整数表示。\n",
    "    如果他的健康点在任何时候下降到0或以下，他都会立即死亡。\n",
    "    一些房间被恶魔守护，因此骑士进入这些房间后会失去生命（负整数）。\n",
    "    其他房间为空（0）或包含增加骑士生命值的魔球（正整数）。\n",
    "    为了尽快到达公主，骑士决定在每个步骤中仅向右或向下移动。\n",
    "    \n",
    "    编写一个函数来确定骑士的最低初始健康状况，以便他能够营救公主。\n",
    "    例如，给定下面的地牢，如果骑士遵循最佳路径RIGHT-> RIGHT-> DOWN-> DOWN，\n",
    "    则他的初始健康状况必须至少为7。\n",
    "\n",
    "注意：\n",
    "    1、骑士的健康状况没有上限。\n",
    "    2、任何房间都可能包含威胁或通电，即使骑士进入的第一个房间和囚禁公主的右下角房间也是如此。"
   ]
  },
  {
   "cell_type": "markdown",
   "metadata": {},
   "source": [
    "<img src='174.jpg' width=250>"
   ]
  },
  {
   "cell_type": "code",
   "execution_count": 38,
   "metadata": {},
   "outputs": [],
   "source": [
    "class Solution:\n",
    "    def calculateMinimumHP(self, dungeon) -> int:\n",
    "        rows, cols = len(dungeon), len(dungeon[0])\n",
    "        dp = [[1] * cols for _ in range(rows)]\n",
    "        \n",
    "        for r in range(rows-1, -1, -1):\n",
    "            for c in range(cols-1, -1, -1):\n",
    "                if r == rows-1 and c == cols-1:\n",
    "                    dp[r][c] = 1\n",
    "                elif r == rows -1:\n",
    "                    dp[r][c] = dp[r][c+1] - dungeon[r][c+1]\n",
    "                elif c == cols - 1:\n",
    "                    dp[r][c] = dp[r+1][c] - dungeon[r+1][c]\n",
    "                else:\n",
    "                    dp[r][c] = min(dp[r][c+1] - dungeon[r][c+1], dp[r+1][c] - dungeon[r+1][c])\n",
    "                dp[r][c] = max(dp[r][c], 1)\n",
    "                print(dp)\n",
    "                \n",
    "        dp[0][0] -= dungeon[0][0]\n",
    "        dp[0][0] = max(dp[0][0], 1)\n",
    "        return dp[0][0]"
   ]
  },
  {
   "cell_type": "code",
   "execution_count": 39,
   "metadata": {},
   "outputs": [
    {
     "name": "stdout",
     "output_type": "stream",
     "text": [
      "[[1, 1, 1], [1, 1, 1], [1, 1, 1]]\n",
      "[[1, 1, 1], [1, 1, 1], [1, 6, 1]]\n",
      "[[1, 1, 1], [1, 1, 1], [1, 6, 1]]\n",
      "[[1, 1, 1], [1, 1, 6], [1, 6, 1]]\n",
      "[[1, 1, 1], [1, 1, 6], [1, 6, 1]]\n",
      "[[1, 1, 1], [1, 1, 6], [1, 6, 1]]\n",
      "[[1, 1, 5], [1, 1, 6], [1, 6, 1]]\n",
      "[[1, 2, 5], [1, 1, 6], [1, 6, 1]]\n",
      "[[5, 2, 5], [1, 1, 6], [1, 6, 1]]\n"
     ]
    },
    {
     "data": {
      "text/plain": [
       "7"
      ]
     },
     "execution_count": 39,
     "metadata": {},
     "output_type": "execute_result"
    }
   ],
   "source": [
    "dungeon_ = [[-2,-3,3],[-5,-10,1],[10,30,-5]]\n",
    "solution = Solution()\n",
    "solution.calculateMinimumHP(dungeon_)"
   ]
  },
  {
   "cell_type": "code",
   "execution_count": null,
   "metadata": {},
   "outputs": [],
   "source": [
    "[[5, 2, 5], \n",
    " [1, 1, 6], \n",
    " [1, 6, 1]]"
   ]
  }
 ],
 "metadata": {
  "kernelspec": {
   "display_name": "Python 3",
   "language": "python",
   "name": "python3"
  },
  "language_info": {
   "codemirror_mode": {
    "name": "ipython",
    "version": 3
   },
   "file_extension": ".py",
   "mimetype": "text/x-python",
   "name": "python",
   "nbconvert_exporter": "python",
   "pygments_lexer": "ipython3",
   "version": "3.6.2"
  }
 },
 "nbformat": 4,
 "nbformat_minor": 4
}
