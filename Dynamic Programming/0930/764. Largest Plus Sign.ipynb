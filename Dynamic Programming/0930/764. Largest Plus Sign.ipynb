{
 "cells": [
  {
   "cell_type": "raw",
   "metadata": {},
   "source": [
    "说明：\n",
    "    在从（0，0）到（N-1，N-1）的2D网格中，每个cell都包含1，除了给定列表中的那些像元是0以外。\n",
    "    最大的轴对齐加号1是多少？包含在网格中？返回加号的顺序。\n",
    "    如果不存在，则返回0。\n",
    "    “轴对齐加号1s的k”具有一些中心网格[x] [y] = 1以及4个长度为k-1的臂向上，向下，向左和向右移动正确，并由1秒组成。\n",
    "    如下图所示。请注意，加号的范围之外可能有0或1s，仅检查加号的相关区域是否为1s。"
   ]
  }
 ],
 "metadata": {
  "kernelspec": {
   "display_name": "Python 3",
   "language": "python",
   "name": "python3"
  },
  "language_info": {
   "codemirror_mode": {
    "name": "ipython",
    "version": 3
   },
   "file_extension": ".py",
   "mimetype": "text/x-python",
   "name": "python",
   "nbconvert_exporter": "python",
   "pygments_lexer": "ipython3",
   "version": "3.6.2"
  }
 },
 "nbformat": 4,
 "nbformat_minor": 4
}
