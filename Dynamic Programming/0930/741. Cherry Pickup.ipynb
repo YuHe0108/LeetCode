{
 "cells": [
  {
   "cell_type": "raw",
   "metadata": {},
   "source": [
    "说明：\n",
    "    在代表樱桃字段的 N x N网格中，每个单元格是三个可能整数之一。\n",
    "    1、0表示单元格为空，因此您可以通过；\n",
    "    2、1表示该单元格包含一个樱桃，您可以拾取它并通过它；\n",
    "    3、-1表示该单元格包含刺，该刺会阻碍您的前进。\n",
    "    您的任务是按照以下规则收集最大数量的樱桃：\n",
    "\n",
    "规则：\n",
    "    从位置（0，0）开始并通过在有效路径单元格（值为0或1的单元格）中向右或向下移动而到达（N-1，N-1）；\n",
    "    到达（N-1，N-1）后，通过在有效路径单元格中向左或向上移动返回到（0，0）；\n",
    "    当通过包含樱桃的路径单元格时，将其拾取，该单元格将成为一个空单元格（0）；\n",
    "    如果（0，0）与（N-1，N-1）之间没有有效路径，则无法收集樱桃。\n",
    "\n",
    "Example 1:\n",
    "    Input: grid =\n",
    "                [[0, 1, -1],\n",
    "                 [1, 0, -1],\n",
    "                 [1, 1,  1]]\n",
    "    Output: 5\n",
    "    Explanation: \n",
    "        The player started at (0, 0) and went down, down, right right to reach (2, 2).\n",
    "        4 cherries were picked up during this single trip, and the matrix becomes [[0,1,-1],[0,0,-1],[0,0,0]].\n",
    "        Then, the player went left, up, up, left to return home, picking up one more cherry.\n",
    "        The total number of cherries picked up is 5, and this is the maximum possible.\n",
    "\n",
    "Note:\n",
    "    1、grid是N x N 2D数组，其中1 <= N <=50。\n",
    "    2、每个grid[i][j] 是集合{-1，0，1}中的整数。\n",
    "    3、保证grid[0][0] 和 grid[N-1][N-1]不为-1。"
   ]
  },
  {
   "cell_type": "code",
   "execution_count": 1,
   "metadata": {},
   "outputs": [],
   "source": [
    "class Solution:\n",
    "    def cherryPickup(self, grid) -> int:\n",
    "        N = len(grid)\n",
    "        dp = [[0] * N for _ in range(N)]\n",
    "        \n",
    "        if grid[-1][-1] == 1:\n",
    "            dp[-1][-1] = 1\n",
    "            grid[-1][-1] = 0\n",
    "            \n",
    "        for i in range(N-1, -1, -1):\n",
    "            for j in range(N-1, -1, -1):\n",
    "                if i == N - 1 and j == N - 1:\n",
    "                    continue\n",
    "                elif i == N - 1:\n",
    "                    dp[i][j] = max(dp[i-1])\n",
    "                elif j == N - 1:\n",
    "                    pass\n",
    "                else:\n",
    "                    pass\n",
    "                \n",
    "        print(dp)     \n",
    "        for i in range(N):\n",
    "            for j in range(N):\n",
    "                pass\n",
    "            \n",
    "        return dp[0][0]"
   ]
  },
  {
   "cell_type": "code",
   "execution_count": 25,
   "metadata": {},
   "outputs": [],
   "source": [
    "class Solution:\n",
    "    def cherryPickup(self, grid) -> int:\n",
    "        def dp(r1, c1, r2, c2):\n",
    "            if (r1, c1, r2, c2) in mem: \n",
    "                return mem[(r1, c1, r2, c2)]\n",
    "            \n",
    "            # 边界条件\n",
    "            if r1 > N-1 or c1 > N-1 or r2 > N-1 or c2 > N-1 or grid[r1][c1] == -1 or grid[r2][c2] == -1:\n",
    "                return -float('inf')\n",
    "            \n",
    "            # 到达右下角, 到达目的地\n",
    "            if r1 == c1 == N-1 or r2 == c2 == N-1:\n",
    "                return grid[-1][-1]\n",
    "            \n",
    "            # 在边界条件的时候，已经检查了　grid[r1][c1] and grid[r2][c2] 是否是-1的 situation\n",
    "            # 加上当前 grid的值之后，再往下走\n",
    "            cur_cherry = 0\n",
    "            if r1 == r2 and c1 == c2: # 重合的情况\n",
    "                cur_cherry = grid[r1][c1]\n",
    "            else:\n",
    "                cur_cherry = grid[r1][c1] + grid[r2][c2]\n",
    "            \n",
    "            next_cherry = -float('inf')\n",
    "            dirs = [[0, 1], [1, 0]] # 向右、向下\n",
    "            for d1 in dirs:\n",
    "                for d2 in dirs:\n",
    "                    nr_1 = d1[0] + r1\n",
    "                    nc_1 = d1[1] + c1\n",
    "                    nr_2 = d2[0] + r2\n",
    "                    nc_2 = d2[1] + c2\n",
    "                    next_cherry = max(next_cherry, dp(nr_1, nc_1, nr_2, nc_2))\n",
    "            cur_cherry += next_cherry\n",
    "            mem[(r1, c1, r2, c2)] = cur_cherry\n",
    "            return cur_cherry\n",
    "        \n",
    "        mem = {}\n",
    "        N = len(grid)\n",
    "        ans = dp(0, 0, 0, 0)\n",
    "        return ans if ans > 0 else 0"
   ]
  },
  {
   "cell_type": "code",
   "execution_count": 26,
   "metadata": {},
   "outputs": [
    {
     "data": {
      "text/plain": [
       "5"
      ]
     },
     "execution_count": 26,
     "metadata": {},
     "output_type": "execute_result"
    }
   ],
   "source": [
    "solution = Solution()\n",
    "solution.cherryPickup([[0, 1, -1],\n",
    "                       [1, 0, -1],\n",
    "                       [1, 1,  1]])"
   ]
  },
  {
   "cell_type": "code",
   "execution_count": null,
   "metadata": {},
   "outputs": [],
   "source": [
    "{(2, 1, 2, 1): 2, \n",
    " (1, 1, 1, 1): 2, \n",
    " (0, 1, 0, 1): 3, \n",
    " (1, 1, 2, 0): 3, \n",
    " (0, 1, 1, 0): 5, \n",
    " (2, 0, 1, 1): 3, \n",
    " (1, 0, 0, 1): 5, \n",
    " (2, 0, 2, 0): 3, \n",
    " (1, 0, 1, 0): 4, \n",
    " (0, 0, 0, 0): 5}"
   ]
  }
 ],
 "metadata": {
  "kernelspec": {
   "display_name": "Python 3",
   "language": "python",
   "name": "python3"
  },
  "language_info": {
   "codemirror_mode": {
    "name": "ipython",
    "version": 3
   },
   "file_extension": ".py",
   "mimetype": "text/x-python",
   "name": "python",
   "nbconvert_exporter": "python",
   "pygments_lexer": "ipython3",
   "version": "3.6.2"
  }
 },
 "nbformat": 4,
 "nbformat_minor": 4
}
