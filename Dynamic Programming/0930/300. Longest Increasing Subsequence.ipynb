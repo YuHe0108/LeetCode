{
 "cells": [
  {
   "cell_type": "raw",
   "metadata": {},
   "source": [
    "说明：\n",
    "    给定一个未排序的整数数组，请找到最长递增子序列的长度。\n",
    "\n",
    "Example:\n",
    "    Input: [10,9,2,5,3,7,101,18]\n",
    "    Output: 4 \n",
    "    Explanation: The longest increasing subsequence is [2,3,7,101], therefore the length is 4. \n",
    "\n",
    "Note:\n",
    "    1、There may be more than one LIS combination, it is only necessary for you to return the length.\n",
    "    2、Your algorithm should run in O(n2) complexity.\n",
    "\n",
    "Follow up: Could you improve it to O(n log n) time complexity?"
   ]
  },
  {
   "cell_type": "code",
   "execution_count": 6,
   "metadata": {},
   "outputs": [],
   "source": [
    "class Solution:\n",
    "    def lengthOfLIS(self, nums) -> int:\n",
    "        if len(nums) <= 1: return len(nums)\n",
    "        \n",
    "        dp = [1] * len(nums)\n",
    "        for i in range(len(nums)):\n",
    "            for j in range(i):\n",
    "                if nums[i] <= nums[j]:\n",
    "                    continue\n",
    "                dp[i] = max(dp[i], dp[j] + 1)\n",
    "        return max(dp)"
   ]
  },
  {
   "cell_type": "code",
   "execution_count": 8,
   "metadata": {},
   "outputs": [],
   "source": [
    "class Solution:\n",
    "    def lengthOfLIS(self, nums) -> int:\n",
    "        def binarysearch(target, arr):\n",
    "            l, r = 0, len(arr)-1\n",
    "            while l <= r:\n",
    "                mid = (l + r) // 2\n",
    "                if arr[mid] == target:\n",
    "                    return mid\n",
    "                elif arr[mid] < target:\n",
    "                    l = mid + 1\n",
    "                else:\n",
    "                    r = mid - 1\n",
    "            return l\n",
    "        \n",
    "        ans = []\n",
    "        for x in nums:\n",
    "            idx = binarysearch(x, ans)\n",
    "            if idx == len(ans):\n",
    "                ans.append(x)\n",
    "            else:\n",
    "                ans[idx] = x\n",
    "        \n",
    "        print(ans)\n",
    "        return len(ans)\n",
    "            "
   ]
  },
  {
   "cell_type": "code",
   "execution_count": 9,
   "metadata": {},
   "outputs": [
    {
     "name": "stdout",
     "output_type": "stream",
     "text": [
      "[2, 3, 7, 18]\n"
     ]
    },
    {
     "data": {
      "text/plain": [
       "4"
      ]
     },
     "execution_count": 9,
     "metadata": {},
     "output_type": "execute_result"
    }
   ],
   "source": [
    "solution = Solution()\n",
    "solution.lengthOfLIS([10,9,2,5,3,7,101,18])"
   ]
  },
  {
   "cell_type": "code",
   "execution_count": null,
   "metadata": {},
   "outputs": [],
   "source": []
  }
 ],
 "metadata": {
  "kernelspec": {
   "display_name": "Python 3",
   "language": "python",
   "name": "python3"
  },
  "language_info": {
   "codemirror_mode": {
    "name": "ipython",
    "version": 3
   },
   "file_extension": ".py",
   "mimetype": "text/x-python",
   "name": "python",
   "nbconvert_exporter": "python",
   "pygments_lexer": "ipython3",
   "version": "3.6.2"
  }
 },
 "nbformat": 4,
 "nbformat_minor": 4
}
