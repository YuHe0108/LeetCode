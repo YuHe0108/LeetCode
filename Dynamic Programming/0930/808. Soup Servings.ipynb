{
 "cells": [
  {
   "cell_type": "raw",
   "metadata": {},
   "source": [
    "说明：\n",
    "    汤有两种类型：A型和B型。最初，每种类型的汤都有 N ml。\n",
    "    操作有四种：\n",
    "    1、服务100毫升A汤和0毫升B汤。\n",
    "    2、服务75毫升A汤和25毫升汤B。\n",
    "    3、服务50毫升A汤和50毫升汤B。\n",
    "    4、服务25毫升A汤和75毫升汤B。\n",
    "    当我们提供汤时，我们将其送给某人，而我们不再拥有。\n",
    "    每回合，我们将从四个操作中选择概率为0.25的操作。\n",
    "    如果汤的剩余量不足以完成操作，我们将竭尽所能。\n",
    "    一旦我们不再有一定数量的两种汤，我们便停止。\n",
    "    请注意：我们没有先使用所有100毫升汤B的操作。\n",
    "    返回汤A先变空的概率，再加上汤A和B同时变空的概率的一半。\n",
    "    \n",
    "Example:\n",
    "    Input: N = 50\n",
    "    Output: 0.625\n",
    "    Explanation: \n",
    "        If we choose the first two operations, A will become empty first. \n",
    "        For the third operation, A and B will become empty at the same time. \n",
    "        For the fourth operation, B will become empty first. \n",
    "        因此，A首先变空的总概率加上A和B同时变空的概率的一半为 0.25 * (1 + 1 + 0.5 + 0) = 0.625.\n",
    "\n",
    "Notes:\n",
    "    1、0 <= N <= 10^9. \n",
    "    2、Answers within 10^-6 of the true value will be accepted as correct."
   ]
  }
 ],
 "metadata": {
  "kernelspec": {
   "display_name": "Python 3",
   "language": "python",
   "name": "python3"
  },
  "language_info": {
   "codemirror_mode": {
    "name": "ipython",
    "version": 3
   },
   "file_extension": ".py",
   "mimetype": "text/x-python",
   "name": "python",
   "nbconvert_exporter": "python",
   "pygments_lexer": "ipython3",
   "version": "3.6.2"
  }
 },
 "nbformat": 4,
 "nbformat_minor": 4
}
