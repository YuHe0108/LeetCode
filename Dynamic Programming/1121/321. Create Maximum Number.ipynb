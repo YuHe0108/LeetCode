{
 "cells": [
  {
   "cell_type": "raw",
   "metadata": {},
   "source": [
    "    给定长度分别为 m 和 n 的两个数组，其元素由 0-9 构成，表示两个自然数各位上的数字。现在从这两个数组中选出 k (k <= m + n) 个数字拼接成一个新的数，要求从同一个数组中取出的数字保持其在原数组中的相对顺序。\n",
    "\n",
    "    求满足该条件的最大数。结果返回一个表示该最大数的长度为 k 的数组。\n",
    "\n",
    "    说明: 请尽可能地优化你算法的时间和空间复杂度。\n",
    "\n",
    "示例 1:\n",
    "    输入:\n",
    "        nums1 = [3, 4, 6, 5]\n",
    "        nums2 = [9, 1, 2, 5, 8, 3]\n",
    "        k = 5\n",
    "    输出:\n",
    "        [9, 8, 6, 5, 3]\n",
    "\n",
    "示例 2:\n",
    "    输入:\n",
    "        nums1 = [6, 7]\n",
    "        nums2 = [6, 0, 4]\n",
    "        k = 5\n",
    "    输出:\n",
    "        [6, 7, 6, 0, 4]\n",
    "\n",
    "示例 3:\n",
    "    输入:\n",
    "        nums1 = [3, 9]\n",
    "        nums2 = [8, 9]\n",
    "        k = 3\n",
    "    输出:\n",
    "        [9, 8, 9]"
   ]
  },
  {
   "cell_type": "code",
   "execution_count": 5,
   "metadata": {},
   "outputs": [],
   "source": [
    "class Solution:\n",
    "    def maxNumber(self, nums1, nums2, k: int):\n",
    "        n1, n2 = len(nums1), len(nums2)\n",
    "        dp = [[['0'] * (1+k) for _ in range(1 + n2)] for _ in range(1 + n1)] # dp[i][j][k]：n1[:i] 和 n2[:j] 中去k个值的最大值\n",
    "        nums1 = [0] + nums1\n",
    "        nums2 = [0] + nums2\n",
    "        for i in range(1, n1 + 1):\n",
    "            for j in range(1, n2 + 1):\n",
    "                for x in range(1, min(k, i+j) + 1):\n",
    "                    pass\n",
    "        return dp[-1][-1][-1]"
   ]
  },
  {
   "cell_type": "code",
   "execution_count": 182,
   "metadata": {},
   "outputs": [],
   "source": [
    "class Solution:\n",
    "    def maxNumber(self, nums1, nums2, k: int):\n",
    "        \n",
    "        def get_k_nums(nums, n):\n",
    "            # 从 nums 中取出 n 个 最大的值，并且这个 这个值要按照顺序\n",
    "            n_len = len(nums)\n",
    "            idx = 0\n",
    "            res = []\n",
    "            drop = n_len - n\n",
    "            for i in range(len(nums)):\n",
    "                while drop and res and res[-1] < nums[i]:\n",
    "                    res.pop()\n",
    "                    drop -= 1\n",
    "                res.append(nums[i])\n",
    "            while drop:\n",
    "                res.pop()\n",
    "                drop -= 1\n",
    "            return [str(x) for x in res]\n",
    "\n",
    "        def merge(n1, n2):\n",
    "            res = []\n",
    "            for i in range(k):\n",
    "                if n1 > n2:\n",
    "                    res.append(n1.pop(0))\n",
    "                else:\n",
    "                    res.append(n2.pop(0))\n",
    "            return ''.join(res)\n",
    "        \n",
    "        outs = ''\n",
    "        for i in range(k+1):\n",
    "            n1 = i\n",
    "            n2 = k - i\n",
    "            if n1 > len(nums1) or n2 > len(nums2):\n",
    "                continue\n",
    "            sub_n1, sub_n2 = get_k_nums(nums1, n1), get_k_nums(nums2, n2)\n",
    "            merge_out = merge(sub_n1, sub_n2)\n",
    "            outs = max(outs, merge_out)\n",
    "        res = [int(x) for x in outs]\n",
    "        return res"
   ]
  },
  {
   "cell_type": "code",
   "execution_count": 183,
   "metadata": {},
   "outputs": [
    {
     "data": {
      "text/plain": [
       "[5, 5, 2]"
      ]
     },
     "execution_count": 183,
     "metadata": {},
     "output_type": "execute_result"
    }
   ],
   "source": [
    "solution = Solution()\n",
    "solution.maxNumber([5,1,0], [5,2,1], 3)"
   ]
  },
  {
   "cell_type": "code",
   "execution_count": 8,
   "metadata": {},
   "outputs": [],
   "source": []
  },
  {
   "cell_type": "code",
   "execution_count": 9,
   "metadata": {},
   "outputs": [],
   "source": [
    "idx1 = idx2 = 0"
   ]
  },
  {
   "cell_type": "code",
   "execution_count": 10,
   "metadata": {},
   "outputs": [],
   "source": [
    "idx1 = 2"
   ]
  },
  {
   "cell_type": "code",
   "execution_count": 11,
   "metadata": {},
   "outputs": [
    {
     "data": {
      "text/plain": [
       "0"
      ]
     },
     "execution_count": 11,
     "metadata": {},
     "output_type": "execute_result"
    }
   ],
   "source": [
    "idx2"
   ]
  },
  {
   "cell_type": "code",
   "execution_count": null,
   "metadata": {},
   "outputs": [],
   "source": [
    "            # 将两个序列 merge\n",
    "            def check(i, j):\n",
    "                while i < n1_l and j < n2_l and n1[i] == n2[j]:\n",
    "                    i += 1\n",
    "                    j += 1\n",
    "                if j >= n2_l and i >= n1_l:\n",
    "                    return True\n",
    "                if j >= n2_l or (i < n1_l and n1[i] > n2[j]):\n",
    "                    return True\n",
    "                return False\n",
    "            \n",
    "             def merge(n1, n2): \n",
    "            n1_l, n2_l = len(n1), len(n2)\n",
    "            idx1 = idx2 = 0\n",
    "            res = []\n",
    "            while idx1 < n1_l and idx2 < n2_l:\n",
    "                if n1[idx1:] > n2[idx2:]:\n",
    "                    res.append(n1[idx1])\n",
    "                    idx1 += 1\n",
    "                else:\n",
    "                    res.append(n2[idx2])\n",
    "                    idx2 += 1\n",
    "            while idx1 < n1_l:\n",
    "                res.append(n1[idx1])\n",
    "                idx1 += 1\n",
    "            while idx2 < n2_l:\n",
    "                res.append(n2[idx2])\n",
    "                idx2 += 1\n",
    "            return ''.join(res)"
   ]
  }
 ],
 "metadata": {
  "kernelspec": {
   "display_name": "Python 3",
   "language": "python",
   "name": "python3"
  },
  "language_info": {
   "codemirror_mode": {
    "name": "ipython",
    "version": 3
   },
   "file_extension": ".py",
   "mimetype": "text/x-python",
   "name": "python",
   "nbconvert_exporter": "python",
   "pygments_lexer": "ipython3",
   "version": "3.6.2"
  }
 },
 "nbformat": 4,
 "nbformat_minor": 4
}
