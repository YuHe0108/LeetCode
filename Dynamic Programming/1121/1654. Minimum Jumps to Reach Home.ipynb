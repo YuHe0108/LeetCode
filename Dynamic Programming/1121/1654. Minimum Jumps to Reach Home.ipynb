{
 "cells": [
  {
   "cell_type": "raw",
   "metadata": {},
   "source": [
    "    有一只跳蚤的家在数轴上的位置 x 处。请你帮助它从位置 0 出发，到达它的家。\n",
    "\n",
    "    跳蚤跳跃的规则如下：\n",
    "        1、它可以 往前 跳恰好 a 个位置（即往右跳）。\n",
    "        2、它可以 往后 跳恰好 b 个位置（即往左跳）。\n",
    "        3、它不能 连续 往后跳 2 次。\n",
    "        4、它不能跳到任何 forbidden 数组中的位置。\n",
    "    跳蚤可以往前跳 超过 它的家的位置，但是它 不能跳到负整数 的位置。\n",
    "\n",
    "    给你一个整数数组 forbidden ，其中 forbidden[i] 是跳蚤不能跳到的位置，同时给你整数 a， b 和 x ，请你返回跳蚤到家的最少跳跃次数。\n",
    "    如果没有恰好到达 x 的可行方案，请你返回 -1 。\n",
    " \n",
    "示例 1：\n",
    "    输入：forbidden = [14,4,18,1,15], a = 3, b = 15, x = 9\n",
    "    输出：3\n",
    "    解释：往前跳 3 次（0 -> 3 -> 6 -> 9），跳蚤就到家了。\n",
    "\n",
    "示例 2：\n",
    "    输入：forbidden = [8,3,16,6,12,20], a = 15, b = 13, x = 11\n",
    "    输出：-1\n",
    "\n",
    "示例 3：\n",
    "    输入：forbidden = [1,6,2,14,5,17,4], a = 16, b = 9, x = 7\n",
    "    输出：2\n",
    "    解释：往前跳一次（0 -> 16），然后往回跳一次（16 -> 7），跳蚤就到家了。\n",
    " \n",
    "提示：\n",
    "    1 <= forbidden.length <= 1000\n",
    "    1 <= a, b, forbidden[i] <= 2000\n",
    "    0 <= x <= 2000\n",
    "    forbidden 中所有位置互不相同。\n",
    "    位置 x 不在 forbidden 中。z"
   ]
  },
  {
   "cell_type": "code",
   "execution_count": 125,
   "metadata": {},
   "outputs": [],
   "source": [
    "from collections import deque\n",
    "\n",
    "class Solution:\n",
    "    def minimumJumps(self, forbidden, a: int, b: int, x: int) -> int:\n",
    "        dq = deque([(0, False)])\n",
    "        seen = set()\n",
    "        seen.add((0, False))\n",
    "        ans = 0\n",
    "        forbid = set(forbidden)\n",
    "        while dq:\n",
    "            for _ in range(len(dq)):\n",
    "                cur, state = dq.popleft()\n",
    "                if cur == x:\n",
    "                    return ans\n",
    "                nxt_pos = cur + a\n",
    "                if nxt_pos not in forbid and nxt_pos < 6000 and (nxt_pos, False) not in seen:\n",
    "                    dq.append((nxt_pos, False))\n",
    "                    seen.add((nxt_pos, False))\n",
    "                \n",
    "                if not state:\n",
    "                    nxt_pos = cur - b\n",
    "                    if nxt_pos not in forbid and nxt_pos >= 0 and (nxt_pos, True) not in seen:\n",
    "                        dq.append((nxt_pos, True))\n",
    "                        seen.add((nxt_pos, True))\n",
    "            ans += 1\n",
    "        return -1"
   ]
  },
  {
   "cell_type": "code",
   "execution_count": 126,
   "metadata": {},
   "outputs": [
    {
     "data": {
      "text/plain": [
       "3998"
      ]
     },
     "execution_count": 126,
     "metadata": {},
     "output_type": "execute_result"
    }
   ],
   "source": [
    "solution = Solution()\n",
    "solution.minimumJumps([1998],1999,2000,2000)"
   ]
  },
  {
   "cell_type": "code",
   "execution_count": null,
   "metadata": {},
   "outputs": [],
   "source": []
  },
  {
   "cell_type": "code",
   "execution_count": null,
   "metadata": {},
   "outputs": [],
   "source": []
  },
  {
   "cell_type": "code",
   "execution_count": null,
   "metadata": {},
   "outputs": [],
   "source": []
  },
  {
   "cell_type": "code",
   "execution_count": null,
   "metadata": {},
   "outputs": [],
   "source": []
  },
  {
   "cell_type": "code",
   "execution_count": 81,
   "metadata": {},
   "outputs": [],
   "source": [
    "from collections import deque\n",
    "\n",
    "class Solution:\n",
    "    def minimumJumps(self, forbidden, a: int, b: int, x: int) -> int:\n",
    "        dq = deque([(0, 0, False)]) # 从0开始，并且上一次不是往后跳\n",
    "        seen = {(0, 0, False)}\n",
    "        forbid = set(forbidden)\n",
    "        while dq:\n",
    "            idx, step, state = dq.popleft()\n",
    "            if idx == x:\n",
    "                return step\n",
    "            step += 1\n",
    "            # 往前跳\n",
    "            if (idx+a, step, False) not in seen and (idx+a) not in forbid and (idx+a-b) <= x:\n",
    "                if idx + a == x: # 跳一步到家\n",
    "                    return step\n",
    "                seen.add((idx + a, step, False))\n",
    "                dq.append((idx + a, step, False))\n",
    "            \n",
    "            # 往后跳\n",
    "            if (idx-b) <= x and state is False and idx-b >= 0 and (idx-b, step, True) not in seen and (idx-b) not in forbid:\n",
    "                if idx - b == x: # 往后跳一步到家\n",
    "                    return step\n",
    "                seen.add((idx - b, step, True))\n",
    "                dq.append((idx - b, step, True))\n",
    "            print(step, dq)\n",
    "        return -1"
   ]
  },
  {
   "cell_type": "code",
   "execution_count": 97,
   "metadata": {},
   "outputs": [],
   "source": [
    "from collections import deque\n",
    "\n",
    "class Solution:\n",
    "    def minimumJumps(self, forbidden, a: int, b: int, x: int) -> int:\n",
    "        dq = deque([(0, False)]) # 从0开始，并且上一次不是往后跳\n",
    "        seen = {(0, False)}\n",
    "        forbid = set(forbidden)\n",
    "        res = 0\n",
    "        while dq:\n",
    "            for _ in range(len(dq)):\n",
    "                idx, state = dq.popleft()\n",
    "                if idx == x:\n",
    "                    return res\n",
    "                # 往前跳\n",
    "                if (idx+a, False) not in seen and (idx+a) not in forbid and idx+a <= 4000 + :\n",
    "                    seen.add((idx + a, False))\n",
    "                    dq.append((idx + a, False))\n",
    "            \n",
    "                # 往后跳\n",
    "                if (idx-b) <= 4000 and state is False and idx-b >= 0 and (idx-b, True) not in seen and (idx-b) not in forbid:\n",
    "                    seen.add((idx - b, True))\n",
    "                    dq.append((idx - b,True))\n",
    "            res += 1\n",
    "        return -1"
   ]
  },
  {
   "cell_type": "code",
   "execution_count": 98,
   "metadata": {},
   "outputs": [
    {
     "data": {
      "text/plain": [
       "121"
      ]
     },
     "execution_count": 98,
     "metadata": {},
     "output_type": "execute_result"
    }
   ],
   "source": [
    "solution = Solution()\n",
    "solution.minimumJumps([162,118,178,152,167,100,40,74,199,186,26,73,200,127,\n",
    "                       30,124,193,84,184,36,103,149,153,9,54,154,133,95,45,198,79,\n",
    "                       157,64,122,59,71,48,177,82,35,14,176,16,108,111,6,168,31,134,164,136,72,98],29,98,80)"
   ]
  },
  {
   "cell_type": "code",
   "execution_count": 53,
   "metadata": {},
   "outputs": [],
   "source": [
    "from collections import deque\n",
    "\n",
    "class Solution:\n",
    "    def minimumJumps(self, forbidden, a: int, b: int, x: int) -> int:\n",
    "        dq = deque([(0, False)]) # 从0开始，并且上一次不是往后跳\n",
    "        res = 0\n",
    "        seen = {(0, False)}\n",
    "        forbid = set(forbidden)\n",
    "        while dq:\n",
    "            idx, state = dq.popleft()\n",
    "            if idx == x:\n",
    "                return res\n",
    "            \n",
    "            res += 1 # 往前跳了一次\n",
    "            if (idx + a, False) not in seen and (idx+a) not in forbid and (idx+a-b) <= x:\n",
    "                if idx + a == x:\n",
    "                    return res\n",
    "                seen.add((idx + a, False))\n",
    "                dq.append((idx + a, False))\n",
    "            \n",
    "            if (idx - b) <= x and state is False and idx - b >= 0 and (idx-b, True) not in seen and (idx-b) not in forbid:\n",
    "                if idx - b == x:\n",
    "                    return res\n",
    "                seen.add((idx - b, True))\n",
    "                dq.append((idx - b, True))\n",
    "        return -1"
   ]
  },
  {
   "cell_type": "code",
   "execution_count": 54,
   "metadata": {},
   "outputs": [
    {
     "data": {
      "text/plain": [
       "7"
      ]
     },
     "execution_count": 54,
     "metadata": {},
     "output_type": "execute_result"
    }
   ],
   "source": [
    "solution = Solution()\n",
    "solution.minimumJumps([128,178,147,165,63,11,150,20,158,144,136], 61, 170, 135)"
   ]
  },
  {
   "cell_type": "code",
   "execution_count": null,
   "metadata": {},
   "outputs": [],
   "source": []
  }
 ],
 "metadata": {
  "kernelspec": {
   "display_name": "Python 3",
   "language": "python",
   "name": "python3"
  },
  "language_info": {
   "codemirror_mode": {
    "name": "ipython",
    "version": 3
   },
   "file_extension": ".py",
   "mimetype": "text/x-python",
   "name": "python",
   "nbconvert_exporter": "python",
   "pygments_lexer": "ipython3",
   "version": "3.6.2"
  }
 },
 "nbformat": 4,
 "nbformat_minor": 4
}
