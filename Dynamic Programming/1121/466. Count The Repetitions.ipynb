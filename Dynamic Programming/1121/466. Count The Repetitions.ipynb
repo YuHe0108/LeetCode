{
 "cells": [
  {
   "cell_type": "raw",
   "metadata": {},
   "source": [
    "    由 n 个连接的字符串 s 组成字符串 S，记作 S = [s,n]。例如，[\"abc\",3] = \"abcabcabc\"。\n",
    "\n",
    "    如果我们可以从 s2 中删除某些字符使其变为 s1，则称字符串 s1 可以从字符串 s2 获得。\n",
    "    例如，根据定义，\"abc\" 可以从 “abdbec” 获得，但不能从 “acbbe” 获得。\n",
    "\n",
    "    现在给你两个非空字符串 s1 和 s2（每个最多 100 个字符长）和两个整数 0 ≤ n1 ≤ 10^6 和 1 ≤ n2 ≤ 10^6。\n",
    "    现在考虑字符串 S1 和 S2，其中 S1 = [s1,n1] 、S2 = [s2,n2] 。\n",
    "    请你找出一个可以满足使[S2, M] 从 S1 获得的最大整数 M 。\n",
    "\n",
    "示例：\n",
    "    输入：\n",
    "        s1 =\"acb\",n1 = 4\n",
    "        s2 =\"ab\",n2 = 2\n",
    "    返回：2"
   ]
  },
  {
   "cell_type": "markdown",
   "metadata": {},
   "source": [
    "<img src='466.jpg'>"
   ]
  },
  {
   "cell_type": "code",
   "execution_count": 36,
   "metadata": {},
   "outputs": [],
   "source": [
    "class Solution:\n",
    "    def getMaxRepetitions(self, s1: str, n1: int, s2: str, n2: int) -> int:\n",
    "        cnt = {}\n",
    "        s1_idx, s2_idx = 0, 0\n",
    "        s1_cnt, s2_cnt = 0, 0\n",
    "        s1_len, s2_len = len(s1), len(s2)\n",
    "        for i in range(1, n1+1):\n",
    "            cur_s1 = s1 * i\n",
    "            while s1_idx < s1_len * i:\n",
    "                if cur_s1[s1_idx] == s2[s2_idx]:\n",
    "                    s2_idx += 1\n",
    "                if s2_idx == s2_len:\n",
    "                    s2_cnt += 1\n",
    "                    s2_idx = 0\n",
    "                s1_idx += 1\n",
    "            if s2_idx-1 not in cnt:\n",
    "                cnt[s2_idx-1] = [i, s2_cnt]\n",
    "            else:\n",
    "                s1_loop, s2_loop = i - cnt[s2_idx-1][0], s2_cnt - cnt[s2_idx-1][1]\n",
    "                break\n",
    "            if i == n1:\n",
    "                return s2_cnt // n2\n",
    "        \n",
    "        ans = s2_loop + (n1 - n1_loop) //"
   ]
  },
  {
   "cell_type": "code",
   "execution_count": 37,
   "metadata": {},
   "outputs": [
    {
     "name": "stdout",
     "output_type": "stream",
     "text": [
      "\n",
      "2 1\n"
     ]
    }
   ],
   "source": [
    "solution = Solution()\n",
    "solution.getMaxRepetitions('abaacdbac', 100, 'adcbd', 4)"
   ]
  },
  {
   "cell_type": "code",
   "execution_count": null,
   "metadata": {},
   "outputs": [],
   "source": []
  },
  {
   "cell_type": "code",
   "execution_count": null,
   "metadata": {},
   "outputs": [],
   "source": []
  }
 ],
 "metadata": {
  "kernelspec": {
   "display_name": "Python 3",
   "language": "python",
   "name": "python3"
  },
  "language_info": {
   "codemirror_mode": {
    "name": "ipython",
    "version": 3
   },
   "file_extension": ".py",
   "mimetype": "text/x-python",
   "name": "python",
   "nbconvert_exporter": "python",
   "pygments_lexer": "ipython3",
   "version": "3.6.2"
  }
 },
 "nbformat": 4,
 "nbformat_minor": 4
}
