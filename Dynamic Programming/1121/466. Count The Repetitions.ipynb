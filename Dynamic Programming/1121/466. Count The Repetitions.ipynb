{
 "cells": [
  {
   "cell_type": "raw",
   "metadata": {},
   "source": [
    "    由 n 个连接的字符串 s 组成字符串 S，记作 S = [s,n]。例如，[\"abc\",3] = \"abcabcabc\"。\n",
    "\n",
    "    如果我们可以从 s2 中删除某些字符使其变为 s1，则称字符串 s1 可以从字符串 s2 获得。\n",
    "    例如，根据定义，\"abc\" 可以从 “abdbec” 获得，但不能从 “acbbe” 获得。\n",
    "\n",
    "    现在给你两个非空字符串 s1 和 s2（每个最多 100 个字符长）和两个整数 0 ≤ n1 ≤ 10^6 和 1 ≤ n2 ≤ 10^6。\n",
    "    现在考虑字符串 S1 和 S2，其中 S1 = [s1,n1] 、S2 = [s2,n2] 。\n",
    "    请你找出一个可以满足使[S2, M] 从 S1 获得的最大整数 M 。\n",
    "\n",
    "示例：\n",
    "    输入：\n",
    "        s1 =\"acb\",n1 = 4\n",
    "        s2 =\"ab\",n2 = 2\n",
    "    返回：2"
   ]
  },
  {
   "cell_type": "markdown",
   "metadata": {},
   "source": [
    "<img src='466.jpg'>"
   ]
  },
  {
   "cell_type": "code",
   "execution_count": 5,
   "metadata": {},
   "outputs": [],
   "source": [
    "class Solution:\n",
    "    def getMaxRepetitions(self, s1: str, n1: int, s2: str, n2: int) -> int:\n",
    "        cnt = {}\n",
    "        s1_idx, s2_idx = 0, 0\n",
    "        s1_cnt, s2_cnt = 0, 0\n",
    "        s1_len, s2_len = len(s1), len(s2)\n",
    "        for i in range(1, n1+1):\n",
    "            cur_s1 = s1 * i\n",
    "            while s1_idx < s1_len * i:\n",
    "                if cur_s1[s1_idx] == s2[s2_idx]:\n",
    "                    s2_idx += 1\n",
    "                if s2_idx == s2_len:\n",
    "                    s2_cnt += 1\n",
    "                    s2_idx = 0\n",
    "                s1_idx += 1\n",
    "            if s2_idx-1 not in cnt:\n",
    "                cnt[s2_idx-1] = [i, s2_cnt]\n",
    "            else:\n",
    "                s1_loop, s2_loop = i - cnt[s2_idx-1][0], s2_cnt - cnt[s2_idx-1][1]\n",
    "                break\n",
    "            if i == n1:\n",
    "                return s2_cnt // n2\n",
    "        \n",
    "#         ans = s2_loop + (n1 - n1_loop) //"
   ]
  },
  {
   "cell_type": "code",
   "execution_count": 27,
   "metadata": {},
   "outputs": [],
   "source": [
    "# dp[i]表示s1和s2[i]作为开头匹配时，下一个循环的s1会和s2的哪个索引作为开头匹配，同时也存储了能匹配到几个s2的末尾。\n",
    "\n",
    "class Solution:\n",
    "    def getMaxRepetitions(self, s1: str, n1: int, s2: str, n2: int) -> int:\n",
    "        dp = []\n",
    "        for i in range(len(s2)):\n",
    "            start = i\n",
    "            end = 0\n",
    "            for j in range(len(s1)):\n",
    "                if s1[j] == s2[start]:\n",
    "                    start += 1\n",
    "                    if start == len(s2):\n",
    "                        start = 0\n",
    "                        end += 1\n",
    "            dp.append((start, end))\n",
    "        res = nxt = 0\n",
    "        nexts = []\n",
    "        for _ in range(n1):\n",
    "            res += dp[nxt][1]\n",
    "            nxt = dp[nxt][0]\n",
    "        return res // n2"
   ]
  },
  {
   "cell_type": "code",
   "execution_count": 28,
   "metadata": {},
   "outputs": [
    {
     "data": {
      "text/plain": [
       "1"
      ]
     },
     "execution_count": 28,
     "metadata": {},
     "output_type": "execute_result"
    }
   ],
   "source": [
    "solution = Solution()\n",
    "solution.getMaxRepetitions(s1 =\"abaacdabc\",n1 = 4,s2 =\"adcbd\",n2 = 2)"
   ]
  },
  {
   "cell_type": "code",
   "execution_count": null,
   "metadata": {},
   "outputs": [],
   "source": [
    "class Solution:\n",
    "    def getMaxRepetitions(self, s1: str, n1: int, s2: str, n2: int) -> int:\n",
    "        m = {}\n",
    "        scn1 = 0  # s1个数\n",
    "        scn2 = 0  # s2个数\n",
    "        l2 = len(s2)\n",
    "        s2index = 0\n",
    "        while True:\n",
    "            scn1 += 1  # 先拿出一个s1进行配对，假如第一个配到了需要的index，这个s1是不算进循环里的，后面的直到下一个index算一个循环节\n",
    "            for ch in s1:\n",
    "                if ch == s2[s2index]:\n",
    "                    s2index += 1\n",
    "                    if s2index == l2:\n",
    "                        s2index = 0\n",
    "                        scn2 += 1\n",
    "            if scn1 >= n1:  # 没找到循环节，但是S1的字符串已经用完了，此时s2index未到s2尾部的话不能作数，即无法从S1里获得\n",
    "                return scn2 // n2\n",
    "            if s2index in m:  # 如果s2index存在记忆字典里，说明找到循环节\n",
    "                scn1_prime, scn2_prime = m[s2index]\n",
    "                scn1_loop, scn2_loop = scn1 - scn1_prime, scn2 - scn2_prime\n",
    "                break\n",
    "            else:\n",
    "                m[s2index] = (scn1, scn2)\n",
    "        ans = scn2_prime\n",
    "        ans += (n1 - scn1_prime) // scn1_loop * scn2_loop\n",
    "        rest = (n1 - scn1_prime) % scn1_loop #剩余的部分可以这样思考，首先把循环节部分配到头部,如我所写的例子中--这个b--，然后prime部分分为两部，前prime已经被scn1计算了，后prime部分相当于--这个b--也就是刚刚挪到前面代替的部分，然后根据循环匹配计算即可\n",
    "        for i in range(rest):\n",
    "            for ch in s1:\n",
    "                if ch == s2[s2index]:\n",
    "                    s2index += 1\n",
    "                    if s2index == l2:\n",
    "                        ans += 1\n",
    "                        s2index = 1\n",
    "        return ans//n2"
   ]
  },
  {
   "cell_type": "code",
   "execution_count": null,
   "metadata": {},
   "outputs": [],
   "source": []
  }
 ],
 "metadata": {
  "kernelspec": {
   "display_name": "Python 3",
   "language": "python",
   "name": "python3"
  },
  "language_info": {
   "codemirror_mode": {
    "name": "ipython",
    "version": 3
   },
   "file_extension": ".py",
   "mimetype": "text/x-python",
   "name": "python",
   "nbconvert_exporter": "python",
   "pygments_lexer": "ipython3",
   "version": "3.6.2"
  }
 },
 "nbformat": 4,
 "nbformat_minor": 4
}
