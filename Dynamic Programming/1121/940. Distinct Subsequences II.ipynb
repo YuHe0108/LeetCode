{
 "cells": [
  {
   "cell_type": "raw",
   "metadata": {},
   "source": [
    "    给定一个字符串 S，计算 S 的不同非空子序列的个数。\n",
    "\n",
    "    因为结果可能很大，所以返回答案模 10^9 + 7.\n",
    "\n",
    "示例 1：\n",
    "    输入：\"abc\"\n",
    "    输出：7\n",
    "    解释：7 个不同的子序列分别是 \"a\", \"b\", \"c\", \"ab\", \"ac\", \"bc\", 以及 \"abc\"。\n",
    "\n",
    "示例 2：\n",
    "    输入：\"aba\"\n",
    "    输出：6\n",
    "    解释：6 个不同的子序列分别是 \"a\", \"b\", \"ab\", \"ba\", \"aa\" 以及 \"aba\"。\n",
    "\n",
    "示例 3：\n",
    "    输入：\"aaa\"\n",
    "    输出：3\n",
    "    解释：3 个不同的子序列分别是 \"a\", \"aa\" 以及 \"aaa\"。\n",
    "\n",
    "提示：\n",
    "    S 只包含小写字母。\n",
    "    1 <= S.length <= 2000"
   ]
  },
  {
   "cell_type": "code",
   "execution_count": 45,
   "metadata": {},
   "outputs": [],
   "source": [
    "class Solution:\n",
    "    def distinctSubseqII(self, S: str) -> int:\n",
    "        n = len(S)\n",
    "        S = '#' + S\n",
    "        dp = [1] * (1+n)\n",
    "        dp[0] = 1\n",
    "        cnt = {}\n",
    "        for i in range(1, n+1):\n",
    "            c = S[i]\n",
    "            if c in cnt:\n",
    "                dp[i] = dp[i-1] * 2 - dp[cnt[c]-1]\n",
    "            else:\n",
    "                dp[i] = dp[i-1] * 2\n",
    "            cnt[S[i]] = i\n",
    "        print(dp)\n",
    "        return dp[-1] - 1 # 最后减去的 1 是因为在计算的时候多了 空字符 这个可能性"
   ]
  },
  {
   "cell_type": "code",
   "execution_count": 46,
   "metadata": {},
   "outputs": [
    {
     "name": "stdout",
     "output_type": "stream",
     "text": [
      "[1, 2, 4, 7]\n"
     ]
    },
    {
     "data": {
      "text/plain": [
       "6"
      ]
     },
     "execution_count": 46,
     "metadata": {},
     "output_type": "execute_result"
    }
   ],
   "source": [
    "solution = Solution()\n",
    "solution.distinctSubseqII('aba')"
   ]
  },
  {
   "cell_type": "code",
   "execution_count": null,
   "metadata": {},
   "outputs": [],
   "source": []
  }
 ],
 "metadata": {
  "kernelspec": {
   "display_name": "Python 3",
   "language": "python",
   "name": "python3"
  },
  "language_info": {
   "codemirror_mode": {
    "name": "ipython",
    "version": 3
   },
   "file_extension": ".py",
   "mimetype": "text/x-python",
   "name": "python",
   "nbconvert_exporter": "python",
   "pygments_lexer": "ipython3",
   "version": "3.6.2"
  }
 },
 "nbformat": 4,
 "nbformat_minor": 4
}
