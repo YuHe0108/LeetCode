{
 "cells": [
  {
   "cell_type": "raw",
   "metadata": {},
   "source": [
    "说明：\n",
    "    有 N 堆石头排成一排，第 i 堆中有 stones[i] 块石头。\n",
    "\n",
    "    每次移动（move）需要将连续的 K 堆石头合并为一堆，而这个移动的成本为这 K 堆石头的总数。\n",
    "\n",
    "    找出把所有石头合并成一堆的最低成本。如果不可能，返回 -1 。\n",
    " \n",
    "示例 1：\n",
    "    输入：stones = [3,2,4,1], K = 2\n",
    "    输出：20\n",
    "    解释：\n",
    "        从 [3, 2, 4, 1] 开始。\n",
    "        合并 [3, 2]，成本为 5，剩下 [5, 4, 1]。\n",
    "        合并 [4, 1]，成本为 5，剩下 [5, 5]。\n",
    "        合并 [5, 5]，成本为 10，剩下 [10]。\n",
    "        总成本 20，这是可能的最小值。\n",
    "\n",
    "示例 2：\n",
    "    输入：stones = [3,2,4,1], K = 3\n",
    "    输出：-1\n",
    "    解释：任何合并操作后，都会剩下 2 堆，我们无法再进行合并。所以这项任务是不可能完成的。.\n",
    "\n",
    "示例 3：\n",
    "    输入：stones = [3,5,1,2,6], K = 3\n",
    "    输出：25\n",
    "    解释：\n",
    "            从 [3, 5, 1, 2, 6] 开始。\n",
    "            合并 [5, 1, 2]，成本为 8，剩下 [3, 8, 6]。\n",
    "            合并 [3, 8, 6]，成本为 17，剩下 [17]。\n",
    "            总成本 25，这是可能的最小值。\n",
    "\n",
    "提示：\n",
    "    1 <= stones.length <= 30\n",
    "    2 <= K <= 30\n",
    "    1 <= stones[i] <= 100"
   ]
  },
  {
   "cell_type": "code",
   "execution_count": 1,
   "metadata": {},
   "outputs": [],
   "source": [
    "class Solution:\n",
    "    def mergeStones(self, stones, K: int) -> int:\n",
    "        \n",
    "        \n",
    "        return -1"
   ]
  },
  {
   "cell_type": "code",
   "execution_count": 2,
   "metadata": {},
   "outputs": [],
   "source": [
    "solution = Solution()\n",
    "solution.mergeStones(stones = [3,2,4,1], K = 2)"
   ]
  },
  {
   "cell_type": "code",
   "execution_count": null,
   "metadata": {},
   "outputs": [],
   "source": []
  }
 ],
 "metadata": {
  "kernelspec": {
   "display_name": "Python 3",
   "language": "python",
   "name": "python3"
  },
  "language_info": {
   "codemirror_mode": {
    "name": "ipython",
    "version": 3
   },
   "file_extension": ".py",
   "mimetype": "text/x-python",
   "name": "python",
   "nbconvert_exporter": "python",
   "pygments_lexer": "ipython3",
   "version": "3.6.2"
  }
 },
 "nbformat": 4,
 "nbformat_minor": 4
}
