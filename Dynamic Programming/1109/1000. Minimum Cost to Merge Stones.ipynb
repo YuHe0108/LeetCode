{
 "cells": [
  {
   "cell_type": "raw",
   "metadata": {},
   "source": [
    "说明：\n",
    "    有 N 堆石头排成一排，第 i 堆中有 stones[i] 块石头。\n",
    "\n",
    "    每次移动（move）需要将连续的 K 堆石头合并为一堆，而这个移动的成本为这 K 堆石头的总数。\n",
    "\n",
    "    找出把所有石头合并成一堆的最低成本。如果不可能，返回 -1 。\n",
    " \n",
    "示例 1：\n",
    "    输入：stones = [3,2,4,1], K = 2\n",
    "    输出：20\n",
    "    解释：\n",
    "        从 [3, 2, 4, 1] 开始。\n",
    "        合并 [3, 2]，成本为 5，剩下 [5, 4, 1]。\n",
    "        合并 [4, 1]，成本为 5，剩下 [5, 5]。\n",
    "        合并 [5, 5]，成本为 10，剩下 [10]。\n",
    "        总成本 20，这是可能的最小值。\n",
    "\n",
    "示例 2：\n",
    "    输入：stones = [3,2,4,1], K = 3\n",
    "    输出：-1\n",
    "    解释：任何合并操作后，都会剩下 2 堆，我们无法再进行合并。所以这项任务是不可能完成的。.\n",
    "\n",
    "示例 3：\n",
    "    输入：stones = [3,5,1,2,6], K = 3\n",
    "    输出：25\n",
    "    解释：\n",
    "            从 [3, 5, 1, 2, 6] 开始。\n",
    "            合并 [5, 1, 2]，成本为 8，剩下 [3, 8, 6]。\n",
    "            合并 [3, 8, 6]，成本为 17，剩下 [17]。\n",
    "            总成本 25，这是可能的最小值。\n",
    "\n",
    "提示：\n",
    "    1 <= stones.length <= 30\n",
    "    2 <= K <= 30\n",
    "    1 <= stones[i] <= 100"
   ]
  },
  {
   "cell_type": "code",
   "execution_count": 11,
   "metadata": {},
   "outputs": [],
   "source": [
    "class Solution:\n",
    "    def mergeStones(self, stones, K: int) -> int:\n",
    "        n = len(stones)\n",
    "        if (n-1) % (K - 1): # 最后一次如果能够合并，则至少剩余k个，其余每次合并都会减少K-1的堆\n",
    "            return -1\n",
    "        presum = [0]\n",
    "        for s in stones:\n",
    "            presum.append(presum[-1] + s)\n",
    "        \n",
    "        dp = [[0] * n for _ in range(n)]\n",
    "        for m in range(K, n + 1):\n",
    "            for i in range(n - m + 1):\n",
    "                j = i + m - 1\n",
    "                dp[i][j] = float('inf')\n",
    "                mid = i\n",
    "                while mid < j:\n",
    "                    dp[i][j] = min(dp[i][j], dp[i][mid] + dp[mid+1][j])\n",
    "                    mid += K - 1\n",
    "                if (j-i) % (K-1) == 0:\n",
    "                    dp[i][j] += presum[j+1] - presum[i]\n",
    "        return dp[0][-1]"
   ]
  },
  {
   "cell_type": "code",
   "execution_count": 25,
   "metadata": {},
   "outputs": [],
   "source": [
    "# 将ｎ个元素分为　ｋ　个区间，然后每个区间在逐个合并\n",
    "class Solution:\n",
    "    def mergeStones(self, stones, K: int) -> int:\n",
    "        n = len(stones)\n",
    "        # 假设 K-1堆石头都已经合并好了，并且只剩下最后一个合并的机会，那么剩余的 n-K 一定要在 K-1次内合并好\n",
    "        if (n - K) % (K - 1) != 0: \n",
    "            return -1\n",
    "        presum = [0]\n",
    "        for s in stones:\n",
    "            presum.append(presum[-1] + s)\n",
    "        \n",
    "        # dp[i][j][k] 表示从 stones[i:j] 中，合并为 k 堆需要的最小 cost\n",
    "        dp = [[[float('inf')] * (K + 1) for _ in range(n)] for _ in range(n)]\n",
    "        for i in range(n):\n",
    "            dp[i][i][1] = 0 # 合并为 start=end, 并且合并为1堆的cost 为 0\n",
    "        \n",
    "        for step_len in range(2, n + 1):\n",
    "            for i in range(n - step_len + 1):\n",
    "                j = i + step_len - 1\n",
    "                for k in range(2, K+1):\n",
    "                    m = i\n",
    "                    while m < j:\n",
    "                        dp[i][j][k] = min(dp[i][j][k], dp[i][m][1] + dp[m+1][j][k-1])\n",
    "                        m += K - 1\n",
    "                dp[i][j][1] = dp[i][j][K] + presum[j+1] - presum[i]\n",
    "        return dp[0][-1][1] # 从 0 到 n 合并成一堆石头所需要的最小花费"
   ]
  },
  {
   "cell_type": "code",
   "execution_count": 26,
   "metadata": {},
   "outputs": [
    {
     "data": {
      "text/plain": [
       "25"
      ]
     },
     "execution_count": 26,
     "metadata": {},
     "output_type": "execute_result"
    }
   ],
   "source": [
    "solution = Solution()\n",
    "solution.mergeStones(stones = [3,5,1,2,6], K = 3)"
   ]
  },
  {
   "cell_type": "raw",
   "metadata": {},
   "source": [
    "状态转移方程：\n",
    "    1、当 k >= 2时候\n",
    "        dp[i][j][k] = min(dp[i][m][1] + dp[m+1][j][k-1]) # m 是从 i~j 之间的数\n",
    "    2、当 k == 1:\n",
    "        dp[i][j][1] = dp[i][j][k] + sum(stone[i] .... stones[j])"
   ]
  },
  {
   "cell_type": "code",
   "execution_count": null,
   "metadata": {},
   "outputs": [],
   "source": []
  },
  {
   "cell_type": "code",
   "execution_count": null,
   "metadata": {},
   "outputs": [],
   "source": []
  },
  {
   "cell_type": "code",
   "execution_count": null,
   "metadata": {},
   "outputs": [],
   "source": []
  },
  {
   "cell_type": "code",
   "execution_count": 14,
   "metadata": {},
   "outputs": [],
   "source": [
    " class Solution:\n",
    "    def mergeStones(self, stones, K):\n",
    "        n = len(stones)\n",
    "        if (n - 1) % (K - 1) != 0:\n",
    "            return -1\n",
    "        f = [[0 for _ in range(n)] for _ in range(n)]\n",
    "        prefix = [0 for _ in range(n + 1)]\n",
    "        for i in range(n):\n",
    "            prefix[i + 1] = prefix[i] + stones[i]\n",
    "        for l in range(K - 1, n):\n",
    "            for i in range(n - l):\n",
    "                j = i + l\n",
    "                f[i][j] = float('inf')\n",
    "                for m in range(i, j, K - 1):\n",
    "                    f[i][j] = min(f[i][j], f[i][m] + f[m + 1][j])\n",
    "                if (j - i) % (K - 1) == 0:\n",
    "                     f[i][j] += prefix[j + 1] - prefix[i]\n",
    "        return f[0][n - 1]"
   ]
  },
  {
   "cell_type": "code",
   "execution_count": null,
   "metadata": {},
   "outputs": [],
   "source": []
  },
  {
   "cell_type": "raw",
   "metadata": {},
   "source": []
  }
 ],
 "metadata": {
  "kernelspec": {
   "display_name": "Python 3",
   "language": "python",
   "name": "python3"
  },
  "language_info": {
   "codemirror_mode": {
    "name": "ipython",
    "version": 3
   },
   "file_extension": ".py",
   "mimetype": "text/x-python",
   "name": "python",
   "nbconvert_exporter": "python",
   "pygments_lexer": "ipython3",
   "version": "3.6.2"
  }
 },
 "nbformat": 4,
 "nbformat_minor": 4
}
