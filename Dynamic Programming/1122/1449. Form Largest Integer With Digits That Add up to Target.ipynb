{
 "cells": [
  {
   "cell_type": "raw",
   "metadata": {},
   "source": [
    "    给你一个整数数组 cost 和一个整数 target 。请你返回满足如下规则可以得到的 最大 整数：\n",
    "        1、给当前结果添加一个数位（i + 1）的成本为 cost[i] （cost 数组下标从 0 开始）。\n",
    "        2、总成本必须恰好等于 target 。\n",
    "        3、添加的数位中没有数字 0 。\n",
    "    由于答案可能会很大，请你以字符串形式返回。\n",
    "    如果按照上述要求无法得到任何整数，请你返回 \"0\" 。\n",
    "\n",
    "示例 1：\n",
    "    输入：cost = [4,3,2,5,6,7,2,5,5], target = 9\n",
    "    输出：\"7772\"\n",
    "    解释：\n",
    "        添加数位 '7' 的成本为 2 ，添加数位 '2' 的成本为 3 。\n",
    "        所以 \"7772\" 的代价为 2*3+ 3*1 = 9 。 \"977\" 也是满足要求的数字，但 \"7772\" 是较大的数字。\n",
    "             数字     成本\n",
    "              1  ->   4\n",
    "              2  ->   3\n",
    "              3  ->   2\n",
    "              4  ->   5\n",
    "              5  ->   6\n",
    "              6  ->   7\n",
    "              7  ->   2\n",
    "              8  ->   5\n",
    "              9  ->   5\n",
    "\n",
    "示例 2：\n",
    "    输入：cost = [7,6,5,5,5,6,8,7,8], target = 12\n",
    "    输出：\"85\"\n",
    "    解释：添加数位 '8' 的成本是 7 ，添加数位 '5' 的成本是 5 。\"85\" 的成本为 7 + 5 = 12 。\n",
    "\n",
    "示例 3：\n",
    "    输入：cost = [2,4,6,2,4,6,4,4,4], target = 5\n",
    "    输出：\"0\"\n",
    "    解释：总成本是 target 的条件下，无法生成任何整数。\n",
    "\n",
    "示例 4：\n",
    "    输入：cost = [6,10,15,40,40,40,40,40,40], target = 47\n",
    "    输出：\"32211\"\n",
    "\n",
    "提示：\n",
    "    cost.length == 9\n",
    "    1 <= cost[i] <= 5000\n",
    "    1 <= target <= 5000"
   ]
  },
  {
   "cell_type": "markdown",
   "metadata": {},
   "source": [
    "## <font color='red'>无限背包和 “01”背包问题\n",
    "<img src='1449.jpg'>"
   ]
  },
  {
   "cell_type": "code",
   "execution_count": 140,
   "metadata": {},
   "outputs": [],
   "source": [
    "class Solution:\n",
    "    def largestNumber(self, cost, target: int) -> str:\n",
    "        dp = [0] * (1 + target)\n",
    "        for t in range(1, target+1):\n",
    "            for i, c in enumerate(cost):\n",
    "                if c == t:\n",
    "                    dp[t] = max(dp[t], i+1)\n",
    "                if t - c >= 0 and dp[t-c] != 0:\n",
    "                    dp[t] = max(dp[t], dp[t-c] * 10 + (i+1))\n",
    "        return str(dp[-1]) if dp[-1] != 0 else '0'"
   ]
  },
  {
   "cell_type": "code",
   "execution_count": 141,
   "metadata": {},
   "outputs": [
    {
     "data": {
      "text/plain": [
       "'85'"
      ]
     },
     "execution_count": 141,
     "metadata": {},
     "output_type": "execute_result"
    }
   ],
   "source": [
    "solution = Solution()\n",
    "solution.largestNumber(cost = [7,6,5,5,5,6,8,7,8], target = 12)"
   ]
  },
  {
   "cell_type": "code",
   "execution_count": null,
   "metadata": {},
   "outputs": [],
   "source": []
  },
  {
   "cell_type": "code",
   "execution_count": null,
   "metadata": {},
   "outputs": [],
   "source": []
  },
  {
   "cell_type": "code",
   "execution_count": null,
   "metadata": {},
   "outputs": [],
   "source": []
  },
  {
   "cell_type": "code",
   "execution_count": null,
   "metadata": {},
   "outputs": [],
   "source": [
    "class Solution:\n",
    "    def largestNumber(self, cost, target: int) -> str:\n",
    "        dp = ['0'] * (1 + target)\n",
    "        for t in range(1, target+1):\n",
    "            for i, c in enumerate(cost):\n",
    "                if c == t:\n",
    "                    dp[t] = max(dp[t], str(i+1))\n",
    "                if t - c >= 0 and dp[t-c] != '0':\n",
    "                    print(dp[t-c] + str(i+1), dp[t], max(dp[t], dp[t-c] + str(i+1)))\n",
    "                    dp[t] = str(max(dp[t], dp[t-c] + str(i+1)))\n",
    "        print(dp)\n",
    "\n",
    "        \n",
    "class Solution:\n",
    "    def largestNumber(self, cost, target: int) -> str:\n",
    "        dp = ['0'] * (1 + target)\n",
    "        for t in range(1, target+1):\n",
    "            for i, c in enumerate(cost):\n",
    "                if c == t and (len(str(i+1)) > len(dp[t]) or str(i+1) > dp[t]):\n",
    "                    dp[t] = str(i+1)\n",
    "                if t - c >= 0 and dp[t-c] != '0':\n",
    "                    val = dp[t-c] + str(i+1)\n",
    "                    if len(val) > len(dp[t]):\n",
    "                        dp[t] = val\n",
    "                    elif len(val) == len(dp[t]) and val > dp[t]:\n",
    "                        dp[t] = val\n",
    "        return dp[-1]"
   ]
  }
 ],
 "metadata": {
  "kernelspec": {
   "display_name": "Python 3",
   "language": "python",
   "name": "python3"
  },
  "language_info": {
   "codemirror_mode": {
    "name": "ipython",
    "version": 3
   },
   "file_extension": ".py",
   "mimetype": "text/x-python",
   "name": "python",
   "nbconvert_exporter": "python",
   "pygments_lexer": "ipython3",
   "version": "3.6.2"
  }
 },
 "nbformat": 4,
 "nbformat_minor": 4
}
