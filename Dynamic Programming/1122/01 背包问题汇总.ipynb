{
 "cells": [
  {
   "cell_type": "markdown",
   "metadata": {},
   "source": [
    "### 474：Ones and Zeroes\n",
    "    最多 m 个 0， 最多 n 个 1，subarray 数目最多"
   ]
  },
  {
   "cell_type": "code",
   "execution_count": 62,
   "metadata": {},
   "outputs": [],
   "source": [
    "from collections import Counter\n",
    "\n",
    "class Solution:\n",
    "    def findMaxForm(self, strs, m: int, n: int) -> int:\n",
    "        cnt = [Counter(x) for x in strs]\n",
    "        dp = [[0] * (1+m) for _ in range(n+1)]\n",
    "        for c in cnt:\n",
    "            z_cnt, o_cnt = c['0'], c['1']\n",
    "            for o in range(n, o_cnt-1, -1):\n",
    "                for z in range(m, z_cnt-1, -1):\n",
    "                    dp[o][z] = max(dp[o][z], dp[o-o_cnt][z-z_cnt] + 1)\n",
    "            print(dp)\n",
    "        print(dp)\n",
    "        return dp[-1][-1]"
   ]
  },
  {
   "cell_type": "code",
   "execution_count": 63,
   "metadata": {},
   "outputs": [
    {
     "name": "stdout",
     "output_type": "stream",
     "text": [
      "[[0, 0, 0, 0, 0, 0], [0, 1, 1, 1, 1, 1], [0, 1, 1, 1, 1, 1], [0, 1, 1, 1, 1, 1]]\n",
      "[[0, 0, 0, 0, 0, 0], [0, 1, 1, 1, 1, 1], [0, 1, 1, 1, 2, 2], [0, 1, 1, 1, 2, 2]]\n",
      "[[0, 0, 0, 0, 0, 0], [0, 1, 1, 1, 1, 1], [0, 1, 1, 1, 2, 2], [0, 1, 1, 1, 2, 2]]\n",
      "[[0, 0, 0, 0, 0, 0], [1, 1, 1, 1, 1, 1], [1, 2, 2, 2, 2, 2], [1, 2, 2, 2, 3, 3]]\n",
      "[[0, 1, 1, 1, 1, 1], [1, 2, 2, 2, 2, 2], [1, 2, 3, 3, 3, 3], [1, 2, 3, 3, 3, 4]]\n",
      "[[0, 1, 1, 1, 1, 1], [1, 2, 2, 2, 2, 2], [1, 2, 3, 3, 3, 3], [1, 2, 3, 3, 3, 4]]\n"
     ]
    },
    {
     "data": {
      "text/plain": [
       "4"
      ]
     },
     "execution_count": 63,
     "metadata": {},
     "output_type": "execute_result"
    }
   ],
   "source": [
    "solution = Solution()\n",
    "solution.findMaxForm(strs = [\"10\",\"0001\",\"111001\",\"1\",\"0\"], m = 5, n = 3)"
   ]
  },
  {
   "cell_type": "code",
   "execution_count": null,
   "metadata": {},
   "outputs": [],
   "source": []
  },
  {
   "cell_type": "markdown",
   "metadata": {},
   "source": [
    "### 416. Partition Equal Subset Sum\n",
    "    将数组分成两个部分，并要求这两个部分的和相同"
   ]
  },
  {
   "cell_type": "code",
   "execution_count": 66,
   "metadata": {},
   "outputs": [],
   "source": [
    "class Solution:\n",
    "    def canPartition(self, nums) -> bool:\n",
    "        sum_val = sum(nums)\n",
    "        if sum_val % 2 != 0:\n",
    "            return False\n",
    "        target = sum_val // 2\n",
    "        dp = [False] * (target + 1)\n",
    "        dp[0] = True\n",
    "        for n in nums:\n",
    "            for i in range(target, n-1, -1):\n",
    "                if dp[target]: \n",
    "                    return True\n",
    "                if i - n >= 0 and dp[i] is False:\n",
    "                    dp[i] = dp[i] or dp[i-n]\n",
    "        return dp[-1]"
   ]
  },
  {
   "cell_type": "code",
   "execution_count": 67,
   "metadata": {},
   "outputs": [
    {
     "data": {
      "text/plain": [
       "True"
      ]
     },
     "execution_count": 67,
     "metadata": {},
     "output_type": "execute_result"
    }
   ],
   "source": [
    "solution = Solution()\n",
    "solution.canPartition([1,5,11,5])"
   ]
  },
  {
   "cell_type": "markdown",
   "metadata": {},
   "source": [
    "### 494. Target Sum\n",
    "    可以选择 '+' or '-'，使得最后的值等于 target"
   ]
  },
  {
   "cell_type": "code",
   "execution_count": 72,
   "metadata": {},
   "outputs": [],
   "source": [
    "from collections import defaultdict\n",
    "\n",
    "class Solution:\n",
    "    def findTargetSumWays(self, nums, S: int) -> int:\n",
    "        if not nums: \n",
    "            return 0\n",
    "        dp = {}\n",
    "        dp[nums[0]] = 1\n",
    "        dp[-nums[0]] = 1 if nums[0] != 0 else 2\n",
    "        \n",
    "        for i in range(1, len(nums)):\n",
    "            temp = defaultdict(int)\n",
    "            n = nums[i]\n",
    "            for k in dp:\n",
    "                temp[k+n] += dp[k]\n",
    "                temp[k-n] += dp[k]\n",
    "            dp = temp\n",
    "        return dp.get(S, 0)"
   ]
  },
  {
   "cell_type": "code",
   "execution_count": 73,
   "metadata": {},
   "outputs": [
    {
     "data": {
      "text/plain": [
       "5"
      ]
     },
     "execution_count": 73,
     "metadata": {},
     "output_type": "execute_result"
    }
   ],
   "source": [
    "solution = Solution()\n",
    "solution.findTargetSumWays([1, 1, 1, 1, 1], 3)"
   ]
  },
  {
   "cell_type": "markdown",
   "metadata": {},
   "source": [
    "### 322. Coin Change"
   ]
  },
  {
   "cell_type": "code",
   "execution_count": 82,
   "metadata": {},
   "outputs": [],
   "source": [
    "class Solution:\n",
    "    def coinChange(self, coins, amount: int) -> int:\n",
    "        dp = [float('inf')] * (1 + amount)\n",
    "        dp[0] = 0\n",
    "        coins.sort()\n",
    "        for a in range(1, 1 + amount):\n",
    "            for c in coins:\n",
    "                if c > a:\n",
    "                    break\n",
    "                dp[a] = min(dp[a], dp[a-c] + 1) \n",
    "        return dp[-1] if dp[-1] != float('inf') else -1"
   ]
  },
  {
   "cell_type": "code",
   "execution_count": 84,
   "metadata": {},
   "outputs": [
    {
     "name": "stdout",
     "output_type": "stream",
     "text": [
      "[1]\n",
      "[0, 1, 2]\n"
     ]
    },
    {
     "data": {
      "text/plain": [
       "2"
      ]
     },
     "execution_count": 84,
     "metadata": {},
     "output_type": "execute_result"
    }
   ],
   "source": [
    "solution = Solution()\n",
    "solution.coinChange(coins = [1], amount = 2)"
   ]
  },
  {
   "cell_type": "code",
   "execution_count": null,
   "metadata": {},
   "outputs": [],
   "source": []
  }
 ],
 "metadata": {
  "kernelspec": {
   "display_name": "Python 3",
   "language": "python",
   "name": "python3"
  },
  "language_info": {
   "codemirror_mode": {
    "name": "ipython",
    "version": 3
   },
   "file_extension": ".py",
   "mimetype": "text/x-python",
   "name": "python",
   "nbconvert_exporter": "python",
   "pygments_lexer": "ipython3",
   "version": "3.6.2"
  }
 },
 "nbformat": 4,
 "nbformat_minor": 4
}
