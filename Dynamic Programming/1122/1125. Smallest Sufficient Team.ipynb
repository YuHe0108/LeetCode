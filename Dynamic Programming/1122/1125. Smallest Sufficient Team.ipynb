{
 "cells": [
  {
   "cell_type": "raw",
   "metadata": {},
   "source": [
    "    作为项目经理，你规划了一份需求的技能清单 req_skills，并打算从备选人员名单 people 中选出些人组成一个「必要团队」（ 编号为 i 的备选人员 people[i] 含有一份该备选人员掌握的技能列表）。\n",
    "\n",
    "    所谓「必要团队」，就是在这个团队中，对于所需求的技能列表 req_skills 中列出的每项技能，团队中至少有一名成员已经掌握。\n",
    "\n",
    "    我们可以用每个人的编号来表示团队中的成员：例如，团队 team = [0, 1, 3] 表示掌握技能分别为 people[0]，people[1]，和 people[3] 的备选人员。\n",
    "\n",
    "    请你返回 任一 规模最小的必要团队，团队成员用人员编号表示。你可以按任意顺序返回答案，本题保证答案存在。\n",
    "\n",
    "示例 1：\n",
    "    输入：req_skills = [\"java\",\"nodejs\",\"reactjs\"], people = [[\"java\"],[\"nodejs\"],[\"nodejs\",\"reactjs\"]]\n",
    "    输出：[0,2]\n",
    "\n",
    "示例 2：\n",
    "    输入：\n",
    "          req_skills = [\"algorithms\",\"math\",\"java\",\"reactjs\",\"csharp\",\"aws\"], \n",
    "          people = [[\"algorithms\",\"math\",\"java\"],[\"algorithms\",\"math\",\"reactjs\"],[\"java\",\"csharp\",\"aws\"],\n",
    "                    [\"reactjs\",\"csharp\"],[\"csharp\",\"math\"],[\"aws\",\"java\"]]\n",
    "    输出：[1,2]\n",
    "\n",
    "提示：\n",
    "    1 <= req_skills.length <= 16\n",
    "    1 <= people.length <= 60\n",
    "    1 <= people[i].length, req_skills[i].length, people[i][j].length <= 16\n",
    "    req_skills 和 people[i] 中的元素分别各不相同\n",
    "    req_skills[i][j], people[i][j][k] 都由小写英文字母组成\n",
    "    本题保证「必要团队」一定存在"
   ]
  },
  {
   "cell_type": "code",
   "execution_count": 25,
   "metadata": {},
   "outputs": [],
   "source": [
    "class Solution:\n",
    "    def smallestSufficientTeam(self, req_skills, people):\n",
    "        req2idx = {}\n",
    "        for i, n in enumerate(req_skills):\n",
    "            req2idx[n] = i\n",
    "        \n",
    "        p2idx = [] # 将 人会的技能转换为 整形 数字\n",
    "        for p in people:\n",
    "            temp = 0\n",
    "            for s in p:\n",
    "                if s not in req2idx:\n",
    "                    continue\n",
    "                temp |= 1 << req2idx[s]\n",
    "            p2idx.append(temp)\n",
    "        \n",
    "        N = len(req_skills)\n",
    "        saves = [[] for _ in range(1 << N)]\n",
    "        dp = [float('inf')] * (1 << N)\n",
    "        dp[0] = 0\n",
    "        \n",
    "        for i in range(len(people)):\n",
    "            temp_dp = dp[:]\n",
    "            for skill in range(1 << N):\n",
    "                new_skill = skill | p2idx[i]\n",
    "                if temp_dp[new_skill] > dp[skill] + 1:\n",
    "                    temp_dp[new_skill] = dp[skill] + 1\n",
    "                    saves[new_skill] = saves[skill][:]\n",
    "                    saves[new_skill].append(i)\n",
    "            dp = temp_dp\n",
    "        return saves[-1]"
   ]
  },
  {
   "cell_type": "code",
   "execution_count": 36,
   "metadata": {},
   "outputs": [],
   "source": [
    "class Solution:\n",
    "    def smallestSufficientTeam(self, req_skills, people):\n",
    "        N = len(req_skills)\n",
    "        req2idx = {}\n",
    "        for i, req in enumerate(req_skills):\n",
    "            req2idx[req] = i\n",
    "        \n",
    "        p2idx = [] # 将所有人会的技能转换为压缩为一个整形\n",
    "        for p in people:\n",
    "            skill = 0\n",
    "            for s in p:\n",
    "                if s not in req2idx:\n",
    "                    continue\n",
    "                skill |= 1 << req2idx[s]\n",
    "            p2idx.append(skill)\n",
    "        \n",
    "        dp = [float('inf')] * (1 << N)\n",
    "        dp[0] = 0\n",
    "        # 用于记录使用最少的人数能够获取的技能\n",
    "        saves = [[] for _ in range(1 << N)]\n",
    "        for i, p in enumerate(p2idx):\n",
    "            temp_dp = dp[:]\n",
    "            for skill in range(1 << N): # 用于遍历所有的技能可能中，使用此人能够消耗的最少人数\n",
    "                new_skill = p | skill\n",
    "                if temp_dp[new_skill] > dp[skill] + 1:\n",
    "                    temp_dp[new_skill] = dp[skill] + 1\n",
    "                    saves[new_skill] = saves[skill][:]\n",
    "                    saves[new_skill].append(i)\n",
    "            dp = temp_dp\n",
    "        return saves[-1]"
   ]
  },
  {
   "cell_type": "code",
   "execution_count": 37,
   "metadata": {},
   "outputs": [
    {
     "name": "stdout",
     "output_type": "stream",
     "text": [
      "[0, 1, 1, 2, inf, inf, 1, 2]\n"
     ]
    },
    {
     "data": {
      "text/plain": [
       "[0, 2]"
      ]
     },
     "execution_count": 37,
     "metadata": {},
     "output_type": "execute_result"
    }
   ],
   "source": [
    "solution = Solution()\n",
    "solution.smallestSufficientTeam(req_skills = [\"java\",\"nodejs\",\"reactjs\"], people = [[\"java\"],[\"nodejs\"],[\"nodejs\",\"reactjs\"]])"
   ]
  },
  {
   "cell_type": "code",
   "execution_count": 3,
   "metadata": {},
   "outputs": [
    {
     "data": {
      "text/plain": [
       "'1101'"
      ]
     },
     "execution_count": 3,
     "metadata": {},
     "output_type": "execute_result"
    }
   ],
   "source": [
    "'1101' or '1111'"
   ]
  },
  {
   "cell_type": "code",
   "execution_count": 12,
   "metadata": {},
   "outputs": [
    {
     "data": {
      "text/plain": [
       "14"
      ]
     },
     "execution_count": 12,
     "metadata": {},
     "output_type": "execute_result"
    }
   ],
   "source": [
    "10 | 12"
   ]
  },
  {
   "cell_type": "code",
   "execution_count": 10,
   "metadata": {},
   "outputs": [
    {
     "name": "stdout",
     "output_type": "stream",
     "text": [
      "0b1010 0b1100\n"
     ]
    }
   ],
   "source": [
    "print(bin(10), bin(12))"
   ]
  },
  {
   "cell_type": "code",
   "execution_count": 11,
   "metadata": {},
   "outputs": [
    {
     "data": {
      "text/plain": [
       "14"
      ]
     },
     "execution_count": 11,
     "metadata": {},
     "output_type": "execute_result"
    }
   ],
   "source": [
    "int('1110', 2)"
   ]
  },
  {
   "cell_type": "code",
   "execution_count": 11,
   "metadata": {},
   "outputs": [],
   "source": [
    "a = [1, 2, 3]\n",
    "b = a[:]"
   ]
  },
  {
   "cell_type": "code",
   "execution_count": 12,
   "metadata": {},
   "outputs": [],
   "source": [
    "b[1] = 10"
   ]
  },
  {
   "cell_type": "code",
   "execution_count": 13,
   "metadata": {},
   "outputs": [
    {
     "data": {
      "text/plain": [
       "[1, 2, 3]"
      ]
     },
     "execution_count": 13,
     "metadata": {},
     "output_type": "execute_result"
    }
   ],
   "source": [
    "a"
   ]
  },
  {
   "cell_type": "code",
   "execution_count": null,
   "metadata": {},
   "outputs": [],
   "source": []
  }
 ],
 "metadata": {
  "kernelspec": {
   "display_name": "Python 3",
   "language": "python",
   "name": "python3"
  },
  "language_info": {
   "codemirror_mode": {
    "name": "ipython",
    "version": 3
   },
   "file_extension": ".py",
   "mimetype": "text/x-python",
   "name": "python",
   "nbconvert_exporter": "python",
   "pygments_lexer": "ipython3",
   "version": "3.6.2"
  }
 },
 "nbformat": 4,
 "nbformat_minor": 4
}
