{
 "cells": [
  {
   "cell_type": "raw",
   "metadata": {},
   "source": [
    "    给你一个整数 n，请你帮忙统计一下我们可以按下述规则形成多少个长度为 n 的字符串：\n",
    "        1、字符串中的每个字符都应当是小写元音字母（'a', 'e', 'i', 'o', 'u'）\n",
    "        2、每个元音 'a' 后面都只能跟着 'e'             (一种选择)\n",
    "        3、每个元音 'e' 后面只能跟着 'a' 或者是 'i'    (两种选择)\n",
    "        4、每个元音 'i' 后面 不能 再跟着另一个 'i'     (四种选择)\n",
    "        5、每个元音 'o' 后面只能跟着 'i' 或者是 'u'    (两种选择)\n",
    "        6、每个元音 'u' 后面只能跟着 'a'               (一种选择)\n",
    "    由于答案可能会很大，所以请你返回 模 10^9 + 7 之后的结果。\n",
    "\n",
    "示例 1：\n",
    "    输入：n = 1\n",
    "    输出：5\n",
    "    解释：所有可能的字符串分别是：\"a\", \"e\", \"i\" , \"o\" 和 \"u\"。\n",
    "\n",
    "示例 2：\n",
    "    输入：n = 2\n",
    "    输出：10\n",
    "    解释：所有可能的字符串分别是：\"ae\", \"ea\", \"ei\", \"ia\", \"ie\", \"io\", \"iu\", \"oi\", \"ou\" 和 \"ua\"。\n",
    "\n",
    "示例 3：\n",
    "    输入：n = 5\n",
    "    输出：68\n",
    "\n",
    "提示：\n",
    "    1 <= n <= 2 * 10^4"
   ]
  },
  {
   "cell_type": "code",
   "execution_count": 1,
   "metadata": {},
   "outputs": [],
   "source": [
    "class Solution:\n",
    "    def countVowelPermutation(self, n: int) -> int:\n",
    "        M = pow(10, 9) + 7\n",
    "        vowels = ['a', 'e', 'i', 'o', 'u']\n",
    "        dp = [0] * (1 + n)\n",
    "        dp[1] = 5\n",
    "        for i in range(2, 1 + n):\n",
    "            pass\n",
    "        return dp[-1] % M"
   ]
  },
  {
   "cell_type": "code",
   "execution_count": 7,
   "metadata": {},
   "outputs": [],
   "source": [
    "class Solution:\n",
    "    def countVowelPermutation(self, n: int) -> int:\n",
    "        def rec(cnt, curr):\n",
    "            nonlocal dp, res\n",
    "            key = (cnt, curr)\n",
    "            if cnt == 0:\n",
    "                res += 1\n",
    "                return 1\n",
    "            if key in dp:\n",
    "                res += dp[key]\n",
    "                return dp[key]\n",
    "            if curr == 'a':\n",
    "                val = rec(cnt-1, 'e')\n",
    "            elif curr == 'e':\n",
    "                val = rec(cnt-1, 'a') + rec(cnt-1, 'i')\n",
    "            elif curr == 'i':\n",
    "                val = rec(cnt-1, 'a') + rec(cnt-1, 'e') + rec(cnt-1, 'o') + rec(cnt-1, 'u')\n",
    "            elif curr == 'o':\n",
    "                val = rec(cnt-1, 'i') + rec(cnt-1, 'u')\n",
    "            elif curr == 'u':\n",
    "                val = rec(cnt-1, 'a')\n",
    "            dp[key] = val\n",
    "            return dp[key]\n",
    "        \n",
    "        M = pow(10, 9) + 7\n",
    "        dp = {}\n",
    "        res = 0\n",
    "        for i in ('a', 'e', 'i', 'o', 'u'):\n",
    "            rec(n-1, i)\n",
    "        return res % M"
   ]
  },
  {
   "cell_type": "code",
   "execution_count": 8,
   "metadata": {},
   "outputs": [
    {
     "data": {
      "text/plain": [
       "1739"
      ]
     },
     "execution_count": 8,
     "metadata": {},
     "output_type": "execute_result"
    }
   ],
   "source": [
    "solution = Solution()\n",
    "solution.countVowelPermutation(10)"
   ]
  },
  {
   "cell_type": "code",
   "execution_count": null,
   "metadata": {},
   "outputs": [],
   "source": []
  }
 ],
 "metadata": {
  "kernelspec": {
   "display_name": "Python 3",
   "language": "python",
   "name": "python3"
  },
  "language_info": {
   "codemirror_mode": {
    "name": "ipython",
    "version": 3
   },
   "file_extension": ".py",
   "mimetype": "text/x-python",
   "name": "python",
   "nbconvert_exporter": "python",
   "pygments_lexer": "ipython3",
   "version": "3.6.2"
  }
 },
 "nbformat": 4,
 "nbformat_minor": 4
}
