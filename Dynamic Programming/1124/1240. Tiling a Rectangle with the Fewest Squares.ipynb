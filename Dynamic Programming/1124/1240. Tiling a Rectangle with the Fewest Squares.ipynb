{
 "cells": [
  {
   "cell_type": "raw",
   "metadata": {},
   "source": [
    "    你是一位施工队的工长，根据设计师的要求准备为一套设计风格独特的房子进行室内装修。\n",
    "\n",
    "    房子的客厅大小为 n x m，为保持极简的风格，需要使用尽可能少的 正方形 瓷砖来铺盖地面。\n",
    "\n",
    "    假设正方形瓷砖的规格不限，边长都是整数。\n",
    "\n",
    "    请你帮设计师计算一下，最少需要用到多少块方形瓷砖？\n",
    "\n",
    "示例 1：\n",
    "    输入：n = 2, m = 3\n",
    "    输出：3\n",
    "    解释：\n",
    "        3 块地砖就可以铺满卧室: 2 块 1x1 地砖, 1 块 2x2 地砖\n",
    "\n",
    "示例 2：\n",
    "    输入：n = 5, m = 8\n",
    "    输出：5\n",
    "\n",
    "示例 3：\n",
    "    输入：n = 11, m = 13\n",
    "    输出：6\n",
    "\n",
    "提示：\n",
    "    1 <= n <= 13\n",
    "    1 <= m <= 13"
   ]
  },
  {
   "cell_type": "markdown",
   "metadata": {},
   "source": [
    "<img src='https://assets.leetcode.com/uploads/2019/10/17/sample_11_1592.png'> <img src='https://assets.leetcode.com/uploads/2019/10/17/sample_22_1592.png'> <img src='https://assets.leetcode.com/uploads/2019/10/17/sample_33_1592.png'>"
   ]
  },
  {
   "cell_type": "code",
   "execution_count": 1,
   "metadata": {},
   "outputs": [],
   "source": [
    "class Solution:\n",
    "    def tilingRectangle(self, n: int, m: int) -> int:\n",
    "        if n == m: return n\n",
    "        pass"
   ]
  },
  {
   "cell_type": "code",
   "execution_count": 2,
   "metadata": {},
   "outputs": [],
   "source": [
    "solution = Solution()\n",
    "solution.tilingRectangle(n = 11, m = 13)"
   ]
  },
  {
   "cell_type": "code",
   "execution_count": null,
   "metadata": {},
   "outputs": [],
   "source": []
  }
 ],
 "metadata": {
  "kernelspec": {
   "display_name": "Python 3",
   "language": "python",
   "name": "python3"
  },
  "language_info": {
   "codemirror_mode": {
    "name": "ipython",
    "version": 3
   },
   "file_extension": ".py",
   "mimetype": "text/x-python",
   "name": "python",
   "nbconvert_exporter": "python",
   "pygments_lexer": "ipython3",
   "version": "3.6.2"
  }
 },
 "nbformat": 4,
 "nbformat_minor": 4
}
