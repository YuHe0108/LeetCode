{
 "cells": [
  {
   "cell_type": "raw",
   "metadata": {},
   "source": [
    "    电子游戏“辐射4”中，任务“通向自由”要求玩家到达名为“Freedom Trail Ring”的金属表盘，并使用表盘拼写特定关键词才能开门。\n",
    "\n",
    "    给定一个字符串 ring，表示刻在外环上的编码；给定另一个字符串 key，表示需要拼写的关键词。您需要算出能够拼写关键词中所有字符的最少步数。\n",
    "\n",
    "    最初，ring 的第一个字符与12:00方向对齐。您需要顺时针或逆时针旋转 ring 以使 key 的一个字符在 12:00 方向对齐，然后按下中心按钮，以此逐个拼写完 key 中的所有字符。\n",
    "\n",
    "    旋转 ring 拼出 key 字符 key[i] 的阶段中：\n",
    "\n",
    "    1、您可以将 ring 顺时针或逆时针旋转一个位置，计为1步。旋转的最终目的是将字符串 ring 的一个字符与 12:00 方向对齐，并且这个字符必须等于字符 key[i] 。\n",
    "    2、如果字符 key[i] 已经对齐到12:00方向，您需要按下中心按钮进行拼写，这也将算作 1 步。按完之后，您可以开始拼写 key 的下一个字符（下一阶段）, 直至完成所有拼写。\n",
    "\n",
    "示例：\n",
    "    输入: ring = \"godding\", key = \"gd\"\n",
    "    输出: 4\n",
    "    解释:\n",
    "         对于 key 的第一个字符 'g'，已经在正确的位置, 我们只需要1步来拼写这个字符。 \n",
    "         对于 key 的第二个字符 'd'，我们需要逆时针旋转 ring \"godding\" 2步使它变成 \"ddinggo\"。\n",
    "         当然, 我们还需要1步进行拼写。\n",
    "         因此最终的输出是 4。\n",
    "\n",
    "提示：\n",
    "    ring 和 key 的字符串长度取值范围均为 1 至 100；\n",
    "    两个字符串中都只有小写字符，并且均可能存在重复字符；\n",
    "    字符串 key 一定可以由字符串 ring 旋转拼出。"
   ]
  },
  {
   "cell_type": "markdown",
   "metadata": {},
   "source": [
    "<img src='https://assets.leetcode.com/uploads/2018/10/22/ring.jpg'>"
   ]
  },
  {
   "cell_type": "code",
   "execution_count": 31,
   "metadata": {},
   "outputs": [],
   "source": [
    "from col\n",
    "class Solution:\n",
    "    def findRotateSteps(self, ring: str, key: str) -> int:\n",
    "        r, k = len(ring), len(key)\n",
    "        dp = [[float('inf')] * (1+r) for _ in range(1+k)]\n",
    "        ring = '@' + ring\n",
    "        key = '@' + key\n",
    "        \n",
    "        ring2pos = \n",
    "        \n",
    "        for i in range(r+1):\n",
    "            dp[0][i] = i\n",
    "        for i in range(k+1):\n",
    "            dp[i][0] = 0\n",
    "        \n",
    "        for i in range(1, k+1):\n",
    "            for j in range(1, r+1):\n",
    "                for k in range():\n",
    "                    pass\n",
    "#                 dp[i][j] = min(dp[i][j], dp[i-1][pos] + get_dis(pos, j)) # 计算从当前 字母 旋转到下一个字母位置时候的最小距离\n",
    "        \n",
    "        print(dp)\n",
    "        res = float('inf')\n",
    "        for i in range(1, r+1):\n",
    "            if ring[i] == key[-1]:\n",
    "                res = min(res, dp[-1][i])\n",
    "        return res"
   ]
  },
  {
   "cell_type": "code",
   "execution_count": 32,
   "metadata": {},
   "outputs": [
    {
     "name": "stdout",
     "output_type": "stream",
     "text": [
      "[[0, 1, 2, 3, 4, 5, 6, 7], [0, inf, inf, inf, inf, inf, inf, inf], [0, inf, inf, inf, inf, inf, inf, inf]]\n",
      "[[0, 1, 2, 3, 4, 5, 6, 7], [0, inf, inf, inf, inf, inf, inf, inf], [0, inf, inf, inf, inf, inf, inf, inf]]\n"
     ]
    },
    {
     "data": {
      "text/plain": [
       "inf"
      ]
     },
     "execution_count": 32,
     "metadata": {},
     "output_type": "execute_result"
    }
   ],
   "source": [
    "solution = Solution()\n",
    "solution.findRotateSteps(ring = \"godding\", key = \"gd\")"
   ]
  },
  {
   "cell_type": "code",
   "execution_count": null,
   "metadata": {},
   "outputs": [],
   "source": []
  }
 ],
 "metadata": {
  "kernelspec": {
   "display_name": "Python 3",
   "language": "python",
   "name": "python3"
  },
  "language_info": {
   "codemirror_mode": {
    "name": "ipython",
    "version": 3
   },
   "file_extension": ".py",
   "mimetype": "text/x-python",
   "name": "python",
   "nbconvert_exporter": "python",
   "pygments_lexer": "ipython3",
   "version": "3.6.2"
  }
 },
 "nbformat": 4,
 "nbformat_minor": 4
}
