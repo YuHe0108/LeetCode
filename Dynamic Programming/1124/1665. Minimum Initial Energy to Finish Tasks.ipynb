{
 "cells": [
  {
   "cell_type": "raw",
   "metadata": {},
   "source": [
    "    给你一个任务数组 tasks ，其中 tasks[i] = [actuali, minimumi] ：\n",
    "\n",
    "    actuali 是完成第 i 个任务 需要耗费 的实际能量。\n",
    "    minimumi 是开始第 i 个任务前需要达到的最低能量。\n",
    "    比方说，如果任务为 [10, 12] 且你当前的能量为 11 ，那么你不能开始这个任务。如果你当前的能量为 13 ，你可以完成这个任务，且完成它后剩余能量为 3 。\n",
    "\n",
    "    你可以按照 任意顺序 完成任务。\n",
    "\n",
    "    请你返回完成所有任务的 最少 初始能量。\n",
    "\n",
    "示例 1：\n",
    "    输入：tasks = [[1,2],[2,4],[4,8]]\n",
    "    输出：8\n",
    "    解释：\n",
    "    一开始有 8 能量，我们按照如下顺序完成任务：\n",
    "        - 完成第 3 个任务，剩余能量为 8 - 4 = 4 。\n",
    "        - 完成第 2 个任务，剩余能量为 4 - 2 = 2 。\n",
    "        - 完成第 1 个任务，剩余能量为 2 - 1 = 1 。\n",
    "    注意到尽管我们有能量剩余，但是如果一开始只有 7 能量是不能完成所有任务的，因为我们无法开始第 3 个任务。\n",
    "\n",
    "示例 2：\n",
    "    输入：tasks = [[1,3],[2,4],[10,11],[10,12],[8,9]]\n",
    "    输出：32\n",
    "    解释：\n",
    "    一开始有 32 能量，我们按照如下顺序完成任务：\n",
    "        - 完成第 1 个任务，剩余能量为 32 - 1 = 31 。\n",
    "        - 完成第 2 个任务，剩余能量为 31 - 2 = 29 。\n",
    "        - 完成第 3 个任务，剩余能量为 29 - 10 = 19 。\n",
    "        - 完成第 4 个任务，剩余能量为 19 - 10 = 9 。\n",
    "        - 完成第 5 个任务，剩余能量为 9 - 8 = 1 。\n",
    "\n",
    "示例 3：\n",
    "    输入：tasks = [[1,7],[2,8],[3,9],[4,10],[5,11],[6,12]]\n",
    "    输出：27\n",
    "    解释：\n",
    "        一开始有 27 能量，我们按照如下顺序完成任务：\n",
    "            - 完成第 5 个任务，剩余能量为 27 - 5 = 22 。\n",
    "            - 完成第 2 个任务，剩余能量为 22 - 2 = 20 。\n",
    "            - 完成第 3 个任务，剩余能量为 20 - 3 = 17 。\n",
    "            - 完成第 1 个任务，剩余能量为 17 - 1 = 16 。\n",
    "            - 完成第 4 个任务，剩余能量为 16 - 4 = 12 。\n",
    "            - 完成第 6 个任务，剩余能量为 12 - 6 = 6 。\n",
    "提示：\n",
    "    1 <= tasks.length <= 10^5\n",
    "    1 <= actual-i <= minimumi <= 10^4"
   ]
  },
  {
   "cell_type": "code",
   "execution_count": 11,
   "metadata": {},
   "outputs": [],
   "source": [
    "class Solution:\n",
    "    def minimumEffort(self, tasks) -> int:\n",
    "        def helper(mid):\n",
    "            for a, m in tasks:\n",
    "                if mid < m:\n",
    "                    return False\n",
    "                mid -= a\n",
    "            return True\n",
    "        tasks = sorted(tasks, key=lambda x: (x[1]-x[0]), reverse=True)\n",
    "        print(tasks)\n",
    "        left = sum([c for c, n in tasks])\n",
    "        right = sum([n for c, n in tasks])\n",
    "        while left < right:\n",
    "            mid = left + (right - left) // 2\n",
    "            if helper(mid):\n",
    "                right = mid\n",
    "            else:\n",
    "                left = mid + 1\n",
    "        return left"
   ]
  },
  {
   "cell_type": "code",
   "execution_count": 14,
   "metadata": {},
   "outputs": [
    {
     "name": "stdout",
     "output_type": "stream",
     "text": [
      "[[1, 3], [2, 4], [10, 12], [10, 11], [8, 9]]\n"
     ]
    },
    {
     "data": {
      "text/plain": [
       "32"
      ]
     },
     "execution_count": 14,
     "metadata": {},
     "output_type": "execute_result"
    }
   ],
   "source": [
    "solution = Solution()\n",
    "solution.minimumEffort(tasks = [[1,3],[2,4],[10,11],[10,12],[8,9]])"
   ]
  },
  {
   "cell_type": "code",
   "execution_count": null,
   "metadata": {},
   "outputs": [],
   "source": [
    "按完成任务所能获得的最大精力排序。这样我们可以为下一个任务获得最大的剩余能量"
   ]
  }
 ],
 "metadata": {
  "kernelspec": {
   "display_name": "Python 3",
   "language": "python",
   "name": "python3"
  },
  "language_info": {
   "codemirror_mode": {
    "name": "ipython",
    "version": 3
   },
   "file_extension": ".py",
   "mimetype": "text/x-python",
   "name": "python",
   "nbconvert_exporter": "python",
   "pygments_lexer": "ipython3",
   "version": "3.6.2"
  }
 },
 "nbformat": 4,
 "nbformat_minor": 4
}
