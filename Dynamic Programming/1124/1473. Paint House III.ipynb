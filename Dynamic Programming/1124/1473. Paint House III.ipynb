{
 "cells": [
  {
   "cell_type": "raw",
   "metadata": {},
   "source": [
    "    在一个小城市里，有 m 个房子排成一排，你需要给每个房子涂上 n 种颜色之一（颜色编号为 1 到 n ）。有的房子去年夏天已经涂过颜色了，所以这些房子不需要被重新涂色。\n",
    "\n",
    "    我们将连续相同颜色尽可能多的房子称为一个街区。（比方说 houses = [1,2,2,3,3,2,1,1] ，它包含 5 个街区  [{1}, {2,2}, {3,3}, {2}, {1,1}] 。）\n",
    "\n",
    "    给你一个数组 houses ，一个 m * n 的矩阵 cost 和一个整数 target ，其中：\n",
    "        1、houses[i]：是第 i 个房子的颜色，0 表示这个房子还没有被涂色。\n",
    "        2、cost[i][j]：是将第 i 个房子涂成颜色 j+1 的花费。\n",
    "    请你返回房子涂色方案的最小总花费，使得每个房子都被涂色后，恰好组成 target 个街区。如果没有可用的涂色方案，请返回 -1 。\n",
    "\n",
    "示例 1：\n",
    "    输入：houses = [0,0,0,0,0], cost = [[1,10],[10,1],[10,1],[1,10],[5,1]], m = 5, n = 2, target = 3\n",
    "    输出：9\n",
    "    解释：\n",
    "        房子涂色方案为 [1,2,2,1,1]\n",
    "        此方案包含 target = 3 个街区，分别是 [{1}, {2,2}, {1,1}]。\n",
    "        涂色的总花费为 (1 + 1 + 1 + 1 + 5) = 9。\n",
    "\n",
    "示例 2：\n",
    "    输入：houses = [0,2,1,2,0], cost = [[1,10],[10,1],[10,1],[1,10],[5,1]], m = 5, n = 2, target = 3\n",
    "    输出：11\n",
    "    解释：\n",
    "        有的房子已经被涂色了，在此基础上涂色方案为 [2,2,1,2,2]\n",
    "        此方案包含 target = 3 个街区，分别是 [{2,2}, {1}, {2,2}]。\n",
    "        给第一个和最后一个房子涂色的花费为 (10 + 1) = 11。\n",
    "\n",
    "示例 3：\n",
    "    输入：houses = [0,0,0,0,0], cost = [[1,10],[10,1],[1,10],[10,1],[1,10]], m = 5, n = 2, target = 5\n",
    "    输出：5\n",
    "\n",
    "示例 4：\n",
    "    输入：houses = [3,1,2,3], cost = [[1,1,1],[1,1,1],[1,1,1],[1,1,1]], m = 4, n = 3, target = 3\n",
    "    输出：-1\n",
    "    解释：房子已经被涂色并组成了 4 个街区，分别是 [{3},{1},{2},{3}] ，无法形成 target = 3 个街区。\n",
    "\n",
    "提示：\n",
    "    m == houses.length == cost.length\n",
    "    n == cost[i].length\n",
    "    1 <= m <= 100\n",
    "    1 <= n <= 20\n",
    "    1 <= target <= m\n",
    "    0 <= houses[i] <= n\n",
    "    1 <= cost[i][j] <= 10^4"
   ]
  },
  {
   "cell_type": "code",
   "execution_count": 95,
   "metadata": {},
   "outputs": [],
   "source": [
    "class Solution:\n",
    "    def minCost(self, houses, cost, m: int, n: int, target: int) -> int:\n",
    "        # dp[i][j][k] 将前 i 个房子，染成 j 个街区，并且第 i 个房子的颜色为 k 的 的最小花费\n",
    "        dp = [[[float('inf')] * (1 + n)  for _  in range(1+target)] for _ in range(1 + m)]\n",
    "        # 0 个街区 j 个 分区，是不现实的，因此都是 inf，同样 0 个街区，n 中 颜色，也是不合理的\n",
    "        for i in range(n+1): # 0 个房子，0个街区，无论多少种颜色都是 0 中方案\n",
    "            dp[0][0][i] = 0\n",
    "        \n",
    "        cost.insert(0, [0, 0])\n",
    "        houses.insert(0, 0)\n",
    "        for i in range(1, m+1):\n",
    "            for j in range(1, min(i, target)+1):\n",
    "                if houses[i] != 0:\n",
    "                    c = houses[i]\n",
    "                    for u in range(1, n+1):\n",
    "                        if u == c:\n",
    "                            dp[i][j][c] = min(dp[i][j][c], dp[i-1][j][u])\n",
    "                        else:\n",
    "                            dp[i][j][c] = min(dp[i][j][c], dp[i-1][j-1][u])\n",
    "                else:\n",
    "                    for k in range(1, n+1):\n",
    "                        for u in range(1, n+1):\n",
    "                            if u == k: # i 和 i-1 颜色涂的相同\n",
    "                                dp[i][j][k] = min(dp[i][j][k], dp[i-1][j][k] + cost[i][k-1])\n",
    "                            else: # i 和 i-1 颜色涂的相同\n",
    "                                dp[i][j][k] = min(dp[i][j][k], dp[i-1][j-1][u] + cost[i][k-1])\n",
    "        res = min(dp[-1][-1][:]) # 涂到最后一个房子，使用了 n 种配色，最后一个房子的颜色无所谓，最小花费就可以\n",
    "        return res if res != float('inf') else -1 "
   ]
  },
  {
   "cell_type": "code",
   "execution_count": null,
   "metadata": {},
   "outputs": [],
   "source": [
    "                    c = houses[i]\n",
    "                    for k in range(1, 1+n):\n",
    "                        if k == c:\n",
    "                            dp[i][i][k] = min(dp[i][j][k], dp[i-1][j][k]) \n",
    "                        else:\n",
    "                            dp[i][i][k] = min(dp[i][j][k], dp[i-1][j-1][k]) "
   ]
  },
  {
   "cell_type": "code",
   "execution_count": 98,
   "metadata": {},
   "outputs": [
    {
     "data": {
      "text/plain": [
       "11"
      ]
     },
     "execution_count": 98,
     "metadata": {},
     "output_type": "execute_result"
    }
   ],
   "source": [
    "solution = Solution()\n",
    "solution.minCost([0,2,1,2,0],\n",
    "[[1,10],[10,1],[10,1],[1,10],[5,1]],\n",
    "5,\n",
    "2,\n",
    "3)"
   ]
  },
  {
   "cell_type": "code",
   "execution_count": null,
   "metadata": {},
   "outputs": [],
   "source": [
    "[[[0, 0, 0, 0], [inf, inf, inf, inf], [inf, inf, inf, inf], [inf, inf, inf, inf]], \n",
    " [[inf, inf, inf, inf], [inf, inf, inf, inf], [inf, inf, inf, inf], [inf, inf, inf, inf]], \n",
    " [[inf, inf, inf, inf], [inf, inf, inf, inf], [inf, inf, inf, inf], [inf, inf, inf, inf]], \n",
    " [[inf, inf, inf, inf], [inf, inf, inf, inf], [inf, inf, inf, inf], [inf, inf, inf, inf]], \n",
    " [[inf, inf, inf, inf], [inf, inf, inf, inf], [inf, inf, inf, inf], [inf, inf, inf, inf]]]"
   ]
  }
 ],
 "metadata": {
  "kernelspec": {
   "display_name": "Python 3",
   "language": "python",
   "name": "python3"
  },
  "language_info": {
   "codemirror_mode": {
    "name": "ipython",
    "version": 3
   },
   "file_extension": ".py",
   "mimetype": "text/x-python",
   "name": "python",
   "nbconvert_exporter": "python",
   "pygments_lexer": "ipython3",
   "version": "3.6.2"
  }
 },
 "nbformat": 4,
 "nbformat_minor": 4
}
