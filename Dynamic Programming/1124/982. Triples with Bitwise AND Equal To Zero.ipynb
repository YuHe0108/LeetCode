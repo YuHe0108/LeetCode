{
 "cells": [
  {
   "cell_type": "raw",
   "metadata": {},
   "source": [
    "    给定一个整数数组 A，找出索引为 (i, j, k) 的三元组，使得：\n",
    "        0 <= i < A.length\n",
    "        0 <= j < A.length\n",
    "        0 <= k < A.length\n",
    "    A[i] & A[j] & A[k] == 0，其中 & 表示按位与（AND）操作符。\n",
    "\n",
    "示例：\n",
    "    输入：[2,1,3]\n",
    "    输出：12\n",
    "    解释：我们可以选出如下 i, j, k 三元组：\n",
    "                                        (i=0, j=0, k=1) : 2 & 2 & 1\n",
    "                                        (i=0, j=1, k=0) : 2 & 1 & 2\n",
    "                                        (i=0, j=1, k=1) : 2 & 1 & 1\n",
    "                                        (i=0, j=1, k=2) : 2 & 1 & 3\n",
    "                                        (i=0, j=2, k=1) : 2 & 3 & 1\n",
    "                                        (i=1, j=0, k=0) : 1 & 2 & 2\n",
    "                                        (i=1, j=0, k=1) : 1 & 2 & 1\n",
    "                                        (i=1, j=0, k=2) : 1 & 2 & 3\n",
    "                                        (i=1, j=1, k=0) : 1 & 1 & 2\n",
    "                                        (i=1, j=2, k=0) : 1 & 3 & 2\n",
    "                                        (i=2, j=0, k=1) : 3 & 2 & 1\n",
    "                                        (i=2, j=1, k=0) : 3 & 1 & 2\n",
    "\n",
    "提示：\n",
    "    1 <= A.length <= 1000\n",
    "    0 <= A[i] < 2^16"
   ]
  },
  {
   "cell_type": "code",
   "execution_count": 14,
   "metadata": {},
   "outputs": [],
   "source": [
    "from collections import defaultdict\n",
    "\n",
    "class Solution:\n",
    "    def countTriplets(self, A):\n",
    "        mod = pow(10, 9) + 7\n",
    "        res = 0\n",
    "        dic = defaultdict(int)\n",
    "        for a in A:\n",
    "            for b in A:\n",
    "                dic[a & b] += 1\n",
    "        for a in A:\n",
    "            for k, v in dic.items():\n",
    "                if a & k == 0:\n",
    "                    res += v\n",
    "        return res % mod"
   ]
  },
  {
   "cell_type": "code",
   "execution_count": 15,
   "metadata": {},
   "outputs": [
    {
     "data": {
      "text/plain": [
       "12"
      ]
     },
     "execution_count": 15,
     "metadata": {},
     "output_type": "execute_result"
    }
   ],
   "source": [
    "solution = Solution()\n",
    "solution.countTriplets([2,1,3])"
   ]
  },
  {
   "cell_type": "code",
   "execution_count": 13,
   "metadata": {},
   "outputs": [
    {
     "data": {
      "text/plain": [
       "2"
      ]
     },
     "execution_count": 13,
     "metadata": {},
     "output_type": "execute_result"
    }
   ],
   "source": [
    "2 & 2 | 0"
   ]
  },
  {
   "cell_type": "code",
   "execution_count": 20,
   "metadata": {},
   "outputs": [
    {
     "data": {
      "text/plain": [
       "15"
      ]
     },
     "execution_count": 20,
     "metadata": {},
     "output_type": "execute_result"
    }
   ],
   "source": [
    "15 ^ 6 ^ 6"
   ]
  },
  {
   "cell_type": "code",
   "execution_count": null,
   "metadata": {},
   "outputs": [],
   "source": []
  }
 ],
 "metadata": {
  "kernelspec": {
   "display_name": "Python 3",
   "language": "python",
   "name": "python3"
  },
  "language_info": {
   "codemirror_mode": {
    "name": "ipython",
    "version": 3
   },
   "file_extension": ".py",
   "mimetype": "text/x-python",
   "name": "python",
   "nbconvert_exporter": "python",
   "pygments_lexer": "ipython3",
   "version": "3.6.2"
  }
 },
 "nbformat": 4,
 "nbformat_minor": 4
}
