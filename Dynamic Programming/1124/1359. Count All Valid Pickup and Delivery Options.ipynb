{
 "cells": [
  {
   "cell_type": "raw",
   "metadata": {},
   "source": [
    "    给你 n 笔订单，每笔订单都需要快递服务。\n",
    "\n",
    "    请你统计所有有效的 收件/配送 序列的数目，确保第 i 个物品的配送服务 delivery(i) 总是在其收件服务 pickup(i) 之后。\n",
    "\n",
    "    由于答案可能很大，请返回答案对 10^9 + 7 取余的结果。\n",
    "\n",
    "示例 1：\n",
    "    输入：n = 1\n",
    "    输出：1\n",
    "    解释：只有一种序列 (P1, D1)，物品 1 的配送服务（D1）在物品 1 的收件服务（P1）后。\n",
    "\n",
    "示例 2：\n",
    "    输入：n = 2\n",
    "    输出：6\n",
    "    解释：所有可能的序列包括：\n",
    "        (P1,P2,D1,D2)，(P1,P2,D2,D1)，(P1,D1,P2,D2)，(P2,P1,D1,D2)，(P2,P1,D2,D1) 和 (P2,D2,P1,D1)。\n",
    "        (P1,D2,P2,D1) 是一个无效的序列，因为物品 2 的收件服务（P2）不应在物品 2 的配送服务（D2）之后。\n",
    "\n",
    "示例 3：\n",
    "    输入：n = 3\n",
    "    输出：90\n",
    " \n",
    "提示：\n",
    "    1 <= n <= 500"
   ]
  },
  {
   "cell_type": "code",
   "execution_count": 1,
   "metadata": {},
   "outputs": [],
   "source": [
    "class Solution:\n",
    "    def countOrders(self, n: int) -> int:\n",
    "        mod = pow(10, 9) + 7\n",
    "        res = 0\n",
    "        \n",
    "        return res % mod"
   ]
  },
  {
   "cell_type": "code",
   "execution_count": null,
   "metadata": {},
   "outputs": [],
   "source": [
    "solution = Solution()\n",
    "solution.countOrders()"
   ]
  }
 ],
 "metadata": {
  "kernelspec": {
   "display_name": "Python 3",
   "language": "python",
   "name": "python3"
  },
  "language_info": {
   "codemirror_mode": {
    "name": "ipython",
    "version": 3
   },
   "file_extension": ".py",
   "mimetype": "text/x-python",
   "name": "python",
   "nbconvert_exporter": "python",
   "pygments_lexer": "ipython3",
   "version": "3.6.2"
  }
 },
 "nbformat": 4,
 "nbformat_minor": 4
}
