{
 "cells": [
  {
   "cell_type": "raw",
   "metadata": {},
   "source": [
    "    在一个大小在 (0, 0) 到 (N-1, N-1) 的2D网格 grid 中，除了在 mines 中给出的单元为 0，其他每个单元都是 1。网格中包含 1 的最大的轴对齐加号标志是多少阶？返回加号标志的阶数。如果未找到加号标志，则返回 0。\n",
    "\n",
    "    一个 k\" 阶由 1 组成的“轴对称”加号标志具有中心网格  grid[x][y] = 1 ，以及4个从中心向上、向下、向左、向右延伸，长度为 k-1，由 1 组成的臂。\n",
    "    注意，只有加号标志的所有网格要求为 1，别的网格可能为 0 也可能为 1。\n",
    "    下面给出 k\" 阶“轴对称”加号标志的示例。\n",
    "\n",
    "    k 阶轴对称加号标志示例:\n",
    "                阶 1:\n",
    "                    000\n",
    "                    010\n",
    "                    000\n",
    "\n",
    "                阶 2:\n",
    "                    00000\n",
    "                    00100\n",
    "                    01110\n",
    "                    00100\n",
    "                    00000\n",
    "\n",
    "                阶 3:\n",
    "                    0000000\n",
    "                    0001000\n",
    "                    0001000\n",
    "                    0111110\n",
    "                    0001000\n",
    "                    0001000\n",
    "                    0000000\n",
    " \n",
    "\n",
    "示例 1：\n",
    "    输入: N = 5, mines = [[4, 2]]\n",
    "    输出: 2\n",
    "    解释:\n",
    "            11111\n",
    "            11111\n",
    "            11111\n",
    "            11111\n",
    "            11011\n",
    "    在上面的网格中，最大加号标志的阶只能是2。一个标志已在图中标出。\n",
    "\n",
    "示例 2：\n",
    "    输入: N = 2, mines = []\n",
    "    输出: 1\n",
    "    解释:\n",
    "        11\n",
    "        11\n",
    "    没有 2 阶加号标志，有 1 阶加号标志。\n",
    "\n",
    "示例 3：\n",
    "    输入: N = 1, mines = [[0, 0]]\n",
    "    输出: 0\n",
    "    解释: 0\n",
    "    没有加号标志，返回 0 。\n",
    "\n",
    "提示：\n",
    "    整数N 的范围： [1, 500].\n",
    "    mines 的最大长度为 5000.\n",
    "    mines[i] 是长度为2的由2个 [0, N-1] 中的数组成.\n",
    "    (另外,使用 C, C++, 或者 C# 编程将以稍小的时间限制进行判断.)"
   ]
  },
  {
   "cell_type": "code",
   "execution_count": 37,
   "metadata": {},
   "outputs": [],
   "source": [
    "class Solution:\n",
    "    def orderOfLargestPlusSign(self, N: int, mines) -> int:\n",
    "        dp = [[N for i in range(N)] for j in range(N)]\n",
    "        print(dp)\n",
    "        for x, y in mines:\n",
    "            dp[x][y] = 0\n",
    "        res = 0\n",
    "        for i in range(N):\n",
    "            l, r, u, d = 0, 0, 0, 0\n",
    "            for j in range(N):\n",
    "                l = l + 1 if dp[i][j] else 0\n",
    "                r = r + 1 if dp[j][i] else 0\n",
    "                u = u + 1 if dp[i][N - 1 - j] else 0\n",
    "                d = d + 1 if dp[N - 1 - j][i] else 0\n",
    "                dp[i][j] = min(dp[i][j], l)\n",
    "                dp[j][i] = min(dp[j][i], r)\n",
    "                dp[i][N-1-j] = min(dp[i][N-1-j], u)\n",
    "                dp[N-1-j][i] = min(dp[N-1-j][i], d)\n",
    "        for i in range(N):\n",
    "            for j in range(N):\n",
    "                res = max(res, dp[i][j])\n",
    "        return res"
   ]
  },
  {
   "cell_type": "code",
   "execution_count": 38,
   "metadata": {},
   "outputs": [
    {
     "name": "stdout",
     "output_type": "stream",
     "text": [
      "[[5, 5, 5, 5, 5], [5, 5, 5, 5, 5], [5, 5, 5, 5, 5], [5, 5, 5, 5, 5], [5, 5, 5, 5, 5]]\n"
     ]
    },
    {
     "data": {
      "text/plain": [
       "2"
      ]
     },
     "execution_count": 38,
     "metadata": {},
     "output_type": "execute_result"
    }
   ],
   "source": [
    "solution = Solution()\n",
    "solution.orderOfLargestPlusSign(N = 5, mines = [[4, 2]])"
   ]
  },
  {
   "cell_type": "code",
   "execution_count": null,
   "metadata": {},
   "outputs": [],
   "source": [
    "class Solution:\n",
    "    def orderOfLargestPlusSign(self, N, mines):\n",
    "        res = 0\n",
    "        dp = [[N for i in range(N)] for j in range(N)]\n",
    "        for mine in mines:\n",
    "            dp[mine[0]][mine[1]] = 0\n",
    "        for i in range(N):\n",
    "            l, r, u, d = 0, 0, 0, 0\n",
    "            for j in range(N):\n",
    "                l = l + 1 if dp[i][j] else 0\n",
    "                r = r + 1 if dp[j][i] else 0\n",
    "                u = u + 1 if dp[i][N - 1 -j] else 0\n",
    "                d = d + 1 if dp[N - 1 - j][i] else 0\n",
    "                dp[i][j] = min(dp[i][j], l)\n",
    "                dp[j][i] = min(dp[j][i], r)\n",
    "                dp[i][N - 1 - j] = min(dp[i][N -  1 - j], u)\n",
    "                dp[N - 1 - j][i] = min(dp[N - 1 - j][i], d)\n",
    "        for i in range(N):\n",
    "            for j in range(N):\n",
    "                res = max(res, dp[i][j])\n",
    "        return res"
   ]
  },
  {
   "cell_type": "code",
   "execution_count": null,
   "metadata": {},
   "outputs": [],
   "source": []
  },
  {
   "cell_type": "code",
   "execution_count": null,
   "metadata": {},
   "outputs": [],
   "source": []
  },
  {
   "cell_type": "code",
   "execution_count": null,
   "metadata": {},
   "outputs": [],
   "source": []
  },
  {
   "cell_type": "raw",
   "metadata": {},
   "source": [
    "11111\n",
    "12221\n",
    "12221\n",
    "12221\n",
    "11111"
   ]
  },
  {
   "cell_type": "code",
   "execution_count": 39,
   "metadata": {},
   "outputs": [],
   "source": [
    "class Solution(object):\n",
    "    def orderOfLargestPlusSign(self, N, mines):\n",
    "        banned = {tuple(mine) for mine in mines}\n",
    "        dp = [[0] * N for _ in range(N)]\n",
    "        ans = 0\n",
    "        \n",
    "        for r in range(N):\n",
    "            count = 0\n",
    "            for c in range(N):\n",
    "                count = 0 if (r,c) in banned else count + 1\n",
    "                dp[r][c] = count\n",
    "            \n",
    "            count = 0\n",
    "            for c in range(N-1, -1, -1):\n",
    "                count = 0 if (r,c) in banned else count+1\n",
    "                if count < dp[r][c]: \n",
    "                    dp[r][c] = count\n",
    "        \n",
    "        for c in range(N):\n",
    "            count = 0\n",
    "            for r in range(N):\n",
    "                count = 0 if (r,c) in banned else count+1\n",
    "                if count < dp[r][c]: \n",
    "                    dp[r][c] = count\n",
    "            \n",
    "            count = 0\n",
    "            for r in range(N-1, -1, -1):\n",
    "                count = 0 if (r, c) in banned else count+1\n",
    "                if count < dp[r][c]: \n",
    "                    dp[r][c] = count\n",
    "                if dp[r][c] > ans: \n",
    "                    ans = dp[r][c]\n",
    "        return ans"
   ]
  },
  {
   "cell_type": "code",
   "execution_count": 40,
   "metadata": {},
   "outputs": [
    {
     "name": "stdout",
     "output_type": "stream",
     "text": [
      "[[1, 2, 3, 2, 1], [0, 0, 0, 0, 0], [0, 0, 0, 0, 0], [0, 0, 0, 0, 0], [0, 0, 0, 0, 0]]\n",
      "[[1, 2, 3, 2, 1], [1, 2, 3, 2, 1], [0, 0, 0, 0, 0], [0, 0, 0, 0, 0], [0, 0, 0, 0, 0]]\n",
      "[[1, 2, 3, 2, 1], [1, 2, 3, 2, 1], [1, 2, 3, 2, 1], [0, 0, 0, 0, 0], [0, 0, 0, 0, 0]]\n",
      "[[1, 2, 3, 2, 1], [1, 2, 3, 2, 1], [1, 2, 3, 2, 1], [1, 2, 3, 2, 1], [0, 0, 0, 0, 0]]\n",
      "[[1, 2, 3, 2, 1], [1, 2, 3, 2, 1], [1, 2, 3, 2, 1], [1, 2, 3, 2, 1], [1, 1, 0, 1, 1]]\n"
     ]
    },
    {
     "data": {
      "text/plain": [
       "2"
      ]
     },
     "execution_count": 40,
     "metadata": {},
     "output_type": "execute_result"
    }
   ],
   "source": [
    "solution = Solution()\n",
    "solution.orderOfLargestPlusSign(N = 5, mines = [[4, 2]])"
   ]
  },
  {
   "cell_type": "code",
   "execution_count": null,
   "metadata": {},
   "outputs": [],
   "source": []
  }
 ],
 "metadata": {
  "kernelspec": {
   "display_name": "Python 3",
   "language": "python",
   "name": "python3"
  },
  "language_info": {
   "codemirror_mode": {
    "name": "ipython",
    "version": 3
   },
   "file_extension": ".py",
   "mimetype": "text/x-python",
   "name": "python",
   "nbconvert_exporter": "python",
   "pygments_lexer": "ipython3",
   "version": "3.6.2"
  }
 },
 "nbformat": 4,
 "nbformat_minor": 4
}
