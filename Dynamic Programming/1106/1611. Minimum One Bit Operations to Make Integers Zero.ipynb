{
 "cells": [
  {
   "cell_type": "raw",
   "metadata": {},
   "source": [
    "说明：\n",
    "    给你一个整数 n，你需要重复执行多次下述操作将其转换为 0 ：\n",
    "        1、翻转 n 的二进制表示中最右侧位（第 0 位）。\n",
    "        2、如果第 (i-1) 位为 1 且从第 (i-2) 位到第 0 位都为 0，则翻转 n 的二进制表示中的第 i 位。\n",
    "    \n",
    "    返回将 n 转换为 0 的最小操作次数。\n",
    "\n",
    "示例 1：\n",
    "    输入：n = 0\n",
    "    输出：0\n",
    "\n",
    "示例 2：\n",
    "    输入：n = 3\n",
    "    输出：2\n",
    "    解释：\n",
    "        3 的二进制表示为 \"11\"\n",
    "        \"11\" -> \"01\" ，执行的是第 2 种操作，因为第 0 位为 1 。\n",
    "        \"01\" -> \"00\" ，执行的是第 1 种操作。\n",
    "\n",
    "示例 3：\n",
    "    输入：n = 6\n",
    "    输出：4\n",
    "    解释：\n",
    "        6 的二进制表示为 \"110\".\n",
    "        \"110\" -> \"010\" ，执行的是第 2 种操作，因为第 1 位为 1 ，第 0 到 0 位为 0 。\n",
    "        \"010\" -> \"011\" ，执行的是第 1 种操作。\n",
    "        \"011\" -> \"001\" ，执行的是第 2 种操作，因为第 0 位为 1 。\n",
    "        \"001\" -> \"000\" ，执行的是第 1 种操作。\n",
    "\n",
    "示例 4：\n",
    "    输入：n = 9\n",
    "    输出：14\n",
    "\n",
    "示例 5：\n",
    "    输入：n = 333\n",
    "    输出：393\n",
    " \n",
    "提示：\n",
    "    1、0 <= n <= 10^9"
   ]
  },
  {
   "cell_type": "markdown",
   "metadata": {},
   "source": [
    "<img src='1611.jpg' width=800>"
   ]
  },
  {
   "cell_type": "code",
   "execution_count": 44,
   "metadata": {},
   "outputs": [],
   "source": [
    "class Solution:\n",
    "    def minimumOneBitOperations(self, n: int) -> int:\n",
    "        bit_str = bin(n)[2:]\n",
    "        self.memo1, self.memo2 = {}, {}\n",
    "        res = self.dfs(bit_str)\n",
    "        return res\n",
    "    \n",
    "    def dfs(self, n):\n",
    "        if n == '0': \n",
    "            return 0\n",
    "        if n == '1': \n",
    "            return 1\n",
    "        if n in self.memo1: \n",
    "            return self.memo1[n]\n",
    "        if n[0] == '0': \n",
    "            return self.dfs(n[1:])\n",
    "        \n",
    "        m = n[1:]\n",
    "        p = '1' + '0' * (len(m) - 1)\n",
    "        cnt = self.helper(m) + 1 + self.dfs(p)\n",
    "        self.memo1[n] = cnt\n",
    "        return cnt\n",
    "    \n",
    "    def helper(self, n):\n",
    "        if n == '1':\n",
    "            return 0\n",
    "        if n == '0':\n",
    "            return 1\n",
    "        if n in self.memo2:\n",
    "            return self.memo2[n]\n",
    "        \n",
    "        if n[0] == '1':\n",
    "            cnt = self.dfs(n[1:])\n",
    "            self.memo2[n] = cnt\n",
    "            return cnt\n",
    "        \n",
    "        m = n[1:]\n",
    "        p = '1' + '0' * (len(m) - 1)\n",
    "        cnt = self.helper(m) + 1 + self.dfs(p)\n",
    "        self.memo2[n] = cnt\n",
    "        return cnt"
   ]
  },
  {
   "cell_type": "code",
   "execution_count": 45,
   "metadata": {},
   "outputs": [
    {
     "name": "stdout",
     "output_type": "stream",
     "text": [
      "01001101\n",
      "00\n",
      "000000\n",
      "00000\n",
      "0000\n",
      "000\n",
      "0000000\n"
     ]
    },
    {
     "data": {
      "text/plain": [
       "393"
      ]
     },
     "execution_count": 45,
     "metadata": {},
     "output_type": "execute_result"
    }
   ],
   "source": [
    "solution = Solution()\n",
    "solution.minimumOneBitOperations(333)"
   ]
  },
  {
   "cell_type": "code",
   "execution_count": 3,
   "metadata": {},
   "outputs": [
    {
     "data": {
      "text/plain": [
       "'0b1010'"
      ]
     },
     "execution_count": 3,
     "metadata": {},
     "output_type": "execute_result"
    }
   ],
   "source": [
    "bin(10)"
   ]
  },
  {
   "cell_type": "raw",
   "metadata": {},
   "source": [
    "开始的时候是 '1000' 想转换为 '1100' -> '0100'得到 '100'， 之后将 '100' 转换为 '000' 任务完成\n",
    "那么子问题就是如何将 '000' 转换为 '100'?\n",
    "    1、将 0['00'] -> 0['10'] -> 010 -> 110\n",
    "       那么就将 '000' 转换为 '100' 的问题 分解为 将 '00' 转换为 '10'\n",
    "       总共需要的步数：\n",
    "           010 -> 110  1 + '10'所需要的步数"
   ]
  }
 ],
 "metadata": {
  "kernelspec": {
   "display_name": "Python 3",
   "language": "python",
   "name": "python3"
  },
  "language_info": {
   "codemirror_mode": {
    "name": "ipython",
    "version": 3
   },
   "file_extension": ".py",
   "mimetype": "text/x-python",
   "name": "python",
   "nbconvert_exporter": "python",
   "pygments_lexer": "ipython3",
   "version": "3.6.2"
  }
 },
 "nbformat": 4,
 "nbformat_minor": 4
}
