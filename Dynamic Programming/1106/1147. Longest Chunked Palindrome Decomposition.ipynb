{
 "cells": [
  {
   "cell_type": "raw",
   "metadata": {},
   "source": [
    "说明：\n",
    "    段式回文 其实与 一般回文 类似，只不过是最小的单位是 一段字符 而不是 单个字母。\n",
    "    举个例子：\n",
    "        对于一般回文 \"abcba\" 是回文，而 \"volvo\" 不是，\n",
    "        但如果我们把 \"volvo\" 分为 \"vo\"、\"l\"、\"vo\" 三段，则可以认为 “(vo)(l)(vo)” 是段式回文（分为 3 段）。\n",
    "        \n",
    "    给你一个字符串 text，在确保它满足段式回文的前提下，请你返回 段 的 最大数量 k。\n",
    "    如果段的最大数量为 k，那么存在满足以下条件的 a_1, a_2, ..., a_k：\n",
    "        1、每个 a_i 都是一个非空字符串；\n",
    "        2、将这些字符串首位相连的结果 a_1 + a_2 + ... + a_k 和原始字符串 text 相同；\n",
    "        3、对于所有1 <= i <= k，都有 a_i = a_{k+1 - i}。\n",
    "示例 1：\n",
    "    输入：text = \"ghiabcdefhelloadamhelloabcdefghi\"\n",
    "    输出：7\n",
    "    解释：我们可以把字符串拆分成 \"(ghi)(abcdef)(hello)(adam)(hello)(abcdef)(ghi)\"。\n",
    "\n",
    "示例 2：\n",
    "    输入：text = \"merchant\"\n",
    "    输出：1\n",
    "    解释：我们可以把字符串拆分成 \"(merchant)\"。\n",
    "\n",
    "示例 3：\n",
    "    输入：text = \"antaprezatepzapreanta\"\n",
    "    输出：11\n",
    "    解释：我们可以把字符串拆分成 \"(a)(nt)(a)(pre)(za)(tpe)(za)(pre)(a)(nt)(a)\"。\n",
    "\n",
    "示例 4：\n",
    "    输入：text = \"aaa\"\n",
    "    输出：3\n",
    "    解释：我们可以把字符串拆分成 \"(a)(a)(a)\"。\n",
    "\n",
    "提示：\n",
    "    1、text 仅由小写英文字符组成。\n",
    "    2、1 <= text.length <= 1000"
   ]
  },
  {
   "cell_type": "code",
   "execution_count": 1,
   "metadata": {},
   "outputs": [],
   "source": [
    "class Solution:\n",
    "    def longestDecomposition(self, text: str) -> int:\n",
    "        pass"
   ]
  },
  {
   "cell_type": "code",
   "execution_count": 2,
   "metadata": {},
   "outputs": [],
   "source": [
    "solution = Solution()\n",
    "solution.longestDecomposition(\"ghiabcdefhelloadamhelloabcdefghi\")"
   ]
  },
  {
   "cell_type": "code",
   "execution_count": null,
   "metadata": {},
   "outputs": [],
   "source": [
    "sd"
   ]
  }
 ],
 "metadata": {
  "kernelspec": {
   "display_name": "Python 3",
   "language": "python",
   "name": "python3"
  },
  "language_info": {
   "codemirror_mode": {
    "name": "ipython",
    "version": 3
   },
   "file_extension": ".py",
   "mimetype": "text/x-python",
   "name": "python",
   "nbconvert_exporter": "python",
   "pygments_lexer": "ipython3",
   "version": "3.6.2"
  }
 },
 "nbformat": 4,
 "nbformat_minor": 4
}
