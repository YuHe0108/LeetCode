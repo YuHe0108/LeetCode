{
 "cells": [
  {
   "cell_type": "raw",
   "metadata": {},
   "source": [
    "说明：\n",
    "    Alice 和 Bob 用几堆石子在做游戏。几堆石子排成一行，每堆石子都对应一个得分，由数组 stoneValue 给出。\n",
    "\n",
    "    Alice 和 Bob 轮流取石子，Alice 总是先开始。\n",
    "    在每个玩家的回合中，该玩家可以拿走剩下石子中的的前 1、2 或 3 堆石子 。\n",
    "    比赛一直持续到所有石头都被拿走。\n",
    "\n",
    "    每个玩家的最终得分为他所拿到的每堆石子的对应得分之和。\n",
    "    每个玩家的初始分数都是 0 。\n",
    "    比赛的目标是决出最高分，得分最高的选手将会赢得比赛，比赛也可能会出现平局。\n",
    "\n",
    "    假设 Alice 和 Bob 都采取 最优策略 。\n",
    "    如果 Alice 赢了就返回 \"Alice\" ，Bob 赢了就返回 \"Bob\"，平局（分数相同）返回 \"Tie\" 。\n",
    "\n",
    "示例 1：\n",
    "    输入：values = [1,2,3,7]\n",
    "    输出：\"Bob\"\n",
    "    解释：Alice 总是会输，她的最佳选择是拿走前三堆，得分变成 6 。但是 Bob 的得分为 7，Bob 获胜。\n",
    "\n",
    "示例 2：\n",
    "    输入：values = [1,2,3,-9]\n",
    "    输出：\"Alice\"\n",
    "    解释：\n",
    "        Alice 要想获胜就必须在第一个回合拿走前三堆石子，给 Bob 留下负分。\n",
    "        如果 Alice 只拿走第一堆，那么她的得分为 1，接下来 Bob 拿走第二、三堆，得分为 5 。之后 Alice 只能拿到分数 -9 的石子堆，输掉比赛。\n",
    "        如果 Alice 拿走前两堆，那么她的得分为 3，接下来 Bob 拿走第三堆，得分为 3 。之后 Alice 只能拿到分数 -9 的石子堆，同样会输掉比赛。\n",
    "        注意，他们都应该采取 最优策略 ，所以在这里 Alice 将选择能够使她获胜的方案。\n",
    "\n",
    "示例 3：\n",
    "    输入：values = [1,2,3,6]\n",
    "    输出：\"Tie\"\n",
    "    解释：Alice 无法赢得比赛。如果她决定选择前三堆，她可以以平局结束比赛，否则她就会输。\n",
    "\n",
    "示例 4：\n",
    "    输入：values = [1,2,3,-1,-2,-3,7]\n",
    "    输出：\"Alice\"\n",
    "\n",
    "示例 5：\n",
    "    输入：values = [-1,-2,-3]\n",
    "    输出：\"Tie\"\n",
    "\n",
    "提示：\n",
    "    1、1 <= values.length <= 50000\n",
    "    2、-1000 <= values[i] <= 1000"
   ]
  },
  {
   "cell_type": "code",
   "execution_count": 23,
   "metadata": {},
   "outputs": [],
   "source": [
    "# 超时: 递归 \n",
    "# 决策问题\n",
    "class Solution:\n",
    "    def stoneGameIII(self, stoneValue) -> str:\n",
    "        self.memo = {}\n",
    "        res = self.dfs(stoneValue)\n",
    "        sum_val = sum(stoneValue)\n",
    "        if sum_val - res == res:\n",
    "            return 'Tie'\n",
    "        if sum_val - res > res:\n",
    "            return 'Bob'\n",
    "        return 'Alice'\n",
    "    \n",
    "    def dfs(self, values):\n",
    "        if not values:\n",
    "            return 0\n",
    "        key = tuple(values)\n",
    "        if key in self.memo:\n",
    "            return self.memo[key]\n",
    "        \n",
    "        dp = [0] * 3\n",
    "        sum_val = sum(values)\n",
    "        for i in range(3):\n",
    "            dp[i] = sum(values[:i+1]) + (sum_val - self.dfs(values[i+1:]))\n",
    "            \n",
    "        self.memo[key] = max(dp)\n",
    "        return max(dp)"
   ]
  },
  {
   "cell_type": "code",
   "execution_count": null,
   "metadata": {},
   "outputs": [],
   "source": [
    "# 决策问题\n",
    "class Solution:\n",
    "    def stoneGameIII(self, stoneValue) -> str:\n",
    "        res = self.dfs(tuple(stoneValue))\n",
    "        sum_val = sum(stoneValue)\n",
    "        if sum_val - res == res:\n",
    "            return 'Tie'\n",
    "        if sum_val - res > res:\n",
    "            return 'Bob'\n",
    "        return 'Alice'\n",
    "    \n",
    "    @lru_cache(None)\n",
    "    def dfs(self, values):\n",
    "        if not values:\n",
    "            return 0\n",
    "        dp = [0] * 3\n",
    "        sum_val = sum(values)\n",
    "        for i in range(3):\n",
    "            dp[i] = sum(values[:i+1]) + (sum_val - self.dfs(values[i+1:]))\n",
    "        return max(dp)"
   ]
  },
  {
   "cell_type": "code",
   "execution_count": 55,
   "metadata": {},
   "outputs": [],
   "source": [
    "class Solution:\n",
    "    def stoneGameIII(self, stoneValue) -> str:\n",
    "        N = len(stoneValue)\n",
    "        dp = [0] * (1 + N)\n",
    "        \n",
    "        dp[1] = stoneValue[0]\n",
    "        for i in range(N):\n",
    "            for j in range(3):\n",
    "                sub_sum = sum(stoneValue[i:i+j+1])\n",
    "                dp[i]\n",
    "                dp[i] = max(dp[i], sub_sum + memo[stoneValue[i+j+1:]])\n",
    "        print(dp)\n",
    "    \n",
    "        res = dp[-1]\n",
    "        sum_val = sum(stoneValue)\n",
    "        if sum_val - res == res:\n",
    "            return 'Tie'\n",
    "        if sum_val - res > res:\n",
    "            return 'Bob'\n",
    "        return 'Alice'"
   ]
  },
  {
   "cell_type": "markdown",
   "metadata": {},
   "source": [
    "<img src='1406.jpg'>"
   ]
  },
  {
   "cell_type": "code",
   "execution_count": 112,
   "metadata": {},
   "outputs": [],
   "source": [
    "class Solution:\n",
    "    def stoneGameIII(self, stoneValue) -> str:\n",
    "        N = len(stoneValue)\n",
    "        # dp[i] 表示在有第i个石头堆的  被拿走  的时候，最多能拿多少分\n",
    "        stoneValue.insert(0, 0)\n",
    "        presum = [0]\n",
    "        for i in range(1, N + 1):\n",
    "            presum.append(presum[-1] + stoneValue[i])\n",
    "        \n",
    "        dp = [-float('inf')] * (1 + N)\n",
    "        dp[N] = 0 # 在求dp[0] 的时候，需要知道dp[1], dp[2], dp[3], 所以循环从大往小求\n",
    "        for i in range(N-1, -1, -1): # N-1的时候，当前至少还能拿 1 堆\n",
    "            temp = 0\n",
    "            for k in range(1, 3 + 1): # i+k 已经被拿走了的堆数\n",
    "                if i + k > N:\n",
    "                    break\n",
    "                print(i+k, stoneValue)\n",
    "                temp += stoneValue[i+k]\n",
    "                dp[i] = max(dp[i], temp + presum[N] - presum[i+k] - dp[i+k])\n",
    "        print(dp)\n",
    "        res = dp[0]\n",
    "        sum_val = presum[-1]\n",
    "        if sum_val - res == res:\n",
    "            return 'Tie'\n",
    "        if sum_val - res > res:\n",
    "            return 'Bob'\n",
    "        return 'Alice'"
   ]
  },
  {
   "cell_type": "code",
   "execution_count": 113,
   "metadata": {},
   "outputs": [
    {
     "name": "stdout",
     "output_type": "stream",
     "text": [
      "4 [0, 1, 2, 3, 7]\n",
      "3 [0, 1, 2, 3, 7]\n",
      "4 [0, 1, 2, 3, 7]\n",
      "2 [0, 1, 2, 3, 7]\n",
      "3 [0, 1, 2, 3, 7]\n",
      "4 [0, 1, 2, 3, 7]\n",
      "1 [0, 1, 2, 3, 7]\n",
      "2 [0, 1, 2, 3, 7]\n",
      "3 [0, 1, 2, 3, 7]\n",
      "[6, 12, 10, 7, 0]\n"
     ]
    },
    {
     "data": {
      "text/plain": [
       "'Bob'"
      ]
     },
     "execution_count": 113,
     "metadata": {},
     "output_type": "execute_result"
    }
   ],
   "source": [
    "solution = Solution()\n",
    "solution.stoneGameIII([1,2,3,7])"
   ]
  },
  {
   "cell_type": "code",
   "execution_count": null,
   "metadata": {},
   "outputs": [],
   "source": []
  }
 ],
 "metadata": {
  "kernelspec": {
   "display_name": "Python 3",
   "language": "python",
   "name": "python3"
  },
  "language_info": {
   "codemirror_mode": {
    "name": "ipython",
    "version": 3
   },
   "file_extension": ".py",
   "mimetype": "text/x-python",
   "name": "python",
   "nbconvert_exporter": "python",
   "pygments_lexer": "ipython3",
   "version": "3.6.2"
  }
 },
 "nbformat": 4,
 "nbformat_minor": 4
}
