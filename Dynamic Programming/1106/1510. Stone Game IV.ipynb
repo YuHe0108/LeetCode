{
 "cells": [
  {
   "cell_type": "raw",
   "metadata": {},
   "source": [
    "说明：\n",
    "    Alice 和 Bob 两个人轮流玩一个游戏，Alice 先手。\n",
    "    一开始，有 n 个石子堆在一起。每个人轮流操作，正在操作的玩家可以从石子堆里拿走 任意 非零 平方数 个石子。\n",
    "    如果石子堆里没有石子了，则无法操作的玩家输掉游戏。\n",
    "    给你正整数 n ，且已知两个人都采取最优策略。如果 Alice 会赢得比赛，那么返回 True ，否则返回 False 。\n",
    "\n",
    "示例 1：\n",
    "    输入：n = 1\n",
    "    输出：true\n",
    "    解释：Alice 拿走 1 个石子并赢得胜利，因为 Bob 无法进行任何操作。\n",
    "\n",
    "示例 2：\n",
    "    输入：n = 2\n",
    "    输出：false\n",
    "    解释：Alice 只能拿走 1 个石子，然后 Bob 拿走最后一个石子并赢得胜利（2 -> 1 -> 0）。\n",
    "\n",
    "示例 3：\n",
    "    输入：n = 4\n",
    "    输出：true\n",
    "    解释：n 已经是一个平方数，Alice 可以一次全拿掉 4 个石子并赢得胜利（4 -> 0）。\n",
    "\n",
    "示例 4：\n",
    "    输入：n = 7\n",
    "    输出：false\n",
    "    解释：\n",
    "    当 Bob 采取最优策略时，Alice 无法赢得比赛。\n",
    "    如果 Alice 一开始拿走 4 个石子， Bob 会拿走 1 个石子，\n",
    "    然后 Alice 只能拿走 1 个石子，Bob 拿走最后一个石子并赢得胜利（7 -> 3 -> 2 -> 1 -> 0）。\n",
    "    如果 Alice 一开始拿走 1 个石子， Bob 会拿走 4 个石子，然后 Alice 只能拿走 1 个石子，\n",
    "    Bob 拿走最后一个石子并赢得胜利（7 -> 6 -> 2 -> 1 -> 0）。\n",
    "\n",
    "示例 5：\n",
    "    输入：n = 17\n",
    "    输出：false\n",
    "    解释：如果 Bob 采取最优策略，Alice 无法赢得胜利。\n",
    " \n",
    "提示：\n",
    "    1、1 <= n <= 10^5"
   ]
  },
  {
   "cell_type": "code",
   "execution_count": 70,
   "metadata": {},
   "outputs": [],
   "source": [
    "import math\n",
    "\n",
    "class Solution:\n",
    "    def winnerSquareGame(self, n: int) -> bool:\n",
    "        self.res = [0] * (n + 1)\n",
    "        for i in range(1, n + 1):\n",
    "            self.res[i] = -1\n",
    "        return self.solve(n)\n",
    "\n",
    "    def solve(self, n):\n",
    "        if self.res[n] != -1:\n",
    "            return self.res[n]\n",
    "        max_val = math.floor(math.sqrt(n))\n",
    "        for i in range(1, max_val + 1):\n",
    "            if self.solve(n - i * i) is False:\n",
    "                self.res[n] = 1\n",
    "                return True\n",
    "        self.res[n] = 0\n",
    "        return False"
   ]
  },
  {
   "cell_type": "code",
   "execution_count": 81,
   "metadata": {},
   "outputs": [],
   "source": [
    "class Solution:\n",
    "    def winnerSquareGame(self, n: int) -> bool:\n",
    "        dp = [0] * (n + 1)\n",
    "        #遍历当石头堆的数量：从1：n\n",
    "        # 并遍历不同石头数量下，所有 第一个玩家可以选择拿走石头的数量\n",
    "        for i in range(1, n + 1): \n",
    "            j = 1\n",
    "            while j * j <= i:\n",
    "                if dp[i - j * j] == 0: # i - j * j: 第一个玩家拿走 j*j个石头，剩余石头的数量对方一定输，则我们赢\n",
    "                    dp[i] = 1\n",
    "                    break\n",
    "                j += 1\n",
    "        return dp[-1] == 1 # 石头数量为n，且第一个玩家赢"
   ]
  },
  {
   "cell_type": "code",
   "execution_count": 82,
   "metadata": {},
   "outputs": [
    {
     "data": {
      "text/plain": [
       "True"
      ]
     },
     "execution_count": 82,
     "metadata": {},
     "output_type": "execute_result"
    }
   ],
   "source": [
    "solution = Solution()\n",
    "solution.winnerSquareGame(2)"
   ]
  },
  {
   "cell_type": "code",
   "execution_count": null,
   "metadata": {},
   "outputs": [],
   "source": [
    "max_val = int(math.sqrt(n)) # 第一次拿最多拿到的数量\n",
    "dp = [0] * (1 + max_val)\n",
    "for i in range(1, max_val + 1):\n",
    "    n = pow(i, 2)\n",
    "    print(n)"
   ]
  }
 ],
 "metadata": {
  "kernelspec": {
   "display_name": "Python 3",
   "language": "python",
   "name": "python3"
  },
  "language_info": {
   "codemirror_mode": {
    "name": "ipython",
    "version": 3
   },
   "file_extension": ".py",
   "mimetype": "text/x-python",
   "name": "python",
   "nbconvert_exporter": "python",
   "pygments_lexer": "ipython3",
   "version": "3.6.2"
  }
 },
 "nbformat": 4,
 "nbformat_minor": 4
}
