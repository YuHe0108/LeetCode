{
 "cells": [
  {
   "cell_type": "code",
   "execution_count": null,
   "metadata": {},
   "outputs": [],
   "source": []
  },
  {
   "cell_type": "code",
   "execution_count": null,
   "metadata": {},
   "outputs": [],
   "source": []
  },
  {
   "cell_type": "code",
   "execution_count": null,
   "metadata": {},
   "outputs": [],
   "source": []
  },
  {
   "cell_type": "code",
   "execution_count": 27,
   "metadata": {},
   "outputs": [],
   "source": [
    "class Solution:\n",
    "    def pathsWithMaxScore(self, board):\n",
    "        mod = pow(10, 9) + 7\n",
    "        rows, cols = len(board), len(board[0])\n",
    "        dp = [[-float('inf')] * (cols) for _  in range(rows)]\n",
    "        ways = [[0] * (cols) for _  in range(rows)]\n",
    "        dp[0][0] = 0\n",
    "        ways[0][0] = 1\n",
    "        for i in range(rows):\n",
    "            for j in range(cols):\n",
    "                if i == 0 and j == 0:\n",
    "                    continue\n",
    "                val = 0 if i == rows - 1 and j == cols - 1 else board[i][j]\n",
    "                if val == 'X':\n",
    "                    continue\n",
    "                # 统计最大值\n",
    "                sol1 = dp[i-1][j] if i - 1 >= 0 else -float('inf') # 三条不同的路径\n",
    "                sol2 = dp[i][j-1] if j - 1 >= 0 else -float('inf') # 三条不同的路径\n",
    "                sol3 = dp[i-1][j-1] if i - 1 >= 0 and j - 1 >= 0 else -float('inf') # 三条不同的路径\n",
    "                if sol1 == sol2 == sol3 == -float('inf'):\n",
    "                    continue\n",
    "                max_val =  max(sol1, sol2, sol3)\n",
    "                dp[i][j] = max(dp[i][j], max_val + int(val))\n",
    "                \n",
    "                # 统计路径数量\n",
    "                way1 = ways[i-1][j] if i - 1 >= 0 else 0 # 三条不同的路径\n",
    "                way2 = ways[i][j-1] if j - 1 >= 0 else 0 # 三条不同的路径\n",
    "                way3 = ways[i-1][j-1] if i - 1 >= 0 and j - 1 >= 0 else 0 # 三条不同的路径\n",
    "                if max_val == sol1:\n",
    "                    ways[i][j] += way1\n",
    "                if max_val == sol2:\n",
    "                    ways[i][j] += way2\n",
    "                if max_val == sol3:\n",
    "                    ways[i][j] += way3\n",
    "        max_sum = dp[-1][-1] if dp[-1][-1] != -float('inf') else 0\n",
    "        return [max_sum, ways[-1][-1] % mod]"
   ]
  },
  {
   "cell_type": "code",
   "execution_count": 28,
   "metadata": {},
   "outputs": [
    {
     "data": {
      "text/plain": [
       "[0, 0]"
      ]
     },
     "execution_count": 28,
     "metadata": {},
     "output_type": "execute_result"
    }
   ],
   "source": [
    "solution = Solution()\n",
    "solution.pathsWithMaxScore([\"E11\",\n",
    "                            \"XXX\",\n",
    "                            \"11S\"])"
   ]
  },
  {
   "cell_type": "code",
   "execution_count": null,
   "metadata": {},
   "outputs": [],
   "source": [
    "[[0,     1,     2], \n",
    " [-inf, -inf, -inf],\n",
    " [1,     2,     2]]"
   ]
  }
 ],
 "metadata": {
  "kernelspec": {
   "display_name": "Python 3",
   "language": "python",
   "name": "python3"
  },
  "language_info": {
   "codemirror_mode": {
    "name": "ipython",
    "version": 3
   },
   "file_extension": ".py",
   "mimetype": "text/x-python",
   "name": "python",
   "nbconvert_exporter": "python",
   "pygments_lexer": "ipython3",
   "version": "3.6.2"
  }
 },
 "nbformat": 4,
 "nbformat_minor": 4
}
