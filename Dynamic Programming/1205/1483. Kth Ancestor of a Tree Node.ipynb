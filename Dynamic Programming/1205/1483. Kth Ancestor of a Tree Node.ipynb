{
 "cells": [
  {
   "cell_type": "code",
   "execution_count": null,
   "metadata": {},
   "outputs": [],
   "source": []
  },
  {
   "cell_type": "code",
   "execution_count": null,
   "metadata": {},
   "outputs": [],
   "source": []
  },
  {
   "cell_type": "code",
   "execution_count": null,
   "metadata": {},
   "outputs": [],
   "source": []
  },
  {
   "cell_type": "raw",
   "metadata": {},
   "source": [
    "提示：\n",
    "    1、1 <= k <= n <= 5*10^4\n",
    "    2、parent[0] == -1 表示编号为 0 的节点是根节点。\n",
    "    3、对于所有的 0 < i < n ，0 <= parent[i] < n 总成立\n",
    "    4、0 <= node < n\n",
    "    5、至多查询 5*10^4 次"
   ]
  },
  {
   "cell_type": "raw",
   "metadata": {},
   "source": [
    "由此可知，如果我们预先知道每个node的2^i代祖先parent[node][i]，那么我们就能减少query的次数。这样能减少多少呢？\n",
    "对于node的k代祖先，只需要将k做二进制分解，有多少个为1的bit，就做多少次query。考虑到k<=5*10^4，最多只需要20次query，就能够实现查询任意k代祖先。\n",
    "\n",
    "ref: https://github.com/wisdompeak/LeetCode/tree/master/Binary_Search/1483.Kth-Ancestor-of-a-Tree-Node"
   ]
  },
  {
   "cell_type": "code",
   "execution_count": 1,
   "metadata": {},
   "outputs": [],
   "source": [
    "class TreeAncestor:\n",
    "\n",
    "    def __init__(self, n: int, parent):\n",
    "        self.parent = [[-1] * 20 for _ in range(n)]\n",
    "        for i in range(n):\n",
    "            self.parent[i][0] = parent[i]\n",
    "        \n",
    "        for j in range(1, 20):\n",
    "            for i in range(n):\n",
    "                prev = self.parent[i][j-1] # 当前 node 的\n",
    "                if prev != -1:\n",
    "                    self.parent[i][j] = self.parent[prev][j-1]\n",
    "\n",
    "    def getKthAncestor(self, node: int, k: int) -> int:\n",
    "        for i in range(20):\n",
    "            if ((k >> i) & 1):\n",
    "                node = self.parent[node][i]\n",
    "                if node == -1:\n",
    "                    break\n",
    "        return node\n",
    "\n",
    "# Your TreeAncestor object will be instantiated and called as such:\n",
    "# obj = TreeAncestor(n, parent)\n",
    "# param_1 = obj.getKthAncestor(node,k)"
   ]
  },
  {
   "cell_type": "code",
   "execution_count": 2,
   "metadata": {},
   "outputs": [
    {
     "data": {
      "text/plain": [
       "'0b101'"
      ]
     },
     "execution_count": 2,
     "metadata": {},
     "output_type": "execute_result"
    }
   ],
   "source": [
    "bin(5)"
   ]
  },
  {
   "cell_type": "code",
   "execution_count": 5,
   "metadata": {},
   "outputs": [
    {
     "data": {
      "text/plain": [
       "15.609640474436812"
      ]
     },
     "execution_count": 5,
     "metadata": {},
     "output_type": "execute_result"
    }
   ],
   "source": [
    "import math\n",
    "math.log2(50000)"
   ]
  },
  {
   "cell_type": "code",
   "execution_count": null,
   "metadata": {},
   "outputs": [],
   "source": []
  }
 ],
 "metadata": {
  "kernelspec": {
   "display_name": "Python 3",
   "language": "python",
   "name": "python3"
  },
  "language_info": {
   "codemirror_mode": {
    "name": "ipython",
    "version": 3
   },
   "file_extension": ".py",
   "mimetype": "text/x-python",
   "name": "python",
   "nbconvert_exporter": "python",
   "pygments_lexer": "ipython3",
   "version": "3.6.2"
  }
 },
 "nbformat": 4,
 "nbformat_minor": 4
}
