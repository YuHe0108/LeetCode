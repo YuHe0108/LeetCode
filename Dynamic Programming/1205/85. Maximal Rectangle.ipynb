{
 "cells": [
  {
   "cell_type": "code",
   "execution_count": null,
   "metadata": {},
   "outputs": [],
   "source": []
  },
  {
   "cell_type": "code",
   "execution_count": null,
   "metadata": {},
   "outputs": [],
   "source": []
  },
  {
   "cell_type": "code",
   "execution_count": null,
   "metadata": {},
   "outputs": [],
   "source": []
  },
  {
   "cell_type": "markdown",
   "metadata": {},
   "source": [
    "<img src='https://assets.leetcode.com/uploads/2020/09/14/maximal.jpg'>"
   ]
  },
  {
   "cell_type": "code",
   "execution_count": 60,
   "metadata": {},
   "outputs": [],
   "source": [
    "class Solution:\n",
    "    def maximalRectangle(self, matrix) -> int:\n",
    "        if not matrix or not matrix[0]:\n",
    "            return 0\n",
    "        r, c = len(matrix), len(matrix[0])\n",
    "        area = 0\n",
    "        for i in range(r):\n",
    "            rows = [0] * c\n",
    "            for j in range(i, r):\n",
    "                for k in range(c):\n",
    "                    if matrix[j][k] == '1':\n",
    "                        rows[k] += 1\n",
    "                    else:\n",
    "                        rows[k] = 0\n",
    "                area = max(area, self.calc_area(rows[::]))\n",
    "        return area\n",
    "    \n",
    "    def calc_area(self, nums):\n",
    "        nums = [0] + nums + [0]\n",
    "        stack = [0]\n",
    "        area = 0\n",
    "        for i in range(1, len(nums)):\n",
    "            h = nums[i]\n",
    "            while h < nums[stack[-1]]: # 只有大于栈顶元素的时候，才会加入\n",
    "                pre_h = nums[stack.pop()]\n",
    "                w = i - stack[-1] - 1\n",
    "                area = max(area, w * pre_h)\n",
    "            stack.append(i)\n",
    "        return area"
   ]
  },
  {
   "cell_type": "code",
   "execution_count": 61,
   "metadata": {},
   "outputs": [
    {
     "data": {
      "text/plain": [
       "6"
      ]
     },
     "execution_count": 61,
     "metadata": {},
     "output_type": "execute_result"
    }
   ],
   "source": [
    "solution = Solution()\n",
    "solution.maximalRectangle([[\"1\",\"0\",\"1\",\"0\",\"0\"],[\"1\",\"0\",\"1\",\"1\",\"1\"],[\"1\",\"1\",\"1\",\"1\",\"1\"],[\"1\",\"0\",\"0\",\"1\",\"0\"]])"
   ]
  },
  {
   "cell_type": "code",
   "execution_count": 5,
   "metadata": {},
   "outputs": [
    {
     "data": {
      "text/plain": [
       "False"
      ]
     },
     "execution_count": 5,
     "metadata": {},
     "output_type": "execute_result"
    }
   ],
   "source": []
  },
  {
   "cell_type": "code",
   "execution_count": null,
   "metadata": {},
   "outputs": [],
   "source": []
  }
 ],
 "metadata": {
  "kernelspec": {
   "display_name": "Python 3",
   "language": "python",
   "name": "python3"
  },
  "language_info": {
   "codemirror_mode": {
    "name": "ipython",
    "version": 3
   },
   "file_extension": ".py",
   "mimetype": "text/x-python",
   "name": "python",
   "nbconvert_exporter": "python",
   "pygments_lexer": "ipython3",
   "version": "3.6.2"
  }
 },
 "nbformat": 4,
 "nbformat_minor": 4
}
