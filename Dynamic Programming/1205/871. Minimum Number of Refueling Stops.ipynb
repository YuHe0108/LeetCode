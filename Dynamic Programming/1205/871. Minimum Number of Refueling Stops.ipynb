{
 "cells": [
  {
   "cell_type": "code",
   "execution_count": null,
   "metadata": {},
   "outputs": [],
   "source": []
  },
  {
   "cell_type": "code",
   "execution_count": null,
   "metadata": {},
   "outputs": [],
   "source": []
  },
  {
   "cell_type": "code",
   "execution_count": null,
   "metadata": {},
   "outputs": [],
   "source": []
  },
  {
   "cell_type": "code",
   "execution_count": 22,
   "metadata": {},
   "outputs": [],
   "source": [
    "import heapq\n",
    "from sortedcontainers import SortedList\n",
    "\n",
    "class Solution:\n",
    "    def minRefuelStops(self, target, startFuel, stations):\n",
    "        if startFuel >= target:\n",
    "            return 0\n",
    "        stations.append([target, 0])\n",
    "        cnt = 0 # 加油的次数\n",
    "        prev_pos = 0 # 开始的起点\n",
    "        fuels = SortedList()\n",
    "        for p, v in stations:\n",
    "            dis = p - prev_pos\n",
    "            if startFuel < dis:\n",
    "                while startFuel - dis < 0:\n",
    "                    if fuels:\n",
    "                        startFuel += fuels.pop()\n",
    "                        cnt += 1\n",
    "                    else:\n",
    "                        return -1\n",
    "            fuels.add(v)\n",
    "            prev_pos = p\n",
    "            startFuel -= dis\n",
    "        return cnt"
   ]
  },
  {
   "cell_type": "code",
   "execution_count": 23,
   "metadata": {},
   "outputs": [
    {
     "data": {
      "text/plain": [
       "-1"
      ]
     },
     "execution_count": 23,
     "metadata": {},
     "output_type": "execute_result"
    }
   ],
   "source": [
    "solution = Solution()\n",
    "solution.minRefuelStops(target = 100, startFuel = 1, stations = [[10,100]])"
   ]
  },
  {
   "cell_type": "code",
   "execution_count": 9,
   "metadata": {},
   "outputs": [],
   "source": [
    "data = []\n",
    "heapq.heappush(data, 10)\n",
    "heapq.heappush(data, 100)\n",
    "heapq.heappush(data, 200)"
   ]
  },
  {
   "cell_type": "code",
   "execution_count": 10,
   "metadata": {},
   "outputs": [
    {
     "data": {
      "text/plain": [
       "10"
      ]
     },
     "execution_count": 10,
     "metadata": {},
     "output_type": "execute_result"
    }
   ],
   "source": [
    "heapq.heappop(data)"
   ]
  },
  {
   "cell_type": "code",
   "execution_count": null,
   "metadata": {},
   "outputs": [],
   "source": []
  }
 ],
 "metadata": {
  "kernelspec": {
   "display_name": "Python 3",
   "language": "python",
   "name": "python3"
  },
  "language_info": {
   "codemirror_mode": {
    "name": "ipython",
    "version": 3
   },
   "file_extension": ".py",
   "mimetype": "text/x-python",
   "name": "python",
   "nbconvert_exporter": "python",
   "pygments_lexer": "ipython3",
   "version": "3.6.2"
  }
 },
 "nbformat": 4,
 "nbformat_minor": 4
}
