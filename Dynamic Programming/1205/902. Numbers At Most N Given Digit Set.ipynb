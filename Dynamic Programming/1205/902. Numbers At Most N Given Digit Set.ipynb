{
 "cells": [
  {
   "cell_type": "code",
   "execution_count": null,
   "metadata": {},
   "outputs": [],
   "source": []
  },
  {
   "cell_type": "code",
   "execution_count": null,
   "metadata": {},
   "outputs": [],
   "source": []
  },
  {
   "cell_type": "code",
   "execution_count": null,
   "metadata": {},
   "outputs": [],
   "source": []
  },
  {
   "cell_type": "code",
   "execution_count": null,
   "metadata": {},
   "outputs": [],
   "source": []
  },
  {
   "cell_type": "code",
   "execution_count": 90,
   "metadata": {},
   "outputs": [],
   "source": [
    "# 返回可以用 D 中的数字写出的小于或等于 N 的正整数的数目。\n",
    "class Solution:\n",
    "    def atMostNGivenDigitSet(self, digits, n: int) -> int:\n",
    "        def dfs(temp, pos):\n",
    "            if pos == s_n:\n",
    "                dp[-1] += 1\n",
    "                return \n",
    "            for i, s in enumerate(digits):\n",
    "                if s < int(s_n[pos]):\n",
    "                    dp[-1] += dp[max_len - 1 - i]\n",
    "                elif s == s_n[pos]:\n",
    "                    dfs(temp * 10 + s, pos+1)\n",
    "                \n",
    "        s_n = str(n)\n",
    "        digits = [int(x) for x in digits]\n",
    "        max_len = len(s_n) # 最大的长度, 一定不会超过这个长度\n",
    "        cnt = 0\n",
    "        if max_len == 1: # 只有一位数\n",
    "            for d in digits:\n",
    "                if d <= n:\n",
    "                    cnt += 1\n",
    "            return cnt\n",
    "        \n",
    "        dp = [0] * (1 + max_len)\n",
    "        dp[1] = len(digits)\n",
    "        for k in range(2, max_len):\n",
    "            dp[k] = dp[k-1] * len(digits)\n",
    "        \n",
    "        dfs(0, 0)\n",
    "        print(dp)\n",
    "        return sum(dp)"
   ]
  },
  {
   "cell_type": "code",
   "execution_count": 91,
   "metadata": {},
   "outputs": [
    {
     "name": "stdout",
     "output_type": "stream",
     "text": [
      "[0, 4, 8]\n"
     ]
    },
    {
     "data": {
      "text/plain": [
       "12"
      ]
     },
     "execution_count": 91,
     "metadata": {},
     "output_type": "execute_result"
    }
   ],
   "source": [
    "solution = Solution()\n",
    "solution.atMostNGivenDigitSet([\"3\",\"4\",\"5\",\"6\"], 64)"
   ]
  },
  {
   "cell_type": "code",
   "execution_count": 119,
   "metadata": {},
   "outputs": [],
   "source": [
    "class Solution:\n",
    "    def atMostNGivenDigitSet(self, digits, n: int) -> int:\n",
    "        def dfs(temp, pos):\n",
    "            nonlocal cnt\n",
    "            if pos == s_n_len: # temp == n, 如果长度相同\n",
    "                cnt += 1\n",
    "                return\n",
    "            for s in digits:\n",
    "                if s < s_n[pos]:\n",
    "                    cnt += pow(len(digits), s_n_len - 1 - pos)\n",
    "                elif s == s_n[pos]:\n",
    "                    dfs(temp * 10 + int(s), pos + 1)\n",
    "        cnt = 0\n",
    "        s_n = str(n)\n",
    "        s_n_len = len(s_n)\n",
    "        for i in range(1, s_n_len):\n",
    "            cnt += pow(len(digits), i)\n",
    "        dfs(0, 0)\n",
    "        return cnt"
   ]
  },
  {
   "cell_type": "code",
   "execution_count": 122,
   "metadata": {},
   "outputs": [
    {
     "name": "stdout",
     "output_type": "stream",
     "text": [
      "443\n"
     ]
    },
    {
     "data": {
      "text/plain": [
       "25"
      ]
     },
     "execution_count": 122,
     "metadata": {},
     "output_type": "execute_result"
    }
   ],
   "source": [
    "solution = Solution()\n",
    "solution.atMostNGivenDigitSet([\"3\",\"4\",\"8\"], 443)"
   ]
  },
  {
   "cell_type": "code",
   "execution_count": 59,
   "metadata": {},
   "outputs": [
    {
     "data": {
      "text/plain": [
       "False"
      ]
     },
     "execution_count": 59,
     "metadata": {},
     "output_type": "execute_result"
    }
   ],
   "source": [
    "'214215' > '51'"
   ]
  },
  {
   "cell_type": "code",
   "execution_count": 1,
   "metadata": {},
   "outputs": [
    {
     "data": {
      "text/plain": [
       "1"
      ]
     },
     "execution_count": 1,
     "metadata": {},
     "output_type": "execute_result"
    }
   ],
   "source": [
    "2 //2"
   ]
  },
  {
   "cell_type": "code",
   "execution_count": null,
   "metadata": {},
   "outputs": [],
   "source": []
  }
 ],
 "metadata": {
  "kernelspec": {
   "display_name": "Python 3",
   "language": "python",
   "name": "python3"
  },
  "language_info": {
   "codemirror_mode": {
    "name": "ipython",
    "version": 3
   },
   "file_extension": ".py",
   "mimetype": "text/x-python",
   "name": "python",
   "nbconvert_exporter": "python",
   "pygments_lexer": "ipython3",
   "version": "3.6.2"
  }
 },
 "nbformat": 4,
 "nbformat_minor": 4
}
