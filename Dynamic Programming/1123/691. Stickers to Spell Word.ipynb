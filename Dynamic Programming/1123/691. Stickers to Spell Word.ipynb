{
 "cells": [
  {
   "cell_type": "raw",
   "metadata": {},
   "source": [
    "    我们给出了 N 种不同类型的贴纸。每个贴纸上都有一个小写的英文单词。\n",
    "\n",
    "    你希望从自己的贴纸集合中裁剪单个字母并重新排列它们，从而拼写出给定的目标字符串 target。\n",
    "\n",
    "    如果你愿意的话，你可以不止一次地使用每一张贴纸，而且每一张贴纸的数量都是无限的。\n",
    "\n",
    "    拼出目标 target 所需的最小贴纸数量是多少？如果任务不可能，则返回 -1。\n",
    "\n",
    "示例 1：\n",
    "    输入：\n",
    "        [\"with\", \"example\", \"science\"], \"thehat\"\n",
    "    输出：\n",
    "        3\n",
    "    解释：\n",
    "        我们可以使用 2 个 \"with\" 贴纸，和 1 个 \"example\" 贴纸。\n",
    "        把贴纸上的字母剪下来并重新排列后，就可以形成目标 “thehat“ 了。\n",
    "        此外，这是形成目标字符串所需的最小贴纸数量。\n",
    "\n",
    "示例 2：\n",
    "    输入：\n",
    "        [\"notice\", \"possible\"], \"basicbasic\"\n",
    "    输出：\n",
    "        -1\n",
    "    解释：\n",
    "        我们不能通过剪切给定贴纸的字母来形成目标“basicbasic”。\n",
    " \n",
    "\n",
    "提示：\n",
    "    stickers 长度范围是 [1, 50]。\n",
    "    stickers 由小写英文单词组成（不带撇号）。\n",
    "    target 的长度在 [1, 15] 范围内，由小写字母组成。\n",
    "    在所有的测试案例中，所有的单词都是从 1000 个最常见的美国英语单词中随机选取的，目标是两个随机单词的串联。\n",
    "    时间限制可能比平时更具挑战性。预计 50 个贴纸的测试案例平均可在35ms内解决。"
   ]
  },
  {
   "cell_type": "code",
   "execution_count": 52,
   "metadata": {},
   "outputs": [],
   "source": [
    "class Solution:\n",
    "    def minStickers(self, stickers, target: str) -> int:\n",
    "        s_set, t_set = set(), set(target)\n",
    "        for s in stickers:\n",
    "            s_set |= set(s)\n",
    "        if len(s_set & t_set) != len(t_set):\n",
    "            return -1\n",
    "        \n",
    "        s2idx = []\n",
    "        for s in stickers:\n",
    "            temp = 0\n",
    "            for w in s:\n",
    "                temp |= (1 << (ord(w) - ord('a')))\n",
    "            s2idx.append(temp)\n",
    "        \n",
    "        bin_t = 0\n",
    "        for t in target:\n",
    "            bin_t |= (1 << (ord(t) - ord('a')))\n",
    "        \n",
    "        dp = [float('inf')] * bin_t\n",
    "        for t in range(bin_t):\n",
    "            temp_dp = dp[:]\n",
    "            for s in s2idx:\n",
    "                new_t = t | s\n",
    "                if temp_dp[new_t] > dp[t] + 1:\n",
    "                    temp_dp[new_t] = dp[t] + 1\n",
    "        return dp[-1]"
   ]
  },
  {
   "cell_type": "code",
   "execution_count": null,
   "metadata": {},
   "outputs": [],
   "source": [
    "solution = Solution()\n",
    "solution.minStickers([\"with\", \"example\", \"science\"], \"thehat\")"
   ]
  },
  {
   "cell_type": "code",
   "execution_count": 73,
   "metadata": {},
   "outputs": [],
   "source": [
    "class Solution:\n",
    "    def minStickers(self, stickers, target: str) -> int:\n",
    "        def find_next_status(status, pos_str):\n",
    "            for ch in pos_str:\n",
    "                for i in range(len(target)):\n",
    "                    if ch not in target:\n",
    "                        continue\n",
    "                    if ((status >> i) & 1) == 0 and target[i] == ch:\n",
    "                        status |= (1 << i)\n",
    "                        break\n",
    "            return status\n",
    "        \n",
    "        n = len(target)\n",
    "        dp = [float('inf')] * (1 << len(target))\n",
    "        dp[0] = 0\n",
    "        for status in range(1 << len(target)):\n",
    "            if dp[status] == float('inf'):\n",
    "                continue\n",
    "            for s in stickers:\n",
    "                new_status = find_next_status(status, s)\n",
    "                dp[new_status] = min(dp[new_status], dp[status] + 1)\n",
    "        return dp[-1] if dp[-1] != float('inf') else -1"
   ]
  },
  {
   "cell_type": "code",
   "execution_count": 74,
   "metadata": {},
   "outputs": [
    {
     "name": "stdout",
     "output_type": "stream",
     "text": [
      "[0, inf, inf, 1, 1, inf, inf, 2, inf, inf, inf, inf, inf, inf, inf, inf, inf, inf, inf, inf, 1, inf, inf, 2, inf, inf, inf, inf, inf, inf, inf, inf, inf, inf, inf, inf, inf, inf, inf, inf, inf, inf, inf, 2, inf, inf, inf, 3, inf, inf, inf, inf, inf, inf, inf, inf, inf, inf, inf, inf, inf, inf, inf, 3]\n"
     ]
    },
    {
     "data": {
      "text/plain": [
       "3"
      ]
     },
     "execution_count": 74,
     "metadata": {},
     "output_type": "execute_result"
    }
   ],
   "source": [
    "solution = Solution()\n",
    "solution.minStickers([\"with\", \"example\", \"science\"], \"thehat\")"
   ]
  },
  {
   "cell_type": "code",
   "execution_count": null,
   "metadata": {},
   "outputs": [],
   "source": [
    "class Solution {\n",
    "public:\n",
    "    int minStickers(vector<string>& stickers, string target) \n",
    "    {\n",
    "        int n = target.size();\n",
    "        vector<int>dp(1<<n,INT_MAX);\n",
    "        dp[0] = 0;\n",
    "\n",
    "        for (int state=0; state<(1<<n); state++)\n",
    "        {\n",
    "            if (dp[state]==INT_MAX) continue;\n",
    "            for (string str:stickers)\n",
    "            {\n",
    "                int new_state = findNextStatusByUsingStr(state,target,str);\n",
    "                dp[new_state] = min(dp[new_state], dp[state]+1);\n",
    "            }\n",
    "        }\n",
    "        return dp[(1<<n)-1]==INT_MAX?-1: dp[(1<<n)-1];\n",
    "    }\n",
    "    \n",
    "    int findNextStatusByUsingStr(int status, string target, string s)\n",
    "    {\n",
    "        int n = target.size();\n",
    "        for (auto ch:s)\n",
    "        {\n",
    "            // loop over each character in target, if equals to ch and not filled, then set as filled\n",
    "            for (int k=0; k<n; k++)\n",
    "            {\n",
    "                if (((status>>k)&1)==0 && target[k]==ch)\n",
    "                {\n",
    "                    status = status+(1<<k);   \n",
    "                    break;\n",
    "                }              \n",
    "            }\n",
    "        }\n",
    "        return status;\n",
    "    }\n",
    "};"
   ]
  }
 ],
 "metadata": {
  "kernelspec": {
   "display_name": "Python 3",
   "language": "python",
   "name": "python3"
  },
  "language_info": {
   "codemirror_mode": {
    "name": "ipython",
    "version": 3
   },
   "file_extension": ".py",
   "mimetype": "text/x-python",
   "name": "python",
   "nbconvert_exporter": "python",
   "pygments_lexer": "ipython3",
   "version": "3.6.2"
  }
 },
 "nbformat": 4,
 "nbformat_minor": 4
}
