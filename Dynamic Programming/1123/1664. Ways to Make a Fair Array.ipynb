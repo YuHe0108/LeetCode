{
 "cells": [
  {
   "cell_type": "raw",
   "metadata": {},
   "source": [
    "    给你一个整数数组 nums 。\n",
    "    你需要选择 恰好 一个下标（下标从 0 开始）并删除对应的元素。\n",
    "    请注意剩下元素的下标可能会因为删除操作而发生改变。\n",
    "\n",
    "    比方说，如果 nums = [6,1,7,4,1] ，那么：\n",
    "        选择删除下标 1 ，剩下的数组为 nums = [6,7,4,1] 。\n",
    "        选择删除下标 2 ，剩下的数组为 nums = [6,1,4,1] 。\n",
    "        选择删除下标 4 ，剩下的数组为 nums = [6,1,7,4] 。\n",
    "    \n",
    "    如果一个数组满足奇数下标元素的和与偶数下标元素的和相等，该数组就是一个 平衡数组 。\n",
    "\n",
    "    请你返回删除操作后，剩下的数组 nums 是 平衡数组 的 方案数 。\n",
    "\n",
    "示例 1：\n",
    "    输入：nums = [2,1,6,4]\n",
    "    输出：1\n",
    "    解释：\n",
    "        删除下标 0 ：[1,6,4] -> 偶数元素下标为：1 + 4 = 5 。奇数元素下标为：6 。不平衡。\n",
    "        删除下标 1 ：[2,6,4] -> 偶数元素下标为：2 + 4 = 6 。奇数元素下标为：6 。平衡。\n",
    "        删除下标 2 ：[2,1,4] -> 偶数元素下标为：2 + 4 = 6 。奇数元素下标为：1 。不平衡。\n",
    "        删除下标 3 ：[2,1,6] -> 偶数元素下标为：2 + 6 = 8 。奇数元素下标为：1 。不平衡。\n",
    "        只有一种让剩余数组成为平衡数组的方案。\n",
    "\n",
    "示例 2：\n",
    "    输入：nums = [1,1,1]\n",
    "    输出：3\n",
    "    解释：你可以删除任意元素，剩余数组都是平衡数组。\n",
    "\n",
    "示例 3：\n",
    "    输入：nums = [1,2,3]\n",
    "    输出：0\n",
    "    解释：不管删除哪个元素，剩下数组都不是平衡数组。\n",
    " \n",
    "\n",
    "提示：\n",
    "    1 <= nums.length <= 10^5\n",
    "    1 <= nums[i] <= 10^4"
   ]
  },
  {
   "cell_type": "code",
   "execution_count": 43,
   "metadata": {},
   "outputs": [],
   "source": [
    "class Solution:\n",
    "    def waysToMakeFair(self, nums) -> int:\n",
    "        even_sum = sum([x for i, x in enumerate(nums) if i % 2 == 0])\n",
    "        odd_sum = sum([x for i, x in enumerate(nums) if i % 2 == 1])\n",
    "        even_dict, odd_dict = {}, {}\n",
    "        even_total = odd_total = 0\n",
    "        for i in range(len(nums)):\n",
    "            n = nums[i]\n",
    "            if i % 2 == 0:\n",
    "                even_total += n\n",
    "            else:\n",
    "                odd_total += n\n",
    "            even_dict[i] = (even_total, even_sum - even_total)\n",
    "            odd_dict[i] = (odd_total, odd_sum - odd_total)\n",
    "        \n",
    "        cnt = 0\n",
    "        for i in range(len(nums)):\n",
    "            n = nums[i]\n",
    "            # 后面奇数下标变为偶数，前面的不变\n",
    "            if i % 2 == 0:\n",
    "                cur_even = even_dict[i][0] - n + odd_dict[i][1] \n",
    "                cur_odd = odd_dict[i][0] + even_dict[i][1]\n",
    "            else:\n",
    "                cur_even = even_dict[i][0] + odd_dict[i][1] \n",
    "                cur_odd = odd_dict[i][0] - n + even_dict[i][1]\n",
    "            if cur_even == cur_odd:\n",
    "                cnt += 1\n",
    "        return cnt"
   ]
  },
  {
   "cell_type": "code",
   "execution_count": 46,
   "metadata": {},
   "outputs": [
    {
     "data": {
      "text/plain": [
       "0"
      ]
     },
     "execution_count": 46,
     "metadata": {},
     "output_type": "execute_result"
    }
   ],
   "source": [
    "solution = Solution()\n",
    "solution.waysToMakeFair([1,2,3])"
   ]
  },
  {
   "cell_type": "code",
   "execution_count": null,
   "metadata": {},
   "outputs": [],
   "source": []
  },
  {
   "cell_type": "code",
   "execution_count": null,
   "metadata": {},
   "outputs": [],
   "source": []
  }
 ],
 "metadata": {
  "kernelspec": {
   "display_name": "Python 3",
   "language": "python",
   "name": "python3"
  },
  "language_info": {
   "codemirror_mode": {
    "name": "ipython",
    "version": 3
   },
   "file_extension": ".py",
   "mimetype": "text/x-python",
   "name": "python",
   "nbconvert_exporter": "python",
   "pygments_lexer": "ipython3",
   "version": "3.6.2"
  }
 },
 "nbformat": 4,
 "nbformat_minor": 4
}
