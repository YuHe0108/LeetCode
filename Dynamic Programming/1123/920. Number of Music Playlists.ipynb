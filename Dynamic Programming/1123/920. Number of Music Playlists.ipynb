{
 "cells": [
  {
   "cell_type": "raw",
   "metadata": {},
   "source": [
    "    你的音乐播放器里有 N 首不同的歌，在旅途中，你的旅伴想要听 L 首歌（不一定不同，即，允许歌曲重复）。请你为她按如下规则创建一个播放列表：\n",
    "        1、每首歌至少播放一次。\n",
    "        2、一首歌只有在其他 K 首歌播放完之后才能再次播放。\n",
    "    返回可以满足要求的播放列表的数量。由于答案可能非常大，请返回它模 10^9 + 7 的结果。\n",
    "\n",
    "示例 1：\n",
    "    输入：N = 3, L = 3, K = 1\n",
    "    输出：6\n",
    "    解释：有 6 种可能的播放列表。[1, 2, 3]，[1, 3, 2]，[2, 1, 3]，[2, 3, 1]，[3, 1, 2]，[3, 2, 1].\n",
    "\n",
    "示例 2：\n",
    "    输入：N = 2, L = 3, K = 0\n",
    "    输出：6\n",
    "    解释：有 6 种可能的播放列表。[1, 1, 2]，[1, 2, 1]，[2, 1, 1]，[2, 2, 1]，[2, 1, 2]，[1, 2, 2]\n",
    "\n",
    "示例 3：\n",
    "    输入：N = 2, L = 3, K = 1\n",
    "    输出：2\n",
    "    解释：有 2 种可能的播放列表。[1, 2, 1]，[2, 1, 2]\n",
    "\n",
    "提示：\n",
    "    0 <= K < N <= L <= 100"
   ]
  },
  {
   "cell_type": "code",
   "execution_count": 18,
   "metadata": {},
   "outputs": [],
   "source": [
    "class Solution:\n",
    "    def numMusicPlaylists(self, N: int, L: int, K: int) -> int:\n",
    "        # K  可以看作为相同歌曲之间的间隔\n",
    "        M = pow(10, 9) + 7\n",
    "        #　dp[i][j]表示有 i 个播放位置,总共用了 j 首歌的方案总数.\n",
    "        dp = [[0] * (N + 1) for _ in range(L + 1)] \n",
    "        dp[1][1] = N\n",
    "        \n",
    "        for i in range(2, L+1): # 有 2 个位置，一个位置选歌曲，能选择 N 种类\n",
    "            for j in range(1, min(N, i) + 1): # 从 1 ~ L 首歌曲里面选择\n",
    "                if j > K:\n",
    "                    dp[i][j] += dp[i-1][j] * (j - K)\n",
    "                if N > j - 1:\n",
    "                    dp[i][j] += dp[i-1][j-1] * (N - j + 1)\n",
    "        return dp[-1][-1] % M"
   ]
  },
  {
   "cell_type": "code",
   "execution_count": 20,
   "metadata": {},
   "outputs": [
    {
     "name": "stdout",
     "output_type": "stream",
     "text": [
      "[[0, 0, 0], [0, 2, 0], [0, 0, 2], [0, 0, 2]]\n"
     ]
    },
    {
     "data": {
      "text/plain": [
       "2"
      ]
     },
     "execution_count": 20,
     "metadata": {},
     "output_type": "execute_result"
    }
   ],
   "source": [
    "solution = Solution()\n",
    "solution.numMusicPlaylists(N = 2, L = 3, K = 1)"
   ]
  },
  {
   "cell_type": "raw",
   "metadata": {},
   "source": [
    "if (j>K)\n",
    "  dp[i][j] += dp[i-1][j]*(j-K)\n",
    "if (N>j-1)\n",
    "  dp[i][j] += dp[i-1][j-1]*(N-j+1)"
   ]
  },
  {
   "cell_type": "code",
   "execution_count": null,
   "metadata": {},
   "outputs": [],
   "source": []
  }
 ],
 "metadata": {
  "kernelspec": {
   "display_name": "Python 3",
   "language": "python",
   "name": "python3"
  },
  "language_info": {
   "codemirror_mode": {
    "name": "ipython",
    "version": 3
   },
   "file_extension": ".py",
   "mimetype": "text/x-python",
   "name": "python",
   "nbconvert_exporter": "python",
   "pygments_lexer": "ipython3",
   "version": "3.6.2"
  }
 },
 "nbformat": 4,
 "nbformat_minor": 4
}
