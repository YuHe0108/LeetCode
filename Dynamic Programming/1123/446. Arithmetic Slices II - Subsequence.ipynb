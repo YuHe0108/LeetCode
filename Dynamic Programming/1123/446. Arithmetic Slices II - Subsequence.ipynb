{
 "cells": [
  {
   "cell_type": "raw",
   "metadata": {},
   "source": [
    "        如果一个数列至少有三个元素，并且任意两个相邻元素之差相同，则称该数列为等差数列。\n",
    "\n",
    "        例如，以下数列为等差数列:\n",
    "            1, 3, 5, 7, 9\n",
    "            7, 7, 7, 7\n",
    "            3, -1, -5, -9\n",
    "        以下数列不是等差数列:1, 1, 2, 5, 7\n",
    "\n",
    "    数组 A 包含 N 个数，且索引从 0 开始。该数组子序列将划分为整数序列 (P0, P1, ..., Pk)，满足 0 ≤ P0 < P1 < ... < Pk < N。\n",
    "\n",
    "    如果序列 A[P0]，A[P1]，...，A[Pk-1]，A[Pk] 是等差的，那么数组 A 的子序列 (P0，P1，…，PK) 称为等差序列。值得注意的是，这意味着 k ≥ 2。\n",
    "\n",
    "    函数要返回数组 A 中所有等差子序列的个数。\n",
    "\n",
    "    输入包含 N 个整数。每个整数都在 -2^31 和 2^31-1 之间，另外 0 ≤ N ≤ 1000。保证输出小于 2^31-1。\n",
    "\n",
    "示例：\n",
    "    输入：[2, 4, 6, 8, 10]\n",
    "    输出：7\n",
    "    解释：所有的等差子序列为：\n",
    "                        [2,4,6]\n",
    "                        [4,6,8]\n",
    "                        [6,8,10]\n",
    "                        [2,4,6,8]\n",
    "                        [4,6,8,10]\n",
    "                        [2,4,6,8,10]\n",
    "                        [2,6,10]"
   ]
  },
  {
   "cell_type": "code",
   "execution_count": 22,
   "metadata": {},
   "outputs": [],
   "source": [
    "class Solution:\n",
    "    def numberOfArithmeticSlices(self, A) -> int:\n",
    "        # 采用 DFS的方式\n",
    "        self.res = []\n",
    "        self.dfs(A, -1, [])\n",
    "        return self.res\n",
    "    \n",
    "    def dfs(self, nums, idx, temp):\n",
    "        if len(temp) >= 3:\n",
    "            self.res.append(temp[:])\n",
    "        if idx == len(nums):\n",
    "            return\n",
    "        for i in range(idx+1, len(nums)):\n",
    "            if len(temp) >= 2:\n",
    "                if nums[i] - temp[-1] == temp[-1] - temp[-2]:\n",
    "                    temp.append(nums[i])\n",
    "                    self.dfs(nums, i, temp)\n",
    "                    temp.pop()\n",
    "                else:\n",
    "                    temp.pop()\n",
    "            else:\n",
    "                temp.append(nums[i])"
   ]
  },
  {
   "cell_type": "code",
   "execution_count": 41,
   "metadata": {},
   "outputs": [],
   "source": [
    "from collections import defaultdict\n",
    "\n",
    "class Solution:\n",
    "    def numberOfArithmeticSlices(self, A) -> int:\n",
    "        # dp[i][diff] 表示到 A 的 idx 位置时，以 dif 为 公差的等差数列为多少\n",
    "        # 最后遍历 dp[j][diff] ，其中值小于2的不计算\n",
    "        dp = defaultdict(dict)\n",
    "        n = len(A)\n",
    "        cnt = 0\n",
    "        for i in range(n):\n",
    "            for j in range(i+1, n):\n",
    "                dif = A[j] - A[i]\n",
    "                if i in dp and dif in dp[i]:\n",
    "                    dp[j][dif] = dp[i][dif] + 1\n",
    "                else:\n",
    "                    dp[j][dif] = 2\n",
    "                if dp[j][dif] >= 2:\n",
    "                    cnt += 1\n",
    "        print(dp, cnt)"
   ]
  },
  {
   "cell_type": "code",
   "execution_count": 81,
   "metadata": {},
   "outputs": [],
   "source": [
    "from collections import defaultdict\n",
    "\n",
    "class Solution:\n",
    "    def numberOfArithmeticSlices(self, A) -> int:\n",
    "        n = len(A)\n",
    "        dp = []\n",
    "        ret = 0\n",
    "        for i in range(n):\n",
    "            dp.append(defaultdict(int))\n",
    "            for j in range(i):\n",
    "                dif = A[i] - A[j]\n",
    "                dp[i][dif] += dp[j][dif] + 1\n",
    "                ret += dp[j][dif]\n",
    "        print(dp)\n",
    "        return ret"
   ]
  },
  {
   "cell_type": "code",
   "execution_count": 82,
   "metadata": {},
   "outputs": [
    {
     "name": "stdout",
     "output_type": "stream",
     "text": [
      "[defaultdict(<class 'int'>, {2: 0, 4: 0}), defaultdict(<class 'int'>, {2: 1}), defaultdict(<class 'int'>, {4: 1, 2: 2})]\n"
     ]
    },
    {
     "data": {
      "text/plain": [
       "1"
      ]
     },
     "execution_count": 82,
     "metadata": {},
     "output_type": "execute_result"
    }
   ],
   "source": [
    "solution = Solution()\n",
    "solution.numberOfArithmeticSlices([2, 4, 6])"
   ]
  },
  {
   "cell_type": "code",
   "execution_count": null,
   "metadata": {},
   "outputs": [],
   "source": []
  },
  {
   "cell_type": "code",
   "execution_count": null,
   "metadata": {},
   "outputs": [],
   "source": []
  }
 ],
 "metadata": {
  "kernelspec": {
   "display_name": "Python 3",
   "language": "python",
   "name": "python3"
  },
  "language_info": {
   "codemirror_mode": {
    "name": "ipython",
    "version": 3
   },
   "file_extension": ".py",
   "mimetype": "text/x-python",
   "name": "python",
   "nbconvert_exporter": "python",
   "pygments_lexer": "ipython3",
   "version": "3.6.2"
  }
 },
 "nbformat": 4,
 "nbformat_minor": 4
}
