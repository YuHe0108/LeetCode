{
 "cells": [
  {
   "cell_type": "raw",
   "metadata": {},
   "source": [
    "    如果一个数列至少有三个元素，并且任意两个相邻元素之差相同，则称该数列为等差数列。\n",
    "\n",
    "    例如，以下数列为等差数列:\n",
    "        1, 3, 5, 7, 9\n",
    "        7, 7, 7, 7\n",
    "        3, -1, -5, -9\n",
    "    以下数列不是等差数列:1, 1, 2, 5, 7\n",
    "\n",
    "    数组 A 包含 N 个数，且索引从0开始。数组 A 的一个子数组划分为数组 (P, Q)，P 与 Q 是整数且满足 0<=P<Q<N 。\n",
    "\n",
    "    如果满足以下条件，则称子数组(P, Q)为等差数组：\n",
    "\n",
    "    元素 A[P], A[p + 1], ..., A[Q - 1], A[Q] 是等差的。并且 P + 1 < Q 。\n",
    "\n",
    "    函数要返回数组 A 中所有为等差数组的子数组个数。\n",
    "\n",
    "\n",
    "示例:\n",
    "    A = [1, 2, 3, 4]\n",
    "\n",
    "    返回: 3, A 中有三个子等差数组: [1, 2, 3], [2, 3, 4] 以及自身 [1, 2, 3, 4]。"
   ]
  },
  {
   "cell_type": "code",
   "execution_count": 9,
   "metadata": {},
   "outputs": [],
   "source": [
    "from collections import defaultdict\n",
    "\n",
    "class Solution:\n",
    "    def numberOfArithmeticSlices(self, A) -> int:\n",
    "        n = len(A)\n",
    "        dp = [] * n\n",
    "        ret = 0\n",
    "        dp.append(defaultdict(int))\n",
    "        for i in range(1, n):\n",
    "            dp.append(defaultdict(int))\n",
    "            dif = A[i] - A[i-1]\n",
    "            dp[i][dif] = dp[i-1][dif] + 1\n",
    "            ret += dp[i-1][dif]\n",
    "        return ret"
   ]
  },
  {
   "cell_type": "code",
   "execution_count": 10,
   "metadata": {},
   "outputs": [
    {
     "data": {
      "text/plain": [
       "3"
      ]
     },
     "execution_count": 10,
     "metadata": {},
     "output_type": "execute_result"
    }
   ],
   "source": [
    "solution = Solution()\n",
    "solution.numberOfArithmeticSlices([1, 2, 3, 4])"
   ]
  },
  {
   "cell_type": "code",
   "execution_count": null,
   "metadata": {},
   "outputs": [],
   "source": []
  }
 ],
 "metadata": {
  "kernelspec": {
   "display_name": "Python 3",
   "language": "python",
   "name": "python3"
  },
  "language_info": {
   "codemirror_mode": {
    "name": "ipython",
    "version": 3
   },
   "file_extension": ".py",
   "mimetype": "text/x-python",
   "name": "python",
   "nbconvert_exporter": "python",
   "pygments_lexer": "ipython3",
   "version": "3.6.2"
  }
 },
 "nbformat": 4,
 "nbformat_minor": 4
}
