{
 "cells": [
  {
   "cell_type": "raw",
   "metadata": {},
   "source": [
    "说明：\n",
    "    给你一个大小为 rows x cols 的矩阵 grid 。\n",
    "    最初，你位于左上角 (0, 0) ，每一步，你可以在矩阵中 向右 或 向下 移动。\n",
    "    在从左上角 (0, 0) 开始到右下角 (rows - 1, cols - 1) 结束的所有路径中，找出具有 最大非负积 的路径。\n",
    "    路径的积是沿路径访问的单元格中所有整数的乘积。\n",
    "    返回 最大非负积 对 10^9 + 7 取余 的结果。\n",
    "    如果最大积为负数，则返回 -1 。\n",
    "    注意，取余是在得到最大积之后执行的。\n",
    "\n",
    "示例 1：\n",
    "    输入：grid = [[-1,-2,-3],\n",
    "                 [-2,-3,-3],\n",
    "                 [-3,-3,-2]]\n",
    "    输出：-1\n",
    "    解释：从 (0, 0) 到 (2, 2) 的路径中无法得到非负积，所以返回 -1\n",
    "\n",
    "示例 2：\n",
    "    输入：grid = [[1,-2,1],\n",
    "                 [1,-2,1],\n",
    "                 [3,-4,1]]\n",
    "    输出：8\n",
    "    解释：最大非负积对应的路径已经用粗体标出 (1 * 1 * -2 * -4 * 1 = 8)\n",
    "\n",
    "示例 3：\n",
    "    输入：grid = [[1, 3],\n",
    "                 [0,-4]]\n",
    "    输出：0\n",
    "    解释：最大非负积对应的路径已经用粗体标出 (1 * 0 * -4 = 0)\n",
    "\n",
    "示例 4：\n",
    "    输入：grid = [[ 1, 4,4,0],\n",
    "                 [-2, 0,0,1],\n",
    "                 [ 1,-1,1,1]]\n",
    "    输出：2\n",
    "    解释：最大非负积对应的路径已经用粗体标出 (1 * -2 * 1 * -1 * 1 * 1 = 2)\n",
    "\n",
    "提示：\n",
    "    1、1 <= rows, cols <= 15\n",
    "    2、-4 <= grid[i][j] <= 4"
   ]
  },
  {
   "cell_type": "code",
   "execution_count": 26,
   "metadata": {},
   "outputs": [],
   "source": [
    "class Solution:\n",
    "    def maxProductPath(self, grid) -> int:\n",
    "        M = pow(10, 9) + 7\n",
    "        rows, cols = len(grid), len(grid[0])\n",
    "        max_val = -float('inf')\n",
    "        max_dp = [[-float('inf')] * cols for _ in range(rows)] # 每个位置的最大值\n",
    "        min_dp = [[float('inf')] * cols for _ in range(rows)] # 保存每个位置路径的最小值\n",
    "        max_dp[0][0] = grid[0][0]\n",
    "        min_dp[0][0] = grid[0][0]\n",
    "        for i in range(rows):\n",
    "            for j in range(cols):\n",
    "                if i == 0 and j == 0:\n",
    "                    continue\n",
    "                if grid[i][j] > 0:\n",
    "                    if i - 1 >= 0 and j - 1 >= 0:\n",
    "                        max_dp[i][j] = max(max_dp[i][j], \n",
    "                                           max_dp[i][j-1] * grid[i][j], \n",
    "                                           max_dp[i-1][j] * grid[i][j])\n",
    "                        min_dp[i][j] = min(min_dp[i][j], \n",
    "                                           min_dp[i][j-1] * grid[i][j], \n",
    "                                           min_dp[i-1][j] * grid[i][j])\n",
    "                    elif i - 1 >= 0:\n",
    "                        max_dp[i][j] = max(max_dp[i][j], max_dp[i-1][j] * grid[i][j])\n",
    "                        min_dp[i][j] = min(min_dp[i][j], min_dp[i-1][j] * grid[i][j])\n",
    "                    elif j - 1 >= 0:\n",
    "                        max_dp[i][j] = max(max_dp[i][j], max_dp[i][j-1] * grid[i][j])\n",
    "                        min_dp[i][j] = min(min_dp[i][j], min_dp[i][j-1] * grid[i][j])\n",
    "                else:\n",
    "                    if i - 1 >= 0 and j - 1 >= 0:\n",
    "                        max_dp[i][j] = max(max_dp[i][j], \n",
    "                                           min_dp[i][j-1] * grid[i][j], \n",
    "                                           min_dp[i-1][j] * grid[i][j])\n",
    "                        min_dp[i][j] = min(min_dp[i][j], \n",
    "                                           max_dp[i][j-1] * grid[i][j], \n",
    "                                           max_dp[i-1][j] * grid[i][j])\n",
    "                    elif i - 1 >= 0:\n",
    "                        max_dp[i][j] = max(max_dp[i][j], min_dp[i-1][j] * grid[i][j])\n",
    "                        min_dp[i][j] = min(min_dp[i][j], min_dp[i-1][j] * grid[i][j])\n",
    "                    elif j - 1 >= 0:\n",
    "                        max_dp[i][j] = max(max_dp[i][j], min_dp[i][j-1] * grid[i][j])\n",
    "                        min_dp[i][j] = min(min_dp[i][j], max_dp[i][j-1] * grid[i][j])\n",
    "        # print(max_dp)\n",
    "        return -1 if max_dp[-1][-1] < 0 else max_dp[-1][-1] % M"
   ]
  },
  {
   "cell_type": "code",
   "execution_count": 31,
   "metadata": {},
   "outputs": [
    {
     "name": "stdout",
     "output_type": "stream",
     "text": [
      "[[-1, 2, -6], [2, -6, 18], [-6, 18, -36]]\n"
     ]
    },
    {
     "data": {
      "text/plain": [
       "-1"
      ]
     },
     "execution_count": 31,
     "metadata": {},
     "output_type": "execute_result"
    }
   ],
   "source": [
    "solution = Solution()\n",
    "solution.maxProductPath(grid = [[-1,-2,-3],\n",
    "                                [-2,-3,-3],\n",
    "                                [-3,-3,-2]])"
   ]
  },
  {
   "cell_type": "code",
   "execution_count": null,
   "metadata": {},
   "outputs": [],
   "source": []
  },
  {
   "cell_type": "code",
   "execution_count": null,
   "metadata": {},
   "outputs": [],
   "source": []
  }
 ],
 "metadata": {
  "kernelspec": {
   "display_name": "Python 3",
   "language": "python",
   "name": "python3"
  },
  "language_info": {
   "codemirror_mode": {
    "name": "ipython",
    "version": 3
   },
   "file_extension": ".py",
   "mimetype": "text/x-python",
   "name": "python",
   "nbconvert_exporter": "python",
   "pygments_lexer": "ipython3",
   "version": "3.6.2"
  }
 },
 "nbformat": 4,
 "nbformat_minor": 4
}
