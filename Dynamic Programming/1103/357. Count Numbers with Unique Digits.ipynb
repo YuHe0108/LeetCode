{
 "cells": [
  {
   "cell_type": "raw",
   "metadata": {},
   "source": [
    "说明：\n",
    "    给定一个非负整数 n，计算各位数字都不同的数字 x 的个数，其中 0 ≤ x < 10^n 。\n",
    "\n",
    "示例:\n",
    "    输入: 2\n",
    "    输出: 91 \n",
    "    解释: 答案应为除去 11,22,33,44,55,66,77,88,99 外，在 [0,100) 区间内的所有数字。"
   ]
  },
  {
   "cell_type": "code",
   "execution_count": 33,
   "metadata": {},
   "outputs": [],
   "source": [
    "class Solution:\n",
    "    def countNumbersWithUniqueDigits(self, n: int) -> int:\n",
    "        # 最多为 n 位\n",
    "        total = pow(10, n)\n",
    "        # 每两个位置相同都算\n",
    "        arr = [x for x in range(1, 10)]\n",
    "        self.res = []\n",
    "        self.dfs(arr, 0, [], n)\n",
    "        print(self.res, len(self.res))\n",
    "        return total - len(self.res)\n",
    "        \n",
    "    def dfs(self, arr, num, path, K):\n",
    "        if num in path and len(path) > 1:\n",
    "            self.res.append(list(path))\n",
    "        for n in arr:\n",
    "            if len(path) < K:\n",
    "                path.append(n)\n",
    "                self.dfs(arr, n, path, K)\n",
    "                path.pop()"
   ]
  },
  {
   "cell_type": "code",
   "execution_count": 42,
   "metadata": {},
   "outputs": [],
   "source": [
    "class Solution:\n",
    "    def countNumbersWithUniqueDigits(self, n: int) -> int:\n",
    "        # 最多为 n 位\n",
    "        total = pow(10, n)\n",
    "        # 每两个位置相同都算\n",
    "        arr = [x for x in range(1, 10)]\n",
    "        self.res = []\n",
    "        self.dfs(arr, 0, [], n)\n",
    "        print(self.res, len(self.res))\n",
    "        return total - len(self.res)\n",
    "        \n",
    "    def dfs(self, arr, num, path, K):\n",
    "        if num in path and len(path) > 1:\n",
    "            path.append(num)\n",
    "            self.res.append(list(path))\n",
    "            path.pop()\n",
    "        for n in arr:\n",
    "            if len(path) < K:\n",
    "                path.append(n)\n",
    "                self.dfs(arr, n, path, K)\n",
    "                path.pop()"
   ]
  },
  {
   "cell_type": "code",
   "execution_count": 43,
   "metadata": {},
   "outputs": [
    {
     "name": "stdout",
     "output_type": "stream",
     "text": [
      "[[1, 1, 1], [1, 2, 2], [1, 3, 3], [1, 4, 4], [1, 5, 5], [1, 6, 6], [1, 7, 7], [1, 8, 8], [1, 9, 9], [2, 1, 1], [2, 2, 2], [2, 3, 3], [2, 4, 4], [2, 5, 5], [2, 6, 6], [2, 7, 7], [2, 8, 8], [2, 9, 9], [3, 1, 1], [3, 2, 2], [3, 3, 3], [3, 4, 4], [3, 5, 5], [3, 6, 6], [3, 7, 7], [3, 8, 8], [3, 9, 9], [4, 1, 1], [4, 2, 2], [4, 3, 3], [4, 4, 4], [4, 5, 5], [4, 6, 6], [4, 7, 7], [4, 8, 8], [4, 9, 9], [5, 1, 1], [5, 2, 2], [5, 3, 3], [5, 4, 4], [5, 5, 5], [5, 6, 6], [5, 7, 7], [5, 8, 8], [5, 9, 9], [6, 1, 1], [6, 2, 2], [6, 3, 3], [6, 4, 4], [6, 5, 5], [6, 6, 6], [6, 7, 7], [6, 8, 8], [6, 9, 9], [7, 1, 1], [7, 2, 2], [7, 3, 3], [7, 4, 4], [7, 5, 5], [7, 6, 6], [7, 7, 7], [7, 8, 8], [7, 9, 9], [8, 1, 1], [8, 2, 2], [8, 3, 3], [8, 4, 4], [8, 5, 5], [8, 6, 6], [8, 7, 7], [8, 8, 8], [8, 9, 9], [9, 1, 1], [9, 2, 2], [9, 3, 3], [9, 4, 4], [9, 5, 5], [9, 6, 6], [9, 7, 7], [9, 8, 8], [9, 9, 9]] 81\n"
     ]
    },
    {
     "data": {
      "text/plain": [
       "19"
      ]
     },
     "execution_count": 43,
     "metadata": {},
     "output_type": "execute_result"
    }
   ],
   "source": [
    "solution = Solution()\n",
    "solution.countNumbersWithUniqueDigits(2)"
   ]
  },
  {
   "cell_type": "code",
   "execution_count": null,
   "metadata": {},
   "outputs": [],
   "source": [
    "class Solution:\n",
    "    def countNumbersWithUniqueDigits(self, n):\n",
    "        dp = [1, 10]\n",
    "        for i in range(2, n+1):\n",
    "            res = 81\n",
    "            for j in range(1, i-1):\n",
    "                res = res * (9 - j)\n",
    "            dp.append(dp[i - 1] + res)\n",
    "        return dp[n]"
   ]
  },
  {
   "cell_type": "code",
   "execution_count": 63,
   "metadata": {},
   "outputs": [],
   "source": [
    "class Solution:\n",
    "    def countNumbersWithUniqueDigits(self, n):\n",
    "        unique = 10\n",
    "        multi = 9\n",
    "        for i in range(1, n):\n",
    "            multi *= (10 - i)\n",
    "            unique += multi\n",
    "        return unique"
   ]
  },
  {
   "cell_type": "code",
   "execution_count": 64,
   "metadata": {},
   "outputs": [
    {
     "name": "stdout",
     "output_type": "stream",
     "text": [
      "91 81\n"
     ]
    },
    {
     "data": {
      "text/plain": [
       "91"
      ]
     },
     "execution_count": 64,
     "metadata": {},
     "output_type": "execute_result"
    }
   ],
   "source": [
    "solution = Solution()\n",
    "solution.countNumbersWithUniqueDigits(2)"
   ]
  },
  {
   "cell_type": "code",
   "execution_count": 55,
   "metadata": {},
   "outputs": [
    {
     "data": {
      "text/plain": [
       "0"
      ]
     },
     "execution_count": 55,
     "metadata": {},
     "output_type": "execute_result"
    }
   ],
   "source": []
  },
  {
   "cell_type": "code",
   "execution_count": null,
   "metadata": {},
   "outputs": [],
   "source": [
    "class Solution:\n",
    "    def countNumbersWithUniqueDigits(self, n: int) -> int:\n",
    "        if n <= 0 or n > 10:\n",
    "            return 1\n",
    "        dp = [0] * (n+1)\n",
    "        dp[1] = 9\n",
    "        for i in range(2, n+1):\n",
    "            dp[i] = dp[i-1] * (11-i)\n",
    "        \n",
    "        return sum(dp[i] for i in range(1, n+1)) + 1\n",
    "    "
   ]
  },
  {
   "cell_type": "code",
   "execution_count": 65,
   "metadata": {},
   "outputs": [],
   "source": [
    "class Solution:\n",
    "    def countNumbersWithUniqueDigits(self, n):\n",
    "        unique = 10\n",
    "        multi = 9\n",
    "        for i in range(1, n):\n",
    "            multi *= (10 - i)\n",
    "            unique += multi\n",
    "        return unique"
   ]
  },
  {
   "cell_type": "raw",
   "metadata": {},
   "source": [
    "    这道题其实就是一道数学题。\n",
    "    考虑一位数的情况，有10个，分别是0-9。\n",
    "    考虑两位数的情况，十位上只能从1-9中选择，个位上是从0-9中不同于十位数的剩下9个数中选择：9×9=81\n",
    "    考虑三位数的情况，百位上有9种选择，十位有9种（除去百位上的数），个位有8种（除去百位跟十位的数）：9×9×8=648\n",
    "    如此类推：对于n位的数，第n位有9种选择，第n-i位有10-i种选择。\n",
    "    所以当n=2时，就是把一位数跟两位数的结果相加：10+81=91。当n=3时，就是把一位数，两位数和三位数的结果相加：10+81+648=739\n",
    "    按照这种思路，直接用代码实现出来即可。需要注意的是，当n>10时，结果是等同于n=10，在代码里i = 10时，multi *= (10 - i) =0实现了n>10后，结果等于n=10的效果。\n",
    "参考链接：https://blog.csdn.net/camellhf/article/details/52711660"
   ]
  },
  {
   "cell_type": "code",
   "execution_count": null,
   "metadata": {},
   "outputs": [],
   "source": []
  }
 ],
 "metadata": {
  "kernelspec": {
   "display_name": "Python 3",
   "language": "python",
   "name": "python3"
  },
  "language_info": {
   "codemirror_mode": {
    "name": "ipython",
    "version": 3
   },
   "file_extension": ".py",
   "mimetype": "text/x-python",
   "name": "python",
   "nbconvert_exporter": "python",
   "pygments_lexer": "ipython3",
   "version": "3.6.2"
  }
 },
 "nbformat": 4,
 "nbformat_minor": 4
}
