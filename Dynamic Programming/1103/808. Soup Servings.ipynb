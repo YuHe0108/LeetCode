{
 "cells": [
  {
   "cell_type": "raw",
   "metadata": {},
   "source": [
    "说明：\n",
    "    有 A 和 B 两种类型的汤。一开始每种类型的汤有 N 毫升。有四种分配操作：\n",
    "        1、提供 100ml 的汤A 和 0ml 的汤B。\n",
    "        2、提供 75ml 的汤A 和 25ml 的汤B。\n",
    "        3、提供 50ml 的汤A 和 50ml 的汤B。\n",
    "        4、提供 25ml 的汤A 和 75ml 的汤B。\n",
    "    当我们把汤分配给某人之后，汤就没有了。\n",
    "    每个回合，我们将从四种概率同为0.25的操作中进行分配选择。\n",
    "    如果汤的剩余量不足以完成某次操作，我们将尽可能分配。\n",
    "    当两种类型的汤都分配完时，停止操作。\n",
    "    注意不存在先分配100 ml汤B的操作。\n",
    "\n",
    "需要返回的值： \n",
    "    汤A先分配完的概率 + 汤A和汤B同时分配完的概率 / 2。\n",
    "\n",
    "示例:\n",
    "    输入: N = 50\n",
    "    输出: 0.625\n",
    "    解释:\n",
    "        如果我们选择前两个操作，A将首先变为空。\n",
    "        对于第三个操作，A和B会同时变为空。\n",
    "        对于第四个操作，B将首先变为空。\n",
    "        所以A变为空的总概率加上A和B同时变为空的概率的一半是 0.25 *(1 + 1 + 0.5 + 0)= 0.625。\n",
    "\n",
    "注释:\n",
    "    1、0 <= N <= 10^9。\n",
    "    2、返回值在 10^-6 的范围将被认为是正确的。"
   ]
  },
  {
   "cell_type": "code",
   "execution_count": 7,
   "metadata": {},
   "outputs": [],
   "source": [
    "from functools import lru_cache\n",
    "\n",
    "class Solution:\n",
    "    def soupServings(self, N: int) -> float:\n",
    "        if N > 5000: # 当汤足够多的时候，一定A先空，所以概率为1\n",
    "            return 1\n",
    "        return self.dfs(N, N)\n",
    "    \n",
    "    @lru_cache(None)\n",
    "    def dfs(self, A, B):\n",
    "        if A <= 0 and B > 0: return 1 # A先空\n",
    "        if A <= 0 and B <= 0: return 0.5 #　A和B同时为空\n",
    "        if A > 0 and B <= 0: return 0 # B 先空的话，两个都不可能满足，返回为0\n",
    "        return 0.25 * (self.dfs(A-100, B) + self.dfs(A-75, B-25) + self.dfs(A-50, B-50) + self.dfs(A-25, B-75))"
   ]
  },
  {
   "cell_type": "code",
   "execution_count": 8,
   "metadata": {},
   "outputs": [
    {
     "data": {
      "text/plain": [
       "0.625"
      ]
     },
     "execution_count": 8,
     "metadata": {},
     "output_type": "execute_result"
    }
   ],
   "source": [
    "solution = Solution()\n",
    "solution.soupServings(50)"
   ]
  },
  {
   "cell_type": "code",
   "execution_count": null,
   "metadata": {},
   "outputs": [],
   "source": []
  }
 ],
 "metadata": {
  "kernelspec": {
   "display_name": "Python 3",
   "language": "python",
   "name": "python3"
  },
  "language_info": {
   "codemirror_mode": {
    "name": "ipython",
    "version": 3
   },
   "file_extension": ".py",
   "mimetype": "text/x-python",
   "name": "python",
   "nbconvert_exporter": "python",
   "pygments_lexer": "ipython3",
   "version": "3.6.2"
  }
 },
 "nbformat": 4,
 "nbformat_minor": 4
}
