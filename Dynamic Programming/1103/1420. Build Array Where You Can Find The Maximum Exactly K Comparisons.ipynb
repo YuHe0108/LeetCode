{
 "cells": [
  {
   "cell_type": "raw",
   "metadata": {},
   "source": [
    "说明：\n",
    "    给你三个整数 n、m 和 k 。\n",
    "    下图描述的算法用于找出正整数数组中最大的元素。"
   ]
  },
  {
   "cell_type": "markdown",
   "metadata": {},
   "source": [
    "<img src='https://assets.leetcode-cn.com/aliyun-lc-upload/uploads/2020/04/19/e.png'>"
   ]
  },
  {
   "cell_type": "raw",
   "metadata": {},
   "source": [
    "请你生成一个具有下述属性的数组 arr ：\n",
    "    1、arr 中有 n 个整数。\n",
    "    2、1 <= arr[i] <= m 其中 (0 <= i < n) 。\n",
    "    3、将上面提到的算法应用于 arr ，search_cost 的值等于 k 。\n",
    "    4、返回上述条件下生成数组 arr 的 方法数 ，由于答案可能会很大，所以 必须 对 10^9 + 7 取余。\n",
    "\n",
    "1、n：要求生成array的长度\n",
    "2、arr[i]的取值范围 1 ~ m\n",
    "3、search cost 是 k\n",
    "4、返回所有可能的数组个数，并将最终结果取余\n",
    "\n",
    "示例 1：\n",
    "    输入：n = 2, m = 3, k = 1\n",
    "    输出：6\n",
    "    解释：可能的数组分别为 [1, 1], [2, 1], [2, 2], [3, 1], [3, 2] [3, 3]\n",
    "\n",
    "示例 2：\n",
    "    输入：n = 5, m = 2, k = 3\n",
    "    输出：0\n",
    "    解释：没有数组可以满足上述条件\n",
    "\n",
    "示例 3：\n",
    "    输入：n = 9, m = 1, k = 1\n",
    "    输出：1\n",
    "    解释：可能的数组只有 [1, 1, 1, 1, 1, 1, 1, 1, 1]\n",
    "\n",
    "示例 4：\n",
    "    输入：n = 50, m = 100, k = 25\n",
    "    输出：34549172\n",
    "    解释：不要忘了对 1000000007 取余\n",
    "\n",
    "示例 5：\n",
    "    输入：n = 37, m = 17, k = 7\n",
    "    输出：418930126\n",
    " \n",
    "提示：\n",
    "    1、1 <= n <= 50\n",
    "    2、1 <= m <= 100\n",
    "    3、0 <= k <= n"
   ]
  },
  {
   "cell_type": "code",
   "execution_count": 22,
   "metadata": {},
   "outputs": [],
   "source": [
    "class Solution:\n",
    "    def numOfArrays(self, n: int, m: int, k: int) -> int:\n",
    "        M = pow(10, 9) + 7\n",
    "        arr = [x for x in range(1, m+1)]\n",
    "        self.res = 0\n",
    "        self.dfs(arr, n, k, [])\n",
    "        return self.res % M\n",
    "        \n",
    "    def dfs(self, arr, n, k, path):\n",
    "        if len(path) == n:\n",
    "            if path[k] == max(path):\n",
    "                self.res += 1\n",
    "            return\n",
    "        for num in arr:\n",
    "            if len(path) > k and path[k] != max(path):\n",
    "                continue\n",
    "            path.append(num)\n",
    "            self.dfs(arr, n, k, path)\n",
    "            path.pop()"
   ]
  },
  {
   "cell_type": "markdown",
   "metadata": {},
   "source": [
    "<img src='1420.jpg'>"
   ]
  },
  {
   "cell_type": "code",
   "execution_count": 98,
   "metadata": {},
   "outputs": [],
   "source": [
    "class Solution:\n",
    "    def numOfArrays(self, n: int, m: int, k: int) -> int:\n",
    "        M = pow(10, 9) + 7\n",
    "        dp = [[[0] * (k + 1) for _ in range(m + 1)] for _ in range(n)]\n",
    "        \n",
    "        for i in range(1, m+1):\n",
    "            dp[0][i][1] = 1 # 如果只有一个元素，一定会消耗一个seach cost\n",
    "        \n",
    "        for i in range(1, n):\n",
    "            for j in range(1, m+1):\n",
    "                for l in range(1, k+1):\n",
    "                    for t in range(1, j):\n",
    "                        dp[i][j][l] += dp[i-1][t][l-1]\n",
    "                    # 第i个元素不是最大值，那么第i个元素有 j 种取值的可能性，从 1~j\n",
    "                    dp[i][j][l] += dp[i-1][j][l] * j\n",
    "        res = 0\n",
    "        for j in range(1, m+1):\n",
    "            res += dp[-1][j][k]\n",
    "        return res % M"
   ]
  },
  {
   "cell_type": "code",
   "execution_count": 100,
   "metadata": {},
   "outputs": [
    {
     "data": {
      "text/plain": [
       "34549172"
      ]
     },
     "execution_count": 100,
     "metadata": {},
     "output_type": "execute_result"
    }
   ],
   "source": [
    "solution = Solution()\n",
    "solution.numOfArrays(n = 50, m = 100, k = 25)"
   ]
  },
  {
   "cell_type": "code",
   "execution_count": 74,
   "metadata": {},
   "outputs": [
    {
     "name": "stdout",
     "output_type": "stream",
     "text": [
      "[[0, 0], [0, 0], [0, 0]]\n"
     ]
    }
   ],
   "source": [
    "dp = [[0] * 2 for _ in range(3)]\n",
    "print(dp)"
   ]
  },
  {
   "cell_type": "code",
   "execution_count": null,
   "metadata": {},
   "outputs": [],
   "source": [
    "[[[0, 0, 0, 0], [0, 1, 0, 0], [0, 1, 0, 0]], \n",
    " [[0, 0, 0, 0], [0, 1, 0, 0], [0, 2, 1, 0]], \n",
    " [[0, 0, 0, 0], [0, 1, 0, 0], [0, 4, 4, 1]], \n",
    " [[0, 0, 0, 0], [0, 1, 0, 0], [0, 8, 12, 6]], \n",
    " [[0, 0, 0, 0], [0, 1, 0, 0], [0, 16, 32, 24]]]"
   ]
  },
  {
   "cell_type": "code",
   "execution_count": null,
   "metadata": {},
   "outputs": [],
   "source": []
  }
 ],
 "metadata": {
  "kernelspec": {
   "display_name": "Python 3",
   "language": "python",
   "name": "python3"
  },
  "language_info": {
   "codemirror_mode": {
    "name": "ipython",
    "version": 3
   },
   "file_extension": ".py",
   "mimetype": "text/x-python",
   "name": "python",
   "nbconvert_exporter": "python",
   "pygments_lexer": "ipython3",
   "version": "3.6.2"
  }
 },
 "nbformat": 4,
 "nbformat_minor": 4
}
