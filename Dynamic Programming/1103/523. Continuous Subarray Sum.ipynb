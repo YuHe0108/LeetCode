{
 "cells": [
  {
   "cell_type": "raw",
   "metadata": {},
   "source": [
    "说明：\n",
    "    给定一个包含 非负数 的数组和一个目标 整数 k，编写一个函数来判断该数组是否含有连续的子数组，其大小至少为 2，\n",
    "    且总和为 k 的倍数，即总和为 n*k，其中 n 也是一个整数。\n",
    "\n",
    "示例 1：\n",
    "    输入：[23,2,4,6,7], k = 6\n",
    "    输出：True\n",
    "    解释：[2,4] 是一个大小为 2 的子数组，并且和为 6。\n",
    "\n",
    "示例 2：\n",
    "    输入：[23,2,6,4,7], k = 6\n",
    "    输出：True\n",
    "    解释：[23,2,6,4,7]是大小为 5 的子数组，并且和为 42。\n",
    "\n",
    "说明：\n",
    "    1、数组的长度不会超过 10,000 。\n",
    "    2、你可以认为所有数字总和在 32 位有符号整数范围内。"
   ]
  },
  {
   "cell_type": "code",
   "execution_count": 29,
   "metadata": {},
   "outputs": [],
   "source": [
    "# 前缀和\n",
    "class Solution:\n",
    "    def checkSubarraySum(self, nums, k: int) -> bool:\n",
    "        pre_sum = [0, nums[0]]\n",
    "        for i in range(1, len(nums)):\n",
    "            pre_sum.append(pre_sum[-1] + nums[i])\n",
    "        \n",
    "        print(pre_sum)\n",
    "        for gap in range(2, len(pre_sum)):\n",
    "            for start in range(len(pre_sum) - gap):\n",
    "                end = start + gap\n",
    "                if (pre_sum[end] - pre_sum[start]) % k:\n",
    "                    return True\n",
    "        return False"
   ]
  },
  {
   "cell_type": "code",
   "execution_count": 30,
   "metadata": {},
   "outputs": [
    {
     "name": "stdout",
     "output_type": "stream",
     "text": [
      "[0, 23, 25, 31, 35, 42]\n",
      "0 25\n",
      "23 31\n",
      "25 35\n",
      "31 42\n",
      "0 31\n",
      "23 35\n",
      "25 42\n",
      "0 35\n",
      "23 42\n",
      "0 42\n"
     ]
    },
    {
     "data": {
      "text/plain": [
       "False"
      ]
     },
     "execution_count": 30,
     "metadata": {},
     "output_type": "execute_result"
    }
   ],
   "source": [
    "solution = Solution()\n",
    "solution.checkSubarraySum([23,2,6,4,7], k = 6)"
   ]
  },
  {
   "cell_type": "code",
   "execution_count": null,
   "metadata": {},
   "outputs": [],
   "source": [
    "class Solution:\n",
    "    def checkSubarraySum(self, nums, k: int) -> bool:\n",
    "        pre_sum = [0, nums[0]]\n",
    "        for i in range(1, len(nums)):\n",
    "            pre_sum.append(pre_sum[-1] + nums[i])\n",
    "        \n",
    "        # print(pre_sum)\n",
    "        for gap in range(2, len(pre_sum)):\n",
    "            for start in range(len(pre_sum) - gap):\n",
    "                gap_sum = pre_sum[start + gap] - pre_sum[start]\n",
    "                if k == 0:\n",
    "                    if gap_sum == 0:\n",
    "                        return True\n",
    "                elif gap_sum % k == 0:\n",
    "                    return True\n",
    "        return False"
   ]
  },
  {
   "cell_type": "code",
   "execution_count": 53,
   "metadata": {},
   "outputs": [],
   "source": [
    "class Solution:\n",
    "    def checkSubarraySum(self, nums, k: int) -> bool:\n",
    "        # 前缀和：对k同余数\n",
    "        if len(nums) <= 1: return False\n",
    "        if k == 0:\n",
    "            for i in range(len(nums) - 1):\n",
    "                if nums[i] == 0 and nums[i+1] == 0:\n",
    "                    return True\n",
    "            return False\n",
    "        \n",
    "        presum_1 = 0\n",
    "        presum_2 = 0\n",
    "        mod_val = {0}\n",
    "        for i in range(len(nums)):\n",
    "            presum_1 += nums[i]\n",
    "            if i >= 2:\n",
    "                presum_2 += nums[i-2]\n",
    "                mod_val.add(presum_2 % k)\n",
    "            if i >= 1 and presum_1 % k in mod_val:\n",
    "                return True\n",
    "        return False    "
   ]
  },
  {
   "cell_type": "code",
   "execution_count": 54,
   "metadata": {},
   "outputs": [
    {
     "name": "stdout",
     "output_type": "stream",
     "text": [
      "0 0\n",
      "0 1\n"
     ]
    },
    {
     "data": {
      "text/plain": [
       "False"
      ]
     },
     "execution_count": 54,
     "metadata": {},
     "output_type": "execute_result"
    }
   ],
   "source": [
    "solution = Solution()\n",
    "solution.checkSubarraySum([0,0], -1)"
   ]
  },
  {
   "cell_type": "code",
   "execution_count": null,
   "metadata": {},
   "outputs": [],
   "source": []
  }
 ],
 "metadata": {
  "kernelspec": {
   "display_name": "Python 3",
   "language": "python",
   "name": "python3"
  },
  "language_info": {
   "codemirror_mode": {
    "name": "ipython",
    "version": 3
   },
   "file_extension": ".py",
   "mimetype": "text/x-python",
   "name": "python",
   "nbconvert_exporter": "python",
   "pygments_lexer": "ipython3",
   "version": "3.6.2"
  }
 },
 "nbformat": 4,
 "nbformat_minor": 4
}
