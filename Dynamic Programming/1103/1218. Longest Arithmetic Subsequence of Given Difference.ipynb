{
 "cells": [
  {
   "cell_type": "raw",
   "metadata": {},
   "source": [
    "说明：\n",
    "    给你一个整数数组 arr 和一个整数 difference，请你找出 arr 中所有相邻元素之间的差等于给定 difference 的等差子序列，\n",
    "    并返回其中最长的等差子序列的长度。\n",
    "\n",
    "示例 1：\n",
    "    输入：arr = [1,2,3,4], difference = 1\n",
    "    输出：4\n",
    "    解释：最长的等差子序列是 [1,2,3,4]。\n",
    "\n",
    "示例 2：\n",
    "    输入：arr = [1,3,5,7], difference = 1\n",
    "    输出：1\n",
    "    解释：最长的等差子序列是任意单个元素。\n",
    "\n",
    "示例 3：\n",
    "    输入：arr = [1,5,7,8,5,3,4,2,1], difference = -2\n",
    "    输出：4\n",
    "    解释：最长的等差子序列是 [7,5,3,1]。\n",
    "\n",
    "提示：\n",
    "    1、1 <= arr.length <= 10^5\n",
    "    2、-10^4 <= arr[i], difference <= 10^4"
   ]
  },
  {
   "cell_type": "code",
   "execution_count": 6,
   "metadata": {},
   "outputs": [],
   "source": [
    "# 超时算法\n",
    "class Solution:\n",
    "    def longestSubsequence(self, arr, difference: int) -> int:\n",
    "        # 数据长度提示肯定是单循环\n",
    "        dp = []\n",
    "        res = []\n",
    "        N = len(arr)\n",
    "        for i in range(N):\n",
    "            path = [arr[i]]\n",
    "            for j in range(i+1, N):\n",
    "                if arr[j] - path[-1] == difference:\n",
    "                    path.append(arr[j])\n",
    "            print(path)"
   ]
  },
  {
   "cell_type": "code",
   "execution_count": 35,
   "metadata": {},
   "outputs": [],
   "source": [
    "class Solution:\n",
    "    def longestSubsequence(self, arr, difference: int) -> int:\n",
    "        # 数据长度提示肯定是单循环\n",
    "        N = len(arr)\n",
    "        dp = [1] * N\n",
    "        dif_count = {arr[0]:1}\n",
    "        for i, num in enumerate(arr):\n",
    "            if i == 0:\n",
    "                continue\n",
    "            needs = num - difference\n",
    "            if needs in dif_count:\n",
    "                dp[i] = max(dp[i], dif_count[needs] + 1)\n",
    "            dif_count[num] = dp[i]\n",
    "        return max(dp)"
   ]
  },
  {
   "cell_type": "code",
   "execution_count": 37,
   "metadata": {},
   "outputs": [
    {
     "data": {
      "text/plain": [
       "4"
      ]
     },
     "execution_count": 37,
     "metadata": {},
     "output_type": "execute_result"
    }
   ],
   "source": [
    "solution = Solution()\n",
    "solution.longestSubsequence(arr = [1,5,7,8,5,3,4,2,1], difference = -2)"
   ]
  },
  {
   "cell_type": "code",
   "execution_count": null,
   "metadata": {},
   "outputs": [],
   "source": []
  }
 ],
 "metadata": {
  "kernelspec": {
   "display_name": "Python 3",
   "language": "python",
   "name": "python3"
  },
  "language_info": {
   "codemirror_mode": {
    "name": "ipython",
    "version": 3
   },
   "file_extension": ".py",
   "mimetype": "text/x-python",
   "name": "python",
   "nbconvert_exporter": "python",
   "pygments_lexer": "ipython3",
   "version": "3.6.2"
  }
 },
 "nbformat": 4,
 "nbformat_minor": 4
}
