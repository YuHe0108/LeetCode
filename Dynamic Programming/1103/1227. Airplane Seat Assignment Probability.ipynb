{
 "cells": [
  {
   "cell_type": "raw",
   "metadata": {},
   "source": [
    "说明：\n",
    "    有 n 位乘客即将登机，飞机正好有 n 个座位。\n",
    "    第一位乘客的票丢了，他随便选了一个座位坐下，剩下的乘客将会：\n",
    "        1、如果他们自己的座位还空着，就坐到自己的座位上，\n",
    "        2、当他们自己的座位被占用时，随机选择其他座位\n",
    "    第 n 位乘客坐在自己的座位上的概率是多少？\n",
    "\n",
    "示例 1：\n",
    "    输入：n = 1\n",
    "    输出：1.00000\n",
    "    解释：第一个人只会坐在自己的位置上。\n",
    "\n",
    "示例 2：\n",
    "    输入: n = 2\n",
    "    输出: 0.50000\n",
    "    解释：在第一个人选好座位坐下后，第二个人坐在自己的座位上的概率是 0.5。\n",
    "\n",
    "提示：\n",
    "    1、1 <= n <= 10^5"
   ]
  },
  {
   "cell_type": "code",
   "execution_count": 1,
   "metadata": {},
   "outputs": [],
   "source": [
    "class Solution:\n",
    "    def nthPersonGetsNthSeat(self, n: int) -> float:\n",
    "        if n == 1: return 1\n",
    "        return 0.5"
   ]
  },
  {
   "cell_type": "code",
   "execution_count": 2,
   "metadata": {},
   "outputs": [],
   "source": [
    "solution = Solution()\n",
    "solution.nthPersonGetsNthSeat(2)"
   ]
  },
  {
   "cell_type": "code",
   "execution_count": null,
   "metadata": {},
   "outputs": [],
   "source": []
  }
 ],
 "metadata": {
  "kernelspec": {
   "display_name": "Python 3",
   "language": "python",
   "name": "python3"
  },
  "language_info": {
   "codemirror_mode": {
    "name": "ipython",
    "version": 3
   },
   "file_extension": ".py",
   "mimetype": "text/x-python",
   "name": "python",
   "nbconvert_exporter": "python",
   "pygments_lexer": "ipython3",
   "version": "3.6.2"
  }
 },
 "nbformat": 4,
 "nbformat_minor": 4
}
