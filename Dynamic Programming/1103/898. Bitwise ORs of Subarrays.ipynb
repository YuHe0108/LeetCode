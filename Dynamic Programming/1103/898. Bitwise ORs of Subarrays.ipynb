{
 "cells": [
  {
   "cell_type": "raw",
   "metadata": {},
   "source": [
    "说明：\n",
    "    我们有一个非负整数数组 A。\n",
    "    对于每个（连续的）子数组 B = [A[i], A[i+1], ..., A[j]] （ i <= j），\n",
    "    我们对 B 中的每个元素进行按位或操作，获得结果 A[i] | A[i+1] | ... | A[j]。\n",
    "    返回可能结果的数量。 （\n",
    "    多次出现的结果在最终答案中仅计算一次。）\n",
    "\n",
    "示例 1：\n",
    "    输入：[0]\n",
    "    输出：1\n",
    "    解释：\n",
    "        只有一个可能的结果 0 。\n",
    "\n",
    "示例 2：\n",
    "    输入：[1,1,2]\n",
    "    输出：3\n",
    "    解释：\n",
    "        可能的子数组为 [1]，[1]，[2]，[1, 1]，[1, 2]，[1, 1, 2]。\n",
    "        产生的结果为 1，1，2，1，3，3 。\n",
    "        有三个唯一值，所以答案是 3 。\n",
    "\n",
    "示例 3：\n",
    "    输入：[1,2,4]\n",
    "    输出：6\n",
    "    解释：\n",
    "        可能的结果是 1，2，3，4，6，以及 7 。\n",
    " \n",
    "提示：\n",
    "    1、1 <= A.length <= 50000\n",
    "    2、0 <= A[i] <= 10^9"
   ]
  },
  {
   "cell_type": "raw",
   "metadata": {},
   "source": [
    "dp[i]表示以A[i]结尾的所有子数组的异或结果，其实是个set。\n",
    "转移方程式dp[i] = [b | A[i] for b in dp[i - 1]] + A[i]，即以A[i]结尾的所有子数组异或结果等于以A[i-1]结尾的所有子数组异或结果，\n",
    "和当前的A[i]异或，再加上A[i]这个结果。\n",
    "同时使用一个set保存所有的异或结果。最后返回这个结果set的长度。\n",
    "\n",
    "dp[i]的大小至多是32个，即 |dp[i]| <= 32 的证明：\n",
    "\n",
    "dp[i] = {A[i], A[i] | A[i - 1], A[i] | A[i - 1] | A[i - 2], … , A[i] | A[i - 1] | … | A[0]}，\n",
    "这个序列单调递增，通过把A[i]中的0变成1。A[i]最多有32个0。所以这个集合的大小 <= 32。\n",
    "\n",
    "举例：最坏情况 A = [8, 4, 2, 1, 0] 都是2^k。\n",
    "A[5] = 0，dp[5] = {0, 0 | 1, 0 | 1 | 2, 0 | 1 | 2 | 4, 0 | 1 | 2 | 4 | 8} = {0, 1, 3, 7, 15}.\n",
    "\n",
    "时间复杂度是O(32*N)，空间复杂度是O(32N).\n",
    "\n",
    "参考：https://blog.csdn.net/fuxuemingzhu/article/details/83511833"
   ]
  },
  {
   "cell_type": "code",
   "execution_count": 49,
   "metadata": {},
   "outputs": [],
   "source": [
    "# 超时方案\n",
    "class Solution:\n",
    "    def subarrayBitwiseORs(self, A) -> int:\n",
    "        res = set()\n",
    "        N = len(A)\n",
    "        memo = {}\n",
    "        for i in range(N):\n",
    "            for j in range(i+1, N+1):\n",
    "                if tuple(A[i:j]) in memo:\n",
    "                    continue\n",
    "                val = A[i:j][0]\n",
    "                for k in range(1, len(A[i:j])):\n",
    "                    val |= A[i:j][k]\n",
    "                res.add(val)\n",
    "                memo[tuple(A[i:j])] = val\n",
    "        return len(res)"
   ]
  },
  {
   "cell_type": "code",
   "execution_count": 50,
   "metadata": {},
   "outputs": [
    {
     "data": {
      "text/plain": [
       "1"
      ]
     },
     "execution_count": 50,
     "metadata": {},
     "output_type": "execute_result"
    }
   ],
   "source": [
    "solution = Solution()\n",
    "solution.subarrayBitwiseORs([0])"
   ]
  },
  {
   "cell_type": "code",
   "execution_count": 52,
   "metadata": {},
   "outputs": [],
   "source": [
    "class Solution:\n",
    "    def subarrayBitwiseORs(self, A) -> int:\n",
    "        res = set()\n",
    "        cur = set()\n",
    "        for a in A:\n",
    "            cur = {n | a for n in cur} | {a}\n",
    "            res |= cur\n",
    "        return len(res)"
   ]
  },
  {
   "cell_type": "code",
   "execution_count": 53,
   "metadata": {},
   "outputs": [
    {
     "name": "stdout",
     "output_type": "stream",
     "text": [
      "set() 1 b\n",
      "{1} 1 a\n",
      "{1} 1 b\n",
      "{1} 1 a\n",
      "{1} 2 b\n",
      "{2, 3} 2 a\n"
     ]
    },
    {
     "data": {
      "text/plain": [
       "3"
      ]
     },
     "execution_count": 53,
     "metadata": {},
     "output_type": "execute_result"
    }
   ],
   "source": [
    "solution = Solution()\n",
    "solution.subarrayBitwiseORs([1,1,2])"
   ]
  },
  {
   "cell_type": "code",
   "execution_count": 54,
   "metadata": {},
   "outputs": [],
   "source": [
    "class Solution:\n",
    "    def subarrayBitwiseORs(self, A) -> int:\n",
    "        pass"
   ]
  },
  {
   "cell_type": "code",
   "execution_count": 55,
   "metadata": {},
   "outputs": [],
   "source": [
    "a = {1}\n",
    "b = {2}\n",
    "c = a | b"
   ]
  },
  {
   "cell_type": "code",
   "execution_count": 56,
   "metadata": {},
   "outputs": [
    {
     "data": {
      "text/plain": [
       "{1, 2}"
      ]
     },
     "execution_count": 56,
     "metadata": {},
     "output_type": "execute_result"
    }
   ],
   "source": [
    "c"
   ]
  },
  {
   "cell_type": "code",
   "execution_count": null,
   "metadata": {},
   "outputs": [],
   "source": []
  }
 ],
 "metadata": {
  "kernelspec": {
   "display_name": "Python 3",
   "language": "python",
   "name": "python3"
  },
  "language_info": {
   "codemirror_mode": {
    "name": "ipython",
    "version": 3
   },
   "file_extension": ".py",
   "mimetype": "text/x-python",
   "name": "python",
   "nbconvert_exporter": "python",
   "pygments_lexer": "ipython3",
   "version": "3.6.2"
  }
 },
 "nbformat": 4,
 "nbformat_minor": 4
}
