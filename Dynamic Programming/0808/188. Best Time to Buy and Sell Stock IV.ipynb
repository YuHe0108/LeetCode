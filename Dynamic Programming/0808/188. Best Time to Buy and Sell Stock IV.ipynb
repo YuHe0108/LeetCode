{
 "cells": [
  {
   "cell_type": "raw",
   "metadata": {},
   "source": [
    "    假设您有一个数组，第i个元素是第i天给定股票的价格。设计算法以找到最大的利润。\n",
    "    您最多可以完成k笔交易。\n",
    "    注意：您可能不能同时进行多项交易（即，必须先出售股票才能再次购买）。\n",
    "    \n",
    "    例1：\n",
    "        Input: [2,4,1], k = 2\n",
    "        Output: 2\n",
    "        Explanation: Buy on day 1 (price = 2) and sell on day 2 (price = 4), profit = 4-2 = 2.\n",
    "    \n",
    "    例2：\n",
    "        Input: [3,2,6,5,0,3], k = 2\n",
    "        Output: 7\n",
    "        Explanation: Buy on day 2 (price = 2) and sell on day 3 (price = 6), profit = 6-2 = 4.\n",
    "             Then buy on day 5 (price = 0) and sell on day 6 (price = 3), profit = 3-0 = 3."
   ]
  },
  {
   "cell_type": "code",
   "execution_count": null,
   "metadata": {},
   "outputs": [],
   "source": [
    "class Solution:\n",
    "    def maxProfit(self, k, prices) -> int:\n",
    "        if k == 0 or len(prices) <= 1: return 0\n",
    "        \n",
    "        if k >= len(prices) // 2:\n",
    "            result = 0\n",
    "            for i in range(1, len(prices)):\n",
    "                if prices[i] > prices[i-1]:\n",
    "                    result += prices[i] - prices[i-1]\n",
    "            return result\n",
    "        \n",
    "        max_count = min(len(prices) // 2, k)\n",
    "        holds = [-float('inf')] * max_count\n",
    "        solds = [0] * max_count\n",
    "        for j in range(len(prices)):\n",
    "            pri = prices[j]\n",
    "            for i in range(max_count):\n",
    "                if i == 0:\n",
    "                    holds[i] = max(holds[i], 0-pri)\n",
    "                    solds[i] = max(solds[i], holds[i]+pri)\n",
    "                else:\n",
    "                    holds[i] = max(holds[i], solds[i-1]-pri)\n",
    "                    solds[i] = max(solds[i], holds[i]+pri)\n",
    "        return max(solds)"
   ]
  }
 ],
 "metadata": {
  "kernelspec": {
   "display_name": "TF2",
   "language": "python",
   "name": "tf2"
  },
  "language_info": {
   "codemirror_mode": {
    "name": "ipython",
    "version": 3
   },
   "file_extension": ".py",
   "mimetype": "text/x-python",
   "name": "python",
   "nbconvert_exporter": "python",
   "pygments_lexer": "ipython3",
   "version": "3.6.2"
  }
 },
 "nbformat": 4,
 "nbformat_minor": 4
}
