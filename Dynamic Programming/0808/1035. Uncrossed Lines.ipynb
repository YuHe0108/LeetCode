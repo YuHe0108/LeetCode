{
 "cells": [
  {
   "cell_type": "raw",
   "metadata": {},
   "source": [
    "    我们将A和B的整数（按给定的顺序）写在两条单独的水平线上。\n",
    "    现在，我们可以绘制连接线：连接两个数字 A[i] 和 B[j] 的直线，使得：A [i] == B [j];\n",
    "    我们绘制的线不与任何其他连接（非水平）线相交。\n",
    "    请注意：\n",
    "        1、即使在端点处，连接线也不能相交：\n",
    "        2、每个数字只能属于一条连接线。返回以此方式可以绘制的最大连接线数。\n",
    "    \n",
    "    Input: A = [1,4,2], B = [1,2,4]\n",
    "    Output: 2\n",
    "    Explanation: We can draw 2 uncrossed lines as in the diagram.\n",
    "    We cannot draw 3 uncrossed lines, because the line from A[1]=4 to B[2]=4 will intersect the line from A[2]=2 to B[1]=2."
   ]
  },
  {
   "cell_type": "markdown",
   "metadata": {},
   "source": [
    "<img src=\"1035.jpg\" width=700 height=700></img>"
   ]
  },
  {
   "cell_type": "code",
   "execution_count": 23,
   "metadata": {},
   "outputs": [],
   "source": [
    "class Solution:\n",
    "    def maxUncrossedLines(self, A, B) -> int:\n",
    "        dp = [[0] * (len(B) + 1) for _ in range(len(A) + 1)]\n",
    "        count = 0\n",
    "        for i in range(len(A)):\n",
    "            for j in range(len(B)):\n",
    "                if A[i] == B[j]:\n",
    "                    val = dp[i][j] + 1\n",
    "                else:\n",
    "                    val = max(dp[i][j+1], dp[i+1][j])\n",
    "                dp[i+1][j+1] = val\n",
    "                count = max(count, dp[i+1][j+1])\n",
    "        print(dp)\n",
    "        return count"
   ]
  },
  {
   "cell_type": "code",
   "execution_count": 24,
   "metadata": {},
   "outputs": [
    {
     "name": "stdout",
     "output_type": "stream",
     "text": [
      "[[0, 0, 0, 0, 0, 0, 0], [0, 0, 0, 1, 1, 1, 1], [0, 0, 1, 1, 1, 2, 2], [0, 0, 1, 1, 2, 2, 2], [0, 0, 1, 2, 2, 2, 3], [0, 0, 1, 2, 2, 3, 3]]\n"
     ]
    },
    {
     "data": {
      "text/plain": [
       "3"
      ]
     },
     "execution_count": 24,
     "metadata": {},
     "output_type": "execute_result"
    }
   ],
   "source": [
    "A_ = [2,5,1,2,5] \n",
    "B_ = [10,5,2,1,5,2]\n",
    "solution = Solution()\n",
    "solution.maxUncrossedLines(A_, B_)"
   ]
  },
  {
   "cell_type": "code",
   "execution_count": 12,
   "metadata": {},
   "outputs": [
    {
     "data": {
      "text/plain": [
       "[[0, 0, 0, 0], [0, 1, 1, 1], [0, 1, 1, 2], [0, 2, 2, 2]]"
      ]
     },
     "execution_count": 12,
     "metadata": {},
     "output_type": "execute_result"
    }
   ],
   "source": [
    "[[0, 0, 0, 0], \n",
    " [0, 1, 1, 1], \n",
    " [0, 1, 1, 2], \n",
    " [0, 2, 2, 2]]"
   ]
  },
  {
   "cell_type": "code",
   "execution_count": null,
   "metadata": {},
   "outputs": [],
   "source": []
  }
 ],
 "metadata": {
  "kernelspec": {
   "display_name": "TF2",
   "language": "python",
   "name": "tf2"
  },
  "language_info": {
   "codemirror_mode": {
    "name": "ipython",
    "version": 3
   },
   "file_extension": ".py",
   "mimetype": "text/x-python",
   "name": "python",
   "nbconvert_exporter": "python",
   "pygments_lexer": "ipython3",
   "version": "3.6.2"
  }
 },
 "nbformat": 4,
 "nbformat_minor": 4
}
