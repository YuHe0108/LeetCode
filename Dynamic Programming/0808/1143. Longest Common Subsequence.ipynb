{
 "cells": [
  {
   "cell_type": "raw",
   "metadata": {},
   "source": [
    "给定两个字符串text1和text2，返回它们最长的公共子序列的长度。\n",
    "字符串的子序列是从原始字符串生成的新字符串，其中删除了一些字符（可以是一个字符），而不会更改其余字符的相对顺序。 （\n",
    "例如，“ ace”是“ abcde”的子序列，而“ aec”则不是）。\n",
    "两个琴弦的共同子序列是两个琴弦共同的子序列。如果没有公共子序列，则返回0。\n",
    "\n",
    "例1：\n",
    "    Input: text1 = \"abcde\", text2 = \"ace\" \n",
    "    Output: 3  \n",
    "    Explanation: The longest common subsequence is \"ace\" and its length is 3.\n",
    "\n",
    "例2：\n",
    "    Input: text1 = \"abc\", text2 = \"abc\"\n",
    "    Output: 3\n",
    "    Explanation: The longest common subsequence is \"abc\" and its length is 3.\n",
    "\n",
    "例3：\n",
    "    Input: text1 = \"abc\", text2 = \"def\"\n",
    "    Output: 0\n",
    "    Explanation: There is no such common subsequence, so the result is 0."
   ]
  },
  {
   "cell_type": "code",
   "execution_count": 5,
   "metadata": {},
   "outputs": [],
   "source": [
    "# dp[i][j] 表示以 T1[i] 和 T2[j] 结尾的时候，最长匹配字母的长度\n",
    "class Solution:\n",
    "    def longestCommonSubsequence(self, T1: str, T2: str) -> int:\n",
    "        dp = [[0] * (len(T2) + 1) for _ in range(len(T1) + 1)]\n",
    "        count = 0\n",
    "        for i in range(len(T1)):\n",
    "            for j in range(len(T2)):\n",
    "                if T1[i] == T2[j]:\n",
    "                    val = dp[i][j] + 1\n",
    "                else:\n",
    "                    val = max(dp[i][j+1], dp[i+1][j])\n",
    "                dp[i+1][j+1] = val\n",
    "                count = max(val, count)\n",
    "        return count"
   ]
  },
  {
   "cell_type": "code",
   "execution_count": 6,
   "metadata": {},
   "outputs": [
    {
     "data": {
      "text/plain": [
       "1"
      ]
     },
     "execution_count": 6,
     "metadata": {},
     "output_type": "execute_result"
    }
   ],
   "source": [
    "text1_ = 'abcde'\n",
    "text2_ = 'ace'\n",
    "solution = Solution()\n",
    "solution.longestCommonSubsequence(text1_, text2_)"
   ]
  },
  {
   "cell_type": "code",
   "execution_count": null,
   "metadata": {},
   "outputs": [],
   "source": [
    "print()"
   ]
  }
 ],
 "metadata": {
  "kernelspec": {
   "display_name": "TF2",
   "language": "python",
   "name": "tf2"
  },
  "language_info": {
   "codemirror_mode": {
    "name": "ipython",
    "version": 3
   },
   "file_extension": ".py",
   "mimetype": "text/x-python",
   "name": "python",
   "nbconvert_exporter": "python",
   "pygments_lexer": "ipython3",
   "version": "3.6.2"
  }
 },
 "nbformat": 4,
 "nbformat_minor": 4
}
