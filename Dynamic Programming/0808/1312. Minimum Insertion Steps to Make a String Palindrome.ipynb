{
 "cells": [
  {
   "cell_type": "raw",
   "metadata": {},
   "source": [
    "    给定一个字符串s。第一步，您可以在字符串的任何索引处插入任何字符。\n",
    "    返回进行回文的最小步骤数。\n",
    "    回文字符串是向后和向前读取相同的字符串。\n",
    "    \n",
    "    Example 1:\n",
    "        Input: s = \"zzazz\"\n",
    "        Output: 0\n",
    "        Explanation: The string \"zzazz\" is already palindrome we don't need any insertions.\n",
    "    \n",
    "    Example 2:\n",
    "        Input: s = \"mbadm\"\n",
    "        Output: 2\n",
    "        Explanation: String can be \"mbdadbm\" or \"mdbabdm\".\n",
    "\n",
    "    Example 3:\n",
    "        Input: s = \"leetcode\"\n",
    "        Output: 5\n",
    "        Explanation: Inserting 5 characters the string becomes \"leetcodocteel\".\n",
    "    \n",
    "    Example 4:\n",
    "        Input: s = \"g\"\n",
    "        Output: 0\n",
    "    \n",
    "    Example 5:\n",
    "        Input: s = \"no\"\n",
    "        Output: 1\n",
    "    \n",
    "    Constraints:\n",
    "        1、1 <= s.length <= 500\n",
    "        2、All characters of s are lower case English letters."
   ]
  },
  {
   "cell_type": "code",
   "execution_count": 1,
   "metadata": {},
   "outputs": [],
   "source": [
    "class Solution:\n",
    "    def minInsertions(self, s: str) -> int:\n",
    "        r_s_list = list(reversed(s))\n",
    "        r_s = ''.join(r_s_list)\n",
    "        dp = [[0] * (len(s) + 1) for _ in range(len(s) + 1)]\n",
    "        for i in range(len(s)):\n",
    "            for j in range(len(s)):\n",
    "                if s[i] == r_s[j]:\n",
    "                    val = dp[i][j] + 1\n",
    "                else:\n",
    "                    val = max(dp[i+1][j], dp[i][j+1])\n",
    "                dp[i+1][j+1] = val\n",
    "        return len(s) - dp[-1][-1]"
   ]
  },
  {
   "cell_type": "code",
   "execution_count": 5,
   "metadata": {},
   "outputs": [
    {
     "data": {
      "text/plain": [
       "2"
      ]
     },
     "execution_count": 5,
     "metadata": {},
     "output_type": "execute_result"
    }
   ],
   "source": [
    "s_ = 'mbadm'\n",
    "solution = Solution()\n",
    "solution.minInsertions(s_)"
   ]
  },
  {
   "cell_type": "code",
   "execution_count": 117,
   "metadata": {},
   "outputs": [],
   "source": [
    "class Solution:\n",
    "    def minInsertions(self, s: str) -> int:\n",
    "        # 使用区间形 DP, dp[i][j] 表示： 以 s[i] 开头、s[j] 结尾时，\n",
    "        # 需要添加多少个字符变成回文数\n",
    "        dp = [[0] * len(s) for _ in range(len(s))]\n",
    "        \n",
    "        # 1、外层的循环控制区间的长度\n",
    "        for step in range(2, len(s) + 1):\n",
    "            for start in range(len(s) + 1 - step):\n",
    "                end = step + start - 1\n",
    "                if s[start] == s[end]:\n",
    "                    dp[start][end] = dp[start+1][end-1]\n",
    "                else:\n",
    "                    dp[start][end] = min(dp[start+1][end]+1, dp[start][end-1]+1)\n",
    "                    print(start, end)\n",
    "        return dp[0][-1]"
   ]
  },
  {
   "cell_type": "code",
   "execution_count": 118,
   "metadata": {},
   "outputs": [
    {
     "name": "stdout",
     "output_type": "stream",
     "text": [
      "0 1\n"
     ]
    },
    {
     "data": {
      "text/plain": [
       "1"
      ]
     },
     "execution_count": 118,
     "metadata": {},
     "output_type": "execute_result"
    }
   ],
   "source": [
    "s_ = \"ab\"\n",
    "solution = Solution()\n",
    "solution.minInsertions(s_)"
   ]
  },
  {
   "cell_type": "code",
   "execution_count": null,
   "metadata": {},
   "outputs": [],
   "source": []
  }
 ],
 "metadata": {
  "kernelspec": {
   "display_name": "TF2",
   "language": "python",
   "name": "tf2"
  },
  "language_info": {
   "codemirror_mode": {
    "name": "ipython",
    "version": 3
   },
   "file_extension": ".py",
   "mimetype": "text/x-python",
   "name": "python",
   "nbconvert_exporter": "python",
   "pygments_lexer": "ipython3",
   "version": "3.6.2"
  }
 },
 "nbformat": 4,
 "nbformat_minor": 4
}
