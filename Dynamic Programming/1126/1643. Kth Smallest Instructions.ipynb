{
 "cells": [
  {
   "cell_type": "markdown",
   "metadata": {},
   "source": [
    "<img src='https://assets.leetcode-cn.com/aliyun-lc-upload/uploads/2020/11/01/ex1.png'>"
   ]
  },
  {
   "cell_type": "code",
   "execution_count": 55,
   "metadata": {},
   "outputs": [],
   "source": [
    "from collections import Counter\n",
    "# 使用 DFS 会超时\n",
    "class Solution:\n",
    "    def kthSmallestPath(self, destination, k: int) -> str:\n",
    "        def dfs(x, y, path): # 从x,y出发\n",
    "            if [x, y] == destination:\n",
    "                res.append(''.join(path))\n",
    "                return \n",
    "            \n",
    "            for nx, ny in (x+1, y), (x, y+1):\n",
    "                if nx == rows + 1 or ny == cols + 1:\n",
    "                    continue\n",
    "                if grid[nx][ny] == 0:\n",
    "                    grid[nx][ny] = 1\n",
    "                    if x + 1 == nx:\n",
    "                        path.append('V')\n",
    "                    else:\n",
    "                        path.append('H')\n",
    "                    dfs(nx, ny, path)\n",
    "                    path.pop()\n",
    "                    grid[nx][ny] = 0\n",
    "        \n",
    "        rows, cols = destination\n",
    "        grid = [[0] * (cols + 1) for _ in range(rows + 1)]\n",
    "        res = []\n",
    "        dfs(0, 0, [])\n",
    "        res.sort()\n",
    "        for r in res:\n",
    "            print(Counter(r))\n",
    "        return res[k-1]"
   ]
  },
  {
   "cell_type": "code",
   "execution_count": 35,
   "metadata": {},
   "outputs": [],
   "source": [
    "from collections import Counter\n",
    "\n",
    "class Solution:\n",
    "    def kthSmallestPath(self, destination, k: int) -> str:\n",
    "        def helper(n, m):\n",
    "            # 计算 n_v 和 n_h 的组合数\n",
    "            cnt = 1\n",
    "            for i in range(m):\n",
    "                cnt *= n - i\n",
    "                cnt /= i + 1\n",
    "            return cnt \n",
    "        \n",
    "        v, h = destination\n",
    "        t  = v + h\n",
    "        res = ''\n",
    "        for i in range(t):\n",
    "            if v == 0:\n",
    "                res += 'H'\n",
    "                h -= 1\n",
    "                continue\n",
    "            elif h == 0:\n",
    "                res += 'V'\n",
    "                v -= 1\n",
    "                continue\n",
    "            # 为什么是 h-1 ? 因为我们假设的是 第一位是 h，所以 h 的数量 要减去1，\n",
    "            comb = helper(v + h - 1, h - 1)\n",
    "            if k > comb:\n",
    "                k -= comb\n",
    "                res += 'V'\n",
    "                v -= 1\n",
    "            else:\n",
    "                res += 'H'\n",
    "                h -= 1\n",
    "        return res"
   ]
  },
  {
   "cell_type": "code",
   "execution_count": 36,
   "metadata": {},
   "outputs": [
    {
     "name": "stdout",
     "output_type": "stream",
     "text": [
      "4 1 4 2\n",
      "3 2 4 2\n",
      "6.0\n",
      "3 1 3 1\n",
      "3.0\n",
      "1\n",
      "1\n"
     ]
    },
    {
     "data": {
      "text/plain": [
       "'HHVVH'"
      ]
     },
     "execution_count": 36,
     "metadata": {},
     "output_type": "execute_result"
    }
   ],
   "source": [
    "solution = Solution()\n",
    "solution.kthSmallestPath(destination = [2,3], k =3)"
   ]
  },
  {
   "cell_type": "code",
   "execution_count": 8,
   "metadata": {},
   "outputs": [],
   "source": []
  },
  {
   "cell_type": "code",
   "execution_count": null,
   "metadata": {},
   "outputs": [],
   "source": []
  },
  {
   "cell_type": "code",
   "execution_count": null,
   "metadata": {},
   "outputs": [],
   "source": []
  }
 ],
 "metadata": {
  "kernelspec": {
   "display_name": "Python 3",
   "language": "python",
   "name": "python3"
  },
  "language_info": {
   "codemirror_mode": {
    "name": "ipython",
    "version": 3
   },
   "file_extension": ".py",
   "mimetype": "text/x-python",
   "name": "python",
   "nbconvert_exporter": "python",
   "pygments_lexer": "ipython3",
   "version": "3.6.2"
  }
 },
 "nbformat": 4,
 "nbformat_minor": 4
}
