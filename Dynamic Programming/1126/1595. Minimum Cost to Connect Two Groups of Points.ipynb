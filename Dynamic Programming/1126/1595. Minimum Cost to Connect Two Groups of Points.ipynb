{
 "cells": [
  {
   "cell_type": "raw",
   "metadata": {},
   "source": [
    "提示：\n",
    "    size1 == cost.length\n",
    "    size2 == cost[i].length\n",
    "    1 <= size1, size2 <= 12\n",
    "    size1 >= size2\n",
    "    0 <= cost[i][j] <= 100"
   ]
  },
  {
   "cell_type": "markdown",
   "metadata": {},
   "source": [
    "### 1、策略一：\n",
    "    1、首先计算出 group2 中的每一个点与 group1 中哪一个点相连，能够是最小值，\n",
    "    2、之后选择 group1 中与group2 中哪个点相连，能够有最小值，\n",
    "    3、最后检查，在 group2 中有哪个点没有连接"
   ]
  },
  {
   "cell_type": "code",
   "execution_count": 10,
   "metadata": {},
   "outputs": [],
   "source": [
    "from functools import lru_cache\n",
    "\n",
    "class Solution:\n",
    "    def connectTwoGroups(self, cost):\n",
    "        @lru_cache(None)\n",
    "        def dp(i, mask):\n",
    "            # 如果连到了 group1 的最后一位时\n",
    "            if i == size1:\n",
    "                ans2 = 0\n",
    "                for j in range(size2):\n",
    "                    # 检查在group2中，还有哪些点没有相连\n",
    "                    if mask & (1 << j) == 0: \n",
    "                        ans2 += min_cost2[j]\n",
    "                return ans2\n",
    "            ans = float('inf')\n",
    "            # 尝试每一种 group1 与 group2 相连接的可能性，可能在最后的时候，会有 group2 中的点没有连接，此时使用min_cost2进行弥补\n",
    "            for j in range(size2):\n",
    "                ans = min(ans, dp(i+1, mask | (1 << j)) + cost[i][j])\n",
    "            return ans\n",
    "        \n",
    "        size1, size2 = len(cost), len(cost[0])\n",
    "        min_cost2 = [float('inf')] * size2\n",
    "        for i in range(size2):\n",
    "            for j in range(size1):\n",
    "                min_cost2[i] = min(min_cost2[i], cost[j][i])\n",
    "        res = dp(0, 0)\n",
    "        return res"
   ]
  },
  {
   "cell_type": "code",
   "execution_count": 11,
   "metadata": {},
   "outputs": [
    {
     "data": {
      "text/plain": [
       "17"
      ]
     },
     "execution_count": 11,
     "metadata": {},
     "output_type": "execute_result"
    }
   ],
   "source": [
    "solution = Solution()\n",
    "solution.connectTwoGroups(cost = [[15, 96], \n",
    "                                  [36, 2]])"
   ]
  },
  {
   "cell_type": "markdown",
   "metadata": {},
   "source": [
    "### 1、策略二：\n",
    "    1、首先计算 group 1 中 与 group 2 每个点相连的最小 cost\n",
    "    2、之后计算 group 1 中下一个点与 group2 中相连的最小值，在这种情况下，有可能group 1 的下个点已经和前面的连接过的group2 的点相连\n",
    "    3、这个时候就需要取最小值"
   ]
  },
  {
   "cell_type": "code",
   "execution_count": 67,
   "metadata": {},
   "outputs": [],
   "source": [
    "class Solution:\n",
    "    def connectTwoGroups(self, cost):\n",
    "        size1, size2 = len(cost), len(cost[0])\n",
    "        N = 1 << size2\n",
    "        \n",
    "        dp = [[float('inf')] * N for _ in range(size1)]\n",
    "        # 初始化 dp[0] 与 group2 中每个点相连的 cost 值\n",
    "        for state in range(1, N): # 遍历所有与 group2 中的点相连的可能情况\n",
    "            total = 0\n",
    "            for j in range(size2):\n",
    "                if ((state >> j) & 1) == 1:\n",
    "                    total += cost[0][j]\n",
    "            dp[0][state] = total\n",
    "        \n",
    "        for i in range(1, size1):\n",
    "            for state in range(1, N): # 需要遍历每一种 group 1 中的点与group2 中的点连接情况\n",
    "                sub_state = state\n",
    "                while sub_state:\n",
    "                    sum_cost = 0\n",
    "                    for j in range(size2):\n",
    "                        if sub_state >> j & 1 == 1:\n",
    "                            sum_cost += cost[i][j]\n",
    "                    dp[i][state] = min(dp[i][state], dp[i-1][state-sub_state] + sum_cost)\n",
    "                    sub_state = (sub_state - 1) & state  # 子集合\n",
    "                \n",
    "                min_cost = float('inf')\n",
    "                for j in range(size2):\n",
    "                    min_cost = min(min_cost, cost[i][j])\n",
    "                dp[i][state] = min(dp[i][state], dp[i-1][state] + min_cost)\n",
    "        print(dp)\n",
    "        return dp[-1][-1]"
   ]
  },
  {
   "cell_type": "code",
   "execution_count": 68,
   "metadata": {},
   "outputs": [
    {
     "name": "stdout",
     "output_type": "stream",
     "text": [
      "[[inf, 15, 96, 111], [inf, 17, 98, 17]]\n"
     ]
    },
    {
     "data": {
      "text/plain": [
       "17"
      ]
     },
     "execution_count": 68,
     "metadata": {},
     "output_type": "execute_result"
    }
   ],
   "source": [
    "solution = Solution()\n",
    "solution.connectTwoGroups(cost = [[15, 96], \n",
    "                                  [36, 2]])"
   ]
  },
  {
   "cell_type": "code",
   "execution_count": null,
   "metadata": {},
   "outputs": [],
   "source": [
    "[[inf, 15, 96, 111], \n",
    " [inf, inf, inf, inf]]"
   ]
  },
  {
   "cell_type": "code",
   "execution_count": null,
   "metadata": {},
   "outputs": [],
   "source": [
    "class Solution {\n",
    "    int dp[12][1<<12];\n",
    "public:\n",
    "    int connectTwoGroups(vector<vector<int>>& cost) \n",
    "    {\n",
    "        int m = cost.size();\n",
    "        int n = cost[0].size();\n",
    "\n",
    "        dp[0][0] = INT_MAX/2;\n",
    "        for (int state = 1; state < (1<<n); state++)\n",
    "        {\n",
    "            int sum = 0;\n",
    "            for (int j=0; j<n; j++)\n",
    "            {\n",
    "                if (((state>>j)&1)==1)\n",
    "                    sum += cost[0][j];\n",
    "            }\n",
    "            dp[0][state] = sum;\n",
    "        }\n",
    "\n",
    "        for (int i=1; i<m; i++)\n",
    "        {\n",
    "            dp[i][0] = INT_MAX/2;\n",
    "            for (int state = 1; state < (1<<n); state++)\n",
    "            {\n",
    "                dp[i][state] = INT_MAX/2;\n",
    "                for (int subset=state; subset>0; subset=(subset-1)&state)\n",
    "                {\n",
    "                    int sum = 0;\n",
    "                    for (int j=0; j<n; j++)\n",
    "                    {\n",
    "                        if (((subset>>j)&1)==1)\n",
    "                            sum += cost[i][j];\n",
    "                    }\n",
    "                    dp[i][state] = min(dp[i][state], dp[i-1][state-subset]+sum);\n",
    "                }\n",
    "\n",
    "                int minPath = INT_MAX;\n",
    "                for (int j=0; j<n; j++)\n",
    "                    minPath = min(minPath, cost[i][j]);\n",
    "                dp[i][state] = min(dp[i][state], dp[i-1][state] + minPath);                                 \n",
    "            }            \n",
    "        }\n",
    "\n",
    "        return dp[m-1][(1<<n)-1];\n",
    "    }\n",
    "};"
   ]
  },
  {
   "cell_type": "code",
   "execution_count": null,
   "metadata": {},
   "outputs": [],
   "source": []
  },
  {
   "cell_type": "code",
   "execution_count": 16,
   "metadata": {},
   "outputs": [
    {
     "name": "stdout",
     "output_type": "stream",
     "text": [
      "0b1110\n",
      "0b1100\n",
      "0b1010\n",
      "0b1000\n",
      "0b110\n",
      "0b100\n",
      "0b10\n"
     ]
    }
   ],
   "source": [
    "# 寻找 state 的子集\n",
    "state = 14\n",
    "sub_state = state\n",
    "while sub_state:\n",
    "    print(bin(sub_state))\n",
    "    sub_state = (sub_state - 1) & state"
   ]
  },
  {
   "cell_type": "code",
   "execution_count": null,
   "metadata": {},
   "outputs": [],
   "source": []
  }
 ],
 "metadata": {
  "kernelspec": {
   "display_name": "Python 3",
   "language": "python",
   "name": "python3"
  },
  "language_info": {
   "codemirror_mode": {
    "name": "ipython",
    "version": 3
   },
   "file_extension": ".py",
   "mimetype": "text/x-python",
   "name": "python",
   "nbconvert_exporter": "python",
   "pygments_lexer": "ipython3",
   "version": "3.6.2"
  }
 },
 "nbformat": 4,
 "nbformat_minor": 4
}
