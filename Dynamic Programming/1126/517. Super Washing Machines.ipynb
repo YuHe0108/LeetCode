{
 "cells": [
  {
   "cell_type": "raw",
   "metadata": {},
   "source": [
    "    假设有 n 台超级洗衣机放在同一排上。开始的时候，每台洗衣机内可能有一定量的衣服，也可能是空的。\n",
    "\n",
    "    在每一步操作中，你可以选择任意 m （1 ≤ m ≤ n） 台洗衣机，与此同时将每台洗衣机的一件衣服送到相邻的一台洗衣机。\n",
    "\n",
    "    给定一个非负整数数组代表从左至右每台洗衣机中的衣物数量，请给出能让所有洗衣机中剩下的衣物的数量相等的最少的操作步数。\n",
    "    如果不能使每台洗衣机中衣物的数量相等，则返回 -1。\n",
    "\n",
    "示例 1：\n",
    "    输入: [1,0,5]\n",
    "    输出: 3\n",
    "    解释: \n",
    "        第一步:    1     0 <-- 5    =>    1     1     4\n",
    "        第二步:    1 <-- 1 <-- 4    =>    2     1     3    \n",
    "        第三步:    2     1 <-- 3    =>    2     2     2   \n",
    "\n",
    "示例 2：\n",
    "    输入: [0,3,0]\n",
    "    输出: 2\n",
    "    解释: \n",
    "        第一步:    0 <-- 3     0    =>    1     2     0    \n",
    "        第二步:    1     2 --> 0    =>    1     1     1     \n",
    "\n",
    "示例 3:\n",
    "    输入: [0,2,0]\n",
    "    输出: -1\n",
    "    解释: \n",
    "        不可能让所有三个洗衣机同时剩下相同数量的衣物。\n",
    "\n",
    "提示：\n",
    "    n 的范围是 [1, 10000]。\n",
    "    在每台超级洗衣机中，衣物数量的范围是 [0, 1e5]。"
   ]
  },
  {
   "cell_type": "code",
   "execution_count": 28,
   "metadata": {},
   "outputs": [],
   "source": [
    "class Solution:\n",
    "    def findMinMoves(self, machines) -> int:\n",
    "        N = len(machines)\n",
    "        if sum(machines) % N != 0:\n",
    "            return -1\n",
    "        K = sum(machines) // N\n",
    "        \n",
    "        # 记录两组变量，分别是洗衣机向左丢出的衣服和洗衣机向右丢出的衣服数量\n",
    "        # 实际上，对于一台洗衣机， left[i] + right[i] = machines[i] - K\n",
    "        left, right = [0] * N, [0] * N\n",
    "        right[0] = machines[0] - K # 第一台洗衣机向右边丢出衣服的总数量\n",
    "        left[-1] = machines[-1] - K # 最后一台洗衣机向左丢出衣服的总数量\n",
    "        for i in range(1, N-1):\n",
    "            # 因为单项流动是最节约资源的，因此如果你输入给我，我就不会在输出给你, 因此 left[i] = right[i-1]\n",
    "            left[i] = -right[i-1]\n",
    "            right[i] = machines[i] - K - left[i]\n",
    "        \n",
    "        print(left, right)\n",
    "        res = 0\n",
    "        for i in range(N):\n",
    "            temp = 0\n",
    "            if left[i] >= 0:\n",
    "                temp += left[i]\n",
    "            if right[i] >= 0:\n",
    "                temp += right[i]\n",
    "            res = max(res, temp)\n",
    "        return res"
   ]
  },
  {
   "cell_type": "code",
   "execution_count": 29,
   "metadata": {},
   "outputs": [
    {
     "name": "stdout",
     "output_type": "stream",
     "text": [
      "[0, 4, 8, 1] [-4, -8, -1, 0]\n"
     ]
    },
    {
     "data": {
      "text/plain": [
       "8"
      ]
     },
     "execution_count": 29,
     "metadata": {},
     "output_type": "execute_result"
    }
   ],
   "source": [
    "solution = Solution()\n",
    "solution.findMinMoves([0,0,11,5])"
   ]
  },
  {
   "cell_type": "code",
   "execution_count": null,
   "metadata": {},
   "outputs": [],
   "source": []
  }
 ],
 "metadata": {
  "kernelspec": {
   "display_name": "Python 3",
   "language": "python",
   "name": "python3"
  },
  "language_info": {
   "codemirror_mode": {
    "name": "ipython",
    "version": 3
   },
   "file_extension": ".py",
   "mimetype": "text/x-python",
   "name": "python",
   "nbconvert_exporter": "python",
   "pygments_lexer": "ipython3",
   "version": "3.6.2"
  }
 },
 "nbformat": 4,
 "nbformat_minor": 4
}
