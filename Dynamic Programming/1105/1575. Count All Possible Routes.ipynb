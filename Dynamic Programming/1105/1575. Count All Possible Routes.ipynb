{
 "cells": [
  {
   "cell_type": "raw",
   "metadata": {},
   "source": [
    "说明：\n",
    "    给你一个 互不相同 的整数数组，其中 locations[i] 表示第 i 个城市的位置。\n",
    "    同时给你 start，finish 和 fuel 分别表示出发城市、目的地城市和你初始拥有的汽油总量\n",
    "    每一步中，如果你在城市 i ，你可以选择任意一个城市 j ，满足  j != i 且 0 <= j < locations.length ，并移动到城市 j 。\n",
    "    从城市 i 移动到 j 消耗的汽油量为 |locations[i] - locations[j]|，|x| 表示 x 的绝对值。\n",
    "    请注意， fuel 任何时刻都 不能 为负，且你 可以 经过任意城市超过一次（包括 start 和 finish ）。\n",
    "    请你返回从 start 到 finish 所有可能路径的数目。\n",
    "    由于答案可能很大， 请将它对 10^9 + 7 取余后返回。\n",
    "\n",
    "示例 1：\n",
    "    输入：locations = [2,3,6,8,4], start = 1, finish = 3, fuel = 5\n",
    "    输出：4\n",
    "    解释：以下为所有可能路径，每一条都用了 5 单位的汽油：\n",
    "            1 -> 3\n",
    "            1 -> 2 -> 3\n",
    "            1 -> 4 -> 3\n",
    "            1 -> 4 -> 2 -> 3\n",
    "\n",
    "示例 2：\n",
    "    输入：locations = [4,3,1], start = 1, finish = 0, fuel = 6\n",
    "    输出：5\n",
    "    解释：以下为所有可能的路径：\n",
    "            1 -> 0，使用汽油量为 fuel = 1\n",
    "            1 -> 2 -> 0，使用汽油量为 fuel = 5\n",
    "            1 -> 2 -> 1 -> 0，使用汽油量为 fuel = 5\n",
    "            1 -> 0 -> 1 -> 0，使用汽油量为 fuel = 3\n",
    "            1 -> 0 -> 1 -> 0 -> 1 -> 0，使用汽油量为 fuel = 5\n",
    "\n",
    "示例 3：\n",
    "    输入：locations = [5,2,1], start = 0, finish = 2, fuel = 3\n",
    "    输出：0\n",
    "    解释：没有办法只用 3 单位的汽油从 0 到达 2 。因为最短路径需要 4 单位的汽油。\n",
    "\n",
    "示例 4 ：\n",
    "    输入：locations = [2,1,5], start = 0, finish = 0, fuel = 3\n",
    "    输出：2\n",
    "    解释：总共有两条可行路径，0 和 0 -> 1 -> 0 。\n",
    "\n",
    "示例 5：\n",
    "    输入：locations = [1,2,3], start = 0, finish = 2, fuel = 40\n",
    "    输出：615088286\n",
    "    解释：路径总数为 2615088300 。将结果对 10^9 + 7 取余，得到 615088286 。\n",
    "\n",
    "提示：\n",
    "    1、2 <= locations.length <= 100\n",
    "    2、1 <= locations[i] <= 10^9\n",
    "    3、所有 locations 中的整数 互不相同 。\n",
    "    4、0 <= start, finish < locations.length\n",
    "    5、1 <= fuel <= 200"
   ]
  },
  {
   "cell_type": "code",
   "execution_count": 18,
   "metadata": {},
   "outputs": [],
   "source": [
    "class Solution:\n",
    "    def countRoutes(self, locations, start: int, finish: int, fuel: int) -> int:\n",
    "        def dp(cur_loc, fuel):\n",
    "            nonlocal memo\n",
    "            key = (cur_loc, fuel)\n",
    "            if key in memo:\n",
    "                return memo[key]\n",
    "            \n",
    "            if fuel < 0:  \n",
    "                return 0\n",
    "            ans = 0\n",
    "            if cur_loc == finish:\n",
    "                ans += 1\n",
    "            for loc in range(len(locations)):\n",
    "                if cur_loc != loc:\n",
    "                    ans += dp(loc, fuel - abs(locations[cur_loc] - locations[loc]))\n",
    "            \n",
    "            memo[key] = ans \n",
    "            return ans\n",
    "            \n",
    "        M = pow(10, 9) + 7\n",
    "        memo = {}\n",
    "        res = dp(start, fuel)\n",
    "        return res % M"
   ]
  },
  {
   "cell_type": "code",
   "execution_count": 21,
   "metadata": {},
   "outputs": [
    {
     "name": "stdout",
     "output_type": "stream",
     "text": [
      "2615088300\n"
     ]
    },
    {
     "data": {
      "text/plain": [
       "615088286"
      ]
     },
     "execution_count": 21,
     "metadata": {},
     "output_type": "execute_result"
    }
   ],
   "source": [
    "solution = Solution()\n",
    "solution.countRoutes(locations = [1,2,3], start = 0, finish = 2, fuel = 40)"
   ]
  },
  {
   "cell_type": "code",
   "execution_count": null,
   "metadata": {},
   "outputs": [],
   "source": []
  }
 ],
 "metadata": {
  "kernelspec": {
   "display_name": "Python 3",
   "language": "python",
   "name": "python3"
  },
  "language_info": {
   "codemirror_mode": {
    "name": "ipython",
    "version": 3
   },
   "file_extension": ".py",
   "mimetype": "text/x-python",
   "name": "python",
   "nbconvert_exporter": "python",
   "pygments_lexer": "ipython3",
   "version": "3.6.2"
  }
 },
 "nbformat": 4,
 "nbformat_minor": 4
}
