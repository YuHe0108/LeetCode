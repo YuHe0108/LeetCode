{
 "cells": [
  {
   "cell_type": "raw",
   "metadata": {},
   "source": [
    "说明：\n",
    "    你有一个 n x 3 的网格图 grid ，你需要用 红，黄，绿 三种颜色之一给每一个格子上色，\n",
    "    且确保相邻格子颜色不同（也就是有相同水平边或者垂直边的格子颜色不同）。\n",
    "    给你网格图的行数 n 。\n",
    "    请你返回给 grid 涂色的方案数。\n",
    "    由于答案可能会非常大，请你返回答案对 10^9 + 7 取余的结果。\n",
    "\n",
    "示例 1：\n",
    "    输入：n = 1\n",
    "    输出：12\n",
    "    解释：总共有 12 种可行的方法：\n",
    "\n",
    "示例 2：\n",
    "    输入：n = 2\n",
    "    输出：54\n",
    "\n",
    "示例 3：\n",
    "    输入：n = 3\n",
    "    输出：246\n",
    "\n",
    "示例 4：\n",
    "    输入：n = 7\n",
    "    输出：106494\n",
    "\n",
    "示例 5：\n",
    "    输入：n = 5000\n",
    "    输出：30228214\n",
    "\n",
    "提示：\n",
    "    1、n == grid.length\n",
    "    2、grid[i].length == 3\n",
    "    3、1 <= n <= 5000"
   ]
  },
  {
   "cell_type": "markdown",
   "metadata": {},
   "source": [
    "<img src='https://assets.leetcode-cn.com/aliyun-lc-upload/uploads/2020/04/12/e1.png' width=500>"
   ]
  },
  {
   "cell_type": "code",
   "execution_count": 27,
   "metadata": {},
   "outputs": [],
   "source": [
    "class Solution:\n",
    "    def numOfWays(self, n: int) -> int:\n",
    "        M = pow(10, 9) + 7\n",
    "        dp = [0] * 27\n",
    "        for i in range(27):\n",
    "            if self.is_ok(i):\n",
    "                dp[i] = 1\n",
    "                \n",
    "        for i in range(1, n):\n",
    "            dp_prev = [x for x in dp]\n",
    "            for j in range(27):\n",
    "                dp[j] = 0\n",
    "                if not self.is_ok(j):\n",
    "                    continue\n",
    "                for k in range(27):\n",
    "                    if not self.is_ok(k):\n",
    "                        continue\n",
    "                    if self.cross_ok(j, k):\n",
    "                        dp[j] += dp_prev[k]\n",
    "        res = 0\n",
    "        for i in range(27):\n",
    "            if self.is_ok(i):\n",
    "                res += dp[i]\n",
    "        return res % M\n",
    "    \n",
    "    def is_ok(self, num):\n",
    "        arr = []\n",
    "        for i in range(3):\n",
    "            arr.append(num % 3)\n",
    "            num //= 3\n",
    "        return (arr[0] != arr[1]) and (arr[1] != arr[2])\n",
    "    \n",
    "    def cross_ok(self, n1, n2):\n",
    "        arr1, arr2 = [], []\n",
    "        for i in range(3):\n",
    "            arr1.append(n1 % 3)\n",
    "            arr2.append(n2 % 3)\n",
    "            n1 //= 3\n",
    "            n2 //= 3\n",
    "        for i in range(3):\n",
    "            if arr1[i] == arr2[i]:\n",
    "                return False\n",
    "        return True"
   ]
  },
  {
   "cell_type": "code",
   "execution_count": null,
   "metadata": {},
   "outputs": [],
   "source": [
    "class Solution:\n",
    "    def numOfWays(self, n: int) -> int:\n",
    "        pass"
   ]
  },
  {
   "cell_type": "code",
   "execution_count": 28,
   "metadata": {},
   "outputs": [
    {
     "data": {
      "text/plain": [
       "30228214"
      ]
     },
     "execution_count": 28,
     "metadata": {},
     "output_type": "execute_result"
    }
   ],
   "source": [
    "solution = Solution()\n",
    "solution.numOfWays(5000)"
   ]
  },
  {
   "cell_type": "markdown",
   "metadata": {},
   "source": [
    "<img src='1411.jpg'>"
   ]
  },
  {
   "cell_type": "code",
   "execution_count": 25,
   "metadata": {},
   "outputs": [],
   "source": [
    "class Solution:\n",
    "    def numOfWays(self, n: int) -> int:\n",
    "        M = pow(10, 9) + 7\n",
    "        color_2, color_3 = 6, 6\n",
    "        for i in range(1, n):\n",
    "            temp2, temp3 = color_2, color_3\n",
    "            color_2 = temp2 * 3 + temp3 * 2\n",
    "            color_3 = temp2 * 2 + temp3 * 2\n",
    "        return (color_2 + color_3) % M"
   ]
  },
  {
   "cell_type": "code",
   "execution_count": 26,
   "metadata": {},
   "outputs": [
    {
     "data": {
      "text/plain": [
       "30228214"
      ]
     },
     "execution_count": 26,
     "metadata": {},
     "output_type": "execute_result"
    }
   ],
   "source": [
    "solution = Solution()\n",
    "solution.numOfWays(5000)"
   ]
  },
  {
   "cell_type": "code",
   "execution_count": null,
   "metadata": {},
   "outputs": [],
   "source": []
  }
 ],
 "metadata": {
  "kernelspec": {
   "display_name": "Python 3",
   "language": "python",
   "name": "python3"
  },
  "language_info": {
   "codemirror_mode": {
    "name": "ipython",
    "version": 3
   },
   "file_extension": ".py",
   "mimetype": "text/x-python",
   "name": "python",
   "nbconvert_exporter": "python",
   "pygments_lexer": "ipython3",
   "version": "3.6.2"
  }
 },
 "nbformat": 4,
 "nbformat_minor": 4
}
