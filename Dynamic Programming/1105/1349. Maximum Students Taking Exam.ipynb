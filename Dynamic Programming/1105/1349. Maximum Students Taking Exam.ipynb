{
 "cells": [
  {
   "cell_type": "raw",
   "metadata": {},
   "source": [
    "说明：\n",
    "    给你一个 m * n 的矩阵 seats 表示教室中的座位分布。如果座位是坏的（不可用），就用 '#' 表示；否则，用 '.' 表示。\n",
    "    学生可以看到左侧、右侧、左上、右上这四个方向上紧邻他的学生的答卷，但是看不到直接坐在他前面或者后面的学生的答卷。\n",
    "    请你计算并返回该考场可以容纳的一起参加考试且无法作弊的最大学生人数。\n",
    "    学生必须坐在状况良好的座位上。\n",
    "\n",
    "示例 2：\n",
    "    输入：seats = [[\".\",\"#\"],\n",
    "                  [\"#\",\"#\"],\n",
    "                  [\"#\",\".\"],\n",
    "                  [\"#\",\"#\"],\n",
    "                  [\".\",\"#\"]]\n",
    "    输出：3\n",
    "    解释：让所有学生坐在可用的座位上。\n",
    "\n",
    "示例 3：\n",
    "    输入：seats = [[\"#\",\".\",\".\",\".\",\"#\"],\n",
    "                  [\".\",\"#\",\".\",\"#\",\".\"],\n",
    "                  [\".\",\".\",\"#\",\".\",\".\"],\n",
    "                  [\".\",\"#\",\".\",\"#\",\".\"],\n",
    "                  [\"#\",\".\",\".\",\".\",\"#\"]]\n",
    "    输出：10\n",
    "    解释：让学生坐在第 1、3 和 5 列的可用座位上。\n",
    "\n",
    "提示：\n",
    "    1、seats 只包含字符 '.' 和'#'\n",
    "    2、m == seats.length\n",
    "    3、n == seats[i].length\n",
    "    4、1 <= m <= 8\n",
    "    5、1 <= n <= 8"
   ]
  },
  {
   "cell_type": "markdown",
   "metadata": {},
   "source": [
    "<img src='https://assets.leetcode.com/uploads/2020/01/29/image.png'>"
   ]
  },
  {
   "cell_type": "raw",
   "metadata": {},
   "source": [
    "\n",
    "示例 1：\n",
    "    输入：seats = [[\"#\",\".\",\"#\",\"#\",\".\",\"#\"],\n",
    "                  [\".\",\"#\",\"#\",\"#\",\"#\",\".\"],\n",
    "                  [\"#\",\".\",\"#\",\"#\",\".\",\"#\"]]\n",
    "    输出：4\n",
    "    解释：教师可以让 4 个学生坐在可用的座位上，这样他们就无法在考试中作弊。 \n"
   ]
  },
  {
   "cell_type": "code",
   "execution_count": 110,
   "metadata": {},
   "outputs": [],
   "source": [
    "class Solution:\n",
    "    def maxStudents(self, seats) -> int:\n",
    "        # 每行最多有 cols把椅子，可以坐人也可以不做人，一共有 pow(2, cols)种方法\n",
    "        rows, cols = len(seats), len(seats[0])\n",
    "        total = pow(2, cols)\n",
    "        \n",
    "        dp = [0] * total\n",
    "        for p in range(total):\n",
    "            if not self.is_ok(cols, p, seats[0]):\n",
    "                continue\n",
    "            dp[p] = self.count(cols, p)\n",
    "        \n",
    "        for r in range(1, rows):\n",
    "            pre_dp = [x for x in dp]\n",
    "            \n",
    "            # 当前座位 的可能情况\n",
    "            for cur_p in range(total):\n",
    "                if not self.is_ok(cols, cur_p, seats[r]):\n",
    "                    continue\n",
    "                    \n",
    "                dp[cur_p] = 0\n",
    "                # 前一个座位的可能情况\n",
    "                for pre_p in range(total):\n",
    "                    if not self.is_ok(cols, pre_p, seats[r-1]) or not self.cross_ok(pre_p, cur_p, cols):\n",
    "                        continue\n",
    "                    dp[cur_p] = max(dp[cur_p], pre_dp[pre_p] + self.count(cols, cur_p))\n",
    "                    \n",
    "        cnt = -float('inf')\n",
    "        for p in range(total):\n",
    "            if self.is_ok(cols, p, seats[-1]):\n",
    "                cnt = max(cnt, dp[p])\n",
    "        return cnt\n",
    "    \n",
    "    def decode(self, cols, pattern):\n",
    "        state = []\n",
    "        for i in range(cols):\n",
    "            state.append(pattern % 2)\n",
    "            pattern //= 2\n",
    "        return state\n",
    "    \n",
    "    def count(self, cols, pattern):\n",
    "        state = self.decode(cols, pattern)\n",
    "        return state.count(1)\n",
    "            \n",
    "    def is_ok(self, cols, pattern, seats):\n",
    "        state = self.decode(cols, pattern)\n",
    "        for i, p in enumerate(state):\n",
    "            if p == 1:\n",
    "                if seats[i] == '#': # 假设有人，但是如果椅子是坏的，不符合情况\n",
    "                    return False\n",
    "                if i > 0 and state[i-1] == 1: # 左边不能有人\n",
    "                    return False\n",
    "                if i < cols - 1 and state[i+1] == 1: # 右边不能有人\n",
    "                    return False\n",
    "        return True\n",
    "        \n",
    "    def cross_ok(self, pre, cur, cols):\n",
    "        # 左边和右边不能有人\n",
    "        pre_state = self.decode(cols, pre)\n",
    "        cur_state = self.decode(cols, cur)\n",
    "        for i, s in enumerate(cur_state):\n",
    "            if s == 1:\n",
    "                if i > 0 and pre_state[i-1] == 1:\n",
    "                    return False\n",
    "                if i < cols - 1 and pre_state[i+1] == 1:\n",
    "                    return False\n",
    "        return True"
   ]
  },
  {
   "cell_type": "code",
   "execution_count": 112,
   "metadata": {},
   "outputs": [],
   "source": [
    "class Solution:\n",
    "    def maxStudents(self, seats) -> int:\n",
    "        # 每行最多有 cols把椅子，可以坐人也可以不做人，一共有 pow(2, cols)种方法\n",
    "        pass"
   ]
  },
  {
   "cell_type": "code",
   "execution_count": 113,
   "metadata": {},
   "outputs": [],
   "source": [
    "solution = Solution()\n",
    "solution.maxStudents(seats = [[\"#\",\".\",\".\",\".\",\"#\"],\n",
    "                              [\".\",\"#\",\".\",\"#\",\".\"],\n",
    "                              [\".\",\".\",\"#\",\".\",\".\"],\n",
    "                              [\".\",\"#\",\".\",\"#\",\".\"],\n",
    "                              [\"#\",\".\",\".\",\".\",\"#\"]])"
   ]
  },
  {
   "cell_type": "code",
   "execution_count": null,
   "metadata": {},
   "outputs": [],
   "source": []
  },
  {
   "cell_type": "code",
   "execution_count": null,
   "metadata": {},
   "outputs": [],
   "source": []
  },
  {
   "cell_type": "code",
   "execution_count": null,
   "metadata": {},
   "outputs": [],
   "source": []
  },
  {
   "cell_type": "code",
   "execution_count": 4,
   "metadata": {},
   "outputs": [],
   "source": [
    "def cross_ok(idx, prev):\n",
    "    # 左上和右上不能有人\n",
    "    if idx > 0 and prev[idx-1] == '*':\n",
    "        return False\n",
    "    if idx < len(prev) - 1 and prev[idx+1] == '*':\n",
    "        return False\n",
    "    return True"
   ]
  },
  {
   "cell_type": "code",
   "execution_count": 6,
   "metadata": {},
   "outputs": [
    {
     "data": {
      "text/plain": [
       "False"
      ]
     },
     "execution_count": 6,
     "metadata": {},
     "output_type": "execute_result"
    }
   ],
   "source": [
    "cross_ok(1, [\"*\",\"#\",\"#\",\"#\",\"#\",\".\"])"
   ]
  },
  {
   "cell_type": "code",
   "execution_count": 24,
   "metadata": {},
   "outputs": [],
   "source": [
    "def is_ok(pattern, seats):\n",
    "    # 左边和右边不能有人\n",
    "    res = []\n",
    "    for i in range(len(seats)):\n",
    "        res.append(pattern % 2)\n",
    "        pattern //= 2\n",
    "    return res"
   ]
  },
  {
   "cell_type": "code",
   "execution_count": 31,
   "metadata": {},
   "outputs": [
    {
     "data": {
      "text/plain": [
       "[0, 0, 0, 1, 1, 1]"
      ]
     },
     "execution_count": 31,
     "metadata": {},
     "output_type": "execute_result"
    }
   ],
   "source": [
    "is_ok(440, [\"*\",\"#\",\"#\",\"#\",\"#\",\".\"])"
   ]
  },
  {
   "cell_type": "code",
   "execution_count": 53,
   "metadata": {},
   "outputs": [],
   "source": [
    "def count(pattern):\n",
    "    cnt = [0] * 6\n",
    "    while pattern != 0:\n",
    "        cnt[pattern % 2] = 1\n",
    "        pattern //= 2\n",
    "    return cnt"
   ]
  },
  {
   "cell_type": "code",
   "execution_count": 56,
   "metadata": {},
   "outputs": [],
   "source": [
    "def is_ok(rows, cols, pattern, seats):\n",
    "    # 左边和右边不能有人\n",
    "    state = []\n",
    "    for i in range(cols):\n",
    "        state.append(pattern % 2)\n",
    "        pattern //= 2\n",
    "    print(state)\n",
    "    return"
   ]
  },
  {
   "cell_type": "code",
   "execution_count": 79,
   "metadata": {},
   "outputs": [],
   "source": [
    "def count(cols, pattern):\n",
    "    state = []\n",
    "    for i in range(cols):\n",
    "        state.append(pattern % 2)\n",
    "        pattern //= 2\n",
    "    print(state)\n",
    "    return state.count(1)"
   ]
  },
  {
   "cell_type": "code",
   "execution_count": 90,
   "metadata": {},
   "outputs": [],
   "source": [
    "    \n",
    "#     def is_ok(self, arr, idx):\n",
    "#         # 左边和右边不能有人, 用 '*' 代表坐了人\n",
    "#         if idx > 0 and arr[idx-1] == '*':\n",
    "#             return False\n",
    "#         if idx < len(arr) - 1 and arr[idx+1] == '*':\n",
    "#             return False\n",
    "#         return True\n",
    "    \n",
    "#     def cross_ok(self, idx, prev):\n",
    "#         # 左上和右上不能有人\n",
    "#         if idx > 0 and prev[idx-1] == '*':\n",
    "#             return False\n",
    "#         if idx < len(prev) - 1 and prev[idx+1] == '*':\n",
    "#             return False\n",
    "#         return True"
   ]
  },
  {
   "cell_type": "code",
   "execution_count": 62,
   "metadata": {},
   "outputs": [
    {
     "name": "stdout",
     "output_type": "stream",
     "text": [
      "64\n"
     ]
    }
   ],
   "source": [
    "print(pow(2, 6))"
   ]
  },
  {
   "cell_type": "code",
   "execution_count": null,
   "metadata": {},
   "outputs": [],
   "source": [
    "class Solution:\n",
    "    def maxStudents(self, seats: List[List[str]]) -> int:\n",
    "        rows, cols = len(seats), len(seats[0])\n",
    "        total = pow(2, cols)\n",
    "        dp = [0] * total\n",
    "        \n",
    "        for p in range(total):\n",
    "            if self.is_ok(p, cols, seats[0]):\n",
    "                dp[p] = self.count(p, cols)\n",
    "        \n",
    "        for r in range(1, rows):\n",
    "            pre_dp = [x for x in dp]\n",
    "            for cur_p in range(total):\n",
    "                if not self.is_ok(cur_p, cols, seats[r]):\n",
    "                    continue\n",
    "                dp[cur_p] = 0\n",
    "                for pre_p in range(total):\n",
    "                    if not self.is_ok(pre_p, cols, seats[r-1]):\n",
    "                        continue\n",
    "                    if not self.cross_ok(pre_p, cur_p, cols):\n",
    "                        continue\n",
    "                    dp[cur_p] = max(dp[cur_p], \n",
    "                                    pre_dp[pre_p] + self.count(cur_p, cols))\n",
    "                \n",
    "        res = -float('inf')\n",
    "        for p in range(total):\n",
    "            if self.is_ok(p, cols, seats[-1]):\n",
    "                res = max(res, dp[p])\n",
    "        return res\n",
    "    \n",
    "    def decode(self, pattern, cols):\n",
    "        state = []\n",
    "        for i in range(cols):\n",
    "            state.append(pattern % 2)\n",
    "            pattern //= 2\n",
    "        return state\n",
    "    \n",
    "    def count(self, pattern, cols):\n",
    "        state = self.decode(pattern, cols)\n",
    "        return state.count(1)\n",
    "    \n",
    "    def is_ok(self, pattern, cols, seats):\n",
    "        state = self.decode(pattern, cols)\n",
    "        for i, n in enumerate(state):\n",
    "            if n == 1:\n",
    "                if seats[i] == '#':\n",
    "                    return False\n",
    "                if i > 0 and state[i-1] == 1:\n",
    "                    return False\n",
    "                if i < cols-1 and state[i+1] == 1:\n",
    "                    return False\n",
    "        return True\n",
    "    \n",
    "    def cross_ok(self, pre_p, cur_p, cols):\n",
    "        pre_s = self.decode(pre_p, cols)\n",
    "        cur_s = self.decode(cur_p, cols)\n",
    "        for i, n in enumerate(cur_s):\n",
    "            if n == 1:\n",
    "                if i > 0 and pre_s[i-1] == 1:\n",
    "                    return False\n",
    "                if i < cols-1 and pre_s[i+1] == 1:\n",
    "                    return False\n",
    "        return True\n",
    "        \n",
    "        \n",
    "        \n",
    "        "
   ]
  }
 ],
 "metadata": {
  "kernelspec": {
   "display_name": "Python 3",
   "language": "python",
   "name": "python3"
  },
  "language_info": {
   "codemirror_mode": {
    "name": "ipython",
    "version": 3
   },
   "file_extension": ".py",
   "mimetype": "text/x-python",
   "name": "python",
   "nbconvert_exporter": "python",
   "pygments_lexer": "ipython3",
   "version": "3.6.2"
  }
 },
 "nbformat": 4,
 "nbformat_minor": 4
}
