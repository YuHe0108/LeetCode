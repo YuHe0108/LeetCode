{
 "cells": [
  {
   "cell_type": "raw",
   "metadata": {},
   "source": [
    "说明：    \n",
    "    我们有 n 栋楼，编号从 0 到 n - 1 。每栋楼有若干员工。由于现在是换楼的季节，部分员工想要换一栋楼居住。\n",
    "\n",
    "    给你一个数组 requests ，其中 requests[i] = [from-i, to-i] ，表示一个员工请求从编号为 from-i 的楼搬到编号为 to-i 的楼。\n",
    "\n",
    "    一开始 所有楼都是满的，所以从请求列表中选出的若干个请求是可行的需要满足 每栋楼员工净变化为 0 。\n",
    "    意思是每栋楼 离开 的员工数目 等于 该楼 搬入 的员工数数目。\n",
    "    比方说 n = 3 且两个员工要离开楼 0 ，一个员工要离开楼 1 ，一个员工要离开楼 2 ，如果该请求列表可行，\n",
    "    应该要有两个员工搬入楼 0 ，一个员工搬入楼 1 ，一个员工搬入楼 2 。\n",
    "\n",
    "    请你从原请求列表中选出若干个请求，使得它们是一个可行的请求列表，并返回所有可行列表中最大请求数目。\n",
    "\n",
    "例1：\n",
    "    输入：n = 5, requests = [[0,1],[1,0],[0,1],[1,2],[2,0],[3,4]]\n",
    "    输出：5\n",
    "    解释：请求列表如下：\n",
    "        从楼 0 离开的员工为 x 和 y ，且他们都想要搬到楼 1 。\n",
    "        从楼 1 离开的员工为 a 和 b ，且他们分别想要搬到楼 2 和 0 。\n",
    "        从楼 2 离开的员工为 z ，且他想要搬到楼 0 。\n",
    "        从楼 3 离开的员工为 c ，且他想要搬到楼 4 。\n",
    "        没有员工从楼 4 离开。\n",
    "        我们可以让 x 和 b 交换他们的楼，以满足他们的请求。\n",
    "        我们可以让 y，a 和 z 三人在三栋楼间交换位置，满足他们的要求。\n",
    "        所以最多可以满足 5 个请求。\n",
    "\n",
    "Constraints:\n",
    "    1、1 <= n <= 20\n",
    "    2、1 <= requests.length <= 16\n",
    "    3、requests[i].length == 2\n",
    "    4、0 <= fromi, toi < n"
   ]
  },
  {
   "cell_type": "markdown",
   "metadata": {},
   "source": [
    "<img src='https://assets.leetcode-cn.com/aliyun-lc-upload/uploads/2020/09/26/move1.jpg' width=500>"
   ]
  },
  {
   "cell_type": "code",
   "execution_count": 27,
   "metadata": {},
   "outputs": [],
   "source": [
    "class Solution:\n",
    "    def maximumRequests(self, n: int, requests) -> int:\n",
    "        ret = 0\n",
    "        m = len(requests) # 每个 requests 都可以选或者不选，一共就有 pow(2, m) 个组合\n",
    "        for state in range(1 << m):\n",
    "            if self.is_ok(n, state, requests):\n",
    "                ret = max(ret, self.count(state))\n",
    "        return ret    \n",
    "        \n",
    "    def is_ok(self, n, state, req):\n",
    "        # 所有楼的输入输出之和为0\n",
    "        builds = [0] * 20 # 初始化都是0，满足条件\n",
    "        \n",
    "        m = len(req) # 一共有 m 个比特位\n",
    "        for i in range(m):\n",
    "            if state & 1:\n",
    "                ou_b, in_b = req[i]\n",
    "                builds[ou_b] -= 1\n",
    "                builds[in_b] += 1\n",
    "            state >>= 1\n",
    "        \n",
    "        for n in builds:\n",
    "            if n != 0:\n",
    "                return False\n",
    "        return True\n",
    "        \n",
    "    def count(self, state):\n",
    "        # 统计不同state下有多少个人\n",
    "        res = 0\n",
    "        while state:\n",
    "            if state & 1:\n",
    "                res += 1\n",
    "            state >>= 1\n",
    "        return res"
   ]
  },
  {
   "cell_type": "code",
   "execution_count": 43,
   "metadata": {},
   "outputs": [],
   "source": [
    "class Solution:\n",
    "    def maximumRequests(self, n: int, requests) -> int:\n",
    "        m = len(requests) # 每个 requests 都可以选或者不选，一共就有 pow(2, m) 个组合\n",
    "        \n",
    "        for k in range(m, 0, -1):\n",
    "            state = (1 << k) - 1 # 具有 k 个 1 的 bit-mask\n",
    "            \n",
    "            while state < (1 << m):\n",
    "                if self.is_ok(n, state, requests):\n",
    "                    return k\n",
    "                \n",
    "                c = state & -state\n",
    "                r = state + c\n",
    "                state = (((r ^ state) >> 2) / c) | r\n",
    "        return 0  \n",
    "        \n",
    "    def is_ok(self, n, state, req):\n",
    "        # 所有楼的输入输出之和为0\n",
    "        builds = [0] * 20 # 初始化都是0，满足条件\n",
    "        \n",
    "        m = len(req) # 一共有 m 个比特位\n",
    "        for i in range(m):\n",
    "            if state & 1:\n",
    "                ou_b, in_b = req[i]\n",
    "                builds[ou_b] -= 1\n",
    "                builds[in_b] += 1\n",
    "            state >>= 1\n",
    "        \n",
    "        for n in builds:\n",
    "            if n != 0:\n",
    "                return False\n",
    "        return True"
   ]
  },
  {
   "cell_type": "code",
   "execution_count": 44,
   "metadata": {},
   "outputs": [
    {
     "data": {
      "text/plain": [
       "3"
      ]
     },
     "execution_count": 44,
     "metadata": {},
     "output_type": "execute_result"
    }
   ],
   "source": [
    "solution = Solution()\n",
    "solution.maximumRequests(n = 3, requests = [[0,0],[1,2],[2,1]])"
   ]
  },
  {
   "cell_type": "code",
   "execution_count": 7,
   "metadata": {},
   "outputs": [],
   "source": [
    "def count(state):\n",
    "    res = 0\n",
    "    while state:\n",
    "        if state & 1:\n",
    "            res += 1\n",
    "        state >>= 1\n",
    "    return res"
   ]
  },
  {
   "cell_type": "code",
   "execution_count": 10,
   "metadata": {},
   "outputs": [
    {
     "data": {
      "text/plain": [
       "2"
      ]
     },
     "execution_count": 10,
     "metadata": {},
     "output_type": "execute_result"
    }
   ],
   "source": [
    "count(3)"
   ]
  },
  {
   "cell_type": "code",
   "execution_count": 30,
   "metadata": {},
   "outputs": [
    {
     "data": {
      "text/plain": [
       "False"
      ]
     },
     "execution_count": 30,
     "metadata": {},
     "output_type": "execute_result"
    }
   ],
   "source": [
    "all([2, 1, 2, 0])"
   ]
  },
  {
   "cell_type": "code",
   "execution_count": null,
   "metadata": {},
   "outputs": [],
   "source": []
  }
 ],
 "metadata": {
  "kernelspec": {
   "display_name": "Python 3",
   "language": "python",
   "name": "python3"
  },
  "language_info": {
   "codemirror_mode": {
    "name": "ipython",
    "version": 3
   },
   "file_extension": ".py",
   "mimetype": "text/x-python",
   "name": "python",
   "nbconvert_exporter": "python",
   "pygments_lexer": "ipython3",
   "version": "3.6.2"
  }
 },
 "nbformat": 4,
 "nbformat_minor": 4
}
