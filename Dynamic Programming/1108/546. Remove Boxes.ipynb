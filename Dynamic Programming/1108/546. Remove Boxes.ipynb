{
 "cells": [
  {
   "cell_type": "raw",
   "metadata": {},
   "source": [
    "说明：\n",
    "    给出一些不同颜色的盒子，盒子的颜色由数字表示，即不同的数字表示不同的颜色。\n",
    "    你将经过若干轮操作去去掉盒子，直到所有的盒子都去掉为止。\n",
    "    每一轮你可以移除具有相同颜色的连续 k 个盒子（k >= 1），这样一轮之后你将得到 k*k 个积分。\n",
    "    当你将所有盒子都去掉之后，求你能获得的最大积分和。\n",
    "\n",
    "示例：\n",
    "    输入：boxes = [1,3,2,2,2,3,4,3,1]\n",
    "    输出：23\n",
    "    解释：\n",
    "        [1, 3, 2, 2, 2, 3, 4, 3, 1] \n",
    "        ----> [1, 3, 3, 4, 3, 1] (3*3=9 分) \n",
    "        ----> [1, 3, 3, 3, 1] (1*1=1 分) \n",
    "        ----> [1, 1] (3*3=9 分) \n",
    "        ----> [] (2*2=4 分)\n",
    "\n",
    "提示：\n",
    "    1 <= boxes.length <= 100\n",
    "    1 <= boxes[i] <= 100"
   ]
  },
  {
   "cell_type": "code",
   "execution_count": 46,
   "metadata": {},
   "outputs": [],
   "source": [
    "class Solution:\n",
    "    def removeBoxes(self, boxes) -> int:\n",
    "        # dp[l][r][k] 表示在 l-r 的区间长度内，在r后面还有 k 个元素 == boxes[r] \n",
    "        dp = [[[0] * 100 for _ in range(100)] for _ in range(100)]\n",
    "        n = len(boxes)\n",
    "        \n",
    "        def dfs(l, r, k):\n",
    "            if l > r: \n",
    "                return 0\n",
    "            if dp[l][r][k] != 0:\n",
    "                return dp[l][r][k]\n",
    "            \n",
    "            idx = r\n",
    "            count = k\n",
    "            while idx >= l and boxes[idx] == boxes[r]:\n",
    "                idx -= 1\n",
    "                count += 1\n",
    "                \n",
    "            # 第一种情况\n",
    "            dp[l][r][k] = dfs(l, idx, 0) + count * count\n",
    "            # 第二种情况\n",
    "            for j in range(idx, l-1, -1):\n",
    "                if boxes[j] != boxes[r]:\n",
    "                    continue\n",
    "                if boxes[j] == boxes[r] and boxes[j+1] == boxes[r]:\n",
    "                    continue\n",
    "                dp[l][r][k] = max(dp[l][r][k], dfs(l, j, count) + dfs(j+1, idx, 0)) \n",
    "            return dp[l][r][k]\n",
    "        return dfs(0, n-1, 0)"
   ]
  },
  {
   "cell_type": "code",
   "execution_count": 47,
   "metadata": {},
   "outputs": [
    {
     "data": {
      "text/plain": [
       "23"
      ]
     },
     "execution_count": 47,
     "metadata": {},
     "output_type": "execute_result"
    }
   ],
   "source": [
    "solution = Solution()\n",
    "solution.removeBoxes(boxes = [1,3,2,2,2,3,4,3,1])"
   ]
  },
  {
   "cell_type": "code",
   "execution_count": null,
   "metadata": {},
   "outputs": [],
   "source": [
    "class Solution:\n",
    "    def removeBoxes(self, boxes) -> int:\n",
    "        # dp[l][r][k] 表示在 l-r 的区间长度内，在r后面还有 k 个元素 == boxes[r] \n",
    "        self.dp = [[[0] * 100 for _ in range(100)] for _ in range(100)]\n",
    "        self.boxes = boxes\n",
    "        self.n = len(boxes)\n",
    "        return self.dfs(0, self.n - 1, 0)\n",
    "    \n",
    "    def dfs(self, l, r, k):\n",
    "            if l > r: \n",
    "                return 0\n",
    "            if self.dp[l][r][k] != 0:\n",
    "                return self.dp[l][r][k]\n",
    "            \n",
    "            idx = r\n",
    "            count = k\n",
    "            while idx >= l and self.boxes[idx] == self.boxes[r]:\n",
    "                idx -= 1\n",
    "                count += 1\n",
    "                \n",
    "            # 第一种情况\n",
    "            self.dp[l][r][k] = self.dfs(l, idx, 0) + count * count\n",
    "            # 第二种情况\n",
    "            j = idx\n",
    "            while j >= l:\n",
    "                if self.boxes[j] != self.boxes[r]:\n",
    "                    continue\n",
    "                if self.boxes[j] == self.boxes[r] and self.boxes[j+1] == self.boxes[r]:\n",
    "                    continue\n",
    "                self.dp[l][r][k] = max(self.dp[l][r][k], self.dfs(l, j, count) + self.dfs(j+1, r-1, 0)) \n",
    "                j -= 1\n",
    "            return self.dp[l][r][k]"
   ]
  }
 ],
 "metadata": {
  "kernelspec": {
   "display_name": "Python 3",
   "language": "python",
   "name": "python3"
  },
  "language_info": {
   "codemirror_mode": {
    "name": "ipython",
    "version": 3
   },
   "file_extension": ".py",
   "mimetype": "text/x-python",
   "name": "python",
   "nbconvert_exporter": "python",
   "pygments_lexer": "ipython3",
   "version": "3.6.2"
  }
 },
 "nbformat": 4,
 "nbformat_minor": 4
}
