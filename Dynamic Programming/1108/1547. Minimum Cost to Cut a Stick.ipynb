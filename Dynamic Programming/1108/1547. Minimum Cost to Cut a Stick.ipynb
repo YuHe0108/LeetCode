{
 "cells": [
  {
   "cell_type": "raw",
   "metadata": {},
   "source": [
    "说明：\n",
    "    有一根长度为 n 个单位的木棍，棍上从 0 到 n 标记了若干位置。\n",
    "    例如，长度为 6 的棍子可以标记如下："
   ]
  },
  {
   "cell_type": "markdown",
   "metadata": {},
   "source": [
    "<img src='https://assets.leetcode-cn.com/aliyun-lc-upload/uploads/2020/08/09/statement.jpg'>"
   ]
  },
  {
   "cell_type": "raw",
   "metadata": {},
   "source": [
    "    给你一个整数数组 cuts ，其中 cuts[i] 表示你需要将棍子切开的位置。\n",
    "\n",
    "    你可以按顺序完成切割，也可以根据需要更改切割的顺序。\n",
    "\n",
    "    每次切割的成本都是当前要切割的棍子的长度，切棍子的总成本是历次切割成本的总和。\n",
    "    对棍子进行切割将会把一根木棍分成两根较小的木棍（这两根木棍的长度和就是切割前木棍的长度）。请参阅第一个示例以获得更直观的解释。\n",
    "\n",
    "    返回切棍子的 最小总成本 。"
   ]
  },
  {
   "cell_type": "markdown",
   "metadata": {},
   "source": [
    "<img src='https://assets.leetcode-cn.com/aliyun-lc-upload/uploads/2020/08/09/e1.jpg'>"
   ]
  },
  {
   "cell_type": "raw",
   "metadata": {},
   "source": [
    "输入：n = 7, cuts = [1,3,4,5]\n",
    "输出：16\n",
    "解释：\n",
    "    按 [1, 3, 4, 5] 的顺序切割的情况如下所示：\n",
    "    第一次切割长度为 7 的棍子，成本为 7 。\n",
    "    第二次切割长度为 6 的棍子（即第一次切割得到的第二根棍子），\n",
    "    第三次切割为长度 4 的棍子，最后切割长度为 3 的棍子。总成本为 7 + 6 + 4 + 3 = 20 。\n",
    "    而将切割顺序重新排列为 [3, 5, 1, 4] 后，总成本 = 16（如示例图中 7 + 4 + 3 + 2 = 16）。"
   ]
  },
  {
   "cell_type": "markdown",
   "metadata": {},
   "source": [
    "<img src='https://assets.leetcode-cn.com/aliyun-lc-upload/uploads/2020/08/09/e11.jpg'>"
   ]
  },
  {
   "cell_type": "code",
   "execution_count": 30,
   "metadata": {},
   "outputs": [],
   "source": [
    "class Solution:\n",
    "    def minCost(self, n: int, cuts) -> int:\n",
    "        def dp(start, end, cuts):\n",
    "            if (start, end) in memo:\n",
    "                return memo[(start, end)]\n",
    "            \n",
    "            cnt = float('inf')\n",
    "            can_cut = False\n",
    "            for i, c in enumerate(cuts):\n",
    "                if start < c < end:\n",
    "                    can_cut = True\n",
    "                    cnt = min(cnt, dp(start, c, cuts[:i] + cuts[i+1:]) + dp(c, end, cuts[:i] + cuts[i+1:]) + end - start)\n",
    "            \n",
    "            if not can_cut:\n",
    "                return 0\n",
    "            \n",
    "            memo[(start, end)] = cnt\n",
    "            return cnt\n",
    "        \n",
    "        memo = {}\n",
    "        return dp(0, n, cuts)"
   ]
  },
  {
   "cell_type": "code",
   "execution_count": 60,
   "metadata": {},
   "outputs": [],
   "source": [
    "class Solution:\n",
    "    def minCost(self, n: int, cuts) -> int:\n",
    "        cuts.sort()\n",
    "        cuts = [0] + cuts + [n]\n",
    "        m = len(cuts)\n",
    "        dp = [[0] * m for _ in range(m)]\n",
    "        \n",
    "        for d in range(2, m):\n",
    "            for start in range(m - d):\n",
    "                end = start + d\n",
    "                val = float('inf')\n",
    "                for k in range(start+1, end):\n",
    "                    val = min(val, dp[start][k] + dp[k][end] + cuts[end] - cuts[start])\n",
    "                dp[start][end] = val\n",
    "        return dp[0][-1]"
   ]
  },
  {
   "cell_type": "code",
   "execution_count": 63,
   "metadata": {},
   "outputs": [],
   "source": [
    "class Solution:\n",
    "    def minCost(self, n: int, cuts) -> int:\n",
    "        cuts.sort()\n",
    "        cuts = [0] + cuts + [n]\n",
    "        m = len(cuts)\n",
    "        dp = [[0] * m for _ in range(m)]\n",
    "        \n",
    "        for d in range(2, m):\n",
    "            for i in range(m - d):\n",
    "                j = i + d\n",
    "                dp[i][j] = min(dp[i][k] + dp[k][j] for k in range(i + 1, j)) + cuts[j] - cuts[i]\n",
    "        return dp[0][m - 1]"
   ]
  },
  {
   "cell_type": "code",
   "execution_count": 64,
   "metadata": {},
   "outputs": [
    {
     "data": {
      "text/plain": [
       "16"
      ]
     },
     "execution_count": 64,
     "metadata": {},
     "output_type": "execute_result"
    }
   ],
   "source": [
    "solution = Solution()\n",
    "solution.minCost(n = 7, cuts = [1,3,4,5])"
   ]
  },
  {
   "cell_type": "code",
   "execution_count": null,
   "metadata": {},
   "outputs": [],
   "source": []
  }
 ],
 "metadata": {
  "kernelspec": {
   "display_name": "Python 3",
   "language": "python",
   "name": "python3"
  },
  "language_info": {
   "codemirror_mode": {
    "name": "ipython",
    "version": 3
   },
   "file_extension": ".py",
   "mimetype": "text/x-python",
   "name": "python",
   "nbconvert_exporter": "python",
   "pygments_lexer": "ipython3",
   "version": "3.6.2"
  }
 },
 "nbformat": 4,
 "nbformat_minor": 4
}
