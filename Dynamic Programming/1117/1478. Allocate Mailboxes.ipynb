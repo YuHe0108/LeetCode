{
 "cells": [
  {
   "cell_type": "raw",
   "metadata": {},
   "source": [
    "    给你一个房屋数组houses 和一个整数 k ，其中 houses[i] 是第 i 栋房子在一条街上的位置，现需要在这条街上安排 k 个邮筒。\n",
    "    请你返回每栋房子与离它最近的邮筒之间的距离的 最小 总和。\n",
    "    答案保证在 32 位有符号整数范围以内。"
   ]
  },
  {
   "cell_type": "markdown",
   "metadata": {},
   "source": [
    "<img src='https://assets.leetcode-cn.com/aliyun-lc-upload/uploads/2020/06/13/sample_11_1816.png'>"
   ]
  },
  {
   "cell_type": "raw",
   "metadata": {},
   "source": [
    "输入：houses = [1,4,8,10,20], k = 3\n",
    "输出：5\n",
    "解释：将邮筒分别安放在位置 3， 9 和 20 处。\n",
    "     每个房子到最近邮筒的距离和为 |3-1| + |4-3| + |9-8| + |10-9| + |20-20| = 5 。"
   ]
  },
  {
   "cell_type": "markdown",
   "metadata": {},
   "source": [
    "<img src='https://assets.leetcode-cn.com/aliyun-lc-upload/uploads/2020/06/13/sample_2_1816.png'>"
   ]
  },
  {
   "cell_type": "raw",
   "metadata": {},
   "source": [
    "输入：houses = [2,3,5,12,18], k = 2\n",
    "输出：9\n",
    "解释：将邮筒分别安放在位置 3 和 14 处。每个房子到最近邮筒距离和为 |2-3| + |3-3| + |5-3| + |12-14| + |18-14| = 9 。"
   ]
  },
  {
   "cell_type": "raw",
   "metadata": {},
   "source": [
    "示例 3：\n",
    "    输入：houses = [7,4,6,1], k = 1\n",
    "    输出：8\n",
    "\n",
    "示例 4：\n",
    "    输入：houses = [3,6,14,10], k = 4\n",
    "    输出：0\n",
    "\n",
    "提示：\n",
    "    n == houses.length\n",
    "    1 <= n <= 100\n",
    "    1 <= houses[i] <= 10^4\n",
    "    1 <= k <= n\n",
    "    数组 houses 中的整数互不相同。"
   ]
  },
  {
   "cell_type": "code",
   "execution_count": 38,
   "metadata": {},
   "outputs": [],
   "source": [
    "class Solution:\n",
    "    def minDistance(self, houses, K: int) -> int:\n",
    "        n = len(houses) \n",
    "        houses.sort()\n",
    "        houses.insert(0, -float('inf'))\n",
    "        dis = [[0] * (n+1) for _ in range(n+1)] # 记录了 各个 house 范围只有一个邮箱的 cost\n",
    "        for i in range(1, n+1):\n",
    "            for j in range(i+1, n+1):\n",
    "                for k in range(i, j+1): # 首先计算 i-j 区间的中位数：mid-idx= (i+j)//2, 之后使用每个房子距离 - house[mid-idx]\n",
    "                    dis[i][j] += abs(houses[k] - houses[(i+j) // 2])\n",
    "                    print(i, j, k, dis[i][j])\n",
    "        \n",
    "        dp = [[float('inf')] * (K+1) for _ in range(n+1)]\n",
    "        for i in range(1, n+1): # 对于只有一个邮箱的情况\n",
    "            dp[i][1] = dis[1][i] # 就是从第 i 个 到最后一个的 dis值\n",
    "        \n",
    "        for i in range(1, n+1):\n",
    "            for k in range(2, K+1): # 部署 k 个邮箱\n",
    "                for j in range(1, i):\n",
    "                    # i 个hosue中，前 j 个用 k-1 个邮箱， j+1之后用 1 个邮箱\n",
    "                    dp[i][k] = min(dp[i][k], dp[j][k-1] + dis[j+1][i])\n",
    "        return dp[-1][-1]"
   ]
  },
  {
   "cell_type": "code",
   "execution_count": 39,
   "metadata": {},
   "outputs": [
    {
     "name": "stdout",
     "output_type": "stream",
     "text": [
      "1 2 1 0\n",
      "1 2 2 1\n",
      "1 3 1 1\n",
      "1 3 2 1\n",
      "1 3 3 3\n",
      "1 4 1 1\n",
      "1 4 2 1\n",
      "1 4 3 3\n",
      "1 4 4 12\n",
      "1 5 1 3\n",
      "1 5 2 5\n",
      "1 5 3 5\n",
      "1 5 4 12\n",
      "1 5 5 25\n",
      "2 3 2 0\n",
      "2 3 3 2\n",
      "2 4 2 2\n",
      "2 4 3 2\n",
      "2 4 4 9\n",
      "2 5 2 2\n",
      "2 5 3 2\n",
      "2 5 4 9\n",
      "2 5 5 22\n",
      "3 4 3 0\n",
      "3 4 4 7\n",
      "3 5 3 7\n",
      "3 5 4 7\n",
      "3 5 5 13\n",
      "4 5 4 0\n",
      "4 5 5 6\n",
      "[[0, 0, 0, 0, 0, 0], [0, 0, 1, 3, 12, 25], [0, 0, 0, 2, 9, 22], [0, 0, 0, 0, 7, 13], [0, 0, 0, 0, 0, 6], [0, 0, 0, 0, 0, 0]]\n"
     ]
    },
    {
     "data": {
      "text/plain": [
       "9"
      ]
     },
     "execution_count": 39,
     "metadata": {},
     "output_type": "execute_result"
    }
   ],
   "source": [
    "solution = Solution()\n",
    "solution.minDistance(houses = [2,3,5,12,18], K = 2)"
   ]
  },
  {
   "cell_type": "code",
   "execution_count": null,
   "metadata": {},
   "outputs": [],
   "source": [
    "[[0, 0, 0, 0, 0, 0], \n",
    " [0, 0, 1, 3, 12, 25], \n",
    " [0, 0, 0, 2, 9, 22], \n",
    " [0, 0, 0, 0, 7, 13], \n",
    " [0, 0, 0, 0, 0, 6], \n",
    " [0, 0, 0, 0, 0, 0]]"
   ]
  },
  {
   "cell_type": "code",
   "execution_count": 42,
   "metadata": {},
   "outputs": [],
   "source": [
    "a = str(pow(2, 31))"
   ]
  },
  {
   "cell_type": "code",
   "execution_count": 44,
   "metadata": {},
   "outputs": [
    {
     "name": "stdout",
     "output_type": "stream",
     "text": [
      "10\n"
     ]
    }
   ],
   "source": [
    "print(len(a))"
   ]
  },
  {
   "cell_type": "code",
   "execution_count": 47,
   "metadata": {},
   "outputs": [],
   "source": [
    "class Solution:\n",
    "    def splitIntoFibonacci(self, S: str):\n",
    "        self.res = []\n",
    "        self.max_val = pow(2, 31) - 1\n",
    "        self.dfs(S, [], 0)\n",
    "        return self.res\n",
    "    \n",
    "    def dfs(self, S, temp, count):\n",
    "        if not S and count >= 3:\n",
    "            self.res = temp[:]\n",
    "            return\n",
    "        for step in range(1, min(len(S)+1, 11)):\n",
    "            val = S[:step]\n",
    "             # 防止前导 0 的出现、防止数字太大\n",
    "            if str(int(val)) == val and 0 <= int(val) <= self.max_val:\n",
    "                if count < 2:\n",
    "                    self.dfs(S[step:], temp+[int(val)], count+1)\n",
    "                # 起码三个数才能是斐波那契数列\n",
    "                elif temp[count-2] + temp[count-1] == int(val):\n",
    "                    self.dfs(S[step:], temp+[int(val)], count+1)"
   ]
  },
  {
   "cell_type": "code",
   "execution_count": 48,
   "metadata": {},
   "outputs": [
    {
     "name": "stdout",
     "output_type": "stream",
     "text": [
      "[11, 0, 11, 11]\n",
      "[110, 1, 111]\n"
     ]
    },
    {
     "data": {
      "text/plain": [
       "[110, 1, 111]"
      ]
     },
     "execution_count": 48,
     "metadata": {},
     "output_type": "execute_result"
    }
   ],
   "source": [
    "solution = Solution()\n",
    "solution.splitIntoFibonacci(\"1101111\")"
   ]
  },
  {
   "cell_type": "code",
   "execution_count": null,
   "metadata": {},
   "outputs": [],
   "source": []
  }
 ],
 "metadata": {
  "kernelspec": {
   "display_name": "Python 3",
   "language": "python",
   "name": "python3"
  },
  "language_info": {
   "codemirror_mode": {
    "name": "ipython",
    "version": 3
   },
   "file_extension": ".py",
   "mimetype": "text/x-python",
   "name": "python",
   "nbconvert_exporter": "python",
   "pygments_lexer": "ipython3",
   "version": "3.6.2"
  }
 },
 "nbformat": 4,
 "nbformat_minor": 4
}
