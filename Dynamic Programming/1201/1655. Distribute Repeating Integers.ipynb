{
 "cells": [
  {
   "cell_type": "code",
   "execution_count": null,
   "metadata": {},
   "outputs": [],
   "source": []
  },
  {
   "cell_type": "code",
   "execution_count": null,
   "metadata": {},
   "outputs": [],
   "source": []
  },
  {
   "cell_type": "code",
   "execution_count": null,
   "metadata": {},
   "outputs": [],
   "source": [
    "from collections import Counter\n",
    "from functools import lru_cache\n",
    "\n",
    "class Solution:\n",
    "    def canDistribute(self, nums: List[int], quantity: List[int]) -> bool:\n",
    "        @lru_cache(None)\n",
    "        def can_satisfy(total, state):\n",
    "            cnt = 0\n",
    "            for i in range(m):\n",
    "                if ((state >> i) & 1) == 1:\n",
    "                    cnt += quantity[i]\n",
    "            return total >= cnt\n",
    "        \n",
    "        counter = Counter(nums)\n",
    "        n, m = len(counter), len(quantity)\n",
    "        freq = [0] + list(counter.values())\n",
    "        dp = [[False] * (1 << m) for _ in range(n + 1)]\n",
    "        for i in range(n+1):\n",
    "            dp[i][0] = True\n",
    "        \n",
    "        for i in range(1, n+1):\n",
    "            for state in range(1, 1 << m):\n",
    "                if dp[i-1][state]:\n",
    "                    dp[i][state] = True\n",
    "                    continue\n",
    "                sub_state = state\n",
    "                while sub_state:\n",
    "                    if dp[i-1][state-sub_state] and can_satisfy(freq[i], sub_state):\n",
    "                        dp[i][state] = True\n",
    "                        break\n",
    "                    sub_state = (sub_state - 1) & state\n",
    "        return dp[-1][-1]\n",
    "        \n",
    "        \n",
    "        \n",
    "        \n",
    "        \n",
    "        "
   ]
  },
  {
   "cell_type": "code",
   "execution_count": null,
   "metadata": {},
   "outputs": [],
   "source": []
  },
  {
   "cell_type": "code",
   "execution_count": null,
   "metadata": {},
   "outputs": [],
   "source": []
  },
  {
   "cell_type": "code",
   "execution_count": null,
   "metadata": {},
   "outputs": [],
   "source": []
  },
  {
   "cell_type": "code",
   "execution_count": null,
   "metadata": {},
   "outputs": [],
   "source": []
  },
  {
   "cell_type": "code",
   "execution_count": 8,
   "metadata": {},
   "outputs": [],
   "source": [
    "class Solution:\n",
    "    def canDistribute(self, nums, quantity):\n",
    "        n, m = len(nums), len(quantity)\n",
    "        dp = [[False] * (1<<m) for _ in range(n+1)]\n",
    "        \n",
    "        for i in range(n):\n",
    "            dp[i][0] = True\n",
    "        for i in range(1, n+1):\n",
    "            for mask in range(1<<m):\n",
    "                dp[i][mask] = dp[i-1][mask]\n",
    "                if not dp[i][mask]:\n",
    "                    cur = mask\n",
    "                    while cur > 0:\n",
    "                        if totals[cur] <= count[i-1]:\n",
    "                            if dp[i-1][mask ^ cur]:\n",
    "                                dp[i][mask] = True\n",
    "                                break\n",
    "                        cur = (cur-1) & mask\n",
    "        return dp[n][(1<<m)-1]"
   ]
  },
  {
   "cell_type": "code",
   "execution_count": 82,
   "metadata": {},
   "outputs": [],
   "source": [
    "from collections import Counter\n",
    "from functools import lru_cache\n",
    "\n",
    "class Solution:\n",
    "    def canDistribute(self, nums, quantity):\n",
    "        @lru_cache(None)\n",
    "        def can_satisfy(total, state):\n",
    "            # 查询使用当前的 total 数量，能否满足 state 的要求\n",
    "            cnt = 0\n",
    "            for i in range(m):\n",
    "                if ((state >> i) & 1) == 1:\n",
    "                    cnt += quantity[i]\n",
    "            return total >= cnt\n",
    "        \n",
    "        counter = Counter(nums)\n",
    "        freq = counter.values()\n",
    "        n, m = len(freq), len(quantity)\n",
    "        dp = [[False] * (1 << m) for _ in range(n + 1)]\n",
    "        \n",
    "        for i in range(1 + n): # 无论有多少件物品，当需求为0时，都可以满足\n",
    "            dp[i][0] = True\n",
    "\n",
    "        freq = [0] + list(freq)\n",
    "        for i in range(1, n + 1):\n",
    "            for state in range(1, 1 << m):\n",
    "                if dp[i-1][state]: # 如果使用 i-1 个物品已经满足，那么dp[i]也同样会满足\n",
    "                    dp[i][state] = True \n",
    "                    continue\n",
    "                \n",
    "                subset = state\n",
    "                while subset:\n",
    "                    if dp[i-1][state - subset] and can_satisfy(freq[i], subset):\n",
    "                        dp[i][state] = True\n",
    "                        break\n",
    "                    subset = (subset - 1) & state\n",
    "        return dp[-1][-1]"
   ]
  },
  {
   "cell_type": "code",
   "execution_count": 83,
   "metadata": {},
   "outputs": [
    {
     "data": {
      "text/plain": [
       "True"
      ]
     },
     "execution_count": 83,
     "metadata": {},
     "output_type": "execute_result"
    }
   ],
   "source": [
    "solution = Solution()\n",
    "solution.canDistribute(nums = [1,1,2,2], quantity = [2,2])"
   ]
  },
  {
   "cell_type": "code",
   "execution_count": null,
   "metadata": {},
   "outputs": [],
   "source": [
    "[[True, False, False, False], \n",
    " [True, False, False, False], \n",
    " [True, False, False, False]]"
   ]
  }
 ],
 "metadata": {
  "kernelspec": {
   "display_name": "Python 3",
   "language": "python",
   "name": "python3"
  },
  "language_info": {
   "codemirror_mode": {
    "name": "ipython",
    "version": 3
   },
   "file_extension": ".py",
   "mimetype": "text/x-python",
   "name": "python",
   "nbconvert_exporter": "python",
   "pygments_lexer": "ipython3",
   "version": "3.6.2"
  }
 },
 "nbformat": 4,
 "nbformat_minor": 4
}
