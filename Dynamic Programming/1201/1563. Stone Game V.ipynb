{
 "cells": [
  {
   "cell_type": "code",
   "execution_count": null,
   "metadata": {},
   "outputs": [],
   "source": []
  },
  {
   "cell_type": "code",
   "execution_count": null,
   "metadata": {},
   "outputs": [],
   "source": []
  },
  {
   "cell_type": "code",
   "execution_count": null,
   "metadata": {},
   "outputs": [],
   "source": []
  },
  {
   "cell_type": "code",
   "execution_count": null,
   "metadata": {},
   "outputs": [],
   "source": []
  },
  {
   "cell_type": "code",
   "execution_count": 110,
   "metadata": {},
   "outputs": [],
   "source": [
    "class Solution:\n",
    "    def stoneGameV(self, stoneValue):\n",
    "        n = len(stoneValue)\n",
    "        stoneValue = [0] + stoneValue\n",
    "        \n",
    "        dp = [[0] * (1 + n) for _ in range(1 + n)]\n",
    "        presum = [0]\n",
    "        for i in range(1, n + 1):\n",
    "            presum.append(presum[-1] + stoneValue[i])\n",
    "            \n",
    "        for gap in range(2, n + 1):\n",
    "            for s in range(1, n - gap + 2):\n",
    "                e = s + gap - 1\n",
    "                for k in range(s, e):\n",
    "                    left = presum[k] - presum[s-1]\n",
    "                    right = presum[e] - presum[k]\n",
    "                    if left < right:\n",
    "                        dp[s][e] = max(dp[s][e], left + dp[s][k])\n",
    "                    elif left > right:\n",
    "                        dp[s][e] = max(dp[s][e], right + dp[k+1][e])\n",
    "                    else:\n",
    "                        dp[s][e] = max(dp[s][e], left + max(dp[s][k], dp[k+1][e]))\n",
    "        return dp[1][-1]"
   ]
  },
  {
   "cell_type": "code",
   "execution_count": 111,
   "metadata": {},
   "outputs": [
    {
     "name": "stdout",
     "output_type": "stream",
     "text": [
      "6 2\n",
      "2 3\n",
      "3 4\n",
      "4 5\n",
      "5 5\n",
      "6 5\n",
      "8 3\n",
      "2 7\n",
      "5 4\n",
      "3 9\n",
      "7 5\n",
      "4 10\n",
      "9 5\n",
      "6 9\n",
      "8 7\n",
      "11 4\n",
      "2 12\n",
      "5 9\n",
      "9 5\n",
      "3 14\n",
      "7 10\n",
      "12 5\n",
      "6 14\n",
      "8 12\n",
      "11 9\n",
      "15 5\n",
      "2 17\n",
      "5 14\n",
      "9 10\n",
      "14 5\n",
      "6 19\n",
      "8 17\n",
      "11 14\n",
      "15 10\n",
      "20 5\n"
     ]
    },
    {
     "data": {
      "text/plain": [
       "18"
      ]
     },
     "execution_count": 111,
     "metadata": {},
     "output_type": "execute_result"
    }
   ],
   "source": [
    "solution = Solution()\n",
    "solution.stoneGameV([6,2,3,4,5,5])"
   ]
  },
  {
   "cell_type": "code",
   "execution_count": 101,
   "metadata": {},
   "outputs": [],
   "source": [
    "class Solution:\n",
    "    def stoneGameV(self, stoneValue) -> int:\n",
    "        n = len(stoneValue)\n",
    "        sums = [0]\n",
    "        for i in stoneValue:\n",
    "            sums.append(i+sums[-1])\n",
    "\n",
    "        dp = [[(0, i) for __ in range(n + 1)] for i in range(n)]\n",
    "        \n",
    "        for left in range(n-2, -1, -1):\n",
    "            for right in range(left+2, n+1):\n",
    "                p, q = sorted([dp[left+1][right][1], dp[left][right-1][1]])\n",
    "                for a in range(max(0, p-1), min(q+2, n)):\n",
    "                    l1, r1 = sums[a]-sums[left], sums[right]-sums[a]\n",
    "                    if l1 == r1:\n",
    "                        dp[left][right] = max(dp[left][right], (max(dp[left][a][0], dp[a][right][0])+l1, a))\n",
    "                    elif l1 > r1:\n",
    "                        dp[left][right] = max(dp[left][right], (dp[a][right][0]+r1, a))\n",
    "                    else:\n",
    "                        dp[left][right] = max(dp[left][right], (dp[left][a][0]+l1, a))\n",
    "        return dp[0][-1][0]\n"
   ]
  },
  {
   "cell_type": "code",
   "execution_count": 102,
   "metadata": {},
   "outputs": [
    {
     "name": "stdout",
     "output_type": "stream",
     "text": [
      "[[(0, 0), (0, 0), (0, 0), (0, 0), (0, 0), (0, 0), (0, 0)], [(0, 1), (0, 1), (0, 1), (0, 1), (0, 1), (0, 1), (0, 1)], [(0, 2), (0, 2), (0, 2), (0, 2), (0, 2), (0, 2), (0, 2)], [(0, 3), (0, 3), (0, 3), (0, 3), (0, 3), (0, 3), (0, 3)], [(0, 4), (0, 4), (0, 4), (0, 4), (0, 4), (0, 4), (0, 4)], [(0, 5), (0, 5), (0, 5), (0, 5), (0, 5), (0, 5), (0, 5)]]\n"
     ]
    },
    {
     "data": {
      "text/plain": [
       "18"
      ]
     },
     "execution_count": 102,
     "metadata": {},
     "output_type": "execute_result"
    }
   ],
   "source": [
    "solution = Solution()\n",
    "solution.stoneGameV([6,2,3,4,5,5])"
   ]
  },
  {
   "cell_type": "code",
   "execution_count": 108,
   "metadata": {},
   "outputs": [],
   "source": [
    "from functools import lru_cache\n",
    "\n",
    "class Solution:\n",
    "    def stoneGameV(self, stoneValue):\n",
    "        @lru_cache(None)\n",
    "        def solve(s, e):\n",
    "            if s >= e:\n",
    "                return 0\n",
    "            for k in range(s, e):\n",
    "                left = presum[k] - presum[s-1]\n",
    "                right = presum[e] - presum[k]\n",
    "                if left < right:\n",
    "                    dp[s][e] = max(dp[s][e], left + solve(s, k))\n",
    "                elif left > right:\n",
    "                    dp[s][e] = max(dp[s][e], right + solve(k+1, e))\n",
    "                else:\n",
    "                    dp[s][e] = max(dp[s][e], left + max(solve(s, k), solve(k+1, e)))\n",
    "            return dp[s][e]\n",
    "        \n",
    "        n = len(stoneValue)\n",
    "        stoneValue = [0] + stoneValue\n",
    "        dp = [[0] * (1 + n) for _ in range(1 + n)]\n",
    "        presum = [0]\n",
    "        for i in range(1, n + 1):\n",
    "            presum.append(presum[-1] + stoneValue[i])\n",
    "        return solve(1, n)"
   ]
  },
  {
   "cell_type": "code",
   "execution_count": 117,
   "metadata": {},
   "outputs": [],
   "source": [
    "from functools import lru_cache\n",
    "\n",
    "class Solution:\n",
    "    def stoneGameV(self, stoneValue):\n",
    "        \n",
    "        def solve(s, e):\n",
    "            if s >= e:\n",
    "                return 0\n",
    "            if (s, e) in memo:\n",
    "                return memo[(s, e)]\n",
    "            ans = 0\n",
    "            for i in range(s, e):\n",
    "                left, right = presum[i] - presum[s-1], presum[e] - presum[i]\n",
    "                if left > right:\n",
    "                    ans = max(ans, right + solve(i+1, e))\n",
    "                elif left < right:\n",
    "                    ans = max(ans, left + solve(s, i))\n",
    "                else:\n",
    "                    ans = max(ans, left + solve(s, i), right + solve(i+1, e))\n",
    "            memo[(s, e)] = ans\n",
    "            return ans\n",
    "        \n",
    "        memo = {}\n",
    "        n = len(stoneValue)\n",
    "        presum = {-1:0}\n",
    "        for i, v in enumerate(stoneValue):\n",
    "            presum[i] = presum[i-1] + v\n",
    "        return solve(0, n-1)"
   ]
  },
  {
   "cell_type": "code",
   "execution_count": 118,
   "metadata": {},
   "outputs": [
    {
     "data": {
      "text/plain": [
       "18"
      ]
     },
     "execution_count": 118,
     "metadata": {},
     "output_type": "execute_result"
    }
   ],
   "source": [
    "solution = Solution()\n",
    "solution.stoneGameV([6,2,3,4,5,5])"
   ]
  },
  {
   "cell_type": "code",
   "execution_count": null,
   "metadata": {},
   "outputs": [],
   "source": []
  },
  {
   "cell_type": "code",
   "execution_count": null,
   "metadata": {},
   "outputs": [],
   "source": []
  },
  {
   "cell_type": "code",
   "execution_count": null,
   "metadata": {},
   "outputs": [],
   "source": []
  },
  {
   "cell_type": "code",
   "execution_count": null,
   "metadata": {},
   "outputs": [],
   "source": []
  },
  {
   "cell_type": "code",
   "execution_count": 135,
   "metadata": {},
   "outputs": [],
   "source": [
    "import functools\n",
    "\n",
    "class Solution:\n",
    "    def stoneGameV(self, stoneValue) -> int:\n",
    "        A = stoneValue\n",
    "        n = len(A)\n",
    "        prefix = [0] * (n + 1)\n",
    "        for i, a in enumerate(A):\n",
    "            prefix.append()\n",
    "            prefix[i + 1] = prefix[i] + A[i]\n",
    "\n",
    "        @lru_cache(None)\n",
    "        def dp(i, j):\n",
    "            if i == j: return 0\n",
    "            # 如果元素全都相同，都够获得的最大分数\n",
    "            if all(stoneValue[k] == stoneValue[j] for k in range(i, j)):\n",
    "                cnt = 0\n",
    "                l = j - i + 1\n",
    "                while l > 1:\n",
    "                    l //= 2\n",
    "                    cnt += l\n",
    "                return cnt * stoneValue[j] \n",
    "            res = 0\n",
    "            for m in range(i, j):\n",
    "                left = prefix[m + 1] - prefix[i]\n",
    "                right = prefix[j + 1] - prefix[m + 1]\n",
    "                if left < right:\n",
    "                    res = max(res, dp(i, m) + left)\n",
    "                elif left > right:\n",
    "                    res = max(res, dp(m + 1, j) + right)\n",
    "                else:\n",
    "                    res = max(res, dp(m + 1, j) + right, dp(i, m) + left)\n",
    "            return res\n",
    "        return dp(0, n - 1)"
   ]
  },
  {
   "cell_type": "code",
   "execution_count": 136,
   "metadata": {},
   "outputs": [
    {
     "name": "stdout",
     "output_type": "stream",
     "text": [
      "3\n"
     ]
    },
    {
     "data": {
      "text/plain": [
       "21"
      ]
     },
     "execution_count": 136,
     "metadata": {},
     "output_type": "execute_result"
    }
   ],
   "source": [
    "solution = Solution()\n",
    "solution.stoneGameV([7,7,7,7])"
   ]
  },
  {
   "cell_type": "code",
   "execution_count": null,
   "metadata": {},
   "outputs": [],
   "source": []
  }
 ],
 "metadata": {
  "kernelspec": {
   "display_name": "Python 3",
   "language": "python",
   "name": "python3"
  },
  "language_info": {
   "codemirror_mode": {
    "name": "ipython",
    "version": 3
   },
   "file_extension": ".py",
   "mimetype": "text/x-python",
   "name": "python",
   "nbconvert_exporter": "python",
   "pygments_lexer": "ipython3",
   "version": "3.6.2"
  }
 },
 "nbformat": 4,
 "nbformat_minor": 4
}
