{
 "cells": [
  {
   "cell_type": "raw",
   "metadata": {},
   "source": [
    "说明：\n",
    "    给定一个由非负整数和整数m组成的数组num，您可以将数组拆分为m个非空连续子数组。\n",
    "    编写算法以最小化这m个子数组中的最大和。\n",
    "    \n",
    "    会分成 m 个 sub_array, 求m个sub_array中的最大和值的最小是多少>\n",
    "\n",
    "Example 1:\n",
    "    Input: nums = [7,2,5,10,8], m = 2\n",
    "    Output: 18\n",
    "    Explanation:\n",
    "        There are four ways to split nums into two subarrays.\n",
    "        The best way is to split it into [7,2,5] and [10,8],\n",
    "        where the largest sum among the two subarrays is only 18.\n",
    "\n",
    "Example 2:\n",
    "    Input: nums = [1,2,3,4,5], m = 2\n",
    "    Output: 9\n",
    "\n",
    "Example 3:\n",
    "    Input: nums = [1,4,4], m = 3\n",
    "    Output: 4\n",
    "\n",
    "Constraints:\n",
    "    1、1 <= nums.length <= 1000\n",
    "    2、0 <= nums[i] <= 106\n",
    "    3、1 <= m <= min(50, nums.length)"
   ]
  },
  {
   "cell_type": "code",
   "execution_count": 108,
   "metadata": {},
   "outputs": [],
   "source": [
    "class Solution:\n",
    "    def splitArray(self, nums, m: int) -> int:\n",
    "        len_n = len(nums)\n",
    "        if len_n == m: return max(nums)\n",
    "        nums = [0] + nums\n",
    "        len_n += 1\n",
    "        dp = [[float('inf')] * (m + 1) for _ in range(len_n)]\n",
    "        dp[0][0] = 0\n",
    "        \n",
    "        # 将 n 个数，分成 0 份是可能的，还是0\n",
    "        for i in range(1, len_n):\n",
    "            dp[i][0] = 0\n",
    "#         # 将 0 个数，分成 k 份是不可能的\n",
    "#         for j in range(1, m+1):\n",
    "#             dp[0][j] = float('inf')\n",
    "        print(dp)\n",
    "        for i in range(1, len_n):\n",
    "            for k in range(1, min(i, m+1)):\n",
    "                for j in range(k, i):\n",
    "                    dp[i][k] = min(dp[i][k], max(dp[j-1][k-1], sum(nums[j:i+1])))\n",
    "        return dp[-1][-1]"
   ]
  },
  {
   "cell_type": "code",
   "execution_count": 109,
   "metadata": {},
   "outputs": [
    {
     "name": "stdout",
     "output_type": "stream",
     "text": [
      "[[0, inf, inf, inf, inf, inf], [0, inf, inf, inf, inf, inf], [0, inf, inf, inf, inf, inf], [0, inf, inf, inf, inf, inf], [0, inf, inf, inf, inf, inf], [0, inf, inf, inf, inf, inf], [0, inf, inf, inf, inf, inf]]\n"
     ]
    },
    {
     "data": {
      "text/plain": [
       "inf"
      ]
     },
     "execution_count": 109,
     "metadata": {},
     "output_type": "execute_result"
    }
   ],
   "source": [
    "solution = Solution()\n",
    "solution.splitArray([2,3,1,2,4,3], 5)"
   ]
  },
  {
   "cell_type": "raw",
   "metadata": {},
   "source": [
    "[[0, inf, inf], \n",
    " [0, inf, inf], \n",
    " [0, 0, inf], \n",
    " [0, 0, inf], \n",
    " [0, 0, 0], \n",
    " [0, 0, 0]]"
   ]
  }
 ],
 "metadata": {
  "kernelspec": {
   "display_name": "Python 3",
   "language": "python",
   "name": "python3"
  },
  "language_info": {
   "codemirror_mode": {
    "name": "ipython",
    "version": 3
   },
   "file_extension": ".py",
   "mimetype": "text/x-python",
   "name": "python",
   "nbconvert_exporter": "python",
   "pygments_lexer": "ipython3",
   "version": "3.6.2"
  }
 },
 "nbformat": 4,
 "nbformat_minor": 4
}
