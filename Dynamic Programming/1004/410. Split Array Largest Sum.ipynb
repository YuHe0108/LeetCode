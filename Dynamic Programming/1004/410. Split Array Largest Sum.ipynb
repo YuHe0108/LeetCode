{
 "cells": [
  {
   "cell_type": "raw",
   "metadata": {},
   "source": [
    "说明：\n",
    "    给定一个由非负整数和整数m组成的数组num，您可以将数组拆分为m个非空连续子数组。\n",
    "    编写算法以最小化这m个子数组中的最大和。\n",
    "    \n",
    "    会分成 m 个 sub_array, 求m个sub_array中的最大和值的最小是多少>\n",
    "\n",
    "Example 1:\n",
    "    Input: nums = [7,2,5,10,8], m = 2\n",
    "    Output: 18\n",
    "    Explanation:\n",
    "        There are four ways to split nums into two subarrays.\n",
    "        The best way is to split it into [7,2,5] and [10,8],\n",
    "        where the largest sum among the two subarrays is only 18.\n",
    "\n",
    "Example 2:\n",
    "    Input: nums = [1,2,3,4,5], m = 2\n",
    "    Output: 9\n",
    "\n",
    "Example 3:\n",
    "    Input: nums = [1,4,4], m = 3\n",
    "    Output: 4\n",
    "\n",
    "Constraints:\n",
    "    1、1 <= nums.length <= 1000\n",
    "    2、0 <= nums[i] <= 106\n",
    "    3、1 <= m <= min(50, nums.length)"
   ]
  },
  {
   "cell_type": "code",
   "execution_count": 34,
   "metadata": {},
   "outputs": [],
   "source": [
    "class Solution:\n",
    "    def splitArray(self, nums, m: int) -> int:\n",
    "        len_n = len(nums)\n",
    "        if len_n == m: return max(nums)\n",
    "        nums = [0] + nums\n",
    "        len_n += 1\n",
    "        dp = [[float('inf')] * (m + 1) for _ in range(len_n)]\n",
    "        dp[0][0] = 0\n",
    "        \n",
    "        # 将 n 个数，分成 0 份是可能的，还是0\n",
    "        for i in range(1, len_n):\n",
    "            dp[i][0] = float('inf')\n",
    "#         # 将 0 个数，分成 k 份是不可能的\n",
    "#         for j in range(1, m+1):\n",
    "#             dp[0][j] = float('inf')\n",
    "\n",
    "        for i in range(1, len_n):\n",
    "            for k in range(1, min(i+1, m+1)):\n",
    "                for j in range(k, i+1):\n",
    "                    dp[i][k] = min(dp[i][k], max(dp[j-1][k-1], sum(nums[j:i+1])))\n",
    "        print(dp)\n",
    "        return dp[-1][-1]"
   ]
  },
  {
   "cell_type": "code",
   "execution_count": 58,
   "metadata": {},
   "outputs": [],
   "source": [
    "class Solution:\n",
    "    def splitArray(self, nums, m: int) -> int:\n",
    "        len_n = len(nums)\n",
    "        if len_n == m: return max(nums)\n",
    "        nums = [0] + nums\n",
    "        len_n += 1\n",
    "        dp = [[float('inf')] * (m + 1) for _ in range(len_n)]\n",
    "        dp[0][0] = 0\n",
    "        \n",
    "        sum_count = [[0] * (len_n) for _ in range(len_n)]\n",
    "        for i in range(1, len_n):\n",
    "            sum_count[i][i] = nums[i]\n",
    "            \n",
    "        for c_len in range(2, len_n + 1):\n",
    "            start = 1\n",
    "            while start + c_len - 1 < len(nums):\n",
    "                end = start + c_len - 1\n",
    "                sum_count[start][end] = sum_count[start+1][end-1] + sum(nums[start:end])\n",
    "                start += 1\n",
    "        print(sum_count)\n",
    "        \n",
    "        for i in range(1, len_n):\n",
    "            for k in range(1, min(i+1, m+1)):\n",
    "                for j in range(k, i+1):\n",
    "                    dp[i][k] = min(dp[i][k], max(dp[j-1][k-1], sum_count[j][i]))\n",
    "        print(dp)\n",
    "        return dp[-1][-1]"
   ]
  },
  {
   "cell_type": "code",
   "execution_count": 70,
   "metadata": {},
   "outputs": [],
   "source": [
    "class Solution:\n",
    "    def splitArray(self, nums, m: int) -> int:\n",
    "        len_n = len(nums)\n",
    "        if len_n == m: return max(nums)\n",
    "        nums = [0] + nums\n",
    "        len_n += 1\n",
    "        dp = [[float('inf')] * (m + 1) for _ in range(len_n)]\n",
    "        dp[0][0] = 0\n",
    "        \n",
    "        sum_count = [0] * len_n\n",
    "        for i in range(1, len_n-1):\n",
    "            num = nums[i]\n",
    "            sum_count[i+1] = sum_count[i]+num\n",
    "        \n",
    "        for i in range(1, len_n):\n",
    "            for k in range(1, min(i+1, m+1)):\n",
    "                for j in range(k, i+1):\n",
    "                    dp[i][k] = min(dp[i][k], max(dp[j-1][k-1], sum_count[i] - sum_count[k]))\n",
    "        print(dp)\n",
    "        return dp[-1][-1]"
   ]
  },
  {
   "cell_type": "code",
   "execution_count": null,
   "metadata": {},
   "outputs": [],
   "source": [
    "class Solution:\n",
    "    def splitArray(self, nums: List[int], m: int) -> int:\n",
    "        \n",
    "        l,r= max(nums), sum(nums)\n",
    "        \n",
    "        def split(nums, m , s):\n",
    "            cnt, curr = 1,0\n",
    "            for num in nums:\n",
    "                curr+=num\n",
    "                if curr>s:\n",
    "                    cnt+=1\n",
    "                    curr = num\n",
    "            return cnt<=m\n",
    "        while l<=r:\n",
    "            mid = (l+r)//2\n",
    "            if split(nums, m, mid):\n",
    "                r=mid-1\n",
    "            else:\n",
    "                l=mid+1\n",
    "        return l"
   ]
  },
  {
   "cell_type": "code",
   "execution_count": 71,
   "metadata": {},
   "outputs": [
    {
     "name": "stdout",
     "output_type": "stream",
     "text": [
      "[[0, inf], [inf, 0], [inf, 1], [inf, 3], [inf, 6], [inf, 10]]\n"
     ]
    },
    {
     "data": {
      "text/plain": [
       "10"
      ]
     },
     "execution_count": 71,
     "metadata": {},
     "output_type": "execute_result"
    }
   ],
   "source": [
    "solution = Solution()\n",
    "solution.splitArray([1,2,3,4,5], 1)"
   ]
  },
  {
   "cell_type": "raw",
   "metadata": {},
   "source": [
    "[\n",
    "     0  1  2  3  4  5\n",
    "    [0, 0, 0, 0, 0, 0], \n",
    "    [0, 1, 3, 8, 15, 27], \n",
    "    [0, 0, 2, 5, 12, 21], \n",
    "    [0, 0, 0, 3, 7, 16], \n",
    "    [0, 0, 0, 0, 4, 9], \n",
    "    [0, 0, 0, 0, 0, 5]\n",
    "]"
   ]
  }
 ],
 "metadata": {
  "kernelspec": {
   "display_name": "Python 3",
   "language": "python",
   "name": "python3"
  },
  "language_info": {
   "codemirror_mode": {
    "name": "ipython",
    "version": 3
   },
   "file_extension": ".py",
   "mimetype": "text/x-python",
   "name": "python",
   "nbconvert_exporter": "python",
   "pygments_lexer": "ipython3",
   "version": "3.6.2"
  }
 },
 "nbformat": 4,
 "nbformat_minor": 4
}
