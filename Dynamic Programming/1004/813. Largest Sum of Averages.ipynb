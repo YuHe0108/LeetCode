{
 "cells": [
  {
   "cell_type": "raw",
   "metadata": {},
   "source": [
    "区间型DP：\n",
    "说明：\n",
    "    我们将数字A的行划分为最多K个相邻（非空）组，然后我们的得分是每组平均值的总和。\n",
    "    我们可以获得的最大分数是多少？\n",
    "    请注意，分区必须使用A中的每个数字，并且分数不一定是整数。\n",
    "   \n",
    "关键字：最多K个、最大分数\n",
    "\n",
    "Example:\n",
    "    Input: \n",
    "    A = \n",
    "        [9,1,2,3,9]\n",
    "    K = \n",
    "        3\n",
    "    Output: \n",
    "        20\n",
    "    Explanation: \n",
    "        The best choice is to partition A into [9], [1, 2, 3], [9]. The answer is 9 + (1 + 2 + 3) / 3 + 9 = 20.\n",
    "        We could have also partitioned A into [9, 1], [2], [3, 9], for example.\n",
    "        That partition would lead to a score of 5 + 2 + 6 = 13, which is worse.\n",
    "\n",
    "Note:\n",
    "    1、1 <= A.length <= 100.\n",
    "    2、1 <= A[i] <= 10000.\n",
    "    3、1 <= K <= A.length.\n",
    "    4、Answers within 10^-6 of the correct answer will be accepted as correct."
   ]
  },
  {
   "cell_type": "code",
   "execution_count": 133,
   "metadata": {},
   "outputs": [],
   "source": [
    "class Solution:\n",
    "    def largestSumOfAverages(self, A, K: int) -> float:\n",
    "        A = [0] + A\n",
    "        len_a = len(A)\n",
    "        dp = [[0] * (K+1) for _ in range(len_a)]\n",
    "        \n",
    "        #　把 i 个元素分成 0 份，设置成最小值\n",
    "        for i in range(1, len_a):\n",
    "            dp[i][0] = -float('inf')\n",
    "        #　把 0 个元素分成 k 份，设置成 0 \n",
    "        \n",
    "        for i in range(1, len_a):\n",
    "            for k in range(1, min(K+1, i+1)):\n",
    "                for j in range(k, i+1):\n",
    "                    dp[i][k] = max(dp[i][k], dp[j-1][k-1] + self.helper(A[j:i+1]))\n",
    "        return dp[-1][-1]\n",
    "    \n",
    "    def helper(self, sub_a):\n",
    "        return sum(sub_a) / len(sub_a)"
   ]
  },
  {
   "cell_type": "code",
   "execution_count": 134,
   "metadata": {},
   "outputs": [
    {
     "name": "stdout",
     "output_type": "stream",
     "text": [
      "[[0, 0, 0, 0, 0], [-inf, 1.0, 0, 0, 0], [-inf, 1.5, 3.0, 0, 0], [-inf, 2.0, 4.5, 6.0, 0], [-inf, 2.5, 6.0, 8.5, 10.0], [-inf, 3.0, 7.5, 11.0, 13.5], [-inf, 3.5, 9.0, 13.5, 17.0], [-inf, 4.0, 10.5, 16.0, 20.5]]\n"
     ]
    },
    {
     "data": {
      "text/plain": [
       "20.5"
      ]
     },
     "execution_count": 134,
     "metadata": {},
     "output_type": "execute_result"
    }
   ],
   "source": [
    "solution = Solution()\n",
    "solution.largestSumOfAverages([1,2,3,4,5,6,7], 4)"
   ]
  },
  {
   "cell_type": "code",
   "execution_count": null,
   "metadata": {},
   "outputs": [],
   "source": [
    "[\n",
    "         0, 1,   2,    3,    4\n",
    "    0   [0, 0,   0,    0,    0], \n",
    "    1   [0, 1.0, 0,    0,    0], \n",
    "    2   [0, 2.0, 3.0,  0,    0], \n",
    "    3   [0, 3.0, 5.0,  6.0,  0], \n",
    "    4   [0, 4.0, 7.0,  9.0,  10.0], \n",
    "    5   [0, 5.0, 9.0,  12.0, 14.0], \n",
    "    6   [0, 6.0, 11.0, 15.0, 18.0], \n",
    "    7   [0, 7.0, 13.0, 18.0, 22.0]]"
   ]
  }
 ],
 "metadata": {
  "kernelspec": {
   "display_name": "Python 3",
   "language": "python",
   "name": "python3"
  },
  "language_info": {
   "codemirror_mode": {
    "name": "ipython",
    "version": 3
   },
   "file_extension": ".py",
   "mimetype": "text/x-python",
   "name": "python",
   "nbconvert_exporter": "python",
   "pygments_lexer": "ipython3",
   "version": "3.6.2"
  }
 },
 "nbformat": 4,
 "nbformat_minor": 4
}
