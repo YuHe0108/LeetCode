{
 "cells": [
  {
   "cell_type": "raw",
   "metadata": {},
   "source": [
    "区间形 DP：\n",
    "    您将得到一个包含小写字母和整数k的字符串s。\n",
    "    您需要：\n",
    "        1、首先，将s的某些字符更改为其他小写英文字母。\n",
    "        2、然后将s划分为k个非空不相交的子字符串，以使每个子字符串都是回文。\n",
    "    返回您需要更改以分割字符串的最小字符数。\n",
    "\n",
    "Example 1:\n",
    "    Input: s = \"abc\", k = 2\n",
    "    Output: 1\n",
    "    Explanation: You can split the string into \"ab\" and \"c\", and change 1 character in \"ab\" to make it palindrome.\n",
    "\n",
    "\n",
    "Example 2:\n",
    "    Input: s = \"aabbc\", k = 3\n",
    "    Output: 0\n",
    "    Explanation: You can split the string into \"aa\", \"bb\" and \"c\", all of them are palindrome.\n",
    "\n",
    "Example 3:\n",
    "    Input: s = \"leetcode\", k = 8\n",
    "    Output: 0"
   ]
  },
  {
   "cell_type": "code",
   "execution_count": 74,
   "metadata": {},
   "outputs": [],
   "source": [
    "class Solution:\n",
    "    def palindromePartition(self, s: str, K: int) -> int:\n",
    "        len_s = len(s)\n",
    "        if K >= len_s: return 0\n",
    "        dp = [[float('inf')] * (K + 1) for _ in range(len_s + 1)]\n",
    "        \n",
    "        s = '0' + s\n",
    "        dp[0][0] = 0\n",
    "        for i in range(1, len_s + 1):\n",
    "            for k in range(1, min(K + 1, i + 1)):\n",
    "                for j in range(k, i + 1):\n",
    "                    dp[i][k] = min(dp[i][k], dp[j-1][k-1] + self.helper(s, j, i))\n",
    "        print(dp)\n",
    "        return dp[-1][-1]\n",
    "    \n",
    "    def helper(self, sub_s, l_idx, r_idx):\n",
    "        # 计算将sub_s转换为回文数，需要最少的操作字符数\n",
    "        count = 0\n",
    "        while l_idx < r_idx:\n",
    "            if sub_s[l_idx] != sub_s[r_idx]:\n",
    "                count += 1\n",
    "            l_idx += 1\n",
    "            r_idx -= 1\n",
    "        return count"
   ]
  },
  {
   "cell_type": "code",
   "execution_count": 171,
   "metadata": {},
   "outputs": [],
   "source": [
    "class Solution:\n",
    "    def palindromePartition(self, s: str, K: int) -> int:\n",
    "        len_s = len(s)\n",
    "        if K >= len_s: return 0\n",
    "        s = '0' + s\n",
    "\n",
    "        # 记录 S 的 s[i:j] 需要变换多少个字符，可以转换为回文数\n",
    "        count = [[0] * (len_s + 1) for _ in range(len_s + 1)]\n",
    "        for c_len in range(2, len_s + 1):\n",
    "            start = 1\n",
    "            while start + c_len - 1 < len(s):\n",
    "                end = start + c_len - 1\n",
    "                if s[start] == s[end]:\n",
    "                    count[start][end] = count[start+1][end-1]\n",
    "                else:\n",
    "                    count[start][end] = count[start+1][end-1] + 1\n",
    "                start += 1\n",
    "        \n",
    "        dp = [[float('inf')] * (K + 1) for _ in range(len_s + 1)]\n",
    "        # 将k个元素分成 0 份，这种初始化为 max-val\n",
    "        for i in range(1, len_s + 1):\n",
    "            dp[i][0] = float('inf')\n",
    "        # 将0个元素分成 k 份，这种初始化为 0\n",
    "        for j in range(1, K+1):\n",
    "            dp[0][j] = 0\n",
    "        dp[0][0] = 0\n",
    "            \n",
    "        for i in range(1, len_s + 1):\n",
    "            for k in range(1, min(K + 1, i + 1)):\n",
    "                for j in range(k, i + 1): # 假设 j:i 分成一份，那么 s[:j] 要分成k-1份，则s[:j] 起码有k个字母，所以要从第k个字母开始\n",
    "                    dp[i][k] = min(dp[i][k], dp[j-1][k-1] + count[j][i])\n",
    "        return dp[-1][-1]\n",
    "    \n",
    "    def helper(self, sub_s, l_idx, r_idx):\n",
    "        # 计算将sub_s转换为回文数，需要最少的操作字符数\n",
    "        count = 0\n",
    "        while l_idx < r_idx:\n",
    "            if sub_s[l_idx] != sub_s[r_idx]:\n",
    "                count += 1\n",
    "            l_idx += 1\n",
    "            r_idx -= 1\n",
    "        return count"
   ]
  },
  {
   "cell_type": "code",
   "execution_count": 172,
   "metadata": {},
   "outputs": [
    {
     "data": {
      "text/plain": [
       "1"
      ]
     },
     "execution_count": 172,
     "metadata": {},
     "output_type": "execute_result"
    }
   ],
   "source": [
    "solution = Solution()\n",
    "solution.palindromePartition('abc', 2)"
   ]
  },
  {
   "cell_type": "code",
   "execution_count": null,
   "metadata": {},
   "outputs": [],
   "source": [
    "[[0, 0, 0], \n",
    " [0, 0, 0], \n",
    " [0, 0, 0], \n",
    " [0, 0, 0]]"
   ]
  }
 ],
 "metadata": {
  "kernelspec": {
   "display_name": "Python 3",
   "language": "python",
   "name": "python3"
  },
  "language_info": {
   "codemirror_mode": {
    "name": "ipython",
    "version": 3
   },
   "file_extension": ".py",
   "mimetype": "text/x-python",
   "name": "python",
   "nbconvert_exporter": "python",
   "pygments_lexer": "ipython3",
   "version": "3.6.2"
  }
 },
 "nbformat": 4,
 "nbformat_minor": 4
}
