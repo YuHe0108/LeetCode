{
 "cells": [
  {
   "cell_type": "raw",
   "metadata": {},
   "source": [
    "说明：\n",
    "    给定一个非空字符串s和一个包含非空单词列表的字典wordDict，\n",
    "    在s中添加空格来构造一个句子，其中每个单词都是有效的字典单词。返回所有可能的句子。\n",
    "\n",
    "注：\n",
    "    1、词典中的同一个词在分词时可能会多次重复使用。\n",
    "    2、你可以假设字典里没有重复的单词。\n",
    "\n",
    "Example 1:\n",
    "    Input:\n",
    "        s = \"catsanddog\"\n",
    "    wordDict = [\"cat\", \"cats\", \"and\", \"sand\", \"dog\"]\n",
    "    Output:\n",
    "            [\n",
    "              \"cats and dog\",\n",
    "              \"cat sand dog\"\n",
    "            ]\n",
    "\n",
    "Example 2:\n",
    "    Input:\n",
    "        s = \"pineapplepenapple\"\n",
    "    wordDict = [\"apple\", \"pen\", \"applepen\", \"pine\", \"pineapple\"]\n",
    "    Output:\n",
    "            [\n",
    "              \"pine apple pen apple\",\n",
    "              \"pineapple pen apple\",\n",
    "              \"pine applepen apple\"\n",
    "            ]\n",
    "    Explanation: Note that you are allowed to reuse a dictionary word.\n",
    "\n",
    "Example 3:\n",
    "    Input:\n",
    "        s = \"catsandog\"\n",
    "    wordDict = [\"cats\", \"dog\", \"sand\", \"and\", \"cat\"]\n",
    "    Output:\n",
    "        []"
   ]
  },
  {
   "cell_type": "code",
   "execution_count": 80,
   "metadata": {},
   "outputs": [],
   "source": [
    "class Solution:\n",
    "    def wordBreak(self, s: str, wordDict):\n",
    "        \n",
    "        def dfs(idx):\n",
    "            res = []\n",
    "            if idx in mem: \n",
    "                return mem[idx]\n",
    "            \n",
    "            for j in range(idx, len(s)):\n",
    "                prefix = s[idx: j + 1]\n",
    "                if prefix in wordset:\n",
    "                    temp = dfs(j + 1)\n",
    "                    for word in temp:\n",
    "                        res.append((prefix + ' ' + word).strip())\n",
    "            mem[idx] = res\n",
    "            return res\n",
    "\n",
    "        wordset = set(wordDict)\n",
    "        mem = {len(s): ['']}\n",
    "        return dfs(0)"
   ]
  },
  {
   "cell_type": "code",
   "execution_count": 81,
   "metadata": {},
   "outputs": [
    {
     "data": {
      "text/plain": [
       "['cat sand dog', 'cats and dog']"
      ]
     },
     "execution_count": 81,
     "metadata": {},
     "output_type": "execute_result"
    }
   ],
   "source": [
    "s_ = \"catsanddog\"\n",
    "word_dict = [\"cat\", \"cats\", \"and\", \"sand\", \"dog\"]\n",
    "solution = Solution()\n",
    "solution.wordBreak(s_, word_dict)"
   ]
  },
  {
   "cell_type": "code",
   "execution_count": null,
   "metadata": {},
   "outputs": [],
   "source": []
  }
 ],
 "metadata": {
  "kernelspec": {
   "display_name": "Python 3",
   "language": "python",
   "name": "python3"
  },
  "language_info": {
   "codemirror_mode": {
    "name": "ipython",
    "version": 3
   },
   "file_extension": ".py",
   "mimetype": "text/x-python",
   "name": "python",
   "nbconvert_exporter": "python",
   "pygments_lexer": "ipython3",
   "version": "3.6.2"
  }
 },
 "nbformat": 4,
 "nbformat_minor": 4
}
