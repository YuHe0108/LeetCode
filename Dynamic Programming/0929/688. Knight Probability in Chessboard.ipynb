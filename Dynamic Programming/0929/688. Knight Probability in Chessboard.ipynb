{
 "cells": [
  {
   "cell_type": "raw",
   "metadata": {},
   "source": [
    "说明：\n",
    "    在 NxN 的棋盘上，骑士从第r行和第c列开始，并试图精确地进行K次移动。\n",
    "    行和列的索引为0，因此左上角的正方形为（0，0），右下角的正方形为（N-1，N-1）。\n",
    "    象棋骑士可以进行8种可能的动作，如下所示。\n",
    "    每次移动在基本方向上为两个正方形，然后在正交方向上为一个正方形。\n",
    "\n",
    "    每次骑士移动时，它都会随机选择八种可能的移动之一（即使该棋子会从棋盘上掉下来）并在那里移动。\n",
    "    骑士继续移动，直到精确地进行了K次移动或离开了棋盘。\n",
    "    返回骑士停止移动后仍留在棋盘上的概率。\n",
    "\n",
    "Example:\n",
    "    Input: 3, 2, 0, 0\n",
    "    Output: 0.0625\n",
    "    Explanation: \n",
    "            There are two moves (to (1,2), (2,1)) that will keep the knight on the board.\n",
    "            From each of those positions, there are also two moves that will keep the knight on the board.\n",
    "            The total probability the knight stays on the board is 0.0625.\n",
    "\n",
    "Note:\n",
    "    1、N will be between 1 and 25.\n",
    "    2、K will be between 0 and 100.\n",
    "    3、The knight always initially starts on the board."
   ]
  },
  {
   "cell_type": "markdown",
   "metadata": {},
   "source": [
    "<img src='https://assets.leetcode.com/uploads/2018/10/12/knight.png' width=350>"
   ]
  },
  {
   "cell_type": "code",
   "execution_count": 1,
   "metadata": {},
   "outputs": [],
   "source": [
    "from functools import lru_cache\n",
    "\n",
    "class Solution:\n",
    "    count = 1\n",
    "    @lru_cache(None)\n",
    "    def knightProbability(self, N: int, K: int, r: int, c: int) -> float:\n",
    "        print(2)\n",
    "#         n1 = self.knightProbability(N, K, r-1, c-2)\n",
    "#         n2 = self.knightProbability(N, K, r-2, c-1)\n",
    "#         n3 = self.knightProbability(N, K, r+1, c-2)\n",
    "#         n4 = self.knightProbability(N, K, r+2, c-1)\n",
    "#         n5 = self.knightProbability(N, K, r-1, c+1)\n",
    "#         n6 = self.knightProbability(N, K, r-2, c+2)\n",
    "#         n7 = self.knightProbability(N, K, r+1, c+1)\n",
    "#         n8 = self.knightProbability(N, K, r+2, c+2)\n",
    "#         self.count *= (n1 + n2 + n3 + n4 + n5 + n6 + n7 + n8) / 8 \n",
    "        return self.count"
   ]
  },
  {
   "cell_type": "code",
   "execution_count": 12,
   "metadata": {},
   "outputs": [],
   "source": [
    "from functools import lru_cache\n",
    "\n",
    "class Solution:\n",
    "    @lru_cache(None)\n",
    "    def knightProbability(self, N: int, K: int, r: int, c: int) -> float:\n",
    "        dp = [[0] * N for _ in range(N)]\n",
    "        dp[r][c] = 1\n",
    "        \n",
    "        directions = [[1, 2], [1, -2], [-1, 2], [-1, -2], [2, 1], [2, -1], [-2, 1], [-2, -1]]\n",
    "        for k in range(K):\n",
    "            temp = [[0] * N for _ in range(N)]\n",
    "            for i in range(N):\n",
    "                for j in range(N):\n",
    "                    for d in range(8):\n",
    "                        X = i + directions[d][0]\n",
    "                        Y = j + directions[d][1]\n",
    "                        if X < 0 or X >= N or Y < 0 or Y >= N:\n",
    "                            continue\n",
    "                        temp[i][j] += dp[X][Y] * (1/8)\n",
    "            dp = temp\n",
    "        res = 0.\n",
    "        for i in range(N):\n",
    "            for j in range(N):\n",
    "                res += dp[i][j]\n",
    "        return res"
   ]
  },
  {
   "cell_type": "code",
   "execution_count": 13,
   "metadata": {},
   "outputs": [
    {
     "data": {
      "text/plain": [
       "0.0625"
      ]
     },
     "execution_count": 13,
     "metadata": {},
     "output_type": "execute_result"
    }
   ],
   "source": [
    "solution = Solution()\n",
    "solution.knightProbability(3, 2, 0, 0)"
   ]
  },
  {
   "cell_type": "code",
   "execution_count": null,
   "metadata": {},
   "outputs": [],
   "source": []
  },
  {
   "cell_type": "code",
   "execution_count": 5,
   "metadata": {},
   "outputs": [
    {
     "ename": "TypeError",
     "evalue": "unsupported operand type(s) for +: 'int' and 'list'",
     "output_type": "error",
     "traceback": [
      "\u001b[1;31m---------------------------------------------------------------------------\u001b[0m",
      "\u001b[1;31mTypeError\u001b[0m                                 Traceback (most recent call last)",
      "\u001b[1;32m<ipython-input-5-5065abed694b>\u001b[0m in \u001b[0;36m<module>\u001b[1;34m\u001b[0m\n\u001b[0;32m      1\u001b[0m \u001b[0ma\u001b[0m \u001b[1;33m=\u001b[0m \u001b[1;33m[\u001b[0m\u001b[1;33m[\u001b[0m\u001b[1;36m1\u001b[0m\u001b[1;33m,\u001b[0m \u001b[1;36m2\u001b[0m\u001b[1;33m]\u001b[0m\u001b[1;33m,\u001b[0m \u001b[1;33m[\u001b[0m\u001b[1;36m3\u001b[0m\u001b[1;33m,\u001b[0m \u001b[1;36m4\u001b[0m\u001b[1;33m]\u001b[0m\u001b[1;33m]\u001b[0m\u001b[1;33m\u001b[0m\u001b[0m\n\u001b[1;32m----> 2\u001b[1;33m \u001b[0mprint\u001b[0m\u001b[1;33m(\u001b[0m\u001b[0msum\u001b[0m\u001b[1;33m(\u001b[0m\u001b[0ma\u001b[0m\u001b[1;33m)\u001b[0m\u001b[1;33m)\u001b[0m\u001b[1;33m\u001b[0m\u001b[0m\n\u001b[0m",
      "\u001b[1;31mTypeError\u001b[0m: unsupported operand type(s) for +: 'int' and 'list'"
     ]
    }
   ],
   "source": []
  },
  {
   "cell_type": "code",
   "execution_count": null,
   "metadata": {},
   "outputs": [],
   "source": []
  }
 ],
 "metadata": {
  "kernelspec": {
   "display_name": "Python 3",
   "language": "python",
   "name": "python3"
  },
  "language_info": {
   "codemirror_mode": {
    "name": "ipython",
    "version": 3
   },
   "file_extension": ".py",
   "mimetype": "text/x-python",
   "name": "python",
   "nbconvert_exporter": "python",
   "pygments_lexer": "ipython3",
   "version": "3.6.2"
  }
 },
 "nbformat": 4,
 "nbformat_minor": 4
}
