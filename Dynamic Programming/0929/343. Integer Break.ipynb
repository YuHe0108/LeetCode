{
 "cells": [
  {
   "cell_type": "raw",
   "metadata": {},
   "source": [
    "说明：\n",
    "    给定一个正整数n，请将其分解为至少两个正整数的和，并使这些整数的乘积最大化。\n",
    "    返回您可以获得的最大产品。\n",
    "\n",
    "Example 1:\n",
    "    Input: 2\n",
    "    Output: 1\n",
    "    Explanation: 2 = 1 + 1, 1 × 1 = 1.\n",
    "\n",
    "Example 2:\n",
    "    Input: 10\n",
    "    Output: 36\n",
    "    Explanation: 10 = 3 + 3 + 4, 3 × 3 × 4 = 36.\n",
    "\n",
    "Note: \n",
    "    1、你可以假设n不小于2，也不大于58。"
   ]
  },
  {
   "cell_type": "code",
   "execution_count": 37,
   "metadata": {},
   "outputs": [],
   "source": [
    "class Solution:\n",
    "    def integerBreak(self, n: int) -> int:\n",
    "        if n == 2 or n == 3: return n\n",
    "        \n",
    "        dp = [0] * (n + 1)\n",
    "        for i in range(4):\n",
    "            dp[i] = i\n",
    "        \n",
    "        for i in range(4, n + 1):\n",
    "            for j in range(2, i // 2 + 1):\n",
    "                dp[i] = max(dp[i], dp[j] * dp[i-j])\n",
    "        print(dp)\n",
    "        return dp[-1]"
   ]
  },
  {
   "cell_type": "code",
   "execution_count": 41,
   "metadata": {},
   "outputs": [],
   "source": [
    "class Solution:\n",
    "    def integerBreak(self, n: int) -> int:\n",
    "        if n == 2 or n == 3: return n\n",
    "        if n % 3 == 0: \n",
    "            return pow(3, n // 3)\n",
    "        elif n % 3 == 1: \n",
    "            return pow(3, n // 3 - 1) * 4\n",
    "        else:\n",
    "            return pow(3, n // 3) * 2"
   ]
  },
  {
   "cell_type": "code",
   "execution_count": 42,
   "metadata": {},
   "outputs": [
    {
     "data": {
      "text/plain": [
       "36"
      ]
     },
     "execution_count": 42,
     "metadata": {},
     "output_type": "execute_result"
    }
   ],
   "source": [
    "solution = Solution()\n",
    "solution.integerBreak(10)"
   ]
  },
  {
   "cell_type": "code",
   "execution_count": null,
   "metadata": {},
   "outputs": [],
   "source": []
  }
 ],
 "metadata": {
  "kernelspec": {
   "display_name": "Python 3",
   "language": "python",
   "name": "python3"
  },
  "language_info": {
   "codemirror_mode": {
    "name": "ipython",
    "version": 3
   },
   "file_extension": ".py",
   "mimetype": "text/x-python",
   "name": "python",
   "nbconvert_exporter": "python",
   "pygments_lexer": "ipython3",
   "version": "3.6.2"
  }
 },
 "nbformat": 4,
 "nbformat_minor": 4
}
