{
 "cells": [
  {
   "cell_type": "raw",
   "metadata": {},
   "source": [
    "说明：\n",
    "    给定一个非空字符串s和包含非空单词列表的字典wordDict，请确定s是否可以分段为一个或多个字典单词的以空格分隔的序列。\n",
    "    注意：字典中的同一单词在细分中可能会多次重复使用。\n",
    "    您可以假定字典中不包含重复的单词。\n",
    "\n",
    "Example 1:\n",
    "    Input: s = \"leetcode\", wordDict = [\"leet\", \"code\"]\n",
    "    Output: true\n",
    "    Explanation: Return true because \"leetcode\" can be segmented as \"leet code\".\n",
    "\n",
    "Example 2:\n",
    "    Input: s = \"applepenapple\", wordDict = [\"apple\", \"pen\"]\n",
    "    Output: true\n",
    "    Explanation: Return true because \"applepenapple\" can be segmented as \"apple pen apple\".\n",
    "                 Note that you are allowed to reuse a dictionary word.\n",
    "\n",
    "Example 3:\n",
    "    Input: s = \"catsandog\", wordDict = [\"cats\", \"dog\", \"sand\", \"and\", \"cat\"]\n",
    "    Output: false"
   ]
  },
  {
   "cell_type": "code",
   "execution_count": 13,
   "metadata": {},
   "outputs": [],
   "source": [
    "class Solution:\n",
    "    def wordBreak(self, s: str, wordDict) -> bool:\n",
    "        dp = [False] * (len(s) + 1)\n",
    "        dp[0] = True\n",
    "        for i in range(1, len(s) + 1):\n",
    "            for j in range(i):\n",
    "                sub_s = s[j:i]\n",
    "                if dp[j] and sub_s in wordDict:\n",
    "                    dp[i] = True\n",
    "        return dp[-1]"
   ]
  },
  {
   "cell_type": "code",
   "execution_count": 17,
   "metadata": {},
   "outputs": [],
   "source": [
    "class Solution:\n",
    "    def wordBreak(self, s: str, wordDict) -> bool:\n",
    "        \n",
    "        word_set = set(wordDict)\n",
    "        mem = {}\n",
    "        def dfs(s, idx) -> bool:\n",
    "            nonlocal mem\n",
    "            if idx in mem:\n",
    "                return mem[idx]\n",
    "            \n",
    "            if idx == len(s):\n",
    "                mem[idx] = True\n",
    "                return True\n",
    "            \n",
    "            for word in wordDict:\n",
    "                a = len(word) <= len(s) - idx\n",
    "                b = a and s[idx:idx + len(word)] in word_set\n",
    "                c = b and dfs(s, idx + len(word))\n",
    "                if c:\n",
    "                    mem[idx] = True\n",
    "                    return True \n",
    "            mem[idx] = False\n",
    "            return False\n",
    "        return dfs(s, 0)"
   ]
  },
  {
   "cell_type": "markdown",
   "metadata": {},
   "source": [
    "<img src='139.png' width=550>"
   ]
  },
  {
   "cell_type": "code",
   "execution_count": 27,
   "metadata": {},
   "outputs": [],
   "source": [
    "class Solution:\n",
    "    def wordBreak(self, s: str, wordDict) -> bool:\n",
    "        dp = [False] * (len(s) + 1)\n",
    "        dp[0] = True\n",
    "        for i in range(len(s)):\n",
    "            if dp[i]:\n",
    "                for word in wordDict:\n",
    "                    if s[i:i+len(word)] in wordDict:\n",
    "                        dp[i+len(word)] = True\n",
    "        return dp[-1]"
   ]
  },
  {
   "cell_type": "code",
   "execution_count": 28,
   "metadata": {},
   "outputs": [
    {
     "name": "stdout",
     "output_type": "stream",
     "text": [
      "[True, False, False, False, False, True, False, False, True, False, False, False, False, True]\n"
     ]
    },
    {
     "data": {
      "text/plain": [
       "True"
      ]
     },
     "execution_count": 28,
     "metadata": {},
     "output_type": "execute_result"
    }
   ],
   "source": [
    "s_ = \"applepenapple\"\n",
    "word_dict = [\"apple\", \"pen\"]\n",
    "solution = Solution()\n",
    "solution.wordBreak(s_, word_dict)"
   ]
  },
  {
   "cell_type": "code",
   "execution_count": null,
   "metadata": {},
   "outputs": [],
   "source": []
  },
  {
   "cell_type": "code",
   "execution_count": null,
   "metadata": {},
   "outputs": [],
   "source": []
  }
 ],
 "metadata": {
  "kernelspec": {
   "display_name": "Python 3",
   "language": "python",
   "name": "python3"
  },
  "language_info": {
   "codemirror_mode": {
    "name": "ipython",
    "version": 3
   },
   "file_extension": ".py",
   "mimetype": "text/x-python",
   "name": "python",
   "nbconvert_exporter": "python",
   "pygments_lexer": "ipython3",
   "version": "3.6.2"
  }
 },
 "nbformat": 4,
 "nbformat_minor": 4
}
