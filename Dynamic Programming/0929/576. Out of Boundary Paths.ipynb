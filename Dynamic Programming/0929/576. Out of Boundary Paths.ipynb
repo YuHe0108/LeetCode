{
 "cells": [
  {
   "cell_type": "raw",
   "metadata": {},
   "source": [
    "说明：\n",
    "    有一个带球的 m x n网格。 \n",
    "    给定球的起始坐标（i，j），您可以将球移动到相邻的单元格或在四个方向（上，下，左，右）上越过网格边界。 \n",
    "    但是，您最多只能移动N次。\n",
    "    找出将球移出网格边界的路径数量。 \n",
    "    答案可能非常大，请在除模10^9 + 7之后返回。\n",
    "\n",
    "注意：\n",
    "   1、将球移出边界后，就不能将其移回边界。\n",
    "   2、网格的长度和高度在[1,50]范围内。 \n",
    "   3、N在[0,50]范围内。"
   ]
  },
  {
   "cell_type": "markdown",
   "metadata": {},
   "source": [
    "    Example 1:\n",
    "\n",
    "    Input: m = 2, n = 2, N = 2, i = 0, j = 0\n",
    "    Output: 6\n",
    "<img src='https://assets.leetcode.com/uploads/2018/10/13/out_of_boundary_paths_1.png' width=500>\n",
    "\n",
    "    Example 2:\n",
    "\n",
    "    Input: m = 1, n = 3, N = 3, i = 0, j = 1\n",
    "    Output: 12\n",
    "<img src='https://assets.leetcode.com/uploads/2018/10/12/out_of_boundary_paths_2.png' width=500>"
   ]
  },
  {
   "cell_type": "code",
   "execution_count": 32,
   "metadata": {},
   "outputs": [],
   "source": [
    "class Solution:\n",
    "    def findPaths(self, m: int, n: int, N: int, k: int, l: int) -> int:\n",
    "        if N == 0: return 0\n",
    "        count = 0\n",
    "        \n",
    "        dp = [[0] * n for _ in range(m)]\n",
    "        \n",
    "        for i in range(m):\n",
    "            for j in range(n):\n",
    "                if i == 0:\n",
    "                    dp[i][j] += 1\n",
    "                if j == 0:\n",
    "                    dp[i][j] += 1\n",
    "                if i == m - 1:\n",
    "                    dp[i][j] += 1\n",
    "                if j == n - 1:\n",
    "                    dp[i][j] += 1\n",
    "        while N >= 0:\n",
    "            for i in range(m):\n",
    "                for j in range(n):\n",
    "                    if 0 <= i - 1 < m:\n",
    "                        dp[i][j] += dp[i-1][j]\n",
    "                    if 0 <= j - 1 < n:\n",
    "                        dp[i][j] += dp[i][j-1]\n",
    "                    if i + 1 < m:\n",
    "                        dp[i][j] += dp[i+1][j]\n",
    "                    if j + 1 < n:\n",
    "                        dp[i][j] += dp[i][j+1]\n",
    "                    N -= 1 \n",
    "        M = pow(10, 9) + 7\n",
    "        print(dp[0][0], k, l)\n",
    "        return dp[k][l] % M"
   ]
  },
  {
   "cell_type": "code",
   "execution_count": 227,
   "metadata": {},
   "outputs": [],
   "source": [
    "class Solution:\n",
    "    def findPaths(self, m: int, n: int, N: int, k: int, l: int) -> int:\n",
    "        if N == 0: return 0\n",
    "\n",
    "        M = pow(10, 9) + 7\n",
    "        q = [[0] * n for _ in range(m)]\n",
    "        p = [[0] * n for _ in range(m)]\n",
    "        \n",
    "        while N > 0:\n",
    "            for i in range(m):\n",
    "                for j in range(n):\n",
    "                    n1 = 1 if i == 0 else q[i-1][j]\n",
    "                    n2 = 1 if i == m - 1 else q[i+1][j]\n",
    "                    n3 = 1 if j == 0 else q[i][j-1]\n",
    "                    n4 = 1 if j == n - 1 else q[i][j+1]\n",
    "                    p[i][j] = (n1 + n2 + n3 + n4) % M\n",
    "            q = p\n",
    "            N -= 1\n",
    "        return p[k][l] % M"
   ]
  },
  {
   "cell_type": "code",
   "execution_count": 228,
   "metadata": {},
   "outputs": [
    {
     "name": "stdout",
     "output_type": "stream",
     "text": [
      "1000000007\n"
     ]
    },
    {
     "data": {
      "text/plain": [
       "28"
      ]
     },
     "execution_count": 228,
     "metadata": {},
     "output_type": "execute_result"
    }
   ],
   "source": [
    "solution = Solution()\n",
    "solution.findPaths(1, 3, 3, 0, 1)"
   ]
  },
  {
   "cell_type": "code",
   "execution_count": 218,
   "metadata": {},
   "outputs": [
    {
     "data": {
      "text/plain": [
       "[[2, 1, 2], [1, 0, 1], [2, 1, 2]]"
      ]
     },
     "execution_count": 218,
     "metadata": {},
     "output_type": "execute_result"
    }
   ],
   "source": [
    "\n",
    "[[2, 1, 2], \n",
    " [1, 0, 1], \n",
    " [2, 1, 2]]"
   ]
  },
  {
   "cell_type": "code",
   "execution_count": null,
   "metadata": {},
   "outputs": [],
   "source": [
    "from functools import lru_cache\n",
    "class Solution:\n",
    "    @lru_cache(None)\n",
    "    def findPaths(self, m: int, n: int, N: int, i: int, j: int) -> int:\n",
    "        if i>=m or i<0:\n",
    "            return 1\n",
    "        if j>=n or j<0:\n",
    "            return 1\n",
    "        if N<=0:\n",
    "            return 0\n",
    "        return (self.findPaths(m,n,N-1,i+1,j)+self.findPaths(m,n,N-1,i-1,j)+self.findPaths(m,n,N-1,i,j+1)+self.findPaths(m,n,N-1,i,j-1))%(10**9 + 7)"
   ]
  },
  {
   "cell_type": "code",
   "execution_count": 230,
   "metadata": {},
   "outputs": [],
   "source": [
    "from functools import lru_cache\n",
    "class Solution:\n",
    "    @lru_cache(None)\n",
    "    def findPaths(self, m: int, n: int, N: int, i: int, j: int) -> int:\n",
    "        if i == m or i == -1: # 上下边界\n",
    "            return 1\n",
    "        if j == n or j == -1: # 左右边界\n",
    "            return 1\n",
    "        if N == 0:\n",
    "            return 0\n",
    "        a = self.findPaths(m, n, N-1, i+1, j)\n",
    "        b = self.findPaths(m, n, N-1, i-1, j)\n",
    "        c = self.findPaths(m, n, N-1, i, j+1)     \n",
    "        d = self.findPaths(m, n, N-1, i, j-1)\n",
    "        return (a + b + c + d)%(10**9 + 7)"
   ]
  },
  {
   "cell_type": "code",
   "execution_count": 231,
   "metadata": {},
   "outputs": [],
   "source": [
    "from functools import lru_cache\n",
    "\n",
    "class Solution:\n",
    "    @lru_cache(None)\n",
    "    def findPaths(self, m: int, n: int, N: int, i: int, j: int) -> int:\n",
    "        if i == M or i == -1: return 1\n",
    "        if j == M or j == -1: return 1\n",
    "        if N == 0: return 0\n",
    "        \n",
    "        n1 = self.findPaths(m, n, N-1, i+1, j)\n",
    "        n2 = self.findPaths(m, n, N-1, i-1, j)\n",
    "        n3 = self.findPaths(m, n, N-1, i, j-1)\n",
    "        n4 = self.findPaths(m, n, N-1, i, j+1)\n",
    "        return (n1 + n2 + n3 + n4) % (pow(10, 9) + 7)"
   ]
  },
  {
   "cell_type": "code",
   "execution_count": null,
   "metadata": {},
   "outputs": [],
   "source": []
  },
  {
   "cell_type": "code",
   "execution_count": null,
   "metadata": {},
   "outputs": [],
   "source": []
  }
 ],
 "metadata": {
  "kernelspec": {
   "display_name": "Python 3",
   "language": "python",
   "name": "python3"
  },
  "language_info": {
   "codemirror_mode": {
    "name": "ipython",
    "version": 3
   },
   "file_extension": ".py",
   "mimetype": "text/x-python",
   "name": "python",
   "nbconvert_exporter": "python",
   "pygments_lexer": "ipython3",
   "version": "3.6.2"
  }
 },
 "nbformat": 4,
 "nbformat_minor": 4
}
