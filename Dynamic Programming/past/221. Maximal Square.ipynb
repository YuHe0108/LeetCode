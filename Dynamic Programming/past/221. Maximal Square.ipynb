{
 "cells": [
  {
   "cell_type": "markdown",
   "metadata": {},
   "source": [
    "    给出一个用0和1填充的2D二进制矩阵，找出只包含1的最大正方形，并返回其面积。\n",
    "    例1：\n",
    "        Input: \n",
    "            1 0 1 0 0\n",
    "            1 0 1 1 1\n",
    "            1 1 1 1 1\n",
    "            1 0 0 1 0\n",
    "         Output: 4"
   ]
  },
  {
   "cell_type": "code",
   "execution_count": 44,
   "metadata": {},
   "outputs": [],
   "source": [
    "class Solution:\n",
    "    def maximalSquare(self, mat) -> int:\n",
    "        rows = len(mat)\n",
    "        cols = len(mat[0])\n",
    "        squs = []\n",
    "        for row in range(rows):\n",
    "            squs.append([])\n",
    "            for col in range(cols):\n",
    "                mat_val = int(mat[row][col])\n",
    "                if col > 0 and row > 0:\n",
    "                    pass\n",
    "                elif mat_val == 1:\n",
    "                    val = 1\n",
    "                squs[row].append(val)\n",
    "        print(squs)\n",
    "        return max(x for x in squs)"
   ]
  },
  {
   "cell_type": "code",
   "execution_count": 45,
   "metadata": {},
   "outputs": [
    {
     "name": "stdout",
     "output_type": "stream",
     "text": [
      "0 c\n",
      "1 d\n",
      "0 c\n",
      "1 d\n",
      "1 d\n",
      "1 d\n",
      "1 c\n",
      "0 c\n",
      "[[1, 0, 1, 0, 0], [1, 0, 1, 1, 1], [1, 1, 1, 1, 1], [1, 0, 0, 1, 0]]\n"
     ]
    },
    {
     "data": {
      "text/plain": [
       "[1, 1, 1, 1, 1]"
      ]
     },
     "execution_count": 45,
     "metadata": {},
     "output_type": "execute_result"
    }
   ],
   "source": [
    "mat_ = [[\"1\",\"0\",\"1\",\"0\",\"0\"],\n",
    "        [\"1\",\"0\",\"1\",\"1\",\"1\"], \n",
    "        [\"1\",\"1\",\"1\",\"1\",\"1\"],\n",
    "        [\"1\",\"0\",\"0\",\"1\",\"0\"]]\n",
    "solution = Solution()\n",
    "solution.maximalSquare(mat_)"
   ]
  },
  {
   "cell_type": "code",
   "execution_count": 27,
   "metadata": {},
   "outputs": [
    {
     "data": {
      "text/plain": [
       "[[1, 0, 1, 0, 0], [1, 0, 0, 0, 0], [1, 0, 0, 0, 0], [1, 0, 0, 0, 0]]"
      ]
     },
     "execution_count": 27,
     "metadata": {},
     "output_type": "execute_result"
    }
   ],
   "source": [
    "[[1, 0, 1, 0, 0], \n",
    " [1, 0, 0, 0, 0], \n",
    " [1, 0, 0, 0, 0], \n",
    " [1, 0, 0, 0, 0]]"
   ]
  },
  {
   "cell_type": "markdown",
   "metadata": {},
   "source": [
    "![avatar](max_square.png)"
   ]
  },
  {
   "cell_type": "code",
   "execution_count": 69,
   "metadata": {},
   "outputs": [],
   "source": [
    "class Solution:\n",
    "    def maximalSquare(self, mat) -> int:\n",
    "        if len(mat) == 0 : return 0\n",
    "        if len(mat) == 1: \n",
    "            if max(mat[0]) == '1':\n",
    "                return 1\n",
    "            else:\n",
    "                return 0\n",
    "        \n",
    "        rows = len(mat)\n",
    "        cols = len(mat[0])\n",
    "        squs = []\n",
    "        max_squ = 0\n",
    "        for row in range(rows):\n",
    "            squs.append([])\n",
    "            for col in range(cols):\n",
    "                mat_val = int(mat[row][col])\n",
    "                if row - 1 >= 0 and col - 1 >= 0 and mat_val == 1:\n",
    "                    val = min(squs[row-1][col], squs[row][col-1], squs[row-1][col-1]) + 1\n",
    "                else:\n",
    "                    val = mat_val\n",
    "                if pow(val, 2) > max_squ:\n",
    "                        max_squ = pow(val, 2) \n",
    "                squs[row].append(val)\n",
    "        return max_squ"
   ]
  },
  {
   "cell_type": "code",
   "execution_count": 70,
   "metadata": {},
   "outputs": [
    {
     "data": {
      "text/plain": [
       "1"
      ]
     },
     "execution_count": 70,
     "metadata": {},
     "output_type": "execute_result"
    }
   ],
   "source": [
    "mat_ = [[\"0\",\"1\"],\n",
    "        [\"1\",\"0\"]]\n",
    "solution = Solution()\n",
    "solution.maximalSquare(mat_)"
   ]
  },
  {
   "cell_type": "code",
   "execution_count": 66,
   "metadata": {},
   "outputs": [
    {
     "data": {
      "text/plain": [
       "[[1, 0, 1, 0, 0], [1, 0, 1, 1, 1], [1, 1, 1, 2, 2], [1, 0, 0, 1, 0]]"
      ]
     },
     "execution_count": 66,
     "metadata": {},
     "output_type": "execute_result"
    }
   ],
   "source": [
    "[[1, 0, 1, 0, 0], \n",
    " [1, 0, 1, 1, 1], \n",
    " [1, 1, 1, 2, 2], \n",
    " [1, 0, 0, 1, 0]]"
   ]
  },
  {
   "cell_type": "code",
   "execution_count": 68,
   "metadata": {},
   "outputs": [
    {
     "name": "stdout",
     "output_type": "stream",
     "text": [
      "2\n"
     ]
    }
   ],
   "source": [
    "print(max('1', '2'))"
   ]
  },
  {
   "cell_type": "code",
   "execution_count": null,
   "metadata": {},
   "outputs": [],
   "source": []
  }
 ],
 "metadata": {
  "kernelspec": {
   "display_name": "TF2",
   "language": "python",
   "name": "tf2"
  },
  "language_info": {
   "codemirror_mode": {
    "name": "ipython",
    "version": 3
   },
   "file_extension": ".py",
   "mimetype": "text/x-python",
   "name": "python",
   "nbconvert_exporter": "python",
   "pygments_lexer": "ipython3",
   "version": "3.6.2"
  }
 },
 "nbformat": 4,
 "nbformat_minor": 4
}
