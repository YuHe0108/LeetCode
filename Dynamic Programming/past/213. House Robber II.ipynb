{
 "cells": [
  {
   "cell_type": "markdown",
   "metadata": {},
   "source": [
    "    你是一个专业的强盗，计划抢劫沿街的房屋。每所房子都有一定数量的钱。这个地方所有的房子都围成一圈。\n",
    "    也就是说第一个房子是最后一个房子的邻居。\n",
    "    同时，相邻的房屋有安全系统连接，如果两个相邻的房子在同一个晚上被闯入，它会自动报警。\n",
    "    给出一个代表每间房子的钱的非负整数的列表，\n",
    "    确定你今晚可以在不报警的情况下抢劫的最大金额。\n",
    "    例1：\n",
    "        Input: [2,3,2]\n",
    "        Output: 3\n",
    "        Explanation: You cannot rob house 1 (money = 2) and then rob house 3 (money = 2),\n",
    "                 because they are adjacent houses.\n",
    "     例2：\n",
    "        Input: [1,2,3,1]\n",
    "        Output: 4\n",
    "        Explanation: Rob house 1 (money = 1) and then rob house 3 (money = 3).\n",
    "                     Total amount you can rob = 1 + 3 = 4."
   ]
  },
  {
   "cell_type": "code",
   "execution_count": 66,
   "metadata": {},
   "outputs": [],
   "source": [
    "class Solution:\n",
    "    def rob(self, nums) -> int:\n",
    "        return max(self.helper(nums[1:]), self.helper(nums[:(len(nums)-1)]))\n",
    "    \n",
    "    def helper(self, nums):\n",
    "        if len(nums) == 0: return 0\n",
    "        if len(nums) == 1: return nums[0]\n",
    "        \n",
    "        dp = [0] * (len(nums) + 1)\n",
    "        dp[1] = nums[0]\n",
    "        for i in range(1, len(nums)):\n",
    "            # i-1：前两位，i：前一位，i+1: 当前位\n",
    "            s_way = dp[i - 1] + nums[i] \n",
    "            n_way = dp[i]\n",
    "            dp[i+1] = max(s_way, n_way)\n",
    "        return dp[-1]"
   ]
  },
  {
   "cell_type": "code",
   "execution_count": 69,
   "metadata": {},
   "outputs": [
    {
     "data": {
      "text/plain": [
       "4"
      ]
     },
     "execution_count": 69,
     "metadata": {},
     "output_type": "execute_result"
    }
   ],
   "source": [
    "nums_ = [1,2,3,1]\n",
    "s = Solution()\n",
    "s.rob(nums_)"
   ]
  },
  {
   "cell_type": "code",
   "execution_count": 62,
   "metadata": {},
   "outputs": [],
   "source": [
    "dp = {0:0, 1:2}"
   ]
  },
  {
   "cell_type": "code",
   "execution_count": 63,
   "metadata": {},
   "outputs": [
    {
     "data": {
      "text/plain": [
       "2"
      ]
     },
     "execution_count": 63,
     "metadata": {},
     "output_type": "execute_result"
    }
   ],
   "source": [
    "dp[1]"
   ]
  },
  {
   "cell_type": "code",
   "execution_count": 72,
   "metadata": {},
   "outputs": [
    {
     "name": "stdout",
     "output_type": "stream",
     "text": [
      "[1, 2]\n"
     ]
    }
   ],
   "source": [
    "a =[1,2,3]\n",
    "print(a[:2])"
   ]
  },
  {
   "cell_type": "code",
   "execution_count": null,
   "metadata": {},
   "outputs": [],
   "source": []
  }
 ],
 "metadata": {
  "kernelspec": {
   "display_name": "TF2",
   "language": "python",
   "name": "tf2"
  },
  "language_info": {
   "codemirror_mode": {
    "name": "ipython",
    "version": 3
   },
   "file_extension": ".py",
   "mimetype": "text/x-python",
   "name": "python",
   "nbconvert_exporter": "python",
   "pygments_lexer": "ipython3",
   "version": "3.6.2"
  }
 },
 "nbformat": 4,
 "nbformat_minor": 4
}
