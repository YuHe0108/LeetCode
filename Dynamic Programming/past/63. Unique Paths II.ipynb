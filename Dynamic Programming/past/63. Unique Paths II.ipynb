{
 "cells": [
  {
   "cell_type": "markdown",
   "metadata": {},
   "source": [
    "    问题描述：\n",
    "        机器人位于 m列n行 网格的左上角（在下图中标记为“开始”）。\n",
    "        机器人在任何时间点只能向下或向右移动。\n",
    "        机器人正试图到达网格的右下角（在下图中标记为“完成”）。\n",
    "        现在考虑是否在栅格中添加了一些障碍物。\n",
    "        会有多少条独特的道路？\n",
    "        网格中的障碍物和空白区域分别标记为1和0\n",
    "    例1：\n",
    "    Inputs:\n",
    "        [\n",
    "          [0,0,0],\n",
    "          [0,1,0],\n",
    "          [0,0,0]\n",
    "        ]\n",
    "    Outputs = 2"
   ]
  },
  {
   "cell_type": "code",
   "execution_count": 23,
   "metadata": {},
   "outputs": [],
   "source": [
    "class Solution:\n",
    "    def uniquePathsWithObstacles(self, obstacleGrid) -> int:\n",
    "        rows, cols = len(obstacleGrid), len(obstacleGrid[0])\n",
    "        opts = []\n",
    "        for row in range(rows):\n",
    "            opts.append([])\n",
    "            for col in range(cols):\n",
    "                obs_val = obstacleGrid[row][col]\n",
    "                if obs_val == 1:\n",
    "                    count = 0\n",
    "                elif row - 1 >= 0 and col - 1 >= 0:\n",
    "                    right_way = opts[row-1][col]\n",
    "                    down_way = opts[row][col-1]\n",
    "                    count = right_way + down_way\n",
    "                elif row - 1 >= 0:\n",
    "                    count = opts[row-1][0]\n",
    "                elif col - 1 >= 0:\n",
    "                    count = opts[0][col-1]\n",
    "                else:\n",
    "                    count = 1\n",
    "                opts[row].append(count)\n",
    "        return opts[-1][-1]"
   ]
  },
  {
   "cell_type": "code",
   "execution_count": 24,
   "metadata": {},
   "outputs": [
    {
     "name": "stdout",
     "output_type": "stream",
     "text": [
      "0 0\n",
      "[[1, 1, 1], [1, 0, 1], [1, 1, 2]]\n"
     ]
    },
    {
     "data": {
      "text/plain": [
       "2"
      ]
     },
     "execution_count": 24,
     "metadata": {},
     "output_type": "execute_result"
    }
   ],
   "source": [
    "obs = [\n",
    "          [0,0,0],\n",
    "          [0,1,0],\n",
    "          [0,0,0]\n",
    "        ]\n",
    "solution = Solution()\n",
    "solution.uniquePathsWithObstacles(obs)"
   ]
  },
  {
   "cell_type": "code",
   "execution_count": null,
   "metadata": {},
   "outputs": [],
   "source": []
  },
  {
   "cell_type": "code",
   "execution_count": null,
   "metadata": {},
   "outputs": [],
   "source": []
  }
 ],
 "metadata": {
  "kernelspec": {
   "display_name": "TF2",
   "language": "python",
   "name": "tf2"
  },
  "language_info": {
   "codemirror_mode": {
    "name": "ipython",
    "version": 3
   },
   "file_extension": ".py",
   "mimetype": "text/x-python",
   "name": "python",
   "nbconvert_exporter": "python",
   "pygments_lexer": "ipython3",
   "version": "3.6.2"
  }
 },
 "nbformat": 4,
 "nbformat_minor": 4
}
