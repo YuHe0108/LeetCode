{
 "cells": [
  {
   "cell_type": "markdown",
   "metadata": {},
   "source": [
    "    问题描述：\n",
    "        机器人位于m x n网格的左上角（在下图中标记为“开始”）。\n",
    "        机器人在任何时间点只能向下或向右移动。\n",
    "        机器人正试图到达网格的右下角（在下图中标记为“完成”）。有多少条可能的独特路径？\n",
    "     \n",
    "     例1：\n",
    "         Input: m = 3, n = 2\n",
    "         Output: 3\n",
    "      例2：\n",
    "          Input: m = 7, n = 3\n",
    "          Output: 28"
   ]
  },
  {
   "cell_type": "markdown",
   "metadata": {},
   "source": [
    "![avatar](robot.jpg)"
   ]
  },
  {
   "cell_type": "code",
   "execution_count": 72,
   "metadata": {},
   "outputs": [],
   "source": [
    "class Solution:\n",
    "    def uniquePaths(self, m: int, n: int) -> int:\n",
    "        opts = []\n",
    "        for i in range(n): # 行数\n",
    "            opts.append([])\n",
    "            for j in range(m): # 列数\n",
    "                if i - 1 >= 0 and j - 1 >= 0:\n",
    "                    right_way = opts[i-1][j]\n",
    "                    down_way = opts[i][j-1]\n",
    "                    count= right_way + down_way\n",
    "                elif i - 1 >= 0: # 在第 0 列\n",
    "                    count = opts[i-1][0]\n",
    "                elif j - 1 >= 0: # 在第 0 行\n",
    "                    count = opts[0][j-1]\n",
    "                else:\n",
    "                    count = 1 # 达到起点只有一种方式\n",
    "                opts[i].append(count)\n",
    "        return opts[-1][-1]"
   ]
  },
  {
   "cell_type": "code",
   "execution_count": 75,
   "metadata": {},
   "outputs": [
    {
     "name": "stdout",
     "output_type": "stream",
     "text": [
      "0 0\n"
     ]
    },
    {
     "data": {
      "text/plain": [
       "28"
      ]
     },
     "execution_count": 75,
     "metadata": {},
     "output_type": "execute_result"
    }
   ],
   "source": [
    "m_ = 7\n",
    "n_ = 3\n",
    "solution = Solution()\n",
    "solution.uniquePaths(m_, n_)"
   ]
  },
  {
   "cell_type": "code",
   "execution_count": null,
   "metadata": {},
   "outputs": [],
   "source": []
  }
 ],
 "metadata": {
  "kernelspec": {
   "display_name": "TF2",
   "language": "python",
   "name": "tf2"
  },
  "language_info": {
   "codemirror_mode": {
    "name": "ipython",
    "version": 3
   },
   "file_extension": ".py",
   "mimetype": "text/x-python",
   "name": "python",
   "nbconvert_exporter": "python",
   "pygments_lexer": "ipython3",
   "version": "3.6.2"
  }
 },
 "nbformat": 4,
 "nbformat_minor": 4
}
