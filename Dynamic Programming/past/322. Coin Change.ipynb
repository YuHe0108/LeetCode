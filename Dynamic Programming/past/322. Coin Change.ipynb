{
 "cells": [
  {
   "cell_type": "markdown",
   "metadata": {},
   "source": [
    "    你会得到不同面额的硬币和总金额。\n",
    "    编写一个函数来计算组成该数量所需的最少硬币数量。\n",
    "    如果该金额不能由硬币的任何组合组成，则返回-1。\n",
    "    \n",
    "    例1：\n",
    "        Input: coins = [1, 2, 5], amount = 11\n",
    "        Output: 3 \n",
    "        Explanation: 11 = 5 + 5 + 1\n",
    "    例2：\n",
    "        Input: coins = [2], amount = 3\n",
    "        Output: -1"
   ]
  },
  {
   "cell_type": "code",
   "execution_count": 32,
   "metadata": {},
   "outputs": [],
   "source": [
    "class Solution:\n",
    "    def coinChange(self, coins, amount: int) -> int:\n",
    "        count = 0\n",
    "        coins.sort()\n",
    "        index = len(coins) - 1\n",
    "        while amount != 0 and index > -1:\n",
    "            if amount >= coins[index]:\n",
    "                amount -= coins[index]\n",
    "                count += 1\n",
    "            else:\n",
    "                index -= 1\n",
    "        print(amount)\n",
    "        if amount == 0: return count\n",
    "        else: return -1"
   ]
  },
  {
   "cell_type": "code",
   "execution_count": 33,
   "metadata": {},
   "outputs": [
    {
     "name": "stdout",
     "output_type": "stream",
     "text": [
      "11\n"
     ]
    },
    {
     "data": {
      "text/plain": [
       "-1"
      ]
     },
     "execution_count": 33,
     "metadata": {},
     "output_type": "execute_result"
    }
   ],
   "source": [
    "coins_ = [186,419,83,408]\n",
    "amount_ = 6249\n",
    "solution = Solution()\n",
    "solution.coinChange(coins_, amount_)"
   ]
  },
  {
   "cell_type": "code",
   "execution_count": 89,
   "metadata": {},
   "outputs": [],
   "source": [
    "class Solution:\n",
    "    def coinChange(self, coins, amount: int) -> int:  \n",
    "        opt = (amount + 1) * [-1]\n",
    "        opt[0] = 0\n",
    "        for i in range(1, amount + 1):\n",
    "            opt[i] = float('inf')\n",
    "            for coin in coins:\n",
    "                if i >= coin and opt[i - coin] != float('inf'):\n",
    "                    opt[i] = min(opt[i - coin] + 1, opt[i])\n",
    "        if opt[-1] == float('inf'): \n",
    "            return -1\n",
    "        return opt[-1]"
   ]
  },
  {
   "cell_type": "code",
   "execution_count": 90,
   "metadata": {},
   "outputs": [
    {
     "data": {
      "text/plain": [
       "-1"
      ]
     },
     "execution_count": 90,
     "metadata": {},
     "output_type": "execute_result"
    }
   ],
   "source": [
    "coins_ = [2]\n",
    "amount_ = 3\n",
    "solution = Solution()\n",
    "solution.coinChange(coins_, amount_)"
   ]
  },
  {
   "cell_type": "code",
   "execution_count": null,
   "metadata": {},
   "outputs": [],
   "source": []
  },
  {
   "cell_type": "code",
   "execution_count": null,
   "metadata": {},
   "outputs": [],
   "source": []
  },
  {
   "cell_type": "code",
   "execution_count": null,
   "metadata": {},
   "outputs": [],
   "source": []
  }
 ],
 "metadata": {
  "kernelspec": {
   "display_name": "TF2",
   "language": "python",
   "name": "tf2"
  },
  "language_info": {
   "codemirror_mode": {
    "name": "ipython",
    "version": 3
   },
   "file_extension": ".py",
   "mimetype": "text/x-python",
   "name": "python",
   "nbconvert_exporter": "python",
   "pygments_lexer": "ipython3",
   "version": "3.6.2"
  }
 },
 "nbformat": 4,
 "nbformat_minor": 4
}
