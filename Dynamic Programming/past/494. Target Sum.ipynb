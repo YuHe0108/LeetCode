{
 "cells": [
  {
   "cell_type": "markdown",
   "metadata": {},
   "source": [
    "    给你一个非负整数的列表，a1，a2，…，an和一个目标S。\n",
    "    现在你有2个符号 + 和 -。对于每个整数，\n",
    "    找出分配符号使整数和等于目标S的方法。\n",
    "    \n",
    "    例1：\n",
    "        Input: nums is [1, 1, 1, 1, 1], S is 3. \n",
    "        Output: 5\n",
    "            Explanation: \n",
    "\n",
    "            -1+1+1+1+1 = 3\n",
    "            +1-1+1+1+1 = 3\n",
    "            +1+1-1+1+1 = 3\n",
    "            +1+1+1-1+1 = 3\n",
    "            +1+1+1+1-1 = 3\n",
    "\n",
    "            There are 5 ways to assign symbols to make the sum of nums be target 3."
   ]
  },
  {
   "cell_type": "code",
   "execution_count": 34,
   "metadata": {},
   "outputs": [],
   "source": [
    "class Solution:\n",
    "    def findTargetSumWays(self, nums, S: int) -> int:\n",
    "        if not nums: return 0\n",
    "        dp = {}\n",
    "        dp[nums[0]] = 1\n",
    "        dp[-nums[0]] = 1 if nums[0] != 0 else 2\n",
    "        for i in range(1, len(nums)):\n",
    "            temp = {}\n",
    "            for sum_val in dp:\n",
    "                temp[sum_val + nums[i]] = temp.get(sum_val+nums[i], 0) + dp[sum_val]\n",
    "                temp[sum_val - nums[i]] = temp.get(sum_val-nums[i], 0) + dp[sum_val]\n",
    "            dp = temp\n",
    "            break\n",
    "        print(dp)\n",
    "        if S in dp: return dp[S]\n",
    "        return 0"
   ]
  },
  {
   "cell_type": "code",
   "execution_count": 35,
   "metadata": {},
   "outputs": [
    {
     "name": "stdout",
     "output_type": "stream",
     "text": [
      "{2: 1, 0: 2, -2: 1}\n"
     ]
    },
    {
     "data": {
      "text/plain": [
       "0"
      ]
     },
     "execution_count": 35,
     "metadata": {},
     "output_type": "execute_result"
    }
   ],
   "source": [
    "nums_ = [1, 1, 1, 1, 1]\n",
    "S_ = 3\n",
    "solution = Solution()\n",
    "solution.findTargetSumWays(nums_, S_)"
   ]
  },
  {
   "cell_type": "code",
   "execution_count": null,
   "metadata": {},
   "outputs": [],
   "source": []
  },
  {
   "cell_type": "code",
   "execution_count": null,
   "metadata": {},
   "outputs": [],
   "source": []
  }
 ],
 "metadata": {
  "kernelspec": {
   "display_name": "TF2",
   "language": "python",
   "name": "tf2"
  },
  "language_info": {
   "codemirror_mode": {
    "name": "ipython",
    "version": 3
   },
   "file_extension": ".py",
   "mimetype": "text/x-python",
   "name": "python",
   "nbconvert_exporter": "python",
   "pygments_lexer": "ipython3",
   "version": "3.6.2"
  }
 },
 "nbformat": 4,
 "nbformat_minor": 4
}
