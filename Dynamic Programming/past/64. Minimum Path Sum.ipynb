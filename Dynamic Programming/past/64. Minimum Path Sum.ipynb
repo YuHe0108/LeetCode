{
 "cells": [
  {
   "cell_type": "markdown",
   "metadata": {},
   "source": [
    "    问题描述：\n",
    "        给定一个用非负数填充的 m行n列 网格，从左上到右下找到一条路径，使沿其路径的所有数字之和最小化。\n",
    "        注意：您只能在任何时间点向下或向右移动。\n",
    "    \n",
    "    例1：\n",
    "        Input:\n",
    "            [\n",
    "              [1,3,1],\n",
    "              [1,5,1],\n",
    "              [4,2,1]\n",
    "            ]\n",
    "        Output: 7"
   ]
  },
  {
   "cell_type": "code",
   "execution_count": 30,
   "metadata": {},
   "outputs": [],
   "source": [
    "class Solution:\n",
    "    def minPathSum(self, grid) -> int:\n",
    "        rows = len(grid)\n",
    "        cols = len(grid[0])\n",
    "        opts = [] # 记录经过每个格子路径上数字之和的最小值\n",
    "        for row in range(rows):\n",
    "            opts.append([])\n",
    "            for col in range(cols):\n",
    "                grid_val = grid[row][col]\n",
    "                if row - 1 >= 0 and col - 1 >= 0:\n",
    "                    right_way = opts[row-1][col] + grid_val\n",
    "                    down_way = opts[row][col-1] + grid_val\n",
    "                    count = min(right_way, down_way)\n",
    "                elif row - 1 >= 0:\n",
    "                    count = opts[row-1][0] + grid_val\n",
    "                elif col - 1 >= 0:\n",
    "                    count = opts[0][col-1] + grid_val\n",
    "                else:\n",
    "                    count = grid_val # [0, 0] 位置上就是 值本身\n",
    "                opts[row].append(count)\n",
    "        return opts[-1][-1]"
   ]
  },
  {
   "cell_type": "code",
   "execution_count": 31,
   "metadata": {},
   "outputs": [
    {
     "data": {
      "text/plain": [
       "7"
      ]
     },
     "execution_count": 31,
     "metadata": {},
     "output_type": "execute_result"
    }
   ],
   "source": [
    "grid_ = [\n",
    "          [1,3,1],\n",
    "          [1,5,1],\n",
    "          [4,2,1]\n",
    "        ]\n",
    "solution = Solution()\n",
    "solution.minPathSum(grid_)"
   ]
  },
  {
   "cell_type": "code",
   "execution_count": null,
   "metadata": {},
   "outputs": [],
   "source": []
  }
 ],
 "metadata": {
  "kernelspec": {
   "display_name": "TF2",
   "language": "python",
   "name": "tf2"
  },
  "language_info": {
   "codemirror_mode": {
    "name": "ipython",
    "version": 3
   },
   "file_extension": ".py",
   "mimetype": "text/x-python",
   "name": "python",
   "nbconvert_exporter": "python",
   "pygments_lexer": "ipython3",
   "version": "3.6.2"
  }
 },
 "nbformat": 4,
 "nbformat_minor": 4
}
