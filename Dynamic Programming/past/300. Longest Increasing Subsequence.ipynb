{
 "cells": [
  {
   "cell_type": "markdown",
   "metadata": {},
   "source": [
    "    给定一个未排序的整数数组，求最长递增子序列的长度。\n",
    "    例1：\n",
    "        Input: [10,9,2,5,3,7,101,18]\n",
    "        Output: 4 \n",
    "        Explanation: The longest increasing subsequence is [2,3,7,101], therefore the length is 4. "
   ]
  },
  {
   "cell_type": "code",
   "execution_count": 387,
   "metadata": {},
   "outputs": [],
   "source": [
    "class Solution:\n",
    "    def lengthOfLIS(self, nums) -> int:\n",
    "        if len(nums) == 0: return 0\n",
    "        dp = []\n",
    "        max_len = 0\n",
    "        for i in range(0, len(nums)):\n",
    "            cur_val = nums[i]\n",
    "            dp.append([cur_val])\n",
    "            a_way = [cur_val]\n",
    "            b_way = [cur_val]\n",
    "            for j in range(i, len(nums) - 1): # 取当前数字的下一个数\n",
    "                next_val = nums[j + 1]\n",
    "                if next_val > a_way[-1] and len(a_way) > len(b_way):\n",
    "                    a_way += [next_val]\n",
    "                elif next_val > a_way[-1] and next_val > b_way[-1] and len(a_way) == len(b_way):\n",
    "                    a_way += [next_val]\n",
    "                    b_way += [next_val]\n",
    "                elif next_val < a_way[-1] and next_val > b_way[-1]:\n",
    "                    b_way += [next_val]\n",
    "                elif next_val > a_way[-1] and next_val > b_way[-1] and len(b_way) > len(a_way):\n",
    "                    b_way += [next_val]\n",
    "                print(a_way, b_way, cur_val)\n",
    "            dp[i] = a_way if len(a_way) > len(b_way) else b_way\n",
    "            if len(dp[i]) > max_len:\n",
    "                max_len = len(dp[i])\n",
    "        return max_len"
   ]
  },
  {
   "cell_type": "code",
   "execution_count": 388,
   "metadata": {},
   "outputs": [
    {
     "name": "stdout",
     "output_type": "stream",
     "text": [
      "[10] [10] 10\n",
      "[10] [10] 10\n",
      "[10] [10] 10\n",
      "[10] [10] 10\n",
      "[10] [10] 10\n",
      "[10, 200] [10, 200] 10\n",
      "[10, 200] [10, 200] 10\n",
      "[10, 200] [10, 200] 10\n",
      "[10, 200] [10, 200] 10\n",
      "[10, 200] [10, 200] 10\n",
      "[9] [9] 9\n",
      "[9] [9] 9\n",
      "[9] [9] 9\n",
      "[9] [9] 9\n",
      "[9, 200] [9, 200] 9\n",
      "[9, 200] [9, 200] 9\n",
      "[9, 200] [9, 200] 9\n",
      "[9, 200] [9, 200] 9\n",
      "[9, 200] [9, 200] 9\n",
      "[2, 5] [2, 5] 2\n",
      "[2, 5] [2, 5] 2\n",
      "[2, 5, 7] [2, 5, 7] 2\n",
      "[2, 5, 7, 200] [2, 5, 7, 200] 2\n",
      "[2, 5, 7, 200] [2, 5, 7, 200] 2\n",
      "[2, 5, 7, 200] [2, 5, 7, 200] 2\n",
      "[2, 5, 7, 200] [2, 5, 7, 200] 2\n",
      "[2, 5, 7, 200] [2, 5, 7, 200] 2\n",
      "[5] [5] 5\n",
      "[5, 7] [5, 7] 5\n",
      "[5, 7, 200] [5, 7, 200] 5\n",
      "[5, 7, 200] [5, 7, 200] 5\n",
      "[5, 7, 200] [5, 7, 200] 5\n",
      "[5, 7, 200] [5, 7, 200] 5\n",
      "[5, 7, 200] [5, 7, 200] 5\n",
      "[3, 7] [3, 7] 3\n",
      "[3, 7, 200] [3, 7, 200] 3\n",
      "[3, 7, 200] [3, 7, 200] 3\n",
      "[3, 7, 200] [3, 7, 200] 3\n",
      "[3, 7, 200] [3, 7, 200] 3\n",
      "[3, 7, 200] [3, 7, 200] 3\n",
      "[7, 200] [7, 200] 7\n",
      "[7, 200] [7, 200] 7\n",
      "[7, 200] [7, 200] 7\n",
      "[7, 200] [7, 200] 7\n",
      "[7, 200] [7, 200] 7\n",
      "[200] [200] 200\n",
      "[200] [200] 200\n",
      "[200] [200] 200\n",
      "[200] [200] 200\n",
      "[18, 101] [18, 101] 18\n",
      "[18, 101, 102] [18, 101, 102] 18\n",
      "[18, 101, 102, 103] [18, 101, 102, 103] 18\n",
      "[101, 102] [101, 102] 101\n",
      "[101, 102, 103] [101, 102, 103] 101\n",
      "[102, 103] [102, 103] 102\n"
     ]
    },
    {
     "data": {
      "text/plain": [
       "4"
      ]
     },
     "execution_count": 388,
     "metadata": {},
     "output_type": "execute_result"
    }
   ],
   "source": [
    "nums_ = [10,9,2,5,3,7,200,18,101,102,103]\n",
    "solution = Solution()\n",
    "solution.lengthOfLIS(nums_)"
   ]
  },
  {
   "cell_type": "code",
   "execution_count": 351,
   "metadata": {},
   "outputs": [],
   "source": [
    "class Solution:\n",
    "    def lengthOfLIS(self, nums) -> int:\n",
    "        if len(nums) == 0: return 0\n",
    "        dp = [[nums[0]]]\n",
    "        max_len = 0\n",
    "        for i in range(1, len(nums)):\n",
    "            print(dp[i - 1][-1])\n",
    "            print(nums[i])\n",
    "            break\n",
    "        \n",
    "\n",
    "#             if len(dp[i]) > max_len:\n",
    "#                 max_len = len(dp[i])\n",
    "#         return max_len"
   ]
  },
  {
   "cell_type": "code",
   "execution_count": 346,
   "metadata": {},
   "outputs": [],
   "source": [
    "class Solution:\n",
    "    def lengthOfLIS(self, nums) -> int:\n",
    "        if len(nums) == 0: return 0\n",
    "        dp = [[nums[0]]]\n",
    "        max_len = 0\n",
    "        for i in range(1, len(nums)):\n",
    "            dp.append([])\n",
    "            pre_val = dp[i - 1][-1]\n",
    "            temp = [pre_val]\n",
    "            for j in range(i, len(nums)):\n",
    "                next_val = nums[j]\n",
    "                \n",
    "            dp[i] = [pre_val]\n",
    "        print(dp)    "
   ]
  },
  {
   "cell_type": "code",
   "execution_count": 347,
   "metadata": {},
   "outputs": [
    {
     "name": "stdout",
     "output_type": "stream",
     "text": [
      "[[2], [2], [2], [2], [2], [2], [2]]\n"
     ]
    }
   ],
   "source": [
    "nums_ = [2,15,3,7,8,6,18]\n",
    "solution = Solution()\n",
    "solution.lengthOfLIS(nums_)"
   ]
  },
  {
   "cell_type": "code",
   "execution_count": 125,
   "metadata": {},
   "outputs": [],
   "source": [
    "a = [1]\n",
    "b = [2]\n",
    "a += b"
   ]
  },
  {
   "cell_type": "code",
   "execution_count": 126,
   "metadata": {},
   "outputs": [
    {
     "data": {
      "text/plain": [
       "[1, 2]"
      ]
     },
     "execution_count": 126,
     "metadata": {},
     "output_type": "execute_result"
    }
   ],
   "source": [
    "a"
   ]
  },
  {
   "cell_type": "markdown",
   "metadata": {},
   "source": [
    "![avatar](max_sub.jpg)"
   ]
  },
  {
   "cell_type": "code",
   "execution_count": 75,
   "metadata": {},
   "outputs": [],
   "source": [
    "class Solution:\n",
    "    def lengthOfLIS(self, nums) -> int:\n",
    "        dp = [1] * (len(nums))\n",
    "        for i in range(len(nums), 0, -1):\n",
    "            record = dp[i - 1]\n",
    "            for j in range(len(nums), i, -1):\n",
    "                if nums[i - 1] < nums[j - 1]:\n",
    "                    record = max(dp[j - 1] + 1, record)\n",
    "                elif nums[i - 1] == nums[j - 1]:\n",
    "                    record = max(dp[j - 1], record)\n",
    "            dp[i - 1] = record\n",
    "        return max(dp)"
   ]
  },
  {
   "cell_type": "code",
   "execution_count": 76,
   "metadata": {},
   "outputs": [
    {
     "data": {
      "text/plain": [
       "6"
      ]
     },
     "execution_count": 76,
     "metadata": {},
     "output_type": "execute_result"
    }
   ],
   "source": [
    "# nums_ = [2,15,3,7,8,6,18]\n",
    "nums_ = [1,3,6,7,9,4,10,5,6]\n",
    "solution = Solution()\n",
    "solution.lengthOfLIS(nums_)"
   ]
  },
  {
   "cell_type": "code",
   "execution_count": 418,
   "metadata": {},
   "outputs": [
    {
     "name": "stdout",
     "output_type": "stream",
     "text": [
      "10\n",
      "9\n",
      "8\n",
      "7\n",
      "6\n",
      "5\n",
      "4\n",
      "3\n",
      "2\n"
     ]
    }
   ],
   "source": [
    "for i in range(10, 1, -1):\n",
    "    print(i)"
   ]
  },
  {
   "cell_type": "code",
   "execution_count": 13,
   "metadata": {},
   "outputs": [],
   "source": [
    "class Solution:\n",
    "    def lengthOfLIS(self, nums) -> int:\n",
    "        if len(nums) == 0: return 0\n",
    "        dp = [1] * len(nums)\n",
    "        for i in range(1, len(nums)):\n",
    "            for j in range(i):\n",
    "                print(nums[j], nums[i])\n",
    "                if nums[j] < nums[i]:\n",
    "                    dp[i] = max(dp[i], dp[j] + 1)\n",
    "        return max(dp)"
   ]
  },
  {
   "cell_type": "code",
   "execution_count": 14,
   "metadata": {},
   "outputs": [
    {
     "name": "stdout",
     "output_type": "stream",
     "text": [
      "1 3\n",
      "1 6\n",
      "3 6\n",
      "1 7\n",
      "3 7\n",
      "6 7\n",
      "1 9\n",
      "3 9\n",
      "6 9\n",
      "7 9\n",
      "1 4\n",
      "3 4\n",
      "6 4\n",
      "7 4\n",
      "9 4\n",
      "1 10\n",
      "3 10\n",
      "6 10\n",
      "7 10\n",
      "9 10\n",
      "4 10\n",
      "1 5\n",
      "3 5\n",
      "6 5\n",
      "7 5\n",
      "9 5\n",
      "4 5\n",
      "10 5\n",
      "1 6\n",
      "3 6\n",
      "6 6\n",
      "7 6\n",
      "9 6\n",
      "4 6\n",
      "10 6\n",
      "5 6\n",
      "[1, 2, 3, 4, 5, 3, 6, 4, 5]\n"
     ]
    },
    {
     "data": {
      "text/plain": [
       "6"
      ]
     },
     "execution_count": 14,
     "metadata": {},
     "output_type": "execute_result"
    }
   ],
   "source": [
    "nums_ = [1,3,6,7,9,4,10,5,6]\n",
    "solution = Solution()\n",
    "solution.lengthOfLIS(nums_)"
   ]
  },
  {
   "cell_type": "code",
   "execution_count": null,
   "metadata": {},
   "outputs": [],
   "source": []
  }
 ],
 "metadata": {
  "kernelspec": {
   "display_name": "TF2",
   "language": "python",
   "name": "tf2"
  },
  "language_info": {
   "codemirror_mode": {
    "name": "ipython",
    "version": 3
   },
   "file_extension": ".py",
   "mimetype": "text/x-python",
   "name": "python",
   "nbconvert_exporter": "python",
   "pygments_lexer": "ipython3",
   "version": "3.6.2"
  }
 },
 "nbformat": 4,
 "nbformat_minor": 4
}
