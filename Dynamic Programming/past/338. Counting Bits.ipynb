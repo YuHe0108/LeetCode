{
 "cells": [
  {
   "cell_type": "markdown",
   "metadata": {},
   "source": [
    "    给定一个非负整数num。对于 0≤ i ≤num 范围内的每个数字i，计算二进制表示中的1的个数，并将其作为数组返回。\n",
    "    例1：\n",
    "        Input: 2\n",
    "        Output: [0,1,1]\n",
    "    例2：\n",
    "        Input: 5\n",
    "        Output: [0,1,1,2,1,2]"
   ]
  },
  {
   "cell_type": "code",
   "execution_count": 45,
   "metadata": {},
   "outputs": [],
   "source": [
    "from math import log\n",
    "\n",
    "class Solution:\n",
    "    def countBits(self, num: int):\n",
    "        dp = [0] * (num + 1)\n",
    "        for i in range(1, num + 1):\n",
    "            if self.helper(i):\n",
    "                dp[i] = 1\n",
    "            else:\n",
    "                # 先用 i 减去 1、2、4、8、16、、中的最大值\n",
    "                # 之后 dp[i] = dp[i - max_val] + dp[max_val]\n",
    "                # 比如：dp[3] = dp[3-2] + dp[2] = 1 + 1 = 2\n",
    "                val = pow(2, int(log(i, 2)))\n",
    "                dp[i] = dp[i - val] + dp[val]\n",
    "                print(i, val)\n",
    "        return dp\n",
    "    \n",
    "    def helper(self, val):\n",
    "        a = int(log(val, 2))\n",
    "        b = pow(2, a)\n",
    "        if b == val:\n",
    "            return True\n",
    "        return False"
   ]
  },
  {
   "cell_type": "code",
   "execution_count": 46,
   "metadata": {},
   "outputs": [
    {
     "name": "stdout",
     "output_type": "stream",
     "text": [
      "3 2\n",
      "5 4\n",
      "6 4\n",
      "7 4\n",
      "9 8\n",
      "10 8\n",
      "11 8\n",
      "12 8\n",
      "13 8\n",
      "14 8\n",
      "15 8\n"
     ]
    },
    {
     "data": {
      "text/plain": [
       "[0, 1, 1, 2, 1, 2, 2, 3, 1, 2, 2, 3, 2, 3, 3, 4, 1]"
      ]
     },
     "execution_count": 46,
     "metadata": {},
     "output_type": "execute_result"
    }
   ],
   "source": [
    "num_ = 16\n",
    "solution = Solution()\n",
    "solution.countBits(num_)"
   ]
  },
  {
   "cell_type": "code",
   "execution_count": null,
   "metadata": {},
   "outputs": [],
   "source": [
    "from mat"
   ]
  }
 ],
 "metadata": {
  "kernelspec": {
   "display_name": "TF2",
   "language": "python",
   "name": "tf2"
  },
  "language_info": {
   "codemirror_mode": {
    "name": "ipython",
    "version": 3
   },
   "file_extension": ".py",
   "mimetype": "text/x-python",
   "name": "python",
   "nbconvert_exporter": "python",
   "pygments_lexer": "ipython3",
   "version": "3.6.2"
  }
 },
 "nbformat": 4,
 "nbformat_minor": 4
}
