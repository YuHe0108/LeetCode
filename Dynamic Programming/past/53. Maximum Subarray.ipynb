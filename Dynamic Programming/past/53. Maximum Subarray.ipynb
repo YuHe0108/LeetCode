{
 "cells": [
  {
   "cell_type": "markdown",
   "metadata": {},
   "source": [
    "    给定一个整数数组nums，找到具有最大和的连续子数组（至少包含一个数字）并返回其和。\n",
    "    \n",
    "    例1：\n",
    "        Input: [-2,1,-3,4,-1,2,1,-5,4],\n",
    "        Output: 6\n",
    "        Explanation: [4,-1,2,1] has the largest sum = 6."
   ]
  },
  {
   "cell_type": "code",
   "execution_count": null,
   "metadata": {},
   "outputs": [],
   "source": []
  },
  {
   "cell_type": "code",
   "execution_count": 26,
   "metadata": {},
   "outputs": [],
   "source": [
    "class Solution:\n",
    "    def maxSubArray(self, nums) -> int:\n",
    "        if len(nums) <= 1: return sum(nums)\n",
    "        opt = len(nums) * [0]\n",
    "        opt[0] = nums[0]\n",
    "        for i in range(1, len(nums)):\n",
    "            a_way = opt[i - 1] + nums[i]\n",
    "            b_way = nums[i]\n",
    "            opt[i] = max(a_way, b_way)\n",
    "        return max(opt)"
   ]
  },
  {
   "cell_type": "code",
   "execution_count": 27,
   "metadata": {},
   "outputs": [
    {
     "data": {
      "text/plain": [
       "6"
      ]
     },
     "execution_count": 27,
     "metadata": {},
     "output_type": "execute_result"
    }
   ],
   "source": [
    "nums_ = [-2,1,-3,4,-1, 2,1,-5,4]\n",
    "solution = Solution()\n",
    "solution.maxSubArray(nums_)"
   ]
  },
  {
   "cell_type": "code",
   "execution_count": 3,
   "metadata": {},
   "outputs": [
    {
     "data": {
      "text/plain": [
       "0"
      ]
     },
     "execution_count": 3,
     "metadata": {},
     "output_type": "execute_result"
    }
   ],
   "source": []
  },
  {
   "cell_type": "code",
   "execution_count": null,
   "metadata": {},
   "outputs": [],
   "source": []
  }
 ],
 "metadata": {
  "kernelspec": {
   "display_name": "TF2",
   "language": "python",
   "name": "tf2"
  },
  "language_info": {
   "codemirror_mode": {
    "name": "ipython",
    "version": 3
   },
   "file_extension": ".py",
   "mimetype": "text/x-python",
   "name": "python",
   "nbconvert_exporter": "python",
   "pygments_lexer": "ipython3",
   "version": "3.6.2"
  }
 },
 "nbformat": 4,
 "nbformat_minor": 4
}
