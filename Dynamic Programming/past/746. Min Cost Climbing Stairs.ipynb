{
 "cells": [
  {
   "cell_type": "markdown",
   "metadata": {},
   "source": [
    "    在楼梯上，第i个台阶分配了一些非负成本[i](索引为0)。一旦你支付了费用，你可以爬一级或两级台阶。\n",
    "    您需要找到到达楼层顶部的最小成本，您可以从索引为0的步骤开始，也可以从索引为1的步骤开始。\n",
    "    即：可以从第0、第1个索引位置派楼梯，一次可以上 1到2个台阶，当上到 len(nums) - 1, len(nums) - 2的时候可以到达楼顶\n",
    "    \n",
    "    例1：\n",
    "        Input: cost = [10, 15, 20]\n",
    "        Output: 15\n",
    "        Explanation: Cheapest is start on cost[1], pay that cost and go to the top.\n",
    "        从 1 爬两步 ————> 楼顶\n",
    "    例2：\n",
    "        Input: cost = [1, 100, 1, 1, 1, 100, 1, 1, 100, 1]\n",
    "        Output: 6\n",
    "        Explanation: Cheapest is start on cost[0], and only step on 1s, skipping cost[3]."
   ]
  },
  {
   "cell_type": "code",
   "execution_count": 16,
   "metadata": {},
   "outputs": [],
   "source": [
    "class Solution:\n",
    "    def minCostClimbingStairs(self, cost) -> int:\n",
    "        dp = [0] * (len(cost) + 2)\n",
    "        dp[1] = cost[0]\n",
    "        cost += [0]\n",
    "        for i in range(1, len(cost)):\n",
    "            # i + 1 当前 dp， i 前一位，i-1前两位\n",
    "            a_way = cost[i] + dp[i]\n",
    "            b_way = cost[i] + dp[i-1]\n",
    "            dp[i+1] = min(a_way, b_way)\n",
    "        return dp[-1]"
   ]
  },
  {
   "cell_type": "code",
   "execution_count": 18,
   "metadata": {},
   "outputs": [
    {
     "name": "stdout",
     "output_type": "stream",
     "text": [
      "[0, 1, 100, 2, 3, 3, 103, 4, 5, 104, 6, 6]\n"
     ]
    }
   ],
   "source": [
    "cost_ = [1, 100, 1, 1, 1, 100, 1, 1, 100, 1]\n",
    "solution = Solution()\n",
    "solution.minCostClimbingStairs(cost_)"
   ]
  },
  {
   "cell_type": "code",
   "execution_count": null,
   "metadata": {},
   "outputs": [],
   "source": []
  }
 ],
 "metadata": {
  "kernelspec": {
   "display_name": "TF2",
   "language": "python",
   "name": "tf2"
  },
  "language_info": {
   "codemirror_mode": {
    "name": "ipython",
    "version": 3
   },
   "file_extension": ".py",
   "mimetype": "text/x-python",
   "name": "python",
   "nbconvert_exporter": "python",
   "pygments_lexer": "ipython3",
   "version": "3.6.2"
  }
 },
 "nbformat": 4,
 "nbformat_minor": 4
}
