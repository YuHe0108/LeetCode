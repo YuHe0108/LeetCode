{
 "cells": [
  {
   "cell_type": "markdown",
   "metadata": {},
   "source": [
    "    给定一个整数数组nums，在一个数组（至少包含一个数字）中找到具有最大乘积的连续子数组。\n",
    "    例1：\n",
    "        Input: [2,3,-2,4]\n",
    "        Output: 6\n",
    "        Explanation: [2,3] has the largest product 6.\n",
    "    例2：\n",
    "        Input: [-2,0,-1]\n",
    "        Output: 0\n",
    "        Explanation: The result cannot be 2, because [-2,-1] is not a subarray."
   ]
  },
  {
   "cell_type": "markdown",
   "metadata": {},
   "source": [
    "    1、同时记录下，当前数组中的最大值和最小值\n",
    "    2、如果当前值是负数，就用负数乘于DP中的 前一个保存的最小值"
   ]
  },
  {
   "cell_type": "code",
   "execution_count": 129,
   "metadata": {},
   "outputs": [],
   "source": [
    "class Solution:\n",
    "    def maxProduct(self, nums) -> int:\n",
    "        if len(nums) == 0: return 0\n",
    "        if len(nums) == 1: return nums[0]\n",
    "        # 全是正数，就是整个数组的乘积和\n",
    "        if min(nums) > 0: \n",
    "            result = 1\n",
    "            for num in nums:\n",
    "                result *= num\n",
    "            return result\n",
    "        dp = [[1, 1]] * len(nums)\n",
    "        dp[0] = [nums[0], nums[0]] #dp[0][0] indicate max and dp[0][1] indicate min\n",
    "        for i in range(1, len(nums)):\n",
    "            if nums[i] == 0:\n",
    "                dp[i] = [0, 0]\n",
    "            elif nums[i] > 0:\n",
    "                cur_max = max(max(dp[i-1]) * nums[i], nums[i])\n",
    "                cur_min = min(min(dp[i-1]) * nums[i], nums[i])\n",
    "                dp[i] = [cur_max, cur_min]\n",
    "            else:\n",
    "                cur_max = max(min(dp[i-1]) * nums[i], nums[i])\n",
    "                cur_min = min(max(dp[i-1]) * nums[i], nums[i])\n",
    "                dp[i] = [cur_max, cur_min]\n",
    "        return max([x[0] for x in dp])"
   ]
  },
  {
   "cell_type": "code",
   "execution_count": 130,
   "metadata": {},
   "outputs": [
    {
     "name": "stdout",
     "output_type": "stream",
     "text": [
      "[[2, 2], [10, 5], [20, 2], [-1, -20], [3, -60]]\n"
     ]
    },
    {
     "data": {
      "text/plain": [
       "20"
      ]
     },
     "execution_count": 130,
     "metadata": {},
     "output_type": "execute_result"
    }
   ],
   "source": [
    "nums_ = [2,5,2,-1,3]\n",
    "solution = Solution()\n",
    "solution.maxProduct(nums_)"
   ]
  },
  {
   "cell_type": "markdown",
   "metadata": {},
   "source": [
    "## "
   ]
  }
 ],
 "metadata": {
  "kernelspec": {
   "display_name": "TF2",
   "language": "python",
   "name": "tf2"
  },
  "language_info": {
   "codemirror_mode": {
    "name": "ipython",
    "version": 3
   },
   "file_extension": ".py",
   "mimetype": "text/x-python",
   "name": "python",
   "nbconvert_exporter": "python",
   "pygments_lexer": "ipython3",
   "version": "3.6.2"
  }
 },
 "nbformat": 4,
 "nbformat_minor": 4
}
