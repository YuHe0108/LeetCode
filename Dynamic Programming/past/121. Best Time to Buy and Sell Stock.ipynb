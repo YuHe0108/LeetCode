{
 "cells": [
  {
   "cell_type": "markdown",
   "metadata": {},
   "source": [
    "    假设您有一个数组，其第i个元素是给定股票在第i天的价格。\n",
    "    如果您只被允许完成至多一笔交易(即，买入一只股票并卖出一股股票)，那么设计一个算法来寻找最大利润。\n",
    "    请注意，在你买股票之前，你不能卖出一只股票。\n",
    "    \n",
    "    例1：\n",
    "        Input: [7,1,5,3,6,4]\n",
    "        Output: 5\n",
    "        Explanation: Buy on day 2 (price = 1) and sell on day 5 (price = 6), profit = 6-1 = 5.\n",
    "                 Not 7-1 = 6, as selling price needs to be larger than buying price.\n",
    "    例2：\n",
    "        Input: [7,6,4,3,1]\n",
    "        Output: 0\n",
    "        Explanation: In this case, no transaction is done, i.e. max profit = 0."
   ]
  },
  {
   "cell_type": "code",
   "execution_count": 1,
   "metadata": {},
   "outputs": [],
   "source": [
    "class Solution:\n",
    "    def maxProfit(self, prices) -> int:\n",
    "        dp = [0] * (len(prices) + 1)  # 每一天选择买入时的最大收益，最后选择其中最大的收益返回\n",
    "        \n",
    "        # 每一天都有两个选择，买或者卖，但是卖之前，必须要买入\n",
    "        for i in range(1, len(prices) + 1):\n",
    "            max_pri = max(prices[i:]) if i != len(prices) else 0\n",
    "            dp[i] =  max_pri - prices[i-1]\n",
    "#             for j in range(i + 1, len(prices) + 1): # 该天之后选择卖出\n",
    "#                 profit = max(profit, prices[j - 1] - prices[i - 1])\n",
    "#             dp[i] = profit\n",
    "        return max(dp)"
   ]
  },
  {
   "cell_type": "code",
   "execution_count": 3,
   "metadata": {},
   "outputs": [
    {
     "data": {
      "text/plain": [
       "5"
      ]
     },
     "execution_count": 3,
     "metadata": {},
     "output_type": "execute_result"
    }
   ],
   "source": [
    "prices_ = [7,1,5,3,6,4]\n",
    "solution = Solution()\n",
    "solution.maxProfit(prices_)"
   ]
  },
  {
   "cell_type": "code",
   "execution_count": null,
   "metadata": {},
   "outputs": [],
   "source": []
  },
  {
   "cell_type": "code",
   "execution_count": null,
   "metadata": {},
   "outputs": [],
   "source": []
  }
 ],
 "metadata": {
  "kernelspec": {
   "display_name": "Python 3",
   "language": "python",
   "name": "python3"
  },
  "language_info": {
   "codemirror_mode": {
    "name": "ipython",
    "version": 3
   },
   "file_extension": ".py",
   "mimetype": "text/x-python",
   "name": "python",
   "nbconvert_exporter": "python",
   "pygments_lexer": "ipython3",
   "version": "3.6.2"
  }
 },
 "nbformat": 4,
 "nbformat_minor": 4
}
