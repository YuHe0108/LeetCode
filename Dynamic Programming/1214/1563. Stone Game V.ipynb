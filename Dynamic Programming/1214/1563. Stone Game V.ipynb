{
 "cells": [
  {
   "cell_type": "code",
   "execution_count": null,
   "metadata": {},
   "outputs": [],
   "source": []
  },
  {
   "cell_type": "code",
   "execution_count": null,
   "metadata": {},
   "outputs": [],
   "source": []
  },
  {
   "cell_type": "code",
   "execution_count": null,
   "metadata": {},
   "outputs": [],
   "source": [
    "class Solution:\n",
    "    def stoneGameV(self, stoneValue: List[int]) -> int:\n",
    "        A = stoneValue\n",
    "        n = len(A)\n",
    "        prefix = [0] * (n + 1)\n",
    "        for i, a in enumerate(A):\n",
    "            prefix[i + 1] = prefix[i] + A[i]\n",
    "\n",
    "        @lru_cache(None)\n",
    "        def dp(i, j):\n",
    "            if i == j: return 0\n",
    "            if all(stoneValue[k] == stoneValue[j] for k in range(i, j)):\n",
    "                cnt = 0\n",
    "                l = j - i + 1\n",
    "                while l > 1:\n",
    "                    l //= 2\n",
    "                    cnt += l\n",
    "                return cnt * stoneValue[j] \n",
    "            res = 0\n",
    "            for m in range(i, j):\n",
    "                left = prefix[m + 1] - prefix[i]\n",
    "                right = prefix[j + 1] - prefix[m + 1]\n",
    "                if left < right:\n",
    "                    res = max(res, dp(i, m) + left)\n",
    "                elif left > right:\n",
    "                    res = max(res, dp(m + 1, j) + right)\n",
    "                else:\n",
    "                    res = max(res, dp(m + 1, j) + right, dp(i, m) + left)\n",
    "            return res\n",
    "        return dp(0, n - 1)"
   ]
  }
 ],
 "metadata": {
  "kernelspec": {
   "display_name": "Python 3",
   "language": "python",
   "name": "python3"
  },
  "language_info": {
   "codemirror_mode": {
    "name": "ipython",
    "version": 3
   },
   "file_extension": ".py",
   "mimetype": "text/x-python",
   "name": "python",
   "nbconvert_exporter": "python",
   "pygments_lexer": "ipython3",
   "version": "3.6.2"
  }
 },
 "nbformat": 4,
 "nbformat_minor": 4
}
