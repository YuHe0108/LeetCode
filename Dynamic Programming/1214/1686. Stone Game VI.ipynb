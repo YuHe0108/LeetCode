{
 "cells": [
  {
   "cell_type": "code",
   "execution_count": null,
   "metadata": {},
   "outputs": [],
   "source": []
  },
  {
   "cell_type": "code",
   "execution_count": null,
   "metadata": {},
   "outputs": [],
   "source": []
  },
  {
   "cell_type": "code",
   "execution_count": null,
   "metadata": {},
   "outputs": [],
   "source": []
  },
  {
   "cell_type": "code",
   "execution_count": 30,
   "metadata": {},
   "outputs": [],
   "source": [
    "import heapq\n",
    "\n",
    "class Solution:\n",
    "    def stoneGameVI(self, aliceValues, bobValues):\n",
    "        n = len(aliceValues)\n",
    "        a_dict, b_dict = {}, {}\n",
    "        for i in range(n):\n",
    "            a_dict[i] = aliceValues[i]\n",
    "            b_dict[i] = bobValues[i]\n",
    "        \n",
    "        a_sort, b_sort = sorted(a_dict.items(), key=lambda x: x[1]), sorted(b_dict.items(), key=lambda x: x[1])\n",
    "        taken = set() # 已经被拿走的石头数量\n",
    "        a_val, b_val = 0, 0\n",
    "        while len(taken) < n:\n",
    "            while a_sort and a_sort[-1][0] in taken:\n",
    "                a_sort.pop()\n",
    "                \n",
    "            if a_sort:\n",
    "                idx, val = a_sort.pop()\n",
    "                a_val += val\n",
    "                taken.add(idx)\n",
    "            \n",
    "            while b_sort and b_sort[-1][0] in taken:\n",
    "                b_sort.pop()\n",
    "            \n",
    "            if b_sort:\n",
    "                idx, val = b_sort.pop()\n",
    "                b_val += val\n",
    "                taken.add(idx)\n",
    "                \n",
    "        if a_val == b_val:\n",
    "            return 0\n",
    "        elif a_val > b_val:\n",
    "            return 1\n",
    "        else:\n",
    "            return -1"
   ]
  },
  {
   "cell_type": "code",
   "execution_count": null,
   "metadata": {},
   "outputs": [],
   "source": []
  },
  {
   "cell_type": "code",
   "execution_count": null,
   "metadata": {},
   "outputs": [],
   "source": []
  },
  {
   "cell_type": "code",
   "execution_count": null,
   "metadata": {},
   "outputs": [],
   "source": []
  },
  {
   "cell_type": "code",
   "execution_count": 54,
   "metadata": {},
   "outputs": [],
   "source": [
    "class Solution:\n",
    "    def stoneGameVI(self, aliceValues, bobValues):\n",
    "        n = len(aliceValues)\n",
    "        total_vals = {}\n",
    "        for i in range(n):\n",
    "            total_vals[i] = aliceValues[i] + bobValues[i]\n",
    "        total_vals = sorted(total_vals.items(), key=lambda x: -x[1])\n",
    "        print(total_vals)\n",
    "        \n",
    "        a_vals = b_vals = 0\n",
    "        for i in range(n):\n",
    "            max_idx = total_vals[i][0]\n",
    "            if i % 2 == 0:\n",
    "                a_vals += aliceValues[max_idx]\n",
    "            else:\n",
    "                b_vals += bobValues[max_idx]\n",
    "                \n",
    "        if a_vals == b_vals:\n",
    "            return 0\n",
    "        elif a_vals > b_vals:\n",
    "            return 1\n",
    "        else:\n",
    "            return -1   "
   ]
  },
  {
   "cell_type": "code",
   "execution_count": 55,
   "metadata": {},
   "outputs": [
    {
     "name": "stdout",
     "output_type": "stream",
     "text": [
      "[(0, 4), (1, 3)]\n"
     ]
    },
    {
     "data": {
      "text/plain": [
       "0"
      ]
     },
     "execution_count": 55,
     "metadata": {},
     "output_type": "execute_result"
    }
   ],
   "source": [
    "solution = Solution()\n",
    "solution.stoneGameVI(aliceValues = [1,2], bobValues = [3,1])"
   ]
  },
  {
   "cell_type": "code",
   "execution_count": null,
   "metadata": {},
   "outputs": [],
   "source": []
  },
  {
   "cell_type": "code",
   "execution_count": null,
   "metadata": {},
   "outputs": [],
   "source": []
  }
 ],
 "metadata": {
  "kernelspec": {
   "display_name": "Python 3",
   "language": "python",
   "name": "python3"
  },
  "language_info": {
   "codemirror_mode": {
    "name": "ipython",
    "version": 3
   },
   "file_extension": ".py",
   "mimetype": "text/x-python",
   "name": "python",
   "nbconvert_exporter": "python",
   "pygments_lexer": "ipython3",
   "version": "3.6.2"
  }
 },
 "nbformat": 4,
 "nbformat_minor": 4
}
