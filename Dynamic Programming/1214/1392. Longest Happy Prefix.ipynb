{
 "cells": [
  {
   "cell_type": "code",
   "execution_count": null,
   "metadata": {},
   "outputs": [],
   "source": []
  },
  {
   "cell_type": "code",
   "execution_count": null,
   "metadata": {},
   "outputs": [],
   "source": []
  },
  {
   "cell_type": "raw",
   "metadata": {},
   "source": [
    "提示：\n",
    "    1 <= s.length <= 10^5\n",
    "    s 只含有小写英文字母"
   ]
  },
  {
   "cell_type": "code",
   "execution_count": 45,
   "metadata": {},
   "outputs": [],
   "source": [
    "# 超时解法\n",
    "class Solution:\n",
    "    def longestPrefix(self, s: str) -> str:\n",
    "        n = len(s)\n",
    "        all_prefix = []\n",
    "        for i in range(n-1):\n",
    "            all_prefix.append(s[:i+1])\n",
    "        \n",
    "        all_surfix = []\n",
    "        for i in range(1, n):\n",
    "            all_surfix.append(s[i:])\n",
    "        all_surfix = all_surfix[::-1]\n",
    "        \n",
    "        for i in range(len(all_prefix) - 1, -1, -1):\n",
    "            if all_prefix[i] == all_surfix[i]:\n",
    "                return all_prefix[i]\n",
    "        return ''"
   ]
  },
  {
   "cell_type": "code",
   "execution_count": null,
   "metadata": {},
   "outputs": [],
   "source": []
  },
  {
   "cell_type": "code",
   "execution_count": null,
   "metadata": {},
   "outputs": [],
   "source": []
  },
  {
   "cell_type": "code",
   "execution_count": 47,
   "metadata": {},
   "outputs": [],
   "source": [
    "#　ＫＭＰ\n",
    "class Solution:\n",
    "    def longestPrefix(self, s: str) -> str:\n",
    "        pass"
   ]
  },
  {
   "cell_type": "code",
   "execution_count": 48,
   "metadata": {},
   "outputs": [],
   "source": [
    "solution = Solution()\n",
    "solution.longestPrefix(\"ababab\")"
   ]
  },
  {
   "cell_type": "code",
   "execution_count": null,
   "metadata": {},
   "outputs": [],
   "source": []
  }
 ],
 "metadata": {
  "kernelspec": {
   "display_name": "Python 3",
   "language": "python",
   "name": "python3"
  },
  "language_info": {
   "codemirror_mode": {
    "name": "ipython",
    "version": 3
   },
   "file_extension": ".py",
   "mimetype": "text/x-python",
   "name": "python",
   "nbconvert_exporter": "python",
   "pygments_lexer": "ipython3",
   "version": "3.6.2"
  }
 },
 "nbformat": 4,
 "nbformat_minor": 4
}
