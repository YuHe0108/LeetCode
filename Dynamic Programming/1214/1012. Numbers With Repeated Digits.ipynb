{
 "cells": [
  {
   "cell_type": "code",
   "execution_count": null,
   "metadata": {},
   "outputs": [],
   "source": []
  },
  {
   "cell_type": "code",
   "execution_count": null,
   "metadata": {},
   "outputs": [],
   "source": []
  },
  {
   "cell_type": "code",
   "execution_count": 50,
   "metadata": {},
   "outputs": [],
   "source": [
    "# 超时解法\n",
    "class Solution:\n",
    "    def numDupDigitsAtMostN(self, N: int) -> int:\n",
    "        def dfs(num):\n",
    "            nonlocal cnt\n",
    "            if int(''.join(num)) > N:\n",
    "                return\n",
    "            cnt += 1\n",
    "            for i in range(10):\n",
    "                if used[i] != -1:\n",
    "                    continue\n",
    "                used[i] = 1\n",
    "                num.append(str(i))\n",
    "                dfs(num)\n",
    "                num.pop()\n",
    "                used[i] = -1\n",
    "            return \n",
    "        \n",
    "        cnt = 0\n",
    "        used = [-1] * 10\n",
    "        for i in range(1, 10):\n",
    "            used[i] = 1\n",
    "            dfs([str(i)])\n",
    "            used[i] = -1\n",
    "        return N - cnt"
   ]
  },
  {
   "cell_type": "code",
   "execution_count": null,
   "metadata": {},
   "outputs": [],
   "source": []
  },
  {
   "cell_type": "code",
   "execution_count": null,
   "metadata": {},
   "outputs": [],
   "source": []
  },
  {
   "cell_type": "code",
   "execution_count": 111,
   "metadata": {},
   "outputs": [],
   "source": [
    "class Solution:\n",
    "    def numDupDigitsAtMostN(self, N: int) -> int:\n",
    "        def permu(M, N): \n",
    "            # 从M个中选择 N个数，总共有多少字种可能, 全排列，不是组合的形式\n",
    "            ans = 1\n",
    "            for i in range(N):\n",
    "                ans *= (M - i)\n",
    "            return ans\n",
    "        \n",
    "        def dfs(idx): # idx 为探索到 nums 的位置，dfs用于计算 长度为n时有多少种可能性\n",
    "            nonlocal cnt\n",
    "            if idx == n: # 探索到最后一位, 能够走到这一步，说明 数字 N 本身就不含有重复的数字\n",
    "                cnt += 1\n",
    "                return\n",
    "            for i in range(10):\n",
    "                if (digits[i] == 1) or (idx == 0 and i == 0): # 首字母不能为0，并且要求没有选择过\n",
    "                    continue\n",
    "                if i < int(nums[idx]): \n",
    "                    # 如果当前选择的字母小于 num[idx], 后面可以直接全排列\n",
    "                    # idx + 1 说明已经有 idx + 1个位置已经都选择了，\n",
    "                    # 那么还剩下 10-(idx+1) 个数字没有选择，同样还剩下 n-(idx+1)个位置需要填\n",
    "                    cnt += permu(10 - (idx + 1), n - (idx + 1))\n",
    "                elif i == int(nums[idx]): # 如果两位相同，继续向后探索\n",
    "                    digits[i] = 1\n",
    "                    dfs(idx + 1)\n",
    "                    digits[i] = -1\n",
    "        \n",
    "        cnt = 0\n",
    "        nums = list(str(N))   \n",
    "        n = len(nums)\n",
    "        # k 表示组成数字的长度，最短为1，最长为 n-1, 这样的任意排列组合都比 n 要小\n",
    "        for k in range(1, len(nums)):\n",
    "            cnt += 9 * permu(9, n - (k+1))\n",
    "        digits = [-1] * 10 # 用于记录哪些字母没有被选择\n",
    "        dfs(0)\n",
    "        return N - cnt"
   ]
  },
  {
   "cell_type": "code",
   "execution_count": 112,
   "metadata": {},
   "outputs": [
    {
     "data": {
      "text/plain": [
       "262"
      ]
     },
     "execution_count": 112,
     "metadata": {},
     "output_type": "execute_result"
    }
   ],
   "source": [
    "solution = Solution()\n",
    "solution.numDupDigitsAtMostN(1000)"
   ]
  },
  {
   "cell_type": "code",
   "execution_count": null,
   "metadata": {},
   "outputs": [],
   "source": []
  },
  {
   "cell_type": "code",
   "execution_count": null,
   "metadata": {},
   "outputs": [],
   "source": []
  },
  {
   "cell_type": "code",
   "execution_count": null,
   "metadata": {},
   "outputs": [],
   "source": []
  },
  {
   "cell_type": "code",
   "execution_count": null,
   "metadata": {},
   "outputs": [],
   "source": [
    "class Solution:\n",
    "    def numDupDigitsAtMostN(self, N: int) -> int:\n",
    "        pass    "
   ]
  }
 ],
 "metadata": {
  "kernelspec": {
   "display_name": "Python 3",
   "language": "python",
   "name": "python3"
  },
  "language_info": {
   "codemirror_mode": {
    "name": "ipython",
    "version": 3
   },
   "file_extension": ".py",
   "mimetype": "text/x-python",
   "name": "python",
   "nbconvert_exporter": "python",
   "pygments_lexer": "ipython3",
   "version": "3.6.2"
  }
 },
 "nbformat": 4,
 "nbformat_minor": 4
}
