{
 "cells": [
  {
   "cell_type": "code",
   "execution_count": 1,
   "metadata": {},
   "outputs": [],
   "source": []
  },
  {
   "cell_type": "code",
   "execution_count": null,
   "metadata": {},
   "outputs": [],
   "source": []
  },
  {
   "cell_type": "code",
   "execution_count": null,
   "metadata": {},
   "outputs": [],
   "source": []
  },
  {
   "cell_type": "code",
   "execution_count": null,
   "metadata": {},
   "outputs": [],
   "source": []
  },
  {
   "cell_type": "code",
   "execution_count": 27,
   "metadata": {},
   "outputs": [],
   "source": [
    "class Solution:\n",
    "    def isMatch(self, s: str, p: str) -> bool:\n",
    "        n, m = len(s), len(p)\n",
    "        dp = [[False] * (1+m) for _ in range(1+n)]\n",
    "        s = '#' + s\n",
    "        p = '#' + p\n",
    "        dp[0][0] = True\n",
    "        for j in range(2, m+1):\n",
    "            dp[0][j] = dp[0][j-2] and p[j] == '*'\n",
    "            \n",
    "        for i in range(1, n+1):\n",
    "            for j in range(1, m+1):\n",
    "                if p[j].isalpha(): # 是字母\n",
    "                    dp[i][j] = dp[i-1][j-1] and s[i] == p[j]\n",
    "                elif p[j] == '.': # 是一个 '.'\n",
    "                    dp[i][j] = dp[i-1][j-1]\n",
    "                elif p[j] == '*': # 是一个 '*'\n",
    "                    cond_1 = dp[i-1][j] and (s[i] == p[j-1] or p[j-1] == '.') # 表示重复多个字符\n",
    "                    cond_2 = dp[i][j-2] # '*' 表示重复 0 个字符\n",
    "                    dp[i][j] = cond_1 or cond_2\n",
    "        return dp[-1][-1]"
   ]
  },
  {
   "cell_type": "code",
   "execution_count": 28,
   "metadata": {},
   "outputs": [
    {
     "data": {
      "text/plain": [
       "True"
      ]
     },
     "execution_count": 28,
     "metadata": {},
     "output_type": "execute_result"
    }
   ],
   "source": [
    "solution = Solution()\n",
    "solution.isMatch('ab', '.*')"
   ]
  },
  {
   "cell_type": "code",
   "execution_count": null,
   "metadata": {},
   "outputs": [],
   "source": [
    "[[True, False, False], \n",
    " [False, True, True], \n",
    " [False, False, False]]"
   ]
  }
 ],
 "metadata": {
  "kernelspec": {
   "display_name": "Python 3",
   "language": "python",
   "name": "python3"
  },
  "language_info": {
   "codemirror_mode": {
    "name": "ipython",
    "version": 3
   },
   "file_extension": ".py",
   "mimetype": "text/x-python",
   "name": "python",
   "nbconvert_exporter": "python",
   "pygments_lexer": "ipython3",
   "version": "3.6.2"
  }
 },
 "nbformat": 4,
 "nbformat_minor": 4
}
