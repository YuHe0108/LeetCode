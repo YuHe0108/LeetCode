{
 "cells": [
  {
   "cell_type": "code",
   "execution_count": null,
   "metadata": {},
   "outputs": [],
   "source": []
  },
  {
   "cell_type": "code",
   "execution_count": null,
   "metadata": {},
   "outputs": [],
   "source": []
  },
  {
   "cell_type": "code",
   "execution_count": null,
   "metadata": {},
   "outputs": [],
   "source": []
  },
  {
   "cell_type": "code",
   "execution_count": 7,
   "metadata": {},
   "outputs": [],
   "source": [
    "class Solution:\n",
    "    def minimumMountainRemovals(self, nums):\n",
    "        def lcs(arr):\n",
    "            m = len(arr)\n",
    "            dp = [1] * m\n",
    "            for i in range(m):\n",
    "                for j in range(i):\n",
    "                    if arr[j] < arr[i]:\n",
    "                        dp[i] = max(dp[i], dp[j] + 1)\n",
    "            return max(dp)\n",
    "        \n",
    "        n = len(nums)\n",
    "        left, right = [1] * n, [1] * n # 分别用于计算当前元素左边和右边的 LCS 的长度\n",
    "        for i in range(n):\n",
    "            left[i] = lcs(nums[:i+1])\n",
    "        for i in range(n):\n",
    "            right[i] = lcs(nums[i:][::-1])\n",
    "        \n",
    "        res = -float('inf')\n",
    "        for i in range(n):\n",
    "            if left[i] == 1 or right[i] == 1:\n",
    "                continue\n",
    "            res = max(res, left[i] + right[i] - 1)\n",
    "        return n - res"
   ]
  },
  {
   "cell_type": "code",
   "execution_count": 24,
   "metadata": {},
   "outputs": [],
   "source": [
    "class Solution:\n",
    "    def minimumMountainRemovals(self, nums):\n",
    "        n = len(nums)\n",
    "        left, right = [1] * n, [1] * n\n",
    "        for i in range(n):\n",
    "            for j in range(i):\n",
    "                if nums[j] < nums[i]:\n",
    "                    left[i] = max(left[i], left[j] + 1)\n",
    "        \n",
    "        for i in range(n-1, -1, -1):\n",
    "            for j in range(n-1, i-1, -1):\n",
    "                if nums[j] < nums[i]:\n",
    "                    right[i] = max(right[i], right[j] + 1)\n",
    "        \n",
    "        res = -float('inf')\n",
    "        for i in range(n):\n",
    "            if left[i] == 1 or right[i] == 1:\n",
    "                continue\n",
    "            res = max(res, left[i] + right[i] - 1)\n",
    "        return n - res"
   ]
  },
  {
   "cell_type": "code",
   "execution_count": null,
   "metadata": {},
   "outputs": [],
   "source": [
    "class Solution:\n",
    "    def minimumMountainRemovals(self, nums):\n",
    "        def lcs(nums):\n",
    "            def binarysearch(target, arr):\n",
    "                l, r = 0, len(arr)-1\n",
    "                while l <= r:\n",
    "                    mid = (l + r) // 2\n",
    "                    if arr[mid] == target:\n",
    "                        return mid\n",
    "                    elif arr[mid] < target:\n",
    "                        l = mid + 1\n",
    "                    else:\n",
    "                        r = mid - 1\n",
    "                return l\n",
    "            ans = []\n",
    "            for x in nums:\n",
    "                idx = binarysearch(x, ans)\n",
    "                if idx == len(ans):\n",
    "                    ans.append(x)\n",
    "                else:\n",
    "                    ans[idx] = x\n",
    "            return len(ans)\n",
    "        \n",
    "        n = len(nums)\n",
    "        left, right = [1] * n, [1] * n\n",
    "        for i in range(n):\n",
    "            left[i] = nums[i]\n",
    "        \n",
    "        for i in range(n-1, -1, -1):\n",
    "            for j in range(n-1, i-1, -1):\n",
    "                if nums[j] < nums[i]:\n",
    "                    right[i] = max(right[i], right[j] + 1)\n",
    "        \n",
    "        res = -float('inf')\n",
    "        for i in range(n):\n",
    "            if left[i] == 1 or right[i] == 1:\n",
    "                continue\n",
    "            res = max(res, left[i] + right[i] - 1)\n",
    "        return n - res"
   ]
  },
  {
   "cell_type": "code",
   "execution_count": 25,
   "metadata": {},
   "outputs": [
    {
     "data": {
      "text/plain": [
       "4"
      ]
     },
     "execution_count": 25,
     "metadata": {},
     "output_type": "execute_result"
    }
   ],
   "source": [
    "solution = Solution()\n",
    "solution.minimumMountainRemovals([4,3,2,1,1,2,3,1])"
   ]
  },
  {
   "cell_type": "code",
   "execution_count": 36,
   "metadata": {},
   "outputs": [],
   "source": [
    "import bisect\n",
    "\n",
    "class Solution:\n",
    "    def minimumMountainRemovals(self, nums) -> int:\n",
    "        res = len(nums)\n",
    "        def solve(arr):\n",
    "            res = [0] * len(arr)\n",
    "            x = [arr[0]]\n",
    "            for i in range(1, len(arr)):\n",
    "                if not x or arr[i] > x[-1]:\n",
    "                    x.append(arr[i])\n",
    "                l = bisect.bisect_left(x, arr[i])\n",
    "                x[l] = arr[i]\n",
    "                res[i] = l\n",
    "            return res\n",
    "        l = solve(nums)\n",
    "        r = list(reversed(solve(list(reversed(nums)))))\n",
    "        res = len(nums)\n",
    "        for i in range(1, len(nums) - 1):\n",
    "            res = min(-l[i] - r[i] + len(nums) - 1, res)\n",
    "        return res "
   ]
  },
  {
   "cell_type": "code",
   "execution_count": 65,
   "metadata": {},
   "outputs": [],
   "source": [
    "import bisect\n",
    "\n",
    "def get_lis_len_arr(arr):\n",
    "    lst = []\n",
    "    ans = []\n",
    "    for i in range(len(arr)):\n",
    "        idx = bisect.bisect_left(lst, arr[i])\n",
    "        if idx == len(lst): # 比中间的所有值都要大\n",
    "            lst.append(arr[i])\n",
    "            ans.append(len(lst))\n",
    "        else:\n",
    "            lst[idx] = arr[i]\n",
    "            ans.append(idx+1)\n",
    "    return ans\n",
    "\n",
    "class Solution:\n",
    "    def minimumMountainRemovals(self, nums) -> int:\n",
    "        left = get_lis_len_arr(nums)\n",
    "        right = get_lis_len_arr(nums[::-1])[::-1]\n",
    "        n = len(nums)\n",
    "        res = -float('inf')\n",
    "        for i in range(n):\n",
    "            if left[i] == 1 or right[i] == 1:\n",
    "                continue\n",
    "            res = max(res, left[i] + right[i] - 1)\n",
    "        return n - res"
   ]
  },
  {
   "cell_type": "code",
   "execution_count": 66,
   "metadata": {},
   "outputs": [
    {
     "data": {
      "text/plain": [
       "4"
      ]
     },
     "execution_count": 66,
     "metadata": {},
     "output_type": "execute_result"
    }
   ],
   "source": [
    "solution = Solution()\n",
    "solution.minimumMountainRemovals([4,3,2,1,1,2,3,1])"
   ]
  },
  {
   "cell_type": "code",
   "execution_count": 58,
   "metadata": {},
   "outputs": [],
   "source": [
    "import bisect"
   ]
  },
  {
   "cell_type": "code",
   "execution_count": 69,
   "metadata": {},
   "outputs": [
    {
     "data": {
      "text/plain": [
       "3"
      ]
     },
     "execution_count": 69,
     "metadata": {},
     "output_type": "execute_result"
    }
   ],
   "source": [
    "data = [1, 2, 3, 4]\n",
    "bisect.bisect_left(data, 4)"
   ]
  },
  {
   "cell_type": "code",
   "execution_count": null,
   "metadata": {},
   "outputs": [],
   "source": []
  }
 ],
 "metadata": {
  "kernelspec": {
   "display_name": "Python 3",
   "language": "python",
   "name": "python3"
  },
  "language_info": {
   "codemirror_mode": {
    "name": "ipython",
    "version": 3
   },
   "file_extension": ".py",
   "mimetype": "text/x-python",
   "name": "python",
   "nbconvert_exporter": "python",
   "pygments_lexer": "ipython3",
   "version": "3.6.2"
  }
 },
 "nbformat": 4,
 "nbformat_minor": 4
}
