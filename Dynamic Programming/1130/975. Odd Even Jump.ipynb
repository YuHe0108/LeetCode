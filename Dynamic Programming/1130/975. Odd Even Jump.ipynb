{
 "cells": [
  {
   "cell_type": "code",
   "execution_count": null,
   "metadata": {},
   "outputs": [],
   "source": []
  },
  {
   "cell_type": "code",
   "execution_count": null,
   "metadata": {},
   "outputs": [],
   "source": []
  },
  {
   "cell_type": "code",
   "execution_count": null,
   "metadata": {},
   "outputs": [],
   "source": []
  },
  {
   "cell_type": "code",
   "execution_count": null,
   "metadata": {},
   "outputs": [],
   "source": []
  },
  {
   "cell_type": "code",
   "execution_count": 8,
   "metadata": {},
   "outputs": [],
   "source": [
    "from sortedcontainers import SortedDict\n",
    "\n",
    "class Solution:\n",
    "    def oddEvenJumps(self, A):\n",
    "        n = len(A)\n",
    "        order_dict = SortedDict()\n",
    "        order_dict[A[-1]] = n-1\n",
    "        dp_odd, dp_even = [False] * n, [False] * n\n",
    "        dp_odd[-1] = True\n",
    "        dp_even[-1] = True\n",
    "        for i in range(n-2, -1, -1):\n",
    "            lower = order_dict.bisect_left(A[i])\n",
    "            if lower \n",
    "            j = order_dict[lower]\n",
    "            dp_odd[i] = dp_even[j]\n",
    "            \n",
    "            upper = order_dict.bisect_right(A[i])\n",
    "            j = order_dict[lower]\n",
    "            dp_even[i] = dp_odd[j]\n",
    "            \n",
    "            order_dict[A[i]] = i\n",
    "        \n",
    "        cnt = 0\n",
    "        for i in range(n):\n",
    "            if dp_odd[i]:\n",
    "                cnt += 1\n",
    "        return cnt"
   ]
  },
  {
   "cell_type": "code",
   "execution_count": 9,
   "metadata": {},
   "outputs": [
    {
     "ename": "KeyError",
     "evalue": "0",
     "output_type": "error",
     "traceback": [
      "\u001b[1;31m---------------------------------------------------------------------------\u001b[0m",
      "\u001b[1;31mKeyError\u001b[0m                                  Traceback (most recent call last)",
      "\u001b[1;32m<ipython-input-9-8b8ba75be698>\u001b[0m in \u001b[0;36m<module>\u001b[1;34m\u001b[0m\n\u001b[0;32m      1\u001b[0m \u001b[0msolution\u001b[0m \u001b[1;33m=\u001b[0m \u001b[0mSolution\u001b[0m\u001b[1;33m(\u001b[0m\u001b[1;33m)\u001b[0m\u001b[1;33m\u001b[0m\u001b[0m\n\u001b[1;32m----> 2\u001b[1;33m \u001b[0msolution\u001b[0m\u001b[1;33m.\u001b[0m\u001b[0moddEvenJumps\u001b[0m\u001b[1;33m(\u001b[0m\u001b[1;33m[\u001b[0m\u001b[1;36m10\u001b[0m\u001b[1;33m,\u001b[0m\u001b[1;36m13\u001b[0m\u001b[1;33m,\u001b[0m\u001b[1;36m12\u001b[0m\u001b[1;33m,\u001b[0m\u001b[1;36m14\u001b[0m\u001b[1;33m,\u001b[0m\u001b[1;36m15\u001b[0m\u001b[1;33m]\u001b[0m\u001b[1;33m)\u001b[0m\u001b[1;33m\u001b[0m\u001b[0m\n\u001b[0m",
      "\u001b[1;32m<ipython-input-8-adbc2bea1bd4>\u001b[0m in \u001b[0;36moddEvenJumps\u001b[1;34m(self, A)\u001b[0m\n\u001b[0;32m     11\u001b[0m         \u001b[1;32mfor\u001b[0m \u001b[0mi\u001b[0m \u001b[1;32min\u001b[0m \u001b[0mrange\u001b[0m\u001b[1;33m(\u001b[0m\u001b[0mn\u001b[0m\u001b[1;33m-\u001b[0m\u001b[1;36m2\u001b[0m\u001b[1;33m,\u001b[0m \u001b[1;33m-\u001b[0m\u001b[1;36m1\u001b[0m\u001b[1;33m,\u001b[0m \u001b[1;33m-\u001b[0m\u001b[1;36m1\u001b[0m\u001b[1;33m)\u001b[0m\u001b[1;33m:\u001b[0m\u001b[1;33m\u001b[0m\u001b[0m\n\u001b[0;32m     12\u001b[0m             \u001b[0mlower\u001b[0m \u001b[1;33m=\u001b[0m \u001b[0morder_dict\u001b[0m\u001b[1;33m.\u001b[0m\u001b[0mbisect_left\u001b[0m\u001b[1;33m(\u001b[0m\u001b[0mA\u001b[0m\u001b[1;33m[\u001b[0m\u001b[0mi\u001b[0m\u001b[1;33m]\u001b[0m\u001b[1;33m)\u001b[0m\u001b[1;33m\u001b[0m\u001b[0m\n\u001b[1;32m---> 13\u001b[1;33m             \u001b[0mj\u001b[0m \u001b[1;33m=\u001b[0m \u001b[0morder_dict\u001b[0m\u001b[1;33m[\u001b[0m\u001b[0mlower\u001b[0m\u001b[1;33m]\u001b[0m\u001b[1;33m\u001b[0m\u001b[0m\n\u001b[0m\u001b[0;32m     14\u001b[0m             \u001b[0mdp_odd\u001b[0m\u001b[1;33m[\u001b[0m\u001b[0mi\u001b[0m\u001b[1;33m]\u001b[0m \u001b[1;33m=\u001b[0m \u001b[0mdp_even\u001b[0m\u001b[1;33m[\u001b[0m\u001b[0mj\u001b[0m\u001b[1;33m]\u001b[0m\u001b[1;33m\u001b[0m\u001b[0m\n\u001b[0;32m     15\u001b[0m \u001b[1;33m\u001b[0m\u001b[0m\n",
      "\u001b[1;31mKeyError\u001b[0m: 0"
     ]
    }
   ],
   "source": [
    "solution = Solution()\n",
    "solution.oddEvenJumps([10,13,12,14,15])"
   ]
  },
  {
   "cell_type": "code",
   "execution_count": 7,
   "metadata": {},
   "outputs": [],
   "source": [
    "from collections import OrderedDict"
   ]
  },
  {
   "cell_type": "code",
   "execution_count": 9,
   "metadata": {},
   "outputs": [],
   "source": [
    "a = OrderedDict()"
   ]
  },
  {
   "cell_type": "code",
   "execution_count": 46,
   "metadata": {},
   "outputs": [],
   "source": [
    "class Solution:\n",
    "    def oddEvenJumps(self, A):\n",
    "        def get_jump_location(B):\n",
    "            ans = [-1] * len(A)\n",
    "            stack = []  # 单调递减栈\n",
    "            for i in B:\n",
    "                while stack and i > stack[-1]:\n",
    "                    stack_top = stack.pop()\n",
    "                    ans[stack_top] = i\n",
    "                stack.append(i)\n",
    "            return ans\n",
    "\n",
    "        N = len(A)\n",
    "        # B存储的是A中index的递增排序，排序规则为A[i]大小\n",
    "        B = sorted(range(N), key=lambda i: A[i])\n",
    "        odd_next = get_jump_location(B)\n",
    "        print(B, odd_next)\n",
    "        # 偶数跳跃时，前进的格子必须比当前要小，所以需要index按照对应A[i]的递减排序\n",
    "        B.sort(key=lambda i: -A[i])\n",
    "        even_next = get_jump_location(B)\n",
    "        print(B, even_next)\n",
    "\n",
    "        # odd[i]/ even[i] 为DP数组，代表从i进行奇数/偶数跳跃时能否到达末尾。\n",
    "        odd = [False] * N\n",
    "        even = [False] * N\n",
    "        # 根据题意，数组末尾默认为好的起始索引\n",
    "        odd[N - 1] = even[N - 1] = True\n",
    "        \n",
    "        for i in range(N - 2, -1, -1):\n",
    "            # 注意一定要从数组倒数第二位开始倒着遍历，因为只有数组末尾的初始化状态是正确的，倒着遍历才能正确转移DP状态。\n",
    "            if odd_next[i] != -1:\n",
    "                # 先从odd_next拿到下一个能跳到的节点。接下来要进行偶数跳跃了，查询even，看看能不能跳到末尾。\n",
    "                next_index = odd_next[i]\n",
    "                odd[i] = even[next_index]\n",
    "            if even_next[i] != -1:\n",
    "                next_index = even_next[i]\n",
    "                even[i] = odd[next_index]\n",
    "        return sum(odd)"
   ]
  },
  {
   "cell_type": "code",
   "execution_count": 47,
   "metadata": {},
   "outputs": [
    {
     "name": "stdout",
     "output_type": "stream",
     "text": [
      "[0, 2, 1, 3, 4] [2, 3, 3, 4, -1]\n",
      "[4, 3, 1, 2, 0] [-1, 2, -1, -1, -1]\n"
     ]
    },
    {
     "data": {
      "text/plain": [
       "2"
      ]
     },
     "execution_count": 47,
     "metadata": {},
     "output_type": "execute_result"
    }
   ],
   "source": [
    "solution = Solution()\n",
    "solution.oddEvenJumps([10,13,12,14,15])"
   ]
  },
  {
   "cell_type": "code",
   "execution_count": null,
   "metadata": {},
   "outputs": [],
   "source": []
  },
  {
   "cell_type": "code",
   "execution_count": null,
   "metadata": {},
   "outputs": [],
   "source": []
  },
  {
   "cell_type": "code",
   "execution_count": null,
   "metadata": {},
   "outputs": [],
   "source": []
  },
  {
   "cell_type": "code",
   "execution_count": 5,
   "metadata": {},
   "outputs": [],
   "source": [
    "from sortedcontainers import SortedDict\n",
    "\n",
    "class Solution:\n",
    "    def oddEvenJumps(self, A):\n",
    "        dp=[0] * len(A)\n",
    "        dp[-1] = 3\n",
    "        sd = SortedDict({A[-1]:len(A)-1})\n",
    "        for i in range(len(A)-2,-1,-1):\n",
    "            cur=A[i]\n",
    "            j=sd.bisect_left(cur+1)\n",
    "            if j>0:\n",
    "                j = sd.keys()[j-1]\n",
    "                j = sd[j]\n",
    "                if dp[j] & 1:\n",
    "                    dp[i] |= 2\n",
    "\n",
    "            j=sd.bisect_right(cur-1)\n",
    "            if j<len(sd):\n",
    "                j=sd.keys()[j]\n",
    "                # if j>=cur:\n",
    "                j=sd[j]\n",
    "                if dp[j]&2:\n",
    "                    dp[i]|=1\n",
    "            sd[cur]=i\n",
    "        print(dp)\n",
    "        return sum(dp[i]&1 for i in range(len(A)))"
   ]
  },
  {
   "cell_type": "code",
   "execution_count": 6,
   "metadata": {},
   "outputs": [
    {
     "name": "stdout",
     "output_type": "stream",
     "text": [
      "[0, 0, 0, 1, 3]\n"
     ]
    },
    {
     "data": {
      "text/plain": [
       "2"
      ]
     },
     "execution_count": 6,
     "metadata": {},
     "output_type": "execute_result"
    }
   ],
   "source": [
    "solution = Solution()\n",
    "solution.oddEvenJumps([10,13,12,14,15])"
   ]
  },
  {
   "cell_type": "code",
   "execution_count": 11,
   "metadata": {},
   "outputs": [],
   "source": [
    "from sortedcontainers import SortedDict\n",
    "\n",
    "class Solution:\n",
    "    def oddEvenJumps(self, A):\n",
    "        n = len(A)\n",
    "        sd = SortedDict({A[-1]:n-1})\n",
    "        dp_odd, dp_even = [False] * n, [False] * n\n",
    "        dp_odd[-1] = True\n",
    "        dp_even[-1] = True\n",
    "        for i in range(n - 2, -1, -1):\n",
    "            cur = A[i] # 奇数次跳，找最大的最小值\n",
    "            j = sd.bisect_right(cur)\n",
    "            if j > 0:\n",
    "                j = sd.keys()[j-1]\n",
    "                j = sd[j]\n",
    "                dp_odd[i] = dp_even[j]\n",
    "\n",
    "            j=sd.bisect_right(cur - 1)\n",
    "            if j < len(sd):\n",
    "                j = sd.keys()[j]\n",
    "                dp_even[i] = dp_odd[j]\n",
    "            sd[cur] = i\n",
    "        return sum(dp_odd)"
   ]
  },
  {
   "cell_type": "code",
   "execution_count": 12,
   "metadata": {},
   "outputs": [
    {
     "ename": "IndexError",
     "evalue": "list index out of range",
     "output_type": "error",
     "traceback": [
      "\u001b[1;31m---------------------------------------------------------------------------\u001b[0m",
      "\u001b[1;31mIndexError\u001b[0m                                Traceback (most recent call last)",
      "\u001b[1;32m<ipython-input-12-8b8ba75be698>\u001b[0m in \u001b[0;36m<module>\u001b[1;34m\u001b[0m\n\u001b[0;32m      1\u001b[0m \u001b[0msolution\u001b[0m \u001b[1;33m=\u001b[0m \u001b[0mSolution\u001b[0m\u001b[1;33m(\u001b[0m\u001b[1;33m)\u001b[0m\u001b[1;33m\u001b[0m\u001b[0m\n\u001b[1;32m----> 2\u001b[1;33m \u001b[0msolution\u001b[0m\u001b[1;33m.\u001b[0m\u001b[0moddEvenJumps\u001b[0m\u001b[1;33m(\u001b[0m\u001b[1;33m[\u001b[0m\u001b[1;36m10\u001b[0m\u001b[1;33m,\u001b[0m\u001b[1;36m13\u001b[0m\u001b[1;33m,\u001b[0m\u001b[1;36m12\u001b[0m\u001b[1;33m,\u001b[0m\u001b[1;36m14\u001b[0m\u001b[1;33m,\u001b[0m\u001b[1;36m15\u001b[0m\u001b[1;33m]\u001b[0m\u001b[1;33m)\u001b[0m\u001b[1;33m\u001b[0m\u001b[0m\n\u001b[0m",
      "\u001b[1;32m<ipython-input-11-ce384055909a>\u001b[0m in \u001b[0;36moddEvenJumps\u001b[1;34m(self, A)\u001b[0m\n\u001b[0;32m     19\u001b[0m             \u001b[1;32mif\u001b[0m \u001b[0mj\u001b[0m \u001b[1;33m<\u001b[0m \u001b[0mlen\u001b[0m\u001b[1;33m(\u001b[0m\u001b[0msd\u001b[0m\u001b[1;33m)\u001b[0m\u001b[1;33m:\u001b[0m\u001b[1;33m\u001b[0m\u001b[0m\n\u001b[0;32m     20\u001b[0m                 \u001b[0mj\u001b[0m \u001b[1;33m=\u001b[0m \u001b[0msd\u001b[0m\u001b[1;33m.\u001b[0m\u001b[0mkeys\u001b[0m\u001b[1;33m(\u001b[0m\u001b[1;33m)\u001b[0m\u001b[1;33m[\u001b[0m\u001b[0mj\u001b[0m\u001b[1;33m]\u001b[0m\u001b[1;33m\u001b[0m\u001b[0m\n\u001b[1;32m---> 21\u001b[1;33m                 \u001b[0mdp_even\u001b[0m\u001b[1;33m[\u001b[0m\u001b[0mi\u001b[0m\u001b[1;33m]\u001b[0m \u001b[1;33m=\u001b[0m \u001b[0mdp_odd\u001b[0m\u001b[1;33m[\u001b[0m\u001b[0mj\u001b[0m\u001b[1;33m]\u001b[0m\u001b[1;33m\u001b[0m\u001b[0m\n\u001b[0m\u001b[0;32m     22\u001b[0m             \u001b[0msd\u001b[0m\u001b[1;33m[\u001b[0m\u001b[0mcur\u001b[0m\u001b[1;33m]\u001b[0m\u001b[1;33m=\u001b[0m\u001b[0mi\u001b[0m\u001b[1;33m\u001b[0m\u001b[0m\n\u001b[0;32m     23\u001b[0m         \u001b[1;32mreturn\u001b[0m \u001b[0msum\u001b[0m\u001b[1;33m(\u001b[0m\u001b[0mdp\u001b[0m\u001b[1;33m[\u001b[0m\u001b[0mi\u001b[0m\u001b[1;33m]\u001b[0m\u001b[1;33m&\u001b[0m\u001b[1;36m1\u001b[0m \u001b[1;32mfor\u001b[0m \u001b[0mi\u001b[0m \u001b[1;32min\u001b[0m \u001b[0mrange\u001b[0m\u001b[1;33m(\u001b[0m\u001b[0mlen\u001b[0m\u001b[1;33m(\u001b[0m\u001b[0mA\u001b[0m\u001b[1;33m)\u001b[0m\u001b[1;33m)\u001b[0m\u001b[1;33m)\u001b[0m\u001b[1;33m\u001b[0m\u001b[0m\n",
      "\u001b[1;31mIndexError\u001b[0m: list index out of range"
     ]
    }
   ],
   "source": [
    "solution = Solution()\n",
    "solution.oddEvenJumps([10,13,12,14,15])"
   ]
  },
  {
   "cell_type": "code",
   "execution_count": 4,
   "metadata": {},
   "outputs": [
    {
     "data": {
      "text/plain": [
       "3"
      ]
     },
     "execution_count": 4,
     "metadata": {},
     "output_type": "execute_result"
    }
   ],
   "source": [
    "3 | 1"
   ]
  },
  {
   "cell_type": "code",
   "execution_count": 20,
   "metadata": {},
   "outputs": [],
   "source": [
    "import bisect \n",
    "data = [10,13,12,14,15]"
   ]
  },
  {
   "cell_type": "code",
   "execution_count": 22,
   "metadata": {},
   "outputs": [
    {
     "data": {
      "text/plain": [
       "[10, 12, 13, 14, 15]"
      ]
     },
     "execution_count": 22,
     "metadata": {},
     "output_type": "execute_result"
    }
   ],
   "source": [
    "data.sort()\n",
    "data"
   ]
  },
  {
   "cell_type": "code",
   "execution_count": 33,
   "metadata": {},
   "outputs": [
    {
     "data": {
      "text/plain": [
       "0"
      ]
     },
     "execution_count": 33,
     "metadata": {},
     "output_type": "execute_result"
    }
   ],
   "source": [
    "bisect.bisect_left(data, 10)"
   ]
  },
  {
   "cell_type": "code",
   "execution_count": null,
   "metadata": {},
   "outputs": [],
   "source": []
  }
 ],
 "metadata": {
  "kernelspec": {
   "display_name": "Python 3",
   "language": "python",
   "name": "python3"
  },
  "language_info": {
   "codemirror_mode": {
    "name": "ipython",
    "version": 3
   },
   "file_extension": ".py",
   "mimetype": "text/x-python",
   "name": "python",
   "nbconvert_exporter": "python",
   "pygments_lexer": "ipython3",
   "version": "3.6.2"
  }
 },
 "nbformat": 4,
 "nbformat_minor": 4
}
