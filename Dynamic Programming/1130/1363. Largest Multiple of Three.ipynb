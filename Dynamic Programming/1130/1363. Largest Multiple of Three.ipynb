{
 "cells": [
  {
   "cell_type": "code",
   "execution_count": 79,
   "metadata": {},
   "outputs": [],
   "source": [
    "class Solution:\n",
    "    def largestMultipleOfThree(self, digits):\n",
    "        n = len(digits)\n",
    "        digits.sort(reverse=True)\n",
    "        digits = [0] + digits\n",
    "        dp = [['#'] * 3 for _ in range(n+1)]\n",
    "        dp[0][0] = ''\n",
    "        for i in range(1, n+1):\n",
    "            for j in range(3):\n",
    "                k = digits[i] % 3\n",
    "                n_j = (j - k + 3) % 3\n",
    "                if dp[i-1][j] != '#' and dp[i-1][n_j] != '#':\n",
    "                    if len(dp[i-1][j]) >= len(dp[i-1][n_j]) + 1:\n",
    "                        dp[i][j] = dp[i-1][j]\n",
    "                    else:\n",
    "                        dp[i][j] = dp[i-1][n_j] + str(digits[i])\n",
    "                elif dp[i-1][j] != '#':\n",
    "                    dp[i][j] = dp[i-1][j]\n",
    "                elif dp[i-1][n_j] != '#':\n",
    "                    dp[i][j] = dp[i-1][n_j] + str(digits[i])\n",
    "        res = list(dp[-1][0])\n",
    "        while len(res) > 1 and res[0] == '0':\n",
    "            res.pop(0)\n",
    "        return ''.join(res)"
   ]
  },
  {
   "cell_type": "code",
   "execution_count": 46,
   "metadata": {},
   "outputs": [],
   "source": [
    "class Solution:\n",
    "    def largestMultipleOfThree(self, digits):\n",
    "        n = len(digits)\n",
    "        digits.sort(reverse=True)\n",
    "        digits = [0] + digits\n",
    "        dp = [[-float('inf')] * 3 for _ in range(n+1)] # 存储的是合法的字符串的最大长度\n",
    "        dp[0][0] = 0\n",
    "        pick = [[None] * 3 for _ in range(n+1)] # 选择了哪些字符串\n",
    "        prev = [[None] * 3 for _ in range(n+1)]\n",
    "        for i in range(1, n+1):\n",
    "            for j in range(3):\n",
    "                k = (j - digits[i] % 3 + 3) % 3\n",
    "                if dp[i-1][j] >= dp[i-1][k] + 1:\n",
    "                    dp[i][j] = dp[i-1][j]\n",
    "                    pick[i][j] = False\n",
    "                    prev[i][j] = j\n",
    "                else:\n",
    "                    dp[i][j] = dp[i-1][k] + 1\n",
    "                    pick[i][j] = True\n",
    "                    prev[i][j] = k\n",
    "        res = ''\n",
    "        j = 0 # 表示 取余的结果为 0\n",
    "        for i in range(n, 0, -1):\n",
    "            if pick[i][j]:\n",
    "                res += str(digits[i])\n",
    "            j = prev[i][j]\n",
    "        res = res[::-1]\n",
    "        if res and res[0] == '0':\n",
    "            return '0'\n",
    "        return res"
   ]
  },
  {
   "cell_type": "code",
   "execution_count": 47,
   "metadata": {},
   "outputs": [
    {
     "data": {
      "text/plain": [
       "'8760'"
      ]
     },
     "execution_count": 47,
     "metadata": {},
     "output_type": "execute_result"
    }
   ],
   "source": [
    "solution = Solution()\n",
    "solution.largestMultipleOfThree(digits = [8,6,7,1,0])"
   ]
  },
  {
   "cell_type": "code",
   "execution_count": 11,
   "metadata": {},
   "outputs": [
    {
     "data": {
      "text/plain": [
       "2"
      ]
     },
     "execution_count": 11,
     "metadata": {},
     "output_type": "execute_result"
    }
   ],
   "source": [
    "8 % 3"
   ]
  },
  {
   "cell_type": "code",
   "execution_count": null,
   "metadata": {},
   "outputs": [],
   "source": []
  }
 ],
 "metadata": {
  "kernelspec": {
   "display_name": "Python 3",
   "language": "python",
   "name": "python3"
  },
  "language_info": {
   "codemirror_mode": {
    "name": "ipython",
    "version": 3
   },
   "file_extension": ".py",
   "mimetype": "text/x-python",
   "name": "python",
   "nbconvert_exporter": "python",
   "pygments_lexer": "ipython3",
   "version": "3.6.2"
  }
 },
 "nbformat": 4,
 "nbformat_minor": 4
}
