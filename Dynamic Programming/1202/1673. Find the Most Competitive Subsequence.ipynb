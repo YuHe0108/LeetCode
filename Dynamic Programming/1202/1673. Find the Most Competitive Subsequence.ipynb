{
 "cells": [
  {
   "cell_type": "code",
   "execution_count": null,
   "metadata": {},
   "outputs": [],
   "source": []
  },
  {
   "cell_type": "code",
   "execution_count": null,
   "metadata": {},
   "outputs": [],
   "source": []
  },
  {
   "cell_type": "code",
   "execution_count": null,
   "metadata": {},
   "outputs": [],
   "source": []
  },
  {
   "cell_type": "code",
   "execution_count": null,
   "metadata": {},
   "outputs": [],
   "source": []
  },
  {
   "cell_type": "code",
   "execution_count": 258,
   "metadata": {},
   "outputs": [],
   "source": [
    "class Solution:\n",
    "    def mostCompetitive(self, nums, k):\n",
    "        # 一个数最多能 pop 的次数：len(nums) - idx\n",
    "        N = len(nums)\n",
    "        res = []\n",
    "        for i, n in enumerate(nums):\n",
    "            K = N - i + max(0, len(res) - k) # 后面剩的元素数量\n",
    "            if res and n < res[-1]:\n",
    "                while K > k - len(res) and K and res and n < res[-1]:\n",
    "                    res.pop()\n",
    "                    K -= 1\n",
    "            res.append(n)\n",
    "        while len(res) > k:\n",
    "            res.pop()\n",
    "        return res"
   ]
  },
  {
   "cell_type": "code",
   "execution_count": 264,
   "metadata": {},
   "outputs": [],
   "source": [
    "class Solution:\n",
    "    def mostCompetitive(self, nums, k):\n",
    "        # 一个数最多能 pop 的次数：len(nums) - idx\n",
    "        stack = []\n",
    "        for i, n in enumerate(nums):\n",
    "            while stack and n < stack[-1] and len(stack) - 1 + len(nums) - i >= k:\n",
    "                stack.pop()\n",
    "            if len(stack) < k:\n",
    "                stack.append(n)\n",
    "        return stack"
   ]
  },
  {
   "cell_type": "code",
   "execution_count": 265,
   "metadata": {},
   "outputs": [
    {
     "data": {
      "text/plain": [
       "[2, 6]"
      ]
     },
     "execution_count": 265,
     "metadata": {},
     "output_type": "execute_result"
    }
   ],
   "source": [
    "solution = Solution()\n",
    "solution.mostCompetitive([3,5,2,6], 2)"
   ]
  },
  {
   "cell_type": "code",
   "execution_count": null,
   "metadata": {},
   "outputs": [],
   "source": []
  },
  {
   "cell_type": "code",
   "execution_count": 137,
   "metadata": {},
   "outputs": [
    {
     "name": "stdout",
     "output_type": "stream",
     "text": [
      "22 24 28\n"
     ]
    }
   ],
   "source": [
    "a = [10,23,34,41,80,25,91,43,4,75,65,13,37,41,46,90,55,8,85,61,95,71]\n",
    "b = [10,23,61,62,34,41,80,25,91,43,4,75,65,13,37,41,46,90,55,8,85,61,95,71]\n",
    "c = [84,10,71,23,66,61,62,64,34,41,80,25,91,43,4,75,65,13,37,41,46,90,55,8,85,61,95,71]\n",
    "print(len(a), len(b), len(c))"
   ]
  },
  {
   "cell_type": "code",
   "execution_count": null,
   "metadata": {},
   "outputs": [],
   "source": []
  }
 ],
 "metadata": {
  "kernelspec": {
   "display_name": "Python 3",
   "language": "python",
   "name": "python3"
  },
  "language_info": {
   "codemirror_mode": {
    "name": "ipython",
    "version": 3
   },
   "file_extension": ".py",
   "mimetype": "text/x-python",
   "name": "python",
   "nbconvert_exporter": "python",
   "pygments_lexer": "ipython3",
   "version": "3.6.2"
  }
 },
 "nbformat": 4,
 "nbformat_minor": 4
}
