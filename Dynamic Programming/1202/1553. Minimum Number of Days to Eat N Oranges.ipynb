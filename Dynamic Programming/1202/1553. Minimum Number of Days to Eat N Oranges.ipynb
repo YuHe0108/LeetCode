{
 "cells": [
  {
   "cell_type": "code",
   "execution_count": null,
   "metadata": {},
   "outputs": [],
   "source": []
  },
  {
   "cell_type": "code",
   "execution_count": null,
   "metadata": {},
   "outputs": [],
   "source": []
  },
  {
   "cell_type": "code",
   "execution_count": null,
   "metadata": {},
   "outputs": [],
   "source": []
  },
  {
   "cell_type": "code",
   "execution_count": 79,
   "metadata": {},
   "outputs": [],
   "source": [
    "# LCS\n",
    "class Solution:\n",
    "    def minDays(self, n: int) -> int:\n",
    "        dp = [float('inf')] * (1 + n) # 每天吃一个\n",
    "        dp[0] = 0\n",
    "        for i in range(1, n+1):\n",
    "            v3 = dp[i-1]\n",
    "            if i % 2 == 0 and i % 3 == 0:\n",
    "                v1 = dp[i - i // 2] if i - i // 2 >= 0 else 0\n",
    "                v2 = dp[i - 2 * (i // 3)] if i - 2 * (i // 3) >= 0 else 0\n",
    "                dp[i] = min(dp[i], min(v1, v2, v3) + 1)\n",
    "            elif i % 2 == 0:\n",
    "                v = dp[i - i // 2] if i - i // 2 >= 0 else 0\n",
    "                dp[i] = min(dp[i], min(v, v3) + 1)\n",
    "            elif i % 3 == 0:\n",
    "                v = dp[i - 2 * (i // 3)] if i - 2 * (i // 3) >= 0 else 0\n",
    "                dp[i] = min(dp[i], min(v, v3) + 1)\n",
    "            else:\n",
    "                dp[i] = dp[i-1] + 1\n",
    "        return dp[-1]   "
   ]
  },
  {
   "cell_type": "code",
   "execution_count": 114,
   "metadata": {},
   "outputs": [],
   "source": [
    "from functools import lru_cache\n",
    "class Solution:\n",
    "    def minDays(self, n: int) -> int:\n",
    "        @lru_cache(None)\n",
    "        def solve(m):\n",
    "            if m <= 1: return m\n",
    "            res = float('inf')\n",
    "            if m % 2 == 0 and m % 3 == 0:\n",
    "                res = min(res, min(solve(m - m // 2), solve(m - 2 * (m // 3))) + 1)\n",
    "            elif m % 2 == 0:\n",
    "                v1 = solve(m - m // 2)\n",
    "                if m > 3:\n",
    "                    v2 = m % 3 + solve(m - 2 * (m // 3))\n",
    "                else:\n",
    "                    v2 = float('inf')\n",
    "                res = min(res, min(v1, v2) + 1)\n",
    "            elif m % 3 == 0:\n",
    "                res = min(res, min(m % 2 + solve(m - m // 2), solve(m - 2 * (m // 3))) + 1)\n",
    "            else:\n",
    "                if m > 2:\n",
    "                    v1 = m % 2 + solve(m - m // 2)\n",
    "                else:\n",
    "                    v1 = float('inf')\n",
    "                if m > 3:\n",
    "                    v2 = m % 3 + solve(m - 2 * (m // 3))\n",
    "                else:\n",
    "                    v2 = float('inf')\n",
    "                res = min(res, min(v1, v2) + 1)\n",
    "            return res\n",
    "        return solve(n)"
   ]
  },
  {
   "cell_type": "code",
   "execution_count": 120,
   "metadata": {},
   "outputs": [],
   "source": [
    "from functools import lru_cache\n",
    "class Solution:\n",
    "    def minDays(self, n: int) -> int:\n",
    "        @lru_cache(None)\n",
    "        def solve(m):\n",
    "            if m == 1: return 1\n",
    "            if m == 2 or m == 3:\n",
    "                return 2\n",
    "            res = min(m % 2 + solve(m // 2), m % 3 + solve(m // 3)) + 1\n",
    "            return res\n",
    "        return solve(n)"
   ]
  },
  {
   "cell_type": "code",
   "execution_count": 122,
   "metadata": {},
   "outputs": [
    {
     "data": {
      "text/plain": [
       "23"
      ]
     },
     "execution_count": 122,
     "metadata": {},
     "output_type": "execute_result"
    }
   ],
   "source": [
    "solution = Solution()\n",
    "solution.minDays(9209408)"
   ]
  },
  {
   "cell_type": "code",
   "execution_count": 58,
   "metadata": {},
   "outputs": [],
   "source": [
    "# 0 1 2 2 3 4"
   ]
  },
  {
   "cell_type": "code",
   "execution_count": null,
   "metadata": {},
   "outputs": [],
   "source": []
  },
  {
   "cell_type": "code",
   "execution_count": null,
   "metadata": {},
   "outputs": [],
   "source": []
  }
 ],
 "metadata": {
  "kernelspec": {
   "display_name": "Python 3",
   "language": "python",
   "name": "python3"
  },
  "language_info": {
   "codemirror_mode": {
    "name": "ipython",
    "version": 3
   },
   "file_extension": ".py",
   "mimetype": "text/x-python",
   "name": "python",
   "nbconvert_exporter": "python",
   "pygments_lexer": "ipython3",
   "version": "3.6.2"
  }
 },
 "nbformat": 4,
 "nbformat_minor": 4
}
