{
 "cells": [
  {
   "cell_type": "code",
   "execution_count": null,
   "metadata": {},
   "outputs": [],
   "source": []
  },
  {
   "cell_type": "code",
   "execution_count": null,
   "metadata": {},
   "outputs": [],
   "source": []
  },
  {
   "cell_type": "code",
   "execution_count": null,
   "metadata": {},
   "outputs": [],
   "source": []
  },
  {
   "cell_type": "code",
   "execution_count": null,
   "metadata": {},
   "outputs": [],
   "source": []
  },
  {
   "cell_type": "code",
   "execution_count": 42,
   "metadata": {},
   "outputs": [],
   "source": [
    "class Solution:\n",
    "    def kInversePairs(self, n: int, k: int) -> int:\n",
    "        mod = pow(10, 9) + 7\n",
    "        dp = [[0] * 1002 for _ in range(1002)]\n",
    "        dp[1][0] = 1\n",
    "        for i in range(2, n+1):\n",
    "            dp[i][0] = 1\n",
    "            for j in range(1, k+1):\n",
    "                dp[i][j] = (dp[i][j-1] + dp[i-1][j]) % mod;\n",
    "                if j >= i:\n",
    "                    dp[i][j]=(dp[i][j] - dp[i-1][j-i] + mod) % mod;\n",
    "        return dp[n][k] % mod"
   ]
  },
  {
   "cell_type": "code",
   "execution_count": 53,
   "metadata": {},
   "outputs": [],
   "source": [
    "class Solution:\n",
    "    def kInversePairs(self, n: int, k: int) -> int:\n",
    "        mod = pow(10, 9) + 7\n",
    "        dp = [[0] * (1 + k) for _ in range(n + 1)]\n",
    "        for i in range(0, n + 1):\n",
    "            dp[i][0] = 1\n",
    "        for i in range(1, n + 1):\n",
    "            for j in range(1, k + 1):\n",
    "                dp[i][j] = dp[i - 1][j] + dp[i][j - 1] - (dp[i - 1][j - i] if j - i >= 0 else 0)\n",
    "        return dp[-1][-1] % mod"
   ]
  },
  {
   "cell_type": "code",
   "execution_count": 54,
   "metadata": {},
   "outputs": [
    {
     "data": {
      "text/plain": [
       "2"
      ]
     },
     "execution_count": 54,
     "metadata": {},
     "output_type": "execute_result"
    }
   ],
   "source": [
    "solution = Solution()\n",
    "solution.kInversePairs(3, 1)"
   ]
  },
  {
   "cell_type": "markdown",
   "metadata": {},
   "source": [
    "    1、dp[n][k] = dp[n - 1][k] + dp[n - 1][k-1] + ... + dp[n - 1][k - n + 1]\n",
    "\n",
    "    我们可以用 k+1 代替 k，得到：\n",
    "\n",
    "    2、dp[n][k+1] = dp[n - 1][k+1] + dp[n - 1][k] + ... + dp[n - 1][k + 1 - n + 1]\n",
    "\n",
    "    用第二个等式减去第一个等式可以得到：\n",
    "\n",
    "    3、dp[n][k+1] = dp[n][k] + dp[n - 1][k+1] - dp[n - 1][k - n + 1]\n",
    "\n",
    "    将 k+1 换回成 k，可以得到：\n",
    "\n",
    "    4、dp[n][k] = dp[n][k-1] + dp[n - 1][k] - dp[n - 1][k - n]"
   ]
  },
  {
   "cell_type": "code",
   "execution_count": null,
   "metadata": {},
   "outputs": [],
   "source": []
  },
  {
   "cell_type": "code",
   "execution_count": null,
   "metadata": {},
   "outputs": [],
   "source": []
  },
  {
   "cell_type": "code",
   "execution_count": 79,
   "metadata": {},
   "outputs": [],
   "source": [
    "from collections import Counter\n",
    "\n",
    "class Solution:\n",
    "    def frequencySort(self, nums):\n",
    "        counter = Counter(nums)\n",
    "        counter = sorted(counter.items(), key=lambda x: (x[1], -x[0]))\n",
    "        res = []\n",
    "        for x, y in counter:\n",
    "            x = [x] * y\n",
    "            res.extend(x)\n",
    "        return res"
   ]
  },
  {
   "cell_type": "code",
   "execution_count": 80,
   "metadata": {},
   "outputs": [
    {
     "data": {
      "text/plain": [
       "[1, 3, 3, 2, 2]"
      ]
     },
     "execution_count": 80,
     "metadata": {},
     "output_type": "execute_result"
    }
   ],
   "source": [
    "solution = Solution()\n",
    "solution.frequencySort([2,3,1,3,2])"
   ]
  },
  {
   "cell_type": "code",
   "execution_count": null,
   "metadata": {},
   "outputs": [],
   "source": []
  }
 ],
 "metadata": {
  "kernelspec": {
   "display_name": "Python 3",
   "language": "python",
   "name": "python3"
  },
  "language_info": {
   "codemirror_mode": {
    "name": "ipython",
    "version": 3
   },
   "file_extension": ".py",
   "mimetype": "text/x-python",
   "name": "python",
   "nbconvert_exporter": "python",
   "pygments_lexer": "ipython3",
   "version": "3.6.2"
  }
 },
 "nbformat": 4,
 "nbformat_minor": 4
}
