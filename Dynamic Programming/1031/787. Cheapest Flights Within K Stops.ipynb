{
 "cells": [
  {
   "cell_type": "raw",
   "metadata": {},
   "source": [
    "说明：\n",
    "    有 n 个城市通过 m 个航班连接。\n",
    "    每个航班都从城市 u 开始，以价格 w 抵达 v。\n",
    "    现在给定所有的城市和航班，以及出发城市 src 和目的地 dst，你的任务是找到从 src 到 dst 最多经过 k 站中转的最便宜的价格。 \n",
    "    如果没有这样的路线，则输出 -1。\n",
    "\n",
    "提示：\n",
    "    1、n 范围是 [1, 100]，城市标签从 0 到 n - 1\n",
    "    2、航班数量范围是 [0, n * (n - 1) / 2]\n",
    "    3、每个航班的格式 (src, dst, price)\n",
    "    4、每个航班的价格范围是 [1, 10000]\n",
    "    5、k 范围是 [0, n - 1]\n",
    "    6、航班没有重复，且不存在自环"
   ]
  },
  {
   "cell_type": "raw",
   "metadata": {},
   "source": [
    "示例 1：\n",
    "\n",
    "输入: \n",
    "    n = 3, edges = [[0,1,100],[1,2,100],[0,2,500]]\n",
    "    src = 0, dst = 2, k = 1\n",
    "输出: 200\n",
    "    解释: 城市航班图如下, 从城市 0 到城市 2 在 1 站中转以内的最便宜价格是 200，如图中红色所示。"
   ]
  },
  {
   "cell_type": "markdown",
   "metadata": {},
   "source": [
    "<img src='https://s3-lc-upload.s3.amazonaws.com/uploads/2018/02/16/995.png' width=500>"
   ]
  },
  {
   "cell_type": "raw",
   "metadata": {},
   "source": [
    "说明：\n",
    "    输入: \n",
    "        n = 3, edges = [[0,1,100],[1,2,100],[0,2,500]]\n",
    "        src = 0, dst = 2, k = 0\n",
    "    输出: 500\n",
    "    解释: \n",
    "        城市航班图如下, 从城市 0 到城市 2 在 0 站中转以内的最便宜价格是 500，如图中蓝色所示。"
   ]
  },
  {
   "cell_type": "markdown",
   "metadata": {},
   "source": [
    "<img src='https://s3-lc-upload.s3.amazonaws.com/uploads/2018/02/16/995.png'>"
   ]
  },
  {
   "cell_type": "code",
   "execution_count": 66,
   "metadata": {},
   "outputs": [],
   "source": [
    "from collections import defaultdict\n",
    "\n",
    "class Solution:\n",
    "    def findCheapestPrice(self, n: int, flights, src: int, dst: int, K: int) -> int:\n",
    "        graph = defaultdict(list)\n",
    "        prices = {}\n",
    "        for x, y, z in flights:\n",
    "            graph[x].append(y)\n",
    "            prices[(x, y)] = z\n",
    "        \n",
    "        print(prices, graph)\n",
    "        self.paths = []\n",
    "        self.dfs(graph, prices, src, dst, K, [])\n",
    "        print(self.paths)\n",
    "        return min(self.paths) if self.paths else -1\n",
    "    \n",
    "    def dfs(self, graph, prices, src, dst, K, path):\n",
    "        if K == 0 and (src, dst) in prices:\n",
    "            path.append(prices[(src, dst)])\n",
    "            self.paths.append(path[:])\n",
    "            path.pop()\n",
    "            return \n",
    "        \n",
    "        for val in graph[src]:\n",
    "            path.append(prices[(src, val)])\n",
    "            if val == dst and K >= 0:\n",
    "                self.paths.append(path[:])\n",
    "                path.pop()\n",
    "                continue\n",
    "            self.dfs(graph, prices, val, dst, K-1, path)\n",
    "            path.pop()\n",
    "        return"
   ]
  },
  {
   "cell_type": "code",
   "execution_count": 74,
   "metadata": {},
   "outputs": [],
   "source": [
    "from collections import defaultdict\n",
    "import heapq\n",
    "\n",
    "class Solution:\n",
    "    def findCheapestPrice(self, n: int, flights, src: int, dst: int, K: int) -> int:\n",
    "        graph = defaultdict(list)\n",
    "        for x, y, z in flights:\n",
    "            graph[x].append((y, z))\n",
    "        q = [(0, src, 0)]\n",
    "        dist = {}\n",
    "        while q:\n",
    "            cost, cur, k = heapq.heappop(q)\n",
    "            if k > K + 1 or cost > dist.get((cur, k), float('inf')):\n",
    "                continue\n",
    "            if cur == dst: # 因为都是从代价最小的路径走过来的，因此如果遇到目标，那么当前值一定最小\n",
    "                return cost\n",
    "            for node, w in graph[cur]:\n",
    "                temp = cost + w\n",
    "                if temp < dist.get((node, k + 1), float('inf')):\n",
    "                    heapq.heappush(q, (temp, node, k + 1))\n",
    "                    dist[(node, k + 1)] = temp\n",
    "        return -1"
   ]
  },
  {
   "cell_type": "code",
   "execution_count": null,
   "metadata": {},
   "outputs": [],
   "source": []
  },
  {
   "cell_type": "code",
   "execution_count": null,
   "metadata": {},
   "outputs": [],
   "source": []
  },
  {
   "cell_type": "code",
   "execution_count": 75,
   "metadata": {},
   "outputs": [
    {
     "data": {
      "text/plain": [
       "7"
      ]
     },
     "execution_count": 75,
     "metadata": {},
     "output_type": "execute_result"
    }
   ],
   "source": [
    "solution = Solution()\n",
    "solution.findCheapestPrice(5, [[0,1,5],[1,2,5],[0,3,2],[3,1,2],[1,4,1],[4,2,1]],0,2,2)"
   ]
  },
  {
   "cell_type": "code",
   "execution_count": null,
   "metadata": {},
   "outputs": [],
   "source": [
    "from collections import defaultdict\n",
    "\n",
    "class Solution:\n",
    "    def findCheapestPrice(self, n: int, flights, src: int, dst: int, K: int) -> int:\n",
    "        graph = defaultdict(list)\n",
    "        self.prices = {}\n",
    "        for x, y, z in flights:\n",
    "            graph[x].append(y)\n",
    "            self.prices[(x, y)] = z\n",
    "        \n",
    "        # print(prices, graph)\n",
    "        self.paths = []\n",
    "        self.dfs(graph, src, dst, K, [])\n",
    "        # print(self.paths)\n",
    "        return min(self.paths) if self.paths else -1\n",
    "    \n",
    "    def dfs(self, graph, src, dst, K, path):\n",
    "        if K == 0:\n",
    "            if (src, dst) in prices:\n",
    "                path.append(prices[(src, dst)])\n",
    "                self.paths.append(sum(path[:]))\n",
    "                path.pop()\n",
    "            return \n",
    "        \n",
    "        for val in graph[src]:\n",
    "            path.append(prices[(src, val)])\n",
    "            if val == dst and K >= 0:\n",
    "                self.paths.append(sum(path[:]))\n",
    "                path.pop()\n",
    "                continue\n",
    "            self.dfs(graph, prices, val, dst, K-1, path)\n",
    "            path.pop()\n",
    "        return"
   ]
  },
  {
   "cell_type": "code",
   "execution_count": null,
   "metadata": {},
   "outputs": [],
   "source": []
  },
  {
   "cell_type": "code",
   "execution_count": null,
   "metadata": {},
   "outputs": [],
   "source": []
  },
  {
   "cell_type": "code",
   "execution_count": null,
   "metadata": {},
   "outputs": [],
   "source": []
  },
  {
   "cell_type": "code",
   "execution_count": null,
   "metadata": {},
   "outputs": [],
   "source": []
  },
  {
   "cell_type": "code",
   "execution_count": 88,
   "metadata": {},
   "outputs": [],
   "source": [
    "from collections import defaultdict\n",
    "import heapq\n",
    "\n",
    "from collections import defaultdict\n",
    "\n",
    "class Solution:\n",
    "    def findCheapestPrice(self, n: int, flights, src: int, dst: int, K: int) -> int:\n",
    "        graph = defaultdict(dict)\n",
    "        for u, v, e in flights:\n",
    "            graph[u][v] = e\n",
    "        visited = [0] * n\n",
    "        self.ans = float('inf')\n",
    "        self.dfs(graph, src, dst, K+1, 0, visited)\n",
    "        return -1 if self.ans == float('inf') else self.ans\n",
    "    \n",
    "    def dfs(self, graph, src, dst, k, cost, visited):\n",
    "        if src == dst:\n",
    "            self.ans = cost\n",
    "            return\n",
    "        if k == 0:\n",
    "            return\n",
    "        for v, e in graph[src].items():\n",
    "            if visited[v] or cost + e > self.ans:\n",
    "                continue\n",
    "            visited[v] = 1\n",
    "            self.dfs(graph, v, e, k-1, cost+e, visited)\n",
    "            visited[v] = 0"
   ]
  },
  {
   "cell_type": "code",
   "execution_count": 100,
   "metadata": {},
   "outputs": [],
   "source": [
    "import collections\n",
    "\n",
    "class Solution(object):\n",
    "    def findCheapestPrice(self, n, flights, src, dst, K):\n",
    "        graph = collections.defaultdict(dict)\n",
    "        for u, v, e in flights:\n",
    "            graph[u][v] = e\n",
    "        visited = [0] * n\n",
    "        self.ans = float('inf')\n",
    "        self.dfs(graph, src, dst, K + 1, 0, visited)\n",
    "        return self.res if self.res != float('inf') else -1\n",
    "\n",
    "    def dfs(self, graph, src, dst, k, cost, visited):\n",
    "        if src == dst:\n",
    "            self.ans = min(self.ans, cost)\n",
    "            return\n",
    "        if k == 0:\n",
    "            return\n",
    "        for v, e in graph[src].items():\n",
    "            if visited[v] or cost + e > self.ans: \n",
    "                continue\n",
    "            visited[v] = 1\n",
    "            self.dfs(graph, v, dst, k - 1, cost + e, visited)\n",
    "            visited[v] = 0"
   ]
  },
  {
   "cell_type": "code",
   "execution_count": 9,
   "metadata": {},
   "outputs": [],
   "source": [
    "import collections\n",
    "\n",
    "class Solution(object):\n",
    "    def findCheapestPrice(self, n, flights, src, dst, K):\n",
    "        graph = collections.defaultdict(dict)\n",
    "        for u, v, e in flights:\n",
    "            graph[u][v] = e\n",
    "        \n",
    "        ans = float('inf')\n",
    "        queue = collections.deque()\n",
    "        queue.append((src, 0))\n",
    "        \n",
    "        step = 0 \n",
    "        while queue:\n",
    "            size = len(queue)\n",
    "            for _ in range(size):\n",
    "                node, pri = queue.popleft()\n",
    "                if node == dst:\n",
    "                    ans = min(ans, pri)\n",
    "                    \n",
    "                for v, w in graph[node].items():\n",
    "                    if pri + w > ans:\n",
    "                        continue\n",
    "                    queue.append((v, w + pri))\n",
    "            if step > K:\n",
    "                break\n",
    "            step += 1\n",
    "        return ans if ans != float('inf') else -1"
   ]
  },
  {
   "cell_type": "code",
   "execution_count": 10,
   "metadata": {},
   "outputs": [
    {
     "data": {
      "text/plain": [
       "7"
      ]
     },
     "execution_count": 10,
     "metadata": {},
     "output_type": "execute_result"
    }
   ],
   "source": [
    "solution = Solution()\n",
    "solution.findCheapestPrice(5, [[0,1,5],[1,2,5],[0,3,2],[3,1,2],[1,4,1],[4,2,1]],0,2,2)"
   ]
  },
  {
   "cell_type": "code",
   "execution_count": null,
   "metadata": {},
   "outputs": [],
   "source": [
    "a = {a:1}\n",
    "a"
   ]
  }
 ],
 "metadata": {
  "kernelspec": {
   "display_name": "Python 3",
   "language": "python",
   "name": "python3"
  },
  "language_info": {
   "codemirror_mode": {
    "name": "ipython",
    "version": 3
   },
   "file_extension": ".py",
   "mimetype": "text/x-python",
   "name": "python",
   "nbconvert_exporter": "python",
   "pygments_lexer": "ipython3",
   "version": "3.6.2"
  }
 },
 "nbformat": 4,
 "nbformat_minor": 4
}
