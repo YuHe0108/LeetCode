{
 "cells": [
  {
   "cell_type": "raw",
   "metadata": {},
   "source": [
    "说明：\n",
    "    假设你是球队的经理。\n",
    "    对于即将到来的锦标赛，你想组合一支总体得分最高的球队。球队的得分是球队中所有球员的分数 总和 。\n",
    "    然而，球队中的矛盾会限制球员的发挥，所以必须选出一支 没有矛盾 的球队。\n",
    "    如果一名年龄较小球员的分数 严格大于 一名年龄较大的球员，则存在矛盾。\n",
    "    同龄球员之间不会发生矛盾。\n",
    "    给你两个列表 scores 和 ages，其中每组 scores[i] 和 ages[i] 表示第 i 名球员的分数和年龄。\n",
    "    请你返回 所有可能的无矛盾球队中得分最高那支的分数 。\n",
    "\n",
    "示例 1：\n",
    "    输入：scores = [1,3,5,10,15], ages = [1,2,3,4,5]\n",
    "    输出：34\n",
    "    解释：你可以选中所有球员。\n",
    "\n",
    "示例 2：\n",
    "    输入：scores = [4,5,6,5], ages = [2,1,2,1]\n",
    "    输出：16\n",
    "    解释：最佳的选择是后 3 名球员。注意，你可以选中多个同龄球员。\n",
    "\n",
    "示例 3：\n",
    "    输入：scores = [1,2,3,5], ages = [8,9,10,1]\n",
    "    输出：6\n",
    "    解释：最佳的选择是前 3 名球员。\n",
    "\n",
    "提示：\n",
    "    1、1 <= scores.length, ages.length <= 1000\n",
    "    2、scores.length == ages.length\n",
    "    3、1 <= scores[i] <= 10^6\n",
    "    4、1 <= ages[i] <= 1000"
   ]
  },
  {
   "cell_type": "code",
   "execution_count": 134,
   "metadata": {},
   "outputs": [],
   "source": [
    "from collections import defaultdict\n",
    "\n",
    "class Solution:\n",
    "    def bestTeamScore(self, scores, ages) -> int:\n",
    "        N = len(ages)\n",
    "        \n",
    "        # 比当前球员年龄小 而且 score 小与当前人，or 两个人年龄相当\n",
    "        ages_dict = defaultdict(list)\n",
    "        for i in range(N):\n",
    "            for j in range(N):\n",
    "                if i != j:\n",
    "                    a = ages[j] == ages[i] \n",
    "                    b = a or (ages[j] < ages[i] and scores[j] <= scores[i])\n",
    "                    c = b or (ages[j] > ages[i] and scores[j] >= scores[i])\n",
    "                    if c:ages_dict[i].append(j)\n",
    "        # print(ages_dict) \n",
    "        \n",
    "        max_val = 0\n",
    "        dp = [[0] * N for _ in range(N)]\n",
    "        for i in range(N):\n",
    "            dp[i][i] = scores[i] # 至少可以选择一个人\n",
    "            max_val = max(max_val, dp[i][i])\n",
    "\n",
    "        for i in range(N):\n",
    "            dp[i][j] = max(dp[i][j-1], dp[i][j]) # 即便符合条件，也可以不加\n",
    "            for j in ages_dict[i]:\n",
    "                dp[i][j] = max(dp[i][j], dp[i][j-1] + scores[j]) # 加上当前人的分数\n",
    "            max_val = max(max_val, dp[i][j])\n",
    "        print(dp)\n",
    "        return max_val"
   ]
  },
  {
   "cell_type": "code",
   "execution_count": 135,
   "metadata": {},
   "outputs": [
    {
     "name": "stdout",
     "output_type": "stream",
     "text": [
      "[[1, 4, 0, 0, 0, 0, 10, 0, 5], [1, 3, 0, 3, 5, 0, 0, 0, 0], [0, 0, 7, 10, 12, 16, 26, 33, 0], [0, 3, 10, 3, 5, 9, 19, 26, 31], [0, 3, 10, 13, 2, 6, 16, 23, 28], [0, 0, 7, 10, 12, 4, 14, 0, 5], [1, 0, 7, 10, 12, 16, 10, 17, 22], [0, 0, 7, 10, 12, 0, 10, 7, 7], [6, 0, 0, 3, 5, 9, 19, 0, 5]]\n"
     ]
    },
    {
     "data": {
      "text/plain": [
       "33"
      ]
     },
     "execution_count": 135,
     "metadata": {},
     "output_type": "execute_result"
    }
   ],
   "source": [
    "solution = Solution()\n",
    "solution.bestTeamScore([1,3,7,3,2,4,10,7,5], [4,5,2,1,1,2,4,1,4])"
   ]
  },
  {
   "cell_type": "code",
   "execution_count": 230,
   "metadata": {},
   "outputs": [],
   "source": [
    "from collections import defaultdict\n",
    "\n",
    "class Solution:\n",
    "    def bestTeamScore(self, scores, ages) -> int:\n",
    "        N = len(ages)\n",
    "        # 年龄按照大小，从小到大排序，scores按照年龄的顺序排序列\n",
    "        # 遍历 ages[i] 前面的值，如果ages[j] == ages[i], 加入，如果 ages[j] < ages[i] and scores[j] < scores[i] 也要加入\n",
    "        players = []\n",
    "        for a, s in zip(ages, scores):\n",
    "            players.append([a, s])\n",
    "        players = sorted(players, key = lambda x: (x[0], x[1]))\n",
    "        \n",
    "        data = list(zip(ages, scores))\n",
    "        data.sort()\n",
    "        print(data)\n",
    "        \n",
    "        print(players)\n",
    "        dp = [0] * N\n",
    "        for i in range(N):\n",
    "            dp[i] = players[i][1]\n",
    "            for j in range(i):\n",
    "                if (players[j][0] == players[i][0]) or (players[j][0] < players[i][0] and players[j][1] <= players[i][1]):\n",
    "                    dp[i] = max(dp[i], dp[j] + players[i][1])\n",
    "        print(dp)\n",
    "        return max(dp)"
   ]
  },
  {
   "cell_type": "code",
   "execution_count": 231,
   "metadata": {},
   "outputs": [
    {
     "name": "stdout",
     "output_type": "stream",
     "text": [
      "[(1, 2), (1, 3), (1, 7), (2, 4), (2, 7), (4, 1), (4, 5), (4, 10), (5, 3)]\n",
      "[[1, 2], [1, 3], [1, 7], [2, 4], [2, 7], [4, 1], [4, 5], [4, 10], [5, 3]]\n",
      "[2, 5, 12, 9, 19, 1, 14, 29, 8]\n"
     ]
    },
    {
     "data": {
      "text/plain": [
       "29"
      ]
     },
     "execution_count": 231,
     "metadata": {},
     "output_type": "execute_result"
    }
   ],
   "source": [
    "solution = Solution()\n",
    "solution.bestTeamScore([1,3,7,3,2,4,10,7,5], [4,5,2,1,1,2,4,1,4])"
   ]
  },
  {
   "cell_type": "code",
   "execution_count": null,
   "metadata": {},
   "outputs": [],
   "source": [
    "[[1, 2], [1, 3], [1, 7], [2, 4], [2, 7], [4, 1], [4, 5], [4, 10], [5, 3]]\n",
    "[2, 5, 12, 9, 19, 1, 14, 29, 8]"
   ]
  },
  {
   "cell_type": "code",
   "execution_count": null,
   "metadata": {},
   "outputs": [],
   "source": [
    "[[1, 3], [1, 2], [1, 7], [2, 7], [2, 4], [4, 1], [4, 10], [4, 5], [5, 3]]\n",
    "[3, 5, 12, 19, 23, 1, 33, 38, 8]"
   ]
  },
  {
   "cell_type": "code",
   "execution_count": null,
   "metadata": {},
   "outputs": [],
   "source": []
  }
 ],
 "metadata": {
  "kernelspec": {
   "display_name": "Python 3",
   "language": "python",
   "name": "python3"
  },
  "language_info": {
   "codemirror_mode": {
    "name": "ipython",
    "version": 3
   },
   "file_extension": ".py",
   "mimetype": "text/x-python",
   "name": "python",
   "nbconvert_exporter": "python",
   "pygments_lexer": "ipython3",
   "version": "3.6.2"
  }
 },
 "nbformat": 4,
 "nbformat_minor": 4
}
