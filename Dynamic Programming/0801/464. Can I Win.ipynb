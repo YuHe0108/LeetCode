{
 "cells": [
  {
   "cell_type": "raw",
   "metadata": {},
   "source": [
    "在“100个游戏”中，两个玩家轮流将1..10中的任意整数加到运行总数上。最先使 这个数字 达到或超过100，则该玩家获胜。\n",
    "\n",
    "如果我们改变游戏规则，让玩家不能重复使用整数呢？例如，两个玩家可以轮流从1..15的公\n",
    "共号码池中抽出，不需要替换，\n",
    "直到总数 >=100。在给定整数maxChoosableInteger和另一个整数desiredTotal的情况下，确定第一个移动的玩家是否可以强制获胜(假设两个玩家都处于最佳状态)。您总是可以假设maxChoosableInteger不会大于20，并且desiredTotal不会大于300。\n",
    "\n",
    "例子：\n",
    "    Input:\n",
    "        maxChoosableInteger = 10\n",
    "        desiredTotal = 11\n",
    "\n",
    "    Output: false\n",
    "        Explanation:\n",
    "        No matter which integer the first player choose, the first player will lose.\n",
    "        The first player can choose an integer from 1 up to 10.\n",
    "        If the first player choose 1, the second player can only choose integers from 2 up to 10.\n",
    "        The second player will win by choosing 10 and get a total = 11, which is >= desiredTotal.\n",
    "        Same with other integers chosen by the first player, the second player will always win."
   ]
  },
  {
   "cell_type": "code",
   "execution_count": 30,
   "metadata": {},
   "outputs": [],
   "source": [
    "class Solution:\n",
    "    def canIWin(self, max_int: int, total: int) -> bool:\n",
    "        if max_int >= total: return True\n",
    "        if (1 + max_int) * max_int // 2 < total: return False\n",
    "        int_choice = [0] * (max_int + 1)\n",
    "        return self.recursion(int_choice, total, dict())\n",
    "    \n",
    "    def recursion(self, int_state, total, state_dict):\n",
    "        str_state = str(int_state)\n",
    "        if str_state in state_dict: \n",
    "            return state_dict[str_state]\n",
    "        \n",
    "        for i in range(1, len(int_state)):\n",
    "            if int_state[i] == 0: # 当前数字没有选择\n",
    "                int_state[i] = 1 # 选择当前数字\n",
    "                if total - i <= 0 or not self.recursion(int_state, total-i, state_dict):\n",
    "                    state_dict[str_state] = True\n",
    "                    int_state[i] = 0 \n",
    "                    # 为什么要置零，因为会破坏 下一个 循环时，递归的状态，\n",
    "                    # 因为理想的状态是 将 1-max_int的数字，一个一个选择，并查看其状态\n",
    "                    return True\n",
    "                int_state[i] = 0\n",
    "        state_dict[str_state] = False\n",
    "        return False"
   ]
  },
  {
   "cell_type": "code",
   "execution_count": 31,
   "metadata": {},
   "outputs": [
    {
     "data": {
      "text/plain": [
       "True"
      ]
     },
     "execution_count": 31,
     "metadata": {},
     "output_type": "execute_result"
    }
   ],
   "source": [
    "max_choosen = 10\n",
    "desired = 40\n",
    "solution = Solution()\n",
    "solution.canIWin(max_choosen, desired)"
   ]
  },
  {
   "cell_type": "code",
   "execution_count": null,
   "metadata": {},
   "outputs": [],
   "source": []
  },
  {
   "cell_type": "code",
   "execution_count": null,
   "metadata": {},
   "outputs": [],
   "source": []
  },
  {
   "cell_type": "code",
   "execution_count": null,
   "metadata": {},
   "outputs": [],
   "source": []
  },
  {
   "cell_type": "code",
   "execution_count": null,
   "metadata": {},
   "outputs": [],
   "source": []
  }
 ],
 "metadata": {
  "kernelspec": {
   "display_name": "TF2",
   "language": "python",
   "name": "tf2"
  },
  "language_info": {
   "codemirror_mode": {
    "name": "ipython",
    "version": 3
   },
   "file_extension": ".py",
   "mimetype": "text/x-python",
   "name": "python",
   "nbconvert_exporter": "python",
   "pygments_lexer": "ipython3",
   "version": "3.6.2"
  }
 },
 "nbformat": 4,
 "nbformat_minor": 4
}
