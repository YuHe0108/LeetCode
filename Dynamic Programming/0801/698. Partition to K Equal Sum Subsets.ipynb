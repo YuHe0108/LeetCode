{
 "cells": [
  {
   "cell_type": "raw",
   "metadata": {},
   "source": [
    "    给定一个由整数nums和正整数k组成的数组，请确定是否有可能将此数组划分为k个非空子集，它们的总和都相等。\n",
    "    1、所有的数字都必须要用到\n",
    "       \n",
    "    例1：\n",
    "        Input: nums = [4, 3, 2, 3, 5, 2, 1], k = 4\n",
    "        Output: True\n",
    "        Explanation: It's possible to divide it into 4 subsets (5), (1, 4), (2,3), (2,3) with equal sums.\n",
    "     "
   ]
  },
  {
   "cell_type": "code",
   "execution_count": 101,
   "metadata": {},
   "outputs": [],
   "source": [
    "class Solution:\n",
    "    def canPartitionKSubsets(self, nums, k: int) -> bool:\n",
    "        if len(nums) < k or sum(nums) % k != 0: return False\n",
    "        nums.sort()\n",
    "        mean_val = sum(nums) // k\n",
    "        \n",
    "        # 检查数组中，是否存在比 mean_val更大的值，如果有，则为False\n",
    "        for i in range(len(nums) - 1, -1, -1):\n",
    "            if nums[i] > mean_val:\n",
    "                return False\n",
    "        \n",
    "        # 这个时候，数组中最大的数字，一定是小于等于target的，如果正好等于target\n",
    "        # 则需要遍历 nums 的位数就少了一位，k也相应的减少\n",
    "        start_index = len(nums) - 1\n",
    "        while start_index >= 0 and nums[start_index] == mean_val:\n",
    "            start_index -= 1\n",
    "            k -= 1\n",
    "        return self.partition([0] * k, nums, start_index, mean_val)\n",
    "    \n",
    "    def partition(self, subset, nums_, index, target):\n",
    "        if index < 0:\n",
    "            return True\n",
    "        \n",
    "        val = nums_[index]\n",
    "        for i in range(len(subset)):\n",
    "            if val + subset[i] <= target:\n",
    "                subset[i] += val\n",
    "                # subset[i] + val 小于等于 target 的时候，可以放入，此时，需要计算，\n",
    "                # 剩余的数组能否返回True，如果不能，则需要返回原始的状态\n",
    "                if self.partition(subset, nums_, index-1, target):\n",
    "                    return True\n",
    "                else:\n",
    "                    subset[i] -= val\n",
    "        return False"
   ]
  },
  {
   "cell_type": "code",
   "execution_count": 110,
   "metadata": {},
   "outputs": [],
   "source": [
    "class Solution:\n",
    "    def canPartitionKSubsets(self, nums, k: int) -> bool:\n",
    "        if len(nums) < k or sum(nums) % k != 0: return False\n",
    "        target_val = sum(nums) // k\n",
    "        nums.sort()\n",
    "        \n",
    "        for i in range(len(nums)-1, -1, -1):\n",
    "            if nums[i] > target_val:\n",
    "                return False\n",
    "        \n",
    "        start_index = len(nums) - 1\n",
    "        while start_index >= 0 and nums[start_index] == target_val:\n",
    "            start_index -= 1\n",
    "            k -= 1\n",
    "        \n",
    "        return self.recursion([0]*k, nums, start_index, target_val)\n",
    "    \n",
    "    def recursion(self, subset, nums_, index, target):\n",
    "        if index < 0: return True\n",
    "        \n",
    "        val = nums_[index]\n",
    "        for i in range(len(subset)):\n",
    "            if val + subset[i] <= target:\n",
    "                subset[i] += val\n",
    "                if self.recursion(subset, nums_, index-1, target):\n",
    "                    return True\n",
    "                else:\n",
    "                    subset[i] -= val\n",
    "        return False"
   ]
  },
  {
   "cell_type": "code",
   "execution_count": 111,
   "metadata": {},
   "outputs": [
    {
     "data": {
      "text/plain": [
       "False"
      ]
     },
     "execution_count": 111,
     "metadata": {},
     "output_type": "execute_result"
    }
   ],
   "source": [
    "nums_ = [2,2,2,2,3,4,5]\n",
    "k_ = 4\n",
    "solution = Solution()\n",
    "solution.canPartitionKSubsets(nums_, k_)"
   ]
  },
  {
   "cell_type": "code",
   "execution_count": null,
   "metadata": {},
   "outputs": [],
   "source": []
  }
 ],
 "metadata": {
  "kernelspec": {
   "display_name": "TF2",
   "language": "python",
   "name": "tf2"
  },
  "language_info": {
   "codemirror_mode": {
    "name": "ipython",
    "version": 3
   },
   "file_extension": ".py",
   "mimetype": "text/x-python",
   "name": "python",
   "nbconvert_exporter": "python",
   "pygments_lexer": "ipython3",
   "version": "3.6.2"
  }
 },
 "nbformat": 4,
 "nbformat_minor": 4
}
