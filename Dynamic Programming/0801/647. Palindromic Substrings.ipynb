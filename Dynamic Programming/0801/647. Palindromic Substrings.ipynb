{
 "cells": [
  {
   "cell_type": "raw",
   "metadata": {},
   "source": [
    "    给定一个字符串，您的任务是计算该字符串中有多少个回文子字符串。\n",
    "    即使起始索引或终止索引不同的子字符串由相同的字符组成，也将被计为不同的子字符串。\n",
    "    \n",
    "    例1：\n",
    "        Input: \"abc\"\n",
    "        Output: 3\n",
    "        Explanation: Three palindromic strings: \"a\", \"b\", \"c\".\n",
    "   例2：\n",
    "        Input: \"aaa\"\n",
    "        Output: 6\n",
    "        Explanation: Six palindromic strings: \"a\", \"a\", \"a\", \"aa\", \"aa\", \"aaa\"."
   ]
  },
  {
   "cell_type": "code",
   "execution_count": 43,
   "metadata": {},
   "outputs": [],
   "source": [
    "class Solution:\n",
    "    def countSubstrings(self, s: str) -> int:\n",
    "        dp = [[0] * len(s) for _ in range(len(s))]\n",
    "        \n",
    "        count = 0\n",
    "        for i in range(len(s)):\n",
    "            dp[i][i] = 1\n",
    "            count += 1\n",
    "        \n",
    "        for gap in range(1, len(s)):\n",
    "            for start in range(len(s) - gap):\n",
    "                end = start + gap\n",
    "                if s[start] == s[end]:\n",
    "                    if gap <= 2:\n",
    "                        dp[start][end] = 1\n",
    "                        count += 1\n",
    "                    elif gap > 2 and dp[start+1][end-1] != 0:\n",
    "                        dp[start][end] = 1\n",
    "                        count += 1\n",
    "        print(dp)\n",
    "        return count"
   ]
  },
  {
   "cell_type": "code",
   "execution_count": 44,
   "metadata": {},
   "outputs": [
    {
     "name": "stdout",
     "output_type": "stream",
     "text": [
      "[[1, 1, 1, 1, 1], [0, 1, 1, 1, 1], [0, 0, 1, 1, 1], [0, 0, 0, 1, 1], [0, 0, 0, 0, 1]]\n"
     ]
    },
    {
     "data": {
      "text/plain": [
       "15"
      ]
     },
     "execution_count": 44,
     "metadata": {},
     "output_type": "execute_result"
    }
   ],
   "source": [
    "s_ = \"aaaaa\"\n",
    "solution = Solution()\n",
    "solution.countSubstrings(s_)"
   ]
  },
  {
   "cell_type": "code",
   "execution_count": null,
   "metadata": {},
   "outputs": [],
   "source": [
    "[[1, 1, 1, 0, 1], \n",
    " [0, 1, 1, 1, 0], \n",
    " [0, 0, 1, 1, 1], \n",
    " [0, 0, 0, 1, 1], \n",
    " [0, 0, 0, 0, 1]]\n"
   ]
  }
 ],
 "metadata": {
  "kernelspec": {
   "display_name": "TF2",
   "language": "python",
   "name": "tf2"
  },
  "language_info": {
   "codemirror_mode": {
    "name": "ipython",
    "version": 3
   },
   "file_extension": ".py",
   "mimetype": "text/x-python",
   "name": "python",
   "nbconvert_exporter": "python",
   "pygments_lexer": "ipython3",
   "version": "3.6.2"
  }
 },
 "nbformat": 4,
 "nbformat_minor": 4
}
