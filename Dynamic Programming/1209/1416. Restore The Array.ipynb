{
 "cells": [
  {
   "cell_type": "code",
   "execution_count": null,
   "metadata": {},
   "outputs": [],
   "source": []
  },
  {
   "cell_type": "raw",
   "metadata": {},
   "source": [
    "提示：\n",
    "    1 <= s.length <= 10^5.\n",
    "    s 只包含数字且不包含前导 0 。\n",
    "    1 <= k <= 10^9."
   ]
  },
  {
   "cell_type": "code",
   "execution_count": 26,
   "metadata": {},
   "outputs": [],
   "source": [
    "class Solution:\n",
    "    def numberOfArrays(self, s: str, k: int) -> int:\n",
    "        n = len(s)\n",
    "        dp = [0] * (1 + n) # 记录 长度为 i 的 s 有效分割的可能性总数\n",
    "        dp[0] = 1\n",
    "        mod = pow(10, 9) + 7\n",
    "        for i in range(1, n+1):\n",
    "            for j in range(i-1, -1, -1):\n",
    "                if s[j] == '0': # 首字母不能为 0 \n",
    "                    continue\n",
    "                if int(s[j:i]) <= k:\n",
    "                    dp[i] += dp[j]\n",
    "                else:\n",
    "                    # 有一点优化，如果当前字符是0，且与前面的第一个非0字符构成的数字大于k，那么说明往后不能再构成数字了，直接返回0\n",
    "                    # s[i-1] 表示的是 s 的当前值，并且如果 dp[i] == 0的话，说明，这个位置没有贡献\n",
    "                    # dp[i] == 0 说明 s[j:i] 中全部都为0，只有首字母不为 0： “10000000000”\n",
    "                    # 这个时候后面无论跟什么数字，都不可能有效了\n",
    "                    if s[i-1] == '0' and dp[i] == 0:\n",
    "                        print(s[j:i], s[i], s[i-1], i, '1')\n",
    "                        return 0\n",
    "                    break\n",
    "            dp[i] %= mod\n",
    "        return dp[-1] % mod"
   ]
  },
  {
   "cell_type": "code",
   "execution_count": 27,
   "metadata": {},
   "outputs": [
    {
     "name": "stdout",
     "output_type": "stream",
     "text": [
      "100 0 0 3 1\n"
     ]
    },
    {
     "data": {
      "text/plain": [
       "0"
      ]
     },
     "execution_count": 27,
     "metadata": {},
     "output_type": "execute_result"
    }
   ],
   "source": [
    "solution = Solution()\n",
    "solution.numberOfArrays(s = \"1000000\", k = 20)"
   ]
  },
  {
   "cell_type": "code",
   "execution_count": null,
   "metadata": {},
   "outputs": [],
   "source": []
  },
  {
   "cell_type": "code",
   "execution_count": null,
   "metadata": {},
   "outputs": [],
   "source": []
  },
  {
   "cell_type": "code",
   "execution_count": null,
   "metadata": {},
   "outputs": [],
   "source": [
    "class Solution:\n",
    "    def numberOfArrays(self, s: str, k: int) -> int:\n",
    "        '''\n",
    "        dp思路dp[i] 表示s[i:]能组成的结果.\n",
    "        我们用str'1317' 举例，反向历遍dp。 当i = 3 表示s[3] = '7' 的所有输出可能概率。\n",
    "        当s[3] 表示的值大于k 那么这一系列的结果就都会大于k 返回0， dp[3] = 0 \n",
    "        当s[3] 表示的值小于k 那么就表示s[3:4]'7' 这个字符 加上空字符''的结果. 所以dp[3] = dp[4]\n",
    "        空字符''返回结果为1, dp[4] = 1. \n",
    "        当s[2] 表示的值大于k 那么这一系列的结果就都会大于k 返回0， dp[2] = 0 \n",
    "        当s[2] 表示的值小于k 那么表示s[2:3]'1' 这个字符 加上s[3]'7' 这个字符的结果 dp[2] = dp[2] + dp[3]\n",
    "        同在s[2]这个节点下， s[2:4]'17' 表示的值小于k 这个字符 加上空字符'' 的结果 dp[2] = dp[2] + dp[4] \n",
    "        最终s[2] 的所有情况为 dp[2] = dp[2] + dp[3] + dp[4] .初始dp[2] = 0. 换算为 dp[2] = dp[3] + dp[4] \n",
    "        假设同在s[2]这个节点下，s[2:4]'17' 这个字符的值大于k， 则s[2:4]'17' 情况下 dp[2] = 0\n",
    "        最终s[2] 的所有情况为 dp[2] = dp[2] + dp[3].初始dp[2] = 0. 换算为 dp[2] = dp[3]\n",
    "        一次类推\n",
    "        '''\n",
    "        n, mod = len(s), 1000000007\n",
    "        dp = [0] * (n + 1)\n",
    "        dp[-1] = 1\n",
    "        print(s[2:4])\n",
    "        for i in range(len(s) - 1 , -1, -1):\n",
    "            if s[i] == '0': \n",
    "                continue\n",
    "            cur = 0\n",
    "            for j in range(i + 1, n + 1):\n",
    "                cur = cur * 10 + int(s[j - 1]) \n",
    "                if cur > k:\n",
    "                    break\n",
    "                dp[i] = (dp[i] + dp[j]) % mod\n",
    "        return dp[0]"
   ]
  },
  {
   "cell_type": "code",
   "execution_count": null,
   "metadata": {},
   "outputs": [],
   "source": []
  }
 ],
 "metadata": {
  "kernelspec": {
   "display_name": "Python 3",
   "language": "python",
   "name": "python3"
  },
  "language_info": {
   "codemirror_mode": {
    "name": "ipython",
    "version": 3
   },
   "file_extension": ".py",
   "mimetype": "text/x-python",
   "name": "python",
   "nbconvert_exporter": "python",
   "pygments_lexer": "ipython3",
   "version": "3.6.2"
  }
 },
 "nbformat": 4,
 "nbformat_minor": 4
}
