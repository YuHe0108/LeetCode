{
 "cells": [
  {
   "cell_type": "raw",
   "metadata": {},
   "source": [
    "说明：\n",
    "    给定s1，s2和s3，找出s3是否由s1和s2的交错形成。"
   ]
  },
  {
   "cell_type": "markdown",
   "metadata": {},
   "source": [
    "    Input: s1 = \"aabcc\", s2 = \"dbbca\", s3 = \"aadbbcbcac\"\n",
    "    Output: true\n",
    "<img src='https://assets.leetcode.com/uploads/2020/09/02/interleave.jpg'>\n",
    "    "
   ]
  },
  {
   "cell_type": "raw",
   "metadata": {},
   "source": [
    "Example 2:\n",
    "    Input: s1 = \"aabcc\", s2 = \"dbbca\", s3 = \"aadbbbaccc\"\n",
    "    Output: false\n",
    "\n",
    "Example 3:\n",
    "    Input: s1 = \"\", s2 = \"\", s3 = \"\"\n",
    "    Output: true\n",
    "\n",
    "Constraints:\n",
    "    1、0 <= s1.length, s2.length <= 100\n",
    "    2、0 <= s3.length <= 200\n",
    "    3、s1, s2, and s3 consist of lower-case English letters."
   ]
  },
  {
   "cell_type": "code",
   "execution_count": 27,
   "metadata": {},
   "outputs": [],
   "source": [
    "class Solution:\n",
    "    def isInterleave(self, s1: str, s2: str, s3: str) -> bool:\n",
    "        if not s3 and not s1 and not s2: return True\n",
    "        s1 = '#' + s1\n",
    "        s2 = '#' + s2\n",
    "        s3 = '#' + s3\n",
    "        s1_len, s2_len, s3_len = len(s1), len(s2), len(s3)\n",
    "        if s1_len + s2_len != s3_len: return False\n",
    "        dp = [[False] * s2_len for _ in range(s1_len)]\n",
    "        \n",
    "        dp[0][0] = True\n",
    "        for i in range(1, s1_len):\n",
    "            dp[i][0] = dp[i-1][0] and s1[i] == s3[i]\n",
    "            \n",
    "        for j in range(1, s2_len):\n",
    "            dp[0][j] = dp[0][j-1] and s2[j] == s3[j]\n",
    "        \n",
    "        for i in range(1, s1_len):\n",
    "            for j in range(1, s2_len):\n",
    "                if s3[i + j] == s1[i]:\n",
    "                    dp[i][j] = dp[i-1][j]\n",
    "                elif s3[i + j] == s2[j]:\n",
    "                    dp[i][j] = dp[i][j-1]\n",
    "        print(dp)\n",
    "        return dp[-1][-1]"
   ]
  },
  {
   "cell_type": "code",
   "execution_count": 28,
   "metadata": {},
   "outputs": [
    {
     "name": "stdout",
     "output_type": "stream",
     "text": [
      "[[True, True, True, False], [True, True, False, False], [False, True, True, True], [False, False, False, True]]\n"
     ]
    },
    {
     "data": {
      "text/plain": [
       "True"
      ]
     },
     "execution_count": 28,
     "metadata": {},
     "output_type": "execute_result"
    }
   ],
   "source": [
    "s1_ = \"axy\"\n",
    "s2_ = \"aab\"\n",
    "s3_ = \"aaxaby\"\n",
    "solution = Solution()\n",
    "solution.isInterleave(s1_, s2_, s3_)"
   ]
  },
  {
   "cell_type": "code",
   "execution_count": 20,
   "metadata": {},
   "outputs": [
    {
     "data": {
      "text/plain": [
       "[[True, True, True, False],\n",
       " [True, True, False, False],\n",
       " [False, True, True, True],\n",
       " [False, True, False, True]]"
      ]
     },
     "execution_count": 20,
     "metadata": {},
     "output_type": "execute_result"
    }
   ],
   "source": [
    "[[True, True, True, False], \n",
    " [True, True, False, False], \n",
    " [False, True, True, True], \n",
    " [False, True, False, True]]"
   ]
  },
  {
   "cell_type": "code",
   "execution_count": null,
   "metadata": {},
   "outputs": [],
   "source": [
    "class Solution:\n",
    "    def isInterleave(self, s1: str, s2: str, s3: str) -> bool:\n",
    "        r, c, l= len(s1), len(s2), len(s3)\n",
    "        if r+c != l:\n",
    "            return False\n",
    "        dp = [True,] * (c+1)\n",
    "        for j in range(1, c+1):\n",
    "            dp[j] = dp[j-1] and s2[j-1] == s3[j-1]\n",
    "        for i in range(1, r+1):\n",
    "            dp[0] = (dp[0] and s1[i-1] == s3[i-1])\n",
    "            for j in range(1, c+1):\n",
    "                dp[j] = (dp[j] and s1[i-1] == s3[i-1+j]) or (dp[j-1] and s2[j-1] == s3[i-1+j])\n",
    "        return dp[-1]"
   ]
  },
  {
   "cell_type": "code",
   "execution_count": null,
   "metadata": {},
   "outputs": [],
   "source": [
    "class Solution:\n",
    "    def isInterleave(self, a: str, b: str, x: str) -> bool:\n",
    "        m, n = len(a), len(b)\n",
    "        if m + n != len(x): return False\n",
    "        if not m and not n: return not x\n",
    "        dp = [[False] * (n + 1) for i in range(m + 1)]\n",
    "        dp[0][0] = True\n",
    "        \n",
    "        for i in range(1, n + 1):\n",
    "            dp[0][i] = x[:i] == b[:i]\n",
    "        for i in range(1, m + 1):\n",
    "            dp[i][0] = x[:i] == a[:i]\n",
    "        \n",
    "        for i in range(1, m + 1):\n",
    "            for j in range(1, n + 1):\n",
    "                if (dp[i - 1][j] and x[i + j - 1] == a[i - 1]) or (dp[i][j - 1] and x[i + j - 1] == b[j - 1]):\n",
    "                    dp[i][j] = True\n",
    "        return dp[-1][-1]                "
   ]
  },
  {
   "cell_type": "code",
   "execution_count": null,
   "metadata": {},
   "outputs": [],
   "source": [
    "class Solution:\n",
    "    def isInterleave(self, s1: str, s2: str, s3: str) -> bool:\n",
    "        if not s3 and not s1 and not s2: return True\n",
    "        s1 = '#' + s1\n",
    "        s2 = '#' + s2\n",
    "        s3 = '#' + s3\n",
    "        s1_len, s2_len, s3_len = len(s1), len(s2), len(s3)\n",
    "        if s1_len + s2_len != s3_len: return False\n",
    "        dp = [[False] * s2_len for _ in range(s1_len)]\n",
    "        \n",
    "        dp[0][0] = True\n",
    "        for i in range(1, s1_len):\n",
    "            dp[i][0] = dp[i-1][0] and s1[i] == s3[i]\n",
    "            \n",
    "        for j in range(1, s2_len):\n",
    "            dp[0][j] = dp[0][j-1] and s2[j] == s3[j]\n",
    "        \n",
    "        for i in range(1, s1_len):\n",
    "            for j in range(1, s2_len):\n",
    "                if s3[i + j] == s1[i]:\n",
    "                    dp[i][j] = dp[i-1][j]\n",
    "                elif s3[i + j] == s2[j]:\n",
    "                    dp[i][j] = dp[i][j-1]\n",
    "        print(dp)\n",
    "        return dp[-1][-1]"
   ]
  },
  {
   "cell_type": "code",
   "execution_count": null,
   "metadata": {},
   "outputs": [],
   "source": [
    "class Solution:\n",
    "    def isInterleave(self, a: str, b: str, x: str) -> bool:\n",
    "        m, n = len(a), len(b)\n",
    "        if m + n != len(x): return False\n",
    "        if not m and not n: return not x\n",
    "        dp = [[False] * (n + 1) for i in range(m + 1)]\n",
    "        dp[0][0] = True\n",
    "        \n",
    "        for i in range(1, n + 1):\n",
    "            dp[0][i] = x[:i] == b[:i]\n",
    "        for i in range(1, m + 1):\n",
    "            dp[i][0] = x[:i] == a[:i]\n",
    "        \n",
    "        for i in range(1, m + 1):\n",
    "            for j in range(1, n + 1):\n",
    "                if (dp[i - 1][j] and x[i + j - 1] == a[i - 1]) or (dp[i][j - 1] and x[i + j - 1] == b[j - 1]):\n",
    "                    dp[i][j] = True\n",
    "        return dp[-1][-1]                "
   ]
  }
 ],
 "metadata": {
  "kernelspec": {
   "display_name": "Python 3",
   "language": "python",
   "name": "python3"
  },
  "language_info": {
   "codemirror_mode": {
    "name": "ipython",
    "version": 3
   },
   "file_extension": ".py",
   "mimetype": "text/x-python",
   "name": "python",
   "nbconvert_exporter": "python",
   "pygments_lexer": "ipython3",
   "version": "3.6.2"
  }
 },
 "nbformat": 4,
 "nbformat_minor": 4
}
