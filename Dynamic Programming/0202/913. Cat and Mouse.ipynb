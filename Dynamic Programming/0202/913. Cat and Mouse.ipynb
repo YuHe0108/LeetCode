{
 "cells": [
  {
   "cell_type": "code",
   "execution_count": null,
   "metadata": {},
   "outputs": [],
   "source": []
  },
  {
   "cell_type": "code",
   "execution_count": null,
   "metadata": {},
   "outputs": [],
   "source": []
  },
  {
   "cell_type": "code",
   "execution_count": null,
   "metadata": {},
   "outputs": [],
   "source": []
  },
  {
   "cell_type": "code",
   "execution_count": 5,
   "metadata": {},
   "outputs": [],
   "source": [
    "from typing import List\n",
    "from collections import defaultdict\n",
    "from functools import lru_cache\n",
    "\n",
    "class Solution:\n",
    "    def catMouseGame(self, graph: List[List[int]]) -> int:\n",
    "        @lru_cache(None)\n",
    "        def dfs(mouse, cat, step):\n",
    "            if step > len(graph) * 2:\n",
    "                return 0\n",
    "            if cat == mouse:\n",
    "                return 2\n",
    "            if mouse == 0:\n",
    "                return 1\n",
    "            \n",
    "            if step % 2 == 0:# 老鼠行动\n",
    "                draw = False\n",
    "                for nm in graph[mouse]:\n",
    "                    ans = dfs(nm, cat, step + 1)\n",
    "                    if ans == 0:\n",
    "                        draw = True\n",
    "                    elif ans == 1:\n",
    "                        return 1\n",
    "                return 0 if draw else 2\n",
    "            else:\n",
    "                draw = False\n",
    "                for nc in graph[cat]:\n",
    "                    if nc == 0:\n",
    "                        continue\n",
    "                    ans = dfs(mouse, nc, step + 1)\n",
    "                    if ans == 0:\n",
    "                        draw = True\n",
    "                    elif ans == 2:\n",
    "                        return 2\n",
    "                return 0 if draw else 1\n",
    "        \n",
    "        return dfs(1, 2, 0)"
   ]
  },
  {
   "cell_type": "code",
   "execution_count": null,
   "metadata": {},
   "outputs": [],
   "source": []
  },
  {
   "cell_type": "code",
   "execution_count": null,
   "metadata": {},
   "outputs": [],
   "source": []
  },
  {
   "cell_type": "code",
   "execution_count": 20,
   "metadata": {},
   "outputs": [],
   "source": [
    "from typing import List\n",
    "from collections import defaultdict, deque\n",
    "\n",
    "class Solution:\n",
    "    def catMouseGame(self, graph: List[List[int]]) -> int:\n",
    "        # 用 已知 推 未知\n",
    "        def getPreState(m, c, t):\n",
    "            pos = []\n",
    "            if t == 1: # 如果当前轮到老鼠走，那么前一步是轮到猫走\n",
    "                for nc in graph[c]:\n",
    "                    if nc == 0:\n",
    "                        continue\n",
    "                    pos.append((m, nc, 2))\n",
    "            else:\n",
    "                for nm in graph[m]:\n",
    "                    pos.append((nm, c, 1))\n",
    "            return pos\n",
    "        \n",
    "        def mustLoss(m, c, t):\n",
    "            if t == 1:\n",
    "                for nm in graph[m]:\n",
    "                    if res[(nm, c, 2)] != 2:\n",
    "                        return False\n",
    "            else:\n",
    "                for nc in graph[c]:\n",
    "                    if nc == 0:\n",
    "                        continue\n",
    "                    if res[(m, nc, 1)] != 1:\n",
    "                        return False\n",
    "            return True\n",
    "        \n",
    "        res = defaultdict(int) # 记录每个状态的输赢\n",
    "        queue = deque()\n",
    "        n = len(graph)\n",
    "        for t in range(1, 3): # 1: mouse move, 2: cat move\n",
    "            for i in range(1, n):\n",
    "                res[(0, i, t)] = 1 # 如果是1，就是老鼠赢\n",
    "                queue.append((0, i, t))\n",
    "                res[(i, i, t)] = 2 # 如果是2，就是猫赢\n",
    "                queue.append((i, i, t))\n",
    "                \n",
    "        while queue:\n",
    "            m, c, t = queue.popleft()\n",
    "            ans = res[(m, c, t)] # 当前状态的结果，是已经知道谁赢谁输的\n",
    "            \n",
    "            for pre in getPreState(m, c, t): # 用当前的状态推导之前的状态\n",
    "                m2, c2, t2 = pre # 先前的一个状态\n",
    "                \n",
    "                if res[pre] != 0:\n",
    "                    continue\n",
    "                \n",
    "                if ans == t2:\n",
    "                    res[pre] = ans\n",
    "                    queue.append(pre)\n",
    "                elif mustLoss(m2, c2, t2):\n",
    "                    res[pre] = 3 - t2\n",
    "                    queue.append(pre)\n",
    "        \n",
    "        return res[(1, 2, 1)] # 初始位置为(1,2,1)"
   ]
  },
  {
   "cell_type": "code",
   "execution_count": 21,
   "metadata": {},
   "outputs": [
    {
     "data": {
      "text/plain": [
       "1"
      ]
     },
     "execution_count": 21,
     "metadata": {},
     "output_type": "execute_result"
    }
   ],
   "source": [
    "solution = Solution()\n",
    "solution.catMouseGame([[1,3],[0],[3],[0,2]])"
   ]
  },
  {
   "cell_type": "code",
   "execution_count": null,
   "metadata": {},
   "outputs": [],
   "source": []
  }
 ],
 "metadata": {
  "kernelspec": {
   "display_name": "Python 3",
   "language": "python",
   "name": "python3"
  },
  "language_info": {
   "codemirror_mode": {
    "name": "ipython",
    "version": 3
   },
   "file_extension": ".py",
   "mimetype": "text/x-python",
   "name": "python",
   "nbconvert_exporter": "python",
   "pygments_lexer": "ipython3",
   "version": "3.6.2"
  }
 },
 "nbformat": 4,
 "nbformat_minor": 4
}
