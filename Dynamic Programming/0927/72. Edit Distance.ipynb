{
 "cells": [
  {
   "cell_type": "raw",
   "metadata": {},
   "source": [
    "说明：\n",
    "    给定两个单词word1和word2，找到将word1转换为word2所需的最小操作数。\n",
    "    您可以对一个单词进行以下3个操作：\n",
    "    1、插入一个字符\n",
    "    2、删除一个字符\n",
    "    3、替换一个字符\n",
    "\n",
    "Example 1:\n",
    "    Input: word1 = \"horse\", word2 = \"ros\"\n",
    "    Output: 3\n",
    "    Explanation: \n",
    "        horse -> rorse (replace 'h' with 'r')\n",
    "        rorse -> rose (remove 'r')\n",
    "        rose -> ros (remove 'e')\n",
    "\n",
    "Example 2:\n",
    "    Input: word1 = \"intention\", word2 = \"execution\"\n",
    "    Output: 5\n",
    "    Explanation: \n",
    "        intention -> inention (remove 't')\n",
    "        inention -> enention (replace 'i' with 'e')\n",
    "        enention -> exention (replace 'n' with 'x')\n",
    "        exention -> exection (replace 'n' with 'c')\n",
    "        exection -> execution (insert 'u')"
   ]
  },
  {
   "cell_type": "code",
   "execution_count": 20,
   "metadata": {},
   "outputs": [],
   "source": [
    "class Solution:\n",
    "    def minDistance(self, w1: str, w2: str) -> int:\n",
    "        w1, w2 = '#' + w1, '#' + w2\n",
    "        w1_len, w2_len = len(w1), len(w2)\n",
    "        dp = [[0] * w2_len for _ in range(w1_len)]\n",
    "        \n",
    "        for i in range(1, w1_len):\n",
    "            dp[i][0] = i\n",
    "        \n",
    "        for i in range(1, w2_len):\n",
    "            dp[0][i] = i\n",
    "        \n",
    "        for i in range(1, w1_len):\n",
    "            for j in range(1, w2_len):\n",
    "                if w1[i] == w2[j]:\n",
    "                    dp[i][j] = dp[i-1][j-1]\n",
    "                else:\n",
    "                    dp[i][j] = min(dp[i-1][j] + 1, dp[i][j-1]+1, dp[i-1][j-1] + 1)\n",
    "        return dp[-1][-1]"
   ]
  },
  {
   "cell_type": "code",
   "execution_count": 21,
   "metadata": {},
   "outputs": [
    {
     "data": {
      "text/plain": [
       "3"
      ]
     },
     "execution_count": 21,
     "metadata": {},
     "output_type": "execute_result"
    }
   ],
   "source": [
    "solution = Solution()\n",
    "solution.minDistance('horse', 'ros')"
   ]
  },
  {
   "cell_type": "code",
   "execution_count": null,
   "metadata": {},
   "outputs": [],
   "source": []
  }
 ],
 "metadata": {
  "kernelspec": {
   "display_name": "Python 3",
   "language": "python",
   "name": "python3"
  },
  "language_info": {
   "codemirror_mode": {
    "name": "ipython",
    "version": 3
   },
   "file_extension": ".py",
   "mimetype": "text/x-python",
   "name": "python",
   "nbconvert_exporter": "python",
   "pygments_lexer": "ipython3",
   "version": "3.6.2"
  }
 },
 "nbformat": 4,
 "nbformat_minor": 4
}
