{
 "cells": [
  {
   "cell_type": "raw",
   "metadata": {},
   "source": [
    "说明：\n",
    "    给定一个字符串S和一个字符串T，计算S等于T的不同子序列的数目。\n",
    "    一个字符串的子序列是一个新字符串，它是通过删除一些字符（可以是无字符）而不受干扰的，由原始字符串形成的其余字符的相对位置。 \n",
    "    （即，“ ACE”是“ ABCDE”的子序列，而“ AEC”则不是）。\n",
    "    保证答案适合32位有符号整数。\n",
    "\n",
    "题目描述：\n",
    "    T是一个子字符串，S是一个字符串，查找通过删除S中一些字符串构成的字符串 == T，有几种方式\n",
    "\n",
    "Example 1:\n",
    "    Input: S = \"rabbbit\", T = \"rabbit\"\n",
    "    Output: 3\n",
    "    Explanation:\n",
    "            As shown below, there are 3 ways you can generate \"rabbit\" from S.\n",
    "            (The caret symbol ^ means the chosen letters)\n",
    "    rabbbit\n",
    "    ^^^^ ^^\n",
    "    rabbbit\n",
    "    ^^ ^^^^\n",
    "    rabbbit\n",
    "    ^^^ ^^^\n",
    "\n",
    "Example 2:\n",
    "    Input: S = \"babgbag\", T = \"bag\"\n",
    "    Output: 5\n",
    "    Explanation:\n",
    "        As shown below, there are 5 ways you can generate \"bag\" from S.\n",
    "        (The caret symbol ^ means the chosen letters)\n",
    "\n",
    "        babgbag\n",
    "        ^^ ^\n",
    "        babgbag\n",
    "        ^^    ^\n",
    "        babgbag\n",
    "        ^    ^^\n",
    "        babgbag\n",
    "          ^  ^^\n",
    "        babgbag\n",
    "            ^^^"
   ]
  },
  {
   "cell_type": "code",
   "execution_count": 11,
   "metadata": {},
   "outputs": [],
   "source": [
    "class Solution:\n",
    "    def numDistinct(self, s: str, t: str) -> int:\n",
    "        if len(s) < len(t): return 0\n",
    "        if not t: return 1\n",
    "        s = '#' + s\n",
    "        t = '#' + t\n",
    "        \n",
    "        dp = [[0] * len(t) for _ in range(len(s))]\n",
    "        \n",
    "        for i in range(len(s)):\n",
    "            dp[i][0] = 1\n",
    "        for i in range(1, len(s)):\n",
    "            for j in range(1, len(t)):\n",
    "                if s[i] == t[j]:\n",
    "                    dp[i][j] += dp[i-1][j-1]\n",
    "                dp[i][j] += dp[i-1][j]\n",
    "        return dp[-1][-1]"
   ]
  },
  {
   "cell_type": "code",
   "execution_count": 12,
   "metadata": {},
   "outputs": [
    {
     "data": {
      "text/plain": [
       "5"
      ]
     },
     "execution_count": 12,
     "metadata": {},
     "output_type": "execute_result"
    }
   ],
   "source": [
    "solution = Solution()\n",
    "solution.numDistinct('babgbag', 'bag')"
   ]
  },
  {
   "cell_type": "code",
   "execution_count": null,
   "metadata": {},
   "outputs": [],
   "source": []
  }
 ],
 "metadata": {
  "kernelspec": {
   "display_name": "Python 3",
   "language": "python",
   "name": "python3"
  },
  "language_info": {
   "codemirror_mode": {
    "name": "ipython",
    "version": 3
   },
   "file_extension": ".py",
   "mimetype": "text/x-python",
   "name": "python",
   "nbconvert_exporter": "python",
   "pygments_lexer": "ipython3",
   "version": "3.6.2"
  }
 },
 "nbformat": 4,
 "nbformat_minor": 4
}
