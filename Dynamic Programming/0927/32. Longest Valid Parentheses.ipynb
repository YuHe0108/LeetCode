{
 "cells": [
  {
   "cell_type": "raw",
   "metadata": {},
   "source": [
    "说明：\n",
    "    给定仅包含字符'（'和'）'的字符串，请找到最长的有效（格式正确）括号子字符串的长度。\n",
    "\n",
    "Example 1:\n",
    "    Input: \"(()\"\n",
    "    Output: 2\n",
    "    Explanation: The longest valid parentheses substring is \"()\"\n",
    "\n",
    "Example 2:\n",
    "    Input: \")()())\"\n",
    "    Output: 4\n",
    "    Explanation: The longest valid parentheses substring is \"()()\"    "
   ]
  },
  {
   "cell_type": "markdown",
   "metadata": {},
   "source": [
    "<img src='32.png' width=800>"
   ]
  },
  {
   "cell_type": "code",
   "execution_count": 10,
   "metadata": {},
   "outputs": [],
   "source": [
    "class Solution:\n",
    "    def longestValidParentheses(self, s: str) -> int:\n",
    "        if not s: return 0\n",
    "        s = '#' + s\n",
    "        dp = [0] * len(s)\n",
    "        for i in range(1, len(s)):\n",
    "            if s[i] == ')' and i - dp[i-1] - 1 >= 0 and s[i-dp[i-1]-1] == '(':\n",
    "                dp[i] = 2 + dp[i-1] + dp[i-dp[i-1]-2]\n",
    "        return dp[-1]"
   ]
  },
  {
   "cell_type": "code",
   "execution_count": 3,
   "metadata": {},
   "outputs": [],
   "source": [
    "class Solution:\n",
    "    def longestValidParentheses(self, s: str) -> int:\n",
    "        stack = []\n",
    "        length = 0\n",
    "        max_len = 0\n",
    "        for i in range(len(s)):\n",
    "            if s[i] == '(':\n",
    "                stack.append(i)\n",
    "            else:\n",
    "                if stack:\n",
    "                    length = i - stack[-1] + 1\n",
    "                    stack.pop()\n",
    "                else:\n",
    "                    length = 0\n",
    "                    stack.append(i)\n",
    "                max_len = max(length, max_len)\n",
    "                print(length)\n",
    "        return max_len"
   ]
  },
  {
   "cell_type": "code",
   "execution_count": 29,
   "metadata": {},
   "outputs": [],
   "source": [
    "class Solution:\n",
    "    def longestValidParentheses(self, s: str) -> int:\n",
    "        l_count, r_count, max_len = 0, 0, 0\n",
    "        for val in s:\n",
    "            if val == '(':\n",
    "                l_count += 1\n",
    "            else:\n",
    "                if l_count < r_count + 1:\n",
    "                    l_count, r_count = 0, 0\n",
    "                else:\n",
    "                    r_count += 1\n",
    "            if l_count == r_count:\n",
    "                max_len = max(max_len, l_count + r_count)\n",
    "                \n",
    "        l_count, r_count = 0, 0\n",
    "        for i in range(len(s)-1, -1, -1):\n",
    "            val = s[i]\n",
    "            if val == ')':\n",
    "                r_count += 1\n",
    "            else:\n",
    "                if l_count + 1 > r_count:\n",
    "                    l_count, r_count = 0, 0\n",
    "                else:\n",
    "                    l_count += 1\n",
    "            if l_count == r_count:\n",
    "                max_len = max(l_count + r_count, max_len)\n",
    "        return max_len"
   ]
  },
  {
   "cell_type": "code",
   "execution_count": 30,
   "metadata": {},
   "outputs": [
    {
     "data": {
      "text/plain": [
       "6"
      ]
     },
     "execution_count": 30,
     "metadata": {},
     "output_type": "execute_result"
    }
   ],
   "source": [
    "solution = Solution()\n",
    "solution.longestValidParentheses('()(())')"
   ]
  },
  {
   "cell_type": "code",
   "execution_count": null,
   "metadata": {},
   "outputs": [],
   "source": []
  }
 ],
 "metadata": {
  "kernelspec": {
   "display_name": "Python 3",
   "language": "python",
   "name": "python3"
  },
  "language_info": {
   "codemirror_mode": {
    "name": "ipython",
    "version": 3
   },
   "file_extension": ".py",
   "mimetype": "text/x-python",
   "name": "python",
   "nbconvert_exporter": "python",
   "pygments_lexer": "ipython3",
   "version": "3.6.2"
  }
 },
 "nbformat": 4,
 "nbformat_minor": 4
}
