{
 "cells": [
  {
   "cell_type": "raw",
   "metadata": {},
   "source": [
    "说明：\n",
    "    给定一个整数数组nums，求索引i和j（i≤j）之间的元素之和（含）。 [i, j]\n",
    "\n",
    "Example:\n",
    "    Given nums = [-2, 0, 3, -5, 2, -1 ]\n",
    "    sumRange(0, 2) -> 1\n",
    "    sumRange(2, 5) -> -1\n",
    "    sumRange(0, 5) -> -3\n",
    " \n",
    "Constraints:\n",
    "    1、You may assume that the array does not change.\n",
    "    2、There are many calls to sumRange function.\n",
    "    3、0 <= nums.length <= 10^4\n",
    "    4、-10^5 <= nums[i] <= 10^5\n",
    "    5、0 <= i <= j < nums.length"
   ]
  },
  {
   "cell_type": "code",
   "execution_count": null,
   "metadata": {},
   "outputs": [],
   "source": [
    "class NumArray:\n",
    "    def __init__(self, nums):\n",
    "        self.nums = [0]\n",
    "        for num in nums:\n",
    "            self.nums.append(self.nums[-1] + num)\n",
    "    \n",
    "    def sum_range(self, i, j):\n",
    "        return self.nums[j+1] - self.nums[i]"
   ]
  },
  {
   "cell_type": "code",
   "execution_count": 3,
   "metadata": {},
   "outputs": [],
   "source": [
    "class NumArray:\n",
    "\n",
    "    def __init__(self, nums):\n",
    "        self.nums = [0]\n",
    "        for num in nums:\n",
    "            self.nums.append(self.num[-1] + nums)\n",
    "\n",
    "    def sumRange(self, i: int, j: int) -> int:\n",
    "        return self.nums[j+1] - self.nums[i]\n",
    "        \n",
    "# Your NumArray object will be instantiated and called as such:\n",
    "# obj = NumArray(nums)\n",
    "# param_1 = obj.sumRange(i,j)"
   ]
  },
  {
   "cell_type": "code",
   "execution_count": null,
   "metadata": {},
   "outputs": [],
   "source": []
  }
 ],
 "metadata": {
  "kernelspec": {
   "display_name": "Python 3",
   "language": "python",
   "name": "python3"
  },
  "language_info": {
   "codemirror_mode": {
    "name": "ipython",
    "version": 3
   },
   "file_extension": ".py",
   "mimetype": "text/x-python",
   "name": "python",
   "nbconvert_exporter": "python",
   "pygments_lexer": "ipython3",
   "version": "3.6.2"
  }
 },
 "nbformat": 4,
 "nbformat_minor": 4
}
