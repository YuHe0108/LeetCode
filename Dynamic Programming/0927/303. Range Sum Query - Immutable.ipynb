{
 "cells": [
  {
   "cell_type": "raw",
   "metadata": {},
   "source": [
    "说明：\n",
    "    给定一个整数数组nums，求索引i和j（i≤j）之间的元素之和（含）。\n",
    "\n",
    "Example:\n",
    "    Given nums = [-2, 0, 3, -5, 2, -1 ]\n",
    "    sumRange(0, 2) -> 1\n",
    "    sumRange(2, 5) -> -1\n",
    "    sumRange(0, 5) -> -3\n",
    " \n",
    "Constraints:\n",
    "    1、You may assume that the array does not change.\n",
    "    2、There are many calls to sumRange function.\n",
    "    3、0 <= nums.length <= 10^4\n",
    "    4、-10^5 <= nums[i] <= 10^5\n",
    "    5、0 <= i <= j < nums.length"
   ]
  }
 ],
 "metadata": {
  "kernelspec": {
   "display_name": "Python 3",
   "language": "python",
   "name": "python3"
  },
  "language_info": {
   "codemirror_mode": {
    "name": "ipython",
    "version": 3
   },
   "file_extension": ".py",
   "mimetype": "text/x-python",
   "name": "python",
   "nbconvert_exporter": "python",
   "pygments_lexer": "ipython3",
   "version": "3.6.2"
  }
 },
 "nbformat": 4,
 "nbformat_minor": 4
}
