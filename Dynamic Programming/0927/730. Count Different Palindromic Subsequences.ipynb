{
 "cells": [
  {
   "cell_type": "raw",
   "metadata": {},
   "source": [
    "说明：\n",
    "    给定字符串S，找到S中不同的非空回文子序列的数目，并以10^9+7为模返回该数字。\n",
    "    通过从S中删除0个或多个字符来获得字符串S的子序列。如果序列与反向序列相同，则为回文序列。\n",
    "    如果有一些i的 A_i != B_i，则两个序列A_1，A_2，...和B_1，B_2，...是不同的。\n",
    "\n",
    "Example 1:\n",
    "    Input: \n",
    "    S = 'bccb'\n",
    "    Output: 6\n",
    "    Explanation: \n",
    "        The 6 different non-empty palindromic subsequences are 'b', 'c', 'bb', 'cc', 'bcb', 'bccb'.\n",
    "        Note that 'bcb' is counted only once, even though it occurs twice.\n",
    "\n",
    "Example 2:\n",
    "    Input: \n",
    "        S = 'abcdabcdabcdabcdabcdabcdabcdabcddcbadcbadcbadcbadcbadcbadcbadcba'\n",
    "    Output: 104860361\n",
    "    Explanation: \n",
    "        There are 3104860382 different non-empty palindromic subsequences, which is 104860361 modulo 10^9 + 7.\n",
    "\n",
    "Note:\n",
    "    1、The length of S will be in the range [1, 1000].\n",
    "    2、Each character S[i] will be in the set {'a', 'b', 'c', 'd'}."
   ]
  },
  {
   "cell_type": "code",
   "execution_count": 12,
   "metadata": {},
   "outputs": [],
   "source": [
    "class Solution:\n",
    "    def countPalindromicSubsequences(self, S: str) -> int:\n",
    "        M = pow(10, 9) + 7\n",
    "        \n",
    "        def dfs(start, end, mem={}):\n",
    "            if (start, end) in mem: \n",
    "                return mem[(start, end)]\n",
    "            count = 0\n",
    "            s = S[start: end+1]\n",
    "            \n",
    "            for x in 'abcd':\n",
    "                try:\n",
    "                    i = s.index(x) + start\n",
    "                    j = s.rindex(x) + start\n",
    "                except:\n",
    "                    continue\n",
    "                    \n",
    "                if i != j:\n",
    "                    count += dfs(i+1, j-1, mem) + 2\n",
    "                else:\n",
    "                    count += 1\n",
    "                    \n",
    "            mem[(start, end)] = count % M\n",
    "            return mem[(start, end)]\n",
    "        \n",
    "        res = dfs(0, len(S) - 1)\n",
    "        return res"
   ]
  },
  {
   "cell_type": "code",
   "execution_count": 18,
   "metadata": {},
   "outputs": [],
   "source": [
    "class Solution:\n",
    "    def countPalindromicSubsequences(self, S: str) -> int:\n",
    "        M = pow(10, 9) + 7\n",
    "        \n",
    "        def dfs(start, end, mem={}):\n",
    "            if (start, end) in mem: return mem[(start, end)]\n",
    "            count = 0\n",
    "            s = S[start:end+1]\n",
    "            for x in 'abcd':\n",
    "                try:\n",
    "                    i = s.index(x) + start\n",
    "                    j = s.rindex(x) + start\n",
    "                except:\n",
    "                    continue\n",
    "                \n",
    "                if i != j:\n",
    "                    count += dfs(i+1, j-1, mem) + 2\n",
    "                else:\n",
    "                    count += 1\n",
    "            mem[(start, end)] = count % M\n",
    "            return mem[(start, end)]\n",
    "        res = dfs(0, len(S) - 1)\n",
    "        return res"
   ]
  },
  {
   "cell_type": "code",
   "execution_count": 19,
   "metadata": {},
   "outputs": [
    {
     "data": {
      "text/plain": [
       "6"
      ]
     },
     "execution_count": 19,
     "metadata": {},
     "output_type": "execute_result"
    }
   ],
   "source": [
    "solution = Solution()\n",
    "solution.countPalindromicSubsequences('bccb')"
   ]
  },
  {
   "cell_type": "code",
   "execution_count": 9,
   "metadata": {},
   "outputs": [],
   "source": [
    "s = ['a']"
   ]
  },
  {
   "cell_type": "code",
   "execution_count": null,
   "metadata": {},
   "outputs": [],
   "source": []
  },
  {
   "cell_type": "code",
   "execution_count": 11,
   "metadata": {},
   "outputs": [
    {
     "ename": "AttributeError",
     "evalue": "'list' object has no attribute 'rindex'",
     "output_type": "error",
     "traceback": [
      "\u001b[1;31m---------------------------------------------------------------------------\u001b[0m",
      "\u001b[1;31mAttributeError\u001b[0m                            Traceback (most recent call last)",
      "\u001b[1;32m<ipython-input-11-1fe1a993eec6>\u001b[0m in \u001b[0;36m<module>\u001b[1;34m\u001b[0m\n\u001b[1;32m----> 1\u001b[1;33m \u001b[0ms\u001b[0m\u001b[1;33m.\u001b[0m\u001b[0mrindex\u001b[0m\u001b[1;33m(\u001b[0m\u001b[1;34m'a'\u001b[0m\u001b[1;33m)\u001b[0m\u001b[1;33m\u001b[0m\u001b[0m\n\u001b[0m",
      "\u001b[1;31mAttributeError\u001b[0m: 'list' object has no attribute 'rindex'"
     ]
    }
   ],
   "source": [
    "s.rindex('a')"
   ]
  }
 ],
 "metadata": {
  "kernelspec": {
   "display_name": "Python 3",
   "language": "python",
   "name": "python3"
  },
  "language_info": {
   "codemirror_mode": {
    "name": "ipython",
    "version": 3
   },
   "file_extension": ".py",
   "mimetype": "text/x-python",
   "name": "python",
   "nbconvert_exporter": "python",
   "pygments_lexer": "ipython3",
   "version": "3.6.2"
  }
 },
 "nbformat": 4,
 "nbformat_minor": 4
}
