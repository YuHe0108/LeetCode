{
 "cells": [
  {
   "cell_type": "raw",
   "metadata": {},
   "source": [
    "说明：\n",
    "    给定字符串S，找到S中不同的非空回文子序列的数目，并以10^9+7为模返回该数字。\n",
    "    通过从S中删除0个或多个字符来获得字符串S的子序列。如果序列与反向序列相同，则为回文序列。\n",
    "    如果有一些i的 A_i != B_i，则两个序列A_1，A_2，...和B_1，B_2，...是不同的。\n",
    "\n",
    "Example 1:\n",
    "    Input: \n",
    "    S = 'bccb'\n",
    "    Output: 6\n",
    "    Explanation: \n",
    "        The 6 different non-empty palindromic subsequences are 'b', 'c', 'bb', 'cc', 'bcb', 'bccb'.\n",
    "        Note that 'bcb' is counted only once, even though it occurs twice.\n",
    "\n",
    "Example 2:\n",
    "    Input: \n",
    "        S = 'abcdabcdabcdabcdabcdabcdabcdabcddcbadcbadcbadcbadcbadcbadcbadcba'\n",
    "    Output: 104860361\n",
    "    Explanation: \n",
    "        There are 3104860382 different non-empty palindromic subsequences, which is 104860361 modulo 10^9 + 7.\n",
    "\n",
    "Note:\n",
    "    1、The length of S will be in the range [1, 1000].\n",
    "    2、Each character S[i] will be in the set {'a', 'b', 'c', 'd'}."
   ]
  },
  {
   "cell_type": "code",
   "execution_count": 1,
   "metadata": {},
   "outputs": [],
   "source": [
    "class Solution:\n",
    "    def countPalindromicSubsequences(self, S: str) -> int:\n",
    "        S = \"#\" + S\n",
    "        dp = [[0] * len(S)]\n",
    "        return dp[-1]"
   ]
  },
  {
   "cell_type": "code",
   "execution_count": 2,
   "metadata": {},
   "outputs": [],
   "source": [
    "solution = Solution()\n",
    "solution.countPalindromicSubsequences('bccb')"
   ]
  },
  {
   "cell_type": "code",
   "execution_count": null,
   "metadata": {},
   "outputs": [],
   "source": []
  }
 ],
 "metadata": {
  "kernelspec": {
   "display_name": "Python 3",
   "language": "python",
   "name": "python3"
  },
  "language_info": {
   "codemirror_mode": {
    "name": "ipython",
    "version": 3
   },
   "file_extension": ".py",
   "mimetype": "text/x-python",
   "name": "python",
   "nbconvert_exporter": "python",
   "pygments_lexer": "ipython3",
   "version": "3.6.2"
  }
 },
 "nbformat": 4,
 "nbformat_minor": 4
}
