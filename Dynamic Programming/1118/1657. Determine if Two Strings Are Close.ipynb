{
 "cells": [
  {
   "cell_type": "raw",
   "metadata": {},
   "source": [
    "    如果可以使用以下操作从一个字符串得到另一个字符串，则认为两个字符串 接近 ：\n",
    "        操作 1：交换任意两个 现有 字符。例如，abcde -> aecdb\n",
    "        操作 2：将一个 现有 字符的每次出现转换为另一个 现有 字符，并对另一个字符执行相同的操作。\n",
    "                例如，aacabb -> bbcbaa（所有 a 转化为 b ，而所有的 b 转换为 a ）\n",
    "    你可以根据需要对任意一个字符串多次使用这两种操作。\n",
    "    给你两个字符串，word1 和 word2 。\n",
    "    如果 word1 和 word2 接近 ，就返回 true ；否则，返回 false 。\n",
    "\n",
    "示例 1：\n",
    "    输入：word1 = \"abc\", word2 = \"bca\"\n",
    "    输出：true\n",
    "    解释：2 次操作从 word1 获得 word2 。\n",
    "         执行操作 1：\"abc\" -> \"acb\"，执行操作 1：\"acb\" -> \"bca\"\n",
    "\n",
    "示例 2：\n",
    "    输入：word1 = \"a\", word2 = \"aa\"\n",
    "    输出：false\n",
    "    解释：不管执行多少次操作，都无法从 word1 得到 word2 ，反之亦然。\n",
    "\n",
    "示例 3：\n",
    "    输入：word1 = \"cabbba\", word2 = \"abbccc\"\n",
    "    输出：true\n",
    "    解释：3 次操作从 word1 获得 word2 。\n",
    "    执行操作 1：\"cabbba\" -> \"caabbb\"\n",
    "    执行操作 2：\"caabbb\" -> \"baaccc\"\n",
    "    执行操作 2：\"baaccc\" -> \"abbccc\"\n",
    "\n",
    "示例 4：\n",
    "    输入：word1 = \"cabbba\", word2 = \"aabbss\"\n",
    "    输出：false\n",
    "    解释：不管执行多少次操作，都无法从 word1 得到 word2 ，反之亦然。\n",
    " \n",
    "提示：\n",
    "    1 <= word1.length, word2.length <= 105\n",
    "    word1 和 word2 仅包含小写英文字母"
   ]
  },
  {
   "cell_type": "code",
   "execution_count": 94,
   "metadata": {},
   "outputs": [],
   "source": [
    "from collections import Counter, defaultdict\n",
    "\n",
    "class Solution:\n",
    "    def closeStrings(self, word1: str, word2: str) -> bool:\n",
    "        n1, n2 = len(word1), len(word2)\n",
    "        if n1 != n2:\n",
    "            return False\n",
    "        c1, c2 = Counter(word1), Counter(word2)\n",
    "        if c1 == c2: \n",
    "            return True\n",
    "        \n",
    "        c1_vals, c2_vals = sorted(c1.values()), sorted(c2.values())\n",
    "        print(c1_vals, c2_vals)\n",
    "        if c1_vals != c2_vals:\n",
    "            return False\n",
    "        for k, v in c1.items():\n",
    "            if k not in c2:\n",
    "                return False\n",
    "        return True"
   ]
  },
  {
   "cell_type": "code",
   "execution_count": 95,
   "metadata": {},
   "outputs": [
    {
     "name": "stdout",
     "output_type": "stream",
     "text": [
      "[1, 2, 2, 3] [1, 2, 2, 3]\n"
     ]
    },
    {
     "data": {
      "text/plain": [
       "True"
      ]
     },
     "execution_count": 95,
     "metadata": {},
     "output_type": "execute_result"
    }
   ],
   "source": [
    "solution = Solution()\n",
    "solution.closeStrings(\"abbzccca\", \"babzzczc\")"
   ]
  },
  {
   "cell_type": "code",
   "execution_count": null,
   "metadata": {},
   "outputs": [],
   "source": []
  },
  {
   "cell_type": "code",
   "execution_count": null,
   "metadata": {},
   "outputs": [],
   "source": [
    "v1, v2 =  defaultdict(list), defaultdict(list)\n",
    "        for k, v in c1.items():\n",
    "            v1[v].append(k)\n",
    "        for k, v in c2.items():\n",
    "            v2[v].append(k)\n",
    "        v1, v2 = sorted(v1.items(), key=lambda x:x[0]), sorted(v2.items(), key=lambda x:x[0])\n",
    "        print(v1, v2)\n",
    "        for i in range(len(v1)):\n",
    "            k1, val_1 = v1[i]\n",
    "            k2, val_2 = v2[i]\n",
    "            if val_1 != val_2:\n",
    "                return False\n",
    "        return True"
   ]
  },
  {
   "cell_type": "code",
   "execution_count": 96,
   "metadata": {},
   "outputs": [],
   "source": [
    "import numpy as np"
   ]
  },
  {
   "cell_type": "code",
   "execution_count": null,
   "metadata": {},
   "outputs": [],
   "source": []
  }
 ],
 "metadata": {
  "kernelspec": {
   "display_name": "Python 3",
   "language": "python",
   "name": "python3"
  },
  "language_info": {
   "codemirror_mode": {
    "name": "ipython",
    "version": 3
   },
   "file_extension": ".py",
   "mimetype": "text/x-python",
   "name": "python",
   "nbconvert_exporter": "python",
   "pygments_lexer": "ipython3",
   "version": "3.6.2"
  }
 },
 "nbformat": 4,
 "nbformat_minor": 4
}
