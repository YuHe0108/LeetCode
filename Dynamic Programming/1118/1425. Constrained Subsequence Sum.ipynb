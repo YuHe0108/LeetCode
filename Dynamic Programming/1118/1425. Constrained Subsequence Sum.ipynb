{
 "cells": [
  {
   "cell_type": "raw",
   "metadata": {},
   "source": [
    "    给你一个整数数组 nums 和一个整数 k ，请你返回 非空 子序列元素和的最大值，子序列需要满足：\n",
    "        子序列中每两个 相邻 的整数 nums[i] 和 nums[j] ，它们在原数组中的下标 i 和 j 满足 i < j 且 j - i <= k 。\n",
    "    数组的子序列定义为：将数组中的若干个数字删除（可以删除 0 个数字），剩下的数字按照原本的顺序排布。\n",
    "\n",
    "示例 1：\n",
    "    输入：nums = [10,2,-10,5,20], k = 2\n",
    "    输出：37\n",
    "    解释：子序列为 [10, 2, 5, 20] 。\n",
    "\n",
    "示例 2：\n",
    "    输入：nums = [-1,-2,-3], k = 1\n",
    "    输出：-1\n",
    "    解释：子序列必须是非空的，所以我们选择最大的数字。\n",
    "\n",
    "示例 3：\n",
    "    输入：nums = [10,-2,-10,-5,20], k = 2\n",
    "    输出：23\n",
    "    解释：子序列为 [10, -2, -5, 20] 。\n",
    " \n",
    "提示：\n",
    "    1 <= k <= nums.length <= 10^5\n",
    "    -10^4 <= nums[i] <= 10^4"
   ]
  },
  {
   "cell_type": "code",
   "execution_count": 33,
   "metadata": {},
   "outputs": [],
   "source": [
    "class Solution:\n",
    "    def constrainedSubsetSum(self, nums, k: int) -> int:\n",
    "        N = len(nums)\n",
    "        dp = [-float('inf')] * N\n",
    "        dp[0] = max(dp[0], nums[0])\n",
    "        for i in range(1, N):\n",
    "            for m in range(max(0, i-k), i):\n",
    "                dp[i] = max(dp[i], nums[i], dp[m] + nums[i])\n",
    "        return max(dp)"
   ]
  },
  {
   "cell_type": "code",
   "execution_count": 121,
   "metadata": {},
   "outputs": [],
   "source": [
    "from sortedcontainers import SortedList\n",
    "\n",
    "class Solution:\n",
    "    def constrainedSubsetSum(self, nums, k: int) -> int:\n",
    "        N = len(nums)\n",
    "        dp = nums[:]\n",
    "        sort_list = SortedList()\n",
    "        for i in range(N):\n",
    "            if len(sort_list) > k and i - k - 1 >= 0:\n",
    "                sort_list.discard(dp[i-k-1])\n",
    "            if sort_list:\n",
    "                mid_val = sort_list.pop()\n",
    "                dp[i] = max(dp[i], nums[i] + mid_val)\n",
    "                sort_list.add(mid_val)\n",
    "            sort_list.add(dp[i])\n",
    "        return max(dp)"
   ]
  },
  {
   "cell_type": "code",
   "execution_count": 269,
   "metadata": {},
   "outputs": [],
   "source": [
    "from collections import deque\n",
    "\n",
    "class Solution:\n",
    "    def constrainedSubsetSum(self, nums, k: int) -> int:\n",
    "        dp = nums[:]\n",
    "        q = deque()\n",
    "        for i, n in enumerate(nums):\n",
    "            while q and i-q[0] > k:\n",
    "                q.popleft()\n",
    "            if q:\n",
    "                dp[i] = max(dp[i], dp[q[0]] + nums[i])\n",
    "            while q and dp[q[-1]] < dp[i]:\n",
    "                q.pop()\n",
    "            q.append(i)\n",
    "        return max(dp)"
   ]
  },
  {
   "cell_type": "code",
   "execution_count": 272,
   "metadata": {},
   "outputs": [
    {
     "data": {
      "text/plain": [
       "-1"
      ]
     },
     "execution_count": 272,
     "metadata": {},
     "output_type": "execute_result"
    }
   ],
   "source": [
    "solution = Solution()\n",
    "solution.constrainedSubsetSum(nums = [-1,-2,-3], k = 1)"
   ]
  },
  {
   "cell_type": "code",
   "execution_count": null,
   "metadata": {},
   "outputs": [],
   "source": []
  },
  {
   "cell_type": "code",
   "execution_count": null,
   "metadata": {},
   "outputs": [],
   "source": []
  },
  {
   "cell_type": "code",
   "execution_count": null,
   "metadata": {},
   "outputs": [],
   "source": []
  },
  {
   "cell_type": "code",
   "execution_count": null,
   "metadata": {},
   "outputs": [],
   "source": []
  },
  {
   "cell_type": "code",
   "execution_count": null,
   "metadata": {},
   "outputs": [],
   "source": []
  },
  {
   "cell_type": "code",
   "execution_count": null,
   "metadata": {},
   "outputs": [],
   "source": []
  },
  {
   "cell_type": "code",
   "execution_count": null,
   "metadata": {},
   "outputs": [],
   "source": []
  },
  {
   "cell_type": "code",
   "execution_count": null,
   "metadata": {},
   "outputs": [],
   "source": []
  },
  {
   "cell_type": "code",
   "execution_count": null,
   "metadata": {},
   "outputs": [],
   "source": []
  },
  {
   "cell_type": "code",
   "execution_count": null,
   "metadata": {},
   "outputs": [],
   "source": []
  },
  {
   "cell_type": "code",
   "execution_count": 93,
   "metadata": {},
   "outputs": [],
   "source": [
    "a = [0, -3]\n",
    "heapq.heapify(a)"
   ]
  },
  {
   "cell_type": "code",
   "execution_count": 94,
   "metadata": {},
   "outputs": [
    {
     "data": {
      "text/plain": [
       "-3"
      ]
     },
     "execution_count": 94,
     "metadata": {},
     "output_type": "execute_result"
    }
   ],
   "source": [
    "heapq.heappop(a)"
   ]
  },
  {
   "cell_type": "code",
   "execution_count": 151,
   "metadata": {},
   "outputs": [],
   "source": [
    "from sortedcontainers import SortedList, SortedSet"
   ]
  },
  {
   "cell_type": "code",
   "execution_count": 152,
   "metadata": {},
   "outputs": [],
   "source": [
    "s_set = SortedSet()"
   ]
  },
  {
   "cell_type": "code",
   "execution_count": 169,
   "metadata": {},
   "outputs": [],
   "source": [
    "for i in [-100, 200, -10, 1, 2, 3,2,-100]:\n",
    "    s_set.add(i)"
   ]
  },
  {
   "cell_type": "code",
   "execution_count": 170,
   "metadata": {},
   "outputs": [
    {
     "name": "stdout",
     "output_type": "stream",
     "text": [
      "SortedSet([-100, -10, 1, 2, 3, 200])\n"
     ]
    },
    {
     "data": {
      "text/plain": [
       "200"
      ]
     },
     "execution_count": 170,
     "metadata": {},
     "output_type": "execute_result"
    }
   ],
   "source": [
    "print(s_set)\n",
    "s_set[-1]"
   ]
  },
  {
   "cell_type": "code",
   "execution_count": null,
   "metadata": {},
   "outputs": [],
   "source": []
  },
  {
   "cell_type": "code",
   "execution_count": null,
   "metadata": {},
   "outputs": [],
   "source": []
  },
  {
   "cell_type": "code",
   "execution_count": null,
   "metadata": {},
   "outputs": [],
   "source": []
  },
  {
   "cell_type": "code",
   "execution_count": 150,
   "metadata": {},
   "outputs": [
    {
     "name": "stdout",
     "output_type": "stream",
     "text": [
      "[-50, -10, 1, 1, 2, 3]\n"
     ]
    }
   ],
   "source": [
    "print(list(my_list.irange(-50, 3)))"
   ]
  },
  {
   "cell_type": "code",
   "execution_count": null,
   "metadata": {},
   "outputs": [],
   "source": []
  },
  {
   "cell_type": "code",
   "execution_count": null,
   "metadata": {},
   "outputs": [],
   "source": []
  },
  {
   "cell_type": "code",
   "execution_count": null,
   "metadata": {},
   "outputs": [],
   "source": []
  },
  {
   "cell_type": "code",
   "execution_count": 136,
   "metadata": {},
   "outputs": [
    {
     "data": {
      "text/plain": [
       "SortedList([-50, -10, 1, 2, 3, 20, 200])"
      ]
     },
     "execution_count": 136,
     "metadata": {},
     "output_type": "execute_result"
    }
   ],
   "source": [
    "my_list"
   ]
  },
  {
   "cell_type": "code",
   "execution_count": 111,
   "metadata": {},
   "outputs": [
    {
     "data": {
      "text/plain": [
       "SortedList([-50, -10, 1, 2, 3, 10, 20])"
      ]
     },
     "execution_count": 111,
     "metadata": {},
     "output_type": "execute_result"
    }
   ],
   "source": [
    "my_list"
   ]
  },
  {
   "cell_type": "code",
   "execution_count": 112,
   "metadata": {},
   "outputs": [],
   "source": [
    "my_list.discard(20)"
   ]
  },
  {
   "cell_type": "code",
   "execution_count": 113,
   "metadata": {},
   "outputs": [
    {
     "data": {
      "text/plain": [
       "SortedList([-50, -10, 1, 2, 3, 10])"
      ]
     },
     "execution_count": 113,
     "metadata": {},
     "output_type": "execute_result"
    }
   ],
   "source": [
    "my_list"
   ]
  },
  {
   "cell_type": "code",
   "execution_count": 137,
   "metadata": {},
   "outputs": [
    {
     "data": {
      "text/plain": [
       "<bound method SortedList.bisect_left of SortedList([-50, -10, 1, 2, 3, 20, 200])>"
      ]
     },
     "execution_count": 137,
     "metadata": {},
     "output_type": "execute_result"
    }
   ],
   "source": [
    "my_list.bisect_left"
   ]
  },
  {
   "cell_type": "code",
   "execution_count": 178,
   "metadata": {},
   "outputs": [],
   "source": [
    "my_list = SortedList()"
   ]
  },
  {
   "cell_type": "code",
   "execution_count": 179,
   "metadata": {},
   "outputs": [],
   "source": [
    "my_list.add(1)\n",
    "my_list.add(100)\n",
    "my_list.add(-20)"
   ]
  },
  {
   "cell_type": "code",
   "execution_count": 180,
   "metadata": {},
   "outputs": [
    {
     "data": {
      "text/plain": [
       "-20"
      ]
     },
     "execution_count": 180,
     "metadata": {},
     "output_type": "execute_result"
    }
   ],
   "source": [
    "my_list.pop(0)"
   ]
  },
  {
   "cell_type": "code",
   "execution_count": 258,
   "metadata": {},
   "outputs": [],
   "source": [
    "from sortedcontainers import SortedList\n",
    "\n",
    "class Solution:\n",
    "    def maxSlidingWindow(self, nums, k: int):\n",
    "        sorted_list = SortedList()\n",
    "        res = []\n",
    "        for i, n in enumerate(nums):\n",
    "            sorted_list.add(n)\n",
    "            if len(sorted_list) == k:\n",
    "                res.append(sorted_list[-1])\n",
    "                sorted_list.discard(nums[i-k+1])\n",
    "        return res"
   ]
  },
  {
   "cell_type": "code",
   "execution_count": 286,
   "metadata": {},
   "outputs": [],
   "source": [
    "class Solution:\n",
    "    def maxSlidingWindow(self, nums, k):\n",
    "        if not nums: return []\n",
    "        n = len(nums)\n",
    "        \n",
    "        queue = []\n",
    "        for i in range(k):\n",
    "            while queue and queue[-1][0] <= nums[i]:\n",
    "                queue.pop()\n",
    "            queue.append((nums[i], i))\n",
    "        \n",
    "        res = [queue[0][0]]\n",
    "        for i in range(k, n):\n",
    "            if i - queue[0][1] >= k:\n",
    "                val = queue.pop(0)\n",
    "                print(i, k, val, queue)\n",
    "            \n",
    "            while queue and queue[-1][0] <= nums[i]:\n",
    "                queue.pop()\n",
    "            \n",
    "            queue.append((nums[i], i))\n",
    "            res.append(queue[0][0])\n",
    "        return res"
   ]
  },
  {
   "cell_type": "code",
   "execution_count": 287,
   "metadata": {},
   "outputs": [
    {
     "name": "stdout",
     "output_type": "stream",
     "text": [
      "3 3 (10, 0) [(9, 1), (8, 2)]\n",
      "4 3 (9, 1) [(8, 2), (7, 3)]\n",
      "5 3 (8, 2) [(7, 3), (6, 4)]\n"
     ]
    },
    {
     "data": {
      "text/plain": [
       "[10, 9, 8, 7]"
      ]
     },
     "execution_count": 287,
     "metadata": {},
     "output_type": "execute_result"
    }
   ],
   "source": [
    "solution = Solution()\n",
    "solution.maxSlidingWindow(nums = [10,9,8,7,6,5], k = 3)"
   ]
  },
  {
   "cell_type": "code",
   "execution_count": null,
   "metadata": {},
   "outputs": [],
   "source": []
  }
 ],
 "metadata": {
  "kernelspec": {
   "display_name": "Python 3",
   "language": "python",
   "name": "python3"
  },
  "language_info": {
   "codemirror_mode": {
    "name": "ipython",
    "version": 3
   },
   "file_extension": ".py",
   "mimetype": "text/x-python",
   "name": "python",
   "nbconvert_exporter": "python",
   "pygments_lexer": "ipython3",
   "version": "3.6.2"
  }
 },
 "nbformat": 4,
 "nbformat_minor": 4
}
