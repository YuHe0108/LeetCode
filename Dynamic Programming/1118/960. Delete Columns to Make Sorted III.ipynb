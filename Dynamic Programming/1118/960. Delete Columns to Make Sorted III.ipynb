{
 "cells": [
  {
   "cell_type": "raw",
   "metadata": {},
   "source": [
    "    给定由 N 个小写字母字符串组成的数组 A，其中每个字符串长度相等。\n",
    "    选取一个删除索引序列，对于 A 中的每个字符串，删除对应每个索引处的字符。\n",
    "    比如，有 A = [\"babca\",\"bbazb\"]，删除索引序列 {0, 1, 4}，删除后 A 为[\"bc\",\"az\"]。\n",
    "    假设，我们选择了一组删除索引 D，那么在执行删除操作之后，最终得到的数组的行中的每个元素都是按字典序排列的。\n",
    "    清楚起见，A[0] 是按字典序排列的（即，A[0][0] <= A[0][1] <= ... <= A[0][A[0].length - 1]），A[1] 是按字典序排列的\n",
    "    （即，A[1][0] <= A[1][1] <= ... <= A[1][A[1].length - 1]），依此类推。\n",
    "    请你返回 D.length 的最小可能值。\n",
    "\n",
    "示例 1：\n",
    "    输入：[\"babca\",\"bbazb\"]\n",
    "    输出：3\n",
    "    解释：\n",
    "        删除 0、1 和 4 这三列后，最终得到的数组是 A = [\"bc\", \"az\"]。\n",
    "        这两行是分别按字典序排列的（即，A[0][0] <= A[0][1] 且 A[1][0] <= A[1][1]）。\n",
    "        注意，A[0] > A[1] —— 数组 A 不一定是按字典序排列的。\n",
    "\n",
    "示例 2：\n",
    "    输入：[\"edcba\"]\n",
    "    输出：4\n",
    "    解释：如果删除的列少于 4 列，则剩下的行都不会按字典序排列。\n",
    "\n",
    "示例 3：\n",
    "    输入：[\"ghi\",\"def\",\"abc\"]\n",
    "    输出：0\n",
    "    解释：所有行都已按字典序排列。\n",
    "\n",
    "提示：\n",
    "    1 <= A.length <= 100\n",
    "    1 <= A[i].length <= 100"
   ]
  },
  {
   "cell_type": "code",
   "execution_count": 10,
   "metadata": {},
   "outputs": [],
   "source": [
    "class Solution:\n",
    "    def minDeletionSize(self, A) -> int:\n",
    "        rows, cols = len(A), len(A[0])\n",
    "        mem = [1] * cols # mem[i] 表示以 s[i] 为结尾的最长升序序列的长度，最短为1\n",
    "        for i in range(1, cols):\n",
    "            for j in range(i):\n",
    "                for k in range(rows+1):\n",
    "                    if k == rows:\n",
    "                        mem[i] = max(mem[i], mem[j] + 1)\n",
    "                    elif A[k][j] > A[k][i]:\n",
    "                        break\n",
    "        return cols - max(mem)"
   ]
  },
  {
   "cell_type": "code",
   "execution_count": 11,
   "metadata": {},
   "outputs": [
    {
     "name": "stdout",
     "output_type": "stream",
     "text": [
      "e d\n",
      "e c\n",
      "d c\n",
      "e b\n",
      "d b\n",
      "c b\n",
      "e a\n",
      "d a\n",
      "c a\n",
      "b a\n"
     ]
    },
    {
     "data": {
      "text/plain": [
       "4"
      ]
     },
     "execution_count": 11,
     "metadata": {},
     "output_type": "execute_result"
    }
   ],
   "source": [
    "solution = Solution()\n",
    "solution.minDeletionSize([\"edcba\"])"
   ]
  },
  {
   "cell_type": "code",
   "execution_count": null,
   "metadata": {},
   "outputs": [],
   "source": [
    "# dp[i] = max(dp[j] + 1) if all A[*][j] <= A[*][i], j < i"
   ]
  }
 ],
 "metadata": {
  "kernelspec": {
   "display_name": "Python 3",
   "language": "python",
   "name": "python3"
  },
  "language_info": {
   "codemirror_mode": {
    "name": "ipython",
    "version": 3
   },
   "file_extension": ".py",
   "mimetype": "text/x-python",
   "name": "python",
   "nbconvert_exporter": "python",
   "pygments_lexer": "ipython3",
   "version": "3.6.2"
  }
 },
 "nbformat": 4,
 "nbformat_minor": 4
}
