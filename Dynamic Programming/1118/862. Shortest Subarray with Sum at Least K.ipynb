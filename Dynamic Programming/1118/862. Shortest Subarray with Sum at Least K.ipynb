{
 "cells": [
  {
   "cell_type": "raw",
   "metadata": {},
   "source": [
    "    返回 A 的最短的非空连续子数组的长度，该子数组的和至少为 K 。\n",
    "    如果没有和至少为 K 的非空子数组，返回 -1 。\n",
    "\n",
    "示例 1：\n",
    "    输入：A = [1], K = 1\n",
    "    输出：1\n",
    "\n",
    "示例 2：\n",
    "    输入：A = [1,2], K = 4\n",
    "    输出：-1\n",
    "\n",
    "示例 3：\n",
    "    输入：A = [2,-1,2], K = 3\n",
    "    输出：3\n",
    " \n",
    "提示：\n",
    "    1 <= A.length <= 50000\n",
    "    -10 ^ 5 <= A[i] <= 10 ^ 5\n",
    "    1 <= K <= 10 ^ 9"
   ]
  },
  {
   "cell_type": "code",
   "execution_count": 51,
   "metadata": {},
   "outputs": [],
   "source": [
    "from collections import deque\n",
    "\n",
    "class Solution:\n",
    "    def shortestSubarray(self, A, K: int) -> int:\n",
    "        n = len(A)\n",
    "        A.insert(0, 0)\n",
    "        presum = [0]\n",
    "        for i in range(1, n+1):\n",
    "            presum.append(presum[-1] + A[i])\n",
    "        \n",
    "        dq = deque([0])\n",
    "        ret = float('inf')\n",
    "        for i in range(1, n+1):\n",
    "            idx = -float('inf')\n",
    "            while dq and presum[i] - presum[dq[0]] >= K:\n",
    "                idx = dq.popleft()\n",
    "            ret = min(ret, i - idx)\n",
    "            while dq and presum[dq[-1]] >= presum[i]:\n",
    "                dq.pop()\n",
    "            dq.append(i)\n",
    "        return ret if ret != float('inf') else -1"
   ]
  },
  {
   "cell_type": "code",
   "execution_count": 52,
   "metadata": {},
   "outputs": [
    {
     "data": {
      "text/plain": [
       "3"
      ]
     },
     "execution_count": 52,
     "metadata": {},
     "output_type": "execute_result"
    }
   ],
   "source": [
    "solution = Solution()\n",
    "solution.shortestSubarray(A = [2,-1,2], K = 3)"
   ]
  },
  {
   "cell_type": "code",
   "execution_count": null,
   "metadata": {},
   "outputs": [],
   "source": []
  }
 ],
 "metadata": {
  "kernelspec": {
   "display_name": "Python 3",
   "language": "python",
   "name": "python3"
  },
  "language_info": {
   "codemirror_mode": {
    "name": "ipython",
    "version": 3
   },
   "file_extension": ".py",
   "mimetype": "text/x-python",
   "name": "python",
   "nbconvert_exporter": "python",
   "pygments_lexer": "ipython3",
   "version": "3.6.2"
  }
 },
 "nbformat": 4,
 "nbformat_minor": 4
}
