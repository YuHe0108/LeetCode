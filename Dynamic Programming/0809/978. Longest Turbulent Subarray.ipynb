{
 "cells": [
  {
   "cell_type": "raw",
   "metadata": {},
   "source": [
    "    A的子阵A[i]，A[i+1]，…，A[j]称为 turbulent：\n",
    "    1、当且仅当对于 i<= k < j，\n",
    "       当k为奇数：A[k] > A[k+1]，当k为偶数时：A[k] < A[k+1]\n",
    "    2、或者，对于 i<= k < j，\n",
    "       当k为偶数：A[k] > A[k+1]，当k为奇数时：A[k] < A[k+1]\n",
    "    也就是说，如果比较符号在子阵列中每个相邻的元素对之间翻转，子阵列就是湍流的。返回a的最大尺寸湍流子阵的长度。\n",
    "    \n",
    "Example 1:\n",
    "    Input: [9,4,2,10,7,8,8,1,9]\n",
    "    Output: 5\n",
    "    Explanation: (A[1] > A[2] < A[3] > A[4] < A[5])\n",
    "\n",
    "Example 2:\n",
    "    Input: [4,8,12,16]\n",
    "    Output: 2\n",
    "\n",
    "Example 3:\n",
    "    Input: [100]\n",
    "    Output: 1"
   ]
  },
  {
   "cell_type": "code",
   "execution_count": 23,
   "metadata": {},
   "outputs": [],
   "source": [
    "class Solution:\n",
    "    def maxTurbulenceSize(self, A) -> int:\n",
    "        size = len(A)\n",
    "        if size < 2: return 1\n",
    "        dp = [2] * size\n",
    "        dp[0] = 1\n",
    "        flag = 1 if A[1] > A[0] else 0\n",
    "        for i in range(1, size):\n",
    "            if A[i] == A[i-1]:\n",
    "                dp[i] = 1\n",
    "                continue\n",
    "            if flag and A[i] < A[i-1]:\n",
    "                dp[i] = dp[i-1] + 1\n",
    "                flag = 0\n",
    "            elif not flag and A[i] > A[i-1]:\n",
    "                dp[i] = dp[i-1] + 1\n",
    "                flag = 1\n",
    "            \n",
    "        return max(dp)"
   ]
  },
  {
   "cell_type": "code",
   "execution_count": 24,
   "metadata": {},
   "outputs": [
    {
     "name": "stdout",
     "output_type": "stream",
     "text": [
      "4\n",
      "2\n"
     ]
    },
    {
     "data": {
      "text/plain": [
       "5"
      ]
     },
     "execution_count": 24,
     "metadata": {},
     "output_type": "execute_result"
    }
   ],
   "source": [
    "nums_ = [9,4,2,10,7,8,8,1,9]\n",
    "solution = Solution()\n",
    "solution.maxTurbulenceSize(nums_)"
   ]
  },
  {
   "cell_type": "code",
   "execution_count": null,
   "metadata": {},
   "outputs": [],
   "source": []
  }
 ],
 "metadata": {
  "kernelspec": {
   "display_name": "TF2",
   "language": "python",
   "name": "tf2"
  },
  "language_info": {
   "codemirror_mode": {
    "name": "ipython",
    "version": 3
   },
   "file_extension": ".py",
   "mimetype": "text/x-python",
   "name": "python",
   "nbconvert_exporter": "python",
   "pygments_lexer": "ipython3",
   "version": "3.6.2"
  }
 },
 "nbformat": 4,
 "nbformat_minor": 4
}
