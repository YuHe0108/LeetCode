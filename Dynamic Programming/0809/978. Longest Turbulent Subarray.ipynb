{
 "cells": [
  {
   "cell_type": "raw",
   "metadata": {},
   "source": [
    "    A的子阵A[i]，A[i+1]，…，A[j]称为 turbulent：\n",
    "    1、当且仅当对于 i<= k < j，\n",
    "       当k为奇数：A[k] > A[k+1]，当k为偶数时：A[k] < A[k+1]\n",
    "    2、或者，对于 i<= k < j，\n",
    "       当k为偶数：A[k] > A[k+1]，当k为奇数时：A[k] < A[k+1]\n",
    "    也就是说，如果比较符号在子阵列中每个相邻的元素对之间翻转，子阵列就是湍流的。返回a的最大尺寸湍流子阵的长度。\n",
    "    \n",
    "Example 1:\n",
    "    Input: [9,4,2,10,7,8,8,1,9]\n",
    "    Output: 5\n",
    "    Explanation: (A[1] > A[2] < A[3] > A[4] < A[5])\n",
    "\n",
    "Example 2:\n",
    "    Input: [4,8,12,16]\n",
    "    Output: 2\n",
    "\n",
    "Example 3:\n",
    "    Input: [100]\n",
    "    Output: 1"
   ]
  },
  {
   "cell_type": "code",
   "execution_count": 5,
   "metadata": {},
   "outputs": [],
   "source": [
    "class Solution:\n",
    "    def maxTurbulenceSize(self, A) -> int:\n",
    "        if len(A) == 0: return 0\n",
    "        dp = [[1] * len(A) for _ in range(len(A))]\n",
    "        for step in range(3, len(A) + 1):\n",
    "            for start in range(len(A) + 1 - step):\n",
    "                end = step + start - 1\n",
    "                print(A[start], A[end], step)\n",
    "        return dp[0][-1]"
   ]
  },
  {
   "cell_type": "code",
   "execution_count": 6,
   "metadata": {},
   "outputs": [
    {
     "name": "stdout",
     "output_type": "stream",
     "text": [
      "9 2 3\n",
      "4 10 3\n",
      "2 7 3\n",
      "10 8 3\n",
      "7 8 3\n",
      "8 1 3\n",
      "8 9 3\n",
      "9 10 4\n",
      "4 7 4\n",
      "2 8 4\n",
      "10 8 4\n",
      "7 1 4\n",
      "8 9 4\n",
      "9 7 5\n",
      "4 8 5\n",
      "2 8 5\n",
      "10 1 5\n",
      "7 9 5\n",
      "9 8 6\n",
      "4 8 6\n",
      "2 1 6\n",
      "10 9 6\n",
      "9 8 7\n",
      "4 1 7\n",
      "2 9 7\n",
      "9 1 8\n",
      "4 9 8\n",
      "9 9 9\n"
     ]
    }
   ],
   "source": [
    "nums_ = [9,4,2,10,7,8,8,1,9]\n",
    "solution = Solution()\n",
    "solution.maxTurbulenceSize(nums_)"
   ]
  },
  {
   "cell_type": "code",
   "execution_count": null,
   "metadata": {},
   "outputs": [],
   "source": []
  }
 ],
 "metadata": {
  "kernelspec": {
   "display_name": "TF2",
   "language": "python",
   "name": "tf2"
  },
  "language_info": {
   "codemirror_mode": {
    "name": "ipython",
    "version": 3
   },
   "file_extension": ".py",
   "mimetype": "text/x-python",
   "name": "python",
   "nbconvert_exporter": "python",
   "pygments_lexer": "ipython3",
   "version": "3.6.2"
  }
 },
 "nbformat": 4,
 "nbformat_minor": 4
}
