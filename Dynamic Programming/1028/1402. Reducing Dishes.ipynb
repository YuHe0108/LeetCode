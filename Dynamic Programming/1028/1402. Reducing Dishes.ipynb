{
 "cells": [
  {
   "cell_type": "raw",
   "metadata": {},
   "source": [
    "说明：\n",
    "    一个厨师收集了他 n 道菜的满意程度 satisfaction ，这个厨师做出每道菜的时间都是 1 单位时间。\n",
    "    一道菜的 「喜爱时间」系数定义为烹饪  这道菜以及之前每道菜所花费的时间  乘以这道菜的满意程度，也就是 time[i]*satisfaction[i] 。\n",
    "    请你返回做完所有菜 「喜爱时间」总和的最大值为多少。\n",
    "    你可以按 任意 顺序安排做菜的顺序，你也可以选择放弃做某些菜来获得更大的总和。\n",
    "\n",
    "\n",
    "示例 1：\n",
    "    输入：satisfaction = [-1,-8,0,5,-9]\n",
    "    输出：14\n",
    "    解释：去掉第二道和最后一道菜，最大的喜爱时间系数和为 (-1*1 + 0*2 + 5*3 = 14) 。每道菜都需要花费 1 单位时间完成。\n",
    "\n",
    "示例 2：\n",
    "    输入：satisfaction = [4,3,2]\n",
    "    输出：20\n",
    "    解释：按照原来顺序相反的时间做菜 (2*1 + 3*2 + 4*3 = 20)\n",
    "\n",
    "示例 3：\n",
    "    输入：satisfaction = [-1,-4,-5]\n",
    "    输出：0\n",
    "    解释：大家都不喜欢这些菜，所以不做任何菜可以获得最大的喜爱时间系数。\n",
    "\n",
    "示例 4：\n",
    "    输入：satisfaction = [-2,5,-1,0,3,-3]\n",
    "    输出：35\n",
    "\n",
    "提示：\n",
    "    1、n == satisfaction.length\n",
    "    2、1 <= n <= 500\n",
    "    3、-10^3 <= satisfaction[i] <= 10^3"
   ]
  },
  {
   "cell_type": "code",
   "execution_count": 1,
   "metadata": {},
   "outputs": [],
   "source": [
    "class Solution:\n",
    "    def maxSatisfaction(self, satisfaction) -> int:\n",
    "        pass"
   ]
  },
  {
   "cell_type": "code",
   "execution_count": null,
   "metadata": {},
   "outputs": [],
   "source": []
  }
 ],
 "metadata": {
  "kernelspec": {
   "display_name": "Python 3",
   "language": "python",
   "name": "python3"
  },
  "language_info": {
   "codemirror_mode": {
    "name": "ipython",
    "version": 3
   },
   "file_extension": ".py",
   "mimetype": "text/x-python",
   "name": "python",
   "nbconvert_exporter": "python",
   "pygments_lexer": "ipython3",
   "version": "3.6.2"
  }
 },
 "nbformat": 4,
 "nbformat_minor": 4
}
