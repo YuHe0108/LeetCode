{
 "cells": [
  {
   "cell_type": "raw",
   "metadata": {},
   "source": [
    "说明：\n",
    "    亚历克斯和李继续他们的石子游戏。\n",
    "    许多堆石子 排成一行，每堆都有正整数颗石子 piles[i]。\n",
    "    游戏以谁手中的石子最多来决出胜负。\n",
    "\n",
    "    亚历克斯和李轮流进行，亚历克斯先开始。\n",
    "    最初，M = 1。\n",
    "    在每个玩家的回合中，该玩家可以拿走剩下的 前 X 堆的所有石子，其中 1 <= X <= 2M。然后，令 M = max(M, X)。\n",
    "    \n",
    "    游戏一直持续到所有石子都被拿走。\n",
    "    假设亚历克斯和李都发挥出最佳水平，返回亚历克斯可以得到的最大数量的石头。\n",
    "\n",
    "示例：\n",
    "    输入：piles = [2,7,9,4,4]\n",
    "    输出：10\n",
    "    解释：\n",
    "        如果亚历克斯在开始时拿走一堆石子，李拿走两堆，接着亚历克斯也拿走两堆。在这种情况下，亚历克斯可以拿到 2 + 4 + 4 = 10 颗石子。 \n",
    "        如果亚历克斯在开始时拿走两堆石子，那么李就可以拿走剩下全部三堆石子。在这种情况下，亚历克斯可以拿到 2 + 7 = 9 颗石子。\n",
    "        所以我们返回更大的 10。 \n",
    " \n",
    "提示：\n",
    "    1、1 <= piles.length <= 100\n",
    "    2、1 <= piles[i] <= 10 ^ 4"
   ]
  },
  {
   "cell_type": "markdown",
   "metadata": {},
   "source": [
    "<img src='1140.jpg'>"
   ]
  },
  {
   "cell_type": "code",
   "execution_count": 81,
   "metadata": {},
   "outputs": [],
   "source": [
    "from collections import defaultdict\n",
    "\n",
    "class Solution:\n",
    "    def stoneGameII(self, piles) -> int:\n",
    "        M, N = 1, len(piles)\n",
    "        self.suf_sum = [0] * (N + 1)\n",
    "        self.seen = defaultdict(int)\n",
    "        for i in range(N-1, -1, -1):\n",
    "            self.suf_sum[i] = self.suf_sum[i+1] + piles[i]\n",
    "        return self.helper(0, 1, piles)\n",
    "    \n",
    "    def helper(self, idx, M, piles):\n",
    "        if idx == len(piles):\n",
    "            return 0 # 已经取完左右的石子\n",
    "        key = (idx, M)\n",
    "        if key in self.seen:\n",
    "            return self.seen[key]\n",
    "        \n",
    "        sum_val = 0\n",
    "        for x in range(1, 2 * M + 1):\n",
    "            if idx + x - 1 >= len(piles): # 当 x = 1时，表示取当前这一堆\n",
    "                break\n",
    "            sum_val += piles[idx + x - 1]\n",
    "            # 所有可能得分-对手收获的得分：self.suf_sum[idx+x] - self.helper(idx+x, max(x, M), piles)\n",
    "            # 留给对手的就是 idx + x\n",
    "            self.seen[key] = max(self.seen[key], sum_val + self.suf_sum[idx+x] - self.helper(idx+x, max(x, M), piles))\n",
    "        return self.seen[key]"
   ]
  },
  {
   "cell_type": "code",
   "execution_count": 82,
   "metadata": {},
   "outputs": [
    {
     "name": "stdout",
     "output_type": "stream",
     "text": [
      "[26, 24, 17, 8, 4, 0]\n"
     ]
    },
    {
     "data": {
      "text/plain": [
       "10"
      ]
     },
     "execution_count": 82,
     "metadata": {},
     "output_type": "execute_result"
    }
   ],
   "source": [
    "solution = Solution()\n",
    "solution.stoneGameII(piles = [2,7,9,4,4])"
   ]
  },
  {
   "cell_type": "code",
   "execution_count": null,
   "metadata": {},
   "outputs": [],
   "source": []
  }
 ],
 "metadata": {
  "kernelspec": {
   "display_name": "Python 3",
   "language": "python",
   "name": "python3"
  },
  "language_info": {
   "codemirror_mode": {
    "name": "ipython",
    "version": 3
   },
   "file_extension": ".py",
   "mimetype": "text/x-python",
   "name": "python",
   "nbconvert_exporter": "python",
   "pygments_lexer": "ipython3",
   "version": "3.6.2"
  }
 },
 "nbformat": 4,
 "nbformat_minor": 4
}
