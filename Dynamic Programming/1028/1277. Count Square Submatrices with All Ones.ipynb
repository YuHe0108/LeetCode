{
 "cells": [
  {
   "cell_type": "raw",
   "metadata": {},
   "source": [
    "说明：\n",
    "    给你一个 m * n 的矩阵，矩阵中的元素不是 0 就是 1，\n",
    "    请你统计并返回其中完全由 1 组成的 正方形 子矩阵的个数。\n",
    "\n",
    "示例 1：\n",
    "    输入：matrix =\n",
    "                    [\n",
    "                      [0,1,1,1],\n",
    "                      [1,1,1,1],\n",
    "                      [0,1,1,1]\n",
    "                    ]\n",
    "    输出：15\n",
    "    解释： \n",
    "        边长为 1 的正方形有 10 个。\n",
    "        边长为 2 的正方形有 4 个。\n",
    "        边长为 3 的正方形有 1 个。\n",
    "        正方形的总数 = 10 + 4 + 1 = 15.\n",
    "\n",
    "示例 2：\n",
    "    输入：matrix = \n",
    "                    [\n",
    "                      [1,0,1],\n",
    "                      [1,1,0],\n",
    "                      [1,1,0]\n",
    "                    ]\n",
    "    输出：7\n",
    "    解释：\n",
    "        边长为 1 的正方形有 6 个。 \n",
    "        边长为 2 的正方形有 1 个。\n",
    "        正方形的总数 = 6 + 1 = 7.\n",
    "\n",
    "提示：\n",
    "    1、1 <= arr.length <= 300\n",
    "    2、1 <= arr[0].length <= 300\n",
    "    3、0 <= arr[i][j] <= 1"
   ]
  },
  {
   "cell_type": "code",
   "execution_count": 34,
   "metadata": {},
   "outputs": [],
   "source": [
    "import copy\n",
    "class Solution:\n",
    "    def countSquares(self, mat) -> int:\n",
    "        rows, cols = len(mat), len(mat[0])\n",
    "        dp = copy.deepcopy(mat)\n",
    "        total = 0\n",
    "        for i in range(rows):\n",
    "            total += dp[i][0]\n",
    "        for j in range(1, cols):\n",
    "            total += dp[0][j]\n",
    "        for i in range(1, rows):\n",
    "            for j in range(1, cols):\n",
    "                if mat[i][j] == 1:\n",
    "                    dp[i][j] = min(dp[i-1][j-1], dp[i-1][j], dp[i][j-1]) + 1\n",
    "                    total += dp[i][j]\n",
    "        return total"
   ]
  },
  {
   "cell_type": "code",
   "execution_count": 37,
   "metadata": {},
   "outputs": [
    {
     "name": "stdout",
     "output_type": "stream",
     "text": [
      "[[1, 1], [1, 2]]\n"
     ]
    },
    {
     "data": {
      "text/plain": [
       "5"
      ]
     },
     "execution_count": 37,
     "metadata": {},
     "output_type": "execute_result"
    }
   ],
   "source": [
    "solution = Solution()\n",
    "solution.countSquares([[1,1],\n",
    "                       [1,1]])"
   ]
  },
  {
   "cell_type": "code",
   "execution_count": null,
   "metadata": {},
   "outputs": [],
   "source": [
    "[[1, 0, 1, 0, 0], \n",
    " [1, 0, 1, 1, 1], \n",
    " [1, 1, 1, 2, 2], \n",
    " [1, 0, 0, 1, 0]]"
   ]
  }
 ],
 "metadata": {
  "kernelspec": {
   "display_name": "Python 3",
   "language": "python",
   "name": "python3"
  },
  "language_info": {
   "codemirror_mode": {
    "name": "ipython",
    "version": 3
   },
   "file_extension": ".py",
   "mimetype": "text/x-python",
   "name": "python",
   "nbconvert_exporter": "python",
   "pygments_lexer": "ipython3",
   "version": "3.6.2"
  }
 },
 "nbformat": 4,
 "nbformat_minor": 4
}
