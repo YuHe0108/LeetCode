{
 "cells": [
  {
   "cell_type": "raw",
   "metadata": {},
   "source": [
    "说明：\n",
    "    爱丽丝和鲍勃一起玩游戏，他们轮流行动。\n",
    "    爱丽丝先手开局。\n",
    "    最初，黑板上有一个数字 N 。\n",
    "    在每个玩家的回合，玩家需要执行以下操作：\n",
    "        1、选出任意x，满足 0 < x < N 且 N % x == 0 。\n",
    "        2、用 N - x 替换黑板上的数字 N 。\n",
    "    如果玩家无法执行这些操作，就会输掉游戏。\n",
    "    只有在爱丽丝在游戏中取得胜利时才返回 True，否则返回 False。\n",
    "    假设两个玩家都以最佳状态参与游戏。\n",
    "\n",
    "示例 1：\n",
    "    输入：2\n",
    "    输出：true\n",
    "    解释：爱丽丝选择 1，鲍勃无法进行操作。\n",
    "\n",
    "示例 2：\n",
    "    输入：3\n",
    "    输出：false\n",
    "    解释：爱丽丝选择 1，鲍勃也选择 1，然后爱丽丝无法进行操作。\n",
    "\n",
    "提示：\n",
    "    1、1 <= N <= 1000"
   ]
  },
  {
   "cell_type": "code",
   "execution_count": 49,
   "metadata": {},
   "outputs": [],
   "source": [
    "class Solution:\n",
    "    def divisorGame(self, N: int) -> bool:\n",
    "        dp = [0] * (N + 1)\n",
    "        for i in range(1, N + 1):\n",
    "            for j in range(1, i // 2 + 1):\n",
    "                if i % j == 0 and dp[i-j] == 0:\n",
    "                    dp[i] = 1\n",
    "                    break\n",
    "        print(dp)\n",
    "        return dp[N]"
   ]
  },
  {
   "cell_type": "code",
   "execution_count": 50,
   "metadata": {},
   "outputs": [
    {
     "name": "stdout",
     "output_type": "stream",
     "text": [
      "[0, 0, 1, 0, 1, 0, 1]\n"
     ]
    },
    {
     "data": {
      "text/plain": [
       "1"
      ]
     },
     "execution_count": 50,
     "metadata": {},
     "output_type": "execute_result"
    }
   ],
   "source": [
    "solution = Solution()\n",
    "solution.divisorGame(6)"
   ]
  },
  {
   "cell_type": "code",
   "execution_count": null,
   "metadata": {},
   "outputs": [],
   "source": []
  }
 ],
 "metadata": {
  "kernelspec": {
   "display_name": "Python 3",
   "language": "python",
   "name": "python3"
  },
  "language_info": {
   "codemirror_mode": {
    "name": "ipython",
    "version": 3
   },
   "file_extension": ".py",
   "mimetype": "text/x-python",
   "name": "python",
   "nbconvert_exporter": "python",
   "pygments_lexer": "ipython3",
   "version": "3.6.2"
  }
 },
 "nbformat": 4,
 "nbformat_minor": 4
}
