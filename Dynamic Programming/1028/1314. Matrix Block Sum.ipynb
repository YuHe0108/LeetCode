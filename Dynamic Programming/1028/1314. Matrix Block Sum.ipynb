{
 "cells": [
  {
   "cell_type": "raw",
   "metadata": {},
   "source": [
    "说明：\n",
    "    给你一个 m * n 的矩阵 mat 和一个整数 K ，请你返回一个矩阵 answer ，\n",
    "    其中每个 answer[i][j] 是所有满足下述条件的元素 mat[r][c] 的和： \n",
    "        1、i - K <= r <= i + K, j - K <= c <= j + K \n",
    "        2、(r, c) 在矩阵内。\n",
    "\n",
    "示例 1：\n",
    "    输入：mat = [[1,2,3],\n",
    "                 [4,5,6],\n",
    "                 [7,8,9]], K = 1\n",
    "    输出：[[12,21,16],[27,45,33],[24,39,28]]\n",
    "\n",
    "示例 2：\n",
    "    输入：mat = [[1,2,3],[4,5,6],[7,8,9]], K = 2\n",
    "    输出：[[45,45,45],[45,45,45],[45,45,45]]\n",
    "\n",
    "提示：\n",
    "    1、m == mat.length\n",
    "    2、n == mat[i].length\n",
    "    3、1 <= m, n, K <= 100\n",
    "    4、1 <= mat[i][j] <= 100"
   ]
  },
  {
   "cell_type": "markdown",
   "metadata": {},
   "source": [
    "#### ?区域的面积就相当于pre[r2][c2] - pre[r1][c2] - pre[r2][c1] + pre[r1][c1]，其中pre[i][j]表示(i,j)位置的区域前缀和。\n",
    "<img src='https://raw.githubusercontent.com/wiki/luliyucoordinate/ImageBed/1314/2020_1_14_1.png'>"
   ]
  },
  {
   "cell_type": "code",
   "execution_count": null,
   "metadata": {},
   "outputs": [],
   "source": [
    "class Solution:\n",
    "    def matrixBlockSum(self, mat: List[List[int]], K: int) -> List[List[int]]:\n",
    "        m, n = len(mat), len(mat[0])\n",
    "        mat[:] = [[0] * (n + 1)] + [[0] + row for row in mat]\n",
    "        res = [[0] * n for i in range(m)]\n",
    "\n",
    "        for i in range(1, m + 1):\n",
    "            for j in range(1, n + 1):\n",
    "                mat[i][j] += mat[i - 1][j] + mat[i][j - 1] - mat[i - 1][j - 1]\n",
    "                \n",
    "        for i in range(m):\n",
    "            for j in range(n):\n",
    "                r1, r2 = max(i - K, 0), min(i + K + 1, m)\n",
    "                c1, c2 = max(j - K, 0), min(j + K + 1, n)\n",
    "                res[i][j] = mat[r2][c2] - mat[r2][c1] - mat[r1][c2] + mat[r1][c1]\n",
    "        return res"
   ]
  },
  {
   "cell_type": "code",
   "execution_count": 39,
   "metadata": {},
   "outputs": [],
   "source": [
    "class Solution:\n",
    "    def matrixBlockSum(self, mat, K: int):\n",
    "        rows, cols = len(mat), len(mat[0])\n",
    "        mat[:] = [[0] * (cols + 1)] + [[0] + row for row in mat]\n",
    "        res = [[0] * cols for _ in range(rows)]\n",
    "        \n",
    "        for i in range(1, rows+1):\n",
    "            for j in range(1, cols+1):\n",
    "                mat[i][j] += mat[i-1][j] + mat[i][j-1] - mat[i-1][j-1]\n",
    "        print(mat)\n",
    "        for i in range(rows):\n",
    "            for j in range(cols):\n",
    "                r1, r2 = max(i-K, 0), min(i+K+1, rows)\n",
    "                c1, c2 = max(j-K, 0), min(j+K+1, cols)\n",
    "                res[i][j] = mat[r2][c2] - mat[r2][c1] - mat[r1][c2] + mat[r1][c1]\n",
    "        return res"
   ]
  },
  {
   "cell_type": "code",
   "execution_count": 45,
   "metadata": {},
   "outputs": [],
   "source": [
    "class Solution:\n",
    "    def matrixBlockSum(self, mat, K):\n",
    "        r, c = len(mat), len(mat[0])\n",
    "        pre = [[0] * (c + 1) for _ in range(r + 1)]\n",
    "        for i in range(r):\n",
    "            for j in range(c):\n",
    "                pre[i + 1][j + 1] = pre[i + 1][j] + pre[i][j + 1] - pre[i][j] + mat[i][j]\n",
    "        \n",
    "        res = [[0] * c for _ in range(r)]        \n",
    "        for i in range(r):\n",
    "            for j in range(c):\n",
    "                r1, c1, r2, c2 = max(0, i - K), max(0, j - K), min(r, i + K + 1), min(c, j + K + 1)\n",
    "                res[i][j] = pre[r2][c2] - pre[r1][c2] - pre[r2][c1] + pre[r1][c1]\n",
    "        return res"
   ]
  },
  {
   "cell_type": "code",
   "execution_count": 46,
   "metadata": {},
   "outputs": [
    {
     "name": "stdout",
     "output_type": "stream",
     "text": [
      "[[0, 0, 0, 0], [0, 1, 3, 6], [0, 5, 12, 21], [0, 12, 27, 45]]\n"
     ]
    },
    {
     "data": {
      "text/plain": [
       "[[45, 45, 45], [45, 45, 45], [45, 45, 45]]"
      ]
     },
     "execution_count": 46,
     "metadata": {},
     "output_type": "execute_result"
    }
   ],
   "source": [
    "solution = Solution()\n",
    "solution.matrixBlockSum(mat = [[1,2,3],[4,5,6],[7,8,9]], K = 2)"
   ]
  },
  {
   "cell_type": "code",
   "execution_count": null,
   "metadata": {},
   "outputs": [],
   "source": [
    "# for k in range(K+1):\n",
    "#     if r - k >= 0 and c-k >= 0:\n",
    "#         sum_val += mat[r-k][c-k]\n",
    "#     elif c - k >= 0:\n",
    "#         sum_val += mat[r][c-k]\n",
    "#     elif r - k >= 0:\n",
    "#         sum_val += mat[r-k][c]\n",
    "\n",
    "#     if r + k < rows and c + k < cols:\n",
    "#         sum_val += mat[r+k][c+k]\n",
    "#     elif r + k < rows:\n",
    "#         sum_val += mat[r+k][c]\n",
    "#     elif c + k < cols:\n",
    "#         sum_val += mat[r][c+k]"
   ]
  }
 ],
 "metadata": {
  "kernelspec": {
   "display_name": "Python 3",
   "language": "python",
   "name": "python3"
  },
  "language_info": {
   "codemirror_mode": {
    "name": "ipython",
    "version": 3
   },
   "file_extension": ".py",
   "mimetype": "text/x-python",
   "name": "python",
   "nbconvert_exporter": "python",
   "pygments_lexer": "ipython3",
   "version": "3.6.2"
  }
 },
 "nbformat": 4,
 "nbformat_minor": 4
}
