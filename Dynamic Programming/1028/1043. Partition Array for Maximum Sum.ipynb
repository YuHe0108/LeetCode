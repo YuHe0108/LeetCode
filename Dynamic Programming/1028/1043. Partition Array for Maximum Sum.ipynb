{
 "cells": [
  {
   "cell_type": "raw",
   "metadata": {},
   "source": [
    "说明：\n",
    "    给你一个整数数组 arr，请你将该数组分隔为长度最多为 k 的一些（连续）子数组。\n",
    "    分隔完成后，每个子数组的中的所有值都会变为该子数组中的最大值。\n",
    "    返回将数组分隔变换后能够得到的元素最大和。\n",
    "\n",
    "注意：\n",
    "    原数组和分隔后的数组对应顺序应当一致，也就是说，你只能选择分隔数组的位置而不能调整数组中的顺序。\n",
    "\n",
    "示例 1：\n",
    "    输入：arr = [1,15,7,9,2,5,10], k = 3\n",
    "    输出：84\n",
    "    解释：\n",
    "        因为 k=3 可以分隔成 [1,15,7] [9] [2,5,10]，结果为 [15,15,15,9,10,10,10]，和为 84，是该数组所有分隔变换后元素总和最大的。\n",
    "        若是分隔成 [1] [15,7,9] [2,5,10]，结果就是 [1, 15, 15, 15, 10, 10, 10] 但这种分隔方式的元素总和（76）小于上一种。 \n",
    "\n",
    "示例 2：\n",
    "    输入：arr = [1,4,1,5,7,3,6,1,9,9,3], k = 4\n",
    "    输出：83\n",
    "\n",
    "示例 3：\n",
    "    输入：arr = [1], k = 1\n",
    "    输出：1\n",
    "\n",
    "提示：\n",
    "    1、1 <= arr.length <= 500\n",
    "    2、0 <= arr[i] <= 10^9\n",
    "    3、1 <= k <= arr.length"
   ]
  },
  {
   "cell_type": "code",
   "execution_count": 115,
   "metadata": {},
   "outputs": [],
   "source": [
    "class Solution:\n",
    "    def maxSumAfterPartitioning(self, arr, k: int) -> int:\n",
    "        N = len(arr)\n",
    "        dp = [0] * (N+1)\n",
    "        for i in range(1, N + 1):\n",
    "            max_val = -float('inf')\n",
    "            for j in range(i, max(i-k, 0), -1):\n",
    "                max_val = max(max_val, arr[j-1])\n",
    "                dp[i] = max(dp[i], dp[j-1] + max_val * (i-j+1))\n",
    "        print(dp)\n",
    "        return dp[-1]"
   ]
  },
  {
   "cell_type": "code",
   "execution_count": 116,
   "metadata": {},
   "outputs": [
    {
     "name": "stdout",
     "output_type": "stream",
     "text": [
      "[0, 1, 8, 12, 20, 29, 36, 42, 48, 65, 74, 83]\n"
     ]
    },
    {
     "data": {
      "text/plain": [
       "83"
      ]
     },
     "execution_count": 116,
     "metadata": {},
     "output_type": "execute_result"
    }
   ],
   "source": [
    "solution = Solution()\n",
    "solution.maxSumAfterPartitioning(arr = [1,4,1,5,7,3,6,1,9,9,3], k = 4)"
   ]
  },
  {
   "cell_type": "code",
   "execution_count": null,
   "metadata": {},
   "outputs": [],
   "source": []
  },
  {
   "cell_type": "code",
   "execution_count": null,
   "metadata": {},
   "outputs": [],
   "source": []
  },
  {
   "cell_type": "code",
   "execution_count": null,
   "metadata": {},
   "outputs": [],
   "source": []
  }
 ],
 "metadata": {
  "kernelspec": {
   "display_name": "Python 3",
   "language": "python",
   "name": "python3"
  },
  "language_info": {
   "codemirror_mode": {
    "name": "ipython",
    "version": 3
   },
   "file_extension": ".py",
   "mimetype": "text/x-python",
   "name": "python",
   "nbconvert_exporter": "python",
   "pygments_lexer": "ipython3",
   "version": "3.6.2"
  }
 },
 "nbformat": 4,
 "nbformat_minor": 4
}
