{
 "cells": [
  {
   "cell_type": "raw",
   "metadata": {},
   "source": [
    "说明：\n",
    "    亚历克斯和李用几堆石子在做游戏。\n",
    "    偶数堆石子排成一行，每堆都有正整数颗石子 piles[i] 。\n",
    "    游戏以谁手中的石子最多来决出胜负。\n",
    "    石子的总数是奇数，所以没有平局。\n",
    "\n",
    "    亚历克斯和李轮流进行，亚历克斯先开始。 \n",
    "    每回合，玩家从行的开始或结束处取走整堆石头。 \n",
    "    这种情况一直持续到没有更多的石子堆为止，此时手中石子最多的玩家获胜。\n",
    "\n",
    "    假设亚历克斯和李都发挥出最佳水平，当亚历克斯赢得比赛时返回 true ，当李赢得比赛时返回 false 。\n",
    "\n",
    "\n",
    "示例：\n",
    "    输入：[5,3,4,5]\n",
    "    输出：true\n",
    "    解释：\n",
    "        亚历克斯先开始，只能拿前 5 颗或后 5 颗石子 。\n",
    "        假设他取了前 5 颗，这一行就变成了 [3,4,5] 。\n",
    "        如果李拿走前 3 颗，那么剩下的是 [4,5]，亚历克斯拿走后 5 颗赢得 10 分。\n",
    "        如果李拿走后 5 颗，那么剩下的是 [3,4]，亚历克斯拿走后 4 颗赢得 9 分。\n",
    "        这表明，取前 5 颗石子对亚历克斯来说是一个胜利的举动，所以我们返回 true 。\n",
    " \n",
    "提示：\n",
    "    1、2 <= piles.length <= 500\n",
    "    2、piles.length 是偶数。\n",
    "    3、1 <= piles[i] <= 500\n",
    "    4、sum(piles) 是奇数。"
   ]
  },
  {
   "cell_type": "code",
   "execution_count": 11,
   "metadata": {},
   "outputs": [],
   "source": [
    "class Solution:\n",
    "    def stoneGame(self, piles) -> bool:\n",
    "        sol_1 = self.helper(piles[1:])\n",
    "        sol_2 = self.helper(piles[:-1])\n",
    "        max_val = max(sol_1[-1], sol_2[-1])\n",
    "        return max_val > sum(piles) - max_val\n",
    "    \n",
    "    def helper(self, piles):\n",
    "        dp = [0] * len(piles)\n",
    "        for i, p in enumerate(piles):\n",
    "            if i - 2 < 0:\n",
    "                dp[i] = max(dp[i], p)\n",
    "            else:\n",
    "                dp[i] = max(dp[i], p+dp[i-2])\n",
    "        return dp"
   ]
  },
  {
   "cell_type": "code",
   "execution_count": null,
   "metadata": {},
   "outputs": [],
   "source": [
    "class Solution:\n",
    "    def stoneGame(self, piles) -> bool:\n",
    "        sol_1 = self.helper(piles[1:])\n",
    "        sol_2 = self.helper(piles[:-1])\n",
    "        max_val = max(sol_1[-1], sol_2[-1])\n",
    "        return max_val > sum(piles) - max_val\n",
    "    \n",
    "    def helper(self, piles):\n",
    "        dp = [0] * len(piles)\n",
    "        for i, p in enumerate(piles):\n",
    "            if i - 1 < 0:\n",
    "                dp[i] = max(dp[i], p)\n",
    "            elif i - 2 < 0:\n",
    "                dp[i] = max(dp[i], dp[i-1], p)\n",
    "            else:\n",
    "                dp[i] = max(dp[i], p + dp[i-2])\n",
    "        return dp"
   ]
  },
  {
   "cell_type": "code",
   "execution_count": 12,
   "metadata": {},
   "outputs": [
    {
     "data": {
      "text/plain": [
       "True"
      ]
     },
     "execution_count": 12,
     "metadata": {},
     "output_type": "execute_result"
    }
   ],
   "source": [
    "solution = Solution()\n",
    "solution.stoneGame([5,3,4,5])"
   ]
  },
  {
   "cell_type": "code",
   "execution_count": 6,
   "metadata": {},
   "outputs": [
    {
     "data": {
      "text/plain": [
       "[1]"
      ]
     },
     "execution_count": 6,
     "metadata": {},
     "output_type": "execute_result"
    }
   ],
   "source": [
    "a = [1, 2]\n",
    "a[:-1]"
   ]
  },
  {
   "cell_type": "code",
   "execution_count": null,
   "metadata": {},
   "outputs": [],
   "source": []
  }
 ],
 "metadata": {
  "kernelspec": {
   "display_name": "Python 3",
   "language": "python",
   "name": "python3"
  },
  "language_info": {
   "codemirror_mode": {
    "name": "ipython",
    "version": 3
   },
   "file_extension": ".py",
   "mimetype": "text/x-python",
   "name": "python",
   "nbconvert_exporter": "python",
   "pygments_lexer": "ipython3",
   "version": "3.6.2"
  }
 },
 "nbformat": 4,
 "nbformat_minor": 4
}
