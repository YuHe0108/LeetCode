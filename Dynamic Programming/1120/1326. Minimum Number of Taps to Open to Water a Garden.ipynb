{
 "cells": [
  {
   "cell_type": "raw",
   "metadata": {},
   "source": [
    "    在 x 轴上有一个一维的花园。花园长度为 n，从点 0 开始，到点 n 结束。\n",
    "\n",
    "    花园里总共有 n + 1 个水龙头，分别位于 [0, 1, ..., n] 。\n",
    "\n",
    "    给你一个整数 n 和一个长度为 n + 1 的整数数组 ranges ，其中 ranges[i] （下标从 0 开始）表示：\n",
    "    如果打开点 i 处的水龙头，可以灌溉的区域为 [i -  ranges[i], i + ranges[i]] 。\n",
    "\n",
    "    请你返回可以灌溉整个花园的 最少水龙头数目。如果花园始终存在无法灌溉到的地方，请你返回 -1 。"
   ]
  },
  {
   "cell_type": "markdown",
   "metadata": {},
   "source": [
    "<img src='https://assets.leetcode-cn.com/aliyun-lc-upload/uploads/2020/01/19/1685_example_1.png' width=500>"
   ]
  },
  {
   "cell_type": "raw",
   "metadata": {},
   "source": [
    "示例 1：\n",
    "    输入：n = 5, ranges = [3,4,1,1,0,0]\n",
    "    输出：1\n",
    "    解释：\n",
    "        点 0 处的水龙头可以灌溉区间 [-3,3]\n",
    "        点 1 处的水龙头可以灌溉区间 [-3,5]\n",
    "        点 2 处的水龙头可以灌溉区间 [1,3]\n",
    "        点 3 处的水龙头可以灌溉区间 [2,4]\n",
    "        点 4 处的水龙头可以灌溉区间 [4,4]\n",
    "        点 5 处的水龙头可以灌溉区间 [5,5]\n",
    "        只需要打开点 1 处的水龙头即可灌溉整个花园 [0,5] 。\n",
    "\n",
    "示例 2：\n",
    "    输入：n = 3, ranges = [0,0,0,0]\n",
    "    输出：-1\n",
    "    解释：即使打开所有水龙头，你也无法灌溉整个花园。\n",
    "\n",
    "示例 3：\n",
    "    输入：n = 7, ranges = [1,2,1,0,2,1,0,1]\n",
    "    输出：3\n",
    "\n",
    "示例 4：\n",
    "    输入：n = 8, ranges = [4,0,0,0,0,0,0,0,4]\n",
    "    输出：2\n",
    "\n",
    "示例 5：\n",
    "    输入：n = 8, ranges = [4,0,0,0,4,0,0,0,4]\n",
    "    输出：1\n",
    " \n",
    "\n",
    "提示：\n",
    "    1 <= n <= 10^4\n",
    "    ranges.length == n + 1\n",
    "    0 <= ranges[i] <= 100"
   ]
  },
  {
   "cell_type": "code",
   "execution_count": 28,
   "metadata": {},
   "outputs": [],
   "source": [
    "class Solution:\n",
    "    def minTaps(self, n: int, ranges) -> int:\n",
    "        cover = []\n",
    "        for i, r in enumerate(ranges):\n",
    "            left = max(0, i - r)\n",
    "            right = min(n, i + r)\n",
    "            cover.append((left, right))\n",
    "        cover = sorted(cover, key=lambda x: x[1]-x[0])\n",
    "        print(cover)\n",
    "        res = 0\n",
    "        cur_l, cur_r = float('inf'), -float('inf')\n",
    "        while cover:\n",
    "            l, r = cover.pop()\n",
    "            if l == r:\n",
    "                continue\n",
    "            cnt = 0\n",
    "            if l < cur_l:\n",
    "                cur_l = min(l, cur_l)\n",
    "                cnt += 1\n",
    "            if r > cur_r:\n",
    "                cur_r = max(r, cur_r)\n",
    "                if cnt == 0:\n",
    "                    cnt += 1\n",
    "            res += cnt\n",
    "            if cur_l == 0 and cur_r >= n:\n",
    "                return res\n",
    "        return -1"
   ]
  },
  {
   "cell_type": "code",
   "execution_count": 42,
   "metadata": {},
   "outputs": [],
   "source": [
    "class Solution:\n",
    "    def minTaps(self, n: int, ranges) -> int:\n",
    "        dp = [float('inf')] * (1+n)\n",
    "        dp[0] = 0\n",
    "        for i, r in enumerate(ranges):\n",
    "            left = max(0, i-r)\n",
    "            right = min(n, i+r)\n",
    "            for m in range(left, right+1):\n",
    "                print(left, dp[m])\n",
    "                dp[m] = min(dp[m], dp[left] + 1)\n",
    "        return dp[-1] if dp[-1] != float('inf') else -1"
   ]
  },
  {
   "cell_type": "code",
   "execution_count": 43,
   "metadata": {},
   "outputs": [
    {
     "name": "stdout",
     "output_type": "stream",
     "text": [
      "0 0\n",
      "1 inf\n",
      "2 inf\n",
      "3 inf\n"
     ]
    },
    {
     "data": {
      "text/plain": [
       "-1"
      ]
     },
     "execution_count": 43,
     "metadata": {},
     "output_type": "execute_result"
    }
   ],
   "source": [
    "solution = Solution()\n",
    "solution.minTaps(n = 3, ranges = [0,0,0,0])"
   ]
  },
  {
   "cell_type": "code",
   "execution_count": null,
   "metadata": {},
   "outputs": [],
   "source": []
  }
 ],
 "metadata": {
  "kernelspec": {
   "display_name": "Python 3",
   "language": "python",
   "name": "python3"
  },
  "language_info": {
   "codemirror_mode": {
    "name": "ipython",
    "version": 3
   },
   "file_extension": ".py",
   "mimetype": "text/x-python",
   "name": "python",
   "nbconvert_exporter": "python",
   "pygments_lexer": "ipython3",
   "version": "3.6.2"
  }
 },
 "nbformat": 4,
 "nbformat_minor": 4
}
