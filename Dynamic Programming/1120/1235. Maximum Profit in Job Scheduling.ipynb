{
 "cells": [
  {
   "cell_type": "raw",
   "metadata": {},
   "source": [
    "    你打算利用空闲时间来做兼职工作赚些零花钱。\n",
    "\n",
    "    这里有 n 份兼职工作，每份工作预计从 startTime[i] 开始到 endTime[i] 结束，报酬为 profit[i]。\n",
    "\n",
    "    给你一份兼职工作表，包含开始时间 startTime，结束时间 endTime 和预计报酬 profit 三个数组，请你计算并返回可以获得的最大报酬。\n",
    "\n",
    "    注意，时间上出现重叠的 2 份工作不能同时进行。\n",
    "\n",
    "    如果你选择的工作在时间 X 结束，那么你可以立刻进行在时间 X 开始的下一份工作。\n",
    "\n",
    "示例 1：\n",
    "    输入：startTime = [1,2,3,3], endTime = [3,4,5,6], profit = [50,10,40,70]\n",
    "    输出：120\n",
    "    解释：\n",
    "        我们选出第 1 份和第 4 份工作， \n",
    "        时间范围是 [1-3]+[3-6]，共获得报酬 120 = 50 + 70。\n",
    "\n",
    "示例 2：\n",
    "    输入：startTime = [1,2,3,4,6], endTime = [3,5,10,6,9], profit = [20,20,100,70,60]\n",
    "    输出：150\n",
    "    解释：\n",
    "        我们选择第 1，4，5 份工作。 \n",
    "        共获得报酬 150 = 20 + 70 + 60。\n",
    "\n",
    "示例 3：\n",
    "    输入：startTime = [1,1,1], endTime = [2,3,4], profit = [5,6,4]\n",
    "    输出：6\n",
    "\n",
    "提示：\n",
    "    1 <= startTime.length == endTime.length == profit.length <= 5 * 10^4\n",
    "    1 <= startTime[i] < endTime[i] <= 10^9\n",
    "    1 <= profit[i] <= 10^4"
   ]
  },
  {
   "cell_type": "markdown",
   "metadata": {},
   "source": [
    "<img src='https://assets.leetcode.com/uploads/2019/10/10/sample1_1584.png'>\n",
    "<img src='https://assets.leetcode.com/uploads/2019/10/10/sample2_1584.png'>\n",
    "<img src='https://assets.leetcode.com/uploads/2019/10/10/sample3_1584.png'>"
   ]
  },
  {
   "cell_type": "markdown",
   "metadata": {},
   "source": [
    "<img src='1235.jpg'>"
   ]
  },
  {
   "cell_type": "code",
   "execution_count": 33,
   "metadata": {},
   "outputs": [],
   "source": [
    "import bisect\n",
    "class Solution:\n",
    "    def jobScheduling(self, startTime, endTime, profit):\n",
    "        jobs = []\n",
    "        end_times = [0]\n",
    "        for i in range(len(profit)):\n",
    "            jobs.append((endTime[i], startTime[i], profit[i]))\n",
    "            end_times.append(endTime[i])\n",
    "        jobs.sort(reverse=True)\n",
    "        end_times.sort(reverse=True)\n",
    "        \n",
    "        time2val = {0:0}\n",
    "        cur_val = 0\n",
    "        for e, s, p in jobs:\n",
    "            last_end = bisect.bisect_left(end_times, e)\n",
    "            time2val[e] = max(cur_val, time2val[last_end] + p)\n",
    "            cur_val = time2val[e]\n",
    "        return cur_val"
   ]
  },
  {
   "cell_type": "code",
   "execution_count": 35,
   "metadata": {},
   "outputs": [],
   "source": [
    "import bisect\n",
    "class Solution:\n",
    "    def jobScheduling(self, startTime, endTime, profit):\n",
    "        res, l = 0, max(endTime) + 1\n",
    "        dp = [0] * l\n",
    "        for i in range(1, l):\n",
    "            for s, e, p in zip(startTime, endTime, profit):\n",
    "                if e == i:\n",
    "                    dp[i] = max(dp[s] + p, dp[i])\n",
    "                else:\n",
    "                    dp[i] = max(dp[i], dp[i-1])\n",
    "            res = max(res, dp[i])\n",
    "        return res"
   ]
  },
  {
   "cell_type": "code",
   "execution_count": 53,
   "metadata": {},
   "outputs": [],
   "source": [
    "import bisect\n",
    "\n",
    "class Solution:\n",
    "    def jobScheduling(self, startTime, endTime, profit):\n",
    "        jobs = sorted(zip(startTime, endTime, profit), key=lambda x:x[1])\n",
    "        dp = [[0, 0]] # dp[i][0] 表示job的结束时间，dp[i][1] 表示当前job结束的时候最高收益\n",
    "        print(jobs)\n",
    "        for s, e, p in jobs:\n",
    "            i = bisect.bisect(dp, [s+1, 0]) - 1\n",
    "            print(s, e, p, dp, i)\n",
    "            if dp[i][1] + p > dp[-1][1]:\n",
    "                dp.append([e, dp[i][1] + p])\n",
    "        return dp[-1][1]"
   ]
  },
  {
   "cell_type": "code",
   "execution_count": 54,
   "metadata": {},
   "outputs": [
    {
     "name": "stdout",
     "output_type": "stream",
     "text": [
      "[(1, 3, 20), (2, 5, 20), (4, 6, 70), (6, 9, 60), (3, 10, 100)]\n",
      "1 3 20 [[0, 0]] 0\n",
      "2 5 20 [[0, 0], [3, 20]] 0\n",
      "4 6 70 [[0, 0], [3, 20]] 1\n",
      "6 9 60 [[0, 0], [3, 20], [6, 90]] 2\n",
      "3 10 100 [[0, 0], [3, 20], [6, 90], [9, 150]] 1\n"
     ]
    },
    {
     "data": {
      "text/plain": [
       "150"
      ]
     },
     "execution_count": 54,
     "metadata": {},
     "output_type": "execute_result"
    }
   ],
   "source": [
    "solution = Solution()\n",
    "solution.jobScheduling(startTime = [1,2,3,4,6], endTime = [3,5,10,6,9], profit = [20,20,100,70,60])"
   ]
  },
  {
   "cell_type": "code",
   "execution_count": 67,
   "metadata": {},
   "outputs": [
    {
     "data": {
      "text/plain": [
       "0"
      ]
     },
     "execution_count": 67,
     "metadata": {},
     "output_type": "execute_result"
    }
   ],
   "source": [
    "a = [[0, 0]]\n",
    "bisect.bisect_left(a, [0, 0])"
   ]
  },
  {
   "cell_type": "code",
   "execution_count": null,
   "metadata": {},
   "outputs": [],
   "source": []
  },
  {
   "cell_type": "code",
   "execution_count": null,
   "metadata": {},
   "outputs": [],
   "source": []
  }
 ],
 "metadata": {
  "kernelspec": {
   "display_name": "Python 3",
   "language": "python",
   "name": "python3"
  },
  "language_info": {
   "codemirror_mode": {
    "name": "ipython",
    "version": 3
   },
   "file_extension": ".py",
   "mimetype": "text/x-python",
   "name": "python",
   "nbconvert_exporter": "python",
   "pygments_lexer": "ipython3",
   "version": "3.6.2"
  }
 },
 "nbformat": 4,
 "nbformat_minor": 4
}
