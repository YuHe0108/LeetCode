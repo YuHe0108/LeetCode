{
 "cells": [
  {
   "cell_type": "raw",
   "metadata": {},
   "source": [
    "    给定数组 nums 由正整数组成，找到三个互不重叠的子数组的最大和。\n",
    "\n",
    "    每个子数组的长度为k，我们要使这3*k个项的和最大化。\n",
    "\n",
    "    返回每个区间起始索引的列表（索引从 0 开始）。如果有多个结果，返回字典序最小的一个。\n",
    "\n",
    "示例:\n",
    "    输入: [1,2,1,2,6,7,5,1], 2\n",
    "    输出: [0, 3, 5]\n",
    "    解释: 子数组 [1, 2], [2, 6], [7, 5] 对应的起始索引为 [0, 3, 5]。\n",
    "          我们也可以取 [2, 1], 但是结果 [1, 3, 5] 在字典序上更大。\n",
    "\n",
    "注意:\n",
    "    nums.length的范围在[1, 20000]之间。\n",
    "    nums[i]的范围在[1, 65535]之间。\n",
    "    k的范围在[1, floor(nums.length / 3)]之间。"
   ]
  },
  {
   "cell_type": "code",
   "execution_count": 9,
   "metadata": {},
   "outputs": [],
   "source": [
    "class Solution:\n",
    "    def maxSumOfThreeSubarrays(self, nums, k):\n",
    "        best_one_idx = 0\n",
    "        best_two_idx = [0, k]\n",
    "        best_three_idx = [0, k, 2*k]\n",
    "        \n",
    "        max_one_total_sum = sum(nums[:k])\n",
    "        max_two_total_sum = sum(nums[:2*k])\n",
    "        max_three_total_sum = sum(nums[:3*k])\n",
    "        \n",
    "        cur_one_sum = sum(nums[:k])\n",
    "        cur_two_sum = sum(nums[k:k*2])\n",
    "        cur_three_sum = sum(nums[k*2:k*3])\n",
    "        \n",
    "        n = len(nums)\n",
    "        for i in range(1, n-3*k+1):\n",
    "            print(i-1, i, i+k-1)\n",
    "            cur_one_sum = cur_one_sum - nums[i-1] + nums[i+k-1]\n",
    "            cur_two_sum = cur_two_sum - nums[i+k-1] + nums[i+k*2-1]\n",
    "            cur_three_sum = cur_three_sum - nums[i+2*k-1] + nums[i+k*3-1]\n",
    "            \n",
    "            if cur_one_sum > max_one_total_sum:\n",
    "                best_one_idx = i\n",
    "                max_one_total_sum = cur_one_sum\n",
    "            \n",
    "            if cur_two_sum  + max_one_total_sum > max_two_total_sum:\n",
    "                best_two_idx = [best_one_idx, i+k]\n",
    "                max_two_total_sum = cur_two_sum + max_one_total_sum\n",
    "                \n",
    "            if cur_three_sum + max_two_total_sum > max_three_total_sum:\n",
    "                best_three_idx = best_two_idx + [i+k*2]\n",
    "                max_three_total_sum = cur_three_sum + max_two_total_sum\n",
    "        return best_three_idx"
   ]
  },
  {
   "cell_type": "code",
   "execution_count": 10,
   "metadata": {},
   "outputs": [
    {
     "name": "stdout",
     "output_type": "stream",
     "text": [
      "0 1 2\n",
      "1 2 3\n"
     ]
    },
    {
     "data": {
      "text/plain": [
       "[0, 3, 5]"
      ]
     },
     "execution_count": 10,
     "metadata": {},
     "output_type": "execute_result"
    }
   ],
   "source": [
    "solution = Solution()\n",
    "solution.maxSumOfThreeSubarrays([1,2,1,2,6,7,5,1], 2)"
   ]
  },
  {
   "cell_type": "code",
   "execution_count": null,
   "metadata": {},
   "outputs": [],
   "source": []
  }
 ],
 "metadata": {
  "kernelspec": {
   "display_name": "Python 3",
   "language": "python",
   "name": "python3"
  },
  "language_info": {
   "codemirror_mode": {
    "name": "ipython",
    "version": 3
   },
   "file_extension": ".py",
   "mimetype": "text/x-python",
   "name": "python",
   "nbconvert_exporter": "python",
   "pygments_lexer": "ipython3",
   "version": "3.6.2"
  }
 },
 "nbformat": 4,
 "nbformat_minor": 4
}
