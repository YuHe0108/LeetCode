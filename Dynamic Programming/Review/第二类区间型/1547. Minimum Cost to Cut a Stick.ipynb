{
 "cells": [
  {
   "cell_type": "code",
   "execution_count": null,
   "metadata": {},
   "outputs": [],
   "source": []
  },
  {
   "cell_type": "code",
   "execution_count": null,
   "metadata": {},
   "outputs": [],
   "source": []
  },
  {
   "cell_type": "code",
   "execution_count": 26,
   "metadata": {},
   "outputs": [],
   "source": [
    "from typing import List\n",
    "\n",
    "class Solution:\n",
    "    def minCost(self, n: int, cuts: List[int]) -> int:\n",
    "        cuts.sort()\n",
    "        cuts = [0] + cuts + [n]\n",
    "        m = len(cuts)\n",
    "        dp = [[float('inf')] * m for _ in range(m)]\n",
    "        for i in range(m-1): # 只有两个点的时候无法切割\n",
    "            dp[i][i+1] = 0\n",
    "        \n",
    "        print(cuts)\n",
    "        for gap in range(3, m+1):\n",
    "            for s in range(m-gap+1):\n",
    "                e = s + (gap-1)\n",
    "                print(cuts[s:e+1])\n",
    "                for k in range(s+1, e):\n",
    "                    dp[s][e] = min(dp[s][e], cuts[e] - cuts[s] + dp[s][k] + dp[k][e])\n",
    "        print(dp)\n",
    "        return dp[0][-1]"
   ]
  },
  {
   "cell_type": "code",
   "execution_count": 27,
   "metadata": {},
   "outputs": [
    {
     "name": "stdout",
     "output_type": "stream",
     "text": [
      "[0, 1, 3, 4, 5, 7]\n",
      "[0, 1, 3]\n",
      "[1, 3, 4]\n",
      "[3, 4, 5]\n",
      "[4, 5, 7]\n",
      "[0, 1, 3, 4]\n",
      "[1, 3, 4, 5]\n",
      "[3, 4, 5, 7]\n",
      "[0, 1, 3, 4, 5]\n",
      "[1, 3, 4, 5, 7]\n",
      "[0, 1, 3, 4, 5, 7]\n",
      "[[inf, 0, 3, 7, 10, 16], [inf, inf, 0, 3, 6, 12], [inf, inf, inf, 0, 2, 6], [inf, inf, inf, inf, 0, 3], [inf, inf, inf, inf, inf, 0], [inf, inf, inf, inf, inf, inf]]\n"
     ]
    },
    {
     "data": {
      "text/plain": [
       "16"
      ]
     },
     "execution_count": 27,
     "metadata": {},
     "output_type": "execute_result"
    }
   ],
   "source": [
    "solution = Solution()\n",
    "solution.minCost(n = 7, cuts = [1,3,4,5])"
   ]
  },
  {
   "cell_type": "code",
   "execution_count": null,
   "metadata": {},
   "outputs": [],
   "source": [
    "[[inf, 0, 3, 7, 10, 16], \n",
    " [inf, inf, 0, 3, 6, 12], \n",
    " [inf, inf, inf, 0, 2, 6], \n",
    " [inf, inf, inf, inf, 0, 3], \n",
    " [inf, inf, inf, inf, inf, 0], \n",
    " [inf, inf, inf, inf, inf, inf]]"
   ]
  }
 ],
 "metadata": {
  "kernelspec": {
   "display_name": "Python 3",
   "language": "python",
   "name": "python3"
  },
  "language_info": {
   "codemirror_mode": {
    "name": "ipython",
    "version": 3
   },
   "file_extension": ".py",
   "mimetype": "text/x-python",
   "name": "python",
   "nbconvert_exporter": "python",
   "pygments_lexer": "ipython3",
   "version": "3.6.2"
  }
 },
 "nbformat": 4,
 "nbformat_minor": 4
}
