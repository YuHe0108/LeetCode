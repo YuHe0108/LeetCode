{
 "cells": [
  {
   "cell_type": "code",
   "execution_count": null,
   "metadata": {},
   "outputs": [],
   "source": [
    "class Solution:\n",
    "    def countSubstrings(self, s: str) -> int:\n",
    "        length = len(s)\n",
    "        dp1 = [[0]*length for i in range(length)]\n",
    "        # 初始化\n",
    "        for i in range(length):\n",
    "            dp1[i][i] = 1\n",
    "            pass\n",
    "        for i in range(length-1):\n",
    "            j = i + 1\n",
    "            if s[i] == s[j]:\n",
    "                dp1[i][j] = 1\n",
    "                pass\n",
    "            pass\n",
    "        # 对其他的赋值\n",
    "        for k in range(2, length):\n",
    "            for i in range(length - k):\n",
    "                j = i + k\n",
    "                if s[i] == s[j]:\n",
    "                    dp1[i][j] = dp1[i+1][j-1]\n",
    "                    pass\n",
    "                pass\n",
    "            pass\n",
    "        # 返回\n",
    "        d = [sum(dp1[i][:]) for i in range(length)]\n",
    "        return sum(d)\n",
    "        pass\n",
    "    pass\n",
    "\n",
    "作者：LiuZebinWhu\n",
    "链接：https://leetcode-cn.com/problems/palindromic-substrings/solution/python3dong-tai-gui-hua-by-liuzebinwhu/\n",
    "来源：力扣（LeetCode）\n",
    "著作权归作者所有。商业转载请联系作者获得授权，非商业转载请注明出处。"
   ]
  },
  {
   "cell_type": "code",
   "execution_count": null,
   "metadata": {},
   "outputs": [],
   "source": []
  },
  {
   "cell_type": "code",
   "execution_count": null,
   "metadata": {},
   "outputs": [],
   "source": []
  },
  {
   "cell_type": "code",
   "execution_count": null,
   "metadata": {},
   "outputs": [],
   "source": [
    "class Solution:\n",
    "    def countSubstrings(self, s: str) -> int:\n",
    "        n = len(s)\n",
    "        s = '#' + s\n",
    "        dp = [[0] * (1+n) for _ in range(1+n)]\n",
    "        # gap = 1 和 gap = 2 的时候，单独赋值\n",
    "        for i in range(1, n+1): # 每个数字起码是一个回文\n",
    "            dp[i][i] = 1\n",
    "        for i in range(1, n):\n",
    "            if s[i] == s[i+1]:\n",
    "                dp[i][i+1] = 1\n",
    "        \n",
    "        for gap in range(3, n+1):\n",
    "            for start in range(1, n-gap+2):\n",
    "                end = start + gap - 1\n",
    "                if s[start] == s[end]:\n",
    "                    dp[start][end] = dp[start+1][end-1]\n",
    "                \n",
    "        cnt = 0\n",
    "        for i in range(n+1):\n",
    "            for j in range(n+1):\n",
    "                if i <= j and dp[i][j] != -float('inf'):\n",
    "                    cnt += dp[i][j]\n",
    "        return cnt"
   ]
  },
  {
   "cell_type": "code",
   "execution_count": null,
   "metadata": {},
   "outputs": [],
   "source": []
  },
  {
   "cell_type": "code",
   "execution_count": null,
   "metadata": {},
   "outputs": [],
   "source": [
    "class Solution:\n",
    "    def countSubstrings(self, s: str) -> int:\n",
    "        n = len(s)\n",
    "        s = '#' + s\n",
    "        dp = [[0] * (1+n) for _ in range(1+n)]\n",
    "        for i in range(1, n+1): # 每个数字起码是一个回文\n",
    "            dp[i][i] = 1\n",
    "        for i in range(1, n):\n",
    "            if s[i] == s[i+1]:\n",
    "                dp[i][i+1] = 1\n",
    "        \n",
    "        for gap in range(3, n+1):\n",
    "            for start in range(1, n-gap+2):\n",
    "                end = start + gap - 1\n",
    "                if s[start] == s[end]:\n",
    "                    dp[start][end] = dp[start+1][end-1]\n",
    "                \n",
    "        return sum([sum(dp[i][:]) for i in range(n+1)])"
   ]
  }
 ],
 "metadata": {
  "kernelspec": {
   "display_name": "Python 3",
   "language": "python",
   "name": "python3"
  },
  "language_info": {
   "codemirror_mode": {
    "name": "ipython",
    "version": 3
   },
   "file_extension": ".py",
   "mimetype": "text/x-python",
   "name": "python",
   "nbconvert_exporter": "python",
   "pygments_lexer": "ipython3",
   "version": "3.6.2"
  }
 },
 "nbformat": 4,
 "nbformat_minor": 4
}
