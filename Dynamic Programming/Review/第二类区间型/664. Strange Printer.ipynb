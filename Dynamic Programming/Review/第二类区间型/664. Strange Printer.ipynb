{
 "cells": [
  {
   "cell_type": "code",
   "execution_count": null,
   "metadata": {},
   "outputs": [],
   "source": []
  },
  {
   "cell_type": "code",
   "execution_count": null,
   "metadata": {},
   "outputs": [],
   "source": []
  },
  {
   "cell_type": "code",
   "execution_count": 9,
   "metadata": {},
   "outputs": [],
   "source": [
    "class Solution:\n",
    "    def strangePrinter(self, s: str) -> int:\n",
    "        n = len(s)\n",
    "        dp = [[0] * (n+1) for _ in range(n+1)]\n",
    "        for i in range(n): # 对于s中区间长度为1的字母，打印需要花 1\n",
    "            dp[i][i] = 1\n",
    "        \n",
    "        for gap in range(2, n+1):\n",
    "            for l in range(n-gap+1):\n",
    "                r = l + (gap-1)\n",
    "                dp[l][r] = 1 + dp[l+1][r]\n",
    "                # 找与左端点相同的字母所在的位置: a xxxx a(k) xxxx\n",
    "                # dp[l][r] = dp[l][k-1] + dp[k+1][r]\n",
    "                for k in range(l+1, r+1):\n",
    "                    if s[k] == s[l]:\n",
    "                        dp[l][r] = min(dp[l][r], dp[l][k-1] + dp[k+1][r])\n",
    "        return dp[0][n-1]"
   ]
  },
  {
   "cell_type": "code",
   "execution_count": 10,
   "metadata": {},
   "outputs": [
    {
     "name": "stdout",
     "output_type": "stream",
     "text": [
      "0 6 2\n",
      "1 6 3\n",
      "3 6 5\n",
      "4 6 6\n",
      "0 6 2\n",
      "1 6 3\n",
      "1 6 3\n",
      "3 6 5\n",
      "4 6 6\n",
      "0 6 2\n",
      "1 6 3\n",
      "1 6 3\n",
      "0 6 2\n",
      "1 6 3\n",
      "1 6 3\n",
      "0 6 2\n",
      "1 6 3\n"
     ]
    },
    {
     "data": {
      "text/plain": [
       "2"
      ]
     },
     "execution_count": 10,
     "metadata": {},
     "output_type": "execute_result"
    }
   ],
   "source": [
    "solution = Solution()\n",
    "solution.strangePrinter(\"aaabbb\")"
   ]
  },
  {
   "cell_type": "code",
   "execution_count": null,
   "metadata": {},
   "outputs": [],
   "source": []
  }
 ],
 "metadata": {
  "kernelspec": {
   "display_name": "Python 3",
   "language": "python",
   "name": "python3"
  },
  "language_info": {
   "codemirror_mode": {
    "name": "ipython",
    "version": 3
   },
   "file_extension": ".py",
   "mimetype": "text/x-python",
   "name": "python",
   "nbconvert_exporter": "python",
   "pygments_lexer": "ipython3",
   "version": "3.6.2"
  }
 },
 "nbformat": 4,
 "nbformat_minor": 4
}
