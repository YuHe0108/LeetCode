{
 "cells": [
  {
   "cell_type": "code",
   "execution_count": null,
   "metadata": {},
   "outputs": [],
   "source": []
  },
  {
   "cell_type": "markdown",
   "metadata": {},
   "source": [
    "<img src='1039.jpg'>\n",
    "<img src='1039_1.jpg'>"
   ]
  },
  {
   "cell_type": "code",
   "execution_count": 9,
   "metadata": {},
   "outputs": [],
   "source": [
    "from typing import List\n",
    "\n",
    "class Solution:\n",
    "    def minScoreTriangulation(self, A: List[int]) -> int:\n",
    "        n = len(A)\n",
    "        dp = [[float('inf')] * n for _ in range(n)]\n",
    "        # 相邻的两条边不能构成三角形，所以取值为 0\n",
    "        for i in range(n-1):\n",
    "            dp[i][i+1] = 0\n",
    "        \n",
    "        for gap in range(3, n+1): # 先求小区间、再求更大的区间\n",
    "            for s in range(n-gap+1):\n",
    "                # 假设 起点和终点 作为三角形的一条边，因此去中间点的时候，不能取两个端点\n",
    "                e = s + (gap - 1)\n",
    "                print(A[s:e+1])\n",
    "                for k in range(s+1, e): # 中间点不能取到终点也不能取到起点\n",
    "                    dp[s][e] = min(dp[s][e], A[s] * A[k] * A[e] + dp[s][k] + dp[k][e])\n",
    "        return dp[0][-1]"
   ]
  },
  {
   "cell_type": "code",
   "execution_count": 10,
   "metadata": {},
   "outputs": [
    {
     "name": "stdout",
     "output_type": "stream",
     "text": [
      "[1, 2, 3]\n",
      "2\n",
      "[2, 3, 4]\n",
      "3\n",
      "[3, 4, 5]\n",
      "4\n",
      "[4, 5, 6]\n",
      "5\n",
      "[1, 2, 3, 4]\n",
      "2\n",
      "3\n",
      "[2, 3, 4, 5]\n",
      "3\n",
      "4\n",
      "[3, 4, 5, 6]\n",
      "4\n",
      "5\n",
      "[1, 2, 3, 4, 5]\n",
      "2\n",
      "3\n",
      "4\n",
      "[2, 3, 4, 5, 6]\n",
      "3\n",
      "4\n",
      "5\n",
      "[1, 2, 3, 4, 5, 6]\n",
      "2\n",
      "3\n",
      "4\n",
      "5\n"
     ]
    },
    {
     "data": {
      "text/plain": [
       "68"
      ]
     },
     "execution_count": 10,
     "metadata": {},
     "output_type": "execute_result"
    }
   ],
   "source": [
    "solution = Solution()\n",
    "solution.minScoreTriangulation([1,2,3,4,5,6])"
   ]
  },
  {
   "cell_type": "code",
   "execution_count": null,
   "metadata": {},
   "outputs": [],
   "source": []
  }
 ],
 "metadata": {
  "kernelspec": {
   "display_name": "Python 3",
   "language": "python",
   "name": "python3"
  },
  "language_info": {
   "codemirror_mode": {
    "name": "ipython",
    "version": 3
   },
   "file_extension": ".py",
   "mimetype": "text/x-python",
   "name": "python",
   "nbconvert_exporter": "python",
   "pygments_lexer": "ipython3",
   "version": "3.6.2"
  }
 },
 "nbformat": 4,
 "nbformat_minor": 4
}
