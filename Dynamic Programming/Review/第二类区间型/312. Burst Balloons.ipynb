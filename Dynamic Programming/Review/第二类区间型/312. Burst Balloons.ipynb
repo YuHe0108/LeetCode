{
 "cells": [
  {
   "cell_type": "raw",
   "metadata": {},
   "source": [
    "第二类区间型DP：\n",
    "    只给出一个序列S（数组/字符串），求一个针对这个序列的最优解。\n",
    "    适用条件：这个最优解对于序列的index而言，没有“无后效性”。\n",
    "    即无法设计dp[i]使得dp[i]仅依赖于dp[j] (j<i). 【但是大区间的最优解，可以依赖小区间的最优解。】\n",
    "套路：\n",
    "    1、定义dp[i][j]：表示针对s[i:j]的子问题的求解。\n",
    "    2、千方百计将大区间的dp[i][j]往小区间的dp[i’][j’]转移。\n",
    "    3、第一层循环是区间大小；第二层循环是起始点。\n",
    "    4、最终的结果是dp[1][N]"
   ]
  },
  {
   "cell_type": "markdown",
   "metadata": {},
   "source": [
    "<img src='312.jpg'>"
   ]
  },
  {
   "cell_type": "code",
   "execution_count": 64,
   "metadata": {},
   "outputs": [],
   "source": [
    "# 大区间的最优值取决于小区间的最优值\n",
    "from typing import List\n",
    "\n",
    "class Solution:\n",
    "    def maxCoins(self, nums: List[int]) -> int:\n",
    "        if len(set(nums)) == 1 and len(nums) > 1:\n",
    "            cnt = pow(nums[0], 3) * (len(nums) - 2 )\n",
    "            cnt += nums[0] ** 2\n",
    "            cnt += nums[0]\n",
    "            return cnt\n",
    "        \n",
    "        n = len(nums)\n",
    "        nums = [1] + nums + [1]\n",
    "        dp = [[0] * (n+2) for _ in range(n+2)]\n",
    "        \n",
    "        for gap in range(1, n+1): # 定义区间的长度，从大到小\n",
    "            # 原本应该是 n-gap, range函数由于是左闭右开，因此 要 +1，再加上前面有补 1，因此还要在 + 1\n",
    "            for s in range(1, n-gap+2): # 在固定区间长度的情况下，确定区间的起点位置\n",
    "                e = s + (gap - 1) # 这段区间的终点, gap-1 表示的是两个点之间的间隔\n",
    "                for k in range(s, e+1): # 中间值，由于需要包含起点和终点的值，所以需要 end + 1\n",
    "                    dp[s][e] = max(dp[s][e], dp[s][k-1] + nums[s-1] * nums[k] * nums[e+1] + dp[k+1][e])\n",
    "        return dp[1][n]"
   ]
  },
  {
   "cell_type": "code",
   "execution_count": 65,
   "metadata": {},
   "outputs": [
    {
     "data": {
      "text/plain": [
       "167"
      ]
     },
     "execution_count": 65,
     "metadata": {},
     "output_type": "execute_result"
    }
   ],
   "source": [
    "solution = Solution()\n",
    "solution.maxCoins([3,1,5,8])"
   ]
  },
  {
   "cell_type": "code",
   "execution_count": null,
   "metadata": {},
   "outputs": [],
   "source": []
  },
  {
   "cell_type": "code",
   "execution_count": null,
   "metadata": {},
   "outputs": [],
   "source": []
  },
  {
   "cell_type": "code",
   "execution_count": 66,
   "metadata": {},
   "outputs": [
    {
     "name": "stdout",
     "output_type": "stream",
     "text": [
      "0 2\n",
      "1 3\n",
      "2 4\n",
      "3 5\n"
     ]
    }
   ],
   "source": [
    "a = [0, 1, 2, 3, 4]\n",
    "for i in range(len(a)-2+1):\n",
    "    print(i, i+2)"
   ]
  },
  {
   "cell_type": "code",
   "execution_count": null,
   "metadata": {},
   "outputs": [],
   "source": []
  },
  {
   "cell_type": "code",
   "execution_count": null,
   "metadata": {},
   "outputs": [],
   "source": []
  }
 ],
 "metadata": {
  "kernelspec": {
   "display_name": "Python 3",
   "language": "python",
   "name": "python3"
  },
  "language_info": {
   "codemirror_mode": {
    "name": "ipython",
    "version": 3
   },
   "file_extension": ".py",
   "mimetype": "text/x-python",
   "name": "python",
   "nbconvert_exporter": "python",
   "pygments_lexer": "ipython3",
   "version": "3.6.2"
  }
 },
 "nbformat": 4,
 "nbformat_minor": 4
}
