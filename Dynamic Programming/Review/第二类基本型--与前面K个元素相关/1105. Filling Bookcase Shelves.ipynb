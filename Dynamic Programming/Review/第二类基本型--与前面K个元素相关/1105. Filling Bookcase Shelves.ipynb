{
 "cells": [
  {
   "cell_type": "code",
   "execution_count": null,
   "metadata": {},
   "outputs": [],
   "source": []
  },
  {
   "cell_type": "code",
   "execution_count": null,
   "metadata": {},
   "outputs": [],
   "source": []
  },
  {
   "cell_type": "code",
   "execution_count": 9,
   "metadata": {},
   "outputs": [],
   "source": [
    "class Solution:\n",
    "    def minHeightShelves(self, books, shelf_width):\n",
    "        n = len(books)\n",
    "        dp = [float('inf')] * (1 + n) # dp[i] 表示摆放了 i 本书的最小高度是多少\n",
    "        books.insert(0, (0, 0))\n",
    "        dp[0] = 0\n",
    "        for i in range(1, n+1):\n",
    "            total_width = 0\n",
    "            max_height = 0\n",
    "            # 遍历能够与 books[i] 摆放在同一行的书有哪些，\n",
    "            # 在宽度不超过限制的前提下其最低的高度是多少，\n",
    "            for j in range(i, 0, -1): \n",
    "                total_width += books[j][0]\n",
    "                if total_width > shelf_width:\n",
    "                    break\n",
    "                max_height = max(max_height, books[j][1])\n",
    "                dp[i] = min(dp[i], dp[j-1] + max_height)\n",
    "        return dp[-1]"
   ]
  },
  {
   "cell_type": "code",
   "execution_count": 10,
   "metadata": {},
   "outputs": [
    {
     "name": "stdout",
     "output_type": "stream",
     "text": [
      "1 1\n",
      "2 2\n",
      "2 1\n",
      "3 3\n",
      "3 2\n",
      "3 1\n",
      "4 4\n",
      "4 3\n",
      "4 2\n",
      "5 5\n",
      "5 4\n",
      "5 3\n",
      "5 2\n",
      "6 6\n",
      "6 5\n",
      "6 4\n",
      "6 3\n",
      "7 7\n",
      "7 6\n",
      "7 5\n",
      "7 4\n",
      "7 3\n"
     ]
    },
    {
     "data": {
      "text/plain": [
       "6"
      ]
     },
     "execution_count": 10,
     "metadata": {},
     "output_type": "execute_result"
    }
   ],
   "source": [
    "solution = Solution()\n",
    "solution.minHeightShelves(books = [[1,1],[2,3],[2,3],[1,1],[1,1],[1,1],[1,2]], shelf_width = 4)"
   ]
  },
  {
   "cell_type": "code",
   "execution_count": null,
   "metadata": {},
   "outputs": [],
   "source": []
  }
 ],
 "metadata": {
  "kernelspec": {
   "display_name": "Python 3",
   "language": "python",
   "name": "python3"
  },
  "language_info": {
   "codemirror_mode": {
    "name": "ipython",
    "version": 3
   },
   "file_extension": ".py",
   "mimetype": "text/x-python",
   "name": "python",
   "nbconvert_exporter": "python",
   "pygments_lexer": "ipython3",
   "version": "3.6.2"
  }
 },
 "nbformat": 4,
 "nbformat_minor": 4
}
