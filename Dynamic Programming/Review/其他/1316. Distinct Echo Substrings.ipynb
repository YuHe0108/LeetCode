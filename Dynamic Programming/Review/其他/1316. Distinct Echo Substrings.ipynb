{
 "cells": [
  {
   "cell_type": "code",
   "execution_count": null,
   "metadata": {},
   "outputs": [],
   "source": []
  },
  {
   "cell_type": "code",
   "execution_count": null,
   "metadata": {},
   "outputs": [],
   "source": []
  },
  {
   "cell_type": "code",
   "execution_count": null,
   "metadata": {},
   "outputs": [],
   "source": []
  },
  {
   "cell_type": "code",
   "execution_count": 101,
   "metadata": {},
   "outputs": [],
   "source": [
    "from collections import defaultdict\n",
    "\n",
    "# 非 DP 的方法\n",
    "\n",
    "class Solution:\n",
    "    def distinctEchoSubstrings(self, text: str) -> int:\n",
    "        count = defaultdict(list)\n",
    "        for i, c in enumerate(text):\n",
    "            count[c].append(i)\n",
    "            \n",
    "        n = len(text)\n",
    "        seen = set()\n",
    "        for k, v in count.items():\n",
    "            if len(v) == 1:\n",
    "                continue\n",
    "                \n",
    "            m = len(v)\n",
    "            for i in range(m-1): # v[i] 前面一个，v[j] 后面一个\n",
    "                for j in range(i+1, m):\n",
    "                    dis = v[j] - v[i]\n",
    "                    if v[j] + dis > n:\n",
    "                        continue\n",
    "                    if text[v[i]: v[i]+dis] == text[v[j]: v[j]+dis]:\n",
    "                        seen.add(text[v[i]: v[i]+dis])\n",
    "        print(seen)\n",
    "        return len(seen)"
   ]
  },
  {
   "cell_type": "code",
   "execution_count": 102,
   "metadata": {},
   "outputs": [
    {
     "name": "stdout",
     "output_type": "stream",
     "text": [
      "{'leetcode', 'e'}\n"
     ]
    },
    {
     "data": {
      "text/plain": [
       "2"
      ]
     },
     "execution_count": 102,
     "metadata": {},
     "output_type": "execute_result"
    }
   ],
   "source": [
    "solution = Solution()\n",
    "solution.distinctEchoSubstrings(text = \"leetcodeleetcode\")"
   ]
  },
  {
   "cell_type": "code",
   "execution_count": null,
   "metadata": {},
   "outputs": [],
   "source": []
  },
  {
   "cell_type": "code",
   "execution_count": null,
   "metadata": {},
   "outputs": [],
   "source": []
  },
  {
   "cell_type": "code",
   "execution_count": 98,
   "metadata": {},
   "outputs": [],
   "source": [
    "\n",
    "class Solution:\n",
    "    def distinctEchoSubstrings(self, text: str) -> int:\n",
    "        \n",
    "        n = len(text)\n",
    "        text = '#' + text\n",
    "        # dp[i][j]: 以 i 和 j 为 text 的结尾时，有多少长度相同的字符\n",
    "        dp = [[0] * (n+1) for _ in range(n+1)] \n",
    "        seen = set()\n",
    "        for i in range(1, n+1):\n",
    "            for j in range(i+1, n+1):\n",
    "                if text[i] == text[j]:\n",
    "                    dp[i][j] = dp[i-1][j-1] + 1\n",
    "                    dis = j - i\n",
    "                    if dp[i][j] == dis:\n",
    "                        sub_str = text[i+1:i+dis+1]\n",
    "                        seen.add(sub_str)\n",
    "        return len(seen)"
   ]
  },
  {
   "cell_type": "code",
   "execution_count": 99,
   "metadata": {},
   "outputs": [
    {
     "data": {
      "text/plain": [
       "5"
      ]
     },
     "execution_count": 99,
     "metadata": {},
     "output_type": "execute_result"
    }
   ],
   "source": [
    "solution = Solution()\n",
    "solution.distinctEchoSubstrings(text = \"aaaaaaaaaa\")"
   ]
  },
  {
   "cell_type": "code",
   "execution_count": null,
   "metadata": {},
   "outputs": [],
   "source": []
  }
 ],
 "metadata": {
  "kernelspec": {
   "display_name": "Python 3",
   "language": "python",
   "name": "python3"
  },
  "language_info": {
   "codemirror_mode": {
    "name": "ipython",
    "version": 3
   },
   "file_extension": ".py",
   "mimetype": "text/x-python",
   "name": "python",
   "nbconvert_exporter": "python",
   "pygments_lexer": "ipython3",
   "version": "3.6.2"
  }
 },
 "nbformat": 4,
 "nbformat_minor": 4
}
