{
 "cells": [
  {
   "cell_type": "code",
   "execution_count": null,
   "metadata": {},
   "outputs": [],
   "source": []
  },
  {
   "cell_type": "code",
   "execution_count": null,
   "metadata": {},
   "outputs": [],
   "source": []
  },
  {
   "cell_type": "code",
   "execution_count": null,
   "metadata": {},
   "outputs": [],
   "source": []
  },
  {
   "cell_type": "code",
   "execution_count": 1,
   "metadata": {},
   "outputs": [],
   "source": [
    "from typing import List\n",
    "\n",
    "class Solution:\n",
    "    def maximalRectangle(self, matrix: List[List[str]]) -> int:\n",
    "        if not matrix:\n",
    "            return 0\n",
    "        m, n = len(matrix), len(matrix[0])\n",
    "        # 记录当前位置上方连续“1”的个数\n",
    "        pre = [0] * (n+1)\n",
    "        res = 0\n",
    "        for i in range(m):\n",
    "            for j in range(n):\n",
    "                # 前缀和\n",
    "                if matrix[i][j] == \"1\":\n",
    "                    pre[j] += 1\n",
    "                else:\n",
    "                    pre[j] = 0\n",
    "\n",
    "            # 单调栈\n",
    "            stack=[-1]\n",
    "            for k,num in enumerate(pre):\n",
    "                while stack and pre[stack[-1]]>num:\n",
    "                    index=stack.pop()\n",
    "                    res=max(res,pre[index]*(k-stack[-1]-1))\n",
    "                stack.append(k)\n",
    "\n",
    "        return res"
   ]
  },
  {
   "cell_type": "code",
   "execution_count": null,
   "metadata": {},
   "outputs": [],
   "source": [
    "class Solution:\n",
    "    def maximalRectangle(self, matrix: List[List[str]]) -> int:\n",
    "        if not matrix or not matrix[0]:\n",
    "            return 0\n",
    "        \n",
    "        @lru_cache(None)\n",
    "        def getMaxArea(nums):\n",
    "            area = 0\n",
    "            stack = [0]\n",
    "            for i in range(1, len(nums)):\n",
    "                v = nums[i]\n",
    "                while stack and nums[stack[-1]] > v:\n",
    "                    h = nums[stack.pop()]\n",
    "                    w = i - stack[-1] - 1\n",
    "                    area = max(area, h*w)\n",
    "                stack.append(i)\n",
    "            return area\n",
    "        \n",
    "        res = 0\n",
    "        rows, cols = len(matrix), len(matrix[0])\n",
    "        all_vals = []\n",
    "        vals = [0] * cols\n",
    "        for j in range(i, rows):\n",
    "            for k in range(cols):\n",
    "                if matrix[j][k] == '1':\n",
    "                    vals[k] += 1\n",
    "                else:\n",
    "                    vals[k] = 0\n",
    "            all_vals.append(vals[:])\n",
    "                \n",
    "        for val in all_vals:\n",
    "            val = [0] + val + [0]\n",
    "            res = max(res, getMaxArea(tuple(val)))\n",
    "        return res"
   ]
  }
 ],
 "metadata": {
  "kernelspec": {
   "display_name": "Python 3",
   "language": "python",
   "name": "python3"
  },
  "language_info": {
   "codemirror_mode": {
    "name": "ipython",
    "version": 3
   },
   "file_extension": ".py",
   "mimetype": "text/x-python",
   "name": "python",
   "nbconvert_exporter": "python",
   "pygments_lexer": "ipython3",
   "version": "3.6.2"
  }
 },
 "nbformat": 4,
 "nbformat_minor": 4
}
