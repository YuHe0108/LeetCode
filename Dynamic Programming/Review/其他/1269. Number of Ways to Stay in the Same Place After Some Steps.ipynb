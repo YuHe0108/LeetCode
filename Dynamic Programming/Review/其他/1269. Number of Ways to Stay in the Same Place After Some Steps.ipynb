{
 "cells": [
  {
   "cell_type": "code",
   "execution_count": null,
   "metadata": {},
   "outputs": [],
   "source": []
  },
  {
   "cell_type": "code",
   "execution_count": null,
   "metadata": {},
   "outputs": [],
   "source": []
  },
  {
   "cell_type": "code",
   "execution_count": null,
   "metadata": {},
   "outputs": [],
   "source": []
  },
  {
   "cell_type": "code",
   "execution_count": null,
   "metadata": {},
   "outputs": [],
   "source": []
  },
  {
   "cell_type": "code",
   "execution_count": 12,
   "metadata": {},
   "outputs": [],
   "source": [
    "\n",
    "class Solution:\n",
    "    def numWays(self, steps: int, arrLen: int) -> int:\n",
    "        \n",
    "        mod = pow(10, 9) + 7\n",
    "        n = min(steps // 2 + 1, arrLen) # 因为要赶回 0 点，所以在走到中间的时候，必须要返回\n",
    "        dp = [[0] * n  for _ in range(steps+1)]\n",
    "        dp[0][0] = 1\n",
    "        \n",
    "        for i in range(1, steps+1):\n",
    "            min_idx = min(i, n-1) # 因为才是 第 i 步，所以最远只能走到 i\n",
    "            for j in range(min_idx + 1):\n",
    "                if j == 0:\n",
    "                    dp[i][j] = dp[i-1][j] + dp[i-1][j+1]\n",
    "                elif j == min_idx:\n",
    "                    dp[i][j] = dp[i-1][j-1] + dp[i-1][j]\n",
    "                else:\n",
    "                    dp[i][j] = dp[i-1][j-1] + dp[i-1][j] + dp[i-1][j+1]\n",
    "        return dp[-1][0] % mod"
   ]
  },
  {
   "cell_type": "code",
   "execution_count": 13,
   "metadata": {},
   "outputs": [
    {
     "name": "stdout",
     "output_type": "stream",
     "text": [
      "[[1, 0], [1, 1], [2, 2], [4, 4]]\n"
     ]
    },
    {
     "data": {
      "text/plain": [
       "4"
      ]
     },
     "execution_count": 13,
     "metadata": {},
     "output_type": "execute_result"
    }
   ],
   "source": [
    "solution = Solution()\n",
    "solution.numWays(steps = 3, arrLen = 2)"
   ]
  },
  {
   "cell_type": "code",
   "execution_count": null,
   "metadata": {},
   "outputs": [],
   "source": []
  }
 ],
 "metadata": {
  "kernelspec": {
   "display_name": "Python 3",
   "language": "python",
   "name": "python3"
  },
  "language_info": {
   "codemirror_mode": {
    "name": "ipython",
    "version": 3
   },
   "file_extension": ".py",
   "mimetype": "text/x-python",
   "name": "python",
   "nbconvert_exporter": "python",
   "pygments_lexer": "ipython3",
   "version": "3.6.2"
  }
 },
 "nbformat": 4,
 "nbformat_minor": 4
}
