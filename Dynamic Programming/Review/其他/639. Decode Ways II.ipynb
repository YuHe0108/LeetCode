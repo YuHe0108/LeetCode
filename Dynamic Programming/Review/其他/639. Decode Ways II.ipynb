{
 "cells": [
  {
   "cell_type": "code",
   "execution_count": null,
   "metadata": {},
   "outputs": [],
   "source": []
  },
  {
   "cell_type": "code",
   "execution_count": null,
   "metadata": {},
   "outputs": [],
   "source": []
  },
  {
   "cell_type": "code",
   "execution_count": null,
   "metadata": {},
   "outputs": [],
   "source": [
    "  # 处理 s[i] == '0' 的情况\n",
    "            if s[i] != '0': # s[i] 单独作为一个字母\n",
    "                if s[i] == '*':\n",
    "                    dp[i] += dp[i-1] * 9 # 如果是 '*' 的话就有 9 种可能\n",
    "                else:\n",
    "                    dp[i] += dp[i-1] # 不是 '*' 的话只有一种可能"
   ]
  },
  {
   "cell_type": "code",
   "execution_count": 61,
   "metadata": {},
   "outputs": [],
   "source": [
    "class Solution:\n",
    "    def numDecodings(self, s: str) -> int:\n",
    "        if s[0] == '0':\n",
    "            return 0\n",
    "        \n",
    "        n = len(s)\n",
    "        s = '#' + s\n",
    "        dp = [0] * (1 + n)\n",
    "        dp[0] = 1\n",
    "        dp[1] = 9 if s[1] == '*' else 1\n",
    "        candicate = {'0', '1', '2', '3', '4', '5', '6'}\n",
    "        mod = pow(10, 9) + 7\n",
    "        for i in range(2, n+1):\n",
    "            if s[i] == '0' and s[i-1] != '*' and s[i-1] >= '3':\n",
    "                return 0 \n",
    "            \n",
    "            # 1. s[i] 自己作为一个字母\n",
    "            if s[i] == '*':\n",
    "                dp[i] += dp[i-1] * 9\n",
    "            elif s[i] != '0': # 1-9,只要s[i] 不等于 0，就可以自己作为字母\n",
    "                dp[i] += dp[i-1]\n",
    "            \n",
    "            # 2. 与前一个数字 联合组成一个字母\n",
    "            if s[i-1] == '1':\n",
    "                if s[i] == '*': # 因为 s[i] == '*', 那么如果 s[i-1] == 1的话，就会有9可能\n",
    "                    dp[i] += dp[i-2] * 9\n",
    "                else:\n",
    "                    dp[i] += dp[i-2]\n",
    "            elif s[i-1] == '2':\n",
    "                if s[i] == '*':\n",
    "                    dp[i] += dp[i-2] * 6\n",
    "                elif s[i] in candicate: # 如果是 '*' 或者是 [0 ~ 6]\n",
    "                    dp[i] += dp[i-2]\n",
    "            elif s[i-1] == '*': # 如果 s[i-1] == '*', 那么 s[i-1] 只有 == '1' 或者 == '2' 的时候才能与前面的数字组成单词\n",
    "                # 那么 s[i-1] 可以是 '1' 或者 '2'\n",
    "                if s[i] == '*':\n",
    "                    dp[i] += dp[i-2] * 9 + dp[i-2] * 6\n",
    "                else:\n",
    "                    if s[i] <= '6': # <= 6的话，s[i-1] 可以取值为 '1' 或者 '2',两种可能性\n",
    "                        dp[i] += dp[i-2] * 2 \n",
    "                    else:\n",
    "                        dp[i] += dp[i-2] # 而如果大于 '6'的话，取值只能是 '1'\n",
    "            \n",
    "            dp[i] = dp[i] % mod\n",
    "        return dp[-1] % mod"
   ]
  },
  {
   "cell_type": "code",
   "execution_count": 63,
   "metadata": {},
   "outputs": [
    {
     "data": {
      "text/plain": [
       "404"
      ]
     },
     "execution_count": 63,
     "metadata": {},
     "output_type": "execute_result"
    }
   ],
   "source": [
    "solution = Solution()\n",
    "solution.numDecodings(\"*1*1*0\")"
   ]
  },
  {
   "cell_type": "code",
   "execution_count": null,
   "metadata": {},
   "outputs": [],
   "source": []
  },
  {
   "cell_type": "code",
   "execution_count": null,
   "metadata": {},
   "outputs": [],
   "source": []
  },
  {
   "cell_type": "code",
   "execution_count": null,
   "metadata": {},
   "outputs": [],
   "source": []
  },
  {
   "cell_type": "code",
   "execution_count": 44,
   "metadata": {},
   "outputs": [],
   "source": [
    "class Solution:\n",
    "    def numDecodings(self, s: str) -> int:\n",
    "        if s[0] == '0':\n",
    "            return 0\n",
    "        \n",
    "        n = len(s)\n",
    "        s = '#' + s\n",
    "        dp = [0] * (1 + n)\n",
    "        dp[0] = 1\n",
    "        dp[1] = 9 if s[1] == '*' else 1"
   ]
  },
  {
   "cell_type": "code",
   "execution_count": 43,
   "metadata": {},
   "outputs": [
    {
     "data": {
      "text/plain": [
       "1"
      ]
     },
     "execution_count": 43,
     "metadata": {},
     "output_type": "execute_result"
    }
   ],
   "source": [
    "solution = Solution()\n",
    "solution.numDecodings(\"204\")"
   ]
  },
  {
   "cell_type": "code",
   "execution_count": 4,
   "metadata": {},
   "outputs": [
    {
     "data": {
      "text/plain": [
       "False"
      ]
     },
     "execution_count": 4,
     "metadata": {},
     "output_type": "execute_result"
    }
   ],
   "source": []
  },
  {
   "cell_type": "code",
   "execution_count": null,
   "metadata": {},
   "outputs": [],
   "source": []
  }
 ],
 "metadata": {
  "kernelspec": {
   "display_name": "Python 3",
   "language": "python",
   "name": "python3"
  },
  "language_info": {
   "codemirror_mode": {
    "name": "ipython",
    "version": 3
   },
   "file_extension": ".py",
   "mimetype": "text/x-python",
   "name": "python",
   "nbconvert_exporter": "python",
   "pygments_lexer": "ipython3",
   "version": "3.6.2"
  }
 },
 "nbformat": 4,
 "nbformat_minor": 4
}
