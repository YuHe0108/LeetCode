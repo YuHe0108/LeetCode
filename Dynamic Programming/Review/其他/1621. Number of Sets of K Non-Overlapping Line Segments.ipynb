{
 "cells": [
  {
   "cell_type": "code",
   "execution_count": null,
   "metadata": {},
   "outputs": [],
   "source": []
  },
  {
   "cell_type": "code",
   "execution_count": null,
   "metadata": {},
   "outputs": [],
   "source": []
  },
  {
   "cell_type": "code",
   "execution_count": null,
   "metadata": {},
   "outputs": [],
   "source": []
  },
  {
   "cell_type": "raw",
   "metadata": {},
   "source": [
    "2 <= n <= 1000\n",
    "1 <= k <= n-1"
   ]
  },
  {
   "cell_type": "code",
   "execution_count": 15,
   "metadata": {},
   "outputs": [],
   "source": [
    "class Solution:\n",
    "    def numberOfSets(self, n: int, k: int) -> int:\n",
    "        \n",
    "        # dp[i][j]: 前 i 个节点，已经画了 j 条线，并且不相交的方案数\n",
    "        dp = [[0] * (k+1) for _ in range(n+1)] \n",
    "        dp[0][0] = 1\n",
    "        \n",
    "        for i in range(1, n+1):\n",
    "            for k in range(1, min(i, k)+1):\n",
    "                \n",
    "                # 使用 \n",
    "                for j in range(i):\n",
    "                    dp[i][k] += dp[j][k-1] + dp[j][k] # dp[i][k] = dp[i-1][k-1] + dp[i-2][k-1]\n",
    "        \n",
    "        mod = pow(10, 9) + 7\n",
    "        return dp"
   ]
  },
  {
   "cell_type": "code",
   "execution_count": null,
   "metadata": {},
   "outputs": [],
   "source": []
  },
  {
   "cell_type": "code",
   "execution_count": null,
   "metadata": {},
   "outputs": [],
   "source": []
  },
  {
   "cell_type": "code",
   "execution_count": 27,
   "metadata": {},
   "outputs": [],
   "source": [
    "class Solution:\n",
    "    def numberOfSets(self, n: int, k: int) -> int:\n",
    "        \n",
    "        dp0 = [[0] * (k+1) for _ in range(n)] # dp1[i][j]: 使用第 i 个点构造 j 条线\n",
    "        dp1 = [[0] * (k+1) for _ in range(n)] # dp1[i][j]: 不使用第 i 个点构造了 j 条线\n",
    "        dp1[0][0] = 1\n",
    "        dp0[0][0] = 1\n",
    "        \n",
    "        for i in range(n):\n",
    "            for j in range(1, k+1):\n",
    "                dp0[i][j] = dp0[q][j-1] + dp1[q][j-1]\n",
    "                dp1[i][j] = dp1[q][j]\n",
    "        print(dp0)\n",
    "        print(dp1)\n",
    "        mod = pow(10, 9) + 7\n",
    "        return "
   ]
  },
  {
   "cell_type": "code",
   "execution_count": 28,
   "metadata": {},
   "outputs": [
    {
     "name": "stdout",
     "output_type": "stream",
     "text": [
      "[[1, 0, 0], [0, 2, 0], [0, 0, 2], [0, 0, 0]]\n",
      "[[1, 0, 0], [0, 0, 0], [0, 0, 0], [0, 0, 0]]\n"
     ]
    }
   ],
   "source": [
    "solution = Solution()\n",
    "solution.numberOfSets(n = 4, k = 2)"
   ]
  },
  {
   "cell_type": "code",
   "execution_count": null,
   "metadata": {},
   "outputs": [],
   "source": []
  }
 ],
 "metadata": {
  "kernelspec": {
   "display_name": "Python 3",
   "language": "python",
   "name": "python3"
  },
  "language_info": {
   "codemirror_mode": {
    "name": "ipython",
    "version": 3
   },
   "file_extension": ".py",
   "mimetype": "text/x-python",
   "name": "python",
   "nbconvert_exporter": "python",
   "pygments_lexer": "ipython3",
   "version": "3.6.2"
  }
 },
 "nbformat": 4,
 "nbformat_minor": 4
}
