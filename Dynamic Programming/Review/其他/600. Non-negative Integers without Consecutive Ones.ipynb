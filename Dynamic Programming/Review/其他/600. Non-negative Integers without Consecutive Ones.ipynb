{
 "cells": [
  {
   "cell_type": "code",
   "execution_count": null,
   "metadata": {},
   "outputs": [],
   "source": []
  },
  {
   "cell_type": "code",
   "execution_count": null,
   "metadata": {},
   "outputs": [],
   "source": []
  },
  {
   "cell_type": "code",
   "execution_count": null,
   "metadata": {},
   "outputs": [],
   "source": []
  },
  {
   "cell_type": "code",
   "execution_count": null,
   "metadata": {},
   "outputs": [],
   "source": []
  },
  {
   "cell_type": "code",
   "execution_count": null,
   "metadata": {},
   "outputs": [],
   "source": []
  },
  {
   "cell_type": "code",
   "execution_count": 41,
   "metadata": {},
   "outputs": [],
   "source": [
    "class Solution:\n",
    "    def findIntegers(self, num: int) -> int:\n",
    "        dp = [0] * 33 # 对于 bit num 的数字长度为 i 时，有多少不包含连续 1 的整数\n",
    "        dp[0] = 1\n",
    "        dp[1] = 2\n",
    "        for i in range(2, 33):\n",
    "            dp[i] = dp[i-1] + dp[i-2]\n",
    "            \n",
    "        bit_vals = [0] # 拆分 num 每个 bit 位置上的 数字\n",
    "        for i in range(33):\n",
    "            bit_vals.append(num % 2)\n",
    "            num //= 2\n",
    "        \n",
    "        i = 32\n",
    "        cnt = 0\n",
    "        while i >= 1:\n",
    "             # 如果 num 在 bit 位 = i 的数值等于 0，那么为了比num小，我们一定也要取 0，递归调用\n",
    "            if bit_vals[i] == 0:\n",
    "                i -= 1\n",
    "            else:\n",
    "                cnt += dp[i-1] # [1 xxxxxx], [0 xxxxxx] # 如果我们取 0，那么后面的数字都是小于 num 的\n",
    "                # [1 xxxxxx], [1 xxxxxx], 我们也可以取 1\n",
    "                if i >= 2 and bit_vals[i-1] == 1: # 因为是从第 1 位开始的，所以 i-1 >= 1, i >= 2\n",
    "                    cnt += dp[i-2] # [1 1 xxxxx] , [1 0 xxxxx]\n",
    "                    return cnt\n",
    "                else:\n",
    "                    i -= 2\n",
    "        cnt += 1\n",
    "        return cnt"
   ]
  },
  {
   "cell_type": "code",
   "execution_count": 42,
   "metadata": {},
   "outputs": [
    {
     "data": {
      "text/plain": [
       "3"
      ]
     },
     "execution_count": 42,
     "metadata": {},
     "output_type": "execute_result"
    }
   ],
   "source": [
    "solution = Solution()\n",
    "solution.findIntegers(3)"
   ]
  },
  {
   "cell_type": "raw",
   "metadata": {},
   "source": [
    "1、如果 num[idx] = 0, 为了比 num 的值小，我们只能也取值为 0，只有一条路可以走，继续递归调用\n",
    "2. 如果 num[idx] = 1, 我们有两条路\n",
    "    2.1 set_num[idx] 取值为 0，则 cnt += dp[idx - 1]\n",
    "    2.2 set_num[idx] 取值为 1，需要看 num[idx+1], 如果 num[idx+1] == 1, 说明 set_num[idx+1] 只能为 0， cnt += dp[idx-2]\n",
    "        如果 num[idx+1] == 1, set_nums[idx+1] = 0, 则实现了递归调用\n",
    "        \n",
    "      (0) 0 xxxxxxxx  (循环递归调用)\n",
    "          0 xxxxxxxx \n",
    "        \n",
    "      (1) 1 xxxxxxx (一定是可以选择)   (2) 1 xxxxxx  [2.1] -> 10xxxxxx            [2.2] -> 11 xxxxxxx\n",
    "          0 xxxxxxx                       1 xxxxxx        -> 10xxxxxx 递归调用          -> 10 xxxxxxx\n",
    "       \n",
    "       其中 (1) 和 (2) 是当 nums[idx] == 1 可以进行的两种选择\n",
    "       而 [2.1] 和 [2.2] 只能根据 nums[idx-1] 的结果进行选择"
   ]
  }
 ],
 "metadata": {
  "kernelspec": {
   "display_name": "Python 3",
   "language": "python",
   "name": "python3"
  },
  "language_info": {
   "codemirror_mode": {
    "name": "ipython",
    "version": 3
   },
   "file_extension": ".py",
   "mimetype": "text/x-python",
   "name": "python",
   "nbconvert_exporter": "python",
   "pygments_lexer": "ipython3",
   "version": "3.6.2"
  }
 },
 "nbformat": 4,
 "nbformat_minor": 4
}
