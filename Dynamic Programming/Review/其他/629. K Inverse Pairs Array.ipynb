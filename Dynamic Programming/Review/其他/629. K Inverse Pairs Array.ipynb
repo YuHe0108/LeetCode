{
 "cells": [
  {
   "cell_type": "code",
   "execution_count": null,
   "metadata": {},
   "outputs": [],
   "source": []
  },
  {
   "cell_type": "code",
   "execution_count": null,
   "metadata": {},
   "outputs": [],
   "source": []
  },
  {
   "cell_type": "code",
   "execution_count": null,
   "metadata": {},
   "outputs": [],
   "source": []
  },
  {
   "cell_type": "code",
   "execution_count": null,
   "metadata": {},
   "outputs": [],
   "source": []
  },
  {
   "cell_type": "raw",
   "metadata": {},
   "source": [
    "思路：\n",
    "    6 x x x x x \n",
    "    dp[i][j] = dp[i-1][j-5] + dp[i-1][j-4] + dp[i-1][j-3] + ... dp[i-1][j]\n",
    "\n",
    "\n",
    "dp[i][j] = dp[i-1][j] + dp[i-1][j-1] + dp[i-1][j- 2] + ... dp[i-1][j- (i-2)] + dp[i-1][j- (i-1)]\n",
    "dp[i][j-1] =           dp[i-1][j-1] +  dp[i-1][j- 2] + ... dp[i-1][j- (i-2)] + dp[i-1][j- (i-1)] + dp[i-1][j-i] # j -> j -1\n",
    "\n",
    "dp[i][j] - dp[i][j-1] = dp[i-1][j] - dp[i-1][j-i]\n",
    "dp[i][j] = dp[i-1][j] - dp[i-1][j-i] + dp[i][j-1]"
   ]
  },
  {
   "cell_type": "code",
   "execution_count": null,
   "metadata": {},
   "outputs": [],
   "source": []
  },
  {
   "cell_type": "code",
   "execution_count": null,
   "metadata": {},
   "outputs": [],
   "source": []
  },
  {
   "cell_type": "code",
   "execution_count": null,
   "metadata": {},
   "outputs": [],
   "source": [
    "class Solution:\n",
    "    def kInversePairs(self, n: int, k: int) -> int:\n",
    "        mod = pow(10, 9) + 7\n",
    "        dp = [[0] * (1 + k) for _ in range(1 + n)]\n",
    "        dp[0][0] = 1\n",
    "        for i in range(1, n+1):\n",
    "            for j in range(i):\n",
    "                for m in range(k+1):\n",
    "                    if m - j >= 0 and m - j <= k:\n",
    "                        dp[i][m] += dp[i-1][m-j]\n",
    "        print(dp)\n",
    "        return dp[-1][-1] % mod"
   ]
  },
  {
   "cell_type": "code",
   "execution_count": 25,
   "metadata": {},
   "outputs": [],
   "source": [
    "class Solution:\n",
    "    def kInversePairs(self, n: int, k: int) -> int:\n",
    "        dp = [[0] * (k + 1) for _ in range(n + 1)]\n",
    "        for i in range(n+1): # 不管有多少数字，只要没有 invers pair，那么cnt都是等于1的\n",
    "            dp[i][0] = 1\n",
    "        mod = pow(10, 9) + 7\n",
    "        \n",
    "        for i in range(1, n+1):\n",
    "            for j in range(1, k+1):\n",
    "                for m in range(min(j, i-1) + 1): # m 是可以一直取到 i-1的，但是以为 j-m, 所以 m 的值也不能大于 j\n",
    "                    dp[i][j] += dp[i-1][j-m]\n",
    "        return dp[-1][-1] % mod"
   ]
  },
  {
   "cell_type": "code",
   "execution_count": null,
   "metadata": {},
   "outputs": [],
   "source": []
  },
  {
   "cell_type": "code",
   "execution_count": 27,
   "metadata": {},
   "outputs": [],
   "source": [
    "class Solution:\n",
    "    def kInversePairs(self, n: int, k: int) -> int:\n",
    "        dp = [[0] * (k + 1) for _ in range(n + 1)]\n",
    "        for i in range(n+1): # 不管有多少数字，只要没有 invers pair，那么cnt都是等于1的\n",
    "            dp[i][0] = 1\n",
    "        mod = pow(10, 9) + 7\n",
    "        \n",
    "        for i in range(1, n+1):\n",
    "            for j in range(1, k+1):\n",
    "                if j - i >= 0:\n",
    "                    dp[i][j] = dp[i-1][j] - dp[i-1][j-i] + dp[i][j-1]\n",
    "                else:\n",
    "                    dp[i][j] = dp[i-1][j] + dp[i][j-1]\n",
    "        return dp[-1][-1] % mod"
   ]
  },
  {
   "cell_type": "code",
   "execution_count": 28,
   "metadata": {},
   "outputs": [
    {
     "data": {
      "text/plain": [
       "0"
      ]
     },
     "execution_count": 28,
     "metadata": {},
     "output_type": "execute_result"
    }
   ],
   "source": [
    "solution = Solution()\n",
    "solution.kInversePairs(n = 1, k = 1)"
   ]
  },
  {
   "cell_type": "code",
   "execution_count": null,
   "metadata": {},
   "outputs": [],
   "source": []
  }
 ],
 "metadata": {
  "kernelspec": {
   "display_name": "Python 3",
   "language": "python",
   "name": "python3"
  },
  "language_info": {
   "codemirror_mode": {
    "name": "ipython",
    "version": 3
   },
   "file_extension": ".py",
   "mimetype": "text/x-python",
   "name": "python",
   "nbconvert_exporter": "python",
   "pygments_lexer": "ipython3",
   "version": "3.6.2"
  }
 },
 "nbformat": 4,
 "nbformat_minor": 4
}
