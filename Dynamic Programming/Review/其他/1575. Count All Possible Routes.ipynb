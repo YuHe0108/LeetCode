{
 "cells": [
  {
   "cell_type": "code",
   "execution_count": null,
   "metadata": {},
   "outputs": [],
   "source": []
  },
  {
   "cell_type": "code",
   "execution_count": null,
   "metadata": {},
   "outputs": [],
   "source": []
  },
  {
   "cell_type": "code",
   "execution_count": null,
   "metadata": {},
   "outputs": [],
   "source": []
  },
  {
   "cell_type": "code",
   "execution_count": null,
   "metadata": {},
   "outputs": [],
   "source": []
  },
  {
   "cell_type": "code",
   "execution_count": null,
   "metadata": {},
   "outputs": [],
   "source": [
    "{start: (1, fuel)}\n",
    "dq = [[1, fuel]]\n",
    "dq = [[]]"
   ]
  },
  {
   "cell_type": "code",
   "execution_count": 80,
   "metadata": {},
   "outputs": [],
   "source": [
    "from typing import List\n",
    "\n",
    "class Solution:\n",
    "    def countRoutes(self, locations: List[int], start: int, finish: int, fuel: int) -> int:\n",
    "        n = len(locations)\n",
    "        dp = [[0] * (fuel + 1) for _ in range(n)]\n",
    "        dp[start][0] = 1 # 起点的位置，使用的 fuel 量为 0，只有一种方案\n",
    "        mod = pow(10, 9) + 7\n",
    "        \n",
    "        for i in range(n):\n",
    "            for j in range(fuel, -1, -1):\n",
    "                for k in range(n): # 从 i 出发，最多使用 j 个油，可以去到 那个 k\n",
    "                    if k == i:\n",
    "                        continue\n",
    "                    dis = abs(locations[i] - locations[k]) # 两者之间的距离\n",
    "                    if dis > j: # 开不到地方，fuel < distance\n",
    "                        continue\n",
    "                    dp[i][j] += sum(dp[k][:j - dis + 1])\n",
    "        print(dp)\n",
    "        return sum(dp[finish]) % mod"
   ]
  },
  {
   "cell_type": "code",
   "execution_count": 81,
   "metadata": {},
   "outputs": [
    {
     "name": "stdout",
     "output_type": "stream",
     "text": [
      "[[1, 0, 0, 0, 0, 0, 0, 0, 0, 0, 0, 0, 0, 0, 0, 0, 0, 0, 0, 0, 0, 0, 0, 0, 0, 0, 0, 0, 0, 0, 0, 0, 0, 0, 0, 0, 0, 0, 0, 0, 0], [0, 1, 1, 1, 1, 1, 1, 1, 1, 1, 1, 1, 1, 1, 1, 1, 1, 1, 1, 1, 1, 1, 1, 1, 1, 1, 1, 1, 1, 1, 1, 1, 1, 1, 1, 1, 1, 1, 1, 1, 1], [0, 0, 2, 3, 4, 5, 6, 7, 8, 9, 10, 11, 12, 13, 14, 15, 16, 17, 18, 19, 20, 21, 22, 23, 24, 25, 26, 27, 28, 29, 30, 31, 32, 33, 34, 35, 36, 37, 38, 39, 40]]\n"
     ]
    },
    {
     "data": {
      "text/plain": [
       "819"
      ]
     },
     "execution_count": 81,
     "metadata": {},
     "output_type": "execute_result"
    }
   ],
   "source": [
    "solution = Solution()\n",
    "solution.countRoutes(locations = [1,2,3], start = 0, finish = 2, fuel = 40)"
   ]
  },
  {
   "cell_type": "code",
   "execution_count": null,
   "metadata": {},
   "outputs": [],
   "source": []
  },
  {
   "cell_type": "code",
   "execution_count": null,
   "metadata": {},
   "outputs": [],
   "source": []
  },
  {
   "cell_type": "code",
   "execution_count": 82,
   "metadata": {},
   "outputs": [],
   "source": [
    "from typing import List\n",
    "\n",
    "class Solution:\n",
    "    def countRoutes(self, locations: List[int], start: int, finish: int, fuel: int) -> int:\n",
    "        n = len(locations)\n",
    "        mod = pow(10, 9) + 7\n",
    "        dp = [[0] * n for _ in range(fuel + 1)]\n",
    "        dp[fuel][start] = 1\n",
    "        \n",
    "        for f in range(fuel, -1, -1):\n",
    "            for i in range(n):\n",
    "                for j in range(n):\n",
    "                    if j == i:\n",
    "                        continue\n",
    "                    dis = abs(locations[i] - locations[j]) # 距离\n",
    "                    if f + dis <= fuel:\n",
    "                        dp[f][i] += dp[f+dis][j]\n",
    "        res = 0\n",
    "        for f in range(fuel+1):\n",
    "            res += dp[f][finish]\n",
    "        return res % mod"
   ]
  },
  {
   "cell_type": "code",
   "execution_count": 83,
   "metadata": {},
   "outputs": [
    {
     "data": {
      "text/plain": [
       "615088286"
      ]
     },
     "execution_count": 83,
     "metadata": {},
     "output_type": "execute_result"
    }
   ],
   "source": [
    "solution = Solution()\n",
    "solution.countRoutes(locations = [1,2,3], start = 0, finish = 2, fuel = 40)"
   ]
  },
  {
   "cell_type": "code",
   "execution_count": null,
   "metadata": {},
   "outputs": [],
   "source": []
  },
  {
   "cell_type": "code",
   "execution_count": 84,
   "metadata": {},
   "outputs": [],
   "source": [
    "from typing import List\n",
    "\n",
    "class Solution:\n",
    "    def countRoutes(self, locations: List[int], start: int, finish: int, fuel: int) -> int:\n",
    "        n = len(locations)\n",
    "        mod = pow(10, 9) + 7\n",
    "        \n",
    "        return "
   ]
  },
  {
   "cell_type": "code",
   "execution_count": 85,
   "metadata": {},
   "outputs": [],
   "source": [
    "solution = Solution()\n",
    "solution.countRoutes(locations = [1,2,3], start = 0, finish = 2, fuel = 40)"
   ]
  },
  {
   "cell_type": "code",
   "execution_count": null,
   "metadata": {},
   "outputs": [],
   "source": []
  },
  {
   "cell_type": "code",
   "execution_count": null,
   "metadata": {},
   "outputs": [],
   "source": []
  },
  {
   "cell_type": "code",
   "execution_count": null,
   "metadata": {},
   "outputs": [],
   "source": []
  }
 ],
 "metadata": {
  "kernelspec": {
   "display_name": "Python 3",
   "language": "python",
   "name": "python3"
  },
  "language_info": {
   "codemirror_mode": {
    "name": "ipython",
    "version": 3
   },
   "file_extension": ".py",
   "mimetype": "text/x-python",
   "name": "python",
   "nbconvert_exporter": "python",
   "pygments_lexer": "ipython3",
   "version": "3.6.2"
  }
 },
 "nbformat": 4,
 "nbformat_minor": 4
}
