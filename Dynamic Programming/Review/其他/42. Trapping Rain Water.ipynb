{
 "cells": [
  {
   "cell_type": "code",
   "execution_count": null,
   "metadata": {},
   "outputs": [],
   "source": []
  },
  {
   "cell_type": "code",
   "execution_count": null,
   "metadata": {},
   "outputs": [],
   "source": []
  },
  {
   "cell_type": "code",
   "execution_count": null,
   "metadata": {},
   "outputs": [],
   "source": []
  },
  {
   "cell_type": "code",
   "execution_count": 9,
   "metadata": {},
   "outputs": [],
   "source": [
    "from typing import List\n",
    "\n",
    "class Solution:\n",
    "    def trap(self, height: List[int]) -> int:\n",
    "        # 对于每个点，求左边的最高值和右边的最高值\n",
    "        # h = min(left-height, right-hight)\n",
    "        # area = (h - height[i]) * h\n",
    "        n = len(height)\n",
    "        left_most = [0] * n\n",
    "        right_most = [0] * n\n",
    "        for i in range(1, n):\n",
    "            left_most[i] = max(left_most[i-1], height[i-1])\n",
    "        for i in range(n-2, -1, -1):\n",
    "            right_most[i] = max(right_most[i+1], height[i+1])\n",
    "        \n",
    "        area = 0\n",
    "        for i in range(n):\n",
    "            h = min(left_most[i], right_most[i]) - height[i]\n",
    "            area += max(h, 0)\n",
    "        return area"
   ]
  },
  {
   "cell_type": "code",
   "execution_count": 10,
   "metadata": {},
   "outputs": [
    {
     "data": {
      "text/plain": [
       "6"
      ]
     },
     "execution_count": 10,
     "metadata": {},
     "output_type": "execute_result"
    }
   ],
   "source": [
    "solution = Solution()\n",
    "solution.trap(height = [0,1,0,2,1,0,1,3,2,1,2,1])"
   ]
  },
  {
   "cell_type": "markdown",
   "metadata": {},
   "source": [
    "### 使用单调栈的解法"
   ]
  },
  {
   "cell_type": "code",
   "execution_count": 17,
   "metadata": {},
   "outputs": [],
   "source": [
    "from typing import List\n",
    "\n",
    "# 维护一个单调递减的栈\n",
    "\n",
    "class Solution:\n",
    "    def trap(self, height: List[int]) -> int:\n",
    "        stack = []\n",
    "        res = 0\n",
    "        for i, h in enumerate(height):\n",
    "            while stack and height[stack[-1]] < h:\n",
    "                cur_h = height[stack.pop()] # 当前位置 柱子的高度\n",
    "                if stack:\n",
    "                    # 在左边界和右边界选择一个最小值，不会出现p_h小于0 的情况\n",
    "                    p_h = min(h, height[stack[-1]]) - cur_h\n",
    "                    p_w = i - stack[-1] - 1 # 计算宽度\n",
    "                    res += p_h * p_w\n",
    "            stack.append(i)\n",
    "        return res"
   ]
  },
  {
   "cell_type": "code",
   "execution_count": 18,
   "metadata": {},
   "outputs": [
    {
     "data": {
      "text/plain": [
       "6"
      ]
     },
     "execution_count": 18,
     "metadata": {},
     "output_type": "execute_result"
    }
   ],
   "source": [
    "solution = Solution()\n",
    "solution.trap(height = [0,1,0,2,1,0,1,3,2,1,2,1])"
   ]
  },
  {
   "cell_type": "code",
   "execution_count": null,
   "metadata": {},
   "outputs": [],
   "source": []
  }
 ],
 "metadata": {
  "kernelspec": {
   "display_name": "Python 3",
   "language": "python",
   "name": "python3"
  },
  "language_info": {
   "codemirror_mode": {
    "name": "ipython",
    "version": 3
   },
   "file_extension": ".py",
   "mimetype": "text/x-python",
   "name": "python",
   "nbconvert_exporter": "python",
   "pygments_lexer": "ipython3",
   "version": "3.6.2"
  }
 },
 "nbformat": 4,
 "nbformat_minor": 4
}
