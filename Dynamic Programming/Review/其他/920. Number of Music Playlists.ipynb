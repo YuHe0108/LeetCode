{
 "cells": [
  {
   "cell_type": "code",
   "execution_count": null,
   "metadata": {},
   "outputs": [],
   "source": []
  },
  {
   "cell_type": "code",
   "execution_count": null,
   "metadata": {},
   "outputs": [],
   "source": []
  },
  {
   "cell_type": "code",
   "execution_count": null,
   "metadata": {},
   "outputs": [],
   "source": []
  },
  {
   "cell_type": "code",
   "execution_count": null,
   "metadata": {},
   "outputs": [],
   "source": [
    "播放一首歌曲\n",
    "1\n",
    "2\n",
    "3 \n",
    "\n",
    "播放两首歌曲，有不符合规则的 dp[i] = dp[i-1] * N # 有重复项目， 如何去重？\n",
    "    1 1 (1)\n",
    "1 2\n",
    "1 3\n",
    "2 1\n",
    "    2 2\n",
    "2 3\n",
    "3 1\n",
    "3 2\n",
    "    3 3\n",
    "\n",
    "播放三首, 每首歌后面都可以再次 + [1, N] 中的任意一首\n",
    "1 1 1\n",
    "1 1 2\n",
    "1 1 3\n",
    "1 2 1\n",
    "1 2 2\n",
    "1 2 3"
   ]
  },
  {
   "cell_type": "raw",
   "metadata": {},
   "source": [
    "    XXXX    Y    dp[i] = dp[i-1] , i 表示播放了 i 首歌曲\n",
    "       i-1  i"
   ]
  },
  {
   "cell_type": "code",
   "execution_count": 16,
   "metadata": {},
   "outputs": [],
   "source": [
    "class Solution:\n",
    "    def numMusicPlaylists(self, N: int, L: int, K: int) -> int:\n",
    "        mod = pow(10, 9) + 7\n",
    "        # 播放 L 首歌，重复只有在 播放了 K 首歌之后才可以，歌曲列表 为 [1, N]\n",
    "        # dp[i][j], 总共有 i 个播放位置，用 j 首个有多少种可能的方案\n",
    "        dp = [[0] * (N + 1) for _ in range(1 + L)] \n",
    "        dp[1][1] = N # 1 个位置 放 1首歌，那么一共就有 N 个方案\n",
    "        \n",
    "        for i in range(2, L+1):\n",
    "            for j in range(1, min(N, i) + 1):\n",
    "                if i == j == 1:\n",
    "                    continue\n",
    "                # dp[i-1][j],也就是说在第i-1个位置的时候,已经用了j首歌，如果在第 i个位置还用 j首歌\n",
    "                # 那么势必会出现重复的问题，可供选择的歌的数目就是 j-K.当然这里要求 j>K 才行.\n",
    "                if j > K:\n",
    "                    dp[i][j] += dp[i-1][j] * (j - K) # 用了 j 首歌，为了保证间距，只有 j - k 首歌符合标准\n",
    "                \n",
    "                # dp[i-1][j-1],也就是说在第i-1个位置的时候,才用了j-1首歌.那么在考虑dp[i][j]时,\n",
    "                # 在第 i 个位置上,我们必须用新歌.那么可供选择的歌的数目就是 N-(j-1).\n",
    "                if j - 1 < N:\n",
    "                    dp[i][j] += dp[i-1][j-1] * (N- (j-1))\n",
    "            dp[i][j] %= mod\n",
    "        \n",
    "        return dp[-1][-1] % mod"
   ]
  },
  {
   "cell_type": "code",
   "execution_count": 17,
   "metadata": {},
   "outputs": [
    {
     "data": {
      "text/plain": [
       "6"
      ]
     },
     "execution_count": 17,
     "metadata": {},
     "output_type": "execute_result"
    }
   ],
   "source": [
    "solution = Solution()\n",
    "solution.numMusicPlaylists(2, 3, 0)"
   ]
  },
  {
   "cell_type": "code",
   "execution_count": null,
   "metadata": {},
   "outputs": [],
   "source": []
  }
 ],
 "metadata": {
  "kernelspec": {
   "display_name": "Python 3",
   "language": "python",
   "name": "python3"
  },
  "language_info": {
   "codemirror_mode": {
    "name": "ipython",
    "version": 3
   },
   "file_extension": ".py",
   "mimetype": "text/x-python",
   "name": "python",
   "nbconvert_exporter": "python",
   "pygments_lexer": "ipython3",
   "version": "3.6.2"
  }
 },
 "nbformat": 4,
 "nbformat_minor": 4
}
