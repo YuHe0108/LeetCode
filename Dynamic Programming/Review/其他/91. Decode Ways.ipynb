{
 "cells": [
  {
   "cell_type": "code",
   "execution_count": null,
   "metadata": {},
   "outputs": [],
   "source": []
  },
  {
   "cell_type": "code",
   "execution_count": 6,
   "metadata": {},
   "outputs": [
    {
     "data": {
      "text/plain": [
       "True"
      ]
     },
     "execution_count": 6,
     "metadata": {},
     "output_type": "execute_result"
    }
   ],
   "source": [
    "'0' < '6'"
   ]
  },
  {
   "cell_type": "code",
   "execution_count": null,
   "metadata": {},
   "outputs": [],
   "source": []
  },
  {
   "cell_type": "code",
   "execution_count": 16,
   "metadata": {},
   "outputs": [],
   "source": [
    "# 超时 TLE\n",
    "\n",
    "class Solution:\n",
    "    def numDecodings(self, s: str) -> int:\n",
    "        \n",
    "        def dfs(s):\n",
    "            nonlocal res\n",
    "            n = len(s)\n",
    "            if n == 0:\n",
    "                res += 1\n",
    "                return \n",
    "            if s[0] == '0': # 首字母为 0，那么肯定无法构成任何数字\n",
    "                return\n",
    "            elif s[0] == '1':\n",
    "                dfs(s[1:])\n",
    "                if n > 1:\n",
    "                    dfs(s[2:])\n",
    "            elif s[0] == '2':\n",
    "                dfs(s[1:])\n",
    "                if n > 1 and s[1] <= '6':\n",
    "                    dfs(s[2:])\n",
    "            else: # 大于 2 的数字无法和后面的数字构成一个单词\n",
    "                dfs(s[1:])\n",
    "        res = 0\n",
    "        dfs(s)\n",
    "        return res"
   ]
  },
  {
   "cell_type": "code",
   "execution_count": null,
   "metadata": {},
   "outputs": [],
   "source": []
  },
  {
   "cell_type": "code",
   "execution_count": 20,
   "metadata": {},
   "outputs": [],
   "source": [
    "class Solution:\n",
    "    def numDecodings(self, s: str) -> int:\n",
    "        if s[0] == '0':\n",
    "            return 0\n",
    "        \n",
    "        n = len(s)\n",
    "        dp = [0] * (n + 1)\n",
    "        dp[0] = dp[1] = 1\n",
    "        s = '#' + s\n",
    "        for i in range(2, n+1):\n",
    "            if s[i] == '0' and s[i-1] >= '3':\n",
    "                return 0\n",
    "            if s[i] != '0':\n",
    "                dp[i] += dp[i-1]\n",
    "            \n",
    "            if s[i-1] == '1':\n",
    "                dp[i] += dp[i-2]\n",
    "            elif s[i-1] == '2': # s[i] 可以和 s[i-1] 组成一个字母\n",
    "                if s[i] <= '6': # 0、1、2、3、4、5、6\n",
    "                    dp[i] += dp[i-2]\n",
    "        return dp[-1]"
   ]
  },
  {
   "cell_type": "code",
   "execution_count": 23,
   "metadata": {},
   "outputs": [
    {
     "data": {
      "text/plain": [
       "1"
      ]
     },
     "execution_count": 23,
     "metadata": {},
     "output_type": "execute_result"
    }
   ],
   "source": [
    "solution = Solution()\n",
    "solution.numDecodings(s = \"10\")"
   ]
  },
  {
   "cell_type": "code",
   "execution_count": null,
   "metadata": {},
   "outputs": [],
   "source": []
  },
  {
   "cell_type": "code",
   "execution_count": null,
   "metadata": {},
   "outputs": [],
   "source": []
  }
 ],
 "metadata": {
  "kernelspec": {
   "display_name": "Python 3",
   "language": "python",
   "name": "python3"
  },
  "language_info": {
   "codemirror_mode": {
    "name": "ipython",
    "version": 3
   },
   "file_extension": ".py",
   "mimetype": "text/x-python",
   "name": "python",
   "nbconvert_exporter": "python",
   "pygments_lexer": "ipython3",
   "version": "3.6.2"
  }
 },
 "nbformat": 4,
 "nbformat_minor": 4
}
