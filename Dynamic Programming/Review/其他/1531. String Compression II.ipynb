{
 "cells": [
  {
   "cell_type": "code",
   "execution_count": null,
   "metadata": {},
   "outputs": [],
   "source": []
  },
  {
   "cell_type": "code",
   "execution_count": null,
   "metadata": {},
   "outputs": [],
   "source": []
  },
  {
   "cell_type": "code",
   "execution_count": 31,
   "metadata": {},
   "outputs": [
    {
     "data": {
      "text/plain": [
       "[[9, 9, 9, 9], [9, 9, 9, 9], [9, 9, 9, 9]]"
      ]
     },
     "execution_count": 31,
     "metadata": {},
     "output_type": "execute_result"
    }
   ],
   "source": [
    "a = [[9] * 4 for _ in range(3)]\n",
    "a"
   ]
  },
  {
   "cell_type": "code",
   "execution_count": null,
   "metadata": {},
   "outputs": [],
   "source": []
  },
  {
   "cell_type": "code",
   "execution_count": null,
   "metadata": {},
   "outputs": [],
   "source": []
  },
  {
   "cell_type": "code",
   "execution_count": null,
   "metadata": {},
   "outputs": [],
   "source": [
    "class Solution {\n",
    "    int dp[101][101][27][11];\n",
    "public:\n",
    "    int getLengthOfOptimalCompression(string s, int K) \n",
    "    {\n",
    "        int n = s.size();\n",
    "        s = \"#\"+s;\n",
    "\n",
    "        for (int i=0; i<=n; i++)\n",
    "            for (int k=0; k<=K; k++)\n",
    "                for (int ch=0; ch<=26; ch++)\n",
    "                    for (int num=0; num<=10; num++)\n",
    "                        dp[i][k][ch][num] = INT_MAX;\n",
    "        # dp[i][k][ch][num]: the optimal solution for s[1:i]\n",
    "        #  with k digits removed, last letter as ch, the consecitive number of ch as num\n",
    "\n",
    "        dp[0][0][26][0] = 0;\n",
    "\n",
    "        for (int i=0; i<n; i++)\n",
    "            for (int k=0; k<=min(K, i); k++)\n",
    "                for (int ch = 0; ch <= 26; ch++)\n",
    "                    for (int num = 0; num <=10; num++)\n",
    "                    {\n",
    "                        int cur = dp[i][k][ch][num];\n",
    "                        if (cur==INT_MAX) continue;\n",
    "\n",
    "                        // delete s[i+1]\n",
    "                        dp[i+1][k+1][ch][num] = min(dp[i+1][k+1][ch][num], cur);\n",
    "\n",
    "                        // keep s[i+1]\n",
    "                        if (s[i+1]-'a' == ch)\n",
    "                        {\n",
    "                            int add;\n",
    "                            if (num==1) add = 1;  // a -> a2\n",
    "                            else if (num>=2 && num<=8) add = 0; // a3->a4\n",
    "                            else if (num==9) add = 1; // a9->a10;\n",
    "                            else if (num==10) add = 0; // a10->a11;\n",
    "                            dp[i+1][k][ch][min(num+1, 10)] = min(dp[i+1][k][ch][min(num+1, 10)], cur+add);\n",
    "                        }\n",
    "                        else\n",
    "                        {\n",
    "                            dp[i+1][k][s[i+1]-'a'][1] = min(dp[i+1][k][s[i+1]-'a'][1], cur+1);\n",
    "                        }\n",
    "                    }\n",
    "        \n",
    "        int ret = INT_MAX;\n",
    "        for (int ch = 0; ch <= 26; ch++)\n",
    "            for (int num = 0; num <=10; num++)                    \n",
    "                ret = min(ret, dp[n][K][ch][num]);\n",
    "        \n",
    "        return ret;\n",
    "    }\n",
    "};\n"
   ]
  },
  {
   "cell_type": "code",
   "execution_count": 142,
   "metadata": {},
   "outputs": [],
   "source": [
    "from collections import defaultdict\n",
    "\n",
    "class Solution:\n",
    "    def getLengthOfOptimalCompression(self, s: str, k: int) -> int:\n",
    "        if len(set(s)) == 1: # 如果 s 等于100个相同的字母，那么总长度就是 4，'a100'\n",
    "            return 4\n",
    "        \n",
    "        n = len(s)\n",
    "        # dp[i][j][ch][num]:\n",
    "        # s[:i] 一共 remove 了 j 次，最后一个字母为 ch，连续出现了 num 次，最短的 running lenth的长度\n",
    "        dp = [[[[float('inf')] * 11 for _ in range(27)]  for _ in range(101)] for _ in range(101)] \n",
    "        dp[0][0][26][0] = 0 # s长度为 0的时候，remove 0次，最短的长度为 0\n",
    "        \n",
    "        s = [ord(x) - ord('a') for x in s]\n",
    "        s = [-1] + s\n",
    "        for i in range(n):\n",
    "            for j in range(100):\n",
    "                for p in range(26 + 1):\n",
    "                    for q in range(11):\n",
    "                        cur = dp[i][j][p][q]\n",
    "                        if cur == float('inf'): # 如果当前状态不合法，continue\n",
    "                            continue\n",
    "\n",
    "                        # 删除掉 s[i]\n",
    "                        dp[i+1][k+1][p][q] = min(dp[i+1][k+1][p][q], cur)\n",
    "                        \n",
    "                        # 保留 s[i+1], 如果s[i+1] 不等于 s[i]\n",
    "                        if p != s[i+1]:\n",
    "                            dp[i+1][k][s[i+1]][1] = min(dp[i+1][k][s[i+1]][1], cur + 1)\n",
    "                        # 保留 s[i+1], 如果s[i+1] 等于 s[i], 如过之前出现了 9次，需要 +1\n",
    "                        else:\n",
    "                            # 0 -> 1, 9 -> 10\n",
    "                            add = 1 if q == 1 or q == 9 else 0 \n",
    "                            dp[i+1][k][p][min(q+1, 10)] = min(dp[i+1][k][p][min(q+1, 10)], cur + add)\n",
    "                        \n",
    "                        \n",
    "        res = float('inf')\n",
    "        for i in range(26+1):\n",
    "            for j in range(11):\n",
    "                res = min(res, dp[n][k][i][j])\n",
    "        return res"
   ]
  },
  {
   "cell_type": "code",
   "execution_count": null,
   "metadata": {},
   "outputs": [],
   "source": []
  },
  {
   "cell_type": "code",
   "execution_count": null,
   "metadata": {},
   "outputs": [],
   "source": []
  },
  {
   "cell_type": "code",
   "execution_count": 182,
   "metadata": {},
   "outputs": [],
   "source": [
    "from collections import defaultdict\n",
    "from functools import lru_cache\n",
    "\n",
    "class Solution:\n",
    "    def getLengthOfOptimalCompression(self, s: str, k: int) -> int:\n",
    "        @lru_cache(None)\n",
    "        def dp(start, k):\n",
    "            # 从字符串的第start位置开始，可以最多删除 k 个元素\n",
    "            # if (start, k) in memo:\n",
    "            #     return memo[(start, k)]\n",
    "            # n-start <= k, 可以将sub_str中的字符全部移除\n",
    "            if start == n or n - start <= k: \n",
    "                return 0\n",
    "            \n",
    "            ans = float('inf') # 记录 [start:n]最多删除k个元素，compress str 的最小长度是多少 \n",
    "            count = defaultdict(int) # 记录每个元素出现的频率\n",
    "            most_freq = 0 # s[start:n] 中元素最多出现的个数是多少\n",
    "            for j in range(start, n):\n",
    "                c = s[j]\n",
    "                count[c] += 1\n",
    "                most_freq = max(most_freq, count[c]) # 更新元素最多出现的次数\n",
    "                \n",
    "                # 出现 [次数最多的字母] 在压缩后 running str 的长度\n",
    "                compressed_len = 1 + (len(str(most_freq)) if most_freq > 1 else 0)\n",
    "                # 使用 k 移除掉所有 非 出现次数最多的字母：\n",
    "                # j-start+1: sub_str 的长度\n",
    "                # most_freq: sub_str 中出现字母最多的次数\n",
    "                if k - (j - start + 1 - most_freq) >= 0: \n",
    "                    ans = min(ans, compressed_len + dp(j+1, k - (j - start + 1 - most_freq)))\n",
    "            print(s[:start+1], k, ans)\n",
    "            # memo[(start, k)] = ans\n",
    "            return ans\n",
    "        \n",
    "        n = len(s)\n",
    "        # memo = {}\n",
    "        return dp(0, k)"
   ]
  },
  {
   "cell_type": "code",
   "execution_count": 183,
   "metadata": {},
   "outputs": [
    {
     "name": "stdout",
     "output_type": "stream",
     "text": [
      "abacaad 2 1\n",
      "abacaada 1 1\n",
      "abacaa 2 2\n",
      "abaca 2 2\n",
      "abacaadaa 0 1\n",
      "abacaad 1 2\n",
      "abacaada 0 2\n",
      "abacaa 1 2\n",
      "abac 2 2\n",
      "abaca 1 2\n",
      "aba 2 2\n",
      "abacaad 0 3\n",
      "abacaa 0 4\n",
      "abac 1 3\n",
      "abaca 0 5\n",
      "ab 2 3\n",
      "aba 1 4\n",
      "a 2 4\n"
     ]
    },
    {
     "data": {
      "text/plain": [
       "4"
      ]
     },
     "execution_count": 183,
     "metadata": {},
     "output_type": "execute_result"
    }
   ],
   "source": [
    "solution = Solution()\n",
    "solution.getLengthOfOptimalCompression(s = \"abacaadaa\", k = 2)"
   ]
  },
  {
   "cell_type": "code",
   "execution_count": null,
   "metadata": {},
   "outputs": [],
   "source": [
    "abacaadaa\n",
    "abaca2da2"
   ]
  },
  {
   "cell_type": "code",
   "execution_count": null,
   "metadata": {},
   "outputs": [],
   "source": []
  },
  {
   "cell_type": "code",
   "execution_count": null,
   "metadata": {},
   "outputs": [],
   "source": []
  }
 ],
 "metadata": {
  "kernelspec": {
   "display_name": "Python 3",
   "language": "python",
   "name": "python3"
  },
  "language_info": {
   "codemirror_mode": {
    "name": "ipython",
    "version": 3
   },
   "file_extension": ".py",
   "mimetype": "text/x-python",
   "name": "python",
   "nbconvert_exporter": "python",
   "pygments_lexer": "ipython3",
   "version": "3.6.2"
  }
 },
 "nbformat": 4,
 "nbformat_minor": 4
}
