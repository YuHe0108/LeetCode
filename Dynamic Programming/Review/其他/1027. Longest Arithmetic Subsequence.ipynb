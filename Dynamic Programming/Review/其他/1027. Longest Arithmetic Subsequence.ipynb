{
 "cells": [
  {
   "cell_type": "code",
   "execution_count": null,
   "metadata": {},
   "outputs": [],
   "source": []
  },
  {
   "cell_type": "code",
   "execution_count": null,
   "metadata": {},
   "outputs": [],
   "source": []
  },
  {
   "cell_type": "code",
   "execution_count": null,
   "metadata": {},
   "outputs": [],
   "source": []
  },
  {
   "cell_type": "code",
   "execution_count": 16,
   "metadata": {},
   "outputs": [],
   "source": [
    "from typing import List\n",
    "from collections import defaultdict\n",
    "\n",
    "class Solution:\n",
    "    def longestArithSeqLength(self, A: List[int]) -> int:\n",
    "        n = len(A) # 等差数列的长度 >= 2 即可，不需要 >= 3\n",
    "        \n",
    "        res = 0 # dp[i][j] 以nums[i] 为结尾，公差为 j 的等差数列的长度\n",
    "        dp = [defaultdict(int) for _ in range(n)]\n",
    "        for i in range(n):\n",
    "            for j in range(i):\n",
    "                diff = A[i] - A[j] # 公差\n",
    "                 # 在原来以 j 为结尾的，公差为 diff 的最大长度 + 1\n",
    "                if diff not in dp[j]:\n",
    "                    dp[i][diff] = max(dp[i][diff], 2) # 之前不存在，nums[i] 和 nums[j] 构成一个等差数列\n",
    "                else:\n",
    "                    dp[i][diff] = max(dp[i][diff], dp[j][diff] + 1)\n",
    "                res = max(res, dp[i][diff])\n",
    "        return res"
   ]
  },
  {
   "cell_type": "code",
   "execution_count": 20,
   "metadata": {},
   "outputs": [
    {
     "data": {
      "text/plain": [
       "4"
      ]
     },
     "execution_count": 20,
     "metadata": {},
     "output_type": "execute_result"
    }
   ],
   "source": [
    "solution = Solution()\n",
    "solution.longestArithSeqLength([3,6,9,12])"
   ]
  },
  {
   "cell_type": "code",
   "execution_count": null,
   "metadata": {},
   "outputs": [],
   "source": []
  }
 ],
 "metadata": {
  "kernelspec": {
   "display_name": "Python 3",
   "language": "python",
   "name": "python3"
  },
  "language_info": {
   "codemirror_mode": {
    "name": "ipython",
    "version": 3
   },
   "file_extension": ".py",
   "mimetype": "text/x-python",
   "name": "python",
   "nbconvert_exporter": "python",
   "pygments_lexer": "ipython3",
   "version": "3.6.2"
  }
 },
 "nbformat": 4,
 "nbformat_minor": 4
}
