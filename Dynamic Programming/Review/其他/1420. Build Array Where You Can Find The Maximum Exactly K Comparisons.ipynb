{
 "cells": [
  {
   "cell_type": "code",
   "execution_count": null,
   "metadata": {},
   "outputs": [],
   "source": []
  },
  {
   "cell_type": "code",
   "execution_count": null,
   "metadata": {},
   "outputs": [],
   "source": []
  },
  {
   "cell_type": "code",
   "execution_count": null,
   "metadata": {},
   "outputs": [],
   "source": []
  },
  {
   "cell_type": "code",
   "execution_count": null,
   "metadata": {},
   "outputs": [],
   "source": []
  },
  {
   "cell_type": "code",
   "execution_count": 109,
   "metadata": {},
   "outputs": [],
   "source": [
    "class Solution:\n",
    "    def numOfArrays(self, n: int, m: int, k: int) -> int:\n",
    "        \n",
    "        # dp[i][j][k]: 前 i 个元素，最大值为 j 的时候，消耗值为 k 的方案数\n",
    "        dp = [[[0] * (k+1) for _ in range(m+1)] for _ in range(n)]\n",
    "        for j in range(1, m+1):\n",
    "            dp[0][j][1] = 1\n",
    "        \n",
    "        for i in range(1, n):\n",
    "            for j in range(1, m+1):\n",
    "                for h in range(1, k+1):\n",
    "                    # i-1 的时候，最大值 小于等于 j-1，那么 cost 会 +1\n",
    "                    for t in range(1, j):\n",
    "                        dp[i][j][h] += dp[i-1][t][h-1] \n",
    "                    # 前 i-1 个元素最大值为 j，那么arr[i] 的取值在<= j即可，一共j种可能，那么cost 不会改变\n",
    "                    dp[i][j][h] += dp[i-1][j][h] * j \n",
    "                    \n",
    "        res = 0\n",
    "        M = pow(10, 9) + 7\n",
    "        for i in range(1, m+1):\n",
    "            res += dp[-1][i][k]\n",
    "        return res % M # 到了第 n 位，最大值为 m，cost = k时，有多少种方案"
   ]
  },
  {
   "cell_type": "code",
   "execution_count": 110,
   "metadata": {},
   "outputs": [
    {
     "data": {
      "text/plain": [
       "6"
      ]
     },
     "execution_count": 110,
     "metadata": {},
     "output_type": "execute_result"
    }
   ],
   "source": [
    "solution = Solution()\n",
    "solution.numOfArrays(n = 2, m = 3, k = 1)"
   ]
  },
  {
   "cell_type": "code",
   "execution_count": null,
   "metadata": {},
   "outputs": [],
   "source": []
  }
 ],
 "metadata": {
  "kernelspec": {
   "display_name": "Python 3",
   "language": "python",
   "name": "python3"
  },
  "language_info": {
   "codemirror_mode": {
    "name": "ipython",
    "version": 3
   },
   "file_extension": ".py",
   "mimetype": "text/x-python",
   "name": "python",
   "nbconvert_exporter": "python",
   "pygments_lexer": "ipython3",
   "version": "3.6.2"
  }
 },
 "nbformat": 4,
 "nbformat_minor": 4
}
