{
 "cells": [
  {
   "cell_type": "code",
   "execution_count": null,
   "metadata": {},
   "outputs": [],
   "source": []
  },
  {
   "cell_type": "code",
   "execution_count": null,
   "metadata": {},
   "outputs": [],
   "source": []
  },
  {
   "cell_type": "code",
   "execution_count": null,
   "metadata": {},
   "outputs": [],
   "source": []
  },
  {
   "cell_type": "raw",
   "metadata": {},
   "source": [
    "A = xxxxxx i\n",
    "\n",
    "1. 以 A[i] 为结尾的等差数列的特点\n"
   ]
  },
  {
   "cell_type": "code",
   "execution_count": 18,
   "metadata": {},
   "outputs": [],
   "source": [
    "from typing import List\n",
    "from collections import defaultdict\n",
    "\n",
    "class Solution:\n",
    "    def numberOfArithmeticSlices(self, A: List[int]) -> int:\n",
    "        n = len(A)\n",
    "        # dp[i][diff]: 表示以 A[i] 为结尾，公差为 diff，长度 >= 2 序列的数量\n",
    "        dp = [defaultdict(int) for _ in range(n)]\n",
    "        \n",
    "        res = 0\n",
    "        for i in range(n):\n",
    "            for j in range(i):\n",
    "                diff = A[i] - A[j] # 求公差\n",
    "                dp[i][diff] += dp[j][diff] + 1\n",
    "                res += dp[j][diff]\n",
    "        print(dp)\n",
    "        return res"
   ]
  },
  {
   "cell_type": "code",
   "execution_count": 21,
   "metadata": {},
   "outputs": [
    {
     "name": "stdout",
     "output_type": "stream",
     "text": [
      "[defaultdict(<class 'int'>, {2: 0, 4: 0, 6: 0, 8: 0}), defaultdict(<class 'int'>, {2: 1, 4: 0, 6: 0}), defaultdict(<class 'int'>, {4: 1, 2: 2}), defaultdict(<class 'int'>, {6: 1, 4: 1, 2: 3}), defaultdict(<class 'int'>, {8: 1, 6: 1, 4: 2, 2: 4})]\n"
     ]
    },
    {
     "data": {
      "text/plain": [
       "7"
      ]
     },
     "execution_count": 21,
     "metadata": {},
     "output_type": "execute_result"
    }
   ],
   "source": [
    "solution = Solution()\n",
    "solution.numberOfArithmeticSlices([2, 4, 6, 8, 10])"
   ]
  },
  {
   "cell_type": "code",
   "execution_count": null,
   "metadata": {},
   "outputs": [],
   "source": [
    "[\n",
    " defaultdict(<class 'int'>, {2: 0, 4: 0, 6: 0, 8: 0}), \n",
    " defaultdict(<class 'int'>, {2: 1, 4: 0, 6: 0}),\n",
    " defaultdict(<class 'int'>, {4: 1, 2: 2}), \n",
    " defaultdict(<class 'int'>, {6: 1, 4: 1, 2: 3}), \n",
    " defaultdict(<class 'int'>, {8: 1, 6: 1, 4: 2, 2: 4})\n",
    "]"
   ]
  }
 ],
 "metadata": {
  "kernelspec": {
   "display_name": "Python 3",
   "language": "python",
   "name": "python3"
  },
  "language_info": {
   "codemirror_mode": {
    "name": "ipython",
    "version": 3
   },
   "file_extension": ".py",
   "mimetype": "text/x-python",
   "name": "python",
   "nbconvert_exporter": "python",
   "pygments_lexer": "ipython3",
   "version": "3.6.2"
  }
 },
 "nbformat": 4,
 "nbformat_minor": 4
}
