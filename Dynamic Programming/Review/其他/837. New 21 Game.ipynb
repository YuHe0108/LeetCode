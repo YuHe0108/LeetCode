{
 "cells": [
  {
   "cell_type": "code",
   "execution_count": null,
   "metadata": {},
   "outputs": [],
   "source": []
  },
  {
   "cell_type": "code",
   "execution_count": null,
   "metadata": {},
   "outputs": [],
   "source": []
  },
  {
   "cell_type": "code",
   "execution_count": null,
   "metadata": {},
   "outputs": [],
   "source": []
  },
  {
   "cell_type": "code",
   "execution_count": null,
   "metadata": {},
   "outputs": [],
   "source": []
  },
  {
   "cell_type": "code",
   "execution_count": null,
   "metadata": {},
   "outputs": [],
   "source": [
    "xxxxx Y"
   ]
  },
  {
   "cell_type": "code",
   "execution_count": null,
   "metadata": {},
   "outputs": [],
   "source": []
  },
  {
   "cell_type": "code",
   "execution_count": 63,
   "metadata": {},
   "outputs": [],
   "source": [
    "from collections import defaultdict\n",
    "\n",
    "class Solution:\n",
    "    def new21Game(self, N: int, K: int, W: int) -> float:\n",
    "        \n",
    "        # 大于等于 k 小于等于 N 的概率\n",
    "        dp = defaultdict(float) # 初始情况下，取值为 0 的可能性值 1.0\n",
    "        dp[0] = 1.0\n",
    "        vals = {0} # 可以继续加值的 元素\n",
    "        \n",
    "        for i in range(N):\n",
    "            new_vals = set()\n",
    "            temp = defaultdict(float)\n",
    "            for w in range(1, W+1): # 从 1 ~ W 中随机选择一个数字\n",
    "                for v in vals:\n",
    "                    if w + v <= K: \n",
    "                        new_vals.add(w + v) # 小于等于 K 还可以接续在此基础上 +w\n",
    "                    temp[w + v] += (1 / W) * dp[v]\n",
    "            for k, r in temp.items():\n",
    "                dp[k] += r\n",
    "            vals = new_vals\n",
    "            if not vals:\n",
    "                break\n",
    "        return dp"
   ]
  },
  {
   "cell_type": "code",
   "execution_count": null,
   "metadata": {},
   "outputs": [],
   "source": []
  },
  {
   "cell_type": "code",
   "execution_count": null,
   "metadata": {},
   "outputs": [],
   "source": []
  },
  {
   "cell_type": "code",
   "execution_count": null,
   "metadata": {},
   "outputs": [],
   "source": []
  },
  {
   "cell_type": "raw",
   "metadata": {},
   "source": [
    "2021年4月22日"
   ]
  },
  {
   "cell_type": "raw",
   "metadata": {},
   "source": [
    "由于 计算的是长度固定的区间范围，所有 可以在每次长度等于 W的时候，\n",
    "在新加入一个元素的同时，减去末尾的元素值。"
   ]
  },
  {
   "cell_type": "code",
   "execution_count": 88,
   "metadata": {},
   "outputs": [],
   "source": [
    "from collections import defaultdict\n",
    "\n",
    "class Solution:\n",
    "    def new21Game(self, N: int, K: int, W: int) -> float:\n",
    "        \n",
    "        dp = [0] * (N+1) # 大于等于 k 小于等于 N 的概率\n",
    "        dp[0] = 1.0\n",
    "        cur = 0 # 因为对于当前是 i，可以是从  [i-W, ..... i-1] 中的任意一种情况得到，所以需要累加\n",
    "        for i in range(1, N+1):\n",
    "            # xxxx (i-W) xxxxx (i-1) | i  \n",
    "            if i - 1 < K: # 要保证 i-1 必须是小于 K\n",
    "                cur += dp[i-1]\n",
    "            if i - W - 1 >= 0: # 减去末尾的元素\n",
    "                cur -= dp[i-W-1]\n",
    "            dp[i] = cur* (1/W)\n",
    "        \n",
    "        res = 0\n",
    "        for i in range(K, N+1):\n",
    "            if K <= i <= N:\n",
    "                res += dp[i]\n",
    "        return res"
   ]
  },
  {
   "cell_type": "code",
   "execution_count": 89,
   "metadata": {},
   "outputs": [
    {
     "data": {
      "text/plain": [
       "0.732777787068608"
      ]
     },
     "execution_count": 89,
     "metadata": {},
     "output_type": "execute_result"
    }
   ],
   "source": [
    "solution = Solution()\n",
    "solution.new21Game(N = 21, K = 17, W = 10)"
   ]
  },
  {
   "cell_type": "code",
   "execution_count": null,
   "metadata": {},
   "outputs": [],
   "source": []
  }
 ],
 "metadata": {
  "kernelspec": {
   "display_name": "Python 3",
   "language": "python",
   "name": "python3"
  },
  "language_info": {
   "codemirror_mode": {
    "name": "ipython",
    "version": 3
   },
   "file_extension": ".py",
   "mimetype": "text/x-python",
   "name": "python",
   "nbconvert_exporter": "python",
   "pygments_lexer": "ipython3",
   "version": "3.6.2"
  }
 },
 "nbformat": 4,
 "nbformat_minor": 4
}
