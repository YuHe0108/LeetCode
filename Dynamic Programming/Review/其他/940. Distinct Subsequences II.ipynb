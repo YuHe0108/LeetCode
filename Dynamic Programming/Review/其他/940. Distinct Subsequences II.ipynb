{
 "cells": [
  {
   "cell_type": "code",
   "execution_count": null,
   "metadata": {},
   "outputs": [],
   "source": []
  },
  {
   "cell_type": "code",
   "execution_count": null,
   "metadata": {},
   "outputs": [],
   "source": []
  },
  {
   "cell_type": "code",
   "execution_count": null,
   "metadata": {},
   "outputs": [],
   "source": []
  },
  {
   "cell_type": "code",
   "execution_count": null,
   "metadata": {},
   "outputs": [],
   "source": []
  },
  {
   "cell_type": "raw",
   "metadata": {},
   "source": [
    "string : 'ab'\n",
    "\n",
    "s[0] = ''   1 种可能， 将空的字符也作为一种可能\n",
    "s[1] = 'a'       两种可能\n",
    "            _ a\n",
    "            _ _ \n",
    "\n",
    "s[2] = 'b'   \n",
    "            _ a   (不放b)\n",
    "            _ _ \n",
    "            _ a b (放b)\n",
    "            _ _ b"
   ]
  },
  {
   "cell_type": "code",
   "execution_count": null,
   "metadata": {},
   "outputs": [],
   "source": []
  },
  {
   "cell_type": "code",
   "execution_count": 37,
   "metadata": {},
   "outputs": [],
   "source": [
    "class Solution:\n",
    "    def distinctSubseqII(self, S: str) -> int:\n",
    "        mod = pow(10, 9) + 7\n",
    "        n = len(S)\n",
    "        S = '#' + S\n",
    "        dp = [0] * (n+1)\n",
    "        dp[0] = 1\n",
    "        count = {}\n",
    "        \n",
    "        for i in range(1, n+1):\n",
    "            ch = S[i]\n",
    "            dp[i] = dp[i-1] * 2\n",
    "            if ch in count:\n",
    "                dp[i] = dp[i-1] * 2 - dp[count[ch] - 1]\n",
    "            count[ch] = i\n",
    "            dp[i] %= mod\n",
    "            \n",
    "        return (dp[-1]-1) % mod"
   ]
  },
  {
   "cell_type": "code",
   "execution_count": 38,
   "metadata": {},
   "outputs": [
    {
     "data": {
      "text/plain": [
       "3"
      ]
     },
     "execution_count": 38,
     "metadata": {},
     "output_type": "execute_result"
    }
   ],
   "source": [
    "solution = Solution()\n",
    "solution.distinctSubseqII(\"aaa\")"
   ]
  },
  {
   "cell_type": "code",
   "execution_count": null,
   "metadata": {},
   "outputs": [],
   "source": []
  }
 ],
 "metadata": {
  "kernelspec": {
   "display_name": "Python 3",
   "language": "python",
   "name": "python3"
  },
  "language_info": {
   "codemirror_mode": {
    "name": "ipython",
    "version": 3
   },
   "file_extension": ".py",
   "mimetype": "text/x-python",
   "name": "python",
   "nbconvert_exporter": "python",
   "pygments_lexer": "ipython3",
   "version": "3.6.2"
  }
 },
 "nbformat": 4,
 "nbformat_minor": 4
}
