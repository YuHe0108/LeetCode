{
 "cells": [
  {
   "cell_type": "code",
   "execution_count": null,
   "metadata": {},
   "outputs": [],
   "source": []
  },
  {
   "cell_type": "code",
   "execution_count": null,
   "metadata": {},
   "outputs": [],
   "source": []
  },
  {
   "cell_type": "code",
   "execution_count": null,
   "metadata": {},
   "outputs": [],
   "source": []
  },
  {
   "cell_type": "code",
   "execution_count": null,
   "metadata": {},
   "outputs": [],
   "source": []
  },
  {
   "cell_type": "code",
   "execution_count": null,
   "metadata": {},
   "outputs": [],
   "source": []
  },
  {
   "cell_type": "code",
   "execution_count": 3,
   "metadata": {},
   "outputs": [],
   "source": [
    "from typing import List\n",
    "\n",
    "class Solution:\n",
    "    def maximalSquare(self, matrix: List[List[str]]) -> int:\n",
    "        rows, cols = len(matrix), len(matrix[0])\n",
    "        \n",
    "        res = 0\n",
    "        for i in range(cols):\n",
    "            if matrix[0][i] == '1':\n",
    "                res = 1\n",
    "                break\n",
    "        for i in range(rows):\n",
    "            if matrix[i][0] == '1':\n",
    "                res = 1\n",
    "                break\n",
    "        \n",
    "        for i in range(1, rows):\n",
    "            for j in range(1, cols):\n",
    "                if matrix[i][j] == '0':\n",
    "                    continue\n",
    "                val1 = int(matrix[i-1][j-1])\n",
    "                val2 = int(matrix[i-1][j])\n",
    "                val3 = int(matrix[i][j-1])\n",
    "                matrix[i][j] = min(val1, val2, val3) + 1\n",
    "                res = max(res, matrix[i][j])\n",
    "        return res**2"
   ]
  },
  {
   "cell_type": "code",
   "execution_count": null,
   "metadata": {},
   "outputs": [],
   "source": []
  },
  {
   "cell_type": "code",
   "execution_count": null,
   "metadata": {},
   "outputs": [],
   "source": []
  },
  {
   "cell_type": "raw",
   "metadata": {},
   "source": [
    "2021年4月21日"
   ]
  },
  {
   "cell_type": "code",
   "execution_count": 3,
   "metadata": {},
   "outputs": [],
   "source": [
    "from typing import List\n",
    "\n",
    "class Solution:\n",
    "    def maximalSquare(self, matrix: List[List[str]]) -> int:\n",
    "        rows, cols = len(matrix), len(matrix[0])\n",
    "        dp = [[0] * cols for _ in range(rows)]\n",
    "        res = 0\n",
    "        for i in range(rows):\n",
    "            if matrix[i][0] == '1':\n",
    "                dp[i][0] = 1\n",
    "                res = 1\n",
    "        for j in range(cols):\n",
    "            if matrix[0][j] == '1':\n",
    "                dp[0][j] = 1\n",
    "                res = 1\n",
    "        \n",
    "        for i in range(1, rows):\n",
    "            for j in range(1, cols):\n",
    "                if matrix[i][j] == '0':\n",
    "                    continue\n",
    "                dp[i][j] = min(dp[i-1][j], dp[i][j-1], dp[i-1][j-1]) + 1\n",
    "                res = max(res, dp[i][j])\n",
    "        return res ** 2"
   ]
  },
  {
   "cell_type": "code",
   "execution_count": 4,
   "metadata": {},
   "outputs": [
    {
     "data": {
      "text/plain": [
       "4"
      ]
     },
     "execution_count": 4,
     "metadata": {},
     "output_type": "execute_result"
    }
   ],
   "source": [
    "solution = Solution()\n",
    "solution.maximalSquare(matrix = [[\"1\",\"0\",\"1\",\"0\",\"0\"], \n",
    "                                 [\"1\",\"0\",\"1\",\"1\",\"1\"],\n",
    "                                 [\"1\",\"1\",\"1\",\"1\",\"1\"],\n",
    "                                 [\"1\",\"0\",\"0\",\"1\",\"0\"]])"
   ]
  },
  {
   "cell_type": "code",
   "execution_count": null,
   "metadata": {},
   "outputs": [],
   "source": [
    "matrix = [[\"1\",\"0\",\"1\",\"0\",\"0\"], \n",
    "          [\"1\",\"0\",\"1\",\"1\",\"1\"],\n",
    "          [\"1\",\"1\",\"1\",\"1\",\"1\"],\n",
    "          [\"1\",\"0\",\"0\",\"1\",\"0\"]]"
   ]
  }
 ],
 "metadata": {
  "kernelspec": {
   "display_name": "Python 3",
   "language": "python",
   "name": "python3"
  },
  "language_info": {
   "codemirror_mode": {
    "name": "ipython",
    "version": 3
   },
   "file_extension": ".py",
   "mimetype": "text/x-python",
   "name": "python",
   "nbconvert_exporter": "python",
   "pygments_lexer": "ipython3",
   "version": "3.6.2"
  }
 },
 "nbformat": 4,
 "nbformat_minor": 4
}
