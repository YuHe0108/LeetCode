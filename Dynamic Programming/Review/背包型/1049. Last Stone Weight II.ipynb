{
 "cells": [
  {
   "cell_type": "code",
   "execution_count": 1,
   "metadata": {},
   "outputs": [
    {
     "data": {
      "text/plain": [
       "1073741824"
      ]
     },
     "execution_count": 1,
     "metadata": {},
     "output_type": "execute_result"
    }
   ],
   "source": [
    "pow(2, 30)"
   ]
  },
  {
   "cell_type": "code",
   "execution_count": null,
   "metadata": {},
   "outputs": [],
   "source": [
    "class Solution:\n",
    "    def lastStoneWeightII(self, stones: List[int]) -> int:\n",
    "        # 每一种 stones 中石头的相消方案\n",
    "        dp = {stones[0]}\n",
    "        \n",
    "        for i in range(1, len(stones)):\n",
    "            temp = set()\n",
    "            for v in dp:\n",
    "                temp.add(v - stones[i])\n",
    "                temp.add(v + stones[i])\n",
    "            dp = temp\n",
    "        \n",
    "        return min([abs(v) for v in dp])"
   ]
  },
  {
   "cell_type": "code",
   "execution_count": null,
   "metadata": {},
   "outputs": [],
   "source": []
  },
  {
   "cell_type": "code",
   "execution_count": null,
   "metadata": {},
   "outputs": [],
   "source": []
  },
  {
   "cell_type": "code",
   "execution_count": null,
   "metadata": {},
   "outputs": [],
   "source": [
    "class Solution:\n",
    "    def lastStoneWeightII(self, stones: List[int]) -> int:\n",
    "        # 每一种 stones 中石头的相消方案\n",
    "        dp = {-stones[0], stones[0]}\n",
    "        \n",
    "        for i in range(1, len(stones)):\n",
    "            temp = set()\n",
    "            for v in dp:\n",
    "                temp.add(v - stones[i])\n",
    "                temp.add(v + stones[i])\n",
    "            dp = temp\n",
    "        \n",
    "        res = float('inf')\n",
    "        for v in dp:\n",
    "            if v >= 0:\n",
    "                res = min(res, v)\n",
    "            if res == 0:\n",
    "                break\n",
    "        return res"
   ]
  },
  {
   "cell_type": "code",
   "execution_count": null,
   "metadata": {},
   "outputs": [],
   "source": []
  },
  {
   "cell_type": "code",
   "execution_count": 2,
   "metadata": {},
   "outputs": [],
   "source": [
    "import copy"
   ]
  },
  {
   "cell_type": "code",
   "execution_count": null,
   "metadata": {},
   "outputs": [],
   "source": [
    "copy.deepcopy"
   ]
  }
 ],
 "metadata": {
  "kernelspec": {
   "display_name": "Python 3",
   "language": "python",
   "name": "python3"
  },
  "language_info": {
   "codemirror_mode": {
    "name": "ipython",
    "version": 3
   },
   "file_extension": ".py",
   "mimetype": "text/x-python",
   "name": "python",
   "nbconvert_exporter": "python",
   "pygments_lexer": "ipython3",
   "version": "3.6.2"
  }
 },
 "nbformat": 4,
 "nbformat_minor": 4
}
