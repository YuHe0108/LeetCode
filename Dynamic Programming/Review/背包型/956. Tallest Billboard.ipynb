{
 "cells": [
  {
   "cell_type": "code",
   "execution_count": null,
   "metadata": {},
   "outputs": [],
   "source": []
  },
  {
   "cell_type": "code",
   "execution_count": null,
   "metadata": {},
   "outputs": [],
   "source": []
  },
  {
   "cell_type": "code",
   "execution_count": null,
   "metadata": {},
   "outputs": [],
   "source": []
  },
  {
   "cell_type": "code",
   "execution_count": 29,
   "metadata": {},
   "outputs": [],
   "source": [
    "from typing import List\n",
    "\n",
    "class Solution:\n",
    "    def tallestBillboard(self, rods: List[int]) -> int:\n",
    "        sum_val = sum(rods)\n",
    "        offset = sum_val\n",
    "        # dp[i] 表示 left-right 的高度差为 i-5000 时，左边柱子的高度\n",
    "        dp = [-1] * (2*offset + 1)\n",
    "        dp[offset] = 0\n",
    "        \n",
    "        for rod in rods:\n",
    "            temp = dp.copy()\n",
    "            for diff in range(-offset, offset+1):\n",
    "                # 当前这个柱子可以放在左边、也可以放在右边\n",
    "                idx = diff + offset # 当前状态下的 diff 在 dp 中的下标索引\n",
    "                if temp[idx] == -1:\n",
    "                    continue\n",
    "                # 加在左边的柱子\n",
    "                if idx + rod < len(dp):\n",
    "                    # 加在左边的柱子时，高度差增加为 diff + rod\n",
    "                    dp[idx + rod] = max(dp[idx + rod], temp[idx] + rod)\n",
    "                # 加在右边的柱子\n",
    "                if idx - rod >= 0:\n",
    "                    # 因为 dp[i] 的值表示的是，两个柱子的差为i时，左边柱子的高度，因此，当柱子加在右边时，左柱子依然是 temp[idx]\n",
    "                    dp[idx - rod] = max(dp[idx - rod], temp[idx])\n",
    "        return dp[offset]"
   ]
  },
  {
   "cell_type": "code",
   "execution_count": null,
   "metadata": {},
   "outputs": [],
   "source": []
  },
  {
   "cell_type": "code",
   "execution_count": 37,
   "metadata": {},
   "outputs": [],
   "source": [
    "from typing import List\n",
    "from collections import defaultdict\n",
    "\n",
    "class Solution:\n",
    "    def tallestBillboard(self, rods: List[int]) -> int:\n",
    "        # key, 表示 diff，val表示左边柱子的高度\n",
    "        dp = defaultdict(int)\n",
    "        dp[0] = 0 # 两边都没有柱子的时候，高度差为0\n",
    "        \n",
    "        for rod in rods:\n",
    "            old_dp = dp.copy()\n",
    "            for k, v in old_dp.items():\n",
    "                # 当前柱子加在 左边\n",
    "                dp[k+rod] = max(dp[k+rod], v+rod)\n",
    "                # 加在右边\n",
    "                dp[k-rod] = max(dp[k-rod], v)\n",
    "        return dp[0]"
   ]
  },
  {
   "cell_type": "code",
   "execution_count": 38,
   "metadata": {},
   "outputs": [
    {
     "data": {
      "text/plain": [
       "10"
      ]
     },
     "execution_count": 38,
     "metadata": {},
     "output_type": "execute_result"
    }
   ],
   "source": [
    "solution = Solution()\n",
    "solution.tallestBillboard(rods = [1,2,3,4,5,6])"
   ]
  },
  {
   "cell_type": "code",
   "execution_count": 15,
   "metadata": {},
   "outputs": [
    {
     "data": {
      "text/plain": [
       "1048576"
      ]
     },
     "execution_count": 15,
     "metadata": {},
     "output_type": "execute_result"
    }
   ],
   "source": [
    "pow(2, 20)"
   ]
  },
  {
   "cell_type": "code",
   "execution_count": null,
   "metadata": {},
   "outputs": [],
   "source": []
  }
 ],
 "metadata": {
  "kernelspec": {
   "display_name": "Python 3",
   "language": "python",
   "name": "python3"
  },
  "language_info": {
   "codemirror_mode": {
    "name": "ipython",
    "version": 3
   },
   "file_extension": ".py",
   "mimetype": "text/x-python",
   "name": "python",
   "nbconvert_exporter": "python",
   "pygments_lexer": "ipython3",
   "version": "3.6.2"
  }
 },
 "nbformat": 4,
 "nbformat_minor": 4
}
