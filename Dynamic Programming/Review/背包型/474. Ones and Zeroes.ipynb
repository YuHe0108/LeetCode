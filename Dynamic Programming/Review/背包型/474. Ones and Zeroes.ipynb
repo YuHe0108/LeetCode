{
 "cells": [
  {
   "cell_type": "code",
   "execution_count": null,
   "metadata": {},
   "outputs": [],
   "source": []
  },
  {
   "cell_type": "code",
   "execution_count": null,
   "metadata": {},
   "outputs": [],
   "source": []
  },
  {
   "cell_type": "code",
   "execution_count": null,
   "metadata": {},
   "outputs": [],
   "source": []
  },
  {
   "cell_type": "code",
   "execution_count": null,
   "metadata": {},
   "outputs": [],
   "source": []
  },
  {
   "cell_type": "code",
   "execution_count": null,
   "metadata": {},
   "outputs": [],
   "source": []
  },
  {
   "cell_type": "code",
   "execution_count": 43,
   "metadata": {},
   "outputs": [],
   "source": [
    "from typing import List\n",
    "import copy\n",
    "\n",
    "class Solution:\n",
    "    def findMaxForm(self, strs: List[str], m: int, n: int) -> int:\n",
    "        # 背包问题的明显特点：元素拥有可以选择或者不能选择两个状态，并且选择要使用一些成本消耗\n",
    "        # dp[i][j] 表示有 i个0，j个1的时候，子集拥有元素的最大数量是多少\n",
    "        dp = [[0] * (n+1) for _ in range(m+1)]\n",
    "        dp[0][0] = 0 # 0个0, 0个1，该子集的大小为 0\n",
    "        for s in strs:\n",
    "            n0, n1 = s.count('0'), s.count('1')\n",
    "            for i in range(m, -1, -1):\n",
    "                for j in range(n, -1, -1):\n",
    "                    if n0 > i or n1 > j:\n",
    "                        continue\n",
    "                    # 如果要用到 当前的s，那么对于‘0’就需要腾出 i-n0, 对于‘1’需要腾出j-n1个位置\n",
    "                    dp[i][j] = max(dp[i][j], dp[i-n0][j-n1] + 1)\n",
    "        return dp[-1][-1]"
   ]
  },
  {
   "cell_type": "code",
   "execution_count": 44,
   "metadata": {},
   "outputs": [
    {
     "data": {
      "text/plain": [
       "4"
      ]
     },
     "execution_count": 44,
     "metadata": {},
     "output_type": "execute_result"
    }
   ],
   "source": [
    "solution = Solution()\n",
    "solution.findMaxForm(strs = [\"10\", \"0001\", \"111001\", \"1\", \"0\"], m = 5, n = 3)"
   ]
  },
  {
   "cell_type": "code",
   "execution_count": null,
   "metadata": {},
   "outputs": [],
   "source": []
  }
 ],
 "metadata": {
  "kernelspec": {
   "display_name": "Python 3",
   "language": "python",
   "name": "python3"
  },
  "language_info": {
   "codemirror_mode": {
    "name": "ipython",
    "version": 3
   },
   "file_extension": ".py",
   "mimetype": "text/x-python",
   "name": "python",
   "nbconvert_exporter": "python",
   "pygments_lexer": "ipython3",
   "version": "3.6.2"
  }
 },
 "nbformat": 4,
 "nbformat_minor": 4
}
