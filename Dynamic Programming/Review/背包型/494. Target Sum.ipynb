{
 "cells": [
  {
   "cell_type": "code",
   "execution_count": 11,
   "metadata": {},
   "outputs": [
    {
     "data": {
      "text/plain": [
       "20971520"
      ]
     },
     "execution_count": 11,
     "metadata": {},
     "output_type": "execute_result"
    }
   ],
   "source": [
    "pow(2, 20) * 20"
   ]
  },
  {
   "cell_type": "code",
   "execution_count": null,
   "metadata": {},
   "outputs": [],
   "source": []
  },
  {
   "cell_type": "code",
   "execution_count": null,
   "metadata": {},
   "outputs": [],
   "source": []
  },
  {
   "cell_type": "code",
   "execution_count": null,
   "metadata": {},
   "outputs": [],
   "source": []
  },
  {
   "cell_type": "code",
   "execution_count": null,
   "metadata": {},
   "outputs": [],
   "source": []
  },
  {
   "cell_type": "code",
   "execution_count": 18,
   "metadata": {},
   "outputs": [],
   "source": [
    "from typing import List\n",
    "\n",
    "class Solution:\n",
    "    def findTargetSumWays(self, nums: List[int], S: int) -> int:\n",
    "        # nums中的每个数字都可以是 + 或者 - 两个状态\n",
    "        #　但是这种方式时间复杂度较高：pow(2, n) * n = pow(10, 7)\n",
    "        n = len(nums)\n",
    "        cnt = 0\n",
    "        for i in range(1<<n):\n",
    "            # 使用二进制来表示是 +还是-，1表示+，0表示-\n",
    "            temp = []\n",
    "            temp_i = i\n",
    "            for j in range(n):\n",
    "                if (i & 1) == 1:\n",
    "                    temp.append(nums[j])\n",
    "                else:\n",
    "                    temp.append(-nums[j])\n",
    "                i >>= 1\n",
    "            if sum(temp) == S:\n",
    "                cnt += 1\n",
    "        return cnt"
   ]
  },
  {
   "cell_type": "code",
   "execution_count": null,
   "metadata": {},
   "outputs": [],
   "source": []
  },
  {
   "cell_type": "code",
   "execution_count": null,
   "metadata": {},
   "outputs": [],
   "source": []
  },
  {
   "cell_type": "code",
   "execution_count": null,
   "metadata": {},
   "outputs": [],
   "source": []
  },
  {
   "cell_type": "code",
   "execution_count": 31,
   "metadata": {},
   "outputs": [],
   "source": [
    "class Solution:\n",
    "    def findTargetSumWays(self, nums: List[int], S: int) -> int:\n",
    "        sum_val = sum(nums)\n",
    "        if S > sum_val or S < -sum_val:\n",
    "            return 0\n",
    "        offset = sum_val\n",
    "        dp = [0] * (2*sum_val+1)\n",
    "        dp[offset] = 1\n",
    "        for v in nums:\n",
    "            temp = dp[::]\n",
    "            for s in range(-sum_val, sum_val+1):\n",
    "                dp[s+offset] = 0\n",
    "                if s+v <= sum_val:\n",
    "                    dp[s+offset] += temp[s+v+offset]\n",
    "                if s-v >= -sum_val:\n",
    "                    dp[s+offset] += temp[s-v+offset]\n",
    "        return dp[S+offset]"
   ]
  },
  {
   "cell_type": "code",
   "execution_count": 32,
   "metadata": {},
   "outputs": [
    {
     "data": {
      "text/plain": [
       "0"
      ]
     },
     "execution_count": 32,
     "metadata": {},
     "output_type": "execute_result"
    }
   ],
   "source": [
    "solution = Solution()\n",
    "solution.findTargetSumWays([7,9,3,8,0,2,4,8,3,9], 0)"
   ]
  },
  {
   "cell_type": "code",
   "execution_count": null,
   "metadata": {},
   "outputs": [],
   "source": []
  },
  {
   "cell_type": "code",
   "execution_count": null,
   "metadata": {},
   "outputs": [],
   "source": []
  },
  {
   "cell_type": "code",
   "execution_count": null,
   "metadata": {},
   "outputs": [],
   "source": []
  },
  {
   "cell_type": "code",
   "execution_count": null,
   "metadata": {},
   "outputs": [],
   "source": []
  },
  {
   "cell_type": "code",
   "execution_count": null,
   "metadata": {},
   "outputs": [],
   "source": []
  },
  {
   "cell_type": "code",
   "execution_count": 27,
   "metadata": {},
   "outputs": [],
   "source": [
    "from typing import List\n",
    "from collections import defaultdict\n",
    "\n",
    "class Solution:\n",
    "    def findTargetSumWays(self, nums: List[int], S: int) -> int:\n",
    "        sum_val = sum(nums)\n",
    "        if S > sum_val or S < -sum_val:\n",
    "            return 0\n",
    "        \n",
    "        # poss的 key 是使用nums中的数字 +、-能够恰好等于key的可能性总数 == value\n",
    "        poss = defaultdict(int)\n",
    "        poss[nums[0]] = 1\n",
    "        poss[-nums[0]] = 1 if nums[0] != 0 else 2\n",
    "        for i in range(1, len(nums)):\n",
    "            val = nums[i]\n",
    "            # 为什么不是 temp = poss.copy()\n",
    "            # 因为 poss 是nums前 i-1 个数字组成的所有可能性\n",
    "            # 当前为 前 i个数字\n",
    "            temp = defaultdict(int)\n",
    "            for k, s in poss.items():\n",
    "                temp[k-val] += s\n",
    "                temp[k+val] += s\n",
    "            poss = temp\n",
    "        return poss[S]"
   ]
  },
  {
   "cell_type": "code",
   "execution_count": 28,
   "metadata": {},
   "outputs": [
    {
     "data": {
      "text/plain": [
       "0"
      ]
     },
     "execution_count": 28,
     "metadata": {},
     "output_type": "execute_result"
    }
   ],
   "source": [
    "solution = Solution()\n",
    "solution.findTargetSumWays([7,9,3,8,0,2,4,8,3,9], 0)"
   ]
  },
  {
   "cell_type": "code",
   "execution_count": null,
   "metadata": {},
   "outputs": [],
   "source": []
  },
  {
   "cell_type": "code",
   "execution_count": null,
   "metadata": {},
   "outputs": [],
   "source": []
  }
 ],
 "metadata": {
  "kernelspec": {
   "display_name": "Python 3",
   "language": "python",
   "name": "python3"
  },
  "language_info": {
   "codemirror_mode": {
    "name": "ipython",
    "version": 3
   },
   "file_extension": ".py",
   "mimetype": "text/x-python",
   "name": "python",
   "nbconvert_exporter": "python",
   "pygments_lexer": "ipython3",
   "version": "3.6.2"
  }
 },
 "nbformat": 4,
 "nbformat_minor": 4
}
