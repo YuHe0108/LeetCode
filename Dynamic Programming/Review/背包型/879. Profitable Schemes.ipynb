{
 "cells": [
  {
   "cell_type": "code",
   "execution_count": null,
   "metadata": {},
   "outputs": [],
   "source": []
  },
  {
   "cell_type": "code",
   "execution_count": null,
   "metadata": {},
   "outputs": [],
   "source": [
    "# dp[person][profit]表示：恰好用person个人力、并恰好达到profit的利润的方案数"
   ]
  },
  {
   "cell_type": "code",
   "execution_count": 19,
   "metadata": {},
   "outputs": [],
   "source": [
    "from typing import List\n",
    "\n",
    "class Solution:\n",
    "    def profitableSchemes(self, n: int, minProfit: int, group: List[int], profit: List[int]) -> int:\n",
    "        sum_profit = sum(profit) # 最高的利润\n",
    "        if sum_profit < minProfit:\n",
    "            return 0\n",
    "        \n",
    "        # dp[person][profit] 使用 person个人力，能够达到profit的方案数量\n",
    "        dp = [[0] * (sum_profit+1) for _ in range(n+1)]\n",
    "        dp[0][0] = 1 # 0 个人，0个利润的方案数量有且只有一个\n",
    "        \n",
    "        for i in range(n+1): # 人力\n",
    "            for j, g in enumerate(group):\n",
    "                if i >= g and profit[j] >= minProfit:\n",
    "                    dp[i][profit[j]] += 1\n",
    "        \n",
    "        cnt = sum([sum(dp[i]) for i in range(1+n)])\n",
    "        mod = pow(10, 9) + 7\n",
    "        return cnt % mod"
   ]
  },
  {
   "cell_type": "code",
   "execution_count": null,
   "metadata": {},
   "outputs": [],
   "source": []
  },
  {
   "cell_type": "code",
   "execution_count": null,
   "metadata": {},
   "outputs": [],
   "source": []
  },
  {
   "cell_type": "code",
   "execution_count": 1,
   "metadata": {},
   "outputs": [],
   "source": [
    "from typing import List\n",
    "import copy\n",
    "\n",
    "class Solution:\n",
    "    def profitableSchemes(self, n: int, minProfit: int, group: List[int], profit: List[int]) -> int:\n",
    "        sum_profit = sum(profit) # 最高的利润\n",
    "        if sum_profit < minProfit:\n",
    "            return 0\n",
    "        \n",
    "        dp = [[0] * (minProfit+1) for _ in range(n+1)]\n",
    "        dp[0][0] = 1\n",
    "        mod = pow(10, 9) + 7\n",
    "        for k in range(len(group)):\n",
    "            g, p = group[k], profit[k]\n",
    "            temp = copy.deepcopy(dp)\n",
    "            \n",
    "            for i in range(n+1):\n",
    "                for j in range(minProfit+1):\n",
    "                    if i+g <= n:\n",
    "                        pp = min(p+j, minProfit)\n",
    "                        temp[i+g][pp] += dp[i][j]\n",
    "                        temp[i+g][pp] %= mod\n",
    "            dp = temp\n",
    "        return sum(dp[i][-1] for i in range(n+1)) "
   ]
  },
  {
   "cell_type": "code",
   "execution_count": 2,
   "metadata": {},
   "outputs": [
    {
     "data": {
      "text/plain": [
       "7"
      ]
     },
     "execution_count": 2,
     "metadata": {},
     "output_type": "execute_result"
    }
   ],
   "source": [
    "solution = Solution()\n",
    "solution.profitableSchemes(n = 10, minProfit = 5, group = [2,3,5], profit = [6,7,8])"
   ]
  },
  {
   "cell_type": "code",
   "execution_count": null,
   "metadata": {},
   "outputs": [],
   "source": []
  }
 ],
 "metadata": {
  "kernelspec": {
   "display_name": "PyCharm (test)",
   "language": "python",
   "name": "pycharm-6cfa6a7a"
  },
  "language_info": {
   "codemirror_mode": {
    "name": "ipython",
    "version": 3
   },
   "file_extension": ".py",
   "mimetype": "text/x-python",
   "name": "python",
   "nbconvert_exporter": "python",
   "pygments_lexer": "ipython3",
   "version": "3.6.2"
  }
 },
 "nbformat": 4,
 "nbformat_minor": 4
}
