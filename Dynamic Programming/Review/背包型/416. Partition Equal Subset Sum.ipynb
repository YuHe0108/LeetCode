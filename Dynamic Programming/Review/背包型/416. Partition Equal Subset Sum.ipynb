{
 "cells": [
  {
   "cell_type": "code",
   "execution_count": null,
   "metadata": {},
   "outputs": [],
   "source": []
  },
  {
   "cell_type": "code",
   "execution_count": null,
   "metadata": {},
   "outputs": [],
   "source": []
  },
  {
   "cell_type": "code",
   "execution_count": 1,
   "metadata": {},
   "outputs": [],
   "source": [
    "# 每个数字都可以选择、不选择：01背包问题"
   ]
  },
  {
   "cell_type": "code",
   "execution_count": 2,
   "metadata": {},
   "outputs": [],
   "source": [
    "# 背包问题模板：\n",
    "# 大循环遍历物品\n",
    "# 小循环遍历容量\n",
    "from typing import List\n",
    "\n",
    "class Solution:\n",
    "    def canPartition(self, nums: List[int]) -> bool:\n",
    "        sum_val = sum(nums)\n",
    "        if sum_val % 2 == 1:\n",
    "            return False\n",
    "        # 每一个数字都可以选择或者不选择\n",
    "        target = sum_val // 2\n",
    "        dp = [False] * (target + 1) # dp[i] 表示是否能够构成一个subset，其和为i\n",
    "        dp[0] = 0\n",
    "        for i in nums:\n",
    "            temp = dp[::]\n",
    "            for j in range(target+1):\n",
    "                temp[j] = dp[j-i]\n",
    "        return dp[-1]"
   ]
  },
  {
   "cell_type": "code",
   "execution_count": null,
   "metadata": {},
   "outputs": [],
   "source": []
  },
  {
   "cell_type": "markdown",
   "metadata": {},
   "source": [
    "## 2021-3-8"
   ]
  },
  {
   "cell_type": "code",
   "execution_count": 20,
   "metadata": {},
   "outputs": [],
   "source": [
    "from typing import List\n",
    "\n",
    "class Solution:\n",
    "    def canPartition(self, nums: List[int]) -> bool:\n",
    "        # nums 中的每一个元素都可以选择或者不选择\n",
    "        sum_val = sum(nums)\n",
    "        if sum_val % 2 == 1:\n",
    "            return False\n",
    "        \n",
    "        tar = sum_val // 2\n",
    "        dp = [False] * (tar+1)\n",
    "        dp[0] = True\n",
    "        for v in nums:\n",
    "            temp = dp[:]\n",
    "            for t in range(tar+1):\n",
    "                if t-v >= 0 and temp[t-v]:\n",
    "                    dp[t] = True\n",
    "        return dp[-1]"
   ]
  },
  {
   "cell_type": "code",
   "execution_count": 21,
   "metadata": {},
   "outputs": [
    {
     "name": "stdout",
     "output_type": "stream",
     "text": [
      "[True, True, True, True, False]\n"
     ]
    },
    {
     "data": {
      "text/plain": [
       "False"
      ]
     },
     "execution_count": 21,
     "metadata": {},
     "output_type": "execute_result"
    }
   ],
   "source": [
    "solution = Solution()\n",
    "solution.canPartition([1,2,5])"
   ]
  },
  {
   "cell_type": "code",
   "execution_count": null,
   "metadata": {},
   "outputs": [],
   "source": []
  }
 ],
 "metadata": {
  "kernelspec": {
   "display_name": "Python 3",
   "language": "python",
   "name": "python3"
  },
  "language_info": {
   "codemirror_mode": {
    "name": "ipython",
    "version": 3
   },
   "file_extension": ".py",
   "mimetype": "text/x-python",
   "name": "python",
   "nbconvert_exporter": "python",
   "pygments_lexer": "ipython3",
   "version": "3.6.2"
  }
 },
 "nbformat": 4,
 "nbformat_minor": 4
}
