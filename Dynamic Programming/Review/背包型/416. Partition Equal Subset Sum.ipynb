{
 "cells": [
  {
   "cell_type": "code",
   "execution_count": null,
   "metadata": {},
   "outputs": [],
   "source": []
  },
  {
   "cell_type": "code",
   "execution_count": null,
   "metadata": {},
   "outputs": [],
   "source": []
  },
  {
   "cell_type": "code",
   "execution_count": 1,
   "metadata": {},
   "outputs": [],
   "source": [
    "# 每个数字都可以选择、不选择：01背包问题"
   ]
  },
  {
   "cell_type": "code",
   "execution_count": null,
   "metadata": {},
   "outputs": [],
   "source": [
    "# 背包问题模板：\n",
    "# 大循环遍历物品\n",
    "# 小循环遍历容量\n",
    "class Solution:\n",
    "    def canPartition(self, nums: List[int]) -> bool:\n",
    "        sum_val = sum(nums)\n",
    "        if sum_val % 2 == 1:\n",
    "            return False\n",
    "        # 每一个数字都可以选择或者不选择\n",
    "        target = sum_val // 2\n",
    "        dp = [False] * (target + 1) # dp[i] 表示是否能够构成一个subset，其和为i\n",
    "        dp[0] = 0\n",
    "        for i in nums:\n",
    "            temp = dp[::]\n",
    "            for j in range(target+1):\n",
    "                temp[j] = dp[j-i]\n",
    "        return dp[-1]"
   ]
  }
 ],
 "metadata": {
  "kernelspec": {
   "display_name": "Python 3",
   "language": "python",
   "name": "python3"
  },
  "language_info": {
   "codemirror_mode": {
    "name": "ipython",
    "version": 3
   },
   "file_extension": ".py",
   "mimetype": "text/x-python",
   "name": "python",
   "nbconvert_exporter": "python",
   "pygments_lexer": "ipython3",
   "version": "3.6.2"
  }
 },
 "nbformat": 4,
 "nbformat_minor": 4
}
