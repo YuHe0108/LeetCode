{
 "cells": [
  {
   "cell_type": "raw",
   "metadata": {},
   "source": [
    "题眼：\n",
    "    分成 d 份，区间型DP\n",
    "\n",
    "从后向前遍历，这样就能随时更新 arr[i:j] 之间的最大值，"
   ]
  },
  {
   "cell_type": "raw",
   "metadata": {},
   "source": [
    "题目的意思：\n",
    "    将 jobDifficulty 分成 d 份，求的结果是 每份 最大值的 和的最小值"
   ]
  },
  {
   "cell_type": "code",
   "execution_count": 36,
   "metadata": {},
   "outputs": [],
   "source": [
    "from typing import List\n",
    "\n",
    "class Solution:\n",
    "    def minDifficulty(self, jobDifficulty: List[int], d: int) -> int:\n",
    "        n = len(jobDifficulty)\n",
    "        jobDifficulty.insert(0, 0)\n",
    "        \n",
    "        # dp[i][j]: jobDifficulty[1:i] 分成 j 份，最小的工作难度之和\n",
    "        dp = [[float('inf')] * (d+1) for _ in range(n+1)]\n",
    "        dp[0][0] = 0 # 0天工作的难度肯定为 0\n",
    "        for i in range(1, n + 1):\n",
    "            for j in range(1, min(d, i) + 1): # arr[:i] 因为最多有 i 个元素，所以最多分成的份数是 i 和 d的较小值\n",
    "                max_val = jobDifficulty[i] # 第 i 天的最大工作难度\n",
    "                # 需要找一个中间点的位置进行分割，使得和最小，从 idx=i 开始，\n",
    "                # 因为必须保证分割点之前的元素必须能分割为 j-1 份，所以只能遍历到 j-1的位置，前面正好有j-1元素\n",
    "                for k in range(i, j-2, -1): \n",
    "                    max_val = max(max_val, jobDifficulty[k])\n",
    "                    dp[i][j] = min(dp[i][j], dp[k-1][j-1] + max_val)\n",
    "        return dp[-1][-1] if dp[-1][-1] != float('inf') else -1"
   ]
  },
  {
   "cell_type": "code",
   "execution_count": 37,
   "metadata": {},
   "outputs": [
    {
     "data": {
      "text/plain": [
       "7"
      ]
     },
     "execution_count": 37,
     "metadata": {},
     "output_type": "execute_result"
    }
   ],
   "source": [
    "solution = Solution()\n",
    "solution.minDifficulty(jobDifficulty = [6,5,4,3,2,1], d = 2)"
   ]
  },
  {
   "cell_type": "code",
   "execution_count": null,
   "metadata": {},
   "outputs": [],
   "source": []
  }
 ],
 "metadata": {
  "kernelspec": {
   "display_name": "Python 3",
   "language": "python",
   "name": "python3"
  },
  "language_info": {
   "codemirror_mode": {
    "name": "ipython",
    "version": 3
   },
   "file_extension": ".py",
   "mimetype": "text/x-python",
   "name": "python",
   "nbconvert_exporter": "python",
   "pygments_lexer": "ipython3",
   "version": "3.6.2"
  }
 },
 "nbformat": 4,
 "nbformat_minor": 4
}
