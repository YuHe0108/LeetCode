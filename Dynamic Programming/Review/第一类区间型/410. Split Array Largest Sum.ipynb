{
 "cells": [
  {
   "cell_type": "raw",
   "metadata": {},
   "source": [
    "题眼：\n",
    "    分割数组"
   ]
  },
  {
   "cell_type": "code",
   "execution_count": null,
   "metadata": {},
   "outputs": [],
   "source": []
  },
  {
   "cell_type": "code",
   "execution_count": 47,
   "metadata": {},
   "outputs": [],
   "source": [
    "from typing import List\n",
    "\n",
    "# m 个数组， 和的最大值，最小\n",
    "class Solution:\n",
    "    def splitArray(self, nums: List[int], m: int) -> int:\n",
    "        n = len(nums)\n",
    "        presum = [0]\n",
    "        for num in nums:\n",
    "            presum.append(num + presum[-1])\n",
    "        \n",
    "        nums.insert(0, 0)\n",
    "        dp = [[float('inf')] * (m+1) for _ in range(1+n)]\n",
    "        for i in range(1, n+1):\n",
    "            for k in range(1, min(i, m) + 1):\n",
    "                for j in range(k, i+1):\n",
    "                    arr_sum = presum[i] - presum[j-1]\n",
    "                    # print(nums[j:i+1], arr_sum)\n",
    "                    dp[i][k] = min(dp[i][k], dp[j-1][k-1], arr_sum)\n",
    "        print(dp)\n",
    "        return "
   ]
  },
  {
   "cell_type": "code",
   "execution_count": 48,
   "metadata": {},
   "outputs": [
    {
     "name": "stdout",
     "output_type": "stream",
     "text": [
      "[[inf, inf, inf], [inf, 7, inf], [inf, 2, 2], [inf, 5, 2], [inf, 10, 2], [inf, 8, 2]]\n"
     ]
    }
   ],
   "source": [
    "solution = Solution()\n",
    "solution.splitArray(nums = [7,2,5,10,8], m = 2)"
   ]
  },
  {
   "cell_type": "code",
   "execution_count": null,
   "metadata": {},
   "outputs": [],
   "source": [
    "[[inf, inf, inf], \n",
    " [inf, 7, inf], \n",
    " [inf, 2, 2], \n",
    " [inf, 5, 2], \n",
    " [inf, 10, 2], \n",
    " [inf, 8, 2]]"
   ]
  }
 ],
 "metadata": {
  "kernelspec": {
   "display_name": "Python 3",
   "language": "python",
   "name": "python3"
  },
  "language_info": {
   "codemirror_mode": {
    "name": "ipython",
    "version": 3
   },
   "file_extension": ".py",
   "mimetype": "text/x-python",
   "name": "python",
   "nbconvert_exporter": "python",
   "pygments_lexer": "ipython3",
   "version": "3.6.2"
  }
 },
 "nbformat": 4,
 "nbformat_minor": 4
}
