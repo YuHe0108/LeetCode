{
 "cells": [
  {
   "cell_type": "code",
   "execution_count": null,
   "metadata": {},
   "outputs": [],
   "source": []
  },
  {
   "cell_type": "code",
   "execution_count": null,
   "metadata": {},
   "outputs": [],
   "source": [
    "        \n",
    "class Solution:\n",
    "    def longestPalindrome(self, s: str) -> str:\n",
    "        n = len(s)\n",
    "        s = '#' + s\n",
    "        dp = [[False] * (n+1) for _ in range(n+1)]\n",
    "        res = s[1]\n",
    "        max_len = 1\n",
    "        for i in range(n+1):\n",
    "            dp[i][i] = True\n",
    "        \n",
    "        for gap in range(2, n+1):\n",
    "            for start in range(1, n-gap+2):\n",
    "                end = start + gap-1\n",
    "                if s[start] == s[end]:\n",
    "                    pre = dp[start+1][end-1] if start+1 <= end-1 else True\n",
    "                    if pre:\n",
    "                        dp[start][end] = True\n",
    "                    if dp[start][end] and (end-start+1) > max_len:\n",
    "                        max_len = end - start  + 1\n",
    "                        res = s[start:end+1]\n",
    "        return res"
   ]
  },
  {
   "cell_type": "code",
   "execution_count": null,
   "metadata": {},
   "outputs": [],
   "source": []
  },
  {
   "cell_type": "code",
   "execution_count": null,
   "metadata": {},
   "outputs": [],
   "source": []
  },
  {
   "cell_type": "code",
   "execution_count": null,
   "metadata": {},
   "outputs": [],
   "source": []
  },
  {
   "cell_type": "code",
   "execution_count": 10,
   "metadata": {},
   "outputs": [],
   "source": [
    "class Solution:\n",
    "    def longestPalindrome(self, s: str) -> str:\n",
    "        n = len(s)\n",
    "        dp = [[False] * (n+1) for _ in range(n+1)]\n",
    "        s = '#' + s\n",
    "        res = s[1]\n",
    "        for i in range(1, n+1):\n",
    "            dp[i][i] = True\n",
    "        for i in range(1, n):\n",
    "            if s[i] == s[i+1]:\n",
    "                dp[i][i+1] = True\n",
    "                res = s[i:i+2]\n",
    "        \n",
    "        for gap in range(3, n+1):\n",
    "            for start in range(1, n-gap+2):\n",
    "                end = start + gap - 1\n",
    "                if s[start] == s[end]:\n",
    "                    dp[start][end] = dp[start+1][end-1]\n",
    "                    if dp[start][end]:\n",
    "                        res = s[start:end+1]\n",
    "        return res"
   ]
  },
  {
   "cell_type": "code",
   "execution_count": 11,
   "metadata": {},
   "outputs": [
    {
     "name": "stdout",
     "output_type": "stream",
     "text": [
      "[[False, False, False], [False, True, False], [False, False, True]]\n"
     ]
    },
    {
     "data": {
      "text/plain": [
       "'a'"
      ]
     },
     "execution_count": 11,
     "metadata": {},
     "output_type": "execute_result"
    }
   ],
   "source": [
    "solution = Solution()\n",
    "solution.longestPalindrome(s = \"ac\")"
   ]
  },
  {
   "cell_type": "code",
   "execution_count": 15,
   "metadata": {},
   "outputs": [],
   "source": [
    "class Solution:\n",
    "    def longestPalindrome(self, s: str) -> str:\n",
    "        n = len(s)\n",
    "        if n == 1 or s == s[::-1]: \n",
    "            return s\n",
    "        max_len, start = 1, 0\n",
    "        for i in range(1, n):\n",
    "            even = s[i-max_len:i+1]\n",
    "            odd = s[i-max_len-1:i+1]\n",
    "            print(even, odd, i)\n",
    "            if i - max_len - 1 >= 0 and odd == odd[::-1]:\n",
    "                start = i - max_len - 1\n",
    "                max_len += 2\n",
    "                continue\n",
    "            if i - max_len >= 0 and even == even[::-1]:\n",
    "                start = i - max_len\n",
    "                max_len += 1\n",
    "        return s[start:start + max_len]"
   ]
  },
  {
   "cell_type": "code",
   "execution_count": 16,
   "metadata": {},
   "outputs": [
    {
     "name": "stdout",
     "output_type": "stream",
     "text": [
      "ba  1\n",
      "ab bab 2\n",
      "baba  3\n",
      "abad babad 4\n"
     ]
    },
    {
     "data": {
      "text/plain": [
       "'bab'"
      ]
     },
     "execution_count": 16,
     "metadata": {},
     "output_type": "execute_result"
    }
   ],
   "source": [
    "solution = Solution()\n",
    "solution.longestPalindrome(s = \"babad\")"
   ]
  },
  {
   "cell_type": "code",
   "execution_count": null,
   "metadata": {},
   "outputs": [],
   "source": []
  },
  {
   "cell_type": "code",
   "execution_count": null,
   "metadata": {},
   "outputs": [],
   "source": []
  }
 ],
 "metadata": {
  "kernelspec": {
   "display_name": "Python 3",
   "language": "python",
   "name": "python3"
  },
  "language_info": {
   "codemirror_mode": {
    "name": "ipython",
    "version": 3
   },
   "file_extension": ".py",
   "mimetype": "text/x-python",
   "name": "python",
   "nbconvert_exporter": "python",
   "pygments_lexer": "ipython3",
   "version": "3.6.2"
  }
 },
 "nbformat": 4,
 "nbformat_minor": 4
}
