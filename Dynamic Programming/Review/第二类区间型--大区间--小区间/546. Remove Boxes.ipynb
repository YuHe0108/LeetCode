{
 "cells": [
  {
   "cell_type": "code",
   "execution_count": null,
   "metadata": {},
   "outputs": [],
   "source": []
  },
  {
   "cell_type": "code",
   "execution_count": null,
   "metadata": {},
   "outputs": [],
   "source": []
  },
  {
   "cell_type": "code",
   "execution_count": 1,
   "metadata": {},
   "outputs": [],
   "source": [
    "from typing import List\n",
    "\n",
    "class Solution:\n",
    "    def removeBoxes(self, boxes: List[int]) -> int:\n",
    "        n = len(boxes)\n",
    "        boxes = [0] + boxes\n",
    "        dp = [[0] * (n+1) for _ in range(n+1)]\n",
    "        \n",
    "        for gap in range(1, n+1):\n",
    "            for s in range(1, n-gap+2):\n",
    "                e = s + (gap - 1)\n",
    "                for k in range(s, e+1):\n",
    "                    pass\n",
    "        return dp[1][-1]"
   ]
  },
  {
   "cell_type": "code",
   "execution_count": null,
   "metadata": {},
   "outputs": [],
   "source": []
  },
  {
   "cell_type": "raw",
   "metadata": {},
   "source": [
    "1、XXX OOOO XXX OOOO XXX OOO\n",
    "          j0           i0\n",
    "\n"
   ]
  },
  {
   "cell_type": "code",
   "execution_count": 17,
   "metadata": {},
   "outputs": [],
   "source": [
    "from typing import List\n",
    "\n",
    "class Solution:\n",
    "    def removeBoxes(self, boxes: List[int]) -> int:\n",
    "        def dfs(l, r, k):\n",
    "            # boxes[l:r]表示的是在当前这个区间中，最后连续相同的字母有 k 个\n",
    "            if l > r:\n",
    "                return 0\n",
    "            if dp[l][r][k] != 0:\n",
    "                return dp[l][r][k]\n",
    "            \n",
    "            # 统计最后有有多少个连续相同的字母 \n",
    "            i = r\n",
    "            count = k\n",
    "            while i >= l and boxes[i] == boxes[r]:\n",
    "                i -= 1\n",
    "                count += 1\n",
    "                \n",
    "            # 1、先爆掉这count个，得分为  count * count + dfs(l, i, 0)\n",
    "            dp[l][r][k] = dfs(l, i, 0) + count * count\n",
    "            \n",
    "            # OOO XXX****XXX OOO: 先爆掉 XXX****XXX，将最后的 OOO拼接在 前面OOO的后面\n",
    "            # 2、不爆掉这count个，而是将其拼接在前面具有相同字母的后面，爆掉中间的这些箱子\n",
    "            for j in range(i, l-1, -1):\n",
    "                if boxes[j] != boxes[r]:\n",
    "                    continue\n",
    "                if boxes[j] == boxes[r] and boxes[j+1] == boxes[r]:\n",
    "                    continue\n",
    "                dp[l][r][k] = max(dp[l][r][k], dfs(l, j, count) + dfs(j+1, i, 0))\n",
    "            return dp[l][r][k]\n",
    "        \n",
    "        n = len(boxes)\n",
    "        dp = [[[0] * 100  for _ in range(100)] for _ in range(100)]\n",
    "        return dfs(0, n-1, 0)"
   ]
  },
  {
   "cell_type": "code",
   "execution_count": 18,
   "metadata": {},
   "outputs": [
    {
     "data": {
      "text/plain": [
       "23"
      ]
     },
     "execution_count": 18,
     "metadata": {},
     "output_type": "execute_result"
    }
   ],
   "source": [
    "solution = Solution()\n",
    "solution.removeBoxes(boxes = [1,3,2,2,2,3,4,3,1])"
   ]
  },
  {
   "cell_type": "code",
   "execution_count": null,
   "metadata": {},
   "outputs": [],
   "source": []
  }
 ],
 "metadata": {
  "kernelspec": {
   "display_name": "Python 3",
   "language": "python",
   "name": "python3"
  },
  "language_info": {
   "codemirror_mode": {
    "name": "ipython",
    "version": 3
   },
   "file_extension": ".py",
   "mimetype": "text/x-python",
   "name": "python",
   "nbconvert_exporter": "python",
   "pygments_lexer": "ipython3",
   "version": "3.6.2"
  }
 },
 "nbformat": 4,
 "nbformat_minor": 4
}
