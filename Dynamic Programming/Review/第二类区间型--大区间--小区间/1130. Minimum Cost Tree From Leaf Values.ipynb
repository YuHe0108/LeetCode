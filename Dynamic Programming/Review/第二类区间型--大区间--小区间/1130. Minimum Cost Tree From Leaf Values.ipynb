{
 "cells": [
  {
   "cell_type": "code",
   "execution_count": null,
   "metadata": {},
   "outputs": [],
   "source": []
  },
  {
   "cell_type": "code",
   "execution_count": null,
   "metadata": {},
   "outputs": [],
   "source": []
  },
  {
   "cell_type": "code",
   "execution_count": null,
   "metadata": {},
   "outputs": [],
   "source": []
  },
  {
   "cell_type": "code",
   "execution_count": null,
   "metadata": {},
   "outputs": [],
   "source": []
  },
  {
   "cell_type": "code",
   "execution_count": 30,
   "metadata": {},
   "outputs": [],
   "source": [
    "# 1、dp solution\n",
    "# [XXXX][XXXXX] -> dp[i][j] = max(arr[i:k]) * max(arr[k+1:j]) + dp[i][k] + dp[k+1][j]\n",
    "# i   k      j\n",
    "from typing import List\n",
    "\n",
    "class Solution:\n",
    "    def mctFromLeafValues(self, arr: List[int]) -> int:\n",
    "        n = len(arr)\n",
    "        dp = [[float('inf')] * n for _ in range(n)]\n",
    "        large = [[-float('inf')] * n for _ in range(n)] # large[i][j] 区间i-j之间的最大值\n",
    "        sum_val = sum(arr) # 叶子节点的值\n",
    "        for i in range(n):\n",
    "            dp[i][i] = arr[i]\n",
    "            large[i][i] = arr[i]\n",
    "        \n",
    "        for gap in range(2, n+1):\n",
    "            for s in range(n-gap+1):\n",
    "                e = s + (gap - 1)\n",
    "                for k in range(s, e):\n",
    "                    dp[s][e] = min(dp[s][e], large[s][k] * large[k+1][e] + dp[s][k] + dp[k+1][e])\n",
    "                    large[s][e] = max(large[s][k], large[k+1][e])\n",
    "        return dp[0][-1] - sum_val"
   ]
  },
  {
   "cell_type": "code",
   "execution_count": null,
   "metadata": {},
   "outputs": [],
   "source": []
  },
  {
   "cell_type": "code",
   "execution_count": 47,
   "metadata": {},
   "outputs": [],
   "source": [
    "class Solution:\n",
    "    def mctFromLeafValues(self, arr: List[int]) -> int:\n",
    "        n = len(arr)\n",
    "        idx = 0\n",
    "        stack = []\n",
    "        next_large = [float('inf')] * n # [XXXX K OOOO] next_large表示在K之后，且比K要大的数字\n",
    "        while idx < n:\n",
    "            if not stack or arr[stack[-1]] > arr[idx]: \n",
    "                stack.append(idx)\n",
    "            else:\n",
    "                while stack and arr[stack[-1]] <= arr[idx]: # 遇见一个比当前栈顶要大的数字\n",
    "                    next_large[stack.pop()] = arr[idx]\n",
    "                stack.append(idx)\n",
    "            idx += 1\n",
    "            \n",
    "        idx = 0\n",
    "        stack = []\n",
    "        prev_large = [float('inf')] * n # prev_large表示在K之前，且比K要大的数字\n",
    "        while idx < n:\n",
    "            if not stack or arr[stack[-1]] > arr[idx]:\n",
    "                if stack:\n",
    "                    prev_large[idx] = arr[stack[-1]]\n",
    "                stack.append(idx)\n",
    "            else:\n",
    "                while stack and arr[stack[-1]] <= arr[idx]:\n",
    "                    stack.pop()\n",
    "                if stack:\n",
    "                    prev_large[idx] = arr[stack[-1]]\n",
    "                stack.append(idx)\n",
    "            idx += 1\n",
    "            \n",
    "        cost = 0\n",
    "        for i in range(n):\n",
    "            val = min(prev_large[i], next_large[i])\n",
    "            if val != float('inf'):\n",
    "                cost += arr[i] * val\n",
    "        return cost"
   ]
  },
  {
   "cell_type": "code",
   "execution_count": null,
   "metadata": {},
   "outputs": [],
   "source": [
    "class Solution:\n",
    "    def mctFromLeafValues(self, arr) -> int:\n",
    "        ans, stack = 0, [float('inf')]\n",
    "        for cur in arr:\n",
    "            while stack[-1] <= cur:\n",
    "                drop = stack.pop()\n",
    "                ans += drop * min(stack[-1], cur)\n",
    "            stack.append(cur)\n",
    "        while len(stack) > 2:\n",
    "            ans += stack.pop() * stack[-1]\n",
    "        return ans"
   ]
  },
  {
   "cell_type": "code",
   "execution_count": 48,
   "metadata": {},
   "outputs": [
    {
     "data": {
      "text/plain": [
       "32"
      ]
     },
     "execution_count": 48,
     "metadata": {},
     "output_type": "execute_result"
    }
   ],
   "source": [
    "solution = Solution()\n",
    "solution.mctFromLeafValues(arr = [6,2,4])"
   ]
  },
  {
   "cell_type": "code",
   "execution_count": null,
   "metadata": {},
   "outputs": [],
   "source": []
  }
 ],
 "metadata": {
  "kernelspec": {
   "display_name": "Python 3",
   "language": "python",
   "name": "python3"
  },
  "language_info": {
   "codemirror_mode": {
    "name": "ipython",
    "version": 3
   },
   "file_extension": ".py",
   "mimetype": "text/x-python",
   "name": "python",
   "nbconvert_exporter": "python",
   "pygments_lexer": "ipython3",
   "version": "3.6.2"
  }
 },
 "nbformat": 4,
 "nbformat_minor": 4
}
