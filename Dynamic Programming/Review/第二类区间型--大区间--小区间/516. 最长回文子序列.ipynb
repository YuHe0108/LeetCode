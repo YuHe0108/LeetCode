{
 "cells": [
  {
   "cell_type": "code",
   "execution_count": null,
   "metadata": {},
   "outputs": [],
   "source": []
  },
  {
   "cell_type": "code",
   "execution_count": null,
   "metadata": {},
   "outputs": [],
   "source": [
    "print(l, r, gap, s[k], s[l:k], s[k+1:r+1])\n",
    "sub_s = s[l:k] + s[k+1:r+1]\n",
    "print(s[l:k], s[k+1:r+1])"
   ]
  },
  {
   "cell_type": "code",
   "execution_count": 107,
   "metadata": {},
   "outputs": [],
   "source": [
    "class Solution:\n",
    "    def longestPalindromeSubseq(self, s: str) -> int:\n",
    "        n = len(s)\n",
    "        s = '#' + s\n",
    "        dp = [[0] * (n+1) for _ in range(n+1)]\n",
    "        for i in range(1, n+1): # 区间长度为 1时，回文数为该数本身\n",
    "            dp[i][i] = 1\n",
    "            \n",
    "        for gap in range(2, n+1):\n",
    "            for l in range(1, n-gap+2):\n",
    "                r = l + (gap - 1)\n",
    "                # 由于我们在考虑区间\n",
    "                if s[l] == s[r]:\n",
    "                    dp[l][r] = dp[l+1][r-1] + 2\n",
    "                else:\n",
    "                    dp[l][r] = max(dp[l][r-1], dp[l+1][r])\n",
    "        return max(dp[1])"
   ]
  },
  {
   "cell_type": "code",
   "execution_count": 108,
   "metadata": {},
   "outputs": [
    {
     "data": {
      "text/plain": [
       "7"
      ]
     },
     "execution_count": 108,
     "metadata": {},
     "output_type": "execute_result"
    }
   ],
   "source": [
    "solution = Solution()\n",
    "solution.longestPalindromeSubseq(\"abcabcabcabc\")"
   ]
  }
 ],
 "metadata": {
  "kernelspec": {
   "display_name": "Python 3",
   "language": "python",
   "name": "python3"
  },
  "language_info": {
   "codemirror_mode": {
    "name": "ipython",
    "version": 3
   },
   "file_extension": ".py",
   "mimetype": "text/x-python",
   "name": "python",
   "nbconvert_exporter": "python",
   "pygments_lexer": "ipython3",
   "version": "3.6.2"
  }
 },
 "nbformat": 4,
 "nbformat_minor": 4
}
