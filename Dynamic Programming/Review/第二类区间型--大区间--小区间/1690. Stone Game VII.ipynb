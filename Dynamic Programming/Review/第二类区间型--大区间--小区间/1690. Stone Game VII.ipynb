{
 "cells": [
  {
   "cell_type": "code",
   "execution_count": null,
   "metadata": {},
   "outputs": [],
   "source": []
  },
  {
   "cell_type": "code",
   "execution_count": null,
   "metadata": {},
   "outputs": [],
   "source": []
  },
  {
   "cell_type": "code",
   "execution_count": null,
   "metadata": {},
   "outputs": [],
   "source": []
  },
  {
   "cell_type": "code",
   "execution_count": 43,
   "metadata": {},
   "outputs": [],
   "source": [
    "from typing import List\n",
    "\n",
    "class Solution:\n",
    "    def stoneGameVII(self, stones: List[int]) -> int:\n",
    "        n = len(stones)\n",
    "        presum = [0]\n",
    "        for v in stones:\n",
    "            presum.append(presum[-1] + v)\n",
    "        print(presum)\n",
    "        \n",
    "        # dp[i][j] 表示在stones[i:j] 的这个区间内，Alice 比 Bob 多拿的分数\n",
    "        dp = [[0] * n for _ in range(n)] \n",
    "        for i in range(n-1):\n",
    "            # 只有一个石头的时候，得分为 0， 有两个石头的时候，得分为最大的那个\n",
    "            dp[i][i+1] = max(stones[i], stones[i+1])\n",
    "        for gap in range(3, n+1):\n",
    "            for s in range(n-gap+1): # s 起点，e 终点\n",
    "                e = s + (gap - 1)\n",
    "                # 可以选择拿起点的石头，也可以拿终点的石头\n",
    "                # e+1 表示包括了 stones[e] 的这块石头的 presum\n",
    "                take_s = presum[e+1] - presum[s+1] # dp[s+1][e] 是后手最多拿的石头数量\n",
    "                take_e = presum[e] - presum[s]\n",
    "                print(stones[s:e+1], s, e, take_s, take_e)\n",
    "                dp[s][e] =  max(dp[s][e], take_s - dp[s+1][e], take_e - dp[s][e-1])\n",
    "        return dp[0][-1]"
   ]
  },
  {
   "cell_type": "code",
   "execution_count": 44,
   "metadata": {},
   "outputs": [
    {
     "name": "stdout",
     "output_type": "stream",
     "text": [
      "[0, 5, 8, 9, 13, 15]\n",
      "[5, 3, 1] 0 2 4 8\n",
      "[3, 1, 4] 1 3 5 4\n",
      "[1, 4, 2] 2 4 6 5\n",
      "[5, 3, 1, 4] 0 3 8 9\n",
      "[3, 1, 4, 2] 1 4 7 8\n",
      "[5, 3, 1, 4, 2] 0 4 10 13\n"
     ]
    },
    {
     "data": {
      "text/plain": [
       "6"
      ]
     },
     "execution_count": 44,
     "metadata": {},
     "output_type": "execute_result"
    }
   ],
   "source": [
    "solution = Solution()\n",
    "solution.stoneGameVII(stones = [5,3,1,4,2])"
   ]
  },
  {
   "cell_type": "code",
   "execution_count": null,
   "metadata": {},
   "outputs": [],
   "source": [
    "[0, 5, 8, 9, 13, 15]\n",
    " 0  1  2  3   4   5\n",
    " 5, 3, 1, 4,  2"
   ]
  }
 ],
 "metadata": {
  "kernelspec": {
   "display_name": "Python 3",
   "language": "python",
   "name": "python3"
  },
  "language_info": {
   "codemirror_mode": {
    "name": "ipython",
    "version": 3
   },
   "file_extension": ".py",
   "mimetype": "text/x-python",
   "name": "python",
   "nbconvert_exporter": "python",
   "pygments_lexer": "ipython3",
   "version": "3.6.2"
  }
 },
 "nbformat": 4,
 "nbformat_minor": 4
}
