{
 "cells": [
  {
   "cell_type": "code",
   "execution_count": null,
   "metadata": {},
   "outputs": [],
   "source": []
  },
  {
   "cell_type": "code",
   "execution_count": null,
   "metadata": {},
   "outputs": [],
   "source": [
    "import bisect\n",
    "\n",
    "class Solution:\n",
    "    def lengthOfLIS(self, nums: List[int]) -> int:\n",
    "        def binary(arr, num):\n",
    "            left, right = 0, len(arr) - 1\n",
    "            while left <= right:\n",
    "                mid = left + (right - left) // 2\n",
    "                if arr[mid] == num:\n",
    "                    return mid\n",
    "                elif arr[mid] < num:\n",
    "                    left = mid + 1\n",
    "                elif arr[mid] > num:\n",
    "                    right = mid - 1\n",
    "            return left\n",
    "        \n",
    "        dp = []\n",
    "        for n in nums:\n",
    "            idx = binary(dp, n)\n",
    "            if idx == len(dp):\n",
    "                dp.append(n)\n",
    "            else:\n",
    "                dp[idx] = n\n",
    "        return len(dp)"
   ]
  },
  {
   "cell_type": "code",
   "execution_count": null,
   "metadata": {},
   "outputs": [],
   "source": []
  },
  {
   "cell_type": "code",
   "execution_count": 29,
   "metadata": {},
   "outputs": [],
   "source": [
    "import bisect\n",
    "\n",
    "class Solution:\n",
    "    def lengthOfLIS(self, nums):\n",
    "        dp = [] # dp[i] 是nums[:i]中最长的 LCS 数组\n",
    "        for n in nums:\n",
    "            idx = bisect.bisect_left(dp, n)\n",
    "            if idx == len(dp):\n",
    "                dp.append(n) # 比 dp 中所有的数字都要大\n",
    "            else:\n",
    "                dp[idx] = n # 替换为比较小的值，更容易形成递增序列\n",
    "        return len(dp)"
   ]
  },
  {
   "cell_type": "code",
   "execution_count": 30,
   "metadata": {},
   "outputs": [
    {
     "name": "stdout",
     "output_type": "stream",
     "text": [
      "0 9 [10]\n",
      "0 2 [9]\n",
      "1 3 [2, 5]\n",
      "3 18 [2, 3, 7, 101]\n"
     ]
    },
    {
     "data": {
      "text/plain": [
       "4"
      ]
     },
     "execution_count": 30,
     "metadata": {},
     "output_type": "execute_result"
    }
   ],
   "source": [
    "solution = Solution()\n",
    "solution.lengthOfLIS([10,9,2,5,3,7,101,18])"
   ]
  },
  {
   "cell_type": "code",
   "execution_count": null,
   "metadata": {},
   "outputs": [],
   "source": []
  },
  {
   "cell_type": "code",
   "execution_count": 13,
   "metadata": {},
   "outputs": [],
   "source": [
    "class Solution:\n",
    "    def lengthOfLIS(self, nums):\n",
    "        n = len(nums)\n",
    "        dp = [1] * (1 + n) # 最短起码也是自己，所以最短的长度为 1\n",
    "        nums.insert(0, '#')\n",
    "        for i in range(2, n+1):\n",
    "            for j in range(1, i):\n",
    "                if nums[j] < nums[i]:\n",
    "                    dp[i] = max(dp[i], dp[j] + 1)\n",
    "        return max(dp)"
   ]
  },
  {
   "cell_type": "code",
   "execution_count": 31,
   "metadata": {},
   "outputs": [
    {
     "name": "stdout",
     "output_type": "stream",
     "text": [
      "2 3 [1, 2, 4]\n",
      "3 4 [1, 2, 3, 5]\n",
      "1 2 [1, 2, 3, 4, 7]\n"
     ]
    },
    {
     "data": {
      "text/plain": [
       "5"
      ]
     },
     "execution_count": 31,
     "metadata": {},
     "output_type": "execute_result"
    }
   ],
   "source": [
    "solution = Solution()\n",
    "solution.lengthOfLIS([1,2,4,3,5,4,7,2])"
   ]
  },
  {
   "cell_type": "code",
   "execution_count": null,
   "metadata": {},
   "outputs": [],
   "source": []
  }
 ],
 "metadata": {
  "kernelspec": {
   "display_name": "Python 3",
   "language": "python",
   "name": "python3"
  },
  "language_info": {
   "codemirror_mode": {
    "name": "ipython",
    "version": 3
   },
   "file_extension": ".py",
   "mimetype": "text/x-python",
   "name": "python",
   "nbconvert_exporter": "python",
   "pygments_lexer": "ipython3",
   "version": "3.6.2"
  }
 },
 "nbformat": 4,
 "nbformat_minor": 4
}
