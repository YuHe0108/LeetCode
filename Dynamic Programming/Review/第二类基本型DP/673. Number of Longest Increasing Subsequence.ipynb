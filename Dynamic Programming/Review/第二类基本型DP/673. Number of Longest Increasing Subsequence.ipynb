{
 "cells": [
  {
   "cell_type": "code",
   "execution_count": null,
   "metadata": {},
   "outputs": [],
   "source": []
  },
  {
   "cell_type": "code",
   "execution_count": null,
   "metadata": {},
   "outputs": [],
   "source": []
  },
  {
   "cell_type": "code",
   "execution_count": null,
   "metadata": {},
   "outputs": [],
   "source": []
  },
  {
   "cell_type": "code",
   "execution_count": null,
   "metadata": {},
   "outputs": [],
   "source": []
  },
  {
   "cell_type": "code",
   "execution_count": 72,
   "metadata": {},
   "outputs": [],
   "source": [
    "class Solution:\n",
    "    def findNumberOfLIS(self, nums):\n",
    "        if not nums: return 0\n",
    "        \n",
    "        lis = [1] * len(nums)\n",
    "        times = [1] * len(nums)\n",
    "        \n",
    "        for i in range(len(nums)):\n",
    "            for j in range(i):\n",
    "                if nums[i] <= nums[j]: \n",
    "                    continue\n",
    "                if lis[j] + 1 > lis[i]:\n",
    "                    times[i] = times[j]\n",
    "                elif lis[j] + 1 == lis[i]:\n",
    "                    times[i] += times[j]\n",
    "                \n",
    "                lis[i] = max(lis[j] + 1, lis[i])\n",
    "        \n",
    "        print(lis, times)\n",
    "        result = 0\n",
    "        max_len = 1\n",
    "        for i in range(len(lis)):\n",
    "            if lis[i] > max_len:\n",
    "                max_len = lis[i]\n",
    "                result = times[i]\n",
    "            elif lis[i] == max_len:\n",
    "                result += times[i]\n",
    "        return result"
   ]
  },
  {
   "cell_type": "code",
   "execution_count": 73,
   "metadata": {},
   "outputs": [
    {
     "name": "stdout",
     "output_type": "stream",
     "text": [
      "[1, 2, 3, 3, 4, 4, 5, 2] [1, 1, 1, 1, 2, 1, 3, 1]\n"
     ]
    },
    {
     "data": {
      "text/plain": [
       "3"
      ]
     },
     "execution_count": 73,
     "metadata": {},
     "output_type": "execute_result"
    }
   ],
   "source": [
    "solution = Solution()\n",
    "solution.findNumberOfLIS([1,2,4,3,5,4,7,2])"
   ]
  },
  {
   "cell_type": "code",
   "execution_count": null,
   "metadata": {},
   "outputs": [],
   "source": []
  },
  {
   "cell_type": "code",
   "execution_count": null,
   "metadata": {},
   "outputs": [],
   "source": [
    "dp[i] = max(dp[i], dp[j] + 1)\n",
    "if dp[i] == longest:\n",
    "    cnt += 1\n",
    "elif dp[i] > longest:\n",
    "    longest = dp[i]\n",
    "    cnt = 1"
   ]
  },
  {
   "cell_type": "code",
   "execution_count": 76,
   "metadata": {},
   "outputs": [],
   "source": [
    "class Solution:\n",
    "    def findNumberOfLIS(self, nums) -> int:\n",
    "        if not nums:\n",
    "            return 0\n",
    "        n = len(nums)\n",
    "        dp = [1] * n\n",
    "        count = [1] * n # count[i] 等于以 nums[:i]为结尾，最长子序列的个数是多少\n",
    "        longest = 1\n",
    "        for i in range(n):\n",
    "            for j in range(i):\n",
    "                if nums[j] < nums[i]:\n",
    "                    dp[i] = max(dp[i], dp[j] + 1)\n",
    "                    # 如果 nums[j] < nums[i], 那么有多少个以 num[:j]为结尾形成最长子序列的数量 就等于\n",
    "                    # 以 num[:i] 为结尾形成最长子序列的数量\n",
    "                    if dp[i] > longest:\n",
    "                        longest = dp[i]\n",
    "                        count[i] = count[j]\n",
    "                    elif dp[i] == longest:\n",
    "                        count[i] += count[j]\n",
    "        print(dp, count, longest)\n",
    "        return "
   ]
  },
  {
   "cell_type": "code",
   "execution_count": 77,
   "metadata": {},
   "outputs": [
    {
     "name": "stdout",
     "output_type": "stream",
     "text": [
      "[1, 2, 3, 3, 4, 4, 5, 2] [1, 1, 1, 2, 3, 3, 6, 1] 5\n"
     ]
    }
   ],
   "source": [
    "solution = Solution()\n",
    "solution.findNumberOfLIS([1,2,4,3,5,4,7,2])"
   ]
  },
  {
   "cell_type": "code",
   "execution_count": null,
   "metadata": {},
   "outputs": [],
   "source": []
  }
 ],
 "metadata": {
  "kernelspec": {
   "display_name": "Python 3",
   "language": "python",
   "name": "python3"
  },
  "language_info": {
   "codemirror_mode": {
    "name": "ipython",
    "version": 3
   },
   "file_extension": ".py",
   "mimetype": "text/x-python",
   "name": "python",
   "nbconvert_exporter": "python",
   "pygments_lexer": "ipython3",
   "version": "3.6.2"
  }
 },
 "nbformat": 4,
 "nbformat_minor": 4
}
