{
 "cells": [
  {
   "cell_type": "code",
   "execution_count": null,
   "metadata": {},
   "outputs": [],
   "source": []
  },
  {
   "cell_type": "code",
   "execution_count": null,
   "metadata": {},
   "outputs": [],
   "source": []
  },
  {
   "cell_type": "code",
   "execution_count": null,
   "metadata": {},
   "outputs": [],
   "source": []
  },
  {
   "cell_type": "code",
   "execution_count": null,
   "metadata": {},
   "outputs": [],
   "source": []
  },
  {
   "cell_type": "code",
   "execution_count": 60,
   "metadata": {},
   "outputs": [],
   "source": [
    "from typing import List\n",
    "\n",
    "class Solution:\n",
    "    def cherryPickup(self, grid: List[List[int]]) -> int:\n",
    "        rows, cols = len(grid), len(grid[0])\n",
    "        dp = [[-float('inf')] * cols for _ in range(cols)]\n",
    "        dp[0][-1] = grid[0][0] + grid[0][-1] # 初始化的时候\n",
    "        \n",
    "        res = dp[0][-1]\n",
    "        for r in range(1, rows):\n",
    "            new_dp = [[-float('inf')] * cols for _ in range(cols)]\n",
    "            for c1 in range(cols):\n",
    "                for c2 in range(cols):\n",
    "                    if dp[c1][c2] == -float('inf'): # 不是有效的位置\n",
    "                        continue\n",
    "                    \n",
    "                    dirs = [(0, 0), (0, 1), (0, -1), (1, 0), (1, 1), (1, -1), (-1, 0), (-1, 1), (-1, -1)]\n",
    "                    for dc1, dc2 in dirs:\n",
    "                        nc1, nc2 = c1 + dc1, c2 + dc2\n",
    "                        if nc1 < 0 or nc1 >= cols or nc2 < 0 or nc2 >= cols: # 越界方案不可行\n",
    "                            continue\n",
    "                        if nc1 == nc2:\n",
    "                            new_dp[nc1][nc2] = max(new_dp[nc1][nc2], dp[c1][c2] + grid[r][nc1])\n",
    "                        else:\n",
    "                            new_dp[nc1][nc2] = max(new_dp[nc1][nc2], dp[c1][c2] + grid[r][nc1] + grid[r][nc2])\n",
    "                        res = max(res, new_dp[nc1][nc2])\n",
    "            \n",
    "            dp = new_dp\n",
    "        return res"
   ]
  },
  {
   "cell_type": "code",
   "execution_count": 65,
   "metadata": {},
   "outputs": [
    {
     "data": {
      "text/plain": [
       "4"
      ]
     },
     "execution_count": 65,
     "metadata": {},
     "output_type": "execute_result"
    }
   ],
   "source": [
    "solution = Solution()\n",
    "solution.cherryPickup(grid = [[1,1],[1,1]])"
   ]
  },
  {
   "cell_type": "code",
   "execution_count": null,
   "metadata": {},
   "outputs": [],
   "source": [
    "[[-inf, -inf, 4], [-inf, -inf, -inf], [-inf, -inf, -inf]]\n",
    "\n",
    "[[-inf, 7, 7], [-inf, 6, 7], [-inf, -inf, -inf]]"
   ]
  }
 ],
 "metadata": {
  "kernelspec": {
   "display_name": "Python 3",
   "language": "python",
   "name": "python3"
  },
  "language_info": {
   "codemirror_mode": {
    "name": "ipython",
    "version": 3
   },
   "file_extension": ".py",
   "mimetype": "text/x-python",
   "name": "python",
   "nbconvert_exporter": "python",
   "pygments_lexer": "ipython3",
   "version": "3.6.2"
  }
 },
 "nbformat": 4,
 "nbformat_minor": 4
}
