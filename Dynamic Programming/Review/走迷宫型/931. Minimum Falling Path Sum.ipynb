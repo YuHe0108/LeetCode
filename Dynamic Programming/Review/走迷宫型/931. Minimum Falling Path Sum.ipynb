{
 "cells": [
  {
   "cell_type": "code",
   "execution_count": null,
   "metadata": {},
   "outputs": [],
   "source": []
  },
  {
   "cell_type": "code",
   "execution_count": null,
   "metadata": {},
   "outputs": [],
   "source": []
  },
  {
   "cell_type": "code",
   "execution_count": null,
   "metadata": {},
   "outputs": [],
   "source": []
  },
  {
   "cell_type": "code",
   "execution_count": 25,
   "metadata": {},
   "outputs": [],
   "source": [
    "from typing import List\n",
    "\n",
    "class Solution:\n",
    "    def minFallingPathSum(self, matrix: List[List[int]]) -> int:\n",
    "        n = len(matrix)\n",
    "        # 从第 0 行走到最后一行， 和值最小\n",
    "        \n",
    "        dp = [x for x in matrix[0]] # 第一行的值\n",
    "        for i in range(1, n): # 计算 1 ~ n 行\n",
    "            temp = [float('inf')] * n\n",
    "            for j in range(n):\n",
    "                for _, dj in (0, -1), (0, 0), (0, 1):\n",
    "                    nj = j + dj\n",
    "                    if nj < 0 or nj >= n:\n",
    "                        continue\n",
    "                    temp[nj] = min(temp[nj], matrix[i][nj] + dp[j])\n",
    "            dp = temp\n",
    "        return min(dp)"
   ]
  },
  {
   "cell_type": "code",
   "execution_count": 27,
   "metadata": {},
   "outputs": [
    {
     "data": {
      "text/plain": [
       "-59"
      ]
     },
     "execution_count": 27,
     "metadata": {},
     "output_type": "execute_result"
    }
   ],
   "source": [
    "solution = Solution()\n",
    "solution.minFallingPathSum(matrix = [[-19,57],[-40,-5]])"
   ]
  },
  {
   "cell_type": "code",
   "execution_count": null,
   "metadata": {},
   "outputs": [],
   "source": []
  }
 ],
 "metadata": {
  "kernelspec": {
   "display_name": "Python 3",
   "language": "python",
   "name": "python3"
  },
  "language_info": {
   "codemirror_mode": {
    "name": "ipython",
    "version": 3
   },
   "file_extension": ".py",
   "mimetype": "text/x-python",
   "name": "python",
   "nbconvert_exporter": "python",
   "pygments_lexer": "ipython3",
   "version": "3.6.2"
  }
 },
 "nbformat": 4,
 "nbformat_minor": 4
}
