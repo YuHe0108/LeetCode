{
 "cells": [
  {
   "cell_type": "code",
   "execution_count": null,
   "metadata": {},
   "outputs": [],
   "source": []
  },
  {
   "cell_type": "code",
   "execution_count": null,
   "metadata": {},
   "outputs": [],
   "source": []
  },
  {
   "cell_type": "code",
   "execution_count": null,
   "metadata": {},
   "outputs": [],
   "source": []
  },
  {
   "cell_type": "code",
   "execution_count": null,
   "metadata": {},
   "outputs": [],
   "source": []
  },
  {
   "cell_type": "code",
   "execution_count": 61,
   "metadata": {},
   "outputs": [],
   "source": [
    "from typing import List\n",
    "\n",
    "class Solution:\n",
    "    def minFallingPathSum(self, arr: List[List[int]]) -> int:\n",
    "        n = len(arr)\n",
    "        # 从第 0 行走到最后一行， 和值最小\n",
    "        \n",
    "        dp = [x for x in arr[0]] # 第一行的值\n",
    "        for i in range(1, n): # 计算 1 ~ n 行\n",
    "            temp = [float('inf')] * n\n",
    "            for j in range(n): # 对于当前的 j 可以选择下一行任意一个值\n",
    "                for nj in range(n):\n",
    "                    if j == nj: # 相邻的两行，不能在同一列\n",
    "                        continue\n",
    "                    temp[nj] = min(temp[nj], arr[i][nj] + dp[j])\n",
    "            dp = temp\n",
    "        return min(dp)"
   ]
  },
  {
   "cell_type": "code",
   "execution_count": null,
   "metadata": {},
   "outputs": [],
   "source": []
  },
  {
   "cell_type": "code",
   "execution_count": null,
   "metadata": {},
   "outputs": [],
   "source": []
  },
  {
   "cell_type": "code",
   "execution_count": 67,
   "metadata": {},
   "outputs": [],
   "source": [
    "from typing import List\n",
    "\n",
    "class Solution:\n",
    "    def minFallingPathSum(self, arr: List[List[int]]) -> int:\n",
    "        n = len(arr)\n",
    "        # 从第 0 行走到最后一行， 和值最小\n",
    "        \n",
    "        dp = [x for x in arr[0]] # 第一行的值\n",
    "        for i in range(1, n): # 计算 1 ~ n 行\n",
    "            temp = [float('inf')] * n\n",
    "            \n",
    "            vals = []\n",
    "            for k in range(n):\n",
    "                vals.append((dp[k], k))\n",
    "            vals.sort()\n",
    "            \n",
    "            for j in range(n): # 对于当前的 j 可以选择上一行的最小值，并且不能同一列\n",
    "                if j != vals[0][1]:\n",
    "                    temp[j] = vals[0][0] + arr[i][j]\n",
    "                else:\n",
    "                    temp[j] = vals[1][0] + arr[i][j]\n",
    "            dp = temp\n",
    "        return min(dp)"
   ]
  },
  {
   "cell_type": "code",
   "execution_count": 68,
   "metadata": {},
   "outputs": [
    {
     "data": {
      "text/plain": [
       "-268"
      ]
     },
     "execution_count": 68,
     "metadata": {},
     "output_type": "execute_result"
    }
   ],
   "source": [
    "solution = Solution()\n",
    "solution.minFallingPathSum([[-37,51,-36,34,-22],\n",
    "                            [82,4,30,14,38],\n",
    "                            [-68,-52,-92,65,-85],\n",
    "                            [-49,-3,-77,8,-19],\n",
    "                            [-60,-71,-21,-62,-73]])"
   ]
  },
  {
   "cell_type": "code",
   "execution_count": null,
   "metadata": {},
   "outputs": [],
   "source": []
  },
  {
   "cell_type": "code",
   "execution_count": null,
   "metadata": {},
   "outputs": [],
   "source": []
  },
  {
   "cell_type": "code",
   "execution_count": null,
   "metadata": {},
   "outputs": [],
   "source": []
  },
  {
   "cell_type": "code",
   "execution_count": null,
   "metadata": {},
   "outputs": [],
   "source": [
    "class Solution:\n",
    "    def minFallingPathSum(self, arr: List[List[int]]) -> int:\n",
    "        n = len(arr)\n",
    "        first, firstindex, second = 0, -1, 0\n",
    "        for i in range(n):\n",
    "            tempfs, tempfsi, tempsec = float(\"inf\"), -1, float(\"inf\")\n",
    "            for j in range(n):\n",
    "                cursum=(first if firstindex!=j else second)+arr[i][j]\n",
    "                if cursum<tempfs:\n",
    "                    tempfs, tempfsi, tempsec = cursum,j,tempfs\n",
    "                elif cursum<tempsec:\n",
    "                    tempsec=cursum\n",
    "            first, firstindex, second = tempfs,tempfsi,tempsec\n",
    "        return first"
   ]
  },
  {
   "cell_type": "code",
   "execution_count": 62,
   "metadata": {},
   "outputs": [
    {
     "name": "stdout",
     "output_type": "stream",
     "text": [
      "[-37, 51, -36, 34, -22]\n",
      "[inf, -33, inf, 65, inf]\n",
      "[inf, inf, -125, inf, inf]\n",
      "[-174, inf, inf, inf, inf]\n"
     ]
    },
    {
     "data": {
      "text/plain": [
       "-247"
      ]
     },
     "execution_count": 62,
     "metadata": {},
     "output_type": "execute_result"
    }
   ],
   "source": [
    "solution = Solution()\n",
    "solution.minFallingPathSum([[-37,51,-36,34,-22],\n",
    "                            [82,4,30,14,38],\n",
    "                            [-68,-52,-92,65,-85],\n",
    "                            [-49,-3,-77,8,-19],\n",
    "                            [-60,-71,-21,-62,-73]])"
   ]
  },
  {
   "cell_type": "code",
   "execution_count": null,
   "metadata": {},
   "outputs": [],
   "source": []
  }
 ],
 "metadata": {
  "kernelspec": {
   "display_name": "Python 3",
   "language": "python",
   "name": "python3"
  },
  "language_info": {
   "codemirror_mode": {
    "name": "ipython",
    "version": 3
   },
   "file_extension": ".py",
   "mimetype": "text/x-python",
   "name": "python",
   "nbconvert_exporter": "python",
   "pygments_lexer": "ipython3",
   "version": "3.6.2"
  }
 },
 "nbformat": 4,
 "nbformat_minor": 4
}
