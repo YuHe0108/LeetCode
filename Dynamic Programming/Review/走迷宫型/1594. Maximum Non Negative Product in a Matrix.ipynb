{
 "cells": [
  {
   "cell_type": "code",
   "execution_count": null,
   "metadata": {},
   "outputs": [],
   "source": []
  },
  {
   "cell_type": "code",
   "execution_count": null,
   "metadata": {},
   "outputs": [],
   "source": []
  },
  {
   "cell_type": "code",
   "execution_count": null,
   "metadata": {},
   "outputs": [],
   "source": []
  },
  {
   "cell_type": "code",
   "execution_count": 48,
   "metadata": {},
   "outputs": [],
   "source": [
    "from typing import List\n",
    "\n",
    "class Solution:\n",
    "    def maxProductPath(self, grid: List[List[int]]) -> int:\n",
    "        \n",
    "        rows, cols = len(grid), len(grid[0])\n",
    "        dp_max = [[-float('inf')] * cols for _ in range(rows)] # 到达当前位置的最大值\n",
    "        dp_min = [[float('inf')] * cols for _ in range(rows)] # 到达当前位置的最小值\n",
    "        dp_max[0][0] = dp_min[0][0] = grid[0][0]\n",
    "        mod = pow(10, 9) + 7\n",
    "        for i in range(rows):\n",
    "            for j in range(cols):\n",
    "                if i == j == 0:\n",
    "                    continue\n",
    "                val = grid[i][j]\n",
    "                # 因为可以从 向右和向下走 达到 (i, j) 点，所有达到 (i, j)的方向来自于 (i-1, j), (i, j-1)\n",
    "                if i > 0 and j > 0: # 上方、左方\n",
    "                    if val <= 0:\n",
    "                        dp_min[i][j] = max(dp_max[i-1][j], dp_max[i][j-1]) * val\n",
    "                        dp_max[i][j] = min(dp_min[i-1][j], dp_min[i][j-1]) * val\n",
    "                    else:\n",
    "                        dp_min[i][j] = min(dp_min[i-1][j], dp_min[i][j-1]) * val\n",
    "                        dp_max[i][j] = max(dp_max[i-1][j], dp_max[i][j-1]) * val\n",
    "                elif i > 0: # 从上方达到\n",
    "                    if val <= 0:\n",
    "                        dp_min[i][j] = dp_max[i-1][j] * val\n",
    "                        dp_max[i][j] = dp_min[i-1][j] * val\n",
    "                    else:\n",
    "                        dp_min[i][j] = dp_min[i-1][j] * val\n",
    "                        dp_max[i][j] = dp_max[i-1][j] * val\n",
    "                elif j > 0: # 从左方达到\n",
    "                    if val <= 0:\n",
    "                        dp_min[i][j] = dp_max[i][j-1] * val\n",
    "                        dp_max[i][j] = dp_min[i][j-1] * val\n",
    "                    else:\n",
    "                        dp_min[i][j] = dp_min[i][j-1] * val\n",
    "                        dp_max[i][j] = dp_max[i][j-1] * val\n",
    "            if dp_min[i][j] > 0:\n",
    "                dp_min[i][j] %= mod\n",
    "            if dp_max[i][j] > 0:\n",
    "                dp_max[i][j] %= mod\n",
    "                \n",
    "        res = dp_max[-1][-1]\n",
    "        return res % mod if res >= 0 else -1"
   ]
  },
  {
   "cell_type": "code",
   "execution_count": 49,
   "metadata": {},
   "outputs": [
    {
     "data": {
      "text/plain": [
       "768"
      ]
     },
     "execution_count": 49,
     "metadata": {},
     "output_type": "execute_result"
    }
   ],
   "source": [
    "solution = Solution()\n",
    "solution.maxProductPath([[-1, -4,   2],\n",
    "                         [4,   3,  -1],\n",
    "                         [2,  -4,   4],\n",
    "                         [1,-  1,  -4]])"
   ]
  },
  {
   "cell_type": "code",
   "execution_count": 15,
   "metadata": {},
   "outputs": [
    {
     "data": {
      "text/plain": [
       "nan"
      ]
     },
     "execution_count": 15,
     "metadata": {},
     "output_type": "execute_result"
    }
   ],
   "source": [
    "float('inf') % pow(10, 9)"
   ]
  },
  {
   "cell_type": "code",
   "execution_count": 41,
   "metadata": {},
   "outputs": [
    {
     "data": {
      "text/plain": [
       "768"
      ]
     },
     "execution_count": 41,
     "metadata": {},
     "output_type": "execute_result"
    }
   ],
   "source": [
    "16*16*3"
   ]
  },
  {
   "cell_type": "code",
   "execution_count": null,
   "metadata": {},
   "outputs": [],
   "source": [
    "[[-1, 4, 8], \n",
    " [-4, 12, -8], \n",
    " [-8, 32, 128], \n",
    " [-8, 48, 192]]\n",
    "\n",
    "[[-1, 4, 8], \n",
    " [-4, 12, -12], \n",
    " [-8, -48, -48], \n",
    " [-8, -32, -512]]"
   ]
  }
 ],
 "metadata": {
  "kernelspec": {
   "display_name": "Python 3",
   "language": "python",
   "name": "python3"
  },
  "language_info": {
   "codemirror_mode": {
    "name": "ipython",
    "version": 3
   },
   "file_extension": ".py",
   "mimetype": "text/x-python",
   "name": "python",
   "nbconvert_exporter": "python",
   "pygments_lexer": "ipython3",
   "version": "3.6.2"
  }
 },
 "nbformat": 4,
 "nbformat_minor": 4
}
