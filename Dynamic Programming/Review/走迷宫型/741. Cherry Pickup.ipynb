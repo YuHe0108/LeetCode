{
 "cells": [
  {
   "cell_type": "code",
   "execution_count": null,
   "metadata": {},
   "outputs": [],
   "source": []
  },
  {
   "cell_type": "code",
   "execution_count": null,
   "metadata": {},
   "outputs": [],
   "source": []
  },
  {
   "cell_type": "code",
   "execution_count": null,
   "metadata": {},
   "outputs": [],
   "source": []
  },
  {
   "cell_type": "code",
   "execution_count": 23,
   "metadata": {},
   "outputs": [],
   "source": [
    "from typing import List\n",
    "\n",
    "class Solution:\n",
    "    def cherryPickup(self, grid: List[List[int]]) -> int:\n",
    "        n = len(grid)\n",
    "        # dp[i][j][x]: 表示两条路, 第一条路：(i, j), 第二条路：(x, i+j-x)\n",
    "        dp = [[[-float('inf')] * (n+1) for _ in range(n+1)] for _ in range(n+1)]\n",
    "        \n",
    "        dp[1][1][1] = grid[0][0]\n",
    "        \n",
    "        for i in range(1, n+1):\n",
    "            for j in range(1, n+1):\n",
    "                for x in range(1, n+1):\n",
    "                    y = i + j - x\n",
    "                    if y <= 0 or y > n:\n",
    "                        continue\n",
    "                    # 障碍物的地方不能走\n",
    "                    if grid[i-1][j-1] == -1 or grid[x-1][y-1] == -1:\n",
    "                        continue\n",
    "                    if i == 1 and j == 1 and x == 1:\n",
    "                        continue\n",
    "                    \n",
    "                    dp[i][j][x] = max(dp[i][j][x], \n",
    "                                      dp[i-1][j][x-1], dp[i][j-1][x-1], # 分别代表两条路的上方和左方\n",
    "                                      dp[i-1][j][x], dp[i][j-1][x])\n",
    "                    \n",
    "                    if (i, j) == (x, y): # 走到相同的格子，只能加一次\n",
    "                        dp[i][j][x] += grid[i-1][j-1]\n",
    "                    else:\n",
    "                        dp[i][j][x] += grid[i-1][j-1] + grid[x-1][y-1]\n",
    "        \n",
    "        print(dp)\n",
    "        return max(dp[-1][-1][-1], 0)"
   ]
  },
  {
   "cell_type": "code",
   "execution_count": 24,
   "metadata": {},
   "outputs": [
    {
     "name": "stdout",
     "output_type": "stream",
     "text": [
      "[[[-inf, -inf, -inf, -inf], [-inf, -inf, -inf, -inf], [-inf, -inf, -inf, -inf], [-inf, -inf, -inf, -inf]], [[-inf, -inf, -inf, -inf], [-inf, 0, -inf, -inf], [-inf, 1, 2, -inf], [-inf, -inf, -inf, -inf]], [[-inf, -inf, -inf, -inf], [-inf, 2, 1, -inf], [-inf, -inf, 2, 3], [-inf, -inf, -inf, -inf]], [[-inf, -inf, -inf, -inf], [-inf, -inf, 3, 2], [-inf, -inf, -inf, 4], [-inf, -inf, -inf, 5]]]\n"
     ]
    },
    {
     "data": {
      "text/plain": [
       "5"
      ]
     },
     "execution_count": 24,
     "metadata": {},
     "output_type": "execute_result"
    }
   ],
   "source": [
    "solution = Solution()\n",
    "solution.cherryPickup([[0, 1, -1],\n",
    "                       [1, 0, -1],\n",
    "                       [1, 1,  1]])"
   ]
  },
  {
   "cell_type": "code",
   "execution_count": null,
   "metadata": {},
   "outputs": [],
   "source": []
  }
 ],
 "metadata": {
  "kernelspec": {
   "display_name": "Python 3",
   "language": "python",
   "name": "python3"
  },
  "language_info": {
   "codemirror_mode": {
    "name": "ipython",
    "version": 3
   },
   "file_extension": ".py",
   "mimetype": "text/x-python",
   "name": "python",
   "nbconvert_exporter": "python",
   "pygments_lexer": "ipython3",
   "version": "3.6.2"
  }
 },
 "nbformat": 4,
 "nbformat_minor": 4
}
