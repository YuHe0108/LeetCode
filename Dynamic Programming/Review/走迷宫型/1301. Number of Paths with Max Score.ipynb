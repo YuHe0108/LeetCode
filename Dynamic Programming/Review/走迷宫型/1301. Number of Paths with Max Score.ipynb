{
 "cells": [
  {
   "cell_type": "code",
   "execution_count": null,
   "metadata": {},
   "outputs": [],
   "source": []
  },
  {
   "cell_type": "code",
   "execution_count": null,
   "metadata": {},
   "outputs": [],
   "source": []
  },
  {
   "cell_type": "code",
   "execution_count": null,
   "metadata": {},
   "outputs": [],
   "source": []
  },
  {
   "cell_type": "code",
   "execution_count": 24,
   "metadata": {},
   "outputs": [],
   "source": [
    "from typing import List\n",
    "\n",
    "class Solution:\n",
    "    def pathsWithMaxScore(self, board: List[str]) -> List[int]:\n",
    "        # 最大得分\n",
    "        n = len(board)\n",
    "        dp = [[-float('inf')] * n for _ in range(n)] # 每个点的最大得分\n",
    "        dp[0][0] = 0\n",
    "        for i in range(n):\n",
    "            for j in range(n):\n",
    "                if i == 0 and j == 0:\n",
    "                    continue\n",
    "                if board[i][j] == 'X':\n",
    "                    continue\n",
    "                for di, dj in (1, 0), (0, 1), (-1, 0), (0, -1):\n",
    "                    ni, nj = i + di, j + dj\n",
    "                    if ni < 0 or nj < 0 or ni >= n or nj >= n or board[ni][nj] == 'X':\n",
    "                        continue\n",
    "                    \n",
    "                    if board[ni][nj] == 'S' or board[ni][nj] == 'E':\n",
    "                        val = 0\n",
    "                    else:\n",
    "                        val = int(board[ni][nj])\n",
    "                    dp[i][j] = max(dp[i][j], dp[ni][nj] + val)\n",
    "        \n",
    "        max_val = max(dp[-1]) # 可以取到的最大值\n",
    "        if max_val == -float('inf'):\n",
    "            return (0, 0)\n",
    "        \n",
    "        # 方案数\n",
    "        mod = pow(10, 9) + 7\n",
    "        ways = [[0] * n for _ in range(n)] # ways[i][j]: 到达 (i,j)位置有多少种方案\n",
    "        ways[-1][-1] = 1 # 从底部向上走\n",
    "        cur_val = max_val\n",
    "        for i in range(n-1, -1, -1):\n",
    "            for j in range(n-1, -1, -1):\n",
    "                if i == n-1 and j == n-1:\n",
    "                    continue\n",
    "                \n",
    "                if cur_val - \n",
    "                ways[i][j]\n",
    "        return ()"
   ]
  },
  {
   "cell_type": "code",
   "execution_count": 25,
   "metadata": {},
   "outputs": [
    {
     "name": "stdout",
     "output_type": "stream",
     "text": [
      "[[0, 0, 1], [0, -inf, 3], [1, 3, 4]]\n"
     ]
    },
    {
     "data": {
      "text/plain": [
       "()"
      ]
     },
     "execution_count": 25,
     "metadata": {},
     "output_type": "execute_result"
    }
   ],
   "source": [
    "solution = Solution()\n",
    "solution.pathsWithMaxScore(board = [\"E12\",\"1X1\",\"21S\"])"
   ]
  },
  {
   "cell_type": "code",
   "execution_count": null,
   "metadata": {},
   "outputs": [],
   "source": [
    "[[0, 0, 2], \n",
    " [0, -inf, 5], \n",
    " [2, 3, 7]]\n",
    "\n",
    "[[0, 0, 1], \n",
    " [0, -inf, 3], \n",
    " [1, 3, 4]]\n"
   ]
  }
 ],
 "metadata": {
  "kernelspec": {
   "display_name": "Python 3",
   "language": "python",
   "name": "python3"
  },
  "language_info": {
   "codemirror_mode": {
    "name": "ipython",
    "version": 3
   },
   "file_extension": ".py",
   "mimetype": "text/x-python",
   "name": "python",
   "nbconvert_exporter": "python",
   "pygments_lexer": "ipython3",
   "version": "3.6.2"
  }
 },
 "nbformat": 4,
 "nbformat_minor": 4
}
