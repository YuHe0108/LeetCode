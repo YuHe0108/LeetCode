{
 "cells": [
  {
   "cell_type": "code",
   "execution_count": null,
   "metadata": {},
   "outputs": [],
   "source": []
  },
  {
   "cell_type": "code",
   "execution_count": null,
   "metadata": {},
   "outputs": [],
   "source": []
  },
  {
   "cell_type": "code",
   "execution_count": null,
   "metadata": {},
   "outputs": [],
   "source": []
  },
  {
   "cell_type": "code",
   "execution_count": 24,
   "metadata": {},
   "outputs": [],
   "source": [
    "from typing import List\n",
    "\n",
    "class Solution:\n",
    "    def pathsWithMaxScore(self, board: List[str]) -> List[int]:\n",
    "        # 最大得分\n",
    "        n = len(board)\n",
    "        dp = [[-float('inf')] * n for _ in range(n)] # 每个点的最大得分\n",
    "        dp[0][0] = 0\n",
    "        for i in range(n):\n",
    "            for j in range(n):\n",
    "                if i == 0 and j == 0:\n",
    "                    continue\n",
    "                if board[i][j] == 'X':\n",
    "                    continue\n",
    "                for di, dj in (1, 0), (0, 1), (-1, 0), (0, -1):\n",
    "                    ni, nj = i + di, j + dj\n",
    "                    if ni < 0 or nj < 0 or ni >= n or nj >= n or board[ni][nj] == 'X':\n",
    "                        continue\n",
    "                    \n",
    "                    if board[ni][nj] == 'S' or board[ni][nj] == 'E':\n",
    "                        val = 0\n",
    "                    else:\n",
    "                        val = int(board[ni][nj])\n",
    "                    dp[i][j] = max(dp[i][j], dp[ni][nj] + val)\n",
    "        \n",
    "        max_val = max(dp[-1]) # 可以取到的最大值\n",
    "        if max_val == -float('inf'):\n",
    "            return (0, 0)\n",
    "        \n",
    "        # 方案数\n",
    "        mod = pow(10, 9) + 7\n",
    "        ways = [[0] * n for _ in range(n)] # ways[i][j]: 到达 (i,j)位置有多少种方案\n",
    "        ways[-1][-1] = 1 # 从底部向上走\n",
    "        cur_val = max_val\n",
    "        for i in range(n-1, -1, -1):\n",
    "            for j in range(n-1, -1, -1):\n",
    "                if i == n-1 and j == n-1:\n",
    "                    continue\n",
    "                \n",
    "                if cur_val - \n",
    "                ways[i][j]\n",
    "        return ()"
   ]
  },
  {
   "cell_type": "code",
   "execution_count": null,
   "metadata": {},
   "outputs": [],
   "source": []
  },
  {
   "cell_type": "code",
   "execution_count": null,
   "metadata": {},
   "outputs": [],
   "source": []
  },
  {
   "cell_type": "code",
   "execution_count": null,
   "metadata": {},
   "outputs": [],
   "source": []
  },
  {
   "cell_type": "code",
   "execution_count": 19,
   "metadata": {},
   "outputs": [],
   "source": [
    "from typing import List\n",
    "\n",
    "class Solution:\n",
    "    def pathsWithMaxScore(self, board: List[str]) -> List[int]:\n",
    "        \n",
    "        # 1. 计算到点 'E' 最大的值是多少\n",
    "        rows, cols = len(board), len(board[0])\n",
    "        dp = [[-float('inf')] * cols for _ in range(rows)] # float('inf') 表示不可能经过的点\n",
    "        dp[-1][-1] = 0\n",
    "        for i in range(rows-1, -1, -1):\n",
    "            for j in range(cols-1, -1, -1):\n",
    "                if i == rows-1 and j == cols-1:\n",
    "                    continue\n",
    "                if board[i][j] == 'X': # 是障碍物，不能经过\n",
    "                    continue\n",
    "                # down, right, r_d, 可以到达当前位置的可能性\n",
    "                val = int(board[i][j]) if board[i][j] != 'E' else 0\n",
    "                if i < rows-1 and j < cols-1:\n",
    "                    dp[i][j] = max(dp[i+1][j], dp[i][j+1], dp[i+1][j+1]) + val\n",
    "                elif i < rows-1:\n",
    "                    dp[i][j] = dp[i+1][j] + val\n",
    "                elif j < cols-1:\n",
    "                    dp[i][j] = dp[i][j+1] + val\n",
    "                else:\n",
    "                \n",
    "        mod = pow(10, 9) + 7\n",
    "        if dp[0][0] == -float('inf'): # 不能到终点\n",
    "            return [0, 0]\n",
    "        else:\n",
    "            return dp"
   ]
  },
  {
   "cell_type": "code",
   "execution_count": null,
   "metadata": {},
   "outputs": [],
   "source": []
  },
  {
   "cell_type": "code",
   "execution_count": null,
   "metadata": {},
   "outputs": [],
   "source": []
  },
  {
   "cell_type": "code",
   "execution_count": 27,
   "metadata": {},
   "outputs": [],
   "source": [
    "from typing import List\n",
    "\n",
    "class Solution:\n",
    "    def pathsWithMaxScore(self, board: List[str]) -> List[int]:\n",
    "        \n",
    "        # 1. 计算到点 'E' 最大的值是多少\n",
    "        rows, cols = len(board), len(board[0])\n",
    "        # 第一位：float('inf') 表示不可能经过的点, 第二位表示有多少种方法走到当前位置\n",
    "        dp = [[[-float('inf'), 0] for _ in range(cols)] for _ in range(rows)] \n",
    "        dp[-1][-1][0] = 0\n",
    "        dp[-1][-1][1] = 1 # 到最后一个 位置的方法只有 1 种\n",
    "        mod = pow(10, 9) + 7\n",
    "        for i in range(rows-1, -1, -1):\n",
    "            for j in range(cols-1, -1, -1):\n",
    "                if i == rows-1 and j == cols-1:\n",
    "                    continue\n",
    "                if board[i][j] == 'X': # 是障碍物，不能经过\n",
    "                    continue\n",
    "                    \n",
    "                val = int(board[i][j]) if board[i][j] != 'E' else 0\n",
    "                if i < rows-1 and j < cols-1:\n",
    "                    for (ni, nj) in (i+1, j), (i, j+1), (i+1, j+1):\n",
    "                        if dp[ni][nj][0] + val > dp[i][j][0]:\n",
    "                            dp[i][j][0] = dp[ni][nj][0] + val\n",
    "                            dp[i][j][1] = dp[ni][nj][1]\n",
    "                        elif dp[ni][nj][0] + val == dp[i][j][0]:\n",
    "                            dp[i][j][1] += dp[ni][nj][1] \n",
    "                elif i < rows-1:\n",
    "                    dp[i][j][0] = dp[i+1][j][0] + val\n",
    "                    dp[i][j][1] = dp[i+1][j][1]\n",
    "                elif j < cols-1:\n",
    "                    dp[i][j][0] = dp[i][j+1][0] + val\n",
    "                    dp[i][j][1] = dp[i][j+1][1]\n",
    "                dp[i][j][1] %= mod \n",
    "        \n",
    "        if dp[0][0][0] == -float('inf'): # 不能到终点\n",
    "            return [0, 0]\n",
    "        else:\n",
    "            return dp[0][0]"
   ]
  },
  {
   "cell_type": "code",
   "execution_count": null,
   "metadata": {},
   "outputs": [],
   "source": []
  },
  {
   "cell_type": "code",
   "execution_count": null,
   "metadata": {},
   "outputs": [],
   "source": []
  },
  {
   "cell_type": "code",
   "execution_count": 28,
   "metadata": {},
   "outputs": [
    {
     "data": {
      "text/plain": [
       "[0, 0]"
      ]
     },
     "execution_count": 28,
     "metadata": {},
     "output_type": "execute_result"
    }
   ],
   "source": [
    "solution = Solution()\n",
    "solution.pathsWithMaxScore(board = [\"E11\",\"XXX\",\"11S\"])"
   ]
  },
  {
   "cell_type": "code",
   "execution_count": null,
   "metadata": {},
   "outputs": [],
   "source": [
    " dp[-1][-1] = 0\n",
    "        for i in range(rows-1, -1, -1):\n",
    "            for j in range(cols-1, -1, -1):\n",
    "                if i == rows-1 and j == cols-1:\n",
    "                    continue\n",
    "                if board[i][j] == 'X': # 是障碍物，不能经过\n",
    "                    continue\n",
    "                # down, right, r_d, 可以到达当前位置的可能性\n",
    "                val = int(board[i][j]) if board[i][j] != 'E' else 0\n",
    "                if i < rows-1 and j < cols-1:\n",
    "                    dp[i][j] = max(dp[i+1][j], dp[i][j+1], dp[i+1][j+1]) + val\n",
    "                elif i < rows-1:\n",
    "                    dp[i][j] = dp[i+1][j] + val\n",
    "                elif j < cols-1:\n",
    "                    dp[i][j] = dp[i][j+1] + val\n",
    "                else:\n",
    "                \n",
    "        mod = pow(10, 9) + 7\n",
    "        if dp[0][0] == -float('inf'): # 不能到终点\n",
    "            return [0, 0]\n",
    "        else:\n",
    "            return dp"
   ]
  },
  {
   "cell_type": "code",
   "execution_count": null,
   "metadata": {},
   "outputs": [],
   "source": []
  },
  {
   "cell_type": "code",
   "execution_count": null,
   "metadata": {},
   "outputs": [],
   "source": []
  },
  {
   "cell_type": "code",
   "execution_count": null,
   "metadata": {},
   "outputs": [],
   "source": []
  },
  {
   "cell_type": "code",
   "execution_count": null,
   "metadata": {},
   "outputs": [],
   "source": []
  },
  {
   "cell_type": "code",
   "execution_count": null,
   "metadata": {},
   "outputs": [],
   "source": []
  },
  {
   "cell_type": "code",
   "execution_count": null,
   "metadata": {},
   "outputs": [],
   "source": []
  }
 ],
 "metadata": {
  "kernelspec": {
   "display_name": "Python 3",
   "language": "python",
   "name": "python3"
  },
  "language_info": {
   "codemirror_mode": {
    "name": "ipython",
    "version": 3
   },
   "file_extension": ".py",
   "mimetype": "text/x-python",
   "name": "python",
   "nbconvert_exporter": "python",
   "pygments_lexer": "ipython3",
   "version": "3.6.2"
  }
 },
 "nbformat": 4,
 "nbformat_minor": 4
}
