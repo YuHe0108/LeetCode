{
 "cells": [
  {
   "cell_type": "code",
   "execution_count": null,
   "metadata": {},
   "outputs": [],
   "source": []
  },
  {
   "cell_type": "code",
   "execution_count": null,
   "metadata": {},
   "outputs": [],
   "source": []
  },
  {
   "cell_type": "code",
   "execution_count": null,
   "metadata": {},
   "outputs": [],
   "source": []
  },
  {
   "cell_type": "code",
   "execution_count": null,
   "metadata": {},
   "outputs": [],
   "source": []
  },
  {
   "cell_type": "code",
   "execution_count": 16,
   "metadata": {},
   "outputs": [],
   "source": [
    "from typing import List\n",
    "\n",
    "class Solution:\n",
    "    def calculateMinimumHP(self, dungeon: List[List[int]]) -> int:\n",
    "        rows, cols = len(dungeon), len(dungeon[0])\n",
    "        dp = [[1] * cols for _ in range(rows)]\n",
    "        \n",
    "        for i in range(rows-1, -1, -1):\n",
    "            for j in range(cols-1, -1, -1):\n",
    "                if i == rows-1 and j == cols-1:\n",
    "                    dp[-1][-1] = 1\n",
    "                elif i == rows-1: # 只可以往右走\n",
    "                    dp[i][j] =  dp[i][j+1] - dungeon[i][j+1]\n",
    "                elif j == cols-1: # 只可以往下走\n",
    "                    dp[i][j] = dp[i+1][j] - dungeon[i+1][j]\n",
    "                else:\n",
    "                    dp[i][j] = min(dp[i][j+1] - dungeon[i][j+1], dp[i+1][j] - dungeon[i+1][j])\n",
    "                dp[i][j] = max(dp[i][j], 1)\n",
    "                \n",
    "        dp[0][0] = max(dp[0][0] - dungeon[0][0], 1)\n",
    "        return dp[0][0]"
   ]
  },
  {
   "cell_type": "code",
   "execution_count": 17,
   "metadata": {},
   "outputs": [
    {
     "data": {
      "text/plain": [
       "7"
      ]
     },
     "execution_count": 17,
     "metadata": {},
     "output_type": "execute_result"
    }
   ],
   "source": [
    "solution = Solution()\n",
    "solution.calculateMinimumHP([[-2, -3, 3],\n",
    "                             [-5, -10, 1],\n",
    "                             [10,  30, -5]])"
   ]
  },
  {
   "cell_type": "code",
   "execution_count": null,
   "metadata": {},
   "outputs": [],
   "source": []
  }
 ],
 "metadata": {
  "kernelspec": {
   "display_name": "Python 3",
   "language": "python",
   "name": "python3"
  },
  "language_info": {
   "codemirror_mode": {
    "name": "ipython",
    "version": 3
   },
   "file_extension": ".py",
   "mimetype": "text/x-python",
   "name": "python",
   "nbconvert_exporter": "python",
   "pygments_lexer": "ipython3",
   "version": "3.6.2"
  }
 },
 "nbformat": 4,
 "nbformat_minor": 4
}
