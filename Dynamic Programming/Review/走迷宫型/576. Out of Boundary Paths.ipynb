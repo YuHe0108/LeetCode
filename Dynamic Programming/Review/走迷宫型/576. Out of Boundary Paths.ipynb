{
 "cells": [
  {
   "cell_type": "code",
   "execution_count": null,
   "metadata": {},
   "outputs": [],
   "source": []
  },
  {
   "cell_type": "code",
   "execution_count": null,
   "metadata": {},
   "outputs": [],
   "source": []
  },
  {
   "cell_type": "code",
   "execution_count": null,
   "metadata": {},
   "outputs": [],
   "source": []
  },
  {
   "cell_type": "code",
   "execution_count": null,
   "metadata": {},
   "outputs": [],
   "source": []
  },
  {
   "cell_type": "code",
   "execution_count": 24,
   "metadata": {},
   "outputs": [],
   "source": [
    "class Solution:\n",
    "    def findPaths(self, m: int, n: int, N: int, i: int, j: int) -> int:\n",
    "        # 初始位置在 (i, j)，矩阵的长度为m，宽度为 n\n",
    "        # 思路，一共循环 N 次，在每次循环的时候，计算走到每个点的可能性，如果从界外走，那么贡献度为 1\n",
    "        # 否则贡献度为 上一轮 dp 值\n",
    "        dp = [[0] * n for _ in range(m)]\n",
    "        mod = pow(10, 9) + 7\n",
    "        for _ in range(N):\n",
    "            temp = [[0] * n for _ in range(m)]\n",
    "            for x in range(m):\n",
    "                for y in range(n):\n",
    "                    for dx, dy in (1, 0), (0, 1), (-1, 0), (0, -1): # 从四个方向走\n",
    "                        nx, ny = x + dx, y + dy\n",
    "                        if nx < 0 or ny < 0 or nx >= m or ny >= n: # 出界的情况\n",
    "                            temp[x][y] += 1\n",
    "                        else:\n",
    "                            # 如果没有出界，当前的值 = 上一轮dp[nx][ny]的值\n",
    "                            temp[x][y] += dp[nx][ny]  % mod\n",
    "            dp = temp\n",
    "        return dp[i][j] % mod"
   ]
  },
  {
   "cell_type": "code",
   "execution_count": 25,
   "metadata": {},
   "outputs": [
    {
     "data": {
      "text/plain": [
       "12"
      ]
     },
     "execution_count": 25,
     "metadata": {},
     "output_type": "execute_result"
    }
   ],
   "source": [
    "solution = Solution()\n",
    "solution.findPaths(m = 1, n = 3, N = 3, i = 0, j = 1)"
   ]
  },
  {
   "cell_type": "code",
   "execution_count": null,
   "metadata": {},
   "outputs": [],
   "source": []
  }
 ],
 "metadata": {
  "kernelspec": {
   "display_name": "Python 3",
   "language": "python",
   "name": "python3"
  },
  "language_info": {
   "codemirror_mode": {
    "name": "ipython",
    "version": 3
   },
   "file_extension": ".py",
   "mimetype": "text/x-python",
   "name": "python",
   "nbconvert_exporter": "python",
   "pygments_lexer": "ipython3",
   "version": "3.6.2"
  }
 },
 "nbformat": 4,
 "nbformat_minor": 4
}
