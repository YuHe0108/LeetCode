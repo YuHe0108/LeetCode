{
 "cells": [
  {
   "cell_type": "raw",
   "metadata": {},
   "source": []
  },
  {
   "cell_type": "code",
   "execution_count": null,
   "metadata": {},
   "outputs": [],
   "source": []
  },
  {
   "cell_type": "code",
   "execution_count": null,
   "metadata": {},
   "outputs": [],
   "source": []
  },
  {
   "cell_type": "code",
   "execution_count": null,
   "metadata": {},
   "outputs": [],
   "source": []
  },
  {
   "cell_type": "code",
   "execution_count": null,
   "metadata": {},
   "outputs": [],
   "source": []
  },
  {
   "cell_type": "code",
   "execution_count": null,
   "metadata": {},
   "outputs": [],
   "source": []
  },
  {
   "cell_type": "raw",
   "metadata": {},
   "source": [
    "2021年4月24日"
   ]
  },
  {
   "cell_type": "code",
   "execution_count": 34,
   "metadata": {},
   "outputs": [],
   "source": [
    "from typing import List\n",
    "\n",
    "class Solution:\n",
    "    def minDistance(self, houses: List[int], k: int) -> int:\n",
    "        \n",
    "        def calc_dis(nums):\n",
    "            mid = nums[len(nums) // 2]\n",
    "            d = 0\n",
    "            for v in nums:\n",
    "                d += abs(v - mid)\n",
    "            return d\n",
    "        \n",
    "        n = len(houses)\n",
    "        houses.sort()\n",
    "        houses = [0] + houses\n",
    "        # houses[i] : houses[j] 之间，直插入一个邮箱的话，各个房子到这个邮箱的最短距离是多少\n",
    "        distance = [[float('inf')] * (n+1) for _ in range(n+1)] \n",
    "        distance[0][0] = 0\n",
    "        for i in range(1, n+1):\n",
    "            for j in range(i, n+1):\n",
    "                distance[i][j] = calc_dis(houses[i:j+1])\n",
    "        \n",
    "        # dp 计算\n",
    "        # dp[i][j] = dp[i-1][j-1] + dp[i][1]\n",
    "        dp = [[float('inf')] * (k+1) for _ in range(n+1)]\n",
    "        dp[0][0] = 0\n",
    "        for i in range(1, n+1):\n",
    "            dp[i][1] = distance[1][i] # 前 i 个房子只有一个邮箱\n",
    "        \n",
    "        for i in range(1, n+1):\n",
    "            for j in range(2, k+1): # 起码分两个\n",
    "                for g in range(1, i+1):\n",
    "                    dp[i][j] = min(dp[i][j], dp[g-1][j-1] + distance[g][i])\n",
    "        return dp[-1][-1] # 前 n 个房子，分配了 k 个邮箱"
   ]
  },
  {
   "cell_type": "code",
   "execution_count": 36,
   "metadata": {},
   "outputs": [
    {
     "data": {
      "text/plain": [
       "9"
      ]
     },
     "execution_count": 36,
     "metadata": {},
     "output_type": "execute_result"
    }
   ],
   "source": [
    "solution = Solution()\n",
    "solution.minDistance(houses = [2,3,5,12,18], k = 2)"
   ]
  },
  {
   "cell_type": "code",
   "execution_count": null,
   "metadata": {},
   "outputs": [],
   "source": [
    "[[0, inf, inf, inf], \n",
    " [inf, 0, inf, inf], \n",
    " [inf, 3, inf, inf], \n",
    " [inf, 7, inf, inf],\n",
    " [inf, 13, inf, inf],\n",
    " [inf, 25, inf, inf]]"
   ]
  },
  {
   "cell_type": "code",
   "execution_count": null,
   "metadata": {},
   "outputs": [],
   "source": [
    "[[0, inf, inf, inf, inf, inf], \n",
    " [inf, 0, 3, 7, 13, 25], \n",
    " [inf, inf, 0, 4, 6, 18], \n",
    " [inf, inf, inf, 0, 2, 12], \n",
    " [inf, inf, inf, inf, 0, 10], \n",
    " [inf, inf, inf, inf, inf, 0]]"
   ]
  },
  {
   "cell_type": "code",
   "execution_count": null,
   "metadata": {},
   "outputs": [],
   "source": []
  },
  {
   "cell_type": "code",
   "execution_count": null,
   "metadata": {},
   "outputs": [],
   "source": []
  },
  {
   "cell_type": "code",
   "execution_count": null,
   "metadata": {},
   "outputs": [],
   "source": []
  },
  {
   "cell_type": "code",
   "execution_count": null,
   "metadata": {},
   "outputs": [],
   "source": []
  },
  {
   "cell_type": "code",
   "execution_count": null,
   "metadata": {},
   "outputs": [],
   "source": []
  },
  {
   "cell_type": "code",
   "execution_count": null,
   "metadata": {},
   "outputs": [],
   "source": []
  },
  {
   "cell_type": "code",
   "execution_count": null,
   "metadata": {},
   "outputs": [],
   "source": []
  },
  {
   "cell_type": "code",
   "execution_count": null,
   "metadata": {},
   "outputs": [],
   "source": []
  },
  {
   "cell_type": "code",
   "execution_count": null,
   "metadata": {},
   "outputs": [],
   "source": []
  },
  {
   "cell_type": "code",
   "execution_count": null,
   "metadata": {},
   "outputs": [],
   "source": []
  },
  {
   "cell_type": "code",
   "execution_count": null,
   "metadata": {},
   "outputs": [],
   "source": []
  },
  {
   "cell_type": "code",
   "execution_count": null,
   "metadata": {},
   "outputs": [],
   "source": []
  },
  {
   "cell_type": "code",
   "execution_count": null,
   "metadata": {},
   "outputs": [],
   "source": []
  },
  {
   "cell_type": "code",
   "execution_count": null,
   "metadata": {},
   "outputs": [],
   "source": [
    "class Solution:\n",
    "    def minDistance(self, houses, K: int) -> int:\n",
    "        n = len(houses) \n",
    "        houses.sort()\n",
    "        houses.insert(0, -float('inf'))\n",
    "        dis = [[0] * (n+1) for _ in range(n+1)]\n",
    "        for i in range(1, n+1):\n",
    "            for j in range(i, n+1):\n",
    "                for k in range(i, j+1):\n",
    "                    dis[i][j] += abs(houses[k] - houses[(i+j)//2])\n",
    "        \n",
    "        dp = [[float('inf')] * (K+1) for _ in range(n+1)]\n",
    "        for i in range(1, n+1):\n",
    "            dp[i][1] = dis[1][i]\n",
    "        \n",
    "        for i in range(1, n+1):\n",
    "            for k in range(1, K+1):\n",
    "                for j in range(k-1, i):\n",
    "                    dp[i][k] = min(dp[i][k], dp[j][k-1] + dis[j+1][i])\n",
    "        return dp[-1][-1]"
   ]
  },
  {
   "cell_type": "code",
   "execution_count": 35,
   "metadata": {},
   "outputs": [
    {
     "name": "stdout",
     "output_type": "stream",
     "text": [
      "[[inf, inf, inf, inf], [inf, 0, inf, inf], [inf, 3, inf, inf], [inf, 7, inf, inf], [inf, 13, inf, inf], [inf, 25, inf, inf]]\n"
     ]
    },
    {
     "data": {
      "text/plain": [
       "5"
      ]
     },
     "execution_count": 35,
     "metadata": {},
     "output_type": "execute_result"
    }
   ],
   "source": [
    "solution = Solution()\n",
    "solution.minDistance(houses = [1,4,8,10,20], K = 3)"
   ]
  },
  {
   "cell_type": "code",
   "execution_count": null,
   "metadata": {},
   "outputs": [],
   "source": []
  },
  {
   "cell_type": "code",
   "execution_count": null,
   "metadata": {},
   "outputs": [],
   "source": []
  },
  {
   "cell_type": "code",
   "execution_count": 32,
   "metadata": {},
   "outputs": [],
   "source": [
    "from typing import List\n",
    "\n",
    "class Solution:\n",
    "    def minDistance(self, houses: List[int], k: int) -> int:\n",
    "        def distance(pos, idx): # 在houses[:i]的房子中，把邮箱放在 pos这个位置\n",
    "            dis = 0\n",
    "            for i in range(1, idx+1):\n",
    "                dis += abs(houses[i] - pos)\n",
    "            return dis\n",
    "        \n",
    "        n = len(houses)\n",
    "        houses.insert(0, 0)\n",
    "        dp = [[float('inf')] * (k+1) for _ in range(n+1)]\n",
    "        dp[0][0] = 0\n",
    "        for i in range(1, n+1):\n",
    "            for j in range(1, min(k, i) + 1):\n",
    "                for l in range(j-1, i+1): # 把当前这个邮箱放在何处，可以使得各个房子到邮箱的距离最近\n",
    "                    dp[i][j] = min(dp[i][j], dp[l-1][j-1] + distance(l, i))\n",
    "        return dp[-1][-1]"
   ]
  },
  {
   "cell_type": "code",
   "execution_count": 33,
   "metadata": {},
   "outputs": [
    {
     "data": {
      "text/plain": [
       "35"
      ]
     },
     "execution_count": 33,
     "metadata": {},
     "output_type": "execute_result"
    }
   ],
   "source": [
    "solution = Solution()\n",
    "solution.minDistance(houses = [1,4,8,10,20], k = 3)"
   ]
  },
  {
   "cell_type": "code",
   "execution_count": null,
   "metadata": {},
   "outputs": [],
   "source": []
  },
  {
   "cell_type": "code",
   "execution_count": null,
   "metadata": {},
   "outputs": [],
   "source": []
  },
  {
   "cell_type": "code",
   "execution_count": null,
   "metadata": {},
   "outputs": [],
   "source": []
  },
  {
   "cell_type": "code",
   "execution_count": 38,
   "metadata": {},
   "outputs": [],
   "source": [
    "from typing import List\n",
    "from functools import lru_cache\n",
    "\n",
    "class Solution:\n",
    "    def minDistance(self, houses: List[int], k: int) -> int:\n",
    "        @lru_cache(None)\n",
    "        def dp(i, k):\n",
    "            # 邮箱和房子必须同时分配完成，才能返回0，只有这种情况才是合法的\n",
    "            if k == 0 and i == n:\n",
    "                return 0\n",
    "            if k== 0 or i == n:\n",
    "                return float('inf')\n",
    "            ans = float('inf')\n",
    "            for j in range(i, n):\n",
    "                ans = min(ans, dist[i][j] + dp(j+1, k-1))\n",
    "            return ans\n",
    "        \n",
    "        houses.sort()\n",
    "        n = len(houses)\n",
    "        dist = [[0] * n for _ in range(n)]\n",
    "        for i in range(n):\n",
    "            for j in range(i, n):\n",
    "                mid = (i + j) // 2\n",
    "                cur = 0\n",
    "                # 假设在 houses[i] 和 houses[j] 之间建立一个邮箱，那么所有的房子到该邮箱的距离是\n",
    "                for h in range(i, j+1):\n",
    "                    cur += abs(houses[h] - houses[mid])\n",
    "                dist[i][j] = cur\n",
    "                dist[j][i] = cur\n",
    "        print(dist)\n",
    "        return dp(0, k)"
   ]
  },
  {
   "cell_type": "code",
   "execution_count": 39,
   "metadata": {},
   "outputs": [
    {
     "name": "stdout",
     "output_type": "stream",
     "text": [
      "[[0, 3, 7, 13, 25], [3, 0, 4, 6, 18], [7, 4, 0, 2, 12], [13, 6, 2, 0, 10], [25, 18, 12, 10, 0]]\n"
     ]
    },
    {
     "data": {
      "text/plain": [
       "5"
      ]
     },
     "execution_count": 39,
     "metadata": {},
     "output_type": "execute_result"
    }
   ],
   "source": [
    "solution = Solution()\n",
    "solution.minDistance(houses = [1,4,8,10,20], k = 3)"
   ]
  },
  {
   "cell_type": "code",
   "execution_count": null,
   "metadata": {},
   "outputs": [],
   "source": [
    "[[0, 3, 7, 13, 25], \n",
    " [3, 0, 4, 6, 18], \n",
    " [7, 4, 0, 2, 12], \n",
    " [13, 6, 2, 0, 10], \n",
    " [25, 18, 12, 10, 0]]"
   ]
  },
  {
   "cell_type": "code",
   "execution_count": null,
   "metadata": {},
   "outputs": [],
   "source": []
  },
  {
   "cell_type": "code",
   "execution_count": null,
   "metadata": {},
   "outputs": [],
   "source": []
  },
  {
   "cell_type": "code",
   "execution_count": 27,
   "metadata": {},
   "outputs": [],
   "source": [
    "class Solution:\n",
    "    def minDistance(self, houses, k: int) -> int:\n",
    "        n = len(houses)\n",
    "        houses.sort()\n",
    "        # dp[i][j]: houses[i] - houses[j] 之间只有一个mailbox的时候，最短的距离是多少\n",
    "        dist = [[0] * n for _ in range(n)]\n",
    "        for i in range(n):\n",
    "            for j in range(i, n):\n",
    "                mid = (i + j) // 2\n",
    "                for h in range(i, j+1):\n",
    "                    dist[i][j] += abs(houses[h] - houses[mid])\n",
    "                    dist[j][i] += dist[i][j]\n",
    "        \n",
    "        dp = [[float('inf')] * k for _ in range(n)]\n",
    "        for i in range(n):\n",
    "            # 0-i-th房子只有一个邮箱的时候，dist是多少\n",
    "            dp[i][0] = dist[0][i]\n",
    "        \n",
    "        for kk in range(1, k):\n",
    "            for i in range(n):\n",
    "                for j in range(i):\n",
    "                    # 从大区间 到小区间的划分\n",
    "                    # 0_______j_j+1____i: [j+1, i] 这个区间内有 1 个mailbox，0~j这个区间内有 kk-1个mailbox\n",
    "                    dp[i][kk] = min(dp[j][kk-1] + dist[j+1][i], dp[i][kk])\n",
    "        return dp[-1][-1]"
   ]
  },
  {
   "cell_type": "code",
   "execution_count": 26,
   "metadata": {},
   "outputs": [
    {
     "data": {
      "text/plain": [
       "3"
      ]
     },
     "execution_count": 26,
     "metadata": {},
     "output_type": "execute_result"
    }
   ],
   "source": [
    "solution = Solution()\n",
    "solution.minDistance(houses = [1,4,8,10,20], k = 3)"
   ]
  },
  {
   "cell_type": "code",
   "execution_count": null,
   "metadata": {},
   "outputs": [],
   "source": []
  },
  {
   "cell_type": "code",
   "execution_count": null,
   "metadata": {},
   "outputs": [],
   "source": []
  },
  {
   "cell_type": "code",
   "execution_count": null,
   "metadata": {},
   "outputs": [],
   "source": []
  }
 ],
 "metadata": {
  "kernelspec": {
   "display_name": "Python 3",
   "language": "python",
   "name": "python3"
  },
  "language_info": {
   "codemirror_mode": {
    "name": "ipython",
    "version": 3
   },
   "file_extension": ".py",
   "mimetype": "text/x-python",
   "name": "python",
   "nbconvert_exporter": "python",
   "pygments_lexer": "ipython3",
   "version": "3.6.2"
  }
 },
 "nbformat": 4,
 "nbformat_minor": 4
}
