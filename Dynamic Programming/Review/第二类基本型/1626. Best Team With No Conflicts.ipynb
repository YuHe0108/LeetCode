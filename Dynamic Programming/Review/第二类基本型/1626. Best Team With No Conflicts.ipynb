{
 "cells": [
  {
   "cell_type": "code",
   "execution_count": null,
   "metadata": {},
   "outputs": [],
   "source": []
  },
  {
   "cell_type": "code",
   "execution_count": null,
   "metadata": {},
   "outputs": [],
   "source": [
    "cond_1 = ages[j] < ages[i] and scores[j] > scores[i]\n",
    "cond_2 = ages[j] > ages[i] and scores[j] < scores[i]"
   ]
  },
  {
   "cell_type": "code",
   "execution_count": 48,
   "metadata": {},
   "outputs": [],
   "source": [
    "from typing import List\n",
    "\n",
    "class Solution:\n",
    "    def bestTeamScore(self, scores: List[int], ages: List[int]) -> int:\n",
    "        n = len(scores)\n",
    "        dp = [0] + scores[::] # dp[i] 表示选择 i 个人的时候，能够获得的最高分数\n",
    "        scores.insert(0, 0)\n",
    "        ages.insert(0, 0)\n",
    "        for i in range(1, n+1):\n",
    "            min_age = ages[i] # 分值\n",
    "            min_age_score = scores[i] # 最小年龄对应的分值\n",
    "            for j in range(i-1, 0, -1):\n",
    "                if ages[j] == min_age:\n",
    "                    pass\n",
    "                elif ages[j] > min_age:\n",
    "                    pass\n",
    "                else:\n",
    "                    pass\n",
    "                dp[i] = max(dp[i], dp[j-1] + scores[i] + scores[j])\n",
    "        return max(dp)"
   ]
  },
  {
   "cell_type": "code",
   "execution_count": 50,
   "metadata": {},
   "outputs": [
    {
     "name": "stdout",
     "output_type": "stream",
     "text": [
      "[0, 2, 8, 19]\n"
     ]
    },
    {
     "data": {
      "text/plain": [
       "19"
      ]
     },
     "execution_count": 50,
     "metadata": {},
     "output_type": "execute_result"
    }
   ],
   "source": [
    "solution = Solution()\n",
    "solution.bestTeamScore([2,8,9], [5,2,5])"
   ]
  },
  {
   "cell_type": "code",
   "execution_count": null,
   "metadata": {},
   "outputs": [],
   "source": []
  }
 ],
 "metadata": {
  "kernelspec": {
   "display_name": "Python 3",
   "language": "python",
   "name": "python3"
  },
  "language_info": {
   "codemirror_mode": {
    "name": "ipython",
    "version": 3
   },
   "file_extension": ".py",
   "mimetype": "text/x-python",
   "name": "python",
   "nbconvert_exporter": "python",
   "pygments_lexer": "ipython3",
   "version": "3.6.2"
  }
 },
 "nbformat": 4,
 "nbformat_minor": 4
}
