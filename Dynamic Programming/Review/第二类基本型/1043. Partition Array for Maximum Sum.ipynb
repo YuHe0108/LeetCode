{
 "cells": [
  {
   "cell_type": "code",
   "execution_count": null,
   "metadata": {},
   "outputs": [],
   "source": []
  },
  {
   "cell_type": "code",
   "execution_count": null,
   "metadata": {},
   "outputs": [],
   "source": [
    "class Solution:\n",
    "    def maxSumAfterPartitioning(self, arr, k: int) -> int:\n",
    "        N = len(arr)\n",
    "        dp = [0] * (N + 1)\n",
    "        for i in range(1, N+1):\n",
    "            max_val = -float('inf')\n",
    "            for j in range(i, max(i-k, 0), -1):\n",
    "                max_val = max(max_val, arr[j-1])\n",
    "                dp[i] = max(dp[i], dp[j-1] + max_val * (i - j + 1))\n",
    "        return dp[-1]"
   ]
  },
  {
   "cell_type": "code",
   "execution_count": null,
   "metadata": {},
   "outputs": [],
   "source": []
  },
  {
   "cell_type": "code",
   "execution_count": 92,
   "metadata": {},
   "outputs": [],
   "source": [
    "class Solution:\n",
    "    def maxSumAfterPartitioning(self, arr, k: int) -> int:\n",
    "        n = len(arr)\n",
    "        dp = arr[::] # 假设最大值都是自己\n",
    "        for i in range(n):\n",
    "            for j in range(max(0, i-k+1), i + 1):\n",
    "                gap = i - j + 1\n",
    "                if j - 1 >= 0:\n",
    "                    pre = dp[j-1]\n",
    "                else:\n",
    "                    pre = 0\n",
    "                max_val = max(arr[j: i+1])\n",
    "                dp[i] = max(dp[i], pre + max_val * gap)\n",
    "        return dp"
   ]
  },
  {
   "cell_type": "code",
   "execution_count": null,
   "metadata": {},
   "outputs": [],
   "source": []
  },
  {
   "cell_type": "code",
   "execution_count": 140,
   "metadata": {},
   "outputs": [],
   "source": [
    "class Solution:\n",
    "    def maxSumAfterPartitioning(self, arr, k: int) -> int:\n",
    "        n = len(arr)\n",
    "        dp = arr[::]\n",
    "        for i in range(n):\n",
    "            max_val = arr[i]\n",
    "            for j in range(k): # 因为arr[i] 也算一位，所以这里 最长的长度为 k-1 \n",
    "                s = i - j # 起点\n",
    "                if s < 0:\n",
    "                    break\n",
    "                max_val = max(max_val, arr[s])\n",
    "                pre = dp[s-1] if s-1 >= 0 else 0\n",
    "                dp[i] = max(dp[i], pre + max_val * (j + 1))\n",
    "        return dp[-1]"
   ]
  },
  {
   "cell_type": "code",
   "execution_count": 141,
   "metadata": {},
   "outputs": [
    {
     "data": {
      "text/plain": [
       "84"
      ]
     },
     "execution_count": 141,
     "metadata": {},
     "output_type": "execute_result"
    }
   ],
   "source": [
    "solution = Solution()\n",
    "solution.maxSumAfterPartitioning(arr = [1,15,7,9,2,5,10], k = 3)"
   ]
  },
  {
   "cell_type": "code",
   "execution_count": null,
   "metadata": {},
   "outputs": [],
   "source": []
  }
 ],
 "metadata": {
  "kernelspec": {
   "display_name": "Python 3",
   "language": "python",
   "name": "python3"
  },
  "language_info": {
   "codemirror_mode": {
    "name": "ipython",
    "version": 3
   },
   "file_extension": ".py",
   "mimetype": "text/x-python",
   "name": "python",
   "nbconvert_exporter": "python",
   "pygments_lexer": "ipython3",
   "version": "3.6.2"
  }
 },
 "nbformat": 4,
 "nbformat_minor": 4
}
