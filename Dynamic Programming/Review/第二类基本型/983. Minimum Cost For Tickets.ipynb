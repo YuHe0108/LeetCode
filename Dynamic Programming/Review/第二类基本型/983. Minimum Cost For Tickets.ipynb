{
 "cells": [
  {
   "cell_type": "code",
   "execution_count": null,
   "metadata": {},
   "outputs": [],
   "source": []
  },
  {
   "cell_type": "code",
   "execution_count": null,
   "metadata": {},
   "outputs": [],
   "source": []
  },
  {
   "cell_type": "code",
   "execution_count": 7,
   "metadata": {},
   "outputs": [],
   "source": [
    "class Solution:\n",
    "    def mincostTickets(self, days, costs):\n",
    "        n = max(days)\n",
    "        set_days = set(days)\n",
    "        dp = [float('inf')] * (1 + n)\n",
    "        dp[0] = 0\n",
    "        for i in range(1, max(days) + 1):\n",
    "            if i not in set_days:\n",
    "                dp[i] = dp[i-1]\n",
    "            else:\n",
    "                days_ago_1 = dp[i-1] if i-1 >= 0 else 0\n",
    "                days_ago_7 = dp[i-7] if i-7 >= 0 else 0\n",
    "                days_ago_30 = dp[i-30] if i-30 >= 0 else 0\n",
    "                dp[i] = min(days_ago_1 + costs[0], days_ago_7 + costs[1], days_ago_30 + costs[2])\n",
    "        return dp[-1]"
   ]
  },
  {
   "cell_type": "code",
   "execution_count": 8,
   "metadata": {},
   "outputs": [
    {
     "data": {
      "text/plain": [
       "[0, 2, 2, 2, 4, 4, 6, 7, 9, 9, 9, 9, 9, 9, 9, 9, 9, 9, 9, 9, 11]"
      ]
     },
     "execution_count": 8,
     "metadata": {},
     "output_type": "execute_result"
    }
   ],
   "source": [
    "solution = Solution()\n",
    "solution.mincostTickets(days = [1,4,6,7,8,20], costs = [2,7,15])"
   ]
  },
  {
   "cell_type": "code",
   "execution_count": null,
   "metadata": {},
   "outputs": [],
   "source": []
  }
 ],
 "metadata": {
  "kernelspec": {
   "display_name": "Python 3",
   "language": "python",
   "name": "python3"
  },
  "language_info": {
   "codemirror_mode": {
    "name": "ipython",
    "version": 3
   },
   "file_extension": ".py",
   "mimetype": "text/x-python",
   "name": "python",
   "nbconvert_exporter": "python",
   "pygments_lexer": "ipython3",
   "version": "3.6.2"
  }
 },
 "nbformat": 4,
 "nbformat_minor": 4
}
