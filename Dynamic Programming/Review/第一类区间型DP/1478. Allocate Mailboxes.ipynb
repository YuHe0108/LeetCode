{
 "cells": [
  {
   "cell_type": "code",
   "execution_count": null,
   "metadata": {},
   "outputs": [],
   "source": [
    "class Solution:\n",
    "    def minDistance(self, houses, K: int) -> int:\n",
    "        n = len(houses) \n",
    "        houses.sort()\n",
    "        houses.insert(0, -float('inf'))\n",
    "        dis = [[0] * (n+1) for _ in range(n+1)]\n",
    "        for i in range(1, n+1):\n",
    "            for j in range(i, n+1):\n",
    "                for k in range(i, j+1):\n",
    "                    dis[i][j] += abs(houses[k] - houses[(i+j)//2])\n",
    "        \n",
    "        dp = [[float('inf')] * (K+1) for _ in range(n+1)]\n",
    "        for i in range(1, n+1):\n",
    "            dp[i][1] = dis[1][i]\n",
    "        \n",
    "        for i in range(1, n+1):\n",
    "            for k in range(1, K+1):\n",
    "                for j in range(k-1, i):\n",
    "                    dp[i][k] = min(dp[i][k], dp[j][k-1] + dis[j+1][i])\n",
    "        return dp[-1][-1]"
   ]
  },
  {
   "cell_type": "code",
   "execution_count": null,
   "metadata": {},
   "outputs": [],
   "source": []
  },
  {
   "cell_type": "code",
   "execution_count": 26,
   "metadata": {},
   "outputs": [],
   "source": [
    "from typing import List\n",
    "\n",
    "class Solution:\n",
    "    def minDistance(self, houses: List[int], k: int) -> int:\n",
    "        def distance(pos, idx): # 在houses[:i]的房子中，把邮箱放在 pos这个位置\n",
    "            dis = 0\n",
    "            for i in range(1, idx+1):\n",
    "                dis += abs(houses[i] - pos)\n",
    "            return dis\n",
    "        \n",
    "        n = len(houses)\n",
    "        houses.insert(0, 0)\n",
    "        dp = [[float('inf')] * (k+1) for _ in range(n+1)]\n",
    "        dp[0][0] = 0\n",
    "        for i in range(1, n+1):\n",
    "            for j in range(1, min(k, i) + 1):\n",
    "                for l in range(j-1, i+1): # 把当前这个邮箱放在何处，可以使得各个房子到邮箱的距离最近\n",
    "                    dp[i][j] = min(dp[i][j], dp[l-1][j-1] + distance(l, i))\n",
    "        return dp[-1][-1]"
   ]
  },
  {
   "cell_type": "code",
   "execution_count": 27,
   "metadata": {},
   "outputs": [
    {
     "data": {
      "text/plain": [
       "35"
      ]
     },
     "execution_count": 27,
     "metadata": {},
     "output_type": "execute_result"
    }
   ],
   "source": [
    "solution = Solution()\n",
    "solution.minDistance(houses = [1,4,8,10,20], k = 3)"
   ]
  },
  {
   "cell_type": "code",
   "execution_count": null,
   "metadata": {},
   "outputs": [],
   "source": []
  }
 ],
 "metadata": {
  "kernelspec": {
   "display_name": "Python 3",
   "language": "python",
   "name": "python3"
  },
  "language_info": {
   "codemirror_mode": {
    "name": "ipython",
    "version": 3
   },
   "file_extension": ".py",
   "mimetype": "text/x-python",
   "name": "python",
   "nbconvert_exporter": "python",
   "pygments_lexer": "ipython3",
   "version": "3.6.2"
  }
 },
 "nbformat": 4,
 "nbformat_minor": 4
}
