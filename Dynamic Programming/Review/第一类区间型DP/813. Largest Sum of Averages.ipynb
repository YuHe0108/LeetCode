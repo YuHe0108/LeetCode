{
 "cells": [
  {
   "cell_type": "code",
   "execution_count": null,
   "metadata": {},
   "outputs": [],
   "source": []
  },
  {
   "cell_type": "code",
   "execution_count": null,
   "metadata": {},
   "outputs": [],
   "source": []
  },
  {
   "cell_type": "code",
   "execution_count": null,
   "metadata": {},
   "outputs": [],
   "source": []
  },
  {
   "cell_type": "code",
   "execution_count": 60,
   "metadata": {},
   "outputs": [],
   "source": [
    "# 区间型 DP, 因为需要吧 A分成 K份\n",
    "\n",
    "from typing import List\n",
    "\n",
    "class Solution:\n",
    "    def largestSumOfAverages(self, A: List[int], K: int) -> float:\n",
    "        n = len(A)\n",
    "        # 使用前缀和的方式计算平均值\n",
    "        presum = [0]\n",
    "        for i in range(n):\n",
    "            presum.append(presum[-1] + A[i])\n",
    "            \n",
    "        A.insert(0, 0)\n",
    "        dp = [[-float('inf')] * (K + 1) for _ in range(1 + n)]\n",
    "        dp[0][0] = 0\n",
    "        for i in range(1, n + 1): # A[:i]\n",
    "            for k in range(1, min(K, i) + 1): # 将 i 个数分成多少分，最少 1 份，最多为 K 份\n",
    "                # 从 A[:i] 中找出一个分割点，分成 k 份\n",
    "                for j in range(k-1, i+1): # 至少前面要分成 k-1份\n",
    "                    mean_val = (presum[i] - presum[j-1]) / (i - j + 1)\n",
    "                    dp[i][k] = max(dp[i][k], dp[j-1][k-1] + mean_val)\n",
    "        return dp[-1][-1]"
   ]
  },
  {
   "cell_type": "code",
   "execution_count": 61,
   "metadata": {},
   "outputs": [
    {
     "name": "stdout",
     "output_type": "stream",
     "text": [
      "0 1\n",
      "1 1\n",
      "0 1\n",
      "1 1\n",
      "2 1\n",
      "1 2\n",
      "2 2\n",
      "0 1\n",
      "1 1\n",
      "2 1\n",
      "3 1\n",
      "1 2\n",
      "2 2\n",
      "3 2\n",
      "2 3\n",
      "3 3\n",
      "0 1\n",
      "1 1\n",
      "2 1\n",
      "3 1\n",
      "4 1\n",
      "1 2\n",
      "2 2\n",
      "3 2\n",
      "4 2\n",
      "2 3\n",
      "3 3\n",
      "4 3\n",
      "0 1\n",
      "1 1\n",
      "2 1\n",
      "3 1\n",
      "4 1\n",
      "5 1\n",
      "1 2\n",
      "2 2\n",
      "3 2\n",
      "4 2\n",
      "5 2\n",
      "2 3\n",
      "3 3\n",
      "4 3\n",
      "5 3\n"
     ]
    },
    {
     "data": {
      "text/plain": [
       "20.0"
      ]
     },
     "execution_count": 61,
     "metadata": {},
     "output_type": "execute_result"
    }
   ],
   "source": [
    "solution = Solution()\n",
    "solution.largestSumOfAverages(A = [9,1,2,3,9], K = 3)"
   ]
  },
  {
   "cell_type": "code",
   "execution_count": null,
   "metadata": {},
   "outputs": [],
   "source": []
  }
 ],
 "metadata": {
  "kernelspec": {
   "display_name": "Python 3",
   "language": "python",
   "name": "python3"
  },
  "language_info": {
   "codemirror_mode": {
    "name": "ipython",
    "version": 3
   },
   "file_extension": ".py",
   "mimetype": "text/x-python",
   "name": "python",
   "nbconvert_exporter": "python",
   "pygments_lexer": "ipython3",
   "version": "3.6.2"
  }
 },
 "nbformat": 4,
 "nbformat_minor": 4
}
