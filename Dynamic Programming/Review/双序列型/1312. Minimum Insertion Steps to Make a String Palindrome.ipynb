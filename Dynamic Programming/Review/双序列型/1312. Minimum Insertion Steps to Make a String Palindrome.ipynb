{
 "cells": [
  {
   "cell_type": "code",
   "execution_count": null,
   "metadata": {},
   "outputs": [],
   "source": []
  },
  {
   "cell_type": "code",
   "execution_count": null,
   "metadata": {},
   "outputs": [],
   "source": []
  },
  {
   "cell_type": "code",
   "execution_count": null,
   "metadata": {},
   "outputs": [],
   "source": []
  },
  {
   "cell_type": "markdown",
   "metadata": {},
   "source": [
    "### 第一种解法：双序列形式"
   ]
  },
  {
   "cell_type": "code",
   "execution_count": 21,
   "metadata": {},
   "outputs": [],
   "source": [
    "# 问题转换为求 s和r_s的 shortest common subsquence （SCS）\n",
    "\n",
    "class Solution:\n",
    "    def minInsertions(self, s: str) -> int:\n",
    "        n = len(s)\n",
    "        r_s = s[::-1]\n",
    "        s, r_s = '#'+s, '#'+r_s\n",
    "        dp = [[float('inf')] * (n+1) for _ in range(n+1)]\n",
    "        for i in range(n+1):\n",
    "            dp[i][0] = i\n",
    "            dp[0][i] = i\n",
    "        \n",
    "        for i in range(1, n+1):\n",
    "            for j in range(1, n+1):\n",
    "                if s[i] == r_s[j]:\n",
    "                    dp[i][j] = dp[i-1][j-1] + 1\n",
    "                else:\n",
    "                    dp[i][j] = min(dp[i-1][j], dp[i][j-1]) + 1\n",
    "        # dp[-1][-1]表示最短 SCS的长度，减去n表示insert的次数\n",
    "        return dp[-1][-1]-n"
   ]
  },
  {
   "cell_type": "code",
   "execution_count": 22,
   "metadata": {},
   "outputs": [
    {
     "data": {
      "text/plain": [
       "1"
      ]
     },
     "execution_count": 22,
     "metadata": {},
     "output_type": "execute_result"
    }
   ],
   "source": [
    "solution = Solution()\n",
    "solution.minInsertions(s = \"no\")"
   ]
  },
  {
   "cell_type": "code",
   "execution_count": null,
   "metadata": {},
   "outputs": [],
   "source": []
  },
  {
   "cell_type": "code",
   "execution_count": null,
   "metadata": {},
   "outputs": [],
   "source": []
  },
  {
   "cell_type": "markdown",
   "metadata": {},
   "source": [
    "### 第二种：区间型DP, 由小区间到大区间进行扩展"
   ]
  },
  {
   "cell_type": "code",
   "execution_count": 30,
   "metadata": {},
   "outputs": [],
   "source": [
    "class Solution:\n",
    "    def minInsertions(self, s: str) -> int:\n",
    "        n = len(s)\n",
    "        dp = [[float('inf')] * n for _ in range(n)]\n",
    "        for i in range(n):\n",
    "            dp[i][i] = 0\n",
    "        for i in range(n-2+1):\n",
    "            dp[i][i+1] = 0 if s[i] == s[i+1] else 1\n",
    "        \n",
    "        for gap in range(3, n+1):\n",
    "            for start in range(n-gap+1):\n",
    "                end = start+gap-1\n",
    "                if s[start] == s[end]:\n",
    "                    dp[start][end] = dp[start+1][end-1]\n",
    "                else:\n",
    "                    dp[start][end] = min(dp[start+1][end], dp[start][end-1]) + 1\n",
    "        return dp[0][-1]"
   ]
  },
  {
   "cell_type": "code",
   "execution_count": 31,
   "metadata": {},
   "outputs": [
    {
     "data": {
      "text/plain": [
       "5"
      ]
     },
     "execution_count": 31,
     "metadata": {},
     "output_type": "execute_result"
    }
   ],
   "source": [
    "solution = Solution()\n",
    "solution.minInsertions(s = \"leetcode\")"
   ]
  },
  {
   "cell_type": "code",
   "execution_count": null,
   "metadata": {},
   "outputs": [],
   "source": []
  }
 ],
 "metadata": {
  "kernelspec": {
   "display_name": "Python 3",
   "language": "python",
   "name": "python3"
  },
  "language_info": {
   "codemirror_mode": {
    "name": "ipython",
    "version": 3
   },
   "file_extension": ".py",
   "mimetype": "text/x-python",
   "name": "python",
   "nbconvert_exporter": "python",
   "pygments_lexer": "ipython3",
   "version": "3.6.2"
  }
 },
 "nbformat": 4,
 "nbformat_minor": 4
}
