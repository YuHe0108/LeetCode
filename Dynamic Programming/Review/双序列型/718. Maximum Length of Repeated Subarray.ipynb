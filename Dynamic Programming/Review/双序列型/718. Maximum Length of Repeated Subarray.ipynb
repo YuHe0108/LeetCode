{
 "cells": [
  {
   "cell_type": "code",
   "execution_count": null,
   "metadata": {},
   "outputs": [],
   "source": []
  },
  {
   "cell_type": "code",
   "execution_count": null,
   "metadata": {},
   "outputs": [],
   "source": [
    "dp[0][0] = 0\n",
    "        for i in range(1, na+1):\n",
    "            dp[i][0] = \n",
    "        for i in range(1, nb+1):\n",
    "            pass"
   ]
  },
  {
   "cell_type": "code",
   "execution_count": null,
   "metadata": {},
   "outputs": [],
   "source": []
  },
  {
   "cell_type": "code",
   "execution_count": 14,
   "metadata": {},
   "outputs": [],
   "source": [
    "from typing import List\n",
    "\n",
    "class Solution:\n",
    "    def findLength(self, A: List[int], B: List[int]) -> int:\n",
    "        na, nb = len(A), len(B)\n",
    "        A, B = [\"#\"] + A, ['#'] + B\n",
    "        dp = [[0] * (nb+1) for _ in range(na+1)]\n",
    "        \n",
    "        res = 0\n",
    "        for i in range(1, na+1):\n",
    "            for j in range(1, nb+1):\n",
    "                if A[i] == B[j]:\n",
    "                    dp[i][j] = dp[i-1][j-1]+1\n",
    "                    res = max(dp[i][j], res)\n",
    "                # 如果不想等，那么必然为 0，不需要计算\n",
    "        return res"
   ]
  },
  {
   "cell_type": "code",
   "execution_count": 15,
   "metadata": {},
   "outputs": [
    {
     "data": {
      "text/plain": [
       "2"
      ]
     },
     "execution_count": 15,
     "metadata": {},
     "output_type": "execute_result"
    }
   ],
   "source": [
    "solution = Solution()\n",
    "solution.findLength([0,1,1,1,1], [1,0,1,0,1])"
   ]
  },
  {
   "cell_type": "code",
   "execution_count": null,
   "metadata": {},
   "outputs": [],
   "source": []
  }
 ],
 "metadata": {
  "kernelspec": {
   "display_name": "Python 3",
   "language": "python",
   "name": "python3"
  },
  "language_info": {
   "codemirror_mode": {
    "name": "ipython",
    "version": 3
   },
   "file_extension": ".py",
   "mimetype": "text/x-python",
   "name": "python",
   "nbconvert_exporter": "python",
   "pygments_lexer": "ipython3",
   "version": "3.6.2"
  }
 },
 "nbformat": 4,
 "nbformat_minor": 4
}
