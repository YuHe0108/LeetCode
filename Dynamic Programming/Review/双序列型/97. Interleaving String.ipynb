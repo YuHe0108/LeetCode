{
 "cells": [
  {
   "cell_type": "code",
   "execution_count": null,
   "metadata": {},
   "outputs": [],
   "source": []
  },
  {
   "cell_type": "code",
   "execution_count": null,
   "metadata": {},
   "outputs": [],
   "source": [
    "s1 = \"aabcc\", s2 = \"dbbca\", \n",
    "s3 = \"aa dbb b ac cc\""
   ]
  },
  {
   "cell_type": "code",
   "execution_count": null,
   "metadata": {},
   "outputs": [],
   "source": []
  },
  {
   "cell_type": "code",
   "execution_count": 9,
   "metadata": {},
   "outputs": [],
   "source": [
    "class Solution:\n",
    "    def isInterleave(self, s1: str, s2: str, s3: str) -> bool:\n",
    "        n1, n2, n3 = len(s1), len(s2), len(s3)\n",
    "        if n1+n2 != n3:\n",
    "            return False\n",
    "        s1, s2, s3 = '#'+s1, '#'+s2, '#'+s3\n",
    "        \n",
    "        dp = [[False] * (n2+1) for _ in range(n1+1)]\n",
    "        dp[0][0] = True\n",
    "        for i in range(1, n1+1):\n",
    "            if s1[i] == s3[i]:\n",
    "                dp[i][0] = dp[i-1][0]\n",
    "                \n",
    "        for j in range(1, n2+1):\n",
    "            if s2[j] == s3[j]:\n",
    "                dp[0][j] = dp[0][j-1]\n",
    "        \n",
    "        for i in range(1, n1+1):\n",
    "            for j in range(1, n2+1):\n",
    "                if s1[i] == s3[i+j] and s2[j] == s3[i+j]:\n",
    "                    dp[i][j] = dp[i-1][j] or dp[i][j-1]\n",
    "                elif s1[i] == s3[i+j]:\n",
    "                    dp[i][j] = dp[i-1][j]\n",
    "                elif s2[j] == s3[i+j]:\n",
    "                    dp[i][j] = dp[i][j-1]\n",
    "        return dp[-1][-1]"
   ]
  },
  {
   "cell_type": "code",
   "execution_count": 10,
   "metadata": {},
   "outputs": [
    {
     "data": {
      "text/plain": [
       "True"
      ]
     },
     "execution_count": 10,
     "metadata": {},
     "output_type": "execute_result"
    }
   ],
   "source": [
    "solution = Solution()\n",
    "solution.isInterleave(\"aabc\", \"abad\", \"aabadabc\")"
   ]
  },
  {
   "cell_type": "raw",
   "metadata": {},
   "source": [
    "s1 = ZZZZZZY (i)\n",
    "s2 = XXXXXG (j)\n",
    "s3 = AAAAAAAAA Y?G (i+j)\n",
    "\n",
    "对于 s1[i] 和 s2[j] 来说, 要么s1[i] == s3[i+j] or s2[j] == s3[i+j]:\n",
    "(1) s1[i] == s3[i+j] : dp[i-1][j]\n",
    "(2) s2[i] == s3[i+j] : dp[i][j-1]\n",
    "(3) 如果 s1[i] == s2[j] == s3[i+j]: dp[i][j] = dp[i-1][j] or dp[i][j-1]"
   ]
  }
 ],
 "metadata": {
  "kernelspec": {
   "display_name": "Python 3",
   "language": "python",
   "name": "python3"
  },
  "language_info": {
   "codemirror_mode": {
    "name": "ipython",
    "version": 3
   },
   "file_extension": ".py",
   "mimetype": "text/x-python",
   "name": "python",
   "nbconvert_exporter": "python",
   "pygments_lexer": "ipython3",
   "version": "3.6.2"
  }
 },
 "nbformat": 4,
 "nbformat_minor": 4
}
