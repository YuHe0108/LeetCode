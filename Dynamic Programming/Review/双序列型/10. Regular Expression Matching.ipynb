{
 "cells": [
  {
   "cell_type": "code",
   "execution_count": null,
   "metadata": {},
   "outputs": [],
   "source": []
  },
  {
   "cell_type": "code",
   "execution_count": null,
   "metadata": {},
   "outputs": [],
   "source": []
  },
  {
   "cell_type": "code",
   "execution_count": null,
   "metadata": {},
   "outputs": [],
   "source": []
  },
  {
   "cell_type": "raw",
   "metadata": {},
   "source": [
    "\".\": 仅能重复1次之前的元素\n",
    "\"*\": 0次或多次之前的元素，如果是 匹配0次，那么前面的字母会忽略"
   ]
  },
  {
   "cell_type": "code",
   "execution_count": null,
   "metadata": {},
   "outputs": [],
   "source": []
  },
  {
   "cell_type": "code",
   "execution_count": 44,
   "metadata": {},
   "outputs": [],
   "source": [
    "class Solution:\n",
    "    def isMatch(self, s: str, p: str) -> bool:\n",
    "        ns, np = len(s), len(p)\n",
    "        s, p = '#'+s, '#'+p\n",
    "        dp = [[False] * (np+1) for _ in range(ns+1)]\n",
    "        \n",
    "        # 初始化\n",
    "        dp[0][0] = True\n",
    "        # 当 s 为空，p不为空，如果为True，只有 ‘*’匹配 0 个字母的可能\n",
    "        for j in range(2, np+1): # 星号只有可能从第 2 的索引位置出现\n",
    "            # s='#'  p='#c*'\n",
    "            if p[j] == '*':\n",
    "                dp[0][j] = dp[0][j-2]\n",
    "        \n",
    "        for i in range(1, ns+1):\n",
    "            s_v = s[i]\n",
    "            for j in range(1, np+1):\n",
    "                p_v = p[j]\n",
    "                if p_v.isalpha():\n",
    "                    # 如果是字母，需要两个字母相等\n",
    "                    if p_v == s_v: \n",
    "                        dp[i][j] = dp[i-1][j-1]\n",
    "                elif p_v == '.':\n",
    "                     # 如果 p_v == '.', 那么之取决于 dp[i-1][j-1]\n",
    "                    dp[i][j] = dp[i-1][j-1]\n",
    "                elif p_v == '*':\n",
    "                    # '*' 号匹配 一个 之前出现的字母\n",
    "                    if s_v == p[j-1] or p[j-1] == '.': \n",
    "                        # 为什么是 dp[i-1][j] ？\n",
    "                        # 如果 dp[i-1][j] 正确，有两种情况：\n",
    "                        # （1）s[i-1] == s[i], 那么由于 '*' 可以重复n次，所有如果 dp[i-1][j] 为True，\n",
    "                        #      s的末尾再加几个s[i-1]相同的字母，也是True\n",
    "                        #  (2) s[i-1] != s[i], 如果 dp[i-1][j] 如果为 True，那么可以将 '*' 看作重复 0次，\n",
    "                        #       就变成了 a == a*\n",
    "                        dp[i][j] = dp[i-1][j]\n",
    "                    dp[i][j] = dp[i][j] or dp[i][j-2] # dp[i][j-2] 表示星号不匹配任何字母\n",
    "        return dp[-1][-1]"
   ]
  },
  {
   "cell_type": "code",
   "execution_count": 45,
   "metadata": {},
   "outputs": [
    {
     "data": {
      "text/plain": [
       "True"
      ]
     },
     "execution_count": 45,
     "metadata": {},
     "output_type": "execute_result"
    }
   ],
   "source": [
    "solution = Solution()\n",
    "solution.isMatch(s = \"ab\", p = \"ab*\")"
   ]
  },
  {
   "cell_type": "code",
   "execution_count": null,
   "metadata": {},
   "outputs": [],
   "source": [
    "[[True, False, False], \n",
    " [False, True, False], \n",
    " [False, False, False]]"
   ]
  }
 ],
 "metadata": {
  "kernelspec": {
   "display_name": "Python 3",
   "language": "python",
   "name": "python3"
  },
  "language_info": {
   "codemirror_mode": {
    "name": "ipython",
    "version": 3
   },
   "file_extension": ".py",
   "mimetype": "text/x-python",
   "name": "python",
   "nbconvert_exporter": "python",
   "pygments_lexer": "ipython3",
   "version": "3.6.2"
  }
 },
 "nbformat": 4,
 "nbformat_minor": 4
}
