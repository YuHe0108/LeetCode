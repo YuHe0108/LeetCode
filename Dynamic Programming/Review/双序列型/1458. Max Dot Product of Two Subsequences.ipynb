{
 "cells": [
  {
   "cell_type": "code",
   "execution_count": null,
   "metadata": {},
   "outputs": [],
   "source": []
  },
  {
   "cell_type": "code",
   "execution_count": null,
   "metadata": {},
   "outputs": [],
   "source": []
  },
  {
   "cell_type": "code",
   "execution_count": null,
   "metadata": {},
   "outputs": [],
   "source": []
  },
  {
   "cell_type": "code",
   "execution_count": 5,
   "metadata": {},
   "outputs": [],
   "source": [
    "from typing import List\n",
    "\n",
    "# 选择加数字的时候，要么不加，要不加两个，不存在一个加，一个不加的情况，所以保证了子序列长度的相同性质           \n",
    "\n",
    "class Solution:\n",
    "    def maxDotProduct(self, nums1: List[int], nums2: List[int]) -> int:\n",
    "        n1, n2 = len(nums1), len(nums2)\n",
    "        nums1, nums2 = [0] + nums1, [0] + nums2\n",
    "        dp = [[-float('inf')] * (n2+1) for _ in range(n1+1)]\n",
    "        \n",
    "        dp[0][0] = 0\n",
    "        ret = -float('inf')\n",
    "        for i in range(1, n1+1):\n",
    "            for j in range(1, n2+1):\n",
    "                dp[i][j] = max(max(dp[i-1][j-1], 0) + nums1[i] * nums2[j], \n",
    "                               dp[i-1][j], \n",
    "                               dp[i][j-1], \n",
    "                               dp[i][j])\n",
    "                ret = max(dp[i][j], ret)\n",
    "        return ret\n",
    "                "
   ]
  },
  {
   "cell_type": "code",
   "execution_count": 4,
   "metadata": {},
   "outputs": [
    {
     "data": {
      "text/plain": [
       "-1"
      ]
     },
     "execution_count": 4,
     "metadata": {},
     "output_type": "execute_result"
    }
   ],
   "source": [
    "solution = Solution()\n",
    "solution.maxDotProduct(nums1 = [-1,-1], nums2 = [1,1])"
   ]
  },
  {
   "cell_type": "raw",
   "metadata": {},
   "source": [
    "做的时候发现，两个数组开始选择或者不选择数字的时候，两个数组的数字都是成对出现的，例如a3和a4两种状态，\n",
    "而另外两种情况，并不需要做点积，这保证了子序列长度始终相同。\n"
   ]
  }
 ],
 "metadata": {
  "kernelspec": {
   "display_name": "Python 3",
   "language": "python",
   "name": "python3"
  },
  "language_info": {
   "codemirror_mode": {
    "name": "ipython",
    "version": 3
   },
   "file_extension": ".py",
   "mimetype": "text/x-python",
   "name": "python",
   "nbconvert_exporter": "python",
   "pygments_lexer": "ipython3",
   "version": "3.6.2"
  }
 },
 "nbformat": 4,
 "nbformat_minor": 4
}
