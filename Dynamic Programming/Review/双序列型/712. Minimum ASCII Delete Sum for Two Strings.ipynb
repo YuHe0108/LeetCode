{
 "cells": [
  {
   "cell_type": "code",
   "execution_count": null,
   "metadata": {},
   "outputs": [],
   "source": []
  },
  {
   "cell_type": "code",
   "execution_count": 3,
   "metadata": {},
   "outputs": [
    {
     "data": {
      "text/plain": [
       "122"
      ]
     },
     "execution_count": 3,
     "metadata": {},
     "output_type": "execute_result"
    }
   ],
   "source": [
    "ord('z')"
   ]
  },
  {
   "cell_type": "code",
   "execution_count": null,
   "metadata": {},
   "outputs": [],
   "source": []
  },
  {
   "cell_type": "code",
   "execution_count": null,
   "metadata": {},
   "outputs": [],
   "source": []
  },
  {
   "cell_type": "code",
   "execution_count": 6,
   "metadata": {},
   "outputs": [],
   "source": [
    "class Solution:\n",
    "    def minimumDeleteSum(self, s1: str, s2: str) -> int:\n",
    "        n1, n2 = len(s1), len(s2)\n",
    "        s1, s2 = '#'+s1, '#'+s2\n",
    "        dp = [[float('inf')] * (n2+1) for _ in range(n1+1)]\n",
    "        dp[0][0] = 0\n",
    "        for i in range(1, n1+1):\n",
    "            dp[i][0] = dp[i-1][0] + ord(s1[i])\n",
    "        \n",
    "        for i in range(1, n2+1):\n",
    "            dp[0][i] = dp[0][i-1] + ord(s2[i])\n",
    "        \n",
    "        for i in range(1, n1+1):\n",
    "            for j in range(1, n2+1):\n",
    "                if s1[i] == s2[j]:\n",
    "                    dp[i][j] = dp[i-1][j-1]\n",
    "                else:\n",
    "                    # 删除 s1[i], s2[j] 任意一个字符串的代价\n",
    "                    dp[i][j] = min(dp[i-1][j] + ord(s1[i]), dp[i][j-1] + ord(s2[j]))\n",
    "        return dp[-1][-1]"
   ]
  },
  {
   "cell_type": "code",
   "execution_count": 8,
   "metadata": {},
   "outputs": [
    {
     "data": {
      "text/plain": [
       "403"
      ]
     },
     "execution_count": 8,
     "metadata": {},
     "output_type": "execute_result"
    }
   ],
   "source": [
    "solution = Solution()\n",
    "solution.minimumDeleteSum(s1 = \"delete\", s2 = \"leet\")"
   ]
  },
  {
   "cell_type": "code",
   "execution_count": null,
   "metadata": {},
   "outputs": [],
   "source": []
  }
 ],
 "metadata": {
  "kernelspec": {
   "display_name": "Python 3",
   "language": "python",
   "name": "python3"
  },
  "language_info": {
   "codemirror_mode": {
    "name": "ipython",
    "version": 3
   },
   "file_extension": ".py",
   "mimetype": "text/x-python",
   "name": "python",
   "nbconvert_exporter": "python",
   "pygments_lexer": "ipython3",
   "version": "3.6.2"
  }
 },
 "nbformat": 4,
 "nbformat_minor": 4
}
