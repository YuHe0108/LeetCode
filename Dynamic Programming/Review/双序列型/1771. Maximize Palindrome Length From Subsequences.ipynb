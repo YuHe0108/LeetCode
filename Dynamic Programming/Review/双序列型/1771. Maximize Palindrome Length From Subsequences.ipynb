{
 "cells": [
  {
   "cell_type": "code",
   "execution_count": null,
   "metadata": {},
   "outputs": [],
   "source": []
  },
  {
   "cell_type": "code",
   "execution_count": null,
   "metadata": {},
   "outputs": [],
   "source": []
  },
  {
   "cell_type": "code",
   "execution_count": null,
   "metadata": {},
   "outputs": [],
   "source": []
  },
  {
   "cell_type": "code",
   "execution_count": null,
   "metadata": {},
   "outputs": [],
   "source": []
  },
  {
   "cell_type": "code",
   "execution_count": null,
   "metadata": {},
   "outputs": [],
   "source": []
  },
  {
   "cell_type": "code",
   "execution_count": 1,
   "metadata": {},
   "outputs": [],
   "source": [
    "class Solution:\n",
    "    def longestPalindrome(self, word1: str, word2: str) -> int:\n",
    "        n1, n2 = len(word1), len(word2)\n",
    "        n = n1 + n2\n",
    "        s = '#' + word1 + word2 # 求s的最长回文子序列\n",
    "        dp = [[0] * (n+1) for _ in range(n+1)]\n",
    "        for i in range(1, n+1):\n",
    "            dp[i][i] = 1\n",
    "        for i in range(1, n):\n",
    "            if s[i] == s[i+1]:\n",
    "                dp[i][i+1] = 2\n",
    "        \n",
    "        # dp[i][j] 表示 s[i:j+1] 最长的回文子序列的长度\n",
    "        ret = 0\n",
    "        for gap in range(3, n+1):\n",
    "            for start in range(1, n-gap+2):\n",
    "                end = start + gap - 1\n",
    "                if s[start] == s[end]:\n",
    "                    dp[start][end] = dp[start+1][end-1] + 2\n",
    "                    if start <= n1 and end > n1:\n",
    "                        ret = max(ret, dp[start][end])\n",
    "                else:\n",
    "                    dp[start][end] = max(dp[start][end], dp[start+1][end], dp[start][end-1])\n",
    "        return ret"
   ]
  },
  {
   "cell_type": "code",
   "execution_count": 2,
   "metadata": {},
   "outputs": [
    {
     "data": {
      "text/plain": [
       "0"
      ]
     },
     "execution_count": 2,
     "metadata": {},
     "output_type": "execute_result"
    }
   ],
   "source": [
    "solution = Solution()\n",
    "solution.longestPalindrome('aa', 'bb')"
   ]
  },
  {
   "cell_type": "code",
   "execution_count": null,
   "metadata": {},
   "outputs": [],
   "source": []
  }
 ],
 "metadata": {
  "kernelspec": {
   "display_name": "PyCharm (test)",
   "language": "python",
   "name": "pycharm-6cfa6a7a"
  },
  "language_info": {
   "codemirror_mode": {
    "name": "ipython",
    "version": 3
   },
   "file_extension": ".py",
   "mimetype": "text/x-python",
   "name": "python",
   "nbconvert_exporter": "python",
   "pygments_lexer": "ipython3",
   "version": "3.6.2"
  }
 },
 "nbformat": 4,
 "nbformat_minor": 4
}
