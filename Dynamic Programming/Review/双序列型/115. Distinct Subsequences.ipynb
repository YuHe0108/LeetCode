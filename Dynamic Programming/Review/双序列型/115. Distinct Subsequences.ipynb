{
 "cells": [
  {
   "cell_type": "code",
   "execution_count": null,
   "metadata": {},
   "outputs": [],
   "source": []
  },
  {
   "cell_type": "code",
   "execution_count": null,
   "metadata": {},
   "outputs": [],
   "source": []
  },
  {
   "cell_type": "code",
   "execution_count": null,
   "metadata": {},
   "outputs": [],
   "source": []
  },
  {
   "cell_type": "code",
   "execution_count": null,
   "metadata": {},
   "outputs": [],
   "source": []
  },
  {
   "cell_type": "code",
   "execution_count": 14,
   "metadata": {},
   "outputs": [],
   "source": [
    "class Solution:\n",
    "    def numDistinct(self, s: str, t: str) -> int:\n",
    "        ns, nt = len(s), len(t)\n",
    "        s, t = '#'+s, '#'+t\n",
    "        dp = [[0] * (nt+1) for _ in range(ns+1)]\n",
    "        \n",
    "        # 如果 t 为空的字符串，那么无论 s有多长，dp[i][0]恒等于1，即空字符串\n",
    "        for i in range(ns+1):\n",
    "            dp[i][0] = 1\n",
    "        \n",
    "        for i in range(1, ns+1):\n",
    "            for j in range(1, nt+1):\n",
    "                 # 最后对应的字母是相同的，那么dp[i][j] = dp[i-1][j-1]\n",
    "                if s[i] == t[j]:\n",
    "                    dp[i][j] = dp[i-1][j-1]\n",
    "                # 也可以是不同的，即忽略s[i], 对于s[:i-1]和t[:j] 有多少种方案, 即 dp[i][j] = dp[i-1][j]\n",
    "                dp[i][j] += dp[i-1][j]\n",
    "        return dp[-1][-1]"
   ]
  },
  {
   "cell_type": "code",
   "execution_count": 15,
   "metadata": {},
   "outputs": [
    {
     "data": {
      "text/plain": [
       "5"
      ]
     },
     "execution_count": 15,
     "metadata": {},
     "output_type": "execute_result"
    }
   ],
   "source": [
    "solution = Solution()\n",
    "solution.numDistinct(s = \"babgbag\", t = \"bag\")"
   ]
  },
  {
   "cell_type": "code",
   "execution_count": null,
   "metadata": {},
   "outputs": [],
   "source": []
  }
 ],
 "metadata": {
  "kernelspec": {
   "display_name": "Python 3",
   "language": "python",
   "name": "python3"
  },
  "language_info": {
   "codemirror_mode": {
    "name": "ipython",
    "version": 3
   },
   "file_extension": ".py",
   "mimetype": "text/x-python",
   "name": "python",
   "nbconvert_exporter": "python",
   "pygments_lexer": "ipython3",
   "version": "3.6.2"
  }
 },
 "nbformat": 4,
 "nbformat_minor": 4
}
