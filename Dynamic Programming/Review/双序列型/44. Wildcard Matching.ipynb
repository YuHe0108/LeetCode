{
 "cells": [
  {
   "cell_type": "code",
   "execution_count": null,
   "metadata": {},
   "outputs": [],
   "source": [
    "class Solution:\n",
    "    def isMatch(self, s: str, p: str) -> bool:\n",
    "#         len_s = len(s)\n",
    "#         if len(p) - p.count('*') > len_s: # 如果匹配字符的长度减去 '*'的长度还大于待匹配的字符，说明肯定不对\n",
    "#             return False\n",
    "        \n",
    "#         dp = [True] + [False] * len_s\n",
    "#         for i in p:\n",
    "#             if i != '*':\n",
    "#                 for n in reversed(range(len_s)):\n",
    "#                     dp[n + 1] = dp[n] and ( i == s[n] or i == '?')\n",
    "#             else:\n",
    "#                 for n in range(1, len_s + 1):\n",
    "#                     dp[n] = dp[n - 1] or dp[n]\n",
    "#             dp[0] = dp[0] and i == '*' #  \n",
    "#         return dp[-1]\n",
    "        s_index, p_index = 0, 0\n",
    "        match = 0\n",
    "        star = -1\n",
    "        while s_index < len(s):\n",
    "            # 1、对应元素相同，或者p为‘？’\n",
    "            if (p_index < len(p) and (s[s_index] == p[p_index] or p[p_index] == '?')):\n",
    "                p_index += 1\n",
    "                s_index += 1\n",
    "            \n",
    "            # 2、对应元素位置不同，但是p的位置为 '*'\n",
    "            elif (p_index < len(p) and p[p_index] == '*'):\n",
    "                star = p_index # 记录下星号的位置\n",
    "                match = s_index # match匹配s[s_index]字符\n",
    "                p_index += 1 # p_index为星号后的一个字符\n",
    "            \n",
    "            # 3、对应元素位置不同，p的位置也不是 '*', 考虑 ‘*’匹配多个字符\n",
    "            elif star != -1:\n",
    "                p_index = star + 1 # p_index始终为 '*' 后一个字符\n",
    "                match += 1 # '*'匹配 s 中最后一字符的 index\n",
    "                s_index = match # s_index为 匹配最后一个字符的下一个index\n",
    "            else:\n",
    "                return False\n",
    "        while (p_index < len(p) and p[p_index] == '*'):\n",
    "            p_index += 1\n",
    "        return p_index == len(p)"
   ]
  },
  {
   "cell_type": "code",
   "execution_count": null,
   "metadata": {},
   "outputs": [],
   "source": []
  },
  {
   "cell_type": "raw",
   "metadata": {},
   "source": [
    "1、'?' 可以匹配任何单个字符。\n",
    "2、'*' 可以匹配任意字符串（包括空字符串）。"
   ]
  },
  {
   "cell_type": "code",
   "execution_count": null,
   "metadata": {},
   "outputs": [],
   "source": []
  },
  {
   "cell_type": "code",
   "execution_count": 45,
   "metadata": {},
   "outputs": [],
   "source": [
    "class Solution:\n",
    "    def isMatch(self, s: str, p: str) -> bool:\n",
    "        ns, np = len(s), len(p)\n",
    "        s, p = '#'+s, '#'+p\n",
    "        dp = [[False] * (np+1) for _ in range(ns+1)]\n",
    "        dp[0][0] = True\n",
    "        \n",
    "        # 1、s不为空，p为空，一定是 False\n",
    "        # 2、当s为空，p不为空的时候，只有 p[i] == '*', 才有可能匹配正确\n",
    "        for i in range(1, np+1):\n",
    "            if p[i] == '*':\n",
    "                dp[0][i] = dp[0][i-1]\n",
    "        \n",
    "        for i in range(1, ns+1):\n",
    "            s_v = s[i]\n",
    "            for j in range(1, np+1):\n",
    "                p_v = p[j]\n",
    "                if p_v.isalpha():\n",
    "                    dp[i][j] = dp[i-1][j-1] and p_v == s_v\n",
    "                elif p_v == '?':\n",
    "                    dp[i][j] = dp[i-1][j-1]\n",
    "                elif p_v == '*':\n",
    "                    # dp[i-1][j]: '*' 匹配当前字母 s_v, 如果 dp[i-1][j] is True\n",
    "                    # 由于 '*' 可以匹配任何字母，所以s[i-1] + s_v仍然可以匹配成功\n",
    "                    # dp[i][j-1]: '*'不匹配任何字母 dp[i][j-1] 如果可以匹配正确，说明 '*'可以不表示任何字母\n",
    "                    dp[i][j] = dp[i][j-1] or dp[i-1][j]\n",
    "        return dp[-1][-1]"
   ]
  },
  {
   "cell_type": "code",
   "execution_count": 46,
   "metadata": {},
   "outputs": [
    {
     "data": {
      "text/plain": [
       "True"
      ]
     },
     "execution_count": 46,
     "metadata": {},
     "output_type": "execute_result"
    }
   ],
   "source": [
    "solution = Solution()\n",
    "solution.isMatch(s = \"adceb\", p = \"*a*b\")"
   ]
  },
  {
   "cell_type": "code",
   "execution_count": null,
   "metadata": {},
   "outputs": [],
   "source": []
  }
 ],
 "metadata": {
  "kernelspec": {
   "display_name": "Python 3",
   "language": "python",
   "name": "python3"
  },
  "language_info": {
   "codemirror_mode": {
    "name": "ipython",
    "version": 3
   },
   "file_extension": ".py",
   "mimetype": "text/x-python",
   "name": "python",
   "nbconvert_exporter": "python",
   "pygments_lexer": "ipython3",
   "version": "3.6.2"
  }
 },
 "nbformat": 4,
 "nbformat_minor": 4
}
