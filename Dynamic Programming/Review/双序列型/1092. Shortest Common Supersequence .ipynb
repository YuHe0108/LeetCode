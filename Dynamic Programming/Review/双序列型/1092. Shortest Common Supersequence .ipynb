{
 "cells": [
  {
   "cell_type": "code",
   "execution_count": null,
   "metadata": {},
   "outputs": [],
   "source": []
  },
  {
   "cell_type": "code",
   "execution_count": null,
   "metadata": {},
   "outputs": [],
   "source": []
  },
  {
   "cell_type": "code",
   "execution_count": null,
   "metadata": {},
   "outputs": [],
   "source": []
  },
  {
   "cell_type": "code",
   "execution_count": 3,
   "metadata": {},
   "outputs": [],
   "source": [
    "# 求一个最短的字符串，且str1和 str2都是这个字符串的子序列"
   ]
  },
  {
   "cell_type": "code",
   "execution_count": 25,
   "metadata": {},
   "outputs": [],
   "source": [
    "class Solution:\n",
    "    def shortestCommonSupersequence(self, str1: str, str2: str) -> str:\n",
    "        n1, n2 = len(str1), len(str2)\n",
    "        str1 = '#' + str1\n",
    "        str2 = '#' + str2\n",
    "        \n",
    "        # 记录下最短的 common super subsequence\n",
    "        dp = [[0] * (n2+1) for _ in range(n1+1)]\n",
    "        for i in range(1, n1+1):\n",
    "            dp[i][0] = i\n",
    "        for j in range(1, n2+1):\n",
    "            dp[0][j] = j\n",
    "        \n",
    "        for i in range(1, n1+1):\n",
    "            for j in range(1, n2+1):\n",
    "                if str1[i] == str2[j]:\n",
    "                    dp[i][j] = dp[i-1][j-1] + 1\n",
    "                else:\n",
    "                    dp[i][j] = min(dp[i-1][j], dp[i][j-1]) + 1\n",
    "        \n",
    "        \n",
    "        # 回溯结果是从哪里来的\n",
    "        res = ''\n",
    "        i, j = n1, n2\n",
    "        while i and j:\n",
    "            if str1[i] == str2[j]:\n",
    "                res += str1[i]\n",
    "                i, j = i-1, j-1\n",
    "            else:\n",
    "                if dp[i-1][j] < dp[i][j-1]:\n",
    "                    res += str1[i]\n",
    "                    i -= 1\n",
    "                else:\n",
    "                    res += str2[j]\n",
    "                    j -= 1\n",
    "        if i:\n",
    "            res += str1[1:i+1][::-1]\n",
    "        if j:\n",
    "            res += str2[1:j+1][::-1]\n",
    "        return res[::-1]"
   ]
  },
  {
   "cell_type": "code",
   "execution_count": 26,
   "metadata": {},
   "outputs": [
    {
     "data": {
      "text/plain": [
       "'cabac'"
      ]
     },
     "execution_count": 26,
     "metadata": {},
     "output_type": "execute_result"
    }
   ],
   "source": [
    "solution = Solution()\n",
    "solution.shortestCommonSupersequence(str1 = \"abac\", str2 = \"cab\")"
   ]
  },
  {
   "cell_type": "code",
   "execution_count": 32,
   "metadata": {},
   "outputs": [
    {
     "data": {
      "text/plain": [
       "[]"
      ]
     },
     "execution_count": 32,
     "metadata": {},
     "output_type": "execute_result"
    }
   ],
   "source": [
    "a = [1, 2, 3]\n",
    "a[:2:-1]"
   ]
  },
  {
   "cell_type": "code",
   "execution_count": null,
   "metadata": {},
   "outputs": [],
   "source": []
  }
 ],
 "metadata": {
  "kernelspec": {
   "display_name": "Python 3",
   "language": "python",
   "name": "python3"
  },
  "language_info": {
   "codemirror_mode": {
    "name": "ipython",
    "version": 3
   },
   "file_extension": ".py",
   "mimetype": "text/x-python",
   "name": "python",
   "nbconvert_exporter": "python",
   "pygments_lexer": "ipython3",
   "version": "3.6.2"
  }
 },
 "nbformat": 4,
 "nbformat_minor": 4
}
