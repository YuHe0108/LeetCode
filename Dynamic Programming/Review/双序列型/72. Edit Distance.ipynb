{
 "cells": [
  {
   "cell_type": "code",
   "execution_count": null,
   "metadata": {},
   "outputs": [],
   "source": []
  },
  {
   "cell_type": "code",
   "execution_count": null,
   "metadata": {},
   "outputs": [],
   "source": []
  },
  {
   "cell_type": "code",
   "execution_count": null,
   "metadata": {},
   "outputs": [],
   "source": []
  },
  {
   "cell_type": "code",
   "execution_count": 28,
   "metadata": {},
   "outputs": [],
   "source": [
    "class Solution:\n",
    "    def minDistance(self, word1: str, word2: str) -> int:\n",
    "        # 插入，删除，替换\n",
    "        n1, n2 = len(word1), len(word2)\n",
    "        word1, word2 = \"#\"+word1, \"#\"+word2\n",
    "        \n",
    "        dp = [[float('inf')] * (n2+1) for _ in range(n1+1)]\n",
    "        dp[0][0] = 0\n",
    "        # word2 为 ''， word1 不为 '', 需要删除word1\n",
    "        for i in range(1, n1+1):\n",
    "            dp[i][0] = i\n",
    "        # word1 为 ''， word2 不为 '', 需要insert\n",
    "        for j in range(1, n2+1):\n",
    "            dp[0][j] = j\n",
    "        \n",
    "        for i in range(1, n1+1):\n",
    "            for j in range(1, n2+1):\n",
    "                if word1[i] == word2[j]: # 两个单词正好相等\n",
    "                    dp[i][j] = dp[i-1][j-1]\n",
    "                else:\n",
    "                    # 删除 word1[i],那么dp[i][j] 取决于 dp[i-1][j]\n",
    "                    # 更改 word1[i], 使得 word1[i] == word2[j]\n",
    "                    dp[i][j] = min(dp[i][j], dp[i-1][j]+1, dp[i-1][j-1]+1, dp[i][j-1]+1)\n",
    "        return dp[-1][-1]"
   ]
  },
  {
   "cell_type": "code",
   "execution_count": 29,
   "metadata": {},
   "outputs": [
    {
     "data": {
      "text/plain": [
       "1"
      ]
     },
     "execution_count": 29,
     "metadata": {},
     "output_type": "execute_result"
    }
   ],
   "source": [
    "solution = Solution()\n",
    "solution.minDistance(\"a\", \"ab\")"
   ]
  },
  {
   "cell_type": "raw",
   "metadata": {},
   "source": [
    "word1: XXc\n",
    "word2: YYd\n",
    " c != d\n",
    "删除：删除C, 那么只要看 dp[i-1][j] + 1\n",
    "更改：将c修改为d，那么只看 dp[i-1][j-1] + 1\n",
    "插入：在c后面的位置插入d，也就是 word1[i+1] == word2[j]  dp[i][j-1] + 1"
   ]
  }
 ],
 "metadata": {
  "kernelspec": {
   "display_name": "Python 3",
   "language": "python",
   "name": "python3"
  },
  "language_info": {
   "codemirror_mode": {
    "name": "ipython",
    "version": 3
   },
   "file_extension": ".py",
   "mimetype": "text/x-python",
   "name": "python",
   "nbconvert_exporter": "python",
   "pygments_lexer": "ipython3",
   "version": "3.6.2"
  }
 },
 "nbformat": 4,
 "nbformat_minor": 4
}
