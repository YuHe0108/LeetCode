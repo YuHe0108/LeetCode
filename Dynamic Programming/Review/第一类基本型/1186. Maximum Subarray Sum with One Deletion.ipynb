{
 "cells": [
  {
   "cell_type": "code",
   "execution_count": null,
   "metadata": {},
   "outputs": [],
   "source": []
  },
  {
   "cell_type": "code",
   "execution_count": null,
   "metadata": {},
   "outputs": [],
   "source": []
  },
  {
   "cell_type": "code",
   "execution_count": null,
   "metadata": {},
   "outputs": [],
   "source": [
    "class Solution:\n",
    "    def maximumSum(self, arr: List[int]) -> int:\n",
    "        # 定义DP[i][j]\n",
    "        # dp[i][0]：到arr[:i]为止的元素中，没有删除元素，能够得到的最大元素之和\n",
    "        # dp[i][1]: 删除了一个元素之后，能够得到的元素之和是多少\n",
    "        n = len(arr)\n",
    "        dp = [[-float('inf')] * 2 for _ in range(n)]\n",
    "        dp[0][0] = arr[0]\n",
    "        dp[0][1] = -float('inf') # 这个状态是不合法的，一定起码还有一个元素\n",
    "        res = max(dp[0][0], dp[0][1])\n",
    "        for i in range(1, n):\n",
    "            # 没有删除元素：\n",
    "            dp[i][0] = max(dp[i-1][0] + arr[i], arr[i])\n",
    "            # 删除元素\n",
    "            dp[i][1] = max(dp[i-1][1] + arr[i], dp[i-1][0])\n",
    "            res = max(res, dp[i][0], dp[i][1])\n",
    "        return res"
   ]
  }
 ],
 "metadata": {
  "kernelspec": {
   "display_name": "Python 3",
   "language": "python",
   "name": "python3"
  },
  "language_info": {
   "codemirror_mode": {
    "name": "ipython",
    "version": 3
   },
   "file_extension": ".py",
   "mimetype": "text/x-python",
   "name": "python",
   "nbconvert_exporter": "python",
   "pygments_lexer": "ipython3",
   "version": "3.6.2"
  }
 },
 "nbformat": 4,
 "nbformat_minor": 4
}
