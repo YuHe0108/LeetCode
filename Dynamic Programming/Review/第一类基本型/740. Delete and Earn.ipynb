{
 "cells": [
  {
   "cell_type": "code",
   "execution_count": null,
   "metadata": {},
   "outputs": [],
   "source": []
  },
  {
   "cell_type": "code",
   "execution_count": null,
   "metadata": {},
   "outputs": [],
   "source": []
  },
  {
   "cell_type": "code",
   "execution_count": 8,
   "metadata": {},
   "outputs": [],
   "source": [
    "from collections import Counter\n",
    "\n",
    "class Solution:\n",
    "    def deleteAndEarn(self, nums):\n",
    "        count = Counter(nums)\n",
    "        dp = [0] * (10000 + 1)\n",
    "        dp[1] = count[1]\n",
    "        for i in range(2, 10000 + 1):\n",
    "            # 如果我拿了这个数字，之前的数字可以 拿 i-2, 相反，如果不拿，当前值是 dp[i-1]\n",
    "            dp[i] = max(dp[i-2] + count[i] * i, dp[i-1])\n",
    "        return max(dp)"
   ]
  },
  {
   "cell_type": "code",
   "execution_count": null,
   "metadata": {},
   "outputs": [],
   "source": [
    "from collections import Counter\n",
    "\n",
    "class Solution:\n",
    "    def deleteAndEarn(self, nums):\n",
    "        if not nums:\n",
    "            return 0\n",
    "        count = Counter(nums)\n",
    "        dp = [0] * (10000 + 1)\n",
    "        dp[1] = count[1]\n",
    "        for i in range(2, max(nums) + 1):\n",
    "            # 如果我拿了这个数字，之前的数字可以 拿 i-2, \n",
    "            #　相反，如果不拿，当前值是 dp[i-1]\n",
    "            dp[i] = max(dp[i-2] + count[i] * i, dp[i-1])\n",
    "        return max(dp)"
   ]
  },
  {
   "cell_type": "code",
   "execution_count": 9,
   "metadata": {},
   "outputs": [
    {
     "data": {
      "text/plain": [
       "9"
      ]
     },
     "execution_count": 9,
     "metadata": {},
     "output_type": "execute_result"
    }
   ],
   "source": [
    "solution = Solution()\n",
    "solution.deleteAndEarn([2, 2, 3, 3, 3, 4])"
   ]
  },
  {
   "cell_type": "code",
   "execution_count": null,
   "metadata": {},
   "outputs": [],
   "source": []
  }
 ],
 "metadata": {
  "kernelspec": {
   "display_name": "Python 3",
   "language": "python",
   "name": "python3"
  },
  "language_info": {
   "codemirror_mode": {
    "name": "ipython",
    "version": 3
   },
   "file_extension": ".py",
   "mimetype": "text/x-python",
   "name": "python",
   "nbconvert_exporter": "python",
   "pygments_lexer": "ipython3",
   "version": "3.6.2"
  }
 },
 "nbformat": 4,
 "nbformat_minor": 4
}
