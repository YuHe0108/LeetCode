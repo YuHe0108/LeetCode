{
 "cells": [
  {
   "cell_type": "code",
   "execution_count": null,
   "metadata": {},
   "outputs": [],
   "source": []
  },
  {
   "cell_type": "code",
   "execution_count": null,
   "metadata": {},
   "outputs": [],
   "source": []
  },
  {
   "cell_type": "raw",
   "metadata": {},
   "source": [
    "例子1：\n",
    "    # DI D\n",
    "    X XX X\n",
    "    假设计算 第 i 位置，S[i] = 'D', 前面是 012 的全排列，并且是满足提议要求的，\n",
    "    那么对于第 i 个位置，可以放什么呢？\n",
    "    (1) 放 '0': 第 i-1位置可以放 0,1,2\n",
    "        XX 0 -> '0'\n",
    "        XX 1 -> '0'  \n",
    "        XX 2 -> '0'\n",
    "    (2) 放 '1': 第 i-1位置可以放 1,2\n",
    "        XX 1 -> '1'   \n",
    "        XX 2 -> '1'\n",
    "     不能放2和3, 也就是说，当我们放 第 i 位置的数字是 k 的时候\n",
    "     i-1 的位置可以是：k, ... i-1, 可以等于 k, 也就是最小取值 是k，最大为i-1（i-1是第i-1轮，能够取到的最大值）\n",
    "     \n",
    "     \n",
    "     那么如果S[i] = 'I', 同样 i = 3\n",
    "     那么 第 i 个位置可以取：1, 2, 3, 不能取 0\n",
    "      XX0 -> 1\n",
    "      \n",
    "      XX0 -> 2\n",
    "      XX1 -> 2\n",
    "      \n",
    "      XX0 -> 3\n",
    "      XX1 -> 3\n",
    "      XX2 -> 3\n",
    "      也就是说，如果第i位置取得是k， 那么能够取的i-1的位置能够去到的值在 0-> k-1"
   ]
  },
  {
   "cell_type": "code",
   "execution_count": null,
   "metadata": {},
   "outputs": [],
   "source": [
    "class Solution:\n",
    "    def numPermsDISequence(self, S: str) -> int:\n",
    "        mod = pow(10, 9) + 7\n",
    "        N = len(S)\n",
    "        dp = [0] * (1 + N)\n",
    "        dp[0] = 1\n",
    "        S = '#' + S\n",
    "        for i in range(1, N + 1):\n",
    "            temp = [0] * (1 + N)\n",
    "            for j in range(i + 1): # 第j个位置，最大值为 i\n",
    "                if S[i] == 'D':\n",
    "                    # 第 i-1 的位置上，最大值只能是 i-1, 最小值为 j\n",
    "                    for k in range(j, i):\n",
    "                        temp[j] += dp[k]\n",
    "                else:\n",
    "                    # 第 i-1 的位置上，最大值只能是 j-1, 最小值为 0\n",
    "                    for k in range(j):\n",
    "                        temp[j] += dp[k]\n",
    "            dp = temp\n",
    "        return sum(dp) % mod\n",
    "        "
   ]
  },
  {
   "cell_type": "code",
   "execution_count": null,
   "metadata": {},
   "outputs": [],
   "source": []
  },
  {
   "cell_type": "code",
   "execution_count": 54,
   "metadata": {},
   "outputs": [],
   "source": [
    "class Solution:\n",
    "    def numPermsDISequence(self, S: str) -> int:\n",
    "        mod = pow(10, 9) + 7\n",
    "        N = len(S)\n",
    "        S = '#' + S\n",
    "        \n",
    "        dp = [[0] * (1 + N) for _ in range(1 + N)]\n",
    "        dp[0][0] = 1 # 只有一位的时候，只有一个选择\n",
    "        \n",
    "        for i in range(1, N+1):\n",
    "            for j in range(i + 1):\n",
    "                if S[i] == 'D':\n",
    "                    for k in range(j, i):\n",
    "                        dp[i][j] += dp[i-1][k]\n",
    "                else:\n",
    "                    for k in range(j):\n",
    "                        dp[i][j] += dp[i-1][k]\n",
    "        return sum(dp[-1]) % mod"
   ]
  },
  {
   "cell_type": "code",
   "execution_count": 55,
   "metadata": {},
   "outputs": [
    {
     "name": "stdout",
     "output_type": "stream",
     "text": [
      "[[1, 0, 0, 0], [1, 0, 0, 0], [0, 1, 1, 0], [2, 2, 1, 0]]\n"
     ]
    },
    {
     "data": {
      "text/plain": [
       "5"
      ]
     },
     "execution_count": 55,
     "metadata": {},
     "output_type": "execute_result"
    }
   ],
   "source": [
    "solution = Solution()\n",
    "solution.numPermsDISequence(\"DID\")"
   ]
  },
  {
   "cell_type": "code",
   "execution_count": 64,
   "metadata": {},
   "outputs": [],
   "source": [
    "class Solution:\n",
    "    def numPermsDISequence(self, S: str) -> int:\n",
    "        mod = pow(10, 9) + 7\n",
    "        N = len(S)\n",
    "        S = '#' + S\n",
    "        \n",
    "        dp = [0] * (1 + N)\n",
    "        dp[0] = 1\n",
    "        \n",
    "        for i in range(1, N+1):\n",
    "            temp = [0] * (1 + N)\n",
    "            for j in range(i + 1):\n",
    "                if S[i] == 'D':\n",
    "                    for k in range(j, i):\n",
    "                        temp[j] += dp[k]\n",
    "                else:\n",
    "                    for k in range(j):\n",
    "                        temp[j] += dp[k]\n",
    "            dp = temp\n",
    "        return sum(dp) % mod"
   ]
  },
  {
   "cell_type": "code",
   "execution_count": 65,
   "metadata": {},
   "outputs": [
    {
     "name": "stdout",
     "output_type": "stream",
     "text": [
      "[1, 0, 0, 0]\n",
      "[0, 1, 1, 0]\n",
      "[2, 2, 1, 0]\n"
     ]
    },
    {
     "data": {
      "text/plain": [
       "5"
      ]
     },
     "execution_count": 65,
     "metadata": {},
     "output_type": "execute_result"
    }
   ],
   "source": [
    "solution = Solution()\n",
    "solution.numPermsDISequence(\"DID\")"
   ]
  },
  {
   "cell_type": "code",
   "execution_count": null,
   "metadata": {},
   "outputs": [],
   "source": []
  }
 ],
 "metadata": {
  "kernelspec": {
   "display_name": "Python 3",
   "language": "python",
   "name": "python3"
  },
  "language_info": {
   "codemirror_mode": {
    "name": "ipython",
    "version": 3
   },
   "file_extension": ".py",
   "mimetype": "text/x-python",
   "name": "python",
   "nbconvert_exporter": "python",
   "pygments_lexer": "ipython3",
   "version": "3.6.2"
  }
 },
 "nbformat": 4,
 "nbformat_minor": 4
}
