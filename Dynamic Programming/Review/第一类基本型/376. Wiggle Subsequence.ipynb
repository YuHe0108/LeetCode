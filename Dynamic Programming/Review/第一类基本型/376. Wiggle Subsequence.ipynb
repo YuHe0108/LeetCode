{
 "cells": [
  {
   "cell_type": "code",
   "execution_count": null,
   "metadata": {},
   "outputs": [],
   "source": []
  },
  {
   "cell_type": "markdown",
   "metadata": {},
   "source": [
    "### 1、贪心法：求的是nums中拐点的数量"
   ]
  },
  {
   "cell_type": "code",
   "execution_count": 7,
   "metadata": {},
   "outputs": [],
   "source": [
    "class Solution:\n",
    "    def wiggleMaxLength(self, nums):\n",
    "        if not nums:\n",
    "            return 0 # 如果没有点，记作 0\n",
    "        cnt = 1 # 第一个点肯定是一个拐点\n",
    "        direc = -2 # 初始化的第一个点的斜率记作为 -2\n",
    "        for i in range(1, len(nums)):\n",
    "            prev = direc\n",
    "            if nums[i] > nums[i-1]:\n",
    "                direc = 1\n",
    "            elif nums[i] < nums[i-1]:\n",
    "                direc = -1\n",
    "            else:\n",
    "                direc = prev # 保持了斜率不变\n",
    "            if direc != prev:\n",
    "                cnt += 1\n",
    "        return cnt"
   ]
  },
  {
   "cell_type": "code",
   "execution_count": null,
   "metadata": {},
   "outputs": [],
   "source": []
  },
  {
   "cell_type": "markdown",
   "metadata": {},
   "source": [
    "### 2、DP:\n",
    "    记录两个状态，向上的 up、向下的 down\n",
    "    如果当前的 num[i] > nums[i-1]  new_up = old_down + 1\n",
    "    如果 nums[i] < nums[i-1] new_down = old_up + 1"
   ]
  },
  {
   "cell_type": "code",
   "execution_count": 10,
   "metadata": {},
   "outputs": [],
   "source": [
    "class Solution:\n",
    "    def wiggleMaxLength(self, nums):\n",
    "        if not nums:\n",
    "            return 0\n",
    "        up = down = 1\n",
    "        for i in range(1, len(nums)):\n",
    "            if nums[i] > nums[i-1]:\n",
    "                up = down + 1\n",
    "            elif nums[i] < nums[i-1]:\n",
    "                down = up + 1\n",
    "        return max(up, down)"
   ]
  },
  {
   "cell_type": "code",
   "execution_count": 11,
   "metadata": {},
   "outputs": [
    {
     "data": {
      "text/plain": [
       "6"
      ]
     },
     "execution_count": 11,
     "metadata": {},
     "output_type": "execute_result"
    }
   ],
   "source": [
    "solution = Solution()\n",
    "solution.wiggleMaxLength([1,7,4,9,2,5])"
   ]
  },
  {
   "cell_type": "code",
   "execution_count": null,
   "metadata": {},
   "outputs": [],
   "source": []
  }
 ],
 "metadata": {
  "kernelspec": {
   "display_name": "Python 3",
   "language": "python",
   "name": "python3"
  },
  "language_info": {
   "codemirror_mode": {
    "name": "ipython",
    "version": 3
   },
   "file_extension": ".py",
   "mimetype": "text/x-python",
   "name": "python",
   "nbconvert_exporter": "python",
   "pygments_lexer": "ipython3",
   "version": "3.6.2"
  }
 },
 "nbformat": 4,
 "nbformat_minor": 4
}
