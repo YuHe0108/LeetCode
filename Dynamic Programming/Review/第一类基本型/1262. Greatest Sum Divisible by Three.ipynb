{
 "cells": [
  {
   "cell_type": "code",
   "execution_count": null,
   "metadata": {},
   "outputs": [],
   "source": []
  },
  {
   "cell_type": "code",
   "execution_count": null,
   "metadata": {},
   "outputs": [],
   "source": []
  },
  {
   "cell_type": "code",
   "execution_count": 25,
   "metadata": {},
   "outputs": [],
   "source": [
    "from collections import defaultdict\n",
    "\n",
    "class Solution:\n",
    "    def maxSumDivThree(self, nums):\n",
    "        # 余数为 0 、1、2时的最大和是多少\n",
    "        count = defaultdict(list)\n",
    "        for n in nums:\n",
    "            count[n % 3].append(n)\n",
    "            \n",
    "        sum_val = sum(count[0])\n",
    "        # 余数为1的数字，一共有多少个\n",
    "        mod_one = len(count[1])\n",
    "        ones = sorted(count[1])\n",
    "        mod_one = sum(ones) # 余数为 1\n",
    "        mod_one_1 = sum(ones[1:]) # 余数为 2\n",
    "        mod_one_2 = sum(ones[2:]) # 余数为 0\n",
    "        # 余数为2的数字，一共有多少个\n",
    "        mod_two = len(count[2])\n",
    "        twos = sorted(count[2])\n",
    "        mod_two = sum(twos) # 余数为2\n",
    "        mod_two_1 = sum(twos[1:]) # 余数为 1\n",
    "        return max(sum_val + mod_one + mod_two, sum_val + mod_one_1 + mod)"
   ]
  },
  {
   "cell_type": "markdown",
   "metadata": {},
   "source": [
    "<img src='1262.jpg'>"
   ]
  },
  {
   "cell_type": "code",
   "execution_count": 61,
   "metadata": {},
   "outputs": [],
   "source": [
    "from collections import defaultdict\n",
    "\n",
    "class Solution:\n",
    "    def maxSumDivThree(self, nums):\n",
    "        dp = [-float('inf')] * 3 # 分别表示三除余数为0、1、2的最大和为多少\n",
    "        for n in nums:\n",
    "            t_dp = dp[::]\n",
    "            if n % 3 == 0:\n",
    "                t_dp[0] = max(dp[0], dp[0] + n, n)\n",
    "                t_dp[1] = max(dp[1], dp[1] + n)\n",
    "                t_dp[2] = max(dp[2], dp[2] + n)\n",
    "            elif n % 3 == 1:\n",
    "                t_dp[0] = max(dp[0], dp[2] + n)\n",
    "                t_dp[1] = max(dp[1], dp[0] + n, n)\n",
    "                t_dp[2] = max(dp[2], dp[1] + n)\n",
    "            else:\n",
    "                t_dp[0] = max(dp[0], dp[1] + n)\n",
    "                t_dp[1] = max(dp[1], dp[2] + n)\n",
    "                t_dp[2] = max(dp[2], dp[0] + n, n)\n",
    "            dp = t_dp\n",
    "        return dp[0] if dp[0] != -float('inf') else 0# 最后输出的是被三除余数为 0"
   ]
  },
  {
   "cell_type": "code",
   "execution_count": 62,
   "metadata": {},
   "outputs": [
    {
     "data": {
      "text/plain": [
       "33"
      ]
     },
     "execution_count": 62,
     "metadata": {},
     "output_type": "execute_result"
    }
   ],
   "source": [
    "solution = Solution()\n",
    "solution.maxSumDivThree([7,3,7,4,2,2,7,5])"
   ]
  },
  {
   "cell_type": "code",
   "execution_count": 52,
   "metadata": {},
   "outputs": [
    {
     "data": {
      "text/plain": [
       "2"
      ]
     },
     "execution_count": 52,
     "metadata": {},
     "output_type": "execute_result"
    }
   ],
   "source": [
    "17 % 3"
   ]
  },
  {
   "cell_type": "code",
   "execution_count": null,
   "metadata": {},
   "outputs": [],
   "source": []
  }
 ],
 "metadata": {
  "kernelspec": {
   "display_name": "Python 3",
   "language": "python",
   "name": "python3"
  },
  "language_info": {
   "codemirror_mode": {
    "name": "ipython",
    "version": 3
   },
   "file_extension": ".py",
   "mimetype": "text/x-python",
   "name": "python",
   "nbconvert_exporter": "python",
   "pygments_lexer": "ipython3",
   "version": "3.6.2"
  }
 },
 "nbformat": 4,
 "nbformat_minor": 4
}
