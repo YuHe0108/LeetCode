{
 "cells": [
  {
   "cell_type": "code",
   "execution_count": null,
   "metadata": {},
   "outputs": [],
   "source": []
  },
  {
   "cell_type": "code",
   "execution_count": null,
   "metadata": {},
   "outputs": [],
   "source": []
  },
  {
   "cell_type": "code",
   "execution_count": null,
   "metadata": {},
   "outputs": [],
   "source": []
  },
  {
   "cell_type": "code",
   "execution_count": 25,
   "metadata": {},
   "outputs": [],
   "source": [
    "from collections import deque\n",
    "class Solution:\n",
    "    def minNumberOfFrogs(self, croakOfFrogs: str) -> int:\n",
    "        nc = nr = no = na = nk = 0\n",
    "        cnt = -float('inf')\n",
    "        for i, a in enumerate(croakOfFrogs):\n",
    "            if a == 'c':\n",
    "                nc += 1\n",
    "            elif a == 'r' and nc > nr:\n",
    "                nr += 1\n",
    "            elif a == 'o' and nr > no:\n",
    "                no += 1\n",
    "            elif a == 'a' and no > na:\n",
    "                na += 1\n",
    "            elif a == 'k' and na > nk:\n",
    "                cnt = max(cnt, nc)\n",
    "                nc, nr, no, na = nc-1, nr-1, no-1, na-1\n",
    "            else:\n",
    "                return -1\n",
    "        if nc == nr == no == na == nk == 0:\n",
    "            return cnt\n",
    "        return -1"
   ]
  },
  {
   "cell_type": "code",
   "execution_count": 26,
   "metadata": {},
   "outputs": [
    {
     "data": {
      "text/plain": [
       "1"
      ]
     },
     "execution_count": 26,
     "metadata": {},
     "output_type": "execute_result"
    }
   ],
   "source": [
    "solution = Solution()\n",
    "solution.minNumberOfFrogs(croakOfFrogs = \"croakcroak\")"
   ]
  },
  {
   "cell_type": "code",
   "execution_count": null,
   "metadata": {},
   "outputs": [],
   "source": []
  }
 ],
 "metadata": {
  "kernelspec": {
   "display_name": "Python 3",
   "language": "python",
   "name": "python3"
  },
  "language_info": {
   "codemirror_mode": {
    "name": "ipython",
    "version": 3
   },
   "file_extension": ".py",
   "mimetype": "text/x-python",
   "name": "python",
   "nbconvert_exporter": "python",
   "pygments_lexer": "ipython3",
   "version": "3.6.2"
  }
 },
 "nbformat": 4,
 "nbformat_minor": 4
}
