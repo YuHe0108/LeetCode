{
 "cells": [
  {
   "cell_type": "code",
   "execution_count": null,
   "metadata": {},
   "outputs": [],
   "source": []
  },
  {
   "cell_type": "code",
   "execution_count": null,
   "metadata": {},
   "outputs": [],
   "source": []
  },
  {
   "cell_type": "code",
   "execution_count": 16,
   "metadata": {},
   "outputs": [],
   "source": [
    "class Solution:\n",
    "    def maxProfit(self, prices) -> int:\n",
    "        if not prices:\n",
    "            return 0\n",
    "        n = len(prices)\n",
    "        dp = [0] * (n + 1)\n",
    "        dp[1] = 0\n",
    "        min_price = prices[0]\n",
    "        for i in range(1, n):\n",
    "            if prices[i] < min_price:\n",
    "                min_price = prices[i]\n",
    "                dp[i] = 0\n",
    "            else:\n",
    "                dp[i] = prices[i] - min_price\n",
    "        print(dp, min_price)\n",
    "        return max(dp)"
   ]
  },
  {
   "cell_type": "code",
   "execution_count": 17,
   "metadata": {},
   "outputs": [
    {
     "name": "stdout",
     "output_type": "stream",
     "text": [
      "[0, 0, 4, 2, 5, 3, 0] 1\n"
     ]
    },
    {
     "data": {
      "text/plain": [
       "5"
      ]
     },
     "execution_count": 17,
     "metadata": {},
     "output_type": "execute_result"
    }
   ],
   "source": [
    "solution = Solution()\n",
    "solution.maxProfit([7,1,5,3,6,4])"
   ]
  },
  {
   "cell_type": "code",
   "execution_count": null,
   "metadata": {},
   "outputs": [],
   "source": [
    "class Solution:\n",
    "    def maxProfit(self, prices) -> int:\n",
    "        n = len(prices)\n",
    "        dp = [-float('inf')] * (n + 1)\n",
    "        dp[0] = 0 # 第 0 天没买也没卖\n",
    "        dp[1] = -prices[0]\n",
    "        prices = [0] + prices\n",
    "        for i in range(2, n+1):\n",
    "            dp[i] = max(dp[i-1] + prices[i], -prices[i], dp[i])\n",
    "        print(dp)\n",
    "        return max(dp)"
   ]
  }
 ],
 "metadata": {
  "kernelspec": {
   "display_name": "Python 3",
   "language": "python",
   "name": "python3"
  },
  "language_info": {
   "codemirror_mode": {
    "name": "ipython",
    "version": 3
   },
   "file_extension": ".py",
   "mimetype": "text/x-python",
   "name": "python",
   "nbconvert_exporter": "python",
   "pygments_lexer": "ipython3",
   "version": "3.6.2"
  }
 },
 "nbformat": 4,
 "nbformat_minor": 4
}
