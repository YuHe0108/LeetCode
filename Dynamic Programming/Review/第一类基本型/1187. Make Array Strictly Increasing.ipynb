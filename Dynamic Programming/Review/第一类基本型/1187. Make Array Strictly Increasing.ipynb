{
 "cells": [
  {
   "cell_type": "code",
   "execution_count": null,
   "metadata": {},
   "outputs": [],
   "source": []
  },
  {
   "cell_type": "code",
   "execution_count": null,
   "metadata": {},
   "outputs": [],
   "source": []
  },
  {
   "cell_type": "code",
   "execution_count": 44,
   "metadata": {},
   "outputs": [],
   "source": [
    "import bisect\n",
    "\n",
    "class Solution:\n",
    "    def makeArrayIncreasing(self, arr1, arr2):\n",
    "        arr2.sort()\n",
    "        n1, n2 = len(arr1), len(arr2)\n",
    "        \n",
    "        # dp[i][j] 表示对于 arr1 的第 i 个数字，使用 j 此交换得到的最小值\n",
    "        # 因为arr[i]越小，越容易构成递增数组\n",
    "        dp = [[float('inf')] * (n1 + 1) for _ in range(n1 + 1)]\n",
    "        dp[0][0] = -float('inf') # 对于第零个数字，不经过交换，可以初始化为最小值\n",
    "        arr1.insert(0, 0)\n",
    "        for i in range(1, n1+1):\n",
    "            for k in range(i+1): # 对于 arr[:i]的数字，最多经过 i 次变换\n",
    "                # 我们可以不进行替换，只要 arr1[i] > dp[i-1][k] 的值就可以\n",
    "                if arr1[i] > dp[i-1][k]:\n",
    "                    # 我们进行 k 次替换，如果这次不替换，那么我们就要从 k-1 轮次看\n",
    "                    dp[i][k] = min(dp[i][k], arr1[i]) \n",
    "                \n",
    "                # 我们也可以进行替换，主要有大于arr1[i-1]  的值，就可以进行替换\n",
    "                idx = bisect.bisect_right(arr2, dp[i-1][k-1])\n",
    "                if idx != len(arr2):\n",
    "                    dp[i][k] = min(dp[i][k], arr2[idx])\n",
    "                    \n",
    "        for i, v in enumerate(dp[-1]):\n",
    "            if v != float('inf'):\n",
    "                return i\n",
    "        return -1"
   ]
  },
  {
   "cell_type": "code",
   "execution_count": 45,
   "metadata": {},
   "outputs": [
    {
     "data": {
      "text/plain": [
       "1"
      ]
     },
     "execution_count": 45,
     "metadata": {},
     "output_type": "execute_result"
    }
   ],
   "source": [
    "solution = Solution()\n",
    "solution.makeArrayIncreasing(arr1 = [1,5,3,6,7], arr2 = [1,3,2,4])"
   ]
  },
  {
   "cell_type": "code",
   "execution_count": 15,
   "metadata": {},
   "outputs": [
    {
     "data": {
      "text/plain": [
       "4"
      ]
     },
     "execution_count": 15,
     "metadata": {},
     "output_type": "execute_result"
    }
   ],
   "source": [
    "a = [1, 2, 3, 4]\n",
    "bisect.bisect_right(a, 4)"
   ]
  },
  {
   "cell_type": "code",
   "execution_count": null,
   "metadata": {},
   "outputs": [],
   "source": []
  }
 ],
 "metadata": {
  "kernelspec": {
   "display_name": "Python 3",
   "language": "python",
   "name": "python3"
  },
  "language_info": {
   "codemirror_mode": {
    "name": "ipython",
    "version": 3
   },
   "file_extension": ".py",
   "mimetype": "text/x-python",
   "name": "python",
   "nbconvert_exporter": "python",
   "pygments_lexer": "ipython3",
   "version": "3.6.2"
  }
 },
 "nbformat": 4,
 "nbformat_minor": 4
}
