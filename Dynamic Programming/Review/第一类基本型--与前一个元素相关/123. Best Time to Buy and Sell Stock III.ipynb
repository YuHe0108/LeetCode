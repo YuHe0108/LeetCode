{
 "cells": [
  {
   "cell_type": "code",
   "execution_count": null,
   "metadata": {},
   "outputs": [],
   "source": []
  },
  {
   "cell_type": "code",
   "execution_count": null,
   "metadata": {},
   "outputs": [],
   "source": []
  },
  {
   "cell_type": "code",
   "execution_count": 34,
   "metadata": {},
   "outputs": [],
   "source": [
    "class Solution:\n",
    "    def maxProfit(self, prices):\n",
    "        # 一共会有四个状态变量\n",
    "        # hold1: 手头有一支股票, sold1: 卖出一只股票\n",
    "        # hold2: 手头有第二支股票, sold2：卖出第二只股票\n",
    "        hold1, sold1, hold2, sold2 = -float('inf'), 0, -float('inf'), 0\n",
    "        for p in prices:\n",
    "            # temp——存储的是上一天的变量\n",
    "            temp_hold1, temp_sold1, temp_hold2, temp_sold2 = hold1, sold1, hold2, sold2 \n",
    "            # 继续保持昨天的，或者买入一只股票，第一天肯定会买入一只股票，但是买入一支之后，肯定不能买入第二支\n",
    "            # 因为第二支股票 hold1 变得更小，而 max 函数只能保证最大的那个\n",
    "            hold1 = max(0 - p, temp_hold1)\n",
    "            # 上次买的，这次卖出去，或者不卖, 不卖的最大收益是 0\n",
    "            sold1 = max(temp_hold1 + p, temp_sold1)\n",
    "            # 第二次 hold 的钱可以是 上一次卖出的，或者保持上一次持有\n",
    "            hold2 = max(temp_sold1 - p, temp_hold2)\n",
    "            # 卖出去\n",
    "            sold2 = max(temp_hold2 + p, temp_sold2)\n",
    "            print(hold1, sold1, hold2, sold2)\n",
    "        return max(sold1, sold2)"
   ]
  },
  {
   "cell_type": "code",
   "execution_count": 35,
   "metadata": {},
   "outputs": [
    {
     "name": "stdout",
     "output_type": "stream",
     "text": [
      "-3 0 -3 0\n",
      "-2 0 -2 0\n",
      "-2 4 -2 4\n",
      "-2 4 -1 4\n",
      "0 4 4 4\n",
      "0 4 4 7\n"
     ]
    },
    {
     "data": {
      "text/plain": [
       "7"
      ]
     },
     "execution_count": 35,
     "metadata": {},
     "output_type": "execute_result"
    }
   ],
   "source": [
    "solution = Solution()\n",
    "solution.maxProfit([3,2,6,5,0,3])"
   ]
  },
  {
   "cell_type": "code",
   "execution_count": null,
   "metadata": {},
   "outputs": [],
   "source": []
  }
 ],
 "metadata": {
  "kernelspec": {
   "display_name": "Python 3",
   "language": "python",
   "name": "python3"
  },
  "language_info": {
   "codemirror_mode": {
    "name": "ipython",
    "version": 3
   },
   "file_extension": ".py",
   "mimetype": "text/x-python",
   "name": "python",
   "nbconvert_exporter": "python",
   "pygments_lexer": "ipython3",
   "version": "3.6.2"
  }
 },
 "nbformat": 4,
 "nbformat_minor": 4
}
