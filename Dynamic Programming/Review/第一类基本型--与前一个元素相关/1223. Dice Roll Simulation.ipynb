{
 "cells": [
  {
   "cell_type": "code",
   "execution_count": null,
   "metadata": {},
   "outputs": [],
   "source": []
  },
  {
   "cell_type": "markdown",
   "metadata": {},
   "source": [
    "#### 不能连续出现 k 次相同的数字"
   ]
  },
  {
   "cell_type": "code",
   "execution_count": 41,
   "metadata": {},
   "outputs": [],
   "source": [
    "import copy\n",
    "\n",
    "class Solution:\n",
    "    def dieSimulator(self, n: int, rollMax):\n",
    "        mod_val = pow(10, 9) + 7\n",
    "        # dp[j][k] 数字j，连续出现 k 次的可能性有多少\n",
    "        dp = [[0] * (1 + n) for _ in range(1 + 6)]\n",
    "        for i in range(6+1):\n",
    "            dp[i][0] = 1\n",
    "        \n",
    "        rollMax.insert(0, 0)\n",
    "        for i in range(1, n + 1):\n",
    "            t_dp = copy.deepcopy(dp)\n",
    "            for k in range(i+1): # 第 i 轮，那么能够连续出现某个数字最多为 i 次\n",
    "                for j in range(1, 6+1):\n",
    "                    if k > rollMax[j]: # 连续出现的次数超过限制\n",
    "                        continue\n",
    "                    if k == 1:\n",
    "                        for m in range(1, 6+1):\n",
    "                            if m == j:\n",
    "                                continue\n",
    "                            t_dp[j][k] += dp[m][0]\n",
    "                    else:\n",
    "                        # 第i轮，连续出现 k 个 j, 有连续 i-1 个 j，在第i个位置，再加一个 j\n",
    "                        t_dp[j][k] += dp[j][k-1]\n",
    "            dp = t_dp\n",
    "        sum_val = 0\n",
    "        for i in range(1, 6 + 1):\n",
    "            sum_val += sum(dp[i])\n",
    "        print(sum_val)\n",
    "        print(dp)\n",
    "        return sum_val % mod_val"
   ]
  },
  {
   "cell_type": "code",
   "execution_count": 51,
   "metadata": {},
   "outputs": [],
   "source": [
    "import copy\n",
    "\n",
    "class Solution:\n",
    "    def dieSimulator(self, n: int, rollMax):\n",
    "        mod_val = pow(10, 9) + 7\n",
    "        # dp[j][k] 数字j，连续出现 k 次的可能性有多少\n",
    "        dp = [[0] * (1 + n) for _ in range(1 + 6)]\n",
    "        for i in range(6+1):\n",
    "            dp[i][1] = 1\n",
    "        \n",
    "        rollMax.insert(0, 0)\n",
    "        for i in range(2, n + 1):\n",
    "            t_dp = copy.deepcopy(dp)\n",
    "            for j in range(1, 6 + 1):\n",
    "                for k in range(i+1): # 第 i 轮，那么能够连续出现某个数字最多为 i 次\n",
    "                    if k > rollMax[j]:\n",
    "                        continue\n",
    "                    if k == 1:\n",
    "                        for m in range(1, 6+1):\n",
    "                            if m == j:\n",
    "                                continue\n",
    "                            for kk in range(i):\n",
    "                                if kk > rollMax[m]:\n",
    "                                    continue\n",
    "                                t_dp[j][k] += dp[m][kk]\n",
    "                    else:\n",
    "                        t_dp[j][k] += dp[j][k-1] # 第i轮，连续出现 k 个 j, 有连续 i-1 个 j，在第i个位置，再加一个 j\n",
    "            dp = t_dp\n",
    "        sum_val = 0\n",
    "        for i in range(1, 6 + 1):\n",
    "            sum_val += sum(dp[i])\n",
    "        print(sum_val)\n",
    "        print(dp)\n",
    "        return sum_val % mod_val"
   ]
  },
  {
   "cell_type": "code",
   "execution_count": null,
   "metadata": {},
   "outputs": [],
   "source": []
  },
  {
   "cell_type": "code",
   "execution_count": null,
   "metadata": {},
   "outputs": [],
   "source": []
  },
  {
   "cell_type": "code",
   "execution_count": 61,
   "metadata": {},
   "outputs": [],
   "source": [
    "import copy\n",
    "\n",
    "class Solution:\n",
    "    def dieSimulator(self, n: int, rollMax):\n",
    "        mod_val = pow(10, 9) + 7\n",
    "        # dp[j][k] 数字j，连续出现 k 次的可能性有多少\n",
    "        dp = [[0] * (1 + n) for _ in range(1 + 6)]\n",
    "        for i in range(1, 6 + 1):\n",
    "            dp[i][1] = 1\n",
    "        \n",
    "        rollMax.insert(0, 0)\n",
    "        for i in range(2, n + 1):\n",
    "            t_dp = copy.deepcopy(dp)\n",
    "            for j in range(1, 7):\n",
    "                for k in range(1, i + 1): # 第 i 轮，那么能够连续出现某个数字最多为 i 次\n",
    "                    if k > rollMax[j]:\n",
    "                        break\n",
    "                    if k == 1:\n",
    "                        for m in range(1, 7):\n",
    "                            if m == j:\n",
    "                                continue\n",
    "                            for kk in range(1, i):\n",
    "                                t_dp[j][k] += dp[m][kk]\n",
    "                    else:\n",
    "                        t_dp[j][k] += dp[j][k-1] # 第i轮，连续出现 k 个 j, 有连续 i-1 个 j，在第i个位置，再加一个 j\n",
    "            dp = t_dp\n",
    "        sum_val = 0\n",
    "        for i in range(1, 7):\n",
    "            sum_val += sum(dp[i])\n",
    "        print(sum_val)\n",
    "        print(dp)\n",
    "        return sum_val % mod_val"
   ]
  },
  {
   "cell_type": "code",
   "execution_count": 62,
   "metadata": {},
   "outputs": [
    {
     "name": "stdout",
     "output_type": "stream",
     "text": [
      "40\n",
      "[[0, 0, 0], [0, 6, 0], [0, 6, 0], [0, 6, 1], [0, 6, 1], [0, 6, 1], [0, 6, 1]]\n"
     ]
    },
    {
     "data": {
      "text/plain": [
       "40"
      ]
     },
     "execution_count": 62,
     "metadata": {},
     "output_type": "execute_result"
    }
   ],
   "source": [
    "solution = Solution()\n",
    "solution.dieSimulator(n = 2, rollMax = [1,1,2,2,2,3])"
   ]
  },
  {
   "cell_type": "code",
   "execution_count": null,
   "metadata": {},
   "outputs": [],
   "source": []
  },
  {
   "cell_type": "code",
   "execution_count": null,
   "metadata": {},
   "outputs": [],
   "source": [
    "class Solution:\n",
    "    def dieSimulator(self, n: int, rollMax: List[int]) -> int:\n",
    "        M = pow(10, 9) + 7\n",
    "        rollMax = [0] + rollMax\n",
    "        dp = [[[0] * (15 + 1) for _ in range(6 + 1)] for _ in range(n + 1)]\n",
    "        \n",
    "        # 抛第一次骰子，出现数字 i 的次数\n",
    "        for i in range(1, 6 + 1):\n",
    "            dp[1][i][1] = 1\n",
    "        \n",
    "        for i in range(2, n + 1): # 第 i 次抛\n",
    "            for j in range(1, 6 + 1): # 得到骰子的num数\n",
    "                for k in range(1, rollMax[j] + 1): # 这个数字第 k次出现\n",
    "                    if k > 1:\n",
    "                        dp[i][j][k] = dp[i-1][j][k-1]\n",
    "                    else:\n",
    "                        for jj in range(1, 6 + 1):\n",
    "                            for kk in range(1, rollMax[jj] + 1):\n",
    "                                if jj != j:\n",
    "                                    dp[i][j][k] += dp[i-1][jj][kk]\n",
    "        \n",
    "        res = 0\n",
    "        for i in range(1, 7):\n",
    "            for j in range(1, rollMax[i] + 1):\n",
    "                res += dp[n][i][j]\n",
    "        return res % M"
   ]
  },
  {
   "cell_type": "code",
   "execution_count": null,
   "metadata": {},
   "outputs": [],
   "source": []
  },
  {
   "cell_type": "code",
   "execution_count": null,
   "metadata": {},
   "outputs": [],
   "source": []
  },
  {
   "cell_type": "code",
   "execution_count": 65,
   "metadata": {},
   "outputs": [],
   "source": [
    "class Solution:\n",
    "    def dieSimulator(self, n: int, rollMax):\n",
    "        mod_val = pow(10, 9 + 7)\n",
    "        dp = [[ 0 for _ in range(6)] for _ in range(n+1)]\n",
    "\n",
    "        for i in range(1, n+1):\n",
    "            for j in range(6):\n",
    "                start = max(i - rollMax[j], 0)\n",
    "                for k in range(start, i):\n",
    "                    if k == 0:\n",
    "                        dp[i][j] = 1\n",
    "                        continue\n",
    "                    for m in range(6):\n",
    "                        if m != j:\n",
    "                            dp[i][j] += dp[k][m]\n",
    "                            dp[i][j] %= mod_val\n",
    "        ans = 0\n",
    "        for i in range(6):\n",
    "            ans += dp[n][i]\n",
    "            ans %= mod_val\n",
    "        return ans"
   ]
  },
  {
   "cell_type": "code",
   "execution_count": 66,
   "metadata": {},
   "outputs": [
    {
     "data": {
      "text/plain": [
       "34"
      ]
     },
     "execution_count": 66,
     "metadata": {},
     "output_type": "execute_result"
    }
   ],
   "source": [
    "solution = Solution()\n",
    "solution.dieSimulator(n = 2, rollMax = [1,1,2,2,2,3])"
   ]
  },
  {
   "cell_type": "code",
   "execution_count": null,
   "metadata": {},
   "outputs": [],
   "source": []
  }
 ],
 "metadata": {
  "kernelspec": {
   "display_name": "Python 3",
   "language": "python",
   "name": "python3"
  },
  "language_info": {
   "codemirror_mode": {
    "name": "ipython",
    "version": 3
   },
   "file_extension": ".py",
   "mimetype": "text/x-python",
   "name": "python",
   "nbconvert_exporter": "python",
   "pygments_lexer": "ipython3",
   "version": "3.6.2"
  }
 },
 "nbformat": 4,
 "nbformat_minor": 4
}
