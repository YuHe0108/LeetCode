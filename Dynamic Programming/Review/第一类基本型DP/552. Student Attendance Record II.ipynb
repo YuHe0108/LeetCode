{
 "cells": [
  {
   "cell_type": "code",
   "execution_count": null,
   "metadata": {},
   "outputs": [],
   "source": []
  },
  {
   "cell_type": "code",
   "execution_count": null,
   "metadata": {},
   "outputs": [],
   "source": []
  },
  {
   "cell_type": "raw",
   "metadata": {},
   "source": [
    "N = 3\n",
    "    第三个字母可以放 P、L、A\n",
    "    P:\n",
    "       dp[i-1][P] + dp[i-1][L] + dp[i-1][A]\n",
    "    L:\n",
    "       # dp[i-1][L]\n",
    "       dp[i-1][P] + dp[i-1][L] + dp[i-1][A]\n",
    "    A:\n",
    "       dp[i-1][P] + dp[i-1][L]"
   ]
  },
  {
   "cell_type": "code",
   "execution_count": 1,
   "metadata": {},
   "outputs": [],
   "source": [
    "class Solution:\n",
    "    def checkRecord(self, n: int) -> int:\n",
    "        mod = pow(10, 9) + 7\n",
    "        # 把问题分成两个子问题，\n",
    "        # 1、不出现两个A\n",
    "        # 定义两个状态： \n",
    "        #  no_a:   在i-1之前，没有出现过A，\n",
    "        #  once_a: 在i-1 之前，出现过一次 A\n",
    "        no_a, once_a = 1, 0 \n",
    "        for i in range(1, n+1):\n",
    "            t_no_a, t_once_a = no_a, once_a\n",
    "            no_a = t_no_a * 2 # no_a 表示之前没有A，现在也没有A，那么当前我可以选择 P 和 L，有两个选择，所以 * 2\n",
    "            once_a = t_no_a + once_a * 2 # 之前没有 A，第i个位置加上一个A，之前有A，现在我可以加 P 和 L\n",
    "        \n",
    "        no_l, one_l, two_l = 1, 0, 0 # 最后一位有0个L、1个L、2个L\n",
    "        for i in range(1, n+1):\n",
    "            t_no_l, t_one_l, t_two_l = no_l, one_l, two_l\n",
    "            no_l = (t_no_l + t_one_l + t_two_l) * 2 # 第i位置不是L，那么i-1个位置，可以是任何可能，i个位置可以是A或者P，两种选择\n",
    "            one_l = t_no_l\n",
    "            two_l = t_one_l\n",
    "        return "
   ]
  },
  {
   "cell_type": "code",
   "execution_count": 17,
   "metadata": {},
   "outputs": [],
   "source": [
    "class Solution:\n",
    "    def checkRecord(self, n: int) -> int:\n",
    "        mod = pow(10, 9) + 7\n",
    "        # 定义 6 个状态\n",
    "        # dp00 dp01 dp02: 没有A，以0个L、1个L、2个L结尾\n",
    "        # dp01 dp11 dp12: 有一个A，以0个L、1个L、2个L结尾\n",
    "        dp00, dp01, dp02, dp10, dp11, dp12 = 1, 0, 0, 0, 0, 0\n",
    "        \n",
    "        for i in range(1, n + 1):\n",
    "            t_dp00, t_dp01, t_dp02, t_dp10, t_dp11, t_dp12 = dp00, dp01, dp02, dp10, dp11, dp12\n",
    "            dp00 = (t_dp00 + t_dp01 + t_dp02) % mod # 没有A、0个L，只能原来就没有A，原来i-1个位置无所谓有没有L，反正我i位置没有L\n",
    "            dp01 = t_dp00 % mod\n",
    "            dp02 = t_dp01 % mod\n",
    "            dp10 = ((t_dp10 + t_dp11 + t_dp12) + (t_dp00 + t_dp01 + t_dp02)) % mod # 原来就有A，或者我i位置加了A\n",
    "            dp11 = (t_dp10) % mod\n",
    "            dp12 = (t_dp11) % mod\n",
    "        return (dp00 + dp01 + dp02 + dp10 + dp11 + dp12) % mod"
   ]
  },
  {
   "cell_type": "code",
   "execution_count": 18,
   "metadata": {},
   "outputs": [
    {
     "data": {
      "text/plain": [
       "8"
      ]
     },
     "execution_count": 18,
     "metadata": {},
     "output_type": "execute_result"
    }
   ],
   "source": [
    "solution = Solution()\n",
    "solution.checkRecord(2)"
   ]
  },
  {
   "cell_type": "code",
   "execution_count": null,
   "metadata": {},
   "outputs": [],
   "source": []
  }
 ],
 "metadata": {
  "kernelspec": {
   "display_name": "Python 3",
   "language": "python",
   "name": "python3"
  },
  "language_info": {
   "codemirror_mode": {
    "name": "ipython",
    "version": 3
   },
   "file_extension": ".py",
   "mimetype": "text/x-python",
   "name": "python",
   "nbconvert_exporter": "python",
   "pygments_lexer": "ipython3",
   "version": "3.6.2"
  }
 },
 "nbformat": 4,
 "nbformat_minor": 4
}
