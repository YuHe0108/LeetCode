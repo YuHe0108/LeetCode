{
 "cells": [
  {
   "cell_type": "code",
   "execution_count": null,
   "metadata": {},
   "outputs": [],
   "source": []
  },
  {
   "cell_type": "code",
   "execution_count": null,
   "metadata": {},
   "outputs": [],
   "source": []
  },
  {
   "cell_type": "code",
   "execution_count": 45,
   "metadata": {},
   "outputs": [],
   "source": [
    "class Solution:\n",
    "    def maxSizeSlices(self, slices) -> int:\n",
    "        def helper(nums):\n",
    "            f = [0] * (K + 1)\n",
    "            g = [0] * (K + 1)\n",
    "            for i in range(n-1):\n",
    "                for j in range(min(K, i + 1), 0, -1):\n",
    "                    g[j] = max(g[j], f[j])\n",
    "                    f[j] = g[j-1] + nums[i]\n",
    "            return max(f[-1], g[-1])\n",
    "        \n",
    "        n = len(slices)\n",
    "        K = n // 3\n",
    "        return max(helper(slices[1:]), helper(slices[:-1]))"
   ]
  },
  {
   "cell_type": "code",
   "execution_count": 46,
   "metadata": {},
   "outputs": [
    {
     "data": {
      "text/plain": [
       "10"
      ]
     },
     "execution_count": 46,
     "metadata": {},
     "output_type": "execute_result"
    }
   ],
   "source": [
    "solution = Solution()\n",
    "solution.maxSizeSlices([1,2,3,4,5,6])"
   ]
  },
  {
   "cell_type": "code",
   "execution_count": null,
   "metadata": {},
   "outputs": [],
   "source": []
  },
  {
   "cell_type": "code",
   "execution_count": 4,
   "metadata": {},
   "outputs": [],
   "source": [
    "class Solution:\n",
    "    def maxSizeSlices(self, slices):\n",
    "        def helper(nums):\n",
    "            m = len(nums)\n",
    "            dp = [[0] * (1+k) for _ in range(1+m)] # dp[n][k] 表示每个人最多只能拿 k 个的时候，最大值是多少\n",
    "            nums = [0] + nums\n",
    "            for i in range(1, m+1):\n",
    "                for j in range(1, k+1):\n",
    "                    v = nums[i]\n",
    "                    # i-2: 表示如果我拿了 i-th ，那么i-1的数字就不能拿，那么之前的最高得分就是 i-2这个位置 dp[i-1][j-1]\n",
    "                    # i-1: 表示 i-th 位置我不拿，那么我就能目前最高的分数就是 dp[i-1][j]\n",
    "                    sol_2 = 0 if i < 2 else dp[i-2][j-1]\n",
    "                    dp[i][j] = max(dp[i][j], dp[i-1][j],  sol_2 + v)\n",
    "            return dp[-1][-1]\n",
    "        \n",
    "        n = len(slices)\n",
    "        k = n // 3\n",
    "        return max(helper(slices[1:]), helper(slices[:-1]))"
   ]
  },
  {
   "cell_type": "code",
   "execution_count": 5,
   "metadata": {},
   "outputs": [
    {
     "name": "stdout",
     "output_type": "stream",
     "text": [
      "[0, 2, 3, 4, 5, 6]\n",
      "[0, 1, 2, 3, 4, 5]\n"
     ]
    },
    {
     "data": {
      "text/plain": [
       "10"
      ]
     },
     "execution_count": 5,
     "metadata": {},
     "output_type": "execute_result"
    }
   ],
   "source": [
    "solution = Solution()\n",
    "solution.maxSizeSlices([1,2,3,4,5,6])"
   ]
  },
  {
   "cell_type": "code",
   "execution_count": null,
   "metadata": {},
   "outputs": [],
   "source": []
  },
  {
   "cell_type": "code",
   "execution_count": null,
   "metadata": {},
   "outputs": [],
   "source": []
  },
  {
   "cell_type": "code",
   "execution_count": 1,
   "metadata": {},
   "outputs": [],
   "source": [
    "a = pow(2, 31)"
   ]
  },
  {
   "cell_type": "code",
   "execution_count": 2,
   "metadata": {},
   "outputs": [
    {
     "data": {
      "text/plain": [
       "2147483648"
      ]
     },
     "execution_count": 2,
     "metadata": {},
     "output_type": "execute_result"
    }
   ],
   "source": [
    "a"
   ]
  },
  {
   "cell_type": "code",
   "execution_count": null,
   "metadata": {},
   "outputs": [],
   "source": []
  }
 ],
 "metadata": {
  "kernelspec": {
   "display_name": "Python 3",
   "language": "python",
   "name": "python3"
  },
  "language_info": {
   "codemirror_mode": {
    "name": "ipython",
    "version": 3
   },
   "file_extension": ".py",
   "mimetype": "text/x-python",
   "name": "python",
   "nbconvert_exporter": "python",
   "pygments_lexer": "ipython3",
   "version": "3.6.2"
  }
 },
 "nbformat": 4,
 "nbformat_minor": 4
}
