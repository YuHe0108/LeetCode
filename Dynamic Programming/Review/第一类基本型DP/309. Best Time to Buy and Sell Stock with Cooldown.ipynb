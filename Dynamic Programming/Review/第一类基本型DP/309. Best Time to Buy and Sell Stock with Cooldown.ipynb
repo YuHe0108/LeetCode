{
 "cells": [
  {
   "cell_type": "code",
   "execution_count": null,
   "metadata": {},
   "outputs": [],
   "source": []
  },
  {
   "cell_type": "code",
   "execution_count": null,
   "metadata": {},
   "outputs": [],
   "source": []
  },
  {
   "cell_type": "code",
   "execution_count": 26,
   "metadata": {},
   "outputs": [],
   "source": [
    "class Solution:\n",
    "    def maxProfit(self, prices):\n",
    "        n = len(prices)\n",
    "        # 假设有三个状态：\n",
    "        # hold: hold = max(-p, old_hold) \n",
    "        # sold: sold = max(hold + p, sold)\n",
    "        # cold: cold = sold\n",
    "        hold, sold, cold = -float('inf'), 0, 0\n",
    "        for p in prices:\n",
    "            t_h, t_s, t_c = hold, sold, cold\n",
    "            hold = max(-p + t_c, t_h)\n",
    "            sold = max(t_h + p, t_s)\n",
    "            cold = max(t_s, t_c)\n",
    "        return max(hold, sold, cold)"
   ]
  },
  {
   "cell_type": "code",
   "execution_count": 27,
   "metadata": {},
   "outputs": [
    {
     "data": {
      "text/plain": [
       "3"
      ]
     },
     "execution_count": 27,
     "metadata": {},
     "output_type": "execute_result"
    }
   ],
   "source": [
    "solution = Solution()\n",
    "solution.maxProfit([1,2,3,0,2])"
   ]
  },
  {
   "cell_type": "code",
   "execution_count": null,
   "metadata": {},
   "outputs": [],
   "source": [
    "class Solution:\n",
    "    def maxProfit(self, prices):\n",
    "        n = len(prices)\n",
    "        dp = [0] * (n + 1)\n",
    "        dp[1] = -prices[0] # 第一天股票的价格，假设买入\n",
    "        prices.insert(0, 0)\n",
    "        for i in range(2, n + 1): # 第二天可以卖出\n",
    "            dp[i] = max(dp[i], dp[i-2] + dp[i-1] + prices[i])\n",
    "        print(dp)\n",
    "        return max(dp)"
   ]
  }
 ],
 "metadata": {
  "kernelspec": {
   "display_name": "Python 3",
   "language": "python",
   "name": "python3"
  },
  "language_info": {
   "codemirror_mode": {
    "name": "ipython",
    "version": 3
   },
   "file_extension": ".py",
   "mimetype": "text/x-python",
   "name": "python",
   "nbconvert_exporter": "python",
   "pygments_lexer": "ipython3",
   "version": "3.6.2"
  }
 },
 "nbformat": 4,
 "nbformat_minor": 4
}
