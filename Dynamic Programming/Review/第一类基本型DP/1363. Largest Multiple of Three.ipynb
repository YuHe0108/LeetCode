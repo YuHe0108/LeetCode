{
 "cells": [
  {
   "cell_type": "code",
   "execution_count": null,
   "metadata": {},
   "outputs": [],
   "source": []
  },
  {
   "cell_type": "code",
   "execution_count": null,
   "metadata": {},
   "outputs": [],
   "source": [
    "class Solution:\n",
    "    def largestMultipleOfThree(self, digits):\n",
    "        n = len(digits)\n",
    "        digits.sort(reverse=True)\n",
    "        digits = [0] + digits\n",
    "        dp = [['#'] * 3 for _ in range(n + 1)]\n",
    "        dp[0][0] = ''\n",
    "        for i in range(1, n+1):\n",
    "            for j in range(3):\n",
    "                k = digits[i] % 3\n",
    "                n_j = (j+3-k) % 3\n",
    "                if dp[i-1][j] != '#' and dp[i-1][n_j] != '#':\n",
    "                    if len(dp[i-1][j]) >= len(dp[i-1][n_j]) + 1:\n",
    "                        dp[i][j] = dp[i-1][j]\n",
    "                    else:\n",
    "                        dp[i][j] = dp[i-1][n_j] + str(digits[i])\n",
    "                elif dp[i-1][j] != '#':\n",
    "                    dp[i][j] = dp[i-1][j]\n",
    "                elif dp[i-1][n_j] != '#':\n",
    "                    dp[i][j] = dp[i-1][n_j] + str(digits[i])\n",
    "        res = list(dp[-1][0])\n",
    "        while len(res) > 1 and res[0] == '0':\n",
    "            res.pop(0)\n",
    "        return ''.join(res)"
   ]
  },
  {
   "cell_type": "code",
   "execution_count": null,
   "metadata": {},
   "outputs": [],
   "source": []
  },
  {
   "cell_type": "code",
   "execution_count": 23,
   "metadata": {},
   "outputs": [],
   "source": [
    "class Solution:\n",
    "    def largestMultipleOfThree(self, digits) -> str:\n",
    "        n = len(digits)\n",
    "        dp = [[''] * 3 for _ in range(1 + n)] # dp[i][j]表示使用 digits[:i]个元素，余数为 j的最大值是多少\n",
    "        digits.insert(0, 0)\n",
    "        for i in range(1, n+1):\n",
    "            for j in range(3):\n",
    "                k = digits[i] % 3\n",
    "                s_n = str(digits[i])\n",
    "                dp[i][j] = max(dp[i][j], dp[i-1][abs(j - k)] + s_n, dp[i-1][j])\n",
    "        return dp"
   ]
  },
  {
   "cell_type": "code",
   "execution_count": null,
   "metadata": {},
   "outputs": [],
   "source": []
  },
  {
   "cell_type": "code",
   "execution_count": null,
   "metadata": {},
   "outputs": [],
   "source": []
  },
  {
   "cell_type": "markdown",
   "metadata": {},
   "source": [
    "### 状态转移方程：对于第 i 个数字 digits[i]可以选择，也可以不选择\n",
    "    1、如果不选择，那么 dp[i][k] = dp[i-1][k], k表示余数，dp[i][k]表示能被3整除余数为k的最大值\n",
    "    2、如果我选择当前值，m = digits[i] % 3, dp[i][k] = dp[i-1][k-m] + digits[k]"
   ]
  },
  {
   "cell_type": "code",
   "execution_count": null,
   "metadata": {},
   "outputs": [],
   "source": []
  },
  {
   "cell_type": "code",
   "execution_count": 46,
   "metadata": {},
   "outputs": [],
   "source": [
    "class Solution:\n",
    "    def largestMultipleOfThree(self, digits) -> str:\n",
    "        n = len(digits)\n",
    "        digits.sort(reverse=True)\n",
    "        digits.insert(0, '#')\n",
    "        dp = ['', '#', '#'] # dp[i] 表示对 3 的余数\n",
    "        for i in range(1, n+1):\n",
    "            num = digits[i] # 第 i 位数字\n",
    "            k = num % 3 # 余数\n",
    "            t_dp = dp[::]\n",
    "            for j in range(3): # 表示余数\n",
    "                # 可以选择，也可以不选择\n",
    "                m = (j + 3 - k) % 3 # dp[m] 表示选择前值，dp[j] 表示不选择当前值\n",
    "                if dp[m] != '#' and dp[j] != '#': # 并且当前值都是有效的情况下，选择最大值\n",
    "                    choice = dp[m] + str(num)\n",
    "                    not_choice = dp[j]\n",
    "                    if len(choice) > len(not_choice):\n",
    "                        t_dp[j] = choice\n",
    "                    elif len(choice) < len(not_choice):\n",
    "                        t_dp[j] = not_choice\n",
    "                    else:\n",
    "                        t_dp[j] = max(choice, not_choice)\n",
    "                elif dp[m] != '#':\n",
    "                    choice = dp[m] + str(num)\n",
    "                    t_dp[j] = choice\n",
    "                elif dp[j] != '#':\n",
    "                    not_choice = dp[j]\n",
    "                    t_dp[j] = not_choice\n",
    "            dp = t_dp\n",
    "        res = list(dp[0])\n",
    "        while res and res[0] == '0':\n",
    "            res.pop(0)\n",
    "            if not res:\n",
    "                return '0'\n",
    "        return ''.join(res) if res else ''"
   ]
  },
  {
   "cell_type": "code",
   "execution_count": 47,
   "metadata": {},
   "outputs": [
    {
     "data": {
      "text/plain": [
       "8760"
      ]
     },
     "execution_count": 47,
     "metadata": {},
     "output_type": "execute_result"
    }
   ],
   "source": [
    "solution = Solution()\n",
    "solution.largestMultipleOfThree(digits = [8,6,7,1,0])"
   ]
  },
  {
   "cell_type": "code",
   "execution_count": 8,
   "metadata": {},
   "outputs": [
    {
     "data": {
      "text/plain": [
       "'2'"
      ]
     },
     "execution_count": 8,
     "metadata": {},
     "output_type": "execute_result"
    }
   ],
   "source": [
    "max('1', '2')"
   ]
  },
  {
   "cell_type": "code",
   "execution_count": 29,
   "metadata": {},
   "outputs": [
    {
     "ename": "ValueError",
     "evalue": "invalid literal for int() with base 10: ''",
     "output_type": "error",
     "traceback": [
      "\u001b[1;31m---------------------------------------------------------------------------\u001b[0m",
      "\u001b[1;31mValueError\u001b[0m                                Traceback (most recent call last)",
      "\u001b[1;32m<ipython-input-29-e4f84bb32d50>\u001b[0m in \u001b[0;36m<module>\u001b[1;34m\u001b[0m\n\u001b[1;32m----> 1\u001b[1;33m \u001b[0mint\u001b[0m\u001b[1;33m(\u001b[0m\u001b[1;34m''\u001b[0m\u001b[1;33m)\u001b[0m\u001b[1;33m\u001b[0m\u001b[0m\n\u001b[0m",
      "\u001b[1;31mValueError\u001b[0m: invalid literal for int() with base 10: ''"
     ]
    }
   ],
   "source": [
    "int('')"
   ]
  },
  {
   "cell_type": "code",
   "execution_count": null,
   "metadata": {},
   "outputs": [],
   "source": []
  }
 ],
 "metadata": {
  "kernelspec": {
   "display_name": "Python 3",
   "language": "python",
   "name": "python3"
  },
  "language_info": {
   "codemirror_mode": {
    "name": "ipython",
    "version": 3
   },
   "file_extension": ".py",
   "mimetype": "text/x-python",
   "name": "python",
   "nbconvert_exporter": "python",
   "pygments_lexer": "ipython3",
   "version": "3.6.2"
  }
 },
 "nbformat": 4,
 "nbformat_minor": 4
}
