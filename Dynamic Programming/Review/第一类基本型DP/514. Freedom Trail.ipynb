{
 "cells": [
  {
   "cell_type": "code",
   "execution_count": null,
   "metadata": {},
   "outputs": [],
   "source": []
  },
  {
   "cell_type": "code",
   "execution_count": null,
   "metadata": {},
   "outputs": [],
   "source": []
  },
  {
   "cell_type": "code",
   "execution_count": 35,
   "metadata": {},
   "outputs": [],
   "source": [
    "from collections import defaultdict\n",
    "\n",
    "class Solution:\n",
    "    def findRotateSteps(self, ring: str, key: str) -> int:\n",
    "        r_n, k_n = len(ring), len(key)\n",
    "        # dp[i][j]: 表示转到 key[i] 的位置的时候，可能ring 有多个相同的字母符合条件，j表示字母的索引下标\n",
    "        dp = [[float('inf')] * r_n for _ in range(k_n)]\n",
    "        \n",
    "        # 记录ring中，不同的字母所在的索引下表示\n",
    "        ring_dict = defaultdict(list)\n",
    "        for i, a in enumerate(ring):\n",
    "            ring_dict[a].append(i)\n",
    "        \n",
    "        # 第一个字母的转法，可以正着转、也可以反转\n",
    "        for j in ring_dict[key[0]]:\n",
    "            dp[0][j] = min(j, r_n - j)\n",
    "            \n",
    "        for i in range(1, k_n):\n",
    "            char = key[i]\n",
    "            for j in ring_dict[char]:\n",
    "                for k in ring_dict[key[i-1]]: # 上一轮字母的位置的最小值\n",
    "                    dis = abs(j - k) # 当前要转的这个字母距离上一个字符的距离\n",
    "                    dp[i][j] = min(dp[i][j], dp[i-1][k] + min(dis, r_n - dis))\n",
    "        return min(dp[-1]) + k_n"
   ]
  },
  {
   "cell_type": "code",
   "execution_count": null,
   "metadata": {},
   "outputs": [],
   "source": []
  },
  {
   "cell_type": "code",
   "execution_count": 40,
   "metadata": {},
   "outputs": [],
   "source": []
  },
  {
   "cell_type": "code",
   "execution_count": 41,
   "metadata": {},
   "outputs": [
    {
     "data": {
      "text/plain": [
       "13"
      ]
     },
     "execution_count": 41,
     "metadata": {},
     "output_type": "execute_result"
    }
   ],
   "source": [
    "solution = Solution()\n",
    "solution.findRotateSteps(\"pqwcx\", \"cpqwx\")"
   ]
  },
  {
   "cell_type": "code",
   "execution_count": null,
   "metadata": {},
   "outputs": [],
   "source": []
  }
 ],
 "metadata": {
  "kernelspec": {
   "display_name": "Python 3",
   "language": "python",
   "name": "python3"
  },
  "language_info": {
   "codemirror_mode": {
    "name": "ipython",
    "version": 3
   },
   "file_extension": ".py",
   "mimetype": "text/x-python",
   "name": "python",
   "nbconvert_exporter": "python",
   "pygments_lexer": "ipython3",
   "version": "3.6.2"
  }
 },
 "nbformat": 4,
 "nbformat_minor": 4
}
