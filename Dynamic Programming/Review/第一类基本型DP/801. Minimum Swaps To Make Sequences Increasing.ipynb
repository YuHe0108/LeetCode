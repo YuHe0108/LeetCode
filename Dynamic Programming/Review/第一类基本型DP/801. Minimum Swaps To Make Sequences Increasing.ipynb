{
 "cells": [
  {
   "cell_type": "code",
   "execution_count": null,
   "metadata": {},
   "outputs": [],
   "source": []
  },
  {
   "cell_type": "code",
   "execution_count": null,
   "metadata": {},
   "outputs": [],
   "source": []
  },
  {
   "cell_type": "code",
   "execution_count": 16,
   "metadata": {},
   "outputs": [],
   "source": [
    "class Solution:\n",
    "    def minSwap(self, A, B):\n",
    "        # 通过 dp 定义两个状态：\n",
    "        # 1、dp[i][0]：第 i 轮的时候不交换： dp[i][0] = min(dp[i-1][0], dp[i-1][1])\n",
    "        # 2、dp[i][1]: 第 i 轮的时候交换：   dp[i][1] = min(dp[i-1][0] + 1, dp[i-1][1] + 1)\n",
    "        n = len(A)\n",
    "        dp = [[float('inf')] * 2 for _ in range(1 + n)]\n",
    "        dp[1][0] = 0\n",
    "        dp[1][1] = 1\n",
    "        A, B = [0] + A, [0] + B\n",
    "        for i in range(2, n + 1):\n",
    "            if A[i] > A[i-1] and B[i] > B[i-1]: # 可交换，也可以不交换\n",
    "                dp[i][0] = min(dp[i-1][0], dp[i-1][1])\n",
    "                if B[i] > A[i-1] and A[i] > B[i-1]: # 符合条件才能交换\n",
    "                    dp[i][1] = min(dp[i-1][0], dp[i-1][1]) + 1\n",
    "            else:\n",
    "                # 不是递增序列，必须交换\n",
    "                dp[i][1] = min(dp[i-1][0], dp[i-1][1]) + 1\n",
    "        return min(dp[-1])"
   ]
  },
  {
   "cell_type": "code",
   "execution_count": null,
   "metadata": {},
   "outputs": [],
   "source": []
  },
  {
   "cell_type": "code",
   "execution_count": null,
   "metadata": {},
   "outputs": [],
   "source": []
  },
  {
   "cell_type": "code",
   "execution_count": 21,
   "metadata": {},
   "outputs": [],
   "source": [
    "class Solution:\n",
    "    def minSwap(self, A, B):\n",
    "        # 通过 dp 定义两个状态：\n",
    "        # 1、dp[i][0]：第 i 轮的时候不交换： dp[i][0] = min(dp[i-1][0], dp[i-1][1])\n",
    "        # 2、dp[i][1]: 第 i 轮的时候交换：   dp[i][1] = min(dp[i-1][0] + 1, dp[i-1][1] + 1)\n",
    "        n = len(A)\n",
    "        not_swap, swap = 0, 1\n",
    "        for i in range(1, n):\n",
    "            not_swap_pre, swap_pre = not_swap, swap\n",
    "            not_swap = swap = float('inf')\n",
    "            \n",
    "            # 这一次不交换，上次也没交换\n",
    "            if A[i] > A[i-1] and B[i] > B[i-1]: # 不需要交换\n",
    "                not_swap = min(not_swap, not_swap_pre)\n",
    "            # 这一次不交换，上次交换\n",
    "            if A[i] > B[i-1] and B[i] > A[i-1]: # 不需要交换\n",
    "                not_swap = min(not_swap, swap_pre)\n",
    "            \n",
    "            # 这一次交换，上次没交换\n",
    "            if B[i] > A[i-1] and A[i] > B[i-1]: # 需要交换\n",
    "                swap = min(swap, not_swap_pre  + 1)\n",
    "            # 这一次交换，上次交换\n",
    "            if A[i] > A[i-1] and B[i] > B[i-1]: # 需要交换\n",
    "                swap = min(swap, swap_pre  + 1)\n",
    "        return min(not_swap, swap)"
   ]
  },
  {
   "cell_type": "code",
   "execution_count": 22,
   "metadata": {},
   "outputs": [
    {
     "data": {
      "text/plain": [
       "1"
      ]
     },
     "execution_count": 22,
     "metadata": {},
     "output_type": "execute_result"
    }
   ],
   "source": [
    "solution = Solution()\n",
    "solution.minSwap([0,4,4,5,9], [0,1,6,8,10])"
   ]
  },
  {
   "cell_type": "code",
   "execution_count": null,
   "metadata": {},
   "outputs": [],
   "source": []
  }
 ],
 "metadata": {
  "kernelspec": {
   "display_name": "Python 3",
   "language": "python",
   "name": "python3"
  },
  "language_info": {
   "codemirror_mode": {
    "name": "ipython",
    "version": 3
   },
   "file_extension": ".py",
   "mimetype": "text/x-python",
   "name": "python",
   "nbconvert_exporter": "python",
   "pygments_lexer": "ipython3",
   "version": "3.6.2"
  }
 },
 "nbformat": 4,
 "nbformat_minor": 4
}
