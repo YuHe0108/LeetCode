{
 "cells": [
  {
   "cell_type": "code",
   "execution_count": null,
   "metadata": {},
   "outputs": [],
   "source": []
  },
  {
   "cell_type": "code",
   "execution_count": 18,
   "metadata": {},
   "outputs": [
    {
     "data": {
      "text/plain": [
       "1048576"
      ]
     },
     "execution_count": 18,
     "metadata": {},
     "output_type": "execute_result"
    }
   ],
   "source": [
    "pow(2, 16) * 16"
   ]
  },
  {
   "cell_type": "code",
   "execution_count": null,
   "metadata": {},
   "outputs": [],
   "source": []
  },
  {
   "cell_type": "code",
   "execution_count": null,
   "metadata": {},
   "outputs": [],
   "source": []
  },
  {
   "cell_type": "code",
   "execution_count": 95,
   "metadata": {},
   "outputs": [],
   "source": [
    "from typing import List\n",
    "from collections import Counter, defaultdict\n",
    "from itertools import combinations\n",
    "from functools import lru_cache\n",
    "\n",
    "class Solution:\n",
    "    def minimumIncompatibility(self, nums: List[int], k: int) -> int:\n",
    "        count = Counter(nums)\n",
    "        if max(count.values()) > k: # 如果某个数字的最大频率大于k，说明一定有重复的\n",
    "            return -1\n",
    "        \n",
    "        nums.sort()\n",
    "        @lru_cache(None)\n",
    "        def dp(mask):\n",
    "            if mask == (1 << n) - 1:\n",
    "                return 0\n",
    "            \n",
    "            # mask 是已经用过了哪些，can_used是还可以用哪些\n",
    "            can_used = [i for i in range(n) if ((mask >> i) & 1) == 0]\n",
    "            # 从can_used中 选出 target 的数量的数字，C(can_used, target), 组合\n",
    "            comb = list(combinations(can_used, target))\n",
    "            ans = float('inf')\n",
    "            for c in comb:\n",
    "                c = (can_used[0],) + c\n",
    "                if any(nums[a] == nums[b] for a,b in zip(c, c[1:])):\n",
    "                    continue\n",
    "                \n",
    "                new_mask = mask\n",
    "                for i in c:\n",
    "                    # c 中存放的是下标\n",
    "                    new_mask |= (1 << i)\n",
    "                ans = min(ans, dp(new_mask) + max(vals) - min(vals))\n",
    "            return ans\n",
    "        \n",
    "        n = len(nums)\n",
    "        target = n // k\n",
    "        return dp(0)"
   ]
  },
  {
   "cell_type": "code",
   "execution_count": 96,
   "metadata": {},
   "outputs": [
    {
     "data": {
      "text/plain": [
       "inf"
      ]
     },
     "execution_count": 96,
     "metadata": {},
     "output_type": "execute_result"
    }
   ],
   "source": [
    "solution = Solution()\n",
    "solution.minimumIncompatibility(nums = [1,2,1,4], k = 2)"
   ]
  },
  {
   "cell_type": "code",
   "execution_count": null,
   "metadata": {},
   "outputs": [],
   "source": []
  },
  {
   "cell_type": "code",
   "execution_count": null,
   "metadata": {},
   "outputs": [],
   "source": []
  },
  {
   "cell_type": "code",
   "execution_count": null,
   "metadata": {},
   "outputs": [],
   "source": []
  },
  {
   "cell_type": "code",
   "execution_count": null,
   "metadata": {},
   "outputs": [],
   "source": []
  },
  {
   "cell_type": "code",
   "execution_count": 101,
   "metadata": {},
   "outputs": [],
   "source": [
    "from itertools import combinations\n",
    "from functools import lru_cache\n",
    "\n",
    "class Solution:\n",
    "    def minimumIncompatibility(self, nums, k: int) -> int:\n",
    "        \n",
    "        @lru_cache(None)\n",
    "        def dp(mask):\n",
    "            if mask == (1 << n) - 1:\n",
    "                return 0\n",
    "            ans = float('inf')\n",
    "            remain = [i for i in range(n) if ((mask >> i) & 1) == 0] # 还没有选择\n",
    "            comb = list(combinations(remain, m))\n",
    "            for c in comb:\n",
    "                print(c)\n",
    "                cur_nums = set([nums[i] for i in c])\n",
    "                if len(cur_nums) < m:\n",
    "                    continue\n",
    "                \n",
    "                new_mask = mask\n",
    "                for i in c:\n",
    "                    new_mask |= (1 << i)\n",
    "                ans = min(ans, dp(new_mask) + max(cur_nums) - min(cur_nums))\n",
    "            return ans\n",
    "        \n",
    "        n = len(nums)\n",
    "        m = n // k\n",
    "        ans = dp(0)\n",
    "        return ans if ans != float('inf') else -1"
   ]
  },
  {
   "cell_type": "code",
   "execution_count": 102,
   "metadata": {},
   "outputs": [
    {
     "name": "stdout",
     "output_type": "stream",
     "text": [
      "(0, 1)\n",
      "(2, 3)\n",
      "(0, 2)\n",
      "(0, 3)\n",
      "(1, 2)\n",
      "(1, 2)\n",
      "(0, 3)\n",
      "(1, 3)\n",
      "(0, 2)\n",
      "(2, 3)\n",
      "(0, 1)\n"
     ]
    },
    {
     "data": {
      "text/plain": [
       "4"
      ]
     },
     "execution_count": 102,
     "metadata": {},
     "output_type": "execute_result"
    }
   ],
   "source": [
    "solution = Solution()\n",
    "solution.minimumIncompatibility(nums = [1,2,1,4], k = 2)"
   ]
  },
  {
   "cell_type": "code",
   "execution_count": null,
   "metadata": {},
   "outputs": [],
   "source": []
  },
  {
   "cell_type": "code",
   "execution_count": null,
   "metadata": {},
   "outputs": [],
   "source": []
  },
  {
   "cell_type": "code",
   "execution_count": null,
   "metadata": {},
   "outputs": [],
   "source": []
  },
  {
   "cell_type": "code",
   "execution_count": 113,
   "metadata": {},
   "outputs": [],
   "source": [
    "from functools import lru_cache\n",
    "import math\n",
    "\n",
    "class Solution:\n",
    "    def minimumIncompatibility(self, nums: List[int], k: int) -> int:\n",
    "        n = len(nums)\n",
    "        size = n // k\n",
    "        if size == 1:\n",
    "            return 0\n",
    "        nums.sort()\n",
    "        \n",
    "        @lru_cache(None)\n",
    "        def dp(mask):\n",
    "            available = [i for i in range(n) if ((mask >> i) & 1) == 0]\n",
    "            if not available:\n",
    "                return 0\n",
    "            \n",
    "            res = float('inf')\n",
    "            # 每组的第一个元素必定是剩下元素中最小的那个。\n",
    "            for arr in combinations(available[1:], size - 1):\n",
    "                arr = (available[0], ) + arr\n",
    "                 \n",
    "                if any(nums[a] == nums[b] for a, b in zip(arr, arr[1:])):\n",
    "                    continue\n",
    "                \n",
    "                mask2 = mask\n",
    "                for v in arr:\n",
    "                    mask2 |= (1 << v)\n",
    "                res = min(res, dp(mask2) + nums[arr[-1]] - nums[arr[0]])\n",
    "            return res\n",
    "        \n",
    "        res = dp(0)\n",
    "        return res if res != float('inf') else -1"
   ]
  },
  {
   "cell_type": "code",
   "execution_count": 114,
   "metadata": {},
   "outputs": [
    {
     "name": "stdout",
     "output_type": "stream",
     "text": [
      "[0, 1, 2, 3] (0, 1) <class 'tuple'>\n",
      "[0, 1, 2, 3] (0, 2) <class 'tuple'>\n",
      "[1, 3] (1, 3) <class 'tuple'>\n",
      "[0, 1, 2, 3] (0, 3) <class 'tuple'>\n",
      "[1, 2] (1, 2) <class 'tuple'>\n"
     ]
    },
    {
     "data": {
      "text/plain": [
       "4"
      ]
     },
     "execution_count": 114,
     "metadata": {},
     "output_type": "execute_result"
    }
   ],
   "source": [
    "solution = Solution()\n",
    "solution.minimumIncompatibility(nums = [1,2,1,4], k = 2)"
   ]
  },
  {
   "cell_type": "code",
   "execution_count": 66,
   "metadata": {},
   "outputs": [
    {
     "name": "stdout",
     "output_type": "stream",
     "text": [
      "[(1, 2, 3), (1, 2, 4), (1, 2, 5), (1, 3, 4), (1, 3, 5), (1, 4, 5), (2, 3, 4), (2, 3, 5), (2, 4, 5), (3, 4, 5)]\n"
     ]
    }
   ],
   "source": [
    "vals = [1, 2, 3, 4, 5]\n",
    "print(list(combinations(vals, 3)))"
   ]
  },
  {
   "cell_type": "code",
   "execution_count": null,
   "metadata": {},
   "outputs": [],
   "source": []
  },
  {
   "cell_type": "code",
   "execution_count": null,
   "metadata": {},
   "outputs": [],
   "source": []
  },
  {
   "cell_type": "raw",
   "metadata": {},
   "source": [
    "引入优化：每组的第一个元素必定是剩下元素中最小的那个。\n",
    "有了这个优化后等于每组减少了一个元素，排列组合取4个变成了取3个就能大幅缩短时间。\n",
    "排序一下方便找出每组的最大最小数。\n",
    "dp(mask)代表已经取走了哪些数，dp内部不是一个个元素的分配，而是一次性列出下一组的所有排列组合，选其中最佳的。"
   ]
  }
 ],
 "metadata": {
  "kernelspec": {
   "display_name": "Python 3",
   "language": "python",
   "name": "python3"
  },
  "language_info": {
   "codemirror_mode": {
    "name": "ipython",
    "version": 3
   },
   "file_extension": ".py",
   "mimetype": "text/x-python",
   "name": "python",
   "nbconvert_exporter": "python",
   "pygments_lexer": "ipython3",
   "version": "3.6.2"
  }
 },
 "nbformat": 4,
 "nbformat_minor": 4
}
