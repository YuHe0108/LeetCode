{
 "cells": [
  {
   "cell_type": "code",
   "execution_count": null,
   "metadata": {},
   "outputs": [],
   "source": []
  },
  {
   "cell_type": "code",
   "execution_count": null,
   "metadata": {},
   "outputs": [],
   "source": []
  },
  {
   "cell_type": "code",
   "execution_count": null,
   "metadata": {},
   "outputs": [],
   "source": []
  },
  {
   "cell_type": "code",
   "execution_count": 26,
   "metadata": {},
   "outputs": [],
   "source": [
    "from typing import List\n",
    "from collections import defaultdict, Counter\n",
    "from functools import lru_cache\n",
    "\n",
    "class Solution:\n",
    "    def canDistribute(self, nums: List[int], quantity: List[int]) -> bool:\n",
    "        \n",
    "        @lru_cache(None)\n",
    "        def canSatisfy(state, idx):\n",
    "            # 只是使用前 idx 元素能否满足 state这个状态\n",
    "            total = 0\n",
    "            for i in range(n):\n",
    "                if ((state >> i) & 1) == 1:\n",
    "                    total += quantity[i]\n",
    "            return total <= count[idx]\n",
    "        \n",
    "        count = Counter(nums)\n",
    "        count = list(count.values())\n",
    "        k = len(count)\n",
    "        \n",
    "        n = len(quantity) # 有多少用户\n",
    "        m = 1 << n\n",
    "        # dp[i][state] 表示使用前 i 类数字能够是否可以满足 state 这个状态下的群体\n",
    "        dp = [[False] * m for _ in range(k)]\n",
    "        for state in range(m):\n",
    "            # 只用第 0 个元素，能够满足哪些条件\n",
    "            dp[0][state] = canSatisfy(state, 0)\n",
    "        \n",
    "        for i in range(1, k):\n",
    "            for state in range(m):\n",
    "                \n",
    "                # 使用前面一个状态已经可以满足，那么当前的状态依旧可以满足\n",
    "                if dp[i-1][state]:\n",
    "                    dp[i][state] = True\n",
    "                    continue\n",
    "                 \n",
    "                # 枚举子集很重要\n",
    "                subset = state \n",
    "                while subset:\n",
    "                    # 寻找当前状态的一个子集，当前子集能不能使用 count[i] 个元素的数量满足要求\n",
    "                    if dp[i-1][state-subset] and canSatisfy(subset, i):\n",
    "                        dp[i][state] = True\n",
    "                        break\n",
    "                    subset = (subset-1) & state\n",
    "                    \n",
    "        return dp[-1][-1]"
   ]
  },
  {
   "cell_type": "code",
   "execution_count": 27,
   "metadata": {},
   "outputs": [
    {
     "data": {
      "text/plain": [
       "False"
      ]
     },
     "execution_count": 27,
     "metadata": {},
     "output_type": "execute_result"
    }
   ],
   "source": [
    "solution = Solution()\n",
    "solution.canDistribute(nums = [1,1,2,3], quantity = [2,2])"
   ]
  },
  {
   "cell_type": "code",
   "execution_count": 5,
   "metadata": {},
   "outputs": [
    {
     "data": {
      "text/plain": [
       "51200"
      ]
     },
     "execution_count": 5,
     "metadata": {},
     "output_type": "execute_result"
    }
   ],
   "source": [
    "pow(2, 10) * 50"
   ]
  },
  {
   "cell_type": "code",
   "execution_count": null,
   "metadata": {},
   "outputs": [],
   "source": []
  }
 ],
 "metadata": {
  "kernelspec": {
   "display_name": "Python 3",
   "language": "python",
   "name": "python3"
  },
  "language_info": {
   "codemirror_mode": {
    "name": "ipython",
    "version": 3
   },
   "file_extension": ".py",
   "mimetype": "text/x-python",
   "name": "python",
   "nbconvert_exporter": "python",
   "pygments_lexer": "ipython3",
   "version": "3.6.2"
  }
 },
 "nbformat": 4,
 "nbformat_minor": 4
}
