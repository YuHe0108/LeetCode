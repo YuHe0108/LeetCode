{
 "cells": [
  {
   "cell_type": "code",
   "execution_count": null,
   "metadata": {},
   "outputs": [],
   "source": []
  },
  {
   "cell_type": "code",
   "execution_count": 3,
   "metadata": {},
   "outputs": [
    {
     "data": {
      "text/plain": [
       "1215"
      ]
     },
     "execution_count": 3,
     "metadata": {},
     "output_type": "execute_result"
    }
   ],
   "source": [
    "pow(3, 5) * 5"
   ]
  },
  {
   "cell_type": "code",
   "execution_count": null,
   "metadata": {},
   "outputs": [],
   "source": []
  },
  {
   "cell_type": "code",
   "execution_count": 64,
   "metadata": {},
   "outputs": [],
   "source": [
    "# 以行为状态进行考虑\n",
    "\n",
    "class Solution:\n",
    "    def getMaxGridHappiness(self, m: int, n: int, introvertsCount: int, extrovertsCount: int) -> int:\n",
    "        \n",
    "        def decode(state):\n",
    "            # 解码：每一个格子中住的是内向的人还是外向的人\n",
    "            vals = [0] * n \n",
    "            i = 0\n",
    "            while state:\n",
    "                vals[i] = state % 3\n",
    "                state //= 3\n",
    "                i += 1\n",
    "            return vals\n",
    "        \n",
    "        def canLive(vals): \n",
    "            # 当前这个状态是否是合法的\n",
    "            introver, extrover = 0, 0\n",
    "            for v in vals:\n",
    "                if v == 1:\n",
    "                    introver += 1\n",
    "                elif v == 2:\n",
    "                    extrover += 1\n",
    "            return introver <= introvertsCount and extrover <= extrovertsCount\n",
    "        \n",
    "        def calcHappiness(vals):\n",
    "            # 计算当前坐法，能一共获得多少幸福感\n",
    "            total = 0\n",
    "            for i, v in enumerate(vals):\n",
    "                total += p2int[v]\n",
    "                if v == 1:\n",
    "                    # 内向的人，左右有人的情况下需要减去 30,\n",
    "                    if (i < n-1 and vals[i+1] != 0) or (i > 0 and vals[i-1] != 0):\n",
    "                        total -= 30\n",
    "                elif v == 2:\n",
    "                    # 外向的人，左右有人的情况下需要 +20,\n",
    "                    if (i < n-1 and vals[i+1] != 0) or (i > 0 and vals[i-1] != 0):\n",
    "                        total += 20\n",
    "            return total\n",
    "        \n",
    "        def calcCrossHappiness(pre, cur):\n",
    "            # 计算两行之间的幸福感\n",
    "            pre_vals, cur_vals = decode(pre), decode(cur)\n",
    "            total = calcHappiness(cur_vals) # 不考虑行与行之间的话，幸福感有多少\n",
    "            for i, v in enumerate(cur_vals):\n",
    "                if v == 1 and pre_vals[i] != 0:\n",
    "                    if pre_vals[i] == 1:\n",
    "                        total -= 30 * 2\n",
    "                    else:\n",
    "                        total -= 10\n",
    "                elif v == 2 and pre_vals[i] != 0:\n",
    "                    if pre_vals[i] == 1:\n",
    "                        total -= 10\n",
    "                    else:\n",
    "                        total += 20 * 2\n",
    "            return total\n",
    "        \n",
    "        p2int = {0: 0, 1: 120, 2: 40} # 0:不住人，1：内向人，2：外向人\n",
    "        k = pow(3, n) # 由于每一行的格子中可以是：不放人、外向人、内向人三种\n",
    "        dp = [-float('inf')] * k # dp[state] 表示不同的状态下 最大的幸福感为多少\n",
    "        for state in range(k):\n",
    "            vals = decode(state)\n",
    "            if canLive(vals): # 当前状态是合法的\n",
    "                dp[state] = calcHappiness(vals)\n",
    "        \n",
    "        for i in range(1, m):\n",
    "            new_dp = [-float('inf')] * k\n",
    "            \n",
    "            for state in range(k):\n",
    "                vals = decode(state)\n",
    "                if not canLive(vals):\n",
    "                    continue\n",
    "                    \n",
    "                subset = state\n",
    "                while subset:\n",
    "                    # 对于 state 有一个约束条件，就是住的人的数目，内向人 <= introvertsCount, 外向人 <= extroversCount\n",
    "                    new_dp[state] = max(new_dp[state], dp[state-subset] + calcCrossHappiness(state-subset, subset))\n",
    "                    subset = (subset - 1) & state\n",
    "            dp = new_dp\n",
    "        \n",
    "        return max(dp)"
   ]
  },
  {
   "cell_type": "code",
   "execution_count": null,
   "metadata": {},
   "outputs": [],
   "source": []
  },
  {
   "cell_type": "code",
   "execution_count": 123,
   "metadata": {},
   "outputs": [],
   "source": [
    "from functools import lru_cache\n",
    "\n",
    "class Solution:\n",
    "    def getMaxGridHappiness(self, m: int, n: int, introvertsCount: int, extrovertsCount: int) -> int:\n",
    "        \n",
    "        @lru_cache(None)\n",
    "        def calcHappiness(values, person_type, col_idx):\n",
    "            up = 0\n",
    "            if values[col_idx] == 'i': # 上面有可能是哪些人\n",
    "                up -= 30\n",
    "            elif values[col_idx] == 'e':\n",
    "                up += 20\n",
    "            \n",
    "            left = 0\n",
    "            if col_idx > 0:\n",
    "                if values[col_idx-1] == 'i': # 左边有可能是哪些人\n",
    "                    left -= 30\n",
    "                elif values[col_idx-1] == 'e':\n",
    "                    left += 20\n",
    "            \n",
    "            nebs = (1 if up else 0) + (1 if left else 0)\n",
    "            ans = 0\n",
    "            if person_type == 'i':\n",
    "                ans =  120 - 30 * nebs + up + left\n",
    "            elif person_type == 'e':\n",
    "                ans = 40 + 20 * nebs + up + left\n",
    "            return ans\n",
    "        \n",
    "        \n",
    "        @lru_cache(None)\n",
    "        def dp(pos, intro, extro, last_values):\n",
    "            if pos == m*n:\n",
    "                return 0\n",
    "            \n",
    "            ans = 0\n",
    "            \n",
    "            list_last_values = list(last_values)\n",
    "            col_idx = pos % n # 当前位置在那一列\n",
    "            pre_val = list_last_values[col_idx] # 此时这一列上一轮的值是什么\n",
    "            \n",
    "            # 可以不放人\n",
    "            list_last_values[col_idx] = ''\n",
    "            ans = dp(pos+1, intro, extro, tuple(list_last_values))\n",
    "            list_last_values[col_idx] = pre_val\n",
    "            \n",
    "            if intro:\n",
    "                # 可以放内向的人\n",
    "                cur_happiness = calcHappiness(last_values, 'i', col_idx)\n",
    "                list_last_values[col_idx] = 'i'\n",
    "                ans = max(ans, cur_happiness + dp(pos+1, intro-1, extro, tuple(list_last_values)))\n",
    "                list_last_values[col_idx] = pre_val\n",
    "            \n",
    "            if extro:\n",
    "                # 可以放外向的人\n",
    "                cur_happiness = calcHappiness(last_values, 'e', col_idx)\n",
    "                list_last_values[col_idx] = 'e'\n",
    "                ans = max(ans, cur_happiness + dp(pos+1, intro, extro-1, tuple(list_last_values)))\n",
    "                list_last_values[col_idx] = pre_val\n",
    "            \n",
    "            return ans\n",
    "        \n",
    "        return dp(0, introvertsCount, extrovertsCount, tuple([''] * n))"
   ]
  },
  {
   "cell_type": "code",
   "execution_count": 124,
   "metadata": {},
   "outputs": [
    {
     "data": {
      "text/plain": [
       "240"
      ]
     },
     "execution_count": 124,
     "metadata": {},
     "output_type": "execute_result"
    }
   ],
   "source": [
    "solution = Solution()\n",
    "solution.getMaxGridHappiness(2, 2, 4, 0)"
   ]
  },
  {
   "cell_type": "code",
   "execution_count": 107,
   "metadata": {},
   "outputs": [],
   "source": [
    "from functools import lru_cache\n",
    "\n",
    "class Solution:\n",
    "    def getMaxGridHappiness(self, m: int, n: int, introvertsCount: int, extrovertsCount: int) -> int:\n",
    "        def get_happiness(j, types, last_values):\n",
    "            up = last_values[j]\n",
    "            left = last_values[j-1] if j > 0 else ''\n",
    "            \n",
    "            up_diff = 0\n",
    "            if up == 'i':\n",
    "                up_diff = -30\n",
    "            elif up == 'e':\n",
    "                up_diff = 20\n",
    "            \n",
    "            left_diff = 0\n",
    "            if left == 'i':\n",
    "                left_diff = -30\n",
    "            elif left == 'e':\n",
    "                left_diff = 20\n",
    "            \n",
    "            neb = (1 if up else 0) + (1 if left  else 0)\n",
    "            ans = 0\n",
    "            if types == 'i':\n",
    "                ans = 120 - 30 * neb + left_diff + up_diff\n",
    "            elif types == 'e':\n",
    "                ans = 40 + 20 * neb + left_diff + up_diff\n",
    "            return ans\n",
    "        \n",
    "        @lru_cache(None)\n",
    "        def dp(pos, intro, extro, last_values):\n",
    "            if pos == m * n:\n",
    "                return 0\n",
    "            \n",
    "            j = pos % n # 所在列\n",
    "            list_last_values = list(last_values)\n",
    "            prev_value = list_last_values[j]\n",
    "            \n",
    "            # 当前位置不住人\n",
    "            list_last_values[j] = ''\n",
    "            ans = dp(pos + 1, intro, extro, tuple(list_last_values))\n",
    "            list_last_values[j] = prev_value\n",
    "            \n",
    "            # 住的是内向的人\n",
    "            if intro:\n",
    "                happiness = get_happiness(j, 'i', last_values)\n",
    "                print(last_values, happiness)\n",
    "                list_last_values[j] = 'i'\n",
    "                ans = max(ans, happiness + dp(pos+1, intro-1, extro, tuple(list_last_values)))\n",
    "                list_last_values[j] = prev_value\n",
    "            \n",
    "            # 住的是外向的人\n",
    "            if extro:\n",
    "                happiness = get_happiness(j, 'e', last_values)\n",
    "                print(happiness)\n",
    "                list_last_values[j] = 'e'\n",
    "                ans = max(ans, happiness + dp(pos+1, intro, extro-1, tuple(list_last_values)))\n",
    "                list_last_values[j] = prev_value\n",
    "            return ans\n",
    "        \n",
    "        return dp(0, introvertsCount, extrovertsCount, tuple([''] * n))"
   ]
  },
  {
   "cell_type": "code",
   "execution_count": 108,
   "metadata": {},
   "outputs": [
    {
     "name": "stdout",
     "output_type": "stream",
     "text": [
      "('', '') 120\n",
      "('', '') 120\n",
      "('i', '') 60\n",
      "('', '') 120\n",
      "('', 'i') 60\n",
      "('', 'i') 120\n",
      "('i', 'i') 0\n",
      "('', '') 120\n",
      "('', '') 120\n",
      "('i', '') 60\n",
      "('i', '') 60\n",
      "('i', '') 60\n",
      "('', 'i') 60\n",
      "('i', 'i') 60\n",
      "('i', 'i') 0\n"
     ]
    },
    {
     "data": {
      "text/plain": [
       "240"
      ]
     },
     "execution_count": 108,
     "metadata": {},
     "output_type": "execute_result"
    }
   ],
   "source": [
    "solution = Solution()\n",
    "solution.getMaxGridHappiness(2, 2, 4, 0)"
   ]
  },
  {
   "cell_type": "code",
   "execution_count": null,
   "metadata": {},
   "outputs": [],
   "source": []
  }
 ],
 "metadata": {
  "kernelspec": {
   "display_name": "Python 3",
   "language": "python",
   "name": "python3"
  },
  "language_info": {
   "codemirror_mode": {
    "name": "ipython",
    "version": 3
   },
   "file_extension": ".py",
   "mimetype": "text/x-python",
   "name": "python",
   "nbconvert_exporter": "python",
   "pygments_lexer": "ipython3",
   "version": "3.6.2"
  }
 },
 "nbformat": 4,
 "nbformat_minor": 4
}
