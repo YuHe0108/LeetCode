{
 "cells": [
  {
   "cell_type": "code",
   "execution_count": null,
   "metadata": {},
   "outputs": [],
   "source": []
  },
  {
   "cell_type": "code",
   "execution_count": 4,
   "metadata": {},
   "outputs": [
    {
     "data": {
      "text/plain": [
       "3932160"
      ]
     },
     "execution_count": 4,
     "metadata": {},
     "output_type": "execute_result"
    }
   ],
   "source": [
    "pow(2, 16) * 60"
   ]
  },
  {
   "cell_type": "code",
   "execution_count": null,
   "metadata": {},
   "outputs": [],
   "source": []
  },
  {
   "cell_type": "code",
   "execution_count": null,
   "metadata": {},
   "outputs": [],
   "source": []
  },
  {
   "cell_type": "code",
   "execution_count": 85,
   "metadata": {},
   "outputs": [],
   "source": [
    "from typing import List\n",
    "\n",
    "class Solution:\n",
    "    def smallestSufficientTeam(self, req_skills: List[str], people: List[List[str]]) -> List[int]:\n",
    "        # 技能 -> idx\n",
    "        skill2idx = {}\n",
    "        for i, s in enumerate(req_skills):\n",
    "            skill2idx[s] = i\n",
    "        \n",
    "        # 每个人会的技能 -> bit num\n",
    "        p2s = []\n",
    "        for p in people:\n",
    "            cur = 0\n",
    "            for skill in p:\n",
    "                if skill not in skill2idx:\n",
    "                    continue\n",
    "                cur = cur | (1 << skill2idx[skill])\n",
    "            p2s.append(cur)\n",
    "        \n",
    "        n = len(req_skills)\n",
    "        m = 1 << n\n",
    "        \n",
    "        dp = [float('inf')] * m # dp[i] 表示会技能 i 需要最少多少人\n",
    "        dp[0] = 0\n",
    "        par = [[] for _ in range(m)] # par[i] 在状态 i 下，最后需要的那个人是谁\n",
    "        \n",
    "        # s表示状态\n",
    "        for i in range(len(people)):\n",
    "            for s in range(m): # 当前的状态\n",
    "                new_s = s | p2s[i] # 原来会的技能 + people[i] 会的技能\n",
    "                if dp[s] == float('inf'): # 当前状态不可能达到\n",
    "                    continue\n",
    "                if dp[s] + 1 < dp[new_s]:\n",
    "                    dp[new_s] = dp[s] + 1\n",
    "                    par[new_s] = par[s][::]\n",
    "                    par[new_s].append(i)\n",
    "        return par[-1]"
   ]
  },
  {
   "cell_type": "code",
   "execution_count": 86,
   "metadata": {},
   "outputs": [
    {
     "data": {
      "text/plain": [
       "[12, 18, 23]"
      ]
     },
     "execution_count": 86,
     "metadata": {},
     "output_type": "execute_result"
    }
   ],
   "source": [
    "solution = Solution()\n",
    "solution.smallestSufficientTeam([\"mwobudvo\",\"goczubcwnfze\",\"yspbsez\",\"pf\",\"ey\",\"hkq\"], \n",
    "                                [[],[\"mwobudvo\"],[\"hkq\"],[\"pf\"],[\"pf\"],[\"mwobudvo\",\"pf\"],\n",
    "                                 [],[\"yspbsez\"],[],[\"hkq\"],[],[],[\"goczubcwnfze\",\"pf\",\"hkq\"],\n",
    "                                 [\"goczubcwnfze\"],[\"hkq\"],[\"mwobudvo\"],[],[\"mwobudvo\",\"pf\"],\n",
    "                                 [\"pf\",\"ey\"],[\"mwobudvo\"],[\"hkq\"],[],[\"pf\"],\n",
    "                                 [\"mwobudvo\",\"yspbsez\"],[\"mwobudvo\",\"goczubcwnfze\"],\n",
    "                                 [\"goczubcwnfze\",\"pf\"],[\"goczubcwnfze\"],[\"goczubcwnfze\"],[\"mwobudvo\"],[\"mwobudvo\",\"goczubcwnfze\"],[],[\"goczubcwnfze\"],[],[\"goczubcwnfze\"],[\"mwobudvo\"],[],[\"hkq\"],[\"yspbsez\"],[\"mwobudvo\"],[\"goczubcwnfze\",\"ey\"]])"
   ]
  },
  {
   "cell_type": "code",
   "execution_count": 17,
   "metadata": {},
   "outputs": [],
   "source": [
    "dp = [1] * 10"
   ]
  },
  {
   "cell_type": "code",
   "execution_count": 18,
   "metadata": {},
   "outputs": [],
   "source": [
    "dp[2] = 2"
   ]
  },
  {
   "cell_type": "code",
   "execution_count": 19,
   "metadata": {},
   "outputs": [
    {
     "data": {
      "text/plain": [
       "[1, 1, 2, 1, 1, 1, 1, 1, 1, 1]"
      ]
     },
     "execution_count": 19,
     "metadata": {},
     "output_type": "execute_result"
    }
   ],
   "source": [
    "dp"
   ]
  },
  {
   "cell_type": "code",
   "execution_count": 33,
   "metadata": {},
   "outputs": [
    {
     "data": {
      "text/plain": [
       "'0b1'"
      ]
     },
     "execution_count": 33,
     "metadata": {},
     "output_type": "execute_result"
    }
   ],
   "source": [
    "bin(1)"
   ]
  },
  {
   "cell_type": "code",
   "execution_count": 34,
   "metadata": {},
   "outputs": [
    {
     "data": {
      "text/plain": [
       "1"
      ]
     },
     "execution_count": 34,
     "metadata": {},
     "output_type": "execute_result"
    }
   ],
   "source": [
    "1 << 0"
   ]
  },
  {
   "cell_type": "code",
   "execution_count": null,
   "metadata": {},
   "outputs": [],
   "source": []
  }
 ],
 "metadata": {
  "kernelspec": {
   "display_name": "Python 3",
   "language": "python",
   "name": "python3"
  },
  "language_info": {
   "codemirror_mode": {
    "name": "ipython",
    "version": 3
   },
   "file_extension": ".py",
   "mimetype": "text/x-python",
   "name": "python",
   "nbconvert_exporter": "python",
   "pygments_lexer": "ipython3",
   "version": "3.6.2"
  }
 },
 "nbformat": 4,
 "nbformat_minor": 4
}
