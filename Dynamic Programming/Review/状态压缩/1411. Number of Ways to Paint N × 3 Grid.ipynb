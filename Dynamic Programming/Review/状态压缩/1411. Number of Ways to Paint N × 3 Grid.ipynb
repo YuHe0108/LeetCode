{
 "cells": [
  {
   "cell_type": "code",
   "execution_count": null,
   "metadata": {},
   "outputs": [],
   "source": []
  },
  {
   "cell_type": "code",
   "execution_count": 10,
   "metadata": {},
   "outputs": [
    {
     "data": {
      "text/plain": [
       "720000"
      ]
     },
     "execution_count": 10,
     "metadata": {},
     "output_type": "execute_result"
    }
   ],
   "source": [
    "12*12*5000"
   ]
  },
  {
   "cell_type": "code",
   "execution_count": null,
   "metadata": {},
   "outputs": [],
   "source": [
    "['b', 'g', 'r', 'b', 'g', 'r', 'b', 'g', 'r']"
   ]
  },
  {
   "cell_type": "code",
   "execution_count": 3,
   "metadata": {},
   "outputs": [],
   "source": [
    "# n 行，3列，\n",
    "# 对于当前行来说，临近的两个块颜色不能相同\n",
    "# 对于nxt来说，在相同的列上，不能与 pre 前一行相同列的颜色相同"
   ]
  },
  {
   "cell_type": "code",
   "execution_count": 25,
   "metadata": {},
   "outputs": [],
   "source": [
    "class Solution:\n",
    "    def numOfWays(self, n: int) -> int:\n",
    "        @lru_cache(None)\n",
    "        def crossOk(pre, nxt):\n",
    "            pre_color = colors[pre]\n",
    "            cur_color = colors[nxt]\n",
    "            for i in range(3):\n",
    "                if pre_color[i] == cur_color[i]:\n",
    "                    return False\n",
    "            return True\n",
    "        \n",
    "        # 一共有9个颜色，因为每个色块可以选择三个, 每一行，合理的颜色搭配一共有12种\n",
    "        colors = ['bgr', 'bgb', 'brg', 'brb', \n",
    "                  'gbr', 'gbg', 'grg', 'grb', \n",
    "                  'rbr', 'rbg', 'rgr', 'rgb']\n",
    "        rols, cols = n, 3\n",
    "        m = 12\n",
    "        dp = [1] * m # 对于第一行来说，每一种颜色都有一种方法是合理的\n",
    "        \n",
    "        for i in range(1, n):\n",
    "            new_dp = [0] * m\n",
    "            for cur_s in range(m):\n",
    "                for pre_s in range(m):\n",
    "                    # 检查上下两层是否出现冲突\n",
    "                    if not crossOk(pre_s, cur_s):\n",
    "                        continue\n",
    "                    new_dp[cur_s] += dp[pre_s]\n",
    "            dp = new_dp  \n",
    "        \n",
    "        mod = pow(10, 9) + 7\n",
    "        return sum(dp) % mod"
   ]
  },
  {
   "cell_type": "code",
   "execution_count": 28,
   "metadata": {},
   "outputs": [
    {
     "data": {
      "text/plain": [
       "30228214"
      ]
     },
     "execution_count": 28,
     "metadata": {},
     "output_type": "execute_result"
    }
   ],
   "source": [
    "solution = Solution()\n",
    "solution.numOfWays(5000)"
   ]
  },
  {
   "cell_type": "code",
   "execution_count": 32,
   "metadata": {},
   "outputs": [
    {
     "data": {
      "text/plain": [
       "2"
      ]
     },
     "execution_count": 32,
     "metadata": {},
     "output_type": "execute_result"
    }
   ],
   "source": [
    "25\n",
    "25//3//3 % 3"
   ]
  },
  {
   "cell_type": "code",
   "execution_count": 39,
   "metadata": {},
   "outputs": [
    {
     "name": "stdout",
     "output_type": "stream",
     "text": [
      "[0, 0, 0]\n",
      "[1, 0, 0]\n",
      "[2, 0, 0]\n",
      "[0, 1, 0]\n",
      "[1, 1, 0]\n",
      "[2, 1, 0]\n",
      "[0, 2, 0]\n",
      "[1, 2, 0]\n",
      "[2, 2, 0]\n",
      "[0, 0, 1]\n",
      "[1, 0, 1]\n",
      "[2, 0, 1]\n",
      "[0, 1, 1]\n",
      "[1, 1, 1]\n",
      "[2, 1, 1]\n",
      "[0, 2, 1]\n",
      "[1, 2, 1]\n",
      "[2, 2, 1]\n",
      "[0, 0, 2]\n",
      "[1, 0, 2]\n",
      "[2, 0, 2]\n",
      "[0, 1, 2]\n",
      "[1, 1, 2]\n",
      "[2, 1, 2]\n",
      "[0, 2, 2]\n",
      "[1, 2, 2]\n",
      "[2, 2, 2]\n"
     ]
    }
   ],
   "source": [
    "for vals in range(27):\n",
    "    nums = []\n",
    "    for i in range(3):\n",
    "        nums.append(vals % 3)\n",
    "        vals //= 3\n",
    "    print(nums)"
   ]
  },
  {
   "cell_type": "code",
   "execution_count": 40,
   "metadata": {},
   "outputs": [
    {
     "data": {
      "text/plain": [
       "26"
      ]
     },
     "execution_count": 40,
     "metadata": {},
     "output_type": "execute_result"
    }
   ],
   "source": [
    "2*9 + 2*3 + 2"
   ]
  },
  {
   "cell_type": "code",
   "execution_count": null,
   "metadata": {},
   "outputs": [],
   "source": [
    "class Solution:\n",
    "    def numOfWays(self, n: int) -> int:\n",
    "        M = pow(10, 9) + 7\n",
    "        color_2, color_3 = 6, 6\n",
    "        for i in range(1, n):\n",
    "            temp2, temp3 = color_2, color_3\n",
    "            color_2 = temp2 * 3 + temp3 * 2\n",
    "            color_3 = temp2 * 2 + temp3 * 2\n",
    "        return (color_2 + color_3) % M"
   ]
  }
 ],
 "metadata": {
  "kernelspec": {
   "display_name": "Python 3",
   "language": "python",
   "name": "python3"
  },
  "language_info": {
   "codemirror_mode": {
    "name": "ipython",
    "version": 3
   },
   "file_extension": ".py",
   "mimetype": "text/x-python",
   "name": "python",
   "nbconvert_exporter": "python",
   "pygments_lexer": "ipython3",
   "version": "3.6.2"
  }
 },
 "nbformat": 4,
 "nbformat_minor": 4
}
