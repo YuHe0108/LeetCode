{
 "cells": [
  {
   "cell_type": "code",
   "execution_count": null,
   "metadata": {},
   "outputs": [],
   "source": []
  },
  {
   "cell_type": "code",
   "execution_count": 61,
   "metadata": {},
   "outputs": [
    {
     "name": "stdout",
     "output_type": "stream",
     "text": [
      "1101 1101 13 13\n",
      "1101 1100 13 12\n",
      "1101 1011 13 11\n",
      "1101 1010 13 10\n",
      "1101 1001 13 9\n",
      "1101 1000 13 8\n",
      "1101 111 13 7\n",
      "1101 110 13 6\n",
      "1101 101 13 5\n",
      "1101 100 13 4\n",
      "1101 11 13 3\n",
      "1101 10 13 2\n",
      "1101 1 13 1\n",
      "1101 0 13 0\n"
     ]
    }
   ],
   "source": [
    "state = 13\n",
    "subset = state\n",
    "while True:\n",
    "    print(bin(state)[2:], bin(subset)[2:], state, subset)\n",
    "    if subset == 0:\n",
    "        break\n",
    "    subset -= 1"
   ]
  },
  {
   "cell_type": "code",
   "execution_count": null,
   "metadata": {},
   "outputs": [],
   "source": [
    "1101 1101 13 13\n",
    "1101 1100 13 12\n",
    "1101 1001 13 9\n",
    "1101 1000 13 8\n",
    "1101 101 13 5\n",
    "1101 100 13 4\n",
    "1101 1 13 1\n",
    "1101 0 13 0\n",
    "\n",
    "\n",
    "1101 1101 13 13\n",
    "1101 1100 13 12\n",
    "1101 1011 13 11\n",
    "1101 1010 13 10\n",
    "1101 1001 13 9\n",
    "1101 1000 13 8\n",
    "1101 111 13 7\n",
    "1101 110 13 6\n",
    "1101 101 13 5\n",
    "1101 100 13 4\n",
    "1101 11 13 3\n",
    "1101 10 13 2\n",
    "1101 1 13 1\n",
    "1101 0 13 0"
   ]
  },
  {
   "cell_type": "code",
   "execution_count": null,
   "metadata": {},
   "outputs": [],
   "source": []
  },
  {
   "cell_type": "code",
   "execution_count": null,
   "metadata": {},
   "outputs": [],
   "source": [
    "# 子集问题\n",
    "# 如果 state = '11001'\n",
    "# 那么 subset 有可能的结果为：10001，11000,10000 。。。 也就是state中为1的点，subset可能为1，也可能为0，\n",
    "# 但是 state 为 0 的点，subset中的位置一定不能为 1\n",
    "\n",
    "subset = state\n",
    "while True:\n",
    "    .... do something\n",
    "    if subset == 0:\n",
    "        break\n",
    "    subset = (subset - 1) & state # 减少了不可能是 state 子集的情况发生"
   ]
  },
  {
   "cell_type": "code",
   "execution_count": 57,
   "metadata": {},
   "outputs": [],
   "source": [
    "from typing import List\n",
    "from functools import lru_cache\n",
    "\n",
    "class Solution:\n",
    "    def connectTwoGroups(self, cost: List[List[int]]) -> int:\n",
    "        \n",
    "        @lru_cache(None)\n",
    "        def calcCost(state, idx):\n",
    "            # 对于 n2 中的第 idx 个点，与 n2 中的哪些点相连的时候，代价为total\n",
    "            total = 0\n",
    "            for i in range(n2):\n",
    "                if ((state >> i) & 1) == 1:\n",
    "                    total += cost[idx][i]\n",
    "            return total\n",
    "        \n",
    "        n1, n2 = len(cost), len(cost[0]) # 两个 group的 size 的数量\n",
    "        m2 = 1 << n2\n",
    "        # dp[i][state]: 表示 n1 中的点和 n2 中的哪些点相连\n",
    "        # dp[i][state] = min(dp[i][state], dp[i-1][m2 - state] + cost(i, state))\n",
    "        dp = [[float('inf')] * m2 for _ in range(n1)]\n",
    "        \n",
    "        # n1中的 第一个点与 n2 中的一些点相连的时候，cost为多少\n",
    "        dp[0][0] = float('inf')\n",
    "        for s in range(1, m2):\n",
    "            dp[0][s] = 0\n",
    "            for i in range(n2):\n",
    "                if ((s >> i) & 1) == 1:\n",
    "                    dp[0][s] += cost[0][i]\n",
    "        \n",
    "        min_cost = [min(cost[i]) for i in range(n1)]\n",
    "        for i in range(1, n1):\n",
    "            \n",
    "            # state = 0的情况都是不可能的，必须要和一点相连\n",
    "            for state in range(1, m2):\n",
    "                # 连接的 边是前 i-1 个节点前已经访问过的边，那么第i个点连接的话，要找n2中代价最小的边\n",
    "                dp[i][state] = min(dp[i][state], dp[i-1][state] + min_cost[i])\n",
    "                \n",
    "                # 不能遍历到 subset == 0的情况，因为前一个节点起码要和 n2 中的一个点相连\n",
    "                subset = state\n",
    "                while subset:\n",
    "                    # s 的子集 subset: dp[i][s] = dp[i-1][s-subset] + cost(i, subset)\n",
    "                    dp[i][state] = min(dp[i][state], dp[i-1][state-subset] + calcCost(subset, i))\n",
    "                    subset = (subset-1) & state\n",
    "        return dp[-1][-1]"
   ]
  },
  {
   "cell_type": "code",
   "execution_count": 58,
   "metadata": {},
   "outputs": [
    {
     "name": "stdout",
     "output_type": "stream",
     "text": [
      "1 1 1 1\n",
      "2 2 10 10\n",
      "3 3 11 11\n",
      "3 2 11 10\n",
      "3 1 11 1\n",
      "4 4 100 100\n",
      "5 5 101 101\n",
      "5 4 101 100\n",
      "5 1 101 1\n",
      "6 6 110 110\n",
      "6 4 110 100\n",
      "6 2 110 10\n",
      "7 7 111 111\n",
      "7 6 111 110\n",
      "7 5 111 101\n",
      "7 4 111 100\n",
      "7 3 111 11\n",
      "7 2 111 10\n",
      "7 1 111 1\n",
      "1 1 1 1\n",
      "2 2 10 10\n",
      "3 3 11 11\n",
      "3 2 11 10\n",
      "3 1 11 1\n",
      "4 4 100 100\n",
      "5 5 101 101\n",
      "5 4 101 100\n",
      "5 1 101 1\n",
      "6 6 110 110\n",
      "6 4 110 100\n",
      "6 2 110 10\n",
      "7 7 111 111\n",
      "7 6 111 110\n",
      "7 5 111 101\n",
      "7 4 111 100\n",
      "7 3 111 11\n",
      "7 2 111 10\n",
      "7 1 111 1\n",
      "1 1 1 1\n",
      "2 2 10 10\n",
      "3 3 11 11\n",
      "3 2 11 10\n",
      "3 1 11 1\n",
      "4 4 100 100\n",
      "5 5 101 101\n",
      "5 4 101 100\n",
      "5 1 101 1\n",
      "6 6 110 110\n",
      "6 4 110 100\n",
      "6 2 110 10\n",
      "7 7 111 111\n",
      "7 6 111 110\n",
      "7 5 111 101\n",
      "7 4 111 100\n",
      "7 3 111 11\n",
      "7 2 111 10\n",
      "7 1 111 1\n",
      "1 1 1 1\n",
      "2 2 10 10\n",
      "3 3 11 11\n",
      "3 2 11 10\n",
      "3 1 11 1\n",
      "4 4 100 100\n",
      "5 5 101 101\n",
      "5 4 101 100\n",
      "5 1 101 1\n",
      "6 6 110 110\n",
      "6 4 110 100\n",
      "6 2 110 10\n",
      "7 7 111 111\n",
      "7 6 111 110\n",
      "7 5 111 101\n",
      "7 4 111 100\n",
      "7 3 111 11\n",
      "7 2 111 10\n",
      "7 1 111 1\n"
     ]
    },
    {
     "data": {
      "text/plain": [
       "10"
      ]
     },
     "execution_count": 58,
     "metadata": {},
     "output_type": "execute_result"
    }
   ],
   "source": [
    "solution = Solution()\n",
    "solution.connectTwoGroups(cost = [[2, 5, 1], [3, 4, 7], [8, 1, 2], [6, 2, 4], [3, 8, 8]])"
   ]
  },
  {
   "cell_type": "code",
   "execution_count": 11,
   "metadata": {},
   "outputs": [
    {
     "data": {
      "text/plain": [
       "49152"
      ]
     },
     "execution_count": 11,
     "metadata": {},
     "output_type": "execute_result"
    }
   ],
   "source": [
    "pow(2, 12) * 12"
   ]
  },
  {
   "cell_type": "code",
   "execution_count": null,
   "metadata": {},
   "outputs": [],
   "source": []
  },
  {
   "cell_type": "code",
   "execution_count": null,
   "metadata": {},
   "outputs": [],
   "source": []
  },
  {
   "cell_type": "code",
   "execution_count": null,
   "metadata": {},
   "outputs": [],
   "source": []
  },
  {
   "cell_type": "code",
   "execution_count": null,
   "metadata": {},
   "outputs": [],
   "source": []
  },
  {
   "cell_type": "code",
   "execution_count": null,
   "metadata": {},
   "outputs": [],
   "source": []
  },
  {
   "cell_type": "code",
   "execution_count": null,
   "metadata": {},
   "outputs": [],
   "source": [
    "from functools import lru_cache\n",
    "\n",
    "class Solution:\n",
    "    def connectTwoGroups(self, cost):\n",
    "        \n",
    "        @lru_cache(None)\n",
    "        def dp(i, mask):\n",
    "            if i == n1:\n",
    "                ans2 = 0\n",
    "                for j in range(n2):\n",
    "                    if ((mask >> j ) & 1) == 0:\n",
    "                        ans2 += min_cost2[j]\n",
    "                return ans2\n",
    "            \n",
    "            ans = float('inf')\n",
    "            for j in range(n2):\n",
    "                ans = min(ans, dp(i+1, mask | (1 << j)) + cost[i][j])\n",
    "            return ans\n",
    "        \n",
    "        n1, n2 = len(cost), len(cost[0])\n",
    "        # n2 和 n1 中哪些点相连，代价最小\n",
    "        min_cost2 = [float('inf')] * n2\n",
    "        for i in range(n2):\n",
    "            for j in range(n1):\n",
    "                min_cost2[i] = min(min_cost2[i], cost[j][i])\n",
    "        res = dp(0, 0)\n",
    "        return res"
   ]
  }
 ],
 "metadata": {
  "kernelspec": {
   "display_name": "Python 3",
   "language": "python",
   "name": "python3"
  },
  "language_info": {
   "codemirror_mode": {
    "name": "ipython",
    "version": 3
   },
   "file_extension": ".py",
   "mimetype": "text/x-python",
   "name": "python",
   "nbconvert_exporter": "python",
   "pygments_lexer": "ipython3",
   "version": "3.6.2"
  }
 },
 "nbformat": 4,
 "nbformat_minor": 4
}
