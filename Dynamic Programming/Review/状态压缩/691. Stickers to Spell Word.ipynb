{
 "cells": [
  {
   "cell_type": "code",
   "execution_count": null,
   "metadata": {},
   "outputs": [],
   "source": []
  },
  {
   "cell_type": "code",
   "execution_count": null,
   "metadata": {},
   "outputs": [],
   "source": []
  },
  {
   "cell_type": "code",
   "execution_count": null,
   "metadata": {},
   "outputs": [],
   "source": []
  },
  {
   "cell_type": "code",
   "execution_count": 5,
   "metadata": {},
   "outputs": [],
   "source": [
    "from typing import List\n",
    "\n",
    "class Solution:\n",
    "    def minStickers(self, stickers: List[str], target: str) -> int:\n",
    "        \n",
    "        def findNxtStatus(status, word):\n",
    "            for c in word: # 查看使用 c 能不能填补 status 缺失的部分\n",
    "                for i in range(n):\n",
    "                    if ((status >> i) & 1) == 0 and target[i] == c:\n",
    "                        status += (1 << i)\n",
    "                        break\n",
    "            return status\n",
    "        \n",
    "        n = len(target)\n",
    "        # 使用二进制表示 是否匹配 target 中的字符\n",
    "        dp = [float('inf')] * (1 << n)\n",
    "        dp[0] = 0\n",
    "        # 从小状态到大状态搜索\n",
    "        for i in range(1 << n):\n",
    "            for s in stickers:\n",
    "                if dp[i] == float('inf'): # 当前状态不可能达到\n",
    "                    continue\n",
    "                j = findNxtStatus(i, s) # 通过 当前状态和 s 查找下一个匹配的状态\n",
    "                dp[j] = min(dp[j], dp[i] + 1) # j 是下一个状态\n",
    "                \n",
    "        return dp[-1] if dp[-1] != float('inf') else -1"
   ]
  },
  {
   "cell_type": "code",
   "execution_count": 6,
   "metadata": {},
   "outputs": [
    {
     "data": {
      "text/plain": [
       "3"
      ]
     },
     "execution_count": 6,
     "metadata": {},
     "output_type": "execute_result"
    }
   ],
   "source": [
    "solution = Solution()\n",
    "solution.minStickers([\"with\", \"example\", \"science\"], \"thehat\")"
   ]
  },
  {
   "cell_type": "code",
   "execution_count": null,
   "metadata": {},
   "outputs": [],
   "source": []
  }
 ],
 "metadata": {
  "kernelspec": {
   "display_name": "Python 3",
   "language": "python",
   "name": "python3"
  },
  "language_info": {
   "codemirror_mode": {
    "name": "ipython",
    "version": 3
   },
   "file_extension": ".py",
   "mimetype": "text/x-python",
   "name": "python",
   "nbconvert_exporter": "python",
   "pygments_lexer": "ipython3",
   "version": "3.6.2"
  }
 },
 "nbformat": 4,
 "nbformat_minor": 4
}
