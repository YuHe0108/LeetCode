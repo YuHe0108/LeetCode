{
 "cells": [
  {
   "cell_type": "code",
   "execution_count": null,
   "metadata": {},
   "outputs": [],
   "source": []
  },
  {
   "cell_type": "code",
   "execution_count": 8,
   "metadata": {},
   "outputs": [
    {
     "data": {
      "text/plain": [
       "1099511627776"
      ]
     },
     "execution_count": 8,
     "metadata": {},
     "output_type": "execute_result"
    }
   ],
   "source": [
    "1 << 40"
   ]
  },
  {
   "cell_type": "code",
   "execution_count": 9,
   "metadata": {},
   "outputs": [
    {
     "data": {
      "text/plain": [
       "40960"
      ]
     },
     "execution_count": 9,
     "metadata": {},
     "output_type": "execute_result"
    }
   ],
   "source": [
    "pow(2, 10) * 40 "
   ]
  },
  {
   "cell_type": "code",
   "execution_count": 62,
   "metadata": {},
   "outputs": [],
   "source": [
    "from typing import List\n",
    "from collections import defaultdict\n",
    "\n",
    "class Solution:\n",
    "    def numberWays(self, hats: List[List[int]]) -> int:\n",
    "        \n",
    "        def haveHat(state, person):\n",
    "            return (state >> person) & 1\n",
    "        \n",
    "        h2p = defaultdict(list)\n",
    "        for i, v in enumerate(hats):\n",
    "            for h in v:\n",
    "                h2p[h].append(i)\n",
    "        \n",
    "        n = len(hats) # 有多少人\n",
    "        m = 1 << n # 每个人戴或不戴的可能状态\n",
    "        dp = [0] * m\n",
    "        dp[0] = 1 # 没有一个人戴 1 种类方案\n",
    "        \n",
    "        for h in range(1, 41): # 对于当前的帽子分给谁戴\n",
    "            if not h2p[h]:\n",
    "                continue\n",
    "            \n",
    "            temp = dp[:]\n",
    "            for s in range(m):\n",
    "                # 由于每个人戴的帽子不能相同，所以通过遍历的方式不会产生冲突\n",
    "                for p in h2p[h]: # 有哪些人可以戴当前这顶帽子\n",
    "                    if not haveHat(s, p): # 这个人在当前状态下没有戴过\n",
    "                        new_s = s + (1 << p)\n",
    "                        dp[new_s] += temp[s]\n",
    "                        \n",
    "        mod_val = 10**9 + 7\n",
    "        return dp[-1] % mod_val"
   ]
  },
  {
   "cell_type": "code",
   "execution_count": 63,
   "metadata": {},
   "outputs": [
    {
     "data": {
      "text/plain": [
       "4"
      ]
     },
     "execution_count": 63,
     "metadata": {},
     "output_type": "execute_result"
    }
   ],
   "source": [
    "solution = Solution()\n",
    "solution.numberWays([[3,5,1],[3,5]])"
   ]
  },
  {
   "cell_type": "code",
   "execution_count": 22,
   "metadata": {},
   "outputs": [
    {
     "name": "stdout",
     "output_type": "stream",
     "text": [
      "2\n"
     ]
    }
   ],
   "source": [
    "if not 0:\n",
    "    print(2)"
   ]
  },
  {
   "cell_type": "code",
   "execution_count": null,
   "metadata": {},
   "outputs": [],
   "source": []
  }
 ],
 "metadata": {
  "kernelspec": {
   "display_name": "Python 3",
   "language": "python",
   "name": "python3"
  },
  "language_info": {
   "codemirror_mode": {
    "name": "ipython",
    "version": 3
   },
   "file_extension": ".py",
   "mimetype": "text/x-python",
   "name": "python",
   "nbconvert_exporter": "python",
   "pygments_lexer": "ipython3",
   "version": "3.6.2"
  }
 },
 "nbformat": 4,
 "nbformat_minor": 4
}
