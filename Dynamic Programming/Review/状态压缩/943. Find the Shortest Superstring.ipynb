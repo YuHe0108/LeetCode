{
 "cells": [
  {
   "cell_type": "code",
   "execution_count": null,
   "metadata": {},
   "outputs": [],
   "source": []
  },
  {
   "cell_type": "code",
   "execution_count": 6,
   "metadata": {},
   "outputs": [
    {
     "data": {
      "text/plain": [
       "4"
      ]
     },
     "execution_count": 6,
     "metadata": {},
     "output_type": "execute_result"
    }
   ],
   "source": [
    "1 << 2"
   ]
  },
  {
   "cell_type": "raw",
   "metadata": {},
   "source": [
    "加入有 5 个单词   ['A', 'B', 'C', 'D', 'E']\n",
    "当使用其中四个的时候，status：01111, 那么最后一个拼接的可能是 B、C、D、E中的最后一个\n",
    "那么相应的前驱状态就会有 ：00111、01011、01101、01110\n",
    "对于 00111, 又会有三种可能，因为不确定 C、D、E谁在后面的代价最小: 00011 + dis(C, B), 先拼接C后拼接B\n",
    "                                                             00101 + dis(D, B), 先拼接D后拼接B，取其中的最小值"
   ]
  },
  {
   "cell_type": "markdown",
   "metadata": {},
   "source": [
    "### 旅行商问题"
   ]
  },
  {
   "cell_type": "code",
   "execution_count": 81,
   "metadata": {},
   "outputs": [],
   "source": [
    "from typing import List\n",
    "\n",
    "class Solution:\n",
    "    def shortestSuperstring(self, words: List[str]) -> str:\n",
    "        def calcDis(w1, w2):\n",
    "            # 用于表示在 w1的后面拼接 w2 的最小花费，最大就是w1的后端和w2的前端没有重叠\n",
    "            # 那么代价就是 len(s2)\n",
    "            n1, n2 = len(w1), len(w2)\n",
    "            for i in range(min(n1, n2), -1, -1):\n",
    "                if w1[-i:] == w2[:i]:\n",
    "                    return n2 - i\n",
    "            return n2\n",
    "        \n",
    "        def combine(w1, w2):\n",
    "            # 将 w2 拼接在 w1 的后面，尽量重叠重合的部分\n",
    "            n1, n2 = len(w1), len(w2)\n",
    "            for i in range(min(n1, n2), -1, -1):\n",
    "                if w1[-i:] == w2[:i]:\n",
    "                    return w1 + w2[i:]\n",
    "            return w1 + w2\n",
    "        \n",
    "        n = len(words)\n",
    "        m = 1 << n\n",
    "        \n",
    "        # dis[i][j] 表示在i的后面拼接j，最小代价是多少\n",
    "        dis = [[float('inf')] * n for _ in range(n)]\n",
    "        for i in range(n):\n",
    "            for j in range(n):\n",
    "                if i == j:\n",
    "                    dis[i][j] = 0\n",
    "                else:\n",
    "                    dis[i][j] = calcDis(words[i], words[j])\n",
    "        \n",
    "        # dp[status][last_word]: status是二进制的数字 0111 表示拼接 words[1]、word[2]、word[3]\n",
    "        # 且最后一个拼接的单词是last word的最小代价是多少\n",
    "        dp = [[float('inf')] * n for i in range(m)]\n",
    "        # 如果只拼接一个单词，那么很显然，代价为这个单词本身的长度\n",
    "        for i in range(n):\n",
    "            dp[1 << i][i] = len(words[i])\n",
    "            \n",
    "        par = [[-1] * n for i in range(m)] # par[i][j] 表示在i的后面拼接j可以是代价最小化\n",
    "        \n",
    "        for s in range(m):\n",
    "            for i in range(n): # 用于遍历，状态s使用了那些单词\n",
    "                if (s & (1 << i)) == 0: # 如果当前单词没有使用到，直接跳过\n",
    "                    continue\n",
    "                pre_s = s - (1 << i) # pre_s 表示可以到达 s 的前一个状态\n",
    "                if pre_s == 0: # 如果 s 只使用了一个单词的话，那么前驱状态 pre_s 必然是0\n",
    "                    continue\n",
    "                    \n",
    "                for j in range(n): # 哪些状态可以达到前驱状态，这些拼接的单词，每一个都有可能是最后一个拼接的\n",
    "                    if (pre_s & (1 << j)) == 0:\n",
    "                        continue\n",
    "                    # dis[j][i] 表示先拼接 j 在拼接 i 的代价，取一个最小值\n",
    "                    if dp[pre_s][j] + dis[j][i] < dp[s][i]:\n",
    "                        dp[s][i] = dp[pre_s][j] + dis[j][i]\n",
    "                        par[s][i] = j # i前面是 j\n",
    "        \n",
    "        # 查找最后一个拼接的单词是什么\n",
    "        end = None\n",
    "        cost = float('inf')\n",
    "        for i in range(n):\n",
    "            if dp[-1][i] < cost:\n",
    "                cost = dp[-1][i]\n",
    "                end = i\n",
    "        \n",
    "        # 根据起点拼接\n",
    "        node = end\n",
    "        path = [node] # 最优路径\n",
    "        status = m-1\n",
    "        while par[status][node] != -1:\n",
    "            pre_node = par[status][node] # 当前单词前面拼接什么是最优的\n",
    "            path.append(pre_node) \n",
    "            status = status ^ (1 << node) # 或者 status - (1 << node)，表示去掉当前去过的地方\n",
    "            node = pre_node\n",
    "        \n",
    "        # 因为我们是从后往前遍历的，所以要逆序\n",
    "        res = words[path[-1]]\n",
    "        for i in range(n-2, -1, -1):\n",
    "            res = combine(res, words[path[i]])\n",
    "        return res"
   ]
  },
  {
   "cell_type": "code",
   "execution_count": 82,
   "metadata": {},
   "outputs": [
    {
     "data": {
      "text/plain": [
       "'leetcodelovesalex'"
      ]
     },
     "execution_count": 82,
     "metadata": {},
     "output_type": "execute_result"
    }
   ],
   "source": [
    "solution = Solution()\n",
    "solution.shortestSuperstring([\"alex\",\"loves\",\"leetcode\"])"
   ]
  },
  {
   "cell_type": "code",
   "execution_count": null,
   "metadata": {},
   "outputs": [],
   "source": [
    "[[-1, -1, -1], \n",
    " [-1, -1, -1], \n",
    " [-1, -1, -1], \n",
    " [1, 0, -1], \n",
    " [-1, -1, -1], \n",
    " [2, -1, 0], \n",
    " [-1, 2, 1], \n",
    " [1, 0, 0]] \n",
    "2 [0, 1, 2]\n"
   ]
  }
 ],
 "metadata": {
  "kernelspec": {
   "display_name": "Python 3",
   "language": "python",
   "name": "python3"
  },
  "language_info": {
   "codemirror_mode": {
    "name": "ipython",
    "version": 3
   },
   "file_extension": ".py",
   "mimetype": "text/x-python",
   "name": "python",
   "nbconvert_exporter": "python",
   "pygments_lexer": "ipython3",
   "version": "3.6.2"
  }
 },
 "nbformat": 4,
 "nbformat_minor": 4
}
