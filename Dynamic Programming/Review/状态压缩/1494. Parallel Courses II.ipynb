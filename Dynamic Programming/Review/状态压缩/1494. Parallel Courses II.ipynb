{
 "cells": [
  {
   "cell_type": "code",
   "execution_count": null,
   "metadata": {},
   "outputs": [],
   "source": []
  },
  {
   "cell_type": "code",
   "execution_count": 3,
   "metadata": {},
   "outputs": [
    {
     "data": {
      "text/plain": [
       "32768"
      ]
     },
     "execution_count": 3,
     "metadata": {},
     "output_type": "execute_result"
    }
   ],
   "source": [
    "pow(2, 15)"
   ]
  },
  {
   "cell_type": "code",
   "execution_count": null,
   "metadata": {},
   "outputs": [],
   "source": []
  },
  {
   "cell_type": "code",
   "execution_count": null,
   "metadata": {},
   "outputs": [],
   "source": []
  },
  {
   "cell_type": "code",
   "execution_count": 88,
   "metadata": {},
   "outputs": [],
   "source": [
    "from typing import List\n",
    "from collections import defaultdict, deque\n",
    "import functools\n",
    "import math\n",
    "\n",
    "class Solution:\n",
    "    def minNumberOfSemesters(self, n: int, dependencies: List[List[int]], k: int) -> int:\n",
    "        if not dependencies:\n",
    "            return math.ceil(n / k)\n",
    "        \n",
    "        def sortByRely(x, y):\n",
    "            # 根据依赖关系排序，依赖此门课最多的那个需要先学\n",
    "            return rely[x] - rely[y]\n",
    "        \n",
    "        # 建立一张图，点的值为：1 ~ n\n",
    "        # 先找 入度 为0 的点，之后一层层的 剥离\n",
    "        graph = defaultdict(list) # key: 需要先学哪些课，val:学完key的这个节课，就可以学val中的课程\n",
    "        indeg = defaultdict(int)\n",
    "        rely = defaultdict(int)\n",
    "        for a, b in dependencies:\n",
    "            rely[a] += 1\n",
    "            indeg[b] += 1\n",
    "            graph[a].append(b)\n",
    "        \n",
    "        \n",
    "        dq = deque()\n",
    "        # 先把 入读为 0 的点\n",
    "        for i in range(1, n+1):\n",
    "            if indeg[i] == 0:\n",
    "                dq.append(i)\n",
    "        \n",
    "        cnt = 0\n",
    "        while dq:\n",
    "            # 如果有 3 门课没有门槛，而我最多只能学 2 个课程，那么我需要学依赖程度最多的那门课\n",
    "            # 因为如果解卡了这门课，我就有可能学更多的课\n",
    "            dq = list(dq)\n",
    "            dq.sort(key=functools.cmp_to_key(sortByRely))\n",
    "            dq = deque(dq)\n",
    "            \n",
    "            for i in range(min(k, len(dq))):\n",
    "                node = dq.popleft()\n",
    "                for v in graph[node]:\n",
    "                    indeg[v] -= 1\n",
    "                    if indeg[v] == 0:\n",
    "                        dq.append(v)\n",
    "            cnt += 1\n",
    "        return cnt"
   ]
  },
  {
   "cell_type": "code",
   "execution_count": null,
   "metadata": {},
   "outputs": [],
   "source": []
  },
  {
   "cell_type": "code",
   "execution_count": 142,
   "metadata": {},
   "outputs": [],
   "source": [
    "from collections import defaultdict, deque\n",
    "from typing import List\n",
    "\n",
    "class Solution:\n",
    "    def minNumberOfSemesters(self, n: int, dependencies: List[List[int]], k: int) -> int:\n",
    "        if not dependencies:\n",
    "            return math.ceil(n / k)\n",
    "        \n",
    "        req = [0] * n # 每一个课程的先行课程，也是用 01 二进制整形表示\n",
    "        for a, b in dependencies:\n",
    "            req[b-1] += (1 << (a - 1))\n",
    "        \n",
    "        m = 1 << n\n",
    "        # 学每个state中 的课，需要先学哪些依赖课程，依赖课程也是用01二进制表示的整形表示\n",
    "        prereq = [0] * m \n",
    "        # 每一个 state 中可能会有多个1，也就是修行了多个课程，那么修行这些课程之前需要学习哪些课\n",
    "        for state in range(m):\n",
    "            for i in range(n):\n",
    "                if ((state >> i) & 1) == 1:\n",
    "                    prereq[state] |= req[i]\n",
    "        \n",
    "        # dp[state] 是一个01二进制数字，1的地方表示学过当前这门课需要花多少学期\n",
    "        dp = [float('inf')] * m\n",
    "        dp[0] = 0\n",
    "        \n",
    "        for state in range(m):\n",
    "            x = bin(state)[2:].count('1') # state中学了多少课了\n",
    "            subset = state # subset是state 的子集\n",
    "\n",
    "            while True:\n",
    "                # subset的前一个状态 是 state 的子集\n",
    "                if x - bin(subset)[2:].count('1') <= k and (subset & prereq[state]) == prereq[state]:\n",
    "                    dp[state] = min(dp[state], dp[subset] + 1)\n",
    "                \n",
    "                if subset == 0:\n",
    "                    break\n",
    "                subset = (subset-1) & state \n",
    "        return dp[-1]"
   ]
  },
  {
   "cell_type": "code",
   "execution_count": 143,
   "metadata": {},
   "outputs": [
    {
     "data": {
      "text/plain": [
       "3"
      ]
     },
     "execution_count": 143,
     "metadata": {},
     "output_type": "execute_result"
    }
   ],
   "source": [
    "solution = Solution()\n",
    "solution.minNumberOfSemesters(4, [[2,1],[3,1],[1,4]], 2)"
   ]
  },
  {
   "cell_type": "code",
   "execution_count": 98,
   "metadata": {},
   "outputs": [
    {
     "data": {
      "text/plain": [
       "1"
      ]
     },
     "execution_count": 98,
     "metadata": {},
     "output_type": "execute_result"
    }
   ],
   "source": [
    "a = [1, 2, 3]\n",
    "a.count(1)"
   ]
  },
  {
   "cell_type": "code",
   "execution_count": null,
   "metadata": {},
   "outputs": [],
   "source": []
  }
 ],
 "metadata": {
  "kernelspec": {
   "display_name": "Python 3",
   "language": "python",
   "name": "python3"
  },
  "language_info": {
   "codemirror_mode": {
    "name": "ipython",
    "version": 3
   },
   "file_extension": ".py",
   "mimetype": "text/x-python",
   "name": "python",
   "nbconvert_exporter": "python",
   "pygments_lexer": "ipython3",
   "version": "3.6.2"
  }
 },
 "nbformat": 4,
 "nbformat_minor": 4
}
