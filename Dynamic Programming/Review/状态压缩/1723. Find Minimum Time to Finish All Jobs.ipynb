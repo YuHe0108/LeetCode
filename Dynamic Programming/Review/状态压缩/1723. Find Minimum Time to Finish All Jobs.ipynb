{
 "cells": [
  {
   "cell_type": "code",
   "execution_count": 26,
   "metadata": {},
   "outputs": [
    {
     "data": {
      "text/plain": [
       "6377292"
      ]
     },
     "execution_count": 26,
     "metadata": {},
     "output_type": "execute_result"
    }
   ],
   "source": [
    "pow(3, 12) * 12"
   ]
  },
  {
   "cell_type": "code",
   "execution_count": null,
   "metadata": {},
   "outputs": [],
   "source": []
  },
  {
   "cell_type": "code",
   "execution_count": 36,
   "metadata": {},
   "outputs": [],
   "source": [
    "from typing import List\n",
    "from functools import lru_cache\n",
    "\n",
    "# 二分搜索 + 状态压缩\n",
    "class Solution:\n",
    "    def minimumTimeRequired(self, jobs: List[int], k: int) -> int:\n",
    "        # 每一个工作都对一个工人来讲，都可以做，或者不做\n",
    "        @lru_cache(None)\n",
    "        def dfs(state, th, m): # 给第m个人，分配工作，并且这个工作时间不能超过th\n",
    "            if state == 0:\n",
    "                return True\n",
    "            if m == k:\n",
    "                return False\n",
    "            subset = state\n",
    "            while subset:\n",
    "                if times[subset] <= th and dfs(state - subset, th, m+1):\n",
    "                    return True\n",
    "                subset = (subset - 1) & state\n",
    "            return False\n",
    "            \n",
    "        n = len(jobs)\n",
    "        dp = [[float('inf')] * (1 << n) for _ in range(k + 1)]\n",
    "        times = [0] * (1 << n)\n",
    "        for state in range(1 << n):\n",
    "            sum_time = 0\n",
    "            for i in range(n):\n",
    "                if ((state >> i) & 1) == 1:\n",
    "                    sum_time += jobs[i]\n",
    "            times[state] = sum_time\n",
    "        \n",
    "        left, right = 1, sum(jobs)\n",
    "        while left < right:\n",
    "            mid = left + (right - left) // 2\n",
    "            if dfs((1<<n)-1, mid, 0):\n",
    "                right = mid\n",
    "            else:\n",
    "                left = mid + 1\n",
    "        return left"
   ]
  },
  {
   "cell_type": "code",
   "execution_count": null,
   "metadata": {},
   "outputs": [],
   "source": []
  },
  {
   "cell_type": "code",
   "execution_count": null,
   "metadata": {},
   "outputs": [],
   "source": []
  },
  {
   "cell_type": "code",
   "execution_count": null,
   "metadata": {},
   "outputs": [],
   "source": []
  },
  {
   "cell_type": "code",
   "execution_count": 48,
   "metadata": {},
   "outputs": [],
   "source": [
    "from typing import List\n",
    "from functools import lru_cache\n",
    "\n",
    "# 二分搜索 + DFS\n",
    "class Solution:\n",
    "    def minimumTimeRequired(self, jobs: List[int], k: int) -> int:\n",
    "        \n",
    "        def dfs(idx, workers, threshold):\n",
    "            # idx：分配第 idx 件jobs，threshold：每个工人工作时间不能超过threshold\n",
    "            # workers：每个工人工作的时间是多少\n",
    "            if idx == n: # 完成了所有的工作\n",
    "                return True\n",
    "            flag = 0\n",
    "            for i, w in enumerate(workers):\n",
    "                if w + jobs[idx] > threshold:\n",
    "                    continue\n",
    "                if w == 0 and flag == 1:\n",
    "                    continue\n",
    "                if w == 0 and flag == 0:\n",
    "                    flag = 1\n",
    "                workers[i] += jobs[idx]\n",
    "                if dfs(idx+1, workers, threshold):\n",
    "                    return True\n",
    "                workers[i] -= jobs[idx]\n",
    "            return False\n",
    "        \n",
    "        low = 1\n",
    "        high = sum(jobs)\n",
    "        n = len(jobs)\n",
    "        jobs.sort(reverse=True)\n",
    "        while low < high:\n",
    "            workers = [0] * k\n",
    "            mid = low + (high - low) // 2\n",
    "            if dfs(0, workers, mid):\n",
    "                high = mid\n",
    "            else:\n",
    "                low = mid + 1\n"
   ]
  },
  {
   "cell_type": "code",
   "execution_count": 49,
   "metadata": {},
   "outputs": [
    {
     "data": {
      "text/plain": [
       "3"
      ]
     },
     "execution_count": 49,
     "metadata": {},
     "output_type": "execute_result"
    }
   ],
   "source": [
    "solution = Solution()\n",
    "solution.minimumTimeRequired(jobs = [3,2,3], k = 3)"
   ]
  },
  {
   "cell_type": "code",
   "execution_count": null,
   "metadata": {},
   "outputs": [],
   "source": []
  },
  {
   "cell_type": "code",
   "execution_count": null,
   "metadata": {},
   "outputs": [],
   "source": []
  },
  {
   "cell_type": "code",
   "execution_count": null,
   "metadata": {},
   "outputs": [],
   "source": [
    "from typing import List\n",
    "from functools import lru_cache\n",
    "\n",
    "# DFS + 二分搜索 + 状态压缩 TLE\n",
    "class Solution:\n",
    "    def minimumTimeRequired(self, jobs: List[int], k: int) -> int:\n",
    "        \n",
    "        def dfs(workers, th, idx):\n",
    "            if idx == len(jobs): # 所有的任务都分配完成\n",
    "                return True\n",
    "            faliure = {}\n",
    "            for j in range(k):\n",
    "                if workers[j] + jobs[idx] >  th:\n",
    "                    continue\n",
    "                if workers[j] in faliure and jobs[idx] >= faliure[workers[j]]:\n",
    "                    continue\n",
    "                \n",
    "                workers[j] += jobs[idx]\n",
    "                if dfs(workers, th, idx + 1):\n",
    "                    return True\n",
    "                workers[j] -= jobs[idx]\n",
    "                if workers[j] in faliure:\n",
    "                    faliure[workers[j]] = min(jobs[idx], faliure[workers[j]])\n",
    "                else:\n",
    "                    faliure[workers[j]] = jobs[idx]\n",
    "            return False\n",
    "        \n",
    "        jobs.sort(reverse=True)\n",
    "        left, right = 1, sum(jobs)\n",
    "        while left < right:\n",
    "            workers = [0] * k # 表示每个人分配的工作时长有多少\n",
    "            mid = left + (right - left) // 2\n",
    "            if dfs(workers, mid, 0): # 其中 0 表示分配第 idx=0 的工作给工人\n",
    "                right = mid\n",
    "            else:\n",
    "                left = mid + 1\n",
    "        return left"
   ]
  },
  {
   "cell_type": "code",
   "execution_count": null,
   "metadata": {},
   "outputs": [],
   "source": []
  },
  {
   "cell_type": "code",
   "execution_count": null,
   "metadata": {},
   "outputs": [],
   "source": []
  },
  {
   "cell_type": "code",
   "execution_count": null,
   "metadata": {},
   "outputs": [],
   "source": []
  },
  {
   "cell_type": "code",
   "execution_count": null,
   "metadata": {},
   "outputs": [],
   "source": []
  },
  {
   "cell_type": "code",
   "execution_count": 4,
   "metadata": {},
   "outputs": [],
   "source": [
    "from typing import List\n",
    "\n",
    "class Solution:\n",
    "    def minimumTimeRequired(self, jobs: List[int], k: int) -> int:\n",
    "        @lru_cache(None)\n",
    "        def calcTime(state):\n",
    "            cost = 0\n",
    "            for i in range(n):\n",
    "                if ((state >> i) & 1) == 1:\n",
    "                    cost += jobs[i]\n",
    "            return cost\n",
    "        \n",
    "        n = len(jobs)\n",
    "        m = 1 << n # 给一个人可能配工作的方式\n",
    "        # dp[i][state]: 使用前 i 个工人，完成 state 工作，需要最少的工作时间是多少\n",
    "        dp = [[float('inf')] * m for _ in range(k)]\n",
    "        dp[0][0] = 0 # 没有一个人，完成 0 项工作，时间为 0\n",
    "        \n",
    "        for state in range(m):\n",
    "            dp[0][state] = calcTime(state)\n",
    "        \n",
    "        for i in range(1, k):\n",
    "            for state in range(m):\n",
    "                subset = state\n",
    "                while subset:\n",
    "                    # 前 dp[i-1]个工人完成工作的最大时间\n",
    "                    dp[i][state] = min(dp[i][state], max(dp[i-1][state-subset], calcTime(subset)))\n",
    "                    subset = ((subset - 1) & state)\n",
    "        return dp[-1][-1]"
   ]
  },
  {
   "cell_type": "code",
   "execution_count": 5,
   "metadata": {},
   "outputs": [
    {
     "data": {
      "text/plain": [
       "3"
      ]
     },
     "execution_count": 5,
     "metadata": {},
     "output_type": "execute_result"
    }
   ],
   "source": [
    "solution = Solution()\n",
    "solution.minimumTimeRequired(jobs = [3,2,3], k = 3)"
   ]
  },
  {
   "cell_type": "code",
   "execution_count": null,
   "metadata": {},
   "outputs": [],
   "source": []
  }
 ],
 "metadata": {
  "kernelspec": {
   "display_name": "Python 3",
   "language": "python",
   "name": "python3"
  },
  "language_info": {
   "codemirror_mode": {
    "name": "ipython",
    "version": 3
   },
   "file_extension": ".py",
   "mimetype": "text/x-python",
   "name": "python",
   "nbconvert_exporter": "python",
   "pygments_lexer": "ipython3",
   "version": "3.6.2"
  }
 },
 "nbformat": 4,
 "nbformat_minor": 4
}
