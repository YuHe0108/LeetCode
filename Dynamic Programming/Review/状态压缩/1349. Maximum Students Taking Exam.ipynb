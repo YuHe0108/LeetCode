{
 "cells": [
  {
   "cell_type": "code",
   "execution_count": null,
   "metadata": {},
   "outputs": [],
   "source": [
    " "
   ]
  },
  {
   "cell_type": "code",
   "execution_count": 72,
   "metadata": {},
   "outputs": [
    {
     "data": {
      "text/plain": [
       "'0002'"
      ]
     },
     "execution_count": 72,
     "metadata": {},
     "output_type": "execute_result"
    }
   ],
   "source": [
    "'%04d'%2"
   ]
  },
  {
   "cell_type": "code",
   "execution_count": null,
   "metadata": {},
   "outputs": [],
   "source": []
  },
  {
   "cell_type": "code",
   "execution_count": 83,
   "metadata": {},
   "outputs": [],
   "source": [
    "from typing import List\n",
    "\n",
    "class Solution:\n",
    "    def maxStudents(self, seats: List[List[str]]) -> int: \n",
    "        \n",
    "        def selfOk(vals, row_num):\n",
    "            # 不能连续坐人，'#'上面不能坐人\n",
    "            for i in range(cols):\n",
    "                if ((vals >> i) & 1) == 1 and seats[row_num][i] == '#':\n",
    "                    return False\n",
    "                if i < cols-1 and ((vals >> i) & 1) == ((vals >> (i+1)) & 1) == 1:\n",
    "                    return False\n",
    "            return True\n",
    "        \n",
    "        def crossOk(pre, nxt):\n",
    "            # pre前面一行，nxt为 pre 的后面一行\n",
    "            for i in range(cols):\n",
    "                if ((nxt >> i) & 1) == 1 and i-1 >= 0 and ((pre >> (i-1)) & 1) == 1:\n",
    "                    return False\n",
    "                if ((nxt >> i) & 1) == 1 and i+1 < cols and (pre >> (i+1)) & 1 == 1:\n",
    "                    return False\n",
    "            return True\n",
    "        \n",
    "        def countPerson(nums):\n",
    "            # 当前的排列方式能坐下多少人，也就是数有多少个 1\n",
    "            return bin(nums)[2:].count('1')\n",
    "        \n",
    "        rows, cols = len(seats), len(seats[0])\n",
    "        n = 1 << cols # 每一排有多少中可能的坐法\n",
    "        dp = [-float('inf')] * n # 每一种排列方式最多能够坐多少人\n",
    "        \n",
    "        for s in range(n):\n",
    "            if not selfOk(s, 0):\n",
    "                continue\n",
    "            dp[s] = countPerson(s)\n",
    "        \n",
    "        for i in range(1, rows):\n",
    "            new_dp = [0] * n\n",
    "            \n",
    "            for cur_s in range(n): # 当前的状态\n",
    "                # 当前的这种坐法，对于当前这行是否符合要求\n",
    "                if not selfOk(cur_s, i):\n",
    "                    continue\n",
    "                person = countPerson(cur_s) # 统计人数\n",
    "                \n",
    "                for pre_s in range(n):\n",
    "                    if not selfOk(pre_s, i-1):\n",
    "                        continue\n",
    "                    # 当前的这种坐法，对于前面的坐法是否没有冲突\n",
    "                    if not crossOk(pre_s, cur_s):\n",
    "                        continue\n",
    "                    # 各种坐法中求个最大值\n",
    "                    new_dp[cur_s] = max(new_dp[cur_s], dp[pre_s] + person)\n",
    "            dp = new_dp\n",
    "            \n",
    "        return max(dp)"
   ]
  },
  {
   "cell_type": "code",
   "execution_count": 84,
   "metadata": {},
   "outputs": [
    {
     "data": {
      "text/plain": [
       "6"
      ]
     },
     "execution_count": 84,
     "metadata": {},
     "output_type": "execute_result"
    }
   ],
   "source": [
    "solution = Solution()\n",
    "solution.maxStudents([[\".\",\"#\",\".\",\"#\"],\n",
    "                      [\".\",\".\",\".\",\"#\"],\n",
    "                      [\"#\",\"#\",\".\",\".\"],\n",
    "                      [\".\",\"#\",\"#\",\"#\"]])"
   ]
  },
  {
   "cell_type": "code",
   "execution_count": null,
   "metadata": {},
   "outputs": [],
   "source": []
  }
 ],
 "metadata": {
  "kernelspec": {
   "display_name": "Python 3",
   "language": "python",
   "name": "python3"
  },
  "language_info": {
   "codemirror_mode": {
    "name": "ipython",
    "version": 3
   },
   "file_extension": ".py",
   "mimetype": "text/x-python",
   "name": "python",
   "nbconvert_exporter": "python",
   "pygments_lexer": "ipython3",
   "version": "3.6.2"
  }
 },
 "nbformat": 4,
 "nbformat_minor": 4
}
