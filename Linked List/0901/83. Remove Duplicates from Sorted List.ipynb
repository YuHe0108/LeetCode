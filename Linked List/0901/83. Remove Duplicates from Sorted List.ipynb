{
 "cells": [
  {
   "cell_type": "raw",
   "metadata": {},
   "source": [
    "说明：\n",
    "    给定一个排序的链表，删除所有重复项，使每个元素仅出现一次。\n",
    "\n",
    "Example 1:\n",
    "    Input: 1->1->2\n",
    "    Output: 1->2\n",
    "\n",
    "Example 2:\n",
    "    Input: 1->1->2->3->3\n",
    "    Output: 1->2->3"
   ]
  },
  {
   "cell_type": "code",
   "execution_count": 2,
   "metadata": {},
   "outputs": [],
   "source": [
    "class ListNode:\n",
    "    def __init__(self, val=0, next=None):\n",
    "        self.val = val\n",
    "        self.next = next"
   ]
  },
  {
   "cell_type": "code",
   "execution_count": 3,
   "metadata": {},
   "outputs": [],
   "source": [
    "class Solution:\n",
    "    def deleteDuplicates(self, head: ListNode) -> ListNode:\n",
    "        if not head or not head.next:\n",
    "            return head\n",
    "        res = head\n",
    "        pre_val = head.val\n",
    "        while head and head.next:\n",
    "            if head.next.val == pre_val:\n",
    "                head.next = head.next.next\n",
    "            else:\n",
    "                pre_val = head.next.val\n",
    "                head = head.next\n",
    "        return res"
   ]
  },
  {
   "cell_type": "code",
   "execution_count": null,
   "metadata": {},
   "outputs": [],
   "source": []
  }
 ],
 "metadata": {
  "kernelspec": {
   "display_name": "Python 3",
   "language": "python",
   "name": "python3"
  },
  "language_info": {
   "codemirror_mode": {
    "name": "ipython",
    "version": 3
   },
   "file_extension": ".py",
   "mimetype": "text/x-python",
   "name": "python",
   "nbconvert_exporter": "python",
   "pygments_lexer": "ipython3",
   "version": "3.6.2"
  }
 },
 "nbformat": 4,
 "nbformat_minor": 4
}
