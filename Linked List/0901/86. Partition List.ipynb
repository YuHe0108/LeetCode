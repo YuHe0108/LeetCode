{
 "cells": [
  {
   "cell_type": "raw",
   "metadata": {},
   "source": [
    "说明：\n",
    "    给定一个链表和一个值x，对其进行分区，\n",
    "    以使所有小于x的节点排在大于或等于x的节点之前。\n",
    "    您应该在两个分区的每个分区中保留节点的原始相对顺序。\n",
    "\n",
    "Example:\n",
    "    Input: head = 1->4->3->2->5->2, x = 3\n",
    "    Output: 1->2->2->4->3->5    "
   ]
  },
  {
   "cell_type": "code",
   "execution_count": null,
   "metadata": {},
   "outputs": [],
   "source": [
    "class Solution:\n",
    "    def partition(self, head: ListNode, x: int) -> ListNode:\n",
    "        s_root = s_res = ListNode(0)\n",
    "        l_root = l_res = ListNode(0)\n",
    "        while head:\n",
    "            if head.val < x:\n",
    "                s_root.next = ListNode(head.val)\n",
    "                s_root = s_root.next\n",
    "            else:\n",
    "                l_root.next = ListNode(head.val)\n",
    "                l_root = l_root.next\n",
    "            head = head.next\n",
    "        s_root.next = l_res.next\n",
    "        return s_res.next"
   ]
  },
  {
   "cell_type": "code",
   "execution_count": 1,
   "metadata": {},
   "outputs": [],
   "source": [
    "a = b = 'c'"
   ]
  },
  {
   "cell_type": "code",
   "execution_count": 2,
   "metadata": {},
   "outputs": [],
   "source": [
    "a = 'd'"
   ]
  },
  {
   "cell_type": "code",
   "execution_count": 5,
   "metadata": {},
   "outputs": [
    {
     "name": "stdout",
     "output_type": "stream",
     "text": [
      "d c\n"
     ]
    }
   ],
   "source": [
    "print(a, b)"
   ]
  },
  {
   "cell_type": "code",
   "execution_count": null,
   "metadata": {},
   "outputs": [],
   "source": []
  }
 ],
 "metadata": {
  "kernelspec": {
   "display_name": "Python 3",
   "language": "python",
   "name": "python3"
  },
  "language_info": {
   "codemirror_mode": {
    "name": "ipython",
    "version": 3
   },
   "file_extension": ".py",
   "mimetype": "text/x-python",
   "name": "python",
   "nbconvert_exporter": "python",
   "pygments_lexer": "ipython3",
   "version": "3.6.2"
  }
 },
 "nbformat": 4,
 "nbformat_minor": 4
}
