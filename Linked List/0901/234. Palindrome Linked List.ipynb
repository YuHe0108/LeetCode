{
 "cells": [
  {
   "cell_type": "raw",
   "metadata": {},
   "source": [
    "说明：\n",
    "    给定一个单链表，确定它是否是回文。\n",
    "\n",
    "Example 1:\n",
    "    Input: 1->2\n",
    "    Output: false\n",
    "\n",
    "Example 2:\n",
    "    Input: 1->2->2->1\n",
    "    Output: true\n",
    "\n",
    "Follow up:\n",
    "    1、Could you do it in O(n) time and O(1) space?"
   ]
  },
  {
   "cell_type": "code",
   "execution_count": 2,
   "metadata": {},
   "outputs": [],
   "source": [
    "class ListNode:\n",
    "    def __init__(self, val=0, next=None):\n",
    "        self.val = val\n",
    "        self.next = next"
   ]
  },
  {
   "cell_type": "code",
   "execution_count": 3,
   "metadata": {},
   "outputs": [],
   "source": [
    "# 时间复杂度和空间复杂度 都是 N\n",
    "class Solution:\n",
    "    def isPalindrome(self, head: ListNode) -> bool:\n",
    "        self.vals = []\n",
    "        self.helper(head)\n",
    "        if len(self.vals) <= 1:\n",
    "            return True\n",
    "        s = 0\n",
    "        e = len(self.vals) - 1\n",
    "        while s <= e:\n",
    "            if self.vals[s] != self.vals[e]:\n",
    "                return False\n",
    "            else:\n",
    "                s += 1\n",
    "                e -= 1\n",
    "        return True if e - s <= 1 else False\n",
    "        \n",
    "    def helper(self, root):\n",
    "        if root:\n",
    "            self.vals.append(root.val)\n",
    "            self.helper(root.next)\n",
    "        else:\n",
    "            return"
   ]
  },
  {
   "cell_type": "code",
   "execution_count": 6,
   "metadata": {},
   "outputs": [],
   "source": [
    "# 时间复杂度为 O(N) 空间复杂度为 O(1)\n",
    "class Solution:\n",
    "    def isPalindrome(self, head: ListNode) -> bool:\n",
    "        #rev记录前半部分，需要设置与FAST、Slow相同的结构，所以后面我们有rev.Next\n",
    "        rev = None\n",
    "        # 初始化 slow和fast，都从头开始\n",
    "        slow = fast = head\n",
    "        # fast 遍历速度更快，如果长度为奇数，则移至列表末尾\n",
    "        while fast and fast.next:\n",
    "            fast = fast.next.next\n",
    "            rev, rev.next, slow = slow, rev, slow.next\n",
    "       \n",
    "        # fast 在末尾，再慢一步比较一下(中间交叉)\n",
    "        # 当 val 的值是奇数个的时候， fast不为空，但是fast.next为空\n",
    "        if fast:\n",
    "            slow = slow.next\n",
    "        \n",
    "        # 将颠倒的上半场与下半场进行比较\n",
    "        while rev and rev.val == slow.val:\n",
    "            slow = slow.next\n",
    "            rev = rev.next\n",
    "        # 如果等效，则rev变为None，返回True；否则返回False\n",
    "        return not rev"
   ]
  },
  {
   "cell_type": "code",
   "execution_count": null,
   "metadata": {},
   "outputs": [],
   "source": []
  }
 ],
 "metadata": {
  "kernelspec": {
   "display_name": "Python 3",
   "language": "python",
   "name": "python3"
  },
  "language_info": {
   "codemirror_mode": {
    "name": "ipython",
    "version": 3
   },
   "file_extension": ".py",
   "mimetype": "text/x-python",
   "name": "python",
   "nbconvert_exporter": "python",
   "pygments_lexer": "ipython3",
   "version": "3.6.2"
  }
 },
 "nbformat": 4,
 "nbformat_minor": 4
}
