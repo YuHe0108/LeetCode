{
 "cells": [
  {
   "cell_type": "raw",
   "metadata": {},
   "source": [
    "说明：\n",
    "    编写一个函数以删除单链接列表中的节点（尾部除外），仅授予对该节点的访问权限。\n",
    "\n",
    "Example 1:\n",
    "    Input: head = [4,5,1,9], node = 5\n",
    "    Output: [4,1,9]\n",
    "    Explanation: You are given the second node with value 5,\n",
    "                 the linked list should become 4 -> 1 -> 9 after calling your function.\n",
    "Example 2:\n",
    "    Input: head = [4,5,1,9], node = 1\n",
    "    Output: [4,5,9]\n",
    "    Explanation: You are given the third node with value 1, \n",
    "                 the linked list should become 4 -> 5 -> 9 after calling your function.\n",
    "\n",
    "注意：\n",
    "    1、链表将至少包含两个元素。\n",
    "    2、所有节点的值都是唯一的。\n",
    "    3、给定的节点将不是尾部，并且将始终是链表的有效节点。\n",
    "    4、不要从函数中返回任何东西。"
   ]
  },
  {
   "cell_type": "code",
   "execution_count": 1,
   "metadata": {},
   "outputs": [],
   "source": [
    "class ListNode:\n",
    "    def __init__(self, x):\n",
    "        self.val = x\n",
    "        self.next = None"
   ]
  },
  {
   "cell_type": "code",
   "execution_count": null,
   "metadata": {},
   "outputs": [],
   "source": [
    "class Solution:\n",
    "    def deleteNode(self, node):\n",
    "        vic_node = node.next\n",
    "        node.val = vic_node.val\n",
    "        node.next = vic_node.next\n",
    "        del vic_node\n",
    "        return"
   ]
  }
 ],
 "metadata": {
  "kernelspec": {
   "display_name": "Python 3",
   "language": "python",
   "name": "python3"
  },
  "language_info": {
   "codemirror_mode": {
    "name": "ipython",
    "version": 3
   },
   "file_extension": ".py",
   "mimetype": "text/x-python",
   "name": "python",
   "nbconvert_exporter": "python",
   "pygments_lexer": "ipython3",
   "version": "3.6.2"
  }
 },
 "nbformat": 4,
 "nbformat_minor": 4
}
