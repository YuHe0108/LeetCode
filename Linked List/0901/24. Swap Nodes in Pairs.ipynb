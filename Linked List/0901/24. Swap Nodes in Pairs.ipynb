{
 "cells": [
  {
   "cell_type": "raw",
   "metadata": {},
   "source": [
    "说明：\n",
    "    给定一个链表，每隔两个相邻节点交换并返回其头。\n",
    "    您不能修改列表节点中的值，只能更改节点本身。\n",
    "\n",
    "Example:\n",
    "    Given 1->2->3->4, you should return the list as 2->1->4->3."
   ]
  },
  {
   "cell_type": "code",
   "execution_count": 2,
   "metadata": {},
   "outputs": [],
   "source": [
    "class ListNode:\n",
    "    def __init__(self, val=0, next=None):\n",
    "        self.val = val\n",
    "        self.next = next\n",
    "\n",
    "class Solution:\n",
    "    def swapPairs(self, head: ListNode) -> ListNode:\n",
    "        dummy = prev = ListNode()\n",
    "        prev.next = head\n",
    "        \n",
    "        while prev.next and prev.next.next:\n",
    "            a = prev.next\n",
    "            b = prev.next.next\n",
    "            c = prev.next.next.next\n",
    "            prev.next = b\n",
    "            prev.next.next = a\n",
    "            prev.next.next = c\n",
    "            prev = prev.next.next\n",
    "        return dummy.next"
   ]
  },
  {
   "cell_type": "code",
   "execution_count": null,
   "metadata": {},
   "outputs": [],
   "source": []
  }
 ],
 "metadata": {
  "kernelspec": {
   "display_name": "Python 3",
   "language": "python",
   "name": "python3"
  },
  "language_info": {
   "codemirror_mode": {
    "name": "ipython",
    "version": 3
   },
   "file_extension": ".py",
   "mimetype": "text/x-python",
   "name": "python",
   "nbconvert_exporter": "python",
   "pygments_lexer": "ipython3",
   "version": "3.6.2"
  }
 },
 "nbformat": 4,
 "nbformat_minor": 4
}
