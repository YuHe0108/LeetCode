{
 "cells": [
  {
   "cell_type": "raw",
   "metadata": {},
   "source": [
    "说明：\n",
    "    将链接列表从位置m反向到n。一次性完成。\n",
    "\n",
    "Note: \n",
    "    1 ≤ m ≤ n ≤ length of list.\n",
    "\n",
    "Example:\n",
    "    Input: 1->2->3->4->5->NULL, m = 2, n = 4\n",
    "    Output: 1->4->3->2->5->NULL"
   ]
  },
  {
   "cell_type": "code",
   "execution_count": 1,
   "metadata": {},
   "outputs": [],
   "source": [
    "class ListNode:\n",
    "    def __init__(self, val=0, next=None):\n",
    "        self.val = val\n",
    "        self.next = next"
   ]
  },
  {
   "cell_type": "code",
   "execution_count": 2,
   "metadata": {},
   "outputs": [],
   "source": [
    "class Solution:\n",
    "    def reverseBetween(self, head: ListNode, m: int, n: int) -> ListNode:\n",
    "        if m == n:\n",
    "            return head\n",
    "        root = ListNode(0)\n",
    "        root.next = head\n",
    "        pre = root\n",
    "        \n",
    "        # 在m之前，都是正序\n",
    "        for i in range(m - 1):\n",
    "            pre = pre.next\n",
    "        \n",
    "        # m之后，n之前，反序\n",
    "        reverse = None\n",
    "        cur = pre.next\n",
    "        for i in range(n-m+1):\n",
    "            next = cur.next\n",
    "            cur.next = reverse\n",
    "            reverse = cur\n",
    "            cur = next\n",
    "        \n",
    "        pre.next.next = cur\n",
    "        pre.next = reverse\n",
    "        return root.next\n",
    "        "
   ]
  },
  {
   "cell_type": "code",
   "execution_count": null,
   "metadata": {},
   "outputs": [],
   "source": [
    "#  比较笨重\n",
    "class Solution:\n",
    "    def reverseBetween(self, head: ListNode, m: int, n: int) -> ListNode:\n",
    "        #  是位置不是值\n",
    "        if m > n:\n",
    "            m, n = n, m\n",
    "        res = root = ListNode(0)\n",
    "        self.vals = []\n",
    "        self.helper(head)\n",
    "        re_vals = self.vals[m-1:n][::-1]\n",
    "        index = 1\n",
    "        re_index = 0\n",
    "        while index <= len(self.vals):\n",
    "            if m <= index <= n:\n",
    "                res.next = ListNode(re_vals[re_index])\n",
    "                re_index += 1\n",
    "            else:\n",
    "                res.next = ListNode(self.vals[index-1])\n",
    "            res = res.next\n",
    "            index += 1\n",
    "        return root.next\n",
    "    \n",
    "    def helper(self, root):\n",
    "        if root:\n",
    "            self.vals.append(root.val)\n",
    "            self.helper(root.next)\n",
    "        else:\n",
    "            return"
   ]
  }
 ],
 "metadata": {
  "kernelspec": {
   "display_name": "Python 3",
   "language": "python",
   "name": "python3"
  },
  "language_info": {
   "codemirror_mode": {
    "name": "ipython",
    "version": 3
   },
   "file_extension": ".py",
   "mimetype": "text/x-python",
   "name": "python",
   "nbconvert_exporter": "python",
   "pygments_lexer": "ipython3",
   "version": "3.6.2"
  }
 },
 "nbformat": 4,
 "nbformat_minor": 4
}
