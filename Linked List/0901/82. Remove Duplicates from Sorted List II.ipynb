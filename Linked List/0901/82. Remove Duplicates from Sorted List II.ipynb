{
 "cells": [
  {
   "cell_type": "raw",
   "metadata": {},
   "source": [
    "说明：\n",
    "    给定一个已排序的链表，删除所有具有重复编号的节点，只保留原始列表中不同的编号。\n",
    "    返回排序后的链表。\n",
    "    \n",
    "Example 1:\n",
    "    Input: 1->2->3->3->4->4->5\n",
    "    Output: 1->2->5\n",
    "\n",
    "Example 2:\n",
    "    Input: 1->1->1->2->3\n",
    "    Output: 2->3"
   ]
  },
  {
   "cell_type": "code",
   "execution_count": 1,
   "metadata": {},
   "outputs": [],
   "source": [
    "class ListNode:\n",
    "    def __init__(self, val=0, next=None):\n",
    "        self.val = val\n",
    "        self.next = next"
   ]
  },
  {
   "cell_type": "code",
   "execution_count": 3,
   "metadata": {},
   "outputs": [],
   "source": [
    "class Solution:\n",
    "    def deleteDuplicates(self, head: ListNode) -> ListNode:\n",
    "        if not head:\n",
    "            return None\n",
    "        \n",
    "        duplicate = set()\n",
    "        pre_val = head.val\n",
    "        res = root = ListNode()\n",
    "        while head.next:\n",
    "            if head.next.val == pre_val:\n",
    "                duplicate.add(pre_val)\n",
    "            else:\n",
    "                if pre_val not in duplicate:\n",
    "                    res.next = ListNode(pre_val)\n",
    "                    res = res.next\n",
    "                pre_val = head.next.val\n",
    "            head = head.next\n",
    "        if head.val not in duplicate:\n",
    "            res.next = ListNode(head.val)\n",
    "        return root.next          "
   ]
  },
  {
   "cell_type": "code",
   "execution_count": null,
   "metadata": {},
   "outputs": [],
   "source": []
  }
 ],
 "metadata": {
  "kernelspec": {
   "display_name": "Python 3",
   "language": "python",
   "name": "python3"
  },
  "language_info": {
   "codemirror_mode": {
    "name": "ipython",
    "version": 3
   },
   "file_extension": ".py",
   "mimetype": "text/x-python",
   "name": "python",
   "nbconvert_exporter": "python",
   "pygments_lexer": "ipython3",
   "version": "3.6.2"
  }
 },
 "nbformat": 4,
 "nbformat_minor": 4
}
