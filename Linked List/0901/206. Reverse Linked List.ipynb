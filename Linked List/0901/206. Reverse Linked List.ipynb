{
 "cells": [
  {
   "cell_type": "raw",
   "metadata": {},
   "source": [
    "说明：\n",
    "    反转单链列表。\n",
    "    \n",
    "Example:\n",
    "    Input: 1->2->3->4->5->NULL\n",
    "    Output: 5->4->3->2->1->NULL\n",
    "\n",
    "跟进：\n",
    "    1、可以迭代或递归地反向链接列表。\n",
    "    2、你能同时实现吗？"
   ]
  },
  {
   "cell_type": "markdown",
   "metadata": {},
   "source": [
    "<img src='206.jpg' width=550>"
   ]
  },
  {
   "cell_type": "code",
   "execution_count": 1,
   "metadata": {},
   "outputs": [],
   "source": [
    "class ListNode:\n",
    "    def __init__(self, val=0, next=None):\n",
    "        self.val = val\n",
    "        self.next = next\n",
    "\n",
    "class Solution:\n",
    "    def reverseList(self, head: ListNode) -> ListNode:\n",
    "        vals = []\n",
    "        while head:\n",
    "            vals.append(head.val)\n",
    "            head = head.next\n",
    "        \n",
    "        head = ListNode()\n",
    "        res = head\n",
    "        while vals:\n",
    "            val = vals.pop()\n",
    "            res.next = ListNode(val)\n",
    "            res = res.next\n",
    "        return head.next"
   ]
  },
  {
   "cell_type": "code",
   "execution_count": 2,
   "metadata": {},
   "outputs": [],
   "source": [
    "class Solution:\n",
    "    def reverseList(self, head: ListNode) -> ListNode:\n",
    "        # 递归的方式\n",
    "        self.vals = []\n",
    "        self.get_vals(head)\n",
    "        root = ListNode()\n",
    "        res = root\n",
    "        self.construct(root)\n",
    "        return res.next\n",
    "    \n",
    "    def get_vals(self, root):\n",
    "        if root:\n",
    "            self.vals.append(root.val)\n",
    "            self.get_vals(root.next)\n",
    "        else:\n",
    "            return\n",
    "    \n",
    "    def construct(self, root):\n",
    "        if self.vals:\n",
    "            val = self.vals.pop()\n",
    "            root.next = ListNode(val)\n",
    "            self.construct(root.next)\n",
    "        else:\n",
    "            return"
   ]
  },
  {
   "cell_type": "code",
   "execution_count": null,
   "metadata": {},
   "outputs": [],
   "source": [
    "class Solution:\n",
    "    def reverseList(self, head):\n",
    "        pre = None\n",
    "        cur = head \n",
    "        while cur:\n",
    "            temp = curr.next\n",
    "            cur.next = pre\n",
    "            pre = cur\n",
    "            cur = temp\n",
    "        return pre"
   ]
  },
  {
   "cell_type": "code",
   "execution_count": null,
   "metadata": {},
   "outputs": [],
   "source": [
    "def reverseList(head, prev=None):\n",
    "    if not head:\n",
    "        return prev\n",
    "    next = head.next\n",
    "    head.next = prev\n",
    "    return self.reverseList(next, head)"
   ]
  },
  {
   "cell_type": "code",
   "execution_count": null,
   "metadata": {},
   "outputs": [],
   "source": [
    "class Solution:\n",
    "    def reverseList(self, head):\n",
    "        pre = None\n",
    "        cur = head\n",
    "        while head:\n",
    "            next_n = head.next\n",
    "            cur.next = pre\n",
    "            pre = cur\n",
    "            cur = next_n\n",
    "        return pre"
   ]
  }
 ],
 "metadata": {
  "kernelspec": {
   "display_name": "Python 3",
   "language": "python",
   "name": "python3"
  },
  "language_info": {
   "codemirror_mode": {
    "name": "ipython",
    "version": 3
   },
   "file_extension": ".py",
   "mimetype": "text/x-python",
   "name": "python",
   "nbconvert_exporter": "python",
   "pygments_lexer": "ipython3",
   "version": "3.6.2"
  }
 },
 "nbformat": 4,
 "nbformat_minor": 4
}
