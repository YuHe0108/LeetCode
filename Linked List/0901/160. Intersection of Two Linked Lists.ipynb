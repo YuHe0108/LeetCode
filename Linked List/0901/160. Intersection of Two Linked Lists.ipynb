{
 "cells": [
  {
   "cell_type": "raw",
   "metadata": {},
   "source": [
    "说明：\n",
    "    编写程序以查找两个单链表的交点开始的节点。\n",
    "\n",
    "注意：\n",
    "    1、如果两个链表根本没有交集，则返回null。\n",
    "    2、函数返回后，链接列表必须保留其原始结构。\n",
    "    3、您可能会假设整个链接结构中的任何地方都没有循环。\n",
    "    4、每个链接列表上的每个值都在[1，10 ^ 9]范围内。\n",
    "    5、您的代码最好以O（n）时间运行，并且仅使用O（1）内存。"
   ]
  },
  {
   "cell_type": "code",
   "execution_count": null,
   "metadata": {},
   "outputs": [],
   "source": [
    "# Definition for singly-linked list.\n",
    "class ListNode:\n",
    "    def __init__(self, x):\n",
    "        self.val = x\n",
    "        self.next = None\n",
    "\n",
    "class Solution:\n",
    "    def getIntersectionNode(self, headA: ListNode, headB: ListNode) -> ListNode:\n",
    "        temp1 = headA\n",
    "        temp2 = headB\n",
    "        d = {}\n",
    "        while temp1:\n",
    "            d[temp1] = temp1\n",
    "            temp1 = temp1.next\n",
    "        while temp2:\n",
    "            if temp2 in d:\n",
    "                return temp2\n",
    "            temp2 = temp2.next\n",
    "        return None"
   ]
  },
  {
   "cell_type": "code",
   "execution_count": null,
   "metadata": {},
   "outputs": [],
   "source": []
  },
  {
   "cell_type": "code",
   "execution_count": null,
   "metadata": {},
   "outputs": [],
   "source": [
    "class Solution:\n",
    "    def getIntersectionNode(self, headA: ListNode, headB: ListNode) -> ListNode:\n",
    "        if not headA or not headB:\n",
    "            return None\n",
    "        pa = headA\n",
    "        pb = headB\n",
    "        while pa is not pb:\n",
    "            pa = headB if pa is None else pa.next\n",
    "            pb = headA if pb is None else pb.next\n",
    "        return pa"
   ]
  }
 ],
 "metadata": {
  "kernelspec": {
   "display_name": "Python 3",
   "language": "python",
   "name": "python3"
  },
  "language_info": {
   "codemirror_mode": {
    "name": "ipython",
    "version": 3
   },
   "file_extension": ".py",
   "mimetype": "text/x-python",
   "name": "python",
   "nbconvert_exporter": "python",
   "pygments_lexer": "ipython3",
   "version": "3.6.2"
  }
 },
 "nbformat": 4,
 "nbformat_minor": 4
}
