{
 "cells": [
  {
   "cell_type": "code",
   "execution_count": null,
   "metadata": {},
   "outputs": [],
   "source": []
  },
  {
   "cell_type": "code",
   "execution_count": null,
   "metadata": {},
   "outputs": [],
   "source": []
  },
  {
   "cell_type": "code",
   "execution_count": null,
   "metadata": {},
   "outputs": [],
   "source": []
  },
  {
   "cell_type": "code",
   "execution_count": 1,
   "metadata": {},
   "outputs": [],
   "source": [
    "class ListNode:\n",
    "    def __init__(self, val=0, next=None):\n",
    "        self.val = val\n",
    "        self.next = next\n",
    "\n",
    "class Solution:\n",
    "    def swapNodes(self, head: ListNode, k: int) -> ListNode:\n",
    "        pass"
   ]
  },
  {
   "cell_type": "code",
   "execution_count": null,
   "metadata": {},
   "outputs": [],
   "source": [
    "# Definition for singly-linked list.\n",
    "# class ListNode:\n",
    "#     def __init__(self, val=0, next=None):\n",
    "#         self.val = val\n",
    "#         self.next = next\n",
    "\n",
    "class Solution:\n",
    "    def swapNodes(self, head: ListNode, k: int) -> ListNode:\n",
    "        pre = nxt = None # 第 k 个节点的前一个节点，后一个节点\n",
    "        k_val = None\n",
    "        n = 0\n",
    "        res = dummy = head\n",
    "        while head:\n",
    "            n += 1\n",
    "            if n < k:\n",
    "                pre = head\n",
    "                nxt = head.next.next if head.next else None\n",
    "                k_val = head.next.val\n",
    "            head = head.next\n",
    "        \n",
    "        r_pre = r_nxt = None\n",
    "        r_k_val = None\n",
    "        r_k = n - k + 1\n",
    "        n = 0\n",
    "        while dummy:\n",
    "            n += 1\n",
    "            if n < r_k:\n",
    "                r_pre = dummy\n",
    "                r_nxt = dummy.next.next if dummy.next else None\n",
    "                r_k_val = dummy.next.val\n",
    "            dummy = dummy.next\n",
    "        print(k_val, r_k_val)\n",
    "        print(pre, nxt, r_pre, r_nxt)\n",
    "        pre.next = ListNode(r_k_val, nxt)\n",
    "        r_pre.next = ListNode(k_val, r_nxt)\n",
    "        return res\n",
    "        "
   ]
  },
  {
   "cell_type": "code",
   "execution_count": null,
   "metadata": {},
   "outputs": [],
   "source": []
  },
  {
   "cell_type": "code",
   "execution_count": null,
   "metadata": {},
   "outputs": [],
   "source": [
    "# Definition for singly-linked list.\n",
    "# class ListNode:\n",
    "#     def __init__(self, val=0, next=None):\n",
    "#         self.val = val\n",
    "#         self.next = next\n",
    "class Solution:\n",
    "    def swapNodes(self, head: ListNode, k: int) -> ListNode:\n",
    "        vals = []\n",
    "        while head:\n",
    "            vals.append(head.val)\n",
    "            head = head.next\n",
    "        vals[k-1], vals[-k] = vals[-k], vals[k-1]\n",
    "        dummy = root = ListNode()\n",
    "        for v in vals:\n",
    "            dummy.next = ListNode(v)\n",
    "            dummy = dummy.next\n",
    "        return root.next"
   ]
  },
  {
   "cell_type": "code",
   "execution_count": null,
   "metadata": {},
   "outputs": [],
   "source": []
  },
  {
   "cell_type": "code",
   "execution_count": 2,
   "metadata": {},
   "outputs": [
    {
     "name": "stdout",
     "output_type": "stream",
     "text": [
      "3\n",
      "2\n",
      "1\n"
     ]
    }
   ],
   "source": [
    "a = [1, 2, 3]\n",
    "for v in a[::-1]:\n",
    "    print(v)"
   ]
  },
  {
   "cell_type": "code",
   "execution_count": null,
   "metadata": {},
   "outputs": [],
   "source": []
  },
  {
   "cell_type": "code",
   "execution_count": null,
   "metadata": {},
   "outputs": [],
   "source": [
    "# Definition for singly-linked list.\n",
    "# class ListNode:\n",
    "#     def __init__(self, val=0, next=None):\n",
    "#         self.val = val\n",
    "#         self.next = next\n",
    "class Solution:\n",
    "    def swapNodes(self, head: ListNode, k: int) -> ListNode:\n",
    "        # 一共有多少个节点\n",
    "        n = 0\n",
    "        node = head\n",
    "        while node:\n",
    "            node = node.next\n",
    "            n += 1\n",
    "        #print(n)\n",
    "        \n",
    "        node = head\n",
    "        for i in range(1,k):\n",
    "            node = node.next\n",
    "        \n",
    "        node2 = head\n",
    "        for i in range(1,n-k+1):\n",
    "            node2 = node2.next\n",
    "        \n",
    "        node.val, node2.val = node2.val, node.val\n",
    "        return head"
   ]
  }
 ],
 "metadata": {
  "kernelspec": {
   "display_name": "Python 3",
   "language": "python",
   "name": "python3"
  },
  "language_info": {
   "codemirror_mode": {
    "name": "ipython",
    "version": 3
   },
   "file_extension": ".py",
   "mimetype": "text/x-python",
   "name": "python",
   "nbconvert_exporter": "python",
   "pygments_lexer": "ipython3",
   "version": "3.6.2"
  }
 },
 "nbformat": 4,
 "nbformat_minor": 4
}
