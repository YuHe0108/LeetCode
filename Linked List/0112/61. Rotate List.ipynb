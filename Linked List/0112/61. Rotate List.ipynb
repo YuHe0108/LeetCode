{
 "cells": [
  {
   "cell_type": "code",
   "execution_count": null,
   "metadata": {},
   "outputs": [],
   "source": []
  },
  {
   "cell_type": "code",
   "execution_count": 1,
   "metadata": {},
   "outputs": [],
   "source": [
    "class Solution:\n",
    "    def rotateRight(self, head, k):\n",
    "        # [1,2,3,4,5] k =2\n",
    "        # two pointer approach\n",
    "        if not head:\n",
    "            return head\n",
    "        \n",
    "        fast = head\n",
    "        lenght = 1\n",
    "        while fast.next: # 倒数第二个节点\n",
    "            fast = fast.next\n",
    "            lenght += 1\n",
    "            \n",
    "        slow = head\n",
    "        k %= lenght\n",
    "        for _ in range(lenght-k-1):\n",
    "            slow = slow.next\n",
    "            \n",
    "        fast.next = head\n",
    "        head = slow.next\n",
    "        slow.next = None\n",
    "        return head"
   ]
  },
  {
   "cell_type": "code",
   "execution_count": null,
   "metadata": {},
   "outputs": [],
   "source": []
  },
  {
   "cell_type": "code",
   "execution_count": null,
   "metadata": {},
   "outputs": [],
   "source": [
    "# Definition for singly-linked list.\n",
    "# class ListNode:\n",
    "#     def __init__(self, val=0, next=None):\n",
    "#         self.val = val\n",
    "#         self.next = next\n",
    "from collections import deque\n",
    "\n",
    "class Solution:\n",
    "    def rotateRight(self, head: ListNode, k: int) -> ListNode:\n",
    "        if not head:\n",
    "            return head\n",
    "        vals = deque()\n",
    "        while head:\n",
    "            vals.append(head.val)\n",
    "            head = head.next\n",
    "        n = len(vals)\n",
    "        k = k % n\n",
    "        for _ in range(k):\n",
    "            v = vals.pop()\n",
    "            vals.appendleft(v)\n",
    "        dummy = res = ListNode(0)\n",
    "        for i in range(n):\n",
    "            dummy.next = ListNode(vals[i])\n",
    "            dummy = dummy.next\n",
    "        return res.next"
   ]
  },
  {
   "cell_type": "code",
   "execution_count": null,
   "metadata": {},
   "outputs": [],
   "source": []
  },
  {
   "cell_type": "code",
   "execution_count": null,
   "metadata": {},
   "outputs": [],
   "source": [
    "class Solution:\n",
    "    def rotateRight(self, head, k):\n",
    "        if not head:\n",
    "            return head\n",
    "\n",
    "        pre = head\n",
    "        count = 1\n",
    "        while pre.next:\n",
    "            count += 1\n",
    "            pre = pre.next # 现在pre是尾节点\n",
    "            \n",
    "        pre.next = head # 形成循环链表\n",
    "        n = count - k % count # 倒数第 n 个节点应该是头节点\n",
    "        q = head\n",
    "        for _ in range(n-1): # 头节点的前一个节点 为 q\n",
    "            q = q.next\n",
    "\n",
    "        ret = q.next\n",
    "        q.next = None\n",
    "        return ret"
   ]
  }
 ],
 "metadata": {
  "kernelspec": {
   "display_name": "Python 3",
   "language": "python",
   "name": "python3"
  },
  "language_info": {
   "codemirror_mode": {
    "name": "ipython",
    "version": 3
   },
   "file_extension": ".py",
   "mimetype": "text/x-python",
   "name": "python",
   "nbconvert_exporter": "python",
   "pygments_lexer": "ipython3",
   "version": "3.6.2"
  }
 },
 "nbformat": 4,
 "nbformat_minor": 4
}
