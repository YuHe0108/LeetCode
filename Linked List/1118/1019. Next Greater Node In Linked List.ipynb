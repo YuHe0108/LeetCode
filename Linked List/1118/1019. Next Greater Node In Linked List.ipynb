{
 "cells": [
  {
   "cell_type": "raw",
   "metadata": {},
   "source": [
    "    给出一个以头节点 head 作为第一个节点的链表。链表中的节点分别编号为：node_1, node_2, node_3, ... 。\n",
    "\n",
    "    每个节点都可能有下一个更大值（next larger value）：\n",
    "        对于 node_i，如果其 next_larger(node_i) 是 node_j.val，那么就有 j > i 且  node_j.val > node_i.val，\n",
    "        而 j 是可能的选项中最小的那个。如果不存在这样的 j，那么下一个更大值为 0 。\n",
    "    返回整数答案数组 answer，其中 answer[i] = next_larger(node_{i+1}) 。\n",
    "\n",
    "    注意：在下面的示例中，诸如 [2,1,5] 这样的输入（不是输出）是链表的序列化表示，其头节点的值为 2，第二个节点值为 1，第三个节点值为 5 。\n",
    "\n",
    "示例 1：\n",
    "    输入：[2,1,5]\n",
    "    输出：[5,5,0]\n",
    "\n",
    "示例 2：\n",
    "    输入：[2,7,4,3,5]\n",
    "    输出：[7,0,5,5,0]\n",
    "\n",
    "示例 3：\n",
    "    输入：[1,7,5,1,9,2,5,1]\n",
    "    输出：[7,9,9,9,0,5,0,0]\n",
    "\n",
    "提示：\n",
    "    对于链表中的每个节点，1 <= node.val <= 10^9\n",
    "    给定列表的长度在 [0, 10000] 范围内"
   ]
  },
  {
   "cell_type": "code",
   "execution_count": null,
   "metadata": {},
   "outputs": [],
   "source": [
    "# Definition for singly-linked list.\n",
    "# class ListNode:\n",
    "#     def __init__(self, val=0, next=None):\n",
    "#         self.val = val\n",
    "#         self.next = next\n",
    "\n",
    "class Solution:\n",
    "    def nextLargerNodes(self, head: ListNode) -> List[int]:\n",
    "        stack = []\n",
    "        res = [0] * 10001 \n",
    "        cnt = 0\n",
    "        while head:\n",
    "            val = head.val\n",
    "            while stack and stack[-1][0] < val:\n",
    "                n, idx = stack.pop()\n",
    "                res[idx] = val\n",
    "            stack.append((val, cnt))\n",
    "            head = head.next\n",
    "            cnt += 1\n",
    "        return res[:cnt]\n",
    "        "
   ]
  }
 ],
 "metadata": {
  "kernelspec": {
   "display_name": "Python 3",
   "language": "python",
   "name": "python3"
  },
  "language_info": {
   "codemirror_mode": {
    "name": "ipython",
    "version": 3
   },
   "file_extension": ".py",
   "mimetype": "text/x-python",
   "name": "python",
   "nbconvert_exporter": "python",
   "pygments_lexer": "ipython3",
   "version": "3.6.2"
  }
 },
 "nbformat": 4,
 "nbformat_minor": 4
}
