{
 "cells": [
  {
   "cell_type": "raw",
   "metadata": {},
   "source": [
    "说明：\n",
    "    您将获得一个双向链接列表，该列表除了下一个和上一个指针外，还可以具有一个子指针，\n",
    "    该子指针可以指向也可以不指向单独的双向链接列表。\n",
    "    这些子列表可能有一个或多个自己的子列表，依此类推，以产生一个多级数据结构，如下例所示。\n",
    "    展平列表，以便所有节点都出现在单级双链接列表中。\n",
    "    您将获得列表第一级的头。\n",
    "\n",
    "Example 1:\n",
    "    Input: head = [1,2,3,4,5,6,null,null,null,7,8,9,10,null,null,11,12]\n",
    "    Output: [1,2,3,7,8,11,12,9,10,4,5,6]\n",
    "    \n",
    "Explanation:\n",
    "    The multilevel linked list in the input is as follows:"
   ]
  },
  {
   "cell_type": "markdown",
   "metadata": {},
   "source": [
    "<img src='430_1.jpg' width=900>\n",
    "<img src='430_2.jpg' width=1200>"
   ]
  },
  {
   "cell_type": "code",
   "execution_count": 13,
   "metadata": {},
   "outputs": [],
   "source": [
    "class Node:\n",
    "    def __init__(self, val, prev, next, child):\n",
    "        self.val = val\n",
    "        self.prev = prev\n",
    "        self.next = next\n",
    "        self.child = child"
   ]
  },
  {
   "cell_type": "code",
   "execution_count": 12,
   "metadata": {},
   "outputs": [],
   "source": [
    "class Solution:\n",
    "    def flatten(self, head: 'Node') -> 'Node':\n",
    "        if not head:\n",
    "            return\n",
    "        vals = []\n",
    "        while head:\n",
    "            vals.append(head.val)\n",
    "            child_val = self.check_child(head)\n",
    "            vals.extend(child_val)\n",
    "            head = head.next\n",
    "        \n",
    "        res = root = Node(0, None, None, None)\n",
    "        nodes = [] \n",
    "        for i in range(len(vals)):\n",
    "            root.next = Node(vals[i], None, None, None)\n",
    "            root = root.next\n",
    "            nodes.append(root)\n",
    "            if i > 0:\n",
    "                root.prev = nodes[i-1]\n",
    "        return res.next\n",
    "            \n",
    "    def check_child(self, root):\n",
    "        child = root.child\n",
    "        vals = []\n",
    "        while child:\n",
    "            vals.append(child.val)\n",
    "            if child.child:\n",
    "                c_vals = self.check_child(child)\n",
    "                vals.extend(c_vals)\n",
    "            child = child.next\n",
    "        return vals"
   ]
  },
  {
   "cell_type": "code",
   "execution_count": 14,
   "metadata": {},
   "outputs": [],
   "source": [
    "\"\"\"\n",
    "# Definition for a Node.\n",
    "class Node:\n",
    "    def __init__(self, val, prev, next, child):\n",
    "        self.val = val\n",
    "        self.prev = prev\n",
    "        self.next = next\n",
    "        self.child = child\n",
    "\"\"\"\n",
    "\n",
    "class Solution:\n",
    "    def flatten(self, head: 'Node') -> 'Node':\n",
    "        if not head:\n",
    "            return\n",
    "        vals = []\n",
    "        while head:\n",
    "            vals.append(head.val)\n",
    "            child_val = self.check_child(head)\n",
    "            vals.extend(child_val)\n",
    "            head = head.next\n",
    "        \n",
    "        res = root = Node(0, None, None, None)\n",
    "        nodes = [] \n",
    "        for i in range(len(vals)):\n",
    "            root.next = Node(vals[i], None, None, None)\n",
    "            root = root.next\n",
    "            if nodes:\n",
    "                root.prev = nodes.pop()\n",
    "            nodes.append(root)\n",
    "        return res.next\n",
    "            \n",
    "    def check_child(self, root):\n",
    "        child = root.child\n",
    "        vals = []\n",
    "        while child:\n",
    "            vals.append(child.val)\n",
    "            if child.child:\n",
    "                c_vals = self.check_child(child)\n",
    "                vals.extend(c_vals)\n",
    "            child = child.next\n",
    "        return vals"
   ]
  },
  {
   "cell_type": "code",
   "execution_count": 1,
   "metadata": {},
   "outputs": [],
   "source": []
  },
  {
   "cell_type": "code",
   "execution_count": 16,
   "metadata": {},
   "outputs": [],
   "source": []
  },
  {
   "cell_type": "code",
   "execution_count": null,
   "metadata": {},
   "outputs": [],
   "source": []
  },
  {
   "cell_type": "code",
   "execution_count": null,
   "metadata": {},
   "outputs": [],
   "source": []
  },
  {
   "cell_type": "code",
   "execution_count": null,
   "metadata": {},
   "outputs": [],
   "source": []
  },
  {
   "cell_type": "code",
   "execution_count": null,
   "metadata": {},
   "outputs": [],
   "source": []
  },
  {
   "cell_type": "code",
   "execution_count": null,
   "metadata": {},
   "outputs": [],
   "source": []
  }
 ],
 "metadata": {
  "kernelspec": {
   "display_name": "Python 3",
   "language": "python",
   "name": "python3"
  },
  "language_info": {
   "codemirror_mode": {
    "name": "ipython",
    "version": 3
   },
   "file_extension": ".py",
   "mimetype": "text/x-python",
   "name": "python",
   "nbconvert_exporter": "python",
   "pygments_lexer": "ipython3",
   "version": "3.6.2"
  }
 },
 "nbformat": 4,
 "nbformat_minor": 4
}
