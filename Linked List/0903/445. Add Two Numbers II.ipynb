{
 "cells": [
  {
   "cell_type": "raw",
   "metadata": {},
   "source": [
    "说明：\n",
    "    您将获得两个表示两个非负整数的非空链表。\n",
    "    最重要的数字在前，每个节点都包含一个数字。\n",
    "    将两个数字相加，并将其作为链表返回。\n",
    "    您可能会假设两个数字除了数字0本身以外都不包含任何前导零。\n",
    "    \n",
    "Example:\n",
    "    Input: (7 -> 2 -> 4 -> 3) + (5 -> 6 -> 4)\n",
    "    Output: 7 -> 8 -> 0 -> 7\n",
    "    \n",
    "跟进：\n",
    "    1、如果无法修改输入列表怎么办？\n",
    "    2、换句话说，不允许反转列表。    "
   ]
  },
  {
   "cell_type": "code",
   "execution_count": 4,
   "metadata": {},
   "outputs": [],
   "source": [
    "class ListNode:\n",
    "    def __init__(self, val=0, next=None):\n",
    "        self.val = val\n",
    "        self.next = next"
   ]
  },
  {
   "cell_type": "code",
   "execution_count": 1,
   "metadata": {},
   "outputs": [],
   "source": [
    "class Solution:\n",
    "    def addTwoNumbers(self, l1: ListNode, l2: ListNode) -> ListNode:\n",
    "        l1_vals = self.traverse(l1)\n",
    "        l2_vals = self.traverse(l2)\n",
    "        sum_vals = []\n",
    "        res = root = ListNode(0)\n",
    "        \n",
    "        while l1_vals or l2_vals:\n",
    "            l1_val = l1_vals.pop() if l1_vals else 0\n",
    "            l2_val = l2_vals.pop() if l2_vals else 0\n",
    "            sum_val = l1_val + l2_val\n",
    "            if sum_val >= 10:\n",
    "                sum_val -= 10\n",
    "                if l1_vals:\n",
    "                    l1_vals[-1] += 1\n",
    "                else:\n",
    "                    l1_vals.append(1)\n",
    "            sum_vals.append(sum_val)\n",
    "        while sum_vals:\n",
    "            val = sum_vals.pop()\n",
    "            res.next = ListNode(val)\n",
    "            res = res.next\n",
    "        return root.next\n",
    "    \n",
    "    def traverse(self, root):\n",
    "        vals = []\n",
    "        while root:\n",
    "            vals.append(root.val)\n",
    "            root = root.next\n",
    "        return vals"
   ]
  }
 ],
 "metadata": {
  "kernelspec": {
   "display_name": "Python 3",
   "language": "python",
   "name": "python3"
  },
  "language_info": {
   "codemirror_mode": {
    "name": "ipython",
    "version": 3
   },
   "file_extension": ".py",
   "mimetype": "text/x-python",
   "name": "python",
   "nbconvert_exporter": "python",
   "pygments_lexer": "ipython3",
   "version": "3.6.2"
  }
 },
 "nbformat": 4,
 "nbformat_minor": 4
}
