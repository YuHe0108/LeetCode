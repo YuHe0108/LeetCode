{
 "cells": [
  {
   "cell_type": "raw",
   "metadata": {},
   "source": [
    "说明：\n",
    "    给定一个（头）根节点为根的链表，编写一个函数将链表拆分为k个连续的链表“部分”。\n",
    "    每个部分的长度应尽可能相等：两个部分的大小之差不得超过1。\n",
    "    这可能导致某些部分为空。\n",
    "    part应按输入列表中出现的顺序排列，并且较早出现的零件的大小应始终大于或等于较晚出现的零件的大小。\n",
    "    返回表示所形成的链接列表部分的ListNode的List。\n",
    "\n",
    "Examples:\n",
    "    inputs: 1->2->3->4, k = 5 // 5 \n",
    "    outputs: equal parts [ [1], [2], [3], [4], null ]\n",
    "    \n",
    "Example 1:\n",
    "    Input:\n",
    "        root = [1, 2, 3], k = 5\n",
    "    Output: [[1],[2],[3],[],[]]\n",
    "\n",
    "Explanation:\n",
    "    The input and each element of the output are ListNodes, not arrays.\n",
    "    For example, the input root has root.val = 1, root.next.val = 2, \\root.next.next.val = 3, and root.next.next.next = null.\n",
    "    The first element output[0] has output[0].val = 1, output[0].next = null.\n",
    "    The last element output[4] is null, but it's string representation as a ListNode is [].\n",
    "\n",
    "Example 2:\n",
    "    Input: \n",
    "        root = [1, 2, 3, 4, 5, 6, 7, 8, 9, 10], k = 3\n",
    "    Output: [[1, 2, 3, 4], [5, 6, 7], [8, 9, 10]]\n",
    "\n",
    "Explanation:\n",
    "    The input has been split into consecutive parts with size difference at most 1, and earlier parts are a larger size than the later parts."
   ]
  },
  {
   "cell_type": "code",
   "execution_count": 1,
   "metadata": {},
   "outputs": [],
   "source": [
    "class ListNode:\n",
    "    def __init__(self, val=0, next=None):\n",
    "        self.val = val\n",
    "        self.next = next"
   ]
  },
  {
   "cell_type": "code",
   "execution_count": 10,
   "metadata": {},
   "outputs": [],
   "source": [
    "class Solution:\n",
    "    def splitListToParts(self, root: ListNode, k: int):\n",
    "        if not root:\n",
    "            return [None] * k\n",
    "        vals = self.traverse(root)\n",
    "        outputs = []\n",
    "        while k > 0:\n",
    "            n_part = ceil(len(vals) / k)     \n",
    "            res = root = ListNode(0)\n",
    "            for i in range(n_part):\n",
    "                val = vals.pop(0)\n",
    "                root.next = ListNode(val)\n",
    "                root = root.next\n",
    "            k -= 1\n",
    "            outputs.append(res.next)\n",
    "        return outputs                \n",
    "    \n",
    "    def traverse(self, root):\n",
    "        vals = []\n",
    "        while root:\n",
    "            vals.append(root.val)\n",
    "            root = root.next\n",
    "        return vals\n",
    "            "
   ]
  },
  {
   "cell_type": "code",
   "execution_count": 8,
   "metadata": {},
   "outputs": [
    {
     "data": {
      "text/plain": [
       "1"
      ]
     },
     "execution_count": 8,
     "metadata": {},
     "output_type": "execute_result"
    }
   ],
   "source": [
    "math.ceil(3/4)"
   ]
  },
  {
   "cell_type": "code",
   "execution_count": null,
   "metadata": {},
   "outputs": [],
   "source": []
  }
 ],
 "metadata": {
  "kernelspec": {
   "display_name": "Python 3",
   "language": "python",
   "name": "python3"
  },
  "language_info": {
   "codemirror_mode": {
    "name": "ipython",
    "version": 3
   },
   "file_extension": ".py",
   "mimetype": "text/x-python",
   "name": "python",
   "nbconvert_exporter": "python",
   "pygments_lexer": "ipython3",
   "version": "3.6.2"
  }
 },
 "nbformat": 4,
 "nbformat_minor": 4
}
