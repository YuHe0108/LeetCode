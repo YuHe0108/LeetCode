{
 "cells": [
  {
   "cell_type": "raw",
   "metadata": {},
   "source": [
    "说明：\n",
    "    给定一个单链表，将所有奇数节点组合在一起，然后是偶数节点。\n",
    "    请注意，这里我们谈论的是节点号，而不是节点中的值。您应该尝试就地进行。\n",
    "    该程序应在O（1）空间复杂度和 O（节点）时间复杂度下运行。\n",
    "\n",
    "约束：\n",
    "    1、偶数和奇数组内的相对顺序应保持输入中的原样。\n",
    "    2、第一个节点被认为是奇数，第二个节点被认为是偶数，依此类推...\n",
    "    3、链表的长度在[0，10 ^ 4]之间。"
   ]
  },
  {
   "cell_type": "code",
   "execution_count": 1,
   "metadata": {},
   "outputs": [],
   "source": [
    "class Solution(object):\n",
    "    def oddEvenList(self, head):\n",
    "        \"\"\"\n",
    "        :type head: ListNode\n",
    "        :rtype: ListNode\n",
    "        \"\"\"\n",
    "        dummy1 = odd = ListNode(0)\n",
    "        dummy2 = even = ListNode(0)\n",
    "\n",
    "        while head:\n",
    "            odd.next = head\n",
    "            even.next = head.next\n",
    "            odd = odd.next\n",
    "            even = even.next\n",
    "            head = head.next.next if even else None\n",
    "        odd.next = dummpy2.next\n",
    "        return dummy1"
   ]
  },
  {
   "cell_type": "code",
   "execution_count": null,
   "metadata": {},
   "outputs": [],
   "source": [
    "class Solution(object):\n",
    "    def oddEvenList(self, head):\n",
    "        \"\"\"\n",
    "        :type head: ListNode\n",
    "        :rtype: ListNode\n",
    "        \"\"\"\n",
    "        if not head or not head.next or not head.next.next:\n",
    "            return head\n",
    "        prev = head\n",
    "        p1 = head.next\n",
    "        p2 = head.next\n",
    "        while p2 and p2.next:\n",
    "            q = p2.next\n",
    "            prev.next = q\n",
    "            prev = q\n",
    "            p2.next = q.next\n",
    "            p2 = p2.next\n",
    "        prev.next = p1\n",
    "        return head"
   ]
  },
  {
   "cell_type": "code",
   "execution_count": null,
   "metadata": {},
   "outputs": [],
   "source": [
    "class Solution(object):\n",
    "    def oddEvenList(self, head):\n",
    "        \"\"\"\n",
    "        :type head: ListNode\n",
    "        :rtype: ListNode\n",
    "        \"\"\"\n",
    "        if not head or not head.next or not head.next.next:\n",
    "            return head\n",
    "        dumpy_1 = odd = head\n",
    "        dumpy_2 = even = head.next\n",
    "        while even and even.next:\n",
    "            odd.next = even.next\n",
    "            odd = odd.next\n",
    "            even.next = odd.next\n",
    "            even = even.next\n",
    "        odd.next = dumpy_2\n",
    "        return dumpy_1"
   ]
  }
 ],
 "metadata": {
  "kernelspec": {
   "display_name": "Python 3",
   "language": "python",
   "name": "python3"
  },
  "language_info": {
   "codemirror_mode": {
    "name": "ipython",
    "version": 3
   },
   "file_extension": ".py",
   "mimetype": "text/x-python",
   "name": "python",
   "nbconvert_exporter": "python",
   "pygments_lexer": "ipython3",
   "version": "3.6.2"
  }
 },
 "nbformat": 4,
 "nbformat_minor": 4
}
