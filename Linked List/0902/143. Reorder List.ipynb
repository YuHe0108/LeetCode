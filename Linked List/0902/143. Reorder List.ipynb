{
 "cells": [
  {
   "cell_type": "raw",
   "metadata": {},
   "source": [
    "说明：\n",
    "    给定一个单链列表L：L0→L1→…→Ln-1→Ln，将其重新排序为：L0→Ln→L1→Ln-1→L2→Ln-2→…。\n",
    "    您可能无法修改列表节点中的值，只能更改节点本身。\n",
    "\n",
    "Example 1:\n",
    "    Given 1->2->3->4, reorder it to 1->4->2->3.\n",
    "\n",
    "Example 2:\n",
    "    Given 1->2->3->4->5, reorder it to 1->5->2->4->3."
   ]
  },
  {
   "cell_type": "code",
   "execution_count": 1,
   "metadata": {},
   "outputs": [],
   "source": [
    "class ListNode:\n",
    "    def __init__(self, val=0, next=None):\n",
    "        self.val = val\n",
    "        self.next = next"
   ]
  },
  {
   "cell_type": "code",
   "execution_count": null,
   "metadata": {},
   "outputs": [],
   "source": [
    "class Solution:\n",
    "    def reorderList(self, head: ListNode) -> None:\n",
    "        \"\"\"\n",
    "        Do not return anything, modify head in-place instead.\n",
    "        \"\"\"\n",
    "        # ----------------------------------------------\n",
    "        # Save linked list in array\n",
    "        arr = []\n",
    "        cur, length = head, 0\n",
    "        while cur:\n",
    "            arr.append(cur.val)\n",
    "            cur = cur.next\n",
    "            length += 1\n",
    "        left = 0\n",
    "        right = length - 1\n",
    "        last = head\n",
    "        while left < right:\n",
    "            arr[left].next = arr[right]\n",
    "            left += 1\n",
    "            \n",
    "            if left == right:\n",
    "                last = arr[right]\n",
    "                break\n",
    "            \n",
    "            arr[right].next = arr[left]\n",
    "            right -= 1\n",
    "            last = arr[left]\n",
    "        if last:\n",
    "            last.next = None"
   ]
  }
 ],
 "metadata": {
  "kernelspec": {
   "display_name": "Python 3",
   "language": "python",
   "name": "python3"
  },
  "language_info": {
   "codemirror_mode": {
    "name": "ipython",
    "version": 3
   },
   "file_extension": ".py",
   "mimetype": "text/x-python",
   "name": "python",
   "nbconvert_exporter": "python",
   "pygments_lexer": "ipython3",
   "version": "3.6.2"
  }
 },
 "nbformat": 4,
 "nbformat_minor": 4
}
