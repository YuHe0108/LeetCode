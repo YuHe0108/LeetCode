{
 "cells": [
  {
   "cell_type": "raw",
   "metadata": {},
   "source": [
    "说明：\n",
    "    以 O(nlog(n)) 的 时间复杂度排序\n",
    "\n",
    "Example 1:\n",
    "    Input: 4->2->1->3\n",
    "    Output: 1->2->3->4\n",
    "    \n",
    "Example 2:\n",
    "    Input: -1->5->3->4->0\n",
    "    Output: -1->0->3->4->5"
   ]
  },
  {
   "cell_type": "code",
   "execution_count": 1,
   "metadata": {},
   "outputs": [],
   "source": [
    "class ListNode:\n",
    "    def __init__(self, val=0, next=None):\n",
    "        self.val = val\n",
    "        self.next = next"
   ]
  },
  {
   "cell_type": "code",
   "execution_count": null,
   "metadata": {},
   "outputs": [],
   "source": [
    "# 归并排序\n",
    "class Solution:\n",
    "    def sortList(self, head: ListNode) -> ListNode:\n",
    "        if not head or not head.next:\n",
    "            return head\n",
    "        p, q = head, head.next\n",
    "        while q and q.next:\n",
    "            p = p.next\n",
    "            q = q.next.next\n",
    "        mid = p.next # mid为head中间部分之后的半段\n",
    "        p.next = None # head变成了只有中间的的前半段\n",
    "        l, r = self.sortList(head), self.sortList(mid)\n",
    "        dummy = res = ListNode(-float('inf'))\n",
    "        while l and r:\n",
    "            if l.val > r.val:\n",
    "                dummy.next = l\n",
    "                l = l.next\n",
    "            else:\n",
    "                dummy.next = r\n",
    "                r = r.next\n",
    "            dummy = dummy.next\n",
    "        dummy.next = l if l else r\n",
    "        return res.next"
   ]
  },
  {
   "cell_type": "code",
   "execution_count": 3,
   "metadata": {},
   "outputs": [],
   "source": [
    "class Solution:\n",
    "    def sortList(self, head: ListNode) -> ListNode:\n",
    "        if not head or not head.next:\n",
    "            return head\n",
    "        p, q = head, head.next\n",
    "        while q and q.next:\n",
    "            p = p.next \n",
    "            q = q.next\n",
    "        mid = p\n",
    "        p.next = None\n",
    "        l, r = self.sortList(head), self.sortList(mid)\n",
    "        dummy = res = ListNode(-float('inf'))\n",
    "        while l and r:\n",
    "            if l.val < r.val:\n",
    "                res.next = l\n",
    "                l = l.next\n",
    "            else:\n",
    "                res.next = r\n",
    "                r = r.next\n",
    "            res = res.next\n",
    "        res.next = l if l else r\n",
    "        return dummy.next"
   ]
  },
  {
   "cell_type": "code",
   "execution_count": null,
   "metadata": {},
   "outputs": [],
   "source": []
  }
 ],
 "metadata": {
  "kernelspec": {
   "display_name": "Python 3",
   "language": "python",
   "name": "python3"
  },
  "language_info": {
   "codemirror_mode": {
    "name": "ipython",
    "version": 3
   },
   "file_extension": ".py",
   "mimetype": "text/x-python",
   "name": "python",
   "nbconvert_exporter": "python",
   "pygments_lexer": "ipython3",
   "version": "3.6.2"
  }
 },
 "nbformat": 4,
 "nbformat_minor": 4
}
