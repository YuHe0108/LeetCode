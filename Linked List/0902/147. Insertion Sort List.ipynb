{
 "cells": [
  {
   "cell_type": "raw",
   "metadata": {},
   "source": [
    "说明：\n",
    "    1、使用插入排序对链接列表进行排序。插入排序的图形示例。\n",
    "    2、最初，部分排序的列表（黑色）仅包含列表中的第一个元素。\n",
    "    3、每次迭代时，都会从输入数据中删除一个元素（红色）并将其原位插入排序列表中\n",
    "\n",
    "插入排序算法：\n",
    "    1、迭代插入排序，每次重复消耗一个输入元素，并增加已排序的输出列表。\n",
    "    2、在每次迭代中，插入排序都会从输入数据中删除一个元素，在排序列表中找到它所属的位置，然后将其插入。\n",
    "    3、重复直到没有输入元素剩余为止。"
   ]
  },
  {
   "cell_type": "markdown",
   "metadata": {},
   "source": [
    "<img src='147.jpg'>"
   ]
  },
  {
   "cell_type": "code",
   "execution_count": null,
   "metadata": {},
   "outputs": [],
   "source": [
    "class Solution:\n",
    "    def insertionSortList(self, head: ListNode) -> ListNode:\n",
    "        if not head or not head.next:\n",
    "            return head\n",
    "        dummy = ListNode(-float('inf'))\n",
    "        p = q = dummy\n",
    "        cur = head\n",
    "        while cur:\n",
    "            if q.val < cur.val:\n",
    "                q.next = cur\n",
    "                q = cur\n",
    "                cur = cur.next\n",
    "            else:\n",
    "                q.next = cur.next\n",
    "                while p.next and p.next.val < cur.val:\n",
    "                    p = p.next\n",
    "                cur.next = p.next\n",
    "                p.next = cur\n",
    "                p = dummy\n",
    "                cur = q.next\n",
    "    return dummy.next"
   ]
  }
 ],
 "metadata": {
  "kernelspec": {
   "display_name": "Python 3",
   "language": "python",
   "name": "python3"
  },
  "language_info": {
   "codemirror_mode": {
    "name": "ipython",
    "version": 3
   },
   "file_extension": ".py",
   "mimetype": "text/x-python",
   "name": "python",
   "nbconvert_exporter": "python",
   "pygments_lexer": "ipython3",
   "version": "3.6.2"
  }
 },
 "nbformat": 4,
 "nbformat_minor": 4
}
