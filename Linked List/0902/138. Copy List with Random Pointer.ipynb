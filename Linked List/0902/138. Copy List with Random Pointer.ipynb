{
 "cells": [
  {
   "cell_type": "raw",
   "metadata": {},
   "source": [
    "说明：\n",
    "    给定一个链表，使每个节点包含一个附加的随机指针，该指针可以指向列表中的任何节点或为空。\n",
    "    返回列表的深层副本。\n",
    "    链接列表在输入/输出中表示为n个节点的列表。\n",
    "    每个节点均表示为一对[val，random_index]，其中：val：表示Node.val的整数。\n",
    "    val.random_index：随机指针指向的节点的索引（范围从0到n-1）；\n",
    "    如果包含，则为null没有指向任何节点。"
   ]
  },
  {
   "cell_type": "markdown",
   "metadata": {},
   "source": [
    "<img src='138.jpg'>"
   ]
  },
  {
   "cell_type": "code",
   "execution_count": 1,
   "metadata": {},
   "outputs": [],
   "source": [
    "# Definition for a Node.\n",
    "class Node:\n",
    "    def __init__(self, x: int, next: 'Node' = None, random: 'Node' = None):\n",
    "        self.val = int(x)\n",
    "        self.next = next\n",
    "        self.random = random"
   ]
  },
  {
   "cell_type": "code",
   "execution_count": null,
   "metadata": {},
   "outputs": [],
   "source": [
    "class Solution:\n",
    "    visitedDict = {}\n",
    "    def copyRandomList(self, head: 'Node') -> 'Node':\n",
    "        if not head:\n",
    "            return head\n",
    "        if head in self.visitedDict:\n",
    "            new_node = self.visitedDict[head]\n",
    "            return new_node\n",
    "        else:\n",
    "            new_node = Node(head.val, None, None)\n",
    "            self.visitedDict[head] = new_node\n",
    "            new_node.next = self.copyRandomList(head.next)\n",
    "            new_node.random = self.copyRandomList(head.random)\n",
    "            return new_node"
   ]
  }
 ],
 "metadata": {
  "kernelspec": {
   "display_name": "Python 3",
   "language": "python",
   "name": "python3"
  },
  "language_info": {
   "codemirror_mode": {
    "name": "ipython",
    "version": 3
   },
   "file_extension": ".py",
   "mimetype": "text/x-python",
   "name": "python",
   "nbconvert_exporter": "python",
   "pygments_lexer": "ipython3",
   "version": "3.6.2"
  }
 },
 "nbformat": 4,
 "nbformat_minor": 4
}
