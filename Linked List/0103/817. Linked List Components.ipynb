{
 "cells": [
  {
   "cell_type": "code",
   "execution_count": null,
   "metadata": {},
   "outputs": [],
   "source": []
  },
  {
   "cell_type": "code",
   "execution_count": null,
   "metadata": {},
   "outputs": [],
   "source": []
  },
  {
   "cell_type": "code",
   "execution_count": 1,
   "metadata": {},
   "outputs": [],
   "source": [
    "# Definition for singly-linked list.\n",
    "# class ListNode:\n",
    "#     def __init__(self, x):\n",
    "#         self.val = x\n",
    "#         self.next = None\n",
    "\n",
    "class Solution:\n",
    "    def numComponents(self, head: ListNode, G: List[int]) -> int:\n",
    "        vals = []\n",
    "        node = head\n",
    "        while node:\n",
    "            vals.append(node.val)\n",
    "            node = node.next\n",
    "        \n",
    "        cnt = 0\n",
    "        idx = None\n",
    "        set_g = set(G)\n",
    "        for i, v in enumerate(vals):\n",
    "            if v not in set_g:\n",
    "                # 该元素之前没有元素，所以不存在组件\n",
    "                # 相邻的两个不在G中的元素中不存在 组件\n",
    "                if i == 0 or (idx is not None and i - idx == 1):\n",
    "                    idx = i\n",
    "                    continue\n",
    "                idx = i # 记录最后一个不在G的位置\n",
    "                cnt += 1\n",
    "        if idx != len(vals)-1:\n",
    "            cnt += 1\n",
    "        return cnt"
   ]
  },
  {
   "cell_type": "code",
   "execution_count": null,
   "metadata": {},
   "outputs": [],
   "source": []
  },
  {
   "cell_type": "code",
   "execution_count": null,
   "metadata": {},
   "outputs": [],
   "source": [
    "1"
   ]
  },
  {
   "cell_type": "code",
   "execution_count": 2,
   "metadata": {},
   "outputs": [
    {
     "data": {
      "text/plain": [
       "[5, 19, 11, 16]"
      ]
     },
     "execution_count": 2,
     "metadata": {},
     "output_type": "execute_result"
    }
   ],
   "source": [
    "[7,1,18,0,(11),4,15,(16),12,6,10,14,(5),9,13,17,8,3,(19),2]\n",
    "[5,19,11,16]"
   ]
  },
  {
   "cell_type": "code",
   "execution_count": null,
   "metadata": {},
   "outputs": [],
   "source": [
    "1 0\n",
    "5 3\n",
    "8 6\n",
    "13 11\n",
    "19 17"
   ]
  }
 ],
 "metadata": {
  "kernelspec": {
   "display_name": "Python 3",
   "language": "python",
   "name": "python3"
  },
  "language_info": {
   "codemirror_mode": {
    "name": "ipython",
    "version": 3
   },
   "file_extension": ".py",
   "mimetype": "text/x-python",
   "name": "python",
   "nbconvert_exporter": "python",
   "pygments_lexer": "ipython3",
   "version": "3.6.2"
  }
 },
 "nbformat": 4,
 "nbformat_minor": 4
}
