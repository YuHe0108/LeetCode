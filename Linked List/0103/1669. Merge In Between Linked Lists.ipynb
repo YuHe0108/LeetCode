{
 "cells": [
  {
   "cell_type": "code",
   "execution_count": null,
   "metadata": {},
   "outputs": [],
   "source": []
  },
  {
   "cell_type": "code",
   "execution_count": null,
   "metadata": {},
   "outputs": [],
   "source": []
  },
  {
   "cell_type": "code",
   "execution_count": null,
   "metadata": {},
   "outputs": [],
   "source": [
    "# Definition for singly-linked list.\n",
    "class ListNode:\n",
    "    def __init__(self, val=0, next=None):\n",
    "        self.val = val\n",
    "        self.next = next\n",
    "        \n",
    "class Solution:\n",
    "    def mergeInBetween(self, list1: ListNode, a: int, b: int, list2: ListNode) -> ListNode:\n",
    "        cnt = 0 # 遍历到第几个节点\n",
    "        node = list1\n",
    "        pre_node = None # 删除节点之前的节点\n",
    "        nxt_node = None # 需要删除节点之后的节点\n",
    "        while node:\n",
    "            if cnt < a:\n",
    "                pre_node = node\n",
    "            if cnt == b:\n",
    "                nxt_node = node.next\n",
    "                break\n",
    "            node = node.next\n",
    "            cnt += 1\n",
    "        \n",
    "        # 需要遍历到 list2 的最后一个节点\n",
    "        node2 = list2\n",
    "        while node2.next:\n",
    "            node2 = node2.next\n",
    "        \n",
    "        # 如果pre_node is None, 只能说明删除的是第 0 个节点\n",
    "        if pre_node is None:\n",
    "            node2.next = nxt_node\n",
    "            return list2\n",
    "        pre_node.next = list2\n",
    "        node2.next = nxt_node\n",
    "        return list1"
   ]
  }
 ],
 "metadata": {
  "kernelspec": {
   "display_name": "Python 3",
   "language": "python",
   "name": "python3"
  },
  "language_info": {
   "codemirror_mode": {
    "name": "ipython",
    "version": 3
   },
   "file_extension": ".py",
   "mimetype": "text/x-python",
   "name": "python",
   "nbconvert_exporter": "python",
   "pygments_lexer": "ipython3",
   "version": "3.6.2"
  }
 },
 "nbformat": 4,
 "nbformat_minor": 4
}
