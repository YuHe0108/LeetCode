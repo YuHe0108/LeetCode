{
 "cells": [
  {
   "cell_type": "raw",
   "metadata": {},
   "source": [
    "说明：\n",
    "    有N个房间，您从房间0开始。每个房间在0、1、2，...，N-1中都有一个不同的数字，每个房间可能都有一些用于访问下一房间的钥匙。\n",
    "    形式上，每个房间i都有一个钥匙房间[i]的列表，每个钥匙房间[i] [j]是[0，1，...，N-1]中的整数，\n",
    "    其中N = rooms.length。\n",
    "    A key[i][j] = v打开带有数字v的房间。\n",
    "    最初，所有房间开始锁定（房间0除外）。\n",
    "    您可以在房间之间自由地来回走动。\n",
    "    当且仅当您可以进入每个房间时，才返回true。\n",
    "\n",
    "Example 1:\n",
    "    Input: [[1],[2],[3],[]]\n",
    "    Output: true\n",
    "    Explanation:  \n",
    "        We start in room 0, and pick up key 1.\n",
    "        We then go to room 1, and pick up key 2.\n",
    "        We then go to room 2, and pick up key 3.\n",
    "        We then go to room 3.  Since we were able to go to every room, we return true.\n",
    "\n",
    "Example 2:\n",
    "    Input: [[1,3],[3,0,1],[2],[0]]\n",
    "    Output: false\n",
    "    Explanation: We can't enter the room with number 2.\n",
    "\n",
    "Note:\n",
    "    1、1 <= rooms.length <= 1000\n",
    "    2、0 <= rooms[i].length <= 1000\n",
    "    3、The number of keys in all rooms combined is at most 3000."
   ]
  },
  {
   "cell_type": "code",
   "execution_count": null,
   "metadata": {},
   "outputs": [],
   "source": [
    "class Solution:\n",
    "    def canVisitAllRooms(self, rooms) -> bool:\n",
    "        self.seen = {0}\n",
    "        self.dfs(rooms, 0)\n",
    "        return len(self.seen) == len(rooms)\n",
    "    \n",
    "    def dfs(self, rooms, start):\n",
    "        for i in rooms[start]:\n",
    "            if i not in self.seen:\n",
    "                self.seen.add(i)\n",
    "                self.dfs(rooms, i)"
   ]
  },
  {
   "cell_type": "code",
   "execution_count": 20,
   "metadata": {},
   "outputs": [],
   "source": [
    "class Solution:\n",
    "    def canVisitAllRooms(self, rooms) -> bool:\n",
    "        self.seen = {0}\n",
    "        self.path = []\n",
    "        self.dfs(rooms, 0, [])\n",
    "        print(self.seen)\n",
    "        return len(self.seen) == len(rooms)\n",
    "    \n",
    "    def dfs(self, rooms, start, path):\n",
    "        if path not in self.path:\n",
    "            self.path.append(path[:])\n",
    "        for i in rooms[start]:\n",
    "            if i not in self.seen:\n",
    "                self.seen.add(i)\n",
    "                path.append(i)\n",
    "                self.dfs(rooms, i, path)\n",
    "                path.pop()"
   ]
  },
  {
   "cell_type": "code",
   "execution_count": 26,
   "metadata": {},
   "outputs": [],
   "source": [
    "from collections import deque\n",
    "\n",
    "class Solution:\n",
    "    def canVisitAllRooms(self, rooms) -> bool:\n",
    "        q = deque([0])\n",
    "        can = {0}\n",
    "        while q:\n",
    "            x = q.popleft()\n",
    "            for y in rooms[x]:\n",
    "                if y not in can:\n",
    "                    can.add(y)\n",
    "                    q.append(y)\n",
    "        return len(can) == len(rooms)"
   ]
  },
  {
   "cell_type": "code",
   "execution_count": 27,
   "metadata": {},
   "outputs": [
    {
     "data": {
      "text/plain": [
       "True"
      ]
     },
     "execution_count": 27,
     "metadata": {},
     "output_type": "execute_result"
    }
   ],
   "source": [
    "solution = Solution()\n",
    "solution.canVisitAllRooms([[1],[2],[3],[]])"
   ]
  },
  {
   "cell_type": "code",
   "execution_count": null,
   "metadata": {},
   "outputs": [],
   "source": []
  }
 ],
 "metadata": {
  "kernelspec": {
   "display_name": "Python 3",
   "language": "python",
   "name": "python3"
  },
  "language_info": {
   "codemirror_mode": {
    "name": "ipython",
    "version": 3
   },
   "file_extension": ".py",
   "mimetype": "text/x-python",
   "name": "python",
   "nbconvert_exporter": "python",
   "pygments_lexer": "ipython3",
   "version": "3.6.2"
  }
 },
 "nbformat": 4,
 "nbformat_minor": 4
}
