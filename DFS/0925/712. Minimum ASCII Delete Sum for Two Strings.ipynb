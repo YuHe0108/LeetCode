{
 "cells": [
  {
   "cell_type": "raw",
   "metadata": {},
   "source": [
    "说明：\n",
    "    给定两个字符串s1，s2，找到已删除字符的最低ASCII总和，以使两个字符串相等。\n",
    "\n",
    "Example 1:\n",
    "    Input: s1 = \"sea\", s2 = \"eat\"\n",
    "    Output: 231\n",
    "    Explanation: Deleting \"s\" from \"sea\" adds the ASCII value of \"s\" (115) to the sum.\n",
    "                 Deleting \"t\" from \"eat\" adds 116 to the sum.\n",
    "                 At the end, both strings are equal, and 115 + 116 = 231 is the minimum sum possible to achieve this.\n",
    "\n",
    "Example 2:\n",
    "    Input: s1 = \"delete\", s2 = \"leet\"\n",
    "    Output: 403\n",
    "    Explanation: Deleting \"dee\" from \"delete\" to turn the string into \"let\",adds 100[d]+101[e]+101[e] to the sum.  \n",
    "                 Deleting \"e\" from \"leet\" adds 101[e] to the sum.\n",
    "                 At the end, both strings are equal to \"let\", and the answer is 100+101+101+101 = 403.\n",
    "                 If instead we turned both strings into \"lee\" or \"eet\", we would get answers of 433 or 417, which are higher.\n",
    "\n",
    "Note:\n",
    "    1、0 < s1.length, s2.length <= 1000.\n",
    "    2、All elements of each string will have an ASCII value in [97, 122]."
   ]
  },
  {
   "cell_type": "code",
   "execution_count": 19,
   "metadata": {},
   "outputs": [],
   "source": [
    "class Solution:\n",
    "    def minimumDeleteSum(self, s1: str, s2: str) -> int:\n",
    "        s1 = '#' + s1\n",
    "        s2 = '#' + s2\n",
    "        s1_len, s2_len = len(s1), len(s2)\n",
    "        dp = [[0] * s2_len for _ in range(s1_len)]\n",
    "        \n",
    "        for i in range(1, s1_len):\n",
    "            dp[i][0] = dp[i-1][0] + ord(s1[i])\n",
    "        \n",
    "        for j in range(1, s2_len):\n",
    "            dp[0][j] = dp[0][j-1] + ord(s2[j])\n",
    "        \n",
    "        print(dp)\n",
    "        for i in range(1, s1_len):\n",
    "            for j in range(1, s2_len):\n",
    "                if s1[i] == s2[j]:\n",
    "                    dp[i][j] = dp[i-1][j-1]\n",
    "                else:\n",
    "                    dp[i][j] = min(dp[i-1][j] + ord(s1[i]), dp[i][j-1] + ord(s2[j]))\n",
    "        return dp[-1][-1]"
   ]
  },
  {
   "cell_type": "code",
   "execution_count": 20,
   "metadata": {},
   "outputs": [
    {
     "name": "stdout",
     "output_type": "stream",
     "text": [
      "[[0, 108, 209, 310, 426], [100, 0, 0, 0, 0], [201, 0, 0, 0, 0], [309, 0, 0, 0, 0], [410, 0, 0, 0, 0], [526, 0, 0, 0, 0], [627, 0, 0, 0, 0]]\n"
     ]
    },
    {
     "data": {
      "text/plain": [
       "403"
      ]
     },
     "execution_count": 20,
     "metadata": {},
     "output_type": "execute_result"
    }
   ],
   "source": [
    "solution = Solution()\n",
    "solution.minimumDeleteSum('delete', 'leet')"
   ]
  },
  {
   "cell_type": "code",
   "execution_count": null,
   "metadata": {},
   "outputs": [],
   "source": [
    "class Solution:\n",
    "    def minimumDeleteSum(self, s1: str, s2: str) -> int:\n",
    "        s1 = '#' + s1\n",
    "        s2 = '#' + s2\n",
    "        s1_len, s2_len = len(s1), len(s2)\n",
    "        dp = [[0] * s2_len for _ in range(s1_len)]\n",
    "        \n",
    "        for i in range(1, s1_len):\n",
    "            dp[i][0] = dp[i-1][0] + ord(s1[i])\n",
    "        \n",
    "        for j in range(1, s2_len):\n",
    "            dp[0][j] = dp[0][j-1] + ord(s2[j])\n",
    "        \n",
    "        for i in range(1, s1_len):\n",
    "            for j in range(1, s2_len):\n",
    "                if s1[i] == s2[j]:\n",
    "                    dp[i][j] = dp[i-1][j-1]\n",
    "                else:\n",
    "                    dp[i][j] = min(dp[i-1][j] + ord(s1[i]), dp[i][j-1] + ord(s2[j]))\n",
    "        \n",
    "        return dp[-1][-1]"
   ]
  }
 ],
 "metadata": {
  "kernelspec": {
   "display_name": "Python 3",
   "language": "python",
   "name": "python3"
  },
  "language_info": {
   "codemirror_mode": {
    "name": "ipython",
    "version": 3
   },
   "file_extension": ".py",
   "mimetype": "text/x-python",
   "name": "python",
   "nbconvert_exporter": "python",
   "pygments_lexer": "ipython3",
   "version": "3.6.2"
  }
 },
 "nbformat": 4,
 "nbformat_minor": 4
}
