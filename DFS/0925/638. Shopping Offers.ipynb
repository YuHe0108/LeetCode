{
 "cells": [
  {
   "cell_type": "raw",
   "metadata": {},
   "source": [
    "说明：\n",
    "    在LeetCode商店中，有一些商品可以出售。每个项目都有一个价格。\n",
    "    但是，有一些特价商品，并且特价商品由一种或多种不同价格的商品组成。\n",
    "    系统会为您提供每件商品的价格，一系列特价以及我们需要为每件商品购买的数量。\n",
    "    工作是输出您必须为给定的某些特定物品支付的最低价格，在这里您可以最佳利用特价商品。\n",
    "    每个特价商品都以数组的形式表示，最后一个数字表示您需要为此特价商品支付的价格，其他数字表示如果购买此特价商品可以得到多少个特定商品。\n",
    "    您可以随意使用任何特殊优惠。\n",
    "\n",
    "Example 1:\n",
    "    Input: \n",
    "        [2,5], [[3,0,5],[1,2,10]], [3,2]\n",
    "    Output: \n",
    "        14\n",
    "    Explanation: \n",
    "        There are two kinds of items, A and B. Their prices are $2 and $5 respectively. \n",
    "        In special offer 1, you can pay $5 for 3A and 0B\n",
    "        In special offer 2, you can pay $10 for 1A and 2B. \n",
    "        You need to buy 3A and 2B, so you may pay $10 for 1A and 2B (special offer #2), and $4 for 2A.\n",
    "\n",
    "Example 2:\n",
    "    Input: \n",
    "        [2,3,4], [[1,1,0,4],[2,2,1,9]], [1,2,1]\n",
    "    Output: \n",
    "        11\n",
    "    Explanation: \n",
    "        The price of A is $2, and $3 for B, $4 for C. \n",
    "        You may pay $4 for 1A and 1B, and $9 for 2A ,2B and 1C. \n",
    "        You need to buy 1A ,2B and 1C, so you may pay $4 for 1A and 1B (special offer #1), and $3 for 1B, $4 for 1C. \n",
    "        You cannot add more items, though only $9 for 2A ,2B and 1C.\n",
    "\n",
    "Note:\n",
    "    1、There are at most 6 kinds of items, 100 special offers.\n",
    "    2、For each item, you need to buy at most 6 of them.\n",
    "    3、You are not allowed to buy more items than you want, even if that would lower the overall price."
   ]
  },
  {
   "cell_type": "code",
   "execution_count": null,
   "metadata": {},
   "outputs": [],
   "source": []
  }
 ],
 "metadata": {
  "kernelspec": {
   "display_name": "Python 3",
   "language": "python",
   "name": "python3"
  },
  "language_info": {
   "codemirror_mode": {
    "name": "ipython",
    "version": 3
   },
   "file_extension": ".py",
   "mimetype": "text/x-python",
   "name": "python",
   "nbconvert_exporter": "python",
   "pygments_lexer": "ipython3",
   "version": "3.6.2"
  }
 },
 "nbformat": 4,
 "nbformat_minor": 4
}
