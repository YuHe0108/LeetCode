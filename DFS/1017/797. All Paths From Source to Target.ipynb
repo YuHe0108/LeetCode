{
 "cells": [
  {
   "cell_type": "raw",
   "metadata": {},
   "source": [
    "说明：\n",
    "    给一个有 n 个结点的有向无环图，找到所有从 0 到 n-1 的路径并输出（不要求按顺序）\n",
    "    二维数组的第 i 个数组中的单元都表示有向图中 i 号结点所能到达的下一些结点，空就是没有下一个结点了。\n",
    "    （译者注：有向图是有方向的，即规定了 a→b 你就不能从 b→a ）\n",
    "\n",
    "示例 3：\n",
    "    输入：graph = [[1],[]]\n",
    "    输出：[[0,1]]\n",
    "\n",
    "示例 4：\n",
    "    输入：graph = [[1,2,3],[2],[3],[]]\n",
    "    输出：[[0,1,2,3],[0,2,3],[0,3]]\n",
    "\n",
    "示例 5：\n",
    "    输入：graph = [[1,3],[2],[3],[]]\n",
    "    输出：[[0,1,2,3],[0,3]]\n",
    "\n",
    "提示：\n",
    "    1、结点的数量会在范围 [2, 15] 内。\n",
    "    2、你可以把路径以任意顺序输出，但在路径内的结点的顺序必须保证。"
   ]
  },
  {
   "cell_type": "markdown",
   "metadata": {},
   "source": [
    "<img src='https://assets.leetcode.com/uploads/2020/09/28/all_1.jpg'>"
   ]
  },
  {
   "cell_type": "raw",
   "metadata": {},
   "source": [
    "输入：graph = [[1,2],[3],[3],[]]\n",
    "输出：[[0,1,3],[0,2,3]]\n",
    "解释：有两条路径 0 -> 1 -> 3 和 0 -> 2 -> 3"
   ]
  },
  {
   "cell_type": "markdown",
   "metadata": {},
   "source": [
    "<img src='https://assets.leetcode.com/uploads/2020/09/28/all_2.jpg'>"
   ]
  },
  {
   "cell_type": "raw",
   "metadata": {},
   "source": [
    "输入：graph = [[4,3,1],[3,2,4],[3],[4],[]]\n",
    "输出：[[0,4],[0,3,4],[0,1,3,4],[0,1,2,3,4],[0,1,4]]"
   ]
  },
  {
   "cell_type": "code",
   "execution_count": 80,
   "metadata": {},
   "outputs": [],
   "source": [
    "from collections import defaultdict\n",
    "\n",
    "class Solution:\n",
    "    def allPathsSourceTarget(self, graph):\n",
    "        \n",
    "        def dfs(node, target, path):\n",
    "            nonlocal ans\n",
    "            if node == target:\n",
    "                path.append(node)\n",
    "                ans.append(path[:])\n",
    "                path.pop()\n",
    "                return\n",
    "            \n",
    "            if node not in path:\n",
    "                path.append(node)\n",
    "                for nei in graph[node]:\n",
    "                    dfs(nei, target, path)\n",
    "                path.remove(node)\n",
    "        \n",
    "        graph_d = defaultdict(list)\n",
    "        for i, nodes in enumerate(graph):\n",
    "            graph_d[i].extend(nodes)\n",
    "        ans = []\n",
    "        dfs(0, len(graph)-1, [])\n",
    "        return ans"
   ]
  },
  {
   "cell_type": "code",
   "execution_count": 85,
   "metadata": {},
   "outputs": [
    {
     "data": {
      "text/plain": [
       "[[0, 1]]"
      ]
     },
     "execution_count": 85,
     "metadata": {},
     "output_type": "execute_result"
    }
   ],
   "source": [
    "solution = Solution()\n",
    "solution.allPathsSourceTarget([[1],[]])"
   ]
  },
  {
   "cell_type": "code",
   "execution_count": null,
   "metadata": {},
   "outputs": [],
   "source": []
  }
 ],
 "metadata": {
  "kernelspec": {
   "display_name": "Python 3",
   "language": "python",
   "name": "python3"
  },
  "language_info": {
   "codemirror_mode": {
    "name": "ipython",
    "version": 3
   },
   "file_extension": ".py",
   "mimetype": "text/x-python",
   "name": "python",
   "nbconvert_exporter": "python",
   "pygments_lexer": "ipython3",
   "version": "3.6.2"
  }
 },
 "nbformat": 4,
 "nbformat_minor": 4
}
