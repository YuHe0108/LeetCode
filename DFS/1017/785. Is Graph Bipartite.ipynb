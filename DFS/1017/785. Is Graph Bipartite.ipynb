{
 "cells": [
  {
   "cell_type": "raw",
   "metadata": {},
   "source": [
    "说明：\n",
    "    给定一个无向图graph，当这个图为二分图时返回true。\n",
    "    如果我们能将一个图的节点集合分割成两个独立的子集A和B，并使图中的每一条边的两个节点一个来自A集合，一个来自B集合，我们就将这个图称为二分图。\n",
    "    graph将会以邻接表方式给出，graph[i]表示图中与节点i相连的所有节点。\n",
    "    每个节点都是一个在0到graph.length-1之间的整数。\n",
    "    这图中没有自环和平行边： graph[i] 中不存在i，并且graph[i]中没有重复的值。\n",
    "\n",
    "\n",
    "示例 1:\n",
    "    输入: [[1,3], [0,2], [1,3], [0,2]]\n",
    "    输出: true\n",
    "    解释: \n",
    "        无向图如下:\n",
    "        0----1\n",
    "        |    |\n",
    "        |    |\n",
    "        3----2\n",
    "    我们可以将节点分成两组: {0, 2} 和 {1, 3}。\n",
    "\n",
    "示例 2:\n",
    "    输入: [[1,2,3], [0,2], [0,1,3], [0,2]]\n",
    "    输出: false\n",
    "    解释: \n",
    "        无向图如下:\n",
    "        0----1\n",
    "        | \\  |\n",
    "        |  \\ |\n",
    "        3----2\n",
    "    我们不能将节点分割成两个独立的子集。\n",
    "\n",
    "注意:\n",
    "    1、graph 的长度范围为 [1, 100]。\n",
    "    2、graph[i] 中的元素的范围为 [0, graph.length - 1]。\n",
    "    3、graph[i] 不会包含 i 或者有重复的值。\n",
    "    4、图是无向的: 如果j 在 graph[i]里边, 那么 i 也会在 graph[j]里边。"
   ]
  },
  {
   "cell_type": "code",
   "execution_count": 9,
   "metadata": {},
   "outputs": [],
   "source": [
    "class Solution:\n",
    "    def isBipartite(self, graph) -> bool:\n",
    "        N = len(graph) # 这个图中有多少个节点\n",
    "        seen = [-1] * N # 没有访问过的的节点设置为 - 1，访问过的节点，要么为0，要么为1，表示两个group\n",
    "        \n",
    "        for i in range(N): # 挨个访问每一个节点\n",
    "            if seen[i] == -1: # 没有访问过\n",
    "                nodes = [[i, 0]] # 假设第i个节点的类型是 0 (A)\n",
    "                while nodes:\n",
    "                    node, group = nodes.pop() # node：节点，group：当前节点所属类别\n",
    "                    for next_node in graph[node]: # 第 i 个node 有多少个子节点\n",
    "                        if seen[next_node] != -1: # 下一个节点已经看过了\n",
    "                            if seen[next_node] == group: # 如果下一个节点与当前节点属于同一个group，返回为False\n",
    "                                return False\n",
    "                        else:\n",
    "                            # 如果没有访问过\n",
    "                            seen[next_node] = 1 -group # 如果group为0，则next_node = 1, 如果group = 1， 那么next_node group = 0\n",
    "                            nodes.append([next_node, 1-group])\n",
    "        return True\n",
    "                "
   ]
  },
  {
   "cell_type": "code",
   "execution_count": 10,
   "metadata": {},
   "outputs": [
    {
     "data": {
      "text/plain": [
       "True"
      ]
     },
     "execution_count": 10,
     "metadata": {},
     "output_type": "execute_result"
    }
   ],
   "source": [
    "solution = Solution()\n",
    "solution.isBipartite([[1,3], [0,2], [1,3], [0,2]])"
   ]
  },
  {
   "cell_type": "code",
   "execution_count": null,
   "metadata": {},
   "outputs": [],
   "source": []
  }
 ],
 "metadata": {
  "kernelspec": {
   "display_name": "Python 3",
   "language": "python",
   "name": "python3"
  },
  "language_info": {
   "codemirror_mode": {
    "name": "ipython",
    "version": 3
   },
   "file_extension": ".py",
   "mimetype": "text/x-python",
   "name": "python",
   "nbconvert_exporter": "python",
   "pygments_lexer": "ipython3",
   "version": "3.6.2"
  }
 },
 "nbformat": 4,
 "nbformat_minor": 4
}
