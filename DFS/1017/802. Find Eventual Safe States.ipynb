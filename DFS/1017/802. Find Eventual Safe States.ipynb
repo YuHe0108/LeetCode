{
 "cells": [
  {
   "cell_type": "raw",
   "metadata": {},
   "source": [
    "说明：\n",
    "    在有向图中, 我们从某个节点和每个转向处开始, 沿着图的有向边走。\n",
    "    如果我们到达的节点是终点 (即它没有连出的有向边), 我们停止。\n",
    "    现在, 如果我们最后能走到终点，那么我们的起始节点是最终安全的。\n",
    "    更具体地说, 存在一个自然数 K,  无论选择从哪里开始行走, 我们走了不到 K 步后必能停止在一个终点。\n",
    "    哪些节点最终是安全的？ 结果返回一个有序的数组。\n",
    "    该有向图有 N 个节点，标签为 0, 1, ..., N-1, 其中 N 是 graph 的节点数.  \n",
    "    图以以下的形式给出: graph[i] 是节点 j 的一个列表，满足 (i, j) 是图的一条有向边。\n",
    "\n",
    "提示：\n",
    "    1、graph 节点数不超过 10000.\n",
    "    2、图的边数不会超过 32000.\n",
    "    3、每个 graph[i] 被排序为不同的整数列表， 在区间 [0, graph.length - 1] 中选取。"
   ]
  },
  {
   "cell_type": "raw",
   "metadata": {},
   "source": [
    "示例：\n",
    "    输入：graph = [[1,2],[2,3],[5],[0],[5],[],[]]\n",
    "    输出：[2,4,5,6]\n",
    "    这里是上图的示意图。"
   ]
  },
  {
   "cell_type": "markdown",
   "metadata": {},
   "source": [
    "<img src='https://s3-lc-upload.s3.amazonaws.com/uploads/2018/03/17/picture1.png'>"
   ]
  },
  {
   "cell_type": "code",
   "execution_count": 137,
   "metadata": {},
   "outputs": [],
   "source": [
    "from collections import defaultdict\n",
    "\n",
    "class Solution:\n",
    "    def eventualSafeNodes(self, graph):\n",
    "        \n",
    "        def dfs(node, path):\n",
    "            nonlocal not_res, res\n",
    "            if node in not_res:\n",
    "                return True\n",
    "            if node in res:\n",
    "                return False\n",
    "            if node in path: # 只要有一条路能回到原点，就是True\n",
    "                return True\n",
    "            if not graph_d[node]: # 走到没有路，为 False, 退出\n",
    "                return False\n",
    "            \n",
    "            path.append(node)\n",
    "            for nei in graph_d[node]:\n",
    "                val = dfs(nei, path)\n",
    "                if val is True:\n",
    "                    return True\n",
    "            path.remove(node)\n",
    "                \n",
    "        \n",
    "        graph_d = defaultdict(list)\n",
    "        for i, n in enumerate(graph):\n",
    "            graph_d[i].extend(n)\n",
    "        \n",
    "        not_res = set()\n",
    "        res = set()\n",
    "        N = len(graph)\n",
    "        for i in graph_d.keys():\n",
    "            if i in not_res or i in res:\n",
    "                continue\n",
    "            if dfs(i, []):\n",
    "                not_res.add(i)\n",
    "            else:\n",
    "                res.add(i)\n",
    "        return sorted(res)"
   ]
  },
  {
   "cell_type": "code",
   "execution_count": 5,
   "metadata": {},
   "outputs": [],
   "source": [
    "class Solution:\n",
    "    def eventualSafeNodes(self, graph):\n",
    "        n = len(graph)\n",
    "        color = [0] * n\n",
    "        cycles = set()\n",
    "\n",
    "        def dfs(u, p):\n",
    "            nonlocal cycles\n",
    "            color[u] = 1\n",
    "            p.add(u)\n",
    "            for v in graph[u]:\n",
    "                if color[v] == 1 or v in cycles:\n",
    "                    cycles |= p\n",
    "                elif color[v] == 0:\n",
    "                    dfs(v, p)\n",
    "            p.remove(u)\n",
    "            color[u] = 2 # u完成\n",
    "            return\n",
    "\n",
    "        for i in range(n):\n",
    "            if color[i] == 0 and i not in cycles:\n",
    "                dfs(i, set())\n",
    "        return sorted(list(set(range(n)) - cycles))"
   ]
  },
  {
   "cell_type": "code",
   "execution_count": 6,
   "metadata": {},
   "outputs": [
    {
     "data": {
      "text/plain": [
       "[2, 4, 5, 6]"
      ]
     },
     "execution_count": 6,
     "metadata": {},
     "output_type": "execute_result"
    }
   ],
   "source": [
    "solution = Solution()\n",
    "solution.eventualSafeNodes([[1,2],[2,3],[5],[0],[5],[],[]])"
   ]
  },
  {
   "cell_type": "code",
   "execution_count": 54,
   "metadata": {},
   "outputs": [],
   "source": [
    "a = [False, True]\n",
    "if any(a):\n",
    "    print(2)"
   ]
  },
  {
   "cell_type": "code",
   "execution_count": null,
   "metadata": {},
   "outputs": [],
   "source": []
  },
  {
   "cell_type": "code",
   "execution_count": 139,
   "metadata": {},
   "outputs": [],
   "source": [
    "a = {2}\n",
    "b = {3}\n",
    "a |= b"
   ]
  },
  {
   "cell_type": "code",
   "execution_count": 140,
   "metadata": {},
   "outputs": [
    {
     "data": {
      "text/plain": [
       "{2, 3}"
      ]
     },
     "execution_count": 140,
     "metadata": {},
     "output_type": "execute_result"
    }
   ],
   "source": [
    "a"
   ]
  },
  {
   "cell_type": "code",
   "execution_count": null,
   "metadata": {},
   "outputs": [],
   "source": []
  }
 ],
 "metadata": {
  "kernelspec": {
   "display_name": "Python 3",
   "language": "python",
   "name": "python3"
  },
  "language_info": {
   "codemirror_mode": {
    "name": "ipython",
    "version": 3
   },
   "file_extension": ".py",
   "mimetype": "text/x-python",
   "name": "python",
   "nbconvert_exporter": "python",
   "pygments_lexer": "ipython3",
   "version": "3.6.2"
  }
 },
 "nbformat": 4,
 "nbformat_minor": 4
}
