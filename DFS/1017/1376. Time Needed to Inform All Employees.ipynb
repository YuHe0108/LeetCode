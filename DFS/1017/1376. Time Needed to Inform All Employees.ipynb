{
 "cells": [
  {
   "cell_type": "raw",
   "metadata": {},
   "source": [
    "说明：\n",
    "    公司里有 n 名员工，每个员工的 ID 都是独一无二的，编号从 0 到 n - 1。\n",
    "    公司的总负责人通过 headID 进行标识。\n",
    "    在 manager 数组中，每个员工都有一个直属负责人，其中 manager[i] 是第 i 名员工的直属负责人。\n",
    "    对于总负责人，manager[headID] = -1。\n",
    "    题目保证从属关系可以用树结构显示。\n",
    "    公司总负责人想要向公司所有员工通告一条紧急消息。\n",
    "    他将会首先通知他的直属下属们，然后由这些下属通知他们的下属，直到所有的员工都得知这条紧急消息。\n",
    "    第 i 名员工需要 informTime[i] 分钟来通知它的所有直属下属（也就是说在 informTime[i] 分钟后，他的所有直属下属都可以开始传播这一消息）。\n",
    "    返回通知所有员工这一紧急消息所需要的 分钟数 。\n",
    " \n",
    "示例 1：\n",
    "    输入：n = 1, headID = 0, manager = [-1], informTime = [0]\n",
    "    输出：0\n",
    "    解释：公司总负责人是该公司的唯一一名员工。\n",
    "\n",
    "\n",
    "示例 4：\n",
    "    输入：n = 15, headID = 0, manager = [-1,0,0,1,1,2,2,3,3,4,4,5,5,6,6], informTime = [1,1,1,1,1,1,1,0,0,0,0,0,0,0,0]\n",
    "    输出：3\n",
    "    解释：第一分钟总负责人通知员工 1 和 2 。\n",
    "        第二分钟他们将会通知员工 3, 4, 5 和 6 。\n",
    "        第三分钟他们将会通知剩下的员工。\n",
    "\n",
    "示例 5：\n",
    "    输入：n = 4, headID = 2, manager = [3,3,-1,2], informTime = [0,0,162,914]\n",
    "    输出：1076\n",
    "\n",
    "提示：\n",
    "    1、1 <= n <= 10^5\n",
    "    2、0 <= headID < n\n",
    "    3、manager.length == n\n",
    "    4、0 <= manager[i] < n\n",
    "    5、manager[headID] == -1\n",
    "    6、informTime.length == n\n",
    "    7、0 <= informTime[i] <= 1000\n",
    "    8、如果员工 i 没有下属，informTime[i] == 0 。\n",
    "    9、题目 保证 所有员工都可以收到通知。"
   ]
  },
  {
   "cell_type": "raw",
   "metadata": {},
   "source": [
    "示例 2：\n",
    "    输入：n = 6, headID = 2, manager = [2,2,-1,2,2,2], informTime = [0,0,1,0,0,0]\n",
    "    输出：1\n",
    "    解释：id = 2 的员工是公司的总负责人，也是其他所有员工的直属负责人，他需要 1 分钟来通知所有员工。\n",
    "    上图显示了公司员工的树结构。"
   ]
  },
  {
   "cell_type": "markdown",
   "metadata": {},
   "source": [
    "<img src='https://assets.leetcode-cn.com/aliyun-lc-upload/uploads/2020/03/08/graph.png'>"
   ]
  },
  {
   "cell_type": "raw",
   "metadata": {},
   "source": [
    "示例 3：\n",
    "    输入：n = 7, headID = 6, manager = [1,2,3,4,5,6,-1], informTime = [0,6,5,4,3,2,1]\n",
    "    输出：21\n",
    "    解释：\n",
    "        总负责人 id = 6。\n",
    "        他将在 1 分钟内通知 id = 5 的员工。\n",
    "        id = 5 的员工将在 2 分钟内通知 id = 4 的员工。\n",
    "        id = 4 的员工将在 3 分钟内通知 id = 3 的员工。\n",
    "        id = 3 的员工将在 4 分钟内通知 id = 2 的员工。\n",
    "        id = 2 的员工将在 5 分钟内通知 id = 1 的员工。\n",
    "        id = 1 的员工将在 6 分钟内通知 id = 0 的员工。\n",
    "        所需时间 = 1 + 2 + 3 + 4 + 5 + 6 = 21 。"
   ]
  },
  {
   "cell_type": "markdown",
   "metadata": {},
   "source": [
    "<img src='https://assets.leetcode-cn.com/aliyun-lc-upload/uploads/2020/03/08/1730_example_3_5.PNG'>"
   ]
  },
  {
   "cell_type": "code",
   "execution_count": 22,
   "metadata": {},
   "outputs": [],
   "source": [
    "from collections import defaultdict\n",
    "\n",
    "class Solution:\n",
    "    def numOfMinutes(self, n: int, headID: int, manager, informTime) -> int:\n",
    "        head_dict = defaultdict(list)\n",
    "        for i, mang in enumerate(manager):\n",
    "            if mang != -1:\n",
    "                head_dict[mang].append(i)\n",
    "                \n",
    "        print(head_dict)\n",
    "        noticed = set()\n",
    "        total_time = 0\n",
    "        while len(noticed) < n:\n",
    "            total_time += informTime[headID]\n",
    "            noticed.add(headID)\n",
    "            mans = head_dict[headID]\n",
    "            new_mans = []\n",
    "            while mans:\n",
    "                val = mans.pop()\n",
    "                noticed.add(val)\n",
    "                new_mans.apepnd(val)\n",
    "            \n",
    "        return total_time"
   ]
  },
  {
   "cell_type": "code",
   "execution_count": 4,
   "metadata": {},
   "outputs": [],
   "source": [
    "from collections import defaultdict\n",
    "\n",
    "class Solution:\n",
    "    def numOfMinutes(self, n: int, headID: int, manager, informTime) -> int:\n",
    "        head_dict = defaultdict(list)\n",
    "        for i, mang in enumerate(manager):\n",
    "            if mang != -1:\n",
    "                head_dict[mang].append(i)\n",
    "        print(head_dict)\n",
    "        noticed = {headID}\n",
    "        total_time = 0\n",
    "        mans = head_dict[headID]\n",
    "        while len(noticed) < n:\n",
    "            total_time += informTime[headID]\n",
    "            new_mans = []\n",
    "            while mans:\n",
    "                val = mans.pop()\n",
    "                noticed.add(val)\n",
    "                new_mans.extend(head_dict[val])\n",
    "                headID = val\n",
    "            mans = new_mans\n",
    "        return total_time"
   ]
  },
  {
   "cell_type": "code",
   "execution_count": 6,
   "metadata": {},
   "outputs": [],
   "source": [
    "from collections import defaultdict\n",
    "\n",
    "class Solution:\n",
    "    def numOfMinutes(self, n: int, headID: int, manager, informTime) -> int:\n",
    "        head_dict = defaultdict(list)\n",
    "        for i, mang in enumerate(manager):\n",
    "            if mang != -1:\n",
    "                head_dict[mang].append(i)\n",
    "        print(head_dict)\n",
    "        noticed = {headID}\n",
    "        total_time = 0\n",
    "        mans = head_dict[headID]\n",
    "        cost_time = informTime[headID]\n",
    "        while len(noticed) < n:\n",
    "            total_time += cost_time\n",
    "            new_mans = []\n",
    "            cost_time = 0\n",
    "            while mans:\n",
    "                val = mans.pop()\n",
    "                noticed.add(val)\n",
    "                new_mans.extend(head_dict[val])\n",
    "                cost_time = max(cost_time, informTime[val])\n",
    "            mans = new_mans\n",
    "        return total_time"
   ]
  },
  {
   "cell_type": "code",
   "execution_count": 25,
   "metadata": {},
   "outputs": [],
   "source": [
    "from collections import defaultdict\n",
    "\n",
    "class Solution:\n",
    "    def numOfMinutes(self, n: int, headID: int, manager, informTime) -> int:\n",
    "        graph = defaultdict(list)\n",
    "        for i, m in enumerate(manager):\n",
    "            graph[m].append(i)\n",
    "        print(graph)\n",
    "        \n",
    "        def dfs(node, cur_time):\n",
    "            nonlocal ans\n",
    "            if node not in graph:\n",
    "                ans = max(ans, cur_time)\n",
    "            \n",
    "            for child in graph[node]:\n",
    "                dfs(child, cur_time + informTime[node])\n",
    "            \n",
    "        ans = 0\n",
    "        dfs(headID, 0)\n",
    "        return ans"
   ]
  },
  {
   "cell_type": "code",
   "execution_count": 26,
   "metadata": {},
   "outputs": [
    {
     "name": "stdout",
     "output_type": "stream",
     "text": [
      "defaultdict(<class 'list'>, {5: [0], 9: [1, 6, 8], 6: [2], 10: [3], -1: [4], 8: [5], 1: [7], 3: [9], 4: [10]})\n"
     ]
    },
    {
     "data": {
      "text/plain": [
       "2560"
      ]
     },
     "execution_count": 26,
     "metadata": {},
     "output_type": "execute_result"
    }
   ],
   "source": [
    "solution = Solution()\n",
    "solution.numOfMinutes(11, 4, [5,9,6,10,-1,8,9,1,9,3,4], [0,213,0,253,686,170,975,0,261,309,337])"
   ]
  },
  {
   "cell_type": "code",
   "execution_count": 22,
   "metadata": {},
   "outputs": [
    {
     "name": "stdout",
     "output_type": "stream",
     "text": [
      "261 170 0\n"
     ]
    }
   ],
   "source": [
    "a = [0,213,0,253,686,170,975,0,261,309,337]\n",
    "print(a[8], a[5], a[0])"
   ]
  },
  {
   "cell_type": "code",
   "execution_count": null,
   "metadata": {},
   "outputs": [],
   "source": []
  }
 ],
 "metadata": {
  "kernelspec": {
   "display_name": "Python 3",
   "language": "python",
   "name": "python3"
  },
  "language_info": {
   "codemirror_mode": {
    "name": "ipython",
    "version": 3
   },
   "file_extension": ".py",
   "mimetype": "text/x-python",
   "name": "python",
   "nbconvert_exporter": "python",
   "pygments_lexer": "ipython3",
   "version": "3.6.2"
  }
 },
 "nbformat": 4,
 "nbformat_minor": 4
}
