{
 "cells": [
  {
   "cell_type": "raw",
   "metadata": {},
   "source": [
    "说明：\n",
    "    n 座城市，从 0 到 n-1 编号，其间共有 n-1 条路线。\n",
    "    因此，要想在两座不同城市之间旅行只有唯一一条路线可供选择（路线网形成一颗树）。\n",
    "    去年，交通运输部决定重新规划路线，以改变交通拥堵的状况。\n",
    "    路线用 connections 表示，其中 connections[i] = [a, b] 表示从城市 a 到 b 的一条有向路线。\n",
    "    今年，城市 0 将会举办一场大型比赛，很多游客都想前往城市 0 。\n",
    "    请你帮助重新规划路线方向，使每个城市都可以访问城市 0 。\n",
    "    返回需要变更方向的最小路线数。\n",
    "    题目数据 保证 每个城市在重新规划路线方向后都能到达城市 0 。\n",
    "\n",
    "提示：\n",
    "    1、2 <= n <= 5 * 10^4\n",
    "    2、connections.length == n-1\n",
    "    3、connections[i].length == 2\n",
    "    4、0 <= connections[i][0], connections[i][1] <= n-1\n",
    "    5、connections[i][0] != connections[i][1]"
   ]
  },
  {
   "cell_type": "markdown",
   "metadata": {},
   "source": [
    "<img src='https://assets.leetcode-cn.com/aliyun-lc-upload/uploads/2020/05/30/sample_1_1819.png'>"
   ]
  },
  {
   "cell_type": "raw",
   "metadata": {},
   "source": [
    "例1：\n",
    "    输入：n = 6, connections = [[0,1],[1,3],[2,3],[4,0],[4,5]]\n",
    "    输出：3\n",
    "    解释：更改以红色显示的路线的方向，使每个城市都可以到达城市 0 。\n",
    "\n",
    "示例 3：\n",
    "    输入：n = 3, connections = [[1,0],[2,0]]\n",
    "    输出：0"
   ]
  },
  {
   "cell_type": "markdown",
   "metadata": {},
   "source": [
    "<img src='https://assets.leetcode-cn.com/aliyun-lc-upload/uploads/2020/05/30/sample_2_1819.png'>"
   ]
  },
  {
   "cell_type": "raw",
   "metadata": {},
   "source": [
    "示例 2：\n",
    "    输入：n = 5, connections = [[1,0],[1,2],[3,2],[3,4]]\n",
    "    输出：2\n",
    "    解释：更改以红色显示的路线的方向，使每个城市都可以到达城市 0 。"
   ]
  },
  {
   "cell_type": "code",
   "execution_count": 9,
   "metadata": {},
   "outputs": [],
   "source": [
    "from collections import defaultdict\n",
    "\n",
    "class Solution:\n",
    "    def minReorder(self, n: int, connections) -> int:\n",
    "        \n",
    "        def dfs(node):\n",
    "            nonlocal ans, seen\n",
    "            for nei in graph[node]:\n",
    "                if nei not in seen:\n",
    "                    if (node, nei) in connection_set:\n",
    "                        ans += 1\n",
    "                    seen.add(nei)\n",
    "                    dfs(nei)\n",
    "            return\n",
    "            \n",
    "        graph = defaultdict(list) # graph记录的是双向图\n",
    "        connection_set = set()\n",
    "        for x, y in connections:\n",
    "            graph[x].append(y)\n",
    "            graph[y].append(x)\n",
    "            connection_set.add((x, y))\n",
    "        print(graph, connection_set)\n",
    "        \n",
    "        ans, seen = 0, {0}\n",
    "        dfs(0)\n",
    "        return ans"
   ]
  },
  {
   "cell_type": "code",
   "execution_count": 10,
   "metadata": {},
   "outputs": [
    {
     "name": "stdout",
     "output_type": "stream",
     "text": [
      "defaultdict(<class 'list'>, {0: [1, 4], 1: [0, 3], 3: [1, 2], 2: [3], 4: [0, 5], 5: [4]}) {(0, 1), (1, 3), (4, 5), (2, 3), (4, 0)}\n"
     ]
    },
    {
     "data": {
      "text/plain": [
       "3"
      ]
     },
     "execution_count": 10,
     "metadata": {},
     "output_type": "execute_result"
    }
   ],
   "source": [
    "solution = Solution()\n",
    "solution.minReorder(n = 6, connections = [[0,1],[1,3],[2,3],[4,0],[4,5]])"
   ]
  },
  {
   "cell_type": "markdown",
   "metadata": {},
   "source": [
    "<img src='https://assets.leetcode-cn.com/aliyun-lc-upload/uploads/2020/05/30/sample_1_1819.png'>"
   ]
  },
  {
   "cell_type": "code",
   "execution_count": 11,
   "metadata": {},
   "outputs": [],
   "source": [
    "a = {1, 2, 3}"
   ]
  },
  {
   "cell_type": "code",
   "execution_count": 12,
   "metadata": {},
   "outputs": [
    {
     "ename": "TypeError",
     "evalue": "'set' object does not support indexing",
     "output_type": "error",
     "traceback": [
      "\u001b[1;31m---------------------------------------------------------------------------\u001b[0m",
      "\u001b[1;31mTypeError\u001b[0m                                 Traceback (most recent call last)",
      "\u001b[1;32m<ipython-input-12-6a1284577a36>\u001b[0m in \u001b[0;36m<module>\u001b[1;34m\u001b[0m\n\u001b[1;32m----> 1\u001b[1;33m \u001b[0ma\u001b[0m\u001b[1;33m[\u001b[0m\u001b[1;36m0\u001b[0m\u001b[1;33m]\u001b[0m\u001b[1;33m\u001b[0m\u001b[0m\n\u001b[0m",
      "\u001b[1;31mTypeError\u001b[0m: 'set' object does not support indexing"
     ]
    }
   ],
   "source": [
    "a[0]"
   ]
  },
  {
   "cell_type": "code",
   "execution_count": null,
   "metadata": {},
   "outputs": [],
   "source": []
  }
 ],
 "metadata": {
  "kernelspec": {
   "display_name": "Python 3",
   "language": "python",
   "name": "python3"
  },
  "language_info": {
   "codemirror_mode": {
    "name": "ipython",
    "version": 3
   },
   "file_extension": ".py",
   "mimetype": "text/x-python",
   "name": "python",
   "nbconvert_exporter": "python",
   "pygments_lexer": "ipython3",
   "version": "3.6.2"
  }
 },
 "nbformat": 4,
 "nbformat_minor": 4
}
