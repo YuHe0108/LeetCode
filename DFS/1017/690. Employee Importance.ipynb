{
 "cells": [
  {
   "cell_type": "raw",
   "metadata": {},
   "source": [
    "说明：\n",
    "    给定一个保存员工信息的数据结构，它包含了员工唯一的id，重要度 和 直系下属的id。\n",
    "    比如，员工1是员工2的领导，员工2是员工3的领导。他们相应的重要度为15, 10, 5。\n",
    "    那么员工1的数据结构是[1, 15, [2]]，员工2的数据结构是[2, 10, [3]]，员工3的数据结构是[3, 5, []]。\n",
    "    注意虽然员工3也是员工1的一个下属，但是由于并不是直系下属，因此没有体现在员工1的数据结构中。\n",
    "    现在输入一个公司的所有员工信息，以及单个员工id，返回这个员工和他所有下属的重要度之和。\n",
    "\n",
    "示例 1:\n",
    "    输入: [[1, 5, [2, 3]], [2, 3, []], [3, 3, []]], 1\n",
    "    输出: 11\n",
    "    解释:\n",
    "        员工1自身的重要度是5，他有两个直系下属2和3，而且2和3的重要度均为3。因此员工1的总重要度是 5 + 3 + 3 = 11。\n",
    "\n",
    "注意:\n",
    "    1、一个员工最多有一个直系领导，但是可以有多个直系下属\n",
    "    2、员工数量不超过2000。"
   ]
  },
  {
   "cell_type": "code",
   "execution_count": null,
   "metadata": {},
   "outputs": [],
   "source": []
  }
 ],
 "metadata": {
  "kernelspec": {
   "display_name": "Python 3",
   "language": "python",
   "name": "python3"
  },
  "language_info": {
   "codemirror_mode": {
    "name": "ipython",
    "version": 3
   },
   "file_extension": ".py",
   "mimetype": "text/x-python",
   "name": "python",
   "nbconvert_exporter": "python",
   "pygments_lexer": "ipython3",
   "version": "3.6.2"
  }
 },
 "nbformat": 4,
 "nbformat_minor": 4
}
