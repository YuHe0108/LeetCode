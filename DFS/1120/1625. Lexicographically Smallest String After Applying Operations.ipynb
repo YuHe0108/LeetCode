{
 "cells": [
  {
   "cell_type": "raw",
   "metadata": {},
   "source": [
    "    给定一个偶数长度的字符串s，由0到9的数字组成，以及两个整数a和b。\n",
    "\n",
    "    你可以在s上任意次数和顺序应用以下两种操作中的任何一种:\n",
    "        1、将a加到s的所有奇数项(0索引)上。9后的数字被循环回0。例如，如果s = \"3456\"而a = 5, s就变成\"3951\"。\n",
    "        2、把s向右旋转b个位置。例如，如果s = \"3456\"而b = 1, s就变成\"6345\"。\n",
    "    通过在s上应用上述操作任意次数，返回字典上最小的字符串。\n",
    "    字符串按小于字符串b(长度相同的)如果A和b在第一位置不同,早些时候出现的字符串有一个字母在字母表中相应的字母b。\n",
    "    \n",
    "    例如：“0158”比“0190”,因为小字母顺序第一位置所不同的是在第三个字母,和“9”之前,是“5”。\n",
    "\n",
    "Example 1:\n",
    "    Input: s = \"5525\", a = 9, b = 2\n",
    "    Output: \"2050\"\n",
    "    Explanation: We can apply the following operations:\n",
    "                Start:  \"5525\"\n",
    "                Rotate: \"2555\"\n",
    "                Add:    \"2454\"\n",
    "                Add:    \"2353\"\n",
    "                Rotate: \"5323\"\n",
    "                Add:    \"5222\"\n",
    "                Add:    \"5121\"\n",
    "                Rotate: \"2151\"\n",
    "                Add:    \"2050\"\n",
    "            There is no way to obtain a string that is lexicographically smaller then \"2050\".\n",
    "\n",
    "Example 2:\n",
    "    Input: s = \"74\", a = 5, b = 1\n",
    "    Output: \"24\"\n",
    "    Explanation: We can apply the following operations:\n",
    "    Start:  \"74\"\n",
    "    Rotate: \"47\"\n",
    "    Add:    \"42\"\n",
    "    Rotate: \"24\"\n",
    "    There is no way to obtain a string that is lexicographically smaller then \"24\".\n",
    "\n",
    "Example 3:\n",
    "    Input: s = \"0011\", a = 4, b = 2\n",
    "    Output: \"0011\"\n",
    "    Explanation: There are no sequence of operations that will give us a lexicographically smaller string than \"0011\".\n",
    "\n",
    "Example 4:\n",
    "    Input: s = \"43987654\", a = 7, b = 3\n",
    "    Output: \"00553311\"\n",
    "\n",
    "Constraints:\n",
    "    2 <= s.length <= 100\n",
    "    s.length is even.\n",
    "    s consists of digits from 0 to 9 only.\n",
    "    1 <= a <= 9\n",
    "    1 <= b <= s.length - 1"
   ]
  },
  {
   "cell_type": "code",
   "execution_count": 22,
   "metadata": {},
   "outputs": [],
   "source": [
    "class Solution:\n",
    "    def findLexSmallestString(self, s: str, a: int, b: int) -> str:\n",
    "        # 使用暴力解法 遍历每一种可能性，最后选择最小的数字\n",
    "        stack = [s]\n",
    "        seen = {s}\n",
    "        ans = '9' * len(s)\n",
    "        while stack:\n",
    "            s_val = stack.pop()\n",
    "            ans = min(s_val, ans)\n",
    "            cur_s = list(s_val)\n",
    "            # operation a\n",
    "            for i in range(1, len(s_val), 2):\n",
    "                cur_s[i] = str((int(cur_s[i]) + a) % 10)\n",
    "            \n",
    "            res = ''.join(cur_s)\n",
    "            if res not in seen:\n",
    "                seen.add(res)\n",
    "                stack.append(res)\n",
    "                \n",
    "            # oprations b\n",
    "            cur_s = cur_s[-b:] + cur_s[:len(s_val)-b]\n",
    "            res = ''.join(cur_s)\n",
    "            if res not in seen:\n",
    "                seen.add(res)\n",
    "                stack.append(res)\n",
    "        return ans"
   ]
  },
  {
   "cell_type": "code",
   "execution_count": 25,
   "metadata": {},
   "outputs": [
    {
     "data": {
      "text/plain": [
       "'0011'"
      ]
     },
     "execution_count": 25,
     "metadata": {},
     "output_type": "execute_result"
    }
   ],
   "source": [
    "solution = Solution()\n",
    "solution.findLexSmallestString(s = \"0011\", a = 4, b = 2)"
   ]
  },
  {
   "cell_type": "code",
   "execution_count": null,
   "metadata": {},
   "outputs": [],
   "source": []
  }
 ],
 "metadata": {
  "kernelspec": {
   "display_name": "Python 3",
   "language": "python",
   "name": "python3"
  },
  "language_info": {
   "codemirror_mode": {
    "name": "ipython",
    "version": 3
   },
   "file_extension": ".py",
   "mimetype": "text/x-python",
   "name": "python",
   "nbconvert_exporter": "python",
   "pygments_lexer": "ipython3",
   "version": "3.6.2"
  }
 },
 "nbformat": 4,
 "nbformat_minor": 4
}
