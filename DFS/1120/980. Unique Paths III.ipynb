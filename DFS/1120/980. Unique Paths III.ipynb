{
 "cells": [
  {
   "cell_type": "raw",
   "metadata": {},
   "source": [
    "    在二维网格 grid 上，有 4 种类型的方格：\n",
    "        1 表示起始方格。且只有一个起始方格。\n",
    "        2 表示结束方格，且只有一个结束方格。\n",
    "        0 表示我们可以走过的空方格。\n",
    "        -1 表示我们无法跨越的障碍。\n",
    "    返回在四个方向（上、下、左、右）上行走时，从起始方格到结束方格的不同路径的数目。\n",
    "    \n",
    "    每一个无障碍方格都要通过一次，但是一条路径中不能重复通过同一个方格。\n",
    "\n",
    "示例 1：\n",
    "    输入：[[1,0,0,0],[0,0,0,0],[0,0,2,-1]]\n",
    "    输出：2\n",
    "    解释：我们有以下两条路径：\n",
    "        1. (0,0),(0,1),(0,2),(0,3),(1,3),(1,2),(1,1),(1,0),(2,0),(2,1),(2,2)\n",
    "        2. (0,0),(1,0),(2,0),(2,1),(1,1),(0,1),(0,2),(0,3),(1,3),(1,2),(2,2)\n",
    "\n",
    "示例 2：\n",
    "    输入：[[1,0,0,0],\n",
    "          [0,0,0,0],\n",
    "          [0,0,0,2]]\n",
    "    输出：4\n",
    "    解释：我们有以下四条路径： \n",
    "        1. (0,0),(0,1),(0,2),(0,3),(1,3),(1,2),(1,1),(1,0),(2,0),(2,1),(2,2),(2,3)\n",
    "        2. (0,0),(0,1),(1,1),(1,0),(2,0),(2,1),(2,2),(1,2),(0,2),(0,3),(1,3),(2,3)\n",
    "        3. (0,0),(1,0),(2,0),(2,1),(2,2),(1,2),(1,1),(0,1),(0,2),(0,3),(1,3),(2,3)\n",
    "        4. (0,0),(1,0),(2,0),(2,1),(1,1),(0,1),(0,2),(0,3),(1,3),(1,2),(2,2),(2,3)\n",
    "\n",
    "示例 3：\n",
    "    输入：[[0,1],\n",
    "           [2,0]]\n",
    "    输出：0\n",
    "    解释：\n",
    "        没有一条路能完全穿过每一个空的方格一次。\n",
    "        请注意，起始和结束方格可以位于网格中的任意位置。\n",
    "\n",
    "提示：\n",
    "    1 <= grid.length * grid[0].length <= 20"
   ]
  },
  {
   "cell_type": "code",
   "execution_count": 23,
   "metadata": {},
   "outputs": [],
   "source": [
    "class Solution:\n",
    "    def uniquePathsIII(self, grid) -> int:\n",
    "        def dfs(pos, cnt):\n",
    "            nonlocal res\n",
    "            i, j = pos\n",
    "            for ni, nj in (i+1, j), (i-1, j), (i, j+1), (i, j-1):\n",
    "                if ni < 0 or nj < 0 or ni >= rows or nj >= cols:\n",
    "                    continue\n",
    "                if [ni, nj] == end and cnt == total:\n",
    "                    res += 1\n",
    "                    return\n",
    "                if grid[ni][nj] == 0:\n",
    "                    grid[ni][nj] = 3\n",
    "                    dfs([ni, nj], cnt + 1)\n",
    "                    grid[ni][nj] = 0\n",
    "        \n",
    "        res = 0\n",
    "        rows, cols = len(grid), len(grid[0])\n",
    "        start, end = None, None \n",
    "        block = 0\n",
    "        for r in range(rows):\n",
    "            for c in range(cols):\n",
    "                if grid[r][c] == 1:\n",
    "                    start = [r, c]\n",
    "                elif grid[r][c] == 2:\n",
    "                    end = [r, c]\n",
    "                elif grid[r][c] == -1:\n",
    "                    block += 1\n",
    "        total = rows * cols - 2 - block # 所有应该走过的 0 的数量\n",
    "        dfs(start, 0)\n",
    "        return res"
   ]
  },
  {
   "cell_type": "code",
   "execution_count": 24,
   "metadata": {},
   "outputs": [
    {
     "data": {
      "text/plain": [
       "2"
      ]
     },
     "execution_count": 24,
     "metadata": {},
     "output_type": "execute_result"
    }
   ],
   "source": [
    "solution = Solution()\n",
    "solution.uniquePathsIII([[1,0,0,0],\n",
    "                         [0,0,0,0],\n",
    "                         [0,0,2,-1]])"
   ]
  },
  {
   "cell_type": "code",
   "execution_count": null,
   "metadata": {},
   "outputs": [],
   "source": []
  },
  {
   "cell_type": "code",
   "execution_count": null,
   "metadata": {},
   "outputs": [],
   "source": []
  }
 ],
 "metadata": {
  "kernelspec": {
   "display_name": "Python 3",
   "language": "python",
   "name": "python3"
  },
  "language_info": {
   "codemirror_mode": {
    "name": "ipython",
    "version": 3
   },
   "file_extension": ".py",
   "mimetype": "text/x-python",
   "name": "python",
   "nbconvert_exporter": "python",
   "pygments_lexer": "ipython3",
   "version": "3.6.2"
  }
 },
 "nbformat": 4,
 "nbformat_minor": 4
}
