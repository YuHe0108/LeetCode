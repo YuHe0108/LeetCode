{
 "cells": [
  {
   "cell_type": "raw",
   "metadata": {},
   "source": [
    "    给出一个二维整数网格 grid，网格中的每个值表示该位置处的网格块的颜色。\n",
    "\n",
    "    只有当两个网格块的颜色相同，而且在四个方向中任意一个方向上相邻时，它们属于同一连通分量。\n",
    "\n",
    "    连通分量的边界是指连通分量中的所有与不在分量中的正方形相邻（四个方向上）的所有正方形，\n",
    "    或者在网格的边界上（第一行/列或最后一行/列）的所有正方形。\n",
    "\n",
    "    给出位于 (r0, c0) 的网格块和颜色 color，使用指定颜色 color 为所给网格块的连通分量的边界进行着色，并返回最终的网格 grid 。\n",
    "\n",
    "示例 1：\n",
    "    输入：grid = [[1,1],[1,2]], r0 = 0, c0 = 0, color = 3\n",
    "    输出：[[3, 3], [3, 2]]\n",
    "\n",
    "示例 2：\n",
    "    输入：grid = [[1,2,2],[2,3,2]], r0 = 0, c0 = 1, color = 3\n",
    "    输出：[[1, 3, 3], [2, 3, 3]]\n",
    "\n",
    "示例 3：\n",
    "    输入：grid = [[1,1,1],[1,1,1],[1,1,1]], r0 = 1, c0 = 1, color = 2\n",
    "    输出：[[2, 2, 2], [2, 1, 2], [2, 2, 2]]\n",
    "\n",
    "提示：\n",
    "    1 <= grid.length <= 50\n",
    "    1 <= grid[0].length <= 50\n",
    "    1 <= grid[i][j] <= 1000\n",
    "    0 <= r0 < grid.length\n",
    "    0 <= c0 < grid[0].length\n",
    "    1 <= color <= 1000"
   ]
  },
  {
   "cell_type": "code",
   "execution_count": 25,
   "metadata": {},
   "outputs": [],
   "source": [
    "import copy\n",
    "\n",
    "class Solution:\n",
    "    def colorBorder(self, grid, r0: int, c0: int, color):\n",
    "        rows, cols = len(grid), len(grid[0])\n",
    "        cur_color = grid[r0][c0]\n",
    "        stack = [(r0, c0)]\n",
    "        seen = {(r0, c0)}\n",
    "        bound = [] # 记录可能的边界点\n",
    "        while stack:\n",
    "            i, j = stack.pop()\n",
    "            if (i == 0 or j == 0 or i == rows-1 or j == cols-1):\n",
    "                bound.append((i, j))\n",
    "            for ni, nj in (i+1, j), (i-1, j), (i, j+1), (i, j-1):\n",
    "                if ni < 0 or nj < 0 or ni >= rows or nj >= cols:\n",
    "                    continue\n",
    "                if (ni, nj) in seen:\n",
    "                    continue\n",
    "                if grid[ni][nj] != cur_color and (i, j) not in bound:\n",
    "                    bound.append((i, j))\n",
    "                if grid[ni][nj] == cur_color:\n",
    "                    seen.add((ni, nj))\n",
    "                    stack.append((ni, nj))\n",
    "        res = copy.deepcopy(grid)\n",
    "        for i, j in bound:\n",
    "            res[i][j] = color\n",
    "        return res"
   ]
  },
  {
   "cell_type": "code",
   "execution_count": 26,
   "metadata": {},
   "outputs": [
    {
     "name": "stdout",
     "output_type": "stream",
     "text": [
      "[(0, 1), (0, 2), (1, 2)]\n"
     ]
    }
   ],
   "source": [
    "solution = Solution()\n",
    "solution.colorBorder(grid = [[1,2,2],[2,3,2]], r0 = 0, c0 = 1, color = 3)"
   ]
  },
  {
   "cell_type": "code",
   "execution_count": null,
   "metadata": {},
   "outputs": [],
   "source": [
    "import copy\n",
    "\n",
    "class Solution:\n",
    "    def colorBorder(self, grid, r0: int, c0: int, color):\n",
    "        rows, cols = len(grid), len(grid[0])\n",
    "        cur_color = grid[r0][c0]\n",
    "        stack = [(r0, c0)]\n",
    "        seen = {(r0, c0)}\n",
    "        while stack:\n",
    "            i, j = stack.pop()\n",
    "            if (i == 0 or j == 0 or i == rows-1 or j == cols-1):\n",
    "                grid[i][j] = color\n",
    "            for ni, nj in (i+1, j), (i-1, j), (i, j+1), (i, j-1):\n",
    "                if ni < 0 or nj < 0 or ni >= rows or nj >= cols:\n",
    "                    continue\n",
    "                if (ni, nj) in seen:\n",
    "                    continue\n",
    "                if grid[ni][nj] != cur_color:\n",
    "                    grid[i][j] = color\n",
    "                if grid[ni][nj] == cur_color:\n",
    "                    seen.add((ni, nj))\n",
    "                    stack.append((ni, nj))\n",
    "        return grid"
   ]
  }
 ],
 "metadata": {
  "kernelspec": {
   "display_name": "Python 3",
   "language": "python",
   "name": "python3"
  },
  "language_info": {
   "codemirror_mode": {
    "name": "ipython",
    "version": 3
   },
   "file_extension": ".py",
   "mimetype": "text/x-python",
   "name": "python",
   "nbconvert_exporter": "python",
   "pygments_lexer": "ipython3",
   "version": "3.6.2"
  }
 },
 "nbformat": 4,
 "nbformat_minor": 4
}
