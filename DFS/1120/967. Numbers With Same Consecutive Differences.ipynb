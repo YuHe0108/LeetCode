{
 "cells": [
  {
   "cell_type": "raw",
   "metadata": {},
   "source": [
    "    返回所有长度为 N 且满足其每两个连续位上的数字之间的差的绝对值为 K 的非负整数。\n",
    "    \n",
    "    请注意，除了数字 0 本身之外，答案中的每个数字都不能有前导零。例如，01 因为有一个前导零，所以是无效的；但 0 是有效的。\n",
    "    \n",
    "    你可以按任何顺序返回答案。\n",
    " \n",
    "示例 1：\n",
    "    输入：N = 3, K = 7\n",
    "    输出：[181,292,707,818,929]\n",
    "    解释：注意，070 不是一个有效的数字，因为它有前导零。\n",
    "\n",
    "示例 2：\n",
    "    输入：N = 2, K = 1\n",
    "    输出：[10,12,21,23,32,34,43,45,54,56,65,67,76,78,87,89,98]\n",
    " \n",
    "提示：\n",
    "    1 <= N <= 9\n",
    "    0 <= K <= 9"
   ]
  },
  {
   "cell_type": "code",
   "execution_count": 14,
   "metadata": {},
   "outputs": [],
   "source": [
    "class Solution:\n",
    "    def numsSameConsecDiff(self, n: int, k: int):\n",
    "        def dfs(cnt, temp):\n",
    "            nonlocal res\n",
    "            # cnt 记录当前有多少位数字，temp表示当前记录的值\n",
    "            if temp and temp[0] == '0':\n",
    "                return\n",
    "            if cnt >= 2 and abs(int(temp[-1]) - int(temp[-2])) != k:\n",
    "                return\n",
    "            if cnt == n:\n",
    "                res.append(int(''.join(temp)))\n",
    "                return \n",
    "            for i in range(10):\n",
    "                dfs(cnt + 1, temp + str(i))\n",
    "        res = []\n",
    "        dfs(0, '')\n",
    "        return res"
   ]
  },
  {
   "cell_type": "code",
   "execution_count": 15,
   "metadata": {},
   "outputs": [
    {
     "data": {
      "text/plain": [
       "[181, 292, 707, 818, 929]"
      ]
     },
     "execution_count": 15,
     "metadata": {},
     "output_type": "execute_result"
    }
   ],
   "source": [
    "solution = Solution()\n",
    "solution.numsSameConsecDiff(3, 7)"
   ]
  },
  {
   "cell_type": "code",
   "execution_count": null,
   "metadata": {},
   "outputs": [],
   "source": []
  }
 ],
 "metadata": {
  "kernelspec": {
   "display_name": "Python 3",
   "language": "python",
   "name": "python3"
  },
  "language_info": {
   "codemirror_mode": {
    "name": "ipython",
    "version": 3
   },
   "file_extension": ".py",
   "mimetype": "text/x-python",
   "name": "python",
   "nbconvert_exporter": "python",
   "pygments_lexer": "ipython3",
   "version": "3.6.2"
  }
 },
 "nbformat": 4,
 "nbformat_minor": 4
}
