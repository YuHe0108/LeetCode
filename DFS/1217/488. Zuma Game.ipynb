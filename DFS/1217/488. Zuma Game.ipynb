{
 "cells": [
  {
   "cell_type": "code",
   "execution_count": null,
   "metadata": {},
   "outputs": [],
   "source": []
  },
  {
   "cell_type": "code",
   "execution_count": null,
   "metadata": {},
   "outputs": [],
   "source": []
  },
  {
   "cell_type": "code",
   "execution_count": 12,
   "metadata": {},
   "outputs": [],
   "source": [
    "from collections import defaultdict\n",
    "\n",
    "class Solution:\n",
    "    def findMinStep(self, board: str, hand: str) -> int:\n",
    "        def backtrack(board):\n",
    "            if not board:\n",
    "                return 0\n",
    "            i = 0\n",
    "            ans = 6\n",
    "            while i < len(board):\n",
    "                j = i + 1\n",
    "                while j < len(board) and board[i] == board[j]:\n",
    "                    j += 1\n",
    "                balls =  3 - (j - i)\n",
    "                if count[board[i]] >= balls:\n",
    "                    balls = max(balls, 0)\n",
    "                    count[board[i]] -= balls\n",
    "                    ans = min(ans, balls + backtrack(board[:i] + board[j:]))\n",
    "                    count[board[i]] += balls\n",
    "                i = j\n",
    "            return ans\n",
    "        \n",
    "        count = defaultdict(int)\n",
    "        for s in hand:\n",
    "            count[s] += 1\n",
    "        ans = backtrack(board)\n",
    "        # 因为手上最多只能有五个求，如果多余五步才能完成，那么就是False\n",
    "        return -1 if ans > 5 else ans"
   ]
  },
  {
   "cell_type": "code",
   "execution_count": 13,
   "metadata": {},
   "outputs": [
    {
     "name": "stdout",
     "output_type": "stream",
     "text": [
      "2\n"
     ]
    },
    {
     "data": {
      "text/plain": [
       "2"
      ]
     },
     "execution_count": 13,
     "metadata": {},
     "output_type": "execute_result"
    }
   ],
   "source": [
    "solution = Solution()\n",
    "solution.findMinStep(\"WWBBWBBWW\", \"BB\")"
   ]
  },
  {
   "cell_type": "code",
   "execution_count": null,
   "metadata": {},
   "outputs": [],
   "source": []
  }
 ],
 "metadata": {
  "kernelspec": {
   "display_name": "Python 3",
   "language": "python",
   "name": "python3"
  },
  "language_info": {
   "codemirror_mode": {
    "name": "ipython",
    "version": 3
   },
   "file_extension": ".py",
   "mimetype": "text/x-python",
   "name": "python",
   "nbconvert_exporter": "python",
   "pygments_lexer": "ipython3",
   "version": "3.6.2"
  }
 },
 "nbformat": 4,
 "nbformat_minor": 4
}
