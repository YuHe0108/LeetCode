{
 "cells": [
  {
   "cell_type": "code",
   "execution_count": null,
   "metadata": {},
   "outputs": [],
   "source": []
  },
  {
   "cell_type": "code",
   "execution_count": null,
   "metadata": {},
   "outputs": [],
   "source": []
  },
  {
   "cell_type": "markdown",
   "metadata": {},
   "source": [
    "### 1、最粗暴的一种，遍历所有 0 将其变为 1，寻找面积最大的 island"
   ]
  },
  {
   "cell_type": "code",
   "execution_count": null,
   "metadata": {},
   "outputs": [],
   "source": [
    "class Solution:\n",
    "    def largestIsland(self, grid):\n",
    "        def dfs(r, c):\n",
    "            def helper(a, b):\n",
    "                stack = [(a, b)]\n",
    "                cnt = 0\n",
    "                while stack:\n",
    "                    x, y = stack.pop()\n",
    "                    cnt += 1\n",
    "                    for nx, ny in (x+1, y), (x-1, y), (x, y+1), (x, y-1):\n",
    "                        if nx < 0 or nx >= rows or ny < 0 or ny >= cols or grid[nx][ny] == 0:\n",
    "                            continue\n",
    "                        if (nx, ny) not in seen:\n",
    "                            seen.add((nx, ny))\n",
    "                            stack.append((nx, ny))\n",
    "                return cnt\n",
    "            \n",
    "            grid[r][c] = 1\n",
    "            area = 0\n",
    "            seen = set()\n",
    "            for i in range(rows):\n",
    "                for j in range(cols):\n",
    "                    if grid[i][j] == 1 and (i, j) not in seen:\n",
    "                        seen.add((i, j))\n",
    "                        area = max(area, helper(i, j))\n",
    "            grid[r][c] = 0\n",
    "            return area\n",
    "        \n",
    "        res = -float('inf')\n",
    "        rows, cols = len(grid), len(grid[0])\n",
    "        ocean = []\n",
    "        for i in range(rows):\n",
    "            for j in range(cols):\n",
    "                if grid[i][j] == 0:\n",
    "                    ocean.append((i, j))\n",
    "        for i, j in ocean:\n",
    "            res = max(res, dfs(i, j))\n",
    "        return res if res != -float('inf') else rows * cols"
   ]
  },
  {
   "cell_type": "code",
   "execution_count": null,
   "metadata": {},
   "outputs": [],
   "source": []
  },
  {
   "cell_type": "code",
   "execution_count": null,
   "metadata": {},
   "outputs": [],
   "source": []
  },
  {
   "cell_type": "code",
   "execution_count": null,
   "metadata": {},
   "outputs": [],
   "source": []
  },
  {
   "cell_type": "code",
   "execution_count": 120,
   "metadata": {},
   "outputs": [],
   "source": [
    "from collections import defaultdict\n",
    "\n",
    "class Solution:\n",
    "    def largestIsland(self, grid):\n",
    "        def dfs(r, c):\n",
    "            def helper(a, b):\n",
    "                stack = [(a, b)]\n",
    "                cnt = 0\n",
    "                while stack:\n",
    "                    x, y = stack.pop()\n",
    "                    cnt += 1\n",
    "                    for nx, ny in (x+1, y), (x-1, y), (x, y+1), (x, y-1):\n",
    "                        if nx < 0 or nx >= rows or ny < 0 or ny >= cols or grid[nx][ny] == 0:\n",
    "                            continue\n",
    "                        if (nx, ny) not in seen:\n",
    "                            seen.add((nx, ny))\n",
    "                            stack.append((nx, ny))\n",
    "                return cnt\n",
    "            grid[r][c] = 1\n",
    "            area = 0\n",
    "            seen = set()\n",
    "            for i in range(rows):\n",
    "                for j in range(cols):\n",
    "                    if grid[i][j] == 1 and (i, j) not in seen:\n",
    "                        seen.add((i, j))\n",
    "                        area = max(area, helper(i, j))\n",
    "            grid[r][c] = 0\n",
    "            return area\n",
    "        \n",
    "        def get_ocean():\n",
    "            nonlocal no_island\n",
    "            def helper(x, y):\n",
    "                stack = [(x, y)]\n",
    "                while stack:\n",
    "                    x, y = stack.pop()\n",
    "                    for nx, ny in (x+1, y), (x-1, y), (x, y+1), (x, y-1):\n",
    "                        if nx < 0 or nx >= rows or ny < 0 or ny >= cols:\n",
    "                            continue\n",
    "                        if grid[nx][ny] == 1 and (nx, ny) not in visited:\n",
    "                            visited.add((nx, ny))\n",
    "                            stack.append((nx, ny))\n",
    "                        elif grid[nx][ny] == 0:\n",
    "                            ocean[(nx, ny)] += 1\n",
    "        \n",
    "            visited = set()\n",
    "            ocean = defaultdict(int) # 首先陆地周围的海洋更有可能连同更大的面积，孤岛则只可能有一个面积\n",
    "            for i in range(rows):\n",
    "                for j in range(cols):\n",
    "                    if grid[i][j] == 1 and (i, j) not in visited:\n",
    "                        no_island = False\n",
    "                        visited.add((i, j))\n",
    "                        helper(i, j)\n",
    "            return ocean\n",
    "        \n",
    "        rows, cols = len(grid), len(grid[0])\n",
    "        no_island = True # 只有海洋没有陆地\n",
    "        ocean = get_ocean()\n",
    "        ocean = sorted(ocean.items(), key=lambda x: -x[1])\n",
    "        if not ocean:\n",
    "            if no_island: # 只有海洋，那么只能最大只能为 1\n",
    "                return 1\n",
    "            else: # 或者都是陆地\n",
    "                return rows * cols \n",
    "        \n",
    "        res = -float('inf')\n",
    "        for i, j in ocean[:100]:\n",
    "            res = max(res, dfs(i[0], i[1]))\n",
    "        return res "
   ]
  },
  {
   "cell_type": "code",
   "execution_count": 121,
   "metadata": {},
   "outputs": [
    {
     "data": {
      "text/plain": [
       "142"
      ]
     },
     "execution_count": 121,
     "metadata": {},
     "output_type": "execute_result"
    }
   ],
   "source": [
    "solution = Solution()\n",
    "solution.largestIsland([[0,0,1,0,1,0,1,0,0,1,0,0,1,0,0,1,1,0,0,0,1,0,0,0,0,1,0,0,0,0,1,0,0,0,1,1,0,1,0,1,0,0,1,1,1,0,1,0,0,1],[1,1,0,0,0,0,1,1,0,0,0,1,0,1,0,0,0,1,0,0,0,1,0,1,0,0,0,1,1,1,1,0,1,1,1,0,0,0,0,1,0,1,1,1,0,1,0,0,0,1],[1,1,1,0,1,0,0,1,0,1,1,1,0,0,1,0,0,1,0,0,1,0,1,0,1,1,0,1,1,1,0,0,0,0,1,0,1,1,1,0,0,1,0,1,1,1,0,0,1,1],[1,0,0,0,0,0,0,0,0,0,0,0,0,0,1,1,1,1,1,1,1,0,1,1,1,0,1,1,1,1,0,1,0,0,0,1,0,0,0,0,1,0,0,1,1,0,0,0,0,1],[1,1,0,1,1,0,1,0,1,0,1,1,0,0,0,1,0,0,1,0,0,1,1,0,0,0,1,0,1,1,1,0,0,1,0,1,1,1,0,1,0,1,0,1,1,0,1,1,0,0],[1,1,0,0,0,1,1,1,1,1,1,0,1,1,0,1,0,1,0,1,0,0,0,0,1,0,0,0,0,0,1,1,0,0,0,0,1,0,0,1,0,1,0,1,0,1,0,1,1,0],[1,0,0,0,0,0,0,0,0,0,0,1,1,1,1,0,1,0,1,1,1,0,0,1,0,1,1,1,1,0,1,1,1,1,0,1,1,0,1,1,1,1,1,0,1,0,0,1,1,1],[1,1,0,0,1,0,1,0,1,1,1,0,0,1,0,0,1,0,0,1,0,1,1,0,0,1,1,0,0,1,1,0,1,0,0,1,1,1,0,0,1,0,1,1,1,0,0,1,0,0],[1,0,0,0,1,1,0,0,1,0,1,1,1,0,1,0,1,0,0,1,0,0,1,0,1,0,1,0,1,1,1,0,0,0,1,1,0,1,0,0,0,0,0,0,1,0,0,1,0,0],[0,1,1,0,1,1,0,0,0,0,1,0,1,1,1,1,0,1,1,1,0,1,1,1,0,0,0,0,1,1,0,0,0,1,1,1,0,1,1,0,1,0,1,1,0,0,1,0,0,1],[1,1,1,0,0,1,0,1,1,1,1,1,0,0,1,0,1,1,1,0,0,1,0,0,0,1,0,0,0,0,0,0,1,1,0,0,0,1,1,1,1,1,0,1,1,1,0,1,1,0],[1,0,1,1,1,0,1,1,1,0,1,1,1,0,0,1,1,1,0,0,0,0,1,0,0,1,1,0,1,0,1,1,0,0,1,0,1,1,1,1,0,0,1,1,1,1,1,1,0,1],[0,0,0,0,0,0,0,0,1,0,1,1,0,0,0,1,1,1,1,1,1,0,1,1,1,0,1,1,1,0,0,1,0,1,1,1,1,0,1,0,0,1,1,1,1,0,0,0,1,0],[1,1,0,1,0,0,1,1,0,1,0,1,0,0,1,0,0,1,1,1,1,1,0,1,1,1,0,0,1,0,0,0,0,0,0,1,1,0,1,1,0,0,0,1,1,1,0,1,1,0],[1,0,1,1,0,0,1,0,1,0,0,1,1,1,1,1,1,1,0,0,0,1,1,1,0,0,0,0,0,0,1,1,0,0,0,0,0,0,0,1,1,0,0,1,0,1,1,1,1,0],[1,0,0,1,0,0,1,1,1,1,1,0,1,0,1,1,0,0,1,0,0,1,1,0,0,0,0,0,0,1,0,0,0,1,1,1,0,0,1,1,0,0,1,1,1,0,1,1,1,1],[1,0,1,1,0,0,0,0,0,0,0,0,1,0,1,1,0,0,1,1,0,1,1,0,1,0,1,1,1,1,0,0,1,0,0,0,1,1,0,1,1,0,0,0,0,0,1,1,1,1],[1,0,0,0,1,1,1,1,1,0,0,0,1,1,1,1,0,0,0,1,0,0,0,1,0,0,0,1,0,0,1,0,0,0,1,1,1,1,1,0,0,1,0,1,1,1,0,1,0,1],[0,1,0,0,1,0,0,0,0,1,0,0,1,1,1,1,0,0,1,0,0,1,1,0,0,0,0,1,1,0,0,0,1,0,1,1,0,0,1,1,1,1,0,0,1,0,0,0,1,1],[1,1,0,0,1,1,0,1,1,0,1,1,0,1,0,1,0,0,1,1,0,1,1,1,0,0,0,1,0,0,1,1,1,1,1,1,1,1,1,0,0,1,0,1,0,1,1,1,1,0],[0,0,0,0,1,0,1,0,1,1,0,0,0,0,1,0,1,0,1,0,1,1,0,1,1,1,0,1,0,0,1,1,1,0,0,0,1,1,0,1,1,0,0,0,0,1,1,1,1,0],[0,0,1,1,1,0,1,1,1,0,1,1,0,1,0,1,0,0,0,1,1,0,1,1,1,1,0,1,0,1,1,0,0,0,1,1,0,1,1,0,0,1,1,0,1,1,0,0,0,1],[1,0,1,0,1,0,1,0,0,1,1,1,0,0,1,1,0,0,0,0,0,1,0,0,1,0,0,1,1,0,1,1,0,0,0,1,0,0,0,0,1,1,1,1,0,1,1,0,1,1],[0,0,1,0,1,0,0,0,0,0,1,1,1,0,0,0,1,0,1,0,1,1,1,1,1,0,1,1,1,0,0,0,1,1,0,0,1,0,0,1,0,0,0,1,0,1,0,1,1,1],[1,0,1,0,1,0,0,0,1,0,0,1,1,0,1,0,0,0,0,1,0,0,0,1,0,1,1,0,1,1,0,0,1,1,1,1,1,0,0,1,1,0,1,0,0,0,1,1,0,0],[1,1,1,1,0,1,0,0,0,0,0,0,0,1,0,0,0,1,1,1,1,1,1,1,0,0,1,1,0,0,1,0,0,1,1,0,1,1,0,0,0,1,0,0,1,1,0,1,0,1],[0,0,0,0,0,1,0,0,1,1,1,0,1,0,0,1,0,1,1,1,1,1,1,0,1,1,0,1,0,0,1,1,0,1,0,0,0,0,1,0,1,1,0,0,0,0,0,1,1,0],[1,0,0,0,0,1,1,1,1,0,0,1,0,1,0,0,0,1,0,0,1,0,1,1,0,1,0,0,1,1,0,0,0,0,1,0,1,1,0,1,1,1,0,1,1,0,0,1,0,1],[1,0,1,1,0,0,1,1,0,1,1,1,1,0,1,0,0,0,1,1,0,0,0,1,0,1,1,1,1,0,1,0,0,0,0,1,0,1,1,1,1,1,0,0,1,0,0,0,1,0],[1,1,1,0,1,0,0,0,1,0,0,0,1,0,1,1,0,0,1,1,1,0,1,0,1,1,0,1,1,0,1,1,1,1,0,1,0,0,1,0,0,0,0,1,0,0,0,1,0,1],[1,0,0,1,1,0,1,0,0,1,1,0,0,0,0,1,0,1,1,0,1,1,1,1,0,1,1,0,0,1,0,1,0,1,1,0,1,1,1,1,0,0,1,1,0,1,1,0,0,1],[1,0,1,1,0,1,0,1,1,0,0,1,1,1,1,1,0,1,0,0,1,0,0,1,0,0,0,0,0,1,0,0,1,1,1,0,0,1,1,0,1,0,0,1,0,0,0,0,1,0],[0,0,1,1,1,0,1,1,0,0,1,0,1,1,1,1,0,1,1,1,0,0,1,1,0,0,0,0,1,0,0,0,1,0,1,0,1,1,1,1,0,0,1,0,0,0,0,1,1,1],[1,0,1,0,1,1,0,0,0,1,0,0,0,0,0,0,1,1,0,1,0,0,0,1,0,0,1,0,0,0,0,0,0,1,1,0,0,0,0,1,0,1,1,1,0,1,1,0,1,1],[1,1,0,1,1,1,0,0,0,1,1,1,0,0,0,1,1,0,0,1,1,0,1,1,0,1,1,0,1,0,1,1,0,1,1,1,1,1,1,0,0,1,0,1,0,1,1,0,0,0],[0,0,1,1,0,0,0,0,0,0,1,1,0,0,0,1,0,1,1,1,1,0,0,1,0,0,0,0,0,1,1,0,1,0,1,1,1,1,1,0,0,1,1,1,1,1,1,1,1,1],[1,1,1,1,1,0,0,0,1,0,0,1,1,1,0,1,0,1,1,1,0,0,0,0,0,0,1,0,1,1,1,1,0,1,1,1,0,1,1,0,0,1,0,0,0,1,0,1,0,0],[1,0,1,1,0,1,0,1,0,1,0,1,0,0,0,1,1,0,0,1,0,1,1,0,1,1,1,0,0,1,0,1,1,0,1,0,0,1,0,0,0,0,1,0,0,0,0,0,1,0],[1,0,0,1,1,1,1,1,0,0,1,0,1,0,0,0,0,0,1,1,1,1,1,0,0,0,1,0,1,1,0,0,1,0,1,0,1,0,1,0,1,1,0,1,1,1,0,0,0,0],[1,0,1,0,1,1,0,1,0,0,0,0,1,1,1,1,0,0,1,1,0,0,0,0,1,1,1,1,1,1,0,0,0,1,0,0,0,1,0,1,1,1,1,0,0,1,0,1,0,1],[1,1,0,0,0,0,0,1,1,0,0,0,1,1,0,0,1,0,1,1,0,1,0,1,0,1,0,1,1,1,0,0,0,0,1,1,0,1,0,0,1,1,0,1,1,0,1,1,0,0],[1,0,0,1,1,1,0,1,1,0,0,1,0,1,0,1,1,1,0,1,0,1,0,1,0,1,0,1,1,1,1,0,1,1,1,1,1,0,0,0,0,1,1,0,1,1,0,1,1,0],[1,0,1,1,1,1,0,1,1,0,1,0,1,1,1,1,0,1,1,1,1,0,0,0,0,0,1,1,1,1,1,0,1,1,1,1,0,0,0,0,0,1,1,0,0,0,0,1,0,0],[1,0,1,1,0,0,0,1,0,0,0,0,0,1,1,0,1,0,0,0,0,1,0,0,1,0,1,0,1,1,0,1,0,0,1,0,1,0,0,0,1,1,1,0,1,0,1,0,1,1],[0,0,1,1,0,0,1,0,1,0,0,0,1,1,1,0,0,1,0,0,1,0,1,1,0,0,0,0,0,0,0,0,0,0,1,1,1,0,0,0,0,1,0,1,1,1,0,1,1,0],[0,1,1,0,1,0,0,1,0,1,1,0,0,1,1,0,1,1,0,0,1,1,1,0,1,0,1,1,0,0,0,1,0,1,1,1,1,0,1,0,1,1,1,0,1,1,0,0,1,0],[0,0,1,1,1,0,1,0,1,1,0,1,0,1,0,0,0,1,1,1,1,1,1,1,1,0,0,0,0,0,0,0,1,1,0,1,0,1,1,0,1,1,1,1,0,1,0,1,0,1],[0,1,1,0,1,0,1,0,0,0,0,0,1,0,0,0,0,0,1,1,1,0,0,0,0,1,0,1,0,1,1,0,0,1,1,0,0,1,1,1,0,0,0,0,0,0,0,0,1,0],[0,0,1,1,1,1,0,0,1,0,1,1,1,1,0,1,1,1,0,1,1,0,0,0,0,0,0,1,1,1,0,1,0,1,0,0,0,1,0,1,1,0,1,1,1,0,0,0,1,1],[0,1,0,0,1,1,0,1,1,0,0,0,1,1,1,1,0,0,1,0,0,1,1,1,0,1,0,1,1,0,0,1,1,1,1,1,0,1,1,0,1,1,1,1,0,0,1,1,1,1]])"
   ]
  },
  {
   "cell_type": "code",
   "execution_count": null,
   "metadata": {},
   "outputs": [],
   "source": [
    "[[1, 1], \n",
    " [0, 1]]"
   ]
  },
  {
   "cell_type": "markdown",
   "metadata": {},
   "source": [
    "### 思路2：找到 0 链接了哪些岛屿"
   ]
  },
  {
   "cell_type": "code",
   "execution_count": 12,
   "metadata": {},
   "outputs": [],
   "source": [
    "from collections import defaultdict\n",
    "\n",
    "class Solution:\n",
    "    def largestIsland(self, grid):\n",
    "        # 使用 union find，将所有同一块的岛屿定为一个祖宗\n",
    "        def union(x, y):\n",
    "            x, y = find(x), find(y)\n",
    "            if x < y:\n",
    "                father[x] = y\n",
    "            else:\n",
    "                father[y] = 1\n",
    "        \n",
    "        def find(x):\n",
    "            if father[x] != x:\n",
    "                father[x] = find(father[x])\n",
    "            return father[x]\n",
    "        \n",
    "        # 给出一个出事 island 点，计算该点的形成岛屿的面积\n",
    "        def get_area():\n",
    "            def helper(a, b):\n",
    "                cur_pos = a * cols + b\n",
    "                stack = [(a, b)]\n",
    "                area = 0\n",
    "                while stack:\n",
    "                    x, y = stack.pop()\n",
    "                    area += 1\n",
    "                    for nx, ny in (x+1, y), (x-1, y), (x, y+1), (x, y-1):\n",
    "                        if nx < 0 or nx >= rows or ny < 0 or ny >= cols or grid[nx][ny] == 0:\n",
    "                            continue\n",
    "                        if (nx, ny) not in seen:\n",
    "                            seen.add((nx, ny))\n",
    "                            stack.append((nx, ny))\n",
    "                            n_pos = nx * cols + ny\n",
    "                            if find(n_pos) != find(cur_pos):\n",
    "                                union(cur_pos, n_pos)\n",
    "                return area\n",
    "            \n",
    "            seen = set()\n",
    "            for i in range(rows):\n",
    "                for j in range(cols):\n",
    "                    if grid[i][j] == 1 and (i, j) not in seen:\n",
    "                        seen.add((i, j))\n",
    "                        # 每个节点对应的 island 的面积\n",
    "                        island_area[find(i * cols + j)] = helper(i, j)\n",
    "            return \n",
    "        \n",
    "        def get_ocean():\n",
    "            # 获取海洋的位置，以及每个海洋链接了哪些大陆的父节点\n",
    "            nonlocal no_island\n",
    "            def helper(x, y):\n",
    "                stack = [(x, y)]\n",
    "                cur_pos = x * cols + y\n",
    "                while stack:\n",
    "                    x, y = stack.pop()\n",
    "                    for nx, ny in (x+1, y), (x-1, y), (x, y+1), (x, y-1):\n",
    "                        if nx < 0 or nx >= rows or ny < 0 or ny >= cols:\n",
    "                            continue\n",
    "                        if grid[nx][ny] == 1 and (nx, ny) not in visited:\n",
    "                            visited.add((nx, ny))\n",
    "                            stack.append((nx, ny))\n",
    "                        elif grid[nx][ny] == 0:\n",
    "                            # 当前的海洋连接陆地的祖父节点为：find(cur_pos)\n",
    "                            ocean[(nx, ny)].add(find(cur_pos))\n",
    "            visited = set()\n",
    "            ocean = defaultdict(set) # 首先陆地周围的海洋更有可能连同更大的面积，孤岛则只可能有一个面积\n",
    "            for i in range(rows):\n",
    "                for j in range(cols):\n",
    "                    if grid[i][j] == 1 and (i, j) not in visited:\n",
    "                        no_island = False\n",
    "                        visited.add((i, j))\n",
    "                        helper(i, j)\n",
    "            return ocean\n",
    "        \n",
    "        rows, cols = len(grid), len(grid[0])\n",
    "        father = [x for x in range(rows * cols)]\n",
    "        island_area = {}\n",
    "        get_area() # 获取每片island的区域，并定义一个父节点\n",
    "        \n",
    "        # 获取海洋位置\n",
    "        no_island = True # 只有海洋没有陆地\n",
    "        ocean = get_ocean()\n",
    "        if not ocean:\n",
    "            if no_island: # 只有海洋，那么只能最大只能为 1\n",
    "                return 1\n",
    "            else: # 或者都是陆地\n",
    "                return rows * cols \n",
    "            \n",
    "        res = -float('inf')\n",
    "        for k, v in ocean.items():\n",
    "            areas = [island_area[a] for a in v]\n",
    "            res = max(res, sum(areas) + 1)\n",
    "        return res"
   ]
  },
  {
   "cell_type": "code",
   "execution_count": 13,
   "metadata": {},
   "outputs": [
    {
     "name": "stdout",
     "output_type": "stream",
     "text": [
      "{46: 15, 21: 1, 23: 1}\n"
     ]
    },
    {
     "data": {
      "text/plain": [
       "18"
      ]
     },
     "execution_count": 13,
     "metadata": {},
     "output_type": "execute_result"
    }
   ],
   "source": [
    "solution = Solution()\n",
    "solution.largestIsland([[0,0,0,0,0,0,0],\n",
    "                        [0,1,1,1,1,0,0],\n",
    "                        [0,1,0,0,1,0,0],\n",
    "                        [1,0,1,0,1,0,0],\n",
    "                        [0,1,0,0,1,0,0],\n",
    "                        [0,1,0,0,1,0,0],\n",
    "                        [0,1,1,1,1,0,0]])"
   ]
  },
  {
   "cell_type": "markdown",
   "metadata": {},
   "source": [
    "## V2"
   ]
  },
  {
   "cell_type": "code",
   "execution_count": 19,
   "metadata": {},
   "outputs": [],
   "source": []
  },
  {
   "cell_type": "code",
   "execution_count": 20,
   "metadata": {},
   "outputs": [
    {
     "name": "stdout",
     "output_type": "stream",
     "text": [
      "defaultdict(<class 'int'>, {(0, 1): 15, (1, 0): 15, (2, 2): 31, (0, 2): 15, (2, 3): 30, (0, 3): 15, (0, 4): 15, (1, 5): 15, (2, 5): 15, (3, 5): 15, (3, 3): 16, (4, 5): 15, (4, 3): 15, (5, 5): 15, (5, 3): 30, (6, 5): 15, (5, 2): 30, (6, 0): 15, (5, 0): 15, (3, 1): 32, (4, 2): 16, (4, 0): 16, (2, 0): 16})\n"
     ]
    }
   ],
   "source": [
    "solution = Solution()\n",
    "solution.largestIsland([[0,0,0,0,0,0,0],\n",
    "                        [0,1,1,1,1,0,0],\n",
    "                        [0,1,0,0,1,0,0],\n",
    "                        [1,0,1,0,1,0,0],\n",
    "                        [0,1,0,0,1,0,0],\n",
    "                        [0,1,0,0,1,0,0],\n",
    "                        [0,1,1,1,1,0,0]])"
   ]
  },
  {
   "cell_type": "code",
   "execution_count": null,
   "metadata": {},
   "outputs": [],
   "source": []
  }
 ],
 "metadata": {
  "kernelspec": {
   "display_name": "Python 3",
   "language": "python",
   "name": "python3"
  },
  "language_info": {
   "codemirror_mode": {
    "name": "ipython",
    "version": 3
   },
   "file_extension": ".py",
   "mimetype": "text/x-python",
   "name": "python",
   "nbconvert_exporter": "python",
   "pygments_lexer": "ipython3",
   "version": "3.6.2"
  }
 },
 "nbformat": 4,
 "nbformat_minor": 4
}
