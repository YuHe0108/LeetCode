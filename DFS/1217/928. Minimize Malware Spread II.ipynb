{
 "cells": [
  {
   "cell_type": "code",
   "execution_count": null,
   "metadata": {},
   "outputs": [],
   "source": [
    "from collections import defaultdict\n",
    "\n",
    "class Solution:\n",
    "    def minMalwareSpread(self, graph, initial):\n",
    "        def find(x, father):\n",
    "            if father[x] != x:\n",
    "                father[x] = find(father[x], father)\n",
    "            return father[x]\n",
    "        \n",
    "        def union(x, y, father):\n",
    "            x, y = find(x, father), find(y, father)\n",
    "            if x > y:\n",
    "                father[x] = y\n",
    "            else:\n",
    "                father[y] = x\n",
    "            return father\n",
    "        \n",
    "        def spread(delete = None): # 需要删除的节点\n",
    "            # 一开始被感染的节点为 len(initial)\n",
    "            head = None # 把 head 节点的 祖先视为公共祖先\n",
    "            for i in range(k):\n",
    "                if initial[i] != delete:\n",
    "                    head = initial[i]\n",
    "                    break\n",
    "            if head is None: # 如果没有head节点，说明所有的点都没有感染\n",
    "                return 0\n",
    "            \n",
    "            father = [x for x in range(n)] # 每个人初始化自己为自己的祖先\n",
    "            seen = set()\n",
    "            stack = initial[::]\n",
    "            while stack:\n",
    "                bad = stack.pop()\n",
    "                if bad == delete:\n",
    "                    continue\n",
    "                seen.add(bad)\n",
    "                father = union(head, bad, father)\n",
    "                for neb in info[bad]:\n",
    "                    if neb in seen:\n",
    "                        continue\n",
    "                    stack.append(neb)\n",
    "            cnt = 0\n",
    "            for f in father:\n",
    "                if find(f, father) == find(head, father):\n",
    "                    cnt += 1\n",
    "            return cnt\n",
    "                \n",
    "        k = len(initial) # 初始感染病毒的数量\n",
    "        n = len(graph)\n",
    "        info = defaultdict(list)\n",
    "        for i in range(n):\n",
    "            for j in range(i, n):\n",
    "                if i == j:\n",
    "                    continue\n",
    "                if graph[i][j] == 1:\n",
    "                    info[i].append(j)\n",
    "                    info[j].append(i)\n",
    "                    \n",
    "        min_nums = spread(None) # 一开始不删除任意一个初始化节点, 最多感染病毒的数量\n",
    "        ans = float('inf')\n",
    "        for node in initial: # 任意删除一个初始化节点\n",
    "            res = spread(node)\n",
    "            if res < min_nums:\n",
    "                min_nums = res\n",
    "                ans = node\n",
    "            elif res == min_nums:\n",
    "                ans = min(ans, node)\n",
    "        return ans"
   ]
  },
  {
   "cell_type": "code",
   "execution_count": null,
   "metadata": {},
   "outputs": [],
   "source": []
  },
  {
   "cell_type": "code",
   "execution_count": 1,
   "metadata": {},
   "outputs": [],
   "source": [
    "class Solution:\n",
    "    def minMalwareSpread(self, graph, initial):\n",
    "        pass"
   ]
  },
  {
   "cell_type": "code",
   "execution_count": 2,
   "metadata": {},
   "outputs": [],
   "source": [
    "solution = Solution()\n",
    "solution.minMalwareSpread(graph = [[1,1,0],[1,1,1],[0,1,1]], initial = [0,1])"
   ]
  },
  {
   "cell_type": "code",
   "execution_count": null,
   "metadata": {},
   "outputs": [],
   "source": [
    "[[1,1,0],\n",
    " [1,1,0],\n",
    " [0,0,1]]"
   ]
  }
 ],
 "metadata": {
  "kernelspec": {
   "display_name": "Python 3",
   "language": "python",
   "name": "python3"
  },
  "language_info": {
   "codemirror_mode": {
    "name": "ipython",
    "version": 3
   },
   "file_extension": ".py",
   "mimetype": "text/x-python",
   "name": "python",
   "nbconvert_exporter": "python",
   "pygments_lexer": "ipython3",
   "version": "3.6.2"
  }
 },
 "nbformat": 4,
 "nbformat_minor": 4
}
