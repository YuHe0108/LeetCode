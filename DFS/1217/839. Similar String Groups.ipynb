{
 "cells": [
  {
   "cell_type": "raw",
   "metadata": {},
   "source": [
    "    第一种是遍历字符串两两组合，然后比对字符串，如果不同的字符仅为2个，就用并查集把这两个串的所属集合连起来，\n",
    "    时间复杂度为O({N}^{2}M)O(N2M)，其中NN为串的数量，MM为串的长度。\n",
    "\n",
    "    第二种是遍历每个字符串的两个位置生成通配串，然后存进数组匹配字典，如果两个串属于同一个通配串，就把两个串可以相连记录起来，最后遍历关系用并查集可得到答案，时间复杂度为O(N{M}^{2})O(NM \n",
    "    2\n",
    "     )。\n",
    "\n",
    "    其他语言大多用的是第一种算法，而python这种慢语言，单纯用任何一种都过不了，用第一种只能过3030个数据左右，用第二种只能过4545个数据左右，所以必须两者结合才能通过线上判定。\n",
    "\n",
    "    当NN比较小的时候，选择前者，反之选择后者，最后都是并查集连接。\n",
    "\n",
    "作者：tuotuoli\n",
    "链接：https://leetcode-cn.com/problems/similar-string-groups/solution/839-xiang-si-zi-fu-chuan-zu-pythontai-man-liao-bao/\n",
    "来源：力扣（LeetCode）\n",
    "著作权归作者所有。商业转载请联系作者获得授权，非商业转载请注明出处。"
   ]
  },
  {
   "cell_type": "code",
   "execution_count": null,
   "metadata": {},
   "outputs": [],
   "source": []
  },
  {
   "cell_type": "code",
   "execution_count": 21,
   "metadata": {},
   "outputs": [],
   "source": [
    "class Solution:\n",
    "    def numSimilarGroups(self, strs):\n",
    "        def find(x):\n",
    "            if father[x] != x:\n",
    "                father[x] = find(father[x])\n",
    "            return father[x]\n",
    "        \n",
    "        def union(x, y):\n",
    "            x = find(x)\n",
    "            y = find(y)\n",
    "            if x > y:\n",
    "                father[x] = y\n",
    "            else:\n",
    "                father[y] = x\n",
    "        \n",
    "        \n",
    "        n = len(strs)\n",
    "        possible = [] # 每个单词交换任意两个字符，所有的可能\n",
    "        for i in range(n):\n",
    "            poss = {strs[i]}\n",
    "            n_s = len(strs[i])\n",
    "            for j in range(n_s):\n",
    "                for k in range(j + 1, n_s):\n",
    "                    s = list(strs[i])\n",
    "                    s[j], s[k] = s[k], s[j]\n",
    "                    poss.add(''.join(s))\n",
    "            possible.append(poss)\n",
    "\n",
    "        father = [x for x in range(n)] # 初始化的时候，每个人是自己的祖先\n",
    "        for i in range(n):\n",
    "            for j in range(i+1, n):\n",
    "                # 检验两个 str 是否通过交换两个字符就可以实现相等，如果是的话就是一个grroup\n",
    "                if strs[j] in possible[i]:\n",
    "                    union(i, j)\n",
    "        cnt = set()\n",
    "        for x in father: # 招一共右多少个祖先\n",
    "            cnt.add(find(x))\n",
    "        return len(cnt)"
   ]
  },
  {
   "cell_type": "code",
   "execution_count": 28,
   "metadata": {},
   "outputs": [],
   "source": [
    "class Solution:\n",
    "    def numSimilarGroups(self, strs):\n",
    "        def find(x):\n",
    "            if father[x] != x:\n",
    "                father[x] = find(father[x])\n",
    "            return father[x]\n",
    "        \n",
    "        def union(x, y):\n",
    "            x = find(x)\n",
    "            y = find(y)\n",
    "            if x > y:\n",
    "                father[x] = y\n",
    "            else:\n",
    "                father[y] = x\n",
    "        \n",
    "        def is_valid(a, b): # 检验 a交换任意两个字符，是否可以等于b\n",
    "            n_a = len(a)\n",
    "            for j in range(n_a):\n",
    "                for k in range(j + 1, n_a):\n",
    "                    s = list(a)\n",
    "                    s[j], s[k] = s[k], s[j] \n",
    "                    if ''.join(s) == b:\n",
    "                        return True\n",
    "            return False\n",
    "        \n",
    "        n = len(strs)\n",
    "        father = [x for x in range(n)] # 初始化的时候，每个人是自己的祖先\n",
    "        for i in range(n):\n",
    "            for j in range(i+1, n):\n",
    "                # 检验两个 str 是否通过交换两个字符就可以实现相等，如果是的话就是一个grroup\n",
    "                if is_valid(strs[j], strs[i]):\n",
    "                    union(i, j)\n",
    "        cnt = set()\n",
    "        for x in father: # 招一共右多少个祖先\n",
    "            cnt.add(find(x))\n",
    "        return len(cnt)"
   ]
  },
  {
   "cell_type": "code",
   "execution_count": 39,
   "metadata": {},
   "outputs": [],
   "source": [
    "class Solution:\n",
    "    def numSimilarGroups(self, strs):\n",
    "        def find(x):\n",
    "            if father[x] != x:\n",
    "                father[x] = find(father[x])\n",
    "            return father[x]\n",
    "        \n",
    "        def union(x, y):\n",
    "            x = find(x)\n",
    "            y = find(y)\n",
    "            if x > y:\n",
    "                father[x] = y\n",
    "            else:\n",
    "                father[y] = x\n",
    "        \n",
    "        def is_valid(a, b): # 检验 a交换任意两个字符，是否可以等于b\n",
    "            diff = 0\n",
    "            for i in range(len(a)):\n",
    "                if a[i] != b[i]:\n",
    "                    diff += 1\n",
    "                    if diff > 2: \n",
    "                        return False\n",
    "            return True\n",
    "        \n",
    "        n = len(strs)\n",
    "        father = [x for x in range(n)] # 初始化的时候，每个人是自己的祖先\n",
    "        for i in range(n):\n",
    "            for j in range(i+1, n):\n",
    "                # 检验两个 str 是否通过交换两个字符就可以实现相等，如果是的话就是一个grroup\n",
    "                if is_valid(strs[j], strs[i]):\n",
    "                    union(i, j)\n",
    "        cnt = set()\n",
    "        for x in father: # 招一共右多少个祖先\n",
    "            cnt.add(find(x))\n",
    "        return len(cnt)"
   ]
  },
  {
   "cell_type": "code",
   "execution_count": 40,
   "metadata": {},
   "outputs": [
    {
     "data": {
      "text/plain": [
       "2"
      ]
     },
     "execution_count": 40,
     "metadata": {},
     "output_type": "execute_result"
    }
   ],
   "source": [
    "solution = Solution()\n",
    "solution.numSimilarGroups([\"tars\",\"rats\",\"arts\",\"star\"])"
   ]
  },
  {
   "cell_type": "code",
   "execution_count": 37,
   "metadata": {},
   "outputs": [],
   "source": [
    "class Solution:\n",
    "    def numSimilarGroups(self, strs) -> int:\n",
    "        def similar(s1, s2, n):\n",
    "            diff = 0\n",
    "            for i in range(n):\n",
    "                if s1[i] != s2[i]:\n",
    "                    diff += 1\n",
    "                    if diff > 2: \n",
    "                        return False\n",
    "            return True\n",
    "\n",
    "        def replace(groups, to, last):\n",
    "            s, t = groups[last], groups[to]\n",
    "            for i in range(last + 1):\n",
    "                if groups[i] == s: \n",
    "                    groups[i] = t\n",
    "        \n",
    "        arr_len = len(strs)\n",
    "        str_len = len(strs[0])\n",
    "        groups = list(range(arr_len))\n",
    "        for i in range(arr_len):\n",
    "            for j in range(i):\n",
    "                if similar(strs[i], strs[j], str_len):\n",
    "                    replace(groups, j, i)\n",
    "        return len(set(groups))"
   ]
  },
  {
   "cell_type": "code",
   "execution_count": 38,
   "metadata": {},
   "outputs": [
    {
     "data": {
      "text/plain": [
       "2"
      ]
     },
     "execution_count": 38,
     "metadata": {},
     "output_type": "execute_result"
    }
   ],
   "source": [
    "solution = Solution()\n",
    "solution.numSimilarGroups([\"tars\",\"rats\",\"arts\",\"star\"])"
   ]
  },
  {
   "cell_type": "code",
   "execution_count": null,
   "metadata": {},
   "outputs": [],
   "source": []
  },
  {
   "cell_type": "code",
   "execution_count": null,
   "metadata": {},
   "outputs": [],
   "source": []
  },
  {
   "cell_type": "code",
   "execution_count": null,
   "metadata": {},
   "outputs": [],
   "source": []
  },
  {
   "cell_type": "code",
   "execution_count": null,
   "metadata": {},
   "outputs": [],
   "source": [
    "class Solution:\n",
    "    def numSimilarGroups(self, strs):\n",
    "        def find(x):\n",
    "            if father[x] != x:\n",
    "                father[x] = find(father[x])\n",
    "            return father[x]\n",
    "        \n",
    "        def union(x, y):\n",
    "            x = find(x)\n",
    "            y = find(y)\n",
    "            if x > y:\n",
    "                father[x] = y\n",
    "            else:\n",
    "                father[y] = x\n",
    "        \n",
    "        def is_valid(a, b): # 检验 a交换任意两个字符，是否可以等于b\n",
    "            diff = 0\n",
    "            for i in range(len(a)):\n",
    "                if a[i] != b[i]:\n",
    "                    diff += 1\n",
    "                    if diff > 2: \n",
    "                        return False\n",
    "            return True\n",
    "        \n",
    "        n = len(strs)\n",
    "        father = [x for x in range(n)] # 初始化的时候，每个人是自己的祖先\n",
    "        for i in range(n):\n",
    "            for j in range(i+1, n):\n",
    "                if find(i) == find(j):\n",
    "                    continue\n",
    "                if is_valid(strs[j], strs[i]):\n",
    "                    union(i, j)\n",
    "        cnt = set()\n",
    "        for x in father: # 招一共右多少个祖先\n",
    "            cnt.add(find(x))\n",
    "        return len(cnt)"
   ]
  }
 ],
 "metadata": {
  "kernelspec": {
   "display_name": "Python 3",
   "language": "python",
   "name": "python3"
  },
  "language_info": {
   "codemirror_mode": {
    "name": "ipython",
    "version": 3
   },
   "file_extension": ".py",
   "mimetype": "text/x-python",
   "name": "python",
   "nbconvert_exporter": "python",
   "pygments_lexer": "ipython3",
   "version": "3.6.2"
  }
 },
 "nbformat": 4,
 "nbformat_minor": 4
}
