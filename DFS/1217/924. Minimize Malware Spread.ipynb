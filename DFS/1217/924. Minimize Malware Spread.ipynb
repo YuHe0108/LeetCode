{
 "cells": [
  {
   "cell_type": "code",
   "execution_count": null,
   "metadata": {},
   "outputs": [],
   "source": []
  },
  {
   "cell_type": "code",
   "execution_count": null,
   "metadata": {},
   "outputs": [],
   "source": []
  },
  {
   "cell_type": "code",
   "execution_count": 177,
   "metadata": {},
   "outputs": [],
   "source": [
    "from collections import defaultdict\n",
    "\n",
    "class Solution:\n",
    "    def minMalwareSpread(self, graph, initial):\n",
    "        def find(x, father):\n",
    "            if father[x] != x:\n",
    "                father[x] = find(father[x], father)\n",
    "            return father[x]\n",
    "        \n",
    "        def union(x, y, father):\n",
    "            x, y = find(x, father), find(y, father)\n",
    "            if x > y:\n",
    "                father[x] = y\n",
    "            else:\n",
    "                father[y] = x\n",
    "            return father\n",
    "        \n",
    "        def spread(delete = None): # 需要删除的节点\n",
    "            # 一开始被感染的节点为 len(initial)\n",
    "            head = None # 把 head 节点的 祖先视为公共祖先\n",
    "            for i in range(k):\n",
    "                if initial[i] != delete:\n",
    "                    head = initial[i]\n",
    "                    break\n",
    "            if head is None: # 如果没有head节点，说明所有的点都没有感染\n",
    "                return 0\n",
    "            \n",
    "            father = [x for x in range(n)] # 每个人初始化自己为自己的祖先\n",
    "            seen = set()\n",
    "            stack = initial[::]\n",
    "            first = False # 第一次的时候，删除的节点不能加入，但是第二次的时候，作为被传播对象，可以被传播\n",
    "            while stack:\n",
    "                bad = stack.pop()\n",
    "                if bad == delete and first is False:\n",
    "                    first = True\n",
    "                    continue\n",
    "                seen.add(bad)\n",
    "                father = union(head, bad, father)\n",
    "                for neb in info[bad]:\n",
    "                    if neb in seen:\n",
    "                        continue\n",
    "                    stack.append(neb)\n",
    "            \n",
    "            cnt = 0\n",
    "            for f in father:\n",
    "                if find(f, father) == find(head, father):\n",
    "                    cnt += 1\n",
    "            return cnt\n",
    "                \n",
    "        k = len(initial) # 初始感染病毒的数量\n",
    "        n = len(graph)\n",
    "        info = defaultdict(list)\n",
    "        for i in range(n):\n",
    "            for j in range(i, n):\n",
    "                if i == j:\n",
    "                    continue\n",
    "                if graph[i][j] == 1:\n",
    "                    info[i].append(j)\n",
    "                    info[j].append(i)\n",
    "                    \n",
    "        min_nums = spread(None) # 一开始不删除任意一个初始化节点, 最多感染病毒的数量\n",
    "        ans = float('inf')\n",
    "        for node in initial: # 任意删除一个初始化节点\n",
    "            res = spread(node)\n",
    "            if res < min_nums:\n",
    "                min_nums = res\n",
    "                ans = node\n",
    "            elif res == min_nums:\n",
    "                ans = min(ans, node)\n",
    "        return ans"
   ]
  },
  {
   "cell_type": "code",
   "execution_count": 178,
   "metadata": {},
   "outputs": [
    {
     "data": {
      "text/plain": [
       "2"
      ]
     },
     "execution_count": 178,
     "metadata": {},
     "output_type": "execute_result"
    }
   ],
   "source": [
    "solution = Solution()\n",
    "solution.minMalwareSpread([[1,1,0],\n",
    "                           [1,1,0],\n",
    "                           [0,0,1]],[0,1,2])"
   ]
  },
  {
   "cell_type": "markdown",
   "metadata": {},
   "source": [
    "### 思路2："
   ]
  },
  {
   "cell_type": "code",
   "execution_count": 250,
   "metadata": {},
   "outputs": [],
   "source": [
    "from collections import defaultdict\n",
    "\n",
    "class Solution:\n",
    "    def minMalwareSpread(self, graph, initial):\n",
    "        def find(x):\n",
    "            if father[x] != x:\n",
    "                father[x] = find(father[x])\n",
    "            return father[x]\n",
    "        \n",
    "        def union(x, y):\n",
    "            x, y = find(x), find(y)\n",
    "            if x > y:\n",
    "                father[x] = y\n",
    "            else:\n",
    "                father[y] = x\n",
    "        \n",
    "#         def check(vals):\n",
    "#             dif = 0\n",
    "#             for v in vals:\n",
    "#                 if v in initial_set:\n",
    "#                     dif += 1\n",
    "#                     if dif > 1:\n",
    "#                         return False\n",
    "#             return True\n",
    "            \n",
    "        n = len(graph)\n",
    "        father = [x for x in range(n)]\n",
    "        for i in range(n):\n",
    "            for j in range(i, n):\n",
    "                if i != j and find(i) != find(j) and graph[i][j] == 1:\n",
    "                    union(i, j)\n",
    "                    \n",
    "        # 每个union下面包含哪些initial 的节点，如果包含的节点含有两个以上的 initial，那么即使删除一个，另外一个还是会被感染\n",
    "        initial_set = set(initial)\n",
    "        union_size = defaultdict(int) # 包含了 有多少个独立的 union\n",
    "        for i in range(n):\n",
    "            union_size[find(i)] += 1\n",
    "            \n",
    "        union_initial = defaultdict(list)\n",
    "        for i in initial_set: # 只包含 initial element 的 union size\n",
    "            union_initial[find(i)].append(i)\n",
    "            \n",
    "        max_size, min_ans = -float('inf'), float('inf')\n",
    "        for k, v in union_initial.items():\n",
    "            if len(v) == 1:\n",
    "                element = v[0] # 只有一个 initial 元素\n",
    "                ele_father = find(element)\n",
    "                if union_size[ele_father] > max_size:\n",
    "                    max_size = union_size[ele_father]\n",
    "                    min_ans = element\n",
    "                elif union_size[ele_father] == max_size:\n",
    "                    min_ans = min(min_ans, element)\n",
    "        return min_ans if min_ans != float('inf') else min(initial)\n",
    "        \n",
    "#         min_ans, max_nums = float('inf'), -float('inf')\n",
    "#         for k, v in union_map.items():\n",
    "#             if check(v) is False:\n",
    "#                 continue\n",
    "#             if len(v) > max_nums: # 免受感染的最大数量\n",
    "#                 for k in v:\n",
    "#                     if k in initial_set:\n",
    "#                         min_ans = k\n",
    "#                 max_nums = len(v)\n",
    "#             elif len(v) == max_nums:\n",
    "#                 for k in v:\n",
    "#                     if k in initial_set:\n",
    "#                         min_ans = min(min_ans, k)\n",
    "#         return min_ans if min_ans != float('inf') else min(initial)"
   ]
  },
  {
   "cell_type": "code",
   "execution_count": 251,
   "metadata": {},
   "outputs": [
    {
     "data": {
      "text/plain": [
       "4"
      ]
     },
     "execution_count": 251,
     "metadata": {},
     "output_type": "execute_result"
    }
   ],
   "source": [
    "solution = Solution()\n",
    "solution.minMalwareSpread([[1,0,0,0,0,0],\n",
    "                           [0,1,0,0,0,0],\n",
    "                           [0,0,1,0,1,0],\n",
    "                           [0,0,0,1,0,0],\n",
    "                           [0,0,1,0,1,0],\n",
    "                           [0,0,0,0,0,1]],[4,3])"
   ]
  },
  {
   "cell_type": "code",
   "execution_count": null,
   "metadata": {},
   "outputs": [],
   "source": []
  },
  {
   "cell_type": "code",
   "execution_count": null,
   "metadata": {},
   "outputs": [],
   "source": []
  },
  {
   "cell_type": "code",
   "execution_count": null,
   "metadata": {},
   "outputs": [],
   "source": []
  },
  {
   "cell_type": "code",
   "execution_count": null,
   "metadata": {},
   "outputs": [],
   "source": []
  },
  {
   "cell_type": "raw",
   "metadata": {},
   "source": [
    "   a b c\n",
    "a [1,1,0]\n",
    "b [1,1,0]\n",
    "c [0,0,1]\n",
    "  这个图表示了，a 可以和 b相连，同理，b也可以和a相连"
   ]
  },
  {
   "cell_type": "raw",
   "metadata": {},
   "source": [
    " 这个例子中，每个节点只和自己相连，所以去掉任意一个都没有影响 \n",
    " [1,0,0]\n",
    " [0,1,0]\n",
    " [0,0,1]  [0,2]\n",
    " \n",
    " [1,1,1],\n",
    " [1,1,1],\n",
    " [1,1,1]"
   ]
  },
  {
   "cell_type": "code",
   "execution_count": null,
   "metadata": {},
   "outputs": [],
   "source": []
  }
 ],
 "metadata": {
  "kernelspec": {
   "display_name": "Python 3",
   "language": "python",
   "name": "python3"
  },
  "language_info": {
   "codemirror_mode": {
    "name": "ipython",
    "version": 3
   },
   "file_extension": ".py",
   "mimetype": "text/x-python",
   "name": "python",
   "nbconvert_exporter": "python",
   "pygments_lexer": "ipython3",
   "version": "3.6.2"
  }
 },
 "nbformat": 4,
 "nbformat_minor": 4
}
