{
 "cells": [
  {
   "cell_type": "raw",
   "metadata": {},
   "source": [
    "    在给定的二维二进制数组 A 中，存在两座岛。（岛是由四面相连的 1 形成的一个最大组。）\n",
    "    现在，我们可以将 0 变为 1，以使两座岛连接起来，变成一座岛。\n",
    "    返回必须翻转的 0 的最小数目。（可以保证答案至少是 1。）\n",
    "\n",
    "示例 1：\n",
    "    输入：[[0,1],[1,0]]\n",
    "    输出：1\n",
    "\n",
    "示例 2：\n",
    "    输入：[[0,1,0],[0,0,0],[0,0,1]]\n",
    "    输出：2\n",
    "\n",
    "示例 3：\n",
    "    输入：[[1,1,1,1,1],[1,0,0,0,1],[1,0,1,0,1],[1,0,0,0,1],[1,1,1,1,1]]\n",
    "    输出：1\n",
    " \n",
    "\n",
    "提示：\n",
    "    1 <= A.length = A[0].length <= 100\n",
    "    A[i][j] == 0 或 A[i][j] == 1"
   ]
  },
  {
   "cell_type": "code",
   "execution_count": null,
   "metadata": {},
   "outputs": [],
   "source": [
    "from collections import deque\n",
    "\n",
    "# DFS + BFS\n",
    "class Solution:\n",
    "    def shortestBridge(self, A) -> int:\n",
    "        rows, cols = len(A), len(A[0])\n",
    "        queue = deque([])\n",
    "        seen = set()\n",
    "        for i in range(rows):\n",
    "            for j in range(cols):\n",
    "                if A[i][j] == 1: # DFS\n",
    "                    queue.append((i, j))\n",
    "                    seen.add((i, j))\n",
    "                    while queue:\n",
    "                        r, c = queue.pop()\n",
    "                        for nr, nc in (r+1, c), (r-1, c), (r, c+1), (r, c-1):\n",
    "                            if (nr, nc) in seen:\n",
    "                                continue\n",
    "                            if 0 <= nr < rows and 0 <= nc < cols and A[nr][nc] == 1:\n",
    "                                queue.append((nr, nc))\n",
    "                                seen.add((nr, nc))\n",
    "                    \n",
    "                    queue = deque(seen)\n",
    "                    dis = 0\n",
    "                    while queue:\n",
    "                        for _ in range(len(queue)):\n",
    "                            r, c = queue.popleft()\n",
    "                            for nr, nc in (r+1, c), (r-1, c), (r, c+1), (r, c-1):\n",
    "                                if (nr, nc) in seen:\n",
    "                                    continue\n",
    "                                if 0 <= nr < rows and 0 <= nc < cols:\n",
    "                                    if A[nr][nc] == 1:\n",
    "                                        return dis\n",
    "                                    queue.append((nr, nc))\n",
    "                                    seen.add((nr, nc))\n",
    "                        dis += 1"
   ]
  },
  {
   "cell_type": "code",
   "execution_count": null,
   "metadata": {},
   "outputs": [],
   "source": []
  },
  {
   "cell_type": "code",
   "execution_count": null,
   "metadata": {},
   "outputs": [],
   "source": []
  },
  {
   "cell_type": "code",
   "execution_count": null,
   "metadata": {},
   "outputs": [],
   "source": []
  },
  {
   "cell_type": "code",
   "execution_count": null,
   "metadata": {},
   "outputs": [],
   "source": []
  },
  {
   "cell_type": "code",
   "execution_count": null,
   "metadata": {},
   "outputs": [],
   "source": []
  },
  {
   "cell_type": "code",
   "execution_count": null,
   "metadata": {},
   "outputs": [],
   "source": []
  },
  {
   "cell_type": "code",
   "execution_count": null,
   "metadata": {},
   "outputs": [],
   "source": []
  },
  {
   "cell_type": "code",
   "execution_count": 71,
   "metadata": {},
   "outputs": [],
   "source": [
    "# 超时\n",
    "from collections import deque\n",
    "\n",
    "class Solution:\n",
    "    def shortestBridge(self, A) -> int:\n",
    "        rows, cols = len(A), len(A[0])\n",
    "        stack = []\n",
    "        cur_one = 0\n",
    "        for r in range(rows):\n",
    "            if cur_one == 1:\n",
    "                break\n",
    "            for c in range(cols):\n",
    "                if cur_one == 1:\n",
    "                    break\n",
    "                if A[r][c] == 1 and cur_one == 0: # 碰到第一个 ‘1’ 的时候，将周围的1全部变为2，之后在找到 1 的时候，寻找 2\n",
    "                    cur_one += 1\n",
    "                    stack.append((r, c))\n",
    "                    A[r][c] = 2\n",
    "                    while stack:\n",
    "                        i, j = stack.pop()\n",
    "                        for ni, nj in (i+1, j), (i-1, j), (i, j-1), (i, j+1):\n",
    "                            if 0 <= ni < rows and 0 <= nj < cols and A[ni][nj] == 1:\n",
    "                                stack.append((ni, nj))\n",
    "                                A[ni][nj] = 2\n",
    "        res = float('inf')\n",
    "        for r in range(rows):\n",
    "            for c in range(cols):\n",
    "                if A[r][c] == 1: # 每遇到一个1进行一次 bfs，并标记为3，表示已经走过\n",
    "                    cnt = -1 # 表示搜索了多少次\n",
    "                    dq = deque([(r, c)]) \n",
    "                    seen = {(r, c)} # 搜索过的地方\n",
    "                    A[r][c] = 3\n",
    "                    can_break = False\n",
    "                    while dq:\n",
    "                        if can_break:\n",
    "                            break\n",
    "                        for _ in range(len(dq)):\n",
    "                            i, j = dq.popleft()\n",
    "                            if A[i][j] == 2:\n",
    "                                res = min(res, cnt)\n",
    "                                can_break = True\n",
    "                            if can_break:\n",
    "                                break\n",
    "                            for ni, nj in (i+1, j), (i-1, j), (i, j+1), (i, j-1):\n",
    "                                if 0 <= ni < rows and 0 <= nj < cols and A[ni][nj] != 1 and (ni, nj) not in seen:\n",
    "                                    dq.append((ni, nj))\n",
    "                                    seen.add((ni, nj))\n",
    "                        cnt += 1\n",
    "        return res if res != float('inf') else 0"
   ]
  },
  {
   "cell_type": "code",
   "execution_count": 82,
   "metadata": {},
   "outputs": [],
   "source": [
    "from collections import deque\n",
    "\n",
    "class Solution:\n",
    "    def shortestBridge(self, A) -> int:\n",
    "        rows, cols = len(A), len(A[0])\n",
    "        res = float('inf')\n",
    "        for r in range(rows):\n",
    "            for c in range(cols):\n",
    "                if A[r][c] == 1:\n",
    "                    seen = {(r, c)}\n",
    "                    for nr, nc in (r+1, c), (r-1, c), (r, c-1), (r, c+1):\n",
    "                        if nr < 0 or nc < 0 or nr >= rows or nc >= cols:\n",
    "                            continue\n",
    "                        if A[nr][nc] == 0:\n",
    "                            print(r, c, nr, nc, A[nr][nc])\n",
    "                            cnt = 0\n",
    "                            dq = deque([(nr, nc)])\n",
    "                            while dq:\n",
    "                                for _ in range(len(dq)):\n",
    "                                    i, j = dq.popleft()\n",
    "                                    if A[i][j] == 1:\n",
    "                                        res = min(res, cnt)\n",
    "                                        break\n",
    "                                    for ni, nj in (i+1, j), (i-1, j), (i, j-1), (i, j+1):\n",
    "                                        if (ni, nj) in seen:\n",
    "                                            continue\n",
    "                                        if 0 <= ni < rows and 0 <= nj < cols and A[ni][nj] == 0:\n",
    "                                            dq.append((ni, nj))\n",
    "                                            seen.add((ni, nj))\n",
    "                                cnt += 1\n",
    "        return res"
   ]
  },
  {
   "cell_type": "code",
   "execution_count": 121,
   "metadata": {},
   "outputs": [],
   "source": [
    "from collections import deque\n",
    "\n",
    "class Solution:\n",
    "    def shortestBridge(self, A) -> int:\n",
    "        rows, cols = len(A), len(A[0])\n",
    "        res = float('inf')\n",
    "        seen = set()\n",
    "        for r in range(rows):\n",
    "            for c in range(cols):\n",
    "                if A[r][c] == 1:\n",
    "                    # 在第一次遍历的过程中，将遍历第一个岛的所有元素，并将其加入到 seen中\n",
    "                    queue = deque([(r, c)])\n",
    "                    seen.add((r, c))\n",
    "                    while queue:\n",
    "                        i, j = queue.pop()\n",
    "                        for ni, nj in (i+1, j), (i-1, j), (i, j-1), (i, j+1):\n",
    "                            if (ni, nj) in seen:\n",
    "                                continue\n",
    "                            if 0 <= ni < rows and 0 <= nj < cols and A[ni][nj] == 1:\n",
    "                                queue.append((ni, nj))\n",
    "                                seen.add((ni, nj))\n",
    "                    \n",
    "                    queue = deque(seen)\n",
    "                    dis = 0\n",
    "                    while queue: # 进行BFS，查找离得岁进的一个\n",
    "                        q_len = len(queue)\n",
    "                        for _ in range(q_len):\n",
    "                            i, j = queue.popleft()\n",
    "                            if A[i][j] == 1 and dis > 0: # 进行第一次循环的时候，所有A[i][j]的值都是1\n",
    "                                return dis - 1\n",
    "                            for ni, nj in (i+1, j), (i-1, j), (i, j-1), (i, j+1):\n",
    "                                if (ni, nj) in seen:\n",
    "                                    continue\n",
    "                                if 0 <= ni < rows and 0 <= nj < cols:\n",
    "                                    queue.append((ni, nj))\n",
    "                                    seen.add((ni, nj))\n",
    "                        dis += 1"
   ]
  },
  {
   "cell_type": "code",
   "execution_count": 123,
   "metadata": {},
   "outputs": [
    {
     "name": "stdout",
     "output_type": "stream",
     "text": [
      "0 0 1 1\n",
      "0 3 5 1\n",
      "0 0 0 1\n",
      "0 5 4 1\n",
      "0 5 5 1\n",
      "0 4 5 1\n",
      "0 3 0 1\n",
      "0 4 0 1\n",
      "0 1 5 1\n",
      "0 2 0 1\n",
      "0 2 5 1\n",
      "0 0 5 1\n",
      "0 5 3 1\n",
      "0 0 4 1\n",
      "0 5 0 1\n",
      "0 5 1 1\n",
      "0 1 0 1\n",
      "0 5 2 1\n",
      "0 0 2 1\n",
      "0 0 3 1\n",
      "1 1 1 0\n",
      "1 3 4 0\n",
      "1 4 4 0\n",
      "1 3 1 0\n",
      "1 4 1 0\n",
      "1 1 4 0\n",
      "1 2 1 0\n",
      "1 2 4 0\n",
      "1 4 3 0\n",
      "1 4 2 0\n",
      "1 1 2 0\n",
      "1 1 3 0\n",
      "2 3 3 1\n"
     ]
    },
    {
     "data": {
      "text/plain": [
       "1"
      ]
     },
     "execution_count": 123,
     "metadata": {},
     "output_type": "execute_result"
    }
   ],
   "source": [
    "solution = Solution()\n",
    "solution.shortestBridge([[1,1,1,1,1,1],\n",
    "                         [1,0,0,0,0,1],\n",
    "                         [1,0,0,0,0,1],\n",
    "                         [1,0,0,1,0,1],\n",
    "                         [1,0,0,0,0,1],\n",
    "                         [1,1,1,1,1,1]])"
   ]
  },
  {
   "cell_type": "code",
   "execution_count": null,
   "metadata": {},
   "outputs": [],
   "source": [
    "{(0, 1), (4, 1), (0, 0), (3, 0), (4, 4), (4, 0), (1, 4), (2, 0), (2, 4), (4, 3), (0, 4), (4, 2), (1, 0), (3, 4), (0, 2), (0, 3)}"
   ]
  },
  {
   "cell_type": "code",
   "execution_count": null,
   "metadata": {},
   "outputs": [],
   "source": []
  },
  {
   "cell_type": "code",
   "execution_count": null,
   "metadata": {},
   "outputs": [],
   "source": []
  },
  {
   "cell_type": "code",
   "execution_count": null,
   "metadata": {},
   "outputs": [],
   "source": []
  },
  {
   "cell_type": "code",
   "execution_count": null,
   "metadata": {},
   "outputs": [],
   "source": []
  },
  {
   "cell_type": "code",
   "execution_count": null,
   "metadata": {},
   "outputs": [],
   "source": []
  },
  {
   "cell_type": "code",
   "execution_count": null,
   "metadata": {},
   "outputs": [],
   "source": []
  },
  {
   "cell_type": "code",
   "execution_count": null,
   "metadata": {},
   "outputs": [],
   "source": []
  },
  {
   "cell_type": "code",
   "execution_count": null,
   "metadata": {},
   "outputs": [],
   "source": [
    "    "
   ]
  },
  {
   "cell_type": "code",
   "execution_count": null,
   "metadata": {},
   "outputs": [],
   "source": [
    "[[2, 2, 2, 2, 2], \n",
    " [2, 0, 0, 0, 2], \n",
    " [2, 0, 1, 0, 2], \n",
    " [2, 0, 0, 0, 2],\n",
    " [2, 2, 2, 2, 2]]\n"
   ]
  },
  {
   "cell_type": "code",
   "execution_count": null,
   "metadata": {},
   "outputs": [],
   "source": [
    "[[1,1,1,1,1],\n",
    " [1,0,0,0,1],\n",
    " [1,0,1,0,1],\n",
    " [1,0,0,0,1],\n",
    " [1,1,1,1,1]]"
   ]
  },
  {
   "cell_type": "code",
   "execution_count": 12,
   "metadata": {},
   "outputs": [
    {
     "name": "stdout",
     "output_type": "stream",
     "text": [
      "0 0\n"
     ]
    }
   ],
   "source": [
    "isok = False\n",
    "for i in range(2):\n",
    "    if isok:\n",
    "        break\n",
    "    for j in range(3):\n",
    "        if j == 1:\n",
    "            isok = True\n",
    "            break\n",
    "        print(i, j)"
   ]
  },
  {
   "cell_type": "code",
   "execution_count": null,
   "metadata": {},
   "outputs": [],
   "source": []
  },
  {
   "cell_type": "code",
   "execution_count": null,
   "metadata": {},
   "outputs": [],
   "source": []
  }
 ],
 "metadata": {
  "kernelspec": {
   "display_name": "Python 3",
   "language": "python",
   "name": "python3"
  },
  "language_info": {
   "codemirror_mode": {
    "name": "ipython",
    "version": 3
   },
   "file_extension": ".py",
   "mimetype": "text/x-python",
   "name": "python",
   "nbconvert_exporter": "python",
   "pygments_lexer": "ipython3",
   "version": "3.6.2"
  }
 },
 "nbformat": 4,
 "nbformat_minor": 4
}
