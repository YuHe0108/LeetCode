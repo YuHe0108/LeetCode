{
 "cells": [
  {
   "cell_type": "raw",
   "metadata": {},
   "source": [
    "    给定一个有 N 个结点的二叉树的根结点 root，树中的每个结点上都对应有 node.val 枚硬币，并且总共有 N 枚硬币。\n",
    "\n",
    "    在一次移动中，我们可以选择两个相邻的结点，然后将一枚硬币从其中一个结点移动到另一个结点。\n",
    "    (移动可以是从父结点到子结点，或者从子结点移动到父结点。)。\n",
    "\n",
    "    返回使每个结点上只有一枚硬币所需的移动次数。"
   ]
  },
  {
   "cell_type": "markdown",
   "metadata": {},
   "source": [
    "<img src='https://assets.leetcode-cn.com/aliyun-lc-upload/uploads/2019/01/19/tree1.png' width=250>  <img src='https://assets.leetcode-cn.com/aliyun-lc-upload/uploads/2019/01/19/tree2.png' width=250>  <img src='https://assets.leetcode-cn.com/aliyun-lc-upload/uploads/2019/01/19/tree3.png' width=250>  <img src='https://assets.leetcode-cn.com/aliyun-lc-upload/uploads/2019/01/19/tree4.png' width=250>"
   ]
  },
  {
   "cell_type": "raw",
   "metadata": {},
   "source": [
    "示例 1：\n",
    "    输入：[3,0,0]\n",
    "    输出：2\n",
    "    解释：从树的根结点开始，我们将一枚硬币移到它的左子结点上，一枚硬币移到它的右子结点上。\n",
    "\n",
    "示例 2：\n",
    "    输入：[0,3,0]\n",
    "    输出：3\n",
    "    解释：从根结点的左子结点开始，我们将两枚硬币移到根结点上 [移动两次]。然后，我们把一枚硬币从根结点移到右子结点上。\n",
    "\n",
    "示例 3：\n",
    "    输入：[1,0,2]\n",
    "    输出：2\n",
    "\n",
    "示例 4：\n",
    "    输入：[1,0,0,null,3]\n",
    "    输出：4\n",
    "\n",
    "提示：\n",
    "    1<= N <= 100\n",
    "    0 <= node.val <= N"
   ]
  },
  {
   "cell_type": "code",
   "execution_count": 1,
   "metadata": {},
   "outputs": [],
   "source": [
    "# Definition for a binary tree node.\n",
    "class TreeNode:\n",
    "    def __init__(self, val=0, left=None, right=None):\n",
    "        self.val = val\n",
    "        self.left = left\n",
    "        self.right = right\n",
    "        \n",
    "\n",
    "class Solution:\n",
    "    def distributeCoins(self, root: TreeNode) -> int:\n",
    "        def dfs(node):\n",
    "            nonlocal cnt\n",
    "            if not node:\n",
    "                return 0\n",
    "            left_coins = dfs(node.left)\n",
    "            right_coins = dfs(node.right)\n",
    "            cnt += abs(left_coins) + abs(right_coins)\n",
    "            # node.val - 1是根节点得到 1 个硬币需要移动的步数\n",
    "            return node.val - 1 + left_coins + right_coins\n",
    "        \n",
    "        cnt = 0\n",
    "        dfs(root)\n",
    "        return cnt     "
   ]
  },
  {
   "cell_type": "code",
   "execution_count": null,
   "metadata": {},
   "outputs": [],
   "source": []
  }
 ],
 "metadata": {
  "kernelspec": {
   "display_name": "Python 3",
   "language": "python",
   "name": "python3"
  },
  "language_info": {
   "codemirror_mode": {
    "name": "ipython",
    "version": 3
   },
   "file_extension": ".py",
   "mimetype": "text/x-python",
   "name": "python",
   "nbconvert_exporter": "python",
   "pygments_lexer": "ipython3",
   "version": "3.6.2"
  }
 },
 "nbformat": 4,
 "nbformat_minor": 4
}
