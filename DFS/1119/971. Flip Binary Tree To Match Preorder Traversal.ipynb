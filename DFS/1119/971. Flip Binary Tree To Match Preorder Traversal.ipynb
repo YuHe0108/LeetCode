{
 "cells": [
  {
   "cell_type": "raw",
   "metadata": {},
   "source": [
    "    给定一个有 N 个节点的二叉树，每个节点都有一个不同于其他节点且处于 {1, ..., N} 中的值。\n",
    "\n",
    "    通过交换节点的左子节点和右子节点，可以翻转该二叉树中的节点。\n",
    "\n",
    "    考虑从根节点开始的先序遍历报告的 N 值序列。将这一 N 值序列称为树的行程。\n",
    "\n",
    "    （回想一下，节点的先序遍历意味着我们报告当前节点的值，然后先序遍历左子节点，再先序遍历右子节点。）\n",
    "\n",
    "    我们的目标是翻转最少的树中节点，以便树的行程与给定的行程 voyage 相匹配。 \n",
    "\n",
    "    如果可以，则返回翻转的所有节点的值的列表。你可以按任何顺序返回答案。\n",
    "\n",
    "    如果不能，则返回列表 [-1]。"
   ]
  },
  {
   "cell_type": "markdown",
   "metadata": {},
   "source": [
    "<img src='https://assets.leetcode-cn.com/aliyun-lc-upload/uploads/2019/01/05/1219-01.png' width=200> <img src='https://assets.leetcode-cn.com/aliyun-lc-upload/uploads/2019/01/05/1219-02.png' width=200> <img src='https://assets.leetcode-cn.com/aliyun-lc-upload/uploads/2019/01/05/1219-02.png' width=200>"
   ]
  },
  {
   "cell_type": "raw",
   "metadata": {},
   "source": [
    "例1：\n",
    "    输入：root = [1,2], voyage = [2,1]\n",
    "    输出：[-1]\n",
    "\n",
    "示例 2：\n",
    "    输入：root = [1,2,3], voyage = [1,3,2]\n",
    "    输出：[1]\n",
    "\n",
    "示例 3：\n",
    "    输入：root = [1,2,3], voyage = [1,2,3]\n",
    "    输出：[]\n",
    " \n",
    "提示：\n",
    "    1 <= N <= 100"
   ]
  },
  {
   "cell_type": "code",
   "execution_count": null,
   "metadata": {},
   "outputs": [],
   "source": []
  }
 ],
 "metadata": {
  "kernelspec": {
   "display_name": "Python 3",
   "language": "python",
   "name": "python3"
  },
  "language_info": {
   "codemirror_mode": {
    "name": "ipython",
    "version": 3
   },
   "file_extension": ".py",
   "mimetype": "text/x-python",
   "name": "python",
   "nbconvert_exporter": "python",
   "pygments_lexer": "ipython3",
   "version": "3.6.2"
  }
 },
 "nbformat": 4,
 "nbformat_minor": 4
}
