{
 "cells": [
  {
   "cell_type": "raw",
   "metadata": {},
   "source": [
    "    给出一个二维数组 A，每个单元格为 0（代表海）或 1（代表陆地）。\n",
    "    移动是指在陆地上从一个地方走到另一个地方（朝四个方向之一）或离开网格的边界。\n",
    "    返回网格中无法在任意次数的移动中离开网格边界的陆地单元格的数量。\n",
    "\n",
    "示例 1：\n",
    "    输入：[[0,0,0,0],[1,0,1,0],[0,1,1,0],[0,0,0,0]]\n",
    "    输出：3\n",
    "    解释： \n",
    "        有三个 1 被 0 包围。一个 1 没有被包围，因为它在边界上。\n",
    "\n",
    "示例 2：\n",
    "    输入：[[0,1,1,0],[0,0,1,0],[0,0,1,0],[0,0,0,0]]\n",
    "    输出：0\n",
    "    解释：所有 1 都在边界上或可以到达边界。\n",
    "\n",
    "提示：\n",
    "    1 <= A.length <= 500\n",
    "    1 <= A[i].length <= 500\n",
    "    0 <= A[i][j] <= 1\n",
    "    所有行的大小都相同"
   ]
  },
  {
   "cell_type": "code",
   "execution_count": 27,
   "metadata": {},
   "outputs": [],
   "source": [
    "class Solution:\n",
    "    def numEnclaves(self, A) -> int:\n",
    "        rows, cols = len(A), len(A[0])\n",
    "        res = 0\n",
    "        stack = []\n",
    "        for r in range(rows):\n",
    "            for c in range(cols):\n",
    "                if A[r][c] == 1:\n",
    "                    stack.append((r, c))\n",
    "                    A[r][c] = 2\n",
    "                    cnt = 1 # 统计出现了多少个 1 (陆地)\n",
    "                    endclave = True # 默认出不去\n",
    "                    while stack:\n",
    "                        i, j = stack.pop()\n",
    "                        if i in {0, rows-1} or j in {0, cols-1}: # 如果能走到边界说明可以出去\n",
    "                            endclave = False\n",
    "                        for ni, nj in (i+1, j), (i-1, j), (i, j+1), (i, j-1):\n",
    "                            if 0 <= ni < rows and 0 <= nj < cols and  A[ni][nj] == 1:\n",
    "                                cnt += 1\n",
    "                                stack.append((ni, nj))\n",
    "                                A[ni][nj] = 2\n",
    "                    if endclave:\n",
    "                        res += cnt\n",
    "        return res"
   ]
  },
  {
   "cell_type": "code",
   "execution_count": 29,
   "metadata": {},
   "outputs": [
    {
     "data": {
      "text/plain": [
       "0"
      ]
     },
     "execution_count": 29,
     "metadata": {},
     "output_type": "execute_result"
    }
   ],
   "source": [
    "solution = Solution()\n",
    "solution.numEnclaves([[0,1,1,0],[0,0,1,0],[0,0,1,0],[0,0,0,0]])"
   ]
  },
  {
   "cell_type": "code",
   "execution_count": null,
   "metadata": {},
   "outputs": [],
   "source": [
    "[[0,0,0,0],\n",
    " [1,0,1,0],\n",
    " [0,1,1,0],\n",
    " [0,0,0,0]]"
   ]
  }
 ],
 "metadata": {
  "kernelspec": {
   "display_name": "Python 3",
   "language": "python",
   "name": "python3"
  },
  "language_info": {
   "codemirror_mode": {
    "name": "ipython",
    "version": 3
   },
   "file_extension": ".py",
   "mimetype": "text/x-python",
   "name": "python",
   "nbconvert_exporter": "python",
   "pygments_lexer": "ipython3",
   "version": "3.6.2"
  }
 },
 "nbformat": 4,
 "nbformat_minor": 4
}
