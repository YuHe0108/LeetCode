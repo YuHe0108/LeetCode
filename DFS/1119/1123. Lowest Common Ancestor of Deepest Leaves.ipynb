{
 "cells": [
  {
   "cell_type": "raw",
   "metadata": {},
   "source": [
    "给你一个有根节点的二叉树，找到它最深的叶节点的最近公共祖先。\n",
    "回想一下：\n",
    "    叶节点 是二叉树中没有子节点的节点\n",
    "    树的根节点的 深度 为 0，如果某一节点的深度为 d，那它的子节点的深度就是 d+1\n",
    "    如果我们假定 A 是一组节点 S 的 最近公共祖先，S 中的每个节点都在以 A 为根节点的子树中，且 A 的深度达到此条件下可能的最大值。"
   ]
  },
  {
   "cell_type": "markdown",
   "metadata": {},
   "source": [
    "<img src='https://s3-lc-upload.s3.amazonaws.com/uploads/2018/07/01/sketch1.png'>"
   ]
  },
  {
   "cell_type": "raw",
   "metadata": {},
   "source": [
    "示例 1：\n",
    "    输入：root = [3,5,1,6,2,0,8,null,null,7,4]\n",
    "    输出：[2,7,4]\n",
    "    解释：\n",
    "        我们返回值为 2 的节点，在图中用黄色标记。\n",
    "        在图中用蓝色标记的是树的最深的节点。\n",
    "        注意，节点 6、0 和 8 也是叶节点，但是它们的深度是 2 ，而节点 7 和 4 的深度是 3 。\n",
    "\n",
    "示例 2：\n",
    "    输入：root = [1]\n",
    "    输出：[1]\n",
    "    解释：根节点是树中最深的节点，它是它本身的最近公共祖先。\n",
    "\n",
    "示例 3：\n",
    "    输入：root = [0,1,3,null,2]\n",
    "    输出：[2]\n",
    "    解释：树中最深的叶节点是 2 ，最近公共祖先是它自己。\n",
    "\n",
    "提示：\n",
    "    给你的树中将有 1 到 1000 个节点。\n",
    "    树中每个节点的值都在 1 到 1000 之间。\n",
    "    每个节点的值都是独一无二的。"
   ]
  },
  {
   "cell_type": "code",
   "execution_count": null,
   "metadata": {},
   "outputs": [],
   "source": [
    "# Definition for a binary tree node.\n",
    "# class TreeNode:\n",
    "#     def __init__(self, val=0, left=None, right=None):\n",
    "#         self.val = val\n",
    "#         self.left = left\n",
    "#         self.right = right\n",
    "class Solution:\n",
    "    def lcaDeepestLeaves(self, root: TreeNode) -> TreeNode:\n",
    "        def dfs(node, level):\n",
    "            nonlocal max_depth, res\n",
    "            max_depth = max(max_depth, level)\n",
    "            \n",
    "            if not node:\n",
    "                return level\n",
    "            left_depth = dfs(node.left, level+1)\n",
    "            right_depth = dfs(node.right, level+1)\n",
    "            \n",
    "            if left_depth == right_depth == max_depth:\n",
    "                res = node\n",
    "            return max(left_depth, right_depth)\n",
    "            \n",
    "        max_depth = 0\n",
    "        res = None\n",
    "        dfs(root, 0)\n",
    "        return res"
   ]
  }
 ],
 "metadata": {
  "kernelspec": {
   "display_name": "Python 3",
   "language": "python",
   "name": "python3"
  },
  "language_info": {
   "codemirror_mode": {
    "name": "ipython",
    "version": 3
   },
   "file_extension": ".py",
   "mimetype": "text/x-python",
   "name": "python",
   "nbconvert_exporter": "python",
   "pygments_lexer": "ipython3",
   "version": "3.6.2"
  }
 },
 "nbformat": 4,
 "nbformat_minor": 4
}
