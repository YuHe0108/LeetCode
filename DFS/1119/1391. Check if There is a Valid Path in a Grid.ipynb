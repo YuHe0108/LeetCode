{
 "cells": [
  {
   "cell_type": "raw",
   "metadata": {},
   "source": [
    "给你一个 m x n 的网格 grid。网格里的每个单元都代表一条街道。grid[i][j] 的街道可以是：\n",
    "    1 表示连接左单元格和右单元格的街道。\n",
    "    2 表示连接上单元格和下单元格的街道。\n",
    "    3 表示连接左单元格和下单元格的街道。\n",
    "    4 表示连接右单元格和下单元格的街道。\n",
    "    5 表示连接左单元格和上单元格的街道。\n",
    "    6 表示连接右单元格和上单元格的街道。"
   ]
  },
  {
   "cell_type": "markdown",
   "metadata": {},
   "source": [
    "<img src='https://assets.leetcode-cn.com/aliyun-lc-upload/uploads/2020/03/21/main.png'>"
   ]
  },
  {
   "cell_type": "raw",
   "metadata": {},
   "source": [
    "    你最开始从左上角的单元格 (0,0) 开始出发，网格中的「有效路径」是指从左上方的单元格 (0,0) 开始、\n",
    "    一直到右下方的 (m-1,n-1) 结束的路径。\n",
    "    该路径必须只沿着街道走。\n",
    "注意：你 不能 变更街道。 如果网格中存在有效的路径，则返回 true，否则返回 false 。"
   ]
  },
  {
   "cell_type": "markdown",
   "metadata": {},
   "source": [
    "<img src='https://assets.leetcode-cn.com/aliyun-lc-upload/uploads/2020/03/21/e1.png'>"
   ]
  },
  {
   "cell_type": "raw",
   "metadata": {},
   "source": [
    "输入：grid = [[2,4,3],[6,5,2]]\n",
    "输出：true\n",
    "解释：如图所示，你可以从 (0, 0) 开始，访问网格中的所有单元格并到达 (m - 1, n - 1) 。"
   ]
  },
  {
   "cell_type": "markdown",
   "metadata": {},
   "source": [
    "<img src='https://assets.leetcode-cn.com/aliyun-lc-upload/uploads/2020/03/21/e2.png'>"
   ]
  },
  {
   "cell_type": "raw",
   "metadata": {},
   "source": [
    "输入：grid = [[1,2,1],[1,2,1]]\n",
    "输出：false\n",
    "解释：如图所示，单元格 (0, 0) 上的街道没有与任何其他单元格上的街道相连，你只会停在 (0, 0) 处。"
   ]
  },
  {
   "cell_type": "raw",
   "metadata": {},
   "source": [
    "示例 3：\n",
    "    输入：grid = [[1,1,2]]\n",
    "    输出：false\n",
    "    解释：你会停在 (0, 1)，而且无法到达 (0, 2) 。\n",
    "\n",
    "示例 4：\n",
    "    输入：grid = [[1,1,1,1,1,1,3]]\n",
    "    输出：true\n",
    "\n",
    "示例 5：\n",
    "    输入：grid = [[2],[2],[2],[2],[2],[2],[6]]\n",
    "    输出：true\n",
    "\n",
    "提示：\n",
    "    m == grid.length\n",
    "    n == grid[i].length\n",
    "    1 <= m, n <= 300\n",
    "    1 <= grid[i][j] <= 6"
   ]
  },
  {
   "cell_type": "code",
   "execution_count": 20,
   "metadata": {},
   "outputs": [],
   "source": [
    "class Solution:\n",
    "    def hasValidPath(self, grid) -> bool:\n",
    "        rows, cols = len(grid), len(grid[0])\n",
    "        dirs = {1: [(0, -1), (0, 1)], 2: [(-1, 0), (1, 0)], 3: [(0, -1), (1, 0)], \n",
    "                4: [(1, 0), (0, 1)], 5: [(0, -1), (-1, 0)], 6: [(-1, 0), (0, 1)]}\n",
    "        connect = {1: [{1, 4, 6}, {1, 3, 5}], \n",
    "                   2: [{2, 3, 4}, {2, 5, 6}],\n",
    "                   3: [{1, 4, 6}, {2, 5, 6}],\n",
    "                   4: [{2, 5, 6}, {1, 3, 5}],\n",
    "                   5: [{1, 4, 6}, {2, 3, 4}],\n",
    "                   6: [{2, 3, 4}, {1, 3, 5}]}\n",
    "        \n",
    "        queue = [(0, 0)]\n",
    "        seen = {(0, 0)}\n",
    "        while queue:\n",
    "            r, c = queue.pop()\n",
    "            val = grid[r][c]\n",
    "            sub_dir = dirs[val]\n",
    "            for i in range(2):\n",
    "                dx, dy = dirs[val][i]\n",
    "                nr, nc = r + dx, c + dy # 当前块可能达到的位置\n",
    "                if nr < 0 or nc < 0 or nr >= rows or nc >= cols:\n",
    "                    continue\n",
    "                if grid[nr][nc] in connect[val][i] and (nr, nc) not in seen:\n",
    "                    if (nr, nc) == (rows-1, cols-1):\n",
    "                        return True\n",
    "                    queue.append((nr, nc))\n",
    "                    seen.add((nr, nc))\n",
    "        return False"
   ]
  },
  {
   "cell_type": "code",
   "execution_count": 25,
   "metadata": {},
   "outputs": [
    {
     "data": {
      "text/plain": [
       "True"
      ]
     },
     "execution_count": 25,
     "metadata": {},
     "output_type": "execute_result"
    }
   ],
   "source": [
    "solution = Solution()\n",
    "solution.hasValidPath([[2,4,3],[6,5,2]])"
   ]
  },
  {
   "cell_type": "code",
   "execution_count": null,
   "metadata": {},
   "outputs": [],
   "source": []
  }
 ],
 "metadata": {
  "kernelspec": {
   "display_name": "Python 3",
   "language": "python",
   "name": "python3"
  },
  "language_info": {
   "codemirror_mode": {
    "name": "ipython",
    "version": 3
   },
   "file_extension": ".py",
   "mimetype": "text/x-python",
   "name": "python",
   "nbconvert_exporter": "python",
   "pygments_lexer": "ipython3",
   "version": "3.6.2"
  }
 },
 "nbformat": 4,
 "nbformat_minor": 4
}
