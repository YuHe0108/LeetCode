{
 "cells": [
  {
   "cell_type": "raw",
   "metadata": {},
   "source": [
    "    给定一个二叉树（具有根结点 root）， 一个目标结点 target ，和一个整数值 K 。\n",
    "    返回到目标结点 target 距离为 K 的所有结点的值的列表。 \n",
    "    答案可以以任何顺序返回。\n",
    "\n",
    "示例 1：\n",
    "    输入：root = [3,5,1,6,2,0,8,null,null,7,4], target = 5, K = 2\n",
    "    输出：[7,4,1]\n",
    "    解释：\n",
    "        所求结点为与目标结点（值为 5）距离为 2 的结点，\n",
    "        值分别为 7，4，以及 1\n",
    "\n",
    "    注意:输入的 \"root\" 和 \"target\" 实际上是树上的结点。上面的输入仅仅是对这些对象进行了序列化描述。\n",
    "\n",
    "提示：\n",
    "    给定的树是非空的。\n",
    "    树上的每个结点都具有唯一的值 0 <= node.val <= 500 。\n",
    "    目标结点 target 是树上的结点。\n",
    "    0 <= K <= 1000."
   ]
  },
  {
   "cell_type": "markdown",
   "metadata": {},
   "source": [
    "<img src='https://s3-lc-upload.s3.amazonaws.com/uploads/2018/06/28/sketch0.png' width=500>"
   ]
  },
  {
   "cell_type": "code",
   "execution_count": null,
   "metadata": {},
   "outputs": [],
   "source": [
    "# Definition for a binary tree node.\n",
    "# class TreeNode:\n",
    "#     def __init__(self, x):\n",
    "#         self.val = x\n",
    "#         self.left = None\n",
    "#         self.right = None\n",
    "\n",
    "from collections import defaultdict, deque\n",
    "\n",
    "class Solution:\n",
    "    def distanceK(self, root: TreeNode, target: TreeNode, K: int) -> List[int]:\n",
    "        # 将这个树转换为图\n",
    "        def convert(node):\n",
    "            nonlocal graph\n",
    "            if not node:\n",
    "                return\n",
    "            k = node.val\n",
    "            if node.left:\n",
    "                l_val = node.left.val\n",
    "                graph[k].append(l_val)\n",
    "                graph[l_val].append(k)\n",
    "            if node.right:\n",
    "                r_val = node.right.val\n",
    "                graph[k].append(r_val)\n",
    "                graph[r_val].append(k)\n",
    "            convert(node.left)\n",
    "            convert(node.right)\n",
    "        \n",
    "        graph = defaultdict(list)\n",
    "        convert(root)\n",
    "        t_val = target.val\n",
    "        # 通过图进行bfs\n",
    "        queue = deque([t_val])\n",
    "        \n",
    "        \n",
    "        return [1,4,7]\n",
    "        \n",
    "        \n",
    "        \n",
    "        "
   ]
  },
  {
   "cell_type": "code",
   "execution_count": 1,
   "metadata": {},
   "outputs": [],
   "source": [
    "from collections import defaultdict, deque"
   ]
  },
  {
   "cell_type": "code",
   "execution_count": 3,
   "metadata": {},
   "outputs": [],
   "source": [
    "a = deque([1])"
   ]
  },
  {
   "cell_type": "code",
   "execution_count": 4,
   "metadata": {},
   "outputs": [
    {
     "data": {
      "text/plain": [
       "1"
      ]
     },
     "execution_count": 4,
     "metadata": {},
     "output_type": "execute_result"
    }
   ],
   "source": [
    "a.pop()"
   ]
  },
  {
   "cell_type": "code",
   "execution_count": null,
   "metadata": {},
   "outputs": [],
   "source": []
  }
 ],
 "metadata": {
  "kernelspec": {
   "display_name": "Python 3",
   "language": "python",
   "name": "python3"
  },
  "language_info": {
   "codemirror_mode": {
    "name": "ipython",
    "version": 3
   },
   "file_extension": ".py",
   "mimetype": "text/x-python",
   "name": "python",
   "nbconvert_exporter": "python",
   "pygments_lexer": "ipython3",
   "version": "3.6.2"
  }
 },
 "nbformat": 4,
 "nbformat_minor": 4
}
