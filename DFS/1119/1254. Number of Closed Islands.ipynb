{
 "cells": [
  {
   "cell_type": "raw",
   "metadata": {},
   "source": [
    "    有一个二维矩阵 grid ，每个位置要么是陆地（记号为 0 ）要么是水域（记号为 1 ）。\n",
    "\n",
    "    我们从一块陆地出发，每次可以往上下左右 4 个方向相邻区域走，能走到的所有陆地区域，我们将其称为一座「岛屿」。\n",
    "\n",
    "    如果一座岛屿 完全 由水域包围，即陆地边缘上下左右所有相邻区域都是水域，那么我们将其称为 「封闭岛屿」。\n",
    "\n",
    "    请返回封闭岛屿的数目。"
   ]
  },
  {
   "cell_type": "markdown",
   "metadata": {},
   "source": [
    "<img src='https://assets.leetcode-cn.com/aliyun-lc-upload/uploads/2019/11/07/sample_3_1610.png'>"
   ]
  },
  {
   "cell_type": "raw",
   "metadata": {},
   "source": [
    "    输入：grid = [[1,1,1,1,1,1,1,0],[1,0,0,0,0,1,1,0],[1,0,1,0,1,1,1,0],[1,0,0,0,0,1,0,1],[1,1,1,1,1,1,1,0]]\n",
    "    输出：2\n",
    "    解释：\n",
    "        灰色区域的岛屿是封闭岛屿，因为这座岛屿完全被水域包围（即被 1 区域包围）。"
   ]
  },
  {
   "cell_type": "markdown",
   "metadata": {},
   "source": [
    "<img src='https://assets.leetcode-cn.com/aliyun-lc-upload/uploads/2019/11/07/sample_4_1610.png'>"
   ]
  },
  {
   "cell_type": "raw",
   "metadata": {},
   "source": [
    "示例 2：    \n",
    "    输入：grid = [[0,0,1,0,0],[0,1,0,1,0],[0,1,1,1,0]]\n",
    "    输出：1\n",
    "\n",
    "示例 3：\n",
    "    输入：grid = [[1,1,1,1,1,1,1],\n",
    "                 [1,0,0,0,0,0,1],\n",
    "                 [1,0,1,1,1,0,1],\n",
    "                 [1,0,1,0,1,0,1],\n",
    "                 [1,0,1,1,1,0,1],\n",
    "                 [1,0,0,0,0,0,1],\n",
    "                 [1,1,1,1,1,1,1]]\n",
    "    输出：2\n",
    "\n",
    "提示：\n",
    "    1 <= grid.length, grid[0].length <= 100\n",
    "    0 <= grid[i][j] <=1\n"
   ]
  },
  {
   "cell_type": "code",
   "execution_count": 143,
   "metadata": {},
   "outputs": [],
   "source": [
    "class Solution:\n",
    "    def closedIsland(self, grid) -> int:\n",
    "        res = 0\n",
    "        rows, cols = len(grid), len(grid[0])\n",
    "        stack = []\n",
    "        for r in range(rows):\n",
    "            for c in range(cols):\n",
    "                if grid[r][c] == 0:\n",
    "                    grid[r][c] = 2 # 标记为已经看过\n",
    "                    stack = [(r, c)]\n",
    "                    island = True\n",
    "                    while stack:\n",
    "                        i, j = stack.pop()\n",
    "                        for ni, nj in (i+1, j), (i-1, j), (i, j+1), (i, j-1):\n",
    "                            if ni < 0 or nj < 0 or ni >= rows or nj >= cols:\n",
    "                                island = False\n",
    "                                continue\n",
    "                            if (ni == 0 or nj == 0 or ni == rows-1 or nj == cols-1) and grid[ni][nj] == 2:\n",
    "                                island = False\n",
    "                                continue\n",
    "                            if grid[ni][nj] == 0:\n",
    "                                stack.append((ni, nj))\n",
    "                                grid[ni][nj] = 2\n",
    "                    if island:\n",
    "                        res += 1\n",
    "        return res"
   ]
  },
  {
   "cell_type": "code",
   "execution_count": 147,
   "metadata": {},
   "outputs": [],
   "source": [
    "class Solution:\n",
    "    def closedIsland(self, grid) -> int:\n",
    "        res = 0\n",
    "        rows, cols = len(grid), len(grid[0])\n",
    "        stack = []\n",
    "        for r in range(rows):\n",
    "            for c in range(cols):\n",
    "                if grid[r][c] == 0:\n",
    "                    grid[r][c] = 2 # 标记为已经看过\n",
    "                    stack.append((r, c))\n",
    "                    island = True\n",
    "                    while stack:\n",
    "                        i, j = stack.pop()\n",
    "                        if i in {0, rows-1} or j in {0, cols-1}:\n",
    "                            island = False\n",
    "                        for ni, nj in (i+1, j), (i-1, j), (i, j+1), (i, j-1):\n",
    "                            if 0 <= ni < rows and 0 <= nj < cols and grid[ni][nj] == 0:\n",
    "                                stack.append((ni, nj))\n",
    "                                grid[ni][nj] = 2\n",
    "                    if island:\n",
    "                        res += 1\n",
    "        return res"
   ]
  },
  {
   "cell_type": "code",
   "execution_count": 148,
   "metadata": {},
   "outputs": [
    {
     "data": {
      "text/plain": [
       "4"
      ]
     },
     "execution_count": 148,
     "metadata": {},
     "output_type": "execute_result"
    }
   ],
   "source": [
    "solution = Solution()\n",
    "solution.closedIsland([[1,1,0,1,1,1,1,1,1,1],\n",
    "                       [0,0,1,0,0,1,0,1,1,1],\n",
    "                       [1,0,1,0,0,0,1,0,1,0],\n",
    "                       [1,1,1,1,1,0,0,1,0,0],\n",
    "                       [1,0,1,0,1,1,1,1,1,0],\n",
    "                       [0,0,0,0,1,1,0,0,0,0],\n",
    "                       [1,0,1,0,0,0,0,1,1,0],\n",
    "                       [1,1,0,0,1,1,0,0,0,0],\n",
    "                       [0,0,0,1,1,0,1,1,1,0],\n",
    "                       [1,1,0,1,0,1,0,0,1,0]])"
   ]
  },
  {
   "cell_type": "code",
   "execution_count": null,
   "metadata": {},
   "outputs": [],
   "source": [
    " [[1, 1, 2, 1, 1, 1, 1, 1, 1, 1], \n",
    "  [2, 2, 1, 0, 0, 1, 0, 1, 1, 1], \n",
    "  [1, 2, 1, 0, 0, 0, 1, 0, 1, 0], \n",
    "  [1, 1, 1, 1, 1, 0, 0, 1, 0, 0], \n",
    "  [1, 0, 1, 0, 1, 1, 1, 1, 1, 0], \n",
    "  [0, 0, 0, 0, 1, 1, 0, 0, 0, 0],\n",
    "  [1, 0, 1, 0, 0, 0, 0, 1, 1, 0], \n",
    "  [1, 1, 0, 0, 1, 1, 0, 0, 0, 0], \n",
    "  [0, 0, 0, 1, 1, 0, 1, 1, 1, 0], \n",
    "  [1, 1, 0, 1, 0, 1, 0, 0, 1, 0]]"
   ]
  },
  {
   "cell_type": "raw",
   "metadata": {},
   "source": [
    "[[1,   1,   1,  1,    1,   1,  1, -1], \n",
    " [1,  -1,  -1,  -1,  -1,   1,  1, -1], \n",
    " [1,  -1,   1,  -1,   1,   1,  1, -1],\n",
    " [1,  -1,  -1,  -1,  -1,   1, -1,  1], \n",
    " [1,   1,   1,   1,   1,   1,  1,  0]]"
   ]
  },
  {
   "cell_type": "code",
   "execution_count": null,
   "metadata": {},
   "outputs": [],
   "source": []
  },
  {
   "cell_type": "code",
   "execution_count": 72,
   "metadata": {},
   "outputs": [
    {
     "name": "stdout",
     "output_type": "stream",
     "text": [
      "2\n",
      "2\n"
     ]
    }
   ],
   "source": [
    "for i in range(2):\n",
    "    if 2 > 1:\n",
    "        if 3 > 2:\n",
    "            pass\n",
    "        print(2)"
   ]
  },
  {
   "cell_type": "code",
   "execution_count": null,
   "metadata": {},
   "outputs": [],
   "source": []
  },
  {
   "cell_type": "code",
   "execution_count": null,
   "metadata": {},
   "outputs": [],
   "source": []
  }
 ],
 "metadata": {
  "kernelspec": {
   "display_name": "Python 3",
   "language": "python",
   "name": "python3"
  },
  "language_info": {
   "codemirror_mode": {
    "name": "ipython",
    "version": 3
   },
   "file_extension": ".py",
   "mimetype": "text/x-python",
   "name": "python",
   "nbconvert_exporter": "python",
   "pygments_lexer": "ipython3",
   "version": "3.6.2"
  }
 },
 "nbformat": 4,
 "nbformat_minor": 4
}
