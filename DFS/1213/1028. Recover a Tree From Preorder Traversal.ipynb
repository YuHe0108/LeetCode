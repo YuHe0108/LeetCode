{
 "cells": [
  {
   "cell_type": "code",
   "execution_count": null,
   "metadata": {},
   "outputs": [],
   "source": []
  },
  {
   "cell_type": "code",
   "execution_count": null,
   "metadata": {},
   "outputs": [],
   "source": []
  },
  {
   "cell_type": "code",
   "execution_count": null,
   "metadata": {},
   "outputs": [],
   "source": []
  },
  {
   "cell_type": "code",
   "execution_count": null,
   "metadata": {},
   "outputs": [],
   "source": []
  },
  {
   "cell_type": "code",
   "execution_count": 1,
   "metadata": {},
   "outputs": [],
   "source": [
    "# Definition for a binary tree node.\n",
    "from collections import defaultdict\n",
    "\n",
    "class TreeNode:\n",
    "    def __init__(self, val=0, left=None, right=None):\n",
    "        self.val = val\n",
    "        self.left = left\n",
    "        self.right = right\n",
    "        \n",
    "class Solution:\n",
    "    def recoverFromPreorder(self, S: str) -> TreeNode:\n",
    "        n = len(S)\n",
    "        if n == 1:\n",
    "            return TreeNode(int(s[0]))\n",
    "        depth = defaultdict(list)\n",
    "        idx = 1\n",
    "        while idx < n:\n",
    "            d = 0\n",
    "            while S[idx] == '-':\n",
    "                d += 1\n",
    "                idx += 1\n",
    "            depth[d].append(int(S[idx]))\n",
    "            idx += 1\n",
    "        \n",
    "        temp = root = TreeNode(int(S[0]))\n",
    "        d = 1 # 从第一层开始\n",
    "        nodes = [root]\n",
    "        while depth:\n",
    "            if d in depth:\n",
    "                vals = depth.pop(d)\n",
    "                while vals:\n",
    "                    n = nodes.pop(0)\n",
    "                    \n",
    "                    v = vals.pop(0)\n",
    "                    n1 = TreeNode(v)\n",
    "                    n.left = n1\n",
    "                    nodes.append(n1)\n",
    "                    \n",
    "                    if vals:\n",
    "                        v = vals.pop(0)\n",
    "                        n2 = TreeNode(v)\n",
    "                        n.right = n2\n",
    "                        nodes.append(n2)\n",
    "            d += 1\n",
    "        def dfs(node):\n",
    "            if not node:\n",
    "                return\n",
    "            print(node.val)\n",
    "            dfs(node.left)\n",
    "            dfs(node.right)\n",
    "            return\n",
    "        dfs(root)\n",
    "        return root    "
   ]
  },
  {
   "cell_type": "code",
   "execution_count": 3,
   "metadata": {},
   "outputs": [
    {
     "name": "stdout",
     "output_type": "stream",
     "text": [
      "1\n",
      "2\n",
      "3\n",
      "6\n",
      "5\n",
      "4\n",
      "7\n"
     ]
    },
    {
     "data": {
      "text/plain": [
       "<__main__.TreeNode at 0x2043d3a8128>"
      ]
     },
     "execution_count": 3,
     "metadata": {},
     "output_type": "execute_result"
    }
   ],
   "source": [
    "solution = Solution()\n",
    "solution.recoverFromPreorder(\"1-2--3---4-5--6---7\")"
   ]
  },
  {
   "cell_type": "code",
   "execution_count": null,
   "metadata": {},
   "outputs": [],
   "source": []
  },
  {
   "cell_type": "code",
   "execution_count": 12,
   "metadata": {},
   "outputs": [],
   "source": [
    "class TreeNode:\n",
    "    def __init__(self, val=0, left=None, right=None):\n",
    "        self.val = val\n",
    "        self.left = left\n",
    "        self.right = right\n",
    "        \n",
    "class Solution:\n",
    "    def recoverFromPreorder(self, S: str) -> TreeNode:\n",
    "        def dfs(cur): # 从 深度为 0 的节点开始遍历\n",
    "            root = TreeNode(nodes[cur][1])\n",
    "            if cur + 1 < len(nodes) and nodes[cur][0] + 1 == node[cur + 1][0]:\n",
    "                root.left = dfs(cur + 1)\n",
    "            \n",
    "            root.right = dfs(cur + 1)\n",
    "            return root\n",
    "        \n",
    "        n = len(S)\n",
    "        nodes = [(0, int(S[0]))]\n",
    "        idx = 1\n",
    "        while idx < n:\n",
    "            d = 0\n",
    "            while S[idx] == '-':\n",
    "                d += 1\n",
    "                idx += 1\n",
    "            nodes.append((d, int(S[idx])))\n",
    "            idx += 1\n",
    "        return dfs(0)"
   ]
  },
  {
   "cell_type": "code",
   "execution_count": 16,
   "metadata": {},
   "outputs": [],
   "source": [
    "class TreeNode:\n",
    "    def __init__(self, val=0, left=None, right=None):\n",
    "        self.val = val\n",
    "        self.left = left\n",
    "        self.right = right\n",
    "        \n",
    "class Solution:\n",
    "    def recoverFromPreorder(self, S: str) -> TreeNode:\n",
    "        ans = {-1: TreeNode(0)}\n",
    "        def add_tree(v, p):\n",
    "            ans[p] = TreeNode(int(v))\n",
    "            if not ans[p-1].left:\n",
    "                ans[p-1].left = ans[p]\n",
    "            else:\n",
    "                ans[p-1].right = ans[p]\n",
    "        \n",
    "        val, dep = '', 0\n",
    "        for c in S:\n",
    "            if c != '-':\n",
    "                val += c\n",
    "            elif val:\n",
    "                add_tree(val, dep)\n",
    "                val, dep = '', 1\n",
    "            else:\n",
    "                dep += 1\n",
    "        add_tree(val, dep)\n",
    "        return ans[0]"
   ]
  },
  {
   "cell_type": "code",
   "execution_count": 17,
   "metadata": {},
   "outputs": [
    {
     "name": "stdout",
     "output_type": "stream",
     "text": [
      "{-1: <__main__.TreeNode object at 0x000002043D3BE7B8>}\n",
      "{-1: <__main__.TreeNode object at 0x000002043D3BE7B8>, 0: <__main__.TreeNode object at 0x000002043D3BE9B0>}\n",
      "{-1: <__main__.TreeNode object at 0x000002043D3BE7B8>, 0: <__main__.TreeNode object at 0x000002043D3BE9B0>, 1: <__main__.TreeNode object at 0x000002043D3BEA20>}\n",
      "{-1: <__main__.TreeNode object at 0x000002043D3BE7B8>, 0: <__main__.TreeNode object at 0x000002043D3BE9B0>, 1: <__main__.TreeNode object at 0x000002043D3BEA20>, 2: <__main__.TreeNode object at 0x000002043D3BEAC8>}\n",
      "{-1: <__main__.TreeNode object at 0x000002043D3BE7B8>, 0: <__main__.TreeNode object at 0x000002043D3BE9B0>, 1: <__main__.TreeNode object at 0x000002043D3BEA20>, 2: <__main__.TreeNode object at 0x000002043D3BEA90>}\n",
      "{-1: <__main__.TreeNode object at 0x000002043D3BE7B8>, 0: <__main__.TreeNode object at 0x000002043D3BE9B0>, 1: <__main__.TreeNode object at 0x000002043D3BE9E8>, 2: <__main__.TreeNode object at 0x000002043D3BEA90>}\n",
      "{-1: <__main__.TreeNode object at 0x000002043D3BE7B8>, 0: <__main__.TreeNode object at 0x000002043D3BE9B0>, 1: <__main__.TreeNode object at 0x000002043D3BE9E8>, 2: <__main__.TreeNode object at 0x000002043D3BEA58>}\n"
     ]
    },
    {
     "data": {
      "text/plain": [
       "<__main__.TreeNode at 0x2043d3be9b0>"
      ]
     },
     "execution_count": 17,
     "metadata": {},
     "output_type": "execute_result"
    }
   ],
   "source": [
    "solution = Solution()\n",
    "solution.recoverFromPreorder(\"1-2--3--4-5--6--7\")"
   ]
  },
  {
   "cell_type": "code",
   "execution_count": null,
   "metadata": {},
   "outputs": [],
   "source": []
  },
  {
   "cell_type": "code",
   "execution_count": null,
   "metadata": {},
   "outputs": [],
   "source": []
  },
  {
   "cell_type": "code",
   "execution_count": null,
   "metadata": {},
   "outputs": [],
   "source": []
  },
  {
   "cell_type": "code",
   "execution_count": 13,
   "metadata": {},
   "outputs": [],
   "source": [
    "a = {1:[1,2]}"
   ]
  },
  {
   "cell_type": "code",
   "execution_count": 14,
   "metadata": {},
   "outputs": [
    {
     "data": {
      "text/plain": [
       "[1, 2]"
      ]
     },
     "execution_count": 14,
     "metadata": {},
     "output_type": "execute_result"
    }
   ],
   "source": [
    "a.pop(1)"
   ]
  },
  {
   "cell_type": "code",
   "execution_count": 15,
   "metadata": {},
   "outputs": [
    {
     "data": {
      "text/plain": [
       "{}"
      ]
     },
     "execution_count": 15,
     "metadata": {},
     "output_type": "execute_result"
    }
   ],
   "source": [
    "a"
   ]
  },
  {
   "cell_type": "code",
   "execution_count": 7,
   "metadata": {},
   "outputs": [],
   "source": [
    "class Solution:\n",
    "    def recoverFromPreorder(self, S: str) -> TreeNode:\n",
    "        ans = {-1: TreeNode(0)}     #字典初始化\n",
    "        def addTree(v, p):          #添加树函数\n",
    "            ans[p] = TreeNode(int(v))\n",
    "            if not ans[p - 1].left: #左子树不存在就加在左边\n",
    "                ans[p - 1].left = ans[p]\n",
    "            else:                   #反之加在右边\n",
    "                ans[p - 1].right = ans[p]\n",
    "        \n",
    "        val, dep = '', 0            #值和对应深度初始化\n",
    "        for c in S:\n",
    "            if c != '-':\n",
    "                val += c            #累加字符来获得数字\n",
    "            elif val:               #如果是‘-’且存在val\n",
    "                addTree(val, dep)   #就把累加好的数字和对应深度添加进树\n",
    "                val, dep = '', 1    #值和对应深度重新初始化\n",
    "            else:\n",
    "                dep += 1            #连续的‘-’只加深度不加值\n",
    "        addTree(val, dep)           #末尾剩余的数字也要加进树\n",
    "        return ans[0]"
   ]
  },
  {
   "cell_type": "code",
   "execution_count": 8,
   "metadata": {},
   "outputs": [
    {
     "name": "stdout",
     "output_type": "stream",
     "text": [
      "1 0\n",
      "2 1\n",
      "3 2\n",
      "4 2\n",
      "5 1\n",
      "6 2\n",
      "7 2\n"
     ]
    },
    {
     "data": {
      "text/plain": [
       "<__main__.TreeNode at 0x23087ac3080>"
      ]
     },
     "execution_count": 8,
     "metadata": {},
     "output_type": "execute_result"
    }
   ],
   "source": [
    "solution = Solution()\n",
    "solution.recoverFromPreorder(\"1-2--3--4-5--6--7\")"
   ]
  },
  {
   "cell_type": "code",
   "execution_count": null,
   "metadata": {},
   "outputs": [],
   "source": []
  },
  {
   "cell_type": "code",
   "execution_count": null,
   "metadata": {},
   "outputs": [],
   "source": []
  },
  {
   "cell_type": "code",
   "execution_count": null,
   "metadata": {},
   "outputs": [],
   "source": []
  },
  {
   "cell_type": "code",
   "execution_count": 5,
   "metadata": {},
   "outputs": [],
   "source": [
    "# Definition for a binary tree node.\n",
    "from collections import defaultdict\n",
    "\n",
    "class TreeNode:\n",
    "    def __init__(self, val=0, left=None, right=None):\n",
    "        self.val = val\n",
    "        self.left = left\n",
    "        self.right = right\n",
    "        \n",
    "class Solution:\n",
    "    def recoverFromPreorder(self, S: str) -> TreeNode:\n",
    "        depth_node = defaultdict(list)  # 记录访问过的深度为depth的节点列表\n",
    "        start = 0\n",
    "        while start < len(S):\n",
    "            # 获取当前值的深度\n",
    "            end = start\n",
    "            while end < len(S) and S[end] == '-': \n",
    "                end += 1\n",
    "            depth = end - start\n",
    "\n",
    "            # 获取当前值\n",
    "            start = end\n",
    "            while end < len(S) and S[end] != '-': \n",
    "                end += 1\n",
    "            node = TreeNode(int(S[start:end]))\n",
    "\n",
    "            # 将当前节点放在对应的深度列表中\n",
    "            depth_node[depth].append(node)\n",
    "            # 将当前节点挂载父节点上面\n",
    "            # 为什么这里可以这样做？因为在访问每个节点之前，肯定已经访问过它的父节点了，而且是最近刚访问过，因此可以用这种方式挂载\n",
    "            if depth > 0:\n",
    "                # 优先挂载父节点的左边\n",
    "                if depth_node[depth - 1][-1].left:\n",
    "                    depth_node[depth - 1][-1].right = node\n",
    "                else:\n",
    "                    depth_node[depth - 1][-1].left = node\n",
    "\n",
    "            start = end\n",
    "        return depth_node[0][0]"
   ]
  },
  {
   "cell_type": "code",
   "execution_count": 6,
   "metadata": {},
   "outputs": [
    {
     "name": "stdout",
     "output_type": "stream",
     "text": [
      "['1', '2', '', '3', '', '4', '5', '', '6', '', '7']\n"
     ]
    },
    {
     "data": {
      "text/plain": [
       "<__main__.TreeNode at 0x23087b1fda0>"
      ]
     },
     "execution_count": 6,
     "metadata": {},
     "output_type": "execute_result"
    }
   ],
   "source": [
    "solution = Solution()\n",
    "solution.recoverFromPreorder(\"1-2--3--4-5--6--7\")"
   ]
  },
  {
   "cell_type": "code",
   "execution_count": null,
   "metadata": {},
   "outputs": [],
   "source": []
  }
 ],
 "metadata": {
  "kernelspec": {
   "display_name": "Python 3",
   "language": "python",
   "name": "python3"
  },
  "language_info": {
   "codemirror_mode": {
    "name": "ipython",
    "version": 3
   },
   "file_extension": ".py",
   "mimetype": "text/x-python",
   "name": "python",
   "nbconvert_exporter": "python",
   "pygments_lexer": "ipython3",
   "version": "3.6.2"
  }
 },
 "nbformat": 4,
 "nbformat_minor": 4
}
