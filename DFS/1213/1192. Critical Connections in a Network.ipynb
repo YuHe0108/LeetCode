{
 "cells": [
  {
   "cell_type": "code",
   "execution_count": null,
   "metadata": {},
   "outputs": [],
   "source": []
  },
  {
   "cell_type": "code",
   "execution_count": null,
   "metadata": {},
   "outputs": [],
   "source": []
  },
  {
   "cell_type": "code",
   "execution_count": null,
   "metadata": {},
   "outputs": [],
   "source": []
  },
  {
   "cell_type": "code",
   "execution_count": 1,
   "metadata": {},
   "outputs": [],
   "source": [
    "# O(n) 的解法\n",
    "\n",
    "from collections import defaultdict\n",
    "\n",
    "class Solution:\n",
    "    def criticalConnections(self, n: int, connections):\n",
    "        def dfs(cur, par, level):\n",
    "            jump[cur] = level + 1 # 如果是 critical connect, 那么就应该是 level + 1\n",
    "            \n",
    "            for child in graph[cur]:\n",
    "                if child == par:\n",
    "                    continue\n",
    "                elif jump[child] == -1: # 还没有访问过\n",
    "                    jump[cur] = min(jump[cur], dfs(child, cur, level + 1))\n",
    "                else: # 已经访问过，访问过的节点可能是父节点，因此 jump[child] 的值会更小\n",
    "                    jump[cur] = min(jump[cur], jump[child])\n",
    "                    \n",
    "            if jump[cur] == level + 1 and cur != 0:\n",
    "                res.append([cur, par])\n",
    "            return jump[cur]\n",
    "        \n",
    "        graph = defaultdict(set)\n",
    "        for i, j in connections:\n",
    "            graph[i].add(j)\n",
    "            graph[j].add(i)\n",
    "        jump = [-1] * n # 记录每个节点相对于 par 的最小深度\n",
    "        res = []\n",
    "        dfs(0, -1, 0)\n",
    "        return res"
   ]
  },
  {
   "cell_type": "code",
   "execution_count": 2,
   "metadata": {},
   "outputs": [
    {
     "data": {
      "text/plain": [
       "[[3, 1]]"
      ]
     },
     "execution_count": 2,
     "metadata": {},
     "output_type": "execute_result"
    }
   ],
   "source": [
    "solution = Solution()\n",
    "solution.criticalConnections(n = 4, connections = [[0,1],[1,2],[2,0],[1,3]])"
   ]
  },
  {
   "cell_type": "code",
   "execution_count": null,
   "metadata": {},
   "outputs": [],
   "source": []
  },
  {
   "cell_type": "markdown",
   "metadata": {},
   "source": [
    "### 1、O(n^2) 的时间复杂度"
   ]
  },
  {
   "cell_type": "code",
   "execution_count": 55,
   "metadata": {},
   "outputs": [],
   "source": [
    "class Solution:\n",
    "    def criticalConnections(self, n: int, connections):\n",
    "        def dfs(cur, ban_node):\n",
    "            nodes, seen = [cur], set()\n",
    "            while nodes:\n",
    "                node = nodes.pop()\n",
    "                if node not in seen:\n",
    "                    seen.add(node)\n",
    "                if len(seen) == n:\n",
    "                    return False\n",
    "                for child in graph[node]:\n",
    "                    if child not in seen and (node, child) != (cur, ban_node):\n",
    "                        nodes.append(child)\n",
    "            \n",
    "            return len(seen) < n # 从当前节点遍历，并且不能遍历所有的点的时候，说明是critical\n",
    "        \n",
    "        graph = defaultdict(set)\n",
    "        for i, j in connections:\n",
    "            graph[i].add(j)\n",
    "            graph[j].add(i)\n",
    "        \n",
    "        res = set()\n",
    "        seen = set()\n",
    "        for i in range(n):\n",
    "            for child in graph[i]:\n",
    "                 # 看看去掉当前的这条边,, 能否遍历所有节点\n",
    "                if (i, child) not in seen and (child, i) not in seen and dfs(i, child):\n",
    "                    res.add((i, child))\n",
    "                    seen.add((i, child))\n",
    "        return res"
   ]
  },
  {
   "cell_type": "code",
   "execution_count": 56,
   "metadata": {},
   "outputs": [
    {
     "data": {
      "text/plain": [
       "{(1, 3)}"
      ]
     },
     "execution_count": 56,
     "metadata": {},
     "output_type": "execute_result"
    }
   ],
   "source": [
    "solution = Solution()\n",
    "solution.criticalConnections(n = 4, connections = [[0,1],[1,2],[2,0],[1,3]])"
   ]
  },
  {
   "cell_type": "code",
   "execution_count": null,
   "metadata": {},
   "outputs": [],
   "source": []
  }
 ],
 "metadata": {
  "kernelspec": {
   "display_name": "Python 3",
   "language": "python",
   "name": "python3"
  },
  "language_info": {
   "codemirror_mode": {
    "name": "ipython",
    "version": 3
   },
   "file_extension": ".py",
   "mimetype": "text/x-python",
   "name": "python",
   "nbconvert_exporter": "python",
   "pygments_lexer": "ipython3",
   "version": "3.6.2"
  }
 },
 "nbformat": 4,
 "nbformat_minor": 4
}
