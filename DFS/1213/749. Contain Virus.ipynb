{
 "cells": [
  {
   "cell_type": "code",
   "execution_count": null,
   "metadata": {},
   "outputs": [],
   "source": []
  },
  {
   "cell_type": "code",
   "execution_count": null,
   "metadata": {},
   "outputs": [],
   "source": []
  },
  {
   "cell_type": "code",
   "execution_count": null,
   "metadata": {},
   "outputs": [],
   "source": []
  },
  {
   "cell_type": "code",
   "execution_count": 92,
   "metadata": {},
   "outputs": [],
   "source": [
    "import copy\n",
    "\n",
    "class Solution:\n",
    "    def containVirus(self, grid):\n",
    "        def expand(grid): # 病毒扩张\n",
    "            def helper(r, c):\n",
    "                nonlocal seen\n",
    "                stack = [(r, c)]\n",
    "                while stack:\n",
    "                    x, y = stack.pop()\n",
    "                    for n_x, n_y in (x+1, y), (x-1, y), (x, y+1), (x, y-1):\n",
    "                        if n_x < 0 or n_y < 0 or n_x >= rows or n_y >= cols:\n",
    "                            continue\n",
    "                        if (n_x, n_y) not in seen:\n",
    "                            seen.add((n_x, n_y))\n",
    "                            if grid[n_x][n_y] == 0:\n",
    "                                grid[n_x][n_y] = 1\n",
    "                            elif grid[n_x][n_y] == 1:\n",
    "                                stack.append((n_x, n_y))\n",
    "                return grid\n",
    "            \n",
    "            seen = set()\n",
    "            for i in range(rows):\n",
    "                for j in range(cols): \n",
    "                    if grid[i][j] == 1 and (i, j) not in seen: # 检测为 1 之后，需要使用helper函数进行病毒扩张\n",
    "                        seen.add((i, j))\n",
    "                        grid = helper(i, j)\n",
    "            return grid\n",
    "        \n",
    "        def get_walls(grid): \n",
    "            # 首先需要找到病毒扩散最多的区域，之后对其进行抑制\n",
    "            def helper(r, c):\n",
    "                nonlocal seen\n",
    "                virus = 0\n",
    "                stack = [(r, c)]\n",
    "                new_vir = set()\n",
    "                while stack:\n",
    "                    x, y = stack.pop()\n",
    "                    for n_x, n_y in (x+1, y), (x-1, y), (x, y+1), (x, y-1):\n",
    "                        if n_x < 0 or n_y < 0 or n_x >= rows or n_y >= cols:\n",
    "                            continue\n",
    "                        if (n_x, n_y) not in seen and (n_x, n_y) not in new_vir:\n",
    "                            if grid[n_x][n_y] == 0:\n",
    "                                new_vir.add((n_x, n_y))\n",
    "                                virus += 1\n",
    "                            elif grid[n_x][n_y] == 1:\n",
    "                                seen.add((n_x, n_y))\n",
    "                                stack.append((n_x, n_y))\n",
    "                return virus\n",
    "            \n",
    "            seen = set()\n",
    "            vir_max, vir_start = 0, None # \n",
    "            for i in range(rows):\n",
    "                for j in range(cols):\n",
    "                    if grid[i][j] == 1 and (i, j) not in seen:\n",
    "                        seen.add((i, j))\n",
    "                        new_vir = helper(i, j)\n",
    "                        if new_vir > vir_max:\n",
    "                            vir_max = new_vir\n",
    "                            vir_start = (i, j)\n",
    "            \n",
    "            cnt = 0 # 安装墙的数量\n",
    "            stack, seen = [], set()\n",
    "            if vir_start: # 从 vir_start 开始安装隔离墙\n",
    "                stack.append(vir_start)\n",
    "                seen.add(vir_start)\n",
    "            while stack:\n",
    "                x, y = stack.pop()\n",
    "                grid[x][y] = 2 # 表示已经隔离\n",
    "                for n_x, n_y in (x+1, y), (x-1, y), (x, y+1), (x, y-1):\n",
    "                    if n_x < 0 or n_y < 0 or n_x >= rows or n_y >= cols:\n",
    "                        continue\n",
    "                    if (n_x, n_y) not in seen:\n",
    "                        if grid[n_x][n_y] == 0:\n",
    "                            cnt += 1\n",
    "                        elif grid[n_x][n_y] == 1:\n",
    "                            seen.add((n_x, n_y))\n",
    "                            stack.append((n_x, n_y))\n",
    "            return cnt, grid\n",
    "        \n",
    "        walls = 0\n",
    "        rows, cols = len(grid), len(grid[0])\n",
    "        while True:\n",
    "            # 在每次安装完隔离墙之后，需要对病毒进行扩张，直到最后没有变化的时候，说明完成\n",
    "            wall, grid = get_walls(grid)\n",
    "            walls += wall\n",
    "            temp_grid = copy.deepcopy(grid)\n",
    "            new_grid = expand(grid)\n",
    "            if new_grid == temp_grid:\n",
    "                break\n",
    "            gird = new_grid\n",
    "        return walls"
   ]
  },
  {
   "cell_type": "code",
   "execution_count": null,
   "metadata": {},
   "outputs": [],
   "source": []
  },
  {
   "cell_type": "code",
   "execution_count": null,
   "metadata": {},
   "outputs": [],
   "source": []
  },
  {
   "cell_type": "code",
   "execution_count": null,
   "metadata": {},
   "outputs": [],
   "source": []
  },
  {
   "cell_type": "code",
   "execution_count": 111,
   "metadata": {},
   "outputs": [],
   "source": [
    "import copy\n",
    "\n",
    "class Solution:\n",
    "    def containVirus(self, grid):\n",
    "        def get_neibor(r, c): # 获取坐标 为 r、c的周围元素坐标\n",
    "            for nr, nc in ((r-1, c), (r+1, c), (r, c-1), (r, c+1)):\n",
    "                if 0 <= nr < rows and 0 <= nc < cols:\n",
    "                    yield nr, nc\n",
    "        \n",
    "        def helper(r, c, seen, expand=False, cnt_virs=False):\n",
    "            # 用于病毒扩张，以及计算病毒扩张能够影响的群体数量\n",
    "            if cnt_virs:\n",
    "                new_vir, virus = set(), 0\n",
    "            stack = [(r, c)]\n",
    "            while stack:\n",
    "                x, y = stack.pop()\n",
    "                for n_x, n_y in get_neibor(x, y):\n",
    "                    if expand and (n_x, n_y) not in seen:\n",
    "                        seen.add((n_x, n_y))\n",
    "                        if grid[n_x][n_y] == 0: # 病毒扩张\n",
    "                            grid[n_x][n_y] = 1\n",
    "                        elif grid[n_x][n_y] == 1:\n",
    "                            stack.append((n_x, n_y))\n",
    "                    if cnt_virs:\n",
    "                        if grid[n_x][n_y] == 0 and (n_x, n_y) not in new_vir:\n",
    "                            new_vir.add((n_x, n_y))\n",
    "                            virus += 1\n",
    "                        elif grid[n_x][n_y] == 1 and (n_x, n_y) not in seen:\n",
    "                            seen.add((n_x, n_y))\n",
    "                            stack.append((n_x, n_y))\n",
    "            if expand:\n",
    "                return seen, grid\n",
    "            if cnt_virs:\n",
    "                return seen, virus\n",
    "        \n",
    "        def expand(grid): # 病毒扩张\n",
    "            seen = set()\n",
    "            for i in range(rows):\n",
    "                for j in range(cols): \n",
    "                    if grid[i][j] == 1 and (i, j) not in seen: # 检测为 1 之后，需要使用helper函数进行病毒扩张\n",
    "                        seen.add((i, j))\n",
    "                        seen, grid = helper(i, j, seen, True)\n",
    "            return grid\n",
    "        \n",
    "        def get_walls(grid): \n",
    "            # 首先需要找到病毒扩散最多的区域，之后对其进行抑制\n",
    "            seen = set()\n",
    "            vir_max, vir_start = 0, None \n",
    "            for i in range(rows):\n",
    "                for j in range(cols):\n",
    "                    if grid[i][j] == 1 and (i, j) not in seen:\n",
    "                        seen.add((i, j))\n",
    "                        seen, virus = helper(i, j, seen, False, True)\n",
    "                        if virus > vir_max:\n",
    "                            vir_max = virus\n",
    "                            vir_start = (i, j)\n",
    "            \n",
    "            cnt = 0 # 安装墙的数量\n",
    "            stack, seen = [], set()\n",
    "            if vir_start: # 从 vir_start 开始安装隔离墙\n",
    "                stack.append(vir_start)\n",
    "                seen.add(vir_start)\n",
    "            while stack:\n",
    "                x, y = stack.pop()\n",
    "                grid[x][y] = 2 # 表示已经隔离\n",
    "                for n_x, n_y in get_neibor(x, y):\n",
    "                    if (n_x, n_y) not in seen:\n",
    "                        if grid[n_x][n_y] == 0:\n",
    "                            cnt += 1\n",
    "                        elif grid[n_x][n_y] == 1:\n",
    "                            seen.add((n_x, n_y))\n",
    "                            stack.append((n_x, n_y))\n",
    "            return cnt, grid\n",
    "        \n",
    "        walls = 0\n",
    "        rows, cols = len(grid), len(grid[0])\n",
    "        while True:\n",
    "            # 在每次安装完隔离墙之后，需要对病毒进行扩张，直到最后没有变化的时候，说明完成\n",
    "            wall, grid = get_walls(grid)\n",
    "            walls += wall\n",
    "            temp_grid = copy.deepcopy(grid)\n",
    "            new_grid = expand(grid)\n",
    "            if new_grid == temp_grid:\n",
    "                break\n",
    "            gird = new_grid\n",
    "        return walls"
   ]
  },
  {
   "cell_type": "code",
   "execution_count": 112,
   "metadata": {},
   "outputs": [
    {
     "data": {
      "text/plain": [
       "57"
      ]
     },
     "execution_count": 112,
     "metadata": {},
     "output_type": "execute_result"
    }
   ],
   "source": [
    "solution = Solution()\n",
    "solution.containVirus([[0,1,1,1,1,0,1,1,0,0],\n",
    "                       [0,0,0,0,0,0,1,1,0,0],\n",
    "                       [0,0,0,0,0,1,0,0,0,1],\n",
    "                       [0,0,1,0,0,0,0,1,0,0],\n",
    "                       [1,0,0,0,0,0,1,0,0,0],\n",
    "                       [0,0,1,1,0,1,0,0,1,0],\n",
    "                       [0,0,0,0,0,0,0,0,0,1],\n",
    "                       [0,0,0,0,0,1,1,0,0,0],\n",
    "                       [0,0,0,1,0,1,0,0,0,0],\n",
    "                       [0,0,1,0,0,0,0,0,1,0]])"
   ]
  },
  {
   "cell_type": "code",
   "execution_count": null,
   "metadata": {},
   "outputs": [],
   "source": []
  },
  {
   "cell_type": "code",
   "execution_count": null,
   "metadata": {},
   "outputs": [],
   "source": [
    "[[0, 1, 1, 1, 1, 0, 1, 1, 0, 0], \n",
    " [0, 0, 0, 0, 0, 0, 1, 1, 0, 0], \n",
    " [0, 0, 0, 0, 0, 1, 0, 0, 0, 1], \n",
    " [0, 0, 1, 0, 0, 0, 0, 1, 0, 0], \n",
    " [1, 0, 0, 0, 0, 0, 1, 0, 0, 0], \n",
    " [0, 0, 1, 1, 0, 1, 0, 0, 1, 0], \n",
    " [0, 0, 0, 0, 0, 0, 0, 0, 0, 1], \n",
    " [0, 0, 0, 0, 0, 1, 1, 0, 0, 0], \n",
    " [0, 0, 0, 1, 0, 1, 0, 0, 0, 0], \n",
    " [0, 0, 1, 0, 0, 0, 0, 0, 1, 0]]"
   ]
  },
  {
   "cell_type": "code",
   "execution_count": null,
   "metadata": {},
   "outputs": [],
   "source": [
    "[[0, 1, 0, 1, 1, 1, 1, 1, 1, 0], \n",
    " [0, 0, 0, 1, 0, 0, 0, 0, 0, 0], \n",
    " [0, 0, 1, 1, 1, 0, 0, 0, 1, 0], \n",
    " [0, 0, 0, 1, 1, 0, 0, 1, 1, 0], \n",
    " [0, 1, 0, 0, 1, 0, 1, 1, 0, 1], \n",
    " [0, 0, 0, 1, 0, 1, 0, 1, 1, 1], \n",
    " [0, 1, 0, 0, 1, 0, 0, 1, 1, 0], \n",
    " [0, 1, 0, 1, 0, 0, 0, 1, 1, 0], \n",
    " [0, 1, 1, 0, 0, 1, 1, 0, 0, 1]]"
   ]
  },
  {
   "cell_type": "code",
   "execution_count": null,
   "metadata": {},
   "outputs": [],
   "source": []
  },
  {
   "cell_type": "code",
   "execution_count": 69,
   "metadata": {},
   "outputs": [],
   "source": [
    "class Solution:\n",
    "    def containVirus(self, grid):\n",
    "        R, C = len(grid), len(grid[0])\n",
    "        def neighbors(r, c):\n",
    "            for nr, nc in ((r-1, c), (r+1, c), (r, c-1), (r, c+1)):\n",
    "                if 0 <= nr < R and 0 <= nc < C:\n",
    "                    yield nr, nc\n",
    "\n",
    "        def dfs(r, c):\n",
    "            if (r, c) not in seen:\n",
    "                seen.add((r, c))\n",
    "                regions[-1].add((r, c))\n",
    "                for nr, nc in neighbors(r, c):\n",
    "                    if grid[nr][nc] == 1:\n",
    "                        dfs(nr, nc)\n",
    "                    elif grid[nr][nc] == 0:\n",
    "                        frontiers[-1].add((nr, nc))\n",
    "                        perimeters[-1] += 1\n",
    "\n",
    "        ans = 0\n",
    "        while True:\n",
    "            # Find all regions, with associated frontiers and perimeters.\n",
    "            seen = set()\n",
    "            regions = []\n",
    "            frontiers = []\n",
    "            perimeters = []\n",
    "            for r, row in enumerate(grid):\n",
    "                for c, val in enumerate(row):\n",
    "                    if val == 1 and (r, c) not in seen:\n",
    "                        regions.append(set())\n",
    "                        frontiers.append(set())\n",
    "                        perimeters.append(0)\n",
    "                        dfs(r, c)\n",
    "\n",
    "            #If there are no regions left, break.\n",
    "            if not regions: \n",
    "                break\n",
    "\n",
    "            #Add the perimeter of the region which will infect the most squares.\n",
    "            triage_index = frontiers.index(max(frontiers, key = len))\n",
    "            ans += perimeters[triage_index]\n",
    "\n",
    "            #Triage the most infectious region, and spread the rest of the regions.\n",
    "            for i, reg in enumerate(regions):\n",
    "                if i == triage_index:\n",
    "                    for r, c in reg:\n",
    "                        grid[r][c] = -1\n",
    "                else:\n",
    "                    for r, c in reg:\n",
    "                        for nr, nc in neighbors(r, c):\n",
    "                            if grid[nr][nc] == 0:\n",
    "                                grid[nr][nc] = 1\n",
    "\n",
    "        return ans"
   ]
  },
  {
   "cell_type": "code",
   "execution_count": 70,
   "metadata": {},
   "outputs": [
    {
     "data": {
      "text/plain": [
       "38"
      ]
     },
     "execution_count": 70,
     "metadata": {},
     "output_type": "execute_result"
    }
   ],
   "source": [
    "solution = Solution()\n",
    "solution.containVirus([[0,1,0,1,1,1,1,1,1,0],\n",
    "                       [0,0,0,1,0,0,0,0,0,0],\n",
    "                       [0,0,1,1,1,0,0,0,1,0],\n",
    "                       [0,0,0,1,1,0,0,1,1,0],\n",
    "                       [0,1,0,0,1,0,1,1,0,1],\n",
    "                       [0,0,0,1,0,1,0,1,1,1],\n",
    "                       [0,1,0,0,1,0,0,1,1,0],\n",
    "                       [0,1,0,1,0,0,0,1,1,0],\n",
    "                       [0,1,1,0,0,1,1,0,0,1],\n",
    "                       ])"
   ]
  },
  {
   "cell_type": "code",
   "execution_count": null,
   "metadata": {},
   "outputs": [],
   "source": []
  },
  {
   "cell_type": "code",
   "execution_count": 94,
   "metadata": {},
   "outputs": [],
   "source": [
    "R, C = 10, 10\n",
    "def get_neibor(r, c): # 获取坐标 为 r、c的周围元素坐标\n",
    "    for nr, nc in ((r-1, c), (r+1, c), (r, c-1), (r, c+1)):\n",
    "        if 0 <= nr < R and 0 <= nc < C:\n",
    "            yield nr, nc"
   ]
  },
  {
   "cell_type": "code",
   "execution_count": 100,
   "metadata": {},
   "outputs": [
    {
     "name": "stdout",
     "output_type": "stream",
     "text": [
      "0 1\n",
      "2 1\n",
      "1 0\n",
      "1 2\n"
     ]
    }
   ],
   "source": [
    "for nr, nc in get_neibor(1, 1):\n",
    "    print(nr, nc)"
   ]
  },
  {
   "cell_type": "code",
   "execution_count": 98,
   "metadata": {},
   "outputs": [
    {
     "data": {
      "text/plain": [
       "<generator object get_neibor at 0x000002395B687B48>"
      ]
     },
     "execution_count": 98,
     "metadata": {},
     "output_type": "execute_result"
    }
   ],
   "source": [
    "a"
   ]
  },
  {
   "cell_type": "code",
   "execution_count": null,
   "metadata": {},
   "outputs": [],
   "source": []
  }
 ],
 "metadata": {
  "kernelspec": {
   "display_name": "Python 3",
   "language": "python",
   "name": "python3"
  },
  "language_info": {
   "codemirror_mode": {
    "name": "ipython",
    "version": 3
   },
   "file_extension": ".py",
   "mimetype": "text/x-python",
   "name": "python",
   "nbconvert_exporter": "python",
   "pygments_lexer": "ipython3",
   "version": "3.6.2"
  }
 },
 "nbformat": 4,
 "nbformat_minor": 4
}
