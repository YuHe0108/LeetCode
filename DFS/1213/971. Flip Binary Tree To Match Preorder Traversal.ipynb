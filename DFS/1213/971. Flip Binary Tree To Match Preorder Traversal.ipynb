{
 "cells": [
  {
   "cell_type": "code",
   "execution_count": null,
   "metadata": {},
   "outputs": [],
   "source": []
  },
  {
   "cell_type": "code",
   "execution_count": null,
   "metadata": {},
   "outputs": [],
   "source": []
  },
  {
   "cell_type": "code",
   "execution_count": null,
   "metadata": {},
   "outputs": [],
   "source": []
  },
  {
   "cell_type": "code",
   "execution_count": 2,
   "metadata": {},
   "outputs": [],
   "source": [
    "class Solution:\n",
    "    def flipMatchVoyage(self, root, voyage):       \n",
    "        def dfs(node):\n",
    "            if not node:\n",
    "                return\n",
    "            if node.val != voyage[self.idx]:\n",
    "                self.flip = [-1]\n",
    "            \n",
    "            self.idx += 1\n",
    "            if self.idx < len(voyage) and node.left and node.left.val != voyage[self.idx]:\n",
    "                self.flip.append(node.val)\n",
    "                dfs(node.right)\n",
    "                dfs(node.left)\n",
    "            else:\n",
    "                dfs(node.left)\n",
    "                dfs(node.right)\n",
    "        \n",
    "        self.idx = 0\n",
    "        self.flip = []\n",
    "        dfs(root)\n",
    "        return [-1] if self.flip and self.flip[0] == -1 else self.flip"
   ]
  },
  {
   "cell_type": "code",
   "execution_count": null,
   "metadata": {},
   "outputs": [],
   "source": []
  },
  {
   "cell_type": "code",
   "execution_count": null,
   "metadata": {},
   "outputs": [],
   "source": []
  },
  {
   "cell_type": "code",
   "execution_count": null,
   "metadata": {},
   "outputs": [],
   "source": [
    "class Solution:\n",
    "    def flipMatchVoyage(self, root, voyage):       \n",
    "        def dfs(node):\n",
    "            nonlocal res, idx\n",
    "            if not node:\n",
    "                return\n",
    "            if node.val != voyage[idx]:\n",
    "                res = [-1]\n",
    "                return\n",
    "            idx += 1\n",
    "            if idx < n and node.left and node.left.val != voyage[idx]:\n",
    "                flip.append(node.val)\n",
    "                dfs(node.right)\n",
    "                dfs(node.left)\n",
    "            else:\n",
    "                dfs(node.left)\n",
    "                dfs(node.right)\n",
    "        \n",
    "        idx = 0\n",
    "        res = []\n",
    "        n = len(voyage)\n",
    "        dfs(root)\n",
    "        return [-1] if res and res[0] == -1 else res"
   ]
  }
 ],
 "metadata": {
  "kernelspec": {
   "display_name": "Python 3",
   "language": "python",
   "name": "python3"
  },
  "language_info": {
   "codemirror_mode": {
    "name": "ipython",
    "version": 3
   },
   "file_extension": ".py",
   "mimetype": "text/x-python",
   "name": "python",
   "nbconvert_exporter": "python",
   "pygments_lexer": "ipython3",
   "version": "3.6.2"
  }
 },
 "nbformat": 4,
 "nbformat_minor": 4
}
