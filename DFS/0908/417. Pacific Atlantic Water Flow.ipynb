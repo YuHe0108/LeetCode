{
 "cells": [
  {
   "cell_type": "raw",
   "metadata": {},
   "source": [
    "说明：\n",
    "    给定一个m×n的非负整数矩阵，该矩阵表示一个大陆中每个单位单元的高度，\n",
    "    “太平洋”触摸矩阵的左边缘和上边缘，“大西洋”触摸右边缘和下边缘。\n",
    "    水只能从四个方向（上，下，左或右）从一个单元流向另一个高度等于或更低的单元。\n",
    "    查找水可以流向太平洋和大西洋的网格坐标列表。\n",
    "    \n",
    "注意：\n",
    "    返回的网格坐标的顺序无关紧要。 m和n均小于150。\n",
    "\n",
    "\n",
    "Example:\n",
    "\n",
    "Given the following 5x5 matrix:\n",
    "\n",
    "                 Pacific  ~   ~   ~   ~   ~ \n",
    "                       ~  1   2   2   3  (5) *\n",
    "                       ~  3   2   3  (4) (4) *\n",
    "                       ~  2   4  (5)  3   1  *\n",
    "                       ~ (6) (7)  1   4   5  *\n",
    "                       ~ (5)  1   1   2   4  *\n",
    "                          *   *   *   *   *   Atlantic\n",
    "\n",
    "Return:\n",
    "    [[0, 4], [1, 3], [1, 4], [2, 2], [3, 0], [3, 1], [4, 0]] (positions with parentheses in above matrix)."
   ]
  },
  {
   "cell_type": "code",
   "execution_count": 26,
   "metadata": {},
   "outputs": [],
   "source": [
    "class Solution:\n",
    "    def pacificAtlantic(self, mat):\n",
    "        # 矩阵的斜对角上的两个值天然满足条件：\n",
    "        # 1、左下角坐标：(rows-1, 0), 右上角坐标：(0, cols-1)\n",
    "        # 2、如果在矩阵的四条边上，\n",
    "        #    row = 0: 右、下条件之一\n",
    "        #    col = 0：右、下条件之一\n",
    "        #    row = rows - 1：左、上 条件之一\n",
    "        #    col = cols - 1：左、上 条件之一\n",
    "        # 3、如果在矩阵的中间：需要满足（上，右） 或者 (上，下) 或者 (左，右) 或者 （左，下）条件之一接口\n",
    "        if not mat: return []\n",
    "        res = []\n",
    "        rows, cols = len(mat), len(mat[0])\n",
    "        col_vals = {}\n",
    "        for row in range(rows):\n",
    "            for col in range(cols):\n",
    "                if col not in col_vals:\n",
    "                    col_vals[col] = [mat[row][col]]\n",
    "                else:\n",
    "                    col_vals[col].append(mat[row][col])\n",
    "        col_vals = [x for x in col_vals.values()]\n",
    "        print(col_vals)"
   ]
  },
  {
   "cell_type": "code",
   "execution_count": null,
   "metadata": {},
   "outputs": [],
   "source": []
  },
  {
   "cell_type": "code",
   "execution_count": null,
   "metadata": {},
   "outputs": [],
   "source": []
  },
  {
   "cell_type": "code",
   "execution_count": 5,
   "metadata": {},
   "outputs": [],
   "source": [
    "class Solution:\n",
    "    def pacificAtlantic(self, matrix):\n",
    "        if not matrix or not matrix[0]:return []\n",
    "        m, n = len(matrix),len(matrix[0])\n",
    "        p_visited = set()\n",
    "        a_visited = set()\n",
    "        directions = [(-1, 0), (1, 0), (0, 1), (0, -1)]\n",
    "        def dfs(visited, x,y):\n",
    "            visited.add((x,y))\n",
    "            for dx, dy in directions:\n",
    "                new_x, new_y = x+dx, y+dy\n",
    "                if 0<=new_x<m and 0<=new_y<n and (new_x,new_y) not in visited and matrix[new_x][new_y]>=matrix[x][y]:\n",
    "                    dfs(visited, new_x,new_y)\n",
    "        #iterate from left border and right border\n",
    "        for i in range(m):\n",
    "            dfs(p_visited,i,0)\n",
    "            dfs(a_visited,i,n-1)\n",
    "        #iterate from up border and bottom border\n",
    "        for j in range(n):\n",
    "            dfs(p_visited,0,j)\n",
    "            dfs(a_visited,m-1,j)\n",
    "        #The intersections of two sets are coordinates where water can flow to both P and A\n",
    "        print(p_visited, 'p')\n",
    "        print(a_visited, 'a')\n",
    "        return list(p_visited.intersection(a_visited))"
   ]
  },
  {
   "cell_type": "code",
   "execution_count": 6,
   "metadata": {},
   "outputs": [
    {
     "name": "stdout",
     "output_type": "stream",
     "text": [
      "{(0, 1), (1, 2), (0, 0), (1, 3), (3, 0), (0, 2), (3, 1), (4, 0), (2, 1), (1, 4), (2, 0), (0, 4), (2, 2), (1, 0), (1, 1), (0, 3)} p\n",
      "{(4, 1), (1, 3), (3, 2), (3, 3), (3, 0), (2, 2), (4, 4), (3, 1), (1, 4), (2, 3), (4, 3), (0, 4), (4, 2), (3, 4), (2, 4), (4, 0)} a\n"
     ]
    },
    {
     "data": {
      "text/plain": [
       "[(1, 3), (3, 0), (3, 1), (1, 4), (0, 4), (2, 2), (4, 0)]"
      ]
     },
     "execution_count": 6,
     "metadata": {},
     "output_type": "execute_result"
    }
   ],
   "source": [
    "mat = [[1,2,2,3,5], [3,2,3,4,4], [2,4,5,3,1], [6,7,1,4,5], [5,1,1,2,4]]\n",
    "solution = Solution()\n",
    "solution.pacificAtlantic(mat)"
   ]
  },
  {
   "cell_type": "code",
   "execution_count": null,
   "metadata": {},
   "outputs": [],
   "source": []
  },
  {
   "cell_type": "code",
   "execution_count": null,
   "metadata": {},
   "outputs": [],
   "source": []
  },
  {
   "cell_type": "code",
   "execution_count": 11,
   "metadata": {},
   "outputs": [],
   "source": [
    "class Solution:\n",
    "    def pacificAtlantic(self, mat):\n",
    "        if not mat or not mat[0]: return []\n",
    "        rows, cols = len(mat), len(mat[0])\n",
    "        p_seen = set()\n",
    "        a_seen = set()\n",
    "        direcs = [(-1, 0), (1, 0), (0, 1), (0, -1)]\n",
    "        \n",
    "        def dfs(seen, x, y):\n",
    "            seen.add((x, y))\n",
    "            for dx, dy in direcs:\n",
    "                new_x, new_y = x+dx, y+dy\n",
    "                if 0<= new_x <rows and 0<= new_y <cols and (new_x, new_y) not in seen and mat[new_x][new_y] >= mat[x][y]:\n",
    "                    dfs(seen, new_x, new_y)\n",
    "             \n",
    "        for i in range(rows):\n",
    "            dfs(p_seen, i, 0) # 左\n",
    "            dfs(a_seen, i, cols-1) # 右\n",
    "\n",
    "        for j in range(cols):\n",
    "            dfs(p_seen, 0, j) # 上\n",
    "            dfs(a_seen, rows-1, j) # 下\n",
    "\n",
    "        return list(p_seen.intersection(a_seen))"
   ]
  },
  {
   "cell_type": "code",
   "execution_count": null,
   "metadata": {},
   "outputs": [],
   "source": []
  },
  {
   "cell_type": "code",
   "execution_count": 12,
   "metadata": {},
   "outputs": [
    {
     "name": "stdout",
     "output_type": "stream",
     "text": [
      "{(0, 1), (1, 2), (0, 0), (1, 3), (3, 0), (0, 2), (3, 1), (4, 0), (2, 1), (1, 4), (2, 0), (0, 4), (2, 2), (1, 0), (1, 1), (0, 3)}\n",
      "{(1, 3), (3, 3), (2, 2), (4, 4), (1, 4), (2, 3), (0, 4), (3, 4), (2, 4)}\n",
      "{(0, 1), (1, 2), (0, 0), (1, 3), (3, 0), (0, 2), (3, 1), (4, 0), (2, 1), (1, 4), (2, 0), (0, 4), (2, 2), (1, 0), (1, 1), (0, 3)}\n",
      "{(4, 1), (1, 3), (3, 2), (3, 3), (3, 0), (2, 2), (4, 4), (3, 1), (1, 4), (2, 3), (4, 3), (0, 4), (4, 2), (3, 4), (2, 4), (4, 0)}\n"
     ]
    },
    {
     "data": {
      "text/plain": [
       "[(1, 3), (3, 0), (3, 1), (1, 4), (0, 4), (2, 2), (4, 0)]"
      ]
     },
     "execution_count": 12,
     "metadata": {},
     "output_type": "execute_result"
    }
   ],
   "source": [
    "mat = [[1,2,2,3,5], [3,2,3,4,4], [2,4,5,3,1], [6,7,1,4,5], [5,1,1,2,4]]\n",
    "solution = Solution()\n",
    "solution.pacificAtlantic(mat)"
   ]
  },
  {
   "cell_type": "code",
   "execution_count": null,
   "metadata": {},
   "outputs": [],
   "source": []
  },
  {
   "cell_type": "code",
   "execution_count": null,
   "metadata": {},
   "outputs": [],
   "source": []
  },
  {
   "cell_type": "code",
   "execution_count": null,
   "metadata": {},
   "outputs": [],
   "source": [
    "{(0, 0), (0, 1), (0, 2), (0, 3), (0, 4),\n",
    " (1, 0), (1, 1), (1, 2), (1, 3), (1, 4),\n",
    " (2, 0), (2, 1), (2, 2),\n",
    " (3, 0), (3, 1), \n",
    " (4, 0),}"
   ]
  }
 ],
 "metadata": {
  "kernelspec": {
   "display_name": "Python 3",
   "language": "python",
   "name": "python3"
  },
  "language_info": {
   "codemirror_mode": {
    "name": "ipython",
    "version": 3
   },
   "file_extension": ".py",
   "mimetype": "text/x-python",
   "name": "python",
   "nbconvert_exporter": "python",
   "pygments_lexer": "ipython3",
   "version": "3.6.2"
  }
 },
 "nbformat": 4,
 "nbformat_minor": 4
}
