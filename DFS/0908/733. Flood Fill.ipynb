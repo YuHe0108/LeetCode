{
 "cells": [
  {
   "cell_type": "raw",
   "metadata": {},
   "source": [
    "说明：\n",
    "    图像由二维整数数组表示，每个整数代表图像的像素值（从0到65535）。\n",
    "    给定一个坐标（sr，sc）表示泛洪填充的起始像素（行和列），以及像素值newColor，“泛洪填充”图像。\n",
    "    要执行“整体填充”，请考虑起始像素，加上与起始像素具有相同颜色的4方向连接的任何像素，\n",
    "    加上与这些像素4方向连接的任何像素（也具有与起始像素相同的颜色），依此类推。\n",
    "    将上述所有像素的颜色替换为新颜色。\n",
    "    最后，返回修改后的图像。\n",
    "\n",
    "Example 1:\n",
    "    Input: \n",
    "        image = [[1,1,1],\n",
    "                 [1,1,0],\n",
    "                 [1,0,1]]\n",
    "        sr = 1, sc = 1, newColor = 2\n",
    "    Output: [[2,2,2],\n",
    "             [2,2,0],\n",
    "             [2,0,1]]\n",
    "    \n",
    "Explanation: \n",
    "    From the center of the image (with position (sr, sc) = (1, 1)), all pixels connected \n",
    "    by a path of the same color as the starting pixel are colored with the new color.\n",
    "    Note the bottom corner is not colored 2, because it is not 4-directionally connected\n",
    "    to the starting pixel.\n",
    "\n",
    "Note:\n",
    "    1、The length of image and image[0] will be in the range [1, 50].\n",
    "    2、The given starting pixel will satisfy 0 <= sr < image.length and 0 <= sc < image[0].length.\n",
    "    3、The value of each color in image[i][j] and newColor will be an integer in [0, 65535]."
   ]
  },
  {
   "cell_type": "markdown",
   "metadata": {},
   "source": [
    "<img src='733.jpg' width=600>"
   ]
  },
  {
   "cell_type": "code",
   "execution_count": 1,
   "metadata": {},
   "outputs": [],
   "source": [
    "class Solution:\n",
    "    def floodFill(self, image, sr: int, sc: int, newColor: int):\n",
    "        rows = len(image)\n",
    "        cols = len(image[0])\n",
    "        s_color = image[sr][sc]\n",
    "        if s_color == newColor: return image\n",
    "        def dfs(sr, sc):\n",
    "            if image[sr][sc] == s_color:\n",
    "                image[sr][sc] = newColor\n",
    "                if sr >= 1: dfs(sr - 1, sc)\n",
    "                if sr + 1 < rows: dfs(sr + 1, sc)\n",
    "                if sc >= 1: dfs(sr, sc - 1)\n",
    "                if sc + 1 < cols: dfs(sr, sc + 1)\n",
    "\n",
    "        dfs(sr, sc)\n",
    "        return image"
   ]
  },
  {
   "cell_type": "code",
   "execution_count": null,
   "metadata": {},
   "outputs": [],
   "source": []
  },
  {
   "cell_type": "code",
   "execution_count": 10,
   "metadata": {},
   "outputs": [
    {
     "data": {
      "text/plain": [
       "[[2, 2]]"
      ]
     },
     "execution_count": 10,
     "metadata": {},
     "output_type": "execute_result"
    }
   ],
   "source": [
    "a"
   ]
  }
 ],
 "metadata": {
  "kernelspec": {
   "display_name": "Python 3",
   "language": "python",
   "name": "python3"
  },
  "language_info": {
   "codemirror_mode": {
    "name": "ipython",
    "version": 3
   },
   "file_extension": ".py",
   "mimetype": "text/x-python",
   "name": "python",
   "nbconvert_exporter": "python",
   "pygments_lexer": "ipython3",
   "version": "3.6.2"
  }
 },
 "nbformat": 4,
 "nbformat_minor": 4
}
