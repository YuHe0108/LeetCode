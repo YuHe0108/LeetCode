{
 "cells": [
  {
   "cell_type": "raw",
   "metadata": {},
   "source": [
    "说明：\n",
    "    给定一个包含“ X”和“ O”（字母O）的2D板，捕获被“ X”包围的所有区域。\n",
    "    通过将周围区域中的所有“ O”翻转为“ X”来捕获区域。\n",
    "    Example:\n",
    "        X X X X\n",
    "        X O O X\n",
    "        X X O X\n",
    "        X O X X\n",
    "\n",
    "    After running your function, the board should be:\n",
    "        X X X X\n",
    "        X X X X\n",
    "        X X X X\n",
    "        X O X X\n",
    "\n",
    "说明：\n",
    "    包围的区域不应位于边界上，这意味着边界上的任何“ O”都不会翻转为“ X”。\n",
    "    任何不在边界上并且未与边界上的“ O”相连的“ O”将被翻转为“ X”。\n",
    "    如果两个单元是水平或垂直连接的相邻单元，则它们将被连接。"
   ]
  },
  {
   "cell_type": "code",
   "execution_count": 2,
   "metadata": {},
   "outputs": [],
   "source": [
    "class Solution:\n",
    "    def solve(self, board) -> None:\n",
    "        def fillWithX(x , y):\n",
    "            if x < 0 or x >= rows or y < 0 or y >= cols:\n",
    "                return\n",
    "            if board[x][y] == 'O':\n",
    "                board[x][y] = \"-1\"\n",
    "                fillWithX(x - 1, y)\n",
    "                fillWithX(x + 1, y)\n",
    "                fillWithX(x, y - 1)\n",
    "                fillWithX(x, y + 1)\n",
    "        \n",
    "        if not board:\n",
    "            return []\n",
    "        rows, cols = len(board), len(board[0])\n",
    "        \n",
    "        for i in range(rows):\n",
    "            fillWithX(i, 0)\n",
    "            fillWithX(i, col - 1)\n",
    "        \n",
    "        for j in range(cols):\n",
    "            fillWithX(0, j)\n",
    "            fillWithX(row - 1, j)\n",
    "        \n",
    "        for i in range(row):\n",
    "            for j in range(col):\n",
    "                if board[i][j] == 'O':\n",
    "                    board[i][j] == 'X'\n",
    "                elif board[i][j] == '-1':\n",
    "                    board[i][j] == 'O'"
   ]
  },
  {
   "cell_type": "code",
   "execution_count": 27,
   "metadata": {},
   "outputs": [],
   "source": [
    "class Solution:\n",
    "    def solve(self, board) -> None:\n",
    "        if not board: return \n",
    "        rows, cols = len(board), len(board[0])\n",
    "        stacks = [] # 存储了四条边界中含有‘O’的坐标值\n",
    "        \n",
    "        #　先找到四个边中有　“Ｏ”　的坐标值，并记录\n",
    "        for i in range(rows):\n",
    "            if board[i][0] == 'O':\n",
    "                stacks.append((i, 0)) # 第一列的每一行\n",
    "            if board[i][cols-1] == 'O':\n",
    "                stacks.append((i, cols-1)) # 最后一列的每一行\n",
    "        \n",
    "        # board的四个角已经遍历过，直接从中间开始遍历\n",
    "        for j in range(1, cols - 1):\n",
    "            if board[0][j] == 'O': # 第一行的每一列\n",
    "                stacks.append((0, j))\n",
    "            if board[rows-1][j] == 'O': # 最后一行的每一列\n",
    "                stacks.append((rows-1, j))\n",
    "        \n",
    "        while stacks:\n",
    "            i, j = stacks.pop()\n",
    "            if 0 <= i < rows and 0 <= j < cols and board[i][j] == 'O':\n",
    "                board[i][j] = '#'\n",
    "                stacks += (i, j-1), (i, j+1), (i+1, j), (i-1, j)\n",
    "        \n",
    "        for row in range(rows):\n",
    "            for col in range(cols):\n",
    "                if board[row][col] == 'O':\n",
    "                    board[row][col] = 'X'\n",
    "                elif board[row][col] == '#':\n",
    "                    board[row][col] = 'O'\n",
    "        print(board)"
   ]
  },
  {
   "cell_type": "code",
   "execution_count": 28,
   "metadata": {},
   "outputs": [
    {
     "name": "stdout",
     "output_type": "stream",
     "text": [
      "[['X', 'X', 'X', 'X'], ['X', 'X', 'X', 'X'], ['X', 'X', 'X', 'X'], ['X', 'O', 'X', 'X']]\n"
     ]
    }
   ],
   "source": [
    "board_ = [[\"X\",\"X\",\"X\",\"X\"],\n",
    "          [\"X\",\"O\",\"O\",\"X\"],\n",
    "          [\"X\",\"X\",\"O\",\"X\"],\n",
    "          [\"X\",\"O\",\"X\",\"X\"]]\n",
    "solution = Solution()\n",
    "solution.solve(board_)"
   ]
  },
  {
   "cell_type": "code",
   "execution_count": null,
   "metadata": {},
   "outputs": [],
   "source": [
    "class Solution:\n",
    "    def solve(self, board: List[List[str]]) -> None:\n",
    "        \"\"\"\n",
    "        Do not return anything, modify board in-place instead.\n",
    "        \"\"\"\n",
    "        if not board: return \n",
    "        rows, cols = len(board), len(board[0])\n",
    "        stacks = []\n",
    "        \n",
    "        for i in range(rows):\n",
    "            if board[i][0] == 'O':\n",
    "                stacks.append([i, 0])\n",
    "            if board[i][cols-1] == 'O':\n",
    "                stacks.append([i, cols-1])\n",
    "        \n",
    "        for j in range(1, cols-1):\n",
    "            if board[0][j] == 'O':\n",
    "                stacks.append([0, j])\n",
    "            if board[rows-1][j] == 'O':\n",
    "                stacks.append([rows-1, j])\n",
    "        \n",
    "        while stacks:\n",
    "            i, j = stacks.pop()\n",
    "            if 0 <= i < rows and 0 <= j < cols and board[i][j] == 'O':\n",
    "                board[i][j] = '#'\n",
    "                stacks += [i+1, j], [i-1, j], [i, j+1], [i, j-1]\n",
    "        \n",
    "        for row in range(rows):\n",
    "            for col in range(cols):\n",
    "                if board[row][col] == 'O':\n",
    "                    board[row][col] = 'X'\n",
    "                elif board[row][col] == '#':\n",
    "                    board[row][col] = 'O'"
   ]
  }
 ],
 "metadata": {
  "kernelspec": {
   "display_name": "Python 3",
   "language": "python",
   "name": "python3"
  },
  "language_info": {
   "codemirror_mode": {
    "name": "ipython",
    "version": 3
   },
   "file_extension": ".py",
   "mimetype": "text/x-python",
   "name": "python",
   "nbconvert_exporter": "python",
   "pygments_lexer": "ipython3",
   "version": "3.6.2"
  }
 },
 "nbformat": 4,
 "nbformat_minor": 4
}
