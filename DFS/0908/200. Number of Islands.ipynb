{
 "cells": [
  {
   "cell_type": "raw",
   "metadata": {},
   "source": [
    "说明：\n",
    "    给定二维地图 “1”（土地）和 “0”（水），计算岛屿的数量。\n",
    "    岛屿被水包围，是通过水平或垂直连接相邻的土地而形成的。\n",
    "    您可以假定网格的所有四个边缘都被水包围。\n",
    "\n",
    "Example 1:\n",
    "    Input: grid = [\n",
    "                      [\"1\",\"1\",\"1\",\"1\",\"0\"],\n",
    "                      [\"1\",\"1\",\"0\",\"1\",\"0\"],\n",
    "                      [\"1\",\"1\",\"0\",\"0\",\"0\"],\n",
    "                      [\"0\",\"0\",\"0\",\"0\",\"0\"]\n",
    "                  ]\n",
    "    Output: 1\n",
    "    \n",
    "Example 2:\n",
    "    Input: grid = [\n",
    "                      [\"1\",\"1\",\"0\",\"0\",\"0\"],\n",
    "                      [\"1\",\"1\",\"0\",\"0\",\"0\"],\n",
    "                      [\"0\",\"0\",\"1\",\"0\",\"0\"],\n",
    "                      [\"0\",\"0\",\"0\",\"1\",\"1\"]\n",
    "                  ]\n",
    "    Output: 3"
   ]
  },
  {
   "cell_type": "markdown",
   "metadata": {},
   "source": [
    "<img src='200.jpg' width=700>"
   ]
  },
  {
   "cell_type": "code",
   "execution_count": 7,
   "metadata": {},
   "outputs": [],
   "source": [
    "class Solution:\n",
    "    def numIslands(self, grid) -> int:\n",
    "        def dfs(row, col):\n",
    "            stacks = [(row, col)]\n",
    "            while stacks:\n",
    "                i, j = stacks.pop()\n",
    "                grid[i][j] = '0'\n",
    "                if i > 0 and grid[i-1][j] == '1': stacks.append((i-1, j))\n",
    "                if i + 1 < rows and grid[i+1][j] == '1': stacks.append((i+1, j))\n",
    "                if j > 0 and grid[i][j-1] == '1': stacks.append((i, j-1))\n",
    "                if j + 1 < cols and grid[i][j+1] == '1': stacks.append((i, j+1))\n",
    "        \n",
    "        if not grid: return 0\n",
    "        rows = len(grid)\n",
    "        cols = len(grid[0])\n",
    "        count = 0\n",
    "        for row in range(rows):\n",
    "            for col in range(cols):\n",
    "                if grid[row][col] == '1':\n",
    "                    dfs(row, col)\n",
    "                    count += 1\n",
    "        return count"
   ]
  },
  {
   "cell_type": "code",
   "execution_count": 8,
   "metadata": {},
   "outputs": [
    {
     "data": {
      "text/plain": [
       "1"
      ]
     },
     "execution_count": 8,
     "metadata": {},
     "output_type": "execute_result"
    }
   ],
   "source": [
    "grid_ = [\n",
    "          [\"1\",\"1\",\"1\",\"1\",\"0\"],\n",
    "          [\"1\",\"1\",\"0\",\"1\",\"0\"],\n",
    "          [\"1\",\"1\",\"0\",\"0\",\"0\"],\n",
    "          [\"0\",\"0\",\"0\",\"0\",\"0\"]\n",
    "        ]\n",
    "solution = Solution()\n",
    "solution.numIslands(grid_)"
   ]
  },
  {
   "cell_type": "code",
   "execution_count": null,
   "metadata": {},
   "outputs": [],
   "source": []
  }
 ],
 "metadata": {
  "kernelspec": {
   "display_name": "Python 3",
   "language": "python",
   "name": "python3"
  },
  "language_info": {
   "codemirror_mode": {
    "name": "ipython",
    "version": 3
   },
   "file_extension": ".py",
   "mimetype": "text/x-python",
   "name": "python",
   "nbconvert_exporter": "python",
   "pygments_lexer": "ipython3",
   "version": "3.6.2"
  }
 },
 "nbformat": 4,
 "nbformat_minor": 4
}
