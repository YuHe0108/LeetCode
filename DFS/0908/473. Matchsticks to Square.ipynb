{
 "cells": [
  {
   "cell_type": "raw",
   "metadata": {},
   "source": [
    "说明：\n",
    "    还记得小火柴女郎的故事吗？到目前为止，您确切地知道了小火柴女孩拥有的火柴棍，请找出一种可以用尽所有火柴棍来制作一个正方形的方法。\n",
    "    您不应该折断任何木棍，但可以将它们链接起来，并且每个火柴棍必须完全使用一次。\n",
    "    您输入的内容将是女孩拥有的多个火柴，并以其火柴长度表示。\n",
    "    您的输出将为true或false，\n",
    "    以表示您是否可以使用小火柴女孩所拥有的所有火柴来制作一个正方形。\n",
    "\n",
    "Example 1:\n",
    "    Input: [1,1,2,2,2]\n",
    "    Output: true\n",
    "    Explanation: You can form a square with length 2, one side of the square came two sticks with length 1.\n",
    "\n",
    "Example 2:\n",
    "    Input: [3,3,3,3,4]\n",
    "    Output: false\n",
    "    Explanation: You cannot find a way to form a square with all the matchsticks.\n",
    "\n",
    "注：\n",
    "    1、给定火柴棒的长度和在0到10^9之间。\n",
    "    2、给定火柴棒数组的长度不会超过15。"
   ]
  },
  {
   "cell_type": "code",
   "execution_count": 92,
   "metadata": {},
   "outputs": [],
   "source": [
    "class Solution:\n",
    "    def makesquare(self, nums) -> bool:\n",
    "        if not nums or len(nums) < 4: return False\n",
    "        if sum(nums) % 4 != 0: return False\n",
    "        \n",
    "        # 可能构成正方形的边长\n",
    "        seen = {}\n",
    "        for i, num in enumerate(nums):\n",
    "            residual = nums[:i] + nums[i+1:]\n",
    "            if num not in seen and sum(residual) % 3 == 0 and sum(residual) // 3 == num:\n",
    "                seen[num] = sorted(residual)\n",
    "                \n",
    "        def dfs(n, r_n, pos, temp, cnt, visited):\n",
    "            if cnt == 4 and pos == len(r_n) - 1: return True\n",
    "            if temp == r_n: return dfs(n, r_n, 0, 0, cnt+1, visited)\n",
    "            if temp > n: return False\n",
    "            for i in range(pos, len(r_n)):\n",
    "                if i in visited:\n",
    "                    continue\n",
    "                if i > 0 and r_n[i] == r_n[i-1] and not visited[i-1]:\n",
    "                    continue\n",
    "                visited[i] = True\n",
    "                if dfs(n, r_n, pos+1, temp+r_n[i], cnt+1, visited):\n",
    "                    return True\n",
    "                visited[i] = False\n",
    "            return False\n",
    "        \n",
    "        poss = []\n",
    "        for key, val in seen.items():\n",
    "            poss.append(dfs(key, val, 0, 0, 1, dict()))\n",
    "        print(poss)\n",
    "        return any(poss)"
   ]
  },
  {
   "cell_type": "code",
   "execution_count": 101,
   "metadata": {},
   "outputs": [],
   "source": [
    "class Solution:\n",
    "    def makesquare(self, nums) -> bool:\n",
    "        if not nums or len(nums) < 4: return False\n",
    "        if sum(nums) % 4 != 0: return False\n",
    "        nums.sort()\n",
    "        \n",
    "        def dfs(arr, pos, tag, temp, cnt, visited):\n",
    "            # visited 表示可以用于正方形的边长\n",
    "            if cnt == 4: return True\n",
    "            if temp == tag: return dfs(arr, 0, tag, 0, cnt+1, visited)\n",
    "            if temp > tag: return False\n",
    "            for i in range(pos, len(arr)):\n",
    "                if visited[i]: continue\n",
    "                if i > 0 and nums[i] == nums[i-1] and not visited[i-1]: \n",
    "                    continue\n",
    "                visited[i] = True\n",
    "                if dfs(nums, i+1, tag, temp+arr[i], cnt, visited):\n",
    "                    return True\n",
    "                visited[i] = False\n",
    "            return False\n",
    "        \n",
    "        return dfs(nums, 0, sum(nums)//4, 0, 1, [False] * len(nums))"
   ]
  },
  {
   "cell_type": "code",
   "execution_count": 100,
   "metadata": {},
   "outputs": [
    {
     "data": {
      "text/plain": [
       "True"
      ]
     },
     "execution_count": 100,
     "metadata": {},
     "output_type": "execute_result"
    }
   ],
   "source": [
    "nums_ = [1,1,1,1,2,2]\n",
    "solution = Solution()\n",
    "solution.makesquare(nums_)"
   ]
  },
  {
   "cell_type": "code",
   "execution_count": 15,
   "metadata": {},
   "outputs": [
    {
     "name": "stdout",
     "output_type": "stream",
     "text": [
      "False\n"
     ]
    }
   ],
   "source": [
    "nums = [1, 1, 1, 2]\n",
    "print(sum(nums) // 4 * 4 == sum(nums))"
   ]
  },
  {
   "cell_type": "code",
   "execution_count": null,
   "metadata": {},
   "outputs": [],
   "source": []
  }
 ],
 "metadata": {
  "kernelspec": {
   "display_name": "Python 3",
   "language": "python",
   "name": "python3"
  },
  "language_info": {
   "codemirror_mode": {
    "name": "ipython",
    "version": 3
   },
   "file_extension": ".py",
   "mimetype": "text/x-python",
   "name": "python",
   "nbconvert_exporter": "python",
   "pygments_lexer": "ipython3",
   "version": "3.6.2"
  }
 },
 "nbformat": 4,
 "nbformat_minor": 4
}
