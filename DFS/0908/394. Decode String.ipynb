{
 "cells": [
  {
   "cell_type": "raw",
   "metadata": {},
   "source": [
    "说明：\n",
    "    给定一个编码字符串，返回其解码字符串。编码规则是：k[encoded_string]，\n",
    "    其中方括号内的encode_string被精确地重复k次。\n",
    "    注意，保证k为正整数。您可以假设输入字符串始终有效；没有多余的空格，方括号格式正确等。\n",
    "    此外，您可以假定原始数据不包含任何数字，并且这些数字仅适用于那些重复数字k。\n",
    "    例如，不会输入3a或2[4]。\n",
    "\n",
    "Example 1:\n",
    "    Input: s = \"3[a]2[bc]\"\n",
    "    Output: \"aaabcbc\"\n",
    "\n",
    "Example 2:\n",
    "    Input: s = \"3[a2[c]]\"\n",
    "    Output: \"accaccacc\"\n",
    "\n",
    "Example 3:\n",
    "    Input: s = \"2[abc]3[cd]ef\"\n",
    "    Output: \"abcabccdcdcdef\"\n",
    "\n",
    "Example 4:\n",
    "    Input: s = \"abc3[cd]xyz\"\n",
    "    Output: \"abccdcdcdxyz\""
   ]
  },
  {
   "cell_type": "markdown",
   "metadata": {},
   "source": [
    "<img src='394.jpg' width=600>"
   ]
  },
  {
   "cell_type": "code",
   "execution_count": 24,
   "metadata": {},
   "outputs": [],
   "source": [
    "class Solution:\n",
    "    def decodeString(self, s: str) -> str:\n",
    "        if not s: return s\n",
    "        \n",
    "        stack_str = []\n",
    "        stack_vals = []\n",
    "        curr_val = 0\n",
    "        \n",
    "        for val in s:\n",
    "            if val.isdigit():\n",
    "                curr_val = curr_val * 10 + int(val)\n",
    "            elif val == '[':\n",
    "                if curr_val != 0:\n",
    "                    stack_vals.append(curr_val)\n",
    "                    curr_val = 0\n",
    "                curr_str = ''\n",
    "                num_occur = stack_vals.pop()\n",
    "                while len(stack_str):\n",
    "                    elem = stack_str.pop()\n",
    "                    if elem == '[':\n",
    "                        stack_str.append(curr_str )\n",
    "                \n",
    "        "
   ]
  },
  {
   "cell_type": "code",
   "execution_count": 32,
   "metadata": {},
   "outputs": [],
   "source": [
    "class Solution:\n",
    "    def decodeString(self, s: str) -> str:\n",
    "        stack = []\n",
    "        a, d = '', ''\n",
    "        for letter in s:\n",
    "            if letter.isdigit():\n",
    "                d += letter\n",
    "            elif letter.isalpha():\n",
    "                a += letter\n",
    "            elif letter == '[':\n",
    "                stack.append((a, int(d)))\n",
    "                a, d = '', ''\n",
    "            elif letter == ']':\n",
    "                p, n = stack.pop()\n",
    "                a = p + a * n\n",
    "        return a"
   ]
  },
  {
   "cell_type": "code",
   "execution_count": null,
   "metadata": {},
   "outputs": [],
   "source": []
  },
  {
   "cell_type": "code",
   "execution_count": null,
   "metadata": {},
   "outputs": [],
   "source": []
  },
  {
   "cell_type": "code",
   "execution_count": 34,
   "metadata": {},
   "outputs": [],
   "source": [
    "class Solution:\n",
    "    def decodeString(self, s: str) -> str:\n",
    "        alpha, digit = '', '' # 为什么digit取字符串，因为如果 s='100'的话，需要进行进行拼接操作\n",
    "        stack = []\n",
    "        for w in s:\n",
    "            if w.isdigit():\n",
    "                digit += w\n",
    "            elif w.isalpha():\n",
    "                alpha += w\n",
    "            elif w == '[':\n",
    "                stack.append((alpha, int(digit)))\n",
    "                alpha, digit = '', ''\n",
    "            elif w == ']':\n",
    "                a, d = stack.pop()\n",
    "                alpha = a + d * alpha\n",
    "        return alpha"
   ]
  },
  {
   "cell_type": "code",
   "execution_count": 35,
   "metadata": {},
   "outputs": [
    {
     "data": {
      "text/plain": [
       "'abccdcdcdxyz'"
      ]
     },
     "execution_count": 35,
     "metadata": {},
     "output_type": "execute_result"
    }
   ],
   "source": [
    "s_ = 'abc3[cd]xyz'\n",
    "solution = Solution()\n",
    "solution.decodeString(s_)"
   ]
  },
  {
   "cell_type": "code",
   "execution_count": null,
   "metadata": {},
   "outputs": [],
   "source": []
  }
 ],
 "metadata": {
  "kernelspec": {
   "display_name": "Python 3",
   "language": "python",
   "name": "python3"
  },
  "language_info": {
   "codemirror_mode": {
    "name": "ipython",
    "version": 3
   },
   "file_extension": ".py",
   "mimetype": "text/x-python",
   "name": "python",
   "nbconvert_exporter": "python",
   "pygments_lexer": "ipython3",
   "version": "3.6.2"
  }
 },
 "nbformat": 4,
 "nbformat_minor": 4
}
