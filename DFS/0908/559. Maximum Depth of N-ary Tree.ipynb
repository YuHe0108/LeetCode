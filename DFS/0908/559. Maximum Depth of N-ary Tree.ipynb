{
 "cells": [
  {
   "cell_type": "raw",
   "metadata": {},
   "source": [
    "说明：\n",
    "    给定n元树，求其最大深度。\n",
    "    最大深度是从根节点向下到最远叶节点的最长路径上的节点数。\n",
    "    每棵树的输入序列化都是在它们的级顺序遍历中表示的，每组子级用null值分隔（参见示例）。\n",
    "\n",
    "约束：\n",
    "    1、n元树的深度小于或等于1000。\n",
    "    2、节点总数在[0，10 ^ 4]之间。"
   ]
  },
  {
   "cell_type": "markdown",
   "metadata": {},
   "source": [
    "<img src='559.jpg' width=550>\n",
    "    \n",
    "    Input: root = [1,null,2,3,4,5,null,null,6,7,null,8,null,9,10,null,null,11,null,12,null,13,null,null,14]\n",
    "    Output: 5"
   ]
  },
  {
   "cell_type": "code",
   "execution_count": 1,
   "metadata": {},
   "outputs": [],
   "source": [
    "# Definition for a Node.\n",
    "class Node:\n",
    "    def __init__(self, val=None, children=None):\n",
    "        self.val = val\n",
    "        self.children = children\n",
    "\n",
    "class Solution:\n",
    "    def maxDepth(self, root: 'Node') -> int:\n",
    "        if not root: return 0\n",
    "        nodes = [root]\n",
    "        vals = []\n",
    "        while nodes:\n",
    "            temp_nodes = []\n",
    "            temp_vals = []\n",
    "            for node in nodes:\n",
    "                for child in node.children:\n",
    "                    if child is not None:\n",
    "                        temp_nodes.append(child)\n",
    "                        temp_vals.append(child.val)\n",
    "            nodes = temp_nodes\n",
    "            if temp_vals:\n",
    "                vals.append(temp_vals)\n",
    "        return len(vals) + 1"
   ]
  },
  {
   "cell_type": "code",
   "execution_count": 2,
   "metadata": {},
   "outputs": [],
   "source": [
    "class Solution:\n",
    "    def maxDepth(self, root: 'Node') -> int:\n",
    "        if not root: return 0\n",
    "        if all(child == None for child in root.children): # root没有个child节点\n",
    "            return 1\n",
    "        return 1 + max(self.maxDepth(child) for child in root.children)"
   ]
  },
  {
   "cell_type": "code",
   "execution_count": 4,
   "metadata": {},
   "outputs": [
    {
     "data": {
      "text/plain": [
       "False"
      ]
     },
     "execution_count": 4,
     "metadata": {},
     "output_type": "execute_result"
    }
   ],
   "source": [
    "all(x == 2 for x in [2,3,2,2])"
   ]
  },
  {
   "cell_type": "code",
   "execution_count": 5,
   "metadata": {},
   "outputs": [],
   "source": [
    "class Solution:\n",
    "    def maxDepth(self, root: 'Node') -> int:\n",
    "        if not root:\n",
    "            return 0\n",
    "        depth = 1\n",
    "        if root.children:\n",
    "            depth += max(self.maxDepth(child) for child in root.children)\n",
    "        return depth"
   ]
  },
  {
   "cell_type": "code",
   "execution_count": null,
   "metadata": {},
   "outputs": [],
   "source": []
  }
 ],
 "metadata": {
  "kernelspec": {
   "display_name": "Python 3",
   "language": "python",
   "name": "python3"
  },
  "language_info": {
   "codemirror_mode": {
    "name": "ipython",
    "version": 3
   },
   "file_extension": ".py",
   "mimetype": "text/x-python",
   "name": "python",
   "nbconvert_exporter": "python",
   "pygments_lexer": "ipython3",
   "version": "3.6.2"
  }
 },
 "nbformat": 4,
 "nbformat_minor": 4
}
