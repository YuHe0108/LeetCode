{
 "cells": [
  {
   "cell_type": "raw",
   "metadata": {},
   "source": [
    "说明：\n",
    "    给定一个由0和1组成的矩阵，请为每个cell找到最接近0的距离。两个相邻像元之间的距离是1。\n",
    "\n",
    "Example 1:\n",
    "    Input:\n",
    "        [[0,0,0],\n",
    "         [0,1,0],\n",
    "         [0,0,0]]\n",
    "\n",
    "    Output:\n",
    "        [[0,0,0],\n",
    "         [0,1,0],\n",
    "         [0,0,0]]\n",
    "\n",
    "Example 2:\n",
    "    Input:\n",
    "        [[0,0,0],\n",
    "         [0,1,0],\n",
    "         [1,1,1]]\n",
    "\n",
    "    Output:\n",
    "        [[0,0,0],\n",
    "         [0,1,0],\n",
    "         [1,2,1]]\n",
    "\n",
    "注意：\n",
    "    1、给定矩阵的元素数不会超过10,000。\n",
    "    2、给定矩阵中至少有一个0。\n",
    "    3、单元格仅在四个方向上相邻：上，下，左和右。"
   ]
  },
  {
   "cell_type": "code",
   "execution_count": 9,
   "metadata": {},
   "outputs": [],
   "source": [
    "class Solution:\n",
    "    def updateMatrix(self, matrix):\n",
    "        if not matrix[0]: return [[]]\n",
    "        rows, cols = len(matrix), len(matrix[0])\n",
    "        res = []\n",
    "        \n",
    "        dirs = [[-1, 0], [1, 0], [0, 1], [0, -1]]\n",
    "        def dfs(r, c, cnt, seen):\n",
    "            seen.add((r, c))\n",
    "            if matrix[r][c] == 0: \n",
    "                return cnt\n",
    "            for x, y in dirs:\n",
    "                new_x, new_y = r + x, c + y\n",
    "                if 0 <= new_x < rows and 0 <= new_y < cols and (new_x, new_y) not in seen:\n",
    "                    if matrix[new_x][new_y] == 0:\n",
    "                        return cnt + 1\n",
    "                    else:\n",
    "                        return dfs(new_x, new_y, cnt + 1, seen)\n",
    "                    \n",
    "        for row in range(rows):\n",
    "            temp = []\n",
    "            for col in range(cols):\n",
    "                val = matrix[row][col]\n",
    "                if matrix[row][col] == 1:\n",
    "                    val = dfs(row, col, 0, set())\n",
    "                    print(val)\n",
    "                temp.append(val)\n",
    "            res.append(temp)\n",
    "        return res"
   ]
  },
  {
   "cell_type": "code",
   "execution_count": 36,
   "metadata": {},
   "outputs": [],
   "source": [
    "class Solution:\n",
    "    def updateMatrix(self, matrix):\n",
    "        if not matrix or not matrix[0]: return [[]]\n",
    "        # 首先初始化矩阵，对于 原始矩阵中元素为1的位置，初始化为正数的最大值\n",
    "        # 并开辟一个栈，将 原始数组中0的坐标压入到栈中\n",
    "        rows, cols = len(matrix), len(matrix[0])\n",
    "        res = []\n",
    "        stacks = []\n",
    "        for row in range(rows):\n",
    "            temp = []\n",
    "            for col in range(cols):\n",
    "                val = matrix[row][col]\n",
    "                if val == 0:\n",
    "                    temp.append(val)\n",
    "                    stacks.append((row, col))\n",
    "                else:\n",
    "                    temp.append(float('inf'))\n",
    "            res.append(temp)\n",
    "        \n",
    "        directions = [[-1, 0], [1, 0], [0, -1], [0, 1]]\n",
    "        while stacks:\n",
    "            i, j = stacks.pop()\n",
    "            for x, y in directions:\n",
    "                new_x, new_y = i + x, j + y\n",
    "                if 0 <= new_x < rows and 0 <= new_y < cols:\n",
    "                    if res[new_x][new_y] > res[i][j] + 1:\n",
    "                        res[new_x][new_y] = res[i][j] + 1\n",
    "                        stacks.append((new_x, new_y))\n",
    "        return res"
   ]
  },
  {
   "cell_type": "code",
   "execution_count": 37,
   "metadata": {},
   "outputs": [
    {
     "name": "stdout",
     "output_type": "stream",
     "text": [
      "[[0, 0, 0], [0, inf, 0], [inf, inf, inf]]\n"
     ]
    },
    {
     "data": {
      "text/plain": [
       "[[0, 0, 0], [0, 1, 0], [1, 2, 1]]"
      ]
     },
     "execution_count": 37,
     "metadata": {},
     "output_type": "execute_result"
    }
   ],
   "source": [
    "mat_= [[0,0,0],\n",
    "       [0,1,0],\n",
    "       [1,1,1]]\n",
    "solution = Solution()\n",
    "solution.updateMatrix(mat_)"
   ]
  },
  {
   "cell_type": "code",
   "execution_count": 39,
   "metadata": {},
   "outputs": [],
   "source": [
    "# 时间消耗比较大，不能通过\n",
    "class Solution:\n",
    "    def updateMatrix(self, matrix):\n",
    "        if not matrix or not matrix[0]: return [[]]\n",
    "        res = []\n",
    "        rows, cols = len(matrix), len(matrix[0])\n",
    "        stacks = []\n",
    "        for row in range(rows):\n",
    "            temp = []\n",
    "            for col in range(cols):\n",
    "                val = matrix[row][col]\n",
    "                if val == 0:\n",
    "                    stacks.append((row, col))\n",
    "                    temp.append(val)\n",
    "                else:\n",
    "                    temp.append(float('inf'))\n",
    "            res.append(temp)\n",
    "            \n",
    "        directions = [(0, 1), (0, -1), (1, 0), (-1, 0)]\n",
    "        while stacks:\n",
    "            i, j = stacks.pop()\n",
    "            for x, y in directions:\n",
    "                new_x, new_y = i + x, y + j\n",
    "                if 0 <= new_x < rows and 0 <= new_y < cols:\n",
    "                    if res[new_x][new_y] > res[i][j] + 1:\n",
    "                        res[new_x][new_y] = res[i][j] + 1\n",
    "                        stacks.append((new_x, new_y))\n",
    "        return res\n",
    "                "
   ]
  },
  {
   "cell_type": "code",
   "execution_count": null,
   "metadata": {},
   "outputs": [],
   "source": []
  },
  {
   "cell_type": "code",
   "execution_count": null,
   "metadata": {},
   "outputs": [],
   "source": []
  },
  {
   "cell_type": "markdown",
   "metadata": {},
   "source": [
    "<img src='542.jpg' width=700>\n",
    "<img src='542_1.jpg' width=700>"
   ]
  },
  {
   "cell_type": "code",
   "execution_count": 15,
   "metadata": {},
   "outputs": [],
   "source": [
    "# 动态规划的方法\n",
    "class Solution:\n",
    "    def updateMatrix(self, matrix):\n",
    "        if not matrix or not matrix[0]: return [[]]\n",
    "        rows, cols = len(matrix), len(matrix[0])\n",
    "        res = [[float('inf')] * cols for _ in range(rows)]\n",
    "        \n",
    "        # 从上到下，从左往右遍历\n",
    "        for i in range(rows):\n",
    "            for j in range(cols):\n",
    "                if matrix[i][j] == 0:\n",
    "                    res[i][j] = 0\n",
    "                else:\n",
    "                    if i > 0:\n",
    "                        res[i][j] = min(res[i][j], res[i-1][j] + 1)\n",
    "                    if j > 0:\n",
    "                        res[i][j] = min(res[i][j], res[i][j-1] + 1)\n",
    "                        \n",
    "        # 从下到上，从右向左进行遍历\n",
    "        for i in range(rows-1, -1, -1):\n",
    "            for j in range(cols-1, -1, -1):\n",
    "                if i < rows - 1:\n",
    "                    res[i][j] = min(res[i][j], res[i+1][j] + 1)\n",
    "                if j < cols - 1:\n",
    "                    res[i][j] = min(res[i][j], res[i][j+1]+1)\n",
    "        return res"
   ]
  },
  {
   "cell_type": "code",
   "execution_count": 16,
   "metadata": {},
   "outputs": [
    {
     "data": {
      "text/plain": [
       "[[0, 0, 0], [0, 1, 0], [1, 2, 1]]"
      ]
     },
     "execution_count": 16,
     "metadata": {},
     "output_type": "execute_result"
    }
   ],
   "source": [
    "mat_= [[0,0,0],\n",
    "       [0,1,0],\n",
    "       [1,1,1]]\n",
    "solution = Solution()\n",
    "solution.updateMatrix(mat_)"
   ]
  },
  {
   "cell_type": "code",
   "execution_count": null,
   "metadata": {},
   "outputs": [],
   "source": []
  }
 ],
 "metadata": {
  "kernelspec": {
   "display_name": "Python 3",
   "language": "python",
   "name": "python3"
  },
  "language_info": {
   "codemirror_mode": {
    "name": "ipython",
    "version": 3
   },
   "file_extension": ".py",
   "mimetype": "text/x-python",
   "name": "python",
   "nbconvert_exporter": "python",
   "pygments_lexer": "ipython3",
   "version": "3.6.2"
  }
 },
 "nbformat": 4,
 "nbformat_minor": 4
}
