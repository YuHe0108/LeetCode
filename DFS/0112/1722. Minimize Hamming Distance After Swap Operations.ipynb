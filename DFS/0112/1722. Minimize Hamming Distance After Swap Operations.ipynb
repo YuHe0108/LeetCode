{
 "cells": [
  {
   "cell_type": "code",
   "execution_count": null,
   "metadata": {},
   "outputs": [],
   "source": []
  },
  {
   "cell_type": "code",
   "execution_count": null,
   "metadata": {},
   "outputs": [],
   "source": []
  },
  {
   "cell_type": "code",
   "execution_count": null,
   "metadata": {},
   "outputs": [],
   "source": []
  },
  {
   "cell_type": "code",
   "execution_count": 56,
   "metadata": {},
   "outputs": [],
   "source": [
    "from typing import List\n",
    "from collections import defaultdict\n",
    "\n",
    "class Solution:\n",
    "    def minimumHammingDistance(self, source: List[int], target: List[int], allowedSwaps: List[List[int]]) -> int:\n",
    "        def find(x):\n",
    "            if x != father[x]:\n",
    "                x = find(father[x])\n",
    "            return x\n",
    "        \n",
    "        def union(x, y):\n",
    "            x, y = find(x), find(y)\n",
    "            if x < y:\n",
    "                father[y] = x\n",
    "            else:\n",
    "                father[x] = y\n",
    "        \n",
    "        n = len(source)\n",
    "        swap = defaultdict(set)\n",
    "        for a, b in allowedSwaps:\n",
    "            swap[a].add(b)\n",
    "            swap[b].add(a)\n",
    "        \n",
    "        # 可以交换的位置的元素形成一个 union\n",
    "        father = [x for x in range(n)] # 初始化每个人都是自己的祖先\n",
    "        for k, v in swap.items():\n",
    "            for neb in v:\n",
    "                union(k, neb)\n",
    "        u_sur, u_tar = defaultdict(list), defaultdict(list) # 将处于一个union的元素放在一个集合中，查看集合中有多少个不同的元素\n",
    "        for i in range(n):\n",
    "            f = find(i)\n",
    "            u_sur[f].append(source[i])\n",
    "            u_tar[f].append(target[i])\n",
    "       \n",
    "        cnt = 0\n",
    "        for k in u_sur:\n",
    "            count = defaultdict(int)\n",
    "            v_u, v_s = u_sur[k], u_tar[k]\n",
    "            for v in v_u:\n",
    "                count[v] += 1\n",
    "            for v in v_s:\n",
    "                if v in count:\n",
    "                    count[v] -= 1\n",
    "                    if count[v] <= 0:\n",
    "                        del count[v]\n",
    "                else:\n",
    "                    cnt += 1\n",
    "        return cnt"
   ]
  },
  {
   "cell_type": "code",
   "execution_count": 91,
   "metadata": {},
   "outputs": [],
   "source": [
    "from typing import List\n",
    "from collections import defaultdict\n",
    "\n",
    "class Solution:\n",
    "    def minimumHammingDistance(self, source: List[int], target: List[int], allowedSwaps: List[List[int]]) -> int:\n",
    "        def find(x):\n",
    "            if x != father[x]:\n",
    "                x = find(father[x])\n",
    "            return x\n",
    "        \n",
    "        def union(x, y):\n",
    "            x, y = find(x), find(y)\n",
    "            if x < y:\n",
    "                father[y] = x\n",
    "            else:\n",
    "                father[x] = y\n",
    "        \n",
    "        n = len(source)\n",
    "        \n",
    "        # 可以交换的位置的元素形成一个 union\n",
    "        father = [x for x in range(n)] # 初始化每个人都是自己的祖先\n",
    "        for a, b in allowedSwaps:\n",
    "            union(a, b)\n",
    "        u_sur, u_tar = defaultdict(list), defaultdict(list) # 将处于一个union的元素放在一个集合中，查看集合中有多少个不同的元素\n",
    "        for i in range(n):\n",
    "            f = find(i)\n",
    "            u_sur[f].append(source[i])\n",
    "            u_tar[f].append(target[i])\n",
    "       \n",
    "        cnt = 0\n",
    "        for k in u_sur:\n",
    "            count = defaultdict(int)\n",
    "            v_u, v_s = u_sur[k], u_tar[k]\n",
    "            for v in v_u:\n",
    "                count[v] += 1\n",
    "            for v in v_s:\n",
    "                count[v] -= 1\n",
    "            cur = 0\n",
    "            for v in count.values():\n",
    "                cur += abs(v)\n",
    "            cnt += cur // 2\n",
    "        return cnt"
   ]
  },
  {
   "cell_type": "code",
   "execution_count": 92,
   "metadata": {},
   "outputs": [
    {
     "data": {
      "text/plain": [
       "12"
      ]
     },
     "execution_count": 92,
     "metadata": {},
     "output_type": "execute_result"
    }
   ],
   "source": [
    "solution = Solution()\n",
    "solution.minimumHammingDistance([41,37,51,100,25,33,90,49,65,87,11,18,15,18],\n",
    "                                [41,92,69,75,29,13,53,21,17,81,33,19,33,32],\n",
    "                                [[0,11],[5,9],[6,9],[5,7],[8,13],[4,8],[12,7],[8,2],[13,5],[0,7],[6,4],[8,9],\n",
    "                                 [4,12],[6,1],[10,0],[10,2],[7,3],[11,10],[5,2],[11,1],[3,0],[8,5],[12,6],[2,1],\n",
    "                                 [11,2],[4,9],[2,9],[10,6],[12,10],[4,13],[13,2],[11,9],[3,6],[0,4],[1,10],[5,11],\n",
    "                                 [12,1],[10,4],[6,2],[10,7],[3,13],[4,5],[13,10],[4,7],[0,12],[9,10],[9,3],[0,5],\n",
    "                                 [1,9],[5,10],[8,0],[12,11],[11,4],[7,9],[7,2],[13,9],[12,3],[8,6],[7,6],[8,12],[4,3],\n",
    "                                 [7,13],[0,13],[2,0],[3,8],[8,1],[13,6],[1,4],[0,9],[2,3],[8,7],[4,2],[9,12]])"
   ]
  },
  {
   "cell_type": "code",
   "execution_count": 16,
   "metadata": {},
   "outputs": [],
   "source": [
    "a = {1, 2}"
   ]
  },
  {
   "cell_type": "code",
   "execution_count": 19,
   "metadata": {},
   "outputs": [
    {
     "data": {
      "text/plain": [
       "{1, 2, 3, 4}"
      ]
     },
     "execution_count": 19,
     "metadata": {},
     "output_type": "execute_result"
    }
   ],
   "source": [
    "a.symmetric_difference({3, 4})"
   ]
  },
  {
   "cell_type": "code",
   "execution_count": 31,
   "metadata": {},
   "outputs": [],
   "source": [
    "b = [33, 65, 100, 37, 41, 11, 15, 49, 18, 51, 87, 25, 90]\n",
    "a = [32, 33, 69, 41, 75, 13, 17, 81, 19, 53, 21, 92, 29]"
   ]
  },
  {
   "cell_type": "code",
   "execution_count": 32,
   "metadata": {},
   "outputs": [],
   "source": [
    "a.sort()"
   ]
  },
  {
   "cell_type": "code",
   "execution_count": 33,
   "metadata": {},
   "outputs": [],
   "source": [
    "b.sort()"
   ]
  },
  {
   "cell_type": "code",
   "execution_count": 34,
   "metadata": {},
   "outputs": [
    {
     "data": {
      "text/plain": [
       "[13, 17, 19, 21, 29, 32, 33, 41, 53, 69, 75, 81, 92]"
      ]
     },
     "execution_count": 34,
     "metadata": {},
     "output_type": "execute_result"
    }
   ],
   "source": []
  },
  {
   "cell_type": "code",
   "execution_count": 35,
   "metadata": {},
   "outputs": [
    {
     "data": {
      "text/plain": [
       "[11, 15, 18, 25, 33, 37, 41, 49, 51, 65, 87, 90, 100]"
      ]
     },
     "execution_count": 35,
     "metadata": {},
     "output_type": "execute_result"
    }
   ],
   "source": [
    "b"
   ]
  },
  {
   "cell_type": "code",
   "execution_count": null,
   "metadata": {},
   "outputs": [],
   "source": [
    "[13, 17, 19, 21, 29, 32, 33, 41, 53, 69, 75, 81, 92]\n",
    "[11, 15, 18, 25, 33, 37, 41, 49, 51, 65, 87, 90, 100]"
   ]
  },
  {
   "cell_type": "code",
   "execution_count": null,
   "metadata": {},
   "outputs": [],
   "source": []
  },
  {
   "cell_type": "code",
   "execution_count": 58,
   "metadata": {},
   "outputs": [],
   "source": [
    "from collections import Counter"
   ]
  },
  {
   "cell_type": "code",
   "execution_count": 77,
   "metadata": {},
   "outputs": [],
   "source": [
    "a = Counter()\n",
    "b = Counter()"
   ]
  },
  {
   "cell_type": "code",
   "execution_count": 82,
   "metadata": {},
   "outputs": [],
   "source": [
    "a[0] += 1\n",
    "a[1] += 1"
   ]
  },
  {
   "cell_type": "code",
   "execution_count": 83,
   "metadata": {},
   "outputs": [],
   "source": [
    "b[0] += 2"
   ]
  },
  {
   "cell_type": "code",
   "execution_count": 84,
   "metadata": {},
   "outputs": [
    {
     "name": "stdout",
     "output_type": "stream",
     "text": [
      "Counter({0: 2, 1: 1}) Counter({0: 4}) Counter({0: 2})\n"
     ]
    }
   ],
   "source": [
    "print(a, b, b-a)"
   ]
  },
  {
   "cell_type": "code",
   "execution_count": 81,
   "metadata": {},
   "outputs": [
    {
     "data": {
      "text/plain": [
       "Counter({0: 2})"
      ]
     },
     "execution_count": 81,
     "metadata": {},
     "output_type": "execute_result"
    }
   ],
   "source": [
    "b"
   ]
  },
  {
   "cell_type": "code",
   "execution_count": null,
   "metadata": {},
   "outputs": [],
   "source": []
  }
 ],
 "metadata": {
  "kernelspec": {
   "display_name": "Python 3",
   "language": "python",
   "name": "python3"
  },
  "language_info": {
   "codemirror_mode": {
    "name": "ipython",
    "version": 3
   },
   "file_extension": ".py",
   "mimetype": "text/x-python",
   "name": "python",
   "nbconvert_exporter": "python",
   "pygments_lexer": "ipython3",
   "version": "3.6.2"
  }
 },
 "nbformat": 4,
 "nbformat_minor": 4
}
