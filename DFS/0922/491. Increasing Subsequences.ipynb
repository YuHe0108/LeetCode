{
 "cells": [
  {
   "cell_type": "raw",
   "metadata": {},
   "source": [
    "说明：\n",
    "      上升子序列，长度大于等于2\n",
    "\n",
    "Example:\n",
    "    Input: [4, 6, 7, 7]\n",
    "    Output: [[4, 6], [4, 7], [4, 6, 7], [4, 6, 7, 7], [6, 7], [6, 7, 7], [7,7], [4,7,7]]\n",
    "\n",
    "Constraints:\n",
    "    1、The length of the given array will not exceed 15.\n",
    "    2、The range of integer in the given array is [-100,100].\n",
    "    3、The given array may contain duplicates, and two equal integers should also be considered as a special case of increasing sequence."
   ]
  },
  {
   "cell_type": "code",
   "execution_count": 2,
   "metadata": {},
   "outputs": [],
   "source": [
    "class Solution:\n",
    "    def findSubsequences(self, nums):\n",
    "        if not nums: return []\n",
    "        self.res = []\n",
    "        self.find_res(nums, [], 0)\n",
    "        return list(self.res)\n",
    "    \n",
    "    def find_res(self, A, temp_list, idx):\n",
    "        if len(temp_list) > 1 and temp_list not in self.res:\n",
    "            self.res.append(list(temp_list))\n",
    "        \n",
    "        for i in range(idx, len(A)):\n",
    "            if len(temp_list) == 0 or temp_list[-1] <= A[i]:\n",
    "                temp_list.append(A[i])\n",
    "                self.find_res(A, temp_list, i+1)\n",
    "                temp_list.pop()"
   ]
  },
  {
   "cell_type": "code",
   "execution_count": null,
   "metadata": {},
   "outputs": [],
   "source": [
    "class Solution:\n",
    "    def findSubsequences(self, nums):\n",
    "        ans = []\n",
    "        cur = []\n",
    "        def backtrack(index):\n",
    "            if len(cur) > 1:\n",
    "                ans.append(cur[:])\n",
    "            if index == len(nums):\n",
    "                return \n",
    "            seen = set()\n",
    "            for i in range(index, len(nums)):\n",
    "                if nums[i] in seen:\n",
    "                    continue\n",
    "                if not cur or cur[-1] <= nums[i]:\n",
    "                    cur.append(nums[i])\n",
    "                    backtrack(i+1)\n",
    "                    cur.pop()\n",
    "                seen.add(nums[i])\n",
    "        backtrack(0)\n",
    "        return ans"
   ]
  },
  {
   "cell_type": "code",
   "execution_count": null,
   "metadata": {},
   "outputs": [],
   "source": [
    "class Solution:\n",
    "    def findSubsequences(self, nums: List[int]) -> List[List[int]]:\n",
    "        ans = []\n",
    "        curr = []\n",
    "        def backtrack(index):\n",
    "            if len(curr) >= 2:\n",
    "                ans.append(curr[:])\n",
    "            if index == len(nums):\n",
    "                return  \n",
    "            seen = set()\n",
    "            for i in range(index, len(nums)):\n",
    "                if nums[i] in seen:\n",
    "                    continue\n",
    "                if not curr or curr[-1] <= nums[i]:\n",
    "                    curr.append(nums[i])\n",
    "                    backtrack(i+1)\n",
    "                    curr.pop()\n",
    "                seen.add(nums[i])\n",
    "        backtrack(0)\n",
    "        return ans"
   ]
  },
  {
   "cell_type": "code",
   "execution_count": null,
   "metadata": {},
   "outputs": [],
   "source": [
    "class Solution:\n",
    "    def findSubsequences(self, nums: List[int]) -> List[List[int]]:\n",
    "        results = set()\n",
    "        def backtrack(path, last, index):\n",
    "            if len(path) > 1:\n",
    "                results.add(tuple(path))\n",
    "                \n",
    "            for i in range(index, len(nums)):\n",
    "                cur = nums[i]\n",
    "                if cur >= last:\n",
    "                    path.append(cur)\n",
    "                    backtrack(path, cur, i + 1)\n",
    "                    path.pop()\n",
    "        backtrack([], -float('inf'), 0)            \n",
    "        return results"
   ]
  }
 ],
 "metadata": {
  "kernelspec": {
   "display_name": "Python 3",
   "language": "python",
   "name": "python3"
  },
  "language_info": {
   "codemirror_mode": {
    "name": "ipython",
    "version": 3
   },
   "file_extension": ".py",
   "mimetype": "text/x-python",
   "name": "python",
   "nbconvert_exporter": "python",
   "pygments_lexer": "ipython3",
   "version": "3.6.2"
  }
 },
 "nbformat": 4,
 "nbformat_minor": 4
}
