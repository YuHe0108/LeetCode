{
 "cells": [
  {
   "cell_type": "code",
   "execution_count": null,
   "metadata": {},
   "outputs": [],
   "source": []
  },
  {
   "cell_type": "code",
   "execution_count": null,
   "metadata": {},
   "outputs": [],
   "source": []
  },
  {
   "cell_type": "code",
   "execution_count": null,
   "metadata": {},
   "outputs": [],
   "source": []
  },
  {
   "cell_type": "code",
   "execution_count": 7,
   "metadata": {},
   "outputs": [],
   "source": [
    "from collections import defaultdict, deque\n",
    "\n",
    "class Solution:\n",
    "    def pyramidTransition(self, bottom: str, allowed):\n",
    "        graph = defaultdict(list)\n",
    "        for item in allowed:\n",
    "            a, b, c = item\n",
    "            graph[a+b].append(c)\n",
    "        print(graph)\n",
    "        \n",
    "        btm = defaultdict(list)\n",
    "        for i in range(len(bottom) - 1):\n",
    "            item = bottom[i] + bottom[i+1]\n",
    "            if item not in graph:\n",
    "                return False\n",
    "            btm[item] = graph[item]\n",
    "        print(btm)\n",
    "        \n",
    "        keys = list(btm.keys())\n",
    "        for k in keys:\n",
    "            vals = btm[k]\n",
    "            for val in vals:\n",
    "                pass\n",
    "        \n",
    "        return False"
   ]
  },
  {
   "cell_type": "code",
   "execution_count": null,
   "metadata": {},
   "outputs": [],
   "source": []
  },
  {
   "cell_type": "code",
   "execution_count": 9,
   "metadata": {},
   "outputs": [],
   "source": [
    "from collections import defaultdict, deque\n",
    "\n",
    "class Solution:\n",
    "    def pyramidTransition(self, bottom: str, allowed):\n",
    "        graph = defaultdict(list)\n",
    "        for item in allowed:\n",
    "            a, b, c = item\n",
    "            graph[a+b].append(c)\n",
    "        print(graph)\n",
    "        \n",
    "        btm = []\n",
    "        for i in range(len(bottom) - 1):\n",
    "            item = bottom[i] + bottom[i+1]\n",
    "            btm.append(item)\n",
    "        print(btm)\n",
    "        \n",
    "        return False"
   ]
  },
  {
   "cell_type": "code",
   "execution_count": null,
   "metadata": {},
   "outputs": [],
   "source": [
    "# for bottom1 in itertools.product(*condidate):\n",
    "#     bottom1 = ''.join(bottom1)\n",
    "#     if helper(bottom1):\n",
    "#         record[bottom] = True\n",
    "#         break"
   ]
  },
  {
   "cell_type": "code",
   "execution_count": null,
   "metadata": {},
   "outputs": [],
   "source": []
  },
  {
   "cell_type": "code",
   "execution_count": null,
   "metadata": {},
   "outputs": [],
   "source": []
  },
  {
   "cell_type": "code",
   "execution_count": null,
   "metadata": {},
   "outputs": [],
   "source": []
  },
  {
   "cell_type": "code",
   "execution_count": null,
   "metadata": {},
   "outputs": [],
   "source": []
  },
  {
   "cell_type": "code",
   "execution_count": 7,
   "metadata": {},
   "outputs": [],
   "source": [
    "from collections import defaultdict, deque\n",
    "from itertools import product\n",
    "\n",
    "class Solution:\n",
    "    def pyramidTransition(self, bottom: str, allowed):\n",
    "        allow_dict = defaultdict(list)\n",
    "        for allow in allowed:\n",
    "            allow_dict[allow[:-1]].append(allow[-1])\n",
    "        \n",
    "        record = {}\n",
    "        def helper(bottom):\n",
    "            if len(bottom) == 1:\n",
    "                return True\n",
    "            if bottom in record:\n",
    "                return record[bottom]\n",
    "            \n",
    "            n = len(bottom)\n",
    "            if any(bottom[i:i+2] not in allow_dict for i in range(n - 1)):\n",
    "                return False\n",
    "            \n",
    "            record[bottom] = False\n",
    "            condidate = [allow_dict[bottom[i:i+2]] for i in range(n - 1)]\n",
    "            for b in product(*condidate):\n",
    "                b = ''.join(b)\n",
    "                if helper(b):\n",
    "                    record[bottom] = True\n",
    "                    break\n",
    "            return record[bottom]\n",
    "        \n",
    "        res = helper(bottom)\n",
    "        return res"
   ]
  },
  {
   "cell_type": "code",
   "execution_count": 8,
   "metadata": {},
   "outputs": [
    {
     "name": "stdout",
     "output_type": "stream",
     "text": [
      "BCD\n",
      "GE\n",
      "A\n"
     ]
    },
    {
     "data": {
      "text/plain": [
       "True"
      ]
     },
     "execution_count": 8,
     "metadata": {},
     "output_type": "execute_result"
    }
   ],
   "source": [
    "solution = Solution()\n",
    "solution.pyramidTransition(bottom = \"BCD\", allowed = [\"BCG\", \"CDE\", \"GEA\", \"FFF\"])"
   ]
  },
  {
   "cell_type": "code",
   "execution_count": 9,
   "metadata": {},
   "outputs": [
    {
     "name": "stdout",
     "output_type": "stream",
     "text": [
      "('1', '2', '3')\n"
     ]
    }
   ],
   "source": [
    "import itertools\n",
    "\n",
    "a = ['1', '2', '3']\n",
    "for b in itertools.product(*a):\n",
    "    print(b)"
   ]
  },
  {
   "cell_type": "code",
   "execution_count": null,
   "metadata": {},
   "outputs": [],
   "source": []
  },
  {
   "cell_type": "code",
   "execution_count": null,
   "metadata": {},
   "outputs": [],
   "source": []
  },
  {
   "cell_type": "code",
   "execution_count": null,
   "metadata": {},
   "outputs": [],
   "source": []
  },
  {
   "cell_type": "code",
   "execution_count": null,
   "metadata": {},
   "outputs": [],
   "source": []
  },
  {
   "cell_type": "code",
   "execution_count": null,
   "metadata": {},
   "outputs": [],
   "source": []
  },
  {
   "cell_type": "code",
   "execution_count": null,
   "metadata": {},
   "outputs": [],
   "source": []
  },
  {
   "cell_type": "code",
   "execution_count": null,
   "metadata": {},
   "outputs": [],
   "source": [
    "stack = []\n",
    "for i in range(len(btm)):\n",
    "    item = btm.pop()\n",
    "    if item not in graph:\n",
    "        return False\n",
    "    stack.extend(graph[item])"
   ]
  }
 ],
 "metadata": {
  "kernelspec": {
   "display_name": "Python 3",
   "language": "python",
   "name": "python3"
  },
  "language_info": {
   "codemirror_mode": {
    "name": "ipython",
    "version": 3
   },
   "file_extension": ".py",
   "mimetype": "text/x-python",
   "name": "python",
   "nbconvert_exporter": "python",
   "pygments_lexer": "ipython3",
   "version": "3.6.2"
  }
 },
 "nbformat": 4,
 "nbformat_minor": 4
}
