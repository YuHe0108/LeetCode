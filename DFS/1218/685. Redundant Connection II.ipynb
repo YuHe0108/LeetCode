{
 "cells": [
  {
   "cell_type": "code",
   "execution_count": null,
   "metadata": {},
   "outputs": [],
   "source": []
  },
  {
   "cell_type": "markdown",
   "metadata": {},
   "source": [
    "### 思路：\n",
    "    出现冗余的结点会有两个情况：\n",
    "    1、第一种情况就是 有一条边连接到了 root 节点，那么所有的节点就都有一个父节点\n",
    "    2、第二种情况就是 有一个节点有两个父节点，如果删除一个边，不会构成环，那么这条边就是冗余节点"
   ]
  },
  {
   "cell_type": "code",
   "execution_count": 29,
   "metadata": {},
   "outputs": [],
   "source": [
    "from collections import defaultdict\n",
    "\n",
    "class Solution:\n",
    "    def findRedundantDirectedConnection(self, edges):\n",
    "        def find(x):\n",
    "            if father[x] != x:\n",
    "                father[x] = find(father[x])\n",
    "            return father[x]\n",
    "        \n",
    "        def union(x, y):\n",
    "            x, y = find(x), find(y)\n",
    "            if x > y:\n",
    "                father[x] = y\n",
    "            else:\n",
    "                father[y] = x\n",
    "        \n",
    "        # 首先查看是否有一个节点有两个父节点\n",
    "        graph = defaultdict(int)\n",
    "        cand1, cand2 = None, None # 一个节点有两个父节点，那么这个节点的两条边有一个有问题\n",
    "        for a, b in edges:\n",
    "            if b in graph:\n",
    "                # 也就是说 b 的father节点已经存在了，如果这个时候又来一条边，那么其中一个一定是冗余的\n",
    "                cand1, cand2 = (a, b), (graph[b], b)\n",
    "                break\n",
    "            else:\n",
    "                graph[b] = a\n",
    "        \n",
    "        # 初始化每条边的\n",
    "        n = len(edges) # 一共有多少个叶子节点\n",
    "        father = [x for x in range(n + 1)]\n",
    "        for a, b in edges:\n",
    "            # 首先如果存在一个节点有两个父节点的情况，那么 cand1 和 cand2 都不是None\n",
    "            if (a, b) == cand1:\n",
    "                # 先假设 cand1 是 冗余的, 跳过这条边，如果剩下的边能够形成环，说明cand2 是多余的\n",
    "                continue\n",
    "            if find(a) != find(b):\n",
    "                union(a, b)\n",
    "            else:\n",
    "                if cand2 is None:\n",
    "                    return (a, b)\n",
    "                else:\n",
    "                    return cand2\n",
    "        return cand1"
   ]
  },
  {
   "cell_type": "code",
   "execution_count": 30,
   "metadata": {},
   "outputs": [
    {
     "data": {
      "text/plain": [
       "(4, 1)"
      ]
     },
     "execution_count": 30,
     "metadata": {},
     "output_type": "execute_result"
    }
   ],
   "source": [
    "solution = Solution()\n",
    "solution.findRedundantDirectedConnection([[1,2],[2,3],[3,4],[4,1],[1,5]])"
   ]
  },
  {
   "cell_type": "code",
   "execution_count": null,
   "metadata": {},
   "outputs": [],
   "source": []
  }
 ],
 "metadata": {
  "kernelspec": {
   "display_name": "Python 3",
   "language": "python",
   "name": "python3"
  },
  "language_info": {
   "codemirror_mode": {
    "name": "ipython",
    "version": 3
   },
   "file_extension": ".py",
   "mimetype": "text/x-python",
   "name": "python",
   "nbconvert_exporter": "python",
   "pygments_lexer": "ipython3",
   "version": "3.6.2"
  }
 },
 "nbformat": 4,
 "nbformat_minor": 4
}
