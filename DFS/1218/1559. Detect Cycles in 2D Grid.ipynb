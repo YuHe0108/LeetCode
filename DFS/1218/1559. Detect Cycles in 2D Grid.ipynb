{
 "cells": [
  {
   "cell_type": "code",
   "execution_count": null,
   "metadata": {},
   "outputs": [],
   "source": []
  },
  {
   "cell_type": "code",
   "execution_count": 83,
   "metadata": {},
   "outputs": [],
   "source": [
    "class Solution:\n",
    "    def containsCycle(self, grid):\n",
    "        def is_circle(a, b):\n",
    "            nonlocal visited\n",
    "            # 返回两个值，如果为False的话，那么从探索点开始的周围点也是False\n",
    "            path = []\n",
    "            seen = set()\n",
    "            stack = [(a, b)]\n",
    "            symbol = grid[a][b]\n",
    "            while stack:\n",
    "                r, c = stack.pop()\n",
    "                seen.add((r, c))\n",
    "                path.append((r, c))\n",
    "                temp_stack = []\n",
    "                for nr, nc in (r+1, c), (r-1, c), (r, c+1), (r, c-1):\n",
    "                    if nr < 0 or nc < 0 or nr >= rows or nc >= cols or grid[nr][nc] != symbol:\n",
    "                        continue\n",
    "                    if (nr, nc) in path:\n",
    "                        idx = path.index((nr, nc))\n",
    "                        if len(path) - idx >= 4:\n",
    "                            return seen, True\n",
    "                    if (nr, nc) not in seen:\n",
    "                        temp_stack.append((nr, nc))\n",
    "                        \n",
    "                if temp_stack: \n",
    "                    # 如果还能继续走下去，那么temp_stack就还有值\n",
    "                    stack.extend(temp_stack)\n",
    "                else: \n",
    "                    # 如果走不下去，清除之前走过的所有路径\n",
    "                    path = [(a, b)]\n",
    "            return seen, False\n",
    "        \n",
    "        rows, cols = len(grid), len(grid[0])\n",
    "        visited = set()\n",
    "        for r in range(rows):\n",
    "            for c in range(cols):\n",
    "                if (r, c) in visited:\n",
    "                    continue\n",
    "                state, res = is_circle(r, c)\n",
    "                if res is True:\n",
    "                    return True\n",
    "                visited |= state\n",
    "        return False"
   ]
  },
  {
   "cell_type": "code",
   "execution_count": null,
   "metadata": {},
   "outputs": [],
   "source": []
  },
  {
   "cell_type": "code",
   "execution_count": null,
   "metadata": {},
   "outputs": [],
   "source": []
  },
  {
   "cell_type": "code",
   "execution_count": null,
   "metadata": {},
   "outputs": [],
   "source": []
  },
  {
   "cell_type": "markdown",
   "metadata": {},
   "source": [
    "### 多存储一个信息，最后一个为 dir信息，不能往回走，上方向为 2，下方向为 -2， 左方向为3，右方向为 - 3"
   ]
  },
  {
   "cell_type": "code",
   "execution_count": 94,
   "metadata": {},
   "outputs": [],
   "source": [
    "class Solution:\n",
    "    def containsCycle(self, grid):\n",
    "        def is_circle(a, b, direc):\n",
    "            nonlocal visited\n",
    "            # 返回两个值，如果为 False 的话，那么从探索点开始的周围点也是 False\n",
    "            seen = set()\n",
    "            stack = [(a, b, direc)]\n",
    "            symbol = grid[a][b]\n",
    "            while stack:\n",
    "                r, c, d = stack.pop()\n",
    "                seen.add((r, c))\n",
    "                nd = 0\n",
    "                for nr, nc, nd in (r+1, c, -2), (r-1, c, 2), (r, c+1, -3), (r, c-1, 3):\n",
    "                    if nr < 0 or nc < 0 or nr >= rows or nc >= cols or grid[nr][nc] != symbol:\n",
    "                        continue\n",
    "                    if nd + d == 0:\n",
    "                        continue\n",
    "                    if (nr, nc) in seen:\n",
    "                        return seen, True\n",
    "                    stack.append((nr, nc, nd))\n",
    "            return seen, False\n",
    "        \n",
    "        rows, cols = len(grid), len(grid[0])\n",
    "        visited = set()\n",
    "        for r in range(rows):\n",
    "            for c in range(cols):\n",
    "                if (r, c) in visited:\n",
    "                    continue\n",
    "                state, res = is_circle(r, c, -1)\n",
    "                if res is True:\n",
    "                    return True\n",
    "                visited |= state\n",
    "        return False"
   ]
  },
  {
   "cell_type": "code",
   "execution_count": 95,
   "metadata": {},
   "outputs": [
    {
     "data": {
      "text/plain": [
       "True"
      ]
     },
     "execution_count": 95,
     "metadata": {},
     "output_type": "execute_result"
    }
   ],
   "source": [
    "solution = Solution()\n",
    "solution.containsCycle([[\"c\",\"a\",\"d\"],[\"a\",\"a\",\"a\"],[\"a\",\"a\",\"d\"],[\"a\",\"c\",\"d\"],[\"a\",\"b\",\"c\"]])"
   ]
  },
  {
   "cell_type": "code",
   "execution_count": 20,
   "metadata": {},
   "outputs": [],
   "source": [
    "a = {1, 2}\n",
    "b = {2, 5}"
   ]
  },
  {
   "cell_type": "code",
   "execution_count": 21,
   "metadata": {},
   "outputs": [],
   "source": [
    "c = a | b"
   ]
  },
  {
   "cell_type": "code",
   "execution_count": 22,
   "metadata": {},
   "outputs": [
    {
     "data": {
      "text/plain": [
       "{1, 2, 5}"
      ]
     },
     "execution_count": 22,
     "metadata": {},
     "output_type": "execute_result"
    }
   ],
   "source": [
    "c"
   ]
  },
  {
   "cell_type": "code",
   "execution_count": 56,
   "metadata": {},
   "outputs": [
    {
     "data": {
      "text/plain": [
       "1"
      ]
     },
     "execution_count": 56,
     "metadata": {},
     "output_type": "execute_result"
    }
   ],
   "source": [
    "a = [1, 2, 4]\n",
    "a.index(2)"
   ]
  },
  {
   "cell_type": "code",
   "execution_count": null,
   "metadata": {},
   "outputs": [],
   "source": []
  }
 ],
 "metadata": {
  "kernelspec": {
   "display_name": "Python 3",
   "language": "python",
   "name": "python3"
  },
  "language_info": {
   "codemirror_mode": {
    "name": "ipython",
    "version": 3
   },
   "file_extension": ".py",
   "mimetype": "text/x-python",
   "name": "python",
   "nbconvert_exporter": "python",
   "pygments_lexer": "ipython3",
   "version": "3.6.2"
  }
 },
 "nbformat": 4,
 "nbformat_minor": 4
}
