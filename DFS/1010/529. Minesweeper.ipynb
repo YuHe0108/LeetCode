{
 "cells": [
  {
   "cell_type": "raw",
   "metadata": {},
   "source": [
    "说明：\n",
    "    让我们玩扫雷游戏（维基百科，在线游戏）！\n",
    "    您将获得一个代表游戏板的2D字符矩阵。 \n",
    "        “M” 代表未公开的地雷，\n",
    "        “E” 代表未公开的空方块，\n",
    "        “B” 代表没有相邻（上方，下方，左，右和所有四个对角线）地雷的裸露空白方块，\n",
    "    数字（“1”到“8”）表示与该显示的正方形相邻的地雷数量，最后“X”表示一个显示的地雷。\n",
    "    现在给定所有未公开的正方形（“M”或“ E”）中的下一个单击位置（行和列索引），请根据以下规则在显示此位置后返回板：\n",
    "    1、如果显示了地雷（“ M”） ，则游戏结束了-将其更改为“ X”。\n",
    "    2、如果显示没有相邻地雷的空方块（'E'），则将其更改为显示的空白（'B'），并应递归显示所有相邻的未显示方块。\n",
    "    3、如果显示至少有一个相邻地雷的空方块（'E'），则将其更改为代表相邻地雷数量的数字（'1'至'8'）。\n",
    "    4、当不再显示正方形时返回板子。\n",
    "\n",
    "Example 1:\n",
    "    Input: \n",
    "        [['E', 'E', 'E', 'E', 'E'],\n",
    "         ['E', 'E', 'M', 'E', 'E'],\n",
    "         ['E', 'E', 'E', 'E', 'E'],\n",
    "         ['E', 'E', 'E', 'E', 'E']]\n",
    "    Click : [3,0]\n",
    "    Output: \n",
    "        [['B', '1', 'E', '1', 'B'],\n",
    "         ['B', '1', 'M', '1', 'B'],\n",
    "         ['B', '1', '1', '1', 'B'],\n",
    "         ['B', 'B', 'B', 'B', 'B']]\n",
    "\n",
    "注意：\n",
    "    1、输入矩阵的高度和宽度范围是[1,50]。\n",
    "    2、点击位置只会是一个未显示的正方形（“ M”或“ E”），这也意味着输入板至少包含一个可点击的正方形。\n",
    "    3、当游戏结束（某些地雷已经被发现）时，输入板将不会成为舞台。\n",
    "    4、为简单起见，在此问题中应忽略未提及的规则。例如，当游戏结束时，您不需要显示所有未公开的地雷，请考虑在任何情况下您将赢得游戏或标记任何正方形。"
   ]
  },
  {
   "cell_type": "markdown",
   "metadata": {},
   "source": [
    "<img src='https://assets.leetcode.com/uploads/2018/10/12/minesweeper_example_1.png' width=550>"
   ]
  },
  {
   "cell_type": "code",
   "execution_count": 12,
   "metadata": {},
   "outputs": [],
   "source": [
    "class Solution:\n",
    "    def updateBoard(self, board, click):\n",
    "        rows, cols = len(board), len(board[0])\n",
    "        dirs = [(-1, 0), (1, 0), (-1, -1), (-1, 1), (0, -1), (0, 1), (1, -1), (1, 1)]\n",
    "        def dfs(x, y):\n",
    "            # 如果点到的是雷，那么将其变为 'x', 并直接退出\n",
    "            if board[x][y] == 'M':\n",
    "                board[x][y] = 'X'\n",
    "            elif board[x][y] == 'E':\n",
    "                cnt, nei = 0, []\n",
    "                for i in range(8):\n",
    "                    new_x, new_y = x + dirs[i][0], y + dirs[i][1]\n",
    "                    if 0 <= new_x < rows and 0 <= new_y < cols: # 处于边界之内\n",
    "                        nei.append((new_x, new_y))\n",
    "                        if board[new_x][new_y] == 'M':\n",
    "                            cnt += 1\n",
    "                if not cnt:\n",
    "                    board[x][y] = 'B'\n",
    "                    for i, j in nei:\n",
    "                        dfs(i, j) #只有8个邻域中没有地雷，才会继续搜索\n",
    "                else:\n",
    "                    # 当前位置有地雷的话，就停止搜索其8个邻域可能出现的情况\n",
    "                    board[x][y] = str(cnt)\n",
    "        dfs(*click)\n",
    "        return board"
   ]
  },
  {
   "cell_type": "code",
   "execution_count": 13,
   "metadata": {},
   "outputs": [
    {
     "data": {
      "text/plain": [
       "[['B', '1', 'E', '1', 'B'],\n",
       " ['B', '1', 'M', '1', 'B'],\n",
       " ['B', '1', '1', '1', 'B'],\n",
       " ['B', 'B', 'B', 'B', 'B']]"
      ]
     },
     "execution_count": 13,
     "metadata": {},
     "output_type": "execute_result"
    }
   ],
   "source": [
    "solution = Solution()\n",
    "solution.updateBoard([['E', 'E', 'E', 'E', 'E'],\n",
    "                      ['E', 'E', 'M', 'E', 'E'],\n",
    "                      ['E', 'E', 'E', 'E', 'E'],\n",
    "                      ['E', 'E', 'E', 'E', 'E']], [3, 0])"
   ]
  },
  {
   "cell_type": "code",
   "execution_count": null,
   "metadata": {},
   "outputs": [],
   "source": []
  }
 ],
 "metadata": {
  "kernelspec": {
   "display_name": "Python 3",
   "language": "python",
   "name": "python3"
  },
  "language_info": {
   "codemirror_mode": {
    "name": "ipython",
    "version": 3
   },
   "file_extension": ".py",
   "mimetype": "text/x-python",
   "name": "python",
   "nbconvert_exporter": "python",
   "pygments_lexer": "ipython3",
   "version": "3.6.2"
  }
 },
 "nbformat": 4,
 "nbformat_minor": 4
}
