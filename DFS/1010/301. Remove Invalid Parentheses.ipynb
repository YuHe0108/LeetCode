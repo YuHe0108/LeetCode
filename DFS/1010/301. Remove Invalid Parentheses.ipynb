{
 "cells": [
  {
   "cell_type": "raw",
   "metadata": {},
   "source": [
    "说明：\n",
    "    删除最小数量的无效括号，以使输入字符串有效。\n",
    "    返回所有可能的结果。\n",
    "    注意：\n",
    "        输入字符串可能包含除括号（和）以外的其他字母。\n",
    "\n",
    "Example 1:\n",
    "    Input: \"()())()\"\n",
    "    Output: [\"()()()\", \"(())()\"]\n",
    "\n",
    "Example 2:\n",
    "    Input: \"(a)())()\"\n",
    "    Output: [\"(a)()()\", \"(a())()\"]\n",
    "\n",
    "Example 3:\n",
    "    Input: \")(\"\n",
    "    Output: [\"\"]"
   ]
  },
  {
   "cell_type": "code",
   "execution_count": 16,
   "metadata": {},
   "outputs": [],
   "source": [
    "class Solution:\n",
    "    def removeInvalidParentheses(self, s: str):\n",
    "        if not s: return []\n",
    "        self.max_len = self.get_max_len(s)\n",
    "        self.ans = []\n",
    "        self.dfs(s, 0, \"\", 0)\n",
    "        return self.ans\n",
    "    \n",
    "    def dfs(self, s, idx, cur_str, count):\n",
    "        if len(cur_str) > self.max_len: return \n",
    "        if count < 0: return # count表示 \"(\" 的数量\n",
    "        if idx == len(s): # 遍历到了最后 s 的一个字母\n",
    "            if count == 0 and len(cur_str) == self.max_len:\n",
    "                self.ans.append(cur_str)\n",
    "            return\n",
    "        \n",
    "        # 如果是其他字母，可以直接添加，不会收到影响\n",
    "        if s[idx] != '(' and s[idx] != ')':\n",
    "            self.dfs(s, idx+1, cur_str+s[idx], count)\n",
    "        else:\n",
    "            val = 1 if s[idx] == '(' else -1\n",
    "            # 肯定取，有两种情况，最后一个字符与cur_str的最后一个字符相同\n",
    "            # 或者是不同\n",
    "            self.dfs(s, idx+1, cur_str+s[idx], count+val) \n",
    "            if not cur_str or s[idx] != cur_str[-1]:\n",
    "                # 对于不同的情况是可以不取的\n",
    "                self.dfs(s, idx+1, cur_str, count)\n",
    "    \n",
    "    def get_max_len(self, s):\n",
    "        \"\"\"返回原始字符串是 valid 的最大长度\"\"\"\n",
    "        l_count, res = 0, 0\n",
    "        for a in s:\n",
    "            if a == '(':\n",
    "                l_count += 1\n",
    "            elif a == ')':\n",
    "                if l_count == 0:\n",
    "                    res += 1\n",
    "                else:\n",
    "                    l_count -= 1\n",
    "        return len(s) - l_count - res"
   ]
  },
  {
   "cell_type": "code",
   "execution_count": 24,
   "metadata": {},
   "outputs": [],
   "source": [
    "class Solution:\n",
    "    def removeInvalidParentheses(self, s: str):\n",
    "        if not s: return [\"\"]\n",
    "        self.max_len = self.get_max_len(s)\n",
    "        self.ans = []\n",
    "        self.dfs(s, 0, \"\", 0)\n",
    "        return self.ans\n",
    "    \n",
    "    def dfs(self, s, idx, cur_str, count):\n",
    "        # count代表了 “(” 的数量，如果小于0，一定不合法\n",
    "        if len(cur_str) > self.max_len: return\n",
    "        if count < 0: return \n",
    "        if idx == len(s): # 遍历到了最后 s 的一个字母\n",
    "            if count == 0 and len(cur_str) == self.max_len:\n",
    "                self.ans.append(cur_str)\n",
    "            return\n",
    "        \n",
    "        # 其他字母\n",
    "        if s[idx] != '(' and s[idx] != ')':\n",
    "            self.dfs(s, idx+1, cur_str+s[idx], count)\n",
    "        else:\n",
    "            val = 1 if s[idx] == '(' else -1\n",
    "            self.dfs(s, idx+1, cur_str+s[idx], count+val)\n",
    "            if not cur_str or s[idx] != cur_str[-1]:\n",
    "                self.dfs(s, idx+1, cur_str, count)\n",
    "    \n",
    "    def get_max_len(self, s):\n",
    "        l_count, res = 0, 0\n",
    "        for a in s:\n",
    "            if a == '(':\n",
    "                l_count += 1\n",
    "            elif a == ')':\n",
    "                if l_count == 0:\n",
    "                    res += 1\n",
    "                else:\n",
    "                    l_count -= 1\n",
    "        return len(s) - l_count - res"
   ]
  },
  {
   "cell_type": "code",
   "execution_count": 25,
   "metadata": {},
   "outputs": [
    {
     "data": {
      "text/plain": [
       "['(a)()()', '(a())()']"
      ]
     },
     "execution_count": 25,
     "metadata": {},
     "output_type": "execute_result"
    }
   ],
   "source": [
    "solution = Solution()\n",
    "solution.removeInvalidParentheses(\"(a)())()\")"
   ]
  },
  {
   "cell_type": "code",
   "execution_count": null,
   "metadata": {},
   "outputs": [],
   "source": []
  }
 ],
 "metadata": {
  "kernelspec": {
   "display_name": "Python 3",
   "language": "python",
   "name": "python3"
  },
  "language_info": {
   "codemirror_mode": {
    "name": "ipython",
    "version": 3
   },
   "file_extension": ".py",
   "mimetype": "text/x-python",
   "name": "python",
   "nbconvert_exporter": "python",
   "pygments_lexer": "ipython3",
   "version": "3.6.2"
  }
 },
 "nbformat": 4,
 "nbformat_minor": 4
}
