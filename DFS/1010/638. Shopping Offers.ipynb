{
 "cells": [
  {
   "cell_type": "raw",
   "metadata": {},
   "source": [
    "说明：\n",
    "    在LeetCode商店中，有一些商品可以出售。每个项目都有一个价格。\n",
    "    但是，有一些特价商品，并且特价商品由一种或多种不同价格的商品组成。\n",
    "    系统会为您提供每件商品的价格，一系列特价以及我们需要为每件商品购买的数量。\n",
    "    工作是输出您必须为给定的某些特定物品支付的最低价格，在这里您可以最佳利用特价商品。\n",
    "    每个特价商品都以数组的形式表示，最后一个数字表示您需要为此特价商品支付的价格，其他数字表示如果购买此特价商品可以得到多少个特定商品。\n",
    "    您可以随意使用任何特殊优惠。\n",
    "\n",
    "Example 1:\n",
    "    Input: [2,5], [[3,0,5],[1,2,10]], [3,2]\n",
    "    Output: 14\n",
    "    Explanation: \n",
    "        There are two kinds of items, A and B. Their prices are $2 and $5 respectively. \n",
    "        In special offer 1, you can pay $5 for 3A and 0B\n",
    "        In special offer 2, you can pay $10 for 1A and 2B. \n",
    "        You need to buy 3A and 2B, so you may pay $10 for 1A and 2B (special offer #2), and $4 for 2A.\n",
    "\n",
    "Example 2:\n",
    "    Input: [2,3,4], [[1,1,0,4],[2,2,1,9]], [1,2,1]\n",
    "    Output: 11\n",
    "    Explanation: \n",
    "        The price of A is $2, and $3 for B, $4 for C. \n",
    "        You may pay $4 for 1A and 1B, and $9 for 2A ,2B and 1C. \n",
    "        You need to buy 1A ,2B and 1C, so you may pay $4 for 1A and 1B (special offer #1), and $3 for 1B, $4 for 1C. \n",
    "        You cannot add more items, though only $9 for 2A ,2B and 1C.\n",
    "Note:\n",
    "    1、最多有6种商品，特别优惠100种。\n",
    "    2、对于每个项目，您最多需要购买6个。\n",
    "    3、不允许购买超出您想要数量的商品，即使这会降低整体价格。"
   ]
  },
  {
   "cell_type": "code",
   "execution_count": 27,
   "metadata": {},
   "outputs": [],
   "source": [
    "import functools\n",
    "\n",
    "class Solution:\n",
    "    def shoppingOffers(self, price, special, needs) -> int:\n",
    "        @functools.lru_cache(None)\n",
    "        def dfs(needs):\n",
    "            # 不使用特价商品需要花多少钱\n",
    "            ans = sum(a * b for a, b in zip(price, needs))\n",
    "            for s in special:\n",
    "                # 使用特价商品，减去特价商品的数量后，needs的值是多少\n",
    "                needs_copy = tuple(b - a for a, b in zip(s[:-1], needs)) # s[-1]最后一位是特价商品的价格\n",
    "                if all(n >= 0 for n in needs_copy):\n",
    "                    ans = min(ans, dfs(needs_copy) + s[-1])\n",
    "            return ans\n",
    "        return dfs(tuple(needs))"
   ]
  },
  {
   "cell_type": "code",
   "execution_count": 28,
   "metadata": {},
   "outputs": [
    {
     "name": "stdout",
     "output_type": "stream",
     "text": [
      "(0, 1, 1)\n",
      "(-1, 0, 1)\n",
      "(-2, -1, 0)\n",
      "(-1, 0, 0)\n"
     ]
    },
    {
     "data": {
      "text/plain": [
       "11"
      ]
     },
     "execution_count": 28,
     "metadata": {},
     "output_type": "execute_result"
    }
   ],
   "source": [
    "solution = Solution()\n",
    "solution.shoppingOffers([2,3,4], [[1,1,0,4],[2,2,1,9]], [1,2,1])"
   ]
  },
  {
   "cell_type": "code",
   "execution_count": null,
   "metadata": {},
   "outputs": [],
   "source": []
  }
 ],
 "metadata": {
  "kernelspec": {
   "display_name": "Python 3",
   "language": "python",
   "name": "python3"
  },
  "language_info": {
   "codemirror_mode": {
    "name": "ipython",
    "version": 3
   },
   "file_extension": ".py",
   "mimetype": "text/x-python",
   "name": "python",
   "nbconvert_exporter": "python",
   "pygments_lexer": "ipython3",
   "version": "3.6.2"
  }
 },
 "nbformat": 4,
 "nbformat_minor": 4
}
