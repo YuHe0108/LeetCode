{
 "cells": [
  {
   "cell_type": "raw",
   "metadata": {},
   "source": [
    "说明：\n",
    "    有N个网络节点，标记为1到N。\n",
    "    给定 times，行进时间的列表作为有向边的时间[i] =（u，v，w），其中u是源节点，v是目标节点，w是信号从源传播到目标所花费的时间。\n",
    "    现在，我们从某个节点 K 发送信号。\n",
    "    所有节点接收信号需要多长时间？\n",
    "    如果不可能，则返回-1。\n",
    "\n",
    "例1：\n",
    "    Input: times = [[2,1,1],[2,3,1],[3,4,1]], N = 4, K = 2\n",
    "    Output: 2\n",
    "\n",
    "Note:\n",
    "    1、N will be in the range [1, 100].\n",
    "    2、K will be in the range [1, N].\n",
    "    3、The length of times will be in the range [1, 6000].\n",
    "    4、All edges times[i] = (u, v, w) will have 1 <= u, v <= N and 0 <= w <= 100"
   ]
  },
  {
   "cell_type": "markdown",
   "metadata": {},
   "source": [
    "<img src='https://assets.leetcode.com/uploads/2019/05/23/931_example_1.png'>"
   ]
  },
  {
   "cell_type": "markdown",
   "metadata": {},
   "source": [
    "### 1、佛洛依德法：时间复杂度 O(N^3)"
   ]
  },
  {
   "cell_type": "code",
   "execution_count": 99,
   "metadata": {},
   "outputs": [],
   "source": [
    "class Solution:\n",
    "    def networkDelayTime(self, times, N: int, K: int) -> int:\n",
    "        dp = [[float('inf')] * (1 + N) for _ in range(1 + N)]\n",
    "        \n",
    "        for i in range(1, N+1):\n",
    "            dp[i][i] = 0\n",
    "        for x, y, z in times:\n",
    "            dp[x][y] = z\n",
    "        \n",
    "        for k in range(1, N+1):\n",
    "            for i in range(1, N+1):\n",
    "                for j in range(1, N+1):\n",
    "                    dp[i][j] = min(dp[i][j], dp[i][k] + dp[k][j])\n",
    "        res = 0\n",
    "        for i in range(1, N+1):\n",
    "            res = max(res, dp[K][i])\n",
    "        print(dp)\n",
    "        return res if res != float('inf') else -1"
   ]
  },
  {
   "cell_type": "code",
   "execution_count": 100,
   "metadata": {},
   "outputs": [
    {
     "name": "stdout",
     "output_type": "stream",
     "text": [
      "[[inf, inf, inf, inf, inf], [inf, 0, inf, inf, inf], [inf, 1, 0, 1, 2], [inf, inf, inf, 0, 1], [inf, inf, inf, inf, 0]]\n"
     ]
    },
    {
     "data": {
      "text/plain": [
       "2"
      ]
     },
     "execution_count": 100,
     "metadata": {},
     "output_type": "execute_result"
    }
   ],
   "source": [
    "solution = Solution()\n",
    "solution.networkDelayTime([[2,1,1],[2,3,1],[3,4,1]], 4, 2)"
   ]
  },
  {
   "cell_type": "markdown",
   "metadata": {},
   "source": [
    "### 2、DFS"
   ]
  },
  {
   "cell_type": "code",
   "execution_count": 112,
   "metadata": {},
   "outputs": [],
   "source": [
    "class Solution:\n",
    "    def networkDelayTime(self, times, N: int, K: int) -> int:\n",
    "        # time转换为 字典的形式\n",
    "        graph = {}\n",
    "        for u, v, w in times:\n",
    "            graph.setdefault(u, []).append((w, v))\n",
    "        \n",
    "        dist = {node: float('inf') for node in range(1, N+1)}\n",
    "        \n",
    "        def dfs(node, elapsed):\n",
    "            if elapsed >= dist[node]:\n",
    "                return\n",
    "            dist[node] = elapsed\n",
    "            if node in graph:\n",
    "                for time, nei in graph[node]:\n",
    "                    dfs(nei, elapsed + time)\n",
    "                \n",
    "        dfs(K, 0)\n",
    "        ans = max(dist.values())\n",
    "        return ans if ans != float('inf') else -1"
   ]
  },
  {
   "cell_type": "code",
   "execution_count": 154,
   "metadata": {},
   "outputs": [],
   "source": [
    "import collections, heapq\n",
    "\n",
    "class Solution(object):\n",
    "    def networkDelayTime(self, times, N, K):\n",
    "        graph = collections.defaultdict(list)\n",
    "        for u, v, w in times:\n",
    "            graph[u].append((v, w))\n",
    "        \n",
    "        pq = [(0, K)] # 到达第k个节点，需要的时间是多少\n",
    "        dist = {}\n",
    "        while pq:\n",
    "            d, node = heapq.heappop(pq)\n",
    "            if node in dist: continue\n",
    "            dist[node] = d\n",
    "            for nei, d2 in graph[node]:\n",
    "                if nei not in dist:\n",
    "                    heapq.heappush(pq, (d + d2, nei))\n",
    "            print(dist)\n",
    "        return max(dist.values()) if len(dist) == N else -1"
   ]
  },
  {
   "cell_type": "code",
   "execution_count": 174,
   "metadata": {},
   "outputs": [],
   "source": [
    "from collections import deque, defaultdict\n",
    "\n",
    "class Solution(object):\n",
    "    def networkDelayTime(self, times, N, K):\n",
    "        t = [0] + [float('inf')] * N\n",
    "        q = deque([(0, K)])\n",
    "        \n",
    "        graph = defaultdict(list)\n",
    "        for u, v, w in times:\n",
    "            graph[u].append((v, w))\n",
    "        \n",
    "        while q:\n",
    "            time, node = q.popleft()\n",
    "            if time < t[node]:\n",
    "                t[node] = time\n",
    "                for v, w in graph[node]:\n",
    "                    q.append((time + w, v))\n",
    "        mx = max(t)\n",
    "        return mx if mx != float('inf') else -1"
   ]
  },
  {
   "cell_type": "code",
   "execution_count": null,
   "metadata": {},
   "outputs": [],
   "source": [
    "from collections import deque, defaultdict\n",
    "\n",
    "class Solution(object):\n",
    "    def networkDelayTime(self, times, N, K):\n",
    "        t = [0] + [float('inf')] * N\n",
    "        \n",
    "        graph = defaultdict(list)\n",
    "        for u, v, w in times:\n",
    "            graph[u].append((v, w))\n",
    "        \n",
    "        q = deque([(K, 0)])\n",
    "        while q:\n",
    "            node, time = q.popleft()\n",
    "            if time < t[node]:\n",
    "                t[node] = time\n",
    "                for v, w in graph[node]:\n",
    "                    q.append((v, time + w))\n",
    "        mx = max(t)\n",
    "        return mx if mx != float('inf') else -1"
   ]
  },
  {
   "cell_type": "code",
   "execution_count": 175,
   "metadata": {},
   "outputs": [
    {
     "data": {
      "text/plain": [
       "2"
      ]
     },
     "execution_count": 175,
     "metadata": {},
     "output_type": "execute_result"
    }
   ],
   "source": [
    "solution = Solution()\n",
    "solution.networkDelayTime([[2,1,1],[2,3,1],[3,4,1]], 4, 2)"
   ]
  },
  {
   "cell_type": "code",
   "execution_count": null,
   "metadata": {},
   "outputs": [],
   "source": [
    "{2: [(1, 1), (3, 1)], 3: [(4, 1)]})"
   ]
  },
  {
   "cell_type": "code",
   "execution_count": null,
   "metadata": {},
   "outputs": [],
   "source": []
  },
  {
   "cell_type": "code",
   "execution_count": null,
   "metadata": {},
   "outputs": [],
   "source": []
  },
  {
   "cell_type": "code",
   "execution_count": null,
   "metadata": {},
   "outputs": [],
   "source": []
  },
  {
   "cell_type": "code",
   "execution_count": null,
   "metadata": {},
   "outputs": [],
   "source": []
  },
  {
   "cell_type": "code",
   "execution_count": null,
   "metadata": {},
   "outputs": [],
   "source": []
  },
  {
   "cell_type": "code",
   "execution_count": null,
   "metadata": {},
   "outputs": [],
   "source": []
  },
  {
   "cell_type": "code",
   "execution_count": null,
   "metadata": {},
   "outputs": [],
   "source": []
  },
  {
   "cell_type": "code",
   "execution_count": null,
   "metadata": {},
   "outputs": [],
   "source": []
  },
  {
   "cell_type": "code",
   "execution_count": null,
   "metadata": {},
   "outputs": [],
   "source": []
  },
  {
   "cell_type": "code",
   "execution_count": 3,
   "metadata": {},
   "outputs": [],
   "source": [
    "class Solution:\n",
    "    def networkDelayTime(self, times, N: int, K: int) -> int:\n",
    "        seen = set()\n",
    "        cnt = 0\n",
    "        # 首先讲 times转换为字典的形式：key: 节点， val:列表，该节点可能达到的下一个节点\n",
    "        \n",
    "        def dfs(t, k):\n",
    "            if k in seen: return\n",
    "            seen.add(k)\n",
    "            for x, y, z in t:\n",
    "                print(x, y, z)\n",
    "        \n",
    "        dfs(times, K)\n",
    "        return cnt if len(seen) == N else -1"
   ]
  },
  {
   "cell_type": "code",
   "execution_count": 84,
   "metadata": {},
   "outputs": [],
   "source": [
    "class Solution:\n",
    "    def networkDelayTime(self, times, N: int, K: int) -> int:\n",
    "        node_freq = {}\n",
    "        for x, y, z in times:\n",
    "            if x not in node_freq:\n",
    "                node_freq[x] = [[y], z]\n",
    "            else:\n",
    "                node_freq[x][0].append(y)\n",
    "                node_freq[x][1] = max(node_freq[x][1], z)\n",
    "        \n",
    "        print(node_freq)\n",
    "        seen = set()\n",
    "        self.cnt = 0\n",
    "        def dfs(k):\n",
    "            if len(seen) == N: return\n",
    "            if k not in node_freq: return\n",
    "            seen.add(k)\n",
    "            self.cnt += node_freq[k][1]\n",
    "            neb_node = node_freq[k][0]\n",
    "            for k_ in neb_node:\n",
    "                if k_ not in node_freq or node_freq[k_]:\n",
    "                    seen.add(k_)\n",
    "                dfs(k_)\n",
    "        dfs(K)\n",
    "        print(seen, self.cnt)\n",
    "        return self.cnt if len(seen) == N else -1"
   ]
  },
  {
   "cell_type": "code",
   "execution_count": null,
   "metadata": {},
   "outputs": [],
   "source": []
  },
  {
   "cell_type": "code",
   "execution_count": null,
   "metadata": {},
   "outputs": [],
   "source": []
  },
  {
   "cell_type": "code",
   "execution_count": null,
   "metadata": {},
   "outputs": [],
   "source": []
  },
  {
   "cell_type": "code",
   "execution_count": null,
   "metadata": {},
   "outputs": [],
   "source": []
  }
 ],
 "metadata": {
  "kernelspec": {
   "display_name": "Python 3",
   "language": "python",
   "name": "python3"
  },
  "language_info": {
   "codemirror_mode": {
    "name": "ipython",
    "version": 3
   },
   "file_extension": ".py",
   "mimetype": "text/x-python",
   "name": "python",
   "nbconvert_exporter": "python",
   "pygments_lexer": "ipython3",
   "version": "3.6.2"
  }
 },
 "nbformat": 4,
 "nbformat_minor": 4
}
