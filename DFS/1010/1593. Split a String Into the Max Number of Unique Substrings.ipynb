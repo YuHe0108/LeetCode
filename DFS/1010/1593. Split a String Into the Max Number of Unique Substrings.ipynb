{
 "cells": [
  {
   "cell_type": "raw",
   "metadata": {},
   "source": [
    "说明：\n",
    "    给定字符串s，返回给定字符串可拆分为的唯一子字符串的最大数量。\n",
    "    您可以将字符串s拆分为任何非空子字符串列表，\n",
    "    其中子字符串的串联构成了原始字符串。\n",
    "    但是，必须拆分子字符串，以使所有子字符串都是唯一的。\n",
    "    子字符串是字符串中连续的字符序列。\n",
    "\n",
    "Example 1:\n",
    "    Input: \n",
    "            s = \"ababccc\"\n",
    "    Output: \n",
    "            5\n",
    "    Explanation: \n",
    "        One way to split maximally is ['a', 'b', 'ab', 'c', 'cc']. \n",
    "        Splitting like ['a', 'b', 'a', 'b', 'c', 'cc'] is not valid as you have 'a' and 'b' multiple times.\n",
    "\n",
    "Example 2:\n",
    "    Input: s = \"aba\"\n",
    "    Output: 2\n",
    "    Explanation: One way to split maximally is ['a', 'ba'].\n",
    "\n",
    "Example 3:\n",
    "    Input: s = \"aa\"\n",
    "    Output: 1\n",
    "    Explanation: It is impossible to split the string any further.\n",
    "\n",
    "Constraints:\n",
    "    1、1 <= s.length <= 16\n",
    "    2、s contains only lower case English letters."
   ]
  },
  {
   "cell_type": "code",
   "execution_count": null,
   "metadata": {},
   "outputs": [],
   "source": []
  }
 ],
 "metadata": {
  "kernelspec": {
   "display_name": "Python 3",
   "language": "python",
   "name": "python3"
  },
  "language_info": {
   "codemirror_mode": {
    "name": "ipython",
    "version": 3
   },
   "file_extension": ".py",
   "mimetype": "text/x-python",
   "name": "python",
   "nbconvert_exporter": "python",
   "pygments_lexer": "ipython3",
   "version": "3.6.2"
  }
 },
 "nbformat": 4,
 "nbformat_minor": 4
}
