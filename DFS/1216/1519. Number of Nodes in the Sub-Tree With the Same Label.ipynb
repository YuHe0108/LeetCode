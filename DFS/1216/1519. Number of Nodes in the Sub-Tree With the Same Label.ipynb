{
 "cells": [
  {
   "cell_type": "code",
   "execution_count": 44,
   "metadata": {},
   "outputs": [
    {
     "data": {
      "text/plain": [
       "1"
      ]
     },
     "execution_count": 44,
     "metadata": {},
     "output_type": "execute_result"
    }
   ],
   "source": [
    "#         while edges:\n",
    "#             a, b = edges.pop(0)\n",
    "#             if a in depth:\n",
    "#                 depth[b] = depth[a] + 1\n",
    "#                 graph[a].append(b)\n",
    "#             elif b in depth:\n",
    "#                 depth[a] = depth[b] + 1\n",
    "#                 graph[b].append(a)\n",
    "#             else:\n",
    "#                 edges.append((a, b))"
   ]
  },
  {
   "cell_type": "code",
   "execution_count": null,
   "metadata": {},
   "outputs": [],
   "source": [
    "# from collections import defaultdict, deque\n",
    "\n",
    "# class Solution:\n",
    "#     def countSubTrees(self, n: int, edges, labels: str):\n",
    "#         info = defaultdict(list)\n",
    "#         for a, b in edges:\n",
    "#             info[a].append(b)\n",
    "#             info[b].append(a)\n",
    "       \n",
    "#         depth = deque([0]) # depth = {0: 0} # 0 号节点的深度为 0\n",
    "#         graph = defaultdict(list)\n",
    "#         seen = {0}\n",
    "#         while depth:\n",
    "#             node = depth.popleft()\n",
    "#             for neb in info[node]:\n",
    "#                 if neb not in seen:\n",
    "#                     seen.add(neb)\n",
    "#                     graph[node].append(neb)\n",
    "#                     depth.append(neb)\n",
    "#         x\n",
    "#         ans = [1] * n # 每个节点至少有一个节点与自身的值相同（节点本身）\n",
    "#         for i in list(graph.keys()):\n",
    "#             stack, seen = [i], {i}\n",
    "#             cnt = 0\n",
    "#             while stack:\n",
    "#                 node = stack.pop()\n",
    "#                 if labels[node] == labels[i]:\n",
    "#                     cnt += 1\n",
    "#                 for neb in graph[node]:\n",
    "#                     if neb not in seen:\n",
    "#                         seen.add(neb)\n",
    "#                         stack.append(neb)\n",
    "#             ans[i] = cnt\n",
    "#         return ans"
   ]
  },
  {
   "cell_type": "code",
   "execution_count": null,
   "metadata": {},
   "outputs": [],
   "source": []
  },
  {
   "cell_type": "code",
   "execution_count": 161,
   "metadata": {},
   "outputs": [],
   "source": [
    "from collections import defaultdict, deque, Counter\n",
    "\n",
    "class Solution:\n",
    "    def countSubTrees(self, n: int, edges, labels: str):\n",
    "        def dfs(i):\n",
    "            # 先遍历的肯定是 父节点，后遍历的是节点\n",
    "            # 通过层层遍历的方式，不用一个节点一个节点的求 ans，bottom-up的方式，\n",
    "            # 子节点确定答案之后，父节点也随即确定了答案\n",
    "            visited.add(i)\n",
    "            data = Counter({labels[i]: 1})\n",
    "            for nxt in info[i]:\n",
    "                if nxt not in visited: \n",
    "                    data += dfs(nxt)\n",
    "            ans[i] = data[labels[i]]\n",
    "            return data\n",
    "        \n",
    "        info = defaultdict(list)\n",
    "        for a, b in edges:\n",
    "            info[a].append(b)\n",
    "            info[b].append(a)\n",
    "        \n",
    "        visited = set()\n",
    "        ans = [1] * n\n",
    "        dfs(0)\n",
    "        return ans"
   ]
  },
  {
   "cell_type": "code",
   "execution_count": 162,
   "metadata": {},
   "outputs": [
    {
     "data": {
      "text/plain": [
       "[1, 1, 2, 1]"
      ]
     },
     "execution_count": 162,
     "metadata": {},
     "output_type": "execute_result"
    }
   ],
   "source": [
    "solution = Solution()\n",
    "solution.countSubTrees(4, [[0,2],[0,3],[1,2]], \"aeed\")"
   ]
  },
  {
   "cell_type": "code",
   "execution_count": null,
   "metadata": {},
   "outputs": [],
   "source": []
  },
  {
   "cell_type": "code",
   "execution_count": null,
   "metadata": {},
   "outputs": [],
   "source": []
  },
  {
   "cell_type": "code",
   "execution_count": null,
   "metadata": {},
   "outputs": [],
   "source": []
  },
  {
   "cell_type": "code",
   "execution_count": null,
   "metadata": {},
   "outputs": [],
   "source": []
  },
  {
   "cell_type": "code",
   "execution_count": null,
   "metadata": {},
   "outputs": [],
   "source": []
  },
  {
   "cell_type": "code",
   "execution_count": null,
   "metadata": {},
   "outputs": [],
   "source": []
  },
  {
   "cell_type": "code",
   "execution_count": null,
   "metadata": {},
   "outputs": [],
   "source": []
  },
  {
   "cell_type": "code",
   "execution_count": null,
   "metadata": {},
   "outputs": [],
   "source": []
  },
  {
   "cell_type": "code",
   "execution_count": null,
   "metadata": {},
   "outputs": [],
   "source": []
  },
  {
   "cell_type": "code",
   "execution_count": 98,
   "metadata": {},
   "outputs": [],
   "source": [
    "from collections import defaultdict\n",
    "\n",
    "class Solution:\n",
    "    def countSubTrees(self, n: int, edges, labels: str):\n",
    "        graph = defaultdict(list)\n",
    "        for a, b in edges:\n",
    "            graph[a].append(b)\n",
    "        ans = [0] * n # 每个节点至少有一个节点与自身的值相同（节点本身）\n",
    "        for i in range(n):\n",
    "            stack, seen = [i], {i}\n",
    "            while stack:\n",
    "                node = stack.pop()\n",
    "                if labels[node] == labels[i]:\n",
    "                    ans[i] += 1\n",
    "                for neb in graph[node]:\n",
    "                    if neb not in seen:\n",
    "                        seen.add(neb)\n",
    "                        stack.append(neb)\n",
    "        return ans"
   ]
  },
  {
   "cell_type": "code",
   "execution_count": 99,
   "metadata": {},
   "outputs": [
    {
     "data": {
      "text/plain": [
       "[1, 2, 1, 1]"
      ]
     },
     "execution_count": 99,
     "metadata": {},
     "output_type": "execute_result"
    }
   ],
   "source": [
    "solution = Solution()\n",
    "solution.countSubTrees(4, [[0,2],[0,3],[1,2]], \"aeed\")"
   ]
  },
  {
   "cell_type": "code",
   "execution_count": null,
   "metadata": {},
   "outputs": [],
   "source": [
    "class Solution:\n",
    "    def countSubTrees(self, n: int, edges: List[List[int]], labels: str) -> List[int]:\n",
    "\n",
    "        ## 最简单的思路：针对每一个节点，遍历其子树，找出和该节点标签一样的节点数\n",
    "        ## 也就是有两次dfs，第一次是整棵树的、第二次是以某一个节点为根的子树\n",
    "        ## 考虑到n可能很大，这个时间复杂度就会很高 O(n^2)\n",
    "        ## 另外一个思路：\n",
    "        ## 1. 因为标签数量很有限，26个字母，所以每一个节点用一个数组表示以该节点为根的子树的各种标签数量\n",
    "        ## 2. 然后给出结果\n",
    "        ## 3. 即每一个节点都需要一个长度为26的列表，node[i][x] 表示以节点i为根的子树中，字母 x 的数量，默认是0\n",
    "        ## 这是一个空间换时间的做法\n",
    "        ## 不管哪种做法，都要先构建整棵树：\n",
    "        ## 1. 因为题目明确了0是整棵树的根，所以从0开始构建这棵树\n",
    "        ## 2. 树用二维数组表示，tree[i][j] 表示 tree[i][j] 是 i 的儿子\n",
    "\n",
    "        ansli = [0] * n\n",
    "        node = [[0] * 26 for _ in range(n)]\n",
    "        visited = [False] * n\n",
    "        levelli = [0] * n\n",
    "        tmptree = [[] for _ in range(n)]\n",
    "        tree = [[] for _ in range(n)]\n",
    "        for x, y in edges:\n",
    "            tmptree[x].append(y)\n",
    "            tmptree[y].append(x)\n",
    "        \n",
    "        # print(tmptree)\n",
    "        def dfsForTree(x=0, level=1):\n",
    "            levelli[x] = level\n",
    "            for y in tmptree[x]:\n",
    "                if levelli[y] == 0:\n",
    "                    tree[x].append(y)\n",
    "            for y in tree[x]:\n",
    "                dfsForTree(y, level+1)\n",
    "\n",
    "        def dfs(x=0):\n",
    "            nonlocal node\n",
    "            nonlocal visited\n",
    "            nonlocal tree\n",
    "            nonlocal ansli\n",
    "\n",
    "            if visited[x]:\n",
    "                return\n",
    "            visited[x] = True\n",
    "\n",
    "            idx = ord(labels[x]) - ord('a')\n",
    "            node[x][idx] += 1\n",
    "\n",
    "            for y in tree[x]:\n",
    "                dfs(y)\n",
    "                for i in range(26):\n",
    "                    node[x][i] += node[y][i]\n",
    "\n",
    "            ansli[x] = node[x][idx]\n",
    "            # print(x, labels[x], idx, tree[x], node[x])\n",
    "        \n",
    "        dfsForTree()\n",
    "        # print(tree)\n",
    "        dfs()\n",
    "\n",
    "        return ansli"
   ]
  },
  {
   "cell_type": "code",
   "execution_count": null,
   "metadata": {},
   "outputs": [],
   "source": []
  },
  {
   "cell_type": "code",
   "execution_count": null,
   "metadata": {},
   "outputs": [],
   "source": []
  },
  {
   "cell_type": "code",
   "execution_count": 167,
   "metadata": {},
   "outputs": [],
   "source": [
    "from collections import defaultdict\n",
    "\n",
    "class Solution:\n",
    "    def countSubTrees(self, n: int, edges, labels: str):\n",
    "        def dfs(node, par = -1): # node:当前节点，par：父节点\n",
    "            idx = ord(labels[node]) - ord('a')\n",
    "            lc = cnt[idx] # 统计此时 字母 labels[node]的数量\n",
    "            cnt[idx] += 1\n",
    "            for nei in graph[node]:\n",
    "                if nei != par:\n",
    "                    dfs(nei, node)\n",
    "            ans[node] = cnt[idx] - lc\n",
    "        \n",
    "        graph = defaultdict(list)\n",
    "        ans = [0] * n\n",
    "        cnt = [0] * 26\n",
    "        for a, b in edges:\n",
    "            graph[a].append(b)\n",
    "            graph[b].append(a)\n",
    "        dfs(0, -1)\n",
    "        return ans"
   ]
  },
  {
   "cell_type": "code",
   "execution_count": 168,
   "metadata": {},
   "outputs": [
    {
     "data": {
      "text/plain": [
       "[1, 1, 2, 1]"
      ]
     },
     "execution_count": 168,
     "metadata": {},
     "output_type": "execute_result"
    }
   ],
   "source": [
    "solution = Solution()\n",
    "solution.countSubTrees(4, [[0,2],[0,3],[1,2]], \"aeed\")"
   ]
  },
  {
   "cell_type": "code",
   "execution_count": null,
   "metadata": {},
   "outputs": [],
   "source": []
  }
 ],
 "metadata": {
  "kernelspec": {
   "display_name": "Python 3",
   "language": "python",
   "name": "python3"
  },
  "language_info": {
   "codemirror_mode": {
    "name": "ipython",
    "version": 3
   },
   "file_extension": ".py",
   "mimetype": "text/x-python",
   "name": "python",
   "nbconvert_exporter": "python",
   "pygments_lexer": "ipython3",
   "version": "3.6.2"
  }
 },
 "nbformat": 4,
 "nbformat_minor": 4
}
