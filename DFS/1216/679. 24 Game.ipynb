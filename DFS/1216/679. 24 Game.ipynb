{
 "cells": [
  {
   "cell_type": "code",
   "execution_count": null,
   "metadata": {},
   "outputs": [],
   "source": []
  },
  {
   "cell_type": "code",
   "execution_count": null,
   "metadata": {},
   "outputs": [],
   "source": []
  },
  {
   "cell_type": "code",
   "execution_count": 38,
   "metadata": {},
   "outputs": [],
   "source": [
    "class Solution:\n",
    "    def judgePoint24(self, nums) -> bool:\n",
    "        return self.rec(nums)\n",
    "    \n",
    "    def rec(self, nums):\n",
    "        n = len(nums)\n",
    "        if n == 1:\n",
    "            return abs(nums[0] - 24) < 1e-6\n",
    "        for i in range(n):\n",
    "            for j in range(n):\n",
    "                if i == j:\n",
    "                    continue\n",
    "                new_nums = []\n",
    "                for k in range(n):\n",
    "                    if k != i and k != j:\n",
    "                        new_nums.append(nums[k])\n",
    "                a, b = nums[i], nums[j]\n",
    "                mut_res = a * b\n",
    "                if self.rec(new_nums + [mut_res]):\n",
    "                    return True\n",
    "                add_res = a + b\n",
    "                if self.rec(new_nums + [add_res]):\n",
    "                    return True\n",
    "                sub_res = a - b\n",
    "                if self.rec(new_nums + [sub_res]):\n",
    "                    return True\n",
    "                if b != 0:\n",
    "                    div_res = a / b\n",
    "                    if self.rec(new_nums + [div_res]):\n",
    "                        return True\n",
    "        return False"
   ]
  },
  {
   "cell_type": "code",
   "execution_count": 39,
   "metadata": {},
   "outputs": [
    {
     "data": {
      "text/plain": [
       "False"
      ]
     },
     "execution_count": 39,
     "metadata": {},
     "output_type": "execute_result"
    }
   ],
   "source": [
    "solution = Solution()\n",
    "solution.judgePoint24([1,2,1,2])"
   ]
  },
  {
   "cell_type": "code",
   "execution_count": 20,
   "metadata": {},
   "outputs": [
    {
     "data": {
      "text/plain": [
       "1e-06"
      ]
     },
     "execution_count": 20,
     "metadata": {},
     "output_type": "execute_result"
    }
   ],
   "source": [
    "1e-6"
   ]
  },
  {
   "cell_type": "code",
   "execution_count": null,
   "metadata": {},
   "outputs": [],
   "source": []
  }
 ],
 "metadata": {
  "kernelspec": {
   "display_name": "Python 3",
   "language": "python",
   "name": "python3"
  },
  "language_info": {
   "codemirror_mode": {
    "name": "ipython",
    "version": 3
   },
   "file_extension": ".py",
   "mimetype": "text/x-python",
   "name": "python",
   "nbconvert_exporter": "python",
   "pygments_lexer": "ipython3",
   "version": "3.6.2"
  }
 },
 "nbformat": 4,
 "nbformat_minor": 4
}
