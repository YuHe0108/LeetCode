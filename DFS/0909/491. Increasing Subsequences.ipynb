{
 "cells": [
  {
   "cell_type": "raw",
   "metadata": {},
   "source": [
    "说明：\n",
    "    给定一个整数数组，您的任务是查找给定数组的所有可能的递增子序列，递增子序列的长度至少应为2。\n",
    "\n",
    "Example:\n",
    "    Input: [4, 6, 7, 7]\n",
    "    Output: [[4, 6], [4, 7], [4, 6, 7], [4, 6, 7, 7], [6, 7], [6, 7, 7], [7,7], [4,7,7]]\n",
    "\n",
    "约束：\n",
    "    1、给定数组的长度不能超过15。\n",
    "    2、给定数组中整数的范围是[-100,100]。\n",
    "    3、给定的数组可能包含重复项，并且两个相等的整数也应视为递增序列的特殊情况。"
   ]
  },
  {
   "cell_type": "code",
   "execution_count": 2,
   "metadata": {},
   "outputs": [],
   "source": [
    "class Solution:\n",
    "    def findSubsequences(self, nums):\n",
    "        if not nums: return []\n",
    "        res = []"
   ]
  },
  {
   "cell_type": "code",
   "execution_count": 3,
   "metadata": {},
   "outputs": [],
   "source": [
    "nums_ = [4, 6, 7, 7]\n",
    "solution = Solution()\n",
    "solution.findSubsequences(nums_)"
   ]
  },
  {
   "cell_type": "code",
   "execution_count": null,
   "metadata": {},
   "outputs": [],
   "source": []
  }
 ],
 "metadata": {
  "kernelspec": {
   "display_name": "Python 3",
   "language": "python",
   "name": "python3"
  },
  "language_info": {
   "codemirror_mode": {
    "name": "ipython",
    "version": 3
   },
   "file_extension": ".py",
   "mimetype": "text/x-python",
   "name": "python",
   "nbconvert_exporter": "python",
   "pygments_lexer": "ipython3",
   "version": "3.6.2"
  }
 },
 "nbformat": 4,
 "nbformat_minor": 4
}
