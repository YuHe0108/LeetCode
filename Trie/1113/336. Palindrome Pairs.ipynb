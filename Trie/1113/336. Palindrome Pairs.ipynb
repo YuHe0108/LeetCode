{
 "cells": [
  {
   "cell_type": "raw",
   "metadata": {},
   "source": [
    "说明：\n",
    "    给定一组 互不相同 的单词， 找出所有不同 的索引对(i, j)，使得列表中的两个单词， words[i] + words[j] ，可拼接成回文串。\n",
    "\n",
    "示例 1：\n",
    "    输入：[\"abcd\",\"dcba\",\"lls\",\"s\",\"sssll\"]\n",
    "    输出：[[0,1],[1,0],[3,2],[2,4]] \n",
    "    解释：可拼接成的回文串为 [\"dcbaabcd\",\"abcddcba\",\"slls\",\"llssssll\"]\n",
    "\n",
    "示例 2：\n",
    "    输入：[\"bat\",\"tab\",\"cat\"]\n",
    "    输出：[[0,1],[1,0]] \n",
    "    解释：可拼接成的回文串为 [\"battab\",\"tabbat\"]\n",
    "\n",
    "Constraints:\n",
    "    1 <= words.length <= 5000\n",
    "    0 <= words[i].length <= 300\n",
    "    words[i] consists of lower-case English letters."
   ]
  },
  {
   "cell_type": "code",
   "execution_count": 15,
   "metadata": {},
   "outputs": [],
   "source": [
    "class Solution:\n",
    "    def palindromePairs(self, words):\n",
    "        ans = []\n",
    "        N = len(words)\n",
    "        for i in range(N):\n",
    "            w_i = words[i]\n",
    "            for j in range(N):\n",
    "                w_j = words[j]\n",
    "                if i != j:\n",
    "                    concat = w_i + w_j\n",
    "                    if concat == concat[::-1]:\n",
    "                        ans.append([i, j])\n",
    "        return ans\n",
    "            "
   ]
  },
  {
   "cell_type": "raw",
   "metadata": {},
   "source": [
    "拆分为两部分, 如果前面部分是palindrome, 那么把后面部分的单词reverse, 如果reverse后的单词在diction里面, ans.append(d[back], index); \n",
    "同理, 如果后面部分是palindrome, 把前面部分的单词reverse, 如果reverse后的单词在diction里面, ans.append(index, d[back]). "
   ]
  },
  {
   "cell_type": "code",
   "execution_count": 28,
   "metadata": {},
   "outputs": [],
   "source": [
    "class Solution:\n",
    "    def palindromePairs(self, words):\n",
    "        def check(w):\n",
    "            return w == w[::-1]\n",
    "        \n",
    "        d, ans = {w:idx for idx, w in enumerate(words)}, []\n",
    "        \n",
    "        for word, idx in d.items():\n",
    "            l = len(word)\n",
    "            for i in range(l+1):\n",
    "                pre, suf = word[:i],word[i:]\n",
    "                if check(pre):\n",
    "                    back = suf[::-1]\n",
    "                    if back != word and back in d:\n",
    "                        ans.append([d[back], idx])\n",
    "                if i != l and check(suf):\n",
    "                    back = pre[::-1]\n",
    "                    if back != word and back in d:\n",
    "                        ans.append([idx, d[back]])\n",
    "        return ans  "
   ]
  },
  {
   "cell_type": "code",
   "execution_count": 33,
   "metadata": {},
   "outputs": [],
   "source": [
    "class Solution:\n",
    "    def palindromePairs(self, words):\n",
    "        def check(word):\n",
    "            return word == word[::-1]\n",
    "        \n",
    "        w_dict = {w:idx for idx, w in enumerate(words)}\n",
    "        ans = []\n",
    "        for w, idx in w_dict.items():\n",
    "            w_len = len(w)\n",
    "            for i in range(w_len):\n",
    "                pre, suf = w[:i], w[i:]\n",
    "                if check(pre): # 如果前缀是回文串\n",
    "                    re_suf = suf[::-1]\n",
    "                    # 检查后缀的回文串是否在字典中，\n",
    "                    # 并且逆序之后不能单词本身，不然匹配到的是该单词自己\n",
    "                    if re_suf != w and re_suf in w_dict: \n",
    "                        ans.append([w_dict[re_suf], idx])\n",
    "                \n",
    "                if idx != w_len and check(suf):\n",
    "                    re_pre = pre[::-1]\n",
    "                    if re_pre != w and re_pre in w_dict:\n",
    "                        ans.append([idx, w_dict[re_pre]])\n",
    "        return ans"
   ]
  },
  {
   "cell_type": "code",
   "execution_count": 34,
   "metadata": {},
   "outputs": [
    {
     "data": {
      "text/plain": [
       "[[1, 0], [0, 1], [3, 2], [2, 4]]"
      ]
     },
     "execution_count": 34,
     "metadata": {},
     "output_type": "execute_result"
    }
   ],
   "source": [
    "solution = Solution()\n",
    "solution.palindromePairs([\"abcd\",\"dcba\",\"lls\",\"s\",\"sssll\"])"
   ]
  },
  {
   "cell_type": "code",
   "execution_count": null,
   "metadata": {},
   "outputs": [],
   "source": []
  }
 ],
 "metadata": {
  "kernelspec": {
   "display_name": "Python 3",
   "language": "python",
   "name": "python3"
  },
  "language_info": {
   "codemirror_mode": {
    "name": "ipython",
    "version": 3
   },
   "file_extension": ".py",
   "mimetype": "text/x-python",
   "name": "python",
   "nbconvert_exporter": "python",
   "pygments_lexer": "ipython3",
   "version": "3.6.2"
  }
 },
 "nbformat": 4,
 "nbformat_minor": 4
}
