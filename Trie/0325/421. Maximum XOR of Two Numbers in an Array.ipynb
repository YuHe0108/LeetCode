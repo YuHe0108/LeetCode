{
 "cells": [
  {
   "cell_type": "code",
   "execution_count": null,
   "metadata": {},
   "outputs": [],
   "source": []
  },
  {
   "cell_type": "code",
   "execution_count": null,
   "metadata": {},
   "outputs": [],
   "source": []
  },
  {
   "cell_type": "code",
   "execution_count": null,
   "metadata": {},
   "outputs": [],
   "source": []
  },
  {
   "cell_type": "code",
   "execution_count": null,
   "metadata": {},
   "outputs": [],
   "source": []
  },
  {
   "cell_type": "code",
   "execution_count": 20,
   "metadata": {},
   "outputs": [],
   "source": [
    "from typing import List\n",
    "\n",
    "class TrieNode:\n",
    "    def __init__(self):\n",
    "        self.next = [None, None]\n",
    "\n",
    "class Solution:\n",
    "    def findMaximumXOR(self, nums: List[int]) -> int:\n",
    "        \n",
    "        def getMaxVal(val):\n",
    "            out = 0\n",
    "            node = root\n",
    "            for i in range(30, -1, -1):\n",
    "                bit = ((val >> i) & 1)\n",
    "                if bit == 1: # 当前为 1， 那么为了尽可能的大，我需要走0，因为 1^0 = 1\n",
    "                    if node.next[0]:\n",
    "                        node = node.next[0]\n",
    "                        out += (1 << i)\n",
    "                    else:\n",
    "                        # 如果没有0，那么只能朝着 1 走\n",
    "                        node = node.next[1]\n",
    "                else:\n",
    "                    if node.next[1]:\n",
    "                        node = node.next[1]\n",
    "                        out |= (1 << i)\n",
    "                    else:\n",
    "                        # 如果没有0，那么只能朝着 1 走\n",
    "                        node = node.next[0]\n",
    "            return out\n",
    "        \n",
    "        def insertNode(val):\n",
    "            node = root\n",
    "            for i in range(30, -1, -1):\n",
    "                if ((val >> i) & 1) == 1:\n",
    "                    if node.next[1] is None:\n",
    "                        node.next[1] = TrieNode()\n",
    "                    node = node.next[1]\n",
    "                else:\n",
    "                    if node.next[0] is None:\n",
    "                        node.next[0] = TrieNode()\n",
    "                    node = node.next[0]\n",
    "            return\n",
    "        \n",
    "        res = -float('inf')\n",
    "        root = TrieNode()\n",
    "        insertNode(nums[0])\n",
    "        for v in nums[1:]:\n",
    "            res = max(res, getMaxVal(v))\n",
    "            insertNode(v)\n",
    "        # 只有一个元素的时候\n",
    "        return res if res != -float('inf') else 0"
   ]
  },
  {
   "cell_type": "code",
   "execution_count": 21,
   "metadata": {},
   "outputs": [
    {
     "data": {
      "text/plain": [
       "28"
      ]
     },
     "execution_count": 21,
     "metadata": {},
     "output_type": "execute_result"
    }
   ],
   "source": [
    "solution = Solution()\n",
    "solution.findMaximumXOR([3, 10, 5, 25, 2, 8])"
   ]
  },
  {
   "cell_type": "code",
   "execution_count": null,
   "metadata": {},
   "outputs": [],
   "source": []
  }
 ],
 "metadata": {
  "kernelspec": {
   "display_name": "Python 3",
   "language": "python",
   "name": "python3"
  },
  "language_info": {
   "codemirror_mode": {
    "name": "ipython",
    "version": 3
   },
   "file_extension": ".py",
   "mimetype": "text/x-python",
   "name": "python",
   "nbconvert_exporter": "python",
   "pygments_lexer": "ipython3",
   "version": "3.6.2"
  }
 },
 "nbformat": 4,
 "nbformat_minor": 4
}
