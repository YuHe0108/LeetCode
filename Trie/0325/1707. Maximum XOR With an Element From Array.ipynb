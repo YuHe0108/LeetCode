{
 "cells": [
  {
   "cell_type": "code",
   "execution_count": null,
   "metadata": {},
   "outputs": [],
   "source": []
  },
  {
   "cell_type": "code",
   "execution_count": null,
   "metadata": {},
   "outputs": [],
   "source": []
  },
  {
   "cell_type": "code",
   "execution_count": 3,
   "metadata": {},
   "outputs": [
    {
     "data": {
      "text/plain": [
       "29.897352853986263"
      ]
     },
     "execution_count": 3,
     "metadata": {},
     "output_type": "execute_result"
    }
   ],
   "source": [
    "import math\n",
    "math.log(1000000000, 2)"
   ]
  },
  {
   "cell_type": "code",
   "execution_count": null,
   "metadata": {},
   "outputs": [],
   "source": []
  },
  {
   "cell_type": "code",
   "execution_count": null,
   "metadata": {},
   "outputs": [],
   "source": [
    "# 题目大意：\n",
    "# 将 queries[i][0] 与 nums 中的值异或，并且与之异或的值，不能大于 queries[i][1]"
   ]
  },
  {
   "cell_type": "code",
   "execution_count": 41,
   "metadata": {},
   "outputs": [],
   "source": [
    "from typing import List\n",
    "\n",
    "class TrieNode:\n",
    "    def __init__(self):\n",
    "        self.next = [None, None]\n",
    "\n",
    "class Solution:\n",
    "    def maximizeXor(self, nums: List[int], queries: List[List[int]]) -> List[int]:\n",
    "        \n",
    "        def getMaxVal(val, th):\n",
    "            node = root\n",
    "            cur = 0\n",
    "            flag = False # 如果在高位小于过th，那么后续的位可以不小于 th 对应bit位置上的值\n",
    "            for i in range(31, -1, -1):\n",
    "                bit_v = (val >> i) & 1\n",
    "                bit_t = (th >> i) & 1\n",
    "                if bit_v == 1: # 1 ^ 0 = 1, 最大应该往 0走\n",
    "                    if bit_t == 0: # threshold 当前位置为 0，往0走，正好打平，不会超过\n",
    "                        if node.next[0]: \n",
    "                            node = node.next[0]\n",
    "                            cur += (1 << i)\n",
    "                        else: # 如果没有0，也不能走1，走1会大于阈值，返回为 -1\n",
    "                            if not flag:\n",
    "                                return -1\n",
    "                            # 曾经 小于过阈值的话，那么以后可以走1\n",
    "                            node = node.next[1]\n",
    "                    else:\n",
    "                        if node.next[0]: # 优先走0，走 0 小于阈值, 但是结果的 bit 位置为 1\n",
    "                            node = node.next[0]\n",
    "                            cur += (1 << i)\n",
    "                            flag = True\n",
    "                        else: # 不存在 0 的话走1，走 1 打平阈值，结果的 bit 位置为0，不加值\n",
    "                            node = node.next[1]\n",
    "                else:\n",
    "                    if bit_t == 0: # bit_v =0, 倾向走 1\n",
    "                        if flag: # 曾经小于过 threshold，那么可以走 1\n",
    "                            if node.next[1]:\n",
    "                                node = node.next[1]\n",
    "                                cur += (1 << i)\n",
    "                            else: # 打平阈值\n",
    "                                node = node.next[0]\n",
    "                        else:\n",
    "                            if node.next[0]: # 但是走 1， 会大于阈值，因此只能走0, 0不存在，返回-1\n",
    "                                node = node.next[0]\n",
    "                            else:\n",
    "                                return -1\n",
    "                    else: # bit_v = 0, 倾向走 1, 1^0 = 1， bit_t == 1， 打平\n",
    "                        if node.next[1]:\n",
    "                            cur += (1 << i)\n",
    "                            node = node.next[1]\n",
    "                        else: # bit_t = 1, 但是我们走的是 0，那么以后我们选择值一定都是小于 阈值的\n",
    "                            node = node.next[0]\n",
    "                            flag = True\n",
    "            return cur\n",
    "        \n",
    "        def insertNode(val):\n",
    "            # 将 val 插入节点 root 中\n",
    "            node = root\n",
    "            for i in range(31, -1, -1):\n",
    "                bit_v = (val >> i) & 1\n",
    "                if bit_v == 1:\n",
    "                    if not node.next[1]:\n",
    "                        node.next[1] = TrieNode()\n",
    "                    node = node.next[1]\n",
    "                else:\n",
    "                    if not node.next[0]:\n",
    "                        node.next[0] = TrieNode()\n",
    "                    node = node.next[0]\n",
    "            return\n",
    "        \n",
    "        root = TrieNode()\n",
    "        for v in nums:\n",
    "            insertNode(v)\n",
    "        \n",
    "        n = len(queries)\n",
    "        res = [-1] * n\n",
    "        for i, (v, th) in enumerate(queries):\n",
    "            res[i] = getMaxVal(v, th)\n",
    "        return res"
   ]
  },
  {
   "cell_type": "code",
   "execution_count": 42,
   "metadata": {},
   "outputs": [
    {
     "data": {
      "text/plain": [
       "[1050219420, 844498962, 540190212, 539622516, -1]"
      ]
     },
     "execution_count": 42,
     "metadata": {},
     "output_type": "execute_result"
    }
   ],
   "source": [
    "solution = Solution()\n",
    "solution.maximizeXor([536870912,0,534710168,330218644,142254206],\n",
    "                     [[558240772,1000000000],[307628050,1000000000],[3319300,1000000000],[2751604,683297522],[214004,404207941]])"
   ]
  },
  {
   "cell_type": "code",
   "execution_count": 53,
   "metadata": {},
   "outputs": [
    {
     "data": {
      "text/plain": [
       "'110100001111110100'"
      ]
     },
     "execution_count": 53,
     "metadata": {},
     "output_type": "execute_result"
    }
   ],
   "source": [
    "bin(404207941)[2:]\n",
    "bin(214004)[2:]"
   ]
  },
  {
   "cell_type": "code",
   "execution_count": 47,
   "metadata": {},
   "outputs": [
    {
     "data": {
      "text/plain": [
       "'01000011110101010000001111110'"
      ]
     },
     "execution_count": 47,
     "metadata": {},
     "output_type": "execute_result"
    }
   ],
   "source": [
    "'11000000101111011100101000101'\n",
    "'10011101011101011110010010100'\n",
    "'00000000000110100001111110100'\n",
    "'1'"
   ]
  },
  {
   "cell_type": "code",
   "execution_count": 51,
   "metadata": {},
   "outputs": [
    {
     "data": {
      "text/plain": [
       "330170208"
      ]
     },
     "execution_count": 51,
     "metadata": {},
     "output_type": "execute_result"
    }
   ],
   "source": [
    "214004 ^ 330218644"
   ]
  },
  {
   "cell_type": "code",
   "execution_count": null,
   "metadata": {},
   "outputs": [],
   "source": []
  }
 ],
 "metadata": {
  "kernelspec": {
   "display_name": "Python 3",
   "language": "python",
   "name": "python3"
  },
  "language_info": {
   "codemirror_mode": {
    "name": "ipython",
    "version": 3
   },
   "file_extension": ".py",
   "mimetype": "text/x-python",
   "name": "python",
   "nbconvert_exporter": "python",
   "pygments_lexer": "ipython3",
   "version": "3.6.2"
  }
 },
 "nbformat": 4,
 "nbformat_minor": 4
}
