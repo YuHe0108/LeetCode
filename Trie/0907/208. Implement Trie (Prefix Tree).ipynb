{
 "cells": [
  {
   "cell_type": "markdown",
   "metadata": {},
   "source": [
    "### 字典树，或者也叫前缀树\n",
    "    1. Trie又被称为前缀树、字典树，所以当然是一棵树。上面这棵Trie树包含的字符串集合是{in, inn, int, te, tea, ten, to}。每个节点的编号是我们为了描述方便加上去的。树中的每一条边上都标识有一个字符。这些字符可以是任意一个字符集中的字符。比如对于都是小写字母的字符串，字符集就是’a’-‘z’；对于都是数字的字符串，字符集就是’0’-‘9’；对于二进制字符串，字符集就是0和1。比如上图中3号节点对应的路径0123上的字符串是inn，8号节点对应的路径0568上的字符串是ten。终结点与集合中的字符串是一一对应的。\n",
    "<img src='208.jpg' width=400>"
   ]
  },
  {
   "cell_type": "raw",
   "metadata": {},
   "source": [
    "说明：\n",
    "    实现一个前缀树，并且包含：insert, search, and startsWith methods.\n",
    "Note:\n",
    "    You may assume that all inputs are consist of lowercase letters a-z.\n",
    "    All inputs are guaranteed to be non-empty strings."
   ]
  },
  {
   "cell_type": "code",
   "execution_count": 19,
   "metadata": {},
   "outputs": [],
   "source": [
    "class Trie:\n",
    "    def __init__(self):\n",
    "        \"\"\"\n",
    "        Initialize your data structure here.\n",
    "        \"\"\"\n",
    "        self.dic = {}\n",
    "        \n",
    "    def insert(self, word: str) -> None:\n",
    "        \"\"\"\n",
    "        Inserts a word into the trie.\n",
    "        \"\"\"\n",
    "        cur = self.dic\n",
    "        for w in word:\n",
    "            if w not in cur:\n",
    "                cur[w] = {}\n",
    "            cur = cur[w]\n",
    "        cur['#'] = True\n",
    "\n",
    "    def search(self, word: str) -> bool:\n",
    "        \"\"\"\n",
    "        Returns if the word is in the trie.\n",
    "        \"\"\"\n",
    "        cur = self.dic\n",
    "        for w in word:\n",
    "            if w not in cur:\n",
    "                return False\n",
    "            cur = cur[w]\n",
    "        return '#' in cur\n",
    "        \n",
    "    def startsWith(self, prefix: str) -> bool:\n",
    "        \"\"\"\n",
    "        Returns if there is any word in the trie that starts with the given prefix.\n",
    "        \"\"\"\n",
    "        cur = self.dic\n",
    "        for pre in prefix:\n",
    "            if pre not in cur:\n",
    "                return False\n",
    "            cur = cur[pre]\n",
    "        return True"
   ]
  },
  {
   "cell_type": "code",
   "execution_count": 20,
   "metadata": {},
   "outputs": [],
   "source": [
    "# Your Trie object will be instantiated and called as such:\n",
    "word_ = 'car'\n",
    "prefix_ = 'ca'\n",
    "obj = Trie()\n",
    "obj.insert(word_)\n",
    "obj.insert('cad')\n",
    "param_2 = obj.search(word_)\n",
    "param_3 = obj.startsWith(prefix_)"
   ]
  },
  {
   "cell_type": "markdown",
   "metadata": {},
   "source": []
  }
 ],
 "metadata": {
  "kernelspec": {
   "display_name": "Python 3",
   "language": "python",
   "name": "python3"
  },
  "language_info": {
   "codemirror_mode": {
    "name": "ipython",
    "version": 3
   },
   "file_extension": ".py",
   "mimetype": "text/x-python",
   "name": "python",
   "nbconvert_exporter": "python",
   "pygments_lexer": "ipython3",
   "version": "3.6.2"
  }
 },
 "nbformat": 4,
 "nbformat_minor": 4
}
