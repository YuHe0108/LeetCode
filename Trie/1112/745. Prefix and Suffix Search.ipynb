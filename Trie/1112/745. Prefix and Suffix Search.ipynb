{
 "cells": [
  {
   "cell_type": "raw",
   "metadata": {},
   "source": [
    "说明：\n",
    "    给定多个 words，words[i] 的权重为 i 。\n",
    "    设计一个类 WordFilter 实现函数WordFilter.f(String prefix, String suffix)。\n",
    "    这个函数将返回具有前缀 prefix 和后缀suffix 的词的最大权重。\n",
    "    如果没有这样的词，返回 -1。\n",
    "\n",
    "例子:\n",
    "    输入:\n",
    "        WordFilter([\"apple\"])\n",
    "        WordFilter.f(\"a\", \"e\") // 返回 0\n",
    "        WordFilter.f(\"b\", \"\") // 返回 -1\n",
    "\n",
    "注意:\n",
    "    words的长度在[1, 15000]之间。\n",
    "    对于每个测试用例，最多会有words.length次对WordFilter.f的调用。\n",
    "    words[i]的长度在[1, 10]之间。\n",
    "    prefix, suffix的长度在[0, 10]之前。\n",
    "    words[i]和prefix, suffix只包含小写字母。"
   ]
  },
  {
   "cell_type": "code",
   "execution_count": 53,
   "metadata": {},
   "outputs": [],
   "source": [
    "class Node:\n",
    "    def __init__(self):\n",
    "        self.children = {}\n",
    "        self.isEnd = False\n",
    "\n",
    "class Trie:\n",
    "    def __init__(self):\n",
    "        self.root = Node()\n",
    "    \n",
    "    def insert(self, word, val):\n",
    "        node = self.root\n",
    "        for c in word:\n",
    "            if c not in node.children:\n",
    "                node.children[c] = [val, Node()]\n",
    "            node.children[c][0] = max(node.children[c][0], val)\n",
    "            node = node.children[c][1]\n",
    "        node.isEnd = True\n",
    "\n",
    "class WordFilter:\n",
    "\n",
    "    def __init__(self, words):\n",
    "        self.trie = Trie()\n",
    "        for i, w in enumerate(words):\n",
    "            self.trie.insert(w, i)\n",
    "    \n",
    "    def check(self, node, word):\n",
    "        return -1\n",
    "    \n",
    "    def f(self, prefix: str, suffix: str) -> int:\n",
    "        node = self.trie.root\n",
    "        pre_val = None\n",
    "        pre_node = None\n",
    "        for c in prefix:\n",
    "            if c not in node.children:\n",
    "                return -1\n",
    "            pre_val = node.children[c][0]\n",
    "            pre_node = node\n",
    "            node = node.children[c][1]\n",
    "        "
   ]
  },
  {
   "cell_type": "code",
   "execution_count": 87,
   "metadata": {},
   "outputs": [],
   "source": [
    "class Node:\n",
    "    def __init__(self):\n",
    "        self.children = {}\n",
    "        self.isEnd = False\n",
    "\n",
    "class Trie:\n",
    "    def __init__(self):\n",
    "        self.root = Node()\n",
    "    \n",
    "    def insert(self, word, val):\n",
    "        node = self.root\n",
    "        for c in word:\n",
    "            if c not in node.children:\n",
    "                node.children[c] = [val, Node()]\n",
    "            node.children[c][0] = max(node.children[c][0], val)\n",
    "            node = node.children[c][1]\n",
    "        node.isEnd = True\n",
    "\n",
    "class WordFilter:\n",
    "    def __init__(self, words):\n",
    "        self.pre_trie = Trie()\n",
    "        for i, w in enumerate(words):\n",
    "            self.pre_trie.insert(w, i)\n",
    "        self.suf_trie = Trie()\n",
    "        for i, w in enumerate(words):\n",
    "            self.suf_trie.insert(w[::-1], i)\n",
    "            \n",
    "    def check(self, node, word):\n",
    "        val = -1\n",
    "        for i, c in enumerate(word):\n",
    "            if c not in node.children:\n",
    "                print(c, i)\n",
    "                return -1\n",
    "            val = node.children[c][0]\n",
    "            node = node.children[c][1]\n",
    "        return val\n",
    "            \n",
    "    def f(self, prefix: str, suffix: str) -> int:\n",
    "        pre_val = self.check(self.pre_trie.root, prefix)\n",
    "        suf_val = self.check(self.suf_trie.root, suffix[::-1])\n",
    "        return min(suf_val, pre_val)"
   ]
  },
  {
   "cell_type": "code",
   "execution_count": 88,
   "metadata": {},
   "outputs": [
    {
     "name": "stdout",
     "output_type": "stream",
     "text": [
      "4\n"
     ]
    }
   ],
   "source": [
    "obj = WordFilter([\"cabaabaaaa\",\"ccbcababac\",\"bacaabccba\",\"bcbbcbacaa\",\"abcaccbcaa\",\n",
    "                  \"accabaccaa\",\"cabcbbbcca\",\"ababccabcb\",\"caccbbcbab\",\"bccbacbcba\"])\n",
    "for a, b in [[\"ab\",\"abcaccbcaa\"]]:\n",
    "    print(obj.f(a, b))"
   ]
  },
  {
   "cell_type": "code",
   "execution_count": null,
   "metadata": {},
   "outputs": [],
   "source": []
  },
  {
   "cell_type": "code",
   "execution_count": null,
   "metadata": {},
   "outputs": [],
   "source": [
    "[\"WordFilter\",\"f\",\"f\",\"f\",\"f\",\"f\",\"f\",\"f\",\"f\",\"f\",\"f\"]\n",
    "[[[\"cabaabaaaa\",\"ccbcababac\",\"bacaabccba\",\"bcbbcbacaa\",\"abcaccbcaa\",\"accabaccaa\",\"cabcbbbcca\",\"ababccabcb\",\"caccbbcbab\",\"bccbacbcba\"]],[\"bccbacbcba\",\"a\"],[\"ab\",\"abcaccbcaa\"],[\"a\",\"aa\"],[\"cabaaba\",\"abaaaa\"],[\"cacc\",\"accbbcbab\"],[\"ccbcab\",\"bac\"],[\"bac\",\"cba\"],[\"ac\",\"accabaccaa\"],[\"bcbb\",\"aa\"],[\"ccbca\",\"cbcababac\"]]"
   ]
  },
  {
   "cell_type": "code",
   "execution_count": null,
   "metadata": {},
   "outputs": [],
   "source": []
  },
  {
   "cell_type": "code",
   "execution_count": null,
   "metadata": {},
   "outputs": [],
   "source": []
  },
  {
   "cell_type": "code",
   "execution_count": 89,
   "metadata": {},
   "outputs": [],
   "source": [
    "_INDICES = object()\n",
    "\n",
    "class WordFilter:\n",
    "\n",
    "    def __init__(self, words):\n",
    "        self.prefix_trie = dict()\n",
    "        self.prefix_trie[_INDICES] = set()\n",
    "        self.suffix_trie = dict()\n",
    "        self.suffix_trie[_INDICES] = set()"
   ]
  },
  {
   "cell_type": "code",
   "execution_count": 90,
   "metadata": {},
   "outputs": [],
   "source": [
    "a = dict()\n",
    "a[_INDICES] = set()"
   ]
  },
  {
   "cell_type": "code",
   "execution_count": 91,
   "metadata": {},
   "outputs": [
    {
     "data": {
      "text/plain": [
       "{<object at 0x151c1097410>: set()}"
      ]
     },
     "execution_count": 91,
     "metadata": {},
     "output_type": "execute_result"
    }
   ],
   "source": [
    "a"
   ]
  },
  {
   "cell_type": "code",
   "execution_count": 106,
   "metadata": {},
   "outputs": [],
   "source": [
    "_INDICES = object()\n",
    "\n",
    "class WordFilter:\n",
    "\n",
    "    def __init__(self, words):\n",
    "        self.prefix_trie = dict()\n",
    "        self.prefix_trie[_INDICES] = set()\n",
    "        self.suffix_trie = dict()\n",
    "        self.suffix_trie[_INDICES] = set()\n",
    "        \n",
    "        index = dict()\n",
    "        for i, word in enumerate(words):\n",
    "            index[word] = i\n",
    "            \n",
    "        for word, i in index.items():\n",
    "            node = self.prefix_trie\n",
    "            node[_INDICES].add(i) \n",
    "            for c in word:\n",
    "                if c not in node:\n",
    "                    node[c] = dict()\n",
    "                    node[c][_INDICES] = set()\n",
    "                node = node[c]\n",
    "                node[_INDICES].add(i)\n",
    "                \n",
    "            node = self.suffix_trie\n",
    "            node[_INDICES].add(i)\n",
    "            for c in reversed(word):\n",
    "                if c not in node:\n",
    "                    node[c] = dict()\n",
    "                    node[c][_INDICES] = set()\n",
    "                node = node[c]\n",
    "                node[_INDICES].add(i)\n",
    "\n",
    "    def f(self, prefix: str, suffix: str) -> int:\n",
    "        prefix_node = self.prefix_trie\n",
    "        for c in prefix:\n",
    "            if c not in prefix_node:\n",
    "                return -1\n",
    "            prefix_node = prefix_node[c]\n",
    "        \n",
    "        print(prefix_node) \n",
    "        suffix_node = self.suffix_trie\n",
    "        for c in reversed(suffix):\n",
    "            if c not in suffix_node:\n",
    "                return -1\n",
    "            suffix_node = suffix_node[c]\n",
    "        print(suffix_node) \n",
    "        return max(prefix_node[_INDICES] & suffix_node[_INDICES])"
   ]
  },
  {
   "cell_type": "code",
   "execution_count": 9,
   "metadata": {},
   "outputs": [],
   "source": [
    "# 暴力揭发\n",
    "class WordFilter(object):\n",
    "\n",
    "    def __init__(self, words):\n",
    "        self.map = {}\n",
    "        for i, word in enumerate(words):\n",
    "            prefix = \"\"\n",
    "            for ch in [\"\"] + list(word):\n",
    "                prefix += ch\n",
    "                suffix = \"\"\n",
    "                for ch2 in [\"\"] + list(word[::-1]):\n",
    "                    suffix += ch2\n",
    "                    self.map[prefix + '#' + suffix[::-1]] = i\n",
    "        print(self.map)\n",
    "\n",
    "    def f(self, prefix, suffix):\n",
    "        print(prefix + '#' + suffix)\n",
    "        return self.map.get(prefix + '#' + suffix, -1)"
   ]
  },
  {
   "cell_type": "code",
   "execution_count": 10,
   "metadata": {},
   "outputs": [
    {
     "name": "stdout",
     "output_type": "stream",
     "text": [
      "\n",
      "a\n",
      "p\n",
      "p\n",
      "l\n",
      "e\n",
      "\n",
      "a\n",
      "m\n",
      "m\n",
      "m\n",
      "e\n",
      "{'#': 1, '#e': 1, '#le': 0, '#ple': 0, '#pple': 0, '#apple': 0, 'a#': 1, 'a#e': 1, 'a#le': 0, 'a#ple': 0, 'a#pple': 0, 'a#apple': 0, 'ap#': 0, 'ap#e': 0, 'ap#le': 0, 'ap#ple': 0, 'ap#pple': 0, 'ap#apple': 0, 'app#': 0, 'app#e': 0, 'app#le': 0, 'app#ple': 0, 'app#pple': 0, 'app#apple': 0, 'appl#': 0, 'appl#e': 0, 'appl#le': 0, 'appl#ple': 0, 'appl#pple': 0, 'appl#apple': 0, 'apple#': 0, 'apple#e': 0, 'apple#le': 0, 'apple#ple': 0, 'apple#pple': 0, 'apple#apple': 0, '#me': 1, '#mme': 1, '#mmme': 1, '#ammme': 1, 'a#me': 1, 'a#mme': 1, 'a#mmme': 1, 'a#ammme': 1, 'am#': 1, 'am#e': 1, 'am#me': 1, 'am#mme': 1, 'am#mmme': 1, 'am#ammme': 1, 'amm#': 1, 'amm#e': 1, 'amm#me': 1, 'amm#mme': 1, 'amm#mmme': 1, 'amm#ammme': 1, 'ammm#': 1, 'ammm#e': 1, 'ammm#me': 1, 'ammm#mme': 1, 'ammm#mmme': 1, 'ammm#ammme': 1, 'ammme#': 1, 'ammme#e': 1, 'ammme#me': 1, 'ammme#mme': 1, 'ammme#mmme': 1, 'ammme#ammme': 1}\n",
      "a#e\n",
      "1\n"
     ]
    }
   ],
   "source": [
    "obj = WordFilter(['apple', 'ammme'])\n",
    "for a, b in [[\"a\",\"e\"]]:\n",
    "    print(obj.f(a, b))"
   ]
  },
  {
   "cell_type": "code",
   "execution_count": 110,
   "metadata": {},
   "outputs": [
    {
     "data": {
      "text/plain": [
       "{2}"
      ]
     },
     "execution_count": 110,
     "metadata": {},
     "output_type": "execute_result"
    }
   ],
   "source": [
    "a = {2, 2}\n",
    "b = {3, 2}\n",
    "a & b"
   ]
  },
  {
   "cell_type": "code",
   "execution_count": null,
   "metadata": {},
   "outputs": [],
   "source": []
  }
 ],
 "metadata": {
  "kernelspec": {
   "display_name": "Python 3",
   "language": "python",
   "name": "python3"
  },
  "language_info": {
   "codemirror_mode": {
    "name": "ipython",
    "version": 3
   },
   "file_extension": ".py",
   "mimetype": "text/x-python",
   "name": "python",
   "nbconvert_exporter": "python",
   "pygments_lexer": "ipython3",
   "version": "3.6.2"
  }
 },
 "nbformat": 4,
 "nbformat_minor": 4
}
