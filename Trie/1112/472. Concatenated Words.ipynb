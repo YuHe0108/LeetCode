{
 "cells": [
  {
   "cell_type": "raw",
   "metadata": {},
   "source": [
    "说明：\n",
    "    给定一个不含重复单词的列表，编写一个程序，返回给定单词列表中所有的连接词。\n",
    "    连接词的定义为：\n",
    "        一个字符串完全是由至少两个给定数组中的单词组成的。\n",
    "\n",
    "示例:\n",
    "    输入: [\"cat\",\"cats\",\"catsdogcats\",\"dog\",\"dogcatsdog\",\"hippopotamuses\",\"rat\",\"ratcatdogcat\"]\n",
    "    输出: [\"catsdogcats\",\"dogcatsdog\",\"ratcatdogcat\"]\n",
    "\n",
    "解释:\n",
    "     \"catsdogcats\"由\"cats\", \"dog\" 和 \"cats\"组成; \n",
    "     \"dogcatsdog\"由\"dog\", \"cats\"和\"dog\"组成; \n",
    "     \"ratcatdogcat\"由\"rat\", \"cat\", \"dog\"和\"cat\"组成。\n",
    "\n",
    "说明:\n",
    "    给定数组的元素总数不超过 10000。\n",
    "    给定数组中元素的长度总和不超过 600000。\n",
    "    所有输入字符串只包含小写字母。\n",
    "    不需要考虑答案输出的顺序。"
   ]
  },
  {
   "cell_type": "code",
   "execution_count": 15,
   "metadata": {},
   "outputs": [],
   "source": [
    "class Node:\n",
    "    def __init__(self):\n",
    "        self.children = {}\n",
    "        self.is_end = False\n",
    "\n",
    "class Trie:\n",
    "    def __init__(self):\n",
    "        self.root = Node()\n",
    "        self.count = 0\n",
    "    \n",
    "    def insert(self, word):\n",
    "        print(word, self.count)\n",
    "        node = self.root\n",
    "        for i, c in enumerate(word):\n",
    "            if c not in node.children:\n",
    "                node.children[c] = Node()\n",
    "            node = node.children[c]\n",
    "            if node.is_end:\n",
    "                self.count += 1\n",
    "                self.insert(word[i+1:])\n",
    "        node.is_end = True\n",
    "        \n",
    "class Solution:\n",
    "    def findAllConcatenatedWordsInADict(self, words):\n",
    "        trie = Trie()\n",
    "        words = sorted(words, key=lambda x:len(x))\n",
    "        res = []\n",
    "        for w in words:\n",
    "            trie.count = 0\n",
    "            trie.insert(w)\n",
    "            print(trie.count, w)\n",
    "            if trie.count >= 2:\n",
    "                res.append(w)\n",
    "        return res"
   ]
  },
  {
   "cell_type": "code",
   "execution_count": 29,
   "metadata": {},
   "outputs": [],
   "source": [
    "class Solution:\n",
    "    def findAllConcatenatedWordsInADict(self, words):\n",
    "        def dp(word):\n",
    "            n = len(word)\n",
    "            dp = [False] * (n + 1)\n",
    "            dp[0] = True\n",
    "            \n",
    "            for i in range(n):\n",
    "                for j in range(i+1, n + 1):\n",
    "                    sub_s = word[i:j]\n",
    "                    if dp[i] and sub_s in w_set and sub_s != word:\n",
    "                        dp[j] = True\n",
    "                        break\n",
    "            return dp[-1]\n",
    "        \n",
    "        w_set = set(words)\n",
    "        ans = []\n",
    "        for w in words:\n",
    "            if dp(w):\n",
    "                ans.append(w)\n",
    "        return ans"
   ]
  },
  {
   "cell_type": "code",
   "execution_count": 30,
   "metadata": {},
   "outputs": [
    {
     "data": {
      "text/plain": [
       "['ratcatdogcat']"
      ]
     },
     "execution_count": 30,
     "metadata": {},
     "output_type": "execute_result"
    }
   ],
   "source": [
    "solution = Solution()\n",
    "solution.findAllConcatenatedWordsInADict([\"cat\",\"cats\",\"catsdogcats\",\"dog\",\"dogcatsdog\",\"hippopotamuses\",\"rat\",\"ratcatdogcat\"])"
   ]
  },
  {
   "cell_type": "code",
   "execution_count": null,
   "metadata": {},
   "outputs": [],
   "source": []
  }
 ],
 "metadata": {
  "kernelspec": {
   "display_name": "Python 3",
   "language": "python",
   "name": "python3"
  },
  "language_info": {
   "codemirror_mode": {
    "name": "ipython",
    "version": 3
   },
   "file_extension": ".py",
   "mimetype": "text/x-python",
   "name": "python",
   "nbconvert_exporter": "python",
   "pygments_lexer": "ipython3",
   "version": "3.6.2"
  }
 },
 "nbformat": 4,
 "nbformat_minor": 4
}
