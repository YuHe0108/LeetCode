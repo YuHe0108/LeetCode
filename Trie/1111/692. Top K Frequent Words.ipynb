{
 "cells": [
  {
   "cell_type": "raw",
   "metadata": {},
   "source": [
    "说明：\n",
    "    给一非空的单词列表，返回前 k 个出现次数最多的单词。\n",
    "    返回的答案应该按单词出现频率由高到低排序。如果不同的单词有相同出现频率，按字母顺序排序。\n",
    "\n",
    "示例 1：\n",
    "    输入: [\"i\", \"love\", \"leetcode\", \"i\", \"love\", \"coding\"], k = 2\n",
    "    输出: [\"i\", \"love\"]\n",
    "    解析: \"i\" 和 \"love\" 为出现次数最多的两个单词，均为2次。\n",
    "        注意，按字母顺序 \"i\" 在 \"love\" 之前。\n",
    " \n",
    "示例 2：\n",
    "    输入: [\"the\", \"day\", \"is\", \"sunny\", \"the\", \"the\", \"the\", \"sunny\", \"is\", \"is\"], k = 4\n",
    "    输出: [\"the\", \"is\", \"sunny\", \"day\"]\n",
    "    解析: \"the\", \"is\", \"sunny\" 和 \"day\" 是出现次数最多的四个单词，\n",
    "        出现次数依次为 4, 3, 2 和 1 次。\n",
    " \n",
    "注意：\n",
    "    假定 k 总为有效值， 1 ≤ k ≤ 集合元素数。\n",
    "    输入的单词均由小写字母组成。\n",
    "\n",
    "扩展练习：\n",
    "    尝试以 O(n log k) 时间复杂度和 O(n) 空间复杂度解决。"
   ]
  },
  {
   "cell_type": "code",
   "execution_count": 32,
   "metadata": {},
   "outputs": [],
   "source": [
    "from collections import Counter\n",
    "\n",
    "class Solution:\n",
    "    def topKFrequent(self, words, k):\n",
    "        w_count = Counter(words)\n",
    "        print(w_count)\n",
    "        w_count = sorted(w_count.items())\n",
    "        print(w_count)\n",
    "        freq = float('inf')\n",
    "        res = []\n",
    "        for _ in range(k):\n",
    "            c_w, c_f = w_count.pop()\n",
    "            if c_f == freq:\n",
    "                p_w = res.pop()\n",
    "                if c_w < p_w:\n",
    "                    c_w, p_w = p_w, c_w\n",
    "                res.extend([p_w, c_w])\n",
    "            elif c_f < freq:\n",
    "                freq = c_f\n",
    "                res.append(c_w)\n",
    "        return res"
   ]
  },
  {
   "cell_type": "code",
   "execution_count": 117,
   "metadata": {},
   "outputs": [],
   "source": [
    "from collections import Counter, defaultdict\n",
    "import heapq\n",
    "\n",
    "class Solution:\n",
    "    def topKFrequent(self, words, k):\n",
    "        w_count = Counter(words)\n",
    "        w_dict = defaultdict(list)\n",
    "        for key, val in w_count.items():\n",
    "            heapq.heappush(w_dict[val], key)\n",
    "            \n",
    "        print(w_dict)\n",
    "        w_sort = sorted(w_dict.items(), key=lambda x:x[0])\n",
    "        res = []\n",
    "        while k > 0:\n",
    "            f, w = w_sort.pop()\n",
    "            w_len = len(w)\n",
    "            while k > 0 and w_len > 0:\n",
    "                v = heapq.heappop(w)\n",
    "                res.append(v)\n",
    "                k -= 1\n",
    "                w_len -= 1\n",
    "        return res        "
   ]
  },
  {
   "cell_type": "code",
   "execution_count": 148,
   "metadata": {},
   "outputs": [],
   "source": [
    "from collections import Counter, defaultdict\n",
    "import heapq\n",
    "\n",
    "class Solution:\n",
    "    def topKFrequent(self, words, k):\n",
    "        w_count = Counter(words)\n",
    "        w_dict = defaultdict(list)\n",
    "        for key, val in w_count.items():\n",
    "            heapq.heappush(w_dict[val], key)\n",
    "            \n",
    "        w_sort = sorted(w_dict.items(), key=lambda x:(-x[0], x[1]))\n",
    "        print(w_sort)\n",
    "        w_s = []\n",
    "        for key, val in w_sort:\n",
    "            w_s.extend(val)\n",
    "        return w_s[:k]"
   ]
  },
  {
   "cell_type": "code",
   "execution_count": 149,
   "metadata": {},
   "outputs": [
    {
     "name": "stdout",
     "output_type": "stream",
     "text": [
      "[(1, ['a', 'aaa', 'aa'])]\n"
     ]
    },
    {
     "data": {
      "text/plain": [
       "['a', 'aaa']"
      ]
     },
     "execution_count": 149,
     "metadata": {},
     "output_type": "execute_result"
    }
   ],
   "source": [
    "solution = Solution()\n",
    "solution.topKFrequent([\"aaa\",\"aa\",\"a\"], 2)"
   ]
  },
  {
   "cell_type": "code",
   "execution_count": 7,
   "metadata": {},
   "outputs": [
    {
     "data": {
      "text/plain": [
       "'i'"
      ]
     },
     "execution_count": 7,
     "metadata": {},
     "output_type": "execute_result"
    }
   ],
   "source": [
    "min('i', 'love')"
   ]
  },
  {
   "cell_type": "code",
   "execution_count": 38,
   "metadata": {},
   "outputs": [
    {
     "data": {
      "text/plain": [
       "['i', 'love']"
      ]
     },
     "execution_count": 38,
     "metadata": {},
     "output_type": "execute_result"
    }
   ],
   "source": [
    "sorted(['i', 'love'])"
   ]
  },
  {
   "cell_type": "code",
   "execution_count": 144,
   "metadata": {},
   "outputs": [],
   "source": [
    "class Solution:\n",
    "    def topKFrequent(self, words, k):\n",
    "        d = {}\n",
    "        for word in words:\n",
    "            if word not in d:\n",
    "                d[word] = 1\n",
    "            else:\n",
    "                d[word] += 1\n",
    "        sd = sorted(d.items(), key = lambda x:(-x[1], x[0]))\n",
    "        print(sd)\n",
    "        ans = []\n",
    "        for i in range(k):\n",
    "            ans.append(sd[i][0])\n",
    "        return ans"
   ]
  },
  {
   "cell_type": "code",
   "execution_count": 145,
   "metadata": {},
   "outputs": [
    {
     "name": "stdout",
     "output_type": "stream",
     "text": [
      "[('a', 1), ('aa', 1), ('aaa', 1)]\n"
     ]
    },
    {
     "data": {
      "text/plain": [
       "['a', 'aa']"
      ]
     },
     "execution_count": 145,
     "metadata": {},
     "output_type": "execute_result"
    }
   ],
   "source": [
    "solution = Solution()\n",
    "solution.topKFrequent([\"aaa\",\"aa\",\"a\"], 2)"
   ]
  },
  {
   "cell_type": "code",
   "execution_count": 107,
   "metadata": {},
   "outputs": [],
   "source": [
    "import collections\n",
    "import heapq\n",
    "\n",
    "class Solution:\n",
    "    def topKFrequent(self, words, k: int):\n",
    "        dic = collections.defaultdict(int)\n",
    "        for i in words:\n",
    "            dic[i] += 1\n",
    "        \n",
    "        heap = []\n",
    "        for i in dic:\n",
    "            heapq.heappush(heap,[dic[i], i])\n",
    "            \n",
    "        res = []\n",
    "        for _ in range(k):\n",
    "            res.append(heapq.heappop(heap)[1])\n",
    "        return res"
   ]
  },
  {
   "cell_type": "code",
   "execution_count": 108,
   "metadata": {},
   "outputs": [
    {
     "name": "stdout",
     "output_type": "stream",
     "text": [
      "[[1, 'coding'], [1, 'leetcode'], [2, 'i'], [2, 'love']]\n"
     ]
    },
    {
     "data": {
      "text/plain": [
       "['coding']"
      ]
     },
     "execution_count": 108,
     "metadata": {},
     "output_type": "execute_result"
    }
   ],
   "source": [
    "solution = Solution()\n",
    "solution.topKFrequent([\"i\", \"love\", \"leetcode\", \"i\", \"love\", \"coding\"], 1)"
   ]
  },
  {
   "cell_type": "code",
   "execution_count": null,
   "metadata": {},
   "outputs": [],
   "source": []
  }
 ],
 "metadata": {
  "kernelspec": {
   "display_name": "Python 3",
   "language": "python",
   "name": "python3"
  },
  "language_info": {
   "codemirror_mode": {
    "name": "ipython",
    "version": 3
   },
   "file_extension": ".py",
   "mimetype": "text/x-python",
   "name": "python",
   "nbconvert_exporter": "python",
   "pygments_lexer": "ipython3",
   "version": "3.6.2"
  }
 },
 "nbformat": 4,
 "nbformat_minor": 4
}
