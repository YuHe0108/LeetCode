{
 "cells": [
  {
   "cell_type": "raw",
   "metadata": {},
   "source": [
    "说明：\n",
    "    按下述要求实现 StreamChecker 类：\n",
    "\n",
    "    StreamChecker(words)：构造函数，用给定的字词初始化数据结构。\n",
    "    query(letter)：如果存在某些 k >= 1，可以用查询的最后 k个字符（按从旧到新顺序，包括刚刚查询的字母）拼写出给定字词表中的某一字词时，\n",
    "                   返回 true。否则，返回 false。\n",
    "\n",
    "示例：\n",
    "    StreamChecker streamChecker = new StreamChecker([\"cd\",\"f\",\"kl\"]); // 初始化字典\n",
    "    streamChecker.query('a');          // 返回 false\n",
    "    streamChecker.query('b');          // 返回 false\n",
    "    streamChecker.query('c');          // 返回 false\n",
    "    streamChecker.query('d');          // 返回 true，因为 'cd' 在字词表中\n",
    "    streamChecker.query('e');          // 返回 false\n",
    "    streamChecker.query('f');          // 返回 true，因为 'f' 在字词表中\n",
    "    streamChecker.query('g');          // 返回 false\n",
    "    streamChecker.query('h');          // 返回 false\n",
    "    streamChecker.query('i');          // 返回 false\n",
    "    streamChecker.query('j');          // 返回 false\n",
    "    streamChecker.query('k');          // 返回 false\n",
    "    streamChecker.query('l');          // 返回 true，因为 'kl' 在字词表中。\n",
    "\n",
    "提示：\n",
    "    1 <= words.length <= 2000\n",
    "    1 <= words[i].length <= 2000\n",
    "    字词只包含小写英文字母。\n",
    "    待查项只包含小写英文字母。\n",
    "    待查项最多 40000 个。"
   ]
  },
  {
   "cell_type": "code",
   "execution_count": null,
   "metadata": {},
   "outputs": [],
   "source": []
  },
  {
   "cell_type": "code",
   "execution_count": null,
   "metadata": {},
   "outputs": [],
   "source": [
    "from collections import deque\n",
    "\n",
    "class Node:\n",
    "    def __init__(self):\n",
    "        self.children = {}\n",
    "        self.isEnd = False\n",
    "\n",
    "class Trie:\n",
    "    def __init__(self):\n",
    "        self.root = Node()\n",
    "        \n",
    "    def insert(self, word):\n",
    "        node = self.root\n",
    "        for c in word:\n",
    "            if c not in node.children:\n",
    "                node.children[c] = Node()\n",
    "            node = node.children[c]\n",
    "        node.isEnd = True\n",
    "\n",
    "        \n",
    "class StreamChecker:\n",
    "\n",
    "    def __init__(self, words: List[str]):\n",
    "        self.letters = deque()\n",
    "        self.trie = Trie()\n",
    "        for w in words:\n",
    "            self.trie.insert(w[::-1])\n",
    "        self.max_len = max([len(x) for x in words])\n",
    "\n",
    "    def query(self, letter: str) -> bool:\n",
    "        self.letters.appendleft(letter)\n",
    "        if len(self.letters) > self.max_len:\n",
    "            self.letters.pop()\n",
    "        \n",
    "        node = self.trie.root\n",
    "        for c in self.letters:\n",
    "            if c not in node.children:\n",
    "                return False\n",
    "            node = node.children[c]\n",
    "            if node.isEnd:\n",
    "                return True\n",
    "        return node.isEnd\n",
    "            "
   ]
  },
  {
   "cell_type": "code",
   "execution_count": null,
   "metadata": {},
   "outputs": [],
   "source": []
  },
  {
   "cell_type": "code",
   "execution_count": null,
   "metadata": {},
   "outputs": [],
   "source": []
  },
  {
   "cell_type": "code",
   "execution_count": null,
   "metadata": {},
   "outputs": [],
   "source": []
  },
  {
   "cell_type": "code",
   "execution_count": null,
   "metadata": {},
   "outputs": [],
   "source": []
  },
  {
   "cell_type": "code",
   "execution_count": null,
   "metadata": {},
   "outputs": [],
   "source": []
  },
  {
   "cell_type": "code",
   "execution_count": null,
   "metadata": {},
   "outputs": [],
   "source": []
  },
  {
   "cell_type": "code",
   "execution_count": null,
   "metadata": {},
   "outputs": [],
   "source": []
  },
  {
   "cell_type": "code",
   "execution_count": null,
   "metadata": {},
   "outputs": [],
   "source": []
  },
  {
   "cell_type": "code",
   "execution_count": 92,
   "metadata": {},
   "outputs": [],
   "source": [
    "from functools import lru_cache\n",
    "\n",
    "class Node:\n",
    "    def __init__(self):\n",
    "        self.children = {}\n",
    "        self.isEnd = False\n",
    "\n",
    "class Trie:\n",
    "    def __init__(self):\n",
    "        self.root = Node()\n",
    "        \n",
    "    def insert(self, word):\n",
    "        node = self.root\n",
    "        for c in word:\n",
    "            if c not in node.children:\n",
    "                node.children[c] = Node()\n",
    "            node = node.children[c]\n",
    "        node.isEnd = True\n",
    "\n",
    "class StreamChecker:\n",
    "\n",
    "    def __init__(self, words):\n",
    "        self.trie = Trie()\n",
    "        for w in words:\n",
    "            self.trie.insert(w)\n",
    "        self.pre = set() # 存放在单词列表中，但不是单词结尾的字母\n",
    "        self.seen = {}\n",
    "    \n",
    "    @lru_cache(None)\n",
    "    def check(self, s):\n",
    "        node = self.trie.root\n",
    "        for c in s:\n",
    "            if c not in node.children:\n",
    "                return False\n",
    "            node = node.children[c]\n",
    "        return node.isEnd\n",
    "\n",
    "    def query(self, letter: str) -> bool:\n",
    "        node = self.trie.root\n",
    "        if not self.pre:\n",
    "            if letter in node.children:\n",
    "                self.pre.add(letter)\n",
    "        else:\n",
    "            new = {letter}\n",
    "            for v in self.pre:\n",
    "                new.add(v + letter)\n",
    "            self.pre = new\n",
    "        for s in self.pre:\n",
    "            print(s, s[-1] == letter)\n",
    "            if s[-1] == letter:\n",
    "                if self.check(s):\n",
    "                    return True\n",
    "        return False"
   ]
  },
  {
   "cell_type": "code",
   "execution_count": 106,
   "metadata": {},
   "outputs": [],
   "source": [
    "from functools import lru_cache\n",
    "from collections import deque\n",
    "\n",
    "class Node:\n",
    "    def __init__(self):\n",
    "        self.children = {}\n",
    "        self.isEnd = False\n",
    "\n",
    "class Trie:\n",
    "    def __init__(self):\n",
    "        self.root = Node()\n",
    "        \n",
    "    def insert(self, word):\n",
    "        node = self.root\n",
    "        for c in word:\n",
    "            if c not in node.children:\n",
    "                node.children[c] = Node()\n",
    "            node = node.children[c]\n",
    "        node.isEnd = True\n",
    "\n",
    "class StreamChecker:\n",
    "    def __init__(self, words):\n",
    "        self.letters = deque()\n",
    "        self.trie = Trie()\n",
    "        self.maxLen = max(map(len, words)) # 单词的最大长度\n",
    "        for w in words:\n",
    "            self.trie.insert(w[::-1])\n",
    "    \n",
    "    def query(self, letter: str) -> bool:\n",
    "        self.letters.appendleft(letter)\n",
    "        if len(self.letters) > self.maxLen: # 最长单词拼接的长度，肯定不会超过words中最长的一个单词\n",
    "            self.letters.pop()\n",
    "        \n",
    "        node = self.trie.root\n",
    "        for c in self.letters:\n",
    "            if node.isEnd:\n",
    "                return True\n",
    "            if c not in node.children:\n",
    "                return False\n",
    "            node = node.children[c]\n",
    "        return node.isEnd"
   ]
  },
  {
   "cell_type": "code",
   "execution_count": 107,
   "metadata": {},
   "outputs": [
    {
     "name": "stdout",
     "output_type": "stream",
     "text": [
      "False\n",
      "False\n",
      "False\n",
      "False\n",
      "False\n",
      "True\n",
      "True\n",
      "True\n",
      "True\n",
      "True\n",
      "False\n"
     ]
    }
   ],
   "source": [
    "obj = StreamChecker([\"ab\",\"ba\",\"aaab\",\"abab\",\"baa\"])\n",
    "for i in [\"a\"],[\"a\"],[\"a\"],[\"a\"],[\"a\"],[\"b\"],[\"a\"],[\"b\"],[\"a\"],[\"b\"],[\"b\"]:\n",
    "    print(obj.query(i[0]))"
   ]
  },
  {
   "cell_type": "code",
   "execution_count": null,
   "metadata": {},
   "outputs": [],
   "source": []
  },
  {
   "cell_type": "code",
   "execution_count": null,
   "metadata": {},
   "outputs": [],
   "source": [
    "[\"StreamChecker\",\"query\",\"query\",\"query\",\"query\",\"query\",\"query\",\"query\",\"query\",\"query\",\"query\",\"query\",\"query\",\"query\",\"query\",\"query\",\"query\",\"query\",\"query\",\"query\",\"query\",\"query\",\"query\",\"query\",\"query\",\"query\",\"query\",\"query\",\"query\",\"query\",\"query\"]\n",
    "[[[\"ab\",\"ba\",\"aaab\",\"abab\",\"baa\"]],[\"a\"],[\"a\"],[\"a\"],[\"a\"],[\"a\"],[\"b\"],[\"a\"],[\"b\"],[\"a\"],[\"b\"],[\"b\"],[\"b\"],[\"a\"],[\"b\"],[\"a\"],[\"b\"],[\"b\"],[\"b\"],[\"b\"],[\"a\"],[\"b\"],[\"a\"],[\"b\"],[\"a\"],[\"a\"],[\"a\"],[\"b\"],[\"a\"],[\"a\"],[\"a\"]]"
   ]
  },
  {
   "cell_type": "code",
   "execution_count": null,
   "metadata": {},
   "outputs": [],
   "source": []
  },
  {
   "cell_type": "code",
   "execution_count": null,
   "metadata": {},
   "outputs": [],
   "source": []
  },
  {
   "cell_type": "code",
   "execution_count": null,
   "metadata": {},
   "outputs": [],
   "source": []
  },
  {
   "cell_type": "code",
   "execution_count": null,
   "metadata": {},
   "outputs": [],
   "source": []
  },
  {
   "cell_type": "code",
   "execution_count": null,
   "metadata": {},
   "outputs": [],
   "source": [
    "#         if letter in node.children and letter not in self.pre:\n",
    "#             if node.isEnd:\n",
    "#                 return True\n",
    "#             self.pre.add(letter)\n"
   ]
  }
 ],
 "metadata": {
  "kernelspec": {
   "display_name": "Python 3",
   "language": "python",
   "name": "python3"
  },
  "language_info": {
   "codemirror_mode": {
    "name": "ipython",
    "version": 3
   },
   "file_extension": ".py",
   "mimetype": "text/x-python",
   "name": "python",
   "nbconvert_exporter": "python",
   "pygments_lexer": "ipython3",
   "version": "3.6.2"
  }
 },
 "nbformat": 4,
 "nbformat_minor": 4
}
