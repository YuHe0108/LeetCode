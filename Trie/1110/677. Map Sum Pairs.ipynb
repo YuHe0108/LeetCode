{
 "cells": [
  {
   "cell_type": "raw",
   "metadata": {},
   "source": [
    "说明：\n",
    "    实现一个 MapSum 类，支持两个方法，insert 和 sum：\n",
    "        1、MapSum() 初始化 MapSum 对象\n",
    "        2、void insert(String key, int val) 插入 key-val 键值对，字符串表示键 key ，整数表示值 val 。\n",
    "        3、如果键 key 已经存在，那么原来的键值对将被替代成新的键值对。\n",
    "          \n",
    "示例：\n",
    "    输入：\n",
    "        [\"MapSum\", \"insert\", \"sum\", \"insert\", \"sum\"]\n",
    "        [[], [\"apple\", 3], [\"ap\"], [\"app\", 2], [\"ap\"]]\n",
    "    输出：\n",
    "        [null, null, 3, null, 5]\n",
    "\n",
    "    解释：\n",
    "        MapSum mapSum = new MapSum();\n",
    "        mapSum.insert(\"apple\", 3);  \n",
    "        mapSum.sum(\"ap\");           // return 3 (apple = 3)\n",
    "        mapSum.insert(\"app\", 2);    \n",
    "        mapSum.sum(\"ap\");           // return 5 (apple + app = 3 + 2 = 5)\n",
    "\n",
    "提示：\n",
    "    1 <= key.length, prefix.length <= 50\n",
    "    key 和 prefix 仅由小写英文字母组成\n",
    "    1 <= val <= 1000\n",
    "    最多调用 50 次 insert 和 sum"
   ]
  },
  {
   "cell_type": "code",
   "execution_count": 34,
   "metadata": {},
   "outputs": [],
   "source": [
    "class Node:\n",
    "    def __init__(self):\n",
    "        self.children = {}\n",
    "        self.isWord = False\n",
    "\n",
    "class Trie:\n",
    "    def __init__(self):\n",
    "        self.root = Node()\n",
    "    \n",
    "    def insert(self, word, val):\n",
    "        node = self.root\n",
    "        for char in word:\n",
    "            if char not in node.children:\n",
    "                node.children[char] = [val, Node()]\n",
    "            else:\n",
    "                node.children[char][0] += val\n",
    "            node = node.children[char][1]\n",
    "        node.isWord = True\n",
    "\n",
    "class MapSum:\n",
    "    def __init__(self):\n",
    "        self.trie = Trie()\n",
    "        self.words = {}\n",
    "\n",
    "    def insert(self, key: str, val: int) -> None:\n",
    "        self.words[key] = val\n",
    "        if key not in self.words:\n",
    "            self.trie.insert(key, val)\n",
    "        else:\n",
    "            self.trie = Trie()\n",
    "            for key, val in self.words.items():\n",
    "                self.trie.insert(key, val)\n",
    "\n",
    "    def sum(self, prefix: str) -> int:\n",
    "        node = self.trie.root\n",
    "        res = float('inf')\n",
    "        for w in prefix:\n",
    "            if w in node.children:\n",
    "                res = min(res, node.children[w][0])\n",
    "                node = node.children[w][1]\n",
    "            else:\n",
    "                return 0\n",
    "        return res"
   ]
  },
  {
   "cell_type": "code",
   "execution_count": null,
   "metadata": {},
   "outputs": [],
   "source": [
    "class TrieNode:\n",
    "    def __init__(self):\n",
    "        self.children = collections.defaultdict(TrieNode)\n",
    "        self.end_word = None\n",
    "        self.val = 0\n",
    "\n",
    "class MapSum:\n",
    "\n",
    "    def __init__(self):\n",
    "        \"\"\"\n",
    "        Initialize your data structure here.\n",
    "        \"\"\"\n",
    "        self.root = TrieNode()\n",
    "\n",
    "    def insert(self, key: str, val: int) -> None:\n",
    "        # Insert into trie, increment by val at each node\n",
    "        node = self.root\n",
    "        for char in key:\n",
    "            node = node.children[char]\n",
    "            node.val += val\n",
    "        \n",
    "        # For existing words, replace val by walking the trie\n",
    "        # again and decrementing each node by the old val\n",
    "        if node.end_word is not None:\n",
    "            old_val = node.end_word\n",
    "            node = self.root\n",
    "            for char in key:\n",
    "                node = node.children[char]\n",
    "                node.val -= old_val\n",
    "        \n",
    "        # Mark end of word with the inserted value\n",
    "        node.end_word = val\n",
    "\n",
    "    def sum(self, prefix: str) -> int:\n",
    "        # Walk trie and return val at final node of prefix\n",
    "        node = self.root\n",
    "        for char in prefix:\n",
    "            node = node.children[char]\n",
    "        return node.val"
   ]
  },
  {
   "cell_type": "code",
   "execution_count": 35,
   "metadata": {},
   "outputs": [
    {
     "name": "stdout",
     "output_type": "stream",
     "text": [
      "4\n"
     ]
    }
   ],
   "source": [
    "obj = MapSum()\n",
    "obj.insert('apple', 3)\n",
    "obj.insert('app', 2)\n",
    "obj.insert('apple', 2)\n",
    "param_2 = obj.sum('app')\n",
    "print(param_2)"
   ]
  },
  {
   "cell_type": "code",
   "execution_count": null,
   "metadata": {},
   "outputs": [],
   "source": [
    "[\"MapSum\", \"insert\", \"sum\", \"insert\", \"insert\", \"sum\"]\n",
    "[[], [\"apple\",3], [\"ap\"], [\"app\",2], [\"apple\", 2], [\"ap\"]]"
   ]
  },
  {
   "cell_type": "code",
   "execution_count": null,
   "metadata": {},
   "outputs": [],
   "source": [
    "class MapSum:\n",
    "\n",
    "    def __init__(self):\n",
    "        \"\"\"\n",
    "        Initialize your data structure here.\n",
    "        \"\"\"\n",
    "        MapSum.lst = {}\n",
    "\n",
    "    def insert(self, key: str, val: int) -> None:\n",
    "        MapSum.lst.update({key: val})\n",
    "\n",
    "    def sum(self, prefix: str) -> int:\n",
    "        ans = 0\n",
    "        for i in MapSum.lst.keys():\n",
    "            if i.startswith(prefix):\n",
    "                ans+=MapSum.lst[i]\n",
    "        return ans\n"
   ]
  },
  {
   "cell_type": "code",
   "execution_count": null,
   "metadata": {},
   "outputs": [],
   "source": []
  },
  {
   "cell_type": "code",
   "execution_count": null,
   "metadata": {},
   "outputs": [],
   "source": []
  },
  {
   "cell_type": "code",
   "execution_count": 39,
   "metadata": {},
   "outputs": [
    {
     "data": {
      "text/plain": [
       "1536"
      ]
     },
     "execution_count": 39,
     "metadata": {},
     "output_type": "execute_result"
    }
   ],
   "source": [
    "136 + 32 + 584 + 32 + 136 + 584 + 32"
   ]
  },
  {
   "cell_type": "code",
   "execution_count": 38,
   "metadata": {},
   "outputs": [
    {
     "data": {
      "text/plain": [
       "3600"
      ]
     },
     "execution_count": 38,
     "metadata": {},
     "output_type": "execute_result"
    }
   ],
   "source": [
    "72 + 32 +584 + 288+2336 +128+128+32"
   ]
  },
  {
   "cell_type": "code",
   "execution_count": null,
   "metadata": {},
   "outputs": [],
   "source": []
  }
 ],
 "metadata": {
  "kernelspec": {
   "display_name": "Python 3",
   "language": "python",
   "name": "python3"
  },
  "language_info": {
   "codemirror_mode": {
    "name": "ipython",
    "version": 3
   },
   "file_extension": ".py",
   "mimetype": "text/x-python",
   "name": "python",
   "nbconvert_exporter": "python",
   "pygments_lexer": "ipython3",
   "version": "3.6.2"
  }
 },
 "nbformat": 4,
 "nbformat_minor": 4
}
