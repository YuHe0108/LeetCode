{
 "cells": [
  {
   "cell_type": "raw",
   "metadata": {},
   "source": [
    "说明：\n",
    "    给你两个字符串 s 和 t ，请你找出 s 中的非空子串的数目，这些子串满足替换 一个不同字符 以后，是 t 串的子串。\n",
    "    换言之，请你找到 s 和 t 串中 恰好 只有一个字符不同的子字符串对的数目。\n",
    "\n",
    "    比方说， \"computer\" 和 \"computation\"  中：compute 和 computa 只有一个字符不同： 'e'/'a' ，所以这一对子字符串会给答案加 1 。\n",
    "    请你返回满足上述条件的不同子字符串对数目。\n",
    "    一个 子字符串 是一个字符串中连续的字符。\n",
    "\n",
    "示例 1：\n",
    "    输入：s = \"aba\", t = \"baba\"\n",
    "    输出：6\n",
    "    解释：\n",
    "        以下为只相差 1 个字符的 s 和 t 串的子字符串对：\n",
    "        (\"aba\", \"baba\")\n",
    "        (\"aba\", \"baba\")\n",
    "        (\"aba\", \"baba\")\n",
    "        (\"aba\", \"baba\")\n",
    "        (\"aba\", \"baba\")\n",
    "        (\"aba\", \"baba\")\n",
    "        加粗部分分别表示 s 和 t 串选出来的子字符串。\n",
    "\n",
    "示例 2：\n",
    "    输入：s = \"ab\", t = \"bb\"\n",
    "    输出：3\n",
    "        解释：以下为只相差 1 个字符的 s 和 t 串的子字符串对：\n",
    "        (\"ab\", \"bb\")\n",
    "        (\"ab\", \"bb\")\n",
    "        (\"ab\", \"bb\")\n",
    "        加粗部分分别表示 s 和 t 串选出来的子字符串。\n",
    "\n",
    "示例 3：\n",
    "    输入：s = \"a\", t = \"a\"\n",
    "    输出：0\n",
    "\n",
    "示例 4：\n",
    "    输入：s = \"abe\", t = \"bbc\"\n",
    "    输出：10\n",
    " \n",
    "提示：\n",
    "    1、1 <= s.length, t.length <= 100\n",
    "    2、s 和 t 都只包含小写英文字母。"
   ]
  },
  {
   "cell_type": "code",
   "execution_count": 31,
   "metadata": {},
   "outputs": [],
   "source": [
    "from collections import Counter, defaultdict\n",
    "\n",
    "class Node:\n",
    "    def __init__(self):\n",
    "        self.children = {}\n",
    "        self.isWord = False\n",
    "\n",
    "class Trie:\n",
    "    def __init__(self):\n",
    "        self.root = Node()\n",
    "    \n",
    "    def insert(self, word):\n",
    "        node = self.root\n",
    "        for char in word:\n",
    "            if char not in node.children:\n",
    "                node.children[char] = Node()\n",
    "            node = node.children[char]\n",
    "        node.isWord = True\n",
    "\n",
    "class Solution:\n",
    "    def countSubstrings(self, s: str, t: str) -> int:\n",
    "        s_count = self.get_counter(s)\n",
    "        t_count = self.get_counter(t)\n",
    "        t_count = sorted(t_count.items(), key=lambda x:len(x[0]))\n",
    "        \n",
    "        res = 0\n",
    "        for sub_s, s_v in s_count.items():\n",
    "            for sub_t, t_v in t_count:\n",
    "                if len(sub_t) > len(sub_s):\n",
    "                    break\n",
    "                if len(sub_t) == len(sub_s):\n",
    "                    if self.check(sub_t, sub_s):\n",
    "                        res += (s_v * t_v)\n",
    "        return res\n",
    "    \n",
    "    def check(self, s, t):\n",
    "        # 检查两个 sub_s 是不是只差 一个字符\n",
    "        dif = False\n",
    "        for i in range(len(s)):\n",
    "            if s[i] != t[i]:\n",
    "                if not dif:\n",
    "                    dif = True\n",
    "                else:\n",
    "                    return False\n",
    "        return dif\n",
    "    \n",
    "    def get_counter(self, word):\n",
    "        counter = defaultdict(int)\n",
    "        for gap in range(len(word)):\n",
    "            for i in range(len(word) - gap):\n",
    "                j = gap + i + 1\n",
    "                substr = word[i:j]\n",
    "                counter[substr] += 1\n",
    "        return counter"
   ]
  },
  {
   "cell_type": "markdown",
   "metadata": {},
   "source": [
    "<img src='1638.jpg'>"
   ]
  },
  {
   "cell_type": "code",
   "execution_count": 69,
   "metadata": {},
   "outputs": [],
   "source": [
    "class Solution:\n",
    "    def countSubstrings(self, s: str, t: str) -> int:\n",
    "        m, n = len(s), len(t)\n",
    "        s = '#' + s + '#'\n",
    "        t = '#' + t + '#'\n",
    "        \n",
    "        dp1 = [[0] * (n+2) for _ in range(m+2)]\n",
    "        dp2 = [[0] * (n+2) for _ in range(m+2)]\n",
    "        \n",
    "        for i in range(1, m+1):\n",
    "            for j in range(1, n+1):\n",
    "                if s[i] == t[j]:\n",
    "                    dp1[i][j] = dp1[i-1][j-1] + 1\n",
    "        \n",
    "        for i in range(m, 0, -1):\n",
    "            for j in range(n, 0, -1):\n",
    "                if s[i] == t[j]:\n",
    "                    dp2[i][j] = dp2[i+1][j+1] + 1\n",
    "        res = 0\n",
    "        for i in range(1, m+1):\n",
    "            for j in range(1, n+1):\n",
    "                if s[i] != t[j]:\n",
    "                    res += (dp1[i-1][j-1] + 1) * (dp2[i+1][j+1] + 1)\n",
    "        return res"
   ]
  },
  {
   "cell_type": "code",
   "execution_count": 70,
   "metadata": {},
   "outputs": [
    {
     "data": {
      "text/plain": [
       "6"
      ]
     },
     "execution_count": 70,
     "metadata": {},
     "output_type": "execute_result"
    }
   ],
   "source": [
    "solution = Solution()\n",
    "solution.countSubstrings(s = \"aba\", t = \"baba\")"
   ]
  },
  {
   "cell_type": "code",
   "execution_count": null,
   "metadata": {},
   "outputs": [],
   "source": []
  }
 ],
 "metadata": {
  "kernelspec": {
   "display_name": "Python 3",
   "language": "python",
   "name": "python3"
  },
  "language_info": {
   "codemirror_mode": {
    "name": "ipython",
    "version": 3
   },
   "file_extension": ".py",
   "mimetype": "text/x-python",
   "name": "python",
   "nbconvert_exporter": "python",
   "pygments_lexer": "ipython3",
   "version": "3.6.2"
  }
 },
 "nbformat": 4,
 "nbformat_minor": 4
}
