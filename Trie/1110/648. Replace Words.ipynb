{
 "cells": [
  {
   "cell_type": "raw",
   "metadata": {},
   "source": [
    "说明：\n",
    "    在英语中，我们有一个叫做 词根(root)的概念，它可以跟着其他一些词组成另一个较长的单词——我们称这个词为 继承词(successor)。\n",
    "    例如，词根an，跟随着单词 other(其他)，可以形成新的单词 another(另一个)。\n",
    "    现在，给定一个由许多词根组成的词典和一个句子。\n",
    "    你需要将句子中的所有继承词用词根替换掉。\n",
    "    如果继承词有许多可以形成它的词根，则用最短的词根替换它。\n",
    "    你需要输出替换之后的句子。\n",
    "\n",
    "示例 1：\n",
    "    输入：dictionary = [\"cat\",\"bat\",\"rat\"], sentence = \"the cattle was rattled by the battery\"\n",
    "    输出：\"the cat was rat by the bat\"\n",
    "\n",
    "示例 2：\n",
    "    输入：dictionary = [\"a\",\"b\",\"c\"], sentence = \"aadsfasf absbs bbab cadsfafs\"\n",
    "    输出：\"a a b c\"\n",
    "\n",
    "示例 3：\n",
    "    输入：dictionary = [\"a\", \"aa\", \"aaa\", \"aaaa\"], sentence = \"a aa a aaaa aaa aaa aaa aaaaaa bbb baba ababa\"\n",
    "    输出：\"a a a a a a a a bbb baba a\"\n",
    "\n",
    "示例 4：\n",
    "    输入：dictionary = [\"catt\",\"cat\",\"bat\",\"rat\"], sentence = \"the cattle was rattled by the battery\"\n",
    "    输出：\"the cat was rat by the bat\"\n",
    "\n",
    "示例 5：\n",
    "    输入：dictionary = [\"ac\",\"ab\"], sentence = \"it is abnormal that this solution is accepted\"\n",
    "    输出：\"it is ab that this solution is ac\"\n",
    "\n",
    "提示：\n",
    "    1 <= dictionary.length <= 1000\n",
    "    1 <= dictionary[i].length <= 100\n",
    "    dictionary[i] 仅由小写字母组成。\n",
    "    1 <= sentence.length <= 10^6\n",
    "    sentence 仅由小写字母和空格组成。\n",
    "    sentence 中单词的总量在范围 [1, 1000] 内。\n",
    "    sentence 中每个单词的长度在范围 [1, 1000] 内。\n",
    "    sentence 中单词之间由一个空格隔开。\n",
    "    sentence 没有前导或尾随空格。"
   ]
  },
  {
   "cell_type": "code",
   "execution_count": 15,
   "metadata": {},
   "outputs": [],
   "source": [
    "class Solution:\n",
    "    def replaceWords(self, dictionary, sentence: str) -> str:\n",
    "        dic = sorted(dictionary, key = lambda x: len(x))\n",
    "        seen, res = {}, []\n",
    "        words = sentence.split(' ')\n",
    "        for w in words:\n",
    "            if w in seen:\n",
    "                n_w = seen[w]\n",
    "            else:\n",
    "                n_w = self.check(dic, w)\n",
    "            res.append(n_w)\n",
    "        return ' '.join(res)\n",
    "    \n",
    "    def check(self, dic, word):\n",
    "        # 检查 word 与 dic最匹配的单词\n",
    "        for w in dic:\n",
    "            if word.startswith(w):\n",
    "                return w\n",
    "        return word"
   ]
  },
  {
   "cell_type": "code",
   "execution_count": 21,
   "metadata": {},
   "outputs": [],
   "source": [
    "class TrieNode:\n",
    "    def __init__(self):\n",
    "        self.children = dict()\n",
    "        self.isWord = False\n",
    "\n",
    "class Trie:\n",
    "    def __init__(self):\n",
    "        self.root = TrieNode()\n",
    "    \n",
    "    def insert(self, word):\n",
    "        curr = self.root\n",
    "        for c in word:\n",
    "            if c not in curr.children:\n",
    "                curr.children[c] = TrieNode()\n",
    "            curr = curr.children[c]\n",
    "        curr.isWord = True\n",
    "    \n",
    "    def findShortestPrefix(self, word):\n",
    "        curr = self.root\n",
    "        prefix = \"\"\n",
    "        for c in word:\n",
    "            if c in curr.children:\n",
    "                if  curr.children[c].isWord:\n",
    "                    prefix += c\n",
    "                    return prefix\n",
    "                else:\n",
    "                    prefix += c\n",
    "                    curr = curr.children[c]\n",
    "            else:\n",
    "                return word\n",
    "        return word\n",
    "\n",
    "class Solution:\n",
    "    def replaceWords(self, dictionary, sentence: str) -> str:\n",
    "        trie = Trie()\n",
    "        for word in dictionary:\n",
    "            trie.insert(word)\n",
    "        wordList = sentence.split()\n",
    "        result = []\n",
    "        for word in wordList:\n",
    "            prefix = trie.findShortestPrefix(word)\n",
    "            result.append(prefix)\n",
    "        return \" \".join(result)"
   ]
  },
  {
   "cell_type": "code",
   "execution_count": 22,
   "metadata": {},
   "outputs": [
    {
     "data": {
      "text/plain": [
       "'the cat was rat by the bat'"
      ]
     },
     "execution_count": 22,
     "metadata": {},
     "output_type": "execute_result"
    }
   ],
   "source": [
    "solution = Solution()\n",
    "solution.replaceWords(dictionary = [\"catt\",\"cat\",\"bat\",\"rat\"], sentence = \"the cattle was rattled by the battery\")"
   ]
  },
  {
   "cell_type": "code",
   "execution_count": 23,
   "metadata": {},
   "outputs": [],
   "source": [
    "class Node:\n",
    "    def __init__(self):\n",
    "        self.children = {}\n",
    "        self.isWord = False\n",
    "\n",
    "class Trie:\n",
    "    def __init__(self):\n",
    "        self.root = Node()\n",
    "    \n",
    "    def insert(self, word):\n",
    "        node = self.root\n",
    "        for char in word:\n",
    "            if char not in node.children:\n",
    "                node.children[char] = Node()\n",
    "            node = node.children[char]\n",
    "        node.isWord = True\n",
    "    \n",
    "    def find(self, word):\n",
    "        # 寻找前缀和\n",
    "        node = self.root\n",
    "        prefix = ''\n",
    "        for c in word:\n",
    "            if c in node.children:\n",
    "                prefix += c\n",
    "                if node.children[c].isWord:\n",
    "                    return prefix\n",
    "                else:\n",
    "                    node = node.children[c]\n",
    "            else:\n",
    "                return word\n",
    "        return word\n",
    "\n",
    "class Solution:\n",
    "    def replaceWords(self, dictionary, sentence: str) -> str:\n",
    "        trie = Trie()\n",
    "        for w in dictionary:\n",
    "            trie.insert(w)\n",
    "        words = sentence.split(' ')\n",
    "        res = []\n",
    "        for w in words:\n",
    "            res.append(trie.find(w))\n",
    "        return ' '.join(res)"
   ]
  },
  {
   "cell_type": "code",
   "execution_count": 24,
   "metadata": {},
   "outputs": [
    {
     "data": {
      "text/plain": [
       "'the cat was rat by the bat'"
      ]
     },
     "execution_count": 24,
     "metadata": {},
     "output_type": "execute_result"
    }
   ],
   "source": [
    "solution = Solution()\n",
    "solution.replaceWords(dictionary = [\"catt\",\"cat\",\"bat\",\"rat\"], sentence = \"the cattle was rattled by the battery\")"
   ]
  },
  {
   "cell_type": "code",
   "execution_count": null,
   "metadata": {},
   "outputs": [],
   "source": []
  }
 ],
 "metadata": {
  "kernelspec": {
   "display_name": "Python 3",
   "language": "python",
   "name": "python3"
  },
  "language_info": {
   "codemirror_mode": {
    "name": "ipython",
    "version": 3
   },
   "file_extension": ".py",
   "mimetype": "text/x-python",
   "name": "python",
   "nbconvert_exporter": "python",
   "pygments_lexer": "ipython3",
   "version": "3.6.2"
  }
 },
 "nbformat": 4,
 "nbformat_minor": 4
}
