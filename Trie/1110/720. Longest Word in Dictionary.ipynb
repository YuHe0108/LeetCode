{
 "cells": [
  {
   "cell_type": "raw",
   "metadata": {},
   "source": [
    "说明：\n",
    "    给出一个字符串数组words组成的一本英语词典。从中找出最长的一个单词，该单词是由words词典中其他单词逐步添加一个字母组成。\n",
    "    若其中有多个可行的答案，则返回答案中字典序最小的单词。\n",
    "    若无答案，则返回空字符串。\n",
    "\n",
    "示例 1：\n",
    "    输入：\n",
    "        words = [\"w\",\"wo\",\"wor\",\"worl\", \"world\"]\n",
    "    输出：\"world\"\n",
    "    解释： \n",
    "        单词\"world\"可由\"w\", \"wo\", \"wor\", 和 \"worl\"添加一个字母组成。\n",
    "\n",
    "示例 2：\n",
    "    输入：\n",
    "        words = [\"a\", \"banana\", \"app\", \"appl\", \"ap\", \"apply\", \"apple\"]\n",
    "    输出：\"apple\"\n",
    "    解释：\n",
    "        \"apply\"和\"apple\"都能由词典中的单词组成。但是\"apple\"的字典序小于\"apply\"。\n",
    "\n",
    "提示：\n",
    "    所有输入的字符串都只包含小写字母。\n",
    "    words数组长度范围为[1,1000]。\n",
    "    words[i]的长度范围为[1,30]。"
   ]
  },
  {
   "cell_type": "code",
   "execution_count": 123,
   "metadata": {},
   "outputs": [],
   "source": [
    "class Node:\n",
    "    def __init__(self):\n",
    "        self.children = {}\n",
    "        self.isWord = False\n",
    "\n",
    "class Trie:\n",
    "    def __init__(self):\n",
    "        self.root = Node()\n",
    "    \n",
    "    def insert(self, word):\n",
    "        node = self.root\n",
    "        for char in word:\n",
    "            if char not in node.children:\n",
    "                node.children[char] = Node()\n",
    "            node = node.children[char]\n",
    "        node.isWord = True\n",
    "\n",
    "class Solution:\n",
    "    def longestWord(self, words) -> str:\n",
    "        trie = Trie()\n",
    "        for w in words:\n",
    "            trie.insert(w)\n",
    "        \n",
    "        self.words = set(words)\n",
    "        self.res, self.maxLen = None, 0\n",
    "        self.dfs(trie.root, '')\n",
    "        return self.res\n",
    "    \n",
    "    def dfs(self, node, path):\n",
    "        if node.isWord:\n",
    "            if len(path) > self.maxLen:\n",
    "                self.maxLen = len(path)\n",
    "                self.res = path[:]\n",
    "            elif len(path) == self.maxLen:\n",
    "                self.res = min(path[:], self.res)\n",
    "            node.isWord = False\n",
    "        \n",
    "        for c, v in node.children.items():\n",
    "            if not v.isWord:\n",
    "                continue\n",
    "            self.dfs(v, path + c)   "
   ]
  },
  {
   "cell_type": "code",
   "execution_count": 126,
   "metadata": {},
   "outputs": [
    {
     "data": {
      "text/plain": [
       "'apple'"
      ]
     },
     "execution_count": 126,
     "metadata": {},
     "output_type": "execute_result"
    }
   ],
   "source": [
    "solution = Solution()\n",
    "solution.longestWord(words = [\"a\", \"banana\", \"app\", \"appl\", \"ap\", \"apply\", \"apple\"])"
   ]
  },
  {
   "cell_type": "code",
   "execution_count": 100,
   "metadata": {},
   "outputs": [
    {
     "name": "stdout",
     "output_type": "stream",
     "text": [
      "apple\n"
     ]
    }
   ],
   "source": [
    "print(min('apple', 'apply'))"
   ]
  },
  {
   "cell_type": "code",
   "execution_count": null,
   "metadata": {},
   "outputs": [],
   "source": [
    "\n",
    "    self.words = set(words)\n",
    "    self.res, self.maxLen, self.maxCount = None, 0, 0\n",
    "    self.dfs(trie.root, 0, '')\n",
    "    return self.res\n",
    "\n",
    "def dfs(self, node, count, path):\n",
    "    if node.isWord:\n",
    "        if count > self.maxCount:\n",
    "            if len(path) > self.maxLen:\n",
    "                self.maxLen = len(path)\n",
    "                self.maxCount = count\n",
    "                self.res = path[:]\n",
    "            elif len(path) == self.maxLen:\n",
    "                self.res = min(path[:], self.res)\n",
    "        node.isWord = False\n",
    "\n",
    "    for c, v in node.children.items():\n",
    "        if path in self.words:\n",
    "            count += 1\n",
    "        self.dfs(v, count, path + c)   "
   ]
  },
  {
   "cell_type": "code",
   "execution_count": 110,
   "metadata": {},
   "outputs": [
    {
     "data": {
      "text/plain": [
       "'eyj'"
      ]
     },
     "execution_count": 110,
     "metadata": {},
     "output_type": "execute_result"
    }
   ],
   "source": [
    "min('eyj', 'eyjoui')"
   ]
  },
  {
   "cell_type": "code",
   "execution_count": null,
   "metadata": {},
   "outputs": [],
   "source": []
  }
 ],
 "metadata": {
  "kernelspec": {
   "display_name": "Python 3",
   "language": "python",
   "name": "python3"
  },
  "language_info": {
   "codemirror_mode": {
    "name": "ipython",
    "version": 3
   },
   "file_extension": ".py",
   "mimetype": "text/x-python",
   "name": "python",
   "nbconvert_exporter": "python",
   "pygments_lexer": "ipython3",
   "version": "3.6.2"
  }
 },
 "nbformat": 4,
 "nbformat_minor": 4
}
