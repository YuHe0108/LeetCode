{
 "cells": [
  {
   "cell_type": "raw",
   "metadata": {},
   "source": [
    "说明：\n",
    "    设计一个使用单词列表进行初始化的数据结构，单词列表中的单词 互不相同 。 \n",
    "    如果给出一个单词，请判定能否只将这个单词中一个字母换成另一个字母，使得所形成的新单词存在于你构建的字典中。\n",
    "    实现 MagicDictionary 类：\n",
    "        1、MagicDictionary() 初始化对象\n",
    "        2、void buildDict(String[] dictionary) 使用字符串数组 dictionary 设定该数据结构，dictionary 中的字符串互不相同\n",
    "        3、bool search(String searchWord) 给定一个字符串 searchWord ，判定能否只将字符串中 一个 字母换成另一个字母，\n",
    "            使得所形成的新字符串能够与字典中的任一字符串匹配。如果可以，返回 true ；否则，返回 false 。\n",
    "\n",
    "示例：\n",
    "    输入\n",
    "        [\"MagicDictionary\", \"buildDict\", \"search\", \"search\", \"search\", \"search\"]\n",
    "        [[], [[\"hello\", \"leetcode\"]], [\"hello\"], [\"hhllo\"], [\"hell\"], [\"leetcoded\"]]\n",
    "    输出\n",
    "        [null, null, false, true, false, false]\n",
    "\n",
    "    解释\n",
    "        MagicDictionary magicDictionary = new MagicDictionary();\n",
    "        magicDictionary.buildDict([\"hello\", \"leetcode\"]);\n",
    "        magicDictionary.search(\"hello\"); // 返回 False\n",
    "        magicDictionary.search(\"hhllo\"); // 将第二个 'h' 替换为 'e' 可以匹配 \"hello\" ，所以返回 True\n",
    "        magicDictionary.search(\"hell\"); // 返回 False\n",
    "        magicDictionary.search(\"leetcoded\"); // 返回 False\n",
    "\n",
    "\n",
    "提示：\n",
    "    1 <= dictionary.length <= 100\n",
    "    1 <= dictionary[i].length <= 100\n",
    "    dictionary[i] 仅由小写英文字母组成\n",
    "    dictionary 中的所有字符串 互不相同\n",
    "    1 <= searchWord.length <= 100\n",
    "    searchWord 仅由小写英文字母组成\n",
    "    buildDict 仅在 search 之前调用一次\n",
    "    最多调用 100 次 search"
   ]
  },
  {
   "cell_type": "code",
   "execution_count": 140,
   "metadata": {},
   "outputs": [],
   "source": [
    "class Node:\n",
    "    def __init__(self):\n",
    "        self.children = {}\n",
    "        self.isWord = False\n",
    "\n",
    "class Trie:\n",
    "    def __init__(self):\n",
    "        self.root = Node()\n",
    "    \n",
    "    def insert(self, word):\n",
    "        node = self.root\n",
    "        for c in word:\n",
    "            if c not in node.children:\n",
    "                node.children[c] = Node()\n",
    "            node = node.children[c]\n",
    "        node.isWord = True\n",
    "\n",
    "class MagicDictionary:\n",
    "\n",
    "    def __init__(self):\n",
    "        self.trie = Trie()\n",
    "\n",
    "    def buildDict(self, dictionary) -> None:\n",
    "        for word in dictionary:\n",
    "            self.trie.insert(word)\n",
    "    \n",
    "    def check(self, node, word):\n",
    "        for c in word:\n",
    "            if c not in node.children:\n",
    "                return False\n",
    "            node = node.children[c]\n",
    "        return node.isWord\n",
    "            \n",
    "    def search(self, searchWord: str) -> bool:\n",
    "        node = self.trie.root\n",
    "        for i, c in enumerate(searchWord):\n",
    "            if c not in node.children:\n",
    "                for key in node.children:\n",
    "                    if self.check(node.children[key], searchWord[i+1:]):\n",
    "                        return True\n",
    "                return False\n",
    "            elif len(node.children) > 1:\n",
    "                chars = list(node.children.keys())\n",
    "                for char in chars:\n",
    "                    if char != c and self.check(node.children[char], searchWord[i+1:]):\n",
    "                        return True\n",
    "            node = node.children[c]\n",
    "        return False"
   ]
  },
  {
   "cell_type": "code",
   "execution_count": 142,
   "metadata": {},
   "outputs": [
    {
     "name": "stdout",
     "output_type": "stream",
     "text": [
      "False\n"
     ]
    }
   ],
   "source": [
    "obj = MagicDictionary()\n",
    "obj.buildDict([\"hello\",\"leetcode\"])\n",
    "param_2 = obj.search(searchWord='hello')\n",
    "print(param_2)"
   ]
  },
  {
   "cell_type": "code",
   "execution_count": null,
   "metadata": {},
   "outputs": [],
   "source": []
  },
  {
   "cell_type": "code",
   "execution_count": null,
   "metadata": {},
   "outputs": [],
   "source": [
    "[\"MagicDictionary\", \"buildDict\", \"search\", \"search\", \"search\", \"search\"]\n",
    "[[], [[\"hello\",\"hallo\",\"leetcode\"]], [\"hello\"], [\"hhllo\"], [\"hell\"], [\"leetcoded\"]]"
   ]
  },
  {
   "cell_type": "code",
   "execution_count": null,
   "metadata": {},
   "outputs": [],
   "source": []
  },
  {
   "cell_type": "code",
   "execution_count": null,
   "metadata": {},
   "outputs": [],
   "source": [
    "def check(self, node, word):\n",
    "        for c in word:\n",
    "            if c not in node.children:\n",
    "                return False\n",
    "            node = node.children[c]\n",
    "        return node.isWord\n",
    "            \n",
    "    def search(self, searchWord: str) -> bool:\n",
    "        node = self.trie.root\n",
    "        count = 0\n",
    "        for i, c in enumerate(searchWord):\n",
    "            if c not in node.children:\n",
    "                for key in node.children:\n",
    "                    if self.check(node.children[key], searchWord[i+1:]):\n",
    "                        return True\n",
    "                return False\n",
    "            if len(node.children) > 1:\n",
    "                count += 1\n",
    "            node = node.children[c]\n",
    "        return count == 1 and node.isWord"
   ]
  }
 ],
 "metadata": {
  "kernelspec": {
   "display_name": "Python 3",
   "language": "python",
   "name": "python3"
  },
  "language_info": {
   "codemirror_mode": {
    "name": "ipython",
    "version": 3
   },
   "file_extension": ".py",
   "mimetype": "text/x-python",
   "name": "python",
   "nbconvert_exporter": "python",
   "pygments_lexer": "ipython3",
   "version": "3.6.2"
  }
 },
 "nbformat": 4,
 "nbformat_minor": 4
}
