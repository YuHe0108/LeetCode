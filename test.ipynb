{
 "cells": [
  {
   "cell_type": "code",
   "execution_count": 1,
   "metadata": {},
   "outputs": [],
   "source": [
    "class Solution:\n",
    "    def change_word(self, w1, w2):\n",
    "        w1_len, w2_len = len(w1), len(w2)\n",
    "        if w1_len == 0: return w2_len\n",
    "        if w2_len == 0: return w1_len\n",
    "        \n",
    "        dp = [[0] * w2_len for _　in range(w1_len)]\n",
    "        \n",
    "        for i in range(w1_len):\n",
    "            dp[i][0] = i\n",
    "        for j in range(w2_len):\n",
    "            dp[0][j] = j\n",
    "        \n",
    "        for i in range(w1_len):\n",
    "            for j in range(w2_len):\n",
    "                if w1[i] == w2[j]:\n",
    "                    dp[i][j] = dp[i-1][j-1]\n",
    "                else:\n",
    "                    dp[i][j] = min(dp[i-1][j] + 1, dp[i][j-1] + 1)\n",
    "        return dp[-1][-1]"
   ]
  },
  {
   "cell_type": "code",
   "execution_count": null,
   "metadata": {},
   "outputs": [],
   "source": [
    "w1_ = ''\n",
    "w2_ = ''\n",
    "solution = Solution()\n",
    "solution.change_word()"
   ]
  },
  {
   "cell_type": "code",
   "execution_count": 7,
   "metadata": {},
   "outputs": [],
   "source": [
    "class Solution:\n",
    "    def longest_valid(self, char):\n",
    "        if not char: return 0\n",
    "        \n",
    "        l_count = 0\n",
    "        count = 0\n",
    "        for i in range(len(char)):\n",
    "            if char[i] == '(':\n",
    "                l_count += 1\n",
    "            elif l_count > 0:\n",
    "                l_count -= 1\n",
    "                count += 1\n",
    "        return count * 2"
   ]
  },
  {
   "cell_type": "code",
   "execution_count": 9,
   "metadata": {},
   "outputs": [
    {
     "data": {
      "text/plain": [
       "2"
      ]
     },
     "execution_count": 9,
     "metadata": {},
     "output_type": "execute_result"
    }
   ],
   "source": [
    "solution = Solution()\n",
    "solution.longest_valid('()(')"
   ]
  },
  {
   "cell_type": "code",
   "execution_count": 10,
   "metadata": {},
   "outputs": [],
   "source": [
    "class TreeNode:\n",
    "    def Node(self, val, left=None, right=None):\n",
    "        self.val = val\n",
    "        self.left = left\n",
    "        self.right = right\n",
    "\n",
    "class Solution:\n",
    "    def reverse(self, node):\n",
    "        if not node: return None\n",
    "        new_node = TreeNode(node.val)\n",
    "        new_node.left = self.reverse(node.right)\n",
    "        new_node.right = self.reverse(node.left)\n",
    "        return new_node\n",
    "\n",
    "class Solution:\n",
    "    def reverse(self, node):\n",
    "        if not node: return None\n",
    "        self.reverse(node.left)\n",
    "        self.reverse(node.right)\n",
    "        temp_node = node.left\n",
    "        node.left = node.right\n",
    "        node.right = temp_node\n",
    "        return node"
   ]
  },
  {
   "cell_type": "code",
   "execution_count": null,
   "metadata": {},
   "outputs": [],
   "source": []
  }
 ],
 "metadata": {
  "kernelspec": {
   "display_name": "Python 3",
   "language": "python",
   "name": "python3"
  },
  "language_info": {
   "codemirror_mode": {
    "name": "ipython",
    "version": 3
   },
   "file_extension": ".py",
   "mimetype": "text/x-python",
   "name": "python",
   "nbconvert_exporter": "python",
   "pygments_lexer": "ipython3",
   "version": "3.6.2"
  }
 },
 "nbformat": 4,
 "nbformat_minor": 4
}
