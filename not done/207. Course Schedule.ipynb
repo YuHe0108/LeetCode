{
 "cells": [
  {
   "cell_type": "raw",
   "metadata": {},
   "source": [
    "说明：\n",
    "    您必须参加总共numCourses课程，从0到numCourses-1标记。\n",
    "    某些课程可能具有先决条件，例如，\n",
    "    1、要学习课程0，您必须首先学习课程1，\n",
    "       该课程以成对表达：[0,1]给定课程总数和先决条件对列表，\n",
    "       您是否有可能完成所有课程？\n",
    "\n",
    "Example 1:\n",
    "    Input: numCourses = 2, prerequisites = [[1,0]]\n",
    "    Output: true\n",
    "    Explanation: There are a total of 2 courses to take. \n",
    "                 To take course 1 you should have finished course 0. So it is possible.\n",
    "\n",
    "Example 2:\n",
    "    Input: numCourses = 2, prerequisites = [[1,0],[0,1]]\n",
    "    Output: false\n",
    "    Explanation: There are a total of 2 courses to take. \n",
    "                 To take course 1 you should have finished course 0, and to take course 0 you should\n",
    "                 also have finished course 1. So it is impossible.\n",
    "约束：\n",
    "    1、输入的先决条件是由边列表而不是邻接矩阵表示的图。\n",
    "    2、阅读有关图形表示方式的更多信息。\n",
    "    3、您可以假设输入的先决条件中没有重复的边。\n",
    "    4、1 <= numCourses <= 10 ^ 5                 "
   ]
  },
  {
   "cell_type": "code",
   "execution_count": null,
   "metadata": {},
   "outputs": [],
   "source": []
  }
 ],
 "metadata": {
  "kernelspec": {
   "display_name": "Python 3",
   "language": "python",
   "name": "python3"
  },
  "language_info": {
   "codemirror_mode": {
    "name": "ipython",
    "version": 3
   },
   "file_extension": ".py",
   "mimetype": "text/x-python",
   "name": "python",
   "nbconvert_exporter": "python",
   "pygments_lexer": "ipython3",
   "version": "3.6.2"
  }
 },
 "nbformat": 4,
 "nbformat_minor": 4
}
