{
 "cells": [
  {
   "cell_type": "raw",
   "metadata": {},
   "source": [
    "说明：\n",
    "    给定一个非空数组，a0, a1, a2, ..., an-1，其中0 ≤ ai <2^31。\n",
    "    求ai XOR aj的最大结果，其中 0≤i,j<n。你能在O（n）运行时这样做吗？\n",
    "\n",
    "Example:\n",
    "    Input: [3, 10, 5, 25, 2, 8]\n",
    "    Output: 28\n",
    "    Explanation: The maximum result is 5 ^ 25 = 28."
   ]
  },
  {
   "cell_type": "code",
   "execution_count": 2,
   "metadata": {},
   "outputs": [],
   "source": [
    "class Solution:\n",
    "    def findMaximumXOR(self, nums) -> int:\n",
    "        pass"
   ]
  },
  {
   "cell_type": "code",
   "execution_count": 4,
   "metadata": {},
   "outputs": [],
   "source": [
    "nums_ = [3, 10, 5, 25, 2, 8]\n",
    "solution = Solution()\n",
    "solution.findMaximumXOR(nums_)"
   ]
  },
  {
   "cell_type": "code",
   "execution_count": null,
   "metadata": {},
   "outputs": [],
   "source": []
  }
 ],
 "metadata": {
  "kernelspec": {
   "display_name": "Python 3",
   "language": "python",
   "name": "python3"
  },
  "language_info": {
   "codemirror_mode": {
    "name": "ipython",
    "version": 3
   },
   "file_extension": ".py",
   "mimetype": "text/x-python",
   "name": "python",
   "nbconvert_exporter": "python",
   "pygments_lexer": "ipython3",
   "version": "3.6.2"
  }
 },
 "nbformat": 4,
 "nbformat_minor": 4
}
