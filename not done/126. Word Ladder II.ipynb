{
 "cells": [
  {
   "cell_type": "raw",
   "metadata": {},
   "source": [
    "说明：\n",
    "    给定两个单词（beginWord和endWord）以及词典的单词列表，找到从beginWord到endWord的所有最短的转换序列，这样：\n",
    "    1、一次只能更改一个字母每个转换的单词都必须存在于单词列表中。\n",
    "    2、注意beginWord不是转换后的单词。\n",
    "\n",
    "注意：\n",
    "    1、如果没有这样的转换序列，请返回一个空列表。\n",
    "    2、所有单词的长度相同。\n",
    "    3、所有单词仅包含小写字母字符。\n",
    "    4、您可以假设单词列表中没有重复项。\n",
    "    5、您可以假设beginWord和endWord为非空并且不相同。\n",
    "\n",
    "Example 1:\n",
    "    Input:\n",
    "        beginWord = \"hit\",\n",
    "        endWord = \"cog\",\n",
    "        wordList = [\"hot\",\"dot\",\"dog\",\"lot\",\"log\",\"cog\"]\n",
    "    Output:\n",
    "        [\n",
    "          [\"hit\",\"hot\",\"dot\",\"dog\",\"cog\"],\n",
    "          [\"hit\",\"hot\",\"lot\",\"log\",\"cog\"]\n",
    "        ]\n",
    "Example 2:\n",
    "    Input:\n",
    "        beginWord = \"hit\"\n",
    "        endWord = \"cog\"\n",
    "        wordList = [\"hot\",\"dot\",\"dog\",\"lot\",\"log\"]\n",
    "    Output: []\n",
    "    Explanation: The endWord \"cog\" is not in wordList, therefore no possible transformation."
   ]
  },
  {
   "cell_type": "code",
   "execution_count": 2,
   "metadata": {},
   "outputs": [],
   "source": [
    "class Solution:\n",
    "    def findLadders(self, beginWord: str, endWord: str, wordList):\n",
    "        pass"
   ]
  },
  {
   "cell_type": "code",
   "execution_count": 3,
   "metadata": {},
   "outputs": [],
   "source": [
    "beginWord_ = \"hit\"\n",
    "endWord_ = \"cog\"\n",
    "wordList_ = [\"hot\",\"dot\",\"dog\",\"lot\",\"log\",\"cog\"]\n",
    "solution = Solution()\n",
    "solution.findLadders(beginWord_, endWord_, wordList_)"
   ]
  },
  {
   "cell_type": "code",
   "execution_count": null,
   "metadata": {},
   "outputs": [],
   "source": []
  }
 ],
 "metadata": {
  "kernelspec": {
   "display_name": "Python 3",
   "language": "python",
   "name": "python3"
  },
  "language_info": {
   "codemirror_mode": {
    "name": "ipython",
    "version": 3
   },
   "file_extension": ".py",
   "mimetype": "text/x-python",
   "name": "python",
   "nbconvert_exporter": "python",
   "pygments_lexer": "ipython3",
   "version": "3.6.2"
  }
 },
 "nbformat": 4,
 "nbformat_minor": 4
}
