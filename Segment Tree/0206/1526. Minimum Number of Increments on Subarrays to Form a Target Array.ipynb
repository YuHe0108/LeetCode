{
 "cells": [
  {
   "cell_type": "code",
   "execution_count": null,
   "metadata": {},
   "outputs": [],
   "source": []
  },
  {
   "cell_type": "code",
   "execution_count": null,
   "metadata": {},
   "outputs": [],
   "source": []
  },
  {
   "cell_type": "code",
   "execution_count": null,
   "metadata": {},
   "outputs": [],
   "source": [
    "class SegmentTree:\n",
    "    def __init__(self, data, merge): \n",
    "        '''\n",
    "        data:传入的数组\n",
    "        merge:处理的业务逻辑，例如求和/最大值/最小值，lambda表达式\n",
    "        '''\n",
    "        self.data = data\n",
    "        self.n = len(data) # 申请4倍data长度的空间来存线段树节点\n",
    "        self.tree = [None] * (4 * self.n) # 索引i的左孩子索引为2i+1，右孩子为2i+2\n",
    "        self._merge = merge\n",
    "        if self.n:\n",
    "            self._build(0, 0, self.n-1)\n",
    "\n",
    "    def query(self, ql, qr):\n",
    "        '''\n",
    "        返回区间[ql,..,qr]的值\n",
    "        '''\n",
    "        return self._query(0, 0, self.n-1, ql, qr)\n",
    "\n",
    "    def update(self, index, value):\n",
    "        # 将data数组index位置的值更新为value,然后递归更新线段树中被影响的各节点的值\n",
    "        self.data[index] = value\n",
    "        self._update(0, 0, self.n-1, index)\n",
    "\n",
    "    def _build(self, tree_index, l, r):\n",
    "        '''\n",
    "        递归创建线段树\n",
    "        tree_index : 线段树节点在数组中位置\n",
    "        l, r : 该节点表示的区间的左,右边界\n",
    "        '''\n",
    "        if l == r:\n",
    "            self.tree[tree_index] = self.data[l]\n",
    "            return\n",
    "        mid = (l+r) // 2 # 区间中点,对应左孩子区间结束,右孩子区间开头\n",
    "        left, right = 2 * tree_index + 1, 2 * tree_index + 2 # tree_index的左右子树索引\n",
    "        self._build(left, l, mid)\n",
    "        self._build(right, mid+1, r)\n",
    "        self.tree[tree_index] = self._merge(self.tree[left], self.tree[right])\n",
    "\n",
    "    def _query(self, tree_index, l, r, ql, qr):\n",
    "        '''\n",
    "        递归查询区间[ql,..,qr]的值\n",
    "        tree_index : 某个根节点的索引\n",
    "        l, r : 该节点表示的区间的左右边界\n",
    "        ql, qr: 待查询区间的左右边界\n",
    "        '''\n",
    "        if l == ql and r == qr:\n",
    "            return self.tree[tree_index]\n",
    "\n",
    "        mid = (l+r) // 2 # 区间中点,对应左孩子区间结束,右孩子区间开头\n",
    "        left, right = tree_index * 2 + 1, tree_index * 2 + 2\n",
    "        if qr <= mid:\n",
    "            # 查询区间全在左子树\n",
    "            return self._query(left, l, mid, ql, qr)\n",
    "        elif ql > mid:\n",
    "            # 查询区间全在右子树\n",
    "            return self._query(right, mid+1, r, ql, qr)\n",
    "\n",
    "        # 查询区间一部分在左子树一部分在右子树\n",
    "        return self._merge(self._query(left, l, mid, ql, mid), \n",
    "                          self._query(right, mid+1, r, mid+1, qr))\n",
    "\n",
    "    def _update(self, tree_index, l, r, index):\n",
    "        '''\n",
    "        tree_index:某个根节点索引\n",
    "        l, r : 此根节点代表区间的左右边界\n",
    "        index : 更新的值的索引\n",
    "        '''\n",
    "        if l == r == index:\n",
    "            self.tree[tree_index] = self.data[index]\n",
    "            return\n",
    "        mid = (l+r)//2\n",
    "        left, right = 2 * tree_index + 1, 2 * tree_index + 2\n",
    "        if index > mid:\n",
    "            # 要更新的区间在右子树\n",
    "            self._update(right, mid+1, r, index)\n",
    "        else:\n",
    "            # 要更新的区间在左子树index<=mid\n",
    "            self._update(left, l, mid, index)\n",
    "        # 里面的小区间变化了，包裹的大区间也要更新\n",
    "        self.tree[tree_index] = self._merge(self.tree[left], self.tree[right])\n",
    "\n",
    "class NumArray:\n",
    "    def __init__(self, nums: List[int]):\n",
    "        self.segment_tree = SegmentTree(nums, lambda x, y : x + y)\n",
    "        \n",
    "    def update(self, i: int, val: int) -> None:\n",
    "        self.segment_tree.update(i, val)\n",
    "        \n",
    "    def sumRange(self, i: int, j: int) -> int:\n",
    "        return self.segment_tree.query(i, j)\n",
    "        \n",
    "# Your NumArray object will be instantiated and called as such:\n",
    "# obj = NumArray(nums)\n",
    "# obj.update(i,val)\n",
    "# param_2 = obj.sumRange(i,j)"
   ]
  },
  {
   "cell_type": "code",
   "execution_count": null,
   "metadata": {},
   "outputs": [],
   "source": []
  },
  {
   "cell_type": "code",
   "execution_count": null,
   "metadata": {},
   "outputs": [],
   "source": []
  },
  {
   "cell_type": "code",
   "execution_count": null,
   "metadata": {},
   "outputs": [],
   "source": []
  },
  {
   "cell_type": "code",
   "execution_count": 47,
   "metadata": {},
   "outputs": [],
   "source": [
    "from typing import List\n",
    "\n",
    "# segment tree + DFS\n",
    "class SegmentTree:\n",
    "    def __init__(self, values):\n",
    "        self.tree = {}\n",
    "        self.values = values\n",
    "        n = len(values)\n",
    "        self.build(0, n-1, 0)\n",
    "    \n",
    "    def build(self, start, end, node):\n",
    "        # 构建树\n",
    "        if start == end:\n",
    "             # 存储了最小值以及最小值在 values中的下标\n",
    "            self.tree[node] = (self.values[start], start)\n",
    "            return\n",
    "        mid = (start + end) // 2\n",
    "        left_node = 2 * node + 1\n",
    "        right_node = 2 * node + 2\n",
    "        self.build(start, mid, left_node)\n",
    "        self.build(mid+1, end, right_node)\n",
    "        # 当前节点存储了左子树与右子树之间的最小值与 index\n",
    "        if self.tree[left_node][0] < self.tree[right_node][0]:\n",
    "            self.tree[node] = self.tree[left_node]\n",
    "        else:\n",
    "            self.tree[node] = self.tree[right_node]\n",
    "    \n",
    "    def queryMinVal(self, start, end, node, left, right):\n",
    "        # 查找在 values 中 left 和 right 区间内的最小值\n",
    "        if left > end or right < start:\n",
    "            return float('inf'), None\n",
    "        elif start == end or (start >= left and end <= right):\n",
    "            return self.tree[node]\n",
    "        mid = (start + end) // 2\n",
    "        L, L_idx = self.queryMinVal(start, mid, 2*node+1, left, right)\n",
    "        R, R_idx = self.queryMinVal(mid+1, end, 2*node+2, left, right)\n",
    "        if L < R:\n",
    "            return L, L_idx\n",
    "        return R, R_idx\n",
    "\n",
    "class Solution:\n",
    "    def minNumberOperations(self, target: List[int]) -> int:\n",
    "        def dfs(start, end, base):\n",
    "            nonlocal ret\n",
    "            if start > end or start < 0 or end >= len(target):\n",
    "                return 0\n",
    "            min_val, min_pos = seg_tree.queryMinVal(0, len(target)-1, 0, start, end)\n",
    "            ret += min_val - base\n",
    "            dfs(start, min_pos-1, min_val)\n",
    "            dfs(min_pos+1, end, min_val)\n",
    "        \n",
    "        seg_tree = SegmentTree(target)\n",
    "        ret = 0 \n",
    "        dfs(0, len(target)-1, 0)\n",
    "        return ret"
   ]
  },
  {
   "cell_type": "code",
   "execution_count": 54,
   "metadata": {},
   "outputs": [
    {
     "data": {
      "text/plain": [
       "1"
      ]
     },
     "execution_count": 54,
     "metadata": {},
     "output_type": "execute_result"
    }
   ],
   "source": [
    "solution = Solution()\n",
    "solution.minNumberOperations(target = [1,1,1,1])"
   ]
  },
  {
   "cell_type": "code",
   "execution_count": null,
   "metadata": {},
   "outputs": [],
   "source": []
  },
  {
   "cell_type": "code",
   "execution_count": null,
   "metadata": {},
   "outputs": [],
   "source": []
  },
  {
   "cell_type": "code",
   "execution_count": null,
   "metadata": {},
   "outputs": [],
   "source": []
  },
  {
   "cell_type": "code",
   "execution_count": null,
   "metadata": {},
   "outputs": [],
   "source": []
  },
  {
   "cell_type": "raw",
   "metadata": {},
   "source": [
    "从target的第一个非零点开始加+1，遇到target[i] == 0时，作为end节点。\n",
    "直到所有的target都为0\n",
    "[1,2,3,2,1]\n",
    "1 1 1 1 1 -> 0,1,2,1,0\n",
    "1 2 2 2 1 -> 0,0,1,0,0"
   ]
  },
  {
   "cell_type": "code",
   "execution_count": null,
   "metadata": {},
   "outputs": [],
   "source": [
    "[1,2,3,2,1]\n",
    "0-4: min_val = 1, min_pos = 0 ret += min_val, base = 1\n",
    "1-4：min_val = 1, base = 1, ret += min_val-base\n",
    "1-3: min_val = 2, base = 1, ret += min_val - base "
   ]
  },
  {
   "cell_type": "code",
   "execution_count": null,
   "metadata": {},
   "outputs": [],
   "source": []
  },
  {
   "cell_type": "code",
   "execution_count": null,
   "metadata": {},
   "outputs": [],
   "source": [
    "from typing import List\n",
    "\n",
    "class Solution:\n",
    "    def minNumberOperations(self, target: List[int]) -> int:\n",
    "        cur = 0\n",
    "        ret = 0\n",
    "        for v in target:\n",
    "            if v > cur:\n",
    "                ret += v - cur\n",
    "            cur = v\n",
    "        return ret"
   ]
  }
 ],
 "metadata": {
  "kernelspec": {
   "display_name": "Python 3",
   "language": "python",
   "name": "python3"
  },
  "language_info": {
   "codemirror_mode": {
    "name": "ipython",
    "version": 3
   },
   "file_extension": ".py",
   "mimetype": "text/x-python",
   "name": "python",
   "nbconvert_exporter": "python",
   "pygments_lexer": "ipython3",
   "version": "3.6.2"
  }
 },
 "nbformat": 4,
 "nbformat_minor": 4
}
