{
 "cells": [
  {
   "cell_type": "code",
   "execution_count": null,
   "metadata": {},
   "outputs": [],
   "source": []
  },
  {
   "cell_type": "code",
   "execution_count": null,
   "metadata": {},
   "outputs": [],
   "source": []
  },
  {
   "cell_type": "code",
   "execution_count": null,
   "metadata": {},
   "outputs": [],
   "source": []
  },
  {
   "cell_type": "code",
   "execution_count": null,
   "metadata": {},
   "outputs": [],
   "source": []
  },
  {
   "cell_type": "code",
   "execution_count": null,
   "metadata": {},
   "outputs": [],
   "source": []
  },
  {
   "cell_type": "code",
   "execution_count": 27,
   "metadata": {},
   "outputs": [],
   "source": [
    "from typing import List\n",
    "from sortedcontainers import SortedList\n",
    "\n",
    "class Solution:\n",
    "    def fallingSquares(self, positions: List[List[int]]) -> List[int]:\n",
    "        count = SortedList()\n",
    "        res = [0] * len(positions)\n",
    "        for idx, (a, b) in enumerate(positions):\n",
    "            cur = 0\n",
    "            max_val = 0\n",
    "            count.add((a, b))\n",
    "            count.add((a+b+1, -b))\n",
    "            print(count)\n",
    "            for k, v in count:\n",
    "                cur += v\n",
    "                max_val = max(cur, max_val)\n",
    "            res[idx] = max_val\n",
    "        return res"
   ]
  },
  {
   "cell_type": "code",
   "execution_count": 28,
   "metadata": {},
   "outputs": [
    {
     "name": "stdout",
     "output_type": "stream",
     "text": [
      "SortedList([(9, 7), (17, -7)])\n",
      "SortedList([(1, 9), (9, 7), (11, -9), (17, -7)])\n",
      "SortedList([(1, 9), (3, 1), (5, -1), (9, 7), (11, -9), (17, -7)])\n"
     ]
    },
    {
     "data": {
      "text/plain": [
       "[7, 16, 16]"
      ]
     },
     "execution_count": 28,
     "metadata": {},
     "output_type": "execute_result"
    }
   ],
   "source": [
    "solution = Solution()\n",
    "solution.fallingSquares([[9,7],[1,9],[3,1]])"
   ]
  },
  {
   "cell_type": "raw",
   "metadata": {},
   "source": [
    "        x\n",
    "        x    \n",
    "0000000000"
   ]
  }
 ],
 "metadata": {
  "kernelspec": {
   "display_name": "Python 3",
   "language": "python",
   "name": "python3"
  },
  "language_info": {
   "codemirror_mode": {
    "name": "ipython",
    "version": 3
   },
   "file_extension": ".py",
   "mimetype": "text/x-python",
   "name": "python",
   "nbconvert_exporter": "python",
   "pygments_lexer": "ipython3",
   "version": "3.6.2"
  }
 },
 "nbformat": 4,
 "nbformat_minor": 4
}
