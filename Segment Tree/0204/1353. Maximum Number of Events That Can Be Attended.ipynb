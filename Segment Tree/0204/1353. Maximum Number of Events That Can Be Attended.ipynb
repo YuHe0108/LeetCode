{
 "cells": [
  {
   "cell_type": "code",
   "execution_count": null,
   "metadata": {},
   "outputs": [],
   "source": []
  },
  {
   "cell_type": "code",
   "execution_count": null,
   "metadata": {},
   "outputs": [],
   "source": []
  },
  {
   "cell_type": "code",
   "execution_count": 1,
   "metadata": {},
   "outputs": [],
   "source": [
    "class Solution:\n",
    "    def maxEvents(self, events: List[List[int]]) -> int:\n",
    "        events.sort()\n",
    "        ans = 0\n",
    "        hq = []\n",
    "        day = 0\n",
    "        idx = 0\n",
    "        total_day = max([event[1] for event in events])\n",
    "        while day <= total_day:\n",
    "            # 当events[idx] 开始的时间小于等于 当前时间点 day 的时候，\n",
    "            # 按照结束的时间点加入至 hq 中\n",
    "            while idx < len(events) and events[idx][0] <= day:\n",
    "                heapq.heappush(hq, events[idx][1])\n",
    "                idx += 1\n",
    "            \n",
    "            while hq:\n",
    "                val = heapq.heappop(hq)\n",
    "                # 当结束的时间大于等于 day 的时候，先参加结束早的会议\n",
    "                if val >= day:\n",
    "                    ans += 1\n",
    "                    break\n",
    "            day += 1\n",
    "        return ans"
   ]
  },
  {
   "cell_type": "code",
   "execution_count": 2,
   "metadata": {},
   "outputs": [],
   "source": [
    "solution = Solution()\n",
    "solution.maxEvents(events = [[1,2],[2,3],[3,4]])"
   ]
  },
  {
   "cell_type": "code",
   "execution_count": null,
   "metadata": {},
   "outputs": [],
   "source": [
    "[1,1],[1,2],[1,3],[1,4],[1,5],[1,6],[1,7]\n",
    "\n",
    "1 \n",
    "1 2\n",
    "1 2 3\n",
    "1 2 3 4\n",
    "1 2 3 4 5\n",
    "1 2 3 4 5 6 \n",
    "1 2 3 4 5 6 7"
   ]
  }
 ],
 "metadata": {
  "kernelspec": {
   "display_name": "Python 3",
   "language": "python",
   "name": "python3"
  },
  "language_info": {
   "codemirror_mode": {
    "name": "ipython",
    "version": 3
   },
   "file_extension": ".py",
   "mimetype": "text/x-python",
   "name": "python",
   "nbconvert_exporter": "python",
   "pygments_lexer": "ipython3",
   "version": "3.6.2"
  }
 },
 "nbformat": 4,
 "nbformat_minor": 4
}
