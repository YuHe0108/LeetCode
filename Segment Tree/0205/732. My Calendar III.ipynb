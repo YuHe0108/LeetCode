{
 "cells": [
  {
   "cell_type": "code",
   "execution_count": null,
   "metadata": {},
   "outputs": [],
   "source": []
  },
  {
   "cell_type": "code",
   "execution_count": null,
   "metadata": {},
   "outputs": [],
   "source": []
  },
  {
   "cell_type": "code",
   "execution_count": null,
   "metadata": {},
   "outputs": [],
   "source": []
  },
  {
   "cell_type": "code",
   "execution_count": null,
   "metadata": {},
   "outputs": [],
   "source": []
  },
  {
   "cell_type": "code",
   "execution_count": null,
   "metadata": {},
   "outputs": [],
   "source": [
    "from sortedcontainers import SortedList"
   ]
  },
  {
   "cell_type": "code",
   "execution_count": null,
   "metadata": {},
   "outputs": [],
   "source": [
    "class MyCalendarThree:\n",
    "\n",
    "    def __init__(self):\n",
    "        self.events = []\n",
    "        self.max_day = -1 # 最后结束的时间\n",
    "\n",
    "    def book(self, start: int, end: int) -> int:\n",
    "        self.max_day = max(self.max_day, end)\n",
    "        diff = [0] * (self.max_day + 2) # 查分数组\n",
    "        self.events.append((start, end))\n",
    "        for s, e in self.events:\n",
    "            diff[s] += 1\n",
    "            diff[e] -= 1\n",
    "        cur = 0\n",
    "        ans = 0 \n",
    "        for v in diff:\n",
    "            cur += v\n",
    "            ans = max(cur, ans)\n",
    "        return ans\n",
    "\n",
    "# Your MyCalendarThree object will be instantiated and called as such:\n",
    "# obj = MyCalendarThree()\n",
    "# param_1 = obj.book(start,end)"
   ]
  },
  {
   "cell_type": "code",
   "execution_count": null,
   "metadata": {},
   "outputs": [],
   "source": []
  },
  {
   "cell_type": "code",
   "execution_count": null,
   "metadata": {},
   "outputs": [],
   "source": [
    "from sortedcontainers import SortedList\n",
    "\n",
    "class MyCalendarThree:\n",
    "\n",
    "    def __init__(self):\n",
    "        self.events = SortedList()\n",
    "\n",
    "    def book(self, start: int, end: int) -> int:\n",
    "        self.events.add((start, 1))\n",
    "        self.events.add((end, -1))\n",
    "        ans = 0\n",
    "        cur = 0\n",
    "        for e, v in self.events:\n",
    "            cur += v\n",
    "            ans = max(ans, cur)\n",
    "        return ans\n",
    "        \n",
    "# Your MyCalendarThree object will be instantiated and called as such:\n",
    "# obj = MyCalendarThree()\n",
    "# param_1 = obj.book(start,end)"
   ]
  },
  {
   "cell_type": "code",
   "execution_count": 4,
   "metadata": {},
   "outputs": [],
   "source": [
    "import bisect\n",
    "\n",
    "class MyCalendarThree:\n",
    "\n",
    "    def __init__(self):\n",
    "        self.points = [] # 记录了每个时间点，（start, 1）, (end, -1)\n",
    "        self.cnt = [] # 记录了在每个点上最大的交叉值\n",
    "        self.k = 0 # 最大的交叉值\n",
    "\n",
    "    def book(self, start: int, end: int) -> int:\n",
    "        left = bisect.bisect_left(self.points, (start, 1)) # 当前时间点应该插入在哪个位置\n",
    "        self.points.insert(left, (start, 1))\n",
    "        self.cnt.insert(left, 0) # 设置当前插入的最大交叉值为 0\n",
    "\n",
    "        right = bisect.bisect_left(self.points, (end, -1))\n",
    "        self.points.insert(right, (end, -1))\n",
    "        self.cnt.insert(right, 0)\n",
    "        \n",
    "        # 减少重复计算\n",
    "        k = 0 if left == 0 else self.cnt[left - 1]\n",
    "\n",
    "        for i in range(left, right + 1):\n",
    "            k += self.points[i][1]\n",
    "            self.cnt[i] = k \n",
    "            self.k = max(self.k, k)\n",
    "        return self.k"
   ]
  },
  {
   "cell_type": "raw",
   "metadata": {},
   "source": [
    "[(10, 1), (20, -1)] [0, 0] 0 1\n",
    "[(10, 1), (20, -1), (50, 1), (60, -1)] [1, 0, 0, 0] 2 3\n",
    "[(10, 1), (10, 1), (20, -1), (40, -1), (50, 1), (60, -1)] [0, 1, 0, 0, 1, 0] 0 3\n",
    "[(5, 1), (10, 1), (10, 1), (15, -1), (20, -1), (40, -1), (50, 1), (60, -1)] [0, 1, 2, 0, 1, 0, 1, 0] 0 3\n",
    "[(5, 1), (5, 1), (10, -1), (10, 1), (10, 1), (15, -1), (20, -1), (40, -1), (50, 1), (60, -1)] [0, 1, 0, 2, 3, 2, 1, 0, 1, 0] 0 2\n",
    "[(5, 1), (5, 1), (10, -1), (10, 1), (10, 1), (15, -1), (20, -1), (25, 1), (40, -1), (50, 1), (55, -1), (60, -1)] \n",
    "[1, 2, 1, 2, 3, 2, 1, 0, 0, 1, 0, 0] 7 10\n"
   ]
  },
  {
   "cell_type": "code",
   "execution_count": 5,
   "metadata": {},
   "outputs": [],
   "source": [
    "a = [1, 2, 3, 4, 5]"
   ]
  },
  {
   "cell_type": "code",
   "execution_count": 9,
   "metadata": {},
   "outputs": [
    {
     "data": {
      "text/plain": [
       "1"
      ]
     },
     "execution_count": 9,
     "metadata": {},
     "output_type": "execute_result"
    }
   ],
   "source": [
    "bisect.bisect_left(a, 1.5)"
   ]
  },
  {
   "cell_type": "code",
   "execution_count": null,
   "metadata": {},
   "outputs": [],
   "source": []
  },
  {
   "cell_type": "code",
   "execution_count": null,
   "metadata": {},
   "outputs": [],
   "source": []
  },
  {
   "cell_type": "code",
   "execution_count": 1,
   "metadata": {},
   "outputs": [
    {
     "name": "stdout",
     "output_type": "stream",
     "text": [
      "62\n"
     ]
    }
   ],
   "source": [
    "nums = [0,  0, 0, 0, 0, 2,   0, 0, 0, 0, \n",
    "        2, -1, 0, 0, 0, 0,  -1, 0, 0, 0, \n",
    "        0, -1, 0, 0, 0, 1,   0, 0, 0, 0,\n",
    "        0,  0, 0, 0, 0, 0,   0, 0, 0, 0,\n",
    "        0, -1, 0, 0, 0, 0,   0, 0, 0, 0, \n",
    "        1,  0, 0, 0, 0, 0,  -1, 0, 0, 0, \n",
    "        0, -1]\n"
   ]
  },
  {
   "cell_type": "code",
   "execution_count": 2,
   "metadata": {},
   "outputs": [],
   "source": [
    "a = [[10, 20], [50, 60], [10, 40], [5, 15], [5, 10], [25, 55]]\n",
    "a.sort()"
   ]
  },
  {
   "cell_type": "code",
   "execution_count": 3,
   "metadata": {},
   "outputs": [
    {
     "data": {
      "text/plain": [
       "[[5, 10], [5, 15], [10, 20], [10, 40], [25, 55], [50, 60]]"
      ]
     },
     "execution_count": 3,
     "metadata": {},
     "output_type": "execute_result"
    }
   ],
   "source": [
    "a"
   ]
  },
  {
   "cell_type": "raw",
   "metadata": {},
   "source": [
    "[(5, 1), (5, 1), (10, -1), (10, 1), (10, 1), (15, -1), (20, -1), (25, 1), (40, -1), (50, 1), (55, -1), (60, -1)]\n",
    "\n",
    "5   10\n",
    "5         15\n",
    "    10          20\n",
    "    10                  40\n",
    "                   25          55\n",
    "                            50     60"
   ]
  }
 ],
 "metadata": {
  "kernelspec": {
   "display_name": "Python 3",
   "language": "python",
   "name": "python3"
  },
  "language_info": {
   "codemirror_mode": {
    "name": "ipython",
    "version": 3
   },
   "file_extension": ".py",
   "mimetype": "text/x-python",
   "name": "python",
   "nbconvert_exporter": "python",
   "pygments_lexer": "ipython3",
   "version": "3.6.2"
  }
 },
 "nbformat": 4,
 "nbformat_minor": 4
}
