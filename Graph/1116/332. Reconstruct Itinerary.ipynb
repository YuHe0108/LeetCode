{
 "cells": [
  {
   "cell_type": "raw",
   "metadata": {},
   "source": [
    "    给定一个机票的字符串二维数组 [from, to]，子数组中的两个成员分别表示飞机出发和降落的机场地点，对该行程进行重新规划排序。所有这些机票都属于一个从 JFK（肯尼迪国际机场）出发的先生，所以该行程必须从 JFK 开始。\n",
    "\n",
    "提示：\n",
    "    如果存在多种有效的行程，请你按字符自然排序返回最小的行程组合。例如，行程 [\"JFK\", \"LGA\"] 与 [\"JFK\", \"LGB\"] 相比就更小，排序更靠前\n",
    "    所有的机场都用三个大写字母表示（机场代码）。\n",
    "    假定所有机票至少存在一种合理的行程。\n",
    "    所有的机票必须都用一次 且 只能用一次。\n",
    "\n",
    "示例 1：\n",
    "    输入：[[\"MUC\", \"LHR\"], [\"JFK\", \"MUC\"], [\"SFO\", \"SJC\"], [\"LHR\", \"SFO\"]]\n",
    "    输出：[\"JFK\", \"MUC\", \"LHR\", \"SFO\", \"SJC\"]\n",
    "\n",
    "示例 2：\n",
    "    输入：[[\"JFK\",\"SFO\"],[\"JFK\",\"ATL\"],[\"SFO\",\"ATL\"],[\"ATL\",\"JFK\"],[\"ATL\",\"SFO\"]]\n",
    "    输出：[\"JFK\",\"ATL\",\"JFK\",\"SFO\",\"ATL\",\"SFO\"]\n",
    "    解释：另一种有效的行程是 [\"JFK\",\"SFO\",\"ATL\",\"JFK\",\"ATL\",\"SFO\"]。但是它自然排序更大更靠后。"
   ]
  },
  {
   "cell_type": "code",
   "execution_count": null,
   "metadata": {},
   "outputs": [],
   "source": [
    "from collections import defaultdict\n",
    "\n",
    "class Solution:\n",
    "    def findItinerary(self, tickets: List[List[str]]) -> List[str]:\n",
    "        graph = defaultdict(list)\n",
    "        res = []\n",
    "        for x, y in sorted(tickets)[::-1]:\n",
    "            graph[x].append(y)\n",
    "\n",
    "        def dfs(tmp):\n",
    "            while graph[tmp]:\n",
    "                dfs(graph[tmp].pop())\n",
    "            res.append(tmp)\n",
    "\n",
    "        dfs(\"JFK\")\n",
    "        return res[::-1]"
   ]
  },
  {
   "cell_type": "code",
   "execution_count": null,
   "metadata": {},
   "outputs": [],
   "source": []
  },
  {
   "cell_type": "code",
   "execution_count": null,
   "metadata": {},
   "outputs": [],
   "source": []
  },
  {
   "cell_type": "code",
   "execution_count": null,
   "metadata": {},
   "outputs": [],
   "source": []
  },
  {
   "cell_type": "code",
   "execution_count": 92,
   "metadata": {},
   "outputs": [],
   "source": [
    "from collections import defaultdict\n",
    "from heapq import heappop, heappush\n",
    "\n",
    "class Solution:\n",
    "    def findItinerary(self, tickets):\n",
    "        graph = defaultdict(list)\n",
    "        for a, b in tickets:\n",
    "            graph[a].append(b)\n",
    "        \n",
    "        N = len(tickets) + 1\n",
    "        q, visited = ['JFK'], []\n",
    "        print(graph)\n",
    "        while q:\n",
    "            s = q.pop()\n",
    "            visited.append(s)\n",
    "            if graph[s]:\n",
    "                nxt = min(graph[s])\n",
    "                graph[s].remove(nxt)\n",
    "            else:\n",
    "                nxt = min(graph.keys())\n",
    "            q.append(nxt)\n",
    "            if len(visited) == N:\n",
    "                return visited"
   ]
  },
  {
   "cell_type": "code",
   "execution_count": 128,
   "metadata": {},
   "outputs": [],
   "source": [
    "from collections import defaultdict\n",
    "\n",
    "class Solution:\n",
    "    def findItinerary(self, tickets: List[List[str]]) -> List[str]:\n",
    "        def dfs(start, temp):\n",
    "            nonlocal res\n",
    "            if len(temp) == len(tickets) + 1:\n",
    "                res = temp[:]\n",
    "                return\n",
    "            for nxt in sorted(graph[start]):\n",
    "                if airports[start + nxt] > 0 and not res:\n",
    "                    airports[start + nxt] -= 1\n",
    "                    dfs(nxt, temp + [nxt])\n",
    "                    airports[start + nxt] += 1\n",
    "        \n",
    "        graph = defaultdict(list)\n",
    "        airports = defaultdict(int)\n",
    "        for a, b in tickets:\n",
    "            graph[a].append(b)\n",
    "            airports[a+b] += 1\n",
    "        res = []\n",
    "        dfs('JFK', ['JFK'])\n",
    "        return res"
   ]
  },
  {
   "cell_type": "code",
   "execution_count": 129,
   "metadata": {},
   "outputs": [
    {
     "name": "stdout",
     "output_type": "stream",
     "text": [
      "defaultdict(<class 'int'>, {'JFKKUL': 1, 'JFKNRT': 1, 'NRTJFK': 1})\n",
      "defaultdict(<class 'list'>, {'JFK': ['KUL', 'NRT'], 'NRT': ['JFK']})\n",
      "['JFK'] defaultdict(<class 'int'>, {'JFKKUL': 1, 'JFKNRT': 1, 'NRTJFK': 1})\n",
      "['JFK', 'KUL'] defaultdict(<class 'int'>, {'JFKKUL': 0, 'JFKNRT': 1, 'NRTJFK': 1})\n",
      "['JFK', 'NRT'] defaultdict(<class 'int'>, {'JFKKUL': 1, 'JFKNRT': 0, 'NRTJFK': 1})\n",
      "['JFK', 'NRT', 'JFK'] defaultdict(<class 'int'>, {'JFKKUL': 1, 'JFKNRT': 0, 'NRTJFK': 0})\n"
     ]
    },
    {
     "data": {
      "text/plain": [
       "['JFK', 'NRT', 'JFK', 'KUL']"
      ]
     },
     "execution_count": 129,
     "metadata": {},
     "output_type": "execute_result"
    }
   ],
   "source": [
    "solution = Solution()\n",
    "solution.findItinerary([[\"JFK\",\"KUL\"],[\"JFK\",\"NRT\"],[\"NRT\",\"JFK\"]])"
   ]
  },
  {
   "cell_type": "code",
   "execution_count": 6,
   "metadata": {},
   "outputs": [
    {
     "data": {
      "text/plain": [
       "'A'"
      ]
     },
     "execution_count": 6,
     "metadata": {},
     "output_type": "execute_result"
    }
   ],
   "source": [
    "a = ['A', 'B', 'C']\n",
    "heapq.heappop(a)"
   ]
  },
  {
   "cell_type": "code",
   "execution_count": 94,
   "metadata": {},
   "outputs": [
    {
     "name": "stdout",
     "output_type": "stream",
     "text": [
      "KUL\n"
     ]
    }
   ],
   "source": [
    "print(min('KUL', 'NRT'))"
   ]
  },
  {
   "cell_type": "code",
   "execution_count": 95,
   "metadata": {},
   "outputs": [
    {
     "data": {
      "text/plain": [
       "'JFK'"
      ]
     },
     "execution_count": 95,
     "metadata": {},
     "output_type": "execute_result"
    }
   ],
   "source": [
    "min('NRT', 'JFK')"
   ]
  },
  {
   "cell_type": "code",
   "execution_count": null,
   "metadata": {},
   "outputs": [],
   "source": [
    "print(min([]))"
   ]
  }
 ],
 "metadata": {
  "kernelspec": {
   "display_name": "Python 3",
   "language": "python",
   "name": "python3"
  },
  "language_info": {
   "codemirror_mode": {
    "name": "ipython",
    "version": 3
   },
   "file_extension": ".py",
   "mimetype": "text/x-python",
   "name": "python",
   "nbconvert_exporter": "python",
   "pygments_lexer": "ipython3",
   "version": "3.6.2"
  }
 },
 "nbformat": 4,
 "nbformat_minor": 4
}
