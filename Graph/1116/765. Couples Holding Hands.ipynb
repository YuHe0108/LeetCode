{
 "cells": [
  {
   "cell_type": "raw",
   "metadata": {},
   "source": [
    "    N 对情侣坐在连续排列的 2N 个座位上，想要牵到对方的手。 \n",
    "    计算最少交换座位的次数，以便每对情侣可以并肩坐在一起。 \n",
    "    一次交换可选择任意两人，让他们站起来交换座位。\n",
    "\n",
    "    人和座位用 0 到 2N-1 的整数表示，情侣们按顺序编号，第一对是 (0, 1)，第二对是 (2, 3)，以此类推，最后一对是 (2N-2, 2N-1)。\n",
    "    \n",
    "    这些情侣的初始座位  row[i] 是由最初始坐在第 i 个座位上的人决定的。\n",
    "\n",
    "示例 1:\n",
    "    输入: row = [0, 2, 1, 3]\n",
    "    输出: 1\n",
    "    解释: 我们只需要交换row[1]和row[2]的位置即可。\n",
    "\n",
    "示例 2:\n",
    "    输入: row = [3, 2, 0, 1]\n",
    "    输出: 0\n",
    "    解释: 无需交换座位，所有的情侣都已经可以手牵手了。\n",
    "    说明:\n",
    "        len(row) 是偶数且数值在 [4, 60]范围内。\n",
    "        可以保证row 是序列 0...len(row)-1 的一个全排列。"
   ]
  },
  {
   "cell_type": "code",
   "execution_count": 84,
   "metadata": {},
   "outputs": [],
   "source": [
    "from collections import defaultdict\n",
    "\n",
    "class Solution:\n",
    "    def minSwapsCouples(self, row) -> int:\n",
    "        def find(z):\n",
    "            if father[z] != z:\n",
    "                father[z] = find(father[z])\n",
    "            return father[z]\n",
    "        \n",
    "        def merge(x, y):\n",
    "            x = find(x)\n",
    "            y = find(y)\n",
    "            if x > y:\n",
    "                father[y] = x\n",
    "            else:\n",
    "                father[x] = y\n",
    "        \n",
    "        N = len(row)\n",
    "        father = [0] * N\n",
    "        for i in range(0, N, 2):\n",
    "            father[i] = father[i+1] = i\n",
    "        for i in range(0, N, 2):\n",
    "            merge(row[i], row[i+1])\n",
    "        res = 0\n",
    "        for i in range(0, N, 2):\n",
    "            if i == father[i] == father[i+1]:\n",
    "                # 原来一家没有被拆散\n",
    "                res += 1\n",
    "        return N // 2 - res # 剩余被拆散家的数量"
   ]
  },
  {
   "cell_type": "code",
   "execution_count": 85,
   "metadata": {},
   "outputs": [
    {
     "name": "stdout",
     "output_type": "stream",
     "text": [
      "2 [0, 0, 4, 2, 4, 4]\n"
     ]
    },
    {
     "data": {
      "text/plain": [
       "1"
      ]
     },
     "execution_count": 85,
     "metadata": {},
     "output_type": "execute_result"
    }
   ],
   "source": [
    "solution = Solution()\n",
    "solution.minSwapsCouples([5,3,4,2,1,0])"
   ]
  },
  {
   "cell_type": "code",
   "execution_count": null,
   "metadata": {},
   "outputs": [],
   "source": [
    "        count = defaultdict(int)\n",
    "        for f in father:\n",
    "            count[f] += 1\n",
    "        ret = 0\n",
    "        for k, v in count.items():\n",
    "            ret += (v // 2 - 1)\n",
    "        return ret"
   ]
  }
 ],
 "metadata": {
  "kernelspec": {
   "display_name": "Python 3",
   "language": "python",
   "name": "python3"
  },
  "language_info": {
   "codemirror_mode": {
    "name": "ipython",
    "version": 3
   },
   "file_extension": ".py",
   "mimetype": "text/x-python",
   "name": "python",
   "nbconvert_exporter": "python",
   "pygments_lexer": "ipython3",
   "version": "3.6.2"
  }
 },
 "nbformat": 4,
 "nbformat_minor": 4
}
