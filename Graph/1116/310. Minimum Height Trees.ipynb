{
 "cells": [
  {
   "cell_type": "raw",
   "metadata": {},
   "source": [
    "    树是一个无向图，其中任何两个顶点只通过一条路径连接。 换句话说，一个任何没有简单环路的连通图都是一棵树。\n",
    "\n",
    "    给你一棵包含 n 个节点的数，标记为 0 到 n - 1 。\n",
    "    给定数字 n 和一个有 n - 1 条无向边的 edges 列表（每一个边都是一对标签），\n",
    "    其中 edges[i] = [ai, bi] 表示树中节点 ai 和 bi 之间存在一条无向边。\n",
    "\n",
    "    可选择树中任何一个节点作为根。\n",
    "    当选择节点 x 作为根节点时，设结果树的高度为 h 。\n",
    "    在所有可能的树中，具有最小高度的树（即，min(h)）被称为 最小高度树 。\n",
    "\n",
    "    请你找到所有的 最小高度树 并按 任意顺序 返回它们的根节点标签列表。\n",
    "    树的 高度 是指根节点和叶子节点之间最长向下路径上边的数量。"
   ]
  },
  {
   "cell_type": "markdown",
   "metadata": {},
   "source": [
    "<img src='https://assets.leetcode.com/uploads/2020/09/01/e1.jpg' width=700>\n",
    "<img src='https://assets.leetcode.com/uploads/2020/09/01/e2.jpg' width=700>"
   ]
  },
  {
   "cell_type": "raw",
   "metadata": {},
   "source": [
    "示例 1：\n",
    "    输入：n = 4, edges = [[1,0],[1,2],[1,3]]\n",
    "    输出：[1]\n",
    "    解释：如图所示，当根是标签为 1 的节点时，树的高度是 1 ，这是唯一的最小高度树。\n",
    "\n",
    "示例 2：\n",
    "    输入：n = 6, edges = [[3,0],[3,1],[3,2],[3,4],[5,4]]\n",
    "    输出：[3,4]\n",
    "\n",
    "示例 3：\n",
    "    输入：n = 1, edges = []\n",
    "    输出：[0]\n",
    "\n",
    "示例 4：\n",
    "    输入：n = 2, edges = [[0,1]]\n",
    "    输出：[0,1]\n",
    "\n",
    "提示：\n",
    "    1 <= n <= 2 * 10^4\n",
    "    edges.length == n - 1\n",
    "    0 <= ai, bi < n\n",
    "    ai != bi\n",
    "    所有 (ai, bi) 互不相同\n",
    "    给定的输入 保证 是一棵树，并且 不会有重复的边"
   ]
  },
  {
   "cell_type": "code",
   "execution_count": 140,
   "metadata": {},
   "outputs": [],
   "source": [
    "from collections import defaultdict, deque\n",
    "\n",
    "class Solution:\n",
    "    def findMinHeightTrees(self, n: int, edges):\n",
    "        graph = defaultdict(list)\n",
    "        for a, b in edges:\n",
    "            graph[a].append(b)\n",
    "            graph[b].append(a)\n",
    "        \n",
    "        res = {x: float('inf') for x in range(n)}\n",
    "        min_h = float('inf')\n",
    "        for i in range(n):\n",
    "            q, seen, count = deque([i]), {i}, 0\n",
    "            while q:\n",
    "                new_seen, q_len = set(), len(q)\n",
    "                for _ in range(q_len):\n",
    "                    node = q.popleft()\n",
    "                    for nxt in graph[node]:\n",
    "                        if nxt not in seen:\n",
    "                            new_seen.add(nxt)\n",
    "                            q.append(nxt)\n",
    "                if new_seen:\n",
    "                    seen |= new_seen\n",
    "                    count += 1\n",
    "                if count > min_h:\n",
    "                    break\n",
    "            min_h = min(min_h, count)\n",
    "            res[i] = count\n",
    "        outs = [k for k, v in res.items() if v == min(res.values())]\n",
    "        return outs"
   ]
  },
  {
   "cell_type": "code",
   "execution_count": 155,
   "metadata": {},
   "outputs": [],
   "source": [
    "from collections import defaultdict, deque\n",
    "\n",
    "class Solution:\n",
    "    def findMinHeightTrees(self, n: int, edges):\n",
    "        if n == 1:\n",
    "            return 0\n",
    "        graph = defaultdict(list)\n",
    "        for a, b in edges:\n",
    "            graph[a].append(b)\n",
    "            graph[b].append(a)\n",
    "        \n",
    "        leaves = [k for k, v in graph.items() if len(v) == 1] # 所有的叶子节点\n",
    "        print(leaves)\n",
    "        while n > 2:\n",
    "            n -= len(leaves) # 非叶子节点的数目\n",
    "            new_leaves = set()\n",
    "            for leave in leaves:\n",
    "                nei = graph[leave].pop()\n",
    "                graph[nei].remove(leave)\n",
    "                if len(graph[nei]) == 1:\n",
    "                    new_leaves.add(nei)\n",
    "            leaves = new_leaves\n",
    "        return leaves"
   ]
  },
  {
   "cell_type": "code",
   "execution_count": 156,
   "metadata": {},
   "outputs": [
    {
     "name": "stdout",
     "output_type": "stream",
     "text": [
      "[0, 1, 2, 5]\n"
     ]
    },
    {
     "data": {
      "text/plain": [
       "{3, 4}"
      ]
     },
     "execution_count": 156,
     "metadata": {},
     "output_type": "execute_result"
    }
   ],
   "source": [
    "solution = Solution()\n",
    "solution.findMinHeightTrees(n = 6, edges = [[3,0],[3,1],[3,2],[3,4],[5,4]])"
   ]
  },
  {
   "cell_type": "code",
   "execution_count": 5,
   "metadata": {},
   "outputs": [],
   "source": [
    "from collections import defaultdict, deque"
   ]
  },
  {
   "cell_type": "code",
   "execution_count": 6,
   "metadata": {},
   "outputs": [],
   "source": []
  },
  {
   "cell_type": "code",
   "execution_count": null,
   "metadata": {},
   "outputs": [],
   "source": []
  }
 ],
 "metadata": {
  "kernelspec": {
   "display_name": "Python 3",
   "language": "python",
   "name": "python3"
  },
  "language_info": {
   "codemirror_mode": {
    "name": "ipython",
    "version": 3
   },
   "file_extension": ".py",
   "mimetype": "text/x-python",
   "name": "python",
   "nbconvert_exporter": "python",
   "pygments_lexer": "ipython3",
   "version": "3.6.2"
  }
 },
 "nbformat": 4,
 "nbformat_minor": 4
}
