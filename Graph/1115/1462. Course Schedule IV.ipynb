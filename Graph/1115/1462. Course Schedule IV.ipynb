{
 "cells": [
  {
   "cell_type": "raw",
   "metadata": {},
   "source": [
    "    你总共需要上 n 门课，课程编号依次为 0 到 n-1 。\n",
    "\n",
    "    有的课会有直接的先修课程，比如如果想上课程 0 ，你必须先上课程 1 ，那么会以 [1,0] 数对的形式给出先修课程数对。\n",
    "\n",
    "    给你课程总数 n 和一个直接先修课程数对列表 prerequisite 和一个查询对列表 queries 。\n",
    "\n",
    "    对于每个查询对 queries[i] ，请判断 queries[i][0] 是否是 queries[i][1] 的先修课程。\n",
    "\n",
    "    请返回一个布尔值列表，列表中每个元素依次分别对应 queries 每个查询对的判断结果。\n",
    "\n",
    "    注意：如果课程 a 是课程 b 的先修课程且课程 b 是课程 c 的先修课程，那么课程 a 也是课程 c 的先修课程。"
   ]
  },
  {
   "cell_type": "raw",
   "metadata": {},
   "source": [
    "示例 1：\n",
    "    输入：n = 2, prerequisites = [[1,0]], queries = [[0,1],[1,0]]\n",
    "    输出：[false,true]\n",
    "    解释：课程 0 不是课程 1 的先修课程，但课程 1 是课程 0 的先修课程。\n",
    "\n",
    "示例 2：\n",
    "    输入：n = 2, prerequisites = [], queries = [[1,0],[0,1]]\n",
    "    输出：[false,false]\n",
    "    解释：没有先修课程对，所以每门课程之间是独立的。\n",
    "\n",
    "示例 3：\n",
    "    输入：n = 3, prerequisites = [[1,2],[1,0],[2,0]], queries = [[1,0],[1,2]]\n",
    "    输出：[true,true]\n",
    "\n",
    "示例 4：\n",
    "    输入：n = 3, prerequisites = [[1,0],[2,0]], queries = [[0,1],[2,0]]\n",
    "    输出：[false,true]\n",
    "\n",
    "示例 5：\n",
    "    输入：n = 5, prerequisites = [[0,1],[1,2],[2,3],[3,4]], queries = [[0,4],[4,0],[1,3],[3,0]]\n",
    "    输出：[true,false,true,false]\n",
    "\n",
    "提示：\n",
    "    2 <= n <= 100\n",
    "    0 <= prerequisite.length <= (n * (n - 1) / 2)\n",
    "    0 <= prerequisite[i][0], prerequisite[i][1] < n\n",
    "    prerequisite[i][0] != prerequisite[i][1]\n",
    "    先修课程图中没有环。\n",
    "    先修课程图中没有重复的边。\n",
    "    1 <= queries.length <= 10^4\n",
    "    queries[i][0] != queries[i][1]"
   ]
  },
  {
   "cell_type": "code",
   "execution_count": 91,
   "metadata": {},
   "outputs": [],
   "source": [
    "from collections import defaultdict\n",
    "\n",
    "class Solution:\n",
    "    def checkIfPrerequisite(self, n: int, prerequisites, queries):\n",
    "        graph = defaultdict(set)\n",
    "        for a, b in prerequisites:\n",
    "            graph[a].add(b)\n",
    "        \n",
    "        new_graph = defaultdict(set)\n",
    "        for key, val in graph.items():\n",
    "            seen = set()\n",
    "            q = [key]\n",
    "            while q:\n",
    "                q_len = len(q)\n",
    "                for _ in range(q_len):\n",
    "                    n = q.pop()\n",
    "                    if n not in seen:\n",
    "                        seen.add(n)\n",
    "                        val |= graph[n]\n",
    "                        for k in graph[n]:\n",
    "                            if k in graph:\n",
    "                                q.append(k)\n",
    "                                \n",
    "        res = [False] * len(queries)\n",
    "        for i, (a, b) in enumerate(queries):\n",
    "            if b in graph[a]:\n",
    "                res[i] = True\n",
    "        return res"
   ]
  },
  {
   "cell_type": "code",
   "execution_count": 97,
   "metadata": {},
   "outputs": [],
   "source": [
    "from collections import defaultdict\n",
    "\n",
    "class Solution:\n",
    "    def checkIfPrerequisite(self, n: int, prerequisites, queries):\n",
    "        graph = defaultdict(set)\n",
    "        for a, b in prerequisites:\n",
    "            graph[a].add(b)\n",
    "        \n",
    "        for key, val in graph.items():\n",
    "            seen = set()\n",
    "            q = [key]\n",
    "            new = val\n",
    "            while q:\n",
    "                q_len = len(q)\n",
    "                for _ in range(q_len):\n",
    "                    n = q.pop()\n",
    "                    if n not in seen:\n",
    "                        seen.add(n)\n",
    "                        new |= graph[n]\n",
    "                        for k in graph[n]:\n",
    "                            if k in graph:\n",
    "                                q.append(k)\n",
    "                                \n",
    "        res = [False] * len(queries)\n",
    "        for i, (a, b) in enumerate(queries):\n",
    "            if b in graph[a]:\n",
    "                res[i] = True\n",
    "        return res"
   ]
  },
  {
   "cell_type": "code",
   "execution_count": 98,
   "metadata": {},
   "outputs": [
    {
     "data": {
      "text/plain": [
       "[True, False, True, False]"
      ]
     },
     "execution_count": 98,
     "metadata": {},
     "output_type": "execute_result"
    }
   ],
   "source": [
    "solution = Solution()\n",
    "solution.checkIfPrerequisite(n = 5, prerequisites = [[0,1],[1,2],[2,3],[3,4]], queries = [[0,4],[4,0],[1,3],[3,0]])"
   ]
  },
  {
   "cell_type": "code",
   "execution_count": 88,
   "metadata": {},
   "outputs": [],
   "source": [
    "a = {2}\n",
    "b = {3}\n",
    "a |= b"
   ]
  },
  {
   "cell_type": "code",
   "execution_count": null,
   "metadata": {},
   "outputs": [],
   "source": []
  },
  {
   "cell_type": "code",
   "execution_count": 89,
   "metadata": {},
   "outputs": [
    {
     "data": {
      "text/plain": [
       "{2, 3}"
      ]
     },
     "execution_count": 89,
     "metadata": {},
     "output_type": "execute_result"
    }
   ],
   "source": [
    "a"
   ]
  },
  {
   "cell_type": "code",
   "execution_count": 90,
   "metadata": {},
   "outputs": [
    {
     "data": {
      "text/plain": [
       "{3}"
      ]
     },
     "execution_count": 90,
     "metadata": {},
     "output_type": "execute_result"
    }
   ],
   "source": [
    "b"
   ]
  },
  {
   "cell_type": "code",
   "execution_count": null,
   "metadata": {},
   "outputs": [],
   "source": [
    "class Solution:\n",
    "    def checkIfPrerequisite(self, n: int, prerequisites, queries):        \n",
    "        inDeg = [0]*n\n",
    "        pres = [set() for _ in range(n)]\n",
    "        graph = collections.defaultdict(list)\n",
    "        q = collections.deque()\n",
    "        for p1,p2 in prerequisites:\n",
    "            graph[p1].append(p2)\n",
    "            inDeg[p2]+=1\n",
    "            pres[p2].add(p1)\n",
    "       \n",
    "        q=[]\n",
    "        for i in range(n):\n",
    "            if inDeg[i]==0:\n",
    "                q.append(i)\n",
    "                \n",
    "        while(q):\n",
    "            course = q.pop(0)\n",
    "            for nextC in graph[course]:\n",
    "                pres[nextC] |= pres[course]\n",
    "                inDeg[nextC] -= 1\n",
    "                if inDeg[nextC]==0:\n",
    "                    q.append(nextC)\n",
    "        return [q1 in pres[q2] for q1,q2 in queries]"
   ]
  }
 ],
 "metadata": {
  "kernelspec": {
   "display_name": "Python 3",
   "language": "python",
   "name": "python3"
  },
  "language_info": {
   "codemirror_mode": {
    "name": "ipython",
    "version": 3
   },
   "file_extension": ".py",
   "mimetype": "text/x-python",
   "name": "python",
   "nbconvert_exporter": "python",
   "pygments_lexer": "ipython3",
   "version": "3.6.2"
  }
 },
 "nbformat": 4,
 "nbformat_minor": 4
}
