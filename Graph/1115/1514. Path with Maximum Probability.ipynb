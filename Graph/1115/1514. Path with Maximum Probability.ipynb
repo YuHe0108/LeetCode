{
 "cells": [
  {
   "cell_type": "raw",
   "metadata": {},
   "source": [
    "    给你一个由 n 个节点（下标从 0 开始）组成的无向加权图，该图由一个描述边的列表组成，\n",
    "    其中 edges[i] = [a, b] 表示连接节点 a 和 b 的一条无向边，且该边遍历成功的概率为 succProb[i] 。\n",
    "\n",
    "    指定两个节点分别作为起点 start 和终点 end ，请你找出从起点到终点成功概率最大的路径，并返回其成功概率。\n",
    "\n",
    "    如果不存在从 start 到 end 的路径，请 返回 0 。\n",
    "    只要答案与标准答案的误差不超过 1e-5 ，就会被视作正确答案。"
   ]
  },
  {
   "cell_type": "markdown",
   "metadata": {},
   "source": [
    "<img src='https://assets.leetcode-cn.com/aliyun-lc-upload/uploads/2020/07/12/1558_ex1.png'>\n",
    "<img src='https://assets.leetcode-cn.com/aliyun-lc-upload/uploads/2020/07/12/1558_ex2.png'>\n",
    "<img src='https://assets.leetcode-cn.com/aliyun-lc-upload/uploads/2020/07/12/1558_ex3.png'>"
   ]
  },
  {
   "cell_type": "raw",
   "metadata": {},
   "source": [
    "输入：n = 3, edges = [[0,1],[1,2],[0,2]], succProb = [0.5,0.5,0.2], start = 0, end = 2\n",
    "输出：0.25000\n",
    "解释：从起点到终点有两条路径，其中一条的成功概率为 0.2 ，而另一条为 0.5 * 0.5 = 0.25\n",
    "\n",
    "输入：n = 3, edges = [[0,1],[1,2],[0,2]], succProb = [0.5,0.5,0.3], start = 0, end = 2\n",
    "输出：0.30000\n",
    "\n",
    "输入：n = 3, edges = [[0,1]], succProb = [0.5], start = 0, end = 2\n",
    "输出：0.00000\n",
    "解释：节点 0 和 节点 2 之间不存在路径\n",
    "\n",
    "提示：\n",
    "    2 <= n <= 10^4\n",
    "    0 <= start, end < n\n",
    "    start != end\n",
    "    0 <= a, b < n\n",
    "    a != b\n",
    "    0 <= succProb.length == edges.length <= 2*10^4\n",
    "    0 <= succProb[i] <= 1\n",
    "    每两个节点之间最多有一条边"
   ]
  },
  {
   "cell_type": "code",
   "execution_count": 58,
   "metadata": {},
   "outputs": [],
   "source": [
    "from collections import defaultdict\n",
    "import heapq\n",
    "\n",
    "class Solution:\n",
    "    def maxProbability(self, n: int, edges, succProb, start: int, end: int) -> float:\n",
    "        res = -float('inf')\n",
    "        graph = defaultdict(dict)\n",
    "        for i, (a, b) in enumerate(edges):\n",
    "            graph[a][b] = succProb[i]\n",
    "            graph[b][a] = succProb[i]\n",
    "            \n",
    "        q = [(-1, start)]\n",
    "        item = defaultdict(float)\n",
    "        while q:\n",
    "            p, n = q.pop()\n",
    "            item[n] = p\n",
    "            for k, v in graph[n].items():\n",
    "                if k != i and v * p < item[k]:\n",
    "                    q.append((v * p, k))\n",
    "        graph[start] = item\n",
    "        return graph[start][end]"
   ]
  },
  {
   "cell_type": "code",
   "execution_count": 59,
   "metadata": {},
   "outputs": [
    {
     "data": {
      "text/plain": [
       "0.0"
      ]
     },
     "execution_count": 59,
     "metadata": {},
     "output_type": "execute_result"
    }
   ],
   "source": [
    "solution = Solution()\n",
    "solution.maxProbability(n = 3, edges = [[0,1]], succProb = [0.5], start = 0, end = 2)"
   ]
  },
  {
   "cell_type": "code",
   "execution_count": null,
   "metadata": {},
   "outputs": [],
   "source": []
  },
  {
   "cell_type": "code",
   "execution_count": null,
   "metadata": {},
   "outputs": [],
   "source": []
  },
  {
   "cell_type": "code",
   "execution_count": 61,
   "metadata": {},
   "outputs": [],
   "source": [
    "from collections import defaultdict\n",
    "import heapq\n",
    "\n",
    "class Solution:\n",
    "    def maxProbability(self, n: int, edges, succProb, start: int, end: int) -> float:\n",
    "        graph = defaultdict(list)\n",
    "        for i, (a, b) in enumerate(edges):\n",
    "            graph[a].append((b, succProb[i]))\n",
    "            graph[b].append((a, succProb[i]))\n",
    "        \n",
    "        q = [(-1, start)]\n",
    "        dist = defaultdict(float)\n",
    "        dist[start] = -1\n",
    "        while q:\n",
    "            curdist, cur = heapq.heappop(q)\n",
    "            if cur == end:\n",
    "                return -curdist\n",
    "            for node, prob in graph[cur]:\n",
    "                temp = curdist * prob\n",
    "                if temp < dist[node]:\n",
    "                    dist[node] = temp\n",
    "                    heapq.heappush(q, (temp, node))\n",
    "        return 0"
   ]
  },
  {
   "cell_type": "code",
   "execution_count": 62,
   "metadata": {},
   "outputs": [
    {
     "data": {
      "text/plain": [
       "0"
      ]
     },
     "execution_count": 62,
     "metadata": {},
     "output_type": "execute_result"
    }
   ],
   "source": [
    "solution = Solution()\n",
    "solution.maxProbability(10, [[0,3],[1,7],[1,2],[0,9]], [0.31,0.9,0.86,0.36], 2, 3)"
   ]
  },
  {
   "cell_type": "code",
   "execution_count": 14,
   "metadata": {},
   "outputs": [
    {
     "name": "stdout",
     "output_type": "stream",
     "text": [
      "{1: 2}\n"
     ]
    }
   ],
   "source": [
    "a = {1:2}\n",
    "b = {3:4}\n",
    "print(a or b)"
   ]
  },
  {
   "cell_type": "code",
   "execution_count": null,
   "metadata": {},
   "outputs": [],
   "source": []
  },
  {
   "cell_type": "code",
   "execution_count": null,
   "metadata": {},
   "outputs": [],
   "source": []
  },
  {
   "cell_type": "code",
   "execution_count": null,
   "metadata": {},
   "outputs": [],
   "source": []
  }
 ],
 "metadata": {
  "kernelspec": {
   "display_name": "Python 3",
   "language": "python",
   "name": "python3"
  },
  "language_info": {
   "codemirror_mode": {
    "name": "ipython",
    "version": 3
   },
   "file_extension": ".py",
   "mimetype": "text/x-python",
   "name": "python",
   "nbconvert_exporter": "python",
   "pygments_lexer": "ipython3",
   "version": "3.6.2"
  }
 },
 "nbformat": 4,
 "nbformat_minor": 4
}
