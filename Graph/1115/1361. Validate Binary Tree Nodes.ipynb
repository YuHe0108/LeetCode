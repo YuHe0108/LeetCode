{
 "cells": [
  {
   "cell_type": "raw",
   "metadata": {},
   "source": [
    "    二叉树上有 n 个节点，按从 0 到 n - 1 编号，其中节点 i 的两个子节点分别是 leftChild[i] 和 rightChild[i]。\n",
    "\n",
    "    只有 所有 节点能够形成且 只 形成 一颗 有效的二叉树时，返回 true；否则返回 false。\n",
    "\n",
    "    如果节点 i 没有左子节点，那么 leftChild[i] 就等于 -1。右子节点也符合该规则。\n",
    "\n",
    "    注意：节点没有值，本问题中仅仅使用节点编号。"
   ]
  },
  {
   "cell_type": "markdown",
   "metadata": {},
   "source": [
    "<img src='https://assets.leetcode-cn.com/aliyun-lc-upload/uploads/2020/02/23/1503_ex1.png'>"
   ]
  },
  {
   "cell_type": "raw",
   "metadata": {},
   "source": [
    "输入：n = 4, leftChild = [1,-1,3,-1], rightChild = [2,-1,-1,-1]\n",
    "输出：true"
   ]
  },
  {
   "cell_type": "markdown",
   "metadata": {},
   "source": [
    "<img src='https://assets.leetcode-cn.com/aliyun-lc-upload/uploads/2020/02/23/1503_ex2.png'>\n",
    "<img src='https://assets.leetcode-cn.com/aliyun-lc-upload/uploads/2020/02/23/1503_ex3.png'>\n",
    "<img src='https://assets.leetcode-cn.com/aliyun-lc-upload/uploads/2020/02/23/1503_ex4.png'>"
   ]
  },
  {
   "cell_type": "raw",
   "metadata": {},
   "source": [
    "输入：n = 4, leftChild = [1,-1,3,-1], rightChild = [2,3,-1,-1]\n",
    "输出：false\n",
    "\n",
    "输入：n = 2, leftChild = [1,0], rightChild = [-1,-1]\n",
    "输出：false\n",
    "\n",
    "输入：n = 6, leftChild = [1,-1,-1,4,-1,-1], rightChild = [2,-1,-1,5,-1,-1]\n",
    "输出：false\n",
    "\n",
    "提示：\n",
    "    1 <= n <= 10^4\n",
    "    leftChild.length == rightChild.length == n\n",
    "    -1 <= leftChild[i], rightChild[i] <= n - 1"
   ]
  },
  {
   "cell_type": "code",
   "execution_count": 47,
   "metadata": {},
   "outputs": [],
   "source": [
    "from collections import defaultdict\n",
    "\n",
    "class Solution:\n",
    "    def validateBinaryTreeNodes(self, n: int, leftChild, rightChild) -> bool:\n",
    "        graph = defaultdict(dict)\n",
    "        child = set()\n",
    "        for i in range(n):\n",
    "            l, r = leftChild[i], rightChild[i]\n",
    "            graph[i] = [l, r]\n",
    "            if l != -1:\n",
    "                child.add(l)\n",
    "            if r != -1:\n",
    "                child.add(r)\n",
    "        # 从 0 开始遍历，最后所有见过的值应该要等于 n，并且不能有重复出现的情况\n",
    "        nodes = [x for x in range(n)]\n",
    "        roots = set(nodes) ^ child\n",
    "        if len(roots) != 1:\n",
    "            return False\n",
    "        q = [list(roots)[0]]\n",
    "        seen = set()\n",
    "        while q:\n",
    "            q_len = len(q)\n",
    "            for _ in range(q_len):\n",
    "                x = q.pop()\n",
    "                if n in seen:\n",
    "                    return False\n",
    "                seen.add(x)\n",
    "                for k in graph[x]:\n",
    "                    if k in seen:\n",
    "                        return False\n",
    "                    if k == -1:\n",
    "                        continue\n",
    "                    q.append(k)\n",
    "            if len(seen) == n:\n",
    "                return True\n",
    "        return False"
   ]
  },
  {
   "cell_type": "code",
   "execution_count": 55,
   "metadata": {},
   "outputs": [],
   "source": [
    "class Solution:\n",
    "    def validateBinaryTreeNodes(self, n: int, leftChild, rightChild) -> bool:\n",
    "        def dfs(cur):\n",
    "            if cur == -1: \n",
    "                return 0\n",
    "            return 1 + dfs(leftChild[cur]) + dfs(rightChild[cur]) # 只要不是叶子节点，当前的节点树 +1\n",
    "        \n",
    "        root = set(range(n))\n",
    "        for children in zip(leftChild, rightChild):\n",
    "            for child in children:\n",
    "                if child >= 0:\n",
    "                    if child not in root:\n",
    "                        return False\n",
    "                    root.remove(child)\n",
    "        if len(root) != 1: \n",
    "            return False\n",
    "        return dfs(root.pop()) == n"
   ]
  },
  {
   "cell_type": "code",
   "execution_count": 56,
   "metadata": {},
   "outputs": [
    {
     "name": "stdout",
     "output_type": "stream",
     "text": [
      "{0, 3}\n"
     ]
    },
    {
     "data": {
      "text/plain": [
       "False"
      ]
     },
     "execution_count": 56,
     "metadata": {},
     "output_type": "execute_result"
    }
   ],
   "source": [
    "solution = Solution()\n",
    "solution.validateBinaryTreeNodes(n = 6, leftChild = [1,-1,-1,4,-1,-1], rightChild = [2,-1,-1,5,-1,-1])"
   ]
  },
  {
   "cell_type": "code",
   "execution_count": 59,
   "metadata": {},
   "outputs": [
    {
     "data": {
      "text/plain": [
       "1"
      ]
     },
     "execution_count": 59,
     "metadata": {},
     "output_type": "execute_result"
    }
   ],
   "source": []
  },
  {
   "cell_type": "code",
   "execution_count": null,
   "metadata": {},
   "outputs": [],
   "source": []
  }
 ],
 "metadata": {
  "kernelspec": {
   "display_name": "Python 3",
   "language": "python",
   "name": "python3"
  },
  "language_info": {
   "codemirror_mode": {
    "name": "ipython",
    "version": 3
   },
   "file_extension": ".py",
   "mimetype": "text/x-python",
   "name": "python",
   "nbconvert_exporter": "python",
   "pygments_lexer": "ipython3",
   "version": "3.6.2"
  }
 },
 "nbformat": 4,
 "nbformat_minor": 4
}
