{
 "cells": [
  {
   "cell_type": "raw",
   "metadata": {},
   "source": [
    "    在一个有向图中，节点分别标记为 0, 1, ..., n-1。这个图中的每条边不是红色就是蓝色，且存在自环或平行边。\n",
    "\n",
    "    red_edges 中的每一个 [i, j] 对表示从节点 i 到节点 j 的红色有向边。\n",
    "    类似地，blue_edges 中的每一个 [i, j] 对表示从节点 i 到节点 j 的蓝色有向边。\n",
    "\n",
    "    返回长度为 n 的数组 answer，其中 answer[X] 是从节点 0 到节点 X 的红色边和蓝色边交替出现的最短路径的长度。\n",
    "    如果不存在这样的路径，那么 answer[x] = -1。\n",
    "\n",
    "示例 1：\n",
    "    输入：n = 3, red_edges = [[0,1],[1,2]], blue_edges = []\n",
    "    输出：[0,1,-1]\n",
    "\n",
    "示例 2：\n",
    "    输入：n = 3, red_edges = [[0,1]], blue_edges = [[2,1]]\n",
    "    输出：[0,1,-1]\n",
    "\n",
    "示例 3：\n",
    "    输入：n = 3, red_edges = [[1,0]], blue_edges = [[2,1]]\n",
    "    输出：[0,-1,-1]\n",
    "\n",
    "示例 4：\n",
    "    输入：n = 3, red_edges = [[0,1]], blue_edges = [[1,2]]\n",
    "    输出：[0,1,2]\n",
    "\n",
    "示例 5：\n",
    "    输入：n = 3, red_edges = [[0,1],[0,2]], blue_edges = [[1,0]]\n",
    "    输出：[0,1,1]\n",
    "\n",
    "提示：\n",
    "    1 <= n <= 100\n",
    "    red_edges.length <= 400\n",
    "    blue_edges.length <= 400\n",
    "    red_edges[i].length == blue_edges[i].length == 2\n",
    "    0 <= red_edges[i][j], blue_edges[i][j] < n"
   ]
  },
  {
   "cell_type": "code",
   "execution_count": 58,
   "metadata": {},
   "outputs": [],
   "source": [
    "from collections import defaultdict\n",
    "\n",
    "class Solution:\n",
    "    def shortestAlternatingPaths(self, n: int, red_edges, blue_edges):\n",
    "        graph = defaultdict(dict)\n",
    "        for a, b in red_edges:\n",
    "            graph[a][b] = 'r'\n",
    "        for a, b in blue_edges:\n",
    "            graph[a][b] = 'b'\n",
    "        ans = [0] * n\n",
    "        for i in range(1, n):\n",
    "            count, can_break = 0, False\n",
    "            for j in range(1, n):\n",
    "                if j in graph[0]:\n",
    "                    color = graph[0][j] # 当前边的颜色\n",
    "                    seen = set()\n",
    "                    q = [j]\n",
    "                    while q:\n",
    "                        m = q.pop()\n",
    "                        if m not in seen:\n",
    "                            count += 1\n",
    "                            seen.add(n)\n",
    "                        if m == i:\n",
    "                            can_break = True\n",
    "                            break\n",
    "                        if m in graph:\n",
    "                            for k, c in graph[m].items():\n",
    "                                if c != color:\n",
    "                                    q.append(k)\n",
    "                if can_break:\n",
    "                    break\n",
    "            ans[i] = count\n",
    "        print(graph)\n",
    "        return ans"
   ]
  },
  {
   "cell_type": "code",
   "execution_count": 78,
   "metadata": {},
   "outputs": [],
   "source": [
    "from collections import defaultdict, deque\n",
    "\n",
    "class Solution:\n",
    "    def shortestAlternatingPaths(self, n: int, red_edges, blue_edges):\n",
    "        r_graph = defaultdict(list)\n",
    "        b_graph = defaultdict(list)\n",
    "        for a, b in red_edges:\n",
    "            r_graph[a].append(b)\n",
    "        for a, b in blue_edges:\n",
    "            b_graph[a].append(b)\n",
    "        g = [r_graph, b_graph]\n",
    "        \n",
    "        res = [float('inf')] * n\n",
    "        q = deque()\n",
    "        q.append((0, 0, 0)) # 红色\n",
    "        q.append((0, 1, 0)) # 蓝色\n",
    "        vis = {(0, 0), (0, 1)}\n",
    "        while q:\n",
    "            node, color, level = q.popleft()\n",
    "            res[node] = min(res[node], level)\n",
    "            \n",
    "            nc = not color\n",
    "            for nd in g[nc][node]:\n",
    "                if (nd, nc) not in vis:\n",
    "                    q.append((nd, nc, level + 1))\n",
    "                    vis.add((nd, nc))\n",
    "        print(vis)\n",
    "        return [-1 if i == float('inf') else i for i in res]"
   ]
  },
  {
   "cell_type": "code",
   "execution_count": 79,
   "metadata": {},
   "outputs": [
    {
     "name": "stdout",
     "output_type": "stream",
     "text": [
      "{(0, 1), (2, False), (1, False), (0, 0)}\n"
     ]
    },
    {
     "data": {
      "text/plain": [
       "[0, 1, 1]"
      ]
     },
     "execution_count": 79,
     "metadata": {},
     "output_type": "execute_result"
    }
   ],
   "source": [
    "solution = Solution()\n",
    "solution.shortestAlternatingPaths(n = 3, red_edges = [[0,1],[0,2]], blue_edges = [[1,0]])"
   ]
  },
  {
   "cell_type": "code",
   "execution_count": null,
   "metadata": {},
   "outputs": [],
   "source": []
  }
 ],
 "metadata": {
  "kernelspec": {
   "display_name": "Python 3",
   "language": "python",
   "name": "python3"
  },
  "language_info": {
   "codemirror_mode": {
    "name": "ipython",
    "version": 3
   },
   "file_extension": ".py",
   "mimetype": "text/x-python",
   "name": "python",
   "nbconvert_exporter": "python",
   "pygments_lexer": "ipython3",
   "version": "3.6.2"
  }
 },
 "nbformat": 4,
 "nbformat_minor": 4
}
