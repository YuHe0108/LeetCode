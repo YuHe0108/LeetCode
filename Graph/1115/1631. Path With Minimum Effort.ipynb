{
 "cells": [
  {
   "cell_type": "raw",
   "metadata": {},
   "source": [
    "    你准备参加一场远足活动。给你一个二维 rows x columns 的地图 heights ，其中 heights[row][col] 表示格子 (row, col) 的高度。\n",
    "    一开始你在最左上角的格子 (0, 0) ，且你希望去最右下角的格子 (rows-1, columns-1) （注意下标从 0 开始编号）。\n",
    "    你每次可以往 上，下，左，右 四个方向之一移动，你想要找到耗费 体力 最小的一条路径。\n",
    "\n",
    "    一条路径耗费的 体力值 是路径上相邻格子之间 高度差绝对值 的 最大值 决定的。\n",
    "    \n",
    "    请你返回从左上角走到右下角的最小 体力消耗值 。"
   ]
  },
  {
   "cell_type": "markdown",
   "metadata": {},
   "source": [
    "<img src='https://assets.leetcode-cn.com/aliyun-lc-upload/uploads/2020/10/25/ex1.png'>"
   ]
  },
  {
   "cell_type": "raw",
   "metadata": {},
   "source": [
    "输入：heights = [[1,2,2],[3,8,2],[5,3,5]]\n",
    "输出：2\n",
    "解释：\n",
    "    路径 [1,3,5,3,5] 连续格子的差值绝对值最大为 2 。\n",
    "    这条路径比路径 [1,2,2,2,5] 更优，因为另一条路径差值最大值为 3 。"
   ]
  },
  {
   "cell_type": "markdown",
   "metadata": {},
   "source": [
    "<img src='https://assets.leetcode-cn.com/aliyun-lc-upload/uploads/2020/10/25/ex2.png'>"
   ]
  },
  {
   "cell_type": "raw",
   "metadata": {},
   "source": [
    "输入：heights = [[1,2,3],[3,8,4],[5,3,5]]\n",
    "输出：1\n",
    "解释：\n",
    "    路径 [1,2,3,4,5] 的相邻格子差值绝对值最大为 1 ，比路径 [1,3,5,3,5] 更优。\n",
    "\n",
    "提示：\n",
    "    rows == heights.length\n",
    "    columns == heights[i].length\n",
    "    1 <= rows, columns <= 100\n",
    "    1 <= heights[i][j] <= 10^6"
   ]
  },
  {
   "cell_type": "code",
   "execution_count": 11,
   "metadata": {},
   "outputs": [],
   "source": [
    "from collections import deque\n",
    "\n",
    "class Solution:\n",
    "    def minimumEffortPath(self, heights) -> int:\n",
    "        def bfs(h):\n",
    "            visited = [[0] * cols for _ in range(rows)]\n",
    "            q = deque()\n",
    "            q.append((0, 0))\n",
    "            while q:\n",
    "                q_len = len(q)\n",
    "                for _ in range(q_len):\n",
    "                    x, y = q.popleft()\n",
    "                    if visited[x][y] == 1:\n",
    "                        continue\n",
    "                    visited[x][y] = 1\n",
    "                    for nx, ny in (x+1, y), (x-1, y), (x, y+1), (x, y-1): # 四个方向\n",
    "                        if nx < 0 or ny < 0 or nx >= rows or ny >= cols:\n",
    "                            continue\n",
    "                        if visited[nx][ny] == 1:\n",
    "                            continue\n",
    "                        if abs(heights[nx][ny] - heights[x][y]) > h:\n",
    "                            continue\n",
    "                        q.append((nx, ny))\n",
    "            return visited[-1][-1] == 1 # 最后一个点已经访问过了，说明可以到最后一个点\n",
    "            \n",
    "        rows, cols = len(heights), len(heights[0])\n",
    "        left, right = 0, pow(10, 6)\n",
    "        while left < right:\n",
    "            mid = left + (right - left) // 2\n",
    "            if bfs(mid):\n",
    "                right = mid\n",
    "            else:\n",
    "                left = mid + 1\n",
    "        return left"
   ]
  },
  {
   "cell_type": "code",
   "execution_count": 13,
   "metadata": {},
   "outputs": [],
   "source": [
    "from collections import deque\n",
    "\n",
    "class Solution:\n",
    "    def minimumEffortPath(self, heights) -> int:\n",
    "        def bfs(h):\n",
    "            visited = [[0] * cols for _ in range(rows)]\n",
    "            visited[0][0] = 1\n",
    "            q = [(0, 0)]\n",
    "            while q:\n",
    "                x, y = q.pop()\n",
    "                for nx, ny in (x+1, y), (x-1, y), (x, y+1), (x, y-1): # 四个方向\n",
    "                    if nx < 0 or ny < 0 or nx >= rows or ny >= cols:\n",
    "                        continue\n",
    "                    if visited[nx][ny] == 1:\n",
    "                        continue\n",
    "                    if abs(heights[nx][ny] - heights[x][y]) > h:\n",
    "                        continue\n",
    "                    q.append((nx, ny))\n",
    "                    visited[nx][ny] = 1\n",
    "            return visited[-1][-1] == 1 # 最后一个点已经访问过了，说明可以到最后一个点\n",
    "            \n",
    "        rows, cols = len(heights), len(heights[0])\n",
    "        left, right = 0, pow(10, 6)\n",
    "        while left < right:\n",
    "            mid = left + (right - left) // 2\n",
    "            if bfs(mid):\n",
    "                right = mid\n",
    "            else:\n",
    "                left = mid + 1\n",
    "        return left"
   ]
  },
  {
   "cell_type": "code",
   "execution_count": 37,
   "metadata": {},
   "outputs": [],
   "source": [
    "from collections import deque\n",
    "\n",
    "class Solution:\n",
    "    def minimumEffortPath(self, heights) -> int:\n",
    "        def find(x):\n",
    "            if father[x] != x:\n",
    "                father[x] = find(father[x])\n",
    "            return father[x]\n",
    "        \n",
    "        def merge(x, y):\n",
    "            x = find(x)\n",
    "            y = find(y)\n",
    "            if x > y:\n",
    "                father[y] = x\n",
    "            else:\n",
    "                father[x] = y\n",
    "        \n",
    "        rows, cols = len(heights), len(heights[0])\n",
    "        father = [i for i in range(rows * cols)]\n",
    "        edges = []\n",
    "        for i in range(rows):\n",
    "            for j in range(cols):\n",
    "                if i != rows - 1:\n",
    "                    edges.append([abs(heights[i][j] - heights[i+1][j]), i*cols+j, (i+1)*cols+j])\n",
    "                if j != cols - 1:\n",
    "                    edges.append([abs(heights[i][j] - heights[i][j+1]), i*cols+j, i*cols+j+1])\n",
    "        edges.sort()\n",
    "        for h, a, b in edges:\n",
    "            if find(a) != find(b):\n",
    "                merge(a, b)\n",
    "            if find(0) == find((rows-1)*cols + cols-1):\n",
    "                return h\n",
    "        return 0"
   ]
  },
  {
   "cell_type": "code",
   "execution_count": 38,
   "metadata": {},
   "outputs": [
    {
     "data": {
      "text/plain": [
       "5"
      ]
     },
     "execution_count": 38,
     "metadata": {},
     "output_type": "execute_result"
    }
   ],
   "source": [
    "solution = Solution()\n",
    "solution.minimumEffortPath([[4,3,4,10,5,5,9,2],[10,8,2,10,9,7,5,6],[5,8,10,10,10,7,4,2],[5,1,3,1,1,3,1,9],[6,4,10,6,10,9,4,6]])"
   ]
  },
  {
   "cell_type": "code",
   "execution_count": null,
   "metadata": {},
   "outputs": [],
   "source": []
  }
 ],
 "metadata": {
  "kernelspec": {
   "display_name": "Python 3",
   "language": "python",
   "name": "python3"
  },
  "language_info": {
   "codemirror_mode": {
    "name": "ipython",
    "version": 3
   },
   "file_extension": ".py",
   "mimetype": "text/x-python",
   "name": "python",
   "nbconvert_exporter": "python",
   "pygments_lexer": "ipython3",
   "version": "3.6.2"
  }
 },
 "nbformat": 4,
 "nbformat_minor": 4
}
