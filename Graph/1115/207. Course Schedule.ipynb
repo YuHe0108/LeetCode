{
 "cells": [
  {
   "cell_type": "raw",
   "metadata": {},
   "source": [
    "    你这个学期必须选修 numCourse 门课程，记为 0 到 numCourse-1 。\n",
    "\n",
    "    在选修某些课程之前需要一些先修课程。 \n",
    "    例如，想要学习课程 0 ，你需要先完成课程 1 ，我们用一个匹配来表示他们：[0,1]\n",
    "\n",
    "    给定课程总量以及它们的先决条件，请你判断是否可能完成所有课程的学习？\n",
    "\n",
    "示例 1:\n",
    "    输入: 2, [[1,0]] \n",
    "    输出: true\n",
    "    解释: 总共有 2 门课程。学习课程 1 之前，你需要完成课程 0。所以这是可能的。\n",
    "\n",
    "示例 2:\n",
    "    输入: 2, [[1,0],[0,1]]\n",
    "    输出: false\n",
    "    解释: 总共有 2 门课程。学习课程 1 之前，你需要先完成​课程 0；并且学习课程 0 之前，你还应先完成课程 1。这是不可能的。\n",
    "\n",
    "提示：\n",
    "    输入的先决条件是由 边缘列表 表示的图形，而不是 邻接矩阵 。详情请参见图的表示法。\n",
    "    你可以假定输入的先决条件中没有重复的边。\n",
    "    1 <= numCourses <= 10^5"
   ]
  },
  {
   "cell_type": "code",
   "execution_count": 108,
   "metadata": {},
   "outputs": [],
   "source": [
    "from collections import defaultdict, deque\n",
    "\n",
    "class Solution:\n",
    "    def canFinish(self, numCourses: int, prerequisites):\n",
    "        graph = defaultdict(list)\n",
    "        for a, b in prerequisites:\n",
    "            graph[a].append(b)\n",
    "        \n",
    "        # 从任意一门课开始，只要能够完成的课 >= prerequisites\n",
    "        total = set() \n",
    "        for i in range(numCourses):\n",
    "            seen = set() # 从这门课开始\n",
    "            q = deque()\n",
    "            q.append(i)\n",
    "            while q:\n",
    "                q_len = len(q)\n",
    "                for _ in range(q_len):\n",
    "                    n = q.pop()\n",
    "                    if n not in seen: \n",
    "                        seen.add(n) # 学习了 n 这门课\n",
    "                        print(n, seen)\n",
    "                        for j in graph[n]: # 学习 n 这门课之前，应该学习哪些课程\n",
    "                            if j in seen: # 不能构成闭环\n",
    "                                return False\n",
    "                            if len(seen) >= numCourses:\n",
    "                                return True\n",
    "                            q.append(j)\n",
    "            total |= seen\n",
    "            if len(total) >= numCourses:\n",
    "                return True\n",
    "        return True if len(total) >= numCourses else False"
   ]
  },
  {
   "cell_type": "code",
   "execution_count": 116,
   "metadata": {},
   "outputs": [],
   "source": [
    "from collections import defaultdict, deque\n",
    "\n",
    "class Solution:\n",
    "    def canFinish(self, numCourses: int, prerequisites):\n",
    "        indeg = [0] * numCourses # 统计学习一门课之前，需要学习课程的数量\n",
    "        edges = defaultdict(list)\n",
    "        for x, y in prerequisites:\n",
    "            edges[y].append(x)\n",
    "            indeg[x] += 1\n",
    "        \n",
    "        result = 0\n",
    "        # 首先学习哪些不需要前导课程的课\n",
    "        q = deque([u for u in range(numCourses) if indeg[u] == 0])\n",
    "        while q:\n",
    "            u = q.popleft()\n",
    "            result += 1 # 学习了一门课\n",
    "            for i in edges[u]: # 只有学习了课程 u 才能进行学习的其他课程\n",
    "                indeg[i] -= 1\n",
    "                if indeg[i] == 0:\n",
    "                    q.append(i)\n",
    "        return result == numCourses"
   ]
  },
  {
   "cell_type": "code",
   "execution_count": 126,
   "metadata": {},
   "outputs": [],
   "source": [
    "from collections import defaultdict, deque\n",
    "\n",
    "class Solution:\n",
    "    def canFinish(self, numCourses: int, prerequisites):\n",
    "        # visited == 0: 没有探索 1： 正在探索 2：探索过了\n",
    "        def dfs(u):\n",
    "            nonlocal result, invalid\n",
    "            visited[u] = 1\n",
    "            for v in graph[u]:\n",
    "                if visited[v] == 0:\n",
    "                    if invalid:\n",
    "                        return \n",
    "                    dfs(v)\n",
    "                elif visited[v] == 1: # 形成了环\n",
    "                    invalid = True\n",
    "                    return\n",
    "            visited[u] = 2\n",
    "            result += 1\n",
    "        \n",
    "        graph = defaultdict(list)\n",
    "        for a, b in prerequisites:\n",
    "            graph[b].append(a) # 需要先学习 b 的课程有 a\n",
    "        visited = [0] * numCourses\n",
    "        result = 0\n",
    "        invalid = False\n",
    "        \n",
    "        for i in range(numCourses):\n",
    "            if invalid is False and visited[i] == 0:\n",
    "                dfs(i)\n",
    "        return result == numCourses"
   ]
  },
  {
   "cell_type": "code",
   "execution_count": 127,
   "metadata": {},
   "outputs": [
    {
     "data": {
      "text/plain": [
       "True"
      ]
     },
     "execution_count": 127,
     "metadata": {},
     "output_type": "execute_result"
    }
   ],
   "source": [
    "solution = Solution()\n",
    "solution.canFinish(3, [[0,1],[0,2],[1,2]])"
   ]
  },
  {
   "cell_type": "code",
   "execution_count": null,
   "metadata": {},
   "outputs": [],
   "source": []
  },
  {
   "cell_type": "code",
   "execution_count": null,
   "metadata": {},
   "outputs": [],
   "source": []
  }
 ],
 "metadata": {
  "kernelspec": {
   "display_name": "Python 3",
   "language": "python",
   "name": "python3"
  },
  "language_info": {
   "codemirror_mode": {
    "name": "ipython",
    "version": 3
   },
   "file_extension": ".py",
   "mimetype": "text/x-python",
   "name": "python",
   "nbconvert_exporter": "python",
   "pygments_lexer": "ipython3",
   "version": "3.6.2"
  }
 },
 "nbformat": 4,
 "nbformat_minor": 4
}
