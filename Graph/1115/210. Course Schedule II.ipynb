{
 "cells": [
  {
   "cell_type": "raw",
   "metadata": {},
   "source": [
    "    现在你总共有 n 门课需要选，记为 0 到 n-1。\n",
    "\n",
    "    在选修某些课程之前需要一些先修课程。 例如，想要学习课程 0 ，你需要先完成课程 1 ，我们用一个匹配来表示他们: [0,1]\n",
    "\n",
    "    给定课程总量以及它们的先决条件，返回你为了学完所有课程所安排的学习顺序。\n",
    "\n",
    "    可能会有多个正确的顺序，你只要返回一种就可以了。如果不可能完成所有课程，返回一个空数组。\n",
    "\n",
    "示例 1:\n",
    "    输入: 2, [[1,0]] \n",
    "    输出: [0,1]\n",
    "    解释: 总共有 2 门课程。要学习课程 1，你需要先完成课程 0。因此，正确的课程顺序为 [0,1] 。\n",
    "\n",
    "示例 2:\n",
    "    输入: 4, [[1,0],[2,0],[3,1],[3,2]]\n",
    "    输出: [0,1,2,3] or [0,2,1,3]\n",
    "    解释: 总共有 4 门课程。要学习课程 3，你应该先完成课程 1 和课程 2。并且课程 1 和课程 2 都应该排在课程 0 之后。\n",
    "         因此，一个正确的课程顺序是 [0,1,2,3] 。另一个正确的排序是 [0,2,1,3] 。\n",
    "\n",
    "说明:\n",
    "    输入的先决条件是由边缘列表表示的图形，而不是邻接矩阵。详情请参见图的表示法。\n",
    "    你可以假定输入的先决条件中没有重复的边。\n",
    "提示:\n",
    "    这个问题相当于查找一个循环是否存在于有向图中。如果存在循环，则不存在拓扑排序，因此不可能选取所有课程进行学习。\n",
    "    通过 DFS 进行拓扑排序 - 一个关于Coursera的精彩视频教程（21分钟），介绍拓扑排序的基本概念。\n",
    "    拓扑排序也可以通过 BFS 完成。\n",
    "\n",
    "Constraints:\n",
    "    1 <= numCourses <= 2000\n",
    "    0 <= prerequisites.length <= numCourses * (numCourses - 1)\n",
    "    prerequisites[i].length == 2\n",
    "    0 <= ai, bi < numCourses\n",
    "    ai != bi\n",
    "    All the pairs [ai, bi] are distinct."
   ]
  },
  {
   "cell_type": "code",
   "execution_count": 3,
   "metadata": {},
   "outputs": [],
   "source": [
    "from collections import defaultdict\n",
    "\n",
    "class Solution:\n",
    "    def findOrder(self, numCourses: int, prerequisites):\n",
    "        graph = defaultdict(list)\n",
    "        indeg = [0] * numCourses\n",
    "        for a, b in prerequisites:\n",
    "            graph[b].append(a)\n",
    "            indeg[a] += 1\n",
    "        \n",
    "        q = [i for i, x in enumerate(indeg) if x == 0]\n",
    "        res = []\n",
    "        while q:\n",
    "            n = q.pop()\n",
    "            res.append(n)\n",
    "            for j in graph[n]:\n",
    "                indeg[j] -= 1\n",
    "                if indeg[j] == 0:\n",
    "                    q.append(j)\n",
    "        return res if len(res) == numCourses else []"
   ]
  },
  {
   "cell_type": "code",
   "execution_count": 4,
   "metadata": {},
   "outputs": [
    {
     "data": {
      "text/plain": [
       "[0, 2, 1, 3]"
      ]
     },
     "execution_count": 4,
     "metadata": {},
     "output_type": "execute_result"
    }
   ],
   "source": [
    "solution = Solution()\n",
    "solution.findOrder(4, [[1,0],[2,0],[3,1],[3,2]])"
   ]
  },
  {
   "cell_type": "code",
   "execution_count": null,
   "metadata": {},
   "outputs": [],
   "source": []
  }
 ],
 "metadata": {
  "kernelspec": {
   "display_name": "Python 3",
   "language": "python",
   "name": "python3"
  },
  "language_info": {
   "codemirror_mode": {
    "name": "ipython",
    "version": 3
   },
   "file_extension": ".py",
   "mimetype": "text/x-python",
   "name": "python",
   "nbconvert_exporter": "python",
   "pygments_lexer": "ipython3",
   "version": "3.6.2"
  }
 },
 "nbformat": 4,
 "nbformat_minor": 4
}
