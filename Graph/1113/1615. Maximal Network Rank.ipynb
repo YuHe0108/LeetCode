{
 "cells": [
  {
   "cell_type": "raw",
   "metadata": {},
   "source": [
    "n 座城市和一些连接这些城市的道路 roads 共同组成一个基础设施网络。\n",
    "每个 roads[i] = [ai, bi] 都表示在城市 ai 和 bi 之间有一条双向道路。\n",
    "\n",
    "两座不同城市构成的 城市对 的 网络秩 定义为：与这两座城市 直接 相连的道路总数。如果存在一条道路直接连接这两座城市，则这条道路只计算 一次 。\n",
    "\n",
    "整个基础设施网络的 最大网络秩 是所有不同城市对中的 最大网络秩 。\n",
    "\n",
    "给你整数 n 和数组 roads，返回整个基础设施网络的 最大网络秩 。\n"
   ]
  },
  {
   "cell_type": "code",
   "execution_count": null,
   "metadata": {},
   "outputs": [],
   "source": []
  },
  {
   "cell_type": "markdown",
   "metadata": {},
   "source": [
    "<img src='https://assets.leetcode-cn.com/aliyun-lc-upload/uploads/2020/10/11/ex1.png'>"
   ]
  },
  {
   "cell_type": "raw",
   "metadata": {},
   "source": [
    "输入：n = 4, roads = [[0,1],[0,3],[1,2],[1,3]]\n",
    "输出：4\n",
    "解释：城市 0 和 1 的网络秩是 4，因为共有 4 条道路与城市 0 或 1 相连。位于 0 和 1 之间的道路只计算一次。"
   ]
  },
  {
   "cell_type": "markdown",
   "metadata": {},
   "source": [
    "<img src='https://assets.leetcode-cn.com/aliyun-lc-upload/uploads/2020/10/11/ex2.png'>"
   ]
  },
  {
   "cell_type": "raw",
   "metadata": {},
   "source": [
    "输入：n = 5, roads = [[0,1],[0,3],[1,2],[1,3],[2,3],[2,4]]\n",
    "输出：5\n",
    "解释：共有 5 条道路与城市 1 或 2 相连。"
   ]
  },
  {
   "cell_type": "raw",
   "metadata": {},
   "source": [
    "示例 3：\n",
    "    输入：n = 8, roads = [[0,1],[1,2],[2,3],[2,4],[5,6],[5,7]]\n",
    "    输出：5\n",
    "    解释：2 和 5 的网络秩为 5，注意并非所有的城市都需要连接起来。"
   ]
  },
  {
   "cell_type": "raw",
   "metadata": {},
   "source": [
    "提示：\n",
    "    2 <= n <= 100\n",
    "    0 <= roads.length <= n * (n - 1) / 2\n",
    "    roads[i].length == 2\n",
    "    0 <= ai, bi <= n-1\n",
    "    ai != bi\n",
    "    每对城市之间 最多只有一条 道路相连"
   ]
  },
  {
   "cell_type": "code",
   "execution_count": 22,
   "metadata": {},
   "outputs": [],
   "source": [
    "from collections import defaultdict\n",
    "\n",
    "class Solution:\n",
    "    def maximalNetworkRank(self, n: int, roads) -> int:\n",
    "        def bfs(start):\n",
    "            if start in seen:\n",
    "                return seen[start]\n",
    "            \n",
    "            count = 0\n",
    "            nodes = [start]\n",
    "            visited = {start}\n",
    "            while nodes:\n",
    "                n_len = len(nodes)\n",
    "                for i in range(n_len):\n",
    "                    node = nodes.pop()\n",
    "                    for neb in graph[node]:\n",
    "                        if neb in seen:\n",
    "                            return seen[neb] + count\n",
    "                        if neb not in visited:\n",
    "                            visited.add(neb)\n",
    "                            nodes.append(neb)\n",
    "                    count += 1\n",
    "            return count\n",
    "        \n",
    "        graph = defaultdict(list)\n",
    "        for s, e in roads:\n",
    "            graph[s].append(e)\n",
    "            graph[e].append(s)\n",
    "        print(graph)\n",
    "        \n",
    "        seen = {} # 记录各个节点最大的秩是多少\n",
    "        for i in range(n):\n",
    "            seen[i] = bfs(i)\n",
    "        print(seen)\n",
    "        return"
   ]
  },
  {
   "cell_type": "code",
   "execution_count": 50,
   "metadata": {},
   "outputs": [],
   "source": [
    "from collections import defaultdict\n",
    "\n",
    "class Solution:\n",
    "    def maximalNetworkRank(self, n: int, roads) -> int:\n",
    "        graph = defaultdict(list)\n",
    "        for s, e in roads:\n",
    "            graph[s].append(e)\n",
    "            graph[e].append(s)\n",
    "        print(graph)\n",
    "        \n",
    "        seen = {} # 记录各个节点最大的秩是多少\n",
    "        for i in range(n):\n",
    "            max_neb = 0\n",
    "            for neb in graph[i]:\n",
    "                if neb != i:\n",
    "                    max_neb = max(max_neb, len(graph[neb]) - 1)\n",
    "            seen[i] = max_neb + len(graph[i])\n",
    "        print(seen)\n",
    "        return max(seen.values())"
   ]
  },
  {
   "cell_type": "code",
   "execution_count": 55,
   "metadata": {},
   "outputs": [],
   "source": [
    "from collections import defaultdict, Counter\n",
    "\n",
    "class Solution:\n",
    "    def maximalNetworkRank(self, n: int, roads) -> int:\n",
    "        d, c, res = Counter(), Counter(), 0\n",
    "        for i in roads:\n",
    "            d[i[0]] += 1\n",
    "            d[i[1]] += 1\n",
    "            c[(i[0], i[1])] = True\n",
    "        \n",
    "        for i in range(0, n):\n",
    "            for j in range(i+1, n):\n",
    "                if c[(i,j)] or c[(j,i)]: \n",
    "                    curr = d[i] + d[j] - 1\n",
    "                else: \n",
    "                    curr = d[i] + d[j]\n",
    "                res = max(res, curr)              \n",
    "        return res"
   ]
  },
  {
   "cell_type": "code",
   "execution_count": 56,
   "metadata": {},
   "outputs": [
    {
     "data": {
      "text/plain": [
       "5"
      ]
     },
     "execution_count": 56,
     "metadata": {},
     "output_type": "execute_result"
    }
   ],
   "source": [
    "solution = Solution()\n",
    "solution.maximalNetworkRank(n = 8, roads = [[0,1],[1,2],[2,3],[2,4],[5,6],[5,7]])"
   ]
  },
  {
   "cell_type": "code",
   "execution_count": null,
   "metadata": {},
   "outputs": [],
   "source": [
    "def maximalNetworkRank(self, n: int, roads: List[List[int]]) -> int:    \n",
    "\td, c, res = Counter(), Counter(), 0\n",
    "    for i in roads:\n",
    "        d[i[0]] += 1\n",
    "        d[i[1]] += 1\n",
    "        c[(i[0], i[1])] = True\n",
    "    \n",
    "    for i in range(0, n):\n",
    "        for j in range(i+1, n):\n",
    "            if c[(i,j)] or c[(j,i)]: curr = d[i] + d[j] - 1\n",
    "            else: curr = d[i] + d[j]\n",
    "            res = max(res, curr)              \n",
    "    return res"
   ]
  },
  {
   "cell_type": "code",
   "execution_count": null,
   "metadata": {},
   "outputs": [],
   "source": []
  }
 ],
 "metadata": {
  "kernelspec": {
   "display_name": "Python 3",
   "language": "python",
   "name": "python3"
  },
  "language_info": {
   "codemirror_mode": {
    "name": "ipython",
    "version": 3
   },
   "file_extension": ".py",
   "mimetype": "text/x-python",
   "name": "python",
   "nbconvert_exporter": "python",
   "pygments_lexer": "ipython3",
   "version": "3.6.2"
  }
 },
 "nbformat": 4,
 "nbformat_minor": 4
}
