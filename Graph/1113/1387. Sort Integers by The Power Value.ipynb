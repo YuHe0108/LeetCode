{
 "cells": [
  {
   "cell_type": "raw",
   "metadata": {},
   "source": [
    "说明：\n",
    "    我们将整数 x 的 权重 定义为按照下述规则将 x 变成 1 所需要的步数：\n",
    "        如果 x 是偶数，那么 x = x / 2\n",
    "        如果 x 是奇数，那么 x = 3 * x + 1\n",
    "    比方说，x=3 的权重为 7 。\n",
    "    因为 3 需要 7 步变成 1 （3 --> 10 --> 5 --> 16 --> 8 --> 4 --> 2 --> 1）。\n",
    "\n",
    "    给你三个整数 lo， hi 和 k 。\n",
    "    你的任务是将区间 [lo, hi] 之间的整数按照它们的权重 升序排序 ，如果大于等于 2 个整数有 相同 的权重，那么按照数字自身的数值 升序排序 。\n",
    "\n",
    "    请你返回区间 [lo, hi] 之间的整数按权重排序后的第 k 个数。\n",
    "\n",
    "    注意，题目保证对于任意整数 x （lo <= x <= hi） ，它变成 1 所需要的步数是一个 32 位有符号整数。\n",
    "\n",
    "示例 1：\n",
    "    输入：lo = 12, hi = 15, k = 2\n",
    "    输出：13\n",
    "    解释：12 的权重为 9（12 --> 6 --> 3 --> 10 --> 5 --> 16 --> 8 --> 4 --> 2 --> 1）\n",
    "            13 的权重为 9\n",
    "            14 的权重为 17\n",
    "            15 的权重为 17\n",
    "        区间内的数按权重排序以后的结果为 [12,13,14,15] 。对于 k = 2 ，答案是第二个整数也就是 13 。\n",
    "        注意，12 和 13 有相同的权重，所以我们按照它们本身升序排序。14 和 15 同理。\n",
    "\n",
    "示例 2：\n",
    "    输入：lo = 1, hi = 1, k = 1\n",
    "    输出：1\n",
    "\n",
    "示例 3：\n",
    "    输入：lo = 7, hi = 11, k = 4\n",
    "    输出：7\n",
    "    解释：区间内整数 [7, 8, 9, 10, 11] 对应的权重为 [16, 3, 19, 6, 14] 。\n",
    "    按权重排序后得到的结果为 [8, 10, 11, 7, 9] 。\n",
    "    排序后数组中第 4 个数字为 7 。\n",
    "\n",
    "示例 4：\n",
    "    输入：lo = 10, hi = 20, k = 5\n",
    "    输出：13\n",
    "\n",
    "示例 5：\n",
    "    输入：lo = 1, hi = 1000, k = 777\n",
    "    输出：570\n",
    "\n",
    "提示：\n",
    "    1 <= lo <= hi <= 1000\n",
    "    1 <= k <= hi - lo + 1"
   ]
  },
  {
   "cell_type": "code",
   "execution_count": 26,
   "metadata": {},
   "outputs": [],
   "source": [
    "from functools import lru_cache\n",
    "\n",
    "class Solution:\n",
    "    def getKth(self, lo: int, hi: int, k: int) -> int:\n",
    "        @lru_cache(None)\n",
    "        def helper(num):\n",
    "            count = 0\n",
    "            while num != 1:\n",
    "                if num % 2 == 1:\n",
    "                    num = 3 * num + 1\n",
    "                else:\n",
    "                    num //= 2\n",
    "                count += 1\n",
    "            return count\n",
    "                \n",
    "        \n",
    "        nums = [x for x in range(lo, hi+1)]\n",
    "        ans = {}\n",
    "        for n in nums:\n",
    "            v = helper(n)\n",
    "            ans[n] = v\n",
    "        ans = sorted(ans.items(), key=lambda x:(x[1], x[1]))\n",
    "        return ans[k-1][0]"
   ]
  },
  {
   "cell_type": "code",
   "execution_count": 27,
   "metadata": {},
   "outputs": [
    {
     "data": {
      "text/plain": [
       "570"
      ]
     },
     "execution_count": 27,
     "metadata": {},
     "output_type": "execute_result"
    }
   ],
   "source": [
    "solution = Solution()\n",
    "solution.getKth(lo = 1, hi = 1000, k = 777)"
   ]
  },
  {
   "cell_type": "code",
   "execution_count": null,
   "metadata": {},
   "outputs": [],
   "source": [
    "class Solution:\n",
    "    def getKth(self, lo: int, hi: int, k: int) -> int:\n",
    "        def getPower(cur):\n",
    "            if cur in results: \n",
    "                return results[cur]\n",
    "            if cur & 1: \n",
    "                nxt = 3 * cur + 1\n",
    "            else: \n",
    "                nxt = cur // 2\n",
    "            results[cur] = 1 + getPower(nxt)\n",
    "            return results[cur]\n",
    "        \n",
    "        ans = []\n",
    "        results = {1: 0}\n",
    "        for val in range(lo, hi + 1):\n",
    "            ans.append([getPower(val), val])\n",
    "        ans.sort(key=lambda x: (x[0], x[1]))\n",
    "        return ans[k-1][1]"
   ]
  },
  {
   "cell_type": "code",
   "execution_count": null,
   "metadata": {},
   "outputs": [],
   "source": [
    "class Solution:\n",
    "    def getKth(self, lo: int, hi: int, k: int) -> int:\n",
    "        def helper(num):\n",
    "            if num in seen:\n",
    "                return seen[num]\n",
    "            if num % 2 == 1:\n",
    "                n_num = num * 3 + 1\n",
    "            else:\n",
    "                n_num = num // 2\n",
    "            count = 1 # 到这里，表明已经处理了一步了\n",
    "            count += helper(n_num)\n",
    "            seen[num] = count\n",
    "            return count\n",
    "        \n",
    "        seen = {1:0}\n",
    "        nums = [x for x in range(lo, hi+1)]\n",
    "        ans = []\n",
    "        for n in nums:\n",
    "            ans.append([n, helper(n)])\n",
    "        \n",
    "        ans.sort(key=lambda x: (x[1], x[0]))\n",
    "        return ans[k-1][0]"
   ]
  }
 ],
 "metadata": {
  "kernelspec": {
   "display_name": "Python 3",
   "language": "python",
   "name": "python3"
  },
  "language_info": {
   "codemirror_mode": {
    "name": "ipython",
    "version": 3
   },
   "file_extension": ".py",
   "mimetype": "text/x-python",
   "name": "python",
   "nbconvert_exporter": "python",
   "pygments_lexer": "ipython3",
   "version": "3.6.2"
  }
 },
 "nbformat": 4,
 "nbformat_minor": 4
}
