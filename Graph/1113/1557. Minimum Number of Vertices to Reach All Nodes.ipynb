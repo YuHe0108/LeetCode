{
 "cells": [
  {
   "cell_type": "raw",
   "metadata": {},
   "source": [
    "说明：\n",
    "    给你一个 有向无环图 ， n 个节点编号为 0 到 n-1 ，以及一个边数组 edges ，\n",
    "    其中 edges[i] = [from_i, to_i] 表示一条从点  from-i 到点 to-i 的有向边。\n",
    "    找到最小的点集使得从这些点出发能到达图中所有点。\n",
    "    题目保证解存在且唯一。\n",
    "    你可以以任意顺序返回这些节点编号。"
   ]
  },
  {
   "cell_type": "markdown",
   "metadata": {},
   "source": [
    "<img src='https://assets.leetcode-cn.com/aliyun-lc-upload/uploads/2020/08/22/5480e1.png'>"
   ]
  },
  {
   "cell_type": "raw",
   "metadata": {},
   "source": [
    "输入：n = 6, edges = [[0,1],[0,2],[2,5],[3,4],[4,2]]\n",
    "输出：[0,3]\n",
    "解释：\n",
    "     从单个节点出发无法到达所有节点。\n",
    "     从 0 出发我们可以到达 [0,1,2,5] 。\n",
    "     从 3 出发我们可以到达 [3,4,2,5] 。\n",
    "     所以我们输出 [0,3] 。"
   ]
  },
  {
   "cell_type": "markdown",
   "metadata": {},
   "source": [
    "<img src='https://assets.leetcode-cn.com/aliyun-lc-upload/uploads/2020/08/22/5480e2.png'>"
   ]
  },
  {
   "cell_type": "raw",
   "metadata": {},
   "source": [
    "输入：n = 5, edges = [[0,1],[2,1],[3,1],[1,4],[2,4]]\n",
    "输出：[0,2,3]\n",
    "解释：注意到节点 0，3 和 2 无法从其他节点到达，\n",
    "     所以我们必须将它们包含在结果点集中，这些点都能到达节点 1 和 4 。"
   ]
  },
  {
   "cell_type": "raw",
   "metadata": {},
   "source": [
    "提示：\n",
    "    2 <= n <= 10^5\n",
    "    1 <= edges.length <= min(10^5, n * (n - 1) / 2)\n",
    "    edges[i].length == 2\n",
    "    0 <= fromi, toi < n\n",
    "    所有点对 (fromi, toi) 互不相同。"
   ]
  },
  {
   "cell_type": "code",
   "execution_count": 14,
   "metadata": {},
   "outputs": [],
   "source": [
    "from collections import defaultdict\n",
    "\n",
    "class Solution:\n",
    "    def findSmallestSetOfVertices(self, n: int, edges):\n",
    "        graph = defaultdict(list)\n",
    "        nodes = set()\n",
    "        for s, e in edges:\n",
    "            graph[s].append(e)\n",
    "            nodes.add(e)\n",
    "        res = []\n",
    "        for i in range(n):\n",
    "            if i not in nodes:\n",
    "                res.append(i)\n",
    "        return res"
   ]
  },
  {
   "cell_type": "code",
   "execution_count": 15,
   "metadata": {},
   "outputs": [
    {
     "data": {
      "text/plain": [
       "[0, 3]"
      ]
     },
     "execution_count": 15,
     "metadata": {},
     "output_type": "execute_result"
    }
   ],
   "source": [
    "solution = Solution()\n",
    "solution.findSmallestSetOfVertices(n = 6, edges = [[0,1],[0,2],[2,5],[3,4],[4,2]])"
   ]
  },
  {
   "cell_type": "code",
   "execution_count": null,
   "metadata": {},
   "outputs": [],
   "source": []
  }
 ],
 "metadata": {
  "kernelspec": {
   "display_name": "Python 3",
   "language": "python",
   "name": "python3"
  },
  "language_info": {
   "codemirror_mode": {
    "name": "ipython",
    "version": 3
   },
   "file_extension": ".py",
   "mimetype": "text/x-python",
   "name": "python",
   "nbconvert_exporter": "python",
   "pygments_lexer": "ipython3",
   "version": "3.6.2"
  }
 },
 "nbformat": 4,
 "nbformat_minor": 4
}
