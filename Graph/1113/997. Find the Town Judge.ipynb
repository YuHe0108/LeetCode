{
 "cells": [
  {
   "cell_type": "raw",
   "metadata": {},
   "source": [
    "说明：\n",
    "    在一个小镇里，按从 1 到 N 标记了 N 个人。传言称，这些人中有一个是小镇上的秘密法官。\n",
    "    如果小镇的法官真的存在，那么：\n",
    "        1、小镇的法官不相信任何人。\n",
    "        2、每个人（除了小镇法官外）都信任小镇的法官。\n",
    "        3、只有一个人同时满足属性 1 和属性 2 。\n",
    "    给定数组 trust，该数组由信任对 trust[i] = [a, b] 组成，表示标记为 a 的人信任标记为 b 的人。\n",
    "    如果小镇存在秘密法官并且可以确定他的身份，请返回该法官的标记。\n",
    "    否则，返回 -1。\n",
    "\n",
    "示例 1：\n",
    "    输入：N = 2, trust = [[1,2]]\n",
    "    输出：2\n",
    "\n",
    "示例 2：\n",
    "    输入：N = 3, trust = [[1,3],[2,3]]\n",
    "    输出：3\n",
    "\n",
    "示例 3：\n",
    "    输入：N = 3, trust = [[1,3],[2,3],[3,1]]\n",
    "    输出：-1\n",
    "\n",
    "示例 4：\n",
    "    输入：N = 3, trust = [[1,2],[2,3]]\n",
    "    输出：-1\n",
    "\n",
    "示例 5：\n",
    "    输入：N = 4, trust = [[1,3],[1,4],[2,3],[2,4],[4,3]]\n",
    "    输出：3\n",
    "\n",
    "提示：\n",
    "    1 <= N <= 1000\n",
    "    trust.length <= 10000\n",
    "    trust[i] 是完全不同的\n",
    "    trust[i][0] != trust[i][1]\n",
    "    1 <= trust[i][0], trust[i][1] <= N"
   ]
  },
  {
   "cell_type": "code",
   "execution_count": 45,
   "metadata": {},
   "outputs": [],
   "source": [
    "from collections import defaultdict\n",
    "\n",
    "class Solution:\n",
    "    def findJudge(self, N: int, trust) -> int:\n",
    "        graph_a = defaultdict(list)\n",
    "        graph_b = defaultdict(list)\n",
    "        for a, b in trust:\n",
    "            graph_a[a].append(b)\n",
    "            graph_b[b].append(a)\n",
    "        \n",
    "        ans = set()\n",
    "        for i in range(1, N+1):\n",
    "            if i not in graph_a:\n",
    "                ans.add(i)\n",
    "            if i not in graph_b:\n",
    "                ans.add(i)\n",
    "        if len(ans) == 1:\n",
    "            return list(ans)[0]\n",
    "        return -1"
   ]
  },
  {
   "cell_type": "code",
   "execution_count": 50,
   "metadata": {},
   "outputs": [],
   "source": [
    "from collections import defaultdict\n",
    "\n",
    "class Solution:\n",
    "    def findJudge(self, N: int, trust) -> int:\n",
    "        graph = defaultdict(list)\n",
    "        for a, b in trust:\n",
    "            graph[a].append(b)\n",
    "        \n",
    "        ans = []\n",
    "        for i in range(1, N+1):\n",
    "            if i not in graph:\n",
    "                ans.append(i)\n",
    "        return ans"
   ]
  },
  {
   "cell_type": "code",
   "execution_count": 63,
   "metadata": {},
   "outputs": [],
   "source": [
    "from collections import defaultdict\n",
    "\n",
    "class Solution:\n",
    "    def findJudge(self, N: int, trust) -> int:\n",
    "        graph_a = defaultdict(list)\n",
    "        graph_b = defaultdict(list)\n",
    "        for a, b in trust:\n",
    "            graph_a[a].append(b)\n",
    "            graph_b[b].append(a)\n",
    "        res = set(graph_a.keys()) & set(graph_b.keys())\n",
    "        print(res)\n",
    "        if len(res) > 1:\n",
    "            return -1\n",
    "        return list(res)[0]"
   ]
  },
  {
   "cell_type": "code",
   "execution_count": 95,
   "metadata": {},
   "outputs": [],
   "source": [
    "from collections import defaultdict\n",
    "\n",
    "class Solution:\n",
    "    def findJudge(self, N: int, trust) -> int:\n",
    "        graph = defaultdict(set)\n",
    "        for a, b in trust:\n",
    "            graph[a].add(b)\n",
    "            \n",
    "        values = list(graph.values())\n",
    "        print(values)\n",
    "        res = values[0]\n",
    "        for i in range(1, len(values)):\n",
    "            res &= values[i]\n",
    "        if len(res) == 1:\n",
    "            return list(res)[0]\n",
    "        return -1"
   ]
  },
  {
   "cell_type": "code",
   "execution_count": 96,
   "metadata": {},
   "outputs": [
    {
     "name": "stdout",
     "output_type": "stream",
     "text": [
      "[{3, 4}, {3}]\n"
     ]
    },
    {
     "data": {
      "text/plain": [
       "3"
      ]
     },
     "execution_count": 96,
     "metadata": {},
     "output_type": "execute_result"
    }
   ],
   "source": [
    "solution = Solution()\n",
    "solution.findJudge(4, [[1,3],[1,4],[2,3]])"
   ]
  },
  {
   "cell_type": "code",
   "execution_count": null,
   "metadata": {},
   "outputs": [],
   "source": [
    "from collections import defaultdict\n",
    "\n",
    "class Solution:\n",
    "    def findJudge(self, N: int, trust) -> int:\n",
    "        if not trust:\n",
    "            if N == 1:\n",
    "                return 1\n",
    "            return -1\n",
    "        graph = defaultdict(set)\n",
    "        for a, b in trust:\n",
    "            graph[a].add(b)\n",
    "        \n",
    "        # 只有法官不信任任何人，因此 key的数量为 n-1\n",
    "        keys = len(list(graph))\n",
    "        if keys != N-1:\n",
    "            return -1\n",
    "        \n",
    "        values = list(graph.values())\n",
    "        res = values[0]\n",
    "        for i in range(1, len(values)):\n",
    "            res &= values[i]\n",
    "        if len(res) == 1:\n",
    "            return list(res)[0]\n",
    "        return -1"
   ]
  }
 ],
 "metadata": {
  "kernelspec": {
   "display_name": "Python 3",
   "language": "python",
   "name": "python3"
  },
  "language_info": {
   "codemirror_mode": {
    "name": "ipython",
    "version": 3
   },
   "file_extension": ".py",
   "mimetype": "text/x-python",
   "name": "python",
   "nbconvert_exporter": "python",
   "pygments_lexer": "ipython3",
   "version": "3.6.2"
  }
 },
 "nbformat": 4,
 "nbformat_minor": 4
}
