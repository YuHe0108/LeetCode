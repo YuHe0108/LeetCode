{
 "cells": [
  {
   "cell_type": "raw",
   "metadata": {},
   "source": [
    "说明：\n",
    "    这里有一个非负整数数组 arr，你最开始位于该数组的起始下标 start 处。\n",
    "    当你位于下标 i 处时，你可以跳到 i + arr[i] 或者 i - arr[i]。\n",
    "    请你判断自己是否能够跳到对应元素值为 0 的 任一 下标处。\n",
    "    注意，不管是什么情况下，你都无法跳到数组之外。\n",
    "\n",
    "示例 1：\n",
    "    输入：arr = [4,2,3,0,3,1,2], start = 5\n",
    "    输出：true\n",
    "    解释：\n",
    "        到达值为 0 的下标 3 有以下可能方案： \n",
    "        下标 5 -> 下标 4 -> 下标 1 -> 下标 3 \n",
    "        下标 5 -> 下标 6 -> 下标 4 -> 下标 1 -> 下标 3 \n",
    "\n",
    "示例 2：\n",
    "    输入：arr = [4,2,3,0,3,1,2], start = 0\n",
    "    输出：true \n",
    "    解释：\n",
    "        到达值为 0 的下标 3 有以下可能方案： \n",
    "        下标 0 -> 下标 4 -> 下标 1 -> 下标 3\n",
    "\n",
    "示例 3：\n",
    "    输入：arr = [3,0,2,1,2], start = 2\n",
    "    输出：false\n",
    "    解释：无法到达值为 0 的下标 1 处。 \n",
    "\n",
    "提示：\n",
    "    1 <= arr.length <= 5 * 10^4\n",
    "    0 <= arr[i] < arr.length\n",
    "    0 <= start < arr.length"
   ]
  },
  {
   "cell_type": "code",
   "execution_count": 45,
   "metadata": {},
   "outputs": [],
   "source": [
    "from collections import defaultdict, deque\n",
    "\n",
    "class Solution:\n",
    "    def canReach(self, arr, start: int) -> bool:\n",
    "        graph = defaultdict(list)\n",
    "        target = set() # 0 元素的下标值\n",
    "        for i, n in enumerate(arr):\n",
    "            if i - n >= 0:\n",
    "                graph[i].append(i - n)\n",
    "            if i + n < len(arr):\n",
    "                graph[i].append(i + n)\n",
    "            if n == 0:\n",
    "                target.add(i)\n",
    "        \n",
    "        print(graph)\n",
    "        nodes = deque([start])\n",
    "        seen = {start}\n",
    "        while nodes:\n",
    "            n_len = len(nodes)\n",
    "            for i in range(n_len):\n",
    "                node = nodes.popleft()\n",
    "                neb = graph[node]\n",
    "                for n in neb:\n",
    "                    if n in target:\n",
    "                        return True\n",
    "                    if n not in seen:\n",
    "                        nodes.append(n)\n",
    "                        seen.add(n)\n",
    "        return False"
   ]
  },
  {
   "cell_type": "code",
   "execution_count": null,
   "metadata": {},
   "outputs": [],
   "source": [
    "class Solution:\n",
    "    def canReach(self, arr: List[int], start: int) -> bool:\n",
    "        def dfs(idx):\n",
    "            if arr[idx] == 0:\n",
    "                return True\n",
    "            seen[idx] = True\n",
    "            p1, p2 = False, False\n",
    "            \n",
    "            right = idx + arr[idx]\n",
    "            left = idx - arr[idx]\n",
    "            if right < len(arr) and seen[right] is False:\n",
    "                p1 = dfs(right)\n",
    "            if left >= 0 and seen[left] is False:\n",
    "                p2 = dfs(left)\n",
    "            return p1 or p2\n",
    "        \n",
    "        N = len(arr)\n",
    "        seen = [False] * N\n",
    "        return dfs(start)"
   ]
  },
  {
   "cell_type": "code",
   "execution_count": 46,
   "metadata": {},
   "outputs": [
    {
     "name": "stdout",
     "output_type": "stream",
     "text": [
      "defaultdict(<class 'list'>, {0: [4], 1: [3], 2: [5], 3: [3, 3], 4: [1], 5: [4, 6], 6: [4]})\n"
     ]
    },
    {
     "data": {
      "text/plain": [
       "True"
      ]
     },
     "execution_count": 46,
     "metadata": {},
     "output_type": "execute_result"
    }
   ],
   "source": [
    "solution = Solution()\n",
    "solution.canReach([4,2,3,0,3,1,2], 5)"
   ]
  },
  {
   "cell_type": "code",
   "execution_count": null,
   "metadata": {},
   "outputs": [],
   "source": [
    "class Solution:\n",
    "    def canReach(self, nums: List[int], start: int) -> bool:\n",
    "        visited=[False]*len(nums)\n",
    "        def dfs(i):\n",
    "            #print(i)\n",
    "            visited[i] = True\n",
    "            if nums[i] == 0:\n",
    "                return True\n",
    "            \n",
    "            p1 = p2 = False\n",
    "            if i+nums[i]<len(nums) and visited[i+nums[i]]==False:\n",
    "                p1=dfs(i+nums[i])\n",
    "            if i-nums[i]>=0 and visited[i-nums[i]]==False:\n",
    "                p2=dfs(i-nums[i])\n",
    "            return (p1 or p2)\n",
    "        return dfs(start)"
   ]
  },
  {
   "cell_type": "code",
   "execution_count": null,
   "metadata": {},
   "outputs": [],
   "source": []
  }
 ],
 "metadata": {
  "kernelspec": {
   "display_name": "Python 3",
   "language": "python",
   "name": "python3"
  },
  "language_info": {
   "codemirror_mode": {
    "name": "ipython",
    "version": 3
   },
   "file_extension": ".py",
   "mimetype": "text/x-python",
   "name": "python",
   "nbconvert_exporter": "python",
   "pygments_lexer": "ipython3",
   "version": "3.6.2"
  }
 },
 "nbformat": 4,
 "nbformat_minor": 4
}
