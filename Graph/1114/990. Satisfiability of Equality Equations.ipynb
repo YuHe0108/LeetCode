{
 "cells": [
  {
   "cell_type": "raw",
   "metadata": {},
   "source": [
    "    给定一个由表示变量之间关系的字符串方程组成的数组，每个字符串方程 equations[i] 的长度为 4，并采用两种不同的形式之一：\"a==b\" 或 \"a!=b\"。\n",
    "    在这里，a 和 b 是小写字母（不一定不同），表示单字母变量名。\n",
    "\n",
    "    只有当可以将整数分配给变量名，以便满足所有给定的方程时才返回 true，否则返回 false。 \n",
    "\n",
    "示例 1：\n",
    "    输入：[\"a==b\",\"b!=a\"]\n",
    "    输出：false\n",
    "    解释：如果我们指定，a = 1 且 b = 1，那么可以满足第一个方程，但无法满足第二个方程。没有办法分配变量同时满足这两个方程。\n",
    "\n",
    "示例 2：\n",
    "    输入：[\"b==a\",\"a==b\"]\n",
    "    输出：true\n",
    "    解释：我们可以指定 a = 1 且 b = 1 以满足满足这两个方程。\n",
    "\n",
    "示例 3：\n",
    "    输入：[\"a==b\",\"b==c\",\"a==c\"]\n",
    "    输出：true\n",
    "\n",
    "示例 4：\n",
    "    输入：[\"a==b\",\"b!=c\",\"c==a\"]\n",
    "    输出：false\n",
    "\n",
    "示例 5：\n",
    "    输入：[\"c==c\",\"b==d\",\"x!=z\"]\n",
    "    输出：true\n",
    "\n",
    "提示：\n",
    "    1 <= equations.length <= 500\n",
    "    equations[i].length == 4\n",
    "    equations[i][0] 和 equations[i][3] 是小写字母\n",
    "    equations[i][1] 要么是 '='，要么是 '!'\n",
    "    equations[i][2] 是 '='"
   ]
  },
  {
   "cell_type": "code",
   "execution_count": 1,
   "metadata": {},
   "outputs": [],
   "source": [
    "class Solution:\n",
    "    def equationsPossible(self, equations) -> bool:\n",
    "        def find(a):\n",
    "            # 寻找a的祖先\n",
    "            pass\n",
    "        \n",
    "        def merge(a, b):\n",
    "            # 将a的祖先和b的祖先串在一起\n",
    "            pass\n",
    "        pass"
   ]
  },
  {
   "cell_type": "code",
   "execution_count": 107,
   "metadata": {},
   "outputs": [],
   "source": [
    "from collections import defaultdict\n",
    "\n",
    "class Solution:\n",
    "    def equationsPossible(self, equations) -> bool:\n",
    "        graph = defaultdict(set)\n",
    "        for i in range(len(equations)):\n",
    "            if equations[i][1:3] == '==':\n",
    "                graph[equations[i][0]].add(equations[i][-1])\n",
    "                graph[equations[i][-1]].add(equations[i][0])\n",
    "        \n",
    "        for key, val in graph.items():\n",
    "            seen = set()\n",
    "            q = list(val)\n",
    "            while q:\n",
    "                n = q.pop()\n",
    "                if n not in seen:\n",
    "                    seen.add(n)\n",
    "                    q.extend(graph[n])\n",
    "                    graph[key] |= graph[n]\n",
    "        \n",
    "        for i in range(len(equations)):\n",
    "            item = equations[i]\n",
    "            l, r = item[0], item[-1]\n",
    "            if item[1:3] == '!=':\n",
    "                a = l == r\n",
    "                b = a or r in graph[l]\n",
    "                c = b or l in graph[r]\n",
    "                d = c or len((graph[l] & graph[r])) > 0\n",
    "                if d:\n",
    "                    return False\n",
    "        return True"
   ]
  },
  {
   "cell_type": "code",
   "execution_count": 119,
   "metadata": {},
   "outputs": [],
   "source": [
    "from collections import defaultdict\n",
    "\n",
    "class Solution:\n",
    "    def equationsPossible(self, equations) -> bool:\n",
    "        # 所有相等的归为一类\n",
    "        def find(x):\n",
    "            if father[x] != x:\n",
    "                father[x] = find(father[x])\n",
    "            return father[x]\n",
    "        \n",
    "        def merge(a, b):\n",
    "            a_f = find(a)\n",
    "            b_f = find(b)\n",
    "            if a < b:\n",
    "                father[b_f] = a_f\n",
    "            else:\n",
    "                father[a_f] = b_f\n",
    "            \n",
    "        \n",
    "        father = [x for x in range(26)] # 每个元素都是自己的祖先\n",
    "        \n",
    "        for eq in equations:\n",
    "            if eq[1] == '=':\n",
    "                l = ord(eq[0]) - ord('a')\n",
    "                r = ord(eq[-1]) - ord('a')\n",
    "                if find(l) != find(r):\n",
    "                    merge(l, r)\n",
    "                    \n",
    "        for eq in equations:\n",
    "            if eq[1] == '!':\n",
    "                l = ord(eq[0]) - ord('a')\n",
    "                r = ord(eq[-1]) - ord('a')\n",
    "                if find(l) == find(r):\n",
    "                    return False\n",
    "        return True"
   ]
  },
  {
   "cell_type": "code",
   "execution_count": 120,
   "metadata": {},
   "outputs": [
    {
     "data": {
      "text/plain": [
       "False"
      ]
     },
     "execution_count": 120,
     "metadata": {},
     "output_type": "execute_result"
    }
   ],
   "source": [
    "solution = Solution()\n",
    "solution.equationsPossible([\"a==b\",\"e==c\",\"b==c\",\"a!=e\"])"
   ]
  },
  {
   "cell_type": "code",
   "execution_count": null,
   "metadata": {},
   "outputs": [],
   "source": []
  }
 ],
 "metadata": {
  "kernelspec": {
   "display_name": "Python 3",
   "language": "python",
   "name": "python3"
  },
  "language_info": {
   "codemirror_mode": {
    "name": "ipython",
    "version": 3
   },
   "file_extension": ".py",
   "mimetype": "text/x-python",
   "name": "python",
   "nbconvert_exporter": "python",
   "pygments_lexer": "ipython3",
   "version": "3.6.2"
  }
 },
 "nbformat": 4,
 "nbformat_minor": 4
}
