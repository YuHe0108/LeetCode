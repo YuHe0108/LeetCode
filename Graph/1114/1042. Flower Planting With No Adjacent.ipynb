{
 "cells": [
  {
   "cell_type": "raw",
   "metadata": {},
   "source": [
    "    有 n 个花园，按从 1 到 n 标记。\n",
    "    另有数组 paths ，其中 paths[i] = [xi, yi] 描述了花园 xi 到花园 yi 的双向路径。在每个花园中，你打算种下四种花之一。\n",
    "\n",
    "    另外，所有花园 最多 有 3 条路径可以进入或离开.\n",
    "\n",
    "    你需要为每个花园选择一种花，使得通过路径相连的任何两个花园中的花的种类互不相同。\n",
    "\n",
    "    以数组形式返回 任一 可行的方案作为答案 answer，其中 answer[i] 为在第 (i+1) 个花园中种植的花的种类。\n",
    "    花的种类用  1、2、3、4 表示。\n",
    "    保证存在答案。\n",
    "\n",
    "示例 1：\n",
    "    输入：n = 3, paths = [[1,2],[2,3],[3,1]]\n",
    "    输出：[1,2,3]\n",
    "    解释：\n",
    "        花园 1 和 2 花的种类不同。\n",
    "        花园 2 和 3 花的种类不同。\n",
    "        花园 3 和 1 花的种类不同。\n",
    "        因此，[1,2,3] 是一个满足题意的答案。其他满足题意的答案有 [1,2,4]、[1,4,2] 和 [3,2,1]\n",
    "\n",
    "示例 2：\n",
    "    输入：n = 4, paths = [[1,2],[3,4]]\n",
    "    输出：[1,2,1,2]\n",
    "\n",
    "示例 3：\n",
    "    输入：n = 4, paths = [[1,2],[2,3],[3,4],[4,1],[1,3],[2,4]]\n",
    "    输出：[1,2,3,4]\n",
    "\n",
    "提示：\n",
    "    1 <= n <= 10^4\n",
    "    0 <= paths.length <= 2 * 10^4\n",
    "    paths[i].length == 2\n",
    "    1 <= xi, yi <= n\n",
    "    xi != yi\n",
    "    每个花园 最多 有 3 条路径可以进入或离开"
   ]
  },
  {
   "cell_type": "code",
   "execution_count": 12,
   "metadata": {},
   "outputs": [],
   "source": [
    "from collections import defaultdict\n",
    "\n",
    "class Solution:\n",
    "    def gardenNoAdj(self, n: int, paths):\n",
    "        graph = defaultdict(set)\n",
    "        for a, b in paths:\n",
    "            graph[a].add(b)\n",
    "            graph[b].add(a)\n",
    "        \n",
    "        res = [0] * (n+1)\n",
    "        for i in range(1, n+1):\n",
    "            path_colors = set() # 存储了与 i 相连的路径可以种哪些花\n",
    "            for j in graph[i]: # 与 i 相连的路径\n",
    "                path_colors.add(res[j])\n",
    "                \n",
    "            for color in range(1, 5):\n",
    "                if color not in path_colors: # 如果想要种的花不在 其他路径种，那么就是可以种的\n",
    "                    res[i] = color\n",
    "                    break\n",
    "        return res[1:]"
   ]
  },
  {
   "cell_type": "code",
   "execution_count": 13,
   "metadata": {},
   "outputs": [
    {
     "data": {
      "text/plain": [
       "[1, 2, 3, 4]"
      ]
     },
     "execution_count": 13,
     "metadata": {},
     "output_type": "execute_result"
    }
   ],
   "source": [
    "solution = Solution()\n",
    "solution.gardenNoAdj(n = 4, paths = [[1,2],[2,3],[3,4],[4,1],[1,3],[2,4]])"
   ]
  },
  {
   "cell_type": "code",
   "execution_count": null,
   "metadata": {},
   "outputs": [],
   "source": []
  }
 ],
 "metadata": {
  "kernelspec": {
   "display_name": "Python 3",
   "language": "python",
   "name": "python3"
  },
  "language_info": {
   "codemirror_mode": {
    "name": "ipython",
    "version": 3
   },
   "file_extension": ".py",
   "mimetype": "text/x-python",
   "name": "python",
   "nbconvert_exporter": "python",
   "pygments_lexer": "ipython3",
   "version": "3.6.2"
  }
 },
 "nbformat": 4,
 "nbformat_minor": 4
}
