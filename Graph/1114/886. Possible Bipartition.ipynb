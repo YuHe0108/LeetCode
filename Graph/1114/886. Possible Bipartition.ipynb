{
 "cells": [
  {
   "cell_type": "raw",
   "metadata": {},
   "source": [
    "说明：\n",
    "    给定一组 N 人（编号为 1, 2, ..., N）， 我们想把每个人分进任意大小的两组。\n",
    "    每个人都可能不喜欢其他人，那么他们不应该属于同一组。\n",
    "    形式上，如果 dislikes[i] = [a, b]，表示不允许将编号为 a 和 b 的人归入同一组。\n",
    "    当可以用这种方法将所有人分进两组时，返回 true；\n",
    "    否则返回 false。\n",
    "\n",
    "示例 1：\n",
    "    输入：N = 4, dislikes = [[1,2],[1,3],[2,4]]\n",
    "    输出：true\n",
    "    解释：group1 [1,4], group2 [2,3]\n",
    "\n",
    "示例 2：\n",
    "    输入：N = 3, dislikes = [[1,2],[1,3],[2,3]]\n",
    "    输出：false\n",
    "\n",
    "示例 3：\n",
    "    输入：N = 5, dislikes = [[1,2],[2,3],[3,4],[4,5],[1,5]]\n",
    "    输出：false\n",
    "\n",
    "提示：\n",
    "    1 <= N <= 2000\n",
    "    0 <= dislikes.length <= 10000\n",
    "    dislikes[i].length == 2\n",
    "    1 <= dislikes[i][j] <= N\n",
    "    dislikes[i][0] < dislikes[i][1]\n",
    "    对于 dislikes[i] == dislikes[j] 不存在 i != j"
   ]
  },
  {
   "cell_type": "code",
   "execution_count": 24,
   "metadata": {},
   "outputs": [],
   "source": [
    "from collections import defaultdict\n",
    "\n",
    "class Solution:\n",
    "    def possibleBipartition(self, N: int, dislikes) -> bool:\n",
    "        graph = defaultdict(set)\n",
    "        for a, b in dislikes:\n",
    "            graph[a].add(b)\n",
    "            graph[b].add(a)\n",
    "        \n",
    "        color = [0] * (1 + N)\n",
    "        for i in range(1, N+1):\n",
    "            if color[i] == 0:\n",
    "                q = [i]\n",
    "                color[i] = 1\n",
    "                while q:\n",
    "                    cur = q.pop()\n",
    "                    cur_c = color[cur]\n",
    "                    for node in graph[cur]:\n",
    "                        if color[node] == 0:\n",
    "                            color[node] = cur_c * -1\n",
    "                            q.append(node)\n",
    "                        elif color[node] == cur_c:\n",
    "                            return False\n",
    "        return True"
   ]
  },
  {
   "cell_type": "code",
   "execution_count": 25,
   "metadata": {},
   "outputs": [
    {
     "data": {
      "text/plain": [
       "False"
      ]
     },
     "execution_count": 25,
     "metadata": {},
     "output_type": "execute_result"
    }
   ],
   "source": [
    "solution = Solution()\n",
    "solution.possibleBipartition(N = 4, dislikes = [[1,2],[1,3],[2,4]])"
   ]
  },
  {
   "cell_type": "code",
   "execution_count": 9,
   "metadata": {},
   "outputs": [],
   "source": [
    "a = {3, 4}\n",
    "b = {1, 3, 4, 5}"
   ]
  },
  {
   "cell_type": "code",
   "execution_count": 12,
   "metadata": {},
   "outputs": [
    {
     "data": {
      "text/plain": [
       "{1, 5}"
      ]
     },
     "execution_count": 12,
     "metadata": {},
     "output_type": "execute_result"
    }
   ],
   "source": [
    "a ^ b"
   ]
  },
  {
   "cell_type": "code",
   "execution_count": 26,
   "metadata": {},
   "outputs": [],
   "source": [
    "a = not False"
   ]
  },
  {
   "cell_type": "code",
   "execution_count": 27,
   "metadata": {},
   "outputs": [
    {
     "data": {
      "text/plain": [
       "True"
      ]
     },
     "execution_count": 27,
     "metadata": {},
     "output_type": "execute_result"
    }
   ],
   "source": [
    "a"
   ]
  },
  {
   "cell_type": "code",
   "execution_count": null,
   "metadata": {},
   "outputs": [],
   "source": [
    "class Solution:\n",
    "    def possibleBipartition(self, N: int, dislikes) -> bool:\n",
    "        a = [[] for i in range(N+1)]\n",
    "        for x, y in dislikes:\n",
    "            a[x].append(y)\n",
    "            a[y].append(x)\n",
    "            \n",
    "        colors = [-1 for i in range(N+1)]\n",
    "        \n",
    "        def dfs(x):\n",
    "            for y in a[x]:\n",
    "                if colors[y] == -1:\n",
    "                    colors[y] = 1 - colors[x]\n",
    "                    if not dfs(y):\n",
    "                        return False\n",
    "                else:\n",
    "                    if colors[y] == colors[x]:\n",
    "                        return False\n",
    "            return True \n",
    "        \n",
    "        for i in range(1, N+1):\n",
    "            if colors[i] == -1:\n",
    "                colors[i] = 0\n",
    "                if dfs(i) is False:\n",
    "                    return False\n",
    "        \n",
    "        return True"
   ]
  }
 ],
 "metadata": {
  "kernelspec": {
   "display_name": "Python 3",
   "language": "python",
   "name": "python3"
  },
  "language_info": {
   "codemirror_mode": {
    "name": "ipython",
    "version": 3
   },
   "file_extension": ".py",
   "mimetype": "text/x-python",
   "name": "python",
   "nbconvert_exporter": "python",
   "pygments_lexer": "ipython3",
   "version": "3.6.2"
  }
 },
 "nbformat": 4,
 "nbformat_minor": 4
}
