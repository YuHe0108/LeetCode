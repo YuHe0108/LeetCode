{
 "cells": [
  {
   "cell_type": "raw",
   "metadata": {},
   "source": [
    "    有 n 个城市，按从 0 到 n-1 编号。\n",
    "    给你一个边数组 edges，其中 edges[i] = [from-i, to-i, weight-i] 代表 fromi 和 toi 两个城市之间的双向加权边，\n",
    "    距离阈值是一个整数 distanceThreshold。\n",
    "\n",
    "    返回能通过某些路径到达其他城市  数目最少、且路径距离 最大 为 distanceThreshold 的城市。\n",
    "    如果有多个这样的城市，则返回编号最大的城市。\n",
    "\n",
    "    注意，连接城市 i 和 j 的路径的距离等于沿该路径的所有边的权重之和。\n",
    "\n",
    "提示：\n",
    "    2 <= n <= 100\n",
    "    1 <= edges.length <= n * (n - 1) / 2\n",
    "    edges[i].length == 3\n",
    "    0 <= fromi < toi < n\n",
    "    1 <= weighti, distanceThreshold <= 10^4\n",
    "    所有 (fromi, toi) 都是不同的。"
   ]
  },
  {
   "cell_type": "markdown",
   "metadata": {},
   "source": [
    "<img src='https://assets.leetcode-cn.com/aliyun-lc-upload/uploads/2020/01/26/find_the_city_01.png' width=500>"
   ]
  },
  {
   "cell_type": "raw",
   "metadata": {},
   "source": [
    "输入：n = 4, edges = [[0,1,3],[1,2,1],[1,3,4],[2,3,1]], distanceThreshold = 4\n",
    "输出：3\n",
    "解释：城市分布图如上。\n",
    "    每个城市阈值距离 distanceThreshold = 4 内的邻居城市分别是：\n",
    "    城市 0 -> [城市 1, 城市 2] \n",
    "    城市 1 -> [城市 0, 城市 2, 城市 3] \n",
    "    城市 2 -> [城市 0, 城市 1, 城市 3] \n",
    "    城市 3 -> [城市 1, 城市 2] \n",
    "    城市 0 和 3 在阈值距离 4 以内都有 2 个邻居城市，但是我们必须返回城市 3，因为它的编号最大。"
   ]
  },
  {
   "cell_type": "markdown",
   "metadata": {},
   "source": [
    "<img src='https://assets.leetcode-cn.com/aliyun-lc-upload/uploads/2020/01/26/find_the_city_02.png' width=500>"
   ]
  },
  {
   "cell_type": "raw",
   "metadata": {},
   "source": [
    "输入：n = 5, edges = [[0,1,2],[0,4,8],[1,2,3],[1,4,2],[2,3,1],[3,4,1]], distanceThreshold = 2\n",
    "输出：0\n",
    "解释：城市分布图如上。 \n",
    "    每个城市阈值距离 distanceThreshold = 2 内的邻居城市分别是：\n",
    "    城市 0 -> [城市 1] \n",
    "    城市 1 -> [城市 0, 城市 4] \n",
    "    城市 2 -> [城市 3, 城市 4] \n",
    "    城市 3 -> [城市 2, 城市 4]\n",
    "    城市 4 -> [城市 1, 城市 2, 城市 3] \n",
    "    城市 0 在阈值距离 4 以内只有 1 个邻居城市。"
   ]
  },
  {
   "cell_type": "code",
   "execution_count": 15,
   "metadata": {},
   "outputs": [],
   "source": [
    "from collections import defaultdict\n",
    "\n",
    "class Solution:\n",
    "    def findTheCity(self, n: int, edges, distanceThreshold: int) -> int:\n",
    "        graph = defaultdict(dict)\n",
    "        for s, e, w in edges:\n",
    "            graph[s][e] = w\n",
    "            graph[e][s] = w\n",
    "        print(graph)"
   ]
  },
  {
   "cell_type": "code",
   "execution_count": 45,
   "metadata": {},
   "outputs": [],
   "source": [
    "from heapq import heappush, heappop\n",
    "from collections import defaultdict\n",
    "\n",
    "class Solution:\n",
    "    def findTheCity(self, n: int, edges, distanceThreshold: int) -> int:\n",
    "        dis = [[float('inf')] * n for _ in range(n)]\n",
    "        for i in range(n):\n",
    "            dis[i][i] = 0\n",
    "        nei = defaultdict(list)\n",
    "        for i, j, k in edges:\n",
    "            dis[i][j] = dis[j][i] = k\n",
    "            nei[i].append(j)\n",
    "            nei[j].append(i)\n",
    "            \n",
    "        visited = set()\n",
    "        for i in range(n):\n",
    "            pool = [(0, i)]\n",
    "            while pool:\n",
    "                # 弹出距离最小的点\n",
    "                x, j = heappop(pool)\n",
    "                if (i, j) not in visited and x < distanceThreshold:\n",
    "                    visited.add((i, j))\n",
    "                    for k in nei[j]:\n",
    "                        dis[i][k] = min(dis[i][k], x + dis[j][k])\n",
    "                        # 压入\n",
    "                        heappush(pool, (dis[i][k], k))\n",
    "        print(visited)\n",
    "        cities = [[i, 0] for i in range(n)]\n",
    "        for i in range(n):\n",
    "            for d in dis[i]:\n",
    "                if d <= distanceThreshold:\n",
    "                    cities[i][1] += 1\n",
    "        result = sorted(cities, key=lambda x: [x[1], -x[0]])\n",
    "        return result[0][0]"
   ]
  },
  {
   "cell_type": "code",
   "execution_count": 50,
   "metadata": {},
   "outputs": [],
   "source": [
    "from collections import defaultdict\n",
    "import heapq\n",
    "\n",
    "class Solution:\n",
    "    def findTheCity(self, n: int, edges, distanceThreshold: int) -> int:\n",
    "        dis = [[float('inf')] * n for _ in range(n)] # 记录下 每个节点到另外节点所需的最小花费\n",
    "        for i in range(n):\n",
    "            dis[i][i] = 0\n",
    "        graph = defaultdict(list)\n",
    "        for e, d, k in edges:\n",
    "            dis[e][d] = dis[d][e] = k\n",
    "            graph[e].append(d)\n",
    "            graph[d].append(e)\n",
    "        \n",
    "        print(graph)\n",
    "        visited = set()\n",
    "        for i in range(n):\n",
    "            pool = [[0, i]] # 每个节点到自己的距离都是0\n",
    "            while pool:\n",
    "                x, j = heapq.heappop(pool) # pop出距离最小的点\n",
    "                if (i, j) not in visited and x < distanceThreshold:\n",
    "                    visited.add((i, j))\n",
    "                    for k in graph[j]:\n",
    "                        dis[i][k] = min(dis[i][k], x + dis[j][k])\n",
    "                        heapq.heappush(pool, (dis[i][k], k))\n",
    "        \n",
    "        print(dis)\n",
    "        cities = defaultdict(int)\n",
    "        for i in range(n):\n",
    "            for d in dis[i]:\n",
    "                if d <= distanceThreshold:\n",
    "                    cities[i] += 1\n",
    "        print(cities)\n",
    "        return sorted(cities.items(), key=lambda x: (x[1], -x[0]))[0][0]"
   ]
  },
  {
   "cell_type": "code",
   "execution_count": 51,
   "metadata": {},
   "outputs": [
    {
     "name": "stdout",
     "output_type": "stream",
     "text": [
      "defaultdict(<class 'list'>, {0: [3, 1], 3: [0, 2, 1], 2: [4, 3, 1], 4: [2], 1: [0, 3, 2]})\n",
      "[[0, 5, 6, 7, 7, inf], [5, 0, 1, 6, 2, inf], [6, 1, 0, 7, 1, inf], [7, 6, 7, 0, 8, inf], [7, 2, 1, 8, 0, inf], [inf, inf, inf, inf, inf, 0]]\n",
      "defaultdict(<class 'int'>, {0: 5, 1: 5, 2: 5, 3: 5, 4: 5, 5: 1})\n"
     ]
    },
    {
     "data": {
      "text/plain": [
       "5"
      ]
     },
     "execution_count": 51,
     "metadata": {},
     "output_type": "execute_result"
    }
   ],
   "source": [
    "solution = Solution()\n",
    "solution.findTheCity(6, [[0,3,7],[2,4,1],[0,1,5],[2,3,10],[1,3,6],[1,2,1]], 417)"
   ]
  },
  {
   "cell_type": "code",
   "execution_count": null,
   "metadata": {},
   "outputs": [],
   "source": [
    "[[0, 5, 6, 7, 7, inf], \n",
    " [5, 0, 1, 6, 2, inf], \n",
    " [6, 1, 0, 7, 1, inf], \n",
    " [7, 6, 7, 0, 8, inf], \n",
    " [7, 2, 1, 8, 0, inf], \n",
    " [inf, inf, inf, inf, inf, 0]]"
   ]
  },
  {
   "cell_type": "code",
   "execution_count": null,
   "metadata": {},
   "outputs": [],
   "source": []
  },
  {
   "cell_type": "code",
   "execution_count": null,
   "metadata": {},
   "outputs": [],
   "source": []
  },
  {
   "cell_type": "code",
   "execution_count": null,
   "metadata": {},
   "outputs": [],
   "source": []
  },
  {
   "cell_type": "code",
   "execution_count": null,
   "metadata": {},
   "outputs": [],
   "source": [
    "from collections import defaultdict\n",
    "\n",
    "class Solution:\n",
    "    def findTheCity(self, n: int, edges, distanceThreshold: int) -> int:\n",
    "        graph = defaultdict(dict)\n",
    "        for s, e, w in edges:\n",
    "            graph[s][e] = w\n",
    "            graph[e][s] = w\n",
    "        print(graph)\n",
    "        \n",
    "        # 遍历 n 个城市\n",
    "        res = {}\n",
    "        for i in range(n):\n",
    "            count = 0\n",
    "            seen = {i}\n",
    "            for j in graph[i].keys():\n",
    "                val = graph[i][j]\n",
    "                while val <= distanceThreshold:\n",
    "                    count += 1\n",
    "                    for k in grpah[j]:\n",
    "                        \n",
    "                    seen.add[j]\n",
    "            res[i] = count"
   ]
  }
 ],
 "metadata": {
  "kernelspec": {
   "display_name": "Python 3",
   "language": "python",
   "name": "python3"
  },
  "language_info": {
   "codemirror_mode": {
    "name": "ipython",
    "version": 3
   },
   "file_extension": ".py",
   "mimetype": "text/x-python",
   "name": "python",
   "nbconvert_exporter": "python",
   "pygments_lexer": "ipython3",
   "version": "3.6.2"
  }
 },
 "nbformat": 4,
 "nbformat_minor": 4
}
