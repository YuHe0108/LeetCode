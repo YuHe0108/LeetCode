{
 "cells": [
  {
   "cell_type": "raw",
   "metadata": {},
   "source": [
    "    你现在手里有一份大小为 N x N 的 网格 grid，上面的每个 单元格 都用 0 和 1 标记好了。其中 0 代表海洋，1 代表陆地，\n",
    "    请你找出一个海洋单元格，这个海洋单元格到离它最近的陆地单元格的距离是最大的。\n",
    "\n",
    "    我们这里说的距离是「曼哈顿距离」（ Manhattan Distance）：\n",
    "        (x0, y0) 和 (x1, y1) 这两个单元格之间的距离是 |x0 - x1| + |y0 - y1| 。\n",
    "\n",
    "    如果网格上只有陆地或者海洋，请返回 -1"
   ]
  },
  {
   "cell_type": "markdown",
   "metadata": {},
   "source": [
    "<img src='https://assets.leetcode-cn.com/aliyun-lc-upload/uploads/2019/08/17/1336_ex1.jpeg'>"
   ]
  },
  {
   "cell_type": "raw",
   "metadata": {},
   "source": [
    "输入：[[1,0,1],[0,0,0],[1,0,1]]\n",
    "输出：2\n",
    "解释： \n",
    "    海洋单元格 (1, 1) 和所有陆地单元格之间的距离都达到最大，最大距离为 2。"
   ]
  },
  {
   "cell_type": "markdown",
   "metadata": {},
   "source": [
    "<img src='https://assets.leetcode-cn.com/aliyun-lc-upload/uploads/2019/08/17/1336_ex2.jpeg'>"
   ]
  },
  {
   "cell_type": "raw",
   "metadata": {},
   "source": [
    "输入：[[1,0,0],[0,0,0],[0,0,0]]\n",
    "输出：4\n",
    "解释： \n",
    "    海洋单元格 (2, 2) 和所有陆地单元格之间的距离都达到最大，最大距离为 4。"
   ]
  },
  {
   "cell_type": "raw",
   "metadata": {},
   "source": [
    "提示：\n",
    "    1 <= grid.length == grid[0].length <= 100\n",
    "    grid[i][j] 不是 0 就是 1"
   ]
  },
  {
   "cell_type": "code",
   "execution_count": null,
   "metadata": {},
   "outputs": [],
   "source": [
    "from collections import deque\n",
    "\n",
    "class Solution:\n",
    "    def maxDistance(self, grid) -> int:        \n",
    "        N, q = len(grid), deque() # 把所有 1 放入 q中\n",
    "        for i in range(N):\n",
    "            for j in range(N):\n",
    "                if grid[i][j] == 1:\n",
    "                    grid[i][j] = 2\n",
    "                    q.append((i, j))\n",
    "        step = -1\n",
    "        while q:\n",
    "            q_len = len(q)\n",
    "            step += 1\n",
    "            for i in range(q_len):\n",
    "                x, y = q.popleft()\n",
    "                for nx, ny in (x+1, y), (x-1, y), (x, y+1), (x, y-1):\n",
    "                    if nx >= N or ny >= N or nx < 0 or ny < 0:\n",
    "                        continue\n",
    "                    if grid[nx][ny] == 2:\n",
    "                        continue\n",
    "                    if grid[nx][ny] == 0:\n",
    "                        grid[nx][ny] = 2\n",
    "                        q.append((nx, ny))\n",
    "        return step if step != 0 else -1"
   ]
  },
  {
   "cell_type": "code",
   "execution_count": 99,
   "metadata": {},
   "outputs": [],
   "source": [
    "from collections import deque\n",
    "\n",
    "class Solution:\n",
    "    def maxDistance(self, grid) -> int:        \n",
    "        N, q = len(grid), deque() # 把所有 1 放入 q中\n",
    "        for i in range(N):\n",
    "            for j in range(N):\n",
    "                if grid[i][j] == 1:\n",
    "                    grid[i][j] = 2\n",
    "                    q.append((i, j))\n",
    "        step = 0\n",
    "        ret = -1\n",
    "        while q:\n",
    "            q_len = len(q)\n",
    "            step += 1\n",
    "            for i in range(q_len):\n",
    "                x, y = q.popleft()\n",
    "                for nx, ny in (x+1, y), (x-1, y), (x, y+1), (x, y-1):\n",
    "                    if nx >= N or ny >= N or nx < 0 or ny < 0:\n",
    "                        continue\n",
    "                    if grid[nx][ny] == 2:\n",
    "                        continue\n",
    "                    if grid[nx][ny] == 0:\n",
    "                        ret = max(ret, step)\n",
    "                        grid[nx][ny] = 2\n",
    "                        q.append((nx, ny))\n",
    "        return ret"
   ]
  },
  {
   "cell_type": "code",
   "execution_count": 100,
   "metadata": {},
   "outputs": [
    {
     "data": {
      "text/plain": [
       "4"
      ]
     },
     "execution_count": 100,
     "metadata": {},
     "output_type": "execute_result"
    }
   ],
   "source": [
    "solution = Solution()\n",
    "solution.maxDistance([[1,0,0],[0,0,0],[0,0,0]])"
   ]
  },
  {
   "cell_type": "code",
   "execution_count": null,
   "metadata": {},
   "outputs": [],
   "source": []
  },
  {
   "cell_type": "code",
   "execution_count": null,
   "metadata": {},
   "outputs": [],
   "source": []
  },
  {
   "cell_type": "code",
   "execution_count": null,
   "metadata": {},
   "outputs": [],
   "source": []
  },
  {
   "cell_type": "code",
   "execution_count": null,
   "metadata": {},
   "outputs": [],
   "source": []
  },
  {
   "cell_type": "code",
   "execution_count": null,
   "metadata": {},
   "outputs": [],
   "source": []
  },
  {
   "cell_type": "code",
   "execution_count": null,
   "metadata": {},
   "outputs": [],
   "source": []
  },
  {
   "cell_type": "code",
   "execution_count": null,
   "metadata": {},
   "outputs": [],
   "source": []
  },
  {
   "cell_type": "code",
   "execution_count": null,
   "metadata": {},
   "outputs": [],
   "source": []
  },
  {
   "cell_type": "code",
   "execution_count": null,
   "metadata": {},
   "outputs": [],
   "source": []
  },
  {
   "cell_type": "code",
   "execution_count": null,
   "metadata": {},
   "outputs": [],
   "source": []
  },
  {
   "cell_type": "code",
   "execution_count": 84,
   "metadata": {},
   "outputs": [],
   "source": []
  },
  {
   "cell_type": "code",
   "execution_count": 85,
   "metadata": {},
   "outputs": [],
   "source": []
  },
  {
   "cell_type": "code",
   "execution_count": null,
   "metadata": {},
   "outputs": [],
   "source": []
  },
  {
   "cell_type": "code",
   "execution_count": null,
   "metadata": {},
   "outputs": [],
   "source": []
  },
  {
   "cell_type": "code",
   "execution_count": 54,
   "metadata": {},
   "outputs": [],
   "source": [
    "q = deque(([1, 2]))"
   ]
  },
  {
   "cell_type": "code",
   "execution_count": 55,
   "metadata": {},
   "outputs": [],
   "source": [
    "q.append([1, 2])"
   ]
  },
  {
   "cell_type": "code",
   "execution_count": 56,
   "metadata": {},
   "outputs": [
    {
     "name": "stdout",
     "output_type": "stream",
     "text": [
      "deque([1, 2, [1, 2]])\n"
     ]
    },
    {
     "data": {
      "text/plain": [
       "1"
      ]
     },
     "execution_count": 56,
     "metadata": {},
     "output_type": "execute_result"
    }
   ],
   "source": [
    "print(q)\n",
    "q.popleft()"
   ]
  },
  {
   "cell_type": "code",
   "execution_count": null,
   "metadata": {},
   "outputs": [],
   "source": [
    " def bfs(r, c):\n",
    "            if r >= N or c >= N or r < 0 or c < 0:\n",
    "                return False\n",
    "            if grid[r][c] == 1:\n",
    "                return True\n",
    "            \n",
    "            res = -1\n",
    "            for n_r, n_c in (r+1, c), (r-1, c), (r, c+1), (r, c-1):\n",
    "                if bfs\n",
    "                res  = max(res, bfs(n_r, n_c))\n",
    "            return res"
   ]
  },
  {
   "cell_type": "code",
   "execution_count": null,
   "metadata": {},
   "outputs": [],
   "source": []
  },
  {
   "cell_type": "code",
   "execution_count": null,
   "metadata": {},
   "outputs": [],
   "source": []
  },
  {
   "cell_type": "code",
   "execution_count": null,
   "metadata": {},
   "outputs": [],
   "source": [
    "from collections import deque\n",
    "\n",
    "class Solution:\n",
    "    def maxDistance(self, grid) -> int:        \n",
    "        N = len(grid)\n",
    "        sum_val = 0\n",
    "        for i in range(N):\n",
    "            print(grid[i])\n",
    "            sum_val += sum(grid[i])\n",
    "        print(sum_val)\n",
    "        if sum_val == 0 or sum_val == N*N:\n",
    "            return -1\n",
    "        \n",
    "        visited = {}\n",
    "        for i in range(N):\n",
    "            for j in range(N):\n",
    "                dis = -1\n",
    "                if grid[i][j] == 0: # 找到了一个海洋\n",
    "                    q = deque()\n",
    "                    q.append([i, j])\n",
    "                    seen = set()\n",
    "                    can_break = False\n",
    "                    \n",
    "                    while q:\n",
    "                        x, y = q.popleft()\n",
    "                        if (x, y) not in seen:\n",
    "                            seen.add((x, y))\n",
    "                            for n_x, n_y in (x+1, y), (x-1, y), (x, y+1), (x, y-1):\n",
    "                                if n_x >= N or n_y >= N or n_x < 0 or n_y < 0:\n",
    "                                    continue\n",
    "                                if (n_x, n_y) in visited:\n",
    "                                    dis = max(dis, abs(n_x - i) + abs(n_y - j))\n",
    "                                if grid[n_x][n_y] == 1:\n",
    "                                    dis = max(dis, abs(n_x - i) + abs(n_y - j))\n",
    "                                    can_break = True\n",
    "                                    break\n",
    "                                else:\n",
    "                                    q.append((n_x, n_y))\n",
    "                        if can_break:\n",
    "                            break\n",
    "                visited[(i, j)] = dis\n",
    "        return max(visited.values())"
   ]
  },
  {
   "cell_type": "code",
   "execution_count": 86,
   "metadata": {},
   "outputs": [],
   "source": [
    "from collections import deque\n",
    "\n",
    "class Solution:\n",
    "    def maxDistance(self, grid) -> int:        \n",
    "        N = len(grid)\n",
    "        sum_val = 0\n",
    "        for i in range(N):\n",
    "            sum_val += sum(grid[i])\n",
    "        if sum_val == 0 or sum_val == N*N:\n",
    "            return -1\n",
    "        \n",
    "        dis = -1\n",
    "        for i in range(N):\n",
    "            for j in range(N):\n",
    "                if grid[i][j] == 0: # 找到了一个海洋\n",
    "                    q = deque()\n",
    "                    q.append([i, j])\n",
    "                    grid[i][j] = 2 # 已经去过标记为2\n",
    "                    while q:\n",
    "                        x, y = q.popleft()\n",
    "                        for n_x, n_y in (x+1, y), (x-1, y), (x, y+1), (x, y-1):\n",
    "                            if n_x >= N or n_y >= N or n_x < 0 or n_y < 0:\n",
    "                                continue\n",
    "                            if grid[n_x][n_y] == 1:\n",
    "                                dis += 1\n",
    "                                grid[n_x][n_y] == 2\n",
    "                            elif grid[n_x][n_y] == 0:\n",
    "                                q.append((n_x, n_y))\n",
    "        return dis"
   ]
  },
  {
   "cell_type": "code",
   "execution_count": 87,
   "metadata": {},
   "outputs": [
    {
     "ename": "KeyboardInterrupt",
     "evalue": "",
     "output_type": "error",
     "traceback": [
      "\u001b[1;31m---------------------------------------------------------------------------\u001b[0m",
      "\u001b[1;31mKeyboardInterrupt\u001b[0m                         Traceback (most recent call last)",
      "\u001b[1;32m<ipython-input-87-b826eb2bcd1d>\u001b[0m in \u001b[0;36m<module>\u001b[1;34m\u001b[0m\n\u001b[0;32m      1\u001b[0m \u001b[0msolution\u001b[0m \u001b[1;33m=\u001b[0m \u001b[0mSolution\u001b[0m\u001b[1;33m(\u001b[0m\u001b[1;33m)\u001b[0m\u001b[1;33m\u001b[0m\u001b[0m\n\u001b[1;32m----> 2\u001b[1;33m \u001b[0msolution\u001b[0m\u001b[1;33m.\u001b[0m\u001b[0mmaxDistance\u001b[0m\u001b[1;33m(\u001b[0m\u001b[1;33m[\u001b[0m\u001b[1;33m[\u001b[0m\u001b[1;36m1\u001b[0m\u001b[1;33m,\u001b[0m\u001b[1;36m0\u001b[0m\u001b[1;33m,\u001b[0m\u001b[1;36m0\u001b[0m\u001b[1;33m]\u001b[0m\u001b[1;33m,\u001b[0m\u001b[1;33m[\u001b[0m\u001b[1;36m0\u001b[0m\u001b[1;33m,\u001b[0m\u001b[1;36m0\u001b[0m\u001b[1;33m,\u001b[0m\u001b[1;36m0\u001b[0m\u001b[1;33m]\u001b[0m\u001b[1;33m,\u001b[0m\u001b[1;33m[\u001b[0m\u001b[1;36m0\u001b[0m\u001b[1;33m,\u001b[0m\u001b[1;36m0\u001b[0m\u001b[1;33m,\u001b[0m\u001b[1;36m0\u001b[0m\u001b[1;33m]\u001b[0m\u001b[1;33m]\u001b[0m\u001b[1;33m)\u001b[0m\u001b[1;33m\u001b[0m\u001b[0m\n\u001b[0m",
      "\u001b[1;32m<ipython-input-86-df6e3ddd320a>\u001b[0m in \u001b[0;36mmaxDistance\u001b[1;34m(self, grid)\u001b[0m\n\u001b[0;32m     19\u001b[0m                     \u001b[1;32mwhile\u001b[0m \u001b[0mq\u001b[0m\u001b[1;33m:\u001b[0m\u001b[1;33m\u001b[0m\u001b[0m\n\u001b[0;32m     20\u001b[0m                         \u001b[0mx\u001b[0m\u001b[1;33m,\u001b[0m \u001b[0my\u001b[0m \u001b[1;33m=\u001b[0m \u001b[0mq\u001b[0m\u001b[1;33m.\u001b[0m\u001b[0mpopleft\u001b[0m\u001b[1;33m(\u001b[0m\u001b[1;33m)\u001b[0m\u001b[1;33m\u001b[0m\u001b[0m\n\u001b[1;32m---> 21\u001b[1;33m                         \u001b[1;32mfor\u001b[0m \u001b[0mn_x\u001b[0m\u001b[1;33m,\u001b[0m \u001b[0mn_y\u001b[0m \u001b[1;32min\u001b[0m \u001b[1;33m(\u001b[0m\u001b[0mx\u001b[0m\u001b[1;33m+\u001b[0m\u001b[1;36m1\u001b[0m\u001b[1;33m,\u001b[0m \u001b[0my\u001b[0m\u001b[1;33m)\u001b[0m\u001b[1;33m,\u001b[0m \u001b[1;33m(\u001b[0m\u001b[0mx\u001b[0m\u001b[1;33m-\u001b[0m\u001b[1;36m1\u001b[0m\u001b[1;33m,\u001b[0m \u001b[0my\u001b[0m\u001b[1;33m)\u001b[0m\u001b[1;33m,\u001b[0m \u001b[1;33m(\u001b[0m\u001b[0mx\u001b[0m\u001b[1;33m,\u001b[0m \u001b[0my\u001b[0m\u001b[1;33m+\u001b[0m\u001b[1;36m1\u001b[0m\u001b[1;33m)\u001b[0m\u001b[1;33m,\u001b[0m \u001b[1;33m(\u001b[0m\u001b[0mx\u001b[0m\u001b[1;33m,\u001b[0m \u001b[0my\u001b[0m\u001b[1;33m-\u001b[0m\u001b[1;36m1\u001b[0m\u001b[1;33m)\u001b[0m\u001b[1;33m:\u001b[0m\u001b[1;33m\u001b[0m\u001b[0m\n\u001b[0m\u001b[0;32m     22\u001b[0m                             \u001b[1;32mif\u001b[0m \u001b[0mn_x\u001b[0m \u001b[1;33m>=\u001b[0m \u001b[0mN\u001b[0m \u001b[1;32mor\u001b[0m \u001b[0mn_y\u001b[0m \u001b[1;33m>=\u001b[0m \u001b[0mN\u001b[0m \u001b[1;32mor\u001b[0m \u001b[0mn_x\u001b[0m \u001b[1;33m<\u001b[0m \u001b[1;36m0\u001b[0m \u001b[1;32mor\u001b[0m \u001b[0mn_y\u001b[0m \u001b[1;33m<\u001b[0m \u001b[1;36m0\u001b[0m\u001b[1;33m:\u001b[0m\u001b[1;33m\u001b[0m\u001b[0m\n\u001b[0;32m     23\u001b[0m                                 \u001b[1;32mcontinue\u001b[0m\u001b[1;33m\u001b[0m\u001b[0m\n",
      "\u001b[1;31mKeyboardInterrupt\u001b[0m: "
     ]
    }
   ],
   "source": [
    "solution = Solution()\n",
    "solution.maxDistance([[1,0,0],[0,0,0],[0,0,0]])"
   ]
  },
  {
   "cell_type": "code",
   "execution_count": null,
   "metadata": {},
   "outputs": [],
   "source": []
  }
 ],
 "metadata": {
  "kernelspec": {
   "display_name": "Python 3",
   "language": "python",
   "name": "python3"
  },
  "language_info": {
   "codemirror_mode": {
    "name": "ipython",
    "version": 3
   },
   "file_extension": ".py",
   "mimetype": "text/x-python",
   "name": "python",
   "nbconvert_exporter": "python",
   "pygments_lexer": "ipython3",
   "version": "3.6.2"
  }
 },
 "nbformat": 4,
 "nbformat_minor": 4
}
