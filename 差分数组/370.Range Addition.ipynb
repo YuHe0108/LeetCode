{
 "cells": [
  {
   "cell_type": "code",
   "execution_count": null,
   "metadata": {},
   "outputs": [],
   "source": []
  },
  {
   "cell_type": "code",
   "execution_count": null,
   "metadata": {},
   "outputs": [],
   "source": []
  },
  {
   "cell_type": "code",
   "execution_count": 4,
   "metadata": {},
   "outputs": [],
   "source": [
    "def getModifiedArray(length, updates):\n",
    "    # 数组的长度为 length，初始值全为 0\n",
    "    # updates: [start, end, +val], [start, end] 区间内加 val 数\n",
    "    \n",
    "    diff = [0] * length\n",
    "    for s, e, v in updates:\n",
    "        diff[s] += v # 起始点的时候 +v\n",
    "        if e + 1 < length:\n",
    "            diff[e+1] -= v # 但是从 end+1 的时候 -v\n",
    "            \n",
    "    res = [0] * length\n",
    "    cur = 0\n",
    "    for i, d in enumerate(diff):\n",
    "        cur += d\n",
    "        res[i] = cur\n",
    "    return res"
   ]
  },
  {
   "cell_type": "code",
   "execution_count": null,
   "metadata": {},
   "outputs": [],
   "source": []
  },
  {
   "cell_type": "code",
   "execution_count": null,
   "metadata": {},
   "outputs": [],
   "source": []
  },
  {
   "cell_type": "code",
   "execution_count": null,
   "metadata": {},
   "outputs": [],
   "source": [
    "class Solution {\n",
    "    class SegTreeNode\n",
    "    {\n",
    "        public:\n",
    "        SegTreeNode* left;\n",
    "        SegTreeNode* right;\n",
    "        int start, end;\n",
    "        int info;\n",
    "        int tag;\n",
    "        SegTreeNode(int a, int b):start(a),end(b),info(0),tag(0),left(NULL),right(NULL){}\n",
    "    };\n",
    "    \n",
    "    void init(SegTreeNode* node, int a, int b)  // init for range [a,b]\n",
    "    {                        \n",
    "        if (a==b)\n",
    "        {\n",
    "            node->info = 0;\n",
    "            return;\n",
    "        }\n",
    "        int mid = (a+b)/2;\n",
    "        if (node->left==NULL)\n",
    "        {\n",
    "            node->left = new SegTreeNode(a, mid);\n",
    "            node->right = new SegTreeNode(mid+1, b);\n",
    "        }\n",
    "        init(node->left, a, mid);\n",
    "        init(node->right, mid+1, b);\n",
    "                \n",
    "        node->info = 0;  // write your own logic\n",
    "    }\n",
    "    \n",
    "    void updateRange(SegTreeNode* node, int a, int b, int val)\n",
    "    {\n",
    "        if (b < node->start || a > node->end )\n",
    "            return;\n",
    "        if (a <= node->start && b>=node->end)\n",
    "        {\n",
    "            node->info += val * (node->end-node->start+1);\n",
    "            node->tag += val;\n",
    "            return;\n",
    "        }\n",
    "        \n",
    "        pushdown(node); // erase lazy tag and propagate down\n",
    "        updateRange(node->left, a, b, val);\n",
    "        updateRange(node->right, a, b, val);\n",
    "    }\n",
    "    \n",
    "    void pushdown(SegTreeNode* node)\n",
    "    {\n",
    "        if (node->tag != 0)\n",
    "        {\n",
    "            node->left->tag += node->tag;\n",
    "            node->right->tag += node->tag;\n",
    "            node->left->info += node->tag * (node->left->end-node->left->start+1);\n",
    "            node->right->info += node->tag * (node->right->end-node->right->start+1);\n",
    "            node->tag = 0;            \n",
    "        }\n",
    "    }\n",
    "    \n",
    "    int querySingle(SegTreeNode* node, int id)\n",
    "    {\n",
    "        if (id < node->start || id > node->end )\n",
    "        {\n",
    "            return INT_MAX;  // write your own logic\n",
    "        }\n",
    "        if (node->start==id && node->end==id)\n",
    "        {\n",
    "            return node->info;\n",
    "        }\n",
    "        \n",
    "        pushdown(node);\n",
    "        int a = querySingle(node->left, id);\n",
    "        int b = querySingle(node->right, id);\n",
    "        if (a!=INT_MAX) return a;\n",
    "        else if (b!=INT_MAX) return b;\n",
    "        else return INT_MAX;\n",
    "    }\n",
    "    \n",
    "    \n",
    "    \n",
    "public:\n",
    "    vector<int> getModifiedArray(int length, vector<vector<int>>& updates) \n",
    "    {\n",
    "        SegTreeNode* root = new SegTreeNode(0, length-1);\n",
    "        init(root, 0, length-1);\n",
    "        \n",
    "        for (auto update: updates)\n",
    "        {\n",
    "            updateRange(root, update[0], update[1], update[2]);\n",
    "        }\n",
    "        \n",
    "        vector<int>rets(length);\n",
    "        for (int i=0; i<length; i++)\n",
    "        {\n",
    "            rets[i] = querySingle(root, i);\n",
    "        }\n",
    "            \n",
    "        return rets;\n",
    "    }\n",
    "};"
   ]
  },
  {
   "cell_type": "code",
   "execution_count": null,
   "metadata": {},
   "outputs": [],
   "source": [
    "# 使用线段数的做法\n",
    "class SegTreeNode:\n",
    "    def __init__(self):\n",
    "        self.left = None\n",
    "        self.right = None\n",
    "        self.start = 0\n",
    "        self.end = 0\n",
    "        self.val = 0\n",
    "        self.tag = 0\n",
    "    \n",
    "    def init(self, node, start, end):\n",
    "        if start == end:\n",
    "            node.val = 0\n",
    "            return\n",
    "        mid = (start + end) // 2\n",
    "        if node.left is None:\n",
    "            node.left = SegTreeNode()\n",
    "            node.left.init()\n",
    "            node.left = SegTreeNode().init(start, mid)\n",
    "            node.right = SegTreeNode().init(mid+1, end)\n",
    "        node.val = 0"
   ]
  },
  {
   "cell_type": "code",
   "execution_count": null,
   "metadata": {},
   "outputs": [],
   "source": []
  },
  {
   "cell_type": "code",
   "execution_count": null,
   "metadata": {},
   "outputs": [],
   "source": []
  },
  {
   "cell_type": "code",
   "execution_count": null,
   "metadata": {},
   "outputs": [],
   "source": []
  },
  {
   "cell_type": "code",
   "execution_count": 6,
   "metadata": {},
   "outputs": [
    {
     "data": {
      "text/plain": [
       "[-2, 0, 3, 5, 3]"
      ]
     },
     "execution_count": 6,
     "metadata": {},
     "output_type": "execute_result"
    }
   ],
   "source": [
    "getModifiedArray(5, [[1,3,2],[2,4,3],[0,2,-2]])"
   ]
  },
  {
   "cell_type": "code",
   "execution_count": null,
   "metadata": {},
   "outputs": [],
   "source": [
    "10, [[2,4,6],[5,6,8],[1,9,-4]]"
   ]
  }
 ],
 "metadata": {
  "kernelspec": {
   "display_name": "Python 3",
   "language": "python",
   "name": "python3"
  },
  "language_info": {
   "codemirror_mode": {
    "name": "ipython",
    "version": 3
   },
   "file_extension": ".py",
   "mimetype": "text/x-python",
   "name": "python",
   "nbconvert_exporter": "python",
   "pygments_lexer": "ipython3",
   "version": "3.6.2"
  }
 },
 "nbformat": 4,
 "nbformat_minor": 4
}
