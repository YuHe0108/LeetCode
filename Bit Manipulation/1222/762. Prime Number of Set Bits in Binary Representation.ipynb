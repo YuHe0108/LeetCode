{
 "cells": [
  {
   "cell_type": "code",
   "execution_count": null,
   "metadata": {},
   "outputs": [],
   "source": []
  },
  {
   "cell_type": "code",
   "execution_count": null,
   "metadata": {},
   "outputs": [],
   "source": []
  },
  {
   "cell_type": "code",
   "execution_count": 8,
   "metadata": {},
   "outputs": [],
   "source": [
    "class Solution:\n",
    "    def countPrimeSetBits(self, L: int, R: int) -> int:\n",
    "        def is_prime(num):\n",
    "            for i in range(2, num):\n",
    "                if num % i == 0:\n",
    "                    return False\n",
    "            return True\n",
    "        \n",
    "        def count_ones(num):\n",
    "            cnt = 0\n",
    "            while num:\n",
    "                v = ((num >> 0) & 1)\n",
    "                if v:\n",
    "                    cnt += 1\n",
    "                num >>= 1\n",
    "            return cnt\n",
    "        \n",
    "        # 10^6的二进制码不超过20位，所以只要求数字为20以内的 质数就可以\n",
    "        prime = {2, 3}\n",
    "        for i in range(4, 25):\n",
    "            if is_prime(i):\n",
    "                prime.add(i)\n",
    "        res = 0   \n",
    "        for num in range(L, R+1):\n",
    "            cnt = count_ones(num)\n",
    "            if cnt in prime:\n",
    "                res += 1\n",
    "        return res"
   ]
  },
  {
   "cell_type": "code",
   "execution_count": null,
   "metadata": {},
   "outputs": [],
   "source": [
    "class Solution:\n",
    "    def countPrimeSetBits(self, L: int, R: int) -> int:\n",
    "        prime_set = {2, 3, 5, 7, 11, 13, 17, 19}\n",
    "        \n",
    "        ret = 0\n",
    "        for i in range(L, R+1):\n",
    "            one_count = bin(i).count('1')\n",
    "            if one_count in prime_set:\n",
    "                ret +=1\n",
    "        return ret"
   ]
  },
  {
   "cell_type": "code",
   "execution_count": 11,
   "metadata": {},
   "outputs": [
    {
     "data": {
      "text/plain": [
       "31978"
      ]
     },
     "execution_count": 11,
     "metadata": {},
     "output_type": "execute_result"
    }
   ],
   "source": [
    "solution = Solution()\n",
    "solution.countPrimeSetBits(L = 10, R = 100000)"
   ]
  },
  {
   "cell_type": "code",
   "execution_count": 5,
   "metadata": {},
   "outputs": [
    {
     "data": {
      "text/plain": [
       "20"
      ]
     },
     "execution_count": 5,
     "metadata": {},
     "output_type": "execute_result"
    }
   ],
   "source": [
    "len(bin(1000000)[2:])"
   ]
  },
  {
   "cell_type": "code",
   "execution_count": null,
   "metadata": {},
   "outputs": [],
   "source": [
    "z"
   ]
  }
 ],
 "metadata": {
  "kernelspec": {
   "display_name": "Python 3",
   "language": "python",
   "name": "python3"
  },
  "language_info": {
   "codemirror_mode": {
    "name": "ipython",
    "version": 3
   },
   "file_extension": ".py",
   "mimetype": "text/x-python",
   "name": "python",
   "nbconvert_exporter": "python",
   "pygments_lexer": "ipython3",
   "version": "3.6.2"
  }
 },
 "nbformat": 4,
 "nbformat_minor": 4
}
