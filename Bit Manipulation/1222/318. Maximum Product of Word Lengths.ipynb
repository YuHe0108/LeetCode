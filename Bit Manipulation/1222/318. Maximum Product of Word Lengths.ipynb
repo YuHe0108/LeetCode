{
 "cells": [
  {
   "cell_type": "code",
   "execution_count": null,
   "metadata": {},
   "outputs": [],
   "source": []
  },
  {
   "cell_type": "code",
   "execution_count": null,
   "metadata": {},
   "outputs": [],
   "source": []
  },
  {
   "cell_type": "code",
   "execution_count": 11,
   "metadata": {},
   "outputs": [],
   "source": [
    "class Solution:\n",
    "    def maxProduct(self, words):\n",
    "        cnt = -float('inf')\n",
    "        n = len(words)\n",
    "        for i in range(n):\n",
    "            a_set = set(words[i])\n",
    "            for j in range(i+1, n):\n",
    "                b_set = set(words[j])\n",
    "                if a_set.difference(b_set) == a_set:\n",
    "                    cnt = max(cnt, len(words[i]) * len(words[j]))\n",
    "        return cnt if cnt != -float('inf') else 0"
   ]
  },
  {
   "cell_type": "code",
   "execution_count": 23,
   "metadata": {},
   "outputs": [],
   "source": [
    "from collections import defaultdict\n",
    "\n",
    "class Solution:\n",
    "    def maxProduct(self, words) -> int:\n",
    "        bitmap = defaultdict(int)\n",
    "        bitshift = lambda c: ord(c) - ord('a')\n",
    "        ret = 0\n",
    "        for word in words:\n",
    "            bitmask = 0\n",
    "            for ch in word:\n",
    "                bitmask |= (1 << bitshift(ch))\n",
    "            print(bitmask, word)\n",
    "            bitmap[bitmask] = max(bitmap[bitmask], len(word))\n",
    "        print(bitmap)\n",
    "        for i in bitmap:\n",
    "            for j in bitmap:\n",
    "                if i & j == 0:\n",
    "                    ret = max(ret, bitmap[i] * bitmap[j])\n",
    "        return ret"
   ]
  },
  {
   "cell_type": "code",
   "execution_count": 34,
   "metadata": {},
   "outputs": [],
   "source": [
    "class Solution:\n",
    "    def maxProduct(self, words):\n",
    "        bitmap = defaultdict(int)\n",
    "        bitshift = lambda c: ord(c) - ord('a')\n",
    "        for word in words:\n",
    "            bits = 0\n",
    "            for w in word:\n",
    "                bits |= (1 << bitshift(w))\n",
    "            bitmap[bits] = max(bitmap[bits], len(word))\n",
    "        \n",
    "        list_bitmap = sorted(bitmap.items(), key=lambda x: x[1])\n",
    "        print(list_bitmap)\n",
    "        return list_bitmap[-1][-1] * list_bitmap[-2][-1]"
   ]
  },
  {
   "cell_type": "code",
   "execution_count": 35,
   "metadata": {},
   "outputs": [
    {
     "name": "stdout",
     "output_type": "stream",
     "text": [
      "[(33554435, 3), (16416, 3), (131075, 3), (4194311, 4), (8921120, 4), (63, 6)]\n"
     ]
    },
    {
     "data": {
      "text/plain": [
       "24"
      ]
     },
     "execution_count": 35,
     "metadata": {},
     "output_type": "execute_result"
    }
   ],
   "source": [
    "solution = Solution()\n",
    "solution.maxProduct([\"abcw\",\"baz\",\"foo\",\"bar\",\"xtfn\",\"abcdef\"])"
   ]
  },
  {
   "cell_type": "code",
   "execution_count": null,
   "metadata": {},
   "outputs": [],
   "source": []
  }
 ],
 "metadata": {
  "kernelspec": {
   "display_name": "Python 3",
   "language": "python",
   "name": "python3"
  },
  "language_info": {
   "codemirror_mode": {
    "name": "ipython",
    "version": 3
   },
   "file_extension": ".py",
   "mimetype": "text/x-python",
   "name": "python",
   "nbconvert_exporter": "python",
   "pygments_lexer": "ipython3",
   "version": "3.6.2"
  }
 },
 "nbformat": 4,
 "nbformat_minor": 4
}
