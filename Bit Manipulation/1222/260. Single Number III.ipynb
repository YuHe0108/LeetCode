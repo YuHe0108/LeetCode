{
 "cells": [
  {
   "cell_type": "code",
   "execution_count": null,
   "metadata": {},
   "outputs": [],
   "source": []
  },
  {
   "cell_type": "code",
   "execution_count": null,
   "metadata": {},
   "outputs": [],
   "source": []
  },
  {
   "cell_type": "code",
   "execution_count": 18,
   "metadata": {},
   "outputs": [
    {
     "name": "stdout",
     "output_type": "stream",
     "text": [
      "-0b10\n",
      "0b101\n"
     ]
    }
   ],
   "source": [
    "print(bin(5 ^ (-5)))\n",
    "print(bin(5))"
   ]
  },
  {
   "cell_type": "code",
   "execution_count": null,
   "metadata": {},
   "outputs": [],
   "source": []
  },
  {
   "cell_type": "raw",
   "metadata": {},
   "source": [
    "1. 先熟悉一下位运算相关的概念:\n",
    "    1. num ^ num = 0\n",
    "    2. num ^ (-num) 可以使二进制的num中，第一个出现1的位保持为1，其他位置为0\n",
    "2. 通过 'num ^ num = 0': \n",
    "    我们可以排除掉列表中重复的元素, 最终结果只是两个只出现一次的元素求\"异或\"的结果\n",
    "3. 通过 'num ^ (-num)':\n",
    "    因为剩下的两个元素值不相等, 所以他们之中一定有一个位上的值不相等, 那么我们可以通过\"异或\"找到第一个不相等的位即可区分两个元素\n",
    "4. 然后根据指定位数值位0 或1将原列表中的元素分为2组(此时不同的两个元素一定在不同的组中)\n",
    "5. 然后再对每组进行取\"异或\", 每组的最终结果就是那个不同的元素\n"
   ]
  },
  {
   "cell_type": "code",
   "execution_count": 64,
   "metadata": {},
   "outputs": [],
   "source": [
    "class Solution:\n",
    "    def singleNumber(self, nums):\n",
    "        res, first, second = 0, 0, 0\n",
    "        # 因为相同元素的异或为0, 所以此时的最终结果只是两个不同元素异或的结果\n",
    "        for ele in nums:\n",
    "            res = res ^ ele\n",
    "            \n",
    "        # 因为剩下的两个元素值不相等, 所以他们之中一定有一个位上的值不相等, \n",
    "        # 那么我们可以通过\"异或\"找到第一个不相等的位即可区分两个元素\n",
    "        temp = res & (-res)\n",
    "\n",
    "        # 遍历元素, 通过指定位是 0 还是 1,分为2组\n",
    "        # 此时不同的元素一定在不同的组中\n",
    "        # 对每组求异或即可分别求出两个不同的元素\n",
    "        for ele in nums:\n",
    "            if ele & temp:\n",
    "                first ^= ele\n",
    "                print(ele, temp, first,  ele & temp, bin(ele), bin(temp))\n",
    "            # 方法1: 分别计算两组的值\n",
    "            # else:\n",
    "            #     second ^= ele\n",
    "        # 方法2: 通过first和res求出second的值\n",
    "        second = res ^ first\n",
    "        return [first, second]"
   ]
  },
  {
   "cell_type": "code",
   "execution_count": 65,
   "metadata": {},
   "outputs": [
    {
     "name": "stdout",
     "output_type": "stream",
     "text": [
      "2 2 2 2 0b10 0b10\n",
      "3 2 1 2 0b11 0b10\n",
      "2 2 3 2 0b10 0b10\n"
     ]
    },
    {
     "data": {
      "text/plain": [
       "[3, 5]"
      ]
     },
     "execution_count": 65,
     "metadata": {},
     "output_type": "execute_result"
    }
   ],
   "source": [
    "solution = Solution()\n",
    "solution.singleNumber([1,2,1,3,2,5])"
   ]
  },
  {
   "cell_type": "code",
   "execution_count": null,
   "metadata": {},
   "outputs": [],
   "source": []
  },
  {
   "cell_type": "code",
   "execution_count": 9,
   "metadata": {},
   "outputs": [],
   "source": [
    "class Solution:\n",
    "    def singleNumber(self, nums):\n",
    "        n = len(nums)\n",
    "        val = 0\n",
    "        for i in range(n):\n",
    "            val ^= nums[i]\n",
    "        temp_val = val\n",
    "        pos = 0\n",
    "        while (temp_val & 1) != 1:\n",
    "            temp_val >>= 1\n",
    "            pos += 1\n",
    "        mask = (1 << pos)\n",
    "        a_val = 0\n",
    "        for i in range(n):\n",
    "            if nums[i] & mask:\n",
    "                a_val ^= nums[i]\n",
    "        b_val = a_val ^ val\n",
    "        return [a_val, b_val]"
   ]
  },
  {
   "cell_type": "code",
   "execution_count": 10,
   "metadata": {},
   "outputs": [
    {
     "data": {
      "text/plain": [
       "[3, 5]"
      ]
     },
     "execution_count": 10,
     "metadata": {},
     "output_type": "execute_result"
    }
   ],
   "source": [
    "solution = Solution()\n",
    "solution.singleNumber([1,2,1,3,2,5])"
   ]
  },
  {
   "cell_type": "code",
   "execution_count": 19,
   "metadata": {},
   "outputs": [
    {
     "data": {
      "text/plain": [
       "6"
      ]
     },
     "execution_count": 19,
     "metadata": {},
     "output_type": "execute_result"
    }
   ],
   "source": [
    "0^6"
   ]
  },
  {
   "cell_type": "code",
   "execution_count": 25,
   "metadata": {},
   "outputs": [
    {
     "data": {
      "text/plain": [
       "1"
      ]
     },
     "execution_count": 25,
     "metadata": {},
     "output_type": "execute_result"
    }
   ],
   "source": [
    "(-11) & 11"
   ]
  },
  {
   "cell_type": "code",
   "execution_count": 49,
   "metadata": {},
   "outputs": [
    {
     "data": {
      "text/plain": [
       "5"
      ]
     },
     "execution_count": 49,
     "metadata": {},
     "output_type": "execute_result"
    }
   ],
   "source": [
    "3^3^5"
   ]
  },
  {
   "cell_type": "code",
   "execution_count": null,
   "metadata": {},
   "outputs": [],
   "source": []
  }
 ],
 "metadata": {
  "kernelspec": {
   "display_name": "Python 3",
   "language": "python",
   "name": "python3"
  },
  "language_info": {
   "codemirror_mode": {
    "name": "ipython",
    "version": 3
   },
   "file_extension": ".py",
   "mimetype": "text/x-python",
   "name": "python",
   "nbconvert_exporter": "python",
   "pygments_lexer": "ipython3",
   "version": "3.6.2"
  }
 },
 "nbformat": 4,
 "nbformat_minor": 4
}
