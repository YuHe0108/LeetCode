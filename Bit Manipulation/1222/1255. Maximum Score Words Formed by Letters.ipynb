{
 "cells": [
  {
   "cell_type": "code",
   "execution_count": null,
   "metadata": {},
   "outputs": [],
   "source": []
  },
  {
   "cell_type": "code",
   "execution_count": null,
   "metadata": {},
   "outputs": [],
   "source": []
  },
  {
   "cell_type": "code",
   "execution_count": null,
   "metadata": {},
   "outputs": [],
   "source": []
  },
  {
   "cell_type": "code",
   "execution_count": 70,
   "metadata": {},
   "outputs": [],
   "source": [
    "from collections import Counter, defaultdict\n",
    "\n",
    "class Solution:\n",
    "    def maxScoreWords(self, words, letters, score) -> int:\n",
    "        def get_words(num):\n",
    "            w_list = []\n",
    "            cnt = 0\n",
    "            while num:\n",
    "                if num & 1:\n",
    "                    w_list.append(words[cnt])\n",
    "                num >>= 1\n",
    "                cnt += 1\n",
    "            return w_list\n",
    "        \n",
    "\n",
    "        def check_and_calc(words): #检查是否有效，如果是有效的，则计算分数\n",
    "            char_freq = Counter()\n",
    "            for w in words:\n",
    "                char_freq += w_letters[w]\n",
    "            for k, v in char_freq.items():\n",
    "                if v > counter[k]:\n",
    "                    return 0, False\n",
    "            \n",
    "            cnt = 0\n",
    "            for k, v in char_freq.items():\n",
    "                idx = char2idx(k)\n",
    "                cnt += score[idx] * v\n",
    "            return cnt, True\n",
    "        \n",
    "        # 计算每个单词的字母出现的次数\n",
    "        w_letters = {}\n",
    "        for w in words:\n",
    "            w_letters[w] = Counter(w)\n",
    "       \n",
    "        char2idx = lambda x: ord(x) - ord('a')\n",
    "        counter = Counter(letters)\n",
    "        res = 0 # 每一个单词都可以选择、不选择, 那就是 pow(2, len(words))\n",
    "        w_n = len(words)\n",
    "        # 外层循环：pow(2, 14) == 16384, get_words(): O(14)\n",
    "        for i in range(1, 1 << w_n): # 遍历每一种单词的选择情况，如果当前的选择是合法的，计算得分\n",
    "            w_list = get_words(i)\n",
    "            s, state = check_and_calc(w_list)\n",
    "            if state:\n",
    "                res = max(res, s)\n",
    "        return res"
   ]
  },
  {
   "cell_type": "code",
   "execution_count": null,
   "metadata": {},
   "outputs": [],
   "source": []
  },
  {
   "cell_type": "code",
   "execution_count": null,
   "metadata": {},
   "outputs": [],
   "source": []
  },
  {
   "cell_type": "code",
   "execution_count": 77,
   "metadata": {},
   "outputs": [],
   "source": [
    "from collections import Counter, defaultdict\n",
    "\n",
    "class Solution:\n",
    "    def maxScoreWords(self, words, letters, score) -> int:\n",
    "        def get_words(num):\n",
    "            w_list = []\n",
    "            cnt = 0\n",
    "            while num:\n",
    "                if num & 1:\n",
    "                    w_list.append(words[cnt])\n",
    "                num >>= 1\n",
    "                cnt += 1\n",
    "            return w_list\n",
    "        \n",
    "\n",
    "        def check_and_calc(words): #检查是否有效，如果是有效的，则计算分数\n",
    "            char_freq = defaultdict(int)\n",
    "            for w in words:\n",
    "                for l, t in w_letters[w].items():\n",
    "                    char_freq[l] += t\n",
    "            \n",
    "            # 验证是否有效\n",
    "            for k, v in char_freq.items():\n",
    "                if v > counter[k]:\n",
    "                    return 0, False\n",
    "                \n",
    "            # 如果有效计算得分\n",
    "            cnt = 0\n",
    "            for k, v in char_freq.items():\n",
    "                idx = char2idx(k)\n",
    "                cnt += score[idx] * v\n",
    "            return cnt, True\n",
    "        \n",
    "        # 计算每个单词的字母出现的次数\n",
    "        w_letters = {}\n",
    "        for w in words:\n",
    "            l_freq = defaultdict(int)\n",
    "            for l in w:\n",
    "                l_freq[l] += 1\n",
    "            w_letters[w] = l_freq\n",
    "       \n",
    "        char2idx = lambda x: ord(x) - ord('a')\n",
    "        counter = Counter(letters)\n",
    "        res = 0 # 每一个单词都可以选择、不选择, 那就是 pow(2, len(words))\n",
    "        w_n = len(words)\n",
    "        # 外层循环：pow(2, 14) == 16384, get_words(): O(14)\n",
    "        for i in range(1, 1 << w_n): # 遍历每一种单词的选择情况，如果当前的选择是合法的，计算得分\n",
    "            w_list = get_words(i)\n",
    "            s, state = check_and_calc(w_list)\n",
    "            if state:\n",
    "                res = max(res, s)\n",
    "        return res"
   ]
  },
  {
   "cell_type": "code",
   "execution_count": null,
   "metadata": {},
   "outputs": [],
   "source": []
  },
  {
   "cell_type": "code",
   "execution_count": null,
   "metadata": {},
   "outputs": [],
   "source": []
  },
  {
   "cell_type": "code",
   "execution_count": null,
   "metadata": {},
   "outputs": [],
   "source": [
    "class Solution:\n",
    "    def maxScoreWords(self, words: List[str], letters: List[str], score: List[int]) -> int:\n",
    "        self.wordsScore = [self.getWordScore(i, score) for i in words]\n",
    "        self.total = 0\n",
    "        self.maxTotal = 0\n",
    "        dic = {}\n",
    "        for i in letters:\n",
    "            dic[i] = dic.setdefault(i, 0) + 1\n",
    "        self.DFS(words, 0, dic)\n",
    "        return self.maxTotal\n",
    "    def getWordScore(self, word:str, score:List[int]) -> int:\n",
    "        s = 0\n",
    "        for i in word:\n",
    "            s += score[ord(i) - ord('a')]\n",
    "        return s\n",
    "    def DFS(self, words, index, dic):\n",
    "        if index >= len(words):\n",
    "            return\n",
    "        newDic = dic.copy()\n",
    "        if self.checkAndDeal(words[index], newDic):\n",
    "            self.total += self.wordsScore[index]\n",
    "            self.maxTotal = max(self.maxTotal, self.total)\n",
    "            self.DFS(words, index + 1, newDic)\n",
    "            self.total -= self.wordsScore[index]\n",
    "        self.DFS(words, index + 1, dic)\n",
    "\n",
    "    def checkAndDeal(self, word, dic):\n",
    "        for i in word:\n",
    "            if i not in dic or dic[i] - 1 < 0:\n",
    "                return False\n",
    "            else:\n",
    "                dic[i] = dic[i] - 1\n",
    "        return True"
   ]
  },
  {
   "cell_type": "code",
   "execution_count": 78,
   "metadata": {},
   "outputs": [
    {
     "data": {
      "text/plain": [
       "23"
      ]
     },
     "execution_count": 78,
     "metadata": {},
     "output_type": "execute_result"
    }
   ],
   "source": [
    "solution = Solution()\n",
    "solution.maxScoreWords(words = [\"dog\",\"cat\",\"dad\",\"good\"], \n",
    "                       letters = [\"a\",\"a\",\"c\",\"d\",\"d\",\"d\",\"g\",\"o\",\"o\"], \n",
    "                       score = [1,0,9,5,0,0,3,0,0,0,0,0,0,0,2,0,0,0,0,0,0,0,0,0,0,0])"
   ]
  },
  {
   "cell_type": "code",
   "execution_count": 13,
   "metadata": {},
   "outputs": [
    {
     "data": {
      "text/plain": [
       "16384"
      ]
     },
     "execution_count": 13,
     "metadata": {},
     "output_type": "execute_result"
    }
   ],
   "source": [
    "pow(2, 14)"
   ]
  },
  {
   "cell_type": "code",
   "execution_count": 28,
   "metadata": {},
   "outputs": [
    {
     "data": {
      "text/plain": [
       "Counter({'dog': 1, 'cat': 1, 'dad': 1, 'good': 1})"
      ]
     },
     "execution_count": 28,
     "metadata": {},
     "output_type": "execute_result"
    }
   ],
   "source": [
    "words = [\"dog\",\"cat\",\"dad\",\"good\"]\n",
    "Counter(words)"
   ]
  },
  {
   "cell_type": "code",
   "execution_count": null,
   "metadata": {},
   "outputs": [],
   "source": []
  }
 ],
 "metadata": {
  "kernelspec": {
   "display_name": "Python 3",
   "language": "python",
   "name": "python3"
  },
  "language_info": {
   "codemirror_mode": {
    "name": "ipython",
    "version": 3
   },
   "file_extension": ".py",
   "mimetype": "text/x-python",
   "name": "python",
   "nbconvert_exporter": "python",
   "pygments_lexer": "ipython3",
   "version": "3.6.2"
  }
 },
 "nbformat": 4,
 "nbformat_minor": 4
}
