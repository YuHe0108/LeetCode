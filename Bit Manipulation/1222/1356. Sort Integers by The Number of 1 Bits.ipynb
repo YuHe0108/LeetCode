{
 "cells": [
  {
   "cell_type": "code",
   "execution_count": null,
   "metadata": {},
   "outputs": [],
   "source": []
  },
  {
   "cell_type": "code",
   "execution_count": null,
   "metadata": {},
   "outputs": [],
   "source": []
  },
  {
   "cell_type": "code",
   "execution_count": 22,
   "metadata": {},
   "outputs": [],
   "source": [
    "from sortedcontainers import SortedList\n",
    "from collections import defaultdict\n",
    "from functools import lru_cache\n",
    "\n",
    "class Solution:\n",
    "    def sortByBits(self, arr):\n",
    "        @lru_cache(None)\n",
    "        def get_cnt(num):\n",
    "            ones = 0\n",
    "            while num:\n",
    "                v = ((num >> 0) & 1)\n",
    "                if v == 1:\n",
    "                    ones += 1\n",
    "                num >>= 1\n",
    "            return ones\n",
    "        \n",
    "        num_freq = defaultdict(SortedList)\n",
    "        for n in arr:\n",
    "            v = get_cnt(n)\n",
    "            num_freq[v].add(n)\n",
    "        res = []\n",
    "        num_freq = sorted(num_freq.items(), key=lambda x: x[0])\n",
    "        for k, v in num_freq:\n",
    "            res.extend(v)\n",
    "        return res"
   ]
  },
  {
   "cell_type": "code",
   "execution_count": 23,
   "metadata": {},
   "outputs": [
    {
     "data": {
      "text/plain": [
       "[0, 1, 2, 4, 8, 3, 5, 6, 7]"
      ]
     },
     "execution_count": 23,
     "metadata": {},
     "output_type": "execute_result"
    }
   ],
   "source": [
    "solution = Solution()\n",
    "solution.sortByBits([0,1,2,3,4,5,6,7,8])"
   ]
  },
  {
   "cell_type": "code",
   "execution_count": null,
   "metadata": {},
   "outputs": [],
   "source": []
  }
 ],
 "metadata": {
  "kernelspec": {
   "display_name": "Python 3",
   "language": "python",
   "name": "python3"
  },
  "language_info": {
   "codemirror_mode": {
    "name": "ipython",
    "version": 3
   },
   "file_extension": ".py",
   "mimetype": "text/x-python",
   "name": "python",
   "nbconvert_exporter": "python",
   "pygments_lexer": "ipython3",
   "version": "3.6.2"
  }
 },
 "nbformat": 4,
 "nbformat_minor": 4
}
