{
 "cells": [
  {
   "cell_type": "raw",
   "metadata": {},
   "source": [
    "解题思路：\n",
    "    求 两个数字的公共前缀"
   ]
  },
  {
   "cell_type": "code",
   "execution_count": null,
   "metadata": {},
   "outputs": [],
   "source": [
    " "
   ]
  },
  {
   "cell_type": "code",
   "execution_count": 56,
   "metadata": {},
   "outputs": [],
   "source": [
    "# print(bin(2147483647)[2:], len(bin(2147483647)[2:])) # 31\n",
    "class Solution:\n",
    "    def rangeBitwiseAnd(self, m: int, n: int) -> int:\n",
    "        if m == n:\n",
    "            return m\n",
    "        if m == 0:\n",
    "            return 0\n",
    "        bin_m, bin_n = bin(m)[2:], bin(n)[2:]\n",
    "        if len(bin_m) != len(bin_n): # 位次不同，肯定全为 0\n",
    "            return 0\n",
    "        else:\n",
    "            # 位次相同\n",
    "            return 1 << ((len(bin_m)) - 1)"
   ]
  },
  {
   "cell_type": "code",
   "execution_count": 76,
   "metadata": {},
   "outputs": [],
   "source": [
    "class Solution:\n",
    "    def rangeBitwiseAnd(self, m: int, n: int) -> int:\n",
    "        t = 0\n",
    "        while m != n:\n",
    "            m >>= 1\n",
    "            n >>= 1\n",
    "            t += 1\n",
    "        print(bin(6), bin(7))\n",
    "        return m << t #左移了多少位，在移回去"
   ]
  },
  {
   "cell_type": "code",
   "execution_count": 75,
   "metadata": {},
   "outputs": [
    {
     "name": "stdout",
     "output_type": "stream",
     "text": [
      "0b110 0b111\n"
     ]
    },
    {
     "data": {
      "text/plain": [
       "6"
      ]
     },
     "execution_count": 75,
     "metadata": {},
     "output_type": "execute_result"
    }
   ],
   "source": [
    "solution = Solution()\n",
    "solution.rangeBitwiseAnd(6, 7)"
   ]
  },
  {
   "cell_type": "code",
   "execution_count": null,
   "metadata": {},
   "outputs": [],
   "source": []
  },
  {
   "cell_type": "code",
   "execution_count": null,
   "metadata": {},
   "outputs": [],
   "source": []
  },
  {
   "cell_type": "code",
   "execution_count": null,
   "metadata": {},
   "outputs": [],
   "source": []
  },
  {
   "cell_type": "code",
   "execution_count": null,
   "metadata": {},
   "outputs": [],
   "source": []
  },
  {
   "cell_type": "code",
   "execution_count": null,
   "metadata": {},
   "outputs": [],
   "source": []
  },
  {
   "cell_type": "code",
   "execution_count": null,
   "metadata": {},
   "outputs": [],
   "source": []
  },
  {
   "cell_type": "code",
   "execution_count": null,
   "metadata": {},
   "outputs": [],
   "source": []
  },
  {
   "cell_type": "code",
   "execution_count": null,
   "metadata": {},
   "outputs": [],
   "source": []
  },
  {
   "cell_type": "code",
   "execution_count": null,
   "metadata": {},
   "outputs": [],
   "source": []
  },
  {
   "cell_type": "code",
   "execution_count": null,
   "metadata": {},
   "outputs": [],
   "source": []
  },
  {
   "cell_type": "code",
   "execution_count": null,
   "metadata": {},
   "outputs": [],
   "source": []
  },
  {
   "cell_type": "code",
   "execution_count": null,
   "metadata": {},
   "outputs": [],
   "source": []
  },
  {
   "cell_type": "code",
   "execution_count": 53,
   "metadata": {},
   "outputs": [
    {
     "data": {
      "text/plain": [
       "3"
      ]
     },
     "execution_count": 53,
     "metadata": {},
     "output_type": "execute_result"
    }
   ],
   "source": [
    "3 & 3"
   ]
  },
  {
   "cell_type": "code",
   "execution_count": 65,
   "metadata": {},
   "outputs": [
    {
     "name": "stdout",
     "output_type": "stream",
     "text": [
      "10 1010 10\n",
      "10 1011 11\n"
     ]
    }
   ],
   "source": [
    "a = 10\n",
    "for i in range(10, 11 + 1):\n",
    "    a &= i\n",
    "    print(a, bin(i)[2:], i)"
   ]
  },
  {
   "cell_type": "raw",
   "metadata": {},
   "source": [
    "00000 1\n",
    "00001 2\n",
    "00010 3 #\n",
    "00011 4\n",
    "00100 5\n",
    "00101 6\n",
    "00110 7\n",
    "00111 8\n",
    "01000 9 #\n",
    "01001 10\n",
    "01010 11\n",
    "01011 12\n",
    "01100 13\n",
    "01101 14\n",
    "01110 15\n",
    "01111 16\n",
    "10000 17 #\n",
    "10001 18\n",
    "10010 19\n",
    "10011 20"
   ]
  },
  {
   "cell_type": "code",
   "execution_count": null,
   "metadata": {},
   "outputs": [],
   "source": []
  }
 ],
 "metadata": {
  "kernelspec": {
   "display_name": "Python 3",
   "language": "python",
   "name": "python3"
  },
  "language_info": {
   "codemirror_mode": {
    "name": "ipython",
    "version": 3
   },
   "file_extension": ".py",
   "mimetype": "text/x-python",
   "name": "python",
   "nbconvert_exporter": "python",
   "pygments_lexer": "ipython3",
   "version": "3.6.2"
  }
 },
 "nbformat": 4,
 "nbformat_minor": 4
}
