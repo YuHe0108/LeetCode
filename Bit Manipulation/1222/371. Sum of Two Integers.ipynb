{
 "cells": [
  {
   "cell_type": "code",
   "execution_count": null,
   "metadata": {},
   "outputs": [],
   "source": []
  },
  {
   "cell_type": "code",
   "execution_count": null,
   "metadata": {},
   "outputs": [],
   "source": []
  },
  {
   "cell_type": "raw",
   "metadata": {},
   "source": [
    "异或获得无进位的加法；\n",
    "与操作获得进位位置，左移一位；\n",
    "循环直到进位为0；\n",
    "需要判断32位。"
   ]
  },
  {
   "cell_type": "raw",
   "metadata": {},
   "source": [
    "1、a + b 的问题拆分为 (a 和 b 的无进位结果) + (a 和 b 的进位结果)\n",
    "2、无进位加法使用异或运算计算得出\n",
    "3、进位结果使用与运算和移位运算计算得出\n",
    "4、循环此过程，直到进位为 0"
   ]
  },
  {
   "cell_type": "code",
   "execution_count": 78,
   "metadata": {},
   "outputs": [],
   "source": [
    "class Solution:\n",
    "    def getSum(self, a: int, b: int) -> int:\n",
    "        mask = 0xFFFFFFFF # pow(2, 32) - 1\n",
    "        print(mask, a, mask & a)\n",
    "        while mask & b:\n",
    "            carry = a & b # 计算进位\n",
    "            print(a, b, bin(a)[2:], bin(b)[2:])\n",
    "            a = a ^ b # 异或 的一个重要特性是 无进位加法\n",
    "            print(a, bin(a)[2:])\n",
    "            b = carry << 1\n",
    "            print(b, bin(b)[2:])\n",
    "        return a & mask if b > mask else a"
   ]
  },
  {
   "cell_type": "code",
   "execution_count": 79,
   "metadata": {},
   "outputs": [
    {
     "name": "stdout",
     "output_type": "stream",
     "text": [
      "4294967295 -10 4294967286\n",
      "-10 1 b1010 1\n",
      "-9 b1001\n",
      "0 0\n"
     ]
    },
    {
     "data": {
      "text/plain": [
       "-9"
      ]
     },
     "execution_count": 79,
     "metadata": {},
     "output_type": "execute_result"
    }
   ],
   "source": [
    "solution = Solution()\n",
    "solution.getSum(-10, 1)"
   ]
  },
  {
   "cell_type": "code",
   "execution_count": 4,
   "metadata": {},
   "outputs": [
    {
     "name": "stdout",
     "output_type": "stream",
     "text": [
      "0b10 0b11\n"
     ]
    }
   ],
   "source": [
    "print(bin(2), bin(3))"
   ]
  },
  {
   "cell_type": "code",
   "execution_count": 53,
   "metadata": {},
   "outputs": [
    {
     "data": {
      "text/plain": [
       "7"
      ]
     },
     "execution_count": 53,
     "metadata": {},
     "output_type": "execute_result"
    }
   ],
   "source": [
    "6 ^ 1"
   ]
  },
  {
   "cell_type": "raw",
   "metadata": {},
   "source": [
    "1 5:\n",
    "    001 101\n",
    "4:\n",
    "    100\n",
    "2: # 进位\n",
    "    10\n",
    "    \n",
    "4 2:\n",
    "    100 10\n",
    "6:\n",
    "    110\n",
    "0: # 进位\n",
    "    0"
   ]
  },
  {
   "cell_type": "code",
   "execution_count": null,
   "metadata": {},
   "outputs": [],
   "source": []
  }
 ],
 "metadata": {
  "kernelspec": {
   "display_name": "Python 3",
   "language": "python",
   "name": "python3"
  },
  "language_info": {
   "codemirror_mode": {
    "name": "ipython",
    "version": 3
   },
   "file_extension": ".py",
   "mimetype": "text/x-python",
   "name": "python",
   "nbconvert_exporter": "python",
   "pygments_lexer": "ipython3",
   "version": "3.6.2"
  }
 },
 "nbformat": 4,
 "nbformat_minor": 4
}
