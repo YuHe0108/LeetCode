{
 "cells": [
  {
   "cell_type": "code",
   "execution_count": 6,
   "metadata": {},
   "outputs": [
    {
     "data": {
      "text/plain": [
       "0"
      ]
     },
     "execution_count": 6,
     "metadata": {},
     "output_type": "execute_result"
    }
   ],
   "source": [
    "0 << 2"
   ]
  },
  {
   "cell_type": "code",
   "execution_count": null,
   "metadata": {},
   "outputs": [],
   "source": []
  },
  {
   "cell_type": "code",
   "execution_count": 48,
   "metadata": {},
   "outputs": [],
   "source": [
    "from typing import List\n",
    "\n",
    "class TrieNode:\n",
    "    def __init__(self):\n",
    "        self.next = [None, None] # self.next[0] 表示 0， self.next[1] 表示1\n",
    "\n",
    "class Solution:\n",
    "    def maximizeXor(self, nums: List[int], queries: List[List[int]]) -> List[int]:\n",
    "        nums.sort()\n",
    "        \n",
    "        # 按照 queries[1] 的大小进行排序\n",
    "        # 按照 queries[1] 的大小进行排序\n",
    "        queries = [(a, b, i) for i, (a, b) in enumerate(queries)]\n",
    "        queries.sort(key=lambda x:x[1])\n",
    "        \n",
    "        res = [-1] * len(queries) # 最后的结果\n",
    "        root = TrieNode() # 字典树\n",
    "        i = 0 # 向trie 中加入了多少个数字了\n",
    "        for val, min_val, idx in queries: # 遍历 new_queries\n",
    "            while i < len(nums) and nums[i] <= min_val: # 可以将当前数字加入字典树中\n",
    "                node = root\n",
    "                for k in range(31, -1, -1): # 从数字的最高位开始匹配\n",
    "                    bit_val = (nums[i] >> k) & 1 # nums[i] 在 bit_nums中第k位是多少\n",
    "                    if node.next[bit_val] is None:\n",
    "                        node.next[bit_val] = TrieNode()\n",
    "                    node = node.next[bit_val]\n",
    "                i += 1 # 加入下一个数字\n",
    "            \n",
    "            # 不能加入数字，说明min_val小于nums中的任何数字\n",
    "            if i == 0:\n",
    "                continue\n",
    "            tar = 0 # 与val异或值最大的数字\n",
    "            node = root\n",
    "            for k in range(31, -1, -1):\n",
    "                bit_val = 1 - ((val >> k) & 1)\n",
    "                if node.next[bit_val]:\n",
    "                    tar = tar * 2 + 1\n",
    "                    node = node.next[bit_val]\n",
    "                else:\n",
    "                    tar = tar * 2\n",
    "                    node = node.next[1-bit_val]\n",
    "            res[idx] = tar\n",
    "        return res"
   ]
  },
  {
   "cell_type": "code",
   "execution_count": 49,
   "metadata": {},
   "outputs": [
    {
     "data": {
      "text/plain": [
       "[15, -1, 5]"
      ]
     },
     "execution_count": 49,
     "metadata": {},
     "output_type": "execute_result"
    }
   ],
   "source": [
    "solution = Solution()\n",
    "solution.maximizeXor(nums = [5,2,4,6,6,3], queries = [[12,4],[8,1],[6,3]])"
   ]
  },
  {
   "cell_type": "code",
   "execution_count": null,
   "metadata": {},
   "outputs": [],
   "source": []
  },
  {
   "cell_type": "code",
   "execution_count": 42,
   "metadata": {},
   "outputs": [],
   "source": [
    "from typing import List\n",
    "\n",
    "class TrieNode:\n",
    "    def __init__(self):\n",
    "        self.next = [None, None] # self.next[0] 表示 0， self.next[1] 表示1\n",
    "\n",
    "class Solution:\n",
    "    def maximizeXor(self, nums: List[int], queries: List[List[int]]) -> List[int]:\n",
    "        nums.sort()\n",
    "        \n",
    "        # 按照 queries[1] 的大小进行排序\n",
    "        queries = [(a, b, i) for i, (a, b) in enumerate(queries)]\n",
    "        queries.sort(key=lambda x:x[1])\n",
    "        \n",
    "        root = TrieNode() # 字典树\n",
    "        for i in range(len(nums)):\n",
    "            node = root\n",
    "            for k in range(31, -1, -1): # 从数字的最高位开始匹配\n",
    "                bit_val = (nums[i] >> k) & 1 # nums[i] 在 bit_nums中第k位是多少\n",
    "                if node.next[bit_val] is None:\n",
    "                    node.next[bit_val] = TrieNode()\n",
    "                node = node.next[bit_val]\n",
    "        \n",
    "        res = [-1] * len(queries) # 最后的结果\n",
    "        for val, min_val, idx in new_queries: # 遍历 new_queries\n",
    "            # 不能加入数字，说明min_val小于nums中的任何数字\n",
    "            if min_val < min(nums):\n",
    "                continue\n",
    "            tar = 0 # 与val异或值最大的数字\n",
    "            node = root\n",
    "            for k in range(31, -1, -1):\n",
    "                bit_val = 1 - ((val >> k) & 1)\n",
    "                if node.next[bit_val]:\n",
    "                    tar = tar * 2 + 1\n",
    "                    node = node.next[bit_val]\n",
    "                else:\n",
    "                    tar = tar * 2\n",
    "                    node = node.next[1-bit_val]\n",
    "            res[idx] = tar\n",
    "        return res"
   ]
  },
  {
   "cell_type": "code",
   "execution_count": 43,
   "metadata": {},
   "outputs": [
    {
     "data": {
      "text/plain": [
       "[15, -1, 5]"
      ]
     },
     "execution_count": 43,
     "metadata": {},
     "output_type": "execute_result"
    }
   ],
   "source": [
    "solution = Solution()\n",
    "solution.maximizeXor(nums = [5,2,4,6,6,3], queries = [[12,4],[8,1],[6,3]])"
   ]
  },
  {
   "cell_type": "code",
   "execution_count": null,
   "metadata": {},
   "outputs": [],
   "source": []
  },
  {
   "cell_type": "code",
   "execution_count": null,
   "metadata": {},
   "outputs": [],
   "source": [
    "class Solution:\n",
    "    def maximizeXor(self, nums: List[int], queries: List[List[int]]) -> List[int]:\n",
    "        nums.sort()\n",
    "        def query(x, m):\n",
    "            start, stop = 0, bisect_right(nums, m)\n",
    "            num = 0\n",
    "            bit = 2 ** m.bit_length()\n",
    "            while bit:\n",
    "                plus = num + bit\n",
    "                if nums[start] >= plus:\n",
    "                    num = plus\n",
    "                elif nums[stop-1] >= plus:\n",
    "                    cut = bisect_left(nums, plus, start, stop)\n",
    "                    if x & bit:\n",
    "                        stop = cut\n",
    "                    else:\n",
    "                        start = cut\n",
    "                        num = plus\n",
    "                bit //= 2\n",
    "            return num ^ x\n",
    "        return [query(x, m) if nums[0] <= m else -1 for x, m in queries]"
   ]
  },
  {
   "cell_type": "code",
   "execution_count": null,
   "metadata": {},
   "outputs": [],
   "source": []
  },
  {
   "cell_type": "code",
   "execution_count": 4,
   "metadata": {},
   "outputs": [
    {
     "data": {
      "text/plain": [
       "0"
      ]
     },
     "execution_count": 4,
     "metadata": {},
     "output_type": "execute_result"
    }
   ],
   "source": [
    "1 ^ 1"
   ]
  },
  {
   "cell_type": "code",
   "execution_count": 7,
   "metadata": {},
   "outputs": [],
   "source": [
    "import math"
   ]
  },
  {
   "cell_type": "code",
   "execution_count": 10,
   "metadata": {},
   "outputs": [
    {
     "data": {
      "text/plain": [
       "29.897352853986263"
      ]
     },
     "execution_count": 10,
     "metadata": {},
     "output_type": "execute_result"
    }
   ],
   "source": [
    "math.log(pow(10, 9), 2)"
   ]
  },
  {
   "cell_type": "code",
   "execution_count": 14,
   "metadata": {},
   "outputs": [
    {
     "data": {
      "text/plain": [
       "536870912"
      ]
     },
     "execution_count": 14,
     "metadata": {},
     "output_type": "execute_result"
    }
   ],
   "source": [
    "pow(2, 29)"
   ]
  },
  {
   "cell_type": "code",
   "execution_count": 25,
   "metadata": {},
   "outputs": [
    {
     "data": {
      "text/plain": [
       "'0b110'"
      ]
     },
     "execution_count": 25,
     "metadata": {},
     "output_type": "execute_result"
    }
   ],
   "source": [
    "bin(6)"
   ]
  },
  {
   "cell_type": "code",
   "execution_count": 30,
   "metadata": {},
   "outputs": [
    {
     "data": {
      "text/plain": [
       "1"
      ]
     },
     "execution_count": 30,
     "metadata": {},
     "output_type": "execute_result"
    }
   ],
   "source": [
    "(6 >> 1) & 1"
   ]
  },
  {
   "cell_type": "code",
   "execution_count": 27,
   "metadata": {},
   "outputs": [
    {
     "data": {
      "text/plain": [
       "'0b11'"
      ]
     },
     "execution_count": 27,
     "metadata": {},
     "output_type": "execute_result"
    }
   ],
   "source": [
    "bin(3)"
   ]
  },
  {
   "cell_type": "code",
   "execution_count": null,
   "metadata": {},
   "outputs": [],
   "source": []
  }
 ],
 "metadata": {
  "kernelspec": {
   "display_name": "Python 3",
   "language": "python",
   "name": "python3"
  },
  "language_info": {
   "codemirror_mode": {
    "name": "ipython",
    "version": 3
   },
   "file_extension": ".py",
   "mimetype": "text/x-python",
   "name": "python",
   "nbconvert_exporter": "python",
   "pygments_lexer": "ipython3",
   "version": "3.6.2"
  }
 },
 "nbformat": 4,
 "nbformat_minor": 4
}
