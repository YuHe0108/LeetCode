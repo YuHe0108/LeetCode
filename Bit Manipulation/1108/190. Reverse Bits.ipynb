{
 "cells": [
  {
   "cell_type": "raw",
   "metadata": {},
   "source": [
    "说明：\n",
    "    颠倒给定的 32 位无符号整数的二进制位。\n",
    "\n",
    "示例 1：\n",
    "    输入: 00000010100101000001111010011100\n",
    "    输出: 00111001011110000010100101000000\n",
    "    解释: 输入的二进制串 00000010100101000001111010011100 表示无符号整数 43261596，\n",
    "         因此返回 964176192，其二进制表示形式为 00111001011110000010100101000000。\n",
    "\n",
    "示例 2：\n",
    "    输入：11111111111111111111111111111101\n",
    "    输出：10111111111111111111111111111111\n",
    "    解释：输入的二进制串 11111111111111111111111111111101 表示无符号整数 4294967293，\n",
    "         因此返回 3221225471 其二进制表示形式为 10111111111111111111111111111111 。\n",
    "\n",
    "提示：\n",
    "    请注意，在某些语言（如 Java）中，没有无符号整数类型。\n",
    "    在这种情况下，输入和输出都将被指定为有符号整数类型，并且不应影响您的实现，因为无论整数是有符号的还是无符号的，\n",
    "    其内部的二进制表示形式都是相同的。\n",
    "    在 Java 中，编译器使用二进制补码记法来表示有符号整数。\n",
    "    因此，在上面的 示例 2 中，输入表示有符号整数 -3，输出表示有符号整数 -1073741825。\n",
    "\n",
    "进阶:\n",
    "    如果多次调用这个函数，你将如何优化你的算法？"
   ]
  },
  {
   "cell_type": "code",
   "execution_count": 20,
   "metadata": {},
   "outputs": [],
   "source": [
    "class Solution:\n",
    "    def reverseBits(self, n: int) -> int:\n",
    "        res, power = 0, 31\n",
    "        print(bin(n)[2:])\n",
    "        while n:\n",
    "            res += (n & 1) << power # (n & 1)的目的是为了获取 n 的二进制的最后一位\n",
    "            print(n & 1)\n",
    "            n >>= 1\n",
    "            power -= 1\n",
    "            print(bin(n)[2:])\n",
    "        return res"
   ]
  },
  {
   "cell_type": "code",
   "execution_count": 21,
   "metadata": {},
   "outputs": [
    {
     "name": "stdout",
     "output_type": "stream",
     "text": [
      "10100101000001111010011100\n",
      "0\n",
      "1010010100000111101001110\n",
      "0\n",
      "101001010000011110100111\n",
      "1\n",
      "10100101000001111010011\n",
      "1\n",
      "1010010100000111101001\n",
      "1\n",
      "101001010000011110100\n",
      "0\n",
      "10100101000001111010\n",
      "0\n",
      "1010010100000111101\n",
      "1\n",
      "101001010000011110\n",
      "0\n",
      "10100101000001111\n",
      "1\n",
      "1010010100000111\n",
      "1\n",
      "101001010000011\n",
      "1\n",
      "10100101000001\n",
      "1\n",
      "1010010100000\n",
      "0\n",
      "101001010000\n",
      "0\n",
      "10100101000\n",
      "0\n",
      "1010010100\n",
      "0\n",
      "101001010\n",
      "0\n",
      "10100101\n",
      "1\n",
      "1010010\n",
      "0\n",
      "101001\n",
      "1\n",
      "10100\n",
      "0\n",
      "1010\n",
      "0\n",
      "101\n",
      "1\n",
      "10\n",
      "0\n",
      "1\n",
      "1\n",
      "0\n"
     ]
    },
    {
     "data": {
      "text/plain": [
       "964176192"
      ]
     },
     "execution_count": 21,
     "metadata": {},
     "output_type": "execute_result"
    }
   ],
   "source": [
    "solution = Solution()\n",
    "solution.reverseBits(43261596)"
   ]
  },
  {
   "cell_type": "code",
   "execution_count": null,
   "metadata": {},
   "outputs": [],
   "source": []
  },
  {
   "cell_type": "code",
   "execution_count": null,
   "metadata": {},
   "outputs": [],
   "source": []
  }
 ],
 "metadata": {
  "kernelspec": {
   "display_name": "Python 3",
   "language": "python",
   "name": "python3"
  },
  "language_info": {
   "codemirror_mode": {
    "name": "ipython",
    "version": 3
   },
   "file_extension": ".py",
   "mimetype": "text/x-python",
   "name": "python",
   "nbconvert_exporter": "python",
   "pygments_lexer": "ipython3",
   "version": "3.6.2"
  }
 },
 "nbformat": 4,
 "nbformat_minor": 4
}
