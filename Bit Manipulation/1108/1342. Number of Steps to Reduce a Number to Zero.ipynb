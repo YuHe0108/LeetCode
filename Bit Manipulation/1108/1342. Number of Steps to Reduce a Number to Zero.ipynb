{
 "cells": [
  {
   "cell_type": "raw",
   "metadata": {},
   "source": [
    "    给你一个非负整数 num ，请你返回将它变成 0 所需要的步数。 \n",
    "    如果当前数字是偶数，你需要把它除以 2 ；否则，减去 1 。\n",
    "\n",
    "示例 1：\n",
    "    输入：num = 14\n",
    "    输出：6\n",
    "    解释：\n",
    "        步骤 1) 14 是偶数，除以 2 得到 7 。\n",
    "        步骤 2） 7 是奇数，减 1 得到 6 。\n",
    "        步骤 3） 6 是偶数，除以 2 得到 3 。\n",
    "        步骤 4） 3 是奇数，减 1 得到 2 。\n",
    "        步骤 5） 2 是偶数，除以 2 得到 1 。\n",
    "        步骤 6） 1 是奇数，减 1 得到 0 。\n",
    "\n",
    "示例 2：\n",
    "    输入：num = 8\n",
    "    输出：4\n",
    "    解释：\n",
    "        步骤 1） 8 是偶数，除以 2 得到 4 。\n",
    "        步骤 2） 4 是偶数，除以 2 得到 2 。\n",
    "        步骤 3） 2 是偶数，除以 2 得到 1 。\n",
    "        步骤 4） 1 是奇数，减 1 得到 0 。\n",
    "\n",
    "示例 3：\n",
    "    输入：num = 123\n",
    "    输出：12\n",
    "\n",
    "提示：\n",
    "    0 <= num <= 10^6"
   ]
  },
  {
   "cell_type": "code",
   "execution_count": 27,
   "metadata": {},
   "outputs": [],
   "source": [
    "class Solution:\n",
    "    def numberOfSteps (self, num: int) -> int:\n",
    "        cnt = 0\n",
    "        while num != 0:\n",
    "            if num % 2 == 0:\n",
    "                num >>= 1\n",
    "            else:\n",
    "                num -= 1\n",
    "                print(bin(num))\n",
    "            cnt += 1\n",
    "        return cnt"
   ]
  },
  {
   "cell_type": "code",
   "execution_count": 36,
   "metadata": {},
   "outputs": [
    {
     "name": "stdout",
     "output_type": "stream",
     "text": [
      "0b110\n",
      "0b10\n",
      "0b0\n"
     ]
    },
    {
     "data": {
      "text/plain": [
       "5"
      ]
     },
     "execution_count": 36,
     "metadata": {},
     "output_type": "execute_result"
    }
   ],
   "source": [
    "solution = Solution()\n",
    "solution.numberOfSteps(7)"
   ]
  },
  {
   "cell_type": "code",
   "execution_count": null,
   "metadata": {},
   "outputs": [],
   "source": [
    "class Solution:\n",
    "    def numberOfSteps (self, num: int) -> int:\n",
    "        if not num:\n",
    "            return 0\n",
    "        return bin(num).count('1') + (num.bit_length() - 1) # '1'是偶数"
   ]
  },
  {
   "cell_type": "code",
   "execution_count": 9,
   "metadata": {},
   "outputs": [],
   "source": [
    "num = 10"
   ]
  },
  {
   "cell_type": "code",
   "execution_count": 35,
   "metadata": {},
   "outputs": [
    {
     "name": "stdout",
     "output_type": "stream",
     "text": [
      "0b111\n",
      "0b110\n",
      "0b11\n",
      "0b10\n"
     ]
    }
   ],
   "source": [
    "print(bin(7))\n",
    "print(bin(6))\n",
    "print(bin(3))\n",
    "print(bin(2))"
   ]
  },
  {
   "cell_type": "code",
   "execution_count": 11,
   "metadata": {},
   "outputs": [
    {
     "data": {
      "text/plain": [
       "4"
      ]
     },
     "execution_count": 11,
     "metadata": {},
     "output_type": "execute_result"
    }
   ],
   "source": [
    "num.bit_length()"
   ]
  },
  {
   "cell_type": "code",
   "execution_count": null,
   "metadata": {},
   "outputs": [],
   "source": []
  }
 ],
 "metadata": {
  "kernelspec": {
   "display_name": "Python 3",
   "language": "python",
   "name": "python3"
  },
  "language_info": {
   "codemirror_mode": {
    "name": "ipython",
    "version": 3
   },
   "file_extension": ".py",
   "mimetype": "text/x-python",
   "name": "python",
   "nbconvert_exporter": "python",
   "pygments_lexer": "ipython3",
   "version": "3.6.2"
  }
 },
 "nbformat": 4,
 "nbformat_minor": 4
}
