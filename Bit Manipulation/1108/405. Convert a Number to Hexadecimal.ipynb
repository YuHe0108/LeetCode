{
 "cells": [
  {
   "cell_type": "raw",
   "metadata": {},
   "source": [
    "说明：\n",
    "    给定一个整数，编写一个算法将这个数转换为十六进制数。\n",
    "    对于负整数，我们通常使用 补码运算 方法。\n",
    "\n",
    "注意:\n",
    "    1、十六进制中所有字母(a-f)都必须是小写。\n",
    "    2、十六进制字符串中不能包含多余的前导零。如果要转化的数为0，那么以单个字符'0'来表示；\n",
    "       对于其他情况，十六进制字符串中的第一个字符将不会是0字符。 \n",
    "    3、给定的数确保在32位有符号整数范围内。\n",
    "    4、不能使用任何由库提供的将数字直接转换或格式化为十六进制的方法。\n",
    "\n",
    "示例 1：\n",
    "    输入:\n",
    "        26\n",
    "    输出:\n",
    "        \"1a\"\n",
    "\n",
    "示例 2：\n",
    "    输入:\n",
    "        -1\n",
    "    输出:\n",
    "        \"ffffffff\""
   ]
  },
  {
   "cell_type": "markdown",
   "metadata": {},
   "source": [
    "<img src='405.jpg'>"
   ]
  },
  {
   "cell_type": "code",
   "execution_count": 29,
   "metadata": {},
   "outputs": [],
   "source": [
    "class Solution:\n",
    "    def toHex(self, num: int) -> str:\n",
    "        hex_num = '0123456789abcdef'\n",
    "        if num == 0: return '0'\n",
    "        \n",
    "        cnt = 0\n",
    "        h = ''\n",
    "        while cnt < 8 and num:\n",
    "            h = hex_num[num & 15] + h\n",
    "            num >>= 4\n",
    "            cnt += 1\n",
    "        return h"
   ]
  },
  {
   "cell_type": "code",
   "execution_count": 30,
   "metadata": {},
   "outputs": [
    {
     "name": "stdout",
     "output_type": "stream",
     "text": [
      "0b1111\n"
     ]
    },
    {
     "data": {
      "text/plain": [
       "'1a'"
      ]
     },
     "execution_count": 30,
     "metadata": {},
     "output_type": "execute_result"
    }
   ],
   "source": [
    "solution = Solution()\n",
    "solution.toHex(26)"
   ]
  },
  {
   "cell_type": "code",
   "execution_count": null,
   "metadata": {},
   "outputs": [],
   "source": []
  }
 ],
 "metadata": {
  "kernelspec": {
   "display_name": "Python 3",
   "language": "python",
   "name": "python3"
  },
  "language_info": {
   "codemirror_mode": {
    "name": "ipython",
    "version": 3
   },
   "file_extension": ".py",
   "mimetype": "text/x-python",
   "name": "python",
   "nbconvert_exporter": "python",
   "pygments_lexer": "ipython3",
   "version": "3.6.2"
  }
 },
 "nbformat": 4,
 "nbformat_minor": 4
}
