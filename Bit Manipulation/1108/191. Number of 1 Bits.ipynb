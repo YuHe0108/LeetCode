{
 "cells": [
  {
   "cell_type": "raw",
   "metadata": {},
   "source": [
    "说明：\n",
    "    编写一个函数，输入是一个无符号整数，返回其二进制表达式中数字位数为 ‘1’ 的个数（也被称为汉明重量）。\n",
    "\n",
    "示例 1：\n",
    "    输入：00000000000000000000000000001011\n",
    "    输出：3\n",
    "    解释：输入的二进制串 00000000000000000000000000001011 中，共有三位为 '1'。\n",
    "\n",
    "示例 2：\n",
    "    输入：00000000000000000000000010000000\n",
    "    输出：1\n",
    "    解释：输入的二进制串 00000000000000000000000010000000 中，共有一位为 '1'。\n",
    "\n",
    "示例 3：\n",
    "    输入：11111111111111111111111111111101\n",
    "    输出：31\n",
    "    解释：输入的二进制串 11111111111111111111111111111101 中，共有 31 位为 '1'。\n",
    "\n",
    "提示：\n",
    "    请注意，在某些语言（如 Java）中，没有无符号整数类型。在这种情况下，输入和输出都将被指定为有符号整数类型，并且不应影响您的实现，因为无论整数是有符号的还是无符号的，其内部的二进制表示形式都是相同的。\n",
    "    在 Java 中，编译器使用二进制补码记法来表示有符号整数。因此，在上面的 示例 3 中，输入表示有符号整数 -3。\n",
    "\n",
    "进阶:\n",
    "    如果多次调用这个函数，你将如何优化你的算法？"
   ]
  },
  {
   "cell_type": "raw",
   "metadata": {},
   "source": [
    "【分析】我们将一个整数减去1，都是把最右边的1变成0，如果它右边还有0，所有的0全部变成1，\n",
    "       但是它左边数字均保持不变。我们把这个整数和它减去1的结果想&的话，可以得到最右边的1。"
   ]
  },
  {
   "cell_type": "code",
   "execution_count": 8,
   "metadata": {},
   "outputs": [],
   "source": [
    "class Solution:\n",
    "    def hammingWeight(self, n: int) -> int:\n",
    "        s = 0\n",
    "        while n:\n",
    "            print(bin(n)[2:], bin(n-1)[2:], '')\n",
    "            n &= (n-1)\n",
    "            print(bin(n)[2:])\n",
    "            s += 1\n",
    "        return s"
   ]
  },
  {
   "cell_type": "code",
   "execution_count": 6,
   "metadata": {},
   "outputs": [],
   "source": [
    "class Solution:\n",
    "    def hammingWeight(self, n: int) -> int:\n",
    "        s = 0\n",
    "        while n:\n",
    "            if n & 1:\n",
    "                s += 1\n",
    "            n >>= 1\n",
    "        return s"
   ]
  },
  {
   "cell_type": "code",
   "execution_count": 11,
   "metadata": {},
   "outputs": [
    {
     "name": "stdout",
     "output_type": "stream",
     "text": [
      "1101110 1101101 \n",
      "1101100\n",
      "1101100 1101011 \n",
      "1101000\n",
      "1101000 1100111 \n",
      "1100000\n",
      "1100000 1011111 \n",
      "1000000\n",
      "1000000 111111 \n",
      "0\n"
     ]
    },
    {
     "data": {
      "text/plain": [
       "5"
      ]
     },
     "execution_count": 11,
     "metadata": {},
     "output_type": "execute_result"
    }
   ],
   "source": [
    "solution = Solution()\n",
    "solution.hammingWeight(110)"
   ]
  },
  {
   "cell_type": "code",
   "execution_count": null,
   "metadata": {},
   "outputs": [],
   "source": []
  }
 ],
 "metadata": {
  "kernelspec": {
   "display_name": "Python 3",
   "language": "python",
   "name": "python3"
  },
  "language_info": {
   "codemirror_mode": {
    "name": "ipython",
    "version": 3
   },
   "file_extension": ".py",
   "mimetype": "text/x-python",
   "name": "python",
   "nbconvert_exporter": "python",
   "pygments_lexer": "ipython3",
   "version": "3.6.2"
  }
 },
 "nbformat": 4,
 "nbformat_minor": 4
}
