{
 "cells": [
  {
   "cell_type": "code",
   "execution_count": null,
   "metadata": {},
   "outputs": [],
   "source": []
  },
  {
   "cell_type": "code",
   "execution_count": null,
   "metadata": {},
   "outputs": [],
   "source": []
  },
  {
   "cell_type": "code",
   "execution_count": null,
   "metadata": {},
   "outputs": [],
   "source": []
  },
  {
   "cell_type": "code",
   "execution_count": 32,
   "metadata": {},
   "outputs": [],
   "source": [
    "from typing import List\n",
    "from collections import deque\n",
    "\n",
    "class Solution:\n",
    "    def largestMerge(self, word1: str, word2: str) -> str:\n",
    "        def check(str1, str2):\n",
    "            l1, l2 = len(str1), len(str2)\n",
    "            for i in range(min(l1, l2)):\n",
    "                if str1[i] == str2[i]:\n",
    "                    continue\n",
    "                if str1[i] > str2[i]:\n",
    "                    return 1\n",
    "                elif str1[i] < str2[i]:\n",
    "                    return 2\n",
    "            if l1 > l2:\n",
    "                return 1\n",
    "            return 2\n",
    "        \n",
    "        dq1 = deque(word1)\n",
    "        dq2 = deque(word2)\n",
    "        res = ''\n",
    "        while dq1 and dq2:\n",
    "            v1, v2 = dq1[0], dq2[0]\n",
    "            if v1 > v2:\n",
    "                res += dq1.popleft()\n",
    "            elif v1 < v2:\n",
    "                res += dq2.popleft()\n",
    "            else:\n",
    "                if check(dq1, dq2) == 1:\n",
    "                    res += dq1.popleft()\n",
    "                else:\n",
    "                    res += dq2.popleft()\n",
    "        if dq1:\n",
    "            res += ''.join(dq1)\n",
    "        if dq2:\n",
    "            res += ''.join(dq2)\n",
    "        return res"
   ]
  },
  {
   "cell_type": "code",
   "execution_count": 33,
   "metadata": {},
   "outputs": [
    {
     "data": {
      "text/plain": [
       "'guguuuuuuuuuuuuuuguguuuuguugguggggggguuggguuggggggg'"
      ]
     },
     "execution_count": 33,
     "metadata": {},
     "output_type": "execute_result"
    }
   ],
   "source": [
    "solution = Solution()\n",
    "solution.largestMerge(\"guguuuuuuuuuuuuuuguguuuuguug\", \"gguggggggguuggguugggggg\")"
   ]
  },
  {
   "cell_type": "code",
   "execution_count": 3,
   "metadata": {},
   "outputs": [
    {
     "data": {
      "text/plain": [
       "True"
      ]
     },
     "execution_count": 3,
     "metadata": {},
     "output_type": "execute_result"
    }
   ],
   "source": [
    "\"guguuuuuuuuuuuuuuguguuuuguugguggggggguuggguuggggggg\"\n",
    " guguuuuuuuuuuuuuuguguuuuguu"
   ]
  },
  {
   "cell_type": "code",
   "execution_count": null,
   "metadata": {},
   "outputs": [],
   "source": [
    "\"g\"\n",
    "\"gguggggggguuggguugggggg\"\n",
    "guguuuuuuuuuuuuuuguguuuuguu"
   ]
  }
 ],
 "metadata": {
  "kernelspec": {
   "display_name": "Python 3",
   "language": "python",
   "name": "python3"
  },
  "language_info": {
   "codemirror_mode": {
    "name": "ipython",
    "version": 3
   },
   "file_extension": ".py",
   "mimetype": "text/x-python",
   "name": "python",
   "nbconvert_exporter": "python",
   "pygments_lexer": "ipython3",
   "version": "3.6.2"
  }
 },
 "nbformat": 4,
 "nbformat_minor": 4
}
