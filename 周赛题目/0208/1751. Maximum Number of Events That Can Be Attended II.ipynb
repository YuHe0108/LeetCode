{
 "cells": [
  {
   "cell_type": "code",
   "execution_count": null,
   "metadata": {},
   "outputs": [],
   "source": []
  },
  {
   "cell_type": "code",
   "execution_count": null,
   "metadata": {},
   "outputs": [],
   "source": []
  },
  {
   "cell_type": "code",
   "execution_count": null,
   "metadata": {},
   "outputs": [],
   "source": []
  },
  {
   "cell_type": "code",
   "execution_count": 25,
   "metadata": {},
   "outputs": [],
   "source": [
    "from typing import List\n",
    "from functools import lru_cache\n",
    "import bisect\n",
    "\n",
    "class Solution:\n",
    "    def maxValue(self, events: List[List[int]], k: int) -> int:\n",
    "        @lru_cache(None)\n",
    "        def dp(i, k):\n",
    "            if i == n or k == 0:\n",
    "                return 0\n",
    "            # 不参加 i-th 会议\n",
    "            ans = dp(i+1, k)\n",
    "            # 参加第 i-th 会议\n",
    "            next_j = bisect.bisect_left(events, [events[i][1] + 1])\n",
    "            ans = max(ans, events[i][2] + dp(next_j, k-1))\n",
    "            return ans\n",
    "            \n",
    "        events.sort()\n",
    "        n = len(events)    \n",
    "        return dp(0, k)"
   ]
  },
  {
   "cell_type": "code",
   "execution_count": 26,
   "metadata": {},
   "outputs": [
    {
     "data": {
      "text/plain": [
       "13"
      ]
     },
     "execution_count": 26,
     "metadata": {},
     "output_type": "execute_result"
    }
   ],
   "source": [
    "solution = Solution()\n",
    "solution.maxValue([[1,3,4], [2,4,1], [1,1,4], [3,5,1], [2,5,5]], 3)"
   ]
  },
  {
   "cell_type": "code",
   "execution_count": null,
   "metadata": {},
   "outputs": [],
   "source": [
    "\n",
    "[[1, 1, 4], [1, 3, 4], [2, 4, 1], [2, 5, 5], [3, 5, 1]]"
   ]
  }
 ],
 "metadata": {
  "kernelspec": {
   "display_name": "Python 3",
   "language": "python",
   "name": "python3"
  },
  "language_info": {
   "codemirror_mode": {
    "name": "ipython",
    "version": 3
   },
   "file_extension": ".py",
   "mimetype": "text/x-python",
   "name": "python",
   "nbconvert_exporter": "python",
   "pygments_lexer": "ipython3",
   "version": "3.6.2"
  }
 },
 "nbformat": 4,
 "nbformat_minor": 4
}
