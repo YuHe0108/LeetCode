{
 "cells": [
  {
   "cell_type": "code",
   "execution_count": null,
   "metadata": {},
   "outputs": [],
   "source": []
  },
  {
   "cell_type": "code",
   "execution_count": null,
   "metadata": {},
   "outputs": [],
   "source": [
    "def getValues(nums):\n",
    "            values = []\n",
    "            k = len(nums)\n",
    "            for bit in range(1 << k): # 使用bit表示每个数字选择还是不选\n",
    "                cur = 0\n",
    "                for i in range(k):\n",
    "                    if ((bit >> i) & 1) == 1:\n",
    "                        cur += nums[i]\n",
    "                values.append(cur)\n",
    "            return values"
   ]
  },
  {
   "cell_type": "code",
   "execution_count": null,
   "metadata": {},
   "outputs": [],
   "source": []
  },
  {
   "cell_type": "code",
   "execution_count": 37,
   "metadata": {},
   "outputs": [],
   "source": [
    "from typing import List\n",
    "import bisect\n",
    "\n",
    "class Solution:\n",
    "    def minAbsDifference(self, nums: List[int], goal: int) -> int:\n",
    "        # 将nums分为两段，前半段、后半段的每个数字都可以取或者不取\n",
    "        # 通过二分法查找最合适的数字\n",
    "        def getValues(i, cur, nums, res):\n",
    "            if i == len(nums):\n",
    "                res.append(cur)\n",
    "                return\n",
    "            # 选择 i-th的数字\n",
    "            getValues(i+1, cur, nums, res)\n",
    "            # 不选择 i-th的数字\n",
    "            getValues(i+1, cur+nums[i], nums, res)\n",
    "        \n",
    "        L_vals = []\n",
    "        getValues(0, 0, nums[:len(nums)//2], L_vals)\n",
    "        R_vals = []\n",
    "        getValues(0, 0, nums[len(nums)//2:], R_vals)\n",
    "        R_vals.sort()\n",
    "        r_n = len(R_vals)\n",
    "        \n",
    "        res = float('inf')\n",
    "        for v in L_vals:\n",
    "            tar = goal - v\n",
    "            idx = bisect.bisect_left(R_vals, tar)\n",
    "            if idx == r_n:\n",
    "                res = min(res, abs(v + R_vals[-1] - goal))\n",
    "            elif idx == 0:\n",
    "                res = min(res, abs(v + R_vals[0] - goal))\n",
    "            else:\n",
    "                res = min(res, abs(v + R_vals[idx-1] - goal), \n",
    "                               abs(v + R_vals[idx] - goal))\n",
    "        return res"
   ]
  },
  {
   "cell_type": "code",
   "execution_count": 39,
   "metadata": {},
   "outputs": [
    {
     "data": {
      "text/plain": [
       "([0, 1], [0, 2, 3, 5])"
      ]
     },
     "execution_count": 39,
     "metadata": {},
     "output_type": "execute_result"
    }
   ],
   "source": [
    "solution = Solution()\n",
    "solution.minAbsDifference(nums = [1,2,3], goal = -7)"
   ]
  },
  {
   "cell_type": "code",
   "execution_count": null,
   "metadata": {},
   "outputs": [],
   "source": []
  },
  {
   "cell_type": "code",
   "execution_count": 43,
   "metadata": {},
   "outputs": [],
   "source": [
    "class Solution:\n",
    "    def minAbsDifference(self, nums: List[int], goal: int) -> int:\n",
    "        ranges = [[0, 0] for _ in range(len(nums) + 1)]\n",
    "        for i in range(len(nums)-1, -1, -1):\n",
    "            mi, ma = ranges[i+1]\n",
    "            ranges[i] = [min(mi, mi + nums[i]), max(ma, ma + nums[i])]\n",
    "        memo = {}\n",
    "        def helper(idx,s):\n",
    "            if idx == len(nums):\n",
    "                return 0\n",
    "            if (idx, s) in memo:\n",
    "                return memo[idx,s]\n",
    "            mi, ma = ranges[idx]\n",
    "            if s <= mi:\n",
    "                ans = mi\n",
    "            elif s >= ma:\n",
    "                ans=ma\n",
    "            else:\n",
    "                tmp1 = helper(idx+1,s)\n",
    "                if tmp1==s:\n",
    "                    ans=tmp1\n",
    "                else:\n",
    "                    v=nums[idx]\n",
    "                    tmp2=helper(idx+1,s-v)\n",
    "                    if abs(tmp1-s)<abs(tmp2+v-s):\n",
    "                        ans=tmp1\n",
    "                    else:\n",
    "                        ans=tmp2+v\n",
    "            memo[idx,s]=ans\n",
    "            return ans\n",
    "        return abs(goal - helper(0, goal))\n",
    "        "
   ]
  },
  {
   "cell_type": "code",
   "execution_count": 44,
   "metadata": {},
   "outputs": [
    {
     "name": "stdout",
     "output_type": "stream",
     "text": [
      "[[-11, 22], [-11, 15], [-2, 15], [-2, 0], [0, 0]]\n"
     ]
    },
    {
     "data": {
      "text/plain": [
       "1"
      ]
     },
     "execution_count": 44,
     "metadata": {},
     "output_type": "execute_result"
    }
   ],
   "source": [
    "solution = Solution()\n",
    "solution.minAbsDifference(nums = [7,-9,15,-2], goal = -5)"
   ]
  },
  {
   "cell_type": "code",
   "execution_count": null,
   "metadata": {},
   "outputs": [],
   "source": []
  }
 ],
 "metadata": {
  "kernelspec": {
   "display_name": "Python 3",
   "language": "python",
   "name": "python3"
  },
  "language_info": {
   "codemirror_mode": {
    "name": "ipython",
    "version": 3
   },
   "file_extension": ".py",
   "mimetype": "text/x-python",
   "name": "python",
   "nbconvert_exporter": "python",
   "pygments_lexer": "ipython3",
   "version": "3.6.2"
  }
 },
 "nbformat": 4,
 "nbformat_minor": 4
}
