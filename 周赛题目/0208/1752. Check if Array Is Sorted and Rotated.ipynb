{
 "cells": [
  {
   "cell_type": "code",
   "execution_count": null,
   "metadata": {},
   "outputs": [],
   "source": []
  },
  {
   "cell_type": "code",
   "execution_count": null,
   "metadata": {},
   "outputs": [],
   "source": []
  },
  {
   "cell_type": "code",
   "execution_count": 18,
   "metadata": {},
   "outputs": [],
   "source": [
    "class Solution:\n",
    "    def check(self, nums: List[int]) -> bool:\n",
    "        stack = []\n",
    "        min_val = float('inf')\n",
    "        start = None\n",
    "        for i, v in enumerate(nums):\n",
    "            if stack and v < stack[-1]:\n",
    "                start = i\n",
    "                break\n",
    "            min_val = min(min_val, v)\n",
    "            stack.append(v)\n",
    "            \n",
    "        if start is None:\n",
    "            return True\n",
    "        \n",
    "        stack = []\n",
    "        for j in range(i, len(nums)):\n",
    "            if nums[j] > min_val:\n",
    "                return False\n",
    "            if stack and nums[j] < stack[-1]:\n",
    "                return False\n",
    "            stack.append(nums[j])\n",
    "        return True"
   ]
  },
  {
   "cell_type": "code",
   "execution_count": 19,
   "metadata": {},
   "outputs": [
    {
     "data": {
      "text/plain": [
       "True"
      ]
     },
     "execution_count": 19,
     "metadata": {},
     "output_type": "execute_result"
    }
   ],
   "source": [
    "solution = Solution()\n",
    "solution.check([1,2,3])"
   ]
  },
  {
   "cell_type": "code",
   "execution_count": null,
   "metadata": {},
   "outputs": [],
   "source": []
  }
 ],
 "metadata": {
  "kernelspec": {
   "display_name": "Python 3",
   "language": "python",
   "name": "python3"
  },
  "language_info": {
   "codemirror_mode": {
    "name": "ipython",
    "version": 3
   },
   "file_extension": ".py",
   "mimetype": "text/x-python",
   "name": "python",
   "nbconvert_exporter": "python",
   "pygments_lexer": "ipython3",
   "version": "3.6.2"
  }
 },
 "nbformat": 4,
 "nbformat_minor": 4
}
