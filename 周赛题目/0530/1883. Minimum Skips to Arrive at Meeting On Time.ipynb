{
 "cells": [
  {
   "cell_type": "code",
   "execution_count": null,
   "metadata": {},
   "outputs": [],
   "source": []
  },
  {
   "cell_type": "code",
   "execution_count": null,
   "metadata": {},
   "outputs": [],
   "source": []
  },
  {
   "cell_type": "code",
   "execution_count": null,
   "metadata": {},
   "outputs": [],
   "source": []
  },
  {
   "cell_type": "code",
   "execution_count": 51,
   "metadata": {},
   "outputs": [],
   "source": [
    "from typing import List\n",
    "import math\n",
    "\n",
    "\n",
    "class Solution:\n",
    "    def minSkips(self, dist: List[int], speed: int, hoursBefore: int) -> int:\n",
    "        n = len(dist)\n",
    "        dp = [[float('inf')] * (n+1) for _ in range(n+1)] # dp[i][j]: 走过了 i 条路，并且跳过 j 次休息，所需要的最短时间\n",
    "        dp[0][0] = 0\n",
    "        dist.insert(0, 0)\n",
    "        for i in range(1, n+1):\n",
    "            if i == n:\n",
    "                dp[i][0] = dp[i-1][0] + dist[i]/speed\n",
    "            else:\n",
    "                dp[i][0] = dp[i-1][0] + math.ceil(dist[i]/speed)\n",
    "        \n",
    "        for i in range(1, n): # 走 1 ~ n 条路\n",
    "            for j in range(i+1): # 休息 j 次\n",
    "                # 当前这一次是 rest\n",
    "                if dp[i-1][j] != float('inf'):\n",
    "                    dp[i][j] = math.ceil(dp[i-1][j] + dist[i] / speed)\n",
    "                if j >= 1:\n",
    "                    dp[i][j] = min(dp[i][j], dp[i-1][j-1] + dist[i] / speed)\n",
    "        \n",
    "        last = dist[-1] / speed\n",
    "        for i in range(n):\n",
    "            if dp[-2][i] + last <= hoursBefore:\n",
    "                return i\n",
    "        return -1"
   ]
  },
  {
   "cell_type": "code",
   "execution_count": null,
   "metadata": {},
   "outputs": [],
   "source": []
  },
  {
   "cell_type": "code",
   "execution_count": 57,
   "metadata": {},
   "outputs": [],
   "source": [
    "from typing import List\n",
    "import math\n",
    "\n",
    "\n",
    "class Solution:\n",
    "    def minSkips(self, dist: List[int], speed: int, hoursBefore: int) -> int:\n",
    "        n = len(dist)\n",
    "        dp = [[1e20] * (n+1) for _ in range(n+1)] # dp[i][j]: 走过了 i 条路，并且跳过 j 次休息，所需要的最短时间\n",
    "        dp[0][0] = 0\n",
    "        dist.insert(0, 0)\n",
    "        \n",
    "        for i in range(1, n): # 走 1 ~ n 条路\n",
    "            for j in range(i+1): # 休息 j 次\n",
    "                # 当前这一次是 rest\n",
    "                if dp[i-1][j] != float('inf'):\n",
    "                    dp[i][j] = math.ceil(dp[i-1][j] + dist[i] / speed - 1e-8)\n",
    "                if j >= 1:\n",
    "                    dp[i][j] = min(dp[i][j], dp[i-1][j-1] + dist[i] / speed)\n",
    "        \n",
    "        last = dist[-1] / speed\n",
    "        for i in range(n):\n",
    "            if dp[-2][i] + last <= hoursBefore:\n",
    "                return i\n",
    "        return -1"
   ]
  },
  {
   "cell_type": "code",
   "execution_count": 58,
   "metadata": {},
   "outputs": [
    {
     "data": {
      "text/plain": [
       "1"
      ]
     },
     "execution_count": 58,
     "metadata": {},
     "output_type": "execute_result"
    }
   ],
   "source": [
    "solution = Solution()\n",
    "solution.minSkips(dist = [1,3,2], speed = 4, hoursBefore = 2)"
   ]
  },
  {
   "cell_type": "code",
   "execution_count": 33,
   "metadata": {},
   "outputs": [
    {
     "data": {
      "text/plain": [
       "5.0"
      ]
     },
     "execution_count": 33,
     "metadata": {},
     "output_type": "execute_result"
    }
   ],
   "source": [
    "7/2 + 3/2"
   ]
  },
  {
   "cell_type": "code",
   "execution_count": 27,
   "metadata": {},
   "outputs": [
    {
     "data": {
      "text/plain": [
       "7.5"
      ]
     },
     "execution_count": 27,
     "metadata": {},
     "output_type": "execute_result"
    }
   ],
   "source": [
    "7/2 + 3/2 + 5/2"
   ]
  },
  {
   "cell_type": "code",
   "execution_count": 40,
   "metadata": {},
   "outputs": [
    {
     "data": {
      "text/plain": [
       "1.3333333333333333"
      ]
     },
     "execution_count": 40,
     "metadata": {},
     "output_type": "execute_result"
    }
   ],
   "source": [
    "100000/75000"
   ]
  },
  {
   "cell_type": "code",
   "execution_count": null,
   "metadata": {},
   "outputs": [],
   "source": []
  }
 ],
 "metadata": {
  "kernelspec": {
   "display_name": "Python 3",
   "language": "python",
   "name": "python3"
  },
  "language_info": {
   "codemirror_mode": {
    "name": "ipython",
    "version": 3
   },
   "file_extension": ".py",
   "mimetype": "text/x-python",
   "name": "python",
   "nbconvert_exporter": "python",
   "pygments_lexer": "ipython3",
   "version": "3.6.2"
  }
 },
 "nbformat": 4,
 "nbformat_minor": 4
}
