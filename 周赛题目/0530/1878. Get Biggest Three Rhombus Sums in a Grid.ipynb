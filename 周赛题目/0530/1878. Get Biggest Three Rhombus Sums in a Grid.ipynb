{
 "cells": [
  {
   "cell_type": "code",
   "execution_count": null,
   "metadata": {},
   "outputs": [],
   "source": []
  },
  {
   "cell_type": "code",
   "execution_count": null,
   "metadata": {},
   "outputs": [],
   "source": []
  },
  {
   "cell_type": "code",
   "execution_count": null,
   "metadata": {},
   "outputs": [],
   "source": []
  },
  {
   "cell_type": "code",
   "execution_count": 138,
   "metadata": {},
   "outputs": [],
   "source": [
    "from typing import List\n",
    "\n",
    "class Solution:\n",
    "    def getBiggestThree(self, grid: List[List[int]]) -> List[int]:\n",
    "        \n",
    "        def check(x, y, n):\n",
    "            cnt = 0\n",
    "            for i in range(1, n):\n",
    "                x += 1\n",
    "                y -= 1\n",
    "                cnt += grid[x][y]\n",
    "            \n",
    "            for i in range(1, n):\n",
    "                x += 1\n",
    "                y += 1\n",
    "                cnt += grid[x][y]\n",
    "            \n",
    "            for i in range(1, n):\n",
    "                x -= 1\n",
    "                y += 1\n",
    "                cnt += grid[x][y]\n",
    "            \n",
    "            for i in range(1, n):\n",
    "                x -= 1\n",
    "                y -= 1\n",
    "                cnt += grid[x][y]\n",
    "            return cnt\n",
    "        \n",
    "        rows, cols = len(grid), len(grid[0])\n",
    "        vals = set()\n",
    "        \n",
    "        for i in range(rows):\n",
    "            if i >= rows-2:\n",
    "                for j in range(cols):\n",
    "                    vals.add(grid[i][j])\n",
    "            else:\n",
    "                for j in range(cols): # 列的两端\n",
    "                    if j == 0 or j == cols - 1:\n",
    "                        vals.add(grid[i][j])\n",
    "                    else:\n",
    "                        for k in range(2, min(j+1, cols-j)+1): # 菱形的最大边长\n",
    "                            if i + 2*(k-1) >= rows:\n",
    "                                break\n",
    "                            v = check(i, j, k)\n",
    "                            # print(i, j, k, v)\n",
    "                            vals.add(v)\n",
    "        \n",
    "        ans = sorted(vals, reverse=True)\n",
    "        return ans[:3]"
   ]
  },
  {
   "cell_type": "code",
   "execution_count": 139,
   "metadata": {},
   "outputs": [
    {
     "data": {
      "text/plain": [
       "[107, 103, 102]"
      ]
     },
     "execution_count": 139,
     "metadata": {},
     "output_type": "execute_result"
    }
   ],
   "source": [
    "solution = Solution()\n",
    "solution.getBiggestThree([[20, 17,  9, 13,  5,  2,   9,  1,  5],\n",
    "                          [14,  9,  9,  9, 16,  18,  3,  4, 12],\n",
    "                          [18, 15, 10, 20, 19,  20, 15, 12, 11],\n",
    "                          [19, 16, 19, 18,  8,  13, 15, 14, 11],\n",
    "                          [4,  19,  5,  2, 19,  17,  7,  2, 2]])"
   ]
  },
  {
   "cell_type": "code",
   "execution_count": 122,
   "metadata": {},
   "outputs": [
    {
     "data": {
      "text/plain": [
       "95"
      ]
     },
     "execution_count": 122,
     "metadata": {},
     "output_type": "execute_result"
    }
   ],
   "source": [
    "9 + 18 + 19 + 13 + 7 + 14 + 11 + 4"
   ]
  },
  {
   "cell_type": "code",
   "execution_count": 119,
   "metadata": {},
   "outputs": [
    {
     "data": {
      "text/plain": [
       "103"
      ]
     },
     "execution_count": 119,
     "metadata": {},
     "output_type": "execute_result"
    }
   ],
   "source": [
    "9 + 9 + 18 + 16 + 5 + 18 + 19 + 9"
   ]
  },
  {
   "cell_type": "code",
   "execution_count": 102,
   "metadata": {},
   "outputs": [
    {
     "data": {
      "text/plain": [
       "102"
      ]
     },
     "execution_count": 102,
     "metadata": {},
     "output_type": "execute_result"
    }
   ],
   "source": [
    "13 + 9 + 15 + 19 + 2 + 8 + 20 + 16"
   ]
  },
  {
   "cell_type": "code",
   "execution_count": null,
   "metadata": {},
   "outputs": [],
   "source": []
  }
 ],
 "metadata": {
  "kernelspec": {
   "display_name": "Python 3",
   "language": "python",
   "name": "python3"
  },
  "language_info": {
   "codemirror_mode": {
    "name": "ipython",
    "version": 3
   },
   "file_extension": ".py",
   "mimetype": "text/x-python",
   "name": "python",
   "nbconvert_exporter": "python",
   "pygments_lexer": "ipython3",
   "version": "3.6.2"
  }
 },
 "nbformat": 4,
 "nbformat_minor": 4
}
