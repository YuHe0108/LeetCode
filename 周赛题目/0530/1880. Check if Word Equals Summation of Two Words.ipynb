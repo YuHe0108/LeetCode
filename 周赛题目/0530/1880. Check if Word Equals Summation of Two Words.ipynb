{
 "cells": [
  {
   "cell_type": "code",
   "execution_count": null,
   "metadata": {},
   "outputs": [],
   "source": [
    "class Solution:\n",
    "    def isSumEqual(self, firstWord: str, secondWord: str, targetWord: str) -> bool:\n",
    "        def transform(word):\n",
    "            val = ''\n",
    "            for v in word:\n",
    "                val += str(ord(v) - ord('a'))\n",
    "            return int(val)\n",
    "        \n",
    "        \n",
    "        return transform(firstWord) + transform(secondWord) == transform(targetWord)"
   ]
  }
 ],
 "metadata": {
  "kernelspec": {
   "display_name": "Python 3",
   "language": "python",
   "name": "python3"
  },
  "language_info": {
   "codemirror_mode": {
    "name": "ipython",
    "version": 3
   },
   "file_extension": ".py",
   "mimetype": "text/x-python",
   "name": "python",
   "nbconvert_exporter": "python",
   "pygments_lexer": "ipython3",
   "version": "3.6.2"
  }
 },
 "nbformat": 4,
 "nbformat_minor": 4
}
