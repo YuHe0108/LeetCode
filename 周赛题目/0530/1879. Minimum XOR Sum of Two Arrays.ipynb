{
 "cells": [
  {
   "cell_type": "code",
   "execution_count": null,
   "metadata": {},
   "outputs": [],
   "source": []
  },
  {
   "cell_type": "code",
   "execution_count": null,
   "metadata": {},
   "outputs": [],
   "source": []
  },
  {
   "cell_type": "code",
   "execution_count": null,
   "metadata": {},
   "outputs": [],
   "source": []
  },
  {
   "cell_type": "code",
   "execution_count": 84,
   "metadata": {},
   "outputs": [],
   "source": [
    "from typing import List\n",
    "\n",
    "class Solution:\n",
    "    def minimumXORSum(self, nums1: List[int], nums2: List[int]) -> int:\n",
    "        n = len(nums1)\n",
    "        t = 1 << n\n",
    "         # dp[i][state]: 选择nums2中前i个元素与num1相匹配，异或值最小为多少\n",
    "        dp = [float('inf')] * t\n",
    "        for i in range(n):\n",
    "            state = 1 << i\n",
    "            dp[state] = min(dp[state], nums1[i] ^ nums2[0])\n",
    "        \n",
    "        for i in range(1, n): # nums2中的前 i 个元素\n",
    "            pre_dp = dp[::]\n",
    "            \n",
    "            k = i + 1 # 一共有 k 个位置的元素值为 1\n",
    "            state = (1 << k) - 1 # 初试状态\n",
    "            while state < t:\n",
    "                for j in range(n): # nums1[j]\n",
    "                    if (state >> j) & 1:\n",
    "                        cost = nums1[j] ^ nums2[i]\n",
    "                        dp[state] = min(dp[state], pre_dp[state - (1 << j)] + cost)\n",
    "                        \n",
    "                c = state & (-state)\n",
    "                r = state + c\n",
    "                state = (((r ^ state) >> 2) // c) | r\n",
    "       \n",
    "        return dp[-1]"
   ]
  },
  {
   "cell_type": "code",
   "execution_count": null,
   "metadata": {},
   "outputs": [],
   "source": []
  },
  {
   "cell_type": "markdown",
   "metadata": {},
   "source": [
    "### Dijstra 迪杰斯特拉：PQ + BFS"
   ]
  },
  {
   "cell_type": "code",
   "execution_count": 98,
   "metadata": {},
   "outputs": [],
   "source": [
    "from typing import List\n",
    "import heapq\n",
    "\n",
    "class Solution:\n",
    "    def minimumXORSum(self, nums1: List[int], nums2: List[int]) -> int:\n",
    "        n = len(nums1)\n",
    "        t = 1 << n\n",
    "        pq = []\n",
    "        heapq.heappush(pq, [0, 0])\n",
    "        visited = [0] * t # 哪些状态已经被访问过\n",
    "        \n",
    "        while pq:\n",
    "            cost, state = heapq.heappop(pq)\n",
    "            \n",
    "            # 因为算法是按照最优路径生成，所以曾经访问过的状态一定是最佳的\n",
    "            if visited[state] == 1:\n",
    "                continue\n",
    "            visited[state] = 1 # 标记为访问过\n",
    "            \n",
    "            j = bin(state).count('1') # 有多少个 1\n",
    "            if j == n:\n",
    "                return cost\n",
    "            \n",
    "            for i in range(n): # 遍历新的状态\n",
    "                if (state >> i) & 1 == 0:\n",
    "                    new_state = state + (1 << i)\n",
    "                    if visited[new_state] == 1:\n",
    "                        continue\n",
    "                    heapq.heappush(pq, [cost + (nums1[i] ^ nums2[j]), new_state])\n",
    "            \n",
    "        return -1"
   ]
  },
  {
   "cell_type": "code",
   "execution_count": 99,
   "metadata": {},
   "outputs": [
    {
     "data": {
      "text/plain": [
       "8"
      ]
     },
     "execution_count": 99,
     "metadata": {},
     "output_type": "execute_result"
    }
   ],
   "source": [
    "solution = Solution()\n",
    "solution.minimumXORSum(nums1 = [1,0,3], nums2 = [5,3,4])"
   ]
  },
  {
   "cell_type": "code",
   "execution_count": null,
   "metadata": {},
   "outputs": [],
   "source": []
  },
  {
   "cell_type": "code",
   "execution_count": null,
   "metadata": {},
   "outputs": [],
   "source": []
  },
  {
   "cell_type": "code",
   "execution_count": null,
   "metadata": {},
   "outputs": [],
   "source": []
  },
  {
   "cell_type": "code",
   "execution_count": null,
   "metadata": {},
   "outputs": [],
   "source": []
  },
  {
   "cell_type": "code",
   "execution_count": null,
   "metadata": {},
   "outputs": [],
   "source": []
  },
  {
   "cell_type": "code",
   "execution_count": null,
   "metadata": {},
   "outputs": [],
   "source": [
    "state = (1 << k) - 1\n",
    "while state < (1 << m):\n",
    "    dosomething()\n",
    "    c = state & (-state)\n",
    "    r = state + c\n",
    "    state = (((r ^ state) >> 2) / c) | r"
   ]
  }
 ],
 "metadata": {
  "kernelspec": {
   "display_name": "Python 3",
   "language": "python",
   "name": "python3"
  },
  "language_info": {
   "codemirror_mode": {
    "name": "ipython",
    "version": 3
   },
   "file_extension": ".py",
   "mimetype": "text/x-python",
   "name": "python",
   "nbconvert_exporter": "python",
   "pygments_lexer": "ipython3",
   "version": "3.6.2"
  }
 },
 "nbformat": 4,
 "nbformat_minor": 4
}
