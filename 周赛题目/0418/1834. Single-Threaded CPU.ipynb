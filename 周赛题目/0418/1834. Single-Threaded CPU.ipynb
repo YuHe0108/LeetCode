{
 "cells": [
  {
   "cell_type": "code",
   "execution_count": null,
   "metadata": {},
   "outputs": [],
   "source": [
    " new_tasks = defaultdict(list)\n",
    "        for i, (en_time, pro_time) in enumerate(tasks):\n",
    "            heapq.heappush(new_tasks[en_time], (pro_time, i))\n",
    "        \n",
    "        \n",
    "        new_tasks = sorted(new_tasks.items(), key=lambda x:x[0])\n",
    "        res = []\n",
    "        for t in range(len(new_tasks)):\n",
    "            _, same_time = new_tasks[t]\n",
    "            while same_time:\n",
    "                _, idx = heapq.heappop(same_time)\n",
    "                res.append(idx)"
   ]
  },
  {
   "cell_type": "code",
   "execution_count": null,
   "metadata": {},
   "outputs": [],
   "source": []
  },
  {
   "cell_type": "code",
   "execution_count": 2,
   "metadata": {},
   "outputs": [
    {
     "name": "stdout",
     "output_type": "stream",
     "text": [
      "1 [1, 2, 3]\n",
      "2 [1, 2]\n"
     ]
    }
   ],
   "source": [
    "vals = [1, 2, 3]\n",
    "for v in vals:\n",
    "    print(v, vals)\n",
    "    vals.pop()"
   ]
  },
  {
   "cell_type": "code",
   "execution_count": 3,
   "metadata": {},
   "outputs": [],
   "source": [
    "import heapq"
   ]
  },
  {
   "cell_type": "code",
   "execution_count": 4,
   "metadata": {},
   "outputs": [],
   "source": [
    "pq = []"
   ]
  },
  {
   "cell_type": "code",
   "execution_count": 20,
   "metadata": {},
   "outputs": [],
   "source": [
    "heapq.heappush(pq, (1, 3))\n",
    "heapq.heappush(pq, (1, 2))\n",
    "heapq.heappush(pq, (4, 3))\n",
    "heapq.heappush(pq, (2, 3))"
   ]
  },
  {
   "cell_type": "code",
   "execution_count": 21,
   "metadata": {},
   "outputs": [
    {
     "name": "stdout",
     "output_type": "stream",
     "text": [
      "[(1, 2), (1, 3), (4, 3), (2, 3)]\n"
     ]
    }
   ],
   "source": [
    "print(pq)"
   ]
  },
  {
   "cell_type": "code",
   "execution_count": 24,
   "metadata": {},
   "outputs": [],
   "source": [
    "tasks = {46: [(9, 0), (42, 1)], 30: [(46, 2), (13, 3), (24, 4), (5, 5), (21, 6)], 29: [(46, 7), (41, 8), (18, 9), (16, 10), (17, 11), (5, 12)], 22: [(15, 13), (13, 14), (25, 15), (49, 16), (44, 17)]}\n",
    "tasks = sorted(tasks.items(), key=lambda x:x[0])"
   ]
  },
  {
   "cell_type": "code",
   "execution_count": 25,
   "metadata": {},
   "outputs": [
    {
     "data": {
      "text/plain": [
       "[(22, [(15, 13), (13, 14), (25, 15), (49, 16), (44, 17)]),\n",
       " (29, [(46, 7), (41, 8), (18, 9), (16, 10), (17, 11), (5, 12)]),\n",
       " (30, [(46, 2), (13, 3), (24, 4), (5, 5), (21, 6)]),\n",
       " (46, [(9, 0), (42, 1)])]"
      ]
     },
     "execution_count": 25,
     "metadata": {},
     "output_type": "execute_result"
    }
   ],
   "source": [
    "tasks"
   ]
  },
  {
   "cell_type": "code",
   "execution_count": null,
   "metadata": {},
   "outputs": [],
   "source": [
    "(13, 14), (5, 12), (15, 13), (16, 10), (17, 11), (18, 9), (25, 15), (41, 8), (44, 17), (46, 7), (49, 16)"
   ]
  },
  {
   "cell_type": "code",
   "execution_count": null,
   "metadata": {},
   "outputs": [],
   "source": [
    "[46,48,68,36,35,1,77,69,62,60,57,7,17,65,81,41,66,89,85,80,0,51,79,12,11,2,93,34,42,76,55,70,8,37,64,58,73,28,13,33,43,59,27,63,5,53,9,30,61,21,47,29,91,38,72,74,24,52,82,56,45,18,26,10,4,39,71,15,16,32,78,20,50,31,75,44,90,25,83,67,6,23,54,86,84,22,19,49,14,40,3,88,87,92]"
   ]
  },
  {
   "cell_type": "code",
   "execution_count": null,
   "metadata": {},
   "outputs": [],
   "source": []
  },
  {
   "cell_type": "code",
   "execution_count": null,
   "metadata": {},
   "outputs": [],
   "source": []
  },
  {
   "cell_type": "code",
   "execution_count": null,
   "metadata": {},
   "outputs": [],
   "source": [
    "class Solution:\n",
    "    def getOrder(self, tasks: List[List[int]]) -> List[int]:\n",
    "        \n",
    "        time_task = defaultdict(list)\n",
    "        for idx, (en_time, pro_time) in enumerate(tasks):\n",
    "            time_task[en_time].append((pro_time, idx)) # 在en_time时刻有哪些任务\n",
    "        \n",
    "        times = deque(sorted(time_task))\n",
    "        cur_time = times[0] # 开始时间\n",
    "        n = len(tasks)\n",
    "        pq = []\n",
    "        res = []\n",
    "        for _ in range(n):\n",
    "            if times and cur_time >= times[0]:\n",
    "                k = 0\n",
    "                for t in times:\n",
    "                    if t > cur_time:\n",
    "                        break\n",
    "                    k += 1\n",
    "                    cur_tasks = time_task[t]\n",
    "                    for (pro_time, idx) in cur_tasks:\n",
    "                        heapq.heappush(pq, (pro_time, idx))\n",
    "                        \n",
    "                for i in range(k):\n",
    "                    t = times.popleft()\n",
    "                    del time_task[t]\n",
    "            elif not pq:\n",
    "                if times:\n",
    "                    cur_time = times[0]\n",
    "            \n",
    "            pro_time, idx = heapq.heappop(pq)\n",
    "            cur_time += pro_time\n",
    "            res.append(idx)\n",
    "        return res"
   ]
  },
  {
   "cell_type": "code",
   "execution_count": null,
   "metadata": {},
   "outputs": [],
   "source": []
  },
  {
   "cell_type": "code",
   "execution_count": null,
   "metadata": {},
   "outputs": [],
   "source": [
    "class Solution:\n",
    "    def getOrder(self, tasks: List[List[int]]) -> List[int]:\n",
    "        \n",
    "        time_task = defaultdict(list)\n",
    "        for idx, (en_time, pro_time) in enumerate(tasks):\n",
    "            time_task[en_time].append((pro_time, idx)) # 在en_time时刻有哪些任务\n",
    "        \n",
    "        \n",
    "        times = deque(sorted(time_task))\n",
    "        cur_time = times[0] # 开始时间\n",
    "        n = len(tasks)\n",
    "        pq = []\n",
    "        res = []\n",
    "        cnt = 0\n",
    "        while cnt < n:\n",
    "            if times and cur_time >= times[0]:\n",
    "                k = 0\n",
    "                for t in times:\n",
    "                    if t > cur_time:\n",
    "                        break\n",
    "                    k += 1\n",
    "                    cur_tasks = time_task[t]\n",
    "                    for (pro_time, idx) in cur_tasks:\n",
    "                        heapq.heappush(pq, (pro_time, idx))\n",
    "                for i in range(k):\n",
    "                    times.popleft()\n",
    "            elif not pq:\n",
    "                cur_time = times[0]\n",
    "                continue\n",
    "            \n",
    "            cnt += 1\n",
    "            pro_time, idx = heapq.heappop(pq)\n",
    "            cur_time += pro_time\n",
    "            res.append(idx)\n",
    "        return res"
   ]
  }
 ],
 "metadata": {
  "kernelspec": {
   "display_name": "Python 3",
   "language": "python",
   "name": "python3"
  },
  "language_info": {
   "codemirror_mode": {
    "name": "ipython",
    "version": 3
   },
   "file_extension": ".py",
   "mimetype": "text/x-python",
   "name": "python",
   "nbconvert_exporter": "python",
   "pygments_lexer": "ipython3",
   "version": "3.6.2"
  }
 },
 "nbformat": 4,
 "nbformat_minor": 4
}
