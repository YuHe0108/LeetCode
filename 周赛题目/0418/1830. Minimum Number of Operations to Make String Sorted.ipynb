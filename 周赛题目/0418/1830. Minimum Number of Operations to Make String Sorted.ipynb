{
 "cells": [
  {
   "cell_type": "code",
   "execution_count": 3,
   "metadata": {},
   "outputs": [
    {
     "data": {
      "text/plain": [
       "10978305"
      ]
     },
     "execution_count": 3,
     "metadata": {},
     "output_type": "execute_result"
    }
   ],
   "source": [
    "96 + 1932000+4393200+2802400 + 746976+1103600+33"
   ]
  },
  {
   "cell_type": "code",
   "execution_count": null,
   "metadata": {},
   "outputs": [],
   "source": []
  },
  {
   "cell_type": "code",
   "execution_count": 10,
   "metadata": {},
   "outputs": [
    {
     "name": "stdout",
     "output_type": "stream",
     "text": [
      "97\n"
     ]
    }
   ],
   "source": [
    "a = 'a'\n",
    "print(ord(a))"
   ]
  },
  {
   "cell_type": "code",
   "execution_count": 76,
   "metadata": {},
   "outputs": [],
   "source": [
    "#实际就是再问：有多少 s元素的排列，要比 s 的字典序小\n",
    "from collections import Counter, defaultdict\n",
    "import math\n",
    "\n",
    "class Solution:\n",
    "    def makeStringSorted(self, s: str) -> int:\n",
    "        count = defaultdict(int)\n",
    "        for v in s: # 将所有的字母转换为数字的形式\n",
    "            count[ord(v) - ord('a')] += 1\n",
    "            \n",
    "        res = 0\n",
    "        n = len(s)\n",
    "        mod = pow(10, 9) + 7\n",
    "        for i, v in enumerate(s):\n",
    "            int_v = ord(v) - ord('a')\n",
    "            cnt_small = 0\n",
    "            \n",
    "            for ch, freq in count.items():\n",
    "                if ch < int_v:\n",
    "                    cnt_small += freq\n",
    "            \n",
    "            ans = cnt_small * math.factorial(n - i - 1)\n",
    "            for k in range(26):\n",
    "                ans //= math.factorial(count[k])\n",
    "                    \n",
    "            res = (res + ans ) % mod\n",
    "            count[int_v] -= 1\n",
    "        return res % mod"
   ]
  },
  {
   "cell_type": "code",
   "execution_count": 77,
   "metadata": {},
   "outputs": [
    {
     "data": {
      "text/plain": [
       "982157772"
      ]
     },
     "execution_count": 77,
     "metadata": {},
     "output_type": "execute_result"
    }
   ],
   "source": [
    "solution = Solution()\n",
    "solution.makeStringSorted(s = \"leetcodeleetcodeleetcode\")"
   ]
  },
  {
   "cell_type": "code",
   "execution_count": null,
   "metadata": {},
   "outputs": [],
   "source": []
  },
  {
   "cell_type": "code",
   "execution_count": null,
   "metadata": {},
   "outputs": [],
   "source": []
  },
  {
   "cell_type": "code",
   "execution_count": null,
   "metadata": {},
   "outputs": [],
   "source": []
  },
  {
   "cell_type": "code",
   "execution_count": 64,
   "metadata": {},
   "outputs": [],
   "source": [
    "import collections\n",
    "\n",
    "class Solution:\n",
    "    def makeStringSorted(self, s: str) -> int:\n",
    "        # 求字符串的总共组合数量，用到了那个先验知识\n",
    "        cnt = collections.Counter(s)\n",
    "        cur = math.factorial(len(s))\n",
    "        for v in cnt.values():\n",
    "            cur //= math.factorial(v)\n",
    "\n",
    "        res = 0\n",
    "        for i, v in enumerate(s):\n",
    "            for ke, va in cnt.items():\n",
    "                # 当后续某个字符小于当前字符，累加当前的可能性\n",
    "                # 以上面的描述为例，当b后面出现个a，可以假定当前位置变成a，这种情况下\n",
    "                # 还剩下 (x - 1)个a，y个b，z个c, 组合总数为 ((x - 1) + y + z)! / ((x - 1)! * y! * z!)\n",
    "                # 等同为 (x + y + z)! / (x! * y! * z!) * x / (x + y + z)\n",
    "                # 也就是下面的 cur * va // (len(s) - i)\n",
    "                if ke < v:\n",
    "                    res += cur * va // (len(s) - i)\n",
    "\n",
    "            # 当字符往后移动时，更新当前的可能的组合数，同时更新Counter\n",
    "            cur = cur * cnt[v] // (len(s) - i)\n",
    "            cnt[v] -= 1\n",
    "\n",
    "        return res % (10 ** 9 + 7)"
   ]
  },
  {
   "cell_type": "code",
   "execution_count": 65,
   "metadata": {},
   "outputs": [
    {
     "data": {
      "text/plain": [
       "982157772"
      ]
     },
     "execution_count": 65,
     "metadata": {},
     "output_type": "execute_result"
    }
   ],
   "source": [
    "solution = Solution()\n",
    "solution.makeStringSorted(s = \"leetcodeleetcodeleetcode\")"
   ]
  },
  {
   "cell_type": "code",
   "execution_count": null,
   "metadata": {},
   "outputs": [],
   "source": [
    "class Solution:\n",
    "    def makeStringSorted(self, s: str) -> int:\n",
    "        mod = 10**9 + 7\n",
    "        \n",
    "        # 快速幂，用来计算 x^y mod m\n",
    "        def quickmul(x: int, y: int) -> int:\n",
    "            # Python 有方便的内置函数\n",
    "            return pow(x, y, mod)\n",
    "    \n",
    "        n = len(s)\n",
    "        \n",
    "        # fac[i] 表示 i! mod m\n",
    "        # facinv[i] 表示 i! 在 mod m 意义下的乘法逆元\n",
    "        fac, facinv = [0] * (n + 1), [0] * (n + 1)\n",
    "        fac[0] = facinv[0] = 1\n",
    "        for i in range(1, n):\n",
    "            fac[i] = fac[i - 1] * i % mod\n",
    "            # 使用费马小定理 + 快速幂计算乘法逆元\n",
    "            facinv[i] = quickmul(fac[i], mod - 2)\n",
    "        \n",
    "        # freq 存储每个字符出现的次数\n",
    "        freq = collections.Counter(s)\n",
    "        \n",
    "        ans = 0\n",
    "        for i in range(n - 1):\n",
    "            # rank 求出比 s[i] 小的字符数量\n",
    "            rank = sum(occ for ch, occ in freq.items() if ch < s[i])\n",
    "            # 排列个数的分子\n",
    "            cur = rank * fac[n - i - 1] % mod\n",
    "            # 依次乘分母每一项阶乘的乘法逆元\n",
    "            for ch, occ in freq.items():\n",
    "                cur = cur * facinv[occ] % mod\n",
    "            \n",
    "            ans += cur\n",
    "            freq[s[i]] -= 1\n",
    "        return ans % mod\n"
   ]
  }
 ],
 "metadata": {
  "kernelspec": {
   "display_name": "Python 3",
   "language": "python",
   "name": "python3"
  },
  "language_info": {
   "codemirror_mode": {
    "name": "ipython",
    "version": 3
   },
   "file_extension": ".py",
   "mimetype": "text/x-python",
   "name": "python",
   "nbconvert_exporter": "python",
   "pygments_lexer": "ipython3",
   "version": "3.6.2"
  }
 },
 "nbformat": 4,
 "nbformat_minor": 4
}
