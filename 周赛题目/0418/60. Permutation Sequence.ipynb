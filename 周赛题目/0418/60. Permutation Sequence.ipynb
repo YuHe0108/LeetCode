{
 "cells": [
  {
   "cell_type": "code",
   "execution_count": null,
   "metadata": {},
   "outputs": [],
   "source": []
  },
  {
   "cell_type": "code",
   "execution_count": null,
   "metadata": {},
   "outputs": [],
   "source": []
  },
  {
   "cell_type": "code",
   "execution_count": null,
   "metadata": {},
   "outputs": [],
   "source": []
  },
  {
   "cell_type": "code",
   "execution_count": 29,
   "metadata": {},
   "outputs": [],
   "source": [
    "\n",
    "\n",
    "class Solution:\n",
    "    def getPermutation(self, n: int, k: int) -> str:\n",
    "        \n",
    "        def helper(idx, k): # idx 表示已经计算出多少位了\n",
    "            nonlocal res\n",
    "            if idx == n:\n",
    "                return\n",
    "            for i in range(1, n+1):\n",
    "                if k - i * factorials[n-idx-1] < 0:\n",
    "                    res.append(str(i))\n",
    "                    helper(idx+1, k - (i-1) * factorials[n-idx-1])\n",
    "            return\n",
    "                \n",
    "        factorials = [1] * (n + 1) # 数字的阶乘\n",
    "        for i in range(1, n+1):\n",
    "            factorials[i] = factorials[i-1] * i\n",
    "            \n",
    "        vals = [x for x in range(1, n+1)]\n",
    "        res = []\n",
    "        helper(0, k)\n",
    "        return ''.join(res)"
   ]
  },
  {
   "cell_type": "code",
   "execution_count": null,
   "metadata": {},
   "outputs": [],
   "source": []
  },
  {
   "cell_type": "code",
   "execution_count": null,
   "metadata": {},
   "outputs": [],
   "source": []
  },
  {
   "cell_type": "code",
   "execution_count": 68,
   "metadata": {},
   "outputs": [],
   "source": [
    "class Solution:\n",
    "    def getPermutation(self, n: int, k: int) -> str:\n",
    "        \n",
    "        def helper(idx, vals):\n",
    "            nonlocal k\n",
    "            if not vals:\n",
    "                return\n",
    "            for i, v in enumerate(vals):\n",
    "                cnt = factorials[n - idx - 1]\n",
    "                if k - cnt <= 0:\n",
    "                    res[idx] = str(v)\n",
    "                    vals.pop(i)\n",
    "                    helper(idx + 1, vals)\n",
    "                    break\n",
    "                else:\n",
    "                    k -= cnt\n",
    "            return\n",
    "        \n",
    "        factorials = [1] * (n + 1) # 数字的阶乘\n",
    "        for i in range(1, n+1):\n",
    "            factorials[i] = factorials[i-1] * i\n",
    "            \n",
    "        vals = [x for x in range(1, n+1)]\n",
    "        res = ['0'] * n\n",
    "        helper(0, vals)\n",
    "        return ''.join(res)"
   ]
  },
  {
   "cell_type": "code",
   "execution_count": 69,
   "metadata": {},
   "outputs": [
    {
     "name": "stdout",
     "output_type": "stream",
     "text": [
      "1 [2, 3]\n",
      "1 [3]\n",
      "1 []\n"
     ]
    },
    {
     "data": {
      "text/plain": [
       "'123'"
      ]
     },
     "execution_count": 69,
     "metadata": {},
     "output_type": "execute_result"
    }
   ],
   "source": [
    "solution = Solution()\n",
    "solution.getPermutation(n = 3, k = 1)"
   ]
  },
  {
   "cell_type": "code",
   "execution_count": null,
   "metadata": {},
   "outputs": [],
   "source": []
  },
  {
   "cell_type": "code",
   "execution_count": null,
   "metadata": {},
   "outputs": [],
   "source": [
    "[1, 2, 3] k - 2 = 1\n",
    "[2, x, x] k - 2 < 0\n",
    "[2, 1, 3]"
   ]
  }
 ],
 "metadata": {
  "kernelspec": {
   "display_name": "Python 3",
   "language": "python",
   "name": "python3"
  },
  "language_info": {
   "codemirror_mode": {
    "name": "ipython",
    "version": 3
   },
   "file_extension": ".py",
   "mimetype": "text/x-python",
   "name": "python",
   "nbconvert_exporter": "python",
   "pygments_lexer": "ipython3",
   "version": "3.6.2"
  }
 },
 "nbformat": 4,
 "nbformat_minor": 4
}
