{
 "cells": [
  {
   "cell_type": "code",
   "execution_count": null,
   "metadata": {},
   "outputs": [],
   "source": []
  },
  {
   "cell_type": "code",
   "execution_count": null,
   "metadata": {},
   "outputs": [],
   "source": []
  },
  {
   "cell_type": "code",
   "execution_count": null,
   "metadata": {},
   "outputs": [],
   "source": []
  },
  {
   "cell_type": "code",
   "execution_count": 19,
   "metadata": {},
   "outputs": [],
   "source": [
    "from collections import Counter, defaultdict\n",
    "from typing import List\n",
    "import math\n",
    "\n",
    "class Solution:\n",
    "    def countPoints(self, points: List[List[int]], queries: List[List[int]]) -> List[int]:\n",
    "        \n",
    "        def distance(x1, y1, x2, y2, r):\n",
    "            # 计算两点之间的距离\n",
    "            x_dif, y_dif = x1 - x2, y1 - y2\n",
    "            dis = math.sqrt(pow(x_dif, 2) + pow(y_dif, 2))\n",
    "            return dis <= r\n",
    "        \n",
    "        count = defaultdict(int)\n",
    "        for x, y in points:\n",
    "            count[(x, y)] += 1\n",
    "        \n",
    "        n = len(queries)\n",
    "        res = [0] * n\n",
    "        for i, (x, y, r) in enumerate(queries):\n",
    "            cnt = 0\n",
    "            for (a, b), val in count.items():\n",
    "                if distance(x, y, a, b, r):\n",
    "                    cnt += val\n",
    "            res[i] = cnt\n",
    "        return res"
   ]
  },
  {
   "cell_type": "code",
   "execution_count": 21,
   "metadata": {},
   "outputs": [
    {
     "data": {
      "text/plain": [
       "[2, 3, 2, 4]"
      ]
     },
     "execution_count": 21,
     "metadata": {},
     "output_type": "execute_result"
    }
   ],
   "source": [
    "solution = Solution()\n",
    "solution.countPoints(points = [[1,1],[2,2],[3,3],[4,4],[5,5]], queries = [[1,2,2],[2,2,2],[4,3,2],[4,3,3]])"
   ]
  },
  {
   "cell_type": "code",
   "execution_count": null,
   "metadata": {},
   "outputs": [],
   "source": []
  }
 ],
 "metadata": {
  "kernelspec": {
   "display_name": "Python 3",
   "language": "python",
   "name": "python3"
  },
  "language_info": {
   "codemirror_mode": {
    "name": "ipython",
    "version": 3
   },
   "file_extension": ".py",
   "mimetype": "text/x-python",
   "name": "python",
   "nbconvert_exporter": "python",
   "pygments_lexer": "ipython3",
   "version": "3.6.2"
  }
 },
 "nbformat": 4,
 "nbformat_minor": 4
}
