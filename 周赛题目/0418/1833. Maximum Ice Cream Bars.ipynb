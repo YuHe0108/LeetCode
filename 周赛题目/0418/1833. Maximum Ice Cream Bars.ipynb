{
 "cells": [
  {
   "cell_type": "code",
   "execution_count": null,
   "metadata": {},
   "outputs": [],
   "source": [
    "class Solution:\n",
    "    def maxIceCream(self, costs: List[int], coins: int) -> int:\n",
    "        total = sum(costs)\n",
    "        n = len(costs)\n",
    "        costs.sort()\n",
    "        if coins > total:\n",
    "            return n\n",
    "        if coins < costs[0]:\n",
    "            return 0\n",
    "        \n",
    "        cnt = 0\n",
    "        for c in costs:\n",
    "            if coins < c:\n",
    "                return cnt\n",
    "            cnt += 1\n",
    "            coins -= c\n",
    "        return cnt\n",
    "        \n",
    "        "
   ]
  }
 ],
 "metadata": {
  "kernelspec": {
   "display_name": "Python 3",
   "language": "python",
   "name": "python3"
  },
  "language_info": {
   "codemirror_mode": {
    "name": "ipython",
    "version": 3
   },
   "file_extension": ".py",
   "mimetype": "text/x-python",
   "name": "python",
   "nbconvert_exporter": "python",
   "pygments_lexer": "ipython3",
   "version": "3.6.2"
  }
 },
 "nbformat": 4,
 "nbformat_minor": 4
}
