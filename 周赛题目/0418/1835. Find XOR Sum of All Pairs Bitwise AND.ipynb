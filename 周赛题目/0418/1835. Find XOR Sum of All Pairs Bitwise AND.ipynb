{
 "cells": [
  {
   "cell_type": "code",
   "execution_count": null,
   "metadata": {},
   "outputs": [],
   "source": []
  },
  {
   "cell_type": "code",
   "execution_count": 2,
   "metadata": {},
   "outputs": [
    {
     "data": {
      "text/plain": [
       "1073741824"
      ]
     },
     "execution_count": 2,
     "metadata": {},
     "output_type": "execute_result"
    }
   ],
   "source": [
    "pow(2, 30)"
   ]
  },
  {
   "cell_type": "code",
   "execution_count": null,
   "metadata": {},
   "outputs": [],
   "source": []
  },
  {
   "cell_type": "code",
   "execution_count": 17,
   "metadata": {},
   "outputs": [],
   "source": [
    "from typing import List\n",
    "\n",
    "class Solution:\n",
    "    def getXORSum(self, arr1: List[int], arr2: List[int]) -> int:\n",
    "        bit_vals = [0] * 31 # arr2 每个 bit 位置上 1 的数量\n",
    "        for v in arr2:\n",
    "            for i in range(31):\n",
    "                bit_v = (v >> i) & 1\n",
    "                bit_vals[i] += bit_v\n",
    "        \n",
    "        res = 0\n",
    "        for v in arr1:\n",
    "            cur_v = 0\n",
    "            for i in range(31):\n",
    "                bit_v = (v >> i) & 1\n",
    "                # 如果 arr1 在第 i 个位置上的bit值是0，那么与 arr2 所有元素的 and 值都是0，0的异或值都是0\n",
    "                # 如果 arr1 在第 i 个位置上的bit值是1，那么 arr2所有元素在 当前位置 1 的总和 为奇数的话，值为 1\n",
    "                if bit_v == 1 and bit_vals[i] % 2 == 1: \n",
    "                    cur_v += (1 << i)\n",
    "            res ^= cur_v\n",
    "        return res"
   ]
  },
  {
   "cell_type": "code",
   "execution_count": null,
   "metadata": {},
   "outputs": [],
   "source": []
  },
  {
   "cell_type": "code",
   "execution_count": 22,
   "metadata": {},
   "outputs": [],
   "source": []
  },
  {
   "cell_type": "code",
   "execution_count": 23,
   "metadata": {},
   "outputs": [
    {
     "data": {
      "text/plain": [
       "0"
      ]
     },
     "execution_count": 23,
     "metadata": {},
     "output_type": "execute_result"
    }
   ],
   "source": [
    "solution = Solution()\n",
    "solution.getXORSum(arr1 = [1,2,3], arr2 = [6,5])"
   ]
  },
  {
   "cell_type": "code",
   "execution_count": null,
   "metadata": {},
   "outputs": [],
   "source": [
    "(1 and 6) & (1 and 5)"
   ]
  }
 ],
 "metadata": {
  "kernelspec": {
   "display_name": "Python 3",
   "language": "python",
   "name": "python3"
  },
  "language_info": {
   "codemirror_mode": {
    "name": "ipython",
    "version": 3
   },
   "file_extension": ".py",
   "mimetype": "text/x-python",
   "name": "python",
   "nbconvert_exporter": "python",
   "pygments_lexer": "ipython3",
   "version": "3.6.2"
  }
 },
 "nbformat": 4,
 "nbformat_minor": 4
}
