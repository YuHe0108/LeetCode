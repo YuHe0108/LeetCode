{
 "cells": [
  {
   "cell_type": "code",
   "execution_count": 4,
   "metadata": {},
   "outputs": [
    {
     "data": {
      "text/plain": [
       "0.5154761904761905"
      ]
     },
     "execution_count": 4,
     "metadata": {},
     "output_type": "execute_result"
    }
   ],
   "source": [
    "(4 / 5 + 6/14 + 2/4 + 3/9) / 4"
   ]
  },
  {
   "cell_type": "code",
   "execution_count": 5,
   "metadata": {},
   "outputs": [
    {
     "data": {
      "text/plain": [
       "0.6"
      ]
     },
     "execution_count": 5,
     "metadata": {},
     "output_type": "execute_result"
    }
   ],
   "source": [
    "3/5"
   ]
  },
  {
   "cell_type": "code",
   "execution_count": null,
   "metadata": {},
   "outputs": [],
   "source": []
  },
  {
   "cell_type": "code",
   "execution_count": null,
   "metadata": {},
   "outputs": [],
   "source": []
  },
  {
   "cell_type": "code",
   "execution_count": 104,
   "metadata": {},
   "outputs": [],
   "source": [
    "from typing import List\n",
    "import math\n",
    "\n",
    "class Solution:\n",
    "    def maxAverageRatio(self, classes: List[List[int]], extraStudents: int) -> float:\n",
    "        s_cls = sorted(classes, key=lambda x: x[0]/x[1])\n",
    "        \n",
    "        n = len(classes)\n",
    "        average = 0\n",
    "        for a, b in classes:\n",
    "            average += a/b\n",
    "        average /= n\n",
    "        \n",
    "        cur = 0\n",
    "        needs = []\n",
    "        for a, b in s_cls:\n",
    "            if a / b < average:\n",
    "                dif = average\n",
    "                val = math.ceil((dif * b - a) / (1 - dif))\n",
    "                needs.append(min(val, extraStudents))\n",
    "                extraStudents -= needs[-1]\n",
    "                if extraStudents == 0:\n",
    "                    break\n",
    "                    \n",
    "        print(needs)\n",
    "        return cur / n"
   ]
  },
  {
   "cell_type": "code",
   "execution_count": null,
   "metadata": {},
   "outputs": [],
   "source": []
  },
  {
   "cell_type": "code",
   "execution_count": null,
   "metadata": {},
   "outputs": [],
   "source": []
  },
  {
   "cell_type": "code",
   "execution_count": 12,
   "metadata": {},
   "outputs": [],
   "source": [
    "from typing import List\n",
    "import heapq\n",
    "\n",
    "class Solution:\n",
    "    def maxAverageRatio(self, classes: List[List[int]], extraStudents: int) -> float:\n",
    "        # 利用 heapq，每一次只将 +1 个学生增长率最大的班级弹出\n",
    "        pq = []\n",
    "        for s, t in classes:\n",
    "            # 增长率：(s+1)/(t+1) - s/t\n",
    "            heapq.heappush(pq, (s/t - (s+1)/(t+1), s, t))\n",
    "            \n",
    "        while extraStudents:\n",
    "            _, s, t = heapq.heappop(pq)\n",
    "            extraStudents -= 1\n",
    "            s += 1\n",
    "            t += 1\n",
    "            heapq.heappush(pq, (s/t - (s+1)/(t+1), s, t))\n",
    "            \n",
    "        res = 0\n",
    "        for _, s, t in pq:\n",
    "            res += s / t\n",
    "        return res / len(pq)"
   ]
  },
  {
   "cell_type": "code",
   "execution_count": 13,
   "metadata": {},
   "outputs": [
    {
     "data": {
      "text/plain": [
       "0.5348484848484848"
      ]
     },
     "execution_count": 13,
     "metadata": {},
     "output_type": "execute_result"
    }
   ],
   "source": [
    "solution = Solution()\n",
    "solution.maxAverageRatio(classes = [[2,4],[3,9],[4,5],[2,10]], extraStudents = 4)"
   ]
  },
  {
   "cell_type": "code",
   "execution_count": null,
   "metadata": {},
   "outputs": [],
   "source": []
  },
  {
   "cell_type": "code",
   "execution_count": null,
   "metadata": {},
   "outputs": [],
   "source": []
  },
  {
   "cell_type": "code",
   "execution_count": null,
   "metadata": {},
   "outputs": [],
   "source": []
  },
  {
   "cell_type": "code",
   "execution_count": null,
   "metadata": {},
   "outputs": [],
   "source": []
  },
  {
   "cell_type": "code",
   "execution_count": null,
   "metadata": {},
   "outputs": [],
   "source": []
  },
  {
   "cell_type": "code",
   "execution_count": 3,
   "metadata": {},
   "outputs": [
    {
     "ename": "IndentationError",
     "evalue": "unexpected indent (<ipython-input-3-adb9da8db533>, line 2)",
     "output_type": "error",
     "traceback": [
      "\u001b[1;36m  File \u001b[1;32m\"<ipython-input-3-adb9da8db533>\"\u001b[1;36m, line \u001b[1;32m2\u001b[0m\n\u001b[1;33m    2         1        0       1\u001b[0m\n\u001b[1;37m    ^\u001b[0m\n\u001b[1;31mIndentationError\u001b[0m\u001b[1;31m:\u001b[0m unexpected indent\n"
     ]
    }
   ],
   "source": [
    "(4 / 6 + 4 / 10 + 4 / 5 + 3 / 11) / 4\n",
    " 2         1        0       1\n",
    "0.5       0.33      0.8      0.2    0.458333"
   ]
  },
  {
   "cell_type": "code",
   "execution_count": null,
   "metadata": {},
   "outputs": [],
   "source": []
  },
  {
   "cell_type": "code",
   "execution_count": null,
   "metadata": {},
   "outputs": [],
   "source": []
  },
  {
   "cell_type": "code",
   "execution_count": null,
   "metadata": {},
   "outputs": [],
   "source": []
  },
  {
   "cell_type": "code",
   "execution_count": null,
   "metadata": {},
   "outputs": [],
   "source": [
    "0.2   0.33  0.5   0.8\n",
    "2/10  3/9   2/4    4/5"
   ]
  },
  {
   "cell_type": "code",
   "execution_count": 107,
   "metadata": {},
   "outputs": [
    {
     "data": {
      "text/plain": [
       "0.7142857142857143"
      ]
     },
     "execution_count": 107,
     "metadata": {},
     "output_type": "execute_result"
    }
   ],
   "source": [
    "5/7"
   ]
  },
  {
   "cell_type": "code",
   "execution_count": null,
   "metadata": {},
   "outputs": [],
   "source": []
  }
 ],
 "metadata": {
  "kernelspec": {
   "display_name": "PyCharm (test)",
   "language": "python",
   "name": "pycharm-6cfa6a7a"
  },
  "language_info": {
   "codemirror_mode": {
    "name": "ipython",
    "version": 3
   },
   "file_extension": ".py",
   "mimetype": "text/x-python",
   "name": "python",
   "nbconvert_exporter": "python",
   "pygments_lexer": "ipython3",
   "version": "3.6.2"
  }
 },
 "nbformat": 4,
 "nbformat_minor": 4
}
