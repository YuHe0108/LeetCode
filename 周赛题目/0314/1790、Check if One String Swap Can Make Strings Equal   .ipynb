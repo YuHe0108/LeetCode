{
 "cells": [
  {
   "cell_type": "code",
   "execution_count": null,
   "metadata": {},
   "outputs": [],
   "source": [
    "class Solution:\n",
    "    def areAlmostEqual(self, s1: str, s2: str) -> bool:\n",
    "        if s1 == s2:\n",
    "            return True\n",
    "        count1, count2 = Counter(s1), Counter(s2)\n",
    "        if count1 != count2:\n",
    "            return False\n",
    "        \n",
    "        idx1, idx2 = -1, -1\n",
    "        for i in range(len(s1)):\n",
    "            if s1[i] != s2[i]:\n",
    "                if idx1 == -1:\n",
    "                    idx1 = i\n",
    "                elif idx2 == -1:\n",
    "                    idx2 = i\n",
    "                else:\n",
    "                    return False\n",
    "        return idx1 != -1 and idx2 != -1"
   ]
  },
  {
   "cell_type": "code",
   "execution_count": null,
   "metadata": {},
   "outputs": [],
   "source": []
  },
  {
   "cell_type": "code",
   "execution_count": 1,
   "metadata": {},
   "outputs": [],
   "source": [
    "class Solution:\n",
    "    def areAlmostEqual(self, s1: str, s2: str) -> bool:\n",
    "        if s1 == s2:\n",
    "            return True\n",
    "        \n",
    "        fir = sec = None\n",
    "        n = len(s1)\n",
    "        for i in range(n):\n",
    "            if s1[i] != s2[i]:\n",
    "                if fir is None:\n",
    "                    fir = i\n",
    "                elif sec is None:\n",
    "                    sec = i\n",
    "                else:\n",
    "                    return False\n",
    "        return fir is not None and sec is not None\n",
    "                "
   ]
  },
  {
   "cell_type": "code",
   "execution_count": null,
   "metadata": {},
   "outputs": [],
   "source": [
    "solution = Sol"
   ]
  }
 ],
 "metadata": {
  "kernelspec": {
   "display_name": "Python 3",
   "language": "python",
   "name": "python3"
  },
  "language_info": {
   "codemirror_mode": {
    "name": "ipython",
    "version": 3
   },
   "file_extension": ".py",
   "mimetype": "text/x-python",
   "name": "python",
   "nbconvert_exporter": "python",
   "pygments_lexer": "ipython3",
   "version": "3.6.2"
  }
 },
 "nbformat": 4,
 "nbformat_minor": 4
}
