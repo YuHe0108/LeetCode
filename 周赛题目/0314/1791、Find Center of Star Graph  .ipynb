{
 "cells": [
  {
   "cell_type": "code",
   "execution_count": null,
   "metadata": {},
   "outputs": [],
   "source": [
    "class Solution:\n",
    "    def findCenter(self, edges: List[List[int]]) -> int:\n",
    "        n = -float('inf')\n",
    "        indeg = defaultdict(int)\n",
    "        for a, b in edges:\n",
    "            indeg[a] += 1\n",
    "            indeg[b] += 1\n",
    "            n = max(a, b, n)\n",
    "        \n",
    "        for v, k in indeg.items():\n",
    "            if k == n-1:\n",
    "                return v"
   ]
  }
 ],
 "metadata": {
  "kernelspec": {
   "display_name": "Python 3",
   "language": "python",
   "name": "python3"
  },
  "language_info": {
   "codemirror_mode": {
    "name": "ipython",
    "version": 3
   },
   "file_extension": ".py",
   "mimetype": "text/x-python",
   "name": "python",
   "nbconvert_exporter": "python",
   "pygments_lexer": "ipython3",
   "version": "3.6.2"
  }
 },
 "nbformat": 4,
 "nbformat_minor": 4
}
