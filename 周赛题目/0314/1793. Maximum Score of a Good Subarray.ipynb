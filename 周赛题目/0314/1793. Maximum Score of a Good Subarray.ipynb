{
 "cells": [
  {
   "cell_type": "code",
   "execution_count": null,
   "metadata": {},
   "outputs": [],
   "source": []
  },
  {
   "cell_type": "code",
   "execution_count": null,
   "metadata": {},
   "outputs": [],
   "source": []
  },
  {
   "cell_type": "code",
   "execution_count": null,
   "metadata": {},
   "outputs": [],
   "source": []
  },
  {
   "cell_type": "code",
   "execution_count": 7,
   "metadata": {},
   "outputs": [],
   "source": [
    "from typing import List\n",
    "\n",
    "class Solution:\n",
    "    def maximumScore(self, nums: List[int], k: int) -> int:\n",
    "        min_val = nums[k]\n",
    "        res = min_val\n",
    "        l = r = k\n",
    "        n = len(nums)\n",
    "        while l > 0 or r < n-1:\n",
    "            # 向 左边探一下、向 右边探一下\n",
    "            if l > 0 and r < n-1:\n",
    "                if nums[l-1] > nums[r+1]:\n",
    "                    l -= 1\n",
    "                    min_val = min(min_val, nums[l])\n",
    "                else:\n",
    "                    r += 1\n",
    "                    min_val = min(min_val, nums[r])\n",
    "            elif l > 0:\n",
    "                l -= 1\n",
    "                min_val = min(min_val, nums[l])\n",
    "            elif r < n-1:\n",
    "                r += 1\n",
    "                min_val = min(min_val, nums[r])\n",
    "            res = max(res,  min_val * (r-l+1))\n",
    "        return res"
   ]
  },
  {
   "cell_type": "code",
   "execution_count": 9,
   "metadata": {},
   "outputs": [
    {
     "data": {
      "text/plain": [
       "21"
      ]
     },
     "execution_count": 9,
     "metadata": {},
     "output_type": "execute_result"
    }
   ],
   "source": [
    "solution = Solution()\n",
    "solution.maximumScore(nums = [10,9,4,5,3,7,4], k = 3)"
   ]
  },
  {
   "cell_type": "code",
   "execution_count": null,
   "metadata": {},
   "outputs": [],
   "source": []
  }
 ],
 "metadata": {
  "kernelspec": {
   "display_name": "Python 3",
   "language": "python",
   "name": "python3"
  },
  "language_info": {
   "codemirror_mode": {
    "name": "ipython",
    "version": 3
   },
   "file_extension": ".py",
   "mimetype": "text/x-python",
   "name": "python",
   "nbconvert_exporter": "python",
   "pygments_lexer": "ipython3",
   "version": "3.6.2"
  }
 },
 "nbformat": 4,
 "nbformat_minor": 4
}
