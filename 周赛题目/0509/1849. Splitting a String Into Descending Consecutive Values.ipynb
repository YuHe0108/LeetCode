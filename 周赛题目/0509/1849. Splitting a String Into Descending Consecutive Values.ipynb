{
 "cells": [
  {
   "cell_type": "code",
   "execution_count": null,
   "metadata": {},
   "outputs": [],
   "source": []
  },
  {
   "cell_type": "code",
   "execution_count": null,
   "metadata": {},
   "outputs": [],
   "source": []
  },
  {
   "cell_type": "code",
   "execution_count": null,
   "metadata": {},
   "outputs": [],
   "source": []
  },
  {
   "cell_type": "code",
   "execution_count": null,
   "metadata": {},
   "outputs": [],
   "source": []
  },
  {
   "cell_type": "code",
   "execution_count": 23,
   "metadata": {},
   "outputs": [],
   "source": [
    "class Solution:\n",
    "    def splitString(self, s: str) -> bool:\n",
    "        # 对于当前数字，如果 s[i] 小于 s[:i] 之间的某个数字，可能出现拆分的情况\n",
    "        \n",
    "        def helper(sub_str, v): # 是否可以划分 sub_str, 使得其中的一部分的值 等于 v\n",
    "            if not sub_str or int(sub_str) == v:\n",
    "                return True\n",
    "            \n",
    "            for i in range(1, len(sub_str)):\n",
    "                sub_v = int(sub_str[:i])\n",
    "                if sub_v == v:\n",
    "                    if helper(sub_str[i:], sub_v - 1):\n",
    "                        return True\n",
    "            return False\n",
    "        \n",
    "        n = len(s)\n",
    "        for i in range(1, n): # 能够划分的区间位置\n",
    "            v = int(s[:i])\n",
    "            if v == 0:\n",
    "                continue\n",
    "            if helper(s[i:], v - 1):\n",
    "                return True\n",
    "        return False"
   ]
  },
  {
   "cell_type": "code",
   "execution_count": 27,
   "metadata": {},
   "outputs": [
    {
     "data": {
      "text/plain": [
       "True"
      ]
     },
     "execution_count": 27,
     "metadata": {},
     "output_type": "execute_result"
    }
   ],
   "source": [
    "solution = Solution()\n",
    "solution.splitString(s = \"10009998\")"
   ]
  },
  {
   "cell_type": "code",
   "execution_count": 1,
   "metadata": {},
   "outputs": [],
   "source": [
    "a = '102918210603349'"
   ]
  },
  {
   "cell_type": "code",
   "execution_count": 2,
   "metadata": {},
   "outputs": [
    {
     "name": "stdout",
     "output_type": "stream",
     "text": [
      "15\n"
     ]
    }
   ],
   "source": [
    "print(len(a))"
   ]
  },
  {
   "cell_type": "code",
   "execution_count": null,
   "metadata": {},
   "outputs": [],
   "source": []
  }
 ],
 "metadata": {
  "kernelspec": {
   "display_name": "Python 3",
   "language": "python",
   "name": "python3"
  },
  "language_info": {
   "codemirror_mode": {
    "name": "ipython",
    "version": 3
   },
   "file_extension": ".py",
   "mimetype": "text/x-python",
   "name": "python",
   "nbconvert_exporter": "python",
   "pygments_lexer": "ipython3",
   "version": "3.6.2"
  }
 },
 "nbformat": 4,
 "nbformat_minor": 4
}
