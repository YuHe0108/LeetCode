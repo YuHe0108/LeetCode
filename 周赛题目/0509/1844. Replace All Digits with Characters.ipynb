{
 "cells": [
  {
   "cell_type": "code",
   "execution_count": null,
   "metadata": {},
   "outputs": [],
   "source": [
    "class Solution:\n",
    "    def replaceDigits(self, s: str) -> str:\n",
    "        s_list = list(s)\n",
    "        \n",
    "        for i, v in enumerate(s_list):\n",
    "            if i % 2 == 1:\n",
    "                s_list[i] = chr(ord(s_list[i-1]) + int(v))\n",
    "        \n",
    "        return ''.join(s_list)"
   ]
  }
 ],
 "metadata": {
  "kernelspec": {
   "display_name": "Python 3",
   "language": "python",
   "name": "python3"
  },
  "language_info": {
   "codemirror_mode": {
    "name": "ipython",
    "version": 3
   },
   "file_extension": ".py",
   "mimetype": "text/x-python",
   "name": "python",
   "nbconvert_exporter": "python",
   "pygments_lexer": "ipython3",
   "version": "3.6.2"
  }
 },
 "nbformat": 4,
 "nbformat_minor": 4
}
