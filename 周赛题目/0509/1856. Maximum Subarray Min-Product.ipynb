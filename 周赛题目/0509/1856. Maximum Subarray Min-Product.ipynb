{
 "cells": [
  {
   "cell_type": "code",
   "execution_count": null,
   "metadata": {},
   "outputs": [],
   "source": []
  },
  {
   "cell_type": "code",
   "execution_count": null,
   "metadata": {},
   "outputs": [],
   "source": []
  },
  {
   "cell_type": "code",
   "execution_count": null,
   "metadata": {},
   "outputs": [],
   "source": []
  },
  {
   "cell_type": "code",
   "execution_count": null,
   "metadata": {},
   "outputs": [],
   "source": []
  },
  {
   "cell_type": "code",
   "execution_count": 17,
   "metadata": {},
   "outputs": [],
   "source": [
    "from typing import List\n",
    "import bisect\n",
    "\n",
    "class Solution:\n",
    "    def maxSumMinProduct(self, nums: List[int]) -> int:\n",
    "        # 子数组：min(sub_arr) * sum(sub_arr), 求最大值\n",
    "        presum = [0]\n",
    "        for v in nums:\n",
    "            presum.append(presum[-1] + v)\n",
    "        \n",
    "        vals = []\n",
    "        for i, v in enumerate(nums):\n",
    "            vals.append((v, i))\n",
    "        vals.sort(key = lambda x: (x[0], -x[1])) # 首先是按照元素的大小排序，如果数值相同，则\n",
    "    \n",
    "        ans = 0\n",
    "        mod = pow(10, 9) + 7\n",
    "        # 只能是 O(n) 的时间, 在nums中快速找到 比 v 小的值，且这个值越靠后越好\n",
    "        for i, v in enumerate(nums):\n",
    "            pass\n",
    "            ans = max(ans, v)\n",
    "        return ans % mod"
   ]
  },
  {
   "cell_type": "code",
   "execution_count": 18,
   "metadata": {},
   "outputs": [],
   "source": [
    "solution = Solution()\n",
    "solution.maxSumMinProduct(nums = [1,1,2,3,2])"
   ]
  },
  {
   "cell_type": "code",
   "execution_count": null,
   "metadata": {},
   "outputs": [],
   "source": []
  },
  {
   "cell_type": "code",
   "execution_count": null,
   "metadata": {},
   "outputs": [],
   "source": []
  },
  {
   "cell_type": "code",
   "execution_count": null,
   "metadata": {},
   "outputs": [],
   "source": []
  },
  {
   "cell_type": "code",
   "execution_count": null,
   "metadata": {},
   "outputs": [],
   "source": []
  },
  {
   "cell_type": "code",
   "execution_count": 148,
   "metadata": {},
   "outputs": [],
   "source": [
    "from typing import List\n",
    "\n",
    "# 单调栈的方法，找到每一个元素前一个 较小值，和 后一个较小值\n",
    "\n",
    "class Solution:\n",
    "    def maxSumMinProduct(self, nums: List[int]) -> int:\n",
    "        n = len(nums)\n",
    "        stack = []\n",
    "        next_smaller = [n] * n # 对于nums[i]来说，下一个比nums[i]小的元素在哪里\n",
    "        for i in range(n):\n",
    "            while stack and nums[i] < nums[stack[-1]]: # 遇到了更小的元素\n",
    "                idx = stack.pop()\n",
    "                next_smaller[idx] = i\n",
    "            stack.append(i)\n",
    "        \n",
    "        pre_smaller = [-1] * n\n",
    "        stack = []\n",
    "        for i in range(n-1, -1, -1):\n",
    "            while stack and nums[i] < nums[stack[-1]]:\n",
    "                idx = stack.pop()\n",
    "                pre_smaller[idx] = i\n",
    "            stack.append(i)\n",
    "            \n",
    "        # 计算前缀和\n",
    "        presum = [nums[0]]\n",
    "        for i in range(1, n):\n",
    "            presum.append(nums[i] + presum[-1])\n",
    "        print(presum)\n",
    "        \n",
    "        ans = 0\n",
    "        for i, v in enumerate(nums):\n",
    "            pre_idx = pre_smaller[i]\n",
    "            nxt_idx = next_smaller[i]\n",
    "            sum_val = presum[nxt_idx-1] - (presum[pre_idx] if pre_idx != -1 else 0)\n",
    "            ans = max(ans, v * sum_val)\n",
    "        mod = pow(10, 9) + 7\n",
    "        return ans % mod"
   ]
  },
  {
   "cell_type": "code",
   "execution_count": 149,
   "metadata": {},
   "outputs": [
    {
     "name": "stdout",
     "output_type": "stream",
     "text": [
      "[2, 7, 11, 13, 17, 22, 25, 26, 28, 32]\n"
     ]
    },
    {
     "data": {
      "text/plain": [
       "50"
      ]
     },
     "execution_count": 149,
     "metadata": {},
     "output_type": "execute_result"
    }
   ],
   "source": [
    "solution = Solution()\n",
    "solution.maxSumMinProduct([2,5,4,2,4,5,3,1,2,4])"
   ]
  },
  {
   "cell_type": "code",
   "execution_count": null,
   "metadata": {},
   "outputs": [],
   "source": [
    " 0  1  2  3  4   5   6\n",
    "[0, 3, 4, 9, 15, 19, 21]"
   ]
  },
  {
   "cell_type": "code",
   "execution_count": null,
   "metadata": {},
   "outputs": [],
   "source": []
  },
  {
   "cell_type": "code",
   "execution_count": null,
   "metadata": {},
   "outputs": [],
   "source": [
    "if nxt_idx == n and pre_idx == -1:\n",
    "    sum_val = presum[-1]\n",
    "elif nxt_idx == n:\n",
    "    sum_val = presum[-1] - presum[pre_idx+1]\n",
    "elif pre_idx == -1:\n",
    "    sum_val = presum[nxt_idx] - presum[0]\n",
    "else:\n",
    "    sum_val = presum[nxt_idx] - presum[pre_idx+1]"
   ]
  }
 ],
 "metadata": {
  "kernelspec": {
   "display_name": "Python 3",
   "language": "python",
   "name": "python3"
  },
  "language_info": {
   "codemirror_mode": {
    "name": "ipython",
    "version": 3
   },
   "file_extension": ".py",
   "mimetype": "text/x-python",
   "name": "python",
   "nbconvert_exporter": "python",
   "pygments_lexer": "ipython3",
   "version": "3.6.2"
  }
 },
 "nbformat": 4,
 "nbformat_minor": 4
}
