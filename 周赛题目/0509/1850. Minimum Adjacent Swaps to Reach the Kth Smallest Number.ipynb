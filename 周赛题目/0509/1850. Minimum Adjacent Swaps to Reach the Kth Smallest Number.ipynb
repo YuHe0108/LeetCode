{
 "cells": [
  {
   "cell_type": "code",
   "execution_count": null,
   "metadata": {},
   "outputs": [],
   "source": []
  },
  {
   "cell_type": "code",
   "execution_count": null,
   "metadata": {},
   "outputs": [],
   "source": []
  },
  {
   "cell_type": "code",
   "execution_count": null,
   "metadata": {},
   "outputs": [],
   "source": []
  },
  {
   "cell_type": "code",
   "execution_count": null,
   "metadata": {},
   "outputs": [],
   "source": []
  },
  {
   "cell_type": "code",
   "execution_count": 20,
   "metadata": {},
   "outputs": [],
   "source": [
    "from typing import List\n",
    "\n",
    "class Solution:\n",
    "    def getMinSwaps(self, num: str, k: int) -> int:\n",
    "        \n",
    "        # 1、首先找到 num 的下一个 permutation, O(k*n)\n",
    "        def nextPermutation(nums: List[int]):\n",
    "            n = len(nums)\n",
    "            r_nums = nums[::-1]\n",
    "            stack = []\n",
    "            f, s = None, None\n",
    "            for i, v in enumerate(r_nums):\n",
    "                if stack and v < r_nums[stack[-1]]:\n",
    "                    f = i\n",
    "                    while stack and v < r_nums[stack[-1]]:\n",
    "                        s = stack[-1]\n",
    "                        last = stack.pop()\n",
    "                    break\n",
    "                else:\n",
    "                    stack.append(i)\n",
    "\n",
    "            if f == s == None:\n",
    "                nums.sort()\n",
    "            else:\n",
    "                n_f, n_s = n-f-1, n-s-1\n",
    "                nums[n_f], nums[n_s] = nums[n_s], nums[n_f]\n",
    "                nums[n_f+1:] = sorted(nums[n_f+1:])\n",
    "            return nums\n",
    "        \n",
    "        # 2、经过多少次交换可以得到 该permutation，其实就是 求逆序对的过程\n",
    "        k_nums = list(num) # 获取第 k 个秒数\n",
    "        for i in range(k):\n",
    "            k_nums = nextPermutation(k_nums)\n",
    "        k_nums = ''.join(k_nums)\n",
    "        \n",
    "        # 3、计算交换次数\n",
    "        ans = 0\n",
    "        num = list(num)\n",
    "        for i, v1 in enumerate(k_nums): # 查找经过排序后的数字，在num中的什么位置\n",
    "            cnt = 0\n",
    "            for j, v2 in enumerate(num):\n",
    "                if v2 == '#':\n",
    "                    continue\n",
    "                if v2 == v1: # 找到之后，标记\n",
    "                    num[j] = '#'\n",
    "                    break\n",
    "                cnt += 1\n",
    "            ans += cnt\n",
    "        return ans"
   ]
  },
  {
   "cell_type": "code",
   "execution_count": 23,
   "metadata": {},
   "outputs": [
    {
     "data": {
      "text/plain": [
       "1"
      ]
     },
     "execution_count": 23,
     "metadata": {},
     "output_type": "execute_result"
    }
   ],
   "source": [
    "solution = Solution()\n",
    "solution.getMinSwaps(num = \"00123\", k = 1)"
   ]
  },
  {
   "cell_type": "code",
   "execution_count": null,
   "metadata": {},
   "outputs": [],
   "source": [
    "5489355421\n",
    "5489355421"
   ]
  }
 ],
 "metadata": {
  "kernelspec": {
   "display_name": "Python 3",
   "language": "python",
   "name": "python3"
  },
  "language_info": {
   "codemirror_mode": {
    "name": "ipython",
    "version": 3
   },
   "file_extension": ".py",
   "mimetype": "text/x-python",
   "name": "python",
   "nbconvert_exporter": "python",
   "pygments_lexer": "ipython3",
   "version": "3.6.2"
  }
 },
 "nbformat": 4,
 "nbformat_minor": 4
}
