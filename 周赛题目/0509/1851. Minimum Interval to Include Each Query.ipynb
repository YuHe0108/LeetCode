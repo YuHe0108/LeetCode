{
 "cells": [
  {
   "cell_type": "code",
   "execution_count": null,
   "metadata": {},
   "outputs": [],
   "source": []
  },
  {
   "cell_type": "code",
   "execution_count": null,
   "metadata": {},
   "outputs": [],
   "source": []
  },
  {
   "cell_type": "code",
   "execution_count": null,
   "metadata": {},
   "outputs": [],
   "source": []
  },
  {
   "cell_type": "code",
   "execution_count": null,
   "metadata": {},
   "outputs": [],
   "source": []
  },
  {
   "cell_type": "code",
   "execution_count": null,
   "metadata": {},
   "outputs": [],
   "source": []
  },
  {
   "cell_type": "code",
   "execution_count": 110,
   "metadata": {},
   "outputs": [],
   "source": [
    "from sortedcontainers import SortedList\n",
    "from typing import List\n",
    "import bisect\n",
    "\n",
    "class Solution:\n",
    "    def minInterval(self, intervals: List[List[int]], queries: List[int]) -> List[int]:\n",
    "        # 第 j 个查询的答案是满足 left_i <= queries[j] <= right_i 的长度 [最小区间 i 的长度]\n",
    "        # 按照 start排序，start相同按照interval排序\n",
    "        intervals.sort(key = lambda x:(x[0], x[1]))\n",
    "        n = len(queries)\n",
    "        ans = [-1] * n\n",
    "        \n",
    "        s_queries = [(x, i) for i, x in enumerate(queries)]\n",
    "        s_queries.sort(key = lambda x:x[0]) # queries 按照从小到大 排序\n",
    "        \n",
    "        s_inter = SortedList()\n",
    "        duration = SortedList()\n",
    "        idx = 0\n",
    "        for v, i in s_queries:\n",
    "            # 加入值： start <= v\n",
    "            while idx < len(intervals) and intervals[idx][0] <= v:\n",
    "                s_inter.add((intervals[idx][1], intervals[idx][0]))\n",
    "                duration.add(intervals[idx][1] - intervals[idx][0] + 1)\n",
    "                idx += 1\n",
    "            \n",
    "            # 删除值： end < v\n",
    "            while s_inter and s_inter[0][0] < v:\n",
    "                e, s = s_inter.pop(0)\n",
    "                duration.remove(e - s + 1)\n",
    "                \n",
    "            # 留下的值是合法的值\n",
    "            if duration:\n",
    "                ans[i] = duration[0]\n",
    "        return ans"
   ]
  },
  {
   "cell_type": "code",
   "execution_count": 112,
   "metadata": {},
   "outputs": [
    {
     "data": {
      "text/plain": [
       "[3, 3, 1, 4]"
      ]
     },
     "execution_count": 112,
     "metadata": {},
     "output_type": "execute_result"
    }
   ],
   "source": [
    "solution = Solution()\n",
    "solution.minInterval(intervals = [[1,4],[2,4],[3,6],[4,4]], queries = [2,3,4,5])"
   ]
  },
  {
   "cell_type": "code",
   "execution_count": 88,
   "metadata": {},
   "outputs": [],
   "source": [
    "a = SortedList()\n",
    "a.add(1)\n",
    "a.add(6)"
   ]
  },
  {
   "cell_type": "code",
   "execution_count": 89,
   "metadata": {},
   "outputs": [
    {
     "data": {
      "text/plain": [
       "SortedList([1, 6])"
      ]
     },
     "execution_count": 89,
     "metadata": {},
     "output_type": "execute_result"
    }
   ],
   "source": [
    "a"
   ]
  },
  {
   "cell_type": "code",
   "execution_count": 90,
   "metadata": {},
   "outputs": [],
   "source": [
    "a.remove(6)"
   ]
  },
  {
   "cell_type": "code",
   "execution_count": 91,
   "metadata": {},
   "outputs": [
    {
     "data": {
      "text/plain": [
       "SortedList([1])"
      ]
     },
     "execution_count": 91,
     "metadata": {},
     "output_type": "execute_result"
    }
   ],
   "source": [
    "a"
   ]
  },
  {
   "cell_type": "code",
   "execution_count": null,
   "metadata": {},
   "outputs": [],
   "source": []
  }
 ],
 "metadata": {
  "kernelspec": {
   "display_name": "Python 3",
   "language": "python",
   "name": "python3"
  },
  "language_info": {
   "codemirror_mode": {
    "name": "ipython",
    "version": 3
   },
   "file_extension": ".py",
   "mimetype": "text/x-python",
   "name": "python",
   "nbconvert_exporter": "python",
   "pygments_lexer": "ipython3",
   "version": "3.6.2"
  }
 },
 "nbformat": 4,
 "nbformat_minor": 4
}
