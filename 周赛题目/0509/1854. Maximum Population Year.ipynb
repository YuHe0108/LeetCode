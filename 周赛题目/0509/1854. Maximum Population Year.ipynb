{
 "cells": [
  {
   "cell_type": "code",
   "execution_count": 1,
   "metadata": {},
   "outputs": [],
   "source": [
    "a = [[1, 2], [4, 5], [1, -3]]"
   ]
  },
  {
   "cell_type": "code",
   "execution_count": 2,
   "metadata": {},
   "outputs": [],
   "source": [
    "a.sort()"
   ]
  },
  {
   "cell_type": "code",
   "execution_count": 3,
   "metadata": {},
   "outputs": [
    {
     "data": {
      "text/plain": [
       "[[1, -3], [1, 2], [4, 5]]"
      ]
     },
     "execution_count": 3,
     "metadata": {},
     "output_type": "execute_result"
    }
   ],
   "source": [
    "a"
   ]
  },
  {
   "cell_type": "code",
   "execution_count": 4,
   "metadata": {},
   "outputs": [],
   "source": [
    "from typing import List\n",
    "\n",
    "class Solution:\n",
    "    def maximumPopulation(self, logs: List[List[int]]) -> int:\n",
    "        n = len(logs)\n",
    "        person = [0] * (2050 - 1950 + 2)\n",
    "        \n",
    "        for b, d in logs:\n",
    "            person[b-1950] += 1\n",
    "            person[d-1950] -= 1\n",
    "        \n",
    "        cur = 0\n",
    "        max_val = 0\n",
    "        ans = float('inf')\n",
    "        for i, v in enumerate(person):\n",
    "            cur += v\n",
    "            if cur == max_val:\n",
    "                ans = min(i, ans)\n",
    "            elif cur > max_val:\n",
    "                max_val = cur\n",
    "                ans = i\n",
    "        return ans + 1950"
   ]
  },
  {
   "cell_type": "code",
   "execution_count": null,
   "metadata": {},
   "outputs": [],
   "source": []
  }
 ],
 "metadata": {
  "kernelspec": {
   "display_name": "Python 3",
   "language": "python",
   "name": "python3"
  },
  "language_info": {
   "codemirror_mode": {
    "name": "ipython",
    "version": 3
   },
   "file_extension": ".py",
   "mimetype": "text/x-python",
   "name": "python",
   "nbconvert_exporter": "python",
   "pygments_lexer": "ipython3",
   "version": "3.6.2"
  }
 },
 "nbformat": 4,
 "nbformat_minor": 4
}
