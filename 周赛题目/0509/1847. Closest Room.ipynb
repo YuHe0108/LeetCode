{
 "cells": [
  {
   "cell_type": "code",
   "execution_count": null,
   "metadata": {},
   "outputs": [],
   "source": [
    "\n"
   ]
  },
  {
   "cell_type": "code",
   "execution_count": null,
   "metadata": {},
   "outputs": [],
   "source": []
  },
  {
   "cell_type": "code",
   "execution_count": null,
   "metadata": {},
   "outputs": [],
   "source": []
  },
  {
   "cell_type": "code",
   "execution_count": null,
   "metadata": {},
   "outputs": [],
   "source": []
  },
  {
   "cell_type": "code",
   "execution_count": null,
   "metadata": {},
   "outputs": [],
   "source": []
  },
  {
   "cell_type": "code",
   "execution_count": 72,
   "metadata": {},
   "outputs": [],
   "source": [
    "\n",
    "from sortedcontainers import SortedList\n",
    "from typing import List\n",
    "import bisect\n",
    "\n",
    "class Solution:\n",
    "    def closestRoom(self, rooms: List[List[int]], queries: List[List[int]]) -> List[int]:\n",
    "        rooms = sorted(rooms, key=lambda x:x[1]) # 按照房间的大小排序\n",
    "        s_queries = []\n",
    "        for i, item in enumerate(queries):\n",
    "            item.append(i)\n",
    "            s_queries.append(item)\n",
    "        s_queries = sorted(s_queries, key=lambda x:-x[1]) # 按照房间的大小排序\n",
    "        \n",
    "        s_rooms = SortedList() # 房间的大小从小到大放入\n",
    "        res = [-1] * len(queries) # 答案\n",
    "        \n",
    "        for q_pre, q_size, q_idx in s_queries:\n",
    "            while rooms and rooms[-1][-1] >= q_size:\n",
    "                r_idx, r_size = rooms.pop()\n",
    "                s_rooms.add(r_idx) # 放入房间 size >= q_size\n",
    "            \n",
    "            ans = -1\n",
    "            dif = float('inf') # abs(id - preferredj) 的值最小\n",
    "            \n",
    "            insert_idx = bisect.bisect_left(s_rooms, q_pre)\n",
    "            \n",
    "            if insert_idx != len(s_rooms):\n",
    "                ans = s_rooms[insert_idx]\n",
    "                dif = abs(s_rooms[insert_idx] - q_pre)\n",
    "            \n",
    "            if insert_idx != 0:\n",
    "                insert_idx -= 1\n",
    "                if abs(s_rooms[insert_idx] - q_pre) <= dif:\n",
    "                    dif = abs(s_rooms[insert_idx] - q_pre)\n",
    "                    ans = s_rooms[insert_idx]\n",
    "           \n",
    "            res[q_idx] = ans\n",
    "            \n",
    "        return res"
   ]
  },
  {
   "cell_type": "code",
   "execution_count": 73,
   "metadata": {},
   "outputs": [
    {
     "data": {
      "text/plain": [
       "[3, -1, 3]"
      ]
     },
     "execution_count": 73,
     "metadata": {},
     "output_type": "execute_result"
    }
   ],
   "source": [
    "solution = Solution()\n",
    "solution.closestRoom(rooms = [[2,2],[1,2],[3,2]], \n",
    "                     queries = [[3,1],[3,3],[5,2]])"
   ]
  },
  {
   "cell_type": "code",
   "execution_count": null,
   "metadata": {},
   "outputs": [],
   "source": []
  },
  {
   "cell_type": "code",
   "execution_count": null,
   "metadata": {},
   "outputs": [],
   "source": []
  },
  {
   "cell_type": "code",
   "execution_count": 81,
   "metadata": {},
   "outputs": [],
   "source": [
    "a = [1, 2, 3]"
   ]
  },
  {
   "cell_type": "code",
   "execution_count": 82,
   "metadata": {},
   "outputs": [
    {
     "data": {
      "text/plain": [
       "3"
      ]
     },
     "execution_count": 82,
     "metadata": {},
     "output_type": "execute_result"
    }
   ],
   "source": [
    "bisect.bisect_left(a, 5)"
   ]
  },
  {
   "cell_type": "code",
   "execution_count": null,
   "metadata": {},
   "outputs": [],
   "source": [
    "insert_idx = bisect.bisect_left(s_rooms, q_pre)\n",
    "            \n",
    "if insert_idx != len(s_rooms):\n",
    "    ans = s_rooms[insert_idx]\n",
    "    dif = abs(s_rooms[insert_idx] - q_pre)\n",
    "\n",
    "if insert_idx != 0:\n",
    "    insert_idx -= 1\n",
    "    if abs(s_rooms[insert_idx] - q_pre) <= dif:\n",
    "        dif = abs(s_rooms[insert_idx] - q_pre)\n",
    "        ans = s_rooms[insert_idx]"
   ]
  }
 ],
 "metadata": {
  "kernelspec": {
   "display_name": "Python 3",
   "language": "python",
   "name": "python3"
  },
  "language_info": {
   "codemirror_mode": {
    "name": "ipython",
    "version": 3
   },
   "file_extension": ".py",
   "mimetype": "text/x-python",
   "name": "python",
   "nbconvert_exporter": "python",
   "pygments_lexer": "ipython3",
   "version": "3.6.2"
  }
 },
 "nbformat": 4,
 "nbformat_minor": 4
}
