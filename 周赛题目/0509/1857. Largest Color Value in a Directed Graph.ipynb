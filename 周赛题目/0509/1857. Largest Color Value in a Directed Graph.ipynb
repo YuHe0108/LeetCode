{
 "cells": [
  {
   "cell_type": "code",
   "execution_count": null,
   "metadata": {},
   "outputs": [],
   "source": []
  },
  {
   "cell_type": "code",
   "execution_count": null,
   "metadata": {},
   "outputs": [],
   "source": []
  },
  {
   "cell_type": "code",
   "execution_count": null,
   "metadata": {},
   "outputs": [],
   "source": []
  },
  {
   "cell_type": "code",
   "execution_count": 190,
   "metadata": {},
   "outputs": [],
   "source": [
    "from typing import List\n",
    "from collections import defaultdict, deque\n",
    "\n",
    "class Solution:\n",
    "    def largestPathValue(self, colors: str, edges: List[List[int]]) -> int:\n",
    "                     \n",
    "        n, m = len(colors), len(edges)\n",
    "        graph_e_s = defaultdict(list) # 构建图\n",
    "        graph_s_e = defaultdict(list)\n",
    "        indegree = defaultdict(int) # 构建入度图\n",
    "        for s, e in edges:\n",
    "            graph_e_s[e].append(s) # 起点 -> 终点\n",
    "            graph_s_e[s].append(e) # 终点 -> 起点\n",
    "            indegree[s] += 1\n",
    "        res = -1\n",
    "        for i in range(26):\n",
    "            res = max(res, self.dfs(i, n, colors, graph_e_s, graph_s_e, indegree.copy()))\n",
    "        return res\n",
    "    \n",
    "     # 首先找入度为 0 的点\n",
    "    def dfs(self, val, n, colors, graph_e_s, graph_s_e, indegree): # 统计节点的颜色为 val\n",
    "        temp = [0] * n # 只有节点的颜色 == val 的时候才 +1\n",
    "        dq = deque() # 初始化入读为 0 的节点\n",
    "        for i in range(n):\n",
    "            if not indegree[i]:\n",
    "                dq.append(i)\n",
    "                if ord(colors[i]) - ord('a') == val:\n",
    "                    temp[i] = 1\n",
    "\n",
    "        seen = set()\n",
    "        while dq:\n",
    "            for _ in range(len(dq)):\n",
    "                node = dq.popleft() # 入度为 0 的点\n",
    "                seen.add(node)\n",
    "\n",
    "                for s in graph_e_s[node]: # 切断与入读为 0的点的边\n",
    "                    indegree[s] -= 1\n",
    "                    if indegree[s] == 0: #入度为 0 加入\n",
    "                        dq.append(s)\n",
    "\n",
    "                        # 当前的 s 的入度为0，有可能节点 s 有多个子节点，选择 值最大的一个\n",
    "                        for nxt in graph_s_e[s]:\n",
    "                            temp[s] = max(temp[s], temp[nxt])\n",
    "                        if ord(colors[s]) - ord('a') == val:\n",
    "                            temp[s] += 1\n",
    "        if len(seen) != n:\n",
    "            return -1\n",
    "        return max(temp)"
   ]
  },
  {
   "cell_type": "code",
   "execution_count": null,
   "metadata": {},
   "outputs": [],
   "source": []
  },
  {
   "cell_type": "code",
   "execution_count": null,
   "metadata": {},
   "outputs": [],
   "source": []
  },
  {
   "cell_type": "code",
   "execution_count": 199,
   "metadata": {},
   "outputs": [],
   "source": [
    "from typing import List\n",
    "from collections import defaultdict, deque\n",
    "\n",
    "class Solution:\n",
    "    def largestPathValue(self, colors: str, edges: List[List[int]]) -> int:\n",
    "        \n",
    "        n, m = len(colors), len(edges)\n",
    "        graph_e_s = defaultdict(list) # 构建图\n",
    "        graph_s_e = defaultdict(list)\n",
    "        indegree_ori = [0] * n # 构建入度图\n",
    "        for s, e in edges:\n",
    "            graph_e_s[e].append(s) # 起点 -> 终点\n",
    "            graph_s_e[s].append(e) # 终点 -> 起点\n",
    "            indegree_ori[s] += 1\n",
    "        \n",
    "        # 首先找入度为 0 的点\n",
    "        def dfs(val): # 统计节点的颜色为 val\n",
    "            indegree = indegree_ori[:]\n",
    "            temp = [0] * n # 只有节点的颜色 == val 的时候才 +1\n",
    "            dq = deque() # 初始化入读为 0 的节点\n",
    "            for i in range(n):\n",
    "                if not indegree[i]:\n",
    "                    dq.append(i)\n",
    "                    if ord(colors[i]) - ord('a') == val:\n",
    "                        temp[i] = 1\n",
    "            nodes = 0\n",
    "            while dq:\n",
    "                for _ in range(len(dq)):\n",
    "                    node = dq.popleft() # 入度为 0 的点\n",
    "                    nodes += 1\n",
    "                    \n",
    "                    for s in graph_e_s[node]: # 切断与入读为 0的点的边\n",
    "                        indegree[s] -= 1\n",
    "                        if indegree[s] == 0: #入度为 0 加入\n",
    "                            dq.append(s)\n",
    "                            for nxt in graph_s_e[s]:\n",
    "                                temp[s] = max(temp[s], temp[nxt])\n",
    "                            if ord(colors[s]) - ord('a') == val:\n",
    "                                temp[s] += 1\n",
    "            if nodes != n:\n",
    "                return -1\n",
    "            return max(temp)\n",
    "        \n",
    "        res = -1\n",
    "        for ch in set(colors):\n",
    "            v = dfs(ord(ch) - ord('a'))\n",
    "            if v == -1:\n",
    "                return -1\n",
    "            res = max(res, v)\n",
    "        return res"
   ]
  },
  {
   "cell_type": "code",
   "execution_count": 200,
   "metadata": {},
   "outputs": [
    {
     "name": "stdout",
     "output_type": "stream",
     "text": [
      "y 121\n",
      "e 101\n"
     ]
    },
    {
     "data": {
      "text/plain": [
       "5"
      ]
     },
     "execution_count": 200,
     "metadata": {},
     "output_type": "execute_result"
    }
   ],
   "source": [
    "solution = Solution()\n",
    "solution.largestPathValue(\"eeyyeeyeye\", [[0,1],[1,2],[2,3],[3,4],[4,5],[4,6],[5,7],[6,8],[8,9]])"
   ]
  },
  {
   "cell_type": "code",
   "execution_count": 35,
   "metadata": {},
   "outputs": [
    {
     "data": {
      "text/plain": [
       "25"
      ]
     },
     "execution_count": 35,
     "metadata": {},
     "output_type": "execute_result"
    }
   ],
   "source": [
    "ord() - ord('a')"
   ]
  },
  {
   "cell_type": "code",
   "execution_count": null,
   "metadata": {},
   "outputs": [],
   "source": [
    "             ->6->8->9\n",
    "0->1->2->3->4->5->7\n",
    "e  e  y  y  e  e  y  e  y  e\n",
    "                     1  1  1"
   ]
  },
  {
   "cell_type": "code",
   "execution_count": null,
   "metadata": {},
   "outputs": [],
   "source": []
  },
  {
   "cell_type": "code",
   "execution_count": null,
   "metadata": {},
   "outputs": [],
   "source": [
    "             ->6\n",
    "0->1->2->3->4\n",
    "e  e  y  y  e  e  y  e  y  e\n",
    "                     1  1  1"
   ]
  },
  {
   "cell_type": "code",
   "execution_count": 74,
   "metadata": {},
   "outputs": [
    {
     "name": "stdout",
     "output_type": "stream",
     "text": [
      "4\n"
     ]
    }
   ],
   "source": [
    "print(ord('e') - ord('a'))"
   ]
  },
  {
   "cell_type": "code",
   "execution_count": 91,
   "metadata": {},
   "outputs": [],
   "source": [
    "a = \"eeyyeeyeye\""
   ]
  },
  {
   "cell_type": "code",
   "execution_count": 98,
   "metadata": {},
   "outputs": [],
   "source": [
    "d = {i:v for i, v in enumerate(a)}"
   ]
  },
  {
   "cell_type": "code",
   "execution_count": 99,
   "metadata": {},
   "outputs": [
    {
     "data": {
      "text/plain": [
       "{0: 'e',\n",
       " 1: 'e',\n",
       " 2: 'y',\n",
       " 3: 'y',\n",
       " 4: 'e',\n",
       " 5: 'e',\n",
       " 6: 'y',\n",
       " 7: 'e',\n",
       " 8: 'y',\n",
       " 9: 'e'}"
      ]
     },
     "execution_count": 99,
     "metadata": {},
     "output_type": "execute_result"
    }
   ],
   "source": [
    "d"
   ]
  },
  {
   "cell_type": "code",
   "execution_count": 116,
   "metadata": {},
   "outputs": [
    {
     "data": {
      "text/plain": [
       "1621"
      ]
     },
     "execution_count": 116,
     "metadata": {},
     "output_type": "execute_result"
    }
   ],
   "source": [
    "210 + 99 + 109 + 269 + 208 + 224 + 85 + 299+ 118"
   ]
  },
  {
   "cell_type": "code",
   "execution_count": null,
   "metadata": {},
   "outputs": [],
   "source": []
  }
 ],
 "metadata": {
  "kernelspec": {
   "display_name": "Python 3",
   "language": "python",
   "name": "python3"
  },
  "language_info": {
   "codemirror_mode": {
    "name": "ipython",
    "version": 3
   },
   "file_extension": ".py",
   "mimetype": "text/x-python",
   "name": "python",
   "nbconvert_exporter": "python",
   "pygments_lexer": "ipython3",
   "version": "3.6.2"
  }
 },
 "nbformat": 4,
 "nbformat_minor": 4
}
