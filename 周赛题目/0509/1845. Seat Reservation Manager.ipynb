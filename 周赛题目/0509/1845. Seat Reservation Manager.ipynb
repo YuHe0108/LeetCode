{
 "cells": [
  {
   "cell_type": "code",
   "execution_count": 1,
   "metadata": {},
   "outputs": [],
   "source": [
    "import heapq\n",
    "\n",
    "a = [1, 2, 3, -1]\n",
    "heapq.heapify(a)"
   ]
  },
  {
   "cell_type": "code",
   "execution_count": 2,
   "metadata": {},
   "outputs": [],
   "source": [
    "a.remove(3)"
   ]
  },
  {
   "cell_type": "code",
   "execution_count": 3,
   "metadata": {},
   "outputs": [
    {
     "data": {
      "text/plain": [
       "[-1, 1, 2]"
      ]
     },
     "execution_count": 3,
     "metadata": {},
     "output_type": "execute_result"
    }
   ],
   "source": [
    "a"
   ]
  },
  {
   "cell_type": "code",
   "execution_count": null,
   "metadata": {},
   "outputs": [],
   "source": [
    "class SeatManager:\n",
    "\n",
    "    def __init__(self, n: int):\n",
    "        self.seats = [x for x in range(1, n+1)]\n",
    "        heapq.heapify(self.seats)\n",
    "\n",
    "    def reserve(self) -> int:\n",
    "        return heapq.heappop(self.seats)\n",
    "\n",
    "    def unreserve(self, seatNumber: int) -> None:\n",
    "        heapq.heappush(self.seats, seatNumber)\n",
    "\n",
    "\n",
    "\n",
    "# Your SeatManager object will be instantiated and called as such:\n",
    "# obj = SeatManager(n)\n",
    "# param_1 = obj.reserve()\n",
    "# obj.unreserve(seatNumber)"
   ]
  }
 ],
 "metadata": {
  "kernelspec": {
   "display_name": "Python 3",
   "language": "python",
   "name": "python3"
  },
  "language_info": {
   "codemirror_mode": {
    "name": "ipython",
    "version": 3
   },
   "file_extension": ".py",
   "mimetype": "text/x-python",
   "name": "python",
   "nbconvert_exporter": "python",
   "pygments_lexer": "ipython3",
   "version": "3.6.2"
  }
 },
 "nbformat": 4,
 "nbformat_minor": 4
}
