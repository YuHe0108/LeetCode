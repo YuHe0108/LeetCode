{
 "cells": [
  {
   "cell_type": "code",
   "execution_count": null,
   "metadata": {},
   "outputs": [],
   "source": []
  },
  {
   "cell_type": "code",
   "execution_count": null,
   "metadata": {},
   "outputs": [],
   "source": []
  },
  {
   "cell_type": "code",
   "execution_count": null,
   "metadata": {},
   "outputs": [],
   "source": []
  },
  {
   "cell_type": "code",
   "execution_count": null,
   "metadata": {},
   "outputs": [],
   "source": []
  },
  {
   "cell_type": "code",
   "execution_count": null,
   "metadata": {},
   "outputs": [],
   "source": []
  },
  {
   "cell_type": "code",
   "execution_count": 20,
   "metadata": {},
   "outputs": [],
   "source": [
    "from typing import List\n",
    "import bisect\n",
    "\n",
    "class Solution:\n",
    "    def maxDistance(self, nums1: List[int], nums2: List[int]) -> int:\n",
    "        \n",
    "        dis = float('inf')\n",
    "        print(nums2)\n",
    "        nums2 = nums2[::-1]\n",
    "        n2 = len(nums2)\n",
    "        for i, v in enumerate(nums1):\n",
    "            idx = bisect.bisect_left(nums2, v)\n",
    "            if idx == n2: # nums2中的元素全部都小于 nums1[i]\n",
    "                continue\n",
    "            idx = n2 - idx - 1\n",
    "            if idx \n",
    "        \n",
    "        return 0 if dis == float('inf') else dis"
   ]
  },
  {
   "cell_type": "code",
   "execution_count": null,
   "metadata": {},
   "outputs": [],
   "source": []
  },
  {
   "cell_type": "code",
   "execution_count": null,
   "metadata": {},
   "outputs": [],
   "source": []
  },
  {
   "cell_type": "code",
   "execution_count": null,
   "metadata": {},
   "outputs": [],
   "source": []
  },
  {
   "cell_type": "code",
   "execution_count": 70,
   "metadata": {},
   "outputs": [],
   "source": [
    "from typing import List\n",
    "from sortedcontainers import SortedList\n",
    "from collections import deque\n",
    "import bisect\n",
    "\n",
    "class Solution:\n",
    "    def maxDistance(self, nums1: List[int], nums2: List[int]) -> int:\n",
    "        v2idx = {}\n",
    "        for i, v in enumerate(nums1):\n",
    "            if v in v2idx:\n",
    "                continue\n",
    "            v2idx[v] = i\n",
    "        \n",
    "        n1, n2 = len(nums1), len(nums2)\n",
    "        ans = 0\n",
    "        vals = deque()\n",
    "        for i, v in enumerate(nums2):\n",
    "            if i < n1:\n",
    "                vals.appendleft(nums1[i])\n",
    "                \n",
    "            idx = bisect.bisect_left(vals, v) \n",
    "            if idx == 0 and vals and vals[0] > v:\n",
    "                continue\n",
    "            \n",
    "            if idx == len(vals): # 最后一个元素\n",
    "                ans = max(ans, i - v2idx[vals[-1]])\n",
    "                continue\n",
    "                \n",
    "            if vals[idx] > v:\n",
    "                if idx != 0:\n",
    "                    ans = max(ans, i - v2idx[vals[idx-1]])\n",
    "            else:\n",
    "                ans = max(ans, i - v2idx[vals[idx]])\n",
    "        return ans"
   ]
  },
  {
   "cell_type": "code",
   "execution_count": null,
   "metadata": {},
   "outputs": [],
   "source": []
  },
  {
   "cell_type": "code",
   "execution_count": null,
   "metadata": {},
   "outputs": [],
   "source": []
  },
  {
   "cell_type": "code",
   "execution_count": 2,
   "metadata": {},
   "outputs": [],
   "source": [
    "from typing import List\n",
    "\n",
    "class Solution:\n",
    "    def maxDistance(self, nums1: List[int], nums2: List[int]) -> int:\n",
    "        n1, n2 = len(nums1), len(nums2)\n",
    "        i = j = 0\n",
    "        ans = 0\n",
    "        # 当任何一个nums走到末尾的时候，就需要停下\n",
    "        # 如果 nums1 走到末尾，那么肯定出现了 nums2[i] < num1[-1],\n",
    "        # 即 nums2[i] 小于 nums1 中最小的值，由于nums2后面的数字越来越小，后面的值不会有结果超过最佳值\n",
    "        # 如果 nums2 走到末尾，自然停止\n",
    "        while i < n1 and j < n2:\n",
    "            if nums1[i] <= nums2[j]: # 如果 nums2[j] >= nums1[i], i 保持不变\n",
    "                ans = max(ans, j-i)\n",
    "            else:\n",
    "                i += 1\n",
    "            j += 1\n",
    "        return ans"
   ]
  },
  {
   "cell_type": "code",
   "execution_count": 4,
   "metadata": {},
   "outputs": [
    {
     "data": {
      "text/plain": [
       "7"
      ]
     },
     "execution_count": 4,
     "metadata": {},
     "output_type": "execute_result"
    }
   ],
   "source": [
    "solution = Solution()\n",
    "solution.maxDistance([5,5,5,5,5,5], [10,10,10,10,10,10,10,2])"
   ]
  },
  {
   "cell_type": "code",
   "execution_count": null,
   "metadata": {},
   "outputs": [],
   "source": [
    "[10, 10, 10, 5] [20, 7, 8, 6, 1]"
   ]
  }
 ],
 "metadata": {
  "kernelspec": {
   "display_name": "Python 3",
   "language": "python",
   "name": "python3"
  },
  "language_info": {
   "codemirror_mode": {
    "name": "ipython",
    "version": 3
   },
   "file_extension": ".py",
   "mimetype": "text/x-python",
   "name": "python",
   "nbconvert_exporter": "python",
   "pygments_lexer": "ipython3",
   "version": "3.6.2"
  }
 },
 "nbformat": 4,
 "nbformat_minor": 4
}
