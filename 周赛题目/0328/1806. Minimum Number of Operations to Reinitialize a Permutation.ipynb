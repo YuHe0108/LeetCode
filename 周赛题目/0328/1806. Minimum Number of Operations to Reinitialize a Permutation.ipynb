{
 "cells": [
  {
   "cell_type": "code",
   "execution_count": null,
   "metadata": {},
   "outputs": [],
   "source": [
    "class Solution:\n",
    "    def reinitializePermutation(self, n: int) -> int:\n",
    "        perm = [x for x in range(n)]\n",
    "        target = [x for x in range(n)]\n",
    "        \n",
    "        cnt = 0\n",
    "        while True:\n",
    "            arr = [0] * n\n",
    "            for i in range(n):\n",
    "                if i % 2 == 0:\n",
    "                    arr[i] = perm[i // 2]\n",
    "                else:\n",
    "                    arr[i] = perm[n // 2 + (i - 1) // 2]\n",
    "            cnt += 1\n",
    "            if arr == target:\n",
    "                break\n",
    "            perm = arr\n",
    "        return max(cnt, 1)\n",
    "        \n",
    "        \n",
    "        \n",
    "        "
   ]
  },
  {
   "cell_type": "code",
   "execution_count": null,
   "metadata": {},
   "outputs": [],
   "source": []
  },
  {
   "cell_type": "code",
   "execution_count": null,
   "metadata": {},
   "outputs": [],
   "source": []
  },
  {
   "cell_type": "code",
   "execution_count": null,
   "metadata": {},
   "outputs": [],
   "source": [
    "class Solution:\n",
    "    def reinitializePermutation(self, n: int) -> int:\n",
    "        if n == 2:\n",
    "            return 1\n",
    "        \n",
    "        power = 2\n",
    "        k = 1\n",
    "        while power % (n-1) != 1:\n",
    "            power = power * 2 % (n-1)\n",
    "            k += 1\n",
    "        return k"
   ]
  }
 ],
 "metadata": {
  "kernelspec": {
   "display_name": "Python 3",
   "language": "python",
   "name": "python3"
  },
  "language_info": {
   "codemirror_mode": {
    "name": "ipython",
    "version": 3
   },
   "file_extension": ".py",
   "mimetype": "text/x-python",
   "name": "python",
   "nbconvert_exporter": "python",
   "pygments_lexer": "ipython3",
   "version": "3.6.2"
  }
 },
 "nbformat": 4,
 "nbformat_minor": 4
}
