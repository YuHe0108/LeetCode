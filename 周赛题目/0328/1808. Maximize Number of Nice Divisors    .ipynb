{
 "cells": [
  {
   "cell_type": "code",
   "execution_count": null,
   "metadata": {},
   "outputs": [],
   "source": [
    "Counter({'e': 9, \n",
    "         'o': 4, \n",
    "         'n': 4, \n",
    "         'i': 4, \n",
    "         'r': 3, \n",
    "         't': 3, \n",
    "         'h': 2, \n",
    "         'f': 2, \n",
    "         'v': 2, \n",
    "         's': 2, \n",
    "         'z': 1, \n",
    "         'w': 1, \n",
    "         'u': 1, \n",
    "         'x': 1, \n",
    "         'g': 1})\n"
   ]
  },
  {
   "cell_type": "code",
   "execution_count": null,
   "metadata": {},
   "outputs": [],
   "source": []
  },
  {
   "cell_type": "code",
   "execution_count": 1,
   "metadata": {},
   "outputs": [],
   "source": [
    "\n",
    "a = sorted('0124')"
   ]
  },
  {
   "cell_type": "code",
   "execution_count": 2,
   "metadata": {},
   "outputs": [
    {
     "data": {
      "text/plain": [
       "['0', '1', '2', '4']"
      ]
     },
     "execution_count": 2,
     "metadata": {},
     "output_type": "execute_result"
    }
   ],
   "source": [
    "a"
   ]
  },
  {
   "cell_type": "code",
   "execution_count": null,
   "metadata": {},
   "outputs": [],
   "source": []
  },
  {
   "cell_type": "code",
   "execution_count": null,
   "metadata": {},
   "outputs": [],
   "source": []
  },
  {
   "cell_type": "code",
   "execution_count": null,
   "metadata": {},
   "outputs": [],
   "source": []
  },
  {
   "cell_type": "code",
   "execution_count": null,
   "metadata": {},
   "outputs": [],
   "source": [
    "class Solution:\n",
    "    def maxNiceDivisors(self, primeFactors: int) -> int:\n",
    "        \n",
    "        @lru_cache(None)\n",
    "        def get_power(num):\n",
    "            if num == 1:\n",
    "                return 3\n",
    "            \n",
    "            ans = 1\n",
    "            if num % 2 == 1:\n",
    "                ans = 3 * get_power(num // 2) ** 2\n",
    "            else:\n",
    "                ans = get_power(num // 2) ** 2\n",
    "        \n",
    "            return ans % mod\n",
    "        \n",
    "        if primeFactors <= 4:\n",
    "            return primeFactors\n",
    "        \n",
    "        mod = pow(10, 9) + 7\n",
    "        cnt = primeFactors // 3\n",
    "        if primeFactors % 3 == 1:\n",
    "            res = get_power(cnt - 1) * 4\n",
    "        elif primeFactors % 3 == 2:\n",
    "            res = get_power(cnt) * 2\n",
    "        else:\n",
    "            res = get_power(cnt)\n",
    "        return res % mod"
   ]
  }
 ],
 "metadata": {
  "kernelspec": {
   "display_name": "Python 3",
   "language": "python",
   "name": "python3"
  },
  "language_info": {
   "codemirror_mode": {
    "name": "ipython",
    "version": 3
   },
   "file_extension": ".py",
   "mimetype": "text/x-python",
   "name": "python",
   "nbconvert_exporter": "python",
   "pygments_lexer": "ipython3",
   "version": "3.6.2"
  }
 },
 "nbformat": 4,
 "nbformat_minor": 4
}
