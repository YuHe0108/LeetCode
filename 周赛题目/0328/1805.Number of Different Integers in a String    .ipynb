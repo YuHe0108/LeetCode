{
 "cells": [
  {
   "cell_type": "code",
   "execution_count": null,
   "metadata": {},
   "outputs": [],
   "source": [
    "class Solution:\n",
    "    def numDifferentIntegers(self, word: str) -> int:\n",
    "        vals = set()\n",
    "        i = 0\n",
    "        n = len(word)\n",
    "        while i < n:\n",
    "            if word[i].isalpha():\n",
    "                i += 1\n",
    "            else:\n",
    "                cur = ''\n",
    "                while i < n and word[i].isdigit():\n",
    "                    cur += word[i]\n",
    "                    i += 1\n",
    "                vals.add(int(cur))\n",
    "        return len(vals)"
   ]
  }
 ],
 "metadata": {
  "kernelspec": {
   "display_name": "Python 3",
   "language": "python",
   "name": "python3"
  },
  "language_info": {
   "codemirror_mode": {
    "name": "ipython",
    "version": 3
   },
   "file_extension": ".py",
   "mimetype": "text/x-python",
   "name": "python",
   "nbconvert_exporter": "python",
   "pygments_lexer": "ipython3",
   "version": "3.6.2"
  }
 },
 "nbformat": 4,
 "nbformat_minor": 4
}
