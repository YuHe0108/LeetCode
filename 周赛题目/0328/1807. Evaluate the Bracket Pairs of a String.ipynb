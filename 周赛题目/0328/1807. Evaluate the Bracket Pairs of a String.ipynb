{
 "cells": [
  {
   "cell_type": "code",
   "execution_count": null,
   "metadata": {},
   "outputs": [],
   "source": [
    "class Solution:\n",
    "    def evaluate(self, s: str, knowledge: List[List[str]]) -> str:\n",
    "        k2v = {}\n",
    "        for k, v in knowledge:\n",
    "            k2v[k] = v\n",
    "        \n",
    "        \n",
    "        res = ''\n",
    "        i = 0\n",
    "        n = len(s)\n",
    "        while i < n:\n",
    "            v = s[i]\n",
    "            if v == '(':\n",
    "                cur = ''\n",
    "                i += 1\n",
    "                while i < n and s[i] != ')':\n",
    "                    cur += s[i]\n",
    "                    i += 1\n",
    "                if cur in k2v:\n",
    "                    res += k2v[cur]\n",
    "                else:\n",
    "                    res += '?'\n",
    "            else:\n",
    "                res += v\n",
    "            i += 1\n",
    "        return res"
   ]
  }
 ],
 "metadata": {
  "kernelspec": {
   "display_name": "Python 3",
   "language": "python",
   "name": "python3"
  },
  "language_info": {
   "codemirror_mode": {
    "name": "ipython",
    "version": 3
   },
   "file_extension": ".py",
   "mimetype": "text/x-python",
   "name": "python",
   "nbconvert_exporter": "python",
   "pygments_lexer": "ipython3",
   "version": "3.6.2"
  }
 },
 "nbformat": 4,
 "nbformat_minor": 4
}
