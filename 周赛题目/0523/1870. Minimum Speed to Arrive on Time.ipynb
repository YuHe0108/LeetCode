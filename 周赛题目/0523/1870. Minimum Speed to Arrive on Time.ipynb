{
 "cells": [
  {
   "cell_type": "code",
   "execution_count": null,
   "metadata": {},
   "outputs": [],
   "source": [
    "from typing import List\n",
    "import math\n",
    "\n",
    "class Solution:\n",
    "    def minSpeedOnTime(self, dist: List[int], hour: float) -> int:\n",
    "        \n",
    "        def check(threshold):\n",
    "            cnt = 0\n",
    "            for d in dist[:-1]:\n",
    "                cnt += math.ceil(d / threshold)\n",
    "            cnt += dist[-1] / threshold\n",
    "            return cnt <= hour # 小于等于 hour 就算正确\n",
    "        \n",
    "        n = len(dist)\n",
    "        if n-1 + 0.01 > hour: # 就算开到最快，最少也是需要 n 个小时的\n",
    "            return -1\n",
    "        \n",
    "        ans = float('inf')\n",
    "        l, r = 1, max(dist) * 100 # 最慢就是 1 km/h, 最快就是 max(dist) km/h, 再快也没有意义了\n",
    "        while l < r:\n",
    "            mid = l + (r-l) // 2\n",
    "            if check(mid): # 当前的速度太快了，消耗的时间比较少\n",
    "                r = mid \n",
    "            else:\n",
    "                l = mid + 1\n",
    "        return l"
   ]
  },
  {
   "cell_type": "code",
   "execution_count": null,
   "metadata": {},
   "outputs": [],
   "source": []
  },
  {
   "cell_type": "code",
   "execution_count": null,
   "metadata": {},
   "outputs": [],
   "source": []
  },
  {
   "cell_type": "code",
   "execution_count": 47,
   "metadata": {},
   "outputs": [],
   "source": [
    "from typing import List\n",
    "import math\n",
    "\n",
    "class Solution:\n",
    "    def minSpeedOnTime(self, dist: List[int], hour: float) -> int:\n",
    "        \n",
    "        def check(threshold):\n",
    "            cnt = 0\n",
    "            for i, d in enumerate(dist):\n",
    "                if i == n-1:\n",
    "                    cnt += d / threshold\n",
    "                else:\n",
    "                    cnt += math.ceil(d / threshold)\n",
    "            return cnt <= hour # 小于等于 hour 就算正确\n",
    "        \n",
    "        n = len(dist)\n",
    "        if n-1 + 0.01 > hour: # 就算开到最快，最少也是需要 n 个小时的\n",
    "            return -1\n",
    "        \n",
    "        ans = float('inf')\n",
    "        l, r = 1, max(dist) * 100 # 最慢就是 1 km/h, 最快就是 max(dist) km/h, 再快也没有意义了\n",
    "        while l <= r:\n",
    "            mid = l + (r-l) // 2\n",
    "            if check(mid): # 当前的速度太快了，消耗的时间比较少\n",
    "                ans = mid\n",
    "                r = mid - 1\n",
    "            else:\n",
    "                l = mid + 1\n",
    "        return ans"
   ]
  },
  {
   "cell_type": "code",
   "execution_count": 48,
   "metadata": {},
   "outputs": [
    {
     "data": {
      "text/plain": [
       "10000000"
      ]
     },
     "execution_count": 48,
     "metadata": {},
     "output_type": "execute_result"
    }
   ],
   "source": [
    "solution = Solution()\n",
    "solution.minSpeedOnTime([1,1,100000], 2.01)"
   ]
  }
 ],
 "metadata": {
  "kernelspec": {
   "display_name": "Python 3",
   "language": "python",
   "name": "python3"
  },
  "language_info": {
   "codemirror_mode": {
    "name": "ipython",
    "version": 3
   },
   "file_extension": ".py",
   "mimetype": "text/x-python",
   "name": "python",
   "nbconvert_exporter": "python",
   "pygments_lexer": "ipython3",
   "version": "3.6.2"
  }
 },
 "nbformat": 4,
 "nbformat_minor": 4
}
