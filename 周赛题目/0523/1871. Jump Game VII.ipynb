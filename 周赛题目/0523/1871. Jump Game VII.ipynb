{
 "cells": [
  {
   "cell_type": "code",
   "execution_count": null,
   "metadata": {},
   "outputs": [],
   "source": []
  },
  {
   "cell_type": "code",
   "execution_count": null,
   "metadata": {},
   "outputs": [],
   "source": []
  },
  {
   "cell_type": "code",
   "execution_count": null,
   "metadata": {},
   "outputs": [],
   "source": []
  },
  {
   "cell_type": "code",
   "execution_count": 28,
   "metadata": {},
   "outputs": [],
   "source": [
    "class Solution:\n",
    "    def canReach(self, s: str, minJump: int, maxJump: int) -> bool:\n",
    "        if s[-1] != '0': # 最后一个肯定是 '0' 才行\n",
    "            return False\n",
    "        \n",
    "        n = len(s)\n",
    "        dp = [False] * n\n",
    "        dp[0] = True\n",
    "        can_reach = [0]\n",
    "        for i in range(1, n):\n",
    "            if s[i] == '0':\n",
    "                dist = i - can_reach[-1] # 最后一个可以跳到的位置，两个位置之间距离\n",
    "                if dist < minJump: # 步子太小了，往后退一下\n",
    "                    idx = len(can_reach) - 1\n",
    "                    while idx >= 0:\n",
    "                        if i - can_reach[idx] < minJump:\n",
    "                            idx -= 1\n",
    "                        else:\n",
    "                            # 退到最后一个位置的地方时，dist >= minJump,可以跳出\n",
    "                            break\n",
    "                            \n",
    "                    dist = i - can_reach[idx]\n",
    "                    if minJump <= dist <= maxJump:\n",
    "                        dp[i] = True\n",
    "                        can_reach.append(i)\n",
    "                elif dist > maxJump: # 步子需要太大，不能到达\n",
    "                    continue\n",
    "                else: # 在两者之间，可以跳跃到达\n",
    "                    dp[i] = True\n",
    "                    can_reach.append(i)\n",
    "                \n",
    "        return dp[-1]"
   ]
  },
  {
   "cell_type": "code",
   "execution_count": 29,
   "metadata": {},
   "outputs": [
    {
     "name": "stdout",
     "output_type": "stream",
     "text": [
      "[True, False, True, True, True, True, True, True, True, True]\n"
     ]
    },
    {
     "data": {
      "text/plain": [
       "True"
      ]
     },
     "execution_count": 29,
     "metadata": {},
     "output_type": "execute_result"
    }
   ],
   "source": [
    "solution = Solution()\n",
    "solution.canReach(\"0000000000\", 2, 5)"
   ]
  },
  {
   "cell_type": "code",
   "execution_count": null,
   "metadata": {},
   "outputs": [],
   "source": []
  },
  {
   "cell_type": "code",
   "execution_count": null,
   "metadata": {},
   "outputs": [],
   "source": []
  },
  {
   "cell_type": "code",
   "execution_count": null,
   "metadata": {},
   "outputs": [],
   "source": []
  }
 ],
 "metadata": {
  "kernelspec": {
   "display_name": "Python 3",
   "language": "python",
   "name": "python3"
  },
  "language_info": {
   "codemirror_mode": {
    "name": "ipython",
    "version": 3
   },
   "file_extension": ".py",
   "mimetype": "text/x-python",
   "name": "python",
   "nbconvert_exporter": "python",
   "pygments_lexer": "ipython3",
   "version": "3.6.2"
  }
 },
 "nbformat": 4,
 "nbformat_minor": 4
}
