{
 "cells": [
  {
   "cell_type": "code",
   "execution_count": null,
   "metadata": {},
   "outputs": [],
   "source": []
  },
  {
   "cell_type": "code",
   "execution_count": null,
   "metadata": {},
   "outputs": [],
   "source": []
  },
  {
   "cell_type": "code",
   "execution_count": null,
   "metadata": {},
   "outputs": [],
   "source": []
  },
  {
   "cell_type": "code",
   "execution_count": 15,
   "metadata": {},
   "outputs": [],
   "source": [
    "class Solution:\n",
    "    def checkZeroOnes(self, s: str) -> bool:\n",
    "        n0 = n1 = 0\n",
    "        n = len(s)\n",
    "        idx = 0\n",
    "        while idx < n:\n",
    "            cur_0 = 0\n",
    "            cur_1 = 0\n",
    "            if s[idx] == '0':\n",
    "                cur_0 += 1\n",
    "                while idx + 1 < n and s[idx+1] == '0':\n",
    "                    cur_0 += 1\n",
    "                    idx += 1\n",
    "            else:\n",
    "                cur_1 += 1\n",
    "                while idx + 1 < n and s[idx+1] == '1':\n",
    "                    cur_1 += 1\n",
    "                    idx += 1\n",
    "            idx += 1\n",
    "            n0 = max(n0, cur_0)\n",
    "            n1 = max(n1, cur_1)\n",
    "        return n1 > n0"
   ]
  },
  {
   "cell_type": "code",
   "execution_count": 16,
   "metadata": {},
   "outputs": [
    {
     "name": "stdout",
     "output_type": "stream",
     "text": [
      "0 2\n",
      "1 0\n",
      "0 1\n"
     ]
    },
    {
     "data": {
      "text/plain": [
       "True"
      ]
     },
     "execution_count": 16,
     "metadata": {},
     "output_type": "execute_result"
    }
   ],
   "source": [
    "solution = Solution()\n",
    "solution.checkZeroOnes(s = \"1101\")"
   ]
  },
  {
   "cell_type": "code",
   "execution_count": null,
   "metadata": {},
   "outputs": [],
   "source": []
  }
 ],
 "metadata": {
  "kernelspec": {
   "display_name": "Python 3",
   "language": "python",
   "name": "python3"
  },
  "language_info": {
   "codemirror_mode": {
    "name": "ipython",
    "version": 3
   },
   "file_extension": ".py",
   "mimetype": "text/x-python",
   "name": "python",
   "nbconvert_exporter": "python",
   "pygments_lexer": "ipython3",
   "version": "3.6.2"
  }
 },
 "nbformat": 4,
 "nbformat_minor": 4
}
