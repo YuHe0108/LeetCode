{
 "cells": [
  {
   "cell_type": "raw",
   "metadata": {},
   "source": [
    "两种情况：\n",
    "1.偶数位为0，奇数位为1\n",
    "    这种情况下，任意位的值和索引奇偶性相同，即s[i]%2==i%2，若不满足，即需要变动该位，则计数cnt1++\n",
    "2.偶数位为1，奇数位为0\n",
    "    这种情况下，任意位的值和索引奇偶性不同，即s[i]%2!=i%2，若不满足，即需要变动该位，则计数cnt2++"
   ]
  },
  {
   "cell_type": "code",
   "execution_count": null,
   "metadata": {},
   "outputs": [],
   "source": [
    "class Solution:\n",
    "    def minOperations(self, s: str) -> int:\n",
    "        #01010101\n",
    "        #10101010\n",
    "        cnt1 = 0\n",
    "        # 偶数位置为 0，奇数位置为 1\n",
    "        for i, v in enumerate(s):\n",
    "            if i % 2 == 0 and v == '0':\n",
    "                continue\n",
    "            if i % 2 == 1 and v == '1':\n",
    "                continue\n",
    "            cnt1 += 1\n",
    "            \n",
    "        cnt2 = 0\n",
    "        # 偶数位置为 1，奇数位置为 0\n",
    "        for i, v in enumerate(s):\n",
    "            if i % 2 == 0 and v == '1':\n",
    "                continue\n",
    "            if i % 2 == 1 and v == '0':\n",
    "                continue\n",
    "            cnt2 += 1\n",
    "            \n",
    "        return min(cnt1, cnt2)\n"
   ]
  }
 ],
 "metadata": {
  "kernelspec": {
   "display_name": "Python 3",
   "language": "python",
   "name": "python3"
  },
  "language_info": {
   "codemirror_mode": {
    "name": "ipython",
    "version": 3
   },
   "file_extension": ".py",
   "mimetype": "text/x-python",
   "name": "python",
   "nbconvert_exporter": "python",
   "pygments_lexer": "ipython3",
   "version": "3.6.2"
  }
 },
 "nbformat": 4,
 "nbformat_minor": 4
}
