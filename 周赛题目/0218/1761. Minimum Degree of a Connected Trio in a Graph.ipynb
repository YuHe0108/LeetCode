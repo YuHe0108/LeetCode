{
 "cells": [
  {
   "cell_type": "code",
   "execution_count": null,
   "metadata": {},
   "outputs": [],
   "source": []
  },
  {
   "cell_type": "code",
   "execution_count": null,
   "metadata": {},
   "outputs": [],
   "source": []
  },
  {
   "cell_type": "code",
   "execution_count": null,
   "metadata": {},
   "outputs": [],
   "source": []
  },
  {
   "cell_type": "code",
   "execution_count": 23,
   "metadata": {},
   "outputs": [],
   "source": [
    "from typing import List\n",
    "from collections import defaultdict\n",
    "\n",
    "class Solution:\n",
    "    def minTrioDegree(self, n: int, edges: List[List[int]]) -> int:\n",
    "        indeg = [0] * (1 + n) # 每个节点的度是多少\n",
    "        connect = [[0] * (1 + n) for _ in range(1 + n)]# 两个点之间是否是连接的\n",
    "        nebs = [[] for _ in range(n+1)] # 每个节点的邻接节点有哪些\n",
    "        for a, b in edges:\n",
    "            min_v, max_v = min(a, b), max(a, b)\n",
    "            nebs[min_v].append(max_v) # 只允许从节点值较小的点走到较大值的点\n",
    "            indeg[a] += 1\n",
    "            indeg[b] += 1\n",
    "            connect[a][b] = 1\n",
    "            connect[b][a] = 1\n",
    "\n",
    "        # 每一个节点，如果能够组成连同三元组，那么度为多少\n",
    "        res = float('inf')\n",
    "        for i in range(1, n+1):\n",
    "            if indeg[i] < 2:\n",
    "                continue\n",
    "            # 节点 i 的邻接节点\n",
    "            for a in nebs[i]:\n",
    "                for b in nebs[i]:\n",
    "                    if a == b:\n",
    "                        continue\n",
    "                    if connect[a][b] == 1:\n",
    "                        res = min(res, indeg[a] + indeg[b] + indeg[i] - 6)\n",
    "            if res == 0:\n",
    "                break\n",
    "        return res if res != float('inf') else -1"
   ]
  },
  {
   "cell_type": "code",
   "execution_count": 24,
   "metadata": {},
   "outputs": [
    {
     "data": {
      "text/plain": [
       "2"
      ]
     },
     "execution_count": 24,
     "metadata": {},
     "output_type": "execute_result"
    }
   ],
   "source": [
    "solution = Solution()\n",
    "solution.minTrioDegree(14, [[7,4],[10,5],[10,8],[3,1],[3,7],[10,4],[12,10],[3,13],[9,1],[5,12]])"
   ]
  },
  {
   "cell_type": "code",
   "execution_count": null,
   "metadata": {},
   "outputs": [],
   "source": []
  }
 ],
 "metadata": {
  "kernelspec": {
   "display_name": "Python 3",
   "language": "python",
   "name": "python3"
  },
  "language_info": {
   "codemirror_mode": {
    "name": "ipython",
    "version": 3
   },
   "file_extension": ".py",
   "mimetype": "text/x-python",
   "name": "python",
   "nbconvert_exporter": "python",
   "pygments_lexer": "ipython3",
   "version": "3.6.2"
  }
 },
 "nbformat": 4,
 "nbformat_minor": 4
}
