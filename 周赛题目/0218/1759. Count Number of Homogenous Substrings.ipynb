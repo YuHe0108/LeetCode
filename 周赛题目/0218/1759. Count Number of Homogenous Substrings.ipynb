{
 "cells": [
  {
   "cell_type": "code",
   "execution_count": null,
   "metadata": {},
   "outputs": [],
   "source": [
    "class Solution:\n",
    "    def countHomogenous(self, s: str) -> int:\n",
    "        mod = pow(10, 9) + 7\n",
    "        left = 0\n",
    "        cnt = 0\n",
    "        cur = 0\n",
    "        for i in range(len(s)):\n",
    "            if s[i] == s[left]:\n",
    "                cur += 1\n",
    "            else:\n",
    "                cnt += (1 + cur) * cur // 2\n",
    "                left = i\n",
    "                cur = 1\n",
    "        cnt += (1 + cur) * cur // 2\n",
    "        return cnt % mod"
   ]
  }
 ],
 "metadata": {
  "kernelspec": {
   "display_name": "Python 3",
   "language": "python",
   "name": "python3"
  },
  "language_info": {
   "codemirror_mode": {
    "name": "ipython",
    "version": 3
   },
   "file_extension": ".py",
   "mimetype": "text/x-python",
   "name": "python",
   "nbconvert_exporter": "python",
   "pygments_lexer": "ipython3",
   "version": "3.6.2"
  }
 },
 "nbformat": 4,
 "nbformat_minor": 4
}
