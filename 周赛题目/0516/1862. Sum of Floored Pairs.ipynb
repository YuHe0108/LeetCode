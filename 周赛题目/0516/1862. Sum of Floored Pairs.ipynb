{
 "cells": [
  {
   "cell_type": "code",
   "execution_count": null,
   "metadata": {},
   "outputs": [],
   "source": []
  },
  {
   "cell_type": "code",
   "execution_count": 6,
   "metadata": {},
   "outputs": [
    {
     "data": {
      "text/plain": [
       "100000.0"
      ]
     },
     "execution_count": 6,
     "metadata": {},
     "output_type": "execute_result"
    }
   ],
   "source": [
    "10e4"
   ]
  },
  {
   "cell_type": "code",
   "execution_count": null,
   "metadata": {},
   "outputs": [],
   "source": []
  },
  {
   "cell_type": "code",
   "execution_count": 63,
   "metadata": {},
   "outputs": [],
   "source": [
    "from typing import List\n",
    "from collections import Counter\n",
    "\n",
    "class Solution:\n",
    "    def sumOfFlooredPairs(self, nums: List[int]) -> int:\n",
    "        total = pow(10, 5)\n",
    "        count = Counter(nums)\n",
    "        buckets = [0] * (total + 1) # bucket[i], 在 nums 中大于等于 i 的值有多少个\n",
    "        for i in range(1, total + 1):\n",
    "            buckets[i] = buckets[i-1] + count[i]\n",
    "        \n",
    "        res = 0\n",
    "        mod_val = pow(10, 9) + 7\n",
    "        max_val = max(nums) # 只要到 nums 中最大的位置就可以了\n",
    "        for v in count.keys():\n",
    "            interval = max_val // v  # 可以分成多少部分\n",
    "            start = v # 间隔的起点\n",
    "            cur = 0\n",
    "            k = 1\n",
    "            while start <= max_val: # 起点不超过最大值\n",
    "                end = min(max_val, start + v - 1) # 间隔的终点\n",
    "                cnt = buckets[end] - buckets[start - 1] # 区间内有多少个数字\n",
    "                start = end + 1\n",
    "                cur += k * cnt\n",
    "                k += 1\n",
    "            res += cur * count[v]\n",
    "        return res % mod_val"
   ]
  },
  {
   "cell_type": "code",
   "execution_count": 64,
   "metadata": {},
   "outputs": [
    {
     "data": {
      "text/plain": [
       "49"
      ]
     },
     "execution_count": 64,
     "metadata": {},
     "output_type": "execute_result"
    }
   ],
   "source": [
    "solution = Solution()\n",
    "solution.sumOfFlooredPairs(nums = [7,7,7,7,7,7,7])"
   ]
  },
  {
   "cell_type": "code",
   "execution_count": null,
   "metadata": {},
   "outputs": [],
   "source": []
  },
  {
   "cell_type": "code",
   "execution_count": 2,
   "metadata": {},
   "outputs": [
    {
     "data": {
      "text/plain": [
       "1921.99"
      ]
     },
     "execution_count": 2,
     "metadata": {},
     "output_type": "execute_result"
    }
   ],
   "source": [
    "99 + 109 + 269 + 208 + 210 + 224 + 85+299+118.99 + 300"
   ]
  },
  {
   "cell_type": "code",
   "execution_count": null,
   "metadata": {},
   "outputs": [],
   "source": []
  }
 ],
 "metadata": {
  "kernelspec": {
   "display_name": "Python 3",
   "language": "python",
   "name": "python3"
  },
  "language_info": {
   "codemirror_mode": {
    "name": "ipython",
    "version": 3
   },
   "file_extension": ".py",
   "mimetype": "text/x-python",
   "name": "python",
   "nbconvert_exporter": "python",
   "pygments_lexer": "ipython3",
   "version": "3.6.2"
  }
 },
 "nbformat": 4,
 "nbformat_minor": 4
}
