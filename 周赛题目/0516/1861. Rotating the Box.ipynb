{
 "cells": [
  {
   "cell_type": "code",
   "execution_count": null,
   "metadata": {},
   "outputs": [],
   "source": []
  },
  {
   "cell_type": "code",
   "execution_count": null,
   "metadata": {},
   "outputs": [],
   "source": []
  },
  {
   "cell_type": "code",
   "execution_count": null,
   "metadata": {},
   "outputs": [],
   "source": []
  },
  {
   "cell_type": "code",
   "execution_count": null,
   "metadata": {},
   "outputs": [],
   "source": []
  },
  {
   "cell_type": "code",
   "execution_count": 84,
   "metadata": {},
   "outputs": [],
   "source": [
    "from typing import List\n",
    "\n",
    "class Solution:\n",
    "    def rotateTheBox(self, box: List[List[str]]) -> List[List[str]]:\n",
    "        rows, cols = len(box), len(box[0])\n",
    "        \n",
    "        ans = [[''] * rows for _ in range(cols)]\n",
    "        for j in range(cols):\n",
    "            for i in range(rows):\n",
    "                ans[j][i] = box[rows-i-1][j]\n",
    "    \n",
    "        for i in range(rows):\n",
    "            idx = cols - 1 # 最后一行，逐列观察\n",
    "            \n",
    "            while idx - 1 >= 0:\n",
    "                cur = ans[idx][i]\n",
    "                pre = ans[idx-1][i]\n",
    "                \n",
    "                if cur == '.': # 当前这一层是空的\n",
    "                    cur_idx = idx\n",
    "                    while cur_idx - 1 >= 0 and pre == '.': # 上一层也是空的\n",
    "                        cur_idx -= 1\n",
    "                        pre = ans[cur_idx-1][i]\n",
    "                        \n",
    "                    if pre == '#': # 只有上面是物体的时候才可以\n",
    "                        ans[idx][i] = pre\n",
    "                        ans[cur_idx-1][i] = '.'\n",
    "                idx -= 1\n",
    "        return ans"
   ]
  },
  {
   "cell_type": "code",
   "execution_count": null,
   "metadata": {},
   "outputs": [],
   "source": []
  },
  {
   "cell_type": "code",
   "execution_count": null,
   "metadata": {},
   "outputs": [],
   "source": []
  },
  {
   "cell_type": "code",
   "execution_count": 1,
   "metadata": {},
   "outputs": [],
   "source": [
    "from typing import List\n",
    "\n",
    "class Solution:\n",
    "    def rotateTheBox(self, box: List[List[str]]) -> List[List[str]]:\n",
    "        rows, cols = len(box), len(box[0])\n",
    "        \n",
    "        ans = [[''] * rows for _ in range(cols)]\n",
    "        for j in range(cols):\n",
    "            for i in range(rows):\n",
    "                ans[j][i] = box[rows-i-1][j]\n",
    "                \n",
    "        rows, cols = cols, rows\n",
    "        # 从最后一行开始\n",
    "        for c in range(cols):\n",
    "            idx = rows - 1 # 从左下角开始\n",
    "            while idx - 1 >= 0:\n",
    "                if ans[idx][c] == '.':\n",
    "                    cur_idx = idx-1\n",
    "                    \n",
    "                    while cur_idx-1 >= 0:\n",
    "                        if ans[cur_idx][c] == '.':\n",
    "                            cur_idx -= 1\n",
    "                        else:\n",
    "                            break\n",
    "                            \n",
    "                    if ans[cur_idx][c] == '#':\n",
    "                        ans[idx][c] = '#'\n",
    "                        ans[cur_idx][c] = '.'\n",
    "                idx -= 1\n",
    "        return ans"
   ]
  },
  {
   "cell_type": "code",
   "execution_count": 2,
   "metadata": {},
   "outputs": [
    {
     "data": {
      "text/plain": [
       "[['.', '#', '#'],\n",
       " ['.', '#', '#'],\n",
       " ['#', '#', '*'],\n",
       " ['#', '*', '.'],\n",
       " ['#', '.', '*'],\n",
       " ['#', '.', '.']]"
      ]
     },
     "execution_count": 2,
     "metadata": {},
     "output_type": "execute_result"
    }
   ],
   "source": [
    "solution = Solution()\n",
    "solution.rotateTheBox(box = [[\"#\",\"#\",\"*\",\".\",\"*\",\".\"],\n",
    "                             [\"#\",\"#\",\"#\",\"*\",\".\",\".\"],\n",
    "                             [\"#\",\"#\",\"#\",\".\",\"#\",\".\"]])"
   ]
  },
  {
   "cell_type": "code",
   "execution_count": null,
   "metadata": {},
   "outputs": [],
   "source": []
  },
  {
   "cell_type": "code",
   "execution_count": null,
   "metadata": {},
   "outputs": [],
   "source": []
  },
  {
   "cell_type": "raw",
   "metadata": {},
   "source": [
    "方法2：先计算在原始的数组中，以挡板为单位，每个挡板之前有多少个物体"
   ]
  },
  {
   "cell_type": "code",
   "execution_count": 49,
   "metadata": {},
   "outputs": [],
   "source": [
    "from typing import List\n",
    "\n",
    "class Solution:\n",
    "    def rotateTheBox(self, box: List[List[str]]) -> List[List[str]]:\n",
    "        rows, cols = len(box), len(box[0])\n",
    "        objs = [[0] ]\n",
    "        \n",
    "        ans = [[''] * rows for _ in range(cols)]\n",
    "        for j in range(cols):\n",
    "            for i in range(rows):\n",
    "                ans[j][i] = box[rows-i-1][j]\n",
    "                \n",
    "        rows, cols = cols, rows\n",
    "        return ans"
   ]
  },
  {
   "cell_type": "code",
   "execution_count": 51,
   "metadata": {},
   "outputs": [
    {
     "data": {
      "text/plain": [
       "[['#', '#', '#'],\n",
       " ['#', '#', '#'],\n",
       " ['#', '#', '*'],\n",
       " ['.', '*', '.'],\n",
       " ['#', '.', '*'],\n",
       " ['.', '.', '.']]"
      ]
     },
     "execution_count": 51,
     "metadata": {},
     "output_type": "execute_result"
    }
   ],
   "source": [
    "solution = Solution()\n",
    "solution.rotateTheBox(box = [[\"#\",\"#\",\"*\",\".\",\"*\",\".\"],\n",
    "                             [\"#\",\"#\",\"#\",\"*\",\".\",\".\"],\n",
    "                             [\"#\",\"#\",\"#\",\".\",\"#\",\".\"]])"
   ]
  },
  {
   "cell_type": "code",
   "execution_count": null,
   "metadata": {},
   "outputs": [],
   "source": [
    "[['#', '.'], \n",
    " ['#', '#'], \n",
    " ['*', '*'], \n",
    " ['.', '.']]"
   ]
  },
  {
   "cell_type": "code",
   "execution_count": null,
   "metadata": {},
   "outputs": [],
   "source": [
    "[['.', '#', '#'], \n",
    " ['.', '#', '#'], \n",
    " ['#', '#', '*'], \n",
    " ['#', '*', '.'], \n",
    " ['#', '.', '*'], \n",
    " ['#', '.', '.']]"
   ]
  },
  {
   "cell_type": "code",
   "execution_count": null,
   "metadata": {},
   "outputs": [],
   "source": []
  },
  {
   "cell_type": "code",
   "execution_count": null,
   "metadata": {},
   "outputs": [],
   "source": []
  },
  {
   "cell_type": "code",
   "execution_count": null,
   "metadata": {},
   "outputs": [],
   "source": []
  },
  {
   "cell_type": "code",
   "execution_count": null,
   "metadata": {},
   "outputs": [],
   "source": []
  },
  {
   "cell_type": "code",
   "execution_count": null,
   "metadata": {},
   "outputs": [],
   "source": []
  }
 ],
 "metadata": {
  "kernelspec": {
   "display_name": "Python 3",
   "language": "python",
   "name": "python3"
  },
  "language_info": {
   "codemirror_mode": {
    "name": "ipython",
    "version": 3
   },
   "file_extension": ".py",
   "mimetype": "text/x-python",
   "name": "python",
   "nbconvert_exporter": "python",
   "pygments_lexer": "ipython3",
   "version": "3.6.2"
  }
 },
 "nbformat": 4,
 "nbformat_minor": 4
}
