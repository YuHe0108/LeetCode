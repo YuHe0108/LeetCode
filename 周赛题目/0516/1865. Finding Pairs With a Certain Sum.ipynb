{
 "cells": [
  {
   "cell_type": "code",
   "execution_count": null,
   "metadata": {},
   "outputs": [],
   "source": []
  },
  {
   "cell_type": "code",
   "execution_count": null,
   "metadata": {},
   "outputs": [],
   "source": []
  },
  {
   "cell_type": "code",
   "execution_count": null,
   "metadata": {},
   "outputs": [],
   "source": []
  },
  {
   "cell_type": "code",
   "execution_count": 1,
   "metadata": {},
   "outputs": [],
   "source": [
    "from collections import Counter"
   ]
  },
  {
   "cell_type": "code",
   "execution_count": 2,
   "metadata": {},
   "outputs": [],
   "source": [
    "a = Counter([1, 2, 3, 1])"
   ]
  },
  {
   "cell_type": "code",
   "execution_count": 3,
   "metadata": {},
   "outputs": [
    {
     "data": {
      "text/plain": [
       "Counter({1: 2, 2: 1, 3: 1})"
      ]
     },
     "execution_count": 3,
     "metadata": {},
     "output_type": "execute_result"
    }
   ],
   "source": [
    "a"
   ]
  },
  {
   "cell_type": "code",
   "execution_count": 5,
   "metadata": {},
   "outputs": [
    {
     "data": {
      "text/plain": [
       "2"
      ]
     },
     "execution_count": 5,
     "metadata": {},
     "output_type": "execute_result"
    }
   ],
   "source": [
    "a.pop(1)"
   ]
  },
  {
   "cell_type": "code",
   "execution_count": 6,
   "metadata": {},
   "outputs": [
    {
     "data": {
      "text/plain": [
       "Counter({2: 1, 3: 1})"
      ]
     },
     "execution_count": 6,
     "metadata": {},
     "output_type": "execute_result"
    }
   ],
   "source": [
    "a"
   ]
  },
  {
   "cell_type": "code",
   "execution_count": null,
   "metadata": {},
   "outputs": [],
   "source": [
    "class FindSumPairs:\n",
    "\n",
    "    def __init__(self, nums1: List[int], nums2: List[int]):\n",
    "        self.count1 = Counter(nums1)\n",
    "        self.count2 = Counter(nums2)\n",
    "        self.nums1 = nums1\n",
    "        self.nums2 = nums2\n",
    "\n",
    "    def add(self, index: int, val: int) -> None:\n",
    "        pre_v = self.nums2[index]\n",
    "        new_v = pre_v + val\n",
    "        self.nums2[index] = new_v\n",
    "        self.count2[pre_v] -= 1\n",
    "        self.count2[new_v] += 1\n",
    "\n",
    "    def count(self, tot: int) -> int:\n",
    "        ans = 0\n",
    "        for k1, v1 in self.count1.items():\n",
    "            k2 = tot - k1\n",
    "            if self.count2[k2] > 0:\n",
    "                ans += v1 * self.count2[k2]\n",
    "        return ans\n",
    "\n",
    "# Your FindSumPairs object will be instantiated and called as such:\n",
    "# obj = FindSumPairs(nums1, nums2)\n",
    "# obj.add(index,val)\n",
    "# param_2 = obj.count(tot)"
   ]
  }
 ],
 "metadata": {
  "kernelspec": {
   "display_name": "Python 3",
   "language": "python",
   "name": "python3"
  },
  "language_info": {
   "codemirror_mode": {
    "name": "ipython",
    "version": 3
   },
   "file_extension": ".py",
   "mimetype": "text/x-python",
   "name": "python",
   "nbconvert_exporter": "python",
   "pygments_lexer": "ipython3",
   "version": "3.6.2"
  }
 },
 "nbformat": 4,
 "nbformat_minor": 4
}
