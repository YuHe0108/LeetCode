{
 "cells": [
  {
   "cell_type": "code",
   "execution_count": null,
   "metadata": {},
   "outputs": [],
   "source": []
  },
  {
   "cell_type": "code",
   "execution_count": null,
   "metadata": {},
   "outputs": [],
   "source": []
  },
  {
   "cell_type": "code",
   "execution_count": null,
   "metadata": {},
   "outputs": [],
   "source": []
  },
  {
   "cell_type": "code",
   "execution_count": 3,
   "metadata": {},
   "outputs": [],
   "source": [
    "class Solution:\n",
    "    def minSwaps(self, s: str) -> int:\n",
    "        n0, n1 = s.count('0'), s.count('1')\n",
    "        if abs(n0 - n1) >= 2: # 只能是小于等于2才可以实现交替\n",
    "            return -1\n",
    "        \n",
    "        odd_nums = [v for i, v in enumerate(s) if i % 2 == 1]\n",
    "        even_nums = [v for i, v in enumerate(s) if i % 2 == 0]\n",
    "        n = len(s)\n",
    "        \n",
    "        if n0 == n1:\n",
    "            ans1 = 0 # 偶数位置为 0\n",
    "            for i in range(0, n, 2):\n",
    "                if s[i] == '1': # 需要交换\n",
    "                    ans1 += 1\n",
    "\n",
    "            ans2 = 0 # 偶数位置为 1\n",
    "            for i in range(0, n, 2):\n",
    "                if s[i] == '0':\n",
    "                    ans2 += 1\n",
    "            return min(ans1, ans2)\n",
    "        elif n0 > n1: # 第一个位置只能放 0\n",
    "            ans1 = 0 # 偶数位置为 0\n",
    "            for i in range(0, n, 2):\n",
    "                if s[i] == '1': # 需要交换\n",
    "                    ans1 += 1\n",
    "            return ans1\n",
    "        elif n0 < n1: # 第一个位置只能放 1\n",
    "            ans2 = 0 # 偶数位置为 1\n",
    "            for i in range(0, n, 2):\n",
    "                if s[i] == '0':\n",
    "                    ans2 += 1\n",
    "            return ans2"
   ]
  },
  {
   "cell_type": "code",
   "execution_count": 6,
   "metadata": {},
   "outputs": [
    {
     "data": {
      "text/plain": [
       "-1"
      ]
     },
     "execution_count": 6,
     "metadata": {},
     "output_type": "execute_result"
    }
   ],
   "source": [
    "solution = Solution()\n",
    "solution.minSwaps(s = \"1110\")"
   ]
  },
  {
   "cell_type": "code",
   "execution_count": null,
   "metadata": {},
   "outputs": [],
   "source": []
  }
 ],
 "metadata": {
  "kernelspec": {
   "display_name": "Python 3",
   "language": "python",
   "name": "python3"
  },
  "language_info": {
   "codemirror_mode": {
    "name": "ipython",
    "version": 3
   },
   "file_extension": ".py",
   "mimetype": "text/x-python",
   "name": "python",
   "nbconvert_exporter": "python",
   "pygments_lexer": "ipython3",
   "version": "3.6.2"
  }
 },
 "nbformat": 4,
 "nbformat_minor": 4
}
