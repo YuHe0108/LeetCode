{
 "cells": [
  {
   "cell_type": "code",
   "execution_count": null,
   "metadata": {},
   "outputs": [],
   "source": []
  },
  {
   "cell_type": "code",
   "execution_count": null,
   "metadata": {},
   "outputs": [],
   "source": []
  },
  {
   "cell_type": "code",
   "execution_count": null,
   "metadata": {},
   "outputs": [],
   "source": []
  },
  {
   "cell_type": "code",
   "execution_count": 41,
   "metadata": {},
   "outputs": [],
   "source": [
    "from typing import List\n",
    "\n",
    "class Solution:\n",
    "    def nextPermutation(self, nums: List[int]) -> None:\n",
    "        \"\"\"\n",
    "        Do not return anything, modify nums in-place instead.\n",
    "        \"\"\"\n",
    "        n = len(nums)\n",
    "        stack = []\n",
    "        r_nums = nums[::-1]\n",
    "        for i, v in enumerate(r_nums):\n",
    "            if stack and v < stack[-1]:\n",
    "                last = stack.pop()\n",
    "                stack.append(v)\n",
    "                stack.append(last)\n",
    "                break\n",
    "            else:\n",
    "                stack.append(v)\n",
    "        if len(stack) < n:\n",
    "            nums = nums[:i] + stack[::-1]\n",
    "        else:\n",
    "            nums = r_nums\n",
    "        print(nums)"
   ]
  },
  {
   "cell_type": "code",
   "execution_count": null,
   "metadata": {},
   "outputs": [],
   "source": []
  },
  {
   "cell_type": "code",
   "execution_count": null,
   "metadata": {},
   "outputs": [],
   "source": []
  },
  {
   "cell_type": "code",
   "execution_count": 135,
   "metadata": {},
   "outputs": [],
   "source": [
    "from typing import List\n",
    "\n",
    "class Solution:\n",
    "    def nextPermutation(self, nums: List[int]) -> None:\n",
    "        \"\"\"\n",
    "        Do not return anything, modify nums in-place instead.\n",
    "        \"\"\"\n",
    "        n = len(nums)\n",
    "        r_nums = nums[::-1]\n",
    "        stack = []\n",
    "        f, s = None, None\n",
    "        for i, v in enumerate(r_nums):\n",
    "            if stack and v < r_nums[stack[-1]]:\n",
    "                f = i\n",
    "                while stack and v < r_nums[stack[-1]]:\n",
    "                    s = stack[-1]\n",
    "                    last = stack.pop()\n",
    "                break\n",
    "            else:\n",
    "                stack.append(i)\n",
    "        \n",
    "        if f == s == None:\n",
    "            nums.sort()\n",
    "        else:\n",
    "            n_f, n_s = n-f-1, n-s-1\n",
    "            nums[n_f], nums[n_s] = nums[n_s], nums[n_f]\n",
    "            nums[n_f+1:] = sorted(nums[n_f+1:])\n",
    "        print(nums)"
   ]
  },
  {
   "cell_type": "code",
   "execution_count": 139,
   "metadata": {},
   "outputs": [
    {
     "name": "stdout",
     "output_type": "stream",
     "text": [
      "[2, 1, 3]\n"
     ]
    }
   ],
   "source": [
    "solution = Solution()\n",
    "solution.nextPermutation([1,3,2])"
   ]
  },
  {
   "cell_type": "code",
   "execution_count": null,
   "metadata": {},
   "outputs": [],
   "source": []
  }
 ],
 "metadata": {
  "kernelspec": {
   "display_name": "Python 3",
   "language": "python",
   "name": "python3"
  },
  "language_info": {
   "codemirror_mode": {
    "name": "ipython",
    "version": 3
   },
   "file_extension": ".py",
   "mimetype": "text/x-python",
   "name": "python",
   "nbconvert_exporter": "python",
   "pygments_lexer": "ipython3",
   "version": "3.6.2"
  }
 },
 "nbformat": 4,
 "nbformat_minor": 4
}
