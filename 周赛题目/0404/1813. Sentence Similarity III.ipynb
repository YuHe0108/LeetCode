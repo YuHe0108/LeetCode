{
 "cells": [
  {
   "cell_type": "code",
   "execution_count": null,
   "metadata": {},
   "outputs": [],
   "source": []
  },
  {
   "cell_type": "code",
   "execution_count": null,
   "metadata": {},
   "outputs": [],
   "source": []
  },
  {
   "cell_type": "code",
   "execution_count": null,
   "metadata": {},
   "outputs": [],
   "source": []
  },
  {
   "cell_type": "code",
   "execution_count": null,
   "metadata": {},
   "outputs": [],
   "source": []
  },
  {
   "cell_type": "code",
   "execution_count": null,
   "metadata": {},
   "outputs": [],
   "source": [
    "class Solution:\n",
    "    def areSentencesSimilar(self, sentence1: str, sentence2: str) -> bool:\n",
    "        words1 = sentence1.split(' ')\n",
    "        words2 = sentence2.split(' ') \n",
    "        if len(words1) < len(words2):\n",
    "            words2, words1 = words1, words2\n",
    "        \n",
    "        idx1 = idx2 = 0\n",
    "        n1, n2 = len(words1), len(words2) # words1 更长\n",
    "        flag = True\n",
    "        cnt = 0\n",
    "        while idx1 < n1 and idx2 < n2:\n",
    "            w1, w2 = words1[idx1], words2[idx2]\n",
    "            if w1 == w2:\n",
    "                idx1 += 1\n",
    "                idx2 += 1\n",
    "                flag = True\n",
    "            else:\n",
    "                if flag is True:\n",
    "                    flag = False\n",
    "                    cnt += 1\n",
    "                idx1 += 1\n",
    "            \n",
    "        # 只有这几种可能\n",
    "        # 退出的时候，如果一个单词都不匹配，那么 words2 是不会到达末尾的\n",
    "        # str2 达到末尾，如果str1也到末尾，那么 cnt <= 1 才可以\n",
    "        # 如果str1不到末尾，那么势必要填充 一次，所以cnt必须要等于0\n",
    "         if idx2 == n2:\n",
    "            if (idx1 == n1 and cnt <= 1) or (idx1 < n1 and cnt == 0):\n",
    "                return True\n",
    "        # 如果 words2 不在末尾，那么一定是False\n",
    "        return False"
   ]
  }
 ],
 "metadata": {
  "kernelspec": {
   "display_name": "Python 3",
   "language": "python",
   "name": "python3"
  },
  "language_info": {
   "codemirror_mode": {
    "name": "ipython",
    "version": 3
   },
   "file_extension": ".py",
   "mimetype": "text/x-python",
   "name": "python",
   "nbconvert_exporter": "python",
   "pygments_lexer": "ipython3",
   "version": "3.6.2"
  }
 },
 "nbformat": 4,
 "nbformat_minor": 4
}
