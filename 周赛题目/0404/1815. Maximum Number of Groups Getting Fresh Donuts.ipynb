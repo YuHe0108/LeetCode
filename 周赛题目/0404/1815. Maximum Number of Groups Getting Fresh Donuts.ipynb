{
 "cells": [
  {
   "cell_type": "code",
   "execution_count": null,
   "metadata": {},
   "outputs": [],
   "source": []
  },
  {
   "cell_type": "code",
   "execution_count": null,
   "metadata": {},
   "outputs": [],
   "source": []
  },
  {
   "cell_type": "code",
   "execution_count": 5,
   "metadata": {},
   "outputs": [
    {
     "data": {
      "text/plain": [
       "15360"
      ]
     },
     "execution_count": 5,
     "metadata": {},
     "output_type": "execute_result"
    }
   ],
   "source": [
    "pow(2, 9) * 30"
   ]
  },
  {
   "cell_type": "code",
   "execution_count": null,
   "metadata": {},
   "outputs": [],
   "source": []
  },
  {
   "cell_type": "code",
   "execution_count": 27,
   "metadata": {},
   "outputs": [],
   "source": [
    "from typing import List\n",
    "from collections import Counter\n",
    "from functools import lru_cache\n",
    "\n",
    "class Solution:\n",
    "    def maxHappyGroups(self, batchSize: int, groups: List[int]) -> int:\n",
    "        \n",
    "        @lru_cache(None)\n",
    "        def dp(mod_val, groups):\n",
    "            # mod_val 是不同groups的组合，对batchSize的取余\n",
    "            if not groups:\n",
    "                return 0\n",
    "            \n",
    "            groups = list(groups)\n",
    "            ans = 0\n",
    "            for i, v in enumerate(groups):\n",
    "                new_mod_val = (mod_val + v) % batchSize\n",
    "                next_groups = groups[:i] + groups[i+1:] \n",
    "                ans = max(ans, (mod_val == 0) + dp(new_mod_val, tuple(next_groups)))\n",
    "            return ans\n",
    "        \n",
    "        n = len(groups)\n",
    "        # 1、首先，可以被batchSize整除的，一定是happyGroup, 剩下的都是不能被batchSize整除\n",
    "        groups = [x % batchSize for x in groups if x % batchSize]\n",
    "        \n",
    "        ans = n - len(groups)\n",
    "        \n",
    "        # 2、找到一对数字，两个数字之和可以被整除\n",
    "        freq = Counter(groups)\n",
    "        for b in range(1, batchSize + 1):\n",
    "            # 假设当前的数字对batchSize取余为 b\n",
    "            match_num = batchSize - b\n",
    "            min_cnt = min(freq[match_num], freq[b])\n",
    "            if min_cnt == 0:\n",
    "                continue\n",
    "            if match_num == b:\n",
    "                min_cnt = freq[b] // 2\n",
    "            ans += min_cnt\n",
    "            freq[b] -= min_cnt\n",
    "            freq[match_num] -= min_cnt\n",
    "        \n",
    "        # 3、最后剩下的是不能凑成一对的元素\n",
    "        new_groups = []\n",
    "        for k, v in freq.items():\n",
    "            new_groups += [k] * v\n",
    "        m = len(new_groups)\n",
    "        return ans + dp(0, tuple(new_groups))"
   ]
  },
  {
   "cell_type": "code",
   "execution_count": 28,
   "metadata": {},
   "outputs": [
    {
     "data": {
      "text/plain": [
       "4"
      ]
     },
     "execution_count": 28,
     "metadata": {},
     "output_type": "execute_result"
    }
   ],
   "source": [
    "solution = Solution()\n",
    "solution.maxHappyGroups(batchSize = 4, groups = [1,3,2,5,2,2,1,6])"
   ]
  },
  {
   "cell_type": "code",
   "execution_count": null,
   "metadata": {},
   "outputs": [],
   "source": []
  }
 ],
 "metadata": {
  "kernelspec": {
   "display_name": "Python 3",
   "language": "python",
   "name": "python3"
  },
  "language_info": {
   "codemirror_mode": {
    "name": "ipython",
    "version": 3
   },
   "file_extension": ".py",
   "mimetype": "text/x-python",
   "name": "python",
   "nbconvert_exporter": "python",
   "pygments_lexer": "ipython3",
   "version": "3.6.2"
  }
 },
 "nbformat": 4,
 "nbformat_minor": 4
}
