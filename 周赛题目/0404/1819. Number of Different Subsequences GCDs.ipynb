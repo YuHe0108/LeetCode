{
 "cells": [
  {
   "cell_type": "code",
   "execution_count": null,
   "metadata": {},
   "outputs": [],
   "source": []
  },
  {
   "cell_type": "code",
   "execution_count": null,
   "metadata": {},
   "outputs": [],
   "source": []
  },
  {
   "cell_type": "code",
   "execution_count": null,
   "metadata": {},
   "outputs": [],
   "source": []
  },
  {
   "cell_type": "code",
   "execution_count": null,
   "metadata": {},
   "outputs": [],
   "source": []
  },
  {
   "cell_type": "code",
   "execution_count": 23,
   "metadata": {},
   "outputs": [],
   "source": [
    "from typing import List\n",
    "\n",
    "class Solution:\n",
    "    def countDifferentSubsequenceGCDs(self, nums: List[int]) -> int:\n",
    "        \n",
    "        def gcd(a, b):\n",
    "            while b:\n",
    "                # 如果 a比较小的，b比较大，那么 a % b == a\n",
    "                a, b = b, a % b\n",
    "            return a\n",
    "    \n",
    "        max_val = max(nums)\n",
    "        set_nums = set(nums)\n",
    "        ans = 0\n",
    "        # 有可能的公约数在 1 ~ max_val 之间\n",
    "        for x in range(1, max_val + 1):\n",
    "            cur_gcd = 0\n",
    "            for i in range(x, max_val + 1, x):\n",
    "                # 如果 x 是 4 话，查看 4、8、12、16 ... (4 * n) 是不是在nums中\n",
    "                if i in set_nums:\n",
    "                    cur_gcd = gcd(cur_gcd, i)\n",
    "                if cur_gcd == x:\n",
    "                    ans += 1\n",
    "                    break\n",
    "        return ans"
   ]
  },
  {
   "cell_type": "code",
   "execution_count": 24,
   "metadata": {},
   "outputs": [
    {
     "data": {
      "text/plain": [
       "7"
      ]
     },
     "execution_count": 24,
     "metadata": {},
     "output_type": "execute_result"
    }
   ],
   "source": [
    "solution = Solution()\n",
    "solution.countDifferentSubsequenceGCDs([5,15,40,5,6])"
   ]
  },
  {
   "cell_type": "code",
   "execution_count": 26,
   "metadata": {},
   "outputs": [
    {
     "data": {
      "text/plain": [
       "0"
      ]
     },
     "execution_count": 26,
     "metadata": {},
     "output_type": "execute_result"
    }
   ],
   "source": [
    "0 % 7"
   ]
  },
  {
   "cell_type": "code",
   "execution_count": null,
   "metadata": {},
   "outputs": [],
   "source": []
  }
 ],
 "metadata": {
  "kernelspec": {
   "display_name": "Python 3",
   "language": "python",
   "name": "python3"
  },
  "language_info": {
   "codemirror_mode": {
    "name": "ipython",
    "version": 3
   },
   "file_extension": ".py",
   "mimetype": "text/x-python",
   "name": "python",
   "nbconvert_exporter": "python",
   "pygments_lexer": "ipython3",
   "version": "3.6.2"
  }
 },
 "nbformat": 4,
 "nbformat_minor": 4
}
