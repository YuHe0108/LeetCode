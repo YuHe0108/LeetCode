{
 "cells": [
  {
   "cell_type": "code",
   "execution_count": null,
   "metadata": {},
   "outputs": [],
   "source": [
    "class Solution:\n",
    "    def findingUsersActiveMinutes(self, logs: List[List[int]], k: int) -> List[int]:\n",
    "        \n",
    "        res = [0] * k\n",
    "        counts = defaultdict(set)\n",
    "        for i, t in logs:\n",
    "            counts[i].add(t)\n",
    "            \n",
    "        for k, v in counts.items():\n",
    "            c_v = len(v) - 1\n",
    "            res[c_v] += 1\n",
    "        return res"
   ]
  }
 ],
 "metadata": {
  "kernelspec": {
   "display_name": "Python 3",
   "language": "python",
   "name": "python3"
  },
  "language_info": {
   "codemirror_mode": {
    "name": "ipython",
    "version": 3
   },
   "file_extension": ".py",
   "mimetype": "text/x-python",
   "name": "python",
   "nbconvert_exporter": "python",
   "pygments_lexer": "ipython3",
   "version": "3.6.2"
  }
 },
 "nbformat": 4,
 "nbformat_minor": 4
}
