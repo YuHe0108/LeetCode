{
 "cells": [
  {
   "cell_type": "code",
   "execution_count": 1,
   "metadata": {},
   "outputs": [],
   "source": [
    "import bisect"
   ]
  },
  {
   "cell_type": "code",
   "execution_count": 2,
   "metadata": {},
   "outputs": [],
   "source": [
    "nums1 = [1, 2, 3]"
   ]
  },
  {
   "cell_type": "code",
   "execution_count": 3,
   "metadata": {},
   "outputs": [
    {
     "data": {
      "text/plain": [
       "3"
      ]
     },
     "execution_count": 3,
     "metadata": {},
     "output_type": "execute_result"
    }
   ],
   "source": [
    "bisect.bisect_left(nums1, 4)"
   ]
  },
  {
   "cell_type": "code",
   "execution_count": 5,
   "metadata": {},
   "outputs": [
    {
     "data": {
      "text/plain": [
       "999979993"
      ]
     },
     "execution_count": 5,
     "metadata": {},
     "output_type": "execute_result"
    }
   ],
   "source": [
    "1999980000 % (pow(10, 9) + 7)"
   ]
  },
  {
   "cell_type": "code",
   "execution_count": null,
   "metadata": {},
   "outputs": [],
   "source": []
  },
  {
   "cell_type": "code",
   "execution_count": null,
   "metadata": {},
   "outputs": [],
   "source": []
  },
  {
   "cell_type": "code",
   "execution_count": null,
   "metadata": {},
   "outputs": [],
   "source": []
  },
  {
   "cell_type": "code",
   "execution_count": null,
   "metadata": {},
   "outputs": [],
   "source": [
    "class Solution:\n",
    "    def minAbsoluteSumDiff(self, nums1: List[int], nums2: List[int]) -> int:\n",
    "        n = len(nums1)\n",
    "        max_dif = 0 # abs(x1 - x2) 最大的差值是多少\n",
    "        val1_idx = [] # 最大差值对应的 x1 的下标\n",
    "        past = 0\n",
    "        mod = pow(10, 9) + 7\n",
    "        for i in range(n):\n",
    "            x1, x2 = nums1[i], nums2[i]\n",
    "            val = abs(x1 - x2)\n",
    "            past += val \n",
    "            if val == max_dif:\n",
    "                val1_idx.append(i)\n",
    "            elif val > max_dif:\n",
    "                max_dif = val\n",
    "                val1_idx = [i]\n",
    "        if n == 1 or max_dif == 0:\n",
    "            return past % mod\n",
    "        \n",
    "        sort_nums = sorted(nums1)\n",
    "        res = past\n",
    "        for i in val1_idx:\n",
    "            v1, v2 = nums1[i], nums2[i] # 在nums1 中找到与nums2 最接近的值\n",
    "            idx = bisect.bisect_left(sort_nums, v2)\n",
    "            cur_past = past - abs(v1 - v2)\n",
    "            if idx == n:\n",
    "                res = min(res, cur_past + abs(sort_nums[idx-1] - v2))\n",
    "            elif idx + 1 >= n:\n",
    "                res = min(res, \n",
    "                          cur_past + abs(sort_nums[idx-1] - v2),\n",
    "                          cur_past + abs(sort_nums[idx] - v2))\n",
    "            elif idx - 1 < 0:\n",
    "                res = min(res, \n",
    "                          cur_past + abs(sort_nums[idx] - v2),\n",
    "                          cur_past + abs(sort_nums[idx+1] - v2))\n",
    "            else:\n",
    "                res = min(res, \n",
    "                          cur_past + abs(sort_nums[idx-1] - v2),\n",
    "                          cur_past + abs(sort_nums[idx] - v2),\n",
    "                          cur_past + abs(sort_nums[idx+1] - v2))\n",
    "        return res % mod"
   ]
  }
 ],
 "metadata": {
  "kernelspec": {
   "display_name": "Python 3",
   "language": "python",
   "name": "python3"
  },
  "language_info": {
   "codemirror_mode": {
    "name": "ipython",
    "version": 3
   },
   "file_extension": ".py",
   "mimetype": "text/x-python",
   "name": "python",
   "nbconvert_exporter": "python",
   "pygments_lexer": "ipython3",
   "version": "3.6.2"
  }
 },
 "nbformat": 4,
 "nbformat_minor": 4
}
