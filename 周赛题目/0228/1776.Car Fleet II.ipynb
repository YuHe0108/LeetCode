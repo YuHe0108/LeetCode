{
 "cells": [
  {
   "cell_type": "code",
   "execution_count": null,
   "metadata": {},
   "outputs": [],
   "source": []
  },
  {
   "cell_type": "code",
   "execution_count": null,
   "metadata": {},
   "outputs": [],
   "source": []
  },
  {
   "cell_type": "code",
   "execution_count": null,
   "metadata": {},
   "outputs": [],
   "source": []
  },
  {
   "cell_type": "code",
   "execution_count": 10,
   "metadata": {},
   "outputs": [],
   "source": [
    "from typing import List\n",
    "\n",
    "class Solution:\n",
    "    def getCollisionTimes(self, cars: List[List[int]]) -> List[float]:\n",
    "        n = len(cars)\n",
    "        ans = [-1] * n\n",
    "        # time, pos, speed\n",
    "        stack = [(float('inf'), cars[-1][0], cars[-1][1])]\n",
    "        \n",
    "        for i in range(n-2, -1, -1):\n",
    "            cur_p, cur_s = cars[i]\n",
    "            \n",
    "            # 如果后一辆车的速度 小于 前 一辆车的速度，那么前面的这辆车永远没有车子可以赶得上\n",
    "            # \n",
    "            # 前面一辆车追上 更靠前车所需要的时间\n",
    "            while stack and (cur_s <= stack[-1][2] or (stack[-1][1] - cur_p) / (cur_s - stack[-1][2]) >= stack[-1][0]):\n",
    "                stack.pop()\n",
    "            \n",
    "            if not stack:\n",
    "                stack.append((float('inf'), cur_p, cur_s))\n",
    "            else:\n",
    "                # 追上前面一辆车会消耗的时间\n",
    "                cost_time = (stack[-1][1] - cur_p) / (cur_s - stack[-1][2])\n",
    "                stack.append((cost_time, cur_p, cur_s))\n",
    "                ans[i] = cost_time\n",
    "            print(stack)\n",
    "        return ans"
   ]
  },
  {
   "cell_type": "code",
   "execution_count": 11,
   "metadata": {},
   "outputs": [
    {
     "name": "stdout",
     "output_type": "stream",
     "text": [
      "[(inf, 9, 1), (1.5, 6, 3)]\n",
      "[(inf, 9, 1), (1.5, 6, 3), (1.0, 5, 4)]\n",
      "[(inf, 9, 1), (2.0, 3, 4)]\n"
     ]
    },
    {
     "data": {
      "text/plain": [
       "[2.0, 1.0, 1.5, -1]"
      ]
     },
     "execution_count": 11,
     "metadata": {},
     "output_type": "execute_result"
    }
   ],
   "source": [
    "solution = Solution()\n",
    "solution.getCollisionTimes([[3,4],[5,4],[6,3],[9,1]])"
   ]
  },
  {
   "cell_type": "code",
   "execution_count": null,
   "metadata": {},
   "outputs": [],
   "source": []
  }
 ],
 "metadata": {
  "kernelspec": {
   "display_name": "Python 3",
   "language": "python",
   "name": "python3"
  },
  "language_info": {
   "codemirror_mode": {
    "name": "ipython",
    "version": 3
   },
   "file_extension": ".py",
   "mimetype": "text/x-python",
   "name": "python",
   "nbconvert_exporter": "python",
   "pygments_lexer": "ipython3",
   "version": "3.6.2"
  }
 },
 "nbformat": 4,
 "nbformat_minor": 4
}
