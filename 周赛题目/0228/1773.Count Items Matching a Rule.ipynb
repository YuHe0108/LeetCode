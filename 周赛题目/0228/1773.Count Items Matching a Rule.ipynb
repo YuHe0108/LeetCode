{
 "cells": [
  {
   "cell_type": "code",
   "execution_count": null,
   "metadata": {},
   "outputs": [],
   "source": [
    "class Solution:\n",
    "    def countMatches(self, items: List[List[str]], ruleKey: str, ruleValue: str) -> int:\n",
    "        cnt = 0\n",
    "        for types, color, name in items:\n",
    "            flag1 = flag2 = flag3 = False\n",
    "            if ruleKey == \"type\" and ruleValue == types:\n",
    "                flag1 = True\n",
    "            if ruleKey == \"color\"and ruleValue == color:\n",
    "                flag2 = True\n",
    "            if ruleKey == \"name\" and ruleValue == name:\n",
    "                flag3 = True\n",
    "            if flag1 or flag2 or flag3:\n",
    "                cnt += 1\n",
    "        return cnt"
   ]
  }
 ],
 "metadata": {
  "kernelspec": {
   "display_name": "Python 3",
   "language": "python",
   "name": "python3"
  },
  "language_info": {
   "codemirror_mode": {
    "name": "ipython",
    "version": 3
   },
   "file_extension": ".py",
   "mimetype": "text/x-python",
   "name": "python",
   "nbconvert_exporter": "python",
   "pygments_lexer": "ipython3",
   "version": "3.6.2"
  }
 },
 "nbformat": 4,
 "nbformat_minor": 4
}
