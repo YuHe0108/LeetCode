{
 "cells": [
  {
   "cell_type": "code",
   "execution_count": 1,
   "metadata": {},
   "outputs": [
    {
     "data": {
      "text/plain": [
       "1024"
      ]
     },
     "execution_count": 1,
     "metadata": {},
     "output_type": "execute_result"
    }
   ],
   "source": [
    "pow(2, 10)"
   ]
  },
  {
   "cell_type": "code",
   "execution_count": 2,
   "metadata": {},
   "outputs": [
    {
     "data": {
      "text/plain": [
       "1048576"
      ]
     },
     "execution_count": 2,
     "metadata": {},
     "output_type": "execute_result"
    }
   ],
   "source": [
    "pow(2, 20)"
   ]
  },
  {
   "cell_type": "code",
   "execution_count": null,
   "metadata": {},
   "outputs": [],
   "source": []
  },
  {
   "cell_type": "code",
   "execution_count": null,
   "metadata": {},
   "outputs": [],
   "source": []
  },
  {
   "cell_type": "code",
   "execution_count": null,
   "metadata": {},
   "outputs": [],
   "source": []
  },
  {
   "cell_type": "code",
   "execution_count": 8,
   "metadata": {},
   "outputs": [
    {
     "data": {
      "text/plain": [
       "[(1, 2), (1, 3), (10, 1)]"
      ]
     },
     "execution_count": 8,
     "metadata": {},
     "output_type": "execute_result"
    }
   ],
   "source": [
    "ways = [(10, 1), (1, 3), (1, 2)]\n",
    "sorted(ways, key=lambda x:(x[0],x[1]))"
   ]
  },
  {
   "cell_type": "code",
   "execution_count": 9,
   "metadata": {},
   "outputs": [
    {
     "data": {
      "text/plain": [
       "1073741824"
      ]
     },
     "execution_count": 9,
     "metadata": {},
     "output_type": "execute_result"
    }
   ],
   "source": [
    "pow(2, 30)"
   ]
  },
  {
   "cell_type": "code",
   "execution_count": 11,
   "metadata": {},
   "outputs": [
    {
     "data": {
      "text/plain": [
       "81920"
      ]
     },
     "execution_count": 11,
     "metadata": {},
     "output_type": "execute_result"
    }
   ],
   "source": [
    "pow(2, 10) * 8 * 10"
   ]
  },
  {
   "cell_type": "code",
   "execution_count": 12,
   "metadata": {},
   "outputs": [],
   "source": [
    "from typing import List\n",
    "\n",
    "# bit manipulation\n",
    "class Solution:\n",
    "    def closestCost(self, baseCosts: List[int], toppingCosts: List[int], target: int) -> int:\n",
    "        price = None\n",
    "        min_gap = float('inf')\n",
    "        toppingCosts += toppingCosts\n",
    "        m = len(toppingCosts)\n",
    "        for b in baseCosts:\n",
    "            if b < target:\n",
    "                for p in range(1 << m):\n",
    "                    k = 0\n",
    "                    cur = b\n",
    "                    while p:\n",
    "                        if (p & 1) == 1:\n",
    "                            cur += toppingCosts[k]\n",
    "                        k += 1\n",
    "                        p >>= 1\n",
    "                        \n",
    "                    if abs(cur - target) < min_gap:\n",
    "                        min_gap = abs(cur - target)\n",
    "                        price = cur\n",
    "                    elif abs(cur - target) == min_gap:\n",
    "                        price = min(cur, price)\n",
    "            elif b == target:\n",
    "                return b\n",
    "            else:\n",
    "                if abs(b - target) < min_gap:\n",
    "                    min_gap = abs(b - target)\n",
    "                    price = b\n",
    "                elif abs(b - target) == min_gap:\n",
    "                    price = min(b, price)\n",
    "        return price"
   ]
  },
  {
   "cell_type": "code",
   "execution_count": null,
   "metadata": {},
   "outputs": [],
   "source": []
  },
  {
   "cell_type": "code",
   "execution_count": null,
   "metadata": {},
   "outputs": [],
   "source": []
  },
  {
   "cell_type": "code",
   "execution_count": null,
   "metadata": {},
   "outputs": [],
   "source": []
  },
  {
   "cell_type": "code",
   "execution_count": null,
   "metadata": {},
   "outputs": [],
   "source": [
    "class Solution:\n",
    "    def closestCost(self, baseCosts: List[int], toppingCosts: List[int], target: int) -> int:\n",
    "        res = float(\"-inf\")\n",
    "        cost = float(\"inf\")\n",
    "        for toppingCost in toppingCosts:\n",
    "            tmp = []\n",
    "            for baseCost in baseCosts:    #遍历baseCosts\n",
    "                tmp.append(baseCost+toppingCost)\n",
    "                tmp.append(baseCost+2*toppingCost)\n",
    "            baseCosts.extend(tmp)   #将tmp中的元素加入其中，但最外层的[]删除\n",
    "        for baseCost in baseCosts:\n",
    "            if baseCost == target:\n",
    "                return baseCost\n",
    "            if baseCost < target:\n",
    "                res = max(res,baseCost)\n",
    "            if baseCost > target:\n",
    "                cost = min(cost,baseCost)\n",
    "        return res if target-res <= cost-target else cost"
   ]
  },
  {
   "cell_type": "code",
   "execution_count": null,
   "metadata": {},
   "outputs": [],
   "source": []
  },
  {
   "cell_type": "code",
   "execution_count": null,
   "metadata": {},
   "outputs": [],
   "source": []
  },
  {
   "cell_type": "code",
   "execution_count": 2,
   "metadata": {},
   "outputs": [],
   "source": [
    "from typing import List\n",
    "\n",
    "# DFS: O(N * 3 ^ 10)\n",
    "class Solution:\n",
    "    def closestCost(self, baseCosts: List[int], toppingCosts: List[int], target: int) -> int:\n",
    "        def dfs(idx, cur):\n",
    "            nonlocal diff, res\n",
    "            if abs(cur - target) < diff:\n",
    "                diff = abs(cur - target)\n",
    "                res = cur\n",
    "            elif abs(cur - target) == diff:\n",
    "                res = min(res, cur)\n",
    "            \n",
    "            if cur > target or idx == len(toppingCosts):\n",
    "                return\n",
    "            \n",
    "            # 0, 1, 2\n",
    "            for i in range(3):\n",
    "                dfs(idx + 1, toppingCosts[idx] * i + cur)\n",
    "        \n",
    "        \n",
    "        res = float('inf')\n",
    "        diff = float('inf')\n",
    "        for b in baseCosts:\n",
    "            dfs(0, b)\n",
    "        return res"
   ]
  },
  {
   "cell_type": "code",
   "execution_count": null,
   "metadata": {},
   "outputs": [],
   "source": []
  }
 ],
 "metadata": {
  "kernelspec": {
   "display_name": "Python 3",
   "language": "python",
   "name": "python3"
  },
  "language_info": {
   "codemirror_mode": {
    "name": "ipython",
    "version": 3
   },
   "file_extension": ".py",
   "mimetype": "text/x-python",
   "name": "python",
   "nbconvert_exporter": "python",
   "pygments_lexer": "ipython3",
   "version": "3.6.2"
  }
 },
 "nbformat": 4,
 "nbformat_minor": 4
}
