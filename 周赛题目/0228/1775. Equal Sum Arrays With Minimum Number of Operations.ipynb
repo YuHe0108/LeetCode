{
 "cells": [
  {
   "cell_type": "code",
   "execution_count": null,
   "metadata": {},
   "outputs": [],
   "source": []
  },
  {
   "cell_type": "code",
   "execution_count": null,
   "metadata": {},
   "outputs": [],
   "source": []
  },
  {
   "cell_type": "code",
   "execution_count": null,
   "metadata": {},
   "outputs": [],
   "source": []
  },
  {
   "cell_type": "code",
   "execution_count": null,
   "metadata": {},
   "outputs": [],
   "source": []
  },
  {
   "cell_type": "code",
   "execution_count": 1,
   "metadata": {},
   "outputs": [],
   "source": [
    "class Solution:\n",
    "    def minOperations(self, nums1: List[int], nums2: List[int]) -> int:\n",
    "        sum1, sum2 = sum(nums1), sum(nums2)\n",
    "        diff = sum1 - sum2\n",
    "        # 每个数字增大或者减小能够 贡献的最大值是多少\n",
    "        if diff < 0:\n",
    "            nums = [6-v for v in nums1] + [v-1 for v in nums2]\n",
    "        elif diff > 0:\n",
    "            nums = [v-1 for v in nums1] + [6-v for v in nums2]\n",
    "        else:\n",
    "            return 0        \n",
    "        \n",
    "        nums.sort(reverse=True)\n",
    "        cnt = 0\n",
    "        i = 0\n",
    "        diff = abs(diff)\n",
    "        while diff and i < len(nums):\n",
    "            cnt += 1\n",
    "            if diff > nums[i]:\n",
    "                diff -= nums[i]\n",
    "            elif diff <= nums[i]:\n",
    "                return cnt\n",
    "            i += 1\n",
    "        return -1"
   ]
  },
  {
   "cell_type": "code",
   "execution_count": null,
   "metadata": {},
   "outputs": [],
   "source": [
    "solution = Solution()\n",
    "solution.minOperations(nums1 = [1,2,3,4,5,6], nums2 = [1,1,2,2,2,2])"
   ]
  }
 ],
 "metadata": {
  "kernelspec": {
   "display_name": "Python 3",
   "language": "python",
   "name": "python3"
  },
  "language_info": {
   "codemirror_mode": {
    "name": "ipython",
    "version": 3
   },
   "file_extension": ".py",
   "mimetype": "text/x-python",
   "name": "python",
   "nbconvert_exporter": "python",
   "pygments_lexer": "ipython3",
   "version": "3.6.2"
  }
 },
 "nbformat": 4,
 "nbformat_minor": 4
}
