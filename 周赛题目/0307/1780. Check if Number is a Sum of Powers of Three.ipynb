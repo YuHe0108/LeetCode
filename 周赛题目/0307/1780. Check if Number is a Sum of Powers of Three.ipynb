{
 "cells": [
  {
   "cell_type": "code",
   "execution_count": 1,
   "metadata": {},
   "outputs": [
    {
     "data": {
      "text/plain": [
       "10000000"
      ]
     },
     "execution_count": 1,
     "metadata": {},
     "output_type": "execute_result"
    }
   ],
   "source": [
    "pow(10, 7)"
   ]
  },
  {
   "cell_type": "code",
   "execution_count": 2,
   "metadata": {},
   "outputs": [],
   "source": [
    "import math"
   ]
  },
  {
   "cell_type": "code",
   "execution_count": 4,
   "metadata": {},
   "outputs": [
    {
     "data": {
      "text/plain": [
       "14.671322920025691"
      ]
     },
     "execution_count": 4,
     "metadata": {},
     "output_type": "execute_result"
    }
   ],
   "source": [
    "math.log(10000000, 3)"
   ]
  },
  {
   "cell_type": "code",
   "execution_count": 6,
   "metadata": {},
   "outputs": [
    {
     "data": {
      "text/plain": [
       "4782969"
      ]
     },
     "execution_count": 6,
     "metadata": {},
     "output_type": "execute_result"
    }
   ],
   "source": [
    "pow(3, 14)"
   ]
  },
  {
   "cell_type": "code",
   "execution_count": null,
   "metadata": {},
   "outputs": [],
   "source": []
  },
  {
   "cell_type": "code",
   "execution_count": null,
   "metadata": {},
   "outputs": [],
   "source": []
  },
  {
   "cell_type": "code",
   "execution_count": 44,
   "metadata": {},
   "outputs": [],
   "source": [
    "from functools import lru_cache\n",
    "\n",
    "class Solution:\n",
    "    def checkPowersOfThree(self, n: int) -> bool:\n",
    "        @lru_cache(None)\n",
    "        def dfs(nums):\n",
    "            if nums == 0:\n",
    "                return True\n",
    "            if nums % 3 != 0 and used[0] == 0:\n",
    "                return False\n",
    "            \n",
    "            for i in range(15 + 1):\n",
    "                if used[i] == 0:\n",
    "                    continue\n",
    "                if nums - pow(3, i) < 0:\n",
    "                    break\n",
    "                used[i] -= 1\n",
    "                if dfs(nums - pow(3, i)):\n",
    "                    return True\n",
    "                used[i] += 1\n",
    "            return False\n",
    "        \n",
    "        used = [1] * 16\n",
    "        return dfs(n)"
   ]
  },
  {
   "cell_type": "code",
   "execution_count": null,
   "metadata": {},
   "outputs": [],
   "source": []
  },
  {
   "cell_type": "code",
   "execution_count": 54,
   "metadata": {},
   "outputs": [],
   "source": [
    "class Solution:\n",
    "    def checkPowersOfThree(self, n: int) -> bool:\n",
    "        for i in range(20, -1, -1):\n",
    "            if n >= 3**i:\n",
    "                n -= 3**i\n",
    "        return n == 0"
   ]
  },
  {
   "cell_type": "code",
   "execution_count": 55,
   "metadata": {},
   "outputs": [
    {
     "name": "stdout",
     "output_type": "stream",
     "text": [
      "91 81 before\n",
      "10 after\n",
      "10 9 before\n",
      "1 after\n",
      "1 1 before\n",
      "0 after\n"
     ]
    },
    {
     "data": {
      "text/plain": [
       "True"
      ]
     },
     "execution_count": 55,
     "metadata": {},
     "output_type": "execute_result"
    }
   ],
   "source": [
    "solution = Solution()\n",
    "solution.checkPowersOfThree(91)"
   ]
  },
  {
   "cell_type": "code",
   "execution_count": null,
   "metadata": {},
   "outputs": [],
   "source": [
    "class Solution:\n",
    "    def checkPowersOfThree(self, n: int) -> bool:\n",
    "        dic = {}\n",
    "        return self.dfs(dic,n,0)\n",
    "\n",
    "    #判断一个数字是否可以表示成三的x次方之和，其中x>=index。\n",
    "    def dfs(self, dic, n, index):\n",
    "        # 这一步既能减少重复的计算,也可以用于排除是否使用相同的 3 的幂数\n",
    "        if n in dic: \n",
    "            return dic[n]\n",
    "        if n == 0: \n",
    "            return True \n",
    "        if 3 ** index > n:\n",
    "            return False\n",
    "        \n",
    "        # 要么当前这个数字减去\n",
    "        dic[n] = self.dfs(dic, n-3**index, index+1) or self.dfs(dic, n, index+1)\n",
    "        return dic[n]"
   ]
  }
 ],
 "metadata": {
  "kernelspec": {
   "display_name": "Python 3",
   "language": "python",
   "name": "python3"
  },
  "language_info": {
   "codemirror_mode": {
    "name": "ipython",
    "version": 3
   },
   "file_extension": ".py",
   "mimetype": "text/x-python",
   "name": "python",
   "nbconvert_exporter": "python",
   "pygments_lexer": "ipython3",
   "version": "3.6.2"
  }
 },
 "nbformat": 4,
 "nbformat_minor": 4
}
