{
 "cells": [
  {
   "cell_type": "code",
   "execution_count": null,
   "metadata": {},
   "outputs": [],
   "source": [
    "from typing import List\n",
    "\n",
    "class Solution:\n",
    "    def minElements(self, nums: List[int], limit: int, goal: int) -> int:\n",
    "        res = 0\n",
    "        sum_val = sum(nums)\n",
    "        while sum_val != goal:\n",
    "            difference = abs(goal - sum_val)\n",
    "            if goal < sum_val:\n",
    "                v = max(-limit, -difference)\n",
    "                sum_val += v * (difference // abs(v))\n",
    "                res += (difference // abs(v))\n",
    "            else:\n",
    "                # 增大cur_sum\n",
    "                v = min(limit, difference)\n",
    "                sum_val += v * (difference // v)\n",
    "                res += (difference // v)\n",
    "        return res"
   ]
  }
 ],
 "metadata": {
  "kernelspec": {
   "display_name": "Python 3",
   "language": "python",
   "name": "python3"
  },
  "language_info": {
   "codemirror_mode": {
    "name": "ipython",
    "version": 3
   },
   "file_extension": ".py",
   "mimetype": "text/x-python",
   "name": "python",
   "nbconvert_exporter": "python",
   "pygments_lexer": "ipython3",
   "version": "3.6.2"
  }
 },
 "nbformat": 4,
 "nbformat_minor": 4
}
