{
 "cells": [
  {
   "cell_type": "code",
   "execution_count": null,
   "metadata": {},
   "outputs": [],
   "source": []
  },
  {
   "cell_type": "code",
   "execution_count": 37,
   "metadata": {},
   "outputs": [],
   "source": [
    "# 数字的取值为 0~1024，那么最多可能性为 2047种，即 bin(1024)每一位都是1, bin(1024) = 10000000000"
   ]
  },
  {
   "cell_type": "code",
   "execution_count": 36,
   "metadata": {},
   "outputs": [
    {
     "name": "stdout",
     "output_type": "stream",
     "text": [
      "2047\n",
      "0b10000000000\n"
     ]
    }
   ],
   "source": [
    "print(1024+512+256+128+64+32+16+8+4+2+1)\n",
    "print(bin(1024))"
   ]
  },
  {
   "cell_type": "code",
   "execution_count": null,
   "metadata": {},
   "outputs": [],
   "source": []
  },
  {
   "cell_type": "code",
   "execution_count": 67,
   "metadata": {},
   "outputs": [],
   "source": [
    "from typing import List\n",
    "from collections import defaultdict\n",
    "\n",
    "class Solution:\n",
    "    def minChanges(self, nums: List[int], k: int) -> int:\n",
    "        \n",
    "        def calcCost(idx, val):\n",
    "            # 将下标为 idx、idx+k、idx+2k ...的元素修改为val，需要更改多少数字\n",
    "            sum_val = total[idx]\n",
    "            return sum_val - count[idx][val]\n",
    "        \n",
    "        # 统计每个位置上，数字出现的频次，和每个位置元素的总数\n",
    "        count = [defaultdict(int) for _ in range(k)]\n",
    "        total = [0] * k\n",
    "        for i, v in enumerate(nums):\n",
    "            count[i % k][v] += 1\n",
    "            total[i % k] += 1\n",
    "     \n",
    "        # 定义：dp[i][j] 表示 nums中的前 i 个元素的异或值为 j最小操作次数\n",
    "        n = len(nums)\n",
    "        dp = [[float('inf')] * 2048 for _ in range(k)]\n",
    "        for i in range(1024):\n",
    "            dp[0][i] = calcCost(0, i)\n",
    "       \n",
    "        for i in range(1, k):\n",
    "            \n",
    "            pre_min_cost = float('inf')\n",
    "            pre_d = None\n",
    "            for d in range(1024):\n",
    "                if dp[i-1][d] < pre_min_cost:\n",
    "                    pre_min_cost = dp[i-1][d]\n",
    "                    pre_d = d\n",
    "            \n",
    "            for d in range(1024):\n",
    "                # 前 i 个数字的异或和为 v，前一轮的 异或和 取值为 pre_d, \n",
    "                # 那么就需要把 i-th 数字更改为 pre_d ^ v = v\n",
    "                dp[i][d] = pre_min_cost + calcCost(i, d ^ pre_d)\n",
    "            \n",
    "                for v in count[i]: # v2是 i、i+k、i+2k....位置上的数字\n",
    "                    dp[i][d] = min(dp[i][d], dp[i-1][v^d] + calcCost(i, v))\n",
    "        return dp[-1][0]"
   ]
  },
  {
   "cell_type": "code",
   "execution_count": 68,
   "metadata": {},
   "outputs": [
    {
     "data": {
      "text/plain": [
       "11"
      ]
     },
     "execution_count": 68,
     "metadata": {},
     "output_type": "execute_result"
    }
   ],
   "source": [
    "solution = Solution()\n",
    "solution.minChanges([26,19,19,\n",
    "                     28,13,14,\n",
    "                     6,25,28,\n",
    "                     19,0,15,\n",
    "                     25,11], 3)"
   ]
  },
  {
   "cell_type": "code",
   "execution_count": 90,
   "metadata": {},
   "outputs": [],
   "source": [
    "from typing import List\n",
    "from collections import Counter, defaultdict\n",
    "\n",
    "class Solution:\n",
    "    # 思路：\n",
    "    #   可知所求为形如： A[i] = A[i + k], 其中 A[i] -> A[i + k - 1] 的异或和 0\n",
    "    #   即所求，将形成 n // k 个分组，一个组的大小为 k. 而这个组中所有的数字异或和为 0.\n",
    "\n",
    "    #   将 nums 数组拆分为 k 个 group, 并统计这个 group 中每个数字出现的 count。\n",
    "    #   动态规划思想： dp[state] 表示当前组，所得到 state 的异或值，的最小操作次数。\n",
    "    #                当完成所有的 group 的计算时，最后的 dp[0] 即为所求。\n",
    "\n",
    "    def minChanges(self, nums: List[int], k: int) -> int:\n",
    "        n = len(nums)\n",
    "        count = [Counter([nums[i] for i in range(j, n, k)]) for j in range(k)]\n",
    "        \n",
    "        # case 1: one number is not from list\n",
    "        # 每个位置最多出现重复的数字有多少次\n",
    "        mxs = [count[i].most_common(1)[0][1] for i in range(k)]\n",
    "        \n",
    "        ans = n - (sum(mxs) - min(mxs))\n",
    "        # key:异或值，val：达到此异或值不需要改动数字的最大数量\n",
    "        dp = {0: 0} # 异或值为 0，不需要改动的数字的数量为多少，初始化为 0 \n",
    "        \n",
    "        for i in range(k):\n",
    "            new_dp = defaultdict(int)\n",
    "            cur = count[i]\n",
    "            # 当前位置各个数字出现的频次\n",
    "            for k, v in cur.items():\n",
    "                for s in dp: # 前一轮的异或值有哪些可能性\n",
    "                    new_dp[k ^ s] = max(new_dp[k ^ s], dp[s] + v)\n",
    "            dp = new_dp\n",
    "        \n",
    "        print(dp[0])\n",
    "        return min(ans, n - dp[0])"
   ]
  },
  {
   "cell_type": "code",
   "execution_count": 91,
   "metadata": {},
   "outputs": [
    {
     "name": "stdout",
     "output_type": "stream",
     "text": [
      "Counter({1: 3}) [(1, 3)]\n",
      "0\n"
     ]
    },
    {
     "data": {
      "text/plain": [
       "3"
      ]
     },
     "execution_count": 91,
     "metadata": {},
     "output_type": "execute_result"
    }
   ],
   "source": [
    "solution = Solution()\n",
    "solution.minChanges([1,2,4,1,2,5,1,2,6], 3)"
   ]
  },
  {
   "cell_type": "code",
   "execution_count": null,
   "metadata": {},
   "outputs": [],
   "source": [
    "dp[i][v] = dp[i-1][v^d] + calcCost(i % k, v)\n",
    "# 前 i 个元素的异或和为 d，那么前 i-1个数字的异或和就是 v^d, \n",
    "# cost：将第i号位置的所有元素都更改为v的代价"
   ]
  }
 ],
 "metadata": {
  "kernelspec": {
   "display_name": "Python 3",
   "language": "python",
   "name": "python3"
  },
  "language_info": {
   "codemirror_mode": {
    "name": "ipython",
    "version": 3
   },
   "file_extension": ".py",
   "mimetype": "text/x-python",
   "name": "python",
   "nbconvert_exporter": "python",
   "pygments_lexer": "ipython3",
   "version": "3.6.2"
  }
 },
 "nbformat": 4,
 "nbformat_minor": 4
}
