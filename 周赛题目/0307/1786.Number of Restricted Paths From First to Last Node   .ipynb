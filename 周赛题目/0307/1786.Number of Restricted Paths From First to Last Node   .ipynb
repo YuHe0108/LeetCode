{
 "cells": [
  {
   "cell_type": "code",
   "execution_count": null,
   "metadata": {},
   "outputs": [],
   "source": []
  },
  {
   "cell_type": "code",
   "execution_count": null,
   "metadata": {},
   "outputs": [],
   "source": []
  },
  {
   "cell_type": "code",
   "execution_count": null,
   "metadata": {},
   "outputs": [],
   "source": []
  },
  {
   "cell_type": "code",
   "execution_count": 39,
   "metadata": {},
   "outputs": [],
   "source": [
    "from collections import defaultdict\n",
    "from functools import lru_cache\n",
    "from typing import List\n",
    "\n",
    "class Solution:\n",
    "    def countRestrictedPaths(self, n: int, edges: List[List[int]]) -> int:\n",
    "        graph = defaultdict(list)\n",
    "        weights = defaultdict(dict)\n",
    "        for a, b, w in edges:\n",
    "            graph[a].append(b)\n",
    "            graph[b].append(a)\n",
    "            weights[a][b] = w\n",
    "            weights[b][a] = w\n",
    "            \n",
    "        def dfs(node, path, seen):\n",
    "            if node == n:\n",
    "                ans.append(path)\n",
    "                return\n",
    "            \n",
    "            for neb in graph[node]:\n",
    "                if neb in seen:\n",
    "                    continue\n",
    "                seen.add(neb)\n",
    "                dfs(neb, path + weights[node][neb], seen)\n",
    "                seen.remove(neb)\n",
    "            return False\n",
    "        \n",
    "        cnt = 0\n",
    "        mod = pow(10, 9) + 7\n",
    "        dis = [0] * (n+1) # 每个点到 n点的最短距离\n",
    "        for i in range(1, n+1):\n",
    "            ans = []\n",
    "            seen = set()\n",
    "            dfs(i, 0, seen)\n",
    "            dis[i] = min(ans)\n",
    "        \n",
    "        return cnt"
   ]
  },
  {
   "cell_type": "code",
   "execution_count": 41,
   "metadata": {},
   "outputs": [
    {
     "name": "stdout",
     "output_type": "stream",
     "text": [
      "1 [5, 9] 5\n",
      "2 [12, 6, 6, 8, 6, 14] 6\n",
      "3 [6, 4] 4\n",
      "4 [7] 7\n",
      "5 [9, 9, 11, 9, 5, 3, 11, 3] 3\n",
      "6 [10, 4, 4, 2, 10, 10, 12, 10] 2\n",
      "7 [0] 0\n"
     ]
    },
    {
     "data": {
      "text/plain": [
       "0"
      ]
     },
     "execution_count": 41,
     "metadata": {},
     "output_type": "execute_result"
    }
   ],
   "source": [
    "solution = Solution()\n",
    "solution.countRestrictedPaths(n = 7, edges = [[1,3,1],[4,1,2],[7,3,4],[2,5,3],[5,6,1],[6,7,2],[7,5,3],[2,6,4]])"
   ]
  },
  {
   "cell_type": "code",
   "execution_count": 14,
   "metadata": {},
   "outputs": [
    {
     "data": {
      "text/plain": [
       "1"
      ]
     },
     "execution_count": 14,
     "metadata": {},
     "output_type": "execute_result"
    }
   ],
   "source": [
    "3 ^ 2"
   ]
  },
  {
   "cell_type": "markdown",
   "metadata": {},
   "source": [
    "### 先使用 Dijkstra 计算点到点之间的最短距离"
   ]
  },
  {
   "cell_type": "code",
   "execution_count": 76,
   "metadata": {},
   "outputs": [],
   "source": [
    "from collections import defaultdict\n",
    "from functools import lru_cache\n",
    "from typing import List\n",
    "import heapq\n",
    "\n",
    "class Solution:\n",
    "    def countRestrictedPaths(self, n: int, edges: List[List[int]]) -> int:\n",
    "        @lru_cache(None)\n",
    "        def dp(node):\n",
    "            if node == n:\n",
    "                return 1\n",
    "            \n",
    "            cnt = 0\n",
    "            for neb, w in graph[node]:\n",
    "                if dis[node] > dis[neb]:\n",
    "                    cnt += dp(neb)\n",
    "            return cnt\n",
    "        \n",
    "        graph = defaultdict(list)\n",
    "        for a, b, w in edges:\n",
    "            graph[a].append((b, w))\n",
    "            graph[b].append((a, w))\n",
    "        \n",
    "        # dijkstra\n",
    "        dis = [float('inf')] * (n+1) # 每个点距离点 n 的最短距离\n",
    "        dis[n] = 0\n",
    "        seen = set()\n",
    "        pq = [(0, n)] # weights, nodes\n",
    "        while pq:\n",
    "            d, node = heapq.heappop(pq)\n",
    "            seen.add(node)\n",
    "            for neb, w in graph[node]:\n",
    "                if neb in seen:\n",
    "                    continue\n",
    "                nd = d + w\n",
    "                if nd < dis[neb]:\n",
    "                    dis[neb] = nd\n",
    "                    heapq.heappush(pq, (nd, neb))\n",
    "        print(dis)\n",
    "        mod = 10**9 + 7\n",
    "        return dp(1) % mod"
   ]
  },
  {
   "cell_type": "code",
   "execution_count": 77,
   "metadata": {},
   "outputs": [
    {
     "name": "stdout",
     "output_type": "stream",
     "text": [
      "[inf, 4, 2, 1, 6, 0]\n"
     ]
    },
    {
     "data": {
      "text/plain": [
       "3"
      ]
     },
     "execution_count": 77,
     "metadata": {},
     "output_type": "execute_result"
    }
   ],
   "source": [
    "solution = Solution()\n",
    "solution.countRestrictedPaths(n = 5, edges = [[1,2,3],[1,3,3],[2,3,1],[1,4,2],[5,2,2],[3,5,1],[5,4,10]])"
   ]
  },
  {
   "cell_type": "raw",
   "metadata": {},
   "source": [
    "1:3\n",
    "2:5\n",
    "3:5\n",
    "4:1\n",
    "5:None"
   ]
  }
 ],
 "metadata": {
  "kernelspec": {
   "display_name": "Python 3",
   "language": "python",
   "name": "python3"
  },
  "language_info": {
   "codemirror_mode": {
    "name": "ipython",
    "version": 3
   },
   "file_extension": ".py",
   "mimetype": "text/x-python",
   "name": "python",
   "nbconvert_exporter": "python",
   "pygments_lexer": "ipython3",
   "version": "3.6.2"
  }
 },
 "nbformat": 4,
 "nbformat_minor": 4
}
