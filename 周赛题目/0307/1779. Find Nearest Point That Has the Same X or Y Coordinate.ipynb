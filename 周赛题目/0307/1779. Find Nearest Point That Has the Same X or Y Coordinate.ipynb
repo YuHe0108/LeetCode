{
 "cells": [
  {
   "cell_type": "code",
   "execution_count": null,
   "metadata": {},
   "outputs": [],
   "source": [
    "class Solution:\n",
    "    def nearestValidPoint(self, x: int, y: int, points: List[List[int]]) -> int:\n",
    "        ans = -1\n",
    "        min_dis = float('inf')\n",
    "        for i, (a, b) in enumerate(points):\n",
    "            if a == x or y == b:\n",
    "                cur_dis = abs(a-x) + abs(b-y)\n",
    "                if cur_dis < min_dis:\n",
    "                    min_dis = cur_dis\n",
    "                    ans = i\n",
    "        return ans"
   ]
  }
 ],
 "metadata": {
  "kernelspec": {
   "display_name": "Python 3",
   "language": "python",
   "name": "python3"
  },
  "language_info": {
   "codemirror_mode": {
    "name": "ipython",
    "version": 3
   },
   "file_extension": ".py",
   "mimetype": "text/x-python",
   "name": "python",
   "nbconvert_exporter": "python",
   "pygments_lexer": "ipython3",
   "version": "3.6.2"
  }
 },
 "nbformat": 4,
 "nbformat_minor": 4
}
