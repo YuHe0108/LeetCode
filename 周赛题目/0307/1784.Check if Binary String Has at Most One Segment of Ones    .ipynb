{
 "cells": [
  {
   "cell_type": "code",
   "execution_count": 97,
   "metadata": {},
   "outputs": [],
   "source": [
    "from typing import List\n",
    "\n",
    "class Solution:\n",
    "    def minElements(self, nums: List[int], limit: int, goal: int) -> int:\n",
    "        cnt = 0\n",
    "        cur_sum = sum(nums)\n",
    "        while cur_sum != goal:\n",
    "            dif = abs(goal - cur_sum)\n",
    "            if goal < cur_sum:\n",
    "                # 减小cur_sum\n",
    "                val = max(-limit, -dif)\n",
    "                k = dif // abs(val)\n",
    "                cur_sum += val * k\n",
    "            else:\n",
    "                # 增大cur_sum\n",
    "                val = min(limit, dif)\n",
    "                k = dif // val\n",
    "                cur_sum += val * k\n",
    "            cnt += k\n",
    "        return cnt"
   ]
  },
  {
   "cell_type": "code",
   "execution_count": 98,
   "metadata": {},
   "outputs": [
    {
     "ename": "NameError",
     "evalue": "name 'cnt' is not defined",
     "output_type": "error",
     "traceback": [
      "\u001b[1;31m---------------------------------------------------------------------------\u001b[0m",
      "\u001b[1;31mNameError\u001b[0m                                 Traceback (most recent call last)",
      "\u001b[1;32m<ipython-input-98-a9fba939a70d>\u001b[0m in \u001b[0;36m<module>\u001b[1;34m\u001b[0m\n\u001b[0;32m      1\u001b[0m \u001b[0msolution\u001b[0m \u001b[1;33m=\u001b[0m \u001b[0mSolution\u001b[0m\u001b[1;33m(\u001b[0m\u001b[1;33m)\u001b[0m\u001b[1;33m\u001b[0m\u001b[0m\n\u001b[1;32m----> 2\u001b[1;33m \u001b[0msolution\u001b[0m\u001b[1;33m.\u001b[0m\u001b[0mminElements\u001b[0m\u001b[1;33m(\u001b[0m\u001b[1;33m[\u001b[0m\u001b[1;36m2\u001b[0m\u001b[1;33m,\u001b[0m\u001b[1;36m2\u001b[0m\u001b[1;33m,\u001b[0m\u001b[1;36m2\u001b[0m\u001b[1;33m,\u001b[0m\u001b[1;36m5\u001b[0m\u001b[1;33m,\u001b[0m\u001b[1;36m1\u001b[0m\u001b[1;33m,\u001b[0m\u001b[1;33m-\u001b[0m\u001b[1;36m2\u001b[0m\u001b[1;33m]\u001b[0m\u001b[1;33m,\u001b[0m \u001b[1;36m5\u001b[0m\u001b[1;33m,\u001b[0m \u001b[1;36m126614243\u001b[0m\u001b[1;33m)\u001b[0m\u001b[1;33m\u001b[0m\u001b[0m\n\u001b[0m",
      "\u001b[1;32m<ipython-input-97-1c69373c56e4>\u001b[0m in \u001b[0;36mminElements\u001b[1;34m(self, nums, limit, goal)\u001b[0m\n\u001b[0;32m     16\u001b[0m                 \u001b[0msum_val\u001b[0m \u001b[1;33m+=\u001b[0m \u001b[0mv\u001b[0m \u001b[1;33m*\u001b[0m \u001b[1;33m(\u001b[0m\u001b[0mdifference\u001b[0m \u001b[1;33m//\u001b[0m \u001b[0mv\u001b[0m\u001b[1;33m)\u001b[0m\u001b[1;33m\u001b[0m\u001b[0m\n\u001b[0;32m     17\u001b[0m                 \u001b[0mres\u001b[0m \u001b[1;33m+=\u001b[0m \u001b[1;33m(\u001b[0m\u001b[0mdifference\u001b[0m \u001b[1;33m//\u001b[0m \u001b[0mv\u001b[0m\u001b[1;33m)\u001b[0m\u001b[1;33m\u001b[0m\u001b[0m\n\u001b[1;32m---> 18\u001b[1;33m         \u001b[1;32mreturn\u001b[0m \u001b[0mcnt\u001b[0m\u001b[1;33m\u001b[0m\u001b[0m\n\u001b[0m",
      "\u001b[1;31mNameError\u001b[0m: name 'cnt' is not defined"
     ]
    }
   ],
   "source": [
    "solution = Solution()\n",
    "solution.minElements([2,2,2,5,1,-2], 5, 126614243)"
   ]
  },
  {
   "cell_type": "code",
   "execution_count": null,
   "metadata": {},
   "outputs": [],
   "source": [
    "if dif > 0:\n",
    "                val = min(limit, dif)\n",
    "                k = dif // val\n",
    "                cnt += k\n",
    "                if cur_sum > 0:\n",
    "                    cur_sum += val * k\n",
    "                else:\n",
    "                    cur_sum -= val * k\n",
    "            else:\n",
    "                val = max(-limit, dif)\n",
    "                k = abs(dif) // abs(val)\n",
    "                cur_sum += val * k\n",
    "                cnt += k\n",
    "                if cur_sum > 0:\n",
    "                    cur_sum -= val * k\n",
    "                else:\n",
    "                    cur_sum += val * k"
   ]
  },
  {
   "cell_type": "code",
   "execution_count": null,
   "metadata": {},
   "outputs": [],
   "source": [
    "if dif > 0:\n",
    "                if goal < cur_sum: #增大cur_sum\n",
    "                    val = min(limit, dif)\n",
    "                    k = dif // val\n",
    "                    cur_sum += val * k\n",
    "                else: # 减小cur_sum\n",
    "                    val = max(-limit, dif)\n",
    "                    k = abs(dif) // abs(val)\n",
    "                    cur_sum -= val * k\n",
    "            else:\n",
    "                print(cur_sum, dif, goal)\n",
    "                if goal > cur_sum:# 增大cur_sum\n",
    "                    val = max(-limit, dif)\n",
    "                    k = abs(dif) // abs(val)\n",
    "                    cur_sum -= val * k\n",
    "                else: #减小cur_sum\n",
    "                    val = min(limit, dif)\n",
    "                    k = dif // val\n",
    "                    cur_sum += val * k\n",
    "            cnt += k\n",
    "        return cnt"
   ]
  }
 ],
 "metadata": {
  "kernelspec": {
   "display_name": "Python 3",
   "language": "python",
   "name": "python3"
  },
  "language_info": {
   "codemirror_mode": {
    "name": "ipython",
    "version": 3
   },
   "file_extension": ".py",
   "mimetype": "text/x-python",
   "name": "python",
   "nbconvert_exporter": "python",
   "pygments_lexer": "ipython3",
   "version": "3.6.2"
  }
 },
 "nbformat": 4,
 "nbformat_minor": 4
}
