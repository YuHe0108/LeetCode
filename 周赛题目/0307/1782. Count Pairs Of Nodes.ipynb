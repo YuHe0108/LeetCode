{
 "cells": [
  {
   "cell_type": "code",
   "execution_count": null,
   "metadata": {},
   "outputs": [],
   "source": []
  },
  {
   "cell_type": "code",
   "execution_count": null,
   "metadata": {},
   "outputs": [],
   "source": []
  },
  {
   "cell_type": "code",
   "execution_count": null,
   "metadata": {},
   "outputs": [],
   "source": []
  },
  {
   "cell_type": "code",
   "execution_count": 86,
   "metadata": {},
   "outputs": [],
   "source": [
    "from typing import List\n",
    "from collections import defaultdict, Counter\n",
    "\n",
    "class Solution:\n",
    "    def countPairs(self, n: int, edges: List[List[int]], queries: List[int]) -> List[int]:\n",
    "        # 每个点对在 edges中出现的数目\n",
    "        count = defaultdict(int)\n",
    "        for (a, b) in edges:\n",
    "            count[(a, b)] += 1\n",
    "        \n",
    "        # 每个点有多少边相连\n",
    "        graph = defaultdict(int)\n",
    "        for a, b in edges:\n",
    "            graph[a] += 1\n",
    "            graph[b] += 1\n",
    "        \n",
    "        nums = []\n",
    "        for i in range(1, n+1):\n",
    "            ways = graph[i]\n",
    "            for j in range(i+1, n+1):\n",
    "                ways = graph[i] + graph[j] - count[(i, j)] - count[(j, i)]\n",
    "                nums.append(ways)\n",
    "        \n",
    "        res = [0] * len(queries)\n",
    "        for k, q in enumerate(queries):\n",
    "            pass\n",
    "        return res"
   ]
  },
  {
   "cell_type": "code",
   "execution_count": null,
   "metadata": {},
   "outputs": [],
   "source": []
  },
  {
   "cell_type": "code",
   "execution_count": null,
   "metadata": {},
   "outputs": [],
   "source": []
  },
  {
   "cell_type": "code",
   "execution_count": 95,
   "metadata": {},
   "outputs": [],
   "source": [
    "'''\n",
    "题目名 5683. 统计点对的数目\n",
    "思路：统计每一个节点的度，将所有度数升序排序，对于每一个查询，在有序序列中找和超过门限值的点对\n",
    "有多少对，可以枚举第一个点的度数，然后二分找第二个点下标的下边界，将点对的数量累加，但是这样\n",
    "没有考虑点对之间直连边被算了两次的情况，会多累加一些不合法的点对，后面在枚举边，对于边(a, b) (其中a<b)\n",
    "可能会影响(a, b)这个点对的cnt值，所以可以计算这个点对的实际的cnt = d[a] + d[b] - (a,b)边的条数\n",
    "如果实际的cnt不符合当前的查询条件，就从当前的答案计数中扣去1，总时间复杂度 O(Q*(N*log(N) + M))，其中N M分别是点数和边数\n",
    "Q是询问数\n",
    "'''\n",
    "\n",
    "from collections import Counter\n",
    "\n",
    "class Solution:\n",
    "    def countPairs(self, n: int, edges: List[List[int]], queries: List[int]) -> List[int]:\n",
    "        d = [0] * (n+1)     # 每一个点的度\n",
    "        edge_cnt = Counter()\n",
    "        for a, b in edges:\n",
    "            if a > b:\n",
    "                a, b = b, a\n",
    "\n",
    "            d[a] += 1\n",
    "            d[b] += 1\n",
    "            edge_cnt[(a, b)] += 1\n",
    "        \n",
    "        arr = [d[node] for node in range(1, n+1)]\n",
    "        arr.sort()\n",
    "        \n",
    "        q_cnt = len(queries)\n",
    "        ans = [0] * q_cnt\n",
    "        for q_idx in range(q_cnt):\n",
    "            q_val = queries[q_idx]\n",
    "            \n",
    "            for i in range(n-1):\n",
    "                degree = arr[i]\n",
    "                # 二分找第一个大于q_val - degree的位置\n",
    "                pos = -1\n",
    "                l, r = i+1, n-1\n",
    "                while l <= r:\n",
    "                    mid = (l+r) // 2\n",
    "                    if arr[mid] > q_val - degree:\n",
    "                        pos = mid\n",
    "                        r = mid - 1\n",
    "                    else:\n",
    "                        l = mid + 1\n",
    "\n",
    "                if pos != -1:\n",
    "                    # 这里对点对计数时候是没有考虑点对之间的边被算了两次的，会多加点对，后面再扣掉\n",
    "                    ans[q_idx] += (n-1) - pos + 1\n",
    "\n",
    "            # 把多算的点对扣掉\n",
    "            for (a, b), cnt in edge_cnt.items():\n",
    "                if d[a] + d[b] > q_val and d[a] + d[b] - cnt <= q_val:\n",
    "                    ans[q_idx] -= 1\n",
    "        return ans"
   ]
  },
  {
   "cell_type": "code",
   "execution_count": null,
   "metadata": {},
   "outputs": [],
   "source": []
  },
  {
   "cell_type": "code",
   "execution_count": null,
   "metadata": {},
   "outputs": [],
   "source": []
  },
  {
   "cell_type": "code",
   "execution_count": null,
   "metadata": {},
   "outputs": [],
   "source": []
  },
  {
   "cell_type": "code",
   "execution_count": 218,
   "metadata": {},
   "outputs": [],
   "source": [
    "from collections import Counter\n",
    "from typing import List\n",
    "\n",
    "class Solution:\n",
    "    def countPairs(self, n: int, edges: List[List[int]], queries: List[int]) -> List[int]:\n",
    "        count = [0] * (n+1)\n",
    "        graph = defaultdict(int)\n",
    "        for a, b in edges:\n",
    "            count[a] += 1\n",
    "            count[b] += 1\n",
    "            if a < b:\n",
    "                graph[(a, b)] += 1\n",
    "            else:\n",
    "                graph[(b, a)] += 1\n",
    "        \n",
    "        # 每条边的入度按照从小到大进行排序\n",
    "        indeg = sorted(count[1:])\n",
    "        ans = [-1] * len(queries)\n",
    "        # 使用双指针的方法\n",
    "        for idx, q in enumerate(queries):\n",
    "            cnt = 0\n",
    "            right = n-1\n",
    "            # 遍历左边界\n",
    "            for left in range(n):\n",
    "                # 只有当条件满足的时候，才能移动右边界\n",
    "                if left >= right:\n",
    "                    cnt += n - left - 1\n",
    "                else:\n",
    "                    # 因为left == right, idx相同的时候不能算入，所以要减去1\n",
    "                    while right > left and indeg[right] + indeg[left] > q:\n",
    "                        right -= 1\n",
    "                    # 这里为什么要 -1，因为当退出的时候，indeg[right] + indeg[left]是不符合条件的，所以要减 1\n",
    "                    cnt += n - right - 1\n",
    "                    \n",
    "            # 去除不满足要求的边\n",
    "            for (a, b), k in graph.items():\n",
    "                if count[a] + count[b] > q and count[a] + count[b] - k <= q:\n",
    "                    cnt -= 1\n",
    "            ans[idx] = cnt\n",
    "        return ans"
   ]
  },
  {
   "cell_type": "code",
   "execution_count": 219,
   "metadata": {},
   "outputs": [
    {
     "data": {
      "text/plain": [
       "[10, 8, 10, 10, 8, 8, 10, 10, 10, 10, 8, 10, 10, 8, 10, 8, 8, 3]"
      ]
     },
     "execution_count": 219,
     "metadata": {},
     "output_type": "execute_result"
    }
   ],
   "source": [
    "solution = Solution()\n",
    "solution.countPairs(5, [[4,5],[1,3],[1,4]], [0,1,0,0,1,1,0,0,0,0,1,0,0,1,0,1,1,2])"
   ]
  },
  {
   "cell_type": "code",
   "execution_count": null,
   "metadata": {},
   "outputs": [],
   "source": [
    "[10,8,10,10,8,8,10,10,10,10,8,10,10,8,10,8,8,3]"
   ]
  },
  {
   "cell_type": "code",
   "execution_count": null,
   "metadata": {},
   "outputs": [],
   "source": []
  }
 ],
 "metadata": {
  "kernelspec": {
   "display_name": "Python 3",
   "language": "python",
   "name": "python3"
  },
  "language_info": {
   "codemirror_mode": {
    "name": "ipython",
    "version": 3
   },
   "file_extension": ".py",
   "mimetype": "text/x-python",
   "name": "python",
   "nbconvert_exporter": "python",
   "pygments_lexer": "ipython3",
   "version": "3.6.2"
  }
 },
 "nbformat": 4,
 "nbformat_minor": 4
}
