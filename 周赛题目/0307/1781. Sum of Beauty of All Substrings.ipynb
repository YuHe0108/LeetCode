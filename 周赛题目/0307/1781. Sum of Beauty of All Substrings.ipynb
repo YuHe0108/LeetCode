{
 "cells": [
  {
   "cell_type": "code",
   "execution_count": null,
   "metadata": {},
   "outputs": [],
   "source": []
  },
  {
   "cell_type": "code",
   "execution_count": null,
   "metadata": {},
   "outputs": [],
   "source": [
    "class Solution:\n",
    "    def beautySum(self, s: str) -> int:\n",
    "        n = len(s)\n",
    "        \n",
    "        res = 0\n",
    "        for i in range(n):\n",
    "            count = defaultdict(int)\n",
    "            for j in range(i, n):\n",
    "                count[s[j]] += 1\n",
    "                if len(count) == 1:\n",
    "                    continue\n",
    "                else:\n",
    "                    vals = sorted(count.values())\n",
    "                    res += vals[-1] - vals[0]\n",
    "        return res"
   ]
  },
  {
   "cell_type": "code",
   "execution_count": null,
   "metadata": {},
   "outputs": [],
   "source": [
    "class Solution:\n",
    "    def beautySum(self, s: str) -> int:\n",
    "        n = len(s)\n",
    "        \n",
    "        res = 0\n",
    "        for i in range(n):\n",
    "            for j in range(i, n):\n",
    "                count = Counter(s[i:j+1])\n",
    "                if len(count) == 1:\n",
    "                    continue\n",
    "                else:\n",
    "                    vals = sorted(count.values())\n",
    "                    res += vals[-1] - vals[0]\n",
    "        return res"
   ]
  }
 ],
 "metadata": {
  "kernelspec": {
   "display_name": "Python 3",
   "language": "python",
   "name": "python3"
  },
  "language_info": {
   "codemirror_mode": {
    "name": "ipython",
    "version": 3
   },
   "file_extension": ".py",
   "mimetype": "text/x-python",
   "name": "python",
   "nbconvert_exporter": "python",
   "pygments_lexer": "ipython3",
   "version": "3.6.2"
  }
 },
 "nbformat": 4,
 "nbformat_minor": 4
}
