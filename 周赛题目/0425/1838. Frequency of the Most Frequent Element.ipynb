{
 "cells": [
  {
   "cell_type": "code",
   "execution_count": null,
   "metadata": {},
   "outputs": [],
   "source": []
  },
  {
   "cell_type": "code",
   "execution_count": null,
   "metadata": {},
   "outputs": [],
   "source": []
  },
  {
   "cell_type": "code",
   "execution_count": null,
   "metadata": {},
   "outputs": [],
   "source": []
  },
  {
   "cell_type": "code",
   "execution_count": 84,
   "metadata": {},
   "outputs": [],
   "source": [
    "from typing import List\n",
    "from collections import Counter, defaultdict\n",
    "\n",
    "class Solution:\n",
    "    def maxFrequency(self, nums: List[int], k: int) -> int:\n",
    "        count = Counter(nums)\n",
    "        set_nums = sorted(set(nums))\n",
    "        \n",
    "        res = count[nums[0]] # 选择最小的数字无法进行 +1 操作\n",
    "        pre_vals = [nums[0]]\n",
    "        n = len(set_nums)\n",
    "        for i in range(1, n):\n",
    "            v = set_nums[i]\n",
    "            cnt = count[v]\n",
    "            if v - pre_vals[-1] > k: # 当前值 - 次大值 超过k的话，就没有可能了 +k 了\n",
    "                res = max(res, cnt) # 只能凭借自己的 频次\n",
    "            else:\n",
    "                cur_k = k\n",
    "                idx = i-1\n",
    "                while cur_k > 0 and idx >= 0:\n",
    "                    pre_v = set_nums[idx]\n",
    "                    pre_c = count[pre_v]\n",
    "                    diff = v - pre_v # 差距多大\n",
    "                    if diff > cur_k:\n",
    "                        break\n",
    "                    if cur_k - diff * pre_c >= 0:\n",
    "                        cur_k -= diff * pre_c\n",
    "                        cnt += pre_c\n",
    "                    else:\n",
    "                        t = cur_k // diff\n",
    "                        cur_k -= pre_v * t\n",
    "                        cnt += t\n",
    "                    idx -= 1\n",
    "                res = max(res, cnt)\n",
    "            pre_vals.append(v)\n",
    "        return res"
   ]
  },
  {
   "cell_type": "code",
   "execution_count": null,
   "metadata": {},
   "outputs": [],
   "source": []
  },
  {
   "cell_type": "code",
   "execution_count": null,
   "metadata": {},
   "outputs": [],
   "source": []
  },
  {
   "cell_type": "code",
   "execution_count": 159,
   "metadata": {},
   "outputs": [],
   "source": [
    "from typing import List\n",
    "from collections import Counter, defaultdict\n",
    "\n",
    "class Solution:\n",
    "    def maxFrequency(self, nums: List[int], k: int) -> int:\n",
    "        count = Counter(nums)\n",
    "        nums.sort()\n",
    "        presum = [0]\n",
    "        for v in nums:\n",
    "            presum.append(v + presum[-1])\n",
    "        \n",
    "        print(nums, presum)\n",
    "        n = len(nums)\n",
    "        res = count[nums[0]] # 选择最小的数字无法进行 +1 操作\n",
    "        l_idx = 0 # 滑动窗口的左端点\n",
    "        for i in range(1, n):\n",
    "            v = nums[i]\n",
    "            dis = i - l_idx # 滑动窗口到当前元素之间，有多少个元素\n",
    "            while (dis * v) - (presum[i] - presum[l_idx]) > k: # 如果这些元素全部更改为 v，需要加多少次\n",
    "                # 如果 +1 的次数小于 k 可以继续\n",
    "                l_idx += 1\n",
    "                dis = i - l_idx\n",
    "            print(i, l_idx)\n",
    "            res = max(res, i - l_idx + 1)\n",
    "        return res"
   ]
  },
  {
   "cell_type": "code",
   "execution_count": 160,
   "metadata": {},
   "outputs": [
    {
     "name": "stdout",
     "output_type": "stream",
     "text": [
      "[1, 2, 4] [0, 1, 3, 7]\n",
      "1 0\n",
      "2 0\n"
     ]
    },
    {
     "data": {
      "text/plain": [
       "3"
      ]
     },
     "execution_count": 160,
     "metadata": {},
     "output_type": "execute_result"
    }
   ],
   "source": [
    "solution = Solution()\n",
    "solution.maxFrequency(nums = [1,2,4], k = 5)"
   ]
  },
  {
   "cell_type": "code",
   "execution_count": null,
   "metadata": {},
   "outputs": [],
   "source": []
  },
  {
   "cell_type": "code",
   "execution_count": null,
   "metadata": {},
   "outputs": [],
   "source": []
  },
  {
   "cell_type": "code",
   "execution_count": null,
   "metadata": {},
   "outputs": [],
   "source": []
  }
 ],
 "metadata": {
  "kernelspec": {
   "display_name": "Python 3",
   "language": "python",
   "name": "python3"
  },
  "language_info": {
   "codemirror_mode": {
    "name": "ipython",
    "version": 3
   },
   "file_extension": ".py",
   "mimetype": "text/x-python",
   "name": "python",
   "nbconvert_exporter": "python",
   "pygments_lexer": "ipython3",
   "version": "3.6.2"
  }
 },
 "nbformat": 4,
 "nbformat_minor": 4
}
