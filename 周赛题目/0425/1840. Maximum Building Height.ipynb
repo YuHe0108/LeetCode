{
 "cells": [
  {
   "cell_type": "code",
   "execution_count": null,
   "metadata": {},
   "outputs": [],
   "source": []
  },
  {
   "cell_type": "code",
   "execution_count": null,
   "metadata": {},
   "outputs": [],
   "source": []
  },
  {
   "cell_type": "code",
   "execution_count": null,
   "metadata": {},
   "outputs": [],
   "source": []
  },
  {
   "cell_type": "code",
   "execution_count": null,
   "metadata": {},
   "outputs": [],
   "source": []
  },
  {
   "cell_type": "code",
   "execution_count": null,
   "metadata": {},
   "outputs": [],
   "source": []
  },
  {
   "cell_type": "code",
   "execution_count": 59,
   "metadata": {},
   "outputs": [],
   "source": [
    "from typing import List\n",
    "from collections import defaultdict\n",
    "\n",
    "class Solution:\n",
    "    def maxBuilding(self, n: int, restrictions: List[List[int]]) -> int:\n",
    "        if not restrictions:\n",
    "            return n-1\n",
    "        \n",
    "        restrict = {}\n",
    "        for ids, h in restrictions:\n",
    "            restrict[ids] = h\n",
    "            \n",
    "        ids = sorted(restrict)\n",
    "        count = {0: 0}\n",
    "        n = len(ids)\n",
    "        res = 0\n",
    "        for i in range(n):\n",
    "            id_num = ids[i]\n",
    "            if i == 0:\n",
    "                res = max(res, ids[i] - 1)\n",
    "                count[id_num] = min(ids[i]-1, restrict[id_num])\n",
    "            else:\n",
    "                dis = ids[i] - ids[i-1]\n",
    "                count[id_num] = min(dis + restrict[ids[i-1]], restrict[id_num])\n",
    "                res = max(res, restrict[ids[i-1]] + dis-1)\n",
    "            res = max(res, count[id_num])\n",
    "        return count"
   ]
  },
  {
   "cell_type": "code",
   "execution_count": null,
   "metadata": {},
   "outputs": [],
   "source": []
  },
  {
   "cell_type": "code",
   "execution_count": null,
   "metadata": {},
   "outputs": [],
   "source": []
  },
  {
   "cell_type": "code",
   "execution_count": 7,
   "metadata": {},
   "outputs": [],
   "source": [
    "from typing import List\n",
    "from collections import defaultdict\n",
    "\n",
    "class Solution:\n",
    "    def maxBuilding(self, n: int, restr: List[List[int]]) -> int:\n",
    "        if not restr:\n",
    "            return n-1\n",
    "        \n",
    "        restr.append([1, 0])\n",
    "        restr.sort()\n",
    "        m = len(restr)\n",
    "        for i in range(1, m):\n",
    "            dis = restr[i][0] - restr[i-1][0]\n",
    "            restr[i][1] = min(restr[i][1], restr[i-1][1] + dis)\n",
    "        \n",
    "        for i in range(m-2, -1, -1):\n",
    "            dis = restr[i+1][0] - restr[i][0]\n",
    "            restr[i][1] = min(restr[i][1], restr[i+1][1] + dis)\n",
    "        \n",
    "        res = 0\n",
    "        for i in range(1, m):\n",
    "            id2, h2 = restr[i] # 当前 id 的楼房可以建多高\n",
    "            id1, h1 = restr[i-1] # 前一个 id 的楼房可以建多高\n",
    "            # h1 + x = h2 + y\n",
    "            # id1 + x = id2 - y\n",
    "            # x = (h2 - h1 + id2 - id1) // 2\n",
    "            # peak_h = h1 + x\n",
    "            peak = (h2 - h1 + id2 - id1) // 2\n",
    "            h = h1 + peak\n",
    "            res = max(res, h)\n",
    "            # height_diff = abs(h1 - h2) # 两个楼房之间相差的高度\n",
    "            # remain = d - height_diff\n",
    "            # res = max(res, max(h1, h2) + remain//2) # 两个楼之间可以到达的最高距离\n",
    "        return max(res, restr[-1][1] + n - restr[-1][0])"
   ]
  },
  {
   "cell_type": "code",
   "execution_count": 8,
   "metadata": {},
   "outputs": [
    {
     "data": {
      "text/plain": [
       "5"
      ]
     },
     "execution_count": 8,
     "metadata": {},
     "output_type": "execute_result"
    }
   ],
   "source": [
    "solution = Solution()\n",
    "solution.maxBuilding(n = 10, restr = [[5,3],[2,5],[7,4],[10,3]])"
   ]
  },
  {
   "cell_type": "code",
   "execution_count": null,
   "metadata": {},
   "outputs": [],
   "source": []
  }
 ],
 "metadata": {
  "kernelspec": {
   "display_name": "Python 3",
   "language": "python",
   "name": "python3"
  },
  "language_info": {
   "codemirror_mode": {
    "name": "ipython",
    "version": 3
   },
   "file_extension": ".py",
   "mimetype": "text/x-python",
   "name": "python",
   "nbconvert_exporter": "python",
   "pygments_lexer": "ipython3",
   "version": "3.6.2"
  }
 },
 "nbformat": 4,
 "nbformat_minor": 4
}
