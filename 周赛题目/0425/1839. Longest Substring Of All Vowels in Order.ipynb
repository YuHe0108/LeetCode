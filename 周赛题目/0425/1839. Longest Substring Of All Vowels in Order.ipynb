{
 "cells": [
  {
   "cell_type": "code",
   "execution_count": null,
   "metadata": {},
   "outputs": [],
   "source": []
  },
  {
   "cell_type": "code",
   "execution_count": null,
   "metadata": {},
   "outputs": [],
   "source": []
  },
  {
   "cell_type": "code",
   "execution_count": null,
   "metadata": {},
   "outputs": [],
   "source": []
  },
  {
   "cell_type": "code",
   "execution_count": null,
   "metadata": {},
   "outputs": [],
   "source": []
  },
  {
   "cell_type": "code",
   "execution_count": 41,
   "metadata": {},
   "outputs": [],
   "source": [
    "\n",
    "class Solution:\n",
    "    def longestBeautifulSubstring(self, word: str) -> int:\n",
    "        chars = {'#': -1, 'a': 0, 'e': 1, 'i': 2, 'o': 3, 'u': 4}\n",
    "        if len(set(word)) != 5: # 5个元音字母没有都包含\n",
    "            return 0\n",
    "        \n",
    "        L = R = 0\n",
    "        word = word + '#'\n",
    "        n = len(word)\n",
    "        res = 0\n",
    "        sub_str = set()\n",
    "        while R < n:\n",
    "            if R == L or chars[word[R]] >= chars[word[R-1]]:\n",
    "                sub_str.add(word[R])\n",
    "                R += 1\n",
    "            else:\n",
    "                if len(sub_str) == 5:\n",
    "                    res = max(res, R-L)\n",
    "                sub_str.clear()\n",
    "                L = R\n",
    "        return res"
   ]
  },
  {
   "cell_type": "code",
   "execution_count": 42,
   "metadata": {},
   "outputs": [
    {
     "data": {
      "text/plain": [
       "5"
      ]
     },
     "execution_count": 42,
     "metadata": {},
     "output_type": "execute_result"
    }
   ],
   "source": [
    "solution = Solution()\n",
    "solution.longestBeautifulSubstring(word = \"aeeeiiiioooauuuaeiou\")"
   ]
  },
  {
   "cell_type": "code",
   "execution_count": null,
   "metadata": {},
   "outputs": [],
   "source": []
  }
 ],
 "metadata": {
  "kernelspec": {
   "display_name": "Python 3",
   "language": "python",
   "name": "python3"
  },
  "language_info": {
   "codemirror_mode": {
    "name": "ipython",
    "version": 3
   },
   "file_extension": ".py",
   "mimetype": "text/x-python",
   "name": "python",
   "nbconvert_exporter": "python",
   "pygments_lexer": "ipython3",
   "version": "3.6.2"
  }
 },
 "nbformat": 4,
 "nbformat_minor": 4
}
