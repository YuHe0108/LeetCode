{
 "cells": [
  {
   "cell_type": "code",
   "execution_count": null,
   "metadata": {},
   "outputs": [],
   "source": [
    "class Solution:\n",
    "    def minSideJumps(self, obstacles: List[int]) -> int:\n",
    "        \n",
    "        n = len(obstacles) # 一共的点数\n",
    "        dq = deque()\n",
    "        dq.append((2, 0, 0)) # 在第2条跑道，x坐标为0，侧跳了0次\n",
    "        ans = float('inf')\n",
    "        record = {}\n",
    "        while dq:\n",
    "            for _ in range(len(dq)):\n",
    "                w, x, c = dq.popleft()\n",
    "                record[(w, x)] = c\n",
    "                if x == n - 1: # 跳到了终点\n",
    "                    return c\n",
    "\n",
    "                # 可以选择，有三条路，\n",
    "                # 前行的路上没有阻碍，直接走\n",
    "                if obstacles[x+1] != w:\n",
    "                    dq.append((w, x+1, c))\n",
    "                \n",
    "                # 平行跳\n",
    "                if w == 1:\n",
    "                    if obstacles[x] != 2:\n",
    "                        if (2, x) not in record or record[(2, x)] >= c+1:\n",
    "                            dq.append((2, x, c+1))\n",
    "                    if obstacles[x] != 3:\n",
    "                        if (3, x) not in record or record[(3, x)] >= c+1:\n",
    "                            dq.append((3, x, c+1))\n",
    "                elif w == 2:\n",
    "                    if obstacles[x] != 1:\n",
    "                        if (1, x) not in record or record[(1, x)] >= c+1:\n",
    "                            dq.append((1, x, c+1))\n",
    "                    if obstacles[x] != 3:\n",
    "                        if (3, x) not in record or record[(3, x)] >= c+1:\n",
    "                            dq.append((3, x, c+1))\n",
    "                else:\n",
    "                    if obstacles[x] != 1:\n",
    "                        if (1, x) not in record or record[(1, x)] >= c+1:\n",
    "                            dq.append((1, x, c+1))\n",
    "                    if obstacles[x] != 2:\n",
    "                        if (2, x) not in record or record[(2, x)] >= c+1:\n",
    "                            dq.append((2, x, c+1))\n",
    "        return ans"
   ]
  },
  {
   "cell_type": "code",
   "execution_count": null,
   "metadata": {},
   "outputs": [],
   "source": []
  },
  {
   "cell_type": "code",
   "execution_count": null,
   "metadata": {},
   "outputs": [],
   "source": []
  },
  {
   "cell_type": "code",
   "execution_count": null,
   "metadata": {},
   "outputs": [],
   "source": []
  },
  {
   "cell_type": "code",
   "execution_count": 49,
   "metadata": {},
   "outputs": [],
   "source": [
    "from typing import List\n",
    "from collections import deque, defaultdict\n",
    "\n",
    "class Solution:\n",
    "    def minSideJumps(self, obstacles: List[int]) -> int:\n",
    "        \n",
    "        steps = deque([(2, 0)])\n",
    "        n = len(obstacles)\n",
    "        seen = {(2, 0)}\n",
    "        ans = 0\n",
    "        while steps:\n",
    "            for _ in range(len(steps)):\n",
    "                w, x = steps.popleft()\n",
    "                while x < n and obstacles[x] != w:\n",
    "                    x += 1\n",
    "                # 跳出来的时候，有两种情况，1、前方是障碍物，2、走到头了\n",
    "                x -= 1\n",
    "                if x == n-1: # 检查是不是走到末尾了\n",
    "                    return ans\n",
    "                \n",
    "                for i in [1, 2, 3]:\n",
    "                    if obstacles[x] != i and obstacles[x+1] != i and (i, x+1) not in seen:\n",
    "                        seen.add((i, x+1))\n",
    "                        steps.append((i, x+1))\n",
    "            ans += 1\n",
    "        return"
   ]
  },
  {
   "cell_type": "code",
   "execution_count": null,
   "metadata": {},
   "outputs": [],
   "source": []
  },
  {
   "cell_type": "code",
   "execution_count": null,
   "metadata": {},
   "outputs": [],
   "source": [
    "class Solution:\n",
    "    def minSideJumps(self, obstacles: List[int]) -> int:\n",
    "        \n",
    "        @lru_cache(None)\n",
    "        def dp(lane, step):\n",
    "            \n",
    "            # 如果不存在障碍就一直往前走\n",
    "            while step < n and obstacles[step] != lane:\n",
    "                step += 1\n",
    "            \n",
    "            # 停下来的时候，有可能是碰到的障碍，或是走到的终点\n",
    "            step -= 1\n",
    "            if step == n-1:\n",
    "                return 0\n",
    "            \n",
    "            ans = float('inf')\n",
    "            for next_lane in [1, 2, 3]:\n",
    "                # 另外两条路上 在 step 和 step+1 处都没有障碍\n",
    "                if obstacles[step] != next_lane and obstacles[step+1] != next_lane:\n",
    "                    ans = min(ans, 1 + dp(next_lane, step + 1))\n",
    "            return ans\n",
    "        \n",
    "        n = len(obstacles)\n",
    "        return dp(2, 0)"
   ]
  },
  {
   "cell_type": "code",
   "execution_count": 50,
   "metadata": {},
   "outputs": [
    {
     "data": {
      "text/plain": [
       "2"
      ]
     },
     "execution_count": 50,
     "metadata": {},
     "output_type": "execute_result"
    }
   ],
   "source": [
    "solution = Solution()\n",
    "solution.minSideJumps([0,1,2,3,0])"
   ]
  },
  {
   "cell_type": "code",
   "execution_count": null,
   "metadata": {},
   "outputs": [],
   "source": []
  }
 ],
 "metadata": {
  "kernelspec": {
   "display_name": "Python 3",
   "language": "python",
   "name": "python3"
  },
  "language_info": {
   "codemirror_mode": {
    "name": "ipython",
    "version": 3
   },
   "file_extension": ".py",
   "mimetype": "text/x-python",
   "name": "python",
   "nbconvert_exporter": "python",
   "pygments_lexer": "ipython3",
   "version": "3.6.2"
  }
 },
 "nbformat": 4,
 "nbformat_minor": 4
}
