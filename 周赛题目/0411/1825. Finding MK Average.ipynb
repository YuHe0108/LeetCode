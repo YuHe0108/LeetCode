{
 "cells": [
  {
   "cell_type": "code",
   "execution_count": null,
   "metadata": {},
   "outputs": [],
   "source": []
  },
  {
   "cell_type": "code",
   "execution_count": null,
   "metadata": {},
   "outputs": [],
   "source": []
  },
  {
   "cell_type": "code",
   "execution_count": null,
   "metadata": {},
   "outputs": [],
   "source": []
  },
  {
   "cell_type": "code",
   "execution_count": 1,
   "metadata": {},
   "outputs": [],
   "source": [
    "vals = [1, 2, 3]"
   ]
  },
  {
   "cell_type": "code",
   "execution_count": 2,
   "metadata": {},
   "outputs": [
    {
     "data": {
      "text/plain": [
       "[2, 3]"
      ]
     },
     "execution_count": 2,
     "metadata": {},
     "output_type": "execute_result"
    }
   ],
   "source": [
    "vals[-2:]"
   ]
  },
  {
   "cell_type": "code",
   "execution_count": null,
   "metadata": {},
   "outputs": [],
   "source": [
    "class MKAverage:\n",
    "\n",
    "    def __init__(self, m: int, k: int):\n",
    "        self.m = m\n",
    "        self.k = k\n",
    "        self.nums = []\n",
    "        \n",
    "\n",
    "    def addElement(self, num: int) -> None:\n",
    "        self.nums.append(num)\n",
    "\n",
    "    def calculateMKAverage(self) -> int:\n",
    "        if len(self.nums) < self.m:\n",
    "            return -1\n",
    "        \n",
    "        vals = self.nums[-self.m:]\n",
    "        vals.sort()\n",
    "        sub_vals = vals[self.k:-self.k]\n",
    "        return sum(sub_vals) // len(sub_vals)"
   ]
  },
  {
   "cell_type": "code",
   "execution_count": null,
   "metadata": {},
   "outputs": [],
   "source": []
  },
  {
   "cell_type": "code",
   "execution_count": null,
   "metadata": {},
   "outputs": [],
   "source": []
  },
  {
   "cell_type": "code",
   "execution_count": null,
   "metadata": {},
   "outputs": [],
   "source": []
  },
  {
   "cell_type": "raw",
   "metadata": {},
   "source": [
    "1、如果数据流中的整数少于 m 个，MK 平均值 为 -1 ，否则将数据流中最后 m 个元素拷贝到一个独立的容器中。\n",
    "2、从这个容器中删除最小的 k 个数和最大的 k 个数。\n",
    "3、计算剩余元素的平均值，并 向下 取整到最近的整数 。"
   ]
  },
  {
   "cell_type": "code",
   "execution_count": 1,
   "metadata": {},
   "outputs": [],
   "source": [
    "from sortedcontainers import SortedList\n",
    "from collections import defaultdict, deque\n",
    "import bisect\n",
    "\n",
    "class MKAverage:\n",
    "    def __init__(self, m: int, k: int):\n",
    "        self.m = m\n",
    "        self.k = k\n",
    "        self.nums = deque()\n",
    "        self.s_nums = SortedList() # 经过排序的数字\n",
    "        self.total = 0 # 最后 m 个元素的和\n",
    "        self.topKMin = 0 # m 个元素中 最小 k 个值的和\n",
    "        self.topKMax = 0 # m 个元素中 最大 k 个值的和\n",
    "        \n",
    "    def addElement(self, num: int) -> None:\n",
    "        self.total += num\n",
    "        self.nums.append(num)\n",
    "        idx = self.s_nums.bisect_left(num)\n",
    "        \n",
    "        if idx < self.k:\n",
    "            self.topKMin += num\n",
    "            # 因为如果 self.s_nums 的长度是小于 k 的，那么 top_k_min 和 top_k_max是相同的\n",
    "            # 如果 最后 m 个数超过了 self.k, 那么需要将 之前被算作是 min_val 中减去\n",
    "            if len(self.s_nums) >= self.k:\n",
    "                self.topKMin -= self.s_nums[self.k-1]\n",
    "        # 同理\n",
    "        if idx >= len(self.s_nums) + 1 - self.k:\n",
    "            self.topKMax += num\n",
    "            if len(self.s_nums) >= self.k:\n",
    "                self.topKMax -= self.s_nums[-self.k]\n",
    "                \n",
    "        # 加入自动排序的  s_nums\n",
    "        self.s_nums.add(num)\n",
    "        \n",
    "        # 加入的数字中超过了 self.m\n",
    "        if len(self.s_nums) > self.m:\n",
    "            # 弹出最先添加的元素\n",
    "            num_to_remove = self.nums.popleft()\n",
    "            self.total -= num_to_remove\n",
    "            idx = self.s_nums.index(num_to_remove) # 查看所在位置\n",
    "            \n",
    "            if idx < self.k:\n",
    "                # 属于 top-k-min, 减去之后，再加上一个数字\n",
    "                self.topKMin -= num_to_remove\n",
    "                self.topKMin += self.s_nums[self.k]\n",
    "            elif idx >= len(self.s_nums) - self.k:\n",
    "                self.topKMax -= num_to_remove\n",
    "                self.topKMax += self.s_nums[-self.k-1]\n",
    "            self.s_nums.remove(num_to_remove)\n",
    "            \n",
    "    def calculateMKAverage(self) -> int:\n",
    "        if len(self.nums) < self.m:\n",
    "            return -1\n",
    "        return (self.total - self.topKMax - self.topKMin) // (self.m - self.k * 2)"
   ]
  },
  {
   "cell_type": "code",
   "execution_count": null,
   "metadata": {},
   "outputs": [],
   "source": []
  }
 ],
 "metadata": {
  "kernelspec": {
   "display_name": "Python 3",
   "language": "python",
   "name": "python3"
  },
  "language_info": {
   "codemirror_mode": {
    "name": "ipython",
    "version": 3
   },
   "file_extension": ".py",
   "mimetype": "text/x-python",
   "name": "python",
   "nbconvert_exporter": "python",
   "pygments_lexer": "ipython3",
   "version": "3.6.2"
  }
 },
 "nbformat": 4,
 "nbformat_minor": 4
}
