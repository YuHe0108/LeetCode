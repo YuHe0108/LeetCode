{
 "cells": [
  {
   "cell_type": "code",
   "execution_count": null,
   "metadata": {},
   "outputs": [],
   "source": [
    "class Solution:\n",
    "    def findTheWinner(self, n: int, k: int) -> int:\n",
    "        count = [x for x in range(1, n+1)]\n",
    "        \n",
    "        idx = 0\n",
    "        while len(count) > 1:\n",
    "            end = (idx + k - 1) % len(count) # 停止的位置\n",
    "            if end == len(count):\n",
    "                idx = 0\n",
    "            else:\n",
    "                idx = end\n",
    "            count.pop(end) # 删除停止的位置\n",
    "        return count[0]\n",
    "    "
   ]
  }
 ],
 "metadata": {
  "kernelspec": {
   "display_name": "Python 3",
   "language": "python",
   "name": "python3"
  },
  "language_info": {
   "codemirror_mode": {
    "name": "ipython",
    "version": 3
   },
   "file_extension": ".py",
   "mimetype": "text/x-python",
   "name": "python",
   "nbconvert_exporter": "python",
   "pygments_lexer": "ipython3",
   "version": "3.6.2"
  }
 },
 "nbformat": 4,
 "nbformat_minor": 4
}
