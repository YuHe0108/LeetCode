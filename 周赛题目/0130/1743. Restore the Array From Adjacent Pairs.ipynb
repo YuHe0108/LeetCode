{
 "cells": [
  {
   "cell_type": "code",
   "execution_count": null,
   "metadata": {},
   "outputs": [],
   "source": []
  },
  {
   "cell_type": "code",
   "execution_count": null,
   "metadata": {},
   "outputs": [],
   "source": []
  },
  {
   "cell_type": "code",
   "execution_count": null,
   "metadata": {},
   "outputs": [],
   "source": []
  },
  {
   "cell_type": "code",
   "execution_count": 12,
   "metadata": {},
   "outputs": [],
   "source": [
    "from typing import List\n",
    "from collections import defaultdict\n",
    "\n",
    "class Solution:\n",
    "    def restoreArray(self, adjacentPairs: List[List[int]]) -> List[int]:\n",
    "        count = defaultdict(list)\n",
    "        for a, b in adjacentPairs:\n",
    "            count[a].append(b)\n",
    "            count[b].append(a)\n",
    "        \n",
    "        n = len(adjacentPairs) + 1 # 有n个数字\n",
    "        done = set() # 找到开头的元素\n",
    "        res = []\n",
    "        cur = None\n",
    "        for k, v in count.items():\n",
    "            if len(v) == 1:\n",
    "                done.add(k)\n",
    "                done.add(v[0])\n",
    "                res.append(k)\n",
    "                res.append(v[0])\n",
    "                cur = v[0]\n",
    "                break\n",
    "                \n",
    "        while len(res) < n:\n",
    "            for v in count[cur]:\n",
    "                if v in done:\n",
    "                    continue\n",
    "                res.append(v)\n",
    "                done.add(v)\n",
    "                cur = v\n",
    "        return res"
   ]
  },
  {
   "cell_type": "code",
   "execution_count": 15,
   "metadata": {},
   "outputs": [
    {
     "name": "stdout",
     "output_type": "stream",
     "text": [
      "defaultdict(<class 'list'>, {100000: [-100000], -100000: [100000]})\n",
      "{100000, -100000} [100000, -100000] -100000\n"
     ]
    },
    {
     "data": {
      "text/plain": [
       "[100000, -100000]"
      ]
     },
     "execution_count": 15,
     "metadata": {},
     "output_type": "execute_result"
    }
   ],
   "source": [
    "solution = Solution()\n",
    "solution.restoreArray(adjacentPairs = [[100000,-100000]])"
   ]
  },
  {
   "cell_type": "code",
   "execution_count": null,
   "metadata": {},
   "outputs": [],
   "source": []
  }
 ],
 "metadata": {
  "kernelspec": {
   "display_name": "Python 3",
   "language": "python",
   "name": "python3"
  },
  "language_info": {
   "codemirror_mode": {
    "name": "ipython",
    "version": 3
   },
   "file_extension": ".py",
   "mimetype": "text/x-python",
   "name": "python",
   "nbconvert_exporter": "python",
   "pygments_lexer": "ipython3",
   "version": "3.6.2"
  }
 },
 "nbformat": 4,
 "nbformat_minor": 4
}
