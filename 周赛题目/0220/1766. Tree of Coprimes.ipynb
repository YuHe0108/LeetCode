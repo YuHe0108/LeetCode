{
 "cells": [
  {
   "cell_type": "code",
   "execution_count": 1,
   "metadata": {},
   "outputs": [],
   "source": [
    "import math"
   ]
  },
  {
   "cell_type": "code",
   "execution_count": 2,
   "metadata": {},
   "outputs": [
    {
     "data": {
      "text/plain": [
       "1"
      ]
     },
     "execution_count": 2,
     "metadata": {},
     "output_type": "execute_result"
    }
   ],
   "source": [
    "math.gcd(2, 3)"
   ]
  },
  {
   "cell_type": "code",
   "execution_count": 9,
   "metadata": {},
   "outputs": [],
   "source": [
    "from collections import *\n",
    "from typing import List\n",
    "import math\n",
    "\n",
    "class Solution:\n",
    "    def getCoprimes(self, nums: List[int], edges: List[List[int]]) -> List[int]:\n",
    "        def dfs(cur, path, depth):\n",
    "            # cur: 当前节点的编号\n",
    "            parents[cur] = path.copy()\n",
    "            seen.add(cur)\n",
    "            temp = path.copy()\n",
    "            # 因为是从根节点到叶子节点的遍历，越到叶子节点，depth越大，所以如果出现相同的值\n",
    "            # 将更深处的节点替换父节点，起到了剪枝的作用\n",
    "            temp[nums[cur]] = (depth, cur) # 当前节点的值，如果\n",
    "            for child in graph[cur]:\n",
    "                if child not in seen: # 遍历孩子节点\n",
    "                    dfs(child, temp, depth + 1)\n",
    "        \n",
    "        n = len(nums)        \n",
    "        graph = defaultdict(list)\n",
    "        for a, b in edges:\n",
    "            graph[a].append(b)\n",
    "            graph[b].append(a)\n",
    "        \n",
    "        parents = [{}] * n # 每个节点的父节点有哪些，包括父节点的所在深度、nums的值以及节点值\n",
    "        seen = set()\n",
    "        dfs(0, {}, 0)\n",
    "        \n",
    "        ans = [-1] * n\n",
    "        for i in range(n):\n",
    "            nums1 = nums[i]\n",
    "            \n",
    "            # 根据深度排序\n",
    "            parent_list = [(depth, key, node_id) for key, (depth, node_id) in parents[i].items()]\n",
    "            parent_list.sort(reverse=True)\n",
    "            \n",
    "            value = -1\n",
    "            for _, nums2, node_id in parent_list:\n",
    "                if math.gcd(nums1, nums2) == 1:\n",
    "                    value = node_id\n",
    "                    break\n",
    "            ans[i] = value\n",
    "        return ans"
   ]
  },
  {
   "cell_type": "code",
   "execution_count": 10,
   "metadata": {},
   "outputs": [
    {
     "data": {
      "text/plain": [
       "[-1, 0, -1, 0, 0, 0, -1]"
      ]
     },
     "execution_count": 10,
     "metadata": {},
     "output_type": "execute_result"
    }
   ],
   "source": [
    "solution = Solution()\n",
    "solution.getCoprimes(nums = [5,6,10,2,3,6,15], edges = [[0,1],[0,2],[1,3],[1,4],[2,5],[2,6]])"
   ]
  },
  {
   "cell_type": "code",
   "execution_count": null,
   "metadata": {},
   "outputs": [],
   "source": []
  },
  {
   "cell_type": "code",
   "execution_count": null,
   "metadata": {},
   "outputs": [],
   "source": []
  },
  {
   "cell_type": "code",
   "execution_count": null,
   "metadata": {},
   "outputs": [],
   "source": []
  },
  {
   "cell_type": "code",
   "execution_count": null,
   "metadata": {},
   "outputs": [],
   "source": [
    "[{}, {5: [0, 0]}, {5: [0, 0]}, {5: [0, 0], 6: [1, 1], 10: [1, 2]}, {5: [0, 0], 6: [1, 1], 10: [1, 2]}, {5: [0, 0], 6: [1, 1], 10: [1, 2]}, {5: [0, 0], 6: [1, 1], 10: [1, 2]}]\n",
    "[{}, {5: (0, 0)}, {5: (0, 0)}, {5: (0, 0), 6: (1, 1)}, {5: (0, 0), 6: (1, 1)}, {5: (0, 0), 10: (1, 2)}, {5: (0, 0), 10: (1, 2)}]\n"
   ]
  }
 ],
 "metadata": {
  "kernelspec": {
   "display_name": "Python 3",
   "language": "python",
   "name": "python3"
  },
  "language_info": {
   "codemirror_mode": {
    "name": "ipython",
    "version": 3
   },
   "file_extension": ".py",
   "mimetype": "text/x-python",
   "name": "python",
   "nbconvert_exporter": "python",
   "pygments_lexer": "ipython3",
   "version": "3.6.2"
  }
 },
 "nbformat": 4,
 "nbformat_minor": 4
}
