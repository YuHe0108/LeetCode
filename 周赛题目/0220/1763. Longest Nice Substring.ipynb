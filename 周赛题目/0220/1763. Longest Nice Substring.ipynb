{
 "cells": [
  {
   "cell_type": "code",
   "execution_count": 2,
   "metadata": {},
   "outputs": [],
   "source": [
    "a = ord('a') \n",
    "b = ord('z')"
   ]
  },
  {
   "cell_type": "code",
   "execution_count": 3,
   "metadata": {},
   "outputs": [
    {
     "data": {
      "text/plain": [
       "97"
      ]
     },
     "execution_count": 3,
     "metadata": {},
     "output_type": "execute_result"
    }
   ],
   "source": [
    "a"
   ]
  },
  {
   "cell_type": "code",
   "execution_count": 4,
   "metadata": {},
   "outputs": [
    {
     "data": {
      "text/plain": [
       "122"
      ]
     },
     "execution_count": 4,
     "metadata": {},
     "output_type": "execute_result"
    }
   ],
   "source": [
    "b"
   ]
  },
  {
   "cell_type": "code",
   "execution_count": 5,
   "metadata": {},
   "outputs": [
    {
     "data": {
      "text/plain": [
       "65"
      ]
     },
     "execution_count": 5,
     "metadata": {},
     "output_type": "execute_result"
    }
   ],
   "source": [
    "ord('A')"
   ]
  },
  {
   "cell_type": "code",
   "execution_count": 6,
   "metadata": {},
   "outputs": [
    {
     "data": {
      "text/plain": [
       "90"
      ]
     },
     "execution_count": 6,
     "metadata": {},
     "output_type": "execute_result"
    }
   ],
   "source": [
    "ord(\"Z\")"
   ]
  },
  {
   "cell_type": "code",
   "execution_count": 9,
   "metadata": {},
   "outputs": [
    {
     "data": {
      "text/plain": [
       "'a'"
      ]
     },
     "execution_count": 9,
     "metadata": {},
     "output_type": "execute_result"
    }
   ],
   "source": [
    "chr(65+32)"
   ]
  },
  {
   "cell_type": "code",
   "execution_count": null,
   "metadata": {},
   "outputs": [],
   "source": [
    "class Solution:\n",
    "    def longestNiceSubstring(self, s: str) -> str:\n",
    "        def helper(s):\n",
    "            nonlocal outs\n",
    "            \n",
    "            count = defaultdict(int)\n",
    "            for i, a in enumerate(s):\n",
    "                count[a] += 1\n",
    "\n",
    "            res = ''\n",
    "            cur = defaultdict(int)\n",
    "            for i in range(len(s)):\n",
    "                a = s[i]\n",
    "                cur[a] += 1\n",
    "                if 65 <= ord(a) <= 90: # 大写字母\n",
    "                    small = chr(32 + ord(a))\n",
    "                    if small in count or small in cur:\n",
    "                        res += a\n",
    "                    else:\n",
    "                        if res:\n",
    "                            ans = helper(res)\n",
    "                            if ans:\n",
    "                                return ans\n",
    "                        res = ''\n",
    "                        cur.clear()\n",
    "                else:\n",
    "                    big = chr(ord(a) - 32)\n",
    "                    if big in count or big in cur:\n",
    "                        res += a\n",
    "                    else:\n",
    "                        if res:\n",
    "                            ans = helper(res)\n",
    "                            if ans:\n",
    "                                return ans\n",
    "                        res = ''\n",
    "                        cur.clear()\n",
    "                count[a] -= 1\n",
    "                if count[a] == 0:\n",
    "                    del count[a]\n",
    "            if len(res) > len(outs):\n",
    "                outs = res\n",
    "            return res\n",
    "        outs = ''\n",
    "        for i in range(len(s)):\n",
    "            helper(s[i:])\n",
    "        return outs"
   ]
  }
 ],
 "metadata": {
  "kernelspec": {
   "display_name": "Python 3",
   "language": "python",
   "name": "python3"
  },
  "language_info": {
   "codemirror_mode": {
    "name": "ipython",
    "version": 3
   },
   "file_extension": ".py",
   "mimetype": "text/x-python",
   "name": "python",
   "nbconvert_exporter": "python",
   "pygments_lexer": "ipython3",
   "version": "3.6.2"
  }
 },
 "nbformat": 4,
 "nbformat_minor": 4
}
