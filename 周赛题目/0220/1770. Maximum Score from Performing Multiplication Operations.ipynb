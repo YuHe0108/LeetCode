{
 "cells": [
  {
   "cell_type": "code",
   "execution_count": null,
   "metadata": {},
   "outputs": [],
   "source": []
  },
  {
   "cell_type": "code",
   "execution_count": null,
   "metadata": {},
   "outputs": [],
   "source": []
  },
  {
   "cell_type": "code",
   "execution_count": null,
   "metadata": {},
   "outputs": [],
   "source": []
  },
  {
   "cell_type": "code",
   "execution_count": null,
   "metadata": {},
   "outputs": [],
   "source": []
  },
  {
   "cell_type": "code",
   "execution_count": 52,
   "metadata": {},
   "outputs": [],
   "source": [
    "from typing import List\n",
    "from functools import lru_cache\n",
    "\n",
    "# 超时\n",
    "class Solution:\n",
    "    def maximumScore(self, nums: List[int], multipliers: List[int]):\n",
    "        @lru_cache(None)\n",
    "        def helper(vals, mults):\n",
    "            if len(mults) == 1:\n",
    "                return max(mults[0]*vals[0], mults[0]*vals[-1])\n",
    "            \n",
    "            v1 = vals[0]*mults[0] + helper(vals[1:], mults[1:])\n",
    "            v2 = vals[-1]*mults[0] + helper(vals[:-1], mults[1:])\n",
    "            return max(v1, v2)\n",
    "        \n",
    "        n, m = len(nums), len(multipliers)\n",
    "        return helper(tuple(nums), tuple(multipliers))"
   ]
  },
  {
   "cell_type": "code",
   "execution_count": null,
   "metadata": {},
   "outputs": [],
   "source": []
  },
  {
   "cell_type": "code",
   "execution_count": null,
   "metadata": {},
   "outputs": [],
   "source": []
  },
  {
   "cell_type": "code",
   "execution_count": null,
   "metadata": {},
   "outputs": [],
   "source": []
  },
  {
   "cell_type": "code",
   "execution_count": 32,
   "metadata": {},
   "outputs": [],
   "source": [
    "from typing import List\n",
    "\n",
    "# 超时\n",
    "class Solution:\n",
    "    def maximumScore(self, nums: List[int], multipliers: List[int]):\n",
    "        n, m = len(nums), len(multipliers)\n",
    "        # dp[i][j] 表示从nums中取前i个数字，后j个数字的时候，能够获得的最大值\n",
    "        # 可能其中有些状态是没有意义的，所以要取 -float('inf')\n",
    "        dp = [[-float('inf')] * (m+1) for _ in range(m+1)]\n",
    "        dp[0][0] = 0\n",
    "        nums.insert(0, 0)\n",
    "        multipliers.insert(0, 0)\n",
    "        \n",
    "        res = -float('inf')\n",
    "        for i in range(m+1):\n",
    "            for j in range(m+1):\n",
    "                if i == 0 and j == 0:\n",
    "                    continue\n",
    "                if i + j > m:\n",
    "                    continue\n",
    "                val_h = val_t = -float('inf')\n",
    "                # 取从前数 第 i 个数字与multipliers的第 i+j 个数字相乘\n",
    "                if i-1 >= 0:\n",
    "                    val_h = dp[i-1][j] + nums[i] * multipliers[i+j] \n",
    "                # 取从后向前数的第 j 个数字 与multipliers的第 i+j 个数字相乘\n",
    "                if j-1 >= 0:\n",
    "                    val_t = dp[i][j-1] + nums[-j] * multipliers[i+j] \n",
    "                dp[i][j] = max(val_h, val_t)\n",
    "                # 最后的结果，只要 前i个+后j个之和为 m就是一个合法结果\n",
    "                if i+j == m:\n",
    "                    res = max(res, dp[i][j])\n",
    "        return res"
   ]
  },
  {
   "cell_type": "code",
   "execution_count": 33,
   "metadata": {},
   "outputs": [
    {
     "data": {
      "text/plain": [
       "14"
      ]
     },
     "execution_count": 33,
     "metadata": {},
     "output_type": "execute_result"
    }
   ],
   "source": [
    "solution = Solution()\n",
    "solution.maximumScore(nums = [1,2,3], multipliers = [3,2,1])"
   ]
  },
  {
   "cell_type": "code",
   "execution_count": 2,
   "metadata": {},
   "outputs": [],
   "source": [
    "a = [1, 2, 3]"
   ]
  },
  {
   "cell_type": "code",
   "execution_count": 3,
   "metadata": {},
   "outputs": [
    {
     "data": {
      "text/plain": [
       "3"
      ]
     },
     "execution_count": 3,
     "metadata": {},
     "output_type": "execute_result"
    }
   ],
   "source": [
    "a[-1]"
   ]
  },
  {
   "cell_type": "raw",
   "metadata": {},
   "source": []
  },
  {
   "cell_type": "code",
   "execution_count": null,
   "metadata": {},
   "outputs": [],
   "source": []
  }
 ],
 "metadata": {
  "kernelspec": {
   "display_name": "Python 3",
   "language": "python",
   "name": "python3"
  },
  "language_info": {
   "codemirror_mode": {
    "name": "ipython",
    "version": 3
   },
   "file_extension": ".py",
   "mimetype": "text/x-python",
   "name": "python",
   "nbconvert_exporter": "python",
   "pygments_lexer": "ipython3",
   "version": "3.6.2"
  }
 },
 "nbformat": 4,
 "nbformat_minor": 4
}
