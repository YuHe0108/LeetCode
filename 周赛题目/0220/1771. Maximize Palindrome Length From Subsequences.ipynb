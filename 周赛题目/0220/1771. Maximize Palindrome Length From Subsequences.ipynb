{
 "cells": [
  {
   "cell_type": "code",
   "execution_count": null,
   "metadata": {},
   "outputs": [],
   "source": []
  },
  {
   "cell_type": "code",
   "execution_count": null,
   "metadata": {},
   "outputs": [],
   "source": []
  },
  {
   "cell_type": "code",
   "execution_count": null,
   "metadata": {},
   "outputs": [],
   "source": []
  },
  {
   "cell_type": "code",
   "execution_count": null,
   "metadata": {},
   "outputs": [],
   "source": []
  },
  {
   "cell_type": "code",
   "execution_count": 59,
   "metadata": {},
   "outputs": [],
   "source": [
    "class Solution:\n",
    "    def longestPalindrome(self, word1: str, word2: str) -> int:\n",
    "        n1, n2 = len(word1), len(word2)\n",
    "        word = word1 + word2\n",
    "        n = len(word)\n",
    "        \n",
    "        dp = [[-float('inf')] * (n+1) for _ in range(n+1)]\n",
    "        dp[0][0] = 0\n",
    "        for i in range(1, n+1):\n",
    "            dp[i][i] = 1 # 每一个字母自己可以是一个回文，最长为 1\n",
    "        \n",
    "        word = '#' + word\n",
    "        res = -float('inf')\n",
    "        for gap in range(2, n+1):\n",
    "            for s in range(1, n-gap+2):\n",
    "                e = s + gap - 1\n",
    "                if word[s] == word[e]:\n",
    "                    before = dp[s+1][e-1] if s+1 <= e-1 else 0\n",
    "                    dp[s][e] = max(dp[s][e], before + 2)\n",
    "                    if s <= n1 and e > n1:\n",
    "                        res = max(res, dp[s][e])\n",
    "                else:\n",
    "                    dp[s][e] = max(dp[s+1][e], dp[s][e-1])\n",
    "        return res if res > 1 else 0"
   ]
  },
  {
   "cell_type": "code",
   "execution_count": 61,
   "metadata": {},
   "outputs": [
    {
     "name": "stdout",
     "output_type": "stream",
     "text": [
      "-inf\n"
     ]
    },
    {
     "data": {
      "text/plain": [
       "0"
      ]
     },
     "execution_count": 61,
     "metadata": {},
     "output_type": "execute_result"
    }
   ],
   "source": [
    "solution = Solution()\n",
    "solution.longestPalindrome(\"aba\", \"cfc\")"
   ]
  },
  {
   "cell_type": "code",
   "execution_count": 62,
   "metadata": {},
   "outputs": [],
   "source": [
    "from collections import defaultdict"
   ]
  },
  {
   "cell_type": "code",
   "execution_count": 63,
   "metadata": {},
   "outputs": [],
   "source": [
    "a = defaultdict()"
   ]
  },
  {
   "cell_type": "code",
   "execution_count": 64,
   "metadata": {},
   "outputs": [
    {
     "name": "stdout",
     "output_type": "stream",
     "text": [
      "2\n"
     ]
    }
   ],
   "source": [
    "if not a:\n",
    "    print(2)"
   ]
  },
  {
   "cell_type": "code",
   "execution_count": null,
   "metadata": {},
   "outputs": [],
   "source": []
  }
 ],
 "metadata": {
  "kernelspec": {
   "display_name": "Python 3",
   "language": "python",
   "name": "python3"
  },
  "language_info": {
   "codemirror_mode": {
    "name": "ipython",
    "version": 3
   },
   "file_extension": ".py",
   "mimetype": "text/x-python",
   "name": "python",
   "nbconvert_exporter": "python",
   "pygments_lexer": "ipython3",
   "version": "3.6.2"
  }
 },
 "nbformat": 4,
 "nbformat_minor": 4
}
