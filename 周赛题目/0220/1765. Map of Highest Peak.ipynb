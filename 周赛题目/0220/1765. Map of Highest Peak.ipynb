{
 "cells": [
  {
   "cell_type": "code",
   "execution_count": null,
   "metadata": {},
   "outputs": [],
   "source": []
  },
  {
   "cell_type": "code",
   "execution_count": null,
   "metadata": {},
   "outputs": [],
   "source": []
  },
  {
   "cell_type": "code",
   "execution_count": null,
   "metadata": {},
   "outputs": [],
   "source": []
  },
  {
   "cell_type": "code",
   "execution_count": null,
   "metadata": {},
   "outputs": [],
   "source": [
    "from collections import deque\n",
    "\n",
    "class Solution:\n",
    "    def highestPeak(self, isWater: List[List[int]]) -> List[List[int]]:\n",
    "        rows, cols = len(isWater), len(isWater[0])\n",
    "        \n",
    "        water = set()\n",
    "        dq = deque()\n",
    "        for i in range(rows):\n",
    "            for j in range(cols):\n",
    "                if isWater[i][j] == 1:\n",
    "                    water.add((i, j))\n",
    "                    dq.append((i, j))\n",
    "                    \n",
    "        res = [[0] * cols for _ in range(rows)]\n",
    "        seen = set()\n",
    "        value = 1\n",
    "        while dq:\n",
    "            # 首先，初始化，原始地方为水的位置四周一定都是1\n",
    "            for _ in range(len(dq)):\n",
    "                i, j = dq.popleft()\n",
    "                seen.add((i, j))\n",
    "                for ni, nj in (i+1,j), (i-1,j), (i,j-1), (i,j+1):\n",
    "                    if ni<0 or nj<0 or ni>=rows or nj>=cols:\n",
    "                        continue\n",
    "                    if (ni, nj) in seen or (ni, nj) in water:\n",
    "                        continue\n",
    "                    res[ni][nj] = value\n",
    "                    seen.add((ni, nj))\n",
    "                    dq.append((ni, nj))\n",
    "                    \n",
    "            value += 1\n",
    "        return res"
   ]
  }
 ],
 "metadata": {
  "kernelspec": {
   "display_name": "Python 3",
   "language": "python",
   "name": "python3"
  },
  "language_info": {
   "codemirror_mode": {
    "name": "ipython",
    "version": 3
   },
   "file_extension": ".py",
   "mimetype": "text/x-python",
   "name": "python",
   "nbconvert_exporter": "python",
   "pygments_lexer": "ipython3",
   "version": "3.6.2"
  }
 },
 "nbformat": 4,
 "nbformat_minor": 4
}
