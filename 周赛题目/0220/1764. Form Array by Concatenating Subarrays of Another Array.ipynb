{
 "cells": [
  {
   "cell_type": "code",
   "execution_count": null,
   "metadata": {},
   "outputs": [],
   "source": [
    "class Solution:\n",
    "    def canChoose(self, groups: List[List[int]], nums: List[int]) -> bool:\n",
    "        g_idx = 0\n",
    "        i = 0\n",
    "        while i < len(nums):\n",
    "            if nums[i] == groups[g_idx][0]:\n",
    "                n = len(groups[g_idx])\n",
    "                k = 0\n",
    "                while k < n and i < len(nums) and nums[i] == groups[g_idx][k]:\n",
    "                    k += 1\n",
    "                    i += 1 \n",
    "                if k == n:\n",
    "                    g_idx += 1\n",
    "                    if g_idx == len(groups):\n",
    "                        return True\n",
    "                continue\n",
    "            i += 1\n",
    "        return False"
   ]
  }
 ],
 "metadata": {
  "kernelspec": {
   "display_name": "Python 3",
   "language": "python",
   "name": "python3"
  },
  "language_info": {
   "codemirror_mode": {
    "name": "ipython",
    "version": 3
   },
   "file_extension": ".py",
   "mimetype": "text/x-python",
   "name": "python",
   "nbconvert_exporter": "python",
   "pygments_lexer": "ipython3",
   "version": "3.6.2"
  }
 },
 "nbformat": 4,
 "nbformat_minor": 4
}
