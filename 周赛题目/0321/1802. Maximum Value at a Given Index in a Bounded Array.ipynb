{
 "cells": [
  {
   "cell_type": "code",
   "execution_count": null,
   "metadata": {},
   "outputs": [],
   "source": []
  },
  {
   "cell_type": "code",
   "execution_count": null,
   "metadata": {},
   "outputs": [],
   "source": []
  },
  {
   "cell_type": "code",
   "execution_count": null,
   "metadata": {},
   "outputs": [],
   "source": []
  },
  {
   "cell_type": "code",
   "execution_count": null,
   "metadata": {},
   "outputs": [],
   "source": []
  },
  {
   "cell_type": "code",
   "execution_count": 68,
   "metadata": {},
   "outputs": [],
   "source": [
    "class Solution:\n",
    "    def maxValue(self, n: int, index: int, maxSum: int) -> int:\n",
    "        \n",
    "        def check(value):\n",
    "            # 逐个递减，最前面的一个可以取到 1\n",
    "            if before <= value - 1:\n",
    "                be_sum = (value - before + value - 1) * before // 2\n",
    "            else:\n",
    "                be_sum = value * (value-1) // 2 + before - value + 1 # 不能在小了，都取1\n",
    "            \n",
    "            # 后面的数字追减递减为1\n",
    "            if after <= value:\n",
    "                af_sum = (value + value - after + 1) * after // 2\n",
    "            else:\n",
    "                af_sum = (value + 1) * value // 2 + after - value\n",
    "            return be_sum + af_sum <= maxSum\n",
    "            \n",
    "        before = index  # 前面数字的个数\n",
    "        after = n - index # 后面有这些数字\n",
    "        # nums[idx] 的最大值应该在 low ~ high 之间\n",
    "        low, high = 1, maxSum\n",
    "        res = 0\n",
    "        while low < high:\n",
    "            mid = low + (high - low) // 2\n",
    "            if check(mid):\n",
    "                low = mid + 1\n",
    "                res = mid\n",
    "            else:\n",
    "                high = mid - 1\n",
    "        if check(high):\n",
    "            return high\n",
    "        return res"
   ]
  },
  {
   "cell_type": "code",
   "execution_count": 69,
   "metadata": {},
   "outputs": [
    {
     "data": {
      "text/plain": [
       "2"
      ]
     },
     "execution_count": 69,
     "metadata": {},
     "output_type": "execute_result"
    }
   ],
   "source": [
    "solution = Solution()\n",
    "solution.maxValue(4, 3, 4)"
   ]
  },
  {
   "cell_type": "code",
   "execution_count": null,
   "metadata": {},
   "outputs": [],
   "source": []
  }
 ],
 "metadata": {
  "kernelspec": {
   "display_name": "Python 3",
   "language": "python",
   "name": "python3"
  },
  "language_info": {
   "codemirror_mode": {
    "name": "ipython",
    "version": 3
   },
   "file_extension": ".py",
   "mimetype": "text/x-python",
   "name": "python",
   "nbconvert_exporter": "python",
   "pygments_lexer": "ipython3",
   "version": "3.6.2"
  }
 },
 "nbformat": 4,
 "nbformat_minor": 4
}
