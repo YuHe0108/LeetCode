{
 "cells": [
  {
   "cell_type": "code",
   "execution_count": null,
   "metadata": {},
   "outputs": [],
   "source": [
    "class AuthenticationManager:\n",
    "\n",
    "    def __init__(self, timeToLive: int):\n",
    "        self.time_to_live = timeToLive\n",
    "        self.users = {}\n",
    "\n",
    "    def generate(self, tokenId: str, currentTime: int) -> None:\n",
    "        self.users[tokenId] = currentTime\n",
    "\n",
    "    def renew(self, tokenId: str, currentTime: int) -> None:\n",
    "        if tokenId not in self.users:\n",
    "            return\n",
    "        val = self.users[tokenId]\n",
    "        if val + self.time_to_live <= currentTime:\n",
    "            return\n",
    "        self.users[tokenId] = currentTime\n",
    "\n",
    "    def countUnexpiredTokens(self, currentTime: int) -> int:\n",
    "        cnt = 0\n",
    "        passed = []\n",
    "        for k, v in self.users.items():\n",
    "            if v + self.time_to_live <= currentTime:\n",
    "                passed.append(k)\n",
    "                continue\n",
    "            cnt += 1\n",
    "            \n",
    "        for k in passed:\n",
    "            del self.users[k]\n",
    "        return cnt\n",
    "\n",
    "\n",
    "\n",
    "# Your AuthenticationManager object will be instantiated and called as such:\n",
    "# obj = AuthenticationManager(timeToLive)\n",
    "# obj.generate(tokenId,currentTime)\n",
    "# obj.renew(tokenId,currentTime)\n",
    "# param_3 = obj.countUnexpiredTokens(currentTime)"
   ]
  }
 ],
 "metadata": {
  "kernelspec": {
   "display_name": "Python 3",
   "language": "python",
   "name": "python3"
  },
  "language_info": {
   "codemirror_mode": {
    "name": "ipython",
    "version": 3
   },
   "file_extension": ".py",
   "mimetype": "text/x-python",
   "name": "python",
   "nbconvert_exporter": "python",
   "pygments_lexer": "ipython3",
   "version": "3.6.2"
  }
 },
 "nbformat": 4,
 "nbformat_minor": 4
}
