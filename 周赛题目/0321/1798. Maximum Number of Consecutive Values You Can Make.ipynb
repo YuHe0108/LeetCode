{
 "cells": [
  {
   "cell_type": "code",
   "execution_count": null,
   "metadata": {},
   "outputs": [],
   "source": []
  },
  {
   "cell_type": "code",
   "execution_count": null,
   "metadata": {},
   "outputs": [],
   "source": []
  },
  {
   "cell_type": "code",
   "execution_count": null,
   "metadata": {},
   "outputs": [],
   "source": []
  },
  {
   "cell_type": "code",
   "execution_count": 1,
   "metadata": {},
   "outputs": [],
   "source": [
    "from typing import List\n",
    "\n",
    "class Solution:\n",
    "    def getMaximumConsecutive(self, coins: List[int]) -> int:\n",
    "        # 首先需要对硬比进行排序\n",
    "        coins.sort()\n",
    "        cur_max = 0\n",
    "        for c in coins:\n",
    "            # 如果当前的硬币： c > cur_max + 1\n",
    "            # 说明是无法用硬比 构造出 cur_max + 1的，因为仅仅用 c 都已经大于 cur_max+1了\n",
    "            # 再用前面的一定会更大\n",
    "            # 由于经过排序，后面的 coins\n",
    "            if c > cur_max+1:\n",
    "                break\n",
    "            cur_max += c\n",
    "        \n",
    "        return cur_max+1"
   ]
  },
  {
   "cell_type": "code",
   "execution_count": null,
   "metadata": {},
   "outputs": [],
   "source": []
  }
 ],
 "metadata": {
  "kernelspec": {
   "display_name": "Python 3",
   "language": "python",
   "name": "python3"
  },
  "language_info": {
   "codemirror_mode": {
    "name": "ipython",
    "version": 3
   },
   "file_extension": ".py",
   "mimetype": "text/x-python",
   "name": "python",
   "nbconvert_exporter": "python",
   "pygments_lexer": "ipython3",
   "version": "3.6.2"
  }
 },
 "nbformat": 4,
 "nbformat_minor": 4
}
