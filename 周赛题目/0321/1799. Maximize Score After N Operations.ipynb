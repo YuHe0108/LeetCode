{
 "cells": [
  {
   "cell_type": "code",
   "execution_count": 1,
   "metadata": {},
   "outputs": [],
   "source": [
    "import math"
   ]
  },
  {
   "cell_type": "code",
   "execution_count": 11,
   "metadata": {},
   "outputs": [
    {
     "data": {
      "text/plain": [
       "33480783"
      ]
     },
     "execution_count": 11,
     "metadata": {},
     "output_type": "execute_result"
    }
   ],
   "source": [
    "pow(3, 14) * 7"
   ]
  },
  {
   "cell_type": "code",
   "execution_count": null,
   "metadata": {},
   "outputs": [],
   "source": []
  },
  {
   "cell_type": "code",
   "execution_count": 78,
   "metadata": {},
   "outputs": [],
   "source": [
    "from typing import List\n",
    "from functools import lru_cache\n",
    "import math\n",
    "\n",
    "class Solution:\n",
    "    def maxScore(self, nums: List[int]) -> int:\n",
    "        \n",
    "        @lru_cache(None)\n",
    "        def calcGcd(state):\n",
    "            val1, val2 = None, None\n",
    "            for i in range(n):\n",
    "                if ((state >> i) & 1) == 1:\n",
    "                    if not val1:\n",
    "                        val1 = nums[i]\n",
    "                    else:\n",
    "                        val2 = nums[i]\n",
    "            return math.gcd(val1, val2)\n",
    "        \n",
    "        @lru_cache(None)\n",
    "        def calcCnt(state):\n",
    "            cnt = 0\n",
    "            for i in range(n):\n",
    "                if ((state >> i) & 1) == 1:\n",
    "                    cnt += 1\n",
    "            return cnt\n",
    "        \n",
    "        # 最大公约数：两个数都可以整除当前这个数字\n",
    "        n = len(nums)\n",
    "        k = n // 2 # 一共可以操作的次数\n",
    "        m = 1 << n\n",
    "        dp = [-float('inf')] * m # 每一种状态的最大值\n",
    "        dp[0] = 0\n",
    "        \n",
    "        for i in range(1, k+1): # 一共更新 k 轮\n",
    "            for state in range(m):\n",
    "                cnt = calcCnt(state)\n",
    "                if cnt != 2 * i:\n",
    "                    continue\n",
    "                print(bin(state), state, i*2)\n",
    "                    \n",
    "                subset = state\n",
    "                while True:\n",
    "                    # subset 中抠出来两个，计算 gcd\n",
    "                    # state - subset：会有两个值\n",
    "                    subset_cnt = cnt = calcCnt(subset)\n",
    "                    if subset_cnt == 2 * (i - 1):\n",
    "                        dp[state] = max(dp[state], dp[subset] + i * calcGcd(state - subset))\n",
    "                    if subset == 0:\n",
    "                        break\n",
    "                    subset = ((subset-1) & state)\n",
    "        return dp[-1]"
   ]
  },
  {
   "cell_type": "code",
   "execution_count": 79,
   "metadata": {},
   "outputs": [
    {
     "name": "stdout",
     "output_type": "stream",
     "text": [
      "0b11 3 2\n"
     ]
    },
    {
     "data": {
      "text/plain": [
       "1"
      ]
     },
     "execution_count": 79,
     "metadata": {},
     "output_type": "execute_result"
    }
   ],
   "source": [
    "solution = Solution()\n",
    "solution.maxScore(nums = [1,2])"
   ]
  },
  {
   "cell_type": "code",
   "execution_count": null,
   "metadata": {},
   "outputs": [],
   "source": []
  },
  {
   "cell_type": "code",
   "execution_count": null,
   "metadata": {},
   "outputs": [],
   "source": []
  },
  {
   "cell_type": "code",
   "execution_count": null,
   "metadata": {},
   "outputs": [],
   "source": []
  },
  {
   "cell_type": "code",
   "execution_count": null,
   "metadata": {},
   "outputs": [],
   "source": []
  },
  {
   "cell_type": "code",
   "execution_count": 140,
   "metadata": {},
   "outputs": [],
   "source": [
    "from typing import List\n",
    "from functools import lru_cache\n",
    "import math\n",
    "\n",
    "class Solution:\n",
    "    def maxScore(self, nums: List[int]) -> int:\n",
    "        \n",
    "        @lru_cache(None)\n",
    "        def calcGcd(state):\n",
    "            val1, val2 = None, None\n",
    "            for i in range(n):\n",
    "                if ((state >> i) & 1) == 1:\n",
    "                    if not val1:\n",
    "                        val1 = nums[i]\n",
    "                    else:\n",
    "                        val2 = nums[i]\n",
    "            return math.gcd(val1, val2)\n",
    "        \n",
    "        # 最大公约数：两个数都可以整除当前这个数字\n",
    "        n = len(nums)\n",
    "        m = 1 << n # 一共比特位的长度\n",
    "        k = n // 2\n",
    "        all_states = [[] for _ in range(k+1)]\n",
    "        all_states[0] = [0]\n",
    "        for i in range(1, k+1):\n",
    "            # 有 i * 2 个比特位上是1\n",
    "            state = (1 << (2 * i)) - 1\n",
    "            while state < m:\n",
    "                all_states[i].append(state)\n",
    "                c = state & -state\n",
    "                r = state + c\n",
    "                state = (((r ^ state) >> 2) // c) | r\n",
    "        \n",
    "        dp = [-float('inf')] * m # 每一种状态的最大值\n",
    "        dp[0] = 0\n",
    "        for i in range(1, k+1): # 一共更新 k 轮\n",
    "            states = all_states[i]\n",
    "            for state in states:\n",
    "                subsets = all_states[i-1]\n",
    "                for subset in subsets:\n",
    "                    if ((state & subset) != subset):\n",
    "                        continue\n",
    "                    dp[state] = max(dp[state], dp[subset] + i * calcGcd(state - subset))\n",
    "        return dp[-1]"
   ]
  },
  {
   "cell_type": "code",
   "execution_count": 141,
   "metadata": {},
   "outputs": [
    {
     "data": {
      "text/plain": [
       "28"
      ]
     },
     "execution_count": 141,
     "metadata": {},
     "output_type": "execute_result"
    }
   ],
   "source": [
    "solution = Solution()\n",
    "solution.maxScore([889509,644676,621999,606262,412720,678593])"
   ]
  },
  {
   "cell_type": "code",
   "execution_count": 70,
   "metadata": {},
   "outputs": [
    {
     "data": {
      "text/plain": [
       "'101'"
      ]
     },
     "execution_count": 70,
     "metadata": {},
     "output_type": "execute_result"
    }
   ],
   "source": [
    "bin(5)[2:]"
   ]
  },
  {
   "cell_type": "code",
   "execution_count": null,
   "metadata": {},
   "outputs": [],
   "source": []
  }
 ],
 "metadata": {
  "kernelspec": {
   "display_name": "Python 3",
   "language": "python",
   "name": "python3"
  },
  "language_info": {
   "codemirror_mode": {
    "name": "ipython",
    "version": 3
   },
   "file_extension": ".py",
   "mimetype": "text/x-python",
   "name": "python",
   "nbconvert_exporter": "python",
   "pygments_lexer": "ipython3",
   "version": "3.6.2"
  }
 },
 "nbformat": 4,
 "nbformat_minor": 4
}
