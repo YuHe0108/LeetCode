{
 "cells": [
  {
   "cell_type": "code",
   "execution_count": null,
   "metadata": {},
   "outputs": [],
   "source": []
  },
  {
   "cell_type": "code",
   "execution_count": 5,
   "metadata": {},
   "outputs": [
    {
     "data": {
      "text/plain": [
       "14.287712379549449"
      ]
     },
     "execution_count": 5,
     "metadata": {},
     "output_type": "execute_result"
    }
   ],
   "source": [
    "import math\n",
    "math.log(20000, 2)"
   ]
  },
  {
   "cell_type": "code",
   "execution_count": null,
   "metadata": {},
   "outputs": [],
   "source": []
  },
  {
   "cell_type": "code",
   "execution_count": null,
   "metadata": {},
   "outputs": [],
   "source": []
  },
  {
   "cell_type": "code",
   "execution_count": null,
   "metadata": {},
   "outputs": [],
   "source": []
  },
  {
   "cell_type": "code",
   "execution_count": 39,
   "metadata": {},
   "outputs": [],
   "source": [
    "from typing import List\n",
    "\n",
    "\n",
    "class TrieNode:\n",
    "    def __init__(self):\n",
    "        self.cnt = 0\n",
    "        self.next = [None, None] # self.next[0] 表示下一个 bit位为 0\n",
    "\n",
    "class Solution:\n",
    "    def countPairs(self, nums: List[int], low: int, high: int) -> int:\n",
    "        \n",
    "        # 计算 nums 中小于 high+1　的数组对有多少 对\n",
    "        return self.cntPairsSmallThan(nums, high + 1) - self.cntPairsSmallThan(nums, low)\n",
    "    \n",
    "    def cntPairsSmallThan(self, nums, threshold):\n",
    "        \n",
    "        def insertNode(val):\n",
    "            # 在当前的 root 下 插入一个数字\n",
    "            node = root\n",
    "            for i in range(14, -1, -1): # \n",
    "                if ((val >> i) & 1) == 1:\n",
    "                    # 如果当前的bit位不存在，那么就创造一个新的 node\n",
    "                    if node.next[1] is None:\n",
    "                        node.next[1] = TrieNode()\n",
    "                    node = node.next[1]\n",
    "                    node.cnt += 1 # 因为多加了一个数字，因此要 cnt+1\n",
    "                else:\n",
    "                    if node.next[0] is None:\n",
    "                        node.next[0] = TrieNode()\n",
    "                    node = node.next[0]\n",
    "                    node.cnt += 1\n",
    "            return\n",
    "        \n",
    "        def cntNumsSmallThan(val):\n",
    "            # 检查在当前的 val 和  root 下，有多少对是满足小于 threshold 条件\n",
    "            cnt = 0\n",
    "            node = root\n",
    "            for i in range(14, -1, -1):\n",
    "                v1 = (val >> i) & 1\n",
    "                t1 = (threshold >> i) & 1\n",
    "                if v1 == 1 and t1 == 1:\n",
    "                    if node.next[1]:\n",
    "                        # v1 = 1, 如果继续找下一个 bit 位的值为1，那么1^1 = 0, 而t1是1，\n",
    "                        # 所以后面所有的值都是小于 threshold 的\n",
    "                        cnt += node.next[1].cnt\n",
    "                    if node.next[0]: # 但是如果找的下一个为 0，那么 1^0 = 1, 打平，需要继续递归\n",
    "                        node = node.next[0]\n",
    "                    else: # 不存在的话就 break\n",
    "                        break\n",
    "                elif v1 == 1 and t1 == 0:\n",
    "                    if node.next[1]:\n",
    "                        # v1 = 1, 如果走1， 1^1 = 0, 打平\n",
    "                        node = node.next[1]\n",
    "                    else: \n",
    "                        # 如果不存在打平的机会，直接跳出，因为选择 0 也不可能了\n",
    "                        # v1 = 1, 如果走0， 1^0 = 1, 大于当前值，后面的都不可能了，我们只找小于threshold\n",
    "                        break\n",
    "                elif v1 == 0 and t1 == 1:\n",
    "                    # v1= 0, 0^0 = 0, 小于1 \n",
    "                    if node.next[0]:\n",
    "                        cnt += node.next[0].cnt\n",
    "                        \n",
    "                    if node.next[1]: # v1= 0, 0^1 = 1,打平\n",
    "                        node = node.next[1]\n",
    "                    else:\n",
    "                        break\n",
    "                elif v1 == 0 and t1 == 0:\n",
    "                    if node.next[0]: # v1 =0, 0 ^ 0 =0, 打平\n",
    "                        node = node.next[0]\n",
    "                    else:\n",
    "                        # v1 =0, 0 ^ 1 = 1, 大于threshold，不存在打平的机会只能跳出\n",
    "                        break\n",
    "            insertNode(val)\n",
    "            return cnt\n",
    "        \n",
    "        root = TrieNode()\n",
    "        res = 0\n",
    "        n = len(nums)\n",
    "        # 这样构造的话，nums[i] 是一直在和前 nums[:i] 个元素比较\n",
    "        for i in range(n):\n",
    "            res += cntNumsSmallThan(nums[i])\n",
    "        return res"
   ]
  },
  {
   "cell_type": "code",
   "execution_count": 40,
   "metadata": {},
   "outputs": [
    {
     "data": {
      "text/plain": [
       "6"
      ]
     },
     "execution_count": 40,
     "metadata": {},
     "output_type": "execute_result"
    }
   ],
   "source": [
    "solution = Solution()\n",
    "solution.countPairs(nums = [1,4,2,7], low = 2, high = 6)"
   ]
  },
  {
   "cell_type": "code",
   "execution_count": null,
   "metadata": {},
   "outputs": [],
   "source": []
  },
  {
   "cell_type": "code",
   "execution_count": null,
   "metadata": {},
   "outputs": [],
   "source": []
  },
  {
   "cell_type": "code",
   "execution_count": null,
   "metadata": {},
   "outputs": [],
   "source": []
  },
  {
   "cell_type": "code",
   "execution_count": null,
   "metadata": {},
   "outputs": [],
   "source": []
  },
  {
   "cell_type": "code",
   "execution_count": null,
   "metadata": {},
   "outputs": [],
   "source": [
    "from typing import List\n",
    "\n",
    "\n",
    "class TrieNode:\n",
    "    def __init__(self):\n",
    "        self.cnt = 0\n",
    "        self.next = [None, None] # self.next[0] 表示下一个 bit位为 0\n",
    "\n",
    "class Solution:\n",
    "    def countPairs(self, nums: List[int], low: int, high: int) -> int:\n",
    "        \n",
    "        # 计算 nums 中小于 high+1　的数组对有多少 对\n",
    "        return self.cntPairsSmallThan(nums, high + 1) - self.cntPairsSmallThan(nums, low)\n",
    "    \n",
    "    def cntPairsSmallThan(self, nums, threshold):\n",
    "        \n",
    "        def insertNode(val):\n",
    "            # 在当前的 root 下 插入一个数字\n",
    "            node = root\n",
    "            for i in range(31, -1, -1): # \n",
    "                if ((val >> i) & 1) == 1:\n",
    "                    # 如果当前的bit位不存在，那么就创造一个新的 node\n",
    "                    if node.next[1] is None:\n",
    "                        node.next[1] = TrieNode()\n",
    "                    node = node.next[1]\n",
    "                    node.cnt += 1 # 因为多加了一个数字，因此要 cnt+1\n",
    "                else:\n",
    "                    if node.next[0] is None:\n",
    "                        node.next[0] = TrieNode()\n",
    "                    node = node.next[0]\n",
    "                    node.cnt += 1\n",
    "            return\n",
    "        \n",
    "        def cntNumsSmallThan(val):\n",
    "            # 检查在当前的 val 和  root 下，有多少对是满足小于 threshold 条件\n",
    "            cnt = 0\n",
    "            node = root\n",
    "            for i in range(31, -1, -1):\n",
    "                c = (val >> i) & 1\n",
    "                b = (threshold >> i) & 1\n",
    "                a = c ^ b\n",
    "                if a == 1 and c == 1:\n",
    "                    if node.next[0]:\n",
    "                        # v1 = 1, 如果继续找下一个 bit 位的值为1，那么1^1 = 0, 而t1是1，\n",
    "                        # 所以后面所有的值都是小于 threshold 的\n",
    "                        cnt += node.cnt\n",
    "                    if node.next[0]: # 但是如果找的下一个为 0，那么 1^0 = 1, 打平，需要继续递归\n",
    "                        node = node.next[0]\n",
    "                    else: # 不存在的话就 break\n",
    "                        break\n",
    "                elif a == 1 and c == 0:\n",
    "                    if node.next[1]:\n",
    "                        # v1 = 1, 如果走1， 1^1 = 0, 打平\n",
    "                        node = node.next[1]\n",
    "                    else: \n",
    "                        # 如果不存在打平的机会，直接跳出，因为选择 0 也不可能了\n",
    "                        # v1 = 1, 如果走0， 1^0 = 1, 大于当前值，后面的都不可能了，我们只找小于threshold\n",
    "                        break\n",
    "                elif a == 0 and c == 1:\n",
    "                    # v1= 0, 0^0 = 0, 小于1 \n",
    "                    if node.next[0]:\n",
    "                        cnt += node.cnt\n",
    "                        \n",
    "                    if node.next[1]: # v1= 0, 0^1 = 1,打平\n",
    "                        node = node.next[1]\n",
    "                    else:\n",
    "                        break\n",
    "                elif a == 0 and c == 0:\n",
    "                    if node.next[0]: # v1 =0, 0 ^ 0 =0, 打平\n",
    "                        node = node.next[0]\n",
    "                    else:\n",
    "                        # v1 =0, 0 ^ 1 = 1, 大于threshold，不存在打平的机会只能跳出\n",
    "                        break\n",
    "            insertNode(val)\n",
    "            print(val, cnt)\n",
    "            return cnt\n",
    "        \n",
    "        root = TrieNode()\n",
    "        res = 0\n",
    "        n = len(nums)\n",
    "        # 这样构造的话，nums[i] 是一直在和前 nums[:i] 个元素比较\n",
    "        for i in range(n):\n",
    "            res += cntNumsSmallThan(nums[i])\n",
    "        return res"
   ]
  },
  {
   "cell_type": "code",
   "execution_count": 34,
   "metadata": {},
   "outputs": [
    {
     "name": "stdout",
     "output_type": "stream",
     "text": [
      "1 0\n",
      "4 1\n",
      "2 3\n",
      "7 6\n",
      "1 0\n",
      "4 0\n",
      "2 0\n",
      "7 0\n"
     ]
    },
    {
     "data": {
      "text/plain": [
       "10"
      ]
     },
     "execution_count": 34,
     "metadata": {},
     "output_type": "execute_result"
    }
   ],
   "source": [
    "solution = Solution()\n",
    "solution.countPairs(nums = [1,4,2,7], low = 2, high = 6)"
   ]
  },
  {
   "cell_type": "code",
   "execution_count": 6,
   "metadata": {},
   "outputs": [
    {
     "data": {
      "text/plain": [
       "0"
      ]
     },
     "execution_count": 6,
     "metadata": {},
     "output_type": "execute_result"
    }
   ],
   "source": [
    "0^0"
   ]
  },
  {
   "cell_type": "code",
   "execution_count": null,
   "metadata": {},
   "outputs": [],
   "source": []
  }
 ],
 "metadata": {
  "kernelspec": {
   "display_name": "Python 3",
   "language": "python",
   "name": "python3"
  },
  "language_info": {
   "codemirror_mode": {
    "name": "ipython",
    "version": 3
   },
   "file_extension": ".py",
   "mimetype": "text/x-python",
   "name": "python",
   "nbconvert_exporter": "python",
   "pygments_lexer": "ipython3",
   "version": "3.6.2"
  }
 },
 "nbformat": 4,
 "nbformat_minor": 4
}
