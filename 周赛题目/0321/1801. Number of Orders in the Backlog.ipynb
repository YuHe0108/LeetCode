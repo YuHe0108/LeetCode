{
 "cells": [
  {
   "cell_type": "code",
   "execution_count": null,
   "metadata": {},
   "outputs": [],
   "source": []
  },
  {
   "cell_type": "code",
   "execution_count": null,
   "metadata": {},
   "outputs": [],
   "source": []
  },
  {
   "cell_type": "code",
   "execution_count": 114,
   "metadata": {},
   "outputs": [],
   "source": [
    "class Solution:\n",
    "    def getNumberOfBacklogOrders(self, orders: List[List[int]]) -> int:\n",
    "        sell_pq = []\n",
    "        buy_pq = []\n",
    "        \n",
    "        for pri, amount, types in orders:\n",
    "            if types == 0:\n",
    "                if not sell_pq:\n",
    "                    heapq.heappush(buy_pq, (-pri, amount))\n",
    "                else:\n",
    "                    # 销售订单 sell 的价格 低于或等于 当前采购订单 buy 的价格\n",
    "                    while sell_pq and sell_pq[0][0] <= pri and amount > 0:\n",
    "                        sell_pri, sell_amount = heapq.heappop(sell_pq)\n",
    "                        if amount >= sell_amount:\n",
    "                            amount -= sell_amount\n",
    "                        else:\n",
    "                            sell_amount -= amount\n",
    "                            amount = 0\n",
    "                            heapq.heappush(sell_pq, (sell_pri, sell_amount))\n",
    "                            break\n",
    "                    if amount > 0:\n",
    "                        heapq.heappush(buy_pq, (-pri, amount))\n",
    "            else:\n",
    "                if not buy_pq:\n",
    "                    heapq.heappush(sell_pq, (pri, amount))\n",
    "                else:\n",
    "                    while buy_pq and -buy_pq[0][0] >= pri and amount > 0:\n",
    "                        buy_pri, buy_amount = heapq.heappop(buy_pq)\n",
    "                        if amount >= buy_amount:\n",
    "                            amount -= buy_amount\n",
    "                        else:\n",
    "                            buy_amount -= amount\n",
    "                            amount = 0\n",
    "                            heapq.heappush(buy_pq, (buy_pri, buy_amount))\n",
    "                            break\n",
    "                    if amount > 0:\n",
    "                        heapq.heappush(sell_pq, (pri, amount))\n",
    "        cnt = 0\n",
    "        for k, v in sell_pq:\n",
    "            cnt += v\n",
    "        for k, v in buy_pq:\n",
    "            cnt += v\n",
    "        mod_val = pow(10, 9) + 7\n",
    "        return cnt % mod_val"
   ]
  },
  {
   "cell_type": "code",
   "execution_count": 115,
   "metadata": {},
   "outputs": [
    {
     "name": "stdout",
     "output_type": "stream",
     "text": [
      "[(-6, 27)] 6\n",
      "[(-6, 27)] 6\n",
      "[(-6, 20)] 6\n",
      "[(-6, 20)] 6\n"
     ]
    },
    {
     "data": {
      "text/plain": [
       "48"
      ]
     },
     "execution_count": 115,
     "metadata": {},
     "output_type": "execute_result"
    }
   ],
   "source": [
    "solution = Solution()\n",
    "solution.getNumberOfBacklogOrders([[27,7,1],[6,27,0],[13,7,1],[4,7,1],[19,7,1],[4,22,1],[10,17,1],[1,11,1],[29,10,0],[6,7,1]])"
   ]
  },
  {
   "cell_type": "code",
   "execution_count": null,
   "metadata": {},
   "outputs": [],
   "source": []
  }
 ],
 "metadata": {
  "kernelspec": {
   "display_name": "Python 3",
   "language": "python",
   "name": "python3"
  },
  "language_info": {
   "codemirror_mode": {
    "name": "ipython",
    "version": 3
   },
   "file_extension": ".py",
   "mimetype": "text/x-python",
   "name": "python",
   "nbconvert_exporter": "python",
   "pygments_lexer": "ipython3",
   "version": "3.6.2"
  }
 },
 "nbformat": 4,
 "nbformat_minor": 4
}
