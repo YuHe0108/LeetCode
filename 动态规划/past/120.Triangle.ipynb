{
 "cells": [
  {
   "cell_type": "markdown",
   "metadata": {},
   "source": [
    "    给定一个三角形，求从上到下的最小路径和。每一步都可以移动到下一行的相邻数字。\n",
    "        [\n",
    "         [2],\n",
    "        [3,4],\n",
    "       [6,5,7],\n",
    "      [4,1,8,3]\n",
    "    ]\n",
    "    The minimum path sum from top to bottom is 11 (i.e., 2 + 3 + 5 + 1 = 11)."
   ]
  },
  {
   "cell_type": "code",
   "execution_count": 94,
   "metadata": {},
   "outputs": [],
   "source": [
    "class Solution:\n",
    "    def minimumTotal(self, triangle) -> int:\n",
    "        depth = len(triangle) # 三角形的最大深度\n",
    "        dp = [[0]]\n",
    "        for i in range(1, depth + 1):\n",
    "            dp.append([])\n",
    "            if i == 1: \n",
    "                dp[i].append(triangle[i - 1][0]) # 第一层的数字只有一个\n",
    "            else:\n",
    "                for _ in range(i):\n",
    "                    dp[i].append(float('inf'))\n",
    "                for j in range(i - 1):\n",
    "                    dp[i][j] = min(dp[i - 1][j] + triangle[i - 1][j], dp[i][j])\n",
    "                    dp[i][j + 1] = min(dp[i - 1][j] + triangle[i - 1][j + 1], dp[i][j + 1])\n",
    "        return min(dp[-1])"
   ]
  },
  {
   "cell_type": "code",
   "execution_count": null,
   "metadata": {},
   "outputs": [],
   "source": []
  },
  {
   "cell_type": "code",
   "execution_count": 95,
   "metadata": {},
   "outputs": [
    {
     "data": {
      "text/plain": [
       "11"
      ]
     },
     "execution_count": 95,
     "metadata": {},
     "output_type": "execute_result"
    }
   ],
   "source": [
    "tri = [\n",
    "     [2],\n",
    "    [3,4],\n",
    "   [6,5,7],\n",
    "  [4,1,8,3]\n",
    "]\n",
    "solution = Solution()\n",
    "solution.minimumTotal(tri)"
   ]
  },
  {
   "cell_type": "code",
   "execution_count": null,
   "metadata": {},
   "outputs": [],
   "source": [
    "[[0], \n",
    " [2], \n",
    " [1], \n",
    " [0], \n",
    " [-1]]"
   ]
  }
 ],
 "metadata": {
  "kernelspec": {
   "display_name": "TF2",
   "language": "python",
   "name": "tf2"
  },
  "language_info": {
   "codemirror_mode": {
    "name": "ipython",
    "version": 3
   },
   "file_extension": ".py",
   "mimetype": "text/x-python",
   "name": "python",
   "nbconvert_exporter": "python",
   "pygments_lexer": "ipython3",
   "version": "3.6.2"
  }
 },
 "nbformat": 4,
 "nbformat_minor": 4
}
