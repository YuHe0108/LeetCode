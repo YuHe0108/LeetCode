{
 "cells": [
  {
   "cell_type": "markdown",
   "metadata": {},
   "source": [
    "    给定一个整数数组nums和一个整数k，返回该数组的非空子序列的最大和，\n",
    "    这样子序列中每两个连续整数nums[i]和nums[j]，其中i<j，满足条件j-i<=k。\n",
    "    数组的子序列是通过从数组中删除一定数量的元素（可以是零）来获得的，而剩下的元素则保持原来的顺序。\n",
    "    \n",
    "    例1：\n",
    "        Input: nums = [10,2,-10,5,20], k = 2\n",
    "        Output: 37\n",
    "        Explanation: The subsequence is [10, 2, 5, 20]."
   ]
  },
  {
   "cell_type": "code",
   "execution_count": null,
   "metadata": {},
   "outputs": [],
   "source": []
  },
  {
   "cell_type": "code",
   "execution_count": 1,
   "metadata": {},
   "outputs": [],
   "source": [
    "class Solution:\n",
    "    def constrainedSubsetSum(self, nums, k: int) -> int:\n",
    "        pass"
   ]
  },
  {
   "cell_type": "code",
   "execution_count": 2,
   "metadata": {},
   "outputs": [],
   "source": [
    "nums_ = [10,2,-10,5,20]\n",
    "k_ = 2\n",
    "solution = Solution()\n",
    "solution.constrainedSubsetSum(nums_, k_)"
   ]
  },
  {
   "cell_type": "code",
   "execution_count": null,
   "metadata": {},
   "outputs": [],
   "source": []
  },
  {
   "cell_type": "code",
   "execution_count": null,
   "metadata": {},
   "outputs": [],
   "source": []
  },
  {
   "cell_type": "code",
   "execution_count": null,
   "metadata": {},
   "outputs": [],
   "source": []
  }
 ],
 "metadata": {
  "kernelspec": {
   "display_name": "TF2",
   "language": "python",
   "name": "tf2"
  },
  "language_info": {
   "codemirror_mode": {
    "name": "ipython",
    "version": 3
   },
   "file_extension": ".py",
   "mimetype": "text/x-python",
   "name": "python",
   "nbconvert_exporter": "python",
   "pygments_lexer": "ipython3",
   "version": "3.6.2"
  },
  "toc-showcode": true,
  "toc-showtags": true
 },
 "nbformat": 4,
 "nbformat_minor": 4
}
