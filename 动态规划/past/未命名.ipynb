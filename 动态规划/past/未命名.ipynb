{
 "cells": [
  {
   "cell_type": "raw",
   "metadata": {},
   "source": [
    "    我们在玩猜谜游戏。游戏是这样的：我从1到n中选一个数字，你必须猜猜我选的是哪个数字。\n",
    "    每次你猜错了，我都会告诉你我选的数字是高是低。然而，当你猜错了一个特定的数字x时，你就得付x美元。\n",
    "    当你猜出我选的数字时，你就赢了。\n",
    "    \n",
    "    例1：\n",
    "        n = 10, \n",
    "        I pick 8.\n",
    "        First round:  \n",
    "           You guess 5, I tell you that it's higher. You pay $5.\n",
    "        Second round: \n",
    "            You guess 7, I tell you that it's higher. You pay $7.\n",
    "        Third round:  \n",
    "            You guess 9, I tell you that it's lower. You pay $9.\n",
    "        Game over. 8 is the number I picked. You end up paying $5 + $7 + $9 = $21."
   ]
  },
  {
   "cell_type": "code",
   "execution_count": null,
   "metadata": {},
   "outputs": [],
   "source": []
  }
 ],
 "metadata": {
  "kernelspec": {
   "display_name": "TF2",
   "language": "python",
   "name": "tf2"
  },
  "language_info": {
   "codemirror_mode": {
    "name": "ipython",
    "version": 3
   },
   "file_extension": ".py",
   "mimetype": "text/x-python",
   "name": "python",
   "nbconvert_exporter": "python",
   "pygments_lexer": "ipython3",
   "version": "3.6.2"
  }
 },
 "nbformat": 4,
 "nbformat_minor": 4
}
