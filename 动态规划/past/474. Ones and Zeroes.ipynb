{
 "cells": [
  {
   "cell_type": "markdown",
   "metadata": {},
   "source": [
    "    给定一个数组STR，其字符串仅由0和1组成。还有两个整数m和n，\n",
    "    现在你的任务是找出给定的 m个0 和 n个1 可以组成的最大字符串数量。\n",
    "    从这个数字中找出指定元素，每个0和1最多只能使用一次。\n",
    "    \n",
    "    例1：\n",
    "        Input: strs = [\"10\",\"0001\",\"111001\",\"1\",\"0\"], m = 5, n = 3\n",
    "        Output: 4\n",
    "        Explanation: This are totally 4 strings can be formed by the using of 5 0s and 3 1s, \n",
    "                     which are \"10\",\"0001\",\"1\",\"0\".\n",
    "     例2：\n",
    "         Input: strs = [\"10\",\"0\",\"1\"], m = 1, n = 1\n",
    "         Output: 2\n",
    "         Explanation: You could form \"10\", but then you'd have nothing left. Better form \"0\" and \"1\"."
   ]
  },
  {
   "cell_type": "code",
   "execution_count": 38,
   "metadata": {},
   "outputs": [],
   "source": [
    "class Solution:\n",
    "    def findMaxForm(self, strs, m: int, n: int) -> int:\n",
    "        dp = []\n",
    "        for one in range(m + 1):\n",
    "            dp.append([])\n",
    "            for zero in range(n + 1):\n",
    "                if one == 0 and zero == 0:\n",
    "                    val = 0\n",
    "                elif one - 1 >= 0 and zero - 1 >= 0:\n",
    "                    val = dp[one-1][zero] + dp[one][zero-1]\n",
    "                else:\n",
    "                    st = '1' * one + '0' * zero\n",
    "                    if st in strs:\n",
    "                        val = 1\n",
    "                    else:\n",
    "                        val = 0\n",
    "                dp[one].append(val)\n",
    "        return dp"
   ]
  },
  {
   "cell_type": "code",
   "execution_count": 7,
   "metadata": {},
   "outputs": [],
   "source": [
    "class Solution:\n",
    "    def findMaxForm(self, strs, m: int, n: int) -> int:\n",
    "        # m个0(cols), n个1（rows）\n",
    "        dp = [[0] * (m+1) for _ in range(n+1)]\n",
    "        for st in strs:\n",
    "            st_len = len(st)\n",
    "            st_1 = sum([int(x) for x in st])\n",
    "            st_0 = st_len - st_1\n",
    "            \n",
    "            for one in range(st_1, n+1):\n",
    "                for zero in range(st_0, m+1):\n",
    "                    dp[one][zero] = max(dp[one-st_1][zero-st_0] + 1, dp[one][zero])\n",
    "        print(dp)\n",
    "        return dp[-1][-1]"
   ]
  },
  {
   "cell_type": "code",
   "execution_count": 42,
   "metadata": {},
   "outputs": [],
   "source": [
    "class Solution:\n",
    "    def findMaxForm(self, strs, m: int, n: int) -> int:\n",
    "        ## RC ##\n",
    "\t\t## APPROACH : DP ##\n",
    "\t\t## Similar to Leetcode 416. partition equal subset sum ##\n",
    "\t\t## LOGIC ##\n",
    "\t\t#\t1. This problem can be decomposed to 0/1 Knapsack Problem, where you have n items withh each having its own weight w and own profit p, \n",
    "        #      We have a limitation on maximum weight of the items that we can carry in a bag, so what is the maximum profit that can be achieved within the weight limit of the bag.\n",
    "\t\t#\t2. m, n are the similar to limitations of the bag, strings being with items with weight w\n",
    "\t\t#\t3. Each cell in DP indicates the number of strings that can be achieved with i zeros and j ones. We iterate with all strings and fill the matrix\n",
    "        \n",
    "\t\t## TIME COMPLEXITY : O(Nx(mxn)) ##\n",
    "\t\t## SPACE COMPLEXITY : O(mxn) ##\n",
    "\n",
    "        ## EXAMPLE [\"10\",\"0001\",\"111001\",\"1\",\"0\"] 5 3 ##\n",
    "        ## STACK TRACE ##\n",
    "        # [[0, 0, 0, 0], [0, 1, 1, 1], [0, 1, 1, 1], [0, 1, 1, 1], [0, 1, 1, 1], [0, 1, 1, 1]]\n",
    "        # [[0, 0, 0, 0], [0, 1, 1, 1], [0, 1, 1, 1], [0, 1, 1, 1], [0, 1, 2, 2], [0, 1, 2, 2]]\n",
    "        # [[0, 0, 0, 0], [0, 1, 1, 1], [0, 1, 1, 1], [0, 1, 1, 1], [0, 1, 2, 2], [0, 1, 2, 2]]\n",
    "        # [[0, 1, 1, 1], [0, 1, 2, 2], [0, 1, 2, 2], [0, 1, 2, 2], [0, 1, 2, 3], [0, 1, 2, 3]]\n",
    "        # [[0, 1, 1, 1], [1, 2, 2, 2], [1, 2, 3, 3], [1, 2, 3, 3], [1, 2, 3, 3], [1, 2, 3, 4]]\n",
    "        \n",
    "        ## WATCH OUT FOR LOOPS,\n",
    "        ## 1. We are traversing reverse to prevent sub problem overlapping, consider string \"01\" and m = 5, n = 3 and draw matrix from normal order and in reverse order, you'll understand\n",
    "        ## 2. The lower limit is number of zeros and ones, coz before that you wont find any match\n",
    "        dp = [[ 0 ] * (n+1) for _ in range(m+1)]\n",
    "        for s in strs:\n",
    "            zeros, ones = s.count(\"0\"), s.count(\"1\")\n",
    "            for i in range(m, zeros - 1, -1):\n",
    "                for j in range(n, ones - 1, -1): # ones - 1 --> ones\n",
    "                    dp[i][j] = max( 1 + dp[i - zeros][j- ones], dp[i][j] )\n",
    "        return dp[-1][-1]"
   ]
  },
  {
   "cell_type": "code",
   "execution_count": 43,
   "metadata": {},
   "outputs": [
    {
     "name": "stdout",
     "output_type": "stream",
     "text": [
      "4 2\n",
      "4 1\n",
      "4 0\n",
      "3 2\n",
      "3 1\n",
      "3 0\n",
      "2 2\n",
      "2 1\n",
      "2 0\n",
      "1 2\n",
      "1 1\n",
      "1 0\n",
      "0 2\n",
      "0 1\n",
      "0 0\n"
     ]
    },
    {
     "data": {
      "text/plain": [
       "1"
      ]
     },
     "execution_count": 43,
     "metadata": {},
     "output_type": "execute_result"
    }
   ],
   "source": [
    "strs_ = [\"10\",\"0001\",\"111001\",\"1\",\"0\"]\n",
    "m_ = 5\n",
    "n_ = 3\n",
    "solution = Solution()\n",
    "solution.findMaxForm(strs_, m_, n_)"
   ]
  },
  {
   "cell_type": "code",
   "execution_count": 15,
   "metadata": {},
   "outputs": [
    {
     "data": {
      "text/plain": [
       "[[0, 0, 0, 0, 0, 0],\n",
       " [0, 1, 0, 1, 0, 0],\n",
       " [0, 0, 0, 0, 0, 0],\n",
       " [0, 0, 0, 0, 0, 0]]"
      ]
     },
     "execution_count": 15,
     "metadata": {},
     "output_type": "execute_result"
    }
   ],
   "source": [
    "[[0, 0, 0, 0, 0, 0], \n",
    " [0, 1, 0, 1, 0, 0], \n",
    " [0, 0, 0, 0, 0, 0],\n",
    " [0, 0, 0, 0, 0, 0]]"
   ]
  },
  {
   "cell_type": "code",
   "execution_count": 17,
   "metadata": {},
   "outputs": [
    {
     "name": "stdout",
     "output_type": "stream",
     "text": [
      "10\n",
      "9\n",
      "8\n",
      "7\n",
      "6\n",
      "5\n",
      "4\n",
      "3\n"
     ]
    }
   ],
   "source": [
    "for i in range(10, 2, -1):\n",
    "    print(i)"
   ]
  },
  {
   "cell_type": "code",
   "execution_count": null,
   "metadata": {},
   "outputs": [],
   "source": []
  }
 ],
 "metadata": {
  "kernelspec": {
   "display_name": "TF2",
   "language": "python",
   "name": "tf2"
  },
  "language_info": {
   "codemirror_mode": {
    "name": "ipython",
    "version": 3
   },
   "file_extension": ".py",
   "mimetype": "text/x-python",
   "name": "python",
   "nbconvert_exporter": "python",
   "pygments_lexer": "ipython3",
   "version": "3.6.2"
  }
 },
 "nbformat": 4,
 "nbformat_minor": 4
}
