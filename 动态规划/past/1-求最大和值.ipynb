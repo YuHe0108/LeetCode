{
 "cells": [
  {
   "cell_type": "raw",
   "metadata": {},
   "source": [
    "问题描述：\n",
    "    给定一个数组，从数组中选择元素，选择的元素不能相邻，求选择的元素和最大值为多少\n",
    "\n",
    "例题1：\n",
    "    Input: [1, 2, 4, 1, 7, 8, 3]\n",
    "    Output = [15] --> 1 + 4 + 7 + 3 = 15\n"
   ]
  },
  {
   "cell_type": "markdown",
   "metadata": {},
   "source": [
    "### 利用动态规划的思想解题\n",
    "    给定数组中的元素都有选和不选两个状态，假设OPT(index)代表index位置的最优解,\n",
    "    那么，如果选择了 index=6 的值：3，那么最优解: OPT(index=6)= array[index] + OPT(index=4)\n",
    "    而如果不选择，最优解： OPT(index=6) = OPT(5)\n",
    "    \n",
    "    所以对于index位置的数字，最优解 OPT(index) = max(array[index] + OPT(index - 2), OPT(index-1))\n",
    "    \n",
    "    只有当index=1，OPT(1) = array[1], index=2, OPT(2) = max(array[1], array[2])\n",
    "    \n",
    "    所以要求出每个位置的最优值"
   ]
  },
  {
   "cell_type": "code",
   "execution_count": 9,
   "metadata": {},
   "outputs": [],
   "source": [
    "def opt_max_sum(inputs):\n",
    "    if len(inputs) == 0: return 0\n",
    "    if len(inputs) == 1: return inputs[0]\n",
    "    \n",
    "    opt_ret = len(inputs) * [0]\n",
    "    opt_ret[0] = inputs[0]\n",
    "    opt_ret[1] = max(inputs[0], inputs[1])\n",
    "    for i in range(2, len(inputs)):\n",
    "        a_way = inputs[i] + opt_ret[i - 2]# 选择当前值\n",
    "        b_way = opt_ret[i - 1] # 不选择当前值\n",
    "        opt_ret[i] = max(a_way, b_way)\n",
    "    return opt_ret[-1]"
   ]
  },
  {
   "cell_type": "code",
   "execution_count": 10,
   "metadata": {},
   "outputs": [
    {
     "data": {
      "text/plain": [
       "15"
      ]
     },
     "execution_count": 10,
     "metadata": {},
     "output_type": "execute_result"
    }
   ],
   "source": [
    "inputs = [1, 2, 4, 1, 7, 8, 3]\n",
    "opt_max_sum(inputs)"
   ]
  },
  {
   "cell_type": "code",
   "execution_count": 6,
   "metadata": {},
   "outputs": [
    {
     "data": {
      "text/plain": [
       "4"
      ]
     },
     "execution_count": 6,
     "metadata": {},
     "output_type": "execute_result"
    }
   ],
   "source": [
    "max(2, 3, 4)"
   ]
  },
  {
   "cell_type": "markdown",
   "metadata": {},
   "source": [
    "### 用递归的思想求解"
   ]
  },
  {
   "cell_type": "code",
   "execution_count": 13,
   "metadata": {},
   "outputs": [],
   "source": [
    "def rec_max_sum(inputs, index):\n",
    "    if index == 0: return inputs[0]\n",
    "    if index == 1: return max(inputs[0], inputs[1])\n",
    "    return max(inputs[index] + rec_max_sum(inputs, index - 2), rec_max_sum(inputs, index - 1))"
   ]
  },
  {
   "cell_type": "code",
   "execution_count": 14,
   "metadata": {},
   "outputs": [
    {
     "data": {
      "text/plain": [
       "15"
      ]
     },
     "execution_count": 14,
     "metadata": {},
     "output_type": "execute_result"
    }
   ],
   "source": [
    "rec_max_sum(inputs, 6)"
   ]
  },
  {
   "cell_type": "code",
   "execution_count": null,
   "metadata": {},
   "outputs": [],
   "source": []
  }
 ],
 "metadata": {
  "kernelspec": {
   "display_name": "TF2",
   "language": "python",
   "name": "tf2"
  },
  "language_info": {
   "codemirror_mode": {
    "name": "ipython",
    "version": 3
   },
   "file_extension": ".py",
   "mimetype": "text/x-python",
   "name": "python",
   "nbconvert_exporter": "python",
   "pygments_lexer": "ipython3",
   "version": "3.6.2"
  }
 },
 "nbformat": 4,
 "nbformat_minor": 4
}
