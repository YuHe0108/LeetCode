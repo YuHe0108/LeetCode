{
 "cells": [
  {
   "cell_type": "markdown",
   "metadata": {},
   "source": [
    "    给定n，多少个结构唯一的BST（二进制搜索树）存储值1 ... n？\n",
    "    \n",
    "    BST特点：\n",
    "        1、每个节点的值都大于其左子树的所有节点的值\n",
    "        2、每个节点的值都小于其右子树的所有节点的值\n",
    "        3、每一颗子树也是二分搜索树\n",
    "    \n",
    "    Input: 3\n",
    "    Output: 5\n",
    "    Explanation:\n",
    "    Given n = 3, there are a total of 5 unique BST's:\n",
    "\n",
    "       1         3     3      2      1\n",
    "        \\       /     /      / \\      \\\n",
    "         3     2     1      1   3      2\n",
    "        /     /       \\                 \\\n",
    "       2     1         2                 3"
   ]
  },
  {
   "cell_type": "code",
   "execution_count": 1,
   "metadata": {},
   "outputs": [],
   "source": [
    "class Solution:\n",
    "    def numTrees(self, n) -> int:\n",
    "        pass"
   ]
  },
  {
   "cell_type": "code",
   "execution_count": 4,
   "metadata": {},
   "outputs": [],
   "source": [
    "n_ = 3\n",
    "solution = Solution()\n",
    "solution.numTrees(n_)"
   ]
  },
  {
   "cell_type": "code",
   "execution_count": null,
   "metadata": {},
   "outputs": [],
   "source": []
  }
 ],
 "metadata": {
  "kernelspec": {
   "display_name": "TF2",
   "language": "python",
   "name": "tf2"
  },
  "language_info": {
   "codemirror_mode": {
    "name": "ipython",
    "version": 3
   },
   "file_extension": ".py",
   "mimetype": "text/x-python",
   "name": "python",
   "nbconvert_exporter": "python",
   "pygments_lexer": "ipython3",
   "version": "3.6.2"
  }
 },
 "nbformat": 4,
 "nbformat_minor": 4
}
