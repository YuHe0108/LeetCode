{
 "cells": [
  {
   "cell_type": "markdown",
   "metadata": {},
   "source": [
    "    给定两个单词word1和word2，找到将word1转换为word2所需的最少操作数。\n",
    "    您可以对一个单词进行以下3个操作：\n",
    "    插入一个字符删除一个字符替换一个字符\n",
    "    例1：\n",
    "        Input: \n",
    "            word1 = \"horse\", word2 = \"ros\"\n",
    "        Output: 3\n",
    "            Explanation: \n",
    "            horse -> rorse (replace 'h' with 'r')\n",
    "            rorse -> rose (remove 'r')\n",
    "            rose -> ros (remove 'e')\n",
    "      例2:\n",
    "          Input: \n",
    "              word1 = \"intention\", word2 = \"execution\"\n",
    "          Output: 5\n",
    "                intention -> inention (remove 't')\n",
    "                inention -> enention (replace 'i' with 'e')\n",
    "                enention -> exention (replace 'n' with 'x')\n",
    "                exention -> exection (replace 'n' with 'c')\n",
    "                exection -> execution (insert 'u')"
   ]
  },
  {
   "cell_type": "markdown",
   "metadata": {},
   "source": [
    "![avatar](edit_distance.png)\n",
    "![avatar](solution.jpg)\n",
    "![avatar](ed_distance_1.jpg)"
   ]
  },
  {
   "cell_type": "code",
   "execution_count": 82,
   "metadata": {},
   "outputs": [],
   "source": [
    "class Solution:\n",
    "    def minDistance(self, word1: str, word2: str) -> int:\n",
    "        if len(word1) == 0 or len(word2) == 0: return max(len(word1), len(word2))\n",
    "        # 行是 word1, 列是word2\n",
    "        dp = [[0]  * (len(word2) + 1) for _ in range(len(word1)+1)]\n",
    "        for w_1 in range(len(word1)+1):\n",
    "            for w_2 in range(len(word2)+1):\n",
    "                if w_1 == 0 or w_2 == 0:\n",
    "                    val = max(w_1, w_2)\n",
    "                else:\n",
    "                    if word1[w_1-1] == word2[w_2-1]:\n",
    "                        val = dp[w_1-1][w_2-1]\n",
    "                    else:\n",
    "                        min_val = min(dp[w_1-1][w_2], dp[w_1][w_2-1], dp[w_1-1][w_2-1])\n",
    "                        val = min_val + 1\n",
    "                dp[w_1][w_2] = val\n",
    "        return dp[-1][-1]"
   ]
  },
  {
   "cell_type": "code",
   "execution_count": 83,
   "metadata": {},
   "outputs": [
    {
     "data": {
      "text/plain": [
       "10"
      ]
     },
     "execution_count": 83,
     "metadata": {},
     "output_type": "execute_result"
    }
   ],
   "source": [
    "word_1 = \"zoologicoarchaeologist\"\n",
    "word_2 = \"zoogeologist\"\n",
    "solution = Solution()\n",
    "solution.minDistance(word_1, word_2)"
   ]
  },
  {
   "cell_type": "code",
   "execution_count": 25,
   "metadata": {},
   "outputs": [
    {
     "data": {
      "text/plain": [
       "[[0, 1, 2, 0],\n",
       " [1, 1, 1, 0],\n",
       " [2, 2, 2, 0],\n",
       " [3, 3, 3, 0],\n",
       " [4, 4, 4, 0],\n",
       " [0, 0, 0, 0]]"
      ]
     },
     "execution_count": 25,
     "metadata": {},
     "output_type": "execute_result"
    }
   ],
   "source": [
    "[[0, 1, 2, 3, 4, 5], \n",
    " [1, 1, 2, 3, 4, 5], \n",
    " [2, 2, 1, 1, 2, 3], \n",
    " [3, 3, 1, 1, 2, 3], \n",
    " [4, 3, 2, 2, 2, 3]]"
   ]
  },
  {
   "cell_type": "code",
   "execution_count": null,
   "metadata": {},
   "outputs": [],
   "source": []
  }
 ],
 "metadata": {
  "kernelspec": {
   "display_name": "TF2",
   "language": "python",
   "name": "tf2"
  },
  "language_info": {
   "codemirror_mode": {
    "name": "ipython",
    "version": 3
   },
   "file_extension": ".py",
   "mimetype": "text/x-python",
   "name": "python",
   "nbconvert_exporter": "python",
   "pygments_lexer": "ipython3",
   "version": "3.6.2"
  }
 },
 "nbformat": 4,
 "nbformat_minor": 4
}
