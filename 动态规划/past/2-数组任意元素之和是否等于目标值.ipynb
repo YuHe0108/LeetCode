{
 "cells": [
  {
   "cell_type": "markdown",
   "metadata": {},
   "source": [
    "    问题描述：\n",
    "        给定一个数组和一个目标值，如果数组中的任意元素相加之后可以等于目标值\n",
    "        返回值为True，否则为False\n",
    "    例题：\n",
    "        inputs = [1, 3, 4, 6, 8]\n",
    "        target = 9 --> 1+8, 返回值为True "
   ]
  },
  {
   "cell_type": "markdown",
   "metadata": {},
   "source": [
    "### 动态规划的方法\n",
    "    1、使用二维动态数组，保存中间过程变量。\n",
    "\n",
    "![avatar](dp_array.jpg)"
   ]
  },
  {
   "cell_type": "code",
   "execution_count": 25,
   "metadata": {},
   "outputs": [],
   "source": [
    "import numpy as np"
   ]
  },
  {
   "cell_type": "code",
   "execution_count": 78,
   "metadata": {},
   "outputs": [],
   "source": [
    "def dp_solution(inputs, target):\n",
    "    # 二维动态数组的 row = len(inputs), col = target + 1\n",
    "    states = np.zeros((len(inputs), target + 1), dtype=bool)\n",
    "    states[:, 0] = True\n",
    "    if inputs[0] < = target:\n",
    "        states[0, inputs[0]] = True # 当最后一个元素正好等于 target 的时候为 True\n",
    "    \n",
    "    for i in range(1, len(inputs)):\n",
    "        for j in range(1, target + 1):\n",
    "            if inputs[i] > target:\n",
    "                states[i, j] = states[i - 1, j]\n",
    "            else:\n",
    "                a_way = states[i - 1, j - inputs[i]]\n",
    "                b_way = states[i - 1, j]\n",
    "                states[i, j] = a_way or b_way\n",
    "    print(states)\n",
    "    return states[-1, -1]"
   ]
  },
  {
   "cell_type": "code",
   "execution_count": 79,
   "metadata": {},
   "outputs": [
    {
     "name": "stdout",
     "output_type": "stream",
     "text": [
      "[[ True False False  True False False False False False False]\n",
      " [ True False False  True False False False False False False]\n",
      " [ True False False  True  True False False  True False False]\n",
      " [ True False False  True  True False False  True False False]\n",
      " [ True False  True  True  True  True False  True  True  True]\n",
      " [ True  True  True  True  True  True  True  True  True  True]]\n"
     ]
    },
    {
     "data": {
      "text/plain": [
       "True"
      ]
     },
     "execution_count": 79,
     "metadata": {},
     "output_type": "execute_result"
    }
   ],
   "source": [
    "inputs_ = [3, 34, 4, 12, 5, 2]\n",
    "target_ = 9\n",
    "dp_solution(inputs_, target_)"
   ]
  },
  {
   "cell_type": "markdown",
   "metadata": {},
   "source": [
    "### 递归的方法"
   ]
  },
  {
   "cell_type": "code",
   "execution_count": 19,
   "metadata": {},
   "outputs": [],
   "source": [
    "def rec_solution(inputs, index, target):\n",
    "    if index == 0: # 如果达到最后一位，只需要检查最后一位是否等于target\n",
    "        return inputs[index] == target\n",
    "    elif inputs[index] > target: # 如果当前值大于 当前的target，则不能选择当前值\n",
    "        return rec_solution(inputs, index - 1, target)\n",
    "    elif target == 0: # 如果 target 等于0， 说明之前的数字和已经满足了要求，直接返回True\n",
    "        return True\n",
    "    else:\n",
    "        a_way = rec_solution(inputs, index - 1, target)\n",
    "        b_way = rec_solution(inputs, index - 1, target - inputs[index])\n",
    "        return a_way or b_way"
   ]
  },
  {
   "cell_type": "code",
   "execution_count": 20,
   "metadata": {},
   "outputs": [
    {
     "name": "stdout",
     "output_type": "stream",
     "text": [
      "[0, 0, 0, 0, 0, 0, 0, 0, 0, 0]\n",
      "[0, 0, 0, 0, 0, 0, 0, 0, 0, 0]\n",
      "[0, 0, 0, 0, 0, 0, 0, 0, 0, 0]\n",
      "[0, 0, 0, 0, 0, 0, 0, 0, 0, 0]\n",
      "[0, 0, 0, 0, 0, 0, 0, 0, 0, 0]\n",
      "[0, 0, 0, 0, 0, 0, 0, 0, 0, 0]\n",
      "[[0, 0, 0, 0, 0, 0, 0, 0, 0, 0], [0, 0, 0, 0, 0, 0, 0, 0, 0, 0], [0, 0, 0, 0, 0, 0, 0, 0, 0, 0], [0, 0, 0, 0, 0, 0, 0, 0, 0, 0], [0, 0, 0, 0, 0, 0, 0, 0, 0, 0], [0, 0, 0, 0, 0, 0, 0, 0, 0, 0]]\n"
     ]
    }
   ],
   "source": [
    "inputs_ = [3, 34, 4, 12, 5, 2]\n",
    "target_ = 9\n",
    "# rec_solution(inputs_, len(inputs_) - 1, target_)\n",
    "dp_solution(inputs_, target_)"
   ]
  },
  {
   "cell_type": "code",
   "execution_count": null,
   "metadata": {},
   "outputs": [],
   "source": [
    "   "
   ]
  }
 ],
 "metadata": {
  "kernelspec": {
   "display_name": "TF2",
   "language": "python",
   "name": "tf2"
  },
  "language_info": {
   "codemirror_mode": {
    "name": "ipython",
    "version": 3
   },
   "file_extension": ".py",
   "mimetype": "text/x-python",
   "name": "python",
   "nbconvert_exporter": "python",
   "pygments_lexer": "ipython3",
   "version": "3.6.2"
  }
 },
 "nbformat": 4,
 "nbformat_minor": 4
}
