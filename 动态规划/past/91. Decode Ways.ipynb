{
 "cells": [
  {
   "cell_type": "markdown",
   "metadata": {},
   "source": [
    "    包含A-Z字母的消息正在使用以下映射编码为数字：\n",
    "    'A' -> 1\n",
    "    'B' -> 2\n",
    "    ...\n",
    "    'Z' -> 26\n",
    "    给定一个只包含数字的非空字符串，确定解码方法的总数。\n",
    "    \n",
    "    例1：\n",
    "        Input: \"12\"\n",
    "        Output: 2\n",
    "        Explanation: It could be decoded as \"AB\" (1 2) or \"L\" (12).\n",
    "    例2：\n",
    "        Input: \"226\"\n",
    "        Output: 3\n",
    "        Explanation: It could be decoded as \"BZ\" (2 26), \"VF\" (22 6), or \"BBF\" (2 2 6)."
   ]
  },
  {
   "cell_type": "code",
   "execution_count": 71,
   "metadata": {},
   "outputs": [],
   "source": [
    "class Solution:\n",
    "    def numDecodings(self, s: str) -> int:\n",
    "        n = len(s)\n",
    "        if n == 0: \n",
    "            return 0\n",
    "        elif n == 1: \n",
    "            return 1 if self.is_supper_chr(s[0]) else 0\n",
    "        \n",
    "        dp = [0 for _ in range(n + 1)]\n",
    "        dp[0] = 1 if self.is_supper_chr(s[0]) else 0 # 判断第一个字母是不是在 1-26 之间\n",
    "        dp[1] = dp[0] if self.is_supper_chr(s[1]) else 0 \n",
    "        \n",
    "        for i in range(2, n + 1):\n",
    "            dp[i - 1] = 0 if s[i - 1] == '0' else dp[i - 1]\n",
    "            dp[i] = dp[i - 1] + dp[i - 2] if self.is_supper_chr(s[i - 2:i]) else dp[i - 1]\n",
    "        return dp[-1]\n",
    "        \n",
    "    def is_supper_chr(self, s):\n",
    "        return chr(int(s) + 64).isupper()"
   ]
  },
  {
   "cell_type": "code",
   "execution_count": null,
   "metadata": {},
   "outputs": [],
   "source": []
  },
  {
   "cell_type": "code",
   "execution_count": 72,
   "metadata": {},
   "outputs": [
    {
     "name": "stdout",
     "output_type": "stream",
     "text": [
      "[1, 1, 0, 0]\n"
     ]
    },
    {
     "data": {
      "text/plain": [
       "3"
      ]
     },
     "execution_count": 72,
     "metadata": {},
     "output_type": "execute_result"
    }
   ],
   "source": [
    "s_ = '226'\n",
    "solution = Solution()\n",
    "solution.numDecodings(s_)"
   ]
  },
  {
   "cell_type": "code",
   "execution_count": null,
   "metadata": {},
   "outputs": [],
   "source": []
  },
  {
   "cell_type": "code",
   "execution_count": null,
   "metadata": {},
   "outputs": [],
   "source": []
  },
  {
   "cell_type": "code",
   "execution_count": 55,
   "metadata": {},
   "outputs": [
    {
     "data": {
      "text/plain": [
       "True"
      ]
     },
     "execution_count": 55,
     "metadata": {},
     "output_type": "execute_result"
    }
   ],
   "source": [
    "chr(2+64).isupper()"
   ]
  },
  {
   "cell_type": "code",
   "execution_count": 58,
   "metadata": {},
   "outputs": [
    {
     "ename": "ValueError",
     "evalue": "invalid literal for int() with base 10: 'a'",
     "output_type": "error",
     "traceback": [
      "\u001b[1;31m---------------------------------------------------------------------------\u001b[0m",
      "\u001b[1;31mValueError\u001b[0m                                Traceback (most recent call last)",
      "\u001b[1;32m<ipython-input-58-233884bacd4e>\u001b[0m in \u001b[0;36m<module>\u001b[1;34m()\u001b[0m\n\u001b[1;32m----> 1\u001b[1;33m \u001b[0mint\u001b[0m\u001b[1;33m(\u001b[0m\u001b[1;34m'a'\u001b[0m\u001b[1;33m)\u001b[0m\u001b[1;33m\u001b[0m\u001b[0m\n\u001b[0m",
      "\u001b[1;31mValueError\u001b[0m: invalid literal for int() with base 10: 'a'"
     ]
    }
   ],
   "source": []
  },
  {
   "cell_type": "code",
   "execution_count": null,
   "metadata": {},
   "outputs": [],
   "source": []
  }
 ],
 "metadata": {
  "kernelspec": {
   "display_name": "TF2",
   "language": "python",
   "name": "tf2"
  },
  "language_info": {
   "codemirror_mode": {
    "name": "ipython",
    "version": 3
   },
   "file_extension": ".py",
   "mimetype": "text/x-python",
   "name": "python",
   "nbconvert_exporter": "python",
   "pygments_lexer": "ipython3",
   "version": "3.6.2"
  }
 },
 "nbformat": 4,
 "nbformat_minor": 4
}
