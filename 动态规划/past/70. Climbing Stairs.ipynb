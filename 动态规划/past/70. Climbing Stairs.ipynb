{
 "cells": [
  {
   "cell_type": "markdown",
   "metadata": {},
   "source": [
    "    你在爬楼梯。它需要n步才能到达顶端。\n",
    "    每次你可以爬1到2步。你能用多少种不同的方式爬到顶端？\n",
    "\n",
    "    例1：\n",
    "        Input: 2\n",
    "        Output: 2\n",
    "        Explanation: There are two ways to climb to the top.\n",
    "        1. 1 step + 1 step\n",
    "        2. 2 steps\n",
    "    例2：\n",
    "        Input: 3\n",
    "        Output: 3\n",
    "        Explanation: There are three ways to climb to the top.\n",
    "        1. 1 step + 1 step + 1 step\n",
    "        2. 1 step + 2 steps\n",
    "        3. 2 steps + 1 step"
   ]
  },
  {
   "cell_type": "code",
   "execution_count": 42,
   "metadata": {},
   "outputs": [],
   "source": [
    "class Solution:\n",
    "    def climbStairs(self, n: int) -> int:\n",
    "        opts = [0] * (n + 1)\n",
    "        for i in range(n + 1):\n",
    "            if i in [0, 1]:\n",
    "                opts[i] = 1\n",
    "            else:\n",
    "                one_step = opts[i - 1]\n",
    "                two_step = opts[i - 2] \n",
    "                opts[i] = one_step + two_step\n",
    "        return opts"
   ]
  },
  {
   "cell_type": "code",
   "execution_count": 44,
   "metadata": {},
   "outputs": [
    {
     "data": {
      "text/plain": [
       "[1, 1, 2]"
      ]
     },
     "execution_count": 44,
     "metadata": {},
     "output_type": "execute_result"
    }
   ],
   "source": [
    "n_ = 2\n",
    "solution = Solution()\n",
    "solution.climbStairs(n_)"
   ]
  },
  {
   "cell_type": "code",
   "execution_count": null,
   "metadata": {},
   "outputs": [],
   "source": []
  }
 ],
 "metadata": {
  "kernelspec": {
   "display_name": "TF2",
   "language": "python",
   "name": "tf2"
  },
  "language_info": {
   "codemirror_mode": {
    "name": "ipython",
    "version": 3
   },
   "file_extension": ".py",
   "mimetype": "text/x-python",
   "name": "python",
   "nbconvert_exporter": "python",
   "pygments_lexer": "ipython3",
   "version": "3.6.2"
  }
 },
 "nbformat": 4,
 "nbformat_minor": 4
}
