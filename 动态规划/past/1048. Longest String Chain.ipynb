{
 "cells": [
  {
   "cell_type": "markdown",
   "metadata": {},
   "source": [
    "    给出一个单词列表，每个单词由英文小写字母组成。\n",
    "    假设 word1 是 word 2的前身当且仅当我们可以在 word1 中的任意位置添加一个字母使其等于word2。\n",
    "    例如，“abc”是“abac”的前身。\n",
    "    词链是k>=1的一系列单词[单词_1，单词_2，…，单词_k]，\n",
    "    其中单词_1是单词_2的前身，单词_2是单词_3的前置词，依此类推。返回从给定单词列表中选择单词的单词链的最长可能长度。\n",
    "    \n",
    "    例1：\n",
    "        Input: [\"a\",\"b\",\"ba\",\"bca\",\"bda\",\"bdca\"]\n",
    "        Output: 4\n",
    "        Explanation: one of the longest word chain is \"a\",\"ba\",\"bda\",\"bdca\"."
   ]
  },
  {
   "cell_type": "raw",
   "metadata": {},
   "source": [
    "1、相差一个单词, 比较是只差一个单词就可以组成较长的单词,只有满足仅差一个字母的条件时，才能拼接，\n",
    "2、即： 比较短的单词组成的字母，一定要在 长单词中\n",
    "3、如果下一个单词的长度 与 前一个单词长度相差两个以上，肯定不行, 直接跳过"
   ]
  },
  {
   "cell_type": "code",
   "execution_count": 111,
   "metadata": {},
   "outputs": [],
   "source": [
    "class Solution:\n",
    "    def longestStrChain(self, words) -> int:\n",
    "        if len(words) == 1: return 1\n",
    "        words = sorted(words, key=lambda x: len(x))\n",
    "        dp = [[0]] * len(words)\n",
    "        max_len = 0\n",
    "        for i in range(1, len(words)):\n",
    "            dp[i] = [words[i - 1]]\n",
    "            temp = [words[i - 1]]\n",
    "            for j in range(i, len(words)):\n",
    "                cur_len = len(temp[-1]) # 前一个单词的长度\n",
    "                next_len = len(words[j]) # 下一个单词的长度\n",
    "                if cur_len + 1 == next_len and self.helper(temp[-1], words[j]):\n",
    "                    temp += [words[j]]\n",
    "            dp[i] = temp\n",
    "        for i in dp:\n",
    "            if len(i) > max_len:\n",
    "                max_len = len(i)\n",
    "        return max_len\n",
    "    \n",
    "    def helper(self, word_1, word_2):\n",
    "        word_1 = list(word_1)\n",
    "        word_2 = list(word_2)\n",
    "        for word in word_1:\n",
    "            if word in word_2:\n",
    "                word_2.remove(word)\n",
    "            else:\n",
    "                return False\n",
    "        return True"
   ]
  },
  {
   "cell_type": "code",
   "execution_count": 32,
   "metadata": {},
   "outputs": [],
   "source": [
    "class Solution:\n",
    "    def longestStrChain(self, words):\n",
    "        dp = {}\n",
    "        for w in sorted(words, key=len):\n",
    "            tmp = [0]\n",
    "            for i in range(len(w)):\n",
    "                if w[:i] + w[i + 1:] in dp:\n",
    "                    tmp.append(dp[w[:i] + w[i+1:]])\n",
    "                dp[w] = max(tmp) + 1\n",
    "        print(dp)\n",
    "        return max(dp.values())"
   ]
  },
  {
   "cell_type": "code",
   "execution_count": 33,
   "metadata": {},
   "outputs": [
    {
     "name": "stdout",
     "output_type": "stream",
     "text": [
      "{'a': 1, 'b': 1, 'ba': 2, 'bca': 3, 'bda': 3, 'bdca': 4, 'abcde': 1}\n"
     ]
    },
    {
     "data": {
      "text/plain": [
       "4"
      ]
     },
     "execution_count": 33,
     "metadata": {},
     "output_type": "execute_result"
    }
   ],
   "source": [
    "words_ = [\"a\",\"b\",\"ba\",\"bca\",\"bda\",\"bdca\", 'abcde']\n",
    "solution = Solution()\n",
    "solution.longestStrChain(words_)"
   ]
  },
  {
   "cell_type": "code",
   "execution_count": 124,
   "metadata": {},
   "outputs": [
    {
     "data": {
      "text/plain": [
       "('czvh', 'zczvh', 'zcpzvh', 'zczpzvh', 'zczpzvhx', 'zczpzvdhx', 'zczpzfvdhx')"
      ]
     },
     "execution_count": 124,
     "metadata": {},
     "output_type": "execute_result"
    }
   ],
   "source": [
    "\"czvh\",\"zczvh\", \"zcpzvh\",\"zczpzvh\", \"zczpzvhx\", \"zczpzvdhx\",\"zczpzfvdhx\""
   ]
  },
  {
   "cell_type": "code",
   "execution_count": 134,
   "metadata": {},
   "outputs": [
    {
     "name": "stdout",
     "output_type": "stream",
     "text": [
      "[3]\n"
     ]
    }
   ],
   "source": [
    "a = [1, 2, 3]\n",
    "print(a[2:])"
   ]
  },
  {
   "cell_type": "code",
   "execution_count": 41,
   "metadata": {},
   "outputs": [],
   "source": [
    "class Solution:\n",
    "    def longestStrChain(self, words) -> int:\n",
    "        words = sorted(words, key=lambda x:len(x))\n",
    "        dp = {}\n",
    "        max_len = 0\n",
    "        for word in words:\n",
    "            w_len = len(word)\n",
    "            dp[word] = 1\n",
    "            for i in range(w_len):\n",
    "                sub_word = word[:i] + word[i+1:]\n",
    "                if sub_word in dp:\n",
    "                    dp[word] = max(dp[sub_word] + 1, dp[word])\n",
    "        return max(dp.values())"
   ]
  },
  {
   "cell_type": "code",
   "execution_count": 42,
   "metadata": {},
   "outputs": [
    {
     "data": {
      "text/plain": [
       "7"
      ]
     },
     "execution_count": 42,
     "metadata": {},
     "output_type": "execute_result"
    }
   ],
   "source": [
    "words_ = [\"ksqvsyq\",\"ks\",\"kss\",\"czvh\",\"zczpzvdhx\",\"zczpzvh\",\"zczpzvhx\",\"zcpzvh\",\"zczvh\",\"gr\",\"grukmj\",\"ksqvsq\",\"gruj\",\"kssq\",\"ksqsq\",\"grukkmj\",\"grukj\",\"zczpzfvdhx\",\"gru\"]\n",
    "solution = Solution()\n",
    "solution.longestStrChain(words_)"
   ]
  },
  {
   "cell_type": "code",
   "execution_count": null,
   "metadata": {},
   "outputs": [],
   "source": []
  }
 ],
 "metadata": {
  "kernelspec": {
   "display_name": "TF2",
   "language": "python",
   "name": "tf2"
  },
  "language_info": {
   "codemirror_mode": {
    "name": "ipython",
    "version": 3
   },
   "file_extension": ".py",
   "mimetype": "text/x-python",
   "name": "python",
   "nbconvert_exporter": "python",
   "pygments_lexer": "ipython3",
   "version": "3.6.2"
  }
 },
 "nbformat": 4,
 "nbformat_minor": 4
}
