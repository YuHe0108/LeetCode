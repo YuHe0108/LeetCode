{
 "cells": [
  {
   "cell_type": "markdown",
   "metadata": {},
   "source": [
    "    问题描述：\n",
    "        给定一组不同的正整数，找出最长的子集，使该子集中的每对元素（Si，Sj）\n",
    "        满足：Si%Sj=0或Sj%Si=0。如果有多个解决方案，返回任何子集都可以。\n",
    "     \n",
    "     例1：\n",
    "         Input: [1,2,3]\n",
    "        Output: [1,2] (of course, [1,3] will also be ok)\n",
    "     例2：\n",
    "         Input: [1,2,4,8]\n",
    "         Output: [1,2,4,8]\n",
    "     \n",
    "     数学理论：\n",
    "         [x1, x2, ……, xn] 每个数都可以满足互相整除的条件，并且 x1 < x2 …… < xn,\n",
    "         那么如果来一个新数字 X, X % xn == 0, 那么就可以将 X 加入至原来的数组中。"
   ]
  },
  {
   "cell_type": "code",
   "execution_count": null,
   "metadata": {},
   "outputs": [],
   "source": [
    "                                                                                                                                                                                                                                                                                                                                                                                "
   ]
  },
  {
   "cell_type": "code",
   "execution_count": 16,
   "metadata": {},
   "outputs": [],
   "source": [
    "class Solution:\n",
    "    def largestDivisibleSubset(self, nums):\n",
    "        # 除了 1, 其他的数字都是偶数，或者都是奇数, \n",
    "        # 反例：\n",
    "        # [4,8,10,240]\n",
    "        even_result = []\n",
    "        odd_result = []\n",
    "        for num in nums:\n",
    "            if num == 1:\n",
    "                even_result.append(num)\n",
    "                odd_result.append(num)\n",
    "            elif num % 2 == 1:\n",
    "                odd_result.append(num)\n",
    "            elif num % 2 == 0:\n",
    "                even_result.append(num)\n",
    "        return even_result if len(even_result) > len(odd_result) else odd_result"
   ]
  },
  {
   "cell_type": "code",
   "execution_count": 81,
   "metadata": {},
   "outputs": [],
   "source": [
    "class Solution:\n",
    "    def largestDivisibleSubset(self, nums):\n",
    "        # dp 的字眼，当前值选还是不选，对结果会产生影响\n",
    "        if len(nums) == 0: return nums\n",
    "        nums.sort()\n",
    "        dp = [[] for i in range(len(nums))]\n",
    "        dp[0].append(nums[0])\n",
    "        \n",
    "        for i in range(1, len(nums)):\n",
    "            val = nums[i]\n",
    "            tem_res = [val] \n",
    "            for j in range(i):\n",
    "                # 使用当前值 % 上一个subset中最大的数，如果取余为0，则可以加入该数字\n",
    "                if val % dp[j][-1] == 0 and len(dp[j]) + 1 > len(tem_res):\n",
    "                    tem_res = dp[j] + [val]\n",
    "            dp[i] = tem_res\n",
    "        \n",
    "        #  选择所有选择中的最大值\n",
    "        res = []\n",
    "        for arr in dp:\n",
    "            if len(arr) > len(res):\n",
    "                res = arr\n",
    "        return res"
   ]
  },
  {
   "cell_type": "code",
   "execution_count": 116,
   "metadata": {},
   "outputs": [],
   "source": [
    "class Solution:\n",
    "    def largestDivisibleSubset(self, nums):\n",
    "        nums.sort()\n",
    "        dp = [[] for _ in range(len(nums))]\n",
    "        dp[0] = [nums[0]]\n",
    "        for i in range(1, len(nums)):\n",
    "            val = nums[i]\n",
    "            res = [val]\n",
    "            for j in range(i):\n",
    "                if val % dp[j][-1] == 0 and len(dp[j]) + 1 > len(res):\n",
    "                    res = dp[j] + [val]\n",
    "            dp[i] = res\n",
    "        \n",
    "        res = []\n",
    "        for re in dp:\n",
    "            if len(re) > len(res):\n",
    "                res = re\n",
    "        return res    "
   ]
  },
  {
   "cell_type": "code",
   "execution_count": 117,
   "metadata": {},
   "outputs": [
    {
     "data": {
      "text/plain": [
       "[1, 2, 4, 8]"
      ]
     },
     "execution_count": 117,
     "metadata": {},
     "output_type": "execute_result"
    }
   ],
   "source": [
    "nums_ = [1, 2, 4, 8]\n",
    "solution = Solution()\n",
    "solution.largestDivisibleSubset(nums_)"
   ]
  },
  {
   "cell_type": "code",
   "execution_count": null,
   "metadata": {},
   "outputs": [],
   "source": []
  },
  {
   "cell_type": "code",
   "execution_count": null,
   "metadata": {},
   "outputs": [],
   "source": []
  }
 ],
 "metadata": {
  "kernelspec": {
   "display_name": "TF2",
   "language": "python",
   "name": "tf2"
  },
  "language_info": {
   "codemirror_mode": {
    "name": "ipython",
    "version": 3
   },
   "file_extension": ".py",
   "mimetype": "text/x-python",
   "name": "python",
   "nbconvert_exporter": "python",
   "pygments_lexer": "ipython3",
   "version": "3.6.2"
  }
 },
 "nbformat": 4,
 "nbformat_minor": 4
}
