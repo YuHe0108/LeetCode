{
 "cells": [
  {
   "cell_type": "markdown",
   "metadata": {},
   "source": [
    "    您是计划在街道上抢劫房屋的职业强盗。每栋房屋都藏有一定数量的钱，\n",
    "    阻止您抢劫每座房屋的唯一限制是相邻房屋都已连接了安全系统，\n",
    "    如果在同一晚闯入两栋相邻房屋，它将自动与警方联系。给定代表每个房屋的金额的非负整数列表，\n",
    "    请确定您今晚可以在不通知警察的情况下抢走的最大金额。\n",
    "    \n",
    "    例1：\n",
    "        Input: nums = [1,2,3,1]\n",
    "        Output: 4\n",
    "        Explanation: Rob house 1 (money = 1) and then rob house 3 (money = 3).\n",
    "                     Total amount you can rob = 1 + 3 = 4.\n",
    "    例2：\n",
    "        Input: nums = [2,7,9,3,1]\n",
    "        Output: 12\n",
    "        Explanation: Rob house 1 (money = 2), rob house 3 (money = 9) and rob house 5 (money = 1).\n",
    "                     Total amount you can rob = 2 + 9 + 1 = 12."
   ]
  },
  {
   "cell_type": "code",
   "execution_count": 9,
   "metadata": {},
   "outputs": [],
   "source": [
    "class Solution:\n",
    "    def rob(self, nums) -> int:\n",
    "        if len(nums) == 0: return 0\n",
    "        if len(nums) == 1 and nums[0] == 0: return 0\n",
    "        dp = [0] * (len(nums) + 1)\n",
    "        for i in range(len(nums)):\n",
    "            # 偷或者不偷: 背包问题\n",
    "            dp[i+1] = 0\n",
    "            for j in range(i, len(nums)):\n",
    "                if j + 2 <= len(nums)\n",
    "                    s_way = max(nums[j+2] + dp[i], dp[i])\n",
    "                n_way = max(nums[i])\n",
    "\n",
    "            dp[i+1] = max(stole, not_stole)\n",
    "        print(dp)\n",
    "        return dp[-1]"
   ]
  },
  {
   "cell_type": "code",
   "execution_count": 55,
   "metadata": {},
   "outputs": [],
   "source": [
    "class Solution:\n",
    "    def rob(self, nums) -> int:\n",
    "        if len(nums) == 0: return 0\n",
    "        if len(nums) == 1 and nums[0] == 0: return 0\n",
    "        dp = [0] * (len(nums) + 1)\n",
    "        dp[1] = nums[0]\n",
    "        for i in range(2, len(nums)+1):\n",
    "            s_way = dp[i-2] + nums[i-1]\n",
    "            n_way = dp[i-1]\n",
    "            dp[i] = max(s_way, n_way)\n",
    "        return dp[-1]"
   ]
  },
  {
   "cell_type": "code",
   "execution_count": 57,
   "metadata": {},
   "outputs": [
    {
     "name": "stdout",
     "output_type": "stream",
     "text": [
      "[0, 2, 7, 11, 11, 12]\n"
     ]
    },
    {
     "data": {
      "text/plain": [
       "12"
      ]
     },
     "execution_count": 57,
     "metadata": {},
     "output_type": "execute_result"
    }
   ],
   "source": [
    "nums_ =  [2,7,9,3,1]\n",
    "solution = Solution()\n",
    "solution.rob(nums_)"
   ]
  },
  {
   "cell_type": "code",
   "execution_count": null,
   "metadata": {},
   "outputs": [],
   "source": []
  }
 ],
 "metadata": {
  "kernelspec": {
   "display_name": "TF2",
   "language": "python",
   "name": "tf2"
  },
  "language_info": {
   "codemirror_mode": {
    "name": "ipython",
    "version": 3
   },
   "file_extension": ".py",
   "mimetype": "text/x-python",
   "name": "python",
   "nbconvert_exporter": "python",
   "pygments_lexer": "ipython3",
   "version": "3.6.2"
  }
 },
 "nbformat": 4,
 "nbformat_minor": 4
}
