{
 "cells": [
  {
   "cell_type": "markdown",
   "metadata": {},
   "source": [
    "    给定一个正整数n，找出最小数量的完全平方数(例如，1，4，9，16，...)总和是n。\n",
    "    1、组成的数字可以开平方\n",
    "    2、组成的数字之和等于 n\n",
    "    3、要求组成的数字要最少\n",
    "    例1：\n",
    "        Input: n = 12\n",
    "        Output: 3 \n",
    "        Explanation: 12 = 4 + 4 + 4.\n",
    "    例2：\n",
    "        Input: n = 13\n",
    "        Output: 2\n",
    "        Explanation: 13 = 4 + 9."
   ]
  },
  {
   "cell_type": "code",
   "execution_count": 14,
   "metadata": {},
   "outputs": [],
   "source": [
    "from math import sqrt\n",
    "\n",
    "class Solution:\n",
    "    def numSquares(self, n: int) -> int:\n",
    "        # 1、1-n之间的数字可以开平方根的数字都有可能选或者不选\n",
    "        dp = [0] * (n + 1)\n",
    "        dp[1] = 1\n",
    "        for i in range(2, n + 1):\n",
    "            if self.helper(i):\n",
    "                dp[i] = 1\n",
    "            else:\n",
    "                a_way = dp[i - 1] + 1\n",
    "                b_way = float('inf')\n",
    "                for j in range(1, int(sqrt(i)) + 1):\n",
    "                    val = pow(j, 2)\n",
    "                    b_way = min(b_way, dp[i - val] + 1)\n",
    "                dp[i] = min(a_way, b_way)\n",
    "        return dp[-1]\n",
    "    \n",
    "    def helper(self, value):\n",
    "        if pow(int(sqrt(value)), 2) == value:\n",
    "            return True\n",
    "        return False"
   ]
  },
  {
   "cell_type": "code",
   "execution_count": 15,
   "metadata": {},
   "outputs": [
    {
     "data": {
      "text/plain": [
       "3"
      ]
     },
     "execution_count": 15,
     "metadata": {},
     "output_type": "execute_result"
    }
   ],
   "source": [
    "n_ = 6110\n",
    "solution = Solution()\n",
    "solution.numSquares(n_)\n",
    "# solution.helper(1)"
   ]
  },
  {
   "cell_type": "code",
   "execution_count": null,
   "metadata": {},
   "outputs": [],
   "source": []
  },
  {
   "cell_type": "code",
   "execution_count": null,
   "metadata": {},
   "outputs": [],
   "source": []
  },
  {
   "cell_type": "code",
   "execution_count": null,
   "metadata": {},
   "outputs": [],
   "source": []
  },
  {
   "cell_type": "code",
   "execution_count": null,
   "metadata": {},
   "outputs": [],
   "source": []
  }
 ],
 "metadata": {
  "kernelspec": {
   "display_name": "TF2",
   "language": "python",
   "name": "tf2"
  },
  "language_info": {
   "codemirror_mode": {
    "name": "ipython",
    "version": 3
   },
   "file_extension": ".py",
   "mimetype": "text/x-python",
   "name": "python",
   "nbconvert_exporter": "python",
   "pygments_lexer": "ipython3",
   "version": "3.6.2"
  }
 },
 "nbformat": 4,
 "nbformat_minor": 4
}
