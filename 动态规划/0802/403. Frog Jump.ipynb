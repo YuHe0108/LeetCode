{
 "cells": [
  {
   "cell_type": "raw",
   "metadata": {},
   "source": [
    "一只青蛙穿过河。\n",
    "河流分为x个单位，每个单位可能存在或可能不存在石头。青蛙可以跳到石头上，但不能跳入水中。\n",
    "给定石头位置（以单位为升序）的列表，\n",
    "确定青蛙是否能够通过降落在最后一块石头上来渡河。\n",
    "最初，青蛙在第一块石头上，并假设第一跳必须为1个单位。\n",
    "如果青蛙的最后跳跃是k个单位，那么它的下一个跳跃必须是k-1，k或k+1个单位。请注意，青蛙只能向前跳。 \n",
    "\n",
    "例1：\n",
    "    [0,1,3,5,6,8,12,17]\n",
    "\n",
    "    There are a total of 8 stones.\n",
    "    The first stone at the 0th unit, second stone at the 1st unit,\n",
    "    third stone at the 3rd unit, and so on...\n",
    "    The last stone at the 17th unit.\n",
    "\n",
    "    Return true. The frog can jump to the last stone by jumping \n",
    "    1 unit to the 2nd stone, then 2 units to the 3rd stone, then \n",
    "    2 units to the 4th stone, then 3 units to the 6th stone, \n",
    "    4 units to the 7th stone, and 5 units to the 8th stone.\n",
    "    \n",
    "例2：\n",
    "    [0,1,2,3,4,8,9,11]\n",
    "    Return false. There is no way to jump to the last stone as \n",
    "    the gap between the 5th and 6th stone is too large."
   ]
  },
  {
   "cell_type": "code",
   "execution_count": 68,
   "metadata": {},
   "outputs": [],
   "source": [
    "class Solution:\n",
    "    def canCross(self, stones) -> bool:\n",
    "        if stones[1] > 1: return False\n",
    "        dp = [False] * len(stones)\n",
    "        dp[0] = True # 在0号石头上\n",
    "        dp[1] = True # 第 1 次跳 1 次\n",
    "        \n",
    "        cur_step = [0, 1, 0]\n",
    "        for i in range(2, len(stones)):\n",
    "            # stones[i] - 1、stones[i]、stones[i] + 1\n",
    "            for step in cur_step:\n",
    "                if step + stones[i-1] == stones[i]:\n",
    "                    dp[i] = True\n",
    "                    cur_step = [step-1, step, step+1]\n",
    "                    break\n",
    "            \n",
    "            if dp[i] is False:\n",
    "                max_step = stones[i] - stones[i-1]\n",
    "                if max_step - 1 < cur_step[1] - 1:\n",
    "                    return False\n",
    "                cur_step = [max_step-1, max_step, max_step+1]\n",
    "                dp[i] = True\n",
    "        print(dp)\n",
    "        return dp[-1]"
   ]
  },
  {
   "cell_type": "code",
   "execution_count": 3,
   "metadata": {},
   "outputs": [],
   "source": [
    "class Solution:\n",
    "    def canCross(self, stones) -> bool:\n",
    "        dp = [False] * len(stones)\n",
    "        dp[0] = True\n",
    "        steps_took = [set() for i in range(len(stones))] # 记录了青蛙跳在每个石头上的可能出发点距离\n",
    "        steps_took[0].add(0) # 第0个石头没有跳，所以为：0\n",
    "        for i in range(1, len(stones)):\n",
    "            for j in range(i-1, -1, -1):\n",
    "                if dp[j]:\n",
    "                    st_need = stones[i] - stones[j]\n",
    "                    steps_need = [st_need - 1, st_need, st_need + 1]\n",
    "                    if any(st in steps_took[j] for st in steps_need):\n",
    "                        steps_took[i].add(st_need)\n",
    "                        dp[i] = True\n",
    "        print(dp)\n",
    "        print(steps_took)\n",
    "        return dp[-1]"
   ]
  },
  {
   "cell_type": "code",
   "execution_count": 4,
   "metadata": {},
   "outputs": [
    {
     "name": "stdout",
     "output_type": "stream",
     "text": [
      "[True, True, True, True, True, True, True, True]\n",
      "[{0}, {1}, {2}, {2}, {1, 3}, {2, 3}, {4}, {5}]\n"
     ]
    },
    {
     "data": {
      "text/plain": [
       "True"
      ]
     },
     "execution_count": 4,
     "metadata": {},
     "output_type": "execute_result"
    }
   ],
   "source": [
    "stones_ = [0,1,3,5,6,8,12,17]\n",
    "solution = Solution()\n",
    "solution.canCross(stones_)"
   ]
  },
  {
   "cell_type": "code",
   "execution_count": 93,
   "metadata": {},
   "outputs": [
    {
     "name": "stdout",
     "output_type": "stream",
     "text": [
      "True\n"
     ]
    }
   ],
   "source": [
    "a = [1, 2, 3]\n",
    "b = [1, 2, 3, 4]\n",
    "print(any(x in b for x in a))"
   ]
  },
  {
   "cell_type": "code",
   "execution_count": 10,
   "metadata": {},
   "outputs": [],
   "source": [
    "class Solution:\n",
    "    def canCross(self, stones) -> bool:\n",
    "        dp = [False] * len(stones)\n",
    "        dp[0] = True\n",
    "        steps_took = [set() for _ in range(len(stones))]\n",
    "        steps_took[0].add(0) # 第一块石头跳 0 步\n",
    "        for i in range(1, len(stones)):\n",
    "            for j in range(i-1, -1, -1): # 从 第 i 个石头之前的石头能否跳到第 i 个石头\n",
    "                if dp[j]:\n",
    "                    # 从第j个石头跳到第 i 个石头，需要的步数\n",
    "                    jump_step = stones[i] - stones[j]\n",
    "                    # 跳到第 j 个石头，需要的步数只要满足 当前步的-1 、或者+1，都可以\n",
    "                    step_range = [jump_step - 1, jump_step, jump_step + 1] \n",
    "                    if any(st in steps_took[j] for st in step_range):\n",
    "                        steps_took[i].add(jump_step)\n",
    "                        dp[i] = True\n",
    "        return dp[-1]"
   ]
  },
  {
   "cell_type": "code",
   "execution_count": 11,
   "metadata": {},
   "outputs": [
    {
     "data": {
      "text/plain": [
       "True"
      ]
     },
     "execution_count": 11,
     "metadata": {},
     "output_type": "execute_result"
    }
   ],
   "source": [
    "stones_ = [0,1,3,5,6,8,12,17]\n",
    "solution = Solution()\n",
    "solution.canCross(stones_)"
   ]
  },
  {
   "cell_type": "code",
   "execution_count": null,
   "metadata": {},
   "outputs": [],
   "source": []
  },
  {
   "cell_type": "code",
   "execution_count": null,
   "metadata": {},
   "outputs": [],
   "source": []
  }
 ],
 "metadata": {
  "kernelspec": {
   "display_name": "TF2",
   "language": "python",
   "name": "tf2"
  },
  "language_info": {
   "codemirror_mode": {
    "name": "ipython",
    "version": 3
   },
   "file_extension": ".py",
   "mimetype": "text/x-python",
   "name": "python",
   "nbconvert_exporter": "python",
   "pygments_lexer": "ipython3",
   "version": "3.6.2"
  }
 },
 "nbformat": 4,
 "nbformat_minor": 4
}
