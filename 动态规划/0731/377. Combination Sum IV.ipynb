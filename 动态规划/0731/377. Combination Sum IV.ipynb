{
 "cells": [
  {
   "cell_type": "raw",
   "metadata": {},
   "source": [
    "    给定一个具有所有正数且没有重复项的整数数组，请找到加总正整数目标的可能组合数。\n",
    "    \n",
    "    例1：\n",
    "        nums = [1, 2, 3]，target = 4\n",
    "\n",
    "    The possible combination ways are:\n",
    "        (1, 1, 1, 1)\n",
    "        (1, 1, 2)\n",
    "        (1, 2, 1)\n",
    "        (1, 3)\n",
    "        (2, 1, 1)\n",
    "        (2, 2)\n",
    "        (3, 1)\n",
    "\n",
    "    Note that different sequences are counted as different combinations.\n",
    "    Therefore the output is 7."
   ]
  },
  {
   "cell_type": "code",
   "execution_count": 16,
   "metadata": {},
   "outputs": [],
   "source": [
    "class Solution:\n",
    "    def combinationSum4(self, nums, target: int) -> int:\n",
    "        nums.sort()\n",
    "        dp = [[0] * (target + 1) for _ in range(len(nums) + 1)]\n",
    "        for i in range(1, len(nums) + 1):\n",
    "            for j in range(1, target + 1):\n",
    "                if nums[i-1] == j:\n",
    "                    val = dp[i-1][j] + 1\n",
    "                elif nums[i-1] < j: # 当前的nums\n",
    "                    pass\n",
    "                else:\n",
    "                    val = dp[i-1][j]\n",
    "                dp[i][j] = val\n",
    "        print(dp)"
   ]
  },
  {
   "cell_type": "code",
   "execution_count": 24,
   "metadata": {},
   "outputs": [],
   "source": [
    "class Solution:\n",
    "    def combinationSum4(self, nums, target: int) -> int:\n",
    "        dp = [0] * (target + 1)\n",
    "        dp[0] = 1\n",
    "        for i in range(1, target + 1):\n",
    "            for n in nums:\n",
    "                if n <= i: # 当前值小于目标值\n",
    "                    dp[i] += dp[i-n]\n",
    "        return dp[-1]"
   ]
  },
  {
   "cell_type": "code",
   "execution_count": 27,
   "metadata": {},
   "outputs": [
    {
     "name": "stdout",
     "output_type": "stream",
     "text": [
      "1 1 0\n",
      "2 1 1\n",
      "2 2 0\n",
      "3 1 2\n",
      "3 2 1\n",
      "3 3 0\n",
      "4 1 3\n",
      "4 2 2\n",
      "4 3 1\n",
      "4 4 0\n",
      "[1, 1, 2, 4, 8]\n"
     ]
    },
    {
     "data": {
      "text/plain": [
       "8"
      ]
     },
     "execution_count": 27,
     "metadata": {},
     "output_type": "execute_result"
    }
   ],
   "source": [
    "nums_ = [1,2,3,4]\n",
    "target_ = 4\n",
    "solution = Solution()\n",
    "solution.combinationSum4(nums_, target_)"
   ]
  },
  {
   "cell_type": "code",
   "execution_count": null,
   "metadata": {},
   "outputs": [],
   "source": []
  },
  {
   "cell_type": "code",
   "execution_count": null,
   "metadata": {},
   "outputs": [],
   "source": []
  }
 ],
 "metadata": {
  "kernelspec": {
   "display_name": "TF2",
   "language": "python",
   "name": "tf2"
  },
  "language_info": {
   "codemirror_mode": {
    "name": "ipython",
    "version": 3
   },
   "file_extension": ".py",
   "mimetype": "text/x-python",
   "name": "python",
   "nbconvert_exporter": "python",
   "pygments_lexer": "ipython3",
   "version": "3.6.2"
  }
 },
 "nbformat": 4,
 "nbformat_minor": 4
}
