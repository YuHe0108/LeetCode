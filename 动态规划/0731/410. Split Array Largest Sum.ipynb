{
 "cells": [
  {
   "cell_type": "raw",
   "metadata": {},
   "source": [
    "    给定一个由非负整数和整数m组成的数组，您可以将该数组拆分为m个非空连续子数组。\n",
    "    编写算法以最小化这m个子数组中的最大和。注意：如果n是数组的长度，则假定满足以下约束：1≤n≤1000 1≤m≤min（50，n）\n",
    "    \n",
    "    例1：\n",
    "        Input: nums = [7,2,5,10,8],m = 2\n",
    "        Output: 18\n",
    "        Explanation:\n",
    "            There are four ways to split nums into two subarrays.\n",
    "            The best way is to split it into [7,2,5] and [10,8],\n",
    "            where the largest sum among the two subarrays is only 18."
   ]
  },
  {
   "cell_type": "code",
   "execution_count": null,
   "metadata": {},
   "outputs": [],
   "source": []
  },
  {
   "cell_type": "code",
   "execution_count": 1,
   "metadata": {},
   "outputs": [],
   "source": [
    "class Solution:\n",
    "    def splitArray(self, nums, m: int) -> int:\n",
    "        if len(nums) <= m: return max(nums)\n",
    "        dp = [0] * (m + 1)\n",
    "        nums.sort()\n",
    "        \n",
    "        for i in range(len(nums)):\n",
    "            for j in range(m):\n",
    "                pass\n",
    "        print(dp)\n",
    "        return dp[-1]"
   ]
  },
  {
   "cell_type": "code",
   "execution_count": 2,
   "metadata": {},
   "outputs": [
    {
     "name": "stdout",
     "output_type": "stream",
     "text": [
      "[2, 5, 7, 8, 10]\n",
      "[0, 0, 0]\n"
     ]
    },
    {
     "data": {
      "text/plain": [
       "0"
      ]
     },
     "execution_count": 2,
     "metadata": {},
     "output_type": "execute_result"
    }
   ],
   "source": [
    "nums_ = [7,2,5,10,8]\n",
    "m_ = 2\n",
    "solution = Solution()\n",
    "solution.splitArray(nums_, m_)"
   ]
  },
  {
   "cell_type": "code",
   "execution_count": null,
   "metadata": {},
   "outputs": [],
   "source": []
  }
 ],
 "metadata": {
  "kernelspec": {
   "display_name": "TF2",
   "language": "python",
   "name": "tf2"
  },
  "language_info": {
   "codemirror_mode": {
    "name": "ipython",
    "version": 3
   },
   "file_extension": ".py",
   "mimetype": "text/x-python",
   "name": "python",
   "nbconvert_exporter": "python",
   "pygments_lexer": "ipython3",
   "version": "3.6.2"
  }
 },
 "nbformat": 4,
 "nbformat_minor": 4
}
