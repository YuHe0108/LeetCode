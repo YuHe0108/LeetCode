{
 "cells": [
  {
   "cell_type": "raw",
   "metadata": {},
   "source": [
    "最初在记事本上只有一个字符“a”。对于每个步骤，您可以在此记事本上执行两个操作：\n",
    "    1、全部复制：可以复制记事本上的所有字符（不允许部分复制）。\n",
    "    2、粘贴：可以粘贴上次复制的字符。\n",
    "    给定一个数字n。\n",
    "    你必须通过执行允许的最小步骤数在记事本上得到精确的n'a'。输出得到n'A'的最小步数。\n",
    "\n",
    "例1：\n",
    "    Input: 3\n",
    "    Output: 3\n",
    "    Explanation:\n",
    "    Intitally, we have one character 'A'.\n",
    "    In step 1, we use Copy All operation.\n",
    "    In step 2, we use Paste operation to get 'AA'.\n",
    "    In step 3, we use Paste operation to get 'AAA'."
   ]
  },
  {
   "cell_type": "code",
   "execution_count": 21,
   "metadata": {},
   "outputs": [],
   "source": [
    "class Solution:\n",
    "    def minSteps(self, n: int) -> int:\n",
    "        if n <= 1: return 0\n",
    "        if n == 2: return 1\n",
    "        \n",
    "        dp = [float('inf')] * (n+1) # 表示获得第 i 个 A最少要多少步骤\n",
    "        dp[1] = 0\n",
    "        dp[2] = 2\n",
    "        for i in range(3, n+1):\n",
    "            for j in range(1, i):\n",
    "                print(i, j, i - j)\n",
    "                if (i - j) % j == 0:\n",
    "                    dp[i] = min(dp[i], dp[j] + 1 + (i-j)//j)\n",
    "        print(dp)\n",
    "        return dp[-1]"
   ]
  },
  {
   "cell_type": "code",
   "execution_count": 45,
   "metadata": {},
   "outputs": [],
   "source": [
    "class Solution:\n",
    "    def minSteps(self, n: int) -> int:\n",
    "        if n <= 1: return 0\n",
    "        if n == 2: return 2\n",
    "        dp = [float('inf')]  * (n + 1)\n",
    "        dp[1] = 0\n",
    "        for i in range(2, n+1):\n",
    "            for j in range(2, i+1):\n",
    "                # i是有多少个‘A’, j 是分成多少份\n",
    "                # 比如 i = 6, \n",
    "                # 表示合成六个A的方法： 6 % 2 == 0， k = 3, 表示用 dp[3] 复制再粘贴一下就是6: dp[3] + 复制 + j - 1 \n",
    "                # 表示分成3份： 6 % 3 == 0, k = 2\n",
    "                # 如果都不能整除，就只能一个个加\n",
    "                if i % j == 0:\n",
    "                    k = i // j\n",
    "                    dp[i] = min(dp[i], dp[k] + 1 + j - 1)\n",
    "        print(dp)\n",
    "        return dp[-1]"
   ]
  },
  {
   "cell_type": "code",
   "execution_count": 46,
   "metadata": {},
   "outputs": [
    {
     "name": "stdout",
     "output_type": "stream",
     "text": [
      "2 2\n",
      "3 2\n",
      "3 3\n",
      "[inf, 0, 2, 3]\n"
     ]
    },
    {
     "data": {
      "text/plain": [
       "3"
      ]
     },
     "execution_count": 46,
     "metadata": {},
     "output_type": "execute_result"
    }
   ],
   "source": [
    "n_ = 3\n",
    "solution = Solution()\n",
    "solution.minSteps(n_)"
   ]
  },
  {
   "cell_type": "code",
   "execution_count": null,
   "metadata": {},
   "outputs": [],
   "source": []
  },
  {
   "cell_type": "code",
   "execution_count": null,
   "metadata": {},
   "outputs": [],
   "source": []
  }
 ],
 "metadata": {
  "kernelspec": {
   "display_name": "TF2",
   "language": "python",
   "name": "tf2"
  },
  "language_info": {
   "codemirror_mode": {
    "name": "ipython",
    "version": 3
   },
   "file_extension": ".py",
   "mimetype": "text/x-python",
   "name": "python",
   "nbconvert_exporter": "python",
   "pygments_lexer": "ipython3",
   "version": "3.6.2"
  }
 },
 "nbformat": 4,
 "nbformat_minor": 4
}
