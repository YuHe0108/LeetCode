{
 "cells": [
  {
   "cell_type": "raw",
   "metadata": {},
   "source": [
    "    您会得到n对数字。在每对中，第一个数字始终小于第二个数字。\n",
    "    现在，我们定义一个对（c，d）在且仅当b <c时可以跟随另一个对（a，b）。\n",
    "    成对链可以以此方式形成。给定一组对，找到可以形成的最长链。您不需要用完所有给定的对。您可以按任何顺序选择对。\n",
    "    \n",
    "    例1：\n",
    "        Input: [[1,2], [2,3], [3,4]]\n",
    "        Output: 2\n",
    "        Explanation: The longest chain is [1,2] -> [3,4]\n",
    "        [a,b] -> [c, d] = [1, 2] -> [3, 4], b < c: 2 < 3"
   ]
  },
  {
   "cell_type": "code",
   "execution_count": 53,
   "metadata": {},
   "outputs": [],
   "source": [
    "class Solution:\n",
    "    def findLongestChain(self, pairs) -> int:\n",
    "        pairs = sorted(pairs, key=lambda x: x[1])\n",
    "        if len(pairs) <= 1: return len(pairs)\n",
    "        dp = pairs.copy()\n",
    "        print(dp)\n",
    "        for i in range(1, len(pairs)):\n",
    "            for j in range(i, len(pairs)):\n",
    "                a, b = dp[i-1][-2], dp[i-1][-1]\n",
    "                c, d = pairs[j]\n",
    "                if b < c:\n",
    "                    dp[i-1] += [c, d]\n",
    "        print(dp)\n",
    "        return max(len(x)//2 for x in dp)"
   ]
  },
  {
   "cell_type": "code",
   "execution_count": 55,
   "metadata": {},
   "outputs": [
    {
     "name": "stdout",
     "output_type": "stream",
     "text": [
      "[[1, 2], [2, 4], [5, 6], [7, 8]]\n",
      "[[1, 2, 5, 6, 7, 8], [2, 4, 5, 6, 7, 8], [5, 6, 7, 8], [7, 8]]\n"
     ]
    },
    {
     "data": {
      "text/plain": [
       "3"
      ]
     },
     "execution_count": 55,
     "metadata": {},
     "output_type": "execute_result"
    }
   ],
   "source": [
    "nums_ = [[1,2], [2,4],[5,6],[7,8]]\n",
    "solution = Solution()\n",
    "solution.findLongestChain(nums_)"
   ]
  },
  {
   "cell_type": "code",
   "execution_count": null,
   "metadata": {},
   "outputs": [],
   "source": []
  }
 ],
 "metadata": {
  "kernelspec": {
   "display_name": "TF2",
   "language": "python",
   "name": "tf2"
  },
  "language_info": {
   "codemirror_mode": {
    "name": "ipython",
    "version": 3
   },
   "file_extension": ".py",
   "mimetype": "text/x-python",
   "name": "python",
   "nbconvert_exporter": "python",
   "pygments_lexer": "ipython3",
   "version": "3.6.2"
  }
 },
 "nbformat": 4,
 "nbformat_minor": 4
}
