{
 "cells": [
  {
   "cell_type": "raw",
   "metadata": {},
   "source": [
    "    给定字符串s，找到最长回文子序列的长度s。您可以假设s的最大长度为1000。\n",
    "    例1：\n",
    "        Input: \"bbbab\"\n",
    "        Output: 4 --> bbbb\n",
    "    例2：\n",
    "        Input: \"cbbd\"\n",
    "        Output: 2: -->bb"
   ]
  },
  {
   "cell_type": "code",
   "execution_count": 86,
   "metadata": {},
   "outputs": [],
   "source": [
    "class Solution:\n",
    "    def longestPalindromeSubseq(self, s: str) -> int:\n",
    "        if len(s) == 1: return 1\n",
    "        dp = [0] * len(s)\n",
    "        dp[0] = 1\n",
    "        for i in range(1, len(s)):\n",
    "            for j in range(i):\n",
    "                if s[i] == s[j]:\n",
    "                    max_val = max(dp[j:i])\n",
    "                    if max_val > 1:\n",
    "                        for k in range(j, i):\n",
    "                            dis = i - k - 1\n",
    "                            dp[i] = max(dp[i], dp[j] + 1 + dis)\n",
    "                    else:\n",
    "                        dp[i] = max(dp[i], dp[j] + 1)\n",
    "                else:\n",
    "                    dp[i] = dp[i-1]\n",
    "        print(dp)\n",
    "        return max(dp)"
   ]
  },
  {
   "cell_type": "markdown",
   "metadata": {},
   "source": [
    "![avatar](516_longest.jpg)"
   ]
  },
  {
   "cell_type": "code",
   "execution_count": 127,
   "metadata": {},
   "outputs": [],
   "source": [
    "class Solution:\n",
    "    def longestPalindromeSubseq(self, s: str) -> int:\n",
    "        if len(s) == 1: return 1\n",
    "        # 通过构建二维的动态数组\n",
    "        dp = [[0] * len(s) for _ in range(len(s))]\n",
    "        for i in range(len(s)):\n",
    "            dp[i][i] = 1\n",
    "        \n",
    "        for gap in range(2, len(s)+1):\n",
    "            for start in range(len(s) + 1 - gap):\n",
    "                end = start + gap - 1\n",
    "                if s[start] == s[end]:\n",
    "                    val = 2 + dp[start+1][end-1]\n",
    "                else:\n",
    "                    val = max(dp[start+1][end], dp[start][end-1])\n",
    "                dp[start][end] = val\n",
    "        return dp[0][-1]"
   ]
  },
  {
   "cell_type": "code",
   "execution_count": 129,
   "metadata": {},
   "outputs": [
    {
     "name": "stdout",
     "output_type": "stream",
     "text": [
      "0 1\n",
      "1 2\n",
      "0 2\n",
      "[[1, 2, 3], [0, 1, 2], [0, 0, 1]]\n"
     ]
    },
    {
     "data": {
      "text/plain": [
       "3"
      ]
     },
     "execution_count": 129,
     "metadata": {},
     "output_type": "execute_result"
    }
   ],
   "source": [
    "s_ = 'bbb'\n",
    "solution = Solution()\n",
    "solution.longestPalindromeSubseq(s_)"
   ]
  },
  {
   "cell_type": "code",
   "execution_count": null,
   "metadata": {},
   "outputs": [],
   "source": [
    "[[1, 1, 1, 1, 3, 5], \n",
    " [0, 1, 1, 1, 3, 3], \n",
    " [0, 0, 1, 1, 3, 3], \n",
    " [0, 0, 0, 1, 1, 1], \n",
    " [0, 0, 0, 0, 1, 1], \n",
    " [0, 0, 0, 0, 0, 1]]"
   ]
  },
  {
   "cell_type": "code",
   "execution_count": null,
   "metadata": {},
   "outputs": [],
   "source": []
  }
 ],
 "metadata": {
  "kernelspec": {
   "display_name": "TF2",
   "language": "python",
   "name": "tf2"
  },
  "language_info": {
   "codemirror_mode": {
    "name": "ipython",
    "version": 3
   },
   "file_extension": ".py",
   "mimetype": "text/x-python",
   "name": "python",
   "nbconvert_exporter": "python",
   "pygments_lexer": "ipython3",
   "version": "3.6.2"
  }
 },
 "nbformat": 4,
 "nbformat_minor": 4
}
