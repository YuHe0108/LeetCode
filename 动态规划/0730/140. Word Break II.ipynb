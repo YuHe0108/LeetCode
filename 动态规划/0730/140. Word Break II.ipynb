{
 "cells": [
  {
   "cell_type": "raw",
   "metadata": {},
   "source": [
    "给定一个非空字符串s和一个包含非空单词列表的字典wordDict，\n",
    "在s中添加空格来构造一个句子，其中每个单词都是有效的字典单词。\n",
    "返回所有可能的句子。\n",
    "注：词典中的同一个词在分词时可能会多次重复使用。你可以假设字典里没有重复的单词。 \n",
    "\n",
    "例1：\n",
    "    Input: s = \"catsanddog\"\n",
    "    wordDict = [\"cat\", \"cats\", \"and\", \"sand\", \"dog\"]\n",
    "    Output:\n",
    "            [\n",
    "              \"cats and dog\",\n",
    "              \"cat sand dog\"\n",
    "            ]\n",
    "例2\n",
    "   Input:\n",
    "        s = \"pineapplepenapple\"\n",
    "        wordDict = [\"apple\", \"pen\", \"applepen\", \"pine\", \"pineapple\"]\n",
    "   Output:\n",
    "        [\n",
    "          \"pine apple pen apple\",\n",
    "          \"pineapple pen apple\",\n",
    "          \"pine applepen apple\"\n",
    "        ]\n",
    "        Explanation: Note that you are allowed to reuse a dictionary word.\n",
    "例3：\n",
    "    Input:\n",
    "        s = \"catsandog\"\n",
    "        wordDict = [\"cats\", \"dog\", \"sand\", \"and\", \"cat\"]\n",
    "    Output: []"
   ]
  },
  {
   "cell_type": "code",
   "execution_count": 15,
   "metadata": {},
   "outputs": [],
   "source": [
    "class Solution:\n",
    "    def wordBreak(self, s: str, wordDict):\n",
    "        dp = [False] * (len(s) + 1)\n",
    "        dp[0] = True\n",
    "        result = []\n",
    "        for i in range(1, len(s_) + 1):\n",
    "            for j in range(i):\n",
    "                sub_s = s_[j:i]\n",
    "                if dp[j] and sub_s in wordDict:\n",
    "                    dp[i] = True\n",
    "                    result.append(sub_s)\n",
    "        print(result)\n",
    "        return "
   ]
  },
  {
   "cell_type": "code",
   "execution_count": 16,
   "metadata": {},
   "outputs": [
    {
     "name": "stdout",
     "output_type": "stream",
     "text": [
      "['cat', 'cats', 'sand', 'and', 'dog']\n"
     ]
    }
   ],
   "source": [
    "s_ = \"catsanddog\"\n",
    "wordDict_ = [\"cat\", \"cats\", \"and\", \"sand\", \"dog\"]\n",
    "solution = Solution()\n",
    "solution.wordBreak(s_, wordDict_)"
   ]
  },
  {
   "cell_type": "code",
   "execution_count": null,
   "metadata": {},
   "outputs": [],
   "source": []
  }
 ],
 "metadata": {
  "kernelspec": {
   "display_name": "TF2",
   "language": "python",
   "name": "tf2"
  },
  "language_info": {
   "codemirror_mode": {
    "name": "ipython",
    "version": 3
   },
   "file_extension": ".py",
   "mimetype": "text/x-python",
   "name": "python",
   "nbconvert_exporter": "python",
   "pygments_lexer": "ipython3",
   "version": "3.6.2"
  }
 },
 "nbformat": 4,
 "nbformat_minor": 4
}
