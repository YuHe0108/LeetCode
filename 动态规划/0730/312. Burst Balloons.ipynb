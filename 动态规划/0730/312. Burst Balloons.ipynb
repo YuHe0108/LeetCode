{
 "cells": [
  {
   "cell_type": "raw",
   "metadata": {},
   "source": [
    "给定n个气球，索引从0到n-1。每个气球上都涂有一个数字，该数字由数组num表示。\n",
    "要求您爆破所有气球。如果您爆破气球i，您将获得nums [left] * nums [i] * nums [right]个硬币\n",
    "。这里的左和右是i的相邻索引。爆发后，左右会相邻。明智地爆破气球，找到可以收集的最大硬币数。\n",
    "\n",
    "例1：\n",
    "    Input: [3,1,5,8]\n",
    "    Output: 167 \n",
    "    Explanation: nums = [3,1,5,8] --> [3,5,8] -->   [3,8]   -->  [8]  --> []\n",
    "                 coins =  3*1*5      +  3*5*8    +  1*3*8      + 1*8*1   = 167\n"
   ]
  },
  {
   "cell_type": "code",
   "execution_count": 28,
   "metadata": {},
   "outputs": [],
   "source": [
    "class Solution:\n",
    "    def maxCoins(self, nums) -> int:\n",
    "        # dp[i][j] means the maximum coins we get after we burst all the balloons between i and j in the original array.\n",
    "        # between i and j means not include i and j, which means j-i >= 2 (let gap = j-i >=2)\n",
    "        # DP: dp[i][j] = max(nums[i]*nums[k]*nums[j] + dp[i][k] + dp[k][j])(k in (i,j)]   Note: i<k<j\n",
    "        nums = [1] + nums + [1]\n",
    "        dp = [[0] * len(nums) for _ in range(len(nums))]\n",
    "        \n",
    "        print(nums)\n",
    "        for gap in range(2, len(nums)):\n",
    "            for start in range(len(nums) - gap):\n",
    "                end = gap + start\n",
    "                # 用 k 表示 start 与 end 之间的中间值\n",
    "                for med in range(start+1, end):\n",
    "                    dp[start][end] = max(dp[start][end], nums[start]*nums[med]*nums[end] + dp[start][med] + dp[med][end])\n",
    "        print(dp)\n",
    "        return dp[0][-1]"
   ]
  },
  {
   "cell_type": "code",
   "execution_count": 29,
   "metadata": {},
   "outputs": [
    {
     "name": "stdout",
     "output_type": "stream",
     "text": [
      "[1, 3, 1, 5, 8, 1]\n",
      "[[0, 0, 3, 30, 159, 167], [0, 0, 0, 15, 135, 159], [0, 0, 0, 0, 40, 48], [0, 0, 0, 0, 0, 40], [0, 0, 0, 0, 0, 0], [0, 0, 0, 0, 0, 0]]\n"
     ]
    },
    {
     "data": {
      "text/plain": [
       "167"
      ]
     },
     "execution_count": 29,
     "metadata": {},
     "output_type": "execute_result"
    }
   ],
   "source": [
    "nums_ = [3,1,5,8]\n",
    "solution = Solution()\n",
    "solution.maxCoins(nums_)"
   ]
  },
  {
   "cell_type": "code",
   "execution_count": 15,
   "metadata": {},
   "outputs": [],
   "source": [
    "class Solution:\n",
    "    def maxCoins(self, nums) -> int:\n",
    "        nums = [1] + nums + [1]\n",
    "        print(nums)\n",
    "        # [i, j] 表示从第i个到第j个爆破最多获得多少硬币\n",
    "        dp = [[0] * len(nums) for _ in range(len(nums))]\n",
    "        for gap in range(2, len(nums)):\n",
    "            for start in range(len(nums) - gap):\n",
    "                end = start + gap\n",
    "                for med in range(start+1, end):\n",
    "                    dp[start][end] = max(dp[start][end], dp[start][med] + nums[start]*nums[med]*nums[end] + dp[med][end])\n",
    "        print(dp)\n",
    "        return dp[0][-1]"
   ]
  },
  {
   "cell_type": "code",
   "execution_count": 16,
   "metadata": {},
   "outputs": [
    {
     "name": "stdout",
     "output_type": "stream",
     "text": [
      "[1, 3, 1, 5, 8, 1]\n",
      "[[0, 0, 3, 30, 159, 167], [0, 0, 0, 15, 135, 159], [0, 0, 0, 0, 40, 48], [0, 0, 0, 0, 0, 40], [0, 0, 0, 0, 0, 0], [0, 0, 0, 0, 0, 0]]\n"
     ]
    },
    {
     "data": {
      "text/plain": [
       "167"
      ]
     },
     "execution_count": 16,
     "metadata": {},
     "output_type": "execute_result"
    }
   ],
   "source": [
    "nums_ = [3,1,5,8]\n",
    "solution = Solution()\n",
    "solution.maxCoins(nums_)"
   ]
  },
  {
   "cell_type": "code",
   "execution_count": null,
   "metadata": {},
   "outputs": [],
   "source": [
    "[[0, 0, 0, 0, 0, 0], \n",
    " [0, 0, 0, 0, 0, 0], \n",
    " [0, 0, 0, 0, 0, 0], \n",
    " [0, 0, 0, 0, 0, 0], \n",
    " [0, 0, 0, 0, 0, 0], \n",
    " [0, 0, 0, 0, 0, 0]]\n"
   ]
  }
 ],
 "metadata": {
  "kernelspec": {
   "display_name": "TF2",
   "language": "python",
   "name": "tf2"
  },
  "language_info": {
   "codemirror_mode": {
    "name": "ipython",
    "version": 3
   },
   "file_extension": ".py",
   "mimetype": "text/x-python",
   "name": "python",
   "nbconvert_exporter": "python",
   "pygments_lexer": "ipython3",
   "version": "3.6.2"
  }
 },
 "nbformat": 4,
 "nbformat_minor": 4
}
