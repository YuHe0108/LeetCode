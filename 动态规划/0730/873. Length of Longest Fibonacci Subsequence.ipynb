{
 "cells": [
  {
   "cell_type": "raw",
   "metadata": {},
   "source": [
    "一个序列X_1，X_2，…，X_n是类斐波纳契的如果：n>=3 X i X{i1}=X{i2}对于所有的i2<=n，\n",
    "给定一个严格递增的正整数数组A，求A的最长类斐波那契子序列的长度。如果不存在，则返回0。（\n",
    "回想一下，子序列是从另一个序列a派生的，方法是从a中删除任意数量的元素（包括无），而不改变其余元素的顺序。\n",
    "例如，[3，5，8]是[3，4，5，6，7，8]的子序列。）\n",
    "\n",
    "例1：\n",
    "    Input: [1,2,3,4,5,6,7,8]\n",
    "    Output: 5\n",
    "    Explanation:\n",
    "    The longest subsequence that is fibonacci-like: [1,2,3,5,8].\n",
    "\n",
    "例2：\n",
    "    Input: [1,3,7,11,12,14,18]\n",
    "    Output: 3\n",
    "    Explanation:\n",
    "    The longest subsequence that is fibonacci-like:\n",
    "    [1,11,12], [3,11,14] or [7,11,18]."
   ]
  },
  {
   "cell_type": "code",
   "execution_count": 54,
   "metadata": {},
   "outputs": [],
   "source": [
    "class Solution:\n",
    "    def lenLongestFibSubseq(self, A) -> int:\n",
    "        result = 0\n",
    "        for i in range(len(A)-1):\n",
    "            for j in range(i+1, len(A)-1):\n",
    "                count = 2\n",
    "                a, b = A[i], A[j]\n",
    "                print(a, b)\n",
    "                while a + b in A:\n",
    "                    a, b = b, a+b\n",
    "                    count += 1\n",
    "                    result = max(result, count)\n",
    "        return result if result > 2 else 0"
   ]
  },
  {
   "cell_type": "code",
   "execution_count": 102,
   "metadata": {},
   "outputs": [],
   "source": [
    "class Solution:\n",
    "    def lenLongestFibSubseq(self, A) -> int:\n",
    "        val_index = {x:i for i, x in enumerate(A)}\n",
    "        len_A = len(A)\n",
    "        # dp table is the length of longest fb ends with A[i], A[j]\n",
    "        result = 0\n",
    "        dp = [[2 for _ in range(len_A)] for _ in range(len_A)]\n",
    "        for end in range(len_A):\n",
    "            for start in range(end):\n",
    "                possible_pre = A[end] - A[start]\n",
    "                if possible_pre in val_index and possible_pre < A[start]:\n",
    "                    # start 相当于中间值， possible_pre 最前面的值\n",
    "                    dp[end][start] = dp[start][val_index[possible_pre]] + 1\n",
    "                    result = max(result, dp[end][start])\n",
    "        print(dp)\n",
    "        return result if result >= 3 else 0"
   ]
  },
  {
   "cell_type": "code",
   "execution_count": 103,
   "metadata": {},
   "outputs": [
    {
     "name": "stdout",
     "output_type": "stream",
     "text": [
      "1 0\n",
      "2\n",
      "2 0\n",
      "2\n",
      "2 1\n",
      "3\n",
      "3 0\n",
      "2\n",
      "[[2, 2, 2, 2, 2], [2, 2, 2, 2, 2], [2, 3, 2, 2, 2], [2, 2, 3, 2, 2], [2, 2, 4, 3, 2]]\n"
     ]
    },
    {
     "data": {
      "text/plain": [
       "4"
      ]
     },
     "execution_count": 103,
     "metadata": {},
     "output_type": "execute_result"
    }
   ],
   "source": [
    "A_ = [1,2,3,4,5]\n",
    "solution = Solution()\n",
    "solution.lenLongestFibSubseq(A_)"
   ]
  },
  {
   "cell_type": "code",
   "execution_count": 93,
   "metadata": {},
   "outputs": [
    {
     "data": {
      "text/plain": [
       "[[2, 2, 2, 2, 2, 2, 2, 2, 2, 2, 2, 2],\n",
       " [2, 2, 2, 2, 2, 2, 2, 2, 2, 2, 2, 2],\n",
       " [2, 2, 2, 2, 2, 2, 2, 2, 2, 2, 2, 2],\n",
       " [2, 2, 2, 2, 2, 2, 2, 2, 2, 2, 2, 2],\n",
       " [2, 2, 3, 2, 2, 2, 2, 2, 2, 2, 2, 2],\n",
       " [2, 2, 2, 3, 2, 2, 2, 2, 2, 2, 2, 2],\n",
       " [2, 2, 2, 2, 2, 3, 2, 2, 2, 2, 2, 2],\n",
       " [2, 2, 2, 3, 2, 2, 2, 2, 2, 2, 2, 2],\n",
       " [2, 2, 2, 2, 2, 4, 3, 2, 2, 2, 2, 2],\n",
       " [2, 2, 2, 2, 2, 2, 3, 4, 2, 2, 2, 2],\n",
       " [2, 2, 2, 2, 2, 2, 2, 2, 4, 3, 2, 2],\n",
       " [2, 2, 2, 2, 2, 2, 2, 2, 2, 2, 5, 2]]"
      ]
     },
     "execution_count": 93,
     "metadata": {},
     "output_type": "execute_result"
    }
   ],
   "source": [
    "[[2, 2, 2, 2, 2], \n",
    " [2, 2, 2, 2, 2], \n",
    " [2, 3, 2, 2, 2], \n",
    " [2, 2, 3, 2, 2], \n",
    " [2, 2, 4, 3, 2]]"
   ]
  },
  {
   "cell_type": "code",
   "execution_count": null,
   "metadata": {},
   "outputs": [],
   "source": []
  }
 ],
 "metadata": {
  "kernelspec": {
   "display_name": "TF2",
   "language": "python",
   "name": "tf2"
  },
  "language_info": {
   "codemirror_mode": {
    "name": "ipython",
    "version": 3
   },
   "file_extension": ".py",
   "mimetype": "text/x-python",
   "name": "python",
   "nbconvert_exporter": "python",
   "pygments_lexer": "ipython3",
   "version": "3.6.2"
  }
 },
 "nbformat": 4,
 "nbformat_minor": 4
}
