{
 "cells": [
  {
   "cell_type": "raw",
   "metadata": {},
   "source": [
    "说明：\n",
    "    传送带上的包裹必须在 D 天内从一个港口运送到另一个港口。\n",
    "    传送带上的第 i 个包裹的重量为 weights[i]。\n",
    "    每一天，我们都会按给出重量的顺序往传送带上装载包裹。\n",
    "    我们装载的重量不会超过船的最大运载重量。\n",
    "    返回能在 D 天内将传送带上的所有包裹送达的船的最低运载能力。\n",
    "\n",
    "示例 1：\n",
    "    输入：weights = [1,2,3,4,5,6,7,8,9,10], D = 5\n",
    "    输出：15\n",
    "    解释：\n",
    "        船舶最低载重 15 就能够在 5 天内送达所有包裹，如下所示：\n",
    "            第 1 天：1, 2, 3, 4, 5\n",
    "            第 2 天：6, 7\n",
    "            第 3 天：8\n",
    "            第 4 天：9\n",
    "            第 5 天：10\n",
    "        请注意，货物必须按照给定的顺序装运，因此使用载重能力为 14 的船舶并将包装分成 (2, 3, 4, 5), (1, 6, 7), (8), (9), (10) 是不允许的。 \n",
    "\n",
    "示例 2：\n",
    "    输入：weights = [3,2,2,4,1,4], D = 3\n",
    "    输出：6\n",
    "    解释：\n",
    "        船舶最低载重 6 就能够在 3 天内送达所有包裹，如下所示：\n",
    "        第 1 天：3, 2\n",
    "        第 2 天：2, 4\n",
    "        第 3 天：1, 4\n",
    "\n",
    "示例 3：\n",
    "    输入：weights = [1,2,3,1,1], D = 4\n",
    "    输出：3\n",
    "    解释：\n",
    "        第 1 天：1\n",
    "        第 2 天：2\n",
    "        第 3 天：3\n",
    "        第 4 天：1, 1\n",
    "\n",
    "提示：\n",
    "    1、1 <= D <= weights.length <= 50000\n",
    "    2、1 <= weights[i] <= 500"
   ]
  },
  {
   "cell_type": "code",
   "execution_count": 67,
   "metadata": {},
   "outputs": [],
   "source": [
    "class Solution:\n",
    "    def shipWithinDays(self, weights, D: int) -> int:\n",
    "        left, right = min(weights), sum(weights) + 1\n",
    "        while left < right:\n",
    "            mid = left + (right - left) // 2\n",
    "            if self.helper(mid, weights, D): # 可以在D天之内装在完成，可以减少装载重量\n",
    "                right = mid\n",
    "            else:\n",
    "                left = mid + 1\n",
    "        return left\n",
    "    \n",
    "    def helper(self, cap, weights, D):\n",
    "        total_days = 0\n",
    "        idx = 0 \n",
    "        while idx < len(weights):\n",
    "            sum_weight = 0\n",
    "            while idx < len(weights):\n",
    "                if sum_weight + weights[idx] <= cap:\n",
    "                    sum_weight += weights[idx]\n",
    "                    idx += 1\n",
    "                else:\n",
    "                    break\n",
    "            total_days += 1\n",
    "            if total_days > D:\n",
    "                return False\n",
    "        return total_days <= D"
   ]
  },
  {
   "cell_type": "code",
   "execution_count": 68,
   "metadata": {},
   "outputs": [
    {
     "data": {
      "text/plain": [
       "3"
      ]
     },
     "execution_count": 68,
     "metadata": {},
     "output_type": "execute_result"
    }
   ],
   "source": [
    "solution = Solution()\n",
    "solution.shipWithinDays(weights = [1,2,3,1,1], D = 4)"
   ]
  },
  {
   "cell_type": "code",
   "execution_count": null,
   "metadata": {},
   "outputs": [],
   "source": []
  }
 ],
 "metadata": {
  "kernelspec": {
   "display_name": "Python 3",
   "language": "python",
   "name": "python3"
  },
  "language_info": {
   "codemirror_mode": {
    "name": "ipython",
    "version": 3
   },
   "file_extension": ".py",
   "mimetype": "text/x-python",
   "name": "python",
   "nbconvert_exporter": "python",
   "pygments_lexer": "ipython3",
   "version": "3.6.2"
  }
 },
 "nbformat": 4,
 "nbformat_minor": 4
}
