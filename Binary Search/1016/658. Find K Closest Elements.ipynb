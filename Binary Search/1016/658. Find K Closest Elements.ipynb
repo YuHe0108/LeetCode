{
 "cells": [
  {
   "cell_type": "raw",
   "metadata": {},
   "source": [
    "说明：\n",
    "    给定一个排序好的数组，两个整数 k 和 x，从数组中找到最靠近 x（两数之差最小）的 k 个数。\n",
    "    返回的结果必须要是按升序排好的。\n",
    "    如果有两个数与 x 的差值一样，优先选择数值较小的那个数。\n",
    "\n",
    "示例 1:\n",
    "    输入: [1,2,3,4,5], k=4, x=3\n",
    "    输出: [1,2,3,4]\n",
    "\n",
    "示例 2:\n",
    "    输入: [1,2,3,4,5], k=4, x=-1\n",
    "    输出: [1,2,3,4]\n",
    "\n",
    "例3：\n",
    "    输入: [1,2,3,3,4,5], k=4, x=3\n",
    "    输出：[2,3,3,4]\n",
    "\n",
    "说明:\n",
    "    1、k 的值为正数，且总是小于给定排序数组的长度。\n",
    "    2、数组不为空，且长度不超过 10^4\n",
    "    3、数组里的每个元素与 x 的绝对值不超过 10^4"
   ]
  },
  {
   "cell_type": "code",
   "execution_count": 1,
   "metadata": {},
   "outputs": [],
   "source": [
    "class Solution:\n",
    "    def findClosestElements(self, arr, k: int, x: int):\n",
    "        res = {}\n",
    "        outs = []\n",
    "        left, right = 0, len(arr) - 1\n",
    "        while left < right:\n",
    "            mid = left + (right - left) // 2\n",
    "            if self.helper(mid, arr, k, x):\n",
    "                pass\n",
    "            else:\n",
    "                pass\n",
    "        return outs\n",
    "    \n",
    "    def helper(self, mid, arr, k, x):\n",
    "        pass"
   ]
  },
  {
   "cell_type": "code",
   "execution_count": 14,
   "metadata": {},
   "outputs": [],
   "source": [
    "class Solution:\n",
    "    def findClosestElements(self, arr, k: int, x: int):\n",
    "        low_bar, high_bar = 0, len(arr) - k # 左端点能够取到的最小值与最大值\n",
    "        print(arr[high_bar])\n",
    "        while low_bar < high_bar:\n",
    "            mid = low_bar + (high_bar - low_bar) // 2\n",
    "            if x - arr[mid] > arr[mid + k] - x: # 将x看作是 [mid, mid+k] 中间的数字\n",
    "                low_bar = mid + 1\n",
    "            else:\n",
    "                high_bar = mid\n",
    "        return arr[low_bar:low_bar + k]"
   ]
  },
  {
   "cell_type": "code",
   "execution_count": 15,
   "metadata": {},
   "outputs": [
    {
     "name": "stdout",
     "output_type": "stream",
     "text": [
      "2\n"
     ]
    },
    {
     "data": {
      "text/plain": [
       "[1, 2, 3, 4]"
      ]
     },
     "execution_count": 15,
     "metadata": {},
     "output_type": "execute_result"
    }
   ],
   "source": [
    "solution = Solution()\n",
    "solution.findClosestElements([1,2,3,4,5], k=4, x=3)"
   ]
  },
  {
   "cell_type": "code",
   "execution_count": null,
   "metadata": {},
   "outputs": [],
   "source": []
  },
  {
   "cell_type": "code",
   "execution_count": null,
   "metadata": {},
   "outputs": [],
   "source": []
  }
 ],
 "metadata": {
  "kernelspec": {
   "display_name": "Python 3",
   "language": "python",
   "name": "python3"
  },
  "language_info": {
   "codemirror_mode": {
    "name": "ipython",
    "version": 3
   },
   "file_extension": ".py",
   "mimetype": "text/x-python",
   "name": "python",
   "nbconvert_exporter": "python",
   "pygments_lexer": "ipython3",
   "version": "3.6.2"
  }
 },
 "nbformat": 4,
 "nbformat_minor": 4
}
