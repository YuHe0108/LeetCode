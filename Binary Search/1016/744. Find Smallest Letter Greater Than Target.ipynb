{
 "cells": [
  {
   "cell_type": "raw",
   "metadata": {},
   "source": [
    "说明：\n",
    "    给你一个排序后的字符列表 letters ，列表中只包含小写英文字母。\n",
    "    另给出一个目标字母 target，请你寻找在这一有序列表里比目标字母大的最小字母。\n",
    "    在比较时，字母是依序循环出现的。举个例子：\n",
    "    如果目标字母 target = 'z' 并且字符列表为 letters = ['a', 'b']，则答案返回 'a'\n",
    " \n",
    "\n",
    "示例：\n",
    "    输入:\n",
    "    letters = [\"c\", \"f\", \"j\"]\n",
    "    target = \"a\"\n",
    "    输出: \"c\"\n",
    "\n",
    "输入:\n",
    "    letters = [\"c\", \"f\", \"j\"]\n",
    "    target = \"c\"\n",
    "    输出: \"f\"\n",
    "\n",
    "输入:\n",
    "    letters = [\"c\", \"f\", \"j\"]\n",
    "    target = \"d\"\n",
    "    输出: \"f\"\n",
    "\n",
    "输入:\n",
    "    letters = [\"c\", \"f\", \"j\"]\n",
    "    target = \"g\"\n",
    "    输出: \"j\"\n",
    "\n",
    "输入:\n",
    "    letters = [\"c\", \"f\", \"j\"]\n",
    "    target = \"j\"\n",
    "    输出: \"c\"\n",
    "\n",
    "输入:\n",
    "    letters = [\"c\", \"f\", \"j\"]\n",
    "    target = \"k\"\n",
    "    输出: \"c\"\n",
    "\n",
    "提示：\n",
    "    1、letters长度范围在[2, 10000]区间内。\n",
    "    2、letters 仅由小写字母组成，最少包含两个不同的字母。\n",
    "    3、目标字母target 是一个小写字母。"
   ]
  },
  {
   "cell_type": "code",
   "execution_count": 1,
   "metadata": {},
   "outputs": [],
   "source": [
    "class Solution:\n",
    "    def nextGreatestLetter(self, letters, target: str) -> str:\n",
    "        left, right = 0, len(letters) - 1\n",
    "        while left < right:\n",
    "            mid_idx = left + (right - left) // 2\n",
    "            mid_let = letters[mid_idx]\n",
    "            if chr(ord(target) + 1) > target: # 猜大了\n",
    "                pass\n",
    "            else:\n",
    "                # 猜小了\n",
    "                pass\n",
    "        return left"
   ]
  },
  {
   "cell_type": "code",
   "execution_count": 88,
   "metadata": {},
   "outputs": [],
   "source": [
    "class Solution:\n",
    "    def nextGreatestLetter(self, letters, target: str) -> str:\n",
    "        l = []\n",
    "        for le in letters:\n",
    "            if le not in l:\n",
    "                l.append(le)\n",
    "        t = target\n",
    "        letters = [ord(x) - 97 for x in l]\n",
    "        letters.sort()\n",
    "        target = (ord(target) - 97 + 1) % 26\n",
    "        left, right = 0, len(letters) - 1\n",
    "        while left < right:\n",
    "            mid_idx = left + (right - left) // 2\n",
    "            if target < letters[mid_idx]:\n",
    "                right = mid_idx\n",
    "            elif target > letters[mid_idx]:\n",
    "                left = mid_idx + 1\n",
    "            else:\n",
    "                return l[mid_idx]\n",
    "        return l[0] if l[left] <= t else l[left]"
   ]
  },
  {
   "cell_type": "code",
   "execution_count": 89,
   "metadata": {},
   "outputs": [
    {
     "data": {
      "text/plain": [
       "'n'"
      ]
     },
     "execution_count": 89,
     "metadata": {},
     "output_type": "execute_result"
    }
   ],
   "source": [
    "solution = Solution()\n",
    "solution.nextGreatestLetter([\"e\",\"e\",\"e\",\"e\",\"e\",\"e\",\"n\",\"n\",\"n\",\"n\"], \"e\")"
   ]
  },
  {
   "cell_type": "code",
   "execution_count": 3,
   "metadata": {},
   "outputs": [
    {
     "name": "stdout",
     "output_type": "stream",
     "text": [
      "122\n"
     ]
    }
   ],
   "source": [
    "print(ord('z'))"
   ]
  },
  {
   "cell_type": "code",
   "execution_count": 6,
   "metadata": {},
   "outputs": [
    {
     "name": "stdout",
     "output_type": "stream",
     "text": [
      "19\n"
     ]
    }
   ],
   "source": [
    "print((ord('z') + 1 ) % 26)"
   ]
  },
  {
   "cell_type": "code",
   "execution_count": 8,
   "metadata": {},
   "outputs": [
    {
     "data": {
      "text/plain": [
       "78"
      ]
     },
     "execution_count": 8,
     "metadata": {},
     "output_type": "execute_result"
    }
   ],
   "source": [
    "97 - 19"
   ]
  },
  {
   "cell_type": "code",
   "execution_count": null,
   "metadata": {},
   "outputs": [],
   "source": [
    "print(chr(()))"
   ]
  }
 ],
 "metadata": {
  "kernelspec": {
   "display_name": "Python 3",
   "language": "python",
   "name": "python3"
  },
  "language_info": {
   "codemirror_mode": {
    "name": "ipython",
    "version": 3
   },
   "file_extension": ".py",
   "mimetype": "text/x-python",
   "name": "python",
   "nbconvert_exporter": "python",
   "pygments_lexer": "ipython3",
   "version": "3.6.2"
  }
 },
 "nbformat": 4,
 "nbformat_minor": 4
}
