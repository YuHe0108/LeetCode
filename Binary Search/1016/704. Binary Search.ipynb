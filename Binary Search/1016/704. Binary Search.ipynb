{
 "cells": [
  {
   "cell_type": "raw",
   "metadata": {},
   "source": [
    "说明：\n",
    "    给定一个 n 个元素有序的（升序）整型数组 nums 和一个目标值 target  ，\n",
    "    写一个函数搜索 nums 中的 target，如果目标值存在返回下标，否则返回 -1。\n",
    "\n",
    "示例 1:\n",
    "    输入: nums = [-1,0,3,5,9,12], target = 9\n",
    "    输出: 4\n",
    "    解释: 9 出现在 nums 中并且下标为 4\n",
    "\n",
    "示例 2:\n",
    "    输入: nums = [-1,0,3,5,9,12], target = 2\n",
    "    输出: -1\n",
    "    解释: 2 不存在 nums 中因此返回 -1\n",
    "\n",
    "提示：\n",
    "    1、你可以假设 nums 中的所有元素是不重复的。\n",
    "    2、n 将在 [1, 10000]之间。\n",
    "    3、nums 的每个元素都将在 [-9999, 9999]之间。"
   ]
  },
  {
   "cell_type": "code",
   "execution_count": 2,
   "metadata": {},
   "outputs": [],
   "source": [
    "class Solution:\n",
    "    def search(self, nums, target: int) -> int:\n",
    "        left, right = 0, len(nums) - 1\n",
    "        while left < right:\n",
    "            mid = left + (right - left) // 2\n",
    "            if nums[mid] < target:\n",
    "                left = mid + 1\n",
    "            elif nums[mid] > target:\n",
    "                right = mid - 1\n",
    "            else:\n",
    "                return mid\n",
    "        return left if nums[left] == target else -1"
   ]
  },
  {
   "cell_type": "code",
   "execution_count": 4,
   "metadata": {},
   "outputs": [
    {
     "data": {
      "text/plain": [
       "-1"
      ]
     },
     "execution_count": 4,
     "metadata": {},
     "output_type": "execute_result"
    }
   ],
   "source": [
    "solution = Solution()\n",
    "solution.search(nums = [-1,0,3,5,9,12], target = 2)"
   ]
  },
  {
   "cell_type": "code",
   "execution_count": null,
   "metadata": {},
   "outputs": [],
   "source": []
  }
 ],
 "metadata": {
  "kernelspec": {
   "display_name": "Python 3",
   "language": "python",
   "name": "python3"
  },
  "language_info": {
   "codemirror_mode": {
    "name": "ipython",
    "version": 3
   },
   "file_extension": ".py",
   "mimetype": "text/x-python",
   "name": "python",
   "nbconvert_exporter": "python",
   "pygments_lexer": "ipython3",
   "version": "3.6.2"
  }
 },
 "nbformat": 4,
 "nbformat_minor": 4
}
