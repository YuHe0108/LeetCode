{
 "cells": [
  {
   "cell_type": "code",
   "execution_count": null,
   "metadata": {},
   "outputs": [],
   "source": []
  },
  {
   "cell_type": "code",
   "execution_count": null,
   "metadata": {},
   "outputs": [],
   "source": [
    "[[ 1, 5, 9],\n",
    " [10,11,13],\n",
    " [12,13,15]]"
   ]
  },
  {
   "cell_type": "code",
   "execution_count": null,
   "metadata": {},
   "outputs": [],
   "source": []
  },
  {
   "cell_type": "code",
   "execution_count": null,
   "metadata": {},
   "outputs": [],
   "source": []
  },
  {
   "cell_type": "code",
   "execution_count": null,
   "metadata": {},
   "outputs": [],
   "source": []
  },
  {
   "cell_type": "code",
   "execution_count": null,
   "metadata": {},
   "outputs": [],
   "source": []
  },
  {
   "cell_type": "code",
   "execution_count": null,
   "metadata": {},
   "outputs": [],
   "source": [
    "class Solution:\n",
    "    def kthSmallest(self, matrix: List[List[int]], k: int) -> int:\n",
    "        def smallOrEqual(num):\n",
    "            # 在 matrix 矩阵中，小于或者等于 num 的数量有多少\n",
    "            cnt = 0\n",
    "            i, j = n, 0 # 从左下角开始\n",
    "            while i >= 0 and j < n:\n",
    "                # 如果当前值小于等于 num，那么\n",
    "                # 在第 j 列，从第 0行到 第 i行的 i+1 个数字也必定是小于 num 的\n",
    "                if matrix[i][j] <= num:\n",
    "                    cnt += (i+1)\n",
    "                    j += 1\n",
    "                else:\n",
    "                    i -= 1\n",
    "            return cnt\n",
    "        \n",
    "        n = len(matrix)\n",
    "        l, r = matrix[0][0], matrix[-1][-1] # 最小值和最大值\n",
    "        while l < r:\n",
    "            mid = l + (r-l)//2\n",
    "            if smallOrEqual(mid) < k:\n",
    "                l = mid+1\n",
    "            else:\n",
    "                r = mid\n",
    "        return l"
   ]
  }
 ],
 "metadata": {
  "kernelspec": {
   "display_name": "Python 3",
   "language": "python",
   "name": "python3"
  },
  "language_info": {
   "codemirror_mode": {
    "name": "ipython",
    "version": 3
   },
   "file_extension": ".py",
   "mimetype": "text/x-python",
   "name": "python",
   "nbconvert_exporter": "python",
   "pygments_lexer": "ipython3",
   "version": "3.6.2"
  }
 },
 "nbformat": 4,
 "nbformat_minor": 4
}
