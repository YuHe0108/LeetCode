{
 "cells": [
  {
   "cell_type": "raw",
   "metadata": {},
   "source": [
    "说明：\n",
    "    给你一个整数数组 nums 和一个正整数 threshold，你需要选择一个正整数作为除数，然后将数组里每个数都除以它，并对除法结果求和。\n",
    "    请你找出能够使上述结果小于等于阈值 threshold 的除数中 最小 的那个。\n",
    "    每个数除以除数后都向上取整，比方说 7/3 = 3 ， 10/2 = 5 。\n",
    "    题目保证一定有解。\n",
    "\n",
    "\n",
    "示例 1：\n",
    "    输入：nums = [1,2,5,9], threshold = 6\n",
    "    输出：5\n",
    "    解释：\n",
    "         如果除数为 1 ，我们可以得到和为 17 （1+2+5+9）。\n",
    "         如果除数为 4 ，我们可以得到和为 7 (1+1+2+3) 。\n",
    "         如果除数为 5 ，和为 5 (1+1+1+2)。\n",
    "\n",
    "示例 2：\n",
    "    输入：nums = [2,3,5,7,11], threshold = 11\n",
    "    输出：3\n",
    "\n",
    "示例 3：\n",
    "    输入：nums = [19], threshold = 5\n",
    "    输出：4\n",
    "\n",
    "提示：\n",
    "    1、1 <= nums.length <= 5 * 10^4\n",
    "    2、1 <= nums[i] <= 10^6\n",
    "    3、nums.length <= threshold <= 10^6"
   ]
  },
  {
   "cell_type": "code",
   "execution_count": 31,
   "metadata": {},
   "outputs": [],
   "source": [
    "from math import ceil\n",
    "\n",
    "class Solution:\n",
    "    def smallestDivisor(self, nums, threshold: int) -> int:\n",
    "        left, right = 1, max(nums) + 1\n",
    "        while left < right:\n",
    "            mid = left + (right - left) // 2\n",
    "            val = self.helper(mid, nums, threshold)\n",
    "            if val:\n",
    "                right = mid\n",
    "            else:\n",
    "                left = mid + 1\n",
    "        return left\n",
    "    \n",
    "    def helper(self, divisor, nums, threshold):\n",
    "        sum_val = 0\n",
    "        for num in nums:\n",
    "            sum_val += ceil(num / divisor)\n",
    "            if sum_val > threshold:\n",
    "                return False\n",
    "        return True"
   ]
  },
  {
   "cell_type": "code",
   "execution_count": 32,
   "metadata": {},
   "outputs": [
    {
     "name": "stdout",
     "output_type": "stream",
     "text": [
      "1 12 True\n",
      "1 6 True\n",
      "1 3 False\n"
     ]
    },
    {
     "data": {
      "text/plain": [
       "3"
      ]
     },
     "execution_count": 32,
     "metadata": {},
     "output_type": "execute_result"
    }
   ],
   "source": [
    "solution = Solution()\n",
    "solution.smallestDivisor(nums = [2,3,5,7,11], threshold = 11)"
   ]
  },
  {
   "cell_type": "code",
   "execution_count": null,
   "metadata": {},
   "outputs": [],
   "source": []
  }
 ],
 "metadata": {
  "kernelspec": {
   "display_name": "Python 3",
   "language": "python",
   "name": "python3"
  },
  "language_info": {
   "codemirror_mode": {
    "name": "ipython",
    "version": 3
   },
   "file_extension": ".py",
   "mimetype": "text/x-python",
   "name": "python",
   "nbconvert_exporter": "python",
   "pygments_lexer": "ipython3",
   "version": "3.6.2"
  }
 },
 "nbformat": 4,
 "nbformat_minor": 4
}
