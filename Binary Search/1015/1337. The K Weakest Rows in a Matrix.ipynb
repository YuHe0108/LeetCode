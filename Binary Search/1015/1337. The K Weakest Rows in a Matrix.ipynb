{
 "cells": [
  {
   "cell_type": "raw",
   "metadata": {},
   "source": [
    "说明：\n",
    "    给你一个大小为 m * n 的方阵 mat，方阵由若干军人和平民组成，分别用 1 和 0 表示。\n",
    "    请你返回方阵中战斗力最弱的 k 行的索引，按从最弱到最强排序。\n",
    "    如果第 i 行的军人数量少于第 j 行，或者两行军人数量相同但 i 小于 j，那么我们认为第 i 行的战斗力比第 j 行弱。\n",
    "    军人 总是 排在一行中的靠前位置，也就是说 1 总是出现在 0 之前。\n",
    "\n",
    "示例 1：\n",
    "    输入：mat = \n",
    "        [[1,1,0,0,0],\n",
    "         [1,1,1,1,0],\n",
    "         [1,0,0,0,0],\n",
    "         [1,1,0,0,0],\n",
    "         [1,1,1,1,1]], \n",
    "        k = 3\n",
    "    输出：[2,0,3]： 0:2, 2:1, 3:2\n",
    "    解释：\n",
    "        每行中的军人数目：\n",
    "        行 0 -> 2 \n",
    "        行 1 -> 4 \n",
    "        行 2 -> 1 \n",
    "        行 3 -> 2 \n",
    "        行 4 -> 5 \n",
    "        从最弱到最强对这些行排序后得到 [2,0,3,1,4]\n",
    "                                     2:1, 0:2, 3:2, 1:4, 4:5\n",
    "示例 2：\n",
    "    输入：mat = \n",
    "        [[1,0,0,0],\n",
    "         [1,1,1,1],\n",
    "         [1,0,0,0],\n",
    "         [1,0,0,0]], \n",
    "        k = 2\n",
    "    输出：[0,2]\n",
    "    解释： \n",
    "        每行中的军人数目：\n",
    "        行 0 -> 1 \n",
    "        行 1 -> 4 \n",
    "        行 2 -> 1 \n",
    "        行 3 -> 1 \n",
    "        从最弱到最强对这些行排序后得到 [0,2,3,1]\n",
    "\n",
    "提示：\n",
    "    1、m == mat.length\n",
    "    2、n == mat[i].length\n",
    "    3、2 <= n, m <= 100\n",
    "    4、1 <= k <= m\n",
    "    5、matrix[i][j] 不是 0 就是 1"
   ]
  },
  {
   "cell_type": "code",
   "execution_count": 77,
   "metadata": {},
   "outputs": [],
   "source": [
    "class Solution:\n",
    "    def kWeakestRows(self, mat, k):\n",
    "        rows, cols = len(mat), len(mat[0])\n",
    "        powers = {}\n",
    "        for i in range(rows):\n",
    "            sum_pow = self.count_power(mat[i])\n",
    "            powers[i] = sum_pow\n",
    "        print(powers)\n",
    "        res = []\n",
    "        powers = sorted(powers.items(), key = lambda x: x[1])\n",
    "        for i in range(k):\n",
    "            res.append(powers[i][0])\n",
    "        return res\n",
    "    \n",
    "    def count_power(self, pow_list):\n",
    "        count = 0\n",
    "        left, right = 0, len(pow_list) - 1\n",
    "        while left <= right:\n",
    "            mid = left + (right - left) // 2\n",
    "            if pow_list[mid] == 1:\n",
    "                count += (mid - left + 1)\n",
    "                left = mid + 1\n",
    "            else:\n",
    "                right = mid - 1\n",
    "        return count"
   ]
  },
  {
   "cell_type": "code",
   "execution_count": 78,
   "metadata": {},
   "outputs": [
    {
     "name": "stdout",
     "output_type": "stream",
     "text": [
      "{0: 5, 1: 1, 2: 2, 3: 4, 4: 5}\n"
     ]
    },
    {
     "data": {
      "text/plain": [
       "[1, 2, 3]"
      ]
     },
     "execution_count": 78,
     "metadata": {},
     "output_type": "execute_result"
    }
   ],
   "source": [
    "solution = Solution()\n",
    "solution.kWeakestRows([[1,1,1,1,1],[1,0,0,0,0],[1,1,0,0,0],[1,1,1,1,0],[1,1,1,1,1]],3)"
   ]
  },
  {
   "cell_type": "code",
   "execution_count": null,
   "metadata": {},
   "outputs": [],
   "source": []
  },
  {
   "cell_type": "code",
   "execution_count": null,
   "metadata": {},
   "outputs": [],
   "source": []
  }
 ],
 "metadata": {
  "kernelspec": {
   "display_name": "Python 3",
   "language": "python",
   "name": "python3"
  },
  "language_info": {
   "codemirror_mode": {
    "name": "ipython",
    "version": 3
   },
   "file_extension": ".py",
   "mimetype": "text/x-python",
   "name": "python",
   "nbconvert_exporter": "python",
   "pygments_lexer": "ipython3",
   "version": "3.6.2"
  }
 },
 "nbformat": 4,
 "nbformat_minor": 4
}
