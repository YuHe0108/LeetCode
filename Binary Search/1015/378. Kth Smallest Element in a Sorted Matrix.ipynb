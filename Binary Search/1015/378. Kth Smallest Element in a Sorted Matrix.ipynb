{
 "cells": [
  {
   "cell_type": "raw",
   "metadata": {},
   "source": [
    "说明：\n",
    "    给定一个 n x n 矩阵，其中每行和每列元素均按升序排序，找到矩阵中第 k 小的元素。\n",
    "    请注意，它是排序后的第 k 小元素，而不是第 k 个不同的元素。\n",
    "\n",
    "示例：\n",
    "    matrix = [\n",
    "       [ 1,  5,  9],\n",
    "       [10, 11, 13],\n",
    "       [12, 13, 15]\n",
    "    ],\n",
    "    k = 8,\n",
    "    返回 13。\n",
    "\n",
    "提示：\n",
    "    你可以假设 k 的值永远是有效的，1 ≤ k ≤ n2 。"
   ]
  },
  {
   "cell_type": "code",
   "execution_count": 43,
   "metadata": {},
   "outputs": [],
   "source": [
    "import heapq\n",
    "\n",
    "class Solution:\n",
    "    def kthSmallest(self, matrix, k: int) -> int:\n",
    "        N = len(matrix)\n",
    "        heap = []                        \n",
    "        for row in range(N):\n",
    "            for col in range(N):\n",
    "                next_val = -matrix[row][col]\n",
    "                if len(heap) < k:\n",
    "                    heapq.heappush(heap, next_val)\n",
    "                elif next_val > heap[0]: # next_val < heap[0]\n",
    "                    heapq.heappushpop(heap, next_val)\n",
    "        return -heap[0]"
   ]
  },
  {
   "cell_type": "code",
   "execution_count": 55,
   "metadata": {},
   "outputs": [],
   "source": [
    "import heapq\n",
    "\n",
    "class Solution:\n",
    "    def kthSmallest(self, matrix, k: int) -> int:\n",
    "        N = len(matrix)\n",
    "        heap = []\n",
    "        count = 0\n",
    "        for row in range(N):\n",
    "            for col in range(N):\n",
    "                next_val = matrix[row][col]\n",
    "                if len(heap) < k:\n",
    "                    heapq.heappush(heap, next_val)\n",
    "                else:\n",
    "                    val = heapq.heappushpop(heap, next_val)\n",
    "                    count += 1\n",
    "                    if count == k:\n",
    "                        return val\n",
    "            print(count)"
   ]
  },
  {
   "cell_type": "code",
   "execution_count": 71,
   "metadata": {},
   "outputs": [],
   "source": [
    "import heapq\n",
    "\n",
    "# 一直维持着 在matrix中 具有 k 个大小的heap，heap[0]前k中的最大值\n",
    "# 如果有比这k中更小的值出现，弹出最大的那个，heap[0], 压入其中\n",
    "class Solution:\n",
    "    def kthSmallest(self, matrix, k: int) -> int:\n",
    "        N = len(matrix)\n",
    "        heap = []                        \n",
    "        for row in range(N):\n",
    "            for col in range(N):\n",
    "                next_val = -matrix[row][col]\n",
    "                if len(heap) < k:\n",
    "                    heapq.heappush(heap, next_val)\n",
    "                elif next_val > heap[0]: # next_val < heap[0]\n",
    "                    val = heapq.heappushpop(heap, next_val)\n",
    "        return -heap[0]"
   ]
  },
  {
   "cell_type": "code",
   "execution_count": 72,
   "metadata": {},
   "outputs": [
    {
     "name": "stdout",
     "output_type": "stream",
     "text": [
      "[-12, -6, -7, -1, -5, -3] 11\n",
      "[-11, -6, -7, -1, -5, -3] 12\n"
     ]
    },
    {
     "data": {
      "text/plain": [
       "11"
      ]
     },
     "execution_count": 72,
     "metadata": {},
     "output_type": "execute_result"
    }
   ],
   "source": [
    "solution = Solution()\n",
    "solution.kthSmallest([[1,3,5],\n",
    "                      [6,7,12],\n",
    "                      [11,14,14]], 6)"
   ]
  },
  {
   "cell_type": "code",
   "execution_count": null,
   "metadata": {},
   "outputs": [],
   "source": [
    "import heapq\n",
    "\n",
    "class Solution:\n",
    "    def kthSmallest(self, matrix, k: int) -> int:\n",
    "        N = len(matrix)\n",
    "        heap = [(matrix[0][0], 0, 0)]\n",
    "        \n",
    "        count = 0\n",
    "        while count < k:\n",
    "            val, x, y = heapq.heappop(heap)\n",
    "            count += 1\n",
    "            if count == k:\n",
    "                return val\n",
    "            if x + 1 < N:\n",
    "                heapq.heappush(heap, (matrix[x+1][y], x+1, y))\n",
    "            if y + 1 < N and (matrix[x][y+1], x, y+1) not in heap:\n",
    "                heapq.heappush(heap, (matrix[x][y+1], x, y+1))"
   ]
  }
 ],
 "metadata": {
  "kernelspec": {
   "display_name": "Python 3",
   "language": "python",
   "name": "python3"
  },
  "language_info": {
   "codemirror_mode": {
    "name": "ipython",
    "version": 3
   },
   "file_extension": ".py",
   "mimetype": "text/x-python",
   "name": "python",
   "nbconvert_exporter": "python",
   "pygments_lexer": "ipython3",
   "version": "3.6.2"
  }
 },
 "nbformat": 4,
 "nbformat_minor": 4
}
