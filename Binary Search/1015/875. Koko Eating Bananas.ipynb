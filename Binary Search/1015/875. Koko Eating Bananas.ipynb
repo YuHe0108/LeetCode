{
 "cells": [
  {
   "cell_type": "raw",
   "metadata": {},
   "source": [
    "说明：\n",
    "    珂珂喜欢吃香蕉。这里有 N 堆香蕉，第 i 堆中有 piles[i] 根香蕉。\n",
    "    警卫已经离开了，将在 H 小时后回来。\n",
    "    珂珂可以决定她吃香蕉的速度 K （单位：根/小时）。\n",
    "    每个小时，她将会选择一堆香蕉，从中吃掉 K 根。\n",
    "    如果这堆香蕉少于 K 根，她将吃掉这堆的所有香蕉，然后这一小时内不会再吃更多的香蕉。  \n",
    "    珂珂喜欢慢慢吃，但仍然想在警卫回来前吃掉所有的香蕉。\n",
    "    返回她可以在 H 小时内吃掉所有香蕉的最小速度 K（K 为整数）。\n",
    "\n",
    "示例 1：\n",
    "    输入: piles = [3,6,7,11], H = 8\n",
    "    输出: 4\n",
    "\n",
    "示例 2：\n",
    "    输入: piles = [30,11,23,4,20], H = 5\n",
    "    输出: 30\n",
    "\n",
    "示例 3：\n",
    "    输入: piles = [30,11,23,4,20], H = 6\n",
    "    输出: 23\n",
    "\n",
    "提示：\n",
    "    1、1 <= piles.length <= 10^4\n",
    "    2、piles.length <= H <= 10^9\n",
    "    3、1 <= piles[i] <= 10^9"
   ]
  },
  {
   "cell_type": "code",
   "execution_count": 1,
   "metadata": {},
   "outputs": [],
   "source": [
    "import heapq\n",
    "\n",
    "class Solution:\n",
    "    def minEatingSpeed(self, piles, H: int) -> int:\n",
    "        total_sum = sum(piles)\n",
    "        left, right = 1, max(piles) + 1\n",
    "        min_speed = float('inf')\n",
    "        while left < right:\n",
    "            mid = left + (right - left) // 2\n",
    "            eat_sum = speed * H\n",
    "            if eat_sum >= total_sum: # 吃快了\n",
    "                right = mid \n",
    "                min_speed = min(min_speed, mid)\n",
    "            elif eat_sum < total_sum: # 吃慢了\n",
    "                left = mid + 1\n",
    "        return min_speed\n",
    "    \n",
    "#     def helper(self, speed, piles, H):\n",
    "#         heap_piles = [-x for x in piles]\n",
    "#         heapq.heapify(heap_piles)\n",
    "#         sum_val = 0\n",
    "#         for i in range(H):\n",
    "#             if heap_piles:\n",
    "#                 pile = -heapq.heappop(heap_piles)\n",
    "#                 if pile > speed:\n",
    "#                     sum_val += speed\n",
    "#                     pile -= speed\n",
    "#                     heapq.heappush(heap_piles, -pile)\n",
    "#                 else:\n",
    "#                     sum_val += pile\n",
    "#             else:\n",
    "#                 break\n",
    "#         return sum_val"
   ]
  },
  {
   "cell_type": "code",
   "execution_count": 2,
   "metadata": {},
   "outputs": [],
   "source": [
    "import heapq\n",
    "\n",
    "class Solution:\n",
    "    def minEatingSpeed(self, piles, H: int) -> int:\n",
    "        total_sum = sum(piles)\n",
    "        left, right = 1, max(piles) + 1\n",
    "        min_speed = float('inf')\n",
    "        while left < right:\n",
    "            mid = left + (right - left) // 2\n",
    "            eat_sum = self.helper(mid, piles, H)\n",
    "            if eat_sum >= total_sum: # 吃快了\n",
    "                right = mid \n",
    "                min_speed = min(min_speed, mid)\n",
    "            elif eat_sum < total_sum: # 吃慢了\n",
    "                left = mid + 1\n",
    "        return min_speed\n",
    "    \n",
    "    def helper(self, speed, piles, H):\n",
    "        sum_val = speed * H\n",
    "        pile_sum = sum(piles)\n",
    "        if sum_val > pile_sum:\n",
    "            return pile_sum\n",
    "        else:\n",
    "            return sum_val"
   ]
  },
  {
   "cell_type": "code",
   "execution_count": 85,
   "metadata": {},
   "outputs": [],
   "source": [
    "class Solution:\n",
    "    def minEatingSpeed(self, piles, H: int) -> int:\n",
    "        total_sum = sum(piles)\n",
    "        left, right = 1, max(piles) + 1\n",
    "        min_speed = float('inf')\n",
    "        while left < right:\n",
    "            mid = left + (right - left) // 2\n",
    "            eat_sum = self.helper(mid, piles, H)\n",
    "#             print(left, right, mid, eat_sum, total_sum)\n",
    "            if eat_sum > total_sum: # 吃快了\n",
    "                right = mid \n",
    "                mid_speed = mid\n",
    "            elif eat_sum < total_sum: # 吃慢了\n",
    "                left = mid + 1\n",
    "        return min_speed\n",
    "    \n",
    "    def helper(self, speed, piles, H):\n",
    "        total_sum = 0\n",
    "        count = 0\n",
    "        idx = 0\n",
    "        while idx < len(piles):\n",
    "            p = piles[idx]\n",
    "            if p < speed:\n",
    "                total_sum += p\n",
    "                count += 1\n",
    "                if count == H:\n",
    "                    return total_sum \n",
    "            else:\n",
    "                div_val = p // speed\n",
    "                mod_val = p % speed\n",
    "                div_val = min(div_val, H - count)\n",
    "                total_sum += div_val * speed\n",
    "                count += div_val\n",
    "                if count == H:                    \n",
    "                    return total_sum \n",
    "                total_sum += mod_val\n",
    "                count += 1\n",
    "                if count == H:\n",
    "                    print(speed, p, idx, count, total_sum, H)\n",
    "                    return total_sum\n",
    "            idx += 1\n",
    "        return total_sum"
   ]
  },
  {
   "cell_type": "code",
   "execution_count": 97,
   "metadata": {},
   "outputs": [],
   "source": [
    "class Solution:\n",
    "    def minEatingSpeed(self, piles, H: int) -> int:\n",
    "        total_sum = sum(piles)\n",
    "        left, right = 1, max(piles) + 1\n",
    "        min_speed = float('inf')\n",
    "        while left < right:\n",
    "            mid = left + (right - left) // 2\n",
    "            if self.helper(mid, piles, H): # 吃快了\n",
    "                right = mid \n",
    "                min_speed = min(min_speed, mid)\n",
    "            else: # 吃慢了\n",
    "                left = mid + 1\n",
    "        return min_speed\n",
    "    \n",
    "    def helper(self, speed, piles, H):\n",
    "        cost_time = 0\n",
    "        for p in piles:\n",
    "            if p > speed:\n",
    "                div_val = p // speed\n",
    "                cost_time += div_val\n",
    "            cost_time += 1\n",
    "        return cost_time <= H"
   ]
  },
  {
   "cell_type": "code",
   "execution_count": 100,
   "metadata": {},
   "outputs": [
    {
     "data": {
      "text/plain": [
       "2"
      ]
     },
     "execution_count": 100,
     "metadata": {},
     "output_type": "execute_result"
    }
   ],
   "source": [
    "solution = Solution()\n",
    "solution.minEatingSpeed(piles = [312884470], H = 312884469)"
   ]
  },
  {
   "cell_type": "code",
   "execution_count": 97,
   "metadata": {},
   "outputs": [
    {
     "data": {
      "text/plain": [
       "[1, 2, 3]"
      ]
     },
     "execution_count": 97,
     "metadata": {},
     "output_type": "execute_result"
    }
   ],
   "source": [
    "a = [1,2,3,4]\n",
    "a[:3]"
   ]
  },
  {
   "cell_type": "code",
   "execution_count": 29,
   "metadata": {},
   "outputs": [],
   "source": [
    "# [312884470]\n",
    "# 312884469"
   ]
  },
  {
   "cell_type": "code",
   "execution_count": 36,
   "metadata": {},
   "outputs": [
    {
     "name": "stdout",
     "output_type": "stream",
     "text": [
      "1\n"
     ]
    }
   ],
   "source": [
    "print(312884470 // 312884469)"
   ]
  },
  {
   "cell_type": "code",
   "execution_count": 41,
   "metadata": {},
   "outputs": [
    {
     "name": "stdout",
     "output_type": "stream",
     "text": [
      "7\n"
     ]
    }
   ],
   "source": [
    "print(30%23)"
   ]
  },
  {
   "cell_type": "code",
   "execution_count": null,
   "metadata": {},
   "outputs": [],
   "source": []
  }
 ],
 "metadata": {
  "kernelspec": {
   "display_name": "Python 3",
   "language": "python",
   "name": "python3"
  },
  "language_info": {
   "codemirror_mode": {
    "name": "ipython",
    "version": 3
   },
   "file_extension": ".py",
   "mimetype": "text/x-python",
   "name": "python",
   "nbconvert_exporter": "python",
   "pygments_lexer": "ipython3",
   "version": "3.6.2"
  }
 },
 "nbformat": 4,
 "nbformat_minor": 4
}
