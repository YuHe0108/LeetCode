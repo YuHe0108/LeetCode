{
 "cells": [
  {
   "cell_type": "raw",
   "metadata": {},
   "source": [
    "说明：\n",
    "    给你一个整数数组 arr 和一个目标值 target ，请你返回一个整数 value ，\n",
    "    使得将数组中所有大于 value 的值变成 value 后，数组的和最接近  target （最接近表示两者之差的绝对值最小）。\n",
    "    如果有多种使得和最接近 target 的方案，请你返回这些整数中的最小值。\n",
    "    请注意，答案不一定是 arr 中的数字。\n",
    "\n",
    "示例 1：\n",
    "    输入：arr = [4,9,3], target = 10\n",
    "    输出：3\n",
    "    解释：当选择 value 为 3 时，数组会变成 [3, 3, 3]，和为 9 ，这是最接近 target 的方案。\n",
    "\n",
    "示例 2：\n",
    "    输入：arr = [2,3,5], target = 10\n",
    "    输出：5\n",
    "    \n",
    "示例 3：\n",
    "    输入：arr = [60864,25176,27249,21296,20204], target = 56803\n",
    "    输出：11361\n",
    "\n",
    "\n",
    "提示：\n",
    "    1、1 <= arr.length <= 10^4\n",
    "    2、1 <= arr[i], target <= 10^5"
   ]
  },
  {
   "cell_type": "code",
   "execution_count": 71,
   "metadata": {},
   "outputs": [],
   "source": [
    "class Solution:\n",
    "    def findBestValue(self, arr, target: int) -> int:\n",
    "        arr.sort()\n",
    "        left, right = arr[0], arr[-1]\n",
    "        mid = left + (right - left) // 2\n",
    "        dif_val = self.helper(mid, target, arr)\n",
    "        self.min_dif = dif_val\n",
    "        return min(self.calculate(left, mid+1, arr, target), self.calculate(mid, right, arr, target))\n",
    "       \n",
    "    \n",
    "    def calculate(self, left, right, arr, target):\n",
    "        cur_dif = self.min_dif\n",
    "        while left < right:\n",
    "            mid = left + (right - left) // 2\n",
    "            dif_val = self.helper(mid, target, arr)\n",
    "            if dif_val < cur_dif:\n",
    "                cur_dif = dif_val\n",
    "                right = mid\n",
    "            else:\n",
    "                left = mid + 1\n",
    "        return left\n",
    "    \n",
    "    def helper(self, val, target, arr):\n",
    "        sum_val = 0\n",
    "        idx = 0\n",
    "        while idx < len(arr):\n",
    "            if arr[idx] < val:\n",
    "                sum_val += arr[idx]\n",
    "            else:\n",
    "                sum_val += val\n",
    "            idx += 1\n",
    "        return abs(sum_val - target)"
   ]
  },
  {
   "cell_type": "code",
   "execution_count": 163,
   "metadata": {},
   "outputs": [],
   "source": [
    "class Solution:\n",
    "    def findBestValue(self, arr, target: int) -> int:\n",
    "        arr.sort()\n",
    "        left, right = 0, arr[-1] + 1\n",
    "        min_dif = float('inf') # 最小的差值\n",
    "        min_val = float('inf') # 最小差值对应的val值\n",
    "        while left < right:\n",
    "            mid = left + (right - left) // 2\n",
    "            sum_val = self.helper(mid, arr)\n",
    "            cur_dif = abs(sum_val - target)\n",
    "            if cur_dif < min_dif:\n",
    "                min_dif = cur_dif\n",
    "                min_val = mid\n",
    "            elif cur_dif == min_dif:\n",
    "                min_dif = cur_dif\n",
    "                min_val = min(min_val, mid)\n",
    "                \n",
    "            if sum_val < target:\n",
    "                left = mid + 1\n",
    "            elif sum_val > target:\n",
    "                right = mid\n",
    "            else:\n",
    "                return mid\n",
    "        return min_val\n",
    "    \n",
    "    def helper(self, val, arr):\n",
    "        sum_val = 0\n",
    "        idx = 0\n",
    "        while idx < len(arr):\n",
    "            if arr[idx] < val:\n",
    "                sum_val += arr[idx]\n",
    "            else:\n",
    "                break\n",
    "            idx += 1\n",
    "        sum_val += ((len(arr)) - idx) * val\n",
    "        return sum_val"
   ]
  },
  {
   "cell_type": "code",
   "execution_count": 164,
   "metadata": {},
   "outputs": [
    {
     "data": {
      "text/plain": [
       "5"
      ]
     },
     "execution_count": 164,
     "metadata": {},
     "output_type": "execute_result"
    }
   ],
   "source": [
    "solution = Solution()\n",
    "solution.findBestValue(arr = [2,3,5], target = 10)"
   ]
  },
  {
   "cell_type": "code",
   "execution_count": null,
   "metadata": {},
   "outputs": [],
   "source": []
  }
 ],
 "metadata": {
  "kernelspec": {
   "display_name": "Python 3",
   "language": "python",
   "name": "python3"
  },
  "language_info": {
   "codemirror_mode": {
    "name": "ipython",
    "version": 3
   },
   "file_extension": ".py",
   "mimetype": "text/x-python",
   "name": "python",
   "nbconvert_exporter": "python",
   "pygments_lexer": "ipython3",
   "version": "3.6.2"
  }
 },
 "nbformat": 4,
 "nbformat_minor": 4
}
