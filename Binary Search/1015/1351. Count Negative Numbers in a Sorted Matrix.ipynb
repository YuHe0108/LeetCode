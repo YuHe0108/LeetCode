{
 "cells": [
  {
   "cell_type": "raw",
   "metadata": {},
   "source": [
    "说明：\n",
    "    给你一个 m * n 的矩阵 grid，矩阵中的元素无论是按行还是按列，都以非递增顺序排列。 \n",
    "    请你统计并返回 grid 中 负数 的数目。\n",
    "\n",
    "示例 1：\n",
    "    输入：grid = [[4,3,2,-1],\n",
    "                  [3,2,1,-1],\n",
    "                  [1,1,-1,-2],\n",
    "                  [-1,-1,-2,-3]]\n",
    "    输出：8\n",
    "    解释：矩阵中共有 8 个负数。\n",
    "\n",
    "示例 2：\n",
    "    输入：grid = [[3,2],[1,0]]\n",
    "    输出：0\n",
    "\n",
    "示例 3：\n",
    "    输入：grid = [[1,-1],[-1,-1]]\n",
    "    输出：3\n",
    "\n",
    "示例 4：\n",
    "    输入：grid = [[-1]]\n",
    "    输出：1\n",
    " \n",
    "提示：\n",
    "    1、m == grid.length\n",
    "    2、n == grid[i].length\n",
    "    3、1 <= m, n <= 100\n",
    "    4、-100 <= grid[i][j] <= 100"
   ]
  },
  {
   "cell_type": "code",
   "execution_count": 16,
   "metadata": {},
   "outputs": [],
   "source": [
    "class Solution:\n",
    "    def countNegatives(self, grid) -> int:\n",
    "        count = 0\n",
    "        rows = len(grid)\n",
    "        for i in range(rows):\n",
    "            val = self.helper(grid[i])\n",
    "            count += val\n",
    "        return count\n",
    "    \n",
    "    def helper(self, num_row):\n",
    "        count = 0\n",
    "        left, right = 0, len(num_row) - 1\n",
    "        while left <= right:\n",
    "            mid = left + (right - left) // 2\n",
    "            if num_row[mid] < 0:\n",
    "                count += (right - mid + 1)\n",
    "                right = mid - 1\n",
    "            else:\n",
    "                left = mid + 1\n",
    "        return count"
   ]
  },
  {
   "cell_type": "code",
   "execution_count": 17,
   "metadata": {},
   "outputs": [
    {
     "data": {
      "text/plain": [
       "2"
      ]
     },
     "execution_count": 17,
     "metadata": {},
     "output_type": "execute_result"
    }
   ],
   "source": [
    "solution = Solution()\n",
    "solution.countNegatives(grid = [[3,2,-2],[1,0,-1]])"
   ]
  },
  {
   "cell_type": "code",
   "execution_count": null,
   "metadata": {},
   "outputs": [],
   "source": []
  }
 ],
 "metadata": {
  "kernelspec": {
   "display_name": "Python 3",
   "language": "python",
   "name": "python3"
  },
  "language_info": {
   "codemirror_mode": {
    "name": "ipython",
    "version": 3
   },
   "file_extension": ".py",
   "mimetype": "text/x-python",
   "name": "python",
   "nbconvert_exporter": "python",
   "pygments_lexer": "ipython3",
   "version": "3.6.2"
  }
 },
 "nbformat": 4,
 "nbformat_minor": 4
}
