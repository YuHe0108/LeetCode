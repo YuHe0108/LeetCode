{
 "cells": [
  {
   "cell_type": "code",
   "execution_count": null,
   "metadata": {},
   "outputs": [],
   "source": []
  },
  {
   "cell_type": "code",
   "execution_count": null,
   "metadata": {},
   "outputs": [],
   "source": []
  },
  {
   "cell_type": "code",
   "execution_count": 16,
   "metadata": {},
   "outputs": [],
   "source": [
    "from typing import List\n",
    "\n",
    "class Solution:\n",
    "    def prisonAfterNDays(self, cells: List[int], N: int) -> List[int]:\n",
    "        for _ in range(N):\n",
    "            res = cells[::]\n",
    "            res[0] = res[-1] = 0\n",
    "            for i in range(1, 7):\n",
    "                res[i] = (cells[i-1] ^ cells[i+1]) ^ 1\n",
    "            cells = res\n",
    "        return res"
   ]
  },
  {
   "cell_type": "code",
   "execution_count": null,
   "metadata": {},
   "outputs": [],
   "source": []
  },
  {
   "cell_type": "code",
   "execution_count": 168,
   "metadata": {},
   "outputs": [],
   "source": [
    "from typing import List\n",
    "from collections import defaultdict\n",
    "\n",
    "class Solution:\n",
    "    def prisonAfterNDays(self, cells: List[int], N: int) -> List[int]:\n",
    "        # 寻找循环节, 将 cells 转换为整形的形式\n",
    "        s_cells = [str(x) for x in cells]\n",
    "        int_s = int(''.join(s_cells), 2)\n",
    "        n2s = defaultdict(int)\n",
    "        s2n = defaultdict(int)\n",
    "        s2n[int_s] = 0\n",
    "        n2s[0] = int_s\n",
    "        start = None\n",
    "        for i in range(1, N+1):\n",
    "            s = ~((int_s >> 1) ^ (int_s << 1)) & 126\n",
    "            int_s = s\n",
    "            if int_s not in s2n:\n",
    "                s2n[int_s] = i\n",
    "                n2s[i] = int_s\n",
    "            else: # 出现循环节\n",
    "                start = s2n[int_s]\n",
    "                break\n",
    "        if start is None:\n",
    "            res = n2s[N]\n",
    "        else:\n",
    "            idx = start + (N - start) % (i - start)\n",
    "            res = n2s[idx]\n",
    "        res = bin(res)[2:]\n",
    "        return [0] * (8 - len(res)) + [int(x) for x in res]"
   ]
  },
  {
   "cell_type": "code",
   "execution_count": 170,
   "metadata": {},
   "outputs": [
    {
     "data": {
      "text/plain": [
       "[0, 0, 0, 1, 1, 0, 1, 0]"
      ]
     },
     "execution_count": 170,
     "metadata": {},
     "output_type": "execute_result"
    }
   ],
   "source": [
    "solution = Solution()\n",
    "solution.prisonAfterNDays([0,0,0,1,1,0,1,0], 574)"
   ]
  },
  {
   "cell_type": "code",
   "execution_count": 46,
   "metadata": {},
   "outputs": [
    {
     "name": "stdout",
     "output_type": "stream",
     "text": [
      "0b0\n"
     ]
    }
   ],
   "source": [
    "a = ~(1 & 1) \n",
    "print(bin(a))"
   ]
  },
  {
   "cell_type": "code",
   "execution_count": null,
   "metadata": {},
   "outputs": [],
   "source": [
    "# print(bin(s), int_s, i)"
   ]
  },
  {
   "cell_type": "code",
   "execution_count": 99,
   "metadata": {},
   "outputs": [
    {
     "data": {
      "text/plain": [
       "0"
      ]
     },
     "execution_count": 99,
     "metadata": {},
     "output_type": "execute_result"
    }
   ],
   "source": [
    "6 % 1"
   ]
  },
  {
   "cell_type": "code",
   "execution_count": null,
   "metadata": {},
   "outputs": [],
   "source": [
    " if circle and N % circle == 0:\n",
    "            res = n2s[1] if n2s[0] != n2s[1] else n2s[0]\n",
    "        else:\n",
    "            res = n2s[N] if not circle else n2s[N % circle]\n",
    "        res = bin(res)[2:]\n",
    "        return [0] * (8 - len(res)) + [int(x) for x in res]"
   ]
  }
 ],
 "metadata": {
  "kernelspec": {
   "display_name": "Python 3",
   "language": "python",
   "name": "python3"
  },
  "language_info": {
   "codemirror_mode": {
    "name": "ipython",
    "version": 3
   },
   "file_extension": ".py",
   "mimetype": "text/x-python",
   "name": "python",
   "nbconvert_exporter": "python",
   "pygments_lexer": "ipython3",
   "version": "3.6.2"
  }
 },
 "nbformat": 4,
 "nbformat_minor": 4
}
