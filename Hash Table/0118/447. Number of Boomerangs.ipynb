{
 "cells": [
  {
   "cell_type": "code",
   "execution_count": null,
   "metadata": {},
   "outputs": [],
   "source": []
  },
  {
   "cell_type": "code",
   "execution_count": null,
   "metadata": {},
   "outputs": [],
   "source": []
  },
  {
   "cell_type": "code",
   "execution_count": 9,
   "metadata": {},
   "outputs": [],
   "source": [
    "from typing import List\n",
    "from collections import defaultdict\n",
    "from scipy.special import comb\n",
    "\n",
    "class Solution:\n",
    "    def numberOfBoomerangs(self, points: List[List[int]]) -> int:\n",
    "        n = len(points)\n",
    "        if n <= 2:\n",
    "            return 0\n",
    "        \n",
    "        count = defaultdict(int)\n",
    "        for i in range(n):\n",
    "            x1, y1 = points[i]\n",
    "            for j in range(i+1, n):\n",
    "                x2, y2 = points[j]\n",
    "                dis_x, dis_y = pow(x1-x2, 2), pow(y1-y2, 2)\n",
    "                dis = pow(dis_x + dis_y, 0.5)\n",
    "                count[dis] += 1\n",
    "        print(count)\n",
    "        res = 0\n",
    "        for k, v in count.items():\n",
    "            if v == 1:\n",
    "                continue\n",
    "        return res"
   ]
  },
  {
   "cell_type": "code",
   "execution_count": null,
   "metadata": {},
   "outputs": [],
   "source": []
  },
  {
   "cell_type": "code",
   "execution_count": 42,
   "metadata": {},
   "outputs": [],
   "source": [
    "from typing import List\n",
    "from collections import defaultdict\n",
    "from scipy.special import comb, perm\n",
    "\n",
    "class Solution:\n",
    "    def numberOfBoomerangs(self, points: List[List[int]]) -> int:\n",
    "        n = len(points)\n",
    "        if n <= 2:\n",
    "            return 0\n",
    "        \n",
    "        count = defaultdict(dict)\n",
    "        for i in range(n):\n",
    "            x1, y1 = points[i]\n",
    "            for j in range(i+1, n):\n",
    "                x2, y2 = points[j]\n",
    "                dis_x, dis_y = pow(x1-x2, 2), pow(y1-y2, 2)\n",
    "                dis = pow(dis_x + dis_y, 0.5)\n",
    "                if dis not in count[i]:\n",
    "                    count[i][dis] = 1\n",
    "                else:\n",
    "                    count[i][dis] += 1\n",
    "                if dis not in count[j]:\n",
    "                    count[j][dis] = 1\n",
    "                else:\n",
    "                    count[j][dis] += 1\n",
    "        # return 966, n\n",
    "        res = 0\n",
    "        for k, v in count.items():\n",
    "            for d, p in v.items():\n",
    "                if p == 1:\n",
    "                    continue\n",
    "                res += int(perm(p, 2))\n",
    "        return res"
   ]
  },
  {
   "cell_type": "code",
   "execution_count": 43,
   "metadata": {},
   "outputs": [
    {
     "name": "stdout",
     "output_type": "stream",
     "text": [
      "1.4142135623730951 [1]\n",
      "2.8284271247461903 [2]\n",
      "1.4142135623730951 [0, 2]\n",
      "2.8284271247461903 [0]\n",
      "1.4142135623730951 [1]\n"
     ]
    },
    {
     "data": {
      "text/plain": [
       "2"
      ]
     },
     "execution_count": 43,
     "metadata": {},
     "output_type": "execute_result"
    }
   ],
   "source": [
    "solution = Solution()\n",
    "solution.numberOfBoomerangs(points = [[1,1],[2,2],[3,3]])"
   ]
  },
  {
   "cell_type": "code",
   "execution_count": 3,
   "metadata": {},
   "outputs": [
    {
     "data": {
      "text/plain": [
       "2.0"
      ]
     },
     "execution_count": 3,
     "metadata": {},
     "output_type": "execute_result"
    }
   ],
   "source": [
    "pow(4, 0.5)"
   ]
  },
  {
   "cell_type": "code",
   "execution_count": 37,
   "metadata": {},
   "outputs": [
    {
     "data": {
      "text/plain": [
       "3.0"
      ]
     },
     "execution_count": 37,
     "metadata": {},
     "output_type": "execute_result"
    }
   ],
   "source": [
    "comb(3, 2)"
   ]
  },
  {
   "cell_type": "code",
   "execution_count": null,
   "metadata": {},
   "outputs": [],
   "source": []
  }
 ],
 "metadata": {
  "kernelspec": {
   "display_name": "Python 3",
   "language": "python",
   "name": "python3"
  },
  "language_info": {
   "codemirror_mode": {
    "name": "ipython",
    "version": 3
   },
   "file_extension": ".py",
   "mimetype": "text/x-python",
   "name": "python",
   "nbconvert_exporter": "python",
   "pygments_lexer": "ipython3",
   "version": "3.6.2"
  }
 },
 "nbformat": 4,
 "nbformat_minor": 4
}
