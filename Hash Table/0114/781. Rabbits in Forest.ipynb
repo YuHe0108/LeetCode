{
 "cells": [
  {
   "cell_type": "code",
   "execution_count": null,
   "metadata": {},
   "outputs": [],
   "source": []
  },
  {
   "cell_type": "code",
   "execution_count": null,
   "metadata": {},
   "outputs": [],
   "source": []
  },
  {
   "cell_type": "code",
   "execution_count": 61,
   "metadata": {},
   "outputs": [],
   "source": [
    "from typing import List\n",
    "from collections import defaultdict, Counter\n",
    "import math\n",
    "\n",
    "class Solution:\n",
    "    def numRabbits(self, answers: List[int]) -> int:\n",
    "        count = Counter(answers)\n",
    "        n = len(answers)\n",
    "        res = 0\n",
    "        # 如果兔子回答是：1，那么森林中有相同颜色兔子的数量为 两个\n",
    "        # 所以 v / 2, 如果v是奇数，那么有一只兔子没有在森林中\n",
    "        for k, v in count.items():\n",
    "            out = 0\n",
    "            if v % (k + 1) != 0:\n",
    "                out = (k + 1) - v % (k + 1) # 外面还有几只兔子\n",
    "            # v // (k+1) * (k+1) 森林中颜色正好颜色匹配的兔子有几对\n",
    "            # v % (k + 1) 颜色匹配，但没有都森林中，其中在森林中的兔子有多少\n",
    "            # out 森林之外兔子的数量\n",
    "            res += v // (k+1) * (k+1) + v % (k + 1) + out\n",
    "        return res"
   ]
  },
  {
   "cell_type": "code",
   "execution_count": null,
   "metadata": {},
   "outputs": [],
   "source": []
  },
  {
   "cell_type": "code",
   "execution_count": null,
   "metadata": {},
   "outputs": [],
   "source": [
    "from typing import List\n",
    "from collections import defaultdict, Counter\n",
    "import math\n",
    "\n",
    "class Solution:\n",
    "    def numRabbits(self, answers: List[int]) -> int:\n",
    "        count = Counter(answers)\n",
    "        res = 0\n",
    "        # 如果兔子回答是：1，那么森林中有相同颜色兔子的数量为 两个\n",
    "        # 所以 v / 2, 如果v是奇数，那么有一只兔子没有在森林中\n",
    "        for k, v in count.items():\n",
    "            res += math.ceil(v / (k+1)) * (k+1)\n",
    "        return res"
   ]
  },
  {
   "cell_type": "code",
   "execution_count": 63,
   "metadata": {},
   "outputs": [
    {
     "data": {
      "text/plain": [
       "11"
      ]
     },
     "execution_count": 63,
     "metadata": {},
     "output_type": "execute_result"
    }
   ],
   "source": [
    "solution = Solution()\n",
    "solution.numRabbits(answers = [10, 10, 10])"
   ]
  },
  {
   "cell_type": "code",
   "execution_count": 12,
   "metadata": {},
   "outputs": [
    {
     "data": {
      "text/plain": [
       "2"
      ]
     },
     "execution_count": 12,
     "metadata": {},
     "output_type": "execute_result"
    }
   ],
   "source": [
    "math.ceil(3 / 2)"
   ]
  },
  {
   "cell_type": "code",
   "execution_count": 42,
   "metadata": {},
   "outputs": [
    {
     "data": {
      "text/plain": [
       "0"
      ]
     },
     "execution_count": 42,
     "metadata": {},
     "output_type": "execute_result"
    }
   ],
   "source": [
    "2 % 2"
   ]
  },
  {
   "cell_type": "code",
   "execution_count": null,
   "metadata": {},
   "outputs": [],
   "source": []
  }
 ],
 "metadata": {
  "kernelspec": {
   "display_name": "Python 3",
   "language": "python",
   "name": "python3"
  },
  "language_info": {
   "codemirror_mode": {
    "name": "ipython",
    "version": 3
   },
   "file_extension": ".py",
   "mimetype": "text/x-python",
   "name": "python",
   "nbconvert_exporter": "python",
   "pygments_lexer": "ipython3",
   "version": "3.6.2"
  }
 },
 "nbformat": 4,
 "nbformat_minor": 4
}
