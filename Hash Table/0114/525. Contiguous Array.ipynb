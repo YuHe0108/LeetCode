{
 "cells": [
  {
   "cell_type": "markdown",
   "metadata": {},
   "source": [
    "## 前缀和 + hash table"
   ]
  },
  {
   "cell_type": "code",
   "execution_count": null,
   "metadata": {},
   "outputs": [],
   "source": []
  },
  {
   "cell_type": "code",
   "execution_count": null,
   "metadata": {},
   "outputs": [],
   "source": []
  },
  {
   "cell_type": "code",
   "execution_count": 9,
   "metadata": {},
   "outputs": [],
   "source": [
    "# 错误版本\n",
    "from typing import List\n",
    "from collections import defaultdict\n",
    "\n",
    "class Solution:\n",
    "    def findMaxLength(self, nums: List[int]) -> int:\n",
    "        count = defaultdict(int)\n",
    "        res = 0\n",
    "        for n in nums:\n",
    "            count[n] += 1\n",
    "            res = max(res, min(count[0], count[1]) * 2)\n",
    "        return res"
   ]
  },
  {
   "cell_type": "code",
   "execution_count": null,
   "metadata": {},
   "outputs": [],
   "source": []
  },
  {
   "cell_type": "code",
   "execution_count": 42,
   "metadata": {},
   "outputs": [],
   "source": [
    "from typing import List\n",
    "from collections import defaultdict, Counter\n",
    "\n",
    "# 超时版本\n",
    "class Solution:\n",
    "    def findMaxLength(self, nums: List[int]) -> int:\n",
    "        def check(gap):\n",
    "            for i in range(n-gap+1):\n",
    "                e = i + (gap-1)\n",
    "                val = presum[e+1] - presum[i]\n",
    "                # print(nums[i:e+1], val, gap)\n",
    "                if val == gap // 2:\n",
    "                    return True\n",
    "            return False\n",
    "        \n",
    "        presum = [0]\n",
    "        for v in nums:\n",
    "            presum.append(presum[-1] + v)\n",
    "        n = len(nums)\n",
    "        count = Counter(nums)\n",
    "        max_len = min(count[0], count[1]) * 2 # 能够达到的最大长度\n",
    "        for m in range(max_len, -1, -2):\n",
    "            if check(m):\n",
    "                return m\n",
    "        return 0"
   ]
  },
  {
   "cell_type": "code",
   "execution_count": null,
   "metadata": {},
   "outputs": [],
   "source": []
  },
  {
   "cell_type": "code",
   "execution_count": 44,
   "metadata": {},
   "outputs": [],
   "source": [
    "from typing import List\n",
    "from collections import defaultdict, Counter\n",
    "\n",
    "# 正确版本\n",
    "class Solution:\n",
    "    def findMaxLength(self, nums: List[int]) -> int:\n",
    "        pass"
   ]
  },
  {
   "cell_type": "code",
   "execution_count": 45,
   "metadata": {},
   "outputs": [],
   "source": [
    "solution = Solution()\n",
    "solution.findMaxLength([0,1,1,0,1,1,1,0])"
   ]
  },
  {
   "cell_type": "code",
   "execution_count": null,
   "metadata": {},
   "outputs": [],
   "source": []
  },
  {
   "cell_type": "code",
   "execution_count": null,
   "metadata": {},
   "outputs": [],
   "source": [
    "class Solution:\n",
    "    def findMaxLength(self, nums: List[int]) -> int:\n",
    "        max_len, sub_index_list = 0, None\n",
    "        dc = {0: -1}  # {0的数量 减 1的数量 : 下标}\n",
    "        pre_0, pre_1 = 0, 0\n",
    "        for i, num in enumerate(nums):\n",
    "            pre_0 += 1 if 0 == num else 0\n",
    "            pre_1 += 1 if 1 == num else 0\n",
    "            if pre_0 > 0 and pre_1 > 0 and pre_0 - pre_1 in dc:\n",
    "                length = i - dc[pre_0 - pre_1]\n",
    "                if length > max_len:\n",
    "                    max_len = length\n",
    "                    sub_index_list = (dc[pre_0 - pre_1] + 1, i)\n",
    "            # 只记录第一次即可\n",
    "            if pre_0 - pre_1 not in dc:\n",
    "                dc[pre_0 - pre_1] = i\n",
    "            # print('i =', i, ', dc =', dc, ', pre_0 =', pre_0, ', pre_1 =', pre_1)\n",
    "        if max_len > 0:\n",
    "            print('最大连续子数组长度:', max_len, ', 即:', nums[sub_index_list[0]:sub_index_list[1]+1])\n",
    "        return max_len\n"
   ]
  },
  {
   "cell_type": "code",
   "execution_count": null,
   "metadata": {},
   "outputs": [],
   "source": []
  },
  {
   "cell_type": "code",
   "execution_count": null,
   "metadata": {},
   "outputs": [],
   "source": [
    "# 一次遍历；\n",
    "# 利用count累加和，遇到0则-1，遇到1则+1；\n",
    "# 如果重复的count遇到第二次，则说明这两者之间01和为0，更新最大值；\n",
    "# 哈希表存储，key为count，value为index;\n",
    "\n",
    "class Solution:\n",
    "    def findMaxLength(self, nums):\n",
    "        dic = {}\n",
    "        count = 0\n",
    "        maxLen = 0\n",
    "        dic[0] = -1     #注意数组的初始化要正确\n",
    "        for i in range(len(nums)):\n",
    "            if nums[i] == 0:\n",
    "                count -= 1\n",
    "            else:\n",
    "                count += 1\n",
    "            if count not in dic:\n",
    "                dic[count] = i\n",
    "            else:\n",
    "                maxLen = max(maxLen, i - dic[count])\n",
    "        return maxLen\n",
    "\n",
    "# 作者：LionKing865\n",
    "# 链接：https://leetcode-cn.com/problems/contiguous-array/solution/python3-hash-qian-zhui-he-525-by-lionkin-ubo5/\n",
    "# 来源：力扣（LeetCode）\n",
    "# 著作权归作者所有。商业转载请联系作者获得授权，非商业转载请注明出处。"
   ]
  }
 ],
 "metadata": {
  "kernelspec": {
   "display_name": "Python 3",
   "language": "python",
   "name": "python3"
  },
  "language_info": {
   "codemirror_mode": {
    "name": "ipython",
    "version": 3
   },
   "file_extension": ".py",
   "mimetype": "text/x-python",
   "name": "python",
   "nbconvert_exporter": "python",
   "pygments_lexer": "ipython3",
   "version": "3.6.2"
  }
 },
 "nbformat": 4,
 "nbformat_minor": 4
}
