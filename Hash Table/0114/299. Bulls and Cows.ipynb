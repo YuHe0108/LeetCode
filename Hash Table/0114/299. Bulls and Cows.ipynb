{
 "cells": [
  {
   "cell_type": "code",
   "execution_count": null,
   "metadata": {},
   "outputs": [],
   "source": []
  },
  {
   "cell_type": "code",
   "execution_count": null,
   "metadata": {},
   "outputs": [],
   "source": []
  },
  {
   "cell_type": "code",
   "execution_count": 18,
   "metadata": {},
   "outputs": [],
   "source": [
    "from collections import defaultdict\n",
    "\n",
    "class Solution:\n",
    "    def getHint(self, secret: str, guess: str) -> str:\n",
    "        bull = set() # 位置和数字都猜对 的下标索引位置\n",
    "        for i in range(len(secret)):\n",
    "            if secret[i] == guess[i]:\n",
    "                bull.add(i)\n",
    "        \n",
    "        # 数字对，但是位置不对\n",
    "        sec_nums = defaultdict(int)\n",
    "        for i, n in enumerate(secret):\n",
    "            if i not in bull:\n",
    "                sec_nums[n] += 1\n",
    "        cows = 0\n",
    "        for i, n in enumerate(guess):\n",
    "            if i not in bull and n in sec_nums and sec_nums[n] > 0:\n",
    "                cows += 1\n",
    "                sec_nums[n] -= 1\n",
    "        n_b = len(bull)\n",
    "        return '{}A{}B'.format(n_b, cows)"
   ]
  },
  {
   "cell_type": "code",
   "execution_count": 21,
   "metadata": {},
   "outputs": [
    {
     "data": {
      "text/plain": [
       "'1A0B'"
      ]
     },
     "execution_count": 21,
     "metadata": {},
     "output_type": "execute_result"
    }
   ],
   "source": [
    "solution = Solution()\n",
    "solution.getHint(secret = \"1\", guess = \"1\")"
   ]
  },
  {
   "cell_type": "code",
   "execution_count": null,
   "metadata": {},
   "outputs": [],
   "source": []
  }
 ],
 "metadata": {
  "kernelspec": {
   "display_name": "Python 3",
   "language": "python",
   "name": "python3"
  },
  "language_info": {
   "codemirror_mode": {
    "name": "ipython",
    "version": 3
   },
   "file_extension": ".py",
   "mimetype": "text/x-python",
   "name": "python",
   "nbconvert_exporter": "python",
   "pygments_lexer": "ipython3",
   "version": "3.6.2"
  }
 },
 "nbformat": 4,
 "nbformat_minor": 4
}
