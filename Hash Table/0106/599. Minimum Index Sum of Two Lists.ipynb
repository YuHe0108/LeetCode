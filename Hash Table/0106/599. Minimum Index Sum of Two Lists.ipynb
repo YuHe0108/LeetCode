{
 "cells": [
  {
   "cell_type": "code",
   "execution_count": null,
   "metadata": {},
   "outputs": [],
   "source": []
  },
  {
   "cell_type": "code",
   "execution_count": null,
   "metadata": {},
   "outputs": [],
   "source": []
  },
  {
   "cell_type": "code",
   "execution_count": null,
   "metadata": {},
   "outputs": [],
   "source": [
    "from collections import Counter, defaultdict\n",
    "\n",
    "class Solution:\n",
    "    def findRestaurant(self, list1: List[str], list2: List[str]) -> List[str]:\n",
    "        count = defaultdict(int)\n",
    "        for i, w1 in enumerate(list1):\n",
    "            count[w1] = i\n",
    "        \n",
    "        count2 = defaultdict(int)\n",
    "        for i, w2 in enumerate(list2):\n",
    "            if w2 in count:\n",
    "                count2[w2] = count[w2] + i\n",
    "        \n",
    "        count2 = sorted(count2.items(), key=lambda x:x[1])\n",
    "        res = []\n",
    "        for k, v in count2:\n",
    "            if v == count2[0][-1]:\n",
    "                res.append(k)\n",
    "        return res"
   ]
  }
 ],
 "metadata": {
  "kernelspec": {
   "display_name": "Python 3",
   "language": "python",
   "name": "python3"
  },
  "language_info": {
   "codemirror_mode": {
    "name": "ipython",
    "version": 3
   },
   "file_extension": ".py",
   "mimetype": "text/x-python",
   "name": "python",
   "nbconvert_exporter": "python",
   "pygments_lexer": "ipython3",
   "version": "3.6.2"
  }
 },
 "nbformat": 4,
 "nbformat_minor": 4
}
