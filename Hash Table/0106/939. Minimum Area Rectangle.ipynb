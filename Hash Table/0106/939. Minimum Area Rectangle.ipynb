{
 "cells": [
  {
   "cell_type": "code",
   "execution_count": null,
   "metadata": {},
   "outputs": [],
   "source": []
  },
  {
   "cell_type": "code",
   "execution_count": null,
   "metadata": {},
   "outputs": [],
   "source": []
  },
  {
   "cell_type": "code",
   "execution_count": 23,
   "metadata": {},
   "outputs": [],
   "source": [
    "from collections import defaultdict\n",
    "from typing import List\n",
    "\n",
    "class Solution:\n",
    "    def minAreaRect(self, points: List[List[int]]) -> int:\n",
    "        x_count = defaultdict(list)\n",
    "        y_count = defaultdict(list)\n",
    "        for x, y in points:\n",
    "            y_count[x].append(y)\n",
    "            x_count[y].append(x)\n",
    "        \n",
    "        x_count = sorted(x_count.items(), key=lambda x:x[0])\n",
    "        y_count = sorted(y_count.items(), key=lambda x:x[0])\n",
    "        min_x_dis = float('inf')\n",
    "        min_area = 0\n",
    "        for k, v in x_count:\n",
    "            if len(v) == 1:\n",
    "                continue\n",
    "            v.sort()\n",
    "            for i in range(1, len(v)):\n",
    "                if v[i] - v[i-1] < min_x_dis:\n",
    "                    y0, y1 = v[i-1], v[i]\n",
    "                    min_y_dis = float('inf')\n",
    "                    if len(y_count[y0]) == 1:\n",
    "                        continue\n",
    "                    else:\n",
    "                        y0_points = y_count[y0]\n",
    "                        y0_points.sort()\n",
    "                        for y in range(len(y0_points)):\n",
    "                            if y == y0 or len()x_count[y]:\n",
    "                                continue\n",
    "                            \n",
    "                        \n",
    "                    if len(y_count[y1]) == 1:\n",
    "                        continue\n",
    "                    else:\n",
    "                        y1_points = y_count[y1]\\\n",
    "                        y1_points.sort()\n",
    "                    \n",
    "                    min_x_dis = min(min_x_dis, v[i] - v[i-1])\n",
    "                    min_area = min_x_dis * min_y_dis\n",
    "        \n",
    "        return min_area"
   ]
  },
  {
   "cell_type": "code",
   "execution_count": null,
   "metadata": {},
   "outputs": [],
   "source": []
  },
  {
   "cell_type": "code",
   "execution_count": 104,
   "metadata": {},
   "outputs": [],
   "source": [
    "from collections import defaultdict\n",
    "from typing import List\n",
    "\n",
    "class Solution:\n",
    "    def minAreaRect(self, points: List[List[int]]) -> int:\n",
    "        x_s_points = sorted(points, key=lambda x:x[1])\n",
    "        y_s_points = sorted(points, key=lambda x:x[0])\n",
    "        x_count = defaultdict(list)\n",
    "        y_count = defaultdict(list)\n",
    "        for i in range(len(points)):\n",
    "            x_count[x_s_points[i][0]].append(x_s_points[i][1])\n",
    "            y_count[y_s_points[i][1]].append(y_s_points[i][0])\n",
    "        \n",
    "        min_area = float('inf')\n",
    "        for k, v in x_count.items():\n",
    "            if len(v) == 1: # x轴方向上至少要有两个点\n",
    "                continue\n",
    "            for i in range(len(v)):\n",
    "                y0 = v[i]\n",
    "                for j in range(i+1, len(v)):\n",
    "                    y1 = v[j] \n",
    "                    if len(y_count[y0]) == 1 or len(y_count[y1]) == 1:\n",
    "                        continue\n",
    "                    y_dis = y1 - y0 # 两点之间y轴方向上的 distance\n",
    "                    y0_points = set(y_count[y0]) # 在 y0 和 y1 这两个横坐标线上，是否还存在其他的点\n",
    "                    inter = []\n",
    "                    for y1_ in y_count[y1]:\n",
    "                        if y1_ in y0_points:\n",
    "                            inter.append(y1_)\n",
    "                    if len(inter) <= 1:\n",
    "                        continue\n",
    "                    \n",
    "                    x_dis = float('inf')\n",
    "                    for i in range(1, len(inter)):\n",
    "                        x_dis = min(x_dis, inter[i] - inter[i-1])\n",
    "                    if x_dis != float('inf'):\n",
    "                        min_area = min(min_area, x_dis * y_dis)\n",
    "                        \n",
    "        return min_area if min_area != float('inf') else 0"
   ]
  },
  {
   "cell_type": "code",
   "execution_count": 118,
   "metadata": {},
   "outputs": [],
   "source": [
    "from collections import defaultdict\n",
    "from typing import List\n",
    "\n",
    "class Solution:\n",
    "    def minAreaRect(self, points: List[List[int]]) -> int:\n",
    "        x_count = defaultdict(list)\n",
    "        y_count = defaultdict(list)\n",
    "        for x, y in points:\n",
    "            x_count[x].append(y)\n",
    "            y_count[y].append(x)\n",
    "        \n",
    "        min_area = float('inf')\n",
    "        for k, v in x_count.items():\n",
    "            if len(v) == 1: # x轴方向上至少要有两个点\n",
    "                continue\n",
    "            for i in range(len(v)):\n",
    "                y0 = v[i]\n",
    "                for j in range(i+1, len(v)):\n",
    "                    y1 = v[j] \n",
    "                    if len(y_count[y0]) == 1 or len(y_count[y1]) == 1:\n",
    "                        continue\n",
    "                        \n",
    "                    y_dis = abs(y1 - y0) # 两点之间y轴方向上的 distance\n",
    "                    y0_points = set(y_count[y0]) # 在 y0 和 y1 这两个横坐标线上，是否还存在其他的点\n",
    "                    inter = []\n",
    "                    for y1_ in y_count[y1]:\n",
    "                        if y1_ in y0_points:\n",
    "                            inter.append(y1_)\n",
    "                    if len(inter) <= 1:\n",
    "                        continue\n",
    "                    \n",
    "                    x_dis = float('inf')\n",
    "                    inter.sort()\n",
    "                    for i in range(1, len(inter)):\n",
    "                        x_dis = min(x_dis, abs(inter[i] - inter[i-1]))\n",
    "                    if x_dis != float('inf'):\n",
    "                        min_area = min(min_area, x_dis * y_dis)\n",
    "                        \n",
    "        return min_area if min_area != float('inf') else 0"
   ]
  },
  {
   "cell_type": "code",
   "execution_count": null,
   "metadata": {},
   "outputs": [],
   "source": []
  },
  {
   "cell_type": "code",
   "execution_count": 129,
   "metadata": {},
   "outputs": [],
   "source": [
    "class Solution:\n",
    "    def minAreaRect(self, points: List[List[int]]) -> int:\n",
    "        columns = defaultdict(list)\n",
    "        for x, y in points:\n",
    "            columns[x].append(y)\n",
    "            \n",
    "        lastx = {}\n",
    "        ans = float('inf')\n",
    "        for x in sorted(columns):\n",
    "            column = columns[x]\n",
    "            column.sort()\n",
    "            for j, y2 in enumerate(column):\n",
    "                for i in range(j):\n",
    "                    y1 = column[i]\n",
    "                    if (y1, y2) in lastx:\n",
    "                        ans = min(ans, (x - lastx[y1,y2]) * (y2 - y1))\n",
    "                    lastx[y1, y2] = x\n",
    "        return ans if ans < float('inf') else 0"
   ]
  },
  {
   "cell_type": "code",
   "execution_count": 130,
   "metadata": {},
   "outputs": [
    {
     "name": "stdout",
     "output_type": "stream",
     "text": [
      "{(0, 1): 0, (0, 3): 0, (1, 3): 0, (0, 5): 0, (1, 5): 0, (3, 5): 5, (1, 4): 2, (3, 4): 3, (4, 5): 3}\n"
     ]
    },
    {
     "data": {
      "text/plain": [
       "4"
      ]
     },
     "execution_count": 130,
     "metadata": {},
     "output_type": "execute_result"
    }
   ],
   "source": [
    "solution = Solution()\n",
    "solution.minAreaRect([[0,1],[0,0],[3,3],[2,1],[1,1],[3,5],[0,5],[4,2],[0,3],[5,3],[3,4],[2,4],[5,5]])"
   ]
  },
  {
   "cell_type": "code",
   "execution_count": 75,
   "metadata": {},
   "outputs": [],
   "source": [
    "a = {1, 2, 3}\n",
    "b = {3, 5, 6}"
   ]
  },
  {
   "cell_type": "code",
   "execution_count": 76,
   "metadata": {},
   "outputs": [
    {
     "data": {
      "text/plain": [
       "{3}"
      ]
     },
     "execution_count": 76,
     "metadata": {},
     "output_type": "execute_result"
    }
   ],
   "source": [
    "a.intersection(b)"
   ]
  },
  {
   "cell_type": "code",
   "execution_count": null,
   "metadata": {},
   "outputs": [],
   "source": [
    "defaultdict(<class 'list'>, {0: [0, 1, 4], 3: [0, 1, 4], 2: [0], 4: [0, 1], 1: [2]}) \n",
    "defaultdict(<class 'list'>, {1: [0, 3, 4], 0: [0, 2, 3, 4], 4: [0, 3], 2: [1]})"
   ]
  }
 ],
 "metadata": {
  "kernelspec": {
   "display_name": "Python 3",
   "language": "python",
   "name": "python3"
  },
  "language_info": {
   "codemirror_mode": {
    "name": "ipython",
    "version": 3
   },
   "file_extension": ".py",
   "mimetype": "text/x-python",
   "name": "python",
   "nbconvert_exporter": "python",
   "pygments_lexer": "ipython3",
   "version": "3.6.2"
  }
 },
 "nbformat": 4,
 "nbformat_minor": 4
}
