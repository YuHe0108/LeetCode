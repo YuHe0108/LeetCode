{
 "cells": [
  {
   "cell_type": "raw",
   "metadata": {},
   "source": [
    "说明：\n",
    "    给定一个整数数组 A，返回其中元素之和可被 K 整除的（连续、非空）子数组的数目。\n",
    "\n",
    "示例：\n",
    "    输入：A = [4,5,0,-2,-3,1], K = 5\n",
    "    输出：7\n",
    "    解释：\n",
    "        有 7 个子数组满足其元素之和可被 K = 5 整除：\n",
    "        [4, 5, 0, -2, -3, 1], [5], [5, 0], [5, 0, -2, -3], [0], [0, -2, -3], [-2, -3]\n",
    "\n",
    "提示：\n",
    "    1、1 <= A.length <= 30000\n",
    "    2、-10000 <= A[i] <= 10000\n",
    "    3、2 <= K <= 10000"
   ]
  },
  {
   "cell_type": "code",
   "execution_count": 18,
   "metadata": {},
   "outputs": [],
   "source": [
    "from collections import Counter\n",
    "class Solution:\n",
    "    def subarraysDivByK(self, A, K: int) -> int:\n",
    "        mod_val = []\n",
    "        for a in A:\n",
    "            if not mod_val:\n",
    "                mod_val.append(a % K)\n",
    "            else:\n",
    "                val = (a % K + mod_val[-1]) % K\n",
    "                mod_val.append(val)\n",
    "                \n",
    "        count = 0\n",
    "        mod_val_dict = Counter(mod_val)\n",
    "        print(mod_val_dict)\n",
    "        N = len(A)\n",
    "        for i in range(N):\n",
    "            need_val_i = K - mod_val[i] \n",
    "            count += mod_val_dict[need_val_i]\n",
    "            print(count)"
   ]
  },
  {
   "cell_type": "code",
   "execution_count": 56,
   "metadata": {},
   "outputs": [],
   "source": [
    "from collections import Counter\n",
    "\n",
    "class Solution:\n",
    "    def subarraysDivByK(self, A, K: int) -> int:\n",
    "        mod_val = []\n",
    "        for a in A:\n",
    "            if not mod_val:\n",
    "                mod_val.append(a % K)\n",
    "            else:\n",
    "                val = (a % K + mod_val[-1]) % K\n",
    "                mod_val.append(val)\n",
    "        mod_val_dict = Counter(mod_val)\n",
    "        print(mod_val_dict, mod_val)\n",
    "        \n",
    "        N = len(A)\n",
    "        count = 0\n",
    "        for i in range(N):\n",
    "            val_a = A[i]\n",
    "            if val_a % K == 0:\n",
    "                count += 1\n",
    "            for j in range(i+1, N):\n",
    "                if i - 1 > -1:\n",
    "                    print(A[i], A[j])\n",
    "                    need_mod = mod_val[j] - mod_val[i-1]\n",
    "                    if need_mod in mod_val_dict:\n",
    "                        count += mod_val_dict[need_mod]\n",
    "        return count"
   ]
  },
  {
   "cell_type": "code",
   "execution_count": 84,
   "metadata": {},
   "outputs": [],
   "source": [
    "# 暴力解法\n",
    "class Solution:\n",
    "    def subarraysDivByK(self, A, K: int) -> int:\n",
    "        count, N = 0, len(A)\n",
    "        for i in range(N):\n",
    "            for j in range(i, N):\n",
    "                sub_arr_sum = sum(A[i:j+1])\n",
    "                print(sub_arr_sum)\n",
    "                if sub_arr_sum % K == 0:\n",
    "                    count += 1\n",
    "        return count"
   ]
  },
  {
   "cell_type": "code",
   "execution_count": 85,
   "metadata": {},
   "outputs": [
    {
     "name": "stdout",
     "output_type": "stream",
     "text": [
      "4 a\n",
      "9 a\n",
      "9 a\n",
      "7 a\n",
      "4 a\n",
      "5 a\n",
      "5 a\n",
      "5 a\n",
      "3 a\n",
      "0 a\n",
      "1 a\n",
      "0 a\n",
      "-2 a\n",
      "-5 a\n",
      "-4 a\n",
      "-2 a\n",
      "-5 a\n",
      "-4 a\n",
      "-3 a\n",
      "-2 a\n",
      "1 a\n"
     ]
    },
    {
     "data": {
      "text/plain": [
       "7"
      ]
     },
     "execution_count": 85,
     "metadata": {},
     "output_type": "execute_result"
    }
   ],
   "source": [
    "solution = Solution()\n",
    "solution.subarraysDivByK(A = [4,5,0,-2,-3,1], K = 5)"
   ]
  },
  {
   "cell_type": "code",
   "execution_count": 108,
   "metadata": {},
   "outputs": [],
   "source": [
    "# 暴力解法 -- 前缀和\n",
    "class Solution:\n",
    "    def subarraysDivByK(self, A, K: int) -> int:\n",
    "        count, N = 0, len(A)\n",
    "        prefix_sum = []\n",
    "        for a in A:\n",
    "            if not prefix_sum:\n",
    "                prefix_sum.append(a)\n",
    "            else:\n",
    "                prefix_sum.append(a + prefix_sum[-1])\n",
    "        print(prefix_sum)\n",
    "        prefix_sum = [0] + prefix_sum\n",
    "        A = [0] + A\n",
    "        for i in range(1, N+1):\n",
    "            for j in range(i, N+1):\n",
    "                sub_sum = prefix_sum[j] - prefix_sum[i-1]\n",
    "                if sub_sum % K == 0:\n",
    "                    count += 1\n",
    "        return count"
   ]
  },
  {
   "cell_type": "code",
   "execution_count": null,
   "metadata": {},
   "outputs": [],
   "source": [
    "# 前缀和 +\n",
    "class Solution:\n",
    "    def subarraysDivByK(self, A, K: int) -> int:\n",
    "        count, N = 0, len(A)\n",
    "        prefix_sum = []\n",
    "        for a in A:\n",
    "            if not prefix_sum:\n",
    "                prefix_sum.append(a)\n",
    "            else:\n",
    "                prefix_sum.append(a + prefix_sum[-1])\n",
    "                \n",
    "        print(prefix_sum)\n",
    "        prefix_sum = [0] + prefix_sum\n",
    "        A = [0] + A\n",
    "        for i in range(1, N+1):\n",
    "            for j in range(i, N+1):\n",
    "                # 如果 prefix_sum[j] - prefix_sum[i-1] = sub_arr_sum可以整出K的话，说明 prefix_sum[j] 和 prefix_sum[i]对k的模是相同的\n",
    "                sub_sum = prefix_sum[j] - prefix_sum[i-1]\n",
    "                if sub_sum % K == 0:\n",
    "                    count += 1\n",
    "        return count"
   ]
  },
  {
   "cell_type": "code",
   "execution_count": 120,
   "metadata": {},
   "outputs": [],
   "source": [
    "from collections import Counter, defaultdict\n",
    "\n",
    "class Solution:\n",
    "    def subarraysDivByK(self, A, K: int) -> int:\n",
    "        count, N = 0, len(A)\n",
    "        seen = defaultdict(int)\n",
    "        seen[0] = 1\n",
    "        runner = 0\n",
    "        for i, val in enumerate(A):\n",
    "            runner = (runner + val) % K # 当前值对k的余数\n",
    "            count += seen[runner]\n",
    "            seen[runner] += 1\n",
    "        return count"
   ]
  },
  {
   "cell_type": "code",
   "execution_count": 123,
   "metadata": {},
   "outputs": [
    {
     "name": "stdout",
     "output_type": "stream",
     "text": [
      "4 0 defaultdict(<class 'int'>, {0: 1, 4: 1})\n",
      "4 1 defaultdict(<class 'int'>, {0: 1, 4: 2})\n",
      "4 3 defaultdict(<class 'int'>, {0: 1, 4: 3})\n",
      "2 3 defaultdict(<class 'int'>, {0: 1, 4: 3, 2: 1})\n",
      "4 6 defaultdict(<class 'int'>, {0: 1, 4: 4, 2: 1})\n",
      "0 7 defaultdict(<class 'int'>, {0: 2, 4: 4, 2: 1})\n"
     ]
    },
    {
     "data": {
      "text/plain": [
       "7"
      ]
     },
     "execution_count": 123,
     "metadata": {},
     "output_type": "execute_result"
    }
   ],
   "source": [
    "solution = Solution()\n",
    "solution.subarraysDivByK(A = [4,5,0,-2,-3,1], K = 5)"
   ]
  },
  {
   "cell_type": "code",
   "execution_count": null,
   "metadata": {},
   "outputs": [],
   "source": []
  }
 ],
 "metadata": {
  "kernelspec": {
   "display_name": "Python 3",
   "language": "python",
   "name": "python3"
  },
  "language_info": {
   "codemirror_mode": {
    "name": "ipython",
    "version": 3
   },
   "file_extension": ".py",
   "mimetype": "text/x-python",
   "name": "python",
   "nbconvert_exporter": "python",
   "pygments_lexer": "ipython3",
   "version": "3.6.2"
  }
 },
 "nbformat": 4,
 "nbformat_minor": 4
}
