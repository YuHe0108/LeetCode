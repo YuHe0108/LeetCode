{
 "cells": [
  {
   "cell_type": "raw",
   "metadata": {},
   "source": [
    "说明：\n",
    "    给你一个整数数组 nums 。\n",
    "    如果一组数字 (i,j) 满足 nums[i] == nums[j] 且 i < j ，就可以认为这是一组 好数对 。\n",
    "    返回好数对的数目。\n",
    "\n",
    "示例 1：\n",
    "    输入：nums = [1,2,3,1,1,3]\n",
    "    输出：4\n",
    "    解释：有 4 组好数对，分别是 (0,3), (0,4), (3,4), (2,5) ，下标从 0 开始\n",
    "\n",
    "示例 2：\n",
    "    输入：nums = [1,1,1,1]\n",
    "    输出：6\n",
    "    解释：数组中的每组数字都是好数对\n",
    "\n",
    "示例 3：\n",
    "    输入：nums = [1,2,3]\n",
    "    输出：0\n",
    "\n",
    "提示：\n",
    "    1、1 <= nums.length <= 100\n",
    "    2、1 <= nums[i] <= 100"
   ]
  },
  {
   "cell_type": "code",
   "execution_count": 3,
   "metadata": {},
   "outputs": [],
   "source": [
    "class Solution:\n",
    "    def numIdenticalPairs(self, nums) -> int:\n",
    "        count = 0\n",
    "        N = len(nums)\n",
    "        for i in range(N):\n",
    "            for j in range(i+1, N):\n",
    "                if nums[j] == nums[i]:\n",
    "                    count += 1\n",
    "        return count"
   ]
  },
  {
   "cell_type": "code",
   "execution_count": 6,
   "metadata": {},
   "outputs": [],
   "source": [
    "class Solution:\n",
    "    def numIdenticalPairs(self, nums) -> int:\n",
    "        my_count = 0\n",
    "        my_dict = {}\n",
    "        for n in nums:\n",
    "            val = my_dict.get(n, 0)\n",
    "            my_count += val\n",
    "            my_dict[n] = val + 1\n",
    "        return my_count\n",
    "           "
   ]
  },
  {
   "cell_type": "code",
   "execution_count": 7,
   "metadata": {},
   "outputs": [
    {
     "data": {
      "text/plain": [
       "6"
      ]
     },
     "execution_count": 7,
     "metadata": {},
     "output_type": "execute_result"
    }
   ],
   "source": [
    "solution = Solution()\n",
    "solution.numIdenticalPairs([1,1,1,1])"
   ]
  },
  {
   "cell_type": "code",
   "execution_count": null,
   "metadata": {},
   "outputs": [],
   "source": []
  }
 ],
 "metadata": {
  "kernelspec": {
   "display_name": "Python 3",
   "language": "python",
   "name": "python3"
  },
  "language_info": {
   "codemirror_mode": {
    "name": "ipython",
    "version": 3
   },
   "file_extension": ".py",
   "mimetype": "text/x-python",
   "name": "python",
   "nbconvert_exporter": "python",
   "pygments_lexer": "ipython3",
   "version": "3.6.2"
  }
 },
 "nbformat": 4,
 "nbformat_minor": 4
}
