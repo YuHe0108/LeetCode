{
 "cells": [
  {
   "cell_type": "code",
   "execution_count": null,
   "metadata": {},
   "outputs": [],
   "source": []
  },
  {
   "cell_type": "code",
   "execution_count": null,
   "metadata": {},
   "outputs": [],
   "source": []
  },
  {
   "cell_type": "code",
   "execution_count": null,
   "metadata": {},
   "outputs": [],
   "source": [
    "for j in range(i+1, n): #  \n",
    "                if nums[j] == val - 1:\n",
    "                    min_val = nums[j]\n",
    "                    count[val][1] += 1\n",
    "                elif nums[j] == val + 1:\n",
    "                    max_val = nums[j]\n",
    "                    count[val][0] += 1\n",
    "                elif nums[j] == val:\n",
    "                    count[val][1] += 1\n",
    "                    count[val][0] += 1"
   ]
  },
  {
   "cell_type": "code",
   "execution_count": 40,
   "metadata": {},
   "outputs": [],
   "source": [
    "from typing import List\n",
    "from collections import defaultdict, Counter\n",
    "\n",
    "class Solution:\n",
    "    def findLHS(self, nums: List[int]) -> int:\n",
    "        n = len(nums)\n",
    "        freqs = [None] * n\n",
    "        for i in range(n):\n",
    "            freqs[i] = Counter(nums[i+1:])\n",
    "        \n",
    "        count = defaultdict(int)\n",
    "        res = 0\n",
    "        for i in range(n):\n",
    "            val = nums[i]\n",
    "            if val in count:\n",
    "                continue\n",
    "            count[val] = [1, 1] # 第一个是 val+1 的数目，第二个是val-1的数目\n",
    "            freq = freqs[i]\n",
    "            if val + 1 in freq:\n",
    "                count[val][0] += freq[val+1] + freq[val]\n",
    "                res = max(res, count[val][0])\n",
    "            if val - 1 in freq:\n",
    "                count[val][1] += freq[val-1] + freq[val]\n",
    "                res = max(res, count[val][1])\n",
    "        return res"
   ]
  },
  {
   "cell_type": "code",
   "execution_count": null,
   "metadata": {},
   "outputs": [],
   "source": []
  },
  {
   "cell_type": "code",
   "execution_count": 42,
   "metadata": {},
   "outputs": [],
   "source": [
    "from typing import List\n",
    "from collections import defaultdict, Counter\n",
    "\n",
    "class Solution:\n",
    "    def findLHS(self, nums: List[int]) -> int:\n",
    "        freq = Counter(nums)\n",
    "        count = defaultdict(int)\n",
    "        n = len(nums)\n",
    "        res = 0\n",
    "        for i in range(n):\n",
    "            val = nums[i]\n",
    "            freq[val] -= 1\n",
    "            if n - i < res:\n",
    "                break\n",
    "            if val in count:\n",
    "                continue\n",
    "            \n",
    "            count[val] = [1, 1] # 第一个是 val+1 的数目，第二个是val-1的数目\n",
    "            if val + 1 in freq:\n",
    "                count[val][0] += freq[val+1] + freq[val]\n",
    "                res = max(res, count[val][0])\n",
    "            if val - 1 in freq:\n",
    "                count[val][1] += freq[val-1] + freq[val]\n",
    "                res = max(res, count[val][1])\n",
    "        return res"
   ]
  },
  {
   "cell_type": "code",
   "execution_count": 44,
   "metadata": {},
   "outputs": [],
   "source": [
    "from typing import List\n",
    "from collections import defaultdict, Counter\n",
    "\n",
    "class Solution:\n",
    "    def findLHS(self, nums: List[int]) -> int:\n",
    "        freq = Counter(nums)\n",
    "        count = defaultdict(int)\n",
    "        n = len(nums)\n",
    "        res = 0\n",
    "        for i in range(n):\n",
    "            val = nums[i]\n",
    "            freq[val] -= 1\n",
    "            if n - i < res:\n",
    "                break\n",
    "            if val in count:\n",
    "                continue\n",
    "            \n",
    "            count[val] = 1 # 第一个是 val+1 的数目，第二个是val-1的数目\n",
    "            if val + 1 in freq:\n",
    "                count[val] += freq[val+1] + freq[val]\n",
    "                res = max(res, count[val])\n",
    "        return res"
   ]
  },
  {
   "cell_type": "code",
   "execution_count": 45,
   "metadata": {},
   "outputs": [
    {
     "data": {
      "text/plain": [
       "7"
      ]
     },
     "execution_count": 45,
     "metadata": {},
     "output_type": "execute_result"
    }
   ],
   "source": [
    "solution = Solution()\n",
    "solution.findLHS([-1,0,-1,0,-1,0,-1])"
   ]
  },
  {
   "cell_type": "code",
   "execution_count": null,
   "metadata": {},
   "outputs": [],
   "source": [
    "class Solution:\n",
    "    def findLHS(self, nums: List[int]) -> int:\n",
    "        record=collections.Counter(nums)\n",
    "        res=float('-inf')\n",
    "\n",
    "        for k in record.keys():\n",
    "            if k+1 in record:\n",
    "                res=max(record[k]+record[k+1],res)\n",
    "\n",
    "        return res if res!=float('-inf') else 0\n"
   ]
  }
 ],
 "metadata": {
  "kernelspec": {
   "display_name": "Python 3",
   "language": "python",
   "name": "python3"
  },
  "language_info": {
   "codemirror_mode": {
    "name": "ipython",
    "version": 3
   },
   "file_extension": ".py",
   "mimetype": "text/x-python",
   "name": "python",
   "nbconvert_exporter": "python",
   "pygments_lexer": "ipython3",
   "version": "3.6.2"
  }
 },
 "nbformat": 4,
 "nbformat_minor": 4
}
