{
 "cells": [
  {
   "cell_type": "code",
   "execution_count": null,
   "metadata": {},
   "outputs": [],
   "source": []
  },
  {
   "cell_type": "raw",
   "metadata": {},
   "source": [
    "但 sorted()也是一个高阶函数，它可以接收一个比较函数来实现自定义排序，比较函数的定义是，传入两个待比较的元素 x, y，如果 x 应该排在 y 的前面，返回 -1，如果 x 应该排在 y 的后面，返回 1。如果 x 和 y 相等，返回 0。"
   ]
  },
  {
   "cell_type": "code",
   "execution_count": null,
   "metadata": {},
   "outputs": [],
   "source": []
  },
  {
   "cell_type": "code",
   "execution_count": 118,
   "metadata": {},
   "outputs": [],
   "source": [
    "from typing import List\n",
    "from collections import Counter, defaultdict\n",
    "from functools import cmp_to_key\n",
    "\n",
    "class Solution:\n",
    "    def isAlienSorted(self, words: List[str], order: str) -> bool:\n",
    "        def sort_fun(x, y):\n",
    "            n = min(len(x), len(y))\n",
    "            idx = 0\n",
    "            while idx < n:\n",
    "                x_char, y_char = x[idx], y[idx]\n",
    "                # 小的排在前面\n",
    "                if count[x_char] < count[y_char]:\n",
    "                    return -1\n",
    "                elif count[x_char] > count[y_char]:\n",
    "                    return 1\n",
    "                idx += 1\n",
    "            # 长度短的排在前面\n",
    "            if len(x) < len(y):\n",
    "                return -1\n",
    "            return 1 # 长度更小的排在前面\n",
    "        \n",
    "        count = defaultdict(int)\n",
    "        for i, letter in enumerate(order):\n",
    "            count[letter] = i\n",
    "        s_words = sorted(words, key=cmp_to_key(sort_fun)) # 自定义排序\n",
    "        print(s_words)\n",
    "        return s_words == words"
   ]
  },
  {
   "cell_type": "code",
   "execution_count": 119,
   "metadata": {},
   "outputs": [
    {
     "name": "stdout",
     "output_type": "stream",
     "text": [
      "['world', 'word', 'row']\n"
     ]
    },
    {
     "data": {
      "text/plain": [
       "False"
      ]
     },
     "execution_count": 119,
     "metadata": {},
     "output_type": "execute_result"
    }
   ],
   "source": [
    "solution = Solution()\n",
    "solution.isAlienSorted(words = [\"word\",\"world\",\"row\"], order = \"worldabcefghijkmnpqstuvxyz\")"
   ]
  },
  {
   "cell_type": "code",
   "execution_count": null,
   "metadata": {},
   "outputs": [],
   "source": []
  },
  {
   "cell_type": "code",
   "execution_count": null,
   "metadata": {},
   "outputs": [],
   "source": []
  },
  {
   "cell_type": "code",
   "execution_count": 107,
   "metadata": {},
   "outputs": [],
   "source": [
    "from typing import List\n",
    "\n",
    "class Solution:\n",
    "    def isAlienSorted(self, words: List[str], order: str) -> bool:\n",
    "        order_map = {j:i  for i,j in enumerate(order)}\n",
    "\n",
    "        for i in range(len(words)-1):\n",
    "            if self.compare(words[i],words[i+1],order_map):\n",
    "                return False\n",
    "        return True\n",
    "        \n",
    "    def compare(self, x, y, order_map):\n",
    "        for i in range(len(x)):\n",
    "            if i >= len(y):\n",
    "                return True\n",
    "            if order_map[x[i]]  >order_map[y[i]]:\n",
    "                return True\n",
    "            if order_map[x[i]] < order_map[y[i]]:\n",
    "                return False\n",
    "        return False"
   ]
  },
  {
   "cell_type": "code",
   "execution_count": 108,
   "metadata": {},
   "outputs": [
    {
     "data": {
      "text/plain": [
       "False"
      ]
     },
     "execution_count": 108,
     "metadata": {},
     "output_type": "execute_result"
    }
   ],
   "source": [
    "solution = Solution()\n",
    "solution.isAlienSorted(words = [\"word\",\"world\",\"row\"], order = \"worldabcefghijkmnpqstuvxyz\")"
   ]
  },
  {
   "cell_type": "code",
   "execution_count": null,
   "metadata": {},
   "outputs": [],
   "source": []
  }
 ],
 "metadata": {
  "kernelspec": {
   "display_name": "Python 3",
   "language": "python",
   "name": "python3"
  },
  "language_info": {
   "codemirror_mode": {
    "name": "ipython",
    "version": 3
   },
   "file_extension": ".py",
   "mimetype": "text/x-python",
   "name": "python",
   "nbconvert_exporter": "python",
   "pygments_lexer": "ipython3",
   "version": "3.6.2"
  }
 },
 "nbformat": 4,
 "nbformat_minor": 4
}
