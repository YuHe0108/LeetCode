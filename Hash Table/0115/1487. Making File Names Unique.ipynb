{
 "cells": [
  {
   "cell_type": "code",
   "execution_count": null,
   "metadata": {},
   "outputs": [],
   "source": []
  },
  {
   "cell_type": "code",
   "execution_count": null,
   "metadata": {},
   "outputs": [],
   "source": []
  },
  {
   "cell_type": "code",
   "execution_count": null,
   "metadata": {},
   "outputs": [],
   "source": []
  },
  {
   "cell_type": "code",
   "execution_count": 72,
   "metadata": {},
   "outputs": [],
   "source": [
    "from typing import List\n",
    "from collections import Counter, defaultdict\n",
    "\n",
    "class Solution:\n",
    "    def getFolderNames(self, names: List[str]) -> List[str]:\n",
    "        res = []\n",
    "        seen = defaultdict(int)\n",
    "        for i, name in enumerate(names):\n",
    "            if name not in seen:\n",
    "                l_idx = None if '(' not in name else name.index('(')\n",
    "                if not l_idx:\n",
    "                    seen[name] = 1\n",
    "                else:\n",
    "                    f_name = name[:l_idx]\n",
    "                    seen[f_name] += 1\n",
    "            else:\n",
    "                s_name = name + '({})'.format(seen[name])\n",
    "                seen[name] += 1\n",
    "                seen[s_name] = 1\n",
    "                name = s_name\n",
    "            res.append(name)\n",
    "        print(seen)\n",
    "        return res"
   ]
  },
  {
   "cell_type": "code",
   "execution_count": null,
   "metadata": {},
   "outputs": [],
   "source": []
  },
  {
   "cell_type": "code",
   "execution_count": null,
   "metadata": {},
   "outputs": [],
   "source": []
  },
  {
   "cell_type": "code",
   "execution_count": 151,
   "metadata": {},
   "outputs": [],
   "source": [
    "from typing import List\n",
    "from collections import Counter, defaultdict\n",
    "\n",
    "class Solution:\n",
    "    def getFolderNames(self, names: List[str]) -> List[str]:\n",
    "        res = []\n",
    "        count = defaultdict(set)\n",
    "        for i, name in enumerate(names):\n",
    "            if name not in count:\n",
    "                count[name] = set()\n",
    "            else:\n",
    "                nums = count[name]\n",
    "                for i in range(1, 10000):\n",
    "                    s_name = name + '({})'.format(i)\n",
    "                    if i not in nums and s_name not in count:\n",
    "                        count[s_name].add(i)\n",
    "                        break\n",
    "                name = s_name\n",
    "            res.append(name)\n",
    "        return res"
   ]
  },
  {
   "cell_type": "code",
   "execution_count": null,
   "metadata": {},
   "outputs": [],
   "source": []
  },
  {
   "cell_type": "code",
   "execution_count": null,
   "metadata": {},
   "outputs": [],
   "source": []
  },
  {
   "cell_type": "code",
   "execution_count": 161,
   "metadata": {},
   "outputs": [],
   "source": [
    "class Solution:\n",
    "    def getFolderNames(self, names: List[str]) -> List[str]:\n",
    "        d, ans = {}, []\n",
    "        for name in names:\n",
    "            s = name\n",
    "            while s in d:\n",
    "                s = f'{name}({d[name]})'\n",
    "                d[name] += 1\n",
    "            d[s] = 1\n",
    "            ans.append(s)\n",
    "        return ans"
   ]
  },
  {
   "cell_type": "code",
   "execution_count": 165,
   "metadata": {},
   "outputs": [
    {
     "name": "stdout",
     "output_type": "stream",
     "text": [
      "kaido(1)\n",
      "kaido(2)\n",
      "kaido(3)\n",
      "kaido(4)\n",
      "kaido(1)(1)\n"
     ]
    },
    {
     "data": {
      "text/plain": [
       "['kaido', 'kaido(2)', 'kaido(1)', 'kaido(3)', 'kaido(4)', 'kaido(1)(1)']"
      ]
     },
     "execution_count": 165,
     "metadata": {},
     "output_type": "execute_result"
    }
   ],
   "source": [
    "solution = Solution()\n",
    "solution.getFolderNames(names = [\"kaido\",\"kaido(2)\",\"kaido\",\"kaido\",\"kaido\",\"kaido(1)\"])"
   ]
  },
  {
   "cell_type": "code",
   "execution_count": 46,
   "metadata": {},
   "outputs": [
    {
     "name": "stdout",
     "output_type": "stream",
     "text": [
      "0\n"
     ]
    }
   ],
   "source": [
    "for i in range(1):\n",
    "    print(i)"
   ]
  },
  {
   "cell_type": "code",
   "execution_count": 52,
   "metadata": {},
   "outputs": [
    {
     "ename": "ValueError",
     "evalue": "substring not found",
     "output_type": "error",
     "traceback": [
      "\u001b[1;31m---------------------------------------------------------------------------\u001b[0m",
      "\u001b[1;31mValueError\u001b[0m                                Traceback (most recent call last)",
      "\u001b[1;32m<ipython-input-52-99ca4a4a1d8e>\u001b[0m in \u001b[0;36m<module>\u001b[1;34m\u001b[0m\n\u001b[0;32m      1\u001b[0m \u001b[0ma\u001b[0m \u001b[1;33m=\u001b[0m \u001b[1;34m'aaa'\u001b[0m\u001b[1;33m\u001b[0m\u001b[0m\n\u001b[1;32m----> 2\u001b[1;33m \u001b[0mprint\u001b[0m\u001b[1;33m(\u001b[0m\u001b[0ma\u001b[0m\u001b[1;33m.\u001b[0m\u001b[0mindex\u001b[0m\u001b[1;33m(\u001b[0m\u001b[1;34m'('\u001b[0m\u001b[1;33m)\u001b[0m\u001b[1;33m)\u001b[0m\u001b[1;33m\u001b[0m\u001b[0m\n\u001b[0m",
      "\u001b[1;31mValueError\u001b[0m: substring not found"
     ]
    }
   ],
   "source": [
    "a = 'aaa'\n",
    "print(a.index('('))"
   ]
  },
  {
   "cell_type": "code",
   "execution_count": null,
   "metadata": {},
   "outputs": [],
   "source": []
  }
 ],
 "metadata": {
  "kernelspec": {
   "display_name": "Python 3",
   "language": "python",
   "name": "python3"
  },
  "language_info": {
   "codemirror_mode": {
    "name": "ipython",
    "version": 3
   },
   "file_extension": ".py",
   "mimetype": "text/x-python",
   "name": "python",
   "nbconvert_exporter": "python",
   "pygments_lexer": "ipython3",
   "version": "3.6.2"
  }
 },
 "nbformat": 4,
 "nbformat_minor": 4
}
