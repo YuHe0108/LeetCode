{
 "cells": [
  {
   "cell_type": "code",
   "execution_count": null,
   "metadata": {},
   "outputs": [],
   "source": []
  },
  {
   "cell_type": "code",
   "execution_count": null,
   "metadata": {},
   "outputs": [],
   "source": []
  },
  {
   "cell_type": "code",
   "execution_count": null,
   "metadata": {},
   "outputs": [],
   "source": []
  },
  {
   "cell_type": "code",
   "execution_count": 9,
   "metadata": {},
   "outputs": [],
   "source": [
    "from typing import List\n",
    "from collections import defaultdict\n",
    "\n",
    "class Solution:\n",
    "    def largestValsFromLabels(self, values: List[int], labels: List[int], num_wanted: int, use_limit: int) -> int:\n",
    "        v_l = sorted(zip(values, labels))\n",
    "        values = [x[0] for x in v_l]\n",
    "        labels = [x[1] for x in v_l]\n",
    "        count = defaultdict(list)\n",
    "        for i in range(len(values)): # 每一种label下，有哪些价值，从小到大排序\n",
    "            count[labels[i]].append(values[i])\n",
    "        print(values, labels)\n",
    "        print(count)\n",
    "        \n",
    "        # 可以选择 num_wanted 数量的 values，但是这些values的标签不能大于 use_limit\n",
    "        \n",
    "        \n",
    "        return"
   ]
  },
  {
   "cell_type": "code",
   "execution_count": null,
   "metadata": {},
   "outputs": [],
   "source": []
  },
  {
   "cell_type": "code",
   "execution_count": 60,
   "metadata": {},
   "outputs": [],
   "source": [
    "from typing import List\n",
    "from collections import defaultdict\n",
    "\n",
    "class Solution:\n",
    "    def largestValsFromLabels(self, values: List[int], labels: List[int], num_wanted: int, use_limit: int) -> int:\n",
    "        v_l = sorted(zip(values, labels))\n",
    "        values = [x[0] for x in v_l]\n",
    "        labels = [x[1] for x in v_l]\n",
    "        count = defaultdict(int)\n",
    "        cnt = 0\n",
    "        res = 0\n",
    "        for i in range(len(values)-1, -1, -1):\n",
    "            v = values[i]\n",
    "            l = labels[i]\n",
    "            if count[l] < use_limit:\n",
    "                res += v\n",
    "                count[l] += 1\n",
    "                cnt += 1\n",
    "            if cnt == num_wanted:\n",
    "                break\n",
    "        return res"
   ]
  },
  {
   "cell_type": "code",
   "execution_count": 64,
   "metadata": {},
   "outputs": [
    {
     "data": {
      "text/plain": [
       "24"
      ]
     },
     "execution_count": 64,
     "metadata": {},
     "output_type": "execute_result"
    }
   ],
   "source": [
    "solution = Solution()\n",
    "solution.largestValsFromLabels(values = [9,8,8,7,6], labels = [0,0,0,1,1], num_wanted = 3, use_limit = 2)"
   ]
  },
  {
   "cell_type": "code",
   "execution_count": null,
   "metadata": {},
   "outputs": [],
   "source": []
  }
 ],
 "metadata": {
  "kernelspec": {
   "display_name": "Python 3",
   "language": "python",
   "name": "python3"
  },
  "language_info": {
   "codemirror_mode": {
    "name": "ipython",
    "version": 3
   },
   "file_extension": ".py",
   "mimetype": "text/x-python",
   "name": "python",
   "nbconvert_exporter": "python",
   "pygments_lexer": "ipython3",
   "version": "3.6.2"
  }
 },
 "nbformat": 4,
 "nbformat_minor": 4
}
