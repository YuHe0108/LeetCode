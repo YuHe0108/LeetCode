{
 "cells": [
  {
   "cell_type": "code",
   "execution_count": null,
   "metadata": {},
   "outputs": [],
   "source": []
  },
  {
   "cell_type": "code",
   "execution_count": null,
   "metadata": {},
   "outputs": [],
   "source": []
  },
  {
   "cell_type": "code",
   "execution_count": null,
   "metadata": {},
   "outputs": [],
   "source": []
  },
  {
   "cell_type": "code",
   "execution_count": 29,
   "metadata": {},
   "outputs": [],
   "source": [
    "from typing import List\n",
    "from collections import defaultdict, Counter\n",
    "\n",
    "class Solution:\n",
    "    def displayTable(self, orders: List[List[str]]) -> List[List[str]]:\n",
    "        foods = set() # 有那些菜\n",
    "        tabs = set() # 有哪些桌号\n",
    "        for a, b, c in orders:\n",
    "            b = int(b)\n",
    "            foods.add(c)\n",
    "            tabs.add(b)\n",
    "        s_foods = sorted(foods)\n",
    "        s_tabs = sorted(tabs)\n",
    "        f2idx = {}\n",
    "        for i, f in enumerate(s_foods):\n",
    "            f2idx[f] = i\n",
    "        \n",
    "        count = defaultdict(dict)\n",
    "        for a, b, c in orders:\n",
    "            b = int(b)\n",
    "            c = f2idx[c]\n",
    "            if c not in count[b]:\n",
    "                count[b][c] = 1\n",
    "            else:\n",
    "                count[b][c] += 1\n",
    "        res = [['Table'] + s_foods]\n",
    "        for t in s_tabs:\n",
    "            cur = ['0'] * len(s_foods)\n",
    "            for v in count[t]:\n",
    "                cur[v] = str(count[t][v])\n",
    "            cur = [str(t)] + cur\n",
    "            res.append(cur)\n",
    "        return res"
   ]
  },
  {
   "cell_type": "code",
   "execution_count": 30,
   "metadata": {},
   "outputs": [
    {
     "data": {
      "text/plain": [
       "[['Table', 'Beef Burrito', 'Ceviche', 'Fried Chicken', 'Water'],\n",
       " ['3', '0', '2', '1', '0'],\n",
       " ['5', '0', '1', '0', '1'],\n",
       " ['10', '1', '0', '0', '0']]"
      ]
     },
     "execution_count": 30,
     "metadata": {},
     "output_type": "execute_result"
    }
   ],
   "source": [
    "solution = Solution()\n",
    "solution.displayTable(orders = [[\"David\",\"3\",\"Ceviche\"],[\"Corina\",\"10\",\"Beef Burrito\"],\n",
    "                                [\"David\",\"3\",\"Fried Chicken\"],[\"Carla\",\"5\",\"Water\"],\n",
    "                                [\"Carla\",\"5\",\"Ceviche\"],[\"Rous\",\"3\",\"Ceviche\"]])"
   ]
  },
  {
   "cell_type": "code",
   "execution_count": null,
   "metadata": {},
   "outputs": [],
   "source": []
  }
 ],
 "metadata": {
  "kernelspec": {
   "display_name": "Python 3",
   "language": "python",
   "name": "python3"
  },
  "language_info": {
   "codemirror_mode": {
    "name": "ipython",
    "version": 3
   },
   "file_extension": ".py",
   "mimetype": "text/x-python",
   "name": "python",
   "nbconvert_exporter": "python",
   "pygments_lexer": "ipython3",
   "version": "3.6.2"
  }
 },
 "nbformat": 4,
 "nbformat_minor": 4
}
