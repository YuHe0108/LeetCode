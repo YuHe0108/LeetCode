{
 "cells": [
  {
   "cell_type": "code",
   "execution_count": null,
   "metadata": {},
   "outputs": [],
   "source": [
    "from collections import defaultdict\n",
    "import bisect\n",
    "\n",
    "class TimeMap:\n",
    "    \n",
    "    def __init__(self):\n",
    "        self.time_map = defaultdict(dict)\n",
    "        self.keys = defaultdict(list)\n",
    "\n",
    "    def set(self, key: str, value: str, timestamp: int) -> None:\n",
    "        self.time_map[key][timestamp] = value\n",
    "        self.keys[key].append(timestamp)\n",
    "\n",
    "    def get(self, key: str, timestamp: int) -> str:\n",
    "        keys = self.keys[key]\n",
    "        # timestamp_prev <= timestamp\n",
    "        # 找到 timestamp_prev 对应的 self.time_map[key] 的值\n",
    "        idx = bisect.bisect_left(keys, timestamp)\n",
    "        i = keys[idx] if idx < len(keys) else keys[-1]\n",
    "        if i > timestamp:\n",
    "            if idx > 0:\n",
    "                idx -= 1\n",
    "                i = keys[idx]\n",
    "            else:\n",
    "                return ''\n",
    "        return self.time_map[key][i]\n",
    "        "
   ]
  }
 ],
 "metadata": {
  "kernelspec": {
   "display_name": "Python 3",
   "language": "python",
   "name": "python3"
  },
  "language_info": {
   "codemirror_mode": {
    "name": "ipython",
    "version": 3
   },
   "file_extension": ".py",
   "mimetype": "text/x-python",
   "name": "python",
   "nbconvert_exporter": "python",
   "pygments_lexer": "ipython3",
   "version": "3.6.2"
  }
 },
 "nbformat": 4,
 "nbformat_minor": 4
}
