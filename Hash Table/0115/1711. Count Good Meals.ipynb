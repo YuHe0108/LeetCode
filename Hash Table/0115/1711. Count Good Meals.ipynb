{
 "cells": [
  {
   "cell_type": "code",
   "execution_count": null,
   "metadata": {},
   "outputs": [],
   "source": []
  },
  {
   "cell_type": "code",
   "execution_count": null,
   "metadata": {},
   "outputs": [],
   "source": []
  },
  {
   "cell_type": "code",
   "execution_count": null,
   "metadata": {},
   "outputs": [],
   "source": []
  },
  {
   "cell_type": "code",
   "execution_count": null,
   "metadata": {},
   "outputs": [],
   "source": [
    "class Solution:\n",
    "    def countPairs(self, deliciousness: List[int]) -> int:\n",
    "        n = len(deliciousness)\n",
    "        count = 0\n",
    "        from collections import defaultdict\n",
    "        d = {}\n",
    "        for i in deliciousness:\n",
    "            if i in d:\n",
    "                d[i] += 1\n",
    "            else:\n",
    "                d[i] = 1\n",
    "        maxnum = 2*max(deliciousness)\n",
    "        t = 1\n",
    "        while t <= maxnum:\n",
    "            target = t\n",
    "            for key in d:\n",
    "                if t-key in d and t-key >= key:\n",
    "                    if t-key == key:\n",
    "                        count += d[t-key] * (d[key]-1)//2\n",
    "                    else:\n",
    "                        count += d[t-key] * d[key]\n",
    "            t = 2*t\n",
    "\n",
    "        return count % (10**9+7)\n",
    "\n",
    "                    "
   ]
  },
  {
   "cell_type": "code",
   "execution_count": null,
   "metadata": {},
   "outputs": [],
   "source": []
  },
  {
   "cell_type": "code",
   "execution_count": null,
   "metadata": {},
   "outputs": [],
   "source": []
  },
  {
   "cell_type": "code",
   "execution_count": null,
   "metadata": {},
   "outputs": [],
   "source": []
  },
  {
   "cell_type": "code",
   "execution_count": null,
   "metadata": {},
   "outputs": [],
   "source": []
  },
  {
   "cell_type": "code",
   "execution_count": null,
   "metadata": {},
   "outputs": [],
   "source": []
  },
  {
   "cell_type": "code",
   "execution_count": 112,
   "metadata": {},
   "outputs": [],
   "source": [
    "from typing import List\n",
    "from collections import defaultdict, Counter\n",
    "# from scipy.special import comb, perm\n",
    "from functools import lru_cache\n",
    "\n",
    "class Solution:\n",
    "    def countPairs(self, deliciousness: List[int]) -> int:\n",
    "        @lru_cache(None)\n",
    "        def perm_val(n1, n2):\n",
    "            # 计算组合数\n",
    "            return comb(n1, n2)\n",
    "        \n",
    "        max_val = max(deliciousness)\n",
    "        mod = pow(10, 9) + 7\n",
    "        count = Counter(deliciousness)\n",
    "        cnt = 0\n",
    "        seen = set()\n",
    "        for v1, k1 in count.items():\n",
    "            for t in range(22):\n",
    "                v2 = pow(2, t) - v1\n",
    "                if v2 > max_val:\n",
    "                    break\n",
    "                if v2 in count and (v1, v2) not in seen and (v2, v2) not in seen:\n",
    "                    if v2 != v1:\n",
    "                        seen.add((v1, v2))\n",
    "                        seen.add((v2, v1))\n",
    "                        cnt += perm_val(k1, 1) * perm_val(count[v2], 1) # k个里面选择一个n1 * n2\n",
    "                    else:\n",
    "                        cnt += perm_val(count[v1], 2)\n",
    "            cnt = cnt % mod\n",
    "        return cnt % mod"
   ]
  },
  {
   "cell_type": "code",
   "execution_count": 113,
   "metadata": {},
   "outputs": [
    {
     "data": {
      "text/plain": [
       "1.0"
      ]
     },
     "execution_count": 113,
     "metadata": {},
     "output_type": "execute_result"
    }
   ],
   "source": [
    "solution = Solution()\n",
    "solution.countPairs([1048576, 1048576])"
   ]
  },
  {
   "cell_type": "code",
   "execution_count": 15,
   "metadata": {},
   "outputs": [
    {
     "name": "stdout",
     "output_type": "stream",
     "text": [
      "3.0\n"
     ]
    }
   ],
   "source": [
    "print(comb(3, 1))"
   ]
  },
  {
   "cell_type": "code",
   "execution_count": 21,
   "metadata": {},
   "outputs": [
    {
     "data": {
      "text/plain": [
       "0"
      ]
     },
     "execution_count": 21,
     "metadata": {},
     "output_type": "execute_result"
    }
   ],
   "source": [
    "0 %2"
   ]
  },
  {
   "cell_type": "code",
   "execution_count": 74,
   "metadata": {},
   "outputs": [
    {
     "data": {
      "text/plain": [
       "2097152"
      ]
     },
     "execution_count": 74,
     "metadata": {},
     "output_type": "execute_result"
    }
   ],
   "source": [
    "1048576 + 1048576"
   ]
  },
  {
   "cell_type": "code",
   "execution_count": 78,
   "metadata": {},
   "outputs": [
    {
     "data": {
      "text/plain": [
       "1448.1546878700494"
      ]
     },
     "execution_count": 78,
     "metadata": {},
     "output_type": "execute_result"
    }
   ],
   "source": [
    "import math\n",
    "math.sqrt(1048576 + 1048576)"
   ]
  },
  {
   "cell_type": "code",
   "execution_count": 93,
   "metadata": {},
   "outputs": [
    {
     "data": {
      "text/plain": [
       "2097152"
      ]
     },
     "execution_count": 93,
     "metadata": {},
     "output_type": "execute_result"
    }
   ],
   "source": [
    "pow(2, 21)"
   ]
  },
  {
   "cell_type": "code",
   "execution_count": null,
   "metadata": {},
   "outputs": [],
   "source": []
  }
 ],
 "metadata": {
  "kernelspec": {
   "display_name": "Python 3",
   "language": "python",
   "name": "python3"
  },
  "language_info": {
   "codemirror_mode": {
    "name": "ipython",
    "version": 3
   },
   "file_extension": ".py",
   "mimetype": "text/x-python",
   "name": "python",
   "nbconvert_exporter": "python",
   "pygments_lexer": "ipython3",
   "version": "3.6.2"
  }
 },
 "nbformat": 4,
 "nbformat_minor": 4
}
