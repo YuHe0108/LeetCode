{
 "cells": [
  {
   "cell_type": "code",
   "execution_count": null,
   "metadata": {},
   "outputs": [],
   "source": []
  },
  {
   "cell_type": "code",
   "execution_count": null,
   "metadata": {},
   "outputs": [],
   "source": []
  },
  {
   "cell_type": "code",
   "execution_count": null,
   "metadata": {},
   "outputs": [],
   "source": [
    "from typing import List\n",
    "from collections import defaultdict, Counter\n",
    "\n",
    "class Solution:\n",
    "    def maxOperations(self, nums: List[int], k: int) -> int:\n",
    "        count = Counter(nums)\n",
    "        cnt = 0\n",
    "        for v in count.keys():\n",
    "            if count[v] == 0:\n",
    "                continue\n",
    "            n1 = count[v]\n",
    "            tar = k - v\n",
    "            count[v] = 0\n",
    "            if tar in count:\n",
    "                n2 = count[tar]\n",
    "                if v != tar: # 两个值不等\n",
    "                    cnt += min(n1, n2)\n",
    "                    count[tar] = 0\n",
    "                else:\n",
    "                    cnt += n1 // 2\n",
    "        return cnt"
   ]
  },
  {
   "cell_type": "code",
   "execution_count": null,
   "metadata": {},
   "outputs": [],
   "source": []
  },
  {
   "cell_type": "code",
   "execution_count": null,
   "metadata": {},
   "outputs": [],
   "source": []
  },
  {
   "cell_type": "code",
   "execution_count": null,
   "metadata": {},
   "outputs": [],
   "source": []
  },
  {
   "cell_type": "code",
   "execution_count": null,
   "metadata": {},
   "outputs": [],
   "source": []
  },
  {
   "cell_type": "code",
   "execution_count": null,
   "metadata": {},
   "outputs": [],
   "source": []
  },
  {
   "cell_type": "code",
   "execution_count": null,
   "metadata": {},
   "outputs": [],
   "source": []
  },
  {
   "cell_type": "code",
   "execution_count": null,
   "metadata": {},
   "outputs": [],
   "source": []
  },
  {
   "cell_type": "code",
   "execution_count": null,
   "metadata": {},
   "outputs": [],
   "source": []
  },
  {
   "cell_type": "code",
   "execution_count": 35,
   "metadata": {},
   "outputs": [],
   "source": [
    "from typing import List\n",
    "from collections import defaultdict, Counter\n",
    "\n",
    "class Solution:\n",
    "    def maxOperations(self, nums: List[int], k: int) -> int:\n",
    "        count = Counter(nums)\n",
    "        vals = set(nums)\n",
    "        cnt = 0\n",
    "        while vals:\n",
    "            for v in vals:\n",
    "                n1 = count[v]\n",
    "                tar = k - v\n",
    "                # print(cnt, count[v], count[tar], v, tar)\n",
    "                if tar in count:\n",
    "                    n2 = count[tar]\n",
    "                    if v != tar: # 两个值不等\n",
    "                        cnt += min(n1, n2)\n",
    "                        vals.remove(tar)\n",
    "                        del count[tar]\n",
    "                    else:\n",
    "                        cnt += n1 // 2\n",
    "                del count[v]\n",
    "                vals.remove(v)\n",
    "                break\n",
    "        return cnt"
   ]
  },
  {
   "cell_type": "code",
   "execution_count": null,
   "metadata": {},
   "outputs": [],
   "source": []
  },
  {
   "cell_type": "code",
   "execution_count": null,
   "metadata": {},
   "outputs": [],
   "source": []
  },
  {
   "cell_type": "code",
   "execution_count": null,
   "metadata": {},
   "outputs": [],
   "source": [
    "from typing import List\n",
    "from collections import defaultdict, Counter\n",
    "\n",
    "class Solution:\n",
    "    def maxOperations(self, nums: List[int], k: int) -> int:\n",
    "        count = Counter(nums)\n",
    "        cnt = 0\n",
    "        while count:\n",
    "            for v in count.keys():\n",
    "                n1 = count[v]\n",
    "                tar = k - v\n",
    "                if tar in count:\n",
    "                    n2 = count[tar]\n",
    "                    if v != tar: # 两个值不等\n",
    "                        cnt += min(n1, n2)\n",
    "                        del count[tar]\n",
    "                    else:\n",
    "                        cnt += n1 // 2\n",
    "                del count[v]\n",
    "                break\n",
    "        return cnt"
   ]
  },
  {
   "cell_type": "code",
   "execution_count": 36,
   "metadata": {},
   "outputs": [
    {
     "data": {
      "text/plain": [
       "42"
      ]
     },
     "execution_count": 36,
     "metadata": {},
     "output_type": "execute_result"
    }
   ],
   "source": [
    "solution = Solution()\n",
    "solution.maxOperations([63,10,28,31,90,53,75,77,72,47,45,6,49,13,77,61,68,43,33,1,14,62,55,55,38,54,8,79,89,14,50,68,85,12,42,57,4,67,75,6,71,8,61,26,11,20,22,3,70,52,82,70,67,18,66,79,84,51,78,23,19,84,46,61,63,73,80,61,15,12,58,3,21,66,42,55,7,58,85,60,23,69,41,61,35,64,58,84,61,77,45,14,1,38,4,8,42,16,79,60,80,39,67,10,24,15,6,37,68,76,30,53,63,87,11,71,86,82,77,76,37,21,85,7,75,83,80,8,19,25,11,10,41,66,70,14,23,74,33,76,35,89,68,85,83,57,6,72,34,21,57,72,79,29,65,3,67,8,24,24,18,26,27,68,78,64,57,55,68,28,9,11,38,45,61,37,81,89,38,43,45,26,84,62,22,37,51,15,30,67,75,24,66,40,81,74,48,43,78,14,33,19,73,5,1,2,53,29,49,73,23,5],\n",
    "                       59)"
   ]
  },
  {
   "cell_type": "code",
   "execution_count": null,
   "metadata": {},
   "outputs": [],
   "source": [
    "[63,10,28,31,90,53,75,77,72,47,45,6,49,13,77,61,68,43,33,1,14,62,55,55,38,54,8,79,89,14,50,68,85,12,42,57,4,67,75,6,71,8,61,26,11,20,22,3,70,52,82,70,67,18,66,79,84,51,78,23,19,84,46,61,63,73,80,61,15,12,58,3,21,66,42,55,7,58,85,60,23,69,41,61,35,64,58,84,61,77,45,14,1,38,4,8,42,16,79,60,80,39,67,10,24,15,6,37,68,76,30,53,63,87,11,71,86,82,77,76,37,21,85,7,75,83,80,8,19,25,11,10,41,66,70,14,23,74,33,76,35,89,68,85,83,57,6,72,34,21,57,72,79,29,65,3,67,8,24,24,18,26,27,68,78,64,57,55,68,28,9,11,38,45,61,37,81,89,38,43,45,26,84,62,22,37,51,15,30,67,75,24,66,40,81,74,48,43,78,14,33,19,73,5,1,2,53,29,49,73,23,5]\n",
    "59"
   ]
  },
  {
   "cell_type": "code",
   "execution_count": null,
   "metadata": {},
   "outputs": [],
   "source": []
  },
  {
   "cell_type": "code",
   "execution_count": null,
   "metadata": {},
   "outputs": [],
   "source": [
    "Counter({61: 7, 68: 6, 14: 5, 8: 5, 67: 5, 75: 4, 77: 4, 45: 4, 6: 4, 55: 4, 38: 4, \n",
    "         79: 4, 85: 4, 57: 4, 11: 4, 66: 4, 84: 4, 23: 4, 24: 4, 37: 4, 63: 3, 10: 3, \n",
    "         53: 3, 72: 3, 43: 3, 33: 3, 1: 3, 89: 3, 42: 3, 26: 3, 3: 3, 70: 3, 78: 3, 19: 3, \n",
    "         73: 3, 80: 3, 15: 3, 58: 3, 21: 3, 76: 3, 28: 2, 49: 2, 62: 2, 12: 2, 4: 2, 71: 2, 22: 2, \n",
    "         82: 2, 18: 2, 51: 2, 7: 2, 60: 2, 41: 2, 35: 2, 64: 2, 30: 2, 83: 2, 74: 2, 29: 2, 81: 2, 5: 2,\n",
    "         31: 1, 90: 1, 47: 1, 13: 1, 54: 1, 50: 1, 20: 1, 52: 1, 46: 1, 69: 1, 16: 1, 39: 1, 87: 1, 86: 1, \n",
    "         25: 1, 34: 1, 65: 1, 27: 1, 9: 1, 40: 1, 48: 1, 2: 1})"
   ]
  }
 ],
 "metadata": {
  "kernelspec": {
   "display_name": "Python 3",
   "language": "python",
   "name": "python3"
  },
  "language_info": {
   "codemirror_mode": {
    "name": "ipython",
    "version": 3
   },
   "file_extension": ".py",
   "mimetype": "text/x-python",
   "name": "python",
   "nbconvert_exporter": "python",
   "pygments_lexer": "ipython3",
   "version": "3.6.2"
  }
 },
 "nbformat": 4,
 "nbformat_minor": 4
}
