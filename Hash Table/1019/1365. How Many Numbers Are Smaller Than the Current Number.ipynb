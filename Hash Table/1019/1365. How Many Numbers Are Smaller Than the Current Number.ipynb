{
 "cells": [
  {
   "cell_type": "raw",
   "metadata": {},
   "source": [
    "说明：\n",
    "    给你一个数组 nums，对于其中每个元素 nums[i]，请你统计数组中比它小的所有数字的数目。\n",
    "    换而言之，对于每个 nums[i] 你必须计算出有效的 j 的数量，其中 j 满足 j != i 且 nums[j] < nums[i] 。\n",
    "    以数组形式返回答案。\n",
    "\n",
    "示例 1：\n",
    "    输入：nums = [8,1,2,2,3]\n",
    "    输出：[4,0,1,1,3]\n",
    "    解释： \n",
    "    对于 nums[0]=8 存在四个比它小的数字：（1，2，2 和 3）。 \n",
    "    对于 nums[1]=1 不存在比它小的数字。\n",
    "    对于 nums[2]=2 存在一个比它小的数字：（1）。 \n",
    "    对于 nums[3]=2 存在一个比它小的数字：（1）。 \n",
    "    对于 nums[4]=3 存在三个比它小的数字：（1，2 和 2）。\n",
    "\n",
    "示例 2：\n",
    "    输入：nums = [6,5,4,8]\n",
    "    输出：[2,1,0,3]\n",
    "\n",
    "示例 3：\n",
    "    输入：nums = [7,7,7,7]\n",
    "    输出：[0,0,0,0]\n",
    "\n",
    "提示：\n",
    "    1、2 <= nums.length <= 500\n",
    "    2、0 <= nums[i] <= 100"
   ]
  },
  {
   "cell_type": "code",
   "execution_count": 21,
   "metadata": {},
   "outputs": [],
   "source": [
    "from collections import Counter\n",
    "\n",
    "class Solution:\n",
    "    def smallerNumbersThanCurrent(self, nums):\n",
    "        n_count = Counter(nums)\n",
    "        print(n_count)\n",
    "        res = []\n",
    "        for val in nums:\n",
    "            count = 0\n",
    "            for i in range(0, val):\n",
    "                count += n_count[i]\n",
    "            res.append(count)\n",
    "        return res"
   ]
  },
  {
   "cell_type": "code",
   "execution_count": 31,
   "metadata": {},
   "outputs": [],
   "source": [
    "class Solution:\n",
    "    def smallerNumbersThanCurrent(self, nums):\n",
    "        result= []\n",
    "        hashTable = {}\n",
    "        for i,n in enumerate(sorted(nums)):\n",
    "            if n not in hashTable:\n",
    "                hashTable[n] = i\n",
    "        \n",
    "        print(hashTable)\n",
    "        for i in nums:\n",
    "            result.append(hashTable[i])\n",
    "        return result      "
   ]
  },
  {
   "cell_type": "code",
   "execution_count": 35,
   "metadata": {},
   "outputs": [],
   "source": [
    "class Solution:\n",
    "    def smallerNumbersThanCurrent(self, nums):\n",
    "        hash_table = {}\n",
    "        sort_nums = sorted(nums)\n",
    "        for i, n in enumerate(sort_nums):\n",
    "            if n not in hash_table:\n",
    "                hash_table[n] = i\n",
    "                \n",
    "        print(hash_table)\n",
    "        res = []\n",
    "        for n in nums:\n",
    "            res.append(hash_table[n])\n",
    "        return res"
   ]
  },
  {
   "cell_type": "code",
   "execution_count": 36,
   "metadata": {},
   "outputs": [
    {
     "name": "stdout",
     "output_type": "stream",
     "text": [
      "{1: 0, 2: 1, 3: 3, 8: 4}\n"
     ]
    },
    {
     "data": {
      "text/plain": [
       "[4, 0, 1, 1, 3]"
      ]
     },
     "execution_count": 36,
     "metadata": {},
     "output_type": "execute_result"
    }
   ],
   "source": [
    "solution = Solution()\n",
    "solution.smallerNumbersThanCurrent([8,1,2,2,3])"
   ]
  },
  {
   "cell_type": "code",
   "execution_count": null,
   "metadata": {},
   "outputs": [],
   "source": []
  }
 ],
 "metadata": {
  "kernelspec": {
   "display_name": "Python 3",
   "language": "python",
   "name": "python3"
  },
  "language_info": {
   "codemirror_mode": {
    "name": "ipython",
    "version": 3
   },
   "file_extension": ".py",
   "mimetype": "text/x-python",
   "name": "python",
   "nbconvert_exporter": "python",
   "pygments_lexer": "ipython3",
   "version": "3.6.2"
  }
 },
 "nbformat": 4,
 "nbformat_minor": 4
}
