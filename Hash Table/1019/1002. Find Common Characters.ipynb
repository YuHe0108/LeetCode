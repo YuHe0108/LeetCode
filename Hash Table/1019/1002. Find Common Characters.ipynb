{
 "cells": [
  {
   "cell_type": "raw",
   "metadata": {},
   "source": [
    "说明：\n",
    "    给定仅有小写字母组成的字符串数组 A，\n",
    "    返回列表中的每个字符串中都显示的全部字符（包括重复字符）组成的列表。\n",
    "    例如，如果一个字符在每个字符串中出现 3 次，但不是 4 次，则需要在最终答案中包含该字符 3 次。\n",
    "    你可以按任意顺序返回答案。\n",
    "\n",
    "示例 1：\n",
    "    输入：[\"bella\",\"label\",\"roller\"]\n",
    "    输出：[\"e\",\"l\",\"l\"]\n",
    "\n",
    "示例 2：\n",
    "    输入：[\"cool\",\"lock\",\"cook\"]\n",
    "    输出：[\"c\",\"o\"]\n",
    "\n",
    "提示：\n",
    "    1、1 <= A.length <= 100\n",
    "    2、1 <= A[i].length <= 100\n",
    "    3、A[i][j] 是小写字母"
   ]
  },
  {
   "cell_type": "code",
   "execution_count": 19,
   "metadata": {},
   "outputs": [],
   "source": [
    "from collections import Counter\n",
    "\n",
    "class Solution:\n",
    "    def commonChars(self, A):\n",
    "        count_0 = Counter(A[0])\n",
    "        word_0 = A[0]\n",
    "        \n",
    "        for i in range(1, len(A)):\n",
    "            word_i = A[i]\n",
    "            count_i = Counter(word_i)\n",
    "            for a_0 in word_0:\n",
    "                if a_0 not in word_i and a_0 in count_0:\n",
    "                    count_0.pop(a_0)\n",
    "                else:\n",
    "                    count_0[a_0] = min(count_0[a_0], count_i[a_0])\n",
    "        res = ''\n",
    "        for key, val in count_0.items():\n",
    "            res += key * val\n",
    "        return list(res)"
   ]
  },
  {
   "cell_type": "code",
   "execution_count": 23,
   "metadata": {},
   "outputs": [],
   "source": [
    "class Solution:\n",
    "    def commonChars(self, A):\n",
    "        \n",
    "        z = Counter(A[0])\n",
    "        for i in A:\n",
    "             z = z & Counter(i)\n",
    "        \n",
    "        result = ''\n",
    "        for c, val in z.items():\n",
    "            res += c * val\n",
    "        return list(result)"
   ]
  },
  {
   "cell_type": "code",
   "execution_count": 24,
   "metadata": {},
   "outputs": [
    {
     "data": {
      "text/plain": [
       "[]"
      ]
     },
     "execution_count": 24,
     "metadata": {},
     "output_type": "execute_result"
    }
   ],
   "source": [
    "solution = Solution()\n",
    "solution.commonChars([\"acabcddd\",\"bcbdbcbd\",\"baddbadb\",\"cbdddcac\",\"aacbcccd\",\"ccccddda\",\"cababaab\",\"addcaccd\"])"
   ]
  },
  {
   "cell_type": "code",
   "execution_count": 6,
   "metadata": {},
   "outputs": [],
   "source": [
    "a = {'a':2, 'b':3}\n",
    "b = {'a':3}\n",
    "c = a or b"
   ]
  },
  {
   "cell_type": "code",
   "execution_count": 7,
   "metadata": {},
   "outputs": [
    {
     "data": {
      "text/plain": [
       "{'a': 2, 'b': 3}"
      ]
     },
     "execution_count": 7,
     "metadata": {},
     "output_type": "execute_result"
    }
   ],
   "source": [
    "c"
   ]
  },
  {
   "cell_type": "code",
   "execution_count": null,
   "metadata": {},
   "outputs": [],
   "source": []
  }
 ],
 "metadata": {
  "kernelspec": {
   "display_name": "Python 3",
   "language": "python",
   "name": "python3"
  },
  "language_info": {
   "codemirror_mode": {
    "name": "ipython",
    "version": 3
   },
   "file_extension": ".py",
   "mimetype": "text/x-python",
   "name": "python",
   "nbconvert_exporter": "python",
   "pygments_lexer": "ipython3",
   "version": "3.6.2"
  }
 },
 "nbformat": 4,
 "nbformat_minor": 4
}
