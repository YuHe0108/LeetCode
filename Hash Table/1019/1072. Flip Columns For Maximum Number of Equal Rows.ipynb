{
 "cells": [
  {
   "cell_type": "raw",
   "metadata": {},
   "source": [
    "    给定由若干 0 和 1 组成的矩阵 matrix，从中选出任意数量的列并翻转其上的 每个 单元格。\n",
    "    \n",
    "    翻转后，单元格的值从 0 变成 1，或者从 1 变为 0 。\n",
    "\n",
    "    返回经过一些翻转后，行上所有值都相等的最大行数。\n",
    "    \n",
    "示例 1：\n",
    "    输入：[[0,1],\n",
    "          [1,1]]\n",
    "    输出：1\n",
    "    解释：不进行翻转，有 1 行所有值都相等。\n",
    "\n",
    "示例 2：\n",
    "    输入：[[0,1],\n",
    "          [1,0]]\n",
    "    输出：2\n",
    "    解释：翻转第一列的值之后，这两行都由相等的值组成。\n",
    "\n",
    "示例 3：\n",
    "    输入：[[0,0,0],[0,0,1],[1,1,0]]\n",
    "    输出：2\n",
    "    解释：翻转前两列的值之后，后两行由相等的值组成。\n",
    "\n",
    "提示：\n",
    "    1 <= matrix.length <= 300\n",
    "    1 <= matrix[i].length <= 300\n",
    "    所有 matrix[i].length 都相等\n",
    "    matrix[i][j] 为 0 或 1"
   ]
  },
  {
   "cell_type": "code",
   "execution_count": 7,
   "metadata": {},
   "outputs": [],
   "source": [
    "class Solution:\n",
    "    def maxEqualRowsAfterFlips(self, matrix):\n",
    "        rows, cols = len(matrix), len(matrix[0])\n",
    "        ans = 1\n",
    "        for r in range(rows):\n",
    "            res = 0\n",
    "            for c in range(cols):\n",
    "                temp = 0\n",
    "                for k in range(cols):\n",
    "                    temp += (matrix[r][k] ^ matrix[c][k])\n",
    "                if temp == cols or temp == 0:\n",
    "                    res += 1\n",
    "            ans = max(ans, res)\n",
    "        return ans"
   ]
  },
  {
   "cell_type": "code",
   "execution_count": 15,
   "metadata": {},
   "outputs": [],
   "source": [
    "from collections import Counter\n",
    "class Solution(object):\n",
    "    def maxEqualRowsAfterFlips(self, matrix):\n",
    "        patterns = Counter()\n",
    "        for row in matrix:\n",
    "            patterns[tuple(row)] += 1\n",
    "            flip = [1 - c for c in row]\n",
    "            patterns[tuple(flip)] += 1\n",
    "            print(patterns)\n",
    "        return max(patterns.values())"
   ]
  },
  {
   "cell_type": "code",
   "execution_count": 16,
   "metadata": {},
   "outputs": [
    {
     "name": "stdout",
     "output_type": "stream",
     "text": [
      "Counter({(0, 0, 0): 1, (1, 1, 1): 1})\n",
      "Counter({(0, 0, 0): 1, (1, 1, 1): 1, (0, 0, 1): 1, (1, 1, 0): 1})\n",
      "Counter({(0, 0, 1): 2, (1, 1, 0): 2, (0, 0, 0): 1, (1, 1, 1): 1})\n"
     ]
    },
    {
     "data": {
      "text/plain": [
       "2"
      ]
     },
     "execution_count": 16,
     "metadata": {},
     "output_type": "execute_result"
    }
   ],
   "source": [
    "solution = Solution()\n",
    "solution.maxEqualRowsAfterFlips([[0,0,0],\n",
    "                                 [0,0,1],\n",
    "                                 [1,1,0]])"
   ]
  },
  {
   "cell_type": "code",
   "execution_count": null,
   "metadata": {},
   "outputs": [],
   "source": [
    "[[1,1,0],\n",
    " [1,1,1],\n",
    " [0,0,0]]"
   ]
  }
 ],
 "metadata": {
  "kernelspec": {
   "display_name": "Python 3",
   "language": "python",
   "name": "python3"
  },
  "language_info": {
   "codemirror_mode": {
    "name": "ipython",
    "version": 3
   },
   "file_extension": ".py",
   "mimetype": "text/x-python",
   "name": "python",
   "nbconvert_exporter": "python",
   "pygments_lexer": "ipython3",
   "version": "3.6.2"
  }
 },
 "nbformat": 4,
 "nbformat_minor": 4
}
