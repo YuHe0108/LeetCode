{
 "cells": [
  {
   "cell_type": "raw",
   "metadata": {},
   "source": [
    "说明：\n",
    "    你的面前有一堵矩形的、由多行砖块组成的砖墙。 \n",
    "    这些砖块高度相同但是宽度不同。\n",
    "    你现在要画一条自顶向下的、穿过最少砖块的垂线。\n",
    "    砖墙由行的列表表示。 \n",
    "    每一行都是一个代表从左至右每块砖的宽度的整数列表。\n",
    "    如果你画的线只是从砖块的边缘经过，就不算穿过这块砖。\n",
    "    你需要找出怎样画才能使这条线穿过的砖块数量最少，并且返回穿过的砖块数量。\n",
    "    你不能沿着墙的两个垂直边缘之一画线，这样显然是没有穿过一块砖的。\n",
    "\n",
    "\n",
    "提示：\n",
    "    1、每一行砖块的宽度之和应该相等，并且不能超过 INT_MAX。\n",
    "    2、每一行砖块的数量在 [1,10,000] 范围内， 墙的高度在 [1,10,000] 范围内， \n",
    "       总的砖块数量不超过 20,000。\n",
    "\n",
    "示例：\n",
    "    输入: [[1,2,2,1],\n",
    "          [3,1,2],\n",
    "          [1,3,2],\n",
    "          [2,4],\n",
    "          [3,1,2],\n",
    "          [1,3,1,1]]\n",
    "\n",
    "    输出: 2"
   ]
  },
  {
   "cell_type": "markdown",
   "metadata": {},
   "source": [
    "<img src='https://assets.leetcode-cn.com/aliyun-lc-upload/uploads/2018/10/12/brick_wall.png'>"
   ]
  },
  {
   "cell_type": "code",
   "execution_count": 28,
   "metadata": {},
   "outputs": [],
   "source": [
    "# 思路 1： 找间隔\n",
    "# 将竖线放在每一行的间隔上，使用 set 记录下间隔的位置，避免重复计算\n",
    "# 找间隔最多的列方向防止间隔线\n",
    "from collections import defaultdict\n",
    "\n",
    "class Solution:\n",
    "    def leastBricks(self, wall) -> int:\n",
    "        N = len(wall)\n",
    "        count = N\n",
    "        bricks = []\n",
    "        for i in range(N):\n",
    "            count = []\n",
    "            for val in wall[i]:\n",
    "                if not count:\n",
    "                    count.append(val)\n",
    "                else:\n",
    "                    count.append(val + count[-1])\n",
    "            count.pop()\n",
    "            bricks.append(count)\n",
    "        \n",
    "        wall_dict = defaultdict(int)\n",
    "        for i in range(N):\n",
    "            if bricks[i]:\n",
    "                for j in bricks[i]:\n",
    "                    wall_dict[j] += 1\n",
    "        return N - max(wall_dict.values()) if wall_dict else N"
   ]
  },
  {
   "cell_type": "code",
   "execution_count": 29,
   "metadata": {},
   "outputs": [
    {
     "data": {
      "text/plain": [
       "3"
      ]
     },
     "execution_count": 29,
     "metadata": {},
     "output_type": "execute_result"
    }
   ],
   "source": [
    "solution = Solution()\n",
    "solution.leastBricks([[1],[1],[1]])"
   ]
  },
  {
   "cell_type": "code",
   "execution_count": null,
   "metadata": {},
   "outputs": [],
   "source": []
  }
 ],
 "metadata": {
  "kernelspec": {
   "display_name": "Python 3",
   "language": "python",
   "name": "python3"
  },
  "language_info": {
   "codemirror_mode": {
    "name": "ipython",
    "version": 3
   },
   "file_extension": ".py",
   "mimetype": "text/x-python",
   "name": "python",
   "nbconvert_exporter": "python",
   "pygments_lexer": "ipython3",
   "version": "3.6.2"
  }
 },
 "nbformat": 4,
 "nbformat_minor": 4
}
