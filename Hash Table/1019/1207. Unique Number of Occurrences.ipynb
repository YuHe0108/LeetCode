{
 "cells": [
  {
   "cell_type": "raw",
   "metadata": {},
   "source": [
    "说明：\n",
    "    给你一个整数数组 arr，\n",
    "    请你帮忙统计数组中每个数的出现次数。\n",
    "    如果每个数的出现次数都是独一无二的，就返回 true；\n",
    "    否则返回 false。\n",
    "\n",
    "示例 1：\n",
    "    输入：arr = [1,2,2,1,1,3]\n",
    "    输出：true\n",
    "    解释：在该数组中，1 出现了 3 次，2 出现了 2 次，3 只出现了 1 次。没有两个数的出现次数相同。\n",
    "\n",
    "示例 2：\n",
    "    输入：arr = [1,2]\n",
    "    输出：false\n",
    "\n",
    "示例 3：\n",
    "    输入：arr = [-3,0,1,-3,1,1,1,-3,10,0]\n",
    "    输出：true\n",
    "\n",
    "提示：\n",
    "    1、1 <= arr.length <= 1000\n",
    "    2、-1000 <= arr[i] <= 1000"
   ]
  },
  {
   "cell_type": "code",
   "execution_count": 28,
   "metadata": {},
   "outputs": [],
   "source": [
    "from collections import Counter\n",
    "\n",
    "class Solution:\n",
    "    def uniqueOccurrences(self, arr) -> bool:\n",
    "        arr_count = Counter(arr)\n",
    "        cur_freq = arr_count.values()\n",
    "        return len(cur_freq) == len(set(cur_freq))"
   ]
  },
  {
   "cell_type": "code",
   "execution_count": 29,
   "metadata": {},
   "outputs": [
    {
     "data": {
      "text/plain": [
       "False"
      ]
     },
     "execution_count": 29,
     "metadata": {},
     "output_type": "execute_result"
    }
   ],
   "source": [
    "solution = Solution()\n",
    "solution.uniqueOccurrences([1,2])"
   ]
  },
  {
   "cell_type": "code",
   "execution_count": null,
   "metadata": {},
   "outputs": [],
   "source": []
  }
 ],
 "metadata": {
  "kernelspec": {
   "display_name": "Python 3",
   "language": "python",
   "name": "python3"
  },
  "language_info": {
   "codemirror_mode": {
    "name": "ipython",
    "version": 3
   },
   "file_extension": ".py",
   "mimetype": "text/x-python",
   "name": "python",
   "nbconvert_exporter": "python",
   "pygments_lexer": "ipython3",
   "version": "3.6.2"
  }
 },
 "nbformat": 4,
 "nbformat_minor": 4
}
