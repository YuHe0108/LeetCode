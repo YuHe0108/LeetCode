{
 "cells": [
  {
   "cell_type": "raw",
   "metadata": {},
   "source": [
    "说明：\n",
    "    给出第一个词 first 和第二个词 second，\n",
    "    考虑在某些文本 text 中可能以 \"first second third\" 形式出现的情况，\n",
    "    其中 second 紧随 first 出现，third 紧随 second 出现。\n",
    "    对于每种这样的情况，将第三个词 \"third\" 添加到答案中，并返回答案。\n",
    "\n",
    "示例 1：\n",
    "    输入：text = \"alice is a good girl she is a good student\", \n",
    "         first = \"a\", second = \"good\"\n",
    "    输出：[\"girl\",\"student\"]\n",
    "\n",
    "示例 2：\n",
    "    输入：text = \"we will we will rock you\", \n",
    "         first = \"we\", second = \"will\"\n",
    "    输出：[\"we\",\"rock\"]\n",
    "\n",
    "提示：\n",
    "    1、1 <= text.length <= 1000\n",
    "    2、text 由一些用空格分隔的单词组成，每个单词都由小写英文字母组成\n",
    "    3、1 <= first.length, second.length <= 10\n",
    "    4、first 和 second 由小写英文字母组成"
   ]
  },
  {
   "cell_type": "code",
   "execution_count": 31,
   "metadata": {},
   "outputs": [],
   "source": [
    "class Solution:\n",
    "    def findOcurrences(self, text: str, first: str, second: str):\n",
    "        first_idx = []\n",
    "        second_idx=  []\n",
    "        text = text.split(' ')\n",
    "        for i, word in enumerate(text):\n",
    "            if word == first:\n",
    "                first_idx.append(i)\n",
    "            if word == second:\n",
    "                second_idx.append(i)\n",
    "                \n",
    "        idx = 0\n",
    "        while idx < len(second_idx):\n",
    "            s_idx = second_idx[idx]\n",
    "            if not self.helper(first_idx, s_idx, second_idx):\n",
    "                second_idx.pop(idx)\n",
    "            else:\n",
    "                idx += 1\n",
    "        res = [text[i+1] for i in second_idx if i + 1 < len(text)]\n",
    "        return res\n",
    "    \n",
    "    def helper(self, first_idx, s_idx, second_idx):\n",
    "        for f_i in first_idx:\n",
    "            if s_idx > f_i:\n",
    "                return True\n",
    "        return False"
   ]
  },
  {
   "cell_type": "code",
   "execution_count": 34,
   "metadata": {},
   "outputs": [],
   "source": [
    "class Solution:\n",
    "    def findOcurrences(self, text: str, first: str, second: str):\n",
    "        ans = []\n",
    "        \n",
    "        text_split = text.split()\n",
    "        \n",
    "        for index, t in enumerate(text_split[:-2]):\n",
    "            if t == first:\n",
    "                if text_split[index + 1] == second:\n",
    "                    ans.append(text_split[index + 2])\n",
    "                \n",
    "        return ans"
   ]
  },
  {
   "cell_type": "code",
   "execution_count": 35,
   "metadata": {},
   "outputs": [
    {
     "data": {
      "text/plain": [
       "['ypkk', 'ypkk']"
      ]
     },
     "execution_count": 35,
     "metadata": {},
     "output_type": "execute_result"
    }
   ],
   "source": [
    "solution = Solution()\n",
    "solution.findOcurrences(\"ypkk lnlqhmaohv lnlqhmaohv lnlqhmaohv ypkk ypkk ypkk ypkk ypkk ypkk lnlqhmaohv lnlqhmaohv lnlqhmaohv lnlqhmaohv ypkk ypkk ypkk lnlqhmaohv lnlqhmaohv ypkk\",\n",
    "                        \"lnlqhmaohv\", \"ypkk\")"
   ]
  },
  {
   "cell_type": "code",
   "execution_count": null,
   "metadata": {},
   "outputs": [],
   "source": [
    "kcyxdfnoa kcyxdfnoa"
   ]
  }
 ],
 "metadata": {
  "kernelspec": {
   "display_name": "Python 3",
   "language": "python",
   "name": "python3"
  },
  "language_info": {
   "codemirror_mode": {
    "name": "ipython",
    "version": 3
   },
   "file_extension": ".py",
   "mimetype": "text/x-python",
   "name": "python",
   "nbconvert_exporter": "python",
   "pygments_lexer": "ipython3",
   "version": "3.6.2"
  }
 },
 "nbformat": 4,
 "nbformat_minor": 4
}
