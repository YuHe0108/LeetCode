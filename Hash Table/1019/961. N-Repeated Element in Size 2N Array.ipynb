{
 "cells": [
  {
   "cell_type": "raw",
   "metadata": {},
   "source": [
    "说明：\n",
    "    在大小为 2N 的数组 A 中有 N+1 个不同的元素，\n",
    "    其中有一个元素重复了 N 次。\n",
    "    返回重复了 N 次的那个元素。\n",
    "\n",
    "示例 1：\n",
    "    输入：[1,2,3,3]\n",
    "    输出：3\n",
    "\n",
    "示例 2：\n",
    "    输入：[2,1,2,5,3,2]\n",
    "    输出：2\n",
    "\n",
    "示例 3：\n",
    "    输入：[5,1,5,2,5,3,5,4]\n",
    "    输出：5\n",
    "\n",
    "提示：\n",
    "    1、4 <= A.length <= 10000\n",
    "    2、0 <= A[i] < 10000\n",
    "    3、A.length 为偶数"
   ]
  },
  {
   "cell_type": "code",
   "execution_count": 5,
   "metadata": {},
   "outputs": [],
   "source": [
    "from collections import Counter\n",
    "\n",
    "class Solution:\n",
    "    def repeatedNTimes(self, A) -> int:\n",
    "        N = len(A) // 2\n",
    "        a_count = Counter(A)\n",
    "        for key, val in a_count.items():\n",
    "            if val == N:\n",
    "                return key"
   ]
  },
  {
   "cell_type": "code",
   "execution_count": 7,
   "metadata": {},
   "outputs": [],
   "source": [
    "class Solution:\n",
    "    def repeatedNTimes(self, A) -> int:\n",
    "        A.sort()\n",
    "        count = 1\n",
    "        N = len(A) // 2\n",
    "        for i, val in enumerate(A):\n",
    "            if i > 0 and A[i] == A[i-1]:\n",
    "                count += 1\n",
    "            else:\n",
    "                count = 1\n",
    "            if count == N:\n",
    "                return val"
   ]
  },
  {
   "cell_type": "code",
   "execution_count": null,
   "metadata": {},
   "outputs": [],
   "source": [
    "from collections import Counter\n",
    "class Solution:\n",
    "    def repeatedNTimes(self, A: List[int]) -> int:\n",
    "        N = len(A)/2\n",
    "        smap = Counter(A)\n",
    "        smap = {v:k for k,v in smap.items()}\n",
    "        return smap[N]"
   ]
  },
  {
   "cell_type": "code",
   "execution_count": 8,
   "metadata": {},
   "outputs": [
    {
     "data": {
      "text/plain": [
       "3"
      ]
     },
     "execution_count": 8,
     "metadata": {},
     "output_type": "execute_result"
    }
   ],
   "source": [
    "solution = Solution()\n",
    "solution.repeatedNTimes([1,2,3,3])"
   ]
  },
  {
   "cell_type": "code",
   "execution_count": null,
   "metadata": {},
   "outputs": [],
   "source": []
  }
 ],
 "metadata": {
  "kernelspec": {
   "display_name": "Python 3",
   "language": "python",
   "name": "python3"
  },
  "language_info": {
   "codemirror_mode": {
    "name": "ipython",
    "version": 3
   },
   "file_extension": ".py",
   "mimetype": "text/x-python",
   "name": "python",
   "nbconvert_exporter": "python",
   "pygments_lexer": "ipython3",
   "version": "3.6.2"
  }
 },
 "nbformat": 4,
 "nbformat_minor": 4
}
