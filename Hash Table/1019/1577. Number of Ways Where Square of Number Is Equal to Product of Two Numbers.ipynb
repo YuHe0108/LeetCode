{
 "cells": [
  {
   "cell_type": "raw",
   "metadata": {},
   "source": [
    "说明：\n",
    "    给你两个整数数组 nums1 和 nums2 ，请你返回根据以下规则形成的三元组的数目（类型 1 和类型 2 ）：\n",
    "    类型 1：三元组 (i, j, k) ，如果 nums1[i]^2 == nums2[j] * nums2[k] 其中 0 <= i < nums1.length 且 0 <= j < k < nums2.length\n",
    "    类型 2：三元组 (i, j, k) ，如果 nums2[i]^2 == nums1[j] * nums1[k] 其中 0 <= i < nums2.length 且 0 <= j < k < nums1.length\n",
    "\n",
    "示例 1：\n",
    "    输入：nums1 = [7, 4], nums2 = [5,2,8,9]\n",
    "    输出：1\n",
    "    解释：类型 1：(1,1,2), nums1[1]^2 = nums2[1] * nums2[2] (4^2 = 2 * 8)\n",
    "\n",
    "示例 2：\n",
    "    输入：nums1 = [1,1], nums2 = [1,1,1]\n",
    "    输出：9\n",
    "    解释：所有三元组都符合题目要求，因为 1^2 = 1 * 1\n",
    "    类型 1：(0,0,1), (0,0,2), (0,1,2), \n",
    "           (1,0,1), (1,0,2), (1,1,2), nums1[i]^2 = nums2[j] * nums2[k]\n",
    "    类型 2：(0,0,1), (1,0,1), (2,0,1), nums2[i]^2 = nums1[j] * nums1[k]\n",
    "\n",
    "示例 3：\n",
    "    输入：nums1 = [7,7,8,3], nums2 = [1,2,9,7]\n",
    "    输出：2\n",
    "    解释：有两个符合题目要求的三元组\n",
    "    类型 1：(3,0,2), nums1[3]^2 = nums2[0] * nums2[2]\n",
    "    类型 2：(3,0,1), nums2[3]^2 = nums1[0] * nums1[1]\n",
    "\n",
    "示例 4：\n",
    "    输入：nums1 = [4,7,9,11,23], nums2 = [3,5,1024,12,18]\n",
    "    输出：0\n",
    "    解释：不存在符合题目要求的三元组\n",
    "\n",
    "提示：\n",
    "    1、1 <= nums1.length, nums2.length <= 1000\n",
    "    2、1 <= nums1[i], nums2[i] <= 10^5"
   ]
  },
  {
   "cell_type": "code",
   "execution_count": 20,
   "metadata": {},
   "outputs": [],
   "source": [
    "from collections import Counter\n",
    "\n",
    "class Solution:\n",
    "    def numTriplets(self, nums1, nums2) -> int:\n",
    "        count_1 = self.helper(nums1, nums2)\n",
    "        count_2 = self.helper(nums2, nums1)\n",
    "        return count_1 + count_2\n",
    "    \n",
    "    def helper(self, nums1, nums2):\n",
    "        total_count = 0\n",
    "        count_1 = Counter(nums1)\n",
    "        count_2 = Counter(nums2)\n",
    "        set_nums1 = set(nums1)\n",
    "        for val in set_nums1:\n",
    "            val_1 = pow(val, 2)\n",
    "            for val_2 in nums2:\n",
    "                count_2[val_2] -= 1\n",
    "                need_val = val_1 / val_2\n",
    "                if need_val in count_2 and count_2[need_val] > 0:\n",
    "                    total_count += count_2[need_val] * count_1[val]\n",
    "                count_2[val_2] += 1\n",
    "        return total_count // 2 # 因为在 *count_1[val]的时候，没有顾及到0 <= j < k < nums2.length，因此做了重复计算 [x, j, k]\n",
    "        # j, k进行了重复计算，所以要 //2"
   ]
  },
  {
   "cell_type": "code",
   "execution_count": 24,
   "metadata": {},
   "outputs": [
    {
     "data": {
      "text/plain": [
       "1"
      ]
     },
     "execution_count": 24,
     "metadata": {},
     "output_type": "execute_result"
    }
   ],
   "source": [
    "solution = Solution()\n",
    "solution.numTriplets(nums1 = [7, 4], nums2 = [5,2,8,9])"
   ]
  },
  {
   "cell_type": "code",
   "execution_count": 11,
   "metadata": {},
   "outputs": [
    {
     "name": "stdout",
     "output_type": "stream",
     "text": [
      "True\n"
     ]
    }
   ],
   "source": [
    "a = [1,2]\n",
    "print(1.0000 in a)"
   ]
  },
  {
   "cell_type": "code",
   "execution_count": null,
   "metadata": {},
   "outputs": [],
   "source": []
  }
 ],
 "metadata": {
  "kernelspec": {
   "display_name": "Python 3",
   "language": "python",
   "name": "python3"
  },
  "language_info": {
   "codemirror_mode": {
    "name": "ipython",
    "version": 3
   },
   "file_extension": ".py",
   "mimetype": "text/x-python",
   "name": "python",
   "nbconvert_exporter": "python",
   "pygments_lexer": "ipython3",
   "version": "3.6.2"
  }
 },
 "nbformat": 4,
 "nbformat_minor": 4
}
