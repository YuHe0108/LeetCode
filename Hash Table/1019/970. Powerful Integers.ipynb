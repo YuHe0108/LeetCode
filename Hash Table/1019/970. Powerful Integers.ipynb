{
 "cells": [
  {
   "cell_type": "raw",
   "metadata": {},
   "source": [
    "说明：\n",
    "    给定两个正整数 x 和 y，如果某一整数等于 x^i + y^j，其中整数 i >= 0 且 j >= 0，那么我们认为该整数是一个强整数。\n",
    "    返回值小于或等于 bound 的所有强整数组成的列表。\n",
    "    你可以按任何顺序返回答案。在你的回答中，每个值最多出现一次。\n",
    "\n",
    "示例 1：\n",
    "    输入：x = 2, y = 3, bound = 10\n",
    "    输出：[2,3,4,5,7,9,10]\n",
    "    解释： \n",
    "        2 = 2^0 + 3^0\n",
    "        3 = 2^1 + 3^0\n",
    "        4 = 2^0 + 3^1\n",
    "        5 = 2^1 + 3^1\n",
    "        7 = 2^2 + 3^1\n",
    "        9 = 2^3 + 3^0\n",
    "        10 = 2^0 + 3^2\n",
    "\n",
    "示例 2：\n",
    "    输入：x = 3, y = 5, bound = 15\n",
    "    输出：[2,4,6,8,10,14]\n",
    "\n",
    "示例 3：\n",
    "    输入：x=1, y=2, bound=1000000\n",
    "    输出：[33,2,3,1025,5,65,129,9,257,131073,524289,17,65537,513,32769,2049,4097,16385,262145,8193]\n",
    "\n",
    "提示：\n",
    "    1、1 <= x <= 100\n",
    "    2、1 <= y <= 100\n",
    "    3、0 <= bound <= 10^6"
   ]
  },
  {
   "cell_type": "code",
   "execution_count": 26,
   "metadata": {},
   "outputs": [],
   "source": [
    "import math\n",
    "\n",
    "class Solution:\n",
    "    def powerfulIntegers(self, x: int, y: int, bound: int):\n",
    "        res = set()\n",
    "        x_max_val = int(pow(bound, 1/x))\n",
    "        y_max_val = int(pow(bound, 1/y))\n",
    "        for x_i in range(x_max_val + 2):\n",
    "            for y_i in range(y_max_val + 2):\n",
    "                sum_val = pow(x, x_i) + pow(y, y_i)\n",
    "                if sum_val <= bound:\n",
    "                    res.add(sum_val)\n",
    "        return res"
   ]
  },
  {
   "cell_type": "code",
   "execution_count": 32,
   "metadata": {},
   "outputs": [],
   "source": [
    "import math\n",
    "\n",
    "class Solution:\n",
    "    def powerfulIntegers(self, x: int, y: int, bound: int):\n",
    "        res = set()\n",
    "        x_max_val = int(pow(bound, 1/x))\n",
    "        y_max_val = int(pow(bound, 1/y))\n",
    "        print(x_max_val, y_max_val)\n",
    "#         for x_i in range(x_max_val + 2):\n",
    "#             for y_i in range(y_max_val + 2):\n",
    "#                 sum_val = pow(x, x_i) + pow(y, y_i)\n",
    "#                 if sum_val <= bound:\n",
    "#                     res.add(sum_val)\n",
    "        return res"
   ]
  },
  {
   "cell_type": "code",
   "execution_count": 36,
   "metadata": {},
   "outputs": [],
   "source": [
    "class Solution:\n",
    "    def powerfulIntegers(self, x: int, y: int, bound: int):\n",
    "        import math \n",
    "        x_bound = self.check_bound(x,bound)\n",
    "        y_bound = self.check_bound(y,bound)\n",
    "        print(x_bound, y_bound)\n",
    "        value = set()\n",
    "        for x_t in range(x_bound+2):\n",
    "            for y_t in range(y_bound + 2):\n",
    "                if x**x_t + y**y_t <= bound:\n",
    "                    s = x**x_t + y**y_t\n",
    "                    value.add(s)\n",
    "        return value\n",
    "    \n",
    "    def check_bound(self,x,bound):\n",
    "        if x == 1:\n",
    "            bound = 1\n",
    "        else:\n",
    "            bound = int(math.log(bound, x))\n",
    "        return bound"
   ]
  },
  {
   "cell_type": "code",
   "execution_count": 37,
   "metadata": {},
   "outputs": [
    {
     "name": "stdout",
     "output_type": "stream",
     "text": [
      "1 19\n"
     ]
    },
    {
     "data": {
      "text/plain": [
       "{2,\n",
       " 3,\n",
       " 5,\n",
       " 9,\n",
       " 17,\n",
       " 33,\n",
       " 65,\n",
       " 129,\n",
       " 257,\n",
       " 513,\n",
       " 1025,\n",
       " 2049,\n",
       " 4097,\n",
       " 8193,\n",
       " 16385,\n",
       " 32769,\n",
       " 65537,\n",
       " 131073,\n",
       " 262145,\n",
       " 524289}"
      ]
     },
     "execution_count": 37,
     "metadata": {},
     "output_type": "execute_result"
    }
   ],
   "source": [
    "solution = Solution()\n",
    "solution.powerfulIntegers(1, 2, 1000000)"
   ]
  },
  {
   "cell_type": "code",
   "execution_count": null,
   "metadata": {},
   "outputs": [],
   "source": []
  }
 ],
 "metadata": {
  "kernelspec": {
   "display_name": "Python 3",
   "language": "python",
   "name": "python3"
  },
  "language_info": {
   "codemirror_mode": {
    "name": "ipython",
    "version": 3
   },
   "file_extension": ".py",
   "mimetype": "text/x-python",
   "name": "python",
   "nbconvert_exporter": "python",
   "pygments_lexer": "ipython3",
   "version": "3.6.2"
  }
 },
 "nbformat": 4,
 "nbformat_minor": 4
}
