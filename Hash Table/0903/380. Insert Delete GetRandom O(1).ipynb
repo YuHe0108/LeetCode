{
 "cells": [
  {
   "cell_type": "raw",
   "metadata": {},
   "source": [
    "说明：\n",
    "    设计一个在平均 O(1) 时间内支持以下所有操作的数据结构。\n",
    "    1、insert（val）：如果项目val不存在，则将其插入集合。\n",
    "    2、remove（val）：从集合中移除项目val（如果存在）。\n",
    "    3、getRandom：从当前元素集返回一个随机元素（调用此方法时保证至少存在一个元素），每个元素必须具有相同的返回概率。\n",
    "\n",
    "example:\n",
    "    // Init an empty set.\n",
    "    RandomizedSet randomSet = new RandomizedSet();\n",
    "\n",
    "    // Inserts 1 to the set. Returns true as 1 was inserted successfully.\n",
    "    randomSet.insert(1);\n",
    "\n",
    "    // Returns false as 2 does not exist in the set.\n",
    "    randomSet.remove(2);\n",
    "\n",
    "    // Inserts 2 to the set, returns true. Set now contains [1,2].\n",
    "    randomSet.insert(2);\n",
    "\n",
    "    // getRandom should return either 1 or 2 randomly.\n",
    "    randomSet.getRandom();\n",
    "\n",
    "    // Removes 1 from the set, returns true. Set now contains [2].\n",
    "    randomSet.remove(1);\n",
    "\n",
    "    // 2 was already in the set, so return false.\n",
    "    randomSet.insert(2);\n",
    "\n",
    "    // Since 2 is the only number in the set, getRandom always return 2.\n",
    "    randomSet.getRandom();"
   ]
  },
  {
   "cell_type": "code",
   "execution_count": 2,
   "metadata": {},
   "outputs": [],
   "source": [
    "class RandomizedSet:\n",
    "\n",
    "    def __init__(self):\n",
    "        \"\"\"\n",
    "        Initialize your data structure here.\n",
    "        \"\"\"\n",
    "        self.d = {}\n",
    "        self.l = []\n",
    "\n",
    "    def insert(self, val: int) -> bool:\n",
    "        \"\"\"\n",
    "        Inserts a value to the set. Returns true if the set did not already contain the specified element.\n",
    "        \"\"\"\n",
    "        if val in self.d:\n",
    "            return False\n",
    "        else:\n",
    "            self.d[val] = len(self.l)\n",
    "            self.l.append(val)\n",
    "            return True\n",
    "\n",
    "    def remove(self, val: int) -> bool:\n",
    "        \"\"\"\n",
    "        Removes a value from the set. Returns true if the set contained the specified element.\n",
    "        \"\"\"\n",
    "        if val in self.d:\n",
    "            self.d[self.l[-1]] = self.d[val]\n",
    "            self.l[self.d.pop(val)] = self.l[-1] # 字典pop会返回这个元素的val\n",
    "            self.l.pop()\n",
    "            return True\n",
    "        else:\n",
    "            return False\n",
    "\n",
    "    def getRandom(self) -> int:\n",
    "        \"\"\"\n",
    "        Get a random element from the set.\n",
    "        \"\"\"\n",
    "        return self.l[random.randint(0, len(self.l) - 1)]"
   ]
  },
  {
   "cell_type": "code",
   "execution_count": 1,
   "metadata": {},
   "outputs": [],
   "source": [
    "# 虽然能够实现，但是基本上套用了 set 的方法\n",
    "class RandomizedSet: \n",
    "\n",
    "    def __init__(self):\n",
    "        \"\"\"\n",
    "        Initialize your data structure here.\n",
    "        \"\"\"\n",
    "        self.my_set = set()\n",
    "        \n",
    "\n",
    "    def insert(self, val: int) -> bool:\n",
    "        \"\"\"\n",
    "        Inserts a value to the set. Returns true if the set did not already contain the specified element.\n",
    "        \"\"\"\n",
    "        if val not in self.my_set:\n",
    "            self.my_set.add(val)\n",
    "            return True\n",
    "        return False\n",
    "        \n",
    "\n",
    "    def remove(self, val: int) -> bool:\n",
    "        \"\"\"\n",
    "        Removes a value from the set. Returns true if the set contained the specified element.\n",
    "        \"\"\"\n",
    "        if val in self.my_set:\n",
    "            self.my_set.remove(val)\n",
    "            return True\n",
    "        return False\n",
    "        \n",
    "\n",
    "    def getRandom(self) -> int:\n",
    "        \"\"\"\n",
    "        Get a random element from the set.\n",
    "        \"\"\"\n",
    "        import random\n",
    "        val = random.choice(list(self.my_set))\n",
    "        return val\n"
   ]
  },
  {
   "cell_type": "code",
   "execution_count": 3,
   "metadata": {},
   "outputs": [],
   "source": [
    "a = {'a':1}"
   ]
  },
  {
   "cell_type": "code",
   "execution_count": 5,
   "metadata": {},
   "outputs": [
    {
     "data": {
      "text/plain": [
       "1"
      ]
     },
     "execution_count": 5,
     "metadata": {},
     "output_type": "execute_result"
    }
   ],
   "source": [
    "a.pop('a')"
   ]
  },
  {
   "cell_type": "code",
   "execution_count": null,
   "metadata": {},
   "outputs": [],
   "source": []
  }
 ],
 "metadata": {
  "kernelspec": {
   "display_name": "Python 3",
   "language": "python",
   "name": "python3"
  },
  "language_info": {
   "codemirror_mode": {
    "name": "ipython",
    "version": 3
   },
   "file_extension": ".py",
   "mimetype": "text/x-python",
   "name": "python",
   "nbconvert_exporter": "python",
   "pygments_lexer": "ipython3",
   "version": "3.6.2"
  }
 },
 "nbformat": 4,
 "nbformat_minor": 4
}
