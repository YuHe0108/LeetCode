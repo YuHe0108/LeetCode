{
 "cells": [
  {
   "cell_type": "raw",
   "metadata": {},
   "source": [
    "说明：\n",
    "    所有的DNA由一系列缩写为A，C，G和T的核苷酸组成，例如：“ ACGAATTCCG”。\n",
    "    在研究DNA时，有时识别DNA中的重复序列很有用。\n",
    "    编写一个函数以查找在DNA分子中多次出现的所有10个字母长的序列（子串）。\n",
    "要求：\n",
    "    1、子字符串的长度为10\n",
    "    2、这个子字符串的出现次数高于1次。\n",
    "\n",
    "Example:\n",
    "    Input: s = \"AAAAACCCCCAAAAACCCCCCAAAAAGGGTTT\"\n",
    "    Output: [\"AAAAACCCCC\", \"CCCCCAAAAA\"]"
   ]
  },
  {
   "cell_type": "code",
   "execution_count": 5,
   "metadata": {},
   "outputs": [],
   "source": [
    "# 耗时太长，不能通过\n",
    "class Solution:\n",
    "    def findRepeatedDnaSequences(self, s: str):\n",
    "        res = []\n",
    "        for i in range(len(s) - 10):\n",
    "            start = i\n",
    "            end = i + 10\n",
    "            val = s[start:end]\n",
    "            if val in s[start+1:] and val not in res:\n",
    "                res.append(val)\n",
    "        return res"
   ]
  },
  {
   "cell_type": "code",
   "execution_count": 6,
   "metadata": {},
   "outputs": [],
   "source": [
    "a = {'a': 2, 'b': 3}"
   ]
  },
  {
   "cell_type": "code",
   "execution_count": 8,
   "metadata": {},
   "outputs": [
    {
     "name": "stdout",
     "output_type": "stream",
     "text": [
      "a 2\n",
      "b 3\n"
     ]
    }
   ],
   "source": [
    "for key, val in a.items():\n",
    "    print(key, val)"
   ]
  },
  {
   "cell_type": "code",
   "execution_count": 11,
   "metadata": {},
   "outputs": [],
   "source": [
    "class Solution:\n",
    "    def findRepeatedDnaSequences(self, s: str):\n",
    "        res = set()\n",
    "        seen = set()\n",
    "        for i in range(len(s) - 9):\n",
    "            sub_str = s[i:i+10]\n",
    "            if sub_str not in seen:\n",
    "                seen.add(sub_str)\n",
    "            else:\n",
    "                res.add(sub_str)\n",
    "        return list(res)      "
   ]
  },
  {
   "cell_type": "code",
   "execution_count": null,
   "metadata": {},
   "outputs": [],
   "source": []
  }
 ],
 "metadata": {
  "kernelspec": {
   "display_name": "Python 3",
   "language": "python",
   "name": "python3"
  },
  "language_info": {
   "codemirror_mode": {
    "name": "ipython",
    "version": 3
   },
   "file_extension": ".py",
   "mimetype": "text/x-python",
   "name": "python",
   "nbconvert_exporter": "python",
   "pygments_lexer": "ipython3",
   "version": "3.6.2"
  }
 },
 "nbformat": 4,
 "nbformat_minor": 4
}
