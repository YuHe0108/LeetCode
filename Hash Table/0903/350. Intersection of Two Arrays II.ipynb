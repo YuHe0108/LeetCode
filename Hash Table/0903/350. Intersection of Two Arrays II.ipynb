{
 "cells": [
  {
   "cell_type": "raw",
   "metadata": {},
   "source": [
    "说明:\n",
    "    给定两个数组，编写一个函数来计算它们的交集。\n",
    "\n",
    "Example 1:\n",
    "    Input: nums1 = [1,2,2,1], nums2 = [2,2]\n",
    "    Output: [2,2]\n",
    "\n",
    "Example 2:\n",
    "    Input: nums1 = [4,9,5], nums2 = [9,4,9,8,4]\n",
    "    Output: [4,9]\n",
    "\n",
    "注意：\n",
    "    1、结果中的每个元素应出现在两个数组中的次数相同。结果可以是任何顺序。\n",
    "\n",
    "跟进：\n",
    "    1、如果给定数组已经排序怎么办？您将如何优化算法？如\n",
    "    2、果nums1的大小比nums2的大小小怎么办？哪种算法更好？\n",
    "    3、如果将nums2的元素存储在磁盘上并且内存受到限制，以致您无法一次将所有元素加载到内存中怎么办？"
   ]
  },
  {
   "cell_type": "code",
   "execution_count": 1,
   "metadata": {},
   "outputs": [],
   "source": [
    "class Solution(object):\n",
    "    def intersect(self, nums1, nums2):\n",
    "\n",
    "        nums1, nums2 = sorted(nums1), sorted(nums2)\n",
    "        pt1 = pt2 = 0\n",
    "        res = []\n",
    "\n",
    "        while True:\n",
    "            try:\n",
    "                if nums1[pt1] > nums2[pt2]:\n",
    "                    pt2 += 1\n",
    "                elif nums1[pt1] < nums2[pt2]:\n",
    "                    pt1 += 1\n",
    "                else:\n",
    "                    res.append(nums1[pt1])\n",
    "                    pt1 += 1\n",
    "                    pt2 += 1\n",
    "            except IndexError:\n",
    "                break\n",
    "\n",
    "        return res"
   ]
  },
  {
   "cell_type": "code",
   "execution_count": 2,
   "metadata": {},
   "outputs": [],
   "source": [
    "class Solution(object):\n",
    "    def intersect(self, nums1, nums2):\n",
    "\n",
    "        counts = {}\n",
    "        res = []\n",
    "\n",
    "        for num in nums1:\n",
    "            counts[num] = counts.get(num, 0) + 1\n",
    "\n",
    "        for num in nums2:\n",
    "            if num in counts and counts[num] > 0:\n",
    "                res.append(num)\n",
    "                counts[num] -= 1\n",
    "\n",
    "        return res"
   ]
  },
  {
   "cell_type": "code",
   "execution_count": null,
   "metadata": {},
   "outputs": [],
   "source": []
  }
 ],
 "metadata": {
  "kernelspec": {
   "display_name": "Python 3",
   "language": "python",
   "name": "python3"
  },
  "language_info": {
   "codemirror_mode": {
    "name": "ipython",
    "version": 3
   },
   "file_extension": ".py",
   "mimetype": "text/x-python",
   "name": "python",
   "nbconvert_exporter": "python",
   "pygments_lexer": "ipython3",
   "version": "3.6.2"
  }
 },
 "nbformat": 4,
 "nbformat_minor": 4
}
