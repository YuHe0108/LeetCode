{
 "cells": [
  {
   "cell_type": "raw",
   "metadata": {},
   "source": [
    "说明：\n",
    "    给定四个具有整数值的列表A，B，C，D，计算有多少个元组（i，j，k，l）使得A[i] + B[j] + C[k] + D[l]为零。\n",
    "    为了使问题更容易一点，所有A，B，C，D都具有相同的N长度，其中0≤N≤500。\n",
    "    所有整数都在-2^28到2^28-1的范围内，并且结果保证最大为2^31 -1.\n",
    "\n",
    "示例：\n",
    "    Input:\n",
    "        A = [ 1, 2]\n",
    "        B = [-2,-1]\n",
    "        C = [-1, 2]\n",
    "        D = [ 0, 2]\n",
    "    Output:\n",
    "        2\n",
    "    Explanation:\n",
    "        The two tuples are:\n",
    "        1. (0, 0, 0, 1) -> A[0] + B[0] + C[0] + D[1] = 1 + (-2) + (-1) + 2 = 0\n",
    "        2. (1, 1, 0, 0) -> A[1] + B[1] + C[0] + D[0] = 2 + (-1) + (-1) + 0 = 0"
   ]
  },
  {
   "cell_type": "code",
   "execution_count": 2,
   "metadata": {},
   "outputs": [],
   "source": [
    "# 笨的方法，时间复杂度很高： O(N^4)\n",
    "class Solution:\n",
    "    def fourSumCount(self, A, B, C, D) -> int:\n",
    "        count = 0\n",
    "        for i in range(len(A)):\n",
    "            val_1 = A[i]\n",
    "            for j in range(len(B)):\n",
    "                val_2 = B[j]\n",
    "                for k in range(len(C)):\n",
    "                    val_3 = C[k]\n",
    "                    for l in range(len(D)):\n",
    "                        val_4 = D[l]\n",
    "                        if val_1 + val_2 + val_3 + val_4 == 0:\n",
    "                            count += 1\n",
    "        return count"
   ]
  },
  {
   "cell_type": "code",
   "execution_count": 2,
   "metadata": {},
   "outputs": [],
   "source": [
    "class Solution:\n",
    "    def fourSumCount(self, A, B, C, D) -> int:\n",
    "        AB_dict = {}\n",
    "        for i in A:\n",
    "            for j in B:\n",
    "                AB_dict[i+j] = AB_dict.get(i+j,0)+1\n",
    "                \n",
    "        CD_dict = {}\n",
    "        for i in C:\n",
    "            for j in D:\n",
    "                CD_dict[i+j] = CD_dict.get(i+j,0)+1\n",
    "                \n",
    "        #print(AB_dict,CD_dict)\n",
    "        A = list(AB_dict)\n",
    "        B = list(CD_dict)\n",
    "        A.sort()\n",
    "        B.sort()\n",
    "        #print(A,B)\n",
    "        \n",
    "        def binary_search(arr,start,end,target):\n",
    "            while start<=end:\n",
    "                mid = (start+end+1)//2\n",
    "                if arr[mid]+target==0:\n",
    "                    return arr[mid]\n",
    "                elif arr[mid]+target<0:\n",
    "                    start = mid+1\n",
    "                else:\n",
    "                    end =mid-1\n",
    "            return None\n",
    "        \n",
    "        res = 0\n",
    "        for i in A:\n",
    "            c = binary_search(B,0,len(B)-1,i)\n",
    "            if c== None:\n",
    "                continue\n",
    "            else:\n",
    "                res+=AB_dict.get(i)*CD_dict.get(c)\n",
    "        \n",
    "        return res"
   ]
  },
  {
   "cell_type": "code",
   "execution_count": null,
   "metadata": {},
   "outputs": [],
   "source": []
  }
 ],
 "metadata": {
  "kernelspec": {
   "display_name": "Python 3",
   "language": "python",
   "name": "python3"
  },
  "language_info": {
   "codemirror_mode": {
    "name": "ipython",
    "version": 3
   },
   "file_extension": ".py",
   "mimetype": "text/x-python",
   "name": "python",
   "nbconvert_exporter": "python",
   "pygments_lexer": "ipython3",
   "version": "3.6.2"
  }
 },
 "nbformat": 4,
 "nbformat_minor": 4
}
