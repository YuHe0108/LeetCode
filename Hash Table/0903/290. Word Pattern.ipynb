{
 "cells": [
  {
   "cell_type": "raw",
   "metadata": {},
   "source": [
    "说明：\n",
    "    给定一个模式和一个字符串str，找出str是否遵循相同的模式。\n",
    "    在此跟随是指完全匹配，因此模式中的字母与str中的非空词之间存在双射。\n",
    "\n",
    "注意：\n",
    "    1、您可以假定pattern仅包含小写字母，\n",
    "    2、str包含小写字母，这些小写字母可以用单个空格分隔。\n",
    "\n",
    "Example 1:\n",
    "    Input: pattern = \"abba\", str = \"dog cat cat dog\"\n",
    "    Output: true\n",
    "\n",
    "Example 2:\n",
    "    Input:pattern = \"abba\", str = \"dog cat cat fish\"\n",
    "    Output: false\n",
    "\n",
    "Example 3:\n",
    "    Input: pattern = \"aaaa\", str = \"dog cat cat dog\"\n",
    "    Output: false\n",
    "    \n",
    "Example 4:\n",
    "    Input: pattern = \"abba\", str = \"dog dog dog dog\"\n",
    "    Output: false"
   ]
  },
  {
   "cell_type": "code",
   "execution_count": 2,
   "metadata": {},
   "outputs": [],
   "source": [
    "class Solution:\n",
    "    def wordPattern(self, pattern: str, str: str) -> bool:\n",
    "        words = str.split(' ')\n",
    "        pattern = list(pattern)\n",
    "        if len(words) != len(pattern):\n",
    "            return False\n",
    "        w_res = []\n",
    "        w_seen = {}\n",
    "        p_res = []\n",
    "        p_seen = {} \n",
    "        for i in range(len(words)):\n",
    "            w = words[i]\n",
    "            if w not in w_seen:\n",
    "                w_seen[w] = i\n",
    "            w_res.append(w_seen[w])\n",
    "\n",
    "            p = pattern[i]\n",
    "            if p not in p_seen:\n",
    "                p_seen[p] = i\n",
    "            p_res.append(p_seen[p])\n",
    "        return w_res == p_res"
   ]
  },
  {
   "cell_type": "code",
   "execution_count": 5,
   "metadata": {},
   "outputs": [],
   "source": [
    "class Solution(object):\n",
    "    def wordPattern(self, pattern, str):\n",
    "        \"\"\"\n",
    "        :type pattern: str\n",
    "        :type str: str\n",
    "        :rtype: bool\n",
    "        \"\"\"            \n",
    "        slist = str.split()\n",
    "        if len(pattern) != len(slist):\n",
    "            return False\n",
    "        a = len(set(pattern))\n",
    "        b = len(set(slist))\n",
    "        c = len(set(zip(pattern, slist))) \n",
    "        return a == b == c"
   ]
  },
  {
   "cell_type": "code",
   "execution_count": null,
   "metadata": {},
   "outputs": [],
   "source": []
  }
 ],
 "metadata": {
  "kernelspec": {
   "display_name": "Python 3",
   "language": "python",
   "name": "python3"
  },
  "language_info": {
   "codemirror_mode": {
    "name": "ipython",
    "version": 3
   },
   "file_extension": ".py",
   "mimetype": "text/x-python",
   "name": "python",
   "nbconvert_exporter": "python",
   "pygments_lexer": "ipython3",
   "version": "3.6.2"
  }
 },
 "nbformat": 4,
 "nbformat_minor": 4
}
