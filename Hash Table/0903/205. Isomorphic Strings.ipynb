{
 "cells": [
  {
   "cell_type": "raw",
   "metadata": {},
   "source": [
    "说明：\n",
    "    给定两个字符串s和t，确定它们是否同构。\n",
    "    如果可以替换s中的字符以获得t，则两个字符串是同构的。\n",
    "    在保留字符顺序的同时，必须将所有出现的字符替换为另一个字符。\n",
    "    没有两个字符可以映射到同一字符，但是一个字符可以映射到自身。\n",
    "\n",
    "Example 1:\n",
    "    Input: s = \"egg\", t = \"add\"\n",
    "    Output: true\n",
    "\n",
    "Example 2:\n",
    "    Input: s = \"foo\", t = \"bar\"\n",
    "    Output: false\n",
    "\n",
    "Example 3:\n",
    "    Input: s = \"paper\", t = \"title\"\n",
    "    Output: true"
   ]
  },
  {
   "cell_type": "code",
   "execution_count": 1,
   "metadata": {},
   "outputs": [],
   "source": [
    "class Solution:\n",
    "    def isIsomorphic(self, s: str, t: str) -> bool:\n",
    "        s_dict = {}\n",
    "        s_outs = []\n",
    "        t_dict = {}\n",
    "        t_outs = []\n",
    "\n",
    "        for i in range(len(s)):\n",
    "            s_val = s[i]\n",
    "            t_val = t[i]\n",
    "            if s_val not in s_dict:\n",
    "                s_dict[s_val] = i\n",
    "                s_outs.append(i)\n",
    "            else:\n",
    "                s_outs.append(s_dict[s_val])\n",
    "            \n",
    "            if t_val not in t_dict:\n",
    "                t_dict[t_val] = i\n",
    "                t_outs.append(i)\n",
    "            else:\n",
    "                t_outs.append(t_dict[t_val])\n",
    "        return s_outs == t_outs"
   ]
  },
  {
   "cell_type": "code",
   "execution_count": null,
   "metadata": {},
   "outputs": [],
   "source": []
  }
 ],
 "metadata": {
  "kernelspec": {
   "display_name": "Python 3",
   "language": "python",
   "name": "python3"
  },
  "language_info": {
   "codemirror_mode": {
    "name": "ipython",
    "version": 3
   },
   "file_extension": ".py",
   "mimetype": "text/x-python",
   "name": "python",
   "nbconvert_exporter": "python",
   "pygments_lexer": "ipython3",
   "version": "3.6.2"
  }
 },
 "nbformat": 4,
 "nbformat_minor": 4
}
