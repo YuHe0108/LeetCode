{
 "cells": [
  {
   "cell_type": "raw",
   "metadata": {},
   "source": [
    "说明：\n",
    "    给定一个非空的整数数组，返回k个最频繁的元素。\n",
    "\n",
    "Example 1:\n",
    "    Input: nums = [1,1,1,2,2,3], k = 2\n",
    "    Output: [1,2]\n",
    "\n",
    "Example 2:\n",
    "    Input: nums = [1], k = 1\n",
    "    Output: [1]    \n",
    "\n",
    "注意：\n",
    "    1、您可以假设k始终有效，唯一元素的数量1≤k≤。\n",
    "    2、您算法的时间复杂度必须优于O（n log n），其中n是数组的大小。\n",
    "    3、确保答案是唯一的，换句话说，前k个频繁元素的集合是唯一的。\n",
    "    4、您可以按任何顺序返回答案。"
   ]
  },
  {
   "cell_type": "code",
   "execution_count": 3,
   "metadata": {},
   "outputs": [],
   "source": [
    "class Solution:\n",
    "    def topKFrequent(self, num, k: int):\n",
    "        res = {}\n",
    "        for num in nums:\n",
    "            if num not in res:\n",
    "                res[num] = 1\n",
    "            else:\n",
    "                res[num] += 1\n",
    "        sort_res = sorted(res.items(), key=lambda x:-x[1])\n",
    "        outs = [x[0] for x in sort_res]\n",
    "        return outs[:k]"
   ]
  },
  {
   "cell_type": "code",
   "execution_count": 4,
   "metadata": {},
   "outputs": [],
   "source": [
    "class Solution:\n",
    "    def topKFrequent(self, nums, k: int):\n",
    "        res = []\n",
    "        dic = {}\n",
    "        for num in nums:\n",
    "            if num not in dic:\n",
    "                dic[num] = 1\n",
    "            else:\n",
    "                dic[num]+=1\n",
    "        print(dic)\n",
    "        for key, val in dic.items():\n",
    "            if len(res) < k:\n",
    "                heapq.heappush(res, [val, key])\n",
    "            else:\n",
    "                heapq.heappushpop(res, [val, key])\n",
    "            print(res)\n",
    "        return [y for x, y in res]"
   ]
  },
  {
   "cell_type": "code",
   "execution_count": 5,
   "metadata": {},
   "outputs": [],
   "source": [
    "import heapq"
   ]
  },
  {
   "cell_type": "code",
   "execution_count": 6,
   "metadata": {},
   "outputs": [
    {
     "name": "stdout",
     "output_type": "stream",
     "text": [
      "{1: 2, 2: 4, 3: 2, 4: 1}\n",
      "[[2, 1]]\n",
      "[[2, 1], [4, 2]]\n",
      "[[2, 3], [4, 2]]\n",
      "[[2, 3], [4, 2]]\n"
     ]
    },
    {
     "data": {
      "text/plain": [
       "[3, 2]"
      ]
     },
     "execution_count": 6,
     "metadata": {},
     "output_type": "execute_result"
    }
   ],
   "source": [
    "solution = Solution()\n",
    "solution.topKFrequent([1,1,2,2,2,2,3,3,4], 2)"
   ]
  },
  {
   "cell_type": "code",
   "execution_count": null,
   "metadata": {},
   "outputs": [],
   "source": []
  }
 ],
 "metadata": {
  "kernelspec": {
   "display_name": "Python 3",
   "language": "python",
   "name": "python3"
  },
  "language_info": {
   "codemirror_mode": {
    "name": "ipython",
    "version": 3
   },
   "file_extension": ".py",
   "mimetype": "text/x-python",
   "name": "python",
   "nbconvert_exporter": "python",
   "pygments_lexer": "ipython3",
   "version": "3.6.2"
  }
 },
 "nbformat": 4,
 "nbformat_minor": 4
}
