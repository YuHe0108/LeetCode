{
 "cells": [
  {
   "cell_type": "raw",
   "metadata": {},
   "source": [
    "说明：\n",
    "    给定一个非空的整数数组，每个元素出现两次，除了一个。找到那一个。\n",
    "    找到只出现一次的元素\n",
    "注意：\n",
    "    您的算法应具有线性运行时复杂度。\n",
    "    您可以在不使用额外内存的情况下实现它吗？\n",
    "\n",
    "Example 1:\n",
    "    Input: [2,2,1]\n",
    "    Output: 1\n",
    "\n",
    "Example 2:\n",
    "    Input: [4,1,2,1,2]\n",
    "    Output: 4"
   ]
  },
  {
   "cell_type": "code",
   "execution_count": 2,
   "metadata": {},
   "outputs": [],
   "source": [
    "class Solution:\n",
    "    def singleNumber(self, nums) -> int:\n",
    "        seen = {}\n",
    "        for num in nums:\n",
    "            if num not in seen:\n",
    "                seen[num] = 1\n",
    "            else:\n",
    "                seen[num] += 1\n",
    "        \n",
    "        for key, val in seen.items():\n",
    "            if val == 1:\n",
    "                return key"
   ]
  },
  {
   "cell_type": "code",
   "execution_count": 4,
   "metadata": {},
   "outputs": [],
   "source": [
    "# 没有使用额外的空间\n",
    "class Solution:\n",
    "    def singleNumber(self, nums) -> int:\n",
    "        while nums:\n",
    "            num = nums.pop()\n",
    "            if num not in nums:\n",
    "                return num\n",
    "            else:\n",
    "                nums.remove(num)"
   ]
  },
  {
   "cell_type": "code",
   "execution_count": 9,
   "metadata": {},
   "outputs": [],
   "source": [
    "class Solution:\n",
    "    def singleNumber(self, nums) -> int:\n",
    "        for i in range(1, len(nums)):\n",
    "            # 使用异或\n",
    "            nums[0] ^= nums[i]\n",
    "        return nums[0]\n",
    "# 假设 [1, 2, 2] 异或：相同位置的不同元素为1，相同为0\n",
    "# 从index=1开始, 第一步： nums[0] ^= nums[1] nums: [3, 2, 2]\n",
    "# index = 2, nums[0] ^= nums[2], nums: [1,2,2]\n",
    "# 因为只有一个数字只出现了一次，那么势必nums[0]在经过循环之后，一定是只出现一次的数字"
   ]
  },
  {
   "cell_type": "code",
   "execution_count": 6,
   "metadata": {},
   "outputs": [],
   "source": [
    "a = [1, 2]\n",
    "a[0] ^= a[1]"
   ]
  },
  {
   "cell_type": "code",
   "execution_count": 7,
   "metadata": {},
   "outputs": [
    {
     "data": {
      "text/plain": [
       "[3, 2]"
      ]
     },
     "execution_count": 7,
     "metadata": {},
     "output_type": "execute_result"
    }
   ],
   "source": [
    "a"
   ]
  },
  {
   "cell_type": "code",
   "execution_count": null,
   "metadata": {},
   "outputs": [],
   "source": []
  }
 ],
 "metadata": {
  "kernelspec": {
   "display_name": "Python 3",
   "language": "python",
   "name": "python3"
  },
  "language_info": {
   "codemirror_mode": {
    "name": "ipython",
    "version": 3
   },
   "file_extension": ".py",
   "mimetype": "text/x-python",
   "name": "python",
   "nbconvert_exporter": "python",
   "pygments_lexer": "ipython3",
   "version": "3.6.2"
  }
 },
 "nbformat": 4,
 "nbformat_minor": 4
}
