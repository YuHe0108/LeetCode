{
 "cells": [
  {
   "cell_type": "raw",
   "metadata": {},
   "source": [
    "说明：\n",
    "    给定两个字符串s和t，编写一个函数以确定t是否是s的字谜。\n",
    "    移动t的任意字符，让其等于s，如果可以返回True，否则返回False\n",
    "\n",
    "Example 1:\n",
    "    Input: s = \"anagram\", t = \"nagaram\"\n",
    "    Output: true\n",
    "\n",
    "Example 2:\n",
    "    Input: s = \"rat\", t = \"car\"\n",
    "    Output: false\n",
    "\n",
    "注意：\n",
    "    1、您可以假设该字符串仅包含小写字母。\n",
    "跟进：\n",
    "    1、如果输入包含Unicode字符怎么办？\n",
    "    2、您将如何适应这种情况的解决方案？"
   ]
  },
  {
   "cell_type": "code",
   "execution_count": 2,
   "metadata": {},
   "outputs": [],
   "source": [
    "class Solution:\n",
    "    def isAnagram(self, s: str, t: str) -> bool:\n",
    "        return sorted(s) == sorted(t)"
   ]
  },
  {
   "cell_type": "code",
   "execution_count": 11,
   "metadata": {},
   "outputs": [],
   "source": [
    "class Solution:\n",
    "    def isAnagram(self, s: str, t: str) -> bool:\n",
    "        if len(s) != len(t):\n",
    "            return False\n",
    "        # s 和 t中，出现的元素次数相同即可\n",
    "        s_dict = {}\n",
    "        t_dict = {}\n",
    "        for i in range(len(s)):\n",
    "            s_val = s[i]\n",
    "            t_val = t[i]\n",
    "            s_dict[s_val] = 1 if s_val not in s_dict else s_dict[s_val]+1\n",
    "            t_dict[t_val] = 1 if t_val not in t_dict else t_dict[t_val]+1\n",
    "        return s_dict == t_dict"
   ]
  },
  {
   "cell_type": "code",
   "execution_count": 6,
   "metadata": {},
   "outputs": [
    {
     "name": "stdout",
     "output_type": "stream",
     "text": [
      "97\n"
     ]
    }
   ],
   "source": [
    "print(ord('a'))"
   ]
  },
  {
   "cell_type": "code",
   "execution_count": 9,
   "metadata": {},
   "outputs": [],
   "source": [
    "a = {'a': 1, 'b':2}\n",
    "b = {'b': 2, 'a':1}"
   ]
  },
  {
   "cell_type": "code",
   "execution_count": 10,
   "metadata": {},
   "outputs": [
    {
     "data": {
      "text/plain": [
       "True"
      ]
     },
     "execution_count": 10,
     "metadata": {},
     "output_type": "execute_result"
    }
   ],
   "source": [
    "a == b"
   ]
  },
  {
   "cell_type": "code",
   "execution_count": null,
   "metadata": {},
   "outputs": [],
   "source": []
  }
 ],
 "metadata": {
  "kernelspec": {
   "display_name": "Python 3",
   "language": "python",
   "name": "python3"
  },
  "language_info": {
   "codemirror_mode": {
    "name": "ipython",
    "version": 3
   },
   "file_extension": ".py",
   "mimetype": "text/x-python",
   "name": "python",
   "nbconvert_exporter": "python",
   "pygments_lexer": "ipython3",
   "version": "3.6.2"
  }
 },
 "nbformat": 4,
 "nbformat_minor": 4
}
