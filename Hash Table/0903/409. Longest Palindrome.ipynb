{
 "cells": [
  {
   "cell_type": "raw",
   "metadata": {},
   "source": [
    "说明：\n",
    "    给定一个由小写或大写字母组成的字符串s，\n",
    "    返回可以用这些字母建立的最长回文的长度。\n",
    "    字母区分大小写，例如，“ Aa”在这里不被视为回文。\n",
    "    \n",
    "要求：用\n",
    "    所给的元素构成最大长度的回文数\n",
    "    \n",
    "Example 1:\n",
    "    Input: s = \"abccccdd\"\n",
    "    Output: 7\n",
    "    Explanation:\n",
    "        One longest palindrome that can be built is \"dccaccd\", whose length is 7.\n",
    "\n",
    "Example 2:\n",
    "    Input: s = \"a\"\n",
    "    Output: 1\n",
    "\n",
    "Example 3:\n",
    "    Input: s = \"bb\"\n",
    "    Output: 2\n",
    "\n",
    "限制：\n",
    "    1、1 <= s.length <= 2000 s，\n",
    "    2、仅包含小写和/或大写英文字母。"
   ]
  },
  {
   "cell_type": "code",
   "execution_count": 6,
   "metadata": {},
   "outputs": [],
   "source": [
    "# 思路：\n",
    "# 偶数个的元素可以全都使用\n",
    "# 奇数个的元素使用最多的一个\n",
    "# 其余的元素只能 -1后使用"
   ]
  },
  {
   "cell_type": "code",
   "execution_count": 7,
   "metadata": {},
   "outputs": [],
   "source": [
    "class Solution:\n",
    "    def longestPalindrome(self, s: str) -> int:\n",
    "        if len(s) == 1: return 1\n",
    "        s_dict = collections.Counter(s)\n",
    "        s_dict = sorted(s_dict.items(), key=lambda x:-x[1])\n",
    "        # 两个奇数不能构成回文数字\n",
    "        # 两个偶数可以构成\n",
    "        # 一个奇数一个偶数也可以\n",
    "        odd = False\n",
    "        res = 0\n",
    "        for key, val in s_dict:\n",
    "            if val % 2 == 0:\n",
    "                res += val\n",
    "            elif odd is False:\n",
    "                res += val\n",
    "                odd = True\n",
    "            else:\n",
    "                res += val - 1\n",
    "        return res"
   ]
  },
  {
   "cell_type": "code",
   "execution_count": null,
   "metadata": {},
   "outputs": [],
   "source": []
  }
 ],
 "metadata": {
  "kernelspec": {
   "display_name": "Python 3",
   "language": "python",
   "name": "python3"
  },
  "language_info": {
   "codemirror_mode": {
    "name": "ipython",
    "version": 3
   },
   "file_extension": ".py",
   "mimetype": "text/x-python",
   "name": "python",
   "nbconvert_exporter": "python",
   "pygments_lexer": "ipython3",
   "version": "3.6.2"
  }
 },
 "nbformat": 4,
 "nbformat_minor": 4
}
