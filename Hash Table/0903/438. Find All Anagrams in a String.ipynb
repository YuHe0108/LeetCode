{
 "cells": [
  {
   "cell_type": "raw",
   "metadata": {},
   "source": [
    "说明：\n",
    "    给定字符串s和非空字符串p，在s中找到p的anagrams的所有起始索引。\n",
    "    字符串仅包含小写英文字母，字符串s和p的长度均不得大于20,100。\n",
    "    输出顺序无关紧要。\n",
    "\n",
    "Example 1:\n",
    "    Input:\n",
    "        s: \"cbaebabacd\" p: \"abc\"\n",
    "    Output:\n",
    "        [0, 6]\n",
    "    Explanation:\n",
    "        The substring with start index = 0 is \"cba\", which is an anagram of \"abc\".\n",
    "        The substring with start index = 6 is \"bac\", which is an anagram of \"abc\".\n",
    "\n",
    "Example 2:\n",
    "    Input:\n",
    "        s: \"abab\" p: \"ab\"\n",
    "    Output:\n",
    "        [0, 1, 2]\n",
    "    Explanation:\n",
    "        The substring with start index = 0 is \"ab\", which is an anagram of \"ab\".\n",
    "        The substring with start index = 1 is \"ba\", which is an anagram of \"ab\".\n",
    "        The substring with start index = 2 is \"ab\", which is an anagram of \"ab\"."
   ]
  },
  {
   "cell_type": "code",
   "execution_count": 32,
   "metadata": {},
   "outputs": [],
   "source": [
    "class Solution:\n",
    "    def findAnagrams(self, s: str, p: str):\n",
    "        LS = len(s)\n",
    "        LP = len(p)\n",
    "        S = 0\n",
    "        P = 0\n",
    "        A = []\n",
    "        if LS < LP: \n",
    "            return []\n",
    "        \n",
    "        # 从第0位开始，匹配LP的长度\n",
    "        for i in range(LP): \n",
    "            S += hash(s[i])\n",
    "            P += hash(p[i])\n",
    "        # 如果 S == P, 则说明S从0开始就可以匹配P\n",
    "        if S == P: \n",
    "            A.append(0)\n",
    "        \n",
    "        for i in range(LP, LS): # LP\n",
    "            print(i, i-LP, i-LP+1)\n",
    "            S += hash(s[i]) - hash(s[i - LP])\n",
    "            if S == P: \n",
    "                A.append(i - LP + 1)\n",
    "        return A"
   ]
  },
  {
   "cell_type": "code",
   "execution_count": 33,
   "metadata": {},
   "outputs": [
    {
     "name": "stdout",
     "output_type": "stream",
     "text": [
      "2 0 1\n",
      "3 1 2\n"
     ]
    },
    {
     "data": {
      "text/plain": [
       "[0, 1, 2]"
      ]
     },
     "execution_count": 33,
     "metadata": {},
     "output_type": "execute_result"
    }
   ],
   "source": [
    "s_ = 'abab'\n",
    "t_ = 'ab'\n",
    "solution = Solution()\n",
    "solution.findAnagrams(s_, t_)"
   ]
  },
  {
   "cell_type": "code",
   "execution_count": null,
   "metadata": {},
   "outputs": [],
   "source": []
  },
  {
   "cell_type": "code",
   "execution_count": 4,
   "metadata": {},
   "outputs": [],
   "source": [
    "class Solution:\n",
    "    def findAnagrams(self, s: str, p: str):\n",
    "        p_len = len(p)\n",
    "        res = []\n",
    "        s_p = sorted(p)\n",
    "        for i in range(len(s) - p_len + 1):\n",
    "            s_val = sorted(s[i:i + p_len])\n",
    "            if s_val == s_p:\n",
    "                res.append(i)\n",
    "        return res\n",
    "            "
   ]
  },
  {
   "cell_type": "code",
   "execution_count": null,
   "metadata": {},
   "outputs": [],
   "source": []
  }
 ],
 "metadata": {
  "kernelspec": {
   "display_name": "Python 3",
   "language": "python",
   "name": "python3"
  },
  "language_info": {
   "codemirror_mode": {
    "name": "ipython",
    "version": 3
   },
   "file_extension": ".py",
   "mimetype": "text/x-python",
   "name": "python",
   "nbconvert_exporter": "python",
   "pygments_lexer": "ipython3",
   "version": "3.6.2"
  }
 },
 "nbformat": 4,
 "nbformat_minor": 4
}
