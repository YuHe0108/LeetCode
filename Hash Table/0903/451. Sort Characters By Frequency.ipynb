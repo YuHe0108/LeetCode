{
 "cells": [
  {
   "cell_type": "raw",
   "metadata": {},
   "source": [
    "说明：\n",
    "    给定一个字符串，请根据字符的频率以降序对其进行排序。\n",
    "\n",
    "Example 1:\n",
    "    Input:\n",
    "        \"tree\"\n",
    "    Output:\n",
    "        \"eert\"\n",
    "    Explanation:\n",
    "        'e' appears twice while 'r' and 't' both appear once.\n",
    "        So 'e' must appear before both 'r' and 't'. Therefore \"eetr\" is also a valid answer.\n",
    "\n",
    "Example 2:\n",
    "    Input:\n",
    "        \"cccaaa\"\n",
    "    Output:\n",
    "        \"cccaaa\"\n",
    "    Explanation:\n",
    "        Both 'c' and 'a' appear three times, so \"aaaccc\" is also a valid answer.\n",
    "        Note that \"cacaca\" is incorrect, as the same characters must be together.\n",
    "\n",
    "Example 3:\n",
    "    Input:\n",
    "        \"Aabb\"\n",
    "    Output:\n",
    "        \"bbAa\"\n",
    "    Explanation:\n",
    "        \"bbaA\" is also a valid answer, but \"Aabb\" is incorrect.\n",
    "        Note that 'A' and 'a' are treated as two different characters."
   ]
  },
  {
   "cell_type": "code",
   "execution_count": 1,
   "metadata": {},
   "outputs": [],
   "source": [
    "class Solution:\n",
    "    def frequencySort(self, s: str) -> str:\n",
    "        w_dict = {}\n",
    "        for i in s:\n",
    "            if i in w_dict:\n",
    "                w_dict[i] += 1\n",
    "            else:\n",
    "                w_dict[i] = 1\n",
    "        \n",
    "        w_dict = sorted(w_dict.items(), key=lambda x:-x[1])\n",
    "        res = ''\n",
    "        for key, val in w_dict:\n",
    "            res += key * val\n",
    "        return res"
   ]
  },
  {
   "cell_type": "code",
   "execution_count": 2,
   "metadata": {},
   "outputs": [],
   "source": [
    "items = [(0, 1), (4, 4), (-1, 8), (5, 2)]"
   ]
  },
  {
   "cell_type": "code",
   "execution_count": 3,
   "metadata": {},
   "outputs": [],
   "source": [
    "import heapq"
   ]
  },
  {
   "cell_type": "code",
   "execution_count": 4,
   "metadata": {},
   "outputs": [],
   "source": [
    "heapq.heapify(items)"
   ]
  },
  {
   "cell_type": "code",
   "execution_count": 5,
   "metadata": {},
   "outputs": [
    {
     "data": {
      "text/plain": [
       "[(-1, 8), (4, 4), (0, 1), (5, 2)]"
      ]
     },
     "execution_count": 5,
     "metadata": {},
     "output_type": "execute_result"
    }
   ],
   "source": [
    "items"
   ]
  },
  {
   "cell_type": "code",
   "execution_count": 9,
   "metadata": {},
   "outputs": [
    {
     "data": {
      "text/plain": [
       "(5, 2)"
      ]
     },
     "execution_count": 9,
     "metadata": {},
     "output_type": "execute_result"
    }
   ],
   "source": [
    "heapq.heappop(items)"
   ]
  },
  {
   "cell_type": "code",
   "execution_count": 16,
   "metadata": {},
   "outputs": [],
   "source": [
    "res = []\n",
    "res += ['s'] * -2"
   ]
  },
  {
   "cell_type": "code",
   "execution_count": 17,
   "metadata": {},
   "outputs": [
    {
     "data": {
      "text/plain": [
       "[]"
      ]
     },
     "execution_count": 17,
     "metadata": {},
     "output_type": "execute_result"
    }
   ],
   "source": [
    "res"
   ]
  },
  {
   "cell_type": "code",
   "execution_count": null,
   "metadata": {},
   "outputs": [],
   "source": []
  }
 ],
 "metadata": {
  "kernelspec": {
   "display_name": "Python 3",
   "language": "python",
   "name": "python3"
  },
  "language_info": {
   "codemirror_mode": {
    "name": "ipython",
    "version": 3
   },
   "file_extension": ".py",
   "mimetype": "text/x-python",
   "name": "python",
   "nbconvert_exporter": "python",
   "pygments_lexer": "ipython3",
   "version": "3.6.2"
  }
 },
 "nbformat": 4,
 "nbformat_minor": 4
}
