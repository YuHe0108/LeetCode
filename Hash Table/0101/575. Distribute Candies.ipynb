{
 "cells": [
  {
   "cell_type": "code",
   "execution_count": null,
   "metadata": {},
   "outputs": [],
   "source": []
  },
  {
   "cell_type": "code",
   "execution_count": null,
   "metadata": {},
   "outputs": [],
   "source": [
    "class Solution:\n",
    "    def distributeCandies(self, candyType: List[int]) -> int:\n",
    "        n1=len(candyType)//2\n",
    "        n2=len(set(candyType))\n",
    "        if(n1>=n2):\n",
    "            return n2\n",
    "        elif(n1<n2):\n",
    "            return n1"
   ]
  },
  {
   "cell_type": "code",
   "execution_count": 9,
   "metadata": {},
   "outputs": [],
   "source": [
    "from typing import List\n",
    "from collections import Counter\n",
    "\n",
    "class Solution:\n",
    "    def distributeCandies(self, candies: List[int]) -> int:\n",
    "        count = Counter(candies)\n",
    "        s_count = sorted(count.items(), key=lambda x:x[1])\n",
    "        n = len(candies) // 2 # 每个人能够分到的糖果数量\n",
    "        cnt = 0\n",
    "        for c_type, c_num in s_count:\n",
    "            cnt += 1 # 每个糖果种类我就拿一种\n",
    "            if cnt == n: #\n",
    "                return cnt\n",
    "        return cnt"
   ]
  },
  {
   "cell_type": "code",
   "execution_count": 10,
   "metadata": {},
   "outputs": [
    {
     "data": {
      "text/plain": [
       "2"
      ]
     },
     "execution_count": 10,
     "metadata": {},
     "output_type": "execute_result"
    }
   ],
   "source": [
    "solution = Solution()\n",
    "solution.distributeCandies(candies = [1,1,2,3])"
   ]
  },
  {
   "cell_type": "code",
   "execution_count": null,
   "metadata": {},
   "outputs": [],
   "source": [
    "\n",
    "class Solution:\n",
    "    def distributeCandies(self, candies: List[int]) -> int:\n",
    "        n = len(candies) // 2 # 每个人能够分到的糖果数量\n",
    "        cnt = 0\n",
    "        for c_type in set(candies):\n",
    "            cnt += 1 # 每个糖果种类我就拿一种\n",
    "            if cnt == n: #\n",
    "                return cnt\n",
    "        return cnt"
   ]
  }
 ],
 "metadata": {
  "kernelspec": {
   "display_name": "Python 3",
   "language": "python",
   "name": "python3"
  },
  "language_info": {
   "codemirror_mode": {
    "name": "ipython",
    "version": 3
   },
   "file_extension": ".py",
   "mimetype": "text/x-python",
   "name": "python",
   "nbconvert_exporter": "python",
   "pygments_lexer": "ipython3",
   "version": "3.6.2"
  }
 },
 "nbformat": 4,
 "nbformat_minor": 4
}
