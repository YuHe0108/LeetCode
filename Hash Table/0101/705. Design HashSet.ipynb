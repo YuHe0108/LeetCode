{
 "cells": [
  {
   "cell_type": "code",
   "execution_count": null,
   "metadata": {},
   "outputs": [],
   "source": []
  },
  {
   "cell_type": "code",
   "execution_count": null,
   "metadata": {},
   "outputs": [],
   "source": []
  },
  {
   "cell_type": "code",
   "execution_count": null,
   "metadata": {},
   "outputs": [],
   "source": [
    "class MyHashSet:\n",
    "\n",
    "    def __init__(self):\n",
    "        self.key_range = 919\n",
    "        self.buckets = [[] for _ in range(self.key_range)]\n",
    "        \n",
    "    def _hash(self, key):\n",
    "        return key % self.key_range\n",
    "\n",
    "    def add(self, key: int) -> None:\n",
    "        key_hash = self._hash(key)\n",
    "        if key not in self.buckets[key_hash]:\n",
    "            self.buckets[key_hash].append(key)\n",
    "\n",
    "    def remove(self, key: int) -> None:\n",
    "        key_hash = self._hash(key)\n",
    "        if key in self.buckets[key_hash]:\n",
    "            self.buckets[key_hash].remove(key)\n",
    "\n",
    "\n",
    "    def contains(self, key: int) -> bool:\n",
    "        \"\"\"\n",
    "        Returns true if this set contains the specified element\n",
    "        \"\"\"\n",
    "        key_hash = self._hash(key)\n",
    "        if key not in self.buckets[key_hash]:\n",
    "            return False\n",
    "        return True"
   ]
  }
 ],
 "metadata": {
  "kernelspec": {
   "display_name": "Python 3",
   "language": "python",
   "name": "python3"
  },
  "language_info": {
   "codemirror_mode": {
    "name": "ipython",
    "version": 3
   },
   "file_extension": ".py",
   "mimetype": "text/x-python",
   "name": "python",
   "nbconvert_exporter": "python",
   "pygments_lexer": "ipython3",
   "version": "3.6.2"
  }
 },
 "nbformat": 4,
 "nbformat_minor": 4
}
