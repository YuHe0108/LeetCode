{
 "cells": [
  {
   "cell_type": "code",
   "execution_count": null,
   "metadata": {},
   "outputs": [],
   "source": []
  },
  {
   "cell_type": "code",
   "execution_count": null,
   "metadata": {},
   "outputs": [],
   "source": []
  },
  {
   "cell_type": "code",
   "execution_count": null,
   "metadata": {},
   "outputs": [],
   "source": [
    "from collections import defaultdict\n",
    "\n",
    "class Solution:\n",
    "    def uncommonFromSentences(self, A: str, B: str) -> List[str]:\n",
    "        a_count = defaultdict(int)\n",
    "        a_words = A.split(' ')\n",
    "        for a_w in a_words:\n",
    "            a_count[a_w] += 1\n",
    "        \n",
    "        b_count = defaultdict(int)\n",
    "        b_words = B.split(' ')\n",
    "        for b_w in b_words:\n",
    "            b_count[b_w] += 1\n",
    "        \n",
    "        res = []\n",
    "        for a_w, a_t in a_count.items():\n",
    "            if a_t == 1 and a_w not in b_count:\n",
    "                res.append(a_w)\n",
    "        for b_w, b_t in b_count.items():\n",
    "            if b_t == 1 and b_w not in a_count:\n",
    "                res.append(b_w)\n",
    "        return res\n",
    "            "
   ]
  }
 ],
 "metadata": {
  "kernelspec": {
   "display_name": "Python 3",
   "language": "python",
   "name": "python3"
  },
  "language_info": {
   "codemirror_mode": {
    "name": "ipython",
    "version": 3
   },
   "file_extension": ".py",
   "mimetype": "text/x-python",
   "name": "python",
   "nbconvert_exporter": "python",
   "pygments_lexer": "ipython3",
   "version": "3.6.2"
  }
 },
 "nbformat": 4,
 "nbformat_minor": 4
}
