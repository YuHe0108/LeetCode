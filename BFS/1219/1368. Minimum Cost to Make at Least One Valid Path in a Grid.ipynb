{
 "cells": [
  {
   "cell_type": "code",
   "execution_count": null,
   "metadata": {},
   "outputs": [],
   "source": []
  },
  {
   "cell_type": "code",
   "execution_count": null,
   "metadata": {},
   "outputs": [],
   "source": []
  },
  {
   "cell_type": "markdown",
   "metadata": {},
   "source": [
    "### 原则上就是能走就走，走不动了就换方向, 或者能走的方向都是走过的"
   ]
  },
  {
   "cell_type": "code",
   "execution_count": 28,
   "metadata": {},
   "outputs": [],
   "source": [
    "# 核心问题，什么时候应该换方向？\n",
    "from collections import deque\n",
    "\n",
    "class Solution:\n",
    "    def minCost(self, grid):\n",
    "        dirs = [[0, 0], [0, 1], [0, -1], [1, 0], [-1, 0]] # 给定四个方向\n",
    "        rows, cols = len(grid), len(grid[0])\n",
    "        dq = deque([[0, 0, 0]])\n",
    "        seen = {(0, 0)}\n",
    "        while dq:\n",
    "            for _ in range(len(dq)):\n",
    "                r, c, cnt = dq.popleft()\n",
    "                if (r, c) == (rows-1, cols-1):\n",
    "                    return cnt\n",
    "                temp_dq = []\n",
    "                nr, nc = r + dirs[grid[r][c]][0], c + dirs[grid[r][c]][1]\n",
    "                if 0 <= nr < rows and 0 <= nc < cols and (nr, nc) not in seen:\n",
    "                    seen.add((nr, nc))\n",
    "                    temp_dq.append((nr, nc, cnt))\n",
    "                if not temp_dq:\n",
    "                    # 如果不能走下去，换个方向\n",
    "                    for i in range(1, 4 + 1):\n",
    "                        nr, nc = r + dirs[i][0], c + dirs[i][1]\n",
    "                        if 0 <= nr < rows and 0 <= nc < cols and (nr, nc) not in seen:\n",
    "                            if (nr, nc) == (rows-1, cols-1):\n",
    "                                return cnt\n",
    "                            temp_dq.append((nr, nc, cnt + 1))   \n",
    "                dq.extend(temp_dq)\n",
    "        return res"
   ]
  },
  {
   "cell_type": "code",
   "execution_count": null,
   "metadata": {},
   "outputs": [],
   "source": []
  },
  {
   "cell_type": "code",
   "execution_count": null,
   "metadata": {},
   "outputs": [],
   "source": []
  },
  {
   "cell_type": "code",
   "execution_count": null,
   "metadata": {},
   "outputs": [],
   "source": []
  },
  {
   "cell_type": "code",
   "execution_count": 44,
   "metadata": {},
   "outputs": [],
   "source": [
    "from queue import PriorityQueue\n",
    "# 优先队列，按照 put 压入元素的第一个元素排序，get弹出最小的元素\n",
    "\n",
    "class Solution:\n",
    "    def minCost(self, grid):\n",
    "        que = PriorityQueue()\n",
    "        m, n = len(grid), len(grid[0])\n",
    "        \n",
    "        que.put((0, 0, 0)) # cost, r, c\n",
    "        best_state = {(0, 0): 0} # 用于存储到达某个状态的最小花费\n",
    "        while que.not_empty:\n",
    "            cost, r, c = que.get()\n",
    "            if (r, c) == (m-1, n-1):\n",
    "                return cost\n",
    "            \n",
    "            # 四个方向都探索一遍，如果和当前的方向值不一致，则 + 1\n",
    "            for nr, nc, dir_val in [(r-1, c, 4), (r+1, c, 3), (r, c-1, 2), (r, c+1, 1)]:\n",
    "                if 0 <= nr < m and 0 <= nc < n:\n",
    "                    new_cost = cost + 1 if dir_val != grid[r][c] else cost\n",
    "                    state = (nr, nc)\n",
    "                    # 记录下到下一个位置的花费，如果到一个位置的花费可以更小，则更新 cost\n",
    "                    if state not in best_state or best_state[state] > new_cost:\n",
    "                        best_state[state] = new_cost\n",
    "                        que.put((new_cost, nr, nc)) # 有更小的花费的时候，从更小的花费的地方出发\n",
    "        return -1"
   ]
  },
  {
   "cell_type": "code",
   "execution_count": 45,
   "metadata": {},
   "outputs": [
    {
     "name": "stdout",
     "output_type": "stream",
     "text": [
      "0 0 0\n",
      "0 0 1\n",
      "0 0 2\n",
      "0 1 2\n",
      "0 1 1\n",
      "0 1 0\n",
      "1 1 0\n",
      "1 1 1\n",
      "1 2 0\n",
      "1 2 1\n",
      "1 2 2\n"
     ]
    },
    {
     "data": {
      "text/plain": [
       "1"
      ]
     },
     "execution_count": 45,
     "metadata": {},
     "output_type": "execute_result"
    }
   ],
   "source": [
    "solution = Solution()\n",
    "solution.minCost([[1,1,3],\n",
    "                  [2,2,2],\n",
    "                  [4,4,1]])"
   ]
  },
  {
   "cell_type": "code",
   "execution_count": null,
   "metadata": {},
   "outputs": [],
   "source": []
  }
 ],
 "metadata": {
  "kernelspec": {
   "display_name": "Python 3",
   "language": "python",
   "name": "python3"
  },
  "language_info": {
   "codemirror_mode": {
    "name": "ipython",
    "version": 3
   },
   "file_extension": ".py",
   "mimetype": "text/x-python",
   "name": "python",
   "nbconvert_exporter": "python",
   "pygments_lexer": "ipython3",
   "version": "3.6.2"
  }
 },
 "nbformat": 4,
 "nbformat_minor": 4
}
