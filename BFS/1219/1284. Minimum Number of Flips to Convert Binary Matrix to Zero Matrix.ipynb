{
 "cells": [
  {
   "cell_type": "code",
   "execution_count": 116,
   "metadata": {},
   "outputs": [],
   "source": [
    "a = [[1, 0, 0]]"
   ]
  },
  {
   "cell_type": "code",
   "execution_count": 117,
   "metadata": {},
   "outputs": [],
   "source": [
    "deque([[2, 0, 1, [[0, 1, 1], [0, 1, 1], [1, 0, 0]]], \n",
    "       [0, 0, 1, [[0, 1, 1], [0, 1, 1], [1, 0, 0]]], \n",
    "       [1, 1, 1, [[0, 1, 1], [0, 1, 1], [1, 0, 0]]]]) \n",
    "\n",
    "    [[0, 1, 1], [0, 1, 1], [0, 0, 0]]\n",
    "\n",
    "deque([[0, 0, 1, [[0, 1, 1], [0, 1, 1], [0, 0, 0]]], \n",
    "       [1, 1, 1, [[0, 1, 1], [0, 1, 1], [0, 0, 0]]]]) b"
   ]
  },
  {
   "cell_type": "code",
   "execution_count": 118,
   "metadata": {},
   "outputs": [
    {
     "data": {
      "text/plain": [
       "[[0, 0, 0]]"
      ]
     },
     "execution_count": 118,
     "metadata": {},
     "output_type": "execute_result"
    }
   ],
   "source": [
    "[[1, 1, 1], [0, 0, 1], [0, 0, 0]]"
   ]
  },
  {
   "cell_type": "code",
   "execution_count": null,
   "metadata": {},
   "outputs": [],
   "source": []
  },
  {
   "cell_type": "code",
   "execution_count": null,
   "metadata": {},
   "outputs": [],
   "source": []
  },
  {
   "cell_type": "code",
   "execution_count": 222,
   "metadata": {},
   "outputs": [],
   "source": [
    "# 好像除了暴力搜索\n",
    "from collections import defaultdict, deque\n",
    "import copy\n",
    "\n",
    "class Solution:\n",
    "    def minFlips(self, mat):\n",
    "        def check(r, c):\n",
    "            temp_mat = copy.deepcopy(mat)\n",
    "            dq = [[r, c, 0, temp_mat]] # 从当前 (r,c)点开始遍历\n",
    "            seen = {(r, c, str(temp_mat))}\n",
    "            while dq:\n",
    "                temp_dq, final_dq = [], []\n",
    "                for _ in range(len(dq)):\n",
    "                    r, c, cnt, cur_mat = dq.pop()\n",
    "                    cur_mat = copy.deepcopy(cur_mat)\n",
    "                    cur_mat[r][c] ^= 1 # 0->1, 1->0, 反转当前点\n",
    "                    for nr, nc in (r+1, c), (r-1, c), (r, c+1), (r, c-1): # 反转临近的四个点\n",
    "                        if nr < 0 or nr >= rows or nc < 0 or nc >= cols:\n",
    "                            continue\n",
    "                        cur_mat[nr][nc] ^= 1\n",
    "                        temp_dq.append([nr, nc, cnt + 1])\n",
    "                    \n",
    "                    if str(cur_mat) == target:\n",
    "                        return cnt + 1, True\n",
    "                    for i, j, k in temp_dq:\n",
    "                        if (i, j, str(cur_mat)) not in seen:\n",
    "                            seen.add((i, j, str(cur_mat)))\n",
    "                            final_dq.append([i, j, k] + [cur_mat])\n",
    "                dq.extend(final_dq)\n",
    "            return None, False\n",
    "        \n",
    "        rows, cols = len(mat), len(mat[0])\n",
    "        target = str([[0] * cols for _ in range(rows)])\n",
    "        # 逐个点搜索\n",
    "        min_res = float('inf')\n",
    "        for i in range(rows):\n",
    "            for j in range(cols):\n",
    "                res, state = check(i, j)\n",
    "                if state:\n",
    "                    min_res = min(min_res, res)\n",
    "        return min_res if min_res != float('inf') else -1"
   ]
  },
  {
   "cell_type": "code",
   "execution_count": null,
   "metadata": {},
   "outputs": [],
   "source": [
    "from collections import deque\n",
    "import numpy as np\n",
    "\n",
    "class Solution:\n",
    "    def minFlips(self, mat: List[List[int]]) -> int:\n",
    "        mat = np.array(mat)\n",
    "        row = len(mat)\n",
    "        col = len(mat[0])\n",
    "        visit = set()\n",
    "\n",
    "        def list_to_tuple(mat):\n",
    "            return tuple(tuple(x) for x in mat)\n",
    "\n",
    "        queue = deque()\n",
    "        queue.appendleft(mat)\n",
    "        visit.add(list_to_tuple(mat))\n",
    "\n",
    "        res = 0\n",
    "        while queue:\n",
    "            n = len(queue)\n",
    "            for _ in range(n):\n",
    "                cur = queue.pop()\n",
    "                if cur.sum() == 0:\n",
    "                    return res\n",
    "\n",
    "                for i in range(row):\n",
    "                    for j in range(col):\n",
    "                        cur_copy = cur.copy()\n",
    "                        cur_copy[i][j] = 1 - cur_copy[i][j]\n",
    "\n",
    "                        if 0 <= i - 1 <= row - 1 and 0 <= j <= col - 1:\n",
    "                            cur_copy[i - 1][j] = 1 - cur_copy[i - 1][j]\n",
    "                        if 0 <= i + 1 <= row - 1 and 0 <= j <= col - 1:\n",
    "                            cur_copy[i + 1][j] = 1 - cur_copy[i + 1][j]\n",
    "                        if 0 <= i <= row - 1 and 0 <= j - 1 <= col - 1:\n",
    "                            cur_copy[i][j - 1] = 1 - cur_copy[i][j - 1]\n",
    "                        if 0 <= i <= row - 1 and 0 <= j + 1 <= col - 1:\n",
    "                            cur_copy[i][j + 1] = 1 - cur_copy[i][j + 1]\n",
    "\n",
    "                        cur_tuple = list_to_tuple(cur_copy)\n",
    "                        if cur_tuple not in visit:\n",
    "                            visit.add(cur_tuple)\n",
    "                            queue.appendleft(cur_copy)\n",
    "\n",
    "            res += 1\n",
    "        return -1"
   ]
  },
  {
   "cell_type": "code",
   "execution_count": null,
   "metadata": {},
   "outputs": [],
   "source": []
  },
  {
   "cell_type": "code",
   "execution_count": null,
   "metadata": {},
   "outputs": [],
   "source": []
  },
  {
   "cell_type": "markdown",
   "metadata": {},
   "source": [
    "### bitmask解法，将矩阵中的每一个元素视作二进制的每一位"
   ]
  },
  {
   "cell_type": "code",
   "execution_count": 236,
   "metadata": {},
   "outputs": [],
   "source": [
    "class Solution:\n",
    "    def minFlips(self, mat) -> int:\n",
    "        R = len(mat)\n",
    "        C = len(mat[0])\n",
    "        s = 0\n",
    "        for r, row in enumerate(mat):\n",
    "            for c, v in enumerate(row):\n",
    "                s += (v << (r * C + c))\n",
    "        s = sum((v << (r * C + c)) for r,row in enumerate(mat) for c,v in enumerate(row))\n",
    "        Q = deque([(s, 0)]) # statusnode, step\n",
    "        seen = set([(s)])\n",
    "        while Q:\n",
    "            node, step = Q.popleft()\n",
    "            if node == 0:\n",
    "                return step\n",
    "            for r in range(R):\n",
    "                for c in range(C):\n",
    "                    nei = node\n",
    "                    for dr, dc in [[-1,0],[0,1],[1,0],[0,-1],[0,0]]:\n",
    "                        nr, nc = r + dr, c + dc\n",
    "                        if 0 <= nr < R and 0 <= nc < C:\n",
    "                            nei ^= 1 << (nr * C + nc)\n",
    "                    if nei not in seen:        \n",
    "                        seen.add(nei)\n",
    "                        Q.append((nei, step + 1))\n",
    "        return -1"
   ]
  },
  {
   "cell_type": "code",
   "execution_count": 237,
   "metadata": {},
   "outputs": [
    {
     "name": "stdout",
     "output_type": "stream",
     "text": [
      "1\n",
      "1\n",
      "1\n",
      "1\n",
      "0\n",
      "1\n",
      "0\n",
      "0\n",
      "0\n",
      "47\n"
     ]
    }
   ],
   "source": [
    "solution = Solution()\n",
    "solution.minFlips([[1,1,1],\n",
    "                   [1,0,1],\n",
    "                   [0,0,0]])"
   ]
  },
  {
   "cell_type": "code",
   "execution_count": 8,
   "metadata": {},
   "outputs": [
    {
     "data": {
      "text/plain": [
       "1"
      ]
     },
     "execution_count": 8,
     "metadata": {},
     "output_type": "execute_result"
    }
   ],
   "source": [
    "0 ^ 1"
   ]
  },
  {
   "cell_type": "code",
   "execution_count": 18,
   "metadata": {},
   "outputs": [],
   "source": [
    "a = [[1, 2]]"
   ]
  },
  {
   "cell_type": "code",
   "execution_count": 20,
   "metadata": {},
   "outputs": [],
   "source": [
    "b = set(str(a))"
   ]
  },
  {
   "cell_type": "code",
   "execution_count": 28,
   "metadata": {},
   "outputs": [],
   "source": [
    "c = str(a)"
   ]
  },
  {
   "cell_type": "code",
   "execution_count": 29,
   "metadata": {},
   "outputs": [
    {
     "data": {
      "text/plain": [
       "'([1, 2],)'"
      ]
     },
     "execution_count": 29,
     "metadata": {},
     "output_type": "execute_result"
    }
   ],
   "source": [
    "c"
   ]
  },
  {
   "cell_type": "code",
   "execution_count": 30,
   "metadata": {},
   "outputs": [
    {
     "data": {
      "text/plain": [
       "['(', '[', '1', ',', ' ', '2', ']', ',', ')']"
      ]
     },
     "execution_count": 30,
     "metadata": {},
     "output_type": "execute_result"
    }
   ],
   "source": [
    "deque([[0, 0, 2, [[1, 0], [0, 1]], [[1, 0], [0, 1]]], \n",
    "       [1, 1, 2, [[1, 0], [0, 1]], [[1, 0], [0, 1]]], \n",
    "       [0, 0, 2, [[1, 0], [0, 1]], [[1, 0], [0, 1]]], \n",
    "       [1, 1, 2, [[1, 0], [0, 1]], [[1, 0], [0, 1]]], \n",
    "       [1, 1, 2, [[1, 0], [0, 1]]], \n",
    "       [0, 0, 2, [[1, 0], [0, 1]]]])"
   ]
  },
  {
   "cell_type": "code",
   "execution_count": null,
   "metadata": {},
   "outputs": [],
   "source": []
  }
 ],
 "metadata": {
  "kernelspec": {
   "display_name": "Python 3",
   "language": "python",
   "name": "python3"
  },
  "language_info": {
   "codemirror_mode": {
    "name": "ipython",
    "version": 3
   },
   "file_extension": ".py",
   "mimetype": "text/x-python",
   "name": "python",
   "nbconvert_exporter": "python",
   "pygments_lexer": "ipython3",
   "version": "3.6.2"
  }
 },
 "nbformat": 4,
 "nbformat_minor": 4
}
