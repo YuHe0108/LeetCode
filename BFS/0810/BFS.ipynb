{
 "cells": [
  {
   "cell_type": "markdown",
   "metadata": {},
   "source": [
    "<img src=\"BFS.jpg\" width=700 height=700></img>"
   ]
  },
  {
   "cell_type": "code",
   "execution_count": 4,
   "metadata": {},
   "outputs": [],
   "source": [
    "# 通过广度优先的策略，遍历一张无向图\n",
    "GRAPH = {\n",
    "    'A': ['B', 'C'],\n",
    "    'B': ['A', 'C', 'D'],\n",
    "    'C': ['A', 'B', 'D', 'E'],\n",
    "    'D': ['B', 'C', 'E', 'F'],\n",
    "    'E': ['C', 'D'],\n",
    "    'F': ['D'],\n",
    "}"
   ]
  },
  {
   "cell_type": "code",
   "execution_count": 11,
   "metadata": {},
   "outputs": [],
   "source": [
    "def bfs(graph, s):\n",
    "    # graph表示输入的图，s表示遍历图时的起始节点\n",
    "    queue = [s] # 利用列表模拟队列\n",
    "    seen = set(s) # 表示已经遍历过的节点\n",
    "    while queue:\n",
    "        s_node = queue.pop(0)\n",
    "        nodes = graph.get(s_node, None)\n",
    "        for node in nodes:\n",
    "            if node not in seen:\n",
    "                seen.add(node)\n",
    "                queue.append(node)\n",
    "        print(s_node)\n",
    "    return"
   ]
  },
  {
   "cell_type": "code",
   "execution_count": 13,
   "metadata": {},
   "outputs": [
    {
     "name": "stdout",
     "output_type": "stream",
     "text": [
      "E\n",
      "C\n",
      "D\n",
      "A\n",
      "B\n",
      "F\n"
     ]
    }
   ],
   "source": [
    "bfs(GRAPH, 'E')"
   ]
  },
  {
   "cell_type": "code",
   "execution_count": null,
   "metadata": {},
   "outputs": [],
   "source": []
  }
 ],
 "metadata": {
  "kernelspec": {
   "display_name": "PyCharm (test)",
   "language": "python",
   "name": "pycharm-6cfa6a7a"
  },
  "language_info": {
   "codemirror_mode": {
    "name": "ipython",
    "version": 3
   },
   "file_extension": ".py",
   "mimetype": "text/x-python",
   "name": "python",
   "nbconvert_exporter": "python",
   "pygments_lexer": "ipython3",
   "version": "3.6.2"
  }
 },
 "nbformat": 4,
 "nbformat_minor": 4
}
