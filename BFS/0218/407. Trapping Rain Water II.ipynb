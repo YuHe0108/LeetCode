{
 "cells": [
  {
   "cell_type": "code",
   "execution_count": null,
   "metadata": {},
   "outputs": [],
   "source": []
  },
  {
   "cell_type": "code",
   "execution_count": null,
   "metadata": {},
   "outputs": [],
   "source": []
  },
  {
   "cell_type": "code",
   "execution_count": null,
   "metadata": {},
   "outputs": [],
   "source": []
  },
  {
   "cell_type": "code",
   "execution_count": 10,
   "metadata": {},
   "outputs": [],
   "source": [
    "from typing import List\n",
    "import heapq\n",
    "\n",
    "class Solution:\n",
    "    def trapRainWater(self, heightMap: List[List[int]]) -> int:\n",
    "        rows, cols = len(heightMap), len(heightMap[0])\n",
    "        # 将每个坐标的 高度值、r、c 存放在pq中\n",
    "        seen = set()\n",
    "        pq = []\n",
    "        for i in range(rows):\n",
    "            for j in range(cols):\n",
    "                if i == 0 or j == 0 or i == rows-1 or j == cols-1:\n",
    "                    heapq.heappush(pq, (heightMap[i][j], i, j))\n",
    "                    seen.add((i, j))\n",
    "        res = 0\n",
    "        while pq:\n",
    "            h, r, c = heapq.heappop(pq) # 按照高度从小到大弹出\n",
    "            for nr, nc in (r-1, c), (r, c-1), (r+1, c), (r, c+1):\n",
    "                if nr < 0 or nc < 0 or nr >= rows or nc >= cols:\n",
    "                    continue\n",
    "                if (nr, nc) in seen:\n",
    "                    continue\n",
    "                # 当前位置的高度大于 h，海水漫不进来\n",
    "                if heightMap[nr][nc] > h:\n",
    "                    continue\n",
    "                seen.add((nr, nc))\n",
    "                heapq.heappush(pq, (heightMap[nr][nc], nr, nc))\n",
    "                res += h - heightMap[nr][nc]\n",
    "        return res"
   ]
  },
  {
   "cell_type": "code",
   "execution_count": null,
   "metadata": {},
   "outputs": [],
   "source": []
  },
  {
   "cell_type": "code",
   "execution_count": null,
   "metadata": {},
   "outputs": [],
   "source": [
    "from collections import deque\n",
    "import heapq\n",
    "\n",
    "class Solution:\n",
    "    def trapRainWater(self, heightMap: List[List[int]]) -> int:\n",
    "        # 将heightmap 四周边缘的 height 加入到 pq中，并将高度改写为 -1\n",
    "        rows, cols = len(heightMap), len(heightMap[0])\n",
    "        pq = []\n",
    "        for r in range(rows):\n",
    "            heapq.heappush(pq, (heightMap[r][0], r, 0))\n",
    "            heapq.heappush(pq, (heightMap[r][-1], r, cols-1))\n",
    "            heightMap[r][0] = -1\n",
    "            heightMap[r][-1] = -1\n",
    "        for c in range(1, cols-1):\n",
    "            heapq.heappush(pq, (heightMap[0][c], 0, c))\n",
    "            heapq.heappush(pq, (heightMap[-1][c], rows-1, c))\n",
    "            heightMap[0][c] = -1\n",
    "            heightMap[-1][c] = -1\n",
    "        \n",
    "        ret = 0\n",
    "        while pq:\n",
    "            h, x, y = heapq.heappop(pq) # 每次弹出一个最低的点开始灌水\n",
    "            q = deque([(x, y)]) # 当前点向四周扩散\n",
    "            while q:\n",
    "                i, j = q.popleft()\n",
    "                for ni, nj in (i+1, j), (i-1, j), (i, j+1), (i, j-1):\n",
    "                    if ni < 0 or nj < 0 or ni >= rows or nj >= cols:\n",
    "                        continue\n",
    "                    if heightMap[ni][nj] == -1:\n",
    "                        continue\n",
    "                    \n",
    "                    # 将周围高度较低的地方灌满水，一共灌了多少水 == h - heightMap[ni][nj]\n",
    "                    if heightMap[ni][nj] <= h:\n",
    "                        ret += (h - heightMap[ni][nj])\n",
    "                        q.append((ni, nj))\n",
    "                    else:\n",
    "                        heapq.heappush(pq, (heightMap[ni][nj], ni, nj))\n",
    "                    heightMap[ni][nj] = -1\n",
    "        return ret"
   ]
  },
  {
   "cell_type": "code",
   "execution_count": 11,
   "metadata": {},
   "outputs": [
    {
     "data": {
      "text/plain": [
       "4"
      ]
     },
     "execution_count": 11,
     "metadata": {},
     "output_type": "execute_result"
    }
   ],
   "source": [
    "solution = Solution()\n",
    "solution.trapRainWater([[1,4,3,1,3,2],\n",
    "                        [3,2,1,3,2,4],\n",
    "                        [2,3,3,2,3,1]]\n",
    "                      )"
   ]
  },
  {
   "cell_type": "code",
   "execution_count": null,
   "metadata": {},
   "outputs": [],
   "source": []
  }
 ],
 "metadata": {
  "kernelspec": {
   "display_name": "Python 3",
   "language": "python",
   "name": "python3"
  },
  "language_info": {
   "codemirror_mode": {
    "name": "ipython",
    "version": 3
   },
   "file_extension": ".py",
   "mimetype": "text/x-python",
   "name": "python",
   "nbconvert_exporter": "python",
   "pygments_lexer": "ipython3",
   "version": "3.6.2"
  }
 },
 "nbformat": 4,
 "nbformat_minor": 4
}
