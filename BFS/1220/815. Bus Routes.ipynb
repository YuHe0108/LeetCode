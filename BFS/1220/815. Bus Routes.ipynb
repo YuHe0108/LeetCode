{
 "cells": [
  {
   "cell_type": "code",
   "execution_count": null,
   "metadata": {},
   "outputs": [],
   "source": []
  },
  {
   "cell_type": "code",
   "execution_count": null,
   "metadata": {},
   "outputs": [],
   "source": []
  },
  {
   "cell_type": "code",
   "execution_count": 72,
   "metadata": {},
   "outputs": [],
   "source": [
    "# 当前的时间复杂度较高\n",
    "\n",
    "from collections import deque, defaultdict\n",
    "\n",
    "class Solution:\n",
    "    def numBusesToDestination(self, routes, S: int, T: int):\n",
    "        if S == T:\n",
    "            return 0\n",
    "        # 查看一下，每个站点都有哪些公交车\n",
    "        n = len(routes)\n",
    "        graph = defaultdict(set)\n",
    "        for i in range(n):\n",
    "            for j in routes[i]:\n",
    "                graph[j].add(i+1)\n",
    "\n",
    "        routes = [tuple(set(x)) for x in routes]\n",
    "        routes = [0] + routes\n",
    "        dq = deque() # 初始化的时候，可以乘坐哪些公交车\n",
    "        for start in graph[S]:\n",
    "            dq.append((start, 1))\n",
    "            \n",
    "        best_state = {S: 1} # 到达某个站点的最小花费\n",
    "        while dq:\n",
    "            for _ in range(len(dq)): \n",
    "                s, cnt = dq.popleft() # 弹出一个公交站\n",
    "                if T in routes[s]:\n",
    "                    return cnt\n",
    "                \n",
    "                # 在当前这个公交车经过的站点上，还有哪些公交车经过, 转乘其他公交\n",
    "                for site in routes[s]:\n",
    "                    for nxt_s in graph[site]:\n",
    "                        if nxt_s == s:\n",
    "                            continue\n",
    "                        if nxt_s not in best_state or cnt + 1 < best_state[nxt_s]:\n",
    "                            best_state[nxt_s] = cnt + 1\n",
    "                            dq.append((nxt_s, cnt + 1))\n",
    "        return -1"
   ]
  },
  {
   "cell_type": "code",
   "execution_count": null,
   "metadata": {},
   "outputs": [],
   "source": []
  },
  {
   "cell_type": "code",
   "execution_count": null,
   "metadata": {},
   "outputs": [],
   "source": []
  },
  {
   "cell_type": "code",
   "execution_count": 67,
   "metadata": {},
   "outputs": [],
   "source": [
    "\n",
    "from collections import deque, defaultdict\n",
    "\n",
    "class Solution:\n",
    "    def numBusesToDestination(self, routes, S: int, T: int):\n",
    "        if S == T: return 0\n",
    "        # 查看一下，每个站点都有哪些公交车\n",
    "        n = len(routes)\n",
    "        graph = defaultdict(set)\n",
    "        for i in range(n):\n",
    "            for j in routes[i]:\n",
    "                graph[j].add(i+1)\n",
    "        \n",
    "        routes = [tuple(set(x)) for x in routes]\n",
    "        routes = [0] + routes\n",
    "        # 查看达到目标 T 的公交车有哪些，只要乘坐这些公交车，就一定可以到达目标点\n",
    "        # 反之如果当前站点无法乘坐 能够到达 T 的公交，返回值为 -1\n",
    "        t_sites = set(graph[T])\n",
    "        \n",
    "        dq = deque() # 当前站点可以乘坐哪些公交车\n",
    "        seen = set() # 乘坐当前车如果不能达到目的地，以后肯定不会再做了\n",
    "        for s in graph[S]:\n",
    "            dq.append((s, 1))\n",
    "            seen.add(s)\n",
    "        # print(graph, t_sites, dq)\n",
    "        while dq:\n",
    "            for _ in range(len(dq)):\n",
    "                s, cnt = dq.popleft() # s是公交车\n",
    "                if T in routes[s]: # 如果当前公交可以到达目标点，花费就是cnt\n",
    "                    return cnt\n",
    "                if s in t_sites: # 乘坐当前这路，如果可以转换目标公交车，一定可以直达\n",
    "                    return cnt + 1\n",
    "                \n",
    "                for site in routes[s]: # 当前公交到达的站点\n",
    "                    for ns in graph[site]: # 当前站点可以乘坐的公交\n",
    "                        if ns not in seen:\n",
    "                            seen.add(ns)\n",
    "                            dq.append((ns, cnt + 1))\n",
    "        return -1"
   ]
  },
  {
   "cell_type": "code",
   "execution_count": 70,
   "metadata": {},
   "outputs": [
    {
     "data": {
      "text/plain": [
       "-1"
      ]
     },
     "execution_count": 70,
     "metadata": {},
     "output_type": "execute_result"
    }
   ],
   "source": [
    "solution = Solution()\n",
    "solution.numBusesToDestination([[7,12],[4,5,15],[6],[15,19],[9,12,13]], 15 ,12)"
   ]
  },
  {
   "cell_type": "code",
   "execution_count": null,
   "metadata": {},
   "outputs": [],
   "source": [
    "class Solution:\n",
    "    def numBusesToDestination(self, routes, S, T):\n",
    "        if S == T: return 0\n",
    "        stop_to_bus = collections.defaultdict(set)\n",
    "        for bus, stops in enumerate(routes):\n",
    "            for stop in stops:\n",
    "                stop_to_bus[stop].add(bus)\n",
    "        #print(stop_to_bus)\n",
    "        res = 0\n",
    "        queue = collections.deque([S])\n",
    "        visited = set([])\n",
    "        while queue:\n",
    "            res+=1\n",
    "            for i in range(len(queue)):\n",
    "                node = queue.popleft()\n",
    "                for bus in stop_to_bus[node]:\n",
    "                    if bus  not in visited:\n",
    "                        visited.add(bus)\n",
    "                        for j in routes[bus]:\n",
    "                            if j == T:\n",
    "                                return res\n",
    "                            queue.append(j)\n",
    "        return -1"
   ]
  }
 ],
 "metadata": {
  "kernelspec": {
   "display_name": "Python 3",
   "language": "python",
   "name": "python3"
  },
  "language_info": {
   "codemirror_mode": {
    "name": "ipython",
    "version": 3
   },
   "file_extension": ".py",
   "mimetype": "text/x-python",
   "name": "python",
   "nbconvert_exporter": "python",
   "pygments_lexer": "ipython3",
   "version": "3.6.2"
  }
 },
 "nbformat": 4,
 "nbformat_minor": 4
}
