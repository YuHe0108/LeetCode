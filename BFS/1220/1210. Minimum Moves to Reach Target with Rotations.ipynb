{
 "cells": [
  {
   "cell_type": "code",
   "execution_count": null,
   "metadata": {},
   "outputs": [],
   "source": []
  },
  {
   "cell_type": "code",
   "execution_count": null,
   "metadata": {},
   "outputs": [],
   "source": []
  },
  {
   "cell_type": "code",
   "execution_count": 6,
   "metadata": {},
   "outputs": [],
   "source": [
    "from collections import deque\n",
    "from queue import PriorityQueue\n",
    "\n",
    "class Solution:\n",
    "    def minimumMoves(self, grid):\n",
    "        rows, cols = len(grid), len(grid[0])\n",
    "        dq = PriorityQueue()\n",
    "        dq.put([0, 0, 0, 1, 0]) # 记录身体的坐标位置: cnt,tr,tc,hr,hc\n",
    "        best_state = {(0, 0, 0, 1): 0} # 达到某个位置最佳的移动次数\n",
    "        while dq:\n",
    "            cnt, tr, tc, hr, hc = dq.get() # (tr, tc)尾巴坐标，(hr,hc)头坐标位置\n",
    "            if (tr, tc, hr, hc) == (rows-1, cols-2, rows-1, cols-1): # 查看是否达到终点\n",
    "                return cnt\n",
    "\n",
    "            # 首先查看 蛇 现在的身体是水平还是垂直\n",
    "            hor = True if tr == hr else False\n",
    "            # 整体向右、下移动、逆时针、顺时针旋转角度\n",
    "            if hor:\n",
    "                # 向右\n",
    "                if 0 <= hc + 1 < cols and grid[hr][hc+1] == 0:\n",
    "                    r_state = (cnt+1, tr, tc + 1, hr, hc + 1)\n",
    "                    if r_state[1:] not in best_state or best_state[r_state[1:]] > cnt + 1:\n",
    "                        best_state[r_state[1:]] = cnt + 1\n",
    "                        dq.put(r_state)\n",
    "                # 下\n",
    "                if 0 <= hr + 1 < rows and grid[tr+1][tc] == grid[hr+1][hc] == 0:\n",
    "                    d_state = (cnt+1, tr+1, tc, hr+1, hc)\n",
    "                    if d_state[1:] not in best_state or best_state[d_state[1:]] > cnt + 1:\n",
    "                        best_state[d_state[1:]] = cnt + 1\n",
    "                        dq.put(d_state)\n",
    "                    # 水平状态才有顺时针，可以借用往下的单元格，顺时针旋转\n",
    "                    w_state = (cnt+1, tr, tc, hr+1, hc-1)\n",
    "                    if w_state[1:] not in best_state or best_state[w_state[1:]] > cnt + 1:\n",
    "                        best_state[w_state[1:]] = cnt + 1\n",
    "                        dq.put(w_state)\n",
    "            else:\n",
    "                # 向右\n",
    "                if 0 <= hc+1 < cols and grid[tr][tc+1] == grid[hr][hc+1] == 0:\n",
    "                    r_state = (cnt+1, tr, tc + 1, hr, hc + 1)\n",
    "                    if r_state[1:] not in best_state or best_state[r_state[1:]] > cnt + 1:\n",
    "                        best_state[r_state[1:]] = cnt + 1\n",
    "                        dq.put(r_state)\n",
    "\n",
    "                    # 垂直状态有逆时针\n",
    "                    a_state = (cnt + 1, tr, tc, hr-1, hc+1)\n",
    "                    if a_state[1:] not in best_state or best_state[a_state[1:]] > cnt + 1:\n",
    "                        best_state[a_state[1:]] = cnt + 1\n",
    "                        dq.put(a_state)\n",
    "                # 向下\n",
    "                if 0 <= hr + 1 < rows and grid[tr+1][tc] == 0:\n",
    "                    d_state = (cnt+1, tr+1, tc, hr+1, hc)\n",
    "                    if d_state[1:] not in best_state or best_state[d_state[1:]] > cnt + 1:\n",
    "                        best_state[d_state[1:]] = cnt + 1\n",
    "                        dq.put(d_state)\n",
    "                \n",
    "        return -1"
   ]
  },
  {
   "cell_type": "code",
   "execution_count": null,
   "metadata": {},
   "outputs": [],
   "source": []
  },
  {
   "cell_type": "code",
   "execution_count": null,
   "metadata": {},
   "outputs": [],
   "source": []
  },
  {
   "cell_type": "code",
   "execution_count": 21,
   "metadata": {},
   "outputs": [],
   "source": [
    "from collections import deque\n",
    "\n",
    "class Solution:\n",
    "    def minimumMoves(self, grid):\n",
    "        if grid[-1][-1] == 1 or grid[-1][-2] == 1:\n",
    "            return -1\n",
    "        rows, cols = len(grid), len(grid[0])\n",
    "        dq = deque([[0, 0, 0, 1, 0]]) # 记录身体的坐标位置\n",
    "        best_state = {(0, 0, 0, 1): 0} # 达到某个位置最佳的移动次数\n",
    "        while dq:\n",
    "            for _ in range(len(dq)):\n",
    "                tr, tc, hr, hc, cnt = dq.popleft() # (tr, tc)尾巴坐标，(hr,hc)头坐标位置\n",
    "                if (tr, tc, hr, hc) == (rows-1, cols-2, rows-1, cols-1): # 查看是否达到终点\n",
    "                    return cnt\n",
    "                \n",
    "                # 首先查看 蛇 现在的身体是水平还是垂直\n",
    "                hor = True if tr == hr else False\n",
    "                # 整体向右、下移动、逆时针、顺时针旋转角度\n",
    "                if hor:\n",
    "                    # 向右\n",
    "                    if 0 <= hc + 1 < cols and grid[hr][hc+1] == 0:\n",
    "                        r_state = (tr, tc + 1, hr, hc + 1, cnt + 1)\n",
    "                        if r_state[:4] not in best_state or best_state[r_state[:4]] > cnt + 1:\n",
    "                            best_state[r_state[:4]] = cnt + 1\n",
    "                            dq.append(r_state)\n",
    "                    # 下\n",
    "                    if 0 <= hr + 1 < rows and grid[tr+1][tc] == grid[hr+1][hc] == 0:\n",
    "                        d_state = (tr+1, tc, hr+1, hc, cnt + 1)\n",
    "                        if d_state[:4] not in best_state or best_state[d_state[:4]] > cnt + 1:\n",
    "                            best_state[d_state[:4]] = cnt + 1\n",
    "                            dq.append(d_state)\n",
    "                        # 水平状态才有顺时针，可以借用往下的单元格，顺时针旋转\n",
    "                        w_state = (tr, tc, hr+1, hc-1, cnt + 1)\n",
    "                        if w_state[:4] not in best_state or best_state[w_state[:4]] > cnt + 1:\n",
    "                            best_state[w_state[:4]] = cnt + 1\n",
    "                            dq.append(w_state)\n",
    "                else:\n",
    "                    # 向右\n",
    "                    if 0 <= hc+1 < cols and grid[tr][tc+1] == grid[hr][hc+1] == 0:\n",
    "                        r_state = (tr, tc + 1, hr, hc + 1, cnt + 1)\n",
    "                        if r_state[:4] not in best_state or best_state[r_state[:4]] > cnt + 1:\n",
    "                            best_state[r_state[:4]] = cnt + 1\n",
    "                            dq.append(r_state)\n",
    "                        # 垂直状态有逆时针\n",
    "                        a_state = (tr, tc, hr-1, hc+1, cnt + 1)\n",
    "                        if a_state[:4] not in best_state or best_state[a_state[:4]] > cnt + 1:\n",
    "                            best_state[a_state[:4]] = cnt + 1\n",
    "                            dq.append(a_state)\n",
    "                    # 向下\n",
    "                    if 0 <= hr + 1 < rows and grid[hr+1][tc] == 0:\n",
    "                        d_state = (tr+1, tc, hr+1, hc, cnt + 1)\n",
    "                        if d_state[:4] not in best_state or best_state[d_state[:4]] > cnt + 1:\n",
    "                            best_state[d_state[:4]] = cnt + 1\n",
    "                            dq.append(d_state)\n",
    "        return -1"
   ]
  },
  {
   "cell_type": "code",
   "execution_count": 22,
   "metadata": {},
   "outputs": [
    {
     "data": {
      "text/plain": [
       "-1"
      ]
     },
     "execution_count": 22,
     "metadata": {},
     "output_type": "execute_result"
    }
   ],
   "source": [
    "solution = Solution()\n",
    "solution.minimumMoves([[0,0,0,1,0,1,0,1,0,0],\n",
    "                       [0,0,0,0,1,0,0,0,0,1],\n",
    "                       [0,0,1,0,0,0,0,0,0,0],\n",
    "                       [1,1,0,0,0,0,0,0,0,0]])"
   ]
  },
  {
   "cell_type": "code",
   "execution_count": 7,
   "metadata": {},
   "outputs": [
    {
     "data": {
      "text/plain": [
       "False"
      ]
     },
     "execution_count": 7,
     "metadata": {},
     "output_type": "execute_result"
    }
   ],
   "source": [
    "{(0, 0, 0, 1): 0, \n",
    " (0, 1, 0, 2): 1, (1, 0, 1, 1): 1, (0, 0, 1, 0): 1, \n",
    " (1, 1, 1, 2): 2, (0, 1, 1, 1): 2, (2, 0, 2, 1): 2, (1, 0, 2, 0): 2, \n",
    " (1, 2, 1, 3): 3, (0, 2, 1, 2): 3, (1, 1, 2, 1): 3, (2, 0, 3, 0): 3, \n",
    " (1, 2, 2, 2): 4, (2, 1, 3, 1): 4, \n",
    " (1, 3, 2, 3): 5, \n",
    " (2, 3, 3, 3): 6, \n",
    " (2, 4, 3, 4): 7, (2, 3, 2, 4): 7, \n",
    " (2, 5, 3, 5): 8, (2, 4, 2, 5): 8, (3, 3, 3, 4): 8, \n",
    " (2, 6, 3, 6): 9, (2, 5, 2, 6): 9, (3, 4, 3, 5): 9, \n",
    " (2, 7, 3, 7): 10, (2, 6, 2, 7): 10, (3, 5, 3, 6): 10, \n",
    " (2, 8, 3, 8): 11, (2, 7, 2, 8): 11, (3, 6, 3, 7): 11, \n",
    " (2, 9, 3, 9): 12, (2, 8, 2, 9): 12, (3, 7, 3, 8): 12, \n",
    " (3, 8, 3, 9): 13}"
   ]
  },
  {
   "cell_type": "code",
   "execution_count": 13,
   "metadata": {},
   "outputs": [
    {
     "name": "stdout",
     "output_type": "stream",
     "text": [
      "(1, 2, 3, 4)\n"
     ]
    }
   ],
   "source": [
    "r_state = (1, 2, 3, 4, 4)\n",
    "print(r_state[:4])"
   ]
  },
  {
   "cell_type": "code",
   "execution_count": 10,
   "metadata": {},
   "outputs": [
    {
     "ename": "TypeError",
     "evalue": "can only concatenate tuple (not \"int\") to tuple",
     "output_type": "error",
     "traceback": [
      "\u001b[1;31m---------------------------------------------------------------------------\u001b[0m",
      "\u001b[1;31mTypeError\u001b[0m                                 Traceback (most recent call last)",
      "\u001b[1;32m<ipython-input-10-873a5d48bb15>\u001b[0m in \u001b[0;36m<module>\u001b[1;34m\u001b[0m\n\u001b[1;32m----> 1\u001b[1;33m \u001b[0mr_state\u001b[0m \u001b[1;33m+=\u001b[0m \u001b[0mc\u001b[0m\u001b[1;33m\u001b[0m\u001b[0m\n\u001b[0m",
      "\u001b[1;31mTypeError\u001b[0m: can only concatenate tuple (not \"int\") to tuple"
     ]
    }
   ],
   "source": []
  },
  {
   "cell_type": "code",
   "execution_count": null,
   "metadata": {},
   "outputs": [],
   "source": []
  }
 ],
 "metadata": {
  "kernelspec": {
   "display_name": "Python 3",
   "language": "python",
   "name": "python3"
  },
  "language_info": {
   "codemirror_mode": {
    "name": "ipython",
    "version": 3
   },
   "file_extension": ".py",
   "mimetype": "text/x-python",
   "name": "python",
   "nbconvert_exporter": "python",
   "pygments_lexer": "ipython3",
   "version": "3.6.2"
  }
 },
 "nbformat": 4,
 "nbformat_minor": 4
}
