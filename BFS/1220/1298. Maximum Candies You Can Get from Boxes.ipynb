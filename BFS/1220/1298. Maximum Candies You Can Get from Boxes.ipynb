{
 "cells": [
  {
   "cell_type": "code",
   "execution_count": null,
   "metadata": {},
   "outputs": [],
   "source": []
  },
  {
   "cell_type": "code",
   "execution_count": null,
   "metadata": {},
   "outputs": [],
   "source": []
  },
  {
   "cell_type": "code",
   "execution_count": 65,
   "metadata": {},
   "outputs": [],
   "source": [
    "from collections import defaultdict, deque\n",
    "\n",
    "class Solution:\n",
    "    def maxCandies(self, status, candies, keys, containedBoxes, initialBoxes):\n",
    "        cnt = 0\n",
    "        dq = deque(initialBoxes)\n",
    "        haved_keys = set() # 获得了哪些钥匙\n",
    "        opened_boxes = set() # 打开了哪些箱子\n",
    "        not_open_boxes = set() # 没有打开的盒子\n",
    "        while dq:\n",
    "            for _ in range(len(dq)):\n",
    "                cur = dq.popleft() # 打开 initialbox 中的盒子\n",
    "                # 盒子打开过，跳过\n",
    "                if cur in opened_boxes:\n",
    "                    continue\n",
    "                \n",
    "                # 可以打开盒子，意味着可以拿到里面的糖果、钥匙、内含盒子\n",
    "                if status[cur] == 1:\n",
    "                    cnt += candies[cur] # 拿到糖果\n",
    "                    opened_boxes.add(cur) # 放入打开的盒子中\n",
    "                    for in_box in containedBoxes[cur]: # 拿到盒子\n",
    "                        if in_box in opened_boxes: # 如果是打开过的盒子，放弃\n",
    "                            continue\n",
    "                        not_open_boxes.add(in_box)\n",
    "                    for in_key in keys[cur]: # 拿到钥匙\n",
    "                        haved_keys.add(in_key)\n",
    "                else:\n",
    "                    not_open_boxes.add(cur) # 打不开，放进没有打开过的盒子中\n",
    "                  \n",
    "                # 查看没有打开的盒子中，是否有钥匙可以打开，如果可以打开，那么就将state设置为1，并放入到 dq中\n",
    "                not_open_boxes = not_open_boxes.difference(opened_boxes) # 去掉已经打开的盒子\n",
    "                for c_box in not_open_boxes:\n",
    "                    # 如果这个盒子已经打开，或者有这个盒子的钥匙，说明可以打开，添加进队列\n",
    "                    if status[c_box] == 1 or c_box in haved_keys:\n",
    "                        status[c_box] = 1\n",
    "                        dq.append(c_box)\n",
    "            # print(dq, not_open_boxes, opened_boxes, haved_keys)\n",
    "        return cnt"
   ]
  },
  {
   "cell_type": "code",
   "execution_count": 69,
   "metadata": {},
   "outputs": [
    {
     "data": {
      "text/plain": [
       "7"
      ]
     },
     "execution_count": 69,
     "metadata": {},
     "output_type": "execute_result"
    }
   ],
   "source": [
    "solution = Solution()\n",
    "solution.maxCandies(status = [1,1,1], candies = [2,3,2], keys = [[],[],[]], containedBoxes = [[],[],[]], initialBoxes = [2,1,0])"
   ]
  },
  {
   "cell_type": "code",
   "execution_count": null,
   "metadata": {},
   "outputs": [],
   "source": []
  },
  {
   "cell_type": "code",
   "execution_count": null,
   "metadata": {},
   "outputs": [],
   "source": []
  },
  {
   "cell_type": "code",
   "execution_count": null,
   "metadata": {},
   "outputs": [],
   "source": []
  },
  {
   "cell_type": "code",
   "execution_count": null,
   "metadata": {},
   "outputs": [],
   "source": []
  },
  {
   "cell_type": "code",
   "execution_count": 56,
   "metadata": {},
   "outputs": [],
   "source": [
    "a = {1, 2, 3, 4}\n",
    "b = {1, 2}\n",
    "a = a.difference(b)"
   ]
  },
  {
   "cell_type": "code",
   "execution_count": 57,
   "metadata": {},
   "outputs": [
    {
     "data": {
      "text/plain": [
       "{3, 4}"
      ]
     },
     "execution_count": 57,
     "metadata": {},
     "output_type": "execute_result"
    }
   ],
   "source": [
    "a"
   ]
  },
  {
   "cell_type": "code",
   "execution_count": null,
   "metadata": {},
   "outputs": [],
   "source": []
  }
 ],
 "metadata": {
  "kernelspec": {
   "display_name": "Python 3",
   "language": "python",
   "name": "python3"
  },
  "language_info": {
   "codemirror_mode": {
    "name": "ipython",
    "version": 3
   },
   "file_extension": ".py",
   "mimetype": "text/x-python",
   "name": "python",
   "nbconvert_exporter": "python",
   "pygments_lexer": "ipython3",
   "version": "3.6.2"
  }
 },
 "nbformat": 4,
 "nbformat_minor": 4
}
