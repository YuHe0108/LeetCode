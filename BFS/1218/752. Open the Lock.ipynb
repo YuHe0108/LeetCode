{
 "cells": [
  {
   "cell_type": "code",
   "execution_count": null,
   "metadata": {},
   "outputs": [],
   "source": []
  },
  {
   "cell_type": "code",
   "execution_count": 36,
   "metadata": {},
   "outputs": [
    {
     "name": "stdout",
     "output_type": "stream",
     "text": [
      "1 3 5 7\n",
      "1 3 5 8\n",
      "1 3 6 7\n",
      "1 3 6 8\n",
      "1 4 5 7\n",
      "1 4 5 8\n",
      "1 4 6 7\n",
      "1 4 6 8\n",
      "2 3 5 7\n",
      "2 3 5 8\n",
      "2 3 6 7\n",
      "2 3 6 8\n",
      "2 4 5 7\n",
      "2 4 5 8\n",
      "2 4 6 7\n",
      "2 4 6 8\n"
     ]
    }
   ],
   "source": [
    "for i in [1, 2]:\n",
    "    for j in [3, 4]:\n",
    "        for k in [5, 6]:\n",
    "            for l in [7,8]:\n",
    "                print(i, j, k,l)"
   ]
  },
  {
   "cell_type": "code",
   "execution_count": 12,
   "metadata": {},
   "outputs": [
    {
     "name": "stdout",
     "output_type": "stream",
     "text": [
      "2 4\n"
     ]
    }
   ],
   "source": [
    "cur = 3\n",
    "prev, last = (cur - 1 + 10) % 10, (cur + 1) % 10\n",
    "print(prev, last)"
   ]
  },
  {
   "cell_type": "code",
   "execution_count": null,
   "metadata": {},
   "outputs": [],
   "source": []
  },
  {
   "cell_type": "code",
   "execution_count": 95,
   "metadata": {},
   "outputs": [],
   "source": [
    "from collections import deque, defaultdict\n",
    "\n",
    "class Solution:\n",
    "    def openLock(self, deadends, target: str) -> int:\n",
    "        def get_nums(num, cnt):\n",
    "            # 每个 num 位置上的点数都可以向前、向后拨动一位，求所有的可能性\n",
    "            nonlocal seen\n",
    "            poss = defaultdict(list)\n",
    "            for i in range(4):\n",
    "                cur = int(num[i])\n",
    "                prev, last = (cur - 1 + 10) % 10, (cur + 1) % 10\n",
    "                poss[i].extend([prev, last])\n",
    "                \n",
    "            outs = []\n",
    "            for i in range(4):\n",
    "                res = list(num)\n",
    "                for j in range(2):\n",
    "                    res[i] = str(poss[i][j])\n",
    "                    out = ''.join(res)\n",
    "                    if out not in deadends and out not in seen:\n",
    "                        seen.add(out)\n",
    "                        outs.append([''.join(res), cnt + 1])\n",
    "            return outs\n",
    "        \n",
    "        deadends = set(deadends)\n",
    "        dq = deque([('0000', 0)])\n",
    "        seen = set()\n",
    "        if '0000' in deadends:\n",
    "            return -1\n",
    "        while dq:\n",
    "            for _ in range(len(dq)):\n",
    "                num, times = dq.popleft() # 当前数字，以及获取当前数字拨动的次数\n",
    "                if num == target:\n",
    "                    return times\n",
    "                seen.add(num)\n",
    "                nxt = get_nums(num, times)\n",
    "                dq.extend(nxt)\n",
    "        return -1"
   ]
  },
  {
   "cell_type": "code",
   "execution_count": 96,
   "metadata": {},
   "outputs": [
    {
     "data": {
      "text/plain": [
       "-1"
      ]
     },
     "execution_count": 96,
     "metadata": {},
     "output_type": "execute_result"
    }
   ],
   "source": [
    "solution = Solution()\n",
    "solution.openLock([\"0000\"], \"8888\")"
   ]
  },
  {
   "cell_type": "code",
   "execution_count": null,
   "metadata": {},
   "outputs": [],
   "source": []
  },
  {
   "cell_type": "code",
   "execution_count": null,
   "metadata": {},
   "outputs": [],
   "source": []
  },
  {
   "cell_type": "code",
   "execution_count": null,
   "metadata": {},
   "outputs": [],
   "source": []
  },
  {
   "cell_type": "code",
   "execution_count": 1,
   "metadata": {},
   "outputs": [],
   "source": [
    "a = [3, 2, 1]"
   ]
  },
  {
   "cell_type": "code",
   "execution_count": 3,
   "metadata": {},
   "outputs": [
    {
     "data": {
      "text/plain": [
       "[1, 2, 3]"
      ]
     },
     "execution_count": 3,
     "metadata": {},
     "output_type": "execute_result"
    }
   ],
   "source": [
    "sorted(a)"
   ]
  },
  {
   "cell_type": "code",
   "execution_count": null,
   "metadata": {},
   "outputs": [],
   "source": []
  }
 ],
 "metadata": {
  "kernelspec": {
   "display_name": "Python 3",
   "language": "python",
   "name": "python3"
  },
  "language_info": {
   "codemirror_mode": {
    "name": "ipython",
    "version": 3
   },
   "file_extension": ".py",
   "mimetype": "text/x-python",
   "name": "python",
   "nbconvert_exporter": "python",
   "pygments_lexer": "ipython3",
   "version": "3.6.2"
  }
 },
 "nbformat": 4,
 "nbformat_minor": 4
}
