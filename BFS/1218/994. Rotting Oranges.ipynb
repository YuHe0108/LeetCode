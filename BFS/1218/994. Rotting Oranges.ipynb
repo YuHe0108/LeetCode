{
 "cells": [
  {
   "cell_type": "code",
   "execution_count": null,
   "metadata": {},
   "outputs": [],
   "source": []
  },
  {
   "cell_type": "code",
   "execution_count": null,
   "metadata": {},
   "outputs": [],
   "source": []
  },
  {
   "cell_type": "code",
   "execution_count": null,
   "metadata": {},
   "outputs": [],
   "source": []
  },
  {
   "cell_type": "code",
   "execution_count": 28,
   "metadata": {},
   "outputs": [],
   "source": [
    "from collections import deque\n",
    "class Solution:\n",
    "    def orangesRotting(self, grid):\n",
    "        def spread():\n",
    "            nonlocal grid\n",
    "            stack = deque(bad)\n",
    "            seen = set()\n",
    "            cnt = 0 # 过了多少分钟，橘子全部损坏\n",
    "            while stack:\n",
    "                for i in range(len(stack)):\n",
    "                    r, c = stack.popleft()\n",
    "                    grid[r][c] = 2\n",
    "                    seen.add((r, c))\n",
    "                    for nr, nc in (r+1, c), (r-1, c), (r, c+1), (r, c-1):\n",
    "                        if nr < 0 or nc < 0 or nr >= rows or nc >= cols:\n",
    "                            continue\n",
    "                        if (nr, nc) in seen:\n",
    "                            continue\n",
    "                        if grid[nr][nc] == 1:\n",
    "                            seen.add((nr, nc))\n",
    "                            stack.append((nr, nc))\n",
    "                if stack:\n",
    "                    cnt += 1\n",
    "            return cnt\n",
    "        \n",
    "        \n",
    "        bad = [] # 存储坏橘子的坐标\n",
    "        rows, cols = len(grid), len(grid[0])\n",
    "        for r in range(rows):\n",
    "            for c in range(cols):\n",
    "                if grid[r][c] == 2:\n",
    "                    bad.append((r, c))\n",
    "        # 烂橘子扩张\n",
    "        cnt = spread()\n",
    "        \n",
    "        # 检查是否还有好橘子\n",
    "        for r in range(rows):\n",
    "            for c in range(cols):\n",
    "                if grid[r][c] == 1:\n",
    "                    return -1\n",
    "        return cnt"
   ]
  },
  {
   "cell_type": "code",
   "execution_count": 29,
   "metadata": {},
   "outputs": [
    {
     "data": {
      "text/plain": [
       "1"
      ]
     },
     "execution_count": 29,
     "metadata": {},
     "output_type": "execute_result"
    }
   ],
   "source": [
    "solution = Solution()\n",
    "solution.orangesRotting([[2,2],\n",
    "                         [1,1],\n",
    "                         [0,0],\n",
    "                         [2,0]])"
   ]
  },
  {
   "cell_type": "code",
   "execution_count": null,
   "metadata": {},
   "outputs": [],
   "source": []
  }
 ],
 "metadata": {
  "kernelspec": {
   "display_name": "Python 3",
   "language": "python",
   "name": "python3"
  },
  "language_info": {
   "codemirror_mode": {
    "name": "ipython",
    "version": 3
   },
   "file_extension": ".py",
   "mimetype": "text/x-python",
   "name": "python",
   "nbconvert_exporter": "python",
   "pygments_lexer": "ipython3",
   "version": "3.6.2"
  }
 },
 "nbformat": 4,
 "nbformat_minor": 4
}
