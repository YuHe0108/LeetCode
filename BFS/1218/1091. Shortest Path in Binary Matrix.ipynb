{
 "cells": [
  {
   "cell_type": "code",
   "execution_count": null,
   "metadata": {},
   "outputs": [],
   "source": []
  },
  {
   "cell_type": "code",
   "execution_count": null,
   "metadata": {},
   "outputs": [],
   "source": []
  },
  {
   "cell_type": "code",
   "execution_count": 37,
   "metadata": {},
   "outputs": [],
   "source": [
    "from collections import deque\n",
    "\n",
    "class Solution:\n",
    "    def shortestPathBinaryMatrix(self, grid) -> int:\n",
    "        def check(r, c):\n",
    "            nonlocal seen\n",
    "            dq = deque([(r, c)])\n",
    "            cnt = 1\n",
    "            dirs = [(1, 0), (0, 1), (-1, 0), (0, -1), \n",
    "                    (1, 1), (-1, -1), (1, -1), (-1, 1)]\n",
    "            while dq:\n",
    "                for _ in range(len(dq)):\n",
    "                    x, y = dq.popleft()\n",
    "                    for a, b in dirs:\n",
    "                        nx, ny = x + a, y + b\n",
    "                        if nx < 0 or ny < 0 or nx >= rows or ny >= cols:\n",
    "                            continue\n",
    "                        if grid[nx][ny] == 1 or (nx, ny) in seen:\n",
    "                            continue\n",
    "                        seen.add((nx, ny))\n",
    "                        dq.append((nx, ny))\n",
    "                        if (nx, ny) == (rows-1, cols-1):\n",
    "                            return cnt + 1, True\n",
    "                if dq:\n",
    "                    cnt += 1\n",
    "            return cnt, False\n",
    "        \n",
    "        if len(grid) == 1 and len(grid[0]) == 1:\n",
    "            return 1\n",
    "        if grid[0][0] == 1 or grid[-1][-1] == 1:\n",
    "            return -1\n",
    "        \n",
    "        rows, cols = len(grid), len(grid[0])\n",
    "        seen = set()\n",
    "        for r in range(rows):\n",
    "            for c in range(cols): # grid[0][0] 一定是0，并且只有一次机会\n",
    "                seen.add((r, c))\n",
    "                res, state = check(r, c)\n",
    "                if state:\n",
    "                    return res\n",
    "                return -1"
   ]
  },
  {
   "cell_type": "code",
   "execution_count": 38,
   "metadata": {},
   "outputs": [
    {
     "data": {
      "text/plain": [
       "-1"
      ]
     },
     "execution_count": 38,
     "metadata": {},
     "output_type": "execute_result"
    }
   ],
   "source": [
    "solution = Solution()\n",
    "solution.shortestPathBinaryMatrix([[0,0,0,0,0],\n",
    "                                   [1,1,0,1,0],\n",
    "                                   [0,1,1,1,1],\n",
    "                                   [1,1,1,1,0],\n",
    "                                   [0,1,1,0,0]])"
   ]
  },
  {
   "cell_type": "code",
   "execution_count": null,
   "metadata": {},
   "outputs": [],
   "source": []
  }
 ],
 "metadata": {
  "kernelspec": {
   "display_name": "Python 3",
   "language": "python",
   "name": "python3"
  },
  "language_info": {
   "codemirror_mode": {
    "name": "ipython",
    "version": 3
   },
   "file_extension": ".py",
   "mimetype": "text/x-python",
   "name": "python",
   "nbconvert_exporter": "python",
   "pygments_lexer": "ipython3",
   "version": "3.6.2"
  }
 },
 "nbformat": 4,
 "nbformat_minor": 4
}
