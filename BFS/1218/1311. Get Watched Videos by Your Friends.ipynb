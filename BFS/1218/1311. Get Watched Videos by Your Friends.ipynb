{
 "cells": [
  {
   "cell_type": "code",
   "execution_count": null,
   "metadata": {},
   "outputs": [],
   "source": []
  },
  {
   "cell_type": "code",
   "execution_count": null,
   "metadata": {},
   "outputs": [],
   "source": []
  },
  {
   "cell_type": "code",
   "execution_count": 35,
   "metadata": {},
   "outputs": [],
   "source": [
    "from collections import defaultdict, deque\n",
    "\n",
    "class Solution:\n",
    "    def watchedVideosByFriends(self, watchedVideos, friends, ids: int, level):\n",
    "        video_freq = defaultdict(int)\n",
    "        dq = deque([(ids, level)])\n",
    "        seen = {ids}\n",
    "        can_break = False\n",
    "        while dq:\n",
    "            for _ in range(len(dq)):\n",
    "                cur, state = dq.popleft()\n",
    "                for f in friends[cur]:\n",
    "                    if f not in seen:\n",
    "                        seen.add(f)\n",
    "                        dq.append((f, state - 1))\n",
    "                if state - 1 == 0:\n",
    "                    for f, _ in dq:\n",
    "                        for v in watchedVideos[f]:\n",
    "                            video_freq[v] += 1\n",
    "                    can_break = True\n",
    "                    break\n",
    "            if can_break:\n",
    "                break\n",
    "                \n",
    "        v_freq = sorted(video_freq.items(), key = lambda x: (x[1], x[0]))\n",
    "        res = []\n",
    "        for k, v in v_freq:\n",
    "            res.append(k)\n",
    "        return res"
   ]
  },
  {
   "cell_type": "code",
   "execution_count": 36,
   "metadata": {},
   "outputs": [
    {
     "data": {
      "text/plain": [
       "['B', 'C']"
      ]
     },
     "execution_count": 36,
     "metadata": {},
     "output_type": "execute_result"
    }
   ],
   "source": [
    "solution = Solution()\n",
    "solution.watchedVideosByFriends(watchedVideos = [[\"A\",\"B\"],[\"C\"],[\"B\",\"C\"],[\"D\"]], \n",
    "                                friends = [[1,2],[0,3],[0,3],[1,2]], \n",
    "                                ids = 0, level = 1)"
   ]
  },
  {
   "cell_type": "code",
   "execution_count": 33,
   "metadata": {},
   "outputs": [],
   "source": [
    "ans = [\"abcsi\",\"abyzjgj\",\"advz\",\"ag\",\"agkgdkob\",\"agpr\",\"ail\",\"akhuwa\",\"akpb\",\"am\",\"an\",\"anb\",\"apszy\",\"aq\",\"aqo\",\"atopup\",\"axcu\",\"aynrb\",\"azgqkiu\",\"azuo\",\"banoxg\",\"bc\",\"bcb\",\"bcix\",\"bcju\",\"bdfnevzp\",\"bekvmrz\",\"bepioryw\",\"bfcpzg\",\"bhhren\",\"bhk\",\"bhrvre\",\"bi\",\"bjehuqnc\",\"bjer\",\"bl\",\"blcg\",\"bmgr\",\"bmqmmbub\",\"bn\",\"bogyvd\",\"bomvtw\",\"boxqint\",\"bp\",\"bpsh\",\"bqosxv\",\"bqv\",\"bqyvh\",\"brvr\",\"bskohgcm\",\"bslqa\",\"bstbl\",\"bt\",\"btviega\",\"bv\",\"bvyuzl\",\"bwqquuuy\",\"bxmvg\",\"byiio\",\"byzjgm\",\"bzbmvbu\",\"calqw\",\"caraehar\",\"casllmd\",\"cax\",\"cbz\",\"cc\",\"cfpeljf\",\"cfvfgg\",\"cgfk\",\"chb\",\"cirgnf\",\"ckbpeoeq\",\"cqi\",\"cqpehh\",\"cqruaif\",\"cqseggpo\",\"crojpx\",\"cslwub\",\"cu\",\"culbbu\",\"cuschcn\",\"cvp\",\"cwgjknk\",\"cx\",\"cyeovix\",\"cyowdrfi\",\"dalc\",\"dbccjtn\",\"dbje\",\"dbtga\",\"dfsa\",\"dgr\",\"dgsgi\",\"dhacxffh\",\"dinpw\",\"djhwimr\",\"dkcgbd\",\"dmbl\",\"dmxrxgnk\",\"dnpeub\",\"dpnwcb\",\"dpvnidbl\",\"dqqr\",\"dtfga\",\"dvmbaeh\",\"dvwlnq\",\"dwdopd\",\"dwkxte\",\"dydrhp\",\"dzqyhn\",\"eamu\",\"eb\",\"edro\",\"eekmoito\",\"eekv\",\"eiuni\",\"ek\",\"elproupv\",\"emmgkkhp\",\"emoqk\",\"eng\",\"eolyi\",\"eoxc\",\"eqosy\",\"eqxexb\",\"erdgir\",\"eremwj\",\"eshmakm\",\"esxxk\",\"evyxyc\",\"evzs\",\"eypmgxgt\",\"ezoep\",\"faa\",\"fanf\",\"faqi\",\"fcaac\",\"fcjnds\",\"feset\",\"ffjsdh\",\"ffmo\",\"fhev\",\"fhz\",\"fjadaqt\",\"fjci\",\"fkbgzy\",\"fkg\",\"fkvq\",\"fly\",\"fma\",\"fnik\",\"foi\",\"fotdqiw\",\"fpjrc\",\"frzuov\",\"ftm\",\"fuy\",\"fvvgky\",\"fw\",\"fwjc\",\"fxhsuu\",\"fxsjz\",\"fxvghc\",\"fy\",\"gbrawxjn\",\"gdezmdmy\",\"gfgz\",\"gflws\",\"gfxw\",\"gho\",\"giyrrvu\",\"gjmb\",\"gkmylf\",\"gkvh\",\"gl\",\"glmd\",\"gmfeno\",\"gmfnh\",\"gmucgwzn\",\"gmvy\",\"goeygcn\",\"gohq\",\"gonrzz\",\"gqqp\",\"gryfg\",\"gskeuik\",\"gugqrygj\",\"gund\",\"guvps\",\"guwf\",\"gvbx\",\"gxkfyn\",\"gxvmefzf\",\"gywv\",\"haqyfufo\",\"haxjp\",\"hazrtf\",\"hb\",\"hblf\",\"heiqx\",\"hezii\",\"hgra\",\"hgslg\",\"hhuihm\",\"hicn\",\"hiyu\",\"hjuz\",\"hjyr\",\"hl\",\"hle\",\"hm\",\"hmcnloo\",\"hmrxruun\",\"hnhuelbq\",\"hocgbo\",\"hov\",\"hpz\",\"hqsq\",\"hqyud\",\"hrjyuj\",\"htfz\",\"htvl\",\"hwgpdql\",\"hxgqfr\",\"hyoffeeb\",\"hzccgtxe\",\"hzgfj\",\"hzxwn\",\"idojlqgn\",\"idxxxc\",\"iflujdaz\",\"igua\",\"ikav\",\"ikis\",\"il\",\"ilmw\",\"ilohs\",\"imjp\",\"imkcjei\",\"impjck\",\"ipcaze\",\"iprjcg\",\"iqqmh\",\"ireqzx\",\"isi\",\"itmi\",\"iuwbvbth\",\"iv\",\"ivr\",\"ivzx\",\"ixziptn\",\"j\",\"jajdgpd\",\"jenhpmem\",\"jffujhf\",\"jitq\",\"jkgnpcmy\",\"jrnn\",\"jshd\",\"jtwz\",\"ju\",\"jufdmqq\",\"jwgnbby\",\"jx\",\"jxqxmuv\",\"jxsbwep\",\"kano\",\"kbb\",\"kbqjve\",\"kcrqgh\",\"ke\",\"keiito\",\"kesw\",\"kg\",\"kgenhjk\",\"kjis\",\"kjp\",\"kk\",\"kl\",\"klvmybv\",\"kok\",\"kpn\",\"kscgflwx\",\"ksrleqo\",\"kut\",\"kxyswlaq\",\"kypa\",\"kyujid\",\"kz\",\"kzdue\",\"kzuxxuv\",\"laaupkd\",\"lb\",\"lch\",\"lcqqavi\",\"ldeepq\",\"lgi\",\"lgo\",\"lgob\",\"lhadgwy\",\"lhefs\",\"lhih\",\"lhsfo\",\"lhxgo\",\"lirxehxf\",\"lkr\",\"lkscwer\",\"lm\",\"lotlbz\",\"lp\",\"lpzx\",\"lqccyebo\",\"lrgx\",\"lrtignxm\",\"lrwrhwbf\",\"lsklp\",\"ltmdzt\",\"luwe\",\"lvaskmbl\",\"lw\",\"lwbwvf\",\"lwvhry\",\"lx\",\"lxkih\",\"lygatsp\",\"lyyuz\",\"maad\",\"mctn\",\"mcx\",\"mddvlopv\",\"mdow\",\"mdt\",\"mdzafgt\",\"me\",\"mh\",\"mhltzglr\",\"miticfmd\",\"mjdjckq\",\"mkvflt\",\"mndejm\",\"mo\",\"molnvq\",\"mongbj\",\"motu\",\"mpufpz\",\"mrmmc\",\"mrnxt\",\"msbfure\",\"msv\",\"msymhf\",\"mtazym\",\"mtqr\",\"muz\",\"mvf\",\"mxaoluup\",\"mxcbrrlu\",\"mxkbsygz\",\"mywdwp\",\"mzbemiqk\",\"nbzlxa\",\"nclq\",\"ndhnb\",\"ngrt\",\"ngszdlwk\",\"njxzj\",\"nkbstopi\",\"nliiw\",\"nnjkw\",\"npjatiru\",\"nqmtodz\",\"nqxq\",\"nrh\",\"nsh\",\"nunuv\",\"nvgz\",\"nvigfg\",\"nvsg\",\"nwcfu\",\"nxzhw\",\"oacines\",\"oamuqnn\",\"ob\",\"obc\",\"obequ\",\"obgnikyk\",\"obn\",\"obt\",\"od\",\"of\",\"ofb\",\"ofe\",\"ogm\",\"ogv\",\"oh\",\"oip\",\"oiyzmj\",\"okb\",\"okgd\",\"okji\",\"oltschh\",\"onigk\",\"ooqnxztg\",\"ooto\",\"ophdfqt\",\"oqgjtkpb\",\"orycagl\",\"os\",\"oscyv\",\"otmzrkn\",\"oucyynen\",\"ov\",\"owefypt\",\"owne\",\"owutwnmo\",\"oypr\",\"pajyswp\",\"paytzh\",\"pbyrgdkw\",\"pcbiean\",\"pcyf\",\"pejxja\",\"pew\",\"ph\",\"phprvuc\",\"phvrj\",\"pixf\",\"pkbf\",\"pkn\",\"pl\",\"pmrabpky\",\"poo\",\"pqkqu\",\"prrgyyo\",\"psmg\",\"psydra\",\"ptxme\",\"pwvjbqoh\",\"px\",\"pxvwjr\",\"pytoyia\",\"pzacgh\",\"qdknzvz\",\"qe\",\"qedtvx\",\"qejef\",\"qel\",\"qep\",\"qevdsqe\",\"qf\",\"qfbkfb\",\"qgchrhoo\",\"qgdd\",\"qgp\",\"qhzzv\",\"qiocb\",\"qkdv\",\"qlcds\",\"qnhrzixn\",\"qp\",\"qqasqg\",\"qrtlv\",\"qruojqfq\",\"qtnhx\",\"qvldbq\",\"qweg\",\"qxctbz\",\"qxqnbega\",\"qxr\",\"qy\",\"qzlkf\",\"razibg\",\"rbo\",\"rc\",\"rey\",\"rf\",\"rfxen\",\"rgdkvp\",\"ri\",\"rjqybepp\",\"rjtayu\",\"rllvrsn\",\"rltqagxd\",\"rmdfim\",\"rmtssud\",\"ronsbg\",\"rq\",\"rqb\",\"rtt\",\"ru\",\"rudz\",\"ruhh\",\"rvsfrt\",\"rvtwlv\",\"rx\",\"rxngis\",\"rydcayh\",\"sakluw\",\"sala\",\"sbaiyxi\",\"sda\",\"sek\",\"sggr\",\"shd\",\"shx\",\"siufqxgi\",\"skfvk\",\"sktvon\",\"slg\",\"slwgr\",\"smbfsau\",\"smihtt\",\"smswqjg\",\"sn\",\"so\",\"ssma\",\"sswifa\",\"suoyxbym\",\"sur\",\"svalyg\",\"svhrqh\",\"svjbchp\",\"svwis\",\"swbynzol\",\"swd\",\"swjyxt\",\"swvkl\",\"syu\",\"szb\",\"ta\",\"taai\",\"tbvm\",\"tc\",\"tdiqnbz\",\"tdli\",\"tdzwoaw\",\"te\",\"tejmekki\",\"thccemp\",\"thitffou\",\"tjhajpeg\",\"tjvglo\",\"tksicthj\",\"tlfsyvf\",\"tllkekk\",\"tmhvbnfb\",\"tmje\",\"tmrqzd\",\"tobdcmmy\",\"tolmunph\",\"tozixprd\",\"tphnp\",\"tpmuhnpl\",\"tpulhcb\",\"tqlwjser\",\"trbc\",\"tsmybrt\",\"tsonv\",\"tsxgheia\",\"tu\",\"tvhzeg\",\"twiac\",\"twnw\",\"ty\",\"tyf\",\"tzeomj\",\"tzy\",\"ubkoyy\",\"ubucsa\",\"ubzouynt\",\"udcqlh\",\"uem\",\"ufyjwcji\",\"ugzz\",\"uhvtft\",\"uigd\",\"uiy\",\"ujfbdx\",\"ukgr\",\"ul\",\"um\",\"umkejtes\",\"unffvs\",\"uodhgmoh\",\"up\",\"uqjrmmvy\",\"uqur\",\"ut\",\"uym\",\"uzd\",\"vadgz\",\"vbe\",\"vdaasfo\",\"vfm\",\"vfph\",\"vg\",\"vkjrtxh\",\"vqjjtpc\",\"vqrrj\",\"vr\",\"vwadeg\",\"vxes\",\"vxpwzfs\",\"vz\",\"vzpjq\",\"vzrhgch\",\"wa\",\"wadkxzaq\",\"wagtzlvz\",\"wbgt\",\"wdfuie\",\"wdrbqfw\",\"wep\",\"wfgtp\",\"wg\",\"wgv\",\"whlzp\",\"whrwcd\",\"whsm\",\"wiq\",\"wjl\",\"wklrx\",\"wkwke\",\"wlfhbjuo\",\"wmit\",\"wmyvts\",\"wn\",\"wnfwsr\",\"wodgas\",\"woengf\",\"wpd\",\"wpeadaiz\",\"wurqumc\",\"wxe\",\"wysy\",\"xbuwoc\",\"xbz\",\"xco\",\"xcrvuf\",\"xe\",\"xebuy\",\"xfamcep\",\"xfb\",\"xfbas\",\"xfi\",\"xfxcwi\",\"xhpuibm\",\"xjaxedrn\",\"xlht\",\"xlop\",\"xougy\",\"xows\",\"xp\",\"xrpnfdu\",\"xsbl\",\"xy\",\"xyfom\",\"xz\",\"xzqcpksd\",\"ybfy\",\"yby\",\"yeekpod\",\"yhvcxb\",\"yhyxn\",\"yludmuvy\",\"ymiankek\",\"ymoxhzh\",\"ypmdjqmp\",\"ypre\",\"yqffhoe\",\"ywlidkmd\",\"yykbwp\",\"yytgk\",\"yyuf\",\"yzxk\",\"zauvu\",\"zb\",\"zc\",\"ze\",\"zflvedue\",\"zfqo\",\"zgnrs\",\"zgoqvqz\",\"zhwr\",\"zhxbx\",\"zhzuc\",\"zirggxfr\",\"zk\",\"zl\",\"zlpunqan\",\"zlt\",\"zm\",\"zmvjyrp\",\"zn\",\"znwkkr\",\"zotgq\",\"zotpousi\",\"zrs\",\"zt\",\"zwdh\",\"zyy\",\"aa\",\"bf\",\"d\",\"g\",\"gm\",\"hc\",\"l\",\"r\",\"t\",\"v\",\"vu\",\"a\",\"b\",\"i\",\"m\",\"n\",\"op\",\"x\",\"k\",\"o\",\"p\",\"q\",\"s\",\"w\",\"z\",\"u\",\"e\",\"h\",\"y\"]\n",
    "pre = [\"abcsi\",\"ag\",\"agkgdkob\",\"agpr\",\"ail\",\"akhuwa\",\"akpb\",\"am\",\"an\",\"anb\",\"apszy\",\"aq\",\"aqo\",\"atopup\",\"axcu\",\"aynrb\",\"azgqkiu\",\"azuo\",\"banoxg\",\"bc\",\"bcb\",\"bcix\",\"bcju\",\"bdfnevzp\",\"bekvmrz\",\"bepioryw\",\"bf\",\"bhhren\",\"bhk\",\"bhrvre\",\"bi\",\"bjehuqnc\",\"bjer\",\"bl\",\"blcg\",\"bmgr\",\"bmqmmbub\",\"bpsh\",\"bqosxv\",\"bqv\",\"bqyvh\",\"brvr\",\"bslqa\",\"bt\",\"btviega\",\"bv\",\"bxmvg\",\"byiio\",\"byzjgm\",\"caraehar\",\"casllmd\",\"cax\",\"cbz\",\"cfpeljf\",\"cfvfgg\",\"chb\",\"ckbpeoeq\",\"cqi\",\"cqruaif\",\"crojpx\",\"cslwub\",\"culbbu\",\"cuschcn\",\"cvp\",\"cwgjknk\",\"cyowdrfi\",\"dalc\",\"dbccjtn\",\"dbje\",\"dbtga\",\"dfsa\",\"dgr\",\"dhacxffh\",\"dinpw\",\"dkcgbd\",\"dmbl\",\"dmxrxgnk\",\"dnpeub\",\"dpnwcb\",\"dpvnidbl\",\"dqqr\",\"dtfga\",\"dvmbaeh\",\"dvwlnq\",\"dwdopd\",\"dydrhp\",\"dzqyhn\",\"eamu\",\"eb\",\"edro\",\"eekmoito\",\"eekv\",\"eiuni\",\"elproupv\",\"emoqk\",\"eng\",\"eoxc\",\"eqosy\",\"eqxexb\",\"erdgir\",\"eremwj\",\"esxxk\",\"evyxyc\",\"evzs\",\"eypmgxgt\",\"fanf\",\"faqi\",\"fcaac\",\"fcjnds\",\"feset\",\"ffjsdh\",\"ffmo\",\"fhev\",\"fhz\",\"fjadaqt\",\"fjci\",\"fkbgzy\",\"fkg\",\"fkvq\",\"fly\",\"fma\",\"fnik\",\"foi\",\"fotdqiw\",\"fpjrc\",\"frzuov\",\"ftm\",\"fuy\",\"fvvgky\",\"fw\",\"fwjc\",\"fxsjz\",\"fxvghc\",\"fy\",\"gbrawxjn\",\"gdezmdmy\",\"gfgz\",\"gflws\",\"gfxw\",\"gho\",\"giyrrvu\",\"gjmb\",\"gkmylf\",\"gkvh\",\"gl\",\"gmfeno\",\"gmfnh\",\"gmucgwzn\",\"gmvy\",\"goeygcn\",\"gohq\",\"gonrzz\",\"gqqp\",\"gryfg\",\"gskeuik\",\"gugqrygj\",\"gund\",\"guvps\",\"guwf\",\"gvbx\",\"gxkfyn\",\"gxvmefzf\",\"haxjp\",\"hazrtf\",\"hblf\",\"hgra\",\"hhuihm\",\"hicn\",\"hiyu\",\"hjyr\",\"hl\",\"hle\",\"hm\",\"hmrxruun\",\"hnhuelbq\",\"hocgbo\",\"hpz\",\"hqsq\",\"hqyud\",\"hrjyuj\",\"htvl\",\"hwgpdql\",\"hxgqfr\",\"hyoffeeb\",\"hzccgtxe\",\"hzgfj\",\"hzxwn\",\"idxxxc\",\"iflujdaz\",\"igua\",\"ikav\",\"il\",\"ilohs\",\"imjp\",\"imkcjei\",\"impjck\",\"ipcaze\",\"iprjcg\",\"iqqmh\",\"isi\",\"itmi\",\"iuwbvbth\",\"iv\",\"ivr\",\"ivzx\",\"ixziptn\",\"j\",\"jajdgpd\",\"jenhpmem\",\"jitq\",\"jkgnpcmy\",\"jrnn\",\"jshd\",\"jtwz\",\"ju\",\"jwgnbby\",\"jx\",\"jxqxmuv\",\"jxsbwep\",\"kano\",\"kbqjve\",\"kcrqgh\",\"ke\",\"keiito\",\"kg\",\"kgenhjk\",\"kjis\",\"kk\",\"kl\",\"klvmybv\",\"kpn\",\"kscgflwx\",\"ksrleqo\",\"kxyswlaq\",\"kyujid\",\"kz\",\"kzdue\",\"kzuxxuv\",\"lb\",\"lch\",\"lcqqavi\",\"ldeepq\",\"lgi\",\"lgo\",\"lgob\",\"lhadgwy\",\"lhefs\",\"lhih\",\"lhsfo\",\"lhxgo\",\"lirxehxf\",\"lkr\",\"lkscwer\",\"lm\",\"lotlbz\",\"lp\",\"lpzx\",\"lrgx\",\"lrtignxm\",\"lsklp\",\"ltmdzt\",\"luwe\",\"lwbwvf\",\"lx\",\"lxkih\",\"lygatsp\",\"lyyuz\",\"maad\",\"mctn\",\"mcx\",\"mddvlopv\",\"mdow\",\"mdt\",\"mdzafgt\",\"me\",\"mhltzglr\",\"miticfmd\",\"mjdjckq\",\"mkvflt\",\"mo\",\"molnvq\",\"mongbj\",\"mrmmc\",\"mrnxt\",\"msbfure\",\"msv\",\"msymhf\",\"mtazym\",\"mtqr\",\"muz\",\"mvf\",\"mxcbrrlu\",\"mxkbsygz\",\"mywdwp\",\"mzbemiqk\",\"nbzlxa\",\"nclq\",\"ndhnb\",\"ngrt\",\"ngszdlwk\",\"njxzj\",\"nliiw\",\"nnjkw\",\"npjatiru\",\"nqmtodz\",\"nqxq\",\"nrh\",\"nsh\",\"nvgz\",\"nvigfg\",\"nvsg\",\"nwcfu\",\"nxzhw\",\"oacines\",\"oamuqnn\",\"ob\",\"obc\",\"obequ\",\"obgnikyk\",\"obn\",\"obt\",\"od\",\"of\",\"ofb\",\"ofe\",\"ogm\",\"ogv\",\"oip\",\"oiyzmj\",\"okb\",\"okji\",\"oltschh\",\"onigk\",\"ooqnxztg\",\"ophdfqt\",\"os\",\"oucyynen\",\"ov\",\"owefypt\",\"owne\",\"owutwnmo\",\"oypr\",\"pajyswp\",\"paytzh\",\"pbyrgdkw\",\"pcbiean\",\"pejxja\",\"pew\",\"ph\",\"phprvuc\",\"phvrj\",\"pixf\",\"pkbf\",\"pkn\",\"pl\",\"pmrabpky\",\"poo\",\"pqkqu\",\"prrgyyo\",\"psmg\",\"ptxme\",\"px\",\"pxvwjr\",\"pytoyia\",\"pzacgh\",\"qdknzvz\",\"qe\",\"qejef\",\"qel\",\"qep\",\"qevdsqe\",\"qf\",\"qfbkfb\",\"qgchrhoo\",\"qgp\",\"qhzzv\",\"qiocb\",\"qkdv\",\"qlcds\",\"qnhrzixn\",\"qqasqg\",\"qrtlv\",\"qruojqfq\",\"qtnhx\",\"qvldbq\",\"qxqnbega\",\"qxr\",\"qy\",\"qzlkf\",\"razibg\",\"rc\",\"rey\",\"rf\",\"rfxen\",\"rgdkvp\",\"ri\",\"rjqybepp\",\"rjtayu\",\"rllvrsn\",\"rltqagxd\",\"rmdfim\",\"rmtssud\",\"rq\",\"rqb\",\"rtt\",\"ru\",\"rudz\",\"ruhh\",\"rvsfrt\",\"rvtwlv\",\"rx\",\"rydcayh\",\"sakluw\",\"sbaiyxi\",\"sda\",\"sek\",\"sggr\",\"shx\",\"siufqxgi\",\"skfvk\",\"sktvon\",\"slg\",\"slwgr\",\"smbfsau\",\"smihtt\",\"smswqjg\",\"sn\",\"so\",\"ssma\",\"sswifa\",\"suoyxbym\",\"sur\",\"svalyg\",\"svjbchp\",\"swd\",\"swjyxt\",\"swvkl\",\"syu\",\"szb\",\"t\",\"ta\",\"taai\",\"tbvm\",\"tc\",\"tdiqnbz\",\"tdli\",\"te\",\"tejmekki\",\"thccemp\",\"thitffou\",\"tjhajpeg\",\"tlfsyvf\",\"tllkekk\",\"tmhvbnfb\",\"tmje\",\"tmrqzd\",\"tobdcmmy\",\"tolmunph\",\"tozixprd\",\"tphnp\",\"tpulhcb\",\"tqlwjser\",\"trbc\",\"tsmybrt\",\"tsonv\",\"tsxgheia\",\"tu\",\"tvhzeg\",\"twiac\",\"twnw\",\"ty\",\"tyf\",\"tzeomj\",\"ubkoyy\",\"ubucsa\",\"ubzouynt\",\"udcqlh\",\"ufyjwcji\",\"ugzz\",\"uhvtft\",\"uiy\",\"ujfbdx\",\"ukgr\",\"ul\",\"um\",\"umkejtes\",\"unffvs\",\"uodhgmoh\",\"up\",\"uqjrmmvy\",\"uqur\",\"ut\",\"uym\",\"uzd\",\"vadgz\",\"vbe\",\"vdaasfo\",\"vfm\",\"vfph\",\"vkjrtxh\",\"vqjjtpc\",\"vqrrj\",\"vr\",\"vwadeg\",\"vzpjq\",\"vzrhgch\",\"wa\",\"wadkxzaq\",\"wagtzlvz\",\"wbgt\",\"wdfuie\",\"wdrbqfw\",\"wep\",\"wg\",\"wgv\",\"whlzp\",\"whsm\",\"wiq\",\"wjl\",\"wkwke\",\"wlfhbjuo\",\"wmit\",\"wmyvts\",\"wnfwsr\",\"wodgas\",\"woengf\",\"wpd\",\"wurqumc\",\"wxe\",\"wysy\",\"xbuwoc\",\"xbz\",\"xco\",\"xcrvuf\",\"xe\",\"xebuy\",\"xfamcep\",\"xfbas\",\"xfi\",\"xfxcwi\",\"xhpuibm\",\"xjaxedrn\",\"xlop\",\"xougy\",\"xows\",\"xp\",\"xsbl\",\"xyfom\",\"xz\",\"xzqcpksd\",\"ybfy\",\"yby\",\"yeekpod\",\"yhvcxb\",\"yludmuvy\",\"ymiankek\",\"ymoxhzh\",\"ypmdjqmp\",\"ypre\",\"yqffhoe\",\"ywlidkmd\",\"yykbwp\",\"yytgk\",\"yyuf\",\"zauvu\",\"zb\",\"zc\",\"ze\",\"zflvedue\",\"zfqo\",\"zgnrs\",\"zgoqvqz\",\"zhwr\",\"zhzuc\",\"zk\",\"zl\",\"zlpunqan\",\"zlt\",\"zm\",\"zmvjyrp\",\"znwkkr\",\"zotgq\",\"zotpousi\",\"zrs\",\"zwdh\",\"zyy\",\"aa\",\"d\",\"g\",\"gm\",\"hc\",\"i\",\"l\",\"m\",\"q\",\"r\",\"v\",\"vu\",\"a\",\"b\",\"n\",\"o\",\"op\",\"w\",\"x\",\"k\",\"p\",\"s\",\"u\",\"z\",\"h\",\"e\",\"y\"]"
   ]
  },
  {
   "cell_type": "code",
   "execution_count": 34,
   "metadata": {},
   "outputs": [
    {
     "name": "stdout",
     "output_type": "stream",
     "text": [
      "730 613\n"
     ]
    }
   ],
   "source": [
    "print(len(ans), len(pre))"
   ]
  },
  {
   "cell_type": "code",
   "execution_count": null,
   "metadata": {},
   "outputs": [],
   "source": []
  },
  {
   "cell_type": "code",
   "execution_count": null,
   "metadata": {},
   "outputs": [],
   "source": []
  },
  {
   "cell_type": "code",
   "execution_count": null,
   "metadata": {},
   "outputs": [],
   "source": []
  }
 ],
 "metadata": {
  "kernelspec": {
   "display_name": "Python 3",
   "language": "python",
   "name": "python3"
  },
  "language_info": {
   "codemirror_mode": {
    "name": "ipython",
    "version": 3
   },
   "file_extension": ".py",
   "mimetype": "text/x-python",
   "name": "python",
   "nbconvert_exporter": "python",
   "pygments_lexer": "ipython3",
   "version": "3.6.2"
  }
 },
 "nbformat": 4,
 "nbformat_minor": 4
}
