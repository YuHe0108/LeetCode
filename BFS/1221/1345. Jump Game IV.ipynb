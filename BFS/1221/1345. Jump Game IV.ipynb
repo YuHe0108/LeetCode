{
 "cells": [
  {
   "cell_type": "code",
   "execution_count": null,
   "metadata": {},
   "outputs": [],
   "source": []
  },
  {
   "cell_type": "code",
   "execution_count": null,
   "metadata": {},
   "outputs": [],
   "source": []
  },
  {
   "cell_type": "code",
   "execution_count": null,
   "metadata": {},
   "outputs": [],
   "source": []
  },
  {
   "cell_type": "code",
   "execution_count": 3,
   "metadata": {},
   "outputs": [],
   "source": []
  },
  {
   "cell_type": "code",
   "execution_count": null,
   "metadata": {},
   "outputs": [],
   "source": [
    "from collections import defaultdict, deque\n",
    "\n",
    "class Solution:\n",
    "    def minJumps(self, arr: List[int]) -> int:\n",
    "        n = len(arr)\n",
    "        if len(set(arr)) == n: # 如果元素都不相同，那就只能一个一个向右跳\n",
    "            return n - 1\n",
    "        \n",
    "        num_freq = defaultdict(list)\n",
    "        for i, num in enumerate(arr):\n",
    "            num_freq[num].append(i)\n",
    "        \n",
    "        dq = deque([[0, 0]])\n",
    "        seen = {0}\n",
    "        while dq:\n",
    "            for _ in range(len(dq)):\n",
    "                idx, cnt = dq.popleft()\n",
    "                if idx == n-1:\n",
    "                    return cnt\n",
    "                # 左右跳\n",
    "                for n_idx in (idx+1, idx-1):\n",
    "                    if 0 <= n_idx < n and n_idx not in seen:\n",
    "                        dq.append((n_idx, cnt + 1))\n",
    "                        seen.add(n_idx)\n",
    "                \n",
    "                # 调到相同的数字上\n",
    "                if arr[idx] in num_freq:\n",
    "                    for n_idx in num_freq[arr[idx]]:\n",
    "                        if n_idx == idx or n_idx in seen:\n",
    "                            continue\n",
    "                        seen.add(n_idx)\n",
    "                        dq.append((n_idx, cnt + 1))\n",
    "                    del num_freq[arr[idx]]\n",
    "        return -1"
   ]
  },
  {
   "cell_type": "code",
   "execution_count": 4,
   "metadata": {},
   "outputs": [
    {
     "name": "stdout",
     "output_type": "stream",
     "text": [
      "defaultdict(<class 'list'>, {22: [1, 9], 7: [2, 3, 4, 5, 6, 7, 8], 13: [10]})\n",
      "defaultdict(<class 'list'>, {7: [2, 3, 4, 5, 6, 7, 8], 13: [10]})\n",
      "defaultdict(<class 'list'>, {13: [10]})\n"
     ]
    },
    {
     "data": {
      "text/plain": [
       "3"
      ]
     },
     "execution_count": 4,
     "metadata": {},
     "output_type": "execute_result"
    }
   ],
   "source": [
    "solution = Solution()\n",
    "solution.minJumps(arr = [11,22,7,7,7,7,7,7,7,22,13])"
   ]
  },
  {
   "cell_type": "code",
   "execution_count": null,
   "metadata": {},
   "outputs": [],
   "source": []
  },
  {
   "cell_type": "code",
   "execution_count": null,
   "metadata": {},
   "outputs": [],
   "source": []
  },
  {
   "cell_type": "code",
   "execution_count": null,
   "metadata": {},
   "outputs": [],
   "source": [
    "from collections import defaultdict, deque\n",
    "\n",
    "class Solution:\n",
    "    def minJumps(self, arr):\n",
    "        if set(arr) == len(arr):\n",
    "            return len(arr) - 1\n",
    "        if len(arr) == 1:\n",
    "            return 0\n",
    "        \n",
    "        num_freq = defaultdict(list)\n",
    "        for i, n in enumerate(arr):\n",
    "            num_freq[n].append(i)\n",
    "        \n",
    "        n = len(arr)\n",
    "        dq = deque([[0, 0]]) # 从第零号下标开始\n",
    "        best = {0: 0}\n",
    "        while dq:\n",
    "            for _ in range(len(dq)):\n",
    "                idx, cnt = dq.popleft()\n",
    "                if idx == n-1:\n",
    "                    return cnt\n",
    "                \n",
    "                # 向左、右跳\n",
    "                for n_idx in (idx - 1, idx + 1):\n",
    "                    if n_idx < 0 or n_idx >= n:\n",
    "                        continue\n",
    "                    if n_idx not in best or best[n_idx] < cnt + 1:\n",
    "                        best[n_idx] = cnt + 1\n",
    "                        dq.append((n_idx, cnt+1))\n",
    "                        \n",
    "                # 相同的数字，不同的索引\n",
    "                for n_idx in num_freq[arr[idx]]:\n",
    "                    if n_idx == idx:\n",
    "                        continue\n",
    "                    if n_idx not in best or best[n_idx] < cnt + 1:\n",
    "                        best[n_idx] = cnt + 1\n",
    "                        dq.append((n_idx, cnt+1))\n",
    "                del num_freq[arr[idx]]\n",
    "        return -1"
   ]
  }
 ],
 "metadata": {
  "kernelspec": {
   "display_name": "Python 3",
   "language": "python",
   "name": "python3"
  },
  "language_info": {
   "codemirror_mode": {
    "name": "ipython",
    "version": 3
   },
   "file_extension": ".py",
   "mimetype": "text/x-python",
   "name": "python",
   "nbconvert_exporter": "python",
   "pygments_lexer": "ipython3",
   "version": "3.6.2"
  }
 },
 "nbformat": 4,
 "nbformat_minor": 4
}
