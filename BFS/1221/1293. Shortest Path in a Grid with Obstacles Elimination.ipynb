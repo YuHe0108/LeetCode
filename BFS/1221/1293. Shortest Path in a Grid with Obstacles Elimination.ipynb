{
 "cells": [
  {
   "cell_type": "code",
   "execution_count": null,
   "metadata": {},
   "outputs": [],
   "source": []
  },
  {
   "cell_type": "code",
   "execution_count": null,
   "metadata": {},
   "outputs": [],
   "source": []
  },
  {
   "cell_type": "code",
   "execution_count": null,
   "metadata": {},
   "outputs": [],
   "source": []
  },
  {
   "cell_type": "code",
   "execution_count": 32,
   "metadata": {},
   "outputs": [],
   "source": [
    "from collections import deque\n",
    "\n",
    "class Solution:\n",
    "    def shortestPath(self, grid, k):\n",
    "        rows, cols = len(grid), len(grid[0])\n",
    "        dq = deque([[0, 0, k, 0]]) #每个位置上面都有K个可以移动障碍的机会，如果K==0，说明不能移动了\n",
    "        best_state = {(0, 0): (k, 0)} # 移动到 (r, c) 花费的步数、消灭障碍数\n",
    "        while dq:\n",
    "            for _ in range(len(dq)):\n",
    "                r, c, cnt, step = dq.popleft()\n",
    "                if (r, c) == (rows-1, cols-1):\n",
    "                    return step\n",
    "                \n",
    "                for nr, nc in (r+1, c), (r, c+1), (r-1, c), (r, c-1):\n",
    "                    if nr < 0 or nr >= rows or nc < 0 or nc >= cols:\n",
    "                        continue\n",
    "                    if grid[nr][nc] == 1:\n",
    "                        if cnt == 0: # 如果为 0，并且前方为障碍，不能移动\n",
    "                            continue\n",
    "                        else:\n",
    "                            # 如果我移动更少的步数能够达到同样的位置，则替换\n",
    "                            state = (nr, nc)\n",
    "                            if state not in best_state or cnt-1 > best_state[state][0] or step+1 < best_state[state][1]:\n",
    "                                best_state[state] = (cnt-1, step + 1)\n",
    "                                dq.append((nr, nc, cnt-1, step+1))\n",
    "                    else:\n",
    "                        state = (nr, nc)\n",
    "                        if state not in best_state or cnt > best_state[state][0] or step + 1 < best_state[state][1]:\n",
    "                            best_state[state] = (cnt, step+1)\n",
    "                            dq.append((nr, nc, cnt, step+1))\n",
    "        return -1"
   ]
  },
  {
   "cell_type": "code",
   "execution_count": 33,
   "metadata": {},
   "outputs": [
    {
     "data": {
      "text/plain": [
       "14"
      ]
     },
     "execution_count": 33,
     "metadata": {},
     "output_type": "execute_result"
    }
   ],
   "source": [
    "solution = Solution()\n",
    "solution.shortestPath([[0,0],\n",
    "                       [1,0],\n",
    "                       [1,0],\n",
    "                       [1,0],\n",
    "                       [1,0],\n",
    "                       [1,0],\n",
    "                       [0,0],\n",
    "                       [0,1],\n",
    "                       [0,1],\n",
    "                       [0,1],\n",
    "                       [0,0],\n",
    "                       [1,0],\n",
    "                       [1,0],\n",
    "                       [0,0]], 4)"
   ]
  },
  {
   "cell_type": "code",
   "execution_count": null,
   "metadata": {},
   "outputs": [],
   "source": []
  }
 ],
 "metadata": {
  "kernelspec": {
   "display_name": "Python 3",
   "language": "python",
   "name": "python3"
  },
  "language_info": {
   "codemirror_mode": {
    "name": "ipython",
    "version": 3
   },
   "file_extension": ".py",
   "mimetype": "text/x-python",
   "name": "python",
   "nbconvert_exporter": "python",
   "pygments_lexer": "ipython3",
   "version": "3.6.2"
  }
 },
 "nbformat": 4,
 "nbformat_minor": 4
}
