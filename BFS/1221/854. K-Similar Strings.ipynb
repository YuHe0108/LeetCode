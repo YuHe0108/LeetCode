{
 "cells": [
  {
   "cell_type": "code",
   "execution_count": null,
   "metadata": {},
   "outputs": [],
   "source": []
  },
  {
   "cell_type": "code",
   "execution_count": null,
   "metadata": {},
   "outputs": [],
   "source": []
  },
  {
   "cell_type": "code",
   "execution_count": 24,
   "metadata": {},
   "outputs": [],
   "source": [
    "from collections import deque\n",
    "\n",
    "class Solution:\n",
    "    def kSimilarity(self, A: str, B: str) -> int:\n",
    "        def get_candicate(word):\n",
    "            res = set()\n",
    "            for i in range(n):\n",
    "                for j in range(i+1, n):\n",
    "                    if word[i] == word[j]:\n",
    "                        continue\n",
    "                    temp = list(word)\n",
    "                    temp[i],temp[j] = temp[j],temp[i]\n",
    "                    res.add(''.join(temp))\n",
    "            return res\n",
    "                    \n",
    "        n = len(A)\n",
    "        dq = deque([[A, 0]])\n",
    "        best_state = {A: 0} # 得到一个单词需要交换的最少次数\n",
    "        while dq:\n",
    "            for _ in range(len(dq)):\n",
    "                word, cnt = dq.popleft()\n",
    "                if word == B:\n",
    "                    return cnt\n",
    "                candicate = get_candicate(word)\n",
    "                for w in candicate:\n",
    "                    if w not in best_state or cnt + 1 < best_state[w]:\n",
    "                        dq.append((w, cnt + 1))\n",
    "                        best_state[w] = cnt + 1\n",
    "            print(len(dq))\n",
    "        return -1"
   ]
  },
  {
   "cell_type": "code",
   "execution_count": 34,
   "metadata": {},
   "outputs": [],
   "source": [
    "from collections import deque\n",
    "\n",
    "class Solution:\n",
    "    def kSimilarity(self, A: str, B: str) -> int:\n",
    "        n = len(A)\n",
    "        dq = deque([[A, 0]])\n",
    "        best_state = {A: 0} # 得到一个单词需要交换的最少次数\n",
    "        while dq:\n",
    "            for _ in range(len(dq)):\n",
    "                word, cnt = dq.popleft()\n",
    "                if word == B:\n",
    "                    return cnt\n",
    "                \n",
    "                # 查看word, 与B相差了多少,找第一个word和B不相同的字符进行交换\n",
    "                for i in range(n):\n",
    "                    if word[i] != B[i]:\n",
    "                        break\n",
    "                # word[i]与B[i]不同，查看i之后的字母\n",
    "                temp = list(word)\n",
    "                for j in range(i+1, n):\n",
    "                    if word[j] == B[i]: # 可以进行交换\n",
    "                        temp[i], temp[j] = temp[j], temp[i]\n",
    "                        swap_w = ''.join(temp)\n",
    "                        if swap_w not in best_state or cnt+1 < best_state[swap_w]:\n",
    "                            best_state[swap_w] = cnt + 1\n",
    "                            dq.append((swap_w, cnt + 1))\n",
    "                        temp[i], temp[j] = temp[j], temp[i]\n",
    "        return -1"
   ]
  },
  {
   "cell_type": "code",
   "execution_count": 35,
   "metadata": {},
   "outputs": [
    {
     "data": {
      "text/plain": [
       "9"
      ]
     },
     "execution_count": 35,
     "metadata": {},
     "output_type": "execute_result"
    }
   ],
   "source": [
    "solution = Solution()\n",
    "solution.kSimilarity(\"abccaacceecdeea\", \"bcaacceeccdeaae\")"
   ]
  },
  {
   "cell_type": "code",
   "execution_count": null,
   "metadata": {},
   "outputs": [],
   "source": []
  }
 ],
 "metadata": {
  "kernelspec": {
   "display_name": "Python 3",
   "language": "python",
   "name": "python3"
  },
  "language_info": {
   "codemirror_mode": {
    "name": "ipython",
    "version": 3
   },
   "file_extension": ".py",
   "mimetype": "text/x-python",
   "name": "python",
   "nbconvert_exporter": "python",
   "pygments_lexer": "ipython3",
   "version": "3.6.2"
  }
 },
 "nbformat": 4,
 "nbformat_minor": 4
}
