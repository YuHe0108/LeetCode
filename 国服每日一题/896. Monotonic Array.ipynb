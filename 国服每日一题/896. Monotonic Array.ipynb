{
 "cells": [
  {
   "cell_type": "code",
   "execution_count": null,
   "metadata": {},
   "outputs": [],
   "source": []
  },
  {
   "cell_type": "code",
   "execution_count": null,
   "metadata": {},
   "outputs": [],
   "source": []
  },
  {
   "cell_type": "code",
   "execution_count": null,
   "metadata": {},
   "outputs": [],
   "source": []
  },
  {
   "cell_type": "code",
   "execution_count": null,
   "metadata": {},
   "outputs": [],
   "source": [
    "class Solution:\n",
    "    def isMonotonic(self, A: List[int]) -> bool:\n",
    "        flag1 = True\n",
    "        stack = []\n",
    "        for v in A:\n",
    "            if (not stack) or (stack and v >= stack[-1]):\n",
    "                stack.append(v)\n",
    "            else:\n",
    "                flag1 = False\n",
    "                break\n",
    "        if flag1:\n",
    "            return True\n",
    "        \n",
    "        flag2 = True\n",
    "        stack = []\n",
    "        for v in A:\n",
    "            if (not stack) or (stack and v <= stack[-1]):\n",
    "                stack.append(v)\n",
    "            else:\n",
    "                flag2 = False\n",
    "                break\n",
    "        return flag2\n",
    "                "
   ]
  },
  {
   "cell_type": "code",
   "execution_count": null,
   "metadata": {},
   "outputs": [],
   "source": [
    "class Solution:\n",
    "    def isMonotonic(self, A: List[int]) -> bool:\n",
    "        s_a = sorted(A)\n",
    "        return A == s_a or A == s_a[::-1]       "
   ]
  }
 ],
 "metadata": {
  "kernelspec": {
   "display_name": "Python 3",
   "language": "python",
   "name": "python3"
  },
  "language_info": {
   "codemirror_mode": {
    "name": "ipython",
    "version": 3
   },
   "file_extension": ".py",
   "mimetype": "text/x-python",
   "name": "python",
   "nbconvert_exporter": "python",
   "pygments_lexer": "ipython3",
   "version": "3.6.2"
  }
 },
 "nbformat": 4,
 "nbformat_minor": 4
}
