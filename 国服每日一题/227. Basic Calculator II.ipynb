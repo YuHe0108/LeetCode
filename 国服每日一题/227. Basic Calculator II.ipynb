{
 "cells": [
  {
   "cell_type": "code",
   "execution_count": null,
   "metadata": {},
   "outputs": [],
   "source": []
  },
  {
   "cell_type": "code",
   "execution_count": null,
   "metadata": {},
   "outputs": [],
   "source": []
  },
  {
   "cell_type": "code",
   "execution_count": null,
   "metadata": {},
   "outputs": [],
   "source": []
  },
  {
   "cell_type": "code",
   "execution_count": null,
   "metadata": {},
   "outputs": [],
   "source": []
  },
  {
   "cell_type": "code",
   "execution_count": 116,
   "metadata": {},
   "outputs": [],
   "source": [
    "class Solution:\n",
    "    def calculate(self, s: str) -> int:\n",
    "        s = s.replace(' ', '')\n",
    "        stack = []\n",
    "        vals = ''\n",
    "        i = 0\n",
    "        while i < len(s):\n",
    "            v = s[i]\n",
    "            if v == '/':\n",
    "                if vals:\n",
    "                    pre_val = int(vals)\n",
    "                    vals = ''\n",
    "                else:\n",
    "                    pre_val = stack.pop()\n",
    "                    \n",
    "                while i+1 < len(s) and s[i+1].isdigit():\n",
    "                    vals += s[i+1]\n",
    "                    i += 1\n",
    "                stack.append(pre_val // int(vals))\n",
    "                vals = ''\n",
    "            elif v == '*':\n",
    "                if vals:\n",
    "                    pre_val = int(vals)\n",
    "                    vals = ''\n",
    "                else:\n",
    "                    pre_val = stack.pop()\n",
    "                \n",
    "                while i+1 < len(s) and s[i+1].isdigit():\n",
    "                    vals += s[i+1]\n",
    "                    i += 1\n",
    "                stack.append(pre_val * int(vals))\n",
    "                vals = ''\n",
    "            elif v.isdigit():\n",
    "                vals += v\n",
    "            else:\n",
    "                if vals:\n",
    "                    stack.append(int(vals))\n",
    "                    vals = ''\n",
    "                stack.append(v)\n",
    "            i += 1\n",
    "        if vals:\n",
    "            stack.append(int(vals))\n",
    "        \n",
    "        stack = stack[::-1]\n",
    "        res = 0\n",
    "        while stack:\n",
    "            v = stack.pop()\n",
    "            if v == '+':\n",
    "                res += stack.pop()\n",
    "            elif v == '-':\n",
    "                res -= stack.pop()\n",
    "            else:\n",
    "                res += v\n",
    "                if stack:\n",
    "                    symbol = stack.pop()\n",
    "                    if symbol == '+':\n",
    "                        res += stack.pop()\n",
    "                    else:\n",
    "                        res -= stack.pop()\n",
    "        return res"
   ]
  },
  {
   "cell_type": "code",
   "execution_count": null,
   "metadata": {},
   "outputs": [],
   "source": []
  },
  {
   "cell_type": "code",
   "execution_count": null,
   "metadata": {},
   "outputs": [],
   "source": []
  },
  {
   "cell_type": "code",
   "execution_count": null,
   "metadata": {},
   "outputs": [],
   "source": []
  },
  {
   "cell_type": "code",
   "execution_count": 132,
   "metadata": {},
   "outputs": [],
   "source": [
    "class Solution:\n",
    "    def calculate(self, s: str) -> int:\n",
    "        stack = []\n",
    "        num = 0\n",
    "        sign = '+'\n",
    "        for i in range(len(s)):\n",
    "            #如果是数字，则对数字处理\n",
    "            if s[i].isdigit():\n",
    "                num = num * 10 + int(s[i])\n",
    "                \n",
    "            #运算符有四种情况（空格直接忽略）：如果当前运算符是+和-，将数字压栈，如果是*和/，就将栈顶出栈进行运算，\n",
    "            #然后将运算结果压栈，最后求栈累加和。\n",
    "            \n",
    "            # s[i]是当前的 运算符号，sign是 s[i]前面一个运算符号\n",
    "            if s[i] in '+-*/' or i == len(s)-1:\n",
    "                # 第一次 s[i] == '*'的时候，sign = '+', 往后遍历数字\n",
    "                # 直到遍历的末尾，或者下一步符号之前，才会计算 ‘*’\n",
    "                if sign == '+':\n",
    "                    stack.append(num)\n",
    "                elif sign == '-':\n",
    "                    stack.append(-num)\n",
    "                elif sign == '*':\n",
    "                    stack.append(stack.pop() * num)\n",
    "                else:\n",
    "                    stack.append(int(stack.pop() / num))\n",
    "                num = 0\n",
    "                sign = s[i]\n",
    "        return sum(stack)"
   ]
  },
  {
   "cell_type": "code",
   "execution_count": 133,
   "metadata": {},
   "outputs": [
    {
     "data": {
      "text/plain": [
       "7"
      ]
     },
     "execution_count": 133,
     "metadata": {},
     "output_type": "execute_result"
    }
   ],
   "source": [
    "solution = Solution()\n",
    "solution.calculate(s = \"3+2*2\")"
   ]
  },
  {
   "cell_type": "code",
   "execution_count": 125,
   "metadata": {},
   "outputs": [
    {
     "data": {
      "text/plain": [
       "-2"
      ]
     },
     "execution_count": 125,
     "metadata": {},
     "output_type": "execute_result"
    }
   ],
   "source": [
    "int(-5/2)"
   ]
  },
  {
   "cell_type": "code",
   "execution_count": null,
   "metadata": {},
   "outputs": [],
   "source": []
  }
 ],
 "metadata": {
  "kernelspec": {
   "display_name": "Python 3",
   "language": "python",
   "name": "python3"
  },
  "language_info": {
   "codemirror_mode": {
    "name": "ipython",
    "version": 3
   },
   "file_extension": ".py",
   "mimetype": "text/x-python",
   "name": "python",
   "nbconvert_exporter": "python",
   "pygments_lexer": "ipython3",
   "version": "3.6.2"
  }
 },
 "nbformat": 4,
 "nbformat_minor": 4
}
