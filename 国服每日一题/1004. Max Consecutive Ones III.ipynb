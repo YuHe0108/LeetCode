{
 "cells": [
  {
   "cell_type": "code",
   "execution_count": null,
   "metadata": {},
   "outputs": [],
   "source": [
    "class Solution:\n",
    "    def longestOnes(self, A: List[int], K: int) -> int:\n",
    "        res = 0\n",
    "        n = len(A)\n",
    "        i = 0\n",
    "        count = 0\n",
    "        for j in range(n):\n",
    "            if A[j] == 0:\n",
    "                count += 1\n",
    "                while count > K:\n",
    "                    if A[i] == 0:\n",
    "                        count -= 1\n",
    "                    i += 1\n",
    "            res = max(res, j-i+1)\n",
    "        return res"
   ]
  }
 ],
 "metadata": {
  "kernelspec": {
   "display_name": "Python 3",
   "language": "python",
   "name": "python3"
  },
  "language_info": {
   "codemirror_mode": {
    "name": "ipython",
    "version": 3
   },
   "file_extension": ".py",
   "mimetype": "text/x-python",
   "name": "python",
   "nbconvert_exporter": "python",
   "pygments_lexer": "ipython3",
   "version": "3.6.2"
  }
 },
 "nbformat": 4,
 "nbformat_minor": 4
}
