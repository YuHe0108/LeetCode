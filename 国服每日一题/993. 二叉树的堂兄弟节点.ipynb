{
 "cells": [
  {
   "cell_type": "code",
   "execution_count": null,
   "metadata": {},
   "outputs": [],
   "source": []
  },
  {
   "cell_type": "code",
   "execution_count": null,
   "metadata": {},
   "outputs": [],
   "source": []
  },
  {
   "cell_type": "code",
   "execution_count": null,
   "metadata": {},
   "outputs": [],
   "source": [
    "# Definition for a binary tree node.\n",
    "# class TreeNode:\n",
    "#     def __init__(self, val=0, left=None, right=None):\n",
    "#         self.val = val\n",
    "#         self.left = left\n",
    "#         self.right = right\n",
    "class Solution:\n",
    "    def isCousins(self, root: TreeNode, x: int, y: int) -> bool:\n",
    "        self.x_par = -1\n",
    "        self.y_par = -1\n",
    "        self.x_depth = -1\n",
    "        self.y_depth = -1\n",
    "        self.get_par_and_depth(root, x, y, 0)\n",
    "        return self.x_par != self.y_par and self.x_depth == self.y_depth\n",
    "    \n",
    "    def get_par_and_depth(self, root, x, y, depth):\n",
    "        if not root:\n",
    "            return\n",
    "        if (root.left and root.left.val == x) or (root.right and root.right.val == x):\n",
    "            self.x_par = root.val\n",
    "            self.x_depth = depth + 1\n",
    "        if (root.left and root.left.val == y) or (root.right and root.right.val == y):\n",
    "            self.y_par = root.val\n",
    "            self.y_depth = depth + 1\n",
    "        if self.x_par == -1 or self.y_par == -1:\n",
    "            self.get_par_and_depth(root.left, x, y, depth+1)\n",
    "            self.get_par_and_depth(root.right, x, y, depth+1)\n"
   ]
  }
 ],
 "metadata": {
  "kernelspec": {
   "display_name": "Python 3",
   "language": "python",
   "name": "python3"
  },
  "language_info": {
   "codemirror_mode": {
    "name": "ipython",
    "version": 3
   },
   "file_extension": ".py",
   "mimetype": "text/x-python",
   "name": "python",
   "nbconvert_exporter": "python",
   "pygments_lexer": "ipython3",
   "version": "3.6.2"
  }
 },
 "nbformat": 4,
 "nbformat_minor": 4
}
