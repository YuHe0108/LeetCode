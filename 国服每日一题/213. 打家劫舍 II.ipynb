{
 "cells": [
  {
   "cell_type": "code",
   "execution_count": 1,
   "metadata": {},
   "outputs": [],
   "source": [
    "a = [1, 2, 3]"
   ]
  },
  {
   "cell_type": "code",
   "execution_count": 2,
   "metadata": {},
   "outputs": [
    {
     "data": {
      "text/plain": [
       "[1, 2]"
      ]
     },
     "execution_count": 2,
     "metadata": {},
     "output_type": "execute_result"
    }
   ],
   "source": [
    "a[:-1]"
   ]
  },
  {
   "cell_type": "code",
   "execution_count": null,
   "metadata": {},
   "outputs": [],
   "source": [
    "class Solution:\n",
    "    def rob(self, nums: List[int]) -> int:\n",
    "        \n",
    "        def rob_val(vals):\n",
    "            n = len(vals)\n",
    "            dp = [0] * n\n",
    "            dp[0] = vals[0]\n",
    "            for i in range(1, n):\n",
    "                if i - 2 < 0:\n",
    "                    dp[i] = max(dp[i-1], vals[i])\n",
    "                else:\n",
    "                    dp[i] = max(dp[i-1], vals[i] + dp[i-2])\n",
    "            return dp[-1]\n",
    "        \n",
    "        if len(nums) <= 2:\n",
    "            return max(nums)\n",
    "        return max(rob_val(nums[1:]), rob_val(nums[:-1]))"
   ]
  }
 ],
 "metadata": {
  "kernelspec": {
   "display_name": "Python 3",
   "language": "python",
   "name": "python3"
  },
  "language_info": {
   "codemirror_mode": {
    "name": "ipython",
    "version": 3
   },
   "file_extension": ".py",
   "mimetype": "text/x-python",
   "name": "python",
   "nbconvert_exporter": "python",
   "pygments_lexer": "ipython3",
   "version": "3.6.2"
  }
 },
 "nbformat": 4,
 "nbformat_minor": 4
}
