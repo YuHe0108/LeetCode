{
 "cells": [
  {
   "cell_type": "raw",
   "metadata": {},
   "source": []
  },
  {
   "cell_type": "code",
   "execution_count": null,
   "metadata": {},
   "outputs": [],
   "source": []
  },
  {
   "cell_type": "code",
   "execution_count": null,
   "metadata": {},
   "outputs": [],
   "source": []
  },
  {
   "cell_type": "code",
   "execution_count": 4,
   "metadata": {},
   "outputs": [],
   "source": [
    "import bisect"
   ]
  },
  {
   "cell_type": "code",
   "execution_count": 8,
   "metadata": {},
   "outputs": [
    {
     "data": {
      "text/plain": [
       "1"
      ]
     },
     "execution_count": 8,
     "metadata": {},
     "output_type": "execute_result"
    }
   ],
   "source": [
    "a = [1, 2, 5, 7]\n",
    "bisect.bisect_left(a, 2) # 大于等于 2的位置"
   ]
  },
  {
   "cell_type": "code",
   "execution_count": null,
   "metadata": {},
   "outputs": [],
   "source": [
    "class Solution:\n",
    "    def containsNearbyAlmostDuplicate(self, nums: List[int], k: int, t: int) -> bool:\n",
    "        if k == 0: # 不能找到两个不同的下标\n",
    "            return False\n",
    "        # t = 0, 表示数组中一定要有相同的数字\n",
    "        if t == 0 and len(nums) != len(set(nums)):\n",
    "            return False\n",
    "        \n",
    "        # O(K*N)\n",
    "        n = len(nums)\n",
    "        for i in range(n):\n",
    "            for j in range(i+1, min(i+k, n-1) + 1):\n",
    "                if abs(nums[i] - nums[j]) <= t:\n",
    "                    return True\n",
    "        return False"
   ]
  },
  {
   "cell_type": "code",
   "execution_count": null,
   "metadata": {},
   "outputs": [],
   "source": []
  },
  {
   "cell_type": "code",
   "execution_count": null,
   "metadata": {},
   "outputs": [],
   "source": [
    "1、abs(nums[i] - nums[j]) <= t \n",
    "    -t <= nums[i] - nums[j] <= t\n",
    "    nums[j] - t <= nums[i] <= nums[j] + t\n",
    "    \n",
    "2、abs(i - j) <= k # 在一个区间为 k 的范围内，找到 nums[j] - t\n",
    "    i = 0, j = k\n",
    "    0, 1, 2, 3 # 一共是 k+1个数字"
   ]
  },
  {
   "cell_type": "code",
   "execution_count": null,
   "metadata": {},
   "outputs": [],
   "source": []
  },
  {
   "cell_type": "code",
   "execution_count": null,
   "metadata": {},
   "outputs": [],
   "source": []
  },
  {
   "cell_type": "code",
   "execution_count": null,
   "metadata": {},
   "outputs": [],
   "source": [
    "桶排序的思想：\n",
    "    如果 t = 3，那么就根据数字的大小，设置若干个桶\n",
    "    [  ]  [  ]  [  ]\n",
    "    0  3  4  7  8 11\n",
    "    横明显，在一个桶内的元素，他们的k一定是小于等与 t的，并且所有桶内的元素最多只能有 k 个，保证了区间范围一定要是 k"
   ]
  },
  {
   "cell_type": "code",
   "execution_count": 67,
   "metadata": {},
   "outputs": [],
   "source": [
    "from typing import List\n",
    "from collections import deque, defaultdict\n",
    "from sortedcontainers import SortedList\n",
    "\n",
    "class Solution:\n",
    "    def containsNearbyAlmostDuplicate(self, nums: List[int], k: int, t: int) -> bool:\n",
    "        \n",
    "        max_val = max(nums)\n",
    "        max_idx = max_val // (t+1) + 1\n",
    "        count = [SortedList() for _ in range(max_idx)]\n",
    "        for i, v in enumerate(nums):\n",
    "            if i > k: # 已经放了 k 个元素了，要删除 i-k-1 元素\n",
    "                remove_idx = (i-k-1) // (t+1)\n",
    "                count[remove_idx].remove(nums[i-k-1])\n",
    "                \n",
    "            insert_idx = v // (t + 1) # 应该放入到哪个桶内\n",
    "            if count[insert_idx]: # 桶内已经有元素了，返回 True\n",
    "                return True\n",
    "            \n",
    "            if 0 < insert_idx < max_idx: # 和前后对比\n",
    "                if count[insert_idx - 1] and abs(v - count[insert_idx - 1][-1]) <= t:\n",
    "                    return True\n",
    "                if count[insert_idx + 1] and abs(v - count[insert_idx + 1][0]) <= t:\n",
    "                    return True\n",
    "            elif 0 == insert_idx: # 在最后面了，和前面的比较\n",
    "                if insert_idx + 1 <= max_idx and count[insert_idx + 1] and abs(v - count[insert_idx + 1][0]) <= t:\n",
    "                    return True\n",
    "            elif insert_idx == max_idx: # 在最前面了，和后面的比较\n",
    "                if insert_idx - 1 >= 0 and count[insert_idx - 1] and abs(v - count[insert_idx - 1][-1]) <= t:\n",
    "                    return True\n",
    "            count[insert_idx].add(v)\n",
    "        return"
   ]
  },
  {
   "cell_type": "code",
   "execution_count": null,
   "metadata": {},
   "outputs": [],
   "source": []
  },
  {
   "cell_type": "code",
   "execution_count": 86,
   "metadata": {},
   "outputs": [],
   "source": [
    "from typing import List\n",
    "from collections import deque, defaultdict\n",
    "from sortedcontainers import SortedList\n",
    "\n",
    "class Solution:\n",
    "    def containsNearbyAlmostDuplicate(self, nums: List[int], k: int, t: int) -> bool:\n",
    "        bucket = {}\n",
    "        for i, v in enumerate(nums):\n",
    "            if i > k:\n",
    "                # 不会出现覆盖的情况，因为覆盖意味着，有两个以上的数字进入到了同一个桶内，\n",
    "                # 那么一定会返回True\n",
    "                remove_idx = nums[i-k-1] // (t+1)\n",
    "                del bucket[remove_idx]\n",
    "            \n",
    "            idx = v // (t+1) # 当前数字应该放在哪个桶内\n",
    "            if idx in bucket: # 桶内已经有元素了，那么二者之差一定是小于t, 返回为 True\n",
    "                return True\n",
    "            if idx-1 in bucket and abs(v - bucket[idx-1]) <= t:\n",
    "                return True\n",
    "            if idx+1 in bucket and abs(v - bucket[idx+1]) <= t:\n",
    "                return True\n",
    "            bucket[idx] = v\n",
    "        return False"
   ]
  },
  {
   "cell_type": "code",
   "execution_count": 87,
   "metadata": {},
   "outputs": [
    {
     "data": {
      "text/plain": [
       "True"
      ]
     },
     "execution_count": 87,
     "metadata": {},
     "output_type": "execute_result"
    }
   ],
   "source": [
    "solution = Solution()\n",
    "solution.containsNearbyAlmostDuplicate([1,2,3,1], 3, 0)"
   ]
  },
  {
   "cell_type": "code",
   "execution_count": 40,
   "metadata": {},
   "outputs": [
    {
     "data": {
      "text/plain": [
       "2"
      ]
     },
     "execution_count": 40,
     "metadata": {},
     "output_type": "execute_result"
    }
   ],
   "source": []
  },
  {
   "cell_type": "code",
   "execution_count": null,
   "metadata": {},
   "outputs": [],
   "source": []
  },
  {
   "cell_type": "code",
   "execution_count": null,
   "metadata": {},
   "outputs": [],
   "source": []
  },
  {
   "cell_type": "code",
   "execution_count": 53,
   "metadata": {},
   "outputs": [],
   "source": [
    "from sortedcontainers import SortedList"
   ]
  },
  {
   "cell_type": "code",
   "execution_count": 54,
   "metadata": {},
   "outputs": [],
   "source": [
    "s_list = SortedList()"
   ]
  },
  {
   "cell_type": "code",
   "execution_count": 55,
   "metadata": {},
   "outputs": [],
   "source": [
    "s_list.add(2)"
   ]
  },
  {
   "cell_type": "code",
   "execution_count": 56,
   "metadata": {},
   "outputs": [],
   "source": [
    "s_list.remove(2)"
   ]
  },
  {
   "cell_type": "code",
   "execution_count": 89,
   "metadata": {},
   "outputs": [
    {
     "data": {
      "text/plain": [
       "3.0"
      ]
     },
     "execution_count": 89,
     "metadata": {},
     "output_type": "execute_result"
    }
   ],
   "source": [
    "pow(27, 1/3)"
   ]
  },
  {
   "cell_type": "code",
   "execution_count": null,
   "metadata": {},
   "outputs": [],
   "source": []
  }
 ],
 "metadata": {
  "kernelspec": {
   "display_name": "Python 3",
   "language": "python",
   "name": "python3"
  },
  "language_info": {
   "codemirror_mode": {
    "name": "ipython",
    "version": 3
   },
   "file_extension": ".py",
   "mimetype": "text/x-python",
   "name": "python",
   "nbconvert_exporter": "python",
   "pygments_lexer": "ipython3",
   "version": "3.6.2"
  }
 },
 "nbformat": 4,
 "nbformat_minor": 4
}
