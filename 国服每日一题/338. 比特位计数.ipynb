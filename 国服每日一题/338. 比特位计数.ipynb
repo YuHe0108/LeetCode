{
 "cells": [
  {
   "cell_type": "code",
   "execution_count": null,
   "metadata": {},
   "outputs": [],
   "source": []
  },
  {
   "cell_type": "code",
   "execution_count": null,
   "metadata": {},
   "outputs": [],
   "source": []
  },
  {
   "cell_type": "code",
   "execution_count": null,
   "metadata": {},
   "outputs": [],
   "source": []
  },
  {
   "cell_type": "code",
   "execution_count": null,
   "metadata": {},
   "outputs": [],
   "source": []
  },
  {
   "cell_type": "code",
   "execution_count": 3,
   "metadata": {},
   "outputs": [],
   "source": [
    "class Solution(object):\n",
    "    def countBits(self, num):\n",
    "        res = []\n",
    "        for i in range(num + 1):\n",
    "            res.append(self.count(i))\n",
    "        return res\n",
    "    \n",
    "    def count(self, num):\n",
    "        if num == 0:\n",
    "            return 0\n",
    "        if num % 2 == 1:\n",
    "            return self.count(num - 1) + 1\n",
    "        return self.count(num // 2)"
   ]
  },
  {
   "cell_type": "code",
   "execution_count": null,
   "metadata": {},
   "outputs": [],
   "source": []
  },
  {
   "cell_type": "code",
   "execution_count": 4,
   "metadata": {},
   "outputs": [],
   "source": [
    "class Solution:\n",
    "    def countBits(self, num):\n",
    "        res = [0] * (num + 1)\n",
    "        for i in range(1, num + 1):\n",
    "            # i & 1 查看当前数字 i 的最后一位，是0还是1，如果是0，那么这个数字就是偶数，否则就是奇数\n",
    "            # 如果是奇数，i>>1, 相当于 i-1\n",
    "            # 如果是偶数，i>>1, 相当于 i // 2\n",
    "            # 如果 i 是偶数，那么它的二进制 1 的位数与 i/2 的二进制 1 的位数相等；因为偶数的二进制末尾是 0，右移一位等于 i / 2，而 1 的个数没有变化。\n",
    "            # 如果 i 是奇数，那么它的二进制 1 的位数等于 i-1 的二进制位数 +1；因为奇数的二进制末尾是 1，如果把末尾的 1 去掉就等于 i - 1。\n",
    "            # 又 i-1 是偶数，所以奇数 i 的二进制 1 的位数等于 i/2 中二进制 1 的位数 +1.\n",
    "            res[i] = res[i >> 1] + (i & 1)\n",
    "        return res"
   ]
  },
  {
   "cell_type": "code",
   "execution_count": 5,
   "metadata": {},
   "outputs": [
    {
     "name": "stdout",
     "output_type": "stream",
     "text": [
      "1 0\n",
      "2 1\n",
      "3 1\n",
      "4 2\n",
      "5 2\n"
     ]
    },
    {
     "data": {
      "text/plain": [
       "[0, 1, 1, 2, 1, 2]"
      ]
     },
     "execution_count": 5,
     "metadata": {},
     "output_type": "execute_result"
    }
   ],
   "source": [
    "solution = Solution()\n",
    "solution.countBits(5)"
   ]
  },
  {
   "cell_type": "code",
   "execution_count": null,
   "metadata": {},
   "outputs": [],
   "source": []
  }
 ],
 "metadata": {
  "kernelspec": {
   "display_name": "Python 3",
   "language": "python",
   "name": "python3"
  },
  "language_info": {
   "codemirror_mode": {
    "name": "ipython",
    "version": 3
   },
   "file_extension": ".py",
   "mimetype": "text/x-python",
   "name": "python",
   "nbconvert_exporter": "python",
   "pygments_lexer": "ipython3",
   "version": "3.6.2"
  }
 },
 "nbformat": 4,
 "nbformat_minor": 4
}
