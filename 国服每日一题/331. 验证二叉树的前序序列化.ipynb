{
 "cells": [
  {
   "cell_type": "code",
   "execution_count": null,
   "metadata": {},
   "outputs": [],
   "source": []
  },
  {
   "cell_type": "code",
   "execution_count": null,
   "metadata": {},
   "outputs": [],
   "source": [
    "class Solution:\n",
    "    def isValidSerialization(self, preorder: str) -> bool:\n",
    "        sub_tree = re.compile(r'[0-9]+,#,#')\n",
    "        last = len(preorder) + 1\n",
    "        while last > len(preorder):\n",
    "            last = len(preorder)\n",
    "            preorder = re.sub(sub_tree, \"#\", preorder)\n",
    "        return len(preorder) == 1 and preorder == '#'"
   ]
  },
  {
   "cell_type": "code",
   "execution_count": null,
   "metadata": {},
   "outputs": [],
   "source": []
  },
  {
   "cell_type": "code",
   "execution_count": 15,
   "metadata": {},
   "outputs": [],
   "source": [
    "class Solution:\n",
    "    def isValidSerialization(self, preorder: str) -> bool:\n",
    "        stack = []\n",
    "        for v in preorder.split(','):\n",
    "            stack.append(v)\n",
    "            # 当遍历到叶子的节点的时候，叶子节点的左右子节点肯定都是 '#'\n",
    "            # 那么弹出空接点与 叶子节点，并将叶子节点更改为 '#'\n",
    "            # 如果是一个合理的二叉树遍历结构，最后的结果一定是等于 ['#']\n",
    "            while len(stack) >= 3 and stack[-1] == stack[-2] == '#' and stack[-3] != '#':\n",
    "                stack.pop()\n",
    "                stack.pop()\n",
    "                stack[-1] = '#'\n",
    "        return stack == ['#']"
   ]
  },
  {
   "cell_type": "code",
   "execution_count": 16,
   "metadata": {},
   "outputs": [
    {
     "data": {
      "text/plain": [
       "True"
      ]
     },
     "execution_count": 16,
     "metadata": {},
     "output_type": "execute_result"
    }
   ],
   "source": [
    "solution = Solution()\n",
    "solution.isValidSerialization(\"9,3,4,#,#,1,#,#,2,#,6,#,#\")"
   ]
  },
  {
   "cell_type": "code",
   "execution_count": null,
   "metadata": {},
   "outputs": [],
   "source": []
  }
 ],
 "metadata": {
  "kernelspec": {
   "display_name": "Python 3",
   "language": "python",
   "name": "python3"
  },
  "language_info": {
   "codemirror_mode": {
    "name": "ipython",
    "version": 3
   },
   "file_extension": ".py",
   "mimetype": "text/x-python",
   "name": "python",
   "nbconvert_exporter": "python",
   "pygments_lexer": "ipython3",
   "version": "3.6.2"
  }
 },
 "nbformat": 4,
 "nbformat_minor": 4
}
