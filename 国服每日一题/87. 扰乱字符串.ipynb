{
 "cells": [
  {
   "cell_type": "code",
   "execution_count": null,
   "metadata": {},
   "outputs": [],
   "source": []
  },
  {
   "cell_type": "code",
   "execution_count": null,
   "metadata": {},
   "outputs": [],
   "source": []
  },
  {
   "cell_type": "code",
   "execution_count": null,
   "metadata": {},
   "outputs": [],
   "source": []
  },
  {
   "cell_type": "code",
   "execution_count": null,
   "metadata": {},
   "outputs": [],
   "source": [
    "class Solution:\n",
    "    def isScramble(self, s1, s2):\n",
    "        n1, n2 = len(s1), len(s2)\n",
    "        if n1 != n2:\n",
    "            return False\n",
    "        \n",
    "        # 初始化 dp3 维数组dp[i][j][k]\n",
    "        # i为 0 ~ n1-1共n1个， j为 0~n1-1共 n1 个， k为 1~n1+1 共n1个\n",
    "        dp=[ [ [False] * (n1+1) for _ in range(n1) ] for _ in range(n1)]\n",
    "\n",
    "        #初始化单个字符的情况\n",
    "        for i in range(lens1):\n",
    "            for j in range(lens1):\n",
    "                dp[i][j][1] = s1[i] == s2[j]\n",
    "\n",
    "        #前面排除了s1和s2为单个字符的情况，那么我们就要划分区间了，k从2到lens1，也就是划分为s1[:k]和s1[k:]\n",
    "        #枚举区间长度2～lens1\n",
    "        for  k in range(2,lens1+1):\n",
    "            #枚举S中的起点位置\n",
    "            for i in range( lens1-k+1):#也就是在s1中枚举i的位置，因为后面会出现i+w的情况，而w最大就是k，\n",
    "                # 就会有i+k的情况，所以i的取值范围就是0~lens1-k\n",
    "                           \n",
    "                #枚举T中的起点位置\n",
    "                for j in range(lens1-k+1):\n",
    "                    #枚举划分位置，s1[:k]中从\n",
    "                    for  w in range(1, k):\n",
    "                        #第一种情况：S1->T1,S2->T2\n",
    "                        if dp[i][j][w] and dp[i + w][j + w][k - w]:\n",
    "                            dp[i][j][k] = True\n",
    "                            print(\"i,j,k\", i, j, k)\n",
    "                            break\n",
    "\n",
    "                        #第二种情况：S1->T2,S2->T1\n",
    "                        #S1起点i，T2起点j + 前面那段长度k-w，S2起点i+前面长度k\n",
    "                        if dp[i][j + k - w][w] and dp[i + w][j][k - w]:\n",
    "                            dp[i][j][k] = True\n",
    "                            break\n",
    "        return dp[0][0][lens1]"
   ]
  },
  {
   "cell_type": "code",
   "execution_count": null,
   "metadata": {},
   "outputs": [],
   "source": []
  },
  {
   "cell_type": "code",
   "execution_count": 21,
   "metadata": {},
   "outputs": [],
   "source": [
    "from functools import lru_cache\n",
    "\n",
    "class Solution:\n",
    "    @lru_cache(None)\n",
    "    def isScramble(self, s1: str, s2: str) -> bool:\n",
    "        if s1 == s2:\n",
    "            return True\n",
    "        if sorted(s1) != sorted(s2):\n",
    "            return False\n",
    "        for i in range(1, len(s1)):\n",
    "            # 表示不经过 swap\n",
    "            if self.isScramble(s1[:i], s2[:i]) and self.isScramble(s1[i:], s2[i:]):\n",
    "                return True\n",
    "            # 表示经过 swap 操作\n",
    "            # s1[i:] 表示 idx=i 之后的元素，s2[:-i] 表示倒数 i 个元素是舍弃的\n",
    "            if self.isScramble(s1[:i], s2[-i:]) and self.isScramble(s1[i:], s2[:-i]):\n",
    "                return True\n",
    "        return False"
   ]
  },
  {
   "cell_type": "code",
   "execution_count": 22,
   "metadata": {},
   "outputs": [
    {
     "name": "stdout",
     "output_type": "stream",
     "text": [
      "great rgeat 1 g r reat geat g t reat rgea\n",
      "great rgeat 2 gr rg eat eat gr at eat rge\n",
      "gr rg 1 g r r g g g r r\n"
     ]
    },
    {
     "data": {
      "text/plain": [
       "True"
      ]
     },
     "execution_count": 22,
     "metadata": {},
     "output_type": "execute_result"
    }
   ],
   "source": [
    "solution = Solution()\n",
    "solution.isScramble(s1 = \"great\", s2 = \"rgeat\")"
   ]
  },
  {
   "cell_type": "code",
   "execution_count": 28,
   "metadata": {},
   "outputs": [
    {
     "name": "stdout",
     "output_type": "stream",
     "text": [
      "[1, 2] [4, 5]\n"
     ]
    }
   ],
   "source": [
    "a = [1, 2, 3, 4, 5]\n",
    "print(a[:-3], a[3:])"
   ]
  },
  {
   "cell_type": "code",
   "execution_count": null,
   "metadata": {},
   "outputs": [],
   "source": []
  }
 ],
 "metadata": {
  "kernelspec": {
   "display_name": "Python 3",
   "language": "python",
   "name": "python3"
  },
  "language_info": {
   "codemirror_mode": {
    "name": "ipython",
    "version": 3
   },
   "file_extension": ".py",
   "mimetype": "text/x-python",
   "name": "python",
   "nbconvert_exporter": "python",
   "pygments_lexer": "ipython3",
   "version": "3.6.2"
  }
 },
 "nbformat": 4,
 "nbformat_minor": 4
}
