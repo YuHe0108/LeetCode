{
 "cells": [
  {
   "cell_type": "code",
   "execution_count": null,
   "metadata": {},
   "outputs": [],
   "source": []
  },
  {
   "cell_type": "code",
   "execution_count": null,
   "metadata": {},
   "outputs": [],
   "source": []
  },
  {
   "cell_type": "code",
   "execution_count": null,
   "metadata": {},
   "outputs": [],
   "source": []
  },
  {
   "cell_type": "code",
   "execution_count": null,
   "metadata": {},
   "outputs": [],
   "source": []
  },
  {
   "cell_type": "code",
   "execution_count": null,
   "metadata": {},
   "outputs": [],
   "source": []
  },
  {
   "cell_type": "code",
   "execution_count": 19,
   "metadata": {},
   "outputs": [],
   "source": [
    "from typing import List\n",
    "\n",
    "class Solution:\n",
    "    def canEat(self, candiesCount: List[int], queries: List[List[int]]) -> List[bool]:\n",
    "        \n",
    "        presum = [0]\n",
    "        for v in candiesCount:\n",
    "            presum.append(v + presum[-1])\n",
    "        \n",
    "        n = len(queries)\n",
    "        res = [False] * n\n",
    "        for i, (per_t, per_d, per_n) in enumerate(queries):\n",
    "            pre_d_total = presum[per_t] # 要想吃到 per_t 的糖果，需要在之前吃掉的该类型之前所有的糖果和\n",
    "            if (per_d + 1) * per_n <= pre_d_total: # 每天吃最多，还是没吃完前面的糖果\n",
    "                continue\n",
    "                \n",
    "            cur_d_total = presum[per_t + 1]\n",
    "            if per_d >= cur_d_total: # 在当前天之前，每天只吃一颗，在 per_d 之前还是把糖吃完了\n",
    "                continue\n",
    "            \n",
    "            # 还有一种情况，到了今天这一天，我吃完了所有的之前的糖，\n",
    "            res[i] = True\n",
    "        return res"
   ]
  },
  {
   "cell_type": "code",
   "execution_count": 21,
   "metadata": {},
   "outputs": [
    {
     "data": {
      "text/plain": [
       "[False, True, True, False, False]"
      ]
     },
     "execution_count": 21,
     "metadata": {},
     "output_type": "execute_result"
    }
   ],
   "source": [
    "solution = Solution()\n",
    "solution.canEat(candiesCount = [5,2,6,4,1], queries = [[3,1,2],[4,10,3],[3,10,100],[4,100,30],[1,3,1]])"
   ]
  },
  {
   "cell_type": "code",
   "execution_count": null,
   "metadata": {},
   "outputs": [],
   "source": []
  }
 ],
 "metadata": {
  "kernelspec": {
   "display_name": "Python 3",
   "language": "python",
   "name": "python3"
  },
  "language_info": {
   "codemirror_mode": {
    "name": "ipython",
    "version": 3
   },
   "file_extension": ".py",
   "mimetype": "text/x-python",
   "name": "python",
   "nbconvert_exporter": "python",
   "pygments_lexer": "ipython3",
   "version": "3.6.2"
  }
 },
 "nbformat": 4,
 "nbformat_minor": 4
}
