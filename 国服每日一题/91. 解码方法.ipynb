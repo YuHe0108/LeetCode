{
 "cells": [
  {
   "cell_type": "code",
   "execution_count": null,
   "metadata": {},
   "outputs": [],
   "source": [
    "class Solution:\n",
    "    def numDecodings(self, s: str) -> int:\n",
    "        if s[0] == '0':\n",
    "            return 0\n",
    "        \n",
    "        n = len(s)\n",
    "        dp = [0] * (n + 1)\n",
    "        dp[0] = dp[1] = 1\n",
    "        s = '#' + s\n",
    "        for i in range(2, n+1):\n",
    "            if s[i] == '0' and s[i-1] >= '3':\n",
    "                return 0\n",
    "            if s[i] != '0':\n",
    "                dp[i] += dp[i-1]\n",
    "            \n",
    "            if s[i-1] == '1':\n",
    "                dp[i] += dp[i-2]\n",
    "            elif s[i-1] == '2':\n",
    "                if s[i] <= '6': # 0、1、2、3、4、5、6\n",
    "                    dp[i] += dp[i-2]\n",
    "        return dp[-1]"
   ]
  }
 ],
 "metadata": {
  "kernelspec": {
   "display_name": "Python 3",
   "language": "python",
   "name": "python3"
  },
  "language_info": {
   "codemirror_mode": {
    "name": "ipython",
    "version": 3
   },
   "file_extension": ".py",
   "mimetype": "text/x-python",
   "name": "python",
   "nbconvert_exporter": "python",
   "pygments_lexer": "ipython3",
   "version": "3.6.2"
  }
 },
 "nbformat": 4,
 "nbformat_minor": 4
}
