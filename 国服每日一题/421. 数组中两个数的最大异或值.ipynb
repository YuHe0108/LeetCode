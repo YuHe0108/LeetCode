{
 "cells": [
  {
   "cell_type": "code",
   "execution_count": null,
   "metadata": {},
   "outputs": [],
   "source": []
  },
  {
   "cell_type": "code",
   "execution_count": null,
   "metadata": {},
   "outputs": [],
   "source": []
  },
  {
   "cell_type": "code",
   "execution_count": 9,
   "metadata": {},
   "outputs": [
    {
     "data": {
      "text/plain": [
       "34"
      ]
     },
     "execution_count": 9,
     "metadata": {},
     "output_type": "execute_result"
    }
   ],
   "source": [
    "len(str(bin(pow(2, 31))))"
   ]
  },
  {
   "cell_type": "code",
   "execution_count": null,
   "metadata": {},
   "outputs": [],
   "source": []
  },
  {
   "cell_type": "code",
   "execution_count": 19,
   "metadata": {},
   "outputs": [],
   "source": [
    "from typing import List\n",
    "\n",
    "\n",
    "class TrieNode:\n",
    "    def __init__(self):\n",
    "        self.next = [None, None]\n",
    "\n",
    "class Solution:\n",
    "    def findMaximumXOR(self, nums: List[int]) -> int:\n",
    "        \n",
    "        def get_max_val(val):\n",
    "            node = root\n",
    "            ans = 0\n",
    "            for i in range(31, -1, -1):\n",
    "                bit_v = (val >> i) & 1\n",
    "                if bit_v == 0:\n",
    "                    if node.next[1] is not None:\n",
    "                        node = node.next[1]\n",
    "                        ans |= (1 << i)\n",
    "                    else:\n",
    "                        node = node.next[0]\n",
    "                else:\n",
    "                    if node.next[0] is not None:\n",
    "                        node = node.next[0]\n",
    "                        ans |= (1 << i)\n",
    "                    else:\n",
    "                        node = node.next[1]\n",
    "            return ans\n",
    "        \n",
    "        def insert(val):\n",
    "            # 在 Trie 中插入一个数字\n",
    "            node = root\n",
    "            for i in range(31, -1, -1):\n",
    "                bit_v = (val >> i) & 1\n",
    "                if node.next[bit_v] is None:\n",
    "                    node.next[bit_v] = TrieNode()\n",
    "                node = node.next[bit_v]\n",
    "            return\n",
    "        \n",
    "        res = 0\n",
    "        root = TrieNode()\n",
    "        insert(nums[0])\n",
    "        for v in nums[1:]:\n",
    "            res = max(res, get_max_val(v))\n",
    "            insert(v)\n",
    "        return res"
   ]
  },
  {
   "cell_type": "code",
   "execution_count": 20,
   "metadata": {},
   "outputs": [
    {
     "data": {
      "text/plain": [
       "28"
      ]
     },
     "execution_count": 20,
     "metadata": {},
     "output_type": "execute_result"
    }
   ],
   "source": [
    "solution = Solution()\n",
    "solution.findMaximumXOR(nums = [3,10,5,25,2,8])"
   ]
  },
  {
   "cell_type": "code",
   "execution_count": 4,
   "metadata": {},
   "outputs": [
    {
     "data": {
      "text/plain": [
       "0"
      ]
     },
     "execution_count": 4,
     "metadata": {},
     "output_type": "execute_result"
    }
   ],
   "source": [
    "3 ^3"
   ]
  },
  {
   "cell_type": "code",
   "execution_count": null,
   "metadata": {},
   "outputs": [],
   "source": []
  }
 ],
 "metadata": {
  "kernelspec": {
   "display_name": "Python 3",
   "language": "python",
   "name": "python3"
  },
  "language_info": {
   "codemirror_mode": {
    "name": "ipython",
    "version": 3
   },
   "file_extension": ".py",
   "mimetype": "text/x-python",
   "name": "python",
   "nbconvert_exporter": "python",
   "pygments_lexer": "ipython3",
   "version": "3.6.2"
  }
 },
 "nbformat": 4,
 "nbformat_minor": 4
}
