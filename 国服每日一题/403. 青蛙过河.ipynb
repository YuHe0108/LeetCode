{
 "cells": [
  {
   "cell_type": "code",
   "execution_count": null,
   "metadata": {},
   "outputs": [],
   "source": []
  },
  {
   "cell_type": "code",
   "execution_count": null,
   "metadata": {},
   "outputs": [],
   "source": []
  },
  {
   "cell_type": "code",
   "execution_count": null,
   "metadata": {},
   "outputs": [],
   "source": []
  },
  {
   "cell_type": "code",
   "execution_count": 21,
   "metadata": {},
   "outputs": [],
   "source": [
    "from typing import List\n",
    "\n",
    "class Solution:\n",
    "    def canCross(self, stones: List[int]) -> bool:\n",
    "        n = len(stones)\n",
    "        # dp[i][j]: 在第 stones[i] 块石头上，可以跳 j 步到达 当前位置\n",
    "        dp = [set() for _ in range(n)]\n",
    "        dp[0] = {1}\n",
    "        \n",
    "        for i in range(1, n):\n",
    "            for j in range(i):\n",
    "                dis = stones[i] - stones[j] # 两个石头之间的距离\n",
    "                if dis in dp[j]: # 恰好可以调到\n",
    "                    dp[i].add(dis-1)\n",
    "                    dp[i].add(dis)\n",
    "                    dp[i].add(dis+1)\n",
    "        return len(dp[-1]) > 0"
   ]
  },
  {
   "cell_type": "code",
   "execution_count": 23,
   "metadata": {},
   "outputs": [
    {
     "name": "stdout",
     "output_type": "stream",
     "text": [
      "[{1}, {0, 1, 2}, {1, 2, 3}, {1, 2, 3}, {0, 1, 2, 3, 4}, {1, 2, 3, 4}, {3, 4, 5}, {4, 5, 6}]\n"
     ]
    },
    {
     "data": {
      "text/plain": [
       "True"
      ]
     },
     "execution_count": 23,
     "metadata": {},
     "output_type": "execute_result"
    }
   ],
   "source": [
    "solution = Solution()\n",
    "solution.canCross(stones = [0,1,3,5,6,8,12,17])"
   ]
  },
  {
   "cell_type": "code",
   "execution_count": null,
   "metadata": {},
   "outputs": [],
   "source": []
  }
 ],
 "metadata": {
  "kernelspec": {
   "display_name": "Python 3",
   "language": "python",
   "name": "python3"
  },
  "language_info": {
   "codemirror_mode": {
    "name": "ipython",
    "version": 3
   },
   "file_extension": ".py",
   "mimetype": "text/x-python",
   "name": "python",
   "nbconvert_exporter": "python",
   "pygments_lexer": "ipython3",
   "version": "3.6.2"
  }
 },
 "nbformat": 4,
 "nbformat_minor": 4
}
