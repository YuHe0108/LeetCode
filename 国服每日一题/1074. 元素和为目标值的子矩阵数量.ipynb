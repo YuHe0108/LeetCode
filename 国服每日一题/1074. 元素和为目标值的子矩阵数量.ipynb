{
 "cells": [
  {
   "cell_type": "code",
   "execution_count": null,
   "metadata": {},
   "outputs": [],
   "source": []
  },
  {
   "cell_type": "code",
   "execution_count": null,
   "metadata": {},
   "outputs": [],
   "source": []
  },
  {
   "cell_type": "code",
   "execution_count": null,
   "metadata": {},
   "outputs": [],
   "source": []
  },
  {
   "cell_type": "code",
   "execution_count": 33,
   "metadata": {},
   "outputs": [],
   "source": [
    "from typing import List\n",
    "\n",
    "class Solution:\n",
    "    def numSubmatrixSumTarget(self, matrix: List[List[int]], target: int) -> int:\n",
    "        rows, cols = len(matrix), len(matrix[0])\n",
    "        \n",
    "        presum = []\n",
    "        for i in range(rows):\n",
    "            vals = [0]\n",
    "            for j in range(cols):\n",
    "                vals.append(vals[-1] + matrix[i][j])\n",
    "            presum.append(vals)\n",
    "        \n",
    "        ans = 0 # 同一行\n",
    "        for i in range(rows):\n",
    "            for j in range(1, cols+1):\n",
    "                for k in range(j):\n",
    "                    if presum[i][j] - presum[i][k] == target:\n",
    "                        ans += 1\n",
    "        \n",
    "        # 跨行的矩阵\n",
    "        \n",
    "        print(presum)\n",
    "        return ans"
   ]
  },
  {
   "cell_type": "code",
   "execution_count": null,
   "metadata": {},
   "outputs": [],
   "source": []
  },
  {
   "cell_type": "code",
   "execution_count": null,
   "metadata": {},
   "outputs": [],
   "source": []
  },
  {
   "cell_type": "code",
   "execution_count": 61,
   "metadata": {},
   "outputs": [],
   "source": [
    "from typing import List\n",
    "\n",
    "class Solution:\n",
    "    def numSubmatrixSumTarget(self, matrix: List[List[int]], target: int) -> int:\n",
    "        n = len(matrix)\n",
    "        presum = [[0] * n]\n",
    "        vals = [0] * n\n",
    "        for i in range(n):\n",
    "            for j in range(n):\n",
    "                vals[j] += matrix[i][j]\n",
    "            presum.append(vals[:])\n",
    "        print(presum)\n",
    "        \n",
    "        ans = 0\n",
    "        for i in range(1, n+1): # 下界\n",
    "            for j in range(i): # 上界\n",
    "                vals = []\n",
    "                for k in range(n):\n",
    "                    vals.append(presum[i][k] - presum[j][k])\n",
    "                    \n",
    "                print(vals, i, j)\n",
    "                for k in range(n):\n",
    "                    pass\n",
    "        return ans"
   ]
  },
  {
   "cell_type": "code",
   "execution_count": null,
   "metadata": {},
   "outputs": [],
   "source": []
  },
  {
   "cell_type": "code",
   "execution_count": null,
   "metadata": {},
   "outputs": [],
   "source": []
  },
  {
   "cell_type": "code",
   "execution_count": null,
   "metadata": {},
   "outputs": [],
   "source": []
  },
  {
   "cell_type": "code",
   "execution_count": 74,
   "metadata": {},
   "outputs": [],
   "source": [
    "from typing import List\n",
    "from functools import lru_cache\n",
    "from collections import defaultdict\n",
    "\n",
    "class Solution:\n",
    "    def numSubmatrixSumTarget(self, matrix: List[List[int]], target: int) -> int:\n",
    "        \n",
    "        @lru_cache(None)\n",
    "        def calc(nums):\n",
    "            count = 0\n",
    "            cur = 0\n",
    "            presum = defaultdict(int)\n",
    "            presum[0] += 1\n",
    "            for v in nums:\n",
    "                cur += v\n",
    "                if cur - target in presum:\n",
    "                    count += presum[cur - target]\n",
    "                presum[cur] += 1\n",
    "            return count\n",
    "        \n",
    "        ans = 0\n",
    "        rows, cols = len(matrix), len(matrix[0])\n",
    "        for i in range(rows): # 上界\n",
    "            vals = [0] * cols\n",
    "            for j in range(i, rows): # 下界\n",
    "                for k in range(cols):\n",
    "                    vals[k] += matrix[j][k]\n",
    "                print(vals)\n",
    "                ans += calc(tuple(vals))\n",
    "        return ans"
   ]
  },
  {
   "cell_type": "code",
   "execution_count": 75,
   "metadata": {},
   "outputs": [
    {
     "name": "stdout",
     "output_type": "stream",
     "text": [
      "[0, 1, 0]\n",
      "[1, 2, 1]\n",
      "[1, 3, 1]\n",
      "[1, 1, 1]\n",
      "[1, 2, 1]\n",
      "[0, 1, 0]\n"
     ]
    },
    {
     "data": {
      "text/plain": [
       "4"
      ]
     },
     "execution_count": 75,
     "metadata": {},
     "output_type": "execute_result"
    }
   ],
   "source": [
    "solution = Solution()\n",
    "solution.numSubmatrixSumTarget(matrix = [[0,1,0],\n",
    "                                         [1,1,1],\n",
    "                                         [0,1,0]], target = 0)"
   ]
  },
  {
   "cell_type": "code",
   "execution_count": null,
   "metadata": {},
   "outputs": [],
   "source": [
    "[1, 3, 1]\n",
    "[0, 1, 4, 5]\n"
   ]
  },
  {
   "cell_type": "code",
   "execution_count": null,
   "metadata": {},
   "outputs": [],
   "source": [
    "[[0, 0, 1, 1], \n",
    " [0, 1, 2, 3], \n",
    " [0, 0, 1, 1]]"
   ]
  }
 ],
 "metadata": {
  "kernelspec": {
   "display_name": "Python 3",
   "language": "python",
   "name": "python3"
  },
  "language_info": {
   "codemirror_mode": {
    "name": "ipython",
    "version": 3
   },
   "file_extension": ".py",
   "mimetype": "text/x-python",
   "name": "python",
   "nbconvert_exporter": "python",
   "pygments_lexer": "ipython3",
   "version": "3.6.2"
  }
 },
 "nbformat": 4,
 "nbformat_minor": 4
}
