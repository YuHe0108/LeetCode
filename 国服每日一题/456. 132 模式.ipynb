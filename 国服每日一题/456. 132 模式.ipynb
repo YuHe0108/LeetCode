{
 "cells": [
  {
   "cell_type": "code",
   "execution_count": null,
   "metadata": {},
   "outputs": [],
   "source": []
  },
  {
   "cell_type": "code",
   "execution_count": null,
   "metadata": {},
   "outputs": [],
   "source": []
  },
  {
   "cell_type": "code",
   "execution_count": 37,
   "metadata": {},
   "outputs": [],
   "source": [
    "class Solution:\n",
    "    def find132pattern(self, nums):\n",
    "        stacks = []\n",
    "        mid = -float('inf') # 是次大的值，stacks[-1] 为最大的值\n",
    "        \n",
    "        # 从后往前检查数字的大小，\n",
    "        for i in range(len(nums)-1, -1, -1):\n",
    "            val = nums[i]\n",
    "            # 如果 val < 次大值，又因为 mid < stack[0], 因此 val < mid < stack[0]\n",
    "            #                                               i(1)   k(3)   j(2)\n",
    "            if val < mid:\n",
    "                return True\n",
    "            else:\n",
    "                while stacks and stacks[-1] < val:\n",
    "                    mid = stacks.pop()\n",
    "            stacks.append(val)\n",
    "            print(stacks, mid)\n",
    "        return False"
   ]
  },
  {
   "cell_type": "code",
   "execution_count": 38,
   "metadata": {},
   "outputs": [
    {
     "name": "stdout",
     "output_type": "stream",
     "text": [
      "[6] -inf\n",
      "[6, 5] -inf\n",
      "[6, 5, 4] -inf\n",
      "[6, 5, 4, 3] -inf\n",
      "[6, 5, 5] 4\n"
     ]
    },
    {
     "data": {
      "text/plain": [
       "True"
      ]
     },
     "execution_count": 38,
     "metadata": {},
     "output_type": "execute_result"
    }
   ],
   "source": [
    "solution = Solution()\n",
    "solution.find132pattern([1,5,3,4,5,6])"
   ]
  },
  {
   "cell_type": "code",
   "execution_count": null,
   "metadata": {},
   "outputs": [],
   "source": []
  },
  {
   "cell_type": "code",
   "execution_count": null,
   "metadata": {},
   "outputs": [],
   "source": []
  },
  {
   "cell_type": "code",
   "execution_count": null,
   "metadata": {},
   "outputs": [],
   "source": []
  },
  {
   "cell_type": "code",
   "execution_count": 15,
   "metadata": {},
   "outputs": [],
   "source": [
    "from typing import List\n",
    "\n",
    "class Solution:\n",
    "    def find132pattern(self, nums: List[int]) -> bool:\n",
    "        \n",
    "        n = len(nums)\n",
    "        # 先构建一个 pre_min, 记录了每一个数前面最小的数是哪个\n",
    "        pre_min = [nums[0]]\n",
    "        for v in nums[1:]:\n",
    "            pre_min.append(min(pre_min[-1], v))\n",
    "        \n",
    "        stack = [] # stack 是 nums[i] 之后最大的值\n",
    "        for i in range(n-1, -1, -1):\n",
    "            # 如果：在当前的这个数字 之前，有比当前数字更小的值出现\n",
    "            #      每次都会假设 nums[i] 为最大的值\n",
    "            if nums[i] > pre_min[i]:\n",
    "                # 后面出现的值，一定要 > pre_min[i]\n",
    "                while stack and stack[-1] <= pre_min[i]:\n",
    "                    stack.pop()\n",
    "                \n",
    "                # 如果 stack 中还有值，说明 stack[-1] > pre_min[i]\n",
    "                # 并且 nums[i] > stack[-1]\n",
    "                # 说明 pre_min[i] < stack[-1] < nums[i] \n",
    "                #        1 (i)        3(k)      2 (j)\n",
    "                if stack and stack[-1] < nums[i]:\n",
    "                    return True\n",
    "                stack.append(nums[i])\n",
    "        return False"
   ]
  },
  {
   "cell_type": "code",
   "execution_count": 16,
   "metadata": {},
   "outputs": [
    {
     "name": "stdout",
     "output_type": "stream",
     "text": [
      "[2, 2, 1, 1, 1]\n"
     ]
    },
    {
     "data": {
      "text/plain": [
       "True"
      ]
     },
     "execution_count": 16,
     "metadata": {},
     "output_type": "execute_result"
    }
   ],
   "source": [
    "solution = Solution()\n",
    "solution.find132pattern([2,4,1,2,3])"
   ]
  },
  {
   "cell_type": "code",
   "execution_count": null,
   "metadata": {},
   "outputs": [],
   "source": [
    "[2, 2, 1, 1, 1]"
   ]
  }
 ],
 "metadata": {
  "kernelspec": {
   "display_name": "Python 3",
   "language": "python",
   "name": "python3"
  },
  "language_info": {
   "codemirror_mode": {
    "name": "ipython",
    "version": 3
   },
   "file_extension": ".py",
   "mimetype": "text/x-python",
   "name": "python",
   "nbconvert_exporter": "python",
   "pygments_lexer": "ipython3",
   "version": "3.6.2"
  }
 },
 "nbformat": 4,
 "nbformat_minor": 4
}
