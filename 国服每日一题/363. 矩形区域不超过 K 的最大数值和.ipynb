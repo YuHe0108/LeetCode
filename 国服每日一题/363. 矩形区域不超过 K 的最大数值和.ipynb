{
 "cells": [
  {
   "cell_type": "code",
   "execution_count": null,
   "metadata": {},
   "outputs": [],
   "source": []
  },
  {
   "cell_type": "code",
   "execution_count": null,
   "metadata": {},
   "outputs": [],
   "source": []
  },
  {
   "cell_type": "code",
   "execution_count": null,
   "metadata": {},
   "outputs": [],
   "source": []
  },
  {
   "cell_type": "code",
   "execution_count": 94,
   "metadata": {},
   "outputs": [],
   "source": [
    "from sortedcontainers import SortedList\n",
    "from typing import List\n",
    "import bisect\n",
    "\n",
    "class Solution:\n",
    "    def maxSumSubmatrix(self, matrix: List[List[int]], k: int) -> int:\n",
    "        \n",
    "        def helper(nums):\n",
    "            pre_vals = SortedList()\n",
    "            pre_vals.add(0)\n",
    "            cur = 0 # 前缀的累加和\n",
    "            out = -float('inf') # 最终的输出值\n",
    "            for v in nums:\n",
    "                cur += v\n",
    "                tar = cur - k\n",
    "                idx = bisect.bisect_left(pre_vals, tar)\n",
    "                if idx == len(pre_vals):\n",
    "                    if cur - pre_vals[-1] <= k:\n",
    "                        out = max(out, cur - pre_vals[-1])\n",
    "                else:\n",
    "                    if cur - pre_vals[idx] <= k:\n",
    "                        out = max(out, cur - pre_vals[idx])\n",
    "                pre_vals.add(cur)\n",
    "            return out\n",
    "        \n",
    "        rows, cols = len(matrix), len(matrix[0])\n",
    "        res = -float('inf')\n",
    "        for i in range(rows): # 上界\n",
    "            vals = [0] * cols\n",
    "            \n",
    "            for j in range(i, rows): # 下界\n",
    "                for m in range(cols):\n",
    "                    vals[m] += matrix[j][m]\n",
    "                res = max(res, helper(vals))\n",
    "        return res"
   ]
  },
  {
   "cell_type": "code",
   "execution_count": null,
   "metadata": {},
   "outputs": [],
   "source": []
  },
  {
   "cell_type": "code",
   "execution_count": null,
   "metadata": {},
   "outputs": [],
   "source": []
  },
  {
   "cell_type": "code",
   "execution_count": null,
   "metadata": {},
   "outputs": [],
   "source": [
    "from sortedcontainers import SortedList\n",
    "from typing import List\n",
    "import bisect\n",
    "\n",
    "class Solution:\n",
    "    def maxSumSubmatrix(self, matrix: List[List[int]], k: int) -> int:\n",
    "        \n",
    "        def helper(nums):\n",
    "            pre_vals = [0]\n",
    "            cur = 0 # 前缀的累加和\n",
    "            out = -float('inf') # 最终的输出值\n",
    "            for v in nums:\n",
    "                cur += v\n",
    "                tar = cur - k\n",
    "                idx = bisect.bisect_left(pre_vals, tar)\n",
    "                if idx == len(pre_vals):\n",
    "                    if cur - pre_vals[-1] <= k:\n",
    "                        out = max(out, cur - pre_vals[-1])\n",
    "                else:\n",
    "                    if cur - pre_vals[idx] <= k:\n",
    "                        out = max(out, cur - pre_vals[idx])\n",
    "                bisect.insort(pre_vals, cur)\n",
    "            return out\n",
    "        \n",
    "        rows, cols = len(matrix), len(matrix[0])\n",
    "        res = -float('inf')\n",
    "        for i in range(rows): # 上界\n",
    "            vals = [0] * cols\n",
    "            \n",
    "            for j in range(i, rows): # 下界\n",
    "                for m in range(cols):\n",
    "                    vals[m] += matrix[j][m]\n",
    "                res = max(res, helper(vals))\n",
    "        return res"
   ]
  },
  {
   "cell_type": "code",
   "execution_count": 95,
   "metadata": {},
   "outputs": [
    {
     "name": "stdout",
     "output_type": "stream",
     "text": [
      "[5, -4, -3, 4] 0 0\n",
      "[2, -8, 1, 9] 0 1\n",
      "[7, -7, 6, 5] 0 2\n",
      "[-3, -4, 4, 5] 1 1\n",
      "[2, -3, 9, 1] 1 2\n",
      "[5, 1, 5, -4] 2 2\n"
     ]
    },
    {
     "data": {
      "text/plain": [
       "8"
      ]
     },
     "execution_count": 95,
     "metadata": {},
     "output_type": "execute_result"
    }
   ],
   "source": [
    "solution = Solution()\n",
    "solution.maxSumSubmatrix([[5,-4,-3,4],\n",
    "                          [-3,-4,4,5],\n",
    "                          [5,1,5,-4]], 8)"
   ]
  },
  {
   "cell_type": "code",
   "execution_count": null,
   "metadata": {},
   "outputs": [],
   "source": []
  }
 ],
 "metadata": {
  "kernelspec": {
   "display_name": "Python 3",
   "language": "python",
   "name": "python3"
  },
  "language_info": {
   "codemirror_mode": {
    "name": "ipython",
    "version": 3
   },
   "file_extension": ".py",
   "mimetype": "text/x-python",
   "name": "python",
   "nbconvert_exporter": "python",
   "pygments_lexer": "ipython3",
   "version": "3.6.2"
  }
 },
 "nbformat": 4,
 "nbformat_minor": 4
}
