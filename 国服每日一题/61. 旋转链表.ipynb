{
 "cells": [
  {
   "cell_type": "code",
   "execution_count": null,
   "metadata": {},
   "outputs": [],
   "source": []
  },
  {
   "cell_type": "code",
   "execution_count": null,
   "metadata": {},
   "outputs": [],
   "source": []
  },
  {
   "cell_type": "code",
   "execution_count": 2,
   "metadata": {},
   "outputs": [],
   "source": [
    "# Definition for singly-linked list.\n",
    "class ListNode:\n",
    "    def __init__(self, val=0, next=None):\n",
    "        self.val = val\n",
    "        self.next = next\n",
    "        \n",
    "class Solution:\n",
    "    def rotateRight(self, head: ListNode, k: int) -> ListNode:\n",
    "        if not head:\n",
    "            return head\n",
    "        vals = []\n",
    "        while head:\n",
    "            vals.append(head.val)\n",
    "            head = head.next\n",
    "\n",
    "            k = k % len(vals)\n",
    "        pre = vals[:-k]\n",
    "        vals = vals[-k:] + pre\n",
    "        res = root = ListNode()\n",
    "        for v in vals:\n",
    "            root.next = ListNode(v)\n",
    "            root = root.next\n",
    "        return res.next"
   ]
  },
  {
   "cell_type": "code",
   "execution_count": null,
   "metadata": {},
   "outputs": [],
   "source": []
  },
  {
   "cell_type": "code",
   "execution_count": null,
   "metadata": {},
   "outputs": [],
   "source": []
  },
  {
   "cell_type": "code",
   "execution_count": null,
   "metadata": {},
   "outputs": [],
   "source": [
    "# Definition for singly-linked list.\n",
    "class ListNode:\n",
    "    def __init__(self, val=0, next=None):\n",
    "        self.val = val\n",
    "        self.next = next\n"
   ]
  },
  {
   "cell_type": "code",
   "execution_count": null,
   "metadata": {},
   "outputs": [],
   "source": [
    "class Solution:\n",
    "    def rotateRight(self, head: ListNode, k: int) -> ListNode:\n",
    "        # 1、检查节点有多少值\n",
    "        if not head:\n",
    "            return head\n",
    "        dummy = head\n",
    "        n = 0\n",
    "        while dummy:\n",
    "            n += 1\n",
    "            dummy = dummy.next\n",
    "        \n",
    "        # 2、快慢节点\n",
    "        k = k % n\n",
    "        if k == 0:\n",
    "            return head\n",
    "        fast = head # 先让快指针走k步\n",
    "        for _ in range(k):\n",
    "            fast = fast.next\n",
    "        \n",
    "        # 当快指针的下一个节点为空的时候，slow指到倒数 k+1个节点\n",
    "        slow = head\n",
    "        while fast.next:\n",
    "            fast = fast.next\n",
    "            slow = slow.next\n",
    "        \n",
    "        \n",
    "        s_nxt = slow.next # 倒数k个节点\n",
    "        slow.next = None # 从倒数 k+1 个位置断开\n",
    "        fast.next = head # fast是最后一个节点\n",
    "        return s_nxt"
   ]
  }
 ],
 "metadata": {
  "kernelspec": {
   "display_name": "Python 3",
   "language": "python",
   "name": "python3"
  },
  "language_info": {
   "codemirror_mode": {
    "name": "ipython",
    "version": 3
   },
   "file_extension": ".py",
   "mimetype": "text/x-python",
   "name": "python",
   "nbconvert_exporter": "python",
   "pygments_lexer": "ipython3",
   "version": "3.6.2"
  }
 },
 "nbformat": 4,
 "nbformat_minor": 4
}
