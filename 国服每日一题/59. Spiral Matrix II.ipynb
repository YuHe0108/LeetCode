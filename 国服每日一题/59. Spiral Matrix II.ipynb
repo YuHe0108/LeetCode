{
 "cells": [
  {
   "cell_type": "code",
   "execution_count": null,
   "metadata": {},
   "outputs": [],
   "source": []
  },
  {
   "cell_type": "code",
   "execution_count": null,
   "metadata": {},
   "outputs": [],
   "source": []
  },
  {
   "cell_type": "code",
   "execution_count": null,
   "metadata": {},
   "outputs": [],
   "source": []
  },
  {
   "cell_type": "code",
   "execution_count": 23,
   "metadata": {},
   "outputs": [],
   "source": [
    "from typing import List\n",
    "\n",
    "class Solution:\n",
    "    def generateMatrix(self, n: int) -> List[List[int]]:\n",
    "        rows = cols = n\n",
    "        nums = [x for x in range(n**2, 0, -1)]\n",
    "        res = [[0] * n for _ in range(n)]\n",
    "        \n",
    "        dirs = [[0, 1], [1, 0], [0, -1], [-1, 0]]\n",
    "        seen = set()\n",
    "        r, c = 0, 0\n",
    "        idx = 0\n",
    "        while nums:\n",
    "            res[r][c] = nums.pop()\n",
    "            seen.add((r, c))\n",
    "            nr, nc = None, None\n",
    "            while nums:\n",
    "                dr, dc = dirs[idx % 4]\n",
    "                nr, nc = dr + r, dc + c\n",
    "                if nr<0 or nc<0 or nr>=rows or nc>= cols or (nr, nc) in seen:\n",
    "                    idx += 1\n",
    "                else:\n",
    "                    break\n",
    "            r, c = nr, nc  \n",
    "        return res"
   ]
  },
  {
   "cell_type": "code",
   "execution_count": 24,
   "metadata": {},
   "outputs": [
    {
     "name": "stdout",
     "output_type": "stream",
     "text": [
      "[[1, 0, 0], [0, 0, 0], [0, 0, 0]]\n",
      "[[1, 2, 0], [0, 0, 0], [0, 0, 0]]\n",
      "[[1, 2, 3], [0, 0, 0], [0, 0, 0]]\n",
      "[[1, 2, 3], [0, 0, 4], [0, 0, 0]]\n",
      "[[1, 2, 3], [0, 0, 4], [0, 0, 5]]\n",
      "[[1, 2, 3], [0, 0, 4], [0, 6, 5]]\n",
      "[[1, 2, 3], [0, 0, 4], [7, 6, 5]]\n",
      "[[1, 2, 3], [8, 0, 4], [7, 6, 5]]\n",
      "[[1, 2, 3], [8, 9, 4], [7, 6, 5]]\n"
     ]
    },
    {
     "data": {
      "text/plain": [
       "[[1, 2, 3], [8, 9, 4], [7, 6, 5]]"
      ]
     },
     "execution_count": 24,
     "metadata": {},
     "output_type": "execute_result"
    }
   ],
   "source": [
    "solution = Solution()\n",
    "solution.generateMatrix(3)"
   ]
  },
  {
   "cell_type": "code",
   "execution_count": null,
   "metadata": {},
   "outputs": [],
   "source": []
  }
 ],
 "metadata": {
  "kernelspec": {
   "display_name": "Python 3",
   "language": "python",
   "name": "python3"
  },
  "language_info": {
   "codemirror_mode": {
    "name": "ipython",
    "version": 3
   },
   "file_extension": ".py",
   "mimetype": "text/x-python",
   "name": "python",
   "nbconvert_exporter": "python",
   "pygments_lexer": "ipython3",
   "version": "3.6.2"
  }
 },
 "nbformat": 4,
 "nbformat_minor": 4
}
