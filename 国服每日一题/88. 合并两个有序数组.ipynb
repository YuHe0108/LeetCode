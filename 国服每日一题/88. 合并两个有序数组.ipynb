{
 "cells": [
  {
   "cell_type": "code",
   "execution_count": null,
   "metadata": {},
   "outputs": [],
   "source": []
  },
  {
   "cell_type": "code",
   "execution_count": null,
   "metadata": {},
   "outputs": [],
   "source": []
  },
  {
   "cell_type": "code",
   "execution_count": null,
   "metadata": {},
   "outputs": [],
   "source": []
  },
  {
   "cell_type": "code",
   "execution_count": 2,
   "metadata": {},
   "outputs": [],
   "source": [
    "from typing import List\n",
    "\n",
    "class Solution:\n",
    "    def merge(self, nums1: List[int], m: int, nums2: List[int], n: int) -> None:\n",
    "        \"\"\"\n",
    "        Do not return anything, modify nums1 in-place instead.\n",
    "        \"\"\"\n",
    "        for v in nums2:\n",
    "            idx = bisect.bisect_left(nums1[:m], v)\n",
    "            if idx == m:\n",
    "                nums1[m] = v\n",
    "            else:\n",
    "                for i in range(m, idx, -1):\n",
    "                    nums1[i] = nums1[i-1]\n",
    "                nums1[idx] = v\n",
    "            m += 1"
   ]
  },
  {
   "cell_type": "code",
   "execution_count": null,
   "metadata": {},
   "outputs": [],
   "source": [
    "class Solution(object):\n",
    "    def merge(self, nums1, m, nums2, n):\n",
    "        k = m + n - 1 # 最后一位\n",
    "        while m > 0 and n > 0:\n",
    "            if nums1[m - 1] > nums2[n - 1]:\n",
    "                nums1[k] = nums1[m - 1] # 最大值放在最后面\n",
    "                m -= 1\n",
    "            else:\n",
    "                nums1[k] = nums2[n - 1] \n",
    "                n -= 1\n",
    "            k -= 1\n",
    "        nums1[:n] = nums2[:n]\n"
   ]
  }
 ],
 "metadata": {
  "kernelspec": {
   "display_name": "Python 3",
   "language": "python",
   "name": "python3"
  },
  "language_info": {
   "codemirror_mode": {
    "name": "ipython",
    "version": 3
   },
   "file_extension": ".py",
   "mimetype": "text/x-python",
   "name": "python",
   "nbconvert_exporter": "python",
   "pygments_lexer": "ipython3",
   "version": "3.6.2"
  }
 },
 "nbformat": 4,
 "nbformat_minor": 4
}
