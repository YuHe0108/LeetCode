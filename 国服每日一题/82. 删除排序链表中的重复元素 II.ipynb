{
 "cells": [
  {
   "cell_type": "code",
   "execution_count": null,
   "metadata": {},
   "outputs": [],
   "source": []
  },
  {
   "cell_type": "code",
   "execution_count": null,
   "metadata": {},
   "outputs": [],
   "source": []
  },
  {
   "cell_type": "code",
   "execution_count": null,
   "metadata": {},
   "outputs": [],
   "source": []
  },
  {
   "cell_type": "code",
   "execution_count": null,
   "metadata": {},
   "outputs": [],
   "source": []
  },
  {
   "cell_type": "code",
   "execution_count": null,
   "metadata": {},
   "outputs": [],
   "source": []
  },
  {
   "cell_type": "code",
   "execution_count": null,
   "metadata": {},
   "outputs": [],
   "source": [
    "# Definition for singly-linked list.\n",
    "# class ListNode:\n",
    "#     def __init__(self, x):\n",
    "#         self.val = x\n",
    "#         self.next = None\n",
    "\n",
    "class Solution:\n",
    "    def deleteDuplicates(self, head: ListNode) -> ListNode:\n",
    "        if not head:\n",
    "            return head\n",
    "        \n",
    "        dummy = root = ListNode(0)\n",
    "        prev = None\n",
    "        while head:\n",
    "            cond1 = (head.next is None) or (head.next is not None and head.next.val != head.val)\n",
    "            cond2 = head.val != prev\n",
    "            if cond1 and cond2:\n",
    "                dummy.next = ListNode(head.val)\n",
    "                dummy = dummy.next\n",
    "            prev = head.val\n",
    "            head = head.next\n",
    "        return root.next"
   ]
  },
  {
   "cell_type": "code",
   "execution_count": null,
   "metadata": {},
   "outputs": [],
   "source": []
  },
  {
   "cell_type": "code",
   "execution_count": null,
   "metadata": {},
   "outputs": [],
   "source": [
    "# Definition for singly-linked list.\n",
    "# class ListNode:\n",
    "#     def __init__(self, val=0, next=None):\n",
    "#         self.val = val\n",
    "#         self.next = next\n",
    "\n",
    "class Solution:\n",
    "    def deleteDuplicates(self, head: ListNode) -> ListNode:\n",
    "        if not head:\n",
    "            return head\n",
    "        \n",
    "        dummy = res = ListNode()\n",
    "        root = head\n",
    "        pre = None\n",
    "        while root:\n",
    "            if pre and root.val == pre.val:\n",
    "                # 如果当前 node 和前一个 node 的值是相同的，那么就持续遍历\n",
    "                while root and root.val == pre.val:\n",
    "                    pre = root\n",
    "                    root = root.next\n",
    "            else:\n",
    "                if pre:\n",
    "                    dummy.next = ListNode(pre.val)\n",
    "                    dummy = dummy.next\n",
    "            \n",
    "            pre = root\n",
    "            if root:\n",
    "                root = root.next  \n",
    "        if pre and pre.val != dummy.val:\n",
    "            dummy.next = ListNode(pre.val)\n",
    "        return res.next"
   ]
  }
 ],
 "metadata": {
  "kernelspec": {
   "display_name": "Python 3",
   "language": "python",
   "name": "python3"
  },
  "language_info": {
   "codemirror_mode": {
    "name": "ipython",
    "version": 3
   },
   "file_extension": ".py",
   "mimetype": "text/x-python",
   "name": "python",
   "nbconvert_exporter": "python",
   "pygments_lexer": "ipython3",
   "version": "3.6.2"
  }
 },
 "nbformat": 4,
 "nbformat_minor": 4
}
