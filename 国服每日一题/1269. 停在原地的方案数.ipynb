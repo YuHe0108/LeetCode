{
 "cells": [
  {
   "cell_type": "code",
   "execution_count": null,
   "metadata": {},
   "outputs": [],
   "source": []
  },
  {
   "cell_type": "code",
   "execution_count": null,
   "metadata": {},
   "outputs": [],
   "source": []
  },
  {
   "cell_type": "code",
   "execution_count": null,
   "metadata": {},
   "outputs": [],
   "source": []
  },
  {
   "cell_type": "code",
   "execution_count": null,
   "metadata": {},
   "outputs": [],
   "source": [
    "\n",
    "class Solution:\n",
    "    def numWays(self, steps: int, arrLen: int) -> int:\n",
    "        \n",
    "        mod = pow(10, 9) + 7\n",
    "        n = min(steps // 2 + 1, arrLen)\n",
    "        dp = [[0] * (n)  for _ in range(steps+1)]\n",
    "        dp[0][0] = 1\n",
    "        \n",
    "        for i in range(1, steps+1):\n",
    "            min_idx = min(i, n-1)\n",
    "            for j in range(min_idx + 1):\n",
    "                if j == 0:\n",
    "                    dp[i][j] = dp[i-1][j] + dp[i-1][j+1]\n",
    "                elif j == min_idx:\n",
    "                    dp[i][j] = dp[i-1][j-1] + dp[i-1][j]\n",
    "                else:\n",
    "                    dp[i][j] = dp[i-1][j-1] + dp[i-1][j] + dp[i-1][j+1]\n",
    "        return dp[-1][0] % mod"
   ]
  },
  {
   "cell_type": "code",
   "execution_count": 13,
   "metadata": {},
   "outputs": [],
   "source": [
    "\n",
    "class Solution:\n",
    "    def numWays(self, steps: int, arrLen: int) -> int:\n",
    "        \n",
    "        mod = pow(10, 9) + 7\n",
    "        n = min(steps // 2 + 1, arrLen)\n",
    "        dp = [[0] * (n)  for _ in range(steps+1)]\n",
    "        dp[0][0] = 1\n",
    "        \n",
    "        for i in range(1, steps+1):\n",
    "            min_idx = min(i, n-1)\n",
    "            for j in range(min_idx + 1):\n",
    "                if j == 0:\n",
    "                    dp[i][j] = dp[i-1][j] + dp[i-1][j+1]\n",
    "                elif j == min_idx:\n",
    "                    dp[i][j] = dp[i-1][j-1] + dp[i-1][j]\n",
    "                else:\n",
    "                    dp[i][j] = dp[i-1][j-1] + dp[i-1][j] + dp[i-1][j+1]\n",
    "        return dp[-1][0] % mod"
   ]
  },
  {
   "cell_type": "code",
   "execution_count": 14,
   "metadata": {},
   "outputs": [
    {
     "data": {
      "text/plain": [
       "4"
      ]
     },
     "execution_count": 14,
     "metadata": {},
     "output_type": "execute_result"
    }
   ],
   "source": [
    "solution = Solution()\n",
    "solution.numWays(3, 3)"
   ]
  },
  {
   "cell_type": "raw",
   "metadata": {},
   "source": [
    " [1, 0, 0], \n",
    " [1, 1, 0], \n",
    " [2, 3, 1], \n",
    " [5, 8, 4]"
   ]
  }
 ],
 "metadata": {
  "kernelspec": {
   "display_name": "Python 3",
   "language": "python",
   "name": "python3"
  },
  "language_info": {
   "codemirror_mode": {
    "name": "ipython",
    "version": 3
   },
   "file_extension": ".py",
   "mimetype": "text/x-python",
   "name": "python",
   "nbconvert_exporter": "python",
   "pygments_lexer": "ipython3",
   "version": "3.6.2"
  }
 },
 "nbformat": 4,
 "nbformat_minor": 4
}
