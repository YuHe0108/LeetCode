{
 "cells": [
  {
   "cell_type": "code",
   "execution_count": 7,
   "metadata": {},
   "outputs": [
    {
     "name": "stdout",
     "output_type": "stream",
     "text": [
      "a bcd\n",
      "ab cd\n",
      "abc d\n"
     ]
    }
   ],
   "source": [
    "a = 'abcd'\n",
    "for i in range(1, len(a)):\n",
    "    print(a[:i], a[i:])"
   ]
  },
  {
   "cell_type": "code",
   "execution_count": null,
   "metadata": {},
   "outputs": [],
   "source": []
  },
  {
   "cell_type": "code",
   "execution_count": null,
   "metadata": {},
   "outputs": [],
   "source": []
  },
  {
   "cell_type": "code",
   "execution_count": 8,
   "metadata": {},
   "outputs": [],
   "source": [
    "from typing import List\n",
    "\n",
    "class Solution:\n",
    "    def partition(self, s: str) -> List[List[str]]:\n",
    "        n = len(s)\n",
    "        # dp[i][j]记录了 s[i:j+1] 是否可以构成回文数\n",
    "        dp = [[False] * n for _ in range(n)]\n",
    "        for i in range(n):\n",
    "            dp[i][i] = True\n",
    "        for i in range(n-1):\n",
    "            if s[i] == s[i+1]:\n",
    "                dp[i][i+1] = True\n",
    "        for gap in range(3, n+1):\n",
    "            for start in range(n-gap+1):\n",
    "                end = start+gap-1\n",
    "                if s[start] == s[end]:\n",
    "                    dp[start][end] = dp[start+1][end-1]\n",
    "        \n",
    "        def backTracking(start, path):\n",
    "            if start == n:\n",
    "                ans.append(path[:])\n",
    "                return \n",
    "            \n",
    "            cur_str = ''\n",
    "            for i in range(start, n):\n",
    "                cur_str += s[i]\n",
    "                if dp[start][i]:\n",
    "                    path.append(cur_str)\n",
    "                    backTracking(i+1, path)\n",
    "                    path.pop()\n",
    "        ans = []\n",
    "        backTracking(0, [])\n",
    "        return ans"
   ]
  },
  {
   "cell_type": "code",
   "execution_count": 9,
   "metadata": {},
   "outputs": [
    {
     "name": "stdout",
     "output_type": "stream",
     "text": [
      "a\n",
      "b\n",
      "a\n",
      "ba\n",
      "ab\n",
      "aba\n"
     ]
    },
    {
     "data": {
      "text/plain": [
       "[['a', 'b', 'a'], ['aba']]"
      ]
     },
     "execution_count": 9,
     "metadata": {},
     "output_type": "execute_result"
    }
   ],
   "source": [
    "solution = Solution()\n",
    "solution.partition(\"aba\")"
   ]
  },
  {
   "cell_type": "code",
   "execution_count": 8,
   "metadata": {},
   "outputs": [
    {
     "name": "stdout",
     "output_type": "stream",
     "text": [
      "[1, 2]\n"
     ]
    }
   ],
   "source": [
    "a = [1, 2]\n",
    "print(a[::])"
   ]
  },
  {
   "cell_type": "code",
   "execution_count": null,
   "metadata": {},
   "outputs": [],
   "source": []
  }
 ],
 "metadata": {
  "kernelspec": {
   "display_name": "Python 3",
   "language": "python",
   "name": "python3"
  },
  "language_info": {
   "codemirror_mode": {
    "name": "ipython",
    "version": 3
   },
   "file_extension": ".py",
   "mimetype": "text/x-python",
   "name": "python",
   "nbconvert_exporter": "python",
   "pygments_lexer": "ipython3",
   "version": "3.6.2"
  }
 },
 "nbformat": 4,
 "nbformat_minor": 4
}
