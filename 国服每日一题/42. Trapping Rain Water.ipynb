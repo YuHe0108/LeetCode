{
 "cells": [
  {
   "cell_type": "code",
   "execution_count": null,
   "metadata": {},
   "outputs": [],
   "source": []
  },
  {
   "cell_type": "code",
   "execution_count": null,
   "metadata": {},
   "outputs": [],
   "source": []
  },
  {
   "cell_type": "code",
   "execution_count": null,
   "metadata": {},
   "outputs": [],
   "source": []
  },
  {
   "cell_type": "code",
   "execution_count": 16,
   "metadata": {},
   "outputs": [],
   "source": [
    "from typing import List\n",
    "\n",
    "# two pass 的方式\n",
    "class Solution:\n",
    "    def trap(self, height: List[int]) -> int:\n",
    "        # 寻找每个 bar 左边的最高值，和右边的最高值，取两者之间的较小值\n",
    "        if not height:\n",
    "            return 0\n",
    "        ans = 0\n",
    "        # 各个 bar 左边的最大值是多少\n",
    "        left = [x for x in height]\n",
    "        for i, h in enumerate(height):\n",
    "            if i == 0:\n",
    "                continue\n",
    "            left[i] = max(left[i-1], h)\n",
    "        \n",
    "        # 各个 bar 右边的最大值是多少\n",
    "        right = [x for x in height[::-1]]\n",
    "        for i, h in enumerate(height[::-1]):\n",
    "            if i == 0:\n",
    "                continue\n",
    "            right[i] = max(right[i-1], h)\n",
    "        right = right[::-1]\n",
    "        \n",
    "        # 左右之间取较小值，并与当前高度进行比较\n",
    "        for i, h in enumerate(height):\n",
    "            l_max, r_max = left[i], right[i]\n",
    "            min_h = min(l_max, r_max) # 取二者之间的较小值\n",
    "            if min_h > h:\n",
    "                ans += min_h - h\n",
    "        return ans"
   ]
  },
  {
   "cell_type": "code",
   "execution_count": null,
   "metadata": {},
   "outputs": [],
   "source": []
  },
  {
   "cell_type": "code",
   "execution_count": null,
   "metadata": {},
   "outputs": [],
   "source": []
  },
  {
   "cell_type": "code",
   "execution_count": null,
   "metadata": {},
   "outputs": [],
   "source": []
  },
  {
   "cell_type": "code",
   "execution_count": 37,
   "metadata": {},
   "outputs": [],
   "source": [
    "from typing import List\n",
    "\n",
    "class Solution:\n",
    "    def trap(self, height: List[int]) -> int:\n",
    "        # 单调栈的做法、递减栈\n",
    "        stack = []\n",
    "        ans = 0\n",
    "        for i, h in enumerate(height):\n",
    "            while stack and h > height[stack[-1]]:\n",
    "                h_idx = stack.pop() # 当前 bar 的高度\n",
    "                if stack:\n",
    "                    # 从前一个 bar 和 h 选择一个较小值\n",
    "                    cur_h = min(h, height[stack[-1]]) \n",
    "                    w = i - stack[-1] - 1 # 宽度\n",
    "                    ans += (cur_h - height[h_idx]) * w\n",
    "            stack.append(i)\n",
    "        return ans"
   ]
  },
  {
   "cell_type": "code",
   "execution_count": 38,
   "metadata": {},
   "outputs": [
    {
     "data": {
      "text/plain": [
       "6"
      ]
     },
     "execution_count": 38,
     "metadata": {},
     "output_type": "execute_result"
    }
   ],
   "source": [
    "solution = Solution()\n",
    "solution.trap([0,1,0,2,1,0,1,3,2,1,2,1])"
   ]
  },
  {
   "cell_type": "code",
   "execution_count": null,
   "metadata": {},
   "outputs": [],
   "source": []
  }
 ],
 "metadata": {
  "kernelspec": {
   "display_name": "Python 3",
   "language": "python",
   "name": "python3"
  },
  "language_info": {
   "codemirror_mode": {
    "name": "ipython",
    "version": 3
   },
   "file_extension": ".py",
   "mimetype": "text/x-python",
   "name": "python",
   "nbconvert_exporter": "python",
   "pygments_lexer": "ipython3",
   "version": "3.6.2"
  }
 },
 "nbformat": 4,
 "nbformat_minor": 4
}
