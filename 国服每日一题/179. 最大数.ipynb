{
 "cells": [
  {
   "cell_type": "code",
   "execution_count": null,
   "metadata": {},
   "outputs": [],
   "source": []
  },
  {
   "cell_type": "code",
   "execution_count": null,
   "metadata": {},
   "outputs": [],
   "source": []
  },
  {
   "cell_type": "code",
   "execution_count": 67,
   "metadata": {},
   "outputs": [],
   "source": [
    "from typing import List\n",
    "from functools import cmp_to_key\n",
    "\n",
    "class Solution:\n",
    "    def largestNumber(self, nums: List[int]) -> str:\n",
    "        \n",
    "        def compare(x, y):\n",
    "            if x == y: # 相同返回为 0\n",
    "                return 0\n",
    "            nx, ny = len(x), len(y)\n",
    "            for i in range(min(nx, ny)):\n",
    "                if x[i] > y[i]:\n",
    "                    return -1 # -1, x[i] 排在前面, 不调换\n",
    "                if x[i] < y[i]: # 调换\n",
    "                    return 1\n",
    "            if ny > nx:\n",
    "                v1 = y[i+1:] + x # y在前面\n",
    "                v2 = x + y[i+1:]\n",
    "                if int(v1) > int(v2): # y在前面数值比较大\n",
    "                    return 1\n",
    "                return -1\n",
    "            else:\n",
    "                v1 = x[i+1:] + y\n",
    "                v2 = y + x[i+1:]\n",
    "                if int(v1) > int(v2):\n",
    "                    return -1\n",
    "                return 1\n",
    "        \n",
    "        s_nums = [str(x) for x in nums]\n",
    "        s_nums = sorted(s_nums, key=cmp_to_key(compare))\n",
    "        idx = 0\n",
    "        print(s_nums)\n",
    "        while idx+1 < len(s_nums) and s_nums[idx] == s_nums[idx+1] == '0':\n",
    "            idx += 1\n",
    "        return ''.join(s_nums[idx:])"
   ]
  },
  {
   "cell_type": "code",
   "execution_count": null,
   "metadata": {},
   "outputs": [],
   "source": []
  },
  {
   "cell_type": "code",
   "execution_count": null,
   "metadata": {},
   "outputs": [],
   "source": []
  },
  {
   "cell_type": "code",
   "execution_count": 79,
   "metadata": {},
   "outputs": [],
   "source": [
    "from typing import List\n",
    "from functools import cmp_to_key\n",
    "\n",
    "class Solution:\n",
    "    def largestNumber(self, nums: List[int]) -> str:\n",
    "        \n",
    "        def compare(x, y):\n",
    "            if x == y: # 相同返回为 0\n",
    "                return 0\n",
    "            if x+y > y+x: # 如果是逆序排列，大的值返回 -1，否则返回 1\n",
    "                return -1\n",
    "            return 1\n",
    "        \n",
    "        s_nums = [str(x) for x in nums]\n",
    "        s_nums = sorted(s_nums, key=cmp_to_key(compare))\n",
    "        idx = 0\n",
    "        print(s_nums)\n",
    "        while idx+1 < len(s_nums) and s_nums[idx] == s_nums[idx+1] == '0':\n",
    "            idx += 1\n",
    "        return ''.join(s_nums[idx:])"
   ]
  },
  {
   "cell_type": "code",
   "execution_count": 80,
   "metadata": {},
   "outputs": [
    {
     "name": "stdout",
     "output_type": "stream",
     "text": [
      "['9', '5', '34', '3', '30']\n"
     ]
    },
    {
     "data": {
      "text/plain": [
       "'9534330'"
      ]
     },
     "execution_count": 80,
     "metadata": {},
     "output_type": "execute_result"
    }
   ],
   "source": [
    "solution = Solution()\n",
    "solution.largestNumber(nums = [3,30,34,5,9])"
   ]
  },
  {
   "cell_type": "code",
   "execution_count": null,
   "metadata": {},
   "outputs": [],
   "source": []
  }
 ],
 "metadata": {
  "kernelspec": {
   "display_name": "Python 3",
   "language": "python",
   "name": "python3"
  },
  "language_info": {
   "codemirror_mode": {
    "name": "ipython",
    "version": 3
   },
   "file_extension": ".py",
   "mimetype": "text/x-python",
   "name": "python",
   "nbconvert_exporter": "python",
   "pygments_lexer": "ipython3",
   "version": "3.6.2"
  }
 },
 "nbformat": 4,
 "nbformat_minor": 4
}
