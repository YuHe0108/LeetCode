{
 "cells": [
  {
   "cell_type": "code",
   "execution_count": null,
   "metadata": {},
   "outputs": [],
   "source": []
  },
  {
   "cell_type": "code",
   "execution_count": null,
   "metadata": {},
   "outputs": [],
   "source": []
  },
  {
   "cell_type": "raw",
   "metadata": {},
   "source": [
    "由比较两个数出现的次数是否相同，转换为差值 "
   ]
  },
  {
   "cell_type": "code",
   "execution_count": 1,
   "metadata": {},
   "outputs": [],
   "source": [
    "from typing import List\n",
    "\n",
    "class Solution:\n",
    "    def findMaxLength(self, nums: List[int]) -> int:\n",
    "        precount = [0]\n",
    "        for v in nums:\n",
    "            if v == 1:\n",
    "                precount.append(precount[-1] + 1)\n",
    "            else:\n",
    "                precount.append(precount[-1] - 1)\n",
    "        \n",
    "        ans = 0\n",
    "        count = {0: 0}\n",
    "        nums.insert(0, 0)\n",
    "        for i, v in enumerate(precount):\n",
    "            if v in count:\n",
    "                ans = max(ans, i - count[val])\n",
    "            else:\n",
    "                count[val] = i\n",
    "        return ans"
   ]
  },
  {
   "cell_type": "code",
   "execution_count": null,
   "metadata": {},
   "outputs": [],
   "source": []
  }
 ],
 "metadata": {
  "kernelspec": {
   "display_name": "Python 3",
   "language": "python",
   "name": "python3"
  },
  "language_info": {
   "codemirror_mode": {
    "name": "ipython",
    "version": 3
   },
   "file_extension": ".py",
   "mimetype": "text/x-python",
   "name": "python",
   "nbconvert_exporter": "python",
   "pygments_lexer": "ipython3",
   "version": "3.6.2"
  }
 },
 "nbformat": 4,
 "nbformat_minor": 4
}
