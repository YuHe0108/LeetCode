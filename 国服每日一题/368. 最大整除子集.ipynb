{
 "cells": [
  {
   "cell_type": "code",
   "execution_count": null,
   "metadata": {},
   "outputs": [],
   "source": []
  },
  {
   "cell_type": "code",
   "execution_count": 6,
   "metadata": {},
   "outputs": [
    {
     "data": {
      "text/plain": [
       "1"
      ]
     },
     "execution_count": 6,
     "metadata": {},
     "output_type": "execute_result"
    }
   ],
   "source": [
    "1 % 2"
   ]
  },
  {
   "cell_type": "code",
   "execution_count": null,
   "metadata": {},
   "outputs": [],
   "source": []
  },
  {
   "cell_type": "code",
   "execution_count": null,
   "metadata": {},
   "outputs": [],
   "source": []
  },
  {
   "cell_type": "code",
   "execution_count": 44,
   "metadata": {},
   "outputs": [],
   "source": [
    "from typing import List\n",
    "\n",
    "class Solution:\n",
    "    def largestDivisibleSubset(self, nums: List[int]) -> List[int]:\n",
    "        nums.sort()\n",
    "        n = len(nums)\n",
    "        dp = [1] * n\n",
    "        res = [[] for _ in range(n)]\n",
    "        for i in range(n):\n",
    "            res[i].append(nums[i])\n",
    "        \n",
    "        max_len = 1 # 最长子集的长度\n",
    "        for i in range(1, n):\n",
    "            cur = 0\n",
    "            cur_idx = None\n",
    "            for j in range(i-1, -1, -1): # 对于 nums[i], 在 idx=i, 之前有多少数字可以被nums[i]整除\n",
    "                if nums[i] % nums[j] == 0:\n",
    "                    if dp[j] > cur:\n",
    "                        cur = dp[j]\n",
    "                        cur_idx = j\n",
    "                        dp[i] = dp[j] + 1\n",
    "                        \n",
    "            if cur_idx is not None:    \n",
    "                max_len = max(max_len, dp[i])\n",
    "                res[i] += res[cur_idx]\n",
    "        for v in  res:\n",
    "            if len(v) == max_len:\n",
    "                return v[::-1]\n",
    "        return [nums[0]]"
   ]
  },
  {
   "cell_type": "code",
   "execution_count": null,
   "metadata": {},
   "outputs": [],
   "source": []
  },
  {
   "cell_type": "code",
   "execution_count": null,
   "metadata": {},
   "outputs": [],
   "source": []
  },
  {
   "cell_type": "code",
   "execution_count": 46,
   "metadata": {},
   "outputs": [],
   "source": [
    "from typing import List\n",
    "\n",
    "class Solution:\n",
    "    def largestDivisibleSubset(self, nums: List[int]) -> List[int]:\n",
    "        # 记录每个最佳值的 idx\n",
    "        nums.sort()\n",
    "        n = len(nums)\n",
    "        perfect = [x for x in range(n)] # 每个位置的最佳值在哪里\n",
    "        dp = [1] * n\n",
    "        max_len = 1\n",
    "        max_idx = 0 # 长度最大的 idx 从哪里开始\n",
    "        \n",
    "        for i in range(1, n):\n",
    "            for j in range(i):\n",
    "                if nums[i] % nums[j] == 0 and dp[j]+1 > dp[i]:\n",
    "                    dp[i] = dp[j] + 1\n",
    "                    perfect[i] = j # 记录最佳值\n",
    "                    if dp[i] > max_len:\n",
    "                        max_len = dp[i]\n",
    "                        max_idx = i\n",
    "        \n",
    "        res = []\n",
    "        for i in range(max_len):\n",
    "            res.append(nums[max_idx])\n",
    "            max_idx = perfect[max_idx] # 反向寻找\n",
    "        return res[::-1]"
   ]
  },
  {
   "cell_type": "code",
   "execution_count": 47,
   "metadata": {},
   "outputs": [
    {
     "data": {
      "text/plain": [
       "[4, 8, 240]"
      ]
     },
     "execution_count": 47,
     "metadata": {},
     "output_type": "execute_result"
    }
   ],
   "source": [
    "solution = Solution()\n",
    "solution.largestDivisibleSubset(nums = [4,8,10,240])"
   ]
  },
  {
   "cell_type": "code",
   "execution_count": null,
   "metadata": {},
   "outputs": [],
   "source": []
  }
 ],
 "metadata": {
  "kernelspec": {
   "display_name": "Python 3",
   "language": "python",
   "name": "python3"
  },
  "language_info": {
   "codemirror_mode": {
    "name": "ipython",
    "version": 3
   },
   "file_extension": ".py",
   "mimetype": "text/x-python",
   "name": "python",
   "nbconvert_exporter": "python",
   "pygments_lexer": "ipython3",
   "version": "3.6.2"
  }
 },
 "nbformat": 4,
 "nbformat_minor": 4
}
