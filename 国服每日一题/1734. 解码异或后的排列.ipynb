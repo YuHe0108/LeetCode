{
 "cells": [
  {
   "cell_type": "code",
   "execution_count": null,
   "metadata": {},
   "outputs": [],
   "source": []
  },
  {
   "cell_type": "code",
   "execution_count": null,
   "metadata": {},
   "outputs": [],
   "source": []
  },
  {
   "cell_type": "code",
   "execution_count": null,
   "metadata": {},
   "outputs": [],
   "source": []
  },
  {
   "cell_type": "code",
   "execution_count": 61,
   "metadata": {},
   "outputs": [],
   "source": [
    "from typing import List\n",
    "\n",
    "class Solution:\n",
    "    def decode(self, encoded: List[int]) -> List[int]:\n",
    "        mid = 0\n",
    "        for v in encoded:\n",
    "            mid ^= v\n",
    "        \n",
    "        n = len(encoded)\n",
    "        res = [0] * (n+1)\n",
    "        res[n // 2] = mid\n",
    "        \n",
    "        for i in range(n//2, n):\n",
    "            res[i+1] = encoded[i] ^ res[i]\n",
    "        \n",
    "        for i in range(n//2, 0, -1):\n",
    "            res[i-1] = encoded[i-1] ^ res[i]\n",
    "        return res"
   ]
  },
  {
   "cell_type": "code",
   "execution_count": null,
   "metadata": {},
   "outputs": [],
   "source": []
  },
  {
   "cell_type": "code",
   "execution_count": 94,
   "metadata": {},
   "outputs": [],
   "source": [
    "from typing import List\n",
    "\n",
    "class Solution:\n",
    "    def decode(self, encoded: List[int]) -> List[int]:\n",
    "        n = len(encoded)\n",
    "        # 重要的条件，res是 1-n 之间的排列组合\n",
    "        val = 0\n",
    "        for i in range(1, n+2):\n",
    "            val ^= i\n",
    "        \n",
    "        res = [0] * (n+1)\n",
    "        last = 0 # 除了第一个元素之外的异或值\n",
    "        for i in range(1, n, 2):\n",
    "            last ^= encoded[i]\n",
    "        \n",
    "        fir = val ^ last\n",
    "        res[0] = fir\n",
    "        for i in range(1, n+1):\n",
    "            res[i] = encoded[i-1] ^ res[i-1]\n",
    "        return res"
   ]
  },
  {
   "cell_type": "code",
   "execution_count": 95,
   "metadata": {},
   "outputs": [
    {
     "data": {
      "text/plain": [
       "[6, 1, 4, 2, 9, 7, 8, 3, 5]"
      ]
     },
     "execution_count": 95,
     "metadata": {},
     "output_type": "execute_result"
    }
   ],
   "source": [
    "solution = Solution()\n",
    "solution.decode(encoded = [7,5,6,11,14,15,11,6])"
   ]
  },
  {
   "cell_type": "code",
   "execution_count": 7,
   "metadata": {},
   "outputs": [
    {
     "data": {
      "text/plain": [
       "1"
      ]
     },
     "execution_count": 7,
     "metadata": {},
     "output_type": "execute_result"
    }
   ],
   "source": [
    "6^5^4^6"
   ]
  },
  {
   "cell_type": "code",
   "execution_count": 63,
   "metadata": {},
   "outputs": [
    {
     "data": {
      "text/plain": [
       "3"
      ]
     },
     "execution_count": 63,
     "metadata": {},
     "output_type": "execute_result"
    }
   ],
   "source": [
    "6^5"
   ]
  },
  {
   "cell_type": "code",
   "execution_count": null,
   "metadata": {},
   "outputs": [],
   "source": []
  }
 ],
 "metadata": {
  "kernelspec": {
   "display_name": "Python 3",
   "language": "python",
   "name": "python3"
  },
  "language_info": {
   "codemirror_mode": {
    "name": "ipython",
    "version": 3
   },
   "file_extension": ".py",
   "mimetype": "text/x-python",
   "name": "python",
   "nbconvert_exporter": "python",
   "pygments_lexer": "ipython3",
   "version": "3.6.2"
  }
 },
 "nbformat": 4,
 "nbformat_minor": 4
}
