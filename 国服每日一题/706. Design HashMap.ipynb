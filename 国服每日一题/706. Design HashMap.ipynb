{
 "cells": [
  {
   "cell_type": "code",
   "execution_count": null,
   "metadata": {},
   "outputs": [],
   "source": []
  },
  {
   "cell_type": "code",
   "execution_count": null,
   "metadata": {},
   "outputs": [],
   "source": []
  },
  {
   "cell_type": "code",
   "execution_count": null,
   "metadata": {},
   "outputs": [],
   "source": []
  },
  {
   "cell_type": "code",
   "execution_count": null,
   "metadata": {},
   "outputs": [],
   "source": []
  },
  {
   "cell_type": "code",
   "execution_count": null,
   "metadata": {},
   "outputs": [],
   "source": [
    "# 使用链表来存储数据\n",
    "class Node:\n",
    "    def __init__(self, key, value, nxt=None):\n",
    "        self.key = key # 存储了键值对\n",
    "        self.value = value\n",
    "        self.nxt = nxt\n",
    "\n",
    "class MyHashMap:\n",
    "    def __init__(self):\n",
    "        self.size = 1000 # 定义map的总长度\n",
    "        self.hash_map = [None] * self.size\n",
    "    \n",
    "    def _hash(self, key): # 获取 key hash化之后的值，这个值是唯一的\n",
    "        return hash(key) % self.size \n",
    "\n",
    "    def put(self, key: int, value: int) -> None:\n",
    "        hash_key = self._hash(key) # 获得 key 的哈希值\n",
    "        if self.hash_map[hash_key] is None:\n",
    "            self.hash_map[hash_key] = Node(key, value)\n",
    "        else:\n",
    "            prev_node = None\n",
    "            cur_node = self.hash_map[hash_key] \n",
    "            while cur_node:\n",
    "                if cur_node.key == key: # 更新值\n",
    "                    cur_node.value = value\n",
    "                    return\n",
    "                prev_node = cur_node\n",
    "                cur_node = cur_node.nxt\n",
    "            prev_node.nxt = Node(key, value) # 将当前的值拼接在链表的最后\n",
    "            \n",
    "    def get(self, key: int) -> int:\n",
    "        hash_key = self._hash(key) # 获得 key 的哈希值\n",
    "        if self.hash_map[hash_key] is None:\n",
    "            return -1\n",
    "        cur_node = self.hash_map[hash_key]\n",
    "        while cur_node:\n",
    "            if cur_node.key == key:\n",
    "                return cur_node.value\n",
    "            cur_node = cur_node.nxt\n",
    "        return -1\n",
    "        \n",
    "    def remove(self, key: int) -> None:\n",
    "        hash_key = self._hash(key) # 获得 key 的哈希值\n",
    "        if self.hash_map[hash_key]:\n",
    "            prev_node = None\n",
    "            cur_node = self.hash_map[hash_key]\n",
    "            while cur_node:\n",
    "                if cur_node.key == key:\n",
    "                    if prev_node:\n",
    "                        prev_node.nxt = cur_node.nxt\n",
    "                    else:\n",
    "                        self.hash_map[hash_key] = cur_node.nxt\n",
    "                prev_node = cur_node\n",
    "                cur_node = cur_node.nxt"
   ]
  }
 ],
 "metadata": {
  "kernelspec": {
   "display_name": "Python 3",
   "language": "python",
   "name": "python3"
  },
  "language_info": {
   "codemirror_mode": {
    "name": "ipython",
    "version": 3
   },
   "file_extension": ".py",
   "mimetype": "text/x-python",
   "name": "python",
   "nbconvert_exporter": "python",
   "pygments_lexer": "ipython3",
   "version": "3.6.2"
  }
 },
 "nbformat": 4,
 "nbformat_minor": 4
}
