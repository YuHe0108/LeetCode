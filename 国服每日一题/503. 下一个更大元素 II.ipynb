{
 "cells": [
  {
   "cell_type": "code",
   "execution_count": null,
   "metadata": {},
   "outputs": [],
   "source": []
  },
  {
   "cell_type": "code",
   "execution_count": null,
   "metadata": {},
   "outputs": [],
   "source": []
  },
  {
   "cell_type": "code",
   "execution_count": null,
   "metadata": {},
   "outputs": [],
   "source": []
  },
  {
   "cell_type": "code",
   "execution_count": 1,
   "metadata": {},
   "outputs": [],
   "source": [
    "from typing import List\n",
    "\n",
    "class Solution:\n",
    "    def nextGreaterElements(self, nums: List[int]) -> List[int]:\n",
    "        n = len(nums)\n",
    "        res = [-1] * n\n",
    "        stack = []\n",
    "        for i, v in enumerate(nums):\n",
    "            if stack and v > stack[-1][1]:\n",
    "                while stack and v > stack[-1][1]:\n",
    "                    pre_idx, pre_v = stack.pop()\n",
    "                    res[pre_idx] = v\n",
    "            stack.append((i, v))\n",
    "        \n",
    "        while stack:\n",
    "            idx, v = stack.pop()\n",
    "            if stack:\n",
    "                for i in range(stack[0][0]+1):\n",
    "                    if nums[i] > v:\n",
    "                        res[idx] = nums[i]\n",
    "                        break\n",
    "        return res"
   ]
  },
  {
   "cell_type": "code",
   "execution_count": null,
   "metadata": {},
   "outputs": [],
   "source": []
  }
 ],
 "metadata": {
  "kernelspec": {
   "display_name": "Python 3",
   "language": "python",
   "name": "python3"
  },
  "language_info": {
   "codemirror_mode": {
    "name": "ipython",
    "version": 3
   },
   "file_extension": ".py",
   "mimetype": "text/x-python",
   "name": "python",
   "nbconvert_exporter": "python",
   "pygments_lexer": "ipython3",
   "version": "3.6.2"
  }
 },
 "nbformat": 4,
 "nbformat_minor": 4
}
