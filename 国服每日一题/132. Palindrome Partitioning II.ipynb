{
 "cells": [
  {
   "cell_type": "code",
   "execution_count": null,
   "metadata": {},
   "outputs": [],
   "source": []
  },
  {
   "cell_type": "code",
   "execution_count": null,
   "metadata": {},
   "outputs": [],
   "source": []
  },
  {
   "cell_type": "code",
   "execution_count": null,
   "metadata": {},
   "outputs": [],
   "source": []
  },
  {
   "cell_type": "code",
   "execution_count": null,
   "metadata": {},
   "outputs": [],
   "source": []
  },
  {
   "cell_type": "code",
   "execution_count": null,
   "metadata": {},
   "outputs": [],
   "source": []
  },
  {
   "cell_type": "code",
   "execution_count": 81,
   "metadata": {},
   "outputs": [],
   "source": [
    "class Solution:\n",
    "    def minCut(self, s: str) -> int:\n",
    "        n = len(s)\n",
    "        # dp[i][j] 用于判断  s[i:j+1] 之间是否是回文数\n",
    "        dp = [[False] * n for _ in range(n)]\n",
    "        for i in range(n):\n",
    "            dp[i][i] = True\n",
    "        for i in range(n-1):\n",
    "            if s[i] == s[i+1]:\n",
    "                dp[i][i+1] = True\n",
    "        for gap in range(3, n+1):\n",
    "            for start in range(n-gap+1):\n",
    "                end = start + gap-1\n",
    "                if s[start] == s[end]:\n",
    "                    dp[start][end] = dp[start+1][end-1]\n",
    "                    \n",
    "        # dp[i] 表示 s[:i+1] 为止，最少需要切多少刀可以分割每部分都是回文字符串\n",
    "        dp2 = [float('inf')] * n\n",
    "        dp2[0] = 0 # 表示只有一个字符的时候，不用切\n",
    "        for i in range(1, n):\n",
    "            for j in range(i+1):\n",
    "                # 就算 s[i] 和之前的字符都构不成回文，那么s[i] 自己也可以构成回文字符\n",
    "                if dp[j][i]:\n",
    "                    if j == 0:\n",
    "                        dp2[i] = 0\n",
    "                    else:\n",
    "                        dp2[i] = min(dp2[i], dp2[j-1] + 1)\n",
    "        return dp2[-1]"
   ]
  },
  {
   "cell_type": "code",
   "execution_count": 82,
   "metadata": {},
   "outputs": [
    {
     "data": {
      "text/plain": [
       "0"
      ]
     },
     "execution_count": 82,
     "metadata": {},
     "output_type": "execute_result"
    }
   ],
   "source": [
    "solution = Solution()\n",
    "solution.minCut(s = \"bb\")"
   ]
  },
  {
   "cell_type": "code",
   "execution_count": null,
   "metadata": {},
   "outputs": [],
   "source": [
    "#aab"
   ]
  }
 ],
 "metadata": {
  "kernelspec": {
   "display_name": "Python 3",
   "language": "python",
   "name": "python3"
  },
  "language_info": {
   "codemirror_mode": {
    "name": "ipython",
    "version": 3
   },
   "file_extension": ".py",
   "mimetype": "text/x-python",
   "name": "python",
   "nbconvert_exporter": "python",
   "pygments_lexer": "ipython3",
   "version": "3.6.2"
  }
 },
 "nbformat": 4,
 "nbformat_minor": 4
}
