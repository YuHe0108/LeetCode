{
 "cells": [
  {
   "cell_type": "code",
   "execution_count": null,
   "metadata": {},
   "outputs": [],
   "source": []
  },
  {
   "cell_type": "code",
   "execution_count": null,
   "metadata": {},
   "outputs": [],
   "source": []
  },
  {
   "cell_type": "code",
   "execution_count": null,
   "metadata": {},
   "outputs": [],
   "source": []
  },
  {
   "cell_type": "code",
   "execution_count": null,
   "metadata": {},
   "outputs": [],
   "source": [
    "class Solution:\n",
    "    def swapNodes(self, head: ListNode, k: int) -> ListNode:\n",
    "        n = 0 # ListNode中节点 总的数量\n",
    "        node = head\n",
    "        while node:\n",
    "            node = node.next\n",
    "            n += 1\n",
    "        \n",
    "        # 第k 个节点\n",
    "        node = head\n",
    "        for i in range(1, k):\n",
    "            node = node.next\n",
    "        \n",
    "        # 倒数第 k 个节点的值，正着数是第几个\n",
    "        node2 = head\n",
    "        for i in range(1,n-k+1):\n",
    "            node2 = node2.next\n",
    "        \n",
    "        node.val, node2.val = node2.val, node.val\n",
    "        return head"
   ]
  }
 ],
 "metadata": {
  "kernelspec": {
   "display_name": "Python 3",
   "language": "python",
   "name": "python3"
  },
  "language_info": {
   "codemirror_mode": {
    "name": "ipython",
    "version": 3
   },
   "file_extension": ".py",
   "mimetype": "text/x-python",
   "name": "python",
   "nbconvert_exporter": "python",
   "pygments_lexer": "ipython3",
   "version": "3.6.2"
  }
 },
 "nbformat": 4,
 "nbformat_minor": 4
}
