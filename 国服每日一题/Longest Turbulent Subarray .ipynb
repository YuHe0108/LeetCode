{
 "cells": [
  {
   "cell_type": "code",
   "execution_count": null,
   "metadata": {},
   "outputs": [],
   "source": []
  },
  {
   "cell_type": "code",
   "execution_count": null,
   "metadata": {},
   "outputs": [],
   "source": []
  },
  {
   "cell_type": "code",
   "execution_count": null,
   "metadata": {},
   "outputs": [],
   "source": []
  },
  {
   "cell_type": "code",
   "execution_count": null,
   "metadata": {},
   "outputs": [],
   "source": [
    "class Solution:\n",
    "    def maxTurbulenceSize(self, arr: List[int]) -> int:\n",
    "        n = len(arr)\n",
    "        down_dp = [1] * n\n",
    "        up_dp = [1] * n\n",
    "        res = 1\n",
    "        for i in range(1, n):\n",
    "            if arr[i] > arr[i-1]:\n",
    "                up_dp[i] = down_dp[i-1] + 1\n",
    "            elif arr[i] < arr[i-1]:\n",
    "                down_dp[i] = up_dp[i-1] + 1\n",
    "            res = max(res, up_dp[i], down_dp[i])\n",
    "        return res"
   ]
  }
 ],
 "metadata": {
  "kernelspec": {
   "display_name": "Python 3",
   "language": "python",
   "name": "python3"
  },
  "language_info": {
   "codemirror_mode": {
    "name": "ipython",
    "version": 3
   },
   "file_extension": ".py",
   "mimetype": "text/x-python",
   "name": "python",
   "nbconvert_exporter": "python",
   "pygments_lexer": "ipython3",
   "version": "3.6.2"
  }
 },
 "nbformat": 4,
 "nbformat_minor": 4
}
