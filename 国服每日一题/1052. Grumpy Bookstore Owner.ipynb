{
 "cells": [
  {
   "cell_type": "code",
   "execution_count": null,
   "metadata": {},
   "outputs": [],
   "source": []
  },
  {
   "cell_type": "code",
   "execution_count": null,
   "metadata": {},
   "outputs": [],
   "source": []
  },
  {
   "cell_type": "code",
   "execution_count": null,
   "metadata": {},
   "outputs": [],
   "source": []
  },
  {
   "cell_type": "code",
   "execution_count": null,
   "metadata": {},
   "outputs": [],
   "source": []
  },
  {
   "cell_type": "code",
   "execution_count": null,
   "metadata": {},
   "outputs": [],
   "source": [
    "[1,0,1,2,1,1,7,5]\n",
    "[0, 1, 0, 1, 0, 1, 0, 1]\n",
    " 0  1  2  3  4  5  6  7 \n",
    "\n",
    "[0, 1, 1, 2, 4, 5, 6, 13, 18] \n",
    "[0, 1, 1, 2, 2, 3, 3, 10, 10]\n",
    " 0  1  2  3  4  5  6   7   8"
   ]
  },
  {
   "cell_type": "code",
   "execution_count": null,
   "metadata": {},
   "outputs": [],
   "source": []
  },
  {
   "cell_type": "code",
   "execution_count": null,
   "metadata": {},
   "outputs": [],
   "source": []
  },
  {
   "cell_type": "code",
   "execution_count": null,
   "metadata": {},
   "outputs": [],
   "source": []
  },
  {
   "cell_type": "code",
   "execution_count": null,
   "metadata": {},
   "outputs": [],
   "source": []
  },
  {
   "cell_type": "code",
   "execution_count": null,
   "metadata": {},
   "outputs": [],
   "source": []
  },
  {
   "cell_type": "code",
   "execution_count": null,
   "metadata": {},
   "outputs": [],
   "source": []
  },
  {
   "cell_type": "code",
   "execution_count": null,
   "metadata": {},
   "outputs": [],
   "source": []
  },
  {
   "cell_type": "code",
   "execution_count": null,
   "metadata": {},
   "outputs": [],
   "source": []
  },
  {
   "cell_type": "code",
   "execution_count": 6,
   "metadata": {},
   "outputs": [],
   "source": [
    "from typing import List\n",
    "\n",
    "class Solution:\n",
    "    def maxSatisfied(self, customers: List[int], grumpy: List[int], X: int) -> int:\n",
    "        prefix = [0]\n",
    "        for c in customers:\n",
    "            prefix.append(c + prefix[-1])\n",
    "        \n",
    "        # 正常情况下，能够使得顾客满意的前缀和\n",
    "        normal = [0]\n",
    "        for i, c in enumerate(customers):\n",
    "            normal.append(c * abs(grumpy[i] - 1) + normal[-1])\n",
    "            \n",
    "        n = len(customers)\n",
    "        ans = normal[-1]\n",
    "        for i, g in enumerate(grumpy):\n",
    "            if g == 1:\n",
    "                if i + X >= n:\n",
    "                    val = normal[i] + prefix[-1] - prefix[i]\n",
    "                else:\n",
    "                    bonus = prefix[i+X] - prefix[i]\n",
    "                    val = normal[i] + normal[-1] - normal[i+X] + bonus\n",
    "                ans = max(ans, val)\n",
    "        return ans"
   ]
  },
  {
   "cell_type": "code",
   "execution_count": null,
   "metadata": {},
   "outputs": [],
   "source": []
  },
  {
   "cell_type": "code",
   "execution_count": null,
   "metadata": {},
   "outputs": [],
   "source": []
  }
 ],
 "metadata": {
  "kernelspec": {
   "display_name": "Python 3",
   "language": "python",
   "name": "python3"
  },
  "language_info": {
   "codemirror_mode": {
    "name": "ipython",
    "version": 3
   },
   "file_extension": ".py",
   "mimetype": "text/x-python",
   "name": "python",
   "nbconvert_exporter": "python",
   "pygments_lexer": "ipython3",
   "version": "3.6.2"
  }
 },
 "nbformat": 4,
 "nbformat_minor": 4
}
