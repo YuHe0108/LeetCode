{
 "cells": [
  {
   "cell_type": "code",
   "execution_count": null,
   "metadata": {},
   "outputs": [],
   "source": []
  },
  {
   "cell_type": "code",
   "execution_count": null,
   "metadata": {},
   "outputs": [],
   "source": []
  },
  {
   "cell_type": "code",
   "execution_count": null,
   "metadata": {},
   "outputs": [],
   "source": []
  },
  {
   "cell_type": "code",
   "execution_count": null,
   "metadata": {},
   "outputs": [],
   "source": []
  },
  {
   "cell_type": "code",
   "execution_count": 47,
   "metadata": {},
   "outputs": [],
   "source": [
    "from collections import defaultdict\n",
    "from typing import List\n",
    "\n",
    "class Solution:\n",
    "    def subarraysWithKDistinct(self, A: List[int], K: int) -> int:\n",
    "        count = defaultdict(int)\n",
    "        res = 0\n",
    "        left = 0\n",
    "        cur_len = 0 # 当前 count 中有多少 distinct 的元素\n",
    "        for i, v in enumerate(A):\n",
    "            if v in count:\n",
    "                count[v] += 1\n",
    "                if cur_len == K:\n",
    "                    res += 1\n",
    "                    temp_left = left\n",
    "                    while cur_len == K:\n",
    "                        count[A[temp_left]] -= 1\n",
    "                        if count[A[temp_left]] == 0:\n",
    "                            del count[A[temp_left]]\n",
    "                        temp_left += 1\n",
    "                        if len(count) == cur_len:\n",
    "                            res += 1\n",
    "                        else:\n",
    "                            break\n",
    "                    for j in range(left, temp_left):\n",
    "                        count[A[j]] += 1\n",
    "            else:\n",
    "                if cur_len + 1 > K:\n",
    "                    while cur_len + 1 > K:\n",
    "                        count[A[left]] -= 1\n",
    "                        if count[A[left]] == 0:\n",
    "                            del count[A[left]]\n",
    "                        left += 1\n",
    "                        if len(count) == cur_len:\n",
    "                            res += 1\n",
    "                        else:\n",
    "                            break\n",
    "                    count[v] += 1\n",
    "                    res += 1\n",
    "                else:\n",
    "                    count[v] += 1\n",
    "                    cur_len += 1 # count中 distinct 的数目+1\n",
    "                    if cur_len == K:\n",
    "                        res += 1\n",
    "        return res"
   ]
  },
  {
   "cell_type": "code",
   "execution_count": null,
   "metadata": {},
   "outputs": [],
   "source": []
  },
  {
   "cell_type": "code",
   "execution_count": 57,
   "metadata": {},
   "outputs": [],
   "source": [
    "from collections import defaultdict\n",
    "from typing import List\n",
    "\n",
    "class Solution:\n",
    "    def subarraysWithKDistinct(self, A: List[int], K: int) -> int:\n",
    "        def getAtMostCnt(k):\n",
    "            # A 中连续的 sub-array 中的 distinct 的元素数目小于等于 k\n",
    "            count = defaultdict(int)\n",
    "            left = 0\n",
    "            res = 0 # 有多少这样的sub-array\n",
    "            for right, num in enumerate(A):\n",
    "                count[num] += 1\n",
    "                while len(count) > k:\n",
    "                    count[A[left]] -= 1\n",
    "                    if count[A[left]] == 0:\n",
    "                        del count[A[left]]\n",
    "                    left += 1\n",
    "                # 小于等于 cnt 的sub-array有多少个\n",
    "                res += right - left + 1\n",
    "            return res\n",
    "        \n",
    "        # 最多 k 个 - 最多 k-1个 == 刚好等于 k 个 、\n",
    "        print(getAtMostCnt(K))\n",
    "        return getAtMostCnt(K) - getAtMostCnt(K-1)"
   ]
  },
  {
   "cell_type": "code",
   "execution_count": 58,
   "metadata": {},
   "outputs": [
    {
     "name": "stdout",
     "output_type": "stream",
     "text": [
      "12\n"
     ]
    },
    {
     "data": {
      "text/plain": [
       "7"
      ]
     },
     "execution_count": 58,
     "metadata": {},
     "output_type": "execute_result"
    }
   ],
   "source": [
    "solution = Solution()\n",
    "solution.subarraysWithKDistinct(A = [1,2,1,2,3], K = 2)"
   ]
  },
  {
   "cell_type": "code",
   "execution_count": null,
   "metadata": {},
   "outputs": [],
   "source": []
  }
 ],
 "metadata": {
  "kernelspec": {
   "display_name": "Python 3",
   "language": "python",
   "name": "python3"
  },
  "language_info": {
   "codemirror_mode": {
    "name": "ipython",
    "version": 3
   },
   "file_extension": ".py",
   "mimetype": "text/x-python",
   "name": "python",
   "nbconvert_exporter": "python",
   "pygments_lexer": "ipython3",
   "version": "3.6.2"
  }
 },
 "nbformat": 4,
 "nbformat_minor": 4
}
