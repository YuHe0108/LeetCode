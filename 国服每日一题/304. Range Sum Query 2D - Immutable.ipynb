{
 "cells": [
  {
   "cell_type": "code",
   "execution_count": null,
   "metadata": {},
   "outputs": [],
   "source": []
  },
  {
   "cell_type": "code",
   "execution_count": null,
   "metadata": {},
   "outputs": [],
   "source": []
  },
  {
   "cell_type": "code",
   "execution_count": null,
   "metadata": {},
   "outputs": [],
   "source": []
  },
  {
   "cell_type": "code",
   "execution_count": null,
   "metadata": {},
   "outputs": [],
   "source": []
  },
  {
   "cell_type": "code",
   "execution_count": null,
   "metadata": {},
   "outputs": [],
   "source": []
  },
  {
   "cell_type": "code",
   "execution_count": null,
   "metadata": {},
   "outputs": [],
   "source": []
  },
  {
   "cell_type": "code",
   "execution_count": null,
   "metadata": {},
   "outputs": [],
   "source": [
    "class NumMatrix:\n",
    "\n",
    "    def __init__(self, matrix: List[List[int]]):\n",
    "        if not len(matrix) or not len(matrix[0]):\n",
    "            self.presum = [[]]\n",
    "        else:\n",
    "            rows, cols = len(matrix), len(matrix[0])\n",
    "            self.presum = []\n",
    "            for i in range(rows):\n",
    "                vals = [0]\n",
    "                for j in range(cols):\n",
    "                    vals.append(vals[-1] + matrix[i][j])\n",
    "                self.presum.append(vals)\n",
    "\n",
    "    def sumRegion(self, row1: int, col1: int, row2: int, col2: int) -> int:\n",
    "        res = 0\n",
    "        for i in range(row1, row2 + 1):\n",
    "            res += self.presum[i][col2+1] - self.presum[i][col1]\n",
    "        return res\n",
    "\n",
    "\n",
    "\n",
    "# Your NumMatrix object will be instantiated and called as such:\n",
    "# obj = NumMatrix(matrix)\n",
    "# param_1 = obj.sumRegion(row1,col1,row2,col2)"
   ]
  },
  {
   "cell_type": "code",
   "execution_count": null,
   "metadata": {},
   "outputs": [],
   "source": []
  },
  {
   "cell_type": "code",
   "execution_count": null,
   "metadata": {},
   "outputs": [],
   "source": [
    "class NumMatrix:\n",
    "\n",
    "    def __init__(self, matrix: List[List[int]]):\n",
    "        if len(matrix) and len(matrix[0]):\n",
    "            rows, cols = len(matrix), len(matrix[0])\n",
    "            self.sum_range = [[0] * (cols+1) for _ in range(rows+1)]\n",
    "            for i in range(1, rows+1): \n",
    "                for j in range(1, cols+1):\n",
    "                    val = matrix[i-1][j-1] + self.sum_range[i-1][j] + self.sum_range[i][j-1] - self.sum_range[i-1][j-1]\n",
    "                    self.sum_range[i][j] = val\n",
    "                    \n",
    "    def sumRegion(self, row1: int, col1: int, row2: int, col2: int) -> int:\n",
    "        return self.sum_range[row2+1][col2+1] - self.sum_range[row2+1][col1] - self.sum_range[row1][col2+1] + self.sum_range[row1][col1]"
   ]
  }
 ],
 "metadata": {
  "kernelspec": {
   "display_name": "Python 3",
   "language": "python",
   "name": "python3"
  },
  "language_info": {
   "codemirror_mode": {
    "name": "ipython",
    "version": 3
   },
   "file_extension": ".py",
   "mimetype": "text/x-python",
   "name": "python",
   "nbconvert_exporter": "python",
   "pygments_lexer": "ipython3",
   "version": "3.6.2"
  }
 },
 "nbformat": 4,
 "nbformat_minor": 4
}
