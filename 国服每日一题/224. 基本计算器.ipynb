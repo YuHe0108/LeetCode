{
 "cells": [
  {
   "cell_type": "code",
   "execution_count": null,
   "metadata": {},
   "outputs": [],
   "source": []
  },
  {
   "cell_type": "code",
   "execution_count": null,
   "metadata": {},
   "outputs": [],
   "source": []
  },
  {
   "cell_type": "code",
   "execution_count": null,
   "metadata": {},
   "outputs": [],
   "source": []
  },
  {
   "cell_type": "code",
   "execution_count": null,
   "metadata": {},
   "outputs": [],
   "source": []
  },
  {
   "cell_type": "code",
   "execution_count": null,
   "metadata": {},
   "outputs": [],
   "source": []
  },
  {
   "cell_type": "code",
   "execution_count": 117,
   "metadata": {},
   "outputs": [],
   "source": [
    "from collections import deque\n",
    "\n",
    "class Solution:\n",
    "    def calculate(self, s: str) -> int:\n",
    "        \n",
    "        def calcList(nums):\n",
    "            res = 0\n",
    "            while nums:\n",
    "                v = nums.popleft()\n",
    "                if v == '+':\n",
    "                    flag = True\n",
    "                    while nums and not nums[0].isdigit():\n",
    "                        c = nums.popleft()\n",
    "                        if c == '-':\n",
    "                            flag = not flag\n",
    "                            \n",
    "                    if flag:\n",
    "                        res += int(nums.popleft())\n",
    "                    else:\n",
    "                        res -= int(nums.popleft())\n",
    "                elif v == '-':\n",
    "                    flag = False  # 减号\n",
    "                    while nums and not nums[0].isdigit():\n",
    "                        c = nums.popleft()\n",
    "                        if c == '-':\n",
    "                            flag = not flag\n",
    "                    if flag:\n",
    "                        res += int(nums.popleft())\n",
    "                    else:\n",
    "                        res -= int(nums.popleft())\n",
    "                else:\n",
    "                    res += int(v)\n",
    "            \n",
    "            if res < 0:\n",
    "                return ['-', str(abs(res))]\n",
    "            return [str(res)]\n",
    "        \n",
    "        s = s.replace(' ', '')\n",
    "        s = \"(\" + s + ')'\n",
    "        stack = deque([])\n",
    "        vals = ''\n",
    "        for v in s:\n",
    "            if v == '(':\n",
    "                stack.append('(')\n",
    "            elif v == ')': # 只有遇到 '+' 、'-' 或者 ')'的时候，才能拼接前面的数字\n",
    "                if vals:\n",
    "                    stack.append(vals)\n",
    "                    vals = ''\n",
    "                nums = deque()\n",
    "                while stack:\n",
    "                    pop_val = stack.pop()\n",
    "                    if pop_val == '(':\n",
    "                        break\n",
    "                    nums.appendleft(pop_val)\n",
    "                res = calcList(nums) # 计算nums中的数字\n",
    "                stack.extend(res)\n",
    "            elif v == '+' or v == '-':\n",
    "                if vals:\n",
    "                    stack.append(vals)\n",
    "                stack.append(v)\n",
    "                vals = ''\n",
    "            else:\n",
    "                # 如果一直是数字，则一直拼接在后面\n",
    "                vals += v\n",
    "                \n",
    "        out = calcList(stack)\n",
    "        return int(''.join(out))"
   ]
  },
  {
   "cell_type": "code",
   "execution_count": 118,
   "metadata": {},
   "outputs": [
    {
     "data": {
      "text/plain": [
       "23"
      ]
     },
     "execution_count": 118,
     "metadata": {},
     "output_type": "execute_result"
    }
   ],
   "source": [
    "solution = Solution()\n",
    "solution.calculate(s = \"  (1+(4+5+2)-3)+(6+8)\")"
   ]
  },
  {
   "cell_type": "code",
   "execution_count": 65,
   "metadata": {},
   "outputs": [
    {
     "data": {
      "text/plain": [
       "False"
      ]
     },
     "execution_count": 65,
     "metadata": {},
     "output_type": "execute_result"
    }
   ],
   "source": [
    "a = ['1']\n",
    "not a[0].isa"
   ]
  },
  {
   "cell_type": "code",
   "execution_count": 112,
   "metadata": {},
   "outputs": [
    {
     "data": {
      "text/plain": [
       "'2+3'"
      ]
     },
     "execution_count": 112,
     "metadata": {},
     "output_type": "execute_result"
    }
   ],
   "source": [
    "a = ' 2 + 3'\n",
    "a.replace(' ', '')"
   ]
  },
  {
   "cell_type": "code",
   "execution_count": null,
   "metadata": {},
   "outputs": [],
   "source": []
  }
 ],
 "metadata": {
  "kernelspec": {
   "display_name": "Python 3",
   "language": "python",
   "name": "python3"
  },
  "language_info": {
   "codemirror_mode": {
    "name": "ipython",
    "version": 3
   },
   "file_extension": ".py",
   "mimetype": "text/x-python",
   "name": "python",
   "nbconvert_exporter": "python",
   "pygments_lexer": "ipython3",
   "version": "3.6.2"
  }
 },
 "nbformat": 4,
 "nbformat_minor": 4
}
