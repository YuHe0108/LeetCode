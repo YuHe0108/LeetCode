{
 "cells": [
  {
   "cell_type": "code",
   "execution_count": null,
   "metadata": {},
   "outputs": [],
   "source": []
  },
  {
   "cell_type": "code",
   "execution_count": null,
   "metadata": {},
   "outputs": [],
   "source": []
  },
  {
   "cell_type": "code",
   "execution_count": null,
   "metadata": {},
   "outputs": [],
   "source": [
    "class Solution(object):\n",
    "    def shipWithinDays(self, weights, D):\n",
    "        \"\"\"\n",
    "        :type weights: List[int]\n",
    "        :type D: int\n",
    "        :rtype: int\n",
    "        \"\"\"\n",
    "        lo, hi = max(weights), sum(weights)\n",
    "        while(lo < hi):\n",
    "            mid = (lo + hi) // 2 # mid 即为当前运送的capacity\n",
    "            \n",
    "            #------以下为模拟运货的过程，temp表示当天这条船承载的重量，day表示已用的天数-------\n",
    "            temp = 0\n",
    "            day = 1\n",
    "            for weight in weights:\n",
    "                temp += weight\n",
    "                if temp > mid:# 当前货运不动 需要新的一艘船才行\n",
    "                    day += 1\n",
    "                    temp = weight\n",
    "            #------以上为模拟运货的过程-----------------\n",
    "            \n",
    "            if day > D: # 当前的capacity太小了，不够，需要更大容量才能及时运完\n",
    "                lo = mid + 1\n",
    "            elif day <= D:\n",
    "                hi = mid\n",
    "\n",
    "        return lo"
   ]
  },
  {
   "cell_type": "code",
   "execution_count": 57,
   "metadata": {},
   "outputs": [],
   "source": [
    "from typing import List\n",
    "\n",
    "class Solution:\n",
    "    def shipWithinDays(self, weights: List[int], D: int) -> int:\n",
    "        \n",
    "        def check(max_val):\n",
    "            l, r = 0, 1\n",
    "            cnt = 0\n",
    "            while r < n and cnt < D:\n",
    "                while r < n and presum[r] - presum[l] <= max_val:\n",
    "                    r += 1\n",
    "                l = r-1\n",
    "                cnt += 1\n",
    "            return r >= n and cnt <= D\n",
    "                \n",
    "        presum = [0]\n",
    "        for w in weights:\n",
    "            presum.append(presum[-1] + w)\n",
    "        n = len(presum)\n",
    "\n",
    "        left, right = 0, presum[-1]\n",
    "        while left < right:\n",
    "            mid = left + (right - left)//2\n",
    "            if check(mid):\n",
    "                right = mid\n",
    "            else:\n",
    "                left = mid + 1\n",
    "        return left"
   ]
  },
  {
   "cell_type": "code",
   "execution_count": 58,
   "metadata": {},
   "outputs": [
    {
     "data": {
      "text/plain": [
       "3"
      ]
     },
     "execution_count": 58,
     "metadata": {},
     "output_type": "execute_result"
    }
   ],
   "source": [
    "solution = Solution()\n",
    "solution.shipWithinDays(weights = [1,2,3,1,1], D = 4)"
   ]
  },
  {
   "cell_type": "code",
   "execution_count": null,
   "metadata": {},
   "outputs": [],
   "source": [
    "[0, 1, 3, 6, 10, | 15, 21, 28, | 36, 45, 55]"
   ]
  }
 ],
 "metadata": {
  "kernelspec": {
   "display_name": "Python 3",
   "language": "python",
   "name": "python3"
  },
  "language_info": {
   "codemirror_mode": {
    "name": "ipython",
    "version": 3
   },
   "file_extension": ".py",
   "mimetype": "text/x-python",
   "name": "python",
   "nbconvert_exporter": "python",
   "pygments_lexer": "ipython3",
   "version": "3.6.2"
  }
 },
 "nbformat": 4,
 "nbformat_minor": 4
}
