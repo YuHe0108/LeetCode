{
 "cells": [
  {
   "cell_type": "code",
   "execution_count": null,
   "metadata": {},
   "outputs": [],
   "source": []
  },
  {
   "cell_type": "code",
   "execution_count": null,
   "metadata": {},
   "outputs": [],
   "source": []
  },
  {
   "cell_type": "code",
   "execution_count": null,
   "metadata": {},
   "outputs": [],
   "source": []
  },
  {
   "cell_type": "code",
   "execution_count": 14,
   "metadata": {},
   "outputs": [],
   "source": [
    "from typing import List\n",
    "import heapq\n",
    "\n",
    "class Solution:\n",
    "    def kSmallestPairs(self, nums1: List[int], nums2: List[int], k: int) -> List[List[int]]:\n",
    "        vals = []\n",
    "        for v1 in nums1:\n",
    "            for v2 in nums2:\n",
    "                vals.append([v1, v2])\n",
    "        vals = sorted(vals, key=lambda x:(x[0]+x[1]))\n",
    "        k = min(len(vals), k)\n",
    "        res = vals[:k]\n",
    "        return res"
   ]
  },
  {
   "cell_type": "code",
   "execution_count": null,
   "metadata": {},
   "outputs": [],
   "source": []
  },
  {
   "cell_type": "code",
   "execution_count": null,
   "metadata": {},
   "outputs": [],
   "source": []
  },
  {
   "cell_type": "code",
   "execution_count": null,
   "metadata": {},
   "outputs": [],
   "source": []
  },
  {
   "cell_type": "markdown",
   "metadata": {},
   "source": [
    "<img src='373.jpg'>"
   ]
  },
  {
   "cell_type": "code",
   "execution_count": 38,
   "metadata": {},
   "outputs": [],
   "source": [
    "from typing import List\n",
    "import heapq\n",
    "\n",
    "class Solution:\n",
    "    def kSmallestPairs(self, nums1: List[int], nums2: List[int], k: int) -> List[List[int]]:\n",
    "        queue = []\n",
    "        def push(i, j):\n",
    "            if i < len(nums1) and j < len(nums2):\n",
    "                heapq.heappush(queue, [nums1[i] + nums2[j], i, j])\n",
    "                \n",
    "        push(0, 0) # (0, 0) 一定是最小的一对\n",
    "        pairs = []\n",
    "        while queue and len(pairs) < k:\n",
    "            _, i, j = heapq.heappop(queue)\n",
    "            pairs.append([nums1[i], nums2[j]])\n",
    "            push(i, j + 1) # 向矩阵的右边探索\n",
    "            if j == 0: # 位于第一列的时候，向下探索一行\n",
    "                push(i + 1, 0) \n",
    "        return pairs"
   ]
  },
  {
   "cell_type": "code",
   "execution_count": 39,
   "metadata": {},
   "outputs": [
    {
     "data": {
      "text/plain": [
       "[[1, 1], [1, 1], [1, 2], [1, 2], [2, 1], [1, 3], [1, 3], [2, 2], [2, 3]]"
      ]
     },
     "execution_count": 39,
     "metadata": {},
     "output_type": "execute_result"
    }
   ],
   "source": [
    "solution = Solution()\n",
    "solution.kSmallestPairs(nums1 = [1,1,2], nums2 = [1,2,3], k = 100)"
   ]
  },
  {
   "cell_type": "raw",
   "metadata": {},
   "source": [
    "1、[0, 0] -> [0, 1], [1, 0]\n",
    "2、[0, 1] -> [0, 2], [2, 0]"
   ]
  },
  {
   "cell_type": "raw",
   "metadata": {},
   "source": [
    "   1  2  3\n",
    "1  2  3  4\n",
    "1  2  3  4\n",
    "2  3  4  5\n",
    "\n",
    "00,01,10\n",
    "10,11,20"
   ]
  }
 ],
 "metadata": {
  "kernelspec": {
   "display_name": "Python 3",
   "language": "python",
   "name": "python3"
  },
  "language_info": {
   "codemirror_mode": {
    "name": "ipython",
    "version": 3
   },
   "file_extension": ".py",
   "mimetype": "text/x-python",
   "name": "python",
   "nbconvert_exporter": "python",
   "pygments_lexer": "ipython3",
   "version": "3.6.2"
  }
 },
 "nbformat": 4,
 "nbformat_minor": 4
}
