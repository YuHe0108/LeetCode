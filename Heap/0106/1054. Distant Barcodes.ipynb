{
 "cells": [
  {
   "cell_type": "code",
   "execution_count": null,
   "metadata": {},
   "outputs": [],
   "source": []
  },
  {
   "cell_type": "code",
   "execution_count": null,
   "metadata": {},
   "outputs": [],
   "source": []
  },
  {
   "cell_type": "code",
   "execution_count": 19,
   "metadata": {},
   "outputs": [],
   "source": [
    "from typing import List\n",
    "import heapq\n",
    "\n",
    "class Solution:\n",
    "    def rearrangeBarcodes(self, barcodes: List[int]) -> List[int]:\n",
    "        res = []\n",
    "        seen = set()\n",
    "        idx = 0\n",
    "        n = len(barcodes)\n",
    "        while len(res) != len(barcodes):\n",
    "            idx %= n\n",
    "            v = barcodes[idx]\n",
    "            if (idx not in seen) and (not res or (res and res[-1] != v)):\n",
    "                seen.add(idx)\n",
    "                res.append(v)\n",
    "            idx += 1\n",
    "            print(res)\n",
    "        return res"
   ]
  },
  {
   "cell_type": "code",
   "execution_count": null,
   "metadata": {},
   "outputs": [],
   "source": []
  },
  {
   "cell_type": "code",
   "execution_count": 39,
   "metadata": {},
   "outputs": [],
   "source": [
    "from typing import List\n",
    "import heapq\n",
    "\n",
    "class Solution:\n",
    "    def rearrangeBarcodes(self, barcodes: List[int]) -> List[int]:\n",
    "        count = Counter(barcodes)\n",
    "        freq = []\n",
    "        for k, v in count.items():\n",
    "            heapq.heappush(freq, (-v, k))\n",
    "        res = []\n",
    "        while freq:\n",
    "            v, k = heapq.heappop(freq)\n",
    "            if not res or k != res[-1]:\n",
    "                v += 1\n",
    "                res.append(k)\n",
    "            if v != 0:\n",
    "                heapq.heappush(freq, (v, k))\n",
    "            print(res)\n",
    "        return res"
   ]
  },
  {
   "cell_type": "code",
   "execution_count": null,
   "metadata": {},
   "outputs": [],
   "source": []
  },
  {
   "cell_type": "code",
   "execution_count": 61,
   "metadata": {},
   "outputs": [],
   "source": [
    "from collections import Counter\n",
    "from sortedcontainers import SortedList\n",
    "\n",
    "class Solution:\n",
    "    def rearrangeBarcodes(self, barcodes: List[int]) -> List[int]:\n",
    "        count = Counter(barcodes)\n",
    "        freq = SortedList()\n",
    "        for v, k in count.items():\n",
    "            freq.add((k, v))\n",
    "        res = []\n",
    "        while freq:\n",
    "            k1, v1 = freq.pop() # 先拿最多的\n",
    "            k1 -= 1\n",
    "            res.append(v1)\n",
    "            if freq:\n",
    "                k2, v2 = freq.pop()\n",
    "                k2 -= 1\n",
    "                res.append(v2)\n",
    "                if k2 > 0:\n",
    "                    freq.add((k2, v2))\n",
    "            if k1 > 0:\n",
    "                freq.add((k1, v1))\n",
    "        return res"
   ]
  },
  {
   "cell_type": "code",
   "execution_count": 62,
   "metadata": {},
   "outputs": [
    {
     "name": "stdout",
     "output_type": "stream",
     "text": [
      "[1, 3]\n",
      "[1, 3, 1, 2]\n",
      "[1, 3, 1, 2, 1, 3]\n",
      "[1, 3, 1, 2, 1, 3, 2, 1]\n"
     ]
    },
    {
     "data": {
      "text/plain": [
       "[1, 3, 1, 2, 1, 3, 2, 1]"
      ]
     },
     "execution_count": 62,
     "metadata": {},
     "output_type": "execute_result"
    }
   ],
   "source": [
    "solution = Solution()\n",
    "solution.rearrangeBarcodes([1,1,1,1,2,2,3,3])"
   ]
  },
  {
   "cell_type": "code",
   "execution_count": 87,
   "metadata": {},
   "outputs": [],
   "source": [
    " from typing import List\n",
    "import collections \n",
    "\n",
    "class Solution:\n",
    "    def rearrangeBarcodes(self, barcodes: List[int]) -> List[int]:\n",
    "        counter = collections.Counter(barcodes)\n",
    "        sortedCounter = sorted( counter, key=lambda k: 0 - counter[k]) #按出现次数统计元素\n",
    "        \n",
    "        barcodes = []\n",
    "        for i in sortedCounter: # 按照出现的频率重新排列\n",
    "            barcodes += [i] * counter[i]\n",
    "        print(barcodes)\n",
    "\n",
    "        arrangedBarcodes = [None for _ in range(len(barcodes))]\n",
    "        arrangedBarcodes[::2] = barcodes[:len(arrangedBarcodes[::2])]\n",
    "        arrangedBarcodes[1::2] = barcodes[len(arrangedBarcodes[::2]):]\n",
    "        print(arrangedBarcodes)\n",
    "        return arrangedBarcodes   "
   ]
  },
  {
   "cell_type": "code",
   "execution_count": 88,
   "metadata": {},
   "outputs": [
    {
     "name": "stdout",
     "output_type": "stream",
     "text": [
      "[1, 1, 1, 1, 2, 2, 3, 3]\n",
      "[1, 2, 1, 2, 1, 3, 1, 3]\n"
     ]
    },
    {
     "data": {
      "text/plain": [
       "[1, 2, 1, 2, 1, 3, 1, 3]"
      ]
     },
     "execution_count": 88,
     "metadata": {},
     "output_type": "execute_result"
    }
   ],
   "source": [
    "solution = Solution()\n",
    "solution.rearrangeBarcodes([1,1,1,1,2,2,3,3])"
   ]
  },
  {
   "cell_type": "code",
   "execution_count": null,
   "metadata": {},
   "outputs": [],
   "source": []
  }
 ],
 "metadata": {
  "kernelspec": {
   "display_name": "Python 3",
   "language": "python",
   "name": "python3"
  },
  "language_info": {
   "codemirror_mode": {
    "name": "ipython",
    "version": 3
   },
   "file_extension": ".py",
   "mimetype": "text/x-python",
   "name": "python",
   "nbconvert_exporter": "python",
   "pygments_lexer": "ipython3",
   "version": "3.6.2"
  }
 },
 "nbformat": 4,
 "nbformat_minor": 4
}
