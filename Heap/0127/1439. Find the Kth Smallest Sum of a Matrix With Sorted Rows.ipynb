{
 "cells": [
  {
   "cell_type": "code",
   "execution_count": null,
   "metadata": {},
   "outputs": [],
   "source": []
  },
  {
   "cell_type": "code",
   "execution_count": null,
   "metadata": {},
   "outputs": [],
   "source": []
  },
  {
   "cell_type": "code",
   "execution_count": 173,
   "metadata": {},
   "outputs": [],
   "source": [
    "from typing import List\n",
    "import heapq\n",
    "\n",
    "class Solution:\n",
    "    def kthSmallest(self, mat: List[List[int]], k: int) -> int:\n",
    "        rows, cols = len(mat), len(mat[0])\n",
    "        vals = []\n",
    "        sum_v = 0\n",
    "        for i in range(rows):\n",
    "            sum_v += mat[i][0]\n",
    "        heapq.heappush(vals, (sum_v, [0] * rows)) # 初始化\n",
    "        \n",
    "        seen = {(sum_v, tuple([0] * rows))}\n",
    "        for m in range(k):\n",
    "            v, idxs = heapq.heappop(vals)\n",
    "            if m == k-1:\n",
    "                return v\n",
    "            if idxs[0] < cols-1:\n",
    "                new_idxs = [idxs[0] + 1] + idxs[1:]\n",
    "                new_vals = 0\n",
    "                for i in range(rows):\n",
    "                    new_vals += mat[i][new_idxs[i]]\n",
    "                if (new_vals, tuple(new_idxs)) not in seen:\n",
    "                    seen.add((new_vals, tuple(new_idxs)))\n",
    "                    heapq.heappush(vals, (new_vals, new_idxs))\n",
    "            \n",
    "            # idx[0]不变，idx[1:]之后的每个数挨个 + 1 \n",
    "            n = len(idxs[1:])\n",
    "            for state in range(1, 1 << n):\n",
    "                temp_idxs = idxs[::]\n",
    "                flag = 1\n",
    "                for j in range(n):\n",
    "                    if ((state >> j) & 1) == 1:\n",
    "                        if temp_idxs[j+1] + 1 >= cols:\n",
    "                            flag = 0\n",
    "                            break\n",
    "                        temp_idxs[j+1] += 1\n",
    "                if flag == 1:\n",
    "                    temp_vals = 0\n",
    "                    for i in range(rows):\n",
    "                        temp_vals += mat[i][temp_idxs[i]]\n",
    "                    if (temp_vals, tuple(temp_idxs)) not in seen:\n",
    "                        seen.add((temp_vals, tuple(temp_idxs)))\n",
    "                        heapq.heappush(vals, (temp_vals, temp_idxs))\n",
    "                print(temp_idxs, m)"
   ]
  },
  {
   "cell_type": "code",
   "execution_count": 174,
   "metadata": {},
   "outputs": [
    {
     "name": "stdout",
     "output_type": "stream",
     "text": [
      "[0, 1, 0] 0\n",
      "[0, 0, 1] 0\n",
      "[0, 1, 1] 0\n",
      "[0, 1, 1] 1\n",
      "[0, 0, 2] 1\n",
      "[0, 1, 2] 1\n",
      "[0, 2, 0] 2\n",
      "[0, 1, 1] 2\n",
      "[0, 2, 1] 2\n",
      "[0, 1, 2] 3\n",
      "[0, 0, 2] 3\n",
      "[0, 1, 2] 3\n",
      "[0, 2, 1] 4\n",
      "[0, 1, 2] 4\n",
      "[0, 2, 2] 4\n",
      "[0, 2, 0] 5\n",
      "[0, 2, 1] 5\n",
      "[0, 2, 0] 5\n"
     ]
    },
    {
     "data": {
      "text/plain": [
       "9"
      ]
     },
     "execution_count": 174,
     "metadata": {},
     "output_type": "execute_result"
    }
   ],
   "source": [
    "solution = Solution()\n",
    "solution.kthSmallest(mat = [[1,10,10],[1,4,5],[2,3,6]], k = 7)"
   ]
  },
  {
   "cell_type": "code",
   "execution_count": 19,
   "metadata": {},
   "outputs": [
    {
     "name": "stdout",
     "output_type": "stream",
     "text": [
      "0b1\n",
      "0b10\n",
      "0b11\n"
     ]
    }
   ],
   "source": [
    "1 2   3\n",
    "1 4   5\n",
    "1 6   7\n",
    "3 2   5\n",
    "3 4   7\n",
    "3 6   9\n",
    "11 2  13\n",
    "11 4  15\n",
    "11 6  17"
   ]
  },
  {
   "cell_type": "code",
   "execution_count": 25,
   "metadata": {},
   "outputs": [
    {
     "data": {
      "text/plain": [
       "0"
      ]
     },
     "execution_count": 25,
     "metadata": {},
     "output_type": "execute_result"
    }
   ],
   "source": [
    "3 >> 2"
   ]
  },
  {
   "cell_type": "code",
   "execution_count": null,
   "metadata": {},
   "outputs": [],
   "source": []
  }
 ],
 "metadata": {
  "kernelspec": {
   "display_name": "Python 3",
   "language": "python",
   "name": "python3"
  },
  "language_info": {
   "codemirror_mode": {
    "name": "ipython",
    "version": 3
   },
   "file_extension": ".py",
   "mimetype": "text/x-python",
   "name": "python",
   "nbconvert_exporter": "python",
   "pygments_lexer": "ipython3",
   "version": "3.6.2"
  }
 },
 "nbformat": 4,
 "nbformat_minor": 4
}
