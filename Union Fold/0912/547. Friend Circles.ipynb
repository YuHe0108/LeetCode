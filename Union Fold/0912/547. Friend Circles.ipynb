{
 "cells": [
  {
   "cell_type": "raw",
   "metadata": {},
   "source": [
    "说明：\n",
    "    一班有N个学生。他们中有些是朋友，有些不是。\n",
    "    他们的友谊本质上是传递的。例如，如果A是B的直接朋友，而B是C的直接朋友，则A是C的间接朋友。\n",
    "    并且我们定义的朋友圈是一组是直接或间接朋友的学生。\n",
    "    给定一个N * N矩阵M表示班级学生之间的朋友关系。\n",
    "    如果M[i][j] = 1，则第i个学生和第j个学生是彼此的直接朋友，否则不是。\n",
    "    而且，您必须输出所有学生之间的朋友圈总数。\n",
    "\n",
    "Example 1:\n",
    "    Input: \n",
    "        [[1,1,0],\n",
    "         [1,1,0],\n",
    "         [0,0,1]]\n",
    "    Output: 2\n",
    "    Explanation:The 0th and 1st students are direct friends, so they are in a friend circle. \n",
    "                The 2nd student himself is in a friend circle. So return 2.\n",
    " \n",
    "\n",
    "Example 2:\n",
    "        Input: \n",
    "            [[1,1,0],\n",
    "             [1,1,1],\n",
    "             [0,1,1]]\n",
    "        Output: 1\n",
    "        Explanation:The 0th and 1st students are direct friends, the 1st and 2nd students are direct friends, \n",
    "                    so the 0th and 2nd students are indirect friends.\n",
    "                    All of them are in the same friend circle, so return 1.\n",
    "\n",
    "Constraints:\n",
    "    1、1 <= N <= 200\n",
    "    2、M[i][i] == 1\n",
    "    3、M[i][j] == M[j][i]"
   ]
  },
  {
   "cell_type": "code",
   "execution_count": 28,
   "metadata": {},
   "outputs": [],
   "source": [
    "class Solution:\n",
    "    def findCircleNum(self, M) -> int:\n",
    "        \n",
    "        def findFather(x):\n",
    "            if father[x] != x:\n",
    "                father[x] = findFather(father[x])\n",
    "            return father[x]\n",
    "        \n",
    "        def union(a, b):\n",
    "            x = father[a]\n",
    "            y = father[b]\n",
    "            father[x] = y\n",
    "        \n",
    "        father = dict()\n",
    "        \n",
    "        N = len(M)\n",
    "        for i in range(N):\n",
    "            father[i] = i\n",
    "        \n",
    "        for i in range(N):\n",
    "            for j in range(N):\n",
    "                if i != j and M[i][j] == 1:\n",
    "                    # 如果i和j不是共同的祖先，并且二者还有联系，\n",
    "                    # 通过将二者的祖先合并，构成一个完整的朋友圈\n",
    "                    if findFather(i) != findFather(j): \n",
    "                        union(i, j)\n",
    "                        \n",
    "        ancestors = set()\n",
    "        for i in range(N):\n",
    "            ancestors.add(findFather(i))\n",
    "        return len(ancestors)        "
   ]
  },
  {
   "cell_type": "code",
   "execution_count": 29,
   "metadata": {},
   "outputs": [
    {
     "name": "stdout",
     "output_type": "stream",
     "text": [
      "{0: 0, 1: 1, 2: 2}\n",
      "{0: 1, 1: 1, 2: 2}\n"
     ]
    },
    {
     "data": {
      "text/plain": [
       "1"
      ]
     },
     "execution_count": 29,
     "metadata": {},
     "output_type": "execute_result"
    }
   ],
   "source": [
    "M_ =  [[1,1,0],\n",
    "       [1,1,1],\n",
    "       [0,1,1]]\n",
    "solution = Solution()\n",
    "solution.findCircleNum(M_)"
   ]
  },
  {
   "cell_type": "code",
   "execution_count": null,
   "metadata": {},
   "outputs": [],
   "source": []
  }
 ],
 "metadata": {
  "kernelspec": {
   "display_name": "Python 3",
   "language": "python",
   "name": "python3"
  },
  "language_info": {
   "codemirror_mode": {
    "name": "ipython",
    "version": 3
   },
   "file_extension": ".py",
   "mimetype": "text/x-python",
   "name": "python",
   "nbconvert_exporter": "python",
   "pygments_lexer": "ipython3",
   "version": "3.6.2"
  }
 },
 "nbformat": 4,
 "nbformat_minor": 4
}
