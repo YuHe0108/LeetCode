{
 "cells": [
  {
   "cell_type": "raw",
   "metadata": {},
   "source": [
    "说明：\n",
    "    通过以太网电缆连接的n台计算机（从0到n-1）通过连接形成一个网络，\n",
    "    其中connections [i] = [a，b]表示计算机a和b之间的连接。\n",
    "    任何计算机都可以通过网络直接或间接访问任何其他计算机。\n",
    "    给定初始计算机网络连接。您可以拔出两台直接连接的计算机之间的某些电缆，并将它们放置在任意两对断开连接的计算机之间，以使其直接连接。\n",
    "    返回进行所有计算机连接所需的最少次数。如果不可能，则返回-1。\n",
    "\n",
    "Constraints:\n",
    "    1、1 <= n <= 10^5\n",
    "    2、1 <= connections.length <= min(n*(n-1)/2, 10^5)\n",
    "    3、connections[i].length == 2\n",
    "    4、0 <= connections[i][0], connections[i][1] < n\n",
    "    5、connections[i][0] != connections[i][1]\n",
    "    6、There are no repeated connections.\n",
    "    7、No two computers are connected by more than one cable.\n",
    "\n",
    "Example 3:\n",
    "    Input: n = 6, connections = [[0,1],[0,2],[0,3],[1,2]]\n",
    "    Output: -1\n",
    "    Explanation: There are not enough cables.\n",
    "\n",
    "Example 4:\n",
    "    Input: n = 5, connections = [[0,1],[0,2],[3,4],[2,3]]\n",
    "    Output: 0"
   ]
  },
  {
   "cell_type": "raw",
   "metadata": {},
   "source": [
    "思路：\n",
    "    1、找给定 connections 有多少个局域网\n",
    "    2、每个局域网中电脑的数量 - 1 = 每个局域网需要互相联机是线的数目\n",
    "    2、"
   ]
  },
  {
   "cell_type": "markdown",
   "metadata": {},
   "source": [
    "<img src='1319.jpg'>\n",
    "<img src='1319_1.jpg'>"
   ]
  },
  {
   "cell_type": "code",
   "execution_count": null,
   "metadata": {},
   "outputs": [],
   "source": []
  },
  {
   "cell_type": "code",
   "execution_count": 42,
   "metadata": {},
   "outputs": [],
   "source": [
    "from collections import defaultdict\n",
    "\n",
    "class Solution:\n",
    "    def makeConnected(self, n: int, connections) -> int:\n",
    "\n",
    "        def find(x):\n",
    "            if parent[x] != x:\n",
    "                parent[x] = find(parent[x])\n",
    "            return parent[x]\n",
    "        \n",
    "        def union(x, y):\n",
    "            x_root = find(x)\n",
    "            y_root = find(y)\n",
    "            if x_root == y_root:\n",
    "                return \n",
    "            parent[x_root] = y_root\n",
    "        \n",
    "        # 现有节点的数目\n",
    "        cur_lines = len(connections)\n",
    "        # 线的数目一定要是大于等于 n-1才可以\n",
    "        if cur_lines < n - 1:\n",
    "            return -1\n",
    "        \n",
    "        cur_nodes = set()\n",
    "        parent = defaultdict(list) # 每一个节点指向自己\n",
    "        for x, y in connections:\n",
    "            cur_nodes.add(x)\n",
    "            cur_nodes.add(y)\n",
    "            parent[x] = y\n",
    "            \n",
    "        print(parent)\n",
    "        \n",
    "#         for x, y in connections:\n",
    "#             if parent[x] != parent[y]:\n",
    "#                 union(x, y)\n",
    "#         for i in cur_nodes:\n",
    "#             print(find(i))"
   ]
  },
  {
   "cell_type": "code",
   "execution_count": 71,
   "metadata": {},
   "outputs": [],
   "source": [
    "class Solution:\n",
    "    def makeConnected(self, n: int, connections) -> int:\n",
    "        parent = [x for x in range(n)]\n",
    "        self.count = n\n",
    "        self.redundant = 0\n",
    "        \n",
    "        def find(x):\n",
    "            if parent[x] != x:\n",
    "                parent[x] = find(parent[x])\n",
    "            return parent[x]\n",
    "        \n",
    "        def union(x, y):\n",
    "            root_x = find(x)\n",
    "            root_y = find(y)\n",
    "            if root_x != root_y:\n",
    "                parent[root_x] = root_y\n",
    "                self.count -= 1\n",
    "            else:\n",
    "                self.redundant += 1\n",
    "        \n",
    "        for x, y in connections:\n",
    "            union(x, y)\n",
    "            \n",
    "        if self.redundant >= self.count - 1:\n",
    "            return self.count - 1\n",
    "        return -1"
   ]
  },
  {
   "cell_type": "code",
   "execution_count": 72,
   "metadata": {},
   "outputs": [
    {
     "name": "stdout",
     "output_type": "stream",
     "text": [
      "[1, 1, 2, 3, 4, 5]\n",
      "[1, 2, 2, 3, 4, 5]\n",
      "[2, 2, 3, 3, 4, 5]\n",
      "[2, 3, 3, 3, 4, 5]\n",
      "[2, 3, 3, 3, 4, 5]\n",
      "[2, 3, 3, 3, 4, 5] 2 3\n"
     ]
    },
    {
     "data": {
      "text/plain": [
       "2"
      ]
     },
     "execution_count": 72,
     "metadata": {},
     "output_type": "execute_result"
    }
   ],
   "source": [
    "n_ =  6\n",
    "connections_ = [[0,1],[0,2],[0,3],[1,2],[1,3]]\n",
    "solution = Solution()\n",
    "solution.makeConnected(n_, connections_)"
   ]
  },
  {
   "cell_type": "code",
   "execution_count": 47,
   "metadata": {},
   "outputs": [
    {
     "data": {
      "text/plain": [
       "[[1, 5],\n",
       " [1, 7],\n",
       " [1, 2],\n",
       " [1, 4],\n",
       " [3, 7],\n",
       " [4, 7],\n",
       " [3, 5],\n",
       " [0, 6],\n",
       " [0, 1],\n",
       " [0, 4],\n",
       " [2, 6],\n",
       " [0, 3],\n",
       " [0, 2]]"
      ]
     },
     "execution_count": 47,
     "metadata": {},
     "output_type": "execute_result"
    }
   ],
   "source": [
    "12\n",
    "[[1,5],[1,7],[1,2],[1,4],[3,7],[4,7],[3,5],[0,6],[0,1],[0,4],[2,6],[0,3],[0,2]]"
   ]
  },
  {
   "cell_type": "code",
   "execution_count": null,
   "metadata": {},
   "outputs": [],
   "source": []
  }
 ],
 "metadata": {
  "kernelspec": {
   "display_name": "Python 3",
   "language": "python",
   "name": "python3"
  },
  "language_info": {
   "codemirror_mode": {
    "name": "ipython",
    "version": 3
   },
   "file_extension": ".py",
   "mimetype": "text/x-python",
   "name": "python",
   "nbconvert_exporter": "python",
   "pygments_lexer": "ipython3",
   "version": "3.6.2"
  }
 },
 "nbformat": 4,
 "nbformat_minor": 4
}
