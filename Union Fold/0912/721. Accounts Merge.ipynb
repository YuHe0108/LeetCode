{
 "cells": [
  {
   "cell_type": "raw",
   "metadata": {},
   "source": [
    "说明：\n",
    "    给定一个列表帐户，每个元素accounts[i]是一个字符串列表，\n",
    "    其中第一个元素accounts[i][0]是一个名称，其余元素是表示帐户电子邮件的电子邮件。\n",
    "    现在，我们想合并这些帐户。\n",
    "    两个帐户肯定属于同一个人，如果有一些电子邮件是共同的帐户。\n",
    "    请注意，即使两个帐户具有相同的名称，它们也可能属于不同的人，因为人们可能具有相同的名称。\n",
    "    一个人最初可以拥有任意数量的账户，但是他们所有的账户都有相同的名字。\n",
    "    合并帐户后，按以下格式返回帐户：\n",
    "        1、每个帐户的第一个元素是名称，其余元素是按排序顺序排列的电子邮件。\n",
    "        2、帐户本身可以按任何顺序返回。\n",
    "\n",
    "\n",
    "Example 1:\n",
    "Input: \n",
    "    accounts = [[\"John\", \"johnsmith@mail.com\", \"john00@mail.com\"], \n",
    "                [\"John\", \"johnnybravo@mail.com\"], \n",
    "                [\"John\", \"johnsmith@mail.com\", \"john_newyork@mail.com\"],\n",
    "                [\"Mary\", \"mary@mail.com\"]]\n",
    "     Output: [[\"John\", 'john00@mail.com', 'john_newyork@mail.com', 'johnsmith@mail.com'],  \n",
    "              [\"John\", \"johnnybravo@mail.com\"], \n",
    "              [\"Mary\", \"mary@mail.com\"]]\n",
    "Explanation: \n",
    "    The first and third John's are the same person as they have the common email \"johnsmith@mail.com\".\n",
    "    The second John and Mary are different people as none of their email addresses are used by other accounts.\n",
    "    We could return these lists in any order, for example the answer [['Mary', 'mary@mail.com'], ['John', 'johnnybravo@mail.com'], \n",
    "['John', 'john00@mail.com', 'john_newyork@mail.com', 'johnsmith@mail.com']] would still be accepted.\n",
    "\n",
    "\n",
    "Note:\n",
    "    1、The length of accounts will be in the range [1, 1000].\n",
    "    2、The length of accounts[i] will be in the range [1, 10].\n",
    "    3、The length of accounts[i][j] will be in the range [1, 30]."
   ]
  },
  {
   "cell_type": "markdown",
   "metadata": {},
   "source": [
    "<img src='721.jpg'>"
   ]
  },
  {
   "cell_type": "code",
   "execution_count": null,
   "metadata": {},
   "outputs": [],
   "source": []
  },
  {
   "cell_type": "code",
   "execution_count": 80,
   "metadata": {},
   "outputs": [],
   "source": [
    "class Solution:\n",
    "    def accountsMerge(self, accounts):\n",
    "        def find(x):\n",
    "            if parent[x] != x:\n",
    "                parent[x] = find(parent[x])\n",
    "            return parent[x]\n",
    "        \n",
    "        def union(x, y):\n",
    "            root_x = find(x)\n",
    "            root_y = find(y)\n",
    "            if root_x == root_y:\n",
    "                return \n",
    "            if rank[root_x] > rank[root_y]:\n",
    "                parent[root_y] =  root_x\n",
    "            elif rank[root_x] < rank[root_y]:\n",
    "                parent[root_x] = root_y\n",
    "            else:\n",
    "                parent[root_x] = root_y\n",
    "                rank[root_y] += 1\n",
    "        \n",
    "        parent = list(range(len(accounts)))\n",
    "        rank = [0] * len(accounts) # 用于记录树的高度\n",
    "        email_parent = {}\n",
    "        \n",
    "        for idx, account in enumerate(accounts):\n",
    "            # 遍历所有邮箱\n",
    "            for email in account[1:]:\n",
    "                if email in email_parent:\n",
    "                    union(idx, email_parent[email])\n",
    "                email_parent[email] = idx\n",
    "        \n",
    "        ans = {}\n",
    "        for email in email_parent:\n",
    "            root = find(email_parent[email])\n",
    "            if root in ans:\n",
    "                ans[root].append(email)\n",
    "            else:\n",
    "                ans[root] = [accounts[root][0], email]\n",
    "            \n",
    "        ans = list(ans.values())\n",
    "        for account in ans:\n",
    "            account[1:] = sorted(account[1:])\n",
    "        return ans"
   ]
  },
  {
   "cell_type": "code",
   "execution_count": 130,
   "metadata": {},
   "outputs": [],
   "source": [
    "class Solution:\n",
    "    def accountsMerge(self, accounts):\n",
    "        \n",
    "        def find(x):\n",
    "            # 寻找一个节点的根节点\n",
    "            if parent[x] != x:\n",
    "                parent[x] = find(parent[x])\n",
    "            return parent[x]\n",
    "#             while parent[x] != x:\n",
    "#                 x = parent[x]\n",
    "#             return x # return parent[x]\n",
    "        \n",
    "        def union(x, y):\n",
    "            x_root = find(x)\n",
    "            y_root = find(y)\n",
    "            if x_root == y_root:\n",
    "                return \n",
    "            if rank[x_root] < rank[y_root]:\n",
    "                parent[x_root] = y_root\n",
    "            elif rank[y_root] < rank[x_root]:\n",
    "                parent[y_root] = x_root\n",
    "            else:\n",
    "                parent[x_root] = y_root\n",
    "                rank[y_root] += 1\n",
    "        \n",
    "        # 记录每一个 account 的root节点\n",
    "        # 初始化的时候，每一个 account 都是自己的 root\n",
    "        parent = [i for i in range(len(accounts))]\n",
    "        rank = [0] * len(accounts)\n",
    "        email_parent = {}\n",
    "        \n",
    "        for idx, ac in enumerate(accounts):\n",
    "            for email in ac[1:]:\n",
    "                if email in email_parent:\n",
    "                    union(idx, email_parent[email])\n",
    "                email_parent[email] = idx\n",
    "        \n",
    "        # 根据每一个根节点，append 邮箱地址\n",
    "        ans = {}\n",
    "        for email in email_parent:\n",
    "            root = find(email_parent[email]) # 找到每个email的root节点\n",
    "            if root in ans:\n",
    "                ans[root].append(email)\n",
    "            else:\n",
    "                ans[root ] = [accounts[root][0], email]\n",
    "        \n",
    "        res = []\n",
    "        for item in ans.values():\n",
    "            info = [item[0]] + sorted(item[1:])\n",
    "            res.append(info)\n",
    "        return res"
   ]
  },
  {
   "cell_type": "code",
   "execution_count": 131,
   "metadata": {},
   "outputs": [
    {
     "name": "stdout",
     "output_type": "stream",
     "text": [
      "[0, 1, 0, 3] {'johnsmith@mail.com': 2, 'john00@mail.com': 0, 'johnnybravo@mail.com': 1, 'john_newyork@mail.com': 2, 'mary@mail.com': 3}\n"
     ]
    },
    {
     "data": {
      "text/plain": [
       "[['John', 'john00@mail.com', 'john_newyork@mail.com', 'johnsmith@mail.com'],\n",
       " ['John', 'johnnybravo@mail.com'],\n",
       " ['Mary', 'mary@mail.com']]"
      ]
     },
     "execution_count": 131,
     "metadata": {},
     "output_type": "execute_result"
    }
   ],
   "source": [
    "accounts_ = [[\"John\", \"johnsmith@mail.com\", \"john00@mail.com\"], \n",
    "             [\"John\", \"johnnybravo@mail.com\"], \n",
    "             [\"John\", \"johnsmith@mail.com\", \"john_newyork@mail.com\"], \n",
    "             [\"Mary\", \"mary@mail.com\"]]\n",
    "solution = Solution()\n",
    "solution.accountsMerge(accounts_)"
   ]
  },
  {
   "cell_type": "code",
   "execution_count": null,
   "metadata": {},
   "outputs": [],
   "source": []
  },
  {
   "cell_type": "code",
   "execution_count": null,
   "metadata": {},
   "outputs": [],
   "source": []
  }
 ],
 "metadata": {
  "kernelspec": {
   "display_name": "Python 3",
   "language": "python",
   "name": "python3"
  },
  "language_info": {
   "codemirror_mode": {
    "name": "ipython",
    "version": 3
   },
   "file_extension": ".py",
   "mimetype": "text/x-python",
   "name": "python",
   "nbconvert_exporter": "python",
   "pygments_lexer": "ipython3",
   "version": "3.6.2"
  }
 },
 "nbformat": 4,
 "nbformat_minor": 4
}
