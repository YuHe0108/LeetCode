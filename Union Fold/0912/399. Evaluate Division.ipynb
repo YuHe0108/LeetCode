{
 "cells": [
  {
   "cell_type": "raw",
   "metadata": {},
   "source": [
    "说明：\n",
    "    方程以A / B = k的格式给出，其中A和B是表示为字符串的变量，而k是实数（浮点数）。\n",
    "    给定一些查询，返回答案。\n",
    "    如果答案不存在，则返回-1.0。\n",
    "\n",
    "Example:\n",
    "    Given a / b = 2.0, b / c = 3.0.\n",
    "    queries are: a / c = ?, b / a = ?, a / e = ?, a / a = ?, x / x = ? .\n",
    "    return [6.0, 0.5, -1.0, 1.0, -1.0 ].\n",
    "\n",
    "    The input is: vector<pair<string, string>> equations, vector<double>& values, vector<pair<string, string>> queries , \n",
    "    where equations.size() == values.size(), and the values are positive. This represents the equations. Return vector<double>.\n",
    "\n",
    "    \n",
    "    According to the example above:\n",
    "        equations = [ [\"a\", \"b\"], [\"b\", \"c\"] ],\n",
    "        values = [2.0, 3.0],\n",
    "        queries = [ [\"a\", \"c\"], [\"b\", \"a\"], [\"a\", \"e\"], [\"a\", \"a\"], [\"x\", \"x\"] ]. \n",
    "\n",
    "说明：\n",
    "    输入始终有效。您可以假设对查询进行求值将不会导致被零除，并且不存在矛盾。"
   ]
  },
  {
   "cell_type": "code",
   "execution_count": 10,
   "metadata": {},
   "outputs": [],
   "source": [
    "from collections import defaultdict\n",
    "\n",
    "class Solution:\n",
    "    def calcEquation(self, equ, val, que):\n",
    "        \n",
    "        def dfs(graph, start, end, visited):\n",
    "            # 字母不包含在 graph中\n",
    "            if start not in graph or end not in graph:\n",
    "                return -1\n",
    "            # 两个字符相同\n",
    "            if start == end:\n",
    "                return 1\n",
    "            \n",
    "            visited.add(start)\n",
    "            for nei, val in graph[start]:\n",
    "                if nei in visited:\n",
    "                    continue\n",
    "                temp = dfs(graph, nei, end, visited)\n",
    "                if temp > 0:\n",
    "                    return val * temp\n",
    "            return -1.0\n",
    "        \n",
    "        # 建图的过程\n",
    "        graph = defaultdict(set)\n",
    "        for items, v in zip(equ, val):\n",
    "            x, y = items\n",
    "            graph[x].add((y, v)) # graph[x] 返回的是一个 set，如果x不在graph中，返回的是一个空的set {}, 之后添加元素\n",
    "            graph[y].add((x, 1.0/v))\n",
    "            print(graph)\n",
    "            \n",
    "        # 计算过程\n",
    "        res = []\n",
    "        for q in que:\n",
    "            res.append(dfs(graph, q[0], q[1], set()))\n",
    "        return res"
   ]
  },
  {
   "cell_type": "code",
   "execution_count": 30,
   "metadata": {},
   "outputs": [],
   "source": [
    "from collections import defaultdict\n",
    "\n",
    "class Solution:\n",
    "    def calcEquation(self, equ, val, que):\n",
    "        res = []\n",
    "        \n",
    "        def dfs(start, end, visited):\n",
    "            if start not in graph or end not in graph:\n",
    "                return -1\n",
    "            if start == end:\n",
    "                return 1\n",
    "            \n",
    "            visited.add(start)\n",
    "            for b, val in graph[start]:\n",
    "                if b in visited:\n",
    "                    continue\n",
    "                # 按着起点一直寻找，直到有返回值。\n",
    "                temp = dfs(b, end, visited)\n",
    "                if temp > 0:\n",
    "                    return val * temp\n",
    "            return -1.0\n",
    "            \n",
    "        \n",
    "        graph = defaultdict(set)\n",
    "        for alpha, val in zip(equ, val):\n",
    "            a, b = alpha\n",
    "            graph[a].add((b, val))\n",
    "            graph[b].add((a, 1/val))\n",
    "        \n",
    "        for a, b in que:\n",
    "            val = dfs(a, b, set())\n",
    "            res.append(val)\n",
    "        return res"
   ]
  },
  {
   "cell_type": "code",
   "execution_count": 31,
   "metadata": {},
   "outputs": [
    {
     "data": {
      "text/plain": [
       "[6.0, 0.5, -1, 1, -1]"
      ]
     },
     "execution_count": 31,
     "metadata": {},
     "output_type": "execute_result"
    }
   ],
   "source": [
    "equ_ = [ [\"a\", \"b\"], [\"b\", \"c\"] ]\n",
    "val_ = [2.0, 3.0]\n",
    "que_ = [ [\"a\", \"c\"], [\"b\", \"a\"], [\"a\", \"e\"], [\"a\", \"a\"], [\"x\", \"x\"] ]\n",
    "solution = Solution()\n",
    "solution.calcEquation(equ_, val_, que_)"
   ]
  },
  {
   "cell_type": "code",
   "execution_count": null,
   "metadata": {},
   "outputs": [],
   "source": []
  }
 ],
 "metadata": {
  "kernelspec": {
   "display_name": "Python 3",
   "language": "python",
   "name": "python3"
  },
  "language_info": {
   "codemirror_mode": {
    "name": "ipython",
    "version": 3
   },
   "file_extension": ".py",
   "mimetype": "text/x-python",
   "name": "python",
   "nbconvert_exporter": "python",
   "pygments_lexer": "ipython3",
   "version": "3.6.2"
  }
 },
 "nbformat": 4,
 "nbformat_minor": 4
}
