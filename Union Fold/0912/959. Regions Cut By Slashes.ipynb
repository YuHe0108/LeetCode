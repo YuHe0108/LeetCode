{
 "cells": [
  {
   "cell_type": "raw",
   "metadata": {},
   "source": [
    "说明：\n",
    "    在由1x1正方形组成的nxn网格中，\n",
    "    每个1x1正方形由一个/、\\、或空格组成。\n",
    "    这些字符将正方形划分为相邻的区域。（\n",
    "    请注意，反斜杠字符是转义的，因此\\表示为“\\\\”）\n",
    "    返回区域数。\n",
    "\n",
    "Note:\n",
    "    1、1 <= grid.length == grid[0].length <= 30\n",
    "    2、grid[i][j] is either '/', '\\', or ' '."
   ]
  },
  {
   "cell_type": "markdown",
   "metadata": {},
   "source": [
    "<img src='959.jpg'>\n",
    "<img src='959_2.jpg'>\n",
    "<img src='959_3.jpg'>"
   ]
  },
  {
   "cell_type": "code",
   "execution_count": 45,
   "metadata": {},
   "outputs": [],
   "source": [
    "class Solution:\n",
    "    def regionsBySlashes(self, grid) -> int:\n",
    "        n, roots = len(grid), [*range(len(grid)**2*2)] # root一共有8个节点\n",
    "        \n",
    "        def union(x, y):\n",
    "            root_x = find(x)\n",
    "            root_y = find(y)\n",
    "            if root_x != root_y:\n",
    "                roots[root_x] = root_y\n",
    "        \n",
    "        def find(x):\n",
    "            if roots[x] != x:\n",
    "                roots[x] = find(roots[x])\n",
    "            return roots[x]\n",
    "    \n",
    "        def hash_fun(x, y, dircs):# direc = 0 | 1 | 2 | 3, representing up, righasht, down, left\n",
    "            return (x * n + y) * 2 + (dircs < 2 if grid[x][y] == '\\\\' else 0 < dircs < 3)\n",
    "        \n",
    "        for i in range(n):\n",
    "            for j in range(n):\n",
    "                print((i * n + j) * 2, i, j)\n",
    "                if grid[i][j] == ' ':\n",
    "                    union(hash_fun(i, j, 0), hash_fun(i, j, 2)) # intra square connection\n",
    "                if j < n - 1:\n",
    "                    union(hash_fun(i, j, 1), hash_fun(i, j+1, 3))\n",
    "                if i < n - 1:\n",
    "                    union(hash_fun(i, j, 2), hash_fun(i+1, j, 0))\n",
    "        return len(set(find(x) for x in roots))"
   ]
  },
  {
   "cell_type": "code",
   "execution_count": 46,
   "metadata": {},
   "outputs": [
    {
     "name": "stdout",
     "output_type": "stream",
     "text": [
      "0 0 0\n",
      "2 0 1\n",
      "4 1 0\n",
      "6 1 1\n"
     ]
    },
    {
     "data": {
      "text/plain": [
       "5"
      ]
     },
     "execution_count": 46,
     "metadata": {},
     "output_type": "execute_result"
    }
   ],
   "source": [
    "grid_ = ['/\\\\', '\\\\/']\n",
    "solution = Solution()\n",
    "solution.regionsBySlashes(grid_)"
   ]
  },
  {
   "cell_type": "code",
   "execution_count": null,
   "metadata": {},
   "outputs": [],
   "source": [
    "class Solution:\n",
    "    def regionsBySlashes(self, grid: List[str]) -> int:\n",
    "        n, roots = len(grid), [*range(len(grid)**2*2)]\n",
    "        \n",
    "        def connect(i, j):\n",
    "            roots[find(i)] = find(j)\n",
    "        def find(i):\n",
    "            if roots[i] != i: roots[i] = find(roots[i])\n",
    "            return roots[i]\n",
    "        def hash(x, y, direc): # direc = 0 | 1 | 2 | 3, representing up, righasht, down, left\n",
    "            return (x*n + y)*2 + (direc < 2 if grid[x][y] == '\\\\' else 0 < direc < 3)\n",
    "        \n",
    "        for i in range(n):\n",
    "            for j in range(n):\n",
    "                if grid[i][j] == ' ': connect(hash(i, j, 0), hash(i, j, 2)) # intra square connection\n",
    "                j < n-1 and connect(hash(i, j, 1), hash(i, j+1, 3))\n",
    "                i < n-1 and connect(hash(i, j, 2), hash(i+1, j, 0))\n",
    "        return len(set(find(i) for i in roots))"
   ]
  },
  {
   "cell_type": "code",
   "execution_count": 35,
   "metadata": {},
   "outputs": [],
   "source": [
    "a = 1\n",
    "a += False"
   ]
  },
  {
   "cell_type": "code",
   "execution_count": 36,
   "metadata": {},
   "outputs": [
    {
     "data": {
      "text/plain": [
       "1"
      ]
     },
     "execution_count": 36,
     "metadata": {},
     "output_type": "execute_result"
    }
   ],
   "source": [
    "a"
   ]
  },
  {
   "cell_type": "code",
   "execution_count": null,
   "metadata": {},
   "outputs": [],
   "source": []
  }
 ],
 "metadata": {
  "kernelspec": {
   "display_name": "Python 3",
   "language": "python",
   "name": "python3"
  },
  "language_info": {
   "codemirror_mode": {
    "name": "ipython",
    "version": 3
   },
   "file_extension": ".py",
   "mimetype": "text/x-python",
   "name": "python",
   "nbconvert_exporter": "python",
   "pygments_lexer": "ipython3",
   "version": "3.6.2"
  }
 },
 "nbformat": 4,
 "nbformat_minor": 4
}
