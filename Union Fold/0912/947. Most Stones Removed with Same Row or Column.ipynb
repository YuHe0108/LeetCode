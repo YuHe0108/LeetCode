{
 "cells": [
  {
   "cell_type": "raw",
   "metadata": {},
   "source": [
    "说明：\n",
    "    在2D平面上，我们将石头放置在一些整数坐标点上。\n",
    "    每个坐标点最多可以有一个石头。\n",
    "    现在，a move 包括删除一块与网格上另一块石头共享同一列或一行的石头。\n",
    "    我们可以进行的最大动作数是多少？\n",
    "\n",
    "Example 1:\n",
    "    Input: stones = [[0,0],[0,1],[1,0],[1,2],[2,1],[2,2]]\n",
    "    Output: 5\n",
    "    \n",
    "Example 2:\n",
    "    Input: stones = [[0,0],[0,2],[1,1],[2,0],[2,2]]\n",
    "    Output: 3\n",
    "\n",
    "Example 3:\n",
    "    Input: stones = [[0,0]]\n",
    "    Output: 0\n",
    "\n",
    "Note:\n",
    "    1、1 <= stones.length <= 1000\n",
    "    2、0 <= stones[i][j] < 10000\n",
    "\n",
    "# 将同行或者同列的石头是做一个 Group, 这个Group中能够 move 掉最多的石头的数量就是 len(group) - 1 个"
   ]
  },
  {
   "cell_type": "code",
   "execution_count": 46,
   "metadata": {},
   "outputs": [],
   "source": [
    "from collections import defaultdict\n",
    "class Solution:\n",
    "    def removeStones(self, stones) -> int:\n",
    "        \n",
    "        def find(x):\n",
    "            if parent[x] != x:\n",
    "                parent[x] = find(parent[x])\n",
    "            return parent[x]\n",
    "        \n",
    "        def union(x, y):\n",
    "            root_x = find(x)\n",
    "            root_y = find(y)\n",
    "            if root_x == root_y:\n",
    "                return\n",
    "            else:\n",
    "                parent[root_x] = root_y\n",
    "                \n",
    "        \n",
    "        N = 10000 #　将二维的坐标转换为 1 个数字\n",
    "        \n",
    "        row_parent = defaultdict(list)\n",
    "        col_parent = defaultdict(list)\n",
    "        parent = {}\n",
    "        for idx, item in enumerate(stones):\n",
    "            ids = item[0] * N + item[1]\n",
    "            row_parent[item[0]].append(ids)\n",
    "            col_parent[item[1]].append(ids)\n",
    "            parent[ids] = ids\n",
    "        \n",
    "        print(row_parent)\n",
    "        for item in row_parent.items():\n",
    "            id0 = item[1][0]\n",
    "            for val in item[1]:\n",
    "                if find(val) != find(id0):\n",
    "                    union(val, id0)\n",
    "        \n",
    "        for item in col_parent.items():\n",
    "            id0 = item[1][0]\n",
    "            for val in item[1]:\n",
    "                if find(val) != find(id0):\n",
    "                    union(val, id0)\n",
    "        print(col_parent)\n",
    "        \n",
    "        root_set = set()\n",
    "        for val in parent:\n",
    "            root = find(val)\n",
    "            root_set.add(root)\n",
    "        return len(stones) - len(root_set)"
   ]
  },
  {
   "cell_type": "code",
   "execution_count": 47,
   "metadata": {},
   "outputs": [
    {
     "name": "stdout",
     "output_type": "stream",
     "text": [
      "defaultdict(<class 'list'>, {0: [0, 1], 1: [10000, 10002], 2: [20001, 20002]})\n",
      "defaultdict(<class 'list'>, {0: [0, 10000], 1: [1, 20001], 2: [10002, 20002]})\n"
     ]
    },
    {
     "data": {
      "text/plain": [
       "5"
      ]
     },
     "execution_count": 47,
     "metadata": {},
     "output_type": "execute_result"
    }
   ],
   "source": [
    "stones_ = [[0,0],[0,1],[1,0],[1,2],[2,1],[2,2]]\n",
    "solution = Solution()\n",
    "solution.removeStones(stones_)"
   ]
  },
  {
   "cell_type": "code",
   "execution_count": null,
   "metadata": {},
   "outputs": [],
   "source": [
    " "
   ]
  }
 ],
 "metadata": {
  "kernelspec": {
   "display_name": "Python 3",
   "language": "python",
   "name": "python3"
  },
  "language_info": {
   "codemirror_mode": {
    "name": "ipython",
    "version": 3
   },
   "file_extension": ".py",
   "mimetype": "text/x-python",
   "name": "python",
   "nbconvert_exporter": "python",
   "pygments_lexer": "ipython3",
   "version": "3.6.2"
  }
 },
 "nbformat": 4,
 "nbformat_minor": 4
}
