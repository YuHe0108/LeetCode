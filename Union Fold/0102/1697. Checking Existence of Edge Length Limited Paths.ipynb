{
 "cells": [
  {
   "cell_type": "code",
   "execution_count": null,
   "metadata": {},
   "outputs": [],
   "source": []
  },
  {
   "cell_type": "code",
   "execution_count": null,
   "metadata": {},
   "outputs": [],
   "source": []
  },
  {
   "cell_type": "code",
   "execution_count": null,
   "metadata": {},
   "outputs": [],
   "source": []
  },
  {
   "cell_type": "code",
   "execution_count": null,
   "metadata": {},
   "outputs": [],
   "source": []
  },
  {
   "cell_type": "code",
   "execution_count": null,
   "metadata": {},
   "outputs": [],
   "source": []
  },
  {
   "cell_type": "code",
   "execution_count": 31,
   "metadata": {},
   "outputs": [],
   "source": [
    "from typing import List\n",
    "from collections import defaultdict, deque\n",
    "from sortedcontainers import SortedList\n",
    "\n",
    "class Solution:\n",
    "    def distanceLimitedPathsExist(self, n: int, edgeList: List[List[int]], queries: List[List[int]]) -> List[bool]:\n",
    "        graph = defaultdict(dict)\n",
    "        for s, e, l in edgeList:\n",
    "            if e not in graph[s]:\n",
    "                graph[s][e] = SortedList()\n",
    "            if s not in graph[e]:\n",
    "                graph[e][s] = SortedList()\n",
    "            graph[s][e].add(l)\n",
    "            graph[e][s].add(l)\n",
    "        \n",
    "        res = [False] * len(queries)\n",
    "        record = {}\n",
    "        for i, (s, e, limit) in enumerate(queries):\n",
    "            dq = deque([s]) # 从 s 点出发，当前行驶的距离是多少\n",
    "            seen = set()\n",
    "            while dq:\n",
    "                for _ in range(len(dq)):\n",
    "                    pos = dq.popleft()\n",
    "                    seen.add(pos)\n",
    "                    if pos == e:\n",
    "                        res[i] = True\n",
    "                    for nxt in graph[pos]:\n",
    "                        if nxt in seen:\n",
    "                            continue\n",
    "                        if graph[pos][nxt][0] < limit:\n",
    "                            dq.append(nxt)\n",
    "                if res[i] is True:\n",
    "                    break\n",
    "        return res"
   ]
  },
  {
   "cell_type": "code",
   "execution_count": null,
   "metadata": {},
   "outputs": [],
   "source": []
  },
  {
   "cell_type": "code",
   "execution_count": null,
   "metadata": {},
   "outputs": [],
   "source": []
  },
  {
   "cell_type": "code",
   "execution_count": 65,
   "metadata": {},
   "outputs": [],
   "source": [
    "class Solution:\n",
    "    def distanceLimitedPathsExist(self, n: int, edgeList: List[List[int]], queries: List[List[int]]) -> List[bool]:\n",
    "        def find(x):\n",
    "            if x != father[x]:\n",
    "                return find(father[x])\n",
    "            return x\n",
    "            \n",
    "        def union(x, y):\n",
    "            x, y = find(x), find(y)\n",
    "            if x < y:\n",
    "                father[x] = y\n",
    "            else:\n",
    "                father[y] = x\n",
    "        \n",
    "        edgeList.sort(key=lambda x:x[-1]) # 按照两点之间的距离排序\n",
    "        queries = [(item, i) for i, item in enumerate(queries)]\n",
    "        queries.sort(key=lambda x: x[0][-1])\n",
    "        father = [x for x in range(n)] \n",
    "        n = len(queries)\n",
    "        res = [False] * n\n",
    "        k = 0\n",
    "        for item in queries:\n",
    "            s, e, l = item[0]\n",
    "            idx = item[1]\n",
    "            while k < len(edgeList) and edgeList[k][-1] < l:\n",
    "                union(edgeList[k][0], edgeList[k][1])\n",
    "                k += 1\n",
    "            if find(s) == find(e):\n",
    "                res[idx] = True\n",
    "        return res"
   ]
  },
  {
   "cell_type": "code",
   "execution_count": 66,
   "metadata": {},
   "outputs": [
    {
     "data": {
      "text/plain": [
       "[True, False]"
      ]
     },
     "execution_count": 66,
     "metadata": {},
     "output_type": "execute_result"
    }
   ],
   "source": [
    "solution = Solution()\n",
    "solution.distanceLimitedPathsExist(n = 5, edgeList = [[0,1,10],[1,2,5],[2,3,9],[3,4,13]], queries = [[0,4,14],[1,4,13]])"
   ]
  },
  {
   "cell_type": "code",
   "execution_count": null,
   "metadata": {},
   "outputs": [],
   "source": []
  },
  {
   "cell_type": "code",
   "execution_count": null,
   "metadata": {},
   "outputs": [],
   "source": [
    "{0: {1: SortedList([2, 16]), 2: SortedList([8])}, \n",
    " 1: {0: SortedList([2, 16]), 2: SortedList([4])}, \n",
    " 2: {1: SortedList([4]), 0: SortedList([8])}}"
   ]
  },
  {
   "cell_type": "code",
   "execution_count": null,
   "metadata": {},
   "outputs": [],
   "source": []
  },
  {
   "cell_type": "code",
   "execution_count": null,
   "metadata": {},
   "outputs": [],
   "source": []
  },
  {
   "cell_type": "code",
   "execution_count": null,
   "metadata": {},
   "outputs": [],
   "source": []
  },
  {
   "cell_type": "code",
   "execution_count": 49,
   "metadata": {},
   "outputs": [],
   "source": [
    "class Solution:\n",
    "    def distanceLimitedPathsExist(self, n: int, edgeList: List[List[int]], queries: List[List[int]]) -> List[bool]:\n",
    "        def find(i):\n",
    "            f[i] = i if f[i] == i else find(f[i])\n",
    "            return f[i]\n",
    "        \n",
    "        def union(i, j):\n",
    "            fi, fj = find(i), find(j)\n",
    "            f[fj] = fi\n",
    "        \n",
    "        f = list(range(n))\n",
    "        edgeList.sort(key=lambda x: x[2]) # 按照距离从小到大排序\n",
    "        q = [(queries[i], i) for i in range(len(queries))] \n",
    "        q.sort(key=lambda x: x[0][2]) # 边长按照从小到大排序\n",
    "        ans = [False] * len(q)\n",
    "        k = 0\n",
    "        for t in q:\n",
    "            # 连接所有点和点之间的距离小于 t[0][2]\n",
    "            while k < len(edgeList) and edgeList[k][2] < t[0][2]:\n",
    "                union(edgeList[k][0], edgeList[k][1])\n",
    "                k += 1\n",
    "            if find(t[0][0]) == find(t[0][1]):\n",
    "                ans[t[1]] = True\n",
    "        return ans "
   ]
  },
  {
   "cell_type": "code",
   "execution_count": 50,
   "metadata": {},
   "outputs": [
    {
     "name": "stdout",
     "output_type": "stream",
     "text": [
      "[[1, 2, 5], [2, 3, 9], [0, 1, 10], [3, 4, 13]]\n"
     ]
    },
    {
     "data": {
      "text/plain": [
       "[True, False]"
      ]
     },
     "execution_count": 50,
     "metadata": {},
     "output_type": "execute_result"
    }
   ],
   "source": [
    "solution = Solution()\n",
    "solution.distanceLimitedPathsExist(n = 5, \n",
    "                                   edgeList = [[0,1,10],[1,2,5],[2,3,9],[3,4,13]], \n",
    "                                   queries = [[0,4,14],[1,4,13]])"
   ]
  },
  {
   "cell_type": "code",
   "execution_count": null,
   "metadata": {},
   "outputs": [],
   "source": []
  }
 ],
 "metadata": {
  "kernelspec": {
   "display_name": "Python 3",
   "language": "python",
   "name": "python3"
  },
  "language_info": {
   "codemirror_mode": {
    "name": "ipython",
    "version": 3
   },
   "file_extension": ".py",
   "mimetype": "text/x-python",
   "name": "python",
   "nbconvert_exporter": "python",
   "pygments_lexer": "ipython3",
   "version": "3.6.2"
  }
 },
 "nbformat": 4,
 "nbformat_minor": 4
}
