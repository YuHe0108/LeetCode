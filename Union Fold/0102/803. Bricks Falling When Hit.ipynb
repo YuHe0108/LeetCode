{
 "cells": [
  {
   "cell_type": "code",
   "execution_count": null,
   "metadata": {},
   "outputs": [],
   "source": []
  },
  {
   "cell_type": "code",
   "execution_count": 16,
   "metadata": {},
   "outputs": [
    {
     "data": {
      "text/plain": [
       "1"
      ]
     },
     "execution_count": 16,
     "metadata": {},
     "output_type": "execute_result"
    }
   ],
   "source": [
    "p = {}\n",
    "p.setdefault(1, [1, 2])[0]"
   ]
  },
  {
   "cell_type": "code",
   "execution_count": null,
   "metadata": {},
   "outputs": [],
   "source": []
  },
  {
   "cell_type": "code",
   "execution_count": 14,
   "metadata": {},
   "outputs": [],
   "source": [
    "class Solution:\n",
    "    def hitBricks(self, grid: List[List[int]], hits: List[List[int]]) -> List[int]:\n",
    "        def find(x):\n",
    "            if x != p.setdefault(x, [x, 1])[0]:\n",
    "                p[x][0] = find(p[x][0])\n",
    "            return p[x][0]\n",
    "\n",
    "        def union(x, y):\n",
    "            # print(x, y)\n",
    "            p_x, cnt_x = p[find(x)]\n",
    "            p_y, cnt_y = p[find(y)]\n",
    "            if p_x != p_y:\n",
    "                if p_x < p_y:\n",
    "                    p[p_y][0] = p_x\n",
    "                    p[p_x][1] += cnt_y\n",
    "                else:\n",
    "                    p[p_x][0] = p_y\n",
    "                    p[p_y][1] += cnt_x\n",
    "        \n",
    "        m = len(grid)\n",
    "        n = len(grid[0])\n",
    "        p = {}\n",
    "        t = [line.copy() for line in grid]\n",
    "        for x, y in hits:\n",
    "            grid[x][y] = 0\n",
    "        \n",
    "        for i in range(m):\n",
    "            for j in range(n):\n",
    "                if grid[i][j]:\n",
    "                    if i == 0:\n",
    "                        union(-1, j)\n",
    "                    for delx, dely in [(0,1), (0,-1), (1,0), (-1,0)]:\n",
    "                        if 0 <= i + delx < m and 0 <= j + dely < n and grid[i+delx][j+dely]:\n",
    "                            union(i * n + j, (i + delx) * n + (j + dely))\n",
    "        print(p)\n",
    "        # 击打了多少个砖块\n",
    "        l_h = len(hits)\n",
    "        res = [0] * l_h\n",
    "        for i in reversed(range(l_h)):\n",
    "            tmp = p.setdefault(-1, [-1, 0])[1]\n",
    "            x, y = hits[i]\n",
    "            grid[x][y] = t[x][y]\n",
    "            if not grid[x][y]:\n",
    "                continue\n",
    "            if x == 0:\n",
    "                union(-1, y)\n",
    "            for delx, dely in [(0,1), (0,-1), (1,0), (-1,0)]:\n",
    "                if 0 <= x + delx < m and 0 <= y + dely < n and grid[x+delx][y+dely]:\n",
    "                    union(x*n+y, (x+delx)*n+(y+dely))\n",
    "            res[i] = max(0, p[-1][1] - tmp - 1)\n",
    "        return res"
   ]
  },
  {
   "cell_type": "code",
   "execution_count": 15,
   "metadata": {},
   "outputs": [
    {
     "name": "stdout",
     "output_type": "stream",
     "text": [
      "{-1: [-1, 2], 0: [-1, 1], 5: [5, 2], 6: [5, 1]}\n"
     ]
    },
    {
     "data": {
      "text/plain": [
       "[2]"
      ]
     },
     "execution_count": 15,
     "metadata": {},
     "output_type": "execute_result"
    }
   ],
   "source": [
    "solution = Solution()\n",
    "solution.hitBricks(grid = [[1,0,0,0],\n",
    "                           [1,1,1,0]], hits = [[1,0]])"
   ]
  },
  {
   "cell_type": "code",
   "execution_count": null,
   "metadata": {},
   "outputs": [],
   "source": []
  },
  {
   "cell_type": "code",
   "execution_count": null,
   "metadata": {},
   "outputs": [],
   "source": []
  },
  {
   "cell_type": "code",
   "execution_count": 1,
   "metadata": {},
   "outputs": [],
   "source": [
    "from typing import List\n",
    "\n",
    "class Solution:\n",
    "    def hitBricks(self, grid: List[List[int]], hits: List[List[int]]) -> List[int]:\n",
    "        pass"
   ]
  },
  {
   "cell_type": "code",
   "execution_count": 2,
   "metadata": {},
   "outputs": [],
   "source": [
    "solution = Solution()\n",
    "solution.hitBricks(grid = [[1,0,0,0],\n",
    "                           [1,1,1,0]], hits = [[1,0]])"
   ]
  },
  {
   "cell_type": "code",
   "execution_count": null,
   "metadata": {},
   "outputs": [],
   "source": []
  },
  {
   "cell_type": "code",
   "execution_count": null,
   "metadata": {},
   "outputs": [],
   "source": []
  },
  {
   "cell_type": "code",
   "execution_count": 17,
   "metadata": {},
   "outputs": [
    {
     "name": "stdout",
     "output_type": "stream",
     "text": [
      "9\n",
      "8\n",
      "7\n",
      "6\n",
      "5\n",
      "4\n",
      "3\n",
      "2\n",
      "1\n",
      "0\n"
     ]
    }
   ],
   "source": []
  },
  {
   "cell_type": "code",
   "execution_count": null,
   "metadata": {},
   "outputs": [],
   "source": []
  }
 ],
 "metadata": {
  "kernelspec": {
   "display_name": "Python 3",
   "language": "python",
   "name": "python3"
  },
  "language_info": {
   "codemirror_mode": {
    "name": "ipython",
    "version": 3
   },
   "file_extension": ".py",
   "mimetype": "text/x-python",
   "name": "python",
   "nbconvert_exporter": "python",
   "pygments_lexer": "ipython3",
   "version": "3.6.2"
  }
 },
 "nbformat": 4,
 "nbformat_minor": 4
}
