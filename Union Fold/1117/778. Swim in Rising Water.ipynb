{
 "cells": [
  {
   "cell_type": "raw",
   "metadata": {},
   "source": [
    "    在一个 N x N 的坐标方格 grid 中，每一个方格的值 grid[i][j] 表示在位置 (i,j) 的平台高度。\n",
    "\n",
    "    现在开始下雨了。\n",
    "    当时间为 t 时，此时雨水导致水池中任意位置的水位为 t 。\n",
    "    你可以从一个平台游向四周相邻的任意一个平台，但是前提是此时水位必须同时淹没这两个平台。\n",
    "    假定你可以瞬间移动无限距离，也就是默认在方格内部游动是不耗时的。\n",
    "    当然，在你游泳的时候你必须待在坐标方格里面。\n",
    "\n",
    "    你从坐标方格的左上平台 (0，0) 出发。最少耗时多久你才能到达坐标方格的右下平台 (N-1, N-1)？\n",
    "\n",
    "示例 1:\n",
    "    输入: [[0,2],\n",
    "           [1,3]]\n",
    "    输出: 3\n",
    "    解释:\n",
    "        时间为0时，你位于坐标方格的位置为 (0, 0)。\n",
    "        此时你不能游向任意方向，因为四个相邻方向平台的高度都大于当前时间为 0 时的水位。\n",
    "        等时间到达 3 时，你才可以游向平台 (1, 1). 因为此时的水位是 3，坐标方格中的平台没有比水位 3 更高的，所以你可以游向坐标方格中的任意位置\n",
    "\n",
    "示例2:\n",
    "    输入: [[0,1,2,3,4],[24,23,22,21,5],[12,13,14,15,16],[11,17,18,19,20],[10,9,8,7,6]]\n",
    "    输出: 16\n",
    "    解释:\n",
    "             0  1  2  3  4\n",
    "            24 23 22 21  5\n",
    "            12 13 14 15 16\n",
    "            11 17 18 19 20\n",
    "            10  9  8  7  6\n",
    "            最终的路线用加粗进行了标记。\n",
    "            我们必须等到时间为 16，此时才能保证平台 (0, 0) 和 (4, 4) 是连通的\n",
    " \n",
    "提示:\n",
    "    2 <= N <= 50.\n",
    "    grid[i][j] 位于区间 [0, ..., N*N - 1] 内。"
   ]
  },
  {
   "cell_type": "code",
   "execution_count": 108,
   "metadata": {},
   "outputs": [],
   "source": [
    "from collections import deque\n",
    "import heapq\n",
    "\n",
    "class Solution:\n",
    "    def swimInWater(self, grid) -> int:\n",
    "        N = len(grid)\n",
    "        pq = []\n",
    "        heapq.heappush(pq, (grid[0][0], 0, 0))\n",
    "        visited = [[0] * N for _ in range(N)]\n",
    "        visited[0][0] = 1\n",
    "        t = 0\n",
    "        while pq:\n",
    "            h, x, y = heapq.heappop(pq)\n",
    "            t = h\n",
    "            if (x, y) == (N-1, N-1): # 现在水到的格子就是最后一个格子\n",
    "                print(h)\n",
    "                return t\n",
    "            # 开始从 (0, 0)向四周涨水\n",
    "            q = deque([(x, y)])\n",
    "            while q:\n",
    "                i, j = q.popleft()\n",
    "                for ni, nj in (i+1, j), (i-1, j), (i, j+1), (i, j-1):\n",
    "                    if ni < 0 or nj < 0 or ni >= N or nj >= N:\n",
    "                        continue\n",
    "                    if visited[ni][nj] == 1:\n",
    "                        continue\n",
    "                    if grid[ni][nj] <= t: # 如果当时的水位低于t，那么就可以淹没\n",
    "                        if ni == N-1 and nj == N-1:\n",
    "                            return t\n",
    "                        q.append((ni, nj))\n",
    "                    else:\n",
    "                        heapq.heappush(pq, (grid[ni][nj], ni, nj))\n",
    "                    visited[ni][nj] = 1\n",
    "        return t"
   ]
  },
  {
   "cell_type": "code",
   "execution_count": 109,
   "metadata": {},
   "outputs": [
    {
     "name": "stdout",
     "output_type": "stream",
     "text": [
      "0\n",
      "0\n",
      "1\n",
      "2\n"
     ]
    },
    {
     "data": {
      "text/plain": [
       "2"
      ]
     },
     "execution_count": 109,
     "metadata": {},
     "output_type": "execute_result"
    }
   ],
   "source": [
    "solution = Solution()\n",
    "solution.swimInWater([[0,3],\n",
    "                      [1,2]])"
   ]
  },
  {
   "cell_type": "code",
   "execution_count": 94,
   "metadata": {},
   "outputs": [],
   "source": [
    "from collections import deque\n",
    "q = deque([(0, 0)])"
   ]
  },
  {
   "cell_type": "code",
   "execution_count": null,
   "metadata": {},
   "outputs": [],
   "source": []
  },
  {
   "cell_type": "code",
   "execution_count": null,
   "metadata": {},
   "outputs": [],
   "source": []
  }
 ],
 "metadata": {
  "kernelspec": {
   "display_name": "Python 3",
   "language": "python",
   "name": "python3"
  },
  "language_info": {
   "codemirror_mode": {
    "name": "ipython",
    "version": 3
   },
   "file_extension": ".py",
   "mimetype": "text/x-python",
   "name": "python",
   "nbconvert_exporter": "python",
   "pygments_lexer": "ipython3",
   "version": "3.6.2"
  }
 },
 "nbformat": 4,
 "nbformat_minor": 4
}
