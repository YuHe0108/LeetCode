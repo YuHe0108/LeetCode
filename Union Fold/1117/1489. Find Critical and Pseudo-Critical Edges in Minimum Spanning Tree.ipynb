{
 "cells": [
  {
   "cell_type": "raw",
   "metadata": {},
   "source": [
    "    给你一个 n 个点的带权无向连通图，节点编号为 0 到 n-1 ，同时还有一个数组 edges ，\n",
    "    其中 edges[i] = [fromi, toi, weighti] 表示在 fromi 和 toi 节点之间有一条带权无向边。\n",
    "    最小生成树 (MST) 是给定图中边的一个子集，它连接了所有节点且没有环，而且这些边的权值和最小。\n",
    "\n",
    "    请你找到给定图中最小生成树的所有关键边和伪关键边。\n",
    "    如果从图中删去某条边，会导致最小生成树的权值和增加，那么我们就说它是一条关键边。\n",
    "    \n",
    "    伪关键边则是可能会出现在某些最小生成树中但不会出现在所有最小生成树中的边。\n",
    "    \n",
    "    请注意，你可以分别以任意顺序返回关键边的下标和伪关键边的下标。"
   ]
  },
  {
   "cell_type": "markdown",
   "metadata": {},
   "source": [
    "<img src='https://assets.leetcode-cn.com/aliyun-lc-upload/uploads/2020/06/21/ex1.png'>\n",
    "<img src='https://assets.leetcode-cn.com/aliyun-lc-upload/uploads/2020/06/21/msts.png'>"
   ]
  },
  {
   "cell_type": "raw",
   "metadata": {},
   "source": [
    "输入：n = 5, edges = [[0,1,1],[1,2,1],[2,3,2],[0,3,2],[0,4,3],[3,4,3],[1,4,6]]\n",
    "输出：[[0,1],[2,3,4,5]]\n",
    "解释：\n",
    "    上图描述了给定图。下图是所有的最小生成树。\n",
    "    注意到第 0 条边和第 1 条边出现在了所有最小生成树中，所以它们是关键边，\n",
    "    我们将这两个下标作为输出的第一个列表。\n",
    "    边 2，3，4 和 5 是所有 MST 的剩余边，所以它们是伪关键边。我们将它们作为输出的第二个列表。"
   ]
  },
  {
   "cell_type": "markdown",
   "metadata": {},
   "source": [
    "<img src='https://assets.leetcode-cn.com/aliyun-lc-upload/uploads/2020/06/21/ex2.png'>"
   ]
  },
  {
   "cell_type": "raw",
   "metadata": {},
   "source": [
    "    输入：n = 4, edges = [[0,1,1],[1,2,1],[2,3,1],[0,3,1]]\n",
    "    输出：[[],[0,1,2,3]]\n",
    "    解释：可以观察到 4 条边都有相同的权值，任选它们中的 3 条可以形成一棵 MST 。所以 4 条边都是伪关键边。"
   ]
  },
  {
   "cell_type": "raw",
   "metadata": {},
   "source": [
    "提示：\n",
    "    2 <= n <= 100\n",
    "    1 <= edges.length <= min(200, n * (n - 1) / 2)\n",
    "    edges[i].length == 3\n",
    "    0 <= fromi < toi < n\n",
    "    1 <= weighti <= 1000\n",
    "    所有 (fromi, toi) 数对都是互不相同的。"
   ]
  },
  {
   "cell_type": "code",
   "execution_count": 209,
   "metadata": {},
   "outputs": [],
   "source": [
    "import heapq\n",
    "import copy\n",
    "\n",
    "class Solution:\n",
    "    def findCriticalAndPseudoCriticalEdges(self, n: int, edges):\n",
    "        def find(x, father):\n",
    "            if father[x] != x:\n",
    "                father[x] = find(father[x], father)\n",
    "            return father[x]\n",
    "        \n",
    "        def union(x, y, father):\n",
    "            x, y = find(x, father), find(y, father)\n",
    "            if x > y:\n",
    "                father[x] = y\n",
    "            else:\n",
    "                father[y] = x\n",
    "        \n",
    "        def check(paths, free_edge):\n",
    "            father = [x for x in range(n)]\n",
    "            visited = set()\n",
    "            useful = set()\n",
    "            cost = 0\n",
    "            while paths:\n",
    "                w, s, e = heapq.heappop(paths)\n",
    "                if (w, s, e) == free_edge:\n",
    "                    continue\n",
    "                s_f, e_f = find(s, father), find(e, father)\n",
    "                if s_f != e_f:\n",
    "                    visited.add(s)\n",
    "                    visited.add(e)\n",
    "                    union(s, e, father)\n",
    "                    cost += w\n",
    "                    useful.add((w, s, e))\n",
    "            \n",
    "            for i in range(n):\n",
    "                if find(0, father) != find(i, father):\n",
    "                    return -1, useful\n",
    "            return cost, useful\n",
    "        \n",
    "        n_edges = []\n",
    "        for s, e, w in edges:\n",
    "            heapq.heappush(n_edges, (w, s, e))\n",
    "        all_cost, _ = check(n_edges[:], [])\n",
    "        \n",
    "        print(n_edges)     \n",
    "        necc = set()\n",
    "        un_necc = set()\n",
    "        for i in range(len(n_edges)):\n",
    "            sub_cost, use = check(n_edges[:], n_edges[i])\n",
    "            if sub_cost == -1 or sub_cost > all_cost:\n",
    "                necc.add(i)\n",
    "            elif sub_cost == all_cost:\n",
    "                print(use)\n",
    "                un_necc |= use\n",
    "        \n",
    "        un_necc_set = set()\n",
    "        for v in un_necc:\n",
    "            idx = n_edges.index(v)\n",
    "            if idx not in necc:\n",
    "                un_necc_set.add(idx)\n",
    "        return [necc, un_necc_set]        "
   ]
  },
  {
   "cell_type": "code",
   "execution_count": 367,
   "metadata": {},
   "outputs": [],
   "source": [
    "import heapq\n",
    "\n",
    "class Solution:\n",
    "    def findCriticalAndPseudoCriticalEdges(self, n: int, edges):\n",
    "        def find(x, father):\n",
    "            if father[x] != x:\n",
    "                father[x] = find(father[x], father)\n",
    "            return father[x]\n",
    "        \n",
    "        def union(x, y, father):\n",
    "            x, y = find(x, father), find(y, father)\n",
    "            if x > y:\n",
    "                father[x] = y\n",
    "            else:\n",
    "                father[y] = x\n",
    "        \n",
    "        def check(paths, free_use=None, must_use=None):\n",
    "            father = [x for x in range(n)]\n",
    "            cost = 0\n",
    "            if must_use:\n",
    "                for w, s, e in must_use:\n",
    "                    s_f, e_f = find(s, father), find(e, father)\n",
    "                    if s_f != e_f:\n",
    "                        union(s, e, father)\n",
    "                        cost += w\n",
    "            while paths:\n",
    "                w, s, e = heapq.heappop(paths)\n",
    "                if free_use and (w, s, e) == free_use:\n",
    "                    continue\n",
    "                s_f, e_f = find(s, father), find(e, father)\n",
    "                if s_f != e_f:\n",
    "                    union(s, e, father)\n",
    "                    cost += w\n",
    "            for i in range(n):\n",
    "                if find(0, father) != find(i, father):\n",
    "                    return -1\n",
    "            return cost\n",
    "        \n",
    "        n_edges = []\n",
    "        for s, e, w in edges:\n",
    "            heapq.heappush(n_edges, (w, s, e))\n",
    "        min_cost = check(n_edges[:])\n",
    "        \n",
    "        necc, unnecc = [], []\n",
    "        for i in range(len(n_edges)):\n",
    "            sub_cost = check(n_edges[:], (edges[i][-1], edges[i][0], edges[i][1]))\n",
    "            if sub_cost == -1 or sub_cost > min_cost:\n",
    "                necc.append(i)\n",
    "            elif sub_cost == min_cost:\n",
    "                # 不用 edges[i], 没有导致 cost 增加，强制使用 edges[i] ，也没有导致cost增加，说明这个边可有可无\n",
    "                sub_cost = check(n_edges[:], None, [[edges[i][-1], edges[i][0], edges[i][1]]])     \n",
    "                if sub_cost == min_cost and i not in necc:\n",
    "                    unnecc.append(i)\n",
    "        return [necc, unnecc]"
   ]
  },
  {
   "cell_type": "code",
   "execution_count": 368,
   "metadata": {},
   "outputs": [
    {
     "data": {
      "text/plain": [
       "[[0, 2, 3, 5], [1, 4]]"
      ]
     },
     "execution_count": 368,
     "metadata": {},
     "output_type": "execute_result"
    }
   ],
   "source": [
    "solution = Solution()\n",
    "solution.findCriticalAndPseudoCriticalEdges(6, [[0,1,2],[0,2,5],[2,3,5],[1,4,4],[2,5,5],[4,5,2]])"
   ]
  },
  {
   "cell_type": "code",
   "execution_count": 102,
   "metadata": {},
   "outputs": [],
   "source": [
    "[(1, 0, 1), (1, 0, 3), (1, 0, 2), (1, 1, 2), (1, 1, 3), (1, 2, 3)]\n",
    "[{(1, 0, 3), (1, 0, 2), (1, 1, 2)}, \n",
    " {(1, 1, 3), (1, 0, 2), (1, 0, 1)}, \n",
    " {(1, 0, 3), (1, 1, 2), (1, 0, 1)}, \n",
    " {(1, 0, 3), (1, 0, 2), (1, 0, 1)}, \n",
    " {(1, 0, 3), (1, 0, 2), (1, 0, 1)}, \n",
    " {(1, 0, 3), (1, 0, 2), (1, 0, 1)}]"
   ]
  },
  {
   "cell_type": "code",
   "execution_count": 103,
   "metadata": {},
   "outputs": [
    {
     "data": {
      "text/plain": [
       "{3}"
      ]
     },
     "execution_count": 103,
     "metadata": {},
     "output_type": "execute_result"
    }
   ],
   "source": [
    "b"
   ]
  },
  {
   "cell_type": "code",
   "execution_count": 131,
   "metadata": {},
   "outputs": [],
   "source": [
    "b = {(1, 0, 3), (1, 2, 3), (1, 1, 2)}\n",
    "c = {(1, 1, 2), (1, 2, 3), (1, 0, 1)}\n",
    "d = {(1, 0, 3), (1, 1, 2), (1, 0, 1)}\n",
    "e = {(1, 0, 3), (1, 2, 3), (1, 0, 1)}"
   ]
  },
  {
   "cell_type": "code",
   "execution_count": 137,
   "metadata": {},
   "outputs": [
    {
     "name": "stdout",
     "output_type": "stream",
     "text": [
      "{(1, 0, 1), (1, 0, 3), (1, 1, 2), (1, 2, 3)}\n"
     ]
    }
   ],
   "source": [
    "print(b ^ c ^ d ^ e)"
   ]
  },
  {
   "cell_type": "code",
   "execution_count": null,
   "metadata": {},
   "outputs": [],
   "source": []
  },
  {
   "cell_type": "code",
   "execution_count": 165,
   "metadata": {},
   "outputs": [],
   "source": [
    "import heapq"
   ]
  },
  {
   "cell_type": "code",
   "execution_count": 167,
   "metadata": {},
   "outputs": [],
   "source": [
    "a = []\n",
    "for i in [3,4 ,5 ,6,-1,-10, 22]:\n",
    "    heapq.heappush(a, i)"
   ]
  },
  {
   "cell_type": "code",
   "execution_count": 169,
   "metadata": {},
   "outputs": [
    {
     "data": {
      "text/plain": [
       "-10"
      ]
     },
     "execution_count": 169,
     "metadata": {},
     "output_type": "execute_result"
    }
   ],
   "source": [
    "heapq.heappop(a)"
   ]
  },
  {
   "cell_type": "code",
   "execution_count": null,
   "metadata": {},
   "outputs": [],
   "source": []
  }
 ],
 "metadata": {
  "kernelspec": {
   "display_name": "Python 3",
   "language": "python",
   "name": "python3"
  },
  "language_info": {
   "codemirror_mode": {
    "name": "ipython",
    "version": 3
   },
   "file_extension": ".py",
   "mimetype": "text/x-python",
   "name": "python",
   "nbconvert_exporter": "python",
   "pygments_lexer": "ipython3",
   "version": "3.6.2"
  }
 },
 "nbformat": 4,
 "nbformat_minor": 4
}
