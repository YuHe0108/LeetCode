{
 "cells": [
  {
   "cell_type": "raw",
   "metadata": {},
   "source": [
    "    给你一个 m x n 的矩阵，其中的值均为非负整数，代表二维高度图每个单元的高度，请计算图中形状最多能接多少体积的雨水。\n",
    "\n",
    "示例：\n",
    "    给出如下 3x6 的高度图:\n",
    "    [\n",
    "      [1,4,3,1,3,2],\n",
    "      [3,2,1,3,2,4],\n",
    "      [2,3,3,2,3,1]\n",
    "    ]\n",
    "\n",
    "    返回 4 。\n",
    "\n",
    "提示：\n",
    "    1 <= m, n <= 110\n",
    "    0 <= heightMap[i][j] <= 20000"
   ]
  },
  {
   "cell_type": "markdown",
   "metadata": {},
   "source": [
    "<img src='https://assets.leetcode-cn.com/aliyun-lc-upload/uploads/2018/10/12/rainwater_empty.png'> <img src='https://assets.leetcode-cn.com/aliyun-lc-upload/uploads/2018/10/12/rainwater_fill.png'>"
   ]
  },
  {
   "cell_type": "code",
   "execution_count": 59,
   "metadata": {},
   "outputs": [],
   "source": [
    "from collections import deque\n",
    "import heapq\n",
    "\n",
    "class Solution:\n",
    "    def trapRainWater(self, heightMap):\n",
    "        rows, cols = len(heightMap), len(heightMap[0])\n",
    "        pq = []\n",
    "        # 左右两条边\n",
    "        for r in range(rows):\n",
    "            heapq.heappush(pq, (heightMap[r][0], r, 0))\n",
    "            heapq.heappush(pq, (heightMap[r][-1], r, cols-1))\n",
    "            heightMap[r][0] = -1\n",
    "            heightMap[r][-1] = -1\n",
    "        # 上下两条边\n",
    "        for c in range(1, cols-1):\n",
    "            heapq.heappush(pq, (heightMap[0][c], 0, c))\n",
    "            heapq.heappush(pq, (heightMap[-1][c], rows-1, c))\n",
    "            heightMap[0][c] = -1\n",
    "            heightMap[-1][c] = -1\n",
    "        \n",
    "        ret = 0\n",
    "        while pq:\n",
    "            h, x, y = heapq.heappop(pq)\n",
    "            q = deque([(x,  y)])\n",
    "            while q:\n",
    "                i, j = q.popleft()\n",
    "                for ni, nj in (i+1, j), (i-1, j), (i, j+1), (i, j-1):\n",
    "                    if ni < 0 or nj < 0 or ni >= rows or nj >= cols:\n",
    "                        continue\n",
    "                    if heightMap[ni][nj] == -1:\n",
    "                        continue\n",
    "                    if heightMap[ni][nj] <= h:\n",
    "                        ret += h - heightMap[ni][nj]\n",
    "                        q.append((ni, nj))\n",
    "                    else:\n",
    "                        heapq.heappush(pq, (heightMap[ni][nj], ni, nj))\n",
    "                    heightMap[ni][nj] = -1\n",
    "        return ret"
   ]
  },
  {
   "cell_type": "code",
   "execution_count": 60,
   "metadata": {},
   "outputs": [
    {
     "data": {
      "text/plain": [
       "4"
      ]
     },
     "execution_count": 60,
     "metadata": {},
     "output_type": "execute_result"
    }
   ],
   "source": [
    "solution = Solution()\n",
    "solution.trapRainWater([\n",
    "                          [1,4,3,1,3,2],\n",
    "                          [3,2,1,3,2,4],\n",
    "                          [2,3,3,2,3,1]\n",
    "                        ])"
   ]
  },
  {
   "cell_type": "code",
   "execution_count": null,
   "metadata": {},
   "outputs": [],
   "source": []
  },
  {
   "cell_type": "code",
   "execution_count": null,
   "metadata": {},
   "outputs": [],
   "source": []
  },
  {
   "cell_type": "code",
   "execution_count": null,
   "metadata": {},
   "outputs": [],
   "source": []
  },
  {
   "cell_type": "code",
   "execution_count": null,
   "metadata": {},
   "outputs": [],
   "source": []
  }
 ],
 "metadata": {
  "kernelspec": {
   "display_name": "Python 3",
   "language": "python",
   "name": "python3"
  },
  "language_info": {
   "codemirror_mode": {
    "name": "ipython",
    "version": 3
   },
   "file_extension": ".py",
   "mimetype": "text/x-python",
   "name": "python",
   "nbconvert_exporter": "python",
   "pygments_lexer": "ipython3",
   "version": "3.6.2"
  }
 },
 "nbformat": 4,
 "nbformat_minor": 4
}
