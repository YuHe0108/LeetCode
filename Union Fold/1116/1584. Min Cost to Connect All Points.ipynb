{
 "cells": [
  {
   "cell_type": "raw",
   "metadata": {},
   "source": [
    "    给你一个points 数组，表示 2D 平面上的一些点，其中 points[i] = [xi, yi] 。\n",
    "\n",
    "    连接点 [xi, yi] 和点 [xj, yj] 的费用为它们之间的 曼哈顿距离 ：|xi - xj| + |yi - yj| ，其中 |val| 表示 val 的绝对值。\n",
    "\n",
    "    请你返回将所有点连接的最小总费用。\n",
    "    只有任意两点之间 有且仅有 一条简单路径时，才认为所有点都已连接。"
   ]
  },
  {
   "cell_type": "markdown",
   "metadata": {},
   "source": [
    "<img src='https://assets.leetcode.com/uploads/2020/08/26/d.png'>  <img src='https://assets.leetcode.com/uploads/2020/08/26/c.png'>"
   ]
  },
  {
   "cell_type": "raw",
   "metadata": {},
   "source": [
    "示例 1：\n",
    "    输入：points = [[0,0],[2,2],[3,10],[5,2],[7,0]]\n",
    "    输出：20\n",
    "\n",
    "示例 2：\n",
    "    输入：points = [[3,12],[-2,5],[-4,1]]\n",
    "    输出：18\n",
    "\n",
    "示例 3：\n",
    "    输入：points = [[0,0],[1,1],[1,0],[-1,1]]\n",
    "    输出：4\n",
    "\n",
    "示例 4：\n",
    "    输入：points = [[-1000000,-1000000],[1000000,1000000]]\n",
    "    输出：4000000\n",
    "\n",
    "示例 5：\n",
    "    输入：points = [[0,0]]\n",
    "    输出：0\n",
    "\n",
    "提示：\n",
    "    1 <= points.length <= 1000\n",
    "    -106 <= xi, yi <= 106\n",
    "    所有点 (xi, yi) 两两不同。"
   ]
  },
  {
   "cell_type": "markdown",
   "metadata": {},
   "source": [
    "<img src='1584.jpg'>"
   ]
  },
  {
   "cell_type": "code",
   "execution_count": 1,
   "metadata": {},
   "outputs": [],
   "source": [
    "class Solution:\n",
    "    def minCostConnectPoints(self, points) -> int:\n",
    "        pass"
   ]
  },
  {
   "cell_type": "code",
   "execution_count": 2,
   "metadata": {},
   "outputs": [],
   "source": [
    "solution = Solution()\n",
    "solution.minCostConnectPoints(points = [[0,0],[2,2],[3,10],[5,2],[7,0]])"
   ]
  },
  {
   "cell_type": "markdown",
   "metadata": {},
   "source": [
    "### 1、Kruskal"
   ]
  },
  {
   "cell_type": "code",
   "execution_count": 6,
   "metadata": {},
   "outputs": [],
   "source": [
    "class Solution:\n",
    "    def minCostConnectPoints(self, points) -> int:\n",
    "        def find(x):\n",
    "            if father[x] != x:\n",
    "                father[x] = find(father[x])\n",
    "            return father[x]\n",
    "        \n",
    "        def union(x, y):\n",
    "            x, y = find(x), find(y)\n",
    "            if x < y:\n",
    "                father[y] = x\n",
    "            else:\n",
    "                father[x] = y\n",
    "        \n",
    "        N = len(points)\n",
    "        father = [i for i in range(N)]\n",
    "        edges = []\n",
    "        for i in range(N):\n",
    "            for j in range(i+1, N):\n",
    "                dis = abs(points[i][0] - points[j][0]) + abs(points[i][1] - points[j][1])\n",
    "                edges.append((dis, i, j))\n",
    "        edges.sort()\n",
    "        \n",
    "        # 按照连接两个点的最小边长进行排序后，将需要链接的两个点union起来\n",
    "        count = res = 0\n",
    "        for d, s, e in edges: \n",
    "            if count == N - 1:\n",
    "                break\n",
    "            if find(s) != find(e):\n",
    "                union(s, e)\n",
    "                count += 1\n",
    "                res += d\n",
    "        return res"
   ]
  },
  {
   "cell_type": "code",
   "execution_count": 8,
   "metadata": {},
   "outputs": [
    {
     "data": {
      "text/plain": [
       "20"
      ]
     },
     "execution_count": 8,
     "metadata": {},
     "output_type": "execute_result"
    }
   ],
   "source": [
    "solution = Solution()\n",
    "solution.minCostConnectPoints(points = [[0,0],[2,2],[3,10],[5,2],[7,0]])"
   ]
  },
  {
   "cell_type": "markdown",
   "metadata": {},
   "source": [
    "### 2. Prim"
   ]
  },
  {
   "cell_type": "code",
   "execution_count": 86,
   "metadata": {},
   "outputs": [],
   "source": [
    "import heapq\n",
    "\n",
    "class Solution:\n",
    "    def minCostConnectPoints(self, points) -> int:\n",
    "        N = len(points)\n",
    "        if N == 1: \n",
    "            return 0\n",
    "        edges = [[] * N for _ in range(N)]\n",
    "        for i in range(N):\n",
    "            for j in range(i+1, N):\n",
    "                dis = abs(points[i][0] - points[j][0]) + abs(points[i][1] - points[j][1])\n",
    "                edges[i].append((dis, j))\n",
    "                edges[j].append((dis, i))\n",
    "        \n",
    "        visited = [0] * N\n",
    "        visited[0] = 1 # 从 points[0] 开始\n",
    "        pq = []\n",
    "        for e in edges[0]:\n",
    "            heapq.heappush(pq, e)\n",
    "        count, ret = 0, 0\n",
    "        while True:\n",
    "            dis, nxt = heapq.heappop(pq)\n",
    "            while pq and visited[nxt] == 1:\n",
    "                dis, nxt = heapq.heappop(pq)\n",
    "            for e in edges[nxt]:\n",
    "                heapq.heappush(pq, e)\n",
    "            visited[nxt] = 1\n",
    "            ret += dis\n",
    "            count += 1\n",
    "            if count == N-1:\n",
    "                break\n",
    "        return ret"
   ]
  },
  {
   "cell_type": "code",
   "execution_count": 87,
   "metadata": {},
   "outputs": [
    {
     "data": {
      "text/plain": [
       "20"
      ]
     },
     "execution_count": 87,
     "metadata": {},
     "output_type": "execute_result"
    }
   ],
   "source": [
    "solution = Solution()\n",
    "solution.minCostConnectPoints(points = [[0,0],[2,2],[3,10],[5,2],[7,0]])"
   ]
  },
  {
   "cell_type": "code",
   "execution_count": null,
   "metadata": {},
   "outputs": [],
   "source": []
  },
  {
   "cell_type": "code",
   "execution_count": 43,
   "metadata": {},
   "outputs": [],
   "source": [
    "a = [10, -5, 1, 2, 3, -1]"
   ]
  },
  {
   "cell_type": "code",
   "execution_count": 34,
   "metadata": {},
   "outputs": [],
   "source": [
    "import heapq"
   ]
  },
  {
   "cell_type": "code",
   "execution_count": 40,
   "metadata": {},
   "outputs": [
    {
     "data": {
      "text/plain": [
       "-5"
      ]
     },
     "execution_count": 40,
     "metadata": {},
     "output_type": "execute_result"
    }
   ],
   "source": [
    "a = [10, -5, 1, 2, 3, -1]\n",
    "heapq.heapify(a)\n",
    "heapq.heappop(a)"
   ]
  },
  {
   "cell_type": "code",
   "execution_count": 42,
   "metadata": {},
   "outputs": [
    {
     "data": {
      "text/plain": [
       "1"
      ]
     },
     "execution_count": 42,
     "metadata": {},
     "output_type": "execute_result"
    }
   ],
   "source": [
    "heapq.heappop(a)"
   ]
  },
  {
   "cell_type": "code",
   "execution_count": 88,
   "metadata": {},
   "outputs": [],
   "source": [
    "import queue"
   ]
  },
  {
   "cell_type": "code",
   "execution_count": 89,
   "metadata": {},
   "outputs": [
    {
     "ename": "TypeError",
     "evalue": "'module' object is not callable",
     "output_type": "error",
     "traceback": [
      "\u001b[1;31m---------------------------------------------------------------------------\u001b[0m",
      "\u001b[1;31mTypeError\u001b[0m                                 Traceback (most recent call last)",
      "\u001b[1;32m<ipython-input-89-65b14bd5cea4>\u001b[0m in \u001b[0;36m<module>\u001b[1;34m\u001b[0m\n\u001b[1;32m----> 1\u001b[1;33m \u001b[0ma\u001b[0m \u001b[1;33m=\u001b[0m \u001b[0mqueue\u001b[0m\u001b[1;33m(\u001b[0m\u001b[1;33m[\u001b[0m\u001b[1;36m1\u001b[0m\u001b[1;33m,\u001b[0m \u001b[1;36m2\u001b[0m\u001b[1;33m]\u001b[0m\u001b[1;33m)\u001b[0m\u001b[1;33m\u001b[0m\u001b[0m\n\u001b[0m",
      "\u001b[1;31mTypeError\u001b[0m: 'module' object is not callable"
     ]
    }
   ],
   "source": [
    "a = queue."
   ]
  },
  {
   "cell_type": "code",
   "execution_count": null,
   "metadata": {},
   "outputs": [],
   "source": []
  }
 ],
 "metadata": {
  "kernelspec": {
   "display_name": "Python 3",
   "language": "python",
   "name": "python3"
  },
  "language_info": {
   "codemirror_mode": {
    "name": "ipython",
    "version": 3
   },
   "file_extension": ".py",
   "mimetype": "text/x-python",
   "name": "python",
   "nbconvert_exporter": "python",
   "pygments_lexer": "ipython3",
   "version": "3.6.2"
  }
 },
 "nbformat": 4,
 "nbformat_minor": 4
}
