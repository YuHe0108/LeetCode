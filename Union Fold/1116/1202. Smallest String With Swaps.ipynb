{
 "cells": [
  {
   "cell_type": "raw",
   "metadata": {},
   "source": [
    "    给你一个字符串 s，以及该字符串中的一些「索引对」数组 pairs，其中 pairs[i] = [a, b] 表示字符串中的两个索引（编号从 0 开始）。\n",
    "    你可以 任意多次交换 在 pairs 中任意一对索引处的字符。\n",
    "    返回在经过若干次交换后，s 可以变成的按字典序最小的字符串。\n",
    "\n",
    "示例 1:\n",
    "    输入：s = \"dcab\", pairs = [[0,3],[1,2]]\n",
    "    输出：\"bacd\"\n",
    "    解释： \n",
    "        交换 s[0] 和 s[3], s = \"bcad\"\n",
    "        交换 s[1] 和 s[2], s = \"bacd\"\n",
    "\n",
    "示例 2：\n",
    "    输入：s = \"dcab\", pairs = [[0,3],[1,2],[0,2]]\n",
    "    输出：\"abcd\"\n",
    "    解释：\n",
    "        交换 s[0] 和 s[3], s = \"bcad\"\n",
    "        交换 s[0] 和 s[2], s = \"acbd\"\n",
    "        交换 s[1] 和 s[2], s = \"abcd\"\n",
    "\n",
    "示例 3：\n",
    "    输入：s = \"cba\", pairs = [[0,1],[1,2]]\n",
    "    输出：\"abc\"\n",
    "    解释：\n",
    "        交换 s[0] 和 s[1], s = \"bca\"\n",
    "        交换 s[1] 和 s[2], s = \"bac\"\n",
    "        交换 s[0] 和 s[1], s = \"abc\"\n",
    "\n",
    "提示：\n",
    "    1 <= s.length <= 10^5\n",
    "    0 <= pairs.length <= 10^5\n",
    "    0 <= pairs[i][0], pairs[i][1] < s.length\n",
    "    s 中只含有小写英文字母"
   ]
  },
  {
   "cell_type": "code",
   "execution_count": 70,
   "metadata": {},
   "outputs": [],
   "source": [
    "from collections import defaultdict\n",
    "\n",
    "class Solution:\n",
    "    def smallestStringWithSwaps(self, s: str, pairs) -> str:\n",
    "        def find(x):\n",
    "            if father[x] != x:\n",
    "                father[x] = find(father[x])\n",
    "            return father[x]\n",
    "        \n",
    "        def union(a, b):\n",
    "            a, b = find(a), find(b)\n",
    "            if a > b:\n",
    "                father[a] = b\n",
    "            else:\n",
    "                father[b] = a\n",
    "        # 将 pairs 中出现的两个点对应的 s idx 做一个 union\n",
    "        N = len(s)\n",
    "        father = [i for i in range(N)]\n",
    "        for i, j in pairs:\n",
    "            if father[i] != father[j]:\n",
    "                union(i, j)\n",
    "        \n",
    "        union_dict = defaultdict(list)\n",
    "        for i in range(N):\n",
    "            union_dict[father[i]].append(i)\n",
    "        \n",
    "        s = list(s)\n",
    "        for k, v in union_dict.items():\n",
    "            temp = ''\n",
    "            for i in v:\n",
    "                temp += s[i]\n",
    "            temp = sorted(temp)\n",
    "            for i, j in enumerate(v):\n",
    "                s[j] = temp[i]\n",
    "        return ''.join(s)"
   ]
  },
  {
   "cell_type": "code",
   "execution_count": 96,
   "metadata": {},
   "outputs": [],
   "source": [
    "from collections import defaultdict\n",
    "\n",
    "class Solution:\n",
    "    def smallestStringWithSwaps(self, s: str, pairs) -> str:\n",
    "        def find(x):\n",
    "            if father[x] != x:\n",
    "                father[x] = find(father[x])\n",
    "            return father[x]\n",
    "        \n",
    "        def union(a, b):\n",
    "            a, b = find(a), find(b)\n",
    "            if a > b:\n",
    "                father[a] = b\n",
    "            else:\n",
    "                father[b] = a\n",
    "        \n",
    "        # 将 pairs 中出现的两个点对应的 s idx 做一个 union\n",
    "        N = len(s)\n",
    "        father = [i for i in range(N)]\n",
    "        for i, j in pairs:\n",
    "            union(i, j)\n",
    "        \n",
    "        print(father)\n",
    "        memo = defaultdict(list)\n",
    "        for i, v in enumerate(father):\n",
    "            memo[find(v)].append(s[i])\n",
    "        for k in memo:\n",
    "            memo[k].sort(reverse=True)\n",
    "        res = []\n",
    "        for i in range(N):\n",
    "            res.append(memo[find(i)].pop())\n",
    "        return ''.join(res)"
   ]
  },
  {
   "cell_type": "code",
   "execution_count": 97,
   "metadata": {},
   "outputs": [
    {
     "name": "stdout",
     "output_type": "stream",
     "text": [
      "[0, 0, 1, 0]\n"
     ]
    },
    {
     "data": {
      "text/plain": [
       "'abcd'"
      ]
     },
     "execution_count": 97,
     "metadata": {},
     "output_type": "execute_result"
    }
   ],
   "source": [
    "solution = Solution()\n",
    "solution.smallestStringWithSwaps(\"dcab\", [[0,3],[1,2],[0,2]])"
   ]
  },
  {
   "cell_type": "code",
   "execution_count": null,
   "metadata": {},
   "outputs": [],
   "source": []
  }
 ],
 "metadata": {
  "kernelspec": {
   "display_name": "Python 3",
   "language": "python",
   "name": "python3"
  },
  "language_info": {
   "codemirror_mode": {
    "name": "ipython",
    "version": 3
   },
   "file_extension": ".py",
   "mimetype": "text/x-python",
   "name": "python",
   "nbconvert_exporter": "python",
   "pygments_lexer": "ipython3",
   "version": "3.6.2"
  }
 },
 "nbformat": 4,
 "nbformat_minor": 4
}
