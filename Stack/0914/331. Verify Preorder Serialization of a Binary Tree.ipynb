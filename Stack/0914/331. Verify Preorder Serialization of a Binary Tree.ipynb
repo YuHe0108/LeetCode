{
 "cells": [
  {
   "cell_type": "raw",
   "metadata": {},
   "source": [
    "说明：\n",
    "    序列化二叉树的一种方法是使用顺序遍历。当我们遇到非空节点时，我们记录该节点的值。如果它是一个空节点，我们将使用诸如 \"#\"。\n",
    "\n",
    "\n",
    "    例如，可以将上述二叉树序列化为字符串“9，3，4，#，#，1，#，#，2，#，6，#，#”，其中#表示空节点。\n",
    "    给出一个逗号分隔值的字符串，验证它是否是二叉树的正确预序遍历序列化。\n",
    "    在不重建树的情况下找到算法。\n",
    "    字符串中的每个逗号分隔值必须是整数或表示空指针的字符“#”。\n",
    "    您可以假设输入格式始终有效，例如，它永远不能包含两个连续的逗号，如“1，，3”。\n",
    "\n",
    "\n",
    "Example 1:\n",
    "\n",
    "    Input: \"9,3,4,#,#,1,#,#,2,#,6,#,#\"\n",
    "    Output: true\n",
    "    \n",
    "Example 2:\n",
    "    Input: \"1,#\"\n",
    "    Output: false\n",
    "\n",
    "Example 3:\n",
    "    Input: \"9,#,#,1\"\n",
    "    Output: false"
   ]
  },
  {
   "cell_type": "markdown",
   "metadata": {},
   "source": [
    "<img src='331.jpg' width=400>"
   ]
  },
  {
   "cell_type": "code",
   "execution_count": 80,
   "metadata": {},
   "outputs": [],
   "source": [
    "class Solution:\n",
    "    def isValidSerialization(self, preorder: str) -> bool:\n",
    "        preorder = preorder.split(',')\n",
    "        \n",
    "        res = []\n",
    "        for val in preorder:\n",
    "            if res and res[-1] == '#':\n",
    "                return False\n",
    "            if res and val == '#':\n",
    "                res.pop()\n",
    "            else:\n",
    "                res.append(val)\n",
    "            print(res)\n",
    "        return True if len(res) == 1 and res[0] == '#' else False"
   ]
  },
  {
   "cell_type": "code",
   "execution_count": 81,
   "metadata": {},
   "outputs": [
    {
     "name": "stdout",
     "output_type": "stream",
     "text": [
      "['9']\n",
      "['9', '3']\n",
      "['9', '3', '4']\n",
      "['9', '3']\n",
      "['9']\n",
      "['9', '1']\n",
      "['9']\n",
      "[]\n",
      "['2']\n",
      "[]\n",
      "['6']\n",
      "[]\n",
      "['#']\n"
     ]
    },
    {
     "data": {
      "text/plain": [
       "True"
      ]
     },
     "execution_count": 81,
     "metadata": {},
     "output_type": "execute_result"
    }
   ],
   "source": [
    "preorder_ = \"9,3,4,#,#,1,#,#,2,#,6,#,#\"\n",
    "solution = Solution()\n",
    "solution.isValidSerialization(preorder_)"
   ]
  },
  {
   "cell_type": "code",
   "execution_count": null,
   "metadata": {},
   "outputs": [],
   "source": [
    "\"#\""
   ]
  }
 ],
 "metadata": {
  "kernelspec": {
   "display_name": "Python 3",
   "language": "python",
   "name": "python3"
  },
  "language_info": {
   "codemirror_mode": {
    "name": "ipython",
    "version": 3
   },
   "file_extension": ".py",
   "mimetype": "text/x-python",
   "name": "python",
   "nbconvert_exporter": "python",
   "pygments_lexer": "ipython3",
   "version": "3.6.2"
  }
 },
 "nbformat": 4,
 "nbformat_minor": 4
}
