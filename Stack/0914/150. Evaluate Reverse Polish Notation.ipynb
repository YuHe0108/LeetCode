{
 "cells": [
  {
   "cell_type": "raw",
   "metadata": {},
   "source": [
    "说明:\n",
    "    以   Reverse Polish Notation   表示法计算算术表达式的值。\n",
    "    有效运算符为 +、-、*、/。\n",
    "    每个操作数可以是整数或另一个表达式。\n",
    "    注：两个整数之间的除法应向零截断。\n",
    "    给定的RPN表达式始终有效。\n",
    "    这意味着表达式将始终求值为结果，并且不会有任何除以零的操作。\n",
    "\n",
    "\n",
    "Example 1:\n",
    "    Input: [\"2\", \"1\", \"+\", \"3\", \"*\"]\n",
    "    Output: 9\n",
    "    Explanation: ((2 + 1) * 3) = 9\n",
    "\n",
    "Example 2:\n",
    "    Input: [\"4\", \"13\", \"5\", \"/\", \"+\"]\n",
    "    Output: 6\n",
    "    Explanation: (4 + (13 / 5)) = 6\n",
    "\n",
    "Example 3:\n",
    "    Input: [\"10\", \"6\", \"9\", \"3\", \"+\", \"-11\", \"*\", \"/\", \"*\", \"17\", \"+\", \"5\", \"+\"]\n",
    "    Output: 22\n",
    "    Explanation: \n",
    "      ((10 * (6 / ((9 + 3) * -11))) + 17) + 5\n",
    "    = ((10 * (6 / (12 * -11))) + 17) + 5\n",
    "    = ((10 * (6 / -132)) + 17) + 5\n",
    "    = ((10 * 0) + 17) + 5\n",
    "    = (0 + 17) + 5\n",
    "    = 17 + 5\n",
    "    = 22"
   ]
  },
  {
   "cell_type": "code",
   "execution_count": 35,
   "metadata": {},
   "outputs": [],
   "source": [
    "class Solution:\n",
    "    def evalRPN(self, tokens) -> int:\n",
    "        outputs = []\n",
    "        symbols = ['+', '-', '*', '/']\n",
    "        for val in tokens:\n",
    "            if val in symbols:\n",
    "                val_1 = int(outputs.pop())\n",
    "                val_2 = int(outputs.pop())\n",
    "                if val == '+':\n",
    "                    val = val_1 + val_2\n",
    "                elif val == '-':\n",
    "                    val = val_2 - val_1\n",
    "                elif val == '*':\n",
    "                    val = val_1 * val_2\n",
    "                else:\n",
    "                    val = int(val_2 / val_1)\n",
    "            outputs.append(str(val))\n",
    "        return int(outputs[0])"
   ]
  },
  {
   "cell_type": "code",
   "execution_count": 37,
   "metadata": {},
   "outputs": [
    {
     "data": {
      "text/plain": [
       "9"
      ]
     },
     "execution_count": 37,
     "metadata": {},
     "output_type": "execute_result"
    }
   ],
   "source": [
    "tokens_ = [\"2\", \"1\", \"+\", \"3\", \"*\"]\n",
    "solution = Solution()\n",
    "solution.evalRPN(tokens_)"
   ]
  },
  {
   "cell_type": "code",
   "execution_count": null,
   "metadata": {},
   "outputs": [],
   "source": []
  }
 ],
 "metadata": {
  "kernelspec": {
   "display_name": "Python 3",
   "language": "python",
   "name": "python3"
  },
  "language_info": {
   "codemirror_mode": {
    "name": "ipython",
    "version": 3
   },
   "file_extension": ".py",
   "mimetype": "text/x-python",
   "name": "python",
   "nbconvert_exporter": "python",
   "pygments_lexer": "ipython3",
   "version": "3.6.2"
  }
 },
 "nbformat": 4,
 "nbformat_minor": 4
}
