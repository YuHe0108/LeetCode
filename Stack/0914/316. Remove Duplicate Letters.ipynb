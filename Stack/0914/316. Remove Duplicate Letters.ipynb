{
 "cells": [
  {
   "cell_type": "raw",
   "metadata": {},
   "source": [
    "说明：\n",
    "    给定一个仅包含小写字母的字符串，请删除重复的字母，以便每个字母只出现一次。\n",
    "    您必须确保您的结果在所有可能的结果中是词典顺序中最小的。\n",
    "\n",
    "理解：\n",
    "    如何 “确保您的结果在所有可能的结果中是词典顺序中最小的”\n",
    "    1、当出现重复的字符的时候，优先使得保存 在字典顺序中比较小的那个。\n",
    "\n",
    "Example 1:\n",
    "    Input: \"bcabc\"\n",
    "    Output: \"abc\"\n",
    "\n",
    "Example 2:\n",
    "    Input: \"cbacdcbc\"\n",
    "    Output: \"acdb\""
   ]
  },
  {
   "cell_type": "markdown",
   "metadata": {},
   "source": [
    "<img src='316.jpg' width=800>"
   ]
  },
  {
   "cell_type": "code",
   "execution_count": 49,
   "metadata": {},
   "outputs": [],
   "source": [
    "class Solution:\n",
    "    def removeDuplicateLetters(self, s: str) -> str:\n",
    "        freq_dict = {}\n",
    "        for i in s:\n",
    "            if i in freq_dict:\n",
    "                freq_dict[i] += 1\n",
    "            else:\n",
    "                freq_dict[i] = 1\n",
    "        \n",
    "        res = []\n",
    "        for i in s:\n",
    "            ord_s = ord(i)\n",
    "            if res:\n",
    "                while res and ord_s < ord(res[-1]) and freq_dict[res[-1]] > 0:\n",
    "                    res.pop()\n",
    "            if i not in res:\n",
    "                res.append(i)\n",
    "            freq_dict[i] -= 1\n",
    "        return ''.join(res)"
   ]
  },
  {
   "cell_type": "code",
   "execution_count": 50,
   "metadata": {},
   "outputs": [
    {
     "data": {
      "text/plain": [
       "'acdb'"
      ]
     },
     "execution_count": 50,
     "metadata": {},
     "output_type": "execute_result"
    }
   ],
   "source": [
    "s_ = \"cbacdcbc\"\n",
    "solution = Solution()\n",
    "solution.removeDuplicateLetters(s_)"
   ]
  },
  {
   "cell_type": "code",
   "execution_count": null,
   "metadata": {},
   "outputs": [],
   "source": [
    "class Solution:\n",
    "    def removeDuplicateLetters(self, s: str) -> str:\n",
    "        freq_dict = {}\n",
    "        for i in s:\n",
    "            if i in freq_dict:\n",
    "                freq_dict[i] += 1\n",
    "            else:\n",
    "                freq_dict[i] = 1\n",
    "        \n",
    "        res = []\n",
    "        for i in s:\n",
    "            ord_s = ord(i)\n",
    "            if i not in res:\n",
    "                while res and ord_s < ord(res[-1]) and freq_dict[res[-1]] > 0:\n",
    "                    res.pop()\n",
    "                res.append(i)\n",
    "            freq_dict[i] -= 1\n",
    "        return ''.join(res)"
   ]
  }
 ],
 "metadata": {
  "kernelspec": {
   "display_name": "Python 3",
   "language": "python",
   "name": "python3"
  },
  "language_info": {
   "codemirror_mode": {
    "name": "ipython",
    "version": 3
   },
   "file_extension": ".py",
   "mimetype": "text/x-python",
   "name": "python",
   "nbconvert_exporter": "python",
   "pygments_lexer": "ipython3",
   "version": "3.6.2"
  }
 },
 "nbformat": 4,
 "nbformat_minor": 4
}
