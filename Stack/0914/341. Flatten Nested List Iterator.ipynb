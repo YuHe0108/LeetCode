{
 "cells": [
  {
   "cell_type": "raw",
   "metadata": {},
   "source": [
    "说明：\n",
    "    给定一个嵌套的整数列表，请实现一个迭代器以使其扁平化。\n",
    "    每个元素可以是整数，也可以是列表-其元素也可以是整数或其他列表。\n",
    "\n",
    "Example 1:\n",
    "    Input: [[1,1],2,[1,1]]\n",
    "    Output: [1,1,2,1,1]\n",
    "    Explanation: By calling next repeatedly until hasNext returns false, \n",
    "                 the order of elements returned by next should be: [1,1,2,1,1].\n",
    "\n",
    "Example 2:\n",
    "    Input: [1,[4,[6]]]\n",
    "    Output: [1,4,6]\n",
    "    Explanation: By calling next repeatedly until hasNext returns false, \n",
    "                 the order of elements returned by next should be: [1,4,6]."
   ]
  },
  {
   "cell_type": "code",
   "execution_count": 12,
   "metadata": {},
   "outputs": [],
   "source": [
    "\"\"\"\n",
    "This is the interface that allows for creating nested lists.\n",
    "You should not implement it, or speculate about its implementation\n",
    "\"\"\"\n",
    "\n",
    "class NestedInteger:\n",
    "    def isInteger(self) -> bool:\n",
    "        \"\"\"\n",
    "        @return True if this NestedInteger holds a single integer, rather than a nested list.\n",
    "        \"\"\"\n",
    "        pass\n",
    "\n",
    "    def getInteger(self) -> int:\n",
    "        \"\"\"\n",
    "        @return the single integer that this NestedInteger holds, if it holds a single integer\n",
    "        Return None if this NestedInteger holds a nested list\n",
    "        \"\"\"\n",
    "        pass\n",
    "\n",
    "    def getList(self):\n",
    "        \"\"\"\n",
    "        @return the nested list that this NestedInteger holds, if it holds a nested list\n",
    "        Return None if this NestedInteger holds a single integer\n",
    "        \"\"\"\n",
    "        pass"
   ]
  },
  {
   "cell_type": "code",
   "execution_count": 13,
   "metadata": {},
   "outputs": [],
   "source": [
    "class NestedIterator:\n",
    "    def __init__(self, nestedList: [NestedInteger]):\n",
    "        pass\n",
    "    \n",
    "    def next(self) -> int:\n",
    "        pass\n",
    "    \n",
    "    def hasNext(self) -> bool:\n",
    "        pass"
   ]
  },
  {
   "cell_type": "code",
   "execution_count": null,
   "metadata": {},
   "outputs": [],
   "source": []
  },
  {
   "cell_type": "code",
   "execution_count": null,
   "metadata": {},
   "outputs": [],
   "source": []
  }
 ],
 "metadata": {
  "kernelspec": {
   "display_name": "Python 3",
   "language": "python",
   "name": "python3"
  },
  "language_info": {
   "codemirror_mode": {
    "name": "ipython",
    "version": 3
   },
   "file_extension": ".py",
   "mimetype": "text/x-python",
   "name": "python",
   "nbconvert_exporter": "python",
   "pygments_lexer": "ipython3",
   "version": "3.6.2"
  }
 },
 "nbformat": 4,
 "nbformat_minor": 4
}
