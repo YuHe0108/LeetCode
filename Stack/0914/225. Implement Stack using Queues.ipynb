{
 "cells": [
  {
   "cell_type": "raw",
   "metadata": {},
   "source": [
    "Implement the following operations of a stack using queues.\n",
    "\n",
    "    1、push(x) -- Push element x onto stack.\n",
    "    2、pop() -- Removes the element on top of the stack.\n",
    "    3、top() -- Get the top element.\n",
    "    4、empty() -- Return whether the stack is empty."
   ]
  },
  {
   "cell_type": "code",
   "execution_count": 1,
   "metadata": {},
   "outputs": [],
   "source": [
    "import collections\n",
    "\n",
    "class MyStack:\n",
    "\n",
    "    def __init__(self):\n",
    "        self._queue = collections.deque()\n",
    "\n",
    "    def push(self, x):\n",
    "        q = self._queue\n",
    "        q.append(x)\n",
    "        for _ in range(len(q) - 1):\n",
    "            q.append(q.popleft())\n",
    "        \n",
    "    def pop(self):\n",
    "        return self._queue.popleft()\n",
    "\n",
    "    def top(self):\n",
    "        return self._queue[0]\n",
    "    \n",
    "    def empty(self):\n",
    "        return not len(self._queue)"
   ]
  },
  {
   "cell_type": "code",
   "execution_count": null,
   "metadata": {},
   "outputs": [],
   "source": []
  }
 ],
 "metadata": {
  "kernelspec": {
   "display_name": "Python 3",
   "language": "python",
   "name": "python3"
  },
  "language_info": {
   "codemirror_mode": {
    "name": "ipython",
    "version": 3
   },
   "file_extension": ".py",
   "mimetype": "text/x-python",
   "name": "python",
   "nbconvert_exporter": "python",
   "pygments_lexer": "ipython3",
   "version": "3.6.2"
  }
 },
 "nbformat": 4,
 "nbformat_minor": 4
}
