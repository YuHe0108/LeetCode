{
 "cells": [
  {
   "cell_type": "raw",
   "metadata": {},
   "source": [
    "说明：\n",
    "    每当用户执行变更文件夹操作时，LeetCode 文件系统都会保存一条日志记录。\n",
    "    下面给出对变更操作的说明：\n",
    "        1、\"../\" ：移动到当前文件夹的父文件夹。如果已经在主文件夹下，则 继续停留在当前文件夹 。\n",
    "        2、\"./\" ：继续停留在当前文件夹。\n",
    "        3、\"x/\" ：移动到名为 x 的子文件夹中。题目数据 保证总是存在文件夹 x 。\n",
    "    给你一个字符串列表 logs ，其中 logs[i] 是用户在 ith 步执行的操作。\n",
    "    文件系统启动时位于主文件夹，然后执行 logs 中的操作。\n",
    "    执行完所有变更文件夹操作后，请你找出 返回主文件夹所需的最小步数 。\n",
    "\n",
    "示例 1：\n",
    "    输入：logs = [\"d1/\",\"d2/\",\"../\",\"d21/\",\"./\"]\n",
    "    输出：2\n",
    "    解释：执行 \"../\" 操作变更文件夹 2 次，即可回到主文件夹\n",
    "\n",
    "示例 2：\n",
    "    输入：logs = [\"d1/\",\"d2/\",\"./\",\"d3/\",\"../\",\"d31/\"]\n",
    "    输出：3\n",
    "\n",
    "示例 3：\n",
    "    输入：logs = [\"d1/\",\"../\",\"../\",\"../\"]\n",
    "    输出：0\n",
    "\n",
    "提示：\n",
    "    1、1 <= logs.length <= 103\n",
    "    2、2 <= logs[i].length <= 10\n",
    "    3、logs[i] 包含小写英文字母，数字，'.' 和 '/'\n",
    "    4、logs[i] 符合语句中描述的格式\n",
    "    5、文件夹名称由小写英文字母和数字组成"
   ]
  },
  {
   "cell_type": "code",
   "execution_count": 4,
   "metadata": {},
   "outputs": [],
   "source": [
    "class Solution:\n",
    "    def minOperations(self, logs) -> int:\n",
    "        count = []\n",
    "        for log in logs:\n",
    "            if log != '../' and log != './':\n",
    "                count.append(log)\n",
    "            elif log == '../' and count:\n",
    "                count.pop()\n",
    "            else:\n",
    "                continue\n",
    "        return len(count)"
   ]
  },
  {
   "cell_type": "code",
   "execution_count": 6,
   "metadata": {},
   "outputs": [
    {
     "data": {
      "text/plain": [
       "3"
      ]
     },
     "execution_count": 6,
     "metadata": {},
     "output_type": "execute_result"
    }
   ],
   "source": [
    "solution = Solution()\n",
    "solution.minOperations([\"d1/\",\"d2/\",\"./\",\"d3/\",\"../\",\"d31/\"])"
   ]
  },
  {
   "cell_type": "code",
   "execution_count": null,
   "metadata": {},
   "outputs": [],
   "source": []
  }
 ],
 "metadata": {
  "kernelspec": {
   "display_name": "Python 3",
   "language": "python",
   "name": "python3"
  },
  "language_info": {
   "codemirror_mode": {
    "name": "ipython",
    "version": 3
   },
   "file_extension": ".py",
   "mimetype": "text/x-python",
   "name": "python",
   "nbconvert_exporter": "python",
   "pygments_lexer": "ipython3",
   "version": "3.6.2"
  }
 },
 "nbformat": 4,
 "nbformat_minor": 4
}
