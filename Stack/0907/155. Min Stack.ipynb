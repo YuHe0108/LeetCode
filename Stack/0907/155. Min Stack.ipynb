{
 "cells": [
  {
   "cell_type": "raw",
   "metadata": {},
   "source": [
    "说明：\n",
    "    设计一个堆栈，该堆栈支持在恒定时间内推送，弹出，顶部和检索最小元素。 \n",
    "    1、push（x）-将元素x推入堆栈\n",
    "    2、pop（）-删除堆栈顶部的元素。 \n",
    "    3、top（）-获取顶部元素。 \n",
    "    4、getMin（）-检索堆栈中的最小元素。\n",
    "\n",
    "\n",
    "Example 1:\n",
    "    Input：\n",
    "        [\"MinStack\",\"push\",\"push\",\"push\",\"getMin\",\"pop\",\"top\",\"getMin\"]\n",
    "        [[],[-2],[0],[-3],[],[],[],[]]\n",
    "    Output：\n",
    "        [null,null,null,null,-3,null,0,-2]\n",
    "\n",
    "Explanation\n",
    "    MinStack minStack = new MinStack();\n",
    "    minStack.push(-2);\n",
    "    minStack.push(0);\n",
    "    minStack.push(-3);\n",
    "    minStack.getMin(); // return -3\n",
    "    minStack.pop();\n",
    "    minStack.top();    // return 0\n",
    "    minStack.getMin(); // return -2\n",
    "\n",
    "约束：\n",
    "    1、方法pop、top和getMin操作将始终在非空堆栈上调用。"
   ]
  },
  {
   "cell_type": "code",
   "execution_count": 1,
   "metadata": {},
   "outputs": [],
   "source": [
    "class MinStack:\n",
    "\n",
    "    def __init__(self):\n",
    "        \"\"\"\n",
    "        initialize your data structure here.\n",
    "        \"\"\"\n",
    "        self.stack = []\n",
    "\n",
    "    def push(self, x: int) -> None:\n",
    "        self.stack.append(x)\n",
    "\n",
    "    def pop(self) -> None:\n",
    "        self.stack.pop()\n",
    "\n",
    "    def top(self) -> int:\n",
    "        return self.stack[-1]\n",
    "\n",
    "    def getMin(self) -> int:\n",
    "        return min(self.stack)"
   ]
  },
  {
   "cell_type": "code",
   "execution_count": null,
   "metadata": {},
   "outputs": [],
   "source": [
    "class MinStack:\n",
    "    def __init__(self):\n",
    "        \"\"\"\n",
    "        initialize your data structure here.\n",
    "        \"\"\"\n",
    "        self.stack = []\n",
    "        self.min_stack = [float('inf')] # 维护一个最小值组成的stack\n",
    "\n",
    "    def push(self, x: int) -> None:\n",
    "        self.stack.append(x)\n",
    "        if x <= self.min_stack[-1]:\n",
    "            self.min_stack.append(x)\n",
    "\n",
    "    def pop(self) -> None:\n",
    "        if self.stack[-1] == self.min_stack[-1]:\n",
    "            del self.min_stack[-1]\n",
    "        return self.stack.pop()\n",
    "\n",
    "    def top(self) -> int:\n",
    "        return self.stack[-1]\n",
    "\n",
    "    def getMin(self) -> int:\n",
    "        return self.min_stack[-1]"
   ]
  }
 ],
 "metadata": {
  "kernelspec": {
   "display_name": "Python 3",
   "language": "python",
   "name": "python3"
  },
  "language_info": {
   "codemirror_mode": {
    "name": "ipython",
    "version": 3
   },
   "file_extension": ".py",
   "mimetype": "text/x-python",
   "name": "python",
   "nbconvert_exporter": "python",
   "pygments_lexer": "ipython3",
   "version": "3.6.2"
  }
 },
 "nbformat": 4,
 "nbformat_minor": 4
}
