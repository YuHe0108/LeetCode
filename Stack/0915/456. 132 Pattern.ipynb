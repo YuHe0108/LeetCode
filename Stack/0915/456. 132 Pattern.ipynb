{
 "cells": [
  {
   "cell_type": "markdown",
   "metadata": {},
   "source": [
    "# 单调栈问题"
   ]
  },
  {
   "cell_type": "raw",
   "metadata": {},
   "source": [
    "说明：\n",
    "    给定n个整数nums的数组，则 132个模式是三个整数nums [i]，nums [j]和nums [k]的子序列，\n",
    "    使得i <j <k 和 nums [i] <nums [k] <nums [j]。\n",
    "    如果以数字为单位的132个模式，则返回true，否则返回false。\n",
    "\n",
    "#　中间的值最大，左边的值最小，右边的值次之\n",
    "    \n",
    "Example 1:\n",
    "    Input: nums = [1,2,3,4]\n",
    "    Output: false\n",
    "    Explanation: There is no 132 pattern in the sequence.\n",
    "\n",
    "Example 2:\n",
    "    Input: nums = [3,1,4,2]\n",
    "    Output: true\n",
    "    Explanation: There is a 132 pattern in the sequence: [1, 4, 2].\n",
    "\n",
    "Example 3:\n",
    "    Input: nums = [-1,3,2,0]\n",
    "    Output: true\n",
    "    Explanation: There are three 132 patterns in the sequence: [-1, 3, 2], [-1, 3, 0] and [-1, 2, 0].\n",
    "\n",
    "Constraints:\n",
    "    1、n == nums.length\n",
    "    2、1 <= n <= 3 * 104\n",
    "    3、-109 <= nums[i] <= 109"
   ]
  },
  {
   "cell_type": "markdown",
   "metadata": {},
   "source": [
    "<img src='456.jpg'>"
   ]
  },
  {
   "cell_type": "code",
   "execution_count": null,
   "metadata": {},
   "outputs": [],
   "source": [
    "class Solution:\n",
    "    def find132pattern(self, nums):\n",
    "        stacks = []\n",
    "        mid = float('-inf')\n",
    "        for i in range(len(nums)-1, -1, -1):\n",
    "            val = nums[i]\n",
    "            if val < mid:\n",
    "                return True\n",
    "            else:\n",
    "                while stacks and stacks[-1] < val:\n",
    "                    mid = stacks.pop()\n",
    "            stacks.append(val)\n",
    "        return False"
   ]
  },
  {
   "cell_type": "code",
   "execution_count": 113,
   "metadata": {},
   "outputs": [
    {
     "data": {
      "text/plain": [
       "False"
      ]
     },
     "execution_count": 113,
     "metadata": {},
     "output_type": "execute_result"
    }
   ],
   "source": [
    "nums_ = [1,4,0,-1,-2,-3,-1,-2]\n",
    "solution = Solution()\n",
    "solution.find132pattern(nums_)"
   ]
  },
  {
   "cell_type": "code",
   "execution_count": null,
   "metadata": {},
   "outputs": [],
   "source": []
  },
  {
   "cell_type": "code",
   "execution_count": null,
   "metadata": {},
   "outputs": [],
   "source": []
  },
  {
   "cell_type": "code",
   "execution_count": null,
   "metadata": {},
   "outputs": [],
   "source": []
  },
  {
   "cell_type": "code",
   "execution_count": 103,
   "metadata": {},
   "outputs": [],
   "source": [
    "class Solution:\n",
    "    def find132pattern(self, nums):\n",
    "        res = []\n",
    "        for num in nums:\n",
    "            if len(res) == 3:\n",
    "                return True\n",
    "            elif len(res) == 1 and res[0] >= num:\n",
    "                res.pop()\n",
    "            elif len(res) == 2:\n",
    "                if res[0] >= num:\n",
    "                    continue\n",
    "                elif res[-1] <= num:\n",
    "                    res.pop()\n",
    "            res.append(num)\n",
    "        print(res)\n",
    "        return len(res) == 3"
   ]
  },
  {
   "cell_type": "code",
   "execution_count": 111,
   "metadata": {},
   "outputs": [
    {
     "data": {
      "text/plain": [
       "True"
      ]
     },
     "execution_count": 111,
     "metadata": {},
     "output_type": "execute_result"
    }
   ],
   "source": [
    "nums_ = [1,4,0,-1,-2,-3,-1,-2]\n",
    "solution = Solution()\n",
    "solution.find132pattern(nums_)"
   ]
  },
  {
   "cell_type": "code",
   "execution_count": 108,
   "metadata": {},
   "outputs": [],
   "source": [
    "class Solution:\n",
    "    def find132pattern(self, nums):\n",
    "        self.res = []\n",
    "        for num in nums:\n",
    "            self.helper(num)\n",
    "            if len(self.res) == 3:\n",
    "                return True\n",
    "        return len(self.res) == 3\n",
    "        \n",
    "    def helper(self, num):\n",
    "        if len(self.res) == 1 and self.res[0] >= num:\n",
    "            self.res.pop()\n",
    "            self.res.append(num)\n",
    "        elif len(self.res) == 2:\n",
    "            if self.res[0] >= num:\n",
    "                return\n",
    "            if self.res[0] >= num:\n",
    "                self.res.pop(0)\n",
    "                if self.res[-1] <= num:\n",
    "                    self.res.pop()\n",
    "                self.res.append(num)\n",
    "            if self.res and self.res[-1] <= num:\n",
    "                self.res.pop()\n",
    "                self.res.append(num)\n",
    "            else:\n",
    "                self.res.append(num)\n",
    "        else:\n",
    "            self.res.append(num)"
   ]
  },
  {
   "cell_type": "code",
   "execution_count": 64,
   "metadata": {},
   "outputs": [
    {
     "data": {
      "text/plain": [
       "True"
      ]
     },
     "execution_count": 64,
     "metadata": {},
     "output_type": "execute_result"
    }
   ],
   "source": [
    "nums_ = [3,5,0,3,4]\n",
    "solution = Solution()\n",
    "solution.find132pattern(nums_)"
   ]
  },
  {
   "cell_type": "code",
   "execution_count": 24,
   "metadata": {},
   "outputs": [],
   "source": [
    "class Solution:\n",
    "    def find132pattern(self, nums):\n",
    "        res = []\n",
    "        for num in nums:\n",
    "            if len(res) == 3:\n",
    "                return True\n",
    "            \n",
    "            if len(res) == 1 and res[-1] > num:\n",
    "                res.pop()\n",
    "            elif len(res) == 2:\n",
    "                if res[0] > num:\n",
    "                    res.pop(0)\n",
    "                    if res[-1] < num:\n",
    "                        res.pop()\n",
    "                if res and res[-1] < num:\n",
    "                    res.pop()\n",
    "        res.append(num)\n",
    "        return len(res) == 3        "
   ]
  },
  {
   "cell_type": "code",
   "execution_count": 26,
   "metadata": {},
   "outputs": [
    {
     "data": {
      "text/plain": [
       "False"
      ]
     },
     "execution_count": 26,
     "metadata": {},
     "output_type": "execute_result"
    }
   ],
   "source": [
    "nums_ = [3,1,4,2]\n",
    "solution = Solution()\n",
    "solution.find132pattern(nums_)"
   ]
  },
  {
   "cell_type": "code",
   "execution_count": 17,
   "metadata": {},
   "outputs": [
    {
     "data": {
      "text/plain": [
       "True"
      ]
     },
     "execution_count": 17,
     "metadata": {},
     "output_type": "execute_result"
    }
   ],
   "source": [
    "a= 3\n",
    "a == 3"
   ]
  },
  {
   "cell_type": "code",
   "execution_count": 83,
   "metadata": {},
   "outputs": [],
   "source": [
    "a = [1, 2, 3]\n",
    "a.clear()"
   ]
  },
  {
   "cell_type": "code",
   "execution_count": 84,
   "metadata": {},
   "outputs": [
    {
     "data": {
      "text/plain": [
       "[]"
      ]
     },
     "execution_count": 84,
     "metadata": {},
     "output_type": "execute_result"
    }
   ],
   "source": [
    "a"
   ]
  },
  {
   "cell_type": "code",
   "execution_count": null,
   "metadata": {},
   "outputs": [],
   "source": []
  }
 ],
 "metadata": {
  "kernelspec": {
   "display_name": "Python 3",
   "language": "python",
   "name": "python3"
  },
  "language_info": {
   "codemirror_mode": {
    "name": "ipython",
    "version": 3
   },
   "file_extension": ".py",
   "mimetype": "text/x-python",
   "name": "python",
   "nbconvert_exporter": "python",
   "pygments_lexer": "ipython3",
   "version": "3.6.2"
  }
 },
 "nbformat": 4,
 "nbformat_minor": 4
}
