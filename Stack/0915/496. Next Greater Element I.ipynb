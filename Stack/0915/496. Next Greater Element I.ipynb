{
 "cells": [
  {
   "cell_type": "raw",
   "metadata": {},
   "source": [
    "说明：\n",
    "    您会得到两个数组（没有重复项）：nums1和nums2，\n",
    "    其中nums1的元素是nums2的子集。\n",
    "    在nums2的相应位置中找到nums1的所有下一个更大的数字。 \n",
    "    nums1中的数字x的下一个更大数字是nums2中右边第一个更大的数字。\n",
    "    如果不存在，则输出-1。\n",
    "\n",
    "Example 1:\n",
    "    Input: \n",
    "        nums1 = [4,1,2], nums2 = [1,3,4,2].\n",
    "    Output: \n",
    "        [-1,3,-1]\n",
    "    Explanation:\n",
    "        对于第一个数组中的数字4，在第二个数组中找不到下一个更大的数字，所以输出-1。\n",
    "        对于第一个数组中的数字1，第二个数组中的下一个较大的数字是3。\n",
    "        对于第一个数组中的数字2，第二个数组中没有下一个更大的数字，所以输出-1。\n",
    "\n",
    "Example 2:\n",
    "    Input: nums1 = [2,4], nums2 = [1,2,3,4].\n",
    "    Output: [3,-1]\n",
    "    Explanation:\n",
    "        For number 2 in the first array, the next greater number for it in the second array is 3.\n",
    "        For number 4 in the first array, there is no next greater number for it in the second array, so output -1.\n",
    "Note:\n",
    "    1、All elements in nums1 and nums2 are unique.\n",
    "    2、The length of both nums1 and nums2 would not exceed 1000."
   ]
  },
  {
   "cell_type": "code",
   "execution_count": 33,
   "metadata": {},
   "outputs": [],
   "source": [
    "class Solution:\n",
    "    def nextGreaterElement(self, nums1, nums2):\n",
    "        stack, hashmap = [], {num:-1 for num in nums2}\n",
    "        for num in nums2:\n",
    "            while stack and stack[-1] < num:\n",
    "                hashmap[stack.pop()] = num\n",
    "            stack.append(num)\n",
    "        \n",
    "        res = [hashmap[num] for num in nums1]\n",
    "        return res"
   ]
  },
  {
   "cell_type": "code",
   "execution_count": 34,
   "metadata": {},
   "outputs": [
    {
     "data": {
      "text/plain": [
       "[-1, 3, -1]"
      ]
     },
     "execution_count": 34,
     "metadata": {},
     "output_type": "execute_result"
    }
   ],
   "source": [
    "nums1_ = [4,1,2]\n",
    "nums2_ = [1,3,4,2]\n",
    "solution = Solution()\n",
    "solution.nextGreaterElement(nums1_, nums2_)"
   ]
  },
  {
   "cell_type": "code",
   "execution_count": 24,
   "metadata": {},
   "outputs": [],
   "source": [
    "class Solution:\n",
    "    def nextGreaterElement(self, nums1, nums2):\n",
    "        stack, hashmap = [], {num:-1 for num in nums2}\n",
    "        for num in nums2:\n",
    "            while stack and stack[-1] < num:\n",
    "                hashmap[stack.pop()] = num\n",
    "            stack.append(num)\n",
    "            \n",
    "        print(hashmap, stack)\n",
    "        res = []\n",
    "        for num in nums1:\n",
    "            res.append(hashmap[num])\n",
    "        return res"
   ]
  },
  {
   "cell_type": "code",
   "execution_count": 25,
   "metadata": {},
   "outputs": [
    {
     "name": "stdout",
     "output_type": "stream",
     "text": [
      "{1: 3, 3: 4, 4: -1, 2: -1} [4, 2]\n"
     ]
    },
    {
     "data": {
      "text/plain": [
       "[-1, 3, -1]"
      ]
     },
     "execution_count": 25,
     "metadata": {},
     "output_type": "execute_result"
    }
   ],
   "source": [
    "nums1_ = [4,1,2]\n",
    "nums2_ = [1,3,4,2]\n",
    "solution = Solution()\n",
    "solution.nextGreaterElement(nums1_, nums2_)"
   ]
  },
  {
   "cell_type": "code",
   "execution_count": 14,
   "metadata": {},
   "outputs": [],
   "source": [
    "class Solution:\n",
    "    def nextGreaterElement(self, nums1, nums2):\n",
    "        res = [-1] * len(nums1)\n",
    "        for i, val_1 in enumerate(nums1):\n",
    "            for j in range(nums2.index(val_1) + 1, len(nums2)):\n",
    "                val_2 = nums2[j]\n",
    "                if val_2 > val_1:\n",
    "                    res[i] = val_2\n",
    "                    break\n",
    "        return res"
   ]
  },
  {
   "cell_type": "code",
   "execution_count": 15,
   "metadata": {},
   "outputs": [
    {
     "data": {
      "text/plain": [
       "[-1, 3, -1]"
      ]
     },
     "execution_count": 15,
     "metadata": {},
     "output_type": "execute_result"
    }
   ],
   "source": [
    "nums1_ = [4,1,2]\n",
    "nums2_ = [1,3,4,2]\n",
    "solution = Solution()\n",
    "solution.nextGreaterElement(nums1_, nums2_)"
   ]
  },
  {
   "cell_type": "code",
   "execution_count": null,
   "metadata": {},
   "outputs": [],
   "source": []
  }
 ],
 "metadata": {
  "kernelspec": {
   "display_name": "Python 3",
   "language": "python",
   "name": "python3"
  },
  "language_info": {
   "codemirror_mode": {
    "name": "ipython",
    "version": 3
   },
   "file_extension": ".py",
   "mimetype": "text/x-python",
   "name": "python",
   "nbconvert_exporter": "python",
   "pygments_lexer": "ipython3",
   "version": "3.6.2"
  }
 },
 "nbformat": 4,
 "nbformat_minor": 4
}
