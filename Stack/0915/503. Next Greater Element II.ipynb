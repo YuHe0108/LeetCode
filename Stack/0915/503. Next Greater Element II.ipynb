{
 "cells": [
  {
   "cell_type": "raw",
   "metadata": {},
   "source": [
    "说明：\n",
    "    给定一个圆形数组（最后一个元素的下一个元素是数组的第一个元素），\n",
    "    请为每个元素打印下一个更大的数字。\n",
    "    数字x的下一个更大数字是数组中遍历顺序中第一个更大的数字，\n",
    "    这意味着您可以循环搜索以找到下一个更大的数字。\n",
    "    如果不存在，则为此数字输出-1。\n",
    "\n",
    "Example 1:\n",
    "    Input: \n",
    "        [1,2,1]\n",
    "    Output: \n",
    "        [2,-1,2]\n",
    "    Explanation: \n",
    "        The first 1's next greater number is 2; \n",
    "        The number 2 can't find next greater number; \n",
    "        The second 1's next greater number needs to search circularly, which is also 2.\n",
    "Note: \n",
    "    1、The length of given array won't exceed 10000."
   ]
  },
  {
   "cell_type": "code",
   "execution_count": 9,
   "metadata": {},
   "outputs": [],
   "source": [
    "class Solution:\n",
    "    def nextGreaterElements(self, nums):\n",
    "        if not nums: return []\n",
    "        stack, hashmap = [], {num:-1 for num in nums}\n",
    "        \n",
    "        nums += [nums[0]]\n",
    "        for num in nums:\n",
    "            while stack and stack[-1] < num:\n",
    "                hashmap[stack.pop()] = num\n",
    "            stack.append(num)\n",
    "        print(stack, hashmap)"
   ]
  },
  {
   "cell_type": "code",
   "execution_count": 44,
   "metadata": {},
   "outputs": [],
   "source": [
    "class Solution:\n",
    "    def nextGreaterElements(self, nums):\n",
    "        res = [-1] * len(nums)\n",
    "        stack = []\n",
    "        for index in range(len(nums)*2):\n",
    "            index %= len(nums)\n",
    "            while stack and nums[stack[-1]] < nums[index]:\n",
    "                res[stack.pop()] = nums[index]\n",
    "            stack.append(index)\n",
    "        return res"
   ]
  },
  {
   "cell_type": "code",
   "execution_count": 45,
   "metadata": {},
   "outputs": [
    {
     "name": "stdout",
     "output_type": "stream",
     "text": [
      "[1, 1, 2]\n"
     ]
    },
    {
     "data": {
      "text/plain": [
       "[2, -1, 2]"
      ]
     },
     "execution_count": 45,
     "metadata": {},
     "output_type": "execute_result"
    }
   ],
   "source": [
    "nums_ = [1, 2, 1]\n",
    "solution = Solution()\n",
    "solution.nextGreaterElements(nums_)"
   ]
  },
  {
   "cell_type": "code",
   "execution_count": null,
   "metadata": {},
   "outputs": [],
   "source": []
  }
 ],
 "metadata": {
  "kernelspec": {
   "display_name": "Python 3",
   "language": "python",
   "name": "python3"
  },
  "language_info": {
   "codemirror_mode": {
    "name": "ipython",
    "version": 3
   },
   "file_extension": ".py",
   "mimetype": "text/x-python",
   "name": "python",
   "nbconvert_exporter": "python",
   "pygments_lexer": "ipython3",
   "version": "3.6.2"
  }
 },
 "nbformat": 4,
 "nbformat_minor": 4
}
