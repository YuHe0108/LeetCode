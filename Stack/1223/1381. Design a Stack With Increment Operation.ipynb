{
 "cells": [
  {
   "cell_type": "code",
   "execution_count": null,
   "metadata": {},
   "outputs": [],
   "source": []
  },
  {
   "cell_type": "code",
   "execution_count": null,
   "metadata": {},
   "outputs": [],
   "source": []
  },
  {
   "cell_type": "code",
   "execution_count": 14,
   "metadata": {},
   "outputs": [],
   "source": [
    "class CustomStack:\n",
    "\n",
    "    def __init__(self, maxSize: int):\n",
    "        self.stack = []\n",
    "        self.max_size= maxSize\n",
    "\n",
    "    def push(self, x: int) -> None:\n",
    "        if len(self.stack) != self.max_size:\n",
    "            self.stack.append(x)\n",
    "            \n",
    "    def pop(self) -> int:\n",
    "        if self.stack:\n",
    "            return self.stack.pop()\n",
    "        else:\n",
    "            return -1\n",
    "\n",
    "    def increment(self, k: int, val: int) -> None:\n",
    "        self.stack = self.stack[::-1]\n",
    "        temp_val = []\n",
    "        for i in range(k):\n",
    "            if self.stack:\n",
    "                temp_val.append(self.stack.pop() + val)\n",
    "        self.stack.extend(temp_val[::-1])\n",
    "        self.stack = self.stack[::-1]"
   ]
  },
  {
   "cell_type": "code",
   "execution_count": 16,
   "metadata": {},
   "outputs": [
    {
     "name": "stdout",
     "output_type": "stream",
     "text": [
      "103\n",
      "202\n",
      "201\n",
      "-1\n"
     ]
    }
   ],
   "source": [
    "customStack = CustomStack(3);\n",
    "customStack.push(1);                         \n",
    "customStack.push(2);                         \n",
    "customStack.pop();                           \n",
    "customStack.push(2);                         \n",
    "customStack.push(3);                         \n",
    "customStack.push(4);                         \n",
    "customStack.increment(5, 100);               \n",
    "customStack.increment(2, 100);               \n",
    "print(customStack.pop())\n",
    "print(customStack.pop())\n",
    "print(customStack.pop())\n",
    "print(customStack.pop())"
   ]
  },
  {
   "cell_type": "code",
   "execution_count": null,
   "metadata": {},
   "outputs": [],
   "source": []
  },
  {
   "cell_type": "code",
   "execution_count": null,
   "metadata": {},
   "outputs": [],
   "source": []
  }
 ],
 "metadata": {
  "kernelspec": {
   "display_name": "Python 3",
   "language": "python",
   "name": "python3"
  },
  "language_info": {
   "codemirror_mode": {
    "name": "ipython",
    "version": 3
   },
   "file_extension": ".py",
   "mimetype": "text/x-python",
   "name": "python",
   "nbconvert_exporter": "python",
   "pygments_lexer": "ipython3",
   "version": "3.6.2"
  }
 },
 "nbformat": 4,
 "nbformat_minor": 4
}
