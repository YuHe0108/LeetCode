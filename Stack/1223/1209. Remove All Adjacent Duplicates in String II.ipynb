{
 "cells": [
  {
   "cell_type": "code",
   "execution_count": null,
   "metadata": {},
   "outputs": [],
   "source": []
  },
  {
   "cell_type": "code",
   "execution_count": null,
   "metadata": {},
   "outputs": [],
   "source": []
  },
  {
   "cell_type": "code",
   "execution_count": 8,
   "metadata": {},
   "outputs": [],
   "source": [
    "class Solution:\n",
    "    def removeDuplicates(self, s: str, k: int) -> str:\n",
    "        stack = []\n",
    "        for i, c in enumerate(s):\n",
    "            stack.append(c)\n",
    "            if len(stack) >= 3:\n",
    "                while len(stack) >= 3 and ''.join(stack[-k:]) == stack[-1] * k:\n",
    "                    for _ in range(k):\n",
    "                        stack.pop()\n",
    "        return ''.join(stack)"
   ]
  },
  {
   "cell_type": "code",
   "execution_count": null,
   "metadata": {},
   "outputs": [],
   "source": []
  },
  {
   "cell_type": "code",
   "execution_count": 21,
   "metadata": {},
   "outputs": [],
   "source": [
    "class Solution:\n",
    "    def removeDuplicates(self, s: str, k: int) -> str:\n",
    "        stack = []\n",
    "        n = len(s)\n",
    "        idx = 0\n",
    "        while idx < n:\n",
    "            c = s[idx]\n",
    "            if s[idx: idx+k] == c * k:\n",
    "                idx += k\n",
    "                continue\n",
    "            stack.append(c)\n",
    "            if len(stack) >= k and c == stack[-k]:\n",
    "                while len(stack) >= k and ''.join(stack[-k:]) == stack[-1] * k:\n",
    "                    for _ in range(k):\n",
    "                        stack.pop()\n",
    "            idx += 1\n",
    "        return ''.join(stack)"
   ]
  },
  {
   "cell_type": "code",
   "execution_count": null,
   "metadata": {},
   "outputs": [],
   "source": []
  },
  {
   "cell_type": "code",
   "execution_count": null,
   "metadata": {},
   "outputs": [],
   "source": []
  },
  {
   "cell_type": "code",
   "execution_count": null,
   "metadata": {},
   "outputs": [],
   "source": []
  },
  {
   "cell_type": "code",
   "execution_count": 31,
   "metadata": {},
   "outputs": [],
   "source": [
    "class Solution:\n",
    "    def removeDuplicates(self, s: str, k: int) -> str:\n",
    "        stack = []\n",
    "        for c in s:\n",
    "            if stack and stack[-1][0] == c:\n",
    "                if stack[-1][1] == k - 1:\n",
    "                    stack.pop()\n",
    "                else:\n",
    "                    stack[-1][1] += 1\n",
    "            else:\n",
    "                stack.append([c, 1])\n",
    "            print(stack)\n",
    "        result = ''\n",
    "        for c, n in stack:\n",
    "            result += c * n\n",
    "        return result"
   ]
  },
  {
   "cell_type": "code",
   "execution_count": 32,
   "metadata": {},
   "outputs": [
    {
     "name": "stdout",
     "output_type": "stream",
     "text": [
      "[['p', 1]]\n",
      "[['p', 1], ['b', 1]]\n",
      "[['p', 1]]\n",
      "[['p', 1], ['c', 1]]\n",
      "[['p', 1], ['c', 1], ['g', 1]]\n",
      "[['p', 1], ['c', 1]]\n",
      "[['p', 1], ['c', 1], ['t', 1]]\n",
      "[['p', 1], ['c', 1]]\n",
      "[['p', 1]]\n",
      "[['p', 1], ['i', 1]]\n",
      "[['p', 1]]\n",
      "[['p', 1], ['i', 1]]\n",
      "[['p', 1], ['i', 1], ['p', 1]]\n",
      "[['p', 1], ['i', 1]]\n",
      "[['p', 1], ['i', 1], ['o', 1]]\n",
      "[['p', 1], ['i', 1]]\n",
      "[['p', 1], ['i', 1], ['a', 1]]\n",
      "[['p', 1], ['i', 1]]\n",
      "[['p', 1]]\n",
      "[['p', 1], ['s', 1]]\n"
     ]
    },
    {
     "data": {
      "text/plain": [
       "'ps'"
      ]
     },
     "execution_count": 32,
     "metadata": {},
     "output_type": "execute_result"
    }
   ],
   "source": [
    "solution = Solution()\n",
    "solution.removeDuplicates(s = \"pbbcggttciiippooaais\", k = 2)"
   ]
  },
  {
   "cell_type": "code",
   "execution_count": 20,
   "metadata": {},
   "outputs": [
    {
     "data": {
      "text/plain": [
       "3"
      ]
     },
     "execution_count": 20,
     "metadata": {},
     "output_type": "execute_result"
    }
   ],
   "source": [
    "a = [1, 2, 3, 4]\n",
    "a[-2]"
   ]
  },
  {
   "cell_type": "code",
   "execution_count": null,
   "metadata": {},
   "outputs": [],
   "source": []
  }
 ],
 "metadata": {
  "kernelspec": {
   "display_name": "Python 3",
   "language": "python",
   "name": "python3"
  },
  "language_info": {
   "codemirror_mode": {
    "name": "ipython",
    "version": 3
   },
   "file_extension": ".py",
   "mimetype": "text/x-python",
   "name": "python",
   "nbconvert_exporter": "python",
   "pygments_lexer": "ipython3",
   "version": "3.6.2"
  }
 },
 "nbformat": 4,
 "nbformat_minor": 4
}
