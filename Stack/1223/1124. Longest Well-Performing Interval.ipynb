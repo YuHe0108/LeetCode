{
 "cells": [
  {
   "cell_type": "code",
   "execution_count": null,
   "metadata": {},
   "outputs": [],
   "source": []
  },
  {
   "cell_type": "code",
   "execution_count": null,
   "metadata": {},
   "outputs": [],
   "source": []
  },
  {
   "cell_type": "code",
   "execution_count": 109,
   "metadata": {},
   "outputs": [],
   "source": [
    "class Solution:\n",
    "    def longestWPI(self, hours) -> int:\n",
    "        n = len(hours)\n",
    "        # 大于8小时计1分 小于等于8小时计-1分\n",
    "        score = [0] * n\n",
    "        for i in range(n):\n",
    "            if hours[i] > 8:\n",
    "                score[i] = 1\n",
    "            else:\n",
    "                score[i] = -1\n",
    "        # 前缀和\n",
    "        presum = [0] * (n + 1)\n",
    "        for i in range(1, n + 1):\n",
    "            presum[i] = presum[i - 1] + score[i - 1]\n",
    "        print(presum)\n",
    "\n",
    "        ans = 0\n",
    "        stack = []\n",
    "        # 顺序生成单调栈，栈中元素从第一个元素开始严格单调递减，最后一个元素肯定是数组中的最小元素所在位置\n",
    "        for i in range(n + 1):\n",
    "            if not stack or presum[stack[-1]] > presum[i]:\n",
    "                stack.append(i)\n",
    "        print(stack)\n",
    "        # 倒序扫描数组，求最大长度坡\n",
    "        i = n\n",
    "        while i > ans:\n",
    "            while stack and presum[stack[-1]] < presum[i]:\n",
    "                ans = max(ans, i - stack[-1])\n",
    "                stack.pop()\n",
    "            i -= 1\n",
    "        return ans"
   ]
  },
  {
   "cell_type": "code",
   "execution_count": 110,
   "metadata": {},
   "outputs": [
    {
     "name": "stdout",
     "output_type": "stream",
     "text": [
      "[0, 1, 2, 1, 0, -1, -2, -1]\n",
      "[0, 5, 6]\n"
     ]
    },
    {
     "data": {
      "text/plain": [
       "3"
      ]
     },
     "execution_count": 110,
     "metadata": {},
     "output_type": "execute_result"
    }
   ],
   "source": [
    "solution = Solution()\n",
    "solution.longestWPI(hours = [9,9,6,0,6,6,9])"
   ]
  },
  {
   "cell_type": "code",
   "execution_count": null,
   "metadata": {},
   "outputs": [],
   "source": []
  },
  {
   "cell_type": "code",
   "execution_count": 125,
   "metadata": {},
   "outputs": [],
   "source": [
    "class Solution:\n",
    "    def longestWPI(self, hours):\n",
    "        presum = [0] # 生成前缀和，只有当 h > 8 的时候，+1，否则 - 1\n",
    "        for h in hours:\n",
    "            item = presum[-1] + 1 if h > 8 else presum[-1] - 1\n",
    "            presum.append(item) \n",
    "        print(presum)\n",
    "        \n",
    "        stack = [] # 生成一个单调递减的栈, 存放的是可能区间的 起点 idx\n",
    "        for i, v in enumerate(presum):\n",
    "            if not stack or v < presum[stack[-1]]:\n",
    "                stack.append(i)\n",
    "        print(stack)\n",
    "        \n",
    "        # 实际上就是找从队尾算起，往前找一个比队尾元素小的值，使得presum[j] - presum[i] > 0\n",
    "        ans = 0\n",
    "        idx = len(hours) # 从后往前扫\n",
    "        while idx > ans:\n",
    "            while stack and presum[stack[-1]] < presum[idx]:\n",
    "                ans = max(ans, idx - stack[-1])\n",
    "                stack.pop()\n",
    "            idx -= 1\n",
    "        return ans"
   ]
  },
  {
   "cell_type": "code",
   "execution_count": 126,
   "metadata": {},
   "outputs": [
    {
     "name": "stdout",
     "output_type": "stream",
     "text": [
      "[0, 1, 2, 1, 0, -1, -2, -1]\n",
      "[0, 5, 6]\n"
     ]
    },
    {
     "data": {
      "text/plain": [
       "3"
      ]
     },
     "execution_count": 126,
     "metadata": {},
     "output_type": "execute_result"
    }
   ],
   "source": [
    "solution = Solution()\n",
    "solution.longestWPI(hours = [9,9,6,0,6,6,9])"
   ]
  },
  {
   "cell_type": "code",
   "execution_count": null,
   "metadata": {},
   "outputs": [],
   "source": [
    "[0, -1]\n",
    "-1 > -2\n",
    " 0 > -1:  0:4, 1:5"
   ]
  },
  {
   "cell_type": "code",
   "execution_count": null,
   "metadata": {},
   "outputs": [],
   "source": []
  },
  {
   "cell_type": "code",
   "execution_count": null,
   "metadata": {},
   "outputs": [],
   "source": []
  },
  {
   "cell_type": "code",
   "execution_count": null,
   "metadata": {},
   "outputs": [],
   "source": []
  },
  {
   "cell_type": "code",
   "execution_count": null,
   "metadata": {},
   "outputs": [],
   "source": []
  },
  {
   "cell_type": "code",
   "execution_count": null,
   "metadata": {},
   "outputs": [],
   "source": []
  },
  {
   "cell_type": "code",
   "execution_count": null,
   "metadata": {},
   "outputs": [],
   "source": []
  },
  {
   "cell_type": "code",
   "execution_count": null,
   "metadata": {},
   "outputs": [],
   "source": []
  },
  {
   "cell_type": "code",
   "execution_count": 5,
   "metadata": {},
   "outputs": [],
   "source": [
    "class Solution:\n",
    "    def longestWPI(self, hours):\n",
    "        n = len(hours)\n",
    "        stack = []\n",
    "        res = 0\n",
    "        for i, t in enumerate(hours):\n",
    "            if t > 8:\n",
    "                no_tir = 0\n",
    "                tir = 1 # 不劳累、劳累的天数\n",
    "                fir = -1\n",
    "                while tir > no_tir and stack:\n",
    "                    idx = stack.pop()\n",
    "                    if hours[idx] > 8:\n",
    "                        tir += 1\n",
    "                    else:\n",
    "                        no_tir += 1\n",
    "                    fir = idx\n",
    "                res = max(res, i - fir)\n",
    "            stack.append(i)\n",
    "        return res"
   ]
  },
  {
   "cell_type": "code",
   "execution_count": null,
   "metadata": {},
   "outputs": [],
   "source": []
  },
  {
   "cell_type": "code",
   "execution_count": null,
   "metadata": {},
   "outputs": [],
   "source": []
  },
  {
   "cell_type": "code",
   "execution_count": 89,
   "metadata": {},
   "outputs": [],
   "source": [
    "class Solution:\n",
    "    def longestWPI(self, hours):\n",
    "        def check(gap):\n",
    "            for s in range(n-gap+1):\n",
    "                e = s + (gap-1)\n",
    "                tir = presum[e+1] - presum[s]\n",
    "                print(hours[s:e+1], gap, tir)\n",
    "                if tir > 0:\n",
    "                    return True\n",
    "            return False\n",
    "        \n",
    "        n = len(hours)\n",
    "        presum = [0]\n",
    "        for h in hours:\n",
    "            if h > 8:\n",
    "                presum.append(presum[-1] + 1)\n",
    "            else:\n",
    "                presum.append(presum[-1] - 1)\n",
    "        left, right = 1, n\n",
    "        res = 0\n",
    "        while left <= right:\n",
    "            mid = left + (right - left) // 2\n",
    "            if check(mid):\n",
    "                res = mid\n",
    "                left = mid + 1\n",
    "            else:\n",
    "                right = mid - 1\n",
    "        return res"
   ]
  },
  {
   "cell_type": "code",
   "execution_count": 90,
   "metadata": {},
   "outputs": [
    {
     "name": "stdout",
     "output_type": "stream",
     "text": [
      "[9, 9, 6, 0] 4 0\n",
      "[9, 6, 0, 6] 4 -2\n",
      "[6, 0, 6, 6] 4 -4\n",
      "[0, 6, 6, 9] 4 -2\n",
      "[9, 9] 2 2\n",
      "[9, 9, 6] 3 1\n"
     ]
    },
    {
     "data": {
      "text/plain": [
       "3"
      ]
     },
     "execution_count": 90,
     "metadata": {},
     "output_type": "execute_result"
    }
   ],
   "source": [
    "solution = Solution()\n",
    "solution.longestWPI(hours = [9,9,6,0,6,6,9])"
   ]
  },
  {
   "cell_type": "code",
   "execution_count": 29,
   "metadata": {},
   "outputs": [
    {
     "data": {
      "text/plain": [
       "2"
      ]
     },
     "execution_count": 29,
     "metadata": {},
     "output_type": "execute_result"
    }
   ],
   "source": [
    "round(3 /2)"
   ]
  },
  {
   "cell_type": "code",
   "execution_count": 40,
   "metadata": {},
   "outputs": [
    {
     "data": {
      "text/plain": [
       "2"
      ]
     },
     "execution_count": 40,
     "metadata": {},
     "output_type": "execute_result"
    }
   ],
   "source": [
    "round(5 / 2)"
   ]
  },
  {
   "cell_type": "code",
   "execution_count": 46,
   "metadata": {},
   "outputs": [
    {
     "name": "stdout",
     "output_type": "stream",
     "text": [
      "[0, 1, 3, 6, 10, 15, 21]\n"
     ]
    }
   ],
   "source": [
    "vals = [1, 2, 3, 4, 5, 6]\n",
    "presum = [0]\n",
    "for v in vals:\n",
    "    presum.append(v + presum[-1])\n",
    "print(presum)"
   ]
  },
  {
   "cell_type": "code",
   "execution_count": 48,
   "metadata": {},
   "outputs": [
    {
     "data": {
      "text/plain": [
       "6"
      ]
     },
     "execution_count": 48,
     "metadata": {},
     "output_type": "execute_result"
    }
   ],
   "source": [
    "presum[3] - presum[0]"
   ]
  },
  {
   "cell_type": "code",
   "execution_count": 60,
   "metadata": {},
   "outputs": [
    {
     "name": "stdout",
     "output_type": "stream",
     "text": [
      "2\n"
     ]
    }
   ],
   "source": [
    "a = [-1,0]\n",
    "if any(a) > 0:\n",
    "    print(2)"
   ]
  },
  {
   "cell_type": "code",
   "execution_count": null,
   "metadata": {},
   "outputs": [],
   "source": []
  },
  {
   "cell_type": "code",
   "execution_count": null,
   "metadata": {},
   "outputs": [],
   "source": []
  }
 ],
 "metadata": {
  "kernelspec": {
   "display_name": "PyCharm (test)",
   "language": "python",
   "name": "pycharm-6cfa6a7a"
  },
  "language_info": {
   "codemirror_mode": {
    "name": "ipython",
    "version": 3
   },
   "file_extension": ".py",
   "mimetype": "text/x-python",
   "name": "python",
   "nbconvert_exporter": "python",
   "pygments_lexer": "ipython3",
   "version": "3.6.2"
  }
 },
 "nbformat": 4,
 "nbformat_minor": 4
}
