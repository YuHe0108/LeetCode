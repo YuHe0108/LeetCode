{
 "cells": [
  {
   "cell_type": "code",
   "execution_count": null,
   "metadata": {},
   "outputs": [],
   "source": []
  },
  {
   "cell_type": "code",
   "execution_count": null,
   "metadata": {},
   "outputs": [],
   "source": [
    "from collections import defaultdict\n",
    "\n",
    "class FreqStack:\n",
    "\n",
    "    def __init__(self):\n",
    "        # 记录两个信息，一组信息是数字出现的频率\n",
    "        # 第二个信息是数字出现的先后顺序\n",
    "        self.num_freq = defaultdict(int) # 数字出现的频率\n",
    "        self.max_freq = [] # 数字出现的最高频率\n",
    "        self.num_idx = defaultdict(int) # 出现的顺序\n",
    "        self.stack = [] # 用栈存储数字\n",
    "\n",
    "    def push(self, x: int) -> None:\n",
    "        self.num_freq[x] += 1\n",
    "        if self.max_freq:\n",
    "            if self.num_freq[x] > self.max_freq[-1][-1]:\n",
    "                self.max_freq = [[x, self.num_freq[x]]]\n",
    "            elif self.num_freq[x] == self.max_freq[-1][-1]:\n",
    "                self.max_freq.append([x, self.num_freq[x]])    \n",
    "        else:\n",
    "            self.max_freq.append([x, self.num_freq[x]])\n",
    "        \n",
    "        self.num_idx[x] = len(self.stack)\n",
    "        self.stack.append(x)\n",
    "\n",
    "    def pop(self) -> int:\n",
    "        print(self.max_freq, '\\n', self.num_freq, self.num_idx, self.stack)\n",
    "        return 4"
   ]
  },
  {
   "cell_type": "code",
   "execution_count": null,
   "metadata": {},
   "outputs": [],
   "source": []
  },
  {
   "cell_type": "code",
   "execution_count": null,
   "metadata": {},
   "outputs": [],
   "source": []
  },
  {
   "cell_type": "code",
   "execution_count": null,
   "metadata": {},
   "outputs": [],
   "source": [
    "from collections import defaultdict\n",
    "\n",
    "class FreqStack:\n",
    "\n",
    "    def __init__(self):\n",
    "        # 记录两个信息，一组信息是数字出现的频率\n",
    "        # 第二个信息是数字出现的先后顺序\n",
    "        self.num_freq = defaultdict(int) # 出现的频率\n",
    "        self.num_idx = defaultdict(list) # 出现的顺序\n",
    "        self.cnt = 0 # 用cnt模拟存储数字\n",
    "\n",
    "    def push(self, x: int) -> None:\n",
    "        self.num_freq[x] += 1\n",
    "        self.num_idx[x].append(self.cnt)\n",
    "        self.cnt += 1\n",
    "\n",
    "    def pop(self) -> int:\n",
    "        # 根据出现的次数排序，每一次排序时间消耗很高\n",
    "        sort = sorted(self.num_freq.items(), key=lambda x: x[1])\n",
    "        # 弹出的这个一定是出现频率最高的\n",
    "        c, t = sort.pop() \n",
    "        # 出现次数最高的数字、在stack中的idx、频数\n",
    "        most_freq = [c, self.num_idx[c][-1], t]\n",
    "        for k, v in sort[::-1]:\n",
    "            if v == most_freq[-1]: # 如果频数相同，看看先后顺序\n",
    "                # 如果你比我更前出现，你可以替代我\n",
    "                if self.num_idx[k][-1] > most_freq[-2]:\n",
    "                    most_freq = [k, self.num_idx[k][-1], v]\n",
    "        \n",
    "        # 已经确定了谁是出现频率最高，并且最靠前\n",
    "        self.num_freq[most_freq[0]] -= 1\n",
    "        self.num_idx[most_freq[0]].pop()\n",
    "        return most_freq[0]\n",
    "        \n",
    "\n",
    "\n",
    "# Your FreqStack object will be instantiated and called as such:\n",
    "# obj = FreqStack()\n",
    "# obj.push(x)\n",
    "# param_2 = obj.pop()"
   ]
  },
  {
   "cell_type": "code",
   "execution_count": null,
   "metadata": {},
   "outputs": [],
   "source": [
    "class FreqStack:\n",
    "\n",
    "    def __init__(self):\n",
    "        self.max_freq = 0 # 数字出现的最高频数\n",
    "        self.freq_list = defaultdict(list) # 各个频率出现的数字有哪些\n",
    "        self.num_freq = defaultdict(int) # 各个数字出现的频率\n",
    "\n",
    "    def push(self, x: int) -> None:\n",
    "        self.num_freq[x] += 1\n",
    "        # 更新出现的最大频数\n",
    "        if self.num_freq[x] > self.max_freq:\n",
    "            self.max_freq = self.num_freq[x]\n",
    "        # 当前数字出现的最高频率 append 频率->数字 列表\n",
    "        self.freq_list[self.num_freq[x]].append(x)\n",
    "\n",
    "    def pop(self) -> int:\n",
    "        # 此时弹出的数字：出现的次数最多，并且是最后出现的\n",
    "        num = self.freq_list[self.max_freq].pop()\n",
    "        self.num_freq[num] -= 1\n",
    "        # 如果出现最高次数的数字都已经弹出，那么将最高出现的频数 -1\n",
    "        if not self.freq_list[self.max_freq]:\n",
    "            self.max_freq -= 1\n",
    "        return num\n",
    "        \n",
    "\n",
    "\n",
    "# Your FreqStack object will be instantiated and called as such:\n",
    "# obj = FreqStack()\n",
    "# obj.push(x)\n",
    "# param_2 = obj.pop()"
   ]
  },
  {
   "cell_type": "code",
   "execution_count": null,
   "metadata": {},
   "outputs": [],
   "source": []
  },
  {
   "cell_type": "code",
   "execution_count": null,
   "metadata": {},
   "outputs": [],
   "source": []
  },
  {
   "cell_type": "code",
   "execution_count": null,
   "metadata": {},
   "outputs": [],
   "source": []
  },
  {
   "cell_type": "code",
   "execution_count": null,
   "metadata": {},
   "outputs": [],
   "source": []
  },
  {
   "cell_type": "code",
   "execution_count": null,
   "metadata": {},
   "outputs": [],
   "source": []
  },
  {
   "cell_type": "code",
   "execution_count": null,
   "metadata": {},
   "outputs": [],
   "source": []
  },
  {
   "cell_type": "code",
   "execution_count": 19,
   "metadata": {},
   "outputs": [],
   "source": [
    "from sortedcontainers import SortedDict"
   ]
  },
  {
   "cell_type": "code",
   "execution_count": 21,
   "metadata": {},
   "outputs": [],
   "source": [
    "a = SortedDict()"
   ]
  },
  {
   "cell_type": "code",
   "execution_count": null,
   "metadata": {},
   "outputs": [],
   "source": []
  },
  {
   "cell_type": "code",
   "execution_count": 16,
   "metadata": {},
   "outputs": [
    {
     "name": "stdout",
     "output_type": "stream",
     "text": [
      "('c', 10)\n"
     ]
    }
   ],
   "source": [
    "print(a.popitem())"
   ]
  },
  {
   "cell_type": "code",
   "execution_count": null,
   "metadata": {},
   "outputs": [],
   "source": [
    "a = [1, 2, 3]\n",
    "b = [3, 4]"
   ]
  },
  {
   "cell_type": "code",
   "execution_count": 18,
   "metadata": {},
   "outputs": [],
   "source": [
    "sl = SortedList(key=lambda x: x[1])"
   ]
  },
  {
   "cell_type": "code",
   "execution_count": null,
   "metadata": {},
   "outputs": [],
   "source": []
  },
  {
   "cell_type": "code",
   "execution_count": 52,
   "metadata": {},
   "outputs": [],
   "source": [
    "sd = SortedDict({'d': 20, 'b': 2, 'c': 3})"
   ]
  },
  {
   "cell_type": "code",
   "execution_count": 53,
   "metadata": {},
   "outputs": [
    {
     "name": "stdout",
     "output_type": "stream",
     "text": [
      "('key', <function <lambda> at 0x00000246643F0510>)\n"
     ]
    }
   ],
   "source": [
    "print(sd.peekitem())"
   ]
  },
  {
   "cell_type": "code",
   "execution_count": null,
   "metadata": {},
   "outputs": [],
   "source": []
  }
 ],
 "metadata": {
  "kernelspec": {
   "display_name": "Python 3",
   "language": "python",
   "name": "python3"
  },
  "language_info": {
   "codemirror_mode": {
    "name": "ipython",
    "version": 3
   },
   "file_extension": ".py",
   "mimetype": "text/x-python",
   "name": "python",
   "nbconvert_exporter": "python",
   "pygments_lexer": "ipython3",
   "version": "3.6.2"
  }
 },
 "nbformat": 4,
 "nbformat_minor": 4
}
