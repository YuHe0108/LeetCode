{
 "cells": [
  {
   "cell_type": "code",
   "execution_count": null,
   "metadata": {},
   "outputs": [],
   "source": []
  },
  {
   "cell_type": "code",
   "execution_count": null,
   "metadata": {},
   "outputs": [],
   "source": []
  },
  {
   "cell_type": "code",
   "execution_count": null,
   "metadata": {},
   "outputs": [],
   "source": []
  },
  {
   "cell_type": "code",
   "execution_count": 81,
   "metadata": {},
   "outputs": [],
   "source": [
    "from collections import defaultdict\n",
    "\n",
    "class Solution:\n",
    "    def smallestSubsequence(self, s: str) -> str:\n",
    "        count = defaultdict(int)\n",
    "        for a in s:\n",
    "            count[a] += 1 # 每个字母的频数\n",
    "        stack = []\n",
    "        seen = set()\n",
    "        for a in s:\n",
    "            count[a] -= 1\n",
    "            if a not in seen: # 之前没有看过\n",
    "                while stack and stack[-1] > a and count[stack[-1]] > 0:\n",
    "                    letter = stack.pop()\n",
    "                    seen.remove(letter)\n",
    "                stack.append(a)\n",
    "                seen.add(a)\n",
    "        return ''.join(stack)"
   ]
  },
  {
   "cell_type": "code",
   "execution_count": 82,
   "metadata": {},
   "outputs": [
    {
     "data": {
      "text/plain": [
       "'abc'"
      ]
     },
     "execution_count": 82,
     "metadata": {},
     "output_type": "execute_result"
    }
   ],
   "source": [
    "solution = Solution()\n",
    "solution.smallestSubsequence(\"cbaacabcaaccaacababa\")"
   ]
  },
  {
   "cell_type": "code",
   "execution_count": null,
   "metadata": {},
   "outputs": [],
   "source": [
    "from collections import defaultdict\n",
    "\n",
    "class Solution:\n",
    "    def smallestSubsequence(self, s: str) -> str:\n",
    "        count = defaultdict(int)\n",
    "        for a in s:\n",
    "            count[a] += 1 # 每个字母的频数\n",
    "        print(count)\n",
    "        stack = []\n",
    "        for a in s:\n",
    "            if stack and a < stack[-1]:\n",
    "                while stack and a < stack[-1]:\n",
    "                    # 如果比我小, 如果stack[-1] 后面还有的话，我可以pop，如果没有不能pop\n",
    "                    if count[stack[-1]] > 0:\n",
    "                        stack.pop()\n",
    "                    else:\n",
    "                        break\n",
    "            stack.append(a)\n",
    "            count[a] -= 1\n",
    "        return stack"
   ]
  },
  {
   "cell_type": "code",
   "execution_count": 52,
   "metadata": {},
   "outputs": [
    {
     "data": {
      "text/plain": [
       "False"
      ]
     },
     "execution_count": 52,
     "metadata": {},
     "output_type": "execute_result"
    }
   ],
   "source": [
    "'e' <= 'c'"
   ]
  },
  {
   "cell_type": "code",
   "execution_count": null,
   "metadata": {},
   "outputs": [],
   "source": []
  }
 ],
 "metadata": {
  "kernelspec": {
   "display_name": "Python 3",
   "language": "python",
   "name": "python3"
  },
  "language_info": {
   "codemirror_mode": {
    "name": "ipython",
    "version": 3
   },
   "file_extension": ".py",
   "mimetype": "text/x-python",
   "name": "python",
   "nbconvert_exporter": "python",
   "pygments_lexer": "ipython3",
   "version": "3.6.2"
  }
 },
 "nbformat": 4,
 "nbformat_minor": 4
}
