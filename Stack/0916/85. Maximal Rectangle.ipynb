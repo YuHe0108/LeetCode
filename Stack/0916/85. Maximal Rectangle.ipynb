{
 "cells": [
  {
   "cell_type": "raw",
   "metadata": {},
   "source": [
    "说明：\n",
    "    给定 rows x cols二进制行，其中填充了0和1，\n",
    "    找到仅包含1的最大矩形并返回其面积。\n",
    "\n",
    "\n",
    "Example 2:\n",
    "    Input: matrix = []\n",
    "    Output: 0\n",
    "\n",
    "Example 3:\n",
    "    Input: matrix = [[\"0\"]]\n",
    "    Output: 0\n",
    "\n",
    "Example 4:\n",
    "    Input: matrix = [[\"1\"]]\n",
    "    Output: 1\n",
    "\n",
    "Example 5:\n",
    "    Input: matrix = [[\"0\",\"0\"]]\n",
    "    Output: 0\n",
    " \n",
    "Constraints:\n",
    "    1、rows == matrix.length\n",
    "    2、cols == matrix.length\n",
    "    3、0 <= row, cols <= 200\n",
    "    4、matrix[i][j] is '0' or '1'."
   ]
  },
  {
   "cell_type": "markdown",
   "metadata": {},
   "source": [
    "<img src='85.jpg' width=500>"
   ]
  },
  {
   "cell_type": "code",
   "execution_count": 32,
   "metadata": {},
   "outputs": [],
   "source": [
    "class Solution:\n",
    "    def maximalRectangle(self, matrix) -> int:\n",
    "        if not matrix or not matrix[0]: return 0\n",
    "        self.max_area = 0\n",
    "        \n",
    "        def helper(heights):\n",
    "            stacks = [0]\n",
    "            pre_height = heights[0]\n",
    "            for i in range(1, len(heights)):\n",
    "                h = heights[i]\n",
    "                if h > pre_height:\n",
    "                    stacks.append(i)\n",
    "                else:\n",
    "                    while stacks and heights[stacks[-1]] > h:\n",
    "                        j = stacks.pop()\n",
    "                        if stacks:\n",
    "                            self.max_area = max(self.max_area, heights[j] * (i - stacks[-1] - 1))\n",
    "                        else:\n",
    "                            self.max_area = max(self.max_area, heights[j] * i)\n",
    "                    stacks.append(i)\n",
    "                pre_height = h\n",
    "\n",
    "            while stacks:\n",
    "                j = stacks.pop()\n",
    "                if stacks:\n",
    "                    self.max_area = max(self.max_area, heights[j] * (len(heights) - stacks[-1] - 1))\n",
    "                else:\n",
    "                    self.max_area = max(self.max_area, heights[j] * len(heights))\n",
    "        \n",
    "        rows, cols = len(matrix), len(matrix[0])\n",
    "        temp = [0] * cols\n",
    "        for r in range(rows):\n",
    "            for col in range(cols):\n",
    "                val = int(matrix[r][col])\n",
    "                if val == 0:\n",
    "                    temp[col] = 0\n",
    "                else:\n",
    "                    temp[col] += val\n",
    "            helper(temp)\n",
    "        return self.max_area"
   ]
  },
  {
   "cell_type": "code",
   "execution_count": 33,
   "metadata": {},
   "outputs": [
    {
     "data": {
      "text/plain": [
       "6"
      ]
     },
     "execution_count": 33,
     "metadata": {},
     "output_type": "execute_result"
    }
   ],
   "source": [
    "matrix_= [[\"1\",\"0\",\"1\",\"0\",\"0\"],\n",
    "          [\"1\",\"0\",\"1\",\"1\",\"1\"],\n",
    "          [\"1\",\"1\",\"1\",\"1\",\"1\"],\n",
    "          [\"1\",\"0\",\"0\",\"1\",\"0\"]]\n",
    "solution = Solution()\n",
    "solution.maximalRectangle(matrix_)"
   ]
  },
  {
   "cell_type": "code",
   "execution_count": null,
   "metadata": {},
   "outputs": [],
   "source": []
  }
 ],
 "metadata": {
  "kernelspec": {
   "display_name": "Python 3",
   "language": "python",
   "name": "python3"
  },
  "language_info": {
   "codemirror_mode": {
    "name": "ipython",
    "version": 3
   },
   "file_extension": ".py",
   "mimetype": "text/x-python",
   "name": "python",
   "nbconvert_exporter": "python",
   "pygments_lexer": "ipython3",
   "version": "3.6.2"
  }
 },
 "nbformat": 4,
 "nbformat_minor": 4
}
