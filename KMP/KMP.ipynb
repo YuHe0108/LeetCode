{
 "cells": [
  {
   "cell_type": "code",
   "execution_count": null,
   "metadata": {},
   "outputs": [],
   "source": []
  },
  {
   "cell_type": "code",
   "execution_count": null,
   "metadata": {},
   "outputs": [],
   "source": []
  },
  {
   "cell_type": "code",
   "execution_count": null,
   "metadata": {},
   "outputs": [],
   "source": []
  },
  {
   "cell_type": "code",
   "execution_count": 16,
   "metadata": {},
   "outputs": [],
   "source": []
  },
  {
   "cell_type": "code",
   "execution_count": null,
   "metadata": {},
   "outputs": [],
   "source": []
  },
  {
   "cell_type": "code",
   "execution_count": null,
   "metadata": {},
   "outputs": [],
   "source": []
  },
  {
   "cell_type": "code",
   "execution_count": 79,
   "metadata": {},
   "outputs": [],
   "source": [
    "def get_prefix_table(parten):\n",
    "    m = len(parten)\n",
    "    prefix = [0, 0]\n",
    "    j = 0\n",
    "    for i in range(1, m):\n",
    "        while j > 0 and parten[i] != parten[j]:\n",
    "            j = prefix[j]\n",
    "        if parten[i] == parten[j]:\n",
    "            j += 1\n",
    "        prefix.append(j)\n",
    "    return prefix"
   ]
  },
  {
   "cell_type": "code",
   "execution_count": 80,
   "metadata": {},
   "outputs": [
    {
     "data": {
      "text/plain": [
       "[0, 0, 0, 1, 2, 0, 1, 2, 3, 1]"
      ]
     },
     "execution_count": 80,
     "metadata": {},
     "output_type": "execute_result"
    }
   ],
   "source": [
    "string = 'ababcabaa'\n",
    "get_prefix_table(string)"
   ]
  },
  {
   "cell_type": "code",
   "execution_count": null,
   "metadata": {},
   "outputs": [],
   "source": []
  },
  {
   "cell_type": "code",
   "execution_count": null,
   "metadata": {},
   "outputs": [],
   "source": []
  },
  {
   "cell_type": "code",
   "execution_count": 74,
   "metadata": {},
   "outputs": [],
   "source": [
    "def get_prefix_table(parten):\n",
    "    m = len(parten)\n",
    "    prefix = [0, 0]\n",
    "    j = 0\n",
    "    for i in range(1, m):\n",
    "        while j > 0 and parten[i] != parten[j]:\n",
    "            j = prefix[j]\n",
    "        if parten[i] == parten[j]:\n",
    "            j += 1\n",
    "        prefix.append(j)\n",
    "    return prefix"
   ]
  },
  {
   "cell_type": "code",
   "execution_count": 64,
   "metadata": {},
   "outputs": [],
   "source": [
    "def kmp(string, pattern):\n",
    "    n, m = len(string), len(pattern)\n",
    "    prefix = get_prefix_table(pattern)\n",
    "    ans = []\n",
    "    j = 0\n",
    "    for i in range(n):\n",
    "        while j > 0 and string[i] != pattern[j]:\n",
    "            j = prefix[j]\n",
    "        if string[i] == pattern[j]:\n",
    "            j += 1\n",
    "        if j == m:\n",
    "            ans.append(i - m + 1)\n",
    "            j = prefix[j]\n",
    "    return ans"
   ]
  },
  {
   "cell_type": "code",
   "execution_count": 66,
   "metadata": {},
   "outputs": [
    {
     "data": {
      "text/plain": [
       "[0, 6]"
      ]
     },
     "execution_count": 66,
     "metadata": {},
     "output_type": "execute_result"
    }
   ],
   "source": [
    "string = 'AABACDAABA'\n",
    "pattern = 'AABA'\n",
    "kmp(string, pattern)"
   ]
  },
  {
   "cell_type": "code",
   "execution_count": null,
   "metadata": {},
   "outputs": [],
   "source": []
  },
  {
   "cell_type": "code",
   "execution_count": 67,
   "metadata": {},
   "outputs": [],
   "source": [
    "def get_prefix_table(pattern):\n",
    "    n = len(pattern)\n",
    "    prefix = [0] * n\n",
    "    idx = 1 # 从第一位开始匹配\n",
    "    length = 0 # 当前的最大长度为 0\n",
    "    while idx < n:\n",
    "        if pattern[idx] == pattern[length]:\n",
    "            length += 1\n",
    "            prefix[idx] = length\n",
    "            idx += 1\n",
    "        else:\n",
    "            if length > 0:\n",
    "                length = prefix[length - 1]\n",
    "            else:\n",
    "                prefix[idx] = 0\n",
    "                idx += 1\n",
    "    return prefix\n",
    "\n",
    "def get_prefix_table(pattern):\n",
    "    n = len(pattern)\n",
    "    if n <= 1: # pattern 的长度小于等于 1 的时候，长度肯定为 0\n",
    "        return 0\n",
    "    \n",
    "    preifx_table = [0] * (n + 1) # n表示了字符串的长度为 n 时，前缀与后缀相同的最大长度. prefix_table[0] 表示只有一个字符的时候，肯定为 0 \n",
    "    if pattern[0] == pattern[1]:\n",
    "        prefix_table[2] = 1\n",
    "    \n",
    "    for i in range(3, n + 1): # 从第二位开始计算，也就是从计算 aba ~ ababcabaa 区间内的最长前缀和后缀的长度\n",
    "        pre_len = prefix_table[i-1] # 前一个长度 为 i-1 的最长相同前后缀的长度\n",
    "        if pattern[pre_len] == pattern[i]:\n",
    "            pass\n",
    "        else:\n",
    "            pass\n",
    "    return prefix_table\n",
    "\n",
    "def get_prefix_table(pattern):\n",
    "    n = len(pattern)\n",
    "    prefix_table = [0] * n\n",
    "    length = 0\n",
    "    idx = 1\n",
    "    while idx < n:\n",
    "        if pattern[idx] == pattern[length]:\n",
    "            length += 1\n",
    "            prefix_table[idx] = length\n",
    "            idx += 1\n",
    "        else:\n",
    "            if length > 0:\n",
    "                length = prefix_table[length - 1]\n",
    "            else:\n",
    "                prefix_table[idx] = 0\n",
    "                idx += 1\n",
    "    return prefix_table"
   ]
  },
  {
   "cell_type": "code",
   "execution_count": null,
   "metadata": {},
   "outputs": [],
   "source": []
  }
 ],
 "metadata": {
  "kernelspec": {
   "display_name": "Python 3",
   "language": "python",
   "name": "python3"
  },
  "language_info": {
   "codemirror_mode": {
    "name": "ipython",
    "version": 3
   },
   "file_extension": ".py",
   "mimetype": "text/x-python",
   "name": "python",
   "nbconvert_exporter": "python",
   "pygments_lexer": "ipython3",
   "version": "3.6.2"
  }
 },
 "nbformat": 4,
 "nbformat_minor": 4
}
