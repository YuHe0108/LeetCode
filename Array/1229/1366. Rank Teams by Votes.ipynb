{
 "cells": [
  {
   "cell_type": "code",
   "execution_count": null,
   "metadata": {},
   "outputs": [],
   "source": []
  },
  {
   "cell_type": "code",
   "execution_count": null,
   "metadata": {},
   "outputs": [],
   "source": []
  },
  {
   "cell_type": "code",
   "execution_count": 11,
   "metadata": {},
   "outputs": [],
   "source": [
    "from collections import defaultdict\n",
    "\n",
    "class Solution:\n",
    "    def rankTeams(self, votes):\n",
    "        count = defaultdict(dict)\n",
    "        for v in votes:\n",
    "            for i, a in enumerate(v):\n",
    "                if i not in count[a]:\n",
    "                    count[a][i] = 1\n",
    "                else:\n",
    "                    count[a][i] += 1\n",
    "        print(count)"
   ]
  },
  {
   "cell_type": "code",
   "execution_count": null,
   "metadata": {},
   "outputs": [],
   "source": []
  },
  {
   "cell_type": "code",
   "execution_count": 31,
   "metadata": {},
   "outputs": [],
   "source": [
    "import collections\n",
    "\n",
    "class Solution:\n",
    "    def rankTeams(self, votes) -> str:   \n",
    "        base=[''.join(a) for a in zip(*votes)]\n",
    "       \n",
    "        cnt=[collections.Counter(x) for x in base]\n",
    "        ans = list(votes[0])\n",
    "        ans.sort()\n",
    "        ans.sort(key=lambda x: tuple([-a[x] for a in cnt]))\n",
    "        return ''.join(ans)"
   ]
  },
  {
   "cell_type": "code",
   "execution_count": 32,
   "metadata": {},
   "outputs": [
    {
     "name": "stdout",
     "output_type": "stream",
     "text": [
      "[Counter({'A': 5}), Counter({'C': 3, 'B': 2}), Counter({'B': 3, 'C': 2})]\n"
     ]
    },
    {
     "data": {
      "text/plain": [
       "'ACB'"
      ]
     },
     "execution_count": 32,
     "metadata": {},
     "output_type": "execute_result"
    }
   ],
   "source": [
    "solution = Solution()\n",
    "solution.rankTeams(votes = [\"ABC\",\"ACB\",\"ABC\",\"ACB\",\"ACB\"])"
   ]
  },
  {
   "cell_type": "code",
   "execution_count": null,
   "metadata": {},
   "outputs": [],
   "source": []
  },
  {
   "cell_type": "code",
   "execution_count": 17,
   "metadata": {},
   "outputs": [],
   "source": [
    "from collections import defaultdict\n",
    "\n",
    "class Solution:\n",
    "    def rankTeams(self, votes):\n",
    "        count = defaultdict(dict)\n",
    "        for v in votes:\n",
    "            for i, a in enumerate(v):\n",
    "                if i not in count[a]:\n",
    "                    count[a][i] = 1\n",
    "                else:\n",
    "                    count[a][i] += 1\n",
    "        \n",
    "        values = {}\n",
    "        for a, v in count.items():\n",
    "            v = sorted(v.items(), key=lambda x:x[0])\n",
    "            item = ''\n",
    "            for k, v1 in v:\n",
    "                item += str(k) * v1\n",
    "            values[a] = item\n",
    "        print(values)\n",
    "        outs = sorted(values.items(), key=lambda x:(x[1], x[0]))\n",
    "        res = [k for k, v in outs]\n",
    "        return ''.join(res)"
   ]
  },
  {
   "cell_type": "code",
   "execution_count": 18,
   "metadata": {},
   "outputs": [
    {
     "name": "stdout",
     "output_type": "stream",
     "text": [
      "{'Z': '0', 'M': '1', 'Y': '2', 'L': '3', 'B': '4', 'O': '5', 'P': '6', 'H': '7', 'R': '8', 'Q': '9', 'I': '10', 'C': '11', 'N': '12', 'W': '13', 'F': '14', 'X': '15', 'T': '16', 'V': '17', 'K': '18', 'A': '19', 'G': '20', 'U': '21', 'E': '22', 'D': '23', 'S': '24', 'J': '25'}\n"
     ]
    },
    {
     "data": {
      "text/plain": [
       "'ZMICNWFXTVKAYGUEDSJLBOPHRQ'"
      ]
     },
     "execution_count": 18,
     "metadata": {},
     "output_type": "execute_result"
    }
   ],
   "source": [
    "solution = Solution()\n",
    "solution.rankTeams([\"ZMYLBOPHRQICNWFXTVKAGUEDSJ\"])"
   ]
  },
  {
   "cell_type": "code",
   "execution_count": 10,
   "metadata": {},
   "outputs": [
    {
     "data": {
      "text/plain": [
       "True"
      ]
     },
     "execution_count": 10,
     "metadata": {},
     "output_type": "execute_result"
    }
   ],
   "source": [
    "'AAAB' > 'AAA'"
   ]
  },
  {
   "cell_type": "code",
   "execution_count": 32,
   "metadata": {},
   "outputs": [
    {
     "data": {
      "text/plain": [
       "True"
      ]
     },
     "execution_count": 32,
     "metadata": {},
     "output_type": "execute_result"
    }
   ],
   "source": [
    "'0001' > '0000'"
   ]
  },
  {
   "cell_type": "code",
   "execution_count": 8,
   "metadata": {},
   "outputs": [],
   "source": [
    "def helper(a):\n",
    "    if a > 1:\n",
    "        return True\n",
    "    return False\n",
    "a = [1, 2, 3]\n",
    "b = sorted(a, key=helper)"
   ]
  },
  {
   "cell_type": "code",
   "execution_count": 9,
   "metadata": {},
   "outputs": [
    {
     "data": {
      "text/plain": [
       "[1, 2, 3]"
      ]
     },
     "execution_count": 9,
     "metadata": {},
     "output_type": "execute_result"
    }
   ],
   "source": [
    "b"
   ]
  },
  {
   "cell_type": "code",
   "execution_count": 13,
   "metadata": {},
   "outputs": [
    {
     "data": {
      "text/plain": [
       "'A'"
      ]
     },
     "execution_count": 13,
     "metadata": {},
     "output_type": "execute_result"
    }
   ],
   "source": [
    "chr(0 + 65)"
   ]
  },
  {
   "cell_type": "code",
   "execution_count": null,
   "metadata": {},
   "outputs": [],
   "source": []
  }
 ],
 "metadata": {
  "kernelspec": {
   "display_name": "Python 3",
   "language": "python",
   "name": "python3"
  },
  "language_info": {
   "codemirror_mode": {
    "name": "ipython",
    "version": 3
   },
   "file_extension": ".py",
   "mimetype": "text/x-python",
   "name": "python",
   "nbconvert_exporter": "python",
   "pygments_lexer": "ipython3",
   "version": "3.6.2"
  }
 },
 "nbformat": 4,
 "nbformat_minor": 4
}
