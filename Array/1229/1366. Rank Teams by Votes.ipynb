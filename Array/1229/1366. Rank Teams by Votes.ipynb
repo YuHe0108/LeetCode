{
 "cells": [
  {
   "cell_type": "code",
   "execution_count": null,
   "metadata": {},
   "outputs": [],
   "source": []
  },
  {
   "cell_type": "code",
   "execution_count": null,
   "metadata": {},
   "outputs": [],
   "source": []
  },
  {
   "cell_type": "code",
   "execution_count": 11,
   "metadata": {},
   "outputs": [],
   "source": [
    "from collections import defaultdict\n",
    "\n",
    "class Solution:\n",
    "    def rankTeams(self, votes):\n",
    "        count = defaultdict(dict)\n",
    "        for v in votes:\n",
    "            for i, a in enumerate(v):\n",
    "                if i not in count[a]:\n",
    "                    count[a][i] = 1\n",
    "                else:\n",
    "                    count[a][i] += 1\n",
    "        print(count)"
   ]
  },
  {
   "cell_type": "code",
   "execution_count": null,
   "metadata": {},
   "outputs": [],
   "source": []
  },
  {
   "cell_type": "code",
   "execution_count": 19,
   "metadata": {},
   "outputs": [],
   "source": [
    "import collections\n",
    "\n",
    "class Solution:\n",
    "    def rankTeams(self, votes) -> str:   \n",
    "        base=[''.join(a) for a in zip(*votes)]\n",
    "        cnt=[collections.Counter(x) for x in base]\n",
    "        ans = list(votes[0])\n",
    "        ans.sort(key=lambda x: tuple([-a[x] for a in cnt]))\n",
    "        return ''.join(ans)"
   ]
  },
  {
   "cell_type": "code",
   "execution_count": 20,
   "metadata": {},
   "outputs": [
    {
     "name": "stdout",
     "output_type": "stream",
     "text": [
      "[Counter({'A': 5}), Counter({'C': 3, 'B': 2}), Counter({'B': 3, 'C': 2})]\n",
      "['A', 'B', 'C']\n",
      "['A', 'B', 'C']\n",
      "['A', 'C', 'B']\n"
     ]
    },
    {
     "data": {
      "text/plain": [
       "'ACB'"
      ]
     },
     "execution_count": 20,
     "metadata": {},
     "output_type": "execute_result"
    }
   ],
   "source": [
    "solution = Solution()\n",
    "solution.rankTeams(votes = [\"ABC\",\"ACB\",\"ABC\",\"ACB\",\"ACB\"])"
   ]
  },
  {
   "cell_type": "code",
   "execution_count": null,
   "metadata": {},
   "outputs": [],
   "source": []
  },
  {
   "cell_type": "code",
   "execution_count": 17,
   "metadata": {},
   "outputs": [],
   "source": [
    "from collections import defaultdict\n",
    "\n",
    "class Solution:\n",
    "    def rankTeams(self, votes):\n",
    "        count = defaultdict(dict)\n",
    "        for v in votes:\n",
    "            for i, a in enumerate(v):\n",
    "                if i not in count[a]:\n",
    "                    count[a][i] = 1\n",
    "                else:\n",
    "                    count[a][i] += 1\n",
    "        \n",
    "        values = {}\n",
    "        for a, v in count.items():\n",
    "            v = sorted(v.items(), key=lambda x:x[0])\n",
    "            item = ''\n",
    "            for k, v1 in v:\n",
    "                item += str(k) * v1\n",
    "            values[a] = item\n",
    "        print(values)\n",
    "        outs = sorted(values.items(), key=lambda x:(x[1], x[0]))\n",
    "        res = [k for k, v in outs]\n",
    "        return ''.join(res)"
   ]
  },
  {
   "cell_type": "code",
   "execution_count": 21,
   "metadata": {},
   "outputs": [
    {
     "name": "stdout",
     "output_type": "stream",
     "text": [
      "[Counter({'Z': 1}), Counter({'M': 1}), Counter({'Y': 1}), Counter({'L': 1}), Counter({'B': 1}), Counter({'O': 1}), Counter({'P': 1}), Counter({'H': 1}), Counter({'R': 1}), Counter({'Q': 1}), Counter({'I': 1}), Counter({'C': 1}), Counter({'N': 1}), Counter({'W': 1}), Counter({'F': 1}), Counter({'X': 1}), Counter({'T': 1}), Counter({'V': 1}), Counter({'K': 1}), Counter({'A': 1}), Counter({'G': 1}), Counter({'U': 1}), Counter({'E': 1}), Counter({'D': 1}), Counter({'S': 1}), Counter({'J': 1})]\n",
      "['Z', 'M', 'Y', 'L', 'B', 'O', 'P', 'H', 'R', 'Q', 'I', 'C', 'N', 'W', 'F', 'X', 'T', 'V', 'K', 'A', 'G', 'U', 'E', 'D', 'S', 'J']\n",
      "['Z', 'M', 'Y', 'L', 'B', 'O', 'P', 'H', 'R', 'Q', 'I', 'C', 'N', 'W', 'F', 'X', 'T', 'V', 'K', 'A', 'G', 'U', 'E', 'D', 'S', 'J']\n",
      "['Z', 'M', 'Y', 'L', 'B', 'O', 'P', 'H', 'R', 'Q', 'I', 'C', 'N', 'W', 'F', 'X', 'T', 'V', 'K', 'A', 'G', 'U', 'E', 'D', 'S', 'J']\n"
     ]
    },
    {
     "data": {
      "text/plain": [
       "'ZMYLBOPHRQICNWFXTVKAGUEDSJ'"
      ]
     },
     "execution_count": 21,
     "metadata": {},
     "output_type": "execute_result"
    }
   ],
   "source": [
    "solution = Solution()\n",
    "solution.rankTeams([\"ZMYLBOPHRQICNWFXTVKAGUEDSJ\"])"
   ]
  },
  {
   "cell_type": "code",
   "execution_count": null,
   "metadata": {},
   "outputs": [],
   "source": []
  },
  {
   "cell_type": "code",
   "execution_count": null,
   "metadata": {},
   "outputs": [],
   "source": []
  },
  {
   "cell_type": "code",
   "execution_count": null,
   "metadata": {},
   "outputs": [],
   "source": []
  },
  {
   "cell_type": "code",
   "execution_count": 40,
   "metadata": {},
   "outputs": [],
   "source": [
    "from functools import cmp_to_key\n",
    "\n",
    "class Solution:\n",
    "    def rankTeams(self, votes) -> str:\n",
    "        counts = {}\n",
    "        length = len(votes[0]) # 一共给多少人排名\n",
    "        for char in votes[0]: # 初始化每个人的得票都是 0\n",
    "            counts[char] = [0] * length\n",
    "        for vote in votes:\n",
    "            for i, char in enumerate(vote):\n",
    "                counts[char][i] += 1\n",
    "        # print(counts)\n",
    "        counts = sorted(list(counts.items()), key=lambda x:x[0])\n",
    "        # print(counts)\n",
    "\n",
    "        def sort_key(x, y) -> bool:\n",
    "            # 自定义排序\n",
    "            x, y = list(x[1]), list(y[1])\n",
    "            for i in range(len(x)):\n",
    "                if x[i] != y[i]:\n",
    "                    return y[i]-x[i] # 对于相同位置的数字，谁的数值更大谁得分更高\n",
    "                else:\n",
    "                    continue\n",
    "            return True\n",
    "        \n",
    "        counts = sorted(counts, key=cmp_to_key(sort_key))\n",
    "        # print(counts)\n",
    "        ans = ''.join([x[0] for x in counts])\n",
    "        return ans"
   ]
  },
  {
   "cell_type": "code",
   "execution_count": 41,
   "metadata": {},
   "outputs": [
    {
     "name": "stdout",
     "output_type": "stream",
     "text": [
      "[0, 2, 3] [5, 0, 0]\n",
      "[0, 3, 2] [0, 2, 3]\n",
      "[0, 3, 2] [0, 2, 3]\n",
      "[0, 3, 2] [5, 0, 0]\n"
     ]
    },
    {
     "data": {
      "text/plain": [
       "'ACB'"
      ]
     },
     "execution_count": 41,
     "metadata": {},
     "output_type": "execute_result"
    }
   ],
   "source": [
    "solution = Solution()\n",
    "solution.rankTeams(votes = [\"ABC\",\"ACB\",\"ABC\",\"ACB\",\"ACB\"])"
   ]
  },
  {
   "cell_type": "code",
   "execution_count": null,
   "metadata": {},
   "outputs": [],
   "source": []
  },
  {
   "cell_type": "code",
   "execution_count": null,
   "metadata": {},
   "outputs": [],
   "source": []
  },
  {
   "cell_type": "code",
   "execution_count": null,
   "metadata": {},
   "outputs": [],
   "source": []
  },
  {
   "cell_type": "code",
   "execution_count": 10,
   "metadata": {},
   "outputs": [
    {
     "data": {
      "text/plain": [
       "True"
      ]
     },
     "execution_count": 10,
     "metadata": {},
     "output_type": "execute_result"
    }
   ],
   "source": [
    "'AAAB' > 'AAA'"
   ]
  },
  {
   "cell_type": "code",
   "execution_count": 32,
   "metadata": {},
   "outputs": [
    {
     "data": {
      "text/plain": [
       "True"
      ]
     },
     "execution_count": 32,
     "metadata": {},
     "output_type": "execute_result"
    }
   ],
   "source": [
    "'0001' > '0000'"
   ]
  },
  {
   "cell_type": "code",
   "execution_count": 8,
   "metadata": {},
   "outputs": [],
   "source": [
    "def helper(a):\n",
    "    if a > 1:\n",
    "        return True\n",
    "    return False\n",
    "a = [1, 2, 3]\n",
    "b = sorted(a, key=helper)"
   ]
  },
  {
   "cell_type": "code",
   "execution_count": 9,
   "metadata": {},
   "outputs": [
    {
     "data": {
      "text/plain": [
       "[1, 2, 3]"
      ]
     },
     "execution_count": 9,
     "metadata": {},
     "output_type": "execute_result"
    }
   ],
   "source": [
    "b"
   ]
  },
  {
   "cell_type": "code",
   "execution_count": 13,
   "metadata": {},
   "outputs": [
    {
     "data": {
      "text/plain": [
       "'A'"
      ]
     },
     "execution_count": 13,
     "metadata": {},
     "output_type": "execute_result"
    }
   ],
   "source": [
    "chr(0 + 65)"
   ]
  },
  {
   "cell_type": "code",
   "execution_count": null,
   "metadata": {},
   "outputs": [],
   "source": []
  }
 ],
 "metadata": {
  "kernelspec": {
   "display_name": "PyCharm (test)",
   "language": "python",
   "name": "pycharm-6cfa6a7a"
  },
  "language_info": {
   "codemirror_mode": {
    "name": "ipython",
    "version": 3
   },
   "file_extension": ".py",
   "mimetype": "text/x-python",
   "name": "python",
   "nbconvert_exporter": "python",
   "pygments_lexer": "ipython3",
   "version": "3.6.2"
  }
 },
 "nbformat": 4,
 "nbformat_minor": 4
}
