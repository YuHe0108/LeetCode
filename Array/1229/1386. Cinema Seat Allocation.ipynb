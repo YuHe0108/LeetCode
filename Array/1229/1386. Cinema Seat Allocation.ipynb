{
 "cells": [
  {
   "cell_type": "code",
   "execution_count": null,
   "metadata": {},
   "outputs": [],
   "source": []
  },
  {
   "cell_type": "code",
   "execution_count": null,
   "metadata": {},
   "outputs": [],
   "source": []
  },
  {
   "cell_type": "code",
   "execution_count": null,
   "metadata": {},
   "outputs": [],
   "source": [
    "class Solution:\n",
    "    def maxNumberOfFamilies(self, n: int, reservedSeats: List[List[int]]) -> int:\n",
    "        left, middle, right = 0b11110000, 0b11000011, 0b00001111\n",
    "        occupied = collections.defaultdict(int)\n",
    "        for seat in reservedSeats:\n",
    "            if 2 <= seat[1] <= 9:\n",
    "                occupied[seat[0]] |= (1 << (seat[1] - 2))\n",
    "        \n",
    "        ans = (n - len(occupied)) * 2\n",
    "        for row, bitmask in occupied.items():\n",
    "            if (bitmask | left) == left or (bitmask | middle) == middle or (bitmask | right) == right:\n",
    "                ans += 1\n",
    "        return ans\n",
    "\n"
   ]
  },
  {
   "cell_type": "code",
   "execution_count": 31,
   "metadata": {},
   "outputs": [],
   "source": [
    "from collections import defaultdict\n",
    "\n",
    "class Solution:\n",
    "    def maxNumberOfFamilies(self, n: int, reservedSeats):\n",
    "        # 有效的座位：(2,3,4,5), (4,5,6,7), (6,7,8,9)\n",
    "        reservedSeats = sorted(reservedSeats, key=lambda x:(x[0], x[1]))\n",
    "        count = defaultdict(set)\n",
    "        for r, c in reservedSeats:\n",
    "            count[r].add(c)\n",
    "        \n",
    "        \n",
    "        key1, key2, key3 = (2,3,4,5), (4,5,6,7), (6,7,8,9)\n",
    "        cnt = 0\n",
    "        for i in count.keys():\n",
    "            seats = {(2,3,4,5): True, (4,5,6,7):True, (6,7,8,9):True} # 有效的座位：(2,3,4,5), (4,5,6,7), (6,7,8,9)\n",
    "            for key in seats:\n",
    "                for j in key:\n",
    "                    if j in count[i]:\n",
    "                        seats[key] = False\n",
    "            if seats[key1] and seats[key3]:\n",
    "                cnt += 2\n",
    "            elif seats[key1] or seats[key2] or seats[key3]:\n",
    "                cnt += 1\n",
    "        left = n - len(count.keys())\n",
    "        return cnt + left * 2"
   ]
  },
  {
   "cell_type": "code",
   "execution_count": 32,
   "metadata": {},
   "outputs": [
    {
     "data": {
      "text/plain": [
       "4"
      ]
     },
     "execution_count": 32,
     "metadata": {},
     "output_type": "execute_result"
    }
   ],
   "source": [
    "solution = Solution()\n",
    "solution.maxNumberOfFamilies(n = 3, reservedSeats = [[2,6],[1,2],[1,3],[1,8],[3,10],[3,1]])"
   ]
  },
  {
   "cell_type": "code",
   "execution_count": null,
   "metadata": {},
   "outputs": [],
   "source": [
    "1000000000"
   ]
  }
 ],
 "metadata": {
  "kernelspec": {
   "display_name": "Python 3",
   "language": "python",
   "name": "python3"
  },
  "language_info": {
   "codemirror_mode": {
    "name": "ipython",
    "version": 3
   },
   "file_extension": ".py",
   "mimetype": "text/x-python",
   "name": "python",
   "nbconvert_exporter": "python",
   "pygments_lexer": "ipython3",
   "version": "3.6.2"
  }
 },
 "nbformat": 4,
 "nbformat_minor": 4
}
