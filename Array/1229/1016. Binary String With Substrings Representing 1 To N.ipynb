{
 "cells": [
  {
   "cell_type": "code",
   "execution_count": null,
   "metadata": {},
   "outputs": [],
   "source": []
  },
  {
   "cell_type": "code",
   "execution_count": null,
   "metadata": {},
   "outputs": [],
   "source": []
  },
  {
   "cell_type": "code",
   "execution_count": null,
   "metadata": {},
   "outputs": [],
   "source": []
  },
  {
   "cell_type": "code",
   "execution_count": null,
   "metadata": {},
   "outputs": [],
   "source": []
  },
  {
   "cell_type": "raw",
   "metadata": {},
   "source": [
    "1、易知，对于任意整数n，其二进制表示的字符串均包含右移一位后的子串，即 n/2 取整后的二进制表示。\n",
    "2、我们注意到末位为1和0的值均包含同一子序列，则不妨设n=2k，则整数序列(k+1,k+2,...2k)的二进制表示将包含整数序列(k+1/2,...k) 的二进制表示。\n",
    "3、根据简单归纳得知该序列将包含右移至末尾后所有子序列的求和，即整数序列(1,2...k)。故只需要遍历[N>>1+1, N]的范围即可\n",
    "\n",
    "作者：reimupy\n",
    "链接：https://leetcode-cn.com/problems/binary-string-with-substrings-representing-1-to-n/solution/python3you-hua-jie-fa-fu-dai-jian-dan-zheng-ming-b/"
   ]
  },
  {
   "cell_type": "code",
   "execution_count": null,
   "metadata": {},
   "outputs": [],
   "source": [
    "class Solution:\n",
    "    def queryString(self, S: str, N: int) -> bool:\n",
    "        res = True\n",
    "        if N < 2: return res\n",
    "        for i in range(N>>1+1,N+1):\n",
    "            s = str(bin(i))[2:]\n",
    "            if (s in S):\n",
    "                res &= True \n",
    "            else:\n",
    "                res &= False\n",
    "                break\n",
    "        return res"
   ]
  },
  {
   "cell_type": "code",
   "execution_count": 3,
   "metadata": {},
   "outputs": [],
   "source": [
    "class Solution:\n",
    "    def queryString(self, S: str, N: int) -> bool:\n",
    "        for i in range(1, N+1):\n",
    "            print(bin(i)[2:])"
   ]
  },
  {
   "cell_type": "code",
   "execution_count": 4,
   "metadata": {},
   "outputs": [
    {
     "name": "stdout",
     "output_type": "stream",
     "text": [
      "1\n",
      "10\n",
      "11\n",
      "100\n"
     ]
    }
   ],
   "source": [
    "solution = Solution()\n",
    "solution.queryString(S = \"0110\", N = 4)"
   ]
  },
  {
   "cell_type": "code",
   "execution_count": 5,
   "metadata": {},
   "outputs": [],
   "source": [
    "class Solution:\n",
    "    def queryString(self, S: str, N: int) -> bool:\n",
    "        for i in range(1, N+1):\n",
    "            if bin(i)[2:] not in S:\n",
    "                return False\n",
    "        return True\n",
    "        "
   ]
  },
  {
   "cell_type": "code",
   "execution_count": null,
   "metadata": {},
   "outputs": [],
   "source": [
    "class Solution:\n",
    "    def queryString(self, S: str, N: int) -> bool:\n",
    "        return all(bin(i)[2:] in S for i in range(N, N // 2, -1))"
   ]
  }
 ],
 "metadata": {
  "kernelspec": {
   "display_name": "Python 3",
   "language": "python",
   "name": "python3"
  },
  "language_info": {
   "codemirror_mode": {
    "name": "ipython",
    "version": 3
   },
   "file_extension": ".py",
   "mimetype": "text/x-python",
   "name": "python",
   "nbconvert_exporter": "python",
   "pygments_lexer": "ipython3",
   "version": "3.6.2"
  }
 },
 "nbformat": 4,
 "nbformat_minor": 4
}
