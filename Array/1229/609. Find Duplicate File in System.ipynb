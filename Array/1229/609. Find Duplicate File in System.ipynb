{
 "cells": [
  {
   "cell_type": "code",
   "execution_count": null,
   "metadata": {},
   "outputs": [],
   "source": []
  },
  {
   "cell_type": "code",
   "execution_count": null,
   "metadata": {},
   "outputs": [],
   "source": []
  },
  {
   "cell_type": "code",
   "execution_count": null,
   "metadata": {},
   "outputs": [],
   "source": []
  },
  {
   "cell_type": "code",
   "execution_count": 41,
   "metadata": {},
   "outputs": [],
   "source": [
    "from collections import defaultdict\n",
    "\n",
    "class Solution:\n",
    "    def findDuplicate(self, paths):\n",
    "        count = defaultdict(list)\n",
    "        \n",
    "        n = len(paths)\n",
    "        for path in paths:\n",
    "            files = path.split(' ')\n",
    "            dirs = files[0]\n",
    "            for file in files[1:]:\n",
    "                l, r = file.index('('), file.index(')')\n",
    "                file_name = file[:l]\n",
    "                content = file[l+1:r]\n",
    "                count[content].append(dirs + r'/' + file_name)\n",
    "                # print(file, file_name, content)\n",
    "        res = []\n",
    "        for k, v in count.items():\n",
    "            if len(v) > 1:\n",
    "                res.append(v)\n",
    "        return res"
   ]
  },
  {
   "cell_type": "code",
   "execution_count": 42,
   "metadata": {},
   "outputs": [
    {
     "data": {
      "text/plain": [
       "[['root/a/1.txt', 'root/c/3.txt'],\n",
       " ['root/a/2.txt', 'root/c/d/4.txt', 'root/4.txt']]"
      ]
     },
     "execution_count": 42,
     "metadata": {},
     "output_type": "execute_result"
    }
   ],
   "source": [
    "solution = Solution()\n",
    "solution.findDuplicate([\"root/a 1.txt(abcd) 2.txt(efgh)\", \"root/c 3.txt(abcd)\", \"root/c/d 4.txt(efgh)\", \"root 4.txt(efgh)\"])"
   ]
  },
  {
   "cell_type": "code",
   "execution_count": null,
   "metadata": {},
   "outputs": [],
   "source": []
  }
 ],
 "metadata": {
  "kernelspec": {
   "display_name": "Python 3",
   "language": "python",
   "name": "python3"
  },
  "language_info": {
   "codemirror_mode": {
    "name": "ipython",
    "version": 3
   },
   "file_extension": ".py",
   "mimetype": "text/x-python",
   "name": "python",
   "nbconvert_exporter": "python",
   "pygments_lexer": "ipython3",
   "version": "3.6.2"
  }
 },
 "nbformat": 4,
 "nbformat_minor": 4
}
