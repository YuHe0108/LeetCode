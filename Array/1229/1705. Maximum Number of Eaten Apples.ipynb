{
 "cells": [
  {
   "cell_type": "code",
   "execution_count": null,
   "metadata": {},
   "outputs": [],
   "source": [
    "while apple:\n",
    "    d, a = heapq.heappop(apple)\n",
    "    if day > d:\n",
    "        continue\n",
    "    print(d, a)\n",
    "    day += 1\n",
    "    cnt += 1\n",
    "    if d - 1 > 0 and a - 1 > 0:\n",
    "        heapq.heappush(apple, (d-1, a-1))"
   ]
  },
  {
   "cell_type": "code",
   "execution_count": null,
   "metadata": {},
   "outputs": [],
   "source": [
    "# 如果 apple不为空的话，吃掉最容易坏的一个苹果\n",
    "            if apple:\n",
    "                d, a = heapq.heappop(apple)\n",
    "                cnt += 1\n",
    "                if d != 0 and a != 0:\n",
    "                    heapq.heappush(apple, (d-1, a-1))\n",
    "            else:"
   ]
  },
  {
   "cell_type": "code",
   "execution_count": 150,
   "metadata": {},
   "outputs": [],
   "source": [
    "import heapq\n",
    "\n",
    "class Solution:\n",
    "    def eatenApples(self, apples, days):\n",
    "        # 先吃掉容易坏的\n",
    "        n = len(apples)\n",
    "        apple = []\n",
    "        cnt = 0 # 一共吃了多少苹果\n",
    "        apples.insert(0, 0)\n",
    "        days.insert(0, 0)\n",
    "        for i in range(1, n+1):\n",
    "            if apples[i] > 0:\n",
    "                heapq.heappush(apple, (days[i], i, apples[i])) # 保质期、第几天结的、结了几个\n",
    "            if apple:\n",
    "                d, s, a = heapq.heappop(apple) # s 是苹果第几天结的\n",
    "                if i - s <= d: # 没有变质\n",
    "                    cnt, a = cnt + 1, a - 1\n",
    "                    if a > 0:\n",
    "                        heapq.heappush(apple, (d-1, s, a))\n",
    "        return\n",
    "        now_day = n + 1 # 到了第 n 天\n",
    "        while apple:\n",
    "            d, s, a = heapq.heappop(apple) # s 是苹果第几天结的\n",
    "            if now_day - s <= d: # 没有变质\n",
    "                cnt, a = cnt + 1, a - 1\n",
    "                if a > 0:\n",
    "                    heapq.heappush(apple, (d, s, a))\n",
    "            now_day += 1\n",
    "        return cnt"
   ]
  },
  {
   "cell_type": "code",
   "execution_count": null,
   "metadata": {},
   "outputs": [],
   "source": []
  },
  {
   "cell_type": "code",
   "execution_count": null,
   "metadata": {},
   "outputs": [],
   "source": []
  },
  {
   "cell_type": "code",
   "execution_count": null,
   "metadata": {},
   "outputs": [],
   "source": []
  },
  {
   "cell_type": "code",
   "execution_count": null,
   "metadata": {},
   "outputs": [],
   "source": []
  },
  {
   "cell_type": "code",
   "execution_count": 37,
   "metadata": {},
   "outputs": [],
   "source": [
    "import heapq\n",
    "\n",
    "# 先吃掉容易坏的\n",
    "class Solution:\n",
    "    def eatenApples(self, apples, days):\n",
    "        apple = [] # 记录每一天结的苹果\n",
    "        cnt = 0 # 一共吃了多少苹果\n",
    "        n = len(apples)\n",
    "        apples.insert(0, 0)\n",
    "        days.insert(0, 0)\n",
    "        out_days = 0 # 度过了几天\n",
    "        for i in range(1, n+1):\n",
    "            out_days += 1\n",
    "            a, d = apples[i], days[i]\n",
    "            heapq.heappush(apple, (d + i, a))\n",
    "            while apple:\n",
    "                pop_d, pop_a = heapq.heappop(apple)\n",
    "                if pop_d <= out_days:\n",
    "                    continue\n",
    "                cnt += 1\n",
    "                pop_a -= 1\n",
    "                if pop_a > 0:\n",
    "                    heapq.heappush(apple, (pop_d, pop_a))\n",
    "                break\n",
    "    \n",
    "        while apple:\n",
    "            out_days += 1\n",
    "            pop_d, pop_a = heapq.heappop(apple)\n",
    "            if pop_d <= out_days:\n",
    "                out_days -= 1\n",
    "                continue\n",
    "            cnt += 1\n",
    "            pop_a -= 1\n",
    "            if pop_a > 0:\n",
    "                heapq.heappush(apple, (pop_d, pop_a))\n",
    "        return cnt"
   ]
  },
  {
   "cell_type": "code",
   "execution_count": null,
   "metadata": {},
   "outputs": [],
   "source": []
  },
  {
   "cell_type": "code",
   "execution_count": 43,
   "metadata": {},
   "outputs": [],
   "source": [
    "import heapq\n",
    "\n",
    "# 先吃掉容易坏的\n",
    "class Solution:\n",
    "    def eatenApples(self, apples, days):\n",
    "        apple = [] # 记录每一天结的苹果\n",
    "        cnt = 0 # 一共吃了多少苹果\n",
    "        n = len(apples)\n",
    "        apples.insert(0, 0)\n",
    "        days.insert(0, 0)\n",
    "        out_days = 0 # 度过了几天\n",
    "        i = 1\n",
    "        while i < n+1 or apple:\n",
    "            out_days += 1\n",
    "            if i <= n:\n",
    "                # 加进去新的苹果\n",
    "                a, d = apples[i], days[i]\n",
    "                if a > 0:\n",
    "                    heapq.heappush(apple, (d + i, a))\n",
    "            # 吃苹果\n",
    "            while apple:\n",
    "                pop_d, pop_a = heapq.heappop(apple)\n",
    "                if pop_d <= out_days:\n",
    "                    continue\n",
    "                cnt += 1\n",
    "                pop_a -= 1\n",
    "                if pop_a > 0:\n",
    "                    heapq.heappush(apple, (pop_d, pop_a))\n",
    "                break\n",
    "            i += 1\n",
    "        return cnt"
   ]
  },
  {
   "cell_type": "code",
   "execution_count": 44,
   "metadata": {},
   "outputs": [
    {
     "data": {
      "text/plain": [
       "5"
      ]
     },
     "execution_count": 44,
     "metadata": {},
     "output_type": "execute_result"
    }
   ],
   "source": [
    "solution = Solution()\n",
    "solution.eatenApples(apples = [3,0,0,0,0,2], days = [3,0,0,0,0,2])"
   ]
  },
  {
   "cell_type": "code",
   "execution_count": null,
   "metadata": {},
   "outputs": [],
   "source": [
    "[3,1,1,0,0,2]\n",
    "[3,1,1,0,0,2]"
   ]
  }
 ],
 "metadata": {
  "kernelspec": {
   "display_name": "PyCharm (test)",
   "language": "python",
   "name": "pycharm-6cfa6a7a"
  },
  "language_info": {
   "codemirror_mode": {
    "name": "ipython",
    "version": 3
   },
   "file_extension": ".py",
   "mimetype": "text/x-python",
   "name": "python",
   "nbconvert_exporter": "python",
   "pygments_lexer": "ipython3",
   "version": "3.6.2"
  }
 },
 "nbformat": 4,
 "nbformat_minor": 4
}
