{
 "cells": [
  {
   "cell_type": "code",
   "execution_count": null,
   "metadata": {},
   "outputs": [],
   "source": [
    "while apple:\n",
    "    d, a = heapq.heappop(apple)\n",
    "    if day > d:\n",
    "        continue\n",
    "    print(d, a)\n",
    "    day += 1\n",
    "    cnt += 1\n",
    "    if d - 1 > 0 and a - 1 > 0:\n",
    "        heapq.heappush(apple, (d-1, a-1))"
   ]
  },
  {
   "cell_type": "code",
   "execution_count": null,
   "metadata": {},
   "outputs": [],
   "source": [
    "# 如果 apple不为空的话，吃掉最容易坏的一个苹果\n",
    "            if apple:\n",
    "                d, a = heapq.heappop(apple)\n",
    "                cnt += 1\n",
    "                if d != 0 and a != 0:\n",
    "                    heapq.heappush(apple, (d-1, a-1))\n",
    "            else:"
   ]
  },
  {
   "cell_type": "code",
   "execution_count": 150,
   "metadata": {},
   "outputs": [],
   "source": [
    "import heapq\n",
    "\n",
    "class Solution:\n",
    "    def eatenApples(self, apples, days):\n",
    "        # 先吃掉容易坏的\n",
    "        n = len(apples)\n",
    "        apple = []\n",
    "        cnt = 0 # 一共吃了多少苹果\n",
    "        apples.insert(0, 0)\n",
    "        days.insert(0, 0)\n",
    "        for i in range(1, n+1):\n",
    "            if apples[i] > 0:\n",
    "                heapq.heappush(apple, (days[i], i, apples[i])) # 保质期、第几天结的、结了几个\n",
    "            if apple:\n",
    "                d, s, a = heapq.heappop(apple) # s 是苹果第几天结的\n",
    "                if i - s <= d: # 没有变质\n",
    "                    cnt, a = cnt + 1, a - 1\n",
    "                    if a > 0:\n",
    "                        heapq.heappush(apple, (d-1, s, a))\n",
    "        return\n",
    "        now_day = n + 1 # 到了第 n 天\n",
    "        while apple:\n",
    "            d, s, a = heapq.heappop(apple) # s 是苹果第几天结的\n",
    "            if now_day - s <= d: # 没有变质\n",
    "                cnt, a = cnt + 1, a - 1\n",
    "                if a > 0:\n",
    "                    heapq.heappush(apple, (d, s, a))\n",
    "            now_day += 1\n",
    "        return cnt"
   ]
  },
  {
   "cell_type": "code",
   "execution_count": 151,
   "metadata": {},
   "outputs": [
    {
     "name": "stdout",
     "output_type": "stream",
     "text": [
      "3 1 1 1\n",
      "1\n",
      "2 2 2 2\n",
      "2\n",
      "1 3 3 3\n",
      "3\n",
      "1 3 2 4\n",
      "4\n",
      "1 3 1 5\n",
      "4\n"
     ]
    }
   ],
   "source": [
    "solution = Solution()\n",
    "solution.eatenApples(apples = [1,2,3,5,2], days = [3,2,1,4,2])"
   ]
  },
  {
   "cell_type": "code",
   "execution_count": null,
   "metadata": {},
   "outputs": [],
   "source": [
    "[3,1,1,0,0,2]\n",
    "[3,1,1,0,0,2]"
   ]
  }
 ],
 "metadata": {
  "kernelspec": {
   "display_name": "Python 3",
   "language": "python",
   "name": "python3"
  },
  "language_info": {
   "codemirror_mode": {
    "name": "ipython",
    "version": 3
   },
   "file_extension": ".py",
   "mimetype": "text/x-python",
   "name": "python",
   "nbconvert_exporter": "python",
   "pygments_lexer": "ipython3",
   "version": "3.6.2"
  }
 },
 "nbformat": 4,
 "nbformat_minor": 4
}
