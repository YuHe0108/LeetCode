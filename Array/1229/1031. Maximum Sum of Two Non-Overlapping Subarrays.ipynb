{
 "cells": [
  {
   "cell_type": "code",
   "execution_count": null,
   "metadata": {},
   "outputs": [],
   "source": []
  },
  {
   "cell_type": "code",
   "execution_count": 49,
   "metadata": {},
   "outputs": [],
   "source": [
    "class Solution:\n",
    "    def maxSumTwoNoOverlap(self, A: List[int], L: int, M: int):\n",
    "        # 要求的是非重叠且连续的两个子数组\n",
    "        # 所以有两种情况，要么L在前，M在后；要么M在前，L在后\n",
    "        # 所以在Loop的过程中分别计算留足余量后的最大值\n",
    "        # 加起来的最大值就是前一个最大值加上后面存在的各种值\n",
    "        for i in range(1, len(A)):\n",
    "            A[i] += A[i-1]\n",
    "        res, Lmax, Mmax = A[L + M - 1], A[L - 1], A[M - 1]\n",
    "        for i in range(L+M, len(A)):\n",
    "            Lmax = max(Lmax, A[i - M] - A[i - L - M])\n",
    "            Mmax = max(Mmax, A[i - L] - A[i - L - M])\n",
    "            # 分别包括了 L 个子数组在前和 M 个子数组在前\n",
    "            res = max(res, Lmax + A[i] - A[i - M], Mmax + A[i] - A[i - L])\n",
    "        return res"
   ]
  },
  {
   "cell_type": "code",
   "execution_count": 50,
   "metadata": {},
   "outputs": [
    {
     "name": "stdout",
     "output_type": "stream",
     "text": [
      "[1, 1, 4]\n"
     ]
    },
    {
     "data": {
      "text/plain": [
       "4"
      ]
     },
     "execution_count": 50,
     "metadata": {},
     "output_type": "execute_result"
    }
   ],
   "source": [
    "solution = Solution()\n",
    "solution.maxSumTwoNoOverlap([1,0,3], 1, 2)"
   ]
  },
  {
   "cell_type": "code",
   "execution_count": null,
   "metadata": {},
   "outputs": [],
   "source": [
    "class Solution:\n",
    "    def maxSumTwoNoOverlap(self, A: List[int], L: int, M: int) -> int:\n",
    "        n=len(A)\n",
    "        if L+M==n:return sum(A)\n",
    "\n",
    "        maxval=0\n",
    "        presum=[0]*(n+1)\n",
    "        for i in range(n):\n",
    "            presum[i+1]=presum[i]+A[i]\n",
    "\n",
    "        # 若L在前,premax表示后面m个的最大值\n",
    "        premax= presum[-1] - presum[-M-1]\n",
    "        for i in range(n-M-L,-1,-1):\n",
    "            premax=max(premax,presum[i+L+M]-presum[i+L])\n",
    "            maxval=max(maxval,presum[i+L]-presum[i]+premax)\n",
    "            \n",
    "        # 若L在后，premax表示后面L个的最大值\n",
    "        premax=presum[-1]-presum[-L-1]\n",
    "        for i in range(n-M-L,-1,-1):\n",
    "            premax=max(premax,presum[i+L+M]-presum[i+M])\n",
    "            maxval=max(maxval,presum[i+M]-presum[i]+premax)       \n",
    "        return maxval"
   ]
  },
  {
   "cell_type": "code",
   "execution_count": 51,
   "metadata": {},
   "outputs": [],
   "source": [
    "class Solution:\n",
    "    def maxSumTwoNoOverlap(self, A, L: int, M):\n",
    "        # 保证 M 是较大值\n",
    "        presum = [0]\n",
    "        for num in A:\n",
    "            presum.append(presum[-1] + num)\n",
    "        \n",
    "        n = len(A)\n",
    "        A.insert(0, 0)\n",
    "        l_sum = []\n",
    "        for i in range(n - L + 1):\n",
    "            l_sum.append((presum[i+L] - presum[i], i, i + L))\n",
    "        m_sum = []\n",
    "        for i in range(n - M + 1):\n",
    "            m_sum.append((presum[i+M] - presum[i], i, i + M))\n",
    "        \n",
    "        l_sum = sorted(l_sum, reverse=True)\n",
    "        m_sum = sorted(m_sum, reverse=True)\n",
    "        max_val = -float('inf')\n",
    "        for i in range(len(l_sum)): # L 的范围更小\n",
    "            l_val, l_s, l_e = l_sum[i]\n",
    "            for j in range(len(m_sum)): # M的范围更大\n",
    "                m_val, m_s, m_e = m_sum[j]\n",
    "                # 检查是否有重叠\n",
    "                if l_e <= m_s or l_s >= m_e:\n",
    "                    max_val = max(l_val + m_val, max_val)\n",
    "        return max_val"
   ]
  },
  {
   "cell_type": "code",
   "execution_count": 52,
   "metadata": {},
   "outputs": [
    {
     "data": {
      "text/plain": [
       "4"
      ]
     },
     "execution_count": 52,
     "metadata": {},
     "output_type": "execute_result"
    }
   ],
   "source": [
    "solution = Solution()\n",
    "solution.maxSumTwoNoOverlap([1,0,3], 1, 2)"
   ]
  },
  {
   "cell_type": "code",
   "execution_count": null,
   "metadata": {},
   "outputs": [],
   "source": []
  }
 ],
 "metadata": {
  "kernelspec": {
   "display_name": "Python 3",
   "language": "python",
   "name": "python3"
  },
  "language_info": {
   "codemirror_mode": {
    "name": "ipython",
    "version": 3
   },
   "file_extension": ".py",
   "mimetype": "text/x-python",
   "name": "python",
   "nbconvert_exporter": "python",
   "pygments_lexer": "ipython3",
   "version": "3.6.2"
  }
 },
 "nbformat": 4,
 "nbformat_minor": 4
}
