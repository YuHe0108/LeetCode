{
 "cells": [
  {
   "cell_type": "code",
   "execution_count": null,
   "metadata": {},
   "outputs": [],
   "source": []
  },
  {
   "cell_type": "code",
   "execution_count": null,
   "metadata": {},
   "outputs": [],
   "source": [
    " # print(S[start:start + t_len], t_len, targets[i])"
   ]
  },
  {
   "cell_type": "code",
   "execution_count": 43,
   "metadata": {},
   "outputs": [],
   "source": [
    "class Solution:\n",
    "    def findReplaceString(self, S, indexes, sources, targets):\n",
    "        i_s_t = {}\n",
    "        for i, idx in enumerate(indexes):\n",
    "            i_s_t[idx] = [sources[i], targets[i]]\n",
    "        i_s_t = sorted(i_s_t.items(), key=lambda x: x[0])\n",
    "        indexes.sort()\n",
    "        n_sources = []\n",
    "        n_targets = []\n",
    "        for i, item in i_s_t:\n",
    "            n_sources.append(item[0])\n",
    "            n_targets.append(item[1])\n",
    "        sources, targets = n_sources, n_targets\n",
    "        \n",
    "        s_list = list(S)\n",
    "        n = len(indexes)\n",
    "        increase = 0 # 增加了多少长度的字符\n",
    "        for i in range(n):\n",
    "            start = indexes[i]\n",
    "            s_len = len(sources[i]) # 被替换字符的长度\n",
    "            if S[start:start + s_len] == sources[i]:\n",
    "                s_list[start + increase: start + s_len + increase] = targets[i]\n",
    "                increase += len(targets[i]) - len(sources[i])\n",
    "        return ''.join(s_list)"
   ]
  },
  {
   "cell_type": "code",
   "execution_count": 58,
   "metadata": {},
   "outputs": [],
   "source": [
    "class Solution:\n",
    "    def findReplaceString(self, S, indexes, sources, targets):\n",
    "        i_s_t = {}\n",
    "        for i, idx in enumerate(indexes):\n",
    "            i_s_t[idx] = [sources[i], targets[i]]\n",
    "        i_s_t = sorted(i_s_t.items(), key=lambda x: x[0])\n",
    "        indexes.sort(reverse=True)\n",
    "        n_sources = []\n",
    "        n_targets = []\n",
    "        for i, item in i_s_t:\n",
    "            n_sources.append(item[0])\n",
    "            n_targets.append(item[1])\n",
    "        sources, targets = n_sources[::-1], n_targets[::-1]\n",
    "        \n",
    "        s_list = list(S)\n",
    "        n = len(indexes)\n",
    "        for i in range(n):\n",
    "            start = indexes[i]\n",
    "            s_len = len(sources[i]) # 被替换字符的长度\n",
    "            if S[start:start + s_len] == sources[i]:\n",
    "                s_list[start: start + s_len] = targets[i]\n",
    "        return ''.join(s_list)"
   ]
  },
  {
   "cell_type": "code",
   "execution_count": 59,
   "metadata": {},
   "outputs": [
    {
     "data": {
      "text/plain": [
       "'vbfrssozp'"
      ]
     },
     "execution_count": 59,
     "metadata": {},
     "output_type": "execute_result"
    }
   ],
   "source": [
    "solution = Solution()\n",
    "solution.findReplaceString(\"vmokgggqzp\", [3,5,1], [\"kg\",\"ggq\",\"mo\"], [\"s\",\"so\",\"bfr\"])"
   ]
  },
  {
   "cell_type": "code",
   "execution_count": 22,
   "metadata": {},
   "outputs": [],
   "source": [
    "s = [1, 2, 3]\n",
    "s[:2] = [1]"
   ]
  },
  {
   "cell_type": "code",
   "execution_count": 23,
   "metadata": {},
   "outputs": [
    {
     "data": {
      "text/plain": [
       "[1, 3]"
      ]
     },
     "execution_count": 23,
     "metadata": {},
     "output_type": "execute_result"
    }
   ],
   "source": [
    "s"
   ]
  },
  {
   "cell_type": "code",
   "execution_count": 60,
   "metadata": {},
   "outputs": [],
   "source": [
    "class Solution:\n",
    "    def findReplaceString(self, S, indexes, sources, targets):\n",
    "        sList = list(S)\n",
    "        indexHash = {}\n",
    "        for idx, pos in enumerate(indexes):\n",
    "            indexHash[pos] = idx\n",
    "        print(indexHash)\n",
    "        posList = sorted(indexHash.keys(), reverse=True)\n",
    "        \n",
    "        for pos in posList:\n",
    "            idx = indexHash[pos]\n",
    "            sourceStr = sources[idx]\n",
    "            strLen = len(sourceStr)\n",
    "            if S[pos: pos + strLen] == sourceStr:\n",
    "                sList[pos: pos + strLen] = targets[idx]\n",
    "        \n",
    "        return ''.join(sList)\n"
   ]
  },
  {
   "cell_type": "code",
   "execution_count": 61,
   "metadata": {},
   "outputs": [
    {
     "name": "stdout",
     "output_type": "stream",
     "text": [
      "{3: 0, 5: 1, 1: 2}\n"
     ]
    },
    {
     "data": {
      "text/plain": [
       "'vbfrssozp'"
      ]
     },
     "execution_count": 61,
     "metadata": {},
     "output_type": "execute_result"
    }
   ],
   "source": [
    "solution = Solution()\n",
    "solution.findReplaceString(\"vmokgggqzp\", [3,5,1], [\"kg\",\"ggq\",\"mo\"], [\"s\",\"so\",\"bfr\"])"
   ]
  },
  {
   "cell_type": "code",
   "execution_count": null,
   "metadata": {},
   "outputs": [],
   "source": []
  }
 ],
 "metadata": {
  "kernelspec": {
   "display_name": "Python 3",
   "language": "python",
   "name": "python3"
  },
  "language_info": {
   "codemirror_mode": {
    "name": "ipython",
    "version": 3
   },
   "file_extension": ".py",
   "mimetype": "text/x-python",
   "name": "python",
   "nbconvert_exporter": "python",
   "pygments_lexer": "ipython3",
   "version": "3.6.2"
  }
 },
 "nbformat": 4,
 "nbformat_minor": 4
}
