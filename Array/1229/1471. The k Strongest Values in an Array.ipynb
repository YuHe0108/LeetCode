{
 "cells": [
  {
   "cell_type": "code",
   "execution_count": null,
   "metadata": {},
   "outputs": [],
   "source": []
  },
  {
   "cell_type": "code",
   "execution_count": null,
   "metadata": {},
   "outputs": [],
   "source": [
    "class Solution:\n",
    "    def getStrongest(self, arr: List[int], k: int) -> List[int]:\n",
    "        arr = sorted(arr)\n",
    "        i = len(arr)\n",
    "        mid = arr[(i-1)//2]\n",
    "        left = 0\n",
    "        right = i - 1\n",
    "        res = []\n",
    "        # 差值最大的肯定是排序后的数组两端\n",
    "        while k > 0:\n",
    "            if arr[right]-mid >= mid - arr[left]:\n",
    "                res.append(arr[right])\n",
    "                right -= 1\n",
    "            else:\n",
    "                res.append(arr[left])\n",
    "                left += 1\n",
    "            k -= 1\n",
    "        return res"
   ]
  },
  {
   "cell_type": "code",
   "execution_count": 43,
   "metadata": {},
   "outputs": [],
   "source": [
    "from collections import Counter\n",
    "class Solution:\n",
    "    def getStrongest(self, arr, k: int):\n",
    "        count = Counter(arr)\n",
    "        res = {}\n",
    "        n = len(arr)\n",
    "        s_arr = sorted(arr)\n",
    "        m_idx = (n - 1) // 2 # 中位数的 idx\n",
    "        mid_num = s_arr[m_idx] # 中位数\n",
    "        for i, n in enumerate(arr):\n",
    "            res[n] = abs(n - mid_num)\n",
    "        \n",
    "        s_res = sorted(res.items(), key=lambda x:(-x[1], -x[0]))\n",
    "        outs = []\n",
    "        for num, val in s_res:\n",
    "            if k - count[num] >= 0:\n",
    "                outs.extend([num] * count[num])\n",
    "            else:\n",
    "                outs.extend([num] * k)\n",
    "            k -= count[num]\n",
    "            if k <= 0:\n",
    "                return outs\n",
    "        return outs"
   ]
  },
  {
   "cell_type": "code",
   "execution_count": 44,
   "metadata": {},
   "outputs": [
    {
     "data": {
      "text/plain": [
       "[5, 5]"
      ]
     },
     "execution_count": 44,
     "metadata": {},
     "output_type": "execute_result"
    }
   ],
   "source": [
    "solution = Solution()\n",
    "solution.getStrongest(arr = [1,1,3,5,5], k = 2)"
   ]
  },
  {
   "cell_type": "code",
   "execution_count": 41,
   "metadata": {},
   "outputs": [],
   "source": [
    "outs = []\n",
    "num = 2\n",
    "count = {}\n",
    "count[2] = 10\n",
    "outs.extend([num] * count[num])"
   ]
  },
  {
   "cell_type": "code",
   "execution_count": 42,
   "metadata": {},
   "outputs": [
    {
     "data": {
      "text/plain": [
       "[2, 2, 2, 2, 2, 2, 2, 2, 2, 2]"
      ]
     },
     "execution_count": 42,
     "metadata": {},
     "output_type": "execute_result"
    }
   ],
   "source": [
    "outs"
   ]
  },
  {
   "cell_type": "code",
   "execution_count": null,
   "metadata": {},
   "outputs": [],
   "source": []
  }
 ],
 "metadata": {
  "kernelspec": {
   "display_name": "Python 3",
   "language": "python",
   "name": "python3"
  },
  "language_info": {
   "codemirror_mode": {
    "name": "ipython",
    "version": 3
   },
   "file_extension": ".py",
   "mimetype": "text/x-python",
   "name": "python",
   "nbconvert_exporter": "python",
   "pygments_lexer": "ipython3",
   "version": "3.6.2"
  }
 },
 "nbformat": 4,
 "nbformat_minor": 4
}
