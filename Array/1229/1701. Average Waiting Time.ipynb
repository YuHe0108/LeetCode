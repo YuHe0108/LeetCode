{
 "cells": [
  {
   "cell_type": "code",
   "execution_count": null,
   "metadata": {},
   "outputs": [],
   "source": []
  },
  {
   "cell_type": "code",
   "execution_count": null,
   "metadata": {},
   "outputs": [],
   "source": []
  },
  {
   "cell_type": "code",
   "execution_count": null,
   "metadata": {},
   "outputs": [],
   "source": [
    "class Solution:\n",
    "    def averageWaitingTime(self, customers):\n",
    "        n = len(customers)\n",
    "        cnt = 0\n",
    "        s_time = 0\n",
    "        for s, t in customers:\n",
    "            if s_time is None:\n",
    "                s_time = s + t\n",
    "                cnt += t\n",
    "            else:\n",
    "                if s_time > s:\n",
    "                    cnt += (s_time - s) + t\n",
    "                    cnt += t\n",
    "                else:\n",
    "                    cnt += t\n",
    "                s_time += t\n",
    "            print(cnt)\n",
    "        return cnt / n"
   ]
  },
  {
   "cell_type": "code",
   "execution_count": 23,
   "metadata": {},
   "outputs": [],
   "source": [
    "class Solution:\n",
    "    def averageWaitingTime(self, customers):\n",
    "        n = len(customers)\n",
    "        cnt = 0\n",
    "        s_time = 0\n",
    "        for s, t in customers:\n",
    "            if s_time > s:\n",
    "                s_time += t\n",
    "            else:\n",
    "                s_time = s + t\n",
    "            cnt += (s_time - s)\n",
    "        return cnt / n"
   ]
  },
  {
   "cell_type": "code",
   "execution_count": 25,
   "metadata": {},
   "outputs": [
    {
     "name": "stdout",
     "output_type": "stream",
     "text": [
      "2 7\n",
      "8 11\n",
      "12 14\n",
      "13 21\n"
     ]
    },
    {
     "data": {
      "text/plain": [
       "3.25"
      ]
     },
     "execution_count": 25,
     "metadata": {},
     "output_type": "execute_result"
    }
   ],
   "source": [
    "solution = Solution()\n",
    "solution.averageWaitingTime(customers = [[5,2],[5,4],[10,3],[20,1]])"
   ]
  },
  {
   "cell_type": "code",
   "execution_count": null,
   "metadata": {},
   "outputs": [],
   "source": []
  }
 ],
 "metadata": {
  "kernelspec": {
   "display_name": "Python 3",
   "language": "python",
   "name": "python3"
  },
  "language_info": {
   "codemirror_mode": {
    "name": "ipython",
    "version": 3
   },
   "file_extension": ".py",
   "mimetype": "text/x-python",
   "name": "python",
   "nbconvert_exporter": "python",
   "pygments_lexer": "ipython3",
   "version": "3.6.2"
  }
 },
 "nbformat": 4,
 "nbformat_minor": 4
}
