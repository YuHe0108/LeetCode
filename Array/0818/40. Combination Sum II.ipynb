{
 "cells": [
  {
   "cell_type": "raw",
   "metadata": {},
   "source": [
    "给定候选数（候选数）和目标数（目标数）的集合，找出候选数和目标数之和的所有唯一组合。\n",
    "候选人中的每个数字在组合中只能使用一次。\n",
    "注意：\n",
    "    1、所有数字（包括目标）都是正整数。\n",
    "    2、解决方案集不能包含重复的组合。\n",
    "\n",
    "\n",
    "Example 1:\n",
    "\n",
    "Input: \n",
    "    candidates = [10,1,2,7,6,1,5], target = 8,\n",
    "    A solution set is:\n",
    "        [\n",
    "          [1, 7],\n",
    "          [1, 2, 5],\n",
    "          [2, 6],\n",
    "          [1, 1, 6]\n",
    "        ]\n",
    "\n",
    "Example 2:\n",
    "\n",
    "    Input: \n",
    "        candidates = [2,5,2,1,2], target = 5,\n",
    "    A solution set is:\n",
    "        [\n",
    "          [1,2,2],\n",
    "          [5]\n",
    "        ]\n"
   ]
  },
  {
   "cell_type": "code",
   "execution_count": 32,
   "metadata": {},
   "outputs": [],
   "source": [
    "class Solution:\n",
    "    def combinationSum2(self, cand, targ):\n",
    "        cand.sort()\n",
    "        result = []\n",
    "        self.backtracking(0, cand, [], targ, result)\n",
    "        return result\n",
    "    \n",
    "    def backtracking(self, start, cand, cur, targ, result):\n",
    "        if sum(cur) > targ:\n",
    "            return\n",
    "        if sum(cur) == targ:\n",
    "            cur.sort()\n",
    "            if cur not in result:\n",
    "                result.append(list(cur))\n",
    "            return\n",
    "\n",
    "        for i in range(start, len(cand)):\n",
    "            cur.append(cand[i])\n",
    "            self.backtracking(i + 1, cand, cur, targ, result)\n",
    "            cur.pop()"
   ]
  },
  {
   "cell_type": "code",
   "execution_count": 33,
   "metadata": {},
   "outputs": [
    {
     "data": {
      "text/plain": [
       "[[1, 2, 2], [5]]"
      ]
     },
     "execution_count": 33,
     "metadata": {},
     "output_type": "execute_result"
    }
   ],
   "source": [
    "candidates_ = [2,5,2,1,2]\n",
    "target_ = 5\n",
    "solution = Solution()\n",
    "solution.combinationSum2(candidates_, target_)"
   ]
  },
  {
   "cell_type": "code",
   "execution_count": 30,
   "metadata": {},
   "outputs": [],
   "source": [
    "\n",
    "class Solution:\n",
    "    def combinationSum2(self, cands, target: int):\n",
    "        res = []\n",
    "        cands.sort()\n",
    "        self.dfs(0, cands, [], res, target)\n",
    "        return res\n",
    "    \n",
    "    def dfs(self, index, cands, item, res, target):\n",
    "        if sum(item) > target:\n",
    "            return \n",
    "        if sum(item) == target:\n",
    "            item.sort()\n",
    "            if item not in res:\n",
    "                res.append(list(item))\n",
    "            return\n",
    "        \n",
    "        for i in range(index, len(cands)):\n",
    "            item.append(cands[i])\n",
    "            self.dfs(i+1, cands, item, res, target)\n",
    "            item.pop()"
   ]
  },
  {
   "cell_type": "code",
   "execution_count": 31,
   "metadata": {},
   "outputs": [
    {
     "data": {
      "text/plain": [
       "[[1, 2, 2], [5]]"
      ]
     },
     "execution_count": 31,
     "metadata": {},
     "output_type": "execute_result"
    }
   ],
   "source": [
    "candidates_ = [2,5,2,1,2]\n",
    "target_ = 5\n",
    "solution = Solution()\n",
    "solution.combinationSum2(candidates_, target_)"
   ]
  },
  {
   "cell_type": "code",
   "execution_count": null,
   "metadata": {},
   "outputs": [],
   "source": []
  }
 ],
 "metadata": {
  "kernelspec": {
   "display_name": "Python 3",
   "language": "python",
   "name": "python3"
  },
  "language_info": {
   "codemirror_mode": {
    "name": "ipython",
    "version": 3
   },
   "file_extension": ".py",
   "mimetype": "text/x-python",
   "name": "python",
   "nbconvert_exporter": "python",
   "pygments_lexer": "ipython3",
   "version": "3.6.2"
  }
 },
 "nbformat": 4,
 "nbformat_minor": 2
}
