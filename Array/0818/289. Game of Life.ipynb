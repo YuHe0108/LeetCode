{
 "cells": [
  {
   "cell_type": "raw",
   "metadata": {},
   "source": [
    "根据维基百科的文章：“生命游戏，也简称为生命，是由英国数学家约翰·霍顿·康威（John Horton Conway）于1970年设计的细胞自动机。”\n",
    "给定一个具有m x n个单元的板，每个单元的初始状态为活动（1）或无效（0）。每个单元使用以下四个规则（取自以上Wikipedia文章）与其八个邻居（水平，垂直，对角线）进行交互：\n",
    "1、少于两个活动邻居的任何活动单元都会死亡，好像是由人口不足造成的。\n",
    "2、任何有两个或三个活邻居的活细胞都可以存活到下一代。\n",
    "3、任何具有三个以上活邻居的活细胞都会死亡，好像是由于人口过剩。\n",
    "4、任何具有三个活邻居的死细胞都将变成活细胞，就像通过繁殖一样。\n",
    "给定当前状态，编写一个函数以计算板的下一个状态（一次更新后）。通过将上述规则同时应用于当前状态下的每个单元来创建下一个状态，在该状态下，生与死同时发生。\n",
    "\n",
    "\n",
    "Example:\n",
    "    Input: \n",
    "    [\n",
    "      [0,1,0],\n",
    "      [0,0,1],\n",
    "      [1,1,1],\n",
    "      [0,0,0]\n",
    "    ]\n",
    "    Output: \n",
    "    [\n",
    "      [0,0,0],\n",
    "      [1,0,1],\n",
    "      [0,1,1],\n",
    "      [0,1,0]\n",
    "    ]\n",
    "Follow up:\n",
    "    1、您能就地解决吗？请记住，该板需要同时更新：您不能先更新某些单元格，然后再使用其更新值来更新其他单元格。\n",
    "    2、在这个问题中，我们使用2D阵列表示电路板。原则上，板子是无限的，当活动区域侵犯阵列的边界时，这将导致问题。\n",
    "    您将如何解决这些问题？"
   ]
  },
  {
   "cell_type": "code",
   "execution_count": 191,
   "metadata": {},
   "outputs": [],
   "source": [
    "class Solution:\n",
    "    def gameOfLife(self, board) -> None:\n",
    "        \"\"\"\n",
    "        Do not return anything, modify board in-place instead.\n",
    "        \"\"\"\n",
    "        rows = len(board)\n",
    "        cols = len(board[0])\n",
    "        \n",
    "        def liveNeighbors(i, j):\n",
    "            # 统计在 row=i, col=j的位置上，有多少个活细胞\n",
    "            return sum(board[x][y] & 1 for x in range(i-1, i+2) for y in range(j-1, j+2)\n",
    "                       if not (x == i and y == j) and x>=0 and y>=0 and x<rows and y<cols)\n",
    "        \n",
    "        for row in range(rows):\n",
    "            for col in range(cols):\n",
    "                lives = liveNeighbors(row, col)\n",
    "                print(lives)\n",
    "                # board[row][col] & 1 按位与，如果是0：0&1 = 0， 1&1 = 1\n",
    "                # 0 \\= 2 后 = 2,1 \\= 2 等于 3\n",
    "                if board[row][col] & 1 and lives == 2 or lives == 3:\n",
    "                    board[row][col] |= 2\n",
    "        print(board)\n",
    "        # 3 >>= 1\n",
    "        for row in range(rows):\n",
    "            for col in range(cols):\n",
    "                board[row][col] >>= 1\n",
    "        return board"
   ]
  },
  {
   "cell_type": "code",
   "execution_count": 192,
   "metadata": {},
   "outputs": [
    {
     "name": "stdout",
     "output_type": "stream",
     "text": [
      "1\n",
      "1\n",
      "2\n",
      "3\n",
      "5\n",
      "3\n",
      "1\n",
      "3\n",
      "2\n",
      "2\n",
      "3\n",
      "2\n",
      "[[0, 1, 0], [2, 0, 3], [1, 3, 3], [0, 2, 0]]\n"
     ]
    },
    {
     "data": {
      "text/plain": [
       "[[0, 0, 0], [1, 0, 1], [0, 1, 1], [0, 1, 0]]"
      ]
     },
     "execution_count": 192,
     "metadata": {},
     "output_type": "execute_result"
    }
   ],
   "source": [
    "board_ = [\n",
    "          [0,1,0],\n",
    "          [0,0,1],\n",
    "          [1,1,1],\n",
    "          [0,0,0]\n",
    "         ]\n",
    "solution = Solution()\n",
    "solution.gameOfLife(board_)"
   ]
  },
  {
   "cell_type": "code",
   "execution_count": 169,
   "metadata": {},
   "outputs": [],
   "source": [
    "a = 1\n",
    "a &= 1"
   ]
  },
  {
   "cell_type": "code",
   "execution_count": 170,
   "metadata": {},
   "outputs": [
    {
     "data": {
      "text/plain": [
       "1"
      ]
     },
     "execution_count": 170,
     "metadata": {},
     "output_type": "execute_result"
    }
   ],
   "source": [
    "a"
   ]
  },
  {
   "cell_type": "code",
   "execution_count": 77,
   "metadata": {},
   "outputs": [],
   "source": [
    "a = 2\n",
    "a >>= 1"
   ]
  },
  {
   "cell_type": "code",
   "execution_count": 78,
   "metadata": {},
   "outputs": [
    {
     "data": {
      "text/plain": [
       "1"
      ]
     },
     "execution_count": 78,
     "metadata": {},
     "output_type": "execute_result"
    }
   ],
   "source": [
    "a"
   ]
  },
  {
   "cell_type": "code",
   "execution_count": 214,
   "metadata": {},
   "outputs": [],
   "source": [
    "class Solution:\n",
    "    def gameOfLife(self, board) -> None:    \n",
    "        rows = len(board)\n",
    "        cols = len(board[0])\n",
    "        \n",
    "        def get_live_neb(x, y):\n",
    "            # 统计在 x,y 这个点上，有多少个活的细胞\n",
    "            sum_live = 0\n",
    "            for i in range(x-1, x+2):\n",
    "                for j in range(y-1, y+2):\n",
    "                    # board中的值，时刻会发生变化，存活下来的1在更新之前为 1，如果可以继续存活 值为3，\n",
    "                    # 所以 board[i][j] == 1 or 3都是表示原始board中 存活的细胞\n",
    "                    if not (i==x and j==y) and i>=0 and j>=0 and i<rows and j<cols and (board[i][j] == 1 or board[i][j] == 3):\n",
    "                        sum_live += 1\n",
    "            return sum_live\n",
    "        \n",
    "        for row in range(rows):\n",
    "            for col in range(cols):\n",
    "                live_nums = get_live_neb(row, col)\n",
    "                # 如果原始细胞存活，那么周围的细胞有两个或者三个或者的细胞就可以继续存活\n",
    "                if board[row][col] == 1 and live_nums == 2 or live_nums == 3:\n",
    "                    board[row][col] |= 2 # 3或者2 经过\\= 后，都是1，0和1经过后为0\n",
    "                elif board[row][col] == 0 and live_nums == 3:\n",
    "                    board[row][col] |= 2\n",
    "       \n",
    "        # 将3和2全部转换为1\n",
    "        for row in range(rows):\n",
    "            for col in range(cols):\n",
    "                board[row][col] >>= 1\n",
    "        return board"
   ]
  },
  {
   "cell_type": "code",
   "execution_count": 215,
   "metadata": {},
   "outputs": [
    {
     "data": {
      "text/plain": [
       "[[0, 0, 0], [1, 0, 1], [0, 1, 1], [0, 1, 0]]"
      ]
     },
     "execution_count": 215,
     "metadata": {},
     "output_type": "execute_result"
    }
   ],
   "source": [
    "board_ = [\n",
    "          [0,1,0],\n",
    "          [0,0,1],\n",
    "          [1,1,1],\n",
    "          [0,0,0]\n",
    "         ]\n",
    "solution = Solution()\n",
    "solution.gameOfLife(board_)"
   ]
  },
  {
   "cell_type": "code",
   "execution_count": null,
   "metadata": {},
   "outputs": [],
   "source": []
  }
 ],
 "metadata": {
  "kernelspec": {
   "display_name": "Python 3",
   "language": "python",
   "name": "python3"
  },
  "language_info": {
   "codemirror_mode": {
    "name": "ipython",
    "version": 3
   },
   "file_extension": ".py",
   "mimetype": "text/x-python",
   "name": "python",
   "nbconvert_exporter": "python",
   "pygments_lexer": "ipython3",
   "version": "3.6.2"
  }
 },
 "nbformat": 4,
 "nbformat_minor": 2
}
