{
 "cells": [
  {
   "cell_type": "raw",
   "metadata": {},
   "source": [
    "给定一个含有n个元素的数组，其中包含从0、1、2，...，n中提取的n个不同的数字，请找到该数组中缺少的一个。\n",
    "\n",
    "Example 1:\n",
    "    Input: [3,0,1]\n",
    "    Output: 2\n",
    "\n",
    "Example 2:\n",
    "    Input: [9,6,4,2,3,5,7,0,1]\n",
    "    Output: 8\n",
    "\n",
    "注意：\n",
    "1、您的算法应该以线性运行时复杂度运行。\n",
    "2、你能只用恒定的额外空间复杂度来实现它吗？"
   ]
  },
  {
   "cell_type": "code",
   "execution_count": 15,
   "metadata": {},
   "outputs": [],
   "source": [
    "class Solution:\n",
    "    def missingNumber(self, nums) -> int:\n",
    "        \n",
    "        index = 0\n",
    "        while index < len(nums):\n",
    "            val = nums[index]\n",
    "            if val != index and val < len(nums):\n",
    "                nums[index], nums[val] = nums[val], nums[index]\n",
    "            else:\n",
    "                index += 1\n",
    "        for i, num in enumerate(nums):\n",
    "            if i != num:\n",
    "                return i"
   ]
  },
  {
   "cell_type": "code",
   "execution_count": 16,
   "metadata": {},
   "outputs": [],
   "source": [
    "nums_ = [0,1,2]\n",
    "solution = Solution()\n",
    "solution.missingNumber(nums_)"
   ]
  },
  {
   "cell_type": "code",
   "execution_count": null,
   "metadata": {},
   "outputs": [],
   "source": []
  }
 ],
 "metadata": {
  "kernelspec": {
   "display_name": "Python 3",
   "language": "python",
   "name": "python3"
  },
  "language_info": {
   "codemirror_mode": {
    "name": "ipython",
    "version": 3
   },
   "file_extension": ".py",
   "mimetype": "text/x-python",
   "name": "python",
   "nbconvert_exporter": "python",
   "pygments_lexer": "ipython3",
   "version": "3.6.2"
  }
 },
 "nbformat": 4,
 "nbformat_minor": 2
}
