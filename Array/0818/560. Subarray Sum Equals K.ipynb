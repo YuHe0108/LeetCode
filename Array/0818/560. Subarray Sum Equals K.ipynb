{
 "cells": [
  {
   "cell_type": "raw",
   "metadata": {},
   "source": [
    "给定一个整数数组和一个整数k，需要求和等于k的连续子数组的总数。\n",
    "\n",
    "Example 1:\n",
    "    Input:\n",
    "        nums = [1,1,1], k = 2\n",
    "    Output: \n",
    "        2\n",
    "\n",
    "约束：\n",
    "1、数组的长度在[1，20000]范围内。\n",
    "2、数组中的数字范围是[-1000，1000]，整数k的范围是[-1e7，1e7]。"
   ]
  },
  {
   "cell_type": "code",
   "execution_count": 96,
   "metadata": {},
   "outputs": [],
   "source": [
    "class Solution:\n",
    "    def subarraySum(self, nums, k: int) -> int:\n",
    "        \n",
    "        self.count = 0\n",
    "        self.helper(0, nums, 0, k)\n",
    "        return self.count\n",
    "        \n",
    "    def helper(self, start, nums, cur, k):\n",
    "        if start == len(nums):\n",
    "            return\n",
    "        if cur == k:\n",
    "            self.count += 1\n",
    "            return\n",
    "\n",
    "        for i in range(start, len(nums)):\n",
    "            \n",
    "            cur += nums[i]\n",
    "            if cur == k:\n",
    "                self.count += 1\n",
    "                cur -= nums[start]\n",
    "                self.helper(start+1, nums, cur, k)\n",
    "            elif cur > k:\n",
    "                cur -= nums[start]"
   ]
  },
  {
   "cell_type": "code",
   "execution_count": 122,
   "metadata": {},
   "outputs": [],
   "source": [
    "class Solution:\n",
    "    def subarraySum(self, nums, k: int) -> int:\n",
    "        hsh = {0: 1}\n",
    "        count = sum_val = 0\n",
    "        \n",
    "        for num in nums:\n",
    "            sum_val += num\n",
    "            \n",
    "            if sum_val - k in hsh: # sum_val - hsh[sum_val - k] = k\n",
    "                count += hsh[sum_val - k]\n",
    "            hsh[sum_val] = hsh.get(sum_val, 0) + 1\n",
    "        print(hsh)\n",
    "        return count"
   ]
  },
  {
   "cell_type": "code",
   "execution_count": 123,
   "metadata": {},
   "outputs": [
    {
     "name": "stdout",
     "output_type": "stream",
     "text": [
      "{0: 11}\n"
     ]
    },
    {
     "data": {
      "text/plain": [
       "55"
      ]
     },
     "execution_count": 123,
     "metadata": {},
     "output_type": "execute_result"
    }
   ],
   "source": [
    "nums_ = [0,0,0,0,0,0,0,0,0,0]\n",
    "k_ = 0\n",
    "solution = Solution()\n",
    "solution.subarraySum(nums_, k_)"
   ]
  },
  {
   "cell_type": "code",
   "execution_count": null,
   "metadata": {},
   "outputs": [],
   "source": []
  }
 ],
 "metadata": {
  "kernelspec": {
   "display_name": "Python 3",
   "language": "python",
   "name": "python3"
  },
  "language_info": {
   "codemirror_mode": {
    "name": "ipython",
    "version": 3
   },
   "file_extension": ".py",
   "mimetype": "text/x-python",
   "name": "python",
   "nbconvert_exporter": "python",
   "pygments_lexer": "ipython3",
   "version": "3.6.2"
  }
 },
 "nbformat": 4,
 "nbformat_minor": 2
}
