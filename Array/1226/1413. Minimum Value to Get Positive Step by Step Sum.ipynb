{
 "cells": [
  {
   "cell_type": "code",
   "execution_count": null,
   "metadata": {},
   "outputs": [],
   "source": [
    "class Solution:\n",
    "    def minStartValue(self, nums: List[int]) -> int:\n",
    "        s_num = [x for x in range(1, 2400)]\n",
    "        for n in s_num:\n",
    "            start = n\n",
    "            for i in nums:\n",
    "                n += i\n",
    "                if n < 1:\n",
    "                    break\n",
    "            else:\n",
    "                return start"
   ]
  },
  {
   "cell_type": "code",
   "execution_count": null,
   "metadata": {},
   "outputs": [],
   "source": [
    "class Solution:\n",
    "    def minStartValue(self, nums: List[int]) -> int:\n",
    "        ans = 0\n",
    "        s = 0\n",
    "        n = len(nums)\n",
    "        for i in range(n):\n",
    "            s += nums[i]\n",
    "            ans = min(ans,s)\n",
    "        if ans == 0:\n",
    "            return 1\n",
    "        else:\n",
    "            return abs(ans) + 1"
   ]
  }
 ],
 "metadata": {
  "kernelspec": {
   "display_name": "Python 3",
   "language": "python",
   "name": "python3"
  },
  "language_info": {
   "codemirror_mode": {
    "name": "ipython",
    "version": 3
   },
   "file_extension": ".py",
   "mimetype": "text/x-python",
   "name": "python",
   "nbconvert_exporter": "python",
   "pygments_lexer": "ipython3",
   "version": "3.6.2"
  }
 },
 "nbformat": 4,
 "nbformat_minor": 4
}
