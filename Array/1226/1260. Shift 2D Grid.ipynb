{
 "cells": [
  {
   "cell_type": "raw",
   "metadata": {},
   "source": [
    "# 1.将多维数组转换为一维数组的方法为：\n",
    "for i in range(n):\n",
    "    for j in range(m):\n",
    "        idx = i*m + j ----> 二维数组转换为一维数组（索引转换）\n",
    "        \n",
    "idx_offset = (i * m + j + k) % (n*m) 二维偏移数组转换为偏移一维数组\n",
    "div, mod = divmod((im + j + k) % (n * m), m) 偏移一维数组转换为二维数组\n"
   ]
  },
  {
   "cell_type": "code",
   "execution_count": null,
   "metadata": {},
   "outputs": [],
   "source": [
    "class Solution:\n",
    "    def shiftGrid(self, grid: List[List[int]], k: int) -> List[List[int]]:\n",
    "        n = len(grid) # 行\n",
    "        m = len(grid[0]) # 列\n",
    "        ans = [[0] * m for i in range(n)]\n",
    "        for i in range(n):\n",
    "            for j in range(m):\n",
    "                div,mod = divmod((i*m + j + k) %(n * m), m) #返回商和余数\n",
    "                ans[div][mod] = grid[i][j]\n",
    "        return ans"
   ]
  },
  {
   "cell_type": "code",
   "execution_count": 24,
   "metadata": {},
   "outputs": [],
   "source": [
    "class Solution:\n",
    "    def shiftGrid(self, grid, k: int):\n",
    "        if k == 0:\n",
    "            return grid\n",
    "        \n",
    "        rows, cols = len(grid), len(grid[0])\n",
    "        res = [[0] * cols for _ in range(rows)]\n",
    "        res[0][0] = grid[-1][-1]\n",
    "        \n",
    "        for i in range(rows):\n",
    "            for j in range(1, cols):\n",
    "                res[i][j] = grid[i][j-1]\n",
    "        \n",
    "        for i in range(1, rows):\n",
    "            res[i][0] = grid[i-1][-1]\n",
    "        return self.shiftGrid(res, (k-1) % (rows * cols))"
   ]
  },
  {
   "cell_type": "code",
   "execution_count": 33,
   "metadata": {},
   "outputs": [
    {
     "data": {
      "text/plain": [
       "[[1, 2, 3], [4, 5, 6], [7, 8, 9]]"
      ]
     },
     "execution_count": 33,
     "metadata": {},
     "output_type": "execute_result"
    }
   ],
   "source": [
    "solution = Solution()\n",
    "solution.shiftGrid(grid = [[1,2,3],\n",
    "                           [4,5,6],\n",
    "                           [7,8,9]], k = 9)"
   ]
  },
  {
   "cell_type": "code",
   "execution_count": 19,
   "metadata": {},
   "outputs": [
    {
     "data": {
      "text/plain": [
       "[[9, 1, 2], [3, 4, 5], [6, 7, 8]]"
      ]
     },
     "execution_count": 19,
     "metadata": {},
     "output_type": "execute_result"
    }
   ],
   "source": [
    "[[9, 1, 2], \n",
    " [3, 4, 5], \n",
    " [6, 7, 8]]"
   ]
  },
  {
   "cell_type": "code",
   "execution_count": null,
   "metadata": {},
   "outputs": [],
   "source": []
  }
 ],
 "metadata": {
  "kernelspec": {
   "display_name": "Python 3",
   "language": "python",
   "name": "python3"
  },
  "language_info": {
   "codemirror_mode": {
    "name": "ipython",
    "version": 3
   },
   "file_extension": ".py",
   "mimetype": "text/x-python",
   "name": "python",
   "nbconvert_exporter": "python",
   "pygments_lexer": "ipython3",
   "version": "3.6.2"
  }
 },
 "nbformat": 4,
 "nbformat_minor": 4
}
