{
 "cells": [
  {
   "cell_type": "code",
   "execution_count": null,
   "metadata": {},
   "outputs": [],
   "source": [
    "class Solution:\n",
    "    def countLargestGroup(self, n: int) -> int:\n",
    "        count = defaultdict(int)\n",
    "        for i in range(1, n+1):\n",
    "            str_i = str(i)\n",
    "            sum_val = 0\n",
    "            for num in str_i:\n",
    "                sum_val += int(num)\n",
    "            count[sum_val] += 1\n",
    "        count = sorted(count.items(), key=lambda x: x[1])\n",
    "        cnt = 1\n",
    "        max_val = count.pop()[1]\n",
    "        while count:\n",
    "            x, y = count.pop()\n",
    "            if y == max_val:\n",
    "                cnt += 1\n",
    "            else:\n",
    "                break\n",
    "        return cnt"
   ]
  }
 ],
 "metadata": {
  "kernelspec": {
   "display_name": "Python 3",
   "language": "python",
   "name": "python3"
  },
  "language_info": {
   "codemirror_mode": {
    "name": "ipython",
    "version": 3
   },
   "file_extension": ".py",
   "mimetype": "text/x-python",
   "name": "python",
   "nbconvert_exporter": "python",
   "pygments_lexer": "ipython3",
   "version": "3.6.2"
  }
 },
 "nbformat": 4,
 "nbformat_minor": 4
}
