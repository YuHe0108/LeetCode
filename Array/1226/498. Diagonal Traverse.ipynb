{
 "cells": [
  {
   "cell_type": "code",
   "execution_count": null,
   "metadata": {},
   "outputs": [],
   "source": []
  },
  {
   "cell_type": "code",
   "execution_count": null,
   "metadata": {},
   "outputs": [],
   "source": []
  },
  {
   "cell_type": "code",
   "execution_count": 46,
   "metadata": {},
   "outputs": [],
   "source": [
    "class Solution:\n",
    "    def findDiagonalOrder(self, matrix):\n",
    "        rows, cols = len(matrix), len(matrix[0])\n",
    "        res = []\n",
    "        cnt = 0 # 查看对角线，偶数对角线需要反转数字\n",
    "        \n",
    "        for i in range(rows):\n",
    "            corner = (i, 0)\n",
    "            x, y = corner\n",
    "            temp = [matrix[x][y]]\n",
    "            while x > 0 and y < cols - 1:\n",
    "                x, y = x - 1, y + 1\n",
    "                print(x, y)\n",
    "                temp.append(matrix[x][y])\n",
    "            if cnt % 2 == 1:\n",
    "                res.extend(temp[::-1])\n",
    "            else:\n",
    "                res.extend(temp)\n",
    "            cnt += 1\n",
    "        \n",
    "        for j in range(1, cols):\n",
    "            corner = (rows-1, j)\n",
    "            x, y = corner\n",
    "            temp = [matrix[x][y]]\n",
    "            while x > 0 and y < cols - 1:\n",
    "                x, y = x - 1, y + 1\n",
    "                temp.append(matrix[x][y])\n",
    "            if cnt % 2 == 1:\n",
    "                res.extend(temp[::-1])\n",
    "            else:\n",
    "                res.extend(temp)\n",
    "            cnt += 1\n",
    "        return res"
   ]
  },
  {
   "cell_type": "code",
   "execution_count": 47,
   "metadata": {},
   "outputs": [
    {
     "name": "stdout",
     "output_type": "stream",
     "text": [
      "0 1\n",
      "1 1\n"
     ]
    },
    {
     "data": {
      "text/plain": [
       "[2, 5, 8, 0, 4, -1]"
      ]
     },
     "execution_count": 47,
     "metadata": {},
     "output_type": "execute_result"
    }
   ],
   "source": [
    "solution = Solution()\n",
    "solution.findDiagonalOrder([[2,5],\n",
    "                            [8,4],\n",
    "                            [0,-1]])"
   ]
  },
  {
   "cell_type": "code",
   "execution_count": null,
   "metadata": {},
   "outputs": [],
   "source": [
    "[[3],[2]]"
   ]
  }
 ],
 "metadata": {
  "kernelspec": {
   "display_name": "Python 3",
   "language": "python",
   "name": "python3"
  },
  "language_info": {
   "codemirror_mode": {
    "name": "ipython",
    "version": 3
   },
   "file_extension": ".py",
   "mimetype": "text/x-python",
   "name": "python",
   "nbconvert_exporter": "python",
   "pygments_lexer": "ipython3",
   "version": "3.6.2"
  }
 },
 "nbformat": 4,
 "nbformat_minor": 4
}
