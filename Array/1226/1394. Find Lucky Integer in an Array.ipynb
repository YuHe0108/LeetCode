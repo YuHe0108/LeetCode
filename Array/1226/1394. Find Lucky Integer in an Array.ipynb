{
 "cells": [
  {
   "cell_type": "code",
   "execution_count": null,
   "metadata": {},
   "outputs": [],
   "source": [
    "class Solution:\n",
    "    def findLucky(self, arr: List[int]) -> int:\n",
    "        count = defaultdict(int)\n",
    "        for n in arr:\n",
    "            count[n] += 1\n",
    "        \n",
    "        res = []\n",
    "        for k, v in count.items():\n",
    "            if k == v:\n",
    "                res.append(k)\n",
    "        \n",
    "        return max(res) if res else -1"
   ]
  }
 ],
 "metadata": {
  "kernelspec": {
   "display_name": "Python 3",
   "language": "python",
   "name": "python3"
  },
  "language_info": {
   "codemirror_mode": {
    "name": "ipython",
    "version": 3
   },
   "file_extension": ".py",
   "mimetype": "text/x-python",
   "name": "python",
   "nbconvert_exporter": "python",
   "pygments_lexer": "ipython3",
   "version": "3.6.2"
  }
 },
 "nbformat": 4,
 "nbformat_minor": 4
}
