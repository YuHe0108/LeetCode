{
 "cells": [
  {
   "cell_type": "code",
   "execution_count": null,
   "metadata": {},
   "outputs": [],
   "source": []
  },
  {
   "cell_type": "code",
   "execution_count": null,
   "metadata": {},
   "outputs": [],
   "source": []
  },
  {
   "cell_type": "code",
   "execution_count": 112,
   "metadata": {},
   "outputs": [],
   "source": [
    "class Solution:\n",
    "    def removeCoveredIntervals(self, intervals):\n",
    "        n = len(intervals)\n",
    "        if n == 1:\n",
    "            return 0\n",
    "        s_inter = sorted(intervals, key=lambda x: x[0])\n",
    "        ranges = [[s_inter[0][0], s_inter[0][1]]]\n",
    "        cnt = 0\n",
    "        for i in range(1, n):\n",
    "            cur_l, cur_r = s_inter[i]\n",
    "            can_join = False\n",
    "            for i, (l, r) in enumerate(ranges):\n",
    "                if l <= cur_l < r and l < cur_r <= r: # 在已经存在的区间内，可以删除\n",
    "                    cnt += 1\n",
    "                    can_join = True\n",
    "                    break\n",
    "                if cur_l <= l and r <= cur_r: # 扩展了当前区间\n",
    "                    cnt += 1\n",
    "                    ranges[i][0], ranges[i][1] = cur_l, cur_r\n",
    "                    can_join = True\n",
    "                    break\n",
    "                if cur_l <= l and r >= cur_r:\n",
    "                    ranges[i][0] = cur_l\n",
    "                    can_join = True\n",
    "                    break\n",
    "                if l <= cur_l < r and r <= cur_r:\n",
    "                    ranges[i][1] = cur_r\n",
    "                    can_join = True\n",
    "                    break\n",
    "            if not can_join:\n",
    "                ranges.append([cur_l, cur_r])\n",
    "        return n - cnt"
   ]
  },
  {
   "cell_type": "code",
   "execution_count": null,
   "metadata": {},
   "outputs": [],
   "source": []
  },
  {
   "cell_type": "code",
   "execution_count": null,
   "metadata": {},
   "outputs": [],
   "source": []
  },
  {
   "cell_type": "code",
   "execution_count": 124,
   "metadata": {},
   "outputs": [],
   "source": [
    "class Solution:\n",
    "    def removeCoveredIntervals(self, intervals):\n",
    "        # 按照首元素排序，末元素越大越靠前\n",
    "        s_inter = sorted(intervals, key=lambda x: (x[0], -x[1]))\n",
    "        count = 0\n",
    "        i = 0\n",
    "        while i < len(intervals):\n",
    "            count += 1\n",
    "            j = i + 1\n",
    "            while (j < len(intervals) and s_inter[j][1] <= s_inter[i][1]):\n",
    "                j += 1\n",
    "            i = j\n",
    "        return count"
   ]
  },
  {
   "cell_type": "code",
   "execution_count": 126,
   "metadata": {},
   "outputs": [
    {
     "data": {
      "text/plain": [
       "1"
      ]
     },
     "execution_count": 126,
     "metadata": {},
     "output_type": "execute_result"
    }
   ],
   "source": [
    "solution = Solution()\n",
    "solution.removeCoveredIntervals([[1,2],[1,4],[3,4]])"
   ]
  },
  {
   "cell_type": "code",
   "execution_count": null,
   "metadata": {},
   "outputs": [],
   "source": []
  }
 ],
 "metadata": {
  "kernelspec": {
   "display_name": "Python 3",
   "language": "python",
   "name": "python3"
  },
  "language_info": {
   "codemirror_mode": {
    "name": "ipython",
    "version": 3
   },
   "file_extension": ".py",
   "mimetype": "text/x-python",
   "name": "python",
   "nbconvert_exporter": "python",
   "pygments_lexer": "ipython3",
   "version": "3.6.2"
  }
 },
 "nbformat": 4,
 "nbformat_minor": 4
}
