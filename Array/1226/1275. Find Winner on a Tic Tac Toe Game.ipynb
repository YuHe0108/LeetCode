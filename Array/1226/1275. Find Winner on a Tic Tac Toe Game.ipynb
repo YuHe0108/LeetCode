{
 "cells": [
  {
   "cell_type": "code",
   "execution_count": null,
   "metadata": {},
   "outputs": [],
   "source": []
  },
  {
   "cell_type": "code",
   "execution_count": null,
   "metadata": {},
   "outputs": [],
   "source": []
  },
  {
   "cell_type": "code",
   "execution_count": 7,
   "metadata": {},
   "outputs": [],
   "source": [
    "class Solution:\n",
    "    def tictactoe(self, moves):\n",
    "        grid = [[''] * 3 for _ in range(3)]\n",
    "        for i, (x, y) in enumerate(moves):\n",
    "            if i % 2 == 0:\n",
    "                grid[x][y] = 'X'\n",
    "            else:\n",
    "                grid[x][y] = 'O'\n",
    "        \n",
    "        # 行、列以及对角线是否有连续三个相同的元素，\n",
    "        for i in range(3):\n",
    "            if ''.join(grid[i]) == 'X' * 3:\n",
    "                return \"A\"\n",
    "            if ''.join(grid[i]) == 'O' * 3:\n",
    "                return \"B\"\n",
    "        \n",
    "        for j in range(3):\n",
    "            vals = ''\n",
    "            for i in range(3):\n",
    "                vals += grid[i][j]\n",
    "            if ''.join(vals) == 'X' * 3:\n",
    "                return \"A\"\n",
    "            if ''.join(vals) == 'O' * 3:\n",
    "                return \"B\"\n",
    "        \n",
    "        p_corner = [grid[0][0], grid[1][1], grid[2][2]]\n",
    "        if ''.join(p_corner) == 'X' * 3:\n",
    "            return \"A\"\n",
    "        if ''.join(p_corner) == 'O' * 3:\n",
    "            return \"B\"\n",
    "        \n",
    "        n_corner = [grid[0][2], grid[1][1], grid[2][0]]\n",
    "        if ''.join(n_corner) == 'X' * 3:\n",
    "            return \"A\"\n",
    "        if ''.join(n_corner) == 'O' * 3:\n",
    "            return \"B\"\n",
    "        \n",
    "        for i in range(3):\n",
    "            for j in range(3):\n",
    "                if grid[i][j] == '':\n",
    "                    return 'Pending'\n",
    "        return 'Draw'"
   ]
  },
  {
   "cell_type": "code",
   "execution_count": 8,
   "metadata": {},
   "outputs": [
    {
     "data": {
      "text/plain": [
       "'A'"
      ]
     },
     "execution_count": 8,
     "metadata": {},
     "output_type": "execute_result"
    }
   ],
   "source": [
    "solution = Solution()\n",
    "solution.tictactoe(moves = [[0,0],[2,0],[1,1],[2,1],[2,2]])"
   ]
  },
  {
   "cell_type": "code",
   "execution_count": null,
   "metadata": {},
   "outputs": [],
   "source": [
    "[['X', '', ''], \n",
    " ['', 'X', ''], \n",
    " ['O', 'O', 'X']]"
   ]
  }
 ],
 "metadata": {
  "kernelspec": {
   "display_name": "Python 3",
   "language": "python",
   "name": "python3"
  },
  "language_info": {
   "codemirror_mode": {
    "name": "ipython",
    "version": 3
   },
   "file_extension": ".py",
   "mimetype": "text/x-python",
   "name": "python",
   "nbconvert_exporter": "python",
   "pygments_lexer": "ipython3",
   "version": "3.6.2"
  }
 },
 "nbformat": 4,
 "nbformat_minor": 4
}
