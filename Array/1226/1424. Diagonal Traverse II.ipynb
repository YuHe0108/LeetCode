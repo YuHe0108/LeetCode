{
 "cells": [
  {
   "cell_type": "code",
   "execution_count": null,
   "metadata": {},
   "outputs": [],
   "source": []
  },
  {
   "cell_type": "code",
   "execution_count": null,
   "metadata": {},
   "outputs": [],
   "source": []
  },
  {
   "cell_type": "code",
   "execution_count": 10,
   "metadata": {},
   "outputs": [],
   "source": [
    "class Solution:\n",
    "    def findDiagonalOrder(self, matrix):\n",
    "        if not matrix or not matrix[0]:\n",
    "            return []\n",
    "        \n",
    "        rows, cols = len(matrix), max([len(x) for x in matrix])\n",
    "        res = []\n",
    "        for i in range(rows):\n",
    "            corner = (i, 0)\n",
    "            x, y = corner\n",
    "            temp = []\n",
    "            try:\n",
    "                temp.append(matrix[x][y])\n",
    "            except:\n",
    "                pass\n",
    "            while x > 0 and y < cols-1:\n",
    "                x, y = x - 1, y + 1\n",
    "                try:\n",
    "                    temp.append(matrix[x][y])\n",
    "                except:\n",
    "                    continue\n",
    "            res.extend(temp)\n",
    "                \n",
    "        for j in range(1, cols):\n",
    "            corner = (rows-1, j)\n",
    "            x, y = corner\n",
    "            temp = []\n",
    "            try:\n",
    "                temp.append(matrix[x][y])\n",
    "            except:\n",
    "                pass\n",
    "            while x > 0 and y < cols-1:\n",
    "                x, y = x - 1, y + 1\n",
    "                try:\n",
    "                    temp.append(matrix[x][y])\n",
    "                except:\n",
    "                    continue\n",
    "            res.extend(temp)\n",
    "        return res"
   ]
  },
  {
   "cell_type": "code",
   "execution_count": 24,
   "metadata": {},
   "outputs": [],
   "source": [
    "# 使用 hash table 的方法\n",
    "# 对角线上的元素有一个特点：x+y 的值都是相同的，因此可以利用这个特性\n",
    "class Solution:\n",
    "    def findDiagonalOrder(self, nums):\n",
    "        if not nums or not nums[0]:\n",
    "            return []\n",
    "        res = []\n",
    "        for i, row in enumerate(nums):\n",
    "            for j, v in enumerate(row):\n",
    "                if i + j >= len(res):\n",
    "                    res.append([])\n",
    "                res[i + j].append(v)\n",
    "        outs = []\n",
    "        for x in res:\n",
    "            outs.extend(x[::-1])\n",
    "        return outs"
   ]
  },
  {
   "cell_type": "code",
   "execution_count": null,
   "metadata": {},
   "outputs": [],
   "source": [
    "class Solution:\n",
    "    def findDiagonalOrder(self, nums: List[List[int]]) -> List[int]:\n",
    "        res = defaultdict(deque)\n",
    "        for i, row in enumerate(nums):\n",
    "            for j, val in enumerate(row):\n",
    "                res[i+j].appendleft(val)\n",
    "        \n",
    "        res = sorted(res.items(), key=lambda x: x[0])\n",
    "        outs = []\n",
    "        for k, v in res:\n",
    "            outs.extend(v)\n",
    "        return outs\n",
    "        \n",
    "        "
   ]
  },
  {
   "cell_type": "code",
   "execution_count": 25,
   "metadata": {},
   "outputs": [
    {
     "data": {
      "text/plain": [
       "[1, 6, 2, 8, 7, 3, 9, 4, 12, 10, 5, 13, 11, 14, 15, 16]"
      ]
     },
     "execution_count": 25,
     "metadata": {},
     "output_type": "execute_result"
    }
   ],
   "source": [
    "solution = Solution()\n",
    "solution.findDiagonalOrder([[1,2,3,4,5],[6,7],[8],[9,10,11],[12,13,14,15,16]])"
   ]
  },
  {
   "cell_type": "code",
   "execution_count": null,
   "metadata": {},
   "outputs": [],
   "source": []
  }
 ],
 "metadata": {
  "kernelspec": {
   "display_name": "Python 3",
   "language": "python",
   "name": "python3"
  },
  "language_info": {
   "codemirror_mode": {
    "name": "ipython",
    "version": 3
   },
   "file_extension": ".py",
   "mimetype": "text/x-python",
   "name": "python",
   "nbconvert_exporter": "python",
   "pygments_lexer": "ipython3",
   "version": "3.6.2"
  }
 },
 "nbformat": 4,
 "nbformat_minor": 4
}
