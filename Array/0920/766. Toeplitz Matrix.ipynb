{
 "cells": [
  {
   "cell_type": "raw",
   "metadata": {},
   "source": [
    "说明：\n",
    "    如果从左上到右下的每个对角线都有相同的元素，那么矩阵就是Toeplitz。\n",
    "    现在给定一个M×N矩阵，当且仅当矩阵为Toeplitz时返回True。\n",
    "\n",
    "Example 1:\n",
    "    Input:\n",
    "        matrix = [\n",
    "          [1,2,3,4],\n",
    "          [5,1,2,3],\n",
    "          [9,5,1,2]\n",
    "        ]\n",
    "Output: True\n",
    "    Explanation:\n",
    "        In the above grid, the diagonals are:\n",
    "        \"[9]\", \"[5, 5]\", \"[1, 1, 1]\", \"[2, 2, 2]\", \"[3, 3]\", \"[4]\".\n",
    "        In each diagonal all elements are the same, so the answer is True.\n",
    "\n",
    "Example 2:\n",
    "    Input:\n",
    "        matrix = [\n",
    "          [1,2],\n",
    "          [2,2]\n",
    "        ]\n",
    "    Output: \n",
    "        False\n",
    "    Explanation:\n",
    "        The diagonal \"[1, 2]\" has different elements.\n",
    "\n",
    "Note:\n",
    "    1、matrix will be a 2D array of integers.\n",
    "    2、matrix will have a number of rows and columns in range [1, 20].\n",
    "    3、matrix[i][j] will be integers in range [0, 99].\n"
   ]
  },
  {
   "cell_type": "code",
   "execution_count": 45,
   "metadata": {},
   "outputs": [],
   "source": [
    "class Solution:\n",
    "    def isToeplitzMatrix(self, matrix) -> bool:\n",
    "        rows, cols = len(matrix), len(matrix[0])\n",
    "        if rows == 1: return True\n",
    "        \n",
    "        seen = set()\n",
    "        for r in range(rows):\n",
    "            for c in range(cols):\n",
    "                val = matrix[r][c]\n",
    "                if (r, c) in seen:\n",
    "                    continue\n",
    "                seen.add((r, c))\n",
    "                \n",
    "                for i in range(r+1, rows):\n",
    "                    if c + 1 < cols:\n",
    "                        c += 1\n",
    "                        seen.add((i, c))\n",
    "                        if matrix[i][c] != val:\n",
    "                            return False\n",
    "        return True"
   ]
  },
  {
   "cell_type": "code",
   "execution_count": 46,
   "metadata": {},
   "outputs": [
    {
     "name": "stdout",
     "output_type": "stream",
     "text": [
      "12\n"
     ]
    },
    {
     "data": {
      "text/plain": [
       "True"
      ]
     },
     "execution_count": 46,
     "metadata": {},
     "output_type": "execute_result"
    }
   ],
   "source": [
    "mat_ = [\n",
    "          [1,2,3,4],\n",
    "          [5,1,2,3],\n",
    "          [9,5,1,2]\n",
    "        ]\n",
    "solution = Solution()\n",
    "solution.isToeplitzMatrix(mat_)"
   ]
  },
  {
   "cell_type": "code",
   "execution_count": null,
   "metadata": {},
   "outputs": [],
   "source": [
    "class Solution:\n",
    "    def isToeplitzMatrix(self, matrix: List[List[int]]) -> bool:\n",
    "        n = len(matrix)\n",
    "        if n <= 1:\n",
    "            return True\n",
    "        \n",
    "        m = len(matrix[0])\n",
    "        \n",
    "        for i in range(m):\n",
    "            c = i\n",
    "            r = 0\n",
    "            v = matrix[r][c]\n",
    "            while c<m and r<n:                \n",
    "                if matrix[r][c] != v:\n",
    "                    return False\n",
    "                r += 1\n",
    "                c += 1\n",
    "        \n",
    "        for i in range(1,n):\n",
    "            c = 0\n",
    "            r = i\n",
    "            v = matrix[r][c]\n",
    "            while c<m and r<n:                \n",
    "                if matrix[r][c] != v:\n",
    "                    return False\n",
    "                r += 1\n",
    "                c += 1\n",
    "        \n",
    "        return True"
   ]
  }
 ],
 "metadata": {
  "kernelspec": {
   "display_name": "Python 3",
   "language": "python",
   "name": "python3"
  },
  "language_info": {
   "codemirror_mode": {
    "name": "ipython",
    "version": 3
   },
   "file_extension": ".py",
   "mimetype": "text/x-python",
   "name": "python",
   "nbconvert_exporter": "python",
   "pygments_lexer": "ipython3",
   "version": "3.6.2"
  }
 },
 "nbformat": 4,
 "nbformat_minor": 4
}
