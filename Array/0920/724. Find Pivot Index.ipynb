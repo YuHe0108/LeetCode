{
 "cells": [
  {
   "cell_type": "raw",
   "metadata": {},
   "source": [
    "说明：\n",
    "    给定一个整数nums数组，编写一个返回该数组“ pivot”索引的方法。\n",
    "    我们将pivot index定义为索引，其中索引左侧的所有数字的总和等于索引右侧的所有数字的总和。\n",
    "    如果没有这样的索引，我们应该返回-1。如果有多个pivot index引，\n",
    "    则应返回最左侧的枢轴索引。\n",
    "\n",
    "Example 1:\n",
    "    Input: nums = [1,7,3,6,5,6]\n",
    "    Output: 3\n",
    "    Explanation:\n",
    "        The sum of the numbers to the left of index 3 (nums[3] = 6) is equal to the sum of numbers to the right of index 3.\n",
    "        Also, 3 is the first index where this occurs.\n",
    "\n",
    "Example 2:\n",
    "    Input: nums = [1,2,3]\n",
    "    Output: -1\n",
    "    Explanation:\n",
    "        There is no index that satisfies the conditions in the problem statement.\n",
    "\n",
    "Constraints:\n",
    "    1、The length of nums will be in the range [0, 10000].\n",
    "    2、Each element nums[i] will be an integer in the range [-1000, 1000]."
   ]
  },
  {
   "cell_type": "code",
   "execution_count": 32,
   "metadata": {},
   "outputs": [],
   "source": [
    "class Solution:\n",
    "    def pivotIndex(self, nums) -> int:\n",
    "        if not nums or len(nums) == 2: return -1\n",
    "        left, sum_left, sum_nums = 0, 0, sum(nums)\n",
    "        while left < len(nums):\n",
    "            if sum_left == sum_nums - sum_left - nums[left]:\n",
    "                return left\n",
    "            sum_left += nums[left]\n",
    "            left += 1\n",
    "        return -1"
   ]
  },
  {
   "cell_type": "code",
   "execution_count": 33,
   "metadata": {},
   "outputs": [
    {
     "data": {
      "text/plain": [
       "3"
      ]
     },
     "execution_count": 33,
     "metadata": {},
     "output_type": "execute_result"
    }
   ],
   "source": [
    "nums_ = [1,7,3,6,5,6]\n",
    "solution = Solution()\n",
    "solution.pivotIndex(nums_)"
   ]
  },
  {
   "cell_type": "code",
   "execution_count": null,
   "metadata": {},
   "outputs": [],
   "source": []
  },
  {
   "cell_type": "code",
   "execution_count": null,
   "metadata": {},
   "outputs": [],
   "source": []
  }
 ],
 "metadata": {
  "kernelspec": {
   "display_name": "Python 3",
   "language": "python",
   "name": "python3"
  },
  "language_info": {
   "codemirror_mode": {
    "name": "ipython",
    "version": 3
   },
   "file_extension": ".py",
   "mimetype": "text/x-python",
   "name": "python",
   "nbconvert_exporter": "python",
   "pygments_lexer": "ipython3",
   "version": "3.6.2"
  }
 },
 "nbformat": 4,
 "nbformat_minor": 4
}
