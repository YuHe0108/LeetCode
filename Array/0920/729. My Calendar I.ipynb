{
 "cells": [
  {
   "cell_type": "raw",
   "metadata": {},
   "source": [
    "说明：\n",
    "    实现MyCalendar类以存储事件。如果添加事件不会导致重复预订，则可以添加新事件。\n",
    "    您的class将具有book（int start，int end）方法。\n",
    "    形式上，这表示半开区间[开始，结束）上的预定，即实数x的范围，使得开始<= x <结束。\n",
    "    当两个事件具有一些非空交集时（即，两个事件有一些共同的时间），就会发生双重预订。\n",
    "    对于每次调用方法MyCalendar.book的事件，如果可以将事件添加到日历，则返回true成功进行，而不会导致重复预订。\n",
    "    否则，返回false，不要将事件添加到日历中。\n",
    "    您的班级将被这样调用：MyCalendar cal = new MyCalendar（）; \n",
    "    MyCalendar.book（开始，结束）\n",
    "\n",
    "Example 1:\n",
    "    MyCalendar();\n",
    "    MyCalendar.book(10, 20); // returns true\n",
    "    MyCalendar.book(15, 25); // returns false\n",
    "    MyCalendar.book(20, 30); // returns true\n",
    "    Explanation: \n",
    "        The first event can be booked.  The second can't because time 15 is already booked by another event.\n",
    "        The third event can be booked, as the first event takes every time less than 20, but not including 20.\n",
    "\n",
    "Note:\n",
    "    1、The number of calls to MyCalendar.book per test case will be at most 1000.\n",
    "    2、In calls to MyCalendar.book(start, end), start and end are integers in the range [0, 10^9]."
   ]
  },
  {
   "cell_type": "code",
   "execution_count": 51,
   "metadata": {},
   "outputs": [],
   "source": [
    "class MyCalendar:\n",
    "\n",
    "    def __init__(self):\n",
    "        self.intvs = []\n",
    "\n",
    "    def book(self, start: int, end: int) -> bool:\n",
    "        idx = self.lower_bsearch(self.intvs, start)\n",
    "        a = idx > 0 and self.intvs[idx-1][1] > start \n",
    "        b = idx < len(self.intvs) and self.intvs[idx][0] < end \n",
    "        if a or b:\n",
    "            return False\n",
    "        self.intvs.insert(idx, [start, end])\n",
    "        return True\n",
    "    \n",
    "    def lower_bsearch(self, nums, target):\n",
    "        left = 0\n",
    "        right = len(nums)\n",
    "        while left < right:\n",
    "            mid = (left + right) // 2\n",
    "            if target <= nums[mid][0]:\n",
    "                right = mid\n",
    "            else:\n",
    "                left = mid + 1\n",
    "        return left\n",
    "            \n",
    "# Your MyCalendar object will be instantiated and called as such:\n",
    "# obj = MyCalendar()\n",
    "# param_1 = obj.book(start,end)"
   ]
  },
  {
   "cell_type": "code",
   "execution_count": 52,
   "metadata": {},
   "outputs": [
    {
     "name": "stdout",
     "output_type": "stream",
     "text": [
      "0 []\n",
      "True\n",
      "1 [[1, 3]]\n",
      "True\n",
      "2 [[1, 3], [5, 8]]\n",
      "True\n",
      "3 [[1, 3], [5, 8], [10, 12]]\n",
      "False\n"
     ]
    }
   ],
   "source": [
    "obj = MyCalendar()\n",
    "print(obj.book(1, 3))\n",
    "print(obj.book(5, 8))\n",
    "print(obj.book(10, 12))\n",
    "print(obj.book(11, 15))"
   ]
  },
  {
   "cell_type": "code",
   "execution_count": null,
   "metadata": {},
   "outputs": [],
   "source": []
  },
  {
   "cell_type": "code",
   "execution_count": 46,
   "metadata": {},
   "outputs": [
    {
     "ename": "SyntaxError",
     "evalue": "invalid syntax (<ipython-input-46-b610f7202f26>, line 8)",
     "output_type": "error",
     "traceback": [
      "\u001b[1;36m  File \u001b[1;32m\"<ipython-input-46-b610f7202f26>\"\u001b[1;36m, line \u001b[1;32m8\u001b[0m\n\u001b[1;33m    a = if idx > 0 and self.ranges[idx-1][1] > start\u001b[0m\n\u001b[1;37m         ^\u001b[0m\n\u001b[1;31mSyntaxError\u001b[0m\u001b[1;31m:\u001b[0m invalid syntax\n"
     ]
    }
   ],
   "source": [
    "class MyCalendar:\n",
    "\n",
    "    def __init__(self):\n",
    "        self.ranges = []\n",
    "    \n",
    "    def book(self, start: int, end: int) -> bool:\n",
    "        idx = self.binary_search(self.ranges, start)        \n",
    "        a = if idx > 0 and self.ranges[idx-1][1] > start\n",
    "        b = if idx < len(ranges) and self.ranges[idx][0] < end\n",
    "        if a or b:\n",
    "            return False\n",
    "        self.insert(idx, (start, end))\n",
    "        return True\n",
    "    \n",
    "    def binary_search(self, ranges, target):\n",
    "        left, right = 0, len(ranges)\n",
    "        while left < right:\n",
    "            mid = (left + right) // 2\n",
    "            if target <= nums[mid][0]:\n",
    "                right = mid\n",
    "            else:\n",
    "                left = mid + 1\n",
    "        return left\n",
    "\n",
    "\n",
    "# Your MyCalendar object will be instantiated and called as such:\n",
    "# obj = MyCalendar()\n",
    "# param_1 = obj.book(start,end)"
   ]
  },
  {
   "cell_type": "code",
   "execution_count": 47,
   "metadata": {},
   "outputs": [
    {
     "name": "stdout",
     "output_type": "stream",
     "text": [
      "0 10 20\n",
      "True\n",
      "1 15 25\n",
      "False\n",
      "1 20 30\n",
      "True\n"
     ]
    }
   ],
   "source": [
    "obj = MyCalendar()\n",
    "print(obj.book(10, 20))\n",
    "print(obj.book(15, 25))\n",
    "print(obj.book(20, 30))"
   ]
  },
  {
   "cell_type": "code",
   "execution_count": null,
   "metadata": {},
   "outputs": [],
   "source": []
  }
 ],
 "metadata": {
  "kernelspec": {
   "display_name": "Python 3",
   "language": "python",
   "name": "python3"
  },
  "language_info": {
   "codemirror_mode": {
    "name": "ipython",
    "version": 3
   },
   "file_extension": ".py",
   "mimetype": "text/x-python",
   "name": "python",
   "nbconvert_exporter": "python",
   "pygments_lexer": "ipython3",
   "version": "3.6.2"
  }
 },
 "nbformat": 4,
 "nbformat_minor": 4
}
