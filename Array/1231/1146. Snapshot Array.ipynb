{
 "cells": [
  {
   "cell_type": "code",
   "execution_count": null,
   "metadata": {},
   "outputs": [],
   "source": []
  },
  {
   "cell_type": "code",
   "execution_count": null,
   "metadata": {},
   "outputs": [],
   "source": []
  },
  {
   "cell_type": "code",
   "execution_count": 1,
   "metadata": {},
   "outputs": [],
   "source": [
    "class SnapshotArray:\n",
    "\n",
    "    def __init__(self, length: int):\n",
    "        self.snap_time = 0\n",
    "        self.chage_values = {} # 记录被改变的数据\n",
    "        self.record = []\n",
    "\n",
    "    def set(self, index: int, val: int) -> None:\n",
    "        self.chage_values[index] = val\n",
    "\n",
    "    def snap(self) -> int:\n",
    "        self.record.append(self.chage_values.copy())\n",
    "        self.snap_time += 1\n",
    "        return self.snap_time - 1\n",
    "\n",
    "    def get(self, index: int, snap_id: int) -> int:\n",
    "        change_values = self.record[snap_id]\n",
    "        if index in change_values:\n",
    "            return change_values[index]\n",
    "        return 0\n",
    "            \n",
    "        \n",
    "\n",
    "\n",
    "# Your SnapshotArray object will be instantiated and called as such:\n",
    "# obj = SnapshotArray(length)\n",
    "# obj.set(index,val)\n",
    "# param_2 = obj.snap()\n",
    "# param_3 = obj.get(index,snap_id)"
   ]
  },
  {
   "cell_type": "code",
   "execution_count": null,
   "metadata": {},
   "outputs": [],
   "source": []
  },
  {
   "cell_type": "code",
   "execution_count": null,
   "metadata": {},
   "outputs": [],
   "source": []
  },
  {
   "cell_type": "code",
   "execution_count": 5,
   "metadata": {},
   "outputs": [],
   "source": [
    "class SnapshotArray:\n",
    "\n",
    "    def __init__(self, length: int):\n",
    "        self.arrr = [dict() for i in range(length)]\n",
    "        self.snap_count = 0\n",
    "        \n",
    "    def set(self, index: int, val: int) -> None:\n",
    "        self.arrr[index][self.snap_count] = val\n",
    "\n",
    "    def snap(self) -> int:\n",
    "        self.snap_count += 1\n",
    "        return self.snap_count - 1\n",
    "        \n",
    "\n",
    "    def get(self, index: int, snap_id: int) -> int:\n",
    "        while snap_id >= 0 and snap_id not in self.arrr[index]:\n",
    "            snap_id -= 1\n",
    "        if snap_id > -1:    \n",
    "            return self.arrr[index][snap_id]\n",
    "        return 0"
   ]
  },
  {
   "cell_type": "code",
   "execution_count": 6,
   "metadata": {},
   "outputs": [
    {
     "name": "stdout",
     "output_type": "stream",
     "text": [
      "[{}, {}, {}, {}, {}, {}, {}, {}, {}, {}]\n"
     ]
    }
   ],
   "source": [
    "# # Your SnapshotArray object will be instantiated and called as such:\n",
    "obj = SnapshotArray(10)\n",
    "# obj.set(index,val)\n",
    "# param_2 = obj.snap()\n",
    "# param_3 = obj.get(index,snap_id)"
   ]
  },
  {
   "cell_type": "code",
   "execution_count": null,
   "metadata": {},
   "outputs": [],
   "source": []
  }
 ],
 "metadata": {
  "kernelspec": {
   "display_name": "Python 3",
   "language": "python",
   "name": "python3"
  },
  "language_info": {
   "codemirror_mode": {
    "name": "ipython",
    "version": 3
   },
   "file_extension": ".py",
   "mimetype": "text/x-python",
   "name": "python",
   "nbconvert_exporter": "python",
   "pygments_lexer": "ipython3",
   "version": "3.6.2"
  }
 },
 "nbformat": 4,
 "nbformat_minor": 4
}
