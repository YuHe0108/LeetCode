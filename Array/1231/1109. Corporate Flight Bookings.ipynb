{
 "cells": [
  {
   "cell_type": "code",
   "execution_count": null,
   "metadata": {},
   "outputs": [],
   "source": []
  },
  {
   "cell_type": "markdown",
   "metadata": {},
   "source": [
    "## 利用查分数组的思想"
   ]
  },
  {
   "cell_type": "raw",
   "metadata": {},
   "source": [
    "1、只要在区间的开头和末尾加上 num 即可。\n",
    "2、在末尾 + 1 的位置需要减去 num 的数量。"
   ]
  },
  {
   "cell_type": "code",
   "execution_count": 67,
   "metadata": {},
   "outputs": [],
   "source": [
    "class Solution:\n",
    "    def corpFlightBookings(self, bookings, n):\n",
    "        diff = [0] * n # 差分数组\n",
    "        for s, e, num in bookings:\n",
    "            diff[s-1] += num\n",
    "            if e < n:\n",
    "                diff[e] -= num\n",
    "                \n",
    "        res = [0] * n\n",
    "        cur = 0\n",
    "        for i in range(n):\n",
    "            cur += diff[i]\n",
    "            res[i] = cur\n",
    "        return res"
   ]
  },
  {
   "cell_type": "code",
   "execution_count": 66,
   "metadata": {},
   "outputs": [
    {
     "data": {
      "text/plain": [
       "[35, 35, 25]"
      ]
     },
     "execution_count": 66,
     "metadata": {},
     "output_type": "execute_result"
    }
   ],
   "source": [
    "solution = Solution()\n",
    "solution.corpFlightBookings([[3,3,5],[1,3,20],[1,2,15]], 3)"
   ]
  },
  {
   "cell_type": "code",
   "execution_count": null,
   "metadata": {},
   "outputs": [],
   "source": []
  },
  {
   "cell_type": "code",
   "execution_count": null,
   "metadata": {},
   "outputs": [],
   "source": []
  },
  {
   "cell_type": "code",
   "execution_count": null,
   "metadata": {},
   "outputs": [],
   "source": []
  },
  {
   "cell_type": "code",
   "execution_count": null,
   "metadata": {},
   "outputs": [],
   "source": []
  },
  {
   "cell_type": "code",
   "execution_count": null,
   "metadata": {},
   "outputs": [],
   "source": [
    "class Solution:\n",
    "    def corpFlightBookings(self, bookings, n):\n",
    "        diff = [0] * (n + 2)\n",
    "        for item in bookings:\n",
    "            diff[item[0]] += item[2]\n",
    "            diff[item[1] + 1] -= item[2]\n",
    "        print(diff)\n",
    "        \n",
    "        res = [0] * n\n",
    "        cur = 0\n",
    "        for i in range(1, n+1):\n",
    "            cur += diff[i]\n",
    "            res[i-1] = cur\n",
    "        return res"
   ]
  },
  {
   "cell_type": "code",
   "execution_count": null,
   "metadata": {},
   "outputs": [],
   "source": [
    "from collections import defaultdict, Counter\n",
    "\n",
    "class Solution:\n",
    "    def corpFlightBookings(self, bookings, n):\n",
    "        books = [tuple(x) for x in bookings]\n",
    "        freq = Counter(books)\n",
    "        count = defaultdict(int)\n",
    "        for s, e, num in set(books):\n",
    "            for i in range(s, e+1):\n",
    "                count[i] += num * freq[(s, e, num)]\n",
    "        res = [0] * n\n",
    "        for i in range(1, n+1):\n",
    "            if i in count:\n",
    "                res[i-1] = count[i]\n",
    "        return res"
   ]
  },
  {
   "cell_type": "code",
   "execution_count": 33,
   "metadata": {},
   "outputs": [],
   "source": [
    "res = [1, 2, 3]"
   ]
  },
  {
   "cell_type": "code",
   "execution_count": 39,
   "metadata": {},
   "outputs": [
    {
     "data": {
      "text/plain": [
       "array([3, 3, 3])"
      ]
     },
     "execution_count": 39,
     "metadata": {},
     "output_type": "execute_result"
    }
   ],
   "source": [
    "import numpy\n",
    "a = [1, 1, 1 ,1, 1]\n",
    "ar = numpy.array(a[:3])\n",
    "ar + 2"
   ]
  },
  {
   "cell_type": "code",
   "execution_count": null,
   "metadata": {},
   "outputs": [],
   "source": []
  }
 ],
 "metadata": {
  "kernelspec": {
   "display_name": "Python 3",
   "language": "python",
   "name": "python3"
  },
  "language_info": {
   "codemirror_mode": {
    "name": "ipython",
    "version": 3
   },
   "file_extension": ".py",
   "mimetype": "text/x-python",
   "name": "python",
   "nbconvert_exporter": "python",
   "pygments_lexer": "ipython3",
   "version": "3.6.2"
  }
 },
 "nbformat": 4,
 "nbformat_minor": 4
}
