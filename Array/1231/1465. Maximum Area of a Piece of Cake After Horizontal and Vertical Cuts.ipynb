{
 "cells": [
  {
   "cell_type": "code",
   "execution_count": null,
   "metadata": {},
   "outputs": [],
   "source": []
  },
  {
   "cell_type": "code",
   "execution_count": null,
   "metadata": {},
   "outputs": [],
   "source": []
  },
  {
   "cell_type": "code",
   "execution_count": null,
   "metadata": {},
   "outputs": [],
   "source": []
  },
  {
   "cell_type": "code",
   "execution_count": 27,
   "metadata": {},
   "outputs": [],
   "source": [
    "from typing import List\n",
    "\n",
    "class Solution:\n",
    "    def maxArea(self, h: int, w: int, horizontalCuts: List[int], verticalCuts: List[int]) -> int:\n",
    "        horizontalCuts.sort()\n",
    "        verticalCuts.sort()\n",
    "        \n",
    "        # 距离边界距离\n",
    "        up, down = horizontalCuts[0], h-horizontalCuts[-1]\n",
    "        left, right = verticalCuts[0], w-verticalCuts[-1]\n",
    "        max_area = max(up, down) * max(left, right)\n",
    "        \n",
    "        max_h_range = -float('inf')\n",
    "        for i in range(1, len(horizontalCuts)):\n",
    "            max_h_range = max(max_h_range, horizontalCuts[i] - horizontalCuts[i-1])\n",
    "        \n",
    "        max_w_range = 0\n",
    "        for i in range(1, len(verticalCuts)):\n",
    "            max_w_range = max(max_w_range, verticalCuts[i] - verticalCuts[i-1])\n",
    "        \n",
    "        max_area = max(max_area, max_w_range * max_h_range, \n",
    "                       max_w_range * max(up, down), \n",
    "                       max_h_range * max(left, right))\n",
    "        return max_area % (pow(10, 9) + 7)"
   ]
  },
  {
   "cell_type": "code",
   "execution_count": 28,
   "metadata": {},
   "outputs": [
    {
     "data": {
      "text/plain": [
       "9"
      ]
     },
     "execution_count": 28,
     "metadata": {},
     "output_type": "execute_result"
    }
   ],
   "source": [
    "solution = Solution()\n",
    "solution.maxArea(5, 4, [3], [3])"
   ]
  },
  {
   "cell_type": "code",
   "execution_count": null,
   "metadata": {},
   "outputs": [],
   "source": []
  }
 ],
 "metadata": {
  "kernelspec": {
   "display_name": "Python 3",
   "language": "python",
   "name": "python3"
  },
  "language_info": {
   "codemirror_mode": {
    "name": "ipython",
    "version": 3
   },
   "file_extension": ".py",
   "mimetype": "text/x-python",
   "name": "python",
   "nbconvert_exporter": "python",
   "pygments_lexer": "ipython3",
   "version": "3.6.2"
  }
 },
 "nbformat": 4,
 "nbformat_minor": 4
}
