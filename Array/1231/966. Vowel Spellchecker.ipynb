{
 "cells": [
  {
   "cell_type": "code",
   "execution_count": null,
   "metadata": {},
   "outputs": [],
   "source": []
  },
  {
   "cell_type": "code",
   "execution_count": 109,
   "metadata": {},
   "outputs": [],
   "source": [
    "from typing import List\n",
    "\n",
    "class Solution:\n",
    "    def spellchecker(self, wordlist: List[str], queries: List[str]) -> List[str]:\n",
    "        set_words = set(wordlist)\n",
    "        low_words = {}\n",
    "        vowel_patt = {}\n",
    "        for word in wordlist:\n",
    "            lower_w = word.lower()\n",
    "            if lower_w not in low_words: # 匹配小写的 word\n",
    "                low_words[lower_w] = word\n",
    "            # 将元音替换为通配符\n",
    "            pattern = ''.join(['*' if x in 'aeiou' else x for x in lower_w])\n",
    "            if pattern not in vowel_patt:\n",
    "                vowel_patt[pattern] = word\n",
    "                \n",
    "        ans = [''] * len(queries)\n",
    "        for i, word in enumerate(queries):\n",
    "            if word in set_words:\n",
    "                ans[i] = word\n",
    "            elif word in low_words:\n",
    "                ans[i] = low_words[word]\n",
    "            else:\n",
    "                low_word = word.lower()\n",
    "                pattern = ''.join(['*' if x in 'aeiou' else x for x in low_word])\n",
    "                if pattern in vowel_patt:\n",
    "                    ans[i] = vowel_patt[pattern]\n",
    "        return ans"
   ]
  },
  {
   "cell_type": "code",
   "execution_count": 110,
   "metadata": {},
   "outputs": [
    {
     "data": {
      "text/plain": [
       "['kite', 'KiTe', 'KiTe', 'Hare', 'hare', '', '', 'KiTe', '', 'KiTe']"
      ]
     },
     "execution_count": 110,
     "metadata": {},
     "output_type": "execute_result"
    }
   ],
   "source": [
    "solution = Solution()\n",
    "solution.spellchecker(wordlist = [\"KiTe\",\"kite\",\"hare\",\"Hare\"], \n",
    "                      queries = [\"kite\",\"Kite\",\"KiTe\",\"Hare\",\"HARE\",\"Hear\",\"hear\",\"keti\",\"keet\",\"keto\"])"
   ]
  },
  {
   "cell_type": "code",
   "execution_count": null,
   "metadata": {},
   "outputs": [],
   "source": []
  },
  {
   "cell_type": "code",
   "execution_count": null,
   "metadata": {},
   "outputs": [],
   "source": []
  },
  {
   "cell_type": "code",
   "execution_count": null,
   "metadata": {},
   "outputs": [],
   "source": []
  },
  {
   "cell_type": "code",
   "execution_count": null,
   "metadata": {},
   "outputs": [],
   "source": []
  },
  {
   "cell_type": "code",
   "execution_count": null,
   "metadata": {},
   "outputs": [],
   "source": []
  },
  {
   "cell_type": "code",
   "execution_count": null,
   "metadata": {},
   "outputs": [],
   "source": []
  },
  {
   "cell_type": "code",
   "execution_count": 90,
   "metadata": {},
   "outputs": [],
   "source": [
    "from typing import List\n",
    "\n",
    "class Solution:\n",
    "    def spellchecker(self, wordlist: List[str], queries: List[str]) -> List[str]:\n",
    "        letters = {'a', 'e', 'i', 'o', 'u'}\n",
    "        set_words = set(wordlist)\n",
    "        n_w, n_q = len(wordlist), len(queries)\n",
    "        ans = [''] * n_q\n",
    "        record = {}\n",
    "        for i, q in enumerate(queries):\n",
    "            if q in record:\n",
    "                ans[i] = record[q]\n",
    "                continue\n",
    "            # 1、正好能够完全匹配\n",
    "            if q in set_words: \n",
    "                ans[i] = q\n",
    "                continue\n",
    "            # 2、当查询匹配到大小写问题的单词时，您应该返回单词列表中的第一个这样的匹配项。\n",
    "            for w in wordlist:\n",
    "                if w.lower() == q.lower():\n",
    "                    ans[i] = w\n",
    "                    break\n",
    "                    \n",
    "            # 3、当查询匹配到元音错误的单词时，您应该返回单词列表中的第一个这样的匹配项。\n",
    "            if ans[i] == '':\n",
    "                # 对查询的 q，遍历 q， 如果是元音，分别替换大小写，选择 wordlist中，索引位置较小的那个\n",
    "                set_q = set(q.lower())\n",
    "                for w in wordlist:\n",
    "                    if len(w) != len(q):\n",
    "                        continue\n",
    "                    set_w = set(w.lower())\n",
    "                    q_w = set_q.difference(set_w)\n",
    "                    w_q = set_w.difference(set_q)\n",
    "                    if all(x in letters for x in q_w) and all(x in letters for x in w_q):\n",
    "                        ans[i] = w\n",
    "                        break\n",
    "            record[q] = ans[i]\n",
    "        return ans"
   ]
  },
  {
   "cell_type": "code",
   "execution_count": null,
   "metadata": {},
   "outputs": [],
   "source": []
  },
  {
   "cell_type": "code",
   "execution_count": 95,
   "metadata": {},
   "outputs": [],
   "source": [
    "from typing import List\n",
    "import re\n",
    "\n",
    "class Solution:\n",
    "    def spellchecker(self, wordlist: List[str], queries: List[str]) -> List[str]:\n",
    "        ans = ['' for q in queries]\n",
    "        lower_wordlist = [w.lower() for w in wordlist]\n",
    "        vowel_wordlist = [re.sub(r'[a|e|i|o|u]', 'a', w) for w in lower_wordlist]\n",
    "        for i, q in enumerate(queries):\n",
    "            lower_q = q.lower()\n",
    "            vowel_q = re.sub(r'[a|e|i|o|u]', 'a', lower_q)\n",
    "            if q in wordlist:\n",
    "                ans[i] = q\n",
    "            elif lower_q in lower_wordlist:\n",
    "                ans[i] = wordlist[lower_wordlist.index(lower_q)]\n",
    "            elif vowel_q in vowel_wordlist:\n",
    "                ans[i] = wordlist[vowel_wordlist.index(vowel_q)]\n",
    "\n",
    "        return ans"
   ]
  },
  {
   "cell_type": "code",
   "execution_count": null,
   "metadata": {},
   "outputs": [],
   "source": []
  },
  {
   "cell_type": "code",
   "execution_count": 97,
   "metadata": {},
   "outputs": [],
   "source": []
  },
  {
   "cell_type": "code",
   "execution_count": 98,
   "metadata": {},
   "outputs": [
    {
     "name": "stdout",
     "output_type": "stream",
     "text": [
      "k*t*\n",
      "k*t*\n",
      "h*r*\n",
      "h*r*\n"
     ]
    },
    {
     "data": {
      "text/plain": [
       "['kite', 'KiTe', 'KiTe', 'Hare', 'hare', '', '', 'KiTe', '', 'KiTe']"
      ]
     },
     "execution_count": 98,
     "metadata": {},
     "output_type": "execute_result"
    }
   ],
   "source": [
    "solution = Solution()\n",
    "solution.spellchecker(wordlist = [\"KiTe\",\"kite\",\"hare\",\"Hare\"], \n",
    "                      queries = [\"kite\",\"Kite\",\"KiTe\",\"Hare\",\"HARE\",\"Hear\",\"hear\",\"keti\",\"keet\",\"keto\"])"
   ]
  },
  {
   "cell_type": "code",
   "execution_count": 54,
   "metadata": {},
   "outputs": [
    {
     "name": "stdout",
     "output_type": "stream",
     "text": [
      "kite KiTe\n"
     ]
    }
   ],
   "source": [
    "a = 'KiTe'\n",
    "print(a.lower(), a)"
   ]
  },
  {
   "cell_type": "code",
   "execution_count": 88,
   "metadata": {},
   "outputs": [],
   "source": [
    "a = {'a', 'b', 'e'}\n",
    "d = {'c', 'd', 'e'}"
   ]
  },
  {
   "cell_type": "code",
   "execution_count": 89,
   "metadata": {},
   "outputs": [
    {
     "data": {
      "text/plain": [
       "{'a', 'b'}"
      ]
     },
     "execution_count": 89,
     "metadata": {},
     "output_type": "execute_result"
    }
   ],
   "source": [
    "a.difference(d)"
   ]
  },
  {
   "cell_type": "code",
   "execution_count": null,
   "metadata": {},
   "outputs": [],
   "source": [
    "class Solution:\n",
    "    def spellchecker(self, wordlist: List[str], queries: List[str]) -> List[str]:\n",
    "        refer_ori = set(wordlist)\n",
    "        refer_lower = {} #大小写有错的HASH_TABLE（都转换为小写）\n",
    "        refer_sta = {} #元音有错的HASH_TABLE（对元音使用通佩符*）\n",
    "        res = []#保存结果\n",
    "        for word in wordlist:\n",
    "            wordlow = word.lower()\n",
    "            if wordlow not in refer_lower: #如果wordlow原来不存在于字典中，\n",
    "                refer_lower[wordlow] = word #将其添加至字典。保证优先级，如Here,here，只添加最先扫描到的Here，满足优先级\n",
    "            wordsta = ''.join(\"*\" if c in \"aeiou\" else c for c in wordlow)\n",
    "            if wordsta not in refer_sta:# 如果wordsta原来不存在于字典中，\n",
    "                refer_sta[wordsta]= word # 将其添加至词典。保证优先级，如h*r*对应Here,here,只添加最先扫描到的Here，满足优先级\n",
    "                \n",
    "        for word in queries:#对queries的每个单词进行判断：无错否？-->大小写有错否？-->元音有错否？\n",
    "            #无错否？\n",
    "            if word in refer_ori:\n",
    "                res.append(word)\n",
    "                continue\n",
    "            #大小写有错否？\n",
    "            wordL=word.lower()\n",
    "            if wordL in refer_lower:\n",
    "                res.append(refer_lower[wordL])\n",
    "                continue\n",
    "            #元音有错否？\n",
    "            wordS=''.join('*' if c in \"aeiou\" else c for c in wordL)\n",
    "            if wordS in refer_sta:\n",
    "                res.append(refer_sta[wordS])\n",
    "                continue\n",
    "            else:#无法匹配返回\"\"\n",
    "                res.append(\"\")\n",
    "        return res"
   ]
  }
 ],
 "metadata": {
  "kernelspec": {
   "display_name": "Python 3",
   "language": "python",
   "name": "python3"
  },
  "language_info": {
   "codemirror_mode": {
    "name": "ipython",
    "version": 3
   },
   "file_extension": ".py",
   "mimetype": "text/x-python",
   "name": "python",
   "nbconvert_exporter": "python",
   "pygments_lexer": "ipython3",
   "version": "3.6.2"
  }
 },
 "nbformat": 4,
 "nbformat_minor": 4
}
