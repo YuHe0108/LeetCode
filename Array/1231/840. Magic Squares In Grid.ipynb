{
 "cells": [
  {
   "cell_type": "code",
   "execution_count": null,
   "metadata": {},
   "outputs": [],
   "source": []
  },
  {
   "cell_type": "code",
   "execution_count": null,
   "metadata": {},
   "outputs": [],
   "source": []
  },
  {
   "cell_type": "code",
   "execution_count": null,
   "metadata": {},
   "outputs": [],
   "source": [
    "# print(r, end_r, c, end_c, col_sum)"
   ]
  },
  {
   "cell_type": "code",
   "execution_count": 76,
   "metadata": {},
   "outputs": [],
   "source": [
    "from typing import List\n",
    "\n",
    "class Solution:\n",
    "    def numMagicSquaresInside(self, grid: List[List[int]]) -> int:\n",
    "        def check(r, c):\n",
    "            end_r, end_c = r + 3, c + 3\n",
    "            # 要求是不同的数字\n",
    "            nums = set()\n",
    "            for i in range(r, end_r):\n",
    "                for j in range(c, end_c):\n",
    "                    if grid[i][j] < 1 or grid[i][j] > 9:\n",
    "                        return False\n",
    "                    if grid[i][j] in nums:\n",
    "                        return False\n",
    "                    nums.add(grid[i][j])\n",
    "            \n",
    "            # 检测每行的和\n",
    "            row_sum = presum_row[r][end_c] - presum_row[r][c]\n",
    "            for i in range(r+1, end_r):\n",
    "                cur_sum = presum_row[i][end_c] - presum_row[i][c]\n",
    "                if cur_sum != row_sum:\n",
    "                    return False\n",
    "                \n",
    "            # 检测每列的和\n",
    "            for i in range(c, end_c):\n",
    "                col_sum = presum_col[i][end_r] - presum_col[i][r]\n",
    "                if col_sum != row_sum:\n",
    "                    return False\n",
    "                \n",
    "            pos_corner = 0 # 正对角线\n",
    "            idx = 0\n",
    "            for i in range(r, end_r):\n",
    "                cur_r, cur_c = r+idx, c+idx\n",
    "                pos_corner += grid[cur_r][cur_c]\n",
    "                idx += 1\n",
    "            if pos_corner != col_sum:\n",
    "                return False\n",
    "            \n",
    "            neg_corner = 0 # 负对角线\n",
    "            cur_r, cur_c = r, end_c - 1\n",
    "            idx = 0\n",
    "            for i in range(r, end_r):\n",
    "                nxt_r, nxt_c = cur_r+idx, cur_c-idx\n",
    "                neg_corner += grid[nxt_r][nxt_c]\n",
    "                idx += 1\n",
    "            if neg_corner != col_sum:\n",
    "                return False\n",
    "            return True\n",
    "        \n",
    "        rows, cols = len(grid), len(grid[0])\n",
    "        presum_row = [] # 每行的前缀和\n",
    "        for i in range(rows):\n",
    "            vals = [0]\n",
    "            for j in range(cols):\n",
    "                vals.append(grid[i][j] + vals[-1])\n",
    "            presum_row.append(vals)\n",
    "        \n",
    "        presum_col = [] # 每列的前缀和\n",
    "        for j in range(cols):\n",
    "            temp = [0]\n",
    "            for i in range(rows):\n",
    "                temp.append(grid[i][j] + temp[-1])\n",
    "            presum_col.append(temp)\n",
    "            \n",
    "        cnt = 0\n",
    "        for i in range(rows - 3 + 1):\n",
    "            for j in range(cols - 3 + 1):\n",
    "                if check(i, j):\n",
    "                    cnt += 1\n",
    "        return cnt"
   ]
  },
  {
   "cell_type": "code",
   "execution_count": 77,
   "metadata": {},
   "outputs": [
    {
     "data": {
      "text/plain": [
       "1"
      ]
     },
     "execution_count": 77,
     "metadata": {},
     "output_type": "execute_result"
    }
   ],
   "source": [
    "solution = Solution()\n",
    "solution.numMagicSquaresInside([[10,3,5],\n",
    "                                [1,6,11],[7,9,2]])"
   ]
  },
  {
   "cell_type": "code",
   "execution_count": null,
   "metadata": {},
   "outputs": [],
   "source": []
  }
 ],
 "metadata": {
  "kernelspec": {
   "display_name": "Python 3",
   "language": "python",
   "name": "python3"
  },
  "language_info": {
   "codemirror_mode": {
    "name": "ipython",
    "version": 3
   },
   "file_extension": ".py",
   "mimetype": "text/x-python",
   "name": "python",
   "nbconvert_exporter": "python",
   "pygments_lexer": "ipython3",
   "version": "3.6.2"
  }
 },
 "nbformat": 4,
 "nbformat_minor": 4
}
