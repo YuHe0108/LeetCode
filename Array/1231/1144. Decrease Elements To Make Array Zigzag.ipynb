{
 "cells": [
  {
   "cell_type": "code",
   "execution_count": null,
   "metadata": {},
   "outputs": [],
   "source": []
  },
  {
   "cell_type": "code",
   "execution_count": null,
   "metadata": {},
   "outputs": [],
   "source": []
  },
  {
   "cell_type": "code",
   "execution_count": 70,
   "metadata": {},
   "outputs": [],
   "source": [
    "from typing import List\n",
    "\n",
    "class Solution:\n",
    "    def movesToMakeZigzag(self, nums: List[int]) -> int:\n",
    "        n = len(nums)\n",
    "        if n <= 2:\n",
    "            return 0\n",
    "        \n",
    "        cnt_u = 0\n",
    "        up = True # /\\/\\/\n",
    "        up_nums = nums[::]\n",
    "        for i in range(1, n):\n",
    "            if up: \n",
    "                if up_nums[i] <= up_nums[i-1]:\n",
    "                    cnt_u += up_nums[i-1] - up_nums[i] + 1\n",
    "                    up_nums[i-1] = up_nums[i] + 1\n",
    "                    \n",
    "                up = False\n",
    "            else:\n",
    "                if up_nums[i] >= up_nums[i-1]:\n",
    "                    cnt_u += up_nums[i] - up_nums[i-1] + 1\n",
    "                    up_nums[i] = up_nums[i-1] - 1\n",
    "                up = True\n",
    "        print(up_nums)\n",
    "        \n",
    "        down = True # \\/\\/\\/\n",
    "        cnt_d = 0\n",
    "        down_nums = nums[::]\n",
    "        for i in range(1, n):\n",
    "            if down: # 下降\n",
    "                if down_nums[i] >= down_nums[i-1]:\n",
    "                    cnt_d += down_nums[i] - down_nums[i-1] + 1\n",
    "                    down_nums[i] = down_nums[i-1] - 1\n",
    "                down = False\n",
    "            else:\n",
    "                if down_nums[i] <= down_nums[i-1]:\n",
    "                    cnt_d += down_nums[i-1] - down_nums[i] + 1\n",
    "                    down_nums[i-1] = down_nums[i] - 1\n",
    "                down = True\n",
    "        print(cnt_u, cnt_d, up_nums, down_nums)\n",
    "        return min(cnt_u, cnt_d)"
   ]
  },
  {
   "cell_type": "code",
   "execution_count": 71,
   "metadata": {},
   "outputs": [
    {
     "name": "stdout",
     "output_type": "stream",
     "text": [
      "[2, 7, 6, 9, 8, 9]\n",
      "4 10 [2, 7, 6, 9, 8, 9] [2, 1, 10, 7, 8, 7]\n"
     ]
    },
    {
     "data": {
      "text/plain": [
       "4"
      ]
     },
     "execution_count": 71,
     "metadata": {},
     "output_type": "execute_result"
    }
   ],
   "source": [
    "solution = Solution()\n",
    "solution.movesToMakeZigzag([2,7,10,9,8,9])"
   ]
  },
  {
   "cell_type": "code",
   "execution_count": null,
   "metadata": {},
   "outputs": [],
   "source": []
  }
 ],
 "metadata": {
  "kernelspec": {
   "display_name": "Python 3",
   "language": "python",
   "name": "python3"
  },
  "language_info": {
   "codemirror_mode": {
    "name": "ipython",
    "version": 3
   },
   "file_extension": ".py",
   "mimetype": "text/x-python",
   "name": "python",
   "nbconvert_exporter": "python",
   "pygments_lexer": "ipython3",
   "version": "3.6.2"
  }
 },
 "nbformat": 4,
 "nbformat_minor": 4
}
