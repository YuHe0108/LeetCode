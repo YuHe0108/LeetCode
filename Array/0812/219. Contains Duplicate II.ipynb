{
 "cells": [
  {
   "cell_type": "raw",
   "metadata": {},
   "source": [
    "给定一个整数数组和一个整数k，找出数组中是否存在两个不同的索引i和j，使得nums [i] = nums [j]，并且i和j之间的绝对差最大为k。\n",
    "\n",
    "Example 1:\n",
    "    Input: nums = [1,2,3,1], k = 3\n",
    "    Output: true\n",
    "\n",
    "Example 2:\n",
    "    Input: nums = [1,0,1,1], k = 1\n",
    "    Output: true\n",
    "\n",
    "Example 3:\n",
    "    Input: nums = [1,2,3,1,2,3], k = 2\n",
    "    Output: false"
   ]
  },
  {
   "cell_type": "code",
   "execution_count": 16,
   "metadata": {},
   "outputs": [],
   "source": [
    "class Solution:\n",
    "    def containsNearbyDuplicate(self, nums, k: int) -> bool:\n",
    "        ret = {}\n",
    "        for i in range(len(nums)):\n",
    "            if nums[i] not in ret:\n",
    "                ret[nums[i]] = [i]\n",
    "            else:\n",
    "                for j in ret[nums[i]]:\n",
    "                    if i - j <= k:\n",
    "                        return True\n",
    "                ret[nums[i]].append(i)    \n",
    "        return False"
   ]
  },
  {
   "cell_type": "code",
   "execution_count": 17,
   "metadata": {},
   "outputs": [
    {
     "data": {
      "text/plain": [
       "True"
      ]
     },
     "execution_count": 17,
     "metadata": {},
     "output_type": "execute_result"
    }
   ],
   "source": [
    "nums_ = [99,99]\n",
    "k_ = 2\n",
    "solution = Solution()\n",
    "solution.containsNearbyDuplicate(nums_, k_)"
   ]
  },
  {
   "cell_type": "code",
   "execution_count": null,
   "metadata": {},
   "outputs": [],
   "source": []
  }
 ],
 "metadata": {
  "kernelspec": {
   "display_name": "TF2",
   "language": "python",
   "name": "tf2"
  },
  "language_info": {
   "codemirror_mode": {
    "name": "ipython",
    "version": 3
   },
   "file_extension": ".py",
   "mimetype": "text/x-python",
   "name": "python",
   "nbconvert_exporter": "python",
   "pygments_lexer": "ipython3",
   "version": "3.6.2"
  }
 },
 "nbformat": 4,
 "nbformat_minor": 4
}
