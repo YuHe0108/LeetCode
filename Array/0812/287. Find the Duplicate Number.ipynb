{
 "cells": [
  {
   "cell_type": "raw",
   "metadata": {},
   "source": [
    "给定一个包含n 1个整数的数组num，其中每个整数介于1和n（含1和n）之间，请证明至少必须存在一个重复数。假设只有一个重复的数字，找到重复的一个。\n",
    "\n",
    "Example 1:\n",
    "    Input: [1,3,4,2,2]\n",
    "    Output: 2\n",
    "\n",
    "Example 2:\n",
    "    Input: [3,1,3,4,2]\n",
    "    Output: 3\n",
    "\n",
    "注意：\n",
    "    1、不得修改数组（假设数组是只读的）。\n",
    "    2、您只能使用常数O（1）的额外空间。\n",
    "    3、您的运行时复杂度应小于O（n^2）。\n",
    "    3、数组中只有一个重复的数字，但是可以重复多次。"
   ]
  },
  {
   "cell_type": "code",
   "execution_count": 1,
   "metadata": {},
   "outputs": [],
   "source": [
    "class Solution:\n",
    "    def findDuplicate(self, nums) -> int:\n",
    "        pass"
   ]
  },
  {
   "cell_type": "code",
   "execution_count": 2,
   "metadata": {},
   "outputs": [],
   "source": [
    "nums_ = [1,3,4,2,2]\n",
    "solution = Solution()\n",
    "solution.findDuplicate(nums_)"
   ]
  },
  {
   "cell_type": "code",
   "execution_count": null,
   "metadata": {},
   "outputs": [],
   "source": []
  }
 ],
 "metadata": {
  "kernelspec": {
   "display_name": "TF2",
   "language": "python",
   "name": "tf2"
  },
  "language_info": {
   "codemirror_mode": {
    "name": "ipython",
    "version": 3
   },
   "file_extension": ".py",
   "mimetype": "text/x-python",
   "name": "python",
   "nbconvert_exporter": "python",
   "pygments_lexer": "ipython3",
   "version": "3.6.2"
  }
 },
 "nbformat": 4,
 "nbformat_minor": 4
}
