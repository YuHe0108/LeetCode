{
 "cells": [
  {
   "cell_type": "raw",
   "metadata": {},
   "source": [
    "给定一个由n个整数组成的数组，其中n> 1，返回一个数组输出，使得output [i]等于除nums [i]之外的所有num元素的乘积。\n",
    "\n",
    "Example:\n",
    "    Input:  [1,2,3,4]\n",
    "    Output: [24,12,8,6]\n",
    "    \n",
    "约束：保证数组任何前缀或后缀（包括整个数组）的元素的乘积适合32位整数。\n",
    "注意：请不使用除法并在O（n）中求解。\n",
    "跟进：您能以O(1)的空间复杂度解决它吗？ （出于空间复杂度分析的目的，输出数组不算作额外空间。）"
   ]
  },
  {
   "cell_type": "markdown",
   "metadata": {},
   "source": [
    "<img src='238.jpg' height=600, width=800>\n",
    "<img src='238_1.jpg' height=600, width=800>"
   ]
  },
  {
   "cell_type": "code",
   "execution_count": 40,
   "metadata": {},
   "outputs": [],
   "source": [
    "# 但是这个方法的空间复杂度 为 O(N)\n",
    "class Solution:\n",
    "    def productExceptSelf(self, nums):\n",
    "        left_ret = [1] \n",
    "        for i in range(len(nums)-1):\n",
    "            left_ret.append(left_ret[i] * nums[i])\n",
    "        \n",
    "        right_ret = [1] * len(nums)\n",
    "        for j in range(len(nums)-1, 0, -1):\n",
    "            right_ret[j-1] = right_ret[j] * nums[j]\n",
    "        \n",
    "        outputs = []\n",
    "        for i in range(len(nums)):\n",
    "            outputs.append(left_ret[i] * right_ret[i])\n",
    "        return outputs"
   ]
  },
  {
   "cell_type": "code",
   "execution_count": 151,
   "metadata": {},
   "outputs": [],
   "source": [
    "class Solution:\n",
    "    def productExceptSelf(self, nums):\n",
    "        \n",
    "        outputs = [1]\n",
    "        for i in range(len(nums)-1):\n",
    "            outputs.append(outputs[i] * nums[i])\n",
    "        \n",
    "        temp = 1 # 保存了后续之积\n",
    "        for j in range(len(nums)-1, -1, -1):\n",
    "            outputs[j] = temp * outputs[j]\n",
    "            temp *= nums[j]\n",
    "        return outputs"
   ]
  },
  {
   "cell_type": "code",
   "execution_count": 153,
   "metadata": {},
   "outputs": [
    {
     "data": {
      "text/plain": [
       "[24, 12, 8, 6]"
      ]
     },
     "execution_count": 153,
     "metadata": {},
     "output_type": "execute_result"
    }
   ],
   "source": [
    "nums_ = [1,2,3,4]\n",
    "solution = Solution()\n",
    "solution.productExceptSelf(nums_)"
   ]
  },
  {
   "cell_type": "code",
   "execution_count": null,
   "metadata": {},
   "outputs": [],
   "source": []
  },
  {
   "cell_type": "code",
   "execution_count": null,
   "metadata": {},
   "outputs": [],
   "source": []
  }
 ],
 "metadata": {
  "kernelspec": {
   "display_name": "TF2",
   "language": "python",
   "name": "tf2"
  },
  "language_info": {
   "codemirror_mode": {
    "name": "ipython",
    "version": 3
   },
   "file_extension": ".py",
   "mimetype": "text/x-python",
   "name": "python",
   "nbconvert_exporter": "python",
   "pygments_lexer": "ipython3",
   "version": "3.6.2"
  }
 },
 "nbformat": 4,
 "nbformat_minor": 4
}
