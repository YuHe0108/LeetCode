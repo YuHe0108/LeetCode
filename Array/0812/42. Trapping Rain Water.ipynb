{
 "cells": [
  {
   "cell_type": "raw",
   "metadata": {},
   "source": [
    "给定n个表示海拔图的非负整数，其中每个条的宽度为1，计算下雨后它能捕获多少水。\n",
    "下面的海拔图由数组[0,1,0,2,1,0,1,3,2,1,2,1]表示。在这种情况下，将捕获6个单元的雨水（蓝色部分）。"
   ]
  },
  {
   "cell_type": "markdown",
   "metadata": {},
   "source": [
    "<img src='42.jpg' width=700, height=700>"
   ]
  },
  {
   "cell_type": "code",
   "execution_count": 50,
   "metadata": {},
   "outputs": [],
   "source": [
    "class Solution:\n",
    "    def trap(self, height) -> int:\n",
    "        # 能存住水的情况：使 step = 3\n",
    "        step = 2\n",
    "        rains = 0\n",
    "        for start in range(len(height) - 2):\n",
    "            end = start + step\n",
    "            mid = (start + end) // 2\n",
    "            sta_val = height[start]\n",
    "            mid_val = height[mid]\n",
    "            end_val = height[end]\n",
    "            if mid_val == 0 and sta_val != 0 and end_val != 0:\n",
    "                rains += min(sta_val, end_val)\n",
    "            elif sta_val == 0 and mid_val != 0 and end_val != 0 and mid_val != end_val:\n",
    "                rains += min(mid_val, end_val)\n",
    "            elif end_val == 0 and sta_val != 0 and mid_val != 0 and sta_val != mid_val:\n",
    "                rains += min(mid_val, sta_val)\n",
    "            elif end_val > mid_val and sta_val > mid_val:\n",
    "                rains += min(end_val, sta_val) - mid_val\n",
    "        return rains"
   ]
  },
  {
   "cell_type": "code",
   "execution_count": 87,
   "metadata": {},
   "outputs": [],
   "source": [
    "# 对于每一个bar能够存多少水，取决于这个bar左右两边最高的bar的高度最小值 - height[i]\n",
    "# min(leftmost[i], rightmost[i]) - heihgt[i]\n",
    "# leftmost[i] = max(leftmost[i-1], height[i-1])\n",
    "# rightmoist[i] = max(rightmost[i-1], height[i-1])\n",
    "class Solution:\n",
    "    def trap(self, height) -> int:\n",
    "        # 记录了对于每一个bar，往左边的最高值和右边的最大值\n",
    "        leftmost = [height[0]]\n",
    "        for i in range(1, len(height)):\n",
    "            leftmost.append(max(leftmost[i-1], height[i-1]))\n",
    "        rightmost = [0] * len(height)\n",
    "        for i in range(len(height) - 2, -1, -1):\n",
    "            rightmost[i] = max(rightmost[i+1], height[i+1])\n",
    "        rains = 0\n",
    "        for i in range(len(height)):\n",
    "            rains += max(min(leftmost[i], rightmost[i]) - height[i], 0)\n",
    "        return rains"
   ]
  },
  {
   "cell_type": "markdown",
   "metadata": {},
   "source": [
    "<img src='42_stack.jpg' width=500 height=800>"
   ]
  },
  {
   "cell_type": "code",
   "execution_count": 118,
   "metadata": {},
   "outputs": [],
   "source": [
    "class Solution:\n",
    "    def trap(self, height) -> int:\n",
    "        # 使用单调递减的栈的方式\n",
    "        # 次矮的为\n",
    "        stack = [] # stack中的数字递减，如果新加入的 height > 最短的bar，即 stack[-1]\n",
    "        rains = 0\n",
    "        for i, h in enumerate(height):\n",
    "            while stack and h >= stack[-1][0]:\n",
    "                poped, _ = stack.pop()\n",
    "                if stack:\n",
    "                    left, j = stack[-1]\n",
    "                    rains += min(left - poped, h - poped) * (i - j - 1)\n",
    "            stack.append((h, i))\n",
    "            print(stack, rains)\n",
    "        return rains"
   ]
  },
  {
   "cell_type": "code",
   "execution_count": 119,
   "metadata": {},
   "outputs": [
    {
     "name": "stdout",
     "output_type": "stream",
     "text": [
      "[(0, 0)] 0\n",
      "[(1, 1)] 0\n",
      "[(1, 1), (0, 2)] 0\n",
      "[(2, 3)] 1\n",
      "[(2, 3), (1, 4)] 1\n",
      "[(2, 3), (1, 4), (0, 5)] 1\n",
      "[(2, 3), (1, 6)] 2\n",
      "[(3, 7)] 5\n",
      "[(3, 7), (2, 8)] 5\n",
      "[(3, 7), (2, 8), (1, 9)] 5\n",
      "[(3, 7), (2, 10)] 6\n",
      "[(3, 7), (2, 10), (1, 11)] 6\n"
     ]
    },
    {
     "data": {
      "text/plain": [
       "6"
      ]
     },
     "execution_count": 119,
     "metadata": {},
     "output_type": "execute_result"
    }
   ],
   "source": [
    "height_ = [0,1,0,2,1,0,1,3,2,1,2,1]\n",
    "solution = Solution()\n",
    "solution.trap(height_)"
   ]
  },
  {
   "cell_type": "code",
   "execution_count": null,
   "metadata": {},
   "outputs": [],
   "source": []
  }
 ],
 "metadata": {
  "kernelspec": {
   "display_name": "TF2",
   "language": "python",
   "name": "tf2"
  },
  "language_info": {
   "codemirror_mode": {
    "name": "ipython",
    "version": 3
   },
   "file_extension": ".py",
   "mimetype": "text/x-python",
   "name": "python",
   "nbconvert_exporter": "python",
   "pygments_lexer": "ipython3",
   "version": "3.6.2"
  }
 },
 "nbformat": 4,
 "nbformat_minor": 4
}
