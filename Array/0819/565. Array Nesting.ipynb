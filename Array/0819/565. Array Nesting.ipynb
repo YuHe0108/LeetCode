{
 "cells": [
  {
   "cell_type": "raw",
   "metadata": {},
   "source": [
    "长度为N的零索引数组A包含从0到N-1的所有整数。\n",
    "查找并返回集合S的最长长度，其中S [i] = {A [i]，A [A [i]]，A [A [A [i []]]，...}遵循以下规则。\n",
    "假设S中的第一个元素以索引= i的元素A [i]的选择开始，S中的下一个元素应为A [A [i]]，\n",
    "然后是A [A [A [i]]]…以此类推，我们在S中出现重复元素之前就停止添加。\n",
    "\n",
    "要求：S中的元素要最多。\n",
    "\n",
    "Example 1:\n",
    "    Input: A = [5,4,0,3,1,6,2]\n",
    "    Output: 4\n",
    "    Explanation: \n",
    "    A[0] = 5, A[1] = 4, A[2] = 0, A[3] = 3, A[4] = 1, A[5] = 6, A[6] = 2.\n",
    "\n",
    "    One of the longest S[K]:\n",
    "    S[0] = {A[0], A[5], A[6], A[2]} = {5, 6, 2, 0}\n",
    "\n",
    "注意：\n",
    "1、N是[1，20,000]范围内的整数。 \n",
    "2、A的元素都是不同的。 \n",
    "3、A的每个元素都是[0，N-1]范围内的整数。"
   ]
  },
  {
   "cell_type": "code",
   "execution_count": 1,
   "metadata": {},
   "outputs": [],
   "source": [
    "class Solution:\n",
    "    def arrayNesting(self, nums) -> int:\n",
    "        rets = []\n",
    "        "
   ]
  },
  {
   "cell_type": "code",
   "execution_count": 3,
   "metadata": {},
   "outputs": [],
   "source": [
    "nums_ = [5,4,0,3,1,6,2]\n",
    "solution = Solution()\n",
    "solution.arrayNesting(nums_)"
   ]
  },
  {
   "cell_type": "code",
   "execution_count": null,
   "metadata": {},
   "outputs": [],
   "source": []
  }
 ],
 "metadata": {
  "kernelspec": {
   "display_name": "Python 3",
   "language": "python",
   "name": "python3"
  },
  "language_info": {
   "codemirror_mode": {
    "name": "ipython",
    "version": 3
   },
   "file_extension": ".py",
   "mimetype": "text/x-python",
   "name": "python",
   "nbconvert_exporter": "python",
   "pygments_lexer": "ipython3",
   "version": "3.6.2"
  }
 },
 "nbformat": 4,
 "nbformat_minor": 2
}
