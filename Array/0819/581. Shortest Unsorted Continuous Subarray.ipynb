{
 "cells": [
  {
   "cell_type": "raw",
   "metadata": {},
   "source": [
    "给定一个整数数组，您需要找到一个连续的子数组，如果仅以升序对该子数组进行排序，那么整个数组也将以升序进行排序。\n",
    "您需要找到最短的此类子数组并输出其长度。\n",
    "\n",
    "Example 1:\n",
    "    Input: [2, 6, 4, 8, 10, 9, 15]\n",
    "    Output: 5\n",
    "    Explanation: You need to sort [6, 4, 8, 10, 9] in ascending order to make the whole array sorted in ascending order.\n",
    "\n",
    "注意：\n",
    "1、输入数组的长度在[1，10,000]范围内。\n",
    "2、输入数组可能包含重复项，因此此处的升序表示<=。"
   ]
  },
  {
   "cell_type": "raw",
   "metadata": {},
   "source": [
    "单调栈：\n",
    "    1、"
   ]
  },
  {
   "cell_type": "code",
   "execution_count": 68,
   "metadata": {},
   "outputs": [],
   "source": [
    "class Solution:\n",
    "    def findUnsortedSubarray(self, nums) -> int:\n",
    "        if len(nums) < 2: return 0\n",
    "\n",
    "        stack = []\n",
    "        left = len(nums) - 1 # 最差的情况，nums需要全部排序\n",
    "        right = 0\n",
    "        i = 0\n",
    "        while i < len(nums):\n",
    "            # 要维持一个单调递增的序列，要求每个进入stack的值都必须大于等于stack中的最后一个值\n",
    "            if len(stack) == 0 or nums[i] >= nums[stack[-1]]:\n",
    "                stack.append(i)\n",
    "            else:\n",
    "                left = min(left, stack.pop())\n",
    "                i -= 1\n",
    "            i += 1\n",
    "        \n",
    "        i = len(nums) - 1\n",
    "        stack.clear()\n",
    "        while i >= 0:\n",
    "            if len(stack) == 0 or nums[i] <= nums[stack[-1]]:\n",
    "                stack.append(i)\n",
    "            else:\n",
    "                right = max(right, stack.pop())\n",
    "                i += 1\n",
    "            i -= 1\n",
    "        return right - left + 1 if right - left > 0 else 0"
   ]
  },
  {
   "cell_type": "code",
   "execution_count": 69,
   "metadata": {},
   "outputs": [
    {
     "data": {
      "text/plain": [
       "2"
      ]
     },
     "execution_count": 69,
     "metadata": {},
     "output_type": "execute_result"
    }
   ],
   "source": [
    "nums_ = [2,1]\n",
    "solution = Solution()\n",
    "solution.findUnsortedSubarray(nums_)"
   ]
  },
  {
   "cell_type": "code",
   "execution_count": null,
   "metadata": {},
   "outputs": [],
   "source": []
  }
 ],
 "metadata": {
  "kernelspec": {
   "display_name": "TF2",
   "language": "python",
   "name": "tf2"
  },
  "language_info": {
   "codemirror_mode": {
    "name": "ipython",
    "version": 3
   },
   "file_extension": ".py",
   "mimetype": "text/x-python",
   "name": "python",
   "nbconvert_exporter": "python",
   "pygments_lexer": "ipython3",
   "version": "3.6.2"
  }
 },
 "nbformat": 4,
 "nbformat_minor": 4
}
