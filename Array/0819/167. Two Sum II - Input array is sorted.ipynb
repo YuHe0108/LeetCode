{
 "cells": [
  {
   "cell_type": "raw",
   "metadata": {},
   "source": [
    "给定一个已经按升序排序的整数数组，请找到两个数字，使它们加起来成为一个特定的目标数字。\n",
    "函数twoSum应该返回两个数字的索引，以使它们加起来等于目标，其中index1必须小于index2。\n",
    "注意：您返回的答案（index1和index2）都不基于零。\n",
    "您可以假设每个输入都只有一个解决方案，并且您可能不会两次使用同一元素。\n",
    "\n",
    "Example:\n",
    "    Input: numbers = [2,7,11,15], target = 9\n",
    "    Output: [1,2]\n",
    "    Explanation: The sum of 2 and 7 is 9. \n",
    "             Therefore index1 = 1, index2 = 2."
   ]
  },
  {
   "cell_type": "code",
   "execution_count": 19,
   "metadata": {},
   "outputs": [],
   "source": [
    "class Solution:\n",
    "    def twoSum(self, nums, targ: int):\n",
    "        for i, num in enumerate(nums):\n",
    "            new_targ = targ - num\n",
    "            left, right = i + 1, len(nums) - 1\n",
    "            while left <= right:\n",
    "                mid = (left + right) // 2\n",
    "                if nums[mid] == new_targ:\n",
    "                    return [i+1, mid+1]\n",
    "                elif nums[mid] > new_targ:\n",
    "                    right = mid - 1\n",
    "                else:\n",
    "                    left = mid + 1"
   ]
  },
  {
   "cell_type": "code",
   "execution_count": 20,
   "metadata": {},
   "outputs": [
    {
     "data": {
      "text/plain": [
       "[1, 3]"
      ]
     },
     "execution_count": 20,
     "metadata": {},
     "output_type": "execute_result"
    }
   ],
   "source": [
    "nums_ = [2,3,4]\n",
    "targ_ = 6\n",
    "solution = Solution()\n",
    "solution.twoSum(nums_, targ_)"
   ]
  },
  {
   "cell_type": "code",
   "execution_count": null,
   "metadata": {},
   "outputs": [],
   "source": []
  }
 ],
 "metadata": {
  "kernelspec": {
   "display_name": "Python 3",
   "language": "python",
   "name": "python3"
  },
  "language_info": {
   "codemirror_mode": {
    "name": "ipython",
    "version": 3
   },
   "file_extension": ".py",
   "mimetype": "text/x-python",
   "name": "python",
   "nbconvert_exporter": "python",
   "pygments_lexer": "ipython3",
   "version": "3.6.2"
  }
 },
 "nbformat": 4,
 "nbformat_minor": 2
}
