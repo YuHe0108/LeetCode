{
 "cells": [
  {
   "cell_type": "raw",
   "metadata": {},
   "source": [
    "给定一个非空整数数组，返回此数组中的第三个最大数字。如果不存在，则返回最大值。时间复杂度必须为O（n）。\n",
    "\n",
    "Example 1:\n",
    "    Input: [3, 2, 1]\n",
    "    Output: 1\n",
    "   \n",
    "    3 >> 2 >> 1\n",
    "    Explanation: The third maximum is 1.\n",
    "\n",
    "Example 2:\n",
    "    Input: [1, 2]\n",
    "    Output: 2\n",
    "\n",
    "    Explanation: The third maximum does not exist, so the maximum (2) is returned instead.\n",
    "\n",
    "Example 3:\n",
    "    Input: [2, 2, 3, 1]\n",
    "    Output: 1\n",
    "   \n",
    "   # 3 >> 2 >> 1\n",
    "   注意，这里的第三最大值表示第三最大不同数。两个值均为2的数字均被视为第二最大值。"
   ]
  },
  {
   "cell_type": "code",
   "execution_count": 3,
   "metadata": {},
   "outputs": [],
   "source": [
    "class Solution:\n",
    "    def thirdMax(self, nums):\n",
    "        set_nums = set(nums)\n",
    "        if len(set_nums) < 3: \n",
    "            return max(set(nums))\n",
    "        new_nums = list(set_nums)\n",
    "        new_nums.remove(max(new_nums))\n",
    "        new_nums.remove(max(new_nums))\n",
    "        return max(new_nums)"
   ]
  },
  {
   "cell_type": "code",
   "execution_count": 11,
   "metadata": {},
   "outputs": [],
   "source": [
    "class Solution:\n",
    "    def thirdMax(self, nums):\n",
    "        new_nums, T = list(set(nums)), [-float('inf')] * 3\n",
    "        \n",
    "        for num in new_nums:\n",
    "            if num > T[0]:\n",
    "                T = [num, T[0], T[1]]\n",
    "                continue\n",
    "            if num > T[1]:\n",
    "                T = [T[0], num, T[1]]\n",
    "                continue\n",
    "            if num > T[2]:\n",
    "                T = [T[0], T[1], num]\n",
    "        return T[2] if T[2] != -float('inf') else T[0]"
   ]
  },
  {
   "cell_type": "code",
   "execution_count": 12,
   "metadata": {},
   "outputs": [
    {
     "data": {
      "text/plain": [
       "1"
      ]
     },
     "execution_count": 12,
     "metadata": {},
     "output_type": "execute_result"
    }
   ],
   "source": [
    "nums_ = [2, 2, 3, 1]\n",
    "solution = Solution()\n",
    "solution.thirdMax(nums_)"
   ]
  },
  {
   "cell_type": "code",
   "execution_count": null,
   "metadata": {},
   "outputs": [],
   "source": [
    "a = [1, 2]\n",
    "a.remove(2)"
   ]
  }
 ],
 "metadata": {
  "kernelspec": {
   "display_name": "Python 3",
   "language": "python",
   "name": "python3"
  },
  "language_info": {
   "codemirror_mode": {
    "name": "ipython",
    "version": 3
   },
   "file_extension": ".py",
   "mimetype": "text/x-python",
   "name": "python",
   "nbconvert_exporter": "python",
   "pygments_lexer": "ipython3",
   "version": "3.6.2"
  }
 },
 "nbformat": 4,
 "nbformat_minor": 2
}
