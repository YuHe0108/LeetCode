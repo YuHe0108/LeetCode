{
 "cells": [
  {
   "cell_type": "raw",
   "metadata": {},
   "source": [
    "给定一个数组num，编写一个函数将所有0移到其末尾，同时保持非零元素的相对顺序。\n",
    "\n",
    "例1：\n",
    "    Input: [0,1,0,3,12]\n",
    "    Output: [1,3,12,0,0]\n",
    "\n",
    "注意：\n",
    "1、必须在不复制阵列的情况下就地执行此操作。\n",
    "2、最小化操作总数。"
   ]
  },
  {
   "cell_type": "code",
   "execution_count": 18,
   "metadata": {},
   "outputs": [],
   "source": [
    "class Solution:\n",
    "    def moveZeroes(self, nums):\n",
    "        \"\"\"\n",
    "        Do not return anything, modify nums in-place instead.\n",
    "        \"\"\"\n",
    "        i = 0\n",
    "        while i < len(nums):\n",
    "            val = nums[i]\n",
    "            if val == 0:\n",
    "                for j in range(i + 1, len(nums)):\n",
    "                    if nums[j] == 0:\n",
    "                        continue\n",
    "                    else:\n",
    "                        nums[i], nums[j] = nums[j], nums[i]\n",
    "                        break\n",
    "            i += 1\n",
    "        return nums"
   ]
  },
  {
   "cell_type": "code",
   "execution_count": 19,
   "metadata": {},
   "outputs": [
    {
     "name": "stdout",
     "output_type": "stream",
     "text": [
      "[1, 0, 0, 3, 12] 0\n",
      "[1, 3, 0, 0, 12] 1\n",
      "[1, 3, 12, 0, 0] 2\n",
      "[1, 3, 12, 0, 0] 3\n",
      "[1, 3, 12, 0, 0] 4\n"
     ]
    },
    {
     "data": {
      "text/plain": [
       "[1, 3, 12, 0, 0]"
      ]
     },
     "execution_count": 19,
     "metadata": {},
     "output_type": "execute_result"
    }
   ],
   "source": [
    "nums_ = [0, 1, 0, 3, 12]\n",
    "solution = Solution()\n",
    "solution.moveZeroes(nums_)"
   ]
  },
  {
   "cell_type": "code",
   "execution_count": null,
   "metadata": {},
   "outputs": [],
   "source": []
  }
 ],
 "metadata": {
  "kernelspec": {
   "display_name": "Python 3",
   "language": "python",
   "name": "python3"
  },
  "language_info": {
   "codemirror_mode": {
    "name": "ipython",
    "version": 3
   },
   "file_extension": ".py",
   "mimetype": "text/x-python",
   "name": "python",
   "nbconvert_exporter": "python",
   "pygments_lexer": "ipython3",
   "version": "3.6.2"
  }
 },
 "nbformat": 4,
 "nbformat_minor": 2
}
