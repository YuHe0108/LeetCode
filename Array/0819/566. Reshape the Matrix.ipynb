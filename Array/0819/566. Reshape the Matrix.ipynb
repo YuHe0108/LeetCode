{
 "cells": [
  {
   "cell_type": "raw",
   "metadata": {},
   "source": [
    "在MATLAB中，有一个非常有用的函数，称为“Reshape”，可以将矩阵重塑为具有不同大小的新矩阵，但保留其原始数据。\n",
    "您将获得一个由二维数组表示的矩阵，以及两个正整数r和c，分别代表所需的重构矩阵的行号和列号。\n",
    "重整后的矩阵需要以与原始矩阵相同的行遍历顺序填充原始矩阵的所有元素。\n",
    "如果具有给定参数的“重塑”操作是可能的并且合法，则输出新的重塑矩阵；否则，输出原始矩阵。\n",
    "\n",
    "Example 1:\n",
    "    Input: \n",
    "        nums = \n",
    "            [[1,2],\n",
    "             [3,4]]\n",
    "        r = 1, c = 4\n",
    "        Output: \n",
    "            [[1,2,3,4]]\n",
    "\n",
    "    Explanation:\n",
    "        The row-traversing of nums is [1,2,3,4]. \n",
    "        The new reshaped matrix is a 1 * 4 matrix, fill it row by row by using the previous list.\n",
    "\n",
    "Example 2:\n",
    "    Input: \n",
    "        nums = \n",
    "            [[1,2],\n",
    "             [3,4]]\n",
    "        r = 2, c = 4\n",
    "    Output: \n",
    "            [[1,2],\n",
    "             [3,4]]\n",
    "    Explanation:\n",
    "        There is no way to reshape a 2 * 2 matrix to a 2 * 4 matrix. So output the original matrix.\n",
    "        \n",
    "注意点：\n",
    "    给定矩阵的高度和宽度在[1，100]范围内。给定的r和c均为正。"
   ]
  },
  {
   "cell_type": "code",
   "execution_count": 9,
   "metadata": {},
   "outputs": [],
   "source": [
    "class Solution:\n",
    "    def matrixReshape(self, nums, r: int, c: int):\n",
    "        rows = len(nums)\n",
    "        cols = len(nums[0])\n",
    "        if rows * cols != r * c: return nums\n",
    "        \n",
    "        line_num = []\n",
    "        for row in range(rows):\n",
    "            for col in range(cols):\n",
    "                line_num.append(nums[row][col])\n",
    "        \n",
    "        rets = []\n",
    "        index = 0\n",
    "        for row in range(r):\n",
    "            rets.append([])\n",
    "            for col in range(c):\n",
    "                rets[-1].append(line_num[index])\n",
    "                index += 1\n",
    "        return rets"
   ]
  },
  {
   "cell_type": "code",
   "execution_count": 11,
   "metadata": {},
   "outputs": [
    {
     "data": {
      "text/plain": [
       "[[1, 2], [3, 4]]"
      ]
     },
     "execution_count": 11,
     "metadata": {},
     "output_type": "execute_result"
    }
   ],
   "source": [
    "nums_ = [[1,2],\n",
    "         [3,4]]\n",
    "r_ = 2\n",
    "c_ = 4\n",
    "solution = Solution()\n",
    "solution.matrixReshape(nums_, r_, c_)"
   ]
  },
  {
   "cell_type": "code",
   "execution_count": null,
   "metadata": {},
   "outputs": [],
   "source": []
  },
  {
   "cell_type": "code",
   "execution_count": null,
   "metadata": {},
   "outputs": [],
   "source": []
  }
 ],
 "metadata": {
  "kernelspec": {
   "display_name": "TF2",
   "language": "python",
   "name": "tf2"
  },
  "language_info": {
   "codemirror_mode": {
    "name": "ipython",
    "version": 3
   },
   "file_extension": ".py",
   "mimetype": "text/x-python",
   "name": "python",
   "nbconvert_exporter": "python",
   "pygments_lexer": "ipython3",
   "version": "3.6.2"
  }
 },
 "nbformat": 4,
 "nbformat_minor": 4
}
