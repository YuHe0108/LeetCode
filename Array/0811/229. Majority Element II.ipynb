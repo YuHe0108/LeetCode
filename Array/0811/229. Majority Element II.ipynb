{
 "cells": [
  {
   "cell_type": "raw",
   "metadata": {},
   "source": [
    "给定一个大小为n的整数数组，请查找所有出现次数大于 n / 3倍的元素。注意：该算法应在线性时间和O（1）空间中运行。\n",
    "\n",
    "    Example 1:\n",
    "        Input: [3,2,3]\n",
    "        Output: [3]\n",
    "    \n",
    "    Example 2:\n",
    "        Input: [1,1,1,3,3,2,2,2]\n",
    "        Output: [1,2]"
   ]
  },
  {
   "cell_type": "code",
   "execution_count": 22,
   "metadata": {},
   "outputs": [],
   "source": [
    "class Solution:\n",
    "    def majorityElement(self, nums):\n",
    "        # 首先查看该列表中有多少类型的元素\n",
    "        # 每个元素最多出现的次数，与列表长度的关系\n",
    "        if not nums: return []\n",
    "        count1, count2, candidate1, candidate2 = 0, 0, 0, 1\n",
    "        for n in nums:\n",
    "            if n == candidate1:\n",
    "                count1 += 1\n",
    "            elif n == candidate2:\n",
    "                count2 += 1\n",
    "            elif count1 == 0:\n",
    "                candidate1, count1 = n, 1\n",
    "            elif count2 == 0:\n",
    "                candidate2, count2 = n, 1\n",
    "            else:\n",
    "                count1 -= 1\n",
    "                count2 -= 1\n",
    "            print(count1, count2, candidate1, candidate2)\n",
    "        return [n for n in (candidate1, candidate2) if nums.count(n) > len(nums) // 3]"
   ]
  },
  {
   "cell_type": "code",
   "execution_count": 25,
   "metadata": {},
   "outputs": [
    {
     "name": "stdout",
     "output_type": "stream",
     "text": [
      "1 0 2 1\n",
      "2 0 2 1\n",
      "2 1 2 3\n",
      "2 2 2 3\n",
      "1 1 2 3\n",
      "0 0 2 3\n",
      "1 0 5 3\n"
     ]
    },
    {
     "data": {
      "text/plain": [
       "[]"
      ]
     },
     "execution_count": 25,
     "metadata": {},
     "output_type": "execute_result"
    }
   ],
   "source": [
    "nums_ = [2,2,3,3,4,4,5]\n",
    "solution = Solution()\n",
    "solution.majorityElement(nums_)"
   ]
  },
  {
   "cell_type": "code",
   "execution_count": 39,
   "metadata": {},
   "outputs": [
    {
     "name": "stdout",
     "output_type": "stream",
     "text": [
      "1\n"
     ]
    }
   ],
   "source": [
    "print(round(4/5))"
   ]
  },
  {
   "cell_type": "code",
   "execution_count": null,
   "metadata": {},
   "outputs": [],
   "source": []
  }
 ],
 "metadata": {
  "kernelspec": {
   "display_name": "TF2",
   "language": "python",
   "name": "tf2"
  },
  "language_info": {
   "codemirror_mode": {
    "name": "ipython",
    "version": 3
   },
   "file_extension": ".py",
   "mimetype": "text/x-python",
   "name": "python",
   "nbconvert_exporter": "python",
   "pygments_lexer": "ipython3",
   "version": "3.6.2"
  }
 },
 "nbformat": 4,
 "nbformat_minor": 4
}
