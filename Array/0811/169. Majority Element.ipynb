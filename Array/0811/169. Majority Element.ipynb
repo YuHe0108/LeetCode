{
 "cells": [
  {
   "cell_type": "raw",
   "metadata": {},
   "source": [
    "给定大小为n的数组，找到多数元素。多数元素是出现超过⌊n / 2倍的元素。您可以假定数组为非空，并且多数元素始终存在于数组中。\n",
    "\n",
    "Example 1:\n",
    "    Input: [3,2,3]\n",
    "    Output: 3\n",
    "\n",
    "Example 2:\n",
    "    Input: [2,2,1,1,1,2,2]\n",
    "    Output: 2"
   ]
  },
  {
   "cell_type": "code",
   "execution_count": 7,
   "metadata": {},
   "outputs": [],
   "source": [
    "class Solution:\n",
    "    def majorityElement(self, nums) -> int:\n",
    "        candidate, count = 0, 0\n",
    "        for num in nums:\n",
    "            if count == 0:\n",
    "                candidate = num\n",
    "            if candidate == num:\n",
    "                count += 1\n",
    "            else:\n",
    "                count -= 1\n",
    "                \n",
    "        if nums.count(candidate) > len(nums) // 2:\n",
    "            return candidate\n",
    "        else:\n",
    "            return []"
   ]
  },
  {
   "cell_type": "code",
   "execution_count": 8,
   "metadata": {},
   "outputs": [
    {
     "data": {
      "text/plain": [
       "3"
      ]
     },
     "execution_count": 8,
     "metadata": {},
     "output_type": "execute_result"
    }
   ],
   "source": [
    "nums_ = [3,2,3]\n",
    "solution = Solution()\n",
    "solution.majorityElement(nums_)"
   ]
  },
  {
   "cell_type": "code",
   "execution_count": null,
   "metadata": {},
   "outputs": [],
   "source": []
  }
 ],
 "metadata": {
  "kernelspec": {
   "display_name": "TF2",
   "language": "python",
   "name": "tf2"
  },
  "language_info": {
   "codemirror_mode": {
    "name": "ipython",
    "version": 3
   },
   "file_extension": ".py",
   "mimetype": "text/x-python",
   "name": "python",
   "nbconvert_exporter": "python",
   "pygments_lexer": "ipython3",
   "version": "3.6.2"
  }
 },
 "nbformat": 4,
 "nbformat_minor": 4
}
