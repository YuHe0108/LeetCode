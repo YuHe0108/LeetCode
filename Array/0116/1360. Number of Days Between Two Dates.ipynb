{
 "cells": [
  {
   "cell_type": "code",
   "execution_count": null,
   "metadata": {},
   "outputs": [],
   "source": []
  },
  {
   "cell_type": "code",
   "execution_count": null,
   "metadata": {},
   "outputs": [],
   "source": [
    "class Solution:\n",
    " "
   ]
  },
  {
   "cell_type": "code",
   "execution_count": 100,
   "metadata": {},
   "outputs": [],
   "source": [
    "class Solution:\n",
    "    def daysBetweenDates(self, date1: str, date2: str) -> int:\n",
    "        y1, m1, d1 = date1.split('-')\n",
    "        y2, m2, d2 = date2.split('-')\n",
    "        leap_years = set()\n",
    "        for y in range(1971, 2100 + 1):\n",
    "            if (y % 4 == 0 and y % 100 != 0) or (y % 400 == 0):\n",
    "                leap_years.add(y)\n",
    "        b_mons = {1, 3, 5, 7, 8, 10, 12} # 31天\n",
    "        \n",
    "        def calc(y, m, d):\n",
    "            total = 0\n",
    "            for i in range(2010, int(y)):\n",
    "                if i in leap_years:\n",
    "                    total += 366\n",
    "                else:\n",
    "                    total += 365\n",
    "            for j in range(1, int(m)):\n",
    "                if j == 2:\n",
    "                    if int(y) in leap_years:\n",
    "                        total += 29\n",
    "                    else:\n",
    "                        total += 28\n",
    "                elif j in b_mons:\n",
    "                    total += 31\n",
    "                else:\n",
    "                    total += 30\n",
    "            return total + int(d)\n",
    "        return calc(y2, m2, d2) - calc(y1, m1, d1)"
   ]
  },
  {
   "cell_type": "code",
   "execution_count": 101,
   "metadata": {},
   "outputs": [
    {
     "data": {
      "text/plain": [
       "721"
      ]
     },
     "execution_count": 101,
     "metadata": {},
     "output_type": "execute_result"
    }
   ],
   "source": [
    "solution = Solution()\n",
    "solution.daysBetweenDates(\"2010-08-18\",\"2012-08-08\")"
   ]
  },
  {
   "cell_type": "code",
   "execution_count": 79,
   "metadata": {},
   "outputs": [
    {
     "data": {
      "text/plain": [
       "212"
      ]
     },
     "execution_count": 79,
     "metadata": {},
     "output_type": "execute_result"
    }
   ],
   "source": [
    "942 - 730"
   ]
  },
  {
   "cell_type": "code",
   "execution_count": 104,
   "metadata": {},
   "outputs": [],
   "source": [
    "class Solution:\n",
    "    def daysBetweenDates(self, date1: str, date2: str) -> int:\n",
    "        def calday(year, month, day):\n",
    "            res = day-1\n",
    "            maps = [0,31,28,31,30,31,30,31,31,30,31,30,31]\n",
    "            while month:\n",
    "                month -= 1\n",
    "                res += maps[month]\n",
    "                if month == 2 and (year%400==0 or (year%4==0 and year%100!=0) ):\n",
    "                    res+=1\n",
    "            res += 365 * (year-1971)\n",
    "            res += (year-1)//4 - 1971//4\n",
    "            res -= (year-1)//100 - 1971//100\n",
    "            res += (year-1)//400 + 1971//400\n",
    "            return res\n",
    "        \n",
    "        date1 = [int(i) for i in date1.split('-')]\n",
    "        date2 = [int(i) for i in date2.split('-')]\n",
    "        return abs(calday(*date2) - calday(*date1))"
   ]
  },
  {
   "cell_type": "code",
   "execution_count": 105,
   "metadata": {},
   "outputs": [
    {
     "data": {
      "text/plain": [
       "721"
      ]
     },
     "execution_count": 105,
     "metadata": {},
     "output_type": "execute_result"
    }
   ],
   "source": [
    "solution = Solution()\n",
    "solution.daysBetweenDates(\"2010-08-18\",\"2012-08-08\")"
   ]
  },
  {
   "cell_type": "code",
   "execution_count": null,
   "metadata": {},
   "outputs": [],
   "source": []
  }
 ],
 "metadata": {
  "kernelspec": {
   "display_name": "Python 3",
   "language": "python",
   "name": "python3"
  },
  "language_info": {
   "codemirror_mode": {
    "name": "ipython",
    "version": 3
   },
   "file_extension": ".py",
   "mimetype": "text/x-python",
   "name": "python",
   "nbconvert_exporter": "python",
   "pygments_lexer": "ipython3",
   "version": "3.6.2"
  }
 },
 "nbformat": 4,
 "nbformat_minor": 4
}
