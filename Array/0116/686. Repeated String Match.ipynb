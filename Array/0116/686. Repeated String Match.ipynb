{
 "cells": [
  {
   "cell_type": "code",
   "execution_count": null,
   "metadata": {},
   "outputs": [],
   "source": [
    "class Solution:\n",
    "    def repeatedStringMatch(self, a: str, b: str) -> int:\n",
    "        for k in range(1, 10000+1):\n",
    "            s_a = a * k\n",
    "            if len(s_a) > 10000:\n",
    "                break\n",
    "            if b in s_a:\n",
    "                return k\n",
    "        return -1"
   ]
  },
  {
   "cell_type": "code",
   "execution_count": null,
   "metadata": {},
   "outputs": [],
   "source": []
  },
  {
   "cell_type": "code",
   "execution_count": null,
   "metadata": {},
   "outputs": [],
   "source": []
  },
  {
   "cell_type": "raw",
   "metadata": {},
   "source": [
    "满足条件的A的长度范围为[B, A+B]，原因是最糟糕的情况下，A的末尾字符刚好匹配上B的头部，这时可能需要A+B才能完成匹配，否则叠加再多的A也无法匹配。\n",
    "总的来说，这题有点奇怪，不太容易找到一个严谨的方式证明我上述说法是正确的，只能凭感觉去举例来说服自己是对的。\n",
    "\n",
    "A*mult ---------- \n",
    "B      -------\n",
    "1. 滑动B之后，后面超出的部分无法比较\n",
    "A*mult ----------???\n",
    "B            -------\n",
    "2. 最多检查超出的len(B)-1个元素，因为超出len(B)的时候，相当于又在看A*mult的开头了\n",
    "A*mult ----------??????\n",
    "B               -------\n",
    "3. 让A' = A*mult + A[:len(B)-1]\n",
    "            len(B)-1 q\n",
    "A' ----------|------|----\n",
    "B           -------\n",
    "4. 可以发现，从q开始的子串，已经在前面一部分从q'开始的字符串中出现过了。由于在前面，我们已经检查过\n",
    "   从A'任何位置开始的字符串，再往后的检查都只是重复。\n",
    "   我这里多加了一段，看得更明白\n",
    "          q'         q\n",
    "A' ----------|----------|----------\n",
    "B                    -------\n",
    "\n",
    "作者：deerhound\n",
    "链接：https://leetcode-cn.com/problems/repeated-string-match/solution/jian-ji-ming-liao-de-pythonjie-fa-by-deerhound/\n",
    "来源：力扣（LeetCode）\n",
    "著作权归作者所有。商业转载请联系作者获得授权，非商业转载请注明出处。"
   ]
  },
  {
   "cell_type": "code",
   "execution_count": null,
   "metadata": {},
   "outputs": [],
   "source": []
  },
  {
   "cell_type": "code",
   "execution_count": null,
   "metadata": {},
   "outputs": [],
   "source": []
  },
  {
   "cell_type": "code",
   "execution_count": null,
   "metadata": {},
   "outputs": [],
   "source": [
    " \n",
    "class Solution:\n",
    "    def repeatedStringMatch(self, a: str, b: str) -> int:\n",
    "        if not set(b) <= set(a): # b是a的子集\n",
    "            return -1\n",
    "        times = int(math.ceil(len(b) / len(a)))\n",
    "        if b in a*times:\n",
    "            return times\n",
    "        elif b in a*(times+1):\n",
    "            return times + 1\n",
    "        else:\n",
    "            return -1"
   ]
  },
  {
   "cell_type": "code",
   "execution_count": 3,
   "metadata": {},
   "outputs": [
    {
     "data": {
      "text/plain": [
       "False"
      ]
     },
     "execution_count": 3,
     "metadata": {},
     "output_type": "execute_result"
    }
   ],
   "source": [
    "a = {'a', 'b'}\n",
    "b = {'a', 'c', 'd', 'e'}\n",
    "a < b"
   ]
  },
  {
   "cell_type": "code",
   "execution_count": null,
   "metadata": {},
   "outputs": [],
   "source": []
  }
 ],
 "metadata": {
  "kernelspec": {
   "display_name": "Python 3",
   "language": "python",
   "name": "python3"
  },
  "language_info": {
   "codemirror_mode": {
    "name": "ipython",
    "version": 3
   },
   "file_extension": ".py",
   "mimetype": "text/x-python",
   "name": "python",
   "nbconvert_exporter": "python",
   "pygments_lexer": "ipython3",
   "version": "3.6.2"
  }
 },
 "nbformat": 4,
 "nbformat_minor": 4
}
