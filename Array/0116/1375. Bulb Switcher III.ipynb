{
 "cells": [
  {
   "cell_type": "code",
   "execution_count": null,
   "metadata": {},
   "outputs": [],
   "source": []
  },
  {
   "cell_type": "code",
   "execution_count": null,
   "metadata": {},
   "outputs": [],
   "source": []
  },
  {
   "cell_type": "code",
   "execution_count": null,
   "metadata": {},
   "outputs": [],
   "source": []
  },
  {
   "cell_type": "code",
   "execution_count": 25,
   "metadata": {},
   "outputs": [],
   "source": [
    "from typing import List\n",
    "\n",
    "# 要想所有的灯都是蓝色，那么从最大的 idx 之前的灯也必须都是蓝色\n",
    "class Solution:\n",
    "    def numTimesAllBlue(self, light: List[int]) -> int:\n",
    "        n = len(light)\n",
    "        bulbs = [0] * (n+1)\n",
    "        bulbs[0] = 1\n",
    "        r_idx = 0\n",
    "        cnt = 0\n",
    "        for i, k in enumerate(light):\n",
    "            r_idx = max(r_idx, k)\n",
    "            bulbs[k] = 1\n",
    "            if sum(bulbs[:r_idx+1]) == r_idx+1:\n",
    "                cnt += 1\n",
    "        return cnt"
   ]
  },
  {
   "cell_type": "code",
   "execution_count": null,
   "metadata": {},
   "outputs": [],
   "source": []
  },
  {
   "cell_type": "code",
   "execution_count": 49,
   "metadata": {},
   "outputs": [],
   "source": [
    "from typing import List\n",
    "\n",
    "# 要想所有的灯都是蓝色，那么从最大的 idx 之前的灯也必须都是蓝色\n",
    "class Solution:\n",
    "    def numTimesAllBlue(self, light: List[int]) -> int:\n",
    "        bulbs = set([x for x in range(1, max(light) + 1)])\n",
    "        cnt = 0\n",
    "        for v in light:\n",
    "            bulbs.remove(v)\n",
    "            for l in bulbs:\n",
    "                if l < v:\n",
    "                    break\n",
    "            else:\n",
    "                print(v, bulbs)\n",
    "                cnt += 1\n",
    "        return cnt"
   ]
  },
  {
   "cell_type": "code",
   "execution_count": null,
   "metadata": {},
   "outputs": [],
   "source": []
  },
  {
   "cell_type": "code",
   "execution_count": 66,
   "metadata": {},
   "outputs": [],
   "source": [
    "from typing import List\n",
    "\n",
    "# 要想所有的灯都是蓝色，那么从最大的 idx 之前的灯也必须都是蓝色\n",
    "class Solution:\n",
    "    def numTimesAllBlue(self, light: List[int]) -> int:\n",
    "        bulbs = set([x for x in range(1, max(light) + 1)])\n",
    "        l_idx = 0\n",
    "        r_idx = 0\n",
    "        cnt = 0\n",
    "        for v in light:\n",
    "            bulbs.remove(v)\n",
    "            r_idx = max(r_idx, v)\n",
    "            l_idx = min(l_idx, v)\n",
    "            if l_idx < r_idx:\n",
    "                cnt += 1\n",
    "        return cnt"
   ]
  },
  {
   "cell_type": "code",
   "execution_count": null,
   "metadata": {},
   "outputs": [],
   "source": []
  },
  {
   "cell_type": "code",
   "execution_count": null,
   "metadata": {},
   "outputs": [],
   "source": []
  },
  {
   "cell_type": "code",
   "execution_count": 91,
   "metadata": {},
   "outputs": [],
   "source": [
    "from typing import List\n",
    "from sortedcontainers import SortedSet\n",
    "\n",
    "# 要想所有的灯都是蓝色，那么从最大的 idx 之前的灯也必须都是蓝色\n",
    "class Solution:\n",
    "    def numTimesAllBlue(self, light: List[int]) -> int:\n",
    "        bulbs = SortedSet()\n",
    "        for i in range(1, max(light) + 1):\n",
    "            bulbs.add(i)\n",
    "        r_idx = 0\n",
    "        cnt = 0\n",
    "        for v in light:\n",
    "            bulbs.remove(v)\n",
    "            r_idx = max(r_idx, v)\n",
    "            l_idx = min(bulbs) if bulbs else float('inf')\n",
    "            if l_idx > r_idx:\n",
    "                cnt += 1\n",
    "        return cnt"
   ]
  },
  {
   "cell_type": "code",
   "execution_count": null,
   "metadata": {},
   "outputs": [],
   "source": []
  },
  {
   "cell_type": "code",
   "execution_count": null,
   "metadata": {},
   "outputs": [],
   "source": []
  },
  {
   "cell_type": "code",
   "execution_count": 101,
   "metadata": {},
   "outputs": [],
   "source": [
    "class Solution:\n",
    "    def numTimesAllBlue(self, light: List[int]) -> int:\n",
    "        right = res = 0\n",
    "        # right = i 的时候，cnt + 1,说明之前的灯已经全部打开了\n",
    "        # 其实 i 就是打开灯的数量\n",
    "        for i, a in enumerate(light, 1):\n",
    "            print(i, a)\n",
    "            right = max(right, a)\n",
    "            if right == i:\n",
    "                res += 1\n",
    "        return res"
   ]
  },
  {
   "cell_type": "code",
   "execution_count": 102,
   "metadata": {},
   "outputs": [
    {
     "name": "stdout",
     "output_type": "stream",
     "text": [
      "1 2\n",
      "2 1\n",
      "3 3\n",
      "4 5\n",
      "5 4\n"
     ]
    },
    {
     "data": {
      "text/plain": [
       "3"
      ]
     },
     "execution_count": 102,
     "metadata": {},
     "output_type": "execute_result"
    }
   ],
   "source": [
    "solution = Solution()\n",
    "solution.numTimesAllBlue(light = [2,1,3,5,4])"
   ]
  },
  {
   "cell_type": "code",
   "execution_count": 74,
   "metadata": {},
   "outputs": [],
   "source": [
    "a = [1, 2]\n",
    "a.remove(1)"
   ]
  },
  {
   "cell_type": "code",
   "execution_count": null,
   "metadata": {},
   "outputs": [],
   "source": []
  }
 ],
 "metadata": {
  "kernelspec": {
   "display_name": "Python 3",
   "language": "python",
   "name": "python3"
  },
  "language_info": {
   "codemirror_mode": {
    "name": "ipython",
    "version": 3
   },
   "file_extension": ".py",
   "mimetype": "text/x-python",
   "name": "python",
   "nbconvert_exporter": "python",
   "pygments_lexer": "ipython3",
   "version": "3.6.2"
  }
 },
 "nbformat": 4,
 "nbformat_minor": 4
}
