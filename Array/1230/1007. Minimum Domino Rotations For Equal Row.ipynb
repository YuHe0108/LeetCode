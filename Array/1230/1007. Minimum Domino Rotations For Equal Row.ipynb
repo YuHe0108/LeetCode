{
 "cells": [
  {
   "cell_type": "code",
   "execution_count": null,
   "metadata": {},
   "outputs": [],
   "source": []
  },
  {
   "cell_type": "code",
   "execution_count": null,
   "metadata": {},
   "outputs": [],
   "source": []
  },
  {
   "cell_type": "code",
   "execution_count": 30,
   "metadata": {},
   "outputs": [],
   "source": [
    "from collections import Counter\n",
    "\n",
    "class Solution:\n",
    "    def minDominoRotations(self, A, B):\n",
    "        v1 = self.helper(A, B)\n",
    "        v2 = self.helper(B, A)\n",
    "        if v1 != -1 and v2 != -1:\n",
    "            return min(v1, v2)\n",
    "        elif v1 != -1:\n",
    "            return v1\n",
    "        elif v2 != -1:\n",
    "            return v2\n",
    "        return -1\n",
    "    \n",
    "    def helper(self, A, B):\n",
    "        def check(value): # A中所有数字都要等于value\n",
    "            t_a, t_b = A[::], B[::]\n",
    "            cnt = 0\n",
    "            for i, v in enumerate(t_a):\n",
    "                if v != value:\n",
    "                    if B[i] == value:\n",
    "                        cnt += 1\n",
    "                    else:\n",
    "                        return float('inf'), False\n",
    "            return cnt, True\n",
    "        \n",
    "        # 按照A中各个数字出现的频率排序，优先使得所有的数子等于出现次数最多的那个\n",
    "        n = len(A)\n",
    "        count_a = Counter(A)\n",
    "        sort_count = sorted(count_a.items(), key=lambda x:x[1], reverse=True)\n",
    "        min_res = float('inf')\n",
    "        for k, v in sort_count:\n",
    "            res, state = check(k)\n",
    "            if state:\n",
    "                min_res = min(min_res, res)\n",
    "        return min_res if min_res != float('inf') else -1"
   ]
  },
  {
   "cell_type": "code",
   "execution_count": 31,
   "metadata": {},
   "outputs": [
    {
     "data": {
      "text/plain": [
       "2"
      ]
     },
     "execution_count": 31,
     "metadata": {},
     "output_type": "execute_result"
    }
   ],
   "source": [
    "solution = Solution()\n",
    "solution.minDominoRotations(A = [2,1,2,4,2,2], B = [5,2,6,2,3,2])"
   ]
  },
  {
   "cell_type": "code",
   "execution_count": null,
   "metadata": {},
   "outputs": [],
   "source": []
  },
  {
   "cell_type": "code",
   "execution_count": null,
   "metadata": {},
   "outputs": [],
   "source": []
  },
  {
   "cell_type": "code",
   "execution_count": null,
   "metadata": {},
   "outputs": [],
   "source": []
  }
 ],
 "metadata": {
  "kernelspec": {
   "display_name": "Python 3",
   "language": "python",
   "name": "python3"
  },
  "language_info": {
   "codemirror_mode": {
    "name": "ipython",
    "version": 3
   },
   "file_extension": ".py",
   "mimetype": "text/x-python",
   "name": "python",
   "nbconvert_exporter": "python",
   "pygments_lexer": "ipython3",
   "version": "3.6.2"
  }
 },
 "nbformat": 4,
 "nbformat_minor": 4
}
