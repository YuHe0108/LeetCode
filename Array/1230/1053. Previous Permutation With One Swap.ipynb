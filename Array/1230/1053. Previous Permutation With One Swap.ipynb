{
 "cells": [
  {
   "cell_type": "code",
   "execution_count": null,
   "metadata": {},
   "outputs": [],
   "source": []
  },
  {
   "cell_type": "code",
   "execution_count": null,
   "metadata": {},
   "outputs": [],
   "source": []
  },
  {
   "cell_type": "code",
   "execution_count": 124,
   "metadata": {},
   "outputs": [],
   "source": [
    "from collections import defaultdict\n",
    "\n",
    "class Solution:\n",
    "    def prevPermOpt1(self, arr):\n",
    "        count = defaultdict(list)\n",
    "        for i, v in enumerate(arr):\n",
    "            count[v].append(i)\n",
    "        max_num = max(arr)\n",
    "        \n",
    "        set_num = set(arr)\n",
    "        # 逐个位次看，找一个比当数值大一点的值替换，这个值的idx要尽可能的小\n",
    "        s_arr = [str(x) for x in arr]\n",
    "        for i in range(len(arr)-1, -1, -1):\n",
    "            pre_num = arr[i]\n",
    "            num = pre_num\n",
    "            while num < max_num:\n",
    "                if num + 1 in set_num:\n",
    "                    n_idx = None\n",
    "                    for idx in count[num + 1][::-1]:\n",
    "                        if idx < i:\n",
    "                            n_idx = idx\n",
    "                            break\n",
    "                    if n_idx:\n",
    "                        c_idx = count[pre_num][0]\n",
    "                        s_arr[c_idx], s_arr[n_idx] = s_arr[n_idx], s_arr[c_idx]\n",
    "                        return [int(x) for x in s_arr]\n",
    "                num += 1\n",
    "        return arr"
   ]
  },
  {
   "cell_type": "code",
   "execution_count": null,
   "metadata": {},
   "outputs": [],
   "source": []
  },
  {
   "cell_type": "code",
   "execution_count": null,
   "metadata": {},
   "outputs": [],
   "source": []
  },
  {
   "cell_type": "code",
   "execution_count": null,
   "metadata": {},
   "outputs": [],
   "source": []
  },
  {
   "cell_type": "code",
   "execution_count": 139,
   "metadata": {},
   "outputs": [],
   "source": [
    "class Solution:\n",
    "    def prevPermOpt1(self, arr):\n",
    "        n = len(arr)\n",
    "        for i in range(n-1, -1, -1):\n",
    "            max_val = -float('inf')\n",
    "            idx = None\n",
    "            for j in range(i, len(arr)):\n",
    "                # 保证小与 arr，并且当前的值还是最大的可能情况\n",
    "                if arr[i] > arr[j] and arr[j] > max_val:\n",
    "                    max_val = arr[j]\n",
    "                    idx = j\n",
    "            if idx:\n",
    "                arr[i], arr[idx] = arr[idx], arr[i]\n",
    "                return arr\n",
    "        return arr"
   ]
  },
  {
   "cell_type": "code",
   "execution_count": null,
   "metadata": {},
   "outputs": [],
   "source": []
  },
  {
   "cell_type": "code",
   "execution_count": null,
   "metadata": {},
   "outputs": [],
   "source": []
  },
  {
   "cell_type": "code",
   "execution_count": null,
   "metadata": {},
   "outputs": [],
   "source": []
  },
  {
   "cell_type": "code",
   "execution_count": 133,
   "metadata": {},
   "outputs": [],
   "source": [
    "# 从后往前，找一个比当前的数字要小的数字，并且这个数字要出现在当前数字的后面，就是 c_idx > idx\n",
    "from collections import defaultdict\n",
    "\n",
    "class Solution:\n",
    "    def prevPermOpt1(self, arr):\n",
    "        count = defaultdict(list)\n",
    "        for i, v in enumerate(arr):\n",
    "            count[v].append(i)\n",
    "        min_val = min(arr) # 数组中最小的数字，我们要降低arr中的某个数，这个数字最小为 min_val\n",
    "        set_num = set(arr)\n",
    "        s_arr = arr[::]\n",
    "        for i in range(len(arr)-2, -1, -1):\n",
    "            pre_num = arr[i]\n",
    "            num = pre_num\n",
    "            while num > min_val:\n",
    "                if num - 1 in set_num: # 小于当前数字的数是否存在\n",
    "                    n_idx = None # 小于当前数字的数字的 idx\n",
    "                    for idx in count[num - 1]:\n",
    "                        if idx > i: # 出现在 idx 的后面\n",
    "                            n_idx = idx\n",
    "                            break\n",
    "                    if n_idx:\n",
    "                        s_arr[i], s_arr[n_idx] = s_arr[n_idx], s_arr[i]\n",
    "                        return s_arr\n",
    "                num -= 1\n",
    "        return arr"
   ]
  },
  {
   "cell_type": "code",
   "execution_count": null,
   "metadata": {},
   "outputs": [],
   "source": []
  },
  {
   "cell_type": "code",
   "execution_count": null,
   "metadata": {},
   "outputs": [],
   "source": []
  },
  {
   "cell_type": "code",
   "execution_count": 137,
   "metadata": {},
   "outputs": [],
   "source": [
    "class Solution:\n",
    "    def prevPermOpt1(self, arr):\n",
    "        for i in range(len(arr)-2, -1, -1):\n",
    "            val = arr[i]\n",
    "            min_val = float('inf')\n",
    "            for j in range(i+1, len(arr)): # 找后面有没有小于当前值的数字, 有可能存在多个小于num 的数字\n",
    "                if arr[j] < val and arr[j] > -min_val:\n",
    "                    arr[i], arr[j] = arr[j], arr[i]\n",
    "                    return arr\n",
    "        return arr"
   ]
  },
  {
   "cell_type": "code",
   "execution_count": 138,
   "metadata": {},
   "outputs": [
    {
     "data": {
      "text/plain": [
       "[1, 3, 1, 3]"
      ]
     },
     "execution_count": 138,
     "metadata": {},
     "output_type": "execute_result"
    }
   ],
   "source": [
    "solution = Solution()\n",
    "solution.prevPermOpt1([3,1,1,3])"
   ]
  },
  {
   "cell_type": "code",
   "execution_count": null,
   "metadata": {},
   "outputs": [],
   "source": [
    "[1,1,9,4,9,7,7,5,3,10,4,10,2,3,4,9,4,6,5,10,7,2,9,4,10,7,10,5,10,9,5,3,6,9,3,1,2,9,1,4,5,1,3,2,10,7,9,6,9,6,9,9,1,8,7,8,9,5,9,8,6,1,10,9]\n",
    "[1,1,9,4,9,7,7,5,3,10,4,10,2,3,4,9,4,6,5,10,7,2,9,4,10,7,10,5,10,9,5,3,6,9,3,1,2,9,1,4,5,1,3,2,10,7,9,6,9,6,9,9,1,8,7,8,9,5,9,8,6,1,9,10]\n",
    " 1 1 9 4 9 7 7 5 3 10 4 10 2 3 4 9 4 6 5 10 7 2 9 4 10 7 10 5 10 9 5 3 6 9 3 1 2 9 1 4 5 1 3 2 10 7 9 6 9 6 9 9 1 8 7 8 9 5 9 8 1 6,10 9"
   ]
  },
  {
   "cell_type": "code",
   "execution_count": 105,
   "metadata": {},
   "outputs": [
    {
     "data": {
      "text/plain": [
       "False"
      ]
     },
     "execution_count": 105,
     "metadata": {},
     "output_type": "execute_result"
    }
   ],
   "source": [
    "'6 1 9 10' < '6 1 10 9'"
   ]
  },
  {
   "cell_type": "code",
   "execution_count": null,
   "metadata": {},
   "outputs": [],
   "source": [
    "return s_arr\n",
    "                    if ''.join(s_arr) < cur_val:\n",
    "                        max_val = max(max_val, ''.join(s_arr))\n",
    "                        res = [int(x) for x in s_arr]\n",
    "                    s_arr[i], s_arr[idx] = s_arr[idx], s_arr[i]\n",
    "                num += 1"
   ]
  }
 ],
 "metadata": {
  "kernelspec": {
   "display_name": "Python 3",
   "language": "python",
   "name": "python3"
  },
  "language_info": {
   "codemirror_mode": {
    "name": "ipython",
    "version": 3
   },
   "file_extension": ".py",
   "mimetype": "text/x-python",
   "name": "python",
   "nbconvert_exporter": "python",
   "pygments_lexer": "ipython3",
   "version": "3.6.2"
  }
 },
 "nbformat": 4,
 "nbformat_minor": 4
}
