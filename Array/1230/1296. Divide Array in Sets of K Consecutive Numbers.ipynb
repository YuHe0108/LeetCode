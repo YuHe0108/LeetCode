{
 "cells": [
  {
   "cell_type": "code",
   "execution_count": null,
   "metadata": {},
   "outputs": [],
   "source": [
    "heapq.heapify(nums)\n",
    "        while nums:\n",
    "            temp, seen = [], {}\n",
    "            for _ in range(k):\n",
    "                val = heapq.heappop()\n",
    "                if val in seen:\n",
    "                    heapq.heappush(val)\n",
    "                temp.append(val)\n",
    "                seen.add(val)\n",
    "                    \n",
    "            print(temp)\n",
    "        return True"
   ]
  },
  {
   "cell_type": "code",
   "execution_count": null,
   "metadata": {},
   "outputs": [],
   "source": []
  },
  {
   "cell_type": "code",
   "execution_count": null,
   "metadata": {},
   "outputs": [],
   "source": []
  },
  {
   "cell_type": "code",
   "execution_count": 53,
   "metadata": {},
   "outputs": [],
   "source": [
    "from collections import Counter\n",
    "import heapq\n",
    "\n",
    "class Solution:\n",
    "    def isPossibleDivide(self, nums, k):\n",
    "        n = len(nums)\n",
    "        if n % k != 0:\n",
    "            return False\n",
    "        \n",
    "        count = Counter(nums)\n",
    "        nums.sort()\n",
    "        for key in nums:\n",
    "            if count[key] == 0:\n",
    "                continue\n",
    "            for i in range(k):\n",
    "                val = key + i\n",
    "                if count[val] == 0:\n",
    "                    return False\n",
    "                count[val] -= 1\n",
    "        return sum(count.values()) == 0"
   ]
  },
  {
   "cell_type": "code",
   "execution_count": 54,
   "metadata": {},
   "outputs": [
    {
     "data": {
      "text/plain": [
       "True"
      ]
     },
     "execution_count": 54,
     "metadata": {},
     "output_type": "execute_result"
    }
   ],
   "source": [
    "solution = Solution()\n",
    "solution.isPossibleDivide(nums = [3,3,2,2,1,1], k = 3)"
   ]
  },
  {
   "cell_type": "code",
   "execution_count": null,
   "metadata": {},
   "outputs": [],
   "source": []
  }
 ],
 "metadata": {
  "kernelspec": {
   "display_name": "Python 3",
   "language": "python",
   "name": "python3"
  },
  "language_info": {
   "codemirror_mode": {
    "name": "ipython",
    "version": 3
   },
   "file_extension": ".py",
   "mimetype": "text/x-python",
   "name": "python",
   "nbconvert_exporter": "python",
   "pygments_lexer": "ipython3",
   "version": "3.6.2"
  }
 },
 "nbformat": 4,
 "nbformat_minor": 4
}
