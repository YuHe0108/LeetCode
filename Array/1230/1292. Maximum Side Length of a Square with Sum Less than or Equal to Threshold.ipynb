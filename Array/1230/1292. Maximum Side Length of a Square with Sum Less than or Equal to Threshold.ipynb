{
 "cells": [
  {
   "cell_type": "code",
   "execution_count": null,
   "metadata": {},
   "outputs": [],
   "source": []
  },
  {
   "cell_type": "code",
   "execution_count": null,
   "metadata": {},
   "outputs": [],
   "source": []
  },
  {
   "cell_type": "markdown",
   "metadata": {},
   "source": [
    "<img src='1292.jpg'>\n",
    "<img src='1292_1.jpg'>"
   ]
  },
  {
   "cell_type": "code",
   "execution_count": 98,
   "metadata": {},
   "outputs": [],
   "source": [
    "class Solution:\n",
    "    def maxSideLength(self, mat, threshold: int) -> int:\n",
    "        def getRect(x1, y1, x2, y2):\n",
    "            return p[x2][y2] - p[x1-1][y2] - p[x2][y1-1] + p[x1-1][y1-1]\n",
    "        \n",
    "        n, m = len(mat), len(mat[0])\n",
    "        # 计算矩阵的前缀和的方法\n",
    "        p = [[0] * (m+1) for _ in range(n+1)]\n",
    "        for i in range(1, n+1):\n",
    "            for j in range(1, m+1):\n",
    "                p[i][j] =  p[i-1][j] + p[i][j-1] - p[i-1][j-1] + mat[i-1][j-1]\n",
    "\n",
    "        left, right = 1, min(m, n)\n",
    "        ans = 0\n",
    "        while left <= right:\n",
    "            mid = left + (right - left) // 2\n",
    "            if any(getRect(i, j, i+mid-1, j+mid-1) <= threshold for i in range(1, n-mid+2) for j in range(1, m-mid+2)):\n",
    "                left = mid + 1\n",
    "                ans = mid\n",
    "            else:\n",
    "                right = mid - 1\n",
    "        return ans"
   ]
  },
  {
   "cell_type": "code",
   "execution_count": 100,
   "metadata": {},
   "outputs": [
    {
     "name": "stdout",
     "output_type": "stream",
     "text": [
      "[[0, 0, 0, 0, 0, 0, 0, 0], [0, 1, 2, 5, 7, 11, 14, 16], [0, 2, 4, 10, 14, 22, 28, 32], [0, 3, 6, 15, 21, 33, 42, 48]]\n"
     ]
    },
    {
     "data": {
      "text/plain": [
       "2"
      ]
     },
     "execution_count": 100,
     "metadata": {},
     "output_type": "execute_result"
    }
   ],
   "source": [
    "solution = Solution()\n",
    "solution.maxSideLength(mat = [[1,1,3,2,4,3,2],\n",
    "                              [1,1,3,2,4,3,2],\n",
    "                              [1,1,3,2,4,3,2]], threshold = 4)"
   ]
  },
  {
   "cell_type": "code",
   "execution_count": null,
   "metadata": {},
   "outputs": [],
   "source": [
    "[[0, 0, 0, 0, 0, 0, 0, 0], \n",
    " [0, 1, 2, 5, 7, 11, 14, 16], \n",
    " [0, 2, 4, 10, 14, 22, 28, 32], \n",
    " [0, 3, 6, 15, 21, 33, 42, 48]]"
   ]
  },
  {
   "cell_type": "code",
   "execution_count": null,
   "metadata": {},
   "outputs": [],
   "source": []
  },
  {
   "cell_type": "code",
   "execution_count": 94,
   "metadata": {},
   "outputs": [],
   "source": [
    "class Solution:\n",
    "    def maxSideLength(self, mat, threshold):\n",
    "        def check(length):\n",
    "            for i in range(rows - length + 1):\n",
    "                end_i = i + length\n",
    "                for j in range(cols - length + 1):\n",
    "                    end_j = j + length\n",
    "                    temp_area = 0\n",
    "                    for r in range(i, end_i):\n",
    "                        temp_area += presum[r][end_j] - presum[r][j]\n",
    "                    if temp_area <= threshold:\n",
    "                        return temp_area\n",
    "            return temp_area\n",
    "        \n",
    "        rows, cols = len(mat), len(mat[0])\n",
    "        max_len = min(rows, cols) # 正方形的最大变成为 max_len\n",
    "        \n",
    "        # 0 ~ max_len 进行二分查找\n",
    "        presum = [] # 每一行的presum\n",
    "        for i in range(rows):\n",
    "            sum_val = [0]\n",
    "            for j in range(cols):\n",
    "                sum_val.append(sum_val[-1] + mat[i][j])\n",
    "            presum.append(sum_val)\n",
    "        \n",
    "        max_side = -float('inf')\n",
    "        left, right = 0, max_len\n",
    "        while left <= right:\n",
    "            mid = left + (right - left) // 2\n",
    "            res = check(mid) \n",
    "            if res <= threshold:\n",
    "                max_side = max(max_side, mid)\n",
    "                left = mid + 1\n",
    "            else:\n",
    "                right = mid - 1\n",
    "        return max_side"
   ]
  },
  {
   "cell_type": "code",
   "execution_count": 95,
   "metadata": {},
   "outputs": [
    {
     "data": {
      "text/plain": [
       "2"
      ]
     },
     "execution_count": 95,
     "metadata": {},
     "output_type": "execute_result"
    }
   ],
   "source": [
    "solution = Solution()\n",
    "solution.maxSideLength(mat = [[18,70],[61,1],[25,85],[14,40],[11,96],[97,96],[63,45]], threshold = 40184)"
   ]
  },
  {
   "cell_type": "code",
   "execution_count": null,
   "metadata": {},
   "outputs": [],
   "source": [
    "[0, 1, 2, 5, 7, 11, 14, 16], \n",
    "[0, 1, 2, 5, 7, 11, 14, 16], \n",
    "[0, 1, 2, 5, 7, 11, 14, 16]"
   ]
  }
 ],
 "metadata": {
  "kernelspec": {
   "display_name": "Python 3",
   "language": "python",
   "name": "python3"
  },
  "language_info": {
   "codemirror_mode": {
    "name": "ipython",
    "version": 3
   },
   "file_extension": ".py",
   "mimetype": "text/x-python",
   "name": "python",
   "nbconvert_exporter": "python",
   "pygments_lexer": "ipython3",
   "version": "3.6.2"
  }
 },
 "nbformat": 4,
 "nbformat_minor": 4
}
