{
 "cells": [
  {
   "cell_type": "raw",
   "metadata": {},
   "source": [
    "说明：\n",
    "    有些人会提出朋友请求。给出了他们的年龄列表，并且ages [i]是第i个人的年龄。\n",
    "    如果满足以下任一条件，则A人不会邀请B人（B！= A）成为朋友：\n",
    "    \n",
    "    1、age[B] <= 0.5 * age[A] + 7\n",
    "    2、age[B] > age[A]\n",
    "    3、age[B] > 100 && age[A] < 100\n",
    "    \n",
    "    总结： B的年龄应该满足\n",
    "        0.5 * age[A] + 7 < age[B] <= age[A]，并且当 A < 100的时候，age[B] <= 100\n",
    "\n",
    "否则，A将请求B成为朋友。\n",
    "    请注意，如果A请求B，则B不一定会请求A。而且，人们也不会自己请求。总共请求了多少个朋友？\n",
    "\n",
    "Example 1:\n",
    "    Input: [16,16]\n",
    "    Output: 2\n",
    "    Explanation: 2 people friend request each other.\n",
    "\n",
    "Example 2:\n",
    "    Input: [16,17,18]\n",
    "    Output: 2\n",
    "    Explanation: Friend requests are made 17 -> 16, 18 -> 17.\n",
    "\n",
    "Example 3:\n",
    "    Input: [20,30,100,110,120]\n",
    "    Output: 3\n",
    "    Explanation: Friend requests are made 110 -> 100, 120 -> 110, 120 -> 100.\n",
    "\n",
    "Notes:\n",
    "    1、1 <= ages.length <= 20000.\n",
    "    2、1 <= ages[i] <= 120."
   ]
  },
  {
   "cell_type": "code",
   "execution_count": 50,
   "metadata": {},
   "outputs": [],
   "source": [
    "from collections import Counter\n",
    "# 时间复杂度过高\n",
    "class Solution:\n",
    "    def numFriendRequests(self, ages) -> int:\n",
    "        def check(A, B):\n",
    "            a = 0.5 * A + 7 >= B\n",
    "            b = B > A\n",
    "            c = True if B > 100 and A < 100 else False\n",
    "            if not a and not b and not c:\n",
    "                return True\n",
    "            return False\n",
    "        \n",
    "        ages_count = Counter(ages)\n",
    "        print(ages_count)\n",
    "        count = 0\n",
    "        if len(ages) < 2: \n",
    "            return count\n",
    "        \n",
    "        seen = set()\n",
    "        for i in range(len(ages)):\n",
    "            if ages[i] in seen:\n",
    "                continue\n",
    "            seen.add(ages[i])\n",
    "            for j in range(i+1, len(ages)):\n",
    "                if ages[j] in seen:\n",
    "                    continue\n",
    "                seen.add(ages[j])\n",
    "                if check(ages[i], ages[j]):\n",
    "                    count += ages_count[ages[i]]\n",
    "                if check(ages[j], ages[i]):\n",
    "                    count += ages_count[ages[j]]\n",
    "                    \n",
    "        return count"
   ]
  },
  {
   "cell_type": "code",
   "execution_count": 51,
   "metadata": {},
   "outputs": [
    {
     "name": "stdout",
     "output_type": "stream",
     "text": [
      "Counter({20: 1, 30: 1, 100: 1, 110: 1, 120: 1})\n"
     ]
    },
    {
     "data": {
      "text/plain": [
       "0"
      ]
     },
     "execution_count": 51,
     "metadata": {},
     "output_type": "execute_result"
    }
   ],
   "source": [
    "solution = Solution()\n",
    "solution.numFriendRequests([20,30,100,110,120])"
   ]
  },
  {
   "cell_type": "code",
   "execution_count": 4,
   "metadata": {},
   "outputs": [],
   "source": [
    "A = 2\n",
    "B = 3\n",
    "a = 0.5 * A + 7 < B <= A"
   ]
  },
  {
   "cell_type": "code",
   "execution_count": 5,
   "metadata": {},
   "outputs": [
    {
     "data": {
      "text/plain": [
       "False"
      ]
     },
     "execution_count": 5,
     "metadata": {},
     "output_type": "execute_result"
    }
   ],
   "source": [
    "a"
   ]
  },
  {
   "cell_type": "code",
   "execution_count": null,
   "metadata": {},
   "outputs": [],
   "source": [
    "class Solution:\n",
    "    def numFriendRequests(self, ages: List[int]) -> int:\n",
    "        ## RC ##\n",
    "        ## APPROACH  : BINARY SEARCH ##\n",
    "        ## 1. Sort by age\n",
    "        ## 2. index i person will not send friend request to ages[i]+1, ages[i]+2 ....\n",
    "        ## 3. index i person will not send friend request to elements whose age is less than (0.5 * ages[i] + 7)\n",
    "        ## 4. Using binary search we can find upper and lower limit, persons which fall in this range, can send friend requests (remove 1, ith person itself)\n",
    "        \n",
    "        ages.sort()\n",
    "        count = 0\n",
    "        for i in range(len(ages)):\n",
    "            left = bisect.bisect_right( ages, (0.5 * ages[i]) + 7 )\n",
    "            right = bisect.bisect_right( ages, ages[i])\n",
    "            count += max(0, right - left - 1)                       # you cannot have negative count\n",
    "        return count\n",
    "    \n",
    "        ## APPROACH : COUNTER ##\n",
    "        ages = collections.Counter(ages)\n",
    "        ans = 0\n",
    "        for ageA, countA in ages.items():\n",
    "            for ageB, countB in ages.items():\n",
    "                if ageA * 0.5 + 7 >= ageB: continue\n",
    "                if ageA < ageB: continue\n",
    "                ans += countA * countB\n",
    "                if ageA == ageB: ans -= countA\n",
    "        return ans\n",
    "    "
   ]
  },
  {
   "cell_type": "code",
   "execution_count": null,
   "metadata": {},
   "outputs": [],
   "source": [
    "from collections import Counter\n",
    "class Solution:\n",
    "    def numFriendRequests(self, ages) -> int:\n",
    "        ages = Counter(ages)\n",
    "        ans = 0\n",
    "        for age_a, count_a in ages.items():\n",
    "            for age_b, count_b in ages.items():\n",
    "                if age_a * 0.5 + 7 >= age_b:\n",
    "                    continue\n",
    "                if age_a < age_b:\n",
    "                    continue\n",
    "                if age_a < 100 and age_b > 100:\n",
    "                    continue\n",
    "                ans += count_a * count_b\n",
    "                if age_a == age_b:\n",
    "                    ans -= count_a\n",
    "        return ans"
   ]
  }
 ],
 "metadata": {
  "kernelspec": {
   "display_name": "Python 3",
   "language": "python",
   "name": "python3"
  },
  "language_info": {
   "codemirror_mode": {
    "name": "ipython",
    "version": 3
   },
   "file_extension": ".py",
   "mimetype": "text/x-python",
   "name": "python",
   "nbconvert_exporter": "python",
   "pygments_lexer": "ipython3",
   "version": "3.6.2"
  }
 },
 "nbformat": 4,
 "nbformat_minor": 4
}
