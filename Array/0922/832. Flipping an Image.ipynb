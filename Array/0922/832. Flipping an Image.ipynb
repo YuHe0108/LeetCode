{
 "cells": [
  {
   "cell_type": "raw",
   "metadata": {},
   "source": [
    "说明：\n",
    "    给定一个二进制矩阵A，我们想水平翻转图像，然后将其反转，然后返回结果图像。\n",
    "    水平翻转图像意味着图像的每一行都反转了。\n",
    "    例如，水平翻转[1，1，0]会得到[0，1，1]。\n",
    "    反转图像意味着将每个0替换为1，并将每个1替换为0。\n",
    "    例如，反转[0，1，1]会得出[1，0，0]。\n",
    "\n",
    "Example 1:\n",
    "    Input: \n",
    "        [[1,1,0],\n",
    "         [1,0,1],\n",
    "         [0,0,0]]\n",
    "    Output: \n",
    "        [[1,0,0],\n",
    "         [0,1,0],\n",
    "         [1,1,1]]\n",
    "    Explanation: First reverse each row: [[0,1,1],[1,0,1],[0,0,0]].\n",
    "                 Then, invert the image: [[1,0,0],[0,1,0],[1,1,1]]\n",
    "\n",
    "Example 2:\n",
    "    Input: \n",
    "        [[1,1,0,0],\n",
    "         [1,0,0,1],\n",
    "         [0,1,1,1],\n",
    "         [1,0,1,0]]\n",
    "    Output: \n",
    "        [[1,1,0,0],\n",
    "         [0,1,1,0],\n",
    "         [0,0,0,1],\n",
    "         [1,0,1,0]]\n",
    "    Explanation: First reverse each row: [[0,0,1,1],[1,0,0,1],[1,1,1,0],[0,1,0,1]].\n",
    "                 Then invert the image: [[1,1,0,0],[0,1,1,0],[0,0,0,1],[1,0,1,0]]\n",
    "\n",
    "Notes:\n",
    "    1、1 <= A.length = A[0].length <= 20\n",
    "    2、0 <= A[i][j] <= 1"
   ]
  },
  {
   "cell_type": "code",
   "execution_count": 25,
   "metadata": {},
   "outputs": [],
   "source": [
    "class Solution:\n",
    "    def flipAndInvertImage(self, A):\n",
    "        rows, cols = len(A), len(A[0])\n",
    "        for i in range(rows):\n",
    "            A[i].reverse()\n",
    "        \n",
    "        for i in range(rows):\n",
    "            for j in range(cols):\n",
    "                val = A[i][j]\n",
    "                if val == 1:\n",
    "                    A[i][j] = 0\n",
    "                elif val == 0:\n",
    "                    A[i][j] = 1\n",
    "        return A"
   ]
  },
  {
   "cell_type": "code",
   "execution_count": 26,
   "metadata": {},
   "outputs": [
    {
     "data": {
      "text/plain": [
       "[[1, 0, 0], [0, 1, 0], [1, 1, 1]]"
      ]
     },
     "execution_count": 26,
     "metadata": {},
     "output_type": "execute_result"
    }
   ],
   "source": [
    "solution = Solution()\n",
    "solution.flipAndInvertImage([[1,1,0],[1,0,1],[0,0,0]])"
   ]
  },
  {
   "cell_type": "code",
   "execution_count": 5,
   "metadata": {},
   "outputs": [
    {
     "name": "stdout",
     "output_type": "stream",
     "text": [
      "None\n"
     ]
    }
   ],
   "source": [
    "a = [1, 2, 3]\n",
    "print(a.reverse())"
   ]
  },
  {
   "cell_type": "code",
   "execution_count": null,
   "metadata": {},
   "outputs": [],
   "source": []
  }
 ],
 "metadata": {
  "kernelspec": {
   "display_name": "Python 3",
   "language": "python",
   "name": "python3"
  },
  "language_info": {
   "codemirror_mode": {
    "name": "ipython",
    "version": 3
   },
   "file_extension": ".py",
   "mimetype": "text/x-python",
   "name": "python",
   "nbconvert_exporter": "python",
   "pygments_lexer": "ipython3",
   "version": "3.6.2"
  }
 },
 "nbformat": 4,
 "nbformat_minor": 4
}
