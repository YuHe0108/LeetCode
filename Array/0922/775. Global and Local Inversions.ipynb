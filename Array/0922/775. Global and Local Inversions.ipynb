{
 "cells": [
  {
   "cell_type": "raw",
   "metadata": {},
   "source": [
    "说明：\n",
    "    我们有一个[0，1，...，N-1]的permutation A，其中N是A的长度。\n",
    "    (global) inversions 的次数是i < j的数量，0 <= i <j < N  并且A [i]> A [j]。\n",
    "    local inversions 的数量是0 <= i <N 且A [i] > A [i+1]的i的数量。\n",
    "    当且仅当全局反转的数量等于局部反转的数量时，才返回true。\n",
    "\n",
    "Example 1:\n",
    "    Input: A = [1,0,2]\n",
    "    Output: true\n",
    "    Explanation: There is 1 global inversion, and 1 local inversion.\n",
    "\n",
    "Example 2:\n",
    "    Input: A = [1,2,0]\n",
    "    Output: false\n",
    "    Explanation: There are 2 global inversions, and 1 local inversion.\n",
    "\n",
    "Note:\n",
    "    1、A will be a permutation of [0, 1, ..., A.length - 1].\n",
    "    2、A will have length in range [1, 5000].\n",
    "    3、The time limit for this problem has been reduced."
   ]
  },
  {
   "cell_type": "code",
   "execution_count": 2,
   "metadata": {},
   "outputs": [],
   "source": [
    "class Solution:\n",
    "    def isIdealPermutation(self, A) -> bool:\n",
    "        pass"
   ]
  },
  {
   "cell_type": "code",
   "execution_count": null,
   "metadata": {},
   "outputs": [],
   "source": []
  }
 ],
 "metadata": {
  "kernelspec": {
   "display_name": "Python 3",
   "language": "python",
   "name": "python3"
  },
  "language_info": {
   "codemirror_mode": {
    "name": "ipython",
    "version": 3
   },
   "file_extension": ".py",
   "mimetype": "text/x-python",
   "name": "python",
   "nbconvert_exporter": "python",
   "pygments_lexer": "ipython3",
   "version": "3.6.2"
  }
 },
 "nbformat": 4,
 "nbformat_minor": 4
}
