{
 "cells": [
  {
   "cell_type": "raw",
   "metadata": {},
   "source": [
    "说明：\n",
    "    给定一个正整数数组A，以及两个正整数L和R（L <= R）。\n",
    "    返回（连续的，非空的）子数组的数量，以使该子数组中最大数组元素的值至少为L，最多为R。\n",
    "    L <= max(sub_array) <= R\n",
    "\n",
    "Example :\n",
    "    Input: \n",
    "        A = [2, 1, 4, 3]\n",
    "    L = 2\n",
    "    R = 3\n",
    "    Output: 3\n",
    "    Explanation: There are three subarrays that meet the requirements: [2], [2, 1], [3].\n",
    "\n",
    "Note:\n",
    "    1、L, R  and A[i] will be an integer in the range [0, 10^9].\n",
    "    2、The length of A will be in the range of [1, 50000].    "
   ]
  },
  {
   "cell_type": "code",
   "execution_count": 3,
   "metadata": {},
   "outputs": [],
   "source": [
    "class Solution:\n",
    "    def numSubarrayBoundedMax(self, A, L: int, R: int) -> int:        \n",
    "        # 找最初满足条件的在 A 中的起始点\n",
    "        start_idx = -1\n",
    "        for i, a in enumerate(A):\n",
    "            if L <= a <= R:\n",
    "                start_idx = i\n",
    "                break\n",
    "        if start_idx == -1: return 0\n",
    "        \n",
    "        res = 0\n",
    "        for i in range(start_idx, len(A)):\n",
    "            pass\n",
    "        \n",
    "        while start_idx < len(A):\n",
    "            if A[i] > R:\n",
    "                start_idx = i + 1\n",
    "                continue\n",
    "            start_idx += 1\n",
    "            res += 1\n",
    "        return res"
   ]
  },
  {
   "cell_type": "code",
   "execution_count": 21,
   "metadata": {},
   "outputs": [],
   "source": [
    "class Solution:\n",
    "    def numSubarrayBoundedMax(self, A, L: int, R: int) -> int:\n",
    "        \n",
    "        def count(A, bound):\n",
    "            result, curr = 0, 0\n",
    "            for a in A:\n",
    "                curr = curr + 1 if a <= bound else 0\n",
    "                result += curr\n",
    "            return result\n",
    "        return count(A, R) - count(A, L-1)"
   ]
  },
  {
   "cell_type": "code",
   "execution_count": 22,
   "metadata": {},
   "outputs": [
    {
     "data": {
      "text/plain": [
       "5"
      ]
     },
     "execution_count": 22,
     "metadata": {},
     "output_type": "execute_result"
    }
   ],
   "source": [
    "A_ = [1, 2, 1, 4, 3]\n",
    "L_ = 2\n",
    "R_ = 3\n",
    "solution = Solution()\n",
    "solution.numSubarrayBoundedMax(A_, L_, R_)"
   ]
  },
  {
   "cell_type": "code",
   "execution_count": null,
   "metadata": {},
   "outputs": [],
   "source": []
  }
 ],
 "metadata": {
  "kernelspec": {
   "display_name": "Python 3",
   "language": "python",
   "name": "python3"
  },
  "language_info": {
   "codemirror_mode": {
    "name": "ipython",
    "version": 3
   },
   "file_extension": ".py",
   "mimetype": "text/x-python",
   "name": "python",
   "nbconvert_exporter": "python",
   "pygments_lexer": "ipython3",
   "version": "3.6.2"
  }
 },
 "nbformat": 4,
 "nbformat_minor": 4
}
