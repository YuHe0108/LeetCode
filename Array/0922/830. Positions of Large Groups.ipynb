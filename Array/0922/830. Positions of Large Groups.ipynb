{
 "cells": [
  {
   "cell_type": "raw",
   "metadata": {},
   "source": [
    "说明：\n",
    "    在小写字母的字符串s中，这些字母形成相同字符的连续组。\n",
    "    例如，类似s =“ abbxxxxzyy”的字符串具有组“ a”，“ bb”，“ xxxx”，“ z”和“ yy”。\n",
    "    组由间隔[start，end]标识，其中start和end表示组的开始索引和结束索引（包括端点）\n",
    "    。在上面的示例中，“ xxxx”的间隔为[3,6]。如\n",
    "    果一个组有3个或更多字符，则认为该组很大。\n",
    "    返回按起始索引按升序排序的每个大组的间隔。\n",
    "\n",
    "Example 1:\n",
    "    Input: s = \"abbxxxxzzy\"\n",
    "    Output: [[3,6]]\n",
    "    Explanation: \"xxxx\" is the only large group with start index 3 and end index 6.\n",
    "\n",
    "Example 2:\n",
    "    Input: s = \"abc\"\n",
    "    Output: []\n",
    "    Explanation: We have groups \"a\", \"b\", and \"c\", none of which are large groups.\n",
    "\n",
    "Example 3:\n",
    "    Input: s = \"abcdddeeeeaabbbcd\"\n",
    "    Output: [[3,5],[6,9],[12,14]]\n",
    "    Explanation: The large groups are \"ddd\", \"eeee\", and \"bbb\".\n",
    "\n",
    "Example 4:\n",
    "    Input: s = \"aba\"\n",
    "    Output: []\n",
    " \n",
    "Constraints:\n",
    "    1、1 <= s.length <= 1000\n",
    "    2、s contains lower-case English letters only."
   ]
  },
  {
   "cell_type": "code",
   "execution_count": 20,
   "metadata": {},
   "outputs": [],
   "source": [
    "class Solution:\n",
    "    def largeGroupPositions(self, s: str):\n",
    "        if len(s) < 3: return []\n",
    "        s_freq = {}\n",
    "        for i, w in enumerate(s):\n",
    "            if w not in s_freq:\n",
    "                s_freq[w] = [i]\n",
    "            else:\n",
    "                s_freq[w].append(i)\n",
    "        \n",
    "        print(s_freq)\n",
    "        ans = []\n",
    "        for key, val in s_freq.items():\n",
    "            if len(val) >= 3:\n",
    "                start = 0\n",
    "                if val[start] + 1 =\n",
    "        return ans"
   ]
  },
  {
   "cell_type": "code",
   "execution_count": 49,
   "metadata": {},
   "outputs": [],
   "source": [
    "class Solution:\n",
    "    def largeGroupPositions(self, s: str):\n",
    "        if len(s) < 3: return []\n",
    "        ans = []\n",
    "        left = 0\n",
    "        idx = 1\n",
    "        s += '*'\n",
    "        while idx < len(s):\n",
    "            if s[idx] != s[left]:\n",
    "                length = idx - left\n",
    "                if length >= 3:\n",
    "                    res = [left, idx-1]\n",
    "                    ans.append(res)\n",
    "                left = idx\n",
    "            idx += 1\n",
    "        return ans"
   ]
  },
  {
   "cell_type": "code",
   "execution_count": 50,
   "metadata": {},
   "outputs": [
    {
     "data": {
      "text/plain": [
       "[[0, 2]]"
      ]
     },
     "execution_count": 50,
     "metadata": {},
     "output_type": "execute_result"
    }
   ],
   "source": [
    "solution = Solution()\n",
    "solution.largeGroupPositions(\"aaa\")"
   ]
  },
  {
   "cell_type": "code",
   "execution_count": null,
   "metadata": {},
   "outputs": [],
   "source": []
  }
 ],
 "metadata": {
  "kernelspec": {
   "display_name": "Python 3",
   "language": "python",
   "name": "python3"
  },
  "language_info": {
   "codemirror_mode": {
    "name": "ipython",
    "version": 3
   },
   "file_extension": ".py",
   "mimetype": "text/x-python",
   "name": "python",
   "nbconvert_exporter": "python",
   "pygments_lexer": "ipython3",
   "version": "3.6.2"
  }
 },
 "nbformat": 4,
 "nbformat_minor": 4
}
