{
 "cells": [
  {
   "cell_type": "raw",
   "metadata": {},
   "source": [
    "说明：\n",
    "    给定字符串S和单词word的字典，找到作为S的子序列的单词数[i]。\n",
    "\n",
    "Example :\n",
    "    Input: \n",
    "        S = \"abcde\"\n",
    "    words = [\"a\", \"bb\", \"acd\", \"ace\"]\n",
    "    Output: 3\n",
    "    Explanation: There are three words in words that are a subsequence of S: \"a\", \"acd\", \"ace\".\n",
    "\n",
    "Note:\n",
    "    1、All words in words and S will only consists of lowercase letters.\n",
    "    2、The length of S will be in the range of [1, 50000].\n",
    "    3、The length of words will be in the range of [1, 5000].\n",
    "    4、The length of words[i] will be in the range of [1, 50]."
   ]
  },
  {
   "cell_type": "code",
   "execution_count": 63,
   "metadata": {},
   "outputs": [],
   "source": [
    "class Solution:\n",
    "    def numMatchingSubseq(self, S: str, words) -> int:\n",
    "        \n",
    "        def get_freq(word):\n",
    "            w_freq = {}\n",
    "            for i, w in enumerate(word):\n",
    "                if w not in w_freq:\n",
    "                    w_freq[w] = [i]\n",
    "                else:\n",
    "                    w_freq[w].append(i)\n",
    "            return w_freq\n",
    "        \n",
    "        s_freq = get_freq(S)\n",
    "        print(s_freq)\n",
    "        count = 0\n",
    "        for w in words:\n",
    "            pass\n",
    "        return count"
   ]
  },
  {
   "cell_type": "code",
   "execution_count": 94,
   "metadata": {},
   "outputs": [],
   "source": [
    "from collections import Counter\n",
    "\n",
    "class Solution:\n",
    "    def numMatchingSubseq(self, S: str, words) -> int:\n",
    "        res = 0\n",
    "        for w, c in Counter(words).items():\n",
    "            i, match = 0, True\n",
    "            # 一个单词一个单词找，找到之后，从下一位开始找\n",
    "            for x in w:\n",
    "                i = S.find(x, i) + 1\n",
    "                if i == 0: # 没有找到就是-1，在+1就是0\n",
    "                    match = False\n",
    "                    break\n",
    "            if match:\n",
    "                res += c # words中的单词可能重复\n",
    "        return res"
   ]
  },
  {
   "cell_type": "code",
   "execution_count": 95,
   "metadata": {},
   "outputs": [
    {
     "name": "stdout",
     "output_type": "stream",
     "text": [
      "a a 1\n",
      "b bb 2\n",
      "b bb 0\n",
      "a acd 1\n",
      "c acd 3\n",
      "d acd 4\n",
      "a ace 1\n",
      "c ace 3\n",
      "e ace 5\n"
     ]
    },
    {
     "data": {
      "text/plain": [
       "3"
      ]
     },
     "execution_count": 95,
     "metadata": {},
     "output_type": "execute_result"
    }
   ],
   "source": [
    "S_ = 'abcde'\n",
    "words_ = [\"a\", \"bb\", \"acd\", \"ace\"]\n",
    "solution = Solution()\n",
    "solution.numMatchingSubseq(S_, words_)"
   ]
  },
  {
   "cell_type": "code",
   "execution_count": 84,
   "metadata": {},
   "outputs": [
    {
     "name": "stdout",
     "output_type": "stream",
     "text": [
      "-1\n"
     ]
    }
   ],
   "source": [
    "s = 'abced'\n",
    "print(s.find('bd', 0))"
   ]
  },
  {
   "cell_type": "code",
   "execution_count": 85,
   "metadata": {},
   "outputs": [],
   "source": [
    "a = -1\n",
    "if not a:\n",
    "    print(2)"
   ]
  },
  {
   "cell_type": "code",
   "execution_count": null,
   "metadata": {},
   "outputs": [],
   "source": []
  }
 ],
 "metadata": {
  "kernelspec": {
   "display_name": "Python 3",
   "language": "python",
   "name": "python3"
  },
  "language_info": {
   "codemirror_mode": {
    "name": "ipython",
    "version": 3
   },
   "file_extension": ".py",
   "mimetype": "text/x-python",
   "name": "python",
   "nbconvert_exporter": "python",
   "pygments_lexer": "ipython3",
   "version": "3.6.2"
  }
 },
 "nbformat": 4,
 "nbformat_minor": 4
}
