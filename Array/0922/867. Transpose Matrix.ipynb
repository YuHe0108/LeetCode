{
 "cells": [
  {
   "cell_type": "raw",
   "metadata": {},
   "source": [
    "说明：\n",
    "    给定矩阵A，返回A的转置。\n",
    "    矩阵的转置是将矩阵翻转到其主对角线上，从而切换矩阵的行索引和列索引。\n",
    "\n",
    "Example 1:\n",
    "    Input: [[1,2,3],[4,5,6],[7,8,9]]\n",
    "    Output: [[1,4,7],[2,5,8],[3,6,9]]\n",
    "\n",
    "Example 2:\n",
    "    Input: [[1,2,3],\n",
    "            [4,5,6]]\n",
    "            \n",
    "    Output: [[1,4],\n",
    "             [2,5],\n",
    "             [3,6]]\n",
    "\n",
    "Note:\n",
    "    1、1 <= A.length <= 1000\n",
    "    2、1 <= A[0].length <= 1000"
   ]
  },
  {
   "cell_type": "markdown",
   "metadata": {},
   "source": [
    "<img src='867.jpg'>"
   ]
  },
  {
   "cell_type": "code",
   "execution_count": 25,
   "metadata": {},
   "outputs": [],
   "source": [
    "class Solution:\n",
    "    def transpose(self, A):\n",
    "        rows, cols = len(A), len(A[0])\n",
    "        \n",
    "        new_mat = {}\n",
    "        for i in range(rows):\n",
    "            for j in range(cols):\n",
    "                new_mat.setdefault(j, []).append(A[i][j])\n",
    "        res = []\n",
    "        idx = 0\n",
    "        while idx < cols:\n",
    "            res.append(new_mat[idx])\n",
    "            idx += 1\n",
    "        return res"
   ]
  },
  {
   "cell_type": "code",
   "execution_count": 26,
   "metadata": {},
   "outputs": [
    {
     "data": {
      "text/plain": [
       "[[1, 4], [2, 5], [3, 6]]"
      ]
     },
     "execution_count": 26,
     "metadata": {},
     "output_type": "execute_result"
    }
   ],
   "source": [
    "solution = Solution()\n",
    "solution.transpose([[1,2,3],\n",
    "                    [4,5,6]])"
   ]
  },
  {
   "cell_type": "code",
   "execution_count": 27,
   "metadata": {},
   "outputs": [],
   "source": [
    "class Solution:\n",
    "    def transpose(self, A):\n",
    "        op_list = []\n",
    "        for j in range(len(A[0])):\n",
    "            row = []\n",
    "            for i in range(len(A)):\n",
    "                row.append(A[i][j])\n",
    "            op_list.append(row)\n",
    "        return op_list"
   ]
  },
  {
   "cell_type": "code",
   "execution_count": 28,
   "metadata": {},
   "outputs": [
    {
     "data": {
      "text/plain": [
       "[[1, 4], [2, 5], [3, 6]]"
      ]
     },
     "execution_count": 28,
     "metadata": {},
     "output_type": "execute_result"
    }
   ],
   "source": [
    "solution = Solution()\n",
    "solution.transpose([[1,2,3],\n",
    "                    [4,5,6]])"
   ]
  },
  {
   "cell_type": "code",
   "execution_count": 24,
   "metadata": {},
   "outputs": [
    {
     "data": {
      "text/plain": [
       "[]"
      ]
     },
     "execution_count": 24,
     "metadata": {},
     "output_type": "execute_result"
    }
   ],
   "source": [
    "a = {}\n",
    "a.setdefault('a', [])"
   ]
  },
  {
   "cell_type": "code",
   "execution_count": null,
   "metadata": {},
   "outputs": [],
   "source": []
  }
 ],
 "metadata": {
  "kernelspec": {
   "display_name": "Python 3",
   "language": "python",
   "name": "python3"
  },
  "language_info": {
   "codemirror_mode": {
    "name": "ipython",
    "version": 3
   },
   "file_extension": ".py",
   "mimetype": "text/x-python",
   "name": "python",
   "nbconvert_exporter": "python",
   "pygments_lexer": "ipython3",
   "version": "3.6.2"
  }
 },
 "nbformat": 4,
 "nbformat_minor": 4
}
