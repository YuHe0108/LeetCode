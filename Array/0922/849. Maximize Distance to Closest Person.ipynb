{
 "cells": [
  {
   "cell_type": "raw",
   "metadata": {},
   "source": [
    "说明：\n",
    "    您得到一个代表一排座位的数组，其中 seat [i] = 1代表坐在第i个座位上的人，\n",
    "    而seats [i] = 0代表第i个座位是空的（索引为0）。\n",
    "    至少有一个空座位，至少有一个人坐。\n",
    "    亚历克斯想坐在座位上，以使他和离他最近的人之间的距离最大。\n",
    "    将最大距离返回到最近的人。\n",
    "\n",
    "要求：\n",
    "    返回离最近人最远的距离\n",
    "\n",
    "Example 2:\n",
    "    Input: seats = [1,0,0,0]\n",
    "    Output: 3\n",
    "    Explanation: \n",
    "        If Alex sits in the last seat (i.e. seats[3]), the closest person is 3 seats away.\n",
    "        This is the maximum distance possible, so the answer is 3.\n",
    "\n",
    "Example 3:\n",
    "    Input: seats = [0,1]\n",
    "    Output: 1\n",
    "\n",
    "Constraints:\n",
    "    1、2 <= seats.length <= 2 * 104\n",
    "    2、seats[i] is 0 or 1.\n",
    "    3、At least one seat is empty.\n",
    "    4、At least one seat is occupied."
   ]
  },
  {
   "cell_type": "markdown",
   "metadata": {},
   "source": [
    "<img src='849.jpg' width=550>"
   ]
  },
  {
   "cell_type": "code",
   "execution_count": 38,
   "metadata": {},
   "outputs": [],
   "source": [
    "class Solution:\n",
    "    def maxDistToClosest(self, seats) -> int:\n",
    "        p_left = -1\n",
    "        p_right = -1\n",
    "        count = -float('inf')\n",
    "        for idx, val in enumerate(seats):\n",
    "            if val == 1:\n",
    "                if p_left == -1:\n",
    "                    count = max(count, p_left)\n",
    "                else:\n",
    "                    p_right = idx\n",
    "                    count = max(count, (p_right - p_left) // 2)\n",
    "                p_left = idx\n",
    "        if count == -float('inf') or p_right == -1:\n",
    "            count = max(len(seats) - p_left - 1, p_left)\n",
    "        if p_right != -1:\n",
    "            count = max(count, len(seats) - p_right - 1)\n",
    "        return count"
   ]
  },
  {
   "cell_type": "code",
   "execution_count": 41,
   "metadata": {},
   "outputs": [],
   "source": [
    "class Solution:\n",
    "    def maxDistToClosest(self, seats) -> int:\n",
    "        gap, prev, n = 0, -1, len(seats)\n",
    "        for curr, n in enumerate(seats):\n",
    "            if n:\n",
    "                gap = max(gap, curr if prev < 0 else (curr - prev) // 2)\n",
    "                prev = curr\n",
    "        gap = max(gap, len(seats) - 1 - prev)\n",
    "        return gap        "
   ]
  },
  {
   "cell_type": "code",
   "execution_count": 42,
   "metadata": {},
   "outputs": [
    {
     "data": {
      "text/plain": [
       "2"
      ]
     },
     "execution_count": 42,
     "metadata": {},
     "output_type": "execute_result"
    }
   ],
   "source": [
    "solution = Solution()\n",
    "solution.maxDistToClosest([0,1,1,1,0,0,1,0,0])"
   ]
  },
  {
   "cell_type": "code",
   "execution_count": null,
   "metadata": {},
   "outputs": [],
   "source": []
  }
 ],
 "metadata": {
  "kernelspec": {
   "display_name": "Python 3",
   "language": "python",
   "name": "python3"
  },
  "language_info": {
   "codemirror_mode": {
    "name": "ipython",
    "version": 3
   },
   "file_extension": ".py",
   "mimetype": "text/x-python",
   "name": "python",
   "nbconvert_exporter": "python",
   "pygments_lexer": "ipython3",
   "version": "3.6.2"
  }
 },
 "nbformat": 4,
 "nbformat_minor": 4
}
