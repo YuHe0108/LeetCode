{
 "cells": [
  {
   "cell_type": "raw",
   "metadata": {},
   "source": [
    "说明：\n",
    "    给你一个长度固定的整数数组 arr，请你将该数组中出现的每个零都复写一遍，并将其余的元素向右平移。\n",
    "    注意：请不要在超过该数组长度的位置写入元素。\n",
    "    要求：请对输入的数组 就地 进行上述修改，不要从函数返回任何东西。\n",
    "\n",
    "示例 1：\n",
    "\n",
    "    输入：[1,0,2,3,0,4,5,0]\n",
    "    输出：null\n",
    "    解释：调用函数后，输入的数组将被修改为：[1,0,0,2,3,0,0,4]\n",
    "\n",
    "示例 2：\n",
    "    输入：[1,2,3]\n",
    "    输出：null\n",
    "    解释：调用函数后，输入的数组将被修改为：[1,2,3]\n",
    "\n",
    "提示：\n",
    "    1、1 <= arr.length <= 10000\n",
    "    2、0 <= arr[i] <= 9"
   ]
  },
  {
   "cell_type": "code",
   "execution_count": 4,
   "metadata": {},
   "outputs": [],
   "source": [
    "class Solution:\n",
    "    def duplicateZeros(self, arr) -> None:\n",
    "        \"\"\"\n",
    "        Do not return anything, modify arr in-place instead.\n",
    "        \"\"\"\n",
    "        idx = 0\n",
    "        while idx < len(arr):\n",
    "            if arr[idx] == 0 and idx + 1 < len(arr):\n",
    "                print(arr[idx+1:])\n",
    "                arr[idx+1:] = arr[idx]\n",
    "                arr[idx + 1] = 0\n",
    "                idx += 1\n",
    "            idx += 1\n",
    "        "
   ]
  },
  {
   "cell_type": "code",
   "execution_count": 5,
   "metadata": {},
   "outputs": [
    {
     "name": "stdout",
     "output_type": "stream",
     "text": [
      "[2, 3, 0, 4, 5, 0]\n",
      "[4, 5, 0]\n"
     ]
    }
   ],
   "source": [
    "solution = Solution()\n",
    "solution.duplicateZeros([1,0,2,3,0,4,5,0])"
   ]
  },
  {
   "cell_type": "code",
   "execution_count": null,
   "metadata": {},
   "outputs": [],
   "source": []
  }
 ],
 "metadata": {
  "kernelspec": {
   "display_name": "Python 3",
   "language": "python",
   "name": "python3"
  },
  "language_info": {
   "codemirror_mode": {
    "name": "ipython",
    "version": 3
   },
   "file_extension": ".py",
   "mimetype": "text/x-python",
   "name": "python",
   "nbconvert_exporter": "python",
   "pygments_lexer": "ipython3",
   "version": "3.6.2"
  }
 },
 "nbformat": 4,
 "nbformat_minor": 4
}
