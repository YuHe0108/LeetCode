{
 "cells": [
  {
   "cell_type": "raw",
   "metadata": {},
   "source": [
    "说明：\n",
    "    给你一份『chars』（字符串数组） words 和一张『字母表』（字符串） chars。\n",
    "    假如你可以用 chars 中的『字母』（字符）拼写出 words 中的某个『单词』（字符串），那么我们就认为你掌握了这个单词。\n",
    "    注意：每次拼写（指拼写词汇表中的一个单词）时，chars 中的每个字母都只能用一次。\n",
    "    返回词汇表 words 中你掌握的所有单词的 长度之和。\n",
    "\n",
    "示例 1：\n",
    "    输入：words = [\"cat\",\"bt\",\"hat\",\"tree\"], chars = \"atach\"\n",
    "    输出：6\n",
    "    解释： \n",
    "    可以形成字符串 \"cat\" 和 \"hat\"，所以答案是 3 + 3 = 6。\n",
    "\n",
    "示例 2：\n",
    "    输入：words = [\"hello\",\"world\",\"leetcode\"], chars = \"welldonehoneyr\"\n",
    "    输出：10\n",
    "    解释：\n",
    "        可以形成字符串 \"hello\" 和 \"world\"，所以答案是 5 + 5 = 10。\n",
    "\n",
    "提示：\n",
    "    1、1 <= words.length <= 1000\n",
    "    2、1 <= words[i].length, chars.length <= 100\n",
    "    3、所有字符串中都仅包含小写英文字母"
   ]
  },
  {
   "cell_type": "code",
   "execution_count": 9,
   "metadata": {},
   "outputs": [],
   "source": [
    "from collections import Counter\n",
    "\n",
    "class Solution:\n",
    "    def countCharacters(self, words, chars: str) -> int:\n",
    "        char_count = Counter(chars)\n",
    "        res = ''\n",
    "        for word in words:\n",
    "            copy_count = char_count.copy()\n",
    "            can_join = True\n",
    "            for w in word:\n",
    "                if w not in copy_count or copy_count[w] == 0:\n",
    "                    can_join = False\n",
    "                    break\n",
    "                else:\n",
    "                    copy_count[w] -= 1\n",
    "            if can_join:\n",
    "                res += word\n",
    "        return len(res)"
   ]
  },
  {
   "cell_type": "code",
   "execution_count": 11,
   "metadata": {},
   "outputs": [
    {
     "data": {
      "text/plain": [
       "6"
      ]
     },
     "execution_count": 11,
     "metadata": {},
     "output_type": "execute_result"
    }
   ],
   "source": [
    "solution = Solution()\n",
    "solution.countCharacters(words = [\"cat\",\"bt\",\"hat\",\"tree\"], chars = \"atach\")"
   ]
  },
  {
   "cell_type": "code",
   "execution_count": null,
   "metadata": {},
   "outputs": [],
   "source": []
  }
 ],
 "metadata": {
  "kernelspec": {
   "display_name": "Python 3",
   "language": "python",
   "name": "python3"
  },
  "language_info": {
   "codemirror_mode": {
    "name": "ipython",
    "version": 3
   },
   "file_extension": ".py",
   "mimetype": "text/x-python",
   "name": "python",
   "nbconvert_exporter": "python",
   "pygments_lexer": "ipython3",
   "version": "3.6.2"
  }
 },
 "nbformat": 4,
 "nbformat_minor": 4
}
