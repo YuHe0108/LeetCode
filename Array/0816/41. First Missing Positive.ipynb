{
 "cells": [
  {
   "cell_type": "raw",
   "metadata": {},
   "source": [
    "给定一个未排序的整数数组，找到最小的缺失正整数。\n",
    "\n",
    "Example 1:\n",
    "    Input: [1,2,0]\n",
    "    Output: 3\n",
    "\n",
    "Example 2:\n",
    "    Input: [3,4,-1,1]\n",
    "    Output: 2\n",
    "\n",
    "Example 3:\n",
    "    Input: [7,8,9,11,12]\n",
    "    Output: 1\n",
    "\n",
    "时间复杂度：O(N)\n",
    "空间复杂度：constant space"
   ]
  },
  {
   "cell_type": "code",
   "execution_count": 28,
   "metadata": {},
   "outputs": [],
   "source": [
    "class Solution:\n",
    "    def firstMissingPositive(self, nums) -> int:\n",
    "        i = 0\n",
    "        while i < len(nums):\n",
    "            num = nums[i]\n",
    "            if num > 0 and num <= len(nums) and num != i + 1 and nums[num-1] != nums[i]:\n",
    "                nums[i], nums[num-1] = nums[num-1], nums[i]\n",
    "            else:\n",
    "                i += 1\n",
    "        \n",
    "        \n",
    "        for i, num in enumerate(nums):\n",
    "            if i + 1 != num:\n",
    "                return i + 1\n",
    "        \n",
    "        return len(nums) + 1"
   ]
  },
  {
   "cell_type": "code",
   "execution_count": 29,
   "metadata": {},
   "outputs": [
    {
     "data": {
      "text/plain": [
       "2"
      ]
     },
     "execution_count": 29,
     "metadata": {},
     "output_type": "execute_result"
    }
   ],
   "source": [
    "nums_ = [1,1]\n",
    "solution = Solution()\n",
    "solution.firstMissingPositive(nums_)"
   ]
  },
  {
   "cell_type": "code",
   "execution_count": null,
   "metadata": {},
   "outputs": [],
   "source": []
  }
 ],
 "metadata": {
  "kernelspec": {
   "display_name": "Python 3",
   "language": "python",
   "name": "python3"
  },
  "language_info": {
   "codemirror_mode": {
    "name": "ipython",
    "version": 3
   },
   "file_extension": ".py",
   "mimetype": "text/x-python",
   "name": "python",
   "nbconvert_exporter": "python",
   "pygments_lexer": "ipython3",
   "version": "3.6.2"
  }
 },
 "nbformat": 4,
 "nbformat_minor": 2
}
