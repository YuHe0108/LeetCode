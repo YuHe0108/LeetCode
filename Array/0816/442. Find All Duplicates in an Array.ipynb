{
 "cells": [
  {
   "cell_type": "raw",
   "metadata": {},
   "source": [
    "给定一个整数数组，即1≤a [i]≤n（n =数组大小），某些元素出现两次，而另一些元素出现一次。\n",
    "查找在此数组中出现两次的所有元素。\n",
    "您能在没有额外空间的情况下在O（n）运行时执行此操作吗？\n",
    "\n",
    "Example:\n",
    "    Input:\n",
    "        [4,3,2,7,8,2,3,1]\n",
    "    Output:\n",
    "        [2,3]"
   ]
  },
  {
   "cell_type": "code",
   "execution_count": 53,
   "metadata": {},
   "outputs": [],
   "source": [
    "class Solution:\n",
    "    def findDuplicates(self, nums):\n",
    "        # 将数组中数字按照顺序进行排列， 因为对于一个 len(nums) == 2的数组来说，\n",
    "        # 如果没有重复的数字出现，那么一定是：[1,2],将所有的数字，按照下标排序，\n",
    "        # 最后的结果，如果 num[index] != index + 1, 那么这个值一定是重复的\n",
    "        i = 0\n",
    "        while i < len(nums):\n",
    "            num = nums[i]\n",
    "            if i + 1 == nums or nums[i] == nums[num-1]:\n",
    "                i += 1\n",
    "            else:\n",
    "                nums[i], nums[num-1] = nums[num-1], nums[i]\n",
    "        \n",
    "        ret = []\n",
    "        for i, num in enumerate(nums):\n",
    "            if i + 1 != num:\n",
    "                ret.append(num)\n",
    "        return ret"
   ]
  },
  {
   "cell_type": "code",
   "execution_count": null,
   "metadata": {},
   "outputs": [],
   "source": []
  },
  {
   "cell_type": "code",
   "execution_count": 54,
   "metadata": {},
   "outputs": [
    {
     "data": {
      "text/plain": [
       "[3, 2]"
      ]
     },
     "execution_count": 54,
     "metadata": {},
     "output_type": "execute_result"
    }
   ],
   "source": [
    "nums_ = [4,3,2,7,8,2,3,1]\n",
    "solution = Solution()\n",
    "solution.findDuplicates(nums_)"
   ]
  },
  {
   "cell_type": "code",
   "execution_count": null,
   "metadata": {},
   "outputs": [],
   "source": []
  }
 ],
 "metadata": {
  "kernelspec": {
   "display_name": "Python 3",
   "language": "python",
   "name": "python3"
  },
  "language_info": {
   "codemirror_mode": {
    "name": "ipython",
    "version": 3
   },
   "file_extension": ".py",
   "mimetype": "text/x-python",
   "name": "python",
   "nbconvert_exporter": "python",
   "pygments_lexer": "ipython3",
   "version": "3.6.2"
  }
 },
 "nbformat": 4,
 "nbformat_minor": 2
}
