{
 "cells": [
  {
   "cell_type": "raw",
   "metadata": {},
   "source": [
    "说明：\n",
    "    给定一个非负整数nums的非空数组，此数组的度数定义为其元素中任何一个元素的最大频率。\n",
    "    您的任务是查找（连续的）nums子数组的最小长度，该子数组与nums具有相同的度数。\n",
    "\n",
    "Example 1:\n",
    "    Input: \n",
    "        nums = [1,2,2,3,1]\n",
    "    Output: \n",
    "        2\n",
    "    Explanation: \n",
    "        The input array has a degree of 2 because both elements 1 and 2 appear twice.\n",
    "        Of the subarrays that have the same degree:\n",
    "        [1, 2, 2, 3, 1], [1, 2, 2, 3], [2, 2, 3, 1], [1, 2, 2], [2, 2, 3], [2, 2]\n",
    "        The shortest length is 2. So return 2.\n",
    "\n",
    "Example 2:\n",
    "    Input: nums = [1,2,2,3,1,4,2]\n",
    "    Output: 6\n",
    "    Explanation: \n",
    "        The degree is 3 because the element 2 is repeated 3 times.\n",
    "        So [2,2,3,1,4,2] is the shortest subarray, therefore returning 6.\n",
    "\n",
    "Constraints:\n",
    "    1、nums.length will be between 1 and 50,000.\n",
    "    2、nums[i] will be an integer between 0 and 49,999."
   ]
  },
  {
   "cell_type": "code",
   "execution_count": 31,
   "metadata": {},
   "outputs": [],
   "source": [
    "class Solution:\n",
    "    def findShortestSubArray(self, nums) -> int:\n",
    "        freq_dict = {}\n",
    "        for i, n in enumerate(nums):\n",
    "            if n not in freq_dict:\n",
    "                freq_dict[n] = [i]\n",
    "            else:\n",
    "                freq_dict[n].append(i)\n",
    "        \n",
    "        print(freq_dict)\n",
    "        count = 1\n",
    "        max_freq = 1\n",
    "        for key, val in freq_dict.items():\n",
    "            if len(val) > max_freq:\n",
    "                count =  val[-1] - val[0] + 1\n",
    "                max_freq = len(val)\n",
    "            elif len(val) == max_freq:\n",
    "                count = min(count, val[-1] - val[0] + 1)\n",
    "        return count"
   ]
  },
  {
   "cell_type": "code",
   "execution_count": 32,
   "metadata": {},
   "outputs": [
    {
     "name": "stdout",
     "output_type": "stream",
     "text": [
      "{10: [0, 4], 9: [1, 2, 3]}\n"
     ]
    },
    {
     "data": {
      "text/plain": [
       "3"
      ]
     },
     "execution_count": 32,
     "metadata": {},
     "output_type": "execute_result"
    }
   ],
   "source": [
    "nums_ = [10,9,9,9,10]\n",
    "solution = Solution()\n",
    "solution.findShortestSubArray(nums_)"
   ]
  },
  {
   "cell_type": "code",
   "execution_count": null,
   "metadata": {},
   "outputs": [],
   "source": []
  }
 ],
 "metadata": {
  "kernelspec": {
   "display_name": "Python 3",
   "language": "python",
   "name": "python3"
  },
  "language_info": {
   "codemirror_mode": {
    "name": "ipython",
    "version": 3
   },
   "file_extension": ".py",
   "mimetype": "text/x-python",
   "name": "python",
   "nbconvert_exporter": "python",
   "pygments_lexer": "ipython3",
   "version": "3.6.2"
  }
 },
 "nbformat": 4,
 "nbformat_minor": 4
}
