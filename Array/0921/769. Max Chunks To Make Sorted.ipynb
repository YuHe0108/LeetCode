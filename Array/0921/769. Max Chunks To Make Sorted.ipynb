{
 "cells": [
  {
   "cell_type": "raw",
   "metadata": {},
   "source": [
    "说明：\n",
    "    给定一个数组arr，它是[0，1，...，arr.length-1]的排列，\n",
    "    我们将数组拆分为一定数量的“块”（分区），并分别对每个块进行排序。\n",
    "    连接它们之后，结果等于排序后的数组。\n",
    "    我们最多可以制作多少块？\n",
    "\n",
    "Example 1:\n",
    "    Input: arr = [4,3,2,1,0]\n",
    "    Output: 1\n",
    "    Explanation:\n",
    "        不管怎么拆分，都不能达到题目的目的。\n",
    "        Splitting into two or more chunks will not return the required result.\n",
    "        For example, splitting into [4, 3], [2, 1, 0] will result in [3, 4, 0, 1, 2], which isn't sorted.\n",
    "\n",
    "\n",
    "Example 2:\n",
    "    Input: arr = [1,0,2,3,4]\n",
    "    Output: 4\n",
    "    Explanation:\n",
    "        We can split into two chunks, such as [1, 0], [2, 3, 4].\n",
    "        However, splitting into [1, 0], [2], [3], [4] is the highest number of chunks possible.\n",
    "\n",
    "Note:\n",
    "    1、arr will have length in range [1, 10].\n",
    "    2、arr[i] will be a permutation of [0, 1, ..., arr.length - 1]."
   ]
  },
  {
   "cell_type": "code",
   "execution_count": 79,
   "metadata": {},
   "outputs": [],
   "source": [
    "class Solution:\n",
    "    def maxChunksToSorted(self, arr) -> int:\n",
    "        # 碰到小的就拆分\n",
    "        idx = 1\n",
    "        arr.append(float('inf'))\n",
    "        record = []\n",
    "        left = [0]\n",
    "        while idx < len(arr):\n",
    "            if arr[idx] > arr[idx-1]:\n",
    "                for i in left:\n",
    "                    record.append(arr[i:idx])\n",
    "                left.append(idx)\n",
    "            idx += 1\n",
    "        print(record)\n",
    "        res = []\n",
    "        for item in record:\n",
    "            item.sort()\n",
    "            for x in item:\n",
    "                res.append(x)\n",
    "        return len(record) if res == sorted(arr[:-1]) else 1"
   ]
  },
  {
   "cell_type": "code",
   "execution_count": 80,
   "metadata": {},
   "outputs": [
    {
     "name": "stdout",
     "output_type": "stream",
     "text": [
      "[[1], [1, 2, 0], [2, 0], [1, 2, 0, 3], [2, 0, 3], [3]]\n"
     ]
    },
    {
     "data": {
      "text/plain": [
       "1"
      ]
     },
     "execution_count": 80,
     "metadata": {},
     "output_type": "execute_result"
    }
   ],
   "source": [
    "arr_ = [1,2,0,3]\n",
    "solution = Solution()\n",
    "solution.maxChunksToSorted(arr_)"
   ]
  },
  {
   "cell_type": "code",
   "execution_count": 38,
   "metadata": {},
   "outputs": [],
   "source": [
    "class Solution:\n",
    "    def maxChunksToSorted(self, arr) -> int:\n",
    "        if len(arr) == 1: return 1\n",
    "        arr.append(-float('inf'))\n",
    "        idx, count = 1, 0\n",
    "        left = 0\n",
    "        while idx < len(arr):\n",
    "            val = arr[idx]\n",
    "            if arr[idx] < arr[idx-1]:\n",
    "                if val == -float('inf'):\n",
    "                    count += idx - left\n",
    "                else:\n",
    "                    count += 1\n",
    "                    left = idx + 1\n",
    "            idx += 1\n",
    "        return count"
   ]
  },
  {
   "cell_type": "code",
   "execution_count": 66,
   "metadata": {},
   "outputs": [],
   "source": [
    "class Solution:\n",
    "    def maxChunksToSorted(self, arr) -> int:\n",
    "        if len(arr) == 1: return 1\n",
    "        count = 0\n",
    "        max_l = arr[0]\n",
    "        for i in range(len(arr)):\n",
    "            if arr[i] > max_l:\n",
    "                max_l = arr[i]\n",
    "            if i == max_l:\n",
    "                count += 1\n",
    "        return count"
   ]
  },
  {
   "cell_type": "code",
   "execution_count": 67,
   "metadata": {},
   "outputs": [
    {
     "name": "stdout",
     "output_type": "stream",
     "text": [
      "2\n",
      "3\n"
     ]
    },
    {
     "data": {
      "text/plain": [
       "2"
      ]
     },
     "execution_count": 67,
     "metadata": {},
     "output_type": "execute_result"
    }
   ],
   "source": [
    "arr_ = [1,2,0,3]\n",
    "solution = Solution()\n",
    "solution.maxChunksToSorted(arr_)"
   ]
  },
  {
   "cell_type": "code",
   "execution_count": 69,
   "metadata": {},
   "outputs": [],
   "source": [
    "class Solution:\n",
    "    def maxChunksToSorted(self, arr) -> int:\n",
    "        if len(arr) == 1: return 1\n",
    "        count, max_val = 0, arr[0]\n",
    "        for i in range(len(arr)):\n",
    "            max_val = max(max_val, arr[i])\n",
    "            # 只有在数组的长度 == i时，包含此时的最大值 i，才能拆分\n",
    "            # 比如 [1,2,0,3], 在拆分成 [1,2,0] 和 [3]时，[1,2,0]的长度为3，但是此时2正好在内\n",
    "            # 也就是只有在数组的长度 == i，并且其中包含 val = i-1的值的时候，才能切分\n",
    "            if i == max_val:\n",
    "                count += 1\n",
    "        return count"
   ]
  },
  {
   "cell_type": "code",
   "execution_count": null,
   "metadata": {},
   "outputs": [],
   "source": []
  }
 ],
 "metadata": {
  "kernelspec": {
   "display_name": "Python 3",
   "language": "python",
   "name": "python3"
  },
  "language_info": {
   "codemirror_mode": {
    "name": "ipython",
    "version": 3
   },
   "file_extension": ".py",
   "mimetype": "text/x-python",
   "name": "python",
   "nbconvert_exporter": "python",
   "pygments_lexer": "ipython3",
   "version": "3.6.2"
  }
 },
 "nbformat": 4,
 "nbformat_minor": 4
}
