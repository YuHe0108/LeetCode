{
 "cells": [
  {
   "cell_type": "raw",
   "metadata": {},
   "source": [
    "说明：\n",
    "    您将获得一个正整数nums数组。\n",
    "    计算并打印子数组中所有元素的乘积小于k的（连续）子数组的数量。\n",
    "\n",
    "Example 1:\n",
    "    Input: nums = [10, 5, 2, 6], k = 100\n",
    "    Output: 8\n",
    "    Explanation: The 8 subarrays that have product less than 100 are: [10], [5], [2], [6], [10, 5], [5, 2], [2, 6], [5, 2, 6].\n",
    "                 Note that [10, 5, 2] is not included as the product of 100 is not strictly less than k.\n",
    "\n",
    "Note:\n",
    "    1、0 < nums.length <= 50000.\n",
    "    2、0 < nums[i] < 1000.\n",
    "    3、0 <= k < 10^6.    "
   ]
  },
  {
   "cell_type": "code",
   "execution_count": 7,
   "metadata": {},
   "outputs": [],
   "source": [
    "class Solution:\n",
    "    def numSubarrayProductLessThanK(self, nums, k: int) -> int:\n",
    "        if k == 0: return 0\n",
    "        idx = res = 0\n",
    "        record = {}\n",
    "        while idx < len(nums):\n",
    "            val = nums[idx]\n",
    "            if val == 1:\n",
    "                res += record[idx-1] - 1\n",
    "                record[idx] = record[idx-1] - 1\n",
    "            else:\n",
    "                temp_res = 0\n",
    "                if val < k:\n",
    "                    temp_res += 1\n",
    "                    for e in range(idx+1, len(nums)):\n",
    "                        val *= nums[e]\n",
    "                        if val < k:\n",
    "                            temp_res += 1\n",
    "                        else:\n",
    "                            break\n",
    "                record[idx] = temp_res\n",
    "                res += temp_res\n",
    "            idx += 1\n",
    "        print(record)\n",
    "        return res        "
   ]
  },
  {
   "cell_type": "code",
   "execution_count": 13,
   "metadata": {},
   "outputs": [],
   "source": [
    "class Solution:\n",
    "    def numSubarrayProductLessThanK(self, nums, k: int) -> int:\n",
    "        if not k: return 0\n",
    "        cur, i = 1, 0\n",
    "        res, store = 0, []\n",
    "        for j in range(len(nums)):\n",
    "            cur *= nums[j]\n",
    "            while cur >= k and i < len(nums):\n",
    "                cur /= nums[i]\n",
    "                i += 1\n",
    "            res += max(0, j-i+1)\n",
    "            print(j-i+1)\n",
    "        return res"
   ]
  },
  {
   "cell_type": "code",
   "execution_count": 14,
   "metadata": {},
   "outputs": [
    {
     "name": "stdout",
     "output_type": "stream",
     "text": [
      "1\n",
      "2\n",
      "3\n",
      "4\n"
     ]
    },
    {
     "data": {
      "text/plain": [
       "10"
      ]
     },
     "execution_count": 14,
     "metadata": {},
     "output_type": "execute_result"
    }
   ],
   "source": [
    "nums_ = [10, 5, 2, 6]\n",
    "k_ = 1000\n",
    "solution = Solution()\n",
    "solution.numSubarrayProductLessThanK(nums_, k_)"
   ]
  },
  {
   "cell_type": "code",
   "execution_count": null,
   "metadata": {},
   "outputs": [],
   "source": [
    " "
   ]
  }
 ],
 "metadata": {
  "kernelspec": {
   "display_name": "Python 3",
   "language": "python",
   "name": "python3"
  },
  "language_info": {
   "codemirror_mode": {
    "name": "ipython",
    "version": 3
   },
   "file_extension": ".py",
   "mimetype": "text/x-python",
   "name": "python",
   "nbconvert_exporter": "python",
   "pygments_lexer": "ipython3",
   "version": "3.6.2"
  }
 },
 "nbformat": 4,
 "nbformat_minor": 4
}
