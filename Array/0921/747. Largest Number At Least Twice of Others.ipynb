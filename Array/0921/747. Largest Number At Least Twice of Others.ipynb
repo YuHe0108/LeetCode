{
 "cells": [
  {
   "cell_type": "raw",
   "metadata": {},
   "source": [
    "说明：\n",
    "    在给定的整数数组nums中，总是恰好有一个最大的元素。\n",
    "    查找数组中最大的元素是否至少是数组中其他每个数字的两倍。\n",
    "    如果是，则返回最大元素的索引，否则返回-1。\n",
    "\n",
    "Example 1:\n",
    "    Input: nums = [3, 6, 1, 0]\n",
    "    Output: 1\n",
    "    Explanation: 6 is the largest integer, and for every other number in the array x,\n",
    "                 6 is more than twice as big as x.  The index of value 6 is 1, so we return 1.\n",
    "\n",
    "Example 2:\n",
    "    Input: nums = [1, 2, 3, 4]\n",
    "    Output: -1\n",
    "    Explanation: 4 isn't at least as big as twice the value of 3, so we return -1."
   ]
  },
  {
   "cell_type": "code",
   "execution_count": 18,
   "metadata": {},
   "outputs": [],
   "source": [
    "class Solution:\n",
    "    def dominantIndex(self, nums) -> int:\n",
    "        max_val = max(nums)\n",
    "        max_idx = nums.index(max_val)\n",
    "        for n in nums:\n",
    "            if n != max_val and n / max_val > 0.5:\n",
    "                return -1\n",
    "        return max_idx"
   ]
  },
  {
   "cell_type": "code",
   "execution_count": 19,
   "metadata": {},
   "outputs": [
    {
     "data": {
      "text/plain": [
       "1"
      ]
     },
     "execution_count": 19,
     "metadata": {},
     "output_type": "execute_result"
    }
   ],
   "source": [
    "nums_ = [3, 6, 1, 0]\n",
    "solution = Solution()\n",
    "solution.dominantIndex(nums_)"
   ]
  },
  {
   "cell_type": "code",
   "execution_count": null,
   "metadata": {},
   "outputs": [],
   "source": []
  }
 ],
 "metadata": {
  "kernelspec": {
   "display_name": "Python 3",
   "language": "python",
   "name": "python3"
  },
  "language_info": {
   "codemirror_mode": {
    "name": "ipython",
    "version": 3
   },
   "file_extension": ".py",
   "mimetype": "text/x-python",
   "name": "python",
   "nbconvert_exporter": "python",
   "pygments_lexer": "ipython3",
   "version": "3.6.2"
  }
 },
 "nbformat": 4,
 "nbformat_minor": 4
}
