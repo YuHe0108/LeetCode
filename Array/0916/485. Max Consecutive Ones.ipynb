{
 "cells": [
  {
   "cell_type": "raw",
   "metadata": {},
   "source": [
    "说明：\n",
    "    给定一个二进制数组，请找到此数组中最大连续1个数。\n",
    "    \n",
    "Example 1:\n",
    "    Input: [1,1,0,1,1,1]\n",
    "    Output: 3\n",
    "    Explanation: The first two digits or the last three digits are consecutive 1s.\n",
    "                 The maximum number of consecutive 1s is 3.\n",
    "\n",
    "Note:\n",
    "    1、The input array will only contain 0 and 1.\n",
    "    2、The length of input array is a positive integer and will not exceed 10,000"
   ]
  },
  {
   "cell_type": "code",
   "execution_count": 6,
   "metadata": {},
   "outputs": [],
   "source": [
    "class Solution:\n",
    "    def findMaxConsecutiveOnes(self, nums) -> int:\n",
    "        max_count = 0\n",
    "        if not nums or 1 not in nums: \n",
    "            return max_count\n",
    "    \n",
    "        idx = 0\n",
    "        while idx < len(nums):\n",
    "            if nums[idx] == 1:\n",
    "                count, idx = self.helper(nums, idx)\n",
    "                max_count = max(max_count, count)\n",
    "            idx += 1\n",
    "        return max_count\n",
    "        \n",
    "    def helper(self, nums, idx):\n",
    "        count = 0\n",
    "        last_one = idx\n",
    "        for i in range(idx, len(nums)):\n",
    "            if nums[i] == 1:\n",
    "                count += 1\n",
    "                last_one = i\n",
    "            else:\n",
    "                break\n",
    "        return count, last_one"
   ]
  },
  {
   "cell_type": "code",
   "execution_count": 7,
   "metadata": {},
   "outputs": [
    {
     "data": {
      "text/plain": [
       "2"
      ]
     },
     "execution_count": 7,
     "metadata": {},
     "output_type": "execute_result"
    }
   ],
   "source": [
    "solution = Solution()\n",
    "solution.findMaxConsecutiveOnes([1,0,1,1,0,1])"
   ]
  },
  {
   "cell_type": "code",
   "execution_count": null,
   "metadata": {},
   "outputs": [],
   "source": []
  }
 ],
 "metadata": {
  "kernelspec": {
   "display_name": "Python 3",
   "language": "python",
   "name": "python3"
  },
  "language_info": {
   "codemirror_mode": {
    "name": "ipython",
    "version": 3
   },
   "file_extension": ".py",
   "mimetype": "text/x-python",
   "name": "python",
   "nbconvert_exporter": "python",
   "pygments_lexer": "ipython3",
   "version": "3.6.2"
  }
 },
 "nbformat": 4,
 "nbformat_minor": 4
}
