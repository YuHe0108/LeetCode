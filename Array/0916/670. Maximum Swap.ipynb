{
 "cells": [
  {
   "cell_type": "raw",
   "metadata": {},
   "source": [
    "说明：\n",
    "    给定一个非负整数，您最多可以交换两个数字一次以获得最大值。返回您可以获得的最大值。\n",
    "\n",
    "Example 1:\n",
    "    Input: 2736\n",
    "    Output: 7236\n",
    "    Explanation: Swap the number 2 and the number 7.\n",
    "\n",
    "Example 2:\n",
    "    Input: 9973\n",
    "    Output: 9973\n",
    "    Explanation: No swap.\n",
    "\n",
    "Note:\n",
    "1、The given number is in the range [0, 108]"
   ]
  },
  {
   "cell_type": "code",
   "execution_count": 1,
   "metadata": {},
   "outputs": [],
   "source": [
    "class Solution:\n",
    "    def maximumSwap(self, num: int) -> int:\n",
    "        str_num = str(num)\n",
    "        if len(str_num) == 1: \n",
    "            return num\n",
    "        res = num\n",
    "        for i in range(len(str_num) - 1):\n",
    "            for j in range(i+1, len(str_num)):\n",
    "                temp = list(str_num)\n",
    "                if int(str_num[j]) > int(str_num[i]):\n",
    "                    temp[i], temp[j] = temp[j], temp[i]\n",
    "                    int_temp = int(''.join(temp))\n",
    "                    res = max(res, int_temp)\n",
    "        return res\n",
    "                "
   ]
  },
  {
   "cell_type": "code",
   "execution_count": 2,
   "metadata": {},
   "outputs": [],
   "source": [
    "a = 2345\n",
    "list_num = list(map(int, str(a)))"
   ]
  },
  {
   "cell_type": "code",
   "execution_count": 3,
   "metadata": {},
   "outputs": [
    {
     "name": "stdout",
     "output_type": "stream",
     "text": [
      "[2, 3, 4, 5]\n"
     ]
    }
   ],
   "source": [
    "print(list_num)"
   ]
  },
  {
   "cell_type": "code",
   "execution_count": 6,
   "metadata": {},
   "outputs": [],
   "source": [
    "list_ = [int(x) for x in str(a)]"
   ]
  },
  {
   "cell_type": "code",
   "execution_count": 7,
   "metadata": {},
   "outputs": [
    {
     "data": {
      "text/plain": [
       "[2, 3, 4, 5]"
      ]
     },
     "execution_count": 7,
     "metadata": {},
     "output_type": "execute_result"
    }
   ],
   "source": [
    "list_"
   ]
  },
  {
   "cell_type": "code",
   "execution_count": null,
   "metadata": {},
   "outputs": [],
   "source": []
  }
 ],
 "metadata": {
  "kernelspec": {
   "display_name": "Python 3",
   "language": "python",
   "name": "python3"
  },
  "language_info": {
   "codemirror_mode": {
    "name": "ipython",
    "version": 3
   },
   "file_extension": ".py",
   "mimetype": "text/x-python",
   "name": "python",
   "nbconvert_exporter": "python",
   "pygments_lexer": "ipython3",
   "version": "3.6.2"
  }
 },
 "nbformat": 4,
 "nbformat_minor": 4
}
