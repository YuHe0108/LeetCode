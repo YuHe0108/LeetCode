{
 "cells": [
  {
   "cell_type": "raw",
   "metadata": {},
   "source": [
    "说明：\n",
    "    给定一个整数数组和一个整数k，您需要找到数组中唯一的 k-diff pairs 的数量。\n",
    "    此处，k-diff对定义为整数对（i，j），其中i和j均为数组中的数字，并且它们的绝对差为k。\n",
    "\n",
    "Example 1:\n",
    "    Input: [3, 1, 4, 1, 5], k = 2\n",
    "    Output: 2\n",
    "    Explanation: There are two 2-diff pairs in the array, (1, 3) and (3, 5).\n",
    "                 Although we have two 1s in the input, we should only return the number of unique pairs.\n",
    "\n",
    "Example 2:\n",
    "    Input:[1, 2, 3, 4, 5], k = 1\n",
    "    Output: 4\n",
    "    Explanation: There are four 1-diff pairs in the array, (1, 2), (2, 3), (3, 4) and (4, 5).\n",
    "\n",
    "Example 3:\n",
    "    Input: [1, 3, 1, 5, 4], k = 0\n",
    "    Output: 1\n",
    "    Explanation: There is one 0-diff pair in the array, (1, 1).\n",
    "\n",
    "Note:\n",
    "    1、The pairs (i, j) and (j, i) count as the same pair.\n",
    "    2、The length of the array won't exceed 10,000.\n",
    "    3、All the integers in the given input belong to the range: [-1e7, 1e7]."
   ]
  },
  {
   "cell_type": "code",
   "execution_count": 58,
   "metadata": {},
   "outputs": [],
   "source": [
    "class Solution:\n",
    "    def findPairs(self, nums, k: int) -> int:\n",
    "        count = set()\n",
    "        for i in range(len(nums)):\n",
    "            seen = set()\n",
    "            for j in range(i+1, len(nums)):\n",
    "                if nums[j] not in seen and abs(nums[i] - nums[j]) == k:\n",
    "                    temp = sorted([nums[i], nums[j]])\n",
    "                    count.add(tuple(temp))\n",
    "                seen.add(nums[j])\n",
    "        return len(count)"
   ]
  },
  {
   "cell_type": "code",
   "execution_count": 105,
   "metadata": {},
   "outputs": [],
   "source": [
    "class Solution:\n",
    "    def findPairs(self, nums, k: int) -> int:\n",
    "        nums.sort()\n",
    "        count = 0\n",
    "        out_seen = set()\n",
    "        for i in range(len(nums)):\n",
    "            if nums[i] not in out_seen:\n",
    "                out_seen.add(nums[i])\n",
    "                in_seen = set()\n",
    "                for j in range(i+1, len(nums)):\n",
    "                    if nums[j] > nums[i] + k or nums[j] < nums[i] - k:\n",
    "                        break\n",
    "                    elif nums[j] not in in_seen and abs(nums[i] - nums[j]) == k:\n",
    "                        count += 1\n",
    "                    in_seen.add(nums[j])\n",
    "        return count          "
   ]
  },
  {
   "cell_type": "code",
   "execution_count": 112,
   "metadata": {},
   "outputs": [],
   "source": [
    "from collections import Counter\n",
    "\n",
    "class Solution:\n",
    "    def findPairs(self, nums, k: int) -> int:\n",
    "        k_dict = Counter(nums)\n",
    "        res = 0\n",
    "        \n",
    "        for i in k_dict:\n",
    "            if k > 0 and i + k in k_dict:\n",
    "                res += 1\n",
    "            \n",
    "            if k == 0 and k_dict[i] > 1:\n",
    "                res += 1\n",
    "        return res"
   ]
  },
  {
   "cell_type": "code",
   "execution_count": 113,
   "metadata": {},
   "outputs": [
    {
     "data": {
      "text/plain": [
       "2"
      ]
     },
     "execution_count": 113,
     "metadata": {},
     "output_type": "execute_result"
    }
   ],
   "source": [
    "nums_ = [3, 1, 4, 1, 5]\n",
    "k_ = 2\n",
    "solution = Solution()\n",
    "solution.findPairs(nums_, k_)"
   ]
  },
  {
   "cell_type": "code",
   "execution_count": null,
   "metadata": {},
   "outputs": [],
   "source": []
  }
 ],
 "metadata": {
  "kernelspec": {
   "display_name": "Python 3",
   "language": "python",
   "name": "python3"
  },
  "language_info": {
   "codemirror_mode": {
    "name": "ipython",
    "version": 3
   },
   "file_extension": ".py",
   "mimetype": "text/x-python",
   "name": "python",
   "nbconvert_exporter": "python",
   "pygments_lexer": "ipython3",
   "version": "3.6.2"
  }
 },
 "nbformat": 4,
 "nbformat_minor": 4
}
