{
 "cells": [
  {
   "cell_type": "raw",
   "metadata": {},
   "source": [
    "说明:\n",
    "    长度为 N 的零索引数组A包含从0到N-1的所有整数。\n",
    "    查找并返回集合S的最长长度，\n",
    "    其中S[i]={A[i]，A[A[i]]，A[i]]，...}符合以下规则。\n",
    "    假设S中的第一个元素以选择索引=i的元素A[i]开始，S中的下一个元素应该是A[A[i]]，然后是A[i]]…。\n",
    "    以此类推，我们就在S中出现重复元素之前停止添加。\n",
    "\n",
    "Example 1:\n",
    "    Input: A = [5,4,0,3,1,6,2]\n",
    "    Output: 4\n",
    "    Explanation: \n",
    "        A[0] = 5, A[1] = 4, A[2] = 0, A[3] = 3, A[4] = 1, A[5] = 6, A[6] = 2.\n",
    "\n",
    "    One of the longest S[K]:\n",
    "        S[0] = {A[0], A[5], A[6], A[2]} = {5, 6, 2, 0}\n",
    " \n",
    "Note:\n",
    "    1、N is an integer within the range [1, 20,000].\n",
    "    2、The elements of A are all distinct.\n",
    "    3、Each element of A is an integer within the range [0, N-1]."
   ]
  },
  {
   "cell_type": "code",
   "execution_count": null,
   "metadata": {},
   "outputs": [],
   "source": [
    "# 时间复杂度比较优秀\n",
    "class Solution:\n",
    "    def arrayNesting(self, nums) -> int:\n",
    "        max_count = 0\n",
    "        seen = set()\n",
    "        for i in range(len(nums)):\n",
    "            if i in seen:\n",
    "                continue\n",
    "            seen.add(i)\n",
    "            res =  0\n",
    "            while i < len(nums):\n",
    "                res += 1\n",
    "                i = nums[i]\n",
    "                if i in seen:\n",
    "                    break\n",
    "                seen.add(i)\n",
    "            max_count = max(max_count, res)\n",
    "        return max_count"
   ]
  },
  {
   "cell_type": "code",
   "execution_count": null,
   "metadata": {},
   "outputs": [],
   "source": []
  },
  {
   "cell_type": "code",
   "execution_count": null,
   "metadata": {},
   "outputs": [],
   "source": []
  },
  {
   "cell_type": "code",
   "execution_count": null,
   "metadata": {},
   "outputs": [],
   "source": []
  },
  {
   "cell_type": "code",
   "execution_count": 31,
   "metadata": {},
   "outputs": [],
   "source": [
    "class Solution:\n",
    "    def arrayNesting(self, nums) -> int:\n",
    "        max_count = 0\n",
    "        for i in range(len(nums)):\n",
    "            res =  []\n",
    "            while i < len(nums):\n",
    "                if nums[i] in res:\n",
    "                    break\n",
    "                res.append(nums[i])\n",
    "                i = nums[i]\n",
    "            max_count = max(max_count, len(res))\n",
    "        return max_count"
   ]
  },
  {
   "cell_type": "code",
   "execution_count": 49,
   "metadata": {},
   "outputs": [],
   "source": [
    "class Solution:\n",
    "    def arrayNesting(self, nums) -> int:\n",
    "        max_count = 0\n",
    "        seen = set()\n",
    "        for i in range(len(nums)):\n",
    "            if i in seen:\n",
    "                continue\n",
    "            seen.add(i)\n",
    "            res =  []\n",
    "            while i < len(nums):\n",
    "                if nums[i] in res:\n",
    "                    break\n",
    "                res.append(nums[i])\n",
    "                i = nums[i]\n",
    "                seen.add(i)\n",
    "            max_count = max(max_count, len(res))\n",
    "        return max_count"
   ]
  },
  {
   "cell_type": "code",
   "execution_count": 63,
   "metadata": {},
   "outputs": [],
   "source": [
    "class Solution:\n",
    "    def arrayNesting(self, nums) -> int:\n",
    "        max_count = 0\n",
    "        seen = set()\n",
    "        for i in range(len(nums)):\n",
    "            if i in seen:\n",
    "                continue\n",
    "            seen.add(i)\n",
    "            res =  0\n",
    "            while i < len(nums):\n",
    "                res += 1\n",
    "                i = nums[i]\n",
    "                if i in seen:\n",
    "                    break\n",
    "                seen.add(i)\n",
    "            max_count = max(max_count, res)\n",
    "        return max_count"
   ]
  },
  {
   "cell_type": "code",
   "execution_count": 64,
   "metadata": {},
   "outputs": [
    {
     "data": {
      "text/plain": [
       "4"
      ]
     },
     "execution_count": 64,
     "metadata": {},
     "output_type": "execute_result"
    }
   ],
   "source": [
    "nums_ = [5,4,0,3,1,6,2]\n",
    "solution = Solution()\n",
    "solution.arrayNesting(nums_)"
   ]
  },
  {
   "cell_type": "code",
   "execution_count": 45,
   "metadata": {},
   "outputs": [],
   "source": [
    "re = {2: [1, 2, 3], 4:[5, 6]}"
   ]
  },
  {
   "cell_type": "code",
   "execution_count": 48,
   "metadata": {},
   "outputs": [
    {
     "name": "stdout",
     "output_type": "stream",
     "text": [
      "dict_values([[1, 2, 3], [5, 6]])\n",
      "2\n"
     ]
    }
   ],
   "source": [
    "# if 2 in re.values():\n",
    "print(re.values())\n",
    "print(2)"
   ]
  },
  {
   "cell_type": "code",
   "execution_count": null,
   "metadata": {},
   "outputs": [],
   "source": []
  },
  {
   "cell_type": "code",
   "execution_count": null,
   "metadata": {},
   "outputs": [],
   "source": []
  }
 ],
 "metadata": {
  "kernelspec": {
   "display_name": "Python 3",
   "language": "python",
   "name": "python3"
  },
  "language_info": {
   "codemirror_mode": {
    "name": "ipython",
    "version": 3
   },
   "file_extension": ".py",
   "mimetype": "text/x-python",
   "name": "python",
   "nbconvert_exporter": "python",
   "pygments_lexer": "ipython3",
   "version": "3.6.2"
  }
 },
 "nbformat": 4,
 "nbformat_minor": 4
}
