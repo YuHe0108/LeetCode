{
 "cells": [
  {
   "cell_type": "code",
   "execution_count": 9,
   "metadata": {},
   "outputs": [],
   "source": [
    "class Solution:\n",
    "    def replaceElements(self, arr):\n",
    "        res = []\n",
    "        max_val = max(arr)\n",
    "        for i, a in enumerate(arr):\n",
    "            if i != len(arr) - 1:\n",
    "                if a != max_val:\n",
    "                    res.append(max_val)\n",
    "                else:\n",
    "                    max_val = max(arr[i+1:])\n",
    "                    res.append(max_val)\n",
    "            else:\n",
    "                res.append(-1)\n",
    "        return res"
   ]
  },
  {
   "cell_type": "code",
   "execution_count": 10,
   "metadata": {},
   "outputs": [
    {
     "data": {
      "text/plain": [
       "[18, 6, 6, 6, 1, -1]"
      ]
     },
     "execution_count": 10,
     "metadata": {},
     "output_type": "execute_result"
    }
   ],
   "source": [
    "solution = Solution()\n",
    "solution.replaceElements([17,18,5,4,6,1])"
   ]
  },
  {
   "cell_type": "code",
   "execution_count": null,
   "metadata": {},
   "outputs": [],
   "source": [
    "# 从最右边开始计算，\n",
    "class Solution:\n",
    "    def replaceElements(self, arr):\n",
    "        max_value = -1\n",
    "        for i in range(len(arr) - 1, -1, -1):\n",
    "            arr[i],max_value = max_value,max(arr[i],max_value)\n",
    "        return(arr)"
   ]
  }
 ],
 "metadata": {
  "kernelspec": {
   "display_name": "Python 3",
   "language": "python",
   "name": "python3"
  },
  "language_info": {
   "codemirror_mode": {
    "name": "ipython",
    "version": 3
   },
   "file_extension": ".py",
   "mimetype": "text/x-python",
   "name": "python",
   "nbconvert_exporter": "python",
   "pygments_lexer": "ipython3",
   "version": "3.6.2"
  }
 },
 "nbformat": 4,
 "nbformat_minor": 4
}
