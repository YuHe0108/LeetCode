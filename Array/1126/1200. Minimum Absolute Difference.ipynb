{
 "cells": [
  {
   "cell_type": "code",
   "execution_count": 25,
   "metadata": {},
   "outputs": [],
   "source": [
    "class Solution:\n",
    "    def minimumAbsDifference(self, arr):\n",
    "        arr.sort()\n",
    "        print(arr)\n",
    "        N = len(arr)\n",
    "        res = set()\n",
    "        min_dif = float('inf')\n",
    "        for i in range(N):\n",
    "            if i == 0:\n",
    "                dif = arr[i+1] - arr[i]\n",
    "                val = tuple(sorted((arr[i], arr[i+1])))\n",
    "            elif i == N-1:\n",
    "                dif = arr[i] - arr[i-1]\n",
    "                val = tuple(sorted((arr[i], arr[i-1])))\n",
    "            else:\n",
    "                dif_1 = abs(arr[i] - arr[i+1])\n",
    "                dif_2 = abs(arr[i] - arr[i-1])\n",
    "                if  dif_1 < dif_2:\n",
    "                    val = tuple(sorted((arr[i], arr[i+1])))\n",
    "                else:\n",
    "                    val = tuple(sorted((arr[i], arr[i-1])))\n",
    "                dif = min(dif_1, dif_2)\n",
    "            if dif > min_dif:\n",
    "                res = set()\n",
    "                continue\n",
    "            else:\n",
    "                min_dif = dif\n",
    "                res.add(val)\n",
    "        return sorted(res)"
   ]
  },
  {
   "cell_type": "code",
   "execution_count": 27,
   "metadata": {},
   "outputs": [
    {
     "name": "stdout",
     "output_type": "stream",
     "text": [
      "[1, 2, 3, 4]\n"
     ]
    },
    {
     "data": {
      "text/plain": [
       "[(1, 2), (2, 3), (3, 4)]"
      ]
     },
     "execution_count": 27,
     "metadata": {},
     "output_type": "execute_result"
    }
   ],
   "source": [
    "solution = Solution()\n",
    "solution.minimumAbsDifference([4,2,1,3])"
   ]
  },
  {
   "cell_type": "code",
   "execution_count": null,
   "metadata": {},
   "outputs": [],
   "source": []
  }
 ],
 "metadata": {
  "kernelspec": {
   "display_name": "Python 3",
   "language": "python",
   "name": "python3"
  },
  "language_info": {
   "codemirror_mode": {
    "name": "ipython",
    "version": 3
   },
   "file_extension": ".py",
   "mimetype": "text/x-python",
   "name": "python",
   "nbconvert_exporter": "python",
   "pygments_lexer": "ipython3",
   "version": "3.6.2"
  }
 },
 "nbformat": 4,
 "nbformat_minor": 4
}
