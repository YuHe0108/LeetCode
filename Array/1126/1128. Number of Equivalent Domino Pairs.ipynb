{
 "cells": [
  {
   "cell_type": "code",
   "execution_count": null,
   "metadata": {},
   "outputs": [],
   "source": [
    "from collections import Counter\n",
    "\n",
    "class Solution:\n",
    "    def numEquivDominoPairs(self, dominoes: List[List[int]]) -> int:\n",
    "        @lru_cache(None)\n",
    "        def calc(max_val):\n",
    "            val_1 = reduce(lambda x, y: x*y, [x for x in range(1, max_val + 1)])\n",
    "            val_2 = reduce(lambda x, y: x*y, [x for x in range(1, max_val - 2 + 1)])\n",
    "            return (val_1) // (2 * val_2)\n",
    "        \n",
    "        counter = Counter()\n",
    "        for d in dominoes:\n",
    "            if d != d[::-1]:\n",
    "                counter[tuple(d[::-1])] += 1\n",
    "            counter[tuple(d)] += 1\n",
    "        seen = set()\n",
    "        cnt = 0 \n",
    "        for k, v in counter.items():\n",
    "            if k not in seen and v > 1:\n",
    "                seen.add(k)\n",
    "                seen.add(k[::-1])\n",
    "                if v == 2:\n",
    "                    cnt += 1\n",
    "                else:\n",
    "                    cnt += calc(v)\n",
    "        return cnt\n",
    "        "
   ]
  },
  {
   "cell_type": "code",
   "execution_count": null,
   "metadata": {},
   "outputs": [],
   "source": [
    "class Solution:\n",
    "    def numEquivDominoPairs(self, dominoes: List[List[int]]) -> int:\n",
    "        dic={}\n",
    "        for item in dominoes:\n",
    "            a,b=sorted(item)\n",
    "            if (a,b) not in dic:\n",
    "                dic[(a,b)]=1\n",
    "            else:\n",
    "                dic[(a,b)]+=1\n",
    "        res = 0\n",
    "        for item in dic:\n",
    "            k = dic[item]\n",
    "            res += k * (k-1) //2\n",
    "        return res"
   ]
  },
  {
   "cell_type": "code",
   "execution_count": null,
   "metadata": {},
   "outputs": [],
   "source": []
  },
  {
   "cell_type": "code",
   "execution_count": null,
   "metadata": {},
   "outputs": [],
   "source": []
  },
  {
   "cell_type": "code",
   "execution_count": null,
   "metadata": {},
   "outputs": [],
   "source": []
  },
  {
   "cell_type": "code",
   "execution_count": 18,
   "metadata": {},
   "outputs": [],
   "source": [
    "from functools import reduce\n",
    "val = reduce(lambda x, y: x*y, [1, 2, 3, 4])"
   ]
  },
  {
   "cell_type": "code",
   "execution_count": 19,
   "metadata": {},
   "outputs": [
    {
     "data": {
      "text/plain": [
       "24"
      ]
     },
     "execution_count": 19,
     "metadata": {},
     "output_type": "execute_result"
    }
   ],
   "source": [
    "val"
   ]
  },
  {
   "cell_type": "code",
   "execution_count": null,
   "metadata": {},
   "outputs": [],
   "source": []
  }
 ],
 "metadata": {
  "kernelspec": {
   "display_name": "Python 3",
   "language": "python",
   "name": "python3"
  },
  "language_info": {
   "codemirror_mode": {
    "name": "ipython",
    "version": 3
   },
   "file_extension": ".py",
   "mimetype": "text/x-python",
   "name": "python",
   "nbconvert_exporter": "python",
   "pygments_lexer": "ipython3",
   "version": "3.6.2"
  }
 },
 "nbformat": 4,
 "nbformat_minor": 4
}
