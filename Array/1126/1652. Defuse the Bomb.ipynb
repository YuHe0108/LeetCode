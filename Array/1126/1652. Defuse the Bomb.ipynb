{
 "cells": [
  {
   "cell_type": "code",
   "execution_count": 1,
   "metadata": {},
   "outputs": [],
   "source": [
    "class Solution:\n",
    "    def decrypt(self, code, k: int):\n",
    "        N = len(code)\n",
    "        res = []\n",
    "        if k == 0:\n",
    "            return [0] * N\n",
    "        elif k > 0:\n",
    "            n_code = code * 101\n",
    "            for i in range(N):\n",
    "                res.append(sum(n_code[i+1:i+k+1]))\n",
    "            return res\n",
    "        else:\n",
    "            n_code = code * 100 + code\n",
    "            for i in range(N):\n",
    "                n_i = N * 100 + i\n",
    "                res.append(sum(n_code[n_i+k:n_i]))\n",
    "            return res"
   ]
  },
  {
   "cell_type": "code",
   "execution_count": null,
   "metadata": {},
   "outputs": [],
   "source": []
  }
 ],
 "metadata": {
  "kernelspec": {
   "display_name": "Python 3",
   "language": "python",
   "name": "python3"
  },
  "language_info": {
   "codemirror_mode": {
    "name": "ipython",
    "version": 3
   },
   "file_extension": ".py",
   "mimetype": "text/x-python",
   "name": "python",
   "nbconvert_exporter": "python",
   "pygments_lexer": "ipython3",
   "version": "3.6.2"
  }
 },
 "nbformat": 4,
 "nbformat_minor": 4
}
