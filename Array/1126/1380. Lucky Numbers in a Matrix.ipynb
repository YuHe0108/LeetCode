{
 "cells": [
  {
   "cell_type": "code",
   "execution_count": 35,
   "metadata": {},
   "outputs": [],
   "source": [
    "from collections import defaultdict\n",
    "\n",
    "class Solution:\n",
    "    def luckyNumbers (self, matrix):\n",
    "        for v in zip(*(matrix)):\n",
    "            print(v)\n",
    "        rows, cols = len(matrix), len(matrix[0])\n",
    "        each_min_row, each_max_col = set(), set()\n",
    "        for r in range(rows):\n",
    "            each_min_row.add(min(matrix[r][:]))\n",
    "\n",
    "        for c in range(cols):\n",
    "            temp = []\n",
    "            for r in range(rows):\n",
    "                temp.append(matrix[r][c])\n",
    "            each_max_col.add(max(temp))\n",
    "            \n",
    "        return each_max_col & each_min_row"
   ]
  },
  {
   "cell_type": "code",
   "execution_count": 36,
   "metadata": {},
   "outputs": [
    {
     "name": "stdout",
     "output_type": "stream",
     "text": [
      "(3, 9, 15)\n",
      "(7, 11, 16)\n",
      "(8, 13, 17)\n"
     ]
    },
    {
     "data": {
      "text/plain": [
       "{15}"
      ]
     },
     "execution_count": 36,
     "metadata": {},
     "output_type": "execute_result"
    }
   ],
   "source": [
    "solution = Solution()\n",
    "solution.luckyNumbers(matrix = [[3,7,8],\n",
    "                                [9,11,13],\n",
    "                                [15,16,17]])"
   ]
  },
  {
   "cell_type": "code",
   "execution_count": null,
   "metadata": {},
   "outputs": [],
   "source": [
    "class Solution:\n",
    "    def luckyNumbers(self, matrix):\n",
    "        return list({min(row) for row in matrix} & {max(col) for col in zip(*matrix)})"
   ]
  }
 ],
 "metadata": {
  "kernelspec": {
   "display_name": "Python 3",
   "language": "python",
   "name": "python3"
  },
  "language_info": {
   "codemirror_mode": {
    "name": "ipython",
    "version": 3
   },
   "file_extension": ".py",
   "mimetype": "text/x-python",
   "name": "python",
   "nbconvert_exporter": "python",
   "pygments_lexer": "ipython3",
   "version": "3.6.2"
  }
 },
 "nbformat": 4,
 "nbformat_minor": 4
}
