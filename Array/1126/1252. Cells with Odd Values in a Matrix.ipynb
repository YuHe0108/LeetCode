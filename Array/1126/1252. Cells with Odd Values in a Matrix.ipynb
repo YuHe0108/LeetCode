{
 "cells": [
  {
   "cell_type": "code",
   "execution_count": 17,
   "metadata": {},
   "outputs": [],
   "source": [
    "class Solution:\n",
    "    def oddCells(self, n: int, m: int, indices):\n",
    "        mat = [[0] * m for _ in range(n)]\n",
    "        rows, cols = [], []\n",
    "        for r, c in indices:\n",
    "            rows.append(r)\n",
    "            cols.append(c)\n",
    "        for r in rows:\n",
    "            for c in range(m):\n",
    "                mat[r][c] += 1\n",
    "        for r in range(n):\n",
    "            for c in cols:\n",
    "                mat[r][c] += 1\n",
    "        cnt = 0\n",
    "        for r in range(n):\n",
    "            for c in range(m):\n",
    "                if mat[r][c] % 2 == 1:\n",
    "                    cnt += 1\n",
    "        return cnt"
   ]
  },
  {
   "cell_type": "code",
   "execution_count": 18,
   "metadata": {},
   "outputs": [
    {
     "data": {
      "text/plain": [
       "6"
      ]
     },
     "execution_count": 18,
     "metadata": {},
     "output_type": "execute_result"
    }
   ],
   "source": [
    "solution = Solution()\n",
    "solution.oddCells(n = 2, m = 3, indices = [[0,1],[1,1]])"
   ]
  },
  {
   "cell_type": "markdown",
   "metadata": {},
   "source": []
  },
  {
   "cell_type": "code",
   "execution_count": 13,
   "metadata": {},
   "outputs": [],
   "source": [
    "a = [1, 2, 3]\n",
    "a += [1] * 3"
   ]
  },
  {
   "cell_type": "code",
   "execution_count": 14,
   "metadata": {},
   "outputs": [
    {
     "data": {
      "text/plain": [
       "[1, 2, 3, 1, 1, 1]"
      ]
     },
     "execution_count": 14,
     "metadata": {},
     "output_type": "execute_result"
    }
   ],
   "source": [
    "a"
   ]
  },
  {
   "cell_type": "code",
   "execution_count": null,
   "metadata": {},
   "outputs": [],
   "source": [
    "class Solution:\n",
    "    def oddCells(self, n: int, m: int, indices: List[List[int]]) -> int:\n",
    "        rows = [False] * n\n",
    "        cols = [False] * m\n",
    "        for index in indices:\n",
    "            rows[index[0]] = not rows[index[0]]\n",
    "            cols[index[1]] = not cols[index[1]]\n",
    "        ans = 0\n",
    "        odd_rows = len([1 for r in rows if r])\n",
    "        odd_cols = len([1 for c in cols if c])\n",
    "        return odd_rows * (m - odd_cols) + (n - odd_rows) * odd_cols"
   ]
  }
 ],
 "metadata": {
  "kernelspec": {
   "display_name": "Python 3",
   "language": "python",
   "name": "python3"
  },
  "language_info": {
   "codemirror_mode": {
    "name": "ipython",
    "version": 3
   },
   "file_extension": ".py",
   "mimetype": "text/x-python",
   "name": "python",
   "nbconvert_exporter": "python",
   "pygments_lexer": "ipython3",
   "version": "3.6.2"
  }
 },
 "nbformat": 4,
 "nbformat_minor": 4
}
