{
 "cells": [
  {
   "cell_type": "raw",
   "metadata": {},
   "source": [
    "    给定一个数组nums和一个值val，就地删除该值的所有实例并返回新的长度。不要为另一个数组分配额外的空间，\n",
    "    必须通过使用O（1）额外的内存就地修改输入数组来做到这一点。元素的顺序可以更改。超出新长度后剩下的都无所谓。\n",
    "    \n",
    "    例1：\n",
    "        Given nums = [3,2,2,3], val = 3,\n",
    "        Your function should return length = 2, with the first two elements of nums being 2.\n",
    "        It doesn't matter what you leave beyond the returned length.\n",
    "    \n",
    "    例2：\n",
    "        Given nums = [0,1,2,2,3,0,4,2], val = 2,\n",
    "        Your function should return length = 5, with the first five elements of nums containing 0, 1, 3, 0, and 4.\n",
    "        Note that the order of those five elements can be arbitrary.\n",
    "        It doesn't matter what values are set beyond the returned length."
   ]
  },
  {
   "cell_type": "code",
   "execution_count": 18,
   "metadata": {},
   "outputs": [],
   "source": [
    "class Solution:\n",
    "    def removeElement(self, nums, val: int) -> int:\n",
    "        \n",
    "        index = 0\n",
    "        while index < len(nums):\n",
    "            num = nums[index]\n",
    "            if num == val:\n",
    "                nums.pop(index)\n",
    "            else:\n",
    "                index += 1\n",
    "        print(nums)\n",
    "        return len(nums)"
   ]
  },
  {
   "cell_type": "code",
   "execution_count": 19,
   "metadata": {},
   "outputs": [
    {
     "name": "stdout",
     "output_type": "stream",
     "text": [
      "[0, 1, 3, 0, 4]\n"
     ]
    },
    {
     "data": {
      "text/plain": [
       "5"
      ]
     },
     "execution_count": 19,
     "metadata": {},
     "output_type": "execute_result"
    }
   ],
   "source": [
    "nums_ = [0,1,2,2,3,0,4,2]\n",
    "val_ = 2\n",
    "solution = Solution()\n",
    "solution.removeElement(nums_, val_)"
   ]
  },
  {
   "cell_type": "code",
   "execution_count": null,
   "metadata": {},
   "outputs": [],
   "source": []
  }
 ],
 "metadata": {
  "kernelspec": {
   "display_name": "TF2",
   "language": "python",
   "name": "tf2"
  },
  "language_info": {
   "codemirror_mode": {
    "name": "ipython",
    "version": 3
   },
   "file_extension": ".py",
   "mimetype": "text/x-python",
   "name": "python",
   "nbconvert_exporter": "python",
   "pygments_lexer": "ipython3",
   "version": "3.6.2"
  }
 },
 "nbformat": 4,
 "nbformat_minor": 4
}
