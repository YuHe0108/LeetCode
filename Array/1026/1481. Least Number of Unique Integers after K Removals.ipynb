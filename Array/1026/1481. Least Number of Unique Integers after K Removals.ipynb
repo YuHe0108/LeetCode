{
 "cells": [
  {
   "cell_type": "raw",
   "metadata": {},
   "source": [
    "说明：\n",
    "    给你一个整数数组 arr 和一个整数 k 。现需要从数组中恰好移除 k 个元素，\n",
    "    请找出移除后数组中不同整数的最少数目。\n",
    "\n",
    "示例 1：\n",
    "    输入：arr = [5,5,4], k = 1\n",
    "    输出：1\n",
    "    解释：移除 1 个 4 ，数组中只剩下 5 一种整数。\n",
    "\n",
    "示例 2：\n",
    "    输入：arr = [4,3,1,1,3,3,2], k = 3\n",
    "    输出：2\n",
    "    解释：先移除 4、2 ，然后再移除两个 1 中的任意 1 个或者三个 3 中的任意 1 个，最后剩下 1 和 3 两种整数。\n",
    "\n",
    "提示：\n",
    "    1、1 <= arr.length <= 10^5\n",
    "    2、1 <= arr[i] <= 10^9\n",
    "    3、0 <= k <= arr.length"
   ]
  },
  {
   "cell_type": "code",
   "execution_count": 26,
   "metadata": {},
   "outputs": [],
   "source": [
    "from collections import Counter\n",
    "\n",
    "class Solution:\n",
    "    def findLeastNumOfUniqueInts(self, arr, k: int) -> int:\n",
    "        arr_freq = Counter(arr)\n",
    "        arr_freq = sorted(arr_freq.items(), key=lambda x: x[1])\n",
    "        pop_keys = set()\n",
    "        for key, val in arr_freq:\n",
    "            if val <= k:\n",
    "                k -= val\n",
    "                pop_keys.add(key)\n",
    "            else:\n",
    "                break\n",
    "        res = set()\n",
    "        for key, val in arr_freq:\n",
    "            if key not in pop_keys:\n",
    "                res.add(key)\n",
    "        return len(res)          "
   ]
  },
  {
   "cell_type": "code",
   "execution_count": 27,
   "metadata": {},
   "outputs": [
    {
     "data": {
      "text/plain": [
       "1"
      ]
     },
     "execution_count": 27,
     "metadata": {},
     "output_type": "execute_result"
    }
   ],
   "source": [
    "solution = Solution()\n",
    "solution.findLeastNumOfUniqueInts(arr = [5,5,4], k = 1)"
   ]
  },
  {
   "cell_type": "code",
   "execution_count": null,
   "metadata": {},
   "outputs": [],
   "source": []
  }
 ],
 "metadata": {
  "kernelspec": {
   "display_name": "Python 3",
   "language": "python",
   "name": "python3"
  },
  "language_info": {
   "codemirror_mode": {
    "name": "ipython",
    "version": 3
   },
   "file_extension": ".py",
   "mimetype": "text/x-python",
   "name": "python",
   "nbconvert_exporter": "python",
   "pygments_lexer": "ipython3",
   "version": "3.6.2"
  }
 },
 "nbformat": 4,
 "nbformat_minor": 4
}
