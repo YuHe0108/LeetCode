{
 "cells": [
  {
   "cell_type": "raw",
   "metadata": {},
   "source": [
    "说明：\n",
    "    有两种特殊字符。\n",
    "    第一种字符可以用一比特0来表示。\n",
    "    第二种字符可以用两比特(10 或 11)来表示。\n",
    "    现给一个由若干比特组成的字符串。\n",
    "    问最后一个字符是否必定为一个一比特字符。\n",
    "    给定的字符串总是由0结束。\n",
    "\n",
    "示例 1:\n",
    "    输入: \n",
    "        bits = [1, 0, 0]\n",
    "    输出: True\n",
    "    解释: \n",
    "        唯一的编码方式是一个两比特字符和一个一比特字符。所以最后一个字符是一比特字符。\n",
    "\n",
    "示例 2:\n",
    "    输入: \n",
    "        bits = [1, 1, 1, 0]\n",
    "    输出: False\n",
    "    解释: \n",
    "        唯一的编码方式是两比特字符和两比特字符。所以最后一个字符不是一比特字符。\n",
    "\n",
    "注意:\n",
    "    1、1 <= len(bits) <= 1000.\n",
    "    2、bits[i] 总是0 或 1."
   ]
  },
  {
   "cell_type": "code",
   "execution_count": 15,
   "metadata": {},
   "outputs": [],
   "source": [
    "class Solution:\n",
    "    def isOneBitCharacter(self, bits) -> bool:\n",
    "        N, idx = len(bits), 0\n",
    "        while idx < N:\n",
    "            v = bits[idx]\n",
    "            if v == 0:\n",
    "                if idx + 1 == N:\n",
    "                    return True\n",
    "                idx += 1\n",
    "                continue\n",
    "            else:\n",
    "                if idx + 1 < N:\n",
    "                    idx += 1\n",
    "            idx += 1\n",
    "        return False"
   ]
  },
  {
   "cell_type": "code",
   "execution_count": 19,
   "metadata": {},
   "outputs": [
    {
     "data": {
      "text/plain": [
       "False"
      ]
     },
     "execution_count": 19,
     "metadata": {},
     "output_type": "execute_result"
    }
   ],
   "source": [
    "solution = Solution()\n",
    "solution.isOneBitCharacter([1, 1, 1, 1, 1, 0])"
   ]
  },
  {
   "cell_type": "code",
   "execution_count": null,
   "metadata": {},
   "outputs": [],
   "source": []
  }
 ],
 "metadata": {
  "kernelspec": {
   "display_name": "Python 3",
   "language": "python",
   "name": "python3"
  },
  "language_info": {
   "codemirror_mode": {
    "name": "ipython",
    "version": 3
   },
   "file_extension": ".py",
   "mimetype": "text/x-python",
   "name": "python",
   "nbconvert_exporter": "python",
   "pygments_lexer": "ipython3",
   "version": "3.6.2"
  }
 },
 "nbformat": 4,
 "nbformat_minor": 4
}
