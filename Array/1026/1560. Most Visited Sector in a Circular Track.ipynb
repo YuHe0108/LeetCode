{
 "cells": [
  {
   "cell_type": "raw",
   "metadata": {},
   "source": [
    "说明：\n",
    "    给你一个整数 n 和一个整数数组 rounds 。\n",
    "    有一条圆形赛道由 n 个扇区组成，扇区编号从 1 到 n 。\n",
    "    现将在这条赛道上举办一场马拉松比赛，该马拉松全程由 m 个阶段组成。\n",
    "    其中，第 i 个阶段将会从扇区 rounds[i - 1] 开始，到扇区 rounds[i] 结束。\n",
    "    举例来说，第 1 阶段从 rounds[0] 开始，到 rounds[1] 结束。\n",
    "    请你以数组形式返回经过次数最多的那几个扇区，按扇区编号 升序 排列。\n",
    "注意：\n",
    "    赛道按扇区编号升序逆时针形成一个圆（请参见第一个示例）。"
   ]
  },
  {
   "cell_type": "markdown",
   "metadata": {},
   "source": [
    "<img src='https://assets.leetcode-cn.com/aliyun-lc-upload/uploads/2020/08/22/3rd45e.jpg'>"
   ]
  },
  {
   "cell_type": "raw",
   "metadata": {},
   "source": [
    "说明：\n",
    "    输入：n = 4, rounds = [1,3,1,2]\n",
    "    输出：[1,2]\n",
    "    解释：\n",
    "        本场马拉松比赛从扇区 1 开始。经过各个扇区的次序如下所示：\n",
    "        1 --> 2 --> 3（阶段 1 结束）--> 4 --> 1（阶段 2 结束）--> 2（阶段 3 结束，即本场马拉松结束）\n",
    "        其中，扇区 1 和 2 都经过了两次，它们是经过次数最多的两个扇区。\n",
    "        扇区 3 和 4 都只经过了一次。\n",
    "   1:1+1\n",
    "   2:1+1\n",
    "   3:1\n",
    "   4:1\n",
    "\n",
    "示例 2：\n",
    "    输入：n = 2, rounds = [2,1,2,1,2,1,2,1,2]\n",
    "    输出：[2]\n",
    "\n",
    "示例 3：\n",
    "    输入：n = 7, rounds = [1,3,5,7]\n",
    "    输出：[1,2,3,4,5,6,7]\n",
    "\n",
    "提示：\n",
    "    1、2 <= n <= 100\n",
    "    2、1 <= m <= 100\n",
    "    3、rounds.length == m + 1\n",
    "    4、1 <= rounds[i] <= n\n",
    "    5、rounds[i] != rounds[i + 1] ，其中 0 <= i < m"
   ]
  },
  {
   "cell_type": "code",
   "execution_count": 109,
   "metadata": {},
   "outputs": [],
   "source": [
    "from collections import defaultdict\n",
    "\n",
    "class Solution:\n",
    "    def mostVisited(self, n: int, rounds):\n",
    "        r_dict = defaultdict(int)\n",
    "        \n",
    "        for i in range(1, len(rounds)):\n",
    "            if i == 1:\n",
    "                s = rounds[i-1]\n",
    "                e = rounds[i] \n",
    "            else:\n",
    "                s = (rounds[i-1] + 1) % n\n",
    "                e = rounds[i] \n",
    "            if s > e:\n",
    "                for j in range(s, n+1):\n",
    "                    r_dict[j] += 1\n",
    "                for j in range(1, e+1):\n",
    "                    r_dict[j] += 1\n",
    "            else:\n",
    "                for j in range(s, e+1):\n",
    "                    if j == 0:\n",
    "                        r_dict[n] += 1\n",
    "                    else:\n",
    "                        r_dict[j] += 1\n",
    "        max_times = max(r_dict.values())\n",
    "        res = []\n",
    "        for key, val in r_dict.items():\n",
    "            if val == max_times:\n",
    "                res.append(key)\n",
    "        res.sort()\n",
    "        return res"
   ]
  },
  {
   "cell_type": "code",
   "execution_count": 110,
   "metadata": {},
   "outputs": [
    {
     "data": {
      "text/plain": [
       "[1, 2, 3, 4, 5]"
      ]
     },
     "execution_count": 110,
     "metadata": {},
     "output_type": "execute_result"
    }
   ],
   "source": [
    "solution = Solution()\n",
    "solution.mostVisited(5,[3,2])"
   ]
  },
  {
   "cell_type": "code",
   "execution_count": null,
   "metadata": {},
   "outputs": [],
   "source": [
    "class Solution:\n",
    "    def mostVisited(self, n: int, rounds: List[int]) -> List[int]:\n",
    "        start = rounds[0]\n",
    "        end = rounds[-1]\n",
    "        if end < start:\n",
    "            most_visited = list(range(1, end + 1)) + list(range(start, n + 1))\n",
    "        else:\n",
    "            most_visited = list(range(start, end + 1))\n",
    "        return most_visited"
   ]
  },
  {
   "cell_type": "code",
   "execution_count": 111,
   "metadata": {},
   "outputs": [
    {
     "data": {
      "text/plain": [
       "[1, 2]"
      ]
     },
     "execution_count": 111,
     "metadata": {},
     "output_type": "execute_result"
    }
   ],
   "source": [
    "solution = Solution()\n",
    "solution.mostVisited(n = 4, rounds = [1,3,1,2])"
   ]
  },
  {
   "cell_type": "code",
   "execution_count": null,
   "metadata": {},
   "outputs": [],
   "source": []
  }
 ],
 "metadata": {
  "kernelspec": {
   "display_name": "Python 3",
   "language": "python",
   "name": "python3"
  },
  "language_info": {
   "codemirror_mode": {
    "name": "ipython",
    "version": 3
   },
   "file_extension": ".py",
   "mimetype": "text/x-python",
   "name": "python",
   "nbconvert_exporter": "python",
   "pygments_lexer": "ipython3",
   "version": "3.6.2"
  }
 },
 "nbformat": 4,
 "nbformat_minor": 4
}
