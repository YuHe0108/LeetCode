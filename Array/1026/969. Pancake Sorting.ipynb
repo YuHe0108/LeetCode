{
 "cells": [
  {
   "cell_type": "raw",
   "metadata": {},
   "source": [
    "说明：\n",
    "    给定数组 A，我们可以对其进行煎饼翻转：我们选择一些正整数 k <= A.length，然后反转 A 的前 k 个元素的顺序。\n",
    "    我们要执行零次或多次煎饼翻转（按顺序一次接一次地进行）以完成对数组 A 的排序。\n",
    "    返回能使 A 排序的煎饼翻转操作所对应的 k 值序列。\n",
    "    任何将数组排序且翻转次数在 10 * A.length 范围内的有效答案都将被判断为正确。\n",
    "\n",
    "示例 1：\n",
    "    输入：[3,2,4,1]\n",
    "    输出：[4,2,4,3]\n",
    "    解释：\n",
    "        我们执行 4 次煎饼翻转，k 值分别为 4，2，4，和 3。\n",
    "        初始状态 A = [3, 2, 4, 1]\n",
    "        第一次翻转后 (k=4): A = [1, 4, 2, 3]\n",
    "        第二次翻转后 (k=2): A = [4, 1, 2, 3]\n",
    "        第三次翻转后 (k=4): A = [3, 2, 1, 4]\n",
    "        第四次翻转后 (k=3): A = [1, 2, 3, 4]，此时已完成排序。 \n",
    "\n",
    "示例 2：\n",
    "    输入：[1,2,3]\n",
    "    输出：[]\n",
    "    解释：\n",
    "        输入已经排序，因此不需要翻转任何内容。\n",
    "        请注意，其他可能的答案，如[3，3]，也将被接受。\n",
    "\n",
    "提示：\n",
    "    1、1 <= A.length <= 100\n",
    "    2、A[i] 是 [1, 2, ..., A.length] 的排列"
   ]
  },
  {
   "cell_type": "code",
   "execution_count": 3,
   "metadata": {},
   "outputs": [],
   "source": [
    "class Solution:\n",
    "    def pancakeSort(self, arr):\n",
    "        result, N = [], len(arr)\n",
    "        for i in range(N, 0, -1):\n",
    "            pos = arr.index(i)\n",
    "            if pos == i - 1:\n",
    "                continue\n",
    "            if pos != 0:\n",
    "                result.append(pos + 1)\n",
    "                arr[: pos + 1] = arr[: pos + 1][::-1]\n",
    "            result.append(i)\n",
    "            arr[:i] = arr[:i][::-1]\n",
    "        return result"
   ]
  },
  {
   "cell_type": "code",
   "execution_count": 4,
   "metadata": {},
   "outputs": [
    {
     "data": {
      "text/plain": [
       "[3, 4, 2, 3, 2]"
      ]
     },
     "execution_count": 4,
     "metadata": {},
     "output_type": "execute_result"
    }
   ],
   "source": [
    "solution = Solution()\n",
    "solution.pancakeSort([3,2,4,1])"
   ]
  },
  {
   "cell_type": "code",
   "execution_count": null,
   "metadata": {},
   "outputs": [],
   "source": []
  }
 ],
 "metadata": {
  "kernelspec": {
   "display_name": "Python 3",
   "language": "python",
   "name": "python3"
  },
  "language_info": {
   "codemirror_mode": {
    "name": "ipython",
    "version": 3
   },
   "file_extension": ".py",
   "mimetype": "text/x-python",
   "name": "python",
   "nbconvert_exporter": "python",
   "pygments_lexer": "ipython3",
   "version": "3.6.2"
  }
 },
 "nbformat": 4,
 "nbformat_minor": 4
}
