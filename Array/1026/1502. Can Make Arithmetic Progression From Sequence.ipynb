{
 "cells": [
  {
   "cell_type": "raw",
   "metadata": {},
   "source": [
    "说明：\n",
    "    给你一个数字数组 arr 。\n",
    "    如果一个数列中，任意相邻两项的差总等于同一个常数，那么这个数列就称为 等差数列 。\n",
    "    如果可以重新排列数组形成等差数列，请返回 true ；否则，返回 false 。\n",
    "\n",
    "示例 1：\n",
    "    输入：arr = [3,5,1]\n",
    "    输出：true\n",
    "    解释：对数组重新排序得到 [1,3,5] 或者 [5,3,1] ，任意相邻两项的差分别为 2 或 -2 ，可以形成等差数列。\n",
    "\n",
    "示例 2：\n",
    "    输入：arr = [1,2,4]\n",
    "    输出：false\n",
    "    解释：无法通过重新排序得到等差数列。\n",
    "\n",
    "提示：\n",
    "    1、2 <= arr.length <= 1000\n",
    "    2、-10^6 <= arr[i] <= 10^6"
   ]
  },
  {
   "cell_type": "code",
   "execution_count": 1,
   "metadata": {},
   "outputs": [],
   "source": [
    "class Solution:\n",
    "    def canMakeArithmeticProgression(self, arr) -> bool:\n",
    "        arr.sort()\n",
    "        val = arr[1] - arr[0]\n",
    "        for i in range(1, len(arr)):\n",
    "            if arr[i] - arr[i-1] != val:\n",
    "                return False\n",
    "        return True"
   ]
  },
  {
   "cell_type": "code",
   "execution_count": null,
   "metadata": {},
   "outputs": [],
   "source": []
  },
  {
   "cell_type": "code",
   "execution_count": null,
   "metadata": {},
   "outputs": [],
   "source": []
  }
 ],
 "metadata": {
  "kernelspec": {
   "display_name": "Python 3",
   "language": "python",
   "name": "python3"
  },
  "language_info": {
   "codemirror_mode": {
    "name": "ipython",
    "version": 3
   },
   "file_extension": ".py",
   "mimetype": "text/x-python",
   "name": "python",
   "nbconvert_exporter": "python",
   "pygments_lexer": "ipython3",
   "version": "3.6.2"
  }
 },
 "nbformat": 4,
 "nbformat_minor": 4
}
