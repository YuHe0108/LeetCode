{
 "cells": [
  {
   "cell_type": "raw",
   "metadata": {},
   "source": [
    "说明：\n",
    "    给你一个整数数组 arr 。\n",
    "    请你返回和为 奇数 的子数组数目。\n",
    "    由于答案可能会很大，请你将结果对 10^9 + 7 取余后返回。\n",
    "\n",
    "示例 1：\n",
    "    输入：arr = [1,3,5]\n",
    "    输出：4\n",
    "    解释：所有的子数组为 [[1],[1,3],[1,3,5],[3],[3,5],[5]] 。\n",
    "    所有子数组的和为 [1,4,9,3,8,5].\n",
    "    奇数和包括 [1,9,3,5] ，所以答案为 4 。\n",
    "\n",
    "示例 2 ：\n",
    "    输入：arr = [2,4,6]\n",
    "    输出：0\n",
    "    解释：所有子数组为 [[2],[2,4],[2,4,6],[4],[4,6],[6]] 。\n",
    "    所有子数组和为 [2,6,12,4,10,6] 。\n",
    "    所有子数组和都是偶数，所以答案为 0 。\n",
    "\n",
    "示例 3：\n",
    "    输入：arr = [1,2,3,4,5,6,7]\n",
    "    输出：16\n",
    "    \n",
    "示例 4：\n",
    "    输入：arr = [100,100,99,99]\n",
    "    输出：4\n",
    "    \n",
    "示例 5：\n",
    "    输入：arr = [7]\n",
    "    输出：1\n",
    "\n",
    "提示：\n",
    "    1、1 <= arr.length <= 10^5\n",
    "    2、1 <= arr[i] <= 100"
   ]
  },
  {
   "cell_type": "code",
   "execution_count": 9,
   "metadata": {},
   "outputs": [],
   "source": [
    "from collections import defaultdict\n",
    "\n",
    "class Solution:\n",
    "    def numOfSubarrays(self, arr) -> int:\n",
    "        count, N, M = 0, len(arr), pow(10, 9) + 7\n",
    "        odd_nums, even_nums = 0, 0\n",
    "        for val in arr:\n",
    "            if val % 2 == 0:\n",
    "                even_nums += 1\n",
    "            else:\n",
    "                odd_nums += 1\n",
    "        for i in range(1, odd_nums+1):\n",
    "            count += (odd_nums - i ) + even_nums \n",
    "        print(count)"
   ]
  },
  {
   "cell_type": "code",
   "execution_count": 12,
   "metadata": {},
   "outputs": [],
   "source": [
    "class Solution:\n",
    "    def numOfSubarrays(self, arr) -> int:\n",
    "        max_val = pow(10, 9) + 7\n",
    "        odd_num, even_num, curr_sum, ans = 0, 1, 0, 0\n",
    "        N = len(arr)\n",
    "        for i in arr:\n",
    "            curr_sum += i\n",
    "            if curr_sum % 2 == 1:\n",
    "                odd_num += 1\n",
    "                ans += even_sum\n",
    "            else:\n",
    "                even_num += 1\n",
    "                ans += odd_sum\n",
    "        return ans % max_val"
   ]
  },
  {
   "cell_type": "code",
   "execution_count": 17,
   "metadata": {},
   "outputs": [
    {
     "data": {
      "text/plain": [
       "6"
      ]
     },
     "execution_count": 17,
     "metadata": {},
     "output_type": "execute_result"
    }
   ],
   "source": [
    "solution = Solution()\n",
    "solution.numOfSubarrays(arr = [1,2,3,5])"
   ]
  },
  {
   "cell_type": "raw",
   "metadata": {},
   "source": [
    "Keys:\n",
    "    1、odd number - even numer = odd number(e.g., 9 - 4 = 5)\n",
    "    2、even number - odd number = odd number(e.g., 8 - 3 = 5)\n",
    "    3、prefix sum: to obtain the sum of subarray arr[i + 1, j], we can use prefix sum by sum[0, j] - sum[0, i].\n",
    "\n",
    "Idea:\n",
    "    1、Keep two counters, odd_sum and even_sum for the number of odd sums and even sums;\n",
    "    2、Iterate through the array and during each iteration, keep the the sum of elements we've seen so far in curr_sum;\n",
    "    3、Say the current index is j, if curr_sum is odd, \n",
    "       we can decrease curr_sum by any previously seen even sum(say index i) to get a subarray arr[i + 1, j] with an odd sum; \n",
    "       similarly, if curr_sum is even, we can decrease curr_sum by any previously seen odd sum to get a subarray with an odd sum.\n",
    "    4、even_sum initialize to be 1 since before we start and curr_sum = 0, 0 is even."
   ]
  }
 ],
 "metadata": {
  "kernelspec": {
   "display_name": "Python 3",
   "language": "python",
   "name": "python3"
  },
  "language_info": {
   "codemirror_mode": {
    "name": "ipython",
    "version": 3
   },
   "file_extension": ".py",
   "mimetype": "text/x-python",
   "name": "python",
   "nbconvert_exporter": "python",
   "pygments_lexer": "ipython3",
   "version": "3.6.2"
  }
 },
 "nbformat": 4,
 "nbformat_minor": 4
}
