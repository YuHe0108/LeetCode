{
 "cells": [
  {
   "cell_type": "raw",
   "metadata": {},
   "source": [
    "说明：\n",
    "    给你一个整数数组 arr ，请你删除一个子数组（可以为空），使得 arr 中剩下的元素是 非递减 的。\n",
    "    一个子数组指的是原数组中连续的一个子序列。\n",
    "    请你返回满足题目要求的最短子数组的长度。\n",
    " \n",
    "示例 1：\n",
    "    输入：arr = [1,2,3,10,4,2,3,5]\n",
    "    输出：3\n",
    "    解释：我们需要删除的最短子数组是 [10,4,2] ，长度为 3 。\n",
    "    剩余元素形成非递减数组 [1,2,3,3,5] 。\n",
    "    另一个正确的解为删除子数组 [3,10,4] 。\n",
    "\n",
    "示例 2：\n",
    "    输入：arr = [5,4,3,2,1]\n",
    "    输出：4\n",
    "    解释：由于数组是严格递减的，我们只能保留一个元素。所以我们需要删除长度为 4 的子数组，要么删除 [5,4,3,2]，要么删除 [4,3,2,1]。\n",
    "\n",
    "示例 3：\n",
    "    输入：arr = [1,2,3]\n",
    "    输出：0\n",
    "    解释：数组已经是非递减的了，我们不需要删除任何元素。\n",
    "\n",
    "示例 4：\n",
    "    输入：arr = [1]\n",
    "    输出：0\n",
    "\n",
    "提示：\n",
    "    1、1 <= arr.length <= 10^5\n",
    "    2、0 <= arr[i] <= 10^9"
   ]
  },
  {
   "cell_type": "code",
   "execution_count": 25,
   "metadata": {},
   "outputs": [],
   "source": [
    "class Solution:\n",
    "    def findLengthOfShortestSubarray(self, arr) -> int:\n",
    "        N = len(arr)\n",
    "        res = len(arr) - 1 # 最多去掉n-1个数字\n",
    "        right = N - 1\n",
    "        while right - 1 >= 0 and arr[right] >= arr[right - 1]:\n",
    "            right -= 1\n",
    "        res = min(res, right)  \n",
    "        if res == 0: \n",
    "            return res\n",
    "        print(right, res)\n",
    "        \n",
    "        for i in range(N):\n",
    "            if i - 1 >= 0:\n",
    "                if arr[i] >= arr[i-1]:\n",
    "                    while right < N and arr[right] < arr[i]:\n",
    "                        right += 1\n",
    "                    res = min(res, right - i - 1)\n",
    "                else:\n",
    "                    break\n",
    "        return res"
   ]
  },
  {
   "cell_type": "code",
   "execution_count": 26,
   "metadata": {},
   "outputs": [
    {
     "name": "stdout",
     "output_type": "stream",
     "text": [
      "5 5\n"
     ]
    },
    {
     "data": {
      "text/plain": [
       "2"
      ]
     },
     "execution_count": 26,
     "metadata": {},
     "output_type": "execute_result"
    }
   ],
   "source": [
    "solution = Solution()\n",
    "solution.findLengthOfShortestSubarray([1,2,3,3,10,1,3,3,5])"
   ]
  },
  {
   "cell_type": "markdown",
   "metadata": {},
   "source": [
    "<img src='1574.jpg'>"
   ]
  },
  {
   "cell_type": "code",
   "execution_count": null,
   "metadata": {},
   "outputs": [],
   "source": []
  }
 ],
 "metadata": {
  "kernelspec": {
   "display_name": "Python 3",
   "language": "python",
   "name": "python3"
  },
  "language_info": {
   "codemirror_mode": {
    "name": "ipython",
    "version": 3
   },
   "file_extension": ".py",
   "mimetype": "text/x-python",
   "name": "python",
   "nbconvert_exporter": "python",
   "pygments_lexer": "ipython3",
   "version": "3.6.2"
  }
 },
 "nbformat": 4,
 "nbformat_minor": 4
}
