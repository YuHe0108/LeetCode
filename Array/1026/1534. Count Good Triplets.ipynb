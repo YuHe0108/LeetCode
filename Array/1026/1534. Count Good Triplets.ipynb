{
 "cells": [
  {
   "cell_type": "raw",
   "metadata": {},
   "source": [
    "说明：\n",
    "    给你一个整数数组 arr ，以及 a、b 、c 三个整数。\n",
    "    请你统计其中好三元组的数量。\n",
    "    如果三元组 (arr[i], arr[j], arr[k]) 满足下列全部条件，则认为它是一个 好三元组 。\n",
    "        1、0 <= i < j < k < arr.length\n",
    "        2、|arr[i] - arr[j]| <= a\n",
    "        3、|arr[j] - arr[k]| <= b\n",
    "        4、|arr[i] - arr[k]| <= c\n",
    "    其中 |x| 表示 x 的绝对值。\n",
    "    返回 好三元组的数量 。\n",
    "\n",
    "示例 1：\n",
    "    输入：arr = [3,0,1,1,9,7], a = 7, b = 2, c = 3\n",
    "    输出：4\n",
    "    解释：一共有 4 个好三元组：[(3,0,1), (3,0,1), (3,1,1), (0,1,1)] 。\n",
    "\n",
    "示例 2：\n",
    "    输入：arr = [1,1,2,2,3], a = 0, b = 0, c = 1\n",
    "    输出：0\n",
    "    解释：不存在满足所有条件的三元组。\n",
    "\n",
    "提示：\n",
    "    1、3 <= arr.length <= 100\n",
    "    2、0 <= arr[i] <= 1000\n",
    "    3、0 <= a, b, c <= 1000"
   ]
  },
  {
   "cell_type": "code",
   "execution_count": 7,
   "metadata": {},
   "outputs": [],
   "source": [
    "from collections import Counter\n",
    "\n",
    "class Solution:\n",
    "    def countGoodTriplets(self, arr, a: int, b: int, c: int) -> int:\n",
    "        count, N = 0, len(arr)\n",
    "        for i in range(N):\n",
    "            for j in range(i + 1, N):\n",
    "                val_1 = arr[i]\n",
    "                val_2 = arr[j]\n",
    "                if abs(val_2 - val_1) <= a:\n",
    "                    res_dict = Counter(arr[j+1:])\n",
    "                    for k, v in res_dict.items():\n",
    "                        if abs(k - val_2) <= b and abs(val_1 - k) <= c:\n",
    "                            count += v\n",
    "        return count                "
   ]
  },
  {
   "cell_type": "code",
   "execution_count": 9,
   "metadata": {},
   "outputs": [
    {
     "data": {
      "text/plain": [
       "0"
      ]
     },
     "execution_count": 9,
     "metadata": {},
     "output_type": "execute_result"
    }
   ],
   "source": [
    "solution = Solution()\n",
    "solution.countGoodTriplets(arr = [1,1,2,2,3], a = 0, b = 0, c = 1)"
   ]
  },
  {
   "cell_type": "code",
   "execution_count": null,
   "metadata": {},
   "outputs": [],
   "source": []
  }
 ],
 "metadata": {
  "kernelspec": {
   "display_name": "Python 3",
   "language": "python",
   "name": "python3"
  },
  "language_info": {
   "codemirror_mode": {
    "name": "ipython",
    "version": 3
   },
   "file_extension": ".py",
   "mimetype": "text/x-python",
   "name": "python",
   "nbconvert_exporter": "python",
   "pygments_lexer": "ipython3",
   "version": "3.6.2"
  }
 },
 "nbformat": 4,
 "nbformat_minor": 4
}
