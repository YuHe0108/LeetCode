{
 "cells": [
  {
   "cell_type": "raw",
   "metadata": {},
   "source": [
    "说明：\n",
    "    LeetCode 设计了一款新式键盘，正在测试其可用性。测试人员将会点击一系列键（总计 n 个），每次一个。\n",
    "    给你一个长度为 n 的字符串 keysPressed ，\n",
    "    其中 keysPressed[i] 表示测试序列中第 i 个被按下的键。\n",
    "    releaseTimes 是一个升序排列的列表，其中 releaseTimes[i] 表示松开第 i 个键的时间。\n",
    "    字符串和数组的 下标都从 0 开始 。第\n",
    "    0 个键在时间为 0 时被按下，接下来每个键都 恰好 在前一个键松开时被按下。\n",
    "    测试人员想要找出按键 持续时间最长 的键。\n",
    "    第 i 次按键的持续时间为 releaseTimes[i] - releaseTimes[i - 1] ，第 0 次按键的持续时间为 releaseTimes[0] 。\n",
    "\n",
    "注意\n",
    "    1、测试期间，同一个键可以在不同时刻被多次按下，而每次的持续时间都可能不同。\n",
    "    2、请返回按键 持续时间最长 的键，如果有多个这样的键，则返回 按字母顺序排列最大 的那个键。\n",
    "\n",
    "示例 1：\n",
    "    输入：releaseTimes = [9,29,49,50], keysPressed = \"cbcd\"\n",
    "    输出：\"c\"\n",
    "    解释：按键顺序和持续时间如下：\n",
    "        按下 'c' ，持续时间 9（时间 0 按下，时间 9 松开）\n",
    "        按下 'b' ，持续时间 29 - 9 = 20（松开上一个键的时间 9 按下，时间 29 松开）\n",
    "        按下 'c' ，持续时间 49 - 29 = 20（松开上一个键的时间 29 按下，时间 49 松开）\n",
    "        按下 'd' ，持续时间 50 - 49 = 1（松开上一个键的时间 49 按下，时间 50 松开）\n",
    "        按键持续时间最长的键是 'b' 和 'c'（第二次按下时），持续时间都是 20\n",
    "        'c' 按字母顺序排列比 'b' 大，所以答案是 'c'\n",
    "\n",
    "示例 2：\n",
    "    输入：releaseTimes = [12,23,36,46,62], keysPressed = \"spuda\"\n",
    "    输出：\"a\"\n",
    "    解释：按键顺序和持续时间如下：\n",
    "    按下 's' ，持续时间 12\n",
    "    按下 'p' ，持续时间 23 - 12 = 11\n",
    "    按下 'u' ，持续时间 36 - 23 = 13\n",
    "    按下 'd' ，持续时间 46 - 36 = 10\n",
    "    按下 'a' ，持续时间 62 - 46 = 16\n",
    "    按键持续时间最长的键是 'a' ，持续时间 16\n",
    " \n",
    "\n",
    "提示：\n",
    "    1、releaseTimes.length == n\n",
    "    2、keysPressed.length == n\n",
    "    4、2 <= n <= 1000\n",
    "    5、0 <= releaseTimes[i] <= 109\n",
    "    6、releaseTimes[i] < releaseTimes[i+1]\n",
    "    7、keysPressed 仅由小写英文字母组成"
   ]
  },
  {
   "cell_type": "code",
   "execution_count": 24,
   "metadata": {},
   "outputs": [],
   "source": [
    "class Solution:\n",
    "    def slowestKey(self, releaseTimes, keysPressed: str) -> str:\n",
    "        cost_time = {keysPressed[0]:releaseTimes[0]}\n",
    "        for i in range(1, len(releaseTimes)):\n",
    "            t = releaseTimes[i] - releaseTimes[i-1]\n",
    "            c = keysPressed[i]\n",
    "            if c not in cost_time:\n",
    "                cost_time[c] = t\n",
    "            else:\n",
    "                if cost_time[c] < t:\n",
    "                    cost_time[c] = t\n",
    "        cost_time = sorted(cost_time.items(), key=lambda x:x[1])\n",
    "        max_time = cost_time[-1][1]\n",
    "        res = []\n",
    "        for key, val in cost_time:\n",
    "            if val == max_time:\n",
    "                res.append(key)\n",
    "        res.sort()\n",
    "        return res[-1]"
   ]
  },
  {
   "cell_type": "code",
   "execution_count": 26,
   "metadata": {},
   "outputs": [
    {
     "data": {
      "text/plain": [
       "'a'"
      ]
     },
     "execution_count": 26,
     "metadata": {},
     "output_type": "execute_result"
    }
   ],
   "source": [
    "solution = Solution()\n",
    "solution.slowestKey(releaseTimes = [12,23,36,46,62], keysPressed = \"spuda\")"
   ]
  },
  {
   "cell_type": "code",
   "execution_count": null,
   "metadata": {},
   "outputs": [],
   "source": []
  }
 ],
 "metadata": {
  "kernelspec": {
   "display_name": "Python 3",
   "language": "python",
   "name": "python3"
  },
  "language_info": {
   "codemirror_mode": {
    "name": "ipython",
    "version": 3
   },
   "file_extension": ".py",
   "mimetype": "text/x-python",
   "name": "python",
   "nbconvert_exporter": "python",
   "pygments_lexer": "ipython3",
   "version": "3.6.2"
  }
 },
 "nbformat": 4,
 "nbformat_minor": 4
}
