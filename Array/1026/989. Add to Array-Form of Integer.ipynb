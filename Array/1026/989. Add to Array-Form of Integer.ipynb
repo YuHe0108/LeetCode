{
 "cells": [
  {
   "cell_type": "raw",
   "metadata": {},
   "source": [
    "说明：\n",
    "    对于非负整数 X 而言，X 的数组形式是每位数字按从左到右的顺序形成的数组。\n",
    "    例如，如果 X = 1231，那么其数组形式为 [1,2,3,1]。\n",
    "    给定非负整数 X 的数组形式 A，返回整数 X+K 的数组形式。\n",
    "\n",
    "示例 1：\n",
    "    输入：A = [1,2,0,0], K = 34\n",
    "    输出：[1,2,3,4]\n",
    "    解释：1200 + 34 = 1234\n",
    "\n",
    "示例 2：\n",
    "    输入：A = [2,7,4], K = 181\n",
    "    输出：[4,5,5]\n",
    "    解释：274 + 181 = 455\n",
    "\n",
    "示例 3：\n",
    "    输入：A = [2,1,5], K = 806\n",
    "    输出：[1,0,2,1]\n",
    "    解释：215 + 806 = 1021\n",
    "\n",
    "示例 4：\n",
    "    输入：A = [9,9,9,9,9,9,9,9,9,9], K = 1\n",
    "    输出：[1,0,0,0,0,0,0,0,0,0,0]\n",
    "    解释：9999999999 + 1 = 10000000000\n",
    "\n",
    "提示：\n",
    "    1、1 <= A.length <= 10000\n",
    "    2、0 <= A[i] <= 9\n",
    "    3、0 <= K <= 10000\n",
    "    4、如果 A.length > 1，那么 A[0] != 0"
   ]
  },
  {
   "cell_type": "code",
   "execution_count": 1,
   "metadata": {},
   "outputs": [],
   "source": [
    "class Solution:\n",
    "    def addToArrayForm(self, A: List[int], K: int) -> List[int]:\n",
    "        str_a = []\n",
    "        for v in A:\n",
    "            str_a.append(str(v))\n",
    "        int_a = int(''.join(str_a))\n",
    "        sum_val = str(int_a + K)\n",
    "        res = []\n",
    "        for i, v in enumerate(sum_val):\n",
    "            if v == 0 and i == 0:\n",
    "                continue\n",
    "            else:\n",
    "                res.append(int(v))\n",
    "        return res"
   ]
  },
  {
   "cell_type": "code",
   "execution_count": 2,
   "metadata": {},
   "outputs": [
    {
     "data": {
      "text/plain": [
       "1234"
      ]
     },
     "execution_count": 2,
     "metadata": {},
     "output_type": "execute_result"
    }
   ],
   "source": [
    "solution = Solution()\n",
    "solution.addToArrayForm(A = [1,2,0,0], K = 34)"
   ]
  },
  {
   "cell_type": "code",
   "execution_count": 3,
   "metadata": {},
   "outputs": [
    {
     "ename": "NameError",
     "evalue": "name 'List' is not defined",
     "output_type": "error",
     "traceback": [
      "\u001b[1;31m---------------------------------------------------------------------------\u001b[0m",
      "\u001b[1;31mNameError\u001b[0m                                 Traceback (most recent call last)",
      "\u001b[1;32m<ipython-input-3-339a14517b7b>\u001b[0m in \u001b[0;36m<module>\u001b[1;34m\u001b[0m\n\u001b[1;32m----> 1\u001b[1;33m \u001b[1;32mclass\u001b[0m \u001b[0mSolution\u001b[0m\u001b[1;33m:\u001b[0m\u001b[1;33m\u001b[0m\u001b[0m\n\u001b[0m\u001b[0;32m      2\u001b[0m     \u001b[1;32mdef\u001b[0m \u001b[0maddToArrayForm\u001b[0m\u001b[1;33m(\u001b[0m\u001b[0mself\u001b[0m\u001b[1;33m,\u001b[0m \u001b[0mA\u001b[0m\u001b[1;33m:\u001b[0m \u001b[0mList\u001b[0m\u001b[1;33m[\u001b[0m\u001b[0mint\u001b[0m\u001b[1;33m]\u001b[0m\u001b[1;33m,\u001b[0m \u001b[0mK\u001b[0m\u001b[1;33m:\u001b[0m \u001b[0mint\u001b[0m\u001b[1;33m)\u001b[0m \u001b[1;33m->\u001b[0m \u001b[0mList\u001b[0m\u001b[1;33m[\u001b[0m\u001b[0mint\u001b[0m\u001b[1;33m]\u001b[0m\u001b[1;33m:\u001b[0m\u001b[1;33m\u001b[0m\u001b[0m\n\u001b[0;32m      3\u001b[0m         \u001b[0marr\u001b[0m \u001b[1;33m=\u001b[0m \u001b[1;33m[\u001b[0m\u001b[1;33m]\u001b[0m\u001b[1;33m\u001b[0m\u001b[0m\n\u001b[0;32m      4\u001b[0m         \u001b[1;32mwhile\u001b[0m\u001b[1;33m(\u001b[0m\u001b[0mK\u001b[0m \u001b[1;33m!=\u001b[0m \u001b[1;36m0\u001b[0m\u001b[1;33m)\u001b[0m\u001b[1;33m:\u001b[0m\u001b[1;33m\u001b[0m\u001b[0m\n\u001b[0;32m      5\u001b[0m             \u001b[0mrem\u001b[0m \u001b[1;33m=\u001b[0m \u001b[0mK\u001b[0m \u001b[1;33m%\u001b[0m \u001b[1;36m10\u001b[0m\u001b[1;33m\u001b[0m\u001b[0m\n",
      "\u001b[1;32m<ipython-input-3-339a14517b7b>\u001b[0m in \u001b[0;36mSolution\u001b[1;34m()\u001b[0m\n\u001b[0;32m      1\u001b[0m \u001b[1;32mclass\u001b[0m \u001b[0mSolution\u001b[0m\u001b[1;33m:\u001b[0m\u001b[1;33m\u001b[0m\u001b[0m\n\u001b[1;32m----> 2\u001b[1;33m     \u001b[1;32mdef\u001b[0m \u001b[0maddToArrayForm\u001b[0m\u001b[1;33m(\u001b[0m\u001b[0mself\u001b[0m\u001b[1;33m,\u001b[0m \u001b[0mA\u001b[0m\u001b[1;33m:\u001b[0m \u001b[0mList\u001b[0m\u001b[1;33m[\u001b[0m\u001b[0mint\u001b[0m\u001b[1;33m]\u001b[0m\u001b[1;33m,\u001b[0m \u001b[0mK\u001b[0m\u001b[1;33m:\u001b[0m \u001b[0mint\u001b[0m\u001b[1;33m)\u001b[0m \u001b[1;33m->\u001b[0m \u001b[0mList\u001b[0m\u001b[1;33m[\u001b[0m\u001b[0mint\u001b[0m\u001b[1;33m]\u001b[0m\u001b[1;33m:\u001b[0m\u001b[1;33m\u001b[0m\u001b[0m\n\u001b[0m\u001b[0;32m      3\u001b[0m         \u001b[0marr\u001b[0m \u001b[1;33m=\u001b[0m \u001b[1;33m[\u001b[0m\u001b[1;33m]\u001b[0m\u001b[1;33m\u001b[0m\u001b[0m\n\u001b[0;32m      4\u001b[0m         \u001b[1;32mwhile\u001b[0m\u001b[1;33m(\u001b[0m\u001b[0mK\u001b[0m \u001b[1;33m!=\u001b[0m \u001b[1;36m0\u001b[0m\u001b[1;33m)\u001b[0m\u001b[1;33m:\u001b[0m\u001b[1;33m\u001b[0m\u001b[0m\n\u001b[0;32m      5\u001b[0m             \u001b[0mrem\u001b[0m \u001b[1;33m=\u001b[0m \u001b[0mK\u001b[0m \u001b[1;33m%\u001b[0m \u001b[1;36m10\u001b[0m\u001b[1;33m\u001b[0m\u001b[0m\n",
      "\u001b[1;31mNameError\u001b[0m: name 'List' is not defined"
     ]
    }
   ],
   "source": [
    "class Solution:\n",
    "    def addToArrayForm(self, A, K: int):\n",
    "        arr = []\n",
    "        while(K != 0):\n",
    "            rem = K % 10\n",
    "            arr.append(rem)\n",
    "            K = K // 10\n",
    "            \n",
    "        A = A[::-1]\n",
    "        count = 0\n",
    "        temp = []\n",
    "        carryOn = 0\n",
    "        \n",
    "        while(count < len(A) and count < len(arr)):\n",
    "            t = A[count] + arr[count] + carryOn\n",
    "            if t >= 10:\n",
    "                carryOn = t // 10\n",
    "            else:\n",
    "                carryOn = 0\n",
    "            temp.append(t%10) \n",
    "            count += 1\n",
    "        \n",
    "        while(count < len(A)):\n",
    "            t = A[count] + carryOn\n",
    "            if t >= 10:\n",
    "                carryOn = t // 10\n",
    "            else:\n",
    "                carryOn = 0\n",
    "            temp.append(t%10) \n",
    "            count += 1\n",
    "        \n",
    "        while(count < len(arr)):\n",
    "            t = arr[count] + carryOn\n",
    "            if t >= 10:\n",
    "                carryOn = t // 10\n",
    "            else:\n",
    "                carryOn = 0\n",
    "            temp.append(t%10) \n",
    "            count += 1\n",
    "            \n",
    "        if carryOn != 0:\n",
    "            temp.append(carryOn)\n",
    "        return temp[::-1]"
   ]
  },
  {
   "cell_type": "code",
   "execution_count": null,
   "metadata": {},
   "outputs": [],
   "source": []
  }
 ],
 "metadata": {
  "kernelspec": {
   "display_name": "Python 3",
   "language": "python",
   "name": "python3"
  },
  "language_info": {
   "codemirror_mode": {
    "name": "ipython",
    "version": 3
   },
   "file_extension": ".py",
   "mimetype": "text/x-python",
   "name": "python",
   "nbconvert_exporter": "python",
   "pygments_lexer": "ipython3",
   "version": "3.6.2"
  }
 },
 "nbformat": 4,
 "nbformat_minor": 4
}
