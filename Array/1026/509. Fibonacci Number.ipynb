{
 "cells": [
  {
   "cell_type": "raw",
   "metadata": {},
   "source": [
    "说明：\n",
    "    斐波那契数，通常用 F(n) 表示，形成的序列称为斐波那契数列。\n",
    "    该数列由 0 和 1 开始，后面的每一项数字都是前面两项数字的和。也就是：\n",
    "        F(0) = 0,   F(1) = 1\n",
    "        F(N) = F(N - 1) + F(N - 2), 其中 N > 1.\n",
    "    给定 N，计算 F(N)。\n",
    "\n",
    "示例 1：\n",
    "    输入：2\n",
    "    输出：1\n",
    "    解释：F(2) = F(1) + F(0) = 1 + 0 = 1.\n",
    "\n",
    "示例 2：\n",
    "    输入：3\n",
    "    输出：2\n",
    "    解释：F(3) = F(2) + F(1) = 1 + 1 = 2.\n",
    "\n",
    "示例 3：\n",
    "    输入：4\n",
    "    输出：3\n",
    "    解释：F(4) = F(3) + F(2) = 2 + 1 = 3.\n",
    "\n",
    "提示：\n",
    "    1、0 ≤ N ≤ 30"
   ]
  },
  {
   "cell_type": "code",
   "execution_count": 27,
   "metadata": {},
   "outputs": [],
   "source": [
    "class Solution:\n",
    "    def fib(self, N: int) -> int:\n",
    "        dp = [0] * (N + 1)\n",
    "        dp[0], dp[1] = 0, 1\n",
    "        for i in range(2, N + 1):\n",
    "            dp[i] = dp[i-1] + dp[i-2]\n",
    "        print(dp)\n",
    "        return dp[-1]"
   ]
  },
  {
   "cell_type": "code",
   "execution_count": 30,
   "metadata": {},
   "outputs": [
    {
     "name": "stdout",
     "output_type": "stream",
     "text": [
      "[0, 1, 1, 2, 3]\n"
     ]
    },
    {
     "data": {
      "text/plain": [
       "3"
      ]
     },
     "execution_count": 30,
     "metadata": {},
     "output_type": "execute_result"
    }
   ],
   "source": [
    "solution = Solution()\n",
    "solution.fib(4)"
   ]
  },
  {
   "cell_type": "code",
   "execution_count": null,
   "metadata": {},
   "outputs": [],
   "source": []
  }
 ],
 "metadata": {
  "kernelspec": {
   "display_name": "Python 3",
   "language": "python",
   "name": "python3"
  },
  "language_info": {
   "codemirror_mode": {
    "name": "ipython",
    "version": 3
   },
   "file_extension": ".py",
   "mimetype": "text/x-python",
   "name": "python",
   "nbconvert_exporter": "python",
   "pygments_lexer": "ipython3",
   "version": "3.6.2"
  }
 },
 "nbformat": 4,
 "nbformat_minor": 4
}
