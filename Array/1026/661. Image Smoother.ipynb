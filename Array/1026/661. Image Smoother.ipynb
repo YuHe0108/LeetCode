{
 "cells": [
  {
   "cell_type": "raw",
   "metadata": {},
   "source": [
    "说明：\n",
    "    包含整数的二维矩阵 M 表示一个图片的灰度。\n",
    "    你需要设计一个平滑器来让每一个单元的灰度成为平均灰度 (向下舍入) ，\n",
    "    平均灰度的计算是周围的8个单元和它本身的值求平均，如果周围的单元格不足八个，则尽可能多的利用它们。\n",
    "\n",
    "示例 1:\n",
    "    输入:\n",
    "        [[1,1,1],\n",
    "         [1,0,1],\n",
    "         [1,1,1]]\n",
    "    输出:\n",
    "        [[0, 0, 0],\n",
    "         [0, 0, 0],\n",
    "         [0, 0, 0]]\n",
    "    解释:\n",
    "        对于点 (0,0), (0,2), (2,0), (2,2): 平均(3/4) = 平均(0.75) = 0\n",
    "        对于点 (0,1), (1,0), (1,2), (2,1): 平均(5/6) = 平均(0.83333333) = 0\n",
    "        对于点 (1,1): 平均(8/9) = 平均(0.88888889) = 0\n",
    "\n",
    "注意:\n",
    "    1、给定矩阵中的整数范围为 [0, 255]。\n",
    "    2、矩阵的长和宽的范围均为 [1, 150]。"
   ]
  },
  {
   "cell_type": "code",
   "execution_count": 47,
   "metadata": {},
   "outputs": [],
   "source": [
    "class Solution:\n",
    "    def imageSmoother(self, M):\n",
    "        rows, cols = len(M), len(M[0])\n",
    "        new_m = []\n",
    "        for i in range(rows):\n",
    "            new_col = []\n",
    "            for j in range(cols):\n",
    "                new_col.append(self.helper(i, j, rows, cols, M))\n",
    "            new_m.append(new_col)\n",
    "        return new_m\n",
    "    \n",
    "    def helper(self, x, y, r, c, M):\n",
    "        res = []\n",
    "        dirs = [[0, 1], [1, 0], [1, 1], [1, -1],\n",
    "                [0, -1], [-1, 0], [-1, -1], [-1, 1]]\n",
    "        total_count = 1\n",
    "        total_sum = M[x][y]\n",
    "        for i, j in dirs:\n",
    "            new_x, new_y = x, y\n",
    "            new_x += i\n",
    "            new_y += j\n",
    "            if 0 <= new_x < r and 0 <= new_y < c:\n",
    "                total_count += 1\n",
    "                total_sum += M[new_x][new_y]\n",
    "        return total_sum // total_count"
   ]
  },
  {
   "cell_type": "code",
   "execution_count": 48,
   "metadata": {},
   "outputs": [
    {
     "data": {
      "text/plain": [
       "[[0, 0, 0], [0, 0, 0], [0, 0, 0]]"
      ]
     },
     "execution_count": 48,
     "metadata": {},
     "output_type": "execute_result"
    }
   ],
   "source": [
    "solution = Solution()\n",
    "solution.imageSmoother([[1,1,1],\n",
    "                        [1,0,1],\n",
    "                        [1,1,1]])"
   ]
  },
  {
   "cell_type": "code",
   "execution_count": null,
   "metadata": {},
   "outputs": [],
   "source": []
  }
 ],
 "metadata": {
  "kernelspec": {
   "display_name": "Python 3",
   "language": "python",
   "name": "python3"
  },
  "language_info": {
   "codemirror_mode": {
    "name": "ipython",
    "version": 3
   },
   "file_extension": ".py",
   "mimetype": "text/x-python",
   "name": "python",
   "nbconvert_exporter": "python",
   "pygments_lexer": "ipython3",
   "version": "3.6.2"
  }
 },
 "nbformat": 4,
 "nbformat_minor": 4
}
