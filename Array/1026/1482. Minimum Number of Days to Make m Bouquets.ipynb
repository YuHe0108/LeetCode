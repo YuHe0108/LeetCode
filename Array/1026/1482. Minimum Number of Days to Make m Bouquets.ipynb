{
 "cells": [
  {
   "cell_type": "raw",
   "metadata": {},
   "source": [
    "说明：\n",
    "    给你一个整数数组 bloomDay，以及两个整数 m 和 k 。\n",
    "    现需要制作 m 束花。\n",
    "    制作花束时，需要使用花园中 相邻的 k 朵花 。\n",
    "    花园中有 n 朵花，第 i 朵花会在 bloomDay[i] 时盛开，恰好 可以用于 一束 花中。\n",
    "    请你返回从花园中摘 m 束花需要等待的最少的天数。\n",
    "    如果不能摘到 m 束花则返回 -1 。\n",
    "\n",
    "示例 1：\n",
    "    输入：bloomDay = [1,10,3,10,2], m = 3, k = 1\n",
    "    输出：3\n",
    "    解释：   \n",
    "            让我们一起观察这三天的花开过程，x 表示花开，而 _ 表示花还未开。\n",
    "            现在需要制作 3 束花，每束只需要 1 朵。\n",
    "            1 天后：[x, _, _, _, _]   // 只能制作 1 束花\n",
    "            2 天后：[x, _, _, _, x]   // 只能制作 2 束花\n",
    "            3 天后：[x, _, x, _, x]   // 可以制作 3 束花，答案为 3\n",
    "\n",
    "示例 2：\n",
    "    输入：bloomDay = [1,10,3,10,2], m = 3, k = 2\n",
    "    输出：-1\n",
    "    解释：要制作 3 束花，每束需要 2 朵花，也就是一共需要 6 朵花。而花园中只有 5 朵花，无法满足制作要求，返回 -1 。\n",
    "\n",
    "示例 3：\n",
    "    输入：bloomDay = [7,7,7,7,12,7,7], m = 2, k = 3\n",
    "    输出：12\n",
    "    解释：\n",
    "        要制作 2 束花，每束需要 3 朵。\n",
    "        花园在 7 天后和 12 天后的情况如下：\n",
    "        7 天后：[x, x, x, x, _, x, x]\n",
    "        可以用前 3 朵盛开的花制作第一束花。但不能使用后 3 朵盛开的花，因为它们不相邻。\n",
    "        12 天后：[x, x, x, x, x, x, x]\n",
    "        显然，我们可以用不同的方式制作两束花。\n",
    "\n",
    "示例 4：\n",
    "    输入：bloomDay = [1000000000,1000000000], m = 1, k = 1\n",
    "    输出：1000000000\n",
    "    解释：需要等 1000000000 天才能采到花来制作花束\n",
    "\n",
    "示例 5：\n",
    "    输入：bloomDay = [1,10,2,9,3,8,4,7,5,6], m = 4, k = 2\n",
    "    输出：9\n",
    "\n",
    "提示：\n",
    "    1、bloomDay.length == n\n",
    "    2、1 <= n <= 10^5\n",
    "    3、1 < bloomDay[i] <= 10^9\n",
    "    4、1 <= m <= 10^6\n",
    "    5、1 <= k <= n"
   ]
  },
  {
   "cell_type": "code",
   "execution_count": 102,
   "metadata": {},
   "outputs": [],
   "source": [
    "from collections import Counter\n",
    "\n",
    "class Solution:\n",
    "    def minDays(self, bloomDay, m: int, k: int) -> int:\n",
    "        total_needs = m * k\n",
    "        if len(bloomDay) < total_needs: \n",
    "            return -1\n",
    "        need_days = float('inf')\n",
    "        bloom_day = sorted(set(bloomDay))\n",
    "        left, right = 0, len(bloom_day) - 1\n",
    "        while left < right:\n",
    "            mid = left + (right - left) // 2\n",
    "            cur_day = bloom_day[mid]\n",
    "            cur_m = self.helper(bloomDay, cur_day, k)\n",
    "            if cur_m >= m:\n",
    "                right = mid\n",
    "                need_days = min(need_days, cur_day)\n",
    "            else:\n",
    "                left = mid + 1\n",
    "        return -1 if need_days == float('inf') else need_days\n",
    "    \n",
    "    def helper(self, bloom_day, day, k):\n",
    "        m, res = 0, []\n",
    "        for x in bloom_day:\n",
    "            if x <= day:\n",
    "                res.append(0)\n",
    "            else:\n",
    "                res.append(x)\n",
    "        start = 0\n",
    "        while start < len(res):\n",
    "            if res[start] == 0 and start + k <= len(res) and len(set(res[start:start + k])) == 1:\n",
    "                m += 1\n",
    "                start += k\n",
    "            else:\n",
    "                start += 1\n",
    "        print(res, m)\n",
    "        return m"
   ]
  },
  {
   "cell_type": "code",
   "execution_count": 142,
   "metadata": {},
   "outputs": [],
   "source": [
    "from collections import Counter\n",
    "\n",
    "class Solution:\n",
    "    def minDays(self, bloomDay, m: int, k: int) -> int:\n",
    "        total_needs = m * k\n",
    "        if len(bloomDay) < total_needs: return -1\n",
    "        def is_possible(days):\n",
    "            bouquets = 0\n",
    "            flowers = 0\n",
    "            for bloom in bloomDay:\n",
    "                if bloom <= days:\n",
    "                    flowers += 1\n",
    "                    if flowers >= k:\n",
    "                        bouquets += 1\n",
    "                        flowers = 0\n",
    "                        if bouquets >= m:\n",
    "                            return True\n",
    "                else:\n",
    "                    flowers = 0\n",
    "            return False\n",
    "        \n",
    "        need_days, bloom_day = float('inf'), sorted(set(bloomDay))\n",
    "        left, right = 0, len(bloom_day)\n",
    "        while left < right:\n",
    "            mid = left + (right - left) // 2\n",
    "            cur_day = bloom_day[mid]\n",
    "            cur_m = is_possible(cur_day)\n",
    "            if cur_m:\n",
    "                right = mid\n",
    "                need_days = min(need_days, cur_day)\n",
    "            else:\n",
    "                left = mid + 1\n",
    "        return -1 if need_days == float('inf') else need_days"
   ]
  },
  {
   "cell_type": "code",
   "execution_count": 143,
   "metadata": {},
   "outputs": [
    {
     "data": {
      "text/plain": [
       "12"
      ]
     },
     "execution_count": 143,
     "metadata": {},
     "output_type": "execute_result"
    }
   ],
   "source": [
    "solution = Solution()\n",
    "solution.minDays(bloomDay = [7,7,7,7,12,7,7], m = 2, k = 3)"
   ]
  },
  {
   "cell_type": "code",
   "execution_count": null,
   "metadata": {},
   "outputs": [],
   "source": []
  }
 ],
 "metadata": {
  "kernelspec": {
   "display_name": "Python 3",
   "language": "python",
   "name": "python3"
  },
  "language_info": {
   "codemirror_mode": {
    "name": "ipython",
    "version": 3
   },
   "file_extension": ".py",
   "mimetype": "text/x-python",
   "name": "python",
   "nbconvert_exporter": "python",
   "pygments_lexer": "ipython3",
   "version": "3.6.2"
  }
 },
 "nbformat": 4,
 "nbformat_minor": 4
}
