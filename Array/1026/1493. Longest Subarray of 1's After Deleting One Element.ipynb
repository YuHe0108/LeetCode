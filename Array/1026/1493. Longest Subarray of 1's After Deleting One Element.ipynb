{
 "cells": [
  {
   "cell_type": "raw",
   "metadata": {},
   "source": [
    "说明：\n",
    "    给你一个二进制数组 nums ，你需要从中删掉一个元素。\n",
    "    请你在删掉元素的结果数组中，返回最长的且只包含 1 的非空子数组的长度。\n",
    "    如果不存在这样的子数组，请返回 0 。\n",
    "\n",
    "提示 1：\n",
    "    输入：nums = [1,1,0,1]\n",
    "    输出：3\n",
    "    解释：删掉位置 2 的数后，[1,1,1] 包含 3 个 1 。\n",
    "\n",
    "示例 2：\n",
    "    输入：nums = [0,1,1,1,0,1,1,0,1]\n",
    "    输出：5\n",
    "    解释：删掉位置 4 的数字后，[0,1,1,1,1,1,0,1] 的最长全 1 子数组为 [1,1,1,1,1] 。\n",
    "\n",
    "示例 3：\n",
    "    输入：nums = [1,1,1]\n",
    "    输出：2\n",
    "    解释：你必须要删除一个元素。\n",
    "\n",
    "示例 4：\n",
    "    输入：nums = [1,1,0,0,1,1,1,0,1]\n",
    "    输出：4\n",
    "\n",
    "示例 5：\n",
    "    输入：nums = [0,0,0]\n",
    "    输出：0\n",
    "\n",
    "提示：\n",
    "    1、1 <= nums.length <= 10^5\n",
    "    2、nums[i] 要么是 0 要么是 1 。"
   ]
  },
  {
   "cell_type": "code",
   "execution_count": 35,
   "metadata": {},
   "outputs": [],
   "source": [
    "class Solution:\n",
    "    def longestSubarray(self, nums) -> int:\n",
    "        if 1 not in nums: return 0\n",
    "        zero_dict = {}\n",
    "        count = 0\n",
    "        nums.append(0)\n",
    "        for i, n in enumerate(nums):\n",
    "            if n == 0:\n",
    "                zero_dict[i] = count\n",
    "                count = 0\n",
    "            else:\n",
    "                count += 1\n",
    "        max_count = -float('inf')\n",
    "        zero_dict = sorted(zero_dict.items(), key=lambda x:x[0])\n",
    "        for i in range(1, len(zero_dict)):\n",
    "            max_count = max(max_count, zero_dict[i][1] + zero_dict[i-1][1])\n",
    "        return max_count if max_count != -float('inf') else len(nums) - 1"
   ]
  },
  {
   "cell_type": "code",
   "execution_count": 36,
   "metadata": {},
   "outputs": [
    {
     "data": {
      "text/plain": [
       "3"
      ]
     },
     "execution_count": 36,
     "metadata": {},
     "output_type": "execute_result"
    }
   ],
   "source": [
    "solution = Solution()\n",
    "solution.longestSubarray(nums = [1,1,1])"
   ]
  },
  {
   "cell_type": "code",
   "execution_count": null,
   "metadata": {},
   "outputs": [],
   "source": []
  }
 ],
 "metadata": {
  "kernelspec": {
   "display_name": "Python 3",
   "language": "python",
   "name": "python3"
  },
  "language_info": {
   "codemirror_mode": {
    "name": "ipython",
    "version": 3
   },
   "file_extension": ".py",
   "mimetype": "text/x-python",
   "name": "python",
   "nbconvert_exporter": "python",
   "pygments_lexer": "ipython3",
   "version": "3.6.2"
  }
 },
 "nbformat": 4,
 "nbformat_minor": 4
}
