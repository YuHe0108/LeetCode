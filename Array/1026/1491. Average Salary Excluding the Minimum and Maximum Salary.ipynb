{
 "cells": [
  {
   "cell_type": "raw",
   "metadata": {},
   "source": [
    "说明：\n",
    "    给你一个整数数组 salary ，数组里每个数都是 唯一 的，其中 salary[i] 是第 i 个员工的工资。\n",
    "    请你返回去掉最低工资和最高工资以后，剩下员工工资的平均值。\n",
    "\n",
    "示例 1：\n",
    "    输入：salary = [4000,3000,1000,2000]\n",
    "    输出：2500.00000\n",
    "    解释：最低工资和最高工资分别是 1000 和 4000 。\n",
    "         去掉最低工资和最高工资以后的平均工资是 (2000+3000)/2= 2500\n",
    "\n",
    "示例 2：\n",
    "    输入：salary = [1000,2000,3000]\n",
    "    输出：2000.00000\n",
    "    解释：最低工资和最高工资分别是 1000 和 3000 。\n",
    "    去掉最低工资和最高工资以后的平均工资是 (2000)/1= 2000\n",
    "\n",
    "示例 3：\n",
    "    输入：salary = [6000,5000,4000,3000,2000,1000]\n",
    "    输出：3500.00000\n",
    "\n",
    "示例 4：\n",
    "    输入：salary = [8000,9000,2000,3000,6000,1000]\n",
    "    输出：4750.00000\n",
    "\n",
    "提示：\n",
    "    1、3 <= salary.length <= 100\n",
    "    2、10^3 <= salary[i] <= 10^6\n",
    "    3、salary[i] 是唯一的。\n",
    "    4、与真实值误差在 10^-5 以内的结果都将视为正确答案。"
   ]
  },
  {
   "cell_type": "code",
   "execution_count": null,
   "metadata": {},
   "outputs": [],
   "source": [
    "class Solution:\n",
    "    def average(self, salary) -> float:\n",
    "        n = len(salary)\n",
    "        return (sum(salary) - min(salary) - max(salary)) / (n - 2)"
   ]
  }
 ],
 "metadata": {
  "kernelspec": {
   "display_name": "Python 3",
   "language": "python",
   "name": "python3"
  },
  "language_info": {
   "codemirror_mode": {
    "name": "ipython",
    "version": 3
   },
   "file_extension": ".py",
   "mimetype": "text/x-python",
   "name": "python",
   "nbconvert_exporter": "python",
   "pygments_lexer": "ipython3",
   "version": "3.6.2"
  }
 },
 "nbformat": 4,
 "nbformat_minor": 4
}
