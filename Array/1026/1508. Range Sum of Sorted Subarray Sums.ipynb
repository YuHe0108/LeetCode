{
 "cells": [
  {
   "cell_type": "raw",
   "metadata": {},
   "source": [
    "说明：\n",
    "    给你一个数组 nums ，它包含 n 个正整数。你需要计算所有非空连续子数组的和，并将它们按升序排序，\n",
    "    得到一个新的包含 n * (n + 1) / 2 个数字的数组。\n",
    "    请你返回在新数组中下标为 left 到 right （下标从 1 开始）的所有数字和（包括左右端点）。\n",
    "    由于答案可能很大，请你将它对 10^9 + 7 取模后返回。\n",
    "\n",
    "\n",
    "示例 1：\n",
    "    输入：nums = [1,2,3,4], n = 4, left = 1, right = 5\n",
    "    输出：13 \n",
    "    解释：所有的子数组和为 1, 3, 6, 10, 2, 5, 9, 3, 7, 4 。\n",
    "    将它们升序排序后，我们得到新的数组 [1, 2, 3, 3, 4, 5, 6, 7, 9, 10] 。下标从 le = 1 到 ri = 5 的和为 1 + 2 + 3 + 3 + 4 = 13 。\n",
    "\n",
    "示例 2：\n",
    "    输入：nums = [1,2,3,4], n = 4, left = 3, right = 4\n",
    "    输出：6\n",
    "    解释：给定数组与示例 1 一样，所以新数组为 [1, 2, 3, 3, 4, 5, 6, 7, 9, 10] 。下标从 le = 3 到 ri = 4 的和为 3 + 3 = 6 。\n",
    "\n",
    "示例 3：\n",
    "    输入：nums = [1,2,3,4], n = 4, left = 1, right = 10\n",
    "    输出：50\n",
    "\n",
    "提示：\n",
    "    1、1 <= nums.length <= 10^3\n",
    "    2、nums.length == n\n",
    "    3、1 <= nums[i] <= 100\n",
    "    4、1 <= left <= right <= n * (n + 1) / 2"
   ]
  },
  {
   "cell_type": "code",
   "execution_count": 37,
   "metadata": {},
   "outputs": [],
   "source": [
    "class Solution:\n",
    "    def rangeSum(self, nums, n: int, left: int, right: int) -> int:\n",
    "        sum_val = []\n",
    "        for i in range(n):\n",
    "            sum_val.append(nums[i])\n",
    "            for j in range(i+1, n):\n",
    "                sum_val.append(nums[j] + sum_val[-1])\n",
    "        sum_val.sort()\n",
    "        print(sum_val)\n",
    "        return sum(sum_val[left-1:right])"
   ]
  },
  {
   "cell_type": "code",
   "execution_count": 39,
   "metadata": {},
   "outputs": [
    {
     "name": "stdout",
     "output_type": "stream",
     "text": [
      "[1, 2, 3, 3, 4, 5, 6, 7, 9, 10]\n"
     ]
    },
    {
     "data": {
      "text/plain": [
       "50"
      ]
     },
     "execution_count": 39,
     "metadata": {},
     "output_type": "execute_result"
    }
   ],
   "source": [
    "solution = Solution()\n",
    "solution.rangeSum(nums = [1,2,3,4], n = 4, left = 1, right = 10)"
   ]
  },
  {
   "cell_type": "code",
   "execution_count": null,
   "metadata": {},
   "outputs": [],
   "source": []
  }
 ],
 "metadata": {
  "kernelspec": {
   "display_name": "Python 3",
   "language": "python",
   "name": "python3"
  },
  "language_info": {
   "codemirror_mode": {
    "name": "ipython",
    "version": 3
   },
   "file_extension": ".py",
   "mimetype": "text/x-python",
   "name": "python",
   "nbconvert_exporter": "python",
   "pygments_lexer": "ipython3",
   "version": "3.6.2"
  }
 },
 "nbformat": 4,
 "nbformat_minor": 4
}
