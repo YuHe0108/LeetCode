{
 "cells": [
  {
   "cell_type": "raw",
   "metadata": {},
   "source": [
    "说明：\n",
    "    给出一个整数数组 A 和一个查询数组 queries。\n",
    "    对于第 i 次查询，有 val = queries[i][0], index = queries[i][1]，我们会把 val 加到 A[index] 上。\n",
    "    然后，第 i 次查询的答案是 A 中偶数值的和。\n",
    "    （此处给定的 index = queries[i][1] 是从 0 开始的索引，每次查询都会永久修改数组 A。）\n",
    "    返回所有查询的答案。你的答案应当以数组 answer 给出，answer[i] 为第 i 次查询的答案。\n",
    "\n",
    "示例：\n",
    "    输入：A = [1,2,3,4], queries = [[1,0],[-3,1],[-4,0],[2,3]]\n",
    "    输出：[8,6,2,4]\n",
    "    解释：\n",
    "        开始时，数组为 [1,2,3,4]。\n",
    "        将 1 加到 A[0] 上之后，数组为 [2,2,3,4]，偶数值之和为 2 + 2 + 4 = 8。\n",
    "        将 -3 加到 A[1] 上之后，数组为 [2,-1,3,4]，偶数值之和为 2 + 4 = 6。\n",
    "        将 -4 加到 A[0] 上之后，数组为 [-2,-1,3,4]，偶数值之和为 -2 + 4 = 2。\n",
    "        将 2 加到 A[3] 上之后，数组为 [-2,-1,3,6]，偶数值之和为 -2 + 6 = 4。\n",
    "\n",
    "提示：\n",
    "    1、1 <= A.length <= 10000\n",
    "    2、-10000 <= A[i] <= 10000\n",
    "    3、1 <= queries.length <= 10000\n",
    "    4、-10000 <= queries[i][0] <= 10000\n",
    "    5、0 <= queries[i][1] < A.length"
   ]
  },
  {
   "cell_type": "code",
   "execution_count": 56,
   "metadata": {},
   "outputs": [],
   "source": [
    "class Solution:\n",
    "    def sumEvenAfterQueries(self, A, queries):\n",
    "        ans, N, c = [], len(A), 0\n",
    "        for v in A:\n",
    "            if v % 2 == 0:\n",
    "                c += v\n",
    "        ans.append(c)\n",
    "        for i in range(N):\n",
    "            val, idx = queries[i]\n",
    "            past_val = A[idx]\n",
    "            new_val = A[idx] + val\n",
    "            A[idx] = new_val\n",
    "            if past_val % 2 == 0:\n",
    "                if new_val % 2 == 0:\n",
    "                    ans.append(ans[-1] - past_val + new_val)\n",
    "                else:\n",
    "                    ans.append(ans[-1] - past_val)\n",
    "            else:\n",
    "                if new_val % 2 == 0:\n",
    "                    ans.append(ans[-1] + new_val)\n",
    "                else:\n",
    "                    ans.append(ans[-1])\n",
    "        return ans[1:] if ans[1:] else [0]"
   ]
  },
  {
   "cell_type": "code",
   "execution_count": 57,
   "metadata": {},
   "outputs": [
    {
     "name": "stdout",
     "output_type": "stream",
     "text": [
      "[2, 2, 12]\n"
     ]
    },
    {
     "data": {
      "text/plain": [
       "[2, 12]"
      ]
     },
     "execution_count": 57,
     "metadata": {},
     "output_type": "execute_result"
    }
   ],
   "source": [
    "solution = Solution()\n",
    "solution.sumEvenAfterQueries([3,2], [[4,0],[3,0]])"
   ]
  },
  {
   "cell_type": "code",
   "execution_count": 18,
   "metadata": {},
   "outputs": [
    {
     "data": {
      "text/plain": [
       "0"
      ]
     },
     "execution_count": 18,
     "metadata": {},
     "output_type": "execute_result"
    }
   ],
   "source": [
    "-10 % 2"
   ]
  },
  {
   "cell_type": "code",
   "execution_count": null,
   "metadata": {},
   "outputs": [],
   "source": []
  }
 ],
 "metadata": {
  "kernelspec": {
   "display_name": "Python 3",
   "language": "python",
   "name": "python3"
  },
  "language_info": {
   "codemirror_mode": {
    "name": "ipython",
    "version": 3
   },
   "file_extension": ".py",
   "mimetype": "text/x-python",
   "name": "python",
   "nbconvert_exporter": "python",
   "pygments_lexer": "ipython3",
   "version": "3.6.2"
  }
 },
 "nbformat": 4,
 "nbformat_minor": 4
}
