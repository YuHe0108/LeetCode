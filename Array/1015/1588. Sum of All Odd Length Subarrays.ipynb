{
 "cells": [
  {
   "cell_type": "raw",
   "metadata": {},
   "source": [
    "说明：\n",
    "    给你一个正整数数组 arr ，请你计算所有可能的奇数长度子数组的和。\n",
    "    子数组 定义为原数组中的一个连续子序列。\n",
    "    请你返回 arr 中 所有奇数长度子数组的和 。\n",
    "\n",
    "示例 1：\n",
    "    输入：arr = [1,4,2,5,3]\n",
    "    输出：58\n",
    "    解释：所有奇数长度子数组和它们的和为：\n",
    "            [1] = 1\n",
    "            [4] = 4\n",
    "            [2] = 2\n",
    "            [5] = 5\n",
    "            [3] = 3\n",
    "            [1,4,2] = 7\n",
    "            [4,2,5] = 11\n",
    "            [2,5,3] = 10\n",
    "            [1,4,2,5,3] = 15\n",
    "            我们将所有值求和得到 1 + 4 + 2 + 5 + 3 + 7 + 11 + 10 + 15 = 58\n",
    "\n",
    "示例 2：\n",
    "    输入：arr = [1,2]\n",
    "    输出：3\n",
    "    解释：总共只有 2 个长度为奇数的子数组，[1] 和 [2]。它们的和为 3 。\n",
    "\n",
    "示例 3：\n",
    "    输入：arr = [10,11,12]\n",
    "    输出：66\n",
    "\n",
    "提示：\n",
    "    1、1 <= arr.length <= 100\n",
    "    2、1 <= arr[i] <= 1000"
   ]
  },
  {
   "cell_type": "code",
   "execution_count": 33,
   "metadata": {},
   "outputs": [],
   "source": [
    "class Solution:\n",
    "    def sumOddLengthSubarrays(self, arr) -> int:\n",
    "        N = len(arr)\n",
    "        gap_range = [x for x in range(N + 1) if x % 2 == 1]\n",
    "        sum_val = 0\n",
    "        for gap in gap_range:\n",
    "            for start in range(N - gap + 1):\n",
    "                end = start + gap\n",
    "                sum_val += sum(arr[start:end])\n",
    "        return sum_val"
   ]
  },
  {
   "cell_type": "code",
   "execution_count": 34,
   "metadata": {},
   "outputs": [
    {
     "name": "stdout",
     "output_type": "stream",
     "text": [
      "0 1 [1]\n",
      "1 2 [4]\n",
      "2 3 [2]\n",
      "3 4 [5]\n",
      "4 5 [3]\n",
      "0 3 [1, 4, 2]\n",
      "1 4 [4, 2, 5]\n",
      "2 5 [2, 5, 3]\n",
      "0 5 [1, 4, 2, 5, 3]\n"
     ]
    },
    {
     "data": {
      "text/plain": [
       "58"
      ]
     },
     "execution_count": 34,
     "metadata": {},
     "output_type": "execute_result"
    }
   ],
   "source": [
    "solution = Solution()\n",
    "solution.sumOddLengthSubarrays([1,4,2,5,3])"
   ]
  },
  {
   "cell_type": "code",
   "execution_count": null,
   "metadata": {},
   "outputs": [],
   "source": []
  },
  {
   "cell_type": "code",
   "execution_count": null,
   "metadata": {},
   "outputs": [],
   "source": []
  }
 ],
 "metadata": {
  "kernelspec": {
   "display_name": "Python 3",
   "language": "python",
   "name": "python3"
  },
  "language_info": {
   "codemirror_mode": {
    "name": "ipython",
    "version": 3
   },
   "file_extension": ".py",
   "mimetype": "text/x-python",
   "name": "python",
   "nbconvert_exporter": "python",
   "pygments_lexer": "ipython3",
   "version": "3.6.2"
  }
 },
 "nbformat": 4,
 "nbformat_minor": 4
}
