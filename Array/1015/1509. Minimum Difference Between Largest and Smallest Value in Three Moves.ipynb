{
 "cells": [
  {
   "cell_type": "raw",
   "metadata": {},
   "source": [
    "说明：\n",
    "    给你一个数组 nums ，每次操作你可以选择 nums 中的任意一个元素并将它改成任意值。\n",
    "    请你返回三次操作后， nums 中最大值与最小值的差的最小值。\n",
    "\n",
    "示例 1：\n",
    "    输入：nums = [5,3,2,4]\n",
    "    输出：0\n",
    "    解释：将数组 [5,3,2,4] 变成 [2,2,2,2].\n",
    "    最大值与最小值的差为 2-2 = 0 。\n",
    "\n",
    "示例 2：\n",
    "    输入：nums = [1,5,0,10,14]\n",
    "    输出：1\n",
    "    解释：将数组 [1,5,0,10,14] 变成 [1,1,0,1,1] 。\n",
    "    最大值与最小值的差为 1-0 = 1 。\n",
    "\n",
    "示例 3：\n",
    "    输入：nums = [6,6,0,1,1,4,6]\n",
    "    输出：2\n",
    "\n",
    "示例 4：\n",
    "    输入：nums = [1,5,6,14,15]\n",
    "    输出：1\n",
    "\n",
    "提示：\n",
    "    1、1 <= nums.length <= 10^5\n",
    "    2、-10^9 <= nums[i] <= 10^9"
   ]
  },
  {
   "cell_type": "code",
   "execution_count": 20,
   "metadata": {},
   "outputs": [],
   "source": [
    "class Solution:\n",
    "    def minDifference(self, nums) -> int:\n",
    "        nums.sort()\n",
    "        past_three_val = nums[-4]\n",
    "        pre_three_val = nums[3]\n",
    "        return min(past_three_val - nums[0], nums[-1] - pre_three_val)"
   ]
  },
  {
   "cell_type": "code",
   "execution_count": 29,
   "metadata": {},
   "outputs": [],
   "source": [
    "class Solution:\n",
    "    def minDifference(self, A) -> int:\n",
    "        if len(A) <= 3: \n",
    "            return 0\n",
    "        A.sort()\n",
    "        pre = A[:4]\n",
    "        past = A[-4:]\n",
    "        print(A, pre, past)\n",
    "        return min(past[i] - pre[i] for i in range(4))"
   ]
  },
  {
   "cell_type": "code",
   "execution_count": 30,
   "metadata": {},
   "outputs": [
    {
     "name": "stdout",
     "output_type": "stream",
     "text": [
      "[1, 5, 6, 14, 15] [1, 5, 6, 14] [5, 6, 14, 15]\n"
     ]
    },
    {
     "data": {
      "text/plain": [
       "1"
      ]
     },
     "execution_count": 30,
     "metadata": {},
     "output_type": "execute_result"
    }
   ],
   "source": [
    "solution = Solution()\n",
    "solution.minDifference(A = [1,5,6,14,15])"
   ]
  },
  {
   "cell_type": "code",
   "execution_count": null,
   "metadata": {},
   "outputs": [],
   "source": []
  },
  {
   "cell_type": "code",
   "execution_count": null,
   "metadata": {},
   "outputs": [],
   "source": []
  }
 ],
 "metadata": {
  "kernelspec": {
   "display_name": "Python 3",
   "language": "python",
   "name": "python3"
  },
  "language_info": {
   "codemirror_mode": {
    "name": "ipython",
    "version": 3
   },
   "file_extension": ".py",
   "mimetype": "text/x-python",
   "name": "python",
   "nbconvert_exporter": "python",
   "pygments_lexer": "ipython3",
   "version": "3.6.2"
  }
 },
 "nbformat": 4,
 "nbformat_minor": 4
}
