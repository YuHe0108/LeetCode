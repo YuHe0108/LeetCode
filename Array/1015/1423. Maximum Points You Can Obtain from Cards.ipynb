{
 "cells": [
  {
   "cell_type": "raw",
   "metadata": {},
   "source": [
    "说明：\n",
    "    几张卡牌 排成一行，每张卡牌都有一个对应的点数。\n",
    "    点数由整数数组 cardPoints 给出。\n",
    "    每次行动，你可以从行的开头或者末尾拿一张卡牌，最终你必须正好拿 k 张卡牌。\n",
    "    你的点数就是你拿到手中的所有卡牌的点数之和。\n",
    "    给你一个整数数组 cardPoints 和整数 k，请你返回可以获得的最大点数。\n",
    "\n",
    "示例 1：\n",
    "    输入：cardPoints = [1,2,3,4,5,6,1], k = 3\n",
    "    输出：12\n",
    "    解释：第一次行动，不管拿哪张牌，你的点数总是 1 。\n",
    "          但是，先拿最右边的卡牌将会最大化你的可获得点数。\n",
    "          最优策略是拿右边的三张牌，最终点数为 1 + 6 + 5 = 12 。\n",
    "\n",
    "示例 2：\n",
    "    输入：cardPoints = [2,2,2], k = 2\n",
    "    输出：4\n",
    "    解释：无论你拿起哪两张卡牌，可获得的点数总是 4 。\n",
    "\n",
    "示例 3：\n",
    "    输入：cardPoints = [9,7,7,9,7,7,9], k = 7\n",
    "    输出：55\n",
    "    解释：你必须拿起所有卡牌，可以获得的点数为所有卡牌的点数之和。\n",
    "\n",
    "示例 4：\n",
    "    输入：cardPoints = [1,1000,1], k = 1\n",
    "    输出：1\n",
    "    解释：你无法拿到中间那张卡牌，所以可以获得的最大点数为 1 。 \n",
    "\n",
    "示例 5：\n",
    "    输入：cardPoints = [1,79,80,1,1,1,200,1], k = 3\n",
    "    输出：202\n",
    "\n",
    "提示：\n",
    "    1、1 <= cardPoints.length <= 10^5\n",
    "    2、1 <= cardPoints[i] <= 10^4\n",
    "    3、1 <= k <= cardPoints.length\n",
    "\n",
    "可以将其看作是一个滑动窗口的问题，求滑动串口内的最小值。"
   ]
  },
  {
   "cell_type": "markdown",
   "metadata": {},
   "source": [
    "<img src='1423.jpg'>"
   ]
  },
  {
   "cell_type": "code",
   "execution_count": 30,
   "metadata": {},
   "outputs": [],
   "source": [
    "class Solution:\n",
    "    def maxScore(self, cardPoints, k: int) -> int:\n",
    "        N = len(cardPoints)\n",
    "        win_len = N - k # 滑动窗口的大小\n",
    "        min_val = []\n",
    "        for start in range(N - win_len + 1):\n",
    "            end = start + win_len\n",
    "            if not min_val:\n",
    "                val = sum(cardPoints[start:end])\n",
    "                min_val.append(val)\n",
    "            else:\n",
    "                val = min_val[-1] + cardPoints[end - 1] - cardPoints[start]\n",
    "                min_val.append(val)\n",
    "        print(min_val, sum(cardPoints))\n",
    "        return sum(cardPoints) - min(min_val)"
   ]
  },
  {
   "cell_type": "code",
   "execution_count": 31,
   "metadata": {},
   "outputs": [
    {
     "name": "stdout",
     "output_type": "stream",
     "text": [
      "[2, 2, 2] 6\n"
     ]
    },
    {
     "data": {
      "text/plain": [
       "4"
      ]
     },
     "execution_count": 31,
     "metadata": {},
     "output_type": "execute_result"
    }
   ],
   "source": [
    "solution = Solution()\n",
    "solution.maxScore(cardPoints = [2,2,2], k = 2)"
   ]
  },
  {
   "cell_type": "code",
   "execution_count": null,
   "metadata": {},
   "outputs": [],
   "source": []
  }
 ],
 "metadata": {
  "kernelspec": {
   "display_name": "Python 3",
   "language": "python",
   "name": "python3"
  },
  "language_info": {
   "codemirror_mode": {
    "name": "ipython",
    "version": 3
   },
   "file_extension": ".py",
   "mimetype": "text/x-python",
   "name": "python",
   "nbconvert_exporter": "python",
   "pygments_lexer": "ipython3",
   "version": "3.6.2"
  }
 },
 "nbformat": 4,
 "nbformat_minor": 4
}
