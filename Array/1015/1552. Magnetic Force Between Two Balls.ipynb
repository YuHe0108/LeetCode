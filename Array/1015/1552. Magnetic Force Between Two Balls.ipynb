{
 "cells": [
  {
   "cell_type": "raw",
   "metadata": {},
   "source": [
    "说明：\n",
    "    在代号为 C-137 的地球上，Rick 发现如果他将两个球放在他新发明的篮子里，它们之间会形成特殊形式的磁力。\n",
    "    Rick 有 n 个空的篮子，第 i 个篮子的位置在 position[i] ，Morty 想把 m 个球放到这些篮子里，\n",
    "    使得任意两球间 最小磁力 最大。\n",
    "    已知两个球如果分别位于 x 和 y ，那么它们之间的磁力为 |x - y| 。\n",
    "    给你一个整数数组 position 和一个整数 m ，请你返回最大化的最小磁力。"
   ]
  },
  {
   "cell_type": "markdown",
   "metadata": {},
   "source": [
    "<img src='https://assets.leetcode-cn.com/aliyun-lc-upload/uploads/2020/08/16/q3v1.jpg'>"
   ]
  },
  {
   "cell_type": "raw",
   "metadata": {},
   "source": [
    "示例 1：\n",
    "    输入：position = [1,2,3,4,7], m = 3\n",
    "    输出：3\n",
    "    解释：将 3 个球分别放入位于 1，4 和 7 的三个篮子，两球间的磁力分别为 [3, 3, 6]。最小磁力为 3 。我们没办法让最小磁力大于 3 。\n",
    "\n",
    "示例 2：\n",
    "    输入：position = [5,4,3,2,1,1000000000], m = 2\n",
    "    输出：999999999\n",
    "    解释：我们使用位于 1 和 1000000000 的篮子时最小磁力最大。\n",
    " \n",
    "提示：\n",
    "    1、n == position.length\n",
    "    2、2 <= n <= 10^5\n",
    "    3、1 <= position[i] <= 10^9\n",
    "    4、所有 position 中的整数 互不相同 。\n",
    "    5、2 <= m <= position.length"
   ]
  },
  {
   "cell_type": "code",
   "execution_count": 22,
   "metadata": {},
   "outputs": [],
   "source": [
    "class Solution:\n",
    "    def maxDistance(self, position, m: int) -> int:\n",
    "        position.sort()\n",
    "        # 每个小球间隔的距离，距离越小，越有可能在 position中放在m个小球，但有可能不是最优解\n",
    "        left, right = 0, position[-1] - position[0]\n",
    "        while left < right:\n",
    "            mid = right - (right - left) // 2\n",
    "            if self.helper(mid, position, m):\n",
    "                left = mid\n",
    "            else:\n",
    "                right = mid - 1\n",
    "        return left\n",
    "    \n",
    "    def helper(self, dist, position, m):\n",
    "        idx_0 = 0\n",
    "        count = 1\n",
    "        while idx_0 < len(position):\n",
    "            idx_1 = idx_0\n",
    "            while idx_1 < len(position) and position[idx_1] - position[idx_0] < dist:\n",
    "                idx_1 += 1\n",
    "            if idx_1 == len(position):\n",
    "                break\n",
    "            else:\n",
    "                count += 1\n",
    "                idx_0 = idx_1\n",
    "            if count == m:\n",
    "                return True\n",
    "        return False  "
   ]
  },
  {
   "cell_type": "code",
   "execution_count": 30,
   "metadata": {},
   "outputs": [],
   "source": [
    "# 要求的就是两个球之间的距离尽可能的大，最小就是1，最大就是\n",
    "class Solution:\n",
    "    def maxDistance(self, position, m: int) -> int:\n",
    "        position.sort()\n",
    "        left, right = position[1] - position[0], position[-1] - position[0]\n",
    "        while left < right:\n",
    "            mid = right - (right - left) // 2\n",
    "            # 如果能放下，就是mid这么大的间隔有点小，可以放大这个间隔\n",
    "            if self.helper(mid, position, m):\n",
    "                left = mid\n",
    "            else:\n",
    "                # 不然就是mid这个间隔太大了，应当缩小\n",
    "                right = mid - 1\n",
    "        return left\n",
    "    \n",
    "    def helper(self, dist, position, m):\n",
    "        count = 1\n",
    "        idx_0 = 0\n",
    "        N = len(position)\n",
    "        while idx_0 < N:\n",
    "            idx_1 = idx_0\n",
    "            while idx_1 < N and position[idx_1] - position[idx_0] < dist:\n",
    "                idx_1 += 1\n",
    "            if idx_1 == N:\n",
    "                return False\n",
    "            else:\n",
    "                count += 1\n",
    "                idx_0 = idx_1\n",
    "            if count == m:\n",
    "                return True\n",
    "        return False"
   ]
  },
  {
   "cell_type": "code",
   "execution_count": 31,
   "metadata": {},
   "outputs": [
    {
     "data": {
      "text/plain": [
       "3"
      ]
     },
     "execution_count": 31,
     "metadata": {},
     "output_type": "execute_result"
    }
   ],
   "source": [
    "solution = Solution()\n",
    "solution.maxDistance(position = [1,2,3,4,7], m = 3)"
   ]
  },
  {
   "cell_type": "code",
   "execution_count": null,
   "metadata": {},
   "outputs": [],
   "source": []
  },
  {
   "cell_type": "code",
   "execution_count": null,
   "metadata": {},
   "outputs": [],
   "source": []
  }
 ],
 "metadata": {
  "kernelspec": {
   "display_name": "Python 3",
   "language": "python",
   "name": "python3"
  },
  "language_info": {
   "codemirror_mode": {
    "name": "ipython",
    "version": 3
   },
   "file_extension": ".py",
   "mimetype": "text/x-python",
   "name": "python",
   "nbconvert_exporter": "python",
   "pygments_lexer": "ipython3",
   "version": "3.6.2"
  }
 },
 "nbformat": 4,
 "nbformat_minor": 4
}
