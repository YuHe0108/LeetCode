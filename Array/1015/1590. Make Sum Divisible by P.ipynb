{
 "cells": [
  {
   "cell_type": "raw",
   "metadata": {},
   "source": [
    "说明：\n",
    "    给你一个正整数数组 nums，请你移除 最短 子数组（可以为 空），使得剩余元素的 和 能被 p 整除。 \n",
    "    不允许 将整个数组都移除。\n",
    "    请你返回你需要移除的最短子数组的长度，如果无法满足题目要求，返回 -1 。\n",
    "    子数组 定义为原数组中连续的一组元素。\n",
    "\n",
    "示例 1：\n",
    "    输入：nums = [3,1,4,2], p = 6\n",
    "    输出：1\n",
    "    解释：nums 中元素和为 10，不能被 p 整除。我们可以移除子数组 [4] ，剩余元素的和为 6 。\n",
    "\n",
    "示例 2：\n",
    "    输入：nums = [6,3,5,2], p = 9\n",
    "    输出：2\n",
    "    解释：我们无法移除任何一个元素使得和被 9 整除，最优方案是移除子数组 [5,2] ，剩余元素为 [6,3]，和为 9 。\n",
    "\n",
    "示例 3：\n",
    "    输入：nums = [1,2,3], p = 3\n",
    "    输出：0\n",
    "    解释：和恰好为 6 ，已经能被 3 整除了。所以我们不需要移除任何元素。\n",
    "\n",
    "示例  4：\n",
    "    输入：nums = [1,2,3], p = 7\n",
    "    输出：-1\n",
    "    解释：没有任何方案使得移除子数组后剩余元素的和被 7 整除。\n",
    "\n",
    "示例 5：\n",
    "    输入：nums = [1000000000,1000000000,1000000000], p = 3\n",
    "    输出：0\n",
    " \n",
    "提示：\n",
    "    1、1 <= nums.length <= 10^5\n",
    "    2、1 <= nums[i] <= 10^9\n",
    "    3、1 <= p <= 10^9"
   ]
  },
  {
   "cell_type": "code",
   "execution_count": 4,
   "metadata": {},
   "outputs": [],
   "source": [
    "class Solution:\n",
    "    def minSubarray(self, nums, p: int) -> int:\n",
    "        sum_val = sum(nums)\n",
    "        if sum_val % p == 0: return 0 \n",
    "        nums.sort()\n",
    "        print(nums)"
   ]
  },
  {
   "cell_type": "code",
   "execution_count": 25,
   "metadata": {},
   "outputs": [],
   "source": [
    "class Solution:\n",
    "    def minSubarray(self, nums, p: int) -> int:\n",
    "        n_dict = {}\n",
    "        n_dict[0] = -1\n",
    "        \n",
    "        # 求现在的 nums 对 p 的余数是多少\n",
    "        total_sum = 0\n",
    "        for n in nums:\n",
    "            total_sum = (total_sum + n) % p\n",
    "        mod_val = total_sum % p\n",
    "        if mod_val == 0: return 0\n",
    "        \n",
    "        pre_sum = 0\n",
    "        ret = float('inf')\n",
    "        \n",
    "        for j in range(len(nums)):\n",
    "            pre_sum = (pre_sum + nums[j]) % p\n",
    "            pre_mod = pre_sum \n",
    "            print(pre_sum, pre_mod)\n",
    "            sub_mod = (pre_mod - mod_val + p) % p\n",
    "            \n",
    "            if sub_mod in n_dict:\n",
    "                i = n_dict[sub_mod] + 1\n",
    "                ret = min(ret, j - i + 1)\n",
    "            n_dict[pre_mod] = j\n",
    "            \n",
    "        if ret < len(nums):\n",
    "            return ret\n",
    "        return -1"
   ]
  },
  {
   "cell_type": "markdown",
   "metadata": {},
   "source": [
    "<img src='1590.jpg'>"
   ]
  },
  {
   "cell_type": "code",
   "execution_count": 52,
   "metadata": {},
   "outputs": [],
   "source": [
    "class Solution:\n",
    "    def minSubarray(self, nums, p: int) -> int:\n",
    "        n_dict = {0: -1}\n",
    "        \n",
    "        # 求现在的 nums 对 p 的余数是多少\n",
    "        mod_val = 0\n",
    "        for n in nums:\n",
    "            mod_val = (mod_val + n) % p\n",
    "        if mod_val == 0: return 0\n",
    "        \n",
    "        pre_mod = 0\n",
    "        ret = float('inf')\n",
    "        for j in range(len(nums)):\n",
    "            # 当前 nums[:j+1]位置上，前缀和的余数是多少\n",
    "            pre_mod = (pre_mod + nums[j]) % p\n",
    "            \n",
    "            # 我们期望的 前缀和: pre_mode - mod_val\n",
    "            sub_mod = (pre_mod - mod_val + p) % p\n",
    "            print(pre_mod, sub_mod, mod_val, p)\n",
    "            if sub_mod in n_dict:\n",
    "                i = n_dict[sub_mod]\n",
    "                ret = min(ret, j - i)\n",
    "            n_dict[pre_mod] = j\n",
    "        \n",
    "        print(n_dict, mod_val)\n",
    "        if ret < len(nums):\n",
    "            return ret\n",
    "        return -1"
   ]
  },
  {
   "cell_type": "code",
   "execution_count": 53,
   "metadata": {},
   "outputs": [
    {
     "name": "stdout",
     "output_type": "stream",
     "text": [
      "6 8 7 9\n",
      "0 2 7 9\n",
      "5 7 7 9\n",
      "7 0 7 9\n",
      "{0: 1, 6: 0, 5: 2, 7: 3} 7\n"
     ]
    },
    {
     "data": {
      "text/plain": [
       "2"
      ]
     },
     "execution_count": 53,
     "metadata": {},
     "output_type": "execute_result"
    }
   ],
   "source": [
    "solution = Solution()\n",
    "solution.minSubarray(nums = [6,3,5,2], p = 9)"
   ]
  },
  {
   "cell_type": "code",
   "execution_count": 8,
   "metadata": {},
   "outputs": [
    {
     "name": "stdout",
     "output_type": "stream",
     "text": [
      "7\n"
     ]
    }
   ],
   "source": []
  },
  {
   "cell_type": "code",
   "execution_count": null,
   "metadata": {},
   "outputs": [],
   "source": []
  }
 ],
 "metadata": {
  "kernelspec": {
   "display_name": "Python 3",
   "language": "python",
   "name": "python3"
  },
  "language_info": {
   "codemirror_mode": {
    "name": "ipython",
    "version": 3
   },
   "file_extension": ".py",
   "mimetype": "text/x-python",
   "name": "python",
   "nbconvert_exporter": "python",
   "pygments_lexer": "ipython3",
   "version": "3.6.2"
  }
 },
 "nbformat": 4,
 "nbformat_minor": 4
}
