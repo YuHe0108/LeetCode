{
 "cells": [
  {
   "cell_type": "raw",
   "metadata": {},
   "source": [
    "说明：\n",
    "    给你一个由 不同 整数组成的整数数组 arr 和一个整数 k 。\n",
    "    每回合游戏都在数组的前两个元素（即 arr[0] 和 arr[1] ）之间进行。\n",
    "    比较 arr[0] 与 arr[1] 的大小，较大的整数将会取得这一回合的胜利并保留在位置 0 ，较小的整数移至数组的末尾。\n",
    "    当一个整数赢得 k 个连续回合时，游戏结束，该整数就是比赛的 赢家 。\n",
    "    返回赢得比赛的整数。\n",
    "    题目数据 保证 游戏存在赢家。\n",
    "\n",
    "示例 1：\n",
    "    输入：arr = [2,1,3,5,4,6,7], k = 2\n",
    "    输出：5\n",
    "    解释：一起看一下本场游戏每回合的情况：\n",
    "    因此将进行 4 回合比赛，其中 5 是赢家，因为它连胜 2 回合。\n",
    "\n",
    "示例 2：\n",
    "    输入：arr = [3,2,1], k = 10\n",
    "    输出：3\n",
    "    解释：3 将会在前 10 个回合中连续获胜。\n",
    "\n",
    "示例 3：\n",
    "    输入：arr = [1,9,8,2,3,7,6,4,5], k = 7\n",
    "    输出：9\n",
    "\n",
    "示例 4：\n",
    "    输入：arr = [1,11,22,33,44,55,66,77,88,99], k = 1000000000\n",
    "    输出：99\n",
    "\n",
    "提示：\n",
    "    1、2 <= arr.length <= 10^5\n",
    "    2、1 <= arr[i] <= 10^6\n",
    "    3、arr 所含的整数 各不相同 。\n",
    "    4、1 <= k <= 10^9"
   ]
  },
  {
   "cell_type": "markdown",
   "metadata": {},
   "source": [
    "<img src='https://assets.leetcode-cn.com/aliyun-lc-upload/uploads/2020/07/30/q-example.png'>"
   ]
  },
  {
   "cell_type": "code",
   "execution_count": 35,
   "metadata": {},
   "outputs": [],
   "source": [
    "from collections import deque, defaultdict\n",
    "\n",
    "class Solution:\n",
    "    def getWinner(self, arr, k: int) -> int:\n",
    "        dq = deque(arr)\n",
    "        N = len(arr)\n",
    "        k = min(k, N - 1) # 最大的数字，也只能大于 N-1个数\n",
    "        arr_dict = defaultdict(list)\n",
    "        max_count = -float('inf')\n",
    "        out = None\n",
    "        while max_count != k:\n",
    "            arr_0 = deque.popleft(dq)\n",
    "            arr_1 = deque.popleft(dq)\n",
    "            if arr_0 > arr_1:\n",
    "                deque.appendleft(dq, arr_0)\n",
    "                deque.append(dq, arr_1)\n",
    "                arr_dict[arr_0].append(arr_1)\n",
    "                key, val = arr_0, len(arr_dict[arr_0])\n",
    "            else:\n",
    "                deque.appendleft(dq, arr_1)\n",
    "                deque.append(dq, arr_0)\n",
    "                arr_dict[arr_1].append(arr_0)\n",
    "                key, val = arr_1, len(arr_dict[arr_1])\n",
    "                \n",
    "            max_count = max(max_count, val)\n",
    "            if max_count >= k:\n",
    "                out = key\n",
    "            print(dq)\n",
    "        print(arr_dict, max_count, dq)\n",
    "        return out"
   ]
  },
  {
   "cell_type": "code",
   "execution_count": 36,
   "metadata": {},
   "outputs": [
    {
     "name": "stdout",
     "output_type": "stream",
     "text": [
      "deque([11, 22, 33, 44, 55, 66, 77, 88, 99, 1])\n",
      "deque([22, 33, 44, 55, 66, 77, 88, 99, 1, 11])\n",
      "deque([33, 44, 55, 66, 77, 88, 99, 1, 11, 22])\n",
      "deque([44, 55, 66, 77, 88, 99, 1, 11, 22, 33])\n",
      "deque([55, 66, 77, 88, 99, 1, 11, 22, 33, 44])\n",
      "deque([66, 77, 88, 99, 1, 11, 22, 33, 44, 55])\n",
      "deque([77, 88, 99, 1, 11, 22, 33, 44, 55, 66])\n",
      "deque([88, 99, 1, 11, 22, 33, 44, 55, 66, 77])\n",
      "deque([99, 1, 11, 22, 33, 44, 55, 66, 77, 88])\n",
      "deque([99, 11, 22, 33, 44, 55, 66, 77, 88, 1])\n",
      "deque([99, 22, 33, 44, 55, 66, 77, 88, 1, 11])\n",
      "deque([99, 33, 44, 55, 66, 77, 88, 1, 11, 22])\n",
      "deque([99, 44, 55, 66, 77, 88, 1, 11, 22, 33])\n",
      "deque([99, 55, 66, 77, 88, 1, 11, 22, 33, 44])\n",
      "deque([99, 66, 77, 88, 1, 11, 22, 33, 44, 55])\n",
      "deque([99, 77, 88, 1, 11, 22, 33, 44, 55, 66])\n",
      "deque([99, 88, 1, 11, 22, 33, 44, 55, 66, 77])\n",
      "defaultdict(<class 'list'>, {11: [1], 22: [11], 33: [22], 44: [33], 55: [44], 66: [55], 77: [66], 88: [77], 99: [88, 1, 11, 22, 33, 44, 55, 66, 77]}) 9 deque([99, 88, 1, 11, 22, 33, 44, 55, 66, 77])\n"
     ]
    },
    {
     "data": {
      "text/plain": [
       "99"
      ]
     },
     "execution_count": 36,
     "metadata": {},
     "output_type": "execute_result"
    }
   ],
   "source": [
    "solution = Solution()\n",
    "solution.getWinner(arr = [1,11,22,33,44,55,66,77,88,99], k = 1000000000)"
   ]
  },
  {
   "cell_type": "code",
   "execution_count": null,
   "metadata": {},
   "outputs": [],
   "source": []
  }
 ],
 "metadata": {
  "kernelspec": {
   "display_name": "Python 3",
   "language": "python",
   "name": "python3"
  },
  "language_info": {
   "codemirror_mode": {
    "name": "ipython",
    "version": 3
   },
   "file_extension": ".py",
   "mimetype": "text/x-python",
   "name": "python",
   "nbconvert_exporter": "python",
   "pygments_lexer": "ipython3",
   "version": "3.6.2"
  }
 },
 "nbformat": 4,
 "nbformat_minor": 4
}
