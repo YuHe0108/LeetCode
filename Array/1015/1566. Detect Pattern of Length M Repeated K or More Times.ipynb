{
 "cells": [
  {
   "cell_type": "raw",
   "metadata": {},
   "source": [
    "说明：\n",
    "    给你一个正整数数组 arr，请你找出一个长度为 m 且在数组中至少重复 k 次的模式。\n",
    "    模式 是由一个或多个值组成的子数组（连续的子序列），连续 重复多次但 不重叠 。 \n",
    "    模式由其长度和重复次数定义。\n",
    "    如果数组中存在至少重复 k 次且长度为 m 的模式，则返回 true ，否则返回  false 。\n",
    "\n",
    "示例 1：\n",
    "    输入：arr = [1,2,4,4,4,4], m = 1, k = 3\n",
    "    输出：true\n",
    "    解释：模式 (4) 的长度为 1 ，且连续重复 4 次。注意，模式可以重复 k 次或更多次，但不能少于 k 次。\n",
    "\n",
    "示例 2：\n",
    "    输入：arr = [1,2,1,2,1,1,1,3], m = 2, k = 2\n",
    "    输出：true\n",
    "    解释：模式 (1,2) 长度为 2 ，且连续重复 2 次。另一个符合题意的模式是 (2,1) ，同样重复 2 次。\n",
    "\n",
    "示例 3：\n",
    "    输入：arr = [1,2,1,2,1,3], m = 2, k = 3\n",
    "    输出：false\n",
    "    解释：模式 (1,2) 长度为 2 ，但是只连续重复 2 次。不存在长度为 2 且至少重复 3 次的模式。\n",
    "\n",
    "示例 4：\n",
    "    输入：arr = [1,2,3,1,2], m = 2, k = 2\n",
    "    输出：false\n",
    "    解释：模式 (1,2) 出现 2 次但并不连续，所以不能算作连续重复 2 次。\n",
    "\n",
    "示例 5：\n",
    "    输入：arr = [2,2,2,2], m = 2, k = 3\n",
    "    输出：false\n",
    "    解释：长度为 2 的模式只有 (2,2) ，但是只连续重复 2 次。注意，不能计算重叠的重复次数。\n",
    "\n",
    "提示：\n",
    "    1、2 <= arr.length <= 100\n",
    "    2、1 <= arr[i] <= 100\n",
    "    3、1 <= m <= 100\n",
    "    4、2 <= k <= 100"
   ]
  },
  {
   "cell_type": "code",
   "execution_count": 89,
   "metadata": {},
   "outputs": [],
   "source": [
    "from collections import Counter\n",
    "\n",
    "class Solution:\n",
    "    def containsPattern(self, arr, m: int, k: int) -> bool:\n",
    "        arr_count = {}\n",
    "        N = len(arr)\n",
    "        count = 1\n",
    "        start = 0\n",
    "        while start <= N - m:\n",
    "            end = start + m\n",
    "            sub_arr = tuple(arr[start:end])\n",
    "            if sub_arr not in arr_count:\n",
    "                arr_count[sub_arr] = [(start, end)]\n",
    "            else:\n",
    "                arr_count[sub_arr].append((start, end))\n",
    "            start += 1\n",
    "        \n",
    "        \n",
    "        for key, val in arr_count.items():\n",
    "            if len(val) >= k:\n",
    "                print(val)\n",
    "                for i in range(len(val)):\n",
    "                    s, e = val[i]\n",
    "                    count = 1\n",
    "                    for j in range(i+1, len(val)):\n",
    "                        n_s, n_e = val[j]\n",
    "                        if n_s == e:\n",
    "                            count += 1\n",
    "                            s, e = n_s, n_e\n",
    "                        if count >= k:\n",
    "                            return True\n",
    "        return False"
   ]
  },
  {
   "cell_type": "code",
   "execution_count": null,
   "metadata": {},
   "outputs": [],
   "source": [
    "from collections import Counter\n",
    "class Solution:\n",
    "    def containsPattern(self, arr: List[int], m: int, k: int) -> bool:\n",
    "        if m*k > len(arr): return False\n",
    "        for i in range(len(arr)-m):\n",
    "            if arr[i:i+m]*k == arr[i:i+m*k]:\n",
    "                return True\n",
    "        return False"
   ]
  },
  {
   "cell_type": "code",
   "execution_count": 90,
   "metadata": {},
   "outputs": [
    {
     "name": "stdout",
     "output_type": "stream",
     "text": [
      "[(2, 3), (3, 4), (4, 5), (5, 6)]\n"
     ]
    },
    {
     "data": {
      "text/plain": [
       "True"
      ]
     },
     "execution_count": 90,
     "metadata": {},
     "output_type": "execute_result"
    }
   ],
   "source": [
    "solution = Solution()\n",
    "solution.containsPattern(arr = [1,2,4,4,4,4], m = 1, k = 3)"
   ]
  },
  {
   "cell_type": "code",
   "execution_count": null,
   "metadata": {},
   "outputs": [],
   "source": []
  }
 ],
 "metadata": {
  "kernelspec": {
   "display_name": "Python 3",
   "language": "python",
   "name": "python3"
  },
  "language_info": {
   "codemirror_mode": {
    "name": "ipython",
    "version": 3
   },
   "file_extension": ".py",
   "mimetype": "text/x-python",
   "name": "python",
   "nbconvert_exporter": "python",
   "pygments_lexer": "ipython3",
   "version": "3.6.2"
  }
 },
 "nbformat": 4,
 "nbformat_minor": 4
}
