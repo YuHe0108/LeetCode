{
 "cells": [
  {
   "cell_type": "raw",
   "metadata": {},
   "source": [
    "说明：\n",
    "    给你一个整数数组 arr 和一个整数 k ，其中数组长度是偶数，值为 n 。\n",
    "    现在需要把数组恰好分成 n / 2 对，以使每对数字的和都能够被 k 整除。\n",
    "    如果存在这样的分法，请返回 True ；否则，返回 False 。\n",
    "\n",
    "示例 1：\n",
    "    输入：arr = [1,2,3,4,5,10,6,7,8,9], k = 5\n",
    "    输出：true\n",
    "    解释：划分后的数字对为 (1,9),(2,8),(3,7),(4,6) 以及 (5,10) 。\n",
    "\n",
    "示例 2：\n",
    "    输入：arr = [1,2,3,4,5,6], k = 7\n",
    "    输出：true\n",
    "    解释：划分后的数字对为 (1,6),(2,5) 以及 (3,4) 。\n",
    "\n",
    "示例 3：\n",
    "    输入：arr = [1,2,3,4,5,6], k = 10\n",
    "    输出：false\n",
    "    解释：无法在将数组中的数字分为三对的同时满足每对数字和能够被 10 整除的条件。\n",
    "\n",
    "示例 4：\n",
    "    输入：arr = [-10,10], k = 2\n",
    "    输出：true\n",
    "\n",
    "示例 5：\n",
    "    输入：arr = [-1,1,-2,2,-3,3,-4,4], k = 3\n",
    "    输出：true\n",
    "\n",
    "提示：\n",
    "    1、arr.length == n\n",
    "    2、2 <= n <= 10^5\n",
    "    3、n 为偶数\n",
    "    4、-10^9 <= arr[i] <= 10^9\n",
    "    5、1 <= k <= 10^5"
   ]
  },
  {
   "cell_type": "code",
   "execution_count": 10,
   "metadata": {},
   "outputs": [],
   "source": [
    "from collections import defaultdict\n",
    "\n",
    "class Solution:\n",
    "    def canArrange(self, arr, k: int) -> bool:\n",
    "        mod_val = 0\n",
    "        for n in arr:\n",
    "            mod_val = (mod_val + n) % k\n",
    "        if mod_val != 0: return False\n",
    "        \n",
    "        arr_dict = defaultdict(int)\n",
    "        count = 0\n",
    "        for i, num in enumerate(arr):\n",
    "            key = k - (num % k)\n",
    "            if key in arr_dict and arr_dict[key] >= 1:\n",
    "                count += 1\n",
    "                arr_dict[key] -= 1\n",
    "            else:\n",
    "                arr_dict[num % k or k] += 1\n",
    "        return count == len(arr) // 2"
   ]
  },
  {
   "cell_type": "code",
   "execution_count": 26,
   "metadata": {},
   "outputs": [],
   "source": [
    "from collections import Counter\n",
    "\n",
    "class Solution:\n",
    "    def canArrange(self, arr, k: int) -> bool:\n",
    "        # arr中的每个数字 对 k 求余数\n",
    "        counter = Counter([x % k for x in arr])\n",
    "        print(counter)\n",
    "        for val in counter:\n",
    "            if val == 0:\n",
    "                if counter[val] % 2:\n",
    "                    return False\n",
    "            else:\n",
    "                if counter[val] != counter[k - val]:\n",
    "                    return False\n",
    "        return True"
   ]
  },
  {
   "cell_type": "code",
   "execution_count": 27,
   "metadata": {},
   "outputs": [
    {
     "name": "stdout",
     "output_type": "stream",
     "text": [
      "Counter({1: 1, 2: 1, 3: 1, 4: 1, 5: 1, 6: 1})\n"
     ]
    },
    {
     "data": {
      "text/plain": [
       "True"
      ]
     },
     "execution_count": 27,
     "metadata": {},
     "output_type": "execute_result"
    }
   ],
   "source": [
    "solution = Solution()\n",
    "solution.canArrange(arr = [1,2,3,4,5,6], k = 7)"
   ]
  },
  {
   "cell_type": "code",
   "execution_count": null,
   "metadata": {},
   "outputs": [],
   "source": []
  }
 ],
 "metadata": {
  "kernelspec": {
   "display_name": "Python 3",
   "language": "python",
   "name": "python3"
  },
  "language_info": {
   "codemirror_mode": {
    "name": "ipython",
    "version": 3
   },
   "file_extension": ".py",
   "mimetype": "text/x-python",
   "name": "python",
   "nbconvert_exporter": "python",
   "pygments_lexer": "ipython3",
   "version": "3.6.2"
  }
 },
 "nbformat": 4,
 "nbformat_minor": 4
}
