{
 "cells": [
  {
   "cell_type": "raw",
   "metadata": {},
   "source": [
    "说明：\n",
    "    给定正整数数组 A，A[i] 表示第 i 个观光景点的评分，并且两个景点 i 和 j 之间的距离为 j - i。\n",
    "    一对景点（i < j）组成的观光组合的得分为（A[i] + A[j] + i - j）：景点的评分之和减去它们两者之间的距离。\n",
    "    返回一对观光景点能取得的最高分。\n",
    "\n",
    "示例：\n",
    "    输入：[8,1,5,2,6]\n",
    "    输出：11\n",
    "    解释：i = 0, j = 2, A[i] + A[j] + i - j = 8 + 5 + 0 - 2 = 11\n",
    " \n",
    "提示：\n",
    "    1、2 <= A.length <= 50000\n",
    "    2、1 <= A[i] <= 1000"
   ]
  },
  {
   "cell_type": "code",
   "execution_count": 7,
   "metadata": {},
   "outputs": [],
   "source": [
    "class Solution:\n",
    "    def maxScoreSightseeingPair(self, A) -> int:\n",
    "        max_val = -float('inf')\n",
    "        res = []\n",
    "        for i in range(len(A)):\n",
    "            for j in range(i+1, len(A)):\n",
    "                max_val = max(max_val, A[i] + A[j] + i - j)\n",
    "        return max_val"
   ]
  },
  {
   "cell_type": "code",
   "execution_count": 3,
   "metadata": {},
   "outputs": [],
   "source": [
    "# 为了使公式“ A[i]+ i + A [j] -j”最大化，我们可以注意到，对于任何索引“ j”，得分均以之前看到的“ A [i] + i”的最佳值最大化（因为“ A [j] -j“是固定的。\n",
    "# 结果，我们可以进行一次O（n）循环，仅记住O（1）空间中“A[i] + i”的最大值，并更新我们观察到的记录得分（变量“最佳”） 。\n",
    "class Solution:\n",
    "    def maxScoreSightseeingPair(self, A) -> int:\n",
    "        K = A[0]\n",
    "        best = -float('inf')\n",
    "        for j in range(1, len(A)):\n",
    "            x = A[j]\n",
    "            best = max(best, K + x - j) # A[i] + i + A[j] - j\n",
    "            K = max(K, x + j) # A[j] + j\n",
    "        return best"
   ]
  },
  {
   "cell_type": "code",
   "execution_count": 19,
   "metadata": {},
   "outputs": [],
   "source": [
    "class Solution:\n",
    "    def maxScoreSightseeingPair(self, A) -> int:\n",
    "        arr = [A[0] + A[j] - j for j in range(1, len(A))] # 第 0 个景点 与其他所有景点 的得分\n",
    "        max_dif = 0\n",
    "        ans = max(arr)\n",
    "        print(arr, ans)\n",
    "        for j in range(1, len(arr)):\n",
    "            max_dif = max(max_dif, A[j] + j - A[0]) # A[0] + A[j] + i - j\n",
    "            print(A[j], j, A[0], A[j] + j - A[0])\n",
    "            ans = max(ans, arr[j] + max_dif) # arr[j]\n",
    "        return ans"
   ]
  },
  {
   "cell_type": "code",
   "execution_count": 23,
   "metadata": {},
   "outputs": [],
   "source": [
    "class Solution:\n",
    "    def maxScoreSightseeingPair(self, A) -> int:\n",
    "        res = 0\n",
    "        max_so_far = A[0] + 0\n",
    "        for i in range(1, len(A)):\n",
    "            res = max(res, max_so_far + A[i] - i) # A[0] + A[i] + i - j\n",
    "            max_so_far = max(max_so_far, A[i] + i)\n",
    "        return res"
   ]
  },
  {
   "cell_type": "code",
   "execution_count": 24,
   "metadata": {},
   "outputs": [
    {
     "name": "stdout",
     "output_type": "stream",
     "text": [
      "8\n",
      "11\n",
      "7\n",
      "10\n"
     ]
    },
    {
     "data": {
      "text/plain": [
       "11"
      ]
     },
     "execution_count": 24,
     "metadata": {},
     "output_type": "execute_result"
    }
   ],
   "source": [
    "solution = Solution()\n",
    "solution.maxScoreSightseeingPair([8,1,5,2,6])"
   ]
  },
  {
   "cell_type": "code",
   "execution_count": null,
   "metadata": {},
   "outputs": [],
   "source": []
  }
 ],
 "metadata": {
  "kernelspec": {
   "display_name": "Python 3",
   "language": "python",
   "name": "python3"
  },
  "language_info": {
   "codemirror_mode": {
    "name": "ipython",
    "version": 3
   },
   "file_extension": ".py",
   "mimetype": "text/x-python",
   "name": "python",
   "nbconvert_exporter": "python",
   "pygments_lexer": "ipython3",
   "version": "3.6.2"
  }
 },
 "nbformat": 4,
 "nbformat_minor": 4
}
