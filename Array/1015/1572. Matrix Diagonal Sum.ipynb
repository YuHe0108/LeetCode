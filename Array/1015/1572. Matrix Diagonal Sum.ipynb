{
 "cells": [
  {
   "cell_type": "raw",
   "metadata": {},
   "source": [
    "说明：\n",
    "    给你一个正方形矩阵 mat，请你返回矩阵对角线元素的和。\n",
    "    请你返回在矩阵主对角线上的元素和副对角线上且不在主对角线上元素的和。"
   ]
  },
  {
   "cell_type": "markdown",
   "metadata": {},
   "source": [
    "<img src='https://assets.leetcode.com/uploads/2020/08/14/sample_1911.png'>"
   ]
  },
  {
   "cell_type": "raw",
   "metadata": {},
   "source": [
    "示例  1：\n",
    "    输入：mat = [[1,2,3],\n",
    "                [4,5,6],\n",
    "                [7,8,9]]\n",
    "    输出：25\n",
    "    解释：对角线的和为：1 + 5 + 9 + 3 + 7 = 25\n",
    "    请注意，元素 mat[1][1] = 5 只会被计算一次。\n",
    "    \n",
    "示例  2：\n",
    "    输入：mat = [[1,1,1,1],\n",
    "                 [1,1,1,1],\n",
    "                 [1,1,1,1],\n",
    "                 [1,1,1,1]]\n",
    "    输出：8\n",
    "    \n",
    "示例 3：\n",
    "    输入：mat = [[5]]\n",
    "    输出：5\n",
    "\n",
    "提示：\n",
    "    1、n == mat.length == mat[i].length\n",
    "    2、1 <= n <= 100\n",
    "    3、1 <= mat[i][j] <= 100"
   ]
  },
  {
   "cell_type": "code",
   "execution_count": 15,
   "metadata": {},
   "outputs": [],
   "source": [
    "class Solution:\n",
    "    def diagonalSum(self, mat) -> int:\n",
    "        N = len(mat)\n",
    "        sum_val = 0\n",
    "        # 主对角元素\n",
    "        for i in range(N):\n",
    "            for j in range(N):\n",
    "                if i == j or i + j + 1 == N:\n",
    "                    sum_val += mat[i][j]\n",
    "        return sum_val"
   ]
  },
  {
   "cell_type": "code",
   "execution_count": 18,
   "metadata": {},
   "outputs": [
    {
     "data": {
      "text/plain": [
       "5"
      ]
     },
     "execution_count": 18,
     "metadata": {},
     "output_type": "execute_result"
    }
   ],
   "source": [
    "solution = Solution()\n",
    "solution.diagonalSum([[5]])"
   ]
  },
  {
   "cell_type": "code",
   "execution_count": null,
   "metadata": {},
   "outputs": [],
   "source": []
  }
 ],
 "metadata": {
  "kernelspec": {
   "display_name": "Python 3",
   "language": "python",
   "name": "python3"
  },
  "language_info": {
   "codemirror_mode": {
    "name": "ipython",
    "version": 3
   },
   "file_extension": ".py",
   "mimetype": "text/x-python",
   "name": "python",
   "nbconvert_exporter": "python",
   "pygments_lexer": "ipython3",
   "version": "3.6.2"
  }
 },
 "nbformat": 4,
 "nbformat_minor": 4
}
