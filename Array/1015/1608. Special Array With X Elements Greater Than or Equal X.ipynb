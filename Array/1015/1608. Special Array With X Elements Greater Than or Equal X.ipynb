{
 "cells": [
  {
   "cell_type": "raw",
   "metadata": {},
   "source": [
    "说明：\n",
    "    给你一个非负整数数组 nums 。\n",
    "    如果存在一个数 x ，使得 nums 中恰好有 x 个元素 大于或者等于 x ，那么就称 nums 是一个 特殊数组 ，而 x 是该数组的 特征值 。\n",
    "    注意： x 不必 是 nums 的中的元素。\n",
    "    如果数组 nums 是一个 特殊数组 ，请返回它的特征值 x 。\n",
    "    否则，返回 -1 。\n",
    "    可以证明的是，如果 nums 是特殊数组，那么其特征值 x 是 唯一的 。\n",
    "\n",
    "Example 1:\n",
    "    Input: nums = [3,5]\n",
    "    Output: 2\n",
    "    Explanation: There are 2 values (3 and 5) that are greater than or equal to 2.\n",
    "\n",
    "Example 2:\n",
    "    Input: nums = [0,0]\n",
    "    Output: -1\n",
    "    Explanation: No numbers fit the criteria for x.\n",
    "                If x = 0, there should be 0 numbers >= x, but there are 2.\n",
    "                If x = 1, there should be 1 number >= x, but there are 0.\n",
    "                If x = 2, there should be 2 numbers >= x, but there are 0.\n",
    "                x cannot be greater since there are only 2 numbers in nums.\n",
    "\n",
    "Example 3:\n",
    "    Input: nums = [0,4,3,0,4]\n",
    "    Output: 3\n",
    "    Explanation: There are 3 values that are greater than or equal to 3.\n",
    "\n",
    "Example 4:\n",
    "    Input: nums = [3,6,7,7,0]\n",
    "    Output: -1\n",
    "\n",
    "提示：\n",
    "    1、1 <= nums.length <= 100\n",
    "    2、0 <= nums[i] <= 1000"
   ]
  },
  {
   "cell_type": "code",
   "execution_count": 35,
   "metadata": {},
   "outputs": [],
   "source": [
    "from collections import Counter\n",
    "\n",
    "class Solution:\n",
    "    def specialArray(self, nums) -> int:\n",
    "        n_count = Counter(nums)\n",
    "        n_list = sorted(n_count.items(), key = lambda x: x[0])\n",
    "        N = len(nums)\n",
    "        special_val = -1\n",
    "        for i in range(max(nums) + 1):\n",
    "            idx = 0\n",
    "            count = 0\n",
    "            while n_list[idx][0] < i:\n",
    "                count += n_list[idx][1]\n",
    "                idx += 1\n",
    "            if N - count == i:\n",
    "                special_val = i\n",
    "        return special_val"
   ]
  },
  {
   "cell_type": "code",
   "execution_count": 36,
   "metadata": {},
   "outputs": [
    {
     "data": {
      "text/plain": [
       "100"
      ]
     },
     "execution_count": 36,
     "metadata": {},
     "output_type": "execute_result"
    }
   ],
   "source": [
    "solution = Solution()\n",
    "solution.specialArray(nums = [100,100,100,100,100,100,100,100,100,100,100,100,100,100,100,100,100,100,100,100,100,100,100,100,100,100,100,100,100,100,100,100,100,100,100,100,100,100,100,100,100,100,100,100,100,100,100,100,100,100,100,100,100,100,100,100,100,100,100,100,100,100,100,100,100,100,100,100,100,100,100,100,100,100,100,100,100,100,100,100,100,100,100,100,100,100,100,100,100,100,100,100,100,100,100,100,100,100,100,100])"
   ]
  },
  {
   "cell_type": "code",
   "execution_count": null,
   "metadata": {},
   "outputs": [],
   "source": []
  }
 ],
 "metadata": {
  "kernelspec": {
   "display_name": "Python 3",
   "language": "python",
   "name": "python3"
  },
  "language_info": {
   "codemirror_mode": {
    "name": "ipython",
    "version": 3
   },
   "file_extension": ".py",
   "mimetype": "text/x-python",
   "name": "python",
   "nbconvert_exporter": "python",
   "pygments_lexer": "ipython3",
   "version": "3.6.2"
  }
 },
 "nbformat": 4,
 "nbformat_minor": 4
}
