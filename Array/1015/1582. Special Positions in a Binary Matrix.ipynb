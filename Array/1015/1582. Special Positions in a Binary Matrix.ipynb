{
 "cells": [
  {
   "cell_type": "raw",
   "metadata": {},
   "source": [
    "说明：\n",
    "    给你一个大小为 rows x cols 的矩阵 mat，其中 mat[i][j] 是 0 或 1，请返回 矩阵 mat 中特殊位置的数目 。\n",
    "    特殊位置 定义：\n",
    "        如果 mat[i][j] == 1 并且第 i 行和第 j 列中的所有其他元素均为 0（行和列的下标均 从 0 开始 ），\n",
    "        则位置 (i, j) 被称为特殊位置\n",
    " \n",
    "Example 1:\n",
    "    Input: mat = [[1,0,0],\n",
    "                  [0,0,1],\n",
    "                  [1,0,0]]\n",
    "    Output: 1\n",
    "    Explanation: (1,2) is a special position because mat[1][2] == 1 and all other elements in row 1 and column 2 are 0.\n",
    "\n",
    "Example 2:\n",
    "    Input: mat = [[1,0,0],\n",
    "                  [0,1,0],\n",
    "                  [0,0,1]]\n",
    "    Output: 3\n",
    "    Explanation: (0,0), (1,1) and (2,2) are special positions. \n",
    "\n",
    "Example 3:\n",
    "    Input: mat = [[0,0,0,1],\n",
    "                  [1,0,0,0],\n",
    "                  [0,1,1,0],\n",
    "                  [0,0,0,0]]\n",
    "    Output: 2\n",
    "\n",
    "Example 4:\n",
    "    Input: mat = [[0,0,0,0,0],\n",
    "                  [1,0,0,0,0],\n",
    "                  [0,1,0,0,0],\n",
    "                  [0,0,1,0,0],\n",
    "                  [0,0,0,1,1]]\n",
    "    Output: 3\n",
    "\n",
    "提示：\n",
    "    1、rows == mat.length\n",
    "    2、cols == mat[i].length\n",
    "    3、1 <= rows, cols <= 100\n",
    "    4、mat[i][j] 是 0 或 1"
   ]
  },
  {
   "cell_type": "code",
   "execution_count": 11,
   "metadata": {},
   "outputs": [],
   "source": [
    "class Solution:\n",
    "    def numSpecial(self, mat) -> int:\n",
    "        rows, cols = len(mat), len(mat[0])\n",
    "        count = 0\n",
    "        for row in range(rows):\n",
    "            for col in range(cols):\n",
    "                if mat[row][col] == 1 and self.helper(mat, rows, cols, row, col):\n",
    "                    count += 1\n",
    "        return count\n",
    "    \n",
    "    def helper(self, mat, rows, cols, r, c):\n",
    "        # 向上检查：\n",
    "        u_r = r\n",
    "        while u_r - 1 >= 0:\n",
    "            u_r -= 1\n",
    "            if mat[u_r][c] == 1:\n",
    "                return False\n",
    "            \n",
    "        # 向下检查\n",
    "        d_r = r\n",
    "        while d_r + 1 < rows:\n",
    "            d_r += 1\n",
    "            if mat[d_r][c] == 1:\n",
    "                return False\n",
    "        # 向左检查\n",
    "        l_c = c\n",
    "        while l_c - 1 >= 0:\n",
    "            l_c -= 1\n",
    "            if mat[r][l_c] == 1:\n",
    "                return False\n",
    "        # 向右检查\n",
    "        r_c = c\n",
    "        while r_c + 1 < cols:\n",
    "            r_c += 1\n",
    "            if mat[r][r_c] == 1:\n",
    "                return False\n",
    "        return True"
   ]
  },
  {
   "cell_type": "code",
   "execution_count": 33,
   "metadata": {},
   "outputs": [],
   "source": [
    "class Solution:\n",
    "    def numSpecial(self, mat) -> int:\n",
    "        rows, cols = len(mat), len(mat[0])\n",
    "        count = 0\n",
    "        row_sums = [sum(x) for x in mat]\n",
    "        col_sums = []\n",
    "        for i in range(cols):\n",
    "            count = 0\n",
    "            for j in range(rows):\n",
    "                count += mat[j][i]\n",
    "            col_sums.append(count)\n",
    "        \n",
    "        res = 0\n",
    "        for i in range(rows):\n",
    "            for j in range(cols):\n",
    "                if mat[i][j] == 1 and row_sums[i] == 1 and col_sums[j] == 1:\n",
    "                    res += 1\n",
    "        return res"
   ]
  },
  {
   "cell_type": "code",
   "execution_count": 34,
   "metadata": {},
   "outputs": [
    {
     "name": "stdout",
     "output_type": "stream",
     "text": [
      "[1, 1, 1] [2, 0, 1]\n"
     ]
    },
    {
     "data": {
      "text/plain": [
       "1"
      ]
     },
     "execution_count": 34,
     "metadata": {},
     "output_type": "execute_result"
    }
   ],
   "source": [
    "solution = Solution()\n",
    "solution.numSpecial([[1,0,0],\n",
    "                     [0,0,1],\n",
    "                     [1,0,0]])"
   ]
  },
  {
   "cell_type": "code",
   "execution_count": null,
   "metadata": {},
   "outputs": [],
   "source": []
  }
 ],
 "metadata": {
  "kernelspec": {
   "display_name": "Python 3",
   "language": "python",
   "name": "python3"
  },
  "language_info": {
   "codemirror_mode": {
    "name": "ipython",
    "version": 3
   },
   "file_extension": ".py",
   "mimetype": "text/x-python",
   "name": "python",
   "nbconvert_exporter": "python",
   "pygments_lexer": "ipython3",
   "version": "3.6.2"
  }
 },
 "nbformat": 4,
 "nbformat_minor": 4
}
