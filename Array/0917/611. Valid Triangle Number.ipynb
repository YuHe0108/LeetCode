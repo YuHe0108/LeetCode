{
 "cells": [
  {
   "cell_type": "raw",
   "metadata": {},
   "source": [
    "说明：\n",
    "    给定一个数组，该数组由非负整数组成，您的任务是计算从数组中选择的可组成三角形的三元组的数量（如果我们将它们作为三角形的边长）。\n",
    "\n",
    "Example 1:\n",
    "    Input: [2,2,3,4]\n",
    "    Output: 3\n",
    "    Explanation:\n",
    "        Valid combinations are: \n",
    "        2,3,4 (using the first 2)\n",
    "        2,3,4 (using the second 2)\n",
    "        2,2,3\n",
    "Note:\n",
    "    1、The length of the given array won't exceed 1000.\n",
    "    2、The integers in the given array are in the range of [0, 1000].\n"
   ]
  },
  {
   "cell_type": "code",
   "execution_count": 74,
   "metadata": {},
   "outputs": [],
   "source": [
    "class Solution:\n",
    "    def triangleNumber(self, nums) -> int:\n",
    "        if not nums: return 0\n",
    "        count = 0\n",
    "        nums.sort()\n",
    "        for i in range(len(nums) - 2):\n",
    "            one = nums[i]\n",
    "            for j in range(i+1, len(nums)-1):\n",
    "                two = nums[j]\n",
    "                for t in nums[j+1:]:\n",
    "                    if 0 < t < one+two:\n",
    "                        count += 1\n",
    "                    elif t >= one+two:\n",
    "                        break\n",
    "        return count"
   ]
  },
  {
   "cell_type": "code",
   "execution_count": 80,
   "metadata": {},
   "outputs": [],
   "source": [
    "class Solution:\n",
    "    def triangleNumber(self, nums) -> int:\n",
    "        length = len(nums)\n",
    "        t = 0\n",
    "        nums.sort()\n",
    "        for i in range(length - 2):\n",
    "            k = i + 2\n",
    "            for j in range(i+1, length-1):\n",
    "                M = nums[i] + nums[j] - 1\n",
    "                if M < nums[j]:\n",
    "                    continue\n",
    "                while k < length and nums[k] <= M:\n",
    "                    k += 1\n",
    "                t += min(k, length) - (j + 1)\n",
    "        return t"
   ]
  },
  {
   "cell_type": "code",
   "execution_count": 92,
   "metadata": {},
   "outputs": [],
   "source": [
    "class Solution:\n",
    "    def triangleNumber(self, nums) -> int:\n",
    "        nums.sort()\n",
    "        count = 0\n",
    "        # 在index=2的时候停止\n",
    "        for i in range(len(nums)-1, 1, -1): # 3, 2, [1, 0]\n",
    "            left = 0\n",
    "            right = i - 1\n",
    "            print(left, right)\n",
    "            while left < right:\n",
    "                if nums[left] + nums[right] > nums[i]:\n",
    "                    count += right - left\n",
    "                    right -= 1\n",
    "                else:\n",
    "                    left += 1\n",
    "        return count"
   ]
  },
  {
   "cell_type": "code",
   "execution_count": 93,
   "metadata": {},
   "outputs": [
    {
     "name": "stdout",
     "output_type": "stream",
     "text": [
      "0 2\n",
      "0 1\n"
     ]
    },
    {
     "data": {
      "text/plain": [
       "3"
      ]
     },
     "execution_count": 93,
     "metadata": {},
     "output_type": "execute_result"
    }
   ],
   "source": [
    "nums_ = [2,2,3,4]\n",
    "solution = Solution()\n",
    "solution.triangleNumber(nums_)"
   ]
  },
  {
   "cell_type": "code",
   "execution_count": null,
   "metadata": {},
   "outputs": [],
   "source": [
    "class Solution:\n",
    "    def triangleNumber(self, nums) -> int:"
   ]
  },
  {
   "cell_type": "code",
   "execution_count": 104,
   "metadata": {},
   "outputs": [],
   "source": [
    "a = {2:3}"
   ]
  },
  {
   "cell_type": "code",
   "execution_count": 107,
   "metadata": {},
   "outputs": [],
   "source": [
    "val = a.setdefault(3, 0)\n",
    "a[3] += 1"
   ]
  },
  {
   "cell_type": "code",
   "execution_count": 108,
   "metadata": {},
   "outputs": [
    {
     "data": {
      "text/plain": [
       "{2: 3, 3: 1}"
      ]
     },
     "execution_count": 108,
     "metadata": {},
     "output_type": "execute_result"
    }
   ],
   "source": [
    "a"
   ]
  },
  {
   "cell_type": "code",
   "execution_count": null,
   "metadata": {},
   "outputs": [],
   "source": []
  },
  {
   "cell_type": "code",
   "execution_count": null,
   "metadata": {},
   "outputs": [],
   "source": []
  }
 ],
 "metadata": {
  "kernelspec": {
   "display_name": "Python 3",
   "language": "python",
   "name": "python3"
  },
  "language_info": {
   "codemirror_mode": {
    "name": "ipython",
    "version": 3
   },
   "file_extension": ".py",
   "mimetype": "text/x-python",
   "name": "python",
   "nbconvert_exporter": "python",
   "pygments_lexer": "ipython3",
   "version": "3.6.2"
  }
 },
 "nbformat": 4,
 "nbformat_minor": 4
}
