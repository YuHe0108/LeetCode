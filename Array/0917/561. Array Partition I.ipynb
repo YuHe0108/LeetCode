{
 "cells": [
  {
   "cell_type": "raw",
   "metadata": {},
   "source": [
    "说明：\n",
    "    给定一个2n个整数数组，您的任务是将这些整数分组为n对整数，\n",
    "    例如（a1，b1），（a2，b2），...，（an，bn），\n",
    "    它们使 min(ai， bi) 对于从1到n的所有i尽可能大。\n",
    "\n",
    "Example 1:\n",
    "    Input: [1,4,3,2]\n",
    "    Output: 4\n",
    "    Explanation: n is 2, and the maximum sum of pairs is 4 = min(1, 2) + min(3, 4).\n",
    "\n",
    "Note:\n",
    "    1、n is a positive integer, which is in the range of [1, 10000].\n",
    "    2、All the integers in the array will be in the range of [-10000, 10000]."
   ]
  },
  {
   "cell_type": "code",
   "execution_count": 7,
   "metadata": {},
   "outputs": [],
   "source": [
    "class Solution:\n",
    "    def arrayPairSum(self, nums) -> int:\n",
    "        nums.sort()\n",
    "        sum_val = 0\n",
    "        for i, val in enumerate(nums):\n",
    "            if i % 2 == 0:\n",
    "                sum_val += val\n",
    "        return sum_val"
   ]
  },
  {
   "cell_type": "code",
   "execution_count": 8,
   "metadata": {},
   "outputs": [
    {
     "data": {
      "text/plain": [
       "4"
      ]
     },
     "execution_count": 8,
     "metadata": {},
     "output_type": "execute_result"
    }
   ],
   "source": [
    "nums_ = [1,4,3,2]\n",
    "solution = Solution()\n",
    "solution.arrayPairSum(nums_)"
   ]
  },
  {
   "cell_type": "code",
   "execution_count": null,
   "metadata": {},
   "outputs": [],
   "source": []
  }
 ],
 "metadata": {
  "kernelspec": {
   "display_name": "Python 3",
   "language": "python",
   "name": "python3"
  },
  "language_info": {
   "codemirror_mode": {
    "name": "ipython",
    "version": 3
   },
   "file_extension": ".py",
   "mimetype": "text/x-python",
   "name": "python",
   "nbconvert_exporter": "python",
   "pygments_lexer": "ipython3",
   "version": "3.6.2"
  }
 },
 "nbformat": 4,
 "nbformat_minor": 4
}
