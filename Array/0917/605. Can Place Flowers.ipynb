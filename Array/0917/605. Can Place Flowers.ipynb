{
 "cells": [
  {
   "cell_type": "raw",
   "metadata": {},
   "source": [
    "说明：\n",
    "    假设您有一个长花坛，其中种植了一些地块，有些则没有。\n",
    "    但是，不能在相邻的地块上种花，因为它们会争夺水，而两者都会死亡。\n",
    "    给定一个花坛（表示为包含0和1的数组，其中0表示空，1表示不空）和一个数字n，\n",
    "    如果可以在其中种植n个新花而不违反不相邻花规则，则返回。\n",
    "\n",
    "Example 1:\n",
    "    Input: flowerbed = [1,0,0,0,1], n = 1\n",
    "    Output: True\n",
    "\n",
    "Example 2:\n",
    "    Input: flowerbed = [1,0,0,0,1], n = 2\n",
    "    Output: False\n",
    "\n",
    "Note:\n",
    "    1、输入数组不会违反“无相邻花”规则。\n",
    "    2、The input array size is in the range of [1, 20000].\n",
    "    3、n是一个非负整数，不会超过输入数组的大小。"
   ]
  },
  {
   "cell_type": "code",
   "execution_count": 36,
   "metadata": {},
   "outputs": [],
   "source": [
    "class Solution:\n",
    "    def canPlaceFlowers(self, flowerbed, n: int) -> bool:\n",
    "        modified = [0] + flowerbed + [0]\n",
    "        count = 0\n",
    "        for i in range(len(flowerbed)):\n",
    "            if modified[i:i+3] == [0, 0, 0]:\n",
    "                count += 1\n",
    "                modified[i+1] = 1\n",
    "            if count >= n:\n",
    "                return True\n",
    "        return False"
   ]
  },
  {
   "cell_type": "code",
   "execution_count": 38,
   "metadata": {},
   "outputs": [],
   "source": [
    "class Solution:\n",
    "    def canPlaceFlowers(self, flowerbed, n: int) -> bool:\n",
    "        index = 0\n",
    "        while index < len(flowerbed):\n",
    "            if n == 0:\n",
    "                return True\n",
    "            if flowerbed[index] == 0:\n",
    "                if 0 < index < len(flowerbed) - 1 and flowerbed[index-1] == 0 and flowerbed[index+1] == 0:\n",
    "                    n -= 1\n",
    "                    flowerbed[index] = 1\n",
    "                elif index == len(flowerbed) - 1 and flowerbed[index-1] == 0:\n",
    "                    n -= 1\n",
    "                    flowerbed[index] = 1\n",
    "                elif index == 0 and flowerbed[index+1] == 0:\n",
    "                    n -= 1\n",
    "                    flowerbed[index] = 1\n",
    "            index += 1\n",
    "        return n == 0"
   ]
  },
  {
   "cell_type": "code",
   "execution_count": 39,
   "metadata": {},
   "outputs": [
    {
     "data": {
      "text/plain": [
       "True"
      ]
     },
     "execution_count": 39,
     "metadata": {},
     "output_type": "execute_result"
    }
   ],
   "source": [
    "flowerbed_ = [0,0,1,0,0]\n",
    "n_ = 1\n",
    "solution = Solution()\n",
    "solution.canPlaceFlowers(flowerbed_, n_)"
   ]
  },
  {
   "cell_type": "code",
   "execution_count": 27,
   "metadata": {},
   "outputs": [
    {
     "data": {
      "text/plain": [
       "[1, 0, 1, 0, 0, 1]"
      ]
     },
     "execution_count": 27,
     "metadata": {},
     "output_type": "execute_result"
    }
   ],
   "source": [
    "[1,0,1,0,0,1]"
   ]
  },
  {
   "cell_type": "code",
   "execution_count": null,
   "metadata": {},
   "outputs": [],
   "source": []
  }
 ],
 "metadata": {
  "kernelspec": {
   "display_name": "Python 3",
   "language": "python",
   "name": "python3"
  },
  "language_info": {
   "codemirror_mode": {
    "name": "ipython",
    "version": 3
   },
   "file_extension": ".py",
   "mimetype": "text/x-python",
   "name": "python",
   "nbconvert_exporter": "python",
   "pygments_lexer": "ipython3",
   "version": "3.6.2"
  }
 },
 "nbformat": 4,
 "nbformat_minor": 4
}
