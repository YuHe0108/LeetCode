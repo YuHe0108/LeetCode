{
 "cells": [
  {
   "cell_type": "raw",
   "metadata": {},
   "source": [
    "说明：\n",
    "    给定一个整数数组，找出乘积最大的三个数并输出最大乘积。\n",
    "\n",
    "Example 1:\n",
    "    Input: [1,2,3]\n",
    "    Output: 6\n",
    "\n",
    "Example 2:\n",
    "    Input: [1,2,3,4]\n",
    "    Output: 24\n",
    "\n",
    "Note:\n",
    "    1、The length of the given array will be in range [3,104] and all elements are in the range [-1000, 1000].\n",
    "    2、Multiplication of any three numbers in the input won't exceed the range of 32-bit signed integer."
   ]
  },
  {
   "cell_type": "code",
   "execution_count": 13,
   "metadata": {},
   "outputs": [],
   "source": [
    "class Solution:\n",
    "    def maximumProduct(self, nums) -> int:\n",
    "        temp_val = 1\n",
    "        for i in range(3):\n",
    "            temp_val *= nums[i]\n",
    "        max_val = temp_val\n",
    "        for i in range(3, len(nums)):\n",
    "            temp_val = temp_val / nums[i-3] * nums[i]\n",
    "            max_val = max(max_val, temp_val)\n",
    "        return max_val"
   ]
  },
  {
   "cell_type": "code",
   "execution_count": 30,
   "metadata": {},
   "outputs": [],
   "source": [
    "class Solution:\n",
    "    def maximumProduct(self, nums) -> int:\n",
    "        nums.sort()\n",
    "        max_val_pre = nums[0] * nums[1] * nums[-1]\n",
    "        max_val_post = nums[-1] * nums[-2] * nums[-3]\n",
    "        return max(max_val_pre, max_val_post)"
   ]
  },
  {
   "cell_type": "code",
   "execution_count": 31,
   "metadata": {},
   "outputs": [
    {
     "data": {
      "text/plain": [
       "972256230"
      ]
     },
     "execution_count": 31,
     "metadata": {},
     "output_type": "execute_result"
    }
   ],
   "source": [
    "nums_ = [-710,-107,-851,657,-14,-859,278,-182,-749,718,-640,127,-930,-462,694,969,143,309,904,-651,160,451,-159,-316,844,-60,611,-169,-73,721,-902,338,-20,-890,-819,-644,107,404,150,-219,459,-324,-385,-118,-307,993,202,-147,62,-94,-976,-329,689,870,532,-686,371,-850,-186,87,878,989,-822,-350,-948,-412,161,-88,-509,836,-207,-60,771,516,-287,-366,-512,509,904,-459,683,-563,-766,-837,-333,93,893,303,908,532,-206,990,280,826,-13,115,-732,525,-939,-787]\n",
    "solution = Solution()\n",
    "solution.maximumProduct(nums_)"
   ]
  },
  {
   "cell_type": "code",
   "execution_count": null,
   "metadata": {},
   "outputs": [],
   "source": []
  }
 ],
 "metadata": {
  "kernelspec": {
   "display_name": "Python 3",
   "language": "python",
   "name": "python3"
  },
  "language_info": {
   "codemirror_mode": {
    "name": "ipython",
    "version": 3
   },
   "file_extension": ".py",
   "mimetype": "text/x-python",
   "name": "python",
   "nbconvert_exporter": "python",
   "pygments_lexer": "ipython3",
   "version": "3.6.2"
  }
 },
 "nbformat": 4,
 "nbformat_minor": 4
}
