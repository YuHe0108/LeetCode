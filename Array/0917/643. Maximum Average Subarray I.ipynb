{
 "cells": [
  {
   "cell_type": "raw",
   "metadata": {},
   "source": [
    "说明：\n",
    "    给定一个包含n个整数的数组，请找到具有最大平均值的给定长度k的连续子数组。\n",
    "    并且您需要输出最大平均值。\n",
    "\n",
    "Example 1:\n",
    "    Input: [1,12,-5,-6,50,3], k = 4\n",
    "    Output: 12.75\n",
    "    Explanation: Maximum average is (12-5-6+50)/4 = 51/4 = 12.75\n",
    "\n",
    "Note:\n",
    "    1、1 <= k <= n <= 30,000.\n",
    "    3、Elements of the given array will be in the range [-10,000, 10,000]."
   ]
  },
  {
   "cell_type": "code",
   "execution_count": 35,
   "metadata": {},
   "outputs": [],
   "source": [
    "class Solution:\n",
    "    def findMaxAverage(self, nums, k: int) -> float:\n",
    "        temp_sum = sum(nums[:k])\n",
    "        max_sum = temp_sum\n",
    "        for i in range(k, len(nums)):\n",
    "            temp_sum = temp_sum - nums[i-k] + nums[i]\n",
    "            max_sum = max(max_sum, temp_sum)\n",
    "        return max_sum / k"
   ]
  },
  {
   "cell_type": "code",
   "execution_count": 37,
   "metadata": {},
   "outputs": [
    {
     "data": {
      "text/plain": [
       "12.75"
      ]
     },
     "execution_count": 37,
     "metadata": {},
     "output_type": "execute_result"
    }
   ],
   "source": [
    "nums_ = [1,12,-5,-6,50,3]\n",
    "k_ = 4\n",
    "solution = Solution()\n",
    "solution.findMaxAverage(nums_, k_)"
   ]
  },
  {
   "cell_type": "code",
   "execution_count": null,
   "metadata": {},
   "outputs": [],
   "source": []
  },
  {
   "cell_type": "code",
   "execution_count": null,
   "metadata": {},
   "outputs": [],
   "source": []
  }
 ],
 "metadata": {
  "kernelspec": {
   "display_name": "Python 3",
   "language": "python",
   "name": "python3"
  },
  "language_info": {
   "codemirror_mode": {
    "name": "ipython",
    "version": 3
   },
   "file_extension": ".py",
   "mimetype": "text/x-python",
   "name": "python",
   "nbconvert_exporter": "python",
   "pygments_lexer": "ipython3",
   "version": "3.6.2"
  }
 },
 "nbformat": 4,
 "nbformat_minor": 4
}
