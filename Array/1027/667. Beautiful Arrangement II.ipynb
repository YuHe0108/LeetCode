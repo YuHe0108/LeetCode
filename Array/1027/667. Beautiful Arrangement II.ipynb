{
 "cells": [
  {
   "cell_type": "raw",
   "metadata": {},
   "source": [
    "说明：\n",
    "    给定两个整数 n 和 k，你需要实现一个数组，这个数组包含从 1 到 n 的 n 个不同整数，同时满足以下条件：\n",
    "        ① 如果这个数组是 [a1, a2, a3, ... , an] ，\n",
    "          那么数组 [|a1 - a2|, |a2 - a3|, |a3 - a4|, ... , |an-1 - an|] 中应该有且仅有 k 个不同整数；.\n",
    "        ② 如果存在多种答案，你只需实现并返回其中任意一种.\n",
    "示例 1:\n",
    "    输入: n = 3, k = 1\n",
    "    输出: [1, 2, 3]\n",
    "    解释: [1, 2, 3] 包含 3 个范围在 1-3 的不同整数， 并且 [1, 1] 中有且仅有 1 个不同整数 : 1\n",
    "\n",
    "示例 2:\n",
    "    输入: n = 3, k = 2\n",
    "    输出: [1, 3, 2]\n",
    "    解释: [1, 3, 2] 包含 3 个范围在 1-3 的不同整数， 并且 [2, 1] 中有且仅有 2 个不同整数: 1 和 2\n",
    "\n",
    "提示:\n",
    "    1、n 和 k 满足条件 1 <= k < n <= 10^4."
   ]
  },
  {
   "cell_type": "code",
   "execution_count": 18,
   "metadata": {},
   "outputs": [],
   "source": [
    "class Solution:\n",
    "    def constructArray(self, n: int, k: int):\n",
    "        seen = {1}\n",
    "        res = [1]\n",
    "        for i in range(1, n+1):\n",
    "            if i in seen:\n",
    "                continue\n",
    "            seen.add(val)\n",
    "            res.append(val)\n",
    "        return res"
   ]
  },
  {
   "cell_type": "code",
   "execution_count": 28,
   "metadata": {},
   "outputs": [],
   "source": [
    "class Solution:\n",
    "    def constructArray(self, n: int, k: int):\n",
    "        t=[i for i in range(1, n+1)]\n",
    "        for j in range(1, k):\n",
    "            t[j:]=t[j:][::-1]\n",
    "        return t"
   ]
  },
  {
   "cell_type": "code",
   "execution_count": 29,
   "metadata": {},
   "outputs": [
    {
     "data": {
      "text/plain": [
       "[1, 3, 2]"
      ]
     },
     "execution_count": 29,
     "metadata": {},
     "output_type": "execute_result"
    }
   ],
   "source": [
    "solution = Solution()\n",
    "solution.constructArray(n = 3, k = 2)"
   ]
  },
  {
   "cell_type": "code",
   "execution_count": null,
   "metadata": {},
   "outputs": [],
   "source": []
  }
 ],
 "metadata": {
  "kernelspec": {
   "display_name": "Python 3",
   "language": "python",
   "name": "python3"
  },
  "language_info": {
   "codemirror_mode": {
    "name": "ipython",
    "version": 3
   },
   "file_extension": ".py",
   "mimetype": "text/x-python",
   "name": "python",
   "nbconvert_exporter": "python",
   "pygments_lexer": "ipython3",
   "version": "3.6.2"
  }
 },
 "nbformat": 4,
 "nbformat_minor": 4
}
