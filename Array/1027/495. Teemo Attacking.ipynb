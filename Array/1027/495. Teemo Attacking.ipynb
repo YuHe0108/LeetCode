{
 "cells": [
  {
   "cell_type": "raw",
   "metadata": {},
   "source": [
    "说明：\n",
    "    在《英雄联盟》的世界中，有一个叫 “提莫” 的英雄，他的攻击可以让敌方英雄艾希（编者注：寒冰射手）进入中毒状态。\n",
    "    现在，给出提莫对艾希的攻击时间序列和提莫攻击的中毒持续时间，你需要输出艾希的中毒状态总时长。\n",
    "    你可以认为提莫在给定的时间点进行攻击，并立即使艾希处于中毒状态。\n",
    "\n",
    "示例1:\n",
    "    输入: [1,4], 2\n",
    "    输出: 4\n",
    "    原因: \n",
    "        第 1 秒初，提莫开始对艾希进行攻击并使其立即中毒。\n",
    "        中毒状态会维持 2 秒钟，直到第 2 秒末结束。\n",
    "        第 4 秒初，提莫再次攻击艾希，使得艾希获得另外 2 秒中毒时间。\n",
    "        所以最终输出 4 秒。\n",
    "\n",
    "示例2:\n",
    "    输入: [1,2], 2\n",
    "    输出: 3\n",
    "    原因: \n",
    "        第 1 秒初，提莫开始对艾希进行攻击并使其立即中毒。中毒状态会维持 2 秒钟，直到第 2 秒末结束。\n",
    "        但是第 2 秒初，提莫再次攻击了已经处于中毒状态的艾希。\n",
    "        由于中毒状态不可叠加，提莫在第 2 秒初的这次攻击会在第 3 秒末结束。\n",
    "        所以最终输出 3 。\n",
    " \n",
    "提示：\n",
    "    1、你可以假定时间序列数组的总长度不超过 10000。\n",
    "    2、你可以假定提莫攻击时间序列中的数字和提莫攻击的中毒持续时间都是非负整数，并且不超过 10,000,000。"
   ]
  },
  {
   "cell_type": "code",
   "execution_count": 36,
   "metadata": {},
   "outputs": [],
   "source": [
    "class Solution:\n",
    "    def findPoisonedDuration(self, times, duration: int) -> int:\n",
    "        times.sort()\n",
    "        cost_time = [[0, 0]]\n",
    "        total_time = 0\n",
    "        for s in times:\n",
    "            e = s + duration\n",
    "            if s > cost_time[-1][-1]:\n",
    "                total_time += duration\n",
    "            else:\n",
    "                total_time += e - cost_time[-1][-1]\n",
    "            cost_time.append([s, e])\n",
    "        return total_time"
   ]
  },
  {
   "cell_type": "code",
   "execution_count": 39,
   "metadata": {},
   "outputs": [],
   "source": [
    "class Solution:\n",
    "    def findPoisonedDuration(self, timeSeries, duration: int) -> int:\n",
    "        n = len(timeSeries)\n",
    "        waste = 0\n",
    "        for i in range(1,n):\n",
    "            waste += max(duration - (timeSeries[i] - timeSeries[i-1]),0)\n",
    "        return duration * n - waste"
   ]
  },
  {
   "cell_type": "code",
   "execution_count": 40,
   "metadata": {},
   "outputs": [
    {
     "data": {
      "text/plain": [
       "3"
      ]
     },
     "execution_count": 40,
     "metadata": {},
     "output_type": "execute_result"
    }
   ],
   "source": [
    "solution = Solution()\n",
    "solution.findPoisonedDuration([1, 2, 2], 2)"
   ]
  },
  {
   "cell_type": "code",
   "execution_count": null,
   "metadata": {},
   "outputs": [],
   "source": []
  },
  {
   "cell_type": "code",
   "execution_count": null,
   "metadata": {},
   "outputs": [],
   "source": []
  }
 ],
 "metadata": {
  "kernelspec": {
   "display_name": "Python 3",
   "language": "python",
   "name": "python3"
  },
  "language_info": {
   "codemirror_mode": {
    "name": "ipython",
    "version": 3
   },
   "file_extension": ".py",
   "mimetype": "text/x-python",
   "name": "python",
   "nbconvert_exporter": "python",
   "pygments_lexer": "ipython3",
   "version": "3.6.2"
  }
 },
 "nbformat": 4,
 "nbformat_minor": 4
}
