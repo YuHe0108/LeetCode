{
 "cells": [
  {
   "cell_type": "raw",
   "metadata": {},
   "source": [
    "说明：\n",
    "    给定一个含有正整数和负整数的环形数组 nums。 \n",
    "    如果某个索引中的数 k 为正数，则向前移动 k 个索引。相反，如果是负数 (-k)，则向后移动 k 个索引。\n",
    "    因为数组是环形的，所以可以假设最后一个元素的下一个元素是第一个元素，\n",
    "    而第一个元素的前一个元素是最后一个元素。\n",
    "    确定 nums 中是否存在循环（或周期）。循环必须在相同的索引处开始和结束并且循环长度 > 1。\n",
    "    此外，一个循环中的所有运动都必须沿着同一方向进行。\n",
    "    换句话说，一个循环中不能同时包括向前的运动和向后的运动。\n",
    "\n",
    "示例 1：\n",
    "    输入：[2,-1,1,2,2]\n",
    "    输出：true\n",
    "    解释：存在循环，按索引 0 -> 2 -> 3 -> 0 。循环长度为 3 。\n",
    "\n",
    "示例 2：\n",
    "    输入：[-1,2]\n",
    "    输出：false\n",
    "    解释：\n",
    "        按索引 1 -> 1 -> 1 ... 的运动无法构成循环，因为循环的长度为 1 。\n",
    "        根据定义，循环的长度必须大于 1 。\n",
    "\n",
    "示例 3:\n",
    "    输入：[-2,1,-1,-2,-2]\n",
    "    输出：false\n",
    "    解释：\n",
    "        按索引 1 -> 2 -> 1 -> ... 的运动无法构成循环，因为按索引 1 -> 2 的运动是向前的运动，而按索引 2 -> 1 的运动是向后的运动。\n",
    "        一个循环中的所有运动都必须沿着同一方向进行。\n",
    "\n",
    "提示：\n",
    "    1、-1000 ≤ nums[i] ≤ 1000\n",
    "    2、nums[i] ≠ 0\n",
    "    3、0 ≤ nums.length ≤ 5000\n",
    "\n",
    "进阶：\n",
    "    1、你能写出时间时间复杂度为 O(n) 和额外空间复杂度为 O(1) 的算法吗？"
   ]
  },
  {
   "cell_type": "code",
   "execution_count": 68,
   "metadata": {},
   "outputs": [],
   "source": [
    "class Solution:\n",
    "    def circularArrayLoop(self, nums):\n",
    "        steps = []\n",
    "        N = len(nums)\n",
    "        i = 0\n",
    "        right = True if nums[0] > 0 else False\n",
    "        while True:\n",
    "            if i in steps:\n",
    "                steps.append(i)\n",
    "                break\n",
    "            steps.append(i % N)\n",
    "            v = nums[i % N]\n",
    "            if right:\n",
    "                n_idx = (i + v) % N\n",
    "                if nums[n_idx] < 0: \n",
    "                    return False\n",
    "                i = n_idx\n",
    "            else:\n",
    "                n_idx = (i + v % N + N) % N\n",
    "                if nums[n_idx] > 0:\n",
    "                    return False\n",
    "                i = n_idx\n",
    "        print(steps)\n",
    "        return True if steps[-1] == 0 else False"
   ]
  },
  {
   "cell_type": "code",
   "execution_count": null,
   "metadata": {},
   "outputs": [],
   "source": [
    "class Solution:\n",
    "    def circularArrayLoop(self, nums: List[int]) -> bool:\n",
    "        seen = set() # visited & no cycle \n",
    "        for i, x in enumerate(nums): \n",
    "            if i in seen: \n",
    "                continue \n",
    "            temp = set() # visited in this round \n",
    "            while True: \n",
    "                ii = (i + nums[i]) % len(nums)\n",
    "                if ii in seen or nums[ii] * x < 0 or ii == i: # no cycle \n",
    "                    seen |= temp \n",
    "                    break \n",
    "                if ii in temp and ii != i: \n",
    "                    return True \n",
    "                i = ii\n",
    "                temp.add(i)\n",
    "        return False"
   ]
  },
  {
   "cell_type": "code",
   "execution_count": 69,
   "metadata": {},
   "outputs": [
    {
     "name": "stdout",
     "output_type": "stream",
     "text": [
      "[0, 2, 3, 2]\n"
     ]
    },
    {
     "data": {
      "text/plain": [
       "False"
      ]
     },
     "execution_count": 69,
     "metadata": {},
     "output_type": "execute_result"
    }
   ],
   "source": [
    "solution = Solution()\n",
    "solution.circularArrayLoop([2,-1,1,4,2])"
   ]
  },
  {
   "cell_type": "code",
   "execution_count": null,
   "metadata": {},
   "outputs": [],
   "source": []
  },
  {
   "cell_type": "code",
   "execution_count": null,
   "metadata": {},
   "outputs": [],
   "source": []
  }
 ],
 "metadata": {
  "kernelspec": {
   "display_name": "Python 3",
   "language": "python",
   "name": "python3"
  },
  "language_info": {
   "codemirror_mode": {
    "name": "ipython",
    "version": 3
   },
   "file_extension": ".py",
   "mimetype": "text/x-python",
   "name": "python",
   "nbconvert_exporter": "python",
   "pygments_lexer": "ipython3",
   "version": "3.6.2"
  }
 },
 "nbformat": 4,
 "nbformat_minor": 4
}
