{
 "cells": [
  {
   "cell_type": "raw",
   "metadata": {},
   "source": [
    "说明：\n",
    "    给你一个待查数组 queries ，数组中的元素为 1 到 m 之间的正整数。 \n",
    "    请你根据以下规则处理所有待查项 queries[i]（从 i=0 到 i=queries.length-1）：\n",
    "    一开始，排列 P=[1,2,3,...,m]。\n",
    "    对于当前的 i ，请你找出待查项 queries[i] 在排列 P 中的位置（下标从 0 开始），然后将其从原位置移动到排列 P 的起始位置（即下标为 0 处）。\n",
    "    注意， queries[i] 在 P 中的位置就是 queries[i] 的查询结果。\n",
    "    请你以数组形式返回待查数组  queries 的查询结果。\n",
    "\n",
    "示例 1：\n",
    "    输入：queries = [3,1,2,1], m = 5\n",
    "    输出：[2,1,2,1] \n",
    "    解释：\n",
    "        待查数组 queries 处理如下：\n",
    "        对于 i=0: queries[i]=3, P=[1,2,3,4,5], 3 在 P 中的位置是 2，接着我们把 3 移动到 P 的起始位置，得到 P=[3,1,2,4,5] 。\n",
    "        对于 i=1: queries[i]=1, P=[3,1,2,4,5], 1 在 P 中的位置是 1，接着我们把 1 移动到 P 的起始位置，得到 P=[1,3,2,4,5] 。 \n",
    "        对于 i=2: queries[i]=2, P=[1,3,2,4,5], 2 在 P 中的位置是 2，接着我们把 2 移动到 P 的起始位置，得到 P=[2,1,3,4,5] 。\n",
    "        对于 i=3: queries[i]=1, P=[2,1,3,4,5], 1 在 P 中的位置是 1，接着我们把 1 移动到 P 的起始位置，得到 P=[1,2,3,4,5] 。 \n",
    "        因此，返回的结果数组为 [2,1,2,1] 。  \n",
    "\n",
    "示例 2：\n",
    "    输入：queries = [4,1,2,2], m = 4\n",
    "    输出：[3,1,2,0]\n",
    "\n",
    "示例 3：\n",
    "    输入：queries = [7,5,5,8,3], m = 8\n",
    "    输出：[6,5,0,7,5]\n",
    "\n",
    "提示：\n",
    "    1、1 <= m <= 10^3\n",
    "    2、1 <= queries.length <= m\n",
    "    3、1 <= queries[i] <= m"
   ]
  },
  {
   "cell_type": "code",
   "execution_count": 9,
   "metadata": {},
   "outputs": [],
   "source": [
    "class Solution:\n",
    "    def processQueries(self, queries, m):\n",
    "        vals = [x for x in range(1, m+1)]\n",
    "        res = []\n",
    "        for v in queries:\n",
    "            pos = vals.index(v)\n",
    "            vals.remove(v)\n",
    "            vals.insert(0, v)\n",
    "            res.append(pos)\n",
    "        return res"
   ]
  },
  {
   "cell_type": "code",
   "execution_count": 12,
   "metadata": {},
   "outputs": [
    {
     "data": {
      "text/plain": [
       "[6, 5, 0, 7, 5]"
      ]
     },
     "execution_count": 12,
     "metadata": {},
     "output_type": "execute_result"
    }
   ],
   "source": [
    "solution = Solution()\n",
    "solution.processQueries(queries = [7,5,5,8,3], m = 8)"
   ]
  },
  {
   "cell_type": "code",
   "execution_count": null,
   "metadata": {},
   "outputs": [],
   "source": []
  }
 ],
 "metadata": {
  "kernelspec": {
   "display_name": "Python 3",
   "language": "python",
   "name": "python3"
  },
  "language_info": {
   "codemirror_mode": {
    "name": "ipython",
    "version": 3
   },
   "file_extension": ".py",
   "mimetype": "text/x-python",
   "name": "python",
   "nbconvert_exporter": "python",
   "pygments_lexer": "ipython3",
   "version": "3.6.2"
  }
 },
 "nbformat": 4,
 "nbformat_minor": 4
}
