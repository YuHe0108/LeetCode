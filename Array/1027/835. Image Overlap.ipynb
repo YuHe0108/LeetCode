{
 "cells": [
  {
   "cell_type": "raw",
   "metadata": {},
   "source": [
    "说明：\n",
    "    给出两个图像 A 和 B ，A 和 B 为大小相同的二维正方形矩阵。\n",
    "    （并且为二进制矩阵，只包含0和1）。\n",
    "    我们转换其中一个图像，向左，右，上，或下滑动任何数量的单位，并把它放在另一个图像的上面。\n",
    "    之后，该转换的重叠是指两个图像都具有 1 的位置的数目。\n",
    "    （请注意，转换不包括向任何方向旋转。）\n",
    "    最大可能的重叠是什么？\n",
    "示例 1:\n",
    "    输入：A = [[1,1,0],\n",
    "              [0,1,0],\n",
    "              [0,1,0]]\n",
    "         B = [[0,0,0],\n",
    "              [0,1,1],\n",
    "              [0,0,1]]\n",
    "    输出：3\n",
    "    解释: 将 A 向右移动一个单位，然后向下移动一个单位。\n",
    "\n",
    "注意: \n",
    "    1、1 <= A.length = A[0].length = B.length = B[0].length <= 30\n",
    "    2、0 <= A[i][j], B[i][j] <= 1"
   ]
  },
  {
   "cell_type": "code",
   "execution_count": 3,
   "metadata": {},
   "outputs": [],
   "source": [
    "class Solution:\n",
    "    def largestOverlap(self, img1, img2):\n",
    "        N = len(img1)\n",
    "        t_img1 = self.get_sum(img1)\n",
    "        t_img2 = self.get_sum(img2)\n",
    "        \n",
    "    \n",
    "    def get_sum(self, img):\n",
    "        N, count = len(img), 0\n",
    "        for i in range(N):\n",
    "            for j in range(N):\n",
    "                if img[i][j] == 1:\n",
    "                    count += 1\n",
    "        return count"
   ]
  },
  {
   "cell_type": "code",
   "execution_count": 1,
   "metadata": {},
   "outputs": [],
   "source": [
    "from collections import defaultdict\n",
    "\n",
    "class Solution:\n",
    "    def largestOverlap(self, img1, img2):\n",
    "        N = len(img1)\n",
    "        move_dict = defaultdict(int)\n",
    "        for i in range(N):\n",
    "            for j in range(N):\n",
    "                if img1[i][j] == 1:\n",
    "                    for x in range(N):\n",
    "                        for y in range(N):\n",
    "                            if img2[x][y] == 1:\n",
    "                                p = (i - x, j - y)\n",
    "                                move_dict[p] += 1\n",
    "        vals = move_dict.values()\n",
    "        return max(vals) if vals else 0"
   ]
  },
  {
   "cell_type": "code",
   "execution_count": 2,
   "metadata": {},
   "outputs": [
    {
     "data": {
      "text/plain": [
       "3"
      ]
     },
     "execution_count": 2,
     "metadata": {},
     "output_type": "execute_result"
    }
   ],
   "source": [
    "solution = Solution()\n",
    "solution.largestOverlap([[1,1,0],[0,1,0],[0,1,0]], [[0,0,0],[0,1,1],[0,0,1]])"
   ]
  },
  {
   "cell_type": "code",
   "execution_count": null,
   "metadata": {},
   "outputs": [],
   "source": []
  }
 ],
 "metadata": {
  "kernelspec": {
   "display_name": "Python 3",
   "language": "python",
   "name": "python3"
  },
  "language_info": {
   "codemirror_mode": {
    "name": "ipython",
    "version": 3
   },
   "file_extension": ".py",
   "mimetype": "text/x-python",
   "name": "python",
   "nbconvert_exporter": "python",
   "pygments_lexer": "ipython3",
   "version": "3.6.2"
  }
 },
 "nbformat": 4,
 "nbformat_minor": 4
}
