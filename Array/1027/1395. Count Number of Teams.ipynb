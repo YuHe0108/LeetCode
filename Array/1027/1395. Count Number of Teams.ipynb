{
 "cells": [
  {
   "cell_type": "raw",
   "metadata": {},
   "source": [
    "说明：\n",
    "     n 名士兵站成一排。每个士兵都有一个 独一无二 的评分 rating 。\n",
    "    每 3 个士兵可以组成一个作战单位，分组规则如下：\n",
    "    从队伍中选出下标分别为 i、j、k 的 3 名士兵，他们的评分分别为 rating[i]、rating[j]、rating[k]\n",
    "    作战单位需满足： \n",
    "        rating[i] < rating[j] < rating[k] 或者 rating[i] > rating[j] > rating[k] ，其中  0 <= i < j < k < n\n",
    "    (1) 请你返回按上述条件可以组建的作战单位数量。\n",
    "    (2) 每个士兵都可以是多个作战单位的一部分。\n",
    "\n",
    "示例 1：\n",
    "    输入：rating = [2,5,3,4,1]\n",
    "    输出：3\n",
    "    解释：我们可以组建三个作战单位 (2,3,4)、(5,4,1)、(5,3,1) 。\n",
    "\n",
    "示例 2：\n",
    "    输入：rating = [2,1,3]\n",
    "    输出：0\n",
    "    解释：根据题目条件，我们无法组建作战单位。\n",
    "\n",
    "示例 3：\n",
    "    输入：rating = [1,2,3,4]\n",
    "    输出：4\n",
    "\n",
    "提示：\n",
    "    1、n == rating.length\n",
    "    2、1 <= n <= 200\n",
    "    3、1 <= rating[i] <= 10^5"
   ]
  },
  {
   "cell_type": "code",
   "execution_count": 13,
   "metadata": {},
   "outputs": [],
   "source": [
    "class Solution:\n",
    "    def numTeams(self, rating) -> int:\n",
    "        res = []\n",
    "        for i in range(len(rating)):\n",
    "            val_i = rating[i]\n",
    "            for j in range(i+1, len(rating)):\n",
    "                val_j = rating[j]\n",
    "                small = False if val_j - val_i > 0 else True\n",
    "                for k in range(j+1, len(rating)):\n",
    "                    val_k = rating[k]\n",
    "                    if not small and val_k > val_j:\n",
    "                        res.append([val_i, val_j, val_k])\n",
    "                    elif small and val_k < val_j:\n",
    "                        res.append([val_i, val_j, val_k])\n",
    "        return len(res)"
   ]
  },
  {
   "cell_type": "code",
   "execution_count": null,
   "metadata": {},
   "outputs": [],
   "source": [
    "class Solution:\n",
    "    def numTeams(self, rating) -> int:\n",
    "        res = 0\n",
    "        for i in range(len(rating)):\n",
    "            val_i = rating[i]\n",
    "            for j in range(i+1, len(rating)):\n",
    "                val_j = rating[j]\n",
    "                small = False if val_j - val_i > 0 else True\n",
    "                for k in range(j+1, len(rating)):\n",
    "                    val_k = rating[k]\n",
    "                    if (not small and val_k > val_j) or (small and val_k < val_j):\n",
    "                        res += 1\n",
    "        return res"
   ]
  },
  {
   "cell_type": "code",
   "execution_count": 14,
   "metadata": {},
   "outputs": [
    {
     "data": {
      "text/plain": [
       "4"
      ]
     },
     "execution_count": 14,
     "metadata": {},
     "output_type": "execute_result"
    }
   ],
   "source": [
    "solution = Solution()\n",
    "solution.numTeams([1,2,3,4])"
   ]
  },
  {
   "cell_type": "code",
   "execution_count": null,
   "metadata": {},
   "outputs": [],
   "source": []
  }
 ],
 "metadata": {
  "kernelspec": {
   "display_name": "Python 3",
   "language": "python",
   "name": "python3"
  },
  "language_info": {
   "codemirror_mode": {
    "name": "ipython",
    "version": 3
   },
   "file_extension": ".py",
   "mimetype": "text/x-python",
   "name": "python",
   "nbconvert_exporter": "python",
   "pygments_lexer": "ipython3",
   "version": "3.6.2"
  }
 },
 "nbformat": 4,
 "nbformat_minor": 4
}
