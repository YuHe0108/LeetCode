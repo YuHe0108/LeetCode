{
 "cells": [
  {
   "cell_type": "raw",
   "metadata": {},
   "source": [
    "说明：\n",
    "    给定一个用A表示的整数的圆形数组C，找到C的一个非空子数组的最大可能和。\n",
    "    这里，圆形数组表示该数组的末尾连接到该数组的开头。 \n",
    "    （通常，当0 <= i <A.length时，C [i] = A [i]；当i> = 0时，C [i A.length] = C [i]。）\n",
    "    此外，子数组只能包含每个固定缓冲区A的元素最多一次。 \n",
    "    （形式上，对于子数组C [i]，C [i+1]，...，C [j]，不存在i <= k1，k2 <= j，k1％A.length = k2％A.长度。）\n",
    "\n",
    "Example 1:\n",
    "    Input: [1,-2,3,-2]\n",
    "    Output: 3\n",
    "    Explanation: Subarray [3] has maximum sum 3\n",
    "\n",
    "Example 2:\n",
    "    Input: [5,-3,5]\n",
    "    Output: 10\n",
    "    Explanation: Subarray [5,5] has maximum sum 5 + 5 = 10\n",
    "\n",
    "Example 3:\n",
    "    Input: [3,-1,2,-1]\n",
    "    Output: 4\n",
    "    Explanation: Subarray [2,-1,3] has maximum sum 2 + (-1) + 3 = 4\n",
    "\n",
    "Example 4:\n",
    "    Input: [3,-2,2,-3]\n",
    "    Output: 3\n",
    "    Explanation: Subarray [3] and [3,-2,2] both have maximum sum 3\n",
    "\n",
    "Example 5:\n",
    "    Input: [-2,-3,-1]\n",
    "    Output: -1\n",
    "    Explanation: Subarray [-1] has maximum sum -1\n",
    "\n",
    "Note:\n",
    "    1、-30000 <= A[i] <= 30000\n",
    "    2、1 <= A.length <= 30000"
   ]
  },
  {
   "cell_type": "markdown",
   "metadata": {},
   "source": [
    "### 当涉及圆形子数组时，有两种情况。\n",
    "    1、情况1：没有交叉边界的最大子数组总和\n",
    "    2、情况2：具有交叉边界的最大子数组总和\n",
    "    写下一些小写的案例，并考虑案例2的一般模式。\n",
    "    记住为输入数组中的所有元素都为负数做一个角点案例句柄。\n",
    "<img src='https://assets.leetcode.com/users/brianchiang_tw/image_1589539736.png'>"
   ]
  },
  {
   "cell_type": "code",
   "execution_count": 74,
   "metadata": {},
   "outputs": [],
   "source": [
    "class Solution:\n",
    "    def maxSubarraySumCircular(self, A) -> int:\n",
    "        array_sum = 0\n",
    "        \n",
    "        local_min_sum, global_min_sum = 0, float('inf')\n",
    "        local_max_sum, global_max_sum = 0, float('-inf')\n",
    "        \n",
    "        for num in A:\n",
    "            local_min_sum = min(local_min_sum + num, num)\n",
    "            global_min_sum = min(global_min_sum, local_min_sum)\n",
    "            \n",
    "            local_max_sum = max(local_max_sum + num, num)\n",
    "            global_max_sum = max(global_max_sum, local_max_sum)\n",
    "            \n",
    "            array_sum += num\n",
    "        \n",
    "        if global_max_sum > 0:\n",
    "            return max(array_sum - global_min_sum, global_max_sum)\n",
    "        return global_max_sum"
   ]
  },
  {
   "cell_type": "code",
   "execution_count": null,
   "metadata": {},
   "outputs": [],
   "source": [
    "class Solution:\n",
    "    def maxSubarraySumCircular(self, A) -> int:\n",
    "        min_sum = min_glo_sum = max_sum = max_glo_sum = A[0]\n",
    "        for a in A[1:]:\n",
    "            min_sum = min(a, a + min_sum)\n",
    "            min_glo_sum = min(min_sum, min_glo_sum)\n",
    "            \n",
    "            max_sum = max(a, a + max_sum)\n",
    "            max_glo_sum = max(max_sum, max_glo_sum)\n",
    "        if sum(A) == min_glo_sum:\n",
    "            return max_glo_sum\n",
    "        return max(max_glo_sum, sum(A) - min_glo_sum)"
   ]
  },
  {
   "cell_type": "code",
   "execution_count": null,
   "metadata": {},
   "outputs": [],
   "source": []
  },
  {
   "cell_type": "code",
   "execution_count": null,
   "metadata": {},
   "outputs": [],
   "source": []
  },
  {
   "cell_type": "code",
   "execution_count": null,
   "metadata": {},
   "outputs": [],
   "source": [
    "class Solution:\n",
    "    def maxSubarraySumCircular(self, A) -> int:\n",
    "        \n",
    "        array_sum = 0\n",
    "        \n",
    "        local_min_sum, global_min_sum = 0, float('inf')\n",
    "        local_max_sum, global_max_sum = 0, float('-inf')\n",
    "        \n",
    "        for number in A:\n",
    "            \n",
    "            local_min_sum = min( local_min_sum + number, number )\n",
    "            global_min_sum = min( global_min_sum, local_min_sum )\n",
    "            \n",
    "            local_max_sum = max( local_max_sum + number, number )\n",
    "            global_max_sum = max( global_max_sum, local_max_sum )\n",
    "            \n",
    "            array_sum += number\n",
    "        \n",
    "        \n",
    "        \n",
    "        # global_max_sum denotes the maximum subarray sum without crossing boundary\n",
    "        # arry_sum - global_min_sum denotes the maximum subarray sum with crossing boundary\n",
    "        \n",
    "        if global_max_sum > 0:\n",
    "            return max( array_sum - global_min_sum, global_max_sum )\n",
    "        else:\n",
    "            # corner case handle for all number are negative\n",
    "            return global_max_sum"
   ]
  },
  {
   "cell_type": "code",
   "execution_count": null,
   "metadata": {},
   "outputs": [],
   "source": [
    "solution = Solution()\n",
    "solution.maxSubarraySumCircular([3,1,3,2,6])"
   ]
  },
  {
   "cell_type": "code",
   "execution_count": 71,
   "metadata": {},
   "outputs": [],
   "source": [
    "# 时间复杂度较高\n",
    "class Solution:\n",
    "    def maxSubarraySumCircular(self, A) -> int:\n",
    "        res = -float('inf')\n",
    "        for i in range(len(A)):\n",
    "            temp_sum = A[i]\n",
    "            temp_max = A[i]\n",
    "            for j in range(i+1, len(A) * 2):\n",
    "                j %= len(A)\n",
    "                if j == i:\n",
    "                    break\n",
    "                temp_sum += A[j]\n",
    "                temp_max = max(temp_max, temp_sum)\n",
    "            res = max(temp_max, res, A[i])\n",
    "        return res"
   ]
  },
  {
   "cell_type": "code",
   "execution_count": null,
   "metadata": {},
   "outputs": [],
   "source": [
    "from collections import Counter\n",
    "\n",
    "# 时间复杂度较高\n",
    "class Solution:\n",
    "    def maxSubarraySumCircular(self, A) -> int:\n",
    "        h = Counter(A)\n",
    "        "
   ]
  },
  {
   "cell_type": "code",
   "execution_count": 72,
   "metadata": {},
   "outputs": [
    {
     "data": {
      "text/plain": [
       "15"
      ]
     },
     "execution_count": 72,
     "metadata": {},
     "output_type": "execute_result"
    }
   ],
   "source": [
    "solution = Solution()\n",
    "solution.maxSubarraySumCircular([3,1,3,2,6])"
   ]
  },
  {
   "cell_type": "code",
   "execution_count": null,
   "metadata": {},
   "outputs": [],
   "source": []
  }
 ],
 "metadata": {
  "kernelspec": {
   "display_name": "Python 3",
   "language": "python",
   "name": "python3"
  },
  "language_info": {
   "codemirror_mode": {
    "name": "ipython",
    "version": 3
   },
   "file_extension": ".py",
   "mimetype": "text/x-python",
   "name": "python",
   "nbconvert_exporter": "python",
   "pygments_lexer": "ipython3",
   "version": "3.6.2"
  }
 },
 "nbformat": 4,
 "nbformat_minor": 4
}
