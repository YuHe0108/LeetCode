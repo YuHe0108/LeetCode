{
 "cells": [
  {
   "cell_type": "raw",
   "metadata": {},
   "source": [
    "说明：\n",
    "    如果字符串“ 0”和“ 1”由一定数量的“ 0”（可能为0），然后由一定数量的“ 1”（也可能为0）组成，则它是单调递增。\n",
    "    我们可以将任何“ 0”翻转为“ 1”或将“ 1”翻转为“ 0”。\n",
    "    返回最小翻转次数以使S单调增加。\n",
    "\n",
    "Example 1:\n",
    "    Input: \"00110\"\n",
    "    Output: 1\n",
    "    Explanation: We flip the last digit to get 00111.\n",
    "\n",
    "Example 2:\n",
    "    Input: \"010110\"\n",
    "    Output: 2\n",
    "    Explanation: We flip to get 011111, or alternatively 000111.\n",
    "\n",
    "Example 3:\n",
    "    Input: \"00011000\"\n",
    "    Output: 2\n",
    "    Explanation: We flip to get 00000000.\n",
    " \n",
    "Note:\n",
    "    1、1 <= S.length <= 20000\n",
    "    2、S only consists of '0' and '1' characters."
   ]
  },
  {
   "cell_type": "code",
   "execution_count": 21,
   "metadata": {},
   "outputs": [],
   "source": [
    "from collections import Counter\n",
    "\n",
    "class Solution:\n",
    "    def minFlipsMonoIncr(self, S: str) -> int:\n",
    "        s_freq = Counter(S)\n",
    "        res = min(s_freq['0'], s_freq['1'])\n",
    "        zeros, ones = 0, 0\n",
    "        for i in range(len(S) - 1):\n",
    "            if S[i] == '0':\n",
    "                zeros += 1\n",
    "            else:\n",
    "                ones += 1\n",
    "            res = min(res, s_freq['0'] - zeros + ones)\n",
    "        return res"
   ]
  },
  {
   "cell_type": "code",
   "execution_count": 3,
   "metadata": {},
   "outputs": [],
   "source": [
    "class Solution:\n",
    "    def minFlipsMonoIncr(self, S: str) -> int:\n",
    "        d0, d1 = 0, 0\n",
    "        for i in range(len(S)):\n",
    "            if S[i] == '1':\n",
    "                d0 += 1\n",
    "            else:\n",
    "                d1 += 1\n",
    "                d1 = min(d0, d1)\n",
    "        return min(d0, d1)"
   ]
  },
  {
   "cell_type": "code",
   "execution_count": 4,
   "metadata": {},
   "outputs": [
    {
     "data": {
      "text/plain": [
       "2"
      ]
     },
     "execution_count": 4,
     "metadata": {},
     "output_type": "execute_result"
    }
   ],
   "source": [
    "solution = Solution()\n",
    "solution.minFlipsMonoIncr(\"010110\")"
   ]
  },
  {
   "cell_type": "code",
   "execution_count": null,
   "metadata": {},
   "outputs": [],
   "source": []
  }
 ],
 "metadata": {
  "kernelspec": {
   "display_name": "Python 3",
   "language": "python",
   "name": "python3"
  },
  "language_info": {
   "codemirror_mode": {
    "name": "ipython",
    "version": 3
   },
   "file_extension": ".py",
   "mimetype": "text/x-python",
   "name": "python",
   "nbconvert_exporter": "python",
   "pygments_lexer": "ipython3",
   "version": "3.6.2"
  }
 },
 "nbformat": 4,
 "nbformat_minor": 4
}
