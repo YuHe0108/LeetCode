{
 "cells": [
  {
   "cell_type": "raw",
   "metadata": {},
   "source": [
    "说明：\n",
    "    给定非负整数数组A，A中一半的整数是奇数，而一半的整数是偶数。\n",
    "    对数组进行排序，以便每当A[i]为奇数时，i为奇数；只要A[i]是偶数，i就是偶数.\n",
    "    您可以返回任何满足此条件的答案数组。\n",
    "\n",
    "Example 1:\n",
    "    Input: [4,2,5,7]\n",
    "    Output: [4,5,2,7]\n",
    "    Explanation: [4,7,2,5], [2,5,4,7], [2,7,4,5] would also have been accepted.\n",
    "\n",
    "Note:\n",
    "    1、2 <= A.length <= 20000\n",
    "    2、A.length % 2 == 0\n",
    "    3、0 <= A[i] <= 1000"
   ]
  },
  {
   "cell_type": "code",
   "execution_count": 15,
   "metadata": {},
   "outputs": [],
   "source": [
    "class Solution:\n",
    "    def sortArrayByParityII(self, A):\n",
    "        res = [-1] * len(A)\n",
    "        even_num = []\n",
    "        idx = 0\n",
    "        while idx < len(A):\n",
    "            if A[idx] % 2 == 0:\n",
    "                even_num.append(A[idx])\n",
    "                A.pop(idx)\n",
    "            else:\n",
    "                idx += 1\n",
    "        \n",
    "        idx = 0\n",
    "        for i in range(len(res)):\n",
    "            if i % 2 == 0:\n",
    "                res[i] = even_num[idx]\n",
    "            else:\n",
    "                res[i] = A[idx]\n",
    "                idx += 1\n",
    "        return res"
   ]
  },
  {
   "cell_type": "code",
   "execution_count": 19,
   "metadata": {},
   "outputs": [],
   "source": [
    "class Solution:\n",
    "    def sortArrayByParityII(self, A):\n",
    "        i = 0\n",
    "        for i in range(len(A)-1):\n",
    "            if i % 2 == 0 and A[i] % 2 == 1:\n",
    "                A[i], A[i+1] = A[i+1], A[i]\n",
    "        return A"
   ]
  },
  {
   "cell_type": "code",
   "execution_count": 20,
   "metadata": {},
   "outputs": [
    {
     "data": {
      "text/plain": [
       "[4, 2, 7, 5]"
      ]
     },
     "execution_count": 20,
     "metadata": {},
     "output_type": "execute_result"
    }
   ],
   "source": [
    "A = [4,2,5,7]\n",
    "solution = Solution()\n",
    "solution.sortArrayByParityII(A)"
   ]
  },
  {
   "cell_type": "code",
   "execution_count": null,
   "metadata": {},
   "outputs": [],
   "source": []
  }
 ],
 "metadata": {
  "kernelspec": {
   "display_name": "Python 3",
   "language": "python",
   "name": "python3"
  },
  "language_info": {
   "codemirror_mode": {
    "name": "ipython",
    "version": 3
   },
   "file_extension": ".py",
   "mimetype": "text/x-python",
   "name": "python",
   "nbconvert_exporter": "python",
   "pygments_lexer": "ipython3",
   "version": "3.6.2"
  }
 },
 "nbformat": 4,
 "nbformat_minor": 4
}
