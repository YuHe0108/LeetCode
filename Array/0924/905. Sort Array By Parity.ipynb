{
 "cells": [
  {
   "cell_type": "raw",
   "metadata": {},
   "source": [
    "说明：\n",
    "    给定一个非负整数数组A，返回一个数组，该数组包含A的所有偶数元素，后跟A的所有奇数元素。\n",
    "    您可以返回满足此条件的任何答案数组。\n",
    "    \n",
    "Example 1:\n",
    "    Input: [3,1,2,4]\n",
    "    Output: [2,4,3,1]\n",
    "    The outputs [4,2,3,1], [2,4,1,3], and [4,2,1,3] would also be accepted.\n",
    " \n",
    "Note:\n",
    "    1、1 <= A.length <= 5000\n",
    "    2、0 <= A[i] <= 5000"
   ]
  },
  {
   "cell_type": "code",
   "execution_count": null,
   "metadata": {},
   "outputs": [],
   "source": [
    "class Solution:\n",
    "    def sortArrayByParity(self, A: List[int]) -> List[int]:\n",
    "        i, j = 0, len(A) - 1\n",
    "        while i < j:\n",
    "            # A[i] 是奇数，A[j] 是偶数就 swap\n",
    "            if A[i] % 2 == 1 and A[j] % 2 == 0:\n",
    "                A[i], A[j] = A[j], A[i]\n",
    "            \n",
    "            if A[i] % 2 == 0:\n",
    "                i += 1\n",
    "            if A[j] % 2 == 1:\n",
    "                j -= 1\n",
    "        return A"
   ]
  },
  {
   "cell_type": "code",
   "execution_count": null,
   "metadata": {},
   "outputs": [],
   "source": [
    "class Solution:\n",
    "    def sortArrayByParity(self, A: List[int]) -> List[int]:\n",
    "        even_num = []\n",
    "        odd_num = []\n",
    "        for a in A:\n",
    "            if a % 2 == 0:\n",
    "                even_num.append(a)\n",
    "            else:\n",
    "                odd_num.append(a)\n",
    "        even_num.extend(odd_num)\n",
    "        return even_num"
   ]
  }
 ],
 "metadata": {
  "kernelspec": {
   "display_name": "Python 3",
   "language": "python",
   "name": "python3"
  },
  "language_info": {
   "codemirror_mode": {
    "name": "ipython",
    "version": 3
   },
   "file_extension": ".py",
   "mimetype": "text/x-python",
   "name": "python",
   "nbconvert_exporter": "python",
   "pygments_lexer": "ipython3",
   "version": "3.6.2"
  }
 },
 "nbformat": 4,
 "nbformat_minor": 4
}
