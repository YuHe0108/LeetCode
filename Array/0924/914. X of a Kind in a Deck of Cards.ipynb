{
 "cells": [
  {
   "cell_type": "raw",
   "metadata": {},
   "source": [
    "说明：\n",
    "    在一副纸牌中，每张纸牌上都有一个整数。\n",
    "    当且仅当您可以选择X > = 2并可以将整个卡片组分成1组或多组卡片时，才返回true，\n",
    "    \n",
    "    其中：\n",
    "        1、每个组恰好有X张卡片。\n",
    "        2、每组中的所有卡均具有相同的整数。\n",
    "\n",
    "要求：\n",
    "    将纸牌分成 X 份，每份纸牌的数量要 >= 2, \n",
    "    每一份纸牌的数字要相同\n",
    "\n",
    "Example 1:\n",
    "    Input: deck = [1,2,3,4,4,3,2,1]\n",
    "    Output: true\n",
    "    Explanation: Possible partition [1,1],[2,2],[3,3],[4,4].\n",
    "\n",
    "Example 2:\n",
    "    Input: deck = [1,1,1,2,2,2,3,3]\n",
    "    Output: false´\n",
    "    Explanation: No possible partition.\n",
    "\n",
    "Example 3:\n",
    "    Input: deck = [1]\n",
    "    Output: false\n",
    "    Explanation: No possible partition.\n",
    "\n",
    "Example 4:\n",
    "    Input: deck = [1,1]\n",
    "    Output: true\n",
    "    Explanation: Possible partition [1,1].\n",
    "\n",
    "Example 5:\n",
    "    Input: deck = [1,1,2,2,2,2]\n",
    "    Output: true\n",
    "    Explanation: Possible partition [1,1],[2,2],[2,2].\n",
    "\n",
    "Constraints:\n",
    "    1、1 <= deck.length <= 10^4\n",
    "    2、0 <= deck[i] < 10^4"
   ]
  },
  {
   "cell_type": "code",
   "execution_count": null,
   "metadata": {},
   "outputs": [],
   "source": [
    "from collections import Counter\n",
    "\n",
    "class Solution:\n",
    "    def hasGroupsSizeX(self, deck) -> bool:\n",
    "        len_deck = len(deck)\n",
    "        if len_deck == 1: return False\n",
    "\n",
    "        # X 应该等于 d_freq 中 value 的最小值\n",
    "        d_freq = Counter(deck)\n",
    "        cate_num = len(d_freq)\n",
    "        min_freq = min([x for x in d_freq.values()])\n",
    "        if min_freq <= 1:\n",
    "            return False\n",
    "        \n",
    "        for freq in range(2, min_freq + 1):\n",
    "            X = min_freq % freq\n",
    "            OK = True\n",
    "            if X == 0:\n",
    "                for key, val in d_freq.items():\n",
    "                    if val != X and val % freq != 0:\n",
    "                        OK = False\n",
    "                        break\n",
    "                if OK:\n",
    "                    return True\n",
    "        return False\n"
   ]
  },
  {
   "cell_type": "code",
   "execution_count": 96,
   "metadata": {},
   "outputs": [],
   "source": [
    "class Solution:\n",
    "    def hasGroupsSizeX(self, deck) -> bool:\n",
    "        len_deck = len(deck)\n",
    "        if len_deck == 1: return False\n",
    "\n",
    "        # X 应该等于 d_freq 中 value 的最小值\n",
    "        d_freq = {}\n",
    "        for d in deck:\n",
    "            if d not in d_freq:\n",
    "                d_freq[d] = 1\n",
    "            else:\n",
    "                d_freq[d] += 1\n",
    "                \n",
    "        cate_num = len(d_freq)\n",
    "        min_freq = min([x for x in d_freq.values()])\n",
    "        if min_freq <= 1:\n",
    "            return False\n",
    "        \n",
    "        for freq in range(2, min_freq + 1):\n",
    "            X = min_freq % freq\n",
    "            OK = True\n",
    "            if X == 0:\n",
    "                for key, val in d_freq.items():\n",
    "                    if val != X and val % freq != 0:\n",
    "                        OK = False\n",
    "                        break\n",
    "                if OK:\n",
    "                    return True\n",
    "        return False"
   ]
  },
  {
   "cell_type": "code",
   "execution_count": 97,
   "metadata": {},
   "outputs": [
    {
     "data": {
      "text/plain": [
       "False"
      ]
     },
     "execution_count": 97,
     "metadata": {},
     "output_type": "execute_result"
    }
   ],
   "source": [
    "solution = Solution()\n",
    "solution.hasGroupsSizeX([1,1,1,1,1,0,0,0])"
   ]
  },
  {
   "cell_type": "code",
   "execution_count": 60,
   "metadata": {},
   "outputs": [
    {
     "name": "stdout",
     "output_type": "stream",
     "text": [
      "2\n"
     ]
    }
   ],
   "source": [
    "for i in range(2, 3):\n",
    "    print(i)"
   ]
  },
  {
   "cell_type": "code",
   "execution_count": null,
   "metadata": {},
   "outputs": [],
   "source": [
    "class Solution:\n",
    "    def hasGroupsSizeX(self, deck: List[int]) -> bool:\n",
    "        counts =  collections.Counter(deck)                        \n",
    "        for i in range(2, 8):\n",
    "            can_divide = True\n",
    "            for key, count in counts.items():\n",
    "                if count % i != 0:\n",
    "                    can_divide = False\n",
    "            if can_divide:\n",
    "                return True\n",
    "        return False"
   ]
  },
  {
   "cell_type": "code",
   "execution_count": null,
   "metadata": {},
   "outputs": [],
   "source": [
    "class Solution:\n",
    "    def hasGroupsSizeX(self, deck: List[int]) -> bool:\n",
    "        counts =  collections.Counter(deck)                        \n",
    "        min_freq = min([x for x in counts.values()])\n",
    "        \n",
    "        for i in range(2, min_freq + 1):\n",
    "            can_divide = True\n",
    "            \n",
    "            for key, count in counts.items():\n",
    "                if count % i != 0:\n",
    "                    can_divide = False\n",
    "            \n",
    "            if can_divide:\n",
    "                return True\n",
    "        return False"
   ]
  }
 ],
 "metadata": {
  "kernelspec": {
   "display_name": "Python 3",
   "language": "python",
   "name": "python3"
  },
  "language_info": {
   "codemirror_mode": {
    "name": "ipython",
    "version": 3
   },
   "file_extension": ".py",
   "mimetype": "text/x-python",
   "name": "python",
   "nbconvert_exporter": "python",
   "pygments_lexer": "ipython3",
   "version": "3.6.2"
  }
 },
 "nbformat": 4,
 "nbformat_minor": 4
}
