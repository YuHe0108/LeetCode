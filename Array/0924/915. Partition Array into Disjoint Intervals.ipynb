{
 "cells": [
  {
   "cell_type": "raw",
   "metadata": {},
   "source": [
    "说明：\n",
    "    给定数组A，将其分为左右两个（连续的）子数组，以便：\n",
    "        1、左边的每个元素小于或等于右边的每个元素。\n",
    "        2、左和右为非空。\n",
    "        3、左侧的尺寸最小。\n",
    "    进行这种划分后，返回left的长度。保证存在这样的分区。\n",
    "\n",
    "Example 1:\n",
    "    Input: [5,0,3,8,6]\n",
    "    Output: 3\n",
    "    Explanation: left = [5,0,3], right = [8,6]\n",
    "\n",
    "Example 2:\n",
    "    Input: [1,1,1,0,6,12]\n",
    "    Output: 4\n",
    "    Explanation: left = [1,1,1,0], right = [6,12]\n",
    "\n",
    "Note:\n",
    "    1、2 <= A.length <= 30000\n",
    "    2、0 <= A[i] <= 10^6\n",
    "    3、It is guaranteed there is at least one way to partition A as described."
   ]
  },
  {
   "cell_type": "code",
   "execution_count": 109,
   "metadata": {},
   "outputs": [],
   "source": [
    "from collections import Counter\n",
    "\n",
    "class Solution:\n",
    "    def partitionDisjoint(self, A) -> int:\n",
    "        min_a = min(A)\n",
    "        a_freq = Counter(A)\n",
    "        idx = 0\n",
    "        max_left = -1\n",
    "        min_right = float('inf')\n",
    "        while idx < len(A):\n",
    "            left_nums = A[:idx]\n",
    "            right_nums = A[idx:]\n",
    "            if left_nums:\n",
    "                max_left = max(left_nums)\n",
    "            min_right = min(right_nums)\n",
    "            if a_freq[min_a] == 0 and max_left <= min_right:\n",
    "                return idx\n",
    "            if A[idx] == min_a:\n",
    "                a_freq[min_a] -= 1\n",
    "            idx += 1\n",
    "        return len(A) // 2"
   ]
  },
  {
   "cell_type": "code",
   "execution_count": 115,
   "metadata": {},
   "outputs": [],
   "source": [
    "class Solution:\n",
    "    def partitionDisjoint(self, A) -> int:\n",
    "        left_max = A[0]\n",
    "        next_max = 0\n",
    "        res = 0\n",
    "        \n",
    "        for i in range(len(A)):\n",
    "            # 一直探寻 A[:i] 中的最大值 \n",
    "            next_max = max(next_max, A[i])\n",
    "            \n",
    "            # 只有当出现比left_max小的值的时候，此时left_max = next_max\n",
    "            if A[i] < left_max:\n",
    "                res = i\n",
    "                if next_max > left_max:\n",
    "                    left_max = next_max\n",
    "        return res+1"
   ]
  },
  {
   "cell_type": "code",
   "execution_count": 118,
   "metadata": {},
   "outputs": [
    {
     "data": {
      "text/plain": [
       "3"
      ]
     },
     "execution_count": 118,
     "metadata": {},
     "output_type": "execute_result"
    }
   ],
   "source": [
    "solution = Solution()\n",
    "solution.partitionDisjoint([1,1,0,6,12])"
   ]
  },
  {
   "cell_type": "code",
   "execution_count": null,
   "metadata": {},
   "outputs": [],
   "source": []
  }
 ],
 "metadata": {
  "kernelspec": {
   "display_name": "Python 3",
   "language": "python",
   "name": "python3"
  },
  "language_info": {
   "codemirror_mode": {
    "name": "ipython",
    "version": 3
   },
   "file_extension": ".py",
   "mimetype": "text/x-python",
   "name": "python",
   "nbconvert_exporter": "python",
   "pygments_lexer": "ipython3",
   "version": "3.6.2"
  }
 },
 "nbformat": 4,
 "nbformat_minor": 4
}
