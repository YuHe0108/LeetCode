{
 "cells": [
  {
   "cell_type": "raw",
   "metadata": {},
   "source": [
    "说明：\n",
    "    给定一个整数数组A，找到min（B）的总和，其中B覆盖A的每个（连续）子数组。由于答案可能很大，\n",
    "    因此以 10^9 + 7 为模返回答案。\n",
    "\n",
    "Example 1:\n",
    "    Input: [3,1,2,4]\n",
    "    Output: 17\n",
    "    Explanation: Subarrays are [3], [1], [2], [4], [3,1], [1,2], [2,4], [3,1,2], [1,2,4], [3,1,2,4]. \n",
    "                 Minimums are   3, 1, 2, 4, 1, 1, 2, 1, 1, 1.  Sum is 17.\n",
    "Note:\n",
    "    1、1 <= A.length <= 30000\n",
    "    2、1 <= A[i] <= 30000"
   ]
  },
  {
   "cell_type": "code",
   "execution_count": 18,
   "metadata": {},
   "outputs": [],
   "source": [
    "class Solution:\n",
    "    def sumSubarrayMins(self, A) -> int:\n",
    "        res = 0\n",
    "        stacks = []        \n",
    "        for a in A:\n",
    "            res += a\n",
    "            while stacks and stacks[-1] > a:\n",
    "                val = stacks.pop()\n",
    "                res += val *\n",
    "            stacks.append(a)\n",
    "        return res % (pow(10, 9) + 7)"
   ]
  },
  {
   "cell_type": "code",
   "execution_count": 49,
   "metadata": {},
   "outputs": [],
   "source": [
    "class Solution:\n",
    "    def sumSubarrayMins(self, A) -> int:\n",
    "        A = [0] + A + [0]\n",
    "        stacks = []      \n",
    "        res = 0\n",
    "        for i in range(len(A)):\n",
    "            while stacks and A[stacks[-1]] > A[i]:\n",
    "                cur = stacks.pop()\n",
    "                # 碰到更小的之前，cur是最小的，此时 i-cur, 表示在没有遇到更小之前的时候，应该加的次数\n",
    "                # A[stack[-1]] 比 cur的值要大，cur-stack[-1]表示在这之间 cur的值也是最小的\n",
    "                res += A[cur] * (i - cur) * (cur - stacks[-1])\n",
    "            stacks.append(i)\n",
    "        return res % (pow(10, 9) + 7)"
   ]
  },
  {
   "cell_type": "code",
   "execution_count": 50,
   "metadata": {},
   "outputs": [
    {
     "name": "stdout",
     "output_type": "stream",
     "text": [
      "[0, 7]\n"
     ]
    },
    {
     "data": {
      "text/plain": [
       "37"
      ]
     },
     "execution_count": 50,
     "metadata": {},
     "output_type": "execute_result"
    }
   ],
   "source": [
    "solution = Solution()\n",
    "solution.sumSubarrayMins([3,1,2,4,6,1])"
   ]
  },
  {
   "cell_type": "code",
   "execution_count": null,
   "metadata": {},
   "outputs": [],
   "source": []
  },
  {
   "cell_type": "code",
   "execution_count": null,
   "metadata": {},
   "outputs": [],
   "source": []
  }
 ],
 "metadata": {
  "kernelspec": {
   "display_name": "Python 3",
   "language": "python",
   "name": "python3"
  },
  "language_info": {
   "codemirror_mode": {
    "name": "ipython",
    "version": 3
   },
   "file_extension": ".py",
   "mimetype": "text/x-python",
   "name": "python",
   "nbconvert_exporter": "python",
   "pygments_lexer": "ipython3",
   "version": "3.6.2"
  }
 },
 "nbformat": 4,
 "nbformat_minor": 4
}
