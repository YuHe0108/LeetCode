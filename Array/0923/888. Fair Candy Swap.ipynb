{
 "cells": [
  {
   "cell_type": "raw",
   "metadata": {},
   "source": [
    "说明：\n",
    "    爱丽丝和鲍勃有不同大小的糖果棒：A[i]是爱丽丝拥有的第i糖果棒的大小，而B [j]是鲍勃拥有的第j糖果棒的大小。\n",
    "    由于他们是朋友，所以他们希望交换一个糖果棒，这样在交换之后，他们两个的糖果总量相同。 \n",
    "    （一个人拥有的糖果总量就是他们拥有的糖果棒的大小之和。）返回整数数组ans，\n",
    "    其中ans [0]是爱丽丝必须交换的糖果棒的大小，\n",
    "    而ans [1]是Bob必须更换的直板的大小。\n",
    "    如果有多个答案，则可以返回其中任何一个。\n",
    "    保证答案存在。\n",
    "\n",
    "Example 1:\n",
    "    Input: A = [1,1], B = [2,2]\n",
    "    Output: [1,2]\n",
    "    \n",
    "Example 2:\n",
    "    Input: A = [1,2], B = [2,3]\n",
    "    Output: [1,2]\n",
    "\n",
    "Example 3:\n",
    "    Input: A = [2], B = [1,3]\n",
    "    Output: [2,3]\n",
    "\n",
    "Example 4:\n",
    "    Input: A = [1,2,5], B = [2,4]\n",
    "    Output: [5,4]\n",
    " \n",
    "\n",
    "Note:\n",
    "    1、1 <= A.length <= 10000\n",
    "    2、1 <= B.length <= 10000\n",
    "    3、1 <= A[i] <= 100000\n",
    "    4、1 <= B[i] <= 100000\n",
    "    5、It is guaranteed that Alice and Bob have different total amounts of candy.\n",
    "    6、It is guaranteed there exists an answer."
   ]
  },
  {
   "cell_type": "code",
   "execution_count": 31,
   "metadata": {},
   "outputs": [],
   "source": [
    "class Solution:\n",
    "    def fairCandySwap(self, A, B):\n",
    "        sum_a, sum_b = sum(A), sum(B)\n",
    "        if sum_a > sum_b:\n",
    "            a_more = True\n",
    "        else:\n",
    "            a_more = False\n",
    "        \n",
    "        average = abs(sum_a - sum_b) // 2\n",
    "        res = []\n",
    "        a_seen = set()\n",
    "        if a_more:\n",
    "            for a in A:\n",
    "                if a in a_seen:\n",
    "                    continue\n",
    "                if a - average in B:\n",
    "                    res.extend([a, a-average])\n",
    "                    return res\n",
    "                a_seen.add(a)\n",
    "        \n",
    "        b_seen = set()\n",
    "        elif not a_more:\n",
    "            if b in b_seen:\n",
    "                continue\n",
    "            for b in B:\n",
    "                if b - average in A:\n",
    "                    res.extend([b-average, b])\n",
    "                    return res\n",
    "            b_seen.add(b)"
   ]
  },
  {
   "cell_type": "code",
   "execution_count": 32,
   "metadata": {},
   "outputs": [
    {
     "data": {
      "text/plain": [
       "[5, 4]"
      ]
     },
     "execution_count": 32,
     "metadata": {},
     "output_type": "execute_result"
    }
   ],
   "source": [
    "solution = Solution()\n",
    "solution.fairCandySwap([1,2,5], [2,4])"
   ]
  },
  {
   "cell_type": "code",
   "execution_count": null,
   "metadata": {},
   "outputs": [],
   "source": []
  }
 ],
 "metadata": {
  "kernelspec": {
   "display_name": "Python 3",
   "language": "python",
   "name": "python3"
  },
  "language_info": {
   "codemirror_mode": {
    "name": "ipython",
    "version": 3
   },
   "file_extension": ".py",
   "mimetype": "text/x-python",
   "name": "python",
   "nbconvert_exporter": "python",
   "pygments_lexer": "ipython3",
   "version": "3.6.2"
  }
 },
 "nbformat": 4,
 "nbformat_minor": 4
}
