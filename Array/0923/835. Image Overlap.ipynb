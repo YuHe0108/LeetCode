{
 "cells": [
  {
   "cell_type": "raw",
   "metadata": {},
   "source": [
    "说明：\n",
    "    您将得到两个图像img1和img2，它们的大小均为n x n，表示为相同大小的二进制平方矩阵。 （二进制矩阵只有0和1s作为值。）\n",
    "    我们可以转换一个图像，但是可以选择（将其向左，向右，向上或向下滑动任意数量的单位），\n",
    "    然后将其放置在另一幅图像的顶部。\n",
    "    之后，此平移的重叠是两个图像中均具有1的位置数。 \n",
    "    （还请注意，平移不包括任何类型的旋转。）最大可能的重叠是什么？"
   ]
  },
  {
   "cell_type": "code",
   "execution_count": null,
   "metadata": {},
   "outputs": [],
   "source": []
  }
 ],
 "metadata": {
  "kernelspec": {
   "display_name": "Python 3",
   "language": "python",
   "name": "python3"
  },
  "language_info": {
   "codemirror_mode": {
    "name": "ipython",
    "version": 3
   },
   "file_extension": ".py",
   "mimetype": "text/x-python",
   "name": "python",
   "nbconvert_exporter": "python",
   "pygments_lexer": "ipython3",
   "version": "3.6.2"
  }
 },
 "nbformat": 4,
 "nbformat_minor": 4
}
