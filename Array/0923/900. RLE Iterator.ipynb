{
 "cells": [
  {
   "cell_type": "raw",
   "metadata": {},
   "source": [
    "说明：\n",
    "    编写一个遍历游程编码序列的迭代器。\n",
    "    迭代器由RLEIterator（int [] A）初始化，其中A是某个序列的行程编码。\n",
    "    更具体地说，对于所有偶数i，A [i]告诉我们在序列中重复非负整数值A [i+1]的次数。\n",
    "    迭代器支持一个函数：next（int n），它耗尽接下来的n个元素（n> = 1），并返回以这种方式耗尽的最后一个元素。\n",
    "    如果没有元素要用尽，则next返回-1。例如，我们从A = [3,8,0,9,2,5]开始，它是序列[8,8,8,5,5]的行程编码。\n",
    "    这是因为该序列可以读为“三八，零九，二五”。\n",
    "\n",
    "Example 1:\n",
    "    Input: [\"RLEIterator\",\"next\",\"next\",\"next\",\"next\"], \n",
    "           [[[3,8,0,9,2,5]],[2],[1],[1],[2]]\n",
    "    Output: \n",
    "            [null,8,8,5,-1]\n",
    "    Explanation: \n",
    "        RLEIterator is initialized with RLEIterator([3,8,0,9,2,5]).\n",
    "        This maps to the sequence [8,8,8,5,5].\n",
    "        RLEIterator.next is then called 4 times:\n",
    "    .next(2) exhausts 2 terms of the sequence, returning 8.  The remaining sequence is now [8, 5, 5].\n",
    "\n",
    "    .next(1) exhausts 1 term of the sequence, returning 8.  The remaining sequence is now [5, 5].\n",
    "    \n",
    "    .next(1) exhausts 1 term of the sequence, returning 5.  The remaining sequence is now [5].\n",
    "\n",
    "    .next(2) exhausts 2 terms, returning -1.  This is because the first term exhausted was 5,\n",
    "    but the second term did not exist.  Since the last term exhausted does not exist, we return -1.\n",
    "\n",
    "Note:\n",
    "    1、0 <= A.length <= 1000\n",
    "    2、A.length is an even integer.\n",
    "    3、0 <= A[i] <= 10^9\n",
    "    4、There are at most 1000 calls to RLEIterator.next(int n) per test case.\n",
    "    5、Each call to RLEIterator.next(int n) will have 1 <= n <= 10^9."
   ]
  },
  {
   "cell_type": "code",
   "execution_count": 5,
   "metadata": {},
   "outputs": [],
   "source": [
    "class RLEIterator:\n",
    "    def __init__(self, A):\n",
    "        self.A = A[::-1]\n",
    "    \n",
    "    def next(self, n: int) -> int:\n",
    "        acc = 0\n",
    "        while acc < n:\n",
    "            if not self.A:\n",
    "                return -1\n",
    "            times, num = self.A.pop(), self.A.pop()\n",
    "            acc += times\n",
    "        if acc > n:\n",
    "            self.A.append(num)\n",
    "            self.A.append(acc - n)\n",
    "        print(self.A)\n",
    "        return num"
   ]
  },
  {
   "cell_type": "code",
   "execution_count": 6,
   "metadata": {},
   "outputs": [
    {
     "name": "stdout",
     "output_type": "stream",
     "text": [
      "[5, 2, 9, 0, 8, 1]\n",
      "[5, 2, 9, 0]\n",
      "[5, 1]\n",
      "8 8 5 -1\n"
     ]
    }
   ],
   "source": [
    "solution = RLEIterator([3,8,0,9,2,5])\n",
    "param_1 = solution.next(2)\n",
    "param_2 = solution.next(1)\n",
    "param_3 = solution.next(1)\n",
    "param_4 = solution.next(2)\n",
    "print(param_1, param_2, param_3, param_4)"
   ]
  },
  {
   "cell_type": "code",
   "execution_count": null,
   "metadata": {},
   "outputs": [],
   "source": []
  },
  {
   "cell_type": "code",
   "execution_count": null,
   "metadata": {},
   "outputs": [],
   "source": []
  },
  {
   "cell_type": "code",
   "execution_count": 144,
   "metadata": {},
   "outputs": [],
   "source": [
    "class RLEIterator:\n",
    "    def __init__(self, A):\n",
    "        self.a_freq = []\n",
    "        for i, a in enumerate(A):\n",
    "            if i % 2 == 0 and a != 0:\n",
    "                self.a_freq.append([A[i+1], a])\n",
    "        self.idx = 0\n",
    "\n",
    "    def next(self, n: int) -> int:\n",
    "        if not self.a_freq:\n",
    "            return -1\n",
    "        for i in range(len(self.a_freq)):\n",
    "            item = self.a_freq[i]\n",
    "            cur_time = item[1]\n",
    "            if cur_time >= n:\n",
    "                self.a_freq[i][1] -= n\n",
    "                return self.a_freq[i][0]\n",
    "        self.a_freq.pop(0)\n",
    "        self.next(n - cur_time)"
   ]
  },
  {
   "cell_type": "code",
   "execution_count": 145,
   "metadata": {},
   "outputs": [
    {
     "name": "stdout",
     "output_type": "stream",
     "text": [
      "8 8 5 None\n"
     ]
    }
   ],
   "source": [
    "solution = RLEIterator([3,8,0,9,2,5])\n",
    "param_1 = solution.next(2)\n",
    "param_2 = solution.next(1)\n",
    "param_3 = solution.next(1)\n",
    "param_4 = solution.next(2)\n",
    "print(param_1, param_2, param_3, param_4)"
   ]
  },
  {
   "cell_type": "code",
   "execution_count": null,
   "metadata": {},
   "outputs": [],
   "source": []
  },
  {
   "cell_type": "code",
   "execution_count": 5,
   "metadata": {},
   "outputs": [],
   "source": [
    "a = [1, 2]\n",
    "a.extend([1]*3)"
   ]
  },
  {
   "cell_type": "code",
   "execution_count": 6,
   "metadata": {},
   "outputs": [
    {
     "data": {
      "text/plain": [
       "[1, 2, 1, 1, 1]"
      ]
     },
     "execution_count": 6,
     "metadata": {},
     "output_type": "execute_result"
    }
   ],
   "source": [
    "a"
   ]
  },
  {
   "cell_type": "code",
   "execution_count": 55,
   "metadata": {},
   "outputs": [],
   "source": [
    "def test():\n",
    "    return 1\n",
    "\n",
    "def test_2():\n",
    "    yield test()"
   ]
  },
  {
   "cell_type": "code",
   "execution_count": 58,
   "metadata": {},
   "outputs": [
    {
     "ename": "TypeError",
     "evalue": "int() argument must be a string, a bytes-like object or a number, not 'generator'",
     "output_type": "error",
     "traceback": [
      "\u001b[1;31m---------------------------------------------------------------------------\u001b[0m",
      "\u001b[1;31mTypeError\u001b[0m                                 Traceback (most recent call last)",
      "\u001b[1;32m<ipython-input-58-689c4bbfced4>\u001b[0m in \u001b[0;36m<module>\u001b[1;34m\u001b[0m\n\u001b[1;32m----> 1\u001b[1;33m \u001b[0mint\u001b[0m\u001b[1;33m(\u001b[0m\u001b[0mtest_2\u001b[0m\u001b[1;33m(\u001b[0m\u001b[1;33m)\u001b[0m\u001b[1;33m)\u001b[0m\u001b[1;33m\u001b[0m\u001b[0m\n\u001b[0m",
      "\u001b[1;31mTypeError\u001b[0m: int() argument must be a string, a bytes-like object or a number, not 'generator'"
     ]
    }
   ],
   "source": [
    "int(test_2())"
   ]
  },
  {
   "cell_type": "code",
   "execution_count": null,
   "metadata": {},
   "outputs": [],
   "source": []
  },
  {
   "cell_type": "code",
   "execution_count": null,
   "metadata": {},
   "outputs": [],
   "source": []
  }
 ],
 "metadata": {
  "kernelspec": {
   "display_name": "Python 3",
   "language": "python",
   "name": "python3"
  },
  "language_info": {
   "codemirror_mode": {
    "name": "ipython",
    "version": 3
   },
   "file_extension": ".py",
   "mimetype": "text/x-python",
   "name": "python",
   "nbconvert_exporter": "python",
   "pygments_lexer": "ipython3",
   "version": "3.6.2"
  }
 },
 "nbformat": 4,
 "nbformat_minor": 4
}
