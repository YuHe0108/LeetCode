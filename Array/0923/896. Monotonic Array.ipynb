{
 "cells": [
  {
   "cell_type": "raw",
   "metadata": {},
   "source": [
    "说明：\n",
    "    如果数组是单调递增或单调递减的，则它是单调的。如果对于所有i <= j，A [i] <= A [j]，数组A是单调递增的。\n",
    "    如果对于所有i <= j，A [i]> = A [j]，数组A是单调递减的。\n",
    "    当且仅当给定数组A为单调时，才返回true。\n",
    "\n",
    "Example 1:\n",
    "    Input: [1,2,2,3]\n",
    "    Output: true\n",
    "\n",
    "Example 2:\n",
    "    Input: [6,5,4,4]\n",
    "    Output: true\n",
    "\n",
    "Example 3:\n",
    "    Input: [1,3,2]\n",
    "    Output: false\n",
    "\n",
    "Example 4:\n",
    "    Input: [1,2,4,5]\n",
    "    Output: true\n",
    "\n",
    "Example 5:\n",
    "    Input: [1,1,1]\n",
    "    Output: true\n",
    " \n",
    "Note:\n",
    "    1、1 <= A.length <= 50000\n",
    "    2、-100000 <= A[i] <= 100000"
   ]
  },
  {
   "cell_type": "code",
   "execution_count": 33,
   "metadata": {},
   "outputs": [],
   "source": [
    "class Solution:\n",
    "    def isMonotonic(self, A) -> bool:\n",
    "        increase = False\n",
    "        decrease = False\n",
    "        for i in range(1, len(A)):\n",
    "            a = A[i]\n",
    "            if increase and decrease:\n",
    "                return False\n",
    "            if a == A[i-1]:\n",
    "                continue\n",
    "            if a > A[i-1] and not increase:\n",
    "                increase = True\n",
    "            elif a < A[i-1] and not decrease:\n",
    "                decrease = True\n",
    "        return False if increase and decrease else True"
   ]
  },
  {
   "cell_type": "code",
   "execution_count": 34,
   "metadata": {},
   "outputs": [
    {
     "data": {
      "text/plain": [
       "True"
      ]
     },
     "execution_count": 34,
     "metadata": {},
     "output_type": "execute_result"
    }
   ],
   "source": [
    "solution = Solution()\n",
    "solution.isMonotonic([6,5,4,4])"
   ]
  },
  {
   "cell_type": "code",
   "execution_count": 3,
   "metadata": {},
   "outputs": [],
   "source": [
    "a = None\n",
    "if a == False:\n",
    "    print(2)"
   ]
  },
  {
   "cell_type": "code",
   "execution_count": null,
   "metadata": {},
   "outputs": [],
   "source": []
  }
 ],
 "metadata": {
  "kernelspec": {
   "display_name": "Python 3",
   "language": "python",
   "name": "python3"
  },
  "language_info": {
   "codemirror_mode": {
    "name": "ipython",
    "version": 3
   },
   "file_extension": ".py",
   "mimetype": "text/x-python",
   "name": "python",
   "nbconvert_exporter": "python",
   "pygments_lexer": "ipython3",
   "version": "3.6.2"
  }
 },
 "nbformat": 4,
 "nbformat_minor": 4
}
