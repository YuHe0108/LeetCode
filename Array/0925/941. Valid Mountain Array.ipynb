{
 "cells": [
  {
   "cell_type": "raw",
   "metadata": {},
   "source": [
    "说明：\n",
    "    给定一个整数数组A，当且仅当它是有效的Mountain数组时才返回true。回想一下，当且仅当：\n",
    "    1、A.length >= 3\n",
    "    2、There exists some i with 0 < i < A.length - 1 such that:\n",
    "        2.1 A[0] < A[1] < ... A[i-1] < A[i]\n",
    "        2.2 A[i] > A[i+1] > ... > A[A.length - 1]\n",
    "\n",
    "Note:\n",
    "    1、0 <= A.length <= 10000\n",
    "    2、0 <= A[i] <= 10000 \n",
    "\n",
    "Example 1:\n",
    "    Input: [2,1]\n",
    "    Output: false\n",
    "\n",
    "Example 2:\n",
    "    Input: [3,5,5]\n",
    "    Output: false\n",
    "\n",
    "Example 3:\n",
    "    Input: [0,3,2,1]\n",
    "    Output: true\n",
    "\n",
    "要求：\n",
    "    也就是查看数组是不是两边低中间高"
   ]
  },
  {
   "cell_type": "markdown",
   "metadata": {},
   "source": [
    "<img src='https://assets.leetcode.com/uploads/2019/10/20/hint_valid_mountain_array.png'>"
   ]
  },
  {
   "cell_type": "code",
   "execution_count": null,
   "metadata": {},
   "outputs": [],
   "source": [
    "class Solution:\n",
    "    def validMountainArray(self, A) -> bool:\n",
    "        if len(A) < 3: return False\n",
    "        increase = False\n",
    "        decrease = False\n",
    "        k = len(A)\n",
    "        for i in range(1, k):\n",
    "            if A[i-1] > A[i]:\n",
    "                if increase is True:\n",
    "                    return False\n",
    "                increase = True\n",
    "            else:\n",
    "                if decrease is True:\n",
    "                    return False\n",
    "                decrease = True\n",
    "        return increase and decrease"
   ]
  },
  {
   "cell_type": "code",
   "execution_count": null,
   "metadata": {},
   "outputs": [],
   "source": []
  },
  {
   "cell_type": "code",
   "execution_count": null,
   "metadata": {},
   "outputs": [],
   "source": []
  },
  {
   "cell_type": "code",
   "execution_count": null,
   "metadata": {},
   "outputs": [],
   "source": []
  },
  {
   "cell_type": "code",
   "execution_count": 43,
   "metadata": {},
   "outputs": [],
   "source": [
    "class Solution:\n",
    "    def validMountainArray(self, A) -> bool:\n",
    "        if len(A) < 3: return False\n",
    "        mid_idx = -1\n",
    "        idx = 1\n",
    "        A.append(float('inf'))\n",
    "        while idx < len(A):\n",
    "            if A[idx] == A[idx-1]:\n",
    "                return False\n",
    "            if A[idx] < A[idx-1]:\n",
    "                mid_idx = idx\n",
    "                break\n",
    "            idx += 1\n",
    "            \n",
    "        end_idx = -1\n",
    "        while idx < len(A):\n",
    "            if A[idx] == A[idx-1]:\n",
    "                return False\n",
    "            if A[idx] > A[idx-1]:\n",
    "                end_idx = idx\n",
    "                break\n",
    "            idx += 1\n",
    "        if 0 < mid_idx < len(A) - 1 and end_idx == len(A) - 1 and max(A[:-1]) != A[0]:\n",
    "            return True\n",
    "        return False"
   ]
  },
  {
   "cell_type": "code",
   "execution_count": 44,
   "metadata": {},
   "outputs": [
    {
     "name": "stdout",
     "output_type": "stream",
     "text": [
      "1 10 [9, 8, 7, 6, 5, 4, 3, 2, 1, 0]\n"
     ]
    },
    {
     "data": {
      "text/plain": [
       "False"
      ]
     },
     "execution_count": 44,
     "metadata": {},
     "output_type": "execute_result"
    }
   ],
   "source": [
    "solution = Solution()\n",
    "solution.validMountainArray([9,8,7,6,5,4,3,2,1,0])"
   ]
  },
  {
   "cell_type": "code",
   "execution_count": null,
   "metadata": {},
   "outputs": [],
   "source": []
  }
 ],
 "metadata": {
  "kernelspec": {
   "display_name": "Python 3",
   "language": "python",
   "name": "python3"
  },
  "language_info": {
   "codemirror_mode": {
    "name": "ipython",
    "version": 3
   },
   "file_extension": ".py",
   "mimetype": "text/x-python",
   "name": "python",
   "nbconvert_exporter": "python",
   "pygments_lexer": "ipython3",
   "version": "3.6.2"
  }
 },
 "nbformat": 4,
 "nbformat_minor": 4
}
