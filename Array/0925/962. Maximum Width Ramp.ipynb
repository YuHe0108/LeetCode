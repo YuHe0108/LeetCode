{
 "cells": [
  {
   "cell_type": "raw",
   "metadata": {},
   "source": [
    "说明：\n",
    "    给定一个整数数组A，a ramp 是一个元组（i，j），其中i < j 并且 A[i] <= A[j]。\n",
    "    这样的斜坡的宽度是j-i。在A中找到斜坡的最大宽度。\n",
    "    如果不存在，则返回0。\n",
    "\n",
    "Example 1:\n",
    "    Input: [6,0,8,2,1,5]\n",
    "    Output: 4\n",
    "    Explanation: \n",
    "        The maximum width ramp is achieved at (i, j) = (1, 5): A[1] = 0 and A[5] = 5.\n",
    "\n",
    "Example 2:\n",
    "    Input: [9,8,1,0,1,9,4,0,4,1]\n",
    "    Output: 7\n",
    "    Explanation: \n",
    "        The maximum width ramp is achieved at (i, j) = (2, 9): A[2] = 1 and A[9] = 1.\n",
    "Note:\n",
    "    1、2 <= A.length <= 50000\n",
    "    2、0 <= A[i] <= 50000"
   ]
  },
  {
   "cell_type": "code",
   "execution_count": 19,
   "metadata": {},
   "outputs": [],
   "source": [
    "class Solution:\n",
    "    def maxWidthRamp(self, A) -> int:\n",
    "        seen = set()\n",
    "        res = 0\n",
    "        for i, a in enumerate(A):\n",
    "            if a in seen:\n",
    "                continue\n",
    "            if i < len(A) - 1 and min(A[i+1:]) >= A[i]:\n",
    "                res = max(A.index(min(A[i+1:])) - i + 1, res)\n",
    "            seen.add(a)\n",
    "        return res"
   ]
  },
  {
   "cell_type": "code",
   "execution_count": 36,
   "metadata": {},
   "outputs": [],
   "source": [
    "class Solution:\n",
    "    def maxWidthRamp(self, A) -> int:\n",
    "        ans = 0\n",
    "        m = float('inf')\n",
    "        for i in sorted(range(len(A)), key = A.__getitem__):\n",
    "            print(i)\n",
    "            ans = max(ans, i - m)\n",
    "            m = min(m, i)\n",
    "        return ans"
   ]
  },
  {
   "cell_type": "code",
   "execution_count": 5,
   "metadata": {},
   "outputs": [],
   "source": [
    "class Solution:\n",
    "    def maxWidthRamp(self, A) -> int:\n",
    "        ans = 0\n",
    "        min_val = float('inf')\n",
    "        min_idx = 0\n",
    "        for i, a in enumerate(A):\n",
    "            if a <= min_val:\n",
    "                if min_val == float('inf'):\n",
    "                    ans = max(ans,  i - min_idx)\n",
    "                min_idx = i\n",
    "                min_val = a\n",
    "        return ans"
   ]
  },
  {
   "cell_type": "code",
   "execution_count": 6,
   "metadata": {},
   "outputs": [
    {
     "name": "stdout",
     "output_type": "stream",
     "text": [
      "inf\n"
     ]
    },
    {
     "data": {
      "text/plain": [
       "0"
      ]
     },
     "execution_count": 6,
     "metadata": {},
     "output_type": "execute_result"
    }
   ],
   "source": [
    "solution = Solution()\n",
    "solution.maxWidthRamp([9,8,1,0,1,9,4,0,4,1])"
   ]
  },
  {
   "cell_type": "code",
   "execution_count": 13,
   "metadata": {},
   "outputs": [],
   "source": [
    "class Solution:\n",
    "    def maxWidthRamp(self, A) -> int:\n",
    "        ans = 0\n",
    "        m = float('inf')\n",
    "        print(sorted(A))\n",
    "        for i in sorted(range(len(A)), key = A.__getitem__):\n",
    "            ans = max(ans, i - m)\n",
    "            m = min(m, i)\n",
    "            print(i, m, ans)\n",
    "        return ans"
   ]
  },
  {
   "cell_type": "code",
   "execution_count": 14,
   "metadata": {},
   "outputs": [
    {
     "name": "stdout",
     "output_type": "stream",
     "text": [
      "[0, 0, 1, 1, 1, 4, 4, 8, 9, 9]\n",
      "3 3 0\n",
      "7 3 4\n",
      "2 2 4\n",
      "4 2 4\n",
      "9 2 7\n",
      "6 2 7\n",
      "8 2 7\n",
      "1 1 7\n",
      "0 0 7\n",
      "5 0 7\n"
     ]
    },
    {
     "data": {
      "text/plain": [
       "7"
      ]
     },
     "execution_count": 14,
     "metadata": {},
     "output_type": "execute_result"
    }
   ],
   "source": [
    "solution = Solution()\n",
    "solution.maxWidthRamp([9,8,1,0,1,9,4,0,4,1])"
   ]
  },
  {
   "cell_type": "code",
   "execution_count": null,
   "metadata": {},
   "outputs": [],
   "source": []
  }
 ],
 "metadata": {
  "kernelspec": {
   "display_name": "Python 3",
   "language": "python",
   "name": "python3"
  },
  "language_info": {
   "codemirror_mode": {
    "name": "ipython",
    "version": 3
   },
   "file_extension": ".py",
   "mimetype": "text/x-python",
   "name": "python",
   "nbconvert_exporter": "python",
   "pygments_lexer": "ipython3",
   "version": "3.6.2"
  }
 },
 "nbformat": 4,
 "nbformat_minor": 4
}
