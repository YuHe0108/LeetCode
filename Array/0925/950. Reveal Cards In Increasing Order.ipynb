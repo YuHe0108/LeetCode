{
 "cells": [
  {
   "cell_type": "raw",
   "metadata": {},
   "source": [
    "说明：\n",
    "    在一副纸牌中，每张纸牌都有一个唯一的整数。您可以按任意顺序订购甲板。\n",
    "    最初，所有卡在一个卡座中面朝下（未显露）开始。\n",
    "    现在，重复执行以下步骤，直到显示所有卡：\n",
    "    1、拿走甲板上的最高卡，将其露出，然后将其从甲板上取出。\n",
    "    2、如果卡座中仍然有卡，请将卡座的下一张顶部卡放在卡座的底部。\n",
    "    3、如果仍然有未公开的卡，请返回步骤1，否则，请停止。\n",
    "    返回卡片组的排序，以递增的顺序显示卡片。答案中的第一个条目被认为是卡片组的顶部。\n",
    "\n",
    "Example 1:\n",
    "    Input: [17,13,11,2,3,5,7]\n",
    "    Output: [2,13,3,11,5,17,7]\n",
    "    Explanation: \n",
    "        We get the deck in the order [17,13,11,2,3,5,7] (this order doesn't matter), and reorder it.\n",
    "        After reordering, the deck starts as [2,13,3,11,5,17,7], where 2 is the top of the deck.\n",
    "        We reveal 2, and move 13 to the bottom.  The deck is now [3,11,5,17,7,13].\n",
    "        We reveal 3, and move 11 to the bottom.  The deck is now [5,17,7,13,11].\n",
    "        We reveal 5, and move 17 to the bottom.  The deck is now [7,13,11,17].\n",
    "        We reveal 7, and move 13 to the bottom.  The deck is now [11,17,13].\n",
    "        We reveal 11, and move 17 to the bottom.  The deck is now [13,17].\n",
    "        We reveal 13, and move 17 to the bottom.  The deck is now [17].\n",
    "        We reveal 17.\n",
    "        Since all the cards revealed are in increasing order, the answer is correct.\n",
    "\n",
    "Note:\n",
    "    1、1 <= A.length <= 1000\n",
    "    2、1 <= A[i] <= 10^6\n",
    "    3、A[i] != A[j] for all i != j"
   ]
  },
  {
   "cell_type": "code",
   "execution_count": 11,
   "metadata": {},
   "outputs": [],
   "source": [
    "from collections import deque\n",
    "\n",
    "class Solution:\n",
    "    def deckRevealedIncreasing(self, deck):\n",
    "        deck.sort(reverse=True)\n",
    "        queue = deque()\n",
    "        for card in deck:\n",
    "            if queue:\n",
    "                queue.appendleft(queue.pop())\n",
    "            queue.appendleft(card)\n",
    "            print(queue)\n",
    "        return queue"
   ]
  },
  {
   "cell_type": "code",
   "execution_count": 12,
   "metadata": {},
   "outputs": [
    {
     "name": "stdout",
     "output_type": "stream",
     "text": [
      "[17, 13, 11, 7, 5, 3, 2]\n",
      "deque([17])\n",
      "deque([13, 17])\n",
      "deque([11, 17, 13])\n",
      "deque([7, 13, 11, 17])\n",
      "deque([5, 17, 7, 13, 11])\n",
      "deque([3, 11, 5, 17, 7, 13])\n",
      "deque([2, 13, 3, 11, 5, 17, 7])\n"
     ]
    },
    {
     "data": {
      "text/plain": [
       "deque([2, 13, 3, 11, 5, 17, 7])"
      ]
     },
     "execution_count": 12,
     "metadata": {},
     "output_type": "execute_result"
    }
   ],
   "source": [
    "deck = [17,13,11,2,3,5,7]\n",
    "solution = Solution()\n",
    "solution.deckRevealedIncreasing(deck)"
   ]
  },
  {
   "cell_type": "code",
   "execution_count": null,
   "metadata": {},
   "outputs": [],
   "source": []
  }
 ],
 "metadata": {
  "kernelspec": {
   "display_name": "Python 3",
   "language": "python",
   "name": "python3"
  },
  "language_info": {
   "codemirror_mode": {
    "name": "ipython",
    "version": 3
   },
   "file_extension": ".py",
   "mimetype": "text/x-python",
   "name": "python",
   "nbconvert_exporter": "python",
   "pygments_lexer": "ipython3",
   "version": "3.6.2"
  }
 },
 "nbformat": 4,
 "nbformat_minor": 4
}
