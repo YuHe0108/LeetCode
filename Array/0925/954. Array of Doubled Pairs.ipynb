{
 "cells": [
  {
   "cell_type": "raw",
   "metadata": {},
   "source": [
    "说明：\n",
    "    给定具有偶数长度的整数A的数组，当且仅当有可能重新排序以使\n",
    "        A [2 * i + 1] = 2 * A [2 * i] 当 0 <= i < len（A ）/ 2。\n",
    "\n",
    "要求：重新排序，idx是奇数的位置是idx是偶数位置的二倍。\n",
    "\n",
    "Example 1:\n",
    "    Input: [3,1,3,6]\n",
    "    Output: false\n",
    "\n",
    "Example 2:\n",
    "    Input: [2,1,2,6]\n",
    "    Output: false\n",
    "\n",
    "Example 3:\n",
    "    Input: [4,-2,2,-4]\n",
    "    Output: true\n",
    "    Explanation: We can take two groups, [-2,-4] and [2,4] to form [-2,-4,2,4] or [2,4,-2,-4].\n",
    "\n",
    "Example 4:\n",
    "    Input: [1,2,4,16,8,4]\n",
    "    Output: false\n",
    "\n",
    "Note:\n",
    "    1、0 <= A.length <= 30000\n",
    "    2、A.length is even\n",
    "    3、-100000 <= A[i] <= 100000"
   ]
  },
  {
   "cell_type": "code",
   "execution_count": 17,
   "metadata": {},
   "outputs": [],
   "source": [
    "# i 可能的取值：0、2、4、6、len(A)\n",
    "from collections import Counter\n",
    "\n",
    "class Solution:\n",
    "    def canReorderDoubled(self, A):\n",
    "        if not A: return True\n",
    "        a_freq = Counter(A)\n",
    "        seen = set()\n",
    "        for a in A:\n",
    "            if a in seen: continue\n",
    "            if a_freq[a] == 0: \n",
    "                seen.add(a)\n",
    "                continue\n",
    "            if a_freq[a * 2] >= a_freq[a] and a * 2 not in seen:\n",
    "                a_freq[a * 2] -= a_freq[a]\n",
    "            elif a % 2 == 0 and a_freq[a // 2] >= a_freq[a]  and a // 2 not in seen:\n",
    "                a_freq[a // 2] -= a_freq[a]\n",
    "            else:\n",
    "                return False\n",
    "        return True"
   ]
  },
  {
   "cell_type": "code",
   "execution_count": 71,
   "metadata": {},
   "outputs": [],
   "source": [
    "from collections import Counter\n",
    "\n",
    "class Solution:\n",
    "    def canReorderDoubled(self, A):\n",
    "        if not A: return True\n",
    "        a_freq = Counter(A)\n",
    "        \n",
    "        for a in sorted(a_freq.keys(), key=abs):\n",
    "            if a_freq[a] == 0: \n",
    "                continue\n",
    "            if a == 0 and a_freq[0] % 2 == 0:\n",
    "                a_freq[0] = 0\n",
    "                continue\n",
    "            if a_freq[a * 2] > 0:\n",
    "                min_val = min(a_freq[a * 2], a_freq[a])\n",
    "                a_freq[a * 2] -= min_val\n",
    "                a_freq[a] -= min_val\n",
    "        return all(not v for v in a_freq.values())"
   ]
  },
  {
   "cell_type": "code",
   "execution_count": 72,
   "metadata": {},
   "outputs": [
    {
     "name": "stdout",
     "output_type": "stream",
     "text": [
      "Counter({-6: 2, 2: 2, 4: 2, -3: 2, -4: 2, 8: 1, 3: 1, -2: 1, 6: 1, 1: 1, -8: 1})\n"
     ]
    },
    {
     "data": {
      "text/plain": [
       "True"
      ]
     },
     "execution_count": 72,
     "metadata": {},
     "output_type": "execute_result"
    }
   ],
   "source": [
    "solution = Solution()\n",
    "solution.canReorderDoubled([-6,2,-6,4,-3,8,3,2,-2,6,1,-3,-4,-4,-8,4])"
   ]
  },
  {
   "cell_type": "code",
   "execution_count": 64,
   "metadata": {},
   "outputs": [],
   "source": [
    "from collections import Counter\n",
    "\n",
    "class Solution:\n",
    "    def canReorderDoubled(self, A):\n",
    "        a_freq = Counter(A)\n",
    "        for n in sorted(a_freq.keys(), key=abs):\n",
    "            double = 2 * n\n",
    "            while a_freq[n] > 0  and a_freq[double] > 0:\n",
    "                double = 2 * n\n",
    "                a_freq[n] -= 1\n",
    "                a_freq[double] -= 1\n",
    "        return all(not v for v in a_freq.values())"
   ]
  },
  {
   "cell_type": "code",
   "execution_count": 65,
   "metadata": {},
   "outputs": [
    {
     "name": "stdout",
     "output_type": "stream",
     "text": [
      "Counter({-6: 0, 2: 0, 4: 0, -3: 0, 8: 0, 3: 0, -2: 0, 6: 0, 1: 0, -4: 0, -8: 0})\n"
     ]
    },
    {
     "data": {
      "text/plain": [
       "True"
      ]
     },
     "execution_count": 65,
     "metadata": {},
     "output_type": "execute_result"
    }
   ],
   "source": [
    "solution = Solution()\n",
    "solution.canReorderDoubled([-6,2,-6,4,-3,8,3,2,-2,6,1,-3,-4,-4,-8,4])"
   ]
  },
  {
   "cell_type": "code",
   "execution_count": 28,
   "metadata": {},
   "outputs": [],
   "source": [
    "if 0:\n",
    "    print(2)"
   ]
  },
  {
   "cell_type": "code",
   "execution_count": null,
   "metadata": {},
   "outputs": [],
   "source": [
    "class Solution:\n",
    "    def canReorderDoubled(self, A: List[int]) -> bool:\n",
    "        c = Counter(A)\n",
    "        for n in sorted(c.keys(), key=abs):\n",
    "            while c[n] > 0 and c[(double := 2 * n)] > 0:\n",
    "                c[n] -= 1\n",
    "                c[double] -= 1\n",
    "        return all(not v for v in c.values())"
   ]
  },
  {
   "cell_type": "code",
   "execution_count": 74,
   "metadata": {},
   "outputs": [],
   "source": [
    "from collections import Counter\n",
    "\n",
    "class Solution:\n",
    "    def canReorderDoubled(self, A):\n",
    "        if not A: return True\n",
    "        a_freq = Counter(A)\n",
    "        \n",
    "        for a in sorted(a_freq.keys(), key=abs):\n",
    "            if a_freq[a] == 0: \n",
    "                continue\n",
    "            if a == 0 and a_freq[0] % 2 == 0:\n",
    "                a_freq[0] = 0\n",
    "                continue\n",
    "            if a_freq[a * 2] > 0:\n",
    "                min_val = min(a_freq[a * 2], a_freq[a])\n",
    "                a_freq[a * 2] -= min_val\n",
    "                a_freq[a] -= min_val\n",
    "        return all(not v for v in a_freq.values())"
   ]
  },
  {
   "cell_type": "code",
   "execution_count": 75,
   "metadata": {},
   "outputs": [
    {
     "name": "stdout",
     "output_type": "stream",
     "text": [
      "1\n",
      "2\n",
      "-2\n",
      "-3\n",
      "3\n",
      "4\n",
      "-4\n",
      "-6\n",
      "6\n",
      "8\n",
      "-8\n"
     ]
    },
    {
     "data": {
      "text/plain": [
       "True"
      ]
     },
     "execution_count": 75,
     "metadata": {},
     "output_type": "execute_result"
    }
   ],
   "source": [
    "solution = Solution()\n",
    "solution.canReorderDoubled([-6,2,-6,4,-3,8,3,2,-2,6,1,-3,-4,-4,-8,4])"
   ]
  },
  {
   "cell_type": "code",
   "execution_count": null,
   "metadata": {},
   "outputs": [],
   "source": []
  }
 ],
 "metadata": {
  "kernelspec": {
   "display_name": "Python 3",
   "language": "python",
   "name": "python3"
  },
  "language_info": {
   "codemirror_mode": {
    "name": "ipython",
    "version": 3
   },
   "file_extension": ".py",
   "mimetype": "text/x-python",
   "name": "python",
   "nbconvert_exporter": "python",
   "pygments_lexer": "ipython3",
   "version": "3.6.2"
  }
 },
 "nbformat": 4,
 "nbformat_minor": 4
}
