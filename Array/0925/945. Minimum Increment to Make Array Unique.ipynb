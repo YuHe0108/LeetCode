{
 "cells": [
  {
   "cell_type": "raw",
   "metadata": {},
   "source": [
    "说明：\n",
    "    给定一个整数数组A，移动包括选择任意A[i]，然后将其递增1。\n",
    "    返回最少数量的移动以使A中的每个值唯一。\n",
    "    \n",
    "Example 1:\n",
    "    Input: [1,2,2]\n",
    "    Output: 1\n",
    "    Explanation:  After 1 move, the array could be [1, 2, 3].\n",
    "\n",
    "Example 2:\n",
    "    Input: [3,2,1,2,1,7]\n",
    "    Output: 6\n",
    "    Explanation:  After 6 moves, the array could be [3, 4, 1, 2, 5, 7].\n",
    "                  It can be shown with 5 or less moves that it is impossible for the array to have all unique values.\n",
    " \n",
    "Note:\n",
    "    1、0 <= A.length <= 40000\n",
    "    2、0 <= A[i] < 40000"
   ]
  },
  {
   "cell_type": "code",
   "execution_count": 32,
   "metadata": {},
   "outputs": [],
   "source": [
    "# 时间复杂度过高\n",
    "from collections import Counter\n",
    "\n",
    "class Solution:\n",
    "    def minIncrementForUnique(self, A) -> int:\n",
    "        if not A: return 0\n",
    "        a_freq = Counter(A)\n",
    "        count = 0\n",
    "        occu = set(A)\n",
    "        for key, val in a_freq.items():\n",
    "            while val > 1:\n",
    "                new_key = key\n",
    "                while new_key in occu:\n",
    "                    new_key += 1\n",
    "                    count += 1\n",
    "                occu.add(new_key)\n",
    "                val -= 1\n",
    "        return count"
   ]
  },
  {
   "cell_type": "code",
   "execution_count": 81,
   "metadata": {},
   "outputs": [],
   "source": [
    "class Solution:\n",
    "    def minIncrementForUnique(self, A) -> int:\n",
    "        if not A: return 0\n",
    "        A.sort()\n",
    "        count = 0\n",
    "        occu = {A[0]}\n",
    "        for i in range(1, len(A)):\n",
    "            if A[i] in occu and A[i-1] + 1 != A[i]:\n",
    "                count += A[i-1] + 1 - A[i]\n",
    "                A[i] = A[i-1] + 1\n",
    "                occu.add(A[i-1] + 1)\n",
    "            occu.add(A[i])\n",
    "        return count"
   ]
  },
  {
   "cell_type": "code",
   "execution_count": 91,
   "metadata": {},
   "outputs": [],
   "source": [
    "class Solution:\n",
    "    def minIncrementForUnique(self, A) -> int:\n",
    "        if not A: return 0\n",
    "        res, need = 0, 0\n",
    "        for num in sorted(A):\n",
    "            res += max(need - num, 0)\n",
    "            need = max(need + 1, num + 1)\n",
    "        return res"
   ]
  },
  {
   "cell_type": "code",
   "execution_count": 92,
   "metadata": {},
   "outputs": [
    {
     "data": {
      "text/plain": [
       "6"
      ]
     },
     "execution_count": 92,
     "metadata": {},
     "output_type": "execute_result"
    }
   ],
   "source": [
    "solution = Solution()\n",
    "solution.minIncrementForUnique([3,2,1,2,1,7])"
   ]
  },
  {
   "cell_type": "code",
   "execution_count": null,
   "metadata": {},
   "outputs": [],
   "source": []
  }
 ],
 "metadata": {
  "kernelspec": {
   "display_name": "Python 3",
   "language": "python",
   "name": "python3"
  },
  "language_info": {
   "codemirror_mode": {
    "name": "ipython",
    "version": 3
   },
   "file_extension": ".py",
   "mimetype": "text/x-python",
   "name": "python",
   "nbconvert_exporter": "python",
   "pygments_lexer": "ipython3",
   "version": "3.6.2"
  }
 },
 "nbformat": 4,
 "nbformat_minor": 4
}
