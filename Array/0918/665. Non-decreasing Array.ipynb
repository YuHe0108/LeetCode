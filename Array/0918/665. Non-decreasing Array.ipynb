{
 "cells": [
  {
   "cell_type": "raw",
   "metadata": {},
   "source": [
    "说明：\n",
    "    给定一个具有n个整数的nums数组，您的任务是通过最多修改1个元素来检查它是否可以不减少。\n",
    "    如果每个i（从0开始）都满足nums [i] <= nums [i+1]的条件，则我们定义一个数组是非递减的，\n",
    "    即（0 <= i <= n-2）。\n",
    "\n",
    "Example 1:\n",
    "    Input: nums = [4,2,3]\n",
    "    Output: true\n",
    "    Explanation: You could modify the first 4 to 1 to get a non-decreasing array.\n",
    "\n",
    "Example 2:\n",
    "    Input: nums = [4,2,1]\n",
    "    Output: false\n",
    "    Explanation: You can't get a non-decreasing array by modify at most one element.\n",
    " \n",
    "Constraints:\n",
    "    1、1 <= n <= 10 ^ 4\n",
    "    2、- 10 ^ 5 <= nums[i] <= 10 ^ 5\n"
   ]
  },
  {
   "cell_type": "code",
   "execution_count": 47,
   "metadata": {},
   "outputs": [],
   "source": [
    "class Solution:\n",
    "    def checkPossibility(self, nums) -> bool:\n",
    "        \n",
    "        def helper(n_list):\n",
    "            for i in range(1, len(n_list)):\n",
    "                if n_list[i] < n_list[i-1]:\n",
    "                    return False\n",
    "            return True\n",
    "        \n",
    "        for i in range(1, len(nums)):\n",
    "            pre = nums[i-1]\n",
    "            cur = nums[i]\n",
    "            if cur < pre:\n",
    "                nums[i-1] = cur\n",
    "                a = helper(nums)\n",
    "                nums[i-1] = pre\n",
    "                nums[i] = pre\n",
    "                b = helper(nums)\n",
    "                return a or b\n",
    "        return True"
   ]
  },
  {
   "cell_type": "code",
   "execution_count": null,
   "metadata": {},
   "outputs": [],
   "source": [
    "class Solution:\n",
    "    def checkPossibility(self, nums):\n",
    "        counter = 0\n",
    "        for i in range(1, len(nums)):\n",
    "            if (nums[i] < nums[i-1]):\n",
    "                counter += 1\n",
    "                if counter > 1:\n",
    "                    return False\n",
    "                if (i-2 >= 0):\n",
    "                    if (nums[i]< nums[i-2]):\n",
    "                        nums[i] = nums[i-1]\n",
    "                    else:\n",
    "                        nums[i-1] = nums[i-2]\n",
    "\n",
    "                else:\n",
    "                    nums[i-1] = nums[i]\n",
    "\n",
    "        return True"
   ]
  },
  {
   "cell_type": "code",
   "execution_count": 48,
   "metadata": {},
   "outputs": [
    {
     "data": {
      "text/plain": [
       "True"
      ]
     },
     "execution_count": 48,
     "metadata": {},
     "output_type": "execute_result"
    }
   ],
   "source": [
    "nums_ = [5,7,1,8]\n",
    "solution = Solution()\n",
    "solution.checkPossibility(nums_)"
   ]
  },
  {
   "cell_type": "code",
   "execution_count": null,
   "metadata": {},
   "outputs": [],
   "source": []
  }
 ],
 "metadata": {
  "kernelspec": {
   "display_name": "Python 3",
   "language": "python",
   "name": "python3"
  },
  "language_info": {
   "codemirror_mode": {
    "name": "ipython",
    "version": 3
   },
   "file_extension": ".py",
   "mimetype": "text/x-python",
   "name": "python",
   "nbconvert_exporter": "python",
   "pygments_lexer": "ipython3",
   "version": "3.6.2"
  }
 },
 "nbformat": 4,
 "nbformat_minor": 4
}
