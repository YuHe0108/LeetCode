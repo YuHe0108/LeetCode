{
 "cells": [
  {
   "cell_type": "raw",
   "metadata": {},
   "source": [
    "说明：\n",
    "    给定一个未排序的整数数组，请找出最长的连续递增子序列（子数组）的长度。\n",
    "\n",
    "Example 1:\n",
    "    Input: [1,3,5,4,7]\n",
    "    Output: 3\n",
    "    Explanation: The longest continuous increasing subsequence is [1,3,5], its length is 3. \n",
    "    Even though [1,3,5,7] is also an increasing subsequence, it's not a continuous one where 5 and 7 are separated by 4. \n",
    "\n",
    "Example 2:\n",
    "    Input: [2,2,2,2,2]\n",
    "    Output: 1\n",
    "    Explanation: The longest continuous increasing subsequence is [2], its length is 1. \n",
    "\n",
    "Note: Length of the array will not exceed 10,000."
   ]
  },
  {
   "cell_type": "code",
   "execution_count": 24,
   "metadata": {},
   "outputs": [],
   "source": [
    "class Solution:\n",
    "    def findLengthOfLCIS(self, nums) -> int:\n",
    "        if not nums or len(nums) == 1: return len(nums)\n",
    "        count, start = 0, 0\n",
    "        start = 0\n",
    "        nums.append(-float('inf'))\n",
    "        for i in range(1, len(nums)):\n",
    "            if nums[i] <= nums[i-1]:\n",
    "                count = max(count, i - start)\n",
    "                start = i\n",
    "        return count"
   ]
  },
  {
   "cell_type": "code",
   "execution_count": 27,
   "metadata": {},
   "outputs": [
    {
     "data": {
      "text/plain": [
       "3"
      ]
     },
     "execution_count": 27,
     "metadata": {},
     "output_type": "execute_result"
    }
   ],
   "source": [
    "nums_ = [1, 2, 3, 1, 4,2]\n",
    "solution = Solution()\n",
    "solution.findLengthOfLCIS(nums_)"
   ]
  },
  {
   "cell_type": "code",
   "execution_count": null,
   "metadata": {},
   "outputs": [],
   "source": []
  },
  {
   "cell_type": "code",
   "execution_count": null,
   "metadata": {},
   "outputs": [],
   "source": []
  }
 ],
 "metadata": {
  "kernelspec": {
   "display_name": "Python 3",
   "language": "python",
   "name": "python3"
  },
  "language_info": {
   "codemirror_mode": {
    "name": "ipython",
    "version": 3
   },
   "file_extension": ".py",
   "mimetype": "text/x-python",
   "name": "python",
   "nbconvert_exporter": "python",
   "pygments_lexer": "ipython3",
   "version": "3.6.2"
  }
 },
 "nbformat": 4,
 "nbformat_minor": 4
}
