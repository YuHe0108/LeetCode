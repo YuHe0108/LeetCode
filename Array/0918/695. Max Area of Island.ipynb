{
 "cells": [
  {
   "cell_type": "raw",
   "metadata": {},
   "source": [
    "说明：\n",
    "    给定一个0和1的非空2D阵列网格，一个岛是一组4（水平或垂直）连接的1（代表陆地）。\n",
    "    您可以假定网格的所有四个边都被水包围。\n",
    "    在给定的2D数组中找到孤岛的最大面积。 （如果没有孤岛，则最大面积为0。）\n",
    "\n",
    "\n",
    "Example 1:\n",
    "\n",
    "    [[0,0,1,0,0,0,0,1,0,0,0,0,0],\n",
    "     [0,0,0,0,0,0,0,1,1,1,0,0,0],\n",
    "     [0,1,1,0,1,0,0,0,0,0,0,0,0],\n",
    "     [0,1,0,0,1,1,0,0,1,0,1,0,0],\n",
    "     [0,1,0,0,1,1,0,0,1,1,1,0,0],\n",
    "     [0,0,0,0,0,0,0,0,0,0,1,0,0],\n",
    "     [0,0,0,0,0,0,0,1,1,1,0,0,0],\n",
    "     [0,0,0,0,0,0,0,1,1,0,0,0,0]]\n",
    "    \n",
    "    Given the above grid, return 6. Note the answer is not 11, because the island must be connected 4-directionally.\n",
    "\n",
    "Example 2:\n",
    "    [[0,0,0,0,0,0,0,0]]\n",
    "    Given the above grid, return 0.\n",
    "\n",
    "Note: \n",
    "    1、The length of each dimension in the given grid does not exceed 50."
   ]
  },
  {
   "cell_type": "code",
   "execution_count": 42,
   "metadata": {},
   "outputs": [],
   "source": [
    "class Solution:\n",
    "    def maxAreaOfIsland(self, grid) -> int:\n",
    "        if not grid or not grid[0]: return 0\n",
    "        \n",
    "        self.count = 0\n",
    "        def dfs(x, y):\n",
    "            if x < 0 or x >= rows or y < 0 or y >= cols:\n",
    "                return\n",
    "            if grid[x][y] == 0:\n",
    "                return\n",
    "            self.count += 1\n",
    "            grid[x][y] = 0\n",
    "            dfs(x-1, y)\n",
    "            dfs(x+1, y)\n",
    "            dfs(x, y-1)\n",
    "            dfs(x, y+1)\n",
    "            \n",
    "            \n",
    "        rows, cols = len(grid), len(grid[0])\n",
    "        max_count = 0\n",
    "        for i in range(rows):\n",
    "            for j in range(cols):\n",
    "                if grid[i][j] == 1:\n",
    "                    dfs(i, j)\n",
    "                    max_count = max(self.count, max_count)\n",
    "                    self.count = 0\n",
    "        return max_count"
   ]
  },
  {
   "cell_type": "code",
   "execution_count": 44,
   "metadata": {},
   "outputs": [
    {
     "data": {
      "text/plain": [
       "6"
      ]
     },
     "execution_count": 44,
     "metadata": {},
     "output_type": "execute_result"
    }
   ],
   "source": [
    "grid_ = [[0,0,1,0,0,0,0,1,0,0,0,0,0],\n",
    "         [0,0,0,0,0,0,0,1,1,1,0,0,0],\n",
    "         [0,1,1,0,1,0,0,0,0,0,0,0,0],\n",
    "         [0,1,0,0,1,1,0,0,1,0,1,0,0],\n",
    "         [0,1,0,0,1,1,0,0,1,1,1,0,0],\n",
    "         [0,0,0,0,0,0,0,0,0,0,1,0,0],\n",
    "         [0,0,0,0,0,0,0,1,1,1,0,0,0],\n",
    "         [0,0,0,0,0,0,0,1,1,0,0,0,0]]\n",
    "solution = Solution()\n",
    "solution.maxAreaOfIsland(grid_)"
   ]
  },
  {
   "cell_type": "code",
   "execution_count": null,
   "metadata": {},
   "outputs": [],
   "source": []
  }
 ],
 "metadata": {
  "kernelspec": {
   "display_name": "Python 3",
   "language": "python",
   "name": "python3"
  },
  "language_info": {
   "codemirror_mode": {
    "name": "ipython",
    "version": 3
   },
   "file_extension": ".py",
   "mimetype": "text/x-python",
   "name": "python",
   "nbconvert_exporter": "python",
   "pygments_lexer": "ipython3",
   "version": "3.6.2"
  }
 },
 "nbformat": 4,
 "nbformat_minor": 4
}
