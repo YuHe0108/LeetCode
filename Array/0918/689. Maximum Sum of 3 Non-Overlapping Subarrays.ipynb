{
 "cells": [
  {
   "cell_type": "raw",
   "metadata": {},
   "source": [
    "说明：\n",
    "    在给定的正整数个数组中，找到三个具有最大和的不重叠子数组。\n",
    "    每个子数组的大小为k，我们希望将所有3 * k条目的总和最大化。\n",
    "    以代表每个间隔的起始位置的索引列表返回结果（0索引）。\n",
    "    如果有多个答案，请返回字典上最小的答案。\n",
    "\n",
    "Example:\n",
    "    Input: [1,2,1,2,6,7,5,1], 2\n",
    "    Output: [0, 3, 5]\n",
    "    Explanation: Subarrays [1, 2], [2, 6], [7, 5] correspond to the starting indices [0, 3, 5].\n",
    "                  We could have also taken [2, 1], but an answer of [1, 3, 5] would be lexicographically larger.\n",
    " \n",
    "\n",
    "Note:\n",
    "    1、nums.length will be between 1 and 20000.\n",
    "    2、nums[i] will be between 1 and 65535.\n",
    "    3、k will be between 1 and floor(nums.length / 3)."
   ]
  }
 ],
 "metadata": {
  "kernelspec": {
   "display_name": "Python 3",
   "language": "python",
   "name": "python3"
  },
  "language_info": {
   "codemirror_mode": {
    "name": "ipython",
    "version": 3
   },
   "file_extension": ".py",
   "mimetype": "text/x-python",
   "name": "python",
   "nbconvert_exporter": "python",
   "pygments_lexer": "ipython3",
   "version": "3.6.2"
  }
 },
 "nbformat": 4,
 "nbformat_minor": 4
}
