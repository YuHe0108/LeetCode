{
 "cells": [
  {
   "cell_type": "code",
   "execution_count": null,
   "metadata": {},
   "outputs": [],
   "source": []
  },
  {
   "cell_type": "code",
   "execution_count": null,
   "metadata": {},
   "outputs": [],
   "source": []
  },
  {
   "cell_type": "code",
   "execution_count": null,
   "metadata": {},
   "outputs": [],
   "source": [
    "class SubrectangleQueries:\n",
    "\n",
    "    def __init__(self, rectangle: List[List[int]]):\n",
    "        self.grid = rectangle\n",
    "\n",
    "\n",
    "    def updateSubrectangle(self, row1: int, col1: int, row2: int, col2: int, newValue: int) -> None:\n",
    "        for i in range(row1, row2 + 1):\n",
    "            for j in range(col1, col2 + 1):\n",
    "                self.grid[i][j] = newValue\n",
    "\n",
    "    def getValue(self, row: int, col: int) -> int:\n",
    "        return self.grid[row][col]\n",
    "\n",
    "\n",
    "\n",
    "# Your SubrectangleQueries object will be instantiated and called as such:\n",
    "# obj = SubrectangleQueries(rectangle)\n",
    "# obj.updateSubrectangle(row1,col1,row2,col2,newValue)\n",
    "# param_2 = obj.getValue(row,col)"
   ]
  }
 ],
 "metadata": {
  "kernelspec": {
   "display_name": "Python 3",
   "language": "python",
   "name": "python3"
  },
  "language_info": {
   "codemirror_mode": {
    "name": "ipython",
    "version": 3
   },
   "file_extension": ".py",
   "mimetype": "text/x-python",
   "name": "python",
   "nbconvert_exporter": "python",
   "pygments_lexer": "ipython3",
   "version": "3.6.2"
  }
 },
 "nbformat": 4,
 "nbformat_minor": 4
}
