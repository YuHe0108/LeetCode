{
 "cells": [
  {
   "cell_type": "code",
   "execution_count": null,
   "metadata": {},
   "outputs": [],
   "source": []
  },
  {
   "cell_type": "code",
   "execution_count": null,
   "metadata": {},
   "outputs": [],
   "source": []
  },
  {
   "cell_type": "code",
   "execution_count": 45,
   "metadata": {},
   "outputs": [],
   "source": [
    "class Solution:\n",
    "    def queensAttacktheKing(self, queens, king):\n",
    "        set_que = set(tuple(x) for x in queens)\n",
    "        N = 8\n",
    "        # 就是找 king坐标的８个方向上，首次遇到的黑皇后是谁\n",
    "        res = []\n",
    "        x, y = king\n",
    "        # 下方向\n",
    "        while x + 1 < 8:\n",
    "            x += 1\n",
    "            if (x, y) in set_que:\n",
    "                res.append((x, y))\n",
    "                break\n",
    "        x, y = king\n",
    "        # 上方向\n",
    "        while x - 1 >= 0:\n",
    "            x -= 1\n",
    "            if (x, y) in set_que:\n",
    "                res.append((x, y))\n",
    "                break\n",
    "                \n",
    "        x, y = king\n",
    "        # 左方向\n",
    "        while y - 1 >= 0:\n",
    "            y -= 1\n",
    "            if (x, y) in set_que:\n",
    "                res.append((x, y))\n",
    "                break\n",
    "        x, y = king\n",
    "        # 右方向\n",
    "        while y + 1 < 8:\n",
    "            y += 1\n",
    "            if (x, y) in set_que:\n",
    "                res.append((x, y))\n",
    "                break\n",
    "        x, y = king\n",
    "        # 斜下方向\n",
    "        while x+1 < 8 and y+1 < 8:\n",
    "            x, y = x+1, y+1\n",
    "            if (x, y) in set_que:\n",
    "                res.append((x, y))\n",
    "                break\n",
    "        \n",
    "        x, y = king\n",
    "        # 斜上方向\n",
    "        while x-1 >= 0 and y-1 >= 0:\n",
    "            x, y = x-1, y-1\n",
    "            if (x, y) in set_que:\n",
    "                res.append((x, y))\n",
    "                break\n",
    "                \n",
    "        x, y = king\n",
    "        # 斜左方向\n",
    "        while x+1 < 8 and y-1 >= 0:\n",
    "            x, y = x+1, y-1\n",
    "            if (x, y) in set_que:\n",
    "                res.append((x, y))\n",
    "                break\n",
    "        x, y = king\n",
    "        # 斜右方向\n",
    "        while y+1 < 8 and x-1 >= 0:\n",
    "            x, y = x-1, y+1\n",
    "            if (x, y) in set_que:\n",
    "                res.append((x, y))\n",
    "                break\n",
    "        print(res)"
   ]
  },
  {
   "cell_type": "code",
   "execution_count": 46,
   "metadata": {},
   "outputs": [
    {
     "name": "stdout",
     "output_type": "stream",
     "text": [
      "[(5, 4), (1, 4), (3, 7), (4, 5), (2, 3), (4, 3), (1, 6)]\n"
     ]
    }
   ],
   "source": [
    "solution = Solution()\n",
    "solution.queensAttacktheKing(queens = [[5,6],[7,7],[2,1],[0,7],[1,6],[5,1],[3,7],[0,3],[4,0],[1,2],[6,3],[5,0],[0,4],\n",
    "                                       [2,2],[1,1],[6,4],[5,4],[0,0],[2,6],[4,5],[5,2],[1,4],[7,5],[2,3],[0,5],[4,2],\n",
    "                                       [1,0],[2,7],[0,1],[4,6],[6,1],[0,6],[4,3],[1,7]], \n",
    "                             king = [3,4])"
   ]
  },
  {
   "cell_type": "code",
   "execution_count": 43,
   "metadata": {},
   "outputs": [],
   "source": [
    "class Solution:\n",
    "    def queensAttacktheKing(self, queens, king):\n",
    "        set_que = set(tuple(x) for x in queens)\n",
    "        # 就是找 king坐标的８个方向上，首次遇到的黑皇后是谁\n",
    "        N = 8\n",
    "        res = []\n",
    "        direc = [king[::], king[::], king[::], king[::], king[::], king[::], king[::], king[::]]\n",
    "        seen = [] # 如果某个方向上已经存在了Q，或者越界，那么以后就不用看了\n",
    "        direc[0][0] = 10\n",
    "        "
   ]
  },
  {
   "cell_type": "code",
   "execution_count": null,
   "metadata": {},
   "outputs": [],
   "source": []
  },
  {
   "cell_type": "code",
   "execution_count": null,
   "metadata": {},
   "outputs": [],
   "source": []
  },
  {
   "cell_type": "code",
   "execution_count": 51,
   "metadata": {},
   "outputs": [],
   "source": [
    "class Solution:\n",
    "    def queensAttacktheKing(self, queens, king):\n",
    "        nums=[[0 for _ in range(8)] for _ in range(8)]\n",
    "        max_row=king[0]\n",
    "        max_col=king[1]\n",
    "        for ele in queens:\n",
    "            nums[ele[0]][ele[1]]=1\n",
    "            max_row=max(ele[0],max_row)\n",
    "            max_col=max(ele[1],max_col)\n",
    "        print(nums,max_row,max_col)\n",
    "        ans=[]\n",
    "        \n",
    "        direction=[[-1,-1],[0,1],[1,0],[-1,0],[0,-1],[1,-1],[1,1],[-1,1]]\n",
    "\n",
    "        for de in direction:\n",
    "            temp=king.copy()\n",
    "            while(0<=temp[0]<=max_row and 0<=temp[1]<=max_col):\n",
    "                if nums[temp[0]][temp[1]]==1:\n",
    "                    ans.append([temp[0],temp[1]])\n",
    "                    break\n",
    "                else:\n",
    "                    temp[0]+=de[0]\n",
    "                    temp[1]+=de[1]\n",
    "        # return ans                "
   ]
  },
  {
   "cell_type": "code",
   "execution_count": 52,
   "metadata": {},
   "outputs": [
    {
     "name": "stdout",
     "output_type": "stream",
     "text": [
      "[[1, 1, 0, 1, 1, 1, 1, 1], [1, 1, 1, 0, 1, 0, 1, 1], [0, 1, 1, 1, 0, 0, 1, 1], [0, 0, 0, 0, 0, 0, 0, 1], [1, 0, 1, 1, 0, 1, 1, 0], [1, 1, 1, 0, 1, 0, 1, 0], [0, 1, 0, 1, 1, 0, 0, 0], [0, 0, 0, 0, 0, 1, 0, 1]] 7 7\n"
     ]
    }
   ],
   "source": [
    "solution = Solution()\n",
    "solution.queensAttacktheKing(queens = [[5,6],[7,7],[2,1],[0,7],[1,6],[5,1],[3,7],[0,3],[4,0],[1,2],[6,3],[5,0],[0,4],\n",
    "                                       [2,2],[1,1],[6,4],[5,4],[0,0],[2,6],[4,5],[5,2],[1,4],[7,5],[2,3],[0,5],[4,2],\n",
    "                                       [1,0],[2,7],[0,1],[4,6],[6,1],[0,6],[4,3],[1,7]], \n",
    "                             king = [3,4])"
   ]
  },
  {
   "cell_type": "code",
   "execution_count": null,
   "metadata": {},
   "outputs": [],
   "source": []
  }
 ],
 "metadata": {
  "kernelspec": {
   "display_name": "Python 3",
   "language": "python",
   "name": "python3"
  },
  "language_info": {
   "codemirror_mode": {
    "name": "ipython",
    "version": 3
   },
   "file_extension": ".py",
   "mimetype": "text/x-python",
   "name": "python",
   "nbconvert_exporter": "python",
   "pygments_lexer": "ipython3",
   "version": "3.6.2"
  }
 },
 "nbformat": 4,
 "nbformat_minor": 4
}
