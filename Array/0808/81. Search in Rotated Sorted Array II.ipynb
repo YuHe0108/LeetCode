{
 "cells": [
  {
   "cell_type": "raw",
   "metadata": {},
   "source": [
    "    假设一个按升序排序的数组在您事先不知道的某个轴上旋转。\n",
    "    （即，[0,0,1,2,2,5,6]可能变成[2,5,6,0,0,1,2]）。\n",
    "    您将获得要搜索的目标值。如果在数组中找到，则返回true，否则返回false。\n",
    "    \n",
    "    例1：\n",
    "        Input: nums = [2,5,6,0,0,1,2], target = 0\n",
    "        Output: true\n",
    "    例2：\n",
    "        Input: nums = [2,5,6,0,0,1,2], target = 3\n",
    "        Output: false\n",
    "    \n",
    "    这是在旋转排序数组中搜索的后续问题，其中num可能包含重复项。这会影响运行时的复杂性吗？如何以及为什么？"
   ]
  },
  {
   "cell_type": "code",
   "execution_count": 1,
   "metadata": {},
   "outputs": [],
   "source": [
    "class Solution:\n",
    "    def search(self, nums, target: int) -> bool:\n",
    "        l_index = 0\n",
    "        r_index = len(nums) - 1\n",
    "        while l_index <= r_index:\n",
    "            m_index = (l_index + r_index) // 2\n",
    "            \n",
    "            if nums[m_index] == target:\n",
    "                return True\n",
    "            \n",
    "            if nums[m_index] == nums[r_index]:\n",
    "                r_index -= 1\n",
    "            elif nums[m_index] > nums[r_index]: # 左侧有序\n",
    "                if nums[l_index] <= target < nums[m_index]:\n",
    "                    r_index = m_index - 1\n",
    "                else:\n",
    "                    l_index = l_index + 1\n",
    "            else: # 右侧有序\n",
    "                if nums[m_index] < target  <= nums[r_index]:\n",
    "                    l_index = m_index + 1\n",
    "                else:\n",
    "                    r_index = m_index - 1\n",
    "        return False"
   ]
  },
  {
   "cell_type": "code",
   "execution_count": null,
   "metadata": {},
   "outputs": [],
   "source": []
  }
 ],
 "metadata": {
  "kernelspec": {
   "display_name": "TF2",
   "language": "python",
   "name": "tf2"
  },
  "language_info": {
   "codemirror_mode": {
    "name": "ipython",
    "version": 3
   },
   "file_extension": ".py",
   "mimetype": "text/x-python",
   "name": "python",
   "nbconvert_exporter": "python",
   "pygments_lexer": "ipython3",
   "version": "3.6.2"
  }
 },
 "nbformat": 4,
 "nbformat_minor": 4
}
