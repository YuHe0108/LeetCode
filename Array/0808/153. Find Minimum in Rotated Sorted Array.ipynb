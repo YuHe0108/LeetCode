{
 "cells": [
  {
   "cell_type": "raw",
   "metadata": {},
   "source": [
    "    假设以升序排序的数组以您不知道的某个枢轴旋转。 （\n",
    "    即[0,1,2,4,5,6,7]可能会变成[4,5,6,7,0,1,2]）。找到最小的元素。您可以假设数组中不存在重复项。\n",
    "    \n",
    "    Example 1:\n",
    "        Input: [3,4,5,1,2] \n",
    "        Output: 1\n",
    "    \n",
    "    Example 2:\n",
    "        Input: [4,5,6,7,0,1,2]\n",
    "        Output: 0"
   ]
  },
  {
   "cell_type": "code",
   "execution_count": 77,
   "metadata": {},
   "outputs": [],
   "source": [
    "class Solution:\n",
    "    def findMin(self, nums) -> int:\n",
    "        # 在没有重复值的数组中，利用二分搜索查找最小值，\n",
    "        l_index = 0\n",
    "        r_index = len(nums) - 1\n",
    "        while l_index <= r_index:\n",
    "            m_index = (l_index + r_index) // 2\n",
    "            # 最小值，一定是同时小于左边和右边\n",
    "            if nums[m_index] < nums[l_index] and nums[m_index] < nums[r_index]:\n",
    "                # [3,4,0,1,2], 此时 0 < 4, 0 < 1，所以是最小值\n",
    "                return nums[m_index]\n",
    "            elif nums[l_index] < nums[m_index] < nums[r_index]:\n",
    "                return nums[l_index]\n",
    "            elif nums[l_index] < nums[m_index] and nums[r_index] < nums[m_index]:\n",
    "                print(l_index, m_index, r_index)\n",
    "                return nums[r_index]\n",
    "\n",
    "            # 最小值在左边还是右边\n",
    "            if nums[m_index] > nums[l_index] and nums[m_index] > nums[r_index]:\n",
    "                l_index = m_index + 1\n",
    "            else: # 最小值在左边\n",
    "                r_index = m_index - 1"
   ]
  },
  {
   "cell_type": "code",
   "execution_count": 109,
   "metadata": {},
   "outputs": [],
   "source": [
    "class Solution:\n",
    "    def findMin(self, nums) -> int:\n",
    "        # 在没有重复值的数组中，利用二分搜索查找最小值，\n",
    "        l_index = 0\n",
    "        r_index = len(nums) - 1\n",
    "        while l_index < r_index:\n",
    "            m_index = l_index + (r_index - l_index) // 2\n",
    "            if nums[m_index] > nums[r_index]:\n",
    "                l_index = m_index + 1\n",
    "            else:\n",
    "                r_index = m_index\n",
    "        return nums[l_index]"
   ]
  },
  {
   "cell_type": "code",
   "execution_count": 110,
   "metadata": {},
   "outputs": [
    {
     "data": {
      "text/plain": [
       "0"
      ]
     },
     "execution_count": 110,
     "metadata": {},
     "output_type": "execute_result"
    }
   ],
   "source": [
    "nums_ = [2,1,0]\n",
    "solution = Solution()\n",
    "solution.findMin(nums_)"
   ]
  },
  {
   "cell_type": "code",
   "execution_count": null,
   "metadata": {},
   "outputs": [],
   "source": []
  },
  {
   "cell_type": "code",
   "execution_count": null,
   "metadata": {},
   "outputs": [],
   "source": []
  }
 ],
 "metadata": {
  "kernelspec": {
   "display_name": "TF2",
   "language": "python",
   "name": "tf2"
  },
  "language_info": {
   "codemirror_mode": {
    "name": "ipython",
    "version": 3
   },
   "file_extension": ".py",
   "mimetype": "text/x-python",
   "name": "python",
   "nbconvert_exporter": "python",
   "pygments_lexer": "ipython3",
   "version": "3.6.2"
  }
 },
 "nbformat": 4,
 "nbformat_minor": 4
}
