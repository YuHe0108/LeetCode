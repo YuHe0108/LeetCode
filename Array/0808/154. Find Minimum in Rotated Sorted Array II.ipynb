{
 "cells": [
  {
   "cell_type": "raw",
   "metadata": {},
   "source": [
    "假设以升序排序的数组以您不知道的某个枢轴旋转。 \n",
    "（即[0,1,2,4,5,6,7]可能会变成[4,5,6,7,0,1,2]）。\n",
    "找到最小的元素。该数组可能包含重复项。\n",
    "\n",
    "例1：\n",
    "    Input: [1,3,5]\n",
    "    Output: 1\n",
    "例2:\n",
    "    Input: [2,2,2,0,1]\n",
    "    Output: 0"
   ]
  },
  {
   "cell_type": "code",
   "execution_count": 6,
   "metadata": {},
   "outputs": [],
   "source": [
    "# 数组中可能会出现重复的元素\n",
    "class Solution:\n",
    "    def findMin(self, nums) -> int:\n",
    "        # [2,2,2,2,2,0,1,2] 如果遇到相同的情况，直接将 r_index -= 1\n",
    "        l_idx = 0\n",
    "        r_idx = len(nums) - 1\n",
    "        while l_idx < r_idx:\n",
    "            m_idx = l_idx + (r_idx - l_idx) // 2 \n",
    "            if nums[r_idx] > nums[m_idx]: # 在区间\n",
    "                r_idx = m_idx\n",
    "            elif nums[m_idx] == nums[r_idx]:\n",
    "                r_idx -= 1\n",
    "            else:\n",
    "                l_idx = m_idx + 1\n",
    "        return nums[l_idx]"
   ]
  },
  {
   "cell_type": "code",
   "execution_count": 7,
   "metadata": {},
   "outputs": [
    {
     "data": {
      "text/plain": [
       "0"
      ]
     },
     "execution_count": 7,
     "metadata": {},
     "output_type": "execute_result"
    }
   ],
   "source": [
    "nums_ = [2,2,2,0,1]\n",
    "solution = Solution()\n",
    "solution.findMin(nums_)"
   ]
  },
  {
   "cell_type": "code",
   "execution_count": null,
   "metadata": {},
   "outputs": [],
   "source": []
  }
 ],
 "metadata": {
  "kernelspec": {
   "display_name": "TF2",
   "language": "python",
   "name": "tf2"
  },
  "language_info": {
   "codemirror_mode": {
    "name": "ipython",
    "version": 3
   },
   "file_extension": ".py",
   "mimetype": "text/x-python",
   "name": "python",
   "nbconvert_exporter": "python",
   "pygments_lexer": "ipython3",
   "version": "3.6.2"
  }
 },
 "nbformat": 4,
 "nbformat_minor": 4
}
