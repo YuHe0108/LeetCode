{
 "cells": [
  {
   "cell_type": "markdown",
   "metadata": {},
   "source": [
    "![avatar](118.jpg)"
   ]
  },
  {
   "cell_type": "raw",
   "metadata": {},
   "source": [
    "给定一个非负整数numRows，则生成Pascal三角形的第一个numRows。\n",
    "\n",
    "例1：\n",
    "    Input: 5\n",
    "    Output:\n",
    "        [\n",
    "             [1],\n",
    "            [1,1],\n",
    "           [1,2,1],\n",
    "          [1,3,3,1],\n",
    "         [1,4,6,4,1]\n",
    "        ]"
   ]
  },
  {
   "cell_type": "code",
   "execution_count": 11,
   "metadata": {},
   "outputs": [],
   "source": [
    "class Solution:\n",
    "    def generate(self, numRows: int):\n",
    "        res = []\n",
    "        for row in range(numRows):\n",
    "            res.append([])\n",
    "            for i in range(row+1):\n",
    "                if i == 0 or i == row:\n",
    "                    val = 1\n",
    "                else:\n",
    "                    val = res[-2][i-1] + res[-2][i]\n",
    "                res[-1].append(val)\n",
    "        return res"
   ]
  },
  {
   "cell_type": "code",
   "execution_count": 14,
   "metadata": {},
   "outputs": [
    {
     "data": {
      "text/plain": [
       "[[1],\n",
       " [1, 1],\n",
       " [1, 2, 1],\n",
       " [1, 3, 3, 1],\n",
       " [1, 4, 6, 4, 1],\n",
       " [1, 5, 10, 10, 5, 1],\n",
       " [1, 6, 15, 20, 15, 6, 1]]"
      ]
     },
     "execution_count": 14,
     "metadata": {},
     "output_type": "execute_result"
    }
   ],
   "source": [
    "numRows_ = 7\n",
    "solution = Solution()\n",
    "solution.generate(numRows_)"
   ]
  },
  {
   "cell_type": "raw",
   "metadata": {},
   "source": [
    "     0\n",
    "    0 1\n",
    "   0 1 2\n",
    "  0 1 2 3\n",
    " 0 1 2 3 4"
   ]
  },
  {
   "cell_type": "raw",
   "metadata": {},
   "source": [
    "[[1], [1, 1], [1, 2, 1], [1, 3, 3, 1], [1, 4, 6, 4, 1]]"
   ]
  },
  {
   "cell_type": "code",
   "execution_count": null,
   "metadata": {},
   "outputs": [],
   "source": []
  }
 ],
 "metadata": {
  "kernelspec": {
   "display_name": "TF2",
   "language": "python",
   "name": "tf2"
  },
  "language_info": {
   "codemirror_mode": {
    "name": "ipython",
    "version": 3
   },
   "file_extension": ".py",
   "mimetype": "text/x-python",
   "name": "python",
   "nbconvert_exporter": "python",
   "pygments_lexer": "ipython3",
   "version": "3.6.2"
  }
 },
 "nbformat": 4,
 "nbformat_minor": 4
}
