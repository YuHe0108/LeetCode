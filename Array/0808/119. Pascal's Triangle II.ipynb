{
 "cells": [
  {
   "cell_type": "raw",
   "metadata": {},
   "source": [
    "    给定非负索引k（其中k≤33），返回帕斯卡三角形的第k个索引行。请注意，行索引从0开始。\n",
    "    \n",
    "    例1：\n",
    "        Input: 3\n",
    "        Output: [1,3,3,1]"
   ]
  },
  {
   "cell_type": "code",
   "execution_count": 22,
   "metadata": {},
   "outputs": [],
   "source": [
    "class Solution:\n",
    "    def getRow(self, rowIndex: int):\n",
    "        if rowIndex == 0: return [1]\n",
    "        res = [1]\n",
    "        for row in range(rowIndex+1):\n",
    "            item = []\n",
    "            for i in range(row+1):\n",
    "                if i == 0 or i == row:\n",
    "                    val = 1\n",
    "                else:\n",
    "                    val = res[i-1] + res[i]\n",
    "                item.append(val)\n",
    "            res = item\n",
    "        return res"
   ]
  },
  {
   "cell_type": "code",
   "execution_count": 23,
   "metadata": {},
   "outputs": [
    {
     "data": {
      "text/plain": [
       "[1]"
      ]
     },
     "execution_count": 23,
     "metadata": {},
     "output_type": "execute_result"
    }
   ],
   "source": [
    "rowIndex_ = 0\n",
    "solution = Solution()\n",
    "solution.getRow(rowIndex_)"
   ]
  },
  {
   "cell_type": "code",
   "execution_count": null,
   "metadata": {},
   "outputs": [],
   "source": []
  }
 ],
 "metadata": {
  "kernelspec": {
   "display_name": "TF2",
   "language": "python",
   "name": "tf2"
  },
  "language_info": {
   "codemirror_mode": {
    "name": "ipython",
    "version": 3
   },
   "file_extension": ".py",
   "mimetype": "text/x-python",
   "name": "python",
   "nbconvert_exporter": "python",
   "pygments_lexer": "ipython3",
   "version": "3.6.2"
  }
 },
 "nbformat": 4,
 "nbformat_minor": 4
}
