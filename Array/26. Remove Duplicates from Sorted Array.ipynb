{
 "cells": [
  {
   "cell_type": "raw",
   "metadata": {},
   "source": [
    "给定一个已排序的数组num，就地删除重复项，以使每个元素仅出现一次并返回新的长度。\n",
    "不要为另一个数组分配额外的空间，必须通过使用O（1）额外的内存就地修改输入数组来做到这一点。\n",
    "\n",
    "例1：\n",
    "    Given nums = [1,1,2],\n",
    "    Your function should return length = 2, with the first two elements of nums being 1 and 2 respectively.\n",
    "    It doesn't matter what you leave beyond the returned length.\n",
    "例2：\n",
    "    Given nums = [0,0,1,1,1,2,2,3,3,4],\n",
    "    Your function should return length = 5, with the first five elements of nums being modified to 0, 1, 2, 3, and 4 respectively.\n",
    "    It doesn't matter what values are set beyond the returned length."
   ]
  },
  {
   "cell_type": "code",
   "execution_count": 12,
   "metadata": {},
   "outputs": [],
   "source": [
    "class Solution:\n",
    "    def removeDuplicates(self, nums) -> int:\n",
    "        x = 1\n",
    "        for i in range(len(nums)-1):\n",
    "            if(nums[i]!=nums[i+1]):\n",
    "                nums[x] = nums[i+1]\n",
    "                x+=1\n",
    "        print(nums)\n",
    "        return x"
   ]
  },
  {
   "cell_type": "code",
   "execution_count": 15,
   "metadata": {},
   "outputs": [
    {
     "name": "stdout",
     "output_type": "stream",
     "text": [
      "[1, 2, 3, 4, 4, 4]\n"
     ]
    },
    {
     "data": {
      "text/plain": [
       "4"
      ]
     },
     "execution_count": 15,
     "metadata": {},
     "output_type": "execute_result"
    }
   ],
   "source": [
    "nums_ = [1,2,2,3,4,4]\n",
    "solution = Solution()\n",
    "solution.removeDuplicates(nums_)"
   ]
  },
  {
   "cell_type": "code",
   "execution_count": null,
   "metadata": {},
   "outputs": [],
   "source": []
  }
 ],
 "metadata": {
  "kernelspec": {
   "display_name": "TF2",
   "language": "python",
   "name": "tf2"
  },
  "language_info": {
   "codemirror_mode": {
    "name": "ipython",
    "version": 3
   },
   "file_extension": ".py",
   "mimetype": "text/x-python",
   "name": "python",
   "nbconvert_exporter": "python",
   "pygments_lexer": "ipython3",
   "version": "3.6.2"
  }
 },
 "nbformat": 4,
 "nbformat_minor": 4
}
