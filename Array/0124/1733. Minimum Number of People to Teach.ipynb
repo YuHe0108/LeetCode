{
 "cells": [
  {
   "cell_type": "code",
   "execution_count": null,
   "metadata": {},
   "outputs": [],
   "source": []
  },
  {
   "cell_type": "code",
   "execution_count": null,
   "metadata": {},
   "outputs": [],
   "source": []
  },
  {
   "cell_type": "code",
   "execution_count": null,
   "metadata": {},
   "outputs": [],
   "source": []
  },
  {
   "cell_type": "code",
   "execution_count": null,
   "metadata": {},
   "outputs": [],
   "source": []
  },
  {
   "cell_type": "code",
   "execution_count": 29,
   "metadata": {},
   "outputs": [],
   "source": [
    "from typing import List\n",
    "from collections import defaultdict\n",
    "\n",
    "class Solution:\n",
    "    def minimumTeachings(self, n: int, languages: List[List[int]], friendships: List[List[int]]) -> int:\n",
    "        m = len(languages)\n",
    "        d_lang = defaultdict(set)\n",
    "        for i in range(m):\n",
    "            d_lang[i+1] = set(languages[i])\n",
    "        \n",
    "        # 每个用户如果要完全交流，需要学会哪些语言\n",
    "        need = defaultdict(dict) # 还没有达成沟通的好友\n",
    "        for x, y in friendships:\n",
    "            same = d_lang[x].intersection(d_lang[y])\n",
    "            if not same: # 如果不存在共同语言, 需要学习和对方交流的语言\n",
    "                need[x][y] = d_lang[y]\n",
    "                need[y][x] = d_lang[x]\n",
    "                \n",
    "        print(need)\n",
    "        return"
   ]
  },
  {
   "cell_type": "code",
   "execution_count": 30,
   "metadata": {},
   "outputs": [
    {
     "name": "stdout",
     "output_type": "stream",
     "text": [
      "defaultdict(<class 'dict'>, {1: {4: {3}, 2: {1, 3}}, 4: {1: {2}, 3: {1, 2}}, 2: {1: {2}}, 3: {4: {3}}})\n"
     ]
    }
   ],
   "source": [
    "solution = Solution()\n",
    "solution.minimumTeachings(n = 3, languages = [[2],[1,3],[1,2],[3]], friendships = [[1,4],[1,2],[3,4],[2,3]])"
   ]
  },
  {
   "cell_type": "code",
   "execution_count": null,
   "metadata": {},
   "outputs": [],
   "source": []
  },
  {
   "cell_type": "code",
   "execution_count": null,
   "metadata": {},
   "outputs": [],
   "source": []
  },
  {
   "cell_type": "code",
   "execution_count": 27,
   "metadata": {},
   "outputs": [],
   "source": [
    "from typing import List\n",
    "from collections import defaultdict\n",
    "\n",
    "class Solution:\n",
    "    def minimumTeachings(self, n: int, languages: List[List[int]], friendships: List[List[int]]) -> int:\n",
    "        m = len(languages)\n",
    "        d_lang = defaultdict(set)\n",
    "        for i in range(m):\n",
    "            d_lang[i+1] = set(languages[i])\n",
    "        \n",
    "        # 每个用户如果要完全交流，需要学会哪些语言\n",
    "        need = defaultdict(dict) # 还没有达成沟通的好友\n",
    "        for x, y in friendships:\n",
    "            same = d_lang[x].intersection(d_lang[y])\n",
    "            if not same: # 如果不存在共同语言, 需要学习和对方交流的语言\n",
    "                for l in d_lang[y]:\n",
    "                    if l not in need[x]:\n",
    "                        need[x][l] = {y}\n",
    "                    else:\n",
    "                        need[x][l].add(y)\n",
    "                for l in d_lang[x]:\n",
    "                    if l not in need[y]:\n",
    "                        need[y][l] = {x}\n",
    "                    else:\n",
    "                        need[y][l].add(x)\n",
    "        print(need)\n",
    "        return"
   ]
  },
  {
   "cell_type": "code",
   "execution_count": 28,
   "metadata": {},
   "outputs": [
    {
     "name": "stdout",
     "output_type": "stream",
     "text": [
      "defaultdict(<class 'dict'>, {1: {3: {2, 4}, 1: {2}}, 4: {2: {1, 3}, 1: {3}}, 2: {2: {1}}, 3: {3: {4}}})\n"
     ]
    }
   ],
   "source": [
    "solution = Solution()\n",
    "solution.minimumTeachings(n = 3, languages = [[2],[1,3],[1,2],[3]], friendships = [[1,4],[1,2],[3,4],[2,3]])"
   ]
  },
  {
   "cell_type": "code",
   "execution_count": 8,
   "metadata": {},
   "outputs": [
    {
     "name": "stdout",
     "output_type": "stream",
     "text": [
      "{1}\n"
     ]
    }
   ],
   "source": [
    "a = {1, 2}\n",
    "b = {1, 3}\n",
    "print(a.intersection(b)) #交集"
   ]
  },
  {
   "cell_type": "code",
   "execution_count": null,
   "metadata": {},
   "outputs": [],
   "source": [
    "class Solution:\n",
    "    def minimumTeachings(self, n: int, languages: List[List[int]], friendships: List[List[int]]) -> int:\n",
    "        F = set()\n",
    "        for a, b in friendships:\n",
    "            if not set(languages[a-1]) & set(languages[b-1]):\n",
    "                F.add(a)\n",
    "                F.add(b)\n",
    "\n",
    "        d = collections.defaultdict(int)\n",
    "        for a in F:\n",
    "            for l in languages[a-1]:\n",
    "                d[l] += 1\n",
    "\n",
    "        return len(F) - max(list(d.values()) + [0])"
   ]
  },
  {
   "cell_type": "code",
   "execution_count": null,
   "metadata": {},
   "outputs": [],
   "source": []
  },
  {
   "cell_type": "code",
   "execution_count": null,
   "metadata": {},
   "outputs": [],
   "source": []
  },
  {
   "cell_type": "code",
   "execution_count": 13,
   "metadata": {},
   "outputs": [],
   "source": [
    "from typing import List\n",
    "from collections import defaultdict\n",
    "\n",
    "class Solution:\n",
    "    def minimumTeachings(self, n: int, languages: List[List[int]], friendships: List[List[int]]) -> int:\n",
    "        need = set()\n",
    "        for a, b in friendships:\n",
    "            if not set(languages[a-1]) & set(languages[b-1]): # 没有共同语言，不能沟通，加入need\n",
    "                need.add(a)\n",
    "                need.add(b)\n",
    "        if not need:\n",
    "            return 0\n",
    "        \n",
    "        count = defaultdict(int)\n",
    "        for a in need:\n",
    "            for l in languages[a-1]:\n",
    "                count[l] += 1\n",
    "        #需要再学习该语言的人数 即他们的总人数-会该语言的人数\n",
    "        # max(list(count.values()) 最多有多少人会当前这门语言\n",
    "        return len(need) - max(count.values())"
   ]
  },
  {
   "cell_type": "code",
   "execution_count": 14,
   "metadata": {},
   "outputs": [
    {
     "data": {
      "text/plain": [
       "2"
      ]
     },
     "execution_count": 14,
     "metadata": {},
     "output_type": "execute_result"
    }
   ],
   "source": [
    "solution = Solution()\n",
    "solution.minimumTeachings(n = 3, languages = [[2],[1,3],[1,2],[3]], friendships = [[1,4],[1,2],[3,4],[2,3]])"
   ]
  },
  {
   "cell_type": "code",
   "execution_count": null,
   "metadata": {},
   "outputs": [],
   "source": []
  }
 ],
 "metadata": {
  "kernelspec": {
   "display_name": "Python 3",
   "language": "python",
   "name": "python3"
  },
  "language_info": {
   "codemirror_mode": {
    "name": "ipython",
    "version": 3
   },
   "file_extension": ".py",
   "mimetype": "text/x-python",
   "name": "python",
   "nbconvert_exporter": "python",
   "pygments_lexer": "ipython3",
   "version": "3.6.2"
  }
 },
 "nbformat": 4,
 "nbformat_minor": 4
}
