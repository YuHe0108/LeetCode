{
 "cells": [
  {
   "cell_type": "code",
   "execution_count": null,
   "metadata": {},
   "outputs": [],
   "source": []
  },
  {
   "cell_type": "code",
   "execution_count": null,
   "metadata": {},
   "outputs": [],
   "source": []
  },
  {
   "cell_type": "code",
   "execution_count": 7,
   "metadata": {},
   "outputs": [],
   "source": [
    "from typing import List\n",
    "\n",
    "class Solution:\n",
    "    def maxWidthRamp(self, A: List[int]) -> int:\n",
    "        res = 0\n",
    "        stack = []\n",
    "        for i, v in enumerate(A):\n",
    "            if stack and v >= A[stack[-1]]:\n",
    "                temp_stack = stack[::]\n",
    "                while temp_stack and v >= A[temp_stack[-1]]:\n",
    "                    top = temp_stack.pop()\n",
    "                    res = max(res, i-top)\n",
    "                continue\n",
    "            stack.append(i)\n",
    "        return res"
   ]
  },
  {
   "cell_type": "code",
   "execution_count": null,
   "metadata": {},
   "outputs": [],
   "source": []
  },
  {
   "cell_type": "code",
   "execution_count": 56,
   "metadata": {},
   "outputs": [],
   "source": [
    "from typing import List\n",
    "from collections import deque\n",
    "import bisect\n",
    "\n",
    "class Solution:\n",
    "    def maxWidthRamp(self, A: List[int]) -> int:\n",
    "        res = 0\n",
    "        stack = deque([])\n",
    "        vals = deque([])\n",
    "        for i, v in enumerate(A):\n",
    "            if stack and v >= A[stack[0]]:\n",
    "                idx = bisect.bisect_left(vals, v)\n",
    "                if idx == len(vals):\n",
    "                    idx -= 1\n",
    "                if vals[idx] > v:\n",
    "                    idx -= 1\n",
    "                left = stack[idx]\n",
    "                res = max(res, i - left)\n",
    "                continue\n",
    "            stack.appendleft(i)\n",
    "            vals.appendleft(v)\n",
    "        return res"
   ]
  },
  {
   "cell_type": "code",
   "execution_count": 57,
   "metadata": {},
   "outputs": [
    {
     "data": {
      "text/plain": [
       "4"
      ]
     },
     "execution_count": 57,
     "metadata": {},
     "output_type": "execute_result"
    }
   ],
   "source": [
    "solution = Solution()\n",
    "solution.maxWidthRamp([6,0,8,2,1,5])"
   ]
  },
  {
   "cell_type": "code",
   "execution_count": 43,
   "metadata": {},
   "outputs": [
    {
     "data": {
      "text/plain": [
       "1"
      ]
     },
     "execution_count": 43,
     "metadata": {},
     "output_type": "execute_result"
    }
   ],
   "source": [
    "import bisect\n",
    "\n",
    "a = [0, 6]\n",
    "bisect.bisect_left(a, 5)"
   ]
  },
  {
   "cell_type": "code",
   "execution_count": null,
   "metadata": {},
   "outputs": [],
   "source": [
    "class Solution:\n",
    "    def maxWidthRamp(self, A: List[int]) -> int:\n",
    "        stack = []\n",
    "        n = len(A)\n",
    "        for i in range(n):\n",
    "            if not stack or A[stack[-1]] > A[i]:###找到所有的坡底\n",
    "                stack.append(i)\n",
    "        \n",
    "        i0 = stack[0]\n",
    "        res = 0\n",
    "        i = n-1\n",
    "        while i -i0 > res:\n",
    "            while stack and A[stack[-1]] <= A[i]:\n",
    "                res = max(res,i-stack[-1])\n",
    "                stack.pop()\n",
    "            i-=1\n",
    "\n",
    "        return res\n"
   ]
  }
 ],
 "metadata": {
  "kernelspec": {
   "display_name": "Python 3",
   "language": "python",
   "name": "python3"
  },
  "language_info": {
   "codemirror_mode": {
    "name": "ipython",
    "version": 3
   },
   "file_extension": ".py",
   "mimetype": "text/x-python",
   "name": "python",
   "nbconvert_exporter": "python",
   "pygments_lexer": "ipython3",
   "version": "3.6.2"
  }
 },
 "nbformat": 4,
 "nbformat_minor": 4
}
