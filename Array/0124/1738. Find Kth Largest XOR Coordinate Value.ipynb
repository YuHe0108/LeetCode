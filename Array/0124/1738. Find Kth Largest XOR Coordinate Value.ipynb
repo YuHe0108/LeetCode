{
 "cells": [
  {
   "cell_type": "code",
   "execution_count": null,
   "metadata": {},
   "outputs": [],
   "source": []
  },
  {
   "cell_type": "code",
   "execution_count": null,
   "metadata": {},
   "outputs": [],
   "source": []
  },
  {
   "cell_type": "code",
   "execution_count": 11,
   "metadata": {},
   "outputs": [],
   "source": [
    "from typing import List\n",
    "\n",
    "class Solution:\n",
    "    def kthLargestValue(self, matrix: List[List[int]], k: int) -> int:\n",
    "        rows, cols = len(matrix), len(matrix[0])\n",
    "        res = []\n",
    "        fir_row = [matrix[0][0]]\n",
    "        for i in range(1, cols):\n",
    "            fir_row.append(fir_row[-1] ^ matrix[0][i])\n",
    "        fir_col = [matrix[0][0]]\n",
    "        for i in range(1, rows):\n",
    "            fir_col.append(fir_col[-1] ^ matrix[i][0])\n",
    "        print(fir_col)\n",
    "        return"
   ]
  },
  {
   "cell_type": "code",
   "execution_count": null,
   "metadata": {},
   "outputs": [],
   "source": []
  },
  {
   "cell_type": "code",
   "execution_count": 24,
   "metadata": {},
   "outputs": [],
   "source": [
    "from typing import List\n",
    "\n",
    "class Solution:\n",
    "    def kthLargestValue(self, matrix: List[List[int]], k: int) -> int:\n",
    "        rows, cols = len(matrix), len(matrix[0])\n",
    "        res = [[0] * cols for _ in range(rows)]\n",
    "        vals = []\n",
    "        for i in range(rows):\n",
    "            for j in range(cols):\n",
    "                if i == 0 and j == 0:\n",
    "                    res[i][j] = matrix[i][j]\n",
    "                elif i == 0:\n",
    "                    res[i][j] = matrix[i][j] ^ res[i][j-1]\n",
    "                elif j == 0:\n",
    "                    res[i][j] = matrix[i][j] ^ res[i-1][j]\n",
    "                else:\n",
    "                    res[i][j] = matrix[i][j] ^ res[i-1][j] ^ res[i][j-1] ^ res[i-1][j-1]\n",
    "                vals.append(res[i][j])\n",
    "        vals.sort(reverse=True)\n",
    "        return vals[k-1]"
   ]
  },
  {
   "cell_type": "code",
   "execution_count": 27,
   "metadata": {},
   "outputs": [
    {
     "data": {
      "text/plain": [
       "1"
      ]
     },
     "execution_count": 27,
     "metadata": {},
     "output_type": "execute_result"
    }
   ],
   "source": [
    "solution = Solution()\n",
    "solution.kthLargestValue([[10,9,5],[2,0,4],[1,0,9],[3,4,8]], 10)"
   ]
  },
  {
   "cell_type": "code",
   "execution_count": null,
   "metadata": {},
   "outputs": [],
   "source": [
    "[5,2],    5=5   5^2=7\n",
    "[1,6]     5^1=4 5^1^2^6=0"
   ]
  },
  {
   "cell_type": "code",
   "execution_count": 5,
   "metadata": {},
   "outputs": [
    {
     "data": {
      "text/plain": [
       "0"
      ]
     },
     "execution_count": 5,
     "metadata": {},
     "output_type": "execute_result"
    }
   ],
   "source": [
    "5^1^2^6"
   ]
  },
  {
   "cell_type": "code",
   "execution_count": 6,
   "metadata": {},
   "outputs": [
    {
     "data": {
      "text/plain": [
       "0"
      ]
     },
     "execution_count": 6,
     "metadata": {},
     "output_type": "execute_result"
    }
   ],
   "source": [
    "[[5, 7], \n",
    " [4, 0]]"
   ]
  },
  {
   "cell_type": "raw",
   "metadata": {},
   "source": [
    "[[10,9,5],    10         10^9           10^9^5\n",
    " [2,0,4],     10^2       0^9^10^2\n",
    " [1,0,9],     10^2^1     0^9^10^2 ^ 10^2^1 (10,9,2,0,1, 0^9^10^2 + 10^2^1)\n",
    " [3,4,8]]     10^2^1^3\n"
   ]
  }
 ],
 "metadata": {
  "kernelspec": {
   "display_name": "Python 3",
   "language": "python",
   "name": "python3"
  },
  "language_info": {
   "codemirror_mode": {
    "name": "ipython",
    "version": 3
   },
   "file_extension": ".py",
   "mimetype": "text/x-python",
   "name": "python",
   "nbconvert_exporter": "python",
   "pygments_lexer": "ipython3",
   "version": "3.6.2"
  }
 },
 "nbformat": 4,
 "nbformat_minor": 4
}
