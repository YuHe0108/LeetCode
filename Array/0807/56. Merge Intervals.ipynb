{
 "cells": [
  {
   "cell_type": "raw",
   "metadata": {},
   "source": [
    "    给定间隔的集合，合并所有重叠的间隔。\n",
    "    例1：\n",
    "        Input: intervals = [[1,3],[2,6],[8,10],[15,18]]\n",
    "        Output: [[1,6],[8,10],[15,18]]\n",
    "        Explanation: Since intervals [1,3] and [2,6] overlaps, merge them into [1,6].\n",
    "     \n",
    "     例2：\n",
    "        Input: intervals = [[1,4],[4,5]]\n",
    "        Output: [[1,5]]\n",
    "        Explanation: Intervals [1,4] and [4,5] are considered overlapping."
   ]
  },
  {
   "cell_type": "code",
   "execution_count": 31,
   "metadata": {},
   "outputs": [],
   "source": [
    "class Solution:\n",
    "    def merge(self, inter):\n",
    "        if len(inter) == 0: return []\n",
    "        inter = sorted(inter, key= lambda x: x[0])\n",
    "        res = [inter[0]]\n",
    "        # 什么时候会有 overlap 的情况出现：\n",
    "        # [[l_val, r_val], [l_val_1, r_val_1]]\n",
    "        print(inter)\n",
    "        for i in range(1, len(inter)):\n",
    "            # 前一个值\n",
    "            last_l_val = res[-1][0]\n",
    "            last_r_val = res[-1][1]\n",
    "            # 当前值\n",
    "            l_val = inter[i][0]\n",
    "            r_val = inter[i][1]\n",
    "            \n",
    "            if l_val > last_r_val:\n",
    "                res.append([])\n",
    "                res[-1] = [l_val, r_val]\n",
    "            else:\n",
    "                res[-1][0] = min(last_l_val, l_val)\n",
    "                res[-1][1] = max(last_r_val, r_val)\n",
    "        return res"
   ]
  },
  {
   "cell_type": "code",
   "execution_count": 32,
   "metadata": {},
   "outputs": [
    {
     "data": {
      "text/plain": [
       "[]"
      ]
     },
     "execution_count": 32,
     "metadata": {},
     "output_type": "execute_result"
    }
   ],
   "source": [
    "inter_ = [[2,3],[4,5],[6,7],[8,9],[1,10]]\n",
    "solution = Solution()\n",
    "solution.merge(inter_)"
   ]
  },
  {
   "cell_type": "code",
   "execution_count": null,
   "metadata": {},
   "outputs": [],
   "source": []
  }
 ],
 "metadata": {
  "kernelspec": {
   "display_name": "TF2",
   "language": "python",
   "name": "tf2"
  },
  "language_info": {
   "codemirror_mode": {
    "name": "ipython",
    "version": 3
   },
   "file_extension": ".py",
   "mimetype": "text/x-python",
   "name": "python",
   "nbconvert_exporter": "python",
   "pygments_lexer": "ipython3",
   "version": "3.6.2"
  }
 },
 "nbformat": 4,
 "nbformat_minor": 4
}
