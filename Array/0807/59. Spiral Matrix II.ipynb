{
 "cells": [
  {
   "cell_type": "markdown",
   "metadata": {},
   "source": [
    "\n",
    "给定一个正整数n，生成一个正方形矩阵，该矩阵以螺旋顺序填充从1到 $n^2$ 的元素。\n",
    "    \n",
    "    例1：\n",
    "        Input: 3\n",
    "        Output:\n",
    "        [\n",
    "         [ 1, 2, 3 ],\n",
    "         [ 8, 9, 4 ],\n",
    "         [ 7, 6, 5 ]\n",
    "        ]"
   ]
  },
  {
   "cell_type": "code",
   "execution_count": 26,
   "metadata": {},
   "outputs": [],
   "source": [
    "class Solution:\n",
    "    def generateMatrix(self, n: int):\n",
    "        rows = cols = n\n",
    "        nums = [i for i in range(1, pow(n, 2)+1)]\n",
    "        res = []\n",
    "        while nums:\n",
    "            res.append([])\n",
    "            res[-1] = [:rows]\n",
    "            break\n",
    "        return res"
   ]
  },
  {
   "cell_type": "code",
   "execution_count": 27,
   "metadata": {},
   "outputs": [
    {
     "data": {
      "text/plain": [
       "[1, 2, 3, 6, 9]"
      ]
     },
     "execution_count": 27,
     "metadata": {},
     "output_type": "execute_result"
    }
   ],
   "source": [
    "n_ = 3\n",
    "solution = Solution()\n",
    "solution.generateMatrix(n_)"
   ]
  },
  {
   "cell_type": "code",
   "execution_count": null,
   "metadata": {},
   "outputs": [],
   "source": []
  }
 ],
 "metadata": {
  "kernelspec": {
   "display_name": "TF2",
   "language": "python",
   "name": "tf2"
  },
  "language_info": {
   "codemirror_mode": {
    "name": "ipython",
    "version": 3
   },
   "file_extension": ".py",
   "mimetype": "text/x-python",
   "name": "python",
   "nbconvert_exporter": "python",
   "pygments_lexer": "ipython3",
   "version": "3.6.2"
  }
 },
 "nbformat": 4,
 "nbformat_minor": 4
}
