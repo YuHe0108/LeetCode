{
 "cells": [
  {
   "cell_type": "raw",
   "metadata": {},
   "source": [
    "    给定一个已排序的数组num，请就地删除重复项，以使重复项最多出现两次并返回新的长度。\n",
    "    不要为另一个数组分配额外的空间，必须通过使用O（1）额外的内存就地修改输入数组来做到这一点。\n",
    "    \n",
    "    例1：\n",
    "        Given nums = [1,1,1,2,2,3],\n",
    "        Your function should return length = 5, \n",
    "        with the first five elements of nums being 1, 1, 2, 2 and 3 respectively.\n",
    "        It doesn't matter what you leave beyond the returned length.\n",
    "    例2：\n",
    "        Given nums = [0,0,1,1,1,1,2,3,3],\n",
    "        Your function should return length = 7, \n",
    "        with the first seven elements of nums being modified to 0, 0, 1, 1, 2, 3 and 3 respectively.\n",
    "        It doesn't matter what values are set beyond the returned length."
   ]
  },
  {
   "cell_type": "code",
   "execution_count": 15,
   "metadata": {},
   "outputs": [],
   "source": [
    "class Solution:\n",
    "    def removeDuplicates(self, nums) -> int:\n",
    "        l_index = 0\n",
    "        r_index = 0\n",
    "        index = 0\n",
    "        res = 0\n",
    "        while r_index <= len(nums) - 1:\n",
    "            while r_index <= len(nums) - 1 and nums[l_index] == nums[r_index]:\n",
    "                if r_index - l_index < 2:\n",
    "                    nums[index] = nums[r_index]\n",
    "                    index += 1\n",
    "                r_index += 1\n",
    "                    \n",
    "            if r_index - l_index >= 2:\n",
    "                res += 2\n",
    "            else:\n",
    "                res += r_index - l_index \n",
    "            l_index = r_index\n",
    "        return res"
   ]
  },
  {
   "cell_type": "code",
   "execution_count": 16,
   "metadata": {},
   "outputs": [
    {
     "data": {
      "text/plain": [
       "5"
      ]
     },
     "execution_count": 16,
     "metadata": {},
     "output_type": "execute_result"
    }
   ],
   "source": [
    "nums_ = [1,1,1,2,2,3]\n",
    "solution = Solution()\n",
    "solution.removeDuplicates(nums_)"
   ]
  },
  {
   "cell_type": "code",
   "execution_count": null,
   "metadata": {},
   "outputs": [],
   "source": []
  }
 ],
 "metadata": {
  "kernelspec": {
   "display_name": "TF2",
   "language": "python",
   "name": "tf2"
  },
  "language_info": {
   "codemirror_mode": {
    "name": "ipython",
    "version": 3
   },
   "file_extension": ".py",
   "mimetype": "text/x-python",
   "name": "python",
   "nbconvert_exporter": "python",
   "pygments_lexer": "ipython3",
   "version": "3.6.2"
  }
 },
 "nbformat": 4,
 "nbformat_minor": 4
}
