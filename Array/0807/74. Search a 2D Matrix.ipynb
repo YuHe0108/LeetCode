{
 "cells": [
  {
   "cell_type": "raw",
   "metadata": {},
   "source": [
    "    编写一种有效的算法，在m x n矩阵中搜索值。\n",
    "    此矩阵具有以下属性：\n",
    "        1、每行中的整数从左到右排序。\n",
    "        2、每行的第一个整数大于前一行的最后一个整数。\n",
    "    例1：\n",
    "        Input:\n",
    "        matrix = [\n",
    "          [1,   3,  5,  7],\n",
    "          [10, 11, 16, 20],\n",
    "          [23, 30, 34, 50]\n",
    "        ]\n",
    "        target = 3\n",
    "        Output: true\n",
    "    例2：\n",
    "        Input:\n",
    "        matrix = [\n",
    "          [1,   3,  5,  7],\n",
    "          [10, 11, 16, 20],\n",
    "          [23, 30, 34, 50]\n",
    "        ]\n",
    "        target = 13\n",
    "        Output: false"
   ]
  },
  {
   "cell_type": "code",
   "execution_count": 9,
   "metadata": {},
   "outputs": [],
   "source": [
    "class Solution:\n",
    "    def searchMatrix(self, mat, target: int) -> bool:\n",
    "        val_raw = []\n",
    "        for raw in mat:\n",
    "            if raw[0] <= target <= raw[-1]:\n",
    "                val_raw = raw\n",
    "                break\n",
    "        for val in val_raw:\n",
    "            if val == target:\n",
    "                return True\n",
    "        return False"
   ]
  },
  {
   "cell_type": "code",
   "execution_count": 81,
   "metadata": {},
   "outputs": [],
   "source": [
    "class Solution:\n",
    "    def searchMatrix(self, mat, target: int) -> bool:\n",
    "        # 利用二分搜索法\n",
    "        rows = len(mat)\n",
    "        cols = len(mat[0])\n",
    "        low_index = 0\n",
    "        lar_index = rows * cols - 1\n",
    "        \n",
    "        while low_index <= lar_index:\n",
    "            mid_index = (low_index + lar_index) // 2\n",
    "            mid_val = self.helper(mid_index, cols, mat)\n",
    "            if target == mid_val:\n",
    "                return True\n",
    "            if target < mid_val:\n",
    "                lar_index = mid_index - 1\n",
    "            else:\n",
    "                low_index = mid_index + 1\n",
    "        return False\n",
    "    \n",
    "    def helper(self, index, cols, mat):\n",
    "        col = index % cols\n",
    "        row = index // cols\n",
    "        return mat[row][col]"
   ]
  },
  {
   "cell_type": "code",
   "execution_count": 82,
   "metadata": {},
   "outputs": [
    {
     "data": {
      "text/plain": [
       "True"
      ]
     },
     "execution_count": 82,
     "metadata": {},
     "output_type": "execute_result"
    }
   ],
   "source": [
    "mat_ = [\n",
    "          [1,   3,  5,  7],\n",
    "          [10, 11, 16, 20],\n",
    "          [23, 30, 34, 50]\n",
    "        ]\n",
    "target_ = 3\n",
    "solution = Solution()\n",
    "solution.searchMatrix(mat_, target_)"
   ]
  },
  {
   "cell_type": "code",
   "execution_count": 12,
   "metadata": {},
   "outputs": [
    {
     "name": "stdout",
     "output_type": "stream",
     "text": [
      "1\n"
     ]
    }
   ],
   "source": [
    "mat = [[]]\n",
    "print(len(mat))"
   ]
  },
  {
   "cell_type": "code",
   "execution_count": null,
   "metadata": {},
   "outputs": [],
   "source": []
  }
 ],
 "metadata": {
  "kernelspec": {
   "display_name": "TF2",
   "language": "python",
   "name": "tf2"
  },
  "language_info": {
   "codemirror_mode": {
    "name": "ipython",
    "version": 3
   },
   "file_extension": ".py",
   "mimetype": "text/x-python",
   "name": "python",
   "nbconvert_exporter": "python",
   "pygments_lexer": "ipython3",
   "version": "3.6.2"
  }
 },
 "nbformat": 4,
 "nbformat_minor": 4
}
