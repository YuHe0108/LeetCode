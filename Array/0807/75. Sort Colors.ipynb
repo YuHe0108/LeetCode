{
 "cells": [
  {
   "cell_type": "raw",
   "metadata": {},
   "source": [
    "    给定一个数组，其中n个对象的颜色分别为红色，白色或蓝色，请将它们按位置排序，以使相同颜色的对象相邻，\n",
    "    颜色顺序为红色，白色和蓝色。在这里，我们将使用整数0、1和2分别代表红色，白色和蓝色。\n",
    "    注意：您不应使用该库的sort函数来解决此问题。\n",
    "    \n",
    "    例1：\n",
    "        Input: [2,0,2,1,1,0]\n",
    "        Output: [0,0,1,1,2,2]\n",
    "    \n",
    "    跟进：\n",
    "       1、一个比较简单的解决方案是使用计数排序的两次通过算法。\n",
    "       2、首先，迭代计数为0、1和2的数组，然后覆盖总数为0，然后为1和2的数组。\n",
    "       3、您能提出一种仅使用恒定空间的单遍算法吗？"
   ]
  },
  {
   "cell_type": "code",
   "execution_count": 7,
   "metadata": {},
   "outputs": [],
   "source": [
    "class Solution:\n",
    "    def sortColors(self, nums) -> None:\n",
    "        \"\"\"\n",
    "        Do not return anything, modify nums in-place instead.\n",
    "        \"\"\"\n",
    "        if len(nums) == 0: return \n",
    "        for i in range(len(nums)):\n",
    "            for j in range(i, len(nums)):\n",
    "                if nums[i] > nums[j]:\n",
    "                    nums[i], nums[j] = nums[j], nums[i]\n",
    "        return"
   ]
  },
  {
   "cell_type": "code",
   "execution_count": 35,
   "metadata": {},
   "outputs": [],
   "source": [
    "class Solution:\n",
    "    def sortColors(self, nums) -> None:\n",
    "        \"\"\"\n",
    "        Do not return anything, modify nums in-place instead.\n",
    "        \"\"\"\n",
    "        l_num = len(nums)\n",
    "        if len(nums) == 0: return \n",
    "        color_map = [[] for _ in range(3)]\n",
    "        for i in range(len(nums)):\n",
    "            color_map[nums[i]].append(i)\n",
    "        \n",
    "        index = 0\n",
    "        for i in range(3):\n",
    "            for j in range(len(color_map[i])):\n",
    "                val = nums[color_map[i][j]]\n",
    "                nums.append(val)\n",
    "        nums = nums[l_num:]"
   ]
  },
  {
   "cell_type": "code",
   "execution_count": 53,
   "metadata": {},
   "outputs": [],
   "source": [
    "# 思路：\n",
    "# 当 nums[index] == 2时，与nums中的最后一位数字进行交换\n",
    "# 当 nums[index] == 0时，与nums中最前面的一位数字进行交换\n",
    "class Solution:\n",
    "    def sortColors(self, nums) -> None:\n",
    "        zero_index = 0\n",
    "        two_index = len(nums) - 1\n",
    "        index = 0\n",
    "        while index <= two_index:\n",
    "            val = nums[index]\n",
    "            if val == 0:\n",
    "                nums[index], nums[zero_index] = nums[zero_index], nums[index]\n",
    "                zero_index += 1\n",
    "            if val == 2:\n",
    "                nums[index], nums[two_index] = nums[two_index], nums[index]\n",
    "                two_index -= 1\n",
    "            if val == 1:\n",
    "                index += 1\n",
    "            index = max(index, zero_index)"
   ]
  },
  {
   "cell_type": "code",
   "execution_count": 54,
   "metadata": {},
   "outputs": [
    {
     "name": "stdout",
     "output_type": "stream",
     "text": [
      "[0, 0, 1, 1, 2, 2]\n"
     ]
    }
   ],
   "source": [
    "nums_ = [2,0,2,1,1,0]\n",
    "solution = Solution()\n",
    "solution.sortColors(nums_)"
   ]
  },
  {
   "cell_type": "code",
   "execution_count": null,
   "metadata": {},
   "outputs": [],
   "source": []
  }
 ],
 "metadata": {
  "kernelspec": {
   "display_name": "TF2",
   "language": "python",
   "name": "tf2"
  },
  "language_info": {
   "codemirror_mode": {
    "name": "ipython",
    "version": 3
   },
   "file_extension": ".py",
   "mimetype": "text/x-python",
   "name": "python",
   "nbconvert_exporter": "python",
   "pygments_lexer": "ipython3",
   "version": "3.6.2"
  }
 },
 "nbformat": 4,
 "nbformat_minor": 4
}
