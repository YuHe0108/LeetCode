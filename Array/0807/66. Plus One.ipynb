{
 "cells": [
  {
   "cell_type": "raw",
   "metadata": {},
   "source": [
    "    给定一个表示非负整数的非空数字数组，则将整数递增1。\n",
    "    这些数字的存储方式是使最高有效数字位于列表的开头，并且数组中的每个元素都包含一个数字。\n",
    "    您可以假设整数本身不包含任何前导零，数字0本身除外。\n",
    "    \n",
    "    例1：\n",
    "        Input: [1,2,3]\n",
    "        Output: [1,2,4]\n",
    "        Explanation: The array represents the integer 123.\n",
    "    \n",
    "    例2：\n",
    "        Input: [4,3,2,1]\n",
    "        Output: [4,3,2,2]\n",
    "        Explanation: The array represents the integer 4321.\n",
    "    \n",
    "    例3：\n",
    "        Input:\n",
    "            [9]\n",
    "        Output:\n",
    "            [1, 0]"
   ]
  },
  {
   "cell_type": "code",
   "execution_count": 62,
   "metadata": {},
   "outputs": [],
   "source": [
    "class Solution:\n",
    "    def plusOne(self, digits):\n",
    "        index = len(digits) - 1\n",
    "        while index >= 0:\n",
    "            val = digits[index] + 1\n",
    "            if val < 10:\n",
    "                digits[index] = val\n",
    "                break\n",
    "            if val >= 10 and index > 0:\n",
    "                digits[index] = val - 10\n",
    "            elif val >= 10 and index == 0:\n",
    "                digits[index]  = val - 10\n",
    "                digits.insert(0, 1)\n",
    "            index -= 1\n",
    "        return digits"
   ]
  },
  {
   "cell_type": "code",
   "execution_count": 65,
   "metadata": {},
   "outputs": [
    {
     "data": {
      "text/plain": [
       "[1, 3, 0]"
      ]
     },
     "execution_count": 65,
     "metadata": {},
     "output_type": "execute_result"
    }
   ],
   "source": [
    "digits_ = [1,2,9]\n",
    "solution = Solution()\n",
    "solution.plusOne(digits_)"
   ]
  },
  {
   "cell_type": "code",
   "execution_count": 44,
   "metadata": {},
   "outputs": [],
   "source": [
    "a = [1, 2]\n",
    "a.insert(0, 3)"
   ]
  },
  {
   "cell_type": "code",
   "execution_count": 45,
   "metadata": {},
   "outputs": [
    {
     "data": {
      "text/plain": [
       "[3, 1, 2]"
      ]
     },
     "execution_count": 45,
     "metadata": {},
     "output_type": "execute_result"
    }
   ],
   "source": [
    "a"
   ]
  },
  {
   "cell_type": "code",
   "execution_count": 10,
   "metadata": {},
   "outputs": [],
   "source": []
  },
  {
   "cell_type": "code",
   "execution_count": 11,
   "metadata": {},
   "outputs": [
    {
     "data": {
      "text/plain": [
       "9"
      ]
     },
     "execution_count": 11,
     "metadata": {},
     "output_type": "execute_result"
    }
   ],
   "source": [
    "a"
   ]
  },
  {
   "cell_type": "code",
   "execution_count": null,
   "metadata": {},
   "outputs": [],
   "source": []
  }
 ],
 "metadata": {
  "kernelspec": {
   "display_name": "TF2",
   "language": "python",
   "name": "tf2"
  },
  "language_info": {
   "codemirror_mode": {
    "name": "ipython",
    "version": 3
   },
   "file_extension": ".py",
   "mimetype": "text/x-python",
   "name": "python",
   "nbconvert_exporter": "python",
   "pygments_lexer": "ipython3",
   "version": "3.6.2"
  }
 },
 "nbformat": 4,
 "nbformat_minor": 4
}
