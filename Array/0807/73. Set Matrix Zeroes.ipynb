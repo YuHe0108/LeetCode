{
 "cells": [
  {
   "cell_type": "raw",
   "metadata": {},
   "source": [
    "    给定一个 m x n 矩阵，如果元素为0，则将其整个行和列设置为0。就地进行设置。\n",
    "    \n",
    "    例1：\n",
    "        Input: \n",
    "        [\n",
    "          [1,1,1],\n",
    "          [1,0,1],\n",
    "          [1,1,1]\n",
    "        ]\n",
    "        Output: \n",
    "        [\n",
    "          [1,0,1],\n",
    "          [0,0,0],\n",
    "          [1,0,1]\n",
    "        ]\n",
    "    \n",
    "    例2：\n",
    "        Input: \n",
    "        [\n",
    "          [0,1,2,0],\n",
    "          [3,4,5,2],\n",
    "          [1,3,1,5]\n",
    "        ]\n",
    "        Output: \n",
    "        [\n",
    "          [0,0,0,0],\n",
    "          [0,4,5,0],\n",
    "          [0,3,1,0]\n",
    "        ]\n",
    "     \n",
    "     后续行动：\n",
    "     1、使用O（mn）空间的直接解决方案可能不是一个好主意。\n",
    "     2、一个简单的改进使用O（m+n）空间，但仍然不是最佳解决方案。\n",
    "     3、您可以设计一个恒定的空间解决方案吗？"
   ]
  },
  {
   "cell_type": "code",
   "execution_count": 29,
   "metadata": {},
   "outputs": [],
   "source": [
    "class Solution:\n",
    "    def setZeroes(self, mat) -> None:\n",
    "        \"\"\"\n",
    "        Do not return anything, modify matrix in-place instead.\n",
    "        \"\"\"\n",
    "        rows = len(mat)\n",
    "        cols = len(mat[0])\n",
    "        \n",
    "        zero_cord = []\n",
    "        for row in range(rows):\n",
    "            for col in range(cols):\n",
    "                val = mat[row][col]\n",
    "                if val == 0:\n",
    "                    zero_cord.append([])\n",
    "                    zero_cord[-1] = [row, col]\n",
    "        \n",
    "        zero_rows = [x[0] for x in zero_cord]\n",
    "        zero_cols = [x[1] for x in zero_cord]\n",
    "        for row in range(rows):\n",
    "            for col in range(cols):\n",
    "                if row in zero_rows:\n",
    "                    mat[row][col] = 0\n",
    "                if col in zero_cols:\n",
    "                    mat[row][col] = 0\n",
    "        return"
   ]
  },
  {
   "cell_type": "code",
   "execution_count": 30,
   "metadata": {},
   "outputs": [
    {
     "name": "stdout",
     "output_type": "stream",
     "text": [
      "[[0, 0, 0, 0], [0, 4, 5, 0], [0, 3, 1, 0]]\n"
     ]
    }
   ],
   "source": [
    "mat_ = [\n",
    "          [0,1,2,0],\n",
    "          [3,4,5,2],\n",
    "          [1,3,1,5]\n",
    "        ]\n",
    "solution = Solution()\n",
    "solution.setZeroes(mat_)"
   ]
  },
  {
   "cell_type": "code",
   "execution_count": null,
   "metadata": {},
   "outputs": [],
   "source": []
  }
 ],
 "metadata": {
  "kernelspec": {
   "display_name": "TF2",
   "language": "python",
   "name": "tf2"
  },
  "language_info": {
   "codemirror_mode": {
    "name": "ipython",
    "version": 3
   },
   "file_extension": ".py",
   "mimetype": "text/x-python",
   "name": "python",
   "nbconvert_exporter": "python",
   "pygments_lexer": "ipython3",
   "version": "3.6.2"
  }
 },
 "nbformat": 4,
 "nbformat_minor": 4
}
