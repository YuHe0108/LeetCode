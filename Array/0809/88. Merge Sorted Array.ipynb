{
 "cells": [
  {
   "cell_type": "raw",
   "metadata": {},
   "source": [
    "    给定两个排序的整数数组nums1和nums2，将nums2合并为nums1作为一个排序的数组。\n",
    "    注意：在nums1和nums2中初始化的元素数分别为m和n。\n",
    "    您可以假设nums1有足够的空间（大小等于m+n）来容纳nums2中的其他元素。\n",
    "    \n",
    "    例1：\n",
    "        Input:\n",
    "            nums1 = [1,2,3,0,0,0], m = 3\n",
    "            nums2 = [2,5,6],       n = 3\n",
    "\n",
    "        Output: [1,2,2,3,5,6]\n",
    "    \n",
    "    Constraints:\n",
    "        1、-10^9 <= nums1[i], nums2[i] <= 10^9\n",
    "        2、nums1.length == m + n\n",
    "        3、nums2.length == n"
   ]
  },
  {
   "cell_type": "code",
   "execution_count": 33,
   "metadata": {},
   "outputs": [],
   "source": [
    "class Solution:\n",
    "    def merge(self, nums1, m: int, nums2, n: int) -> None:\n",
    "        \"\"\"\n",
    "        Do not return anything, modify nums1 in-place instead.\n",
    "        \"\"\"\n",
    "        idx_2 = 0\n",
    "        temp_m = m\n",
    "        for i in range(m):\n",
    "            if nums2[idx_2] >= nums1[i]:\n",
    "                temp_m += 1\n",
    "                for j in range(temp_m, i, -1):\n",
    "                    nums1[j] = nums1[j-1]\n",
    "                nums1[i+1] = nums2[idx_2]\n",
    "                idx_2 += 1\n",
    "            print(nums1)"
   ]
  },
  {
   "cell_type": "code",
   "execution_count": 50,
   "metadata": {},
   "outputs": [],
   "source": [
    "class Solution:\n",
    "    def merge(self, nums1, m: int, nums2, n: int) -> None:\n",
    "        \"\"\"\n",
    "        Do not return anything, modify nums1 in-place instead.\n",
    "        \"\"\"\n",
    "        # m 和 n 记录了在 num1 和 num2 中，有效数字的长度\n",
    "        idx1 = m-1 # nums1、nums2的有效元素最后一个元素\n",
    "        idx2 = n-1\n",
    "        idx3 = m+n-1 # nums1的最后一个元素，有可能是无效值\n",
    "        while idx1 >= 0 and idx2 >= 0:\n",
    "            if nums1[idx1] > nums2[idx2]:\n",
    "                # 此时num1的最后一位有效元素在两个数组中是最大的，因此放在最后一位\n",
    "                nums1[idx3] = nums1[idx1] \n",
    "                idx1 -= 1\n",
    "            else:\n",
    "                nums1[idx3] = nums2[idx2]\n",
    "                idx2 -= 1\n",
    "            idx3 -= 1\n",
    "        print(nums1)\n",
    "        while idx2 >= 0:\n",
    "            nums1[idx3] = nums2[idx2]\n",
    "            idx3 -= 1\n",
    "            idx2 -= 1\n",
    "        print(nums1)"
   ]
  },
  {
   "cell_type": "code",
   "execution_count": 51,
   "metadata": {},
   "outputs": [
    {
     "name": "stdout",
     "output_type": "stream",
     "text": [
      "[2, 2]\n",
      "[1, 2]\n"
     ]
    }
   ],
   "source": [
    "nums1_ = [2,0]\n",
    "nums2_ = [1]\n",
    "m_ = 1\n",
    "n_ = 1\n",
    "solution = Solution()\n",
    "solution.merge(nums1_, m_, nums2_, n_)"
   ]
  },
  {
   "cell_type": "code",
   "execution_count": null,
   "metadata": {},
   "outputs": [],
   "source": [
    "[2,0]\n",
    "1\n",
    "[1]\n",
    "1"
   ]
  },
  {
   "cell_type": "code",
   "execution_count": null,
   "metadata": {},
   "outputs": [],
   "source": []
  }
 ],
 "metadata": {
  "kernelspec": {
   "display_name": "TF2",
   "language": "python",
   "name": "tf2"
  },
  "language_info": {
   "codemirror_mode": {
    "name": "ipython",
    "version": 3
   },
   "file_extension": ".py",
   "mimetype": "text/x-python",
   "name": "python",
   "nbconvert_exporter": "python",
   "pygments_lexer": "ipython3",
   "version": "3.6.2"
  }
 },
 "nbformat": 4,
 "nbformat_minor": 4
}
