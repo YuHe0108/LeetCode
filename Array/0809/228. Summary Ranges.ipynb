{
 "cells": [
  {
   "cell_type": "raw",
   "metadata": {},
   "source": [
    "    给定没有重复的排序整数数组，返回其范围的汇总。\n",
    "    \n",
    "    例1：\n",
    "        Input:  [0,1,2,4,5,7]\n",
    "        Output: [\"0->2\",\"4->5\",\"7\"]\n",
    "        Explanation: 0,1,2 form a continuous range; 4,5 form a continuous range.\n",
    "        \n",
    "   例1：\n",
    "       Input:  [0,2,3,4,6,8,9]\n",
    "       Output: [\"0\",\"2->4\",\"6\",\"8->9\"]\n",
    "       Explanation: 2,3,4 form a continuous range; 8,9 form a continuous range."
   ]
  },
  {
   "cell_type": "code",
   "execution_count": 15,
   "metadata": {},
   "outputs": [],
   "source": [
    "class Solution:\n",
    "    def summaryRanges(self, nums):\n",
    "        if len(nums) == 0: return []\n",
    "        res = [f'{nums[0]}->{nums[0]}']\n",
    "        for i in range(1, len(nums)):\n",
    "            split_str = res[-1].split('->')\n",
    "            start_val = int(split_str[0])\n",
    "            end_val = int(split_str[-1])\n",
    "            if nums[i] - end_val == 1:\n",
    "                str_val = \"{}->{}\".format(start_val, nums[i])\n",
    "                res[-1] = str_val\n",
    "            else:\n",
    "                res.append(f'{nums[i]}->{nums[i]}')\n",
    "        \n",
    "        for i in range(len(res)):\n",
    "            start_val = res[i].split('->')[0]\n",
    "            end_val = res[i].split('->')[-1]\n",
    "            if start_val == end_val:\n",
    "                res[i] = start_val\n",
    "        return res"
   ]
  },
  {
   "cell_type": "code",
   "execution_count": 26,
   "metadata": {},
   "outputs": [],
   "source": [
    "class Solution:\n",
    "    def summaryRanges(self, nums):\n",
    "        res = []\n",
    "        start = end =  0\n",
    "        for i in range(1, len(nums)):\n",
    "            if nums[i] - nums[i-1] == 1:\n",
    "                end = i\n",
    "            else:\n",
    "                if start == end:\n",
    "                    str_info = str(nums[start])\n",
    "                else:\n",
    "                    str_info = f'{nums[start]}->{nums[end]}'\n",
    "                res.append(str_info)\n",
    "                start = end = i\n",
    "                \n",
    "        if start != end:\n",
    "            str_info = f'{nums[start]}->{nums[end]}'\n",
    "        else:\n",
    "            str_info = str(nums[start])\n",
    "        res.append(str_info)\n",
    "        return res"
   ]
  },
  {
   "cell_type": "code",
   "execution_count": 27,
   "metadata": {},
   "outputs": [
    {
     "data": {
      "text/plain": [
       "['0', '2->4', '6', '8->9']"
      ]
     },
     "execution_count": 27,
     "metadata": {},
     "output_type": "execute_result"
    }
   ],
   "source": [
    "nums_ = [0,2,3,4,6,8,9]\n",
    "solution = Solution()\n",
    "solution.summaryRanges(nums_)"
   ]
  },
  {
   "cell_type": "code",
   "execution_count": 39,
   "metadata": {},
   "outputs": [
    {
     "name": "stdout",
     "output_type": "stream",
     "text": [
      "['2', '14']\n"
     ]
    }
   ],
   "source": [
    "a = \"2->14\"\n",
    "print(a.split('->'))"
   ]
  },
  {
   "cell_type": "code",
   "execution_count": 31,
   "metadata": {},
   "outputs": [
    {
     "name": "stdout",
     "output_type": "stream",
     "text": [
      "-2147483647\n"
     ]
    }
   ],
   "source": [
    "print(int(-2147483647))"
   ]
  },
  {
   "cell_type": "code",
   "execution_count": null,
   "metadata": {},
   "outputs": [],
   "source": []
  }
 ],
 "metadata": {
  "kernelspec": {
   "display_name": "TF2",
   "language": "python",
   "name": "tf2"
  },
  "language_info": {
   "codemirror_mode": {
    "name": "ipython",
    "version": 3
   },
   "file_extension": ".py",
   "mimetype": "text/x-python",
   "name": "python",
   "nbconvert_exporter": "python",
   "pygments_lexer": "ipython3",
   "version": "3.6.2"
  }
 },
 "nbformat": 4,
 "nbformat_minor": 4
}
