{
 "cells": [
  {
   "cell_type": "raw",
   "metadata": {},
   "source": [
    "如果满足以下属性，我们将数组A称为山：\n",
    "A.length> = 3存在一些0 <i <A.length-1使得A [0] <A [1] <... A [i- 1] <A [i]> A [i 1]> ...> A [A.length-1]给定一个绝对是山的数组，\n",
    "请返回任何i使得A [0] <A [1] < ... A [i-1] <A [i]> A [i 1]> ...> A [A.length-1]。\n",
    "\n",
    "Example 1:\n",
    "    Input: [0,1,0]\n",
    "    Output: 1\n",
    "\n",
    "Example 2:\n",
    "    Input: [0,2,1,0]\n",
    "    Output: 1\n",
    "\n",
    "Note:\n",
    "    1、3 <= A.length <= 10000\n",
    "    2、0 <= A[i] <= 10^6\n",
    "    3、A is a mountain, as defined above."
   ]
  },
  {
   "cell_type": "code",
   "execution_count": 2,
   "metadata": {},
   "outputs": [],
   "source": [
    "class Solution:\n",
    "    def peakIndexInMountainArray(self, A) -> int:\n",
    "        left = 0\n",
    "        right = len(A) - 1\n",
    "        while left < right:\n",
    "            mid = left + (right - left + 1) // 2 \n",
    "            \n",
    "            if A[mid-1] > A[mid]:\n",
    "                right = mid - 1\n",
    "            else:\n",
    "                left = mid\n",
    "        return left        "
   ]
  },
  {
   "cell_type": "code",
   "execution_count": null,
   "metadata": {},
   "outputs": [],
   "source": []
  }
 ],
 "metadata": {
  "kernelspec": {
   "display_name": "TF2",
   "language": "python",
   "name": "tf2"
  },
  "language_info": {
   "codemirror_mode": {
    "name": "ipython",
    "version": 3
   },
   "file_extension": ".py",
   "mimetype": "text/x-python",
   "name": "python",
   "nbconvert_exporter": "python",
   "pygments_lexer": "ipython3",
   "version": "3.6.2"
  }
 },
 "nbformat": 4,
 "nbformat_minor": 4
}
