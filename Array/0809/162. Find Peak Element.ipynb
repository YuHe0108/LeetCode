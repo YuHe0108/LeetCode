{
 "cells": [
  {
   "cell_type": "raw",
   "metadata": {},
   "source": [
    "    峰值元素是大于其相邻元素的元素。\n",
    "    给定一个输入数组nums，其中nums[i] ≠ nums[i+1]，找到一个峰值元素并返回其索引。\n",
    "    该数组可能包含多个峰，在这种情况下，将索引返回到任何一个峰都可以。\n",
    "    您可能会想到 nums[-1] = nums[n] =-∞。\n",
    "    \n",
    "    Example 1:\n",
    "        Input: nums = [1,2,3,1]\n",
    "        Output: 2\n",
    "        Explanation: 3 is a peak element and your function should return the index number 2.\n",
    "\n",
    "    Example 2:\n",
    "        Input: nums = [1,2,1,3,5,6,4]\n",
    "        Output: 1 or 5 \n",
    "        Explanation: Your function can return either index number 1 where the peak element is 2, \n",
    "                     or index number 5 where the peak element is 6."
   ]
  },
  {
   "cell_type": "code",
   "execution_count": 10,
   "metadata": {},
   "outputs": [],
   "source": [
    "# 时间复杂度为 O(N)\n",
    "class Solution:\n",
    "    def findPeakElement(self, nums) -> int:\n",
    "        if len(nums) <= 2: return nums.index(max(nums))\n",
    "        for i in range(1, len(nums)-1):\n",
    "            if nums[i-1] < nums[i] and nums[i] > nums[i+1]:\n",
    "                return i\n",
    "        return nums.index(max(nums[0], nums[-1]))"
   ]
  },
  {
   "cell_type": "code",
   "execution_count": 45,
   "metadata": {},
   "outputs": [],
   "source": [
    "# 使用二分法查找 peak index\n",
    "class Solution:\n",
    "    def findPeakElement(self, nums) -> int:\n",
    "        left = 0\n",
    "        right = len(nums) - 1\n",
    "        while left < right:\n",
    "            middle = left + (right - left + 1) // 2\n",
    "            if nums[middle - 1] > nums[middle]:\n",
    "                right = middle - 1\n",
    "            else:\n",
    "                left = middle\n",
    "        return left"
   ]
  },
  {
   "cell_type": "code",
   "execution_count": 47,
   "metadata": {},
   "outputs": [
    {
     "data": {
      "text/plain": [
       "1"
      ]
     },
     "execution_count": 47,
     "metadata": {},
     "output_type": "execute_result"
    }
   ],
   "source": [
    "nums_ = [0,2,1,0]\n",
    "solution = Solution()\n",
    "solution.findPeakElement(nums_)"
   ]
  },
  {
   "cell_type": "code",
   "execution_count": null,
   "metadata": {},
   "outputs": [],
   "source": []
  },
  {
   "cell_type": "code",
   "execution_count": null,
   "metadata": {},
   "outputs": [],
   "source": []
  }
 ],
 "metadata": {
  "kernelspec": {
   "display_name": "TF2",
   "language": "python",
   "name": "tf2"
  },
  "language_info": {
   "codemirror_mode": {
    "name": "ipython",
    "version": 3
   },
   "file_extension": ".py",
   "mimetype": "text/x-python",
   "name": "python",
   "nbconvert_exporter": "python",
   "pygments_lexer": "ipython3",
   "version": "3.6.2"
  }
 },
 "nbformat": 4,
 "nbformat_minor": 4
}
