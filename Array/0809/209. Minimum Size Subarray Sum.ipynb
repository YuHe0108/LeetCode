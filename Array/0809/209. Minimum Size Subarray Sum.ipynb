{
 "cells": [
  {
   "cell_type": "raw",
   "metadata": {},
   "source": [
    "    给定一个由n个正整数和一个正整数s组成的数组，请找到总和≥s的连续子数组的最小长度。如果没有，则返回0。\n",
    "    \n",
    "    1、连续的子数组，不能改变原始数组的顺序，说明不能sort原始的数组。\n",
    "    \n",
    "    例1: \n",
    "        Input: s = 7, nums = [2,3,1,2,4,3]\n",
    "        Output: 2\n",
    "        Explanation: the subarray [4,3] has the minimal length under the problem constraint.\n",
    "    \n",
    "    Follow up:\n",
    "        If you have figured out the O(n) solution, try coding another solution of which the time complexity is O(n log n). "
   ]
  },
  {
   "cell_type": "code",
   "execution_count": 29,
   "metadata": {},
   "outputs": [],
   "source": [
    "# 时间复杂度较高 O(N^2)\n",
    "class Solution:\n",
    "    def minSubArrayLen(self, s: int, nums) -> int:\n",
    "        count = float('inf')\n",
    "        start = end = 0\n",
    "        sum_val = 0\n",
    "        while start < len(nums) and end < len(nums):\n",
    "            e_val = nums[end]\n",
    "            if  sum_val + e_val < s:\n",
    "                sum_val += e_val\n",
    "                end += 1\n",
    "            else:\n",
    "                count = min(end - start + 1, count)\n",
    "                start += 1\n",
    "                end = start\n",
    "                sum_val -= nums[start]\n",
    "        return count if count != float('inf') else 0"
   ]
  },
  {
   "cell_type": "code",
   "execution_count": 43,
   "metadata": {},
   "outputs": [],
   "source": [
    "class Solution:\n",
    "    def minSubArrayLen(self, s: int, nums) -> int:\n",
    "        count = float('inf')\n",
    "        start = -1\n",
    "        sum_val = 0\n",
    "        for i in range(len(nums)):\n",
    "            sum_val += nums[i]\n",
    "            while sum_val >= s:\n",
    "                print(i)\n",
    "                count = min(i-start, count)\n",
    "                start += 1\n",
    "                sum_val -= nums[start]\n",
    "        return count if count != float('inf') else 0 "
   ]
  },
  {
   "cell_type": "code",
   "execution_count": 46,
   "metadata": {},
   "outputs": [
    {
     "name": "stdout",
     "output_type": "stream",
     "text": [
      "3\n",
      "4\n",
      "4\n",
      "5\n",
      "5\n"
     ]
    },
    {
     "data": {
      "text/plain": [
       "2"
      ]
     },
     "execution_count": 46,
     "metadata": {},
     "output_type": "execute_result"
    }
   ],
   "source": [
    "s_ = 7\n",
    "nums_ = [2,3,1,2,4,3]\n",
    "solution = Solution()\n",
    "solution.minSubArrayLen(s_, nums_)"
   ]
  },
  {
   "cell_type": "code",
   "execution_count": 6,
   "metadata": {},
   "outputs": [],
   "source": []
  },
  {
   "cell_type": "code",
   "execution_count": 8,
   "metadata": {},
   "outputs": [
    {
     "data": {
      "text/plain": [
       "0"
      ]
     },
     "execution_count": 8,
     "metadata": {},
     "output_type": "execute_result"
    }
   ],
   "source": []
  },
  {
   "cell_type": "code",
   "execution_count": null,
   "metadata": {},
   "outputs": [],
   "source": []
  }
 ],
 "metadata": {
  "kernelspec": {
   "display_name": "TF2",
   "language": "python",
   "name": "tf2"
  },
  "language_info": {
   "codemirror_mode": {
    "name": "ipython",
    "version": 3
   },
   "file_extension": ".py",
   "mimetype": "text/x-python",
   "name": "python",
   "nbconvert_exporter": "python",
   "pygments_lexer": "ipython3",
   "version": "3.6.2"
  }
 },
 "nbformat": 4,
 "nbformat_minor": 4
}
