{
 "cells": [
  {
   "cell_type": "raw",
   "metadata": {},
   "source": [
    "    给定两个整数数组A和B，返回出现在两个数组中的子数组的最大长度。\n",
    "    \n",
    "    例1：\n",
    "        Input:\n",
    "            A: [1,2,3,2,1]\n",
    "            B: [3,2,1,4,7]\n",
    "        Output: 3\n",
    "    Explanation: \n",
    "            The repeated subarray with maximum length is [3, 2, 1].\n",
    "    \n",
    "    约束条件：\n",
    "        1、1 <= len(A), len(B) <= 1000\n",
    "        2、0 <= A[i], B[i] < 100"
   ]
  },
  {
   "cell_type": "code",
   "execution_count": 8,
   "metadata": {},
   "outputs": [],
   "source": [
    "class Solution:\n",
    "    def findLength(self, A, B) -> int:\n",
    "        dp = [[0] * (len(B) + 1) for _ in range(len(A) + 1)]\n",
    "        count = 0\n",
    "        for i in range(len(A)):\n",
    "            for j in range(len(B)):\n",
    "                if A[i] == B[j]:\n",
    "                    dp[i+1][j+1] = dp[i][j] + 1\n",
    "                    count = max(dp[i+1][j+1], count)\n",
    "        return count"
   ]
  },
  {
   "cell_type": "code",
   "execution_count": 9,
   "metadata": {},
   "outputs": [
    {
     "data": {
      "text/plain": [
       "3"
      ]
     },
     "execution_count": 9,
     "metadata": {},
     "output_type": "execute_result"
    }
   ],
   "source": [
    "A_ = [1,2,3,2,1]\n",
    "B_ = [3,2,1,4,7]\n",
    "solution = Solution()\n",
    "solution.findLength(A_, B_)"
   ]
  },
  {
   "cell_type": "code",
   "execution_count": null,
   "metadata": {},
   "outputs": [],
   "source": []
  }
 ],
 "metadata": {
  "kernelspec": {
   "display_name": "TF2",
   "language": "python",
   "name": "tf2"
  },
  "language_info": {
   "codemirror_mode": {
    "name": "ipython",
    "version": 3
   },
   "file_extension": ".py",
   "mimetype": "text/x-python",
   "name": "python",
   "nbconvert_exporter": "python",
   "pygments_lexer": "ipython3",
   "version": "3.6.2"
  }
 },
 "nbformat": 4,
 "nbformat_minor": 4
}
