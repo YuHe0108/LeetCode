{
 "cells": [
  {
   "cell_type": "raw",
   "metadata": {},
   "source": [
    "    给出一块2D板和字典中的单词列表，找出板上的所有单词。\n",
    "    每个单词必须由顺序相邻的单元格的字母构成，其中“相邻”单元格是指水平或垂直相邻的单元格。\n",
    "    同一字母单元不能在一个单词中多次使用。\n",
    "    \n",
    "    例1：\n",
    "        Input: \n",
    "            board = [\n",
    "              ['o','a','a','n'],\n",
    "              ['e','t','a','e'],\n",
    "              ['i','h','k','r'],\n",
    "              ['i','f','l','v']\n",
    "            ]\n",
    "            words = [\"oath\",\"pea\",\"eat\",\"rain\"]\n",
    "\n",
    "        Output: [\"eat\",\"oath\"]"
   ]
  },
  {
   "cell_type": "code",
   "execution_count": 1,
   "metadata": {},
   "outputs": [],
   "source": [
    "class Solution:\n",
    "    def findWords(self, board, words):\n",
    "        pass"
   ]
  },
  {
   "cell_type": "code",
   "execution_count": null,
   "metadata": {},
   "outputs": [],
   "source": [
    "board_ = [\n",
    "          ['o','a','a','n'],\n",
    "          ['e','t','a','e'],\n",
    "          ['i','h','k','r'],\n",
    "          ['i','f','l','v']\n",
    "         ]\n",
    "words_ = [\"oath\",\"pea\",\"eat\",\"rain\"]\n",
    "solution = Solution()\n",
    "solution.findWords(board_, words_)"
   ]
  }
 ],
 "metadata": {
  "kernelspec": {
   "display_name": "TF2",
   "language": "python",
   "name": "tf2"
  },
  "language_info": {
   "codemirror_mode": {
    "name": "ipython",
    "version": 3
   },
   "file_extension": ".py",
   "mimetype": "text/x-python",
   "name": "python",
   "nbconvert_exporter": "python",
   "pygments_lexer": "ipython3",
   "version": "3.6.2"
  }
 },
 "nbformat": 4,
 "nbformat_minor": 4
}
