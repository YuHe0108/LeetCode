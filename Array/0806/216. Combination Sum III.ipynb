{
 "cells": [
  {
   "cell_type": "raw",
   "metadata": {},
   "source": [
    "找出所有可能的k个数的组合，加起来就是一个数n，因为只有1到9之间的数可以使用，而且每个组合都应该是一组唯一的数。\n",
    "注意：所有数字都是正整数。解决方案集不能包含重复的组合。\n",
    "\n",
    "例1：\n",
    "    Input: k = 3, n = 7\n",
    "    Output: [[1,2,4]]\n",
    "\n",
    "例2：\n",
    "    Input: k = 3, n = 9\n",
    "    Output: [[1,2,6], [1,3,5], [2,3,4]]"
   ]
  },
  {
   "cell_type": "code",
   "execution_count": 10,
   "metadata": {},
   "outputs": [],
   "source": [
    "class Solution:\n",
    "    def combinationSum3(self, k: int, n: int):\n",
    "        res = []\n",
    "        self.dfs(1, [], res, k, n)\n",
    "        return res\n",
    "\n",
    "    def dfs(self, index, item, res, k, n):\n",
    "        if len(item) > k or sum(item) > n: return\n",
    "        if sum(item) == n and item not in res and len(item) == k: \n",
    "            res.append(list(item))\n",
    "        for i in range(index, 10):\n",
    "            item.append(i)\n",
    "            self.dfs(i+1, item, res, k, n)\n",
    "            item.pop()\n",
    "        return"
   ]
  },
  {
   "cell_type": "code",
   "execution_count": 11,
   "metadata": {},
   "outputs": [
    {
     "data": {
      "text/plain": [
       "[[1, 6, 8, 9],\n",
       " [2, 5, 8, 9],\n",
       " [2, 6, 7, 9],\n",
       " [3, 4, 8, 9],\n",
       " [3, 5, 7, 9],\n",
       " [3, 6, 7, 8],\n",
       " [4, 5, 6, 9],\n",
       " [4, 5, 7, 8]]"
      ]
     },
     "execution_count": 11,
     "metadata": {},
     "output_type": "execute_result"
    }
   ],
   "source": [
    "k_ = 4\n",
    "n_ = 24\n",
    "solution = Solution()\n",
    "solution.combinationSum3(k_, n_)"
   ]
  },
  {
   "cell_type": "code",
   "execution_count": null,
   "metadata": {},
   "outputs": [],
   "source": []
  }
 ],
 "metadata": {
  "kernelspec": {
   "display_name": "TF2",
   "language": "python",
   "name": "tf2"
  },
  "language_info": {
   "codemirror_mode": {
    "name": "ipython",
    "version": 3
   },
   "file_extension": ".py",
   "mimetype": "text/x-python",
   "name": "python",
   "nbconvert_exporter": "python",
   "pygments_lexer": "ipython3",
   "version": "3.6.2"
  }
 },
 "nbformat": 4,
 "nbformat_minor": 4
}
