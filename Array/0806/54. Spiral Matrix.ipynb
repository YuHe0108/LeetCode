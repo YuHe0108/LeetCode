{
 "cells": [
  {
   "cell_type": "raw",
   "metadata": {},
   "source": [
    "    给定一个m x n元素的矩阵（m行，n列），以螺旋顺序返回矩阵的所有元素。\n",
    "    🐍蛇形\n",
    "    \n",
    "    例1：\n",
    "        Input:\n",
    "            [\n",
    "             [ 1, 2, 3 ],\n",
    "             [ 4, 5, 6 ],\n",
    "             [ 7, 8, 9 ]\n",
    "            ]\n",
    "        Output: [1,2,3,6,9,8,7,4,5]\n",
    "    \n",
    "    例2：\n",
    "        Input:\n",
    "        [\n",
    "          [1, 2, 3, 4],\n",
    "          [5, 6, 7, 8],\n",
    "          [9,10,11,12]\n",
    "        ]\n",
    "        Output: [1,2,3,4,8,12,11,10,9,5,6,7]"
   ]
  },
  {
   "cell_type": "markdown",
   "metadata": {},
   "source": [
    "![avatar](54.jpg)"
   ]
  },
  {
   "cell_type": "code",
   "execution_count": 57,
   "metadata": {},
   "outputs": [],
   "source": [
    "class Solution:\n",
    "    def spiralOrder(self, mat):\n",
    "        # 先按着第一行的列走，当 列 == cols-1, 按着行走\n",
    "        # 行 == rows - 1, 按着列走，列 == 0时，往上走\n",
    "        res = []\n",
    "        while mat:\n",
    "            res += mat.pop(0) # mat的第一行\n",
    "            if mat and mat[0]: # 如果mat存在第2行\n",
    "                for row in mat:\n",
    "                    res.append(row.pop()) # 正常的pop是从后往前弹出数据\n",
    "            if mat:\n",
    "                res += mat.pop()[::-1]\n",
    "            if mat and mat[0]:\n",
    "                for row in mat[::-1]:\n",
    "                    res.append(row.pop(0))\n",
    "        return res"
   ]
  },
  {
   "cell_type": "code",
   "execution_count": 58,
   "metadata": {},
   "outputs": [
    {
     "data": {
      "text/plain": [
       "[1, 2, 3, 4, 8, 12, 16, 15, 14, 13, 9, 5, 6, 7, 11, 10]"
      ]
     },
     "execution_count": 58,
     "metadata": {},
     "output_type": "execute_result"
    }
   ],
   "source": [
    "mat_ = [\n",
    "          [1, 2, 3, 4],\n",
    "          [5, 6, 7, 8],\n",
    "          [9,10,11,12],\n",
    "          [13,14,15,16]\n",
    "        ]\n",
    "solution = Solution()\n",
    "solution.spiralOrder(mat_)"
   ]
  },
  {
   "cell_type": "code",
   "execution_count": 14,
   "metadata": {},
   "outputs": [
    {
     "name": "stdout",
     "output_type": "stream",
     "text": [
      "[3, 2, 1]\n"
     ]
    }
   ],
   "source": [
    "a = [1, 2, 3]\n",
    "print(a[::-1])"
   ]
  },
  {
   "cell_type": "code",
   "execution_count": null,
   "metadata": {},
   "outputs": [],
   "source": []
  }
 ],
 "metadata": {
  "kernelspec": {
   "display_name": "TF2",
   "language": "python",
   "name": "tf2"
  },
  "language_info": {
   "codemirror_mode": {
    "name": "ipython",
    "version": 3
   },
   "file_extension": ".py",
   "mimetype": "text/x-python",
   "name": "python",
   "nbconvert_exporter": "python",
   "pygments_lexer": "ipython3",
   "version": "3.6.2"
  }
 },
 "nbformat": 4,
 "nbformat_minor": 4
}
