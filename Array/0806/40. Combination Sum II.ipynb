{
 "cells": [
  {
   "cell_type": "raw",
   "metadata": {},
   "source": [
    "    给定一组候选编号（候选）和目标编号（target），找到候选编号总和为目标的候选中的所有唯一组合。\n",
    "    候选中的每个数字在组合中只能使用一次。\n",
    "    1、注意：所有数字（包括目标）将为正整数。\n",
    "    2、解决方案集不得包含重复的组合。\n",
    "    \n",
    "    例1：\n",
    "        Input: candidates = [10,1,2,7,6,1,5], target = 8,\n",
    "        A solution set is:\n",
    "        [\n",
    "          [1, 7],\n",
    "          [1, 2, 5],\n",
    "          [2, 6],\n",
    "          [1, 1, 6]\n",
    "        ]\n",
    "    例2：\n",
    "        Input: candidates = [2,5,2,1,2], target = 5,\n",
    "        A solution set is:\n",
    "        [\n",
    "          [1,2,2],\n",
    "          [5]\n",
    "        ]"
   ]
  },
  {
   "cell_type": "code",
   "execution_count": 7,
   "metadata": {},
   "outputs": [],
   "source": [
    "class Solution:\n",
    "    def combinationSum2(self, cands, target: int):\n",
    "        res = []\n",
    "        cands.sort()\n",
    "        self.dfs(0, cands, [], res, target)\n",
    "        return res\n",
    "    \n",
    "    def dfs(self, index, cands, item, res, target):\n",
    "        if sum(item) > target:\n",
    "            return \n",
    "        if sum(item) == target:\n",
    "            item.sort()\n",
    "            if item not in res:\n",
    "                res.append(list(item))\n",
    "            return\n",
    "        \n",
    "        for i in range(index, len(cands)):\n",
    "            item.append(cands[i])\n",
    "            self.dfs(i+1, cands, item, res, target)\n",
    "            item.pop()"
   ]
  },
  {
   "cell_type": "code",
   "execution_count": 8,
   "metadata": {},
   "outputs": [
    {
     "data": {
      "text/plain": [
       "[[1, 1, 2, 2], [1, 1, 4], [1, 2, 3], [2, 2, 2], [2, 4]]"
      ]
     },
     "execution_count": 8,
     "metadata": {},
     "output_type": "execute_result"
    }
   ],
   "source": [
    "cands_ = [4,4,2,1,4,2,2,1,3]\n",
    "target_ = 6\n",
    "solution = Solution()\n",
    "solution.combinationSum2(cands_, target_)"
   ]
  },
  {
   "cell_type": "code",
   "execution_count": null,
   "metadata": {},
   "outputs": [],
   "source": []
  }
 ],
 "metadata": {
  "kernelspec": {
   "display_name": "TF2",
   "language": "python",
   "name": "tf2"
  },
  "language_info": {
   "codemirror_mode": {
    "name": "ipython",
    "version": 3
   },
   "file_extension": ".py",
   "mimetype": "text/x-python",
   "name": "python",
   "nbconvert_exporter": "python",
   "pygments_lexer": "ipython3",
   "version": "3.6.2"
  }
 },
 "nbformat": 4,
 "nbformat_minor": 4
}
