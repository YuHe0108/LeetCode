{
 "cells": [
  {
   "cell_type": "raw",
   "metadata": {},
   "source": [
    "您会得到一个表示图像的 nxn 2D矩阵。将图像旋转90度（顺时针）。\n",
    "注意：您必须就地旋转图像，这意味着您必须直接修改输入2D矩阵。不要分配另一个2D矩阵并进行旋转。\n",
    "\n",
    "例1：\n",
    "    Given input matrix = \n",
    "        [\n",
    "          [1,2,3],\n",
    "          [4,5,6],\n",
    "          [7,8,9]\n",
    "        ],\n",
    "\n",
    "        rotate the input matrix in-place such that it becomes:\n",
    "        [\n",
    "          [7,4,1],\n",
    "          [8,5,2],\n",
    "          [9,6,3]\n",
    "        ]\n",
    "\n",
    "例2：\n",
    "    Given input matrix =\n",
    "        [\n",
    "          [ 5, 1, 9,11],\n",
    "          [ 2, 4, 8,10],\n",
    "          [13, 3, 6, 7],\n",
    "          [15,14,12,16]\n",
    "        ], \n",
    "\n",
    "        rotate the input matrix in-place such that it becomes:\n",
    "        [\n",
    "          [15,13, 2, 5],\n",
    "          [14, 3, 4, 1],\n",
    "          [12, 6, 8, 9],\n",
    "          [16, 7,10,11]\n",
    "        ]"
   ]
  },
  {
   "cell_type": "markdown",
   "metadata": {},
   "source": [
    "![avatar](48.jpg)"
   ]
  },
  {
   "cell_type": "code",
   "execution_count": 37,
   "metadata": {},
   "outputs": [],
   "source": [
    "class Solution:\n",
    "    def rotate(self, mat) -> None:\n",
    "        \"\"\"\n",
    "        Do not return anything, modify matrix in-place instead.\n",
    "        \"\"\"\n",
    "        cols = rows = len(mat)\n",
    "        \n",
    "        for row in range(rows):\n",
    "            for col in range(cols):\n",
    "                if col > row:\n",
    "                    mat[row][col], mat[col][row] = mat[col][row], mat[row][col]\n",
    "        \n",
    "        for row in range(rows):\n",
    "            for col in range(cols // 2):\n",
    "                mat[row][col], mat[row][cols-col-1] = mat[row][cols-col-1], mat[row][col]"
   ]
  },
  {
   "cell_type": "code",
   "execution_count": 38,
   "metadata": {},
   "outputs": [
    {
     "name": "stdout",
     "output_type": "stream",
     "text": [
      "[[7, 4, 1], [8, 5, 2], [9, 6, 3]]\n"
     ]
    }
   ],
   "source": [
    "mat_ = [\n",
    "          [1,2,3],\n",
    "          [4,5,6],\n",
    "          [7,8,9]\n",
    "       ]\n",
    "solution = Solution()\n",
    "solution.rotate(mat_)"
   ]
  },
  {
   "cell_type": "code",
   "execution_count": null,
   "metadata": {},
   "outputs": [],
   "source": []
  }
 ],
 "metadata": {
  "kernelspec": {
   "display_name": "TF2",
   "language": "python",
   "name": "tf2"
  },
  "language_info": {
   "codemirror_mode": {
    "name": "ipython",
    "version": 3
   },
   "file_extension": ".py",
   "mimetype": "text/x-python",
   "name": "python",
   "nbconvert_exporter": "python",
   "pygments_lexer": "ipython3",
   "version": "3.6.2"
  }
 },
 "nbformat": 4,
 "nbformat_minor": 4
}
