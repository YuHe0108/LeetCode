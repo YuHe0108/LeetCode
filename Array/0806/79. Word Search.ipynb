{
 "cells": [
  {
   "cell_type": "raw",
   "metadata": {},
   "source": [
    "    给定一个2D板和一个单词，查找单词是否存在于网格中。\n",
    "    该单词可以由顺序相邻的单元格的字母构成，其中“相邻”单元格是水平或垂直相邻的单元格。\n",
    "    同一字母单元不得重复使用。\n",
    "    \n",
    "    约束：\n",
    "        1、board和单词仅由小写和大写英文字母组成。\n",
    "        2、1 <= board.length <= 200 \n",
    "        3、1 <= board [i] .length <= 200 \n",
    "        4、1 <= word.length <= 10 ^ 3\n",
    "    \n",
    "    例1：\n",
    "        board =\n",
    "            [\n",
    "              ['A','B','C','E'],\n",
    "              ['S','F','C','S'],\n",
    "              ['A','D','E','E']\n",
    "            ]\n",
    "        Given word = \"ABCCED\", return true.\n",
    "        Given word = \"SEE\", return true.\n",
    "        Given word = \"ABCB\", return false."
   ]
  },
  {
   "cell_type": "code",
   "execution_count": 14,
   "metadata": {},
   "outputs": [],
   "source": [
    "class Solution:\n",
    "    def exist(self, board, word: str) -> bool:\n",
    "        rows = len(board)\n",
    "        cols = len(board[0])\n",
    "\n",
    "        for row in range(rows):\n",
    "            for col in range(cols):\n",
    "                if self.dfs(row, col, board, word):\n",
    "                    return True\n",
    "        return False\n",
    "        \n",
    "    def dfs(self, row, col, board, word):\n",
    "        if len(word) == 0: \n",
    "            return True\n",
    "        if row < 0 or row >= len(board) or col < 0 or col >= len(board[0]):\n",
    "            return False\n",
    "        \n",
    "        if board[row][col] == word[0]:\n",
    "            board[row][col] = '~'\n",
    "            if self.dfs(\n",
    "                row+1, col, board, word[1:]) or self.dfs(\n",
    "                row-1, col, board, word[1:]) or self.dfs(\n",
    "                row, col+1, board, word[1:]) or self.dfs(\n",
    "                row, col-1, board, word[1:]):\n",
    "                return True\n",
    "            board[row][col] = word[0]\n",
    "        return False"
   ]
  },
  {
   "cell_type": "code",
   "execution_count": 15,
   "metadata": {},
   "outputs": [
    {
     "data": {
      "text/plain": [
       "False"
      ]
     },
     "execution_count": 15,
     "metadata": {},
     "output_type": "execute_result"
    }
   ],
   "source": [
    "board_ = [\n",
    "          ['A','B','C','E'],\n",
    "          ['S','F','C','S'],\n",
    "          ['A','D','E','E']\n",
    "         ]\n",
    "word_  = 'ABA'\n",
    "solution = Solution()\n",
    "solution.exist(board_, word_)"
   ]
  },
  {
   "cell_type": "code",
   "execution_count": null,
   "metadata": {},
   "outputs": [],
   "source": []
  }
 ],
 "metadata": {
  "kernelspec": {
   "display_name": "TF2",
   "language": "python",
   "name": "tf2"
  },
  "language_info": {
   "codemirror_mode": {
    "name": "ipython",
    "version": 3
   },
   "file_extension": ".py",
   "mimetype": "text/x-python",
   "name": "python",
   "nbconvert_exporter": "python",
   "pygments_lexer": "ipython3",
   "version": "3.6.2"
  }
 },
 "nbformat": 4,
 "nbformat_minor": 4
}
