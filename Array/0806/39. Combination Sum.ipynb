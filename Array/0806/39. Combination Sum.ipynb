{
 "cells": [
  {
   "cell_type": "raw",
   "metadata": {},
   "source": [
    "    给定一组候选编号（候选）（无重复）和目标编号（目标），\n",
    "    在候选编号总和为目标的候选中找到所有唯一组合。\n",
    "    可以从候选人无限制的次数中选择相同的重复数。\n",
    "    注意：所有数字（包括目标）将为正整数。解决方案集不得包含重复的组合。\n",
    "    \n",
    "    例1：\n",
    "    Input: candidates = [2,3,6,7], target = 7,\n",
    "    Output:\n",
    "            A solution set is:\n",
    "            [\n",
    "              [7],\n",
    "              [2,2,3]\n",
    "            ]\n",
    "    例2：\n",
    "        Input: candidates = [2,3,5], target = 8,\n",
    "       \n",
    "        Output:\n",
    "            A solution set is:\n",
    "            [\n",
    "              [2,2,2,2],\n",
    "              [2,3,3],\n",
    "              [3,5]\n",
    "            ]"
   ]
  },
  {
   "cell_type": "code",
   "execution_count": 14,
   "metadata": {},
   "outputs": [],
   "source": [
    "class Solution:\n",
    "    def combinationSum(self, cand, target: int):\n",
    "        results = [[]]\n",
    "        start_index = 0\n",
    "        return self.helper(cand, target, start_index, results)\n",
    "\n",
    "    def helper(self, cand, target, start_index, results):\n",
    "        if start_index == len(cand) - 1:\n",
    "            return False\n",
    "        if sum(temp) == target:\n",
    "            results.append(temp)\n",
    "            return True\n",
    "        else:\n",
    "            for cand_val in cand:\n",
    "                temp = []\n",
    "                if sum(temp) + cand_val < target and self.helper(cand, target, start_index+1, results):\n",
    "                    temp.append(can_val)\n",
    "        return results"
   ]
  },
  {
   "cell_type": "code",
   "execution_count": 19,
   "metadata": {},
   "outputs": [],
   "source": [
    "class Solution:\n",
    "    def combinationSum(self, cand, target):\n",
    "        res = []\n",
    "        self.backtracking(0, cand, [], target, res)\n",
    "        return res\n",
    "    \n",
    "    def backtracking(self, index, cand, item, target, res):\n",
    "        if sum(list(item)) == target:\n",
    "            print(item)\n",
    "            res.append(list(item))\n",
    "            return\n",
    "        if sum(item) > target:\n",
    "            return \n",
    "        for i in range(index, len(cand)):\n",
    "            item.append(cand[i])\n",
    "            self.backtracking(i, cand, item, target, res) # item的状态发生了变化\n",
    "            item.pop()"
   ]
  },
  {
   "cell_type": "code",
   "execution_count": 20,
   "metadata": {},
   "outputs": [
    {
     "name": "stdout",
     "output_type": "stream",
     "text": [
      "[2, 2, 2, 2]\n",
      "[2, 3, 3]\n",
      "[3, 5]\n"
     ]
    },
    {
     "data": {
      "text/plain": [
       "[[2, 2, 2, 2], [2, 3, 3], [3, 5]]"
      ]
     },
     "execution_count": 20,
     "metadata": {},
     "output_type": "execute_result"
    }
   ],
   "source": [
    "candidates_ = [2,3,5]\n",
    "target_ = 8\n",
    "solution = Solution()\n",
    "solution.combinationSum(candidates_, target_)"
   ]
  },
  {
   "cell_type": "code",
   "execution_count": null,
   "metadata": {},
   "outputs": [],
   "source": []
  }
 ],
 "metadata": {
  "kernelspec": {
   "display_name": "TF2",
   "language": "python",
   "name": "tf2"
  },
  "language_info": {
   "codemirror_mode": {
    "name": "ipython",
    "version": 3
   },
   "file_extension": ".py",
   "mimetype": "text/x-python",
   "name": "python",
   "nbconvert_exporter": "python",
   "pygments_lexer": "ipython3",
   "version": "3.6.2"
  }
 },
 "nbformat": 4,
 "nbformat_minor": 4
}
