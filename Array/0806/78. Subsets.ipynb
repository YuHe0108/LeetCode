{
 "cells": [
  {
   "cell_type": "raw",
   "metadata": {},
   "source": [
    "    给定一组不同的整数nums，返回所有可能的子集（幂集）。注意：解决方案集不得包含重复的子集。\n",
    "    \n",
    "    例1：\n",
    "        Input: nums = [1,2,3]\n",
    "        Output:\n",
    "        [\n",
    "          [3],\n",
    "          [1],\n",
    "          [2],\n",
    "          [1,2,3],\n",
    "          [1,3],\n",
    "          [2,3],\n",
    "          [1,2],\n",
    "          []\n",
    "        ]"
   ]
  },
  {
   "cell_type": "markdown",
   "metadata": {},
   "source": [
    "![avatar](78.jpg)"
   ]
  },
  {
   "cell_type": "code",
   "execution_count": 21,
   "metadata": {},
   "outputs": [],
   "source": [
    "class Solution:\n",
    "    def subsets(self, nums):\n",
    "        self.item = []\n",
    "        self.results = []\n",
    "        self.results.append(self.item)\n",
    "        self.helper(0, nums, self.item, self.results)\n",
    "        print(self.results)\n",
    "        return \n",
    "    \n",
    "    def helper(self, start_index, nums, item, results):\n",
    "        if start_index >= len(nums):\n",
    "            return\n",
    "        else:\n",
    "            item.append(nums[start_index])\n",
    "            results.append(self.item)\n",
    "            self.helper(start_index+1, nums, item, results)\n",
    "            item.pop()\n",
    "            self.helper(start_index+1, nums, item, results)"
   ]
  },
  {
   "cell_type": "code",
   "execution_count": 84,
   "metadata": {},
   "outputs": [],
   "source": [
    "class Solution:\n",
    "    def subsets(self, nums):\n",
    "        res = []\n",
    "        self.backtracking(res,0,[],nums)\n",
    "        return res\n",
    "    \n",
    "    def backtracking(self,res,start,subset,nums):\n",
    "        res.append(list(subset))\n",
    "        for i in range(start,len(nums)):\n",
    "            subset.append(nums[i])\n",
    "            self.backtracking(res,i+1,subset,nums)\n",
    "            subset.pop()"
   ]
  },
  {
   "cell_type": "code",
   "execution_count": 92,
   "metadata": {},
   "outputs": [],
   "source": [
    "class Solution:\n",
    "    def subsets(self, nums):\n",
    "        res = []\n",
    "        self.bt([], res, 0, nums)\n",
    "        return res\n",
    "    \n",
    "    def bt(self, subset, res, index, nums):\n",
    "        res.append(list(subset))\n",
    "        for i in range(index, len(nums)):\n",
    "            subset.append(nums[i])\n",
    "            self.bt(subset, res, i+1, nums)\n",
    "            subset.pop()"
   ]
  },
  {
   "cell_type": "code",
   "execution_count": 93,
   "metadata": {},
   "outputs": [
    {
     "data": {
      "text/plain": [
       "[[], [1], [1, 2], [1, 2, 3], [1, 3], [2], [2, 3], [3]]"
      ]
     },
     "execution_count": 93,
     "metadata": {},
     "output_type": "execute_result"
    }
   ],
   "source": [
    "nums_ = [1, 2, 3]\n",
    "solution = Solution()\n",
    "solution.subsets(nums_)"
   ]
  },
  {
   "cell_type": "code",
   "execution_count": 61,
   "metadata": {},
   "outputs": [],
   "source": [
    "class Solution:\n",
    "    def subsets(self, nums):\n",
    "        results = [[]]\n",
    "        for i in range(len(nums)):\n",
    "            single_val = [nums[i]]\n",
    "            if single_val not in results:\n",
    "                results.append(single_val)\n",
    "\n",
    "            for j in range(i+1, len(nums)):\n",
    "                single_val.append(nums[j])\n",
    "                print(single_val)\n",
    "        print(results)\n",
    "        return "
   ]
  },
  {
   "cell_type": "code",
   "execution_count": null,
   "metadata": {},
   "outputs": [],
   "source": []
  },
  {
   "cell_type": "code",
   "execution_count": null,
   "metadata": {},
   "outputs": [],
   "source": []
  }
 ],
 "metadata": {
  "kernelspec": {
   "display_name": "TF2",
   "language": "python",
   "name": "tf2"
  },
  "language_info": {
   "codemirror_mode": {
    "name": "ipython",
    "version": 3
   },
   "file_extension": ".py",
   "mimetype": "text/x-python",
   "name": "python",
   "nbconvert_exporter": "python",
   "pygments_lexer": "ipython3",
   "version": "3.6.2"
  }
 },
 "nbformat": 4,
 "nbformat_minor": 4
}
