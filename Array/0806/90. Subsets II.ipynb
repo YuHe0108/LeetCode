{
 "cells": [
  {
   "cell_type": "raw",
   "metadata": {},
   "source": [
    "给定一组可能包含重复项的整数，nums返回所有可能的子集（正序排序）。\n",
    "注意：解决方案集不能包含重复的子集。\n",
    "\n",
    "例1：\n",
    "    Input: [1,2,2]\n",
    "    Output:\n",
    "    [\n",
    "      [2],\n",
    "      [1],\n",
    "      [1,2,2],\n",
    "      [2,2],\n",
    "      [1,2],\n",
    "      []\n",
    "    ]"
   ]
  },
  {
   "cell_type": "code",
   "execution_count": 19,
   "metadata": {},
   "outputs": [],
   "source": [
    "class Solution:\n",
    "    def subsetsWithDup(self, nums):\n",
    "        nums.sort()\n",
    "        res = []\n",
    "        self.dfs(0, nums, [], res)\n",
    "        res.append([])\n",
    "        return res\n",
    "    \n",
    "    def dfs(self, index, nums, item, res):  \n",
    "        for i in range(index, len(nums)):\n",
    "            item.append(nums[i])\n",
    "            if item not in res:\n",
    "                res.append(list(item))\n",
    "            self.dfs(i+1, nums, item, res)\n",
    "            item.pop()\n",
    "        return "
   ]
  },
  {
   "cell_type": "code",
   "execution_count": 20,
   "metadata": {},
   "outputs": [
    {
     "data": {
      "text/plain": [
       "[[1],\n",
       " [1, 4],\n",
       " [1, 4, 4],\n",
       " [1, 4, 4, 4],\n",
       " [1, 4, 4, 4, 4],\n",
       " [4],\n",
       " [4, 4],\n",
       " [4, 4, 4],\n",
       " [4, 4, 4, 4],\n",
       " []]"
      ]
     },
     "execution_count": 20,
     "metadata": {},
     "output_type": "execute_result"
    }
   ],
   "source": [
    "nums_ = [4,4,4,1,4]\n",
    "solution = Solution()\n",
    "solution.subsetsWithDup(nums_)"
   ]
  },
  {
   "cell_type": "code",
   "execution_count": null,
   "metadata": {},
   "outputs": [],
   "source": [
    "[[],[1],[1,4],[1,4,4],[1,4,4,4],[1,4,4,4,4],[4],[4,4],[4,4,4],[4,4,4,4]]"
   ]
  }
 ],
 "metadata": {
  "kernelspec": {
   "display_name": "TF2",
   "language": "python",
   "name": "tf2"
  },
  "language_info": {
   "codemirror_mode": {
    "name": "ipython",
    "version": 3
   },
   "file_extension": ".py",
   "mimetype": "text/x-python",
   "name": "python",
   "nbconvert_exporter": "python",
   "pygments_lexer": "ipython3",
   "version": "3.6.2"
  }
 },
 "nbformat": 4,
 "nbformat_minor": 4
}
