{
 "cells": [
  {
   "cell_type": "raw",
   "metadata": {},
   "source": [
    "    对于某些固定的 N，如果数组 A 是整数 1, 2, ..., N 组成的排列，使得：\n",
    "\n",
    "    对于每个 i < j，都不存在 k 满足 i < k < j 使得 A[k] * 2 = A[i] + A[j]。\n",
    "\n",
    "    那么数组 A 是漂亮数组。\n",
    "\n",
    "    给定 N，返回任意漂亮数组 A（保证存在一个）。\n",
    "\n",
    "示例 1：\n",
    "    输入：4\n",
    "    输出：[2,1,4,3]\n",
    "\n",
    "示例 2：\n",
    "    输入：5\n",
    "    输出：[3,1,2,5,4]\n",
    "\n",
    "提示：\n",
    "    1 <= N <= 1000\n"
   ]
  },
  {
   "cell_type": "code",
   "execution_count": 11,
   "metadata": {},
   "outputs": [],
   "source": [
    "class Solution:\n",
    "    def beautifulArray(self, N: int):\n",
    "        # 将res分成两半，左边都是奇数，右边都是偶数，因为奇数和偶数的平均数，是小数，肯定不在两者之间存在\n",
    "        res = [1]\n",
    "        while len(res) < N:\n",
    "            print([x * 2 - 1 for x in res])\n",
    "            print([x * 2 for x in res])\n",
    "            res = [x * 2 - 1 for x in res] + [x * 2 for x in res]\n",
    "        return [x for x in res if x <= N]"
   ]
  },
  {
   "cell_type": "code",
   "execution_count": 13,
   "metadata": {},
   "outputs": [
    {
     "name": "stdout",
     "output_type": "stream",
     "text": [
      "[1]\n",
      "[2]\n",
      "[1, 3]\n",
      "[2, 4]\n",
      "[1, 5, 3, 7]\n",
      "[2, 6, 4, 8]\n"
     ]
    },
    {
     "data": {
      "text/plain": [
       "[1, 5, 3, 2, 4]"
      ]
     },
     "execution_count": 13,
     "metadata": {},
     "output_type": "execute_result"
    }
   ],
   "source": [
    "solution = Solution()\n",
    "solution.beautifulArray(5)"
   ]
  },
  {
   "cell_type": "code",
   "execution_count": null,
   "metadata": {},
   "outputs": [],
   "source": []
  }
 ],
 "metadata": {
  "kernelspec": {
   "display_name": "Python 3",
   "language": "python",
   "name": "python3"
  },
  "language_info": {
   "codemirror_mode": {
    "name": "ipython",
    "version": 3
   },
   "file_extension": ".py",
   "mimetype": "text/x-python",
   "name": "python",
   "nbconvert_exporter": "python",
   "pygments_lexer": "ipython3",
   "version": "3.6.2"
  }
 },
 "nbformat": 4,
 "nbformat_minor": 4
}
