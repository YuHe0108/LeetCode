{
 "cells": [
  {
   "cell_type": "code",
   "execution_count": null,
   "metadata": {},
   "outputs": [],
   "source": []
  },
  {
   "cell_type": "code",
   "execution_count": null,
   "metadata": {},
   "outputs": [],
   "source": []
  },
  {
   "cell_type": "code",
   "execution_count": 53,
   "metadata": {},
   "outputs": [],
   "source": [
    "from typing import List\n",
    "from collections import defaultdict\n",
    "from sortedcontainers import SortedList\n",
    "\n",
    "class Solution:\n",
    "    def alertNames(self, keyName: List[str], keyTime: List[str]) -> List[str]:\n",
    "        count = defaultdict(SortedList)\n",
    "        for i in range(len(keyName)):\n",
    "            time = keyTime[i].split(':')\n",
    "            mintues = int(time[0]) * 60 + int(time[1])\n",
    "            count[keyName[i]].add(mintues)\n",
    "        \n",
    "        res = []\n",
    "        for name, time_list in count.items():\n",
    "            n = len(time_list)\n",
    "            if n < 3:\n",
    "                continue\n",
    "            for i in range(n - 3 + 1):\n",
    "                if time_list[i+3-1] - time_list[i] <= 60: # 相邻的三个时间段内，是否差值小于60\n",
    "                    res.append(name)\n",
    "                    break\n",
    "        return sorted(res)"
   ]
  },
  {
   "cell_type": "code",
   "execution_count": null,
   "metadata": {},
   "outputs": [],
   "source": []
  },
  {
   "cell_type": "code",
   "execution_count": 57,
   "metadata": {},
   "outputs": [],
   "source": [
    "from typing import List\n",
    "import collections\n",
    "\n",
    "class Solution:\n",
    "    def alertNames(self, keyName: List[str], keyTime: List[str]) -> List[str]:\n",
    "        name_to_time = collections.defaultdict(list)\n",
    "        for name, hour_minute in zip(keyName, keyTime):\n",
    "            hour, minute = map(int, hour_minute.split(':'))\n",
    "            time = hour * 60 + minute\n",
    "            name_to_time[name].append(time)\n",
    "        names = []    \n",
    "        for name, time_list in name_to_time.items():\n",
    "            time_list.sort()\n",
    "            for i, time in enumerate(time_list):\n",
    "                if i >= 2 and time - time_list[i - 2] <= 60:\n",
    "                    names.append(name)\n",
    "                    break\n",
    "        return sorted(names)"
   ]
  },
  {
   "cell_type": "code",
   "execution_count": 58,
   "metadata": {},
   "outputs": [
    {
     "data": {
      "text/plain": [
       "['clare', 'leslie']"
      ]
     },
     "execution_count": 58,
     "metadata": {},
     "output_type": "execute_result"
    }
   ],
   "source": [
    "solution = Solution()\n",
    "solution.alertNames( keyName = [\"leslie\",\"leslie\",\"leslie\",\"clare\",\"clare\",\"clare\",\"clare\"], \n",
    "                    keyTime = [\"13:00\",\"13:20\",\"14:00\",\"18:00\",\"18:51\",\"19:30\",\"19:49\"])"
   ]
  },
  {
   "cell_type": "code",
   "execution_count": 25,
   "metadata": {},
   "outputs": [
    {
     "data": {
      "text/plain": [
       "10"
      ]
     },
     "execution_count": 25,
     "metadata": {},
     "output_type": "execute_result"
    }
   ],
   "source": [
    "int('10')"
   ]
  },
  {
   "cell_type": "code",
   "execution_count": 42,
   "metadata": {},
   "outputs": [],
   "source": [
    "for i in range(10):\n",
    "    if i == 1:\n",
    "        break\n",
    "else:\n",
    "    print(i)\n",
    "    print(i)"
   ]
  },
  {
   "cell_type": "code",
   "execution_count": null,
   "metadata": {},
   "outputs": [],
   "source": []
  },
  {
   "cell_type": "code",
   "execution_count": null,
   "metadata": {},
   "outputs": [],
   "source": []
  }
 ],
 "metadata": {
  "kernelspec": {
   "display_name": "Python 3",
   "language": "python",
   "name": "python3"
  },
  "language_info": {
   "codemirror_mode": {
    "name": "ipython",
    "version": 3
   },
   "file_extension": ".py",
   "mimetype": "text/x-python",
   "name": "python",
   "nbconvert_exporter": "python",
   "pygments_lexer": "ipython3",
   "version": "3.6.2"
  }
 },
 "nbformat": 4,
 "nbformat_minor": 4
}
