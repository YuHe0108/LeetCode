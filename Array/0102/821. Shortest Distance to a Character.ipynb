{
 "cells": [
  {
   "cell_type": "code",
   "execution_count": null,
   "metadata": {},
   "outputs": [],
   "source": []
  },
  {
   "cell_type": "code",
   "execution_count": null,
   "metadata": {},
   "outputs": [],
   "source": []
  },
  {
   "cell_type": "code",
   "execution_count": 9,
   "metadata": {},
   "outputs": [],
   "source": [
    "from collections import defaultdict\n",
    "\n",
    "class Solution:\n",
    "    def shortestToChar(self, S: str, C: str):\n",
    "        count = defaultdict(list)\n",
    "        for i, s in enumerate(S):\n",
    "            if s == C:\n",
    "                count[s].append(i)\n",
    "        \n",
    "        res = []\n",
    "        for i, s in enumerate(S):\n",
    "            v = float('inf')\n",
    "            for k in count[C]:\n",
    "                v = min(v, abs(i-k))\n",
    "            res.append(v)\n",
    "        return res"
   ]
  },
  {
   "cell_type": "code",
   "execution_count": null,
   "metadata": {},
   "outputs": [],
   "source": []
  },
  {
   "cell_type": "code",
   "execution_count": 18,
   "metadata": {},
   "outputs": [],
   "source": [
    "from collections import defaultdict\n",
    "import bisect\n",
    "\n",
    "class Solution:\n",
    "    def shortestToChar(self, S: str, C: str):\n",
    "        count = []\n",
    "        for i, s in enumerate(S):\n",
    "            if s == C:\n",
    "                count.append(i)\n",
    "        \n",
    "        res = []\n",
    "        for i, s in enumerate(S):\n",
    "            if i in count:\n",
    "                res.append(0)\n",
    "            else:\n",
    "                idx = bisect.bisect(count, i)\n",
    "                if idx == 0:\n",
    "                    v1 = abs(i - count[idx]) if idx != len(count) else abs(i - count[idx-1])\n",
    "                    v2 = abs(i - count[idx+1]) if idx+1 < len(count) else float('inf')\n",
    "                    res.append(min(v1, v2))\n",
    "                elif idx == len(count) - 1:\n",
    "                    v1 = abs(i - count[idx]) if idx != len(count) else abs(i - count[idx-1])\n",
    "                    v2 = abs(i - count[idx-1]) if idx-1 >= 0 else float('inf')\n",
    "                    res.append(min(v1, v2))\n",
    "                else:\n",
    "                    v1 = abs(i - count[idx]) if idx != len(count) else abs(i - count[idx-1])\n",
    "                    v2 = abs(i - count[idx-1]) if idx-1 >= 0 else float('inf')\n",
    "                    v3 = abs(i - count[idx+1]) if idx+1 < len(count) else float('inf')\n",
    "                    res.append(min(v1, v2, v3))\n",
    "        return res"
   ]
  },
  {
   "cell_type": "code",
   "execution_count": 38,
   "metadata": {},
   "outputs": [],
   "source": [
    "class Solution:\n",
    "    def shortestToChar(self, S: str, C: str):\n",
    "        res = [float('inf')]\n",
    "        if S[0] == C:\n",
    "            res[0] = 0\n",
    "        for i in range(1, len(S)):\n",
    "            res.append(res[i-1] + 1)\n",
    "            if S[i] == C:\n",
    "                res[i] = 0\n",
    "        for i in range(len(S)-2, -1, -1):\n",
    "            res[i] = min(res[i], res[i+1] + 1)\n",
    "        return res"
   ]
  },
  {
   "cell_type": "code",
   "execution_count": 39,
   "metadata": {},
   "outputs": [
    {
     "name": "stdout",
     "output_type": "stream",
     "text": [
      "[inf, inf, 0, 1]\n"
     ]
    },
    {
     "data": {
      "text/plain": [
       "[2, 1, 0, 1]"
      ]
     },
     "execution_count": 39,
     "metadata": {},
     "output_type": "execute_result"
    }
   ],
   "source": [
    "solution = Solution()\n",
    "solution.shortestToChar(\"aaba\", \"b\")"
   ]
  },
  {
   "cell_type": "code",
   "execution_count": null,
   "metadata": {},
   "outputs": [],
   "source": []
  }
 ],
 "metadata": {
  "kernelspec": {
   "display_name": "Python 3",
   "language": "python",
   "name": "python3"
  },
  "language_info": {
   "codemirror_mode": {
    "name": "ipython",
    "version": 3
   },
   "file_extension": ".py",
   "mimetype": "text/x-python",
   "name": "python",
   "nbconvert_exporter": "python",
   "pygments_lexer": "ipython3",
   "version": "3.6.2"
  }
 },
 "nbformat": 4,
 "nbformat_minor": 4
}
