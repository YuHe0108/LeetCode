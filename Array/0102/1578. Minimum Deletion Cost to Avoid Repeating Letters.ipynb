{
 "cells": [
  {
   "cell_type": "code",
   "execution_count": null,
   "metadata": {},
   "outputs": [],
   "source": []
  },
  {
   "cell_type": "code",
   "execution_count": null,
   "metadata": {},
   "outputs": [],
   "source": []
  },
  {
   "cell_type": "code",
   "execution_count": null,
   "metadata": {},
   "outputs": [],
   "source": []
  },
  {
   "cell_type": "code",
   "execution_count": 26,
   "metadata": {},
   "outputs": [],
   "source": [
    "class Solution:\n",
    "    def minCost(self, s: str, cost):\n",
    "        presum = [0]\n",
    "        for n in cost:\n",
    "            presum.append(presum[-1] + n)\n",
    "        \n",
    "        # 找到连续的一段字符串，只保留删除成本最大的那一个，其余的删除\n",
    "        cnt = 0\n",
    "        idx = 0\n",
    "        n = len(s)\n",
    "        while idx < n-1:\n",
    "            if s[idx] == s[idx+1]: # 如果和下一位的字母相同\n",
    "                s_idx = idx\n",
    "                while idx < n-1 and s[idx] == s[idx+1]:\n",
    "                    idx += 1\n",
    "                max_cost = max(cost[s_idx: idx+1])\n",
    "                cnt += presum[idx+1] - presum[s_idx] - max_cost\n",
    "            idx += 1\n",
    "        return cnt"
   ]
  },
  {
   "cell_type": "code",
   "execution_count": 27,
   "metadata": {},
   "outputs": [
    {
     "data": {
      "text/plain": [
       "26"
      ]
     },
     "execution_count": 27,
     "metadata": {},
     "output_type": "execute_result"
    }
   ],
   "source": [
    "solution = Solution()\n",
    "solution.minCost(\"aaabbbabbbb\", [3,5,10,7,5,3,5,5,4,8,1])"
   ]
  },
  {
   "cell_type": "code",
   "execution_count": null,
   "metadata": {},
   "outputs": [],
   "source": [
    "\"aaabbbabbbb\" \n",
    "[3,5,10,7,5,3,5,5,4,8,1]"
   ]
  }
 ],
 "metadata": {
  "kernelspec": {
   "display_name": "Python 3",
   "language": "python",
   "name": "python3"
  },
  "language_info": {
   "codemirror_mode": {
    "name": "ipython",
    "version": 3
   },
   "file_extension": ".py",
   "mimetype": "text/x-python",
   "name": "python",
   "nbconvert_exporter": "python",
   "pygments_lexer": "ipython3",
   "version": "3.6.2"
  }
 },
 "nbformat": 4,
 "nbformat_minor": 4
}
