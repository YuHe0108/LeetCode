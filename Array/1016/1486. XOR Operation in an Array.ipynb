{
 "cells": [
  {
   "cell_type": "raw",
   "metadata": {},
   "source": [
    "说明：\n",
    "    给你两个整数，n 和 start 。\n",
    "    数组 nums 定义为：nums[i] = start + 2*i（下标从 0 开始），且 n == nums.length 。\n",
    "    请返回 nums 中所有元素按位异或（XOR）后得到的结果。\n",
    "\n",
    "示例 1：\n",
    "    输入：n = 5, start = 0\n",
    "    输出：8\n",
    "    解释：数组 nums 为 [0, 2, 4, 6, 8]，其中 (0 ^ 2 ^ 4 ^ 6 ^ 8) = 8 。\n",
    "         \"^\" 为按位异或 XOR 运算符。\n",
    "\n",
    "示例 2：\n",
    "    输入：n = 4, start = 3\n",
    "    输出：8\n",
    "    解释：数组 nums 为 [3, 5, 7, 9]，其中 (3 ^ 5 ^ 7 ^ 9) = 8.\n",
    "\n",
    "示例 3：\n",
    "    输入：n = 1, start = 7\n",
    "    输出：7\n",
    "    \n",
    "示例 4：\n",
    "    输入：n = 10, start = 5\n",
    "    输出：2\n",
    "\n",
    "提示：\n",
    "    1、1 <= n <= 1000\n",
    "    2、0 <= start <= 1000\n",
    "    3、n == nums.length"
   ]
  },
  {
   "cell_type": "code",
   "execution_count": 3,
   "metadata": {},
   "outputs": [],
   "source": [
    "class Solution:\n",
    "    def xorOperation(self, n: int, start: int) -> int:\n",
    "        res = []\n",
    "        for i in range(n):\n",
    "            res.append(start + 2 * i)\n",
    "        out = res[0]\n",
    "        for i in range(1, n):\n",
    "            out ^= res[i]\n",
    "        return out"
   ]
  },
  {
   "cell_type": "code",
   "execution_count": 6,
   "metadata": {},
   "outputs": [
    {
     "data": {
      "text/plain": [
       "7"
      ]
     },
     "execution_count": 6,
     "metadata": {},
     "output_type": "execute_result"
    }
   ],
   "source": [
    "solution = Solution()\n",
    "solution.xorOperation(n = 1, start = 7)"
   ]
  },
  {
   "cell_type": "code",
   "execution_count": 15,
   "metadata": {},
   "outputs": [
    {
     "data": {
      "text/plain": [
       "'0b11'"
      ]
     },
     "execution_count": 15,
     "metadata": {},
     "output_type": "execute_result"
    }
   ],
   "source": [
    "bin(3)"
   ]
  },
  {
   "cell_type": "code",
   "execution_count": null,
   "metadata": {},
   "outputs": [],
   "source": []
  }
 ],
 "metadata": {
  "kernelspec": {
   "display_name": "Python 3",
   "language": "python",
   "name": "python3"
  },
  "language_info": {
   "codemirror_mode": {
    "name": "ipython",
    "version": 3
   },
   "file_extension": ".py",
   "mimetype": "text/x-python",
   "name": "python",
   "nbconvert_exporter": "python",
   "pygments_lexer": "ipython3",
   "version": "3.6.2"
  }
 },
 "nbformat": 4,
 "nbformat_minor": 4
}
