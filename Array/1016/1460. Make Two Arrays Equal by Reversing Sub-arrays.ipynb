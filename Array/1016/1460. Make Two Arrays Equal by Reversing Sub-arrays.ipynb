{
 "cells": [
  {
   "cell_type": "raw",
   "metadata": {},
   "source": [
    "说明：\n",
    "    给你两个长度相同的整数数组 target 和 arr 。\n",
    "    每一步中，你可以选择 arr 的任意 非空子数组 并将它翻转。你可以执行此过程任意次。\n",
    "    如果你能让 arr 变得与 target 相同，返回 True；否则，返回 False 。\n",
    "\n",
    "示例 1：\n",
    "    输入：target = [1,2,3,4], arr = [2,4,1,3]\n",
    "    输出：true\n",
    "    解释：你可以按照如下步骤使 arr 变成 target：\n",
    "    1- 翻转子数组 [2,4,1] ，arr 变成 [1,4,2,3]\n",
    "    2- 翻转子数组 [4,2] ，arr 变成 [1,2,4,3]\n",
    "    3- 翻转子数组 [4,3] ，arr 变成 [1,2,3,4]\n",
    "    上述方法并不是唯一的，还存在多种将 arr 变成 target 的方法。\n",
    "\n",
    "示例 2：\n",
    "    输入：target = [7], arr = [7]\n",
    "    输出：true\n",
    "    解释：arr 不需要做任何翻转已经与 target 相等。\n",
    "\n",
    "示例 3：\n",
    "    输入：target = [1,12], arr = [12,1]\n",
    "    输出：true\n",
    "\n",
    "示例 4：\n",
    "    输入：target = [3,7,9], arr = [3,7,11]\n",
    "    输出：false\n",
    "    解释：arr 没有数字 9 ，所以无论如何也无法变成 target 。\n",
    "\n",
    "示例 5：\n",
    "    输入：target = [1,1,1,1,1], arr = [1,1,1,1,1]\n",
    "    输出：true\n",
    "\n",
    "提示：\n",
    "    1、target.length == arr.length\n",
    "    2、1 <= target.length <= 1000\n",
    "    3、1 <= target[i] <= 1000\n",
    "    4、1 <= arr[i] <= 1000"
   ]
  },
  {
   "cell_type": "code",
   "execution_count": 3,
   "metadata": {},
   "outputs": [],
   "source": [
    "from collections import Counter\n",
    "\n",
    "class Solution:\n",
    "    def canBeEqual(self, target, arr) -> bool:\n",
    "        if target == arr:\n",
    "            return True\n",
    "        t_count = Counter(target)\n",
    "        a_count = Counter(arr)\n",
    "        print(t_count, a_count)\n",
    "        if t_count == a_count:\n",
    "            return True\n",
    "        return False"
   ]
  },
  {
   "cell_type": "code",
   "execution_count": 4,
   "metadata": {},
   "outputs": [
    {
     "name": "stdout",
     "output_type": "stream",
     "text": [
      "Counter({1: 1, 2: 1, 3: 1, 4: 1}) Counter({2: 1, 4: 1, 1: 1, 3: 1})\n"
     ]
    },
    {
     "data": {
      "text/plain": [
       "True"
      ]
     },
     "execution_count": 4,
     "metadata": {},
     "output_type": "execute_result"
    }
   ],
   "source": [
    "solution = Solution()\n",
    "solution.canBeEqual(target = [1,2,3,4], arr = [2,4,4, 1,3])"
   ]
  },
  {
   "cell_type": "code",
   "execution_count": null,
   "metadata": {},
   "outputs": [],
   "source": []
  }
 ],
 "metadata": {
  "kernelspec": {
   "display_name": "Python 3",
   "language": "python",
   "name": "python3"
  },
  "language_info": {
   "codemirror_mode": {
    "name": "ipython",
    "version": 3
   },
   "file_extension": ".py",
   "mimetype": "text/x-python",
   "name": "python",
   "nbconvert_exporter": "python",
   "pygments_lexer": "ipython3",
   "version": "3.6.2"
  }
 },
 "nbformat": 4,
 "nbformat_minor": 4
}
