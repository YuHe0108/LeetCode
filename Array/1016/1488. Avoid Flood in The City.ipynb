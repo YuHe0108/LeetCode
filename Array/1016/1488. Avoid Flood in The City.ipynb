{
 "cells": [
  {
   "cell_type": "raw",
   "metadata": {},
   "source": [
    "说明：\n",
    "    你的国家有无数个湖泊，所有湖泊一开始都是空的。\n",
    "    当第 n 个湖泊下雨的时候，如果第 n 个湖泊是空的，那么它就会装满水，否则这个湖泊会发生洪水。\n",
    "    你的目标是避免任意一个湖泊发生洪水。\n",
    "    给你一个整数数组 rains ，其中：\n",
    "        1、rains[i] > 0 表示第 i 天时，第 rains[i] 个湖泊会下雨。\n",
    "        2、rains[i] == 0 表示第 i 天没有湖泊会下雨，你可以选择 一个 湖泊并 抽干 这个湖泊的水。\n",
    "    请返回一个数组 ans ，满足：\n",
    "        1、ans.length == rains.length\n",
    "        2、如果 rains[i] > 0 ，那么ans[i] == -1 。\n",
    "        3、如果 rains[i] == 0 ，ans[i] 是你第 i 天选择抽干的湖泊。\n",
    "        4、如果有多种可行解，请返回它们中的 任意一个 。如果没办法阻止洪水，请返回一个 空的数组 。\n",
    "    请注意，如果你选择抽干一个装满水的湖泊，它会变成一个空的湖泊。但如果你选择抽干一个空的湖泊，那么将无事发生（详情请看示例 4）。\n",
    "\n",
    "示例 1：\n",
    "    输入：rains = [1,2,3,4]\n",
    "    输出：[-1,-1,-1,-1]\n",
    "    解释：第一天后，装满水的湖泊包括 [1]\n",
    "        第二天后，装满水的湖泊包括 [1,2]\n",
    "        第三天后，装满水的湖泊包括 [1,2,3]\n",
    "        第四天后，装满水的湖泊包括 [1,2,3,4]\n",
    "        没有哪一天你可以抽干任何湖泊的水，也没有湖泊会发生洪水。\n",
    "\n",
    "示例 2：\n",
    "    输入：rains = [1,2,0,0,2,1]\n",
    "    输出：[-1,-1,2,1,-1,-1]\n",
    "    解释：第一天后，装满水的湖泊包括 [1]\n",
    "        第二天后，装满水的湖泊包括 [1,2]\n",
    "        第三天后，我们抽干湖泊 2 。所以剩下装满水的湖泊包括 [1]\n",
    "        第四天后，我们抽干湖泊 1 。所以暂时没有装满水的湖泊了。\n",
    "        第五天后，装满水的湖泊包括 [2]。\n",
    "        第六天后，装满水的湖泊包括 [1,2]。\n",
    "        可以看出，这个方案下不会有洪水发生。同时， [-1,-1,1,2,-1,-1] 也是另一个可行的没有洪水的方案。\n",
    "\n",
    "示例 3：\n",
    "    输入：rains = [1,2,0,1,2]\n",
    "    输出：[]\n",
    "        解释：第二天后，装满水的湖泊包括 [1,2]。我们可以在第三天抽干一个湖泊的水。\n",
    "        但第三天后，湖泊 1 和 2 都会再次下雨，所以不管我们第三天抽干哪个湖泊的水，另一个湖泊都会发生洪水。\n",
    "\n",
    "示例 4：\n",
    "    输入：rains = [69,0,0,0,69]\n",
    "    输出：[-1,69,1,1,-1]\n",
    "    解释：任何形如 [-1,69,x,y,-1], [-1,x,69,y,-1] 或者 [-1,x,y,69,-1] 都是可行的解，其中 1 <= x,y <= 10^9\n",
    "\n",
    "示例 5：\n",
    "    输入：rains = [10,20,20]\n",
    "    输出：[]\n",
    "    解释：由于湖泊 20 会连续下 2 天的雨，所以没有没有办法阻止洪水。\n",
    "\n",
    "提示：\n",
    "    1、1 <= rains.length <= 10^5\n",
    "    2、0 <= rains[i] <= 10^9"
   ]
  },
  {
   "cell_type": "code",
   "execution_count": null,
   "metadata": {},
   "outputs": [],
   "source": [
    "from collections import Counter, defaultdict, deque\n",
    "\n",
    "class Solution:\n",
    "    def avoidFlood(self, rains):\n",
    "        N = len(rains)\n",
    "        rain_counter = defaultdict(deque)\n",
    "        for i, r in enumerate(rains):\n",
    "            if r > 0:\n",
    "                rain_counter[r].append(i)\n",
    "                \n",
    "        full_lakes = set()\n",
    "        res = []\n",
    "        for rain in rains:\n",
    "            if rain > 0:\n",
    "                rain_counter[rain].popleft()\n",
    "                if not rain_counter[rain]:\n",
    "                    rain_counter.pop(rain)\n",
    "                    \n",
    "                if rain not in full_lakes:\n",
    "                    full_lakes.add(rain)\n",
    "                else:\n",
    "                    return []\n",
    "                res.append(-1)\n",
    "            else:\n",
    "                next_lake_idx = float('inf')\n",
    "                next_lake = None\n",
    "                if full_lakes:\n",
    "                    for lake in full_lakes:\n",
    "                        if lake in rain_counter and rain_counter[lake][0] < next_lake_idx:\n",
    "                            next_lake_idx = rain_counter[lake][0]\n",
    "                            next_lake = lake\n",
    "                    if next_lake is None:\n",
    "                        res.append(1)\n",
    "                    else:\n",
    "                        res.append(next_lake)\n",
    "                        full_lakes.remove(next_lake)\n",
    "                else:\n",
    "                    res.append(1)\n",
    "        return res"
   ]
  },
  {
   "cell_type": "code",
   "execution_count": 68,
   "metadata": {},
   "outputs": [],
   "source": [
    "from collections import Counter, defaultdict, deque, OrderedDict\n",
    "\n",
    "class Solution:\n",
    "    def avoidFlood(self, rains):\n",
    "        N = len(rains)\n",
    "        next_clear = OrderedDict()\n",
    "        for i, r in enumerate(rains):\n",
    "            if r > 0:\n",
    "                next_clear[i] = r\n",
    "        \n",
    "        full_lakes = set()\n",
    "        res = []\n",
    "        for i, rain in enumerate(rains):\n",
    "            if rain > 0:\n",
    "                next_clear.pop(i)\n",
    "                if rain not in full_lakes:\n",
    "                    full_lakes.add(rain)\n",
    "                else:\n",
    "                    return []\n",
    "                res.append(-1)\n",
    "            else:\n",
    "                if full_lakes and next_clear:\n",
    "                    next_lake = next_clear[list(next_clear)[0]]\n",
    "                    res.append(next_lake)\n",
    "                    if next_lake in full_lakes:\n",
    "                        full_lakes.remove(next_lake)\n",
    "                else:\n",
    "                    res.append(1)\n",
    "        return res"
   ]
  },
  {
   "cell_type": "code",
   "execution_count": 74,
   "metadata": {},
   "outputs": [],
   "source": [
    "from collections import defaultdict\n",
    "import heapq\n",
    "\n",
    "class Solution:\n",
    "    def avoidFlood(self, rains):\n",
    "        cache = defaultdict(list)\n",
    "        for i in range(len(rains)):\n",
    "            cache[rains[i]].append(i)\n",
    "            \n",
    "        full, heap, ans = set(), [], []\n",
    "        for i in range(len(rains)):\n",
    "            if rains[i] == 0:\n",
    "                if heap:\n",
    "                    next_index = heapq.heappop(heap)\n",
    "                    if rains[next_index] in full:\n",
    "                        ans.append(rains[next_index])\n",
    "                        full.remove(rains[next_index])\n",
    "                else:\n",
    "                    ans.append(1)\n",
    "            else:\n",
    "                if rains[i] in full:\n",
    "                    return []\n",
    "                else:\n",
    "                    full.add(rains[i])\n",
    "                    cache[rains[i]].pop(0)\n",
    "                    if cache[rains[i]]:\n",
    "                        heapq.heappush(heap, cache[rains[i]][0])\n",
    "                    ans.append(-1)\n",
    "        return ans"
   ]
  },
  {
   "cell_type": "code",
   "execution_count": 82,
   "metadata": {},
   "outputs": [],
   "source": [
    "from collections import defaultdict\n",
    "import heapq\n",
    "\n",
    "class Solution:\n",
    "    def avoidFlood(self, rains):\n",
    "        cache = defaultdict(list)\n",
    "        for i, r in enumerate(rains):\n",
    "            cache[r].append(i)\n",
    "            \n",
    "        full, heap, ans = set(), [], []\n",
    "        for i, rain in enumerate(rains):\n",
    "            if rain == 0:\n",
    "                if heap:\n",
    "                    next_idx = heapq.heappop(heap)\n",
    "                    if rains[next_idx] in full:\n",
    "                        ans.append(rains[next_idx])\n",
    "                        full.remove(rains[next_idx])\n",
    "                else:\n",
    "                    ans.append(1)\n",
    "            else:\n",
    "                if rain in full:\n",
    "                    return []\n",
    "                else:\n",
    "                    full.add(rain)\n",
    "                    cache[rain].pop(0)\n",
    "                    if cache[rain]:\n",
    "                        heapq.heappush(heap, cache[rain][0])\n",
    "                    ans.append(-1)\n",
    "        return ans"
   ]
  },
  {
   "cell_type": "code",
   "execution_count": 84,
   "metadata": {},
   "outputs": [],
   "source": [
    "from collections import defaultdict\n",
    "import heapq\n",
    "\n",
    "class Solution:\n",
    "    def avoidFlood(self, rains):\n",
    "        cache = defaultdict(list)\n",
    "        for i, r in enumerate(rains):\n",
    "            cache[r].append(i)\n",
    "        \n",
    "        full, heap, ans = set(), [], []\n",
    "        for i, rain in enumerate(rains):\n",
    "            if rain == 0:\n",
    "                if heap:\n",
    "                    next_idx = heapq.heappop(heap)\n",
    "                    if rains[next_idx] in full:\n",
    "                        ans.append(rains[next_idx])\n",
    "                        full.remove(rains[next_idx])\n",
    "                else:\n",
    "                    ans.append(1)\n",
    "            else:\n",
    "                if rain in full:\n",
    "                    return []\n",
    "                else:\n",
    "                    full.add(rain)\n",
    "                    cache[rain].pop(0)\n",
    "                    if cache[rain]:\n",
    "                        heapq.heappush(heap, cache[rain][0])\n",
    "                    ans.append(-1)\n",
    "        return ans"
   ]
  },
  {
   "cell_type": "code",
   "execution_count": 85,
   "metadata": {},
   "outputs": [
    {
     "data": {
      "text/plain": [
       "[-1, -1, 2, 1, -1, -1]"
      ]
     },
     "execution_count": 85,
     "metadata": {},
     "output_type": "execute_result"
    }
   ],
   "source": [
    "solution = Solution()\n",
    "solution.avoidFlood([1,2,0,0,2,1])"
   ]
  },
  {
   "cell_type": "code",
   "execution_count": 6,
   "metadata": {},
   "outputs": [],
   "source": [
    "a = {2}\n",
    "a.remove(2)"
   ]
  },
  {
   "cell_type": "code",
   "execution_count": 44,
   "metadata": {},
   "outputs": [
    {
     "data": {
      "text/plain": [
       "3"
      ]
     },
     "execution_count": 44,
     "metadata": {},
     "output_type": "execute_result"
    }
   ],
   "source": [
    "d = deque()\n",
    "d.append(3)\n",
    "d.popleft()"
   ]
  },
  {
   "cell_type": "code",
   "execution_count": null,
   "metadata": {},
   "outputs": [],
   "source": []
  }
 ],
 "metadata": {
  "kernelspec": {
   "display_name": "Python 3",
   "language": "python",
   "name": "python3"
  },
  "language_info": {
   "codemirror_mode": {
    "name": "ipython",
    "version": 3
   },
   "file_extension": ".py",
   "mimetype": "text/x-python",
   "name": "python",
   "nbconvert_exporter": "python",
   "pygments_lexer": "ipython3",
   "version": "3.6.2"
  }
 },
 "nbformat": 4,
 "nbformat_minor": 4
}
