{
 "cells": [
  {
   "cell_type": "raw",
   "metadata": {},
   "source": [
    "说明：\n",
    "    给定由2n个元素组成的数组num，格式为[x1，x2，...，xn，y1，y2，...，yn]。\n",
    "    返回格式为[x1，y1，x2，y2，...，xn，yn]的数组。\n",
    "\n",
    "Example 1:\n",
    "    Input: nums = [2,5,1,3,4,7], n = 3\n",
    "    Output: [2,3,5,4,1,7] \n",
    "    Explanation: Since x1=2, x2=5, x3=1, y1=3, y2=4, y3=7 then the answer is [2,3,5,4,1,7].\n",
    "\n",
    "Example 2:\n",
    "    Input: nums = [1,2,3,4,4,3,2,1], n = 4\n",
    "    Output: [1,4,2,3,3,2,4,1]\n",
    "\n",
    "Example 3:\n",
    "    Input: nums = [1,1,2,2], n = 2\n",
    "    Output: [1,2,1,2]\n",
    " \n",
    "Constraints:\n",
    "    1、1 <= n <= 500\n",
    "    2、nums.length == 2n\n",
    "    3、1 <= nums[i] <= 10^3"
   ]
  },
  {
   "cell_type": "code",
   "execution_count": 4,
   "metadata": {},
   "outputs": [],
   "source": [
    "class Solution:\n",
    "    def shuffle(self, nums, n):\n",
    "        x_arr = nums[:n]\n",
    "        y_arr = nums[n:]\n",
    "        res = []\n",
    "        for i in range(n):\n",
    "            res.append(x_arr[i])\n",
    "            res.append(y_arr[i])\n",
    "        return res"
   ]
  },
  {
   "cell_type": "code",
   "execution_count": 9,
   "metadata": {},
   "outputs": [],
   "source": [
    "class Solution:\n",
    "    def shuffle(self, nums, n):\n",
    "        res = []\n",
    "        \n",
    "        x = 0\n",
    "        y = n\n",
    "        \n",
    "        for i in range(n):\n",
    "            res.append(nums[x])\n",
    "            res.append(nums[y])\n",
    "            \n",
    "            x+= 1\n",
    "            y+= 1\n",
    "        \n",
    "        return res"
   ]
  },
  {
   "cell_type": "code",
   "execution_count": 7,
   "metadata": {},
   "outputs": [
    {
     "data": {
      "text/plain": [
       "[1, 2, 1, 2]"
      ]
     },
     "execution_count": 7,
     "metadata": {},
     "output_type": "execute_result"
    }
   ],
   "source": [
    "solution = Solution()\n",
    "solution.shuffle(nums = [1,1,2,2], n=2)"
   ]
  },
  {
   "cell_type": "code",
   "execution_count": null,
   "metadata": {},
   "outputs": [],
   "source": []
  },
  {
   "cell_type": "code",
   "execution_count": null,
   "metadata": {},
   "outputs": [],
   "source": []
  }
 ],
 "metadata": {
  "kernelspec": {
   "display_name": "Python 3",
   "language": "python",
   "name": "python3"
  },
  "language_info": {
   "codemirror_mode": {
    "name": "ipython",
    "version": 3
   },
   "file_extension": ".py",
   "mimetype": "text/x-python",
   "name": "python",
   "nbconvert_exporter": "python",
   "pygments_lexer": "ipython3",
   "version": "3.6.2"
  }
 },
 "nbformat": 4,
 "nbformat_minor": 4
}
