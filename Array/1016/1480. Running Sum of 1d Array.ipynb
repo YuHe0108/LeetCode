{
 "cells": [
  {
   "cell_type": "raw",
   "metadata": {},
   "source": [
    "说明：\n",
    "    给你一个数组 nums 。\n",
    "    数组「动态和」的计算公式为：runningSum[i] = sum(nums[0]…nums[i]) 。\n",
    "    请返回 nums 的动态和。\n",
    "\n",
    "示例 1：\n",
    "    输入：nums = [1,2,3,4]\n",
    "    输出：[1,3,6,10]\n",
    "    解释：动态和计算过程为 [1, 1+2, 1+2+3, 1+2+3+4] 。\n",
    "\n",
    "示例 2：\n",
    "    输入：nums = [1,1,1,1,1]\n",
    "    输出：[1,2,3,4,5]\n",
    "    解释：动态和计算过程为 [1, 1+1, 1+1+1, 1+1+1+1, 1+1+1+1+1] 。\n",
    "\n",
    "示例 3：\n",
    "    输入：nums = [3,1,2,10,1]\n",
    "    输出：[3,4,6,16,17]\n",
    "\n",
    "提示：\n",
    "    1、1 <= nums.length <= 1000\n",
    "    2、-10^6 <= nums[i] <= 10^6"
   ]
  },
  {
   "cell_type": "code",
   "execution_count": 2,
   "metadata": {},
   "outputs": [],
   "source": [
    "class Solution:\n",
    "    def runningSum(self, nums):\n",
    "        res = [nums[0]]\n",
    "        for i in range(1, len(nums)):\n",
    "            res.append(res[-1] + nums[i])\n",
    "        return res"
   ]
  },
  {
   "cell_type": "code",
   "execution_count": 3,
   "metadata": {},
   "outputs": [
    {
     "data": {
      "text/plain": [
       "[1, 3, 6, 10]"
      ]
     },
     "execution_count": 3,
     "metadata": {},
     "output_type": "execute_result"
    }
   ],
   "source": [
    "solution = Solution()\n",
    "solution.runningSum([1,2,3,4])"
   ]
  },
  {
   "cell_type": "code",
   "execution_count": null,
   "metadata": {},
   "outputs": [],
   "source": []
  }
 ],
 "metadata": {
  "kernelspec": {
   "display_name": "Python 3",
   "language": "python",
   "name": "python3"
  },
  "language_info": {
   "codemirror_mode": {
    "name": "ipython",
    "version": 3
   },
   "file_extension": ".py",
   "mimetype": "text/x-python",
   "name": "python",
   "nbconvert_exporter": "python",
   "pygments_lexer": "ipython3",
   "version": "3.6.2"
  }
 },
 "nbformat": 4,
 "nbformat_minor": 4
}
