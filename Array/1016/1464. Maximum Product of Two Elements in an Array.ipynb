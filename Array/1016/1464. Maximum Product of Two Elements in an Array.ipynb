{
 "cells": [
  {
   "cell_type": "raw",
   "metadata": {},
   "source": [
    "说明：\n",
    "    给你一个整数数组 nums，请你选择数组的两个不同下标 i 和 j，使 (nums[i]-1)*(nums[j]-1) 取得最大值。\n",
    "    请你计算并返回该式的最大值。\n",
    "\n",
    "示例 1：\n",
    "    输入：nums = [3,4,5,2]\n",
    "    输出：12 \n",
    "    解释：如果选择下标 i=1 和 j=2（下标从 0 开始），则可以获得最大值，(nums[1]-1)*(nums[2]-1) = (4-1)*(5-1) = 3*4 = 12 。 \n",
    "\n",
    "示例 2：\n",
    "    输入：nums = [1,5,4,5]\n",
    "    输出：16\n",
    "    解释：选择下标 i=1 和 j=3（下标从 0 开始），则可以获得最大值 (5-1)*(5-1) = 16 。\n",
    "\n",
    "示例 3：\n",
    "    输入：nums = [3,7]\n",
    "    输出：12\n",
    "\n",
    "提示：\n",
    "    1、2 <= nums.length <= 500\n",
    "    2、1 <= nums[i] <= 10^3"
   ]
  },
  {
   "cell_type": "code",
   "execution_count": 2,
   "metadata": {},
   "outputs": [],
   "source": [
    "class Solution:\n",
    "    def maxProduct(self, nums) -> int:\n",
    "        nums.sort()\n",
    "        return (nums[-1] - 1) * (nums[-2] - 1)"
   ]
  },
  {
   "cell_type": "code",
   "execution_count": null,
   "metadata": {},
   "outputs": [],
   "source": []
  }
 ],
 "metadata": {
  "kernelspec": {
   "display_name": "Python 3",
   "language": "python",
   "name": "python3"
  },
  "language_info": {
   "codemirror_mode": {
    "name": "ipython",
    "version": 3
   },
   "file_extension": ".py",
   "mimetype": "text/x-python",
   "name": "python",
   "nbconvert_exporter": "python",
   "pygments_lexer": "ipython3",
   "version": "3.6.2"
  }
 },
 "nbformat": 4,
 "nbformat_minor": 4
}
