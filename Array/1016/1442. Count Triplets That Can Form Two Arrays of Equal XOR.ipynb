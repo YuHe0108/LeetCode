{
 "cells": [
  {
   "cell_type": "raw",
   "metadata": {},
   "source": [
    "说明：\n",
    "    给你一个整数数组 arr 。\n",
    "    现需要从数组中取三个下标 i、j 和 k ，其中 (0 <= i < j <= k < arr.length) 。\n",
    "    a 和 b 定义如下：\n",
    "        a = arr[i] ^ arr[i + 1] ^ ... ^ arr[j - 1]\n",
    "        b = arr[j] ^ arr[j + 1] ^ ... ^ arr[k]\n",
    "    注意：^ 表示 按位异或 操作。\n",
    "    请返回能够令 a == b 成立的三元组 (i, j , k) 的数目。\n",
    "\n",
    "示例 1：\n",
    "    输入：arr = [2,3,1,6,7]\n",
    "    输出：4\n",
    "    解释：满足题意的三元组分别是 (0,1,2), (0,2,2), (2,3,4) 以及 (2,4,4)\n",
    "\n",
    "示例 2：\n",
    "    输入：arr = [1,1,1,1,1]\n",
    "    输出：10\n",
    "\n",
    "示例 3：\n",
    "    输入：arr = [2,3]\n",
    "    输出：0\n",
    "\n",
    "示例 4：\n",
    "    输入：arr = [1,3,5,7,9]\n",
    "    输出：3\n",
    "\n",
    "示例 5：\n",
    "    输入：arr = [7,11,12,9,5,2,7,17,22]\n",
    "    输出：8\n",
    " \n",
    "提示：\n",
    "    1、1 <= arr.length <= 300\n",
    "    2、1 <= arr[i] <= 10^8"
   ]
  },
  {
   "cell_type": "code",
   "execution_count": 33,
   "metadata": {},
   "outputs": [],
   "source": [
    "class Solution:\n",
    "    def countTriplets(self, arr) -> int:\n",
    "        count, N = 0, len(arr)\n",
    "        for i in range(N):\n",
    "            if i == 0:\n",
    "                past_val = arr[0]\n",
    "            else:\n",
    "                past_val ^= arr[i]\n",
    "            if i + 1 < N:\n",
    "                next_val = arr[i + 1]\n",
    "                for j in range(i+1, N):\n",
    "                    if j > i + 1:\n",
    "                        next_val ^= arr[j]\n",
    "                    if next_val == past_val:\n",
    "                        print(i, j)\n",
    "                        count += 1\n",
    "        return count"
   ]
  },
  {
   "cell_type": "code",
   "execution_count": 92,
   "metadata": {},
   "outputs": [],
   "source": [
    "class Solution:\n",
    "    def countTriplets(self, arr) -> int:\n",
    "        count, N = 0, len(arr)\n",
    "        a_res = {0: [arr[0]]}\n",
    "        for i in range(1, N-1):\n",
    "            vals = [arr[i]]\n",
    "            for last_val in a_res[i - 1]:\n",
    "                vals.append(last_val ^ arr[i])\n",
    "            a_res[i] = vals\n",
    "            \n",
    "        for j in range(1, N):\n",
    "            next_val = arr[j]\n",
    "            if next_val in a_res[j-1]:\n",
    "                count += a_res[j-1].count(next_val)\n",
    "            for k in range(j + 1, N):\n",
    "                next_val ^= arr[k]\n",
    "                if next_val in a_res[j-1]:\n",
    "                    count += a_res[j-1].count(next_val)\n",
    "        return count"
   ]
  },
  {
   "cell_type": "code",
   "execution_count": 98,
   "metadata": {},
   "outputs": [
    {
     "data": {
      "text/plain": [
       "3"
      ]
     },
     "execution_count": 98,
     "metadata": {},
     "output_type": "execute_result"
    }
   ],
   "source": [
    "solution = Solution()\n",
    "solution.countTriplets([1,3,5,7,9])"
   ]
  },
  {
   "cell_type": "code",
   "execution_count": 90,
   "metadata": {},
   "outputs": [
    {
     "name": "stdout",
     "output_type": "stream",
     "text": [
      "1\n",
      "0\n",
      "6\n",
      "1\n",
      "6\n"
     ]
    }
   ],
   "source": [
    "print(2^3)\n",
    "print(2^3^1)\n",
    "print(2^3^1^6)\n",
    "print(2^3^1^6^7)\n",
    "print(2^3^1^6)"
   ]
  },
  {
   "cell_type": "code",
   "execution_count": 85,
   "metadata": {},
   "outputs": [
    {
     "name": "stdout",
     "output_type": "stream",
     "text": [
      "0\n",
      "2\n"
     ]
    }
   ],
   "source": [
    "print(1^1)\n",
    "print(1^3)"
   ]
  },
  {
   "cell_type": "code",
   "execution_count": 91,
   "metadata": {},
   "outputs": [
    {
     "name": "stdout",
     "output_type": "stream",
     "text": [
      "1\n"
     ]
    }
   ],
   "source": [
    "a = [1, 2]\n",
    "print(a.count(2))"
   ]
  },
  {
   "cell_type": "code",
   "execution_count": null,
   "metadata": {},
   "outputs": [],
   "source": []
  }
 ],
 "metadata": {
  "kernelspec": {
   "display_name": "Python 3",
   "language": "python",
   "name": "python3"
  },
  "language_info": {
   "codemirror_mode": {
    "name": "ipython",
    "version": 3
   },
   "file_extension": ".py",
   "mimetype": "text/x-python",
   "name": "python",
   "nbconvert_exporter": "python",
   "pygments_lexer": "ipython3",
   "version": "3.6.2"
  }
 },
 "nbformat": 4,
 "nbformat_minor": 4
}
