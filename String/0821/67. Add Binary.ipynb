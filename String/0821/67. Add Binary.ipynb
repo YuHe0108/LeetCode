{
 "cells": [
  {
   "cell_type": "raw",
   "metadata": {},
   "source": [
    "描述：\n",
    "    给定两个二进制字符串，返回它们的总和（也是一个二进制字符串）。输入字符串均为非空，并且仅包含字符1或0。\n",
    "\n",
    "Example 1:\n",
    "    Input: a = \"11\", b = \"1\"\n",
    "    Output: \"100\"\n",
    "\n",
    "Example 2:\n",
    "    Input: a = \"1010\", b = \"1011\"\n",
    "    Output: \"10101\"\n",
    "\n",
    "约束：\n",
    "1、每个字符串仅包含“ 0”或“ 1”字符。 \n",
    "2、1 <= a.length，b.length <= 10 ^ 4每个字符串要么为“ 0”，要么不包含任何前导零。"
   ]
  },
  {
   "cell_type": "code",
   "execution_count": 122,
   "metadata": {},
   "outputs": [],
   "source": [
    "class Solution:\n",
    "    def addBinary(self, a: str, b: str) -> str:\n",
    "        # 实现二进制字符串的相加\n",
    "        a = a[::-1]\n",
    "        b = b[::-1]\n",
    "        if len(a) < len(b):\n",
    "            a, b = b, a\n",
    "        \n",
    "        rets = [int(i) for i in a]\n",
    "        for i, b_ in enumerate(b):\n",
    "            if rets[i] == 2:\n",
    "                rets = self.helper(i, rets)     \n",
    "            rets[i] += int(b_)\n",
    "            if rets[i] == 2:\n",
    "                rets = self.helper(i, rets)\n",
    "        \n",
    "        for i, ret in enumerate(rets):\n",
    "            if ret == 2:\n",
    "                rets = self.helper(i, rets)\n",
    "        rets.reverse()\n",
    "        rets = [str(i) for i in rets]\n",
    "        return ''.join(rets)\n",
    "    \n",
    "            \n",
    "    def helper(self, i, nums):\n",
    "        nums[i] = 0\n",
    "        if i + 1 <= len(nums) - 1:\n",
    "            nums[i + 1] += 1\n",
    "        else:\n",
    "            nums.append(1)\n",
    "        return nums"
   ]
  },
  {
   "cell_type": "code",
   "execution_count": 123,
   "metadata": {},
   "outputs": [
    {
     "data": {
      "text/plain": [
       "'11110'"
      ]
     },
     "execution_count": 123,
     "metadata": {},
     "output_type": "execute_result"
    }
   ],
   "source": [
    "a_ = '1111'\n",
    "b_ = '1111'\n",
    "solution = Solution()\n",
    "solution.addBinary(a_, b_)"
   ]
  },
  {
   "cell_type": "code",
   "execution_count": null,
   "metadata": {},
   "outputs": [],
   "source": [
    "a = '11'\n",
    "str(reversed(a))"
   ]
  },
  {
   "cell_type": "code",
   "execution_count": 32,
   "metadata": {},
   "outputs": [],
   "source": [
    "a.reverse()"
   ]
  },
  {
   "cell_type": "code",
   "execution_count": 33,
   "metadata": {},
   "outputs": [
    {
     "data": {
      "text/plain": [
       "[3, 2, 1]"
      ]
     },
     "execution_count": 33,
     "metadata": {},
     "output_type": "execute_result"
    }
   ],
   "source": [
    "a"
   ]
  },
  {
   "cell_type": "code",
   "execution_count": 25,
   "metadata": {},
   "outputs": [
    {
     "data": {
      "text/plain": [
       "'12'"
      ]
     },
     "execution_count": 25,
     "metadata": {},
     "output_type": "execute_result"
    }
   ],
   "source": [
    "a = ['1', '2']\n",
    "''.join(a)"
   ]
  },
  {
   "cell_type": "code",
   "execution_count": null,
   "metadata": {},
   "outputs": [],
   "source": []
  }
 ],
 "metadata": {
  "kernelspec": {
   "display_name": "TF2",
   "language": "python",
   "name": "tf2"
  },
  "language_info": {
   "codemirror_mode": {
    "name": "ipython",
    "version": 3
   },
   "file_extension": ".py",
   "mimetype": "text/x-python",
   "name": "python",
   "nbconvert_exporter": "python",
   "pygments_lexer": "ipython3",
   "version": "3.6.2"
  }
 },
 "nbformat": 4,
 "nbformat_minor": 4
}
