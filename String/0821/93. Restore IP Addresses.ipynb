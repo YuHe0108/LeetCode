{
 "cells": [
  {
   "cell_type": "raw",
   "metadata": {},
   "source": [
    "给定一个只包含数字的字符串s。返回可以从s获得的所有可能的有效IP地址。\n",
    "您可以按任何顺序返回它们。一\n",
    "个有效的IP地址正好由四个整数组成，每个整数在0到255之间，用单点分隔，不能有前导零。\n",
    "例如，“0.1.2.201”和“192.168.1.1”是有效的IP地址，\n",
    "“0.011.255.245”、“192.168.1.312”和“192”。168@1.1“是无效的IP地址。\n",
    "\n",
    "Example 1:\n",
    "    Input: s = \"25525511135\"\n",
    "    Output: [\"255.255.11.135\",\"255.255.111.35\"]\n",
    "\n",
    "Example 2:\n",
    "    Input: s = \"0000\"\n",
    "    Output: [\"0.0.0.0\"]\n",
    "\n",
    "Example 3:\n",
    "    Input: s = \"1111\"\n",
    "    Output: [\"1.1.1.1\"]\n",
    "\n",
    "Example 4:\n",
    "    Input: s = \"010010\"\n",
    "    Output: [\"0.10.0.10\",\"0.100.1.0\"]\n",
    "\n",
    "Example 5:\n",
    "    Input: s = \"101023\"\n",
    "    Output: [\"1.0.10.23\",\"1.0.102.3\",\"10.1.0.23\",\"10.10.2.3\",\"101.0.2.3\"]\n",
    " \n",
    " 约束条件：\n",
    " 1、0<= s的长度<=3000 \n",
    " 2、s仅由数字组成。"
   ]
  },
  {
   "cell_type": "code",
   "execution_count": 21,
   "metadata": {},
   "outputs": [],
   "source": [
    "class Solution:\n",
    "    def restoreIpAddresses(self, s: str):\n",
    "        res = []\n",
    "        \n",
    "        def backtracking(comb, s, level):\n",
    "            if level == 0 and s == '':\n",
    "                res.append(comb[:-1])\n",
    "            elif level != 0:\n",
    "                for i in range(1, min(3 + 1, len(s) + 1)):\n",
    "                    if i > 1 and s[0] == '0':  # cannot start with '0', i.e. '1.001.0.1'\n",
    "                        continue\n",
    "                    if 0 <= int(s[:i]) <= 255:\n",
    "                        backtracking(comb + s[:i] + '.', s[i:], level - 1)\n",
    "        backtracking('', s, 4)\n",
    "        return res"
   ]
  },
  {
   "cell_type": "code",
   "execution_count": 22,
   "metadata": {},
   "outputs": [
    {
     "name": "stdout",
     "output_type": "stream",
     "text": [
      "101023\n",
      "01023\n",
      "1023\n",
      "023\n",
      "023\n",
      "023\n",
      "1023\n",
      "23\n",
      "23\n",
      "1023\n",
      "3\n",
      "01023\n",
      "01023\n",
      "101023\n",
      "1023\n",
      "023\n",
      "23\n",
      "23\n",
      "023\n",
      "023\n",
      "1023\n",
      "23\n",
      "3\n",
      "23\n",
      "1023\n",
      "3\n",
      "101023\n",
      "023\n",
      "23\n",
      "3\n",
      "23\n",
      "023\n",
      "023\n"
     ]
    },
    {
     "data": {
      "text/plain": [
       "['1.0.10.23', '1.0.102.3', '10.1.0.23', '10.10.2.3', '101.0.2.3']"
      ]
     },
     "execution_count": 22,
     "metadata": {},
     "output_type": "execute_result"
    }
   ],
   "source": [
    "s_ = '101023'\n",
    "solution = Solution()\n",
    "solution.restoreIpAddresses(s_)"
   ]
  },
  {
   "cell_type": "code",
   "execution_count": 10,
   "metadata": {},
   "outputs": [
    {
     "name": "stdout",
     "output_type": "stream",
     "text": [
      "[1, 2, 3]\n"
     ]
    }
   ],
   "source": []
  },
  {
   "cell_type": "code",
   "execution_count": null,
   "metadata": {},
   "outputs": [],
   "source": []
  }
 ],
 "metadata": {
  "kernelspec": {
   "display_name": "TF2",
   "language": "python",
   "name": "tf2"
  },
  "language_info": {
   "codemirror_mode": {
    "name": "ipython",
    "version": 3
   },
   "file_extension": ".py",
   "mimetype": "text/x-python",
   "name": "python",
   "nbconvert_exporter": "python",
   "pygments_lexer": "ipython3",
   "version": "3.6.2"
  }
 },
 "nbformat": 4,
 "nbformat_minor": 4
}
