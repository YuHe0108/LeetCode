{
 "cells": [
  {
   "cell_type": "raw",
   "metadata": {},
   "source": [
    "说明：\n",
    "    给定两个表示为字符串的非负整数num1和num2，返回num1和num2之和。\n",
    "注意：\n",
    "    1、num1和num2的长度均小于5100。\n",
    "    2、num1和num2均仅包含数字0-9。 \n",
    "    3、num1和num2都不包含任何前导零。\n",
    "    4、您不得使用任何内置的BigInteger库或将输入直接转换为整数。"
   ]
  },
  {
   "cell_type": "code",
   "execution_count": 42,
   "metadata": {},
   "outputs": [],
   "source": [
    "class Solution:\n",
    "    def addStrings(self, num1: str, num2: str) -> str:\n",
    "#         if len(num1) < len(num2): \n",
    "#             num1, num2 = num2, num1\n",
    "        l_num1 = [int(n) for n in num1]\n",
    "        l_num1.reverse()\n",
    "        l_num2 = [int(n) for n in num2]\n",
    "        l_num2.reverse()\n",
    "        \n",
    "        for i, n_2 in enumerate(l_num2):\n",
    "            if l_num1[i] >= 10:\n",
    "                l_num1[i] -= 10\n",
    "                if i + 1 <= len(l_num1) - 1:\n",
    "                    l_num1[i+1] += 1\n",
    "                else:\n",
    "                    l_num1.append(1)\n",
    "            l_num1[i] += l_num2[i]\n",
    "            if l_num1[i] >= 10:\n",
    "                l_num1[i] -= 10\n",
    "                if i + 1 <= len(l_num1) - 1:\n",
    "                    l_num1[i+1] += 1\n",
    "                else:\n",
    "                    l_num1.append(1)\n",
    "        i = 0\n",
    "        while i < len(l_num1):\n",
    "            if l_num1[i] >= 10:\n",
    "                l_num1[i] -= 10\n",
    "                if i + 1 <= len(l_num1) - 1:\n",
    "                    l_num1[i+1] += 1\n",
    "                else:\n",
    "                    l_num1.append(1)\n",
    "            i += 1\n",
    "        l_num1.reverse()\n",
    "        l_num1 = [str(l) for l in l_num1]\n",
    "        return ''.join(l_num1)"
   ]
  },
  {
   "cell_type": "code",
   "execution_count": 59,
   "metadata": {},
   "outputs": [],
   "source": [
    "class Solution:\n",
    "    def addStrings(self, num1: str, num2: str) -> str:\n",
    "        return str(self.str_to_int(num1) + self.str_to_int(num2))\n",
    "    \n",
    "    def str_to_int(self, s):\n",
    "        g={\"1\":1,\"2\":2,\"3\":3,\"4\":4,\"5\":5,\"6\":6,\"7\":7,\"8\":8,\"9\":9,\"0\":0}\n",
    "        outs = 0\n",
    "        k = 1\n",
    "        for n in s[::-1]:\n",
    "            outs += g[n] * k \n",
    "            k *= 10\n",
    "        return outs"
   ]
  },
  {
   "cell_type": "code",
   "execution_count": 61,
   "metadata": {},
   "outputs": [
    {
     "data": {
      "text/plain": [
       "'108'"
      ]
     },
     "execution_count": 61,
     "metadata": {},
     "output_type": "execute_result"
    }
   ],
   "source": [
    "num1_ = '9'\n",
    "num2_ = '99'\n",
    "solution = Solution()\n",
    "solution.addStrings(num1_, num2_)"
   ]
  },
  {
   "cell_type": "code",
   "execution_count": null,
   "metadata": {},
   "outputs": [],
   "source": []
  }
 ],
 "metadata": {
  "kernelspec": {
   "display_name": "TF2",
   "language": "python",
   "name": "tf2"
  },
  "language_info": {
   "codemirror_mode": {
    "name": "ipython",
    "version": 3
   },
   "file_extension": ".py",
   "mimetype": "text/x-python",
   "name": "python",
   "nbconvert_exporter": "python",
   "pygments_lexer": "ipython3",
   "version": "3.6.2"
  }
 },
 "nbformat": 4,
 "nbformat_minor": 4
}
