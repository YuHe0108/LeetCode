{
 "cells": [
  {
   "cell_type": "raw",
   "metadata": {},
   "source": [
    "题目说明：\n",
    "    给定一个任意的ransom note字符串和另一个包含所有magazine字母的字符串，\n",
    "    编写一个函数，如果可以从magazine中构造ransom note，则该函数将返回true；否则，它将返回false。\n",
    "    magazine字符串中的每个字母只能在ransom note中使用一次。\n",
    "\n",
    "Example 1:\n",
    "    Input: ransomNote = \"a\", magazine = \"b\"\n",
    "    Output: false\n",
    "\n",
    "Example 2:\n",
    "    Input: ransomNote = \"aa\", magazine = \"ab\"\n",
    "    Output: false\n",
    "\n",
    "Example 3:\n",
    "    Input: ransomNote = \"aa\", magazine = \"aab\"\n",
    "    Output: true\n",
    "\n",
    "约束：\n",
    "    您可以假设两个字符串都只包含小写字母。"
   ]
  },
  {
   "cell_type": "code",
   "execution_count": 29,
   "metadata": {},
   "outputs": [],
   "source": [
    "class Solution:\n",
    "    def canConstruct(self, note: str, mgz: str) -> bool:\n",
    "        if len(mgz) < len(note): return False\n",
    "        if len(note) == 0: return True\n",
    "        if len(mgz) == 0 and len(note) != 0: return False\n",
    "        \n",
    "        note = sorted(note)\n",
    "        mgz = sorted(mgz)\n",
    "        for i, n in enumerate(mgz):\n",
    "            if n == note[0] and self.helper(mgz[i:], note):\n",
    "                return True\n",
    "        return False\n",
    "\n",
    "    def helper(self, mgz, note):\n",
    "        if len(mgz) < len(note): return False\n",
    "        for i, n in enumerate(note):\n",
    "            if n != mgz[i]:\n",
    "                return False\n",
    "        return True"
   ]
  },
  {
   "cell_type": "code",
   "execution_count": 53,
   "metadata": {},
   "outputs": [],
   "source": [
    "class Solution:\n",
    "    def canConstruct(self, note: str, mgz: str) -> bool:\n",
    "        if len(mgz) < len(note): return False\n",
    "        if len(note) == 0: return True\n",
    "        if len(mgz) == 0 and len(note) != 0: return False\n",
    "        \n",
    "        l_note = list(note)\n",
    "        l_mgz = list(mgz)\n",
    "        i = 0\n",
    "        while i < len(l_note):\n",
    "            val = l_note[i]\n",
    "            if val in l_mgz:\n",
    "                l_note.remove(val)\n",
    "                l_mgz.remove(val)\n",
    "            else:\n",
    "                return False\n",
    "        return True "
   ]
  },
  {
   "cell_type": "code",
   "execution_count": 54,
   "metadata": {},
   "outputs": [
    {
     "name": "stdout",
     "output_type": "stream",
     "text": [
      "[] []\n"
     ]
    },
    {
     "data": {
      "text/plain": [
       "True"
      ]
     },
     "execution_count": 54,
     "metadata": {},
     "output_type": "execute_result"
    }
   ],
   "source": [
    "note_ = \"aab\"\n",
    "mgz_ = \"baa\"\n",
    "solution = Solution()\n",
    "solution.canConstruct(note_, mgz_)"
   ]
  },
  {
   "cell_type": "code",
   "execution_count": null,
   "metadata": {},
   "outputs": [],
   "source": []
  }
 ],
 "metadata": {
  "kernelspec": {
   "display_name": "TF2",
   "language": "python",
   "name": "tf2"
  },
  "language_info": {
   "codemirror_mode": {
    "name": "ipython",
    "version": 3
   },
   "file_extension": ".py",
   "mimetype": "text/x-python",
   "name": "python",
   "nbconvert_exporter": "python",
   "pygments_lexer": "ipython3",
   "version": "3.6.2"
  }
 },
 "nbformat": 4,
 "nbformat_minor": 4
}
