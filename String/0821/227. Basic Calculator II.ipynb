{
 "cells": [
  {
   "cell_type": "raw",
   "metadata": {},
   "source": [
    "说明：\n",
    "    实现一个基本的计算器来评估一个简单的表达式字符串。表达式字符串仅包含非负整数 +，-，*，/运算符和空格。整数除法应截断为零。\n",
    "\n",
    "Example 1:\n",
    "    Input: \"3+2*2\"\n",
    "    Output: 7\n",
    "\n",
    "Example 2:\n",
    "    Input: \" 3/2 \"\n",
    "    Output: 1\n",
    "\n",
    "Example 3:\n",
    "    Input: \" 3+5 / 2 \"\n",
    "    Output: 5\n",
    "\n",
    "注意：\n",
    "1、您可以假设给定的表达式始终有效。\n",
    "2、不要使用eval内置库函数。"
   ]
  },
  {
   "cell_type": "code",
   "execution_count": 225,
   "metadata": {},
   "outputs": [],
   "source": [
    "class Solution:\n",
    "    def calculate(self, s: str) -> int:\n",
    "        s = s.strip() # 去除字符串开头和结尾的空格\n",
    "        i = 0\n",
    "        l_s = self.helper(s)\n",
    "        while i < len(l_s):\n",
    "            val = l_s[i]\n",
    "            if val == '*':\n",
    "                l_s[i-1] = int(l_s[i-1]) * int(l_s[i + 1])\n",
    "                l_s.pop(i)\n",
    "                l_s.pop(i)\n",
    "                i -= 1\n",
    "            elif val == '/':\n",
    "                l_s[i-1] = int(l_s[i-1]) // int(l_s[i + 1])\n",
    "                l_s.pop(i)\n",
    "                l_s.pop(i)\n",
    "                i -= 1\n",
    "            else:\n",
    "                i += 1\n",
    "        \n",
    "        l_s = self.helper(l_s)\n",
    "        i = 0\n",
    "        while i < len(l_s):\n",
    "            val = l_s[i]\n",
    "            if val == '+':\n",
    "                l_s[i-1] = int(l_s[i-1]) + int(l_s[i + 1])\n",
    "                l_s.pop(i)\n",
    "                l_s.pop(i)\n",
    "                i -= 1\n",
    "            elif val == '-':\n",
    "                l_s[i-1] = int(l_s[i-1]) - int(l_s[i + 1])\n",
    "                l_s.pop(i)\n",
    "                l_s.pop(i)\n",
    "                i -= 1\n",
    "            else:\n",
    "                i += 1\n",
    "        \n",
    "        l_s = self.helper(l_s)\n",
    "        l_s = [str(i) for i in l_s]\n",
    "        if len(l_s) == 1:\n",
    "            if int(l_s[0]) < 0:\n",
    "                return -abs(int(l_s[0]))\n",
    "            else:\n",
    "                return int(l_s[0])\n",
    "        else:\n",
    "            if int(l_s[0]) < 0:\n",
    "                l_s[0] = str(abs(int(l_s[0])))\n",
    "                return -int(''.join(l_s))\n",
    "            else:\n",
    "                return -int(''.join(l_s))\n",
    "    \n",
    "    def helper(self, s):\n",
    "        sym = ['+', '-', '*', '/']\n",
    "        i = 0\n",
    "        ret = []\n",
    "        temp = ''\n",
    "        while i < len(s):\n",
    "            val = str(s[i])\n",
    "            if val not in sym and val != ' ':\n",
    "                temp += val\n",
    "            elif val != ' ':\n",
    "                ret.append(temp)\n",
    "                ret.append(val)\n",
    "                temp = ''\n",
    "            i += 1\n",
    "        if temp != '':\n",
    "            ret.append(temp)\n",
    "        return ret"
   ]
  },
  {
   "cell_type": "code",
   "execution_count": 294,
   "metadata": {},
   "outputs": [],
   "source": [
    "class Solution:\n",
    "    def calculate(self, s: str) -> int:\n",
    "        result = temp = num = 0\n",
    "        cur_sym = '+'\n",
    "        for i, c in enumerate(s+'+'):\n",
    "            if c in '+-*/':\n",
    "                if cur_sym == '+':\n",
    "                    result += temp\n",
    "                    temp = num\n",
    "                elif cur_sym == '-':\n",
    "                    result += temp\n",
    "                    temp = -num\n",
    "                elif cur_sym == '*':\n",
    "                    temp *= num\n",
    "                elif cur_sym == '/':\n",
    "                    temp = int(temp / num)\n",
    "                cur_sym = c\n",
    "                num = 0\n",
    "            elif c.isdigit():\n",
    "                num = num * 10 + int(c)\n",
    "        return result + temp  "
   ]
  },
  {
   "cell_type": "code",
   "execution_count": 344,
   "metadata": {},
   "outputs": [],
   "source": [
    "class Solution:\n",
    "    def calculate(self, s: str) -> int:\n",
    "        res = []\n",
    "        temp = '+'\n",
    "        for i in s:\n",
    "            if i.isdigit():\n",
    "                temp += i\n",
    "            elif i in '+-*/':\n",
    "                res.append(temp)\n",
    "                temp = i\n",
    "        res.append(temp)\n",
    "        \n",
    "        \n",
    "        i = 0\n",
    "        while i < len(res):\n",
    "            num = res[i]\n",
    "            if num[0] == '*':\n",
    "                res[i-1] = int(res[i-1]) * int(num[1:])\n",
    "                res.pop(i)\n",
    "            elif num[0] == '/':\n",
    "                res[i-1] = int(int(res[i-1]) / int(num[1:]))\n",
    "                res.pop(i)\n",
    "            else:\n",
    "                i += 1\n",
    "        res = [int(r) for r in res]\n",
    "        return sum(res)"
   ]
  },
  {
   "cell_type": "code",
   "execution_count": 345,
   "metadata": {},
   "outputs": [
    {
     "data": {
      "text/plain": [
       "24"
      ]
     },
     "execution_count": 345,
     "metadata": {},
     "output_type": "execute_result"
    }
   ],
   "source": [
    "s_ = \"2*3*4\"\n",
    "solution = Solution()\n",
    "solution.calculate(s_)"
   ]
  },
  {
   "cell_type": "code",
   "execution_count": 249,
   "metadata": {},
   "outputs": [
    {
     "data": {
      "text/plain": [
       "1"
      ]
     },
     "execution_count": 249,
     "metadata": {},
     "output_type": "execute_result"
    }
   ],
   "source": [
    "3//2"
   ]
  },
  {
   "cell_type": "code",
   "execution_count": 261,
   "metadata": {},
   "outputs": [
    {
     "name": "stdout",
     "output_type": "stream",
     "text": [
      "True\n",
      "True\n",
      "True\n",
      "True\n",
      "False\n",
      "False\n"
     ]
    }
   ],
   "source": [
    "a = '1112%^'\n",
    "for i in a:\n",
    "    print(i.isdigit())"
   ]
  },
  {
   "cell_type": "code",
   "execution_count": null,
   "metadata": {},
   "outputs": [],
   "source": []
  },
  {
   "cell_type": "code",
   "execution_count": null,
   "metadata": {},
   "outputs": [],
   "source": []
  }
 ],
 "metadata": {
  "kernelspec": {
   "display_name": "TF2",
   "language": "python",
   "name": "tf2"
  },
  "language_info": {
   "codemirror_mode": {
    "name": "ipython",
    "version": 3
   },
   "file_extension": ".py",
   "mimetype": "text/x-python",
   "name": "python",
   "nbconvert_exporter": "python",
   "pygments_lexer": "ipython3",
   "version": "3.6.2"
  }
 },
 "nbformat": 4,
 "nbformat_minor": 4
}
