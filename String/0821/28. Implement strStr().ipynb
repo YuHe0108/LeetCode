{
 "cells": [
  {
   "cell_type": "raw",
   "metadata": {},
   "source": [
    "实现strStr（）。返回大海捞针中第一次出现的针的索引，如果needle不是大海捞针的一部分，则返回-1。\n",
    "\n",
    "例1：\n",
    "    Input: haystack = \"hello\", needle = \"ll\"\n",
    "    Output: 2\n",
    "\n",
    "例2：\n",
    "    Input: haystack = \"aaaaa\", needle = \"bba\"\n",
    "    Output: -1\n",
    "    \n",
    " 说明：\n",
    " 1、如果针是空弦，我们应该返回什么？在面试中这是一个很好的问题。\n",
    " 2、针对此问题，当needle为空字符串时，我们将返回0。这与C的strstr（）和Java的indexOf（）一致。"
   ]
  },
  {
   "cell_type": "code",
   "execution_count": 6,
   "metadata": {},
   "outputs": [],
   "source": [
    "class Solution:\n",
    "    def strStr(self, haystack: str, needle: str) -> int:\n",
    "        if len(needle) == 0: return 0\n",
    "        \n",
    "        for index, hay in enumerate(haystack):\n",
    "            if hay == needle[0] and self.helper(haystack[index:], needle):\n",
    "                return index\n",
    "        return -1\n",
    "        \n",
    "    def helper(self, haystack, needle):\n",
    "        len_needle = len(needle)\n",
    "        haystack = haystack[:len_needle]\n",
    "        for index, hay in enumerate(haystack):\n",
    "            if hay != needle[index]:\n",
    "                return False\n",
    "        return True"
   ]
  },
  {
   "cell_type": "code",
   "execution_count": 8,
   "metadata": {},
   "outputs": [
    {
     "data": {
      "text/plain": [
       "-1"
      ]
     },
     "execution_count": 8,
     "metadata": {},
     "output_type": "execute_result"
    }
   ],
   "source": [
    "haystack_ = \"aaaa\"\n",
    "needle_ = \"bba\"\n",
    "solution = Solution()\n",
    "solution.strStr(haystack_, needle_)"
   ]
  },
  {
   "cell_type": "code",
   "execution_count": 3,
   "metadata": {},
   "outputs": [
    {
     "data": {
      "text/plain": [
       "False"
      ]
     },
     "execution_count": 3,
     "metadata": {},
     "output_type": "execute_result"
    }
   ],
   "source": []
  },
  {
   "cell_type": "code",
   "execution_count": null,
   "metadata": {},
   "outputs": [],
   "source": []
  }
 ],
 "metadata": {
  "kernelspec": {
   "display_name": "TF2",
   "language": "python",
   "name": "tf2"
  },
  "language_info": {
   "codemirror_mode": {
    "name": "ipython",
    "version": 3
   },
   "file_extension": ".py",
   "mimetype": "text/x-python",
   "name": "python",
   "nbconvert_exporter": "python",
   "pygments_lexer": "ipython3",
   "version": "3.6.2"
  }
 },
 "nbformat": 4,
 "nbformat_minor": 4
}
