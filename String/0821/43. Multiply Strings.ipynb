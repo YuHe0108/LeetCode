{
 "cells": [
  {
   "cell_type": "raw",
   "metadata": {},
   "source": [
    "题目描述：\n",
    "    给定两个表示为字符串的非负整数num1和num2，返回num1和num2的乘积，也表示为字符串。\n",
    "\n",
    "Example 1:\n",
    "    Input: num1 = \"2\", num2 = \"3\"\n",
    "    Output: \"6\"\n",
    "\n",
    "Example 2:\n",
    "    Input: num1 = \"123\", num2 = \"456\"\n",
    "    Output: \"56088\"\n",
    " \n",
    "注意：\n",
    "1、num1和num2的长度都小于110。\n",
    "2、num1和num2都仅包含数字0-9。\n",
    "3、num1和num2都不包含任何前导零，除了数字0本身。\n",
    "4、您不得使用任何内置的BigInteger库或将输入直接转换为整数。"
   ]
  },
  {
   "cell_type": "code",
   "execution_count": 29,
   "metadata": {},
   "outputs": [],
   "source": [
    "class Solution:\n",
    "    def multiply(self, num1: str, num2: str) -> str:\n",
    "        # 输入的是字符串，要求实现乘法的操作，并且不能进行数据格式的转换\n",
    "        num_dict = {\"0\": 0,\"1\":1 ,\"2\":2 ,\"3\": 3,\"4\": 4,\"5\":5 ,\"6\": 6,\"7\": 7,\"8\":8,\"9\":9 }\n",
    "        xlen = len(num1)\n",
    "        ylen = len(num2)\n",
    "        x = y = 0\n",
    "        for i, num in enumerate(num1):\n",
    "            x += 10 ** (xlen - (i + 1)) * num_dict[num]\n",
    "        for i, num in enumerate(num2):\n",
    "            y += 10 ** (ylen - (i + 1)) * num_dict[num]\n",
    "        return str(x * y)"
   ]
  },
  {
   "cell_type": "code",
   "execution_count": 30,
   "metadata": {},
   "outputs": [
    {
     "name": "stdout",
     "output_type": "stream",
     "text": [
      "100\n",
      "120\n",
      "123\n"
     ]
    },
    {
     "data": {
      "text/plain": [
       "'56088'"
      ]
     },
     "execution_count": 30,
     "metadata": {},
     "output_type": "execute_result"
    }
   ],
   "source": [
    "num1_ = '123'\n",
    "num2_ = '456'\n",
    "solution = Solution()\n",
    "solution.multiply(num1_, num2_)"
   ]
  },
  {
   "cell_type": "code",
   "execution_count": 6,
   "metadata": {},
   "outputs": [
    {
     "data": {
      "text/plain": [
       "97"
      ]
     },
     "execution_count": 6,
     "metadata": {},
     "output_type": "execute_result"
    }
   ],
   "source": [
    "ord('a')"
   ]
  },
  {
   "cell_type": "code",
   "execution_count": null,
   "metadata": {},
   "outputs": [],
   "source": []
  }
 ],
 "metadata": {
  "kernelspec": {
   "display_name": "TF2",
   "language": "python",
   "name": "tf2"
  },
  "language_info": {
   "codemirror_mode": {
    "name": "ipython",
    "version": 3
   },
   "file_extension": ".py",
   "mimetype": "text/x-python",
   "name": "python",
   "nbconvert_exporter": "python",
   "pygments_lexer": "ipython3",
   "version": "3.6.2"
  }
 },
 "nbformat": 4,
 "nbformat_minor": 4
}
