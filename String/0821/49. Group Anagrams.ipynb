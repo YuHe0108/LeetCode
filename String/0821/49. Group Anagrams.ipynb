{
 "cells": [
  {
   "cell_type": "raw",
   "metadata": {},
   "source": [
    "给定一个字符串数组，将字谜分组在一起。\n",
    "\n",
    "Example:\n",
    "    Input: \n",
    "        [\"eat\", \"tea\", \"tan\", \"ate\", \"nat\", \"bat\"],\n",
    "    Output:\n",
    "        [\n",
    "          [\"ate\",\"eat\",\"tea\"],\n",
    "          [\"nat\",\"tan\"],\n",
    "          [\"bat\"]\n",
    "        ]\n",
    "注意：所有输入都将小写。输出的顺序无关紧要。"
   ]
  },
  {
   "cell_type": "code",
   "execution_count": 55,
   "metadata": {},
   "outputs": [],
   "source": [
    "class Solution:\n",
    "    def groupAnagrams(self, strs):\n",
    "        rets = {}\n",
    "        for word in strs:\n",
    "            s_word = ''.join(sorted(word))\n",
    "            if s_word not in rets:\n",
    "                rets[s_word] = [word]\n",
    "            else:\n",
    "                rets[s_word].append(word)\n",
    "        return [val for val in rets.values()]\n",
    "            \n",
    "            \n",
    "            \n",
    "            \n",
    "#             temp = self.helper(word, s_word, rets)\n",
    "#             if temp is False:\n",
    "#                 rets.append([])\n",
    "#                 rets[-1].append(word)\n",
    "#             else:\n",
    "#                 rets = temp\n",
    "#         return rets\n",
    "        \n",
    "#     def helper(self, word, s_word, rets):\n",
    "#         for ret in rets:\n",
    "#             if s_word in ret:\n",
    "#                 ret.append(word)\n",
    "#                 return rets\n",
    "#         return False"
   ]
  },
  {
   "cell_type": "code",
   "execution_count": 56,
   "metadata": {},
   "outputs": [
    {
     "data": {
      "text/plain": [
       "[['eat', 'eat', 'ate'], ['tan', 'nat'], ['bat']]"
      ]
     },
     "execution_count": 56,
     "metadata": {},
     "output_type": "execute_result"
    }
   ],
   "source": [
    "strs_ = [\"eat\", \"eat\", \"tan\", \"ate\", \"nat\", \"bat\"]\n",
    "solution = Solution()\n",
    "solution.groupAnagrams(strs_)"
   ]
  },
  {
   "cell_type": "code",
   "execution_count": 38,
   "metadata": {},
   "outputs": [
    {
     "name": "stdout",
     "output_type": "stream",
     "text": [
      "False\n"
     ]
    }
   ],
   "source": [
    "a = [[1, 2], [3, 4]]\n",
    "print(1 in a)"
   ]
  },
  {
   "cell_type": "code",
   "execution_count": null,
   "metadata": {},
   "outputs": [],
   "source": []
  }
 ],
 "metadata": {
  "kernelspec": {
   "display_name": "TF2",
   "language": "python",
   "name": "tf2"
  },
  "language_info": {
   "codemirror_mode": {
    "name": "ipython",
    "version": 3
   },
   "file_extension": ".py",
   "mimetype": "text/x-python",
   "name": "python",
   "nbconvert_exporter": "python",
   "pygments_lexer": "ipython3",
   "version": "3.6.2"
  }
 },
 "nbformat": 4,
 "nbformat_minor": 4
}
