{
 "cells": [
  {
   "cell_type": "raw",
   "metadata": {},
   "source": [
    "说明：\n",
    "1、给定一个字符串，找到其中的第一个非重复字符并返回其索引。如果不存在，则返回-1。\n",
    "\n",
    "Examples:\n",
    "    s = \"leetcode\"\n",
    "    return 0.\n",
    "\n",
    "例2：\n",
    "    s = \"loveleetcode\"\n",
    "    return 2."
   ]
  },
  {
   "cell_type": "code",
   "execution_count": 38,
   "metadata": {},
   "outputs": [],
   "source": [
    "class Solution:\n",
    "    def firstUniqChar(self, s: str) -> int:\n",
    "        if len(s) == 1: return 0\n",
    "        \n",
    "        rets = []\n",
    "        for i, char in enumerate(s):\n",
    "            if char in s[i+1:] and char not in rets:\n",
    "                rets.append(char)\n",
    "        \n",
    "        for i, char in enumerate(s):\n",
    "            if char not in rets:\n",
    "                return i\n",
    "        return -1"
   ]
  },
  {
   "cell_type": "code",
   "execution_count": 40,
   "metadata": {},
   "outputs": [
    {
     "data": {
      "text/plain": [
       "0"
      ]
     },
     "execution_count": 40,
     "metadata": {},
     "output_type": "execute_result"
    }
   ],
   "source": [
    "s_ = \"a\"\n",
    "solution = Solution()\n",
    "solution.firstUniqChar(s_)"
   ]
  },
  {
   "cell_type": "code",
   "execution_count": null,
   "metadata": {},
   "outputs": [],
   "source": []
  },
  {
   "cell_type": "code",
   "execution_count": null,
   "metadata": {},
   "outputs": [],
   "source": []
  }
 ],
 "metadata": {
  "kernelspec": {
   "display_name": "TF2",
   "language": "python",
   "name": "tf2"
  },
  "language_info": {
   "codemirror_mode": {
    "name": "ipython",
    "version": 3
   },
   "file_extension": ".py",
   "mimetype": "text/x-python",
   "name": "python",
   "nbconvert_exporter": "python",
   "pygments_lexer": "ipython3",
   "version": "3.6.2"
  }
 },
 "nbformat": 4,
 "nbformat_minor": 4
}
