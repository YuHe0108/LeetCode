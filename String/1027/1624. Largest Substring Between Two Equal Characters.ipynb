{
 "cells": [
  {
   "cell_type": "raw",
   "metadata": {},
   "source": [
    "说明：\n",
    "    给你一个字符串 s，请你返回 两个相同字符之间的最长子字符串的长度 ，计算长度时不含这两个字符。\n",
    "    如果不存在这样的子字符串，返回 -1 。\n",
    "    子字符串 是字符串中的一个连续字符序列。\n",
    "\n",
    "示例 1：\n",
    "    输入：s = \"aa\"\n",
    "    输出：0\n",
    "    解释：最优的子字符串是两个 'a' 之间的空子字符串。\n",
    "\n",
    "示例 2：\n",
    "    输入：s = \"abca\"\n",
    "    输出：2\n",
    "    解释：最优的子字符串是 \"bc\" 。\n",
    "\n",
    "示例 3：\n",
    "    输入：s = \"cbzxy\"\n",
    "    输出：-1\n",
    "    解释：s 中不存在出现出现两次的字符，所以返回 -1 。\n",
    "\n",
    "示例 4：\n",
    "    输入：s = \"cabbac\"\n",
    "    输出：4\n",
    "    解释：最优的子字符串是 \"abba\" ，其他的非最优解包括 \"bb\" 和 \"\" 。\n",
    "\n",
    "提示：\n",
    "    1、1 <= s.length <= 300\n",
    "    2、s 只含小写英文字母"
   ]
  },
  {
   "cell_type": "code",
   "execution_count": 11,
   "metadata": {},
   "outputs": [],
   "source": [
    "from collections import defaultdict\n",
    "\n",
    "class Solution:\n",
    "    def maxLengthBetweenEqualCharacters(self, s: str) -> int:\n",
    "        max_len = -1\n",
    "        s_dict = defaultdict(list)\n",
    "        for i, a in enumerate(s):\n",
    "            if len(s_dict[a]) == 2:\n",
    "                s_dict[a].pop()\n",
    "                s_dict[a].append(i)\n",
    "            else:\n",
    "                s_dict[a].append(i)\n",
    "        print(s_dict)\n",
    "        for key, val in s_dict.items():\n",
    "            if len(val) == 2:\n",
    "                max_len = max(max_len, val[-1] - val[0] - 1)\n",
    "        return max_len"
   ]
  },
  {
   "cell_type": "code",
   "execution_count": 15,
   "metadata": {},
   "outputs": [
    {
     "name": "stdout",
     "output_type": "stream",
     "text": [
      "defaultdict(<class 'list'>, {'c': [0, 5], 'a': [1, 4], 'b': [2, 3]})\n"
     ]
    },
    {
     "data": {
      "text/plain": [
       "4"
      ]
     },
     "execution_count": 15,
     "metadata": {},
     "output_type": "execute_result"
    }
   ],
   "source": [
    "solution = Solution()\n",
    "solution.maxLengthBetweenEqualCharacters(\"cabbac\")"
   ]
  },
  {
   "cell_type": "code",
   "execution_count": null,
   "metadata": {},
   "outputs": [],
   "source": []
  }
 ],
 "metadata": {
  "kernelspec": {
   "display_name": "Python 3",
   "language": "python",
   "name": "python3"
  },
  "language_info": {
   "codemirror_mode": {
    "name": "ipython",
    "version": 3
   },
   "file_extension": ".py",
   "mimetype": "text/x-python",
   "name": "python",
   "nbconvert_exporter": "python",
   "pygments_lexer": "ipython3",
   "version": "3.6.2"
  }
 },
 "nbformat": 4,
 "nbformat_minor": 4
}
