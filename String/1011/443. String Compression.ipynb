{
 "cells": [
  {
   "cell_type": "raw",
   "metadata": {},
   "source": [
    "说明：\n",
    "    给定字符数组char，请使用以下算法对其进行压缩：以空字符串s开头。对于每个以char为单位的连续重复字符组：\n",
    "    如果组的长度为1，则将字符附加到s。\n",
    "    否则，在字符后面加上组的长度。压缩字符串s不应单独返回，而应存储在输入字符数组chars中。\n",
    "    请注意，长度为10或更长的组长度将以char形式分成多个字符。\n",
    "    修改输入数组后，返回数组的新长度。\n",
    "跟进：\n",
    "    您能否仅使用O（1）多余的空间来解决它？\n",
    "\n",
    "Example 1:\n",
    "    Input: chars = [\"a\",\"a\",\"b\",\"b\",\"c\",\"c\",\"c\"]\n",
    "    Output: Return 6, and the first 6 characters of the input array should be: [\"a\",\"2\",\"b\",\"2\",\"c\",\"3\"]\n",
    "    Explanation: The groups are \"aa\", \"bb\", and \"ccc\". This compresses to \"a2b2c3\".\n",
    "\n",
    "Example 2:\n",
    "    Input: chars = [\"a\"]\n",
    "    Output: Return 1, and the first character of the input array should be: [\"a\"]\n",
    "    Explanation: The only group is \"a\", which remains uncompressed since it's a single character.\n",
    "\n",
    "Example 3:\n",
    "    Input: chars = [\"a\",\"b\",\"b\",\"b\",\"b\",\"b\",\"b\",\"b\",\"b\",\"b\",\"b\",\"b\",\"b\"]\n",
    "    Output: Return 4, and the first 4 characters of the input array should be: [\"a\",\"b\",\"1\",\"2\"].\n",
    "    Explanation: The groups are \"a\" and \"bbbbbbbbbbbb\". This compresses to \"ab12\".\n",
    "\n",
    "Example 4:\n",
    "    Input: chars = [\"a\",\"a\",\"a\",\"b\",\"b\",\"a\",\"a\"]\n",
    "    Output: Return 6, and the first 6 characters of the input array should be: [\"a\",\"3\",\"b\",\"2\",\"a\",\"2\"].\n",
    "    Explanation: The groups are \"aaa\", \"bb\", and \"aa\". This compresses to \"a3b2a2\". Note that each group is independent even if two groups have the same character.\n",
    " \n",
    "Constraints:\n",
    "    1、1 <= chars.length <= 2000\n",
    "    2、chars[i] is a lower-case English letter, upper-case English letter, digit, or symbol."
   ]
  },
  {
   "cell_type": "code",
   "execution_count": 13,
   "metadata": {},
   "outputs": [],
   "source": [
    "class Solution:\n",
    "    def compress(self, chars) -> int:\n",
    "        res = []\n",
    "        idx = 0\n",
    "        while idx < len(chars):\n",
    "            val = chars[idx]\n",
    "            res.append(val)\n",
    "            count = 1\n",
    "            while idx + 1 < len(chars) and chars[idx + 1] == val:\n",
    "                count += 1\n",
    "                idx += 1\n",
    "            if count > 1:\n",
    "                str_count = str(count)\n",
    "                for j in str_count:\n",
    "                    res.append(j)\n",
    "            idx += 1\n",
    "        print(res)            "
   ]
  },
  {
   "cell_type": "code",
   "execution_count": 19,
   "metadata": {},
   "outputs": [],
   "source": [
    "class Solution:\n",
    "    def compress(self, A):\n",
    "        # Write index\n",
    "        def fwrite(i,a,n):\n",
    "            A[i] = a\n",
    "            i   += 1\n",
    "            if n>1:\n",
    "                for k in str(n):\n",
    "                    A[i] = k\n",
    "                    i   += 1\n",
    "            return i\n",
    "        #\n",
    "        i   = 0\n",
    "        a,n = A[0],1\n",
    "        for x in A[1:]:\n",
    "            if x==a:\n",
    "                n += 1\n",
    "            else:\n",
    "                i = fwrite(i,a,n)\n",
    "                a,n = x,1\n",
    "        # Write last pass\n",
    "        i = fwrite(i,a,n)\n",
    "        # Trim array A\n",
    "        for _ in range(i,len(A)):\n",
    "            A.pop()\n",
    "        print(A)\n",
    "        return i"
   ]
  },
  {
   "cell_type": "code",
   "execution_count": 20,
   "metadata": {},
   "outputs": [
    {
     "name": "stdout",
     "output_type": "stream",
     "text": [
      "['a', 'b', '1', '2']\n"
     ]
    },
    {
     "data": {
      "text/plain": [
       "4"
      ]
     },
     "execution_count": 20,
     "metadata": {},
     "output_type": "execute_result"
    }
   ],
   "source": [
    "solution = Solution()\n",
    "solution.compress([\"a\",\"b\",\"b\",\"b\",\"b\",\"b\",\"b\",\"b\",\"b\",\"b\",\"b\",\"b\",\"b\"])"
   ]
  },
  {
   "cell_type": "code",
   "execution_count": null,
   "metadata": {},
   "outputs": [],
   "source": []
  }
 ],
 "metadata": {
  "kernelspec": {
   "display_name": "Python 3",
   "language": "python",
   "name": "python3"
  },
  "language_info": {
   "codemirror_mode": {
    "name": "ipython",
    "version": 3
   },
   "file_extension": ".py",
   "mimetype": "text/x-python",
   "name": "python",
   "nbconvert_exporter": "python",
   "pygments_lexer": "ipython3",
   "version": "3.6.2"
  }
 },
 "nbformat": 4,
 "nbformat_minor": 4
}
