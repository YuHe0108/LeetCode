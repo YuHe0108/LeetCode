{
 "cells": [
  {
   "cell_type": "raw",
   "metadata": {},
   "source": [
    "说明：\n",
    "    给定字母数字字符串s。 （字母数字字符串是由小写英文字母和数字组成的字符串）。\n",
    "    您必须找到字符串的排列，其中没有字母后跟另一个字母，没有数字后跟另一个数字。\n",
    "    即，没有两个相邻的字符具有相同的类型。\n",
    "    如果无法重新格式化字符串，则返回重新格式化的字符串或返回空字符串。\n",
    "\n",
    "Example 1:\n",
    "    Input: s = \"a0b1c2\"\n",
    "    Output: \"0a1b2c\"\n",
    "    Explanation: No two adjacent characters have the same type in \"0a1b2c\". \"a0b1c2\", \"0a1b2c\", \"0c2a1b\" are also valid permutations.\n",
    "\n",
    "Example 2:\n",
    "    Input: s = \"leetcode\"\n",
    "    Output: \"\"\n",
    "    Explanation: \"leetcode\" has only characters so we cannot separate them by digits.\n",
    "\n",
    "Example 3:\n",
    "    Input: s = \"1229857369\"\n",
    "    Output: \"\"\n",
    "    Explanation: \"1229857369\" has only digits so we cannot separate them by characters.\n",
    "\n",
    "Example 4:\n",
    "    Input: s = \"covid2019\"\n",
    "    Output: \"c2o0v1i9d\"\n",
    "\n",
    "Example 5:\n",
    "    Input: s = \"ab123\"\n",
    "    Output: \"1a2b3\"\n",
    " \n",
    "Constraints:\n",
    "1、1 <= s.length <= 500\n",
    "2、s consists of only lowercase English letters and/or digits."
   ]
  },
  {
   "cell_type": "code",
   "execution_count": 20,
   "metadata": {},
   "outputs": [],
   "source": [
    "class Solution:\n",
    "    def reformat(self, s: str) -> str:\n",
    "        a_idx, n_idx = [], []\n",
    "        for a in s:\n",
    "            if a.isdigit():\n",
    "                a_idx.append(a)\n",
    "            else:\n",
    "                n_idx.append(a)\n",
    "        if abs(len(a_idx) - len(n_idx)) > 1:\n",
    "            return False\n",
    "        \n",
    "        if len(a_idx) < len(n_idx):\n",
    "            a_idx, n_idx = n_idx, a_idx\n",
    "        res = ''\n",
    "        idx = 0\n",
    "        while idx < min(len(a_idx), len(n_idx)):\n",
    "            res += a_idx[idx] + n_idx[idx]\n",
    "            idx += 1\n",
    "        if idx == len(a_idx):\n",
    "            return res\n",
    "        return res + a_idx[-1]"
   ]
  },
  {
   "cell_type": "code",
   "execution_count": 21,
   "metadata": {},
   "outputs": [
    {
     "data": {
      "text/plain": [
       "'c2o0v1i9d'"
      ]
     },
     "execution_count": 21,
     "metadata": {},
     "output_type": "execute_result"
    }
   ],
   "source": [
    "solution = Solution()\n",
    "solution.reformat(\"covid2019\")"
   ]
  },
  {
   "cell_type": "code",
   "execution_count": null,
   "metadata": {},
   "outputs": [],
   "source": []
  }
 ],
 "metadata": {
  "kernelspec": {
   "display_name": "Python 3",
   "language": "python",
   "name": "python3"
  },
  "language_info": {
   "codemirror_mode": {
    "name": "ipython",
    "version": 3
   },
   "file_extension": ".py",
   "mimetype": "text/x-python",
   "name": "python",
   "nbconvert_exporter": "python",
   "pygments_lexer": "ipython3",
   "version": "3.6.2"
  }
 },
 "nbformat": 4,
 "nbformat_minor": 4
}
