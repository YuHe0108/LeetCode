{
 "cells": [
  {
   "cell_type": "raw",
   "metadata": {},
   "source": [
    "说明：\n",
    "    给定两个字符串：s1和s2，它们的大小相同，\n",
    "    请检查字符串s1的某些排列是否可以破坏字符串s2的某些排列，反之亦然（换句话说s2可以破坏s1）。\n",
    "    如果对于0到n-1之间的所有i，如果 x[i] >= y[i] (按字母顺序)，则字符串x可以破坏字符串y（均为大小n）。\n",
    "\n",
    "Example 1:\n",
    "    Input: s1 = \"abc\", s2 = \"xya\"\n",
    "    Output: true\n",
    "    Explanation: \"ayx\" is a permutation of s2=\"xya\" which can break to string \"abc\" which is a permutation of s1=\"abc\".\n",
    "\n",
    "Example 2:\n",
    "    Input: s1 = \"abe\", s2 = \"acd\"\n",
    "    Output: false \n",
    "    Explanation: \n",
    "        All permutations for s1=\"abe\" are: \"abe\", \"aeb\", \"bae\", \"bea\", \"eab\" and \"eba\" and all permutation \n",
    "                         for s2=\"acd\" are: \"acd\", \"adc\", \"cad\", \"cda\", \"dac\" and \"dca\". However, \n",
    "                         there is not any permutation from s1 which can break some permutation from s2 and 反之亦然.\n",
    "\n",
    "Example 3:\n",
    "    Input: s1 = \"leetcodee\", s2  = \"interview\"\n",
    "    Output: true\n",
    " \n",
    "Constraints:\n",
    "    1、s1.length == n\n",
    "    2、s2.length == n\n",
    "    3、1 <= n <= 10^5\n",
    "    4、All strings consist of lowercase English letters."
   ]
  },
  {
   "cell_type": "code",
   "execution_count": 16,
   "metadata": {},
   "outputs": [],
   "source": [
    "class Solution:\n",
    "    def checkIfCanBreak(self, s1: str, s2: str) -> bool:\n",
    "        s1_num = [ord(x) - 97 for x in s1]\n",
    "        s2_num = [ord(x) - 97 for x in s2]\n",
    "        s1_num.sort()\n",
    "        s2_num.sort()\n",
    "        s1_large, s2_large = False, False\n",
    "        for i in range(len(s1_num)):\n",
    "            if s1_num[i] > s2_num[i]:\n",
    "                s1_large = True\n",
    "                if s2_large: return False\n",
    "            elif s1_num[i] < s2_num[i]:\n",
    "                s2_large = True\n",
    "                if s1_large: return False\n",
    "        return True"
   ]
  },
  {
   "cell_type": "code",
   "execution_count": 18,
   "metadata": {},
   "outputs": [
    {
     "data": {
      "text/plain": [
       "True"
      ]
     },
     "execution_count": 18,
     "metadata": {},
     "output_type": "execute_result"
    }
   ],
   "source": [
    "solution = Solution()\n",
    "solution.checkIfCanBreak(s1 = \"leetcodee\", s2  = \"interview\")"
   ]
  },
  {
   "cell_type": "code",
   "execution_count": null,
   "metadata": {},
   "outputs": [],
   "source": []
  },
  {
   "cell_type": "code",
   "execution_count": null,
   "metadata": {},
   "outputs": [],
   "source": []
  }
 ],
 "metadata": {
  "kernelspec": {
   "display_name": "Python 3",
   "language": "python",
   "name": "python3"
  },
  "language_info": {
   "codemirror_mode": {
    "name": "ipython",
    "version": 3
   },
   "file_extension": ".py",
   "mimetype": "text/x-python",
   "name": "python",
   "nbconvert_exporter": "python",
   "pygments_lexer": "ipython3",
   "version": "3.6.2"
  }
 },
 "nbformat": 4,
 "nbformat_minor": 4
}
