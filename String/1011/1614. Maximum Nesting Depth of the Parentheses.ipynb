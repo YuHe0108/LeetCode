{
 "cells": [
  {
   "cell_type": "raw",
   "metadata": {},
   "source": [
    "说明：\n",
    "    如果字符串满足以下条件之一，则它是有效的括号字符串（表示为VPS）：\n",
    "        1、它是一个空字符串“”，或者是一个不等于“（”或“）”的单个字符，\n",
    "        2、可以表示为AB（与B串联的A），其中A和B是VPS，\n",
    "        3、或者可以表示为（ A），其中A是VPS。\n",
    "    我们可以类似地定义任何VPS S的嵌套深度depth（S），如下所示：\n",
    "        1、depth(\"\") = 0\n",
    "        2、depth(A + B) = max(depth(A), depth(B)), where A and B are VPS's\n",
    "        3、depth(\"(\" + A + \")\") = 1 + depth(A), where A is a VPS.\n",
    "    例如，\"\", \"()()\", and \"()(()())\" are VPS's\n",
    "        (with nesting depths 0, 1, and 2), \n",
    "         and \")(\" and \"(()\" are not VPS's.\n",
    "\n",
    "    Given a VPS represented as string s, return the nesting depth of s.\n",
    "    \n",
    "\n",
    "Example 1:\n",
    "    Input: s = \"(1+(2*3)+((8)/4))+1\"\n",
    "    Output: 3\n",
    "    Explanation: Digit 8 is inside of 3 nested parentheses in the string.\n",
    "\n",
    "Example 2:\n",
    "    Input: s = \"(1)+((2))+(((3)))\"\n",
    "    Output: 3\n",
    "\n",
    "Example 3:\n",
    "    Input: s = \"1+(2*3)/(2-1)\"\n",
    "    Output: 1\n",
    "\n",
    "Example 4:\n",
    "    Input: s = \"1\"\n",
    "    Output: 0\n",
    "\n",
    "Constraints:\n",
    "    1、1 <= s.length <= 100\n",
    "    2、s consists of digits 0-9 and characters '+', '-', '*', '/', '(', and ')'.\n",
    "    3、It is guaranteed that parentheses expression s is a VPS."
   ]
  },
  {
   "cell_type": "code",
   "execution_count": null,
   "metadata": {},
   "outputs": [],
   "source": [
    "class Solution:\n",
    "    def maxDepth(self, s: str) -> int:\n",
    "        l_count, res = 0, 0\n",
    "        for a in s:\n",
    "            if a == '(':\n",
    "                l_count += 1\n",
    "                res = max(l_count, res)\n",
    "            elif a == ')':\n",
    "                l_count -= 1\n",
    "        return res"
   ]
  }
 ],
 "metadata": {
  "kernelspec": {
   "display_name": "Python 3",
   "language": "python",
   "name": "python3"
  },
  "language_info": {
   "codemirror_mode": {
    "name": "ipython",
    "version": 3
   },
   "file_extension": ".py",
   "mimetype": "text/x-python",
   "name": "python",
   "nbconvert_exporter": "python",
   "pygments_lexer": "ipython3",
   "version": "3.6.2"
  }
 },
 "nbformat": 4,
 "nbformat_minor": 4
}
