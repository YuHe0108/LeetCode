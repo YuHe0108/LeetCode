{
 "cells": [
  {
   "cell_type": "raw",
   "metadata": {},
   "source": [
    "说明：\n",
    "    Run-length encoding 是一种字符串压缩方法，\n",
    "    可以通过用字符的级联和标记字符计数的数字（游程长度）替换连续的相同字符（重复2次或更多次）来工作。\n",
    "    例如，要压缩字符串“ aabccc”，我们将“ aa”替换为“ a2”，并将“ ccc”替换为“ c3”。\n",
    "    因此，压缩的字符串变为“ a2bc3”。\n",
    "    请注意，在此问题中，我们没有在单个字符后添加“ 1”。\n",
    "    给定字符串s和整数k。您需要从s中删除最多k个字符，\n",
    "    以使s的游程长度编码版本具有最小长度。\n",
    "    删除最多k个字符后，找到s的游程编码版本的最小长度。\n",
    "\n",
    "Example 1:\n",
    "    Input: s = \"aaabcccd\", k = 2\n",
    "    Output: 4\n",
    "    Explanation: \n",
    "        Compressing s without deleting anything will give us \"a3bc3d\" of length 6. \n",
    "        Deleting any of the characters 'a' or 'c' would at most decrease the length of the compressed string to 5, \n",
    "        for instance delete 2 'a' then we will have s = \"abcccd\" which compressed is abc3d. \n",
    "        Therefore, the optimal way is to delete 'b' and 'd', then the compressed version of s will be \"a3c3\" of length 4.\n",
    "\n",
    "Example 2:\n",
    "    Input: s = \"aabbaa\", k = 2\n",
    "    Output: 2\n",
    "    Explanation: If we delete both 'b' characters, the resulting compressed string would be \"a4\" of length 2.\n",
    "    \n",
    "Example 3:\n",
    "    Input: s = \"aaaaaaaaaaa\", k = 0\n",
    "    Output: 3\n",
    "    Explanation: Since k is zero, we cannot delete anything. The compressed string is \"a11\" of length 3.\n",
    " \n",
    "Constraints:\n",
    "    1、1 <= s.length <= 100\n",
    "    2、0 <= k <= s.length\n",
    "    3、s contains only lowercase English letters."
   ]
  },
  {
   "cell_type": "code",
   "execution_count": 11,
   "metadata": {},
   "outputs": [],
   "source": [
    "from collections import defaultdict\n",
    "\n",
    "class Solution:\n",
    "    def getLengthOfOptimalCompression(self, s: str, k: int) -> int:\n",
    "        def dp(start, k):\n",
    "            # 从字符串的第start位置开始，可以最多删除 k 个元素\n",
    "            if (start, k) in memo:\n",
    "                return memo[(start, k)]\n",
    "            if start == n or n - start <= k:\n",
    "                return 0\n",
    "            \n",
    "            ans = float('inf') # 记录 [start:n]最多删除k个元素，compress str 的最小长度是多少 \n",
    "            count = defaultdict(int) # 记录每个元素出现的频率\n",
    "            most_freq = 0 # s[start:n] 中元素最多出现的个数是多少\n",
    "            for j in range(start, n):\n",
    "                c = s[j]\n",
    "                count[c] += 1\n",
    "                most_freq = max(most_freq, count[c]) # 更新元素最多出现的次数\n",
    "                \n",
    "                # 压缩后 str 的长度\n",
    "                compressed_len = 1 + (len(str(most_freq)) if most_freq > 1 else 0)\n",
    "                if k - (j - start + 1 - most_freq) >= 0: \n",
    "                    # j - start + 1 当前字符串的长度， most_freq: 当前字符串中出现次数最多的数目\n",
    "                    ans = min(ans, compressed_len + dp(j + 1, k - (j - start + 1 - most_freq)))\n",
    "            return ans\n",
    "        \n",
    "        n = len(s)\n",
    "        memo = {}\n",
    "        return dp(0, k)"
   ]
  },
  {
   "cell_type": "code",
   "execution_count": 13,
   "metadata": {},
   "outputs": [
    {
     "data": {
      "text/plain": [
       "4"
      ]
     },
     "execution_count": 13,
     "metadata": {},
     "output_type": "execute_result"
    }
   ],
   "source": [
    "solution = Solution()\n",
    "solution.getLengthOfOptimalCompression(s = \"aaabcccd\", k = 2)"
   ]
  },
  {
   "cell_type": "code",
   "execution_count": 19,
   "metadata": {},
   "outputs": [],
   "source": [
    "from collections import defaultdict\n",
    "from functools import lru_cache\n",
    "\n",
    "class Solution:\n",
    "    def getLengthOfOptimalCompression(self, s: str, k: int) -> int:\n",
    "        @lru_cache(None)\n",
    "        def dp(start, k):\n",
    "            # 从字符串的第start位置开始，可以最多删除 k 个元素\n",
    "            # if (start, k) in memo:\n",
    "            #     return memo[(start, k)]\n",
    "            if start == n or n - start <= k:\n",
    "                return 0\n",
    "            \n",
    "            ans = float('inf') # 记录 [start:n]最多删除k个元素，compress str 的最小长度是多少 \n",
    "            count = defaultdict(int) # 记录每个元素出现的频率\n",
    "            most_freq = 0 # s[start:n] 中元素最多出现的个数是多少\n",
    "            for j in range(start, n):\n",
    "                c = s[j]\n",
    "                count[c] += 1\n",
    "                most_freq = max(most_freq, count[c]) # 更新元素最多出现的次数\n",
    "                \n",
    "                # 压缩后 str 的长度\n",
    "                compressed_len = 1 + (len(str(most_freq)) if most_freq > 1 else 0)\n",
    "                if k - (j - start + 1 - most_freq) >= 0: \n",
    "                    ans = min(ans, compressed_len + dp(j+1, k - (j - start + 1 - most_freq)))\n",
    "            # memo[(start, k)] = ans\n",
    "            return ans\n",
    "        \n",
    "        n = len(s)\n",
    "        # memo = {}\n",
    "        return dp(0, k)"
   ]
  },
  {
   "cell_type": "code",
   "execution_count": 20,
   "metadata": {},
   "outputs": [
    {
     "data": {
      "text/plain": [
       "4"
      ]
     },
     "execution_count": 20,
     "metadata": {},
     "output_type": "execute_result"
    }
   ],
   "source": [
    "solution = Solution()\n",
    "solution.getLengthOfOptimalCompression(s = \"aaabcccd\", k = 2)"
   ]
  },
  {
   "cell_type": "code",
   "execution_count": null,
   "metadata": {},
   "outputs": [],
   "source": []
  }
 ],
 "metadata": {
  "kernelspec": {
   "display_name": "Python 3",
   "language": "python",
   "name": "python3"
  },
  "language_info": {
   "codemirror_mode": {
    "name": "ipython",
    "version": 3
   },
   "file_extension": ".py",
   "mimetype": "text/x-python",
   "name": "python",
   "nbconvert_exporter": "python",
   "pygments_lexer": "ipython3",
   "version": "3.6.2"
  }
 },
 "nbformat": 4,
 "nbformat_minor": 4
}
