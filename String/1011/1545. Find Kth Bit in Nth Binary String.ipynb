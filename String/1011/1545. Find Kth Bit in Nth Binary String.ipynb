{
 "cells": [
  {
   "cell_type": "raw",
   "metadata": {},
   "source": [
    "说明：\n",
    "    给定两个正整数n和k，二进制字符串Sn形成如下：\n",
    "    1、S1 = \"0\"\n",
    "    2、Si = Si-1 + \"1\" + reverse(invert(Si-1)) for i > 1\n",
    "    其中 “+” 表示串联操作，reverse（x）返回反转的字符串x，invert（x）反转x中的所有位（0变为1，1变为0）。\n",
    "    例如，上述序列中的前四个字符串是：\n",
    "    S1 = \"0\"\n",
    "    S2 = \"011\"\n",
    "    S3 = \"0111001\"\n",
    "    S4 = \"011100110110001\"\n",
    "    返回Sn中的第k位。保证k对于给定的n有效。\n",
    "\n",
    "Example 1:\n",
    "    Input: n = 3, k = 1\n",
    "    Output: \"0\"\n",
    "    Explanation: S3 is \"0111001\". The first bit is \"0\".\n",
    "\n",
    "Example 2:\n",
    "    Input: n = 4, k = 11\n",
    "    Output: \"1\"\n",
    "    Explanation: S4 is \"011100110110001\". The 11th bit is \"1\".\n",
    "\n",
    "Example 3:\n",
    "    Input: n = 1, k = 1\n",
    "    Output: \"0\"\n",
    "\n",
    "Example 4:\n",
    "    Input: n = 2, k = 3\n",
    "    Output: \"1\"\n",
    "\n",
    "Constraints:\n",
    "    1、1 <= n <= 20\n",
    "    2、1 <= k <= 2n - 1"
   ]
  },
  {
   "cell_type": "code",
   "execution_count": 22,
   "metadata": {},
   "outputs": [],
   "source": [
    "class Solution:\n",
    "    def findKthBit(self, n: int, k: int) -> str:\n",
    "        if n == 1: return 0\n",
    "        res = self.helper(1, '0', n)\n",
    "        return res[k-1]\n",
    "    \n",
    "    def helper(self, n, cur_str, K):\n",
    "        if n == K:\n",
    "            return cur_str\n",
    "        inverse_cur = ''\n",
    "        for a in cur_str[::-1]:\n",
    "            if a == '0':\n",
    "                inverse_cur += '1'\n",
    "            else:\n",
    "                inverse_cur += '0'\n",
    "        return self.helper(n+1, cur_str + '1' + inverse_cur, K)"
   ]
  },
  {
   "cell_type": "code",
   "execution_count": 25,
   "metadata": {},
   "outputs": [
    {
     "name": "stdout",
     "output_type": "stream",
     "text": [
      "011100110110001\n"
     ]
    },
    {
     "data": {
      "text/plain": [
       "'1'"
      ]
     },
     "execution_count": 25,
     "metadata": {},
     "output_type": "execute_result"
    }
   ],
   "source": [
    "solution = Solution()\n",
    "solution.findKthBit(4, 3)"
   ]
  },
  {
   "cell_type": "code",
   "execution_count": 51,
   "metadata": {},
   "outputs": [],
   "source": [
    "class Solution:\n",
    "    def findKthBit(self, n: int, k: int) -> str:\n",
    "        # S的奇数序列是 01010101，(3, 7, 11, ...)是1\n",
    "        # 所以如果k是奇数，直接返回 (k >> 1) & 1\n",
    "        \n",
    "        # S的偶数序列是 1101100... (2, 4, 6, 8, 10, ...)\n",
    "        # 这个序列的奇数序列是 10101010，(2, 6, 10, 14, ...), (2, 10, 18, ...)是1\n",
    "        # 所以如果k是偶数，k >> 1就将偶数序列移动到奇数位置上 -> (1, 5, 9, ...)是1\n",
    "        # 重复这个过程直到k为奇数，然后 (k >> 1) & 1 ^ 1\n",
    "        \n",
    "        # k // (k & -k) 相当于除到k为奇数。\n",
    "        return str((k // (k & -k)) >> 1 & 1 ^ ((k & 1) ^ 1))\n",
    "    \n",
    "    def findKthBit_logn(self, n: int, k: int) -> str:\n",
    "        cur, flip = 1 << (n - 1), 0\n",
    "        while k > 1:\n",
    "            if k & (k - 1) == 0:\n",
    "                return str(flip ^ 1)\n",
    "            if k > cur:\n",
    "                k = 2 * cur - k\n",
    "                flip ^= 1\n",
    "            cur >>= 1\n",
    "        \n",
    "        return str(flip)"
   ]
  },
  {
   "cell_type": "code",
   "execution_count": null,
   "metadata": {},
   "outputs": [],
   "source": []
  }
 ],
 "metadata": {
  "kernelspec": {
   "display_name": "Python 3",
   "language": "python",
   "name": "python3"
  },
  "language_info": {
   "codemirror_mode": {
    "name": "ipython",
    "version": 3
   },
   "file_extension": ".py",
   "mimetype": "text/x-python",
   "name": "python",
   "nbconvert_exporter": "python",
   "pygments_lexer": "ipython3",
   "version": "3.6.2"
  }
 },
 "nbformat": 4,
 "nbformat_minor": 4
}
