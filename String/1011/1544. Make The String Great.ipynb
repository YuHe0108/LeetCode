{
 "cells": [
  {
   "cell_type": "raw",
   "metadata": {},
   "source": [
    "说明：\n",
    "    给出由大小写英文字母组成的字符串s。\n",
    "    好的字符串是没有两个相邻字符 s[i]和s [i+1]的字符串，其中：\n",
    "        1、0 <= i <= s.length-2 \n",
    "        2、s[i]是小写字母，s [i+1]是相同字母，但大写，反之亦然。\n",
    "     为了使字符串变好，可以选择使字符串变坏的两个相邻字符并将其删除。\n",
    "     您可以继续这样做，直到字符串变好为止。\n",
    "     改好后返回字符串。在给定的约束下，保证答案是唯一的。\n",
    "     请注意，空字符串也可以。\n",
    "\n",
    "Example 1:\n",
    "    Input: s = \"leEeetcode\"\n",
    "    Output: \"leetcode\"\n",
    "    Explanation: In the first step, either you choose i = 1 or i = 2, both will result \"leEeetcode\" to be reduced to \"leetcode\".\n",
    "\n",
    "Example 2:\n",
    "    Input: s = \"abBAcC\"\n",
    "    Output: \"\"\n",
    "    Explanation: We have many possible scenarios, and all lead to the same answer. For example:\n",
    "        \"abBAcC\" --> \"aAcC\" --> \"cC\" --> \"\"\n",
    "        \"abBAcC\" --> \"abBA\" --> \"aA\" --> \"\"\n",
    "\n",
    "Example 3:\n",
    "    Input: s = \"s\"\n",
    "    Output: \"s\"\n",
    " \n",
    "\n",
    "Constraints:\n",
    "    1、1 <= s.length <= 100\n",
    "    2、s contains only lower and upper case English letters."
   ]
  },
  {
   "cell_type": "code",
   "execution_count": 16,
   "metadata": {},
   "outputs": [],
   "source": [
    "class Solution:\n",
    "    def makeGood(self, s: str) -> str:\n",
    "        stack = []\n",
    "        for a in s:\n",
    "            if not stack:\n",
    "                stack.append(ord(a))\n",
    "            else:\n",
    "                if 97 <= stack[-1] <= 122 and chr(stack[-1] - 32) == a:\n",
    "                    # stack[-1]小写字母\n",
    "                    stack.pop()\n",
    "                elif chr(stack[-1] + 32) == a:\n",
    "                    # stack[-1]大写字母\n",
    "                    stack.pop()\n",
    "                else:\n",
    "                    stack.append(ord(a))\n",
    "        res = \"\"\n",
    "        for i in stack:\n",
    "            res += chr(i)\n",
    "        return res"
   ]
  },
  {
   "cell_type": "code",
   "execution_count": 17,
   "metadata": {},
   "outputs": [
    {
     "name": "stdout",
     "output_type": "stream",
     "text": [
      "\"leetcode\"\n"
     ]
    },
    {
     "data": {
      "text/plain": [
       "'\"leetcode\"'"
      ]
     },
     "execution_count": 17,
     "metadata": {},
     "output_type": "execute_result"
    }
   ],
   "source": [
    "solution = Solution()\n",
    "solution.makeGood('\"leEeetcode\"')"
   ]
  },
  {
   "cell_type": "code",
   "execution_count": 4,
   "metadata": {},
   "outputs": [
    {
     "name": "stdout",
     "output_type": "stream",
     "text": [
      "97\n",
      "122\n",
      "65\n",
      "90\n"
     ]
    }
   ],
   "source": [
    "print(ord('a'))\n",
    "print(ord('z'))\n",
    "print(ord('A'))\n",
    "print(ord('Z'))"
   ]
  },
  {
   "cell_type": "code",
   "execution_count": 5,
   "metadata": {},
   "outputs": [
    {
     "data": {
      "text/plain": [
       "32"
      ]
     },
     "execution_count": 5,
     "metadata": {},
     "output_type": "execute_result"
    }
   ],
   "source": [
    "97 - 65"
   ]
  },
  {
   "cell_type": "code",
   "execution_count": null,
   "metadata": {},
   "outputs": [],
   "source": []
  }
 ],
 "metadata": {
  "kernelspec": {
   "display_name": "Python 3",
   "language": "python",
   "name": "python3"
  },
  "language_info": {
   "codemirror_mode": {
    "name": "ipython",
    "version": 3
   },
   "file_extension": ".py",
   "mimetype": "text/x-python",
   "name": "python",
   "nbconvert_exporter": "python",
   "pygments_lexer": "ipython3",
   "version": "3.6.2"
  }
 },
 "nbformat": 4,
 "nbformat_minor": 4
}
