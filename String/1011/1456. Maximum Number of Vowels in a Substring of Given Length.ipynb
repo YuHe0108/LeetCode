{
 "cells": [
  {
   "cell_type": "raw",
   "metadata": {},
   "source": [
    "说明：\n",
    "    给定字符串s和整数k。\n",
    "    返回长度为k的s的任何子字符串中的最大元音字母数。英文的元音字母为（a，e，i，o，u）。\n",
    "\n",
    "Example 1:\n",
    "    Input: s = \"abciiidef\", k = 3\n",
    "    Output: 3\n",
    "    Explanation: The substring \"iii\" contains 3 vowel letters.\n",
    "\n",
    "Example 2:\n",
    "    Input: s = \"aeiou\", k = 2\n",
    "    Output: 2\n",
    "    Explanation: Any substring of length 2 contains 2 vowels.\n",
    "\n",
    "Example 3:\n",
    "    Input: s = \"leetcode\", k = 3\n",
    "    Output: 2\n",
    "    Explanation: \"lee\", \"eet\" and \"ode\" contain 2 vowels.\n",
    "\n",
    "Example 4:\n",
    "    Input: s = \"rhythms\", k = 4\n",
    "    Output: 0\n",
    "    Explanation: We can see that s doesn't have any vowel letters.\n",
    "\n",
    "Example 5:\n",
    "    Input: s = \"tryhard\", k = 4\n",
    "    Output: 1\n",
    "\n",
    "Constraints:\n",
    "    1、1 <= s.length <= 10^5\n",
    "    2、s consists of lowercase English letters.\n",
    "    3、1 <= k <= s.length"
   ]
  },
  {
   "cell_type": "code",
   "execution_count": 51,
   "metadata": {},
   "outputs": [],
   "source": [
    "class Solution:\n",
    "    def maxVowels(self, s: str, k: int) -> int:\n",
    "        alpha = {'a', 'e', 'i', 'o', 'u'}\n",
    "        count = 0\n",
    "        for i in range(len(s)):\n",
    "            if s[i] in alpha:\n",
    "                res = 1\n",
    "                for j in range(i+1, min(i + k, len(s))):\n",
    "                    if s[j] in alpha:\n",
    "                        res += 1\n",
    "                count = max(count, res)\n",
    "                if count == k:\n",
    "                    return count\n",
    "        return count"
   ]
  },
  {
   "cell_type": "code",
   "execution_count": 59,
   "metadata": {},
   "outputs": [],
   "source": [
    "class Solution:\n",
    "    def maxVowels(self, s: str, k: int) -> int:\n",
    "        alpha = {'a', 'e', 'i', 'o', 'u'}\n",
    "        out, ans = 0, 0\n",
    "        \n",
    "        # 前 i 个字母是元音字母的是哪几个\n",
    "        for i in range(k):\n",
    "            if s[i] in alpha:\n",
    "                ans += 1\n",
    "        out = ans\n",
    "        for i in range(k, len(s)):\n",
    "            if s[i] in alpha:\n",
    "                ans += 1\n",
    "            if s[i-k] in alpha:\n",
    "                ans -= 1\n",
    "            out = max(out, ans)\n",
    "        return out"
   ]
  },
  {
   "cell_type": "code",
   "execution_count": 60,
   "metadata": {},
   "outputs": [
    {
     "data": {
      "text/plain": [
       "4"
      ]
     },
     "execution_count": 60,
     "metadata": {},
     "output_type": "execute_result"
    }
   ],
   "source": [
    "solution = Solution()\n",
    "solution.maxVowels(s = \"weallloveyou\", k = 7)"
   ]
  },
  {
   "cell_type": "code",
   "execution_count": null,
   "metadata": {},
   "outputs": [],
   "source": [
    "ealllov\n",
    "alllove\n",
    "oveyou"
   ]
  }
 ],
 "metadata": {
  "kernelspec": {
   "display_name": "Python 3",
   "language": "python",
   "name": "python3"
  },
  "language_info": {
   "codemirror_mode": {
    "name": "ipython",
    "version": 3
   },
   "file_extension": ".py",
   "mimetype": "text/x-python",
   "name": "python",
   "nbconvert_exporter": "python",
   "pygments_lexer": "ipython3",
   "version": "3.6.2"
  }
 },
 "nbformat": 4,
 "nbformat_minor": 4
}
