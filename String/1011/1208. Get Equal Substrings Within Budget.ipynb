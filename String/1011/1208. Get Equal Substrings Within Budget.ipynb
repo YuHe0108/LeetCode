{
 "cells": [
  {
   "cell_type": "raw",
   "metadata": {},
   "source": [
    "说明：\n",
    "     给您两个相同长度的字符串s和t。您希望将s更改为t。\n",
    "     将s的第i个字符更改为t的第i个字符将花费|s[i]-t[i]|即字符的ASCII值之间的绝对差异。\n",
    "     您还将获得一个整数maxCost。\n",
    "     返回s的子串的最大长度，该子串的最大长度可以更改为与开销小于或等于maxCost的相应子串相同。\n",
    "     如果s中没有子字符串可以从t更改为相应的子字符串，\n",
    "\n",
    "Example 1:\n",
    "    Input: s = \"abcd\", t = \"bcdf\", maxCost = 3\n",
    "    Output: 3\n",
    "    Explanation: \"abc\" of s can change to \"bcd\". That costs 3, so the maximum length is 3.\n",
    "\n",
    "Example 2:\n",
    "    Input: s = \"abcd\", t = \"cdef\", maxCost = 3\n",
    "    Output: 1\n",
    "    Explanation: Each character in s costs 2 to change to charactor in t, so the maximum length is 1.\n",
    "\n",
    "Example 3:\n",
    "    Input: s = \"abcd\", t = \"acde\", maxCost = 0\n",
    "    Output: 1\n",
    "    Explanation: You can't make any change, so the maximum length is 1.\n",
    "\n",
    "Constraints:\n",
    "    1、1 <= s.length, t.length <= 10^5\n",
    "    2、0 <= maxCost <= 10^6\n",
    "    3、s and t only contain lower case English letters."
   ]
  },
  {
   "cell_type": "code",
   "execution_count": 36,
   "metadata": {},
   "outputs": [],
   "source": [
    "class Solution:\n",
    "    def equalSubstring(self, s: str, t: str, maxCost: int) -> int:\n",
    "        res, idx = 0, 0\n",
    "        for i in range(len(s)):\n",
    "            if s[i] == t[i]:\n",
    "                res += 1\n",
    "                idx = i + 1\n",
    "            else:\n",
    "                break\n",
    "        \n",
    "        out = res\n",
    "        while idx < len(s):\n",
    "            if s[idx] != t[idx]:\n",
    "                maxCost -= abs(ord(s[idx]) - ord(t[idx]))\n",
    "            if maxCost >= 0:\n",
    "                res += 1            \n",
    "            elif maxCost < 0:\n",
    "                past = idx - res\n",
    "                while s[past] == t[past]:\n",
    "                    res -= 1\n",
    "                    past += 1\n",
    "                maxCost += abs(ord(s[past]) - ord(t[past]))\n",
    "            out = max(res, out)\n",
    "            idx += 1\n",
    "        return out"
   ]
  },
  {
   "cell_type": "code",
   "execution_count": 38,
   "metadata": {},
   "outputs": [
    {
     "name": "stdout",
     "output_type": "stream",
     "text": [
      "1\n"
     ]
    },
    {
     "data": {
      "text/plain": [
       "3"
      ]
     },
     "execution_count": 38,
     "metadata": {},
     "output_type": "execute_result"
    }
   ],
   "source": [
    "solution = Solution()\n",
    "solution.equalSubstring(s = \"abdd\", t = \"abch\", maxCost = 3)"
   ]
  },
  {
   "cell_type": "code",
   "execution_count": null,
   "metadata": {},
   "outputs": [],
   "source": []
  }
 ],
 "metadata": {
  "kernelspec": {
   "display_name": "Python 3",
   "language": "python",
   "name": "python3"
  },
  "language_info": {
   "codemirror_mode": {
    "name": "ipython",
    "version": 3
   },
   "file_extension": ".py",
   "mimetype": "text/x-python",
   "name": "python",
   "nbconvert_exporter": "python",
   "pygments_lexer": "ipython3",
   "version": "3.6.2"
  }
 },
 "nbformat": 4,
 "nbformat_minor": 4
}
