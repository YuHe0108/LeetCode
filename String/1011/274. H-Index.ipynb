{
 "cells": [
  {
   "cell_type": "raw",
   "metadata": {},
   "source": [
    "说明：\n",
    "    给定研究人员的一系列引文（每个引文是一个非负整数），\n",
    "    编写一个函数来计算研究人员的h指数。\n",
    "    根据Wikipedia上h-index的定义：\n",
    "        “如果一位科学家的N篇论文中的h篇均至少被h引用，而其他N - h篇论文均不被h篇引用，则科学家对h索引进行索引。”\n",
    "\n",
    "Example:\n",
    "    Input: citations = [3,0,6,1,5]\n",
    "    Output: 3 \n",
    "    Explanation: [3,0,6,1,5] means the researcher has 5 papers in total and each of them had \n",
    "                 received 3, 0, 6, 1, 5 citations respectively. \n",
    "                 Since the researcher has 3 papers with at least 3 citations each and the remaining \n",
    "                 two with no more than 3 citations each, her h-index is 3.\n",
    "\n",
    "注意：如果h有多个可能的值，则将最大值作为h索引。"
   ]
  },
  {
   "cell_type": "code",
   "execution_count": 10,
   "metadata": {},
   "outputs": [],
   "source": [
    "from collections import Counter\n",
    "\n",
    "class Solution:\n",
    "    def hIndex(self, citations) -> int:\n",
    "        c_freq = Counter(citations)\n",
    "        c_freq = sorted(c_freq.items(), key=lambda x: x[0])\n",
    "        res = 0\n",
    "        for i in range(len(c_freq)):\n",
    "            if s[i][0]"
   ]
  },
  {
   "cell_type": "code",
   "execution_count": 28,
   "metadata": {},
   "outputs": [],
   "source": [
    "class Solution:\n",
    "    def hIndex(self, citations) -> int:\n",
    "        n = len(citations)\n",
    "        paper = [0] * (n + 1)\n",
    "        for c in citations:\n",
    "            paper[min(c, n)] += 1\n",
    "            \n",
    "        s, h = paper[-1], n\n",
    "        while h > s:\n",
    "            h -= 1\n",
    "            s += paper[h]\n",
    "        return h"
   ]
  },
  {
   "cell_type": "code",
   "execution_count": 29,
   "metadata": {},
   "outputs": [
    {
     "name": "stdout",
     "output_type": "stream",
     "text": [
      "[1, 1, 0, 1, 0, 2]\n"
     ]
    },
    {
     "data": {
      "text/plain": [
       "3"
      ]
     },
     "execution_count": 29,
     "metadata": {},
     "output_type": "execute_result"
    }
   ],
   "source": [
    "solution = Solution()\n",
    "solution.hIndex([3,0,6,1,5])"
   ]
  },
  {
   "cell_type": "code",
   "execution_count": null,
   "metadata": {},
   "outputs": [],
   "source": []
  }
 ],
 "metadata": {
  "kernelspec": {
   "display_name": "Python 3",
   "language": "python",
   "name": "python3"
  },
  "language_info": {
   "codemirror_mode": {
    "name": "ipython",
    "version": 3
   },
   "file_extension": ".py",
   "mimetype": "text/x-python",
   "name": "python",
   "nbconvert_exporter": "python",
   "pygments_lexer": "ipython3",
   "version": "3.6.2"
  }
 },
 "nbformat": 4,
 "nbformat_minor": 4
}
