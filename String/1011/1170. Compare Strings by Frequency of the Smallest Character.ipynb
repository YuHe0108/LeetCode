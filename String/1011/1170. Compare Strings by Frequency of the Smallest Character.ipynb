{
 "cells": [
  {
   "cell_type": "raw",
   "metadata": {},
   "source": [
    "说明：\n",
    "    让我们在一个非空字符串s上定义一个函数f（s），该函数计算s中最小字符的频率。\n",
    "    例如，如果s =“ dcce”，则f（s）= 2，\n",
    "    因为最小字符为“ c”，其频率为2。\n",
    "    现在，给定字符串数组查询和单词，返回整数数组答案，\n",
    "    其中每个答案[i]是 f(queries[i]) < f(W) 的单词数，其中W是单词中的单词。\n",
    "\n",
    "Example 1:\n",
    "    Input: queries = [\"cbd\"], words = [\"zaaaz\"]\n",
    "    Output: [1]\n",
    "    Explanation: On the first query we have f(\"cbd\") = 1, f(\"zaaaz\") = 3 so f(\"cbd\") < f(\"zaaaz\").\n",
    "\n",
    "Example 2:\n",
    "    Input: queries = [\"bbb\",\"cc\"], words = [\"a\",\"aa\",\"aaa\",\"aaaa\"]\n",
    "    Output: [1,2]\n",
    "    Explanation: On the first query only f(\"bbb\") < f(\"aaaa\"). \n",
    "                 On the second query both f(\"aaa\") and f(\"aaaa\") are both > f(\"cc\").\n",
    "\n",
    "Constraints: \n",
    "    1、1 <= queries.length <= 2000\n",
    "    2、1 <= words.length <= 2000\n",
    "    3、1 <= queries[i].length, words[i].length <= 10\n",
    "    4、queries[i][j], words[i][j] are English lowercase letters."
   ]
  },
  {
   "cell_type": "code",
   "execution_count": 87,
   "metadata": {},
   "outputs": [],
   "source": [
    "from collections import Counter \n",
    "\n",
    "class Solution:\n",
    "    def numSmallerByFrequency(self, queries, words):\n",
    "        ans = []\n",
    "        q_freq = [self.helper(word) for word in queries]\n",
    "        w_freq = [self.helper(word) for word in words]\n",
    "        print(q_freq, w_freq)\n",
    "        for i in range(len(q_freq)):\n",
    "            cnt = 0\n",
    "            for j in range(len(w_freq)):\n",
    "                if q_freq[i] < w_freq[j]:\n",
    "                    cnt += 1\n",
    "            if cnt != 0:\n",
    "                ans.append(cnt)\n",
    "        return ans\n",
    "    \n",
    "    def helper(self, word):\n",
    "        # 返回word中最小字符的频率\n",
    "        w_freq = Counter(word)\n",
    "        w_freq = sorted(w_freq.items(), key=lambda x: x[0])\n",
    "        return w_freq[0][1]"
   ]
  },
  {
   "cell_type": "code",
   "execution_count": 88,
   "metadata": {},
   "outputs": [
    {
     "name": "stdout",
     "output_type": "stream",
     "text": [
      "[1, 7, 6, 4, 2, 2, 2, 6, 2, 3] [3, 2, 2, 1, 1, 1, 1, 10, 5, 2]\n"
     ]
    },
    {
     "data": {
      "text/plain": [
       "[6, 1, 1, 2, 3, 3, 3, 1, 3, 2]"
      ]
     },
     "execution_count": 88,
     "metadata": {},
     "output_type": "execute_result"
    }
   ],
   "source": [
    "solution = Solution()\n",
    "solution.numSmallerByFrequency(queries = [\"bba\",\"abaaaaaa\",\"aaaaaa\",\"bbabbabaab\",\"aba\",\"aa\",\"baab\",\"bbbbbb\",\"aab\",\"bbabbaabb\"],\n",
    "                               words = [\"aaabbb\",\"aab\",\"babbab\",\"babbbb\",\"b\",\"bbbbbbbbab\",\"a\",\"bbbbbbbbbb\",\"baaabbaab\",\"aa\"])"
   ]
  },
  {
   "cell_type": "code",
   "execution_count": 74,
   "metadata": {},
   "outputs": [
    {
     "name": "stdout",
     "output_type": "stream",
     "text": [
      "10\n"
     ]
    }
   ],
   "source": [
    "a = [6,1,1,2,3,3,3,1,3,2]\n",
    "print(len(a))"
   ]
  },
  {
   "cell_type": "code",
   "execution_count": null,
   "metadata": {},
   "outputs": [],
   "source": [
    "q = [1, 7, 6, 4, 2, 2, 2, 6, 2, 3] \n",
    "w = [3, 2, 2, 1, 1, 1, 1, 10, 5, 2]\n",
    "# f(queries[i]) < f(W)"
   ]
  },
  {
   "cell_type": "code",
   "execution_count": 91,
   "metadata": {},
   "outputs": [],
   "source": [
    "class Solution:\n",
    "    def numSmallerByFrequency(self, queries, words):\n",
    "        def str2num(ls):\n",
    "            q = []\n",
    "            for i in range(len(ls)):\n",
    "                min_char = 'z'\n",
    "                count = 0\n",
    "                for j in range(len(ls[i])):\n",
    "                    if ord(ls[i][j]) < ord(min_char):\n",
    "                        count = 1\n",
    "                        min_char = ls[i][j]\n",
    "                    elif ord(ls[i][j]) == ord(min_char):\n",
    "                        count += 1\n",
    "                q.append(count)\n",
    "            return q\n",
    "        \n",
    "        def bin_search(a):\n",
    "            l, r = 0, len(w)\n",
    "            while l < r:\n",
    "                mid = (l+r)//2\n",
    "                if w[mid] <= a:\n",
    "                    l = mid + 1\n",
    "                else:\n",
    "                    r = mid\n",
    "            return l\n",
    "            \n",
    "        q = str2num(queries)\n",
    "        w = str2num(words)\n",
    "        w.sort()\n",
    "        res = []\n",
    "        for i in range(len(q)):\n",
    "            res.append(len(w) - bin_search(q[i]))\n",
    "        return res"
   ]
  },
  {
   "cell_type": "code",
   "execution_count": 92,
   "metadata": {},
   "outputs": [
    {
     "name": "stdout",
     "output_type": "stream",
     "text": [
      "[1, 7, 6, 4, 2, 2, 2, 6, 2, 3] [3, 2, 2, 1, 1, 1, 1, 10, 5, 2]\n"
     ]
    },
    {
     "data": {
      "text/plain": [
       "[6, 1, 1, 2, 3, 3, 3, 1, 3, 2]"
      ]
     },
     "execution_count": 92,
     "metadata": {},
     "output_type": "execute_result"
    }
   ],
   "source": [
    "solution = Solution()\n",
    "solution.numSmallerByFrequency(queries = [\"bba\",\"abaaaaaa\",\"aaaaaa\",\"bbabbabaab\",\"aba\",\"aa\",\"baab\",\"bbbbbb\",\"aab\",\"bbabbaabb\"],\n",
    "                               words = [\"aaabbb\",\"aab\",\"babbab\",\"babbbb\",\"b\",\"bbbbbbbbab\",\"a\",\"bbbbbbbbbb\",\"baaabbaab\",\"aa\"])"
   ]
  },
  {
   "cell_type": "code",
   "execution_count": null,
   "metadata": {},
   "outputs": [],
   "source": []
  }
 ],
 "metadata": {
  "kernelspec": {
   "display_name": "Python 3",
   "language": "python",
   "name": "python3"
  },
  "language_info": {
   "codemirror_mode": {
    "name": "ipython",
    "version": 3
   },
   "file_extension": ".py",
   "mimetype": "text/x-python",
   "name": "python",
   "nbconvert_exporter": "python",
   "pygments_lexer": "ipython3",
   "version": "3.6.2"
  }
 },
 "nbformat": 4,
 "nbformat_minor": 4
}
