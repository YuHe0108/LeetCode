{
 "cells": [
  {
   "cell_type": "raw",
   "metadata": {},
   "source": [
    "说明：\n",
    "    给定两个字符串s和t，您的目标是将k或更少的步数将s转换为t。\n",
    "    在第i次（1 <= i <= k）移动期间，您可以：\n",
    "    1、从s中选择任何索引j（1索引），以使1 <= j <= s.length和j在之前的任何移动中都没有选择，并在该索引处移动字符i次。\n",
    "    2、没做什么。\n",
    "    移位字符意味着将其替换为字母表中的下一个字母（环绕以使“ z”变为“ a”）。\n",
    "    用i移位字符意味着要进行i次移位操作。\n",
    "    请记住，任何索引j最多只能选择一次。如果可以在不超过k步的时间内将s转换为t，则返回true，否则返回false。\n",
    "\n",
    "Example 1:\n",
    "    Input: s = \"input\", t = \"ouput\", k = 9\n",
    "    Output: true\n",
    "    Explanation: In the 6th move, we shift 'i' 6 times to get 'o'. And in the 7th move we shift 'n' to get 'u'.\n",
    "\n",
    "Example 2:\n",
    "    Input: s = \"abc\", t = \"bcd\", k = 10\n",
    "    Output: false\n",
    "    Explanation: \n",
    "        We need to shift each character in s one time to convert it into t. \n",
    "        We can shift 'a' to 'b' during the 1st move. \n",
    "        However, there is no way to shift the other characters in the remaining moves to obtain t from s.\n",
    "\n",
    "Example 3:\n",
    "    Input: s = \"aab\", t = \"bbb\", k = 27\n",
    "    Output: true\n",
    "    Explanation: In the 1st move, we shift the first 'a' 1 time to get 'b'. In the 27th move, we shift the second 'a' 27 times to get 'b'.\n",
    " \n",
    "Constraints:\n",
    "    1、1 <= s.length, t.length <= 10^5\n",
    "    2、0 <= k <= 10^9\n",
    "    3、s, t contain only lowercase English letters."
   ]
  },
  {
   "cell_type": "code",
   "execution_count": 1,
   "metadata": {},
   "outputs": [],
   "source": [
    "class Solution:\n",
    "    def canConvertString(self, s: str, t: str, k: int) -> bool:\n",
    "        alphabet = \"abcdefghigklmnopqistuvwxyz\""
   ]
  },
  {
   "cell_type": "code",
   "execution_count": 4,
   "metadata": {},
   "outputs": [],
   "source": [
    "solution = Solution()\n",
    "solution.canConvertString('input', 'output', 9)"
   ]
  },
  {
   "cell_type": "code",
   "execution_count": 3,
   "metadata": {},
   "outputs": [
    {
     "name": "stdout",
     "output_type": "stream",
     "text": [
      "26\n"
     ]
    }
   ],
   "source": [
    "c = \"abcdefghigklmnopqistuvwxyz\"\n",
    "print(len(c))"
   ]
  },
  {
   "cell_type": "code",
   "execution_count": null,
   "metadata": {},
   "outputs": [],
   "source": [
    "s tu vwx yzab cdefg higklm"
   ]
  }
 ],
 "metadata": {
  "kernelspec": {
   "display_name": "Python 3",
   "language": "python",
   "name": "python3"
  },
  "language_info": {
   "codemirror_mode": {
    "name": "ipython",
    "version": 3
   },
   "file_extension": ".py",
   "mimetype": "text/x-python",
   "name": "python",
   "nbconvert_exporter": "python",
   "pygments_lexer": "ipython3",
   "version": "3.6.2"
  }
 },
 "nbformat": 4,
 "nbformat_minor": 4
}
