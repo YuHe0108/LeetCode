{
 "cells": [
  {
   "cell_type": "raw",
   "metadata": {},
   "source": [
    "说明：\n",
    "    给定字符串s的零和一，将字符串分为两个非空子字符串（即左子字符串和右子字符串）后返回最大分数。\n",
    "    拆分字符串后的分数是左子串中的0的个数加上右子串中的1的个数。\n",
    "\n",
    "Example 1:\n",
    "    Input: s = \"011101\"\n",
    "    Output: 5 \n",
    "    Explanation: \n",
    "        All possible ways of splitting s into two non-empty substrings are:\n",
    "        left = \"0\" and right = \"11101\", score = 1 + 4 = 5 \n",
    "        left = \"01\" and right = \"1101\", score = 1 + 3 = 4 \n",
    "        left = \"011\" and right = \"101\", score = 1 + 2 = 3 \n",
    "        left = \"0111\" and right = \"01\", score = 1 + 1 = 2 \n",
    "        left = \"01110\" and right = \"1\", score = 2 + 1 = 3\n",
    "\n",
    "Example 2:\n",
    "    Input: s = \"00111\"\n",
    "    Output: 5\n",
    "    Explanation: When left = \"00\" and right = \"111\", we get the maximum score = 2 + 3 = 5\n",
    "\n",
    "Example 3:\n",
    "    Input: s = \"1111\"\n",
    "    Output: 3\n",
    "\n",
    "Constraints:\n",
    "    1、2 <= s.length <= 500\n",
    "    2、The string s consists of characters '0' and '1' only."
   ]
  },
  {
   "cell_type": "code",
   "execution_count": 35,
   "metadata": {},
   "outputs": [],
   "source": [
    "from collections import Counter, defaultdict\n",
    "\n",
    "class Solution:\n",
    "    def maxScore(self, s: str) -> int:\n",
    "        s_freq = Counter(s)\n",
    "        l_freq = defaultdict(int)\n",
    "        res = 0\n",
    "        for a in s:\n",
    "            l_freq[a] += 1\n",
    "            s_freq[a] -= 1\n",
    "            if s_freq[a] == 0:\n",
    "                s_freq.pop(a)\n",
    "            if s_freq:\n",
    "                res = max(res, s_freq['1'] + l_freq['0'])\n",
    "        return res"
   ]
  },
  {
   "cell_type": "code",
   "execution_count": 36,
   "metadata": {},
   "outputs": [
    {
     "data": {
      "text/plain": [
       "1"
      ]
     },
     "execution_count": 36,
     "metadata": {},
     "output_type": "execute_result"
    }
   ],
   "source": [
    "solution = Solution()\n",
    "solution.maxScore(\"00\")"
   ]
  },
  {
   "cell_type": "code",
   "execution_count": null,
   "metadata": {},
   "outputs": [],
   "source": []
  }
 ],
 "metadata": {
  "kernelspec": {
   "display_name": "Python 3",
   "language": "python",
   "name": "python3"
  },
  "language_info": {
   "codemirror_mode": {
    "name": "ipython",
    "version": 3
   },
   "file_extension": ".py",
   "mimetype": "text/x-python",
   "name": "python",
   "nbconvert_exporter": "python",
   "pygments_lexer": "ipython3",
   "version": "3.6.2"
  }
 },
 "nbformat": 4,
 "nbformat_minor": 4
}
