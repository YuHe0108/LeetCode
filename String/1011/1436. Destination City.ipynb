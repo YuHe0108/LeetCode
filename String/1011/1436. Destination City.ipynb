{
 "cells": [
  {
   "cell_type": "raw",
   "metadata": {},
   "source": [
    "说明：\n",
    "    您将获得array path，其中path [i] = [cityAi，cityBi]表示存在从cityAi到cityBi的直接路径。\n",
    "    返回目标城市，即没有任何路径传到另一个城市的城市。\n",
    "    可以确保路径图形成一条没有任何循环的线，因此，将只有一个目标城市。\n",
    "\n",
    "Example 1:\n",
    "    Input: paths = [[\"London\",\"New York\"],[\"New York\",\"Lima\"],[\"Lima\",\"Sao Paulo\"]]\n",
    "    Output: \"Sao Paulo\" \n",
    "    Explanation: Starting at \"London\" city you will reach \"Sao Paulo\" city which is the destination city. Your trip consist of: \"London\" -> \"New York\" -> \"Lima\" -> \"Sao Paulo\".\n",
    "\n",
    "Example 2:\n",
    "    Input: paths = [[\"B\",\"C\"],[\"D\",\"B\"],[\"C\",\"A\"]]\n",
    "    Output: \"A\"\n",
    "    Explanation: All possible trips are: \n",
    "        \"D\" -> \"B\" -> \"C\" -> \"A\". \n",
    "        \"B\" -> \"C\" -> \"A\". \n",
    "        \"C\" -> \"A\". \n",
    "        \"A\". \n",
    "    Clearly the destination city is \"A\".\n",
    "\n",
    "Example 3:\n",
    "    Input: paths = [[\"A\",\"Z\"]]\n",
    "    Output: \"Z\"\n",
    " \n",
    "Constraints:\n",
    "1、1 <= paths.length <= 100\n",
    "2、paths[i].length == 2\n",
    "3、1 <= cityAi.length, cityBi.length <= 10\n",
    "4、cityAi != cityBi\n",
    "5、All strings consist of lowercase and uppercase English letters and the space character."
   ]
  },
  {
   "cell_type": "code",
   "execution_count": 10,
   "metadata": {},
   "outputs": [],
   "source": [
    "class Solution:\n",
    "    def destCity(self, paths) -> str:\n",
    "        city_dict = {}\n",
    "        for a, b in paths:\n",
    "            city_dict[a] = b\n",
    "        \n",
    "        start_city = paths[0][0]\n",
    "        while start_city in city_dict:\n",
    "            start_city = city_dict[start_city]\n",
    "        return start_city"
   ]
  },
  {
   "cell_type": "code",
   "execution_count": 13,
   "metadata": {},
   "outputs": [
    {
     "data": {
      "text/plain": [
       "'Z'"
      ]
     },
     "execution_count": 13,
     "metadata": {},
     "output_type": "execute_result"
    }
   ],
   "source": [
    "solution = Solution()\n",
    "solution.destCity([[\"A\",\"Z\"]])"
   ]
  },
  {
   "cell_type": "code",
   "execution_count": null,
   "metadata": {},
   "outputs": [],
   "source": []
  }
 ],
 "metadata": {
  "kernelspec": {
   "display_name": "Python 3",
   "language": "python",
   "name": "python3"
  },
  "language_info": {
   "codemirror_mode": {
    "name": "ipython",
    "version": 3
   },
   "file_extension": ".py",
   "mimetype": "text/x-python",
   "name": "python",
   "nbconvert_exporter": "python",
   "pygments_lexer": "ipython3",
   "version": "3.6.2"
  }
 },
 "nbformat": 4,
 "nbformat_minor": 4
}
