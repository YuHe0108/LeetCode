{
 "cells": [
  {
   "cell_type": "raw",
   "metadata": {},
   "source": [
    "说明：\n",
    "    给定一个句子，该句子由一些用单个空格分隔的单词和一个searchWord组成。\n",
    "    您必须检查searchWord是否是句子中任何单词的前缀。\n",
    "    返回句子中单词的索引，其中searchWord是该单词的前缀（1索引）。\n",
    "    如果searchWord是一个以上单词的前缀，请返回第一个单词的索引（最小索引）。\n",
    "    如果没有这样的单词，则返回-1。\n",
    "    字符串S的前缀是S的任何前导连续子字符串。\n",
    "\n",
    "Example 1:\n",
    "    Input: sentence = \"i love eating burger\", searchWord = \"burg\"\n",
    "    Output: 4\n",
    "    Explanation: \"burg\" is prefix of \"burger\" which is the 4th word in the sentence.\n",
    "\n",
    "Example 2:\n",
    "    Input: sentence = \"this problem is an easy problem\", searchWord = \"pro\"\n",
    "    Output: 2\n",
    "    Explanation: \"pro\" is prefix of \"problem\" which is the 2nd and the 6th word in the sentence, but we return 2 as it's the minimal index.\n",
    "\n",
    "Example 3:\n",
    "    Input: sentence = \"i am tired\", searchWord = \"you\"\n",
    "    Output: -1\n",
    "    Explanation: \"you\" is not a prefix of any word in the sentence.\n",
    "\n",
    "Example 4:\n",
    "    Input: sentence = \"i use triple pillow\", searchWord = \"pill\"\n",
    "    Output: 4\n",
    "\n",
    "Example 5:\n",
    "    Input: sentence = \"hello from the other side\", searchWord = \"they\"\n",
    "    Output: -1\n",
    "\n",
    "Constraints:\n",
    "    1、1 <= sentence.length <= 100\n",
    "    2、1 <= searchWord.length <= 10\n",
    "    3、sentence consists of lowercase English letters and spaces.\n",
    "    4、searchWord consists of lowercase English letters."
   ]
  },
  {
   "cell_type": "code",
   "execution_count": 31,
   "metadata": {},
   "outputs": [],
   "source": [
    "class Solution:\n",
    "    def isPrefixOfWord(self, sentence: str, searchWord: str) -> int:\n",
    "        sen_words = sentence.split(' ')\n",
    "        N = len(sen_words)\n",
    "        sen_words = [0] + sen_words\n",
    "        s_word_len = len(searchWord)\n",
    "        for i in range(1,  N + 1):\n",
    "            sen_word = sen_words[i]\n",
    "            if searchWord[0] == sen_word[0] and len(sen_word) >= s_word_len:\n",
    "                s_idx = 0\n",
    "                while s_idx < s_word_len and sen_word[s_idx] == searchWord[s_idx]:\n",
    "                    s_idx += 1\n",
    "                if s_idx == s_word_len:\n",
    "                    return i\n",
    "        return -1"
   ]
  },
  {
   "cell_type": "code",
   "execution_count": 32,
   "metadata": {},
   "outputs": [
    {
     "data": {
      "text/plain": [
       "2"
      ]
     },
     "execution_count": 32,
     "metadata": {},
     "output_type": "execute_result"
    }
   ],
   "source": [
    "solution = Solution()\n",
    "solution.isPrefixOfWord(sentence = \"dumb dream duck duck i\", searchWord = \"drea\")"
   ]
  },
  {
   "cell_type": "code",
   "execution_count": null,
   "metadata": {},
   "outputs": [],
   "source": []
  }
 ],
 "metadata": {
  "kernelspec": {
   "display_name": "Python 3",
   "language": "python",
   "name": "python3"
  },
  "language_info": {
   "codemirror_mode": {
    "name": "ipython",
    "version": 3
   },
   "file_extension": ".py",
   "mimetype": "text/x-python",
   "name": "python",
   "nbconvert_exporter": "python",
   "pygments_lexer": "ipython3",
   "version": "3.6.2"
  }
 },
 "nbformat": 4,
 "nbformat_minor": 4
}
