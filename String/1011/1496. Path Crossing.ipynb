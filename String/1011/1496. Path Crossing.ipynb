{
 "cells": [
  {
   "cell_type": "raw",
   "metadata": {},
   "source": [
    "说明：\n",
    "    给定一个字符串路径，其中path [i] ='N'，'S'，'E'或'W'，\n",
    "    每个代表分别向北，向南，向东或向西移动一个单位。\n",
    "    您从2D平面上的原点（0，0）开始，然后在path指定的路径上行走。\n",
    "    如果路径在任何时候都相交，即在任何时候您位于先前访问的位置，则返回True。\n",
    "    否则返回False。\n",
    "\n",
    "Constraints:\n",
    "    1、1 <= path.length <= 10^4\n",
    "    2、path will only consist of characters in {'N', 'S', 'E', 'W}"
   ]
  },
  {
   "cell_type": "markdown",
   "metadata": {},
   "source": [
    "<img src='https://assets.leetcode.com/uploads/2020/06/10/screen-shot-2020-06-10-at-123929-pm.png' width=300>"
   ]
  },
  {
   "cell_type": "raw",
   "metadata": {},
   "source": [
    "Input: path = \"NES\"\n",
    "Output: false \n",
    "Explanation: Notice that the path doesn't cross any point more than once.\n",
    "\n",
    "Input: path = \"NESWW\"\n",
    "Output: true\n",
    "Explanation: Notice that the path visits the origin twice."
   ]
  },
  {
   "cell_type": "code",
   "execution_count": 10,
   "metadata": {},
   "outputs": [],
   "source": [
    "class Solution:\n",
    "    def isPathCrossing(self, path: str) -> bool:\n",
    "        dirs = {'N': (-1, 0), 'E': (0, 1), 'S': (1, 0), 'W': (0, -1)}\n",
    "        seen = set()\n",
    "        x, y = 0, 0\n",
    "        seen.add((0, 0))\n",
    "        for i in path:\n",
    "            x, y = x + dirs[i][0], y + dirs[i][1]\n",
    "            if (x, y) in seen:\n",
    "                return True\n",
    "            seen.add((x, y))\n",
    "        print(seen)\n",
    "        return False"
   ]
  },
  {
   "cell_type": "code",
   "execution_count": 11,
   "metadata": {},
   "outputs": [
    {
     "name": "stdout",
     "output_type": "stream",
     "text": [
      "{(0, 1), (-1, 1), (0, 0), (-1, 0)}\n"
     ]
    },
    {
     "data": {
      "text/plain": [
       "False"
      ]
     },
     "execution_count": 11,
     "metadata": {},
     "output_type": "execute_result"
    }
   ],
   "source": [
    "solution = Solution()\n",
    "solution.isPathCrossing('NES')"
   ]
  },
  {
   "cell_type": "code",
   "execution_count": null,
   "metadata": {},
   "outputs": [],
   "source": []
  }
 ],
 "metadata": {
  "kernelspec": {
   "display_name": "Python 3",
   "language": "python",
   "name": "python3"
  },
  "language_info": {
   "codemirror_mode": {
    "name": "ipython",
    "version": 3
   },
   "file_extension": ".py",
   "mimetype": "text/x-python",
   "name": "python",
   "nbconvert_exporter": "python",
   "pygments_lexer": "ipython3",
   "version": "3.6.2"
  }
 },
 "nbformat": 4,
 "nbformat_minor": 4
}
