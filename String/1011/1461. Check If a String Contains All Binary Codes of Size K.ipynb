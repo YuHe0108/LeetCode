{
 "cells": [
  {
   "cell_type": "raw",
   "metadata": {},
   "source": [
    "说明：\n",
    "    给定一个二进制字符串s和一个整数k。\n",
    "    如果每个长度为 k 的二进制代码都是s的子字符串，则返回True。\n",
    "    否则，返回False。\n",
    "\n",
    "Example 1:\n",
    "    Input: s = \"00110110\", k = 2\n",
    "    Output: true\n",
    "    Explanation: The binary codes of length 2 are \"00\", \"01\", \"10\" and \"11\". They can be all found as substrings at indicies 0, 1, 3 and 2 respectively.\n",
    "\n",
    "Example 2:\n",
    "    Input: s = \"00110\", k = 2\n",
    "    Output: true\n",
    "\n",
    "Example 3:\n",
    "    Input: s = \"0110\", k = 1\n",
    "    Output: true\n",
    "    Explanation: The binary codes of length 1 are \"0\" and \"1\", it is clear that both exist as a substring. \n",
    "\n",
    "Example 4:\n",
    "    Input: s = \"0110\", k = 2\n",
    "    Output: false\n",
    "    Explanation: The binary code \"00\" is of length 2 and doesn't exist in the array.\n",
    "\n",
    "Example 5:\n",
    "    Input: s = \"0000000001011100\", k = 4\n",
    "    Output: false\n",
    "\n",
    "Constraints:\n",
    "    1、1 <= s.length <= 5 * 10^5\n",
    "    2、s consists of 0's and 1's only.\n",
    "    3、1 <= k <= 20"
   ]
  },
  {
   "cell_type": "code",
   "execution_count": 40,
   "metadata": {},
   "outputs": [],
   "source": [
    "class Solution:\n",
    "    def hasAllCodes(self, s: str, k: int) -> bool:\n",
    "        max_val = 2 ** k\n",
    "        min_val = 0\n",
    "        for val in range(max_val):\n",
    "            bin_val = bin(val)[2:]\n",
    "            if len(bin_val) < k:\n",
    "                bin_val = '0' * (k - len(bin_val)) + bin_val\n",
    "            if bin_val not in s:\n",
    "                return False\n",
    "        return Ture"
   ]
  },
  {
   "cell_type": "code",
   "execution_count": 56,
   "metadata": {},
   "outputs": [],
   "source": [
    "class Solution:\n",
    "    def hasAllCodes(self, s: str, k: int) -> bool:\n",
    "        got = set() \n",
    "        required = 1 << k\n",
    "        for i in range(len(s) - k + 1): \n",
    "            # 截取长度为 k 的 s 中的 substring，如果 len(got) == required，说明已经找到了所有的值\n",
    "            if s[i:i+k] not in got: \n",
    "                got.add(s[i:i+k])\n",
    "                required -= 1 \n",
    "                if required == 0: \n",
    "                    return True\n",
    "        return False"
   ]
  },
  {
   "cell_type": "code",
   "execution_count": 57,
   "metadata": {},
   "outputs": [
    {
     "data": {
      "text/plain": [
       "False"
      ]
     },
     "execution_count": 57,
     "metadata": {},
     "output_type": "execute_result"
    }
   ],
   "source": [
    "solution = Solution()\n",
    "solution.hasAllCodes(s = \"00110110\", k = 4)"
   ]
  },
  {
   "cell_type": "code",
   "execution_count": 3,
   "metadata": {},
   "outputs": [
    {
     "name": "stdout",
     "output_type": "stream",
     "text": [
      "True\n"
     ]
    }
   ],
   "source": [
    "s = \"00110110\"\n",
    "print('01' in s)"
   ]
  },
  {
   "cell_type": "code",
   "execution_count": 7,
   "metadata": {},
   "outputs": [
    {
     "data": {
      "text/plain": [
       "'10'"
      ]
     },
     "execution_count": 7,
     "metadata": {},
     "output_type": "execute_result"
    }
   ],
   "source": [
    "bin(2)[2:]"
   ]
  },
  {
   "cell_type": "code",
   "execution_count": 22,
   "metadata": {},
   "outputs": [
    {
     "data": {
      "text/plain": [
       "0"
      ]
     },
     "execution_count": 22,
     "metadata": {},
     "output_type": "execute_result"
    }
   ],
   "source": [
    "0 << 2"
   ]
  },
  {
   "cell_type": "code",
   "execution_count": null,
   "metadata": {},
   "outputs": [],
   "source": []
  }
 ],
 "metadata": {
  "kernelspec": {
   "display_name": "Python 3",
   "language": "python",
   "name": "python3"
  },
  "language_info": {
   "codemirror_mode": {
    "name": "ipython",
    "version": 3
   },
   "file_extension": ".py",
   "mimetype": "text/x-python",
   "name": "python",
   "nbconvert_exporter": "python",
   "pygments_lexer": "ipython3",
   "version": "3.6.2"
  }
 },
 "nbformat": 4,
 "nbformat_minor": 4
}
