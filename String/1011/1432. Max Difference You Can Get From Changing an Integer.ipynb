{
 "cells": [
  {
   "cell_type": "raw",
   "metadata": {},
   "source": [
    "说明：\n",
    "    给您一个整数num。您将正确地执行以下步骤两次：\n",
    "        1、选择一个数字x（0 <= x <= 9）。\n",
    "        2、选择另一个数字y（0 <= y <= 9）。\n",
    "        3、数字y可以等于x。\n",
    "        4、将num的十进制表示形式中所有出现的x替换为y。\n",
    "        5、新整数不能有任何前导零，新整数也不能为0。\n",
    "    令a和b分别是对num进行第一次和第二次运算的结果。返回a和b之间的最大差。\n",
    "\n",
    "Example 1:\n",
    "    Input: num = 555\n",
    "    Output: 888\n",
    "    Explanation: The first time pick x = 5 and y = 9 and store the new integer in a.\n",
    "                 The second time pick x = 5 and y = 1 and store the new integer in b.\n",
    "                 We have now a = 999 and b = 111 and max difference = 888\n",
    "\n",
    "Example 2:\n",
    "    Input: num = 9\n",
    "    Output: 8\n",
    "    Explanation: The first time pick x = 9 and y = 9 and store the new integer in a.\n",
    "                 The second time pick x = 9 and y = 1 and store the new integer in b.\n",
    "                 We have now a = 9 and b = 1 and max difference = 8\n",
    "\n",
    "Example 3:\n",
    "    Input: num = 123456\n",
    "    Output: 820 000\n",
    "\n",
    "Example 4:\n",
    "    Input: num = 10000\n",
    "    Output: 80000\n",
    "\n",
    "Example 5:\n",
    "    Input: num = 9288\n",
    "    Output: 8700\n",
    " \n",
    "Constraints:\n",
    "    1、1 <= num <= 10^8"
   ]
  },
  {
   "cell_type": "code",
   "execution_count": 52,
   "metadata": {},
   "outputs": [],
   "source": [
    "class Solution:\n",
    "    def maxDiff(self, num: int) -> int:\n",
    "        str_num = str(num)\n",
    "        a_res = -float('inf')\n",
    "        b_res = float('inf')\n",
    "        \n",
    "        for i in range(10):\n",
    "            for j in range(10):\n",
    "                if str(i) in str_num:\n",
    "                    new_num = str_num.replace(str(i), str(j))\n",
    "                    a_res = max(a_res, int(new_num))\n",
    "                    if int(new_num) != 0 and len(str(int(new_num))) == len(str_num):\n",
    "                        b_res = min(b_res, int(new_num))\n",
    "        return a_res - b_res"
   ]
  },
  {
   "cell_type": "code",
   "execution_count": 53,
   "metadata": {},
   "outputs": [
    {
     "data": {
      "text/plain": [
       "8700"
      ]
     },
     "execution_count": 53,
     "metadata": {},
     "output_type": "execute_result"
    }
   ],
   "source": [
    "solution = Solution()\n",
    "solution.maxDiff(9288)"
   ]
  },
  {
   "cell_type": "code",
   "execution_count": null,
   "metadata": {},
   "outputs": [],
   "source": []
  }
 ],
 "metadata": {
  "kernelspec": {
   "display_name": "Python 3",
   "language": "python",
   "name": "python3"
  },
  "language_info": {
   "codemirror_mode": {
    "name": "ipython",
    "version": 3
   },
   "file_extension": ".py",
   "mimetype": "text/x-python",
   "name": "python",
   "nbconvert_exporter": "python",
   "pygments_lexer": "ipython3",
   "version": "3.6.2"
  }
 },
 "nbformat": 4,
 "nbformat_minor": 4
}
