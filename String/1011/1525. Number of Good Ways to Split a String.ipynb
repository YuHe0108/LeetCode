{
 "cells": [
  {
   "cell_type": "raw",
   "metadata": {},
   "source": [
    "说明：\n",
    "    给您一个字符串s，如果您可以将s拆分为2个非空字符串p和q，则其连接等于s，并且p和q中不同字母的数目相同，则拆分称为良。\n",
    "    返回您可以在中进行的良好分割的数量。\n",
    "\n",
    "Example 1:\n",
    "    Input: s = \"aacaba\"\n",
    "    Output: 2\n",
    "    Explanation: There are 5 ways to split \"aacaba\" and 2 of them are good. \n",
    "                (\"a\", \"acaba\") Left string and right string contains 1 and 3 different letters respectively.\n",
    "                (\"aa\", \"caba\") Left string and right string contains 1 and 3 different letters respectively.\n",
    "                (\"aac\", \"aba\") Left string and right string contains 2 and 2 different letters respectively (good split).\n",
    "                (\"aaca\", \"ba\") Left string and right string contains 2 and 2 different letters respectively (good split).\n",
    "                (\"aacab\", \"a\") Left string and right string contains 3 and 1 different letters respectively.\n",
    "\n",
    "Example 2:\n",
    "    Input: s = \"abcd\"\n",
    "    Output: 1\n",
    "    Explanation: Split the string as follows (\"ab\", \"cd\").\n",
    "\n",
    "Example 3:\n",
    "    Input: s = \"aaaaa\"\n",
    "    Output: 4\n",
    "    Explanation: All possible splits are good.\n",
    "\n",
    "Example 4:\n",
    "    Input: s = \"acbadbaada\"\n",
    "    Output: 2\n",
    "\n",
    "Constraints:\n",
    "1、s contains only lowercase English letters.\n",
    "2、1 <= s.length <= 10^5"
   ]
  },
  {
   "cell_type": "code",
   "execution_count": 3,
   "metadata": {},
   "outputs": [],
   "source": [
    "from collections import Counter\n",
    "\n",
    "class Solution:\n",
    "    def numSplits(self, s: str) -> int:\n",
    "        s1 = Counter()\n",
    "        s2 = Counter(s)\n",
    "        count = 0\n",
    "        \n",
    "        for a in s:\n",
    "            s1[a] += 1\n",
    "            s2[a] -= 1\n",
    "            if s2[a] == 0:\n",
    "                s2.pop(a)\n",
    "            if len(s1) == len(s2):\n",
    "                count += 1\n",
    "        return count"
   ]
  },
  {
   "cell_type": "code",
   "execution_count": 4,
   "metadata": {},
   "outputs": [
    {
     "data": {
      "text/plain": [
       "2"
      ]
     },
     "execution_count": 4,
     "metadata": {},
     "output_type": "execute_result"
    }
   ],
   "source": [
    "solution = Solution()\n",
    "solution.numSplits(\"aacaba\")"
   ]
  },
  {
   "cell_type": "code",
   "execution_count": null,
   "metadata": {},
   "outputs": [],
   "source": []
  }
 ],
 "metadata": {
  "kernelspec": {
   "display_name": "Python 3",
   "language": "python",
   "name": "python3"
  },
  "language_info": {
   "codemirror_mode": {
    "name": "ipython",
    "version": 3
   },
   "file_extension": ".py",
   "mimetype": "text/x-python",
   "name": "python",
   "nbconvert_exporter": "python",
   "pygments_lexer": "ipython3",
   "version": "3.6.2"
  }
 },
 "nbformat": 4,
 "nbformat_minor": 4
}
