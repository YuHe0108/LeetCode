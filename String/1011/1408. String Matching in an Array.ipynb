{
 "cells": [
  {
   "cell_type": "raw",
   "metadata": {},
   "source": [
    "说明：\n",
    "    给定一个字符串单词数组。\n",
    "    以任意顺序返回单词中所有字符串，这些字符串是另一个单词的子字符串。\n",
    "    字符串words[i] 是words[j]的子字符串，如果可以获取，则去除words[j]左侧和/或右侧的某些字符。\n",
    "\n",
    "Example 1:\n",
    "    Input: words = [\"mass\",\"as\",\"hero\",\"superhero\"]\n",
    "    Output: [\"as\",\"hero\"]\n",
    "    Explanation: \"as\" is substring of \"mass\" and \"hero\" is substring of \"superhero\".\n",
    "                [\"hero\",\"as\"] is also a valid answer.\n",
    "\n",
    "Example 2:\n",
    "    Input: words = [\"leetcode\",\"et\",\"code\"]\n",
    "    Output: [\"et\",\"code\"]\n",
    "    Explanation: \"et\", \"code\" are substring of \"leetcode\".\n",
    "\n",
    "Example 3:\n",
    "    Input: words = [\"blue\",\"green\",\"bu\"]\n",
    "    Output: []\n",
    " \n",
    "Constraints:\n",
    "    1、1 <= words.length <= 100\n",
    "    2、1 <= words[i].length <= 30\n",
    "    3、words[i] contains only lowercase English letters.\n",
    "    4、It's guaranteed that words[i] will be unique."
   ]
  },
  {
   "cell_type": "code",
   "execution_count": 13,
   "metadata": {},
   "outputs": [],
   "source": [
    "class Solution:\n",
    "    def stringMatching(self, words):\n",
    "        res = []\n",
    "        for i in range(len(words)):\n",
    "            for j in range(len(words)):\n",
    "                if i != j:\n",
    "                    \n",
    "                    if words[i] <= words[j] and words[i] in words[j]:\n",
    "                        res.append(words[i])\n",
    "        return res"
   ]
  },
  {
   "cell_type": "code",
   "execution_count": 14,
   "metadata": {},
   "outputs": [
    {
     "name": "stdout",
     "output_type": "stream",
     "text": [
      "leetcoder leetcode False\n",
      "leetcoder od False\n",
      "leetcoder hamlet False\n",
      "leetcoder am False\n",
      "leetcode leetcoder True\n",
      "leetcode od False\n",
      "leetcode hamlet False\n",
      "leetcode am False\n",
      "od leetcoder True\n",
      "od leetcode True\n",
      "od hamlet False\n",
      "od am False\n",
      "hamlet leetcoder False\n",
      "hamlet leetcode False\n",
      "hamlet od False\n",
      "hamlet am False\n",
      "am leetcoder False\n",
      "am leetcode False\n",
      "am od False\n",
      "am hamlet True\n"
     ]
    },
    {
     "data": {
      "text/plain": [
       "['leetcode', 'am']"
      ]
     },
     "execution_count": 14,
     "metadata": {},
     "output_type": "execute_result"
    }
   ],
   "source": [
    "solution = Solution()\n",
    "solution.stringMatching([\"leetcoder\",\"leetcode\",\"od\",\"hamlet\",\"am\"])"
   ]
  },
  {
   "cell_type": "code",
   "execution_count": null,
   "metadata": {},
   "outputs": [],
   "source": []
  }
 ],
 "metadata": {
  "kernelspec": {
   "display_name": "Python 3",
   "language": "python",
   "name": "python3"
  },
  "language_info": {
   "codemirror_mode": {
    "name": "ipython",
    "version": 3
   },
   "file_extension": ".py",
   "mimetype": "text/x-python",
   "name": "python",
   "nbconvert_exporter": "python",
   "pygments_lexer": "ipython3",
   "version": "3.6.2"
  }
 },
 "nbformat": 4,
 "nbformat_minor": 4
}
