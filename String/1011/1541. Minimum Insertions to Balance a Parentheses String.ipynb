{
 "cells": [
  {
   "cell_type": "raw",
   "metadata": {},
   "source": [
    "说明：\n",
    "    给定一个仅包含字符'（'和'）'的括号s。\n",
    "    如果满足以下条件，则括号字符串是平衡的：\n",
    "        1、任何左括号'（'必须具有相应的两个连续的右括号'))'。\n",
    "        2、左括号'（'必须位于相应的两个连续右括号'))'之前。\n",
    "    \n",
    "    换句话说，我们将“(”视为左括号，将“))”视为右括号。\n",
    "    例如，\n",
    "        1、\"())\", \"())(())))\" and \"(())())))\" are balanced, \n",
    "        2、\")()\", \"()))\" and \"(()))\" are not balanced.\n",
    "    如果需要，可以在字符串的任何位置插入字符 “(” 和 “)”。\n",
    "    返回使s平衡所需的最小插入数。\n",
    "\n",
    "约束：\n",
    "    1、1 <= s.length <= 10 ^ 5 \n",
    "    2、s仅由'('和')'组成。\n",
    "\n",
    "Example 1:\n",
    "    Input: s = \"(()))\"\n",
    "    Output: 1\n",
    "    Explanation: \n",
    "        The second '(' has two matching '))', but the first '(' has only ')' matching. \n",
    "        We need to to add one more ')' at the end of the string to be \"(())))\" which is balanced.\n",
    "\n",
    "Example 2:\n",
    "    Input: s = \"())\"\n",
    "    Output: 0\n",
    "    Explanation: The string is already balanced.\n",
    "\n",
    "Example 3:\n",
    "    Input: s = \"))())(\"\n",
    "    Output: 3\n",
    "    Explanation: Add '(' to match the first '))', Add '))' to match the last '('.\n",
    "\n",
    "Example 4:\n",
    "    Input: s = \"((((((\"\n",
    "    Output: 12\n",
    "    Explanation: Add 12 ')' to balance the string.\n",
    "\n",
    "Example 5:\n",
    "    Input: s = \")))))))\"\n",
    "    Output: 5\n",
    "    Explanation: Add 4 '(' at the beginning of the string and one ')' at the end. The string becomes \"(((())))))))\"."
   ]
  },
  {
   "cell_type": "code",
   "execution_count": 134,
   "metadata": {},
   "outputs": [],
   "source": [
    "class Solution:\n",
    "    def minInsertions(self, s: str) -> int:\n",
    "        print(s)\n",
    "        stack = []\n",
    "        res = 0\n",
    "        for i, a in enumerate(s):\n",
    "            if a == '(':\n",
    "                stack.append(i)\n",
    "            else:\n",
    "                if not stack or s[stack[-1]] == '(':\n",
    "                    stack.append(i)\n",
    "                else:\n",
    "                    stack.pop()\n",
    "                    if not stack or s[stack[-1]] != '(':\n",
    "                        res += 1\n",
    "                    else:\n",
    "                        stack.pop()\n",
    "        \n",
    "        print(stack, res, s[0], s[4])\n",
    "        while stack:\n",
    "            i = stack.pop()\n",
    "            if stack and s[i] == ')' and s[stack[-1]] == '(' and i - stack[-1] == 1:\n",
    "                stack.pop()\n",
    "                res += 1\n",
    "            else:\n",
    "                res += 2\n",
    "        return res"
   ]
  },
  {
   "cell_type": "code",
   "execution_count": 60,
   "metadata": {},
   "outputs": [],
   "source": [
    "class Solution:\n",
    "    def minInsertions(self, s: str) -> int:\n",
    "        l_count, res = 0, 0\n",
    "        r_count = 0\n",
    "        for a in s:\n",
    "            if a == '(':\n",
    "                l_count += 1\n",
    "                res += r_count\n",
    "            else:\n",
    "                r_count += 1\n",
    "                if r_count == 2:\n",
    "                    if l_count <= 0:\n",
    "                        res += 1\n",
    "                        l_count = 0\n",
    "                    else:\n",
    "                        l_count -= 1\n",
    "                        r_count -= 2\n",
    "                        print(2)\n",
    "        \n",
    "        print(l_count, r_count)\n",
    "        if l_count > r_count:\n",
    "            val = r_count + (l_count - r_count) * 2\n",
    "        elif l_count == r_count:\n",
    "            val = r_count\n",
    "        else:\n",
    "            val = r_count // 2 + r_count % 2 * 2\n",
    "        return res + val"
   ]
  },
  {
   "cell_type": "code",
   "execution_count": 64,
   "metadata": {},
   "outputs": [],
   "source": [
    "class Solution:\n",
    "    def minInsertions(self, s: str) -> int:\n",
    "        res, l_count = 0, 0\n",
    "        idx = 0\n",
    "        while idx < len(s):\n",
    "            if s[idx] == '(':\n",
    "                l_count += 1\n",
    "            else:\n",
    "                if idx + 1 < len(s) and s[idx + 1] == ')':\n",
    "                    l_count -= 1\n",
    "                    idx += 1\n",
    "                else:\n",
    "                    l_count -= 1\n",
    "                    res += 1\n",
    "                if l_count < 0:\n",
    "                    l_count = 0\n",
    "                    res += 1\n",
    "            idx += 1\n",
    "        res += l_count * 2\n",
    "        return res"
   ]
  },
  {
   "cell_type": "code",
   "execution_count": 69,
   "metadata": {},
   "outputs": [],
   "source": [
    "class Solution:\n",
    "    def minInsertions(self, s: str) -> int:\n",
    "        stack = []\n",
    "        ans = 0\n",
    "        i = 0\n",
    "        while i<len(s):\n",
    "            cur = s[i]\n",
    "            if cur == '(':\n",
    "                stack.append(cur)\n",
    "                i+=1\n",
    "            else:\n",
    "                if not stack:\n",
    "                    stack.append('(')\n",
    "                    ans+=1\n",
    "                if i+1 == len(s) or s[i+1] == '(':\n",
    "                    ans+=1\n",
    "                    i+=1\n",
    "                else:\n",
    "                    i+=2\n",
    "                stack.pop()\n",
    "        print(stack)\n",
    "        while stack:\n",
    "            stack.pop()\n",
    "            ans+=2\n",
    "        return ans"
   ]
  },
  {
   "cell_type": "code",
   "execution_count": null,
   "metadata": {},
   "outputs": [],
   "source": [
    "class Solution:\n",
    "    def minInsertions(self, s: str) -> int:\n",
    "        stk = []\n",
    "        n_ins = 0\n",
    "        i = 0\n",
    "        while i < len(s):\n",
    "            if s[i] == \"(\":\n",
    "                stk.append(\"(\")\n",
    "            else:\n",
    "                if len(stk) >0 and stk[-1] == \"(\" and i < len(s) -1 and s[i+1] == \")\":\n",
    "                    stk.pop()\n",
    "                    i += 1\n",
    "                elif len(stk) >0 and stk[-1] == \"(\":\n",
    "                    n_ins += 1\n",
    "                    stk.pop()\n",
    "                elif i < len(s) -1 and s[i+1] == \")\":\n",
    "                    n_ins += 1\n",
    "                    i += 1\n",
    "                else:\n",
    "                    n_ins += 2                        \n",
    "            i += 1\n",
    "        \n",
    "        n_top = len(stk)        \n",
    "        n_ins += n_top * 2        \n",
    "        return n_ins                            "
   ]
  },
  {
   "cell_type": "code",
   "execution_count": 70,
   "metadata": {},
   "outputs": [
    {
     "name": "stdout",
     "output_type": "stream",
     "text": [
      "[]\n"
     ]
    },
    {
     "data": {
      "text/plain": [
       "6"
      ]
     },
     "execution_count": 70,
     "metadata": {},
     "output_type": "execute_result"
    }
   ],
   "source": [
    "solution = Solution()\n",
    "solution.minInsertions(\"))())(\")"
   ]
  },
  {
   "cell_type": "code",
   "execution_count": 86,
   "metadata": {},
   "outputs": [],
   "source": [
    "\"))())(\"\n",
    "\"012345\"\n",
    "stakc = [1, 5]"
   ]
  },
  {
   "cell_type": "code",
   "execution_count": null,
   "metadata": {},
   "outputs": [],
   "source": [
    "\")) )) )) )\"\n",
    "\"01 23 45 6\"\n",
    "[1,]"
   ]
  },
  {
   "cell_type": "code",
   "execution_count": null,
   "metadata": {},
   "outputs": [],
   "source": [
    "\"()) )) )) )\""
   ]
  }
 ],
 "metadata": {
  "kernelspec": {
   "display_name": "Python 3",
   "language": "python",
   "name": "python3"
  },
  "language_info": {
   "codemirror_mode": {
    "name": "ipython",
    "version": 3
   },
   "file_extension": ".py",
   "mimetype": "text/x-python",
   "name": "python",
   "nbconvert_exporter": "python",
   "pygments_lexer": "ipython3",
   "version": "3.6.2"
  }
 },
 "nbformat": 4,
 "nbformat_minor": 4
}
