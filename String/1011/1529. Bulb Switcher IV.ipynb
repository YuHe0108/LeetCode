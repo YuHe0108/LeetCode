{
 "cells": [
  {
   "cell_type": "raw",
   "metadata": {},
   "source": [
    "说明：\n",
    "    有一个房间，其中n个灯泡的编号从0到n-1，从左到右排成一排。\n",
    "    最初，所有灯泡都关闭。\n",
    "    您的任务是获得由target表示的配置，如果第i个灯泡打开，target[i]为'1'，如果关闭第i个灯泡则为'0'。\n",
    "    您有一个开关来翻转灯泡的状态，翻转操作定义如下：\n",
    "    选择当前配置的任何灯泡（索引i）。将每个灯泡从索引i翻转到n-1。\n",
    "    翻转任何灯泡都意味着，如果灯泡为0，则变为1；如果灯泡为1，则变为0。\n",
    "    返回形成目标所需的最小翻转次数。\n",
    "\n",
    "Example 1:\n",
    "    Input: target = \"10111\"\n",
    "    Output: 3\n",
    "    Explanation: \n",
    "        Initial configuration \"00000\".\n",
    "        flip from the third bulb:  \"00000\" -> \"00111\"\n",
    "        flip from the first bulb:  \"00111\" -> \"11000\"\n",
    "        flip from the second bulb:  \"11000\" -> \"10111\"\n",
    "        We need at least 3 flip operations to form target.\n",
    "\n",
    "Example 2:\n",
    "    Input: target = \"101\"\n",
    "    Output: 3\n",
    "    Explanation: \"000\" -> \"111\" -> \"100\" -> \"101\".\n",
    "\n",
    "Example 3:\n",
    "    Input: target = \"00000\"\n",
    "    Output: 0\n",
    "\n",
    "Example 4:\n",
    "    Input: target = \"001011101\"\n",
    "    Output: 5\n",
    "\n",
    "Constraints:\n",
    "    1、1 <= target.length <= 10^5\n",
    "    2、target[i] == '0' or target[i] == '1'"
   ]
  },
  {
   "cell_type": "code",
   "execution_count": 25,
   "metadata": {},
   "outputs": [],
   "source": [
    "class Solution:\n",
    "    def minFlips(self, target: str) -> int:\n",
    "        if not '1' in target: return 0\n",
    "        if len(target) == 1: return 1\n",
    "        \n",
    "        count = 0\n",
    "        res = '0' * len(target)\n",
    "        for i in range(len(target)):\n",
    "            if res[i] != target[i]:\n",
    "                count += 1\n",
    "                res = self.helper(res, i)                \n",
    "        return count\n",
    "    \n",
    "    def helper(self, s, idx):\n",
    "        l_s = s[:idx]\n",
    "        r_s = s[idx:]\n",
    "        res = ''\n",
    "        for a in r_s:\n",
    "            if a == '0':\n",
    "                res += '1'\n",
    "            else:\n",
    "                res += '0'\n",
    "        l_s += res\n",
    "        return l_s"
   ]
  },
  {
   "cell_type": "code",
   "execution_count": 28,
   "metadata": {},
   "outputs": [],
   "source": [
    "class Solution:\n",
    "    def minFlips(self, target: str) -> int:\n",
    "        if not '1' in target: return 0\n",
    "        if len(target) == 1: return 1\n",
    "        \n",
    "        curr = '0'\n",
    "        count = 0\n",
    "        for s in target:\n",
    "            if curr != s:\n",
    "                curr = '1' if curr == '0' else '0'\n",
    "                count += 1\n",
    "        return count"
   ]
  },
  {
   "cell_type": "code",
   "execution_count": 29,
   "metadata": {},
   "outputs": [
    {
     "data": {
      "text/plain": [
       "5"
      ]
     },
     "execution_count": 29,
     "metadata": {},
     "output_type": "execute_result"
    }
   ],
   "source": [
    "solution = Solution()\n",
    "solution.minFlips('001011101')"
   ]
  },
  {
   "cell_type": "code",
   "execution_count": null,
   "metadata": {},
   "outputs": [],
   "source": []
  }
 ],
 "metadata": {
  "kernelspec": {
   "display_name": "Python 3",
   "language": "python",
   "name": "python3"
  },
  "language_info": {
   "codemirror_mode": {
    "name": "ipython",
    "version": 3
   },
   "file_extension": ".py",
   "mimetype": "text/x-python",
   "name": "python",
   "nbconvert_exporter": "python",
   "pygments_lexer": "ipython3",
   "version": "3.6.2"
  }
 },
 "nbformat": 4,
 "nbformat_minor": 4
}
