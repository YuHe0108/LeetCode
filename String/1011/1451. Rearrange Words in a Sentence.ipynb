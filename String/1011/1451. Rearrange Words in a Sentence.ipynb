{
 "cells": [
  {
   "cell_type": "raw",
   "metadata": {},
   "source": [
    "说明：\n",
    "    给定以下格式的句子文本（一个句子是由空格分隔的字符串）：\n",
    "        1、首字母大写。\n",
    "        2、文本中的每个单词都由一个空格分隔。\n",
    "    您的任务是重新排列文本中的单词，以使所有单词都按其长度的增加顺序重新排列。\n",
    "    如果两个单词的长度相同，请按其原始顺序排列它们。\n",
    "    按照上面显示的格式返回新文本。\n",
    "\n",
    "Example 1:\n",
    "    Input: text = \"Leetcode is cool\"\n",
    "    Output: \"Is cool leetcode\"\n",
    "    Explanation: \n",
    "        There are 3 words, \"Leetcode\" of length 8, \"is\" of length 2 and \"cool\" of length 4.\n",
    "        Output is ordered by length and the new first word starts with capital letter.\n",
    "\n",
    "Example 2:\n",
    "    Input: \n",
    "        text = \"Keep calm and code on\"\n",
    "    Output: \n",
    "        \"On and keep calm code\"\n",
    "    Explanation: \n",
    "        Output is ordered as follows:\n",
    "            \"On\" 2 letters.\n",
    "            \"and\" 3 letters.\n",
    "            \"keep\" 4 letters in case of tie order by position in original text.\n",
    "            \"calm\" 4 letters.\n",
    "            \"code\" 4 letters.\n",
    "\n",
    "Example 3:\n",
    "    Input: text = \"To be or not to be\"\n",
    "    Output: \"To be or to be not\"\n",
    " \n",
    "Constraints:\n",
    "    1、text begins with a capital letter and then contains lowercase letters and single space between words.\n",
    "    2、1 <= text.length <= 10^5"
   ]
  },
  {
   "cell_type": "code",
   "execution_count": 40,
   "metadata": {},
   "outputs": [],
   "source": [
    "class Solution:\n",
    "    def arrangeWords(self, text: str) -> str:\n",
    "        text = text.split(' ')\n",
    "        len_freq = {}\n",
    "        for i in range(len(text)):\n",
    "            len_freq[i] = len(text[i])\n",
    "        len_freq = sorted(len_freq.items(), key = lambda x:x[1])\n",
    "        res = ''\n",
    "        for a, b in len_freq:\n",
    "            if not res:\n",
    "                a = text[a].title()\n",
    "            else:\n",
    "                a = text[a].lower()\n",
    "            res += a + ' '\n",
    "        return res[:-1]"
   ]
  },
  {
   "cell_type": "code",
   "execution_count": 41,
   "metadata": {},
   "outputs": [
    {
     "data": {
      "text/plain": [
       "'Is cool leetcode'"
      ]
     },
     "execution_count": 41,
     "metadata": {},
     "output_type": "execute_result"
    }
   ],
   "source": [
    "solution = Solution()\n",
    "solution.arrangeWords(\"Leetcode is cool\")"
   ]
  },
  {
   "cell_type": "code",
   "execution_count": 37,
   "metadata": {},
   "outputs": [
    {
     "data": {
      "text/plain": [
       "'Ab'"
      ]
     },
     "execution_count": 37,
     "metadata": {},
     "output_type": "execute_result"
    }
   ],
   "source": [
    "a = 'ab'\n",
    "a.lower"
   ]
  },
  {
   "cell_type": "code",
   "execution_count": null,
   "metadata": {},
   "outputs": [],
   "source": []
  }
 ],
 "metadata": {
  "kernelspec": {
   "display_name": "Python 3",
   "language": "python",
   "name": "python3"
  },
  "language_info": {
   "codemirror_mode": {
    "name": "ipython",
    "version": 3
   },
   "file_extension": ".py",
   "mimetype": "text/x-python",
   "name": "python",
   "nbconvert_exporter": "python",
   "pygments_lexer": "ipython3",
   "version": "3.6.2"
  }
 },
 "nbformat": 4,
 "nbformat_minor": 4
}
