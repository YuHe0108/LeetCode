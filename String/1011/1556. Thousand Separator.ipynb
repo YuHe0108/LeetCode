{
 "cells": [
  {
   "cell_type": "raw",
   "metadata": {},
   "source": [
    "说明：\n",
    "    给定整数n，添加点（“.”）作为千位分隔符，并以字符串格式返回。\n",
    "\n",
    "Example 1:\n",
    "    Input: n = 987\n",
    "    Output: \"987\"\n",
    "\n",
    "Example 2:\n",
    "    Input: n = 1234\n",
    "    Output: \"1.234\"\n",
    "\n",
    "Example 3:\n",
    "    Input: n = 123456789\n",
    "    Output: \"123.456.789\"\n",
    "\n",
    "Example 4:\n",
    "    Input: n = 0\n",
    "    Output: \"0\"\n",
    " \n",
    "Constraints:\n",
    "    1、0 <= n < 2^31"
   ]
  },
  {
   "cell_type": "code",
   "execution_count": 27,
   "metadata": {},
   "outputs": [],
   "source": [
    "class Solution:\n",
    "    def thousandSeparator(self, n: int) -> str:\n",
    "        if n < 1000: return str(n)\n",
    "        s_n = str(n)[::-1]\n",
    "        res = ''\n",
    "        for i, s in enumerate(s_n):\n",
    "            res += s\n",
    "            if (i + 1) % 3 == 0 and i + 1 != len(s_n):\n",
    "                res += '.'\n",
    "        return res[::-1]"
   ]
  },
  {
   "cell_type": "code",
   "execution_count": 28,
   "metadata": {},
   "outputs": [
    {
     "data": {
      "text/plain": [
       "'1.234'"
      ]
     },
     "execution_count": 28,
     "metadata": {},
     "output_type": "execute_result"
    }
   ],
   "source": [
    "solution = Solution()\n",
    "solution.thousandSeparator(1234)"
   ]
  },
  {
   "cell_type": "code",
   "execution_count": null,
   "metadata": {},
   "outputs": [],
   "source": []
  },
  {
   "cell_type": "code",
   "execution_count": null,
   "metadata": {},
   "outputs": [],
   "source": []
  }
 ],
 "metadata": {
  "kernelspec": {
   "display_name": "Python 3",
   "language": "python",
   "name": "python3"
  },
  "language_info": {
   "codemirror_mode": {
    "name": "ipython",
    "version": 3
   },
   "file_extension": ".py",
   "mimetype": "text/x-python",
   "name": "python",
   "nbconvert_exporter": "python",
   "pygments_lexer": "ipython3",
   "version": "3.6.2"
  }
 },
 "nbformat": 4,
 "nbformat_minor": 4
}
