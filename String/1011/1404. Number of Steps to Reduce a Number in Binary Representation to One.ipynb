{
 "cells": [
  {
   "cell_type": "raw",
   "metadata": {},
   "source": [
    "说明：\n",
    "    在其二进制表示形式中给定数字s。\n",
    "    返回以下步骤将其减少为1的步骤数：\n",
    "        1、如果当前数为偶数，则必须将其除以2。\n",
    "        2、如果当前数为奇数，则必须对其加1。\n",
    "    保证您始终可以在所有测试用例中达到一个。\n",
    "\n",
    "Example 1:\n",
    "    Input: s = \"1101\"\n",
    "    Output: 6\n",
    "    Explanation: \"1101\" corressponds to number 13 in their decimal representation.\n",
    "                Step 1) 13 is odd, add 1 and obtain 14. \n",
    "                Step 2) 14 is even, divide by 2 and obtain 7.\n",
    "                Step 3) 7 is odd, add 1 and obtain 8.\n",
    "                Step 4) 8 is even, divide by 2 and obtain 4.  \n",
    "                Step 5) 4 is even, divide by 2 and obtain 2. \n",
    "                Step 6) 2 is even, divide by 2 and obtain 1.  \n",
    "\n",
    "Example 2:\n",
    "    Input: s = \"10\"\n",
    "    Output: 1\n",
    "    Explanation: \"10\" corressponds to number 2 in their decimal representation.\n",
    "                 Step 1) 2 is even, divide by 2 and obtain 1.  \n",
    "\n",
    "Example 3:\n",
    "    Input: s = \"1\"\n",
    "    Output: 0\n",
    " \n",
    "Constraints:\n",
    "    1、1 <= s.length <= 500\n",
    "    2、s consists of characters '0' or '1'\n",
    "    3、s[0] == '1'"
   ]
  },
  {
   "cell_type": "code",
   "execution_count": 13,
   "metadata": {},
   "outputs": [],
   "source": [
    "class Solution:\n",
    "    def numSteps(self, s: str) -> int:\n",
    "        int_num = int(s, 2)\n",
    "        res = 0\n",
    "        while int_num != 1:\n",
    "            if int_num % 2 == 0:\n",
    "                int_num //= 2\n",
    "            else:\n",
    "                int_num += 1\n",
    "            res += 1\n",
    "        return res"
   ]
  },
  {
   "cell_type": "code",
   "execution_count": 16,
   "metadata": {},
   "outputs": [
    {
     "data": {
      "text/plain": [
       "0"
      ]
     },
     "execution_count": 16,
     "metadata": {},
     "output_type": "execute_result"
    }
   ],
   "source": [
    "solution = Solution()\n",
    "solution.numSteps('1')"
   ]
  },
  {
   "cell_type": "code",
   "execution_count": null,
   "metadata": {},
   "outputs": [],
   "source": []
  },
  {
   "cell_type": "code",
   "execution_count": null,
   "metadata": {},
   "outputs": [],
   "source": []
  }
 ],
 "metadata": {
  "kernelspec": {
   "display_name": "Python 3",
   "language": "python",
   "name": "python3"
  },
  "language_info": {
   "codemirror_mode": {
    "name": "ipython",
    "version": 3
   },
   "file_extension": ".py",
   "mimetype": "text/x-python",
   "name": "python",
   "nbconvert_exporter": "python",
   "pygments_lexer": "ipython3",
   "version": "3.6.2"
  }
 },
 "nbformat": 4,
 "nbformat_minor": 4
}
