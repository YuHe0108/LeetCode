{
 "cells": [
  {
   "cell_type": "raw",
   "metadata": {},
   "source": [
    "说明：\n",
    "    对于两个字符串s和t，我们说“t除s”当且仅当 s = t + ... + t  （t与自身连接1次或多次）\n",
    "    给定两个字符串str1和str2，返回最大的字符串x，使x将str1和str2都除以。\n",
    "\n",
    "Example 1:\n",
    "    Input: str1 = \"ABCABC\", str2 = \"ABC\"\n",
    "    Output: \"ABC\"\n",
    "\n",
    "Example 2:\n",
    "    Input: str1 = \"ABABAB\", str2 = \"ABAB\"\n",
    "    Output: \"AB\"\n",
    "\n",
    "Example 3:\n",
    "    Input: str1 = \"LEET\", str2 = \"CODE\"\n",
    "    Output: \"\"\n",
    "\n",
    "Example 4:\n",
    "    Input: str1 = \"ABCDEF\", str2 = \"ABC\"\n",
    "    Output: \"\"\n",
    " \n",
    "Constraints:\n",
    "    1、1 <= str1.length <= 1000\n",
    "    2、1 <= str2.length <= 1000\n",
    "    3、str1 and str2 consist of English uppercase letters."
   ]
  },
  {
   "cell_type": "code",
   "execution_count": 35,
   "metadata": {},
   "outputs": [],
   "source": [
    "class Solution:\n",
    "    def gcdOfStrings(self, str1: str, str2: str) -> str:\n",
    "        if str1[0] != str2[0]: return ''\n",
    "        if len(str1) < len(str2): \n",
    "            str1, str2 = str2, str1\n",
    "        n_1, n_2 = len(str1), len(str2)\n",
    "        max_len = 0\n",
    "        res = ''\n",
    "        for i in range(1, n_2 + 1):\n",
    "            sub_s = str2[:i]\n",
    "            sub_s_len = len(sub_s)\n",
    "            if n_1 % sub_s_len == 0 and sub_s * (n_1 // sub_s_len) == str1:\n",
    "                if sub_s_len > max_len:\n",
    "                    res = sub_s\n",
    "        return res"
   ]
  },
  {
   "cell_type": "code",
   "execution_count": 37,
   "metadata": {},
   "outputs": [],
   "source": [
    "class Solution:\n",
    "    def gcdOfStrings(self, s1: str, s2: str) -> str:\n",
    "        return s1[:math.gcd(len(s1), len(s2))] if s1 + s2 == s2 + s1 else ''"
   ]
  },
  {
   "cell_type": "code",
   "execution_count": 36,
   "metadata": {},
   "outputs": [
    {
     "data": {
      "text/plain": [
       "'ABAB'"
      ]
     },
     "execution_count": 36,
     "metadata": {},
     "output_type": "execute_result"
    }
   ],
   "source": [
    "solution = Solution()\n",
    "solution.gcdOfStrings(str1 = \"ABABABAB\", str2 = \"ABAB\")"
   ]
  },
  {
   "cell_type": "code",
   "execution_count": null,
   "metadata": {},
   "outputs": [],
   "source": []
  }
 ],
 "metadata": {
  "kernelspec": {
   "display_name": "Python 3",
   "language": "python",
   "name": "python3"
  },
  "language_info": {
   "codemirror_mode": {
    "name": "ipython",
    "version": 3
   },
   "file_extension": ".py",
   "mimetype": "text/x-python",
   "name": "python",
   "nbconvert_exporter": "python",
   "pygments_lexer": "ipython3",
   "version": "3.6.2"
  }
 },
 "nbformat": 4,
 "nbformat_minor": 4
}
