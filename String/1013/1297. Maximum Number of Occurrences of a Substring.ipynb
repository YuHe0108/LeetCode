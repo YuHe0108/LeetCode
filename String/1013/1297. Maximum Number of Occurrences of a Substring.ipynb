{
 "cells": [
  {
   "cell_type": "raw",
   "metadata": {},
   "source": [
    "说明：\n",
    "    给定一个字符串s，根据以下规则返回任何子字符串的最大出现次数：\n",
    "    1、子字符串中的唯一字符数必须小于或等于maxLetters。\n",
    "    2、子字符串大小必须介于minSize和maxSize之间（包括minSize和maxSize）。\n",
    "\n",
    "思路：\n",
    "    在 s 中以 minSize <= size <= maxSize 作为滑动窗口移动，超找满足set(sliding window)中的字符是否 小于等于 max_letter\n",
    "\n",
    "Example 1:\n",
    "    Input: s = \"aababcaab\", maxLetters = 2, minSize = 3, maxSize = 4\n",
    "    Output: 2\n",
    "    Explanation: Substring \"aab\" has 2 ocurrences in the original string.\n",
    "                 It satisfies the conditions, 2 unique letters and size 3 (between minSize and maxSize).\n",
    "\n",
    "Example 2:\n",
    "    Input: s = \"aaaa\", maxLetters = 1, minSize = 3, maxSize = 3\n",
    "    Output: 2\n",
    "    Explanation: Substring \"aaa\" occur 2 times in the string. It can overlap.\n",
    "\n",
    "Example 3:\n",
    "    Input: s = \"aabcabcab\", maxLetters = 2, minSize = 2, maxSize = 3\n",
    "    Output: 3\n",
    "\n",
    "Example 4:\n",
    "    Input: s = \"abcde\", maxLetters = 2, minSize = 3, maxSize = 3\n",
    "    Output: 0\n",
    " \n",
    "Constraints:\n",
    "    1、1 <= s.length <= 10^5\n",
    "    2、1 <= maxLetters <= 26\n",
    "    3、1 <= minSize <= maxSize <= min(26, s.length)\n",
    "    4、s only contains lowercase English letters."
   ]
  },
  {
   "cell_type": "code",
   "execution_count": 43,
   "metadata": {},
   "outputs": [],
   "source": [
    "from collections import defaultdict\n",
    "\n",
    "class Solution:\n",
    "    def maxFreq(self, s: str, maxLetters: int, minSize: int, maxSize: int) -> int:\n",
    "        res = defaultdict(int)\n",
    "        N = len(s)\n",
    "        \n",
    "        for j in range(N - minSize + 1):\n",
    "            sub_s = s[j: j + minSize]\n",
    "            res[sub_s] += 1\n",
    "\n",
    "        out = -float('inf')\n",
    "        res = sorted(res.items(), key = lambda x: x[1])\n",
    "        for key, val in res:\n",
    "            if len(set(key)) <= maxLetters:\n",
    "                 out = max(out, val)\n",
    "        return out if out != -float('inf') else 0"
   ]
  },
  {
   "cell_type": "code",
   "execution_count": 44,
   "metadata": {},
   "outputs": [],
   "source": [
    "solution = Solution()\n",
    "solution = solution.maxFreq(s = \"aababcaab\", maxLetters = 2, minSize = 3, maxSize = 4)"
   ]
  },
  {
   "cell_type": "code",
   "execution_count": null,
   "metadata": {},
   "outputs": [],
   "source": []
  }
 ],
 "metadata": {
  "kernelspec": {
   "display_name": "Python 3",
   "language": "python",
   "name": "python3"
  },
  "language_info": {
   "codemirror_mode": {
    "name": "ipython",
    "version": 3
   },
   "file_extension": ".py",
   "mimetype": "text/x-python",
   "name": "python",
   "nbconvert_exporter": "python",
   "pygments_lexer": "ipython3",
   "version": "3.6.2"
  }
 },
 "nbformat": 4,
 "nbformat_minor": 4
}
