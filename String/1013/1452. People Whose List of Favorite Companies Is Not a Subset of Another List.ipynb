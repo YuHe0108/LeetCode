{
 "cells": [
  {
   "cell_type": "raw",
   "metadata": {},
   "source": [
    "说明：\n",
    "    给定数组favoriteCompany，其中favoriteCompanies [i]是第i个人的收藏夹公司列表（索引从0开始）。\n",
    "    返回其收藏夹公司列表不是其他任何收藏夹公司列表的子集的人员的索引。\n",
    "    您必须按升序返回索引。\n",
    "\n",
    "Example 1:\n",
    "    Input: favoriteCompanies = [[\"leetcode\",\"google\",\"facebook\"],[\"google\",\"microsoft\"],[\"google\",\"facebook\"],[\"google\"],[\"amazon\"]]\n",
    "    Output: [0,1,4] \n",
    "    Explanation: \n",
    "            Person with index=2 has favoriteCompanies[2]=[\"google\",\"facebook\"] which is a subset of favoriteCompanies[0]=[\"leetcode\",\"google\",\"facebook\"] \n",
    "            corresponding to the person with index 0. \n",
    "            Person with index=3 has favoriteCompanies[3]=[\"google\"] which is a subset of favoriteCompanies[0]=[\"leetcode\",\"google\",\"facebook\"] and \n",
    "            favoriteCompanies[1]=[\"google\",\"microsoft\"]. \n",
    "            Other lists of favorite companies are not a subset of another list, therefore, the answer is [0,1,4].\n",
    "\n",
    "Example 2:\n",
    "    Input: favoriteCompanies = [[\"leetcode\",\"google\",\"facebook\"],[\"leetcode\",\"amazon\"],[\"facebook\",\"google\"]]\n",
    "    Output: [0,1] \n",
    "    Explanation: In this case favoriteCompanies[2]=[\"facebook\",\"google\"] is a subset of favoriteCompanies[0]=[\"leetcode\",\"google\",\"facebook\"], therefore, the answer is [0,1].\n",
    "\n",
    "Example 3:\n",
    "    Input: favoriteCompanies = [[\"leetcode\"],[\"google\"],[\"facebook\"],[\"amazon\"]]\n",
    "    Output: [0,1,2,3]\n",
    "\n",
    "Constraints:\n",
    "    1、1 <= favoriteCompanies.length <= 100\n",
    "    2、1 <= favoriteCompanies[i].length <= 500\n",
    "    3、1 <= favoriteCompanies[i][j].length <= 20\n",
    "    4、All strings in favoriteCompanies[i] are distinct.\n",
    "    5、All lists of favorite companies are distinct, that is, If we sort alphabetically each list then favoriteCompanies[i] != favoriteCompanies[j].\n",
    "    6、All strings consist of lowercase English letters only."
   ]
  },
  {
   "cell_type": "code",
   "execution_count": 82,
   "metadata": {},
   "outputs": [],
   "source": [
    "class Solution:\n",
    "    def peopleIndexes(self, favoriteCompanies):\n",
    "        com = [set(sorted(x)) for x in favoriteCompanies]\n",
    "        N, res = len(com), []\n",
    "        for i in range(N):\n",
    "            can_join = False\n",
    "            for j in range(N):\n",
    "                if i != j:\n",
    "                    join_2 = False\n",
    "                    for val in com[i]:\n",
    "                        if val not in com[j]:\n",
    "                            join_2 = True\n",
    "                            break\n",
    "                    if not join_2:\n",
    "                        can_join = True\n",
    "                        break\n",
    "            if not can_join:\n",
    "                res.append(i)\n",
    "        return res"
   ]
  },
  {
   "cell_type": "code",
   "execution_count": 84,
   "metadata": {},
   "outputs": [
    {
     "data": {
      "text/plain": [
       "[0]"
      ]
     },
     "execution_count": 84,
     "metadata": {},
     "output_type": "execute_result"
    }
   ],
   "source": [
    "solution = Solution()\n",
    "solution.peopleIndexes([[\"nxaqhyoprhlhvhyojanr\",\"ovqdyfqmlpxapbjwtssm\",\"qmsbphxzmnvflrwyvxlc\",\"udfuxjdxkxwqnqvgjjsp\",\"yawoixzhsdkaaauramvg\",\"zycidpyopumzgdpamnty\"],\n",
    "                        [\"nxaqhyoprhlhvhyojanr\",\"ovqdyfqmlpxapbjwtssm\",\"udfuxjdxkxwqnqvgjjsp\",\"yawoixzhsdkaaauramvg\",\"zycidpyopumzgdpamnty\"],\n",
    "                        [\"ovqdyfqmlpxapbjwtssm\",\"qmsbphxzmnvflrwyvxlc\",\"udfuxjdxkxwqnqvgjjsp\",\"yawoixzhsdkaaauramvg\",\"zycidpyopumzgdpamnty\"]])"
   ]
  },
  {
   "cell_type": "code",
   "execution_count": null,
   "metadata": {},
   "outputs": [],
   "source": [
    "'nxaqhyoprhlhvhyojanrovqdyfqmlpxapbjwtssm qmsbphxzmnvflrwyvxlc udfuxjdxkxwqnqvgjjspyawoixzhsdkaaauramvgzycidpyopumzgdpamnty', \n",
    "'nxaqhyoprhlhvhyojanrovqdyfqmlpxapbjwtssm udfuxjdxkxwqnqvgjjspyawoixzhsdkaaauramvgzycidpyopumzgdpamnty', \n",
    "'ovqdyfqmlpxapbjwtssmqmsbphxzmnvflrwyvxlcudfuxjdxkxwqnqvgjjspyawoixzhsdkaaauramvgzycidpyopumzgdpamnty'"
   ]
  },
  {
   "cell_type": "code",
   "execution_count": 36,
   "metadata": {},
   "outputs": [],
   "source": [
    "a = sorted('nxaqhyoprhlhvhyojanrovqdyfqmlpxapbjwtssmqmsbphxzmnvflrwyvxlcudfuxjdxkxwqnqvgjjspyawoixzhsdkaaauramvgzycidpyopumzgdpamnty')"
   ]
  },
  {
   "cell_type": "code",
   "execution_count": 37,
   "metadata": {},
   "outputs": [
    {
     "data": {
      "text/plain": [
       "['a',\n",
       " 'a',\n",
       " 'a',\n",
       " 'a',\n",
       " 'a',\n",
       " 'a',\n",
       " 'a',\n",
       " 'a',\n",
       " 'a',\n",
       " 'b',\n",
       " 'b',\n",
       " 'c',\n",
       " 'c',\n",
       " 'd',\n",
       " 'd',\n",
       " 'd',\n",
       " 'd',\n",
       " 'd',\n",
       " 'd',\n",
       " 'f',\n",
       " 'f',\n",
       " 'f',\n",
       " 'g',\n",
       " 'g',\n",
       " 'g',\n",
       " 'h',\n",
       " 'h',\n",
       " 'h',\n",
       " 'h',\n",
       " 'h',\n",
       " 'h',\n",
       " 'i',\n",
       " 'i',\n",
       " 'j',\n",
       " 'j',\n",
       " 'j',\n",
       " 'j',\n",
       " 'j',\n",
       " 'k',\n",
       " 'k',\n",
       " 'l',\n",
       " 'l',\n",
       " 'l',\n",
       " 'l',\n",
       " 'm',\n",
       " 'm',\n",
       " 'm',\n",
       " 'm',\n",
       " 'm',\n",
       " 'm',\n",
       " 'm',\n",
       " 'n',\n",
       " 'n',\n",
       " 'n',\n",
       " 'n',\n",
       " 'n',\n",
       " 'o',\n",
       " 'o',\n",
       " 'o',\n",
       " 'o',\n",
       " 'o',\n",
       " 'p',\n",
       " 'p',\n",
       " 'p',\n",
       " 'p',\n",
       " 'p',\n",
       " 'p',\n",
       " 'p',\n",
       " 'p',\n",
       " 'q',\n",
       " 'q',\n",
       " 'q',\n",
       " 'q',\n",
       " 'q',\n",
       " 'q',\n",
       " 'r',\n",
       " 'r',\n",
       " 'r',\n",
       " 'r',\n",
       " 's',\n",
       " 's',\n",
       " 's',\n",
       " 's',\n",
       " 's',\n",
       " 't',\n",
       " 't',\n",
       " 'u',\n",
       " 'u',\n",
       " 'u',\n",
       " 'u',\n",
       " 'v',\n",
       " 'v',\n",
       " 'v',\n",
       " 'v',\n",
       " 'v',\n",
       " 'v',\n",
       " 'w',\n",
       " 'w',\n",
       " 'w',\n",
       " 'w',\n",
       " 'x',\n",
       " 'x',\n",
       " 'x',\n",
       " 'x',\n",
       " 'x',\n",
       " 'x',\n",
       " 'x',\n",
       " 'x',\n",
       " 'y',\n",
       " 'y',\n",
       " 'y',\n",
       " 'y',\n",
       " 'y',\n",
       " 'y',\n",
       " 'y',\n",
       " 'y',\n",
       " 'z',\n",
       " 'z',\n",
       " 'z',\n",
       " 'z']"
      ]
     },
     "execution_count": 37,
     "metadata": {},
     "output_type": "execute_result"
    }
   ],
   "source": [
    "a"
   ]
  },
  {
   "cell_type": "code",
   "execution_count": null,
   "metadata": {},
   "outputs": [],
   "source": []
  }
 ],
 "metadata": {
  "kernelspec": {
   "display_name": "Python 3",
   "language": "python",
   "name": "python3"
  },
  "language_info": {
   "codemirror_mode": {
    "name": "ipython",
    "version": 3
   },
   "file_extension": ".py",
   "mimetype": "text/x-python",
   "name": "python",
   "nbconvert_exporter": "python",
   "pygments_lexer": "ipython3",
   "version": "3.6.2"
  }
 },
 "nbformat": 4,
 "nbformat_minor": 4
}
