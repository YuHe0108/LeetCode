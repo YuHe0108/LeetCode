{
 "cells": [
  {
   "cell_type": "raw",
   "metadata": {},
   "source": [
    "说明：\n",
    "    您将得到一个仅包含4种字符“ Q”，“ W”，“ E”和“ R”的字符串。\n",
    "    如果字符串的每个字符出现 n/4次（其中n是字符串的长度），则称该字符串是平衡的。\n",
    "    返回可以用任何其他相同长度的字符串替换的子字符串的最小长度，以使原始字符串达到平衡。\n",
    "    如果字符串已经平衡，则返回0。\n",
    "\n",
    "Example 1:\n",
    "    Input: s = \"QWER\"\n",
    "    Output: 0\n",
    "    Explanation: s is already balanced.\n",
    "\n",
    "Example 2:\n",
    "    Input: s = \"QQWE\"\n",
    "    Output: 1\n",
    "    Explanation: We need to replace a 'Q' to 'R', so that \"RQWE\" (or \"QRWE\") is balanced.\n",
    "\n",
    "Example 3:\n",
    "    Input: s = \"QQQW\"\n",
    "    Output: 2\n",
    "    Explanation: We can replace the first \"QQ\" to \"ER\". \n",
    "\n",
    "Example 4:\n",
    "    Input: s = \"QQQQ\"\n",
    "    Output: 3\n",
    "    Explanation: We can replace the last 3 'Q' to make s = \"QWER\".\n",
    "\n",
    "Constraints:\n",
    "    1、1 <= s.length <= 10^5\n",
    "    2、s.length is a multiple of 4\n",
    "    3、s contains only 'Q', 'W', 'E' and 'R'."
   ]
  },
  {
   "cell_type": "code",
   "execution_count": 22,
   "metadata": {},
   "outputs": [],
   "source": [
    "from collections import Counter\n",
    "\n",
    "class Solution:\n",
    "    def balancedString(self, s: str) -> int:\n",
    "        print(sorted(s))\n",
    "        N = len(s)\n",
    "        n = N // 4\n",
    "        print(n)\n",
    "        s_freq = Counter(s)\n",
    "        q = s_freq['Q']\n",
    "        w = s_freq['W']\n",
    "        e = s_freq['E']\n",
    "        r = s_freq['R']\n",
    "        res = 0\n",
    "        if q < n:\n",
    "            res += n - q\n",
    "        if w < n:\n",
    "            res += n - w\n",
    "        if e < n:\n",
    "            res += n - e\n",
    "        if r < n:\n",
    "            res += n - r\n",
    "        return res"
   ]
  },
  {
   "cell_type": "code",
   "execution_count": 49,
   "metadata": {},
   "outputs": [],
   "source": [
    "from collections import Counter\n",
    "\n",
    "class Solution:\n",
    "    def balancedString(self, s: str) -> int:\n",
    "        # sub_str外的词频小于 n / 4才行\n",
    "        N = len(s)\n",
    "        counters = [None] * (N + 1)\n",
    "        counters[0] = Counter()\n",
    "        for i in range(N):\n",
    "            counters[i+1] = counters[i].copy()\n",
    "            counters[i+1][s[i]] += 1\n",
    "        \n",
    "        \n",
    "    def helper(self, n, left, right, counters):\n",
    "        counter = counters[right]"
   ]
  },
  {
   "cell_type": "code",
   "execution_count": 61,
   "metadata": {},
   "outputs": [],
   "source": [
    "from collections import Counter\n",
    "from collections import defaultdict\n",
    "\n",
    "class Solution:\n",
    "    def balancedString(self, s: str) -> int:\n",
    "        extra = Counter(s) - Counter({a: len(s)//4 for a in 'QWER'})\n",
    "        if not extra: return 0\n",
    "        \n",
    "        ans = len(s)\n",
    "        indices = defaultdict(list)\n",
    "        for i, a in enumerate(s):\n",
    "            indices[a].append(i)\n",
    "            if any(len(indices[k]) < v for k, v in extra.items()):\n",
    "                continue\n",
    "            ans = min(ans, i - min(indices[k][-v] for k, v in extra.items()) + 1)\n",
    "        return ans"
   ]
  },
  {
   "cell_type": "code",
   "execution_count": 67,
   "metadata": {},
   "outputs": [],
   "source": [
    "import collections\n",
    "\n",
    "class Solution:\n",
    "    def balancedString(self, s):\n",
    "        count = collections.Counter(s)\n",
    "        res = n = len(s)\n",
    "        i = 0\n",
    "        for j, c in enumerate(s):\n",
    "            count[c] -= 1\n",
    "            while i < n and all(count[c] <= n // 4 for c in 'QWER'):\n",
    "                res = min(res, j - i + 1)\n",
    "                count[s[i]] += 1\n",
    "                i += 1\n",
    "        return res"
   ]
  },
  {
   "cell_type": "code",
   "execution_count": 68,
   "metadata": {},
   "outputs": [
    {
     "data": {
      "text/plain": [
       "4"
      ]
     },
     "execution_count": 68,
     "metadata": {},
     "output_type": "execute_result"
    }
   ],
   "source": [
    "solution = Solution()\n",
    "solution.balancedString(\"WWEQERQWQWWRWWERQWEQ\")"
   ]
  },
  {
   "cell_type": "code",
   "execution_count": 26,
   "metadata": {},
   "outputs": [
    {
     "data": {
      "text/plain": [
       "'WWEQERQWQWWR WWERQWEQ'"
      ]
     },
     "execution_count": 26,
     "metadata": {},
     "output_type": "execute_result"
    }
   ],
   "source": [
    "\"WWEQERQWQWWR WWERQWEQ\""
   ]
  },
  {
   "cell_type": "code",
   "execution_count": 30,
   "metadata": {},
   "outputs": [],
   "source": [
    "from collections import Counter\n",
    "\n",
    "a = Counter()\n",
    "a['a'] = 2 \n",
    "b = Counter()\n",
    "b['a'] = 4"
   ]
  },
  {
   "cell_type": "code",
   "execution_count": 31,
   "metadata": {},
   "outputs": [
    {
     "data": {
      "text/plain": [
       "Counter({'a': 2})"
      ]
     },
     "execution_count": 31,
     "metadata": {},
     "output_type": "execute_result"
    }
   ],
   "source": [
    "a"
   ]
  },
  {
   "cell_type": "code",
   "execution_count": 32,
   "metadata": {},
   "outputs": [
    {
     "data": {
      "text/plain": [
       "Counter({'a': 4})"
      ]
     },
     "execution_count": 32,
     "metadata": {},
     "output_type": "execute_result"
    }
   ],
   "source": [
    "b\n"
   ]
  },
  {
   "cell_type": "code",
   "execution_count": 38,
   "metadata": {},
   "outputs": [],
   "source": [
    "c = b - a"
   ]
  },
  {
   "cell_type": "code",
   "execution_count": 39,
   "metadata": {},
   "outputs": [
    {
     "data": {
      "text/plain": [
       "Counter({'a': 2})"
      ]
     },
     "execution_count": 39,
     "metadata": {},
     "output_type": "execute_result"
    }
   ],
   "source": [
    "c"
   ]
  },
  {
   "cell_type": "code",
   "execution_count": null,
   "metadata": {},
   "outputs": [],
   "source": [
    "[Counter(),\n",
    " Counter({'W': 1}), \n",
    " Counter({'W': 2}), \n",
    " Counter({'W': 2, 'E': 1}), \n",
    " Counter({'W': 2, 'E': 1, 'Q': 1}), \n",
    " Counter({'W': 2, 'E': 2, 'Q': 1}), \n",
    " Counter({'W': 2, 'E': 2, 'Q': 1, 'R': 1}), \n",
    " Counter({'W': 2, 'E': 2, 'Q': 2, 'R': 1}), \n",
    " Counter({'W': 3, 'E': 2, 'Q': 2, 'R': 1}), \n",
    " Counter({'W': 3, 'Q': 3, 'E': 2, 'R': 1}), \n",
    " Counter({'W': 4, 'Q': 3, 'E': 2, 'R': 1}), \n",
    " Counter({'W': 5, 'Q': 3, 'E': 2, 'R': 1}), \n",
    " Counter({'W': 5, 'Q': 3, 'E': 2, 'R': 2}), \n",
    " Counter({'W': 6, 'Q': 3, 'E': 2, 'R': 2}), \n",
    " Counter({'W': 7, 'Q': 3, 'E': 2, 'R': 2}), \n",
    " Counter({'W': 7, 'E': 3, 'Q': 3, 'R': 2}), \n",
    " Counter({'W': 7, 'E': 3, 'Q': 3, 'R': 3}), \n",
    " Counter({'W': 7, 'Q': 4, 'E': 3, 'R': 3}), \n",
    " Counter({'W': 8, 'Q': 4, 'E': 3, 'R': 3}), \n",
    " Counter({'W': 8, 'E': 4, 'Q': 4, 'R': 3}), \n",
    " Counter({'W': 8, 'Q': 5, 'E': 4, 'R': 3})]"
   ]
  }
 ],
 "metadata": {
  "kernelspec": {
   "display_name": "Python 3",
   "language": "python",
   "name": "python3"
  },
  "language_info": {
   "codemirror_mode": {
    "name": "ipython",
    "version": 3
   },
   "file_extension": ".py",
   "mimetype": "text/x-python",
   "name": "python",
   "nbconvert_exporter": "python",
   "pygments_lexer": "ipython3",
   "version": "3.6.2"
  }
 },
 "nbformat": 4,
 "nbformat_minor": 4
}
