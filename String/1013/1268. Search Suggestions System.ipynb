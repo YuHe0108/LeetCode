{
 "cells": [
  {
   "cell_type": "raw",
   "metadata": {},
   "source": [
    "说明：\n",
    "    给定一个字符串 products 数组和一个字符串searchWord。\n",
    "    我们希望设计一个系统，在键入searchWord的每个字符后，最多建议三个产品名称。\n",
    "    建议的产品应使用searchWord共同的前缀。\n",
    "    如果有三个以上具有共同前缀的 products，则返回三个词典最小products。\n",
    "    键入searchWord的每个字符后，返回建议产品列表的列表。\n",
    "\n",
    "Example 1:\n",
    "    Input: products = [\"mobile\",\"mouse\",\"moneypot\",\"monitor\",\"mousepad\"], searchWord = \"mouse\"\n",
    "    Output: [\n",
    "                [\"mobile\",\"moneypot\",\"monitor\"],\n",
    "                [\"mobile\",\"moneypot\",\"monitor\"],\n",
    "                [\"mouse\",\"mousepad\"],\n",
    "                [\"mouse\",\"mousepad\"],\n",
    "                [\"mouse\",\"mousepad\"]\n",
    "            ]\n",
    "    Explanation: products sorted lexicographically = [\"mobile\",\"moneypot\",\"monitor\",\"mouse\",\"mousepad\"]\n",
    "                 After typing m and mo all products match and we show user [\"mobile\",\"moneypot\",\"monitor\"]\n",
    "                 After typing mou, mous and mouse the system suggests [\"mouse\",\"mousepad\"]\n",
    "\n",
    "Example 2:\n",
    "    Input: products = [\"havana\"], searchWord = \"havana\"\n",
    "    Output: [[\"havana\"],[\"havana\"],[\"havana\"],[\"havana\"],[\"havana\"],[\"havana\"]]\n",
    "\n",
    "Example 3:\n",
    "    Input: products = [\"bags\",\"baggage\",\"banner\",\"box\",\"cloths\"], searchWord = \"bags\"\n",
    "    Output: [[\"baggage\",\"bags\",\"banner\"],[\"baggage\",\"bags\",\"banner\"],[\"baggage\",\"bags\"],[\"bags\"]]\n",
    "\n",
    "Example 4:\n",
    "    Input: products = [\"havana\"], searchWord = \"tatiana\"\n",
    "    Output: [[],[],[],[],[],[],[]]\n",
    "\n",
    "Constraints:\n",
    "    1、1 <= products.length <= 1000\n",
    "    2、There are no repeated elements in products.\n",
    "    3、1 <= Σ products[i].length <= 2 * 10^4\n",
    "    4、All characters of products[i] are lower-case English letters.\n",
    "    5、1 <= searchWord.length <= 1000\n",
    "    6、All characters of searchWord are lower-case English letters."
   ]
  },
  {
   "cell_type": "code",
   "execution_count": 15,
   "metadata": {},
   "outputs": [],
   "source": [
    "class Solution:\n",
    "    def suggestedProducts(self, products, searchWord: str):\n",
    "        res = []\n",
    "        N = len(searchWord)\n",
    "        products.sort()\n",
    "        for i in range(1, N + 1):\n",
    "            vals = []\n",
    "            for pro in products:\n",
    "                if pro[:i] == searchWord[:i]:\n",
    "                    vals.append(pro)\n",
    "                if len(vals) == 3:\n",
    "                    break\n",
    "            res.append(vals)\n",
    "        return res"
   ]
  },
  {
   "cell_type": "code",
   "execution_count": 19,
   "metadata": {},
   "outputs": [
    {
     "data": {
      "text/plain": [
       "[[], [], [], [], [], [], []]"
      ]
     },
     "execution_count": 19,
     "metadata": {},
     "output_type": "execute_result"
    }
   ],
   "source": [
    "solution = Solution()\n",
    "solution.suggestedProducts(products = [\"havana\"], searchWord = \"tatiana\")"
   ]
  },
  {
   "cell_type": "code",
   "execution_count": 6,
   "metadata": {},
   "outputs": [],
   "source": [
    "a = [\"mouse\",\"moneypot\", \"mobile\", \"monitor\"]"
   ]
  },
  {
   "cell_type": "code",
   "execution_count": 7,
   "metadata": {},
   "outputs": [],
   "source": [
    "a.sort()"
   ]
  },
  {
   "cell_type": "code",
   "execution_count": 8,
   "metadata": {},
   "outputs": [
    {
     "data": {
      "text/plain": [
       "['mobile', 'moneypot', 'monitor', 'mouse']"
      ]
     },
     "execution_count": 8,
     "metadata": {},
     "output_type": "execute_result"
    }
   ],
   "source": [
    "a"
   ]
  },
  {
   "cell_type": "code",
   "execution_count": null,
   "metadata": {},
   "outputs": [],
   "source": []
  }
 ],
 "metadata": {
  "kernelspec": {
   "display_name": "Python 3",
   "language": "python",
   "name": "python3"
  },
  "language_info": {
   "codemirror_mode": {
    "name": "ipython",
    "version": 3
   },
   "file_extension": ".py",
   "mimetype": "text/x-python",
   "name": "python",
   "nbconvert_exporter": "python",
   "pygments_lexer": "ipython3",
   "version": "3.6.2"
  }
 },
 "nbformat": 4,
 "nbformat_minor": 4
}
