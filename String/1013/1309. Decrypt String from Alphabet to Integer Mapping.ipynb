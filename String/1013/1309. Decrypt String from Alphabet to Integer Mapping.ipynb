{
 "cells": [
  {
   "cell_type": "raw",
   "metadata": {},
   "source": [
    "说明：\n",
    "    给定由数字(‘0’-‘9’)和‘#’组成的字符串s。\n",
    "    我们希望将s映射到英文小写字符，如下所示：\n",
    "    1、字符(‘a’到‘i’)分别由(‘1’到‘9’)表示。\n",
    "    2、字符(‘j’到‘z’)分别由(‘10#’到‘26#’)表示。\n",
    "    返回映射后形成的字符串。\n",
    "    可以保证唯一的映射将始终存在。\n",
    "Example 1:\n",
    "    Input: s = \"10#11#12\"\n",
    "    Output: \"jkab\"\n",
    "    Explanation: \"j\" -> \"10#\" , \"k\" -> \"11#\" , \"a\" -> \"1\" , \"b\" -> \"2\".\n",
    "\n",
    "Example 2:\n",
    "    Input: s = \"1326#\"\n",
    "    Output: \"acz\"\n",
    "\n",
    "Example 3:\n",
    "    Input: s = \"25#\"\n",
    "    Output: \"y\"\n",
    "\n",
    "Example 4:\n",
    "    Input: s = \"12345678910#11#12#13#14#15#16#17#18#19#20#21#22#23#24#25#26#\"\n",
    "    Output: \"abcdefghijklmnopqrstuvwxyz\"\n",
    "\n",
    "Constraints:\n",
    "    1、1 <= s.length <= 1000\n",
    "    2、s[i] only contains digits letters ('0'-'9') and '#' letter.\n",
    "    3、s will be valid string such that mapping is always possible."
   ]
  },
  {
   "cell_type": "code",
   "execution_count": 4,
   "metadata": {},
   "outputs": [],
   "source": [
    "class Solution:\n",
    "    def freqAlphabets(self, s: str) -> str:\n",
    "        res = ''\n",
    "        idx = 0\n",
    "        while idx < len(s):\n",
    "            if idx + 2 < len(s) and 1 <= int(s[idx]) <= 2 and s[idx + 2] == '#':\n",
    "                val = int(s[idx] + s[idx + 1])\n",
    "                idx += 2\n",
    "            else:\n",
    "                val = int(s[idx])\n",
    "            res += chr(val + 96)\n",
    "            idx += 1\n",
    "        return res"
   ]
  },
  {
   "cell_type": "code",
   "execution_count": 8,
   "metadata": {},
   "outputs": [
    {
     "data": {
      "text/plain": [
       "'jkab'"
      ]
     },
     "execution_count": 8,
     "metadata": {},
     "output_type": "execute_result"
    }
   ],
   "source": [
    "solution = Solution()\n",
    "solution.freqAlphabets(\"10#11#12\")"
   ]
  },
  {
   "cell_type": "code",
   "execution_count": null,
   "metadata": {},
   "outputs": [],
   "source": [
    "96 + 1"
   ]
  }
 ],
 "metadata": {
  "kernelspec": {
   "display_name": "Python 3",
   "language": "python",
   "name": "python3"
  },
  "language_info": {
   "codemirror_mode": {
    "name": "ipython",
    "version": 3
   },
   "file_extension": ".py",
   "mimetype": "text/x-python",
   "name": "python",
   "nbconvert_exporter": "python",
   "pygments_lexer": "ipython3",
   "version": "3.6.2"
  }
 },
 "nbformat": 4,
 "nbformat_minor": 4
}
