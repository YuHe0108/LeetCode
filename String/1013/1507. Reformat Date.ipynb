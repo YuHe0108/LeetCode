{
 "cells": [
  {
   "cell_type": "raw",
   "metadata": {},
   "source": [
    "说明：\n",
    "    以Day Month Year的形式给出日期字符串，其中：\n",
    "        1、Day is in the set {\"1st\", \"2nd\", \"3rd\", \"4th\", ..., \"30th\", \"31st\"}.\n",
    "        2、Month is in the set {\"Jan\", \"Feb\", \"Mar\", \"Apr\", \"May\", \"Jun\", \"Jul\", \"Aug\", \"Sep\", \"Oct\", \"Nov\", \"Dec\"}.\n",
    "        3、Year is in the range [1900, 2100].\n",
    "    将日期字符串转换为格式YYYY-MM-DD，其中：\n",
    "        1、YYYY denotes the 4 digit year.\n",
    "        2、MM denotes the 2 digit month.\n",
    "        3、DD denotes the 2 digit day.\n",
    "\n",
    "Example 1:\n",
    "    Input: date = \"20th Oct 2052\"\n",
    "    Output: \"2052-10-20\"\n",
    "\n",
    "Example 2:\n",
    "    Input: date = \"6th Jun 1933\"\n",
    "    Output: \"1933-06-06\"\n",
    "\n",
    "Example 3:\n",
    "    Input: date = \"26th May 1960\"\n",
    "    Output: \"1960-05-26\"\n",
    "\n",
    "Constraints:\n",
    "    1、The given dates are guaranteed to be valid, so no error handling is necessary."
   ]
  },
  {
   "cell_type": "code",
   "execution_count": 15,
   "metadata": {},
   "outputs": [],
   "source": [
    "class Solution:\n",
    "    def reformatDate(self, date: str) -> str:\n",
    "        mons = [\"Jan\", \"Feb\", \"Mar\", \"Apr\", \"May\", \"Jun\", \"Jul\", \"Aug\", \"Sep\", \"Oct\", \"Nov\", \"Dec\"]\n",
    "        date = date.split(' ')\n",
    "        Y, M, D = [], [], []\n",
    "        for d in date:\n",
    "            if d.isdigit():\n",
    "                Y.append(d)\n",
    "            elif d.isalpha():\n",
    "                M.append(mons.index(d))\n",
    "            else:\n",
    "                D.append(d[:-2])\n",
    "        res = ''\n",
    "        for i in range(len(Y)):\n",
    "            res += Y[i] + '-' + str(M[i]) + '-' + D[i]\n",
    "        return res"
   ]
  },
  {
   "cell_type": "code",
   "execution_count": 16,
   "metadata": {},
   "outputs": [
    {
     "name": "stdout",
     "output_type": "stream",
     "text": [
      "['2052'] [9] ['20']\n"
     ]
    },
    {
     "data": {
      "text/plain": [
       "'2052-9-20'"
      ]
     },
     "execution_count": 16,
     "metadata": {},
     "output_type": "execute_result"
    }
   ],
   "source": [
    "solution = Solution()\n",
    "solution.reformatDate(\"20th Oct 2052\")"
   ]
  },
  {
   "cell_type": "code",
   "execution_count": null,
   "metadata": {},
   "outputs": [],
   "source": [
    "\n"
   ]
  }
 ],
 "metadata": {
  "kernelspec": {
   "display_name": "Python 3",
   "language": "python",
   "name": "python3"
  },
  "language_info": {
   "codemirror_mode": {
    "name": "ipython",
    "version": 3
   },
   "file_extension": ".py",
   "mimetype": "text/x-python",
   "name": "python",
   "nbconvert_exporter": "python",
   "pygments_lexer": "ipython3",
   "version": "3.6.2"
  }
 },
 "nbformat": 4,
 "nbformat_minor": 4
}
