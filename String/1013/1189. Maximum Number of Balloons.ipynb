{
 "cells": [
  {
   "cell_type": "raw",
   "metadata": {},
   "source": [
    "说明：\n",
    "    给定一个字符串文本，您希望使用文本的字符来形成尽可能多的单词“balloon”实例。\n",
    "    文本中的每个字符最多只能使用一次。\n",
    "    返回可以形成的最大实例数。\n",
    "\n",
    "Example 1:\n",
    "    Input: text = \"nlaebolko\"\n",
    "    Output: 1\n",
    "\n",
    "Example 2:\n",
    "    Input: text = \"loonbalxballpoon\"\n",
    "    Output: 2\n",
    "\n",
    "Example 3:\n",
    "    Input: text = \"leetcode\"\n",
    "    Output: 0\n",
    " \n",
    "Constraints:\n",
    "    1、1 <= text.length <= 10^4\n",
    "    2、text consists of lower case English letters only."
   ]
  },
  {
   "cell_type": "code",
   "execution_count": 1,
   "metadata": {},
   "outputs": [],
   "source": [
    "from collections import Counter\n",
    "\n",
    "class Solution:\n",
    "    def maxNumberOfBalloons(self, text: str) -> int:\n",
    "        t_freq = Counter(text)\n",
    "        return min([t_freq['b'], t_freq['a'], t_freq['l'] // 2, f_freq['o'] // 2, t_freq['n']])"
   ]
  },
  {
   "cell_type": "code",
   "execution_count": null,
   "metadata": {},
   "outputs": [],
   "source": []
  }
 ],
 "metadata": {
  "kernelspec": {
   "display_name": "Python 3",
   "language": "python",
   "name": "python3"
  },
  "language_info": {
   "codemirror_mode": {
    "name": "ipython",
    "version": 3
   },
   "file_extension": ".py",
   "mimetype": "text/x-python",
   "name": "python",
   "nbconvert_exporter": "python",
   "pygments_lexer": "ipython3",
   "version": "3.6.2"
  }
 },
 "nbformat": 4,
 "nbformat_minor": 4
}
