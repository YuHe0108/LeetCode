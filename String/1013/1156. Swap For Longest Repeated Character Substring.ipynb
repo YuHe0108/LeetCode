{
 "cells": [
  {
   "cell_type": "raw",
   "metadata": {},
   "source": [
    "说明：\n",
    "    给定一个字符串文本，我们可以交换字符串中的两个字符。\n",
    "    查找具有重复字符的最长子字符串的长度。\n",
    "\n",
    "Example 1:\n",
    "    Input: text = \"ababa\"\n",
    "    Output: 3\n",
    "    Explanation: We can swap the first 'b' with the last 'a', or the last 'b' with the first 'a'. \n",
    "                 Then, the longest repeated character substring is \"aaa\", which its length is 3.\n",
    "\n",
    "Example 2:\n",
    "    Input: text = \"aaabaaa\"\n",
    "    Output: 6\n",
    "    Explanation: Swap 'b' with the last 'a' (or the first 'a'), and we get longest repeated character substring \"aaaaaa\", which its length is 6.\n",
    "\n",
    "Example 3:\n",
    "    Input: text = \"aaabbaaa\"\n",
    "    Output: 4\n",
    "\n",
    "Example 4:\n",
    "    Input: text = \"aaaaa\"\n",
    "    Output: 5\n",
    "    Explanation: No need to swap, longest repeated character substring is \"aaaaa\", length is 5.\n",
    "\n",
    "Example 5:\n",
    "    Input: text = \"abcdef\"\n",
    "    Output: 1\n",
    " \n",
    "Constraints:\n",
    "    1、1 <= text.length <= 20000\n",
    "    2、text consist of lowercase English characters only."
   ]
  },
  {
   "cell_type": "code",
   "execution_count": 126,
   "metadata": {},
   "outputs": [],
   "source": [
    "from collections import Counter\n",
    "\n",
    "class Solution:\n",
    "    def maxRepOpt1(self, text: str) -> int:\n",
    "        t_counter = Counter(text)\n",
    "        N, idx, res, count, changed = len(text), 0, 1, 1, False\n",
    "        while idx < N:\n",
    "            if idx + 1 < N and text[idx] == text[idx + 1]:\n",
    "                count += 1\n",
    "            elif idx + 2 < N and text[idx] == text[idx + 2]:\n",
    "                if not changed:\n",
    "                    changed = True\n",
    "                    count += 1\n",
    "                    idx = idx + 1\n",
    "                else:\n",
    "                    changed = False\n",
    "                    if t_counter[text[idx]] == count:\n",
    "                        res = max(res, count)\n",
    "                    else:\n",
    "                        res = max(res, count + 1)\n",
    "            else:\n",
    "                if t_counter[text[idx]] == count:\n",
    "                    res = max(res, count)\n",
    "                else:\n",
    "                    print(count, count+1)\n",
    "                    res = max(res, count + 1)\n",
    "                count = 1\n",
    "            idx += 1\n",
    "        return res"
   ]
  },
  {
   "cell_type": "code",
   "execution_count": 136,
   "metadata": {},
   "outputs": [],
   "source": [
    "from collections import Counter\n",
    "\n",
    "class Solution:\n",
    "    def maxRepOpt1(self, text: str) -> int:\n",
    "        counts = Counter(text)\n",
    "        \n",
    "        idx = 0\n",
    "        nextCharIdx = 1\n",
    "        maxLen = 1\n",
    "        while idx < len(text):\n",
    "            currentChar = text[idx]\n",
    "            currentLen = 1\n",
    "            currentCount = counts[currentChar] - 1\n",
    "            nextIdx = idx + 1\n",
    "            diffChars = 0\n",
    "            while nextIdx < len(text) and currentChar == text[nextIdx]:\n",
    "                currentCount -= 1\n",
    "                currentLen += 1\n",
    "                nextIdx += 1\n",
    "            nextCharIdx = nextIdx\n",
    "            diffChars += 1\n",
    "            if nextIdx < len(text) - 1 and diffChars == 1 and currentChar == text[nextIdx + 1]:\n",
    "                nextIdx += 1\n",
    "                while nextIdx < len(text) and currentChar == text[nextIdx]:\n",
    "                    currentCount -= 1\n",
    "                    currentLen += 1\n",
    "                    nextIdx += 1\n",
    "            if nextIdx < len(text):\n",
    "                diffChars += 1\n",
    "            if diffChars > 0 and currentCount > 0:\n",
    "                currentLen += 1\n",
    "            maxLen = max(maxLen, currentLen)\n",
    "            idx = nextCharIdx\n",
    "        return maxLen"
   ]
  },
  {
   "cell_type": "code",
   "execution_count": 144,
   "metadata": {},
   "outputs": [],
   "source": [
    "from collections import Counter\n",
    "\n",
    "class Solution:\n",
    "    def maxRepOpt1(self, text: str) -> int:\n",
    "        counts = Counter(text)\n",
    "        idx = 0\n",
    "        next_char_idx = 1\n",
    "        max_len = 1\n",
    "        while idx < len(text):\n",
    "            cur_char = text[idx]\n",
    "            cur_len = 1\n",
    "            cur_count = counts[cur_char] - 1\n",
    "            next_idx = idx + 1\n",
    "            diffchars  = 0\n",
    "            \n",
    "            while next_idx < len(text) and cur_char == text[next_idx]:\n",
    "                cur_count -= 1\n",
    "                cur_len += 1\n",
    "                next_idx += 1\n",
    "            next_char_idx = next_idx\n",
    "            diffchars += 1\n",
    "            \n",
    "            if next_idx < len(text) - 1 and diffchars == 1 and cur_char == text[next_idx + 1]:\n",
    "                next_idx += 1\n",
    "                while next_idx < len(text) and cur_char == text[next_idx]:\n",
    "                    cur_count -= 1\n",
    "                    cur_len += 1\n",
    "                    next_idx += 1\n",
    "            if next_idx < len(text):\n",
    "                diffchars += 1\n",
    "            if diffchars > 0 and cur_count > 0:\n",
    "                cur_len += 1\n",
    "            max_len = max(max_len, cur_len)\n",
    "            idx = next_char_idx\n",
    "        return max_len"
   ]
  },
  {
   "cell_type": "code",
   "execution_count": 145,
   "metadata": {},
   "outputs": [
    {
     "name": "stdout",
     "output_type": "stream",
     "text": [
      "1\n",
      "1\n",
      "1\n",
      "1\n",
      "1\n",
      "1\n"
     ]
    },
    {
     "data": {
      "text/plain": [
       "6"
      ]
     },
     "execution_count": 145,
     "metadata": {},
     "output_type": "execute_result"
    }
   ],
   "source": [
    "solution = Solution()\n",
    "solution.maxRepOpt1(\"bbababaaaa\")"
   ]
  },
  {
   "cell_type": "code",
   "execution_count": null,
   "metadata": {},
   "outputs": [],
   "source": []
  }
 ],
 "metadata": {
  "kernelspec": {
   "display_name": "Python 3",
   "language": "python",
   "name": "python3"
  },
  "language_info": {
   "codemirror_mode": {
    "name": "ipython",
    "version": 3
   },
   "file_extension": ".py",
   "mimetype": "text/x-python",
   "name": "python",
   "nbconvert_exporter": "python",
   "pygments_lexer": "ipython3",
   "version": "3.6.2"
  }
 },
 "nbformat": 4,
 "nbformat_minor": 4
}
