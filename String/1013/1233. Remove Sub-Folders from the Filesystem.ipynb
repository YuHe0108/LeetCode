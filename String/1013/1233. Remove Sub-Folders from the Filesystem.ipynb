{
 "cells": [
  {
   "cell_type": "raw",
   "metadata": {},
   "source": [
    "说明:\n",
    "    给定文件夹列表，请删除这些文件夹中的所有子文件夹，并在删除后以任何顺序返回文件夹。\n",
    "    如果一个 folder[i] 位于另一个 folder[j]中，则称为该文件夹的子文件夹。\n",
    "    路径的格式是以下形式的一个或多个串联字符串：/后跟一个或多个小写英文字母。\n",
    "    例如，/ leetcode和/ leetcode / problems是有效路径，而空字符串和/不是。\n",
    "\n",
    "Example 1:\n",
    "    Input: folder = [\"/a\",\"/a/b\",\"/c/d\",\"/c/d/e\",\"/c/f\"]\n",
    "    Output: [\"/a\",\"/c/d\",\"/c/f\"]\n",
    "    Explanation: Folders \"/a/b/\" is a subfolder of \"/a\" and \"/c/d/e\" is inside of folder \"/c/d\" in our filesystem.\n",
    "\n",
    "Example 2:\n",
    "    Input: folder = [\"/a\",\"/a/b/c\",\"/a/b/d\"]\n",
    "    Output: [\"/a\"]\n",
    "    Explanation: Folders \"/a/b/c\" and \"/a/b/d/\" will be removed because they are subfolders of \"/a\".\n",
    "\n",
    "Example 3:\n",
    "    Input: folder = [\"/a/b/c\",\"/a/b/ca\",\"/a/b/d\"]\n",
    "    Output: [\"/a/b/c\",\"/a/b/ca\",\"/a/b/d\"]\n",
    " \n",
    "Constraints:\n",
    "    1、1 <= folder.length <= 4 * 10^4\n",
    "    2、2 <= folder[i].length <= 100\n",
    "    3、folder[i] contains only lowercase letters and '/'\n",
    "    4、folder[i] always starts with character '/'\n",
    "    5、Each folder name is unique."
   ]
  },
  {
   "cell_type": "code",
   "execution_count": 80,
   "metadata": {},
   "outputs": [],
   "source": [
    "class Solution:\n",
    "    def removeSubfolders(self, folder):\n",
    "        N = len(folder)\n",
    "        idx_1 = 0\n",
    "        while idx_1 < len(folder):\n",
    "            idx_2 = 0\n",
    "            while idx_2 < len(folder):\n",
    "                if idx_1 != idx_2:\n",
    "                    if folder[idx_1] in folder[idx_2] and folder[idx_2][len(folder[idx_1])] == '/':\n",
    "                        folder.pop(idx_2)\n",
    "                        idx_2 -= 1\n",
    "                idx_2 += 1\n",
    "            idx_1 += 1\n",
    "        return folder"
   ]
  },
  {
   "cell_type": "code",
   "execution_count": 86,
   "metadata": {},
   "outputs": [],
   "source": [
    "class Solution:\n",
    "    def removeSubfolders(self, folder):\n",
    "        N = len(folder)\n",
    "        seen = set()\n",
    "        folder = set(folder)\n",
    "        for i, fol_1 in enumerate(folder):\n",
    "            for j, fol_2 in enumerate(folder):\n",
    "                if i != j and fol_1 in fol_2 and fol_2[len(fol_1)] == '/' and j not in seen:\n",
    "                    seen.add(j)\n",
    "        res = []\n",
    "        for i, fol in enumerate(folder):\n",
    "            if i not in seen:\n",
    "                res.append(fol)\n",
    "        return res"
   ]
  },
  {
   "cell_type": "code",
   "execution_count": 90,
   "metadata": {},
   "outputs": [],
   "source": [
    "class Solution:\n",
    "    def removeSubfolders(self, folder):\n",
    "        folder.sort()\n",
    "        ans, prev = [folder[0]], folder[0] + '/'\n",
    "        for f in folder[1:]:\n",
    "            if not f.startswith(prev):\n",
    "                ans.append(f)\n",
    "                prev = f + '/'\n",
    "        return ans"
   ]
  },
  {
   "cell_type": "code",
   "execution_count": 91,
   "metadata": {},
   "outputs": [
    {
     "data": {
      "text/plain": [
       "['/aa/ab/ac/ae',\n",
       " '/aa/ab/af/ag',\n",
       " '/aa/ab/af/ah',\n",
       " '/aa/ai/aj/ak',\n",
       " '/aa/ai/am/ao',\n",
       " '/ap']"
      ]
     },
     "execution_count": 91,
     "metadata": {},
     "output_type": "execute_result"
    }
   ],
   "source": [
    "solution = Solution()\n",
    "solution.removeSubfolders([\"/aa/ab/ac/ae\",\"/aa/ab/af/ag\",\"/ap/aq/ar/as\",\"/ap/aq/ar\",\"/ap/ax/ay/az\",\"/ap\",\"/ap/aq/ar/at\",\"/aa/ab/af/ah\",\"/aa/ai/aj/ak\",\"/aa/ai/am/ao\"])"
   ]
  },
  {
   "cell_type": "code",
   "execution_count": null,
   "metadata": {},
   "outputs": [],
   "source": [
    "a = '1'\n",
    "a.starts"
   ]
  }
 ],
 "metadata": {
  "kernelspec": {
   "display_name": "Python 3",
   "language": "python",
   "name": "python3"
  },
  "language_info": {
   "codemirror_mode": {
    "name": "ipython",
    "version": 3
   },
   "file_extension": ".py",
   "mimetype": "text/x-python",
   "name": "python",
   "nbconvert_exporter": "python",
   "pygments_lexer": "ipython3",
   "version": "3.6.2"
  }
 },
 "nbformat": 4,
 "nbformat_minor": 4
}
