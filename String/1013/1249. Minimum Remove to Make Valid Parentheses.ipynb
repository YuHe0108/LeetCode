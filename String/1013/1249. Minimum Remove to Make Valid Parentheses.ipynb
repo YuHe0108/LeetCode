{
 "cells": [
  {
   "cell_type": "raw",
   "metadata": {},
   "source": [
    "说明：\n",
    "    给定字符串s'（'，'）'和小写英文字符。您的任务是删除最小括号 (在任何位置的 '(' 或')')，\n",
    "    以使所得的括号字符串有效并返回任何有效的字符串。\n",
    "    形式上，括号字符串仅在以下情况下有效：\n",
    "        1、它是空字符串，\n",
    "        2、仅包含小写字符，\n",
    "        3、或者可以表示为AB（与B串联的A），其中A和B是有效字符串，或者可以写入如（A），其中A是有效字符串。\n",
    "\n",
    "Example 1:\n",
    "    Input: s = \"lee(t(c)o)de)\"\n",
    "    Output: \"lee(t(c)o)de\"\n",
    "    Explanation: \"lee(t(co)de)\" , \"lee(t(c)ode)\" would also be accepted.\n",
    "\n",
    "Example 2:\n",
    "    Input: s = \"a)b(c)d\"\n",
    "    Output: \"ab(c)d\"\n",
    "\n",
    "Example 3:\n",
    "    Input: s = \"))((\"\n",
    "    Output: \"\"\n",
    "    Explanation: An empty string is also valid.\n",
    "\n",
    "Example 4:\n",
    "    Input: s = \"(a(b(c)d)\"\n",
    "    Output: \"a(b(c)d)\"\n",
    " \n",
    "Constraints:\n",
    "    1、1 <= s.length <= 10^5\n",
    "    2、s[i] is one of  '(' , ')' and lowercase English letters."
   ]
  },
  {
   "cell_type": "code",
   "execution_count": 27,
   "metadata": {},
   "outputs": [],
   "source": [
    "class Solution:\n",
    "    def minRemoveToMakeValid(self, s: str) -> str:\n",
    "        par_dict = {'(': [], ')': []}\n",
    "        for i, a in enumerate(s):\n",
    "            if a == '(':\n",
    "                par_dict[a].append(i)\n",
    "            elif a == ')':\n",
    "                if not par_dict['(']:\n",
    "                    par_dict[a].append(i)\n",
    "                else:\n",
    "                    par_dict['('].pop()\n",
    "        values = []\n",
    "        for val in par_dict.values():\n",
    "            values.extend(val)\n",
    "        values = set(values)\n",
    "        res = ''\n",
    "        for i, a in enumerate(s):\n",
    "            if i not in values:\n",
    "                res += a\n",
    "        return res"
   ]
  },
  {
   "cell_type": "code",
   "execution_count": 28,
   "metadata": {},
   "outputs": [
    {
     "data": {
      "text/plain": [
       "'ab(c)d'"
      ]
     },
     "execution_count": 28,
     "metadata": {},
     "output_type": "execute_result"
    }
   ],
   "source": [
    "solution = Solution()\n",
    "solution.minRemoveToMakeValid(\"a)b(c)d\")"
   ]
  },
  {
   "cell_type": "code",
   "execution_count": null,
   "metadata": {},
   "outputs": [],
   "source": []
  }
 ],
 "metadata": {
  "kernelspec": {
   "display_name": "Python 3",
   "language": "python",
   "name": "python3"
  },
  "language_info": {
   "codemirror_mode": {
    "name": "ipython",
    "version": 3
   },
   "file_extension": ".py",
   "mimetype": "text/x-python",
   "name": "python",
   "nbconvert_exporter": "python",
   "pygments_lexer": "ipython3",
   "version": "3.6.2"
  }
 },
 "nbformat": 4,
 "nbformat_minor": 4
}
