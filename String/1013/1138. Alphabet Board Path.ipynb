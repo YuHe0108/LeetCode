{
 "cells": [
  {
   "cell_type": "raw",
   "metadata": {},
   "source": [
    "说明：\n",
    "    在字母板上，我们从位置（0，0）开始，对应于字符板[0] [0]。\n",
    "    此处，board = [“abcde”, “fghij”, “klmno”, “pqrst”, “uvwxy”, “z”]，\n",
    "    如下图所示。"
   ]
  },
  {
   "cell_type": "markdown",
   "metadata": {},
   "source": [
    "<img src='https://assets.leetcode.com/uploads/2019/07/28/azboard.png' width=350>"
   ]
  },
  {
   "cell_type": "raw",
   "metadata": {},
   "source": [
    "说明：\n",
    "    我们可以做以下动作：\n",
    "        'U' moves our position up one row, if the position exists on the board;\n",
    "        'D' moves our position down one row, if the position exists on the board;\n",
    "        'L' moves our position left one column, if the position exists on the board;\n",
    "        'R' moves our position right one column, if the position exists on the board;\n",
    "        '!' adds the character board[r][c] at our current position (r, c) to the answer.\n",
    "    在这里，板上唯一的位置就是上面带有字母的位置。\n",
    "    返回一系列移动，使我们的答案在最小移动次数上等于目标。\n",
    "    您可以返回这样做的任何路径。\n",
    "\n",
    "Example 1:\n",
    "    Input: target = \"leet\"\n",
    "    Output: \"DDR!UURRR!!DDD!\"\n",
    "\n",
    "Example 2:\n",
    "    Input: target = \"code\"\n",
    "    Output: \"RR!DDRR!UUL!R!\"\n",
    " \n",
    "Constraints:\n",
    "    1、1 <= target.length <= 100\n",
    "    2、target consists only of English lowercase letters."
   ]
  },
  {
   "cell_type": "code",
   "execution_count": 11,
   "metadata": {},
   "outputs": [],
   "source": [
    "class Solution:\n",
    "    def alphabetBoardPath(self, target: str) -> str:\n",
    "        board = [\"abcde\", \"fghij\", \"klmno\", \"pqrst\", \"uvwxy\", \"z\"]\n",
    "        letter_dict = {}\n",
    "        for i, word in enumerate(board):\n",
    "            for j in range(len(word)):\n",
    "                letter_dict[word[j]] = [i, j]\n",
    "                \n",
    "        res = ''\n",
    "        x, y = 0, 0\n",
    "        for word in target:\n",
    "            t_x, t_y = letter_dict[word]\n",
    "            new_x, new_y = x, y\n",
    "            \n",
    "            if (new_x, new_y) == (t_x, t_y):\n",
    "                res += '!'\n",
    "                continue\n",
    "            \n",
    "            x_pos, y_pos = False, False     \n",
    "            if x == t_x:\n",
    "                x_pos = True\n",
    "            elif y == t_y:\n",
    "                y_pos = True\n",
    "                \n",
    "            if x > t_x:\n",
    "                res += 'U' * (x - t_x)\n",
    "                new_x = t_x\n",
    "            elif x < t_x:\n",
    "                res += 'D' * (t_x - x)\n",
    "                new_x = t_x \n",
    "            if y_pos:\n",
    "                res += '!'\n",
    "                \n",
    "            if y > t_y:\n",
    "                res += 'L' * (y - t_y) + '!'\n",
    "                new_y = t_y\n",
    "            elif y < t_y:\n",
    "                res += 'R' * (t_y - y) + '!'\n",
    "                new_y = t_y\n",
    "            if x_pos:\n",
    "                res += '!'\n",
    "          \n",
    "            x, y = new_x, new_y \n",
    "        return res"
   ]
  },
  {
   "cell_type": "code",
   "execution_count": 15,
   "metadata": {},
   "outputs": [],
   "source": [
    "class Solution:\n",
    "    def __init__(self):\n",
    "        board = [\"abcde\", \"fghij\", \"klmno\", \"pqrst\", \"uvwxy\", \"z\"]\n",
    "        letter_dict = {}\n",
    "        for i, word in enumerate(board):\n",
    "            for j in range(len(word)):\n",
    "                letter_dict[word[j]] = [i, j]\n",
    "        self.position = letter_dict\n",
    "        \n",
    "    def alphabetBoardPath(self, target: str) -> str:\n",
    "        result = ''\n",
    "        cur_row, cur_col = 0, 0\n",
    "        for c in target:\n",
    "            row, col = self.position[c]\n",
    "            d_row, d_col = row - cur_row, col - cur_col\n",
    "            result += 'L' * -d_col + 'U' * -d_row + 'R' * d_col + 'D' * d_row + '!'\n",
    "            cur_row, cur_col = row, col\n",
    "        return result"
   ]
  },
  {
   "cell_type": "code",
   "execution_count": 16,
   "metadata": {},
   "outputs": [
    {
     "data": {
      "text/plain": [
       "'RDD!UURRR!!DDD!'"
      ]
     },
     "execution_count": 16,
     "metadata": {},
     "output_type": "execute_result"
    }
   ],
   "source": [
    "solution = Solution()\n",
    "solution.alphabetBoardPath('leet')"
   ]
  },
  {
   "cell_type": "code",
   "execution_count": 9,
   "metadata": {},
   "outputs": [
    {
     "data": {
      "text/plain": [
       "2"
      ]
     },
     "execution_count": 9,
     "metadata": {},
     "output_type": "execute_result"
    }
   ],
   "source": [
    "a = [1, 2]\n",
    "a.pop()"
   ]
  },
  {
   "cell_type": "code",
   "execution_count": 17,
   "metadata": {},
   "outputs": [
    {
     "name": "stdout",
     "output_type": "stream",
     "text": [
      "\n"
     ]
    }
   ],
   "source": [
    "print('a' * -2)"
   ]
  },
  {
   "cell_type": "code",
   "execution_count": null,
   "metadata": {},
   "outputs": [],
   "source": []
  }
 ],
 "metadata": {
  "kernelspec": {
   "display_name": "Python 3",
   "language": "python",
   "name": "python3"
  },
  "language_info": {
   "codemirror_mode": {
    "name": "ipython",
    "version": 3
   },
   "file_extension": ".py",
   "mimetype": "text/x-python",
   "name": "python",
   "nbconvert_exporter": "python",
   "pygments_lexer": "ipython3",
   "version": "3.6.2"
  }
 },
 "nbformat": 4,
 "nbformat_minor": 4
}
