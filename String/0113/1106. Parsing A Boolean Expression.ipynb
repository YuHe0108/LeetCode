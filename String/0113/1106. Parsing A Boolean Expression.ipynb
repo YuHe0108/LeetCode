{
 "cells": [
  {
   "cell_type": "code",
   "execution_count": null,
   "metadata": {},
   "outputs": [],
   "source": []
  },
  {
   "cell_type": "code",
   "execution_count": null,
   "metadata": {},
   "outputs": [],
   "source": []
  },
  {
   "cell_type": "code",
   "execution_count": 1,
   "metadata": {},
   "outputs": [],
   "source": [
    "class Solution:\n",
    "    def parseBoolExpr(self, expression: str) -> bool:\n",
    "        symbol = {'&', '|', '!'}        \n",
    "        idx = 0\n",
    "        while idx < len(expression):\n",
    "            v = expression[idx]\n",
    "            if v in symbol:\n",
    "                pass\n",
    "            idx += 1"
   ]
  },
  {
   "cell_type": "code",
   "execution_count": null,
   "metadata": {},
   "outputs": [],
   "source": []
  },
  {
   "cell_type": "code",
   "execution_count": 88,
   "metadata": {},
   "outputs": [],
   "source": [
    "class Solution:\n",
    "    def parseBoolExpr(self, expression: str) -> bool:\n",
    "        # 首先找出各个 symbol = {'&', '|', '!'} 所在的下标位置\n",
    "        symbol = {'&', '|', '!'}\n",
    "        s_idx = []\n",
    "        for idx, v in enumerate(expression):\n",
    "            if v in symbol:\n",
    "                s_idx.append(idx)\n",
    "        \n",
    "        l_exp = list(expression)\n",
    "        for i in s_idx[::-1]:\n",
    "            v = expression[i]\n",
    "            info = []\n",
    "            idx = i\n",
    "            while l_exp[idx] != ')':\n",
    "                c = l_exp[idx] \n",
    "                if c != '(' and c != ',' and c != '(' and c not in symbol:\n",
    "                    info.append(c)\n",
    "                idx += 1\n",
    "            decode = None\n",
    "            if v == '&':\n",
    "                for t in info:\n",
    "                    if t == 'f':\n",
    "                        decode = 'f'\n",
    "                        break\n",
    "                else:\n",
    "                    decode = 't'\n",
    "            elif v == '|':\n",
    "                for t in info:\n",
    "                    if t == 't':\n",
    "                        decode = 't'\n",
    "                        break\n",
    "                else:\n",
    "                    decode = 'f'\n",
    "            elif v == '!':\n",
    "                if info[0] == 't':\n",
    "                    decode = 'f'\n",
    "                else:\n",
    "                    decode = 't'\n",
    "            l_exp[i:idx+1] = decode\n",
    "            print(l_exp)\n",
    "        return True if l_exp[0] == 't' else False"
   ]
  },
  {
   "cell_type": "code",
   "execution_count": 130,
   "metadata": {},
   "outputs": [],
   "source": [
    "class Solution:\n",
    "    def parseBoolExpr(self, expression: str) -> bool:\n",
    "        # 首先找出各个 symbol = {'&', '|', '!'} 所在的下标位置\n",
    "        symbol = {'&', '|', '!'}\n",
    "        s_idx = []\n",
    "        for idx, v in enumerate(expression):\n",
    "            if v in symbol:\n",
    "                s_idx.append(idx)\n",
    "        \n",
    "        l_exp = []\n",
    "        for v in expression:\n",
    "            if v == 't':\n",
    "                l_exp.append(True)\n",
    "            elif v == 'f':\n",
    "                l_exp.append(False)\n",
    "            else:\n",
    "                l_exp.append(v)\n",
    "        \n",
    "        for i in s_idx[::-1]:\n",
    "            v = expression[i]\n",
    "            info = []\n",
    "            idx = i\n",
    "            while l_exp[idx] != ')':\n",
    "                c = l_exp[idx] \n",
    "                if c != '(' and c != ',' and c != '(' and c not in symbol:\n",
    "                    info.append(bool(c))\n",
    "                idx += 1\n",
    "            if v == '&':\n",
    "                decode = all(info)\n",
    "            elif v == '|':\n",
    "                decode = any(info)\n",
    "            elif v == '!':\n",
    "                decode = not info[0]\n",
    "            l_exp[i:idx+1] =  'N'\n",
    "            l_exp[i] = decode\n",
    "        return bool(l_exp[0])"
   ]
  },
  {
   "cell_type": "code",
   "execution_count": null,
   "metadata": {},
   "outputs": [],
   "source": []
  },
  {
   "cell_type": "code",
   "execution_count": 144,
   "metadata": {},
   "outputs": [],
   "source": [
    "class Solution:\n",
    "    def parseBoolExpr(self, expression: str) -> bool:\n",
    "        # 首先找出各个 symbol = {'&', '|', '!'} 所在的下标位置\n",
    "        symbol = {'&', '|', '!'}\n",
    "        s_idx = []\n",
    "        for idx, v in enumerate(expression):\n",
    "            if v in symbol:\n",
    "                s_idx.append(idx)\n",
    "        \n",
    "        l_exp = list(expression)\n",
    "        for i in s_idx[::-1]:\n",
    "            v = expression[i]\n",
    "            info = []\n",
    "            idx = i\n",
    "            while l_exp[idx] != ')':\n",
    "                c = l_exp[idx] \n",
    "                if c == 't' or c == True:\n",
    "                    info.append(True)\n",
    "                elif c == 'f' or c == False:\n",
    "                    info.append(False)\n",
    "                idx += 1\n",
    "            if v == '&':\n",
    "                decode = all(info)\n",
    "            elif v == '|':\n",
    "                decode = any(info)\n",
    "            elif v == '!':\n",
    "                decode = not info[0]\n",
    "            \n",
    "            l_exp[i:idx+1] =  'N'\n",
    "            l_exp[i] = decode\n",
    "        return bool(l_exp[0])"
   ]
  },
  {
   "cell_type": "code",
   "execution_count": 145,
   "metadata": {},
   "outputs": [
    {
     "name": "stdout",
     "output_type": "stream",
     "text": [
      "& [True, True] True ['|', '(', 'f', ',', True, ')']\n",
      "| [False, True] True [True]\n"
     ]
    },
    {
     "data": {
      "text/plain": [
       "True"
      ]
     },
     "execution_count": 145,
     "metadata": {},
     "output_type": "execute_result"
    }
   ],
   "source": [
    "solution = Solution()\n",
    "solution.parseBoolExpr(expression = \"|(f,&(t,t))\")"
   ]
  },
  {
   "cell_type": "code",
   "execution_count": 146,
   "metadata": {},
   "outputs": [],
   "source": [
    "class Solution:\n",
    "    def parseBoolExpr(self, expression: str) -> bool:\n",
    "        func = {'&' : all, '|' : any, '!' : lambda x : not x[0]}\n",
    "        stack = []\n",
    "        for c in expression:\n",
    "            if c in func:\n",
    "                stack.append(func[c])\n",
    "            elif c == '(':\n",
    "                stack.append('(')\n",
    "            elif c == 'f':\n",
    "                stack.append(False)\n",
    "            elif c == 't':\n",
    "                stack.append(True)\n",
    "                \n",
    "            elif c == ')':\n",
    "                ss = []\n",
    "                while stack[-1] != '(':\n",
    "                    ss.append(stack.pop())\n",
    "                stack.pop()\n",
    "                stack.append(stack.pop()(ss))\n",
    "            print(stack)\n",
    "        return stack.pop()"
   ]
  },
  {
   "cell_type": "code",
   "execution_count": 147,
   "metadata": {},
   "outputs": [
    {
     "name": "stdout",
     "output_type": "stream",
     "text": [
      "[<built-in function any>]\n",
      "[<built-in function any>, '(']\n",
      "[<built-in function any>, '(', False]\n",
      "[<built-in function any>, '(', False]\n",
      "[<built-in function any>, '(', False, <built-in function all>]\n",
      "[<built-in function any>, '(', False, <built-in function all>, '(']\n",
      "[<built-in function any>, '(', False, <built-in function all>, '(', True]\n",
      "[<built-in function any>, '(', False, <built-in function all>, '(', True]\n",
      "[<built-in function any>, '(', False, <built-in function all>, '(', True, True]\n",
      "[<built-in function any>, '(', False, True]\n",
      "[True]\n"
     ]
    },
    {
     "data": {
      "text/plain": [
       "True"
      ]
     },
     "execution_count": 147,
     "metadata": {},
     "output_type": "execute_result"
    }
   ],
   "source": [
    "solution = Solution()\n",
    "solution.parseBoolExpr(expression = \"|(f,&(t,t))\")"
   ]
  },
  {
   "cell_type": "code",
   "execution_count": null,
   "metadata": {},
   "outputs": [],
   "source": []
  },
  {
   "cell_type": "code",
   "execution_count": null,
   "metadata": {},
   "outputs": [],
   "source": []
  },
  {
   "cell_type": "code",
   "execution_count": 108,
   "metadata": {},
   "outputs": [
    {
     "data": {
      "text/plain": [
       "True"
      ]
     },
     "execution_count": 108,
     "metadata": {},
     "output_type": "execute_result"
    }
   ],
   "source": [
    "all(['True', 'False'])"
   ]
  },
  {
   "cell_type": "code",
   "execution_count": 99,
   "metadata": {},
   "outputs": [
    {
     "data": {
      "text/plain": [
       "False"
      ]
     },
     "execution_count": 99,
     "metadata": {},
     "output_type": "execute_result"
    }
   ],
   "source": [
    "not [False]"
   ]
  },
  {
   "cell_type": "code",
   "execution_count": 106,
   "metadata": {},
   "outputs": [],
   "source": [
    "a = [1,2,3,4]\n",
    "a[1:3] = '2'"
   ]
  },
  {
   "cell_type": "code",
   "execution_count": 107,
   "metadata": {},
   "outputs": [
    {
     "data": {
      "text/plain": [
       "[1, '2', 4]"
      ]
     },
     "execution_count": 107,
     "metadata": {},
     "output_type": "execute_result"
    }
   ],
   "source": [
    "a"
   ]
  },
  {
   "cell_type": "code",
   "execution_count": 109,
   "metadata": {},
   "outputs": [],
   "source": [
    "a = 'True'"
   ]
  },
  {
   "cell_type": "code",
   "execution_count": 110,
   "metadata": {},
   "outputs": [
    {
     "data": {
      "text/plain": [
       "True"
      ]
     },
     "execution_count": 110,
     "metadata": {},
     "output_type": "execute_result"
    }
   ],
   "source": [
    "bool(a)"
   ]
  },
  {
   "cell_type": "code",
   "execution_count": 119,
   "metadata": {},
   "outputs": [
    {
     "ename": "TypeError",
     "evalue": "'str' object does not support item assignment",
     "output_type": "error",
     "traceback": [
      "\u001b[1;31m---------------------------------------------------------------------------\u001b[0m",
      "\u001b[1;31mTypeError\u001b[0m                                 Traceback (most recent call last)",
      "\u001b[1;32m<ipython-input-119-a156c746fb05>\u001b[0m in \u001b[0;36m<module>\u001b[1;34m\u001b[0m\n\u001b[0;32m      1\u001b[0m \u001b[0ma\u001b[0m \u001b[1;33m=\u001b[0m \u001b[1;34m'222'\u001b[0m\u001b[1;33m\u001b[0m\u001b[0m\n\u001b[1;32m----> 2\u001b[1;33m \u001b[0ma\u001b[0m\u001b[1;33m[\u001b[0m\u001b[1;36m1\u001b[0m\u001b[1;33m:\u001b[0m\u001b[1;36m2\u001b[0m\u001b[1;33m]\u001b[0m \u001b[1;33m=\u001b[0m \u001b[1;34m'v'\u001b[0m\u001b[1;33m\u001b[0m\u001b[0m\n\u001b[0m",
      "\u001b[1;31mTypeError\u001b[0m: 'str' object does not support item assignment"
     ]
    }
   ],
   "source": [
    "a = '222'\n",
    "a[1:2] = 'v'"
   ]
  },
  {
   "cell_type": "code",
   "execution_count": null,
   "metadata": {},
   "outputs": [],
   "source": []
  }
 ],
 "metadata": {
  "kernelspec": {
   "display_name": "Python 3",
   "language": "python",
   "name": "python3"
  },
  "language_info": {
   "codemirror_mode": {
    "name": "ipython",
    "version": 3
   },
   "file_extension": ".py",
   "mimetype": "text/x-python",
   "name": "python",
   "nbconvert_exporter": "python",
   "pygments_lexer": "ipython3",
   "version": "3.6.2"
  }
 },
 "nbformat": 4,
 "nbformat_minor": 4
}
