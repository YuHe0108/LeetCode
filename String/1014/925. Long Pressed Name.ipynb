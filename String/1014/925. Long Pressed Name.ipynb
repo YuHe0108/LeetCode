{
 "cells": [
  {
   "cell_type": "raw",
   "metadata": {},
   "source": [
    "说明：\n",
    "    您的朋友正在键盘上输入他的名字。有时，在键入字符c时，按键可能会被长按，并且该字符将被键入1次或多次。\n",
    "    您检查键盘的键入的字符。\n",
    "    如果可能是您的朋友名字，并且长按了某些字符（可能没有字符），则返回True\n",
    "    \n",
    "Example 1:\n",
    "    Input: name = \"alex\", typed = \"aaleex\"\n",
    "    Output: true\n",
    "    Explanation: 'a' and 'e' in 'alex' were long pressed.\n",
    "\n",
    "Example 2:\n",
    "    Input: name = \"saeed\", typed = \"ssaaedd\"\n",
    "    Output: false\n",
    "    Explanation: 'e' must have been pressed twice, but it wasn't in the typed output.\n",
    "\n",
    "Example 3:\n",
    "    Input: name = \"leelee\", typed = \"lleeelee\"\n",
    "    Output: true\n",
    "\n",
    "Example 4:\n",
    "    Input: name = \"laiden\", typed = \"laiden\"\n",
    "    Output: true\n",
    "    Explanation: It's not necessary to long press any character.\n",
    " \n",
    "Constraints:\n",
    "    1、1 <= name.length <= 1000\n",
    "    2、1 <= typed.length <= 1000\n",
    "    3、The characters of name and typed are lowercase letters.    "
   ]
  },
  {
   "cell_type": "code",
   "execution_count": 11,
   "metadata": {},
   "outputs": [],
   "source": [
    "class Solution:\n",
    "    def isLongPressedName(self, name: str, typed: str) -> bool:\n",
    "        if name == typed:\n",
    "            return True\n",
    "        for c in name:\n",
    "            try:\n",
    "                index = typed.index(c)\n",
    "                typed = typed[index+1:]\n",
    "            except:\n",
    "                return False\n",
    "        return True"
   ]
  },
  {
   "cell_type": "code",
   "execution_count": 12,
   "metadata": {},
   "outputs": [
    {
     "data": {
      "text/plain": [
       "True"
      ]
     },
     "execution_count": 12,
     "metadata": {},
     "output_type": "execute_result"
    }
   ],
   "source": [
    "solution = Solution()\n",
    "solution.isLongPressedName(name = \"leelee\", typed = \"lleeelee\")"
   ]
  },
  {
   "cell_type": "code",
   "execution_count": null,
   "metadata": {},
   "outputs": [],
   "source": []
  }
 ],
 "metadata": {
  "kernelspec": {
   "display_name": "Python 3",
   "language": "python",
   "name": "python3"
  },
  "language_info": {
   "codemirror_mode": {
    "name": "ipython",
    "version": 3
   },
   "file_extension": ".py",
   "mimetype": "text/x-python",
   "name": "python",
   "nbconvert_exporter": "python",
   "pygments_lexer": "ipython3",
   "version": "3.6.2"
  }
 },
 "nbformat": 4,
 "nbformat_minor": 4
}
