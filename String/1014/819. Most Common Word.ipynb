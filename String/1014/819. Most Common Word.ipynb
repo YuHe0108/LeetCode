{
 "cells": [
  {
   "cell_type": "raw",
   "metadata": {},
   "source": [
    "说明：\n",
    "    给定一个段落 (paragraph) 和一个禁用单词列表 (banned)。\n",
    "    返回出现次数最多，同时不在禁用列表中的单词。\n",
    "    题目保证至少有一个词不在禁用列表中，而且答案唯一。\n",
    "    禁用列表中的单词用小写字母表示，不含标点符号。\n",
    "    段落中的单词不区分大小写。\n",
    "    答案都是小写字母。\n",
    "\n",
    "Example:\n",
    "    Input: \n",
    "    paragraph = \"Bob hit a ball, the hit BALL flew far after it was hit.\"\n",
    "    banned = [\"hit\"]\n",
    "    Output: \"ball\"\n",
    "    Explanation: \n",
    "        \"hit\" occurs 3 times, but it is a banned word.\n",
    "        \"ball\" occurs twice (and no other word does), so it is the most frequent non-banned word in the paragraph. \n",
    "        Note that words in the paragraph are not case sensitive,\n",
    "        that punctuation is ignored (even if adjacent to words, such as \"ball,\"), \n",
    "        and that \"hit\" isn't the answer even though it occurs more because it is banned.\n",
    "\n",
    "提示：\n",
    "    1、1 <= 段落长度 <= 1000\n",
    "    2、0 <= 禁用单词个数 <= 100\n",
    "    3、1 <= 禁用单词长度 <= 10\n",
    "    4、答案是唯一的, 且都是小写字母 (即使在 paragraph 里是大写的，即使是一些特定的名词，答案都是小写的。)\n",
    "    5、paragraph 只包含字母、空格和下列标点符号!?',;.\n",
    "    6、不存在没有连字符或者带有连字符的单词。\n",
    "    7、单词里只包含字母，不会出现省略号或者其他标点符号。"
   ]
  },
  {
   "cell_type": "code",
   "execution_count": 30,
   "metadata": {},
   "outputs": [],
   "source": [
    "from collections import Counter\n",
    "\n",
    "class Solution:\n",
    "    def mostCommonWord(self, paragraph: str, banned) -> str:\n",
    "        banned = set(banned)\n",
    "        words = []\n",
    "        idx = 0\n",
    "        while idx < len(paragraph):\n",
    "            res = ''\n",
    "            while idx < len(paragraph) and paragraph[idx].isalpha():\n",
    "                val = paragraph[idx].lower()\n",
    "                res += val\n",
    "                idx += 1\n",
    "            if res and res not in banned: \n",
    "                words.append(res)\n",
    "            idx += 1\n",
    "        w_freq = {}\n",
    "        for w in words:\n",
    "            if w not in w_freq:\n",
    "                w_freq[w] = 1\n",
    "            else:\n",
    "                w_freq[w] += 1\n",
    "        \n",
    "        w_freq = sorted(w_freq.items(), key = lambda x: x[1])\n",
    "        return w_freq[-1][0]"
   ]
  },
  {
   "cell_type": "code",
   "execution_count": 31,
   "metadata": {},
   "outputs": [
    {
     "data": {
      "text/plain": [
       "'bob'"
      ]
     },
     "execution_count": 31,
     "metadata": {},
     "output_type": "execute_result"
    }
   ],
   "source": [
    "solution = Solution()\n",
    "solution.mostCommonWord(\"Bob\", [])"
   ]
  },
  {
   "cell_type": "code",
   "execution_count": null,
   "metadata": {},
   "outputs": [],
   "source": []
  }
 ],
 "metadata": {
  "kernelspec": {
   "display_name": "Python 3",
   "language": "python",
   "name": "python3"
  },
  "language_info": {
   "codemirror_mode": {
    "name": "ipython",
    "version": 3
   },
   "file_extension": ".py",
   "mimetype": "text/x-python",
   "name": "python",
   "nbconvert_exporter": "python",
   "pygments_lexer": "ipython3",
   "version": "3.6.2"
  }
 },
 "nbformat": 4,
 "nbformat_minor": 4
}
