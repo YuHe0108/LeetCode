{
 "cells": [
  {
   "cell_type": "raw",
   "metadata": {},
   "source": [
    "说明：\n",
    "    给定字符串S，返回“反转”字符串，其中所有不是字母的字符都位于同一位置，并且所有字母都反转其位置。\n",
    "\n",
    "Example 1:\n",
    "    Input: \"ab-cd\"\n",
    "    Output: \"dc-ba\"\n",
    "\n",
    "Example 2:\n",
    "    Input: \"a-bC-dEf-ghIj\"\n",
    "    Output: \"j-Ih-gfE-dCba\"\n",
    "\n",
    "Example 3:\n",
    "    Input: \"Test1ng-Leet=code-Q!\"\n",
    "    Output: \"Qedo1ct-eeLg=ntse-T!\"\n",
    " \n",
    "Note:\n",
    "    1、S.length <= 100\n",
    "    2、33 <= S[i].ASCIIcode <= 122 \n",
    "    3、S doesn't contain \\ or \""
   ]
  },
  {
   "cell_type": "code",
   "execution_count": 33,
   "metadata": {},
   "outputs": [],
   "source": [
    "class Solution:\n",
    "    def reverseOnlyLetters(self, S: str) -> str:\n",
    "        if not S: return \"\"\n",
    "        letter = []\n",
    "        for a in S:\n",
    "            if a.isalpha():\n",
    "                letter.append(a)\n",
    "        idx = 0\n",
    "        s_list = list(S)\n",
    "        while idx < len(S):\n",
    "            if s_list[idx].isalpha():\n",
    "                s_list[idx] = letter.pop()\n",
    "            idx += 1\n",
    "        return ''.join(s_list)                "
   ]
  },
  {
   "cell_type": "code",
   "execution_count": 35,
   "metadata": {},
   "outputs": [
    {
     "data": {
      "text/plain": [
       "'Qedo1ct-eeLg=ntse-T!'"
      ]
     },
     "execution_count": 35,
     "metadata": {},
     "output_type": "execute_result"
    }
   ],
   "source": [
    "solution = Solution()\n",
    "solution.reverseOnlyLetters(\"Test1ng-Leet=code-Q!\")"
   ]
  },
  {
   "cell_type": "code",
   "execution_count": 3,
   "metadata": {},
   "outputs": [
    {
     "name": "stdout",
     "output_type": "stream",
     "text": [
      "65 122\n"
     ]
    }
   ],
   "source": [
    "print(ord('A'), ord('z'))"
   ]
  },
  {
   "cell_type": "code",
   "execution_count": null,
   "metadata": {},
   "outputs": [],
   "source": []
  }
 ],
 "metadata": {
  "kernelspec": {
   "display_name": "Python 3",
   "language": "python",
   "name": "python3"
  },
  "language_info": {
   "codemirror_mode": {
    "name": "ipython",
    "version": 3
   },
   "file_extension": ".py",
   "mimetype": "text/x-python",
   "name": "python",
   "nbconvert_exporter": "python",
   "pygments_lexer": "ipython3",
   "version": "3.6.2"
  }
 },
 "nbformat": 4,
 "nbformat_minor": 4
}
