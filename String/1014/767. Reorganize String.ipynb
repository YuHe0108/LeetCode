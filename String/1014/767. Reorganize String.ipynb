{
 "cells": [
  {
   "cell_type": "raw",
   "metadata": {},
   "source": [
    "说明：\n",
    "    给定一个字符串S，检查是否能重新排布其中的字母，使得两相邻的字符不同。\n",
    "    若可行，输出任意可行的结果。若不可行，返回空字符串。\n",
    "\n",
    "Example 1:\n",
    "    Input: S = \"aab\"\n",
    "    Output: \"aba\"\n",
    "\n",
    "Example 2:\n",
    "    Input: S = \"aaab\"\n",
    "    Output: \"\"\n",
    "\n",
    "Note:\n",
    "    1、S will consist of lowercase letters and have length in range [1, 500]."
   ]
  },
  {
   "cell_type": "code",
   "execution_count": 37,
   "metadata": {},
   "outputs": [],
   "source": [
    "from collections import Counter\n",
    "\n",
    "class Solution:\n",
    "    def reorganizeString(self, S: str) -> str:\n",
    "        if len(S) == 1: return S\n",
    "        s_count = Counter(S)\n",
    "        s_count = sorted(s_count.items(), key=lambda x: x[1])\n",
    "        print(s_count)\n",
    "        return\n",
    "        res = []\n",
    "        while s_count:\n",
    "            idx = len(s_count) - 1\n",
    "            while res and idx > 0 and s_count[idx][0] != res[-1]:\n",
    "                idx -= 1\n",
    "            key, val = s_count[idx]\n",
    "            if idx == 0 and s_count[idx][0] == res[-1]:\n",
    "                break\n",
    "            res.append(key)\n",
    "            if val == 0:\n",
    "                s_count.pop(idx)\n",
    "            s_count = sorted(s_count, key=lambda x: x[1])\n",
    "            print(res)\n",
    "        print(res)"
   ]
  },
  {
   "cell_type": "code",
   "execution_count": 117,
   "metadata": {},
   "outputs": [],
   "source": [
    "import heapq\n",
    "from collections import Counter\n",
    "\n",
    "class Solution:\n",
    "    def reorganizeString(self, S: str) -> str:\n",
    "        if len(S) == 1: return S\n",
    "        N = len(S)\n",
    "        s_count = Counter(S)\n",
    "        pq = [(-count, char) for char, count in s_count.items()]\n",
    "        heapq.heapify(pq)\n",
    "        data = heapq.nlargest(1, pq, key = lambda  item)\n",
    "        max_occur = -1 * pq[0][0] # 出现最多的元素的数量\n",
    "        if max_occur > (N + 1) // 2:\n",
    "            return \"\"\n",
    "        \n",
    "        string = [''] * N\n",
    "        i = 0\n",
    "        while pq:\n",
    "            count, char = heapq.heappop(pq)\n",
    "            count *= -1\n",
    "            for j in range(count):\n",
    "                string[i] = char\n",
    "                i += 2\n",
    "                if i >= N:\n",
    "                    i = 1\n",
    "        return ''.join(string)"
   ]
  },
  {
   "cell_type": "code",
   "execution_count": 118,
   "metadata": {},
   "outputs": [
    {
     "name": "stdout",
     "output_type": "stream",
     "text": [
      "Counter({'e': 9, 'a': 5, 'd': 4, 'c': 3, 'b': 1})\n",
      "[(-9, 'e'), (-5, 'a'), (-1, 'b'), (-3, 'c'), (-4, 'd')]\n"
     ]
    },
    {
     "data": {
      "text/plain": [
       "'eaeaeaededededececacab'"
      ]
     },
     "execution_count": 118,
     "metadata": {},
     "output_type": "execute_result"
    }
   ],
   "source": [
    "solution = Solution()\n",
    "solution.reorganizeString('eeeeeeeeeaaaaabcccdddd')"
   ]
  },
  {
   "cell_type": "code",
   "execution_count": 43,
   "metadata": {},
   "outputs": [],
   "source": [
    "import heapq\n",
    "a = [('b', 1), ('a', 2)]\n",
    "heapq.heapify(a) "
   ]
  },
  {
   "cell_type": "code",
   "execution_count": 48,
   "metadata": {},
   "outputs": [
    {
     "name": "stdout",
     "output_type": "stream",
     "text": [
      "[('a', 2)]\n",
      "[('a', 2), ('b', 1)]\n"
     ]
    }
   ],
   "source": [
    "data = heapq.nlargest(1, a, key=lambda item: item[1])\n",
    "print(data)\n",
    "print(a)"
   ]
  },
  {
   "cell_type": "code",
   "execution_count": null,
   "metadata": {},
   "outputs": [],
   "source": []
  }
 ],
 "metadata": {
  "kernelspec": {
   "display_name": "Python 3",
   "language": "python",
   "name": "python3"
  },
  "language_info": {
   "codemirror_mode": {
    "name": "ipython",
    "version": 3
   },
   "file_extension": ".py",
   "mimetype": "text/x-python",
   "name": "python",
   "nbconvert_exporter": "python",
   "pygments_lexer": "ipython3",
   "version": "3.6.2"
  }
 },
 "nbformat": 4,
 "nbformat_minor": 4
}
