{
 "cells": [
  {
   "cell_type": "raw",
   "metadata": {},
   "source": [
    "说明：\n",
    "    如果我们可以在pattern词中插入小写字母，使其等于query，则查询词会匹配给定的模式。 \n",
    "    （我们可以在每个位置插入每个字符，并且可以插入0个字符。）\n",
    "    给定一个查询列表和一个模式，返回布尔值的答案列表，\n",
    "    Given a list of queries, and a pattern, return an answer list of booleans, where answer[i] is true if and only if queries[i] matches the pattern.\n",
    "\n",
    "Example 1:\n",
    "    Input: queries = [\"FooBar\",\"FooBarTest\",\"FootBall\",\"FrameBuffer\",\"ForceFeedBack\"], pattern = \"FB\"\n",
    "    Output: [true,false,true,true,false]\n",
    "    Explanation: \n",
    "        \"FooBar\" can be generated like this \"F\" + \"oo\" + \"B\" + \"ar\".\n",
    "        \"FootBall\" can be generated like this \"F\" + \"oot\" + \"B\" + \"all\".\n",
    "        \"FrameBuffer\" can be generated like this \"F\" + \"rame\" + \"B\" + \"uffer\".\n",
    "\n",
    "Example 2:\n",
    "    Input: queries = [\"FooBar\",\"FooBarTest\",\"FootBall\",\"FrameBuffer\",\"ForceFeedBack\"], pattern = \"FoBa\"\n",
    "    Output: [true,false,true,false,false]\n",
    "    Explanation: \n",
    "        \"FooBar\" can be generated like this \"Fo\" + \"o\" + \"Ba\" + \"r\".\n",
    "        \"FootBall\" can be generated like this \"Fo\" + \"ot\" + \"Ba\" + \"ll\".\n",
    "\n",
    "Example 3:\n",
    "    Input: queries = [\"FooBar\",\"FooBarTest\",\"FootBall\",\"FrameBuffer\",\"ForceFeedBack\"], pattern = \"FoBaT\"\n",
    "    Output: [false,true,false,false,false]\n",
    "    Explanation: \n",
    "        \"FooBarTest\" can be generated like this \"Fo\" + \"o\" + \"Ba\" + \"r\" + \"T\" + \"est\".\n",
    "\n",
    "Note:\n",
    "    1、1 <= queries.length <= 100\n",
    "    2、1 <= queries[i].length <= 100\n",
    "    3、1 <= pattern.length <= 100\n",
    "    4、All strings consists only of lower and upper case English letters."
   ]
  },
  {
   "cell_type": "code",
   "execution_count": 108,
   "metadata": {},
   "outputs": [],
   "source": [
    "from collections import Counter\n",
    "\n",
    "class Solution:\n",
    "    def camelMatch(self, queries, pattern: str):\n",
    "        res = []\n",
    "        for q in queries:\n",
    "            if len(q) < len(pattern):\n",
    "                res.append(False)\n",
    "            else:\n",
    "                if self.helper(q, pattern):\n",
    "                    res.append(True)\n",
    "                else:\n",
    "                    res.append(False)\n",
    "        return res\n",
    "    \n",
    "    def helper(self, q, p):\n",
    "        q_cap_str = []\n",
    "        for i, a in enumerate(p):\n",
    "            if 65 <= ord(a) <= 90:\n",
    "                q_cat_str\n",
    "        \n",
    "        p_freq = Counter(p)\n",
    "        q_freq = Counter(q)\n",
    "        for key, val in p_freq.items():\n",
    "            if key not in q_freq or q_freq[key] - val < 0:\n",
    "                return False\n",
    "            else:\n",
    "                q_freq[key] -= val\n",
    "                \n",
    "            if q_freq[key] == 0:\n",
    "                q_freq.pop(key)\n",
    "                \n",
    "        for key in q_freq.keys():\n",
    "            if 65 <= ord(key) <= 90:\n",
    "                return False\n",
    "        return True"
   ]
  },
  {
   "cell_type": "code",
   "execution_count": 218,
   "metadata": {},
   "outputs": [],
   "source": [
    "from collections import Counter\n",
    "\n",
    "class Solution:\n",
    "    def camelMatch(self, queries, pattern: str):\n",
    "        p_dict = self.get_cap_str(pattern)\n",
    "        res = []\n",
    "        for q in queries:\n",
    "            if len(q) < len(pattern):\n",
    "                res.append(False)\n",
    "            else:\n",
    "                q_dict = self.get_cap_str(q)\n",
    "                if self.helper(q_dict, p_dict):\n",
    "                    res.append(True)\n",
    "                else:\n",
    "                    res.append(False)\n",
    "        return res\n",
    "    \n",
    "    def get_cap_str(self, sub_str):\n",
    "        cap_idx = []\n",
    "        for i, a in enumerate(sub_str):\n",
    "            if 65 <= ord(a) <= 90:\n",
    "                cap_idx.append(i)\n",
    "        cap_dict = {}\n",
    "        for i in range(len(cap_idx)):\n",
    "            for j in range(i + 1, len(cap_idx)):\n",
    "                val = (sub_str[cap_idx[i]], sub_str[cap_idx[j]], i)\n",
    "                cap_dict[val] = sub_str[cap_idx[i]+1: cap_idx[j]]\n",
    "        return cap_dict\n",
    "    \n",
    "    def helper(self, q_dict, p_dict):\n",
    "        if q_dict.keys() != p_dict.keys():\n",
    "            return False\n",
    "        for key in q_dict.keys():\n",
    "            q_val = q_dict[key]\n",
    "            p_val = p_dict[key]\n",
    "            p_val_set = set(p_val)           \n",
    "            for k in p_val_set:\n",
    "                if q_val.count(k) < p_val.count(k):\n",
    "                    return False\n",
    "        return True"
   ]
  },
  {
   "cell_type": "code",
   "execution_count": 221,
   "metadata": {},
   "outputs": [],
   "source": [
    "class Solution:\n",
    "    def camelMatch(self, queries, pattern: str):\n",
    "        def u(s):\n",
    "            return [c for c in s if c.isupper()]\n",
    "\n",
    "        def issup(s, t):\n",
    "            it = iter(t)\n",
    "            return all(c in it for c in s)\n",
    "        return [u(pattern) == u(q) and issup(pattern, q) for q in queries]"
   ]
  },
  {
   "cell_type": "code",
   "execution_count": 222,
   "metadata": {},
   "outputs": [
    {
     "data": {
      "text/plain": [
       "[False, True, False, False, False]"
      ]
     },
     "execution_count": 222,
     "metadata": {},
     "output_type": "execute_result"
    }
   ],
   "source": [
    "solution = Solution()\n",
    "solution.camelMatch([\"FooBar\",\"FooBarTest\",\"FootBall\",\"FrameBuffer\",\"ForceFeedBack\"], \"FoBaT\")"
   ]
  },
  {
   "cell_type": "code",
   "execution_count": 112,
   "metadata": {},
   "outputs": [
    {
     "name": "stdout",
     "output_type": "stream",
     "text": [
      "97\n",
      "122\n",
      "65\n",
      "90\n"
     ]
    }
   ],
   "source": [
    "{('F', 'B', 0): 'oo', ('F', 'T', 0): 'ooBar', ('B', 'T', 1): 'ar'} \n",
    "{('F', 'B', 0): 'o', ('F', 'T', 0): 'oBa', ('B', 'T', 1): 'a'}"
   ]
  },
  {
   "cell_type": "code",
   "execution_count": 46,
   "metadata": {},
   "outputs": [],
   "source": [
    "a = Counter()\n",
    "a."
   ]
  },
  {
   "cell_type": "code",
   "execution_count": null,
   "metadata": {},
   "outputs": [],
   "source": [
    "[\"FooBar\",\"FooBarTest\",\"FootBall\",\"FrameBuffer\",\"ForceFeedBack\"]\n",
    " \"FoBa\"\n",
    "    \n",
    "\"CompetitiveProgramming\"\n",
    "\"CooP\""
   ]
  }
 ],
 "metadata": {
  "kernelspec": {
   "display_name": "Python 3",
   "language": "python",
   "name": "python3"
  },
  "language_info": {
   "codemirror_mode": {
    "name": "ipython",
    "version": 3
   },
   "file_extension": ".py",
   "mimetype": "text/x-python",
   "name": "python",
   "nbconvert_exporter": "python",
   "pygments_lexer": "ipython3",
   "version": "3.6.2"
  }
 },
 "nbformat": 4,
 "nbformat_minor": 4
}
