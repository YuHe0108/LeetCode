{
 "cells": [
  {
   "cell_type": "raw",
   "metadata": {},
   "source": [
    "说明：\n",
    "    给定一个由空格分割单词的句子 S。每个单词只包含大写或小写字母。\n",
    "    我们要将句子转换为 “Goat Latin”（一种类似于 猪拉丁文 - Pig Latin 的虚构语言）。\n",
    "    山羊拉丁文的规则如下：\n",
    "        1、如果单词以元音开头（a, e, i, o, u），在单词后添加\"ma\"，例如，单词\"apple\"变为\"applema\"。\n",
    "        2、如果单词以辅音字母开头（即非元音字母），移除第一个字符并将它放到末尾，之后再添加\"ma\"。\n",
    "           例如，单词\"goat\"变为\"oatgma\"。\n",
    "        3、根据单词在句子中的索引，在单词最后添加与索引相同数量的字母'a'，索引从1开始。\n",
    "           例如，在第一个单词后添加\"a\"，在第二个单词后添加\"aa\"，以此类推。\n",
    "    返回将 S 转换为山羊拉丁文后的句子。\n",
    "\n",
    "Example 1:\n",
    "    Input: \"I speak Goat Latin\"\n",
    "    Output: \"Imaa peaksmaaa oatGmaaaa atinLmaaaaa\"\n",
    "\n",
    "Example 2:\n",
    "    Input: \"The quick brown fox jumped over the lazy dog\"\n",
    "    Output: \"heTmaa uickqmaaa rownbmaaaa oxfmaaaaa umpedjmaaaaaa overmaaaaaaa hetmaaaaaaaa azylmaaaaaaaaa ogdmaaaaaaaaaa\"\n",
    "\n",
    "Notes:\n",
    "    1、S contains only uppercase, lowercase and spaces. Exactly one space between each word.\n",
    "    2、1 <= S.length <= 150."
   ]
  },
  {
   "cell_type": "code",
   "execution_count": 25,
   "metadata": {},
   "outputs": [],
   "source": [
    "class Solution:\n",
    "    def toGoatLatin(self, S: str) -> str:\n",
    "        vowels = {'a', 'e', 'i', 'o', 'u'}\n",
    "        words = S.split(' ')\n",
    "        res = []\n",
    "        for i, word in enumerate(words):\n",
    "            res.append(self.helper(word, vowels, i + 1))\n",
    "        return ' '.join(res)\n",
    "    \n",
    "    def helper(self, word, vowels, times):\n",
    "        res = ''\n",
    "        last_word = ''\n",
    "        for i, a in enumerate(word):\n",
    "            if i == 0 and a.lower() not in vowels:\n",
    "                last_word = a\n",
    "            else:\n",
    "                res += a\n",
    "        if last_word:\n",
    "            res += last_word\n",
    "        return res + 'ma' * 1 + 'a' * times"
   ]
  },
  {
   "cell_type": "code",
   "execution_count": 26,
   "metadata": {},
   "outputs": [
    {
     "data": {
      "text/plain": [
       "'Imaa peaksmaaa oatGmaaaa atinLmaaaaa'"
      ]
     },
     "execution_count": 26,
     "metadata": {},
     "output_type": "execute_result"
    }
   ],
   "source": [
    "solution = Solution()\n",
    "solution.toGoatLatin(\"I speak Goat Latin\")"
   ]
  },
  {
   "cell_type": "code",
   "execution_count": null,
   "metadata": {},
   "outputs": [],
   "source": []
  }
 ],
 "metadata": {
  "kernelspec": {
   "display_name": "Python 3",
   "language": "python",
   "name": "python3"
  },
  "language_info": {
   "codemirror_mode": {
    "name": "ipython",
    "version": 3
   },
   "file_extension": ".py",
   "mimetype": "text/x-python",
   "name": "python",
   "nbconvert_exporter": "python",
   "pygments_lexer": "ipython3",
   "version": "3.6.2"
  }
 },
 "nbformat": 4,
 "nbformat_minor": 4
}
