{
 "cells": [
  {
   "cell_type": "raw",
   "metadata": {},
   "source": [
    "说明：\n",
    "    给定两个由小写字母构成的字符串 A 和 B ，\n",
    "    只要我们可以通过交换 A 中的两个字母得到与 B 相等的结果，就返回 true ；\n",
    "    否则返回 false 。 \n",
    "\n",
    "Example 1:\n",
    "    Input: A = \"ab\", B = \"ba\"\n",
    "    Output: true\n",
    "    Explanation: You can swap A[0] = 'a' and A[1] = 'b' to get \"ba\", which is equal to B.\n",
    "\n",
    "Example 2:\n",
    "    Input: A = \"ab\", B = \"ab\"\n",
    "    Output: false\n",
    "    Explanation: The only letters you can swap are A[0] = 'a' and A[1] = 'b', which results in \"ba\" != B.\n",
    "\n",
    "Example 3:\n",
    "    Input: A = \"aa\", B = \"aa\"\n",
    "    Output: true\n",
    "    Explanation: You can swap A[0] = 'a' and A[1] = 'a' to get \"aa\", which is equal to B.\n",
    "\n",
    "Example 4:\n",
    "    Input: A = \"aaaaaaabc\", B = \"aaaaaaacb\"\n",
    "    Output: true\n",
    "\n",
    "Example 5:\n",
    "    Input: A = \"\", B = \"aa\"\n",
    "    Output: false\n",
    " \n",
    "Constraints:\n",
    "    1、0 <= A.length <= 20000\n",
    "    2、0 <= B.length <= 20000\n",
    "    3、A and B consist of lowercase letters."
   ]
  },
  {
   "cell_type": "code",
   "execution_count": 1,
   "metadata": {},
   "outputs": [],
   "source": [
    "class Solution:\n",
    "    def buddyStrings(self, A: str, B: str) -> bool:\n",
    "        if len(A) != len(B): return False\n",
    "        points = []\n",
    "        seen = set()\n",
    "        ans = False\n",
    "        for i in range(len(A)):\n",
    "            if A[i] != B[i]:\n",
    "                points.append(i)\n",
    "            if A[i] == B[i] and A[i] in seen:\n",
    "                ans = True\n",
    "            if len(points) > 2:\n",
    "                return False\n",
    "            seen.add(A[i])\n",
    "        return (len(points)==0 and ans) or (len(points) == 2 and A[points[0]] == B[points[1]] and B[points[0]] == A[points[1]])"
   ]
  },
  {
   "cell_type": "code",
   "execution_count": 35,
   "metadata": {},
   "outputs": [],
   "source": [
    "from collections import Counter\n",
    "\n",
    "class Solution:\n",
    "    def buddyStrings(self, A: str, B: str) -> bool:\n",
    "        if len(A) != len(B): return False\n",
    "        N = len(A)\n",
    "        if N < 2: return False\n",
    "        if A == B:\n",
    "            a_count = Counter(A)\n",
    "            vals = a_count.values()\n",
    "            for val in vals:\n",
    "                if val > 1:\n",
    "                    return True\n",
    "        diffs = []\n",
    "        for i, a in enumerate(A):\n",
    "            if a != B[i]:\n",
    "                diffs.append(i)\n",
    "        if len(diffs) == 2:\n",
    "            i, j = diffs\n",
    "            return A[i] == B[j] and A[j] == B[i]\n",
    "        return False"
   ]
  },
  {
   "cell_type": "code",
   "execution_count": 36,
   "metadata": {},
   "outputs": [
    {
     "name": "stdout",
     "output_type": "stream",
     "text": [
      "[0, 1]\n"
     ]
    },
    {
     "data": {
      "text/plain": [
       "True"
      ]
     },
     "execution_count": 36,
     "metadata": {},
     "output_type": "execute_result"
    }
   ],
   "source": [
    "solution = Solution()\n",
    "solution.buddyStrings('ab', 'ba')"
   ]
  },
  {
   "cell_type": "code",
   "execution_count": null,
   "metadata": {},
   "outputs": [],
   "source": []
  },
  {
   "cell_type": "code",
   "execution_count": null,
   "metadata": {},
   "outputs": [],
   "source": []
  }
 ],
 "metadata": {
  "kernelspec": {
   "display_name": "Python 3",
   "language": "python",
   "name": "python3"
  },
  "language_info": {
   "codemirror_mode": {
    "name": "ipython",
    "version": 3
   },
   "file_extension": ".py",
   "mimetype": "text/x-python",
   "name": "python",
   "nbconvert_exporter": "python",
   "pygments_lexer": "ipython3",
   "version": "3.6.2"
  }
 },
 "nbformat": 4,
 "nbformat_minor": 4
}
