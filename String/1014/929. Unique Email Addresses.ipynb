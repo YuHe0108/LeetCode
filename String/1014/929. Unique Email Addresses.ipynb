{
 "cells": [
  {
   "cell_type": "raw",
   "metadata": {},
   "source": [
    "说明：\n",
    "    每封电子邮件都包含一个本地名称和一个域名，以@符号分隔。\n",
    "    例如，在alice@leetcode.com中，alice是本地名称，而leetcode.com是域名。\n",
    "    除小写字母外，这些电子邮件还可能包含 \".\" 或 \"+\"。\n",
    "    如果您在电子邮件地址的本地名称部分的某些字符之间添加句点（'.'），则在那里发送的邮件将转发到相同的地址，而本地名称中没有点。\n",
    "    例如，\"alice.z@leetcode.com\" 和“alicez@leetcode.com”转发到相同的电子邮件地址。 （请注意，此规则不适用于域名。）\n",
    "    \n",
    "    如果在本地名称中添加加号（'+'），则第一个加号之后的所有内容都将被忽略。\n",
    "    这样可以过滤某些电子邮件，例如，m.y+name@email.com将转发到my@email.com。 （同样，此规则不适用于域名。）\n",
    "    可以同时使用这两个规则。\n",
    "    给定电子邮件列表，我们向列表中的每个地址发送一封电子邮件。\n",
    "    实际有多少个不同的地址接收邮件？\n",
    "    \n",
    "Example 1:\n",
    "    Input: [\"test.email+alex@leetcode.com\",\"test.e.mail+bob.cathy@leetcode.com\",\"testemail+david@lee.tcode.com\"]\n",
    "    Output: 2\n",
    "    Explanation: \"testemail@leetcode.com\" and \"testemail@lee.tcode.com\" actually receive mails\n",
    "\n",
    "Note:\n",
    "    1、1 <= emails[i].length <= 100\n",
    "    2、1 <= emails.length <= 100\n",
    "    3、Each emails[i] contains exactly one '@' character.\n",
    "    4、All local and domain names are non-empty.\n",
    "    5、Local names do not start with a '+' character."
   ]
  },
  {
   "cell_type": "code",
   "execution_count": 18,
   "metadata": {},
   "outputs": [],
   "source": [
    "class Solution:\n",
    "    def numUniqueEmails(self, emails) -> int:\n",
    "        email_set = set()\n",
    "        for email in emails:\n",
    "            pre, bac = email.split('@')\n",
    "            pre = pre.split('+')[0]\n",
    "            pre = pre.replace('.', \"\")\n",
    "            email_set.add(pre + '@' + bac)\n",
    "            print(pre + bac)\n",
    "        return len(email_set)"
   ]
  },
  {
   "cell_type": "code",
   "execution_count": 19,
   "metadata": {},
   "outputs": [
    {
     "name": "stdout",
     "output_type": "stream",
     "text": [
      "testemailleetcode.com\n",
      "testemailleetcode.com\n"
     ]
    },
    {
     "data": {
      "text/plain": [
       "2"
      ]
     },
     "execution_count": 19,
     "metadata": {},
     "output_type": "execute_result"
    }
   ],
   "source": [
    "solution = Solution()\n",
    "solution.numUniqueEmails([\"test.email+alex@leetcode.com\",\"test.email.leet+alex@code.com\"])"
   ]
  },
  {
   "cell_type": "code",
   "execution_count": null,
   "metadata": {},
   "outputs": [],
   "source": []
  }
 ],
 "metadata": {
  "kernelspec": {
   "display_name": "Python 3",
   "language": "python",
   "name": "python3"
  },
  "language_info": {
   "codemirror_mode": {
    "name": "ipython",
    "version": 3
   },
   "file_extension": ".py",
   "mimetype": "text/x-python",
   "name": "python",
   "nbconvert_exporter": "python",
   "pygments_lexer": "ipython3",
   "version": "3.6.2"
  }
 },
 "nbformat": 4,
 "nbformat_minor": 4
}
