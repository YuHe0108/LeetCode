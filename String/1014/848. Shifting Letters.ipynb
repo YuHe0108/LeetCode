{
 "cells": [
  {
   "cell_type": "raw",
   "metadata": {},
   "source": [
    "说明：\n",
    "    有一个由小写字母组成的字符串 S，和一个整数数组 shifts。\n",
    "    我们将字母表中的下一个字母称为原字母的 移位（由于字母表是环绕的， 'z' 将会变成 'a'）。\n",
    "    例如·，shift('a') = 'b'， shift('t') = 'u',， 以及 shift('z') = 'a'。\n",
    "    对于每个 shifts[i] = x ， 我们会将 S 中的前 i+1 个字母移位 x 次。\n",
    "    返回将所有这些移位都应用到 S 后最终得到的字符串。\n",
    "\n",
    "\n",
    "Example 1:\n",
    "    Input: S = \"abc\", shifts = [3,5,9]\n",
    "    Output: \"rpl\"\n",
    "    Explanation: \n",
    "        We start with \"abc\".\n",
    "        After shifting the first 1 letters of S by 3, we have \"dbc\".\n",
    "        After shifting the first 2 letters of S by 5, we have \"igc\".\n",
    "        After shifting the first 3 letters of S by 9, we have \"rpl\", the answer.\n",
    "\n",
    "Note:\n",
    "    1、1 <= S.length = shifts.length <= 20000\n",
    "    2、0 <= shifts[i] <= 10 ^ 9"
   ]
  },
  {
   "cell_type": "code",
   "execution_count": 32,
   "metadata": {},
   "outputs": [],
   "source": [
    "class Solution:\n",
    "    def shiftingLetters(self, S: str, shifts) -> str:\n",
    "        res = ''\n",
    "        new_shift = [sum(shifts)]\n",
    "        for i in range(1, len(shifts)):\n",
    "            new_shift.append(new_shift[-1] - shifts[i-1])\n",
    "        \n",
    "        res = []\n",
    "        for i, s in enumerate(S):\n",
    "            pre_idx = ord(s) - 97\n",
    "            sh = (new_shift[i] + pre_idx) % 26\n",
    "            res.append(chr(sh + 97))\n",
    "        return ''.join(res)"
   ]
  },
  {
   "cell_type": "code",
   "execution_count": 33,
   "metadata": {},
   "outputs": [
    {
     "data": {
      "text/plain": [
       "'rul'"
      ]
     },
     "execution_count": 33,
     "metadata": {},
     "output_type": "execute_result"
    }
   ],
   "source": [
    "solution = Solution()\n",
    "solution.shiftingLetters(S = \"ruu\", shifts = [26, 9, 17])"
   ]
  },
  {
   "cell_type": "code",
   "execution_count": null,
   "metadata": {},
   "outputs": [],
   "source": []
  }
 ],
 "metadata": {
  "kernelspec": {
   "display_name": "Python 3",
   "language": "python",
   "name": "python3"
  },
  "language_info": {
   "codemirror_mode": {
    "name": "ipython",
    "version": 3
   },
   "file_extension": ".py",
   "mimetype": "text/x-python",
   "name": "python",
   "nbconvert_exporter": "python",
   "pygments_lexer": "ipython3",
   "version": "3.6.2"
  }
 },
 "nbformat": 4,
 "nbformat_minor": 4
}
