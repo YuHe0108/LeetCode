{
 "cells": [
  {
   "cell_type": "raw",
   "metadata": {},
   "source": [
    "说明：\n",
    "    给定平衡括号内的字符串S，请根据以下规则计算字符串的分数：\n",
    "        1、 () has score 1\n",
    "        2、 AB has score A + B, where A and B are balanced parentheses strings.\n",
    "        3、 (A) has score 2 * A, where A is a balanced parentheses string.\n",
    "\n",
    "    Example 1:\n",
    "        Input: \"()\"\n",
    "        Output: 1\n",
    "\n",
    "    Example 2:\n",
    "        Input: \"(())\"\n",
    "        Output: 2\n",
    "\n",
    "    Example 3:\n",
    "        Input: \"()()\"\n",
    "        Output: 2\n",
    "\n",
    "    Example 4:\n",
    "        Input: \"(()(()))\"  --->(1 + 2) * 2\n",
    "        Output: 6\n",
    "\n",
    "    Note:\n",
    "        1、S is a balanced parentheses string, containing only ( and ).\n",
    "        2、2 <= S.length <= 50"
   ]
  },
  {
   "cell_type": "code",
   "execution_count": 141,
   "metadata": {},
   "outputs": [],
   "source": [
    "class Solution:\n",
    "    def scoreOfParentheses(self, S: str) -> int:\n",
    "        stack = []\n",
    "        v_stack = []\n",
    "        count = 0\n",
    "        for i, s in enumerate(S):\n",
    "            if s == '(':\n",
    "                stack.append(i)\n",
    "            else:\n",
    "                past = stack.pop()\n",
    "                if not stack:\n",
    "                    if i - past > 1:\n",
    "                        count += sum(v_stack) * 2\n",
    "                    else:\n",
    "                        v_stack.append(1)\n",
    "                        count += sum(v_stack)\n",
    "                    v_stack.clear()\n",
    "                elif i - past > 1:\n",
    "                    val = sum(v_stack) * 2\n",
    "                    v_stack.clear()\n",
    "                    v_stack.append(val)\n",
    "                else:\n",
    "                    v_stack.append(1)\n",
    "        return count"
   ]
  },
  {
   "cell_type": "code",
   "execution_count": 151,
   "metadata": {},
   "outputs": [],
   "source": [
    "class Solution:\n",
    "    def scoreOfParentheses(self, S: str) -> int:\n",
    "        count, flag, stack = 0, 0, []\n",
    "        for i in range(len(S)):\n",
    "            if S[i] == '(':\n",
    "                flag = 1\n",
    "                stack.append('(')\n",
    "            else:\n",
    "                if flag == 1:\n",
    "                    count += 2 ** (len(stack) - 1)\n",
    "                    flag = 0\n",
    "                stack.pop()\n",
    "        return count"
   ]
  },
  {
   "cell_type": "code",
   "execution_count": 168,
   "metadata": {},
   "outputs": [],
   "source": [
    "class Solution:\n",
    "    def scoreOfParentheses(self, S: str) -> int:\n",
    "        stack, count = [], 0\n",
    "        for s in S:\n",
    "            if s == '(':\n",
    "                stack.append(s)\n",
    "            else:\n",
    "                score = 0\n",
    "                while stack[-1] != '(':\n",
    "                    score += stack.pop()\n",
    "                stack.pop()\n",
    "                if score == 0:\n",
    "                    stack.append(1)\n",
    "                else:\n",
    "                    stack.append(score * 2)\n",
    "        return sum(stack)"
   ]
  },
  {
   "cell_type": "code",
   "execution_count": 169,
   "metadata": {},
   "outputs": [
    {
     "name": "stdout",
     "output_type": "stream",
     "text": [
      "['(']\n",
      "['(', '(']\n",
      "['(', 1]\n",
      "['(', 1, '(']\n",
      "['(', 1, '(', '(']\n",
      "['(', 1, '(', 1]\n",
      "['(', 1, 2]\n",
      "[6]\n"
     ]
    },
    {
     "data": {
      "text/plain": [
       "6"
      ]
     },
     "execution_count": 169,
     "metadata": {},
     "output_type": "execute_result"
    }
   ],
   "source": [
    "solution = Solution()\n",
    "solution.scoreOfParentheses(\"(()(()))\")"
   ]
  },
  {
   "cell_type": "code",
   "execution_count": null,
   "metadata": {},
   "outputs": [],
   "source": [
    "\"(4)\"\n",
    "1 +　1"
   ]
  }
 ],
 "metadata": {
  "kernelspec": {
   "display_name": "Python 3",
   "language": "python",
   "name": "python3"
  },
  "language_info": {
   "codemirror_mode": {
    "name": "ipython",
    "version": 3
   },
   "file_extension": ".py",
   "mimetype": "text/x-python",
   "name": "python",
   "nbconvert_exporter": "python",
   "pygments_lexer": "ipython3",
   "version": "3.6.2"
  }
 },
 "nbformat": 4,
 "nbformat_minor": 4
}
