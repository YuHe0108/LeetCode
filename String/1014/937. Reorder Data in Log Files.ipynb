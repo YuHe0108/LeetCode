{
 "cells": [
  {
   "cell_type": "raw",
   "metadata": {},
   "source": [
    "说明：\n",
    "    你有一个日志数组 logs。每条日志都是以空格分隔的字串。\n",
    "    对于每条日志，其第一个字为字母与数字混合的 标识符 ，除标识符之外的所有字为这一条日志的 内容 。\n",
    "        1、除标识符之外，所有字均由小写字母组成的，称为 字母日志\n",
    "        2、除标识符之外，所有字均由数字组成的，称为 数字日志\n",
    "    题目所用数据保证每个日志在其标识符后面至少有一个字。\n",
    "\n",
    "    请按下述规则将日志重新排序：\n",
    "        1、所有 字母日志 都排在 数字日志 之前。\n",
    "        2、字母日志 在内容不同时，忽略标识符后，按内容字母顺序排序；在内容相同时，按标识符排序；\n",
    "        3、数字日志 应该按原来的顺序排列。\n",
    "    返回日志的最终顺序。\n",
    "\n",
    "例1：\n",
    "    Input: logs = [\"dig1 8 1 5 1\", \n",
    "                   \"let1 art can\",\n",
    "                   \"dig2 3 6\",\n",
    "                   \"let2 own kit dig\",\n",
    "                   \"let3 art zero\"]\n",
    "    Output: [\"let1 art can\",\"let3 art zero\",\"let2 own kit dig\",\"dig1 8 1 5 1\",\"dig2 3 6\"]\n",
    "\n",
    "提示：\n",
    "    1、0 <= logs.length <= 100\n",
    "    2、3 <= logs[i].length <= 100\n",
    "    3、logs[i] 保证有一个标识符，并且标识符后面有一个字。"
   ]
  },
  {
   "cell_type": "code",
   "execution_count": null,
   "metadata": {},
   "outputs": [],
   "source": []
  }
 ],
 "metadata": {
  "kernelspec": {
   "display_name": "Python 3",
   "language": "python",
   "name": "python3"
  },
  "language_info": {
   "codemirror_mode": {
    "name": "ipython",
    "version": 3
   },
   "file_extension": ".py",
   "mimetype": "text/x-python",
   "name": "python",
   "nbconvert_exporter": "python",
   "pygments_lexer": "ipython3",
   "version": "3.6.2"
  }
 },
 "nbformat": 4,
 "nbformat_minor": 4
}
