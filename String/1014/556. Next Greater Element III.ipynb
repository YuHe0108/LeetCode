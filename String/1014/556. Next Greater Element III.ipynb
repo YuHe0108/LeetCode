{
 "cells": [
  {
   "cell_type": "raw",
   "metadata": {},
   "source": [
    "说明：\n",
    "    给定正32位整数n，您需要找到最小的32位整数，该整数与整数n中存在的数字完全相同，并且值大于n。\n",
    "    如果不存在这样的正32位整数，则需要返回-1。\n",
    "\n",
    "Example 1:\n",
    "    Input: 12\n",
    "    Output: 21\n",
    "\n",
    "Example 2:\n",
    "    Input: 21\n",
    "    Output: -1"
   ]
  },
  {
   "cell_type": "code",
   "execution_count": 27,
   "metadata": {},
   "outputs": [],
   "source": [
    "class Solution:\n",
    "    def nextGreaterElement(self, n: int) -> int:\n",
    "        if n == 0: return -1\n",
    "        nums = list(str(n))\n",
    "        N = len(nums)\n",
    "        \n",
    "        i = N - 1\n",
    "        while i > 0:\n",
    "            if nums[i - 1] < nums[i]:\n",
    "                break\n",
    "            i -= 1\n",
    "        i -= 1\n",
    "        if i < 0: \n",
    "            return -1\n",
    "        # i 的位置是小位置的数字大于前面位置的数字的索引\n",
    "        \n",
    "        # 从最末尾开始查找，找到第一个比nums[i] 大的值\n",
    "        temp = N - 1\n",
    "        while temp > i:\n",
    "            if nums[i] < nums[temp]:\n",
    "                break\n",
    "            temp -= 1\n",
    "            \n",
    "        nums[i], nums[temp] = nums[temp], nums[i]\n",
    "        nums[i+1:] = sorted(nums[i+1:])\n",
    "        res = int(''.join(nums))\n",
    "        return res if (res > n and res <= (2 ** 31 - 1)) else -1 "
   ]
  },
  {
   "cell_type": "code",
   "execution_count": 28,
   "metadata": {},
   "outputs": [
    {
     "name": "stdout",
     "output_type": "stream",
     "text": [
      "3\n"
     ]
    },
    {
     "data": {
      "text/plain": [
       "12354"
      ]
     },
     "execution_count": 28,
     "metadata": {},
     "output_type": "execute_result"
    }
   ],
   "source": [
    "solution = Solution()\n",
    "solution.nextGreaterElement(12345)"
   ]
  },
  {
   "cell_type": "code",
   "execution_count": 7,
   "metadata": {},
   "outputs": [
    {
     "data": {
      "text/plain": [
       "True"
      ]
     },
     "execution_count": 7,
     "metadata": {},
     "output_type": "execute_result"
    }
   ],
   "source": [
    "'3' < \"5\""
   ]
  },
  {
   "cell_type": "code",
   "execution_count": null,
   "metadata": {},
   "outputs": [],
   "source": []
  }
 ],
 "metadata": {
  "kernelspec": {
   "display_name": "Python 3",
   "language": "python",
   "name": "python3"
  },
  "language_info": {
   "codemirror_mode": {
    "name": "ipython",
    "version": 3
   },
   "file_extension": ".py",
   "mimetype": "text/x-python",
   "name": "python",
   "nbconvert_exporter": "python",
   "pygments_lexer": "ipython3",
   "version": "3.6.2"
  }
 },
 "nbformat": 4,
 "nbformat_minor": 4
}
