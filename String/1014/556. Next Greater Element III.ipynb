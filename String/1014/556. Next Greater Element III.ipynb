{
 "cells": [
  {
   "cell_type": "raw",
   "metadata": {},
   "source": [
    "说明：\n",
    "    给定正32位整数n，您需要找到最小的32位整数，该整数与整数n中存在的数字完全相同，并且值大于n。\n",
    "    如果不存在这样的正32位整数，则需要返回-1。\n",
    "\n",
    "Example 1:\n",
    "    Input: 12\n",
    "    Output: 21\n",
    "\n",
    "Example 2:\n",
    "    Input: 21\n",
    "    Output: -1"
   ]
  },
  {
   "cell_type": "code",
   "execution_count": 10,
   "metadata": {},
   "outputs": [],
   "source": [
    "class Solution:\n",
    "    def nextGreaterElement(self, n: int) -> int:\n",
    "        str_n = str(n)\n",
    "        N = len(str_n)\n",
    "        # 最简单的方式，就是将 n 中的元素全排列，求大于n的最小值，但是有可能时间复杂度较高\n",
    "        res = []\n",
    "        for i in range(N):\n",
    "            for j"
   ]
  },
  {
   "cell_type": "code",
   "execution_count": 11,
   "metadata": {},
   "outputs": [
    {
     "name": "stdout",
     "output_type": "stream",
     "text": [
      "2\n"
     ]
    }
   ],
   "source": [
    "solution = Solution()\n",
    "solution.nextGreaterElement(12)"
   ]
  },
  {
   "cell_type": "code",
   "execution_count": 7,
   "metadata": {},
   "outputs": [
    {
     "data": {
      "text/plain": [
       "True"
      ]
     },
     "execution_count": 7,
     "metadata": {},
     "output_type": "execute_result"
    }
   ],
   "source": [
    "'3' < \"5\""
   ]
  },
  {
   "cell_type": "code",
   "execution_count": null,
   "metadata": {},
   "outputs": [],
   "source": []
  }
 ],
 "metadata": {
  "kernelspec": {
   "display_name": "Python 3",
   "language": "python",
   "name": "python3"
  },
  "language_info": {
   "codemirror_mode": {
    "name": "ipython",
    "version": 3
   },
   "file_extension": ".py",
   "mimetype": "text/x-python",
   "name": "python",
   "nbconvert_exporter": "python",
   "pygments_lexer": "ipython3",
   "version": "3.6.2"
  }
 },
 "nbformat": 4,
 "nbformat_minor": 4
}
