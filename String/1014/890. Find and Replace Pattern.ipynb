{
 "cells": [
  {
   "cell_type": "raw",
   "metadata": {},
   "source": [
    "说明：\n",
    "    您有一个words and a pattern，并且想知道单词中哪些单词与该模式匹配。\n",
    "    如果存在字母p的排列，则单词会与模式匹配，因此在模式中将每个字母x替换为p（x）之后，我们将获得所需的单词。 （\n",
    "    回想一下字母的排列是从字母到字母的双射：每个字母都映射到另一个字母，没有两个字母映射到同一字母。）\n",
    "    返回单词中与给定模式匹配的单词列表。您可以按任何顺序返回答案。\n",
    "\n",
    "Example 1:\n",
    "    Input: words = [\"abc\",\"deq\",\"mee\",\"aqq\",\"dkd\",\"ccc\"], pattern = \"abb\"\n",
    "    Output: [\"mee\",\"aqq\"]\n",
    "    Explanation: \"mee\" matches the pattern because there is a permutation {a -> m, b -> e, ...}. \n",
    "                 \"ccc\" does not match the pattern because {a -> c, b -> c, ...} is not a permutation,\n",
    "                 since a and b map to the same letter.\n",
    "Note:\n",
    "1、1 <= words.length <= 50\n",
    "2、1 <= pattern.length = words[i].length <= 20"
   ]
  },
  {
   "cell_type": "code",
   "execution_count": 66,
   "metadata": {},
   "outputs": [],
   "source": [
    "class Solution:\n",
    "    def findAndReplacePattern(self, words, pattern: str):\n",
    "        pattern = self.resort(pattern)\n",
    "        outs = []\n",
    "        for w in words:\n",
    "            words = self.resort(w)\n",
    "            if words == pattern:\n",
    "                outs.append(w)\n",
    "        return outs\n",
    "\n",
    "    def resort(self, words):\n",
    "        N = len(words)\n",
    "        alphas = [chr(x) for x in range(97, 122)]\n",
    "        res = ['a']\n",
    "        dif = 0\n",
    "        w_dict = {words[0]: 'a'}\n",
    "        for i in range(1, N):\n",
    "            val = words[i]\n",
    "            if val in w_dict:\n",
    "                res.append(w_dict[val])\n",
    "            else:\n",
    "                dif += 1\n",
    "                w_dict[val] = alphas[dif]\n",
    "                res.append(w_dict[val])\n",
    "        return ''.join(res)"
   ]
  },
  {
   "cell_type": "code",
   "execution_count": 67,
   "metadata": {},
   "outputs": [
    {
     "data": {
      "text/plain": [
       "['abab', 'dede']"
      ]
     },
     "execution_count": 67,
     "metadata": {},
     "output_type": "execute_result"
    }
   ],
   "source": [
    "solution = Solution()\n",
    "solution.findAndReplacePattern([\"badc\",\"abab\",\"dddd\",\"dede\",\"yyxx\"], \"baba\")"
   ]
  },
  {
   "cell_type": "code",
   "execution_count": null,
   "metadata": {},
   "outputs": [],
   "source": []
  }
 ],
 "metadata": {
  "kernelspec": {
   "display_name": "Python 3",
   "language": "python",
   "name": "python3"
  },
  "language_info": {
   "codemirror_mode": {
    "name": "ipython",
    "version": 3
   },
   "file_extension": ".py",
   "mimetype": "text/x-python",
   "name": "python",
   "nbconvert_exporter": "python",
   "pygments_lexer": "ipython3",
   "version": "3.6.2"
  }
 },
 "nbformat": 4,
 "nbformat_minor": 4
}
