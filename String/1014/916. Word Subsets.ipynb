{
 "cells": [
  {
   "cell_type": "raw",
   "metadata": {},
   "source": [
    "说明：\n",
    "    给定单词的两个数组A和B。每个单词都是一串小写字母。\n",
    "    现在，假设b中的每个字母都出现在a中（包括多重性），则单词b是单词a的子集。\n",
    "    例如，\"wrr\"是\"warrior\"的子集，但不是“world”的子集。\n",
    "    现在说，如果对于B中的每个b，b是a的子集，则来自A的单词a是通用的。\n",
    "    返回A中所有通用词的列表。\n",
    "    您可以按任何顺序返回这些词。\n",
    "\n",
    "Example 1:\n",
    "    Input: A = [\"amazon\",\"apple\",\"facebook\",\"google\",\"leetcode\"], B = [\"e\",\"o\"]\n",
    "    Output: [\"facebook\",\"google\",\"leetcode\"]\n",
    "\n",
    "Example 2:\n",
    "    Input: A = [\"amazon\",\"apple\",\"facebook\",\"google\",\"leetcode\"], B = [\"l\",\"e\"]\n",
    "    Output: [\"apple\",\"google\",\"leetcode\"]\n",
    "\n",
    "Example 3:\n",
    "    Input: A = [\"amazon\",\"apple\",\"facebook\",\"google\",\"leetcode\"], B = [\"e\",\"oo\"]\n",
    "    Output: [\"facebook\",\"google\"]\n",
    "\n",
    "Example 4:\n",
    "    Input: A = [\"amazon\",\"apple\",\"facebook\",\"google\",\"leetcode\"], B = [\"lo\",\"eo\"]\n",
    "    Output: [\"google\",\"leetcode\"]\n",
    "\n",
    "Example 5:\n",
    "    Input: A = [\"amazon\",\"apple\",\"facebook\",\"google\",\"leetcode\"], B = [\"ec\",\"oc\",\"ceo\"]\n",
    "    Output: [\"facebook\",\"leetcode\"]\n",
    " \n",
    "Note:\n",
    "    1、1 <= A.length, B.length <= 10000\n",
    "    2、1 <= A[i].length, B[i].length <= 10\n",
    "    3、A[i] and B[i] consist only of lowercase letters.\n",
    "    4、All words in A[i] are unique: there isn't i != j with A[i] == A[j]."
   ]
  },
  {
   "cell_type": "code",
   "execution_count": 19,
   "metadata": {},
   "outputs": [],
   "source": [
    "from collections import Counter\n",
    "\n",
    "class Solution:\n",
    "    def wordSubsets(self, A, B):\n",
    "        # 寻找在B中，unique元素在B的元素中，出现最多次数是多少，因为只要满足了最多的次数，最少的一定满足\n",
    "        d = {}\n",
    "        for i in B:\n",
    "            temp = Counter(i)\n",
    "            for j in temp:\n",
    "                d[j] = max(d.get(j, 0), temp[j])\n",
    "        \n",
    "        res = []\n",
    "        for w_a in A:\n",
    "            if self.helper(w_a, d):\n",
    "                res.append(w_a)\n",
    "        return res\n",
    "    \n",
    "    def helper(self, w_a, d):\n",
    "        w_a_count = Counter(w_a)\n",
    "        for key, val in d.items():\n",
    "            if key not in w_a_count or w_a_count[key] < val:\n",
    "                return False\n",
    "        return True"
   ]
  },
  {
   "cell_type": "code",
   "execution_count": 20,
   "metadata": {},
   "outputs": [
    {
     "data": {
      "text/plain": [
       "['facebook', 'leetcode']"
      ]
     },
     "execution_count": 20,
     "metadata": {},
     "output_type": "execute_result"
    }
   ],
   "source": [
    "solution = Solution()\n",
    "solution.wordSubsets(A = [\"amazon\",\"apple\",\"facebook\",\"google\",\"leetcode\"], B = [\"ec\",\"oc\",\"ceo\"])"
   ]
  },
  {
   "cell_type": "code",
   "execution_count": 14,
   "metadata": {},
   "outputs": [
    {
     "name": "stdout",
     "output_type": "stream",
     "text": [
      "False\n"
     ]
    }
   ],
   "source": [
    "a = 'aaabeeec'\n",
    "print('abc' in a)"
   ]
  },
  {
   "cell_type": "code",
   "execution_count": null,
   "metadata": {},
   "outputs": [],
   "source": []
  }
 ],
 "metadata": {
  "kernelspec": {
   "display_name": "Python 3",
   "language": "python",
   "name": "python3"
  },
  "language_info": {
   "codemirror_mode": {
    "name": "ipython",
    "version": 3
   },
   "file_extension": ".py",
   "mimetype": "text/x-python",
   "name": "python",
   "nbconvert_exporter": "python",
   "pygments_lexer": "ipython3",
   "version": "3.6.2"
  }
 },
 "nbformat": 4,
 "nbformat_minor": 4
}
