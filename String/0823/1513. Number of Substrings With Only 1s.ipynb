{
 "cells": [
  {
   "cell_type": "raw",
   "metadata": {},
   "source": [
    "说明：\n",
    "    给定一个二进制字符串s（仅由“ 0”和“ 1”组成的字符串）。\n",
    "    返回所有字符为1的子字符串的数量。由于答案可能太大，因此请对10^9+7取余后返回。\n",
    "\n",
    "Example 1:\n",
    "    Input: s = \"0110111\"\n",
    "    Output: 9\n",
    "    Explanation: There are 9 substring in total with only 1's characters.\n",
    "    \"1\" -> 5 times.\n",
    "    \"11\" -> 3 times.\n",
    "    \"111\" -> 1 time.\n",
    "    \n",
    "Example 2:\n",
    "    Input: s = \"101\"\n",
    "    Output: 2\n",
    "    Explanation: Substring \"1\" is shown 2 times in s.\n",
    "\n",
    "Example 3:\n",
    "    Input: s = \"111111\"\n",
    "    Output: 21\n",
    "    Explanation: Each substring contains only 1's characters.\n",
    "\n",
    "Example 4:\n",
    "    Input: s = \"000\"\n",
    "    Output: 0\n",
    "\n",
    "Constraints:\n",
    "    1、s[i] == '0' or s[i] == '1'\n",
    "    2、1 <= s.length <= 10^5\n",
    "\n",
    "在每个连续的1组中计数1。对于具有n个连续1的组，其对最终答案的总贡献为（n+1）* n // 2。"
   ]
  },
  {
   "cell_type": "code",
   "execution_count": 72,
   "metadata": {},
   "outputs": [],
   "source": [
    "class Solution:\n",
    "    def numSub(self, s: str) -> int:\n",
    "        s += '0'\n",
    "        total = 0\n",
    "        l = r = -1\n",
    "        for i in range(len(s)):\n",
    "            if s[i] == '0' and l != -1:\n",
    "                if r == -1:\n",
    "                    total += 1\n",
    "                elif r != -1:\n",
    "                    n = r - l + 1\n",
    "                    total += (n + 1) * n // 2\n",
    "                l = r = -1\n",
    "            elif s[i] == '1': \n",
    "                if l == -1:\n",
    "                    l = i\n",
    "                else:\n",
    "                    r = i\n",
    "        return total % (10**9+7)"
   ]
  },
  {
   "cell_type": "code",
   "execution_count": 83,
   "metadata": {},
   "outputs": [],
   "source": [
    "class Solution:\n",
    "    def numSub(self, s: str) -> int:\n",
    "        total = cur = 0\n",
    "        for d in s:\n",
    "            if d == '0':\n",
    "                cur = 0\n",
    "            else:\n",
    "                cur += 1\n",
    "                total += cur\n",
    "        return total % (10**9 + 7)"
   ]
  },
  {
   "cell_type": "code",
   "execution_count": 84,
   "metadata": {},
   "outputs": [
    {
     "data": {
      "text/plain": [
       "21"
      ]
     },
     "execution_count": 84,
     "metadata": {},
     "output_type": "execute_result"
    }
   ],
   "source": [
    "s_ = '111111'\n",
    "solution = Solution()\n",
    "solution.numSub(s_)"
   ]
  },
  {
   "cell_type": "code",
   "execution_count": 71,
   "metadata": {},
   "outputs": [
    {
     "ename": "ValueError",
     "evalue": "invalid literal for int() with base 10: 'inf'",
     "output_type": "error",
     "traceback": [
      "\u001b[1;31m---------------------------------------------------------------------------\u001b[0m",
      "\u001b[1;31mValueError\u001b[0m                                Traceback (most recent call last)",
      "\u001b[1;32m<ipython-input-71-533217db07b5>\u001b[0m in \u001b[0;36m<module>\u001b[1;34m()\u001b[0m\n\u001b[1;32m----> 1\u001b[1;33m \u001b[0mprint\u001b[0m\u001b[1;33m(\u001b[0m\u001b[0mint\u001b[0m\u001b[1;33m(\u001b[0m\u001b[1;34m'inf'\u001b[0m\u001b[1;33m)\u001b[0m\u001b[1;33m)\u001b[0m\u001b[1;33m\u001b[0m\u001b[0m\n\u001b[0m",
      "\u001b[1;31mValueError\u001b[0m: invalid literal for int() with base 10: 'inf'"
     ]
    }
   ],
   "source": [
    "3200542526\n",
    "2147483648\n",
    "200542505"
   ]
  },
  {
   "cell_type": "code",
   "execution_count": 74,
   "metadata": {},
   "outputs": [
    {
     "name": "stdout",
     "output_type": "stream",
     "text": [
      "1000000007\n"
     ]
    }
   ],
   "source": []
  },
  {
   "cell_type": "code",
   "execution_count": null,
   "metadata": {},
   "outputs": [],
   "source": []
  }
 ],
 "metadata": {
  "kernelspec": {
   "display_name": "TF2",
   "language": "python",
   "name": "tf2"
  },
  "language_info": {
   "codemirror_mode": {
    "name": "ipython",
    "version": 3
   },
   "file_extension": ".py",
   "mimetype": "text/x-python",
   "name": "python",
   "nbconvert_exporter": "python",
   "pygments_lexer": "ipython3",
   "version": "3.6.2"
  }
 },
 "nbformat": 4,
 "nbformat_minor": 4
}
