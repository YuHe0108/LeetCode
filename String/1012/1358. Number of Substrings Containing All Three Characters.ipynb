{
 "cells": [
  {
   "cell_type": "raw",
   "metadata": {},
   "source": [
    "说明：\n",
    "    给定一个仅由字符a，b和c组成的字符串s。\n",
    "    返回至少包含所有这些字符a，b和c的子字符串的数目。\n",
    "\n",
    "Example 1:\n",
    "    Input: s = \"abcabc\"\n",
    "    Output: 10\n",
    "    Explanation: \n",
    "        The substrings containing at least one occurrence of the characters a, b and c are \n",
    "        \"abc\", \"abca\", \"abcab\", \"abcabc\", \"bca\", \"bcab\", \"bcabc\", \"cab\", \"cabc\" and \"abc\" (again). \n",
    "        \n",
    "\n",
    "Example 2:\n",
    "    Input: s = \"aaacb\"\n",
    "    Output: 3\n",
    "    Explanation: The substrings containing at least one occurrence of the characters a, b and c are \"aaacb\", \"aacb\" and \"acb\". \n",
    "\n",
    "Example 3:\n",
    "    Input: s = \"abc\"\n",
    "    Output: 1\n",
    "\n",
    "Constraints:\n",
    "    1、3 <= s.length <= 5 x 10^4\n",
    "    2、s only consists of a, b or c characters."
   ]
  },
  {
   "cell_type": "code",
   "execution_count": 14,
   "metadata": {},
   "outputs": [],
   "source": [
    "class Solution:\n",
    "    def numberOfSubstrings(self, s: str) -> int:\n",
    "        letters = {'a', 'b', 'c'}\n",
    "        N = len(s)\n",
    "        count = 0\n",
    "        \n",
    "        for gap in range(3, N + 1):\n",
    "            for start in range(N - gap + 1):\n",
    "                sub_str = s[start:start + gap]\n",
    "                if set(sub_str) == letters:\n",
    "                    count += 1\n",
    "        return count"
   ]
  },
  {
   "cell_type": "code",
   "execution_count": 22,
   "metadata": {},
   "outputs": [],
   "source": [
    "from collections import Counter\n",
    "\n",
    "class Solution:\n",
    "    def numberOfSubstrings(self, s: str) -> int:\n",
    "        def count_letter(ct):\n",
    "            if ct['a'] and ct['b'] and ct['c']:\n",
    "                return True\n",
    "            return False\n",
    "        \n",
    "        count = 0\n",
    "        for i in range(len(s)):\n",
    "            ctr = Counter(s[:len(s) - i])\n",
    "            for j in range(i + 1):\n",
    "                if j != 0:\n",
    "                    start_idx = j - 1\n",
    "                    end_idx = len(s) + start_idx - i\n",
    "                    ctr[s[start_idx]] -= 1\n",
    "                    ctr[s[end_idx]] += 1\n",
    "                if count_letter(ctr):\n",
    "                    count += 1\n",
    "        return count"
   ]
  },
  {
   "cell_type": "code",
   "execution_count": 32,
   "metadata": {},
   "outputs": [],
   "source": [
    "class Solution:\n",
    "    def numberOfSubstrings(self, s: str) -> int:\n",
    "        a, b, c = 0, 0, 0\n",
    "        ans, i, n = 0, 0, len(s)\n",
    "        for j, letter in enumerate(s):\n",
    "            if letter == 'a':\n",
    "                a += 1\n",
    "            elif letter == 'b':\n",
    "                b += 1\n",
    "            else:\n",
    "                c += 1\n",
    "            while a and b and c:\n",
    "                ans += n - j\n",
    "                print(n - j, n, j)\n",
    "                if s[i] == 'a':\n",
    "                    a -= 1\n",
    "                elif s[i] == 'b':\n",
    "                    b -= 1\n",
    "                else:\n",
    "                    c -= 1\n",
    "                i += 1\n",
    "        return ans"
   ]
  },
  {
   "cell_type": "code",
   "execution_count": 34,
   "metadata": {},
   "outputs": [
    {
     "name": "stdout",
     "output_type": "stream",
     "text": [
      "3 5 2\n"
     ]
    },
    {
     "data": {
      "text/plain": [
       "3"
      ]
     },
     "execution_count": 34,
     "metadata": {},
     "output_type": "execute_result"
    }
   ],
   "source": [
    "solution = Solution()\n",
    "solution.numberOfSubstrings('abcbb')"
   ]
  },
  {
   "cell_type": "code",
   "execution_count": 3,
   "metadata": {},
   "outputs": [
    {
     "name": "stdout",
     "output_type": "stream",
     "text": [
      "True\n"
     ]
    }
   ],
   "source": [
    "a = {'a', 'c', 'b'}\n",
    "b = {'a', 'b', 'c'}\n",
    "print(a == b)"
   ]
  },
  {
   "cell_type": "code",
   "execution_count": null,
   "metadata": {},
   "outputs": [],
   "source": [
    "class Solution:\n",
    "    def numberOfSubstrings(self, s: str) -> int:\n",
    "        a = b = c = 0                        # counter for letter a/b/c\n",
    "        ans, i, n = 0, 0, len(s)             # i: slow pointer\n",
    "        for j, letter in enumerate(s):       # j: fast pointer\n",
    "            if letter == 'a': a += 1         # increment a/b/c accordingly\n",
    "            elif letter == 'b': b += 1\n",
    "            else: c += 1\n",
    "            while a > 0 and b > 0 and c > 0: # if all of a/b/c are contained, move slow pointer\n",
    "                ans += n-j                   # count possible substr, if a substr ends at j, then there are n-j substrs to the right that are containing all a/b/c\n",
    "                if s[i] == 'a': a -= 1       # decrement counter accordingly\n",
    "                elif s[i] == 'b': b -= 1\n",
    "                else: c -= 1\n",
    "                i += 1                       # move slow pointer\n",
    "        return ans    "
   ]
  }
 ],
 "metadata": {
  "kernelspec": {
   "display_name": "Python 3",
   "language": "python",
   "name": "python3"
  },
  "language_info": {
   "codemirror_mode": {
    "name": "ipython",
    "version": 3
   },
   "file_extension": ".py",
   "mimetype": "text/x-python",
   "name": "python",
   "nbconvert_exporter": "python",
   "pygments_lexer": "ipython3",
   "version": "3.6.2"
  }
 },
 "nbformat": 4,
 "nbformat_minor": 4
}
