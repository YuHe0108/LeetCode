{
 "cells": [
  {
   "cell_type": "raw",
   "metadata": {},
   "source": [
    "说明：\n",
    "    给定字符串s，返回包含每个元音的偶数次的最长子字符串的大小。\n",
    "    也就是说，“ a”，“ e”，“ i”，“ o”和“ u”必须出现偶数次\n",
    "\n",
    "Example 1:\n",
    "    Input: s = \"eleetminicoworoep\"\n",
    "    Output: 13\n",
    "    Explanation: The longest substring is \"leetminicowor\" which contains two each of the vowels: e, i and o and zero of the vowels: a and u.\n",
    "\n",
    "Example 2:\n",
    "    Input: s = \"leetcodeisgreat\"\n",
    "    Output: 5\n",
    "    Explanation: The longest substring is \"leetc\" which contains two e's.\n",
    "\n",
    "Example 3:\n",
    "    Input: s = \"bcbcbc\"\n",
    "    Output: 6\n",
    "    Explanation: In this case, the given string \"bcbcbc\" is the longest because all vowels: a, e, i, o and u appear zero times.\n",
    " \n",
    "Constraints:\n",
    "    1、1 <= s.length <= 5 x 10^5\n",
    "    2、s contains only lowercase English letters."
   ]
  },
  {
   "cell_type": "code",
   "execution_count": 7,
   "metadata": {},
   "outputs": [],
   "source": [
    "class Solution:\n",
    "    def findTheLongestSubstring(self, s: str) -> int:\n",
    "        v_count = {'a': 0, 'e': 0, 'i': 0, 'o': 0, 'u': 0}\n",
    "        \n",
    "        ans = -float('inf')\n",
    "        for a in s:\n",
    "            if a in v_count:\n",
    "                v_count[a] += 1\n",
    "            \n",
    "    \n",
    "    def helper(self, vals):\n",
    "        for val in vals:\n",
    "            if val % 2 != 0:\n",
    "                return False\n",
    "        return True"
   ]
  },
  {
   "cell_type": "code",
   "execution_count": 17,
   "metadata": {},
   "outputs": [],
   "source": [
    "class Solution:\n",
    "    def findTheLongestSubstring(self, s: str) -> int:\n",
    "        a_c, e_c, i_c, o_c, u_c = True, True, True, True, True\n",
    "        ans = -float('inf')\n",
    "        for i, a in enumerate(s):\n",
    "            if a_c and e_c and i_c and o_c and u_c:\n",
    "                ans = max(ans, i + 1)\n",
    "                print(i, s[:i])\n",
    "            if a == 'a':\n",
    "                a_c = not a_c\n",
    "            elif a == 'e':\n",
    "                e_c = not e_c\n",
    "            elif a == 'i':\n",
    "                i_c = not i_c\n",
    "            elif a == 'o':\n",
    "                o_c = not o_c\n",
    "            elif a == 'u':\n",
    "                u_c = not u_c\n",
    "        print(ans)"
   ]
  },
  {
   "cell_type": "code",
   "execution_count": 35,
   "metadata": {},
   "outputs": [],
   "source": [
    "from collections import Counter\n",
    "\n",
    "class Solution:\n",
    "    def findTheLongestSubstring(self, s: str) -> int:\n",
    "        v_letter = {'a', 'e', 'i', 'o', 'u'}\n",
    "        other_idx = []\n",
    "        for i, a in enumerate(s):\n",
    "            if a not in v_letter:\n",
    "                other_idx.append(i)\n",
    "        print(other_idx)\n",
    "        print(s[1:13+1])"
   ]
  },
  {
   "cell_type": "code",
   "execution_count": 41,
   "metadata": {},
   "outputs": [],
   "source": [
    "class Solution:\n",
    "    def findTheLongestSubstring(self, s: str) -> int:\n",
    "        N = len(s)\n",
    "        dp = [[False] * (N + 1) for _ in range(N + 1)]\n",
    "        dp[0][0] = True\n",
    "        for i in range(N + 1):\n",
    "            dp[i][i] = True\n",
    "        \n",
    "        s = '#' + s\n",
    "        vowel = True\n",
    "        for i in range(1, N+1):\n",
    "            val = s[i]\n",
    "            for j in range(1, N+1):\n",
    "                pass"
   ]
  },
  {
   "cell_type": "code",
   "execution_count": 47,
   "metadata": {},
   "outputs": [],
   "source": [
    "class Solution:\n",
    "    def findTheLongestSubstring(self, s: str) -> int:\n",
    "        bit_mask = eval('0b00000')\n",
    "        initial = {eval('0b000000'): -1}\n",
    "        vowels = 'aeiou'\n",
    "        ans = 0\n",
    "        for i in range(len(s)):\n",
    "            if idx"
   ]
  },
  {
   "cell_type": "code",
   "execution_count": 92,
   "metadata": {},
   "outputs": [],
   "source": [
    "from collections import Counter\n",
    "\n",
    "class Solution:\n",
    "    def findTheLongestSubstring(self, s: str) -> int:\n",
    "        def count_vowel(ct):\n",
    "            if not ct['a'] % 2 and not ct['e'] % 2 and not ct['i'] % 2 and not ct['o'] % 2 and not ct['u'] % 2:\n",
    "                return True\n",
    "            return False\n",
    "        \n",
    "        for i in range(len(s)):\n",
    "            ctr = Counter(s[:len(s) - i])\n",
    "            for j in range(i + 1):\n",
    "                if j != 0:\n",
    "                    start_idx = j - 1\n",
    "                    end_idx = len(s) + start_idx - i\n",
    "                    ctr[s[start_idx]] -= 1\n",
    "                    ctr[s[end_idx]] += 1\n",
    "                if count_vowel(ctr):\n",
    "                    print(start_idx, end_idx, s[start_idx + 1: end_idx + 1])\n",
    "                    return sum(ctr.values())\n",
    "        return 0"
   ]
  },
  {
   "cell_type": "code",
   "execution_count": 93,
   "metadata": {},
   "outputs": [
    {
     "name": "stdout",
     "output_type": "stream",
     "text": [
      "0 13 leetminicowor\n"
     ]
    },
    {
     "data": {
      "text/plain": [
       "13"
      ]
     },
     "execution_count": 93,
     "metadata": {},
     "output_type": "execute_result"
    }
   ],
   "source": [
    "solution = Solution()\n",
    "solution.findTheLongestSubstring(\"eleetminicoworoep\")"
   ]
  },
  {
   "cell_type": "code",
   "execution_count": null,
   "metadata": {},
   "outputs": [],
   "source": []
  }
 ],
 "metadata": {
  "kernelspec": {
   "display_name": "Python 3",
   "language": "python",
   "name": "python3"
  },
  "language_info": {
   "codemirror_mode": {
    "name": "ipython",
    "version": 3
   },
   "file_extension": ".py",
   "mimetype": "text/x-python",
   "name": "python",
   "nbconvert_exporter": "python",
   "pygments_lexer": "ipython3",
   "version": "3.6.2"
  }
 },
 "nbformat": 4,
 "nbformat_minor": 4
}
