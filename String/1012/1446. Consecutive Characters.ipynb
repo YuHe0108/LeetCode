{
 "cells": [
  {
   "cell_type": "raw",
   "metadata": {},
   "source": [
    "说明：\n",
    "    给定字符串s，该字符串的幂为：仅包含一个唯一字符的非空子字符串的最大长度。\n",
    "    返回字符串的幂。\n",
    "\n",
    "Example 1:\n",
    "    Input: s = \"leetcode\"\n",
    "    Output: 2\n",
    "    Explanation: The substring \"ee\" is of length 2 with the character 'e' only.\n",
    "\n",
    "Example 2:\n",
    "    Input: s = \"abbcccddddeeeeedcba\"\n",
    "    Output: 5\n",
    "    Explanation: The substring \"eeeee\" is of length 5 with the character 'e' only.\n",
    "\n",
    "Example 3:\n",
    "    Input: s = \"triplepillooooow\"\n",
    "    Output: 5\n",
    "\n",
    "Example 4:\n",
    "    Input: s = \"hooraaaaaaaaaaay\"\n",
    "    Output: 11\n",
    "\n",
    "Example 5:\n",
    "    Input: s = \"tourist\"\n",
    "    Output: 1\n",
    " \n",
    "Constraints:\n",
    "    1、1 <= s.length <= 500\n",
    "    2、s contains only lowercase English letters."
   ]
  },
  {
   "cell_type": "code",
   "execution_count": 12,
   "metadata": {},
   "outputs": [],
   "source": [
    "class Solution:\n",
    "    def maxPower(self, s: str) -> int:\n",
    "        ans, idx = 0, 0\n",
    "        while idx < len(s):\n",
    "            val = s[idx]\n",
    "            if idx + 1 < len(s) and s[idx + 1] == val:\n",
    "                count = 1\n",
    "                while idx + 1 < len(s) and s[idx + 1] == val:\n",
    "                    count += 1\n",
    "                    idx += 1\n",
    "                ans = max(ans, count)\n",
    "            idx += 1\n",
    "        return ans if ans != 0 else 1"
   ]
  },
  {
   "cell_type": "code",
   "execution_count": 13,
   "metadata": {},
   "outputs": [
    {
     "data": {
      "text/plain": [
       "5"
      ]
     },
     "execution_count": 13,
     "metadata": {},
     "output_type": "execute_result"
    }
   ],
   "source": [
    "solution = Solution()\n",
    "solution.maxPower(\"triplepillooooow\")"
   ]
  },
  {
   "cell_type": "code",
   "execution_count": null,
   "metadata": {},
   "outputs": [],
   "source": []
  }
 ],
 "metadata": {
  "kernelspec": {
   "display_name": "Python 3",
   "language": "python",
   "name": "python3"
  },
  "language_info": {
   "codemirror_mode": {
    "name": "ipython",
    "version": 3
   },
   "file_extension": ".py",
   "mimetype": "text/x-python",
   "name": "python",
   "nbconvert_exporter": "python",
   "pygments_lexer": "ipython3",
   "version": "3.6.2"
  }
 },
 "nbformat": 4,
 "nbformat_minor": 4
}
