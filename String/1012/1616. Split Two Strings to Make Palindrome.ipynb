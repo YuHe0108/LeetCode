{
 "cells": [
  {
   "cell_type": "raw",
   "metadata": {},
   "source": [
    "说明：\n",
    "    您会得到两个长度相同的字符串a和b。\n",
    "    选择一个索引并将两个字符串拆分为相同的索引，\n",
    "    将a拆分为两个字符串：aprefix和asuffix，其中a = aprefix + asuffix，\n",
    "    将b拆分为两个字符串：bprefix和bsuffix，其中b = bprefix + bsuffix。\n",
    "    检查aprefix + bsuffix或 bprefix + asuffix是否形成回文。\n",
    "    将字符串s拆分为sprefix和ssuffix时，ssuffix或sprefix都可以为空。\n",
    "    例如，如果s =“abc”，则 “” + “abc”，“a” + “ bc”，“ab” +  c”和“abc” “” 是有效的分割。\n",
    "    如果可以形成回文字符串，则返回true，否则返回false。\n",
    "    注意，x y表示字符串x和y的串联。\n",
    "\n",
    "Example 1:\n",
    "    Input: a = \"x\", b = \"y\"\n",
    "    Output: true\n",
    "    Explaination:   If either a or b are palindromes the answer is true since you can split in the following way:\n",
    "                    aprefix = \"\", asuffix = \"x\"\n",
    "                    bprefix = \"\", bsuffix = \"y\"\n",
    "                    Then, aprefix + bsuffix = \"\" + \"y\" = \"y\", which is a palindrome.\n",
    "\n",
    "Example 2:\n",
    "    Input: a = \"abdef\", b = \"fecab\"\n",
    "    Output: true\n",
    "\n",
    "Example 3:\n",
    "    Input: a = \"ulac fd\", b = \"jiza lu\"\n",
    "    Output: true\n",
    "    Explaination: Split them at index 3:\n",
    "                  aprefix = \"ula\", asuffix = \"cfd\"\n",
    "                  bprefix = \"jiz\", bsuffix = \"alu\"\n",
    "                  Then, aprefix + bsuffix = \"ula\" + \"alu\" = \"ulaalu\", which is a palindrome.\n",
    "Example 4:\n",
    "    Input: a = \"xbdef\", b = \"xecab\"\n",
    "    Output: false\n",
    "\n",
    "Constraints:\n",
    "    1、1 <= a.length, b.length <= 10^5\n",
    "    2、a.length == b.length\n",
    "    3、a and b consist of lowercase English letters"
   ]
  },
  {
   "cell_type": "code",
   "execution_count": 70,
   "metadata": {},
   "outputs": [],
   "source": [
    "class Solution:\n",
    "    def checkPalindromeFormation(self, a: str, b: str) -> bool:\n",
    "        if a[::-1] == a or b[::-1] == b: return True\n",
    "        N = len(a)\n",
    "        valid = 1 if N % 2 == 0 else 2\n",
    "        # a_pre + b_suf = N or a_pre + b_suf + 1 = N: True\n",
    "        if a[0] == b[-1]:\n",
    "            a_idx, b_idx = 0, N - 1\n",
    "            while a_idx < N:\n",
    "                if a[a_idx] == b[b_idx]:\n",
    "                    print(a_idx, b_idx)\n",
    "                    if b_idx - a_idx == valid:\n",
    "                        return True\n",
    "                    a_idx += 1\n",
    "                    b_idx -= 1\n",
    "                else:\n",
    "                    break\n",
    "        elif a[-1] == b[0]:\n",
    "            a_idx, b_idx = N - 1, 0\n",
    "            while b_idx < N:\n",
    "                if a[a_idx] == b[b_idx]:\n",
    "                    if a_idx - b_idx == valid:\n",
    "                        return True\n",
    "                    a_idx -= 1\n",
    "                    b_idx += 1\n",
    "                else:\n",
    "                    break\n",
    "        return False"
   ]
  },
  {
   "cell_type": "code",
   "execution_count": 75,
   "metadata": {},
   "outputs": [],
   "source": [
    "class Solution:\n",
    "    def checkPalindromeFormation(self, a: str, b: str) -> bool:\n",
    "        return self.inner(a,b) or self.inner(b, a)\n",
    "    \n",
    "    def inner(self, a, b):\n",
    "        l, r = 0, len(a) - 1\n",
    "        ab, aa, bb = True, True, True\n",
    "        while l < r and (ab or aa or bb):\n",
    "            aa = (ab or aa) and a[l] == a[r]\n",
    "            bb = (ab or bb) and b[l] == b[r]\n",
    "            ab = ab and a[l] == b[r]\n",
    "            l, r = l + 1, r - 1\n",
    "        return aa or ab or bb"
   ]
  },
  {
   "cell_type": "code",
   "execution_count": 85,
   "metadata": {},
   "outputs": [],
   "source": [
    "class Solution:\n",
    "    def checkPalindromeFormation(self, a: str, b: str) -> bool:\n",
    "        n = len(a)\n",
    "        i = 0\n",
    "        while i <= n // 2 and a[i] == b[n - 1 - i]:\n",
    "            i += 1\n",
    "        j = 0\n",
    "        while j <= n // 2 and b[j] == a[n - 1 - j]:\n",
    "            j += 1\n",
    "        val = max(i, j)\n",
    "        return self.helper(a, val, n) or self.helper(b, val, n)\n",
    "    \n",
    "    def helper(self, a, val, n):\n",
    "        left = val\n",
    "        right = n - val - 1\n",
    "        while right - left >= 1 and a[left] == a[right]:\n",
    "            left += 1\n",
    "            right -= 1\n",
    "        if right - left < 1:\n",
    "            return True"
   ]
  },
  {
   "cell_type": "code",
   "execution_count": 86,
   "metadata": {},
   "outputs": [
    {
     "name": "stdout",
     "output_type": "stream",
     "text": [
      "4 4 17 upgqeltozftlmf\n",
      "4 4 17 zbezspnnpszebz\n"
     ]
    },
    {
     "data": {
      "text/plain": [
       "True"
      ]
     },
     "execution_count": 86,
     "metadata": {},
     "output_type": "execute_result"
    }
   ],
   "source": [
    "solution = Solution()\n",
    "solution.checkPalindromeFormation(a = \"pvhmupgqeltozftlmfjjde\", b = \"yjgpzbezspnnpszebzmhvp\")"
   ]
  },
  {
   "cell_type": "code",
   "execution_count": null,
   "metadata": {},
   "outputs": [],
   "source": [
    "a = \"pvhm upgqeltozftlmfjjde\", \n",
    "b = \"yjgpzbezspnnpszebz mhvp\""
   ]
  }
 ],
 "metadata": {
  "kernelspec": {
   "display_name": "Python 3",
   "language": "python",
   "name": "python3"
  },
  "language_info": {
   "codemirror_mode": {
    "name": "ipython",
    "version": 3
   },
   "file_extension": ".py",
   "mimetype": "text/x-python",
   "name": "python",
   "nbconvert_exporter": "python",
   "pygments_lexer": "ipython3",
   "version": "3.6.2"
  }
 },
 "nbformat": 4,
 "nbformat_minor": 4
}
