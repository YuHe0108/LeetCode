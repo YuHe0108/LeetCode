{
 "cells": [
  {
   "cell_type": "raw",
   "metadata": {},
   "source": [
    "说明：\n",
    "    给定一个字符串s。\n",
    "    垂直返回所有单词，顺序与它们在s中出现的顺序相同。\n",
    "    单词以字符串列表形式返回，必要时以空格结尾。 （不允许使用尾随空间）。\n",
    "    每个单词将仅放在一列上，而在一列中将只有一个单词。\n",
    "\n",
    "Example 1:\n",
    "    Input: s = \"HOW ARE YOU\"\n",
    "    Output: [\"HAY\",\"ORO\",\"WEU\"]\n",
    "    Explanation: Each word is printed vertically. \n",
    "                 \"HAY\"\n",
    "                 \"ORO\"\n",
    "                 \"WEU\"\n",
    "\n",
    "Example 2:\n",
    "    Input: s = \"TO BE OR NOT TO BE\"\n",
    "    Output: [\"TBONTB\",\"OEROOE\",\"   T\"]\n",
    "    Explanation: Trailing spaces is not allowed. \n",
    "                \"TBONTB\"\n",
    "                \"OEROOE\"\n",
    "                \"   T\"\n",
    "\n",
    "Example 3:\n",
    "    Input: s = \"CONTEST IS COMING\"\n",
    "    Output: [\"CIC\",\"OSO\",\"N M\",\"T I\",\"E N\",\"S G\",\"T\"]\n",
    " \n",
    "Constraints:\n",
    "    1、1 <= s.length <= 200\n",
    "    2、s contains only upper case English letters.\n",
    "    3、It's guaranteed that there is only one space between 2 words."
   ]
  },
  {
   "cell_type": "code",
   "execution_count": 27,
   "metadata": {},
   "outputs": [],
   "source": [
    "class Solution:\n",
    "    def printVertically(self, s: str):\n",
    "        s_list = s.split(' ')\n",
    "        max_len = max([len(x) for x in s_list])\n",
    "        word_list = []\n",
    "        for i in range(max_len):\n",
    "            res = []\n",
    "            for item in s_list:\n",
    "                if len(item) <= i:\n",
    "                    res.append(' ')\n",
    "                else:\n",
    "                    res.append(item[i])\n",
    "            while res[-1] == ' ':\n",
    "                res.pop()\n",
    "            word_list.append(''.join(res))\n",
    "        return word_list"
   ]
  },
  {
   "cell_type": "code",
   "execution_count": 28,
   "metadata": {},
   "outputs": [
    {
     "data": {
      "text/plain": [
       "['CIC', 'OSO', 'N M', 'T I', 'E N', 'S G', 'T']"
      ]
     },
     "execution_count": 28,
     "metadata": {},
     "output_type": "execute_result"
    }
   ],
   "source": [
    "solution = Solution()\n",
    "solution.printVertically(\"CONTEST IS COMING\")"
   ]
  },
  {
   "cell_type": "code",
   "execution_count": null,
   "metadata": {},
   "outputs": [],
   "source": []
  }
 ],
 "metadata": {
  "kernelspec": {
   "display_name": "Python 3",
   "language": "python",
   "name": "python3"
  },
  "language_info": {
   "codemirror_mode": {
    "name": "ipython",
    "version": 3
   },
   "file_extension": ".py",
   "mimetype": "text/x-python",
   "name": "python",
   "nbconvert_exporter": "python",
   "pygments_lexer": "ipython3",
   "version": "3.6.2"
  }
 },
 "nbformat": 4,
 "nbformat_minor": 4
}
