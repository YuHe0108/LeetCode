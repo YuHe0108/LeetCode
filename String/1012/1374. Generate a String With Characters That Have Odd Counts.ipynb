{
 "cells": [
  {
   "cell_type": "raw",
   "metadata": {},
   "source": [
    "说明：\n",
    "    给定一个整数n，返回一个包含n个字符的字符串，以使该字符串中的每个字符出现奇数次。\n",
    "    返回的字符串只能包含小写英文字母。\n",
    "    如果有多个有效字符串，则返回其中任何一个。\n",
    "\n",
    "Example 1:\n",
    "    Input: n = 4\n",
    "    Output: \"pppz\"\n",
    "    Explanation: \"pppz\" is a valid string since the character 'p' occurs three times and the character 'z' occurs once. Note that there are many other valid strings such as \"ohhh\" and \"love\".\n",
    "\n",
    "Example 2:\n",
    "    Input: n = 2\n",
    "    Output: \"xy\"\n",
    "    Explanation: \"xy\" is a valid string since the characters 'x' and 'y' occur once. Note that there are many other valid strings such as \"ag\" and \"ur\".\n",
    "\n",
    "Example 3:\n",
    "    Input: n = 7\n",
    "    Output: \"holasss\"\n",
    " \n",
    "Constraints:\n",
    "    1、1 <= n <= 500"
   ]
  },
  {
   "cell_type": "code",
   "execution_count": 15,
   "metadata": {},
   "outputs": [],
   "source": [
    "class Solution:\n",
    "    def generateTheString(self, n: int) -> str:\n",
    "        alphabets = list(range(97, 123))\n",
    "        res = ''\n",
    "        if n <= 26:\n",
    "            for i in range(n):\n",
    "                res += chr(alphabets[i])\n",
    "        left_val = n - 26\n",
    "        return res"
   ]
  },
  {
   "cell_type": "code",
   "execution_count": 21,
   "metadata": {},
   "outputs": [],
   "source": [
    "class Solution:\n",
    "    def generateTheString(self, n: int) -> str:\n",
    "        # 求 n 以内最大的奇数，让 a 出现最大的奇数次\n",
    "        s1 = n - 1 if n % 2 == 0 else n\n",
    "        s2 = n - s1\n",
    "        if s2 > 0:\n",
    "            return 'a' * s1 + 'b' * s2\n",
    "        return 'a' * s1"
   ]
  },
  {
   "cell_type": "code",
   "execution_count": 22,
   "metadata": {},
   "outputs": [
    {
     "data": {
      "text/plain": [
       "'aaaaaaa'"
      ]
     },
     "execution_count": 22,
     "metadata": {},
     "output_type": "execute_result"
    }
   ],
   "source": [
    "solution = Solution()\n",
    "solution.generateTheString(7)"
   ]
  },
  {
   "cell_type": "code",
   "execution_count": 4,
   "metadata": {},
   "outputs": [
    {
     "name": "stdout",
     "output_type": "stream",
     "text": [
      "97\n",
      "122\n"
     ]
    }
   ],
   "source": [
    "print(ord('a'))\n",
    "print(ord('z'))"
   ]
  },
  {
   "cell_type": "code",
   "execution_count": null,
   "metadata": {},
   "outputs": [],
   "source": []
  }
 ],
 "metadata": {
  "kernelspec": {
   "display_name": "Python 3",
   "language": "python",
   "name": "python3"
  },
  "language_info": {
   "codemirror_mode": {
    "name": "ipython",
    "version": 3
   },
   "file_extension": ".py",
   "mimetype": "text/x-python",
   "name": "python",
   "nbconvert_exporter": "python",
   "pygments_lexer": "ipython3",
   "version": "3.6.2"
  }
 },
 "nbformat": 4,
 "nbformat_minor": 4
}
