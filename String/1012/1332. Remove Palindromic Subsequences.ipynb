{
 "cells": [
  {
   "cell_type": "raw",
   "metadata": {},
   "source": [
    "说明：\n",
    "    给定一个仅由字母“ a”和“ b”组成的字符串s。\n",
    "    您只需一步即可从中删除一个回文子序列。\n",
    "    返回使给定字符串为空的最小步骤数。\n",
    "    字符串是给定字符串的子序列，如果它是通过删除给定字符串的某些字符而不改变其顺序而生成的。\n",
    "    如果一个字符串向后和向前读取相同，则称为回文。\n",
    "\n",
    "Example 1:\n",
    "    Input: s = \"ababa\"\n",
    "    Output: 1\n",
    "    Explanation: String is already palindrome\n",
    "\n",
    "Example 2:\n",
    "    Input: s = \"abb\"\n",
    "    Output: 2\n",
    "    Explanation: \"abb\" -> \"bb\" -> \"\". \n",
    "    Remove palindromic subsequence \"a\" then \"bb\".\n",
    "\n",
    "Example 3:\n",
    "    Input: s = \"baabb\"\n",
    "    Output: 2\n",
    "    Explanation: \"baabb\" -> \"b\" -> \"\". \n",
    "    Remove palindromic subsequence \"baab\" then \"b\".\n",
    "\n",
    "Example 4:\n",
    "    Input: s = \"\"\n",
    "    Output: 0\n",
    " \n",
    "Constraints:\n",
    "    1、0 <= s.length <= 1000\n",
    "    2、s only consists of letters 'a' and 'b'"
   ]
  },
  {
   "cell_type": "code",
   "execution_count": 23,
   "metadata": {},
   "outputs": [],
   "source": [
    "class Solution:\n",
    "    def removePalindromeSub(self, s: str) -> int:\n",
    "        if not s: return 0\n",
    "        count = 0\n",
    "        idx = 0\n",
    "        while idx < len(s):\n",
    "            idx = 0\n",
    "            while idx < len(s):\n",
    "                if s[:len(s) - idx] == s[:len(s) - idx][::-1]:\n",
    "                    count += 1\n",
    "                    break\n",
    "                else:\n",
    "                    idx += 1\n",
    "            idx += 1\n",
    "        return count\n",
    "                "
   ]
  },
  {
   "cell_type": "code",
   "execution_count": 94,
   "metadata": {},
   "outputs": [],
   "source": [
    "class Solution:\n",
    "    def removePalindromeSub(self, s: str) -> int:\n",
    "        if s=='':\n",
    "            return 0\n",
    "        return 1 if s==s[::-1] else 2"
   ]
  },
  {
   "cell_type": "code",
   "execution_count": 95,
   "metadata": {},
   "outputs": [
    {
     "data": {
      "text/plain": [
       "2"
      ]
     },
     "execution_count": 95,
     "metadata": {},
     "output_type": "execute_result"
    }
   ],
   "source": [
    "solution = Solution()\n",
    "solution.removePalindromeSub(\"bbaabaaa\")"
   ]
  },
  {
   "cell_type": "code",
   "execution_count": null,
   "metadata": {},
   "outputs": [],
   "source": []
  }
 ],
 "metadata": {
  "kernelspec": {
   "display_name": "Python 3",
   "language": "python",
   "name": "python3"
  },
  "language_info": {
   "codemirror_mode": {
    "name": "ipython",
    "version": 3
   },
   "file_extension": ".py",
   "mimetype": "text/x-python",
   "name": "python",
   "nbconvert_exporter": "python",
   "pygments_lexer": "ipython3",
   "version": "3.6.2"
  }
 },
 "nbformat": 4,
 "nbformat_minor": 4
}
