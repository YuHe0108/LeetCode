{
 "cells": [
  {
   "cell_type": "raw",
   "metadata": {},
   "source": [
    "说明：\n",
    "    给定两个相等大小的字符串s和t。在一个步骤中，您可以选择t的任何字符并将其替换为另一个字符。\n",
    "    返回使t成为anagram的最小步骤数。\n",
    "    字符串的Anagram是包含具有不同（或相同）顺序的相同字符的字符串。\n",
    "\n",
    "Example 1:\n",
    "    Input: s = \"bab\", t = \"aba\"\n",
    "    Output: 1\n",
    "    Explanation: Replace the first 'a' in t with b, t = \"bba\" which is anagram of s.\n",
    "\n",
    "Example 2:\n",
    "    Input: s = \"leetcode\", t = \"practice\"\n",
    "    Output: 5\n",
    "    Explanation: Replace 'p', 'r', 'a', 'i' and 'c' from t with proper characters to make t anagram of s.\n",
    "\n",
    "Example 3:\n",
    "    Input: s = \"anagram\", t = \"mangaar\"\n",
    "    Output: 0\n",
    "    Explanation: \"anagram\" and \"mangaar\" are anagrams. \n",
    "\n",
    "Example 4:\n",
    "    Input: s = \"xxyyzz\", t = \"xxyyzz\"\n",
    "    Output: 0\n",
    "\n",
    "Example 5:\n",
    "    Input: s = \"friend\", t = \"family\"\n",
    "    Output: 4\n",
    "\n",
    "Constraints:\n",
    "    1、1 <= s.length <= 50000\n",
    "    2、s.length == t.length\n",
    "    3、s and t contain lower-case English letters only."
   ]
  },
  {
   "cell_type": "code",
   "execution_count": 17,
   "metadata": {},
   "outputs": [],
   "source": [
    "from collections import Counter\n",
    "\n",
    "class Solution:\n",
    "    def minSteps(self, s: str, t: str) -> int:\n",
    "        s_dict = Counter(s)\n",
    "        count = 0\n",
    "        for a in t:\n",
    "            if s_dict[a] == 0:\n",
    "                count += 1\n",
    "            else:\n",
    "                s_dict[a] -= 1\n",
    "        return count"
   ]
  },
  {
   "cell_type": "code",
   "execution_count": 19,
   "metadata": {},
   "outputs": [
    {
     "data": {
      "text/plain": [
       "5"
      ]
     },
     "execution_count": 19,
     "metadata": {},
     "output_type": "execute_result"
    }
   ],
   "source": [
    "solution = Solution()\n",
    "solution.minSteps(s = \"leetcode\", t = \"practice\")"
   ]
  },
  {
   "cell_type": "code",
   "execution_count": null,
   "metadata": {},
   "outputs": [],
   "source": []
  }
 ],
 "metadata": {
  "kernelspec": {
   "display_name": "Python 3",
   "language": "python",
   "name": "python3"
  },
  "language_info": {
   "codemirror_mode": {
    "name": "ipython",
    "version": 3
   },
   "file_extension": ".py",
   "mimetype": "text/x-python",
   "name": "python",
   "nbconvert_exporter": "python",
   "pygments_lexer": "ipython3",
   "version": "3.6.2"
  }
 },
 "nbformat": 4,
 "nbformat_minor": 4
}
