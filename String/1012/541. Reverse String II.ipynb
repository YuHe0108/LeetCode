{
 "cells": [
  {
   "cell_type": "raw",
   "metadata": {},
   "source": [
    "说明：\n",
    "    给定一个字符串和一个整数k，您需要从字符串开头算起，\n",
    "    每2k个字符反转前k个字符。\n",
    "    如果剩余的字符数少于k，则将它们全部反转。\n",
    "    如果少于2k但大于或等于k个字符，则反转前k个字符，另一个保留为原始字符。"
   ]
  },
  {
   "cell_type": "code",
   "execution_count": 8,
   "metadata": {},
   "outputs": [],
   "source": [
    "class Solution:\n",
    "    def reverseStr(self, s: str, k: int) -> str:\n",
    "        if k > len(s): return s[::-1]\n",
    "        res = []\n",
    "        idx = 0\n",
    "        N = len(s)\n",
    "        while idx < len(s):\n",
    "            end = idx + k\n",
    "            res.append(s[idx: min(N, end)])\n",
    "            idx = end\n",
    "        \n",
    "        out = ''\n",
    "        for i, item in enumerate(res):\n",
    "            if i % 2 == 0:\n",
    "                out += item[::-1]\n",
    "            else:\n",
    "                out += item\n",
    "        return out"
   ]
  },
  {
   "cell_type": "code",
   "execution_count": 9,
   "metadata": {},
   "outputs": [
    {
     "data": {
      "text/plain": [
       "'bacdfegh'"
      ]
     },
     "execution_count": 9,
     "metadata": {},
     "output_type": "execute_result"
    }
   ],
   "source": [
    "solution = Solution()\n",
    "solution.reverseStr('abcdefgh', 2)"
   ]
  },
  {
   "cell_type": "code",
   "execution_count": null,
   "metadata": {},
   "outputs": [],
   "source": []
  },
  {
   "cell_type": "code",
   "execution_count": null,
   "metadata": {},
   "outputs": [],
   "source": []
  }
 ],
 "metadata": {
  "kernelspec": {
   "display_name": "Python 3",
   "language": "python",
   "name": "python3"
  },
  "language_info": {
   "codemirror_mode": {
    "name": "ipython",
    "version": 3
   },
   "file_extension": ".py",
   "mimetype": "text/x-python",
   "name": "python",
   "nbconvert_exporter": "python",
   "pygments_lexer": "ipython3",
   "version": "3.6.2"
  }
 },
 "nbformat": 4,
 "nbformat_minor": 4
}
