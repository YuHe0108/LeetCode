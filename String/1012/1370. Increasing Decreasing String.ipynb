{
 "cells": [
  {
   "cell_type": "raw",
   "metadata": {},
   "source": [
    "说明:\n",
    "    给定一个字符串s。您应该使用以下算法对字符串重新排序：\n",
    "        1、从s中选择最小的字符，并将其附加到结果中。\n",
    "        2、从s中选择一个大于最后一个追加字符的最小字符，并将其追加。\n",
    "        3、重复步骤2，直到您无法选择更多字符。\n",
    "        4、从s中选择最大的字符，并将其附加到结果中。\n",
    "        5、从s中选择比最后添加的字符小的最大字符，然后将其添加。\n",
    "        6、重复步骤5，直到您不能选择更多的字符。\n",
    "        7、重复步骤1到6，\n",
    "    直到从中选择所有字符。\n",
    "    在每个步骤中，如果最小字符或最大字符出现多次，\n",
    "    则可以选择任何出现的字符并将其附加到结果中。\n",
    "    使用此算法对s排序后返回结果字符串。\n",
    "\n",
    "Example 1:\n",
    "    Input: s = \"aaaabbbbcccc\"\n",
    "    Output: \"abccbaabccba\"\n",
    "    Explanation:    After steps 1, 2 and 3 of the first iteration, result = \"abc\"\n",
    "                    After steps 4, 5 and 6 of the first iteration, result = \"abccba\"\n",
    "                    First iteration is done. Now s = \"aabbcc\" and we go back to step 1\n",
    "                    After steps 1, 2 and 3 of the second iteration, result = \"abccbaabc\"\n",
    "                    After steps 4, 5 and 6 of the second iteration, result = \"abccbaabccba\"\n",
    "\n",
    "Example 2:\n",
    "    Input: s = \"rat\"\n",
    "    Output: \"art\"\n",
    "    Explanation: The word \"rat\" becomes \"art\" after re-ordering it with the mentioned algorithm.\n",
    "\n",
    "Example 3:\n",
    "    Input: s = \"leetcode\"\n",
    "    Output: \"cdelotee\"\n",
    "\n",
    "Example 4:\n",
    "    Input: s = \"ggggggg\"\n",
    "    Output: \"ggggggg\"\n",
    "\n",
    "Example 5:\n",
    "    Input: s = \"spo\"\n",
    "    Output: \"ops\"\n",
    " \n",
    "Constraints:\n",
    "    1、1 <= s.length <= 500\n",
    "    2、s contains only lower-case English letters."
   ]
  },
  {
   "cell_type": "code",
   "execution_count": 77,
   "metadata": {},
   "outputs": [],
   "source": [
    "class Solution:\n",
    "    def sortString(self, s: str) -> str:\n",
    "        s_dict = {}\n",
    "        for i, a in enumerate(s):\n",
    "            s_dict[i] = ord(a)\n",
    "        s_dict = sorted(s_dict.items(), key=lambda x:x[1])\n",
    "        max_val = s_dict[-1][0]\n",
    "        res = ''\n",
    "        while s_dict:\n",
    "            idx, ord_val = s_dict.pop(0)\n",
    "            res += s[idx]\n",
    "           \n",
    "            seen = []\n",
    "            while s_dict:\n",
    "                idx, ord_val = s_dict.pop(0)\n",
    "                if s[idx] > res[-1]:\n",
    "                    res += s[idx]\n",
    "                else:\n",
    "                    seen.append((idx, ord_val))\n",
    "                \n",
    "            s_dict, seen = seen, s_dict\n",
    "            while s_dict:\n",
    "                idx, ord_val = s_dict.pop()\n",
    "                if s[idx] < res[-1]:\n",
    "                    res += s[idx]\n",
    "                else:\n",
    "                    seen.append((idx, ord_val))\n",
    "            s_dict = seen\n",
    "        return res"
   ]
  },
  {
   "cell_type": "code",
   "execution_count": 125,
   "metadata": {},
   "outputs": [],
   "source": [
    "class Solution:\n",
    "    def sortString(self, s: str) -> str:\n",
    "        s_list = list(s)\n",
    "        s_list.sort()\n",
    "        res = ''\n",
    "        while s_list:\n",
    "            val = s_list.pop(0)\n",
    "            res += val\n",
    "            \n",
    "            seen = []\n",
    "            while s_list:\n",
    "                val = s_list.pop(0)\n",
    "                if val > res[-1]:\n",
    "                    res += val\n",
    "                else:\n",
    "                    seen.append(val)\n",
    "            \n",
    "            s_list, seen = seen, s_list\n",
    "            if s_list:\n",
    "                val = s_list.pop()\n",
    "                res += val\n",
    "            while s_list:\n",
    "                val = s_list.pop()\n",
    "                if val < res[-1]:\n",
    "                    res += val\n",
    "                else:\n",
    "                    seen.insert(0, val)\n",
    "            s_list = seen\n",
    "        return res"
   ]
  },
  {
   "cell_type": "code",
   "execution_count": 126,
   "metadata": {},
   "outputs": [
    {
     "data": {
      "text/plain": [
       "'abccbaabccba'"
      ]
     },
     "execution_count": 126,
     "metadata": {},
     "output_type": "execute_result"
    }
   ],
   "source": [
    "solution = Solution()\n",
    "solution.sortString(\"aaaabbbbcccc\")"
   ]
  },
  {
   "cell_type": "code",
   "execution_count": 62,
   "metadata": {},
   "outputs": [
    {
     "name": "stdout",
     "output_type": "stream",
     "text": [
      "True\n"
     ]
    }
   ],
   "source": [
    "\"abcbacaabcbc\"\n",
    "\"abccbaabccba\""
   ]
  },
  {
   "cell_type": "code",
   "execution_count": null,
   "metadata": {},
   "outputs": [],
   "source": [
    "a = "
   ]
  }
 ],
 "metadata": {
  "kernelspec": {
   "display_name": "Python 3",
   "language": "python",
   "name": "python3"
  },
  "language_info": {
   "codemirror_mode": {
    "name": "ipython",
    "version": 3
   },
   "file_extension": ".py",
   "mimetype": "text/x-python",
   "name": "python",
   "nbconvert_exporter": "python",
   "pygments_lexer": "ipython3",
   "version": "3.6.2"
  }
 },
 "nbformat": 4,
 "nbformat_minor": 4
}
