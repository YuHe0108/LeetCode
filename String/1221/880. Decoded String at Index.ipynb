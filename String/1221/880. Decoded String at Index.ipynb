{
 "cells": [
  {
   "cell_type": "code",
   "execution_count": null,
   "metadata": {},
   "outputs": [],
   "source": []
  },
  {
   "cell_type": "code",
   "execution_count": null,
   "metadata": {},
   "outputs": [],
   "source": []
  },
  {
   "cell_type": "code",
   "execution_count": null,
   "metadata": {},
   "outputs": [],
   "source": []
  },
  {
   "cell_type": "code",
   "execution_count": 107,
   "metadata": {},
   "outputs": [],
   "source": [
    "# 试着保存所有的 解码 S\n",
    "class Solution:\n",
    "    def decodeAtIndex(self, S: str, K: int) -> str:\n",
    "        decode = ''\n",
    "        n = len(S)\n",
    "        idx = 0 \n",
    "        while idx < n:\n",
    "            if S[idx].isalpha():\n",
    "                decode += S[idx]\n",
    "                idx += 1\n",
    "            else:\n",
    "                num = 1\n",
    "                while idx < n and S[idx].isnumeric():\n",
    "                    num *= int(S[idx])\n",
    "                    if K <= num * len(decode):\n",
    "                        mod_val = K % len(decode)\n",
    "                        return decode[mod_val - 1]\n",
    "                    idx += 1\n",
    "                print(num, len(decode))\n",
    "                decode *= num\n",
    "        return decode[K-1]"
   ]
  },
  {
   "cell_type": "code",
   "execution_count": 113,
   "metadata": {},
   "outputs": [],
   "source": [
    "class Solution:\n",
    "    def decodeAtIndex(self, S: str, K: int) -> str:\n",
    "        # 不能用字符串来存这个S，否则会内存溢出\n",
    "        # 思路是找规律，规律是在长度为size*n的子串中求K位置的字符，等于求K%size的字符\n",
    "        # 第一步先求出子串的size\n",
    "        size = 0\n",
    "        for ch in S:\n",
    "            if ch.isdigit():\n",
    "                size *= int(ch)\n",
    "            else:\n",
    "                size += 1\n",
    "        # 第二步，从后往前遍历S，通过size/n不断缩小字符串规模\n",
    "        # 当K % size == 0 且不为数字时，则表示找到了对应字符\n",
    "        for i in S[::-1]:\n",
    "            # 当i为数字的时候，K%size取余也可能为0，因为K可以正好等于size的n倍\n",
    "            # 所以还要继续缩短size的规模,k也应该随着size的减小而缩小规模\n",
    "            K %= size\n",
    "            if K == 0 and i.isalpha():\n",
    "                return i\n",
    "            if i.isdigit():\n",
    "                size /= int(i)\n",
    "            else:\n",
    "                size -= 1"
   ]
  },
  {
   "cell_type": "code",
   "execution_count": null,
   "metadata": {},
   "outputs": [],
   "source": []
  },
  {
   "cell_type": "markdown",
   "metadata": {},
   "source": [
    "### 使用递归的方法"
   ]
  },
  {
   "cell_type": "code",
   "execution_count": 117,
   "metadata": {},
   "outputs": [],
   "source": [
    "class Solution:\n",
    "    def decodeAtIndex(self, S: str, K: int) -> str:\n",
    "        cnt = 0 # 记录解码字符的长度\n",
    "        for i in range(len(S)):\n",
    "            char = S[i]\n",
    "            if char.isalpha():\n",
    "                cnt += 1\n",
    "                if cnt == K:\n",
    "                    return char\n",
    "            else:\n",
    "                times = int(char) # 遇到数字扩充倍数\n",
    "                if cnt * times < K: # 如果 K 大于当前的 num\n",
    "                    cnt *= times\n",
    "                elif K % cnt == 0:\n",
    "                    # K < cnt * times, 说明在S[:i] 的substr中，存在我们要的值\n",
    "                    # 因为 K % cnt == 0, 所以我们想要的字母的长度就是 cnt\n",
    "                    return self.decodeAtIndex(S[:i], cnt)\n",
    "                else:\n",
    "                    # K % cnt: 循环节的第几个字母\n",
    "                    return self.decodeAtIndex(S[:i], K % cnt)\n",
    "        return ''"
   ]
  },
  {
   "cell_type": "code",
   "execution_count": 118,
   "metadata": {},
   "outputs": [
    {
     "data": {
      "text/plain": [
       "'o'"
      ]
     },
     "execution_count": 118,
     "metadata": {},
     "output_type": "execute_result"
    }
   ],
   "source": [
    "solution = Solution()\n",
    "solution.decodeAtIndex(\"gc8hoa2l4lyc7cx6grev7o2qgmolppnwwgexaur2v8paml69syh2tavusb4jthoqelszpmkq2l3jem2aezlhy5c8uaibvyowbjb2\",\n",
    "                       874960845)"
   ]
  },
  {
   "cell_type": "code",
   "execution_count": null,
   "metadata": {},
   "outputs": [],
   "source": []
  }
 ],
 "metadata": {
  "kernelspec": {
   "display_name": "Python 3",
   "language": "python",
   "name": "python3"
  },
  "language_info": {
   "codemirror_mode": {
    "name": "ipython",
    "version": 3
   },
   "file_extension": ".py",
   "mimetype": "text/x-python",
   "name": "python",
   "nbconvert_exporter": "python",
   "pygments_lexer": "ipython3",
   "version": "3.6.2"
  }
 },
 "nbformat": 4,
 "nbformat_minor": 4
}
