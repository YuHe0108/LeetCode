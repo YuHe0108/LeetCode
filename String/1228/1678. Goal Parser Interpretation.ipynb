{
 "cells": [
  {
   "cell_type": "code",
   "execution_count": null,
   "metadata": {},
   "outputs": [],
   "source": [
    "class Solution:\n",
    "    def interpret(self, command: str) -> str:\n",
    "        res = ''\n",
    "        idx = 0\n",
    "        n = len(command)\n",
    "        while idx < n:\n",
    "            char = command[idx]\n",
    "            if char == 'G':\n",
    "                res += 'G'\n",
    "            elif char == '(':\n",
    "                if command[idx+1] == ')':\n",
    "                    res += 'o'\n",
    "                    idx += 1\n",
    "                elif command[idx+1] == 'a':\n",
    "                    res += 'al'\n",
    "                    idx += 2\n",
    "            idx += 1\n",
    "        return res"
   ]
  }
 ],
 "metadata": {
  "kernelspec": {
   "display_name": "Python 3",
   "language": "python",
   "name": "python3"
  },
  "language_info": {
   "codemirror_mode": {
    "name": "ipython",
    "version": 3
   },
   "file_extension": ".py",
   "mimetype": "text/x-python",
   "name": "python",
   "nbconvert_exporter": "python",
   "pygments_lexer": "ipython3",
   "version": "3.6.2"
  }
 },
 "nbformat": 4,
 "nbformat_minor": 4
}
