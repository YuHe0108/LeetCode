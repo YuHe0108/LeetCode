{
 "cells": [
  {
   "cell_type": "code",
   "execution_count": 2,
   "metadata": {},
   "outputs": [
    {
     "data": {
      "text/plain": [
       "True"
      ]
     },
     "execution_count": 2,
     "metadata": {},
     "output_type": "execute_result"
    }
   ],
   "source": [
    "'g1' > 'a8'"
   ]
  },
  {
   "cell_type": "code",
   "execution_count": 92,
   "metadata": {},
   "outputs": [],
   "source": [
    "from collections import defaultdict\n",
    "\n",
    "class Solution:\n",
    "    def reorderLogFiles(self, logs):\n",
    "        digits = []\n",
    "        letters = {} # 都是字母\n",
    "        head_letter = {} # 标识字母\n",
    "        info2idx = defaultdict(list) # 相同的info，记录idx\n",
    "        for i, log in enumerate(logs):\n",
    "            list_log = log.split(' ')\n",
    "            info = ''.join(list_log[1:])\n",
    "            content = ' '.join(list_log[1:])\n",
    "            if info.isalpha():\n",
    "                letters[i] = content\n",
    "                head_letter[i] = list_log[0]\n",
    "                info2idx[content].append(i)\n",
    "            else:\n",
    "                digits.append(log)\n",
    "        \n",
    "        letter_log = sorted(letters.items(), key=lambda x: x[1])\n",
    "        res = []\n",
    "        seen = set()\n",
    "        for idx, info in letter_log:\n",
    "            if info in seen:\n",
    "                continue\n",
    "            seen.add(info)\n",
    "            if len(info2idx[info]) == 1:\n",
    "                res.append(logs[idx])\n",
    "            else:\n",
    "                head = {}\n",
    "                for i in info2idx[info]:\n",
    "                    head[i] = head_letter[i]\n",
    "                head = sorted(head.items(), key=lambda x:x[1])\n",
    "                for k, v in head:\n",
    "                    res.append(logs[k])\n",
    "        res.extend(digits)\n",
    "        return res"
   ]
  },
  {
   "cell_type": "code",
   "execution_count": 93,
   "metadata": {},
   "outputs": [
    {
     "data": {
      "text/plain": [
       "['5 m w', 'j mo', 't q h', 'g 07', 'o 2 0']"
      ]
     },
     "execution_count": 93,
     "metadata": {},
     "output_type": "execute_result"
    }
   ],
   "source": [
    "solution = Solution()\n",
    "solution.reorderLogFiles([\"j mo\", \"5 m w\", \"g 07\", \"o 2 0\", \"t q h\"])"
   ]
  },
  {
   "cell_type": "code",
   "execution_count": 91,
   "metadata": {},
   "outputs": [
    {
     "data": {
      "text/plain": [
       "False"
      ]
     },
     "execution_count": 91,
     "metadata": {},
     "output_type": "execute_result"
    }
   ],
   "source": [
    "'a b'.isalpha()"
   ]
  },
  {
   "cell_type": "code",
   "execution_count": 72,
   "metadata": {},
   "outputs": [
    {
     "data": {
      "text/plain": [
       "True"
      ]
     },
     "execution_count": 72,
     "metadata": {},
     "output_type": "execute_result"
    }
   ],
   "source": [
    "'mo' > 'm w'"
   ]
  },
  {
   "cell_type": "code",
   "execution_count": 67,
   "metadata": {},
   "outputs": [
    {
     "data": {
      "text/plain": [
       "False"
      ]
     },
     "execution_count": 67,
     "metadata": {},
     "output_type": "execute_result"
    }
   ],
   "source": [
    "'actcar' > 'actzoo'"
   ]
  },
  {
   "cell_type": "code",
   "execution_count": 73,
   "metadata": {},
   "outputs": [
    {
     "data": {
      "text/plain": [
       "True"
      ]
     },
     "execution_count": 73,
     "metadata": {},
     "output_type": "execute_result"
    }
   ],
   "source": [
    "['mo'] > ['m', 'w']"
   ]
  },
  {
   "cell_type": "code",
   "execution_count": null,
   "metadata": {},
   "outputs": [],
   "source": [
    "from collections import defaultdict\n",
    "\n",
    "class Solution:\n",
    "    def reorderLogFiles(self, logs):\n",
    "        digits = []\n",
    "        letters = {} # 都是字母\n",
    "        head_letter = {} # 标识字母\n",
    "        info2idx = defaultdict(list) # 相同的info，记录idx\n",
    "        for i, log in enumerate(logs):\n",
    "            list_log = log.split(' ')\n",
    "            info = ''.join(list_log[1:])\n",
    "            if info.isalpha():\n",
    "                letters[i] = info\n",
    "                head_letter[i] = list_log[0]\n",
    "                info2idx[info].append(i)\n",
    "            else:\n",
    "                digits.append(log)\n",
    "        \n",
    "        letter_log = sorted(letters.items(), key=lambda x: x[1])\n",
    "        res = []\n",
    "        seen = set()\n",
    "        for idx, info in letter_log:\n",
    "            if info in seen:\n",
    "                continue\n",
    "            seen.add(info)\n",
    "            if len(info2idx[info]) == 1:\n",
    "                res.append(logs[idx])\n",
    "            else:\n",
    "                head = {}\n",
    "                for i in info2idx[info]:\n",
    "                    head[i] = head_letter[i]\n",
    "                head = sorted(head.items(), key=lambda x:x[1])\n",
    "                for k, v in head:\n",
    "                    res.append(logs[k])\n",
    "        res.extend(digits)\n",
    "        return res"
   ]
  }
 ],
 "metadata": {
  "kernelspec": {
   "display_name": "Python 3",
   "language": "python",
   "name": "python3"
  },
  "language_info": {
   "codemirror_mode": {
    "name": "ipython",
    "version": 3
   },
   "file_extension": ".py",
   "mimetype": "text/x-python",
   "name": "python",
   "nbconvert_exporter": "python",
   "pygments_lexer": "ipython3",
   "version": "3.6.2"
  }
 },
 "nbformat": 4,
 "nbformat_minor": 4
}
