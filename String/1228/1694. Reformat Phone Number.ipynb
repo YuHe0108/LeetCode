{
 "cells": [
  {
   "cell_type": "code",
   "execution_count": null,
   "metadata": {},
   "outputs": [],
   "source": []
  },
  {
   "cell_type": "code",
   "execution_count": null,
   "metadata": {},
   "outputs": [],
   "source": []
  },
  {
   "cell_type": "code",
   "execution_count": null,
   "metadata": {},
   "outputs": [],
   "source": [
    "class Solution:\n",
    "    def reformatNumber(self, number: str) -> str:\n",
    "        str_num = ''\n",
    "        for n in number:\n",
    "            if n.isdigit():\n",
    "                str_num += n\n",
    "        \n",
    "        res = ''\n",
    "        idx = 0\n",
    "        n = len(str_num)\n",
    "        while n - idx > 0 and n - idx not in {2, 3, 4}:\n",
    "            res += str_num[idx:idx+3] + '-'\n",
    "            idx += 3\n",
    "        \n",
    "        left_num = n - idx\n",
    "        if left_num == 2:\n",
    "            res += str_num[idx:] \n",
    "        elif left_num == 3:\n",
    "            res += str_num[idx:]\n",
    "        elif left_num == 4:\n",
    "            res += str_num[idx:idx+2] + '-' + str_num[idx+2:idx+4]\n",
    "        return res\n",
    "    "
   ]
  }
 ],
 "metadata": {
  "kernelspec": {
   "display_name": "Python 3",
   "language": "python",
   "name": "python3"
  },
  "language_info": {
   "codemirror_mode": {
    "name": "ipython",
    "version": 3
   },
   "file_extension": ".py",
   "mimetype": "text/x-python",
   "name": "python",
   "nbconvert_exporter": "python",
   "pygments_lexer": "ipython3",
   "version": "3.6.2"
  }
 },
 "nbformat": 4,
 "nbformat_minor": 4
}
