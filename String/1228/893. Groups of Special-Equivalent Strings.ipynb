{
 "cells": [
  {
   "cell_type": "code",
   "execution_count": null,
   "metadata": {},
   "outputs": [],
   "source": []
  },
  {
   "cell_type": "code",
   "execution_count": null,
   "metadata": {},
   "outputs": [],
   "source": [
    "\n",
    "class Solution:\n",
    "    def numSpecialEquivGroups(self, A: List[str]) -> int:\n",
    "        count = defaultdict(int)\n",
    "        for w in A:\n",
    "            even_str = [a for i, a in enumerate(w) if i % 2 == 0]\n",
    "            odd_str = [a for i, a in enumerate(w) if i % 2 == 1]\n",
    "            s = ''.join(sorted(even_str)) + ''.join(sorted(odd_str))\n",
    "            count[s] += 1\n",
    "        return len(count)\n",
    "            "
   ]
  }
 ],
 "metadata": {
  "kernelspec": {
   "display_name": "Python 3",
   "language": "python",
   "name": "python3"
  },
  "language_info": {
   "codemirror_mode": {
    "name": "ipython",
    "version": 3
   },
   "file_extension": ".py",
   "mimetype": "text/x-python",
   "name": "python",
   "nbconvert_exporter": "python",
   "pygments_lexer": "ipython3",
   "version": "3.6.2"
  }
 },
 "nbformat": 4,
 "nbformat_minor": 4
}
