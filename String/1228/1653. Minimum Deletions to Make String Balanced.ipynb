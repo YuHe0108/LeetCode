{
 "cells": [
  {
   "cell_type": "code",
   "execution_count": null,
   "metadata": {},
   "outputs": [],
   "source": []
  },
  {
   "cell_type": "code",
   "execution_count": null,
   "metadata": {},
   "outputs": [],
   "source": []
  },
  {
   "cell_type": "code",
   "execution_count": 3,
   "metadata": {},
   "outputs": [],
   "source": [
    "from collections import defaultdict\n",
    "\n",
    "class Solution:\n",
    "    def minimumDeletions(self, s: str) -> int:\n",
    "        a_last_idx = -float('inf') # 最后一个a之前的\n",
    "        b_first_idx = float('inf')\n",
    "        for i, a in enumerate(s):\n",
    "            count[a].append(i)\n",
    "        # 将a之前的b都删掉\n",
    "        return"
   ]
  },
  {
   "cell_type": "code",
   "execution_count": null,
   "metadata": {},
   "outputs": [],
   "source": []
  },
  {
   "cell_type": "code",
   "execution_count": null,
   "metadata": {},
   "outputs": [],
   "source": []
  },
  {
   "cell_type": "code",
   "execution_count": 5,
   "metadata": {},
   "outputs": [],
   "source": [
    "class Solution:\n",
    "    def minimumDeletions(self, s: str) -> int:\n",
    "        dp_a, dp_b = 0, 0\n",
    "        for si in s:\n",
    "            if si == 'a':\n",
    "                dp_b += 1\n",
    "            else:\n",
    "                dp_a, dp_b = dp_a+1, min(dp_a, dp_b)\n",
    "        return min(dp_a, dp_b)"
   ]
  },
  {
   "cell_type": "code",
   "execution_count": null,
   "metadata": {},
   "outputs": [],
   "source": []
  },
  {
   "cell_type": "code",
   "execution_count": null,
   "metadata": {},
   "outputs": [],
   "source": []
  },
  {
   "cell_type": "code",
   "execution_count": 25,
   "metadata": {},
   "outputs": [],
   "source": [
    "class Solution:\n",
    "    def minimumDeletions(self, s: str) -> int:\n",
    "        # dp[0] 表示以 a 结尾，并且满足题目要求的最少删除元素的数量\n",
    "        # dp[1] 表示以 b 结尾，并且满足题目要求的最少删除元素的数量\n",
    "        dp = [0] * 2 # 假设一开始一个元素都没有，那么最少删除的元素就是 0\n",
    "        for a in s:\n",
    "            t_dp = dp[::]\n",
    "            if a == 'a':\n",
    "                # 可以删除当前的这个字母，或者不删除\n",
    "                t_dp[0] = dp[0] # a可以在 a 的后面,此时不需要删除\n",
    "                t_dp[1] = dp[1] + 1 # a不能在 b的后面，需要删除\n",
    "            else: #如果是　ｂ\n",
    "                t_dp[0] = dp[0] + 1\n",
    "                t_dp[1] = min(dp[1], dp[0]) # 当前值是b的话，既可以在a的后面，也可以在 b的后面，取最小值就行\n",
    "            dp = t_dp\n",
    "        return min(dp)"
   ]
  },
  {
   "cell_type": "code",
   "execution_count": 26,
   "metadata": {},
   "outputs": [
    {
     "data": {
      "text/plain": [
       "4"
      ]
     },
     "execution_count": 26,
     "metadata": {},
     "output_type": "execute_result"
    }
   ],
   "source": [
    "solution = Solution()\n",
    "solution.minimumDeletions(s = \"aababbab\")"
   ]
  },
  {
   "cell_type": "code",
   "execution_count": null,
   "metadata": {},
   "outputs": [],
   "source": []
  }
 ],
 "metadata": {
  "kernelspec": {
   "display_name": "Python 3",
   "language": "python",
   "name": "python3"
  },
  "language_info": {
   "codemirror_mode": {
    "name": "ipython",
    "version": 3
   },
   "file_extension": ".py",
   "mimetype": "text/x-python",
   "name": "python",
   "nbconvert_exporter": "python",
   "pygments_lexer": "ipython3",
   "version": "3.6.2"
  }
 },
 "nbformat": 4,
 "nbformat_minor": 4
}
