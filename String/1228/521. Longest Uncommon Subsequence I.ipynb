{
 "cells": [
  {
   "cell_type": "code",
   "execution_count": null,
   "metadata": {},
   "outputs": [],
   "source": []
  },
  {
   "cell_type": "raw",
   "metadata": {},
   "source": [
    "我感觉该题的题目描述有很多迷惑人的地方，比如可以删除中间字符这样的描述很容易就让人想偏了，\n",
    "对于该题主要有两个大的分支：\n",
    "1.字符串长度不相等：在这种情况下，因为字符串本身就是自己的子序列，且较长的字符串肯定不能是短的字符串的子序列，所以此时较长字符串的长度肯定就是结果\n",
    "2.字符串长度相等： 此时又分为两种情况，第一个为两个字符串完全相同，输出-1，另一个两个字符串不相同，则此时最长子序列即字符串本身肯定不可能和另一个字符串一样，所以输出字符串长度。\n",
    "\n",
    "作者：object123\n",
    "链接：https://leetcode-cn.com/problems/longest-uncommon-subsequence-i/solution/zui-chang-zi-xu-lie-jian-dan-fen-xi-by-object123/\n",
    "来源：力扣（LeetCode）\n",
    "著作权归作者所有。商业转载请联系作者获得授权，非商业转载请注明出处。"
   ]
  },
  {
   "cell_type": "code",
   "execution_count": null,
   "metadata": {},
   "outputs": [],
   "source": [
    "class Solution:\n",
    "    def findLUSlength(self, a: str, b: str) -> int:\n",
    "        if a == b:\n",
    "            return -1\n",
    "        n = len(a)\n",
    "        m = len(b)\n",
    "        if len(a) != len(b):\n",
    "            return n if n>m else m\n",
    "        return n\n"
   ]
  }
 ],
 "metadata": {
  "kernelspec": {
   "display_name": "Python 3",
   "language": "python",
   "name": "python3"
  },
  "language_info": {
   "codemirror_mode": {
    "name": "ipython",
    "version": 3
   },
   "file_extension": ".py",
   "mimetype": "text/x-python",
   "name": "python",
   "nbconvert_exporter": "python",
   "pygments_lexer": "ipython3",
   "version": "3.6.2"
  }
 },
 "nbformat": 4,
 "nbformat_minor": 4
}
