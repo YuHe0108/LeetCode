{
 "cells": [
  {
   "cell_type": "raw",
   "metadata": {},
   "source": [
    "    给你一个字符串 s 和一个 长度相同 的整数数组 indices 。\n",
    "\n",
    "    请你重新排列字符串 s ，其中第 i 个字符需要移动到 indices[i] 指示的位置。\n",
    "\n",
    "    返回重新排列后的字符串。\n",
    "\n",
    "示例 1：\n",
    "    输入：s = \"codeleet\", indices = [4,5,6,7,0,2,1,3]\n",
    "    输出：\"leetcode\"\n",
    "    解释：如图所示，\"codeleet\" 重新排列后变为 \"leetcode\" 。\n",
    "\n",
    "示例 2：\n",
    "    输入：s = \"abc\", indices = [0,1,2]\n",
    "    输出：\"abc\"\n",
    "    解释：重新排列后，每个字符都还留在原来的位置上。\n",
    "\n",
    "示例 3：\n",
    "    输入：s = \"aiohn\", indices = [3,1,4,2,0]\n",
    "    输出：\"nihao\"\n",
    "\n",
    "示例 4：\n",
    "    输入：s = \"aaiougrt\", indices = [4,0,2,6,7,3,1,5]\n",
    "    输出：\"arigatou\"\n",
    "\n",
    "示例 5：\n",
    "    输入：s = \"art\", indices = [1,0,2]\n",
    "    输出：\"rat\"\n",
    "\n",
    "提示：\n",
    "    s.length == indices.length == n\n",
    "    1 <= n <= 100\n",
    "    s 仅包含小写英文字母。\n",
    "    0 <= indices[i] < n\n",
    "    indices 的所有的值都是唯一的（也就是说，indices 是整数 0 到 n - 1 形成的一组排列）。"
   ]
  },
  {
   "cell_type": "markdown",
   "metadata": {},
   "source": [
    "<img src='https://assets.leetcode-cn.com/aliyun-lc-upload/uploads/2020/07/26/q1.jpg'>"
   ]
  },
  {
   "cell_type": "code",
   "execution_count": null,
   "metadata": {},
   "outputs": [],
   "source": [
    "class Solution:\n",
    "    def restoreString(self, s: str, indices: List[int]) -> str:\n",
    "        res = [''] * len(s)\n",
    "        for i, idx in enumerate(indices):\n",
    "            res[idx] = s[i]\n",
    "        return ''.join(res)"
   ]
  }
 ],
 "metadata": {
  "kernelspec": {
   "display_name": "Python 3",
   "language": "python",
   "name": "python3"
  },
  "language_info": {
   "codemirror_mode": {
    "name": "ipython",
    "version": 3
   },
   "file_extension": ".py",
   "mimetype": "text/x-python",
   "name": "python",
   "nbconvert_exporter": "python",
   "pygments_lexer": "ipython3",
   "version": "3.6.2"
  }
 },
 "nbformat": 4,
 "nbformat_minor": 4
}
