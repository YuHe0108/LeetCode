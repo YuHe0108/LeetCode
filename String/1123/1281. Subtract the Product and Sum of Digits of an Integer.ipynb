{
 "cells": [
  {
   "cell_type": "raw",
   "metadata": {},
   "source": [
    "    给你一个整数 n，请你帮忙计算并返回该整数「各位数字之积」与「各位数字之和」的差。\n",
    "\n",
    "示例 1：\n",
    "    输入：n = 234\n",
    "    输出：15 \n",
    "    解释：\n",
    "        各位数之积 = 2 * 3 * 4 = 24 \n",
    "        各位数之和 = 2 + 3 + 4 = 9 \n",
    "        结果 = 24 - 9 = 15\n",
    "\n",
    "示例 2：\n",
    "    输入：n = 4421\n",
    "    输出：21\n",
    "    解释： \n",
    "        各位数之积 = 4 * 4 * 2 * 1 = 32 \n",
    "        各位数之和 = 4 + 4 + 2 + 1 = 11 \n",
    "        结果 = 32 - 11 = 21\n",
    "提示：\n",
    "    1 <= n <= 10^5"
   ]
  },
  {
   "cell_type": "code",
   "execution_count": 3,
   "metadata": {},
   "outputs": [],
   "source": [
    "class Solution:\n",
    "    def subtractProductAndSum(self, n: int) -> int:\n",
    "        nums = []\n",
    "        while n:\n",
    "            nums.append(n % 10)\n",
    "            n //= 10\n",
    "        return reduce(lambda x, y: x*y, nums) - reduce(lambda x, y: x+y, nums)"
   ]
  },
  {
   "cell_type": "code",
   "execution_count": null,
   "metadata": {},
   "outputs": [],
   "source": [
    "s"
   ]
  }
 ],
 "metadata": {
  "kernelspec": {
   "display_name": "Python 3",
   "language": "python",
   "name": "python3"
  },
  "language_info": {
   "codemirror_mode": {
    "name": "ipython",
    "version": 3
   },
   "file_extension": ".py",
   "mimetype": "text/x-python",
   "name": "python",
   "nbconvert_exporter": "python",
   "pygments_lexer": "ipython3",
   "version": "3.6.2"
  }
 },
 "nbformat": 4,
 "nbformat_minor": 4
}
