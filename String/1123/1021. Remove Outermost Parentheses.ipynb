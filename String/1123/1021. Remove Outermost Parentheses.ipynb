{
 "cells": [
  {
   "cell_type": "raw",
   "metadata": {},
   "source": [
    "    有效括号字符串为空 (\"\")、\"(\" + A + \")\" 或 A + B，其中 A 和 B 都是有效的括号字符串，+ 代表字符串的连接。例如，\"\"，\"()\"，\"(())()\" 和 \"(()(()))\" 都是有效的括号字符串。\n",
    "\n",
    "    如果有效字符串 S 非空，且不存在将其拆分为 S = A+B 的方法，我们称其为原语（primitive），其中 A 和 B 都是非空有效括号字符串。\n",
    "\n",
    "    给出一个非空有效字符串 S，考虑将其进行原语化分解，使得：S = P_1 + P_2 + ... + P_k，其中 P_i 是有效括号字符串原语。\n",
    "\n",
    "    对 S 进行原语化分解，删除分解中每个原语字符串的最外层括号，返回 S 。\n",
    "\n",
    "\n",
    "示例 1：\n",
    "    输入：\"(()())(())\"\n",
    "    输出：\"()()()\"\n",
    "    解释：\n",
    "        输入字符串为 \"(()())(())\"，原语化分解得到 \"(()())\" + \"(())\"，\n",
    "        删除每个部分中的最外层括号后得到 \"()()\" + \"()\" = \"()()()\"。\n",
    "\n",
    "示例 2：\n",
    "    输入：\"(()())(())(()(()))\"\n",
    "    输出：\"()()()()(())\"\n",
    "    解释：\n",
    "        输入字符串为 \"(()())(())(()(()))\"，原语化分解得到 \"(()())\" + \"(())\" + \"(()(()))\"，\n",
    "        删除每个部分中的最外层括号后得到 \"()()\" + \"()\" + \"()(())\" = \"()()()()(())\"。\n",
    "\n",
    "示例 3：\n",
    "    输入：\"()()\"\n",
    "    输出：\"\"\n",
    "    解释：\n",
    "        输入字符串为 \"()()\"，原语化分解得到 \"()\" + \"()\"，\n",
    "        删除每个部分中的最外层括号后得到 \"\" + \"\" = \"\"。\n",
    "\n",
    "提示：\n",
    "    S.length <= 10000\n",
    "    S[i] 为 \"(\" 或 \")\"\n",
    "    S 是一个有效括号字符串"
   ]
  },
  {
   "cell_type": "code",
   "execution_count": 24,
   "metadata": {},
   "outputs": [],
   "source": [
    "class Solution:\n",
    "    def removeOuterParentheses(self, S: str) -> str:\n",
    "        res = []\n",
    "        l_cnt = r_cnt = 0\n",
    "        temp = ''\n",
    "        for s in S:\n",
    "            if s == '(':\n",
    "                l_cnt += 1\n",
    "            else:\n",
    "                r_cnt += 1\n",
    "            temp += s\n",
    "            if l_cnt == r_cnt != 0:\n",
    "                l_cnt = r_cnt = 0\n",
    "                res.append(temp[1:-1])\n",
    "                temp = ''\n",
    "        return ''.join(res)"
   ]
  },
  {
   "cell_type": "code",
   "execution_count": 25,
   "metadata": {},
   "outputs": [
    {
     "data": {
      "text/plain": [
       "'()()()'"
      ]
     },
     "execution_count": 25,
     "metadata": {},
     "output_type": "execute_result"
    }
   ],
   "source": [
    "solution = Solution()\n",
    "solution.removeOuterParentheses(\"(()())(())\")"
   ]
  },
  {
   "cell_type": "code",
   "execution_count": null,
   "metadata": {},
   "outputs": [],
   "source": []
  }
 ],
 "metadata": {
  "kernelspec": {
   "display_name": "Python 3",
   "language": "python",
   "name": "python3"
  },
  "language_info": {
   "codemirror_mode": {
    "name": "ipython",
    "version": 3
   },
   "file_extension": ".py",
   "mimetype": "text/x-python",
   "name": "python",
   "nbconvert_exporter": "python",
   "pygments_lexer": "ipython3",
   "version": "3.6.2"
  }
 },
 "nbformat": 4,
 "nbformat_minor": 4
}
