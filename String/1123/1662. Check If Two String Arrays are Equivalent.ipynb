{
 "cells": [
  {
   "cell_type": "raw",
   "metadata": {},
   "source": [
    "    给你两个字符串数组 word1 和 word2 。\n",
    "    如果两个数组表示的字符串相同，返回 true ；否则，返回 false 。\n",
    "\n",
    "    数组表示的字符串 是由数组中的所有元素 按顺序 连接形成的字符串。\n",
    "\n",
    "示例 1：\n",
    "    输入：word1 = [\"ab\", \"c\"], word2 = [\"a\", \"bc\"]\n",
    "    输出：true\n",
    "    解释：\n",
    "        word1 表示的字符串为 \"ab\" + \"c\" -> \"abc\"\n",
    "        word2 表示的字符串为 \"a\" + \"bc\" -> \"abc\"\n",
    "        两个字符串相同，返回 true\n",
    "\n",
    "示例 2：\n",
    "    输入：word1 = [\"a\", \"cb\"], word2 = [\"ab\", \"c\"]\n",
    "    输出：false\n",
    "\n",
    "示例 3：\n",
    "    输入：word1  = [\"abc\", \"d\", \"defg\"], word2 = [\"abcddefg\"]\n",
    "    输出：true\n",
    "\n",
    "提示：\n",
    "    1 <= word1.length, word2.length <= 103\n",
    "    1 <= word1[i].length, word2[i].length <= 103\n",
    "    1 <= sum(word1[i].length), sum(word2[i].length) <= 103\n",
    "    word1[i] 和 word2[i] 由小写字母组成"
   ]
  },
  {
   "cell_type": "code",
   "execution_count": null,
   "metadata": {},
   "outputs": [],
   "source": [
    "class Solution:\n",
    "    def arrayStringsAreEqual(self, word1: List[str], word2: List[str]) -> bool:\n",
    "        s1 = ''.join(word1)\n",
    "        s2 = ''.join(word2)\n",
    "        return s1 == s2"
   ]
  }
 ],
 "metadata": {
  "kernelspec": {
   "display_name": "Python 3",
   "language": "python",
   "name": "python3"
  },
  "language_info": {
   "codemirror_mode": {
    "name": "ipython",
    "version": 3
   },
   "file_extension": ".py",
   "mimetype": "text/x-python",
   "name": "python",
   "nbconvert_exporter": "python",
   "pygments_lexer": "ipython3",
   "version": "3.6.2"
  }
 },
 "nbformat": 4,
 "nbformat_minor": 4
}
