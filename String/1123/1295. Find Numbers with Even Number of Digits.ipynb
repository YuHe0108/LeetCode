{
 "cells": [
  {
   "cell_type": "raw",
   "metadata": {},
   "source": [
    "    给你一个整数数组 nums，请你返回其中 位数 为 偶数 的数字的个数。\n",
    "\n",
    "示例 1：\n",
    "    输入：nums = [12,345,2,6,7896]\n",
    "    输出：2\n",
    "    解释：\n",
    "        12 是 2 位数字（位数为偶数） \n",
    "        345 是 3 位数字（位数为奇数）  \n",
    "        2 是 1 位数字（位数为奇数） \n",
    "        6 是 1 位数字 位数为奇数） \n",
    "        7896 是 4 位数字（位数为偶数）  \n",
    "        因此只有 12 和 7896 是位数为偶数的数字\n",
    "\n",
    "示例 2：\n",
    "    输入：nums = [555,901,482,1771]\n",
    "    输出：1 \n",
    "    解释： \n",
    "        只有 1771 是位数为偶数的数字。\n",
    "\n",
    "提示：\n",
    "    1 <= nums.length <= 500\n",
    "    1 <= nums[i] <= 10^5"
   ]
  },
  {
   "cell_type": "code",
   "execution_count": null,
   "metadata": {},
   "outputs": [],
   "source": [
    "class Solution:\n",
    "    def findNumbers(self, nums: List[int]) -> int:\n",
    "        nums = [str(n) for n in nums]\n",
    "        cnt = 0\n",
    "        for n in nums:\n",
    "            if len(n) % 2 == 0:\n",
    "                cnt += 1\n",
    "        return cnt"
   ]
  }
 ],
 "metadata": {
  "kernelspec": {
   "display_name": "Python 3",
   "language": "python",
   "name": "python3"
  },
  "language_info": {
   "codemirror_mode": {
    "name": "ipython",
    "version": 3
   },
   "file_extension": ".py",
   "mimetype": "text/x-python",
   "name": "python",
   "nbconvert_exporter": "python",
   "pygments_lexer": "ipython3",
   "version": "3.6.2"
  }
 },
 "nbformat": 4,
 "nbformat_minor": 4
}
