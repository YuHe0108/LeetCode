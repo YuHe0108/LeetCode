{
 "cells": [
  {
   "cell_type": "raw",
   "metadata": {},
   "source": [
    "    有 n 个 (id, value) 对，其中 id 是 1 到 n 之间的一个整数，value 是一个字符串。不存在 id 相同的两个 (id, value) 对。\n",
    "\n",
    "    设计一个流，以 任意 顺序获取 n 个 (id, value) 对，并在多次调用时 按 id 递增的顺序 返回一些值。\n",
    "\n",
    "    实现 OrderedStream 类：\n",
    "    OrderedStream(int n) 构造一个能接收 n 个值的流，并将当前指针 ptr 设为 1 。\n",
    "    String[] insert(int id, String value) 向流中存储新的 (id, value) 对。存储后：\n",
    "    如果流存储有 id = ptr 的 (id, value) 对，则找出从 id = ptr 开始的 最长 id 连续递增序列 ，并 按顺序 返回与这些 id 关联的值的列表。\n",
    "    然后，将 ptr 更新为最后那个  id + 1 。\n",
    "    否则，返回一个空列表。"
   ]
  },
  {
   "cell_type": "markdown",
   "metadata": {},
   "source": [
    "<img src='https://assets.leetcode-cn.com/aliyun-lc-upload/uploads/2020/11/15/q1.gif'>"
   ]
  },
  {
   "cell_type": "raw",
   "metadata": {},
   "source": [
    "例子：    \n",
    "    输入:\n",
    "        [\"OrderedStream\", \"insert\", \"insert\", \"insert\", \"insert\", \"insert\"]\n",
    "        [[5], [3, \"ccccc\"], [1, \"aaaaa\"], [2, \"bbbbb\"], [5, \"eeeee\"], [4, \"ddddd\"]]\n",
    "    输出:\n",
    "        [null, [], [\"aaaaa\"], [\"bbbbb\", \"ccccc\"], [], [\"ddddd\", \"eeeee\"]]\n",
    "\n",
    "解释\n",
    "    OrderedStream os= new OrderedStream(5);\n",
    "    os.insert(3, \"ccccc\"); // 插入 (3, \"ccccc\")，返回 []\n",
    "    os.insert(1, \"aaaaa\"); // 插入 (1, \"aaaaa\")，返回 [\"aaaaa\"]\n",
    "    os.insert(2, \"bbbbb\"); // 插入 (2, \"bbbbb\")，返回 [\"bbbbb\", \"ccccc\"]\n",
    "    os.insert(5, \"eeeee\"); // 插入 (5, \"eeeee\")，返回 []\n",
    "    os.insert(4, \"ddddd\"); // 插入 (4, \"ddddd\")，返回 [\"ddddd\", \"eeeee\"]\n",
    " \n",
    "\n",
    "提示：\n",
    "    1 <= n <= 1000\n",
    "    1 <= id <= n\n",
    "    value.length == 5\n",
    "    value 仅由小写字母组成\n",
    "    每次调用 insert 都会使用一个唯一的 id\n",
    "    恰好调用 n 次 insert"
   ]
  },
  {
   "cell_type": "code",
   "execution_count": null,
   "metadata": {},
   "outputs": [],
   "source": [
    "class OrderedStream:\n",
    "\n",
    "    def __init__(self, n: int):\n",
    "        self.stream = [''] * (1 + n)\n",
    "        self.stream[0] = '#'\n",
    "        self.idx = 1\n",
    "\n",
    "    def insert(self, id: int, value: str) -> List[str]:\n",
    "        self.stream[id] = value\n",
    "        res = []\n",
    "        while self.idx < len(self.stream) and self.stream[self.idx]:\n",
    "            res.append(self.stream[self.idx])\n",
    "            self.idx += 1\n",
    "        return res\n",
    "        \n",
    "\n",
    "\n",
    "# Your OrderedStream object will be instantiated and called as such:\n",
    "# obj = OrderedStream(n)\n",
    "# param_1 = obj.insert(id,value)"
   ]
  }
 ],
 "metadata": {
  "kernelspec": {
   "display_name": "Python 3",
   "language": "python",
   "name": "python3"
  },
  "language_info": {
   "codemirror_mode": {
    "name": "ipython",
    "version": 3
   },
   "file_extension": ".py",
   "mimetype": "text/x-python",
   "name": "python",
   "nbconvert_exporter": "python",
   "pygments_lexer": "ipython3",
   "version": "3.6.2"
  }
 },
 "nbformat": 4,
 "nbformat_minor": 4
}
