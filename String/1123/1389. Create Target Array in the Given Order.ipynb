{
 "cells": [
  {
   "cell_type": "raw",
   "metadata": {},
   "source": [
    "    给你两个整数数组 nums 和 index。你需要按照以下规则创建目标数组：\n",
    "\n",
    "    目标数组 target 最初为空。\n",
    "    按从左到右的顺序依次读取 nums[i] 和 index[i]，在 target 数组中的下标 index[i] 处插入值 nums[i] 。\n",
    "    重复上一步，直到在 nums 和 index 中都没有要读取的元素。\n",
    "    请你返回目标数组。\n",
    "\n",
    "    题目保证数字插入位置总是存在。\n",
    "\n",
    " \n",
    "示例 1：\n",
    "    输入：nums = [0,1,2,3,4], index = [0,1,2,2,1]\n",
    "    输出：[0,4,1,3,2]\n",
    "    解释：\n",
    "            nums       index     target\n",
    "            0            0        [0]\n",
    "            1            1        [0,1]\n",
    "            2            2        [0,1,2]\n",
    "            3            2        [0,1,3,2]\n",
    "            4            1        [0,4,1,3,2]\n",
    "\n",
    "示例 2：\n",
    "    输入：nums = [1,2,3,4,0], index = [0,1,2,3,0]\n",
    "    输出：[0,1,2,3,4]\n",
    "    解释：\n",
    "    nums       index     target\n",
    "    1            0        [1]\n",
    "    2            1        [1,2]\n",
    "    3            2        [1,2,3]\n",
    "    4            3        [1,2,3,4]\n",
    "    0            0        [0,1,2,3,4]\n",
    "\n",
    "示例 3：\n",
    "    输入：nums = [1], index = [0]\n",
    "    输出：[1]\n",
    "\n",
    "提示：\n",
    "    1 <= nums.length, index.length <= 100\n",
    "    nums.length == index.length\n",
    "    0 <= nums[i] <= 100\n",
    "    0 <= index[i] <= i"
   ]
  },
  {
   "cell_type": "code",
   "execution_count": null,
   "metadata": {},
   "outputs": [],
   "source": [
    "class Solution:\n",
    "    def createTargetArray(self, nums: List[int], index: List[int]) -> List[int]:\n",
    "        res = []\n",
    "        for idx, n in zip(index, nums):\n",
    "            res.insert(idx, n)\n",
    "        return res"
   ]
  }
 ],
 "metadata": {
  "kernelspec": {
   "display_name": "Python 3",
   "language": "python",
   "name": "python3"
  },
  "language_info": {
   "codemirror_mode": {
    "name": "ipython",
    "version": 3
   },
   "file_extension": ".py",
   "mimetype": "text/x-python",
   "name": "python",
   "nbconvert_exporter": "python",
   "pygments_lexer": "ipython3",
   "version": "3.6.2"
  }
 },
 "nbformat": 4,
 "nbformat_minor": 4
}
