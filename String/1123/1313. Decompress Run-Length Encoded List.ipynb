{
 "cells": [
  {
   "cell_type": "raw",
   "metadata": {},
   "source": [
    "    给你一个以行程长度编码压缩的整数列表 nums 。\n",
    "\n",
    "    考虑每对相邻的两个元素 [freq, val] = [nums[2*i], nums[2*i+1]] （其中 i >= 0 ），\n",
    "    每一对都表示解压后子列表中有 freq 个值为 val 的元素，\n",
    "    你需要从左到右连接所有子列表以生成解压后的列表。\n",
    "\n",
    "    请你返回解压后的列表。\n",
    "\n",
    "示例：\n",
    "    输入：nums = [1,2,3,4]\n",
    "    输出：[2,4,4,4]\n",
    "    解释：\n",
    "        第一对 [1,2] 代表着 2 的出现频次为 1，所以生成数组 [2]。\n",
    "        第二对 [3,4] 代表着 4 的出现频次为 3，所以生成数组 [4,4,4]。\n",
    "        最后将它们串联到一起 [2] + [4,4,4] = [2,4,4,4]。\n",
    "\n",
    "示例 2：\n",
    "    输入：nums = [1,1,2,3]\n",
    "    输出：[1,3,3]\n",
    " \n",
    "提示：\n",
    "    2 <= nums.length <= 100\n",
    "    nums.length % 2 == 0\n",
    "    1 <= nums[i] <= 100"
   ]
  },
  {
   "cell_type": "code",
   "execution_count": 1,
   "metadata": {},
   "outputs": [],
   "source": [
    "class Solution:\n",
    "    def decompressRLElist(self, nums):\n",
    "        res = []\n",
    "        for i in range(0, len(nums), 2):\n",
    "            freq, val = nums[i], nums[i+1]\n",
    "            res.extend([val] * freq)\n",
    "        return res"
   ]
  },
  {
   "cell_type": "code",
   "execution_count": null,
   "metadata": {},
   "outputs": [],
   "source": []
  }
 ],
 "metadata": {
  "kernelspec": {
   "display_name": "Python 3",
   "language": "python",
   "name": "python3"
  },
  "language_info": {
   "codemirror_mode": {
    "name": "ipython",
    "version": 3
   },
   "file_extension": ".py",
   "mimetype": "text/x-python",
   "name": "python",
   "nbconvert_exporter": "python",
   "pygments_lexer": "ipython3",
   "version": "3.6.2"
  }
 },
 "nbformat": 4,
 "nbformat_minor": 4
}
