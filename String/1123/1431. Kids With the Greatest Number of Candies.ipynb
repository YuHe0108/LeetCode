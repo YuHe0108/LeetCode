{
 "cells": [
  {
   "cell_type": "raw",
   "metadata": {},
   "source": [
    "    给你一个数组 candies 和一个整数 extraCandies ，其中 candies[i] 代表第 i 个孩子拥有的糖果数目。\n",
    "\n",
    "    对每一个孩子，检查是否存在一种方案，将额外的 extraCandies 个糖果分配给孩子们之后，此孩子有 最多 的糖果。\n",
    "    注意，允许有多个孩子同时拥有 最多 的糖果数目。\n",
    "\n",
    "示例 1：\n",
    "    输入：candies = [2,3,5,1,3], extraCandies = 3\n",
    "    输出：[true,true,true,false,true] \n",
    "    解释：\n",
    "        孩子 1 有 2 个糖果，如果他得到所有额外的糖果（3个），那么他总共有 5 个糖果，他将成为拥有最多糖果的孩子。\n",
    "        孩子 2 有 3 个糖果，如果他得到至少 2 个额外糖果，那么他将成为拥有最多糖果的孩子。\n",
    "        孩子 3 有 5 个糖果，他已经是拥有最多糖果的孩子。\n",
    "        孩子 4 有 1 个糖果，即使他得到所有额外的糖果，他也只有 4 个糖果，无法成为拥有糖果最多的孩子。\n",
    "        孩子 5 有 3 个糖果，如果他得到至少 2 个额外糖果，那么他将成为拥有最多糖果的孩子。\n",
    "\n",
    "示例 2：\n",
    "    输入：candies = [4,2,1,1,2], extraCandies = 1\n",
    "    输出：[true,false,false,false,false] \n",
    "    解释：只有 1 个额外糖果，所以不管额外糖果给谁，只有孩子 1 可以成为拥有糖果最多的孩子。\n",
    "\n",
    "示例 3：\n",
    "    输入：candies = [12,1,12], extraCandies = 10\n",
    "    输出：[true,false,true]\n",
    "\n",
    "提示：\n",
    "    2 <= candies.length <= 100\n",
    "    1 <= candies[i] <= 100\n",
    "    1 <= extraCandies <= 50"
   ]
  },
  {
   "cell_type": "code",
   "execution_count": null,
   "metadata": {},
   "outputs": [],
   "source": [
    "class Solution:\n",
    "    def kidsWithCandies(self, candies: List[int], extraCandies: int) -> List[bool]:\n",
    "        res = []\n",
    "        max_val = max(candies)\n",
    "        for c in candies:\n",
    "            if c == max_val or c + extraCandies >= max_val:\n",
    "                res.append(True)\n",
    "            else:\n",
    "                res.append(False)\n",
    "        return res"
   ]
  }
 ],
 "metadata": {
  "kernelspec": {
   "display_name": "Python 3",
   "language": "python",
   "name": "python3"
  },
  "language_info": {
   "codemirror_mode": {
    "name": "ipython",
    "version": 3
   },
   "file_extension": ".py",
   "mimetype": "text/x-python",
   "name": "python",
   "nbconvert_exporter": "python",
   "pygments_lexer": "ipython3",
   "version": "3.6.2"
  }
 },
 "nbformat": 4,
 "nbformat_minor": 4
}
