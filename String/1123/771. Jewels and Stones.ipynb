{
 "cells": [
  {
   "cell_type": "raw",
   "metadata": {},
   "source": [
    "    给定字符串J 代表石头中宝石的类型，和字符串 S代表你拥有的石头。 \n",
    "        S 中每个字符代表了一种你拥有的石头的类型，你想知道你拥有的石头中有多少是宝石。\n",
    "        J 中的字母不重复，J 和 S中的所有字符都是字母。\n",
    "    字母区分大小写，因此\"a\"和\"A\"是不同类型的石头。\n",
    "\n",
    "示例 1:\n",
    "    输入: J = \"aA\", S = \"aAAbbbb\"\n",
    "    输出: 3\n",
    "\n",
    "示例 2:\n",
    "    输入: J = \"z\", S = \"ZZ\"\n",
    "    输出: 0\n",
    "\n",
    "注意:\n",
    "    S 和 J 最多含有50个字母。\n",
    "     J 中的字符不重复。\n"
   ]
  },
  {
   "cell_type": "code",
   "execution_count": null,
   "metadata": {},
   "outputs": [],
   "source": [
    "class Solution:\n",
    "    def numJewelsInStones(self, J: str, S: str) -> int:\n",
    "        set_j = set(J)\n",
    "        cnt = 0\n",
    "        for s in S:\n",
    "            if s in set_j:\n",
    "                cnt += 1\n",
    "        return cnt"
   ]
  }
 ],
 "metadata": {
  "kernelspec": {
   "display_name": "Python 3",
   "language": "python",
   "name": "python3"
  },
  "language_info": {
   "name": ""
  }
 },
 "nbformat": 4,
 "nbformat_minor": 4
}
