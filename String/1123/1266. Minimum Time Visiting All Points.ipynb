{
 "cells": [
  {
   "cell_type": "raw",
   "metadata": {},
   "source": [
    "    平面上有 n 个点，点的位置用整数坐标表示 points[i] = [xi, yi]。请你计算访问所有这些点需要的最小时间（以秒为单位）。\n",
    "\n",
    "    你可以按照下面的规则在平面上移动：\n",
    "\n",
    "    每一秒沿水平或者竖直方向移动一个单位长度，或者跨过对角线（可以看作在一秒内向水平和竖直方向各移动一个单位长度）。\n",
    "    必须按照数组中出现的顺序来访问这些点。\n",
    "\n",
    "示例 1：\n",
    "    输入：points = [[1,1],[3,4],[-1,0]]\n",
    "    输出：7\n",
    "    解释：\n",
    "        一条最佳的访问路径是： [1,1] -> [2,2] -> [3,3] -> [3,4] -> [2,3] -> [1,2] -> [0,1] -> [-1,0]   \n",
    "        从 [1,1] 到 [3,4] 需要 3 秒 \n",
    "        从 [3,4] 到 [-1,0] 需要 4 秒\n",
    "        一共需要 7 秒\n",
    "\n",
    "示例 2：\n",
    "    输入：points = [[3,2],[-2,2]]\n",
    "    输出：5\n",
    "\n",
    "提示：\n",
    "    points.length == n\n",
    "    1 <= n <= 100\n",
    "    points[i].length == 2\n",
    "    -1000 <= points[i][0], points[i][1] <= 1000"
   ]
  },
  {
   "cell_type": "markdown",
   "metadata": {},
   "source": [
    "<img src='https://assets.leetcode.com/uploads/2019/11/14/1626_example_1.PNG'>"
   ]
  },
  {
   "cell_type": "code",
   "execution_count": 1,
   "metadata": {},
   "outputs": [],
   "source": [
    "class Solution:\n",
    "    def minTimeToVisitAllPoints(self, points) -> int:\n",
    "        pass"
   ]
  },
  {
   "cell_type": "code",
   "execution_count": 2,
   "metadata": {},
   "outputs": [],
   "source": [
    "solution = Solution()\n",
    "solution.minTimeToVisitAllPoints(points = [[1,1],[3,4],[-1,0]])"
   ]
  },
  {
   "cell_type": "code",
   "execution_count": null,
   "metadata": {},
   "outputs": [],
   "source": []
  }
 ],
 "metadata": {
  "kernelspec": {
   "display_name": "Python 3",
   "language": "python",
   "name": "python3"
  },
  "language_info": {
   "codemirror_mode": {
    "name": "ipython",
    "version": 3
   },
   "file_extension": ".py",
   "mimetype": "text/x-python",
   "name": "python",
   "nbconvert_exporter": "python",
   "pygments_lexer": "ipython3",
   "version": "3.6.2"
  }
 },
 "nbformat": 4,
 "nbformat_minor": 4
}
