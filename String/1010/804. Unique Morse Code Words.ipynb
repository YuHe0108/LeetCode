{
 "cells": [
  {
   "cell_type": "raw",
   "metadata": {},
   "source": [
    "说明：\n",
    "    国际摩尔斯电码定义了一种标准编码，其中每个字母映射到一系列点和破折号，\n",
    "    如下所示：\n",
    "        “a”映射到“ .-”，\n",
    "        “b”映射到“ -...”，\n",
    "        “ c”映射到“-.-.\"， 等等。\n",
    "    为方便起见，下面列出了英文字母的26个字母的完整表格：\n",
    "        [\".-\",\"-...\",\"-.-.\",\"-..\",\".\",\"..-.\",\"--.\",\"....\",\"..\",\".---\",\"-.-\",\".-..\",\"--\",\"-.\",\"---\",\".--.\",\n",
    "         \"--.-\",\".-.\",\"...\",\"-\",\"..-\",\"...-\",\".--\",\"-..-\",\"-.--\",\"--..\"]\n",
    "\n",
    "    现在，给定单词列表，可以将每个单词写成每个字母的摩尔斯电码的串联。\n",
    "    例如，\n",
    "        “cab”可以写为“ -.-..--...”（它是串联的“ -.-。”，“ .-”“ -...”）。\n",
    "    我们称其为串联，即单词的转换。\n",
    "    返回我们所有单词中不同变换的数量。\n",
    "\n",
    "Example:\n",
    "    Input: words = [\"gin\", \"zen\", \"gig\", \"msg\"]\n",
    "    Output: 2\n",
    "    Explanation: \n",
    "    The transformation of each word is:\n",
    "        \"gin\" -> \"--...-.\"\n",
    "        \"zen\" -> \"--...-.\"\n",
    "        \"gig\" -> \"--...--.\"\n",
    "        \"msg\" -> \"--...--.\"\n",
    "    There are 2 different transformations, \"--...-.\" and \"--...--.\".\n",
    "\n",
    "Note:\n",
    "    1、The length of words will be at most 100.\n",
    "    2、Each words[i] will have length in range [1, 12].\n",
    "    3、words[i] will only consist of lowercase letters."
   ]
  },
  {
   "cell_type": "code",
   "execution_count": 4,
   "metadata": {},
   "outputs": [],
   "source": [
    "# c = -.-.\n",
    "# a = .-\n",
    "# b = -...\n",
    "# -.-. .- -..."
   ]
  },
  {
   "cell_type": "code",
   "execution_count": 15,
   "metadata": {},
   "outputs": [],
   "source": [
    "class Solution:\n",
    "    def uniqueMorseRepresentations(self, words) -> int:\n",
    "        if not words: return 0\n",
    "        morse = [\".-\",\"-...\",\"-.-.\",\"-..\",\".\",\"..-.\",\"--.\",\"....\",\"..\",\".---\",\"-.-\",\".-..\",\"--\",\"-.\",\"---\",\".--.\", \"--.-\",\".-.\",\"...\",\"-\",\"..-\",\"...-\",\".--\",\"-..-\",\"-.--\",\"--..\"]\n",
    "        res = set()\n",
    "        for w in words:\n",
    "            s = ''\n",
    "            for a in w:\n",
    "                s += morse[ord(a) - 97]\n",
    "            if s:\n",
    "                res.add(s)\n",
    "        return len(res)"
   ]
  },
  {
   "cell_type": "code",
   "execution_count": 16,
   "metadata": {},
   "outputs": [
    {
     "data": {
      "text/plain": [
       "2"
      ]
     },
     "execution_count": 16,
     "metadata": {},
     "output_type": "execute_result"
    }
   ],
   "source": [
    "solution = Solution()\n",
    "solution.uniqueMorseRepresentations([\"gin\", \"zen\", \"gig\", \"msg\"])"
   ]
  },
  {
   "cell_type": "code",
   "execution_count": null,
   "metadata": {},
   "outputs": [],
   "source": []
  }
 ],
 "metadata": {
  "kernelspec": {
   "display_name": "Python 3",
   "language": "python",
   "name": "python3"
  },
  "language_info": {
   "codemirror_mode": {
    "name": "ipython",
    "version": 3
   },
   "file_extension": ".py",
   "mimetype": "text/x-python",
   "name": "python",
   "nbconvert_exporter": "python",
   "pygments_lexer": "ipython3",
   "version": "3.6.2"
  }
 },
 "nbformat": 4,
 "nbformat_minor": 4
}
