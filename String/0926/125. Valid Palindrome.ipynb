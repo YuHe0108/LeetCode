{
 "cells": [
  {
   "cell_type": "raw",
   "metadata": {},
   "source": [
    "寿命：\n",
    "    给定一个字符串，请仅考虑字母数字字符并忽略大小写，从而确定它是否是回文。\n",
    "    注意：针对此问题，我们将空字符串定义为有效回文。\n",
    "\n",
    "Example 1:\n",
    "    Input: \"A man, a plan, a canal: Panama\"\n",
    "    Output: true\n",
    "\n",
    "Example 2:\n",
    "    Input: \"race a car\"\n",
    "    Output: false\n",
    "\n",
    "Constraints:\n",
    "    1、s仅包含可打印的ASCII字符。"
   ]
  },
  {
   "cell_type": "code",
   "execution_count": 33,
   "metadata": {},
   "outputs": [],
   "source": [
    "class Solution:\n",
    "    def isPalindrome(self, s: str) -> bool:\n",
    "        norm_str = []\n",
    "        for i in s:\n",
    "            if 97 <= ord(i) <= 122:\n",
    "                norm_str.append(ord(i) - 97)\n",
    "            elif 65 <= ord(i) <= 90:\n",
    "                norm_str.append(ord(i) - 97 + 32)\n",
    "            elif i.isdigit():\n",
    "                norm_str.append(i)\n",
    "        \n",
    "        left = 0\n",
    "        right = len(norm_str) - 1\n",
    "        while left <= right and norm_str[left] == norm_str[right]:\n",
    "            left += 1\n",
    "            right -= 1\n",
    "        return left >= right"
   ]
  },
  {
   "cell_type": "code",
   "execution_count": 34,
   "metadata": {},
   "outputs": [
    {
     "data": {
      "text/plain": [
       "True"
      ]
     },
     "execution_count": 34,
     "metadata": {},
     "output_type": "execute_result"
    }
   ],
   "source": [
    "solution = Solution()\n",
    "solution.isPalindrome(\"A man, a plan, a canal: Panama\")"
   ]
  },
  {
   "cell_type": "code",
   "execution_count": null,
   "metadata": {},
   "outputs": [],
   "source": []
  }
 ],
 "metadata": {
  "kernelspec": {
   "display_name": "Python 3",
   "language": "python",
   "name": "python3"
  },
  "language_info": {
   "codemirror_mode": {
    "name": "ipython",
    "version": 3
   },
   "file_extension": ".py",
   "mimetype": "text/x-python",
   "name": "python",
   "nbconvert_exporter": "python",
   "pygments_lexer": "ipython3",
   "version": "3.6.2"
  }
 },
 "nbformat": 4,
 "nbformat_minor": 4
}
