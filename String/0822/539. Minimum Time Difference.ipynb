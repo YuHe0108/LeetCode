{
 "cells": [
  {
   "cell_type": "raw",
   "metadata": {},
   "source": [
    "说明：\n",
    "    给定 \"小时：分钟\" 格式的24小时制时钟点列表，请找到列表中任意两个时间点之间的最小分钟差。\n",
    "\n",
    "例1：\n",
    "    Input: [\"23:59\",\"00:00\"]\n",
    "    Output: 1\n",
    "\n",
    "注意：\n",
    "    1、给定列表中的时间点数至少为2，并且不会超过20000。\n",
    "    2、输入时间是合法的，范围为00:00到23:59。"
   ]
  },
  {
   "cell_type": "code",
   "execution_count": 69,
   "metadata": {},
   "outputs": [],
   "source": [
    "class Solution:\n",
    "    def findMinDifference(self, timePoints) -> int:\n",
    "        if len(set(timePoints)) < len(timePoints): return 0 # 如果有重复的时间，则最小差为0\n",
    "        time_list = []\n",
    "        dist = float('inf')\n",
    "        for i, time in enumerate(timePoints):\n",
    "            l_s_time = time.split(':')\n",
    "            l_h, l_m = int(l_s_time[0]), int(l_s_time[1])\n",
    "            l_h_o = 24 if l_h == 0 else l_h\n",
    "            l_m_o = 60 if l_m == 0 else l_m\n",
    "            for j in range(i+1, len(timePoints)):\n",
    "                r_s_time = timePoints[j].split(':')\n",
    "                r_h, r_m = int(r_s_time[0]), int(r_s_time[1])\n",
    "                r_h_o = 24 if r_h == 0 else r_h\n",
    "                r_m_o = 60 if r_m == 0 else r_m\n",
    "                \n",
    "                if l_h == 0:\n",
    "                    pass\n",
    "                if l_m == 0:\n",
    "                    pass\n",
    "                if r_h == 0:\n",
    "                    pass\n",
    "                if r_m == 0:\n",
    "                    pass\n",
    "                \n",
    "                h_dist = l_h - r_h\n",
    "                m_dist = l_m - r_m\n",
    "                dist = abs(h_dist * 60 + (l_m - r_m))\n",
    "        return dist"
   ]
  },
  {
   "cell_type": "code",
   "execution_count": 85,
   "metadata": {},
   "outputs": [],
   "source": [
    "class Solution:\n",
    "    def findMinDifference(self, timePoints):\n",
    "        total = 60*24\n",
    "        buckets = [False]*total\n",
    "        for time in timePoints:\n",
    "            h, m = time.split(\":\")\n",
    "            tm = int(h)*60+ int(m)\n",
    "            if buckets[tm] is False:\n",
    "                buckets[tm] = True\n",
    "            else: # 重复的时间，相差为0\n",
    "                return 0\n",
    "        \n",
    "        prev = first = -1\n",
    "        mn = total\n",
    "        for i in range(total):\n",
    "            if buckets[i]:\n",
    "                if prev != -1:\n",
    "                    mn = min(mn, i - prev)\n",
    "                else:\n",
    "                    first = i # 最早出现的时间分钟\n",
    "                prev = i\n",
    "        mn = min(mn, total - prev + first)  \n",
    "        return mn"
   ]
  },
  {
   "cell_type": "code",
   "execution_count": 113,
   "metadata": {},
   "outputs": [],
   "source": [
    "class Solution:\n",
    "    def findMinDifference(self, timePoints):\n",
    "        total = 60 * 24\n",
    "        buckets = [False] * total\n",
    "        for time in timePoints:\n",
    "            s_time = time.split(':')\n",
    "            h, m = int(s_time[0]), int(s_time[1])\n",
    "            if buckets[h*60 + m] is False:\n",
    "                buckets[h*60 + m] = True\n",
    "            else:\n",
    "                return 0\n",
    "        \n",
    "        dif = total\n",
    "        first = -1\n",
    "        pre = -1\n",
    "        for i in range(total):\n",
    "            if buckets[i]:\n",
    "                if pre != -1:\n",
    "                    dif = min(dif, i - pre)\n",
    "                if first == -1:\n",
    "                    first = i\n",
    "                pre = i\n",
    "        return min(dif, total - (pre - first))"
   ]
  },
  {
   "cell_type": "code",
   "execution_count": 114,
   "metadata": {},
   "outputs": [
    {
     "data": {
      "text/plain": [
       "1"
      ]
     },
     "execution_count": 114,
     "metadata": {},
     "output_type": "execute_result"
    }
   ],
   "source": [
    "timepoints = [\"23:59\",\"00:00\"]\n",
    "solution = Solution()\n",
    "solution.findMinDifference(timepoints)"
   ]
  },
  {
   "cell_type": "code",
   "execution_count": null,
   "metadata": {},
   "outputs": [],
   "source": []
  }
 ],
 "metadata": {
  "kernelspec": {
   "display_name": "TF2",
   "language": "python",
   "name": "tf2"
  },
  "language_info": {
   "codemirror_mode": {
    "name": "ipython",
    "version": 3
   },
   "file_extension": ".py",
   "mimetype": "text/x-python",
   "name": "python",
   "nbconvert_exporter": "python",
   "pygments_lexer": "ipython3",
   "version": "3.6.2"
  }
 },
 "nbformat": 4,
 "nbformat_minor": 4
}
