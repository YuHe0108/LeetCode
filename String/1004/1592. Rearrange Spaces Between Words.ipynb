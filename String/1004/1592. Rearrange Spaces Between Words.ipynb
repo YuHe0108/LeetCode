{
 "cells": [
  {
   "cell_type": "raw",
   "metadata": {},
   "source": [
    "说明：\n",
    "    系统会为您提供由一些空格组成的单词字符串文本。\n",
    "    每个单词由一个或多个小写英文字母组成，并至少隔开一个空格。\n",
    "    保证文本至少包含一个单词。\n",
    "    重新排列空格，以便在每对相邻单词之间有相等数量的空格，并且该数目被最大化。\n",
    "    如果您不能相等地重新分配所有空格，请将多余的空格放在末尾，这意味着返回的字符串的长度应与文本的长度相同。\n",
    "    重新排列空格后返回字符串。\n",
    "\n",
    "Example 1:\n",
    "    Input: text = \"  this   is  a sentence \"\n",
    "    Output: \"this   is   a   sentence\"\n",
    "    Explanation: There are a total of 9 spaces and 4 words. We can evenly divide the 9 spaces between the words: 9 / (4-1) = 3 spaces.\n",
    "\n",
    "Example 2:\n",
    "    Input: text = \" practice   makes   perfect\"\n",
    "    Output: \"practice   makes   perfect \"\n",
    "    Explanation: There are a total of 7 spaces and 3 words. 7 / (3-1) = 3 spaces plus 1 extra space. We place this extra space at the end of the string.\n",
    "\n",
    "Example 3:\n",
    "    Input: text = \"hello   world\"\n",
    "    Output: \"hello   world\"\n",
    "\n",
    "Example 4:\n",
    "    Input: text = \"  walks  udp package   into  bar a\"\n",
    "    Output: \"walks  udp  package  into  bar  a \"\n",
    "\n",
    "Example 5:\n",
    "    Input: text = \"a\"\n",
    "    Output: \"a\"\n",
    "\n",
    "Constraints:\n",
    "    1、1 <= text.length <= 100\n",
    "    2、text consists of lowercase English letters and ' '.\n",
    "    3、text contains at least one word."
   ]
  },
  {
   "cell_type": "code",
   "execution_count": 57,
   "metadata": {},
   "outputs": [],
   "source": [
    "class Solution:\n",
    "    def reorderSpaces(self, text: str) -> str:\n",
    "        word_count, space_count = 0, 0\n",
    "        idx = 0\n",
    "        words = []\n",
    "        while idx < len(text):\n",
    "            val = text[idx]\n",
    "            if val == ' ':\n",
    "                space_count += 1\n",
    "            else:\n",
    "                word = ''\n",
    "                while idx + 1 < len(text) and text[idx+1] != ' ':\n",
    "                    word += text[idx]\n",
    "                    idx += 1\n",
    "                word += text[idx]\n",
    "                words.append(word)\n",
    "                word_count += 1\n",
    "            idx += 1\n",
    "            \n",
    "        each_space = space_count // (word_count - 1) if word_count - 1 > 0 else 0\n",
    "        last_space = space_count - each_space * (word_count - 1)\n",
    "        \n",
    "        res = ''\n",
    "        for i, w in enumerate(words):\n",
    "            if i == len(words) - 1:\n",
    "                w = w + ' ' * last_space\n",
    "            else:\n",
    "                w = w + ' ' * each_space\n",
    "            res += w\n",
    "        return res"
   ]
  },
  {
   "cell_type": "code",
   "execution_count": 58,
   "metadata": {},
   "outputs": [
    {
     "name": "stdout",
     "output_type": "stream",
     "text": [
      "['this', 'is', 'a', 'sentence']\n"
     ]
    },
    {
     "data": {
      "text/plain": [
       "'this   is   a   sentence'"
      ]
     },
     "execution_count": 58,
     "metadata": {},
     "output_type": "execute_result"
    }
   ],
   "source": [
    "solution = Solution()\n",
    "solution.reorderSpaces(\"  this   is  a sentence \")"
   ]
  },
  {
   "cell_type": "code",
   "execution_count": null,
   "metadata": {},
   "outputs": [],
   "source": []
  }
 ],
 "metadata": {
  "kernelspec": {
   "display_name": "Python 3",
   "language": "python",
   "name": "python3"
  },
  "language_info": {
   "codemirror_mode": {
    "name": "ipython",
    "version": 3
   },
   "file_extension": ".py",
   "mimetype": "text/x-python",
   "name": "python",
   "nbconvert_exporter": "python",
   "pygments_lexer": "ipython3",
   "version": "3.6.2"
  }
 },
 "nbformat": 4,
 "nbformat_minor": 4
}
