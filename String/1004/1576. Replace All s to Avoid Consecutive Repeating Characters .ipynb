{
 "cells": [
  {
   "cell_type": "raw",
   "metadata": {},
   "source": [
    "说明：\n",
    "    给定一个仅包含小写英文字母和'？'的字符串字符，将所有的“？”字符转换为小写字母，以使最终字符串不包含任何连续的重复字符。\n",
    "    您不能修改非'？'字符。\n",
    "    确保在给定的字符串中除了“？”以外没有连续的重复字符。\n",
    "    完成所有转换（可能为零）后，返回最终字符串。\n",
    "    如果有多个解决方案，请返回其中任何一个。\n",
    "    可以证明，在给定的约束下答案总是可能的。\n",
    "\n",
    "Example 1:\n",
    "    Input: s = \"?zs\"\n",
    "    Output: \"azs\"\n",
    "    Explanation: \n",
    "            There are 25 solutions for this problem. \n",
    "            From \"azs\" to \"yzs\", all are valid. \n",
    "            Only \"z\" is an invalid modification as the string will consist of consecutive repeating characters in \"zzs\".\n",
    "\n",
    "Example 2:\n",
    "    Input: s = \"ubv?w\"\n",
    "    Output: \"ubvaw\"\n",
    "    Explanation: \n",
    "        There are 24 solutions for this problem. \n",
    "        Only \"v\" and \"w\" are invalid modifications as the strings will consist of consecutive repeating characters in \"ubvvw\" and \"ubvww\".\n",
    "\n",
    "Example 3:\n",
    "    Input: s = \"j?qg??b\"\n",
    "    Output: \"jaqgacb\"\n",
    "\n",
    "Example 4:\n",
    "    Input: s = \"??yw?ipkj?\"\n",
    "    Output: \"acywaipkja\"\n",
    "\n",
    "Constraints:\n",
    "    1、1 <= s.length <= 100\n",
    "    2、s contains only lower case English letters and '?'."
   ]
  },
  {
   "cell_type": "code",
   "execution_count": 80,
   "metadata": {},
   "outputs": [],
   "source": [
    "class Solution:\n",
    "    def modifyString(self, s: str) -> str:\n",
    "        if len(s) == 1:\n",
    "            if s == '?':\n",
    "                return 'a'\n",
    "            return s\n",
    "        if not '?' in s: return s\n",
    "        \n",
    "        res = []\n",
    "        idx = 0\n",
    "        while idx < len(s):\n",
    "            if s[idx] == '?':\n",
    "                item = [idx]\n",
    "                if idx - 1 >= 0:\n",
    "                    item.insert(0, idx-1)\n",
    "                while idx + 1 < len(s) and s[idx+1] == '?':\n",
    "                    idx += 1\n",
    "                    item.append(idx)\n",
    "                if idx + 1 < len(s):\n",
    "                    if s[idx+1] == '?':\n",
    "                        item.append(idx+1)\n",
    "                    else:\n",
    "                        item.insert(0, idx+1)\n",
    "                res.append(item)\n",
    "            idx += 1\n",
    "        \n",
    "        print(res)\n",
    "#         return\n",
    "        s_list = list(s)\n",
    "        for item in res:\n",
    "            cur = 'abcdefghijklmnopqistuvwxyz'\n",
    "            for i in item:\n",
    "                if s[i] != '?':\n",
    "                    cur = cur.replace(s[i], '')\n",
    "                else:\n",
    "                    s_list[i] = cur[0]\n",
    "                    cur = cur.replace(cur[0], '')\n",
    "                if len(cur) <= 0:\n",
    "                    cur = 'abcdefghijklmnopqistuvwxyz'\n",
    "        return ''.join(s_list)"
   ]
  },
  {
   "cell_type": "code",
   "execution_count": 86,
   "metadata": {},
   "outputs": [],
   "source": [
    "class Solution:\n",
    "    def modifyString(self, s: str) -> str:\n",
    "        options = list(map(chr, range(97, 123)))\n",
    "        s = list(s)\n",
    "        for i in range(len(s)):\n",
    "            for x in options:\n",
    "                if s[i] == '?':\n",
    "                    if i == len(s) - 1:\n",
    "                        if s[i-1] != x:\n",
    "                            s[i] = x\n",
    "                    elif s[i - 1] != x and s[i + 1] != x:\n",
    "                        s[i] = x\n",
    "        return ''.join(s)"
   ]
  },
  {
   "cell_type": "code",
   "execution_count": 87,
   "metadata": {},
   "outputs": [
    {
     "name": "stdout",
     "output_type": "stream",
     "text": [
      "['a', 'b', 'c', 'd', 'e', 'f', 'g', 'h', 'i', 'j', 'k', 'l', 'm', 'n', 'o', 'p', 'q', 'r', 's', 't', 'u', 'v', 'w', 'x', 'y', 'z']\n"
     ]
    },
    {
     "data": {
      "text/plain": [
       "'ababababababababababababababababababababababababababababababababa'"
      ]
     },
     "execution_count": 87,
     "metadata": {},
     "output_type": "execute_result"
    }
   ],
   "source": [
    "solution = Solution()\n",
    "solution.modifyString(\"?????????????????????????????????????????????????????????????????\")"
   ]
  },
  {
   "cell_type": "code",
   "execution_count": 59,
   "metadata": {},
   "outputs": [],
   "source": [
    "cur = 'abcdefghijklmnopqistuvwxyz'\n",
    "cur = cur.replace('a', '')"
   ]
  },
  {
   "cell_type": "code",
   "execution_count": 60,
   "metadata": {},
   "outputs": [
    {
     "data": {
      "text/plain": [
       "'bcdefghijklmnopqistuvwxyz'"
      ]
     },
     "execution_count": 60,
     "metadata": {},
     "output_type": "execute_result"
    }
   ],
   "source": [
    "cur"
   ]
  },
  {
   "cell_type": "code",
   "execution_count": null,
   "metadata": {},
   "outputs": [],
   "source": []
  }
 ],
 "metadata": {
  "kernelspec": {
   "display_name": "Python 3",
   "language": "python",
   "name": "python3"
  },
  "language_info": {
   "codemirror_mode": {
    "name": "ipython",
    "version": 3
   },
   "file_extension": ".py",
   "mimetype": "text/x-python",
   "name": "python",
   "nbconvert_exporter": "python",
   "pygments_lexer": "ipython3",
   "version": "3.6.2"
  }
 },
 "nbformat": 4,
 "nbformat_minor": 4
}
