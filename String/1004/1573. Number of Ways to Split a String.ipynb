{
 "cells": [
  {
   "cell_type": "raw",
   "metadata": {},
   "source": [
    "说明：\n",
    "    给定一个二进制字符串s（仅包含“ 0”和“ 1”的字符串），\n",
    "    我们可以将s分为3个非空字符串s1，s2，s3（s1+s2+s3 = s）。\n",
    "    返回s可以分割的方式数，以使字符“ 1”的数量在s1，s2和s3中相同。\n",
    "    由于答案可能太大，因此请以10 ^ 9 + 7返回。\n",
    "\n",
    "Example 1:\n",
    "    Input: s = \"10101\"\n",
    "    Output: 4\n",
    "    Explanation: There are four ways to split s in 3 parts where each part contain the same number of letters '1'.\n",
    "                \"1|010|1\"\n",
    "                \"1|01|01\"\n",
    "                \"10|10|1\"\n",
    "                \"10|1|01\"\n",
    "\n",
    "Example 2:\n",
    "    Input: s = \"1001\"\n",
    "    Output: 0\n",
    "\n",
    "Example 3:\n",
    "    Input: s = \"0000\"\n",
    "    Output: 3\n",
    "    Explanation: There are three ways to split s in 3 parts.\n",
    "        \"0|0|00\"\n",
    "        \"0|00|0\"\n",
    "        \"00|0|0\"\n",
    "\n",
    "Example 4:\n",
    "    Input: s = \"100100010100110\"\n",
    "    Output: 12\n",
    "\n",
    "Constraints:\n",
    "    1、3 <= s.length <= 10^5\n",
    "    2、s[i] is '0' or '1'."
   ]
  },
  {
   "cell_type": "code",
   "execution_count": 74,
   "metadata": {},
   "outputs": [],
   "source": [
    "class Solution:\n",
    "    def numWays(self, s: str) -> int:\n",
    "        count = 0\n",
    "        w_freq = {}\n",
    "        for i, a in enumerate(s):\n",
    "            if a == '1':\n",
    "                w_freq.setdefault(a, []).append(i)\n",
    "        \n",
    "        if len(w_freq['1']) % 3 != 0: return count\n",
    "        each_count = len(w_freq['1']) // 3\n",
    "        \n",
    "        for i, a in enumerate(s):\n",
    "            if \n",
    "            \n",
    "        \n",
    "        return count"
   ]
  },
  {
   "cell_type": "code",
   "execution_count": 78,
   "metadata": {},
   "outputs": [],
   "source": [
    "class Solution:\n",
    "    def numWays(self, s: str) -> int:\n",
    "        mod = pow(10, 9) + 7\n",
    "        cnt = s.count('1')\n",
    "        if cnt == 0: return (len(s) - 1) * (len(s) - 2) // 2 % mod\n",
    "        if cnt % 3 != 0: return 0\n",
    "        ones = []\n",
    "        for i, x in enumerate(s):\n",
    "            if x == '1': ones.append(i)\n",
    "        return (ones[cnt//3] - ones[cnt//3-1]) * (ones[2*cnt//3] - ones[2*cnt//3 - 1]) % mod"
   ]
  },
  {
   "cell_type": "code",
   "execution_count": 79,
   "metadata": {},
   "outputs": [
    {
     "data": {
      "text/plain": [
       "4"
      ]
     },
     "execution_count": 79,
     "metadata": {},
     "output_type": "execute_result"
    }
   ],
   "source": [
    "solution = Solution()\n",
    "solution.numWays('10101')"
   ]
  },
  {
   "cell_type": "code",
   "execution_count": null,
   "metadata": {},
   "outputs": [],
   "source": [
    "\"100100010100110\""
   ]
  }
 ],
 "metadata": {
  "kernelspec": {
   "display_name": "Python 3",
   "language": "python",
   "name": "python3"
  },
  "language_info": {
   "codemirror_mode": {
    "name": "ipython",
    "version": 3
   },
   "file_extension": ".py",
   "mimetype": "text/x-python",
   "name": "python",
   "nbconvert_exporter": "python",
   "pygments_lexer": "ipython3",
   "version": "3.6.2"
  }
 },
 "nbformat": 4,
 "nbformat_minor": 4
}
