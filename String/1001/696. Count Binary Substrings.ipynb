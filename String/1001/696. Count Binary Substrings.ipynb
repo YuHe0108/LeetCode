{
 "cells": [
  {
   "cell_type": "raw",
   "metadata": {},
   "source": [
    "说明：\n",
    "    给定一个字符串s，计算具有相同数量的0和1的非空（连续）子字符串的数量，\n",
    "    并且这些子字符串中的所有0和所有1都是连续分组的。\n",
    "    多次出现的子字符串将计算其出现的次数。\n",
    "\n",
    "Example 1:\n",
    "    Input: \"00110011\"\n",
    "    Output: 6\n",
    "    Explanation: There are 6 substrings that have equal number of consecutive 1's and 0's: \"0011\", \"01\", \"1100\", \"10\", \"0011\", and \"01\".\n",
    "                 Notice that some of these substrings repeat and are counted the number of times they occur.\n",
    "                 Also, \"00110011\" is not a valid substring because all the 0's (and 1's) are not grouped together.\n",
    "\n",
    "Example 2:\n",
    "    Input: \"10101\"\n",
    "    Output: 4\n",
    "    Explanation: \n",
    "            There are 4 substrings: \"10\", \"01\", \"10\", \"01\" that have equal number of consecutive 1's and 0's.\n",
    "\n",
    "Note:\n",
    "    1、s.length will be between 1 and 50,000.\n",
    "    2、s will only consist of \"0\" or \"1\" characters."
   ]
  },
  {
   "cell_type": "code",
   "execution_count": 21,
   "metadata": {},
   "outputs": [],
   "source": [
    "# 如何判断是不是左右分组的: 0011 --> 0011\n",
    "\n",
    "class Solution:\n",
    "    def countBinarySubstrings(self, s: str) -> int:\n",
    "        if len(s) <= 1: return 0\n",
    "        count = 0\n",
    "        \n",
    "        \n",
    "    \n",
    "    def helper(self, sub_s):\n",
    "        if len(sub_s) <= 1: \n",
    "            return False\n",
    "        l_idx, r_idx = 0, len(sub_s) - 1\n",
    "        while l_idx < r_idx:\n",
    "            if int(sub_s[l_idx]) + int(sub_s[r_idx]) != 1:\n",
    "                return False\n",
    "            l_idx += 1\n",
    "            r_idx -= 1\n",
    "        return l_idx > r_idx"
   ]
  },
  {
   "cell_type": "code",
   "execution_count": 49,
   "metadata": {},
   "outputs": [],
   "source": [
    "class Solution:\n",
    "    def countBinarySubstrings(self, s: str) -> int:\n",
    "        if len(s) <= 1: return 0\n",
    "        count = 0\n",
    "        s_freq = {}\n",
    "        for i, a in enumerate(s):\n",
    "            s_freq.setdefault(a, []).append(i)\n",
    "        \n",
    "        for i in s_freq['0']:\n",
    "            for j in s_freq['1']:\n",
    "                if i > j:\n",
    "                    i, j = j, i\n",
    "                if (j - i) % 2 == 1:\n",
    "                    sub_s = s[i:j+1]\n",
    "                    if self.helper(sub_s):\n",
    "                        print(sub_s)\n",
    "                        count += 1\n",
    "        return count\n",
    "\n",
    "    def helper(self, sub_s):\n",
    "        l_idx, r_idx = 0, len(sub_s) - 1\n",
    "        while l_idx < r_idx:\n",
    "            if int(sub_s[l_idx]) + int(sub_s[r_idx]) != 1:\n",
    "                return False\n",
    "            l_idx += 1\n",
    "            r_idx -= 1\n",
    "        return l_idx > r_idx"
   ]
  },
  {
   "cell_type": "code",
   "execution_count": 75,
   "metadata": {},
   "outputs": [],
   "source": [
    "class Solution:\n",
    "    def countBinarySubstrings(self, s: str) -> int:\n",
    "        if len(s) <= 1: return 0\n",
    "        z_idx = []\n",
    "        o_idx = []\n",
    "        if s[0] == '0':\n",
    "            z_idx = [0]\n",
    "        else:\n",
    "            o_idx = [0]\n",
    "            \n",
    "        for i in range(1, len(s)):\n",
    "            if s[i] != s[i-1]:\n",
    "                if s[i] == '0':\n",
    "                    z_idx.append(i)\n",
    "                else:\n",
    "                    o_idx.append(i)\n",
    "        \n",
    "        if s[-1] == '0':\n",
    "            z_idx.append(len(s))\n",
    "        else:\n",
    "            o_idx.append(len(s))\n",
    "        \n",
    "        count = 0\n",
    "        for i in range(`)\n",
    "            \n",
    "        print(z_idx, o_idx)"
   ]
  },
  {
   "cell_type": "code",
   "execution_count": 98,
   "metadata": {},
   "outputs": [],
   "source": [
    "class Solution:\n",
    "    def countBinarySubstrings(self, s: str) -> int:\n",
    "        if len(s) <= 1: return 0\n",
    "        l_idx, r_idx = 0, 0\n",
    "        idx_count = []\n",
    "        while r_idx < len(s):\n",
    "            while r_idx < len(s) and s[r_idx] == s[l_idx]:\n",
    "                r_idx += 1\n",
    "            idx_count.append(r_idx - l_idx)\n",
    "            l_idx = r_idx\n",
    "            \n",
    "        print(idx_count)\n",
    "        res = 0\n",
    "        for i in range(1, len(idx_count)):\n",
    "            res += min(idx_count[i], idx_count[i-1])\n",
    "        return res"
   ]
  },
  {
   "cell_type": "code",
   "execution_count": 100,
   "metadata": {},
   "outputs": [
    {
     "name": "stdout",
     "output_type": "stream",
     "text": [
      "[2, 2]\n"
     ]
    },
    {
     "data": {
      "text/plain": [
       "2"
      ]
     },
     "execution_count": 100,
     "metadata": {},
     "output_type": "execute_result"
    }
   ],
   "source": [
    "solution = Solution()\n",
    "solution.countBinarySubstrings(\"0011\")"
   ]
  },
  {
   "cell_type": "code",
   "execution_count": null,
   "metadata": {},
   "outputs": [],
   "source": []
  }
 ],
 "metadata": {
  "kernelspec": {
   "display_name": "Python 3",
   "language": "python",
   "name": "python3"
  },
  "language_info": {
   "codemirror_mode": {
    "name": "ipython",
    "version": 3
   },
   "file_extension": ".py",
   "mimetype": "text/x-python",
   "name": "python",
   "nbconvert_exporter": "python",
   "pygments_lexer": "ipython3",
   "version": "3.6.2"
  }
 },
 "nbformat": 4,
 "nbformat_minor": 4
}
