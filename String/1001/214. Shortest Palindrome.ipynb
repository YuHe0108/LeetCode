{
 "cells": [
  {
   "cell_type": "raw",
   "metadata": {},
   "source": [
    "说明：\n",
    "    给定字符串s，您可以通过在字符串前面添加字符来将其转换为回文。\n",
    "    查找并返回通过执行此转换可以找到的最短回文。\n",
    "\n",
    "Example 1:\n",
    "    Input: \"aacecaaa\"\n",
    "    Output: \"aaacecaaa\"\n",
    "\n",
    "Example 2:\n",
    "    Input: \"abcd\"\n",
    "    Output: \"dcbabcd\""
   ]
  },
  {
   "cell_type": "code",
   "execution_count": 7,
   "metadata": {},
   "outputs": [],
   "source": [
    "class Solution:\n",
    "    def shortestPalindrome(self, s: str) -> str:\n",
    "        revs = s[::-1]\n",
    "        length = len(revs)\n",
    "        for i in range(length):\n",
    "            if revs[i:(length+i+1) // 2] == s[:(length-i+1)//2]:\n",
    "                return revs[:i] + s\n",
    "        return revs[:-1] + s"
   ]
  },
  {
   "cell_type": "code",
   "execution_count": 8,
   "metadata": {},
   "outputs": [
    {
     "name": "stdout",
     "output_type": "stream",
     "text": [
      "aaac\n",
      "aace\n"
     ]
    },
    {
     "data": {
      "text/plain": [
       "'aaacecaaa'"
      ]
     },
     "execution_count": 8,
     "metadata": {},
     "output_type": "execute_result"
    }
   ],
   "source": [
    "solution = Solution()\n",
    "solution.shortestPalindrome(\"aacecaaa\")"
   ]
  },
  {
   "cell_type": "code",
   "execution_count": null,
   "metadata": {},
   "outputs": [],
   "source": []
  }
 ],
 "metadata": {
  "kernelspec": {
   "display_name": "Python 3",
   "language": "python",
   "name": "python3"
  },
  "language_info": {
   "codemirror_mode": {
    "name": "ipython",
    "version": 3
   },
   "file_extension": ".py",
   "mimetype": "text/x-python",
   "name": "python",
   "nbconvert_exporter": "python",
   "pygments_lexer": "ipython3",
   "version": "3.6.2"
  }
 },
 "nbformat": 4,
 "nbformat_minor": 4
}
