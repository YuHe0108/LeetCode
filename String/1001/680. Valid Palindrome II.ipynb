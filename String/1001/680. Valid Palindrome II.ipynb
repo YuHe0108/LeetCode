{
 "cells": [
  {
   "cell_type": "raw",
   "metadata": {},
   "source": [
    "说明:\n",
    "    给定一个非空字符串s，您最多可以删除一个字符。判断是否可以使它回文。\n",
    "\n",
    "Example 1:\n",
    "    Input: \"aba\"\n",
    "    Output: True\n",
    "\n",
    "Example 2:\n",
    "    Input: \"abca\"\n",
    "    Output: True\n",
    "    Explanation: You could delete the character 'c'.\n",
    "\n",
    "Note:\n",
    "    1、he string will only contain lowercase characters a-z. The maximum length of the string is 50000."
   ]
  },
  {
   "cell_type": "code",
   "execution_count": 1,
   "metadata": {},
   "outputs": [],
   "source": [
    "class Solution:\n",
    "    def validPalindrome(self, s: str) -> bool:\n",
    "        l_idx, r_idx = 0, len(s)-1\n",
    "        while l_idx <= r_idx:\n",
    "            if s[l_idx] == s[r_idx]:\n",
    "                l_idx += 1\n",
    "                r_idx -= 1\n",
    "            else:\n",
    "                l_sub_str = s[l_idx+1:r_idx+1]\n",
    "                r_sub_str = s[l_idx:r_idx]\n",
    "                \n",
    "                if l_sub_str == l_sub_str[::-1] or r_sub_str  == r_sub_str[::-1]:\n",
    "                    return True\n",
    "                return False\n",
    "                \n",
    "        return l_idx >= r_idx"
   ]
  },
  {
   "cell_type": "code",
   "execution_count": null,
   "metadata": {},
   "outputs": [],
   "source": []
  }
 ],
 "metadata": {
  "kernelspec": {
   "display_name": "Python 3",
   "language": "python",
   "name": "python3"
  },
  "language_info": {
   "codemirror_mode": {
    "name": "ipython",
    "version": 3
   },
   "file_extension": ".py",
   "mimetype": "text/x-python",
   "name": "python",
   "nbconvert_exporter": "python",
   "pygments_lexer": "ipython3",
   "version": "3.6.2"
  }
 },
 "nbformat": 4,
 "nbformat_minor": 4
}
