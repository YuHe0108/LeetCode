{
 "cells": [
  {
   "cell_type": "raw",
   "metadata": {},
   "source": [
    "说明：\n",
    "    给您一个字符串s，返回字符串中的段数。\n",
    "    段定义为非空格字符的连续序列。\n",
    "\n",
    "Example 1:\n",
    "    Input: s = \"Hello, my name is John\"\n",
    "    Output: 5\n",
    "    Explanation: The five segments are [\"Hello,\", \"my\", \"name\", \"is\", \"John\"]\n",
    "\n",
    "Example 2:\n",
    "    Input: s = \"Hello\"\n",
    "    Output: 1\n",
    "\n",
    "Example 3:\n",
    "    Input: s = \"love live! mu'sic forever\"\n",
    "    Output: 4\n",
    "\n",
    "Example 4:\n",
    "    Input: s = \"\"\n",
    "    Output: 0\n",
    "\n",
    "Constraints:\n",
    "    1、0 <= s.length <= 300\n",
    "    2、s consists of lower-case and upper-case English letters, digits or one of the following characters \"!@#$%^&*()_+-=',.:\".\n",
    "    3、The only space character in s is ' '."
   ]
  },
  {
   "cell_type": "code",
   "execution_count": 116,
   "metadata": {},
   "outputs": [],
   "source": [
    "class Solution:\n",
    "    def countSegments(self, s: str) -> int:\n",
    "        if not s: return 0\n",
    "        stack = []\n",
    "        res = 0\n",
    "        for a in s:\n",
    "            if a != ' ':\n",
    "                stack.append(a)\n",
    "            elif stack:\n",
    "                res += 1\n",
    "                stack = []\n",
    "                \n",
    "        if stack:\n",
    "            res += 1\n",
    "        return res"
   ]
  },
  {
   "cell_type": "code",
   "execution_count": 117,
   "metadata": {},
   "outputs": [
    {
     "name": "stdout",
     "output_type": "stream",
     "text": [
      "['J', 'o', 'h', 'n']\n"
     ]
    },
    {
     "data": {
      "text/plain": [
       "5"
      ]
     },
     "execution_count": 117,
     "metadata": {},
     "output_type": "execute_result"
    }
   ],
   "source": [
    "solution = Solution()\n",
    "solution.countSegments(\"Hello, my name is John\")"
   ]
  },
  {
   "cell_type": "code",
   "execution_count": 44,
   "metadata": {},
   "outputs": [
    {
     "name": "stdout",
     "output_type": "stream",
     "text": [
      "97 122\n",
      "65 90\n"
     ]
    }
   ],
   "source": [
    "print(ord('a'), ord('z'))\n",
    "print(ord('A'), ord('Z'))"
   ]
  },
  {
   "cell_type": "code",
   "execution_count": null,
   "metadata": {},
   "outputs": [],
   "source": [
    "\"a, a, a, a, a, eaefa\""
   ]
  }
 ],
 "metadata": {
  "kernelspec": {
   "display_name": "Python 3",
   "language": "python",
   "name": "python3"
  },
  "language_info": {
   "codemirror_mode": {
    "name": "ipython",
    "version": 3
   },
   "file_extension": ".py",
   "mimetype": "text/x-python",
   "name": "python",
   "nbconvert_exporter": "python",
   "pygments_lexer": "ipython3",
   "version": "3.6.2"
  }
 },
 "nbformat": 4,
 "nbformat_minor": 4
}
