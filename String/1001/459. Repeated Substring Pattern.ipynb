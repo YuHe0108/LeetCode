{
 "cells": [
  {
   "cell_type": "raw",
   "metadata": {},
   "source": [
    "说明：\n",
    "    给定一个非空字符串，\n",
    "    检查是否可以通过获取其子字符串并将该子字符串的多个副本附加在一起来构造它。\n",
    "    您可以假定给定的字符串仅包含小写英文字母，并且其长度不会超过10000。\n",
    "\n",
    "Example 1:\n",
    "    Input: \"abab\"\n",
    "    Output: True\n",
    "    Explanation: It's the substring \"ab\" twice.\n",
    "\n",
    "Example 2:\n",
    "    Input: \"aba\"\n",
    "    Output: False\n",
    "\n",
    "Example 3:\n",
    "    Input: \"abcabcabcabc\"\n",
    "    Output: True\n",
    "    Explanation: It's the substring \"abc\" four times. (And the substring \"abcabc\" twice.)"
   ]
  },
  {
   "cell_type": "code",
   "execution_count": 37,
   "metadata": {},
   "outputs": [],
   "source": [
    "# 肯定得从s的第一个字母开始匹配\n",
    "class Solution:\n",
    "    def repeatedSubstringPattern(self, s: str) -> bool:\n",
    "        h_freq = {s[0]: []}\n",
    "        for i, a in enumerate(s):\n",
    "            if a == s[0] and i != 0:\n",
    "                h_freq[a].append(i)\n",
    "        \n",
    "        for i in h_freq[s[0]]:\n",
    "            sub_str = s[:i]\n",
    "            if len(s) % len(sub_str) != 0: \n",
    "                continue\n",
    "            if sub_str * (len(s) // len(sub_str)) == s:\n",
    "                return True\n",
    "        return False"
   ]
  },
  {
   "cell_type": "code",
   "execution_count": 42,
   "metadata": {},
   "outputs": [],
   "source": [
    "class Solution:\n",
    "    def repeatedSubstringPattern(self, s: str) -> bool:\n",
    "        return s in (2 * s)[1:-1]"
   ]
  },
  {
   "cell_type": "code",
   "execution_count": 43,
   "metadata": {},
   "outputs": [
    {
     "data": {
      "text/plain": [
       "False"
      ]
     },
     "execution_count": 43,
     "metadata": {},
     "output_type": "execute_result"
    }
   ],
   "source": [
    "solution = Solution()\n",
    "solution.repeatedSubstringPattern(\"aba\")"
   ]
  },
  {
   "cell_type": "code",
   "execution_count": 44,
   "metadata": {},
   "outputs": [
    {
     "name": "stdout",
     "output_type": "stream",
     "text": [
      "[2, 3]\n"
     ]
    }
   ],
   "source": [
    "a = [1, 2, 3, 4]\n",
    "print(a[1:-1])"
   ]
  },
  {
   "cell_type": "code",
   "execution_count": null,
   "metadata": {},
   "outputs": [],
   "source": [
    "abababab"
   ]
  }
 ],
 "metadata": {
  "kernelspec": {
   "display_name": "Python 3",
   "language": "python",
   "name": "python3"
  },
  "language_info": {
   "codemirror_mode": {
    "name": "ipython",
    "version": 3
   },
   "file_extension": ".py",
   "mimetype": "text/x-python",
   "name": "python",
   "nbconvert_exporter": "python",
   "pygments_lexer": "ipython3",
   "version": "3.6.2"
  }
 },
 "nbformat": 4,
 "nbformat_minor": 4
}
