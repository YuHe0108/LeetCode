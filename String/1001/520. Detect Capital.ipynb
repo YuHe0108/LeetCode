{
 "cells": [
  {
   "cell_type": "raw",
   "metadata": {},
   "source": [
    "说明：\n",
    "    给定一个单词，您需要判断其中的资本使用是否正确。\n",
    "    当以下情况之一成立时，我们将一个单词中的大写字母定义为正确：\n",
    "    1、该单词中的所有字母均为大写字母，例如“ USA”\n",
    "    2、。该单词中的所有字母都不大写，例如“ leetcode”。\n",
    "    3、该单词中只有第一个字母为大写字母，例如“ Google”。\n",
    "\n",
    "否则，我们定义该词不正确使用大写字母。\n",
    "注意：\n",
    "    输入的内容将为非空单词，由大写和小写拉丁字母组成。"
   ]
  },
  {
   "cell_type": "code",
   "execution_count": 4,
   "metadata": {},
   "outputs": [
    {
     "name": "stdout",
     "output_type": "stream",
     "text": [
      "97 122\n",
      "65 90\n"
     ]
    }
   ],
   "source": [
    "class Solution:\n",
    "    def detectCapitalUse(self, word: str) -> bool:\n",
    "        f_upper = True if 65 <= ord(word[0]) <= 90 else False # 首字母是否是大写\n",
    "        t_upper = False # word[1:]之后是否还有大写\n",
    "        t_lower = False # word[1:]之后是否是含有小写\n",
    "        for i in range(1, len(word)):\n",
    "            w = word[i]\n",
    "            # 首字母不是大写，后面不能出现大写\n",
    "            if not f_upper and 65 <= ord(w) <= 90:\n",
    "                return False\n",
    "            if f_upper:\n",
    "                # 首字母大写，后面只能出现小写，或者只能大写\n",
    "                if 65 <= ord(w) <= 90:\n",
    "                    t_upper = True\n",
    "                else:\n",
    "                    t_lower = True\n",
    "                # 出现了两个大写，但是同时又有小写，为False\n",
    "                if t_upper and t_lower:\n",
    "                    return False\n",
    "        return True\n",
    "                \n",
    "            "
   ]
  },
  {
   "cell_type": "code",
   "execution_count": null,
   "metadata": {},
   "outputs": [],
   "source": []
  }
 ],
 "metadata": {
  "kernelspec": {
   "display_name": "Python 3",
   "language": "python",
   "name": "python3"
  },
  "language_info": {
   "codemirror_mode": {
    "name": "ipython",
    "version": 3
   },
   "file_extension": ".py",
   "mimetype": "text/x-python",
   "name": "python",
   "nbconvert_exporter": "python",
   "pygments_lexer": "ipython3",
   "version": "3.6.2"
  }
 },
 "nbformat": 4,
 "nbformat_minor": 4
}
