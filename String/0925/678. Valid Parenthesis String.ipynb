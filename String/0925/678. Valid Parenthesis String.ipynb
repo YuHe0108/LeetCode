{
 "cells": [
  {
   "cell_type": "raw",
   "metadata": {},
   "source": [
    "说明：\n",
    "    给定一个仅包含三种类型的字符的字符串：'('，')'和 '*', 编写一个函数来检查此字符串是否有效。\n",
    "    我们通过以下规则定义字符串的有效性：\n",
    "    \n",
    "    1、任何左括号'（'必须具有对应的右括号'）'。\n",
    "    2、任何右括号'）'必须具有对应的左括号'（'。\n",
    "    3、左括号'（'必须位于相应的右括号'）'之前。\n",
    "    4、'*'可被视为单个右括号'）'或单个左括号括号'（'或空字符串。\n",
    "    5、空字符串也有效。\n",
    "\n",
    "Example 1:\n",
    "    Input: \"()\"\n",
    "    Output: True\n",
    "\n",
    "Example 2:\n",
    "    Input: \"(*)\"\n",
    "    Output: True\n",
    "\n",
    "Example 3:\n",
    "    Input: \"(*))\"\n",
    "    Output: True\n",
    "\n",
    "Note:\n",
    "1、The string size will be in the range [1, 100]."
   ]
  },
  {
   "cell_type": "code",
   "execution_count": 87,
   "metadata": {},
   "outputs": [],
   "source": [
    "class Solution:\n",
    "    def checkValidString(self, s: str) -> bool:\n",
    "        while s != s.replace(\"()\", \"\"):\n",
    "            s = s.replace(\"()\", \"\")\n",
    "            \n",
    "        queue = []\n",
    "        for i in range(len(s)):\n",
    "            if s[i] in ['(', '*']:\n",
    "                queue.append(1)\n",
    "            else:\n",
    "                if queue:\n",
    "                    queue.pop()\n",
    "                else:\n",
    "                    return False\n",
    "        \n",
    "        \"\"\"第二个循环，从右到左，是检查是否有补充的 \"(\" 在 \")\" 之后。例如，像 \"*)(\" 这样的字符串将无法通过第二个循环.\"\"\"\n",
    "        queue = []\n",
    "        for i in range(len(s)-1, -1, -1):\n",
    "            if s[i] in [')', \"*\"]:\n",
    "                queue.append(1)\n",
    "            else:\n",
    "                if queue:\n",
    "                    queue.pop()\n",
    "                else:\n",
    "                    return False\n",
    "        return True"
   ]
  },
  {
   "cell_type": "code",
   "execution_count": 88,
   "metadata": {},
   "outputs": [
    {
     "data": {
      "text/plain": [
       "True"
      ]
     },
     "execution_count": 88,
     "metadata": {},
     "output_type": "execute_result"
    }
   ],
   "source": [
    "solution = Solution()\n",
    "solution.checkValidString(\"(*)\")"
   ]
  },
  {
   "cell_type": "code",
   "execution_count": null,
   "metadata": {},
   "outputs": [],
   "source": [
    "class Solution:\n",
    "    def checkValidString(self, s: str) -> bool:\n",
    "        l_count = 0\n",
    "        s_count = 0\n",
    "        for i, val in enumerate(s):\n",
    "            if val == '(':\n",
    "                l_count += 1\n",
    "            elif val == '*':\n",
    "                s_count += 1\n",
    "            elif val == ')' and (l_count > 0 or s_count > 0):\n",
    "                if s_count > 0: \n",
    "                    s_count -= 1\n",
    "                    break\n",
    "                if l_count > 0: \n",
    "                    l_count -= 1\n",
    "                    continue\n",
    "            else:\n",
    "                return False\n",
    "        if l_count == 0 or l_count - s_count <= 0:\n",
    "            return True\n",
    "        return False"
   ]
  }
 ],
 "metadata": {
  "kernelspec": {
   "display_name": "Python 3",
   "language": "python",
   "name": "python3"
  },
  "language_info": {
   "codemirror_mode": {
    "name": "ipython",
    "version": 3
   },
   "file_extension": ".py",
   "mimetype": "text/x-python",
   "name": "python",
   "nbconvert_exporter": "python",
   "pygments_lexer": "ipython3",
   "version": "3.6.2"
  }
 },
 "nbformat": 4,
 "nbformat_minor": 4
}
