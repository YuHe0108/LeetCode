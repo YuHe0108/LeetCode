{
 "cells": [
  {
   "cell_type": "raw",
   "metadata": {},
   "source": [
    "说明：\n",
    "    给定两个单词word1和word2，找到使单词1和单词2相同所需的最小步骤数，在每个步骤中，您可以删除任一字符串中的一个字符。\n",
    "\n",
    "Example 1:\n",
    "    Input: \"sea\", \"eat\"\n",
    "    Output: 2\n",
    "    Explanation: You need one step to make \"sea\" to \"ea\" and another step to make \"eat\" to \"ea\".\n",
    "\n",
    "Note:\n",
    "    1、The length of given words won't exceed 500.\n",
    "    2、Characters in given words can only be lower-case letters.    "
   ]
  },
  {
   "cell_type": "code",
   "execution_count": 5,
   "metadata": {},
   "outputs": [],
   "source": [
    "class Solution:\n",
    "    def minDistance(self, w1: str, w2: str) -> int:\n",
    "        w1 = '#' + w1\n",
    "        w2 = '#' + w2\n",
    "        w1_len, w2_len = len(w1), len(w2)\n",
    "        dp = [[0] * w2_len for _ in range(w1_len)]\n",
    "        \n",
    "        for i in range(1, w1_len):\n",
    "            dp[i][0] = dp[i-1][0] + 1\n",
    "        \n",
    "        for j in range(1, w2_len):\n",
    "            dp[0][j] = dp[0][j-1] + 1\n",
    "        \n",
    "        for i in range(1, w1_len):\n",
    "            for j in range(1, w2_len):\n",
    "                if w1[i] == w2[j]:\n",
    "                    dp[i][j] = dp[i-1][j-1]\n",
    "                else:\n",
    "                    dp[i][j] = min(dp[i-1][j] + 1, dp[i][j-1] + 1)\n",
    "        return dp[-1][-1]"
   ]
  },
  {
   "cell_type": "code",
   "execution_count": 6,
   "metadata": {},
   "outputs": [
    {
     "data": {
      "text/plain": [
       "2"
      ]
     },
     "execution_count": 6,
     "metadata": {},
     "output_type": "execute_result"
    }
   ],
   "source": [
    "solution = Solution()\n",
    "solution.minDistance('sea', 'eat')"
   ]
  },
  {
   "cell_type": "code",
   "execution_count": null,
   "metadata": {},
   "outputs": [],
   "source": []
  }
 ],
 "metadata": {
  "kernelspec": {
   "display_name": "Python 3",
   "language": "python",
   "name": "python3"
  },
  "language_info": {
   "codemirror_mode": {
    "name": "ipython",
    "version": 3
   },
   "file_extension": ".py",
   "mimetype": "text/x-python",
   "name": "python",
   "nbconvert_exporter": "python",
   "pygments_lexer": "ipython3",
   "version": "3.6.2"
  }
 },
 "nbformat": 4,
 "nbformat_minor": 4
}
