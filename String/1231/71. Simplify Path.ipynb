{
 "cells": [
  {
   "cell_type": "code",
   "execution_count": null,
   "metadata": {},
   "outputs": [],
   "source": []
  },
  {
   "cell_type": "code",
   "execution_count": null,
   "metadata": {},
   "outputs": [],
   "source": []
  },
  {
   "cell_type": "code",
   "execution_count": null,
   "metadata": {},
   "outputs": [],
   "source": []
  },
  {
   "cell_type": "code",
   "execution_count": 226,
   "metadata": {},
   "outputs": [],
   "source": [
    "class Solution:\n",
    "    def simplifyPath(self, path: str) -> str:\n",
    "        list_path = []\n",
    "        idx = 0\n",
    "        while idx < len(path):\n",
    "            if path[idx] == '/' and list_path and list_path[-1] == '/':                \n",
    "                idx += 1\n",
    "                continue\n",
    "            if path[idx].isalpha():\n",
    "                temp = ''\n",
    "                while idx < len(path) and (path[idx].isalpha() or path[idx] == '_'):\n",
    "                    temp += path[idx]\n",
    "                    idx += 1\n",
    "                list_path.append(temp)\n",
    "                continue\n",
    "            elif path[idx] == '.':\n",
    "                temp = ''\n",
    "                while idx < len(path) and path[idx] != '/':\n",
    "                    temp += path[idx]\n",
    "                    idx += 1\n",
    "                list_path.append(temp)\n",
    "                continue\n",
    "            idx += 1\n",
    "        \n",
    "        stack = []\n",
    "        for p in list_path:\n",
    "            if p == '.':\n",
    "                continue\n",
    "            if p == '..':\n",
    "                if stack:\n",
    "                    stack.pop()\n",
    "            else:\n",
    "                if stack and stack[-1] == '.' and p == '.':\n",
    "                    continue\n",
    "                stack.append(p)\n",
    "      \n",
    "        while len(stack) > 1 and stack[-1] == '':\n",
    "            stack.pop()\n",
    "        res = ''\n",
    "        for i, v in enumerate(stack):\n",
    "            res += '/' + v\n",
    "        return res if res else '/'"
   ]
  },
  {
   "cell_type": "code",
   "execution_count": null,
   "metadata": {},
   "outputs": [],
   "source": [
    "class Solution:\n",
    "    def simplifyPath(self, path: str) -> str:\n",
    "        list_path = path.split('/')\n",
    "        "
   ]
  },
  {
   "cell_type": "code",
   "execution_count": null,
   "metadata": {},
   "outputs": [],
   "source": [
    "solution = Solution()\n",
    "solution.simplifyPath(\"/a//b////c/d//././/..\")"
   ]
  },
  {
   "cell_type": "code",
   "execution_count": null,
   "metadata": {},
   "outputs": [],
   "source": []
  },
  {
   "cell_type": "code",
   "execution_count": 236,
   "metadata": {},
   "outputs": [],
   "source": [
    "class Solution:\n",
    "    def simplifyPath(self, path: str) -> str:\n",
    "        stack = []\n",
    "        path = path.split('/')\n",
    "        for i in path:\n",
    "            if i == '..':\n",
    "                if stack:\n",
    "                    stack.pop()\n",
    "            elif i != '' and i != '.':\n",
    "                stack.append(i)\n",
    "        print(stack)\n",
    "        return '/' + '/'.join(stack)"
   ]
  },
  {
   "cell_type": "code",
   "execution_count": 237,
   "metadata": {},
   "outputs": [
    {
     "name": "stdout",
     "output_type": "stream",
     "text": [
      "['', 'a', '', 'b', '', '', '', 'c', 'd', '', '.', '.', '', '..']\n",
      "['a', 'b', 'c']\n"
     ]
    },
    {
     "data": {
      "text/plain": [
       "'/a/b/c'"
      ]
     },
     "execution_count": 237,
     "metadata": {},
     "output_type": "execute_result"
    }
   ],
   "source": [
    "solution = Solution()\n",
    "solution.simplifyPath(\"/a//b////c/d//././/..\")"
   ]
  },
  {
   "cell_type": "code",
   "execution_count": null,
   "metadata": {},
   "outputs": [],
   "source": []
  }
 ],
 "metadata": {
  "kernelspec": {
   "display_name": "Python 3",
   "language": "python",
   "name": "python3"
  },
  "language_info": {
   "codemirror_mode": {
    "name": "ipython",
    "version": 3
   },
   "file_extension": ".py",
   "mimetype": "text/x-python",
   "name": "python",
   "nbconvert_exporter": "python",
   "pygments_lexer": "ipython3",
   "version": "3.6.2"
  }
 },
 "nbformat": 4,
 "nbformat_minor": 4
}
