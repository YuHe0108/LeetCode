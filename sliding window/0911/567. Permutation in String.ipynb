{
 "cells": [
  {
   "cell_type": "raw",
   "metadata": {},
   "source": [
    "说明：\n",
    "    给定两个字符串s1和s2，如果s2包含s1的排列，则编写一个函数以返回true。\n",
    "    换句话说，第一个字符串的排列之一是第二个字符串的子字符串。\n",
    "\n",
    "要求：\n",
    "    1、s2中包含s1的排列即可，但是需要连续\n",
    "\n",
    "Example 1:\n",
    "    Input: s1 = \"ab\" s2 = \"eidbaooo\"\n",
    "    Output: True\n",
    "    Explanation: s2 contains one permutation of s1 (\"ba\").\n",
    "\n",
    "Example 2:\n",
    "    Input:s1= \"ab\" s2 = \"eidboaoo\"\n",
    "    Output: False\n",
    "\n",
    "限制：\n",
    "    1、只包含小写的字符.\n",
    "    2、两个字符串的长度 [1, 10,000]."
   ]
  },
  {
   "cell_type": "code",
   "execution_count": 26,
   "metadata": {},
   "outputs": [],
   "source": [
    "# 虽然能够通过，但是时间复杂度过高\n",
    "class Solution:\n",
    "    def checkInclusion(self, s1: str, s2: str) -> bool:\n",
    "        s1_len, s2_len = len(s1), len(s2)\n",
    "        if s2_len < s1_len: return False\n",
    "        \n",
    "        left = right = 0\n",
    "        sort_s1 = sorted(s1)\n",
    "        while left < s2_len - s1_len:\n",
    "            val = s2[left]\n",
    "            if val in s1:\n",
    "                temp = s2[left:left+s1_len]\n",
    "                sort_temp = sorted(temp)\n",
    "                if sort_temp == sort_s1:\n",
    "                    return True\n",
    "            left += 1\n",
    "            \n",
    "        temp = s2[left:]\n",
    "        sort_temp = sorted(temp)\n",
    "        if sort_temp == sort_s1:\n",
    "            return True\n",
    "        return False "
   ]
  },
  {
   "cell_type": "code",
   "execution_count": null,
   "metadata": {},
   "outputs": [],
   "source": []
  },
  {
   "cell_type": "code",
   "execution_count": 34,
   "metadata": {},
   "outputs": [],
   "source": [
    "# 使用 Counter 判断两个字符是否相同，时间复杂度降低一半\n",
    "from collections import Counter\n",
    "\n",
    "class Solution:\n",
    "    def checkInclusion(self, s1: str, s2: str) -> bool:\n",
    "        s1_len, s2_len = len(s1), len(s2)\n",
    "        if s2_len < s1_len: return False\n",
    "        \n",
    "        left = right = 0\n",
    "        c_s1 = Counter(s1)\n",
    "        while left < s2_len - s1_len:\n",
    "            val = s2[left]\n",
    "            if val in s1:\n",
    "                temp = s2[left:left+s1_len]\n",
    "                c_temp = Counter(temp)\n",
    "                if c_temp == c_s1:\n",
    "                    return True\n",
    "            left += 1\n",
    "            \n",
    "        temp = s2[left:]\n",
    "        c_temp = Counter(temp)\n",
    "        if c_temp == c_s1:\n",
    "            return True\n",
    "        return False "
   ]
  },
  {
   "cell_type": "code",
   "execution_count": 48,
   "metadata": {},
   "outputs": [],
   "source": [
    "class Solution:\n",
    "    def checkInclusion(self, s1: str, s2: str) -> bool:\n",
    "        s1_len, s2_len = len(s1), len(s2)\n",
    "        if s2_len < s1_len: return False\n",
    "        A = [ord(x) - ord('a') for x in s1] # 'a': 0, 'b': 1 ----- 'z': 26\n",
    "        B = [ord(x) - ord('a') for x in s2]\n",
    "        \n",
    "        target = [0] * 26\n",
    "        for x in A:\n",
    "            target[x] += 1\n",
    "            \n",
    "        window = [0] * 26\n",
    "        for i, x in enumerate(B):\n",
    "            window[x] += 1\n",
    "            if i >= len(A):\n",
    "                window[B[i - len(A)]] -= 1\n",
    "            if window == target:\n",
    "                return True\n",
    "        return False"
   ]
  },
  {
   "cell_type": "code",
   "execution_count": 105,
   "metadata": {},
   "outputs": [],
   "source": [
    "class Solution:\n",
    "    def checkInclusion(self, s1: str, s2: str) -> bool:\n",
    "        s1_len, s2_len = len(s1), len(s2)\n",
    "        if s2_len < s1_len: return False\n",
    "        \n",
    "        s1_ord = [ord(x) - ord('a') for x in s1]\n",
    "        s2_ord = [ord(x) - ord('a') for x in s2]\n",
    "        \n",
    "        target = [0] * 26\n",
    "        for x in s1_ord:\n",
    "            target[x] += 1\n",
    "        \n",
    "        window = [0] * 26\n",
    "        left = 0\n",
    "        while left < s2_len - s1_len:\n",
    "            if s2_ord[left] in s1_ord: # 表示已经匹配到s1中的元素\n",
    "                for k in range(s1_len):\n",
    "                    window[s2_ord[left + k]] += 1 \n",
    "                if window == target:\n",
    "                    return True\n",
    "                else:\n",
    "                    window = [0] * 26\n",
    "            left += 1\n",
    "        \n",
    "        if s2_ord[left] in s1_ord: # 表示已经匹配到s1中的元素\n",
    "            for k in range(s1_len):\n",
    "                window[s2_ord[left + k]] += 1 \n",
    "            if window == s1_ord:\n",
    "                return True\n",
    "        return False"
   ]
  },
  {
   "cell_type": "code",
   "execution_count": 106,
   "metadata": {},
   "outputs": [
    {
     "data": {
      "text/plain": [
       "True"
      ]
     },
     "execution_count": 106,
     "metadata": {},
     "output_type": "execute_result"
    }
   ],
   "source": [
    "s1_ = 'ab'\n",
    "s2_ = 'eidbaooo'\n",
    "solution = Solution()\n",
    "solution.checkInclusion(s1_, s2_)"
   ]
  },
  {
   "cell_type": "code",
   "execution_count": null,
   "metadata": {},
   "outputs": [],
   "source": []
  }
 ],
 "metadata": {
  "kernelspec": {
   "display_name": "Python 3",
   "language": "python",
   "name": "python3"
  },
  "language_info": {
   "codemirror_mode": {
    "name": "ipython",
    "version": 3
   },
   "file_extension": ".py",
   "mimetype": "text/x-python",
   "name": "python",
   "nbconvert_exporter": "python",
   "pygments_lexer": "ipython3",
   "version": "3.6.2"
  }
 },
 "nbformat": 4,
 "nbformat_minor": 4
}
