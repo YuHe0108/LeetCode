{
 "cells": [
  {
   "cell_type": "raw",
   "metadata": {},
   "source": [
    "说明：\n",
    "    今天，书店老板开了一家商店 customer.length 分钟。每\n",
    "    分钟都有一些顾客（顾客[i]）进入商店，这些顾客在那一分钟结束后离开。\n",
    "    有时，书店老板脾气暴躁。如果书店老板在第i分钟脾气暴躁，\n",
    "    暴躁[i]=1，否则不暴躁[i]=0。\n",
    "    当书店老板脾气暴躁时，那一分钟的顾客是不满意的，否则他们就满意了。\n",
    "    书店老板知道一个秘密技巧，可以让自己在X分钟内不发脾气，但只能用一次。\n",
    "    返回全天可满足的最大客户数。\n",
    "\n",
    "说明：\n",
    "    1、customers: 客户在第 i 分钟进来的人数\n",
    "\n",
    "Example 1:\n",
    "    Input: customers = [1,0,1,2,1,1,7,5], grumpy = [0,1,0,1,0,1,0,1], X = 3\n",
    "    Output: 16\n",
    "    Explanation: The bookstore owner keeps themselves not grumpy for the last 3 minutes. \n",
    "                 The maximum number of customers that can be satisfied = 1 + 1 + 1 + 1 + 7 + 5 = 16.\n",
    "\n",
    "Note:\n",
    "    1、1 <= X <= customers.length == grumpy.length <= 20000\n",
    "    2、0 <= customers[i] <= 1000\n",
    "    3、0 <= grumpy[i] <= 1"
   ]
  },
  {
   "cell_type": "markdown",
   "metadata": {},
   "source": [
    "<img src='1052.jpg'>"
   ]
  },
  {
   "cell_type": "code",
   "execution_count": null,
   "metadata": {},
   "outputs": [],
   "source": []
  },
  {
   "cell_type": "code",
   "execution_count": null,
   "metadata": {},
   "outputs": [],
   "source": [
    "customers_ = [10,1,7]\n",
    "grumpy_ = [0,0,0]\n",
    "X_ = 2\n",
    "solution = Solution()\n",
    "solution.maxSatisfied(customers_, grumpy_, X_)"
   ]
  },
  {
   "cell_type": "code",
   "execution_count": null,
   "metadata": {},
   "outputs": [],
   "source": []
  },
  {
   "cell_type": "code",
   "execution_count": 73,
   "metadata": {},
   "outputs": [],
   "source": [
    "class Solution:\n",
    "    def maxSatisfied(self, customers, grumpy, X: int) -> int:\n",
    "        # X 就是窗户，滑动这个窗户，使得在customer中的 sum 最大\n",
    "        left, idx, max_count = 0, 0, 0\n",
    "        \n",
    "        while idx < len(customers):\n",
    "            temp_arry = [x for x in grumpy]\n",
    "            if left < len(grumpy) - X:\n",
    "                temp_arry[left: left+X+1] = [1] * (X+1)\n",
    "            elif left == len(grumpy):\n",
    "                break\n",
    "            else:\n",
    "                for i in range(len(grumpy) - left):\n",
    "                    temp_arry[left+i] = 1\n",
    "            left += 1\n",
    "            val = 0\n",
    "            for i in range(len(customers)):\n",
    "                val += customers[i] * temp_arry[i]\n",
    "            max_count = max(max_count, val)\n",
    "        return max_count"
   ]
  },
  {
   "cell_type": "code",
   "execution_count": 79,
   "metadata": {},
   "outputs": [],
   "source": [
    "class Solution:\n",
    "    def maxSatisfied(self, customers, grumpy, X: int) -> int:\n",
    "        # X 就是窗户，滑动这个窗户，使得在customer中的 sum 最大\n",
    "        s, m, temp = 0, 0, 0\n",
    "        for i in range(len(customers)):\n",
    "            if not grumpy[i]: # grumpy[i] == 0的时候，不愤怒\n",
    "                s += customers[i]\n",
    "                customers[i] = 0\n",
    "            else:\n",
    "                temp += customers[i]\n",
    "            \n",
    "            # 需找窗口下的最大值\n",
    "            if i >= X:\n",
    "                temp -= customers[i-X]\n",
    "            m = max(m, temp)\n",
    "        return s+m"
   ]
  },
  {
   "cell_type": "code",
   "execution_count": 80,
   "metadata": {},
   "outputs": [
    {
     "data": {
      "text/plain": [
       "18"
      ]
     },
     "execution_count": 80,
     "metadata": {},
     "output_type": "execute_result"
    }
   ],
   "source": [
    "customers_ = [10,1,7]\n",
    "grumpy_ = [0,0,0]\n",
    "X_ = 2\n",
    "solution = Solution()\n",
    "solution.maxSatisfied(customers_, grumpy_, X_)"
   ]
  },
  {
   "cell_type": "code",
   "execution_count": 12,
   "metadata": {},
   "outputs": [
    {
     "data": {
      "text/plain": [
       "[0, 0, 0]"
      ]
     },
     "execution_count": 12,
     "metadata": {},
     "output_type": "execute_result"
    }
   ],
   "source": [
    "a = [0, 0, 0, 1, 1, 1]\n",
    "a[0:0+3]"
   ]
  },
  {
   "cell_type": "code",
   "execution_count": 23,
   "metadata": {},
   "outputs": [
    {
     "data": {
      "text/plain": [
       "[1, 10]"
      ]
     },
     "execution_count": 23,
     "metadata": {},
     "output_type": "execute_result"
    }
   ],
   "source": [
    "a = [1, 2]\n",
    "b = a\n",
    "b[1] = 10\n",
    "a"
   ]
  },
  {
   "cell_type": "code",
   "execution_count": 43,
   "metadata": {},
   "outputs": [
    {
     "data": {
      "text/plain": [
       "[1, 2, 3]"
      ]
     },
     "execution_count": 43,
     "metadata": {},
     "output_type": "execute_result"
    }
   ],
   "source": [
    "a = [1, 2, 3]\n",
    "a[0:3]"
   ]
  },
  {
   "cell_type": "code",
   "execution_count": null,
   "metadata": {},
   "outputs": [],
   "source": []
  }
 ],
 "metadata": {
  "kernelspec": {
   "display_name": "Python 3",
   "language": "python",
   "name": "python3"
  },
  "language_info": {
   "codemirror_mode": {
    "name": "ipython",
    "version": 3
   },
   "file_extension": ".py",
   "mimetype": "text/x-python",
   "name": "python",
   "nbconvert_exporter": "python",
   "pygments_lexer": "ipython3",
   "version": "3.6.2"
  }
 },
 "nbformat": 4,
 "nbformat_minor": 4
}
