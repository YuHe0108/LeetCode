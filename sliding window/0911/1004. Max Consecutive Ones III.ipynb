{
 "cells": [
  {
   "cell_type": "raw",
   "metadata": {},
   "source": [
    "说明：\n",
    "    给定数组A为0和1s，我们最多可以将K值从0更改为1。\n",
    "    返回仅包含1s的最长（连续）子数组的长度。\n",
    "\n",
    "Example 1:\n",
    "    Input: A = [1,1,1,0,0,0,1,1,1,1,0], K = 2\n",
    "    Output: 6\n",
    "    Explanation: \n",
    "        [1,1,1,0,0,1,1,1,1,1,1]\n",
    "    Bolded numbers were flipped from 0 to 1.  The longest subarray is underlined.\n",
    "\n",
    "Example 2:\n",
    "    Input: A = [0,0,1,1,0,0,1,1,1,0,1,1,0,0,0,1,1,1,1], K = 3\n",
    "    Output: 10\n",
    "    Explanation: \n",
    "        [0,0,1,1,1,1,1,1,1,1,1,1,0,0,0,1,1,1,1]\n",
    "    Bolded numbers were flipped from 0 to 1.  The longest subarray is underlined.\n",
    " \n",
    "Note:\n",
    "    1、1 <= A.length <= 20000\n",
    "    2、0 <= K <= A.length\n",
    "    3、A[i] is 0 or 1 "
   ]
  },
  {
   "cell_type": "code",
   "execution_count": 41,
   "metadata": {},
   "outputs": [],
   "source": [
    "\n",
    "class Solution:\n",
    "    def longestOnes(self, A, K: int) -> int:\n",
    "        max_count, left, right = 0, 0, 0\n",
    "        one_freq = 0\n",
    "        while right < len(A):\n",
    "            val = A[right]\n",
    "            if val == 1:\n",
    "                one_freq += 1\n",
    "            \n",
    "            right += 1\n",
    "            while right - left - one_freq > K:\n",
    "                if one_freq > 0 and A[left] == 1:\n",
    "                    one_freq -= 1\n",
    "                left += 1\n",
    "            max_count = max(max_count, right - left)\n",
    "        return max_count"
   ]
  },
  {
   "cell_type": "code",
   "execution_count": 42,
   "metadata": {},
   "outputs": [
    {
     "name": "stdout",
     "output_type": "stream",
     "text": [
      "2\n",
      "1\n",
      "0\n",
      "0\n",
      "4\n"
     ]
    },
    {
     "data": {
      "text/plain": [
       "6"
      ]
     },
     "execution_count": 42,
     "metadata": {},
     "output_type": "execute_result"
    }
   ],
   "source": [
    "A_ = [1,1,1,0,0,0,1,1,1,1,0]\n",
    "K_ = 2\n",
    "solution = Solution()\n",
    "solution.longestOnes(A_, K_)"
   ]
  },
  {
   "cell_type": "code",
   "execution_count": null,
   "metadata": {},
   "outputs": [],
   "source": [
    "class Solution:\n",
    "    def longestOnes(self, A, K: int) -> int:\n",
    "        max_count, left, right = 0, 0, 0\n",
    "        pass"
   ]
  },
  {
   "cell_type": "code",
   "execution_count": 2,
   "metadata": {},
   "outputs": [],
   "source": [
    "A_ = [1,1,1,0,0,0,1,1,1,1,0]\n",
    "K_ = 2\n",
    "solution = Solution()\n",
    "solution.longestOnes(A_, K_)"
   ]
  },
  {
   "cell_type": "code",
   "execution_count": null,
   "metadata": {},
   "outputs": [],
   "source": []
  }
 ],
 "metadata": {
  "kernelspec": {
   "display_name": "Python 3",
   "language": "python",
   "name": "python3"
  },
  "language_info": {
   "codemirror_mode": {
    "name": "ipython",
    "version": 3
   },
   "file_extension": ".py",
   "mimetype": "text/x-python",
   "name": "python",
   "nbconvert_exporter": "python",
   "pygments_lexer": "ipython3",
   "version": "3.6.2"
  }
 },
 "nbformat": 4,
 "nbformat_minor": 4
}
