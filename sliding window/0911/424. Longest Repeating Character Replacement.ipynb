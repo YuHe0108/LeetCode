{
 "cells": [
  {
   "cell_type": "raw",
   "metadata": {},
   "source": [
    "说明：\n",
    "    给定一个仅包含大写英文字母的字符串s，您最多可以对该字符串执行k次操作。\n",
    "    在一个操作中，您可以选择字符串的任何字符并将其更改为任何其他大写英文字符。\n",
    "    查找包含执行上述操作后，可以获得的所有重复字母的最长子字符串的长度。\n",
    "   \n",
    "要求：\n",
    "    1、执行k次操作，每一次都可以更改s中的字符串，\n",
    "    2、求执行完k次操作之后，s中最长重读字符的长度\n",
    "\n",
    "注意：\n",
    "    1、字符串的长度和k都不得超过104。\n",
    "    \n",
    "\n",
    "Example 1:\n",
    "    Input:\n",
    "        s = \"ABAB\", k = 2\n",
    "    Output:\n",
    "        4\n",
    "    Explanation:\n",
    "        Replace the two 'A's with two 'B's or vice versa.\n",
    "\n",
    "Example 2:\n",
    "    Input:\n",
    "        s = \"AABABBA\", k = 1\n",
    "    Output:\n",
    "        4\n",
    "    Explanation:\n",
    "        Replace the one 'A' in the middle with 'B' and form \"AABBBBA\".\n",
    "        The substring \"BBBB\" has the longest repeating letters, which is 4."
   ]
  },
  {
   "cell_type": "raw",
   "metadata": {},
   "source": [
    " 解题的关键：\n",
    "     1、字符串的长度： right - left + 1\n",
    "     2、统计出现最多的词频：max_freq\n",
    "     3、其他词频 < k 才可以"
   ]
  },
  {
   "cell_type": "code",
   "execution_count": null,
   "metadata": {},
   "outputs": [],
   "source": [
    "class Solution:\n",
    "    def characterReplacement(self, s: str, k: int) -> int:\n",
    "        if not s: return 0\n",
    "        left, right = 0, 0\n",
    "        max_count = -float('inf')\n",
    "        max_freq = 0\n",
    "        freq_dict = {}\n",
    "        \n",
    "        while right < len(s):\n",
    "            val = s[right]\n",
    "            if val not in freq_dict:\n",
    "                freq_dict[val] = 1\n",
    "            else:\n",
    "                freq_dict[val] += 1\n",
    "            \n",
    "            # 记录在 s[left:right] 的字符串中，出现次数最多的字符频数\n",
    "            max_freq = max(max_freq, freq_dict[val])\n",
    "            \n",
    "            # right-left + 1总字符的长度 - 出现次数最多字符的频数\n",
    "            # 等于其他出现次数比较少的字符的总和\n",
    "            if right - left + 1 - max_freq > k:\n",
    "                freq_dict[s[left]] -= 1\n",
    "                left += 1\n",
    "            max_count = max(max_count, right - left + 1)\n",
    "        \n",
    "            right += 1\n",
    "        return max_count"
   ]
  },
  {
   "cell_type": "code",
   "execution_count": null,
   "metadata": {},
   "outputs": [],
   "source": []
  },
  {
   "cell_type": "code",
   "execution_count": null,
   "metadata": {},
   "outputs": [],
   "source": []
  },
  {
   "cell_type": "code",
   "execution_count": null,
   "metadata": {},
   "outputs": [],
   "source": []
  },
  {
   "cell_type": "code",
   "execution_count": null,
   "metadata": {},
   "outputs": [],
   "source": [
    "# 时间复杂度过高，不能通过\n",
    "from collections import Counter\n",
    "\n",
    "class Solution:\n",
    "    def characterReplacement(self, s: str, k: int) -> int:\n",
    "        if not s: return 0\n",
    "        \n",
    "        max_count, left = -float('inf'), 0\n",
    "        while left < len(s):\n",
    "            for i in range(left, len(s) + 1):\n",
    "                counter = Counter(s[left:i])\n",
    "                if len(counter) >= 2:\n",
    "                    # 按字母出现的频数排序，出现次数最少的排在最后面\n",
    "                    list_counter = counter.most_common() \n",
    "                    total_freq = sum(counter.values())\n",
    "                    less_freq = total_freq - list_counter[0][-1]\n",
    "                    if less_freq <= k: # 出现次数较少的字母 <= k\n",
    "                        max_count = max(max_count, total_freq)\n",
    "                    else:\n",
    "                        break\n",
    "                else:\n",
    "                    max_count = max(max_count, i-left)\n",
    "            left += 1\n",
    "        return max_count"
   ]
  },
  {
   "cell_type": "code",
   "execution_count": null,
   "metadata": {},
   "outputs": [],
   "source": [
    "class Solution:\n",
    "    def characterReplacement(self, s: str, k: int) -> int:\n",
    "        if not s: return 0\n",
    "        \n",
    "        left, right, result = 0, 0, 0\n",
    "        max_freq = -1\n",
    "        cur_freq = {}\n",
    "        while right < len(s):\n",
    "            val = s[right]\n",
    "            if val in cur_freq:\n",
    "                cur_freq[val] = 1\n",
    "            else:\n",
    "                cur_freq[val] += 1\n",
    "            max_freq = max(max_freq, cur_freq[val])\n",
    "            while right - left + 1 - max_freq > k :\n",
    "                cur_freq[s[left]] -= 1\n",
    "                left += 1\n",
    "            result = max(result, right - left + 1)\n",
    "            right += 1\n",
    "        return result"
   ]
  },
  {
   "cell_type": "code",
   "execution_count": null,
   "metadata": {},
   "outputs": [],
   "source": []
  },
  {
   "cell_type": "code",
   "execution_count": null,
   "metadata": {},
   "outputs": [],
   "source": []
  },
  {
   "cell_type": "code",
   "execution_count": null,
   "metadata": {},
   "outputs": [],
   "source": []
  },
  {
   "cell_type": "code",
   "execution_count": null,
   "metadata": {},
   "outputs": [],
   "source": []
  },
  {
   "cell_type": "code",
   "execution_count": null,
   "metadata": {},
   "outputs": [],
   "source": []
  },
  {
   "cell_type": "code",
   "execution_count": null,
   "metadata": {},
   "outputs": [],
   "source": []
  },
  {
   "cell_type": "code",
   "execution_count": null,
   "metadata": {},
   "outputs": [],
   "source": []
  },
  {
   "cell_type": "code",
   "execution_count": null,
   "metadata": {},
   "outputs": [],
   "source": []
  },
  {
   "cell_type": "code",
   "execution_count": null,
   "metadata": {},
   "outputs": [],
   "source": []
  },
  {
   "cell_type": "code",
   "execution_count": null,
   "metadata": {},
   "outputs": [],
   "source": []
  },
  {
   "cell_type": "code",
   "execution_count": null,
   "metadata": {},
   "outputs": [],
   "source": []
  },
  {
   "cell_type": "code",
   "execution_count": null,
   "metadata": {},
   "outputs": [],
   "source": []
  },
  {
   "cell_type": "code",
   "execution_count": null,
   "metadata": {},
   "outputs": [],
   "source": []
  },
  {
   "cell_type": "code",
   "execution_count": null,
   "metadata": {},
   "outputs": [],
   "source": []
  },
  {
   "cell_type": "code",
   "execution_count": null,
   "metadata": {},
   "outputs": [],
   "source": []
  },
  {
   "cell_type": "code",
   "execution_count": 120,
   "metadata": {},
   "outputs": [],
   "source": [
    "class Solution:\n",
    "    def characterReplacement(self, s: str, k: int) -> int:\n",
    "        if not s: return 0\n",
    "        l_count = self.helper(s, k)\n",
    "        r_count = self.helper(s[::-1], k)\n",
    "        print(l_count, r_count)\n",
    "        return max(l_count, r_count)\n",
    "    \n",
    "    def helper(self, s, k):\n",
    "        max_count = -float('inf')\n",
    "        l = 0\n",
    "        while l < len(s):\n",
    "            c, count = k, 0\n",
    "            for r in range(l, len(s)):\n",
    "                if s[l] == s[r]:\n",
    "                    count += 1\n",
    "                elif c > 0:\n",
    "                    c -= 1\n",
    "                    count += 1\n",
    "                elif c < 0:\n",
    "                    break\n",
    "            max_count = max(max_count, count)\n",
    "            l += 1\n",
    "        return max_count"
   ]
  },
  {
   "cell_type": "code",
   "execution_count": 206,
   "metadata": {},
   "outputs": [
    {
     "data": {
      "text/plain": [
       "4"
      ]
     },
     "execution_count": 206,
     "metadata": {},
     "output_type": "execute_result"
    }
   ],
   "source": [
    "s_ = \"ABAB\"\n",
    "k_ = 2\n",
    "solution = Solution()\n",
    "solution.characterReplacement(s_, k_)"
   ]
  },
  {
   "cell_type": "code",
   "execution_count": 25,
   "metadata": {},
   "outputs": [
    {
     "data": {
      "text/plain": [
       "2"
      ]
     },
     "execution_count": 25,
     "metadata": {},
     "output_type": "execute_result"
    }
   ],
   "source": []
  },
  {
   "cell_type": "code",
   "execution_count": 112,
   "metadata": {},
   "outputs": [
    {
     "name": "stdout",
     "output_type": "stream",
     "text": [
      "BBBA\n"
     ]
    }
   ],
   "source": [
    "s_ = \"ABBB\"\n",
    "print(s_[::-1])"
   ]
  },
  {
   "cell_type": "code",
   "execution_count": 123,
   "metadata": {},
   "outputs": [],
   "source": [
    "from collections import defaultdict\n",
    "freqDict = defaultdict(int)"
   ]
  },
  {
   "cell_type": "code",
   "execution_count": 124,
   "metadata": {},
   "outputs": [
    {
     "data": {
      "text/plain": [
       "defaultdict(int, {})"
      ]
     },
     "execution_count": 124,
     "metadata": {},
     "output_type": "execute_result"
    }
   ],
   "source": [
    "freqDict"
   ]
  },
  {
   "cell_type": "code",
   "execution_count": 127,
   "metadata": {},
   "outputs": [],
   "source": [
    "from collections import defaultdict\n",
    "\n",
    "class Solution:\n",
    "    def characterReplacement(self, s: str, k: int) -> int:\n",
    "        if not s: return 0\n",
    "        max_freq = 0\n",
    "        max_len = 0\n",
    "        start = end = 0\n",
    "        freq_dict = defaultdict(int)\n",
    "        while end < len(s):\n",
    "            freq_dict[s[end]] = 1\n",
    "            \n",
    "            max_freq = max(max_freq, freq_dict[s[end]])\n",
    "            \n",
    "        "
   ]
  },
  {
   "cell_type": "code",
   "execution_count": 211,
   "metadata": {},
   "outputs": [],
   "source": [
    "from collections import Counter\n",
    "\n",
    "class Solution:\n",
    "    def characterReplacement(self, s: str, k: int) -> int:\n",
    "        if not s: return 0\n",
    "        \n",
    "        max_count, left = -float('inf'), 0\n",
    "        while left < len(s):\n",
    "            for i in range(left, len(s) + 1):\n",
    "                counter = Counter(s[left:i])\n",
    "                if len(counter) >= 2:\n",
    "                    list_counter = counter.most_common() # 按字母出现的频数排序，出现次数最少的排在最后面\n",
    "                    total_freq = sum(counter.values())\n",
    "                    less_freq = total_freq - list_counter[0][-1]\n",
    "                    if less_freq <= k: # 出现次数较少的字母 <= k\n",
    "                        max_count = max(max_count, total_freq)\n",
    "                    else:\n",
    "                        break\n",
    "                else:\n",
    "                    max_count = max(max_count, i-left)\n",
    "            left += 1\n",
    "        return max_count"
   ]
  },
  {
   "cell_type": "code",
   "execution_count": 213,
   "metadata": {},
   "outputs": [
    {
     "data": {
      "text/plain": [
       "3"
      ]
     },
     "execution_count": 213,
     "metadata": {},
     "output_type": "execute_result"
    }
   ],
   "source": [
    "s_ = \"AAA\"\n",
    "k_ = 2\n",
    "solution = Solution()\n",
    "solution.characterReplacement(s_, k_)"
   ]
  },
  {
   "cell_type": "code",
   "execution_count": 192,
   "metadata": {},
   "outputs": [
    {
     "name": "stdout",
     "output_type": "stream",
     "text": [
      "Counter({-1: 3, 3: 3, 1: 2, 2: 1})\n",
      "1\n"
     ]
    }
   ],
   "source": [
    "from collections import Counter\n",
    "a = [1, 1, -1,-1,-1, 3, 3, 3, 2]\n",
    "b = Counter(a)\n",
    "print(b)\n",
    "a = b.most_common()\n",
    "print(a[-1][-1])"
   ]
  },
  {
   "cell_type": "code",
   "execution_count": 185,
   "metadata": {},
   "outputs": [
    {
     "name": "stdout",
     "output_type": "stream",
     "text": [
      "[1, -1, 3, 2]\n"
     ]
    }
   ],
   "source": [
    "c = list(b)\n",
    "print(c)"
   ]
  },
  {
   "cell_type": "code",
   "execution_count": 177,
   "metadata": {},
   "outputs": [
    {
     "data": {
      "text/plain": [
       "3"
      ]
     },
     "execution_count": 177,
     "metadata": {},
     "output_type": "execute_result"
    }
   ],
   "source": [
    "b[c[-1]]"
   ]
  },
  {
   "cell_type": "code",
   "execution_count": null,
   "metadata": {},
   "outputs": [],
   "source": []
  }
 ],
 "metadata": {
  "kernelspec": {
   "display_name": "Python 3",
   "language": "python",
   "name": "python3"
  },
  "language_info": {
   "codemirror_mode": {
    "name": "ipython",
    "version": 3
   },
   "file_extension": ".py",
   "mimetype": "text/x-python",
   "name": "python",
   "nbconvert_exporter": "python",
   "pygments_lexer": "ipython3",
   "version": "3.6.2"
  }
 },
 "nbformat": 4,
 "nbformat_minor": 4
}
