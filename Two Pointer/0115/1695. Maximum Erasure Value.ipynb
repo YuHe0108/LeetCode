{
 "cells": [
  {
   "cell_type": "code",
   "execution_count": null,
   "metadata": {},
   "outputs": [],
   "source": []
  },
  {
   "cell_type": "code",
   "execution_count": null,
   "metadata": {},
   "outputs": [],
   "source": []
  },
  {
   "cell_type": "code",
   "execution_count": 23,
   "metadata": {},
   "outputs": [],
   "source": [
    "from typing import List\n",
    "from collections import deque\n",
    "\n",
    "class Solution:\n",
    "    def maximumUniqueSubarray(self, nums: List[int]) -> int:\n",
    "        res = 0\n",
    "        cur = 0\n",
    "        seen = set()\n",
    "        path = deque()\n",
    "        nums += [nums[-1]]\n",
    "        for i, n in enumerate(nums):\n",
    "            if n in seen:\n",
    "                res = max(res, cur)\n",
    "                while n in seen:\n",
    "                    idx = path.popleft()\n",
    "                    seen.remove(nums[idx])\n",
    "                    cur -= nums[idx]\n",
    "            path.append(i)\n",
    "            seen.add(n)\n",
    "            cur += n\n",
    "        return res"
   ]
  },
  {
   "cell_type": "code",
   "execution_count": null,
   "metadata": {},
   "outputs": [],
   "source": []
  },
  {
   "cell_type": "code",
   "execution_count": 26,
   "metadata": {},
   "outputs": [],
   "source": [
    "from typing import List\n",
    "\n",
    "class Solution:\n",
    "    def maximumUniqueSubarray(self, nums: List[int]) -> int:\n",
    "        res = 0\n",
    "        cur = 0\n",
    "        seen = set()\n",
    "        l_idx = 0\n",
    "        nums += [nums[-1]]\n",
    "        for i, n in enumerate(nums):\n",
    "            while l_idx < len(nums) and n in seen:\n",
    "                res = max(res, cur)\n",
    "                seen.remove(nums[l_idx])\n",
    "                cur -= nums[l_idx]\n",
    "                l_idx += 1\n",
    "            seen.add(n)\n",
    "            cur += n\n",
    "        return res"
   ]
  },
  {
   "cell_type": "code",
   "execution_count": null,
   "metadata": {},
   "outputs": [],
   "source": []
  },
  {
   "cell_type": "code",
   "execution_count": null,
   "metadata": {},
   "outputs": [],
   "source": [
    "from typing import List\n",
    "\n",
    "class Solution:\n",
    "    def maximumUniqueSubarray(self, nums: List[int]) -> int:\n",
    "        res = 0\n",
    "        cur = 0\n",
    "        seen = set()\n",
    "        l_idx = 0\n",
    "        for i, n in enumerate(nums):\n",
    "            if n in seen:\n",
    "                res = max(res, cur)\n",
    "                while l_idx < len(nums) and n in seen:\n",
    "                    seen.remove(nums[l_idx])\n",
    "                    cur -= nums[l_idx]\n",
    "                    l_idx += 1\n",
    "            seen.add(n)\n",
    "            cur += n\n",
    "        return max(res, cur)"
   ]
  },
  {
   "cell_type": "code",
   "execution_count": 28,
   "metadata": {},
   "outputs": [
    {
     "data": {
      "text/plain": [
       "17"
      ]
     },
     "execution_count": 28,
     "metadata": {},
     "output_type": "execute_result"
    }
   ],
   "source": [
    "solution = Solution()\n",
    "solution.maximumUniqueSubarray(nums = [4,2,4,5,6])"
   ]
  },
  {
   "cell_type": "code",
   "execution_count": null,
   "metadata": {},
   "outputs": [],
   "source": []
  }
 ],
 "metadata": {
  "kernelspec": {
   "display_name": "Python 3",
   "language": "python",
   "name": "python3"
  },
  "language_info": {
   "codemirror_mode": {
    "name": "ipython",
    "version": 3
   },
   "file_extension": ".py",
   "mimetype": "text/x-python",
   "name": "python",
   "nbconvert_exporter": "python",
   "pygments_lexer": "ipython3",
   "version": "3.6.2"
  }
 },
 "nbformat": 4,
 "nbformat_minor": 4
}
