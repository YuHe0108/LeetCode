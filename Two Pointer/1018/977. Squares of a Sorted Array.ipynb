{
 "cells": [
  {
   "cell_type": "raw",
   "metadata": {},
   "source": [
    "说明：\n",
    "    给定一个按非递减顺序排序的整数数组 A，返回每个数字的平方组成的新数组，\n",
    "    要求也按非递减顺序排序。\n",
    "\n",
    "示例 1：\n",
    "    输入：[-4,-1,0,3,10]\n",
    "    输出：[0,1,9,16,100]\n",
    "\n",
    "示例 2：\n",
    "    输入：[-7,-3,2,3,11]\n",
    "    输出：[4,9,9,49,121]\n",
    "\n",
    "提示：\n",
    "    1、1 <= A.length <= 10000\n",
    "    2、-10000 <= A[i] <= 10000\n",
    "    3、A 已按非递减顺序排序。"
   ]
  },
  {
   "cell_type": "code",
   "execution_count": 1,
   "metadata": {},
   "outputs": [],
   "source": [
    "class Solution:\n",
    "    def sortedSquares(self, A):\n",
    "        res = []\n",
    "        for a in A:\n",
    "            res.append(a**2)\n",
    "        res.sort()\n",
    "        return res"
   ]
  },
  {
   "cell_type": "code",
   "execution_count": 2,
   "metadata": {},
   "outputs": [],
   "source": [
    "class Solution:\n",
    "    def sortedSquares(self, A):\n",
    "        squares = [0 for _ in range(len(A))]\n",
    "        left, right = 0, len(A) - 1\n",
    "        hi = len(A) - 1\n",
    "        while left <= right:\n",
    "            l = A[left] ** 2\n",
    "            r = A[right] ** 2\n",
    "            if l > r:\n",
    "                squares[hi] = l\n",
    "                left += 1\n",
    "            else:\n",
    "                squares[hi] = r\n",
    "                right -= 1\n",
    "            hi -= 1\n",
    "        return squares"
   ]
  },
  {
   "cell_type": "code",
   "execution_count": 3,
   "metadata": {},
   "outputs": [],
   "source": [
    "class Solution:\n",
    "    def sortedSquares(self, A):\n",
    "        N = len(A)\n",
    "        res = [0] * M\n",
    "        left, right = 0, N - 1\n",
    "        hi = N - 1\n",
    "        while left <= right:\n",
    "            l = A[left] ** 2\n",
    "            r = A[right] ** 2\n",
    "            if l > r:\n",
    "                res[hi] = l\n",
    "                left += 1\n",
    "            else:\n",
    "                res[hi] = r\n",
    "                right -= 1\n",
    "            hi -= 1\n",
    "        return res"
   ]
  },
  {
   "cell_type": "code",
   "execution_count": null,
   "metadata": {},
   "outputs": [],
   "source": []
  }
 ],
 "metadata": {
  "kernelspec": {
   "display_name": "Python 3",
   "language": "python",
   "name": "python3"
  },
  "language_info": {
   "codemirror_mode": {
    "name": "ipython",
    "version": 3
   },
   "file_extension": ".py",
   "mimetype": "text/x-python",
   "name": "python",
   "nbconvert_exporter": "python",
   "pygments_lexer": "ipython3",
   "version": "3.6.2"
  }
 },
 "nbformat": 4,
 "nbformat_minor": 4
}
