{
 "cells": [
  {
   "cell_type": "raw",
   "metadata": {},
   "source": [
    "说明:\n",
    "    一行中有 N 张多米诺骨牌，我们将每张多米诺骨牌垂直竖立。\n",
    "    在开始时，我们同时把一些多米诺骨牌向左或向右推。\n",
    "\n",
    "    每过一秒，倒向左边的多米诺骨牌会推动其左侧相邻的多米诺骨牌。\n",
    "    同样地，倒向右边的多米诺骨牌也会推动竖立在其右侧的相邻多米诺骨牌。\n",
    "    \n",
    "    如果同时有多米诺骨牌落在一张垂直竖立的多米诺骨牌的两边，由于受力平衡， 该骨牌仍然保持不变。\n",
    "\n",
    "    就这个问题而言，我们会认为正在下降的多米诺骨牌不会对其它正在下降或已经下降的多米诺骨牌施加额外的力。\n",
    "    给定表示初始状态的字符串 \"S\" 。\n",
    "        1、如果第 i 张多米诺骨牌被推向左边，则 S[i] = 'L'；\n",
    "        2、如果第 i 张多米诺骨牌被推向右边，则 S[i] = 'R'；\n",
    "        3、如果第 i 张多米诺骨牌没有被推动，则 S[i] = '.'。\n",
    "    \n",
    "    返回表示最终状态的字符串。\n",
    "\n",
    "示例 1：\n",
    "    输入：\".L.R...LR..L..\"\n",
    "    输出：\"LL.RR.LLRRLL..\"\n",
    "    \n",
    "示例 2：\n",
    "    输入：\"RR.L\"\n",
    "    输出：\"RR.L\"\n",
    "    说明：第一张多米诺骨牌没有给第二张施加额外的力。\n",
    "\n",
    "提示：\n",
    "    1、0 <= N <= 10^5\n",
    "    2、表示多米诺骨牌状态的字符串只含有 'L'，'R'; 以及 '.';"
   ]
  },
  {
   "cell_type": "markdown",
   "metadata": {},
   "source": [
    "<img src='https://aliyun-lc-upload.oss-cn-hangzhou.aliyuncs.com/aliyun-lc-upload/uploads/2018/05/19/domino.png'>"
   ]
  },
  {
   "cell_type": "code",
   "execution_count": 38,
   "metadata": {},
   "outputs": [],
   "source": [
    "class Solution:\n",
    "    def pushDominoes(self, dominoes: str) -> str:\n",
    "        res = ''\n",
    "        N = len(dominoes)\n",
    "        \n",
    "        dominoes = list(dominoes)\n",
    "        left_set, right_set = set(), set() # 记录下，R 或者 L 将要倒向的坐标\n",
    "        for i, s in enumerate(dominoes):\n",
    "            if s == 'R' and i + 1 < N:\n",
    "                right_set.add(i + 1)\n",
    "            if s == 'L' and i != 0:\n",
    "                left_set.add(i - 1)\n",
    "        print(left_set, right_set)\n",
    "        while left_set or right_set:\n",
    "            new_left_set, new_right_set = set(), set()\n",
    "            \n",
    "            for i in left_set:\n",
    "                if dominoes[i] == '.':\n",
    "                    if i in right_set:\n",
    "                        right_set.remove(i)\n",
    "                    else:\n",
    "                        dominoes[i] = 'L'\n",
    "                        if i != 0:\n",
    "                            new_left_set.add(i - 1)\n",
    "            \n",
    "            for j in right_set:\n",
    "                if dominoes[j] == '.':\n",
    "                    dominoes[j] = 'R'\n",
    "                    if j != N - 1:\n",
    "                        new_right_set.add(j + 1)\n",
    "                    \n",
    "            left_set, right_set = new_left_set, new_right_set\n",
    "        \n",
    "        return ''.join(dominoes)"
   ]
  },
  {
   "cell_type": "code",
   "execution_count": 39,
   "metadata": {},
   "outputs": [
    {
     "name": "stdout",
     "output_type": "stream",
     "text": [
      "{1} {1}\n",
      "set() ['R', '.', 'L']\n"
     ]
    },
    {
     "data": {
      "text/plain": [
       "'R.L'"
      ]
     },
     "execution_count": 39,
     "metadata": {},
     "output_type": "execute_result"
    }
   ],
   "source": [
    "solution = Solution()\n",
    "solution.pushDominoes(\"R.L\")"
   ]
  },
  {
   "cell_type": "code",
   "execution_count": null,
   "metadata": {},
   "outputs": [],
   "source": []
  }
 ],
 "metadata": {
  "kernelspec": {
   "display_name": "Python 3",
   "language": "python",
   "name": "python3"
  },
  "language_info": {
   "codemirror_mode": {
    "name": "ipython",
    "version": 3
   },
   "file_extension": ".py",
   "mimetype": "text/x-python",
   "name": "python",
   "nbconvert_exporter": "python",
   "pygments_lexer": "ipython3",
   "version": "3.6.2"
  }
 },
 "nbformat": 4,
 "nbformat_minor": 4
}
