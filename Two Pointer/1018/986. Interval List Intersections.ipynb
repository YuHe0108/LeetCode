{
 "cells": [
  {
   "cell_type": "raw",
   "metadata": {},
   "source": [
    "说明：\n",
    "    给定两个由一些 闭区间 组成的列表，每个区间列表都是成对不相交的，并且已经排序。\n",
    "    返回这两个区间列表的交集。\n",
    "    （形式上，闭区间 [a, b]（其中 a <= b）表示实数 x 的集合，而 a <= x <= b。\n",
    "    两个闭区间的交集是一组实数，要么为空集，要么为闭区间。例如，[1, 3] 和 [2, 4] 的交集为 [2, 3]。）\n",
    "\n",
    "提示：\n",
    "    1、0 <= A.length < 1000\n",
    "    2、0 <= B.length < 1000\n",
    "    3、0 <= A[i].start, A[i].end, B[i].start, B[i].end < 10^9"
   ]
  },
  {
   "cell_type": "markdown",
   "metadata": {},
   "source": [
    "<img src='https://assets.leetcode-cn.com/aliyun-lc-upload/uploads/2019/02/02/interval1.png'>"
   ]
  },
  {
   "cell_type": "raw",
   "metadata": {},
   "source": [
    "例1：\n",
    "    输入: A = [[0,2],[5,10],[13,23],[24,25]], \n",
    "          B = [[1,5],[8,12],[15,24],[25,26]]\n",
    "    输出：[[1,2],[5,5],[8,10],[15,23],[24,24],[25,25]]"
   ]
  },
  {
   "cell_type": "code",
   "execution_count": 11,
   "metadata": {},
   "outputs": [],
   "source": [
    "class Solution:\n",
    "    def intervalIntersection(self, A, B):\n",
    "        N_A, N_B = len(A), len(B)\n",
    "        res = []\n",
    "        for s_a, e_a in A:\n",
    "            for s_b, e_b in B:\n",
    "                if s_b > e_a or e_b < s_a:\n",
    "                    continue\n",
    "                else:\n",
    "                    s = max(s_a, s_b)\n",
    "                    e = min(e_a, e_b)\n",
    "                    res.append([s, e])\n",
    "        return res"
   ]
  },
  {
   "cell_type": "code",
   "execution_count": 15,
   "metadata": {},
   "outputs": [],
   "source": [
    "class Solution:\n",
    "    def intervalIntersection(self, A, B):\n",
    "        N_A, N_B, res = len(A), len(B), []\n",
    "        idx_a, idx_b = 0, 0\n",
    "        while idx_a < N_A and idx_b < N_B:\n",
    "            a_s, a_e = A[idx_a]\n",
    "            b_s, b_e = B[idx_b]\n",
    "            if b_s > a_e:\n",
    "                idx_a += 1\n",
    "            elif a_s > b_e:\n",
    "                idx_b += 1\n",
    "            else:\n",
    "                res.append([max(a_s, b_s), min(a_e, b_e)])\n",
    "                if a_e < b_e:\n",
    "                    idx_a += 1\n",
    "                else:\n",
    "                    idx_b += 1\n",
    "        return res"
   ]
  },
  {
   "cell_type": "code",
   "execution_count": 16,
   "metadata": {},
   "outputs": [
    {
     "data": {
      "text/plain": [
       "[[1, 2], [5, 5], [8, 10], [15, 23], [24, 24], [25, 25]]"
      ]
     },
     "execution_count": 16,
     "metadata": {},
     "output_type": "execute_result"
    }
   ],
   "source": [
    "solution = Solution()\n",
    "solution.intervalIntersection(A = [[0,2],[5,10],[13,23],[24,25]], \n",
    "                              B = [[1,5],[8,12],[15,24],[25,26]])"
   ]
  },
  {
   "cell_type": "code",
   "execution_count": null,
   "metadata": {},
   "outputs": [],
   "source": []
  }
 ],
 "metadata": {
  "kernelspec": {
   "display_name": "Python 3",
   "language": "python",
   "name": "python3"
  },
  "language_info": {
   "codemirror_mode": {
    "name": "ipython",
    "version": 3
   },
   "file_extension": ".py",
   "mimetype": "text/x-python",
   "name": "python",
   "nbconvert_exporter": "python",
   "pygments_lexer": "ipython3",
   "version": "3.6.2"
  }
 },
 "nbformat": 4,
 "nbformat_minor": 4
}
