{
 "cells": [
  {
   "cell_type": "raw",
   "metadata": {},
   "source": [
    "说明：\n",
    "    我们把数组 A 中符合下列属性的任意连续子数组 B 称为 “山脉”：\n",
    "    B.length >= 3\n",
    "    存在 0 < i < B.length - 1 使得 B[0] < B[1] < ... B[i-1] < B[i] > B[i+1] > ... > B[B.length - 1]\n",
    "    （注意：B 可以是 A 的任意子数组，包括整个数组 A。）\n",
    "    给出一个整数数组 A，返回最长 “山脉” 的长度。\n",
    "    如果不含有 “山脉” 则返回 0。\n",
    "\n",
    "示例 1：\n",
    "    输入：[2,1,4,7,3,2,5]\n",
    "    输出：5\n",
    "    解释：最长的 “山脉” 是 [1,4,7,3,2]，长度为 5。\n",
    "\n",
    "示例 2：\n",
    "    输入：[2,2,2]\n",
    "    输出：0\n",
    "    解释：不含 “山脉”。\n",
    " \n",
    "提示：\n",
    "    1、0 <= A.length <= 10000\n",
    "    2、0 <= A[i] <= 10000"
   ]
  },
  {
   "cell_type": "code",
   "execution_count": 105,
   "metadata": {},
   "outputs": [],
   "source": [
    "class Solution:\n",
    "    def longestMountain(self, A) -> int:\n",
    "        N = len(A)\n",
    "        idx = 0\n",
    "        top_idx = None\n",
    "        max_val = -float('inf')\n",
    "        while idx < N:\n",
    "            if idx - 1 > -1 and A[idx] > A[idx-1] and A[idx] > max_val:\n",
    "                top_idx = idx\n",
    "                max_val = A[idx]\n",
    "            idx += 1\n",
    "            \n",
    "        if not top_idx or top_idx == 0 or top_idx == N - 1: \n",
    "            return 0\n",
    "        \n",
    "        count = 1\n",
    "        left, right = top_idx - 1, top_idx + 1\n",
    "        max_left_val, max_right_val = max_val, max_val\n",
    "        end_left, end_right = None, None\n",
    "        while left is not None or right is not None:\n",
    "            if left is not None and right is not None and A[left] < max_left_val and A[right] < max_right_val:\n",
    "                count += 2\n",
    "                left -= 1\n",
    "                right += 1\n",
    "                if left < 0:\n",
    "                    left = None\n",
    "                else:\n",
    "                    max_left_val = A[left]\n",
    "                if right >= N:\n",
    "                    right = None\n",
    "                else:\n",
    "                    max_right_val = A[right]\n",
    "                    \n",
    "            if left is not None and A[left] < max_left_val:\n",
    "                count += 1\n",
    "                left -= 1\n",
    "                if left < 0:\n",
    "                    left = None\n",
    "                else:\n",
    "                    max_left_val = A[left]\n",
    "            if right is not None and A[right] < max_right_val:\n",
    "                count += 1\n",
    "                right += 1\n",
    "                if right >= N:\n",
    "                    right = None\n",
    "                else:\n",
    "                    max_right_val = A[right]\n",
    "            \n",
    "            print(count, left, right, max_left_val, max_right_val)\n",
    "            if left != None and left - 1 > -1:\n",
    "                left -= 1\n",
    "            else:\n",
    "                left = None\n",
    "            if right != None and right + 1 < N:\n",
    "                right += 1\n",
    "            else:\n",
    "                right = None\n",
    "            if left is None and right is None:\n",
    "                break\n",
    "        return count"
   ]
  },
  {
   "cell_type": "code",
   "execution_count": 153,
   "metadata": {},
   "outputs": [],
   "source": [
    "class Solution:\n",
    "    def longestMountain(self, A) -> int:\n",
    "        N = len(A)\n",
    "        idx = 0\n",
    "        top_idx = []\n",
    "        while idx < N:\n",
    "            left_idx, right_idx = idx - 1, idx + 1\n",
    "            if left_idx > -1 and right_idx < N:\n",
    "                if A[left_idx] < A[idx] and A[right_idx] < A[idx]:\n",
    "                    top_idx.append(idx)\n",
    "            idx += 1\n",
    "        print(top_idx)\n",
    "        if not top_idx: return 0\n",
    "        max_count = 0\n",
    "        for t in top_idx:\n",
    "            max_count = max(max_count, self.helper(t, A[t], A))\n",
    "        return max_count\n",
    "        \n",
    "    def helper(self, max_idx, max_val, A):\n",
    "        N = len(A)\n",
    "        left_d_idx = None\n",
    "        left_min_val = max_val\n",
    "        l_l_idx = max_idx\n",
    "        while l_l_idx > 0:\n",
    "            if A[l_l_idx - 1] < left_min_val:\n",
    "                left_min_val = A[l_l_idx - 1]\n",
    "            else:\n",
    "                break\n",
    "            l_l_idx -= 1\n",
    "        \n",
    "        right_d_idx = None\n",
    "        right_min_val = max_val\n",
    "        r_r_idx = max_idx\n",
    "        while r_r_idx < N - 1:\n",
    "            if A[r_r_idx + 1] < right_min_val:\n",
    "                right_min_val = A[r_r_idx + 1]\n",
    "            else:\n",
    "                break\n",
    "            r_r_idx += 1\n",
    "            \n",
    "        if r_r_idx == max_idx or l_l_idx == max_idx:\n",
    "            return 0\n",
    "        return r_r_idx - l_l_idx + 1"
   ]
  },
  {
   "cell_type": "code",
   "execution_count": 154,
   "metadata": {},
   "outputs": [
    {
     "name": "stdout",
     "output_type": "stream",
     "text": [
      "[5]\n"
     ]
    },
    {
     "data": {
      "text/plain": [
       "11"
      ]
     },
     "execution_count": 154,
     "metadata": {},
     "output_type": "execute_result"
    }
   ],
   "source": [
    "solution = Solution()\n",
    "solution.longestMountain([0,1,2,3,4,5,4,3,2,1,0])"
   ]
  },
  {
   "cell_type": "code",
   "execution_count": 96,
   "metadata": {},
   "outputs": [
    {
     "ename": "SyntaxError",
     "evalue": "invalid syntax (<ipython-input-96-dd65df321641>, line 2)",
     "output_type": "error",
     "traceback": [
      "\u001b[1;36m  File \u001b[1;32m\"<ipython-input-96-dd65df321641>\"\u001b[1;36m, line \u001b[1;32m2\u001b[0m\n\u001b[1;33m    if a is: print(12)\u001b[0m\n\u001b[1;37m           ^\u001b[0m\n\u001b[1;31mSyntaxError\u001b[0m\u001b[1;31m:\u001b[0m invalid syntax\n"
     ]
    }
   ],
   "source": [
    "a = 0\n",
    "if a is: print(12)"
   ]
  },
  {
   "cell_type": "code",
   "execution_count": null,
   "metadata": {},
   "outputs": [],
   "source": []
  }
 ],
 "metadata": {
  "kernelspec": {
   "display_name": "Python 3",
   "language": "python",
   "name": "python3"
  },
  "language_info": {
   "codemirror_mode": {
    "name": "ipython",
    "version": 3
   },
   "file_extension": ".py",
   "mimetype": "text/x-python",
   "name": "python",
   "nbconvert_exporter": "python",
   "pygments_lexer": "ipython3",
   "version": "3.6.2"
  }
 },
 "nbformat": 4,
 "nbformat_minor": 4
}
