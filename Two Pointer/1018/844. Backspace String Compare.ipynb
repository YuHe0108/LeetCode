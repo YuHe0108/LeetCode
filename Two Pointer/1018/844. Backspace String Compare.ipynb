{
 "cells": [
  {
   "cell_type": "raw",
   "metadata": {},
   "source": [
    "说明：\n",
    "    给定 S 和 T 两个字符串，当它们分别被输入到空白的文本编辑器后，判断二者是否相等，并返回结果。 \n",
    "    # 代表退格字符。\n",
    "    注意：\n",
    "        如果对空文本输入退格字符，文本继续为空。\n",
    "\n",
    "示例 1：\n",
    "    输入：S = \"ab#c\", T = \"ad#c\"\n",
    "    输出：true\n",
    "    解释：S 和 T 都会变成 “ac”。\n",
    "\n",
    "示例 2：\n",
    "    输入：S = \"ab##\", T = \"c#d#\"\n",
    "    输出：true\n",
    "    解释：S 和 T 都会变成 “”。\n",
    "\n",
    "示例 3：\n",
    "    输入：S = \"a##c\", T = \"#a#c\"\n",
    "    输出：true\n",
    "    解释：S 和 T 都会变成 “c”。\n",
    "\n",
    "示例 4：\n",
    "    输入：S = \"a#c\", T = \"b\"\n",
    "    输出：false\n",
    "    解释：S 会变成 “c”，但 T 仍然是 “b”。\n",
    "\n",
    "提示：\n",
    "    1、1 <= S.length <= 200\n",
    "    2、1 <= T.length <= 200\n",
    "    3、S 和 T 只含有小写字母以及字符 '#'。"
   ]
  },
  {
   "cell_type": "code",
   "execution_count": 10,
   "metadata": {},
   "outputs": [],
   "source": [
    "class Solution:\n",
    "    def backspaceCompare(self, S: str, T: str) -> bool:\n",
    "        s_stack = self.helper(S)\n",
    "        t_stack = self.helper(T)\n",
    "        print(s_stack, t_stack)\n",
    "        return s_stack == t_stack\n",
    "    \n",
    "    def helper(self, s):\n",
    "        stack = []\n",
    "        for a in s:\n",
    "            if a == '#':\n",
    "                if stack:\n",
    "                    stack.pop()\n",
    "            else:\n",
    "                stack.append(a)\n",
    "        return stack"
   ]
  },
  {
   "cell_type": "code",
   "execution_count": 12,
   "metadata": {},
   "outputs": [
    {
     "name": "stdout",
     "output_type": "stream",
     "text": [
      "['c'] ['b']\n"
     ]
    },
    {
     "data": {
      "text/plain": [
       "False"
      ]
     },
     "execution_count": 12,
     "metadata": {},
     "output_type": "execute_result"
    }
   ],
   "source": [
    "solution = Solution()\n",
    "solution.backspaceCompare(S = \"a#c\", T = \"b\")"
   ]
  },
  {
   "cell_type": "code",
   "execution_count": null,
   "metadata": {},
   "outputs": [],
   "source": []
  }
 ],
 "metadata": {
  "kernelspec": {
   "display_name": "Python 3",
   "language": "python",
   "name": "python3"
  },
  "language_info": {
   "codemirror_mode": {
    "name": "ipython",
    "version": 3
   },
   "file_extension": ".py",
   "mimetype": "text/x-python",
   "name": "python",
   "nbconvert_exporter": "python",
   "pygments_lexer": "ipython3",
   "version": "3.6.2"
  }
 },
 "nbformat": 4,
 "nbformat_minor": 4
}
