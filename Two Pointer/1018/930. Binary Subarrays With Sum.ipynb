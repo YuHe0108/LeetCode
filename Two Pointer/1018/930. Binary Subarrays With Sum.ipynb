{
 "cells": [
  {
   "cell_type": "raw",
   "metadata": {},
   "source": [
    "说明：\n",
    "    在由若干 0 和 1  组成的数组 A 中，有多少个和为 S 的非空子数组。\n",
    "\n",
    "示例：\n",
    "    输入：A = [1,0,1,0,1], S = 2\n",
    "    输出：4\n",
    "    解释：\n",
    "    如下面黑体所示，有 4 个满足题目要求的子数组：\n",
    "                                                [1,0,1]\n",
    "                                                [1,0,1,0]\n",
    "                                                [0,1,0,1]\n",
    "                                                [1,0,1]\n",
    "提示：\n",
    "    1、A.length <= 30000\n",
    "    2、0 <= S <= A.length\n",
    "    3、A[i] 为 0 或 1"
   ]
  },
  {
   "cell_type": "code",
   "execution_count": 52,
   "metadata": {},
   "outputs": [],
   "source": [
    "class Solution:\n",
    "    def numSubarraysWithSum(self, A, S: int) -> int:\n",
    "        count = 0\n",
    "        N = len(A)\n",
    "        l_idx, r_idx = 0, 0\n",
    "        cur_sum = 0\n",
    "        while l_idx <= r_idx and r_idx < N:\n",
    "            cur_sum += A[r_idx]\n",
    "            if cur_sum == S:\n",
    "                count += 1\n",
    "            elif cur_sum > S:\n",
    "                while cur_sum >= S:\n",
    "                    cur_sum -= A[l_idx]\n",
    "                    l_idx += 1\n",
    "                    if cur_sum == S:\n",
    "                        count += 1\n",
    "            r_idx += 1\n",
    "            \n",
    "        print(cur_sum, count, l_idx, r_idx)\n",
    "        while cur_sum >= S:\n",
    "            cur_sum -= A[l_idx]\n",
    "            if cur_sum == S:\n",
    "                count += 1\n",
    "            l_idx += 1\n",
    "        return count"
   ]
  },
  {
   "cell_type": "code",
   "execution_count": 75,
   "metadata": {},
   "outputs": [],
   "source": [
    "from collections import defaultdict\n",
    "\n",
    "# 哈希表 + 前缀和\n",
    "class Solution:\n",
    "    def numSubarraysWithSum(self, A, S: int) -> int:\n",
    "        count = 0\n",
    "        N = len(A)\n",
    "        # 记录在 A 中前缀和出现的次数\n",
    "        prefix = defaultdict(int)\n",
    "        prefix[0] = 1 # 初始化的时候，前缀和为 0 的区间一共有1个，就是 A[:0]\n",
    "        cur_sum = 0\n",
    "        for i in range(N):\n",
    "            cur_sum += A[i]\n",
    "            if cur_sum - S in prefix:\n",
    "                count += prefix[cur_sum - S]\n",
    "            prefix[cur_sum] += 1\n",
    "        return count"
   ]
  },
  {
   "cell_type": "code",
   "execution_count": 76,
   "metadata": {},
   "outputs": [
    {
     "data": {
      "text/plain": [
       "6"
      ]
     },
     "execution_count": 76,
     "metadata": {},
     "output_type": "execute_result"
    }
   ],
   "source": [
    "solution = Solution()\n",
    "solution.numSubarraysWithSum(A = [1,0,1,0,1,0], S = 2)"
   ]
  },
  {
   "cell_type": "code",
   "execution_count": null,
   "metadata": {},
   "outputs": [],
   "source": []
  },
  {
   "cell_type": "code",
   "execution_count": null,
   "metadata": {},
   "outputs": [],
   "source": []
  }
 ],
 "metadata": {
  "kernelspec": {
   "display_name": "Python 3",
   "language": "python",
   "name": "python3"
  },
  "language_info": {
   "codemirror_mode": {
    "name": "ipython",
    "version": 3
   },
   "file_extension": ".py",
   "mimetype": "text/x-python",
   "name": "python",
   "nbconvert_exporter": "python",
   "pygments_lexer": "ipython3",
   "version": "3.6.2"
  }
 },
 "nbformat": 4,
 "nbformat_minor": 4
}
