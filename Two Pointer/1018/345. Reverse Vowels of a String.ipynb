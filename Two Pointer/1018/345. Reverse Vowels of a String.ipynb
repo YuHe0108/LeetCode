{
 "cells": [
  {
   "cell_type": "raw",
   "metadata": {},
   "source": [
    "说明：\n",
    "    编写一个函数，以字符串作为输入，反转该字符串中的元音字母。\n",
    "\n",
    "示例 1：\n",
    "    输入：\"hello\"\n",
    "    输出：\"holle\"\n",
    "\n",
    "示例 2：\n",
    "    输入：\"leetcode\"\n",
    "    输出：\"leotcede\"\n",
    "\n",
    "提示：\n",
    "    1、元音字母不包含字母 \"y\" 。"
   ]
  },
  {
   "cell_type": "code",
   "execution_count": 11,
   "metadata": {},
   "outputs": [],
   "source": [
    "class Solution:\n",
    "    def reverseVowels(self, s: str) -> str:\n",
    "        res = [''] * len(s)\n",
    "        vowels_str = 'aeiouAEIOU'\n",
    "        vowels = []\n",
    "        for i, a in enumerate(s):\n",
    "            if a in vowels_str:\n",
    "                vowels.append(a)\n",
    "            else:\n",
    "                res[i] = a\n",
    "                \n",
    "        vowels = vowels[::-1]\n",
    "        idx = 0\n",
    "        for i in range(len(s)):\n",
    "            if res[i] == '':\n",
    "                res[i] = vowels[idx]\n",
    "                idx += 1\n",
    "        return ''.join(res)"
   ]
  },
  {
   "cell_type": "code",
   "execution_count": 77,
   "metadata": {},
   "outputs": [],
   "source": [
    "# two points solution\n",
    "\n",
    "class Solution:\n",
    "    def reverseVowels(self, s: str) -> str:\n",
    "        l_idx, r_idx = 0, len(s) - 1\n",
    "        vowels = 'aeiouAEIOU'\n",
    "        l_vow, r_vow = None, None\n",
    "        s = list(s)\n",
    "        while l_idx <= r_idx:\n",
    "            if l_vow is None and s[l_idx] in vowels:\n",
    "                l_vow = l_idx\n",
    "            if r_vow is None and s[r_idx] in vowels:\n",
    "                r_vow = r_idx\n",
    "            \n",
    "            if l_vow is not None and r_vow is not None:\n",
    "                s[l_vow], s[r_vow] = s[r_vow], s[l_vow]\n",
    "                l_vow, r_vow = None, None\n",
    "            if l_vow is None:\n",
    "                l_idx += 1\n",
    "            if r_vow is None:\n",
    "                r_idx -= 1\n",
    "        return ''.join(s)"
   ]
  },
  {
   "cell_type": "code",
   "execution_count": 79,
   "metadata": {},
   "outputs": [
    {
     "data": {
      "text/plain": [
       "'holle'"
      ]
     },
     "execution_count": 79,
     "metadata": {},
     "output_type": "execute_result"
    }
   ],
   "source": [
    "solution = Solution()\n",
    "solution.reverseVowels(\"hello\")"
   ]
  },
  {
   "cell_type": "code",
   "execution_count": null,
   "metadata": {},
   "outputs": [],
   "source": []
  }
 ],
 "metadata": {
  "kernelspec": {
   "display_name": "Python 3",
   "language": "python",
   "name": "python3"
  },
  "language_info": {
   "codemirror_mode": {
    "name": "ipython",
    "version": 3
   },
   "file_extension": ".py",
   "mimetype": "text/x-python",
   "name": "python",
   "nbconvert_exporter": "python",
   "pygments_lexer": "ipython3",
   "version": "3.6.2"
  }
 },
 "nbformat": 4,
 "nbformat_minor": 4
}
