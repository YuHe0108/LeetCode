{
 "cells": [
  {
   "cell_type": "raw",
   "metadata": {},
   "source": [
    "说明：\n",
    "    给定一个字符串和一个字符串字典，找到字典里面最长的字符串，\n",
    "    该字符串可以通过删除给定字符串 s 的某些字符来得到。\n",
    "    如果答案不止一个，\n",
    "    返回长度最长且字典顺序最小的字符串。\n",
    "    如果答案不存在，则返回空字符串。\n",
    "\n",
    "示例 1:\n",
    "    输入:\n",
    "        s = \"abpcplea\", d = [\"ale\",\"apple\",\"monkey\",\"plea\"]\n",
    "    输出: \n",
    "        \"apple\"\n",
    "\n",
    "示例 2:\n",
    "    输入:\n",
    "        s = \"abpcplea\", d = [\"a\",\"b\",\"c\"]\n",
    "    输出: \n",
    "        \"a\"\n",
    "\n",
    "说明:\n",
    "    1、所有输入的字符串只包含小写字母。\n",
    "    2、字典的大小不会超过 1000。\n",
    "    3、所有输入的字符串长度不会超过 1000。"
   ]
  },
  {
   "cell_type": "code",
   "execution_count": 40,
   "metadata": {},
   "outputs": [],
   "source": [
    "from collections import Counter\n",
    "\n",
    "class Solution:\n",
    "    def findLongestWord(self, s: str, d) -> str:\n",
    "        d = set(d)\n",
    "        res = set()\n",
    "        max_res_len = float('inf')\n",
    "        for a in d:\n",
    "            if self.helper(s, a):\n",
    "                if len(a) < max_res_len:\n",
    "                    res.clear()\n",
    "                    res.add(a)\n",
    "                    max_res_len = len(a)\n",
    "                elif len(a) == max_res_len:\n",
    "                    res.add(a)\n",
    "        print(res)\n",
    "        res = sorted(res)\n",
    "        return res[-1] if res else ''\n",
    "    \n",
    "    def helper(self, a, s):\n",
    "        a_count = Counter(a)\n",
    "        for i in s:\n",
    "            if i not in a_count and a_count[i] == 0:\n",
    "                return False\n",
    "            else:\n",
    "                a_count[i] -= 1\n",
    "        return True"
   ]
  },
  {
   "cell_type": "code",
   "execution_count": 45,
   "metadata": {},
   "outputs": [],
   "source": [
    "class Solution:\n",
    "    def findLongestWord(self, s: str, d) -> str:\n",
    "        \n",
    "        def fn(word): \n",
    "            \"\"\"Return True if word matches a subsequence of s.\"\"\"\n",
    "            ss = iter(s)\n",
    "            return all(c in ss for c in word)\n",
    "        \n",
    "        ans = \"\"\n",
    "        for w in d: \n",
    "            if fn(w) and (len(w) > len(ans) or len(w) == len(ans) and w < ans): ans = w\n",
    "        return ans "
   ]
  },
  {
   "cell_type": "code",
   "execution_count": 47,
   "metadata": {},
   "outputs": [
    {
     "name": "stdout",
     "output_type": "stream",
     "text": [
      "<str_iterator object at 0x0000015402B541D0>\n",
      "<str_iterator object at 0x0000015402B541D0>\n",
      "<str_iterator object at 0x0000015402B541D0>\n",
      "<str_iterator object at 0x0000015402B541D0>\n",
      "<str_iterator object at 0x0000015402B541D0>\n",
      "<str_iterator object at 0x0000015402B541D0>\n"
     ]
    },
    {
     "data": {
      "text/plain": [
       "'ewaf'"
      ]
     },
     "execution_count": 47,
     "metadata": {},
     "output_type": "execute_result"
    }
   ],
   "source": [
    "solution = Solution()\n",
    "solution.findLongestWord(\"aewfafwafjlwajflwajflwafj\", \n",
    "                         [\"apple\",\"ewaf\",\"awefawfwaf\",\"awef\",\"awefe\",\"ewafeffewafewf\"])"
   ]
  },
  {
   "cell_type": "code",
   "execution_count": 11,
   "metadata": {},
   "outputs": [],
   "source": [
    "a  = {0, 2, 1}\n",
    "b = sorted(a)"
   ]
  },
  {
   "cell_type": "code",
   "execution_count": 12,
   "metadata": {},
   "outputs": [
    {
     "name": "stdout",
     "output_type": "stream",
     "text": [
      "[0, 1, 2]\n"
     ]
    }
   ],
   "source": [
    "print(b)"
   ]
  },
  {
   "cell_type": "code",
   "execution_count": null,
   "metadata": {},
   "outputs": [],
   "source": []
  }
 ],
 "metadata": {
  "kernelspec": {
   "display_name": "Python 3",
   "language": "python",
   "name": "python3"
  },
  "language_info": {
   "codemirror_mode": {
    "name": "ipython",
    "version": 3
   },
   "file_extension": ".py",
   "mimetype": "text/x-python",
   "name": "python",
   "nbconvert_exporter": "python",
   "pygments_lexer": "ipython3",
   "version": "3.6.2"
  }
 },
 "nbformat": 4,
 "nbformat_minor": 4
}
