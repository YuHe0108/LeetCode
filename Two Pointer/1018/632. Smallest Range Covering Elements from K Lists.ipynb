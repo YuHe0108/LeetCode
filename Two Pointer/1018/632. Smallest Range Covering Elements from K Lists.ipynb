{
 "cells": [
  {
   "cell_type": "raw",
   "metadata": {},
   "source": [
    "说明：\n",
    "    你有 k 个 非递减排列 的整数列表。找到一个 最小 区间，使得 k 个列表中的每个列表至少有一个数包含在其中。\n",
    "    我们定义如果 b-a < d-c 或者在 b-a == d-c 时 a < c，则区间 [a,b] 比 [c,d] 小。\n",
    "\n",
    "示例 1：\n",
    "    输入：nums = [[4,10,15,24,26], [0,9,12,20], [5,18,22,30]]\n",
    "    输出：[20,24]\n",
    "    解释： \n",
    "        列表 1：[4, 10, 15, 24, 26]，24 在区间 [20,24] 中。\n",
    "        列表 2：[0, 9, 12, 20]，20 在区间 [20,24] 中。\n",
    "        列表 3：[5, 18, 22, 30]，22 在区间 [20,24] 中。\n",
    "\n",
    "示例 2：\n",
    "    输入：nums = [[1,2,3],[1,2,3],[1,2,3]]\n",
    "    输出：[1,1]\n",
    "\n",
    "示例 3：\n",
    "    输入：nums = [[10,10],[11,11]]\n",
    "    输出：[10,11]\n",
    "\n",
    "示例 4：\n",
    "    输入：nums = [[10],[11]]\n",
    "    输出：[10,11]\n",
    "\n",
    "示例 5：\n",
    "    输入：nums = [[1],[2],[3],[4],[5],[6],[7]]\n",
    "    输出：[1,7]\n",
    "\n",
    "提示：\n",
    "    1、nums.length == k\n",
    "    2、1 <= k <= 3500\n",
    "    3、1 <= nums[i].length <= 50\n",
    "    4、-10^5 <= nums[i][j] <= 10^5\n",
    "    5、nums[i] 按非递减顺序排列"
   ]
  },
  {
   "cell_type": "code",
   "execution_count": 78,
   "metadata": {},
   "outputs": [],
   "source": [
    "import heapq\n",
    "\n",
    "class Solution:\n",
    "    def smallestRange(self, nums):\n",
    "        N = len(nums)\n",
    "        heap = []\n",
    "        heapq.heapify(heap)        \n",
    "        \n",
    "        # 初始化，对比 nums 各个 element 的第一个元素的值\n",
    "        max_val = -float('inf')\n",
    "        for i in range(N):\n",
    "            heapq.heappush(heap, (nums[i][0], i))\n",
    "            max_val = max(max_val, nums[i][0])\n",
    "        \n",
    "        heapq.heapify(heap)\n",
    "        result = [heap[0][0], max_val]\n",
    "        \n",
    "        min_val = float('inf')\n",
    "        pointers = [0] * N\n",
    "        while True:\n",
    "            val, val_idx = heapq.heappop(heap)\n",
    "            pointers[val_idx] += 1\n",
    "            if pointers[val_idx] == len(nums[val_idx]):\n",
    "                break\n",
    "            \n",
    "            n_val = nums[val_idx][pointers[val_idx]]\n",
    "            heapq.heappush(heap, (n_val, val_idx))\n",
    "            min_val = heap[0][0]\n",
    "            max_val = max(max_val, n_val)\n",
    "            if max_val - min_val < result[1] - result[0]:\n",
    "                result[0], result[1] = min_val, max_val\n",
    "        return result            "
   ]
  },
  {
   "cell_type": "code",
   "execution_count": 79,
   "metadata": {},
   "outputs": [
    {
     "data": {
      "text/plain": [
       "[0, 2]"
      ]
     },
     "execution_count": 79,
     "metadata": {},
     "output_type": "execute_result"
    }
   ],
   "source": [
    "solution = Solution()\n",
    "solution.smallestRange(nums = [[2,18,24,26],[0,10,12,20],[1,3,22,30]])"
   ]
  },
  {
   "cell_type": "code",
   "execution_count": 3,
   "metadata": {},
   "outputs": [],
   "source": [
    "import heapq"
   ]
  },
  {
   "cell_type": "code",
   "execution_count": 74,
   "metadata": {},
   "outputs": [],
   "source": [
    "a = [(0, 1), (2, 3), (1, 2)]\n",
    "heapq.heapify(a)"
   ]
  },
  {
   "cell_type": "code",
   "execution_count": 77,
   "metadata": {},
   "outputs": [
    {
     "name": "stdout",
     "output_type": "stream",
     "text": [
      "(2, 3)\n"
     ]
    }
   ],
   "source": [
    "print(heapq.heappop(a))"
   ]
  },
  {
   "cell_type": "code",
   "execution_count": null,
   "metadata": {},
   "outputs": [],
   "source": []
  }
 ],
 "metadata": {
  "kernelspec": {
   "display_name": "Python 3",
   "language": "python",
   "name": "python3"
  },
  "language_info": {
   "codemirror_mode": {
    "name": "ipython",
    "version": 3
   },
   "file_extension": ".py",
   "mimetype": "text/x-python",
   "name": "python",
   "nbconvert_exporter": "python",
   "pygments_lexer": "ipython3",
   "version": "3.6.2"
  }
 },
 "nbformat": 4,
 "nbformat_minor": 4
}
