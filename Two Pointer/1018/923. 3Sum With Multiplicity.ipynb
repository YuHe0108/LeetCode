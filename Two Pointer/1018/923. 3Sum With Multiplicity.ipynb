{
 "cells": [
  {
   "cell_type": "raw",
   "metadata": {},
   "source": [
    "说明：\n",
    "    给定一个整数数组 A，以及一个整数 target 作为目标值，返回满足 i < j < k 且 A[i] + A[j] + A[k] == target 的元组 i, j, k 的数量。\n",
    "    由于结果会非常大，请返回 结果除以 10^9 + 7 的余数。\n",
    "\n",
    "示例 1：\n",
    "    输入：A = [1,1,2,2,3,3,4,4,5,5], target = 8\n",
    "    输出：20\n",
    "    解释：\n",
    "    按值枚举（A[i]，A[j]，A[k]）：\n",
    "    (1, 2, 5) 出现 8 次；\n",
    "    (1, 3, 4) 出现 8 次；\n",
    "    (2, 2, 4) 出现 2 次；\n",
    "    (2, 3, 3) 出现 2 次。\n",
    "\n",
    "示例 2：\n",
    "    输入：A = [1,1,2,2,2,2], target = 5\n",
    "    输出：12\n",
    "    解释：\n",
    "        A[i] = 1，A[j] = A[k] = 2 出现 12 次：\n",
    "        我们从 [1,1] 中选择一个 1，有 2 种情况，\n",
    "        从 [2,2,2,2] 中选出两个 2，有 6 种情况。\n",
    " \n",
    "提示：\n",
    "    1、3 <= A.length <= 3000\n",
    "    2、0 <= A[i] <= 100\n",
    "    3、0 <= target <= 300"
   ]
  },
  {
   "cell_type": "code",
   "execution_count": 13,
   "metadata": {},
   "outputs": [],
   "source": [
    "from collections import Counter\n",
    "\n",
    "class Solution:\n",
    "    def threeSumMulti(self, A, target: int) -> int:\n",
    "        max_val = pow(10, 9) + 7\n",
    "        a_count = Counter(A)\n",
    "        count = 0\n",
    "        \n",
    "        for i in a_count.keys():\n",
    "            a_count[i] -= 1\n",
    "            for j in a_count.keys():\n",
    "                if a_count[j] > 0:\n",
    "                    a_count[j] -= 1\n",
    "                    need_val = target - i - j\n",
    "                    print(need_val, a_count[need_val])\n",
    "                a_count[j] += 1\n",
    "            a_count[i] += 1"
   ]
  },
  {
   "cell_type": "code",
   "execution_count": null,
   "metadata": {},
   "outputs": [],
   "source": [
    "from collections import Counter\n",
    "\n",
    "class Solution:\n",
    "    def threeSumMulti(self, A, target: int) -> int:\n",
    "        max_val = pow(10, 9) + 7\n",
    "        a_count = Counter(A)\n",
    "        count = 0\n",
    "        N = len(A)\n",
    "        \n",
    "        l_idx, r_idx = 0, 1\n",
    "        while l_idx < N:\n",
    "            l_val, m_val = A[l_idx], A[r_idx]\n",
    "            c_count = a_count.copy()\n",
    "            c_count[l_val] -= 1\n",
    "            c_count[r_val] -= 1\n",
    "            need_val = target - A[l_idx] - A[r_idx]\n",
    "            if need_val not in c_count or c_count[need_val] <= 0:\n",
    "                "
   ]
  },
  {
   "cell_type": "code",
   "execution_count": 31,
   "metadata": {},
   "outputs": [],
   "source": [
    "from collections import Counter\n",
    "\n",
    "class Solution:\n",
    "    def threeSumMulti(self, A, target: int) -> int:\n",
    "        max_val = pow(10, 9) + 7\n",
    "        a_count = Counter(A)\n",
    "        keys = sorted(a_count)\n",
    "        count = 0\n",
    "        N = len(A)\n",
    "        print(a_count, keys)\n",
    "        for i, k in enumerate(keys):\n",
    "            n = a_count[k]\n",
    "            if k > target:\n",
    "                break\n",
    "            elif 3 * k == target:\n",
    "                count += n * (n - 1) * (n - 2) // 6 if n >= 3 else 0\n",
    "            elif target - 2 * k in keys:\n",
    "                count += a_count[target - 2 * k] * n * (n - 1) // 2 if n >= 2 else 0\n",
    "            \n",
    "            for j, k_j in enumerate(keys[i+1:], i + 1):\n",
    "                num = target - k - k_j\n",
    "                if num < 0:\n",
    "                    break\n",
    "                elif num in keys[j + 1:]:\n",
    "                    count += n * a_count[k_j] * a_count[num]\n",
    "        return count % max_val"
   ]
  },
  {
   "cell_type": "code",
   "execution_count": 33,
   "metadata": {},
   "outputs": [
    {
     "name": "stdout",
     "output_type": "stream",
     "text": [
      "Counter({1: 2, 2: 2, 3: 2, 4: 2, 5: 2}) [1, 2, 3, 4, 5]\n"
     ]
    },
    {
     "data": {
      "text/plain": [
       "20"
      ]
     },
     "execution_count": 33,
     "metadata": {},
     "output_type": "execute_result"
    }
   ],
   "source": [
    "solution = Solution()\n",
    "solution.threeSumMulti(A = [1,1,2,2,3,3,4,4,5,5], target = 8)"
   ]
  },
  {
   "cell_type": "code",
   "execution_count": 34,
   "metadata": {},
   "outputs": [
    {
     "name": "stdout",
     "output_type": "stream",
     "text": [
      "[2, 3, 4, 5, 6]\n"
     ]
    }
   ],
   "source": [
    "a = [1, 2, 3, 4, 5, 6]\n",
    "print(a[1:])"
   ]
  },
  {
   "cell_type": "code",
   "execution_count": null,
   "metadata": {},
   "outputs": [],
   "source": []
  }
 ],
 "metadata": {
  "kernelspec": {
   "display_name": "Python 3",
   "language": "python",
   "name": "python3"
  },
  "language_info": {
   "codemirror_mode": {
    "name": "ipython",
    "version": 3
   },
   "file_extension": ".py",
   "mimetype": "text/x-python",
   "name": "python",
   "nbconvert_exporter": "python",
   "pygments_lexer": "ipython3",
   "version": "3.6.2"
  }
 },
 "nbformat": 4,
 "nbformat_minor": 4
}
