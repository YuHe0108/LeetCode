{
 "cells": [
  {
   "cell_type": "raw",
   "metadata": {},
   "source": [
    "说明：\n",
    "    给你一个整数数组 nums 和一个整数 k。\n",
    "    如果某个 连续 子数组中恰好有 k 个奇数数字，我们就认为这个子数组是「优美子数组」。\n",
    "    请返回这个数组中「优美子数组」的数目。\n",
    "\n",
    "示例 1：\n",
    "    输入：nums = [1,1,2,1,1], k = 3\n",
    "    输出：2\n",
    "    解释：包含 3 个奇数的子数组是 [1,1,2,1] 和 [1,2,1,1] 。\n",
    "\n",
    "示例 2：\n",
    "    输入：nums = [2,4,6], k = 1\n",
    "    输出：0\n",
    "    解释：数列中不包含任何奇数，所以不存在优美子数组。\n",
    "\n",
    "示例 3：\n",
    "    输入：nums = [2,2,2,1,2,2,1,2,2,2], k = 2\n",
    "    输出：16\n",
    "\n",
    "提示：\n",
    "    1、1 <= nums.length <= 50000\n",
    "    2、1 <= nums[i] <= 10^5\n",
    "    3、1 <= k <= nums.length"
   ]
  },
  {
   "cell_type": "code",
   "execution_count": 5,
   "metadata": {},
   "outputs": [],
   "source": [
    "from collections import defaultdict\n",
    "\n",
    "class Solution:\n",
    "    def numberOfSubarrays(self, nums, k: int) -> int:\n",
    "        count = 0\n",
    "        odd_prefix = defaultdict(int)\n",
    "        odd_prefix[0] = 1\n",
    "        cur_odd_count = 0\n",
    "        for n in nums:\n",
    "            if n % 2 == 1:\n",
    "                cur_odd_count += 1\n",
    "            if cur_odd_count - k in odd_prefix:\n",
    "                count += odd_prefix[cur_odd_count - k]\n",
    "            odd_prefix[cur_odd_count] += 1\n",
    "        return count"
   ]
  },
  {
   "cell_type": "code",
   "execution_count": 8,
   "metadata": {},
   "outputs": [
    {
     "data": {
      "text/plain": [
       "16"
      ]
     },
     "execution_count": 8,
     "metadata": {},
     "output_type": "execute_result"
    }
   ],
   "source": [
    "solution = Solution()\n",
    "solution.numberOfSubarrays(nums = [2,2,2,1,2,2,1,2,2,2], k = 2)"
   ]
  },
  {
   "cell_type": "code",
   "execution_count": null,
   "metadata": {},
   "outputs": [],
   "source": []
  }
 ],
 "metadata": {
  "kernelspec": {
   "display_name": "Python 3",
   "language": "python",
   "name": "python3"
  },
  "language_info": {
   "codemirror_mode": {
    "name": "ipython",
    "version": 3
   },
   "file_extension": ".py",
   "mimetype": "text/x-python",
   "name": "python",
   "nbconvert_exporter": "python",
   "pygments_lexer": "ipython3",
   "version": "3.6.2"
  }
 },
 "nbformat": 4,
 "nbformat_minor": 4
}
