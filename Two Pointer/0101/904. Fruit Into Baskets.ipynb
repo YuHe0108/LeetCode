{
 "cells": [
  {
   "cell_type": "code",
   "execution_count": null,
   "metadata": {},
   "outputs": [],
   "source": []
  },
  {
   "cell_type": "code",
   "execution_count": null,
   "metadata": {},
   "outputs": [],
   "source": []
  },
  {
   "cell_type": "code",
   "execution_count": 21,
   "metadata": {},
   "outputs": [],
   "source": [
    "class Solution:\n",
    "    def totalFruit(self, tree):\n",
    "        # 从树的任意一个位置开始遍历，把 tree[i] 加入到 set 中，如果len(set) > 2, 就要弹出最先加入的那个\n",
    "        res = 0\n",
    "        for i, t in enumerate(tree):\n",
    "            # 假设从 i 开始\n",
    "            fruits = set()\n",
    "            for j in range(i, len(tree)):\n",
    "                fruits.add(tree[j])\n",
    "                if len(fruits) > 2:\n",
    "                    res = max(res, j-i)\n",
    "                    break\n",
    "            else:\n",
    "                res = max(res, len(tree) - i)\n",
    "                break\n",
    "        return res"
   ]
  },
  {
   "cell_type": "code",
   "execution_count": null,
   "metadata": {},
   "outputs": [],
   "source": []
  },
  {
   "cell_type": "code",
   "execution_count": 77,
   "metadata": {},
   "outputs": [],
   "source": [
    "from collections import defaultdict\n",
    "\n",
    "class Solution:\n",
    "    def totalFruit(self, tree):\n",
    "        # 从树的任意一个位置开始遍历，把 tree[i] 加入到 set 中，如果len(set) > 2, 就要弹出最先加入的那个\n",
    "        # 需要记录，两种类型的水果，最后出现的 idx 位置，当有第三类型的水果出现时，\n",
    "        # 从 first_last_idx 的位置开始探索\n",
    "        n = len(tree)\n",
    "        res = 0\n",
    "        idx = 0\n",
    "        appear = {} # 出现的水果，以及每种水果出现的最后位置的索引\n",
    "        fruit_count = defaultdict(int) # 每种水果出现的数量\n",
    "        while idx < n:\n",
    "            fruit = tree[idx]\n",
    "            if len(appear) == 2 and fruit not in appear: # 种类超过三种\n",
    "                s_appear = sorted(appear.items(), key=lambda x:x[1]) # 按照出现的先后顺序排序\n",
    "                fir_type, fir_idx = s_appear[0] # 第一种水果的类型、最后出现的索引位置\n",
    "                sec_type = s_appear[1][0] # 第二种水果的类型\n",
    "                sec_cnt = idx - fir_idx - 1 # 第二个种类的水果从最后一次出现第一类水果开始算，有多少数量\n",
    "                fruit_count[sec_type] = sec_cnt\n",
    "                fruit_count[fruit] += 1 # 加入新的水果数量\n",
    "                appear[fruit] = idx # 新的水果位置\n",
    "                del fruit_count[fir_type] # 删除第一个种类的水果\n",
    "                del appear[fir_type]\n",
    "            else:\n",
    "                # 新加入的已经出现过了，种类不超过两种\n",
    "                appear[fruit] = idx \n",
    "                fruit_count[fruit] += 1\n",
    "                res = max(res, sum(fruit_count.values()))\n",
    "            idx += 1\n",
    "        return res"
   ]
  },
  {
   "cell_type": "code",
   "execution_count": null,
   "metadata": {},
   "outputs": [],
   "source": []
  },
  {
   "cell_type": "code",
   "execution_count": null,
   "metadata": {},
   "outputs": [],
   "source": []
  },
  {
   "cell_type": "code",
   "execution_count": 91,
   "metadata": {},
   "outputs": [],
   "source": [
    "class Solution:\n",
    "    def totalFruit(self, tree) -> int:\n",
    "        count, i = defaultdict(int), 0\n",
    "        res = -float('inf')\n",
    "        for j, v in enumerate(tree):\n",
    "            count[v] += 1\n",
    "            while len(count) > 2:\n",
    "                count[tree[i]] -= 1\n",
    "                if count[tree[i]] == 0: \n",
    "                    del count[tree[i]]\n",
    "                i += 1\n",
    "            res = max(res, j-i+1)\n",
    "        return res"
   ]
  },
  {
   "cell_type": "code",
   "execution_count": 92,
   "metadata": {},
   "outputs": [
    {
     "data": {
      "text/plain": [
       "5"
      ]
     },
     "execution_count": 92,
     "metadata": {},
     "output_type": "execute_result"
    }
   ],
   "source": [
    "solution = Solution()\n",
    "solution.totalFruit([3,3,3,1,2,1,1,2,3,3,4])"
   ]
  },
  {
   "cell_type": "code",
   "execution_count": null,
   "metadata": {},
   "outputs": [],
   "source": [
    " for j in range(i, len(tree)):\n",
    "                fruits.add(tree[j])\n",
    "                if len(fruits) > 2:\n",
    "                    res = max(res, j-i)\n",
    "                    break\n",
    "            else:\n",
    "                res = max(res, len(tree) - i)\n",
    "                break"
   ]
  },
  {
   "cell_type": "code",
   "execution_count": 41,
   "metadata": {},
   "outputs": [],
   "source": [
    "a = defaultdict(int)"
   ]
  },
  {
   "cell_type": "code",
   "execution_count": 42,
   "metadata": {},
   "outputs": [],
   "source": [
    "a[0] = 2"
   ]
  },
  {
   "cell_type": "code",
   "execution_count": 43,
   "metadata": {},
   "outputs": [
    {
     "data": {
      "text/plain": [
       "defaultdict(int, {0: 2})"
      ]
     },
     "execution_count": 43,
     "metadata": {},
     "output_type": "execute_result"
    }
   ],
   "source": [
    "a"
   ]
  },
  {
   "cell_type": "code",
   "execution_count": 44,
   "metadata": {},
   "outputs": [],
   "source": [
    "del a[0]"
   ]
  },
  {
   "cell_type": "code",
   "execution_count": 45,
   "metadata": {},
   "outputs": [
    {
     "data": {
      "text/plain": [
       "defaultdict(int, {})"
      ]
     },
     "execution_count": 45,
     "metadata": {},
     "output_type": "execute_result"
    }
   ],
   "source": [
    "a"
   ]
  },
  {
   "cell_type": "code",
   "execution_count": null,
   "metadata": {},
   "outputs": [],
   "source": []
  }
 ],
 "metadata": {
  "kernelspec": {
   "display_name": "Python 3",
   "language": "python",
   "name": "python3"
  },
  "language_info": {
   "codemirror_mode": {
    "name": "ipython",
    "version": 3
   },
   "file_extension": ".py",
   "mimetype": "text/x-python",
   "name": "python",
   "nbconvert_exporter": "python",
   "pygments_lexer": "ipython3",
   "version": "3.6.2"
  }
 },
 "nbformat": 4,
 "nbformat_minor": 4
}
