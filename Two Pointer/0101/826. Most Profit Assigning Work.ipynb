{
 "cells": [
  {
   "cell_type": "code",
   "execution_count": null,
   "metadata": {},
   "outputs": [],
   "source": []
  },
  {
   "cell_type": "code",
   "execution_count": null,
   "metadata": {},
   "outputs": [],
   "source": [
    "class Solution:\n",
    "    def maxProfitAssignment(self, difficulty: List[int], profit: List[int], worker: List[int]) -> int:\n",
    "        arr = sorted(zip(difficulty, profit))\n",
    "        worker.sort()\n",
    "        i = v = 0\n",
    "        ret = 0\n",
    "        for n in worker:\n",
    "            while i < len(arr) and arr[i][0] <= n:\n",
    "                v = max(v, arr[i][-1])\n",
    "                i += 1\n",
    "            ret += v\n",
    "        return ret"
   ]
  },
  {
   "cell_type": "code",
   "execution_count": 73,
   "metadata": {},
   "outputs": [],
   "source": [
    "from typing import List\n",
    "import bisect\n",
    "from collections import defaultdict\n",
    "\n",
    "# 重点，难度越高不一定收益最高\n",
    "# 对难度排序后，需要知道 diff[:i] 的最大收益\n",
    "\n",
    "class Solution:\n",
    "    def maxProfitAssignment(self, difficulty: List[int], profit: List[int], worker: List[int]) -> int:\n",
    "        max_val = max(profit)\n",
    "        d_p = sorted(zip(difficulty, profit))\n",
    "        diff = [x[0] for x in d_p]\n",
    "        prof = [x[1] for x in d_p]\n",
    "        max_profit = defaultdict(int) # 同等的难度下，最高的分值是多少\n",
    "        for i in range(len(diff)):\n",
    "            max_profit[diff[i]] = max(max_profit[diff[i]], prof[i])\n",
    "        \n",
    "        total = 0\n",
    "        set_w = set(difficulty)\n",
    "        sorted_set_w = sorted(set_w)\n",
    "        profits = defaultdict(int) # 如果当前难度是 K，那么小于等于 K 的最大收益是多少，需要记录\n",
    "        cur_val = 0\n",
    "        for w in sorted_set_w:\n",
    "            cur_val = max(cur_val, max_profit[w])\n",
    "            profits[w] = cur_val\n",
    "        \n",
    "        record = {}\n",
    "        for w in worker:\n",
    "            if w in record:\n",
    "                total += record[w]\n",
    "                continue\n",
    "            idx = bisect.bisect_left(sorted_set_w, w)\n",
    "            val = 0\n",
    "            if idx == len(sorted_set_w): # 工作能力有可能大于任何难度的工作\n",
    "                val = max_val\n",
    "            elif sorted_set_w[idx] == w: # 取得小于、等于该工作难度的最高收益\n",
    "                val = profits[w]\n",
    "            elif sorted_set_w[idx] > w and idx - 1 >= 0:\n",
    "                val = profits[sorted_set_w[idx-1]]\n",
    "            record[w] = val\n",
    "            total += val\n",
    "        return total"
   ]
  },
  {
   "cell_type": "code",
   "execution_count": 74,
   "metadata": {},
   "outputs": [
    {
     "data": {
      "text/plain": [
       "172"
      ]
     },
     "execution_count": 74,
     "metadata": {},
     "output_type": "execute_result"
    }
   ],
   "source": [
    "solution = Solution()\n",
    "solution.maxProfitAssignment([49,49,76,88,100], [5,8,75,89,94], [98,72,16,27,76])"
   ]
  },
  {
   "cell_type": "code",
   "execution_count": 30,
   "metadata": {},
   "outputs": [
    {
     "data": {
      "text/plain": [
       "0"
      ]
     },
     "execution_count": 30,
     "metadata": {},
     "output_type": "execute_result"
    }
   ],
   "source": [
    "a = [2, 4, 6, 8, 10]\n",
    "bisect.bisect_right(a, 1)"
   ]
  },
  {
   "cell_type": "code",
   "execution_count": null,
   "metadata": {},
   "outputs": [],
   "source": []
  },
  {
   "cell_type": "code",
   "execution_count": null,
   "metadata": {},
   "outputs": [],
   "source": []
  }
 ],
 "metadata": {
  "kernelspec": {
   "display_name": "Python 3",
   "language": "python",
   "name": "python3"
  },
  "language_info": {
   "codemirror_mode": {
    "name": "ipython",
    "version": 3
   },
   "file_extension": ".py",
   "mimetype": "text/x-python",
   "name": "python",
   "nbconvert_exporter": "python",
   "pygments_lexer": "ipython3",
   "version": "3.6.2"
  }
 },
 "nbformat": 4,
 "nbformat_minor": 4
}
