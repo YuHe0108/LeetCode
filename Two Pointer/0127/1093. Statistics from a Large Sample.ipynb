{
 "cells": [
  {
   "cell_type": "code",
   "execution_count": null,
   "metadata": {},
   "outputs": [],
   "source": [
    "1 2 2 3 3 3"
   ]
  },
  {
   "cell_type": "code",
   "execution_count": null,
   "metadata": {},
   "outputs": [],
   "source": [
    "[1, 2, 3]"
   ]
  },
  {
   "cell_type": "code",
   "execution_count": 101,
   "metadata": {},
   "outputs": [],
   "source": [
    "from typing import List\n",
    "\n",
    "class Solution:\n",
    "    def sampleStats(self, count: List[int]) -> List[float]:\n",
    "        sum_val = 0\n",
    "        cnt = 0\n",
    "        min_val, max_val = None, 0\n",
    "        max_cnt_val = count.index(max(count))\n",
    "        total = sum(count)\n",
    "        mid_idx = total // 2 + 1\n",
    "        mid_val = []\n",
    "        cur = 0\n",
    "        count.append(0)\n",
    "        for i, v in enumerate(count):\n",
    "            cur += v\n",
    "            if total % 2 == 1:\n",
    "                if cur >= mid_idx and not mid_val: #奇数\n",
    "                    mid_val = [i]\n",
    "            else:\n",
    "                if cur >= mid_idx:\n",
    "                    if len(mid_val) == 1:\n",
    "                        mid_val.append(i)\n",
    "                    elif len(mid_val) == 0:\n",
    "                        mid_val = [i, i]\n",
    "                elif cur >= mid_idx - 1:\n",
    "                    if len(mid_val) == 0:\n",
    "                        mid_val.append(i)\n",
    "            if v > 0:\n",
    "                if min_val is None:\n",
    "                    min_val = i\n",
    "                max_val = max(i, max_val)\n",
    "                sum_val += i * v\n",
    "                cnt += v\n",
    "        if total % 2 == 0:\n",
    "            mid_val = sum(mid_val) / 2\n",
    "        else:\n",
    "            mid_val = mid_val[0]\n",
    "        return [min_val, max_val, sum_val/cnt, mid_val, max_cnt_val]"
   ]
  },
  {
   "cell_type": "code",
   "execution_count": 102,
   "metadata": {},
   "outputs": [
    {
     "name": "stdout",
     "output_type": "stream",
     "text": [
      "[2, 3] 5\n"
     ]
    },
    {
     "data": {
      "text/plain": [
       "[1, 3, 2.375, 2.5, 3]"
      ]
     },
     "execution_count": 102,
     "metadata": {},
     "output_type": "execute_result"
    }
   ],
   "source": [
    "solution = Solution()\n",
    "solution.sampleStats(count = [0,1,3,4,0,0,0,0,0,0,0,0,0,0,0,0,0,0,0,0,0,0,0,0,0,0,0,0,0,0,0,0,0,0,0,0,0,0,0,0,0,0,0,0,0,0,0,0,0,0,0,0,0,0,0,0,0,0,0,0,0,0,0,0,0,0,0,0,0,0,0,0,0,0,0,0,0,0,0,0,0,0,0,0,0,0,0,0,0,0,0,0,0,0,0,0,0,0,0,0,0,0,0,0,0,0,0,0,0,0,0,0,0,0,0,0,0,0,0,0,0,0,0,0,0,0,0,0,0,0,0,0,0,0,0,0,0,0,0,0,0,0,0,0,0,0,0,0,0,0,0,0,0,0,0,0,0,0,0,0,0,0,0,0,0,0,0,0,0,0,0,0,0,0,0,0,0,0,0,0,0,0,0,0,0,0,0,0,0,0,0,0,0,0,0,0,0,0,0,0,0,0,0,0,0,0,0,0,0,0,0,0,0,0,0,0,0,0,0,0,0,0,0,0,0,0,0,0,0,0,0,0,0,0,0,0,0,0,0,0,0,0,0,0,0,0,0,0,0,0,0,0,0,0,0,0])"
   ]
  },
  {
   "cell_type": "code",
   "execution_count": 30,
   "metadata": {},
   "outputs": [
    {
     "ename": "SyntaxError",
     "evalue": "invalid syntax (<ipython-input-30-3b9fa5cce326>, line 1)",
     "output_type": "error",
     "traceback": [
      "\u001b[1;36m  File \u001b[1;32m\"<ipython-input-30-3b9fa5cce326>\"\u001b[1;36m, line \u001b[1;32m1\u001b[0m\n\u001b[1;33m    1 2 2 2 3 3 3 3\u001b[0m\n\u001b[1;37m      ^\u001b[0m\n\u001b[1;31mSyntaxError\u001b[0m\u001b[1;31m:\u001b[0m invalid syntax\n"
     ]
    }
   ],
   "source": [
    "1 2 2 2 3 3 3 3"
   ]
  },
  {
   "cell_type": "code",
   "execution_count": 38,
   "metadata": {},
   "outputs": [
    {
     "data": {
      "text/plain": [
       "2"
      ]
     },
     "execution_count": 38,
     "metadata": {},
     "output_type": "execute_result"
    }
   ],
   "source": [
    "1 2 2 2 3 3 3 3 "
   ]
  },
  {
   "cell_type": "code",
   "execution_count": null,
   "metadata": {},
   "outputs": [],
   "source": [
    "1 2 3 4 5 "
   ]
  }
 ],
 "metadata": {
  "kernelspec": {
   "display_name": "Python 3",
   "language": "python",
   "name": "python3"
  },
  "language_info": {
   "codemirror_mode": {
    "name": "ipython",
    "version": 3
   },
   "file_extension": ".py",
   "mimetype": "text/x-python",
   "name": "python",
   "nbconvert_exporter": "python",
   "pygments_lexer": "ipython3",
   "version": "3.6.2"
  }
 },
 "nbformat": 4,
 "nbformat_minor": 4
}
