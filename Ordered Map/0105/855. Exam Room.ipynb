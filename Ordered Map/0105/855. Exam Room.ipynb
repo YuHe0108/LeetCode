{
 "cells": [
  {
   "cell_type": "code",
   "execution_count": null,
   "metadata": {},
   "outputs": [],
   "source": []
  },
  {
   "cell_type": "code",
   "execution_count": null,
   "metadata": {},
   "outputs": [],
   "source": []
  },
  {
   "cell_type": "code",
   "execution_count": null,
   "metadata": {},
   "outputs": [],
   "source": []
  },
  {
   "cell_type": "code",
   "execution_count": 9,
   "metadata": {},
   "outputs": [],
   "source": [
    "a = [True, False]\n",
    "if all(a):\n",
    "    print(2)"
   ]
  },
  {
   "cell_type": "code",
   "execution_count": 10,
   "metadata": {},
   "outputs": [],
   "source": [
    "from sortedcontainers import SortedDict"
   ]
  },
  {
   "cell_type": "code",
   "execution_count": 17,
   "metadata": {},
   "outputs": [],
   "source": [
    "a = SortedDict()\n",
    "a['d'] = 30"
   ]
  },
  {
   "cell_type": "code",
   "execution_count": 18,
   "metadata": {},
   "outputs": [],
   "source": [
    "a['c'] = 20"
   ]
  },
  {
   "cell_type": "code",
   "execution_count": 19,
   "metadata": {},
   "outputs": [
    {
     "data": {
      "text/plain": [
       "SortedDict({'c': 20, 'd': 30})"
      ]
     },
     "execution_count": 19,
     "metadata": {},
     "output_type": "execute_result"
    }
   ],
   "source": [
    "a"
   ]
  },
  {
   "cell_type": "code",
   "execution_count": null,
   "metadata": {},
   "outputs": [],
   "source": []
  },
  {
   "cell_type": "code",
   "execution_count": null,
   "metadata": {},
   "outputs": [],
   "source": []
  },
  {
   "cell_type": "code",
   "execution_count": 92,
   "metadata": {},
   "outputs": [],
   "source": [
    "from sortedcontainers import SortedDict, SortedList\n",
    "\n",
    "class ExamRoom:\n",
    "    def __init__(self, N: int):\n",
    "        self.seats = SortedList() # 已经被坐的位置有哪些\n",
    "        self.N = N\n",
    "\n",
    "    def seat(self) -> int:\n",
    "        if not self.seats:\n",
    "            self.seats.add(0)\n",
    "            return 0\n",
    "        else:\n",
    "            n = len(self.seats)\n",
    "            dist = {} # 需要计算已经坐的椅子距离\n",
    "            \n",
    "            for i in range(1, n):\n",
    "                gap = self.seats[i] - self.seats[i-1]\n",
    "                if gap == 1:\n",
    "                    continue\n",
    "                d = gap // 2\n",
    "                idx = self.seats[i-1] + d\n",
    "                dist[idx] = d\n",
    "                \n",
    "            dist[0] = self.seats[0]\n",
    "            dist[self.N-1] = (self.N-1) - self.seats[-1]\n",
    "            dist = sorted(dist.items(), key=lambda x: (x[1], -x[0]))\n",
    "            self.seats.add(dist[-1][0])\n",
    "        return dist[-1][0]\n",
    "\n",
    "    def leave(self, p: int) -> None:\n",
    "        self.seats.remove(p)"
   ]
  },
  {
   "cell_type": "code",
   "execution_count": 94,
   "metadata": {},
   "outputs": [],
   "source": [
    "from sortedcontainers import SortedDict, SortedList\n",
    "import bisect\n",
    "\n",
    "class ExamRoom:\n",
    "    def __init__(self, N: int):\n",
    "        self.seats = [] # 已经被坐的位置有哪些\n",
    "        self.N = N\n",
    "\n",
    "    def seat(self) -> int:\n",
    "        if not self.seats:\n",
    "            seat = 0\n",
    "        else:\n",
    "            left = self.seats[0]\n",
    "            preMaxGap = left - 0  # 这种写法能处理后去0号位置leave之后没人的情况\n",
    "            seat = 0\n",
    "            for right in self.seats[1:]:\n",
    "                gap = (right - left) // 2\n",
    "                if gap > preMaxGap:\n",
    "                    seat = left + gap\n",
    "                    preMaxGap = gap\n",
    "                left = right\n",
    "            if self.N - 1 - self.seats[-1] > preMaxGap:\n",
    "                seat = self.N - 1\n",
    "        bisect.insort(self.seats, seat)\n",
    "        return seat\n",
    "\n",
    "    def leave(self, p: int) -> None:\n",
    "        self.seats.remove(p)"
   ]
  },
  {
   "cell_type": "code",
   "execution_count": 95,
   "metadata": {},
   "outputs": [],
   "source": [
    "obj = ExamRoom(10)\n",
    "param_1 = obj.seat()\n",
    "param_1 = obj.seat()\n",
    "param_1 = obj.seat()\n",
    "param_1 = obj.seat()\n",
    "param_1 = obj.seat()\n",
    "param_1 = obj.seat()\n",
    "# obj.leave(1)"
   ]
  },
  {
   "cell_type": "code",
   "execution_count": null,
   "metadata": {},
   "outputs": [],
   "source": []
  },
  {
   "cell_type": "code",
   "execution_count": null,
   "metadata": {},
   "outputs": [],
   "source": []
  }
 ],
 "metadata": {
  "kernelspec": {
   "display_name": "Python 3",
   "language": "python",
   "name": "python3"
  },
  "language_info": {
   "codemirror_mode": {
    "name": "ipython",
    "version": 3
   },
   "file_extension": ".py",
   "mimetype": "text/x-python",
   "name": "python",
   "nbconvert_exporter": "python",
   "pygments_lexer": "ipython3",
   "version": "3.6.2"
  }
 },
 "nbformat": 4,
 "nbformat_minor": 4
}
