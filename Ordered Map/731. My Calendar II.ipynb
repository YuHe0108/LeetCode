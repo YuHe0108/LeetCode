{
 "cells": [
  {
   "cell_type": "raw",
   "metadata": {},
   "source": [
    "说明：\n",
    "    实现MyCalendarTwo类来存储事件。\n",
    "    如果添加活动不会导致三倍预订，则可以添加新活动。\n",
    "    你的类将有一个方法book（intstart，intend）。\n",
    "    \n",
    "    形式上，这表示半开放区间[开始，结束）的预订，实数x的范围使得start<=x<结束。\n",
    "    当三个事件有一些非空的交叉点（即，有一段时间是所有3个事件共有的）时，会发生三次预订我的日历.book，\n",
    "    \n",
    "    如果事件可以成功添加到日历中而不会导致三次预订，则返回true。\n",
    "    否则，返回false，并且不要将事件添加到日历中。\n",
    "    \n",
    "    您的类将被这样调用：\n",
    "                MyCalendar cal = new MyCalendar(); \n",
    "                MyCalendar.book(start, end)\n",
    "\n",
    "Note:\n",
    "    1、The number of calls to MyCalendar.book per test case will be at most 1000.\n",
    "    2、In calls to MyCalendar.book(start, end), start and end are integers in the range [0, 10^9]."
   ]
  },
  {
   "cell_type": "markdown",
   "metadata": {},
   "source": [
    "<img src='731.jpg'>\n",
    "<img src='731_2.jpg'>"
   ]
  },
  {
   "cell_type": "code",
   "execution_count": 2,
   "metadata": {},
   "outputs": [],
   "source": [
    "import bisect as bi\n",
    "\n",
    "class MyCalendarTwo:\n",
    "    def __init__(self):\n",
    "        self.s_points = []\n",
    "        self.e_points = []\n",
    "    \n",
    "    def book(self, start: int, end: int) -> bool:\n",
    "        i = bi.bisect_left(self.s_points, start)\n",
    "        j = bi.bisect_right(self.e_points, end)\n",
    "        \n",
    "        cur_intv = i - j\n",
    "        if cur_intv > 1: return False\n",
    "        \n",
    "        while i < len(self.s_points) and j < len(self.e_points) and min(self.s_points[i], self.e_points[j]) < end:\n",
    "            if self.e_points[j] <= self.s_points[i]:\n",
    "                cur_intv -= 1\n",
    "                j += 1\n",
    "            else:\n",
    "                cur_intv += 1\n",
    "                i += 1\n",
    "            if cur_intv > 1: return False\n",
    "        bi.insort(self.s_points, start)\n",
    "        bi.insort(self.e_points, end)\n",
    "        return True"
   ]
  },
  {
   "cell_type": "code",
   "execution_count": 6,
   "metadata": {},
   "outputs": [],
   "source": [
    "solution = MyCalendarTwo()"
   ]
  },
  {
   "cell_type": "code",
   "execution_count": null,
   "metadata": {},
   "outputs": [],
   "source": [
    "import bisect as bi\n",
    "\n",
    "class MyCalendarTwo:\n",
    "    def __init__(self):\n",
    "        self.s_points = []\n",
    "        self.e_points = []\n",
    "\n",
    "\n",
    "    def book(self, start: int, end: int) -> bool:\n",
    "\n",
    "        i = bi.bisect_left(self.s_points, start)\n",
    "        j = bi.bisect_right(self.e_points, start)\n",
    "        cur_intv = i - j\n",
    "        if cur_intv > 1: \n",
    "            return False\n",
    "\n",
    "        while i < len(self.s_points) and j < len(self.e_points) and min(self.s_points[i], self.e_points[j]) < end:\n",
    "\n",
    "            if self.e_points[j] <= self.s_points[i]:\n",
    "                cur_intv -= 1\n",
    "                j += 1\n",
    "            else:\n",
    "                cur_intv += 1\n",
    "                i += 1\n",
    "\n",
    "            if cur_intv > 1: return False\n",
    "\n",
    "        bi.insort(self.s_points, start)\n",
    "        bi.insort(self.e_points, end)\n",
    "\n",
    "        return True"
   ]
  },
  {
   "cell_type": "code",
   "execution_count": null,
   "metadata": {},
   "outputs": [],
   "source": []
  },
  {
   "cell_type": "code",
   "execution_count": 14,
   "metadata": {},
   "outputs": [],
   "source": [
    "import bisect"
   ]
  },
  {
   "cell_type": "code",
   "execution_count": 18,
   "metadata": {},
   "outputs": [
    {
     "data": {
      "text/plain": [
       "[17, 20, 60]"
      ]
     },
     "execution_count": 18,
     "metadata": {},
     "output_type": "execute_result"
    }
   ],
   "source": [
    "a = [20, 60]\n",
    "bisect.insort(a, 17)\n",
    "a"
   ]
  },
  {
   "cell_type": "code",
   "execution_count": null,
   "metadata": {},
   "outputs": [],
   "source": [
    "[]   []   10 20 0 0\n",
    "[10] [20] 50 60 1 1\n",
    "[10, 50] [20, 60] 10 40 0 0\n",
    "[10, 10, 50] [20, 40, 60] 5 15 0 0\n",
    "[10, 10, 50] [20, 40, 60] 5 10 0 0\n",
    "[5, 10, 10, 50] [10, 20, 40, 60] 25 55 3 2"
   ]
  },
  {
   "cell_type": "code",
   "execution_count": null,
   "metadata": {},
   "outputs": [],
   "source": [
    "[]   10 20 0 0\n",
    "[10] 50 60 1 1 # cur_intv = i - j = 0\n",
    "[10, 50] # 10 40 0 0"
   ]
  },
  {
   "cell_type": "code",
   "execution_count": null,
   "metadata": {},
   "outputs": [],
   "source": []
  },
  {
   "cell_type": "code",
   "execution_count": null,
   "metadata": {},
   "outputs": [],
   "source": []
  },
  {
   "cell_type": "code",
   "execution_count": 20,
   "metadata": {},
   "outputs": [],
   "source": [
    "class MyCalendarTwo:\n",
    "    def __init__(self):\n",
    "        self.overlap =  []\n",
    "        self.calendar = []\n",
    "    \n",
    "    def book(self, start: int, end: int) -> bool:\n",
    "        for s, e in self.overlap:\n",
    "            if start < e and end > s:\n",
    "                return False\n",
    "            \n",
    "        for s, e in self.overlap:\n",
    "            if start < e and end > s:\n",
    "                self.overlap.append([max(start, s), min(end, s)])\n",
    "        self.calendar.append([start, end])\n",
    "        return True"
   ]
  },
  {
   "cell_type": "code",
   "execution_count": 21,
   "metadata": {},
   "outputs": [],
   "source": [
    "class MyCalendarTwo:\n",
    "\n",
    "    def __init__(self):\n",
    "        self.calendar = []\n",
    "        self.overlap = [] #  如果 overlap中存在\n",
    "\n",
    "    def book(self, start: int, end: int) -> bool:\n",
    "         # try on paper, there are 4 cases when overlap happen and this is the simplified case common in them\n",
    "        for s,e in self.overlap:\n",
    "            if start < e and s < end :\n",
    "                return False\n",
    "            \n",
    "        for s,e in self.calendar:\n",
    "            if start < e and s < end :\n",
    "                self.overlap.append([max(s,start),min(end,e)]) # draw 4 cases of overlap on paper and check\n",
    "                \n",
    "        self.calendar.append([start,end])\n",
    "        return True"
   ]
  },
  {
   "cell_type": "code",
   "execution_count": null,
   "metadata": {},
   "outputs": [],
   "source": []
  }
 ],
 "metadata": {
  "kernelspec": {
   "display_name": "Python 3",
   "language": "python",
   "name": "python3"
  },
  "language_info": {
   "codemirror_mode": {
    "name": "ipython",
    "version": 3
   },
   "file_extension": ".py",
   "mimetype": "text/x-python",
   "name": "python",
   "nbconvert_exporter": "python",
   "pygments_lexer": "ipython3",
   "version": "3.6.2"
  }
 },
 "nbformat": 4,
 "nbformat_minor": 4
}
