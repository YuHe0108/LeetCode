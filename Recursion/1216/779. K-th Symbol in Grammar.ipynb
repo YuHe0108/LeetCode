{
 "cells": [
  {
   "cell_type": "code",
   "execution_count": null,
   "metadata": {},
   "outputs": [],
   "source": []
  },
  {
   "cell_type": "code",
   "execution_count": 19,
   "metadata": {},
   "outputs": [],
   "source": [
    "# 暴力方法不可取\n",
    "class Solution:\n",
    "    def kthGrammar(self, N: int, K: int) -> int:\n",
    "        nums = [0]\n",
    "        for i in range(N-1):\n",
    "            new_num = []\n",
    "            for a in nums:\n",
    "                if a == 0:\n",
    "                    new_num.append(0)\n",
    "                    new_num.append(1)\n",
    "                else:\n",
    "                    new_num.append(1)\n",
    "                    new_num.append(0)\n",
    "            nums = new_num\n",
    "        print(nums)\n",
    "        return nums[K+1]"
   ]
  },
  {
   "cell_type": "code",
   "execution_count": 20,
   "metadata": {},
   "outputs": [
    {
     "name": "stdout",
     "output_type": "stream",
     "text": [
      "[0, 1, 1, 0, 1, 0, 0, 1, 1, 0, 0, 1, 0, 1, 1, 0]\n"
     ]
    },
    {
     "data": {
      "text/plain": [
       "1"
      ]
     },
     "execution_count": 20,
     "metadata": {},
     "output_type": "execute_result"
    }
   ],
   "source": [
    "solution = Solution()\n",
    "solution.kthGrammar(5, 1)"
   ]
  },
  {
   "cell_type": "raw",
   "metadata": {},
   "source": [
    "其他大佬总结的规律：\n",
    "    K在奇数位时，与N-1, (K+1)/2 位置的值相同\n",
    "    K在偶数位时，与N-1, K/2 位置的值相反"
   ]
  },
  {
   "cell_type": "code",
   "execution_count": 52,
   "metadata": {},
   "outputs": [],
   "source": [
    "class Solution:\n",
    "    def kthGrammar(self, N: int, K: int) -> int:\n",
    "        if N == 1:\n",
    "            return 0\n",
    "        if K % 2 == 1:\n",
    "            return self.kthGrammar(N-1, (K+1)//2)\n",
    "        else:\n",
    "            return abs(self.kthGrammar(N-1, K//2) - 1)"
   ]
  },
  {
   "cell_type": "code",
   "execution_count": 53,
   "metadata": {},
   "outputs": [
    {
     "data": {
      "text/plain": [
       "1"
      ]
     },
     "execution_count": 53,
     "metadata": {},
     "output_type": "execute_result"
    }
   ],
   "source": [
    "solution = Solution()\n",
    "solution.kthGrammar(4, 5)"
   ]
  },
  {
   "cell_type": "raw",
   "metadata": {},
   "source": [
    "解释:\n",
    "    第一行: 0\n",
    "    第二行: 01\n",
    "    第三行: 0110\n",
    "    第四行: 01101001\n",
    "    第五行: 01101001 10010110"
   ]
  },
  {
   "cell_type": "code",
   "execution_count": 21,
   "metadata": {},
   "outputs": [],
   "source": [
    "a = 'abcd'"
   ]
  },
  {
   "cell_type": "code",
   "execution_count": 22,
   "metadata": {},
   "outputs": [
    {
     "data": {
      "text/plain": [
       "'dcba'"
      ]
     },
     "execution_count": 22,
     "metadata": {},
     "output_type": "execute_result"
    }
   ],
   "source": [
    "a[::-1]"
   ]
  },
  {
   "cell_type": "code",
   "execution_count": null,
   "metadata": {},
   "outputs": [],
   "source": [
    "'011001100 1100110'"
   ]
  }
 ],
 "metadata": {
  "kernelspec": {
   "display_name": "Python 3",
   "language": "python",
   "name": "python3"
  },
  "language_info": {
   "codemirror_mode": {
    "name": "ipython",
    "version": 3
   },
   "file_extension": ".py",
   "mimetype": "text/x-python",
   "name": "python",
   "nbconvert_exporter": "python",
   "pygments_lexer": "ipython3",
   "version": "3.6.2"
  }
 },
 "nbformat": 4,
 "nbformat_minor": 4
}
