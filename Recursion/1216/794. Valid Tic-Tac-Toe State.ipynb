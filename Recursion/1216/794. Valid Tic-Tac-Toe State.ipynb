{
 "cells": [
  {
   "cell_type": "code",
   "execution_count": null,
   "metadata": {},
   "outputs": [],
   "source": []
  },
  {
   "cell_type": "code",
   "execution_count": null,
   "metadata": {},
   "outputs": [],
   "source": []
  },
  {
   "cell_type": "code",
   "execution_count": 89,
   "metadata": {},
   "outputs": [],
   "source": [
    "class Solution:\n",
    "    def validTicTacToe(self, board):\n",
    "        def check_corner(r, c, sym):\n",
    "            def pos_check():\n",
    "                nums = [board[i][i] for i in range(3)]\n",
    "                return ''.join(nums) == sym * 3\n",
    "            \n",
    "            def neg_check():\n",
    "                nums = [board[0 + i][2 - i] for i in range(3)]\n",
    "                return ''.join(nums) == sym * 3\n",
    "            \n",
    "            if (r, c) == (1, 1):\n",
    "                if pos_check() or neg_check():\n",
    "                    return False\n",
    "            elif (r, c) == (0, 0) or (r, c) == (2, 2): # 正对角线\n",
    "                if pos_check():\n",
    "                    return False\n",
    "            else: # 斜对角线\n",
    "                if neg_check():\n",
    "                    return False\n",
    "            return True\n",
    "        \n",
    "        def helper(sym = 'O'):\n",
    "            # o_nums 的数量 == x_num, 这种情况下，o刚下完，因为 o 可以下，所以不存在 x三连情况\n",
    "            corner = {(0, 0), (0, 2), (2, 0), (2, 2), (1, 1)}\n",
    "            for i in range(3): # 行不能有三连\n",
    "                if board[i] == sym * 3:\n",
    "                    return False\n",
    "            for j in range(3):\n",
    "                cols = ''\n",
    "                for i in range(3): # 列不能有三连\n",
    "                    cols += board[i][j]\n",
    "                if cols == sym * 3:\n",
    "                    return False\n",
    "            # 四个角出现 sym, 那么对角线不能有, 如果是中心，那么要考虑两个对角线\n",
    "            for i in range(3):\n",
    "                for j in range(3):\n",
    "                    if board[i][j] == sym and (i, j) in corner:\n",
    "                        if not check_corner(i, j, sym):\n",
    "                            return False\n",
    "            return True\n",
    "        \n",
    "        o_nums, x_nums = 0, 0\n",
    "        for i in range(3):\n",
    "            for j in range(3):\n",
    "                if board[i][j] == 'O':\n",
    "                    o_nums += 1\n",
    "                elif board[i][j] == 'X':\n",
    "                    x_nums += 1\n",
    "        print(o_nums, x_nums)\n",
    "        \n",
    "        if o_nums == x_nums:\n",
    "            if helper('X') is False:\n",
    "                return False\n",
    "        elif o_nums == x_nums - 1:\n",
    "            if helper('O') is False:\n",
    "                return False\n",
    "        else:\n",
    "            return False # 除了上述两种情况，其他都是非法\n",
    "        return True # 去除所有的违规情况，剩下的就是合法"
   ]
  },
  {
   "cell_type": "code",
   "execution_count": 90,
   "metadata": {},
   "outputs": [
    {
     "name": "stdout",
     "output_type": "stream",
     "text": [
      "4 5\n"
     ]
    },
    {
     "data": {
      "text/plain": [
       "True"
      ]
     },
     "execution_count": 90,
     "metadata": {},
     "output_type": "execute_result"
    }
   ],
   "source": [
    "solution = Solution()\n",
    "solution.validTicTacToe([\"XXX\",\n",
    "                         \"OOX\",\n",
    "                         \"OOX\"])"
   ]
  },
  {
   "cell_type": "code",
   "execution_count": null,
   "metadata": {},
   "outputs": [],
   "source": []
  }
 ],
 "metadata": {
  "kernelspec": {
   "display_name": "Python 3",
   "language": "python",
   "name": "python3"
  },
  "language_info": {
   "codemirror_mode": {
    "name": "ipython",
    "version": 3
   },
   "file_extension": ".py",
   "mimetype": "text/x-python",
   "name": "python",
   "nbconvert_exporter": "python",
   "pygments_lexer": "ipython3",
   "version": "3.6.2"
  }
 },
 "nbformat": 4,
 "nbformat_minor": 4
}
