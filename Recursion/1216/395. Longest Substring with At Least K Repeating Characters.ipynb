{
 "cells": [
  {
   "cell_type": "code",
   "execution_count": null,
   "metadata": {},
   "outputs": [],
   "source": []
  },
  {
   "cell_type": "code",
   "execution_count": null,
   "metadata": {},
   "outputs": [],
   "source": []
  },
  {
   "cell_type": "code",
   "execution_count": 67,
   "metadata": {},
   "outputs": [],
   "source": [
    "from collections import Counter\n",
    "\n",
    "class Solution:\n",
    "    def longestSubstring(self, s: str, k: int) -> int:\n",
    "        def check(arr):\n",
    "            for x in arr:\n",
    "                if x < k:\n",
    "                    return False\n",
    "            return True\n",
    "        \n",
    "        n = len(s)\n",
    "        count = [Counter({'': 0})]\n",
    "        for i in range(n):\n",
    "            count.append(Counter(s[:i+1]))\n",
    "            \n",
    "        sub_str, max_len = '', 0 # 最长满足条件的字符串的长度\n",
    "        for gap in range(k, n + 1):\n",
    "            for start in range(n - gap + 1):\n",
    "                end = start + gap - 1\n",
    "                vals = count[end + 1] - count[start]\n",
    "                if check(list(vals.values())):\n",
    "                    max_len = gap\n",
    "                    sub_str = s[start:end + 1]\n",
    "        return sub_str, max_len"
   ]
  },
  {
   "cell_type": "code",
   "execution_count": null,
   "metadata": {},
   "outputs": [],
   "source": []
  },
  {
   "cell_type": "code",
   "execution_count": 73,
   "metadata": {},
   "outputs": [],
   "source": [
    "from collections import Counter, defaultdict\n",
    "\n",
    "class Solution:\n",
    "    def longestSubstring(self, s: str, k: int) -> int:\n",
    "        freq = Counter(s)\n",
    "        max_nums = len(freq) # 有多少种不同类型的字母\n",
    "        n = len(s)\n",
    "        ans = 0\n",
    "        \n",
    "        for num in range(1, n + 1):\n",
    "            count = defaultdict(int)\n",
    "            left = 0\n",
    "            for right in range(n):\n",
    "                count[s[right]] += 1\n",
    "                \n",
    "                while len(count) > num:\n",
    "                    count[s[left]] -= 1\n",
    "                    if count[s[left]] == 0:\n",
    "                        del count[s[left]]\n",
    "                    left += 1\n",
    "                \n",
    "                if all(vals >= k for keys, vals in count.items()):\n",
    "                    ans = max(ans, right - left + 1)\n",
    "        return ans"
   ]
  },
  {
   "cell_type": "code",
   "execution_count": 85,
   "metadata": {},
   "outputs": [],
   "source": [
    "from collections import Counter, defaultdict\n",
    "\n",
    "class Solution:\n",
    "    def longestSubstring(self, s: str, k: int) -> int:\n",
    "        def rec(left, right):\n",
    "            count = defaultdict(int)\n",
    "            for i in range(left, right + 1):\n",
    "                count[s[i]] += 1\n",
    "            \n",
    "            for mid in range(left, right + 1):\n",
    "                if count[s[mid]] < k:\n",
    "                    return max(rec(left, mid - 1), rec(mid + 1, right))\n",
    "            return right - left + 1\n",
    "        \n",
    "        n = len(s)\n",
    "        return rec(0, n-1)"
   ]
  },
  {
   "cell_type": "code",
   "execution_count": 86,
   "metadata": {},
   "outputs": [
    {
     "data": {
      "text/plain": [
       "5"
      ]
     },
     "execution_count": 86,
     "metadata": {},
     "output_type": "execute_result"
    }
   ],
   "source": [
    "solution = Solution()\n",
    "solution.longestSubstring(s = \"ababbc\", k = 2)"
   ]
  },
  {
   "cell_type": "code",
   "execution_count": null,
   "metadata": {},
   "outputs": [],
   "source": [
    "class Solution:\n",
    "    def longestSubstring(self, s: str, k: int) -> int:\n",
    "            if len(s) < k:\n",
    "                return 0\n",
    "            # 获取出现次数最少的字符\n",
    "            c = min(set(s), key=s.count)\n",
    "            if s.count(c) >= k:\n",
    "                return len(s)\n",
    "            return max(self.longestSubstring(t, k) for t in s.split(c))\n",
    "\n"
   ]
  },
  {
   "cell_type": "code",
   "execution_count": null,
   "metadata": {},
   "outputs": [],
   "source": [
    "from collections import Counter, defaultdict\n",
    "\n",
    "class Solution:\n",
    "    def longestSubstring(self, s: str, k: int) -> int:\n",
    "        for uniq_char in set(s):\n",
    "            if s.count(uniq_char) < k:\n",
    "                sub_str = []\n",
    "                for t in s.split(uniq_char):\n",
    "                    sub_str.append(self.longestSubstring(t, k))\n",
    "                return max(sub_str)\n",
    "        return len(s)"
   ]
  },
  {
   "cell_type": "code",
   "execution_count": null,
   "metadata": {},
   "outputs": [],
   "source": []
  },
  {
   "cell_type": "code",
   "execution_count": 87,
   "metadata": {},
   "outputs": [
    {
     "data": {
      "text/plain": [
       "['12', '456', '126']"
      ]
     },
     "execution_count": 87,
     "metadata": {},
     "output_type": "execute_result"
    }
   ],
   "source": [
    "a = '1234563126'\n",
    "a.split('3')"
   ]
  },
  {
   "cell_type": "code",
   "execution_count": null,
   "metadata": {},
   "outputs": [],
   "source": []
  }
 ],
 "metadata": {
  "kernelspec": {
   "display_name": "Python 3",
   "language": "python",
   "name": "python3"
  },
  "language_info": {
   "codemirror_mode": {
    "name": "ipython",
    "version": 3
   },
   "file_extension": ".py",
   "mimetype": "text/x-python",
   "name": "python",
   "nbconvert_exporter": "python",
   "pygments_lexer": "ipython3",
   "version": "3.6.2"
  }
 },
 "nbformat": 4,
 "nbformat_minor": 4
}
