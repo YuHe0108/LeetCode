{
 "cells": [
  {
   "cell_type": "code",
   "execution_count": null,
   "metadata": {},
   "outputs": [],
   "source": []
  },
  {
   "cell_type": "code",
   "execution_count": null,
   "metadata": {},
   "outputs": [],
   "source": []
  },
  {
   "cell_type": "code",
   "execution_count": 196,
   "metadata": {},
   "outputs": [],
   "source": [
    "from collections import defaultdict, Counter\n",
    "from functools import lru_cache\n",
    "\n",
    "class Solution:\n",
    "    def countOfAtoms(self, formula: str) -> str:\n",
    "        @lru_cache(None)\n",
    "        def rec(form):\n",
    "            atoms = defaultdict(int)\n",
    "            n = len(form)\n",
    "            idx = 0\n",
    "            name, val = '', ''\n",
    "            while idx < n:\n",
    "                if form[idx].isupper():\n",
    "                    name += form[idx]\n",
    "                    idx += 1\n",
    "                    while idx < n and form[idx].islower():\n",
    "                        name += form[idx]\n",
    "                        idx += 1\n",
    "                    while idx < n and form[idx].isdigit():\n",
    "                        val += form[idx]\n",
    "                        idx += 1\n",
    "                    atoms[name] += int(val) if val else 1\n",
    "                    name, val = '', ''\n",
    "                elif form[idx] == '(':\n",
    "                    stack, cnt, sub_form = [idx], '', ''\n",
    "                    while idx < n and stack:\n",
    "                        idx += 1\n",
    "                        if form[idx] == '(':\n",
    "                            stack.append(idx)\n",
    "                        elif form[idx] == ')':\n",
    "                            stack.pop()\n",
    "                        if stack:\n",
    "                            sub_form += form[idx]\n",
    "                    #　统计括号内的频率\n",
    "                    while idx < n:\n",
    "                        if idx + 1 < n and form[idx + 1].isdigit():\n",
    "                            cnt += form[idx + 1]\n",
    "                            idx += 1\n",
    "                        else:\n",
    "                            break\n",
    "                    res = rec(sub_form)\n",
    "                    cnt = int(cnt) if cnt else 1\n",
    "                    for k, v in res.items():\n",
    "                        atoms[k] += v * cnt\n",
    "                    idx += 1\n",
    "            return atoms\n",
    "        \n",
    "        counter = rec(formula)\n",
    "        counter = sorted(counter.items(), key = lambda x: x[0])\n",
    "        res = ''\n",
    "        for k, v in counter:\n",
    "            res += k if v == 1 else k + str(v)\n",
    "        return res"
   ]
  },
  {
   "cell_type": "code",
   "execution_count": 197,
   "metadata": {},
   "outputs": [
    {
     "data": {
      "text/plain": [
       "'H2MgO2'"
      ]
     },
     "execution_count": 197,
     "metadata": {},
     "output_type": "execute_result"
    }
   ],
   "source": [
    "solution = Solution()\n",
    "solution.countOfAtoms(formula = \"Mg(OH)2\")"
   ]
  },
  {
   "cell_type": "code",
   "execution_count": 8,
   "metadata": {},
   "outputs": [
    {
     "name": "stdout",
     "output_type": "stream",
     "text": [
      "False\n"
     ]
    }
   ],
   "source": [
    "a=  'a2'\n",
    "print(a[0].isdigit())"
   ]
  },
  {
   "cell_type": "code",
   "execution_count": 29,
   "metadata": {},
   "outputs": [],
   "source": [
    "a =  {'H': 2, 'Mg': 1, 'O': 2}"
   ]
  },
  {
   "cell_type": "code",
   "execution_count": 30,
   "metadata": {},
   "outputs": [],
   "source": [
    "b = sorted(a.items(), key=lambda x: x[0])"
   ]
  },
  {
   "cell_type": "code",
   "execution_count": 31,
   "metadata": {},
   "outputs": [
    {
     "data": {
      "text/plain": [
       "[('H', 2), ('Mg', 1), ('O', 2)]"
      ]
     },
     "execution_count": 31,
     "metadata": {},
     "output_type": "execute_result"
    }
   ],
   "source": [
    "b"
   ]
  },
  {
   "cell_type": "code",
   "execution_count": 75,
   "metadata": {},
   "outputs": [],
   "source": [
    "atoms = Counter()"
   ]
  },
  {
   "cell_type": "code",
   "execution_count": 76,
   "metadata": {},
   "outputs": [],
   "source": [
    "atoms[0] = 1"
   ]
  },
  {
   "cell_type": "code",
   "execution_count": 77,
   "metadata": {},
   "outputs": [],
   "source": [
    "atoms[1] = 2"
   ]
  },
  {
   "cell_type": "code",
   "execution_count": 78,
   "metadata": {},
   "outputs": [
    {
     "data": {
      "text/plain": [
       "Counter({0: 1, 1: 2})"
      ]
     },
     "execution_count": 78,
     "metadata": {},
     "output_type": "execute_result"
    }
   ],
   "source": [
    "atoms"
   ]
  },
  {
   "cell_type": "code",
   "execution_count": 80,
   "metadata": {},
   "outputs": [],
   "source": [
    "b = Counter()"
   ]
  },
  {
   "cell_type": "code",
   "execution_count": 81,
   "metadata": {},
   "outputs": [],
   "source": [
    "b[0] = 3"
   ]
  },
  {
   "cell_type": "code",
   "execution_count": 82,
   "metadata": {},
   "outputs": [],
   "source": [
    "c = atoms + b"
   ]
  },
  {
   "cell_type": "code",
   "execution_count": 88,
   "metadata": {},
   "outputs": [
    {
     "data": {
      "text/plain": [
       "Counter({0: 4, 1: 2})"
      ]
     },
     "execution_count": 88,
     "metadata": {},
     "output_type": "execute_result"
    }
   ],
   "source": [
    "c"
   ]
  },
  {
   "cell_type": "code",
   "execution_count": 90,
   "metadata": {},
   "outputs": [],
   "source": [
    "c += c"
   ]
  },
  {
   "cell_type": "code",
   "execution_count": 91,
   "metadata": {},
   "outputs": [
    {
     "data": {
      "text/plain": [
       "Counter({0: 8, 1: 4})"
      ]
     },
     "execution_count": 91,
     "metadata": {},
     "output_type": "execute_result"
    }
   ],
   "source": [
    "c"
   ]
  },
  {
   "cell_type": "code",
   "execution_count": 151,
   "metadata": {},
   "outputs": [],
   "source": [
    "a = 'aaA'"
   ]
  },
  {
   "cell_type": "code",
   "execution_count": 152,
   "metadata": {},
   "outputs": [
    {
     "name": "stdout",
     "output_type": "stream",
     "text": [
      "False\n"
     ]
    }
   ],
   "source": [
    "print(a[0].isupper())"
   ]
  },
  {
   "cell_type": "code",
   "execution_count": null,
   "metadata": {},
   "outputs": [],
   "source": []
  }
 ],
 "metadata": {
  "kernelspec": {
   "display_name": "Python 3",
   "language": "python",
   "name": "python3"
  },
  "language_info": {
   "codemirror_mode": {
    "name": "ipython",
    "version": 3
   },
   "file_extension": ".py",
   "mimetype": "text/x-python",
   "name": "python",
   "nbconvert_exporter": "python",
   "pygments_lexer": "ipython3",
   "version": "3.6.2"
  }
 },
 "nbformat": 4,
 "nbformat_minor": 4
}
