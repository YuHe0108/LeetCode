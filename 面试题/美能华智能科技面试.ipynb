{
 "cells": [
  {
   "cell_type": "code",
   "execution_count": 11,
   "metadata": {},
   "outputs": [
    {
     "data": {
      "text/plain": [
       "18446744073709551616"
      ]
     },
     "execution_count": 11,
     "metadata": {},
     "output_type": "execute_result"
    }
   ],
   "source": [
    "pow(2, 64)"
   ]
  },
  {
   "cell_type": "code",
   "execution_count": null,
   "metadata": {},
   "outputs": [],
   "source": []
  },
  {
   "cell_type": "code",
   "execution_count": null,
   "metadata": {},
   "outputs": [],
   "source": []
  },
  {
   "cell_type": "code",
   "execution_count": null,
   "metadata": {},
   "outputs": [],
   "source": []
  },
  {
   "cell_type": "code",
   "execution_count": null,
   "metadata": {},
   "outputs": [],
   "source": []
  },
  {
   "cell_type": "code",
   "execution_count": null,
   "metadata": {},
   "outputs": [],
   "source": []
  },
  {
   "cell_type": "code",
   "execution_count": 12,
   "metadata": {},
   "outputs": [],
   "source": [
    "def solution_1(nums):\n",
    "    ones, twos = 0, 0\n",
    "    for num in nums:\n",
    "        ones = (ones ^ num) & (~twos)\n",
    "        twos = (twos ^ num) & (~ones)\n",
    "    return ones"
   ]
  },
  {
   "cell_type": "code",
   "execution_count": 13,
   "metadata": {},
   "outputs": [
    {
     "data": {
      "text/plain": [
       "5"
      ]
     },
     "execution_count": 13,
     "metadata": {},
     "output_type": "execute_result"
    }
   ],
   "source": [
    "solution_1([3, 3, 3, 5])"
   ]
  },
  {
   "cell_type": "code",
   "execution_count": null,
   "metadata": {},
   "outputs": [],
   "source": []
  },
  {
   "cell_type": "code",
   "execution_count": null,
   "metadata": {},
   "outputs": [],
   "source": []
  },
  {
   "cell_type": "code",
   "execution_count": 2,
   "metadata": {},
   "outputs": [],
   "source": [
    "# 在随机删除两个数字的情况下\n",
    "\n",
    "def solution_2(nums):\n",
    "    return "
   ]
  },
  {
   "cell_type": "code",
   "execution_count": null,
   "metadata": {},
   "outputs": [],
   "source": []
  },
  {
   "cell_type": "code",
   "execution_count": null,
   "metadata": {},
   "outputs": [],
   "source": []
  },
  {
   "cell_type": "code",
   "execution_count": null,
   "metadata": {},
   "outputs": [],
   "source": []
  },
  {
   "cell_type": "code",
   "execution_count": 4,
   "metadata": {},
   "outputs": [],
   "source": [
    "from math import log2, ceil\n",
    "  \n",
    "def pad(string: str, real_len: int, max_len: int) -> str:\n",
    "    pad_len: int = max_len - real_len\n",
    "    return f\"{'0' * pad_len}{string}\"\n",
    "\n",
    "def kara(n1: int, n2: int) -> int:\n",
    "    if n1 < 10 or n2 < 10:\n",
    "        return n1 * n2\n",
    "    n1_str: str = str(n1)\n",
    "    n2_str: str = str(n2)\n",
    "    n1_len: int = len(n1_str)\n",
    "    n2_len: int = len(n2_str)\n",
    "    real_len: int = max(n1_len, n2_len)\n",
    "    max_len: int = 2 ** ceil(log2(real_len))\n",
    "    mid_len: int = max_len >> 1\n",
    "    n1_pad: str = pad(n1_str, n1_len, max_len)\n",
    "    n2_pad: str = pad(n2_str, n2_len, max_len)\n",
    "    p: int = int(n1_pad[:mid_len])\n",
    "    q: int = int(n1_pad[mid_len:])\n",
    "    r: int = int(n2_pad[:mid_len])\n",
    "    s: int = int(n2_pad[mid_len:])\n",
    "    u: int = kara(p, r)\n",
    "    v: int = kara(q-p, r-s)\n",
    "    w: int = kara(q, s)\n",
    "    return u * 10 ** max_len + (u+v+w) * 10 ** mid_len + w"
   ]
  },
  {
   "cell_type": "code",
   "execution_count": 7,
   "metadata": {},
   "outputs": [
    {
     "data": {
      "text/plain": [
       "40062889700200262904"
      ]
     },
     "execution_count": 7,
     "metadata": {},
     "output_type": "execute_result"
    }
   ],
   "source": [
    "kara(1234233456756, 32459734) "
   ]
  },
  {
   "cell_type": "code",
   "execution_count": null,
   "metadata": {},
   "outputs": [],
   "source": []
  }
 ],
 "metadata": {
  "kernelspec": {
   "display_name": "Python 3",
   "language": "python",
   "name": "python3"
  },
  "language_info": {
   "codemirror_mode": {
    "name": "ipython",
    "version": 3
   },
   "file_extension": ".py",
   "mimetype": "text/x-python",
   "name": "python",
   "nbconvert_exporter": "python",
   "pygments_lexer": "ipython3",
   "version": "3.6.2"
  }
 },
 "nbformat": 4,
 "nbformat_minor": 4
}
