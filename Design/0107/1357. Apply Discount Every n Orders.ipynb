{
 "cells": [
  {
   "cell_type": "code",
   "execution_count": 1,
   "metadata": {},
   "outputs": [
    {
     "data": {
      "text/plain": [
       "0"
      ]
     },
     "execution_count": 1,
     "metadata": {},
     "output_type": "execute_result"
    }
   ],
   "source": [
    "0 % 2"
   ]
  },
  {
   "cell_type": "code",
   "execution_count": null,
   "metadata": {},
   "outputs": [],
   "source": [
    "class Cashier:\n",
    "\n",
    "    def __init__(self, n: int, discount: int, products: List[int], prices: List[int]):\n",
    "        self.n = n\n",
    "        self.idx = 0 # 第几位顾客\n",
    "        self.discount = discount\n",
    "        self.cur_price = {}\n",
    "        for i in range(len(products)):\n",
    "            pro, pri = products[i], prices[i]\n",
    "            self.cur_price[pro] = pri\n",
    "        \n",
    "\n",
    "    def getBill(self, product: List[int], amount: List[int]) -> float:\n",
    "        self.idx += 1\n",
    "        total = 0\n",
    "        for i in range(len(product)):\n",
    "            pro, num = product[i], amount[i]\n",
    "            total += self.cur_price[pro] * num\n",
    "        if self.idx % self.n == 0:\n",
    "            return total - (self.discount * total) / 100\n",
    "        return total"
   ]
  }
 ],
 "metadata": {
  "kernelspec": {
   "display_name": "Python 3",
   "language": "python",
   "name": "python3"
  },
  "language_info": {
   "codemirror_mode": {
    "name": "ipython",
    "version": 3
   },
   "file_extension": ".py",
   "mimetype": "text/x-python",
   "name": "python",
   "nbconvert_exporter": "python",
   "pygments_lexer": "ipython3",
   "version": "3.6.2"
  }
 },
 "nbformat": 4,
 "nbformat_minor": 4
}
