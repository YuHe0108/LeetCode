{
 "cells": [
  {
   "cell_type": "code",
   "execution_count": null,
   "metadata": {},
   "outputs": [],
   "source": []
  },
  {
   "cell_type": "code",
   "execution_count": null,
   "metadata": {},
   "outputs": [],
   "source": []
  },
  {
   "cell_type": "code",
   "execution_count": 6,
   "metadata": {},
   "outputs": [
    {
     "name": "stdout",
     "output_type": "stream",
     "text": [
      "[1, 2, 3]\n",
      "1 1\n",
      "2 2\n",
      "3 3\n"
     ]
    }
   ],
   "source": [
    "class PeekingIterator:\n",
    "    def __init__(self, iterator):\n",
    "        \"\"\"\n",
    "        Initialize your data structure here.\n",
    "        :type iterator: Iterator\n",
    "        \"\"\"\n",
    "        self.iterator = iterator\n",
    "        self.peek_vals = None\n",
    "\n",
    "    def peek(self):\n",
    "        \"\"\"\n",
    "        Returns the next element in the iteration without advancing the iterator.\n",
    "        :rtype: int\n",
    "        \"\"\"\n",
    "        if self.peek_vals is not None:\n",
    "            return self.peek_vals\n",
    "        if self.iterator.hasNext():\n",
    "            val = self.iterator.next()\n",
    "            self.peek_vals = val\n",
    "            return val\n",
    "\n",
    "    def next(self):\n",
    "        \"\"\"\n",
    "        :rtype: int\n",
    "        \"\"\"\n",
    "        if self.peek_vals is not None:\n",
    "            val = self.peek_vals\n",
    "            self.peek_vals = None\n",
    "            return val\n",
    "        return self.iterator.next()\n",
    "        \n",
    "\n",
    "    def hasNext(self):\n",
    "        \"\"\"\n",
    "        :rtype: bool\n",
    "        \"\"\"\n",
    "        if self.peek_vals is None:\n",
    "            return self.iterator.hasNext()\n",
    "        return True"
   ]
  },
  {
   "cell_type": "code",
   "execution_count": null,
   "metadata": {},
   "outputs": [],
   "source": []
  },
  {
   "cell_type": "code",
   "execution_count": null,
   "metadata": {},
   "outputs": [],
   "source": []
  }
 ],
 "metadata": {
  "kernelspec": {
   "display_name": "Python 3",
   "language": "python",
   "name": "python3"
  },
  "language_info": {
   "codemirror_mode": {
    "name": "ipython",
    "version": 3
   },
   "file_extension": ".py",
   "mimetype": "text/x-python",
   "name": "python",
   "nbconvert_exporter": "python",
   "pygments_lexer": "ipython3",
   "version": "3.6.2"
  }
 },
 "nbformat": 4,
 "nbformat_minor": 4
}
