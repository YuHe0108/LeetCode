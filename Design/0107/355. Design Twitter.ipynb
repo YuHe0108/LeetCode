{
 "cells": [
  {
   "cell_type": "code",
   "execution_count": null,
   "metadata": {},
   "outputs": [],
   "source": []
  },
  {
   "cell_type": "code",
   "execution_count": 2,
   "metadata": {},
   "outputs": [],
   "source": [
    "a = {1}\n",
    "b = {2}"
   ]
  },
  {
   "cell_type": "code",
   "execution_count": 5,
   "metadata": {},
   "outputs": [],
   "source": [
    "c = a.union(b)"
   ]
  },
  {
   "cell_type": "code",
   "execution_count": 6,
   "metadata": {},
   "outputs": [
    {
     "data": {
      "text/plain": [
       "{1, 2}"
      ]
     },
     "execution_count": 6,
     "metadata": {},
     "output_type": "execute_result"
    }
   ],
   "source": [
    "c"
   ]
  },
  {
   "cell_type": "code",
   "execution_count": 17,
   "metadata": {},
   "outputs": [],
   "source": [
    "from collections import deque, defaultdict\n",
    "from typing import List\n",
    "\n",
    "class Twitter:\n",
    "\n",
    "    def __init__(self):\n",
    "        \"\"\"\n",
    "        Initialize your data structure here.\n",
    "        \"\"\"\n",
    "        self.follows = defaultdict(set) # 每个人关注的人有哪些\n",
    "        self.infors = deque() # 各个用户发送的推文\n",
    "        self.idx = 0 # 用户发送的 推文按照顺序排列\n",
    "\n",
    "    def postTweet(self, userId: int, tweetId: int) -> None:\n",
    "        \"\"\"\n",
    "        Compose a new tweet.\n",
    "        \"\"\"\n",
    "        self.infors.appendleft((userId, tweetId))\n",
    "\n",
    "    def getNewsFeed(self, userId: int) -> List[int]:\n",
    "        \"\"\"\n",
    "        Retrieve the 10 most recent tweet ids in the user's news feed. \n",
    "        Each item in the news feed must be posted by users who the user followed or by the user herself. \n",
    "        Tweets must be ordered from most recent to least recent.\n",
    "        \"\"\"\n",
    "        follow = {userId}\n",
    "        follow = follow.union(self.follows[userId])\n",
    "            \n",
    "        news = []\n",
    "        for user_id, tweet_id in self.infors:\n",
    "            if user_id in follow:\n",
    "                news.append(tweet_id)\n",
    "                if len(news) == 10:\n",
    "                    break\n",
    "        return news\n",
    "\n",
    "    def follow(self, followerId: int, followeeId: int) -> None:\n",
    "        \"\"\"\n",
    "        Follower follows a followee. If the operation is invalid, it should be a no-op.\n",
    "        \"\"\"\n",
    "        self.follows[followerId].add(followeeId)\n",
    "\n",
    "    def unfollow(self, followerId: int, followeeId: int) -> None:\n",
    "        \"\"\"\n",
    "        Follower unfollows a followee. If the operation is invalid, it should be a no-op.\n",
    "        \"\"\"\n",
    "        if followeeId in self.follows[followerId]:\n",
    "            self.follows[followerId].remove(followeeId)\n",
    "        "
   ]
  },
  {
   "cell_type": "code",
   "execution_count": 18,
   "metadata": {},
   "outputs": [],
   "source": [
    "twitter = Twitter();\n",
    "\n",
    "# // 用户1发送了一条新推文 (用户id = 1, 推文id = 5).\n",
    "twitter.postTweet(1, 5);\n",
    "\n",
    "# // 用户1的获取推文应当返回一个列表，其中包含一个id为5的推文.\n",
    "twitter.getNewsFeed(1);\n",
    "\n",
    "# // 用户1关注了用户2.\n",
    "twitter.follow(1, 2);\n",
    "\n",
    "# // 用户2发送了一个新推文 (推文id = 6).\n",
    "twitter.postTweet(2, 6);\n",
    "\n",
    "# // 用户1的获取推文应当返回一个列表，其中包含两个推文，id分别为 -> [6, 5].\n",
    "# // 推文id6应当在推文id5之前，因为它是在5之后发送的.\n",
    "twitter.getNewsFeed(1);\n",
    "\n",
    "# // 用户1取消关注了用户2.\n",
    "twitter.unfollow(1, 2);\n",
    "\n",
    "# // 用户1的获取推文应当返回一个列表，其中包含一个id为5的推文.\n",
    "# // 因为用户1已经不再关注用户2.\n",
    "twitter.getNewsFeed(1);"
   ]
  },
  {
   "cell_type": "code",
   "execution_count": null,
   "metadata": {},
   "outputs": [],
   "source": [
    "from "
   ]
  }
 ],
 "metadata": {
  "kernelspec": {
   "display_name": "Python 3",
   "language": "python",
   "name": "python3"
  },
  "language_info": {
   "codemirror_mode": {
    "name": "ipython",
    "version": 3
   },
   "file_extension": ".py",
   "mimetype": "text/x-python",
   "name": "python",
   "nbconvert_exporter": "python",
   "pygments_lexer": "ipython3",
   "version": "3.6.2"
  }
 },
 "nbformat": 4,
 "nbformat_minor": 4
}
