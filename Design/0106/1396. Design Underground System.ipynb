{
 "cells": [
  {
   "cell_type": "code",
   "execution_count": null,
   "metadata": {},
   "outputs": [],
   "source": []
  },
  {
   "cell_type": "code",
   "execution_count": null,
   "metadata": {},
   "outputs": [],
   "source": []
  },
  {
   "cell_type": "code",
   "execution_count": null,
   "metadata": {},
   "outputs": [],
   "source": [
    "class UndergroundSystem:\n",
    "\n",
    "    def __init__(self):\n",
    "        self.record = defaultdict(dict)\n",
    "        self.in_station = {}\n",
    "\n",
    "    def checkIn(self, id: int, stationName: str, t: int) -> None:\n",
    "        self.in_station[id] = [stationName, t]\n",
    "\n",
    "    def checkOut(self, id: int, stationName: str, t: int) -> None:\n",
    "        from_station = self.in_station[id][0] # 从哪个地铁站来的\n",
    "        cost = t - self.in_station[id][1] # 到当前的地铁站花费的时间\n",
    "        if stationName not in self.record[from_station]:\n",
    "            self.record[from_station][stationName] = [cost, 1]\n",
    "        else:\n",
    "            self.record[from_station][stationName][0] += cost\n",
    "            self.record[from_station][stationName][1] += 1\n",
    "        del self.in_station[id]\n",
    "\n",
    "    def getAverageTime(self, startStation: str, endStation: str) -> float:\n",
    "        item = self.record[startStation][endStation]\n",
    "        return item[0] / item[1]"
   ]
  }
 ],
 "metadata": {
  "kernelspec": {
   "display_name": "Python 3",
   "language": "python",
   "name": "python3"
  },
  "language_info": {
   "codemirror_mode": {
    "name": "ipython",
    "version": 3
   },
   "file_extension": ".py",
   "mimetype": "text/x-python",
   "name": "python",
   "nbconvert_exporter": "python",
   "pygments_lexer": "ipython3",
   "version": "3.6.2"
  }
 },
 "nbformat": 4,
 "nbformat_minor": 4
}
