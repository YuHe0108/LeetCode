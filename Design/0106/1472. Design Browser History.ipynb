{
 "cells": [
  {
   "cell_type": "code",
   "execution_count": 1,
   "metadata": {},
   "outputs": [],
   "source": [
    "a = [1, 2]"
   ]
  },
  {
   "cell_type": "code",
   "execution_count": 5,
   "metadata": {},
   "outputs": [
    {
     "data": {
      "text/plain": [
       "[1]"
      ]
     },
     "execution_count": 5,
     "metadata": {},
     "output_type": "execute_result"
    }
   ],
   "source": [
    "a[:1]"
   ]
  },
  {
   "cell_type": "code",
   "execution_count": null,
   "metadata": {},
   "outputs": [],
   "source": [
    "class BrowserHistory:\n",
    "\n",
    "    def __init__(self, homepage: str):\n",
    "        self.urls = [homepage]\n",
    "        self.idx = 0\n",
    "\n",
    "    def visit(self, url: str) -> None:\n",
    "        # self.idx之后的浏览记录就消除了\n",
    "        self.urls = self.urls[:self.idx+1]\n",
    "        self.urls.append(url)\n",
    "        self.idx = len(self.urls) - 1\n",
    "\n",
    "    def back(self, steps: int) -> str:\n",
    "        if steps >= self.idx:\n",
    "            self.idx = 0\n",
    "            return self.urls[0]\n",
    "        self.idx -= steps\n",
    "        return self.urls[self.idx]\n",
    "\n",
    "    def forward(self, steps: int) -> str:\n",
    "        if len(self.urls) - self.idx - 1 <= steps:\n",
    "            self.idx = len(self.urls) - 1\n",
    "            return self.urls[-1]\n",
    "        self.idx += steps\n",
    "        return self.urls[self.idx]"
   ]
  }
 ],
 "metadata": {
  "kernelspec": {
   "display_name": "Python 3",
   "language": "python",
   "name": "python3"
  },
  "language_info": {
   "codemirror_mode": {
    "name": "ipython",
    "version": 3
   },
   "file_extension": ".py",
   "mimetype": "text/x-python",
   "name": "python",
   "nbconvert_exporter": "python",
   "pygments_lexer": "ipython3",
   "version": "3.6.2"
  }
 },
 "nbformat": 4,
 "nbformat_minor": 4
}
