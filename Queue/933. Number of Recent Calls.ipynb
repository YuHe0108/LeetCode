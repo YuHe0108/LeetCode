{
 "cells": [
  {
   "cell_type": "raw",
   "metadata": {},
   "source": [
    "说明：\n",
    "    编写一个类LastCounter来计数最近的请求。\n",
    "    它只有一种方法：ping（int t），其中t表示某个时间（以毫秒为单位）。\n",
    "    返回从3000毫秒之前到现在的ping次数。时间[t-3000，t]中的任何ping都将计数，包括当前ping。\n",
    "    可以确保每次对ping的调用都严格使用比以前更大的t值。\n",
    "\n",
    "Example 1:\n",
    "    Input: \n",
    "        inputs = [\"RecentCounter\",\"ping\",\"ping\",\"ping\",\"ping\"], \n",
    "        inputs = [[],[1],[100],[3001],[3002]]\n",
    "    Output: \n",
    "        [null,1,2,3,3]\n",
    "        \n",
    "注意：\n",
    "    1、每个测试用例最多有10000个对ping的调用。\n",
    "    2、每个测试用例将使用严格递增的t值调用ping。\n",
    "    3、每次调用ping都将有1<=t<=10^9。\n",
    "\n",
    "队列 Queue 的特点：末尾添加元素、开头弹出元素\n",
    "    1、添加元素：queue.append(i)\n",
    "    2、弹出元素：queue.pop(0)"
   ]
  },
  {
   "cell_type": "code",
   "execution_count": 3,
   "metadata": {},
   "outputs": [],
   "source": [
    "class RecentCounter:\n",
    "\n",
    "    def __init__(self):\n",
    "        self.queue = []\n",
    "\n",
    "    def ping(self, t: int) -> int:\n",
    "        self.queue.append(t)\n",
    "        \n",
    "        while self.queue and self.queue[0] < t - 3000:\n",
    "            self.queue.pop(0)\n",
    "        \n",
    "        return len(self.queue)"
   ]
  },
  {
   "cell_type": "code",
   "execution_count": 4,
   "metadata": {},
   "outputs": [],
   "source": [
    "from collections import deque\n",
    "\n",
    "class RecentCounter:\n",
    "\n",
    "    def __init__(self):\n",
    "        self.queue = deque()\n",
    "\n",
    "    def ping(self, t: int) -> int:\n",
    "        self.queue.append(t)\n",
    "        \n",
    "        while self.queue and self.queue[0] < t - 3000:\n",
    "            self.queue.popleft()\n",
    "        \n",
    "        print(self.queue)\n",
    "        return len(self.queue)"
   ]
  },
  {
   "cell_type": "code",
   "execution_count": null,
   "metadata": {},
   "outputs": [],
   "source": []
  }
 ],
 "metadata": {
  "kernelspec": {
   "display_name": "Python 3",
   "language": "python",
   "name": "python3"
  },
  "language_info": {
   "codemirror_mode": {
    "name": "ipython",
    "version": 3
   },
   "file_extension": ".py",
   "mimetype": "text/x-python",
   "name": "python",
   "nbconvert_exporter": "python",
   "pygments_lexer": "ipython3",
   "version": "3.6.2"
  }
 },
 "nbformat": 4,
 "nbformat_minor": 4
}
